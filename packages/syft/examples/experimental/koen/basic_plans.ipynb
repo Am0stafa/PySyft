{
 "cells": [
  {
   "cell_type": "code",
   "execution_count": 1,
   "metadata": {},
   "outputs": [],
   "source": [
    "%load_ext autoreload\n",
    "%autoreload 2"
   ]
  },
  {
   "cell_type": "code",
   "execution_count": 2,
   "metadata": {},
   "outputs": [],
   "source": [
    "import syft as sy\n",
    "import torch as th\n",
    "import sys\n",
    "\n",
    "from syft.core.node.common.action.get_object_action import GetObjectAction\n",
    "from syft.core.node.common.action.function_or_constructor_action import (\n",
    "    RunFunctionOrConstructorAction,\n",
    ")\n",
    "from syft.core.node.common.action.run_class_method_action import RunClassMethodAction\n",
    "from syft.core.node.common.action.garbage_collect_object_action import (\n",
    "    GarbageCollectObjectAction,\n",
    ")\n",
    "from syft.core.node.common.action.get_enum_attribute_action import EnumAttributeAction\n",
    "from syft.core.node.common.action.get_or_set_property_action import (\n",
    "    GetOrSetPropertyAction,\n",
    "    PropertyActions,\n",
    ")\n",
    "from syft.core.node.common.action.get_or_set_static_attribute_action import (\n",
    "    GetSetStaticAttributeAction,\n",
    "    StaticAttributeAction,\n",
    ")\n",
    "from syft.core.node.common.action.save_object_action import SaveObjectAction\n",
    "from syft.core.store.storeable_object import StorableObject\n",
    "\n",
    "\n",
    "from syft.core.node.common.action.common import Action\n",
    "from syft.proto.core.plan.plan_pb2 import Plan as Plan_PB\n",
    "\n",
    "from typing import List\n",
    "from syft.core.common.uid import UID\n",
    "from syft.core.io.address import Address\n",
    "from syft.core.common.serde.deserialize import _deserialize\n",
    "from syft.core.common.object import Serializable\n",
    "from syft.proto.core.node.common.action.action_pb2 import Action as Action_PB\n",
    "from syft import Plan\n",
    "from syft.core.pointer.pointer import Pointer"
   ]
  },
  {
   "cell_type": "markdown",
   "metadata": {},
   "source": [
    "# Plans"
   ]
  },
  {
   "cell_type": "markdown",
   "metadata": {},
   "source": [
    "## Serialization"
   ]
  },
  {
   "cell_type": "code",
   "execution_count": 3,
   "metadata": {},
   "outputs": [],
   "source": [
    "# cumbersome way to get a pointer as input for our actions,\n",
    "# there is probably a better/shorter way\n",
    "alice = sy.VirtualMachine(name=\"alice\")\n",
    "alice_client = alice.get_client()\n",
    "t = th.tensor([1, 2, 3])\n",
    "tensor_pointer = t.send(alice_client)"
   ]
  },
  {
   "cell_type": "code",
   "execution_count": 4,
   "metadata": {},
   "outputs": [],
   "source": [
    "a1 = GetObjectAction(\n",
    "    id_at_location=UID(), address=Address(), reply_to=Address(), msg_id=UID()\n",
    ")\n",
    "a2 = RunFunctionOrConstructorAction(\n",
    "    path=\"torch.Tensor.add\",\n",
    "    args=tuple(),\n",
    "    kwargs={},\n",
    "    id_at_location=UID(),\n",
    "    address=Address(),\n",
    "    msg_id=UID(),\n",
    ")\n",
    "\n",
    "a3 = RunClassMethodAction(\n",
    "    path=\"torch.Tensor.add\",\n",
    "    _self=tensor_pointer,\n",
    "    args=[],\n",
    "    kwargs={},\n",
    "    id_at_location=UID(),\n",
    "    address=Address(),\n",
    "    msg_id=UID(),\n",
    ")\n",
    "\n",
    "a4 = GarbageCollectObjectAction(id_at_location=UID(), address=Address())\n",
    "a5 = EnumAttributeAction(path=\"\", id_at_location=UID(), address=Address())\n",
    "\n",
    "a6 = GetOrSetPropertyAction(\n",
    "    path=\"\",\n",
    "    _self=tensor_pointer,\n",
    "    id_at_location=UID(),\n",
    "    address=Address(),\n",
    "    args=[],\n",
    "    kwargs={},\n",
    "    action=PropertyActions.GET,\n",
    ")\n",
    "a7 = GetSetStaticAttributeAction(\n",
    "    path=\"\", id_at_location=UID(), address=Address(), action=StaticAttributeAction.GET\n",
    ")\n",
    "a8 = SaveObjectAction(obj=StorableObject(id=UID(), data=t), address=Address())"
   ]
  },
  {
   "cell_type": "code",
   "execution_count": 5,
   "metadata": {},
   "outputs": [],
   "source": [
    "plan = Plan([a1, a2, a3, a4, a5, a6, a7, a8])"
   ]
  },
  {
   "cell_type": "code",
   "execution_count": 6,
   "metadata": {},
   "outputs": [],
   "source": [
    "blob = sy.serialize(plan)\n",
    "plan_reconstructed = sy.deserialize(blob=blob)"
   ]
  },
  {
   "cell_type": "code",
   "execution_count": 7,
   "metadata": {},
   "outputs": [],
   "source": [
    "assert isinstance(plan_reconstructed, Plan)\n",
    "assert all(isinstance(a, Action) for a in plan_reconstructed.actions)"
   ]
  },
  {
   "cell_type": "markdown",
   "metadata": {},
   "source": [
    "## Batched Execution"
   ]
  },
  {
   "cell_type": "code",
   "execution_count": 8,
   "metadata": {},
   "outputs": [],
   "source": [
    "alice = sy.VirtualMachine(name=\"alice\")\n",
    "alice_client = alice.get_client()"
   ]
  },
  {
   "cell_type": "code",
   "execution_count": 9,
   "metadata": {},
   "outputs": [],
   "source": [
    "# placeholders for our input\n",
    "input_tensor_pointer1 = th.tensor([0, 0]).send(alice_client)\n",
    "input_tensor_pointer2 = th.tensor([0, 0]).send(alice_client)\n",
    "\n",
    "# tensors in our model\n",
    "model_tensor_pointer1 = th.tensor([1, 2]).send(alice_client)\n",
    "model_tensor_pointer2 = th.tensor([3, 4]).send(alice_client)\n",
    "\n",
    "# placeholders for intermediate results\n",
    "result_tensor_pointer1 = th.tensor([0, 0]).send(alice_client)\n",
    "result_tensor_pointer2 = th.tensor([0, 0]).send(alice_client)\n",
    "result_tensor_pointer3 = th.tensor([0, 0]).send(alice_client)\n",
    "\n",
    "result1_uid = result_tensor_pointer1.id_at_location\n",
    "result2_uid = result_tensor_pointer2.id_at_location\n",
    "result3_uid = result_tensor_pointer3.id_at_location"
   ]
  },
  {
   "cell_type": "code",
   "execution_count": 10,
   "metadata": {},
   "outputs": [],
   "source": [
    "a1 = RunClassMethodAction(\n",
    "    path=\"torch.Tensor.mul\",\n",
    "    _self=input_tensor_pointer1,\n",
    "    args=[model_tensor_pointer1],\n",
    "    kwargs={},\n",
    "    id_at_location=result1_uid,\n",
    "    address=Address(),\n",
    "    msg_id=UID(),\n",
    ")\n",
    "\n",
    "a2 = RunClassMethodAction(\n",
    "    path=\"torch.Tensor.add\",\n",
    "    _self=result_tensor_pointer1,\n",
    "    args=[model_tensor_pointer2],\n",
    "    kwargs={},\n",
    "    id_at_location=result2_uid,\n",
    "    address=Address(),\n",
    "    msg_id=UID(),\n",
    ")\n",
    "\n",
    "a3 = RunFunctionOrConstructorAction(\n",
    "    path=\"torch.eq\",\n",
    "    args=[result_tensor_pointer2, input_tensor_pointer2],\n",
    "    kwargs={},\n",
    "    id_at_location=result3_uid,\n",
    "    address=Address(),\n",
    "    msg_id=UID(),\n",
    ")\n",
    "\n",
    "plan = Plan(\n",
    "    [a1, a2, a3],\n",
    "    inputs={\"x\": input_tensor_pointer1, \"y\": input_tensor_pointer2},\n",
    "    outputs=result_tensor_pointer3,\n",
    ")"
   ]
  },
  {
   "cell_type": "code",
   "execution_count": 11,
   "metadata": {},
   "outputs": [],
   "source": [
    "plan_pointer = plan.send(alice_client)"
   ]
  },
  {
   "cell_type": "code",
   "execution_count": 12,
   "metadata": {
    "scrolled": false
   },
   "outputs": [],
   "source": [
    "# x is random input, y is the expected model(x)\n",
    "x_batches = [(th.tensor([1, 1]) + i).send(alice_client) for i in range(2)]\n",
    "y_batches = [\n",
    "    (((th.tensor([1, 1]) + i) * th.tensor([1, 2])) + th.tensor([3, 4])).send(\n",
    "        alice_client\n",
    "    )\n",
    "    for i in range(2)\n",
    "]\n",
    "\n",
    "for x, y in zip(x_batches, y_batches):\n",
    "\n",
    "    res = plan_pointer(x=x, y=y)\n",
    "    # checks if (model(x) == y) == [True, True]\n",
    "    assert all(*res.get())"
   ]
  },
  {
   "cell_type": "code",
   "execution_count": null,
   "metadata": {},
   "outputs": [],
   "source": []
  }
 ],
 "metadata": {
  "kernelspec": {
   "display_name": "Python 3",
   "language": "python",
   "name": "python3"
  },
  "language_info": {
   "codemirror_mode": {
    "name": "ipython",
    "version": 3
   },
   "file_extension": ".py",
   "mimetype": "text/x-python",
   "name": "python",
   "nbconvert_exporter": "python",
   "pygments_lexer": "ipython3",
   "version": "3.7.9"
  },
  "toc": {
   "base_numbering": 1,
   "nav_menu": {},
   "number_sections": true,
   "sideBar": true,
   "skip_h1_title": false,
   "title_cell": "Table of Contents",
   "title_sidebar": "Contents",
   "toc_cell": false,
   "toc_position": {
    "height": "calc(100% - 180px)",
    "left": "10px",
    "top": "150px",
    "width": "374.391px"
   },
   "toc_section_display": true,
   "toc_window_display": true
  }
 },
 "nbformat": 4,
 "nbformat_minor": 4
}
