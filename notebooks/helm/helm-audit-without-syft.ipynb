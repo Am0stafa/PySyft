{
 "cells": [
  {
   "cell_type": "code",
   "execution_count": 1,
   "metadata": {},
   "outputs": [],
   "source": [
    "# stdlib\n",
    "from collections import defaultdict\n",
    "import glob\n",
    "import json\n",
    "import os\n",
    "import re\n",
    "from string import punctuation\n",
    "\n",
    "# third party\n",
    "from nltk import ngrams\n",
    "import tqdm"
   ]
  },
  {
   "cell_type": "code",
   "execution_count": 2,
   "metadata": {},
   "outputs": [],
   "source": [
    "# # stdlib\n",
    "# import subprocess\n",
    "\n",
    "# helm_process = subprocess.run(\n",
    "#     [\n",
    "#         \"python\",\n",
    "#         \"/home/teo/helm/scripts/data_overlap/compute_data_overlap_metrics.py\",\n",
    "#         \"--scenario-data\",\n",
    "#         \"/home/teo/helm/scripts/data_overlap/scenario_data.jsonl\",\n",
    "#         \"--input-data\",\n",
    "#         \"short_input.jsonl\",\n",
    "#         \"--output-stats\",\n",
    "#         \"/home/teo/helm/scripts/data_overlap/output_stats.jsonl\",\n",
    "#         \"--input-format\",\n",
    "#         \"the_pile\",\n",
    "#     ]\n",
    "# )"
   ]
  },
  {
   "cell_type": "code",
   "execution_count": 3,
   "metadata": {},
   "outputs": [],
   "source": [
    "PART_INPUT: str = \"input\"\n",
    "PART_REF: str = \"references\"\n",
    "\n",
    "r = re.compile(rf\"[\\s{re.escape(punctuation)}]+\")\n",
    "\n",
    "\n",
    "def create_ngram_index(light_scenarios, n_values, stats_key_counts):\n",
    "    ngram_index = {n: {} for n in n_values}\n",
    "    for scenario in tqdm.tqdm(light_scenarios):\n",
    "        # print(f\"Building ngram indexes for {scenario['scenario_key']}\")\n",
    "        for n in n_values:\n",
    "            stats_key = scenario[\"scenario_key\"] + \"_\" + str(n)\n",
    "            stats_key_counts[stats_key] = len(scenario[\"instances\"])\n",
    "            for instance in scenario[\"instances\"]:\n",
    "                id = instance[\"id\"]\n",
    "                assert id\n",
    "\n",
    "                input_tokens = r.split(instance[\"input\"].lower())\n",
    "                for input_ngram in ngrams(input_tokens, n):\n",
    "                    if input_ngram not in ngram_index[n]:\n",
    "                        ngram_index[n][input_ngram] = set()\n",
    "                    ngram_index[n][input_ngram].add(\n",
    "                        stats_key + \"+\" + id + \"+\" + PART_INPUT\n",
    "                    )\n",
    "\n",
    "                # compute reference ngrams\n",
    "                for reference in instance[\"references\"]:\n",
    "                    reference_unigrams = r.split(reference.lower())\n",
    "                    for reference_ngram in ngrams(reference_unigrams, n):\n",
    "                        if reference_ngram not in ngram_index[n]:\n",
    "                            ngram_index[n][reference_ngram] = set()\n",
    "                        ngram_index[n][reference_ngram].add(\n",
    "                            stats_key + \"+\" + id + \"+\" + PART_REF\n",
    "                        )\n",
    "    return ngram_index"
   ]
  },
  {
   "cell_type": "code",
   "execution_count": 4,
   "metadata": {},
   "outputs": [],
   "source": [
    "def compute_document_data_overlap(document, ngram_index):\n",
    "    stats_key_to_input_ids = defaultdict(set)\n",
    "    stats_key_to_reference_ids = defaultdict(set)\n",
    "    document_tokens = r.split(document.lower())\n",
    "    for n in ngram_index.keys():\n",
    "        for document_ngram in ngrams(document_tokens, n):\n",
    "            if document_ngram in ngram_index[n]:\n",
    "                for entry_overlap_key in ngram_index[n][document_ngram]:\n",
    "                    stats_key, id, part = entry_overlap_key.split(\"+\")\n",
    "                    if part == PART_INPUT:\n",
    "                        stats_key_to_input_ids[stats_key].add(id)\n",
    "                    elif part == PART_REF:\n",
    "                        stats_key_to_reference_ids[stats_key].add(id)\n",
    "    return stats_key_to_input_ids, stats_key_to_reference_ids"
   ]
  },
  {
   "cell_type": "code",
   "execution_count": 5,
   "metadata": {},
   "outputs": [],
   "source": [
    "scenario_data_path = \"/Users/koen/Downloads/filtered_scenario_data_new.jsonl\""
   ]
  },
  {
   "cell_type": "code",
   "execution_count": 8,
   "metadata": {},
   "outputs": [],
   "source": [
    "# stdlib\n",
    "import sys"
   ]
  },
  {
   "cell_type": "code",
   "execution_count": 10,
   "metadata": {},
   "outputs": [],
   "source": [
    "all_lines = open(scenario_data_path).read()"
   ]
  },
  {
   "cell_type": "code",
   "execution_count": 16,
   "metadata": {},
   "outputs": [
    {
     "data": {
      "text/plain": [
       "167.00667"
      ]
     },
     "execution_count": 16,
     "metadata": {},
     "output_type": "execute_result"
    }
   ],
   "source": [
    "sys.getsizeof(all_lines) / 1000000"
   ]
  },
  {
   "cell_type": "code",
   "execution_count": 18,
   "metadata": {},
   "outputs": [
    {
     "name": "stdout",
     "output_type": "stream",
     "text": [
      "CPU times: user 663 ms, sys: 149 ms, total: 812 ms\n",
      "Wall time: 812 ms\n"
     ]
    }
   ],
   "source": [
    "%%time\n",
    "light_scenarios = []\n",
    "light_scenario_jsons = open(scenario_data_path).readlines()\n",
    "for light_scenario_json in light_scenario_jsons:\n",
    "    light_scenario_dict: dict = json.loads(light_scenario_json)\n",
    "\n",
    "    light_scenario_key_dict: dict = light_scenario_dict[\"scenario_key\"]\n",
    "    # if the light_scenarios are exported from helm, they will have a scenario_spec field\n",
    "    # subject_spec = light_scenario_key_dict[\"scenario_spec\"]['args']['subject']\n",
    "    scenario_spec = str(light_scenario_key_dict[\"scenario_spec\"])\n",
    "    light_scenario_key = scenario_spec + \"_\" + light_scenario_key_dict[\"split\"]\n",
    "    light_instances = [\n",
    "        {\n",
    "            \"input\": instance_dict[PART_INPUT],\n",
    "            \"references\": instance_dict[PART_REF],\n",
    "            \"id\": instance_dict[\"id\"],\n",
    "        }\n",
    "        for instance_dict in light_scenario_dict[\"instances\"]\n",
    "    ]\n",
    "    light_scenarios.append(\n",
    "        {\"scenario_key\": light_scenario_key, \"instances\": light_instances}\n",
    "    )"
   ]
  },
  {
   "cell_type": "code",
   "execution_count": 19,
   "metadata": {},
   "outputs": [
    {
     "name": "stdout",
     "output_type": "stream",
     "text": [
      "The input data will be loaded from ['short_input.jsonl']\n",
      "Loading scenario data from /Users/koen/Downloads/filtered_scenario_data_new.jsonl\n"
     ]
    },
    {
     "name": "stderr",
     "output_type": "stream",
     "text": [
      "100%|█████████████████████████████████████████████████| 241/241 [27:11<00:00,  6.77s/it]"
     ]
    },
    {
     "name": "stdout",
     "output_type": "stream",
     "text": [
      "CPU times: user 4min 48s, sys: 12min 52s, total: 17min 41s\n",
      "Wall time: 27min 11s\n"
     ]
    },
    {
     "name": "stderr",
     "output_type": "stream",
     "text": [
      "\n"
     ]
    }
   ],
   "source": [
    "%%time\n",
    "input_data_path = \"short_input.jsonl\"\n",
    "# scenario_data_path = \"/home/teo/helm/scripts/data_overlap/scenario_data.jsonl\"\n",
    "# scenario_data_path = \"/home/teo/helm/scripts/data_overlap/scenario_data.jsonl\"\n",
    "output_path = \"output2.jsonl\"\n",
    "normalization = \"default\"\n",
    "N = [5, 9, 13]\n",
    "\n",
    "\n",
    "print(f\"Loading scenario data from {scenario_data_path}\")\n",
    "\n",
    "\n",
    "stats_key_counts = defaultdict(int)\n",
    "ngram_index = create_ngram_index(\n",
    "    light_scenarios=light_scenarios, n_values=N, stats_key_counts=stats_key_counts\n",
    ")"
   ]
  },
  {
   "cell_type": "code",
   "execution_count": null,
   "metadata": {},
   "outputs": [],
   "source": [
    "# SETUP\n",
    "if os.path.isdir(input_data_path):\n",
    "    input_file_paths = []\n",
    "    for file_path in glob.iglob(os.path.join(input_data_path, \"**/*\"), recursive=True):\n",
    "        if os.path.isfile(file_path):\n",
    "            input_file_paths.append(file_path)\n",
    "else:\n",
    "    input_file_paths = [input_data_path]\n",
    "print(f\"The input data will be loaded from {input_file_paths}\")"
   ]
  },
  {
   "cell_type": "code",
   "execution_count": 16,
   "metadata": {},
   "outputs": [
    {
     "name": "stdout",
     "output_type": "stream",
     "text": [
      "Written 723 results to output2.jsonl\n"
     ]
    }
   ],
   "source": [
    "stats_key_to_input_ids = []\n",
    "stats_key_to_reference_ids = []\n",
    "\n",
    "# BATCH PROCESSING\n",
    "for input_file_index in tqdm.tqdm(\n",
    "    range(len(input_file_paths)),\n",
    "    desc=\"Computing overlap stats for input files\",\n",
    "    disable=None,\n",
    "):\n",
    "    input_file_path: str = input_file_paths[input_file_index]\n",
    "    with open(input_file_path) as f:\n",
    "        for line in f:\n",
    "            document = json.loads(line)[\"text\"]\n",
    "            doc_input_ids, doc_ref_ids = compute_document_data_overlap(\n",
    "                document=document,\n",
    "                ngram_index=ngram_index,\n",
    "            )\n",
    "            stats_key_to_input_ids.append(doc_input_ids)\n",
    "            stats_key_to_reference_ids.append(doc_ref_ids)\n",
    "\n",
    "# AGGREGATION\n",
    "total_input_ids = defaultdict(set)\n",
    "total_reference_ids = defaultdict(set)\n",
    "\n",
    "for d in stats_key_to_input_ids:\n",
    "    for key in d:\n",
    "        new_set = set()\n",
    "        if key in total_input_ids:\n",
    "            new_set = total_input_ids[key]\n",
    "        new_set = new_set.union(d[key])\n",
    "        total_input_ids[key] = new_set\n",
    "\n",
    "for d in stats_key_to_reference_ids:\n",
    "    for key in d:\n",
    "        new_set = set()\n",
    "        if key in total_reference_ids:\n",
    "            new_set = total_reference_ids[key]\n",
    "        new_set = total_reference_ids[key].union(d[key])\n",
    "        total_reference_ids[key] = new_set\n",
    "\n",
    "all_data_overlap_stats = []\n",
    "for stats_key, count in stats_key_counts.items():\n",
    "    data_overlap_stats = {\n",
    "        \"data_overlap_stats_key\": None,\n",
    "        \"num_instances\": count,\n",
    "        \"instance_ids_with_overlapping_input\": sorted(total_input_ids[stats_key]),\n",
    "        \"instance_ids_with_overlapping_reference\": sorted(\n",
    "            total_reference_ids[stats_key]\n",
    "        ),\n",
    "    }\n",
    "    # print(stats_key)\n",
    "    subject, split, n_str = stats_key.rsplit(\"_\", 2)\n",
    "    data_overlap_stats[\"data_overlap_stats_key\"] = {\n",
    "        \"light_scenario_key\": {\"scenario_spec\": subject, \"split\": split},\n",
    "        \"overlap_protocol_spec\": {\"n\": int(n_str)},\n",
    "    }\n",
    "    all_data_overlap_stats.append(data_overlap_stats)\n",
    "\n",
    "with open(output_path, \"w\") as f:\n",
    "    f.writelines(\n",
    "        f\"{json.dumps(data_overlap_stats)}\\n\"\n",
    "        for data_overlap_stats in all_data_overlap_stats\n",
    "    )\n",
    "print(f\"Written {len(all_data_overlap_stats)} results to {output_path}\")"
   ]
  },
  {
   "cell_type": "code",
   "execution_count": 6,
   "metadata": {},
   "outputs": [
    {
     "name": "stderr",
     "output_type": "stream",
     "text": [
      "kj/filesystem-disk-unix.c++:1703: warning: PWD environment variable doesn't match current directory; pwd = /home/teo/OpenMined/PySyft\n"
     ]
    }
   ],
   "source": [
    "# syft absolute"
   ]
  }
 ],
 "metadata": {
  "kernelspec": {
   "display_name": "Python 3 (ipykernel)",
   "language": "python",
   "name": "python3"
  },
  "language_info": {
   "codemirror_mode": {
    "name": "ipython",
    "version": 3
   },
   "file_extension": ".py",
   "mimetype": "text/x-python",
   "name": "python",
   "nbconvert_exporter": "python",
   "pygments_lexer": "ipython3",
   "version": "3.9.16"
  },
  "toc": {
   "base_numbering": 1,
   "nav_menu": {},
   "number_sections": true,
   "sideBar": true,
   "skip_h1_title": false,
   "title_cell": "Table of Contents",
   "title_sidebar": "Contents",
   "toc_cell": false,
   "toc_position": {},
   "toc_section_display": true,
   "toc_window_display": true
  }
 },
 "nbformat": 4,
 "nbformat_minor": 2
}
