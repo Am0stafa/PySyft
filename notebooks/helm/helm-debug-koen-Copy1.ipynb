{
 "cells": [
  {
   "cell_type": "code",
   "execution_count": 1,
   "id": "a196017f",
   "metadata": {},
   "outputs": [
    {
     "name": "stderr",
     "output_type": "stream",
     "text": [
      "kj/filesystem-disk-unix.c++:1703: warning: PWD environment variable doesn't match current directory; pwd = /Users/koen/workspace/pysyft/notebooks\n"
     ]
    }
   ],
   "source": [
    "import syft as sy\n",
    "from syft import ActionObject\n",
    "from syft import syft_function, syft_function_single_use\n",
    "from time import sleep"
   ]
  },
  {
   "cell_type": "code",
   "execution_count": 2,
   "id": "95e55a0a",
   "metadata": {},
   "outputs": [],
   "source": [
    "# subprocess.check_output(\n",
    "#         [lsof_path, \"-w\", \"-Fd\", \"-p\", str(os.getpid())]\n",
    "#     ).decode().split(os.linesep)"
   ]
  },
  {
   "cell_type": "code",
   "execution_count": 3,
   "id": "dcd8f67c",
   "metadata": {},
   "outputs": [],
   "source": [
    "import os\n",
    "from syft.service.queue.zmq_queue import ZMQQueueConfig, ZMQClientConfig\n",
    "import psutil\n",
    "import inspect"
   ]
  },
  {
   "cell_type": "code",
   "execution_count": 4,
   "id": "151a3517",
   "metadata": {},
   "outputs": [],
   "source": [
    "from collections import Counter\n",
    "def print_open_files():\n",
    "    import psutil\n",
    "\n",
    "    files = psutil.Process(pid=os.getpid()).open_files()\n",
    "    print('len(files):', len(files))\n",
    "    print(Counter([f.path for f in files]))\n",
    "#     for f in files:\n",
    "#         print('FD:', f.fd, f.path)\n",
    "    "
   ]
  },
  {
   "cell_type": "markdown",
   "id": "cb2d07de",
   "metadata": {},
   "source": [
    "with server"
   ]
  },
  {
   "cell_type": "code",
   "execution_count": 5,
   "id": "4cbee0b1",
   "metadata": {},
   "outputs": [],
   "source": [
    "# client = sy.login(port=8800, email=\"info@openmined.org\", password=\"changethis\")"
   ]
  },
  {
   "cell_type": "markdown",
   "id": "6c9ce5a0",
   "metadata": {},
   "source": [
    "Without server"
   ]
  },
  {
   "cell_type": "code",
   "execution_count": 6,
   "id": "46b2c271",
   "metadata": {},
   "outputs": [],
   "source": [
    "# get_open_fds()"
   ]
  },
  {
   "cell_type": "code",
   "execution_count": 7,
   "id": "0e8e3591",
   "metadata": {},
   "outputs": [],
   "source": [
    "# node.python_node"
   ]
  },
  {
   "cell_type": "code",
   "execution_count": 8,
   "id": "42789c70",
   "metadata": {},
   "outputs": [
    {
     "name": "stdout",
     "output_type": "stream",
     "text": [
      "CREATING A CONSUMER ON tcp://127.0.0.1:None\n",
      "spawning thread\n",
      "CREATING A CONSUMER ON tcp://127.0.0.1:None\n",
      "spawning thread\n",
      "CREATING A CONSUMER ON tcp://127.0.0.1:None\n",
      "spawning thread\n"
     ]
    }
   ],
   "source": [
    "worker_node = sy.orchestra.launch(name=\"worker-node-helm1\", dev_mode=True, reset=True,\n",
    "                                  n_consumers=3,\n",
    "                                  queue_config=ZMQQueueConfig(client_config=ZMQClientConfig(create_producer=False)))\n"
   ]
  },
  {
   "cell_type": "code",
   "execution_count": 9,
   "id": "9b31c627",
   "metadata": {},
   "outputs": [],
   "source": [
    "# node = sy.orchestra.launch(name=\"test-domain-helm2\", dev_mode=True, reset=True, n_consumers=3)\n",
    "# client = node.login(email=\"info@openmined.org\", password=\"changethis\")"
   ]
  },
  {
   "cell_type": "code",
   "execution_count": null,
   "id": "2a68ce29",
   "metadata": {},
   "outputs": [],
   "source": [
    "sleep(10)"
   ]
  },
  {
   "cell_type": "code",
   "execution_count": null,
   "id": "56b1592a",
   "metadata": {},
   "outputs": [],
   "source": []
  },
  {
   "cell_type": "code",
   "execution_count": null,
   "id": "662179b1",
   "metadata": {},
   "outputs": [],
   "source": []
  },
  {
   "cell_type": "code",
   "execution_count": null,
   "id": "7630e181",
   "metadata": {},
   "outputs": [],
   "source": []
  },
  {
   "cell_type": "code",
   "execution_count": 15,
   "id": "f95c38a0",
   "metadata": {},
   "outputs": [],
   "source": [
    "import zmq"
   ]
  },
  {
   "cell_type": "code",
   "execution_count": 3,
   "id": "48766361",
   "metadata": {},
   "outputs": [
    {
     "data": {
      "text/plain": [
       "35"
      ]
     },
     "execution_count": 3,
     "metadata": {},
     "output_type": "execute_result"
    }
   ],
   "source": [
    "zmq.zmq_errno()"
   ]
  },
  {
   "cell_type": "code",
   "execution_count": 4,
   "id": "a4d8596d",
   "metadata": {},
   "outputs": [],
   "source": [
    "# zmq.constants"
   ]
  },
  {
   "cell_type": "code",
   "execution_count": 5,
   "id": "3194cc51",
   "metadata": {},
   "outputs": [
    {
     "data": {
      "text/plain": [
       "'Resource temporarily unavailable'"
      ]
     },
     "execution_count": 5,
     "metadata": {},
     "output_type": "execute_result"
    }
   ],
   "source": [
    "zmq.strerror(35)"
   ]
  },
  {
   "cell_type": "code",
   "execution_count": null,
   "id": "df1c5f74",
   "metadata": {},
   "outputs": [],
   "source": []
  },
  {
   "cell_type": "code",
   "execution_count": null,
   "id": "dffb3a02",
   "metadata": {},
   "outputs": [],
   "source": []
  },
  {
   "cell_type": "code",
   "execution_count": null,
   "id": "94571eaa",
   "metadata": {},
   "outputs": [],
   "source": []
  },
  {
   "cell_type": "code",
   "execution_count": null,
   "id": "42791b47",
   "metadata": {},
   "outputs": [],
   "source": []
  },
  {
   "cell_type": "code",
   "execution_count": null,
   "id": "217e05e6",
   "metadata": {},
   "outputs": [],
   "source": []
  },
  {
   "cell_type": "code",
   "execution_count": null,
   "id": "491fdba4",
   "metadata": {},
   "outputs": [],
   "source": []
  },
  {
   "cell_type": "code",
   "execution_count": null,
   "id": "29b1e1a4",
   "metadata": {},
   "outputs": [],
   "source": []
  },
  {
   "cell_type": "code",
   "execution_count": null,
   "id": "735f74f8",
   "metadata": {},
   "outputs": [],
   "source": []
  },
  {
   "cell_type": "code",
   "execution_count": null,
   "id": "9c2124eb",
   "metadata": {},
   "outputs": [],
   "source": []
  },
  {
   "cell_type": "code",
   "execution_count": null,
   "id": "92233d3e",
   "metadata": {},
   "outputs": [],
   "source": []
  },
  {
   "cell_type": "code",
   "execution_count": null,
   "id": "75a80fe1",
   "metadata": {},
   "outputs": [],
   "source": []
  },
  {
   "cell_type": "code",
   "execution_count": null,
   "id": "176dc25e",
   "metadata": {},
   "outputs": [],
   "source": []
  },
  {
   "cell_type": "code",
   "execution_count": null,
   "id": "bfcd6c71",
   "metadata": {},
   "outputs": [],
   "source": []
  },
  {
   "cell_type": "code",
   "execution_count": null,
   "id": "7831612b",
   "metadata": {},
   "outputs": [],
   "source": []
  },
  {
   "cell_type": "code",
   "execution_count": null,
   "id": "9caca3c2",
   "metadata": {},
   "outputs": [],
   "source": []
  },
  {
   "cell_type": "code",
   "execution_count": 14,
   "id": "830cb5cf",
   "metadata": {},
   "outputs": [
    {
     "name": "stdout",
     "output_type": "stream",
     "text": [
      "CREATING A CONSUMER ON tcp://127.0.0.1:None\n",
      "spawning thread\n",
      "CREATING A CONSUMER ON tcp://127.0.0.1:None\n",
      "spawning thread\n",
      "CREATING A CONSUMER ON tcp://127.0.0.1:None\n",
      "spawning thread\n",
      "CREATING A CONSUMER ON tcp://127.0.0.1:None\n",
      "spawning thread\n",
      "CREATING A CONSUMER ON tcp://127.0.0.1:None\n",
      "spawning thread\n",
      "CREATING A CONSUMER ON tcp://127.0.0.1:None\n",
      "spawning thread\n",
      "CREATING A CONSUMER ON tcp://127.0.0.1:None\n",
      "spawning thread\n",
      "CREATING A CONSUMER ON tcp://127.0.0.1:None\n",
      "spawning thread\n",
      "CREATING A CONSUMER ON tcp://127.0.0.1:None\n",
      "spawning thread\n",
      "CREATING A CONSUMER ON tcp://127.0.0.1:None\n",
      "spawning thread\n"
     ]
    }
   ],
   "source": [
    "worker_node = sy.orchestra.launch(name=\"worker-node-helm1\", dev_mode=True, reset=True,\n",
    "                                  n_consumers=10,\n",
    "                                  queue_config=ZMQQueueConfig(client_config=ZMQClientConfig(create_producer=False)))\n"
   ]
  },
  {
   "cell_type": "code",
   "execution_count": null,
   "id": "074b4935",
   "metadata": {},
   "outputs": [],
   "source": []
  },
  {
   "cell_type": "code",
   "execution_count": 18,
   "id": "1a612f09",
   "metadata": {},
   "outputs": [],
   "source": [
    "# from gevent import monkey"
   ]
  },
  {
   "cell_type": "code",
   "execution_count": 19,
   "id": "67a1ee69",
   "metadata": {},
   "outputs": [],
   "source": [
    "# monkey.patch_all(thread=True)"
   ]
  },
  {
   "cell_type": "code",
   "execution_count": 20,
   "id": "475f6a75",
   "metadata": {},
   "outputs": [],
   "source": [
    "# type(node.python_node.queue_manager.consumers[\"api_call\"])"
   ]
  },
  {
   "cell_type": "code",
   "execution_count": 21,
   "id": "11728060",
   "metadata": {},
   "outputs": [],
   "source": [
    "# node.python_node.queue_manager.consumers[\"api_call\"][0].address"
   ]
  },
  {
   "cell_type": "markdown",
   "id": "176addfb",
   "metadata": {},
   "source": [
    "setup: compute train-test overlap between a very large train set and a smaller test set. Small test is still to big for memory, so we split it into 54 parts. We keep 1 of those parts in memory. We dont keep the train set in memory, but read and compare with 1/54 parts line by line. Each part takes ~30 hours, but we can run 54 processes in parallel."
   ]
  },
  {
   "cell_type": "markdown",
   "id": "a0cea81b",
   "metadata": {},
   "source": [
    "# Setup syft functions"
   ]
  },
  {
   "cell_type": "markdown",
   "id": "da2b114a",
   "metadata": {},
   "source": [
    "## Dataset"
   ]
  },
  {
   "cell_type": "code",
   "execution_count": 22,
   "id": "83307a2f",
   "metadata": {},
   "outputs": [],
   "source": [
    "x = ActionObject.from_obj([1,2])\n",
    "x_ptr = x.send(client)"
   ]
  },
  {
   "cell_type": "markdown",
   "id": "31bbb3ff",
   "metadata": {},
   "source": [
    "## Batch function"
   ]
  },
  {
   "cell_type": "code",
   "execution_count": 23,
   "id": "5d2fd248",
   "metadata": {},
   "outputs": [
    {
     "data": {
      "text/html": [
       "<div class=\"alert-success\" style=\"padding:5px;\"><strong>SyftSuccess</strong>: Syft function 'process_batch' successfully created. To add a code request, please create a project using `project = syft.Project(...)`, then use command `project.create_code_request`.</div><br />"
      ],
      "text/plain": [
       "SyftSuccess: Syft function 'process_batch' successfully created. To add a code request, please create a project using `project = syft.Project(...)`, then use command `project.create_code_request`."
      ]
     },
     "metadata": {},
     "output_type": "display_data"
    }
   ],
   "source": [
    "@syft_function()\n",
    "def process_batch(batch):\n",
    "    # takes 30 hours normally\n",
    "    print(f\"starting batch {batch}\")\n",
    "    from time import sleep\n",
    "    sleep(1)\n",
    "    print(\"done\")\n",
    "    return batch+1"
   ]
  },
  {
   "cell_type": "code",
   "execution_count": 24,
   "id": "9ba22655",
   "metadata": {},
   "outputs": [
    {
     "data": {
      "text/html": [
       "<div class=\"alert-success\" style=\"padding:5px;\"><strong>SyftSuccess</strong>: User Code Submitted</div><br />"
      ],
      "text/plain": [
       "SyftSuccess: User Code Submitted"
      ]
     },
     "execution_count": 24,
     "metadata": {},
     "output_type": "execute_result"
    }
   ],
   "source": [
    "client.code.submit(process_batch)"
   ]
  },
  {
   "cell_type": "markdown",
   "id": "01319f1f",
   "metadata": {},
   "source": [
    "## Main function"
   ]
  },
  {
   "cell_type": "code",
   "execution_count": 25,
   "id": "ca1b95ee",
   "metadata": {},
   "outputs": [
    {
     "data": {
      "text/html": [
       "<div class=\"alert-success\" style=\"padding:5px;\"><strong>SyftSuccess</strong>: Syft function 'process_all' successfully created. To add a code request, please create a project using `project = syft.Project(...)`, then use command `project.create_code_request`.</div><br />"
      ],
      "text/plain": [
       "SyftSuccess: Syft function 'process_all' successfully created. To add a code request, please create a project using `project = syft.Project(...)`, then use command `project.create_code_request`."
      ]
     },
     "metadata": {},
     "output_type": "display_data"
    }
   ],
   "source": [
    "@syft_function_single_use(x=x_ptr)\n",
    "def process_all(domain, x):\n",
    "    jobs = []\n",
    "    print(\"Launching jobs\")\n",
    "    for elem in x:\n",
    "        # We inject a domain object in the scope\n",
    "        from time import sleep\n",
    "        sleep(1)\n",
    "#         batch_job = domain.launch_job(process_batch, batch=elem)\n",
    "#         jobs += [batch_job]\n",
    "    print(\"starting aggregation\")\n",
    "    print(\"Done\")\n",
    "#     results = [x.wait().get() for x in jobs]\n",
    "    return 1\n",
    "#     return sum(results)"
   ]
  },
  {
   "cell_type": "markdown",
   "id": "1e77c5db",
   "metadata": {},
   "source": [
    "# Approve & run"
   ]
  },
  {
   "cell_type": "code",
   "execution_count": 26,
   "id": "0ab572f9",
   "metadata": {},
   "outputs": [
    {
     "name": "stdout",
     "output_type": "stream",
     "text": [
      "Request approved for domain test-domain-helm2\n"
     ]
    },
    {
     "data": {
      "text/html": [
       "<div class=\"alert-success\" style=\"padding:5px;\"><strong>SyftSuccess</strong>: Request d16c0d75c9b74428a2344650c09a577f changes applied</div><br />"
      ],
      "text/plain": [
       "SyftSuccess: Request d16c0d75c9b74428a2344650c09a577f changes applied"
      ]
     },
     "execution_count": 26,
     "metadata": {},
     "output_type": "execute_result"
    }
   ],
   "source": [
    "client.code.request_code_execution(process_all)\n",
    "client.requests[-1].approve()"
   ]
  },
  {
   "cell_type": "code",
   "execution_count": null,
   "id": "b73fdf11",
   "metadata": {},
   "outputs": [],
   "source": []
  },
  {
   "cell_type": "code",
   "execution_count": null,
   "id": "64a4f421",
   "metadata": {},
   "outputs": [],
   "source": []
  },
  {
   "cell_type": "code",
   "execution_count": null,
   "id": "16dd87c6",
   "metadata": {},
   "outputs": [],
   "source": []
  },
  {
   "cell_type": "code",
   "execution_count": null,
   "id": "b40d7f1c",
   "metadata": {},
   "outputs": [],
   "source": []
  },
  {
   "cell_type": "code",
   "execution_count": null,
   "id": "375ed965",
   "metadata": {
    "scrolled": true
   },
   "outputs": [],
   "source": [
    "job = client.code.process_all(x=x_ptr, blocking=False)\n",
    "sleep(5)"
   ]
  },
  {
   "cell_type": "code",
   "execution_count": null,
   "id": "a1afd4c5",
   "metadata": {},
   "outputs": [],
   "source": []
  },
  {
   "cell_type": "code",
   "execution_count": null,
   "id": "52163cc4",
   "metadata": {},
   "outputs": [],
   "source": []
  },
  {
   "cell_type": "code",
   "execution_count": null,
   "id": "728406d4",
   "metadata": {},
   "outputs": [],
   "source": []
  },
  {
   "cell_type": "code",
   "execution_count": null,
   "id": "7f5ace83",
   "metadata": {},
   "outputs": [],
   "source": []
  },
  {
   "cell_type": "code",
   "execution_count": null,
   "id": "e7a94e1c",
   "metadata": {},
   "outputs": [],
   "source": [
    "# print_open_files()"
   ]
  },
  {
   "cell_type": "code",
   "execution_count": null,
   "id": "7b8b2a2e",
   "metadata": {},
   "outputs": [],
   "source": [
    "res = job.wait().get()"
   ]
  },
  {
   "cell_type": "code",
   "execution_count": null,
   "id": "3cba7a2a",
   "metadata": {},
   "outputs": [],
   "source": [
    "res"
   ]
  },
  {
   "cell_type": "code",
   "execution_count": null,
   "id": "9cb2e2bf",
   "metadata": {},
   "outputs": [],
   "source": [
    "job.subjobs[0].logs()"
   ]
  },
  {
   "cell_type": "code",
   "execution_count": null,
   "id": "7fb84ccd",
   "metadata": {},
   "outputs": [],
   "source": [
    "job.subjobs[1].logs()"
   ]
  },
  {
   "cell_type": "code",
   "execution_count": null,
   "id": "7c892dcc",
   "metadata": {},
   "outputs": [],
   "source": [
    "# get_open_fds()"
   ]
  },
  {
   "cell_type": "markdown",
   "id": "3d141e3b",
   "metadata": {},
   "source": [
    "##### Next steps"
   ]
  },
  {
   "cell_type": "markdown",
   "id": "4e856437",
   "metadata": {},
   "source": [
    "\n",
    "\n",
    "- [x] seaweedfs\n",
    "- - [wip] merge into normal code\n",
    "- [x] Multiple consumers (queues)\n",
    "- - [x] implement messagequeue\n",
    "- - [x] integrate messagequeue with the rest of the code\n",
    "- [x] test flow with async main function\n",
    "- [x]  up datastructures for jobs and logs\n",
    "- - [x] set up reprs\n",
    "- [wip] integrate helm code\n",
    "- [ ] test on large machine"
   ]
  },
  {
   "cell_type": "code",
   "execution_count": null,
   "id": "5ab56b04",
   "metadata": {},
   "outputs": [],
   "source": []
  }
 ],
 "metadata": {
  "kernelspec": {
   "display_name": "Python 3 (ipykernel)",
   "language": "python",
   "name": "python3"
  },
  "language_info": {
   "codemirror_mode": {
    "name": "ipython",
    "version": 3
   },
   "file_extension": ".py",
   "mimetype": "text/x-python",
   "name": "python",
   "nbconvert_exporter": "python",
   "pygments_lexer": "ipython3",
   "version": "3.9.16"
  },
  "toc": {
   "base_numbering": 1,
   "nav_menu": {},
   "number_sections": true,
   "sideBar": true,
   "skip_h1_title": false,
   "title_cell": "Table of Contents",
   "title_sidebar": "Contents",
   "toc_cell": false,
   "toc_position": {},
   "toc_section_display": true,
   "toc_window_display": true
  }
 },
 "nbformat": 4,
 "nbformat_minor": 5
}
