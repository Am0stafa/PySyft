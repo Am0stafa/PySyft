{
 "cells": [
  {
   "cell_type": "code",
   "execution_count": 1,
   "metadata": {},
   "outputs": [
    {
     "name": "stderr",
     "output_type": "stream",
     "text": [
      "kj/filesystem-disk-unix.c++:1703: warning: PWD environment variable doesn't match current directory; pwd = /Users/koen/workspace/pysyft\n"
     ]
    }
   ],
   "source": [
    "# syft absolute\n",
    "import syft as sy\n",
    "from syft import ActionObject\n",
    "from syft import syft_function\n",
    "from syft import syft_function_single_use"
   ]
  },
  {
   "cell_type": "code",
   "execution_count": 3,
   "metadata": {},
   "outputs": [
    {
     "name": "stdout",
     "output_type": "stream",
     "text": [
      "Staging Protocol Changes...\n",
      "Data Migrated to latest version !!!\n",
      "Logged into <test-domain-helm2: High side Domain> as <info@openmined.org>\n"
     ]
    },
    {
     "data": {
      "text/html": [
       "<div class=\"alert-warning\" style=\"padding:5px;\"><strong>SyftWarning</strong>: You are using a default password. Please change the password using `[your_client].me.set_password([new_password])`.</div><br />"
      ],
      "text/plain": [
       "SyftWarning: You are using a default password. Please change the password using `[your_client].me.set_password([new_password])`."
      ]
     },
     "metadata": {},
     "output_type": "display_data"
    }
   ],
   "source": [
    "node = sy.orchestra.launch(\n",
    "    name=\"test-domain-helm2\",\n",
    "    dev_mode=True,\n",
    "    reset=True,\n",
    "    n_consumers=3,\n",
    "    create_producer=True,\n",
    "    queue_port=3322,\n",
    ")\n",
    "\n",
    "client = node.login(email=\"info@openmined.org\", password=\"changethis\")"
   ]
  },
  {
   "cell_type": "code",
   "execution_count": 4,
   "metadata": {},
   "outputs": [],
   "source": [
    "x = ActionObject.from_obj([1, 2])\n",
    "x_ptr = x.send(client)"
   ]
  },
  {
   "cell_type": "code",
   "execution_count": 5,
   "metadata": {},
   "outputs": [
    {
     "data": {
      "text/html": [
       "<div class=\"alert-success\" style=\"padding:5px;\"><strong>SyftSuccess</strong>: Syft function 'process_batch' successfully created. To add a code request, please create a project using `project = syft.Project(...)`, then use command `project.create_code_request`.</div><br />"
      ],
      "text/plain": [
       "SyftSuccess: Syft function 'process_batch' successfully created. To add a code request, please create a project using `project = syft.Project(...)`, then use command `project.create_code_request`."
      ]
     },
     "metadata": {},
     "output_type": "display_data"
    }
   ],
   "source": [
    "@syft_function()\n",
    "def process_batch(batch):\n",
    "    # stdlib\n",
    "    from time import sleep\n",
    "\n",
    "    # takes 30 hours normally\n",
    "    print(f\"starting batch {batch}\")\n",
    "\n",
    "    sleep(1)\n",
    "    print(\"done\")\n",
    "    return batch + 1"
   ]
  },
  {
   "cell_type": "code",
   "execution_count": 6,
   "metadata": {},
   "outputs": [
    {
     "data": {
      "text/html": [
       "<div class=\"alert-success\" style=\"padding:5px;\"><strong>SyftSuccess</strong>: User Code Submitted</div><br />"
      ],
      "text/plain": [
       "SyftSuccess: User Code Submitted"
      ]
     },
     "execution_count": 6,
     "metadata": {},
     "output_type": "execute_result"
    }
   ],
   "source": [
    "client.code.submit(process_batch)"
   ]
  },
  {
   "cell_type": "code",
   "execution_count": 7,
   "metadata": {},
   "outputs": [
    {
     "data": {
      "text/html": [
       "<div class=\"alert-success\" style=\"padding:5px;\"><strong>SyftSuccess</strong>: Syft function 'middle_middle_job' successfully created. To add a code request, please create a project using `project = syft.Project(...)`, then use command `project.create_code_request`.</div><br />"
      ],
      "text/plain": [
       "SyftSuccess: Syft function 'middle_middle_job' successfully created. To add a code request, please create a project using `project = syft.Project(...)`, then use command `project.create_code_request`."
      ]
     },
     "metadata": {},
     "output_type": "display_data"
    }
   ],
   "source": [
    "@syft_function()\n",
    "def middle_middle_job(domain, batch):\n",
    "    # stdlib\n",
    "    from time import sleep\n",
    "\n",
    "    # takes 30 hours normally\n",
    "    print(f\"starting batch {batch}\")\n",
    "\n",
    "    sleep(1)\n",
    "    batch_job = domain.launch_job(process_batch, batch=batch)\n",
    "    print(\"start leaf job\", batch_job)\n",
    "    return 2"
   ]
  },
  {
   "cell_type": "code",
   "execution_count": 8,
   "metadata": {},
   "outputs": [
    {
     "data": {
      "text/html": [
       "<div class=\"alert-success\" style=\"padding:5px;\"><strong>SyftSuccess</strong>: User Code Submitted</div><br />"
      ],
      "text/plain": [
       "SyftSuccess: User Code Submitted"
      ]
     },
     "execution_count": 8,
     "metadata": {},
     "output_type": "execute_result"
    }
   ],
   "source": [
    "client.code.submit(middle_middle_job)"
   ]
  },
  {
   "cell_type": "code",
   "execution_count": 9,
   "metadata": {},
   "outputs": [
    {
     "data": {
      "text/html": [
       "<div class=\"alert-success\" style=\"padding:5px;\"><strong>SyftSuccess</strong>: Syft function 'middle_job' successfully created. To add a code request, please create a project using `project = syft.Project(...)`, then use command `project.create_code_request`.</div><br />"
      ],
      "text/plain": [
       "SyftSuccess: Syft function 'middle_job' successfully created. To add a code request, please create a project using `project = syft.Project(...)`, then use command `project.create_code_request`."
      ]
     },
     "metadata": {},
     "output_type": "display_data"
    }
   ],
   "source": [
    "@syft_function()\n",
    "def middle_job(domain, batch):\n",
    "    # stdlib\n",
    "    from time import sleep\n",
    "\n",
    "    # takes 30 hours normally\n",
    "    print(f\"starting batch {batch}\")\n",
    "\n",
    "    sleep(1)\n",
    "    batch_job = domain.launch_job(middle_middle_job, batch=batch)\n",
    "    print(\"start leaf job\", batch_job)\n",
    "    return 2"
   ]
  },
  {
   "cell_type": "code",
   "execution_count": 10,
   "metadata": {},
   "outputs": [
    {
     "data": {
      "text/html": [
       "<div class=\"alert-success\" style=\"padding:5px;\"><strong>SyftSuccess</strong>: User Code Submitted</div><br />"
      ],
      "text/plain": [
       "SyftSuccess: User Code Submitted"
      ]
     },
     "execution_count": 10,
     "metadata": {},
     "output_type": "execute_result"
    }
   ],
   "source": [
    "client.code.submit(middle_job)"
   ]
  },
  {
   "cell_type": "code",
   "execution_count": 11,
   "metadata": {},
   "outputs": [
    {
     "data": {
      "text/html": [
       "<div class=\"alert-success\" style=\"padding:5px;\"><strong>SyftSuccess</strong>: Syft function 'process_all' successfully created. To add a code request, please create a project using `project = syft.Project(...)`, then use command `project.create_code_request`.</div><br />"
      ],
      "text/plain": [
       "SyftSuccess: Syft function 'process_all' successfully created. To add a code request, please create a project using `project = syft.Project(...)`, then use command `project.create_code_request`."
      ]
     },
     "metadata": {},
     "output_type": "display_data"
    }
   ],
   "source": [
    "@syft_function_single_use(x=x_ptr)\n",
    "def process_all(domain, x):\n",
    "    jobs = []\n",
    "    print(\"Launching jobs\")\n",
    "    for elem in x:\n",
    "        batch_job = domain.launch_job(middle_job, batch=elem)\n",
    "        jobs += [batch_job]\n",
    "    print(\"starting aggregation\")\n",
    "    print(\"Done\")\n",
    "    return 1"
   ]
  },
  {
   "cell_type": "code",
   "execution_count": 12,
   "metadata": {},
   "outputs": [
    {
     "data": {
      "text/html": [
       "\n",
       "            <style>\n",
       "            .syft-request {color: #464158;}\n",
       "            </style>\n",
       "            <div class='syft-request'>\n",
       "                <h3>Request</h3>\n",
       "                <p><strong>Id: </strong>56f76f67cf544edb8894139a92677a83</p>\n",
       "                <p><strong>Request time: </strong>2023-11-24 15:37:14</p>\n",
       "                \n",
       "                \n",
       "                <p><strong>Status: </strong>RequestStatus.PENDING</p>\n",
       "                <p><strong>Requested on: </strong> Test-domain-helm2 of type <strong>                     Domain</strong></p>\n",
       "                <p><strong>Requested by:</strong> Jane Doe (info@openmined.org) </p>\n",
       "                <p><strong>Changes: </strong> Request to change <b>process_all</b> to permission <b>RequestStatus.APPROVED</b>. Nested Requests not resolved. </p>\n",
       "            </div>\n",
       "\n",
       "            "
      ],
      "text/markdown": [
       "```python\n",
       "class Request:\n",
       "  id: str = 56f76f67cf544edb8894139a92677a83\n",
       "  request_time: str = 2023-11-24 15:37:14\n",
       "  updated_at: str = None\n",
       "  status: str = RequestStatus.PENDING\n",
       "  changes: str = ['Request to change <b>process_all</b> to permission <b>RequestStatus.APPROVED</b>. Nested Requests not resolved']\n",
       "  requesting_user_verify_key: str = 47f8c8f3db3a30695a28e4a51e44916669ac3d111924cb614181c64b2c3b8323\n",
       "\n",
       "```"
      ],
      "text/plain": [
       "syft.service.request.request.Request"
      ]
     },
     "execution_count": 12,
     "metadata": {},
     "output_type": "execute_result"
    }
   ],
   "source": [
    "req = client.code.request_code_execution(process_all)\n",
    "req"
   ]
  },
  {
   "cell_type": "code",
   "execution_count": 13,
   "metadata": {},
   "outputs": [
    {
     "data": {
      "text/html": [
       "\n",
       "            <style>\n",
       "            .syft-request {color: #464158;}\n",
       "            </style>\n",
       "            <div class='syft-request'>\n",
       "                <h3>Request</h3>\n",
       "                <p><strong>Id: </strong>56f76f67cf544edb8894139a92677a83</p>\n",
       "                <p><strong>Request time: </strong>2023-11-24 15:37:14</p>\n",
       "                \n",
       "                \n",
       "                <p><strong>Status: </strong>RequestStatus.PENDING</p>\n",
       "                <p><strong>Requested on: </strong> Test-domain-helm2 of type <strong>                     Domain</strong></p>\n",
       "                <p><strong>Requested by:</strong> Jane Doe (info@openmined.org) </p>\n",
       "                <p><strong>Changes: </strong> Request to change <b>process_all</b> to permission <b>RequestStatus.APPROVED</b>.<br><br>This change requests the following nested functions calls:<br>├──middle_job<br>├────middle_middle_job<br>├──────process_batch<br>. </p>\n",
       "            </div>\n",
       "\n",
       "            "
      ],
      "text/markdown": [
       "```python\n",
       "class Request:\n",
       "  id: str = 56f76f67cf544edb8894139a92677a83\n",
       "  request_time: str = 2023-11-24 15:37:14\n",
       "  updated_at: str = None\n",
       "  status: str = RequestStatus.PENDING\n",
       "  changes: str = ['Request to change <b>process_all</b> to permission <b>RequestStatus.APPROVED</b>.<br><br>This change requests the following nested functions calls:<br>├──middle_job<br>├────middle_middle_job<br>├──────process_batch<br>']\n",
       "  requesting_user_verify_key: str = 47f8c8f3db3a30695a28e4a51e44916669ac3d111924cb614181c64b2c3b8323\n",
       "\n",
       "```"
      ],
      "text/plain": [
       "syft.service.request.request.Request"
      ]
     },
     "execution_count": 13,
     "metadata": {},
     "output_type": "execute_result"
    }
   ],
   "source": [
    "client.requests[0]"
   ]
  },
  {
   "cell_type": "code",
   "execution_count": 14,
   "metadata": {},
   "outputs": [
    {
     "data": {
      "text/markdown": [
       "```python\n",
       "class UserCode\n",
       "    id: UID = 67823a91dbcc47c4a131fa1c307f9314\n",
       "    service_func_name: str = process_all\n",
       "    shareholders: list = ['test-domain-helm2']\n",
       "    status: list = ['Node: test-domain-helm2, Status: pending']\n",
       "    \n",
       "    code:\n",
       "\n",
       "@syft_function_single_use(x=x_ptr)\n",
       "def process_all(domain, x):\n",
       "    jobs = []\n",
       "    print(\"Launching jobs\")\n",
       "    for elem in x:\n",
       "        batch_job = domain.launch_job(middle_job, batch=elem)\n",
       "        jobs += [batch_job]\n",
       "    print(\"starting aggregation\")\n",
       "    print(\"Done\")\n",
       "    return 1\n",
       "\n",
       "\n",
       "\n",
       "  Nested Requests:\n",
       "  class UserCode\n",
       "      id: UID = d9c59810bea0486095944b54db12b609\n",
       "      service_func_name: str = middle_job\n",
       "      shareholders: list = []\n",
       "      status: list = ['Node: test-domain-helm2, Status: pending']\n",
       "      \n",
       "      code:\n",
       "  \n",
       "  @syft_function()\n",
       "  def middle_job(domain, batch):\n",
       "      # takes 30 hours normally\n",
       "      print(f\"starting batch {batch}\")\n",
       "      from time import sleep\n",
       "      sleep(1)\n",
       "      batch_job = domain.launch_job(middle_middle_job, batch=batch)\n",
       "      print(\"start leaf job\")\n",
       "      return 2\n",
       "  \n",
       "  \n",
       "  \n",
       "    Nested Requests:\n",
       "    class UserCode\n",
       "        id: UID = 0b70a83dd73c4a2ea839dd735ad7dfab\n",
       "        service_func_name: str = middle_middle_job\n",
       "        shareholders: list = []\n",
       "        status: list = ['Node: test-domain-helm2, Status: pending']\n",
       "        \n",
       "        code:\n",
       "    \n",
       "    @syft_function()\n",
       "    def middle_middle_job(domain, batch):\n",
       "        # takes 30 hours normally\n",
       "        print(f\"starting batch {batch}\")\n",
       "        from time import sleep\n",
       "        sleep(1)\n",
       "        batch_job = domain.launch_job(process_batch, batch=batch)\n",
       "        print(\"start leaf job\")\n",
       "        return 2\n",
       "    \n",
       "    \n",
       "    \n",
       "      Nested Requests:\n",
       "      class UserCode\n",
       "          id: UID = f4929e1833dd413fb6b5e95d93e77e46\n",
       "          service_func_name: str = process_batch\n",
       "          shareholders: list = []\n",
       "          status: list = ['Node: test-domain-helm2, Status: pending']\n",
       "          \n",
       "          code:\n",
       "      \n",
       "      @syft_function()\n",
       "      def process_batch(batch):\n",
       "          # takes 30 hours normally\n",
       "          print(f\"starting batch {batch}\")\n",
       "          from time import sleep\n",
       "          sleep(1)\n",
       "          print(\"done\")\n",
       "          return batch+1\n",
       "      \n",
       "```"
      ],
      "text/plain": [
       "syft.service.code.user_code.UserCode"
      ]
     },
     "execution_count": 14,
     "metadata": {},
     "output_type": "execute_result"
    }
   ],
   "source": [
    "client.requests[0].code"
   ]
  },
  {
   "cell_type": "code",
   "execution_count": 15,
   "metadata": {},
   "outputs": [
    {
     "data": {
      "text/html": [
       "\n",
       "<style>\n",
       "  body[data-jp-theme-light='false'] {\n",
       "        --primary-color: #111111;\n",
       "        --secondary-color: #212121;\n",
       "        --tertiary-color: #CFCDD6;\n",
       "        --button-color: #111111;\n",
       "  }\n",
       "\n",
       "  body {\n",
       "        --primary-color: #ffffff;\n",
       "        --secondary-color: #f5f5f5;\n",
       "        --tertiary-color: #000000de;\n",
       "        --button-color: #d1d5db;\n",
       "  }\n",
       "\n",
       "  .header-1 {\n",
       "        font-style: normal;\n",
       "        font-weight: 600;\n",
       "        font-size: 2.0736em;\n",
       "        line-height: 100%;\n",
       "        leading-trim: both;\n",
       "        text-edge: cap;\n",
       "        color: #17161D;\n",
       "    }\n",
       "\n",
       "  .header-2 {\n",
       "        font-style: normal;\n",
       "        font-weight: 600;\n",
       "        font-size: 1.728em;\n",
       "        line-height: 100%;\n",
       "        leading-trim: both;\n",
       "        text-edge: cap;\n",
       "        color: #17161D;\n",
       "    }\n",
       "\n",
       "  .header-3 {\n",
       "        font-style: normal;\n",
       "        font-weight: 600;\n",
       "        font-size:  1.44em;\n",
       "        line-height: 100%;\n",
       "        leading-trim: both;\n",
       "        text-edge: cap;\n",
       "        color: var(--tertiary-color);\n",
       "    }\n",
       "\n",
       "  .header-4 {\n",
       "        font-style: normal;\n",
       "        font-weight: 600;\n",
       "        font-size: 1.2em;\n",
       "        line-height: 100%;\n",
       "        leading-trim: both;\n",
       "        text-edge: cap;\n",
       "        color: #17161D;\n",
       "    }\n",
       "\n",
       "    .paragraph {\n",
       "        font-style: normal;\n",
       "        font-weight: 400;\n",
       "        font-size: 14px;\n",
       "        line-height: 100%;\n",
       "        leading-trim: both;\n",
       "        text-edge: cap;\n",
       "        color: #2E2B3B;\n",
       "    }\n",
       "\n",
       "    .paragraph-sm {\n",
       "        font-family: 'Roboto';\n",
       "        font-style: normal;\n",
       "        font-weight: 400;\n",
       "        font-size: 11.62px;\n",
       "        line-height: 100%;\n",
       "        leading-trim: both;\n",
       "        text-edge: cap;\n",
       "        color: #2E2B3B;\n",
       "    }\n",
       "    .code-text {\n",
       "        font-family: 'Consolas';\n",
       "        font-style: normal;\n",
       "        font-weight: 400;\n",
       "        font-size: 13px;\n",
       "        line-height: 130%;\n",
       "        leading-trim: both;\n",
       "        text-edge: cap;\n",
       "        color: #2E2B3B;\n",
       "    }\n",
       "\n",
       "    .numbering-entry { display: none }\n",
       "\n",
       "    /* Tooltip container */\n",
       "    .tooltip {\n",
       "        position: relative;\n",
       "        display: inline-block;\n",
       "        border-bottom: 1px dotted black; /* If you want dots under the hoverable text */\n",
       "    }\n",
       "\n",
       "    /* Tooltip text */\n",
       "    .tooltip .tooltiptext {\n",
       "        visibility: hidden;\n",
       "        width: 120px;\n",
       "        background-color: black;\n",
       "        color: #fff;\n",
       "        text-align: center;\n",
       "        padding: 5px 0;\n",
       "        border-radius: 6px;\n",
       "\n",
       "        /* Position the tooltip text - see examples below! */\n",
       "        position: absolute;\n",
       "        z-index: 1;\n",
       "    }\n",
       "\n",
       "    .repr-cell {\n",
       "      padding-top: 20px;\n",
       "    }\n",
       "\n",
       "    .text-bold {\n",
       "        font-weight: bold;\n",
       "    }\n",
       "\n",
       "    .pr-8 {\n",
       "        padding-right: 8px;\n",
       "    }\n",
       "    .pt-8 {\n",
       "        padding-top: 8px;\n",
       "    }\n",
       "    .pl-8 {\n",
       "        padding-left: 8px;\n",
       "    }\n",
       "    .pb-8 {\n",
       "        padding-bottom: 8px;\n",
       "    }\n",
       "\n",
       "    .py-25{\n",
       "        padding-top: 25px;\n",
       "        padding-bottom: 25px;\n",
       "    }\n",
       "\n",
       "    .flex {\n",
       "        display: flex;\n",
       "    }\n",
       "\n",
       "    .gap-10 {\n",
       "        gap: 10px;\n",
       "    }\n",
       "    .items-center{\n",
       "        align-items: center;\n",
       "    }\n",
       "\n",
       "    .folder-icon {\n",
       "        color: var(--tertiary-color);\n",
       "    }\n",
       "\n",
       "    .search-input{\n",
       "        display: flex;\n",
       "        flex-direction: row;\n",
       "        align-items: center;\n",
       "        padding: 8px 12px;\n",
       "        width: 343px;\n",
       "        height: 24px;\n",
       "        /* Lt On Surface/Low */\n",
       "        background-color: var(--secondary-color);\n",
       "        border-radius: 30px;\n",
       "\n",
       "        /* Lt On Surface/Highest */\n",
       "        color: var(--tertiary-color);\n",
       "        border:none;\n",
       "        /* Inside auto layout */\n",
       "        flex: none;\n",
       "        order: 0;\n",
       "        flex-grow: 0;\n",
       "    }\n",
       "    .search-input:focus {\n",
       "        outline: none;\n",
       "    }\n",
       "        .search-input:focus::placeholder,\n",
       "    .search-input::placeholder { /* Chrome, Firefox, Opera, Safari 10.1+ */\n",
       "        color: var(--tertiary-color);\n",
       "        opacity: 1; /* Firefox */\n",
       "    }\n",
       "\n",
       "    .search-button{\n",
       "        /* Search */\n",
       "        leading-trim: both;\n",
       "        text-edge: cap;\n",
       "        display: flex;\n",
       "        align-items: center;\n",
       "        text-align: center;\n",
       "\n",
       "        /* Primary/On Light */\n",
       "        background-color: var(--button-color);\n",
       "        color: var(--tertiary-color);\n",
       "\n",
       "        border-radius: 30px;\n",
       "        border-color: var(--secondary-color);\n",
       "        border-style: solid;\n",
       "        box-shadow: rgba(60, 64, 67, 0.3) 0px 1px 2px 0px, rgba(60, 64, 67, 0.15) 0px 1px 3px 1px;\n",
       "        cursor: pointer;\n",
       "        /* Inside auto layout */\n",
       "        flex: none;\n",
       "        order: 1;\n",
       "        flex-grow: 0;\n",
       "    }\n",
       "\n",
       "    .grid-table5878f024987f4072aaf8af3fc25cf035 {\n",
       "        display:grid;\n",
       "        grid-template-columns: 1fr repeat(28, 1fr);\n",
       "        grid-template-rows: repeat(2, 1fr);\n",
       "        overflow-x: auto;\n",
       "    }\n",
       "\n",
       "    .grid-std-cells {\n",
       "        grid-column: span 4;\n",
       "\n",
       "    }\n",
       "    .grid-index-cells {\n",
       "        grid-column: span 1;\n",
       "        /* tmp fix to make left col stand out (fix with font-family) */\n",
       "        font-weight: 600;\n",
       "        background-color: var(--secondary-color) !important;\n",
       "        color: var(--tertiary-color);\n",
       "    }\n",
       "\n",
       "    .grid-header {\n",
       "        /* Auto layout */\n",
       "        display: flex;\n",
       "        flex-direction: column;\n",
       "        align-items: center;\n",
       "        padding: 6px 4px;\n",
       "\n",
       "        /* Lt On Surface/Surface */\n",
       "        /* Lt On Surface/High */\n",
       "        border: 1px solid #CFCDD6;\n",
       "        /* tmp fix to make header stand out (fix with font-family) */\n",
       "        font-weight: 600;\n",
       "        background-color: var(--secondary-color);\n",
       "        color: var(--tertiary-color);\n",
       "    }\n",
       "\n",
       "    .grid-row {\n",
       "        display: flex;\n",
       "        flex-direction: column;\n",
       "        align-items: flex-start;\n",
       "        padding: 6px 4px;\n",
       "        overflow: hidden;\n",
       "        border: 1px solid #CFCDD6;\n",
       "        background-color: var(--primary-color);\n",
       "        color: var(--tertiary-color);\n",
       "    }\n",
       "\n",
       "    .badge {\n",
       "        code-text;\n",
       "        border-radius: 30px;\n",
       "    }\n",
       "\n",
       "    .badge-blue {\n",
       "        badge;\n",
       "        background-color: #C2DEF0;\n",
       "        color: #1F567A;\n",
       "    }\n",
       "\n",
       "    .badge-purple {\n",
       "        badge;\n",
       "        background-color: #C9CFE8;\n",
       "        color: #373B7B;\n",
       "    }\n",
       "\n",
       "    .badge-green {\n",
       "        badge;\n",
       "\n",
       "        /* Success/Container */\n",
       "        background-color: #D5F1D5;\n",
       "        color: #256B24;\n",
       "    }\n",
       "\n",
       "    .badge-red {\n",
       "        badge;\n",
       "        background-color: #F2D9DE;\n",
       "        color: #9B2737;\n",
       "    }\n",
       "\n",
       "    .badge-gray {\n",
       "        badge;\n",
       "        background-color: #ECEBEF;\n",
       "        color: #2E2B3B;\n",
       "    }\n",
       "    .paginationContainer{\n",
       "        width: 100%;\n",
       "        height: 30px;\n",
       "        display: flex;\n",
       "        justify-content: center;\n",
       "        gap: 8px;\n",
       "        padding: 5px;\n",
       "        color: var(--tertiary-color);\n",
       "    }\n",
       "\n",
       "    .page{\n",
       "        color: black;\n",
       "        font-weight: bold;\n",
       "        color: var(--tertiary-color);\n",
       "    }\n",
       "    .page:hover {\n",
       "      color: #38bdf8;\n",
       "      cursor: pointer;\n",
       "    }\n",
       "    .clipboard:hover{\n",
       "        cursor: pointer;\n",
       "        color: var(--tertiary-color);\n",
       "    }\n",
       "\n",
       "    .search-field {\n",
       "        display: flex;\n",
       "        align-items: center;\n",
       "        border-radius: 30px;\n",
       "        background-color: var(--secondary-color);\n",
       "    }\n",
       "\n",
       "    .syft-dropdown {\n",
       "        margin: 5px;\n",
       "        margin-left: 5px;\n",
       "        position: relative;\n",
       "        display: inline-block;\n",
       "        text-align: center;\n",
       "        background-color: var(--button-color);\n",
       "        min-width: 100px;\n",
       "        padding: 2px;\n",
       "        border-radius: 30px;\n",
       "    }\n",
       "\n",
       "    .syft-dropdown:hover {\n",
       "        cursor: pointer;\n",
       "    }\n",
       "    .syft-dropdown-content {\n",
       "        margin-top:26px;\n",
       "        display: none;\n",
       "        position: absolute;\n",
       "        min-width: 100px;\n",
       "        box-shadow: 0px 8px 16px 0px rgba(0,0,0,0.2);\n",
       "        padding: 12px 6px;\n",
       "        z-index: 1;\n",
       "        background-color: var(--primary-color);\n",
       "        color: var(--tertiary-color);\n",
       "    }\n",
       "    .dd-options {\n",
       "        padding-top: 4px;\n",
       "    }\n",
       "    .dd-options:first-of-type {\n",
       "        padding-top: 0px;\n",
       "    }\n",
       "\n",
       "    .dd-options:hover {\n",
       "        cursor: pointer;\n",
       "        background: #d1d5db;\n",
       "    }\n",
       "    .arrow {\n",
       "        border: solid black;\n",
       "        border-width: 0 3px 3px 0;\n",
       "        display: inline-block;\n",
       "        padding: 3px;\n",
       "    }\n",
       "    .down {\n",
       "        transform: rotate(45deg);\n",
       "        -webkit-transform: rotate(45deg);\n",
       "    }\n",
       "</style>\n",
       "\n",
       "\n",
       "    <div style='margin-top:15px;'>\n",
       "        <div class='flex gap-10' style='align-items: center;'>\n",
       "            <div class='folder-icon'><svg width=\"32\" height=\"32\" viewBox=\"0 0 32 32\" fill=\"none\" xmlns=\"http://www.w3.org/2000/svg\"> <path d=\"M28 6H4C3.73478 6 3.48043 6.10536 3.29289 6.29289C3.10536 6.48043 3 6.73478 3 7V24C3 24.5304 3.21071 25.0391 3.58579 25.4142C3.96086 25.7893 4.46957 26 5 26H27C27.5304 26 28.0391 25.7893 28.4142 25.4142C28.7893 25.0391 29 24.5304 29 24V7C29 6.73478 28.8946 6.48043 28.7071 6.29289C28.5196 6.10536 28.2652 6 28 6ZM5 14H10V18H5V14ZM12 14H27V18H12V14ZM27 8V12H5V8H27ZM5 20H10V24H5V20ZM27 24H12V20H27V24Z\" fill=\"#343330\"/></svg></div>\n",
       "            <div><p class='header-3'>UserCode List</p></div>\n",
       "        </div>\n",
       "\n",
       "            <div style=\"padding-top: 16px; display:flex;justify-content: space-between; align-items: center;\">\n",
       "                <div class='pt-25 gap-10' style=\"display:flex;\">\n",
       "                    <div class=\"search-field\">\n",
       "                        <div id='search-menu5878f024987f4072aaf8af3fc25cf035' class=\"syft-dropdown\" onclick=\"{\n",
       "                            let doc = document.getElementById('search-dropdown-content5878f024987f4072aaf8af3fc25cf035')\n",
       "                            if (doc.style.display === 'block'){\n",
       "                                doc.style.display = 'none'\n",
       "                            } else {\n",
       "                                doc.style.display = 'block'\n",
       "                            }\n",
       "                            }\">\n",
       "                            <div id='search-dropdown-content5878f024987f4072aaf8af3fc25cf035' class='syft-dropdown-content'></div>\n",
       "                            <script>\n",
       "                                var element5878f024987f4072aaf8af3fc25cf035 = [{\"id\": {\"value\": \"67823a91dbcc47c4a131fa1c307f9314\", \"type\": \"clipboard\"}, \"Input Policy\": \"ExactMatch\", \"Output Policy\": \"OutputPolicyExecuteOnce\", \"Function name\": \"process_all\", \"User verify key\": {\"value\": \"47f8c8f3db3a30695a28e4a51e44916669ac3d111924cb614181c64b2c3b8323\", \"type\": \"clipboard\"}, \"Status\": {\"value\": \"pending\", \"type\": \"badge-purple\"}, \"Submit time\": \"2023-11-24 15:37:14\"}, {\"id\": {\"value\": \"d9c59810bea0486095944b54db12b609\", \"type\": \"clipboard\"}, \"Input Policy\": \"EmptyInputPolicy\", \"Output Policy\": \"OutputPolicyExecuteOnce\", \"Function name\": \"middle_job\", \"User verify key\": {\"value\": \"47f8c8f3db3a30695a28e4a51e44916669ac3d111924cb614181c64b2c3b8323\", \"type\": \"clipboard\"}, \"Status\": {\"value\": \"pending\", \"type\": \"badge-purple\"}, \"Submit time\": \"2023-11-24 15:37:14\"}, {\"id\": {\"value\": \"0b70a83dd73c4a2ea839dd735ad7dfab\", \"type\": \"clipboard\"}, \"Input Policy\": \"EmptyInputPolicy\", \"Output Policy\": \"OutputPolicyExecuteOnce\", \"Function name\": \"middle_middle_job\", \"User verify key\": {\"value\": \"47f8c8f3db3a30695a28e4a51e44916669ac3d111924cb614181c64b2c3b8323\", \"type\": \"clipboard\"}, \"Status\": {\"value\": \"pending\", \"type\": \"badge-purple\"}, \"Submit time\": \"2023-11-24 15:37:14\"}, {\"id\": {\"value\": \"f4929e1833dd413fb6b5e95d93e77e46\", \"type\": \"clipboard\"}, \"Input Policy\": \"EmptyInputPolicy\", \"Output Policy\": \"OutputPolicyExecuteOnce\", \"Function name\": \"process_batch\", \"User verify key\": {\"value\": \"47f8c8f3db3a30695a28e4a51e44916669ac3d111924cb614181c64b2c3b8323\", \"type\": \"clipboard\"}, \"Status\": {\"value\": \"pending\", \"type\": \"badge-purple\"}, \"Submit time\": \"2023-11-24 15:37:14\"}]\n",
       "                                var page_size5878f024987f4072aaf8af3fc25cf035 = 4\n",
       "                                var pageIndex5878f024987f4072aaf8af3fc25cf035 = 1\n",
       "                                var paginatedElements5878f024987f4072aaf8af3fc25cf035 = []\n",
       "                                var activeFilter5878f024987f4072aaf8af3fc25cf035;\n",
       "\n",
       "                                function buildDropDownMenu(elements){\n",
       "                                    let init_filter;\n",
       "                                    let menu = document.getElementById('search-dropdown-content5878f024987f4072aaf8af3fc25cf035')\n",
       "                                    if (elements.length > 0) {\n",
       "                                        let sample = elements[0]\n",
       "                                        for (const attr in sample) {\n",
       "                                            if (typeof init_filter === 'undefined'){\n",
       "                                                init_filter = attr;\n",
       "                                            }\n",
       "                                            let content = document.createElement('div');\n",
       "                                            content.onclick = function(event) {\n",
       "                                                event.stopPropagation()\n",
       "                                                document.getElementById('menu-active-filter5878f024987f4072aaf8af3fc25cf035').innerText = attr;\n",
       "                                                activeFilter5878f024987f4072aaf8af3fc25cf035 = attr;\n",
       "                                                document.getElementById(\n",
       "                                                    'search-dropdown-content5878f024987f4072aaf8af3fc25cf035'\n",
       "                                                ).style.display= 'none';\n",
       "                                            }\n",
       "                                            content.classList.add(\"dd-options\");\n",
       "                                            content.innerText = attr;\n",
       "                                            menu.appendChild(content);\n",
       "                                        }\n",
       "                                    } else {\n",
       "                                        let init_filter = '---'\n",
       "                                    }\n",
       "                                    let dropdown_field = document.getElementById('search-menu5878f024987f4072aaf8af3fc25cf035')\n",
       "                                    let span = document.createElement('span')\n",
       "                                    span.setAttribute('id', 'menu-active-filter5878f024987f4072aaf8af3fc25cf035')\n",
       "                                    span.innerText = init_filter\n",
       "                                    activeFilter5878f024987f4072aaf8af3fc25cf035 = init_filter;\n",
       "                                    dropdown_field.appendChild(span)\n",
       "                                }\n",
       "\n",
       "                                buildDropDownMenu(element5878f024987f4072aaf8af3fc25cf035)\n",
       "                            </script>\n",
       "                        </div>\n",
       "                        <input id='searchKey5878f024987f4072aaf8af3fc25cf035' class='search-input' placeholder='Enter search here ...'  />\n",
       "                    </div>\n",
       "                    <button class='search-button' type=\"button\" onclick=\"searchGrid5878f024987f4072aaf8af3fc25cf035(element5878f024987f4072aaf8af3fc25cf035)\">\n",
       "                        <svg width=\"11\" height=\"10\" viewBox=\"0 0 11 10\" fill=\"none\" xmlns=\"http://www.w3.org/2000/svg\"><path d=\"M10.5652 9.23467L8.21819 6.88811C8.89846 6.07141 9.23767 5.02389 9.16527 3.96345C9.09287 2.90302 8.61443 1.91132 7.82948 1.19466C7.04453 0.477995 6.01349 0.0915414 4.95087 0.115691C3.88824 0.139841 2.87583 0.572735 2.12425 1.32432C1.37266 2.0759 0.939768 3.08831 0.915618 4.15094C0.891468 5.21357 1.27792 6.2446 1.99459 7.02955C2.71125 7.8145 3.70295 8.29294 4.76338 8.36535C5.82381 8.43775 6.87134 8.09853 7.68804 7.41827L10.0346 9.7653C10.0694 9.80014 10.1108 9.82778 10.1563 9.84663C10.2018 9.86549 10.2506 9.87519 10.2999 9.87519C10.3492 9.87519 10.398 9.86549 10.4435 9.84663C10.489 9.82778 10.5304 9.80014 10.5652 9.7653C10.6001 9.73046 10.6277 9.68909 10.6466 9.64357C10.6654 9.59805 10.6751 9.54926 10.6751 9.49998C10.6751 9.45071 10.6654 9.40192 10.6466 9.3564C10.6277 9.31088 10.6001 9.26951 10.5652 9.23467ZM1.67491 4.24998C1.67491 3.58247 1.87285 2.92995 2.2437 2.37493C2.61455 1.81992 3.14165 1.38734 3.75835 1.13189C4.37506 0.876446 5.05366 0.809609 5.70834 0.939835C6.36303 1.07006 6.96439 1.3915 7.4364 1.8635C7.9084 2.3355 8.22984 2.93687 8.36006 3.59155C8.49029 4.24624 8.42345 4.92484 8.168 5.54154C7.91256 6.15824 7.47998 6.68535 6.92496 7.05619C6.36995 7.42704 5.71742 7.62498 5.04991 7.62498C4.15511 7.62399 3.29724 7.26809 2.66452 6.63537C2.0318 6.00265 1.6759 5.14479 1.67491 4.24998Z\" fill=\"currentColor\"/></svg>\n",
       "                        <span class='pl-8'>Search</span>\n",
       "                    </button>\n",
       "                </div>\n",
       "\n",
       "                <div><h4 id='total5878f024987f4072aaf8af3fc25cf035'>0</h4></div>\n",
       "            </div>\n",
       "            <div id='table5878f024987f4072aaf8af3fc25cf035' class='grid-table5878f024987f4072aaf8af3fc25cf035' style='margin-top: 25px;'>\n",
       "                <script>\n",
       "                    function paginate5878f024987f4072aaf8af3fc25cf035(arr, size) {\n",
       "                        const res = [];\n",
       "                        for (let i = 0; i < arr.length; i += size) {\n",
       "                            const chunk = arr.slice(i, i + size);\n",
       "                            res.push(chunk);\n",
       "                        }\n",
       "\n",
       "                        return res;\n",
       "                    }\n",
       "\n",
       "                    function searchGrid5878f024987f4072aaf8af3fc25cf035(elements){\n",
       "                        let searchKey = document.getElementById('searchKey5878f024987f4072aaf8af3fc25cf035').value;\n",
       "                        let result;\n",
       "                        if (searchKey === ''){\n",
       "                            result = elements;\n",
       "                        } else {\n",
       "                            result = elements.filter((element) => {\n",
       "                                let property = element[activeFilter5878f024987f4072aaf8af3fc25cf035]\n",
       "                                if (typeof property === 'object' && property !== null){\n",
       "                                    return property.value.toLowerCase().includes(searchKey.toLowerCase());\n",
       "                                } else if (typeof property === 'string' ) {\n",
       "                                    return element[activeFilter5878f024987f4072aaf8af3fc25cf035].toLowerCase().includes(searchKey.toLowerCase());\n",
       "                                } else if (property !== null ) {\n",
       "                                    return element[activeFilter5878f024987f4072aaf8af3fc25cf035].toString() === searchKey;\n",
       "                                } else {\n",
       "                                    return element[activeFilter5878f024987f4072aaf8af3fc25cf035] === searchKey;\n",
       "                                }\n",
       "                            } );\n",
       "                        }\n",
       "                        resetById5878f024987f4072aaf8af3fc25cf035('table5878f024987f4072aaf8af3fc25cf035');\n",
       "                        resetById5878f024987f4072aaf8af3fc25cf035('pag5878f024987f4072aaf8af3fc25cf035');\n",
       "                        result = paginate5878f024987f4072aaf8af3fc25cf035(result, page_size5878f024987f4072aaf8af3fc25cf035)\n",
       "                        paginatedElements5878f024987f4072aaf8af3fc25cf035 = result\n",
       "                        buildGrid5878f024987f4072aaf8af3fc25cf035(result,pageIndex5878f024987f4072aaf8af3fc25cf035);\n",
       "                        buildPaginationContainer5878f024987f4072aaf8af3fc25cf035(result);\n",
       "                    }\n",
       "\n",
       "                    function resetById5878f024987f4072aaf8af3fc25cf035(id){\n",
       "                        let element = document.getElementById(id);\n",
       "                        while (element.firstChild) {\n",
       "                          element.removeChild(element.firstChild);\n",
       "                        }\n",
       "                    }\n",
       "\n",
       "                    function buildGrid5878f024987f4072aaf8af3fc25cf035(items, pageIndex){\n",
       "                                let headers = Object.keys(element5878f024987f4072aaf8af3fc25cf035[0]);\n",
       "\n",
       "                                let grid = document.getElementById(\"table5878f024987f4072aaf8af3fc25cf035\");\n",
       "                                let div = document.createElement(\"div\");\n",
       "                                div.classList.add('grid-header', 'grid-index-cells');\n",
       "                                grid.appendChild(div);\n",
       "                                headers.forEach((title) =>{\n",
       "                                    let div = document.createElement(\"div\");\n",
       "                                    div.classList.add('grid-header', 'grid-std-cells');\n",
       "                                    div.innerText = title;\n",
       "\n",
       "                                    grid.appendChild(div);\n",
       "                                });\n",
       "\n",
       "                                let page = items[pageIndex -1]\n",
       "                                if (page !== 'undefine'){\n",
       "                                    let table_index5878f024987f4072aaf8af3fc25cf035 = ((pageIndex - 1) * page_size5878f024987f4072aaf8af3fc25cf035)\n",
       "                                    page.forEach((item) => {\n",
       "                                        let grid = document.getElementById(\"table5878f024987f4072aaf8af3fc25cf035\");\n",
       "                                        // Add new index value in index cells\n",
       "                                        let divIndex = document.createElement(\"div\");\n",
       "                                        divIndex.classList.add('grid-row', 'grid-index-cells');\n",
       "                                        divIndex.innerText = table_index5878f024987f4072aaf8af3fc25cf035;\n",
       "                                        grid.appendChild(divIndex);\n",
       "\n",
       "                                        // Iterate over the actual obj\n",
       "                                        for (const attr in item) {\n",
       "                                            let div = document.createElement(\"div\");\n",
       "                                            if (typeof item[attr] === 'object'\n",
       "                                                && item[attr] !== null\n",
       "                                                && item[attr].hasOwnProperty('type')) {\n",
       "                                                if (item[attr].type.includes('badge')){\n",
       "                                                    let badge_div = document.createElement(\"div\");\n",
       "                                                    badge_div.classList.add('badge',item[attr].type)\n",
       "                                                    badge_div.innerText = String(item[attr].value).toUpperCase();\n",
       "                                                    div.appendChild(badge_div);\n",
       "                                                    div.classList.add('grid-row','grid-std-cells');\n",
       "                                                } else if (item[attr].type === \"clipboard\") {\n",
       "                                                    div.classList.add('grid-row','grid-std-cells');\n",
       "\n",
       "                                                    // Create clipboard div\n",
       "                                                    let clipboard_div = document.createElement('div');\n",
       "                                                    clipboard_div.style.display= 'flex';\n",
       "                                                    clipboard_div.classList.add(\"gap-10\")\n",
       "                                                    clipboard_div.style.justifyContent = \"space-between\";\n",
       "\n",
       "                                                    let id_text = document.createElement('div');\n",
       "                                                    if (item[attr].value == \"None\"){\n",
       "                                                        id_text.innerText = \"None\";\n",
       "                                                    }\n",
       "                                                    else{\n",
       "                                                        id_text.innerText = item[attr].value.slice(0,5) + \"...\";\n",
       "                                                    }\n",
       "\n",
       "                                                    clipboard_div.appendChild(id_text);\n",
       "                                                    let clipboard_img = document.createElement('div');\n",
       "                                                    clipboard_img.classList.add(\"clipboard\")\n",
       "                                                    div.onclick = function() {\n",
       "                                                        navigator.clipboard.writeText(item[attr].value);\n",
       "                                                    };\n",
       "                                                    clipboard_img.innerHTML = \"<svg width='8' height='8' viewBox='0 0 8 8' fill='none' xmlns='http://www.w3.org/2000/svg'><path d='M7.4375 0.25H2.4375C2.35462 0.25 2.27513 0.282924 2.21653 0.341529C2.15792 0.400134 2.125 0.47962 2.125 0.5625V2.125H0.5625C0.47962 2.125 0.400134 2.15792 0.341529 2.21653C0.282924 2.27513 0.25 2.35462 0.25 2.4375V7.4375C0.25 7.52038 0.282924 7.59987 0.341529 7.65847C0.400134 7.71708 0.47962 7.75 0.5625 7.75H5.5625C5.64538 7.75 5.72487 7.71708 5.78347 7.65847C5.84208 7.59987 5.875 7.52038 5.875 7.4375V5.875H7.4375C7.52038 5.875 7.59987 5.84208 7.65847 5.78347C7.71708 5.72487 7.75 5.64538 7.75 5.5625V0.5625C7.75 0.47962 7.71708 0.400134 7.65847 0.341529C7.59987 0.282924 7.52038 0.25 7.4375 0.25ZM5.25 7.125H0.875V2.75H5.25V7.125ZM7.125 5.25H5.875V2.4375C5.875 2.35462 5.84208 2.27513 5.78347 2.21653C5.72487 2.15792 5.64538 2.125 5.5625 2.125H2.75V0.875H7.125V5.25Z' fill='#464158'/></svg>\";\n",
       "\n",
       "                                                    clipboard_div.appendChild(clipboard_img);\n",
       "                                                    div.appendChild(clipboard_div);\n",
       "                                                }\n",
       "                                            } else{\n",
       "                                                div.classList.add('grid-row','grid-std-cells');\n",
       "                                                if (item[attr] == null) {\n",
       "                                                    text = ' '\n",
       "                                                } else {\n",
       "                                                    text = String(item[attr])\n",
       "                                                }\n",
       "                                                if (text.length > 150){\n",
       "                                                    text = text.slice(0,150) + \"...\";\n",
       "                                                }\n",
       "                                                text = text.replaceAll(\"\\n\", \"</br>\");\n",
       "                                                div.innerHTML = text;\n",
       "                                            }\n",
       "                                            grid.appendChild(div);\n",
       "                                        }\n",
       "                                    table_index5878f024987f4072aaf8af3fc25cf035 = table_index5878f024987f4072aaf8af3fc25cf035 + 1;\n",
       "                                    })\n",
       "                                }\n",
       "                    }\n",
       "                    paginatedElements5878f024987f4072aaf8af3fc25cf035 = paginate5878f024987f4072aaf8af3fc25cf035(element5878f024987f4072aaf8af3fc25cf035, page_size5878f024987f4072aaf8af3fc25cf035)\n",
       "                    buildGrid5878f024987f4072aaf8af3fc25cf035(paginatedElements5878f024987f4072aaf8af3fc25cf035, 1)\n",
       "                    document.getElementById('total5878f024987f4072aaf8af3fc25cf035').innerText = \"Total: \" + element5878f024987f4072aaf8af3fc25cf035.length\n",
       "                </script>\n",
       "            </div>\n",
       "            <div id='pag5878f024987f4072aaf8af3fc25cf035' class='paginationContainer'>\n",
       "                <script>\n",
       "                    function buildPaginationContainer5878f024987f4072aaf8af3fc25cf035(paginatedElements){\n",
       "                            let pageContainer = document.getElementById(\"pag5878f024987f4072aaf8af3fc25cf035\");\n",
       "                            for (let i = 0; i < paginatedElements.length; i++) {\n",
       "                                  let div = document.createElement(\"div\");\n",
       "                                  div.classList.add('page');\n",
       "                                  if(i===0) div.style.color = \"gray\";\n",
       "                                  else div.style.color = 'var(--tertiary-color, \"gray\")';\n",
       "                                  div.onclick = function(event) {\n",
       "                                      let indexes = document.getElementsByClassName('page');\n",
       "                                      for (let index of indexes) { index.style.color = 'var(--tertiary-color, \"gray\")' }\n",
       "                                      event.target.style.color = \"gray\";\n",
       "                                      setPage5878f024987f4072aaf8af3fc25cf035(i + 1);\n",
       "                                  };\n",
       "                                  div.innerText = i + 1;\n",
       "                                  pageContainer.appendChild(div);\n",
       "                            }\n",
       "                    }\n",
       "\n",
       "                    function setPage5878f024987f4072aaf8af3fc25cf035(newPage){\n",
       "                        pageIndex = newPage\n",
       "                        resetById5878f024987f4072aaf8af3fc25cf035('table5878f024987f4072aaf8af3fc25cf035')\n",
       "                        buildGrid5878f024987f4072aaf8af3fc25cf035(paginatedElements5878f024987f4072aaf8af3fc25cf035, pageIndex)\n",
       "                    }\n",
       "\n",
       "                    buildPaginationContainer5878f024987f4072aaf8af3fc25cf035(paginatedElements5878f024987f4072aaf8af3fc25cf035)\n",
       "                </script>\n",
       "            </div>\n",
       "        </div>\n",
       "    </div>\n",
       "    </div>\n"
      ],
      "text/plain": [
       "[syft.service.code.user_code.UserCode,\n",
       " syft.service.code.user_code.UserCode,\n",
       " syft.service.code.user_code.UserCode,\n",
       " syft.service.code.user_code.UserCode]"
      ]
     },
     "execution_count": 15,
     "metadata": {},
     "output_type": "execute_result"
    }
   ],
   "source": [
    "client.requests[0].codes"
   ]
  },
  {
   "cell_type": "code",
   "execution_count": 16,
   "metadata": {},
   "outputs": [],
   "source": [
    "### Deciding if to approve the requests...."
   ]
  },
  {
   "cell_type": "code",
   "execution_count": 17,
   "metadata": {},
   "outputs": [
    {
     "data": {
      "text/markdown": [
       "```python\n",
       "class UserCode\n",
       "    id: UID = 67823a91dbcc47c4a131fa1c307f9314\n",
       "    service_func_name: str = process_all\n",
       "    shareholders: list = ['test-domain-helm2']\n",
       "    status: list = ['Node: test-domain-helm2, Status: pending']\n",
       "    \n",
       "    code:\n",
       "\n",
       "@syft_function_single_use(x=x_ptr)\n",
       "def process_all(domain, x):\n",
       "    jobs = []\n",
       "    print(\"Launching jobs\")\n",
       "    for elem in x:\n",
       "        batch_job = domain.launch_job(middle_job, batch=elem)\n",
       "        jobs += [batch_job]\n",
       "    print(\"starting aggregation\")\n",
       "    print(\"Done\")\n",
       "    return 1\n",
       "\n",
       "\n",
       "\n",
       "  Nested Requests:\n",
       "  class UserCode\n",
       "      id: UID = d9c59810bea0486095944b54db12b609\n",
       "      service_func_name: str = middle_job\n",
       "      shareholders: list = []\n",
       "      status: list = ['Node: test-domain-helm2, Status: pending']\n",
       "      \n",
       "      code:\n",
       "  \n",
       "  @syft_function()\n",
       "  def middle_job(domain, batch):\n",
       "      # takes 30 hours normally\n",
       "      print(f\"starting batch {batch}\")\n",
       "      from time import sleep\n",
       "      sleep(1)\n",
       "      batch_job = domain.launch_job(middle_middle_job, batch=batch)\n",
       "      print(\"start leaf job\")\n",
       "      return 2\n",
       "  \n",
       "  \n",
       "  \n",
       "    Nested Requests:\n",
       "    class UserCode\n",
       "        id: UID = 0b70a83dd73c4a2ea839dd735ad7dfab\n",
       "        service_func_name: str = middle_middle_job\n",
       "        shareholders: list = []\n",
       "        status: list = ['Node: test-domain-helm2, Status: pending']\n",
       "        \n",
       "        code:\n",
       "    \n",
       "    @syft_function()\n",
       "    def middle_middle_job(domain, batch):\n",
       "        # takes 30 hours normally\n",
       "        print(f\"starting batch {batch}\")\n",
       "        from time import sleep\n",
       "        sleep(1)\n",
       "        batch_job = domain.launch_job(process_batch, batch=batch)\n",
       "        print(\"start leaf job\")\n",
       "        return 2\n",
       "    \n",
       "    \n",
       "    \n",
       "      Nested Requests:\n",
       "      class UserCode\n",
       "          id: UID = f4929e1833dd413fb6b5e95d93e77e46\n",
       "          service_func_name: str = process_batch\n",
       "          shareholders: list = []\n",
       "          status: list = ['Node: test-domain-helm2, Status: pending']\n",
       "          \n",
       "          code:\n",
       "      \n",
       "      @syft_function()\n",
       "      def process_batch(batch):\n",
       "          # takes 30 hours normally\n",
       "          print(f\"starting batch {batch}\")\n",
       "          from time import sleep\n",
       "          sleep(1)\n",
       "          print(\"done\")\n",
       "          return batch+1\n",
       "      \n",
       "```"
      ],
      "text/plain": [
       "syft.service.code.user_code.UserCode"
      ]
     },
     "execution_count": 17,
     "metadata": {},
     "output_type": "execute_result"
    }
   ],
   "source": [
    "client.requests[-1].code"
   ]
  },
  {
   "cell_type": "code",
   "execution_count": 18,
   "metadata": {},
   "outputs": [
    {
     "name": "stdout",
     "output_type": "stream",
     "text": [
      "Request approved for domain test-domain-helm2\n"
     ]
    },
    {
     "data": {
      "text/html": [
       "<div class=\"alert-success\" style=\"padding:5px;\"><strong>SyftSuccess</strong>: Request 56f76f67cf544edb8894139a92677a83 changes applied</div><br />"
      ],
      "text/plain": [
       "SyftSuccess: Request 56f76f67cf544edb8894139a92677a83 changes applied"
      ]
     },
     "execution_count": 18,
     "metadata": {},
     "output_type": "execute_result"
    }
   ],
   "source": [
    "client.requests[-1].approve(approve_nested=True)"
   ]
  },
  {
   "cell_type": "code",
   "execution_count": 19,
   "metadata": {},
   "outputs": [],
   "source": [
    "job = client.code.process_all(x=x_ptr, blocking=False)"
   ]
  },
  {
   "cell_type": "code",
   "execution_count": 20,
   "metadata": {},
   "outputs": [
    {
     "data": {
      "text/markdown": [
       "```python\n",
       "class Job:\n",
       "    id: UID = 69b2ab73f729484083e568d37a337a48\n",
       "    status: created\n",
       "    has_parent: False\n",
       "    result: ActionDataEmpty <None>\n",
       "    logs:\n",
       "\n",
       "0 \n",
       "    \n",
       "```"
      ],
      "text/plain": [
       "syft.service.job.job_stash.Job"
      ]
     },
     "execution_count": 20,
     "metadata": {},
     "output_type": "execute_result"
    }
   ],
   "source": [
    "job"
   ]
  },
  {
   "cell_type": "code",
   "execution_count": 22,
   "metadata": {},
   "outputs": [
    {
     "data": {
      "text/markdown": [
       "```python\n",
       "class Job:\n",
       "    id: UID = 5bdd231de10046b69acad09e131ac6e8\n",
       "    status: completed\n",
       "    has_parent: True\n",
       "    result: ActionDataEmpty <None>\n",
       "    logs:\n",
       "\n",
       "0 starting batch 2\n",
       "1 start leaf job\n",
       "JOB COMPLETED\n",
       "    \n",
       "```"
      ],
      "text/plain": [
       "syft.service.job.job_stash.Job"
      ]
     },
     "execution_count": 22,
     "metadata": {},
     "output_type": "execute_result"
    },
    {
     "name": "stderr",
     "output_type": "stream",
     "text": [
      "24/11/23 17:37:19 FUNCTION LOG (f1aba6d42c3347bda56d0e38ccd45764): starting batch 1\n",
      "24/11/23 17:37:20 FUNCTION LOG (29d2a2db42954664bc3e65071997f0c4): starting batch 2\n",
      "24/11/23 17:37:21 FUNCTION LOG (f1aba6d42c3347bda56d0e38ccd45764): start leaf job\n",
      "24/11/23 17:37:21 FUNCTION LOG (29d2a2db42954664bc3e65071997f0c4): start leaf job\n",
      "24/11/23 17:37:22 FUNCTION LOG (ff78ff43033642eea84ddf083638e4b6): starting batch 1\n",
      "24/11/23 17:37:23 FUNCTION LOG (33bd71ab5d9248e59d8ad192b6cbc619): starting batch 2\n",
      "24/11/23 17:37:23 FUNCTION LOG (ff78ff43033642eea84ddf083638e4b6): done\n",
      "24/11/23 17:37:24 FUNCTION LOG (33bd71ab5d9248e59d8ad192b6cbc619): done\n"
     ]
    }
   ],
   "source": [
    "job.subjobs[0]"
   ]
  },
  {
   "cell_type": "markdown",
   "metadata": {},
   "source": [
    "Wait 30s here"
   ]
  },
  {
   "cell_type": "code",
   "execution_count": 23,
   "metadata": {},
   "outputs": [
    {
     "data": {
      "text/html": [
       "[[[3]], [[2]]]"
      ],
      "text/plain": [
       "[[[3]], [[2]]]"
      ]
     },
     "execution_count": 23,
     "metadata": {},
     "output_type": "execute_result"
    }
   ],
   "source": [
    "[\n",
    "    [[subjob.result.get() for subjob in job.subjobs] for job in job.subjobs]\n",
    "    for job in job.subjobs\n",
    "]"
   ]
  },
  {
   "cell_type": "code",
   "execution_count": null,
   "metadata": {},
   "outputs": [],
   "source": []
  }
 ],
 "metadata": {
  "kernelspec": {
   "display_name": "Python 3 (ipykernel)",
   "language": "python",
   "name": "python3"
  },
  "language_info": {
   "codemirror_mode": {
    "name": "ipython",
    "version": 3
   },
   "file_extension": ".py",
   "mimetype": "text/x-python",
   "name": "python",
   "nbconvert_exporter": "python",
   "pygments_lexer": "ipython3",
   "version": "3.9.16"
  },
  "toc": {
   "base_numbering": 1,
   "nav_menu": {},
   "number_sections": true,
   "sideBar": true,
   "skip_h1_title": false,
   "title_cell": "Table of Contents",
   "title_sidebar": "Contents",
   "toc_cell": false,
   "toc_position": {},
   "toc_section_display": true,
   "toc_window_display": true
  }
 },
 "nbformat": 4,
 "nbformat_minor": 2
}
