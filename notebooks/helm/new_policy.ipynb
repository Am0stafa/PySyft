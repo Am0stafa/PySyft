{
 "cells": [
  {
   "cell_type": "code",
   "execution_count": 1,
   "metadata": {},
   "outputs": [],
   "source": [
    "import syft as sy"
   ]
  },
  {
   "cell_type": "code",
   "execution_count": 2,
   "metadata": {},
   "outputs": [
    {
     "name": "stdout",
     "output_type": "stream",
     "text": [
      "INITIALIZING CONSUMER\n",
      "ABCDEF\n",
      "INITIALIZING CONSUMER\n",
      "ABCDEF\n",
      "INITIALIZING CONSUMER\n",
      "ABCDEF\n",
      "INITIALIZING CONSUMER\n",
      "ABCDEF\n",
      "Logged into <test-domain-helm2: High side Domain> as <info@openmined.org>\n"
     ]
    },
    {
     "data": {
      "text/html": [
       "<div class=\"alert-warning\" style=\"padding:5px;\"><strong>SyftWarning</strong>: You are using a default password. Please change the password using `[your_client].me.set_password([new_password])`.</div><br />"
      ],
      "text/plain": [
       "SyftWarning: You are using a default password. Please change the password using `[your_client].me.set_password([new_password])`."
      ]
     },
     "metadata": {},
     "output_type": "display_data"
    }
   ],
   "source": [
    "node = sy.orchestra.launch(name=\"test-domain-helm2\", dev_mode=True, reset=True, n_consumers=4,\n",
    "                           create_producer=True)\n",
    "client = node.login(email=\"info@openmined.org\", password=\"changethis\")"
   ]
  },
  {
   "cell_type": "code",
   "execution_count": 3,
   "metadata": {},
   "outputs": [],
   "source": [
    "# Question 1: What type of container do we want for data already on the server?\n",
    "\n",
    "obj_1 = sy.ActionObject.from_obj(1)\n",
    "ptr_1 = obj_1.send(client)\n",
    "\n",
    "obj_2 = sy.ActionObject.from_obj(2)\n",
    "ptr_2 = obj_2.send(client)\n",
    "\n",
    "obj_3 = sy.ActionObject.from_obj(3)\n",
    "ptr_3 = obj_3.send(client)\n",
    "\n",
    "# Option 1: ActionObjects inside ActionObjects\n",
    "# \n",
    "# Pros: very versatile, could work with data from other domains out of the box\n",
    "# Cons: might not feel intuitive to the user, will need to change the way we work with\n",
    "#       ActionObjects in a lot of different places in the codebase\n",
    "# list = sy.ActionObject.from_obj([ptr_1, ptr_2, ptr_3])\n",
    "# list_ptr = list.send(client)\n",
    "\n",
    "# Option 2: Create new ActionObjects from the same data\n",
    "# Will require us to do some value based verification on different objects\n",
    "# \n",
    "# Pros: Easier abstraction for the user\n",
    "# Cons: Value based verification sounds like an attack vector\n",
    "#       as it can provide a free Oracle to an attacker\n",
    "# list = sy.ActionObject.from_list([ptr_1, ptr_2, ptr_3]) # on the server will do ActionObject.from_obj([1,2,3])\n",
    "# list_ptr = list.send(client)\n",
    " "
   ]
  },
  {
   "cell_type": "code",
   "execution_count": 4,
   "metadata": {},
   "outputs": [],
   "source": [
    "list = sy.ActionObject.from_obj([1,2,3])\n",
    "list_ptr = list.send(client)"
   ]
  },
  {
   "cell_type": "code",
   "execution_count": 5,
   "metadata": {},
   "outputs": [
    {
     "data": {
      "text/html": [
       "<div class=\"alert-success\" style=\"padding:5px;\"><strong>SyftSuccess</strong>: Syft function 'func' successfully created. To add a code request, please create a project using `project = syft.Project(...)`, then use command `project.create_code_request`.</div><br />"
      ],
      "text/plain": [
       "SyftSuccess: Syft function 'func' successfully created. To add a code request, please create a project using `project = syft.Project(...)`, then use command `project.create_code_request`."
      ]
     },
     "metadata": {},
     "output_type": "display_data"
    }
   ],
   "source": [
    "from syft.service.policy.policy import OutputPolicyExecuteCount\n",
    "\n",
    "# Question 2: What should the UX be for ExecuteOncePerCombination?\n",
    "# \n",
    "# Right now I have worked on using the first option from the previous question\n",
    "# and using on the fly created lists. We can break this question into more specific ones:\n",
    "#\n",
    "# Sub-Question 1: What should we pass for each argument? Should the list be already on the server?\n",
    "#                 Or can it be defined by the data scientist? \n",
    "#                 Could it be made of data outside the domain?\n",
    "#\n",
    "# Sub-Question 2: Will anything change if instead of data we talk about files?\n",
    "#                 The final use case actually will iterate for SyftFiles, so can this affect the UX?\n",
    "#\n",
    "\n",
    "@sy.syft_function(input_policy=sy.ExecuteOncePerCombination(\n",
    "                                    x=list,\n",
    "                                    y=list,\n",
    "                                    z=list,\n",
    "                                ),\n",
    "                  output_policy=OutputPolicyExecuteCount(limit=27))\n",
    "def func(x, y, z):\n",
    "    return x, y, z"
   ]
  },
  {
   "cell_type": "code",
   "execution_count": 6,
   "metadata": {},
   "outputs": [],
   "source": [
    "request = client.code.submit(func)\n",
    "# client.code.request_code_execution(func)\n",
    "# client.requests[-1].approve()"
   ]
  },
  {
   "cell_type": "code",
   "execution_count": 7,
   "metadata": {},
   "outputs": [
    {
     "data": {
      "text/html": [
       "<div class=\"alert-success\" style=\"padding:5px;\"><strong>SyftSuccess</strong>: Syft function 'main_func' successfully created. To add a code request, please create a project using `project = syft.Project(...)`, then use command `project.create_code_request`.</div><br />"
      ],
      "text/plain": [
       "SyftSuccess: Syft function 'main_func' successfully created. To add a code request, please create a project using `project = syft.Project(...)`, then use command `project.create_code_request`."
      ]
     },
     "metadata": {},
     "output_type": "display_data"
    }
   ],
   "source": [
    "@sy.syft_function_single_use(list=list_ptr)\n",
    "def main_func(domain, list):\n",
    "    jobs = []\n",
    "    print(\"start\")\n",
    "    domain.init_checkpoint(27)\n",
    "    for x in list:\n",
    "        for y in list:\n",
    "            for z in list:\n",
    "                print(x,y,z)\n",
    "                domain.checkpoint()\n",
    "                batch_job = domain.launch_job(func, x=x, y=y, z=z)\n",
    "                jobs.append(batch_job)\n",
    "                    \n",
    "    print(\"done\")\n",
    "    \n",
    "    return None"
   ]
  },
  {
   "cell_type": "code",
   "execution_count": 8,
   "metadata": {},
   "outputs": [
    {
     "name": "stdout",
     "output_type": "stream",
     "text": [
      "Request approved for domain test-domain-helm2\n"
     ]
    },
    {
     "data": {
      "text/html": [
       "<div class=\"alert-success\" style=\"padding:5px;\"><strong>SyftSuccess</strong>: Request d2b5c66398d843e2a094689fb198f978 changes applied</div><br />"
      ],
      "text/plain": [
       "SyftSuccess: Request d2b5c66398d843e2a094689fb198f978 changes applied"
      ]
     },
     "execution_count": 8,
     "metadata": {},
     "output_type": "execute_result"
    }
   ],
   "source": [
    "client.code.request_code_execution(main_func)\n",
    "client.requests[-1].approve()"
   ]
  },
  {
   "cell_type": "code",
   "execution_count": 9,
   "metadata": {},
   "outputs": [
    {
     "data": {
      "text/plain": [
       "NoneType"
      ]
     },
     "execution_count": 9,
     "metadata": {},
     "output_type": "execute_result"
    }
   ],
   "source": [
    "type(client.code[0].input_policy)"
   ]
  },
  {
   "cell_type": "code",
   "execution_count": 10,
   "metadata": {},
   "outputs": [],
   "source": [
    "job = client.code.main_func(list=list_ptr, blocking=False)"
   ]
  },
  {
   "cell_type": "code",
   "execution_count": 11,
   "metadata": {},
   "outputs": [
    {
     "data": {
      "text/markdown": [
       "```python\n",
       "class Job:\n",
       "    id: UID = 17244399f3b54cec85824a6aa8f64198\n",
       "    status: created\n",
       "    has_parent: False\n",
       "    result: None\n",
       "    logs:\n",
       "\n",
       "0 \n",
       "    \n",
       "```"
      ],
      "text/plain": [
       "syft.service.job.job_stash.Job"
      ]
     },
     "execution_count": 11,
     "metadata": {},
     "output_type": "execute_result"
    }
   ],
   "source": [
    "job"
   ]
  },
  {
   "cell_type": "code",
   "execution_count": 15,
   "metadata": {},
   "outputs": [
    {
     "name": "stdout",
     "output_type": "stream",
     "text": [
      "LAUNCHING JOB func\n"
     ]
    },
    {
     "name": "stderr",
     "output_type": "stream",
     "text": [
      "FUNCTION LOG ((<UID: 17244399f3b54cec85824a6aa8f64198>, 10)): 1 3 3\n"
     ]
    },
    {
     "data": {
      "text/html": [
       "\n",
       "<style>\n",
       "    :root {\n",
       "        --primary-color: #ffffff;\n",
       "        --secondary-color: #f5f5f5;\n",
       "        --tertiary-color: #000000de;\n",
       "        --button-color: #d1d5db;\n",
       "    }\n",
       "    .dark-theme {\n",
       "        --primary-color: #111111;\n",
       "        --secondary-color: #212121;\n",
       "        --tertiary-color: #CFCDD6;\n",
       "        --button-color: #111111;\n",
       "    }\n",
       "  .header-1 {\n",
       "        font-style: normal;\n",
       "        font-weight: 600;\n",
       "        font-size: 2.0736em;\n",
       "        line-height: 100%;\n",
       "        leading-trim: both;\n",
       "        text-edge: cap;\n",
       "        color: #17161D;\n",
       "    }\n",
       "\n",
       "  .header-2 {\n",
       "        font-style: normal;\n",
       "        font-weight: 600;\n",
       "        font-size: 1.728em;\n",
       "        line-height: 100%;\n",
       "        leading-trim: both;\n",
       "        text-edge: cap;\n",
       "        color: #17161D;\n",
       "    }\n",
       "\n",
       "  .header-3 {\n",
       "        font-style: normal;\n",
       "        font-weight: 600;\n",
       "        font-size:  1.44em;\n",
       "        line-height: 100%;\n",
       "        leading-trim: both;\n",
       "        text-edge: cap;\n",
       "        color: var(--tertiary-color);\n",
       "    }\n",
       "\n",
       "  .header-4 {\n",
       "        font-style: normal;\n",
       "        font-weight: 600;\n",
       "        font-size: 1.2em;\n",
       "        line-height: 100%;\n",
       "        leading-trim: both;\n",
       "        text-edge: cap;\n",
       "        color: #17161D;\n",
       "    }\n",
       "\n",
       "    .paragraph {\n",
       "        font-style: normal;\n",
       "        font-weight: 400;\n",
       "        font-size: 14px;\n",
       "        line-height: 100%;\n",
       "        leading-trim: both;\n",
       "        text-edge: cap;\n",
       "        color: #2E2B3B;\n",
       "    }\n",
       "\n",
       "    .paragraph-sm {\n",
       "        font-family: 'Roboto';\n",
       "        font-style: normal;\n",
       "        font-weight: 400;\n",
       "        font-size: 11.62px;\n",
       "        line-height: 100%;\n",
       "        leading-trim: both;\n",
       "        text-edge: cap;\n",
       "        color: #2E2B3B;\n",
       "    }\n",
       "    .code-text {\n",
       "        font-family: 'Consolas';\n",
       "        font-style: normal;\n",
       "        font-weight: 400;\n",
       "        font-size: 13px;\n",
       "        line-height: 130%;\n",
       "        leading-trim: both;\n",
       "        text-edge: cap;\n",
       "        color: #2E2B3B;\n",
       "    }\n",
       "\n",
       "    .numbering-entry { display: none }\n",
       "\n",
       "    /* Tooltip container */\n",
       "    .tooltip {\n",
       "        position: relative;\n",
       "        display: inline-block;\n",
       "        border-bottom: 1px dotted black; /* If you want dots under the hoverable text */\n",
       "    }\n",
       "\n",
       "    /* Tooltip text */\n",
       "    .tooltip .tooltiptext {\n",
       "        visibility: hidden;\n",
       "        width: 120px;\n",
       "        background-color: black;\n",
       "        color: #fff;\n",
       "        text-align: center;\n",
       "        padding: 5px 0;\n",
       "        border-radius: 6px;\n",
       "\n",
       "        /* Position the tooltip text - see examples below! */\n",
       "        position: absolute;\n",
       "        z-index: 1;\n",
       "    }\n",
       "\n",
       "    .repr-cell {\n",
       "      padding-top: 20px;\n",
       "    }\n",
       "\n",
       "    .text-bold {\n",
       "        font-weight: bold;\n",
       "    }\n",
       "\n",
       "    .pr-8 {\n",
       "        padding-right: 8px;\n",
       "    }\n",
       "    .pt-8 {\n",
       "        padding-top: 8px;\n",
       "    }\n",
       "    .pl-8 {\n",
       "        padding-left: 8px;\n",
       "    }\n",
       "    .pb-8 {\n",
       "        padding-bottom: 8px;\n",
       "    }\n",
       "\n",
       "    .py-25{\n",
       "        padding-top: 25px;\n",
       "        padding-bottom: 25px;\n",
       "    }\n",
       "\n",
       "    .flex {\n",
       "        display: flex;\n",
       "    }\n",
       "\n",
       "    .gap-10 {\n",
       "        gap: 10px;\n",
       "    }\n",
       "    .items-center{\n",
       "        align-items: center;\n",
       "    }\n",
       "\n",
       "    .folder-icon {\n",
       "        color: var(--tertiary-color);\n",
       "    }\n",
       "\n",
       "    .search-input{\n",
       "        display: flex;\n",
       "        flex-direction: row;\n",
       "        align-items: center;\n",
       "        padding: 8px 12px;\n",
       "        width: 343px;\n",
       "        height: 24px;\n",
       "        /* Lt On Surface/Low */\n",
       "        background-color: var(--secondary-color);\n",
       "        border-radius: 30px;\n",
       "\n",
       "        /* Lt On Surface/Highest */\n",
       "        color: var(--tertiary-color);\n",
       "        border:none;\n",
       "        /* Inside auto layout */\n",
       "        flex: none;\n",
       "        order: 0;\n",
       "        flex-grow: 0;\n",
       "    }\n",
       "    .search-input:focus {\n",
       "        outline: none;\n",
       "    }\n",
       "        .search-input:focus::placeholder,\n",
       "    .search-input::placeholder { /* Chrome, Firefox, Opera, Safari 10.1+ */\n",
       "        color: var(--tertiary-color);\n",
       "        opacity: 1; /* Firefox */\n",
       "    }\n",
       "\n",
       "    .search-button{\n",
       "        /* Search */\n",
       "        leading-trim: both;\n",
       "        text-edge: cap;\n",
       "        display: flex;\n",
       "        align-items: center;\n",
       "        text-align: center;\n",
       "\n",
       "        /* Primary/On Light */\n",
       "        background-color: var(--button-color);\n",
       "        color: var(--tertiary-color);\n",
       "\n",
       "        border-radius: 30px;\n",
       "        border-color: var(--secondary-color);\n",
       "        border-style: solid;\n",
       "        box-shadow: rgba(60, 64, 67, 0.3) 0px 1px 2px 0px, rgba(60, 64, 67, 0.15) 0px 1px 3px 1px;\n",
       "        cursor: pointer;\n",
       "        /* Inside auto layout */\n",
       "        flex: none;\n",
       "        order: 1;\n",
       "        flex-grow: 0;\n",
       "    }\n",
       "\n",
       "    .grid-tabledf9e530d3e4d4e02a2cc3eb861cee1e8 {\n",
       "        display:grid;\n",
       "        grid-template-columns: 1fr repeat(28, 1fr);\n",
       "        grid-template-rows: repeat(2, 1fr);\n",
       "        overflow-x: auto;\n",
       "    }\n",
       "\n",
       "    .grid-std-cells {\n",
       "        grid-column: span 4;\n",
       "\n",
       "    }\n",
       "    .grid-index-cells {\n",
       "        grid-column: span 1;\n",
       "        /* tmp fix to make left col stand out (fix with font-family) */\n",
       "        font-weight: 600;\n",
       "        background-color: var(--secondary-color) !important;\n",
       "        color: var(--tertiary-color);\n",
       "    }\n",
       "\n",
       "    .grid-header {\n",
       "        /* Auto layout */\n",
       "        display: flex;\n",
       "        flex-direction: column;\n",
       "        align-items: flex-start;\n",
       "        padding: 6px 4px;\n",
       "\n",
       "        /* Lt On Surface/Surface */\n",
       "        /* Lt On Surface/High */\n",
       "        border: 1px solid #CFCDD6;\n",
       "        /* tmp fix to make header stand out (fix with font-family) */\n",
       "        font-weight: 600;\n",
       "        background-color: var(--secondary-color);\n",
       "        color: var(--tertiary-color);\n",
       "    }\n",
       "\n",
       "    .grid-row {\n",
       "        display: flex;\n",
       "        flex-direction: column;\n",
       "        align-items: flex-start;\n",
       "        padding: 6px 4px;\n",
       "        overflow: hidden;\n",
       "        border: 1px solid #CFCDD6;\n",
       "        background-color: var(--primary-color);\n",
       "        color: var(--tertiary-color);\n",
       "    }\n",
       "\n",
       "    .badge {\n",
       "        code-text;\n",
       "        border-radius: 30px;\n",
       "    }\n",
       "\n",
       "    .badge-blue {\n",
       "        badge;\n",
       "        background-color: #C2DEF0;\n",
       "        color: #1F567A;\n",
       "    }\n",
       "\n",
       "    .badge-purple {\n",
       "        badge;\n",
       "        background-color: #C9CFE8;\n",
       "        color: #373B7B;\n",
       "    }\n",
       "\n",
       "    .badge-green {\n",
       "        badge;\n",
       "\n",
       "        /* Success/Container */\n",
       "        background-color: #D5F1D5;\n",
       "        color: #256B24;\n",
       "    }\n",
       "\n",
       "    .badge-red {\n",
       "        badge;\n",
       "        background-color: #F2D9DE;\n",
       "        color: #9B2737;\n",
       "    }\n",
       "\n",
       "    .badge-gray {\n",
       "        badge;\n",
       "        background-color: #ECEBEF;\n",
       "        color: #2E2B3B;\n",
       "    }\n",
       "    .paginationContainer{\n",
       "        width: 100%;\n",
       "        height: 30px;\n",
       "        display: flex;\n",
       "        justify-content: center;\n",
       "        gap: 8px;\n",
       "        padding: 5px;\n",
       "        color: var(--tertiary-color);\n",
       "    }\n",
       "\n",
       "    .page{\n",
       "        color: black;\n",
       "        font-weight: bold;\n",
       "        color: var(--tertiary-color);\n",
       "    }\n",
       "    .page:hover {\n",
       "      color: #38bdf8;\n",
       "      cursor: pointer;\n",
       "    }\n",
       "    .clipboard:hover{\n",
       "        cursor: pointer;\n",
       "        color: var(--tertiary-color);\n",
       "    }\n",
       "\n",
       "    .search-field {\n",
       "        display: flex;\n",
       "        align-items: center;\n",
       "        border-radius: 30px;\n",
       "        background-color: var(--secondary-color);\n",
       "    }\n",
       "\n",
       "    .syft-dropdown {\n",
       "        margin: 5px;\n",
       "        margin-left: 5px;\n",
       "        position: relative;\n",
       "        display: inline-block;\n",
       "        text-align: center;\n",
       "        background-color: var(--button-color);\n",
       "        min-width: 100px;\n",
       "        padding: 2px;\n",
       "        border-radius: 30px;\n",
       "    }\n",
       "\n",
       "    .syft-dropdown:hover {\n",
       "        cursor: pointer;\n",
       "    }\n",
       "    .syft-dropdown-content {\n",
       "        margin-top:26px;\n",
       "        display: none;\n",
       "        position: absolute;\n",
       "        min-width: 100px;\n",
       "        box-shadow: 0px 8px 16px 0px rgba(0,0,0,0.2);\n",
       "        padding: 12px 6px;\n",
       "        z-index: 1;\n",
       "        background-color: var(--primary-color);\n",
       "        color: var(--tertiary-color);\n",
       "    }\n",
       "    .dd-options {\n",
       "        padding-top: 4px;\n",
       "    }\n",
       "    .dd-options:first-of-type {\n",
       "        padding-top: 0px;\n",
       "    }\n",
       "\n",
       "    .dd-options:hover {\n",
       "        cursor: pointer;\n",
       "        background: #d1d5db;\n",
       "    }\n",
       "    .arrow {\n",
       "        border: solid black;\n",
       "        border-width: 0 3px 3px 0;\n",
       "        display: inline-block;\n",
       "        padding: 3px;\n",
       "    }\n",
       "    .down {\n",
       "        transform: rotate(45deg);\n",
       "        -webkit-transform: rotate(45deg);\n",
       "    }\n",
       "</style>\n",
       "\n",
       "\n",
       "    <div style='margin-top:15px;'>\n",
       "        <div class='flex gap-10' style='align-items: center;'>\n",
       "            <div class='folder-icon'><svg width=\"32\" height=\"32\" viewBox=\"0 0 32 32\" fill=\"none\" xmlns=\"http://www.w3.org/2000/svg\"> <path d=\"M28 6H4C3.73478 6 3.48043 6.10536 3.29289 6.29289C3.10536 6.48043 3 6.73478 3 7V24C3 24.5304 3.21071 25.0391 3.58579 25.4142C3.96086 25.7893 4.46957 26 5 26H27C27.5304 26 28.0391 25.7893 28.4142 25.4142C28.7893 25.0391 29 24.5304 29 24V7C29 6.73478 28.8946 6.48043 28.7071 6.29289C28.5196 6.10536 28.2652 6 28 6ZM5 14H10V18H5V14ZM12 14H27V18H12V14ZM27 8V12H5V8H27ZM5 20H10V24H5V20ZM27 24H12V20H27V24Z\" fill=\"#343330\"/></svg></div>\n",
       "            <div><p class='header-3'>Job List</p></div>\n",
       "        </div>\n",
       "\n",
       "            <div style=\"padding-top: 16px; display:flex;justify-content: space-between; align-items: center;\">\n",
       "                <div class='pt-25 gap-10' style=\"display:flex;\">\n",
       "                    <div class=\"search-field\">\n",
       "                        <div id='search-menudf9e530d3e4d4e02a2cc3eb861cee1e8' class=\"syft-dropdown\" onclick=\"{\n",
       "                            let doc = document.getElementById('search-dropdown-contentdf9e530d3e4d4e02a2cc3eb861cee1e8')\n",
       "                            if (doc.style.display === 'block'){\n",
       "                                doc.style.display = 'none'\n",
       "                            } else {\n",
       "                                doc.style.display = 'block'\n",
       "                            }\n",
       "                            }\">\n",
       "                            <div id='search-dropdown-contentdf9e530d3e4d4e02a2cc3eb861cee1e8' class='syft-dropdown-content'></div>\n",
       "                            <script>\n",
       "                                var elementdf9e530d3e4d4e02a2cc3eb861cee1e8 = [{\"id\": {\"value\": \"17244399f3b54cec85824a6aa8f64198\", \"type\": \"clipboard\"}, \"progress\": \"processing: 8/27 Remaining time: 0:00:40\", \"start date\": \"2023-10-16 14:01:10\", \"logs\": \"...\\n1 3 1\\n1 3 2\\n1 3 3\\n\", \"result\": \"\", \"has_parent\": false, \"subjobs\": 8}, {\"id\": {\"value\": \"dd148a1fba9b4be197a5fbfb9187b885\", \"type\": \"clipboard\"}, \"progress\": \"completed\", \"start date\": \"2023-10-16 14:01:10\", \"logs\": \"\", \"result\": \"ActionDataEmpty UID: 471814d9ce8d40b9bc1446ffe26fd681 <None>\", \"has_parent\": true, \"subjobs\": 0}, {\"id\": {\"value\": \"ad715ce1793a4af5ad003914ded14e6f\", \"type\": \"clipboard\"}, \"progress\": \"completed\", \"start date\": \"2023-10-16 14:01:10\", \"logs\": \"\", \"result\": \"ActionDataEmpty UID: 516ccc9da8634288939bb54dfbd8c119 <None>\", \"has_parent\": true, \"subjobs\": 0}, {\"id\": {\"value\": \"90e3696ef9a0456c9cf4a45d9c344751\", \"type\": \"clipboard\"}, \"progress\": \"completed\", \"start date\": \"2023-10-16 14:01:10\", \"logs\": \"\", \"result\": \"ActionDataEmpty UID: 91cc638ff4fa441589a6801e822ffd7c <None>\", \"has_parent\": true, \"subjobs\": 0}, {\"id\": {\"value\": \"dbbf530ed99a40599ef6f3e7000701a5\", \"type\": \"clipboard\"}, \"progress\": \"completed\", \"start date\": \"2023-10-16 14:01:10\", \"logs\": \"\", \"result\": \"ActionDataEmpty UID: 8ae119d6341044d7a4fddcda289a1810 <None>\", \"has_parent\": true, \"subjobs\": 0}, {\"id\": {\"value\": \"c73e55f92b50488b9625c9687518180a\", \"type\": \"clipboard\"}, \"progress\": \"processing Almost done...\", \"start date\": \"2023-10-16 14:01:10\", \"logs\": \"\", \"result\": \"\", \"has_parent\": true, \"subjobs\": 0}, {\"id\": {\"value\": \"0ef2b98c89f844d8a45bbe2c31b0b5db\", \"type\": \"clipboard\"}, \"progress\": \"completed\", \"start date\": \"2023-10-16 14:01:10\", \"logs\": \"\", \"result\": \"ActionDataEmpty UID: 956819cb3fb6459988ee92bc97ff649e <None>\", \"has_parent\": true, \"subjobs\": 0}, {\"id\": {\"value\": \"dc1d95375b0f4ed7904460f1cb7e7449\", \"type\": \"clipboard\"}, \"progress\": \"created\", \"start date\": \"2023-10-16 14:01:10\", \"logs\": \"\", \"result\": \"\", \"has_parent\": true, \"subjobs\": 0}, {\"id\": {\"value\": \"e1eee8e62c5b4a13af94c6712cb2d1ab\", \"type\": \"clipboard\"}, \"progress\": \"created\", \"start date\": \"2023-10-16 14:01:10\", \"logs\": \"\", \"result\": \"\", \"has_parent\": true, \"subjobs\": 0}]\n",
       "                                var page_sizedf9e530d3e4d4e02a2cc3eb861cee1e8 = 5\n",
       "                                var pageIndexdf9e530d3e4d4e02a2cc3eb861cee1e8 = 1\n",
       "                                var paginatedElementsdf9e530d3e4d4e02a2cc3eb861cee1e8 = []\n",
       "                                var activeFilterdf9e530d3e4d4e02a2cc3eb861cee1e8;\n",
       "\n",
       "                                function buildDropDownMenu(elements){\n",
       "                                    let init_filter;\n",
       "                                    let menu = document.getElementById('search-dropdown-contentdf9e530d3e4d4e02a2cc3eb861cee1e8')\n",
       "                                    if (elements.length > 0) {\n",
       "                                        let sample = elements[0]\n",
       "                                        for (const attr in sample) {\n",
       "                                            if (typeof init_filter === 'undefined'){\n",
       "                                                init_filter = attr;\n",
       "                                            }\n",
       "                                            let content = document.createElement('div');\n",
       "                                            content.onclick = function(event) {\n",
       "                                                event.stopPropagation()\n",
       "                                                document.getElementById('menu-active-filterdf9e530d3e4d4e02a2cc3eb861cee1e8').innerText = attr;\n",
       "                                                activeFilterdf9e530d3e4d4e02a2cc3eb861cee1e8 = attr;\n",
       "                                                document.getElementById(\n",
       "                                                    'search-dropdown-contentdf9e530d3e4d4e02a2cc3eb861cee1e8'\n",
       "                                                ).style.display= 'none';\n",
       "                                            }\n",
       "                                            content.classList.add(\"dd-options\");\n",
       "                                            content.innerText = attr;\n",
       "                                            menu.appendChild(content);\n",
       "                                        }\n",
       "                                    } else {\n",
       "                                        let init_filter = '---'\n",
       "                                    }\n",
       "                                    let dropdown_field = document.getElementById('search-menudf9e530d3e4d4e02a2cc3eb861cee1e8')\n",
       "                                    let span = document.createElement('span')\n",
       "                                    span.setAttribute('id', 'menu-active-filterdf9e530d3e4d4e02a2cc3eb861cee1e8')\n",
       "                                    span.innerText = init_filter\n",
       "                                    activeFilterdf9e530d3e4d4e02a2cc3eb861cee1e8 = init_filter;\n",
       "                                    dropdown_field.appendChild(span)\n",
       "                                }\n",
       "\n",
       "                                buildDropDownMenu(elementdf9e530d3e4d4e02a2cc3eb861cee1e8)\n",
       "                            </script>\n",
       "                        </div>\n",
       "                        <input id='searchKeydf9e530d3e4d4e02a2cc3eb861cee1e8' class='search-input' placeholder='Enter search here ...'  />\n",
       "                    </div>\n",
       "                    <button class='search-button' type=\"button\" onclick=\"searchGriddf9e530d3e4d4e02a2cc3eb861cee1e8(elementdf9e530d3e4d4e02a2cc3eb861cee1e8)\">\n",
       "                        <svg width=\"11\" height=\"10\" viewBox=\"0 0 11 10\" fill=\"none\" xmlns=\"http://www.w3.org/2000/svg\"><path d=\"M10.5652 9.23467L8.21819 6.88811C8.89846 6.07141 9.23767 5.02389 9.16527 3.96345C9.09287 2.90302 8.61443 1.91132 7.82948 1.19466C7.04453 0.477995 6.01349 0.0915414 4.95087 0.115691C3.88824 0.139841 2.87583 0.572735 2.12425 1.32432C1.37266 2.0759 0.939768 3.08831 0.915618 4.15094C0.891468 5.21357 1.27792 6.2446 1.99459 7.02955C2.71125 7.8145 3.70295 8.29294 4.76338 8.36535C5.82381 8.43775 6.87134 8.09853 7.68804 7.41827L10.0346 9.7653C10.0694 9.80014 10.1108 9.82778 10.1563 9.84663C10.2018 9.86549 10.2506 9.87519 10.2999 9.87519C10.3492 9.87519 10.398 9.86549 10.4435 9.84663C10.489 9.82778 10.5304 9.80014 10.5652 9.7653C10.6001 9.73046 10.6277 9.68909 10.6466 9.64357C10.6654 9.59805 10.6751 9.54926 10.6751 9.49998C10.6751 9.45071 10.6654 9.40192 10.6466 9.3564C10.6277 9.31088 10.6001 9.26951 10.5652 9.23467ZM1.67491 4.24998C1.67491 3.58247 1.87285 2.92995 2.2437 2.37493C2.61455 1.81992 3.14165 1.38734 3.75835 1.13189C4.37506 0.876446 5.05366 0.809609 5.70834 0.939835C6.36303 1.07006 6.96439 1.3915 7.4364 1.8635C7.9084 2.3355 8.22984 2.93687 8.36006 3.59155C8.49029 4.24624 8.42345 4.92484 8.168 5.54154C7.91256 6.15824 7.47998 6.68535 6.92496 7.05619C6.36995 7.42704 5.71742 7.62498 5.04991 7.62498C4.15511 7.62399 3.29724 7.26809 2.66452 6.63537C2.0318 6.00265 1.6759 5.14479 1.67491 4.24998Z\" fill=\"currentColor\"/></svg>\n",
       "                        <span class='pl-8'>Search</span>\n",
       "                    </button>\n",
       "                </div>\n",
       "\n",
       "                <div><h4 id='totaldf9e530d3e4d4e02a2cc3eb861cee1e8'>0</h4></div>\n",
       "            </div>\n",
       "            <div id='tabledf9e530d3e4d4e02a2cc3eb861cee1e8' class='grid-tabledf9e530d3e4d4e02a2cc3eb861cee1e8' style='margin-top: 25px;'>\n",
       "                <script>\n",
       "                    function paginatedf9e530d3e4d4e02a2cc3eb861cee1e8(arr, size) {\n",
       "                        const res = [];\n",
       "                        for (let i = 0; i < arr.length; i += size) {\n",
       "                            const chunk = arr.slice(i, i + size);\n",
       "                            res.push(chunk);\n",
       "                        }\n",
       "\n",
       "                        return res;\n",
       "                    }\n",
       "\n",
       "                    function searchGriddf9e530d3e4d4e02a2cc3eb861cee1e8(elements){\n",
       "                        let searchKey = document.getElementById('searchKeydf9e530d3e4d4e02a2cc3eb861cee1e8').value;\n",
       "                        let result;\n",
       "                        if (searchKey === ''){\n",
       "                            result = elements;\n",
       "                        } else {\n",
       "                            result = elements.filter((element) => {\n",
       "                                let property = element[activeFilterdf9e530d3e4d4e02a2cc3eb861cee1e8]\n",
       "                                if (typeof property === 'object' && property !== null){\n",
       "                                    return property.value.toLowerCase().includes(searchKey.toLowerCase());\n",
       "                                } else if (typeof property === 'string' ) {\n",
       "                                    return element[activeFilterdf9e530d3e4d4e02a2cc3eb861cee1e8].toLowerCase().includes(searchKey.toLowerCase());\n",
       "                                } else if (property !== null ) {\n",
       "                                    return element[activeFilterdf9e530d3e4d4e02a2cc3eb861cee1e8].toString() === searchKey;\n",
       "                                } else {\n",
       "                                    return element[activeFilterdf9e530d3e4d4e02a2cc3eb861cee1e8] === searchKey;\n",
       "                                }\n",
       "                            } );\n",
       "                        }\n",
       "                        resetByIddf9e530d3e4d4e02a2cc3eb861cee1e8('tabledf9e530d3e4d4e02a2cc3eb861cee1e8');\n",
       "                        resetByIddf9e530d3e4d4e02a2cc3eb861cee1e8('pagdf9e530d3e4d4e02a2cc3eb861cee1e8');\n",
       "                        result = paginatedf9e530d3e4d4e02a2cc3eb861cee1e8(result, page_sizedf9e530d3e4d4e02a2cc3eb861cee1e8)\n",
       "                        buildGriddf9e530d3e4d4e02a2cc3eb861cee1e8(result,pageIndexdf9e530d3e4d4e02a2cc3eb861cee1e8);\n",
       "                        buildPaginationContainerdf9e530d3e4d4e02a2cc3eb861cee1e8(result);\n",
       "                    }\n",
       "\n",
       "                    function setThemedf9e530d3e4d4e02a2cc3eb861cee1e8(){\n",
       "                        const theme = document.body.getAttribute('data-jp-theme-light') === 'true' ? 'light' : 'dark';\n",
       "\n",
       "                        if (theme === 'dark') document.body.classList.add('dark-theme');\n",
       "                        else document.body.classList.remove('dark-theme');\n",
       "\n",
       "                    }\n",
       "\n",
       "                    function resetByIddf9e530d3e4d4e02a2cc3eb861cee1e8(id){\n",
       "                        let element = document.getElementById(id);\n",
       "                        while (element.firstChild) {\n",
       "                          element.removeChild(element.firstChild);\n",
       "                        }\n",
       "                    }\n",
       "\n",
       "                    function buildGriddf9e530d3e4d4e02a2cc3eb861cee1e8(items, pageIndex){\n",
       "                                let headers = Object.keys(elementdf9e530d3e4d4e02a2cc3eb861cee1e8[0]);\n",
       "\n",
       "                                let grid = document.getElementById(\"tabledf9e530d3e4d4e02a2cc3eb861cee1e8\");\n",
       "                                let div = document.createElement(\"div\");\n",
       "                                div.classList.add('grid-header', 'grid-index-cells');\n",
       "                                grid.appendChild(div);\n",
       "                                setThemedf9e530d3e4d4e02a2cc3eb861cee1e8();\n",
       "                                headers.forEach((title) =>{\n",
       "                                    let div = document.createElement(\"div\");\n",
       "                                    div.classList.add('grid-header', 'grid-std-cells');\n",
       "                                    div.innerText = title;\n",
       "\n",
       "                                    grid.appendChild(div);\n",
       "                                });\n",
       "\n",
       "                                let page = items[pageIndex -1]\n",
       "                                if (page !== 'undefine'){\n",
       "                                    let table_indexdf9e530d3e4d4e02a2cc3eb861cee1e8 = ((pageIndex - 1) * page_sizedf9e530d3e4d4e02a2cc3eb861cee1e8)\n",
       "                                    page.forEach((item) => {\n",
       "                                        let grid = document.getElementById(\"tabledf9e530d3e4d4e02a2cc3eb861cee1e8\");\n",
       "                                        // Add new index value in index cells\n",
       "                                        let divIndex = document.createElement(\"div\");\n",
       "                                        divIndex.classList.add('grid-row', 'grid-index-cells');\n",
       "                                        divIndex.innerText = table_indexdf9e530d3e4d4e02a2cc3eb861cee1e8;\n",
       "                                        grid.appendChild(divIndex);\n",
       "\n",
       "                                        // Iterate over the actual obj\n",
       "                                        for (const attr in item) {\n",
       "                                            let div = document.createElement(\"div\");\n",
       "                                            if (typeof item[attr] === 'object'\n",
       "                                                && item[attr] !== null\n",
       "                                                && item[attr].hasOwnProperty('type')) {\n",
       "                                                if (item[attr].type.includes('badge')){\n",
       "                                                    let badge_div = document.createElement(\"div\");\n",
       "                                                    badge_div.classList.add('badge',item[attr].type)\n",
       "                                                    badge_div.innerText = String(item[attr].value).toUpperCase();\n",
       "                                                    div.appendChild(badge_div);\n",
       "                                                    div.classList.add('grid-row','grid-std-cells');\n",
       "                                                } else if (item[attr].type === \"clipboard\") {\n",
       "                                                    div.classList.add('grid-row','grid-std-cells');\n",
       "\n",
       "                                                    // Create clipboard div\n",
       "                                                    let clipboard_div = document.createElement('div');\n",
       "                                                    clipboard_div.style.display= 'flex';\n",
       "                                                    clipboard_div.classList.add(\"gap-10\")\n",
       "                                                    clipboard_div.style.justifyContent = \"space-between\";\n",
       "\n",
       "                                                    let id_text = document.createElement('div');\n",
       "                                                    if (item[attr].value == \"None\"){\n",
       "                                                        id_text.innerText = \"None\";\n",
       "                                                    }\n",
       "                                                    else{\n",
       "                                                        id_text.innerText = item[attr].value.slice(0,5) + \"...\";\n",
       "                                                    }\n",
       "\n",
       "                                                    clipboard_div.appendChild(id_text);\n",
       "                                                    let clipboard_img = document.createElement('div');\n",
       "                                                    clipboard_img.classList.add(\"clipboard\")\n",
       "                                                    div.onclick = function() {\n",
       "                                                        navigator.clipboard.writeText(item[attr].value);\n",
       "                                                    };\n",
       "                                                    clipboard_img.innerHTML = \"<svg width='8' height='8' viewBox='0 0 8 8' fill='none' xmlns='http://www.w3.org/2000/svg'><path d='M7.4375 0.25H2.4375C2.35462 0.25 2.27513 0.282924 2.21653 0.341529C2.15792 0.400134 2.125 0.47962 2.125 0.5625V2.125H0.5625C0.47962 2.125 0.400134 2.15792 0.341529 2.21653C0.282924 2.27513 0.25 2.35462 0.25 2.4375V7.4375C0.25 7.52038 0.282924 7.59987 0.341529 7.65847C0.400134 7.71708 0.47962 7.75 0.5625 7.75H5.5625C5.64538 7.75 5.72487 7.71708 5.78347 7.65847C5.84208 7.59987 5.875 7.52038 5.875 7.4375V5.875H7.4375C7.52038 5.875 7.59987 5.84208 7.65847 5.78347C7.71708 5.72487 7.75 5.64538 7.75 5.5625V0.5625C7.75 0.47962 7.71708 0.400134 7.65847 0.341529C7.59987 0.282924 7.52038 0.25 7.4375 0.25ZM5.25 7.125H0.875V2.75H5.25V7.125ZM7.125 5.25H5.875V2.4375C5.875 2.35462 5.84208 2.27513 5.78347 2.21653C5.72487 2.15792 5.64538 2.125 5.5625 2.125H2.75V0.875H7.125V5.25Z' fill='#464158'/></svg>\";\n",
       "\n",
       "                                                    clipboard_div.appendChild(clipboard_img);\n",
       "                                                    div.appendChild(clipboard_div);\n",
       "                                                }\n",
       "                                            } else{\n",
       "                                                div.classList.add('grid-row','grid-std-cells');\n",
       "                                                if (item[attr] == null) {\n",
       "                                                    text = ' '\n",
       "                                                } else {\n",
       "                                                    text = String(item[attr])\n",
       "                                                }\n",
       "                                                if (text.length > 150){\n",
       "                                                    text = text.slice(0,150) + \"...\";\n",
       "                                                }\n",
       "                                                text = text.replaceAll(\"\\n\", \"</br>\");\n",
       "                                                div.innerHTML = text;\n",
       "                                            }\n",
       "                                            grid.appendChild(div);\n",
       "                                        }\n",
       "                                    table_indexdf9e530d3e4d4e02a2cc3eb861cee1e8 = table_indexdf9e530d3e4d4e02a2cc3eb861cee1e8 + 1;\n",
       "                                    })\n",
       "                                }\n",
       "                    }\n",
       "                    paginatedElementsdf9e530d3e4d4e02a2cc3eb861cee1e8 = paginatedf9e530d3e4d4e02a2cc3eb861cee1e8(elementdf9e530d3e4d4e02a2cc3eb861cee1e8, page_sizedf9e530d3e4d4e02a2cc3eb861cee1e8)\n",
       "                    buildGriddf9e530d3e4d4e02a2cc3eb861cee1e8(paginatedElementsdf9e530d3e4d4e02a2cc3eb861cee1e8, 1)\n",
       "                    document.getElementById('totaldf9e530d3e4d4e02a2cc3eb861cee1e8').innerText = \"Total: \" + elementdf9e530d3e4d4e02a2cc3eb861cee1e8.length\n",
       "                </script>\n",
       "            </div>\n",
       "            <div id='pagdf9e530d3e4d4e02a2cc3eb861cee1e8' class='paginationContainer'>\n",
       "                <script>\n",
       "                    function buildPaginationContainerdf9e530d3e4d4e02a2cc3eb861cee1e8(paginatedElements){\n",
       "                            let pageContainer = document.getElementById(\"pagdf9e530d3e4d4e02a2cc3eb861cee1e8\");\n",
       "                            for (let i = 0; i < paginatedElements.length; i++) {\n",
       "                                  let div = document.createElement(\"div\");\n",
       "                                  div.classList.add('page');\n",
       "                                  if(i===0) div.style.color = \"gray\";\n",
       "                                  else div.style.color = 'var(--tertiary-color, \"gray\")';\n",
       "                                  div.onclick = function(event) {\n",
       "                                      let indexes = document.getElementsByClassName('page');\n",
       "                                      for (let index of indexes) { index.style.color = 'var(--tertiary-color, \"gray\")' }\n",
       "                                      event.target.style.color = \"gray\";\n",
       "                                      setPagedf9e530d3e4d4e02a2cc3eb861cee1e8(i + 1);\n",
       "                                  };\n",
       "                                  div.innerText = i + 1;\n",
       "                                  pageContainer.appendChild(div);\n",
       "                            }\n",
       "                    }\n",
       "\n",
       "                    function setPagedf9e530d3e4d4e02a2cc3eb861cee1e8(newPage){\n",
       "                        pageIndex = newPage\n",
       "                        resetByIddf9e530d3e4d4e02a2cc3eb861cee1e8('tabledf9e530d3e4d4e02a2cc3eb861cee1e8')\n",
       "                        buildGriddf9e530d3e4d4e02a2cc3eb861cee1e8(paginatedElementsdf9e530d3e4d4e02a2cc3eb861cee1e8, pageIndex)\n",
       "                    }\n",
       "\n",
       "                    buildPaginationContainerdf9e530d3e4d4e02a2cc3eb861cee1e8(paginatedElementsdf9e530d3e4d4e02a2cc3eb861cee1e8)\n",
       "                </script>\n",
       "            </div>\n",
       "        </div>\n",
       "    </div>\n",
       "    </div>\n"
      ],
      "text/plain": [
       "<syft.client.api.APIModule at 0x7f048c197df0>"
      ]
     },
     "execution_count": 15,
     "metadata": {},
     "output_type": "execute_result"
    },
    {
     "name": "stdout",
     "output_type": "stream",
     "text": [
      "LAUNCHING JOB func\n"
     ]
    },
    {
     "name": "stderr",
     "output_type": "stream",
     "text": [
      "FUNCTION LOG ((<UID: 17244399f3b54cec85824a6aa8f64198>, 10)): 2 1 1\n"
     ]
    },
    {
     "name": "stdout",
     "output_type": "stream",
     "text": [
      "LAUNCHING JOB func\n"
     ]
    },
    {
     "name": "stderr",
     "output_type": "stream",
     "text": [
      "FUNCTION LOG ((<UID: 17244399f3b54cec85824a6aa8f64198>, 10)): 2 1 2\n"
     ]
    },
    {
     "name": "stdout",
     "output_type": "stream",
     "text": [
      "LAUNCHING JOB func\n"
     ]
    },
    {
     "name": "stderr",
     "output_type": "stream",
     "text": [
      "FUNCTION LOG ((<UID: 17244399f3b54cec85824a6aa8f64198>, 10)): 2 1 3\n"
     ]
    },
    {
     "name": "stdout",
     "output_type": "stream",
     "text": [
      "LAUNCHING JOB func\n"
     ]
    },
    {
     "name": "stderr",
     "output_type": "stream",
     "text": [
      "FUNCTION LOG ((<UID: 17244399f3b54cec85824a6aa8f64198>, 10)): 2 2 1\n"
     ]
    },
    {
     "name": "stdout",
     "output_type": "stream",
     "text": [
      "LAUNCHING JOB func\n"
     ]
    },
    {
     "name": "stderr",
     "output_type": "stream",
     "text": [
      "FUNCTION LOG ((<UID: 17244399f3b54cec85824a6aa8f64198>, 10)): 2 2 2\n"
     ]
    },
    {
     "name": "stdout",
     "output_type": "stream",
     "text": [
      "LAUNCHING JOB func\n"
     ]
    }
   ],
   "source": [
    "jobs = client.jobs\n",
    "jobs"
   ]
  },
  {
   "cell_type": "code",
   "execution_count": 13,
   "metadata": {},
   "outputs": [],
   "source": [
    "job_tree = {}\n",
    "for job in jobs:\n",
    "    if job.parent_job_id in job_tree:\n",
    "        job_tree[job.parent_job_id].append(job)\n",
    "    else:\n",
    "        job_tree[job.parent_job_id] = [job]"
   ]
  },
  {
   "cell_type": "code",
   "execution_count": 14,
   "metadata": {},
   "outputs": [
    {
     "name": "stdout",
     "output_type": "stream",
     "text": [
      "├─ 17244399f3b54cec85824a6aa8f64198\n"
     ]
    },
    {
     "name": "stderr",
     "output_type": "stream",
     "text": [
      "FUNCTION LOG ((<UID: 17244399f3b54cec85824a6aa8f64198>, 10)): start\n",
      "FUNCTION LOG ((<UID: 17244399f3b54cec85824a6aa8f64198>, 10)): 1 1 1\n"
     ]
    },
    {
     "name": "stdout",
     "output_type": "stream",
     "text": [
      "LAUNCHING JOB func\n"
     ]
    },
    {
     "name": "stderr",
     "output_type": "stream",
     "text": [
      "FUNCTION LOG ((<UID: 17244399f3b54cec85824a6aa8f64198>, 10)): 1 1 2\n"
     ]
    },
    {
     "name": "stdout",
     "output_type": "stream",
     "text": [
      "LAUNCHING JOB func\n"
     ]
    },
    {
     "name": "stderr",
     "output_type": "stream",
     "text": [
      "FUNCTION LOG ((<UID: 17244399f3b54cec85824a6aa8f64198>, 10)): 1 1 3\n"
     ]
    },
    {
     "name": "stdout",
     "output_type": "stream",
     "text": [
      "LAUNCHING JOB func\n"
     ]
    },
    {
     "name": "stderr",
     "output_type": "stream",
     "text": [
      "FUNCTION LOG ((<UID: 17244399f3b54cec85824a6aa8f64198>, 10)): 1 2 1\n"
     ]
    },
    {
     "name": "stdout",
     "output_type": "stream",
     "text": [
      "LAUNCHING JOB func\n"
     ]
    },
    {
     "name": "stderr",
     "output_type": "stream",
     "text": [
      "FUNCTION LOG ((<UID: 17244399f3b54cec85824a6aa8f64198>, 10)): 1 2 2\n"
     ]
    },
    {
     "name": "stdout",
     "output_type": "stream",
     "text": [
      "LAUNCHING JOB func\n"
     ]
    },
    {
     "name": "stderr",
     "output_type": "stream",
     "text": [
      "FUNCTION LOG ((<UID: 17244399f3b54cec85824a6aa8f64198>, 10)): 1 2 3\n"
     ]
    },
    {
     "name": "stdout",
     "output_type": "stream",
     "text": [
      "LAUNCHING JOB func\n"
     ]
    },
    {
     "name": "stderr",
     "output_type": "stream",
     "text": [
      "FUNCTION LOG ((<UID: 17244399f3b54cec85824a6aa8f64198>, 10)): 1 3 1\n"
     ]
    },
    {
     "name": "stdout",
     "output_type": "stream",
     "text": [
      "LAUNCHING JOB func\n"
     ]
    },
    {
     "name": "stderr",
     "output_type": "stream",
     "text": [
      "FUNCTION LOG ((<UID: 17244399f3b54cec85824a6aa8f64198>, 10)): 1 3 2\n"
     ]
    }
   ],
   "source": [
    "def recursive_print(parent_job, tab_space = 0):\n",
    "    lines = \"─\"\n",
    "    if parent_job.id in job_tree:\n",
    "        for job in job_tree[parent_job.id]:\n",
    "            print(f\"├─{lines * 2}\",  job.id)\n",
    "            recursive_print(job, tab_space=tab_space+2)\n",
    "\n",
    "for job in jobs:\n",
    "    if not job.has_parent:\n",
    "        print(\"├─\", job.id)\n",
    "        recursive_print(job, tab_space=2)\n",
    "        "
   ]
  }
 ],
 "metadata": {
  "kernelspec": {
   "display_name": "syft_3.11",
   "language": "python",
   "name": "python3"
  },
  "language_info": {
   "codemirror_mode": {
    "name": "ipython",
    "version": 3
   },
   "file_extension": ".py",
   "mimetype": "text/x-python",
   "name": "python",
   "nbconvert_exporter": "python",
   "pygments_lexer": "ipython3",
   "version": "3.10.11"
  }
 },
 "nbformat": 4,
 "nbformat_minor": 2
}
