{
 "cells": [
  {
   "cell_type": "code",
   "execution_count": 1,
   "metadata": {},
   "outputs": [
    {
     "name": "stderr",
     "output_type": "stream",
     "text": [
      "kj/filesystem-disk-unix.c++:1703: warning: PWD environment variable doesn't match current directory; pwd = /Users/koen/workspace/pysyft/notebooks\n"
     ]
    }
   ],
   "source": [
    "# stdlib\n",
    "import os\n",
    "\n",
    "# syft absolute\n",
    "import syft as sy"
   ]
  },
  {
   "cell_type": "code",
   "execution_count": null,
   "metadata": {},
   "outputs": [],
   "source": []
  },
  {
   "cell_type": "code",
   "execution_count": 3,
   "metadata": {},
   "outputs": [
    {
     "name": "stdout",
     "output_type": "stream",
     "text": [
      "Logged into <test: High side Domain> as <info@openmined.org>\n"
     ]
    },
    {
     "data": {
      "text/html": [
       "<div class=\"alert-warning\" style=\"padding:5px;\"><strong>SyftWarning</strong>: You are using a default password. Please change the password using `[your_client].me.set_password([new_password])`.</div><br />"
      ],
      "text/plain": [
       "SyftWarning: You are using a default password. Please change the password using `[your_client].me.set_password([new_password])`."
      ]
     },
     "metadata": {},
     "output_type": "display_data"
    }
   ],
   "source": [
    "# node = sy.orchestra.launch(\n",
    "#     name=\"test-domain-helm2\",\n",
    "#     dev_mode=True,\n",
    "#     reset=True,\n",
    "#     n_consumers=4,\n",
    "#     create_producer=True,\n",
    "# )\n",
    "# client = node.login(email=\"info@openmined.org\", password=\"changethis\")\n",
    "\n",
    "client = sy.login(\n",
    "    url=\"http://localhost:8080\", email=\"info@openmined.org\", password=\"changethis\"\n",
    ")"
   ]
  },
  {
   "cell_type": "code",
   "execution_count": 4,
   "metadata": {},
   "outputs": [],
   "source": [
    "# [x.wait() for x in job.subjobs]"
   ]
  },
  {
   "cell_type": "code",
   "execution_count": null,
   "metadata": {},
   "outputs": [],
   "source": []
  },
  {
   "cell_type": "code",
   "execution_count": 5,
   "metadata": {},
   "outputs": [],
   "source": [
    "# stdlib"
   ]
  },
  {
   "cell_type": "code",
   "execution_count": 6,
   "metadata": {},
   "outputs": [],
   "source": [
    "# import random\n",
    "# import string\n",
    "\n",
    "# def generate_random_line(length):\n",
    "#     return ''.join(random.choice(string.ascii_letters + string.digits) for _ in range(length))\n",
    "\n",
    "# def generate_large_file(file_path, num_lines, line_length):\n",
    "#     with open(file_path, 'w') as file:\n",
    "#         for _ in range(num_lines):\n",
    "#             line = generate_random_line(line_length)\n",
    "#             file.write(line + '\\n')\n",
    "\n",
    "# file_path = \"large_file.txt\"\n",
    "# num_lines = 34359712  # Adjust the number of lines as needed\n",
    "# line_length = 1000  # Adjust the line length as needed\n",
    "\n",
    "# generate_large_file(file_path, num_lines, line_length)"
   ]
  },
  {
   "cell_type": "code",
   "execution_count": null,
   "metadata": {},
   "outputs": [],
   "source": []
  },
  {
   "cell_type": "code",
   "execution_count": 7,
   "metadata": {},
   "outputs": [],
   "source": [
    "# with open(\"somefile16gb.txt\", 'rb') as input_file, open(\"somefile32gb.txt\", 'ab') as output_file:\n",
    "#     while True:\n",
    "#         chunk = input_file.read(50 -random.randint(1, 10))\n",
    "#         if not chunk:\n",
    "#             break\n",
    "#         output_file.write(chunk)\n",
    "# #     while True:\n",
    "# #         chunk = input_file.read(50 -random.randint(1, 10))\n",
    "# #         if not chunk:\n",
    "# #             break\n",
    "# #         output_file.write(chunk)"
   ]
  },
  {
   "cell_type": "code",
   "execution_count": 8,
   "metadata": {},
   "outputs": [],
   "source": [
    "# lines_per_gb = int(2**30 / 1000)\n",
    "# gbs=32\n",
    "# with open(f'somefilerandom{gbs}gb.txt', 'wb') as f:\n",
    "#     for x in range(lines_per_gb*gbs):\n",
    "#         f.write(str.encode(''.join(random.choices(string.ascii_uppercase + string.digits, k=1000))) + b'\\n')"
   ]
  },
  {
   "cell_type": "code",
   "execution_count": 9,
   "metadata": {},
   "outputs": [],
   "source": [
    "# stdlib\n",
    "from pathlib import Path\n",
    "\n",
    "# syft absolute\n",
    "from syft.client.client import SyftClient\n",
    "from syft.store.blob_storage import BlobDeposit\n",
    "from syft.types.blob_storage import CreateBlobStorageEntry"
   ]
  },
  {
   "cell_type": "code",
   "execution_count": 10,
   "metadata": {},
   "outputs": [],
   "source": [
    "def allocate_file(client: SyftClient, path: Path) -> BlobDeposit:\n",
    "    create_blob_storage_entry = CreateBlobStorageEntry.from_path(path)\n",
    "    return client.api.services.blob_storage.allocate(create_blob_storage_entry)"
   ]
  },
  {
   "cell_type": "code",
   "execution_count": 11,
   "metadata": {},
   "outputs": [],
   "source": [
    "file = \"somefile32gb.txt\""
   ]
  },
  {
   "cell_type": "code",
   "execution_count": 12,
   "metadata": {},
   "outputs": [],
   "source": [
    "dep = allocate_file(client, Path(file))"
   ]
  },
  {
   "cell_type": "code",
   "execution_count": 13,
   "metadata": {},
   "outputs": [
    {
     "data": {
      "text/markdown": [
       "```python\n",
       "class SeaweedFSBlobDeposit:\n",
       "  id: str = 741c4e3f5cfd4705ba3d12fc076b19dd\n",
       "\n",
       "```"
      ],
      "text/plain": [
       "syft.store.blob_storage.seaweedfs.SeaweedFSBlobDeposit"
      ]
     },
     "execution_count": 13,
     "metadata": {},
     "output_type": "execute_result"
    }
   ],
   "source": [
    "dep"
   ]
  },
  {
   "cell_type": "code",
   "execution_count": 14,
   "metadata": {},
   "outputs": [],
   "source": [
    "# from syft.client.api import APIRegistry\n",
    "\n",
    "# api = APIRegistry.api_for(\n",
    "#     node_uid=dep.syft_node_location,\n",
    "#     user_verify_key=dep.syft_client_verify_key,\n",
    "# )\n",
    "\n",
    "# url = dep.urls[0]\n",
    "\n",
    "# if api is not None:\n",
    "#     blob_url = api.connection.to_blob_route(\n",
    "#         url.url_path, host=url.host_or_ip\n",
    "#     )\n",
    "# else:\n",
    "#     blob_url = url\n",
    "\n",
    "# url = str(blob_url)"
   ]
  },
  {
   "cell_type": "code",
   "execution_count": 15,
   "metadata": {},
   "outputs": [],
   "source": [
    "# import requests\n",
    "\n",
    "# from syft import SyftError\n",
    "\n",
    "# from io import BytesIO\n",
    "\n",
    "# from typing import Generator\n",
    "\n",
    "# def _byte_chunks(bytes: BytesIO, size: int) -> Generator[bytes, None, None]:\n",
    "#     while True:\n",
    "#         try:\n",
    "#             yield bytes.read(size)\n",
    "#         except BlockingIOError:\n",
    "#             return\n",
    "\n",
    "# DEFAULT_CHUNK_SIZE = (1024**3 // 10)  # 100MB\n",
    "# DEFAULT_TIMEOUT = 5000  # in seconds\n",
    "\n",
    "# print(len(dep.urls))"
   ]
  },
  {
   "cell_type": "code",
   "execution_count": 16,
   "metadata": {},
   "outputs": [],
   "source": [
    "# third party"
   ]
  },
  {
   "cell_type": "code",
   "execution_count": 17,
   "metadata": {},
   "outputs": [],
   "source": [
    "# byte_chunk[16384: 16384+10000]"
   ]
  },
  {
   "cell_type": "code",
   "execution_count": null,
   "metadata": {},
   "outputs": [],
   "source": []
  },
  {
   "cell_type": "code",
   "execution_count": null,
   "metadata": {},
   "outputs": [],
   "source": []
  },
  {
   "cell_type": "code",
   "execution_count": 18,
   "metadata": {},
   "outputs": [],
   "source": [
    "# # relative\n",
    "# with open(file, \"rb\") as data:\n",
    "#     from syft.client.api import APIRegistry\n",
    "\n",
    "#     api = APIRegistry.api_for(\n",
    "#         node_uid=dep.syft_node_location,\n",
    "#         user_verify_key=dep.syft_client_verify_key,\n",
    "#     )\n",
    "\n",
    "#     etags = []\n",
    "\n",
    "#     try:\n",
    "#         no_lines = 0\n",
    "#         for part_no, (byte_chunk, url) in tqdm(enumerate(\n",
    "#             zip(_byte_chunks(data, DEFAULT_CHUNK_SIZE), dep.urls),\n",
    "#             start=1,\n",
    "#         )):\n",
    "#             no_lines += byte_chunk.count(b\"\\n\")\n",
    "#             if api is not None:\n",
    "#                 blob_url = api.connection.to_blob_route(\n",
    "#                     url.url_path, host=url.host_or_ip\n",
    "#                 )\n",
    "#             else:\n",
    "#                 blob_url = url\n",
    "\n",
    "#             def data_generator(bytes_, chunk_size=819200):\n",
    "#                 n=0\n",
    "#                 while n*chunk_size <= len(bytes_):\n",
    "#                     chunk = bytes_[n*chunk_size:(n+1)*chunk_size]\n",
    "#                     n += 1\n",
    "#                     yield chunk\n",
    "\n",
    "#             response = requests.put(\n",
    "#                 url=str(blob_url), data=data_generator(byte_chunk), timeout=DEFAULT_TIMEOUT, stream=True\n",
    "#             )\n",
    "#             response.raise_for_status()\n",
    "#             etag = response.headers[\"ETag\"]\n",
    "#             etags.append({\"ETag\": etag, \"PartNumber\": part_no})\n",
    "#     except requests.RequestException as e:\n",
    "#         print(e)"
   ]
  },
  {
   "cell_type": "code",
   "execution_count": 19,
   "metadata": {},
   "outputs": [],
   "source": [
    "# len([x for x in data_generator(byte_chunk)])"
   ]
  },
  {
   "cell_type": "code",
   "execution_count": 20,
   "metadata": {},
   "outputs": [],
   "source": [
    "# (1024 ** 3) // 10"
   ]
  },
  {
   "cell_type": "code",
   "execution_count": 21,
   "metadata": {},
   "outputs": [],
   "source": [
    "# api.services.blob_storage.mark_write_complete(etags=etags, uid=dep.blob_storage_entry_id, no_lines=no_lines)"
   ]
  },
  {
   "cell_type": "code",
   "execution_count": 22,
   "metadata": {},
   "outputs": [],
   "source": [
    "# mark_write_complete_method = from_api_or_context(\n",
    "#     func_or_path=\"blob_storage.mark_write_complete\",\n",
    "#     syft_node_location=self.syft_node_location,\n",
    "#     syft_client_verify_key=self.syft_client_verify_key,\n",
    "# )\n",
    "# return mark_write_complete_method(\n",
    "#     etags=etags, uid=self.blob_storage_entry_id, no_lines=no_lines\n",
    "# )"
   ]
  },
  {
   "cell_type": "code",
   "execution_count": 23,
   "metadata": {},
   "outputs": [],
   "source": [
    "# with open(\"somefile.txt\", \"rb\") as f:\n",
    "#     dep.write(f)"
   ]
  },
  {
   "cell_type": "code",
   "execution_count": 24,
   "metadata": {},
   "outputs": [],
   "source": [
    "# syft absolute\n",
    "from syft.types.blob_storage import BlobFile"
   ]
  },
  {
   "cell_type": "code",
   "execution_count": 25,
   "metadata": {},
   "outputs": [
    {
     "name": "stdout",
     "output_type": "stream",
     "text": [
      "Uploading\n",
      "7\n",
      "4913438816\n",
      "34394071712\n",
      "1\n"
     ]
    },
    {
     "name": "stderr",
     "output_type": "stream",
     "text": [
      "Uploading file part 1/7: 100%|██████████████████████████████████████████████████████████████████████████| 5998/5998 [01:47<00:00, 55.76it/s]\n"
     ]
    },
    {
     "name": "stdout",
     "output_type": "stream",
     "text": [
      "2\n"
     ]
    },
    {
     "name": "stderr",
     "output_type": "stream",
     "text": [
      "Uploading file part 2/7: 100%|██████████████████████████████████████████████████████████████████████████| 5998/5998 [01:39<00:00, 60.00it/s]\n"
     ]
    },
    {
     "name": "stdout",
     "output_type": "stream",
     "text": [
      "3\n"
     ]
    },
    {
     "name": "stderr",
     "output_type": "stream",
     "text": [
      "Uploading file part 3/7: 100%|██████████████████████████████████████████████████████████████████████████| 5998/5998 [01:38<00:00, 60.69it/s]\n"
     ]
    },
    {
     "name": "stdout",
     "output_type": "stream",
     "text": [
      "4\n"
     ]
    },
    {
     "name": "stderr",
     "output_type": "stream",
     "text": [
      "Uploading file part 4/7: 100%|██████████████████████████████████████████████████████████████████████████| 5998/5998 [01:48<00:00, 55.42it/s]\n"
     ]
    },
    {
     "name": "stdout",
     "output_type": "stream",
     "text": [
      "5\n"
     ]
    },
    {
     "name": "stderr",
     "output_type": "stream",
     "text": [
      "Uploading file part 5/7: 100%|██████████████████████████████████████████████████████████████████████████| 5998/5998 [01:45<00:00, 56.86it/s]\n"
     ]
    },
    {
     "name": "stdout",
     "output_type": "stream",
     "text": [
      "6\n"
     ]
    },
    {
     "name": "stderr",
     "output_type": "stream",
     "text": [
      "Uploading file part 6/7: 100%|██████████████████████████████████████████████████████████████████████████| 5998/5998 [01:52<00:00, 53.14it/s]\n"
     ]
    },
    {
     "name": "stdout",
     "output_type": "stream",
     "text": [
      "7\n"
     ]
    },
    {
     "name": "stderr",
     "output_type": "stream",
     "text": [
      "Uploading file part 7/7: 100%|██████████████████████████████████████████████████████████████████████████| 5998/5998 [01:42<00:00, 58.46it/s]\n"
     ]
    }
   ],
   "source": [
    "x = BlobFile.upload_from_path(\"somefile32gb.txt\", client)"
   ]
  },
  {
   "cell_type": "code",
   "execution_count": 26,
   "metadata": {},
   "outputs": [
    {
     "name": "stdout",
     "output_type": "stream",
     "text": [
      "b'YEXFIA79OPO0ODMF7Z6SCGCYYHF8EIZ6NWP13WYVFPO7IC2W4CK6EDDCA7V1ITBU2F6IDLLAKX6RP39CDJF7THP30416ACJEGIXMFCGL25IRP6OCH6UEKGNYTL3RVSBI75T0DC2YIP98P0QBAYNEGBDFHENES15PBKOENVNBNTKW4MSGD3V74MDX0QIT5GM386O9QBPBD5NOFVR1GCSWT45A35O2ODJHFQ6HSLE0W5PNH2KWNGYP0OTOGG9DQ9JRHCDIORLLV1TJRDPXRITYKU7URHY0VVQ7G03VZ430A3CBEME6HBBAA0T6EYIM2M0ARIQYMAEAO3YLKOOSG868Z5BQXNY1FWMPQQY6NC942LKPZP9C8VK6WR6PLY926F5VV2G5E304T0RRB6D8I67G8D35SP60PJ3JUOIPW7NKMP99XMG2Z0UTT4SKWM1JW8H1DFOKOJD2OHE157V5HMFGU21VQRHN34M57M6EN7WGU27UKHENPC6DEV36ARCGGUX0A85JJTK0PADOOTLW1M5GDIX02O681LR2PY6ONJI71679VTRKVNCPLCSFQZV4XMR6NYFPDA3TAZCMUUH3HKJY8E4XY6D1FSKEJDC9P4UW05NJTAGAFQNG770F6IRYGKV29TLM1VJUNUYKY6PLYR4CSJ68HC8K5F1ZTDX9UEHRHZ2DAJ8Q8BJ5E2FNQIGZ8WJE4U2PG1BWDIXOXW8QWPQTAVQN8VVPWPUI9EQ8LR0YB0HQ2Q9WAYABIHHH3IEXF169MSGD2M37WFI4LWY2D136V7PY8ZPY9344JTW8L3DMS96IVCAPB3AXYCJK0BTHE01X2F0WNBGTQGLR0IPEOF637L8W9HLODUD6A0OLWSNFSJ6VCU6Y04FRUZQEYNT6IOS79DP6WXUTM6ZYMCEIUVAQCVIG1P94VABXJKW07YBW5HT5FT1B7E0SZ5EK3EX6HZUSD0PDUS49X5H8SDNSYANP98MHKNN7AGZ0546U3EAU'\n",
      "b'A0JQM0OZW95T1VAH58JLN3BWP24C39Y4W17O5QVG9SCHZW5C0DE0D1J1XPSKUXC1MKO1832M07BQCL26D3SM25F1GLSEWRZ3MCFILKUIH1WMNWQFFC556H8YCERGVL48WL9W3B1LX7Z071090LBP5MYK27CQB554SLBMS3BDAOWFDYJOEOJH0OPRXKBCIHMIDBRJU70P1L1BH4QST81AIE1A52XOT1QUCRLVVDBF2IVDMZNKCHL0UXMSMQV0KU1LUAQ7KJ5DY74SEGACFBRYMA3JR6PV49YTB4JQOKQQYCJE6F0WWC5N20TKFJ2MO4YLO6443ERPH7TBXEGVUJSN3QNHX9387XMGXUHQ28M0T017HSXDN75TVFX56QESCIELD9SYCXW0HYGKDBBSQHSNVZOZDQQ4HLNEZVZK6GV87F5951KEVGIF32907PIGRWYHJ7LZZ0TM9GWIOYZIAV5QL1Q3V78D1UAE85ZJ6I1BKKHY3IPLMOBUFMB9IX3K4PGREF7E2PU1BGK5U4YLZIWZRXPWUG9PVVY7RCKOXRKPXG3AUX7OUC23E5WI4JUTKKHKW9NTVIWECH44UE2OOLVY1NZO54RWSHSUWOZM9RZ4RY36FMSOK40AZTQ1HTKNDY4MZ35IJMHVWPK4Z2I203U16PMKWVYDQUN98N6CI3WZPSB6Q154D759MUD4XIE84DF4HGTN48VJTYEOWXL2W2IC0FYFGF8G69MBWNBZTO77V6AMBF9ID52MCMEVXQUSXEL3YR6BFS5HXXR5CO7K9ZNEGG1ESMB3ZLK8BYRU8QPWP5NVOAWMI0E76522V6Q1DDDVBXXZEG7Z5Q98DBGQSWYJEUN6Y1J3ZVFKRVF92WSPEG40M5SP6MN3805BDWOYKF27DS8STAU35PUFFF7KQBIM8FIP7FVVO4DLTW8ZU38IER28RI4P87P1MON29LC59HU50FWB3GZHPXBHV17ZCXK588UR4OSC2I0PIC9G5RIV'\n",
      "b'L749OOKP38NLWJVG18JU9ZKBG6IRII0TI8PA1MG04RNEIA1RU103293DDVINYAKXZJBI048OPYF2J6KUP98MUJBKWA81A363GNDIUZQADJ8LHFYH2191ADEOEML6ODK050JTZP1V9MUVA4S8A92EK84Z0AZLYCMNJFRBH7J6MMZ9SBI62SBH6A10HIVZ419Q7EVDWL6OLHOMC5LDCFJBRYZEZXED3A13HS6PHAP9594T71UIS3G1ABE92SXRJQDVARTRE2HNRWABRK4OQKQC8918RBCEFGE7CBWR3DT85BYSB9727UZ0JY4L069VD9GGYI226IJZX3I5CTDXK86G1K16HPED7R7U45T6WW5RLEVSGT6Z3RT4G0V1QC8HRLUHSI3M71S98EWYZ6L3Z86OFPZZD0G5EP6T4F8GIMU9Z8J2AEK7JFPBQR5PU2QIV1TIUYG3T8WQC2AKDUV31A3R928OKO2C700B32RXVDWA3YXI8ZQBJ5RFUKP9QYAKHGOKA4HX3MDPJRGFD5EKJQNU0V861MNBXRTQT5SVHDRV1AX20VSEOQ26ATXFIJXTLOP2GL9Z149Y0C1S9T53SEIQMZT1D57SKMTO300PCW9CM8QS6ENQDOROUEQKIP4C644AU68OHJFDFX6LIIW89X2MHYDO34GE5Z4TXEY78NNRY5GQFQ7F9HOLTBJ3SCERK1KHHFVCUBPPWWUC0SJEBSVFNN4LPEVQ7G6PDLBP529ZCBJFGTFY88RCT0XM4NYY4C7SKRTPV50Z1TTKOIJCC5X0L9OKRK9AU67951RWZ9KF5FA4H9RYU5XZTT0GSNJ928NOH14RD0IU30X6BDCR3ZX9DFHV5O2PFNT3VYX68Y4XVCAAD4R72S2LTLQ93RRRGJFDCJLPS9DDRX3H6BCGUXOTX26EFC5P4Q6XBMLSTA4SOSL4I2YMWNOLKLZYWW3JM12S3U4TNYC5FTAM382EZY2NZ3NZ93JH8JWVCC5SWMQ3'\n",
      "b'TRN2J91743RKG9JOMWZ0O0RAY3WQMEH3WLKPQWIFWX6JYW5PT9L0KZH5CZXLFEC5LOYKYN3POHODX6OKG2187ITOAYTNJ1XC4WPIZH1X9T6M0IYO2X4WZJUUAQPGU7G6IM1BT9OAWWGNKBUH5VQM7MP7A35LGZD6QA0R7FD48US4TRUKWTYOMSHGC8PB88DZOK8RHJZRB5CTFSOFFGJG0F0FAZNCY6KMHCNBS07UVNEHLC5USGX5HXARTVFY6VHUSY16U3U5KAH0DR2TKA95XC2G6YTWY3TZUW3XHHQHSUTAQWIJ71B6VKGRY8XB1CZBP9UT8FVN2MGGSFLBB011G9F1RLDDU2O3IEIDOL87MSN8XU5Q7UMDKLNB1TSGMYD9LB09RYMZJV7GZLUCGDI38VFZEE3A579TA063W4Z6EFA817ZSYMF25FU62C3LY0Z40AP664DZZFTCWO1J68BFP7WDTWGVTFLE11QIYCO0ZQBHDDK3VB64AMMZEIK0PYNQ6BGRUJP7U332W6OQED1W0U9374E7L3ORC48PE94XZ66F38BPU0QKLSKDYNL7C1PLPHISSBWHRHPQ6MROI1QK6MIB65QBOHOSSHJM9FX8O2AEARTP13CP79ZBA0F7XCT63ZKWZIY3S289D7Z5AEV3FAT9U6E64CAKQCVJQALLQ7IQSS0RWJE9N4N4QIS3YYBGAFJWAK728KBDSYKLQSSNZ6DLHRR6VJ31JZD5TWZBA27M2FGGKCOE1Q7N162BH1SIMAF0M9N0I5EY3TCOMTHR49KTF7JW093CBRIJ00X49G5UAHIIUQOYDIF960K6A25GP07X4V97YKOYVHS7DQQBA7CPKF3HQYFWY3GCOHBSFHNE78XNG3A7ELRYF0JTNZA1BPO8DMRMF2IUKCR1P9XZWC2ESP8NG8EQIP5XE0I28WQ4KA4H0LLFVUZO01KGWDVVU8CXO6PJ2MCF2HNNEUI1GDMJXOPVNS5SGUY9K4ZR'\n"
     ]
    }
   ],
   "source": [
    "for i, y in enumerate(x.iter_lines()):\n",
    "    if i > 3:\n",
    "        break\n",
    "    print(y)"
   ]
  },
  {
   "cell_type": "code",
   "execution_count": 28,
   "metadata": {},
   "outputs": [
    {
     "data": {
      "text/markdown": [
       "```python\n",
       "class ActionFileData:\n",
       "  id: str = acfe2005d7004143960a75164b366c2d\n",
       "\n",
       "```"
      ],
      "text/plain": [
       "syft.service.action.action_data_empty.ActionFileData"
      ]
     },
     "execution_count": 28,
     "metadata": {},
     "output_type": "execute_result"
    }
   ],
   "source": [
    "x"
   ]
  },
  {
   "cell_type": "code",
   "execution_count": 27,
   "metadata": {},
   "outputs": [
    {
     "name": "stdout",
     "output_type": "stream",
     "text": [
      "Uploading\n"
     ]
    },
    {
     "name": "stderr",
     "output_type": "stream",
     "text": [
      "Uploading file part 1/1: 100%|██████████████████████████████████████████████████████████████████████████████| 1/1 [00:00<00:00, 4144.57it/s]\n"
     ]
    }
   ],
   "source": [
    "# x = BlobFile.upload_from_path(\"somefile.txt\", client)"
   ]
  },
  {
   "cell_type": "code",
   "execution_count": 30,
   "metadata": {},
   "outputs": [],
   "source": [
    "# %debug"
   ]
  },
  {
   "cell_type": "code",
   "execution_count": 13,
   "metadata": {},
   "outputs": [],
   "source": [
    "# # syft absolute\n",
    "# from syft.store.blob_storage import BlobStorageClientConfig\n",
    "# from syft.store.blob_storage import BlobStorageConfig\n",
    "# from syft.store.blob_storage.seaweedfs import SeaweedFSClient\n",
    "# from syft.store.blob_storage.seaweedfs import SeaweedFSClientConfig\n",
    "\n",
    "# blob_config = BlobStorageConfig(\n",
    "#     client_type=SeaweedFSClient,\n",
    "#     client_config=SeaweedFSClientConfig(\n",
    "#         host=\"http://0.0.0.0\",\n",
    "#         port=\"8333\",\n",
    "#         access_key=\"admin\",\n",
    "#         secret_key=\"admin\",\n",
    "#         bucket_name=\"test_bucket\",\n",
    "#         region=\"us-east-1\",\n",
    "#         # mount_port=4001\n",
    "#     ),\n",
    "# )\n",
    "# node.python_node.init_blob_storage(blob_config)"
   ]
  },
  {
   "cell_type": "code",
   "execution_count": 14,
   "metadata": {},
   "outputs": [],
   "source": [
    "# syft absolute\n",
    "from syft.types.blob_storage import BlobFile"
   ]
  },
  {
   "cell_type": "code",
   "execution_count": 8,
   "metadata": {},
   "outputs": [],
   "source": [
    "x = BlobFile.upload_from_path(\"somefile.txt\", client)"
   ]
  },
  {
   "cell_type": "code",
   "execution_count": 15,
   "metadata": {},
   "outputs": [
    {
     "ename": "ConnectionError",
     "evalue": "Failed to fetch metadata. Response returned with code 500",
     "output_type": "error",
     "traceback": [
      "\u001b[0;31m---------------------------------------------------------------------------\u001b[0m",
      "\u001b[0;31mConnectionError\u001b[0m                           Traceback (most recent call last)",
      "Cell \u001b[0;32mIn[15], line 1\u001b[0m\n\u001b[0;32m----> 1\u001b[0m x \u001b[38;5;241m=\u001b[39m \u001b[43mBlobFile\u001b[49m\u001b[38;5;241;43m.\u001b[39;49m\u001b[43mupload_from_path\u001b[49m\u001b[43m(\u001b[49m\u001b[38;5;124;43m\"\u001b[39;49m\u001b[38;5;124;43msomefile4gb.txt\u001b[39;49m\u001b[38;5;124;43m\"\u001b[39;49m\u001b[43m,\u001b[49m\u001b[43m \u001b[49m\u001b[43mclient\u001b[49m\u001b[43m)\u001b[49m\n",
      "File \u001b[0;32m~/workspace/PySyft/packages/syft/src/syft/types/blob_storage.py:82\u001b[0m, in \u001b[0;36mBlobFile.upload_from_path\u001b[0;34m(self, path, client)\u001b[0m\n\u001b[1;32m     77\u001b[0m \u001b[38;5;129m@classmethod\u001b[39m\n\u001b[1;32m     78\u001b[0m \u001b[38;5;28;01mdef\u001b[39;00m \u001b[38;5;21mupload_from_path\u001b[39m(\u001b[38;5;28mself\u001b[39m, path, client):\n\u001b[1;32m     79\u001b[0m     \u001b[38;5;66;03m# syft absolute\u001b[39;00m\n\u001b[1;32m     80\u001b[0m     \u001b[38;5;28;01mimport\u001b[39;00m \u001b[38;5;21;01msyft\u001b[39;00m \u001b[38;5;28;01mas\u001b[39;00m \u001b[38;5;21;01msy\u001b[39;00m\n\u001b[0;32m---> 82\u001b[0m     \u001b[38;5;28;01mreturn\u001b[39;00m \u001b[43msy\u001b[49m\u001b[38;5;241;43m.\u001b[39;49m\u001b[43mActionObject\u001b[49m\u001b[38;5;241;43m.\u001b[39;49m\u001b[43mfrom_path\u001b[49m\u001b[43m(\u001b[49m\u001b[43mpath\u001b[49m\u001b[38;5;241;43m=\u001b[39;49m\u001b[43mpath\u001b[49m\u001b[43m)\u001b[49m\u001b[38;5;241;43m.\u001b[39;49m\u001b[43msend\u001b[49m\u001b[43m(\u001b[49m\u001b[43mclient\u001b[49m\u001b[43m)\u001b[49m\u001b[38;5;241m.\u001b[39msyft_action_data\n",
      "File \u001b[0;32m~/workspace/PySyft/packages/syft/src/syft/service/action/action_object.py:1079\u001b[0m, in \u001b[0;36mActionObject.send\u001b[0;34m(self, client)\u001b[0m\n\u001b[1;32m   1077\u001b[0m \u001b[38;5;28mself\u001b[39m\u001b[38;5;241m.\u001b[39m_set_obj_location_(client\u001b[38;5;241m.\u001b[39mid, client\u001b[38;5;241m.\u001b[39mverify_key)\n\u001b[1;32m   1078\u001b[0m \u001b[38;5;28mself\u001b[39m\u001b[38;5;241m.\u001b[39m_save_to_blob_storage()\n\u001b[0;32m-> 1079\u001b[0m res \u001b[38;5;241m=\u001b[39m \u001b[43mclient\u001b[49m\u001b[38;5;241;43m.\u001b[39;49m\u001b[43mapi\u001b[49m\u001b[38;5;241;43m.\u001b[39;49m\u001b[43mservices\u001b[49m\u001b[38;5;241;43m.\u001b[39;49m\u001b[43maction\u001b[49m\u001b[38;5;241;43m.\u001b[39;49m\u001b[43mset\u001b[49m\u001b[43m(\u001b[49m\u001b[38;5;28;43mself\u001b[39;49m\u001b[43m)\u001b[49m\n\u001b[1;32m   1080\u001b[0m \u001b[38;5;28;01mif\u001b[39;00m \u001b[38;5;28misinstance\u001b[39m(res, ActionObject):\n\u001b[1;32m   1081\u001b[0m     \u001b[38;5;28mself\u001b[39m\u001b[38;5;241m.\u001b[39msyft_created_at \u001b[38;5;241m=\u001b[39m res\u001b[38;5;241m.\u001b[39msyft_created_at\n",
      "File \u001b[0;32m~/workspace/PySyft/packages/syft/src/syft/client/api.py:260\u001b[0m, in \u001b[0;36mgenerate_remote_function.<locals>.wrapper\u001b[0;34m(*args, **kwargs)\u001b[0m\n\u001b[1;32m    258\u001b[0m \u001b[38;5;28;01mif\u001b[39;00m \u001b[38;5;129;01mnot\u001b[39;00m allowed:\n\u001b[1;32m    259\u001b[0m     \u001b[38;5;28;01mreturn\u001b[39;00m\n\u001b[0;32m--> 260\u001b[0m result \u001b[38;5;241m=\u001b[39m \u001b[43mmake_call\u001b[49m\u001b[43m(\u001b[49m\u001b[43mapi_call\u001b[49m\u001b[38;5;241;43m=\u001b[39;49m\u001b[43mapi_call\u001b[49m\u001b[43m)\u001b[49m\n\u001b[1;32m    262\u001b[0m result, _ \u001b[38;5;241m=\u001b[39m migrate_args_and_kwargs(\n\u001b[1;32m    263\u001b[0m     [result], kwargs\u001b[38;5;241m=\u001b[39m{}, to_latest_protocol\u001b[38;5;241m=\u001b[39m\u001b[38;5;28;01mTrue\u001b[39;00m\n\u001b[1;32m    264\u001b[0m )\n\u001b[1;32m    265\u001b[0m result \u001b[38;5;241m=\u001b[39m result[\u001b[38;5;241m0\u001b[39m]\n",
      "File \u001b[0;32m~/workspace/PySyft/packages/syft/src/syft/client/api.py:613\u001b[0m, in \u001b[0;36mSyftAPI.make_call\u001b[0;34m(self, api_call)\u001b[0m\n\u001b[1;32m    611\u001b[0m \u001b[38;5;28;01mdef\u001b[39;00m \u001b[38;5;21mmake_call\u001b[39m(\u001b[38;5;28mself\u001b[39m, api_call: SyftAPICall) \u001b[38;5;241m-\u001b[39m\u001b[38;5;241m>\u001b[39m Result:\n\u001b[1;32m    612\u001b[0m     signed_call \u001b[38;5;241m=\u001b[39m api_call\u001b[38;5;241m.\u001b[39msign(credentials\u001b[38;5;241m=\u001b[39m\u001b[38;5;28mself\u001b[39m\u001b[38;5;241m.\u001b[39msigning_key)\n\u001b[0;32m--> 613\u001b[0m     signed_result \u001b[38;5;241m=\u001b[39m \u001b[38;5;28;43mself\u001b[39;49m\u001b[38;5;241;43m.\u001b[39;49m\u001b[43mconnection\u001b[49m\u001b[38;5;241;43m.\u001b[39;49m\u001b[43mmake_call\u001b[49m\u001b[43m(\u001b[49m\u001b[43msigned_call\u001b[49m\u001b[43m)\u001b[49m\n\u001b[1;32m    615\u001b[0m     result \u001b[38;5;241m=\u001b[39m debox_signed_syftapicall_response(signed_result\u001b[38;5;241m=\u001b[39msigned_result)\n\u001b[1;32m    617\u001b[0m     \u001b[38;5;28;01mif\u001b[39;00m \u001b[38;5;28misinstance\u001b[39m(result, OkErr):\n",
      "File \u001b[0;32m~/workspace/PySyft/packages/syft/src/syft/client/client.py:290\u001b[0m, in \u001b[0;36mHTTPConnection.make_call\u001b[0;34m(self, signed_call)\u001b[0m\n\u001b[1;32m    284\u001b[0m response \u001b[38;5;241m=\u001b[39m requests\u001b[38;5;241m.\u001b[39mpost(  \u001b[38;5;66;03m# nosec\u001b[39;00m\n\u001b[1;32m    285\u001b[0m     url\u001b[38;5;241m=\u001b[39m\u001b[38;5;28mstr\u001b[39m(\u001b[38;5;28mself\u001b[39m\u001b[38;5;241m.\u001b[39mapi_url),\n\u001b[1;32m    286\u001b[0m     data\u001b[38;5;241m=\u001b[39mmsg_bytes,\n\u001b[1;32m    287\u001b[0m )\n\u001b[1;32m    289\u001b[0m \u001b[38;5;28;01mif\u001b[39;00m response\u001b[38;5;241m.\u001b[39mstatus_code \u001b[38;5;241m!=\u001b[39m \u001b[38;5;241m200\u001b[39m:\n\u001b[0;32m--> 290\u001b[0m     \u001b[38;5;28;01mraise\u001b[39;00m requests\u001b[38;5;241m.\u001b[39mConnectionError(\n\u001b[1;32m    291\u001b[0m         \u001b[38;5;124mf\u001b[39m\u001b[38;5;124m\"\u001b[39m\u001b[38;5;124mFailed to fetch metadata. Response returned with code \u001b[39m\u001b[38;5;132;01m{\u001b[39;00mresponse\u001b[38;5;241m.\u001b[39mstatus_code\u001b[38;5;132;01m}\u001b[39;00m\u001b[38;5;124m\"\u001b[39m\n\u001b[1;32m    292\u001b[0m     )\n\u001b[1;32m    294\u001b[0m result \u001b[38;5;241m=\u001b[39m _deserialize(response\u001b[38;5;241m.\u001b[39mcontent, from_bytes\u001b[38;5;241m=\u001b[39m\u001b[38;5;28;01mTrue\u001b[39;00m)\n\u001b[1;32m    295\u001b[0m \u001b[38;5;28;01mreturn\u001b[39;00m result\n",
      "\u001b[0;31mConnectionError\u001b[0m: Failed to fetch metadata. Response returned with code 500"
     ]
    }
   ],
   "source": [
    "x = BlobFile.upload_from_path(\"somefile4gb.txt\", client)"
   ]
  },
  {
   "cell_type": "code",
   "execution_count": null,
   "metadata": {},
   "outputs": [],
   "source": []
  },
  {
   "cell_type": "code",
   "execution_count": 9,
   "metadata": {},
   "outputs": [
    {
     "data": {
      "text/plain": [
       "b'abcdef'"
      ]
     },
     "execution_count": 9,
     "metadata": {},
     "output_type": "execute_result"
    }
   ],
   "source": [
    "x.read()"
   ]
  },
  {
   "cell_type": "code",
   "execution_count": null,
   "metadata": {},
   "outputs": [],
   "source": [
    "\"somefile.txt\""
   ]
  },
  {
   "cell_type": "code",
   "execution_count": null,
   "metadata": {},
   "outputs": [],
   "source": []
  },
  {
   "cell_type": "code",
   "execution_count": null,
   "metadata": {},
   "outputs": [],
   "source": []
  },
  {
   "cell_type": "code",
   "execution_count": 35,
   "metadata": {},
   "outputs": [
    {
     "data": {
      "text/html": [
       "<div class=\"alert-success\" style=\"padding:5px;\"><strong>SyftSuccess</strong>: Mounting Azure Successful!</div><br />"
      ],
      "text/plain": [
       "SyftSuccess: Mounting Azure Successful!"
      ]
     },
     "execution_count": 35,
     "metadata": {},
     "output_type": "execute_result"
    }
   ],
   "source": [
    "client.api.services.blob_storage.mount_azure(\n",
    "    account_name=\"helmprojectstorage\",\n",
    "    container_name=\"helm\",\n",
    "    account_key=os.environ[\"HELM_STORAGE_ACCOUNT_KEY\"],\n",
    "    bucket_name=\"helmazurebucket\",\n",
    ")"
   ]
  },
  {
   "cell_type": "code",
   "execution_count": 42,
   "metadata": {},
   "outputs": [],
   "source": [
    "files = client.api.services.blob_storage.get_files_from_bucket(\"helmazurebucket\")"
   ]
  },
  {
   "cell_type": "code",
   "execution_count": 43,
   "metadata": {},
   "outputs": [
    {
     "data": {
      "text/html": [
       "\n",
       "<style>\n",
       "  body[data-jp-theme-light='false'] {\n",
       "        --primary-color: #111111;\n",
       "        --secondary-color: #212121;\n",
       "        --tertiary-color: #CFCDD6;\n",
       "        --button-color: #111111;\n",
       "  }\n",
       "\n",
       "  body {\n",
       "        --primary-color: #ffffff;\n",
       "        --secondary-color: #f5f5f5;\n",
       "        --tertiary-color: #000000de;\n",
       "        --button-color: #d1d5db;\n",
       "  }\n",
       "\n",
       "  .header-1 {\n",
       "        font-style: normal;\n",
       "        font-weight: 600;\n",
       "        font-size: 2.0736em;\n",
       "        line-height: 100%;\n",
       "        leading-trim: both;\n",
       "        text-edge: cap;\n",
       "        color: #17161D;\n",
       "    }\n",
       "\n",
       "  .header-2 {\n",
       "        font-style: normal;\n",
       "        font-weight: 600;\n",
       "        font-size: 1.728em;\n",
       "        line-height: 100%;\n",
       "        leading-trim: both;\n",
       "        text-edge: cap;\n",
       "        color: #17161D;\n",
       "    }\n",
       "\n",
       "  .header-3 {\n",
       "        font-style: normal;\n",
       "        font-weight: 600;\n",
       "        font-size:  1.44em;\n",
       "        line-height: 100%;\n",
       "        leading-trim: both;\n",
       "        text-edge: cap;\n",
       "        color: var(--tertiary-color);\n",
       "    }\n",
       "\n",
       "  .header-4 {\n",
       "        font-style: normal;\n",
       "        font-weight: 600;\n",
       "        font-size: 1.2em;\n",
       "        line-height: 100%;\n",
       "        leading-trim: both;\n",
       "        text-edge: cap;\n",
       "        color: #17161D;\n",
       "    }\n",
       "\n",
       "    .paragraph {\n",
       "        font-style: normal;\n",
       "        font-weight: 400;\n",
       "        font-size: 14px;\n",
       "        line-height: 100%;\n",
       "        leading-trim: both;\n",
       "        text-edge: cap;\n",
       "        color: #2E2B3B;\n",
       "    }\n",
       "\n",
       "    .paragraph-sm {\n",
       "        font-family: 'Roboto';\n",
       "        font-style: normal;\n",
       "        font-weight: 400;\n",
       "        font-size: 11.62px;\n",
       "        line-height: 100%;\n",
       "        leading-trim: both;\n",
       "        text-edge: cap;\n",
       "        color: #2E2B3B;\n",
       "    }\n",
       "    .code-text {\n",
       "        font-family: 'Consolas';\n",
       "        font-style: normal;\n",
       "        font-weight: 400;\n",
       "        font-size: 13px;\n",
       "        line-height: 130%;\n",
       "        leading-trim: both;\n",
       "        text-edge: cap;\n",
       "        color: #2E2B3B;\n",
       "    }\n",
       "\n",
       "    .numbering-entry { display: none }\n",
       "\n",
       "    /* Tooltip container */\n",
       "    .tooltip {\n",
       "        position: relative;\n",
       "        display: inline-block;\n",
       "        border-bottom: 1px dotted black; /* If you want dots under the hoverable text */\n",
       "    }\n",
       "\n",
       "    /* Tooltip text */\n",
       "    .tooltip .tooltiptext {\n",
       "        visibility: hidden;\n",
       "        width: 120px;\n",
       "        background-color: black;\n",
       "        color: #fff;\n",
       "        text-align: center;\n",
       "        padding: 5px 0;\n",
       "        border-radius: 6px;\n",
       "\n",
       "        /* Position the tooltip text - see examples below! */\n",
       "        position: absolute;\n",
       "        z-index: 1;\n",
       "    }\n",
       "\n",
       "    .repr-cell {\n",
       "      padding-top: 20px;\n",
       "    }\n",
       "\n",
       "    .text-bold {\n",
       "        font-weight: bold;\n",
       "    }\n",
       "\n",
       "    .pr-8 {\n",
       "        padding-right: 8px;\n",
       "    }\n",
       "    .pt-8 {\n",
       "        padding-top: 8px;\n",
       "    }\n",
       "    .pl-8 {\n",
       "        padding-left: 8px;\n",
       "    }\n",
       "    .pb-8 {\n",
       "        padding-bottom: 8px;\n",
       "    }\n",
       "\n",
       "    .py-25{\n",
       "        padding-top: 25px;\n",
       "        padding-bottom: 25px;\n",
       "    }\n",
       "\n",
       "    .flex {\n",
       "        display: flex;\n",
       "    }\n",
       "\n",
       "    .gap-10 {\n",
       "        gap: 10px;\n",
       "    }\n",
       "    .items-center{\n",
       "        align-items: center;\n",
       "    }\n",
       "\n",
       "    .folder-icon {\n",
       "        color: var(--tertiary-color);\n",
       "    }\n",
       "\n",
       "    .search-input{\n",
       "        display: flex;\n",
       "        flex-direction: row;\n",
       "        align-items: center;\n",
       "        padding: 8px 12px;\n",
       "        width: 343px;\n",
       "        height: 24px;\n",
       "        /* Lt On Surface/Low */\n",
       "        background-color: var(--secondary-color);\n",
       "        border-radius: 30px;\n",
       "\n",
       "        /* Lt On Surface/Highest */\n",
       "        color: var(--tertiary-color);\n",
       "        border:none;\n",
       "        /* Inside auto layout */\n",
       "        flex: none;\n",
       "        order: 0;\n",
       "        flex-grow: 0;\n",
       "    }\n",
       "    .search-input:focus {\n",
       "        outline: none;\n",
       "    }\n",
       "        .search-input:focus::placeholder,\n",
       "    .search-input::placeholder { /* Chrome, Firefox, Opera, Safari 10.1+ */\n",
       "        color: var(--tertiary-color);\n",
       "        opacity: 1; /* Firefox */\n",
       "    }\n",
       "\n",
       "    .search-button{\n",
       "        /* Search */\n",
       "        leading-trim: both;\n",
       "        text-edge: cap;\n",
       "        display: flex;\n",
       "        align-items: center;\n",
       "        text-align: center;\n",
       "\n",
       "        /* Primary/On Light */\n",
       "        background-color: var(--button-color);\n",
       "        color: var(--tertiary-color);\n",
       "\n",
       "        border-radius: 30px;\n",
       "        border-color: var(--secondary-color);\n",
       "        border-style: solid;\n",
       "        box-shadow: rgba(60, 64, 67, 0.3) 0px 1px 2px 0px, rgba(60, 64, 67, 0.15) 0px 1px 3px 1px;\n",
       "        cursor: pointer;\n",
       "        /* Inside auto layout */\n",
       "        flex: none;\n",
       "        order: 1;\n",
       "        flex-grow: 0;\n",
       "    }\n",
       "\n",
       "    .grid-table1f0c653a8f0140bb98abde83607cb8db {\n",
       "        display:grid;\n",
       "        grid-template-columns: 1fr repeat(8, 1fr);\n",
       "        grid-template-rows: repeat(2, 1fr);\n",
       "        overflow-x: auto;\n",
       "    }\n",
       "\n",
       "    .grid-std-cells {\n",
       "        grid-column: span 4;\n",
       "\n",
       "    }\n",
       "    .grid-index-cells {\n",
       "        grid-column: span 1;\n",
       "        /* tmp fix to make left col stand out (fix with font-family) */\n",
       "        font-weight: 600;\n",
       "        background-color: var(--secondary-color) !important;\n",
       "        color: var(--tertiary-color);\n",
       "    }\n",
       "\n",
       "    .grid-header {\n",
       "        /* Auto layout */\n",
       "        display: flex;\n",
       "        flex-direction: column;\n",
       "        align-items: center;\n",
       "        padding: 6px 4px;\n",
       "\n",
       "        /* Lt On Surface/Surface */\n",
       "        /* Lt On Surface/High */\n",
       "        border: 1px solid #CFCDD6;\n",
       "        /* tmp fix to make header stand out (fix with font-family) */\n",
       "        font-weight: 600;\n",
       "        background-color: var(--secondary-color);\n",
       "        color: var(--tertiary-color);\n",
       "    }\n",
       "\n",
       "    .grid-row {\n",
       "        display: flex;\n",
       "        flex-direction: column;\n",
       "        align-items: flex-start;\n",
       "        padding: 6px 4px;\n",
       "        overflow: hidden;\n",
       "        border: 1px solid #CFCDD6;\n",
       "        background-color: var(--primary-color);\n",
       "        color: var(--tertiary-color);\n",
       "    }\n",
       "\n",
       "    .badge {\n",
       "        code-text;\n",
       "        border-radius: 30px;\n",
       "    }\n",
       "\n",
       "    .badge-blue {\n",
       "        badge;\n",
       "        background-color: #C2DEF0;\n",
       "        color: #1F567A;\n",
       "    }\n",
       "\n",
       "    .badge-purple {\n",
       "        badge;\n",
       "        background-color: #C9CFE8;\n",
       "        color: #373B7B;\n",
       "    }\n",
       "\n",
       "    .badge-green {\n",
       "        badge;\n",
       "\n",
       "        /* Success/Container */\n",
       "        background-color: #D5F1D5;\n",
       "        color: #256B24;\n",
       "    }\n",
       "\n",
       "    .badge-red {\n",
       "        badge;\n",
       "        background-color: #F2D9DE;\n",
       "        color: #9B2737;\n",
       "    }\n",
       "\n",
       "    .badge-gray {\n",
       "        badge;\n",
       "        background-color: #ECEBEF;\n",
       "        color: #2E2B3B;\n",
       "    }\n",
       "    .paginationContainer{\n",
       "        width: 100%;\n",
       "        height: 30px;\n",
       "        display: flex;\n",
       "        justify-content: center;\n",
       "        gap: 8px;\n",
       "        padding: 5px;\n",
       "        color: var(--tertiary-color);\n",
       "    }\n",
       "\n",
       "    .page{\n",
       "        color: black;\n",
       "        font-weight: bold;\n",
       "        color: var(--tertiary-color);\n",
       "    }\n",
       "    .page:hover {\n",
       "      color: #38bdf8;\n",
       "      cursor: pointer;\n",
       "    }\n",
       "    .clipboard:hover{\n",
       "        cursor: pointer;\n",
       "        color: var(--tertiary-color);\n",
       "    }\n",
       "\n",
       "    .search-field {\n",
       "        display: flex;\n",
       "        align-items: center;\n",
       "        border-radius: 30px;\n",
       "        background-color: var(--secondary-color);\n",
       "    }\n",
       "\n",
       "    .syft-dropdown {\n",
       "        margin: 5px;\n",
       "        margin-left: 5px;\n",
       "        position: relative;\n",
       "        display: inline-block;\n",
       "        text-align: center;\n",
       "        background-color: var(--button-color);\n",
       "        min-width: 100px;\n",
       "        padding: 2px;\n",
       "        border-radius: 30px;\n",
       "    }\n",
       "\n",
       "    .syft-dropdown:hover {\n",
       "        cursor: pointer;\n",
       "    }\n",
       "    .syft-dropdown-content {\n",
       "        margin-top:26px;\n",
       "        display: none;\n",
       "        position: absolute;\n",
       "        min-width: 100px;\n",
       "        box-shadow: 0px 8px 16px 0px rgba(0,0,0,0.2);\n",
       "        padding: 12px 6px;\n",
       "        z-index: 1;\n",
       "        background-color: var(--primary-color);\n",
       "        color: var(--tertiary-color);\n",
       "    }\n",
       "    .dd-options {\n",
       "        padding-top: 4px;\n",
       "    }\n",
       "    .dd-options:first-of-type {\n",
       "        padding-top: 0px;\n",
       "    }\n",
       "\n",
       "    .dd-options:hover {\n",
       "        cursor: pointer;\n",
       "        background: #d1d5db;\n",
       "    }\n",
       "    .arrow {\n",
       "        border: solid black;\n",
       "        border-width: 0 3px 3px 0;\n",
       "        display: inline-block;\n",
       "        padding: 3px;\n",
       "    }\n",
       "    .down {\n",
       "        transform: rotate(45deg);\n",
       "        -webkit-transform: rotate(45deg);\n",
       "    }\n",
       "</style>\n",
       "\n",
       "\n",
       "    <div style='margin-top:15px;'>\n",
       "        <div class='flex gap-10' style='align-items: center;'>\n",
       "            <div class='folder-icon'><svg width=\"32\" height=\"32\" viewBox=\"0 0 32 32\" fill=\"none\" xmlns=\"http://www.w3.org/2000/svg\"> <path d=\"M28 6H4C3.73478 6 3.48043 6.10536 3.29289 6.29289C3.10536 6.48043 3 6.73478 3 7V24C3 24.5304 3.21071 25.0391 3.58579 25.4142C3.96086 25.7893 4.46957 26 5 26H27C27.5304 26 28.0391 25.7893 28.4142 25.4142C28.7893 25.0391 29 24.5304 29 24V7C29 6.73478 28.8946 6.48043 28.7071 6.29289C28.5196 6.10536 28.2652 6 28 6ZM5 14H10V18H5V14ZM12 14H27V18H12V14ZM27 8V12H5V8H27ZM5 20H10V24H5V20ZM27 24H12V20H27V24Z\" fill=\"#343330\"/></svg></div>\n",
       "            <div><p class='header-3'>BlobFile List</p></div>\n",
       "        </div>\n",
       "\n",
       "            <div style=\"padding-top: 16px; display:flex;justify-content: space-between; align-items: center;\">\n",
       "                <div class='pt-25 gap-10' style=\"display:flex;\">\n",
       "                    <div class=\"search-field\">\n",
       "                        <div id='search-menu1f0c653a8f0140bb98abde83607cb8db' class=\"syft-dropdown\" onclick=\"{\n",
       "                            let doc = document.getElementById('search-dropdown-content1f0c653a8f0140bb98abde83607cb8db')\n",
       "                            if (doc.style.display === 'block'){\n",
       "                                doc.style.display = 'none'\n",
       "                            } else {\n",
       "                                doc.style.display = 'block'\n",
       "                            }\n",
       "                            }\">\n",
       "                            <div id='search-dropdown-content1f0c653a8f0140bb98abde83607cb8db' class='syft-dropdown-content'></div>\n",
       "                            <script>\n",
       "                                var element1f0c653a8f0140bb98abde83607cb8db = [{\"id\": {\"value\": \"c6eb664977464afa8e6e49b518b1ca3f\", \"type\": \"clipboard\"}, \"file_name\": \"train-22.jsonl\"}, {\"id\": {\"value\": \"7dd1e9dcdca443b785ebc19e20082810\", \"type\": \"clipboard\"}, \"file_name\": \"train-28.jsonl\"}, {\"id\": {\"value\": \"be6e757db1de40bf86aa5376d2a7d38e\", \"type\": \"clipboard\"}, \"file_name\": \"train-10.jsonl\"}, {\"id\": {\"value\": \"d08884257c55492ebc748d6116d110e0\", \"type\": \"clipboard\"}, \"file_name\": \"train-09.jsonl\"}, {\"id\": {\"value\": \"99ebe41e7ce14123924a4788a88917b0\", \"type\": \"clipboard\"}, \"file_name\": \"train-00.jsonl\"}, {\"id\": {\"value\": \"883b12180b4e4dc2a7ffdfb6c4ecf28e\", \"type\": \"clipboard\"}, \"file_name\": \"train-16.jsonl\"}, {\"id\": {\"value\": \"3b3a6dd2d8684d41817f1c8141e70a5f\", \"type\": \"clipboard\"}, \"file_name\": \"train-03.jsonl\"}, {\"id\": {\"value\": \"63cb44e6f14842f880eeef8f279cd3bf\", \"type\": \"clipboard\"}, \"file_name\": \"train-08.jsonl\"}, {\"id\": {\"value\": \"8b22e5778b474d3988cc40cc90535fc0\", \"type\": \"clipboard\"}, \"file_name\": \"train-15.jsonl\"}, {\"id\": {\"value\": \"8f233131bf4846939726332780a07c60\", \"type\": \"clipboard\"}, \"file_name\": \"train-14.jsonl\"}, {\"id\": {\"value\": \"72a156bb972b49178473c65a23366dfe\", \"type\": \"clipboard\"}, \"file_name\": \"train-05.jsonl\"}, {\"id\": {\"value\": \"a30b93d9e83b49d18d750fc9e1a3b7d6\", \"type\": \"clipboard\"}, \"file_name\": \"pile-uncopyrighted@3be90335b66f24456a5d6659d9c8d208c0357119-test.jsonl\"}, {\"id\": {\"value\": \"3c90a243a4c04c229932bc3f9761b29a\", \"type\": \"clipboard\"}, \"file_name\": \"train-18.jsonl\"}, {\"id\": {\"value\": \"8e5f3d15161c45439e07c9335121d9cb\", \"type\": \"clipboard\"}, \"file_name\": \"train-24.jsonl\"}, {\"id\": {\"value\": \"21c2fda9b7154d1e913b5c1acdc6b673\", \"type\": \"clipboard\"}, \"file_name\": \"train-17.jsonl\"}, {\"id\": {\"value\": \"5007841eaa7344bda0172be78bfda8d5\", \"type\": \"clipboard\"}, \"file_name\": \"train-02.jsonl\"}, {\"id\": {\"value\": \"47aa7b16178c4b78afe3ae67c636c74b\", \"type\": \"clipboard\"}, \"file_name\": \"train-01.jsonl\"}, {\"id\": {\"value\": \"03bb5e02bdf24d9abf947e6253dafdf6\", \"type\": \"clipboard\"}, \"file_name\": \"train-21.jsonl\"}, {\"id\": {\"value\": \"a5bedd7d4be94d6ab80cd2a8783e6b92\", \"type\": \"clipboard\"}, \"file_name\": \"train-06.jsonl\"}, {\"id\": {\"value\": \"b01e67ed720848e5bed1cf203074e93a\", \"type\": \"clipboard\"}, \"file_name\": \"pile-uncopyrighted@3be90335b66f24456a5d6659d9c8d208c0357119-val.jsonl\"}, {\"id\": {\"value\": \"f1ba5789316a429bbc3df50b7ac47328\", \"type\": \"clipboard\"}, \"file_name\": \"train-20.jsonl\"}, {\"id\": {\"value\": \"f48d604a007a403caacbee285b31147e\", \"type\": \"clipboard\"}, \"file_name\": \"train-11.jsonl\"}, {\"id\": {\"value\": \"fb7fcbb35e2343ae9960ac106915f79f\", \"type\": \"clipboard\"}, \"file_name\": \"train-04.jsonl\"}, {\"id\": {\"value\": \"863dc5e76a024915b4564f45e26f20b0\", \"type\": \"clipboard\"}, \"file_name\": \"train-19.jsonl\"}, {\"id\": {\"value\": \"773ee81539174876975f8e2d6f5cb5d2\", \"type\": \"clipboard\"}, \"file_name\": \"train-13.jsonl\"}, {\"id\": {\"value\": \"8db2289f99a0482aa22ac308ed162c30\", \"type\": \"clipboard\"}, \"file_name\": \"train-27.jsonl\"}, {\"id\": {\"value\": \"cb2ef738082c49418ed70eb05a193770\", \"type\": \"clipboard\"}, \"file_name\": \"test.json\"}, {\"id\": {\"value\": \"77e21eeadda94f8a9e1bd735131d9971\", \"type\": \"clipboard\"}, \"file_name\": \"train-26.jsonl\"}, {\"id\": {\"value\": \"a7776c9595114c8ca0a2d60f6a964d9c\", \"type\": \"clipboard\"}, \"file_name\": \"train-07.jsonl\"}, {\"id\": {\"value\": \"055d4a5a61974dd4a075c42bbaaefc30\", \"type\": \"clipboard\"}, \"file_name\": \"train-12.jsonl\"}, {\"id\": {\"value\": \"fe8cec1260544c5f8053aa2fa115ae0c\", \"type\": \"clipboard\"}, \"file_name\": \"filtered_scenario_data_new.jsonl\"}, {\"id\": {\"value\": \"555328628e7546ce86a992712d10a313\", \"type\": \"clipboard\"}, \"file_name\": \"train-25.jsonl\"}, {\"id\": {\"value\": \"128d3962d1d04e45aef457906e16a7ab\", \"type\": \"clipboard\"}, \"file_name\": \"train-29.jsonl\"}, {\"id\": {\"value\": \"83c2188ace1e4cf5bdbf6b906bd56bae\", \"type\": \"clipboard\"}, \"file_name\": \"train-23.jsonl\"}]\n",
       "                                var page_size1f0c653a8f0140bb98abde83607cb8db = 5\n",
       "                                var pageIndex1f0c653a8f0140bb98abde83607cb8db = 1\n",
       "                                var paginatedElements1f0c653a8f0140bb98abde83607cb8db = []\n",
       "                                var activeFilter1f0c653a8f0140bb98abde83607cb8db;\n",
       "\n",
       "                                function buildDropDownMenu(elements){\n",
       "                                    let init_filter;\n",
       "                                    let menu = document.getElementById('search-dropdown-content1f0c653a8f0140bb98abde83607cb8db')\n",
       "                                    if (elements.length > 0) {\n",
       "                                        let sample = elements[0]\n",
       "                                        for (const attr in sample) {\n",
       "                                            if (typeof init_filter === 'undefined'){\n",
       "                                                init_filter = attr;\n",
       "                                            }\n",
       "                                            let content = document.createElement('div');\n",
       "                                            content.onclick = function(event) {\n",
       "                                                event.stopPropagation()\n",
       "                                                document.getElementById('menu-active-filter1f0c653a8f0140bb98abde83607cb8db').innerText = attr;\n",
       "                                                activeFilter1f0c653a8f0140bb98abde83607cb8db = attr;\n",
       "                                                document.getElementById(\n",
       "                                                    'search-dropdown-content1f0c653a8f0140bb98abde83607cb8db'\n",
       "                                                ).style.display= 'none';\n",
       "                                            }\n",
       "                                            content.classList.add(\"dd-options\");\n",
       "                                            content.innerText = attr;\n",
       "                                            menu.appendChild(content);\n",
       "                                        }\n",
       "                                    } else {\n",
       "                                        let init_filter = '---'\n",
       "                                    }\n",
       "                                    let dropdown_field = document.getElementById('search-menu1f0c653a8f0140bb98abde83607cb8db')\n",
       "                                    let span = document.createElement('span')\n",
       "                                    span.setAttribute('id', 'menu-active-filter1f0c653a8f0140bb98abde83607cb8db')\n",
       "                                    span.innerText = init_filter\n",
       "                                    activeFilter1f0c653a8f0140bb98abde83607cb8db = init_filter;\n",
       "                                    dropdown_field.appendChild(span)\n",
       "                                }\n",
       "\n",
       "                                buildDropDownMenu(element1f0c653a8f0140bb98abde83607cb8db)\n",
       "                            </script>\n",
       "                        </div>\n",
       "                        <input id='searchKey1f0c653a8f0140bb98abde83607cb8db' class='search-input' placeholder='Enter search here ...'  />\n",
       "                    </div>\n",
       "                    <button class='search-button' type=\"button\" onclick=\"searchGrid1f0c653a8f0140bb98abde83607cb8db(element1f0c653a8f0140bb98abde83607cb8db)\">\n",
       "                        <svg width=\"11\" height=\"10\" viewBox=\"0 0 11 10\" fill=\"none\" xmlns=\"http://www.w3.org/2000/svg\"><path d=\"M10.5652 9.23467L8.21819 6.88811C8.89846 6.07141 9.23767 5.02389 9.16527 3.96345C9.09287 2.90302 8.61443 1.91132 7.82948 1.19466C7.04453 0.477995 6.01349 0.0915414 4.95087 0.115691C3.88824 0.139841 2.87583 0.572735 2.12425 1.32432C1.37266 2.0759 0.939768 3.08831 0.915618 4.15094C0.891468 5.21357 1.27792 6.2446 1.99459 7.02955C2.71125 7.8145 3.70295 8.29294 4.76338 8.36535C5.82381 8.43775 6.87134 8.09853 7.68804 7.41827L10.0346 9.7653C10.0694 9.80014 10.1108 9.82778 10.1563 9.84663C10.2018 9.86549 10.2506 9.87519 10.2999 9.87519C10.3492 9.87519 10.398 9.86549 10.4435 9.84663C10.489 9.82778 10.5304 9.80014 10.5652 9.7653C10.6001 9.73046 10.6277 9.68909 10.6466 9.64357C10.6654 9.59805 10.6751 9.54926 10.6751 9.49998C10.6751 9.45071 10.6654 9.40192 10.6466 9.3564C10.6277 9.31088 10.6001 9.26951 10.5652 9.23467ZM1.67491 4.24998C1.67491 3.58247 1.87285 2.92995 2.2437 2.37493C2.61455 1.81992 3.14165 1.38734 3.75835 1.13189C4.37506 0.876446 5.05366 0.809609 5.70834 0.939835C6.36303 1.07006 6.96439 1.3915 7.4364 1.8635C7.9084 2.3355 8.22984 2.93687 8.36006 3.59155C8.49029 4.24624 8.42345 4.92484 8.168 5.54154C7.91256 6.15824 7.47998 6.68535 6.92496 7.05619C6.36995 7.42704 5.71742 7.62498 5.04991 7.62498C4.15511 7.62399 3.29724 7.26809 2.66452 6.63537C2.0318 6.00265 1.6759 5.14479 1.67491 4.24998Z\" fill=\"currentColor\"/></svg>\n",
       "                        <span class='pl-8'>Search</span>\n",
       "                    </button>\n",
       "                </div>\n",
       "\n",
       "                <div><h4 id='total1f0c653a8f0140bb98abde83607cb8db'>0</h4></div>\n",
       "            </div>\n",
       "            <div id='table1f0c653a8f0140bb98abde83607cb8db' class='grid-table1f0c653a8f0140bb98abde83607cb8db' style='margin-top: 25px;'>\n",
       "                <script>\n",
       "                    function paginate1f0c653a8f0140bb98abde83607cb8db(arr, size) {\n",
       "                        const res = [];\n",
       "                        for (let i = 0; i < arr.length; i += size) {\n",
       "                            const chunk = arr.slice(i, i + size);\n",
       "                            res.push(chunk);\n",
       "                        }\n",
       "\n",
       "                        return res;\n",
       "                    }\n",
       "\n",
       "                    function searchGrid1f0c653a8f0140bb98abde83607cb8db(elements){\n",
       "                        let searchKey = document.getElementById('searchKey1f0c653a8f0140bb98abde83607cb8db').value;\n",
       "                        let result;\n",
       "                        if (searchKey === ''){\n",
       "                            result = elements;\n",
       "                        } else {\n",
       "                            result = elements.filter((element) => {\n",
       "                                let property = element[activeFilter1f0c653a8f0140bb98abde83607cb8db]\n",
       "                                if (typeof property === 'object' && property !== null){\n",
       "                                    return property.value.toLowerCase().includes(searchKey.toLowerCase());\n",
       "                                } else if (typeof property === 'string' ) {\n",
       "                                    return element[activeFilter1f0c653a8f0140bb98abde83607cb8db].toLowerCase().includes(searchKey.toLowerCase());\n",
       "                                } else if (property !== null ) {\n",
       "                                    return element[activeFilter1f0c653a8f0140bb98abde83607cb8db].toString() === searchKey;\n",
       "                                } else {\n",
       "                                    return element[activeFilter1f0c653a8f0140bb98abde83607cb8db] === searchKey;\n",
       "                                }\n",
       "                            } );\n",
       "                        }\n",
       "                        resetById1f0c653a8f0140bb98abde83607cb8db('table1f0c653a8f0140bb98abde83607cb8db');\n",
       "                        resetById1f0c653a8f0140bb98abde83607cb8db('pag1f0c653a8f0140bb98abde83607cb8db');\n",
       "                        result = paginate1f0c653a8f0140bb98abde83607cb8db(result, page_size1f0c653a8f0140bb98abde83607cb8db)\n",
       "                        paginatedElements1f0c653a8f0140bb98abde83607cb8db = result\n",
       "                        buildGrid1f0c653a8f0140bb98abde83607cb8db(result,pageIndex1f0c653a8f0140bb98abde83607cb8db);\n",
       "                        buildPaginationContainer1f0c653a8f0140bb98abde83607cb8db(result);\n",
       "                    }\n",
       "\n",
       "                    function resetById1f0c653a8f0140bb98abde83607cb8db(id){\n",
       "                        let element = document.getElementById(id);\n",
       "                        while (element.firstChild) {\n",
       "                          element.removeChild(element.firstChild);\n",
       "                        }\n",
       "                    }\n",
       "\n",
       "                    function buildGrid1f0c653a8f0140bb98abde83607cb8db(items, pageIndex){\n",
       "                                let headers = Object.keys(element1f0c653a8f0140bb98abde83607cb8db[0]);\n",
       "\n",
       "                                let grid = document.getElementById(\"table1f0c653a8f0140bb98abde83607cb8db\");\n",
       "                                let div = document.createElement(\"div\");\n",
       "                                div.classList.add('grid-header', 'grid-index-cells');\n",
       "                                grid.appendChild(div);\n",
       "                                headers.forEach((title) =>{\n",
       "                                    let div = document.createElement(\"div\");\n",
       "                                    div.classList.add('grid-header', 'grid-std-cells');\n",
       "                                    div.innerText = title;\n",
       "\n",
       "                                    grid.appendChild(div);\n",
       "                                });\n",
       "\n",
       "                                let page = items[pageIndex -1]\n",
       "                                if (page !== 'undefine'){\n",
       "                                    let table_index1f0c653a8f0140bb98abde83607cb8db = ((pageIndex - 1) * page_size1f0c653a8f0140bb98abde83607cb8db)\n",
       "                                    page.forEach((item) => {\n",
       "                                        let grid = document.getElementById(\"table1f0c653a8f0140bb98abde83607cb8db\");\n",
       "                                        // Add new index value in index cells\n",
       "                                        let divIndex = document.createElement(\"div\");\n",
       "                                        divIndex.classList.add('grid-row', 'grid-index-cells');\n",
       "                                        divIndex.innerText = table_index1f0c653a8f0140bb98abde83607cb8db;\n",
       "                                        grid.appendChild(divIndex);\n",
       "\n",
       "                                        // Iterate over the actual obj\n",
       "                                        for (const attr in item) {\n",
       "                                            let div = document.createElement(\"div\");\n",
       "                                            if (typeof item[attr] === 'object'\n",
       "                                                && item[attr] !== null\n",
       "                                                && item[attr].hasOwnProperty('type')) {\n",
       "                                                if (item[attr].type.includes('badge')){\n",
       "                                                    let badge_div = document.createElement(\"div\");\n",
       "                                                    badge_div.classList.add('badge',item[attr].type)\n",
       "                                                    badge_div.innerText = String(item[attr].value).toUpperCase();\n",
       "                                                    div.appendChild(badge_div);\n",
       "                                                    div.classList.add('grid-row','grid-std-cells');\n",
       "                                                } else if (item[attr].type === \"clipboard\") {\n",
       "                                                    div.classList.add('grid-row','grid-std-cells');\n",
       "\n",
       "                                                    // Create clipboard div\n",
       "                                                    let clipboard_div = document.createElement('div');\n",
       "                                                    clipboard_div.style.display= 'flex';\n",
       "                                                    clipboard_div.classList.add(\"gap-10\")\n",
       "                                                    clipboard_div.style.justifyContent = \"space-between\";\n",
       "\n",
       "                                                    let id_text = document.createElement('div');\n",
       "                                                    if (item[attr].value == \"None\"){\n",
       "                                                        id_text.innerText = \"None\";\n",
       "                                                    }\n",
       "                                                    else{\n",
       "                                                        id_text.innerText = item[attr].value.slice(0,5) + \"...\";\n",
       "                                                    }\n",
       "\n",
       "                                                    clipboard_div.appendChild(id_text);\n",
       "                                                    let clipboard_img = document.createElement('div');\n",
       "                                                    clipboard_img.classList.add(\"clipboard\")\n",
       "                                                    div.onclick = function() {\n",
       "                                                        navigator.clipboard.writeText(item[attr].value);\n",
       "                                                    };\n",
       "                                                    clipboard_img.innerHTML = \"<svg width='8' height='8' viewBox='0 0 8 8' fill='none' xmlns='http://www.w3.org/2000/svg'><path d='M7.4375 0.25H2.4375C2.35462 0.25 2.27513 0.282924 2.21653 0.341529C2.15792 0.400134 2.125 0.47962 2.125 0.5625V2.125H0.5625C0.47962 2.125 0.400134 2.15792 0.341529 2.21653C0.282924 2.27513 0.25 2.35462 0.25 2.4375V7.4375C0.25 7.52038 0.282924 7.59987 0.341529 7.65847C0.400134 7.71708 0.47962 7.75 0.5625 7.75H5.5625C5.64538 7.75 5.72487 7.71708 5.78347 7.65847C5.84208 7.59987 5.875 7.52038 5.875 7.4375V5.875H7.4375C7.52038 5.875 7.59987 5.84208 7.65847 5.78347C7.71708 5.72487 7.75 5.64538 7.75 5.5625V0.5625C7.75 0.47962 7.71708 0.400134 7.65847 0.341529C7.59987 0.282924 7.52038 0.25 7.4375 0.25ZM5.25 7.125H0.875V2.75H5.25V7.125ZM7.125 5.25H5.875V2.4375C5.875 2.35462 5.84208 2.27513 5.78347 2.21653C5.72487 2.15792 5.64538 2.125 5.5625 2.125H2.75V0.875H7.125V5.25Z' fill='#464158'/></svg>\";\n",
       "\n",
       "                                                    clipboard_div.appendChild(clipboard_img);\n",
       "                                                    div.appendChild(clipboard_div);\n",
       "                                                }\n",
       "                                            } else{\n",
       "                                                div.classList.add('grid-row','grid-std-cells');\n",
       "                                                if (item[attr] == null) {\n",
       "                                                    text = ' '\n",
       "                                                } else {\n",
       "                                                    text = String(item[attr])\n",
       "                                                }\n",
       "                                                if (text.length > 150){\n",
       "                                                    text = text.slice(0,150) + \"...\";\n",
       "                                                }\n",
       "                                                text = text.replaceAll(\"\\n\", \"</br>\");\n",
       "                                                div.innerHTML = text;\n",
       "                                            }\n",
       "                                            grid.appendChild(div);\n",
       "                                        }\n",
       "                                    table_index1f0c653a8f0140bb98abde83607cb8db = table_index1f0c653a8f0140bb98abde83607cb8db + 1;\n",
       "                                    })\n",
       "                                }\n",
       "                    }\n",
       "                    paginatedElements1f0c653a8f0140bb98abde83607cb8db = paginate1f0c653a8f0140bb98abde83607cb8db(element1f0c653a8f0140bb98abde83607cb8db, page_size1f0c653a8f0140bb98abde83607cb8db)\n",
       "                    buildGrid1f0c653a8f0140bb98abde83607cb8db(paginatedElements1f0c653a8f0140bb98abde83607cb8db, 1)\n",
       "                    document.getElementById('total1f0c653a8f0140bb98abde83607cb8db').innerText = \"Total: \" + element1f0c653a8f0140bb98abde83607cb8db.length\n",
       "                </script>\n",
       "            </div>\n",
       "            <div id='pag1f0c653a8f0140bb98abde83607cb8db' class='paginationContainer'>\n",
       "                <script>\n",
       "                    function buildPaginationContainer1f0c653a8f0140bb98abde83607cb8db(paginatedElements){\n",
       "                            let pageContainer = document.getElementById(\"pag1f0c653a8f0140bb98abde83607cb8db\");\n",
       "                            for (let i = 0; i < paginatedElements.length; i++) {\n",
       "                                  let div = document.createElement(\"div\");\n",
       "                                  div.classList.add('page');\n",
       "                                  if(i===0) div.style.color = \"gray\";\n",
       "                                  else div.style.color = 'var(--tertiary-color, \"gray\")';\n",
       "                                  div.onclick = function(event) {\n",
       "                                      let indexes = document.getElementsByClassName('page');\n",
       "                                      for (let index of indexes) { index.style.color = 'var(--tertiary-color, \"gray\")' }\n",
       "                                      event.target.style.color = \"gray\";\n",
       "                                      setPage1f0c653a8f0140bb98abde83607cb8db(i + 1);\n",
       "                                  };\n",
       "                                  div.innerText = i + 1;\n",
       "                                  pageContainer.appendChild(div);\n",
       "                            }\n",
       "                    }\n",
       "\n",
       "                    function setPage1f0c653a8f0140bb98abde83607cb8db(newPage){\n",
       "                        pageIndex = newPage\n",
       "                        resetById1f0c653a8f0140bb98abde83607cb8db('table1f0c653a8f0140bb98abde83607cb8db')\n",
       "                        buildGrid1f0c653a8f0140bb98abde83607cb8db(paginatedElements1f0c653a8f0140bb98abde83607cb8db, pageIndex)\n",
       "                    }\n",
       "\n",
       "                    buildPaginationContainer1f0c653a8f0140bb98abde83607cb8db(paginatedElements1f0c653a8f0140bb98abde83607cb8db)\n",
       "                </script>\n",
       "            </div>\n",
       "        </div>\n",
       "    </div>\n",
       "    </div>\n"
      ],
      "text/plain": [
       "[syft.types.blob_storage.BlobFile,\n",
       " syft.types.blob_storage.BlobFile,\n",
       " syft.types.blob_storage.BlobFile,\n",
       " syft.types.blob_storage.BlobFile,\n",
       " syft.types.blob_storage.BlobFile,\n",
       " syft.types.blob_storage.BlobFile,\n",
       " syft.types.blob_storage.BlobFile,\n",
       " syft.types.blob_storage.BlobFile,\n",
       " syft.types.blob_storage.BlobFile,\n",
       " syft.types.blob_storage.BlobFile,\n",
       " syft.types.blob_storage.BlobFile,\n",
       " syft.types.blob_storage.BlobFile,\n",
       " syft.types.blob_storage.BlobFile,\n",
       " syft.types.blob_storage.BlobFile,\n",
       " syft.types.blob_storage.BlobFile,\n",
       " syft.types.blob_storage.BlobFile,\n",
       " syft.types.blob_storage.BlobFile,\n",
       " syft.types.blob_storage.BlobFile,\n",
       " syft.types.blob_storage.BlobFile,\n",
       " syft.types.blob_storage.BlobFile,\n",
       " syft.types.blob_storage.BlobFile,\n",
       " syft.types.blob_storage.BlobFile,\n",
       " syft.types.blob_storage.BlobFile,\n",
       " syft.types.blob_storage.BlobFile,\n",
       " syft.types.blob_storage.BlobFile,\n",
       " syft.types.blob_storage.BlobFile,\n",
       " syft.types.blob_storage.BlobFile,\n",
       " syft.types.blob_storage.BlobFile,\n",
       " syft.types.blob_storage.BlobFile,\n",
       " syft.types.blob_storage.BlobFile,\n",
       " syft.types.blob_storage.BlobFile,\n",
       " syft.types.blob_storage.BlobFile,\n",
       " syft.types.blob_storage.BlobFile,\n",
       " syft.types.blob_storage.BlobFile]"
      ]
     },
     "execution_count": 43,
     "metadata": {},
     "output_type": "execute_result"
    }
   ],
   "source": [
    "files"
   ]
  },
  {
   "cell_type": "code",
   "execution_count": 44,
   "metadata": {},
   "outputs": [],
   "source": [
    "file = [f for f in files if f.file_name == \"test.json\"][0]"
   ]
  },
  {
   "cell_type": "code",
   "execution_count": 45,
   "metadata": {},
   "outputs": [
    {
     "data": {
      "text/markdown": [
       "```python\n",
       "class BlobFile:\n",
       "  id: str = cb2ef738082c49418ed70eb05a193770\n",
       "  file_name: str = \"test.json\"\n",
       "\n",
       "```"
      ],
      "text/plain": [
       "syft.types.blob_storage.BlobFile"
      ]
     },
     "execution_count": 45,
     "metadata": {},
     "output_type": "execute_result"
    }
   ],
   "source": [
    "file"
   ]
  },
  {
   "cell_type": "code",
   "execution_count": 46,
   "metadata": {},
   "outputs": [
    {
     "data": {
      "text/plain": [
       "b'{\\n\"abc\": \"def\"\\n}'"
      ]
     },
     "execution_count": 46,
     "metadata": {},
     "output_type": "execute_result"
    }
   ],
   "source": [
    "file.read()"
   ]
  },
  {
   "cell_type": "code",
   "execution_count": null,
   "metadata": {},
   "outputs": [],
   "source": []
  }
 ],
 "metadata": {
  "kernelspec": {
   "display_name": "Python 3 (ipykernel)",
   "language": "python",
   "name": "python3"
  },
  "language_info": {
   "codemirror_mode": {
    "name": "ipython",
    "version": 3
   },
   "file_extension": ".py",
   "mimetype": "text/x-python",
   "name": "python",
   "nbconvert_exporter": "python",
   "pygments_lexer": "ipython3",
   "version": "3.9.16"
  },
  "toc": {
   "base_numbering": 1,
   "nav_menu": {},
   "number_sections": true,
   "sideBar": true,
   "skip_h1_title": false,
   "title_cell": "Table of Contents",
   "title_sidebar": "Contents",
   "toc_cell": false,
   "toc_position": {},
   "toc_section_display": true,
   "toc_window_display": true
  }
 },
 "nbformat": 4,
 "nbformat_minor": 2
}
