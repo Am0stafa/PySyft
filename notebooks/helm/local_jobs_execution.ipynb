{
 "cells": [
  {
   "cell_type": "code",
   "execution_count": 1,
   "id": "a196017f",
   "metadata": {},
   "outputs": [
    {
     "name": "stderr",
     "output_type": "stream",
     "text": [
      "kj/filesystem-disk-unix.c++:1703: warning: PWD environment variable doesn't match current directory; pwd = /home/teo/OpenMined/PySyft\n"
     ]
    }
   ],
   "source": [
    "import syft as sy\n",
    "from syft import ActionObject\n",
    "from syft import syft_function, syft_function_single_use\n",
    "from time import sleep\n",
    "import os\n",
    "import psutil\n",
    "import inspect"
   ]
  },
  {
   "cell_type": "markdown",
   "id": "cb2d07de",
   "metadata": {},
   "source": [
    "with server"
   ]
  },
  {
   "cell_type": "code",
   "execution_count": 2,
   "id": "9b31c627",
   "metadata": {},
   "outputs": [
    {
     "name": "stdout",
     "output_type": "stream",
     "text": [
      "Staging Protocol Changes...\n",
      "Data Migrated to latest version !!!\n",
      "Logged into <test-domain-helm2: High side Domain> as <info@openmined.org>\n"
     ]
    },
    {
     "data": {
      "text/html": [
       "<div class=\"alert-warning\" style=\"padding:5px;\"><strong>SyftWarning</strong>: You are using a default password. Please change the password using `[your_client].me.set_password([new_password])`.</div><br />"
      ],
      "text/plain": [
       "SyftWarning: You are using a default password. Please change the password using `[your_client].me.set_password([new_password])`."
      ]
     },
     "metadata": {},
     "output_type": "display_data"
    }
   ],
   "source": [
    "node = sy.orchestra.launch(name=\"test-domain-helm2\", dev_mode=True, reset=True)\n",
    "                           \n",
    "client = node.login(email=\"info@openmined.org\", password=\"changethis\")"
   ]
  },
  {
   "cell_type": "code",
   "execution_count": 3,
   "id": "507740d2",
   "metadata": {},
   "outputs": [],
   "source": [
    "res = client.register(name=\"a\", email=\"aa@b.org\", password=\"c\", password_verify=\"c\")"
   ]
  },
  {
   "cell_type": "code",
   "execution_count": 4,
   "id": "0c33d096",
   "metadata": {},
   "outputs": [
    {
     "name": "stdout",
     "output_type": "stream",
     "text": [
      "Logged into <test-domain-helm2: High side Domain> as <aa@b.org>\n"
     ]
    }
   ],
   "source": [
    "ds_client = node.login(email=\"aa@b.org\", password=\"c\")"
   ]
  },
  {
   "cell_type": "markdown",
   "id": "176addfb",
   "metadata": {},
   "source": [
    "setup: compute train-test overlap between a very large train set and a smaller test set. Small test is still to big for memory, so we split it into 54 parts. We keep 1 of those parts in memory. We dont keep the train set in memory, but read and compare with 1/54 parts line by line. Each part takes ~30 hours, but we can run 54 processes in parallel."
   ]
  },
  {
   "cell_type": "markdown",
   "id": "da2b114a",
   "metadata": {},
   "source": [
    "## Dataset"
   ]
  },
  {
   "cell_type": "code",
   "execution_count": 5,
   "id": "354455ee",
   "metadata": {},
   "outputs": [],
   "source": [
    "dataset = sy.Dataset(\n",
    "    name=\"My dataset\",\n",
    "    asset_list=[\n",
    "        sy.Asset(\n",
    "            name=\"input asset\",\n",
    "            data=ActionObject.from_obj([1, 2, 3]),\n",
    "            mock=ActionObject.from_obj([1, 1, 1]),\n",
    "        ),\n",
    "    ]\n",
    ")"
   ]
  },
  {
   "cell_type": "code",
   "execution_count": 6,
   "id": "b16f6d96",
   "metadata": {},
   "outputs": [
    {
     "data": {
      "text/html": [
       "\n",
       "            <style>\n",
       "            \n",
       "/* cyrillic-ext */\n",
       "@font-face {\n",
       "  font-family: 'Open Sans';\n",
       "  font-style: normal;\n",
       "  font-weight: 300 800;\n",
       "  font-stretch: 100%;\n",
       "  src: url(https://fonts.gstatic.com/s/opensans/v35/memvYaGs126MiZpBA-UvWbX2vVnXBbObj2OVTSKmu0SC55K5gw.woff2) format('woff2');\n",
       "  unicode-range: U+0460-052F, U+1C80-1C88, U+20B4, U+2DE0-2DFF, U+A640-A69F, U+FE2E-FE2F;\n",
       "}\n",
       "/* cyrillic */\n",
       "@font-face {\n",
       "  font-family: 'Open Sans';\n",
       "  font-style: normal;\n",
       "  font-weight: 300 800;\n",
       "  font-stretch: 100%;\n",
       "  src: url(https://fonts.gstatic.com/s/opensans/v35/memvYaGs126MiZpBA-UvWbX2vVnXBbObj2OVTSumu0SC55K5gw.woff2) format('woff2');\n",
       "  unicode-range: U+0301, U+0400-045F, U+0490-0491, U+04B0-04B1, U+2116;\n",
       "}\n",
       "/* greek-ext */\n",
       "@font-face {\n",
       "  font-family: 'Open Sans';\n",
       "  font-style: normal;\n",
       "  font-weight: 300 800;\n",
       "  font-stretch: 100%;\n",
       "  src: url(https://fonts.gstatic.com/s/opensans/v35/memvYaGs126MiZpBA-UvWbX2vVnXBbObj2OVTSOmu0SC55K5gw.woff2) format('woff2');\n",
       "  unicode-range: U+1F00-1FFF;\n",
       "}\n",
       "/* greek */\n",
       "@font-face {\n",
       "  font-family: 'Open Sans';\n",
       "  font-style: normal;\n",
       "  font-weight: 300 800;\n",
       "  font-stretch: 100%;\n",
       "  src: url(https://fonts.gstatic.com/s/opensans/v35/memvYaGs126MiZpBA-UvWbX2vVnXBbObj2OVTSymu0SC55K5gw.woff2) format('woff2');\n",
       "  unicode-range: U+0370-03FF;\n",
       "}\n",
       "/* hebrew */\n",
       "@font-face {\n",
       "  font-family: 'Open Sans';\n",
       "  font-style: normal;\n",
       "  font-weight: 300 800;\n",
       "  font-stretch: 100%;\n",
       "  src: url(https://fonts.gstatic.com/s/opensans/v35/memvYaGs126MiZpBA-UvWbX2vVnXBbObj2OVTS2mu0SC55K5gw.woff2) format('woff2');\n",
       "  unicode-range: U+0590-05FF, U+200C-2010, U+20AA, U+25CC, U+FB1D-FB4F;\n",
       "}\n",
       "/* vietnamese */\n",
       "@font-face {\n",
       "  font-family: 'Open Sans';\n",
       "  font-style: normal;\n",
       "  font-weight: 300 800;\n",
       "  font-stretch: 100%;\n",
       "  src: url(https://fonts.gstatic.com/s/opensans/v35/memvYaGs126MiZpBA-UvWbX2vVnXBbObj2OVTSCmu0SC55K5gw.woff2) format('woff2');\n",
       "  unicode-range: U+0102-0103, U+0110-0111, U+0128-0129, U+0168-0169, U+01A0-01A1, U+01AF-01B0, U+0300-0301, U+0303-0304, U+0308-0309, U+0323, U+0329, U+1EA0-1EF9, U+20AB;\n",
       "}\n",
       "/* latin-ext */\n",
       "@font-face {\n",
       "  font-family: 'Open Sans';\n",
       "  font-style: normal;\n",
       "  font-weight: 300 800;\n",
       "  font-stretch: 100%;\n",
       "  src: url(https://fonts.gstatic.com/s/opensans/v35/memvYaGs126MiZpBA-UvWbX2vVnXBbObj2OVTSGmu0SC55K5gw.woff2) format('woff2');\n",
       "  unicode-range: U+0100-02AF, U+0304, U+0308, U+0329, U+1E00-1E9F, U+1EF2-1EFF, U+2020, U+20A0-20AB, U+20AD-20CF, U+2113, U+2C60-2C7F, U+A720-A7FF;\n",
       "}\n",
       "/* latin */\n",
       "@font-face {\n",
       "  font-family: 'Open Sans';\n",
       "  font-style: normal;\n",
       "  font-weight: 300 800;\n",
       "  font-stretch: 100%;\n",
       "  src: url(https://fonts.gstatic.com/s/opensans/v35/memvYaGs126MiZpBA-UvWbX2vVnXBbObj2OVTS-mu0SC55I.woff2) format('woff2');\n",
       "  unicode-range: U+0000-00FF, U+0131, U+0152-0153, U+02BB-02BC, U+02C6, U+02DA, U+02DC, U+0304, U+0308, U+0329, U+2000-206F, U+2074, U+20AC, U+2122, U+2191, U+2193, U+2212, U+2215, U+FEFF, U+FFFD;\n",
       "}\n",
       "\n",
       "            .syft-dataset {color: #464158;}\n",
       "            .syft-dataset h3,\n",
       "            .syft-dataset p\n",
       "              {font-family: 'Open Sans';}\n",
       "              .itables {font-family: 'Consolas', monospace, sans-serif;}\n",
       "            </style>\n",
       "            <div class='syft-dataset'>\n",
       "            <h3>My dataset</h3>\n",
       "            <p></p>\n",
       "            \n",
       "            <p class='paragraph-sm'><strong><span class='pr-8'>Created on: </span></strong>None</p>\n",
       "            <p class='paragraph-sm'><strong><span class='pr-8'>URL:\n",
       "            </span></strong><a href='None'>None</a></p>\n",
       "            <p class='paragraph-sm'><strong><span class='pr-8'>Contributors:</span></strong>\n",
       "            to see full details call <strong>dataset.contributors</strong></p>\n",
       "            \n",
       "<style>\n",
       "  body[data-jp-theme-light='false'] {\n",
       "        --primary-color: #111111;\n",
       "        --secondary-color: #212121;\n",
       "        --tertiary-color: #CFCDD6;\n",
       "        --button-color: #111111;\n",
       "  }\n",
       "\n",
       "  body {\n",
       "        --primary-color: #ffffff;\n",
       "        --secondary-color: #f5f5f5;\n",
       "        --tertiary-color: #000000de;\n",
       "        --button-color: #d1d5db;\n",
       "  }\n",
       "\n",
       "  .header-1 {\n",
       "        font-style: normal;\n",
       "        font-weight: 600;\n",
       "        font-size: 2.0736em;\n",
       "        line-height: 100%;\n",
       "        leading-trim: both;\n",
       "        text-edge: cap;\n",
       "        color: #17161D;\n",
       "    }\n",
       "\n",
       "  .header-2 {\n",
       "        font-style: normal;\n",
       "        font-weight: 600;\n",
       "        font-size: 1.728em;\n",
       "        line-height: 100%;\n",
       "        leading-trim: both;\n",
       "        text-edge: cap;\n",
       "        color: #17161D;\n",
       "    }\n",
       "\n",
       "  .header-3 {\n",
       "        font-style: normal;\n",
       "        font-weight: 600;\n",
       "        font-size:  1.44em;\n",
       "        line-height: 100%;\n",
       "        leading-trim: both;\n",
       "        text-edge: cap;\n",
       "        color: var(--tertiary-color);\n",
       "    }\n",
       "\n",
       "  .header-4 {\n",
       "        font-style: normal;\n",
       "        font-weight: 600;\n",
       "        font-size: 1.2em;\n",
       "        line-height: 100%;\n",
       "        leading-trim: both;\n",
       "        text-edge: cap;\n",
       "        color: #17161D;\n",
       "    }\n",
       "\n",
       "    .paragraph {\n",
       "        font-style: normal;\n",
       "        font-weight: 400;\n",
       "        font-size: 14px;\n",
       "        line-height: 100%;\n",
       "        leading-trim: both;\n",
       "        text-edge: cap;\n",
       "        color: #2E2B3B;\n",
       "    }\n",
       "\n",
       "    .paragraph-sm {\n",
       "        font-family: 'Roboto';\n",
       "        font-style: normal;\n",
       "        font-weight: 400;\n",
       "        font-size: 11.62px;\n",
       "        line-height: 100%;\n",
       "        leading-trim: both;\n",
       "        text-edge: cap;\n",
       "        color: #2E2B3B;\n",
       "    }\n",
       "    .code-text {\n",
       "        font-family: 'Consolas';\n",
       "        font-style: normal;\n",
       "        font-weight: 400;\n",
       "        font-size: 13px;\n",
       "        line-height: 130%;\n",
       "        leading-trim: both;\n",
       "        text-edge: cap;\n",
       "        color: #2E2B3B;\n",
       "    }\n",
       "\n",
       "    .numbering-entry { display: none }\n",
       "\n",
       "    /* Tooltip container */\n",
       "    .tooltip {\n",
       "        position: relative;\n",
       "        display: inline-block;\n",
       "        border-bottom: 1px dotted black; /* If you want dots under the hoverable text */\n",
       "    }\n",
       "\n",
       "    /* Tooltip text */\n",
       "    .tooltip .tooltiptext {\n",
       "        visibility: hidden;\n",
       "        width: 120px;\n",
       "        background-color: black;\n",
       "        color: #fff;\n",
       "        text-align: center;\n",
       "        padding: 5px 0;\n",
       "        border-radius: 6px;\n",
       "\n",
       "        /* Position the tooltip text - see examples below! */\n",
       "        position: absolute;\n",
       "        z-index: 1;\n",
       "    }\n",
       "\n",
       "    .repr-cell {\n",
       "      padding-top: 20px;\n",
       "    }\n",
       "\n",
       "    .text-bold {\n",
       "        font-weight: bold;\n",
       "    }\n",
       "\n",
       "    .pr-8 {\n",
       "        padding-right: 8px;\n",
       "    }\n",
       "    .pt-8 {\n",
       "        padding-top: 8px;\n",
       "    }\n",
       "    .pl-8 {\n",
       "        padding-left: 8px;\n",
       "    }\n",
       "    .pb-8 {\n",
       "        padding-bottom: 8px;\n",
       "    }\n",
       "\n",
       "    .py-25{\n",
       "        padding-top: 25px;\n",
       "        padding-bottom: 25px;\n",
       "    }\n",
       "\n",
       "    .flex {\n",
       "        display: flex;\n",
       "    }\n",
       "\n",
       "    .gap-10 {\n",
       "        gap: 10px;\n",
       "    }\n",
       "    .items-center{\n",
       "        align-items: center;\n",
       "    }\n",
       "\n",
       "    .folder-icon {\n",
       "        color: var(--tertiary-color);\n",
       "    }\n",
       "\n",
       "    .search-input{\n",
       "        display: flex;\n",
       "        flex-direction: row;\n",
       "        align-items: center;\n",
       "        padding: 8px 12px;\n",
       "        width: 343px;\n",
       "        height: 24px;\n",
       "        /* Lt On Surface/Low */\n",
       "        background-color: var(--secondary-color);\n",
       "        border-radius: 30px;\n",
       "\n",
       "        /* Lt On Surface/Highest */\n",
       "        color: var(--tertiary-color);\n",
       "        border:none;\n",
       "        /* Inside auto layout */\n",
       "        flex: none;\n",
       "        order: 0;\n",
       "        flex-grow: 0;\n",
       "    }\n",
       "    .search-input:focus {\n",
       "        outline: none;\n",
       "    }\n",
       "        .search-input:focus::placeholder,\n",
       "    .search-input::placeholder { /* Chrome, Firefox, Opera, Safari 10.1+ */\n",
       "        color: var(--tertiary-color);\n",
       "        opacity: 1; /* Firefox */\n",
       "    }\n",
       "\n",
       "    .search-button{\n",
       "        /* Search */\n",
       "        leading-trim: both;\n",
       "        text-edge: cap;\n",
       "        display: flex;\n",
       "        align-items: center;\n",
       "        text-align: center;\n",
       "\n",
       "        /* Primary/On Light */\n",
       "        background-color: var(--button-color);\n",
       "        color: var(--tertiary-color);\n",
       "\n",
       "        border-radius: 30px;\n",
       "        border-color: var(--secondary-color);\n",
       "        border-style: solid;\n",
       "        box-shadow: rgba(60, 64, 67, 0.3) 0px 1px 2px 0px, rgba(60, 64, 67, 0.15) 0px 1px 3px 1px;\n",
       "        cursor: pointer;\n",
       "        /* Inside auto layout */\n",
       "        flex: none;\n",
       "        order: 1;\n",
       "        flex-grow: 0;\n",
       "    }\n",
       "\n",
       "    .grid-tablec21e10d7d17f48579669315a7278314c {\n",
       "        display:grid;\n",
       "        grid-template-columns: 1fr repeat(4, 1fr);\n",
       "        grid-template-rows: repeat(2, 1fr);\n",
       "        overflow-x: auto;\n",
       "    }\n",
       "\n",
       "    .grid-std-cells {\n",
       "        grid-column: span 4;\n",
       "\n",
       "    }\n",
       "    .grid-index-cells {\n",
       "        grid-column: span 1;\n",
       "        /* tmp fix to make left col stand out (fix with font-family) */\n",
       "        font-weight: 600;\n",
       "        background-color: var(--secondary-color) !important;\n",
       "        color: var(--tertiary-color);\n",
       "    }\n",
       "\n",
       "    .grid-header {\n",
       "        /* Auto layout */\n",
       "        display: flex;\n",
       "        flex-direction: column;\n",
       "        align-items: center;\n",
       "        padding: 6px 4px;\n",
       "\n",
       "        /* Lt On Surface/Surface */\n",
       "        /* Lt On Surface/High */\n",
       "        border: 1px solid #CFCDD6;\n",
       "        /* tmp fix to make header stand out (fix with font-family) */\n",
       "        font-weight: 600;\n",
       "        background-color: var(--secondary-color);\n",
       "        color: var(--tertiary-color);\n",
       "    }\n",
       "\n",
       "    .grid-row {\n",
       "        display: flex;\n",
       "        flex-direction: column;\n",
       "        align-items: flex-start;\n",
       "        padding: 6px 4px;\n",
       "        overflow: hidden;\n",
       "        border: 1px solid #CFCDD6;\n",
       "        background-color: var(--primary-color);\n",
       "        color: var(--tertiary-color);\n",
       "    }\n",
       "\n",
       "    .badge {\n",
       "        code-text;\n",
       "        border-radius: 30px;\n",
       "    }\n",
       "\n",
       "    .badge-blue {\n",
       "        badge;\n",
       "        background-color: #C2DEF0;\n",
       "        color: #1F567A;\n",
       "    }\n",
       "\n",
       "    .badge-purple {\n",
       "        badge;\n",
       "        background-color: #C9CFE8;\n",
       "        color: #373B7B;\n",
       "    }\n",
       "\n",
       "    .badge-green {\n",
       "        badge;\n",
       "\n",
       "        /* Success/Container */\n",
       "        background-color: #D5F1D5;\n",
       "        color: #256B24;\n",
       "    }\n",
       "\n",
       "    .badge-red {\n",
       "        badge;\n",
       "        background-color: #F2D9DE;\n",
       "        color: #9B2737;\n",
       "    }\n",
       "\n",
       "    .badge-gray {\n",
       "        badge;\n",
       "        background-color: #ECEBEF;\n",
       "        color: #2E2B3B;\n",
       "    }\n",
       "    .paginationContainer{\n",
       "        width: 100%;\n",
       "        height: 30px;\n",
       "        display: flex;\n",
       "        justify-content: center;\n",
       "        gap: 8px;\n",
       "        padding: 5px;\n",
       "        color: var(--tertiary-color);\n",
       "    }\n",
       "\n",
       "    .page{\n",
       "        color: black;\n",
       "        font-weight: bold;\n",
       "        color: var(--tertiary-color);\n",
       "    }\n",
       "    .page:hover {\n",
       "      color: #38bdf8;\n",
       "      cursor: pointer;\n",
       "    }\n",
       "    .clipboard:hover{\n",
       "        cursor: pointer;\n",
       "        color: var(--tertiary-color);\n",
       "    }\n",
       "\n",
       "    .search-field {\n",
       "        display: flex;\n",
       "        align-items: center;\n",
       "        border-radius: 30px;\n",
       "        background-color: var(--secondary-color);\n",
       "    }\n",
       "\n",
       "    .syft-dropdown {\n",
       "        margin: 5px;\n",
       "        margin-left: 5px;\n",
       "        position: relative;\n",
       "        display: inline-block;\n",
       "        text-align: center;\n",
       "        background-color: var(--button-color);\n",
       "        min-width: 100px;\n",
       "        padding: 2px;\n",
       "        border-radius: 30px;\n",
       "    }\n",
       "\n",
       "    .syft-dropdown:hover {\n",
       "        cursor: pointer;\n",
       "    }\n",
       "    .syft-dropdown-content {\n",
       "        margin-top:26px;\n",
       "        display: none;\n",
       "        position: absolute;\n",
       "        min-width: 100px;\n",
       "        box-shadow: 0px 8px 16px 0px rgba(0,0,0,0.2);\n",
       "        padding: 12px 6px;\n",
       "        z-index: 1;\n",
       "        background-color: var(--primary-color);\n",
       "        color: var(--tertiary-color);\n",
       "    }\n",
       "    .dd-options {\n",
       "        padding-top: 4px;\n",
       "    }\n",
       "    .dd-options:first-of-type {\n",
       "        padding-top: 0px;\n",
       "    }\n",
       "\n",
       "    .dd-options:hover {\n",
       "        cursor: pointer;\n",
       "        background: #d1d5db;\n",
       "    }\n",
       "    .arrow {\n",
       "        border: solid black;\n",
       "        border-width: 0 3px 3px 0;\n",
       "        display: inline-block;\n",
       "        padding: 3px;\n",
       "    }\n",
       "    .down {\n",
       "        transform: rotate(45deg);\n",
       "        -webkit-transform: rotate(45deg);\n",
       "    }\n",
       "</style>\n",
       "\n",
       "\n",
       "    <div style='margin-top:15px;'>\n",
       "        <div class='flex gap-10' style='align-items: center;'>\n",
       "            <div class='folder-icon'><svg width=\"32\" height=\"32\" viewBox=\"0 0 32 32\" fill=\"none\" xmlns=\"http://www.w3.org/2000/svg\"> <path d=\"M28 6H4C3.73478 6 3.48043 6.10536 3.29289 6.29289C3.10536 6.48043 3 6.73478 3 7V24C3 24.5304 3.21071 25.0391 3.58579 25.4142C3.96086 25.7893 4.46957 26 5 26H27C27.5304 26 28.0391 25.7893 28.4142 25.4142C28.7893 25.0391 29 24.5304 29 24V7C29 6.73478 28.8946 6.48043 28.7071 6.29289C28.5196 6.10536 28.2652 6 28 6ZM5 14H10V18H5V14ZM12 14H27V18H12V14ZM27 8V12H5V8H27ZM5 20H10V24H5V20ZM27 24H12V20H27V24Z\" fill=\"#343330\"/></svg></div>\n",
       "            <div><p class='header-3'>CreateAsset Dicttuple</p></div>\n",
       "        </div>\n",
       "\n",
       "            <div style=\"padding-top: 16px; display:flex;justify-content: space-between; align-items: center;\">\n",
       "                <div class='pt-25 gap-10' style=\"display:flex;\">\n",
       "                    <div class=\"search-field\">\n",
       "                        <div id='search-menuc21e10d7d17f48579669315a7278314c' class=\"syft-dropdown\" onclick=\"{\n",
       "                            let doc = document.getElementById('search-dropdown-contentc21e10d7d17f48579669315a7278314c')\n",
       "                            if (doc.style.display === 'block'){\n",
       "                                doc.style.display = 'none'\n",
       "                            } else {\n",
       "                                doc.style.display = 'block'\n",
       "                            }\n",
       "                            }\">\n",
       "                            <div id='search-dropdown-contentc21e10d7d17f48579669315a7278314c' class='syft-dropdown-content'></div>\n",
       "                            <script>\n",
       "                                var elementc21e10d7d17f48579669315a7278314c = [{\"name\": \"input asset\"}]\n",
       "                                var page_sizec21e10d7d17f48579669315a7278314c = 1\n",
       "                                var pageIndexc21e10d7d17f48579669315a7278314c = 1\n",
       "                                var paginatedElementsc21e10d7d17f48579669315a7278314c = []\n",
       "                                var activeFilterc21e10d7d17f48579669315a7278314c;\n",
       "\n",
       "                                function buildDropDownMenu(elements){\n",
       "                                    let init_filter;\n",
       "                                    let menu = document.getElementById('search-dropdown-contentc21e10d7d17f48579669315a7278314c')\n",
       "                                    if (elements.length > 0) {\n",
       "                                        let sample = elements[0]\n",
       "                                        for (const attr in sample) {\n",
       "                                            if (typeof init_filter === 'undefined'){\n",
       "                                                init_filter = attr;\n",
       "                                            }\n",
       "                                            let content = document.createElement('div');\n",
       "                                            content.onclick = function(event) {\n",
       "                                                event.stopPropagation()\n",
       "                                                document.getElementById('menu-active-filterc21e10d7d17f48579669315a7278314c').innerText = attr;\n",
       "                                                activeFilterc21e10d7d17f48579669315a7278314c = attr;\n",
       "                                                document.getElementById(\n",
       "                                                    'search-dropdown-contentc21e10d7d17f48579669315a7278314c'\n",
       "                                                ).style.display= 'none';\n",
       "                                            }\n",
       "                                            content.classList.add(\"dd-options\");\n",
       "                                            content.innerText = attr;\n",
       "                                            menu.appendChild(content);\n",
       "                                        }\n",
       "                                    } else {\n",
       "                                        let init_filter = '---'\n",
       "                                    }\n",
       "                                    let dropdown_field = document.getElementById('search-menuc21e10d7d17f48579669315a7278314c')\n",
       "                                    let span = document.createElement('span')\n",
       "                                    span.setAttribute('id', 'menu-active-filterc21e10d7d17f48579669315a7278314c')\n",
       "                                    span.innerText = init_filter\n",
       "                                    activeFilterc21e10d7d17f48579669315a7278314c = init_filter;\n",
       "                                    dropdown_field.appendChild(span)\n",
       "                                }\n",
       "\n",
       "                                buildDropDownMenu(elementc21e10d7d17f48579669315a7278314c)\n",
       "                            </script>\n",
       "                        </div>\n",
       "                        <input id='searchKeyc21e10d7d17f48579669315a7278314c' class='search-input' placeholder='Enter search here ...'  />\n",
       "                    </div>\n",
       "                    <button class='search-button' type=\"button\" onclick=\"searchGridc21e10d7d17f48579669315a7278314c(elementc21e10d7d17f48579669315a7278314c)\">\n",
       "                        <svg width=\"11\" height=\"10\" viewBox=\"0 0 11 10\" fill=\"none\" xmlns=\"http://www.w3.org/2000/svg\"><path d=\"M10.5652 9.23467L8.21819 6.88811C8.89846 6.07141 9.23767 5.02389 9.16527 3.96345C9.09287 2.90302 8.61443 1.91132 7.82948 1.19466C7.04453 0.477995 6.01349 0.0915414 4.95087 0.115691C3.88824 0.139841 2.87583 0.572735 2.12425 1.32432C1.37266 2.0759 0.939768 3.08831 0.915618 4.15094C0.891468 5.21357 1.27792 6.2446 1.99459 7.02955C2.71125 7.8145 3.70295 8.29294 4.76338 8.36535C5.82381 8.43775 6.87134 8.09853 7.68804 7.41827L10.0346 9.7653C10.0694 9.80014 10.1108 9.82778 10.1563 9.84663C10.2018 9.86549 10.2506 9.87519 10.2999 9.87519C10.3492 9.87519 10.398 9.86549 10.4435 9.84663C10.489 9.82778 10.5304 9.80014 10.5652 9.7653C10.6001 9.73046 10.6277 9.68909 10.6466 9.64357C10.6654 9.59805 10.6751 9.54926 10.6751 9.49998C10.6751 9.45071 10.6654 9.40192 10.6466 9.3564C10.6277 9.31088 10.6001 9.26951 10.5652 9.23467ZM1.67491 4.24998C1.67491 3.58247 1.87285 2.92995 2.2437 2.37493C2.61455 1.81992 3.14165 1.38734 3.75835 1.13189C4.37506 0.876446 5.05366 0.809609 5.70834 0.939835C6.36303 1.07006 6.96439 1.3915 7.4364 1.8635C7.9084 2.3355 8.22984 2.93687 8.36006 3.59155C8.49029 4.24624 8.42345 4.92484 8.168 5.54154C7.91256 6.15824 7.47998 6.68535 6.92496 7.05619C6.36995 7.42704 5.71742 7.62498 5.04991 7.62498C4.15511 7.62399 3.29724 7.26809 2.66452 6.63537C2.0318 6.00265 1.6759 5.14479 1.67491 4.24998Z\" fill=\"currentColor\"/></svg>\n",
       "                        <span class='pl-8'>Search</span>\n",
       "                    </button>\n",
       "                </div>\n",
       "\n",
       "                <div><h4 id='totalc21e10d7d17f48579669315a7278314c'>0</h4></div>\n",
       "            </div>\n",
       "            <div id='tablec21e10d7d17f48579669315a7278314c' class='grid-tablec21e10d7d17f48579669315a7278314c' style='margin-top: 25px;'>\n",
       "                <script>\n",
       "                    function paginatec21e10d7d17f48579669315a7278314c(arr, size) {\n",
       "                        const res = [];\n",
       "                        for (let i = 0; i < arr.length; i += size) {\n",
       "                            const chunk = arr.slice(i, i + size);\n",
       "                            res.push(chunk);\n",
       "                        }\n",
       "\n",
       "                        return res;\n",
       "                    }\n",
       "\n",
       "                    function searchGridc21e10d7d17f48579669315a7278314c(elements){\n",
       "                        let searchKey = document.getElementById('searchKeyc21e10d7d17f48579669315a7278314c').value;\n",
       "                        let result;\n",
       "                        if (searchKey === ''){\n",
       "                            result = elements;\n",
       "                        } else {\n",
       "                            result = elements.filter((element) => {\n",
       "                                let property = element[activeFilterc21e10d7d17f48579669315a7278314c]\n",
       "                                if (typeof property === 'object' && property !== null){\n",
       "                                    return property.value.toLowerCase().includes(searchKey.toLowerCase());\n",
       "                                } else if (typeof property === 'string' ) {\n",
       "                                    return element[activeFilterc21e10d7d17f48579669315a7278314c].toLowerCase().includes(searchKey.toLowerCase());\n",
       "                                } else if (property !== null ) {\n",
       "                                    return element[activeFilterc21e10d7d17f48579669315a7278314c].toString() === searchKey;\n",
       "                                } else {\n",
       "                                    return element[activeFilterc21e10d7d17f48579669315a7278314c] === searchKey;\n",
       "                                }\n",
       "                            } );\n",
       "                        }\n",
       "                        resetByIdc21e10d7d17f48579669315a7278314c('tablec21e10d7d17f48579669315a7278314c');\n",
       "                        resetByIdc21e10d7d17f48579669315a7278314c('pagc21e10d7d17f48579669315a7278314c');\n",
       "                        result = paginatec21e10d7d17f48579669315a7278314c(result, page_sizec21e10d7d17f48579669315a7278314c)\n",
       "                        paginatedElementsc21e10d7d17f48579669315a7278314c = result\n",
       "                        buildGridc21e10d7d17f48579669315a7278314c(result,pageIndexc21e10d7d17f48579669315a7278314c);\n",
       "                        buildPaginationContainerc21e10d7d17f48579669315a7278314c(result);\n",
       "                    }\n",
       "\n",
       "                    function resetByIdc21e10d7d17f48579669315a7278314c(id){\n",
       "                        let element = document.getElementById(id);\n",
       "                        while (element.firstChild) {\n",
       "                          element.removeChild(element.firstChild);\n",
       "                        }\n",
       "                    }\n",
       "\n",
       "                    function buildGridc21e10d7d17f48579669315a7278314c(items, pageIndex){\n",
       "                                let headers = Object.keys(elementc21e10d7d17f48579669315a7278314c[0]);\n",
       "\n",
       "                                let grid = document.getElementById(\"tablec21e10d7d17f48579669315a7278314c\");\n",
       "                                let div = document.createElement(\"div\");\n",
       "                                div.classList.add('grid-header', 'grid-index-cells');\n",
       "                                grid.appendChild(div);\n",
       "                                headers.forEach((title) =>{\n",
       "                                    let div = document.createElement(\"div\");\n",
       "                                    div.classList.add('grid-header', 'grid-std-cells');\n",
       "                                    div.innerText = title;\n",
       "\n",
       "                                    grid.appendChild(div);\n",
       "                                });\n",
       "\n",
       "                                let page = items[pageIndex -1]\n",
       "                                if (page !== 'undefine'){\n",
       "                                    let table_indexc21e10d7d17f48579669315a7278314c = ((pageIndex - 1) * page_sizec21e10d7d17f48579669315a7278314c)\n",
       "                                    page.forEach((item) => {\n",
       "                                        let grid = document.getElementById(\"tablec21e10d7d17f48579669315a7278314c\");\n",
       "                                        // Add new index value in index cells\n",
       "                                        let divIndex = document.createElement(\"div\");\n",
       "                                        divIndex.classList.add('grid-row', 'grid-index-cells');\n",
       "                                        divIndex.innerText = table_indexc21e10d7d17f48579669315a7278314c;\n",
       "                                        grid.appendChild(divIndex);\n",
       "\n",
       "                                        // Iterate over the actual obj\n",
       "                                        for (const attr in item) {\n",
       "                                            let div = document.createElement(\"div\");\n",
       "                                            if (typeof item[attr] === 'object'\n",
       "                                                && item[attr] !== null\n",
       "                                                && item[attr].hasOwnProperty('type')) {\n",
       "                                                if (item[attr].type.includes('badge')){\n",
       "                                                    let badge_div = document.createElement(\"div\");\n",
       "                                                    badge_div.classList.add('badge',item[attr].type)\n",
       "                                                    badge_div.innerText = String(item[attr].value).toUpperCase();\n",
       "                                                    div.appendChild(badge_div);\n",
       "                                                    div.classList.add('grid-row','grid-std-cells');\n",
       "                                                } else if (item[attr].type === \"clipboard\") {\n",
       "                                                    div.classList.add('grid-row','grid-std-cells');\n",
       "\n",
       "                                                    // Create clipboard div\n",
       "                                                    let clipboard_div = document.createElement('div');\n",
       "                                                    clipboard_div.style.display= 'flex';\n",
       "                                                    clipboard_div.classList.add(\"gap-10\")\n",
       "                                                    clipboard_div.style.justifyContent = \"space-between\";\n",
       "\n",
       "                                                    let id_text = document.createElement('div');\n",
       "                                                    if (item[attr].value == \"None\"){\n",
       "                                                        id_text.innerText = \"None\";\n",
       "                                                    }\n",
       "                                                    else{\n",
       "                                                        id_text.innerText = item[attr].value.slice(0,5) + \"...\";\n",
       "                                                    }\n",
       "\n",
       "                                                    clipboard_div.appendChild(id_text);\n",
       "                                                    let clipboard_img = document.createElement('div');\n",
       "                                                    clipboard_img.classList.add(\"clipboard\")\n",
       "                                                    div.onclick = function() {\n",
       "                                                        navigator.clipboard.writeText(item[attr].value);\n",
       "                                                    };\n",
       "                                                    clipboard_img.innerHTML = \"<svg width='8' height='8' viewBox='0 0 8 8' fill='none' xmlns='http://www.w3.org/2000/svg'><path d='M7.4375 0.25H2.4375C2.35462 0.25 2.27513 0.282924 2.21653 0.341529C2.15792 0.400134 2.125 0.47962 2.125 0.5625V2.125H0.5625C0.47962 2.125 0.400134 2.15792 0.341529 2.21653C0.282924 2.27513 0.25 2.35462 0.25 2.4375V7.4375C0.25 7.52038 0.282924 7.59987 0.341529 7.65847C0.400134 7.71708 0.47962 7.75 0.5625 7.75H5.5625C5.64538 7.75 5.72487 7.71708 5.78347 7.65847C5.84208 7.59987 5.875 7.52038 5.875 7.4375V5.875H7.4375C7.52038 5.875 7.59987 5.84208 7.65847 5.78347C7.71708 5.72487 7.75 5.64538 7.75 5.5625V0.5625C7.75 0.47962 7.71708 0.400134 7.65847 0.341529C7.59987 0.282924 7.52038 0.25 7.4375 0.25ZM5.25 7.125H0.875V2.75H5.25V7.125ZM7.125 5.25H5.875V2.4375C5.875 2.35462 5.84208 2.27513 5.78347 2.21653C5.72487 2.15792 5.64538 2.125 5.5625 2.125H2.75V0.875H7.125V5.25Z' fill='#464158'/></svg>\";\n",
       "\n",
       "                                                    clipboard_div.appendChild(clipboard_img);\n",
       "                                                    div.appendChild(clipboard_div);\n",
       "                                                }\n",
       "                                            } else{\n",
       "                                                div.classList.add('grid-row','grid-std-cells');\n",
       "                                                if (item[attr] == null) {\n",
       "                                                    text = ' '\n",
       "                                                } else {\n",
       "                                                    text = String(item[attr])\n",
       "                                                }\n",
       "                                                if (text.length > 150){\n",
       "                                                    text = text.slice(0,150) + \"...\";\n",
       "                                                }\n",
       "                                                text = text.replaceAll(\"\\n\", \"</br>\");\n",
       "                                                div.innerHTML = text;\n",
       "                                            }\n",
       "                                            grid.appendChild(div);\n",
       "                                        }\n",
       "                                    table_indexc21e10d7d17f48579669315a7278314c = table_indexc21e10d7d17f48579669315a7278314c + 1;\n",
       "                                    })\n",
       "                                }\n",
       "                    }\n",
       "                    paginatedElementsc21e10d7d17f48579669315a7278314c = paginatec21e10d7d17f48579669315a7278314c(elementc21e10d7d17f48579669315a7278314c, page_sizec21e10d7d17f48579669315a7278314c)\n",
       "                    buildGridc21e10d7d17f48579669315a7278314c(paginatedElementsc21e10d7d17f48579669315a7278314c, 1)\n",
       "                    document.getElementById('totalc21e10d7d17f48579669315a7278314c').innerText = \"Total: \" + elementc21e10d7d17f48579669315a7278314c.length\n",
       "                </script>\n",
       "            </div>\n",
       "            <div id='pagc21e10d7d17f48579669315a7278314c' class='paginationContainer'>\n",
       "                <script>\n",
       "                    function buildPaginationContainerc21e10d7d17f48579669315a7278314c(paginatedElements){\n",
       "                            let pageContainer = document.getElementById(\"pagc21e10d7d17f48579669315a7278314c\");\n",
       "                            for (let i = 0; i < paginatedElements.length; i++) {\n",
       "                                  let div = document.createElement(\"div\");\n",
       "                                  div.classList.add('page');\n",
       "                                  if(i===0) div.style.color = \"gray\";\n",
       "                                  else div.style.color = 'var(--tertiary-color, \"gray\")';\n",
       "                                  div.onclick = function(event) {\n",
       "                                      let indexes = document.getElementsByClassName('page');\n",
       "                                      for (let index of indexes) { index.style.color = 'var(--tertiary-color, \"gray\")' }\n",
       "                                      event.target.style.color = \"gray\";\n",
       "                                      setPagec21e10d7d17f48579669315a7278314c(i + 1);\n",
       "                                  };\n",
       "                                  div.innerText = i + 1;\n",
       "                                  pageContainer.appendChild(div);\n",
       "                            }\n",
       "                    }\n",
       "\n",
       "                    function setPagec21e10d7d17f48579669315a7278314c(newPage){\n",
       "                        pageIndex = newPage\n",
       "                        resetByIdc21e10d7d17f48579669315a7278314c('tablec21e10d7d17f48579669315a7278314c')\n",
       "                        buildGridc21e10d7d17f48579669315a7278314c(paginatedElementsc21e10d7d17f48579669315a7278314c, pageIndex)\n",
       "                    }\n",
       "\n",
       "                    buildPaginationContainerc21e10d7d17f48579669315a7278314c(paginatedElementsc21e10d7d17f48579669315a7278314c)\n",
       "                </script>\n",
       "            </div>\n",
       "        </div>\n",
       "    </div>\n",
       "    </div>\n",
       "\n",
       "            "
      ],
      "text/markdown": [
       "Syft Dataset: My dataset\n",
       "\n",
       "Assets:\n",
       "\n",
       "\tinput asset: \n",
       "\n",
       "Description: \n",
       "\n",
       "\n",
       "\n"
      ],
      "text/plain": [
       "syft.service.dataset.dataset.CreateDataset"
      ]
     },
     "execution_count": 6,
     "metadata": {},
     "output_type": "execute_result"
    }
   ],
   "source": [
    "dataset"
   ]
  },
  {
   "cell_type": "code",
   "execution_count": 7,
   "metadata": {},
   "outputs": [
    {
     "data": {
      "text/plain": [
       "Domain: test-domain-helm2 - 448cb501cca248c7b9845081ed40744c - domain\n",
       "\n",
       "Services:\n",
       "ActionService, BlobStorageService, CodeHistoryService, DataSubjectMemberService, DataSubjectService, DatasetService, EnclaveService, JobService, LogService, MetadataService, MigrateStateService, NetworkService, NotificationService, PolicyService, ProjectService, QueueService, RequestService, SettingsService, UserCodeService, UserService, WorkerService"
      ]
     },
     "execution_count": 7,
     "metadata": {},
     "output_type": "execute_result"
    }
   ],
   "source": [
    "node.python_node"
   ]
  },
  {
   "cell_type": "code",
   "execution_count": 8,
   "metadata": {},
   "outputs": [],
   "source": [
    "from syft.service.context import AuthedServiceContext\n",
    "context = AuthedServiceContext(\n",
    "    credentials=client.verify_key,\n",
    "    node=node.python_node,\n",
    ")"
   ]
  },
  {
   "cell_type": "code",
   "execution_count": 9,
   "metadata": {},
   "outputs": [],
   "source": [
    "from syft.service.dataset.dataset import Asset, Dataset"
   ]
  },
  {
   "cell_type": "code",
   "execution_count": 10,
   "metadata": {},
   "outputs": [],
   "source": [
    "dataset.syft_client_verify_key"
   ]
  },
  {
   "cell_type": "code",
   "execution_count": 11,
   "id": "14b73a4e",
   "metadata": {},
   "outputs": [
    {
     "name": "stderr",
     "output_type": "stream",
     "text": [
      "100%|██████████| 1/1 [00:00<00:00, 12.00it/s]"
     ]
    },
    {
     "name": "stdout",
     "output_type": "stream",
     "text": [
      "Uploading: input asset\n",
      "(3,)\n"
     ]
    },
    {
     "name": "stderr",
     "output_type": "stream",
     "text": [
      "\n"
     ]
    }
   ],
   "source": [
    "res = client.upload_dataset(dataset)"
   ]
  },
  {
   "cell_type": "code",
   "execution_count": 12,
   "metadata": {},
   "outputs": [
    {
     "name": "stdout",
     "output_type": "stream",
     "text": [
      "('message', \"Dataset uploaded to 'test-domain-helm2'. To see the datasets uploaded by a client on this node, use command `[your_client].datasets`\")\n"
     ]
    }
   ],
   "source": [
    "for x in res:\n",
    "    print(x)"
   ]
  },
  {
   "cell_type": "code",
   "execution_count": 13,
   "metadata": {},
   "outputs": [
    {
     "data": {
      "text/markdown": [
       "```python\n",
       "class CreateAsset:\n",
       "  id: str = None\n",
       "  name: str = \"input asset\"\n",
       "\n",
       "```"
      ],
      "text/plain": [
       "syft.service.dataset.dataset.CreateAsset"
      ]
     },
     "execution_count": 13,
     "metadata": {},
     "output_type": "execute_result"
    }
   ],
   "source": [
    "dataset.assets[0]"
   ]
  },
  {
   "cell_type": "code",
   "execution_count": 14,
   "id": "f68842d5",
   "metadata": {},
   "outputs": [],
   "source": [
    "asset = ds_client.datasets[0].assets[0]"
   ]
  },
  {
   "cell_type": "code",
   "execution_count": 15,
   "metadata": {},
   "outputs": [
    {
     "data": {
      "text/html": [
       "<div class=\"alert-success\" style=\"padding:5px;\"><strong>SyftSuccess</strong>: Syft function 'process_batch' successfully created. To add a code request, please create a project using `project = syft.Project(...)`, then use command `project.create_code_request`.</div><br />"
      ],
      "text/plain": [
       "SyftSuccess: Syft function 'process_batch' successfully created. To add a code request, please create a project using `project = syft.Project(...)`, then use command `project.create_code_request`."
      ]
     },
     "metadata": {},
     "output_type": "display_data"
    }
   ],
   "source": [
    "@syft_function()\n",
    "def process_batch(batch):\n",
    "    # takes 30 hours normally\n",
    "    print(\"process_batch\")\n",
    "    from time import sleep\n",
    "    sleep(1)\n",
    "    return batch+1"
   ]
  },
  {
   "cell_type": "code",
   "execution_count": 16,
   "metadata": {},
   "outputs": [
    {
     "data": {
      "text/html": [
       "<div class=\"alert-success\" style=\"padding:5px;\"><strong>SyftSuccess</strong>: User Code Submitted</div><br />"
      ],
      "text/plain": [
       "SyftSuccess: User Code Submitted"
      ]
     },
     "execution_count": 16,
     "metadata": {},
     "output_type": "execute_result"
    }
   ],
   "source": [
    "ds_client.code.submit(process_batch)"
   ]
  },
  {
   "cell_type": "markdown",
   "id": "31bbb3ff",
   "metadata": {},
   "source": [
    "## Batch function"
   ]
  },
  {
   "cell_type": "code",
   "execution_count": 17,
   "id": "5d2fd248",
   "metadata": {},
   "outputs": [
    {
     "data": {
      "text/html": [
       "<div class=\"alert-success\" style=\"padding:5px;\"><strong>SyftSuccess</strong>: Syft function 'middle_batch' successfully created. To add a code request, please create a project using `project = syft.Project(...)`, then use command `project.create_code_request`.</div><br />"
      ],
      "text/plain": [
       "SyftSuccess: Syft function 'middle_batch' successfully created. To add a code request, please create a project using `project = syft.Project(...)`, then use command `project.create_code_request`."
      ]
     },
     "metadata": {},
     "output_type": "display_data"
    }
   ],
   "source": [
    "@syft_function()\n",
    "def middle_batch(domain, batch):\n",
    "    # takes 30 hours normally\n",
    "    print(\"middle_batch\")\n",
    "    from time import sleep\n",
    "    sleep(1)\n",
    "    return domain.launch_job(process_batch, batch=batch)"
   ]
  },
  {
   "cell_type": "code",
   "execution_count": 18,
   "id": "9ba22655",
   "metadata": {},
   "outputs": [
    {
     "data": {
      "text/html": [
       "<div class=\"alert-success\" style=\"padding:5px;\"><strong>SyftSuccess</strong>: User Code Submitted</div><br />"
      ],
      "text/plain": [
       "SyftSuccess: User Code Submitted"
      ]
     },
     "execution_count": 18,
     "metadata": {},
     "output_type": "execute_result"
    }
   ],
   "source": [
    "ds_client.code.submit(middle_batch)"
   ]
  },
  {
   "cell_type": "code",
   "execution_count": null,
   "metadata": {},
   "outputs": [],
   "source": []
  },
  {
   "cell_type": "markdown",
   "id": "01319f1f",
   "metadata": {},
   "source": [
    "## Main function"
   ]
  },
  {
   "cell_type": "code",
   "execution_count": 19,
   "id": "ca1b95ee",
   "metadata": {},
   "outputs": [
    {
     "data": {
      "text/html": [
       "<div class=\"alert-success\" style=\"padding:5px;\"><strong>SyftSuccess</strong>: Syft function 'process_all' successfully created. To add a code request, please create a project using `project = syft.Project(...)`, then use command `project.create_code_request`.</div><br />"
      ],
      "text/plain": [
       "SyftSuccess: Syft function 'process_all' successfully created. To add a code request, please create a project using `project = syft.Project(...)`, then use command `project.create_code_request`."
      ]
     },
     "metadata": {},
     "output_type": "display_data"
    }
   ],
   "source": [
    "@syft_function_single_use(x=asset)\n",
    "def process_all(domain, x):\n",
    "    import numpy as np\n",
    "    print(\"process_all\")\n",
    "    print(list(globals().keys()))\n",
    "    print(list(locals().keys()))\n",
    "    y = np.array([1,2,3])\n",
    "    jobs = []\n",
    "    for elem in x:\n",
    "        # We inject a domain object in the scope\n",
    "        batch_job = domain.launch_job(middle_batch, batch=elem)\n",
    "        jobs += [batch_job]\n",
    "\n",
    "    return jobs"
   ]
  },
  {
   "cell_type": "markdown",
   "id": "1e77c5db",
   "metadata": {},
   "source": [
    "# Approve & run"
   ]
  },
  {
   "cell_type": "code",
   "execution_count": 20,
   "id": "0ab572f9",
   "metadata": {
    "scrolled": false
   },
   "outputs": [
    {
     "data": {
      "text/html": [
       "<div class=\"alert-danger\" style=\"padding:5px;\"><strong>SyftError</strong>: Multiple codes detected, please use approve_nested=True</div><br />"
      ],
      "text/plain": [
       "SyftError: Multiple codes detected, please use approve_nested=True"
      ]
     },
     "execution_count": 20,
     "metadata": {},
     "output_type": "execute_result"
    }
   ],
   "source": [
    "ds_client.code.request_code_execution(process_all)\n",
    "client.requests[-1].approve()"
   ]
  },
  {
   "cell_type": "code",
   "execution_count": 21,
   "id": "9d23d22b",
   "metadata": {},
   "outputs": [],
   "source": [
    "mock =asset.mock"
   ]
  },
  {
   "cell_type": "code",
   "execution_count": 22,
   "id": "f3009e13",
   "metadata": {},
   "outputs": [
    {
     "data": {
      "text/html": [
       "[1, 1, 1]"
      ],
      "text/plain": [
       "[1, 1, 1]"
      ]
     },
     "execution_count": 22,
     "metadata": {},
     "output_type": "execute_result"
    }
   ],
   "source": [
    "mock"
   ]
  },
  {
   "cell_type": "code",
   "execution_count": 23,
   "id": "10813d11",
   "metadata": {},
   "outputs": [
    {
     "name": "stdout",
     "output_type": "stream",
     "text": [
      "Staging Protocol Changes...\n",
      "Data Migrated to latest version !!!\n",
      "Logged into <test-domain-helm2: High side Domain> as <info@openmined.org>\n"
     ]
    },
    {
     "data": {
      "text/html": [
       "<div class=\"alert-warning\" style=\"padding:5px;\"><strong>SyftWarning</strong>: You are using a default password. Please change the password using `[your_client].me.set_password([new_password])`.</div><br />"
      ],
      "text/plain": [
       "SyftWarning: You are using a default password. Please change the password using `[your_client].me.set_password([new_password])`."
      ]
     },
     "metadata": {},
     "output_type": "display_data"
    }
   ],
   "source": [
    "domain = sy.orchestra.launch(name=\"test\",\n",
    "                           dev_mode=True,\n",
    "                           reset=True, \n",
    "                           n_consumers=3,\n",
    "                           create_producer=True,\n",
    "                           queue_port=22221)\n",
    "                           \n",
    "temp_client = node.login(email=\"info@openmined.org\", password=\"changethis\")"
   ]
  },
  {
   "cell_type": "code",
   "execution_count": 24,
   "id": "0e76802f",
   "metadata": {},
   "outputs": [],
   "source": [
    "filtered_kwargs = {\"x\": [3,4]}"
   ]
  },
  {
   "cell_type": "code",
   "execution_count": 25,
   "metadata": {},
   "outputs": [
    {
     "data": {
      "text/markdown": [
       "```python\n",
       "class SubmitUserCode:\n",
       "  id: str = None\n",
       "  func_name: str = \"middle_batch\"\n",
       "  code: str = \"@syft_function()\n",
       "def middle_batch(domain, batch):\n",
       "    # takes 30 hours normally\n",
       "    print(\"middle_batch\")\n",
       "    from time import sleep\n",
       "    sleep(1)\n",
       "    return domain.launch_job(process_batch, batch=batch)\n",
       "\"\n",
       "\n",
       "```"
      ],
      "text/plain": [
       "syft.service.code.user_code.SubmitUserCode"
      ]
     },
     "execution_count": 25,
     "metadata": {},
     "output_type": "execute_result"
    }
   ],
   "source": [
    "globals()[\"middle_batch\"]"
   ]
  },
  {
   "cell_type": "code",
   "execution_count": 26,
   "id": "a34a4f43",
   "metadata": {},
   "outputs": [],
   "source": [
    "action_kwargs = {}\n",
    "for k, v in filtered_kwargs.items():\n",
    "    val = ActionObject.from_obj(v)\n",
    "    action_kwargs[k] = val.send(temp_client)\n"
   ]
  },
  {
   "cell_type": "code",
   "execution_count": 27,
   "id": "b2d81f84",
   "metadata": {},
   "outputs": [
    {
     "name": "stdout",
     "output_type": "stream",
     "text": [
      "['__name__', '__doc__', '__package__', '__loader__', '__spec__', '__file__', '__cached__', '__builtins__', 'annotations', 'ast', 'datetime', 'Enum', 'hashlib', 'inspect', 'StringIO', 'itertools', 'sys', 'time', 'traceback', 'Any', 'Callable', 'Dict', 'List', 'Optional', 'Tuple', 'Type', 'Union', 'final', 'display', 'Err', 'Self', 'NodeType', 'APIRegistry', 'NodeIdentity', 'PythonConnection', 'EnclaveMetadata', 'SyftVerifyKey', 'get_data_protocol', '_deserialize', 'serializable', '_serialize', 'PartitionKey', 'LinkedObject', 'DateTime', 'migrate', 'SYFT_OBJECT_VERSION_1', 'SYFT_OBJECT_VERSION_2', 'SyftHashableObject', 'SyftObject', 'TransformContext', 'add_node_uid_for_key', 'drop', 'generate_id', 'make_set_default', 'transform', 'UID', 'options', 'SURFACE', 'CodeMarkdown', 'as_markdown_code', 'Action', 'ActionObject', 'AuthedServiceContext', 'Asset', 'Job', 'CustomInputPolicy', 'CustomOutputPolicy', 'EmpyInputPolicy', 'ExactMatch', 'InputPolicy', 'OutputPolicy', 'Policy', 'SingleExecutionExactOutput', 'SubmitUserPolicy', 'UserPolicy', 'init_policy', 'load_policy_code', 'PolicyService', 'SyftError', 'SyftInfo', 'SyftNotReady', 'SyftSuccess', 'SyftWarning', 'GlobalsVisitor', 'LaunchJobVisitor', 'unparse', 'UserVerifyKeyPartitionKey', 'CodeHashPartitionKey', 'ServiceFuncNamePartitionKey', 'SubmitTimePartitionKey', 'PyCodeObject', 'extract_uids', 'UserCodeStatus', 'UserCodeStatusCollection', 'UserCodeV1', 'UserCode', 'downgrade_usercode_v2_to_v1', 'upgrade_usercode_v1_to_v2', 'SubmitUserCode', 'ArgumentType', 'debox_asset', 'syft_function_single_use', 'syft_function', 'generate_unique_func_name', 'process_code', 'new_check_code', 'locate_launch_jobs', 'compile_byte_code', 'compile_code', 'hash_code', 'add_credentials_for_key', 'check_policy', 'check_input_policy', 'check_output_policy', 'add_custom_status', 'add_submit_time', 'submit_user_code_to_user_code', 'UserCodeExecutionResult', 'SecureContext', 'execute_byte_code', 'traceback_from_error', 'load_approved_policy_code']\n",
      "['self', 'args', 'kwargs', 'EphemeralDomain', 'new_function_str', 'filtered_kwargs', 'on_private_data', 'on_mock_data', 'k', 'v', 'arg_type', '_locals', 'tree', 'nested_calls']\n",
      "{'filtered_kwargs': {'x': [3, 4], 'domain': <syft.service.code.user_code.SubmitUserCode.__call__.<locals>.EphemeralDomain object at 0x7f49375a00d0>}, 'middle_batch': syft.service.code.user_code.SubmitUserCode}\n",
      "process_all\n",
      "['filtered_kwargs', 'middle_batch', '__builtins__', 'process_all']\n",
      "['domain', 'x', 'np']\n",
      "Launching: syft.service.code.user_code.SubmitUserCode\n",
      "['__name__', '__doc__', '__package__', '__loader__', '__spec__', '__file__', '__cached__', '__builtins__', 'annotations', 'ast', 'datetime', 'Enum', 'hashlib', 'inspect', 'StringIO', 'itertools', 'sys', 'time', 'traceback', 'Any', 'Callable', 'Dict', 'List', 'Optional', 'Tuple', 'Type', 'Union', 'final', 'display', 'Err', 'Self', 'NodeType', 'APIRegistry', 'NodeIdentity', 'PythonConnection', 'EnclaveMetadata', 'SyftVerifyKey', 'get_data_protocol', '_deserialize', 'serializable', '_serialize', 'PartitionKey', 'LinkedObject', 'DateTime', 'migrate', 'SYFT_OBJECT_VERSION_1', 'SYFT_OBJECT_VERSION_2', 'SyftHashableObject', 'SyftObject', 'TransformContext', 'add_node_uid_for_key', 'drop', 'generate_id', 'make_set_default', 'transform', 'UID', 'options', 'SURFACE', 'CodeMarkdown', 'as_markdown_code', 'Action', 'ActionObject', 'AuthedServiceContext', 'Asset', 'Job', 'CustomInputPolicy', 'CustomOutputPolicy', 'EmpyInputPolicy', 'ExactMatch', 'InputPolicy', 'OutputPolicy', 'Policy', 'SingleExecutionExactOutput', 'SubmitUserPolicy', 'UserPolicy', 'init_policy', 'load_policy_code', 'PolicyService', 'SyftError', 'SyftInfo', 'SyftNotReady', 'SyftSuccess', 'SyftWarning', 'GlobalsVisitor', 'LaunchJobVisitor', 'unparse', 'UserVerifyKeyPartitionKey', 'CodeHashPartitionKey', 'ServiceFuncNamePartitionKey', 'SubmitTimePartitionKey', 'PyCodeObject', 'extract_uids', 'UserCodeStatus', 'UserCodeStatusCollection', 'UserCodeV1', 'UserCode', 'downgrade_usercode_v2_to_v1', 'upgrade_usercode_v1_to_v2', 'SubmitUserCode', 'ArgumentType', 'debox_asset', 'syft_function_single_use', 'syft_function', 'generate_unique_func_name', 'process_code', 'new_check_code', 'locate_launch_jobs', 'compile_byte_code', 'compile_code', 'hash_code', 'add_credentials_for_key', 'check_policy', 'check_input_policy', 'check_output_policy', 'add_custom_status', 'add_submit_time', 'submit_user_code_to_user_code', 'UserCodeExecutionResult', 'SecureContext', 'execute_byte_code', 'traceback_from_error', 'load_approved_policy_code']\n",
      "['self', 'args', 'kwargs', 'EphemeralDomain', 'new_function_str', 'filtered_kwargs', 'on_private_data', 'on_mock_data', 'k', 'v', 'arg_type', '_locals', 'tree', 'nested_calls']\n",
      "{'filtered_kwargs': {'batch': 3, 'domain': <syft.service.code.user_code.SubmitUserCode.__call__.<locals>.EphemeralDomain object at 0x7f4936a111d0>}, 'process_batch': syft.service.code.user_code.SubmitUserCode}\n",
      "middle_batch\n",
      "Launching: syft.service.code.user_code.SubmitUserCode\n",
      "{'filtered_kwargs': {'batch': 3}}\n",
      "process_batch\n",
      "Launching: syft.service.code.user_code.SubmitUserCode\n",
      "['__name__', '__doc__', '__package__', '__loader__', '__spec__', '__file__', '__cached__', '__builtins__', 'annotations', 'ast', 'datetime', 'Enum', 'hashlib', 'inspect', 'StringIO', 'itertools', 'sys', 'time', 'traceback', 'Any', 'Callable', 'Dict', 'List', 'Optional', 'Tuple', 'Type', 'Union', 'final', 'display', 'Err', 'Self', 'NodeType', 'APIRegistry', 'NodeIdentity', 'PythonConnection', 'EnclaveMetadata', 'SyftVerifyKey', 'get_data_protocol', '_deserialize', 'serializable', '_serialize', 'PartitionKey', 'LinkedObject', 'DateTime', 'migrate', 'SYFT_OBJECT_VERSION_1', 'SYFT_OBJECT_VERSION_2', 'SyftHashableObject', 'SyftObject', 'TransformContext', 'add_node_uid_for_key', 'drop', 'generate_id', 'make_set_default', 'transform', 'UID', 'options', 'SURFACE', 'CodeMarkdown', 'as_markdown_code', 'Action', 'ActionObject', 'AuthedServiceContext', 'Asset', 'Job', 'CustomInputPolicy', 'CustomOutputPolicy', 'EmpyInputPolicy', 'ExactMatch', 'InputPolicy', 'OutputPolicy', 'Policy', 'SingleExecutionExactOutput', 'SubmitUserPolicy', 'UserPolicy', 'init_policy', 'load_policy_code', 'PolicyService', 'SyftError', 'SyftInfo', 'SyftNotReady', 'SyftSuccess', 'SyftWarning', 'GlobalsVisitor', 'LaunchJobVisitor', 'unparse', 'UserVerifyKeyPartitionKey', 'CodeHashPartitionKey', 'ServiceFuncNamePartitionKey', 'SubmitTimePartitionKey', 'PyCodeObject', 'extract_uids', 'UserCodeStatus', 'UserCodeStatusCollection', 'UserCodeV1', 'UserCode', 'downgrade_usercode_v2_to_v1', 'upgrade_usercode_v1_to_v2', 'SubmitUserCode', 'ArgumentType', 'debox_asset', 'syft_function_single_use', 'syft_function', 'generate_unique_func_name', 'process_code', 'new_check_code', 'locate_launch_jobs', 'compile_byte_code', 'compile_code', 'hash_code', 'add_credentials_for_key', 'check_policy', 'check_input_policy', 'check_output_policy', 'add_custom_status', 'add_submit_time', 'submit_user_code_to_user_code', 'UserCodeExecutionResult', 'SecureContext', 'execute_byte_code', 'traceback_from_error', 'load_approved_policy_code']\n",
      "['self', 'args', 'kwargs', 'EphemeralDomain', 'new_function_str', 'filtered_kwargs', 'on_private_data', 'on_mock_data', 'k', 'v', 'arg_type', '_locals', 'tree', 'nested_calls']\n",
      "{'filtered_kwargs': {'batch': 4, 'domain': <syft.service.code.user_code.SubmitUserCode.__call__.<locals>.EphemeralDomain object at 0x7f49320a0090>}, 'process_batch': syft.service.code.user_code.SubmitUserCode}\n",
      "middle_batch\n",
      "Launching: syft.service.code.user_code.SubmitUserCode\n",
      "{'filtered_kwargs': {'batch': 4}}\n",
      "process_batch\n"
     ]
    },
    {
     "data": {
      "text/html": [
       "[4, 5]"
      ],
      "text/plain": [
       "[4, 5]"
      ]
     },
     "execution_count": 27,
     "metadata": {},
     "output_type": "execute_result"
    }
   ],
   "source": [
    "process_all(**action_kwargs)"
   ]
  }
 ],
 "metadata": {
  "kernelspec": {
   "display_name": "Python 3 (ipykernel)",
   "language": "python",
   "name": "python3"
  },
  "language_info": {
   "codemirror_mode": {
    "name": "ipython",
    "version": 3
   },
   "file_extension": ".py",
   "mimetype": "text/x-python",
   "name": "python",
   "nbconvert_exporter": "python",
   "pygments_lexer": "ipython3",
   "version": "3.11.4"
  },
  "toc": {
   "base_numbering": 1,
   "nav_menu": {},
   "number_sections": true,
   "sideBar": true,
   "skip_h1_title": false,
   "title_cell": "Table of Contents",
   "title_sidebar": "Contents",
   "toc_cell": false,
   "toc_position": {},
   "toc_section_display": true,
   "toc_window_display": true
  }
 },
 "nbformat": 4,
 "nbformat_minor": 5
}
