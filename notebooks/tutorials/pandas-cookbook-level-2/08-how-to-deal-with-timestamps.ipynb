{
 "cells": [
  {
   "cell_type": "markdown",
   "id": "2a6747c8",
   "metadata": {},
   "source": [
    "# How to deal with timestamps"
   ]
  },
  {
   "cell_type": "markdown",
   "id": "5144da74",
   "metadata": {},
   "source": [
    "## Install"
   ]
  },
  {
   "cell_type": "code",
   "execution_count": null,
   "id": "66c14a6b",
   "metadata": {},
   "outputs": [],
   "source": [
    "SYFT_VERSION = \">=0.8.1b0,<0.9\"\n",
    "package_string = f'\"syft{SYFT_VERSION}\"'\n",
    "# !pip install {package_string} -f https://whls.blob.core.windows.net/unstable/index.html -q"
   ]
  },
  {
   "cell_type": "code",
   "execution_count": null,
   "id": "74a3a9fb",
   "metadata": {},
   "outputs": [],
   "source": [
    "import syft as sy\n",
    "sy.requires(SYFT_VERSION)"
   ]
  },
  {
   "cell_type": "code",
   "execution_count": null,
   "id": "cbce68c1",
   "metadata": {},
   "outputs": [],
   "source": [
    "node = sy.orchestra.launch(name=\"pandas-test-domain-8\", port=\"8088\", reset=True)"
   ]
  },
  {
   "cell_type": "markdown",
   "id": "ec3bce2f",
   "metadata": {},
   "source": [
    "# Data owner: upload dataset"
   ]
  },
  {
   "cell_type": "code",
   "execution_count": null,
   "id": "dc5a5a72",
   "metadata": {},
   "outputs": [],
   "source": [
    "root_domain_client = node.login(email=\"info@openmined.org\", password=\"changethis\")"
   ]
  },
  {
   "cell_type": "markdown",
   "id": "da0cf39a",
   "metadata": {},
   "source": [
    "## Load data"
   ]
  },
  {
   "cell_type": "markdown",
   "id": "ddb684cf",
   "metadata": {},
   "source": [
    "It's not obvious how to deal with Unix timestamps in pandas -- it took me quite a while to figure this out. The file we're using here is a popularity-contest file I found on my system at /var/log/popularity-contest."
   ]
  },
  {
   "cell_type": "code",
   "execution_count": null,
   "id": "29334026",
   "metadata": {},
   "outputs": [],
   "source": [
    "%matplotlib inline\n",
    "import pandas as pd\n",
    "import matplotlib.pyplot as plt\n",
    "import numpy as np\n",
    "from syft.service.project.project import Project\n",
    "from syft.util.util import autocache, PANDAS_DATA\n",
    "\n",
    "plt.style.use('ggplot')\n",
    "plt.rcParams['figure.figsize'] = (15, 3)\n",
    "plt.rcParams['font.family'] = 'sans-serif'"
   ]
  },
  {
   "cell_type": "code",
   "execution_count": null,
   "id": "01ccd135",
   "metadata": {},
   "outputs": [],
   "source": [
    "popcon = pd.read_csv(autocache(f\"{PANDAS_DATA}/popularity-contest\"), sep=' ', )[:-1]\n",
    "popcon.columns = ['atime', 'ctime', 'package-name', 'mru-program', 'tag']"
   ]
  },
  {
   "cell_type": "code",
   "execution_count": null,
   "id": "c9fe710c",
   "metadata": {},
   "outputs": [],
   "source": [
    "set(popcon[\"tag\"])"
   ]
  },
  {
   "cell_type": "markdown",
   "id": "409c477e",
   "metadata": {},
   "source": [
    "## Create mock data"
   ]
  },
  {
   "cell_type": "markdown",
   "id": "2c4999d5",
   "metadata": {},
   "source": [
    "Lets create a mock dataset"
   ]
  },
  {
   "cell_type": "code",
   "execution_count": null,
   "id": "4a0fe359",
   "metadata": {},
   "outputs": [],
   "source": [
    "# weather_types = set(weather_2012_final.Weather.to_list())"
   ]
  },
  {
   "cell_type": "code",
   "execution_count": null,
   "id": "d2ddc88d",
   "metadata": {},
   "outputs": [],
   "source": [
    "from random import randint\n",
    "import random"
   ]
  },
  {
   "cell_type": "code",
   "execution_count": null,
   "id": "35bfb68b",
   "metadata": {},
   "outputs": [],
   "source": [
    "def get_random_timestamp():\n",
    "    return \"135\" + \"\".join([str(randint(0,9)) for i in range(6)])"
   ]
  },
  {
   "cell_type": "code",
   "execution_count": null,
   "id": "7db7b9af",
   "metadata": {},
   "outputs": [],
   "source": [
    "def get_mock_date(i):\n",
    "    return str(parse('Jun 1 2010') + timedelta(days=i))\n",
    "\n",
    "def get_mock_row(i):\n",
    "    res = dict()\n",
    "    for k, function in mock_functions.items():\n",
    "        res[k] = function()\n",
    "    return res\n",
    "    "
   ]
  },
  {
   "cell_type": "code",
   "execution_count": null,
   "id": "090f5a59",
   "metadata": {},
   "outputs": [],
   "source": [
    "mock_functions = {'atime': lambda: get_random_timestamp(),\n",
    "                  'ctime': lambda: get_random_timestamp(),\n",
    "                  'package-name': lambda: random.choice([\n",
    "                      'libghc-stm-dev',\n",
    "                      'libqtdee-dev',\n",
    "                      'geoclue-ubuntu-geoip',\n",
    "                      'libdesktop-agnostic0',\n",
    "                      'ubuntu-extras-keyring',\n",
    "                      'libbsd0',\n",
    "                      'libxres-dev']),\n",
    "                  'mru-program': lambda: random.choice([\n",
    "                      '/usr/bin/opam',\n",
    "                      '/usr/bin/onboard',\n",
    "                      '/lib/init/upstart-job',\n",
    "                      '/usr/bin/page',\n",
    "                  ]),\n",
    "                  'tag': lambda: random.choice(['<OLD>', '<RECENT-CTIME>', 'nan'])}\n"
   ]
  },
  {
   "cell_type": "code",
   "execution_count": null,
   "id": "7a7e70a6",
   "metadata": {},
   "outputs": [],
   "source": [
    "mock = pd.DataFrame(data=[get_mock_row(i) for i in range(len(popcon))],\n",
    "                    columns=popcon.columns)\n",
    "    \n"
   ]
  },
  {
   "cell_type": "markdown",
   "id": "d11fc4b8",
   "metadata": {},
   "source": [
    "Upload the data"
   ]
  },
  {
   "cell_type": "code",
   "execution_count": null,
   "id": "e370b8b3",
   "metadata": {},
   "outputs": [],
   "source": [
    "dataset = sy.Dataset(name=\"test\", asset_list=[sy.Asset(name=f\"weather\", data=popcon,\n",
    "                                                       mock=mock, mock_is_real=False)])\n",
    "root_domain_client.upload_dataset(dataset)\n"
   ]
  },
  {
   "cell_type": "code",
   "execution_count": null,
   "id": "3eb6aef9",
   "metadata": {},
   "outputs": [],
   "source": [
    "popcon.head()"
   ]
  },
  {
   "cell_type": "markdown",
   "id": "61a1069e",
   "metadata": {},
   "source": [
    "## Create user account"
   ]
  },
  {
   "cell_type": "code",
   "execution_count": null,
   "id": "5124df8c",
   "metadata": {},
   "outputs": [],
   "source": [
    "user = root_domain_client.register(name=\"Jane Doe\", email=\"jane@caltech.edu\",\n",
    "                            password=\"abc123\", institution=\"Caltech\", website=\"https://www.caltech.edu/\")\n",
    "# todo: give user data scientist role\n",
    "guest_domain_client = node.client\n",
    "guest_client = guest_domain_client.login(email=\"jane@caltech.edu\", password=\"abc123\")"
   ]
  },
  {
   "cell_type": "markdown",
   "id": "4c0f22af",
   "metadata": {},
   "source": [
    "# Data scientist: create result pointer"
   ]
  },
  {
   "cell_type": "code",
   "execution_count": null,
   "id": "e0f665a0",
   "metadata": {},
   "outputs": [],
   "source": [
    "import numpy as np\n",
    "import pandas as pd"
   ]
  },
  {
   "cell_type": "markdown",
   "id": "c52d6d1c",
   "metadata": {},
   "source": [
    "## Summary\n",
    "\n",
    "It's not obvious how to deal with Unix timestamps in pandas -- it took me quite a while to figure this out. The file we're using here is a popularity-contest file I found on my system at `/var/log/popularity-contest`."
   ]
  },
  {
   "cell_type": "markdown",
   "id": "8c63f823",
   "metadata": {},
   "source": [
    "## Get mocks"
   ]
  },
  {
   "cell_type": "code",
   "execution_count": null,
   "id": "81c7f134",
   "metadata": {},
   "outputs": [],
   "source": [
    "ds = guest_domain_client.datasets[0]"
   ]
  },
  {
   "cell_type": "code",
   "execution_count": null,
   "id": "24cac2dc",
   "metadata": {},
   "outputs": [],
   "source": [
    "asset = ds.assets[0]"
   ]
  },
  {
   "cell_type": "code",
   "execution_count": null,
   "id": "82f805be",
   "metadata": {},
   "outputs": [],
   "source": [
    "popcon = asset.mock"
   ]
  },
  {
   "cell_type": "markdown",
   "id": "d9ed60db",
   "metadata": {},
   "source": [
    "## Parsing Unix timestamps"
   ]
  },
  {
   "cell_type": "markdown",
   "id": "d6440d74",
   "metadata": {},
   "source": [
    "The colums are the access time, created time, package name, recently used program, and a tag\n",
    "\n"
   ]
  },
  {
   "cell_type": "code",
   "execution_count": null,
   "id": "3588b429",
   "metadata": {},
   "outputs": [],
   "source": [
    "popcon[:5]"
   ]
  },
  {
   "cell_type": "markdown",
   "id": "d464243c",
   "metadata": {},
   "source": [
    "The magical part about parsing timestamps in pandas is that numpy datetimes are already stored as Unix timestamps. So all we need to do is tell pandas that these integers are actually datetimes -- it doesn't need to do any conversion at all.\n",
    "\n",
    "We need to convert these to ints to start:"
   ]
  },
  {
   "cell_type": "code",
   "execution_count": null,
   "id": "d2dbcc32",
   "metadata": {},
   "outputs": [],
   "source": [
    "popcon['atime'] = popcon['atime'].astype(int)\n",
    "popcon['ctime'] = popcon['ctime'].astype(int)"
   ]
  },
  {
   "cell_type": "markdown",
   "id": "b510b9c8",
   "metadata": {},
   "source": [
    "Every numpy array and pandas series has a dtype -- this is usually `int64`, `float64`, or `object`. Some of the time types available are `datetime64[s]`, `datetime64[ms]`, and `datetime64[us]`. There are also `timedelta` types, similarly.\n",
    "\n",
    "We can use the `pd.to_datetime` function to convert our integer timestamps into datetimes. This is a constant-time operation -- we're not actually changing any of the data, just how pandas thinks about it."
   ]
  },
  {
   "cell_type": "code",
   "execution_count": null,
   "id": "c8736589",
   "metadata": {},
   "outputs": [],
   "source": [
    "popcon"
   ]
  },
  {
   "cell_type": "code",
   "execution_count": null,
   "id": "d26a35b6",
   "metadata": {},
   "outputs": [],
   "source": [
    "popcon['atime'] = guest_client.api.lib.pandas.to_datetime(popcon['atime'], unit='s')\n",
    "popcon['ctime'] = guest_client.api.lib.pandas.to_datetime(popcon['ctime'], unit='s')"
   ]
  },
  {
   "cell_type": "markdown",
   "id": "e1448504",
   "metadata": {},
   "source": [
    "If we look at the dtype now, it's `<M8[ns]`. As far as I can tell `M8` is secret code for `datetime64`."
   ]
  },
  {
   "cell_type": "code",
   "execution_count": null,
   "id": "d6624a0d",
   "metadata": {},
   "outputs": [],
   "source": [
    "#TODO: Fix\n",
    "# popcon['atime'].dtype"
   ]
  },
  {
   "cell_type": "markdown",
   "id": "c657d3e1",
   "metadata": {},
   "source": [
    "So now we can look at our `atime` and `ctime` as dates!"
   ]
  },
  {
   "cell_type": "code",
   "execution_count": null,
   "id": "24db2605",
   "metadata": {},
   "outputs": [],
   "source": [
    "popcon[:5]"
   ]
  },
  {
   "cell_type": "markdown",
   "id": "53aca015",
   "metadata": {},
   "source": [
    "Now suppose we want to look at all packages that aren't libraries."
   ]
  },
  {
   "cell_type": "markdown",
   "id": "b09b8c6e",
   "metadata": {},
   "source": [
    "First, I want to get rid of everything with timestamp 0. Notice how we can just use a string in this comparison, even though it's actually a timestamp on the inside? That is because pandas is amazing.\n"
   ]
  },
  {
   "cell_type": "code",
   "execution_count": null,
   "id": "db7bb0b8",
   "metadata": {},
   "outputs": [],
   "source": [
    "atime = popcon['atime']"
   ]
  },
  {
   "cell_type": "code",
   "execution_count": null,
   "id": "e069d604",
   "metadata": {},
   "outputs": [],
   "source": [
    "popcon = popcon[popcon['atime'] > '1970-01-01']"
   ]
  },
  {
   "cell_type": "markdown",
   "id": "54ef1632",
   "metadata": {},
   "source": [
    "Now we can use pandas' magical string abilities to just look at rows where the package name doesn't contain 'lib'."
   ]
  },
  {
   "cell_type": "code",
   "execution_count": null,
   "id": "afc72d61",
   "metadata": {},
   "outputs": [],
   "source": [
    "nonlibraries = popcon[~popcon['package-name'].str.contains('lib')]"
   ]
  },
  {
   "cell_type": "code",
   "execution_count": null,
   "id": "9423fad9",
   "metadata": {},
   "outputs": [],
   "source": [
    "nonlibraries.sort_values('ctime', ascending=False)[:10]"
   ]
  },
  {
   "cell_type": "markdown",
   "id": "33235394",
   "metadata": {},
   "source": [
    "Okay, cool, it says that I I installed ddd recently. And postgresql! I remember installing those things. Neat.\n",
    "\n",
    "The whole message here is that if you have a timestamp in seconds or milliseconds or nanoseconds, then you can just \"cast\" it to a `'datetime64[the-right-thing]'` and pandas/numpy will take care of the rest."
   ]
  },
  {
   "cell_type": "markdown",
   "id": "3ad300a3",
   "metadata": {},
   "source": [
    "## Requesting result"
   ]
  },
  {
   "cell_type": "code",
   "execution_count": null,
   "id": "71417d4d",
   "metadata": {},
   "outputs": [],
   "source": [
    "nonlibraries.request(guest_client)"
   ]
  },
  {
   "cell_type": "markdown",
   "id": "64ce88bd",
   "metadata": {},
   "source": [
    "# Data owner: accept request"
   ]
  },
  {
   "cell_type": "code",
   "execution_count": null,
   "id": "4046e05a",
   "metadata": {},
   "outputs": [],
   "source": [
    "root_domain_client = node.login(email=\"info@openmined.org\", password=\"changethis\")"
   ]
  },
  {
   "cell_type": "code",
   "execution_count": null,
   "id": "889d92ba",
   "metadata": {},
   "outputs": [],
   "source": [
    "root_domain_client.api.services.request[0].approve()"
   ]
  },
  {
   "cell_type": "markdown",
   "id": "d23c84c2",
   "metadata": {},
   "source": [
    "# Data Owner: fetch result"
   ]
  },
  {
   "cell_type": "code",
   "execution_count": null,
   "id": "b302702f",
   "metadata": {},
   "outputs": [],
   "source": [
    "guest_client = guest_domain_client.login(email=\"jane@caltech.edu\", password=\"abc123\")"
   ]
  },
  {
   "cell_type": "code",
   "execution_count": null,
   "id": "48d17886",
   "metadata": {},
   "outputs": [],
   "source": [
    "real_result = nonlibraries.get_from(guest_client)"
   ]
  },
  {
   "cell_type": "code",
   "execution_count": null,
   "id": "66aa7623",
   "metadata": {},
   "outputs": [],
   "source": [
    "real_result"
   ]
  },
  {
   "cell_type": "code",
   "execution_count": null,
   "id": "ed3c5e38",
   "metadata": {},
   "outputs": [],
   "source": [
    "node.land()"
   ]
  }
 ],
 "metadata": {
  "kernelspec": {
   "display_name": "Python 3 (ipykernel)",
   "language": "python",
   "name": "python3"
  },
  "language_info": {
   "codemirror_mode": {
    "name": "ipython",
    "version": 3
   },
   "file_extension": ".py",
   "mimetype": "text/x-python",
   "name": "python",
   "nbconvert_exporter": "python",
   "pygments_lexer": "ipython3",
   "version": "3.9.16"
  },
  "toc": {
   "base_numbering": 1,
   "nav_menu": {},
   "number_sections": true,
   "sideBar": true,
   "skip_h1_title": false,
   "title_cell": "Table of Contents",
   "title_sidebar": "Contents",
   "toc_cell": false,
   "toc_position": {
    "height": "calc(100% - 180px)",
    "left": "10px",
    "top": "150px",
    "width": "358.398px"
   },
   "toc_section_display": true,
   "toc_window_display": true
  }
 },
 "nbformat": 4,
 "nbformat_minor": 5
}
