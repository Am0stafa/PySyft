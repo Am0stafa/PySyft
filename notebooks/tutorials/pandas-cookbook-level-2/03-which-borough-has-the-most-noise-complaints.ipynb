{
 "cells": [
  {
   "cell_type": "markdown",
   "id": "caed84b7",
   "metadata": {},
   "source": [
    "# Which borough has the most noise complaints (or, more selecting data)"
   ]
  },
  {
   "cell_type": "markdown",
   "id": "0f427af3",
   "metadata": {},
   "source": [
    "## Install"
   ]
  },
  {
   "cell_type": "code",
   "execution_count": null,
   "id": "66c14a6b",
   "metadata": {},
   "outputs": [],
   "source": [
    "SYFT_VERSION = \">=0.8.1b0,<0.9\"\n",
    "package_string = f'\"syft{SYFT_VERSION}\"'\n",
    "!pip install {package_string} -f https://whls.blob.core.windows.net/unstable/index.html -q"
   ]
  },
  {
   "cell_type": "code",
   "execution_count": null,
   "id": "74a3a9fb",
   "metadata": {},
   "outputs": [],
   "source": [
    "import syft as sy\n",
    "sy.requires(SYFT_VERSION)"
   ]
  },
  {
   "cell_type": "code",
   "execution_count": null,
   "id": "cbce68c1",
   "metadata": {},
   "outputs": [],
   "source": [
    "node = sy.orchestra.launch(name=\"pandas-test-domain-3\", port=\"8073\", reset=True)"
   ]
  },
  {
   "cell_type": "markdown",
   "id": "9b583123",
   "metadata": {},
   "source": [
    "# Data owner: upload data"
   ]
  },
  {
   "cell_type": "code",
   "execution_count": null,
   "id": "3779a9a3",
   "metadata": {},
   "outputs": [],
   "source": [
    "domain_client = node.login(email=\"info@openmined.org\", password=\"changethis\")"
   ]
  },
  {
   "cell_type": "code",
   "execution_count": null,
   "id": "479e0fbd",
   "metadata": {},
   "outputs": [],
   "source": [
    "# The usual preamble\n",
    "%matplotlib inline\n",
    "import pandas as pd\n",
    "import matplotlib.pyplot as plt\n",
    "from syft import Worker, MessageStatus\n",
    "from syft.service.project.project import Project\n",
    "from syft.util.util import PANDAS_DATA\n",
    "\n",
    "# Make the graphs a bit prettier, and bigger\n",
    "plt.style.use('ggplot')\n",
    "\n",
    "# This is necessary to show lots of columns in pandas 0.12. \n",
    "# Not necessary in pandas 0.13.\n",
    "pd.set_option('display.width', 5000) \n",
    "pd.set_option('display.max_columns', 60)\n",
    "\n",
    "plt.rcParams['figure.figsize'] = (15, 5)"
   ]
  },
  {
   "cell_type": "markdown",
   "id": "e5de64c5",
   "metadata": {},
   "source": [
    "## Load data"
   ]
  },
  {
   "cell_type": "markdown",
   "id": "f51535e7",
   "metadata": {},
   "source": [
    "We're going to use a new dataset here, to demonstrate how to deal with larger datasets. This is a subset of the of 311 service requests from NYC Open Data."
   ]
  },
  {
   "cell_type": "code",
   "execution_count": null,
   "id": "f5fa8555",
   "metadata": {},
   "outputs": [],
   "source": [
    "# because of mixed types we specify dtype to prevent any errors\n",
    "complaints = pd.read_csv(sy.autocache(f\"{PANDAS_DATA}/311-service-requests.csv\"), dtype='unicode')"
   ]
  },
  {
   "cell_type": "markdown",
   "id": "e41cf047",
   "metadata": {},
   "source": [
    "Depending on your pandas version, you might see an error like \"DtypeWarning: Columns (8) have mixed types\". This means that it's encountered a problem reading in our data. In this case it almost certainly means that it has columns where some of the entries are strings and some are integers.\n",
    "\n",
    "For now we're going to ignore it and hope we don't run into a problem, but in the long run we'd need to investigate this warning."
   ]
  },
  {
   "cell_type": "code",
   "execution_count": null,
   "id": "3a0da17e",
   "metadata": {},
   "outputs": [],
   "source": [
    "complaints"
   ]
  },
  {
   "cell_type": "markdown",
   "id": "30da09e0",
   "metadata": {},
   "source": [
    "## Create Mock data"
   ]
  },
  {
   "cell_type": "code",
   "execution_count": null,
   "id": "edec9a15",
   "metadata": {},
   "outputs": [],
   "source": [
    "from syft.serde.mock import CachedFaker\n",
    "from random import randint\n",
    "import random"
   ]
  },
  {
   "cell_type": "markdown",
   "id": "5aebe627",
   "metadata": {},
   "source": [
    "Let's create the mock data for the complaint dataset."
   ]
  },
  {
   "cell_type": "code",
   "execution_count": null,
   "id": "aaca029e",
   "metadata": {},
   "outputs": [],
   "source": [
    "fake = CachedFaker()"
   ]
  },
  {
   "cell_type": "code",
   "execution_count": null,
   "id": "33bf792a",
   "metadata": {},
   "outputs": [],
   "source": [
    "fake_functions = {\n",
    "    \"Unique Key\": lambda x: randint(1,1000000),\n",
    "    \"Location\": lambda x: (fake.coordinate(), fake.coordinate()),\n",
    "    \"Agency\": lambda x: random.choice([\"NYPD\", \"DOHMH\", \"DPR\"]),\n",
    "    \"X Coordinate (State Plane)\": lambda x: randint(1,1000000),\n",
    "    \"Y Coordinate (State Plane)\": lambda x: randint(1,1000000),\n",
    "    \"Complaint Type\": lambda x: random.choice([\"Illegal Parking\", \"Noise - Street/Sidewalk\", \"'Animal in a Park'\"]),\n",
    "    \"Descriptor\": lambda x: random.choice([ 'Branch or Limb Has Fallen Down','Branches Damaged','Broken Fence', 'Broken Glass']),\n",
    "    \"School Number\": lambda x: random.choice([ 'B073', 'B077', 'B079', 'B080-01', 'B087', 'B099', 'B100', 'B102', 'B109', 'B111']),\n",
    "    \"Bridge Highway Segment\": lambda x: random.choice([ 'Grand Central Pkwy (Exit 1 E-W)',\n",
    "                                                       'Grand Central Pkwy (Exit 10) - 69th Rd-Jewel Ave (Exit 11)',\n",
    "                                                       'GrandCentral Pkwy/VanWyck Expwy/College Point Blvd (Exit 22 A-E)',\n",
    "                                                       'Hamilton Ave (Exit 2A) - Gowanus Expwy (I-278) (Exit 1)',\n",
    "                                                       'Harding Ave (Exit 9) - Throgs Neck Br'])\n",
    "}"
   ]
  },
  {
   "cell_type": "code",
   "execution_count": null,
   "id": "14883cf9",
   "metadata": {},
   "outputs": [],
   "source": [
    "fake_triggers = {\n",
    "    \"Street\": lambda x : fake.street_name(),\n",
    "    \"Date\": lambda x : fake.date_time(),\n",
    "    \"Long\": lambda x : fake.coordinate(),\n",
    "    \"Lat\": lambda x : fake.coordinate(),\n",
    "    \"Address\": lambda x : fake.address(),\n",
    "    \"Name\": lambda x : fake.name(),\n",
    "    \"City\": lambda x : fake.city(),\n",
    "    \"Zip\": lambda x : fake.zipcode(),\n",
    "}"
   ]
  },
  {
   "cell_type": "code",
   "execution_count": null,
   "id": "ce64d92b",
   "metadata": {},
   "outputs": [],
   "source": [
    "mock_data = dict()\n",
    "for col in complaints.columns:\n",
    "    col_vals = complaints[col]\n",
    "    \n",
    "    if col in fake_functions:\n",
    "        mock_func = fake_functions[col]\n",
    "    elif len(set(complaints[col])) < 100:\n",
    "        values = list(set(complaints[col]))\n",
    "        mock_func = lambda x: random.choice(values)\n",
    "    else:\n",
    "        for trigger in fake_triggers.keys():\n",
    "            if trigger in col:\n",
    "                mock_func = fake_triggers[trigger]\n",
    "    mock_data[col] = [mock_func(None) for x in range(len(complaints))]"
   ]
  },
  {
   "cell_type": "code",
   "execution_count": null,
   "id": "1a5047e6",
   "metadata": {},
   "outputs": [],
   "source": [
    "mock = pd.DataFrame(data=mock_data)"
   ]
  },
  {
   "cell_type": "code",
   "execution_count": null,
   "id": "91c3150b",
   "metadata": {},
   "outputs": [],
   "source": [
    "mock.head()"
   ]
  },
  {
   "cell_type": "code",
   "execution_count": null,
   "id": "2f02eba8",
   "metadata": {},
   "outputs": [],
   "source": [
    "dataset = sy.Dataset(name=\"bikes\",\n",
    "                     asset_list=[sy.Asset(name=\"complaints\", data=complaints, mock=mock, mock_is_real=False)])\n",
    "domain_client.upload_dataset(dataset)"
   ]
  },
  {
   "cell_type": "markdown",
   "id": "eecd3476",
   "metadata": {},
   "source": [
    "## Create data scientist"
   ]
  },
  {
   "cell_type": "code",
   "execution_count": null,
   "id": "f20a2411",
   "metadata": {},
   "outputs": [],
   "source": [
    "user = domain_client.register(name=\"Jane Doe\", email=\"jane@caltech.edu\",\n",
    "                            password=\"abc123\", institution=\"Caltech\", website=\"https://www.caltech.edu/\")\n",
    "\n",
    "# todo: give user data scientist role\n",
    "\n",
    "guest_domain_client = node.client\n",
    "\n",
    "guest_client = guest_domain_client.login(email=\"jane@caltech.edu\", password=\"abc123\")"
   ]
  },
  {
   "cell_type": "markdown",
   "id": "c64adae0",
   "metadata": {},
   "source": [
    "# Data scientist: Create result pointer"
   ]
  },
  {
   "cell_type": "markdown",
   "id": "8c9c3595",
   "metadata": {},
   "source": [
    "## Download mock and request pointer"
   ]
  },
  {
   "cell_type": "markdown",
   "id": "8c63f823",
   "metadata": {},
   "source": [
    "### Get mock"
   ]
  },
  {
   "cell_type": "code",
   "execution_count": null,
   "id": "d568e3f3",
   "metadata": {},
   "outputs": [],
   "source": [
    "guest_domain_client = node.client\n",
    "guest_client = guest_domain_client.login(email=\"jane@caltech.edu\", password=\"abc123\")"
   ]
  },
  {
   "cell_type": "code",
   "execution_count": null,
   "id": "81c7f134",
   "metadata": {},
   "outputs": [],
   "source": [
    "ds = guest_domain_client.datasets[0]"
   ]
  },
  {
   "cell_type": "code",
   "execution_count": null,
   "id": "fa97cda8",
   "metadata": {},
   "outputs": [],
   "source": [
    "asset = ds.assets[\"complaints\"]"
   ]
  },
  {
   "cell_type": "code",
   "execution_count": null,
   "id": "b93f1fd8",
   "metadata": {},
   "outputs": [],
   "source": [
    "complaints_pointer = asset.mock"
   ]
  },
  {
   "cell_type": "markdown",
   "id": "e89ffc0e",
   "metadata": {},
   "source": [
    "### Selecting only noise complaints\n"
   ]
  },
  {
   "cell_type": "markdown",
   "id": "7bae028c",
   "metadata": {},
   "source": [
    "I'd like to know which borough has the most noise complaints. First, we'll take a look at the data to see what it looks like:"
   ]
  },
  {
   "cell_type": "code",
   "execution_count": null,
   "id": "d644bed3",
   "metadata": {},
   "outputs": [],
   "source": [
    "complaints_pointer[:5]"
   ]
  },
  {
   "cell_type": "markdown",
   "id": "9af15f08",
   "metadata": {},
   "source": [
    "To get the noise complaints, we need to find the rows where the \"Complaint Type\" column is \"Noise - Street/Sidewalk\". I'll show you how to do that, and then explain what's going on.\n",
    "\n"
   ]
  },
  {
   "cell_type": "code",
   "execution_count": null,
   "id": "430a063d",
   "metadata": {},
   "outputs": [],
   "source": [
    "noise_complaints_pointer = complaints_pointer[complaints_pointer['Complaint Type'] == \"Noise - Street/Sidewalk\"]\n",
    "noise_complaints_pointer[:3]"
   ]
  },
  {
   "cell_type": "markdown",
   "id": "e5242fab",
   "metadata": {},
   "source": [
    "If you look at noise_complaints, you'll see that this worked, and it only contains complaints with the right complaint type. But how does this work? Let's deconstruct it into two pieces"
   ]
  },
  {
   "cell_type": "code",
   "execution_count": null,
   "id": "d0a54359",
   "metadata": {},
   "outputs": [],
   "source": [
    "complaints_pointer['Complaint Type'] == \"Noise - Street/Sidewalk\""
   ]
  },
  {
   "cell_type": "markdown",
   "id": "d26a8fe3",
   "metadata": {},
   "source": [
    "This is a big array of Trues and Falses, one for each row in our dataframe. When we index our dataframe with this array, we get just the rows where our boolean array evaluated to True. It's important to note that for row filtering by a boolean array the length of our dataframe's index must be the same length as the boolean array used for filtering.\n",
    "\n",
    "You can also combine more than one condition with the & operator like this:"
   ]
  },
  {
   "cell_type": "code",
   "execution_count": null,
   "id": "f6558b8e",
   "metadata": {},
   "outputs": [],
   "source": [
    "is_noise = (complaints_pointer['Complaint Type'] == \"Noise - Street/Sidewalk\")\n",
    "in_brooklyn = complaints_pointer['Borough'] == \"BROOKLYN\"\n",
    "complaints_pointer[is_noise & in_brooklyn][:5]"
   ]
  },
  {
   "cell_type": "markdown",
   "id": "17bd67be",
   "metadata": {},
   "source": [
    "Or if we just wanted a few columns:\n",
    "\n"
   ]
  },
  {
   "cell_type": "code",
   "execution_count": null,
   "id": "715a9a30",
   "metadata": {},
   "outputs": [],
   "source": [
    "complaints_pointer[is_noise & in_brooklyn][['Complaint Type', 'Borough', 'Created Date', 'Descriptor']][:10]"
   ]
  },
  {
   "cell_type": "markdown",
   "id": "1bd114e4",
   "metadata": {},
   "source": [
    "### A digression about numpy arrays"
   ]
  },
  {
   "cell_type": "markdown",
   "id": "dad39add",
   "metadata": {},
   "source": [
    "On the inside, the type of a column is pd.Series"
   ]
  },
  {
   "cell_type": "code",
   "execution_count": null,
   "id": "4d882457",
   "metadata": {},
   "outputs": [],
   "source": [
    "import pandas as pd\n",
    "import numpy as np"
   ]
  },
  {
   "cell_type": "code",
   "execution_count": null,
   "id": "b9361f36",
   "metadata": {},
   "outputs": [],
   "source": [
    "pd.Series([1,2,3])"
   ]
  },
  {
   "cell_type": "markdown",
   "id": "7b6069dd",
   "metadata": {},
   "source": [
    "and pandas Series are internally numpy arrays. If you add .values to the end of any Series, you'll get its internal numpy array"
   ]
  },
  {
   "cell_type": "code",
   "execution_count": null,
   "id": "321ec348",
   "metadata": {},
   "outputs": [],
   "source": [
    "np.array([1,2,3])"
   ]
  },
  {
   "cell_type": "code",
   "execution_count": null,
   "id": "d01bdbff",
   "metadata": {},
   "outputs": [],
   "source": [
    "pd.Series([1,2,3]).values"
   ]
  },
  {
   "cell_type": "markdown",
   "id": "87e6106e",
   "metadata": {},
   "source": [
    "So this binary-array-selection business is actually something that works with any numpy array:"
   ]
  },
  {
   "cell_type": "code",
   "execution_count": null,
   "id": "57293d75",
   "metadata": {},
   "outputs": [],
   "source": [
    "arr = np.array([1,2,3])"
   ]
  },
  {
   "cell_type": "code",
   "execution_count": null,
   "id": "87d2cb89",
   "metadata": {},
   "outputs": [],
   "source": [
    "arr != 2"
   ]
  },
  {
   "cell_type": "code",
   "execution_count": null,
   "id": "ab6fee06",
   "metadata": {},
   "outputs": [],
   "source": [
    "arr[arr != 2]"
   ]
  },
  {
   "cell_type": "markdown",
   "id": "6747165b",
   "metadata": {},
   "source": [
    "### So, which borough has the most noise complaints?"
   ]
  },
  {
   "cell_type": "code",
   "execution_count": null,
   "id": "e944501d",
   "metadata": {},
   "outputs": [],
   "source": [
    "is_noise = complaints_pointer['Complaint Type'] == \"Noise - Street/Sidewalk\"\n",
    "noise_complaints_pointer = complaints_pointer[is_noise]\n",
    "noise_complaints_pointer['Borough'].value_counts()"
   ]
  },
  {
   "cell_type": "markdown",
   "id": "3ea5d5db",
   "metadata": {},
   "source": [
    "It's the BRONX (for this Mock)! But what if we wanted to divide by the total number of complaints, to make it make a bit more sense? That would be easy too:"
   ]
  },
  {
   "cell_type": "code",
   "execution_count": null,
   "id": "714e350b",
   "metadata": {},
   "outputs": [],
   "source": [
    "noise_complaint_counts_pointer = noise_complaints_pointer['Borough'].value_counts()\n",
    "complaint_counts_pointer = complaints_pointer['Borough'].value_counts()"
   ]
  },
  {
   "cell_type": "code",
   "execution_count": null,
   "id": "3e54521e",
   "metadata": {},
   "outputs": [],
   "source": [
    "noise_complaint_counts_pointer"
   ]
  },
  {
   "cell_type": "code",
   "execution_count": null,
   "id": "879370e5",
   "metadata": {},
   "outputs": [],
   "source": [
    "noise_complaint_counts_pointer / complaint_counts_pointer"
   ]
  },
  {
   "cell_type": "markdown",
   "id": "30bb9390",
   "metadata": {},
   "source": [
    "Oops, why was that zero? That's no good. This is because of integer division in Python 2. Let's fix it, by converting complaint_counts into an array of floats."
   ]
  },
  {
   "cell_type": "code",
   "execution_count": null,
   "id": "5ebfc29a",
   "metadata": {},
   "outputs": [],
   "source": [
    "noise_complaint_counts_pointer / complaint_counts_pointer.astype(float)"
   ]
  },
  {
   "cell_type": "code",
   "execution_count": null,
   "id": "5b9dfccd",
   "metadata": {},
   "outputs": [],
   "source": [
    "(noise_complaint_counts_pointer / complaint_counts_pointer.astype(float)).plot(kind='bar')"
   ]
  },
  {
   "cell_type": "markdown",
   "id": "de62dbf8",
   "metadata": {},
   "source": [
    "So Bronx really does complain more about noise than the other boroughs in our mock! Neat."
   ]
  },
  {
   "cell_type": "code",
   "execution_count": null,
   "id": "5f48c28f",
   "metadata": {},
   "outputs": [],
   "source": [
    "res_ptr = noise_complaint_counts_pointer / complaint_counts_pointer.astype(float)"
   ]
  },
  {
   "cell_type": "markdown",
   "id": "96bedffb",
   "metadata": {},
   "source": [
    "## Request real result"
   ]
  },
  {
   "cell_type": "markdown",
   "id": "c56fe966",
   "metadata": {},
   "source": [
    "Now that we finished our analysis on the pointers, we can request the real result."
   ]
  },
  {
   "cell_type": "code",
   "execution_count": null,
   "id": "c0023b1b",
   "metadata": {},
   "outputs": [],
   "source": [
    "res_ptr.request(guest_client)"
   ]
  },
  {
   "cell_type": "markdown",
   "id": "5c6fc67a",
   "metadata": {},
   "source": [
    "# Data owner: approve request"
   ]
  },
  {
   "cell_type": "code",
   "execution_count": null,
   "id": "057f7e3e",
   "metadata": {},
   "outputs": [],
   "source": [
    "domain_client = node.client.login(email=\"info@openmined.org\", password=\"changethis\")\n",
    "domain_client.api.services.request[0].approve()"
   ]
  },
  {
   "cell_type": "markdown",
   "id": "18f5ff54",
   "metadata": {},
   "source": [
    "# Data scientist: fetch result"
   ]
  },
  {
   "cell_type": "code",
   "execution_count": null,
   "id": "8edd0721",
   "metadata": {},
   "outputs": [],
   "source": [
    "guest_client = guest_domain_client.login(email=\"jane@caltech.edu\", password=\"abc123\")\n"
   ]
  },
  {
   "cell_type": "code",
   "execution_count": null,
   "id": "0cd60246",
   "metadata": {},
   "outputs": [],
   "source": [
    "real_result = res_ptr.get_from(guest_client)"
   ]
  },
  {
   "cell_type": "code",
   "execution_count": null,
   "id": "5a5cd163",
   "metadata": {},
   "outputs": [],
   "source": [
    "real_result[:10].plot(kind=\"bar\")"
   ]
  }
 ],
 "metadata": {
  "kernelspec": {
   "display_name": "Python 3 (ipykernel)",
   "language": "python",
   "name": "python3"
  },
  "language_info": {
   "codemirror_mode": {
    "name": "ipython",
    "version": 3
   },
   "file_extension": ".py",
   "mimetype": "text/x-python",
   "name": "python",
   "nbconvert_exporter": "python",
   "pygments_lexer": "ipython3",
   "version": "3.9.16"
  },
  "toc": {
   "base_numbering": 1,
   "nav_menu": {},
   "number_sections": true,
   "sideBar": true,
   "skip_h1_title": false,
   "title_cell": "Table of Contents",
   "title_sidebar": "Contents",
   "toc_cell": false,
   "toc_position": {
    "height": "calc(100% - 180px)",
    "left": "10px",
    "top": "150px",
    "width": "358.398px"
   },
   "toc_section_display": true,
   "toc_window_display": true
  }
 },
 "nbformat": 4,
 "nbformat_minor": 5
}
