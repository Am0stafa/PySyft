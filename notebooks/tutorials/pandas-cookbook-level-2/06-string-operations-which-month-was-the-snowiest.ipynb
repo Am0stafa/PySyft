{
 "cells": [
  {
   "cell_type": "markdown",
   "id": "10a3dbb5",
   "metadata": {},
   "source": [
    "# String Operations- Which month was the snowiest"
   ]
  },
  {
   "cell_type": "markdown",
   "id": "1109216b",
   "metadata": {},
   "source": [
    "## Install"
   ]
  },
  {
   "cell_type": "code",
   "execution_count": null,
   "id": "66c14a6b",
   "metadata": {},
   "outputs": [],
   "source": [
    "SYFT_VERSION = \">=0.8.1b0,<0.9\"\n",
    "package_string = f'\"syft{SYFT_VERSION}\"'\n",
    "# !pip install {package_string} -f https://whls.blob.core.windows.net/unstable/index.html -q"
   ]
  },
  {
   "cell_type": "code",
   "execution_count": null,
   "id": "74a3a9fb",
   "metadata": {},
   "outputs": [],
   "source": [
    "import syft as sy\n",
    "sy.requires(SYFT_VERSION)"
   ]
  },
  {
   "cell_type": "code",
   "execution_count": null,
   "id": "cbce68c1",
   "metadata": {},
   "outputs": [],
   "source": [
    "node = sy.orchestra.launch(name=\"pandas-test-domain-6\", port=\"8076\", reset=True)"
   ]
  },
  {
   "cell_type": "markdown",
   "id": "4939b6a2",
   "metadata": {},
   "source": [
    "# Data owner: upload dataset"
   ]
  },
  {
   "cell_type": "code",
   "execution_count": null,
   "id": "f6e430c8",
   "metadata": {},
   "outputs": [],
   "source": [
    "root_domain_client = node.login(email=\"info@openmined.org\", password=\"changethis\")"
   ]
  },
  {
   "cell_type": "markdown",
   "id": "da0cf39a",
   "metadata": {},
   "source": [
    "## Load data"
   ]
  },
  {
   "cell_type": "markdown",
   "id": "ddb684cf",
   "metadata": {},
   "source": [
    "By the end of this chapter, we're going to have downloaded all of Canada's weather data for 2012, and saved it to a CSV.\n",
    "\n",
    "We'll do this by downloading it one month at a time, and then combining all the months together.\n",
    "\n",
    "Here's the temperature every hour for 2012!"
   ]
  },
  {
   "cell_type": "code",
   "execution_count": null,
   "id": "29334026",
   "metadata": {},
   "outputs": [],
   "source": [
    "%matplotlib inline\n",
    "import pandas as pd\n",
    "import matplotlib.pyplot as plt\n",
    "import numpy as np\n",
    "\n",
    "plt.style.use('ggplot')\n",
    "plt.rcParams['figure.figsize'] = (15, 3)\n",
    "plt.rcParams['font.family'] = 'sans-serif'"
   ]
  },
  {
   "cell_type": "code",
   "execution_count": null,
   "id": "d5f7644a",
   "metadata": {},
   "outputs": [],
   "source": [
    "from datetime import timedelta\n",
    "import random\n",
    "from dateutil.parser import parse\n",
    "from pandas._libs.tslibs.timestamps import Timestamp\n",
    "from syft.service.project.project import Project\n",
    "from syft.util.util import autocache, PANDAS_DATA"
   ]
  },
  {
   "cell_type": "code",
   "execution_count": null,
   "id": "01ccd135",
   "metadata": {},
   "outputs": [],
   "source": [
    "weather_2012_final = pd.read_csv(autocache(f\"{PANDAS_DATA}/weather_2012.csv\"), index_col='Date/Time', parse_dates=True)\n",
    "weather_2012_final['Temp (C)'].plot(figsize=(15, 6))"
   ]
  },
  {
   "cell_type": "markdown",
   "id": "409c477e",
   "metadata": {},
   "source": [
    "## Create mock data"
   ]
  },
  {
   "cell_type": "markdown",
   "id": "2c4999d5",
   "metadata": {},
   "source": [
    "Instead, we upload our dataset per month as a starting point"
   ]
  },
  {
   "cell_type": "code",
   "execution_count": null,
   "id": "4a0fe359",
   "metadata": {},
   "outputs": [],
   "source": [
    "weather_types = set(weather_2012_final.Weather.to_list())"
   ]
  },
  {
   "cell_type": "code",
   "execution_count": null,
   "id": "7db7b9af",
   "metadata": {},
   "outputs": [],
   "source": [
    "def get_mock_date(i):\n",
    "    return str(parse('Jun 1 2010') + timedelta(days=i))\n",
    "\n",
    "def get_mock_row(i):\n",
    "    res = dict()\n",
    "    for k, function in mock_functions.items():\n",
    "        res[k] = function()\n",
    "    return res\n",
    "    "
   ]
  },
  {
   "cell_type": "code",
   "execution_count": null,
   "id": "090f5a59",
   "metadata": {},
   "outputs": [],
   "source": [
    "mock_functions = {\n",
    "    \"Temp (C)\": lambda: random.uniform(-10, 40),\n",
    "    \"Dew Point Temp (C)\": lambda: random.uniform(-10, 10),\n",
    "    \"Rel Hum (%)\": lambda: random.randint(50, 100),\n",
    "    \"Wind Spd (km/h)\": lambda: random.randint(1, 30),\n",
    "    'Visibility (km)': lambda: random.uniform(0.5, 40),\n",
    "    'Stn Press (kPa)': lambda: random.uniform(50, 100),\n",
    "    'Weather': lambda: random.choice(list(weather_types))\n",
    "}"
   ]
  },
  {
   "cell_type": "code",
   "execution_count": null,
   "id": "7a7e70a6",
   "metadata": {},
   "outputs": [],
   "source": [
    "mock = pd.DataFrame(index=[Timestamp(get_mock_date(i)) for i in range(len(weather_2012_final))],\n",
    "                    data=[get_mock_row(i) for i in range(len(weather_2012_final))],\n",
    "                    columns=weather_2012_final.columns)\n",
    "    \n"
   ]
  },
  {
   "cell_type": "markdown",
   "id": "d11fc4b8",
   "metadata": {},
   "source": [
    "Upload the data"
   ]
  },
  {
   "cell_type": "code",
   "execution_count": null,
   "id": "e370b8b3",
   "metadata": {},
   "outputs": [],
   "source": [
    "dataset = sy.Dataset(name=\"test\", asset_list=[sy.Asset(name=f\"weather\", data=weather_2012_final,\n",
    "                                                       mock=mock, mock_is_real=False)])\n",
    "root_domain_client.upload_dataset(dataset)\n"
   ]
  },
  {
   "cell_type": "code",
   "execution_count": null,
   "id": "3eb6aef9",
   "metadata": {},
   "outputs": [],
   "source": [
    "weather_2012_final.head()"
   ]
  },
  {
   "cell_type": "markdown",
   "id": "61a1069e",
   "metadata": {},
   "source": [
    "## Create user account"
   ]
  },
  {
   "cell_type": "code",
   "execution_count": null,
   "id": "2c4b055a",
   "metadata": {},
   "outputs": [],
   "source": [
    "user = root_domain_client.register(name=\"Jane Doe\", email=\"jane@caltech.edu\",\n",
    "                            password=\"abc123\", institution=\"Caltech\", website=\"https://www.caltech.edu/\")\n",
    "# todo: give user data scientist role\n",
    "guest_domain_client = node.client\n",
    "guest_client = guest_domain_client.login(email=\"jane@caltech.edu\", password=\"abc123\")"
   ]
  },
  {
   "cell_type": "markdown",
   "id": "bb8c4ab2",
   "metadata": {},
   "source": [
    "# Data scientist: create result pointers"
   ]
  },
  {
   "cell_type": "code",
   "execution_count": null,
   "id": "e0f665a0",
   "metadata": {},
   "outputs": [],
   "source": [
    "import numpy as np\n",
    "import pandas as pd"
   ]
  },
  {
   "cell_type": "markdown",
   "id": "c52d6d1c",
   "metadata": {},
   "source": [
    "## Summary\n",
    "By the end of this chapter, we're going to have downloaded all of Canada's weather data for 2012, and saved it to a CSV.\n",
    "\n",
    "We'll do this by downloading it one month at a time, and then combining all the months together."
   ]
  },
  {
   "cell_type": "markdown",
   "id": "8c63f823",
   "metadata": {},
   "source": [
    "## Get mocks"
   ]
  },
  {
   "cell_type": "code",
   "execution_count": null,
   "id": "81c7f134",
   "metadata": {},
   "outputs": [],
   "source": [
    "ds = guest_domain_client.datasets[0]"
   ]
  },
  {
   "cell_type": "code",
   "execution_count": null,
   "id": "24cac2dc",
   "metadata": {},
   "outputs": [],
   "source": [
    "asset = ds.assets[0]"
   ]
  },
  {
   "cell_type": "code",
   "execution_count": null,
   "id": "82f805be",
   "metadata": {},
   "outputs": [],
   "source": [
    "weather_2012 = asset.mock"
   ]
  },
  {
   "cell_type": "markdown",
   "id": "d9ed60db",
   "metadata": {},
   "source": [
    "## String Operations"
   ]
  },
  {
   "cell_type": "markdown",
   "id": "d6440d74",
   "metadata": {},
   "source": [
    "You'll see that the 'Weather' column has a text description of the weather that was going on each hour. We'll assume it's snowing if the text description contains \"Snow\".\n",
    "\n",
    "pandas provides vectorized string functions, to make it easy to operate on columns containing text. There are some great examples in the documentation."
   ]
  },
  {
   "cell_type": "code",
   "execution_count": null,
   "id": "f63952f4",
   "metadata": {},
   "outputs": [],
   "source": [
    "weather_description = weather_2012['Weather']\n",
    "is_snowing = weather_description.str.contains('Snow')"
   ]
  },
  {
   "cell_type": "markdown",
   "id": "1313412c",
   "metadata": {},
   "source": [
    "This gives us a binary vector, which is a bit hard to look at, so we'll plot it.\n",
    "\n"
   ]
  },
  {
   "cell_type": "code",
   "execution_count": null,
   "id": "5a27862f",
   "metadata": {},
   "outputs": [],
   "source": [
    "# Not super useful\n",
    "is_snowing[:5]"
   ]
  },
  {
   "cell_type": "code",
   "execution_count": null,
   "id": "6f690e81",
   "metadata": {},
   "outputs": [],
   "source": [
    "# More useful!\n",
    "is_snowing=is_snowing.astype(float)\n",
    "is_snowing.plot()"
   ]
  },
  {
   "cell_type": "markdown",
   "id": "2d0e179c",
   "metadata": {},
   "source": [
    "## Use resampling to find the snowiest month"
   ]
  },
  {
   "cell_type": "markdown",
   "id": "0197aff2",
   "metadata": {},
   "source": [
    "If we wanted the median temperature each month, we could use the resample() method like this:"
   ]
  },
  {
   "cell_type": "code",
   "execution_count": null,
   "id": "affc19ff",
   "metadata": {},
   "outputs": [],
   "source": [
    "weather_2012"
   ]
  },
  {
   "cell_type": "code",
   "execution_count": null,
   "id": "3eae533c",
   "metadata": {},
   "outputs": [],
   "source": [
    "from syft.serde.recursive import recursive_serde_register"
   ]
  },
  {
   "cell_type": "code",
   "execution_count": null,
   "id": "ee8c81b0",
   "metadata": {},
   "outputs": [],
   "source": [
    "weather_2012['Temp (C)'].resample('M').apply(np.median).plot(kind='bar')"
   ]
  },
  {
   "cell_type": "markdown",
   "id": "d06d0a85",
   "metadata": {},
   "source": [
    "Unsurprisingly, July and August are the warmest.\n",
    "\n",
    "So we can think of snowiness as being a bunch of 1s and 0s instead of Trues and Falses:"
   ]
  },
  {
   "cell_type": "code",
   "execution_count": null,
   "id": "6e218b44",
   "metadata": {},
   "outputs": [],
   "source": [
    "is_snowing.astype(float)[:10]"
   ]
  },
  {
   "cell_type": "markdown",
   "id": "d9622f05",
   "metadata": {},
   "source": [
    "and then use resample to find the percentage of time it was snowing each month"
   ]
  },
  {
   "cell_type": "code",
   "execution_count": null,
   "id": "6cea5641",
   "metadata": {},
   "outputs": [],
   "source": [
    "is_snowing.astype(float).resample('M').apply(np.mean).plot(kind='bar')"
   ]
  },
  {
   "cell_type": "markdown",
   "id": "5c3cab97",
   "metadata": {},
   "source": [
    "So now we know! In 2012, December was the snowiest month. Also, this graph suggests something that I feel -- it starts snowing pretty abruptly in November, and then tapers off slowly and takes a long time to stop, with the last snow usually being in April or May.\n"
   ]
  },
  {
   "cell_type": "markdown",
   "id": "186735a4",
   "metadata": {},
   "source": [
    "## Plotting temperature and snowiness stats together"
   ]
  },
  {
   "cell_type": "markdown",
   "id": "5d00696d",
   "metadata": {},
   "source": [
    "We can also combine these two statistics (temperature, and snowiness) into one dataframe and plot them together:\n",
    "\n"
   ]
  },
  {
   "cell_type": "code",
   "execution_count": null,
   "id": "e122cc2a",
   "metadata": {},
   "outputs": [],
   "source": [
    "temperature = weather_2012['Temp (C)'].resample('M').apply(np.median)\n",
    "is_snowing = weather_2012['Weather'].str.contains('Snow')\n",
    "snowiness = is_snowing.astype(float).resample('M').apply(np.mean)\n",
    "\n",
    "# Name the columns\n",
    "temperature.name = \"Temperature\"\n",
    "snowiness.name = \"Snowiness\""
   ]
  },
  {
   "cell_type": "markdown",
   "id": "37c17710",
   "metadata": {},
   "source": [
    "We'll use `concat` again to combine the two statistics into a single dataframe."
   ]
  },
  {
   "cell_type": "code",
   "execution_count": null,
   "id": "31934d88",
   "metadata": {},
   "outputs": [],
   "source": [
    "stats = guest_client.api.lib.pandas.concat([temperature, snowiness], axis=1)"
   ]
  },
  {
   "cell_type": "code",
   "execution_count": null,
   "id": "d768a3e7",
   "metadata": {},
   "outputs": [],
   "source": [
    "stats.columns = [\"temperature\", \"snowiness\"]"
   ]
  },
  {
   "cell_type": "markdown",
   "id": "3ad300a3",
   "metadata": {},
   "source": [
    "## Requesting the real result"
   ]
  },
  {
   "cell_type": "code",
   "execution_count": null,
   "id": "432c93f0",
   "metadata": {},
   "outputs": [],
   "source": [
    "stats.request(guest_client)\n",
    "temperature.request(guest_client)\n",
    "snowiness.request(guest_client)"
   ]
  },
  {
   "cell_type": "markdown",
   "id": "e326cffc",
   "metadata": {},
   "source": [
    "# Data owner: approving the request"
   ]
  },
  {
   "cell_type": "code",
   "execution_count": null,
   "id": "28f77679",
   "metadata": {},
   "outputs": [],
   "source": [
    "root_domain_client = node.login(email=\"info@openmined.org\", password=\"changethis\")"
   ]
  },
  {
   "cell_type": "code",
   "execution_count": null,
   "id": "3e52d2fc",
   "metadata": {},
   "outputs": [],
   "source": [
    "for r in root_domain_client.api.services.request.get_all()[-3:]:\n",
    "    r.approve()"
   ]
  },
  {
   "cell_type": "markdown",
   "id": "559d2b41",
   "metadata": {},
   "source": [
    "# Data scientist: fetch result"
   ]
  },
  {
   "cell_type": "code",
   "execution_count": null,
   "id": "260960a1",
   "metadata": {},
   "outputs": [],
   "source": [
    "guest_client = guest_domain_client.login(email=\"jane@caltech.edu\", password=\"abc123\")\n",
    "\n",
    "real_stats = stats.get_from(guest_client)\n",
    "real_temp = temperature.get_from(guest_client)\n",
    "real_snow = snowiness.get_from(guest_client)\n"
   ]
  },
  {
   "cell_type": "code",
   "execution_count": null,
   "id": "4fa01c35",
   "metadata": {},
   "outputs": [],
   "source": [
    "real_stats.plot(kind=\"bar\")"
   ]
  },
  {
   "cell_type": "code",
   "execution_count": null,
   "id": "4a48b812",
   "metadata": {},
   "outputs": [],
   "source": [
    "real_temp.plot(kind=\"bar\")"
   ]
  },
  {
   "cell_type": "code",
   "execution_count": null,
   "id": "8d9a2a7a",
   "metadata": {},
   "outputs": [],
   "source": [
    "real_snow.plot(kind=\"bar\")"
   ]
  },
  {
   "cell_type": "code",
   "execution_count": null,
   "id": "38c23358",
   "metadata": {},
   "outputs": [],
   "source": [
    "node.land()"
   ]
  }
 ],
 "metadata": {
  "kernelspec": {
   "display_name": "Python 3 (ipykernel)",
   "language": "python",
   "name": "python3"
  },
  "language_info": {
   "codemirror_mode": {
    "name": "ipython",
    "version": 3
   },
   "file_extension": ".py",
   "mimetype": "text/x-python",
   "name": "python",
   "nbconvert_exporter": "python",
   "pygments_lexer": "ipython3",
   "version": "3.9.16"
  },
  "toc": {
   "base_numbering": 1,
   "nav_menu": {},
   "number_sections": true,
   "sideBar": true,
   "skip_h1_title": false,
   "title_cell": "Table of Contents",
   "title_sidebar": "Contents",
   "toc_cell": false,
   "toc_position": {},
   "toc_section_display": true,
   "toc_window_display": true
  }
 },
 "nbformat": 4,
 "nbformat_minor": 5
}
