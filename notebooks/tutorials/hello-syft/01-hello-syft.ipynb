{
 "cells": [
  {
   "cell_type": "markdown",
   "id": "70b1c564",
   "metadata": {},
   "source": [
    "# Overview"
   ]
  },
  {
   "cell_type": "markdown",
   "id": "735b5de9",
   "metadata": {},
   "source": [
    "In the remote data science landscape, the data science and machine learning tasks are collaborated between two main actors\n",
    "\n",
    "- Data Owner\n",
    "- Data Scientist\n",
    "\n",
    "The network that facilitates this collaboration is called **Domain Server** or **Domain Node**.\n",
    "\n",
    "As the name suggests, a **Data Owner** owns the data that will be used for remote data science. They make their datasets available for study in a secured and protected way to an outside party they may or may not fully trust to have good intentions. This outside party is usually a data scientist.\n",
    "\n",
    "**Data Scientists** are end users who desire to perform computations or answer a specific question using one or more data owners' secured datasets with remote execution.\n",
    "\n",
    "Enabling external data scientists to extract meaningful value from the data, allows access to more data which otherwise is kept private, limiting scientific advancement, reproducibility of studies and transparency for various social issues.\n",
    "\n",
    "By the end of this tuturial, \n",
    "- **you will be able to run the complete workflow of a remote data science pipeline in a small scale**."
   ]
  },
  {
   "cell_type": "markdown",
   "id": "fab13e7a-028f-4c84-9f4f-bd16bce1fe98",
   "metadata": {
    "tags": []
   },
   "source": [
    "# Hello Syft"
   ]
  },
  {
   "cell_type": "markdown",
   "id": "4c835e80",
   "metadata": {},
   "source": [
    "PySyft is a python library containing a set of data serialization and remote code execution APIs which mimic existing popular Data Science tools while working interchangeably with existing popular data types. It enables data scientists query for their data related questions on sensitive or proprietary data in a secure and privacy-preserving way. The python package for PySyft is called `syft`. "
   ]
  },
  {
   "cell_type": "markdown",
   "id": "20dcee5e",
   "metadata": {},
   "source": [
    "### Let's consider the following scenario:\n",
    "\n",
    "Imagine that you are a data scientist who is conducting a study on the average age of patients across different countries when they were diagnosed with breast cancer for the first time. For your study, you are looking for hospital data to analyse. After careful research, you have selected one regional cancer hospital in the USA, one in the UK and one in India. \n",
    "\n",
    "Now, you just need to get a hold of the cancer patient data from these hospitals and query their average age! \n",
    "\n",
    "But wait! These data are highly sensitive and private to the respective hospitals. There is a high possibility that those hospitals are not willing to share their data with external data scientists like yourself. \n",
    "\n",
    "This is where `syft` comes to the rescue.\n",
    "\n",
    "In the world of `syft`, data scientists and data owners are able to work collaboratively to carry forward this study in a safe, secured way by complying with the individual data privacy policies of the respective hospitals. "
   ]
  },
  {
   "cell_type": "markdown",
   "id": "283a372d",
   "metadata": {},
   "source": [
    "Welcome to the world of **Syft**!"
   ]
  },
  {
   "cell_type": "markdown",
   "id": "63033687",
   "metadata": {},
   "source": [
    "### The Workflow"
   ]
  },
  {
   "cell_type": "markdown",
   "id": "2466f8b2",
   "metadata": {},
   "source": [
    "The process kicks-off on the Data Owner's end by deploying **two** completely separate servers. These servers are reffered to as `high-side domain` and `low-side domain`. \n",
    "\n",
    "- **High-side domain** contains the original data which holds private and sensitive information\n",
    "- **Low-side domain** contains a mock or synthetically generated version of the original data, which is identical in data schema, data types, data structure and data distribution etc., except the values are fake or made-up\n",
    "\n",
    "The **high-side domain** is within the firewall and holds private data. Only data owner employees have access to this server (such as the **Data Manager**). The **low-side domain** on the other hand is outside the firewall and holds the mock/synthetic data. This server can be accessed by select external parties like a data scientist (via firewall/vpn access) but it only contains mock/synthetic information. \n",
    "\n",
    "For the sake of simplicity, in this tutorial we will use **Data Owner** and **Data Manager** interchangeably.\n",
    "\n",
    "![caption](https://github.com/znreza/PySyft/blob/znreza/trial_1/notebooks/low-side-high-side.png?raw=true)\n",
    "\n",
    "The data owner or data manager creates an account for the external data scientist to give access to the mock data. \n",
    "\n",
    "The data scientist then gets into the **low-side domain** using their account, takes a look at the mock data and analyse it like any other normal dataset, designs their research questions accordingly and finally submits a **code request** to the data manager. The **code request** contains information including the entire code (as a `syft` function) and the pointer to the mock data that was used for writing the code. \n",
    "\n",
    "The data manager receives the code request on their end, and reviews it to make sure that the code is not adversarial in any way. If everything looks good, they accept the request and run the same code on the `true` data on the **high-side domain**, add a certain amount of **noise** to the result and finally share the **noisy or masked result** with the data scientist as their answer for the study."
   ]
  },
  {
   "cell_type": "markdown",
   "id": "9efb85c2",
   "metadata": {},
   "source": [
    "In this first tutorial, we will cover this workflow in the following order,\n",
    "\n",
    "- Data Owner workflow\n",
    "    - upload mock data to low-side domain\n",
    "    - create data scientist account\n",
    "- Data Scientist Workflow\n",
    "    - write query against mock data\n",
    "    - submit code for review on the data owner side\n",
    "- Data Owner workflow\n",
    "    - review code and approve"
   ]
  },
  {
   "cell_type": "markdown",
   "id": "837f1a95",
   "metadata": {},
   "source": [
    "# The Code"
   ]
  },
  {
   "cell_type": "markdown",
   "id": "0e19c989",
   "metadata": {},
   "source": [
    "### Install `syft`"
   ]
  },
  {
   "cell_type": "code",
   "execution_count": null,
   "id": "b3bbffe1-b5f5-43f4-8231-87c4007c7822",
   "metadata": {
    "scrolled": true,
    "tags": []
   },
   "outputs": [],
   "source": [
    "SYFT_VERSION = \">=0.8.1b0,<0.9\"\n",
    "package_string = f'\"syft{SYFT_VERSION}\"'\n",
    "# %pip install {package_string} -f https://whls.blob.core.windows.net/unstable/index.html"
   ]
  },
  {
   "cell_type": "code",
   "execution_count": 2,
   "id": "a6a7723a-295f-43f6-a5cc-717119f21b9b",
   "metadata": {
    "tags": []
   },
   "outputs": [
    {
     "name": "stderr",
     "output_type": "stream",
     "text": [
      "kj/filesystem-disk-unix.c++:1703: warning: PWD environment variable doesn't match current directory; pwd = /home/zarreen\n"
     ]
    },
    {
     "name": "stdout",
     "output_type": "stream",
     "text": [
      "✅ The installed version of syft==0.8.1b6 matches the requirement >=0.8.1b0 and the requirement <0.9\n"
     ]
    }
   ],
   "source": [
    "import syft as sy\n",
    "sy.requires(SYFT_VERSION)"
   ]
  },
  {
   "cell_type": "markdown",
   "id": "a346b2b6",
   "metadata": {},
   "source": [
    "### Access to Domain Servers\n",
    "\n",
    "In this tutorial, for the sake of demonstration, we will be using in-memory workers as dummy servers. For details of deploying a server on your own using `syft` and `hagrid`, please refer to the `quickstart` tutorials."
   ]
  },
  {
   "cell_type": "markdown",
   "id": "88e2cee2",
   "metadata": {},
   "source": [
    "Let's run the workflow for the Data Owner of the regional hospital in the USA."
   ]
  },
  {
   "cell_type": "code",
   "execution_count": 3,
   "id": "73b19037",
   "metadata": {},
   "outputs": [
    {
     "name": "stdout",
     "output_type": "stream",
     "text": [
      "Starting hello-syft-usa-server server on 0.0.0.0:9082\n",
      "SQLite Store Path:\n",
      "!open file:///tmp/0cdb61a5b8d248d69eceaa067523492c.sqlite\n",
      "\n",
      "Waiting for server to start. Done.\n"
     ]
    }
   ],
   "source": [
    "node = sy.orchestra.launch(name=\"hello-syft-usa-server\", port=9082, reset=True)"
   ]
  },
  {
   "cell_type": "markdown",
   "id": "51345a05",
   "metadata": {},
   "source": [
    "### Data owner: Upload data to Low-side Domain\n",
    "\n",
    "The data owner has the following original data of 5 five cancer patients in their hospital."
   ]
  },
  {
   "cell_type": "code",
   "execution_count": 4,
   "id": "d538fd9e",
   "metadata": {},
   "outputs": [],
   "source": [
    "import pandas as pd"
   ]
  },
  {
   "cell_type": "code",
   "execution_count": 5,
   "id": "f18f55aa",
   "metadata": {},
   "outputs": [
    {
     "data": {
      "text/html": [
       "<div>\n",
       "<style scoped>\n",
       "    .dataframe tbody tr th:only-of-type {\n",
       "        vertical-align: middle;\n",
       "    }\n",
       "\n",
       "    .dataframe tbody tr th {\n",
       "        vertical-align: top;\n",
       "    }\n",
       "\n",
       "    .dataframe thead th {\n",
       "        text-align: right;\n",
       "    }\n",
       "</style>\n",
       "<table border=\"1\" class=\"dataframe\">\n",
       "  <thead>\n",
       "    <tr style=\"text-align: right;\">\n",
       "      <th></th>\n",
       "      <th>Patient_ID</th>\n",
       "      <th>Age</th>\n",
       "    </tr>\n",
       "  </thead>\n",
       "  <tbody>\n",
       "    <tr>\n",
       "      <th>0</th>\n",
       "      <td>011</td>\n",
       "      <td>40</td>\n",
       "    </tr>\n",
       "    <tr>\n",
       "      <th>1</th>\n",
       "      <td>015</td>\n",
       "      <td>39</td>\n",
       "    </tr>\n",
       "    <tr>\n",
       "      <th>2</th>\n",
       "      <td>022</td>\n",
       "      <td>35</td>\n",
       "    </tr>\n",
       "    <tr>\n",
       "      <th>3</th>\n",
       "      <td>034</td>\n",
       "      <td>60</td>\n",
       "    </tr>\n",
       "    <tr>\n",
       "      <th>4</th>\n",
       "      <td>044</td>\n",
       "      <td>25</td>\n",
       "    </tr>\n",
       "  </tbody>\n",
       "</table>\n",
       "</div>"
      ],
      "text/plain": [
       "  Patient_ID  Age\n",
       "0        011   40\n",
       "1        015   39\n",
       "2        022   35\n",
       "3        034   60\n",
       "4        044   25"
      ]
     },
     "execution_count": 5,
     "metadata": {},
     "output_type": "execute_result"
    }
   ],
   "source": [
    "usa_data = {'Patient_ID': ['011', '015', '022', '034', '044'],\n",
    "     'Age': [40, 39, 35, 60, 25]\n",
    "      }\n",
    "\n",
    "usa_df = pd.DataFrame(usa_data)\n",
    "usa_df"
   ]
  },
  {
   "cell_type": "markdown",
   "id": "8f3c9bc3",
   "metadata": {},
   "source": [
    "Now based on the original data, the data owner will generate a synthetic or fake version of this dataset. They can add any amount of noise to the fake values. Let's say in this fake version, they are adding `+10` to each of the ages."
   ]
  },
  {
   "cell_type": "code",
   "execution_count": 6,
   "id": "1b53082f",
   "metadata": {},
   "outputs": [
    {
     "data": {
      "text/html": [
       "<div>\n",
       "<style scoped>\n",
       "    .dataframe tbody tr th:only-of-type {\n",
       "        vertical-align: middle;\n",
       "    }\n",
       "\n",
       "    .dataframe tbody tr th {\n",
       "        vertical-align: top;\n",
       "    }\n",
       "\n",
       "    .dataframe thead th {\n",
       "        text-align: right;\n",
       "    }\n",
       "</style>\n",
       "<table border=\"1\" class=\"dataframe\">\n",
       "  <thead>\n",
       "    <tr style=\"text-align: right;\">\n",
       "      <th></th>\n",
       "      <th>Patient_ID</th>\n",
       "      <th>Age</th>\n",
       "    </tr>\n",
       "  </thead>\n",
       "  <tbody>\n",
       "    <tr>\n",
       "      <th>0</th>\n",
       "      <td>1</td>\n",
       "      <td>50</td>\n",
       "    </tr>\n",
       "    <tr>\n",
       "      <th>1</th>\n",
       "      <td>2</td>\n",
       "      <td>49</td>\n",
       "    </tr>\n",
       "    <tr>\n",
       "      <th>2</th>\n",
       "      <td>3</td>\n",
       "      <td>45</td>\n",
       "    </tr>\n",
       "    <tr>\n",
       "      <th>3</th>\n",
       "      <td>4</td>\n",
       "      <td>70</td>\n",
       "    </tr>\n",
       "    <tr>\n",
       "      <th>4</th>\n",
       "      <td>5</td>\n",
       "      <td>35</td>\n",
       "    </tr>\n",
       "  </tbody>\n",
       "</table>\n",
       "</div>"
      ],
      "text/plain": [
       "  Patient_ID  Age\n",
       "0          1   50\n",
       "1          2   49\n",
       "2          3   45\n",
       "3          4   70\n",
       "4          5   35"
      ]
     },
     "execution_count": 6,
     "metadata": {},
     "output_type": "execute_result"
    }
   ],
   "source": [
    "usa_mock_data = {'Patient_ID': ['1', '2', '3', '4', '5'],\n",
    "     'Age': [50, 49, 45, 70, 35]\n",
    "      }\n",
    "\n",
    "usa_mock_df = pd.DataFrame(usa_mock_data)\n",
    "usa_mock_df"
   ]
  },
  {
   "cell_type": "markdown",
   "id": "696ac654",
   "metadata": {},
   "source": [
    "Now the data owner will upload this mock data to the low-side domain."
   ]
  },
  {
   "cell_type": "code",
   "execution_count": 7,
   "id": "6a998ae4",
   "metadata": {},
   "outputs": [],
   "source": [
    "root_domain_client = node.login(email=\"info@openmined.org\", password=\"changethis\")"
   ]
  },
  {
   "cell_type": "code",
   "execution_count": 8,
   "id": "82a51393",
   "metadata": {},
   "outputs": [
    {
     "name": "stderr",
     "output_type": "stream",
     "text": [
      "100%|█████████████████████████████████| 1/1 [00:00<00:00,  6.77it/s]\n"
     ]
    },
    {
     "name": "stdout",
     "output_type": "stream",
     "text": [
      "Uploading: ages\n"
     ]
    },
    {
     "data": {
      "text/html": [
       "<div class=\"alert-success\" style=\"padding:5px;\"><strong>SyftSuccess</strong>: Dataset Added</div><br />"
      ],
      "text/plain": [
       "<class 'syft.service.response.SyftSuccess'>: Dataset Added"
      ]
     },
     "execution_count": 8,
     "metadata": {},
     "output_type": "execute_result"
    }
   ],
   "source": [
    "dataset = sy.Dataset(name=\"usa-mock-data\",\n",
    "                     asset_list=[sy.Asset(name=\"ages\", data=usa_df, mock=usa_mock_df, mock_is_real=False)])\n",
    "root_domain_client.upload_dataset(dataset)"
   ]
  },
  {
   "cell_type": "markdown",
   "id": "70d49cac",
   "metadata": {},
   "source": [
    "### Data Owner: Create Account for Data Scientist"
   ]
  },
  {
   "cell_type": "code",
   "execution_count": 9,
   "id": "7b4fe4b1",
   "metadata": {},
   "outputs": [
    {
     "data": {
      "text/html": [
       "<div class=\"alert-success\" style=\"padding:5px;\"><strong>SyftSuccess</strong>: User successfully registered!</div><br />"
      ],
      "text/plain": [
       "<class 'syft.service.response.SyftSuccess'>: User successfully registered!"
      ]
     },
     "execution_count": 9,
     "metadata": {},
     "output_type": "execute_result"
    }
   ],
   "source": [
    "root_domain_client.register(name=\"Jane Doe\", email=\"janedoe@caltech.edu\",\n",
    "                            password=\"abc123\", institution=\"Caltech\", website=\"https://www.caltech.edu/\")"
   ]
  },
  {
   "cell_type": "markdown",
   "id": "4d693670",
   "metadata": {},
   "source": [
    "### Data Scientist: Login to Low-side Domain"
   ]
  },
  {
   "cell_type": "code",
   "execution_count": 10,
   "id": "a7fe04f7",
   "metadata": {},
   "outputs": [
    {
     "name": "stdout",
     "output_type": "stream",
     "text": [
      "Logged into hello-syft-usa-server as <janedoe@caltech.edu>\n"
     ]
    },
    {
     "name": "stderr",
     "output_type": "stream",
     "text": [
      "/home/zarreen/ziwi_env/lib/python3.10/site-packages/IPython/core/formatters.py:367: FormatterWarning: text/html formatter returned invalid type <class 'type'> (expected <class 'str'>) for object: <SyftClient - hello-syft-usa-server <0cdb61a5b8d248d69eceaa067523492c>: HTTPConnection: http://0.0.0.0:9082>\n",
      "  warnings.warn(\n"
     ]
    },
    {
     "data": {
      "text/plain": [
       "<SyftClient - hello-syft-usa-server <0cdb61a5b8d248d69eceaa067523492c>: HTTPConnection: http://0.0.0.0:9082>"
      ]
     },
     "execution_count": 10,
     "metadata": {},
     "output_type": "execute_result"
    }
   ],
   "source": [
    "external_ds = sy.login(url='0.0.0.0:9082', email=\"janedoe@caltech.edu\", password=\"abc123\")\n",
    "external_ds"
   ]
  },
  {
   "cell_type": "markdown",
   "id": "39e8cf23",
   "metadata": {},
   "source": [
    "#### Load Mock Data"
   ]
  },
  {
   "cell_type": "code",
   "execution_count": 11,
   "id": "85fc039b",
   "metadata": {},
   "outputs": [
    {
     "data": {
      "text/html": [
       "List - Size: 1\n",
       "<div>\n",
       "<style scoped>\n",
       "    .dataframe tbody tr th:only-of-type {\n",
       "        vertical-align: middle;\n",
       "    }\n",
       "\n",
       "    .dataframe tbody tr th {\n",
       "        vertical-align: top;\n",
       "    }\n",
       "\n",
       "    .dataframe thead th {\n",
       "        text-align: right;\n",
       "    }\n",
       "</style>\n",
       "<table border=\"1\" class=\"dataframe\">\n",
       "  <thead>\n",
       "    <tr style=\"text-align: right;\">\n",
       "      <th></th>\n",
       "      <th>type</th>\n",
       "      <th>id</th>\n",
       "      <th>name</th>\n",
       "      <th>url</th>\n",
       "    </tr>\n",
       "  </thead>\n",
       "  <tbody>\n",
       "    <tr>\n",
       "      <th>0</th>\n",
       "      <td>syft.service.dataset.dataset.Dataset</td>\n",
       "      <td>e0ca1acf1274425caeefe758d0c786f3</td>\n",
       "      <td>usa-mock-data</td>\n",
       "      <td>None</td>\n",
       "    </tr>\n",
       "  </tbody>\n",
       "</table>\n",
       "</div>"
      ],
      "text/plain": [
       "<syft.client.api.APIModule at 0x7f1b0ab5e4d0>"
      ]
     },
     "execution_count": 11,
     "metadata": {},
     "output_type": "execute_result"
    }
   ],
   "source": [
    "external_ds.datasets"
   ]
  },
  {
   "cell_type": "code",
   "execution_count": 12,
   "id": "bfe6779f",
   "metadata": {},
   "outputs": [
    {
     "data": {
      "text/markdown": [
       "```python\n",
       "Syft Dataset: usa-mock-data\n",
       "Assets:\n",
       "\tages: None\n",
       "\n",
       "```"
      ],
      "text/plain": [
       "syft.service.dataset.dataset.Dataset"
      ]
     },
     "execution_count": 12,
     "metadata": {},
     "output_type": "execute_result"
    }
   ],
   "source": [
    "dataset = external_ds.datasets[-1]\n",
    "dataset"
   ]
  },
  {
   "cell_type": "code",
   "execution_count": 13,
   "id": "aeabbddd",
   "metadata": {},
   "outputs": [
    {
     "data": {
      "text/markdown": [
       "```python\n",
       "Asset: ages\n",
       "Pointer Id: 87362d493e704fd5bc9f8df8506a1dd9\n",
       "Description: None\n",
       "Total Data Subjects: 0\n",
       "Shape: (5, 2)\n",
       "Contributors: 0\n",
       "\n",
       "```"
      ],
      "text/plain": [
       "syft.service.dataset.dataset.Asset"
      ]
     },
     "execution_count": 13,
     "metadata": {},
     "output_type": "execute_result"
    }
   ],
   "source": [
    "asset = dataset.assets[\"ages\"]\n",
    "asset"
   ]
  },
  {
   "cell_type": "code",
   "execution_count": 14,
   "id": "0adaa8c7",
   "metadata": {},
   "outputs": [
    {
     "data": {
      "text/html": [
       "<div>\n",
       "<style scoped>\n",
       "    .dataframe tbody tr th:only-of-type {\n",
       "        vertical-align: middle;\n",
       "    }\n",
       "\n",
       "    .dataframe tbody tr th {\n",
       "        vertical-align: top;\n",
       "    }\n",
       "\n",
       "    .dataframe thead th {\n",
       "        text-align: right;\n",
       "    }\n",
       "</style>\n",
       "<table border=\"1\" class=\"dataframe\">\n",
       "  <thead>\n",
       "    <tr style=\"text-align: right;\">\n",
       "      <th></th>\n",
       "      <th>Patient_ID</th>\n",
       "      <th>Age</th>\n",
       "    </tr>\n",
       "  </thead>\n",
       "  <tbody>\n",
       "    <tr>\n",
       "      <th>0</th>\n",
       "      <td>1</td>\n",
       "      <td>50</td>\n",
       "    </tr>\n",
       "    <tr>\n",
       "      <th>1</th>\n",
       "      <td>2</td>\n",
       "      <td>49</td>\n",
       "    </tr>\n",
       "    <tr>\n",
       "      <th>2</th>\n",
       "      <td>3</td>\n",
       "      <td>45</td>\n",
       "    </tr>\n",
       "    <tr>\n",
       "      <th>3</th>\n",
       "      <td>4</td>\n",
       "      <td>70</td>\n",
       "    </tr>\n",
       "    <tr>\n",
       "      <th>4</th>\n",
       "      <td>5</td>\n",
       "      <td>35</td>\n",
       "    </tr>\n",
       "  </tbody>\n",
       "</table>\n",
       "</div>"
      ],
      "text/markdown": [
       "```python\n",
       "TwinPointer(Mock)\n",
       "```\n",
       "  Patient_ID  Age\n",
       "0          1   50\n",
       "1          2   49\n",
       "2          3   45\n",
       "3          4   70\n",
       "4          5   35"
      ],
      "text/plain": [
       "TwinPointer(Mock):\n",
       "  Patient_ID  Age\n",
       "0          1   50\n",
       "1          2   49\n",
       "2          3   45\n",
       "3          4   70\n",
       "4          5   35"
      ]
     },
     "execution_count": 14,
     "metadata": {},
     "output_type": "execute_result"
    }
   ],
   "source": [
    "mock_df = asset.mock\n",
    "mock_df"
   ]
  },
  {
   "cell_type": "markdown",
   "id": "d9cfc789",
   "metadata": {},
   "source": [
    "### Data Scientist: Write Query on Mock Data"
   ]
  },
  {
   "cell_type": "code",
   "execution_count": 15,
   "id": "c022cb60",
   "metadata": {},
   "outputs": [],
   "source": [
    "import matplotlib.pyplot as plt"
   ]
  },
  {
   "cell_type": "code",
   "execution_count": 16,
   "id": "4d8c50b3",
   "metadata": {
    "scrolled": true
   },
   "outputs": [
    {
     "data": {
      "image/png": "[encoded data removed]",
      "text/plain": [
       "<Figure size 640x480 with 1 Axes>"
      ]
     },
     "metadata": {},
     "output_type": "display_data"
    }
   ],
   "source": [
    "mock_df['Age'].plot(kind=\"bar\")\n",
    "plt.xlabel(\"Patient ID\")\n",
    "plt.ylabel(\"Ages\")\n",
    "plt.title(\"Mock Ages of Cancer Patients in a Regional USA Hospital\")\n",
    "plt.show()"
   ]
  },
  {
   "cell_type": "code",
   "execution_count": 17,
   "id": "6b6e3989",
   "metadata": {},
   "outputs": [
    {
     "name": "stdout",
     "output_type": "stream",
     "text": [
      "49.8\n"
     ]
    }
   ],
   "source": [
    "age_sum = mock_df['Age'].mean()\n",
    "print(age_sum)"
   ]
  },
  {
   "cell_type": "code",
   "execution_count": 18,
   "id": "84b51292",
   "metadata": {},
   "outputs": [],
   "source": [
    "@sy.syft_function(input_policy=sy.ExactMatch(df=asset.mock),\n",
    "                  output_policy=sy.SingleExecutionExactOutput())\n",
    "def get_mean_age(df):\n",
    "    return df['Age'].mean()"
   ]
  },
  {
   "cell_type": "markdown",
   "id": "f17ffb4a",
   "metadata": {},
   "source": [
    "### Data Scientist: Submit Code Request for Review"
   ]
  },
  {
   "cell_type": "code",
   "execution_count": 19,
   "id": "b1ef4ebd",
   "metadata": {},
   "outputs": [
    {
     "data": {
      "text/markdown": [
       "```python\n",
       "class Request:\n",
       "  id: str = 56c24f33ed4844bbb468b88c548c43ca\n",
       "  requesting_user_verify_key: str = 7584ccdd162853f0fe1e7a2069b282cabd2d3139a9701896ffa0a37807b0643f\n",
       "  approving_user_verify_key: str = None\n",
       "  request_time: str = 2023-06-08 07:28:15\n",
       "  approval_time: str = None\n",
       "  status: str = RequestStatus.PENDING\n",
       "  node_uid: str = 0cdb61a5b8d248d69eceaa067523492c\n",
       "  request_hash: str = \"954033f4c674cb8b982cfce33629a652c396a10b68fa9046b554ee72e2b7f3ed\"\n",
       "  changes: str = [syft.service.request.request.UserCodeStatusChange]\n",
       "\n",
       "```"
      ],
      "text/plain": [
       "syft.service.request.request.Request"
      ]
     },
     "execution_count": 19,
     "metadata": {},
     "output_type": "execute_result"
    }
   ],
   "source": [
    "req = external_ds.code.request_code_execution(get_mean_age)\n",
    "req"
   ]
  },
  {
   "cell_type": "code",
   "execution_count": 20,
   "id": "72941e9c",
   "metadata": {},
   "outputs": [],
   "source": [
    "submitted_code = external_ds.code[0]\n",
    "# submitted_code"
   ]
  },
  {
   "cell_type": "code",
   "execution_count": 21,
   "id": "a69f9c01",
   "metadata": {},
   "outputs": [],
   "source": [
    "assert external_ds.code.get_all()"
   ]
  },
  {
   "cell_type": "markdown",
   "id": "3abf8186",
   "metadata": {},
   "source": [
    "#### Create and submit project\n",
    "In order to submit the code, the data scientist needs to create a project first."
   ]
  },
  {
   "cell_type": "code",
   "execution_count": 22,
   "id": "65d330e7",
   "metadata": {},
   "outputs": [
    {
     "data": {
      "text/markdown": [
       "```python\n",
       "class ProjectSubmit:\n",
       "  id: str = None\n",
       "  name: str = \"My data science code on USA cancer mock data\"\n",
       "  description: str = \"Hi, I would like to know the average age of cancer patients in your data.\"\n",
       "  shareholders: str = [<🔑 aec42e3e @ 🟢 0cdb61a5>]\n",
       "  project_permissions: str = set()\n",
       "  state_sync_leader: str = None\n",
       "  consensus_model: str = <syft.service.project.project.DemocraticConsensusModel object at 0x7f1b084670a0>\n",
       "  leader_node_route: str = syft.service.network.routes.HTTPNodeRoute\n",
       "  user_email_address: str = \"janedoe@caltech.edu\"\n",
       "  users: str = [<🔑 7584ccdd @ 🟢 0cdb61a5>]\n",
       "\n",
       "```"
      ],
      "text/plain": [
       "syft.service.project.project.ProjectSubmit"
      ]
     },
     "execution_count": 22,
     "metadata": {},
     "output_type": "execute_result"
    }
   ],
   "source": [
    "project_create = sy.Project(\n",
    "    name=\"My data science code on USA cancer mock data\",\n",
    "    description=\"Hi, I would like to know the average age of cancer patients in your data.\",\n",
    "    shareholders=[external_ds],\n",
    "    user_email_address = \"janedoe@caltech.edu\",\n",
    "    users = [external_ds]\n",
    ")\n",
    "project_create"
   ]
  },
  {
   "cell_type": "code",
   "execution_count": 23,
   "id": "497bd6b7",
   "metadata": {},
   "outputs": [],
   "source": [
    "projects = project_create.start()\n",
    "assert len(projects) == 1"
   ]
  },
  {
   "cell_type": "code",
   "execution_count": 24,
   "id": "6d23f4dc",
   "metadata": {
    "scrolled": false
   },
   "outputs": [
    {
     "data": {
      "text/markdown": [
       "```python\n",
       "class Project:\n",
       "  id: str = 756d65fc51be4a729bcac9525ab34275\n",
       "  name: str = \"My data science code on USA cancer mock data\"\n",
       "  description: str = \"Hi, I would like to know the average age of cancer patients in your data.\"\n",
       "  shareholders: str = [<🔑 aec42e3e @ 🟢 0cdb61a5>]\n",
       "  project_permissions: str = {'OWNER_aec42e3ed0374103099bec56820ddddc76b633d9e268c927cdc20a20c39d0d68'}\n",
       "  state_sync_leader: str = <🔑 aec42e3e @ 🟢 0cdb61a5>\n",
       "  leader_node_peer: str = syft.service.network.node_peer.NodePeer\n",
       "  consensus_model: str = <syft.service.project.project.DemocraticConsensusModel object at 0x7f1b08547580>\n",
       "  store: str = {}\n",
       "  permissions: str = {}\n",
       "  events: str = []\n",
       "  event_id_hashmap: str = {}\n",
       "  start_hash: str = \"df22072494703ee44178a559a8f803eed7a03714636d3344659065f153421e9d\"\n",
       "  user_signing_key: str = 2c12e7c54ec0949963865a4b22392f1f17059611fd740002564dd45348652d57\n",
       "  user_email_address: str = \"janedoe@caltech.edu\"\n",
       "  users: str = [<🔑 7584ccdd @ 🟢 0cdb61a5>]\n",
       "\n",
       "```"
      ],
      "text/plain": [
       "syft.service.project.project.Project"
      ]
     },
     "execution_count": 24,
     "metadata": {},
     "output_type": "execute_result"
    }
   ],
   "source": [
    "project = projects[0]\n",
    "project"
   ]
  },
  {
   "cell_type": "code",
   "execution_count": 25,
   "id": "b916ad36",
   "metadata": {},
   "outputs": [
    {
     "data": {
      "text/html": [
       "<div class=\"alert-success\" style=\"padding:5px;\"><strong>SyftSuccess</strong>: Request created successfully</div><br />"
      ],
      "text/plain": [
       "<class 'syft.service.response.SyftSuccess'>: Request created successfully"
      ]
     },
     "execution_count": 25,
     "metadata": {},
     "output_type": "execute_result"
    }
   ],
   "source": [
    "project.add_request(request=req)"
   ]
  },
  {
   "cell_type": "code",
   "execution_count": 26,
   "id": "1abb2ddf",
   "metadata": {},
   "outputs": [],
   "source": [
    "assert len(project.events) == 1\n",
    "assert isinstance(project.events[0], sy.service.project.project.ProjectRequest)"
   ]
  },
  {
   "cell_type": "markdown",
   "id": "01cb6ded",
   "metadata": {},
   "source": [
    "The code request is successfully submitted!"
   ]
  },
  {
   "cell_type": "markdown",
   "id": "ecfa2d90",
   "metadata": {},
   "source": [
    "### Data Owner: Review Code and Execute Function"
   ]
  },
  {
   "cell_type": "code",
   "execution_count": 27,
   "id": "78473771",
   "metadata": {},
   "outputs": [],
   "source": [
    "from syft.service.project.project import Project"
   ]
  },
  {
   "cell_type": "code",
   "execution_count": 28,
   "id": "13b6d993",
   "metadata": {},
   "outputs": [],
   "source": [
    "root_domain_client = node.login(email=\"info@openmined.org\", password=\"changethis\")"
   ]
  },
  {
   "cell_type": "markdown",
   "id": "c0c14847",
   "metadata": {},
   "source": [
    "#### Get messages"
   ]
  },
  {
   "cell_type": "code",
   "execution_count": 29,
   "id": "6def30d8",
   "metadata": {},
   "outputs": [
    {
     "data": {
      "text/html": [
       "List - Size: 2\n",
       "<div>\n",
       "<style scoped>\n",
       "    .dataframe tbody tr th:only-of-type {\n",
       "        vertical-align: middle;\n",
       "    }\n",
       "\n",
       "    .dataframe tbody tr th {\n",
       "        vertical-align: top;\n",
       "    }\n",
       "\n",
       "    .dataframe thead th {\n",
       "        text-align: right;\n",
       "    }\n",
       "</style>\n",
       "<table border=\"1\" class=\"dataframe\">\n",
       "  <thead>\n",
       "    <tr style=\"text-align: right;\">\n",
       "      <th></th>\n",
       "      <th>type</th>\n",
       "      <th>id</th>\n",
       "      <th>subject</th>\n",
       "      <th>status</th>\n",
       "      <th>created_at</th>\n",
       "      <th>linked_obj</th>\n",
       "    </tr>\n",
       "  </thead>\n",
       "  <tbody>\n",
       "    <tr>\n",
       "      <th>0</th>\n",
       "      <td>syft.service.message.messages.Message</td>\n",
       "      <td>0b854cb861c44ff7a1200829a4a5b814</td>\n",
       "      <td>Approval Request</td>\n",
       "      <td>MessageStatus.UNREAD</td>\n",
       "      <td>2023-06-08 07:28:15</td>\n",
       "      <td>&lt;&lt;class 'syft.service.request.request.Request'...</td>\n",
       "    </tr>\n",
       "    <tr>\n",
       "      <th>1</th>\n",
       "      <td>syft.service.message.messages.Message</td>\n",
       "      <td>5c03b2f6b8a841279226810c6d273ccd</td>\n",
       "      <td>Project Approval</td>\n",
       "      <td>MessageStatus.UNREAD</td>\n",
       "      <td>2023-06-08 07:28:23</td>\n",
       "      <td>&lt;&lt;class 'syft.service.project.project.Project'...</td>\n",
       "    </tr>\n",
       "  </tbody>\n",
       "</table>\n",
       "</div>"
      ],
      "text/plain": [
       "[syft.service.message.messages.Message, syft.service.message.messages.Message]"
      ]
     },
     "execution_count": 29,
     "metadata": {},
     "output_type": "execute_result"
    }
   ],
   "source": [
    "messages = root_domain_client.api.services.messages.get_all_unread()\n",
    "messages"
   ]
  },
  {
   "cell_type": "code",
   "execution_count": 30,
   "id": "5c043bbe",
   "metadata": {
    "scrolled": true
   },
   "outputs": [
    {
     "data": {
      "text/markdown": [
       "```python\n",
       "class Message:\n",
       "  id: str = 5c03b2f6b8a841279226810c6d273ccd\n",
       "  subject: str = \"Project Approval\"\n",
       "  node_uid: str = 0cdb61a5b8d248d69eceaa067523492c\n",
       "  from_user_verify_key: str = 7584ccdd162853f0fe1e7a2069b282cabd2d3139a9701896ffa0a37807b0643f\n",
       "  to_user_verify_key: str = aec42e3ed0374103099bec56820ddddc76b633d9e268c927cdc20a20c39d0d68\n",
       "  created_at: str = 2023-06-08 07:28:23\n",
       "  status: str = MessageStatus.UNREAD\n",
       "  linked_obj: str = <<class 'syft.service.project.project.Project'>: 756d65fc51be4a729bcac9525ab34275@<Node: 0cdb61a5b8d248d69eceaa067523492c>\n",
       "\n",
       "```"
      ],
      "text/plain": [
       "syft.service.message.messages.Message"
      ]
     },
     "execution_count": 30,
     "metadata": {},
     "output_type": "execute_result"
    }
   ],
   "source": [
    "project_message = [x for x in messages if issubclass(x.linked_obj.object_type, Project)][0]\n",
    "project_message"
   ]
  },
  {
   "cell_type": "markdown",
   "id": "f4b0b5bf",
   "metadata": {},
   "source": [
    "#### Review Code and Policies"
   ]
  },
  {
   "cell_type": "code",
   "execution_count": 31,
   "id": "f4658020",
   "metadata": {
    "scrolled": true
   },
   "outputs": [],
   "source": [
    "request = project_message.link.events[0].request\n",
    "func = request.changes[0].link\n",
    "# func"
   ]
  },
  {
   "cell_type": "code",
   "execution_count": 32,
   "id": "05cbb18f",
   "metadata": {},
   "outputs": [
    {
     "data": {
      "text/plain": [
       "syft.service.policy.policy.OutputPolicyExecuteOnce"
      ]
     },
     "execution_count": 32,
     "metadata": {},
     "output_type": "execute_result"
    }
   ],
   "source": [
    "op = func.output_policy_type\n",
    "op"
   ]
  },
  {
   "cell_type": "markdown",
   "id": "0812e596",
   "metadata": {},
   "source": [
    "#### Execute function on real data"
   ]
  },
  {
   "cell_type": "code",
   "execution_count": 33,
   "id": "74a20522",
   "metadata": {},
   "outputs": [
    {
     "name": "stdout",
     "output_type": "stream",
     "text": [
      "WARNING: This code was submitted by a User and could be UNSAFE.\n"
     ]
    }
   ],
   "source": [
    "get_col_user_function = func.unsafe_function"
   ]
  },
  {
   "cell_type": "code",
   "execution_count": 34,
   "id": "5e6821e3",
   "metadata": {},
   "outputs": [
    {
     "name": "stdout",
     "output_type": "stream",
     "text": [
      "39.8\n"
     ]
    }
   ],
   "source": [
    "real_data = root_domain_client.datasets[0].assets[0].data\n",
    "real_result = get_col_user_function(df=real_data)\n",
    "print(real_result)"
   ]
  },
  {
   "cell_type": "markdown",
   "id": "35a01174",
   "metadata": {},
   "source": [
    "#### Share the real result with the Data Scientist"
   ]
  },
  {
   "cell_type": "code",
   "execution_count": 35,
   "id": "9198a318",
   "metadata": {},
   "outputs": [
    {
     "name": "stdout",
     "output_type": "stream",
     "text": [
      "message='Request 56c24f33ed4844bbb468b88c548c43ca changes applied'\n"
     ]
    }
   ],
   "source": [
    "result = request.accept_by_depositing_result(real_result)\n",
    "print(result)\n",
    "assert isinstance(result, sy.SyftSuccess)"
   ]
  },
  {
   "cell_type": "markdown",
   "id": "6da244b6",
   "metadata": {},
   "source": [
    "### Data Scientist: Fetch Real Result"
   ]
  },
  {
   "cell_type": "code",
   "execution_count": 37,
   "id": "1b4affb7",
   "metadata": {},
   "outputs": [
    {
     "name": "stdout",
     "output_type": "stream",
     "text": [
      "Logged into hello-syft-usa-server as <janedoe@caltech.edu>\n"
     ]
    },
    {
     "data": {
      "text/plain": [
       "<SyftClient - hello-syft-usa-server <0cdb61a5b8d248d69eceaa067523492c>: HTTPConnection: http://0.0.0.0:9082>"
      ]
     },
     "execution_count": 37,
     "metadata": {},
     "output_type": "execute_result"
    }
   ],
   "source": [
    "external_ds = sy.login(url='0.0.0.0:9082', email=\"janedoe@caltech.edu\", password=\"abc123\")\n",
    "external_ds"
   ]
  },
  {
   "cell_type": "code",
   "execution_count": 38,
   "id": "38301618",
   "metadata": {},
   "outputs": [
    {
     "data": {
      "text/markdown": [
       "```python\n",
       "Asset: ages\n",
       "Pointer Id: 87362d493e704fd5bc9f8df8506a1dd9\n",
       "Description: None\n",
       "Total Data Subjects: 0\n",
       "Shape: (5, 2)\n",
       "Contributors: 0\n",
       "\n",
       "```"
      ],
      "text/plain": [
       "syft.service.dataset.dataset.Asset"
      ]
     },
     "execution_count": 38,
     "metadata": {},
     "output_type": "execute_result"
    }
   ],
   "source": [
    "asset = external_ds.datasets[0].assets[0]\n",
    "asset"
   ]
  },
  {
   "cell_type": "code",
   "execution_count": 39,
   "id": "93fe70e3",
   "metadata": {},
   "outputs": [
    {
     "data": {
      "text/plain": [
       "{NodeView(node_name='hello-syft-usa-server', verify_key=aec42e3ed0374103099bec56820ddddc76b633d9e268c927cdc20a20c39d0d68): <UserCodeStatus.EXECUTE: 'execute'>}"
      ]
     },
     "execution_count": 39,
     "metadata": {},
     "output_type": "execute_result"
    }
   ],
   "source": [
    "external_ds.code[0].status"
   ]
  },
  {
   "cell_type": "code",
   "execution_count": 40,
   "id": "fd1cd7e1",
   "metadata": {},
   "outputs": [],
   "source": [
    "result_ptr = external_ds.code.get_mean_age(df=asset)\n",
    "# result_ptr"
   ]
  },
  {
   "cell_type": "code",
   "execution_count": 41,
   "id": "220d11e5",
   "metadata": {},
   "outputs": [
    {
     "name": "stdout",
     "output_type": "stream",
     "text": [
      "39.8\n"
     ]
    }
   ],
   "source": [
    "real_result = result_ptr.get_from(external_ds)\n",
    "print(real_result)"
   ]
  },
  {
   "cell_type": "markdown",
   "id": "18f09ac1",
   "metadata": {},
   "source": [
    "**That's a success!! The external data scientist was able to know the average age of breast cancer patients in a USA regional hospital, without having to access or even look at the real data.**"
   ]
  },
  {
   "cell_type": "markdown",
   "id": "d98bd74a",
   "metadata": {},
   "source": [
    "Once you are done with this tutorial, you can safely shut down the servers as following,"
   ]
  },
  {
   "cell_type": "code",
   "execution_count": 42,
   "id": "834cc65e",
   "metadata": {},
   "outputs": [
    {
     "name": "stdout",
     "output_type": "stream",
     "text": [
      "Stopping hello-syft-usa-server\n"
     ]
    }
   ],
   "source": [
    "node.land()"
   ]
  },
  {
   "cell_type": "code",
   "execution_count": null,
   "id": "ce8acd15-5edd-4552-8edc-65014a9c06b0",
   "metadata": {},
   "outputs": [],
   "source": []
  }
 ],
 "metadata": {
  "kernelspec": {
   "display_name": "Python 3 (ipykernel)",
   "language": "python",
   "name": "python3"
  },
  "language_info": {
   "codemirror_mode": {
    "name": "ipython",
    "version": 3
   },
   "file_extension": ".py",
   "mimetype": "text/x-python",
   "name": "python",
   "nbconvert_exporter": "python",
   "pygments_lexer": "ipython3",
   "version": "3.10.6",
   "version": "3.11.2"
  }
 },
 "nbformat": 4,
 "nbformat_minor": 5
}
