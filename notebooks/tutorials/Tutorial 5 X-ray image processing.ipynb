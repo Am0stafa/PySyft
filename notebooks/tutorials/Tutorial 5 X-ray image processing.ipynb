{
 "cells": [
  {
   "cell_type": "markdown",
   "id": "a1f4b382",
   "metadata": {},
   "source": [
    "# X-ray image processing"
   ]
  },
  {
   "cell_type": "markdown",
   "id": "4d720bab",
   "metadata": {},
   "source": [
    "This tutorial demonstrates how to read and process X-ray images with NumPy,\n",
    "imageio, Matplotlib and SciPy. You will learn how to load medical images, focus\n",
    "on certain parts, and visually compare them using the\n",
    "[Gaussian](https://en.wikipedia.org/wiki/Gaussian_filter),\n",
    "[Laplacian-Gaussian](https://en.wikipedia.org/wiki/Laplace_distribution),\n",
    "[Sobel](https://en.wikipedia.org/wiki/Sobel_operator), and\n",
    "[Canny](https://en.wikipedia.org/wiki/Canny_edge_detector) filters for edge\n",
    "detection.\n",
    "\n",
    "X-ray image analysis can be part of your data analysis and\n",
    "[machine learning workflow](https://www.sciencedirect.com/science/article/pii/S235291481930214X)\n",
    "when, for example, you're building an algorithm that helps\n",
    "[detect pneumonia](https://www.kaggle.com/c/rsna-pneumonia-detection-challenge)\n",
    "as part of a [Kaggle](https://www.kaggle.com)\n",
    "[competition](https://www.kaggle.com/eduardomineo/u-net-lung-segmentation-montgomery-shenzhen).\n",
    "In the healthcare industry, medical image processing and analysis is\n",
    "particularly important when images are estimated to account for\n",
    "[at least 90%](https://www-03.ibm.com/press/us/en/pressrelease/51146.wss) of all\n",
    "medical data.\n",
    "\n",
    "You'll be working with radiology images from the\n",
    "[ChestX-ray8](https://www.nih.gov/news-events/news-releases/nih-clinical-center-provides-one-largest-publicly-available-chest-x-ray-datasets-scientific-community)\n",
    "dataset provided by the [National Institutes of Health (NIH)](http://nih.gov).\n",
    "ChestX-ray8 contains over 100,000 de-identified X-ray images in the PNG format\n",
    "from more than 30,000 patients. You can find ChestX-ray8's files on NIH's public\n",
    "Box [repository](https://nihcc.app.box.com/v/ChestXray-NIHCC) in the `/images`\n",
    "folder. (For more details, refer to the research\n",
    "[paper](http://openaccess.thecvf.com/content_cvpr_2017/papers/Wang_ChestX-ray8_Hospital-Scale_Chest_CVPR_2017_paper.pdf)\n",
    "published at CVPR (a computer vision conference) in 2017.)\n",
    "\n",
    "For your convenience, a small number of PNG images have been saved to this\n",
    "tutorial's repository under `tutorial-x-ray-image-processing/`, since\n",
    "ChestX-ray8 contains gigabytes of data and you may find it challenging to\n",
    "download it in batches.\n",
    "\n",
    "![A series of 9 x-ray images of the same region of a patient's chest is shown with different types of image processing filters applied to each image. Each x-ray shows different types of biological detail.](_static/tutorial-x-ray-image-processing.png)"
   ]
  },
  {
   "cell_type": "markdown",
   "id": "cccfce9d",
   "metadata": {},
   "source": [
    "## Prerequisites"
   ]
  },
  {
   "cell_type": "markdown",
   "id": "cdd37867",
   "metadata": {},
   "source": [
    "The reader should have some knowledge of Python, NumPy arrays, and Matplotlib.\n",
    "To refresh the memory, you can take the\n",
    "[Python](https://docs.python.org/dev/tutorial/index.html) and Matplotlib\n",
    "[PyPlot](https://matplotlib.org/tutorials/introductory/pyplot.html) tutorials,\n",
    "and the NumPy [quickstart](https://numpy.org/devdocs/user/quickstart.html).\n",
    "\n",
    "The following packages are used in this tutorial:\n",
    "\n",
    "- [imageio](https://imageio.github.io) for reading and writing image data. The\n",
    "healthcare industry usually works with the\n",
    "[DICOM](https://en.wikipedia.org/wiki/DICOM) format for medical imaging and\n",
    "[imageio](https://imageio.readthedocs.io/en/stable/format_dicom.html) should be\n",
    "well-suited for reading that format. For simplicity, in this tutorial you'll be\n",
    "working with PNG files.\n",
    "- [Matplotlib](https://matplotlib.org/) for data visualization.\n",
    "- [SciPy](https://www.scipy.org) for multi-dimensional image processing via\n",
    "[`ndimage`](https://docs.scipy.org/doc/scipy/reference/ndimage.html).\n",
    "\n",
    "This tutorial can be run locally in an isolated environment, such as\n",
    "[Virtualenv](https://virtualenv.pypa.io/en/stable/) or\n",
    "[conda](https://docs.conda.io/projects/conda/en/latest/user-guide/tasks/manage-environments.html).\n",
    "You can use [Jupyter Notebook or JupyterLab](https://jupyter.org/install) to run\n",
    "each notebook cell."
   ]
  },
  {
   "cell_type": "markdown",
   "id": "21aa98a5",
   "metadata": {},
   "source": [
    "## Table of contents"
   ]
  },
  {
   "cell_type": "markdown",
   "id": "388df14b",
   "metadata": {},
   "source": [
    "1. Examine an X-ray with `imageio`\n",
    "2. Combine images into a multi-dimensional array to demonstrate progression\n",
    "3. Edge detection using the Laplacian-Gaussian, Gaussian gradient, Sobel, and\n",
    "   Canny filters\n",
    "4. Apply masks to X-rays with `np.where()`\n",
    "5. Compare the results\n",
    "\n",
    "---"
   ]
  },
  {
   "cell_type": "markdown",
   "id": "9bcf3f22",
   "metadata": {},
   "source": [
    "## Examine an X-ray with `imageio`"
   ]
  },
  {
   "cell_type": "markdown",
   "id": "d2b75e8a",
   "metadata": {},
   "source": [
    "Let's begin with a simple example using just one X-ray image from the\n",
    "ChestX-ray8 dataset.\n",
    "\n",
    "The file — `00000011_001.png` — has been downloaded for you and saved in the\n",
    "`/tutorial-x-ray-image-processing` folder."
   ]
  },
  {
   "cell_type": "markdown",
   "id": "ccbf8ab9",
   "metadata": {},
   "source": [
    "**1.** Load the image with `imageio`:"
   ]
  },
  {
   "cell_type": "code",
   "execution_count": null,
   "id": "4e80d8c9",
   "metadata": {},
   "outputs": [],
   "source": [
    "import os\n",
    "import imageio\n",
    "\n",
    "DIR = \"tutorial-x-ray-image-processing\"\n",
    "\n",
    "xray_image = imageio.v3.imread(os.path.join(DIR, \"00000011_001.png\"))"
   ]
  },
  {
   "cell_type": "markdown",
   "id": "61e0777c",
   "metadata": {},
   "source": [
    "**2.** Check that its shape is 1024x1024 pixels and that the array is made up of\n",
    "8-bit integers:"
   ]
  },
  {
   "cell_type": "code",
   "execution_count": null,
   "id": "add37928",
   "metadata": {},
   "outputs": [],
   "source": [
    "print(xray_image.shape)\n",
    "print(xray_image.dtype)"
   ]
  },
  {
   "cell_type": "markdown",
   "id": "6f7d24e9",
   "metadata": {},
   "source": [
    "**3.** Import `matplotlib` and display the image in a grayscale colormap:"
   ]
  },
  {
   "cell_type": "code",
   "execution_count": null,
   "id": "f1ce063c",
   "metadata": {},
   "outputs": [],
   "source": [
    "import matplotlib.pyplot as plt\n",
    "\n",
    "plt.imshow(xray_image, cmap=\"gray\")\n",
    "plt.axis(\"off\")\n",
    "plt.show()"
   ]
  },
  {
   "cell_type": "markdown",
   "id": "f111698e",
   "metadata": {},
   "source": [
    "## Combine images into a multidimensional array to demonstrate progression"
   ]
  },
  {
   "cell_type": "markdown",
   "id": "7da3bf44",
   "metadata": {},
   "source": [
    "In the next example, instead of 1 image you'll use 9 X-ray 1024x1024-pixel\n",
    "images from the ChestX-ray8 dataset that have been downloaded and extracted\n",
    "from one of the dataset files. They are numbered from `...000.png` to\n",
    "`...008.png` and let's assume they belong to the same patient.\n",
    "\n",
    "**1.** Import NumPy, read in each of the X-rays, and create a three-dimensional\n",
    "array where the first dimension corresponds to image number:"
   ]
  },
  {
   "cell_type": "code",
   "execution_count": null,
   "id": "e33e46d9",
   "metadata": {},
   "outputs": [],
   "source": [
    "import numpy as np\n",
    "num_imgs = 9\n",
    "\n",
    "combined_xray_images_1 = np.array(\n",
    "    [imageio.v3.imread(os.path.join(DIR, f\"00000011_00{i}.png\")) for i in range(num_imgs)]\n",
    ")"
   ]
  },
  {
   "cell_type": "markdown",
   "id": "46823a38",
   "metadata": {},
   "source": [
    "**2.** Check the shape of the new X-ray image array containing 9 stacked images:"
   ]
  },
  {
   "cell_type": "code",
   "execution_count": null,
   "id": "d2da74fa",
   "metadata": {},
   "outputs": [],
   "source": [
    "combined_xray_images_1.shape"
   ]
  },
  {
   "cell_type": "markdown",
   "id": "a8fc8985",
   "metadata": {},
   "source": [
    "Note that the shape in the first dimension matches `num_imgs`, so the\n",
    "`combined_xray_images_1` array can be interpreted as a stack of 2D images.\n",
    "\n",
    "**3.** You can now display the \"health progress\" by plotting each of frames next\n",
    "to each other using Matplotlib:"
   ]
  },
  {
   "cell_type": "code",
   "execution_count": null,
   "id": "d06bb38c",
   "metadata": {},
   "outputs": [],
   "source": [
    "fig, axes = plt.subplots(nrows=1, ncols=num_imgs, figsize=(30, 30))\n",
    "\n",
    "for img, ax in zip(combined_xray_images_1, axes):\n",
    "    ax.imshow(img, cmap='gray')\n",
    "    ax.axis('off')"
   ]
  },
  {
   "cell_type": "markdown",
   "id": "7d4687fa",
   "metadata": {},
   "source": [
    "**4.** In addition, it can be helpful to show the progress as an animation.\n",
    "Let's create a GIF file with `imageio.mimwrite()` and display the result in the\n",
    "notebook:"
   ]
  },
  {
   "cell_type": "code",
   "execution_count": null,
   "id": "5cad0f3a",
   "metadata": {},
   "outputs": [],
   "source": [
    "GIF_PATH = os.path.join(DIR, \"xray_image.gif\")\n",
    "imageio.mimwrite(GIF_PATH, combined_xray_images_1, format= \".gif\", duration=100)"
   ]
  },
  {
   "cell_type": "markdown",
   "id": "a4f9df16-66a1-4b89-8003-ca28600c24f2",
   "metadata": {
    "tags": []
   },
   "source": [
    "Which gives us:\n",
    "![An animated gif repeatedly cycles through a series of 8 x-rays, showing the same viewpoint of the patient's chest at different points in time. The patient's bones and internal organs can be visually compared from frame to frame.](tutorial-x-ray-image-processing/xray_image.gif)"
   ]
  },
  {
   "cell_type": "markdown",
   "id": "f7eaa32f-42f0-4ae7-b6df-b7950cebfc23",
   "metadata": {},
   "source": [
    "## UPLOAD TO DOMAIN NODE"
   ]
  },
  {
   "cell_type": "code",
   "execution_count": null,
   "id": "78ec6da3-ac1c-4a54-beda-1b627f5472ef",
   "metadata": {},
   "outputs": [],
   "source": [
    "from syft import Worker, Dataset, Asset\n",
    "from syft.client.client import SyftClient"
   ]
  },
  {
   "cell_type": "code",
   "execution_count": null,
   "id": "c65624f3-3876-4e03-8ae2-00e14a9e6cd8",
   "metadata": {},
   "outputs": [],
   "source": [
    "w = Worker()\n",
    "client = SyftClient.from_node(w).login(email=\"info@openmined.org\", password=\"changethis\")"
   ]
  },
  {
   "cell_type": "code",
   "execution_count": null,
   "id": "4d755e16-5f9e-45e1-b879-46f024a317c4",
   "metadata": {},
   "outputs": [],
   "source": [
    "dataset = Dataset(name=\"XRAYs\", description=\"X-Ray images\")"
   ]
  },
  {
   "cell_type": "code",
   "execution_count": null,
   "id": "74e8f2a4-3ca4-4449-bebc-39e333b4368b",
   "metadata": {},
   "outputs": [],
   "source": [
    "import numpy as np\n",
    "num_imgs = 9\n",
    "\n",
    "xray_images = [np.array(imageio.v3.imread(os.path.join(DIR, f\"00000011_00{i}.png\"))) for i in range(num_imgs)]"
   ]
  },
  {
   "cell_type": "code",
   "execution_count": null,
   "id": "4b22e7fd-38c5-4555-933e-47affda9923f",
   "metadata": {},
   "outputs": [],
   "source": [
    "training_img_assets = [Asset(\n",
    "    name=f\"training_image{i}\", \n",
    "    data=xray_images[i], \n",
    "    mock=xray_images[i], \n",
    "    mock_is_real=True,\n",
    "    description=\"X-Ray image\"\n",
    ") for i in range(num_imgs)]"
   ]
  },
  {
   "cell_type": "code",
   "execution_count": null,
   "id": "7143c471-4655-40d4-a446-50c5d93bcb8a",
   "metadata": {},
   "outputs": [],
   "source": [
    "for asset in training_img_assets:\n",
    "    dataset.add_asset(asset)"
   ]
  },
  {
   "cell_type": "code",
   "execution_count": null,
   "id": "72a113b7-da6f-4a20-9f0d-97deb60ebe40",
   "metadata": {},
   "outputs": [],
   "source": [
    "dataset"
   ]
  },
  {
   "cell_type": "code",
   "execution_count": null,
   "id": "170b3a51-6339-4c1a-a44c-73cc710bb9c8",
   "metadata": {},
   "outputs": [],
   "source": [
    "client.upload_dataset(dataset)"
   ]
  },
  {
   "cell_type": "markdown",
   "id": "9ffa935b-303c-4ffa-bf3c-e6559ff8fdcb",
   "metadata": {
    "tags": []
   },
   "source": [
    "## Edge detection using the Laplacian-Gaussian, Gaussian gradient, Sobel, and Canny filters"
   ]
  },
  {
   "cell_type": "markdown",
   "id": "fcd26e2d",
   "metadata": {},
   "source": [
    "When processing biomedical data, it can be useful to emphasize the 2D\n",
    "[\"edges\"](https://en.wikipedia.org/wiki/Edge_detection) to focus on particular\n",
    "features in an image. To do that, using\n",
    "[image gradients](https://en.wikipedia.org/wiki/Image_gradient) can be\n",
    "particularly helpful when detecting the change of color pixel intensity."
   ]
  },
  {
   "cell_type": "markdown",
   "id": "751ef6c8",
   "metadata": {},
   "source": [
    "### The Laplace filter with Gaussian second derivatives\n",
    "\n",
    "Let's start with an n-dimensional\n",
    "[Laplace](https://en.wikipedia.org/wiki/Laplace_distribution) filter\n",
    "(\"Laplacian-Gaussian\") that uses\n",
    "[Gaussian](https://en.wikipedia.org/wiki/Normal_distribution) second\n",
    "derivatives. This Laplacian method focuses on pixels with rapid intensity change\n",
    "in values and is combined with Gaussian smoothing to\n",
    "[remove noise](https://homepages.inf.ed.ac.uk/rbf/HIPR2/log.htm). Let's examine\n",
    "how it can be useful in analyzing 2D X-ray images."
   ]
  },
  {
   "cell_type": "markdown",
   "id": "04b344f6",
   "metadata": {},
   "source": [
    "- The implementation of the Laplacian-Gaussian filter is relatively\n",
    "straightforward: 1) import the `ndimage` module from SciPy; and 2) call\n",
    "[`scipy.ndimage.gaussian_laplace()`](https://docs.scipy.org/doc/scipy/reference/generated/scipy.ndimage.gaussian_laplace.html)\n",
    "with a sigma (scalar) parameter, which affects the standard deviations of the\n",
    "Gaussian filter (you'll use `1` in the example below):"
   ]
  },
  {
   "cell_type": "code",
   "execution_count": null,
   "id": "6bb34bea-1e01-4359-aeb8-ba024e3f82ca",
   "metadata": {},
   "outputs": [],
   "source": [
    "client.datasets"
   ]
  },
  {
   "cell_type": "code",
   "execution_count": null,
   "id": "4fb6df82-8400-46a9-ac7d-04e7176a56f9",
   "metadata": {},
   "outputs": [],
   "source": [
    "xray_image = client.datasets[0].assets[0].data"
   ]
  },
  {
   "cell_type": "code",
   "execution_count": null,
   "id": "43c50d5d",
   "metadata": {},
   "outputs": [],
   "source": [
    "from scipy import ndimage\n",
    "\n",
    "xray_image_laplace_gaussian = ndimage.gaussian_laplace(xray_image, sigma=1)"
   ]
  },
  {
   "cell_type": "markdown",
   "id": "329d87a4",
   "metadata": {},
   "source": [
    "Display the original X-ray and the one with the Laplacian-Gaussian filter:"
   ]
  },
  {
   "cell_type": "code",
   "execution_count": null,
   "id": "9e314598",
   "metadata": {},
   "outputs": [],
   "source": [
    "fig, axes = plt.subplots(nrows=1, ncols=2, figsize=(10, 10))\n",
    "\n",
    "axes[0].set_title(\"Original\")\n",
    "axes[0].imshow(xray_image, cmap=\"gray\")\n",
    "axes[1].set_title(\"Laplacian-Gaussian (edges)\")\n",
    "axes[1].imshow(xray_image_laplace_gaussian, cmap=\"gray\")\n",
    "for i in axes:\n",
    "    i.axis(\"off\")\n",
    "plt.show()"
   ]
  },
  {
   "cell_type": "markdown",
   "id": "3b0293d6",
   "metadata": {},
   "source": [
    "### The Gaussian gradient magnitude method\n",
    "\n",
    "Another method for edge detection that can be useful is the\n",
    "[Gaussian](https://en.wikipedia.org/wiki/Normal_distribution) (gradient) filter.\n",
    "It computes the multidimensional gradient magnitude with Gaussian derivatives\n",
    "and helps by remove\n",
    "[high-frequency](https://www.cs.cornell.edu/courses/cs6670/2011sp/lectures/lec02_filter.pdf)\n",
    "image components."
   ]
  },
  {
   "cell_type": "markdown",
   "id": "5b14ae4e",
   "metadata": {},
   "source": [
    "**1.** Call [`scipy.ndimage.gaussian_gradient_magnitude()`](https://docs.scipy.org/doc/scipy/reference/generated/scipy.ndimage.gaussian_gradient_magnitude.html)\n",
    "with a sigma (scalar) parameter (for standard deviations; you'll use `2` in the\n",
    "example below):"
   ]
  },
  {
   "cell_type": "code",
   "execution_count": null,
   "id": "d16b6474",
   "metadata": {},
   "outputs": [],
   "source": [
    "x_ray_image_gaussian_gradient = ndimage.gaussian_gradient_magnitude(xray_image, sigma=2)"
   ]
  },
  {
   "cell_type": "markdown",
   "id": "a12022aa",
   "metadata": {},
   "source": [
    "**2.** Display the original X-ray and the one with the Gaussian gradient filter:"
   ]
  },
  {
   "cell_type": "code",
   "execution_count": null,
   "id": "14ff81fd",
   "metadata": {},
   "outputs": [],
   "source": [
    "fig, axes = plt.subplots(nrows=1, ncols=2, figsize=(10, 10))\n",
    "\n",
    "axes[0].set_title(\"Original\")\n",
    "axes[0].imshow(xray_image, cmap=\"gray\")\n",
    "axes[1].set_title(\"Gaussian gradient (edges)\")\n",
    "axes[1].imshow(x_ray_image_gaussian_gradient, cmap=\"gray\")\n",
    "for i in axes:\n",
    "    i.axis(\"off\")\n",
    "plt.show()"
   ]
  },
  {
   "cell_type": "markdown",
   "id": "c3dba0fb",
   "metadata": {},
   "source": [
    "### The Sobel-Feldman operator (the Sobel filter)\n",
    "\n",
    "To find regions of high spatial frequency (the edges or the edge maps) along the\n",
    "horizontal and vertical axes of a 2D X-ray image, you can use the\n",
    "[Sobel-Feldman operator (Sobel filter)](https://en.wikipedia.org/wiki/Sobel_operator)\n",
    "technique. The Sobel filter applies two 3x3 kernel matrices — one for each axis\n",
    "— onto the X-ray through a [convolution](https://en.wikipedia.org/wiki/Kernel_(image_processing)#Convolution).\n",
    "Then, these two points (gradients) are combined using the\n",
    "[Pythagorean theorem](https://en.wikipedia.org/wiki/Pythagorean_theorem) to\n",
    "produce a gradient magnitude."
   ]
  },
  {
   "cell_type": "markdown",
   "id": "63bf0161",
   "metadata": {},
   "source": [
    "**1.** Use the Sobel filters — ([`scipy.ndimage.sobel()`](https://docs.scipy.org/doc/scipy/reference/generated/scipy.ndimage.sobel.html))\n",
    "— on x- and y-axes of the X-ray. Then, calculate the distance between `x` and\n",
    "`y` (with the Sobel filters applied to them) using the\n",
    "[Pythagorean theorem](https://en.wikipedia.org/wiki/Pythagorean_theorem) and\n",
    "NumPy's [`np.hypot()`](https://numpy.org/doc/stable/reference/generated/numpy.hypot.html)\n",
    "to obtain the magnitude. Finally, normalize the rescaled image for the pixel\n",
    "values to be between 0 and 255.\n",
    "\n",
    "[Image normalization](https://en.wikipedia.org/wiki/Normalization_%28image_processing%29)\n",
    "follows the `output_channel = 255.0 * (input_channel - min_value) / (max_value - min_value)`\n",
    "[formula](http://dev.ipol.im/~nmonzon/Normalization.pdf). Because you're\n",
    "using a grayscale image, you need to normalize just one channel."
   ]
  },
  {
   "cell_type": "code",
   "execution_count": null,
   "id": "64643880",
   "metadata": {},
   "outputs": [],
   "source": [
    "x_sobel = ndimage.sobel(xray_image, axis=0)\n",
    "y_sobel = ndimage.sobel(xray_image, axis=1)\n",
    "\n",
    "xray_image_sobel = np.hypot(x_sobel, y_sobel)\n",
    "\n",
    "xray_image_sobel *= 255.0 / np.max(xray_image_sobel)"
   ]
  },
  {
   "cell_type": "markdown",
   "id": "2ad7c5be",
   "metadata": {},
   "source": [
    "**2.** Change the new image array data type to the 32-bit floating-point format\n",
    "from `float16` to [make it compatible](https://github.com/matplotlib/matplotlib/issues/15432)\n",
    "with Matplotlib:"
   ]
  },
  {
   "cell_type": "code",
   "execution_count": null,
   "id": "9d4f6006",
   "metadata": {},
   "outputs": [],
   "source": [
    "print(\"The data type - before: \", xray_image_sobel.dtype)\n",
    "\n",
    "xray_image_sobel = xray_image_sobel.astype(\"float32\")\n",
    "\n",
    "print(\"The data type - after: \", xray_image_sobel.dtype)"
   ]
  },
  {
   "cell_type": "markdown",
   "id": "5da9c325",
   "metadata": {},
   "source": [
    "**3.** Display the original X-ray and the one with the Sobel \"edge\" filter\n",
    "applied. Note that both the grayscale and `CMRmap` colormaps are used to help\n",
    "emphasize the edges:"
   ]
  },
  {
   "cell_type": "code",
   "execution_count": null,
   "id": "105832c9",
   "metadata": {},
   "outputs": [],
   "source": [
    "fig, axes = plt.subplots(nrows=1, ncols=3, figsize=(15, 15))\n",
    "\n",
    "axes[0].set_title(\"Original\")\n",
    "axes[0].imshow(xray_image, cmap=\"gray\")\n",
    "axes[1].set_title(\"Sobel (edges) - grayscale\")\n",
    "axes[1].imshow(xray_image_sobel, cmap=\"gray\")\n",
    "axes[2].set_title(\"Sobel (edges) - CMRmap\")\n",
    "axes[2].imshow(xray_image_sobel, cmap=\"CMRmap\")\n",
    "for i in axes:\n",
    "    i.axis(\"off\")\n",
    "plt.show()"
   ]
  },
  {
   "cell_type": "markdown",
   "id": "bf943c53",
   "metadata": {},
   "source": [
    "### The Canny filter\n",
    "\n",
    "You can also consider using another well-known filter for edge detection called\n",
    "the [Canny filter](https://en.wikipedia.org/wiki/Canny_edge_detector).\n",
    "\n",
    "First, you apply a [Gaussian](https://en.wikipedia.org/wiki/Gaussian_filter)\n",
    "filter to remove the noise in an image. In this example, you're using using the\n",
    "[Fourier](https://en.wikipedia.org/wiki/Fourier_transform) filter which\n",
    "smoothens the X-ray through a [convolution](https://en.wikipedia.org/wiki/Convolution)\n",
    "process. Next, you apply the [Prewitt filter](https://en.wikipedia.org/wiki/Prewitt_operator)\n",
    "on each of the 2 axes of the image to help detect some of the edges — this will\n",
    "result in 2 gradient values. Similar to the Sobel filter, the Prewitt operator\n",
    "also applies two 3x3 kernel matrices — one for each axis — onto the X-ray\n",
    "through a [convolution](https://en.wikipedia.org/wiki/Kernel_(image_processing)#Convolution).\n",
    "In the end, you compute the magnitude between the two gradients using the\n",
    "[Pythagorean theorem](https://en.wikipedia.org/wiki/Pythagorean_theorem) and\n",
    "[normalize](https://en.wikipedia.org/wiki/Normalization_%28image_processing%29)\n",
    "the images, as before."
   ]
  },
  {
   "cell_type": "markdown",
   "id": "79d61ec1",
   "metadata": {},
   "source": [
    "**1.** Use SciPy's Fourier filters — [`scipy.ndimage.fourier_gaussian()`](https://docs.scipy.org/doc/scipy/reference/generated/scipy.ndimage.fourier_gaussian.html)\n",
    "— with a small `sigma` value to remove some of the noise from the X-ray. Then,\n",
    "calculate two gradients using [`scipy.ndimage.prewitt()`](https://docs.scipy.org/doc/scipy/reference/generated/scipy.ndimage.prewitt.html).\n",
    "Next, measure the distance between the gradients using NumPy's `np.hypot()`.\n",
    "Finally, [normalize](https://en.wikipedia.org/wiki/Normalization_%28image_processing%29)\n",
    "the rescaled image, as before."
   ]
  },
  {
   "cell_type": "code",
   "execution_count": null,
   "id": "446f064f",
   "metadata": {},
   "outputs": [],
   "source": [
    "fourier_gaussian = ndimage.fourier_gaussian(xray_image, sigma=0.05)\n",
    "\n",
    "x_prewitt = ndimage.prewitt(fourier_gaussian, axis=0)\n",
    "y_prewitt = ndimage.prewitt(fourier_gaussian, axis=1)\n",
    "\n",
    "xray_image_canny = np.hypot(x_prewitt, y_prewitt)\n",
    "\n",
    "xray_image_canny *= 255.0 / np.max(xray_image_canny)\n",
    "\n",
    "print(\"The data type - \", xray_image_canny.dtype)"
   ]
  },
  {
   "cell_type": "markdown",
   "id": "a2c58d78",
   "metadata": {},
   "source": [
    "**2.** Plot the original X-ray image and the ones with the edges detected with\n",
    "the help of the Canny filter technique. The edges can be emphasized using the\n",
    "`prism`, `nipy_spectral`, and `terrain` Matplotlib colormaps."
   ]
  },
  {
   "cell_type": "code",
   "execution_count": null,
   "id": "c610bb1a",
   "metadata": {},
   "outputs": [],
   "source": [
    "fig, axes = plt.subplots(nrows=1, ncols=4, figsize=(20, 15))\n",
    "\n",
    "axes[0].set_title(\"Original\")\n",
    "axes[0].imshow(xray_image, cmap=\"gray\")\n",
    "axes[1].set_title(\"Canny (edges) - prism\")\n",
    "axes[1].imshow(xray_image_canny, cmap=\"prism\")\n",
    "axes[2].set_title(\"Canny (edges) - nipy_spectral\")\n",
    "axes[2].imshow(xray_image_canny, cmap=\"nipy_spectral\")\n",
    "axes[3].set_title(\"Canny (edges) - terrain\")\n",
    "axes[3].imshow(xray_image_canny, cmap=\"terrain\")\n",
    "for i in axes:\n",
    "    i.axis(\"off\")\n",
    "plt.show()"
   ]
  },
  {
   "cell_type": "markdown",
   "id": "a7374096",
   "metadata": {},
   "source": [
    "## Apply masks to X-rays with `np.where()`"
   ]
  },
  {
   "cell_type": "markdown",
   "id": "2ef16b40",
   "metadata": {},
   "source": [
    "To screen out only certain pixels in X-ray images to help detect particular\n",
    "features, you can apply masks with NumPy's\n",
    "[`np.where(condition: array_like (bool), x: array_like, y: ndarray)`](https://numpy.org/doc/stable/reference/generated/numpy.where.html)\n",
    "that returns `x` when `True` and `y` when `False`.\n",
    "\n",
    "Identifying regions of interest — certain sets of pixels in an image — can be\n",
    "useful and masks serve as boolean arrays of the same shape as the original\n",
    "image."
   ]
  },
  {
   "cell_type": "markdown",
   "id": "9b269932",
   "metadata": {},
   "source": [
    "**1.** Retrieve some basics statistics about the pixel values in the original\n",
    "X-ray image you've been working with:"
   ]
  },
  {
   "cell_type": "code",
   "execution_count": null,
   "id": "aa4f4daa",
   "metadata": {},
   "outputs": [],
   "source": [
    "print(\"The data type of the X-ray image is: \", xray_image.dtype)\n",
    "print(\"The minimum pixel value is: \", np.min(xray_image))\n",
    "print(\"The maximum pixel value is: \", np.max(xray_image))\n",
    "print(\"The average pixel value is: \", np.mean(xray_image))\n",
    "print(\"The median pixel value is: \", np.median(xray_image))"
   ]
  },
  {
   "cell_type": "markdown",
   "id": "6ba161bd",
   "metadata": {},
   "source": [
    "**2.** The array data type is `uint8` and the minimum/maximum value results\n",
    "suggest that all 256 colors (from `0` to `255`) are used in the X-ray. Let's\n",
    "visualize the _pixel intensity distribution_ of the original raw X-ray image\n",
    "with `ndimage.histogram()` and Matplotlib:"
   ]
  },
  {
   "cell_type": "code",
   "execution_count": null,
   "id": "e92ada46",
   "metadata": {},
   "outputs": [],
   "source": [
    "pixel_intensity_distribution = ndimage.histogram(\n",
    "    xray_image, min=np.min(xray_image), max=np.max(xray_image), bins=256\n",
    ")\n",
    "\n",
    "plt.plot(pixel_intensity_distribution)\n",
    "plt.title(\"Pixel intensity distribution\")\n",
    "plt.show()"
   ]
  },
  {
   "cell_type": "markdown",
   "id": "c075e747",
   "metadata": {},
   "source": [
    "As the pixel intensity distribution suggests, there are many low (between around\n",
    "0 and 20) and very high (between around 200 and 240) pixel values.\n",
    "\n",
    "**3.** You can create different conditional masks with NumPy's `np.where()` —\n",
    "for example, let's have only those values of the image with the pixels exceeding\n",
    "a certain threshold:"
   ]
  },
  {
   "cell_type": "code",
   "execution_count": null,
   "id": "dc7426a5",
   "metadata": {},
   "outputs": [],
   "source": [
    "# The threshold is \"greater than 150\"\n",
    "# Return the original image if true, `0` otherwise\n",
    "xray_image_mask_noisy = np.where(xray_image > 150, xray_image, 0)\n",
    "\n",
    "plt.imshow(xray_image_mask_noisy, cmap=\"gray\")\n",
    "plt.axis(\"off\")\n",
    "plt.show()"
   ]
  },
  {
   "cell_type": "code",
   "execution_count": null,
   "id": "5616c7c0",
   "metadata": {},
   "outputs": [],
   "source": [
    "# The threshold is \"greater than 150\"\n",
    "# Return `1` if true, `0` otherwise\n",
    "xray_image_mask_less_noisy = np.where(xray_image > 150, 1, 0)\n",
    "\n",
    "plt.imshow(xray_image_mask_less_noisy, cmap=\"gray\")\n",
    "plt.axis(\"off\")\n",
    "plt.show()"
   ]
  },
  {
   "cell_type": "markdown",
   "id": "a7e91749",
   "metadata": {},
   "source": [
    "## Compare the results"
   ]
  },
  {
   "cell_type": "markdown",
   "id": "ce9e8e00",
   "metadata": {},
   "source": [
    "Let's display some of the results of processed X-ray images you've worked with\n",
    "so far:"
   ]
  },
  {
   "cell_type": "code",
   "execution_count": null,
   "id": "48eb8618",
   "metadata": {},
   "outputs": [],
   "source": [
    "fig, axes = plt.subplots(nrows=1, ncols=9, figsize=(30, 30))\n",
    "\n",
    "axes[0].set_title(\"Original\")\n",
    "axes[0].imshow(xray_image, cmap=\"gray\")\n",
    "axes[1].set_title(\"Laplace-Gaussian (edges)\")\n",
    "axes[1].imshow(xray_image_laplace_gaussian, cmap=\"gray\")\n",
    "axes[2].set_title(\"Gaussian gradient (edges)\")\n",
    "axes[2].imshow(x_ray_image_gaussian_gradient, cmap=\"gray\")\n",
    "axes[3].set_title(\"Sobel (edges) - grayscale\")\n",
    "axes[3].imshow(xray_image_sobel, cmap=\"gray\")\n",
    "axes[4].set_title(\"Sobel (edges) - hot\")\n",
    "axes[4].imshow(xray_image_sobel, cmap=\"hot\")\n",
    "axes[5].set_title(\"Canny (edges) - prism)\")\n",
    "axes[5].imshow(xray_image_canny, cmap=\"prism\")\n",
    "axes[6].set_title(\"Canny (edges) - nipy_spectral)\")\n",
    "axes[6].imshow(xray_image_canny, cmap=\"nipy_spectral\")\n",
    "axes[7].set_title(\"Mask (> 150, noisy)\")\n",
    "axes[7].imshow(xray_image_mask_noisy, cmap=\"gray\")\n",
    "axes[8].set_title(\"Mask (> 150, less noisy)\")\n",
    "axes[8].imshow(xray_image_mask_less_noisy, cmap=\"gray\")\n",
    "for i in axes:\n",
    "    i.axis(\"off\")\n",
    "plt.show()"
   ]
  },
  {
   "cell_type": "markdown",
   "id": "ba2e5daa",
   "metadata": {},
   "source": [
    "## Next steps"
   ]
  },
  {
   "cell_type": "markdown",
   "id": "4b45453a",
   "metadata": {},
   "source": [
    "If you want to use your own samples, you can use\n",
    "[this image](https://openi.nlm.nih.gov/detailedresult?img=CXR3666_IM-1824-1001&query=chest%20infection&it=xg&req=4&npos=32)\n",
    "or search for various other ones on the [_Openi_](https://openi.nlm.nih.gov)\n",
    "database. Openi contains many biomedical images and it can be especially helpful\n",
    "if you have low bandwidth and/or are restricted by the amount of data you can\n",
    "download.\n",
    "\n",
    "To learn more about image processing in the context of biomedical image data or\n",
    "simply edge detection, you may find the following material useful:\n",
    "\n",
    "- [DICOM processing and segmentation in Python](https://www.raddq.com/dicom-processing-segmentation-visualization-in-python/) with Scikit-Image and pydicom (Radiology Data Quest)\n",
    "- [Image manipulation and processing using Numpy and Scipy](https://scipy-lectures.org/advanced/image_processing/index.html) (Scipy Lecture Notes)\n",
    "- [Intensity values](https://s3.amazonaws.com/assets.datacamp.com/production/course_7032/slides/chapter2.pdf) (presentation, DataCamp)\n",
    "- [Object detection with Raspberry Pi and Python](https://makersportal.com/blog/2019/4/23/image-processing-with-raspberry-pi-and-python-part-ii-spatial-statistics-and-correlations) (Maker Portal)\n",
    "- [X-ray data preparation and segmentation](https://www.kaggle.com/eduardomineo/u-net-lung-segmentation-montgomery-shenzhen) with deep learning (a Kaggle-hosted Jupyter notebook)\n",
    "- [Image filtering](https://www.cs.cornell.edu/courses/cs6670/2011sp/lectures/lec02_filter.pdf) (lecture slides, CS6670: Computer Vision, Cornell University)\n",
    "- [Edge detection in Python](https://towardsdatascience.com/edge-detection-in-python-a3c263a13e03) and NumPy (Towards Data Science)\n",
    "- [Edge detection](https://datacarpentry.org/image-processing/08-edge-detection/) with Scikit-Image (Data Carpentry)\n",
    "- [Image gradients and gradient filtering](https://www.cs.cmu.edu/~16385/s17/Slides/4.0_Image_Gradients_and_Gradient_Filtering.pdf) (lecture slides, 16-385 Computer Vision, Carnegie Mellon University)"
   ]
  }
 ],
 "metadata": {
  "jupytext": {
   "text_representation": {
    "extension": ".md",
    "format_name": "myst",
    "format_version": 0.13,
    "jupytext_version": "1.11.1"
   }
  },
  "kernelspec": {
   "display_name": "Python 3 (ipykernel)",
   "language": "python",
   "name": "python3"
  },
  "language_info": {
   "codemirror_mode": {
    "name": "ipython",
    "version": 3
   },
   "file_extension": ".py",
   "mimetype": "text/x-python",
   "name": "python",
   "nbconvert_exporter": "python",
   "pygments_lexer": "ipython3",
   "version": "3.9.7"
  },
  "source_map": [
   12,
   16,
   55,
   59,
   85,
   89,
   100,
   104,
   112,
   116,
   123,
   128,
   131,
   135,
   141,
   145,
   155,
   162,
   166,
   168,
   176,
   182,
   188,
   191,
   197,
   205,
   218,
   226,
   230,
   234,
   244,
   255,
   261,
   263,
   267,
   277,
   290,
   305,
   312,
   318,
   324,
   330,
   342,
   363,
   372,
   383,
   389,
   403,
   407,
   418,
   423,
   429,
   436,
   444,
   453,
   463,
   471,
   475,
   480,
   504,
   508
  ]
 },
 "nbformat": 4,
 "nbformat_minor": 5
}
