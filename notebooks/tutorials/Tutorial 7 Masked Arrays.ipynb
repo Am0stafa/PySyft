{
 "cells": [
  {
   "cell_type": "markdown",
   "id": "bb204fb3",
   "metadata": {},
   "source": [
    "# Masked Arrays\n",
    "\n",
    "## What you'll do\n",
    "\n",
    "Use the masked arrays module from NumPy to analyze COVID-19 data and deal with missing values.\n",
    "\n",
    "## What you'll learn\n",
    "\n",
    "- You'll understand what are masked arrays and how they can be created\n",
    "- You'll see how to access and modify data for masked arrays\n",
    "- You'll be able to decide when the use of masked arrays is appropriate in some of your applications\n",
    "\n",
    "## What you'll need\n",
    "\n",
    "- Basic familiarity with Python. If you would like to refresh your memory, take a look at the [Python tutorial](https://docs.python.org/dev/tutorial/index.html).\n",
    "- Basic familiarity with NumPy\n",
    "- To run the plots on your computer, you need [matplotlib](https://matplotlib.org)."
   ]
  },
  {
   "cell_type": "markdown",
   "id": "2b9df2c1",
   "metadata": {},
   "source": [
    "***"
   ]
  },
  {
   "cell_type": "markdown",
   "id": "2a8b2e12",
   "metadata": {},
   "source": [
    "## What are masked arrays?\n",
    "\n",
    "Consider the following problem. You have a dataset with missing or invalid entries. If you're doing any kind of processing on this data, and want to *skip* or flag these unwanted entries without just deleting them, you may have to use conditionals or filter your data somehow. The [numpy.ma](https://numpy.org/devdocs/reference/maskedarray.generic.html#module-numpy.ma) module provides some of the same functionality of [NumPy ndarrays](https://numpy.org/devdocs/reference/generated/numpy.ndarray.html#numpy.ndarray) with added structure to ensure invalid entries are not used in computation.\n",
    "\n",
    "From the [Reference Guide](https://numpy.org/devdocs/reference/maskedarray.generic.html#module-numpy.ma):\n",
    "\n",
    "> A masked array is the combination of a standard [numpy.ndarray](https://numpy.org/devdocs/reference/generated/numpy.ndarray.html#numpy.ndarray) and a **mask**. A mask is either `nomask`, indicating that no value of the associated array is invalid, or an array of booleans that determines for each element of the associated array whether the value is valid or not. When an element of the mask is `False`, the corresponding element of the associated array is valid and is said to be unmasked. When an element of the mask is `True`, the corresponding element of the associated array is said to be masked (invalid).\n",
    "\n",
    "We can think of a [MaskedArray](https://numpy.org/devdocs/reference/maskedarray.baseclass.html#numpy.ma.MaskedArray) as a combination of:\n",
    "\n",
    "- Data, as a regular `numpy.ndarray` of any shape or datatype;\n",
    "- A boolean mask with the same shape as the data;\n",
    "- A `fill_value`, a value that may be used to replace the invalid entries in order to return a standard `numpy.ndarray`.\n",
    "\n",
    "## When can they be useful?\n",
    "\n",
    "There are a few situations where masked arrays can be more useful than just eliminating the invalid entries of an array:\n",
    "\n",
    "- When you want to preserve the values you masked for later processing, without copying the array;\n",
    "- When you have to handle many arrays, each with their own mask. If the mask is part of the array, you avoid bugs and the code is possibly more compact;\n",
    "- When you have different flags for missing or invalid values, and wish to preserve these flags without replacing them in the original dataset, but exclude them from computations;\n",
    "- If you can't avoid or eliminate missing values, but don't want to deal with [NaN (Not a Number)](https://numpy.org/devdocs/reference/constants.html#numpy.nan) values in your operations.\n",
    "\n",
    "Masked arrays are also a good idea since the `numpy.ma` module also comes with a specific implementation of most [NumPy universal functions (ufuncs)](https://numpy.org/devdocs/glossary.html#term-ufunc), which means that you can still apply fast vectorized functions and operations on masked data. The output is then a masked array. We'll see some examples of how this works in practice below."
   ]
  },
  {
   "cell_type": "markdown",
   "id": "140c4462",
   "metadata": {},
   "source": [
    "## Using masked arrays to see COVID-19 data\n",
    "\n",
    "From [Kaggle](https://www.kaggle.com/atilamadai/covid19) it is possible to download a dataset with initial data about the COVID-19 outbreak in the beginning of 2020. We are going to look at a small subset of this data, contained in the file `who_covid_19_sit_rep_time_series.csv`. *(Note that this file has been replaced with a version without missing data sometime in late 2020.)*"
   ]
  },
  {
   "cell_type": "code",
   "execution_count": null,
   "id": "a7d0143a",
   "metadata": {},
   "outputs": [],
   "source": [
    "import numpy as np\n",
    "import os\n",
    "\n",
    "# The os.getcwd() function returns the current folder; you can change\n",
    "# the filepath variable to point to the folder where you saved the .csv file\n",
    "filepath = os.getcwd()\n",
    "filename = os.path.join(filepath, \"who_covid_19_sit_rep_time_series.csv\")"
   ]
  },
  {
   "cell_type": "markdown",
   "id": "fcb4d0af",
   "metadata": {},
   "source": [
    "The data file contains data of different types and is organized as follows:\n",
    "\n",
    "- The first row is a header line that (mostly) describes the data in each column that follow in the rows below, and beginning in the fourth column, the header is the date of the observation.\n",
    "- The second through seventh row contain summary data that is of a different type than that which we are going to examine, so we will need to exclude that from the data with which we will work.\n",
    "- The numerical data we wish to work with begins at column 4, row 8, and extends from there to the rightmost column and the lowermost row.\n",
    "\n",
    "Let's explore the data inside this file for the first 14 days of records. To gather data from the `.csv` file, we will use the [numpy.genfromtxt](https://numpy.org/devdocs/reference/generated/numpy.genfromtxt.html#numpy.genfromtxt) function, making sure we select only the columns with actual numbers instead of the first four columns which contain location data. We also skip the first 6\n",
    "rows of this file, since they contain other data we are not interested in. Separately, we will extract the information about dates and location for this data."
   ]
  },
  {
   "cell_type": "code",
   "execution_count": null,
   "id": "f3d552fb",
   "metadata": {},
   "outputs": [],
   "source": [
    "# Note we are using skip_header and usecols to read only portions of the\n",
    "# data file into each variable.\n",
    "# Read just the dates for columns 4-18 from the first row\n",
    "dates = np.genfromtxt(\n",
    "    filename,\n",
    "    dtype=np.unicode_,\n",
    "    delimiter=\",\",\n",
    "    max_rows=1,\n",
    "    usecols=range(4, 18),\n",
    "    encoding=\"utf-8-sig\",\n",
    ")\n",
    "# Read the names of the geographic locations from the first two\n",
    "# columns, skipping the first six rows\n",
    "locations = np.genfromtxt(\n",
    "    filename,\n",
    "    dtype=np.unicode_,\n",
    "    delimiter=\",\",\n",
    "    skip_header=6,\n",
    "    usecols=(0, 1),\n",
    "    encoding=\"utf-8-sig\",\n",
    ")\n",
    "# Read the numeric data from just the first 14 days\n",
    "nbcases = np.genfromtxt(\n",
    "    filename,\n",
    "    dtype=np.int_,\n",
    "    delimiter=\",\",\n",
    "    skip_header=6,\n",
    "    usecols=range(4, 18),\n",
    "    encoding=\"utf-8-sig\",\n",
    ")"
   ]
  },
  {
   "cell_type": "markdown",
   "id": "c96c0cc7",
   "metadata": {},
   "source": [
    "Included in the `numpy.genfromtxt` function call, we have selected the [numpy.dtype](https://numpy.org/devdocs/reference/generated/numpy.dtype.html#numpy.dtype) for each subset of the data (either an integer - `numpy.int_` - or a string of characters - `numpy.unicode_`). We have also used the `encoding` argument to select `utf-8-sig` as the encoding for the file (read more about encoding in the [official Python documentation](https://docs.python.org/3/library/codecs.html#encodings-and-unicode). You can read more about the `numpy.genfromtxt` function from the [Reference Documentation](https://numpy.org/devdocs/reference/generated/numpy.genfromtxt.html#numpy.genfromtxt) or from the [Basic IO tutorial](https://numpy.org/devdocs/user/basics.io.genfromtxt.html)."
   ]
  },
  {
   "cell_type": "markdown",
   "id": "d3dd0f0d-6fb1-4fcb-b95e-7113bf4cfbdf",
   "metadata": {},
   "source": [
    "## Upload to Domain Node"
   ]
  },
  {
   "cell_type": "code",
   "execution_count": null,
   "id": "c92c468e-fbcc-467f-887e-a8e5fc72fd0c",
   "metadata": {},
   "outputs": [],
   "source": [
    "from syft import Worker, Dataset, Asset\n",
    "from syft.client.client import SyftClient"
   ]
  },
  {
   "cell_type": "code",
   "execution_count": null,
   "id": "122c0550-f7cc-4f04-a1be-844af578da5b",
   "metadata": {},
   "outputs": [],
   "source": [
    "w = Worker()\n",
    "client = SyftClient.from_node(w).login(email=\"info@openmined.org\", password=\"changethis\")"
   ]
  },
  {
   "cell_type": "code",
   "execution_count": null,
   "id": "8cec40d4-e910-4179-9839-4b3045669d27",
   "metadata": {},
   "outputs": [],
   "source": [
    "dataset = Dataset(name=\"COVID19\", description=\"Data about COVID19 from the World Health Organization\")"
   ]
  },
  {
   "cell_type": "code",
   "execution_count": null,
   "id": "125bf5fa-5fe5-41a3-b43d-2508d1ab65d8",
   "metadata": {},
   "outputs": [],
   "source": [
    "date_assets = Asset(\n",
    "    name=f\"dates\", \n",
    "    data=dates, \n",
    "    mock=dates, \n",
    "    mock_is_real=True,\n",
    "    description=\"Occurrence dates\"\n",
    ")"
   ]
  },
  {
   "cell_type": "code",
   "execution_count": null,
   "id": "209f9e0a-2773-4eb4-b106-9044dc57367e",
   "metadata": {},
   "outputs": [],
   "source": [
    "location_assets = Asset(\n",
    "    name=f\"locations\", \n",
    "    data=locations, \n",
    "    mock=locations, \n",
    "    mock_is_real=True,\n",
    "    description=\"Occurrence places\"\n",
    ")"
   ]
  },
  {
   "cell_type": "code",
   "execution_count": null,
   "id": "015fa533-f193-4073-a19a-321b1d424a4e",
   "metadata": {},
   "outputs": [],
   "source": [
    "cases_assets = Asset(\n",
    "    name=f\"cases\", \n",
    "    data=nbcases, \n",
    "    mock=nbcases, \n",
    "    mock_is_real=True,\n",
    "    description=\"Occurrence counts\"\n",
    ")"
   ]
  },
  {
   "cell_type": "code",
   "execution_count": null,
   "id": "5818887e-bec5-470f-ab90-105eb9ee1a8c",
   "metadata": {},
   "outputs": [],
   "source": [
    "dataset.add_asset(date_assets)"
   ]
  },
  {
   "cell_type": "code",
   "execution_count": null,
   "id": "b20deada-80c9-4ab9-8fa0-0c635b4f11f9",
   "metadata": {},
   "outputs": [],
   "source": [
    "dataset.add_asset(location_assets)"
   ]
  },
  {
   "cell_type": "code",
   "execution_count": null,
   "id": "b724023f-ba48-4953-a8b7-f0677b410a87",
   "metadata": {},
   "outputs": [],
   "source": [
    "dataset.add_asset(cases_assets)"
   ]
  },
  {
   "cell_type": "code",
   "execution_count": null,
   "id": "5ca260f6-1169-4c63-812f-d98f88ec56fc",
   "metadata": {},
   "outputs": [],
   "source": [
    "client.upload_dataset(dataset)"
   ]
  },
  {
   "cell_type": "code",
   "execution_count": null,
   "id": "a71c1199-2b16-435d-accc-140b59514df6",
   "metadata": {},
   "outputs": [],
   "source": [
    "client.datasets"
   ]
  },
  {
   "cell_type": "code",
   "execution_count": null,
   "id": "b9b559cc-88c8-4e69-b302-095efab550b9",
   "metadata": {},
   "outputs": [],
   "source": [
    "client.datasets[0]"
   ]
  },
  {
   "cell_type": "code",
   "execution_count": null,
   "id": "d64facd9-3d7a-4eee-933f-a22cdf0d8ad4",
   "metadata": {},
   "outputs": [],
   "source": [
    "dates = client.datasets[0].assets[0].data\n",
    "locations = client.datasets[0].assets[1].data\n",
    "nbcases = client.datasets[0].assets[2].data"
   ]
  },
  {
   "cell_type": "markdown",
   "id": "8e736ebf",
   "metadata": {},
   "source": [
    "## Exploring the data\n",
    "\n",
    "First of all, we can plot the whole set of data we have and see what it looks like. In order to get a readable plot, we select only a few of the dates to show in our [x-axis ticks](https://matplotlib.org/api/_as_gen/matplotlib.pyplot.xticks.html#matplotlib.pyplot.xticks). Note also that in our plot command, we use `nbcases.T` (the transpose of the `nbcases` array) since this means we will plot each row of the file as a separate line. We choose to plot a dashed line (using the `'--'` line style). See the [matplotlib](https://matplotlib.org/) documentation for more info on this."
   ]
  },
  {
   "cell_type": "code",
   "execution_count": null,
   "id": "663eba70",
   "metadata": {},
   "outputs": [],
   "source": [
    "import matplotlib.pyplot as plt\n",
    "\n",
    "selected_dates = [0, 3, 11, 13]\n",
    "plt.plot(dates, nbcases.T, \"--\")\n",
    "plt.xticks(selected_dates, dates[selected_dates])\n",
    "plt.title(\"COVID-19 cumulative cases from Jan 21 to Feb 3 2020\")"
   ]
  },
  {
   "cell_type": "markdown",
   "id": "d45fab8f",
   "metadata": {},
   "source": [
    "The graph has a strange shape from January 24th to February 1st. It would be interesting to know where this data comes from. If we look at the `locations` array we extracted from the `.csv` file, we can see that we have two columns, where the first would contain regions and the second would contain the name of the country. However, only the first few rows contain data for the the first column (province names in China). Following that, we only have country names. So it would make sense to group all the data from China into a single row. For this, we'll select from the `nbcases` array only the rows for which the second entry of the `locations` array corresponds to China. Next, we'll use the [numpy.sum](https://numpy.org/devdocs/reference/generated/numpy.sum.html#numpy.sum) function to sum all the selected rows (`axis=0`). Note also that row 35 corresponds to the total counts for the whole country for each date. Since we want to calculate the sum ourselves from the provinces data, we have to remove that row first from both `locations` and `nbcases`:"
   ]
  },
  {
   "cell_type": "code",
   "execution_count": null,
   "id": "8ef1b541",
   "metadata": {},
   "outputs": [],
   "source": [
    "totals_row = 35\n",
    "locations = np.delete(locations, (totals_row), axis=0)\n",
    "nbcases = np.delete(nbcases, (totals_row), axis=0)\n",
    "\n",
    "china_total = nbcases[locations[:, 1] == \"China\"].sum(axis=0)\n",
    "china_total"
   ]
  },
  {
   "cell_type": "markdown",
   "id": "1aa47c1b",
   "metadata": {},
   "source": [
    "Something's wrong with this data - we are not supposed to have negative values in a cumulative data set. What's going on?"
   ]
  },
  {
   "cell_type": "markdown",
   "id": "0cdc8ce5",
   "metadata": {},
   "source": [
    "## Missing data\n",
    "\n",
    "Looking at the data, here's what we find: there is a period with **missing data**:"
   ]
  },
  {
   "cell_type": "code",
   "execution_count": null,
   "id": "d216f379",
   "metadata": {},
   "outputs": [],
   "source": [
    "nbcases"
   ]
  },
  {
   "cell_type": "markdown",
   "id": "16bc412e",
   "metadata": {},
   "source": [
    "All the `-1` values we are seeing come from `numpy.genfromtxt` attempting to read missing data from the original `.csv` file. Obviously, we\n",
    "don't want to compute missing data as `-1` - we just want to skip this value so it doesn't interfere in our analysis. After importing the `numpy.ma` module, we'll create a new array, this time masking the invalid values:"
   ]
  },
  {
   "cell_type": "code",
   "execution_count": null,
   "id": "235eff8e",
   "metadata": {},
   "outputs": [],
   "source": [
    "from numpy import ma\n",
    "\n",
    "nbcases_ma = ma.masked_values(nbcases, -1)"
   ]
  },
  {
   "cell_type": "markdown",
   "id": "2be44def",
   "metadata": {},
   "source": [
    "If we look at the `nbcases_ma` masked array, this is what we have:"
   ]
  },
  {
   "cell_type": "code",
   "execution_count": null,
   "id": "d41f9e44",
   "metadata": {},
   "outputs": [],
   "source": [
    "nbcases_ma"
   ]
  },
  {
   "cell_type": "markdown",
   "id": "8d86782f",
   "metadata": {},
   "source": [
    "We can see that this is a different kind of array. As mentioned in the introduction, it has three attributes (`data`, `mask` and `fill_value`).\n",
    "Keep in mind that the `mask` attribute has a `True` value for elements corresponding to **invalid** data (represented by two dashes in the `data` attribute)."
   ]
  },
  {
   "cell_type": "markdown",
   "id": "5517ac3a",
   "metadata": {},
   "source": [
    "Let's try and see what the data looks like excluding the first row (data from the Hubei province in China) so we can look at the missing data more\n",
    "closely:"
   ]
  },
  {
   "cell_type": "code",
   "execution_count": null,
   "id": "48f5fdcf",
   "metadata": {},
   "outputs": [],
   "source": [
    "plt.plot(dates, nbcases_ma[1:].T, \"--\")\n",
    "plt.xticks(selected_dates, dates[selected_dates])\n",
    "plt.title(\"COVID-19 cumulative cases from Jan 21 to Feb 3 2020\")"
   ]
  },
  {
   "cell_type": "markdown",
   "id": "e284c991",
   "metadata": {},
   "source": [
    "Now that our data has been masked, let's try summing up all the cases in China:"
   ]
  },
  {
   "cell_type": "code",
   "execution_count": null,
   "id": "70474bbb",
   "metadata": {},
   "outputs": [],
   "source": [
    "china_masked = nbcases_ma[locations[:, 1] == \"China\"].sum(axis=0)\n",
    "china_masked"
   ]
  },
  {
   "cell_type": "markdown",
   "id": "548f7025",
   "metadata": {},
   "source": [
    "Note that `china_masked` is a masked array, so it has a different data structure than a regular NumPy array. Now, we can access its data directly by using the `.data` attribute:"
   ]
  },
  {
   "cell_type": "code",
   "execution_count": null,
   "id": "3a26a402",
   "metadata": {},
   "outputs": [],
   "source": [
    "china_total = china_masked.data\n",
    "china_total"
   ]
  },
  {
   "cell_type": "markdown",
   "id": "aa5a2125",
   "metadata": {},
   "source": [
    "That is better: no more negative values. However, we can still see that for some days, the cumulative number of cases seems to go down (from 835 to 10, for example), which does not agree with the definition of \"cumulative data\". If we look more closely at the data, we can see that in the period where there was missing data in mainland China, there was valid data for Hong Kong, Taiwan, Macau and \"Unspecified\" regions of China. Maybe we can remove those from the total sum of cases in China, to get a better understanding of the data.\n",
    "\n",
    "First, we'll identify the indices of locations in mainland China:"
   ]
  },
  {
   "cell_type": "code",
   "execution_count": null,
   "id": "2239b2b2",
   "metadata": {},
   "outputs": [],
   "source": [
    "china_mask = (\n",
    "    (locations[:, 1] == \"China\")\n",
    "    & (locations[:, 0] != \"Hong Kong\")\n",
    "    & (locations[:, 0] != \"Taiwan\")\n",
    "    & (locations[:, 0] != \"Macau\")\n",
    "    & (locations[:, 0] != \"Unspecified*\")\n",
    ")"
   ]
  },
  {
   "cell_type": "markdown",
   "id": "75f0923b",
   "metadata": {},
   "source": [
    "Now, `china_mask` is an array of boolean values (`True` or `False`); we can check that the indices are what we wanted with the [ma.nonzero](https://numpy.org/devdocs/reference/generated/numpy.ma.nonzero.html#numpy.ma.nonzero) method for masked arrays:"
   ]
  },
  {
   "cell_type": "code",
   "execution_count": null,
   "id": "0bc83f0b",
   "metadata": {},
   "outputs": [],
   "source": [
    "china_mask.nonzero()"
   ]
  },
  {
   "cell_type": "markdown",
   "id": "35cf4f15",
   "metadata": {},
   "source": [
    "Now we can correctly sum entries for mainland China:"
   ]
  },
  {
   "cell_type": "code",
   "execution_count": null,
   "id": "56544853",
   "metadata": {},
   "outputs": [],
   "source": [
    "china_total = nbcases_ma[china_mask].sum(axis=0)\n",
    "china_total"
   ]
  },
  {
   "cell_type": "markdown",
   "id": "2a60266a",
   "metadata": {},
   "source": [
    "We can replace the data with this information and plot a new graph, focusing on Mainland China:"
   ]
  },
  {
   "cell_type": "code",
   "execution_count": null,
   "id": "022eefe1",
   "metadata": {},
   "outputs": [],
   "source": [
    "plt.plot(dates, china_total.T, \"--\")\n",
    "plt.xticks(selected_dates, dates[selected_dates])\n",
    "plt.title(\"COVID-19 cumulative cases from Jan 21 to Feb 3 2020 - Mainland China\")"
   ]
  },
  {
   "cell_type": "markdown",
   "id": "919b4933",
   "metadata": {},
   "source": [
    "It's clear that masked arrays are the right solution here. We cannot represent the missing data without mischaracterizing the evolution of the curve."
   ]
  },
  {
   "cell_type": "markdown",
   "id": "4f1d4522",
   "metadata": {},
   "source": [
    "## Fitting Data\n",
    "\n",
    "One possibility we can think of is to interpolate the missing data to estimate the number of cases in late January. Observe that we can select the masked elements using the `.mask` attribute:"
   ]
  },
  {
   "cell_type": "code",
   "execution_count": null,
   "id": "27ca17f6",
   "metadata": {},
   "outputs": [],
   "source": [
    "china_total.mask\n",
    "invalid = china_total[china_total.mask]\n",
    "invalid"
   ]
  },
  {
   "cell_type": "markdown",
   "id": "061daa70",
   "metadata": {},
   "source": [
    "We can also access the valid entries by using the logical negation for this mask:"
   ]
  },
  {
   "cell_type": "code",
   "execution_count": null,
   "id": "2c00b7a9",
   "metadata": {},
   "outputs": [],
   "source": [
    "valid = china_total[~china_total.mask]\n",
    "valid"
   ]
  },
  {
   "cell_type": "markdown",
   "id": "536710c9",
   "metadata": {},
   "source": [
    "Now, if we want to create a very simple approximation for this data, we should take into account the valid entries around the invalid ones. So first let's select the dates for which the data is valid. Note that we can use the mask from the `china_total` masked array to index the dates array:"
   ]
  },
  {
   "cell_type": "code",
   "execution_count": null,
   "id": "d0181224",
   "metadata": {},
   "outputs": [],
   "source": [
    "dates[~china_total.mask]"
   ]
  },
  {
   "cell_type": "markdown",
   "id": "f8591c33",
   "metadata": {},
   "source": [
    "Finally, we can use the\n",
    "[fitting functionality of the numpy.polynomial](https://numpy.org/doc/stable/reference/generated/numpy.polynomial.polynomial.Polynomial.fit.html)\n",
    "package to create a cubic polynomial model that fits the data as best as possible:"
   ]
  },
  {
   "cell_type": "code",
   "execution_count": null,
   "id": "b7d4cee1",
   "metadata": {},
   "outputs": [],
   "source": [
    "t = np.arange(len(china_total))\n",
    "model = np.polynomial.Polynomial.fit(t[~china_total.mask], valid, deg=3)\n",
    "plt.plot(t, china_total)\n",
    "plt.plot(t, model(t), \"--\")"
   ]
  },
  {
   "cell_type": "markdown",
   "id": "b8553a55",
   "metadata": {},
   "source": [
    "This plot is not so readable since the lines seem to be over each other, so let's summarize in a more elaborate plot. We'll plot the real data when\n",
    "available, and show the cubic fit for unavailable data, using this fit to compute an estimate to the observed number of cases on January 28th 2020, 7 days after the beginning of the records:"
   ]
  },
  {
   "cell_type": "code",
   "execution_count": null,
   "id": "60f14996",
   "metadata": {},
   "outputs": [],
   "source": [
    "plt.plot(t, china_total)\n",
    "plt.plot(t[china_total.mask], model(t)[china_total.mask], \"--\", color=\"orange\")\n",
    "plt.plot(7, model(7), \"r*\")\n",
    "plt.xticks([0, 7, 13], dates[[0, 7, 13]])\n",
    "plt.yticks([0, model(7), 10000, 17500])\n",
    "plt.legend([\"Mainland China\", \"Cubic estimate\", \"7 days after start\"])\n",
    "plt.title(\n",
    "    \"COVID-19 cumulative cases from Jan 21 to Feb 3 2020 - Mainland China\\n\"\n",
    "    \"Cubic estimate for 7 days after start\"\n",
    ")"
   ]
  },
  {
   "cell_type": "markdown",
   "id": "f933dc92",
   "metadata": {},
   "source": [
    "## In practice"
   ]
  },
  {
   "cell_type": "markdown",
   "id": "13e8f7a3",
   "metadata": {},
   "source": [
    "- Adding `-1` to missing data is not a problem with `numpy.genfromtxt`; in this particular case, substituting the missing value with `0` might have been fine, but we'll see later that this is far from a general solution. Also, it is possible to call the `numpy.genfromtxt` function using the `usemask` parameter. If `usemask=True`, `numpy.genfromtxt` automatically returns a masked array."
   ]
  },
  {
   "cell_type": "markdown",
   "id": "e4ade569",
   "metadata": {},
   "source": [
    "## Further reading\n",
    "\n",
    "Topics not covered in this tutorial can be found in the documentation:\n",
    "\n",
    "- [Hardmasks](https://numpy.org/devdocs/reference/generated/numpy.ma.harden_mask.html#numpy.ma.harden_mask) vs. [softmasks](https://numpy.org/devdocs/reference/generated/numpy.ma.soften_mask.html#numpy.ma.soften_mask)\n",
    "- [The numpy.ma module](https://numpy.org/devdocs/reference/maskedarray.generic.html#maskedarray-generic)\n",
    "\n",
    "### Reference\n",
    "\n",
    "- Ensheng Dong, Hongru Du, Lauren Gardner, *An interactive web-based dashboard to track COVID-19 in real time*, The Lancet Infectious Diseases, Volume 20, Issue 5, 2020, Pages 533-534, ISSN 1473-3099, [https://doi.org/10.1016/S1473-3099(20)30120-1](https://doi.org/10.1016/S1473-3099(20)30120-1)."
   ]
  }
 ],
 "metadata": {
  "jupytext": {
   "formats": "ipynb,md:myst",
   "text_representation": {
    "extension": ".md",
    "format_name": "myst",
    "format_version": 0.13,
    "jupytext_version": "1.11.1"
   }
  },
  "kernelspec": {
   "display_name": "Python 3 (ipykernel)",
   "language": "python",
   "name": "python3"
  },
  "language_info": {
   "codemirror_mode": {
    "name": "ipython",
    "version": 3
   },
   "file_extension": ".py",
   "mimetype": "text/x-python",
   "name": "python",
   "nbconvert_exporter": "python",
   "pygments_lexer": "ipython3",
   "version": "3.9.7"
  },
  "source_map": [
   13,
   33,
   37,
   64,
   70,
   78,
   89,
   120,
   124,
   130,
   137,
   141,
   148,
   152,
   158,
   160,
   165,
   169,
   173,
   175,
   180,
   185,
   189,
   193,
   196,
   200,
   203,
   209,
   217,
   221,
   223,
   227,
   230,
   234,
   238,
   242,
   248,
   252,
   256,
   259,
   263,
   265,
   271,
   276,
   281,
   292,
   296,
   300
  ]
 },
 "nbformat": 4,
 "nbformat_minor": 5
}
