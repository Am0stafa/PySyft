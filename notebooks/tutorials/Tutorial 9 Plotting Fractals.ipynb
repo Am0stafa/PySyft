{
 "cells": [
  {
   "cell_type": "markdown",
   "id": "0700ae0f",
   "metadata": {},
   "source": [
    "# Plotting Fractals"
   ]
  },
  {
   "cell_type": "markdown",
   "id": "6315f76a",
   "metadata": {},
   "source": [
    "![Fractal picture](tutorial-plotting-fractals/fractal.png)"
   ]
  },
  {
   "cell_type": "markdown",
   "id": "8b429b9f",
   "metadata": {},
   "source": [
    "Fractals are beautiful, compelling mathematical forms that can be oftentimes created from a relatively simple set of instructions. In nature they can be found in various places, such as coastlines, seashells, and ferns, and even were used in creating certain types of antennas. The mathematical idea of fractals was known for quite some time, but they really began to be truly appreciated in the 1970's as advancements in computer graphics and some accidental discoveries lead researchers like [Benoît Mandelbrot](https://en.wikipedia.org/wiki/Benoit_Mandelbrot) to stumble upon the truly mystifying visualizations that fractals possess.\n",
    "\n",
    "Today we will learn how to plot these beautiful visualizations and will start to do a bit of exploring for ourselves as we gain familiarity of the mathematics behind fractals and will use the ever powerful NumPy universal functions to perform the necessary calculations efficiently."
   ]
  },
  {
   "cell_type": "markdown",
   "id": "83164488",
   "metadata": {},
   "source": [
    "## What you'll do\n",
    "\n",
    "- Write a function for plotting various Julia sets\n",
    "- Create a visualization of the Mandelbrot set\n",
    "- Write a function that computes Newton fractals\n",
    "- Experiment with variations of general fractal types"
   ]
  },
  {
   "cell_type": "markdown",
   "id": "9cd9a5a6",
   "metadata": {},
   "source": [
    "## What you'll learn\n",
    "\n",
    "- A better intuition for how fractals work mathematically\n",
    "- A basic understanding about NumPy universal functions and Boolean Indexing\n",
    "- The basics of working with complex numbers in NumPy\n",
    "- How to create your own unique fractal visualizations"
   ]
  },
  {
   "cell_type": "markdown",
   "id": "de4b702f",
   "metadata": {},
   "source": [
    "## What you'll need\n",
    "\n",
    "- [Matplotlib](https://matplotlib.org/)\n",
    "- `make_axis_locatable` function from mpl_toolkits API\n",
    "\n",
    "which can be imported as follows:"
   ]
  },
  {
   "cell_type": "code",
   "execution_count": null,
   "id": "f9f3ecec",
   "metadata": {},
   "outputs": [],
   "source": [
    "import numpy as np\n",
    "import matplotlib.pyplot as plt\n",
    "from mpl_toolkits.axes_grid1 import make_axes_locatable"
   ]
  },
  {
   "cell_type": "markdown",
   "id": "afcd6f25",
   "metadata": {},
   "source": [
    "- Some familiarity with Python, NumPy and matplotlib\n",
    "- An idea of elementary mathematical functions, such as [exponents](https://en.wikipedia.org/wiki/Exponential_function), [sin](https://en.wikipedia.org/wiki/Sine), [polynomials](https://en.wikipedia.org/wiki/Polynomial) etc\n",
    "- A very basic understanding of [complex numbers](https://en.wikipedia.org/wiki/Complex_number) would be useful\n",
    "- Knowledge of [derivatives](https://en.wikipedia.org/wiki/Derivative) may be helpful"
   ]
  },
  {
   "cell_type": "markdown",
   "id": "03752678",
   "metadata": {},
   "source": [
    "## Warmup\n",
    "\n",
    "To gain some intuition for what fractals are, we will begin with an example.\n",
    "\n",
    "Consider the following equation:\n",
    "\n",
    "$f(z) = z^2 -1 $\n",
    "\n",
    "where `z` is a complex number (i.e of the form $a + bi$ )\n",
    "\n",
    "For our convenience, we will write a Python function for it"
   ]
  },
  {
   "cell_type": "code",
   "execution_count": null,
   "id": "3c141361",
   "metadata": {},
   "outputs": [],
   "source": [
    "def f(z):\n",
    "    return np.square(z) - 1"
   ]
  },
  {
   "cell_type": "markdown",
   "id": "64ec5a88",
   "metadata": {},
   "source": [
    "Note that the square function we used is an example of a **[NumPy universal function](https://numpy.org/doc/stable/reference/ufuncs.html)**; we will come back to the significance of this decision shortly.\n",
    "\n",
    "To gain some intuition for the behaviour of the function, we can try plugging in some different values.\n",
    "\n",
    "For $z = 0$, we would expect to get $-1$:"
   ]
  },
  {
   "cell_type": "code",
   "execution_count": null,
   "id": "4bc1514e",
   "metadata": {},
   "outputs": [],
   "source": [
    "f(0)"
   ]
  },
  {
   "cell_type": "markdown",
   "id": "a9188f28",
   "metadata": {},
   "source": [
    "Since we used a universal function in our design, we can compute multiple inputs at the same time:"
   ]
  },
  {
   "cell_type": "code",
   "execution_count": null,
   "id": "f99b84ad",
   "metadata": {},
   "outputs": [],
   "source": [
    "z = [4, 1-0.2j, 1.6]\n",
    "f(z)"
   ]
  },
  {
   "cell_type": "markdown",
   "id": "7a2377f2",
   "metadata": {},
   "source": [
    "Some values grow, some values shrink, some don't experience much change.\n",
    "\n",
    "To see the behaviour of the function on a larger scale, we can apply the function to a subset of the complex plane and plot the result. To create our subset (or mesh), we can make use of the [**meshgrid**](https://numpy.org/doc/stable/reference/generated/numpy.meshgrid.html) function."
   ]
  },
  {
   "cell_type": "code",
   "execution_count": null,
   "id": "7e73ed91",
   "metadata": {},
   "outputs": [],
   "source": [
    "x, y = np.meshgrid(np.linspace(-10, 10, 20), np.linspace(-10, 10, 20))\n",
    "mesh = x + (1j * y)  # Make mesh of complex plane"
   ]
  },
  {
   "cell_type": "markdown",
   "id": "3f912421",
   "metadata": {},
   "source": [
    "Now we will apply our function to each value contained in the mesh. Since we used a universal function in our design, this means that we can pass in the entire mesh all at once. This is extremely convenient for two reasons: It reduces the amount of code needed to be written and greatly increases the efficiency (as universal functions make use of system level C programming in their computations).\n",
    "\n",
    "\n",
    "Here we plot the absolute value (or modulus) of each element in the mesh after one “iteration” of the function using a [**3D scatterplot**](https://matplotlib.org/2.0.2/mpl_toolkits/mplot3d/tutorial.html#scatter-plots):"
   ]
  },
  {
   "cell_type": "code",
   "execution_count": null,
   "id": "27918c69",
   "metadata": {},
   "outputs": [],
   "source": [
    "output = np.abs(f(mesh))  # Take the absolute value of the output (for plotting)\n",
    "\n",
    "fig = plt.figure()\n",
    "ax = plt.axes(projection='3d')\n",
    "\n",
    "ax.scatter(x, y, output, alpha=0.2)\n",
    "\n",
    "ax.set_xlabel('Real axis')\n",
    "ax.set_ylabel('Imaginary axis')\n",
    "ax.set_zlabel('Absolute value')\n",
    "ax.set_title('One Iteration: $ f(z) = z^2 - 1$');"
   ]
  },
  {
   "cell_type": "markdown",
   "id": "1440e61b",
   "metadata": {},
   "source": [
    "This gives us a rough idea of what one iteration of the function does. Certain areas (notably in the areas closest to $(0,0i)$) remain rather small while other areas grow quite considerably. Note that we lose information about the output by taking the absolute value, but it is the only way for us to be able to make a plot.\n",
    "\n",
    "Let’s see what happens when we apply 2 iterations to the mesh:"
   ]
  },
  {
   "cell_type": "code",
   "execution_count": null,
   "id": "1c7ad1b2",
   "metadata": {},
   "outputs": [],
   "source": [
    "output = np.abs(f(f(mesh)))\n",
    "\n",
    "ax = plt.axes(projection='3d')\n",
    "\n",
    "ax.scatter(x, y, output, alpha=0.2)\n",
    "\n",
    "ax.set_xlabel('Real axis')\n",
    "ax.set_ylabel('Imaginary axis')\n",
    "ax.set_zlabel('Absolute value')\n",
    "ax.set_title('Two Iterations: $ f(z) = z^2 - 1$');"
   ]
  },
  {
   "cell_type": "markdown",
   "id": "a63ea81a",
   "metadata": {},
   "source": [
    "Once again, we see that values around the origin remain small, and values with a larger absolute value (or modulus) “explode”.\n",
    "\n",
    "From first impression, its behaviour appears to be normal, and may even seem mundane. Fractals tend to have more to them then what meets the eye; the exotic behavior shows itself when we begin applying more iterations."
   ]
  },
  {
   "cell_type": "markdown",
   "id": "3faf6abe",
   "metadata": {},
   "source": [
    "Consider three complex numbers:\n",
    "\n",
    "$z_1 = 0.4 + 0.4i $,\n",
    "\n",
    "$z_2 = z_1 + 0.1$,\n",
    "\n",
    "$z_3 = z_1 + 0.1i$\n",
    "\n",
    "Given the shape of our first two plots, we would expect that these values would remain near the origin as we apply iterations to them. Let us see what happens when we apply 10 iterations to each value:"
   ]
  },
  {
   "cell_type": "code",
   "execution_count": null,
   "id": "d95dddcb",
   "metadata": {},
   "outputs": [],
   "source": [
    "selected_values = np.array([0.4 + 0.4j, 0.41 + 0.4j, 0.4 + 0.41j])\n",
    "num_iter = 9\n",
    "\n",
    "outputs = np.zeros((num_iter+1, selected_values.shape[0]), dtype=complex)\n",
    "outputs[0] = selected_values\n",
    "\n",
    "for i in range(num_iter):\n",
    "    outputs[i+1] = f(outputs[i])  # Apply 10 iterations, save each output\n",
    "\n",
    "fig, axes = plt.subplots(1, selected_values.shape[0], figsize=(16, 6))\n",
    "axes[1].set_xlabel('Real axis')\n",
    "axes[0].set_ylabel('Imaginary axis')\n",
    "\n",
    "for ax, data in zip(axes, outputs.T):\n",
    "    cycle = ax.scatter(data.real, data.imag, c=range(data.shape[0]), alpha=0.6)\n",
    "    ax.set_title(f'Mapping of iterations on {data[0]}')\n",
    "\n",
    "fig.colorbar(cycle, ax=axes, location=\"bottom\", label='Iteration');"
   ]
  },
  {
   "cell_type": "markdown",
   "id": "95b451ba",
   "metadata": {},
   "source": [
    "To our surprise, the behaviour of the function did not come close to matching our hypothesis. This is a prime example of the chaotic behaviour fractals possess. In the first two plots, the value \"exploded\" on the last iteration, jumping way beyond the region that it was contained in previously. The third plot on the other hand remained bounded to a small region close to the origin, yielding completely different behaviour despite the tiny change in value.\n",
    "\n",
    "This leads us to an extremely important question: **How many iterations can be applied to each value before they diverge (“explode”)?**\n",
    "\n",
    "As we saw from the first two plots, the further the values were from the origin, the faster they generally exploded. Although the behaviour is uncertain for smaller values (like $z_1, z_2, z_3$), we can assume that if a value surpasses a certain distance from the origin (say 2) that it is doomed to diverge. We will call this threshold the **radius**.\n",
    "\n",
    "This allows us to quantify the behaviour of the function for a particular value without having to perform as many computations. Once the radius is surpassed, we are allowed to stop iterating, which gives us a way of answering the question we posed. If we tally how many computations were applied before divergence, we gain insight into the behaviour of the function that would be hard to keep track of otherwise.\n",
    "\n",
    "Of course, we can do much better and design a function that performs the procedure on an entire mesh."
   ]
  },
  {
   "cell_type": "code",
   "execution_count": null,
   "id": "aba0d197",
   "metadata": {},
   "outputs": [],
   "source": [
    "def divergence_rate(mesh, num_iter=10, radius=2):\n",
    "\n",
    "    z = mesh.copy()\n",
    "    diverge_len = np.zeros(mesh.shape)  # Keep tally of the number of iterations\n",
    "\n",
    "    # Iterate on element if and only if |element| < radius (Otherwise assume divergence)\n",
    "    for i in range(num_iter):\n",
    "        conv_mask = np.abs(z) < radius\n",
    "        diverge_len[conv_mask] += 1\n",
    "        z[conv_mask] = f(z[conv_mask])\n",
    "\n",
    "    return diverge_len"
   ]
  },
  {
   "cell_type": "markdown",
   "id": "d09d3911",
   "metadata": {},
   "source": [
    "The behaviour of this function may look confusing at first glance, so it will help to explain some of the notation.\n",
    "\n",
    "Our goal is to iterate over each value in the mesh and to tally the number of iterations before the value diverges. Since some values will diverge quicker than others, we need a procedure that only iterates over values that have an absolute value that is sufficiently small enough. We also want to stop tallying values once they surpass the radius. For this, we can use **[Boolean Indexing](https://numpy.org/devdocs/reference/arrays.indexing.html#boolean-array-indexing)**, a NumPy feature that when paired with universal functions is unbeatable. Boolean Indexing allows for operations to be performed conditionally on a NumPy array without having to resort to looping over and checking for each array value individually.\n",
    "\n",
    "In our case, we use a loop to apply iterations to our function $f(z) = z^2 -1 $ and keep tally. Using Boolean indexing, we only apply the iterations to values that have an absolute value less than 2.\n",
    "\n",
    "With that out of the way, we can go about plotting our first fractal! We will use the [**imshow**](https://matplotlib.org/stable/api/_as_gen/matplotlib.pyplot.imshow.html) function to create a colour-coded visualization of the tallies."
   ]
  },
  {
   "cell_type": "code",
   "execution_count": null,
   "id": "1e6a727c",
   "metadata": {},
   "outputs": [],
   "source": [
    "x, y = np.meshgrid(np.linspace(-2, 2, 400), np.linspace(-2, 2, 400))\n",
    "mesh = x + (1j * y)\n",
    "\n",
    "output = divergence_rate(mesh)\n",
    "\n",
    "fig = plt.figure(figsize=(5, 5))\n",
    "ax = plt.axes()\n",
    "\n",
    "ax.set_title('$f(z) = z^2 -1$')\n",
    "ax.set_xlabel('Real axis')\n",
    "ax.set_ylabel('Imaginary axis')\n",
    "\n",
    "im = ax.imshow(output, extent=[-2, 2, -2, 2])\n",
    "divider = make_axes_locatable(ax)\n",
    "cax = divider.append_axes(\"right\", size=\"5%\", pad=0.1)\n",
    "plt.colorbar(im, cax=cax, label='Number of iterations');"
   ]
  },
  {
   "cell_type": "markdown",
   "id": "f9908abc",
   "metadata": {},
   "source": [
    "What this stunning visual conveys is the complexity of the function’s behaviour. The yellow region represents values that remain small, while the purple region represents the divergent values. The beautiful pattern that arises on the border of the converging and diverging values is even more fascinating when you realize that it is created from such a simple function."
   ]
  },
  {
   "cell_type": "markdown",
   "id": "c3927958",
   "metadata": {},
   "source": [
    "## Julia set\n",
    "\n",
    "What we just explored was an example of a fractal visualization of a specific Julia Set.\n",
    "\n",
    "Consider the function $f(z) = z^2 + c$ where $c$ is a complex number. The **filled-in Julia set** of $c$ is the set of all complex numbers `z` in which the function converges at $f(z)$. Likewise, the boundary of the filled-in Julia set is what we call the **Julia set**. In our above visualization, we can see that the yellow region represents an approximation of the filled-in Julia set for $c = -1$ and the greenish-yellow border would contain the Julia set.\n",
    "\n",
    "To gain access to a wider range of \"Julia fractals\", we can write a function that allows for different values of $c$ to be passed in:"
   ]
  },
  {
   "cell_type": "code",
   "execution_count": null,
   "id": "7ddbdf8d",
   "metadata": {},
   "outputs": [],
   "source": [
    "def julia(mesh, c=-1, num_iter=10, radius=2):\n",
    "\n",
    "    z = mesh.copy()\n",
    "    diverge_len = np.zeros(z.shape)\n",
    "\n",
    "    for i in range(num_iter):\n",
    "        conv_mask = np.abs(z) < radius\n",
    "        z[conv_mask] = np.square(z[conv_mask]) + c\n",
    "        diverge_len[conv_mask] += 1\n",
    "\n",
    "    return diverge_len"
   ]
  },
  {
   "cell_type": "markdown",
   "id": "bf392a1e",
   "metadata": {},
   "source": [
    "To make our lives easier, we will create a couple meshes that we will reuse throughout the rest of the examples:"
   ]
  },
  {
   "cell_type": "code",
   "execution_count": null,
   "id": "0180fb8a",
   "metadata": {},
   "outputs": [],
   "source": [
    "x, y = np.meshgrid(np.linspace(-1, 1, 400), np.linspace(-1, 1, 400))\n",
    "small_mesh = x + (1j * y)\n",
    "\n",
    "x, y = np.meshgrid(np.linspace(-2, 2, 400), np.linspace(-2, 2, 400))\n",
    "mesh = x + (1j * y)"
   ]
  },
  {
   "cell_type": "markdown",
   "id": "038f0191-3977-4984-99d4-d7bf772df8c9",
   "metadata": {},
   "source": [
    "## Upload to Domain Node"
   ]
  },
  {
   "cell_type": "code",
   "execution_count": null,
   "id": "82f2a418-2d83-4765-bb97-300da437ee4d",
   "metadata": {},
   "outputs": [],
   "source": [
    "from syft import Worker, Dataset, Asset\n",
    "from syft.client.client import SyftClient"
   ]
  },
  {
   "cell_type": "code",
   "execution_count": null,
   "id": "35543b60-4a07-4d6f-ab5a-bf616339a4b8",
   "metadata": {},
   "outputs": [],
   "source": [
    "w = Worker()\n",
    "client = SyftClient.from_node(w).login(email=\"info@openmined.org\", password=\"changethis\")"
   ]
  },
  {
   "cell_type": "code",
   "execution_count": null,
   "id": "49372b5a-46ea-4759-8ba0-7dc76d409093",
   "metadata": {},
   "outputs": [],
   "source": [
    "dataset = Dataset(\n",
    "    name=\"Fractals\", \n",
    "    description=\"Grid to visualize fractals\"\n",
    ")"
   ]
  },
  {
   "cell_type": "code",
   "execution_count": null,
   "id": "00f1dc11-77c9-4ef3-a0a9-5b3925fffa6a",
   "metadata": {},
   "outputs": [],
   "source": [
    "fractal_grid = Asset(\n",
    "    name=f\"Fractal Grid\", \n",
    "    data=mesh, \n",
    "    mock=mesh, \n",
    "    mock_is_real=True,\n",
    "    description=\"Grid to visualize fractals\"\n",
    ")"
   ]
  },
  {
   "cell_type": "code",
   "execution_count": null,
   "id": "6409070d-9fb6-41b0-8524-fec8d90b7ba2",
   "metadata": {},
   "outputs": [],
   "source": [
    "dataset.add_asset(fractal_grid)"
   ]
  },
  {
   "cell_type": "code",
   "execution_count": null,
   "id": "4800efc9-6f93-4fc8-b9ba-af0d487c2040",
   "metadata": {},
   "outputs": [],
   "source": [
    "dataset"
   ]
  },
  {
   "cell_type": "code",
   "execution_count": null,
   "id": "1777e6df-8fe2-4217-85a2-f4d5e2917473",
   "metadata": {},
   "outputs": [],
   "source": [
    "client.upload_dataset(dataset)"
   ]
  },
  {
   "cell_type": "markdown",
   "id": "65d3b170-d006-4064-ad37-40427810eca0",
   "metadata": {},
   "source": [
    "## Continuing On"
   ]
  },
  {
   "cell_type": "markdown",
   "id": "2bc15096",
   "metadata": {},
   "source": [
    "We will also write a function that we will use to create our fractal plots:"
   ]
  },
  {
   "cell_type": "code",
   "execution_count": null,
   "id": "e994e6cb",
   "metadata": {},
   "outputs": [],
   "source": [
    "def plot_fractal(fractal, title='Fractal', figsize=(6, 6), cmap='rainbow', extent=[-2, 2, -2, 2]):\n",
    "\n",
    "    plt.figure(figsize=figsize)\n",
    "    ax = plt.axes()\n",
    "\n",
    "    ax.set_title(f'${title}$')\n",
    "    ax.set_xlabel('Real axis')\n",
    "    ax.set_ylabel('Imaginary axis')\n",
    "\n",
    "    im = ax.imshow(fractal, extent=extent, cmap=cmap)\n",
    "    divider = make_axes_locatable(ax)\n",
    "    cax = divider.append_axes(\"right\", size=\"5%\", pad=0.1)\n",
    "    plt.colorbar(im, cax=cax, label='Number of iterations')"
   ]
  },
  {
   "cell_type": "markdown",
   "id": "7a75e52b",
   "metadata": {},
   "source": [
    "Using our newly defined functions, we can make a quick plot of the first fractal again:"
   ]
  },
  {
   "cell_type": "code",
   "execution_count": null,
   "id": "f91e474a",
   "metadata": {},
   "outputs": [],
   "source": [
    "output = julia(mesh, num_iter=15)\n",
    "kwargs = {'title': 'f(z) = z^2 -1'}\n",
    "\n",
    "plot_fractal(output, **kwargs);"
   ]
  },
  {
   "cell_type": "markdown",
   "id": "1c86434d",
   "metadata": {},
   "source": [
    "We also can explore some different Julia sets by experimenting with different values of $c$. It can be surprising how much influence it has on the shape of the fractal.\n",
    "\n",
    "For example, setting $c = \\frac{\\pi}{10}$ gives us a very elegant cloud shape, while setting c = $-\\frac{3}{4} + 0.4i$ yields a completely different pattern."
   ]
  },
  {
   "cell_type": "code",
   "execution_count": null,
   "id": "367d0c86",
   "metadata": {},
   "outputs": [],
   "source": [
    "output = julia(mesh, c=np.pi/10, num_iter=20)\n",
    "kwargs = {'title': 'f(z) = z^2 + \\dfrac{\\pi}{10}', 'cmap': 'plasma'}\n",
    "\n",
    "plot_fractal(output, **kwargs);"
   ]
  },
  {
   "cell_type": "code",
   "execution_count": null,
   "id": "bb16dee8",
   "metadata": {},
   "outputs": [],
   "source": [
    "output = julia(mesh, c=-0.75 + 0.4j, num_iter=20)\n",
    "kwargs = {'title': 'f(z) = z^2 - \\dfrac{3}{4} + 0.4i', 'cmap': 'Greens_r'}\n",
    "\n",
    "plot_fractal(output, **kwargs);"
   ]
  },
  {
   "cell_type": "markdown",
   "id": "f0bafb02",
   "metadata": {},
   "source": [
    "## Mandelbrot set\n",
    "\n",
    "Closely related to the Julia set is the famous **Mandelbrot set**, which has a slightly different definition. Once again, we define $f(z) = z^2 + c$ where $c$ is a complex number, but this time our focus is on our choice of $c$. We say that $c$ is an element of the Mandelbrot set if f converges at $z = 0$. An equivalent definition is to say that $c$ is an element of the Mandelbrot set if $f(c)$ can be iterated infinitely and not 'explode'. We will tweak our Julia function slightly (and rename it appropriately) so that we can plot a visualization of the Mandelbrot set, which possesses an elegant fractal pattern."
   ]
  },
  {
   "cell_type": "code",
   "execution_count": null,
   "id": "4bc02432",
   "metadata": {},
   "outputs": [],
   "source": [
    "def mandelbrot(mesh, num_iter=10, radius=2):\n",
    "\n",
    "    c = mesh.copy()\n",
    "    z = np.zeros(mesh.shape, dtype=np.complex128)\n",
    "    diverge_len = np.zeros(z.shape)\n",
    "\n",
    "    for i in range(num_iter):\n",
    "        conv_mask = np.abs(z) < radius\n",
    "        z[conv_mask] = np.square(z[conv_mask]) + c[conv_mask]\n",
    "        diverge_len[conv_mask] += 1\n",
    "\n",
    "    return diverge_len"
   ]
  },
  {
   "cell_type": "code",
   "execution_count": null,
   "id": "73c1c8db",
   "metadata": {},
   "outputs": [],
   "source": [
    "output = mandelbrot(mesh, num_iter=50)\n",
    "kwargs = {'title': 'Mandelbrot \\ set', 'cmap': 'hot'}\n",
    "\n",
    "plot_fractal(output, **kwargs);"
   ]
  },
  {
   "cell_type": "markdown",
   "id": "e58a593a",
   "metadata": {},
   "source": [
    "## Generalizing the Julia set\n",
    "\n",
    "We can generalize our Julia function even further by giving it a parameter for which universal function we would like to pass in. This would allow us to plot fractals of the form $f(z) = g(z) + c$ where g is a universal function selected by us."
   ]
  },
  {
   "cell_type": "code",
   "execution_count": null,
   "id": "6562013d",
   "metadata": {},
   "outputs": [],
   "source": [
    "def general_julia(mesh, c=-1, f=np.square, num_iter=100, radius=2):\n",
    "\n",
    "    z = mesh.copy()\n",
    "    diverge_len = np.zeros(z.shape)\n",
    "\n",
    "    for i in range(num_iter):\n",
    "        conv_mask = np.abs(z) < radius\n",
    "        z[conv_mask] = f(z[conv_mask]) + c\n",
    "        diverge_len[conv_mask] += 1\n",
    "\n",
    "    return diverge_len"
   ]
  },
  {
   "cell_type": "markdown",
   "id": "c9b57aad",
   "metadata": {},
   "source": [
    "One cool set of fractals that can be plotted using our general Julia function are ones of the form $f(z) = z^n + c$ for some positive integer $n$. A very cool pattern which emerges is that the number of regions that 'stick out' matches the degree in which we raise the function to while iterating over it."
   ]
  },
  {
   "cell_type": "code",
   "execution_count": null,
   "id": "6b3c9ded",
   "metadata": {},
   "outputs": [],
   "source": [
    "fig, axes = plt.subplots(2, 3, figsize=(8, 8))\n",
    "base_degree = 2\n",
    "\n",
    "for deg, ax in enumerate(axes.ravel()):\n",
    "    degree = base_degree + deg\n",
    "    power = lambda z: np.power(z, degree)  # Create power function for current degree\n",
    "\n",
    "    diverge_len = general_julia(mesh, f=power, num_iter=15)\n",
    "    ax.imshow(diverge_len, extent=[-2, 2, -2, 2], cmap='binary')\n",
    "    ax.set_title(f'$f(z) = z^{degree} -1$')\n",
    "\n",
    "fig.tight_layout();"
   ]
  },
  {
   "cell_type": "markdown",
   "id": "331785e5",
   "metadata": {},
   "source": [
    "Needless to say, there is a large amount of exploring that can be done by fiddling with the inputted function, value of $c$, number of iterations, radius and even the density of the mesh and choice of colours."
   ]
  },
  {
   "cell_type": "markdown",
   "id": "91743494",
   "metadata": {},
   "source": [
    "### Newton Fractals\n",
    "\n",
    "Newton fractals are a specific class of fractals, where iterations involve adding or subtracting the ratio of a function (often a polynomial) and its derivative to the input values. Mathematically, it can be expressed as:\n",
    "\n",
    "$z := z - \\frac{f(z)}{f'(z)}$\n",
    "\n",
    "We will define a general version of the fractal which will allow for different variations to be plotted by passing in our functions of choice."
   ]
  },
  {
   "cell_type": "code",
   "execution_count": null,
   "id": "6504272d",
   "metadata": {},
   "outputs": [],
   "source": [
    "def newton_fractal(mesh, f, df, num_iter=10, r=2):\n",
    "\n",
    "    z = mesh.copy()\n",
    "    diverge_len = np.zeros(z.shape)\n",
    "\n",
    "    for i in range(num_iter):\n",
    "        conv_mask = np.abs(z) < r\n",
    "        pz = f(z[conv_mask])\n",
    "        dp = df(z[conv_mask])\n",
    "        z[conv_mask] = z[conv_mask] - pz/dp\n",
    "        diverge_len[conv_mask] += 1\n",
    "\n",
    "    return diverge_len"
   ]
  },
  {
   "cell_type": "markdown",
   "id": "3851ff51",
   "metadata": {},
   "source": [
    "Now we can experiment with some different functions. For polynomials, we can create our plots quite effortlessly using the [NumPy Polynomial class](https://numpy.org/doc/stable/reference/generated/numpy.polynomial.polynomial.Polynomial.html), which has built in functionality for computing derivatives.\n",
    "\n",
    "For example, let's try a higher-degree polynomial:"
   ]
  },
  {
   "cell_type": "code",
   "execution_count": null,
   "id": "baab57a5",
   "metadata": {},
   "outputs": [],
   "source": [
    "p = np.polynomial.Polynomial([-16, 0, 0, 0, 15, 0, 0, 0, 1])\n",
    "p"
   ]
  },
  {
   "cell_type": "markdown",
   "id": "245d3fa7",
   "metadata": {},
   "source": [
    "which has the derivative:"
   ]
  },
  {
   "cell_type": "code",
   "execution_count": null,
   "id": "95c84051",
   "metadata": {},
   "outputs": [],
   "source": [
    "p.deriv()"
   ]
  },
  {
   "cell_type": "code",
   "execution_count": null,
   "id": "5eecabbf",
   "metadata": {},
   "outputs": [],
   "source": [
    "output = newton_fractal(mesh, p, p.deriv(), num_iter=15, r=2)\n",
    "kwargs = {'title': 'f(z) = z - \\dfrac{(z^8 + 15z^4 - 16)}{(8z^7 + 60z^3)}', 'cmap': 'copper'}\n",
    "\n",
    "plot_fractal(output, **kwargs)"
   ]
  },
  {
   "cell_type": "markdown",
   "id": "0b4fbbe8",
   "metadata": {},
   "source": [
    "Beautiful! Let's try another one:\n",
    "\n",
    "f(z) = $tan^2(z)$\n",
    "\n",
    "$\\frac{df}{dz} = 2 \\cdot tan(z) sec^2(z) =\\frac{2 \\cdot tan(z)}{cos^2(z)}$\n",
    "\n",
    "This makes $\\frac{f(z)}{f'(z)} =  tan^2(z) \\cdot \\frac{cos^2(z)}{2 \\cdot tan(z)} = \\frac{tan(z)\\cdot cos^2(z)}{2} = \\frac{sin(z)\\cdot cos(z)}{2}$"
   ]
  },
  {
   "cell_type": "code",
   "execution_count": null,
   "id": "fbb88620",
   "metadata": {},
   "outputs": [],
   "source": [
    "def f_tan(z):\n",
    "    return np.square(np.tan(z))\n",
    "\n",
    "\n",
    "def d_tan(z):\n",
    "    return 2*np.tan(z) / np.square(np.cos(z))"
   ]
  },
  {
   "cell_type": "code",
   "execution_count": null,
   "id": "6008a166",
   "metadata": {},
   "outputs": [],
   "source": [
    "output = newton_fractal(mesh, f_tan, d_tan, num_iter=15, r=50)\n",
    "kwargs = {'title': 'f(z) = z - \\dfrac{sin(z)cos(z)}{2}', 'cmap': 'binary'}\n",
    "\n",
    "plot_fractal(output, **kwargs);"
   ]
  },
  {
   "cell_type": "markdown",
   "id": "ebdc9cd5",
   "metadata": {},
   "source": [
    "Note that you sometimes have to play with the radius in order to get a neat looking fractal.\n",
    "\n",
    "Finally, we can go a little bit wild with our function selection\n",
    "\n",
    "$f(z) = \\sum_{i=1}^{10} sin^i(z)$\n",
    "\n",
    "$\\frac{df}{dz} = \\sum_{i=1}^{10} i \\cdot sin^{i-1}(z) \\cdot cos(z)$"
   ]
  },
  {
   "cell_type": "code",
   "execution_count": null,
   "id": "16843b34",
   "metadata": {},
   "outputs": [],
   "source": [
    "def sin_sum(z, n=10):\n",
    "    total = np.zeros(z.size, dtype=z.dtype)\n",
    "    for i in range(1, n+1):\n",
    "        total += np.power(np.sin(z), i)\n",
    "    return total\n",
    "\n",
    "\n",
    "def d_sin_sum(z, n=10):\n",
    "    total = np.zeros(z.size, dtype=z.dtype)\n",
    "    for i in range(1, n+1):\n",
    "        total += i * np.power(np.sin(z), i-1) * np.cos(z)\n",
    "    return total"
   ]
  },
  {
   "cell_type": "markdown",
   "id": "93d814d2",
   "metadata": {},
   "source": [
    "We will denote this one 'Wacky fractal', as its equation would not be fun to try and put in the title."
   ]
  },
  {
   "cell_type": "code",
   "execution_count": null,
   "id": "c7b528af",
   "metadata": {},
   "outputs": [],
   "source": [
    "output = newton_fractal(small_mesh, sin_sum, d_sin_sum, num_iter=10, r=1)\n",
    "kwargs = {'title': 'Wacky \\ fractal', 'figsize': (6, 6), 'extent': [-1, 1, -1, 1], 'cmap': 'terrain'}\n",
    "\n",
    "plot_fractal(output, **kwargs)"
   ]
  },
  {
   "cell_type": "markdown",
   "id": "131ca97f",
   "metadata": {},
   "source": [
    "It is truly fascinating how distinct yet similar these fractals are with each other. This leads us to the final section."
   ]
  },
  {
   "cell_type": "markdown",
   "id": "d6d62bef",
   "metadata": {},
   "source": [
    "## Creating your own fractals\n",
    "\n",
    "\n",
    "What makes fractals more exciting is how much there is to explore once you become familiar with the basics. Now we will wrap up our tutorial by exploring some of the different ways one can experiment in creating unique fractals. I encourage you to try some things out on your own (if you have not done so already).\n",
    "\n",
    "One of the first places to experiment would be with the function for the generalized Julia set, where we can try passing in different functions as parameters.\n",
    "\n",
    "Let's start by choosing\n",
    "\n",
    "$f(z) = tan(z^2)$"
   ]
  },
  {
   "cell_type": "code",
   "execution_count": null,
   "id": "85b52417",
   "metadata": {},
   "outputs": [],
   "source": [
    "def f(z):\n",
    "    return np.tan(np.square(z))"
   ]
  },
  {
   "cell_type": "code",
   "execution_count": null,
   "id": "f10a325f",
   "metadata": {},
   "outputs": [],
   "source": [
    "output = general_julia(mesh, f=f, num_iter=15, radius=2.1)\n",
    "kwargs = {'title': 'f(z) = tan(z^2)', 'cmap': 'gist_stern'}\n",
    "\n",
    "plot_fractal(output, **kwargs);"
   ]
  },
  {
   "cell_type": "markdown",
   "id": "1515c6ce",
   "metadata": {},
   "source": [
    "What happens if we compose our defined function inside of a sine function?\n",
    "\n",
    "Let's try defining\n",
    "\n",
    "$g(z) = sin(f(z)) = sin(tan(z^2))$"
   ]
  },
  {
   "cell_type": "code",
   "execution_count": null,
   "id": "69fc18d1",
   "metadata": {},
   "outputs": [],
   "source": [
    "def g(z):\n",
    "    return np.sin(f(z))"
   ]
  },
  {
   "cell_type": "code",
   "execution_count": null,
   "id": "0ac4a0cd",
   "metadata": {},
   "outputs": [],
   "source": [
    "output = general_julia(mesh, f=g, num_iter=15, radius=2.1)\n",
    "kwargs = {'title': 'g(z) = sin(tan(z^2))', 'cmap': 'plasma_r'}\n",
    "\n",
    "plot_fractal(output, **kwargs);"
   ]
  },
  {
   "cell_type": "markdown",
   "id": "342e8d48",
   "metadata": {},
   "source": [
    "Next, let's create a function that applies both f and g to the inputs each iteration and adds the result together:\n",
    "\n",
    "$h(z) = f(z) + g(z) = tan(z^2) + sin(tan(z^2))$"
   ]
  },
  {
   "cell_type": "code",
   "execution_count": null,
   "id": "38c34638",
   "metadata": {},
   "outputs": [],
   "source": [
    "def h(z):\n",
    "    return f(z) + g(z)"
   ]
  },
  {
   "cell_type": "code",
   "execution_count": null,
   "id": "8b7840d4",
   "metadata": {},
   "outputs": [],
   "source": [
    "output = general_julia(small_mesh, f=h, num_iter=10, radius=2.1)\n",
    "kwargs = {'title': 'h(z) = tan(z^2) + sin(tan(z^2))', 'figsize': (7, 7), 'extent': [-1, 1, -1, 1], 'cmap': 'jet'}\n",
    "\n",
    "plot_fractal(output, **kwargs);"
   ]
  },
  {
   "cell_type": "markdown",
   "id": "c1aea125",
   "metadata": {},
   "source": [
    "You can even create beautiful fractals through your own errors. Here is one that got created accidently by making a mistake in computing the derivative of a Newton fractal:"
   ]
  },
  {
   "cell_type": "code",
   "execution_count": null,
   "id": "5ae1386c",
   "metadata": {},
   "outputs": [],
   "source": [
    "def accident(z):\n",
    "    return z - (2 * np.power(np.tan(z), 2) / (np.sin(z) * np.cos(z)))"
   ]
  },
  {
   "cell_type": "code",
   "execution_count": null,
   "id": "5a4f710b",
   "metadata": {},
   "outputs": [],
   "source": [
    "output = general_julia(mesh, f=accident, num_iter=15, c=0, radius=np.pi)\n",
    "kwargs = {'title': 'Accidental \\ fractal', 'cmap': 'Blues'}\n",
    "\n",
    "plot_fractal(output, **kwargs);"
   ]
  },
  {
   "cell_type": "markdown",
   "id": "98178bae",
   "metadata": {},
   "source": [
    "Needless to say, there are a nearly endless supply of interesting fractal creations that can be made just by playing around with various combinations of NumPy universal functions and by tinkering with the parameters."
   ]
  },
  {
   "cell_type": "markdown",
   "id": "c3b9a898",
   "metadata": {},
   "source": [
    "## In conclusion\n",
    "\n",
    "We learned a lot about generating fractals today. We saw how complicated fractals requiring many iterations could be computed efficiently using universal functions. We also took advantage of boolean indexing, which allowed for less computations to be made without having to individually verify each value. Finally, we learned a lot about fractals themselves. As a recap:\n",
    "\n",
    "- Fractal images are created by iterating a function over a set of values, and keeping tally of how long it takes for each value to pass a certain threshold\n",
    "- The colours in the image correspond to the tally counts of the values\n",
    "- The filled-in Julia set for $c$ consists of all complex numbers `z` in which $f(z) = z^2 + c$ converges\n",
    "- The Julia set for $c$ is the set of complex numbers that make up the boundary of the filled-in Julia set\n",
    "- The Mandelbrot set is all values $c$ in which $f(z) = z^2 + c$ converges at 0\n",
    "- Newton fractals use functions of the form $f(z) = z - \\frac{p(z)}{p'(z)}$\n",
    "- The fractal images can vary as you adjust the number of iterations, radius of convergence, mesh size, colours, function choice and parameter choice"
   ]
  },
  {
   "cell_type": "markdown",
   "id": "2f5b465f",
   "metadata": {},
   "source": [
    "## On your own\n",
    "\n",
    "- Play around with the parameters of the generalized Julia set function, try playing with the constant value, number of iterations, function choice, radius, and colour choice.\n",
    "\n",
    "- Visit the “List of fractals by Hausdorff dimension” Wikipedia page (linked in the Further reading section) and try writing a function for a fractal not mentioned in this tutorial."
   ]
  },
  {
   "cell_type": "markdown",
   "id": "eb2fdc27",
   "metadata": {},
   "source": [
    "## Further reading\n",
    "\n",
    "- [More information on the theory behind fractals](https://en.wikipedia.org/wiki/Fractal)\n",
    "- [Further reading on Julia sets](https://en.wikipedia.org/wiki/Julia_set)\n",
    "- [More details about the Mandelbrot set](https://en.wikipedia.org/wiki/Mandelbrot_set)\n",
    "- [A more complete treatment of Newton Fractals](https://en.wikipedia.org/wiki/Newton_fractal)\n",
    "- [A list of different fractals](https://en.wikipedia.org/wiki/List_of_fractals_by_Hausdorff_dimension)"
   ]
  }
 ],
 "metadata": {
  "jupytext": {
   "formats": "ipynb,md:myst",
   "text_representation": {
    "extension": ".md",
    "format_name": "myst",
    "format_version": 0.13,
    "jupytext_version": "1.11.4"
   }
  },
  "kernelspec": {
   "display_name": "Python 3 (ipykernel)",
   "language": "python",
   "name": "python3"
  },
  "language_info": {
   "codemirror_mode": {
    "name": "ipython",
    "version": 3
   },
   "file_extension": ".py",
   "mimetype": "text/x-python",
   "name": "python",
   "nbconvert_exporter": "python",
   "pygments_lexer": "ipython3",
   "version": "3.9.7"
  },
  "source_map": [
   13,
   17,
   21,
   27,
   36,
   45,
   54,
   58,
   65,
   79,
   82,
   90,
   92,
   96,
   99,
   105,
   108,
   115,
   127,
   133,
   144,
   150,
   162,
   181,
   193,
   206,
   216,
   233,
   237,
   247,
   259,
   263,
   269,
   273,
   287,
   291,
   296,
   302,
   309,
   314,
   320,
   335,
   340,
   346,
   358,
   362,
   375,
   379,
   389,
   403,
   409,
   412,
   416,
   420,
   425,
   435,
   444,
   449,
   459,
   472,
   476,
   481,
   485,
   498,
   503,
   508,
   516,
   521,
   526,
   532,
   537,
   542,
   546,
   551,
   556,
   560,
   574,
   582
  ]
 },
 "nbformat": 4,
 "nbformat_minor": 5
}
