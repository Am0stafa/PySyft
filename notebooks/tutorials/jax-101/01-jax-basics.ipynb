{
 "cells": [
  {
   "attachments": {},
   "cell_type": "markdown",
   "metadata": {},
   "source": [
    "# JAX 101 - 01 Jax Basics\n",
    "Link to the original JAX tutorial: https://jax.readthedocs.io/en/latest/jax-101/01-jax-basics.html"
   ]
  },
  {
   "attachments": {},
   "cell_type": "markdown",
   "metadata": {},
   "source": [
    "## Part 1 - Data Owner Setup"
   ]
  },
  {
   "cell_type": "code",
   "execution_count": null,
   "metadata": {
    "tags": []
   },
   "outputs": [],
   "source": [
    "# Import the necessary libraries\n",
    "import syft as sy\n",
    "sy.requires(\">=0.8,<0.9\")\n",
    "\n",
    "import jax\n",
    "import jax.numpy as jnp\n",
    "import numpy as np"
   ]
  },
  {
   "cell_type": "code",
   "execution_count": null,
   "metadata": {
    "tags": []
   },
   "outputs": [],
   "source": [
    "# Launch the domain\n",
    "node = sy.orchestra.launch(name=\"test-domain-1\", port=8080, reset=True)\n",
    "data_owner_client = node.login(email=\"info@openmined.org\", password=\"changethis\")"
   ]
  },
  {
   "cell_type": "code",
   "execution_count": null,
   "metadata": {
    "tags": []
   },
   "outputs": [],
   "source": [
    "# Add a dummy data subject\n",
    "dummy_data_subject = sy.DataSubject(name=\"Dummy\", aliases=[\"dummy\"])\n",
    "dummy_member = sy.DataSubject(name=\"Dummy Member\", aliases=[\"dummy:member\"])\n",
    "dummy_data_subject.add_member(dummy_member)\n",
    "registry = data_owner_client.data_subject_registry\n",
    "response = registry.add_data_subject(dummy_data_subject)\n",
    "response"
   ]
  },
  {
   "cell_type": "code",
   "execution_count": null,
   "metadata": {
    "tags": []
   },
   "outputs": [],
   "source": [
    "# Check the data subjects\n",
    "data_subjects = data_owner_client.api.services.data_subject.get_all()\n",
    "data_subjects"
   ]
  },
  {
   "cell_type": "code",
   "execution_count": null,
   "metadata": {
    "tags": []
   },
   "outputs": [],
   "source": [
    "# Add the needed data for the tutorial\n",
    "# Optional add description, citation, url, contributors\n",
    "dataset = sy.Dataset(name=\"JAX - Chapter 1 data\")\n",
    "dataset.set_description(\"Dummy dataset for Chapter 1\")\n",
    "sos_asset = sy.Asset(name='sum-of-squares-data')\n",
    "sos_asset.set_description(\"dummy array for the first set of functions\")\n",
    "sos_asset.set_obj(np.array([1.0, 2.0, 3.0, 4.0]))\n",
    "sos_asset.set_mock(np.array([1.0, 1.0, 1.0, 1.0]), mock_is_real=False)\n",
    "sos_asset.add_data_subject(dummy_data_subject)\n",
    "sos_asset.set_shape((4,))\n",
    "dataset.add_asset(sos_asset)"
   ]
  },
  {
   "cell_type": "code",
   "execution_count": null,
   "metadata": {
    "tags": []
   },
   "outputs": [],
   "source": [
    "# Generate Training data \n",
    "import numpy as np\n",
    "import matplotlib.pyplot as plt\n",
    "\n",
    "xs = np.random.normal(size=(100,))\n",
    "noise = np.random.normal(scale=0.1, size=(100,))\n",
    "ys = xs * 3 - 1 + noise\n",
    "\n",
    "plt.scatter(xs, ys)"
   ]
  },
  {
   "cell_type": "code",
   "execution_count": null,
   "metadata": {
    "tags": []
   },
   "outputs": [],
   "source": [
    "# Add that data to the dataset\n",
    "x_asset = sy.Asset(name='xs')\n",
    "x_asset.set_description(\"xs\")\n",
    "x_asset.set_obj(xs)\n",
    "x_asset.set_mock(xs, mock_is_real=True)\n",
    "x_asset.add_data_subject(dummy_data_subject)\n",
    "x_asset.set_shape((100,))\n",
    "dataset.add_asset(x_asset)\n",
    "\n",
    "y_asset = sy.Asset(name='ys')\n",
    "y_asset.set_description(\"ys\")\n",
    "y_asset.set_obj(ys)\n",
    "y_asset.set_mock(ys, mock_is_real=True)\n",
    "y_asset.add_data_subject(dummy_data_subject)\n",
    "y_asset.set_shape((100,))\n",
    "dataset.add_asset(y_asset)"
   ]
  },
  {
   "cell_type": "code",
   "execution_count": null,
   "metadata": {
    "tags": []
   },
   "outputs": [],
   "source": [
    "# Upload the dataset\n",
    "data_owner_client.upload_dataset(dataset)"
   ]
  },
  {
   "attachments": {},
   "cell_type": "markdown",
   "metadata": {},
   "source": [
    "## Part 2 - Data Scientist"
   ]
  },
  {
   "cell_type": "code",
   "execution_count": null,
   "metadata": {
    "tags": []
   },
   "outputs": [],
   "source": [
    "# Register a client to the domain\n",
    "data_scientist_client = node.client\n",
    "data_scientist_client.register(\n",
    "    name=\"Jane Doe\", email=\"jane@caltech.edu\", password=\"abc123\",\n",
    "    institution=\"Caltech\", website=\"https://www.caltech.edu/\"\n",
    ")\n",
    "data_scientist_client.login(email=\"jane@caltech.edu\", password=\"abc123\")"
   ]
  },
  {
   "cell_type": "code",
   "execution_count": null,
   "metadata": {
    "tags": []
   },
   "outputs": [],
   "source": [
    "# Inspect available data\n",
    "results = data_scientist_client.api.services.dataset.get_all()\n",
    "dataset = results[0]\n",
    "mock = dataset.assets[0].mock\n",
    "xs = dataset.assets[1]\n",
    "ys = dataset.assets[2]"
   ]
  },
  {
   "cell_type": "code",
   "execution_count": null,
   "metadata": {
    "tags": []
   },
   "outputs": [],
   "source": [
    "# Create a function for code execution\n",
    "# ATTENTION: ALL LIBRARIES USED SHOULD BE DEFINED INSIDE THE FUNCTION CONTEXT!!!\n",
    "\n",
    "@sy.syft_function(input_policy=sy.ExactMatch(),\n",
    "                  output_policy=sy.SingleExecutionExactOutput())\n",
    "def func():\n",
    "    import jax.numpy as jnp\n",
    "    x = jnp.arange(10)\n",
    "    return x\n",
    "\n",
    "@sy.syft_function(input_policy=sy.ExactMatch(),\n",
    "                  output_policy=sy.SingleExecutionExactOutput())\n",
    "def func_timeit():\n",
    "    import jax.numpy as jnp\n",
    "    long_vector = jnp.arange(int(1e7))\n",
    "    %timeit jnp.dot(long_vector, long_vector).block_until_ready()\n",
    "    \n",
    "@sy.syft_function(input_policy=sy.ExactMatch(x=mock),\n",
    "                  output_policy=sy.SingleExecutionExactOutput())\n",
    "def func_sum_of_squares(x):\n",
    "    import jax\n",
    "    import jax.numpy as jnp\n",
    "    \n",
    "    def sum_of_squares(x):\n",
    "        return jnp.sum(x**2)\n",
    "    sum_of_squares_dx = jax.grad(sum_of_squares)\n",
    "    return sum_of_squares(x), sum_of_squares_dx(x)\n",
    "\n",
    "@sy.syft_function(input_policy=sy.ExactMatch(x=mock),\n",
    "                  output_policy=sy.SingleExecutionExactOutput())\n",
    "def func_sum_squared_error(x):\n",
    "    import jax\n",
    "    import jax.numpy as jnp\n",
    "    \n",
    "    def sum_squared_error(x, y):\n",
    "        return jnp.sum((x-y)**2)\n",
    "    sum_squared_error_dx = jax.grad(sum_squared_error)\n",
    "    y = jnp.asarray([1.1, 2.1, 3.1, 4.1])\n",
    "    return sum_squared_error_dx(x, y), jax.grad(sum_squared_error, argnums=(0, 1))(x, y)\n",
    "\n",
    "\n",
    "@sy.syft_function(input_policy=sy.ExactMatch(x=mock),\n",
    "                  output_policy=sy.SingleExecutionExactOutput())\n",
    "def func_sum_squared_error_with_aux(x):\n",
    "    import jax\n",
    "    import jax.numpy as jnp\n",
    "    \n",
    "    def sum_squared_error(x, y):\n",
    "        return jnp.sum((x-y)**2)\n",
    "    \n",
    "    def squared_error_with_aux(x, y):\n",
    "        return sum_squared_error(x, y), x-y\n",
    "\n",
    "    y = jnp.asarray([1.1, 2.1, 3.1, 4.1])\n",
    "    return jax.grad(squared_error_with_aux, has_aux=True)(x, y)\n",
    "\n",
    "\n",
    "@sy.syft_function(input_policy=sy.ExactMatch(x=mock),\n",
    "                  output_policy=sy.SingleExecutionExactOutput())\n",
    "def func_naive_modify(x):\n",
    "    import jax\n",
    "    import jax.numpy as jnp\n",
    "    def in_place_modify(x):\n",
    "        x[0] = 123\n",
    "        return None\n",
    "\n",
    "    try:\n",
    "        in_place_modify(jnp.array(x))\n",
    "    except Exception as e:\n",
    "        print(e)\n",
    "\n",
    "\n",
    "@sy.syft_function(input_policy=sy.ExactMatch(),\n",
    "                  output_policy=sy.SingleExecutionExactOutput())\n",
    "def func_jax_modify():\n",
    "    import jax\n",
    "    import jax.numpy as jnp\n",
    "    def jax_in_place_modify(x):\n",
    "        return x.at[0].set(123)\n",
    "\n",
    "    y = jnp.array([1, 2, 3])\n",
    "    return jax_in_place_modify(y)\n",
    "\n",
    "@sy.syft_function(input_policy=sy.ExactMatch(xs=xs.mock, ys=ys.mock),\n",
    "                  output_policy=sy.SingleExecutionExactOutput())\n",
    "def training_loop(xs, ys):\n",
    "    import jax\n",
    "    import jax.numpy as jnp\n",
    "    import matplotlib.pyplot as plt\n",
    "    \n",
    "    def model(theta, x):\n",
    "        \"\"\"Computes wx + b on a batch of input x.\"\"\"\n",
    "        w, b = theta\n",
    "        return w * x + b\n",
    "    \n",
    "    def loss_fn(theta, x, y):\n",
    "        prediction = model(theta, x)\n",
    "        return jnp.mean((prediction-y)**2)\n",
    "    \n",
    "    def update(theta, x, y, lr=0.1):\n",
    "        return theta - lr * jax.grad(loss_fn)(theta, x, y)\n",
    "\n",
    "    theta = jnp.array([1., 1.])\n",
    "\n",
    "    for _ in range(1000):\n",
    "        theta = update(theta, xs, ys)\n",
    "\n",
    "    plt.scatter(xs, ys)\n",
    "    plt.plot(xs, model(theta, xs))\n",
    "\n",
    "    w, b = theta\n",
    "    print(f\"w: {w:<.2f}, b: {b:<.2f}\")\n",
    "    return w, b\n"
   ]
  },
  {
   "cell_type": "code",
   "execution_count": null,
   "metadata": {
    "tags": []
   },
   "outputs": [],
   "source": [
    "# Test our function locally \n",
    "print(func())\n",
    "print(func_timeit())\n",
    "print(func_sum_of_squares(x=mock))\n",
    "print(training_loop(xs=xs.mock, ys=ys.mock))"
   ]
  },
  {
   "cell_type": "code",
   "execution_count": null,
   "metadata": {
    "tags": []
   },
   "outputs": [],
   "source": [
    "# Submit the function for code execution\n",
    "# data_scientist_client.api.services.code.request_code_execution(func)\n",
    "# data_scientist_client.api.services.code.request_code_execution(func_timeit)\n",
    "# data_scientist_client.api.services.code.request_code_execution(func_sum_of_squares)\n",
    "# data_scientist_client.api.services.code.request_code_execution(func_sum_squared_error)\n",
    "# data_scientist_client.api.services.code.request_code_execution(func_sum_squared_error_with_aux)\n",
    "# data_scientist_client.api.services.code.request_code_execution(func_naive_modify)\n",
    "# data_scientist_client.api.services.code.request_code_execution(func_jax_modify)\n",
    "data_scientist_client.api.services.code.request_code_execution(training_loop)"
   ]
  },
  {
   "cell_type": "code",
   "execution_count": null,
   "metadata": {
    "tags": []
   },
   "outputs": [],
   "source": [
    "data_scientist_client.api.services.code.training_loop()"
   ]
  },
  {
   "attachments": {},
   "cell_type": "markdown",
   "metadata": {},
   "source": [
    "## Part 3 - Data Owner Reviewing and Approving Requests"
   ]
  },
  {
   "cell_type": "code",
   "execution_count": null,
   "metadata": {
    "tags": []
   },
   "outputs": [],
   "source": [
    "data_owner_client = node.login(email=\"info@openmined.org\", password=\"changethis\")"
   ]
  },
  {
   "cell_type": "code",
   "execution_count": null,
   "metadata": {
    "tags": []
   },
   "outputs": [],
   "source": [
    "# Get messages from domain\n",
    "messages = data_owner_client.api.services.messages.get_all()\n",
    "messages"
   ]
  },
  {
   "cell_type": "code",
   "execution_count": null,
   "metadata": {
    "tags": []
   },
   "outputs": [],
   "source": [
    "# Fetch the dataset\n",
    "results = data_owner_client.api.services.dataset.get_all()\n",
    "dataset = results[0]\n",
    "mock = dataset.assets[0].data.syft_action_data\n",
    "xs = dataset.assets[1].data.syft_action_data\n",
    "ys = dataset.assets[2].data.syft_action_data"
   ]
  },
  {
   "cell_type": "code",
   "execution_count": null,
   "metadata": {
    "tags": []
   },
   "outputs": [],
   "source": [
    "messages"
   ]
  },
  {
   "cell_type": "code",
   "execution_count": null,
   "metadata": {
    "tags": []
   },
   "outputs": [],
   "source": [
    "# Review Request\n",
    "request = messages[0].link\n",
    "func = request.changes[0].link\n",
    "func_name = func.service_func_name\n",
    "print(func_name)\n",
    "print(func.raw_code)"
   ]
  },
  {
   "cell_type": "code",
   "execution_count": null,
   "metadata": {
    "tags": []
   },
   "outputs": [],
   "source": [
    "# Run the submitted function\n",
    "user_func = func.unsafe_function\n",
    "kwargs = [func_name]\n",
    "real_result = user_func(xs=xs, ys=ys)\n",
    "real_result"
   ]
  },
  {
   "cell_type": "code",
   "execution_count": null,
   "metadata": {
    "tags": []
   },
   "outputs": [],
   "source": [
    "# Approve the request with the previous result\n",
    "request.approve()\n",
    "result = request.accept_by_depositing_result(real_result)\n",
    "result"
   ]
  },
  {
   "attachments": {},
   "cell_type": "markdown",
   "metadata": {
    "tags": []
   },
   "source": [
    "## Part 4 - Data Scientist"
   ]
  },
  {
   "cell_type": "code",
   "execution_count": null,
   "metadata": {
    "tags": []
   },
   "outputs": [],
   "source": [
    "data_scientist_client = node.client\n",
    "data_scientist_client.login(email=\"jane@caltech.edu\", password=\"abc123\")"
   ]
  },
  {
   "cell_type": "code",
   "execution_count": null,
   "metadata": {
    "tags": []
   },
   "outputs": [],
   "source": [
    "result = data_scientist_client.api.services.code.training_loop()"
   ]
  },
  {
   "cell_type": "code",
   "execution_count": null,
   "metadata": {
    "tags": []
   },
   "outputs": [],
   "source": [
    "result"
   ]
  },
  {
   "attachments": {},
   "cell_type": "markdown",
   "metadata": {},
   "source": [
    "### Tutorial Complete 👏"
   ]
  },
  {
   "cell_type": "code",
   "execution_count": null,
   "metadata": {
    "tags": []
   },
   "outputs": [],
   "source": [
    "assert round(result[0]) == 3"
   ]
  },
  {
   "cell_type": "code",
   "execution_count": null,
   "metadata": {
    "tags": []
   },
   "outputs": [],
   "source": [
    "node.land()"
   ]
  },
  {
   "cell_type": "code",
   "execution_count": null,
   "metadata": {},
   "outputs": [],
   "source": []
  }
 ],
 "metadata": {
  "kernelspec": {
   "display_name": "Python 3 (ipykernel)",
   "language": "python",
   "name": "python3"
  },
  "language_info": {
   "codemirror_mode": {
    "name": "ipython",
    "version": 3
   },
   "file_extension": ".py",
   "mimetype": "text/x-python",
   "name": "python",
   "nbconvert_exporter": "python",
   "pygments_lexer": "ipython3",
   "version": "3.11.3"
  }
 },
 "nbformat": 4,
 "nbformat_minor": 4
}
