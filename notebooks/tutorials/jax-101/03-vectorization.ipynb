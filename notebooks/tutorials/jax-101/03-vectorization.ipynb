{
 "cells": [
  {
   "attachments": {},
   "cell_type": "markdown",
   "metadata": {},
   "source": [
    "# JAX 101 - 03 Vectorization\n",
    "Link to the original JAX tutorial: https://jax.readthedocs.io/en/latest/jax-101/03-vectorization.html"
   ]
  },
  {
   "attachments": {},
   "cell_type": "markdown",
   "metadata": {},
   "source": [
    "## Part 0 - Data Owner Setup"
   ]
  },
  {
   "cell_type": "code",
   "execution_count": 1,
   "metadata": {},
   "outputs": [
    {
     "name": "stderr",
     "output_type": "stream",
     "text": [
      "kj/filesystem-disk-unix.c++:1703: warning: PWD environment variable doesn't match current directory; pwd = /\n"
     ]
    },
    {
     "name": "stdout",
     "output_type": "stream",
     "text": [
      "✅ The installed version of syft==0.8.1b3 matches the requirement >=0.8 and the requirement <0.9\n"
     ]
    }
   ],
   "source": [
    "# Import the necessary libraries\n",
    "import syft as sy\n",
    "sy.requires(\">=0.8,<0.9\")\n",
    "\n",
    "import jax\n",
    "import jax.numpy as jnp\n",
    "import numpy as np"
   ]
  },
  {
   "cell_type": "code",
   "execution_count": 2,
   "metadata": {},
   "outputs": [
    {
     "name": "stdout",
     "output_type": "stream",
     "text": [
      "SQLite Store Path:\n",
      "!open file:///var/folders/sz/hkfsnn612hq56r7cs5rd540r0000gn/T/7bca415d13ed4ec881f0d0aede098dbb.sqlite\n",
      "\n"
     ]
    }
   ],
   "source": [
    "# Launch the domain\n",
    "node = sy.orchestra.launch(name=\"test-domain-1\", reset=True, dev_mode=True)\n",
    "data_owner_client = node.login(email=\"info@openmined.org\", password=\"changethis\")"
   ]
  },
  {
   "attachments": {},
   "cell_type": "markdown",
   "metadata": {},
   "source": [
    "## Part 1 - Data Scientist"
   ]
  },
  {
   "cell_type": "code",
   "execution_count": 3,
   "metadata": {},
   "outputs": [
    {
     "name": "stdout",
     "output_type": "stream",
     "text": [
      "SQLite Store Path:\n",
      "!open file:///var/folders/sz/hkfsnn612hq56r7cs5rd540r0000gn/T/7bca415d13ed4ec881f0d0aede098dbb.sqlite\n",
      "\n"
     ]
    },
    {
     "data": {
      "text/plain": [
       "<SyftClient - test-domain-1 <7bca415d13ed4ec881f0d0aede098dbb>: PythonConnection>"
      ]
     },
     "execution_count": 3,
     "metadata": {},
     "output_type": "execute_result"
    }
   ],
   "source": [
    "# Register a client to the domain\n",
    "node = sy.orchestra.launch(name=\"test-domain-1\")\n",
    "data_scientist_client = node.client\n",
    "data_scientist_client.register(name=\"Jane Doe\", email=\"jane@caltech.edu\", password=\"abc123\", institution=\"Caltech\", website=\"https://www.caltech.edu/\")\n",
    "data_scientist_client.login(email=\"jane@caltech.edu\", password=\"abc123\")"
   ]
  },
  {
   "cell_type": "code",
   "execution_count": 4,
   "metadata": {},
   "outputs": [],
   "source": [
    "# Create a function for code execution\n",
    "# ATTENTION: ALL LIBRARIES USED SHOULD BE DEFINED INSIDE THE FUNCTION CONTEXT!!!\n",
    "\n",
    "@sy.syft_function(input_policy=sy.ExactMatch(),\n",
    "                  output_policy=sy.SingleExecutionExactOutput())\n",
    "def manual_vectorization():\n",
    "    import jax\n",
    "    import jax.numpy as jnp\n",
    "\n",
    "    x = jnp.arange(5)\n",
    "    w = jnp.array([2., 3., 4.])\n",
    "\n",
    "    def convolve(x, w):\n",
    "        output = []\n",
    "        for i in range(1, len(x)-1):\n",
    "            output.append(jnp.dot(x[i-1:i+2], w))\n",
    "        return jnp.array(output)\n",
    "\n",
    "    print(\"Convolve:\", convolve(x, w))\n",
    "\n",
    "    xs = jnp.stack([x, x])\n",
    "    ws = jnp.stack([w, w])\n",
    "    \n",
    "    def manually_batched_convolve(xs, ws):\n",
    "        output = []\n",
    "        for i in range(xs.shape[0]):\n",
    "            output.append(convolve(xs[i], ws[i]))\n",
    "        return jnp.stack(output)\n",
    "\n",
    "    print(\"Naive solution for batched convolve\", manually_batched_convolve(xs, ws))\n",
    "\n",
    "\n",
    "    def manually_vectorized_convolve(xs, ws):\n",
    "        output = []\n",
    "        for i in range(1, xs.shape[-1] -1):\n",
    "            output.append(jnp.sum(xs[:, i-1:i+2] * ws, axis=1))\n",
    "        return jnp.stack(output, axis=1)\n",
    "\n",
    "    print(\"Vectorized solution for batched convolve\", manually_vectorized_convolve(xs, ws))\n",
    "    \n",
    "@sy.syft_function(input_policy=sy.ExactMatch(),\n",
    "                  output_policy=sy.SingleExecutionExactOutput())\n",
    "def automatic_vectorization():\n",
    "    import jax\n",
    "    import jax.numpy as jnp\n",
    "    \n",
    "    x = jnp.arange(5)\n",
    "    w = jnp.array([2., 3., 4.])\n",
    "\n",
    "    def convolve(x, w):\n",
    "        output = []\n",
    "        for i in range(1, len(x)-1):\n",
    "            output.append(jnp.dot(x[i-1:i+2], w))\n",
    "        return jnp.array(output)\n",
    "\n",
    "    print(\"Convolve:\", convolve(x, w))\n",
    "\n",
    "    xs = jnp.stack([x, x])\n",
    "    ws = jnp.stack([w, w])\n",
    "    \n",
    "    auto_batch_convolve = jax.vmap(convolve)\n",
    "\n",
    "    print(\"Automatic vectorization\", auto_batch_convolve(xs, ws))\n",
    "    \n",
    "    auto_batch_convolve_v2 = jax.vmap(convolve, in_axes=1, out_axes=1)\n",
    "\n",
    "    xst = jnp.transpose(xs)\n",
    "    wst = jnp.transpose(ws)\n",
    "\n",
    "    print(\"Automatic vectorization with axes\", auto_batch_convolve_v2(xst, wst))\n",
    "    \n",
    "    batch_convolve_v3 = jax.vmap(convolve, in_axes=[0, None])\n",
    "\n",
    "    print(\"Automatic vectorization with one ax\", batch_convolve_v3(xs, w))\n",
    "    \n",
    "    jitted_batch_convolve = jax.jit(auto_batch_convolve)\n",
    "\n",
    "    print(\"Jitted Automatic vectorization\", jitted_batch_convolve(xs, ws))"
   ]
  },
  {
   "cell_type": "code",
   "execution_count": 5,
   "metadata": {},
   "outputs": [
    {
     "name": "stdout",
     "output_type": "stream",
     "text": [
      "Convolve: [11. 20. 29.]\n",
      "Naive solution for batched convolve [[11. 20. 29.]\n",
      " [11. 20. 29.]]\n",
      "Vectorized solution for batched convolve [[11. 20. 29.]\n",
      " [11. 20. 29.]]\n",
      "Convolve: [11. 20. 29.]\n",
      "Automatic vectorization [[11. 20. 29.]\n",
      " [11. 20. 29.]]\n",
      "Automatic vectorization with axes [[11. 11.]\n",
      " [20. 20.]\n",
      " [29. 29.]]\n",
      "Automatic vectorization with one ax [[11. 20. 29.]\n",
      " [11. 20. 29.]]\n",
      "Jitted Automatic vectorization [[11. 20. 29.]\n",
      " [11. 20. 29.]]\n"
     ]
    }
   ],
   "source": [
    "# Test our function locally \n",
    "manual_vectorization()\n",
    "automatic_vectorization()"
   ]
  },
  {
   "cell_type": "code",
   "execution_count": 6,
   "metadata": {},
   "outputs": [
    {
     "data": {
      "text/markdown": [
       "```python\n",
       "class Request:\n",
       "  id: str = 89d5600734374ef587248ee2c22c7262\n",
       "  requesting_user_verify_key: str = 8ab25caf213965e212ecef5d4a870e456933e271f2080ead7210905dadf185c7\n",
       "  approving_user_verify_key: str = None\n",
       "  request_time: str = 2023-05-29 06:21:52\n",
       "  approval_time: str = None\n",
       "  status: str = RequestStatus.PENDING\n",
       "  node_uid: str = 7bca415d13ed4ec881f0d0aede098dbb\n",
       "  request_hash: str = \"db2d9bbe74afbc26be66c3b317a1e6fe8acab604e4bf5ce65f85bd3458fbb4cd\"\n",
       "  changes: str = [syft.service.request.request.UserCodeStatusChange]\n",
       "\n",
       "```"
      ],
      "text/plain": [
       "syft.service.request.request.Request"
      ]
     },
     "execution_count": 6,
     "metadata": {},
     "output_type": "execute_result"
    }
   ],
   "source": [
    "# Submit the function for code execution\n",
    "data_scientist_client.api.services.code.request_code_execution(manual_vectorization)\n",
    "data_scientist_client.api.services.code.request_code_execution(automatic_vectorization)"
   ]
  },
  {
   "attachments": {},
   "cell_type": "markdown",
   "metadata": {},
   "source": [
    "## Part 2 - Data Owner Reviewing and Approving Requests"
   ]
  },
  {
   "cell_type": "code",
   "execution_count": 7,
   "metadata": {},
   "outputs": [],
   "source": [
    "data_owner_client = node.login(email=\"info@openmined.org\", password=\"changethis\")"
   ]
  },
  {
   "cell_type": "code",
   "execution_count": 8,
   "metadata": {},
   "outputs": [
    {
     "data": {
      "text/html": [
       "List - Size: 2\n",
       "<div>\n",
       "<style scoped>\n",
       "    .dataframe tbody tr th:only-of-type {\n",
       "        vertical-align: middle;\n",
       "    }\n",
       "\n",
       "    .dataframe tbody tr th {\n",
       "        vertical-align: top;\n",
       "    }\n",
       "\n",
       "    .dataframe thead th {\n",
       "        text-align: right;\n",
       "    }\n",
       "</style>\n",
       "<table border=\"1\" class=\"dataframe\">\n",
       "  <thead>\n",
       "    <tr style=\"text-align: right;\">\n",
       "      <th></th>\n",
       "      <th>type</th>\n",
       "      <th>id</th>\n",
       "      <th>subject</th>\n",
       "      <th>status</th>\n",
       "      <th>created_at</th>\n",
       "      <th>linked_obj</th>\n",
       "    </tr>\n",
       "  </thead>\n",
       "  <tbody>\n",
       "    <tr>\n",
       "      <th>0</th>\n",
       "      <td>syft.service.message.messages.Message</td>\n",
       "      <td>1cb3436730a0458ab56101145d0d7607</td>\n",
       "      <td>Approval Request</td>\n",
       "      <td>MessageStatus.UNDELIVERED</td>\n",
       "      <td>2023-05-29 06:21:52</td>\n",
       "      <td>&lt;&lt;class 'syft.service.request.request.Request'...</td>\n",
       "    </tr>\n",
       "    <tr>\n",
       "      <th>1</th>\n",
       "      <td>syft.service.message.messages.Message</td>\n",
       "      <td>4a483cd316ca4e8fb5e4e65ddf4609ae</td>\n",
       "      <td>Approval Request</td>\n",
       "      <td>MessageStatus.UNDELIVERED</td>\n",
       "      <td>2023-05-29 06:21:52</td>\n",
       "      <td>&lt;&lt;class 'syft.service.request.request.Request'...</td>\n",
       "    </tr>\n",
       "  </tbody>\n",
       "</table>\n",
       "</div>"
      ],
      "text/plain": [
       "[syft.service.message.messages.Message, syft.service.message.messages.Message]"
      ]
     },
     "execution_count": 8,
     "metadata": {},
     "output_type": "execute_result"
    }
   ],
   "source": [
    "# Get messages from domain\n",
    "messages = data_owner_client.api.services.messages.get_all()\n",
    "messages"
   ]
  },
  {
   "cell_type": "code",
   "execution_count": 9,
   "metadata": {},
   "outputs": [
    {
     "name": "stdout",
     "output_type": "stream",
     "text": [
      "manual_vectorization\n",
      "@sy.syft_function(input_policy=sy.ExactMatch(),\n",
      "                  output_policy=sy.SingleExecutionExactOutput())\n",
      "def manual_vectorization():\n",
      "    import jax\n",
      "    import jax.numpy as jnp\n",
      "\n",
      "    x = jnp.arange(5)\n",
      "    w = jnp.array([2., 3., 4.])\n",
      "\n",
      "    def convolve(x, w):\n",
      "        output = []\n",
      "        for i in range(1, len(x)-1):\n",
      "            output.append(jnp.dot(x[i-1:i+2], w))\n",
      "        return jnp.array(output)\n",
      "\n",
      "    print(\"Convolve:\", convolve(x, w))\n",
      "\n",
      "    xs = jnp.stack([x, x])\n",
      "    ws = jnp.stack([w, w])\n",
      "    \n",
      "    def manually_batched_convolve(xs, ws):\n",
      "        output = []\n",
      "        for i in range(xs.shape[0]):\n",
      "            output.append(convolve(xs[i], ws[i]))\n",
      "        return jnp.stack(output)\n",
      "\n",
      "    print(\"Naive solution for batched convolve\", manually_batched_convolve(xs, ws))\n",
      "\n",
      "\n",
      "    def manually_vectorized_convolve(xs, ws):\n",
      "        output = []\n",
      "        for i in range(1, xs.shape[-1] -1):\n",
      "            output.append(jnp.sum(xs[:, i-1:i+2] * ws, axis=1))\n",
      "        return jnp.stack(output, axis=1)\n",
      "\n",
      "    print(\"Vectorized solution for batched convolve\", manually_vectorized_convolve(xs, ws))\n",
      "\n",
      "WARNING: This code was submitted by a User and could be UNSAFE.\n",
      "syft.service.code.user_code.UserCodeExecutionResult\n",
      "message='Request 6fe1cbcc4ca746599c8959d78dc2285e changes applied'\n"
     ]
    },
    {
     "name": "stderr",
     "output_type": "stream",
     "text": [
      "exec_result=syft.service.code.user_code.UserCodeExecutionResult\n",
      "action_object=Pointer:\n",
      "syft.service.code.user_code.UserCodeExecutionResult\n"
     ]
    },
    {
     "name": "stdout",
     "output_type": "stream",
     "text": [
      "automatic_vectorization\n",
      "@sy.syft_function(input_policy=sy.ExactMatch(),\n",
      "                  output_policy=sy.SingleExecutionExactOutput())\n",
      "def automatic_vectorization():\n",
      "    import jax\n",
      "    import jax.numpy as jnp\n",
      "    \n",
      "    x = jnp.arange(5)\n",
      "    w = jnp.array([2., 3., 4.])\n",
      "\n",
      "    def convolve(x, w):\n",
      "        output = []\n",
      "        for i in range(1, len(x)-1):\n",
      "            output.append(jnp.dot(x[i-1:i+2], w))\n",
      "        return jnp.array(output)\n",
      "\n",
      "    print(\"Convolve:\", convolve(x, w))\n",
      "\n",
      "    xs = jnp.stack([x, x])\n",
      "    ws = jnp.stack([w, w])\n",
      "    \n",
      "    auto_batch_convolve = jax.vmap(convolve)\n",
      "\n",
      "    print(\"Automatic vectorization\", auto_batch_convolve(xs, ws))\n",
      "    \n",
      "    auto_batch_convolve_v2 = jax.vmap(convolve, in_axes=1, out_axes=1)\n",
      "\n",
      "    xst = jnp.transpose(xs)\n",
      "    wst = jnp.transpose(ws)\n",
      "\n",
      "    print(\"Automatic vectorization with axes\", auto_batch_convolve_v2(xst, wst))\n",
      "    \n",
      "    batch_convolve_v3 = jax.vmap(convolve, in_axes=[0, None])\n",
      "\n",
      "    print(\"Automatic vectorization with one ax\", batch_convolve_v3(xs, w))\n",
      "    \n",
      "    jitted_batch_convolve = jax.jit(auto_batch_convolve)\n",
      "\n",
      "    print(\"Jitted Automatic vectorization\", jitted_batch_convolve(xs, ws))\n",
      "\n",
      "WARNING: This code was submitted by a User and could be UNSAFE.\n",
      "syft.service.code.user_code.UserCodeExecutionResult\n"
     ]
    },
    {
     "name": "stderr",
     "output_type": "stream",
     "text": [
      "exec_result=syft.service.code.user_code.UserCodeExecutionResult\n",
      "action_object=Pointer:\n",
      "syft.service.code.user_code.UserCodeExecutionResult\n"
     ]
    },
    {
     "name": "stdout",
     "output_type": "stream",
     "text": [
      "message='Request 89d5600734374ef587248ee2c22c7262 changes applied'\n"
     ]
    },
    {
     "data": {
      "text/plain": [
       "<Figure size 640x480 with 0 Axes>"
      ]
     },
     "metadata": {},
     "output_type": "display_data"
    }
   ],
   "source": [
    "from helpers import review_request, run_submitted_function, accept_request\n",
    "\n",
    "for message in messages:\n",
    "    review_request(message)\n",
    "    real_result = run_submitted_function(message)\n",
    "    accept_request(message, real_result)"
   ]
  },
  {
   "attachments": {},
   "cell_type": "markdown",
   "metadata": {},
   "source": [
    "## Part 3 - Downloading the Results"
   ]
  },
  {
   "attachments": {},
   "cell_type": "markdown",
   "metadata": {},
   "source": [
    "### Tutorial complete 👏"
   ]
  },
  {
   "cell_type": "code",
   "execution_count": 10,
   "metadata": {},
   "outputs": [],
   "source": [
    "result = data_scientist_client.api.services.code.manual_vectorization()\n",
    "assert not isinstance(result, sy.SyftError)\n",
    "\n",
    "result = data_scientist_client.api.services.code.automatic_vectorization()\n",
    "assert not isinstance(result, sy.SyftError)"
   ]
  },
  {
   "cell_type": "code",
   "execution_count": 11,
   "metadata": {},
   "outputs": [],
   "source": [
    "if node.node_type.value == \"python\":\n",
    "    node.land()"
   ]
  }
 ],
 "metadata": {
  "kernelspec": {
   "display_name": "jax_1",
   "language": "python",
   "name": "python3"
  },
  "language_info": {
   "codemirror_mode": {
    "name": "ipython",
    "version": 3
   },
   "file_extension": ".py",
   "mimetype": "text/x-python",
   "name": "python",
   "nbconvert_exporter": "python",
   "pygments_lexer": "ipython3",
   "version": "3.10.4"
  }
 },
 "nbformat": 4,
 "nbformat_minor": 2
}
