{
 "cells": [
  {
   "attachments": {},
   "cell_type": "markdown",
   "metadata": {},
   "source": [
    "# JAX 101 - 05 Pseudo Random Numbers\n",
    "Link to the original JAX tutorial: https://jax.readthedocs.io/en/latest/jax-101/05-random-numbers.html"
   ]
  },
  {
   "attachments": {},
   "cell_type": "markdown",
   "metadata": {},
   "source": [
    "## Part 0 - Data Owner Setup"
   ]
  },
  {
   "cell_type": "code",
   "execution_count": 12,
   "metadata": {},
   "outputs": [
    {
     "name": "stdout",
     "output_type": "stream",
     "text": [
      "✅ The installed version of syft==0.8.1b3 matches the requirement >=0.8 and the requirement <0.9\n"
     ]
    }
   ],
   "source": [
    "# Import the necessary libraries\n",
    "import syft as sy\n",
    "sy.requires(\">=0.8,<0.9\")\n",
    "\n",
    "import jax\n",
    "import jax.numpy as jnp\n",
    "import numpy as np"
   ]
  },
  {
   "cell_type": "code",
   "execution_count": 13,
   "metadata": {},
   "outputs": [
    {
     "name": "stdout",
     "output_type": "stream",
     "text": [
      "SQLite Store Path:\n",
      "!open file:///var/folders/sz/hkfsnn612hq56r7cs5rd540r0000gn/T/7bca415d13ed4ec881f0d0aede098dbb.sqlite\n",
      "\n"
     ]
    }
   ],
   "source": [
    "# Launch the domain\n",
    "node = sy.orchestra.launch(name=\"test-domain-1\", reset=True, dev_mode=True)\n",
    "data_owner_client = node.login(email=\"info@openmined.org\", password=\"changethis\")"
   ]
  },
  {
   "attachments": {},
   "cell_type": "markdown",
   "metadata": {},
   "source": [
    "## Part 1 - Data Scientist"
   ]
  },
  {
   "cell_type": "code",
   "execution_count": 14,
   "metadata": {},
   "outputs": [
    {
     "name": "stdout",
     "output_type": "stream",
     "text": [
      "SQLite Store Path:\n",
      "!open file:///var/folders/sz/hkfsnn612hq56r7cs5rd540r0000gn/T/7bca415d13ed4ec881f0d0aede098dbb.sqlite\n",
      "\n"
     ]
    },
    {
     "data": {
      "text/plain": [
       "<SyftClient - test-domain-1 <7bca415d13ed4ec881f0d0aede098dbb>: PythonConnection>"
      ]
     },
     "execution_count": 14,
     "metadata": {},
     "output_type": "execute_result"
    }
   ],
   "source": [
    "# Register a client to the domain\n",
    "node = sy.orchestra.launch(name=\"test-domain-1\")\n",
    "data_scientist_client = node.client\n",
    "data_scientist_client.register(name=\"Jane Doe\", email=\"jane@caltech.edu\", password=\"abc123\", institution=\"Caltech\", website=\"https://www.caltech.edu/\")\n",
    "data_scientist_client.login(email=\"jane@caltech.edu\", password=\"abc123\")"
   ]
  },
  {
   "cell_type": "code",
   "execution_count": 15,
   "metadata": {},
   "outputs": [],
   "source": [
    "# Create a function for code execution\n",
    "# ATTENTION: ALL LIBRARIES USED SHOULD BE DEFINED INSIDE THE FUNCTION CONTEXT!!!\n",
    "\n",
    "@sy.syft_function(input_policy=sy.ExactMatch(),\n",
    "                  output_policy=sy.SingleExecutionExactOutput())\n",
    "def random_numbers_numpy():\n",
    "    import numpy as np\n",
    "    np.random.seed(0)\n",
    "    \n",
    "    def print_truncated_random_state():\n",
    "        \"\"\"To avoid spamming the outputs, print only part of the state.\"\"\"\n",
    "        full_random_state = np.random.get_state()\n",
    "        print(str(full_random_state)[:460], '...')\n",
    "    print_truncated_random_state()\n",
    "\n",
    "    np.random.seed(0)\n",
    "    print_truncated_random_state()\n",
    "\n",
    "    _ = np.random.uniform()\n",
    "    print_truncated_random_state()\n",
    "    \n",
    "    np.random.seed(0)\n",
    "    print(np.random.uniform(size=3))\n",
    "    \n",
    "    np.random.seed(0)\n",
    "    print(\"individually:\", np.stack([np.random.uniform() for _ in range(3)]))\n",
    "\n",
    "    np.random.seed(0)\n",
    "    print(\"all at once: \", np.random.uniform(size=3))\n",
    "    \n",
    "\n",
    "@sy.syft_function(input_policy=sy.ExactMatch(),\n",
    "                  output_policy=sy.SingleExecutionExactOutput())\n",
    "def random_numbers_jax():\n",
    "    \n",
    "    import numpy as np\n",
    "\n",
    "    np.random.seed(0)\n",
    "\n",
    "    def bar(): return np.random.uniform()\n",
    "    def baz(): return np.random.uniform()\n",
    "    def foo(): return bar() + 2 * baz()\n",
    "\n",
    "    print(foo())\n",
    "    \n",
    "    from jax import random\n",
    "    key = random.PRNGKey(42)\n",
    "    print(key)\n",
    "    print(random.normal(key))\n",
    "    print(random.normal(key))\n",
    "    \n",
    "    print(\"old key\", key)\n",
    "    new_key, subkey = random.split(key)\n",
    "    del key  # The old key is discarded -- we must never use it again.\n",
    "    normal_sample = random.normal(subkey)\n",
    "    print(r\"    \\---SPLIT --> new key   \", new_key)\n",
    "    print(r\"             \\--> new subkey\", subkey, \"--> normal\", normal_sample)\n",
    "    del subkey  # The subkey is also discarded after use.\n",
    "\n",
    "    # Note: you don't actually need to `del` keys -- that's just for emphasis.\n",
    "    # Not reusing the same values is enough.\n",
    "\n",
    "    key = new_key  # If we wanted to do this again, we would use new_key as the key.\n",
    "    key, subkey = random.split(key)\n",
    "    key, *forty_two_subkeys = random.split(key, num=43)\n",
    "\n",
    "    key = random.PRNGKey(42)\n",
    "    subkeys = random.split(key, 3)\n",
    "    sequence = np.stack([random.normal(subkey) for subkey in subkeys])\n",
    "    print(\"individually:\", sequence)\n",
    "\n",
    "    key = random.PRNGKey(42)\n",
    "    print(\"all at once: \", random.normal(key, shape=(3,)))"
   ]
  },
  {
   "cell_type": "code",
   "execution_count": 16,
   "metadata": {},
   "outputs": [
    {
     "name": "stdout",
     "output_type": "stream",
     "text": [
      "('MT19937', array([         0,          1, 1812433255, 1900727105, 1208447044,\n",
      "       2481403966, 4042607538,  337614300, 3232553940, 1018809052,\n",
      "       3202401494, 1775180719, 3192392114,  594215549,  184016991,\n",
      "        829906058,  610491522, 3879932251, 3139825610,  297902587,\n",
      "       4075895579, 2943625357, 3530655617, 1423771745, 2135928312,\n",
      "       2891506774, 1066338622,  135451537,  933040465, 2759011858,\n",
      "       2273819758, 3545703099, 2516396728, 127 ...\n",
      "('MT19937', array([         0,          1, 1812433255, 1900727105, 1208447044,\n",
      "       2481403966, 4042607538,  337614300, 3232553940, 1018809052,\n",
      "       3202401494, 1775180719, 3192392114,  594215549,  184016991,\n",
      "        829906058,  610491522, 3879932251, 3139825610,  297902587,\n",
      "       4075895579, 2943625357, 3530655617, 1423771745, 2135928312,\n",
      "       2891506774, 1066338622,  135451537,  933040465, 2759011858,\n",
      "       2273819758, 3545703099, 2516396728, 127 ...\n",
      "('MT19937', array([2443250962, 1093594115, 1878467924, 2709361018, 1101979660,\n",
      "       3904844661,  676747479, 2085143622, 1056793272, 3812477442,\n",
      "       2168787041,  275552121, 2696932952, 3432054210, 1657102335,\n",
      "       3518946594,  962584079, 1051271004, 3806145045, 1414436097,\n",
      "       2032348584, 1661738718, 1116708477, 2562755208, 3176189976,\n",
      "        696824676, 2399811678, 3992505346,  569184356, 2626558620,\n",
      "        136797809, 4273176064,  296167901, 343 ...\n",
      "[0.5488135  0.71518937 0.60276338]\n",
      "individually: [0.5488135  0.71518937 0.60276338]\n",
      "all at once:  [0.5488135  0.71518937 0.60276338]\n",
      "1.9791922366721637\n",
      "[ 0 42]\n",
      "-2.169824560397754\n",
      "-2.169824560397754\n",
      "old key [ 0 42]\n",
      "    \\---SPLIT --> new key    [2465931498 3679230171]\n",
      "             \\--> new subkey [255383827 267815257] --> normal 1.7058420802067416\n",
      "individually: [-1.16959583 -0.21746704  0.17814184]\n",
      "all at once:  [0.61226536 1.12258838 1.1373321 ]\n"
     ]
    }
   ],
   "source": [
    "# Test our function locally \n",
    "random_numbers_numpy()\n",
    "random_numbers_jax()"
   ]
  },
  {
   "cell_type": "code",
   "execution_count": 17,
   "metadata": {},
   "outputs": [
    {
     "data": {
      "text/markdown": [
       "```python\n",
       "class Request:\n",
       "  id: str = d429f1a38b1f41a5995bded876831a24\n",
       "  requesting_user_verify_key: str = a44a9d2519d3b980bae2b375d7d5b3e122e1d23d4f50511f501ec958485ab92c\n",
       "  approving_user_verify_key: str = None\n",
       "  request_time: str = 2023-05-29 06:24:53\n",
       "  approval_time: str = None\n",
       "  status: str = RequestStatus.PENDING\n",
       "  node_uid: str = 7bca415d13ed4ec881f0d0aede098dbb\n",
       "  request_hash: str = \"d39a9684633206aac95c0d6d1d60d959b83acc7385d83464fa6db868d1c1e5ee\"\n",
       "  changes: str = [syft.service.request.request.UserCodeStatusChange]\n",
       "\n",
       "```"
      ],
      "text/plain": [
       "syft.service.request.request.Request"
      ]
     },
     "execution_count": 17,
     "metadata": {},
     "output_type": "execute_result"
    }
   ],
   "source": [
    "# Submit the function for code execution\n",
    "data_scientist_client.api.services.code.request_code_execution(random_numbers_numpy)\n",
    "data_scientist_client.api.services.code.request_code_execution(random_numbers_jax)"
   ]
  },
  {
   "attachments": {},
   "cell_type": "markdown",
   "metadata": {},
   "source": [
    "## Part 2 - Data Owner Reviewing and Approving Requests"
   ]
  },
  {
   "cell_type": "code",
   "execution_count": 18,
   "metadata": {},
   "outputs": [],
   "source": [
    "data_owner_client = node.login(email=\"info@openmined.org\", password=\"changethis\")"
   ]
  },
  {
   "cell_type": "code",
   "execution_count": 19,
   "metadata": {},
   "outputs": [
    {
     "data": {
      "text/html": [
       "List - Size: 2\n",
       "<div>\n",
       "<style scoped>\n",
       "    .dataframe tbody tr th:only-of-type {\n",
       "        vertical-align: middle;\n",
       "    }\n",
       "\n",
       "    .dataframe tbody tr th {\n",
       "        vertical-align: top;\n",
       "    }\n",
       "\n",
       "    .dataframe thead th {\n",
       "        text-align: right;\n",
       "    }\n",
       "</style>\n",
       "<table border=\"1\" class=\"dataframe\">\n",
       "  <thead>\n",
       "    <tr style=\"text-align: right;\">\n",
       "      <th></th>\n",
       "      <th>type</th>\n",
       "      <th>id</th>\n",
       "      <th>subject</th>\n",
       "      <th>status</th>\n",
       "      <th>created_at</th>\n",
       "      <th>linked_obj</th>\n",
       "    </tr>\n",
       "  </thead>\n",
       "  <tbody>\n",
       "    <tr>\n",
       "      <th>0</th>\n",
       "      <td>syft.service.message.messages.Message</td>\n",
       "      <td>57c7046c56474b47b311d9e4d309d3ed</td>\n",
       "      <td>Approval Request</td>\n",
       "      <td>MessageStatus.UNDELIVERED</td>\n",
       "      <td>2023-05-29 06:24:53</td>\n",
       "      <td>&lt;&lt;class 'syft.service.request.request.Request'...</td>\n",
       "    </tr>\n",
       "    <tr>\n",
       "      <th>1</th>\n",
       "      <td>syft.service.message.messages.Message</td>\n",
       "      <td>51941d442bfc4d1397ae55d3504114bd</td>\n",
       "      <td>Approval Request</td>\n",
       "      <td>MessageStatus.UNDELIVERED</td>\n",
       "      <td>2023-05-29 06:24:53</td>\n",
       "      <td>&lt;&lt;class 'syft.service.request.request.Request'...</td>\n",
       "    </tr>\n",
       "  </tbody>\n",
       "</table>\n",
       "</div>"
      ],
      "text/plain": [
       "[syft.service.message.messages.Message, syft.service.message.messages.Message]"
      ]
     },
     "execution_count": 19,
     "metadata": {},
     "output_type": "execute_result"
    }
   ],
   "source": [
    "# Get messages from domain\n",
    "messages = data_owner_client.api.services.messages.get_all()\n",
    "messages"
   ]
  },
  {
   "cell_type": "code",
   "execution_count": 20,
   "metadata": {},
   "outputs": [
    {
     "name": "stdout",
     "output_type": "stream",
     "text": [
      "random_numbers_jax\n",
      "@sy.syft_function(input_policy=sy.ExactMatch(),\n",
      "                  output_policy=sy.SingleExecutionExactOutput())\n",
      "def random_numbers_jax():\n",
      "    \n",
      "    import numpy as np\n",
      "\n",
      "    np.random.seed(0)\n",
      "\n",
      "    def bar(): return np.random.uniform()\n",
      "    def baz(): return np.random.uniform()\n",
      "    def foo(): return bar() + 2 * baz()\n",
      "\n",
      "    print(foo())\n",
      "    \n",
      "    from jax import random\n",
      "    key = random.PRNGKey(42)\n",
      "    print(key)\n",
      "    print(random.normal(key))\n",
      "    print(random.normal(key))\n",
      "    \n",
      "    print(\"old key\", key)\n",
      "    new_key, subkey = random.split(key)\n",
      "    del key  # The old key is discarded -- we must never use it again.\n",
      "    normal_sample = random.normal(subkey)\n",
      "    print(r\"    \\---SPLIT --> new key   \", new_key)\n",
      "    print(r\"             \\--> new subkey\", subkey, \"--> normal\", normal_sample)\n",
      "    del subkey  # The subkey is also discarded after use.\n",
      "\n",
      "    # Note: you don't actually need to `del` keys -- that's just for emphasis.\n",
      "    # Not reusing the same values is enough.\n",
      "\n",
      "    key = new_key  # If we wanted to do this again, we would use new_key as the key.\n",
      "    key, subkey = random.split(key)\n",
      "    key, *forty_two_subkeys = random.split(key, num=43)\n",
      "\n",
      "    key = random.PRNGKey(42)\n",
      "    subkeys = random.split(key, 3)\n",
      "    sequence = np.stack([random.normal(subkey) for subkey in subkeys])\n",
      "    print(\"individually:\", sequence)\n",
      "\n",
      "    key = random.PRNGKey(42)\n",
      "    print(\"all at once: \", random.normal(key, shape=(3,)))\n",
      "\n",
      "WARNING: This code was submitted by a User and could be UNSAFE.\n",
      "syft.service.code.user_code.UserCodeExecutionResult\n"
     ]
    },
    {
     "name": "stderr",
     "output_type": "stream",
     "text": [
      "exec_result=syft.service.code.user_code.UserCodeExecutionResult\n",
      "action_object=Pointer:\n",
      "syft.service.code.user_code.UserCodeExecutionResult\n"
     ]
    },
    {
     "name": "stdout",
     "output_type": "stream",
     "text": [
      "message='Request d429f1a38b1f41a5995bded876831a24 changes applied'\n",
      "random_numbers_numpy\n",
      "@sy.syft_function(input_policy=sy.ExactMatch(),\n",
      "                  output_policy=sy.SingleExecutionExactOutput())\n",
      "def random_numbers_numpy():\n",
      "    import numpy as np\n",
      "    np.random.seed(0)\n",
      "    \n",
      "    def print_truncated_random_state():\n",
      "        \"\"\"To avoid spamming the outputs, print only part of the state.\"\"\"\n",
      "        full_random_state = np.random.get_state()\n",
      "        print(str(full_random_state)[:460], '...')\n",
      "    print_truncated_random_state()\n",
      "\n",
      "    np.random.seed(0)\n",
      "    print_truncated_random_state()\n",
      "\n",
      "    _ = np.random.uniform()\n",
      "    print_truncated_random_state()\n",
      "    \n",
      "    np.random.seed(0)\n",
      "    print(np.random.uniform(size=3))\n",
      "    \n",
      "    np.random.seed(0)\n",
      "    print(\"individually:\", np.stack([np.random.uniform() for _ in range(3)]))\n",
      "\n",
      "    np.random.seed(0)\n",
      "    print(\"all at once: \", np.random.uniform(size=3))\n",
      "\n",
      "WARNING: This code was submitted by a User and could be UNSAFE.\n",
      "syft.service.code.user_code.UserCodeExecutionResult\n",
      "message='Request f7b3caa880924c6ebb603356d0370510 changes applied'\n"
     ]
    },
    {
     "name": "stderr",
     "output_type": "stream",
     "text": [
      "exec_result=syft.service.code.user_code.UserCodeExecutionResult\n",
      "action_object=Pointer:\n",
      "syft.service.code.user_code.UserCodeExecutionResult\n"
     ]
    },
    {
     "data": {
      "text/plain": [
       "<Figure size 640x480 with 0 Axes>"
      ]
     },
     "metadata": {},
     "output_type": "display_data"
    }
   ],
   "source": [
    "from helpers import review_request, run_submitted_function, accept_request\n",
    "\n",
    "for message in messages:\n",
    "    review_request(message)\n",
    "    real_result = run_submitted_function(message)\n",
    "    accept_request(message, real_result)"
   ]
  },
  {
   "attachments": {},
   "cell_type": "markdown",
   "metadata": {},
   "source": [
    "## Part 3 - Downloading the Results"
   ]
  },
  {
   "attachments": {},
   "cell_type": "markdown",
   "metadata": {},
   "source": [
    "### Tutorial complete 👏"
   ]
  },
  {
   "cell_type": "code",
   "execution_count": 21,
   "metadata": {},
   "outputs": [],
   "source": [
    "result = data_scientist_client.api.services.code.random_numbers_numpy()\n",
    "assert not isinstance(result, sy.SyftError)\n",
    "\n",
    "result = data_scientist_client.api.services.code.random_numbers_jax()\n",
    "assert not isinstance(result, sy.SyftError)"
   ]
  },
  {
   "cell_type": "code",
   "execution_count": 22,
   "metadata": {},
   "outputs": [],
   "source": [
    "if node.node_type.value == \"python\":\n",
    "    node.land()"
   ]
  }
 ],
 "metadata": {
  "kernelspec": {
   "display_name": "jax_1",
   "language": "python",
   "name": "python3"
  },
  "language_info": {
   "codemirror_mode": {
    "name": "ipython",
    "version": 3
   },
   "file_extension": ".py",
   "mimetype": "text/x-python",
   "name": "python",
   "nbconvert_exporter": "python",
   "pygments_lexer": "ipython3",
   "version": "3.10.4"
  }
 },
 "nbformat": 4,
 "nbformat_minor": 2
}
