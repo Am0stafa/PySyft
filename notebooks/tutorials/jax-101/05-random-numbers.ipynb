{
 "cells": [
  {
   "attachments": {},
   "cell_type": "markdown",
   "metadata": {},
   "source": [
    "# JAX 101 - 05 Pseudo Random Numbers\n",
    "Link to the original JAX tutorial: https://jax.readthedocs.io/en/latest/jax-101/05-random-numbers.html"
   ]
  },
  {
   "attachments": {},
   "cell_type": "markdown",
   "metadata": {},
   "source": [
    "## Part 0 - Data Owner Setup"
   ]
  },
  {
   "cell_type": "code",
   "execution_count": null,
   "metadata": {},
   "outputs": [],
   "source": [
    "# Import the necessary libraries\n",
    "import syft as sy\n",
    "sy.requires(\">=0.8,<0.9\")\n",
    "\n",
    "import jax\n",
    "import jax.numpy as jnp\n",
    "import numpy as np"
   ]
  },
  {
   "cell_type": "code",
   "execution_count": null,
   "metadata": {},
   "outputs": [],
   "source": [
    "# Launch the domain\n",
    "node = sy.orchestra.launch(name=\"test-domain-1\", reset=True, dev_mode=True)\n",
    "data_owner_client = node.login(email=\"info@openmined.org\", password=\"changethis\")"
   ]
  },
  {
   "attachments": {},
   "cell_type": "markdown",
   "metadata": {},
   "source": [
    "## Part 1 - Data Scientist"
   ]
  },
  {
   "cell_type": "code",
   "execution_count": null,
   "metadata": {},
   "outputs": [],
   "source": [
    "# Register a client to the domain\n",
    "node = sy.orchestra.launch(name=\"test-domain-1\")\n",
    "data_scientist_client = node.client\n",
    "data_scientist_client.register(name=\"Jane Doe\", email=\"jane@caltech.edu\", password=\"abc123\", institution=\"Caltech\", website=\"https://www.caltech.edu/\")\n",
    "data_scientist_client.login(email=\"jane@caltech.edu\", password=\"abc123\")"
   ]
  },
  {
   "cell_type": "code",
   "execution_count": null,
   "metadata": {},
   "outputs": [],
   "source": [
    "# Create a function for code execution\n",
    "# ATTENTION: ALL LIBRARIES USED SHOULD BE DEFINED INSIDE THE FUNCTION CONTEXT!!!\n",
    "\n",
    "@sy.syft_function(input_policy=sy.ExactMatch(),\n",
    "                  output_policy=sy.SingleExecutionExactOutput())\n",
    "def random_numbers_numpy():\n",
    "    import numpy as np\n",
    "    np.random.seed(0)\n",
    "    \n",
    "    def print_truncated_random_state():\n",
    "        \"\"\"To avoid spamming the outputs, print only part of the state.\"\"\"\n",
    "        full_random_state = np.random.get_state()\n",
    "        print(str(full_random_state)[:460], '...')\n",
    "    print_truncated_random_state()\n",
    "\n",
    "    np.random.seed(0)\n",
    "    print_truncated_random_state()\n",
    "\n",
    "    _ = np.random.uniform()\n",
    "    print_truncated_random_state()\n",
    "    \n",
    "    np.random.seed(0)\n",
    "    print(np.random.uniform(size=3))\n",
    "    \n",
    "    np.random.seed(0)\n",
    "    print(\"individually:\", np.stack([np.random.uniform() for _ in range(3)]))\n",
    "\n",
    "    np.random.seed(0)\n",
    "    print(\"all at once: \", np.random.uniform(size=3))\n",
    "    \n",
    "\n",
    "@sy.syft_function(input_policy=sy.ExactMatch(),\n",
    "                  output_policy=sy.SingleExecutionExactOutput())\n",
    "def random_numbers_jax():\n",
    "    \n",
    "    import numpy as np\n",
    "\n",
    "    np.random.seed(0)\n",
    "\n",
    "    def bar(): return np.random.uniform()\n",
    "    def baz(): return np.random.uniform()\n",
    "    def foo(): return bar() + 2 * baz()\n",
    "\n",
    "    print(foo())\n",
    "    \n",
    "    from jax import random\n",
    "    key = random.PRNGKey(42)\n",
    "    print(key)\n",
    "    print(random.normal(key))\n",
    "    print(random.normal(key))\n",
    "    \n",
    "    print(\"old key\", key)\n",
    "    new_key, subkey = random.split(key)\n",
    "    del key  # The old key is discarded -- we must never use it again.\n",
    "    normal_sample = random.normal(subkey)\n",
    "    print(r\"    \\---SPLIT --> new key   \", new_key)\n",
    "    print(r\"             \\--> new subkey\", subkey, \"--> normal\", normal_sample)\n",
    "    del subkey  # The subkey is also discarded after use.\n",
    "\n",
    "    # Note: you don't actually need to `del` keys -- that's just for emphasis.\n",
    "    # Not reusing the same values is enough.\n",
    "\n",
    "    key = new_key  # If we wanted to do this again, we would use new_key as the key.\n",
    "    key, subkey = random.split(key)\n",
    "    key, *forty_two_subkeys = random.split(key, num=43)\n",
    "\n",
    "    key = random.PRNGKey(42)\n",
    "    subkeys = random.split(key, 3)\n",
    "    sequence = np.stack([random.normal(subkey) for subkey in subkeys])\n",
    "    print(\"individually:\", sequence)\n",
    "\n",
    "    key = random.PRNGKey(42)\n",
    "    print(\"all at once: \", random.normal(key, shape=(3,)))"
   ]
  },
  {
   "cell_type": "code",
   "execution_count": null,
   "metadata": {},
   "outputs": [],
   "source": [
    "# Test our function locally \n",
    "random_numbers_numpy()\n",
    "random_numbers_jax()"
   ]
  },
  {
   "cell_type": "code",
   "execution_count": null,
   "metadata": {},
   "outputs": [],
   "source": [
    "# Submit the function for code execution\n",
    "data_scientist_client.api.services.code.request_code_execution(random_numbers_numpy)\n",
    "data_scientist_client.api.services.code.request_code_execution(random_numbers_jax)"
   ]
  },
  {
   "attachments": {},
   "cell_type": "markdown",
   "metadata": {},
   "source": [
    "## Part 2 - Data Owner Reviewing and Approving Requests"
   ]
  },
  {
   "cell_type": "code",
   "execution_count": null,
   "metadata": {},
   "outputs": [],
   "source": [
    "data_owner_client = node.login(email=\"info@openmined.org\", password=\"changethis\")"
   ]
  },
  {
   "cell_type": "code",
   "execution_count": null,
   "metadata": {},
   "outputs": [],
   "source": [
    "# Get messages from domain\n",
    "messages = data_owner_client.api.services.messages.get_all()\n",
    "messages"
   ]
  },
  {
   "cell_type": "code",
   "execution_count": null,
   "metadata": {},
   "outputs": [],
   "source": [
    "from helpers import review_request, run_submitted_function, accept_request\n",
    "\n",
    "for message in messages:\n",
    "    review_request(message)\n",
    "    real_result = run_submitted_function(message)\n",
    "    accept_request(message, real_result)"
   ]
  },
  {
   "attachments": {},
   "cell_type": "markdown",
   "metadata": {},
   "source": [
    "## Part 3 - Downloading the Results"
   ]
  },
  {
   "attachments": {},
   "cell_type": "markdown",
   "metadata": {},
   "source": [
    "### Tutorial complete 👏"
   ]
  },
  {
   "cell_type": "code",
   "execution_count": null,
   "metadata": {},
   "outputs": [],
   "source": [
    "result = data_scientist_client.api.services.code.random_numbers_numpy()\n",
    "assert not isinstance(result, sy.SyftError)\n",
    "\n",
    "result = data_scientist_client.api.services.code.random_numbers_jax()\n",
    "assert not isinstance(result, sy.SyftError)"
   ]
  },
  {
   "cell_type": "code",
   "execution_count": null,
   "metadata": {},
   "outputs": [],
   "source": [
    "node.land()"
   ]
  }
 ],
 "metadata": {
  "kernelspec": {
   "display_name": "jax_1",
   "language": "python",
   "name": "python3"
  },
  "language_info": {
   "codemirror_mode": {
    "name": "ipython",
    "version": 3
   },
   "file_extension": ".py",
   "mimetype": "text/x-python",
   "name": "python",
   "nbconvert_exporter": "python",
   "pygments_lexer": "ipython3",
   "version": "3.10.4"
  }
 },
 "nbformat": 4,
 "nbformat_minor": 2
}
