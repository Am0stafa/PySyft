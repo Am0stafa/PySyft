{
 "cells": [
  {
   "attachments": {},
   "cell_type": "markdown",
   "metadata": {},
   "source": [
    "# JAX 101 - 06 Working with PyTrees\n",
    "Link to the original JAX tutorial: https://jax.readthedocs.io/en/latest/jax-101/05.1-pytrees.html"
   ]
  },
  {
   "attachments": {},
   "cell_type": "markdown",
   "metadata": {},
   "source": [
    "## Part 0 - Data Owner Setup"
   ]
  },
  {
   "cell_type": "code",
   "execution_count": null,
   "metadata": {},
   "outputs": [],
   "source": [
    "# Import the necessary libraries\n",
    "import syft as sy\n",
    "sy.requires(\">=0.8,<0.9\")\n",
    "\n",
    "import jax\n",
    "import jax.numpy as jnp\n",
    "import numpy as np"
   ]
  },
  {
   "cell_type": "code",
   "execution_count": null,
   "metadata": {},
   "outputs": [],
   "source": [
    "# Launch the domain\n",
    "node = sy.orchestra.launch(name=\"test-domain-1\", reset=True)\n",
    "domain_client = node.login(email=\"info@openmined.org\", password=\"changethis\")"
   ]
  },
  {
   "attachments": {},
   "cell_type": "markdown",
   "metadata": {},
   "source": [
    "## Part 1 - Data Scientist"
   ]
  },
  {
   "cell_type": "code",
   "execution_count": null,
   "metadata": {},
   "outputs": [],
   "source": [
    "# Register a client to the domain\n",
    "node = sy.orchestra.launch(name=\"test-domain-1\")\n",
    "data_scientist_client = node.client\n",
    "data_scientist_client.register(name=\"Jane Doe\", email=\"jane@caltech.edu\", password=\"abc123\", institution=\"Caltech\", website=\"https://www.caltech.edu/\")\n",
    "data_scientist_client.login(email=\"jane@caltech.edu\", password=\"abc123\")"
   ]
  },
  {
   "cell_type": "code",
   "execution_count": null,
   "metadata": {},
   "outputs": [],
   "source": [
    "# Create a function for code execution\n",
    "# ATTENTION: ALL LIBRARIES USED SHOULD BE DEFINED INSIDE THE FUNCTION CONTEXT!!!\n",
    "\n",
    "@sy.syft_function(input_policy=sy.ExactMatch(),\n",
    "                  output_policy=sy.SingleExecutionExactOutput())\n",
    "def pytree_examples():\n",
    "    import jax\n",
    "    import jax.numpy as jnp\n",
    "\n",
    "    example_trees = [\n",
    "        [1, 'a', object()],\n",
    "        (1, (2, 3), ()),\n",
    "        [1, {'k1': 2, 'k2': (3, 4)}, 5],\n",
    "        {'a': 2, 'b': (2, 3)},\n",
    "        jnp.array([1, 2, 3]),\n",
    "    ]\n",
    "\n",
    "    # Let's see how many leaves they have:\n",
    "    for pytree in example_trees:\n",
    "        leaves = jax.tree_util.tree_leaves(pytree)\n",
    "        print(f\"{repr(pytree):<45} has {len(leaves)} leaves: {leaves}\")\n",
    "\n",
    "@sy.syft_function(input_policy=sy.ExactMatch(),\n",
    "                  output_policy=sy.SingleExecutionExactOutput())\n",
    "def common_pytree_functions():\n",
    "    list_of_lists = [\n",
    "        [1, 2, 3],\n",
    "        [1, 2],\n",
    "        [1, 2, 3, 4]\n",
    "    ]\n",
    "\n",
    "    list_tree_map = jax.tree_map(lambda x: x*2, list_of_lists)\n",
    "    \n",
    "    another_list_of_lists = list_of_lists\n",
    "    another_list_tree_map = jax.tree_map(lambda x, y: x+y, list_of_lists, another_list_of_lists)\n",
    "    return list_tree_map, another_list_tree_map\n",
    "    \n",
    "@sy.syft_function(input_policy=sy.ExactMatch(),\n",
    "                  output_policy=sy.SingleExecutionExactOutput())\n",
    "def ml_model():\n",
    "    import numpy as np\n",
    "    import jax\n",
    "    import jax.numpy as jnp\n",
    "\n",
    "    def init_mlp_params(layer_widths):\n",
    "        params = []\n",
    "        for n_in, n_out in zip(layer_widths[:-1], layer_widths[1:]):\n",
    "            params.append(\n",
    "                dict(weights=np.random.normal(size=(n_in, n_out)) * np.sqrt(2/n_in),\n",
    "                    biases=np.ones(shape=(n_out,))\n",
    "                    )\n",
    "            )\n",
    "        return params\n",
    "\n",
    "    params = init_mlp_params([1, 128, 128, 1])\n",
    "    print(\"Shapes:\\n\", jax.tree_map(lambda x: x.shape, params))\n",
    "\n",
    "    def forward(params, x):\n",
    "        *hidden, last = params\n",
    "        for layer in hidden:\n",
    "            x = jax.nn.relu(x @ layer['weights'] + layer['biases'])\n",
    "        return x @ last['weights'] + last['biases']\n",
    "\n",
    "    def loss_fn(params, x, y):\n",
    "        return jnp.mean((forward(params, x) - y) ** 2)\n",
    "\n",
    "    LEARNING_RATE = 0.0001\n",
    "\n",
    "    @jax.jit\n",
    "    def update(params, x, y):\n",
    "        grads = jax.grad(loss_fn)(params, x, y)\n",
    "        # Note that `grads` is a pytree with the same structure as `params`.\n",
    "        # `jax.grad` is one of the many JAX functions that has\n",
    "        # built-in support for pytrees.\n",
    "\n",
    "        # This is handy, because we can apply the SGD update using tree utils:\n",
    "        return jax.tree_map(\n",
    "            lambda p, g: p - LEARNING_RATE * g, params, grads\n",
    "        )\n",
    "    import matplotlib.pyplot as plt\n",
    "\n",
    "    xs = np.random.normal(size=(128, 1))\n",
    "    ys = xs ** 2\n",
    "\n",
    "    for _ in range(1000):\n",
    "        arams = update(params, xs, ys)\n",
    "\n",
    "    plt.scatter(xs, ys)\n",
    "    plt.scatter(xs, forward(params, xs), label='Model prediction')\n",
    "    plt.legend()\n",
    "    return params\n",
    "    \n",
    "@sy.syft_function(input_policy=sy.ExactMatch(),\n",
    "                  output_policy=sy.SingleExecutionExactOutput())\n",
    "def custom_pytree_nodes():\n",
    "    import jax\n",
    "    class MyContainer:\n",
    "        \"\"\"A named container.\"\"\"\n",
    "\n",
    "        def __init__(self, name: str, a: int, b: int, c: int):\n",
    "            self.name = name\n",
    "            self.a = a\n",
    "            self.b = b\n",
    "            self.c = c\n",
    "    print(jax.tree_util.tree_leaves([\n",
    "            MyContainer('Alice', 1, 2, 3),\n",
    "            MyContainer('Bob', 4, 5, 6)\n",
    "        ]))\n",
    "    \n",
    "    try:\n",
    "        print(jax.tree_map(lambda x: x + 1, [\n",
    "            MyContainer('Alice', 1, 2, 3),\n",
    "            MyContainer('Bob', 4, 5, 6)\n",
    "        ]))\n",
    "    except Exception as e:\n",
    "        print(e)\n",
    "        \n",
    "    from typing import Tuple, Iterable\n",
    "\n",
    "    def flatten_MyContainer(container) -> Tuple[Iterable[int], str]:\n",
    "        \"\"\"Returns an iterable over container contents, and aux data.\"\"\"\n",
    "        flat_contents = [container.a, container.b, container.c]\n",
    "\n",
    "        # we don't want the name to appear as a child, so it is auxiliary data.\n",
    "        # auxiliary data is usually a description of the structure of a node,\n",
    "        # e.g., the keys of a dict -- anything that isn't a node's children.\n",
    "        aux_data = container.name\n",
    "        return flat_contents, aux_data\n",
    "\n",
    "    def unflatten_MyContainer(\n",
    "        aux_data: str, flat_contents: Iterable[int]) -> MyContainer:\n",
    "        \"\"\"Converts aux data and the flat contents into a MyContainer.\"\"\"\n",
    "        return MyContainer(aux_data, *flat_contents)\n",
    "\n",
    "    jax.tree_util.register_pytree_node(\n",
    "        MyContainer, flatten_MyContainer, unflatten_MyContainer)\n",
    "\n",
    "    return jax.tree_util.tree_leaves([\n",
    "        MyContainer('Alice', 1, 2, 3),\n",
    "        MyContainer('Bob', 4, 5, 6)\n",
    "    ])\n",
    "\n",
    "@sy.syft_function(input_policy=sy.ExactMatch(),\n",
    "                  output_policy=sy.SingleExecutionExactOutput())\n",
    "def gotchas():\n",
    "    import jax\n",
    "    import jax.numpy as jnp\n",
    "    a_tree = [jnp.zeros((2, 3)), jnp.zeros((3, 4))]\n",
    "\n",
    "    # Try to make another tree with ones instead of zeros\n",
    "    shapes = jax.tree_map(lambda x: x.shape, a_tree)\n",
    "    print(jax.tree_map(jnp.ones, shapes))\n",
    "    print(jax.tree_util.tree_leaves([None, None, None]))\n",
    "\n",
    "@sy.syft_function(input_policy=sy.ExactMatch(),\n",
    "                  output_policy=sy.SingleExecutionExactOutput())\n",
    "def patterns():\n",
    "    def tree_transpose(list_of_trees):\n",
    "        \"\"\"Convert a list of trees of identical structure into a single tree of lists.\"\"\"\n",
    "        return jax.tree_map(lambda *xs: list(xs), *list_of_trees)\n",
    "\n",
    "\n",
    "    # Convert a dataset from row-major to column-major:\n",
    "    episode_steps = [dict(t=1, obs=3), dict(t=2, obs=4)]\n",
    "    print(tree_transpose(episode_steps))\n",
    "    \n",
    "    print(jax.tree_transpose(\n",
    "        outer_treedef = jax.tree_structure([0 for e in episode_steps]),\n",
    "        inner_treedef = jax.tree_structure(episode_steps[0]),\n",
    "        pytree_to_transpose = episode_steps\n",
    "    ))"
   ]
  },
  {
   "cell_type": "code",
   "execution_count": null,
   "metadata": {},
   "outputs": [],
   "source": [
    "# Test our function locally \n",
    "pytree_examples()\n",
    "common_pytree_functions()\n",
    "ml_model()\n",
    "custom_pytree_nodes()\n",
    "gotchas()\n",
    "patterns()"
   ]
  },
  {
   "cell_type": "code",
   "execution_count": null,
   "metadata": {},
   "outputs": [],
   "source": [
    "# Submit the function for code execution\n",
    "result = data_scientist_client.api.services.code.request_code_execution(pytree_examples)\n",
    "assert not isinstance(result, sy.SyftError)\n",
    "\n",
    "result = data_scientist_client.api.services.code.request_code_execution(common_pytree_functions)\n",
    "assert not isinstance(result, sy.SyftError)\n",
    "\n",
    "result = data_scientist_client.api.services.code.request_code_execution(ml_model)\n",
    "assert not isinstance(result, sy.SyftError)\n",
    "\n",
    "result = data_scientist_client.api.services.code.request_code_execution(custom_pytree_nodes)\n",
    "assert not isinstance(result, sy.SyftError)\n",
    "\n",
    "result = data_scientist_client.api.services.code.request_code_execution(gotchas)\n",
    "assert not isinstance(result, sy.SyftError)\n",
    "\n",
    "result = data_scientist_client.api.services.code.request_code_execution(patterns)\n",
    "assert not isinstance(result, sy.SyftError)"
   ]
  },
  {
   "attachments": {},
   "cell_type": "markdown",
   "metadata": {},
   "source": [
    "## Part 2 - Data Owner Reviewing and Approving Requests"
   ]
  },
  {
   "cell_type": "code",
   "execution_count": null,
   "metadata": {},
   "outputs": [],
   "source": [
    "# Get messages from domain\n",
    "messages = domain_client.api.services.messages.get_all()\n",
    "messages"
   ]
  },
  {
   "cell_type": "code",
   "execution_count": null,
   "metadata": {},
   "outputs": [],
   "source": [
    "from helpers import review_request, run_submitted_function, accept_request\n",
    "\n",
    "for message in messages:\n",
    "    review_request(message)\n",
    "    real_result = run_submitted_function(message)\n",
    "    accept_request(message, real_result)"
   ]
  },
  {
   "attachments": {},
   "cell_type": "markdown",
   "metadata": {},
   "source": [
    "## Part 3 - Downloading the Results"
   ]
  },
  {
   "attachments": {},
   "cell_type": "markdown",
   "metadata": {},
   "source": [
    "### Tutorial complete 👏"
   ]
  },
  {
   "cell_type": "code",
   "execution_count": null,
   "metadata": {},
   "outputs": [],
   "source": [
    "result data_scientist_client.api.services.code.pytree_examples()\n",
    "assert\n",
    "data_scientist_client.api.services.code.common_pytree_functions()\n",
    "data_scientist_client.api.services.code.ml_model()\n",
    "data_scientist_client.api.services.code.custom_pytree_nodes()\n",
    "data_scientist_client.api.services.code.gotchas()\n",
    "data_scientist_client.api.services.code.patterns()"
   ]
  },
  {
   "cell_type": "code",
   "execution_count": null,
   "metadata": {},
   "outputs": [],
   "source": [
    "if node.node_type.value == \"python\":\n",
    "    node.land()"
   ]
  }
 ],
 "metadata": {
  "kernelspec": {
   "display_name": "jax_1",
   "language": "python",
   "name": "python3"
  },
  "language_info": {
   "codemirror_mode": {
    "name": "ipython",
    "version": 3
   },
   "file_extension": ".py",
   "mimetype": "text/x-python",
   "name": "python",
   "nbconvert_exporter": "python",
   "pygments_lexer": "ipython3",
   "version": "3.10.4"
  }
 },
 "nbformat": 4,
 "nbformat_minor": 2
}
