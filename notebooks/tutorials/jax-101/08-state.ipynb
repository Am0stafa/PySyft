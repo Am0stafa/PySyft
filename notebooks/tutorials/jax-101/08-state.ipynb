{
 "cells": [
  {
   "attachments": {},
   "cell_type": "markdown",
   "metadata": {},
   "source": [
    "# JAX 101 - 08 Stateful Computations\n",
    "Link to the original JAX tutorial: https://jax.readthedocs.io/en/latest/jax-101/07-state.html"
   ]
  },
  {
   "attachments": {},
   "cell_type": "markdown",
   "metadata": {},
   "source": [
    "## Part 0 - Data Owner Setup"
   ]
  },
  {
   "cell_type": "code",
   "execution_count": 48,
   "metadata": {},
   "outputs": [
    {
     "name": "stdout",
     "output_type": "stream",
     "text": [
      "✅ The installed version of syft==0.8.1b3 matches the requirement >=0.8 and the requirement <0.9\n"
     ]
    }
   ],
   "source": [
    "# Import the necessary libraries\n",
    "import syft as sy\n",
    "sy.requires(\">=0.8,<0.9\")\n",
    "\n",
    "import jax\n",
    "import jax.numpy as jnp\n",
    "import numpy as np"
   ]
  },
  {
   "cell_type": "code",
   "execution_count": 49,
   "metadata": {},
   "outputs": [
    {
     "name": "stdout",
     "output_type": "stream",
     "text": [
      "SQLite Store Path:\n",
      "!open file:///var/folders/sz/hkfsnn612hq56r7cs5rd540r0000gn/T/7bca415d13ed4ec881f0d0aede098dbb.sqlite\n",
      "\n"
     ]
    }
   ],
   "source": [
    "# Launch the domain\n",
    "node = sy.orchestra.launch(name=\"test-domain-1\", reset=True, dev_mode=True)\n",
    "data_owner_client = node.login(email=\"info@openmined.org\", password=\"changethis\")"
   ]
  },
  {
   "attachments": {},
   "cell_type": "markdown",
   "metadata": {},
   "source": [
    "## Part 1 - Data Scientist"
   ]
  },
  {
   "cell_type": "code",
   "execution_count": 50,
   "metadata": {},
   "outputs": [
    {
     "data": {
      "text/plain": [
       "<SyftClient - test-domain-1 <7bca415d13ed4ec881f0d0aede098dbb>: PythonConnection>"
      ]
     },
     "execution_count": 50,
     "metadata": {},
     "output_type": "execute_result"
    }
   ],
   "source": [
    "# Register a client to the domain\n",
    "data_scientist_client = node.client\n",
    "data_scientist_client.register(name=\"Jane Doe\", email=\"jane@caltech.edu\", password=\"abc123\", institution=\"Caltech\", website=\"https://www.caltech.edu/\")\n",
    "data_scientist_client.login(email=\"jane@caltech.edu\", password=\"abc123\")"
   ]
  },
  {
   "cell_type": "code",
   "execution_count": 51,
   "metadata": {},
   "outputs": [],
   "source": [
    "# Create a function for code execution\n",
    "# ATTENTION: ALL LIBRARIES USED SHOULD BE DEFINED INSIDE THE FUNCTION CONTEXT!!!\n",
    "\n",
    "@sy.syft_function(input_policy=sy.ExactMatch(),\n",
    "                  output_policy=sy.SingleExecutionExactOutput())\n",
    "def counter_1():\n",
    "    import jax\n",
    "\n",
    "    class Counter:\n",
    "        \"\"\"A simple counter.\"\"\"\n",
    "\n",
    "        def __init__(self):\n",
    "            self.n = 0\n",
    "\n",
    "        def count(self) -> int:\n",
    "            \"\"\"Increments the counter and returns the new value.\"\"\"\n",
    "            self.n += 1\n",
    "            return self.n\n",
    "\n",
    "        def reset(self):\n",
    "            \"\"\"Resets the counter to zero.\"\"\"\n",
    "            self.n = 0\n",
    "\n",
    "\n",
    "    counter = Counter()\n",
    "\n",
    "    for _ in range(3):\n",
    "        print(counter.count())\n",
    "\n",
    "    counter.reset()\n",
    "    fast_count = jax.jit(counter.count)\n",
    "\n",
    "    for _ in range(3):\n",
    "        print(fast_count())\n",
    "        \n",
    "\n",
    "@sy.syft_function(input_policy=sy.ExactMatch(),\n",
    "                  output_policy=sy.SingleExecutionExactOutput())\n",
    "def counter_2():    \n",
    "    import jax\n",
    "    from typing import Tuple\n",
    "\n",
    "    CounterState = int\n",
    "\n",
    "    class CounterV2:\n",
    "\n",
    "        def count(self, n: CounterState) -> Tuple[int, CounterState]:\n",
    "            # You could just return n+1, but here we separate its role as \n",
    "            # the output and as the counter state for didactic purposes.\n",
    "            return n+1, n+1\n",
    "\n",
    "        def reset(self) -> CounterState:\n",
    "            return 0\n",
    "\n",
    "    counter = CounterV2()\n",
    "    state = counter.reset()\n",
    "\n",
    "    for _ in range(3):\n",
    "        value, state = counter.count(state)\n",
    "        print(value)\n",
    "        \n",
    "    state = counter.reset()\n",
    "    fast_count = jax.jit(counter.count)\n",
    "\n",
    "    for _ in range(3):\n",
    "        value, state = fast_count(state)\n",
    "        print(value)\n",
    "        \n",
    "        \n",
    "@sy.syft_function(input_policy=sy.ExactMatch(),\n",
    "                  output_policy=sy.SingleExecutionExactOutput())\n",
    "def linear_regression():\n",
    "    import syft as sy\n",
    "    import jax\n",
    "    import jax.numpy as jnp\n",
    "    from typing import NamedTuple\n",
    "\n",
    "    # @sy.serializable([\"weight\", \"bias\"])\n",
    "    # class Params(NamedTuple):\n",
    "    #     weight: jnp.ndarray\n",
    "    #     bias: jnp.ndarray\n",
    "\n",
    "\n",
    "    def init(rng) -> tuple[jnp.ndarray, jnp.ndarray]:\n",
    "        \"\"\"Returns the initial model params.\"\"\"\n",
    "        weights_key, bias_key = jax.random.split(rng)\n",
    "        weight = jax.random.normal(weights_key, ())\n",
    "        bias = jax.random.normal(bias_key, ())\n",
    "        return weight, bias\n",
    "\n",
    "\n",
    "    def loss(weight: jnp.ndarray, bias: jnp.ndarray, x: jnp.ndarray, y: jnp.ndarray) -> jnp.ndarray:\n",
    "        \"\"\"Computes the least squares error of the model's predictions on x against y.\"\"\"\n",
    "        pred = weight * x + bias\n",
    "        return jnp.mean((pred - y) ** 2)\n",
    "\n",
    "\n",
    "    LEARNING_RATE = 0.005\n",
    "\n",
    "    @jax.jit\n",
    "    def update(params: tuple[jnp.ndarray, jnp.ndarray], x: jnp.ndarray, y: jnp.ndarray) -> tuple[jnp.ndarray, jnp.ndarray]:\n",
    "        \"\"\"Performs one SGD update step on params using the given data.\"\"\"\n",
    "        weight, bias = params\n",
    "        grad = jax.grad(loss)(weight, bias, x, y)\n",
    "\n",
    "        # If we were using Adam or another stateful optimizer,\n",
    "        # we would also do something like\n",
    "        # ```\n",
    "        # updates, new_optimizer_state = optimizer(grad, optimizer_state)\n",
    "        # ```\n",
    "        # and then use `updates` instead of `grad` to actually update the params.\n",
    "        # (And we'd include `new_optimizer_state` in the output, naturally.)\n",
    "\n",
    "        new_params = jax.tree_map(\n",
    "            lambda param, g: param - g * LEARNING_RATE, params, grad)\n",
    "\n",
    "        return new_params\n",
    "    \n",
    "    import matplotlib.pyplot as plt\n",
    "\n",
    "    rng = jax.random.PRNGKey(42)\n",
    "\n",
    "    # Generate true data from y = w*x + b + noise\n",
    "    true_w, true_b = 2, -1\n",
    "    x_rng, noise_rng = jax.random.split(rng)\n",
    "    xs = jax.random.normal(x_rng, (128, 1))\n",
    "    noise = jax.random.normal(noise_rng, (128, 1)) * 0.5\n",
    "    ys = xs * true_w + true_b + noise\n",
    "\n",
    "    # Fit regression\n",
    "    weight, bias = init(rng)\n",
    "    for _ in range(1000):\n",
    "        weight, bias = update((weight, bias), xs, ys)\n",
    "\n",
    "    plt.scatter(xs, ys)\n",
    "    plt.plot(xs, weight * xs + bias, c='red', label='Model Prediction')\n",
    "    plt.legend()\n",
    "    return weight, bias"
   ]
  },
  {
   "cell_type": "code",
   "execution_count": 52,
   "metadata": {},
   "outputs": [
    {
     "name": "stdout",
     "output_type": "stream",
     "text": [
      "1\n",
      "2\n",
      "3\n",
      "1\n",
      "1\n",
      "1\n",
      "1\n",
      "2\n",
      "3\n",
      "1\n",
      "2\n",
      "3\n"
     ]
    },
    {
     "ename": "TypeError",
     "evalue": "linear_regression.<locals>.loss() missing 1 required positional argument: 'y'",
     "output_type": "error",
     "traceback": [
      "\u001b[0;31m---------------------------------------------------------------------------\u001b[0m",
      "\u001b[0;31mTypeError\u001b[0m                                 Traceback (most recent call last)",
      "Cell \u001b[0;32mIn[52], line 4\u001b[0m\n\u001b[1;32m      2\u001b[0m counter_1()\n\u001b[1;32m      3\u001b[0m counter_2()\n\u001b[0;32m----> 4\u001b[0m linear_regression()\n",
      "File \u001b[0;32m~/dev/openmined/PySyft/packages/syft/src/syft/service/code/user_code.py:395\u001b[0m, in \u001b[0;36mSubmitUserCode.__call__\u001b[0;34m(self, *args, **kwargs)\u001b[0m\n\u001b[1;32m    392\u001b[0m     \u001b[39mfor\u001b[39;00m k, v \u001b[39min\u001b[39;00m kwargs\u001b[39m.\u001b[39mitems():\n\u001b[1;32m    393\u001b[0m         filtered_kwargs[k] \u001b[39m=\u001b[39m debox_asset(v)\n\u001b[0;32m--> 395\u001b[0m     \u001b[39mreturn\u001b[39;00m \u001b[39mself\u001b[39;49m\u001b[39m.\u001b[39;49mlocal_function(\u001b[39m*\u001b[39;49m\u001b[39m*\u001b[39;49mfiltered_kwargs)\n\u001b[1;32m    396\u001b[0m \u001b[39melse\u001b[39;00m:\n\u001b[1;32m    397\u001b[0m     \u001b[39mraise\u001b[39;00m \u001b[39mNotImplementedError\u001b[39;00m\n",
      "Cell \u001b[0;32mIn[51], line 133\u001b[0m, in \u001b[0;36mlinear_regression\u001b[0;34m()\u001b[0m\n\u001b[1;32m    131\u001b[0m weight, bias \u001b[39m=\u001b[39m init(rng)\n\u001b[1;32m    132\u001b[0m \u001b[39mfor\u001b[39;00m _ \u001b[39min\u001b[39;00m \u001b[39mrange\u001b[39m(\u001b[39m1000\u001b[39m):\n\u001b[0;32m--> 133\u001b[0m     weight, bias \u001b[39m=\u001b[39m update((weight, bias), xs, ys)\n\u001b[1;32m    135\u001b[0m plt\u001b[39m.\u001b[39mscatter(xs, ys)\n\u001b[1;32m    136\u001b[0m plt\u001b[39m.\u001b[39mplot(xs, weight \u001b[39m*\u001b[39m xs \u001b[39m+\u001b[39m bias, c\u001b[39m=\u001b[39m\u001b[39m'\u001b[39m\u001b[39mred\u001b[39m\u001b[39m'\u001b[39m, label\u001b[39m=\u001b[39m\u001b[39m'\u001b[39m\u001b[39mModel Prediction\u001b[39m\u001b[39m'\u001b[39m)\n",
      "    \u001b[0;31m[... skipping hidden 14 frame]\u001b[0m\n",
      "Cell \u001b[0;32mIn[51], line 104\u001b[0m, in \u001b[0;36mlinear_regression.<locals>.update\u001b[0;34m(params, x, y)\u001b[0m\n\u001b[1;32m    102\u001b[0m \u001b[39m\u001b[39m\u001b[39m\"\"\"Performs one SGD update step on params using the given data.\"\"\"\u001b[39;00m\n\u001b[1;32m    103\u001b[0m weight, bias \u001b[39m=\u001b[39m params\n\u001b[0;32m--> 104\u001b[0m grad \u001b[39m=\u001b[39m jax\u001b[39m.\u001b[39;49mgrad(loss)(params, x, y)\n\u001b[1;32m    106\u001b[0m \u001b[39m# If we were using Adam or another stateful optimizer,\u001b[39;00m\n\u001b[1;32m    107\u001b[0m \u001b[39m# we would also do something like\u001b[39;00m\n\u001b[1;32m    108\u001b[0m \u001b[39m# ```\u001b[39;00m\n\u001b[0;32m   (...)\u001b[0m\n\u001b[1;32m    111\u001b[0m \u001b[39m# and then use `updates` instead of `grad` to actually update the params.\u001b[39;00m\n\u001b[1;32m    112\u001b[0m \u001b[39m# (And we'd include `new_optimizer_state` in the output, naturally.)\u001b[39;00m\n\u001b[1;32m    114\u001b[0m new_params \u001b[39m=\u001b[39m jax\u001b[39m.\u001b[39mtree_map(\n\u001b[1;32m    115\u001b[0m     \u001b[39mlambda\u001b[39;00m param, g: param \u001b[39m-\u001b[39m g \u001b[39m*\u001b[39m LEARNING_RATE, params, grad)\n",
      "    \u001b[0;31m[... skipping hidden 9 frame]\u001b[0m\n",
      "File \u001b[0;32m~/.pyenv/versions/3.10.4/envs/jax_1/lib/python3.10/site-packages/jax/linear_util.py:168\u001b[0m, in \u001b[0;36mWrappedFun.call_wrapped\u001b[0;34m(self, *args, **kwargs)\u001b[0m\n\u001b[1;32m    165\u001b[0m gen \u001b[39m=\u001b[39m gen_static_args \u001b[39m=\u001b[39m out_store \u001b[39m=\u001b[39m \u001b[39mNone\u001b[39;00m\n\u001b[1;32m    167\u001b[0m \u001b[39mtry\u001b[39;00m:\n\u001b[0;32m--> 168\u001b[0m   ans \u001b[39m=\u001b[39m \u001b[39mself\u001b[39;49m\u001b[39m.\u001b[39;49mf(\u001b[39m*\u001b[39;49margs, \u001b[39m*\u001b[39;49m\u001b[39m*\u001b[39;49m\u001b[39mdict\u001b[39;49m(\u001b[39mself\u001b[39;49m\u001b[39m.\u001b[39;49mparams, \u001b[39m*\u001b[39;49m\u001b[39m*\u001b[39;49mkwargs))\n\u001b[1;32m    169\u001b[0m \u001b[39mexcept\u001b[39;00m:\n\u001b[1;32m    170\u001b[0m   \u001b[39m# Some transformations yield from inside context managers, so we have to\u001b[39;00m\n\u001b[1;32m    171\u001b[0m   \u001b[39m# interrupt them before reraising the exception. Otherwise they will only\u001b[39;00m\n\u001b[1;32m    172\u001b[0m   \u001b[39m# get garbage-collected at some later time, running their cleanup tasks\u001b[39;00m\n\u001b[1;32m    173\u001b[0m   \u001b[39m# only after this exception is handled, which can corrupt the global\u001b[39;00m\n\u001b[1;32m    174\u001b[0m   \u001b[39m# state.\u001b[39;00m\n\u001b[1;32m    175\u001b[0m   \u001b[39mwhile\u001b[39;00m stack:\n",
      "\u001b[0;31mTypeError\u001b[0m: linear_regression.<locals>.loss() missing 1 required positional argument: 'y'"
     ]
    }
   ],
   "source": [
    "# Test our function locally \n",
    "counter_1()\n",
    "counter_2()\n",
    "linear_regression()"
   ]
  },
  {
   "cell_type": "code",
   "execution_count": null,
   "metadata": {},
   "outputs": [
    {
     "data": {
      "text/markdown": [
       "```python\n",
       "class Request:\n",
       "  id: str = 741ceb01b1e3454c9177edbe3cc1d48c\n",
       "  requesting_user_verify_key: str = e1337403d9eef4f1bbfc2cff031445449d2aa37168d04b6efc94a55a7cc69e0e\n",
       "  approving_user_verify_key: str = None\n",
       "  request_time: str = 2023-05-29 07:02:19\n",
       "  approval_time: str = None\n",
       "  status: str = RequestStatus.PENDING\n",
       "  node_uid: str = 7bca415d13ed4ec881f0d0aede098dbb\n",
       "  request_hash: str = \"952dd9978b03053942285019949c1b53d0b867b9b7cbd4ecf2ab957bfa085724\"\n",
       "  changes: str = [syft.service.request.request.UserCodeStatusChange]\n",
       "\n",
       "```"
      ],
      "text/plain": [
       "syft.service.request.request.Request"
      ]
     },
     "execution_count": 34,
     "metadata": {},
     "output_type": "execute_result"
    }
   ],
   "source": [
    "# Submit the function for code execution\n",
    "data_scientist_client.api.services.code.request_code_execution(counter_1)\n",
    "data_scientist_client.api.services.code.request_code_execution(counter_2)\n",
    "data_scientist_client.api.services.code.request_code_execution(linear_regression)"
   ]
  },
  {
   "attachments": {},
   "cell_type": "markdown",
   "metadata": {},
   "source": [
    "## Part 2 - Data Owner Reviewing and Approving Requests"
   ]
  },
  {
   "cell_type": "code",
   "execution_count": null,
   "metadata": {},
   "outputs": [],
   "source": [
    "data_owner_client = node.login(email=\"info@openmined.org\", password=\"changethis\")"
   ]
  },
  {
   "cell_type": "code",
   "execution_count": null,
   "metadata": {},
   "outputs": [
    {
     "data": {
      "text/html": [
       "List - Size: 3\n",
       "<div>\n",
       "<style scoped>\n",
       "    .dataframe tbody tr th:only-of-type {\n",
       "        vertical-align: middle;\n",
       "    }\n",
       "\n",
       "    .dataframe tbody tr th {\n",
       "        vertical-align: top;\n",
       "    }\n",
       "\n",
       "    .dataframe thead th {\n",
       "        text-align: right;\n",
       "    }\n",
       "</style>\n",
       "<table border=\"1\" class=\"dataframe\">\n",
       "  <thead>\n",
       "    <tr style=\"text-align: right;\">\n",
       "      <th></th>\n",
       "      <th>type</th>\n",
       "      <th>id</th>\n",
       "      <th>subject</th>\n",
       "      <th>status</th>\n",
       "      <th>created_at</th>\n",
       "      <th>linked_obj</th>\n",
       "    </tr>\n",
       "  </thead>\n",
       "  <tbody>\n",
       "    <tr>\n",
       "      <th>0</th>\n",
       "      <td>syft.service.message.messages.Message</td>\n",
       "      <td>fecd2a05c20841caa0176b07fda9a0e5</td>\n",
       "      <td>Approval Request</td>\n",
       "      <td>MessageStatus.UNDELIVERED</td>\n",
       "      <td>2023-05-29 07:02:19</td>\n",
       "      <td>&lt;&lt;class 'syft.service.request.request.Request'...</td>\n",
       "    </tr>\n",
       "    <tr>\n",
       "      <th>1</th>\n",
       "      <td>syft.service.message.messages.Message</td>\n",
       "      <td>eefa3748459c4db7bae35d8f5f38e9a3</td>\n",
       "      <td>Approval Request</td>\n",
       "      <td>MessageStatus.UNDELIVERED</td>\n",
       "      <td>2023-05-29 07:02:19</td>\n",
       "      <td>&lt;&lt;class 'syft.service.request.request.Request'...</td>\n",
       "    </tr>\n",
       "    <tr>\n",
       "      <th>2</th>\n",
       "      <td>syft.service.message.messages.Message</td>\n",
       "      <td>a5eeb3c7485246f6bd7856df0e3a2d9e</td>\n",
       "      <td>Approval Request</td>\n",
       "      <td>MessageStatus.UNDELIVERED</td>\n",
       "      <td>2023-05-29 07:02:19</td>\n",
       "      <td>&lt;&lt;class 'syft.service.request.request.Request'...</td>\n",
       "    </tr>\n",
       "  </tbody>\n",
       "</table>\n",
       "</div>"
      ],
      "text/plain": [
       "[syft.service.message.messages.Message,\n",
       " syft.service.message.messages.Message,\n",
       " syft.service.message.messages.Message]"
      ]
     },
     "execution_count": 36,
     "metadata": {},
     "output_type": "execute_result"
    }
   ],
   "source": [
    "# Get messages from domain\n",
    "messages = data_owner_client.api.services.messages.get_all()\n",
    "messages"
   ]
  },
  {
   "cell_type": "code",
   "execution_count": null,
   "metadata": {},
   "outputs": [
    {
     "name": "stdout",
     "output_type": "stream",
     "text": [
      "linear_regression\n",
      "@sy.syft_function(input_policy=sy.ExactMatch(),\n",
      "                  output_policy=sy.SingleExecutionExactOutput())\n",
      "def linear_regression():\n",
      "    import syft as sy\n",
      "    import jax\n",
      "    import jax.numpy as jnp\n",
      "    from typing import NamedTuple\n",
      "\n",
      "    @sy.serializable([\"weight\", \"bias\"])\n",
      "    class Params(NamedTuple):\n",
      "        weight: jnp.ndarray\n",
      "        bias: jnp.ndarray\n",
      "\n",
      "\n",
      "    def init(rng) -> Params:\n",
      "        \"\"\"Returns the initial model params.\"\"\"\n",
      "        weights_key, bias_key = jax.random.split(rng)\n",
      "        weight = jax.random.normal(weights_key, ())\n",
      "        bias = jax.random.normal(bias_key, ())\n",
      "        return Params(weight, bias)\n",
      "\n",
      "\n",
      "    def loss(params: Params, x: jnp.ndarray, y: jnp.ndarray) -> jnp.ndarray:\n",
      "        \"\"\"Computes the least squares error of the model's predictions on x against y.\"\"\"\n",
      "        pred = params.weight * x + params.bias\n",
      "        return jnp.mean((pred - y) ** 2)\n",
      "\n",
      "\n",
      "    LEARNING_RATE = 0.005\n",
      "\n",
      "    @jax.jit\n",
      "    def update(params: Params, x: jnp.ndarray, y: jnp.ndarray) -> Params:\n",
      "        \"\"\"Performs one SGD update step on params using the given data.\"\"\"\n",
      "        grad = jax.grad(loss)(params, x, y)\n",
      "\n",
      "        # If we were using Adam or another stateful optimizer,\n",
      "        # we would also do something like\n",
      "        # ```\n",
      "        # updates, new_optimizer_state = optimizer(grad, optimizer_state)\n",
      "        # ```\n",
      "        # and then use `updates` instead of `grad` to actually update the params.\n",
      "        # (And we'd include `new_optimizer_state` in the output, naturally.)\n",
      "\n",
      "        new_params = jax.tree_map(\n",
      "            lambda param, g: param - g * LEARNING_RATE, params, grad)\n",
      "\n",
      "        return new_params\n",
      "    \n",
      "    import matplotlib.pyplot as plt\n",
      "\n",
      "    rng = jax.random.PRNGKey(42)\n",
      "\n",
      "    # Generate true data from y = w*x + b + noise\n",
      "    true_w, true_b = 2, -1\n",
      "    x_rng, noise_rng = jax.random.split(rng)\n",
      "    xs = jax.random.normal(x_rng, (128, 1))\n",
      "    noise = jax.random.normal(noise_rng, (128, 1)) * 0.5\n",
      "    ys = xs * true_w + true_b + noise\n",
      "\n",
      "    # Fit regression\n",
      "    params = init(rng)\n",
      "    for _ in range(1000):\n",
      "        params = update(params, xs, ys)\n",
      "\n",
      "    plt.scatter(xs, ys)\n",
      "    plt.plot(xs, params.weight * xs + params.bias, c='red', label='Model Prediction')\n",
      "    plt.legend()\n",
      "    return params\n",
      "\n",
      "WARNING: This code was submitted by a User and could be UNSAFE.\n",
      "syft.service.code.user_code.UserCodeExecutionResult\n",
      "****** syft.service.code.user_code.UserCodeExecutionResult <class 'syft.service.code.user_code.UserCodeExecutionResult'>\n"
     ]
    },
    {
     "name": "stderr",
     "output_type": "stream",
     "text": [
      "exec_result=syft.service.code.user_code.UserCodeExecutionResult\n",
      "action_object=Pointer:\n",
      "syft.service.code.user_code.UserCodeExecutionResult\n"
     ]
    },
    {
     "ename": "TypeError",
     "evalue": "Params.__new__() missing 2 required positional arguments: 'weight' and 'bias'",
     "output_type": "error",
     "traceback": [
      "\u001b[0;31m---------------------------------------------------------------------------\u001b[0m",
      "\u001b[0;31mTypeError\u001b[0m                                 Traceback (most recent call last)",
      "Cell \u001b[0;32mIn[37], line 6\u001b[0m\n\u001b[1;32m      4\u001b[0m review_request(message)\n\u001b[1;32m      5\u001b[0m real_result \u001b[39m=\u001b[39m run_submitted_function(message)\n\u001b[0;32m----> 6\u001b[0m accept_request(message, real_result)\n",
      "File \u001b[0;32m~/dev/openmined/PySyft/notebooks/tutorials/jax-101/helpers.py:25\u001b[0m, in \u001b[0;36maccept_request\u001b[0;34m(message, real_result)\u001b[0m\n\u001b[1;32m     23\u001b[0m \u001b[39mif\u001b[39;00m real_result \u001b[39mis\u001b[39;00m \u001b[39mnot\u001b[39;00m \u001b[39mNone\u001b[39;00m:\n\u001b[1;32m     24\u001b[0m     \u001b[39mprint\u001b[39m(\u001b[39m\"\u001b[39m\u001b[39m******\u001b[39m\u001b[39m\"\u001b[39m, real_result, \u001b[39mtype\u001b[39m(real_result))\n\u001b[0;32m---> 25\u001b[0m     result \u001b[39m=\u001b[39m request\u001b[39m.\u001b[39;49maccept_by_depositing_result(real_result)\n\u001b[1;32m     26\u001b[0m     \u001b[39mprint\u001b[39m(result)\n",
      "File \u001b[0;32m~/dev/openmined/PySyft/packages/syft/src/syft/service/request/request.py:190\u001b[0m, in \u001b[0;36mRequest.accept_by_depositing_result\u001b[0;34m(self, exec_result)\u001b[0m\n\u001b[1;32m    187\u001b[0m action_object \u001b[39m=\u001b[39m ActionObject\u001b[39m.\u001b[39mfrom_obj(exec_result)\n\u001b[1;32m    188\u001b[0m \u001b[39mprint\u001b[39m(\u001b[39mf\u001b[39m\u001b[39m'\u001b[39m\u001b[39m{\u001b[39;00maction_object\u001b[39m=}\u001b[39;00m\u001b[39m'\u001b[39m, file\u001b[39m=\u001b[39msys\u001b[39m.\u001b[39mstderr)\n\u001b[0;32m--> 190\u001b[0m result \u001b[39m=\u001b[39m api\u001b[39m.\u001b[39;49mservices\u001b[39m.\u001b[39;49maction\u001b[39m.\u001b[39;49msave(action_object)\n\u001b[1;32m    191\u001b[0m \u001b[39m# relative\u001b[39;00m\n\u001b[1;32m    192\u001b[0m \u001b[39mfrom\u001b[39;00m \u001b[39m.\u001b[39;00m\u001b[39m.\u001b[39;00m\u001b[39m.\u001b[39;00m\u001b[39mservice\u001b[39;00m\u001b[39m.\u001b[39;00m\u001b[39maction\u001b[39;00m\u001b[39m.\u001b[39;00m\u001b[39maction_service\u001b[39;00m \u001b[39mimport\u001b[39;00m TwinMode\n",
      "File \u001b[0;32m~/dev/openmined/PySyft/packages/syft/src/syft/client/api.py:207\u001b[0m, in \u001b[0;36mgenerate_remote_function.<locals>.wrapper\u001b[0;34m(*args, **kwargs)\u001b[0m\n\u001b[1;32m    198\u001b[0m     _valid_kwargs\u001b[39m.\u001b[39mupdate(pre_kwargs)\n\u001b[1;32m    200\u001b[0m api_call \u001b[39m=\u001b[39m SyftAPICall(\n\u001b[1;32m    201\u001b[0m     node_uid\u001b[39m=\u001b[39mnode_uid,\n\u001b[1;32m    202\u001b[0m     path\u001b[39m=\u001b[39mpath,\n\u001b[0;32m   (...)\u001b[0m\n\u001b[1;32m    205\u001b[0m     blocking\u001b[39m=\u001b[39mblocking,\n\u001b[1;32m    206\u001b[0m )\n\u001b[0;32m--> 207\u001b[0m result \u001b[39m=\u001b[39m make_call(api_call\u001b[39m=\u001b[39;49mapi_call)\n\u001b[1;32m    208\u001b[0m \u001b[39mreturn\u001b[39;00m result\n",
      "File \u001b[0;32m~/dev/openmined/PySyft/packages/syft/src/syft/client/api.py:427\u001b[0m, in \u001b[0;36mSyftAPI.make_call\u001b[0;34m(self, api_call)\u001b[0m\n\u001b[1;32m    425\u001b[0m \u001b[39mdef\u001b[39;00m \u001b[39mmake_call\u001b[39m(\u001b[39mself\u001b[39m, api_call: SyftAPICall) \u001b[39m-\u001b[39m\u001b[39m>\u001b[39m Result:\n\u001b[1;32m    426\u001b[0m     signed_call \u001b[39m=\u001b[39m api_call\u001b[39m.\u001b[39msign(credentials\u001b[39m=\u001b[39m\u001b[39mself\u001b[39m\u001b[39m.\u001b[39msigning_key)\n\u001b[0;32m--> 427\u001b[0m     signed_result \u001b[39m=\u001b[39m \u001b[39mself\u001b[39;49m\u001b[39m.\u001b[39;49mconnection\u001b[39m.\u001b[39;49mmake_call(signed_call)\n\u001b[1;32m    429\u001b[0m     \u001b[39mif\u001b[39;00m \u001b[39mnot\u001b[39;00m \u001b[39misinstance\u001b[39m(signed_result, SignedSyftAPICall):\n\u001b[1;32m    430\u001b[0m         \u001b[39mreturn\u001b[39;00m SyftError(message\u001b[39m=\u001b[39m\u001b[39m\"\u001b[39m\u001b[39mThe result is not signed\u001b[39m\u001b[39m\"\u001b[39m)  \u001b[39m# type: ignore\u001b[39;00m\n",
      "File \u001b[0;32m~/dev/openmined/PySyft/packages/syft/src/syft/client/client.py:292\u001b[0m, in \u001b[0;36mPythonConnection.make_call\u001b[0;34m(self, signed_call)\u001b[0m\n\u001b[1;32m    291\u001b[0m \u001b[39mdef\u001b[39;00m \u001b[39mmake_call\u001b[39m(\u001b[39mself\u001b[39m, signed_call: SignedSyftAPICall) \u001b[39m-\u001b[39m\u001b[39m>\u001b[39m Union[Any, SyftError]:\n\u001b[0;32m--> 292\u001b[0m     \u001b[39mreturn\u001b[39;00m \u001b[39mself\u001b[39;49m\u001b[39m.\u001b[39;49mnode\u001b[39m.\u001b[39;49mhandle_api_call(signed_call)\n",
      "File \u001b[0;32m~/dev/openmined/PySyft/packages/syft/src/syft/node/node.py:557\u001b[0m, in \u001b[0;36mNode.handle_api_call\u001b[0;34m(self, api_call)\u001b[0m\n\u001b[1;32m    553\u001b[0m \u001b[39mdef\u001b[39;00m \u001b[39mhandle_api_call\u001b[39m(\n\u001b[1;32m    554\u001b[0m     \u001b[39mself\u001b[39m, api_call: Union[SyftAPICall, SignedSyftAPICall]\n\u001b[1;32m    555\u001b[0m ) \u001b[39m-\u001b[39m\u001b[39m>\u001b[39m Result[SignedSyftAPICall, Err]:\n\u001b[1;32m    556\u001b[0m     \u001b[39m# Get the result\u001b[39;00m\n\u001b[0;32m--> 557\u001b[0m     result \u001b[39m=\u001b[39m \u001b[39mself\u001b[39;49m\u001b[39m.\u001b[39;49mhandle_api_call_with_unsigned_result(api_call)\n\u001b[1;32m    558\u001b[0m     \u001b[39m# Sign the result\u001b[39;00m\n\u001b[1;32m    559\u001b[0m     signed_result \u001b[39m=\u001b[39m SyftAPIData(data\u001b[39m=\u001b[39mresult)\u001b[39m.\u001b[39msign(\u001b[39mself\u001b[39m\u001b[39m.\u001b[39msigning_key)\n",
      "File \u001b[0;32m~/dev/openmined/PySyft/packages/syft/src/syft/node/node.py:574\u001b[0m, in \u001b[0;36mNode.handle_api_call_with_unsigned_result\u001b[0;34m(self, api_call)\u001b[0m\n\u001b[1;32m    571\u001b[0m     \u001b[39mif\u001b[39;00m \u001b[39mnot\u001b[39;00m api_call\u001b[39m.\u001b[39mis_valid:\n\u001b[1;32m    572\u001b[0m         \u001b[39mreturn\u001b[39;00m SyftError(message\u001b[39m=\u001b[39m\u001b[39m\"\u001b[39m\u001b[39mYour message signature is invalid\u001b[39m\u001b[39m\"\u001b[39m)  \u001b[39m# type: ignore\u001b[39;00m\n\u001b[0;32m--> 574\u001b[0m \u001b[39mif\u001b[39;00m api_call\u001b[39m.\u001b[39;49mmessage\u001b[39m.\u001b[39mnode_uid \u001b[39m!=\u001b[39m \u001b[39mself\u001b[39m\u001b[39m.\u001b[39mid:\n\u001b[1;32m    575\u001b[0m     \u001b[39mreturn\u001b[39;00m \u001b[39mself\u001b[39m\u001b[39m.\u001b[39mforward_message(api_call\u001b[39m=\u001b[39mapi_call)\n\u001b[1;32m    576\u001b[0m \u001b[39mif\u001b[39;00m api_call\u001b[39m.\u001b[39mmessage\u001b[39m.\u001b[39mpath \u001b[39m==\u001b[39m \u001b[39m\"\u001b[39m\u001b[39mqueue\u001b[39m\u001b[39m\"\u001b[39m:\n",
      "File \u001b[0;32m~/dev/openmined/PySyft/packages/syft/src/syft/client/api.py:111\u001b[0m, in \u001b[0;36mSignedSyftAPICall.message\u001b[0;34m(self)\u001b[0m\n\u001b[1;32m    108\u001b[0m     \u001b[39mself\u001b[39m\u001b[39m.\u001b[39mcached_deseralized_message \u001b[39m=\u001b[39m \u001b[39mNone\u001b[39;00m\n\u001b[1;32m    110\u001b[0m \u001b[39mif\u001b[39;00m \u001b[39mself\u001b[39m\u001b[39m.\u001b[39mcached_deseralized_message \u001b[39mis\u001b[39;00m \u001b[39mNone\u001b[39;00m:\n\u001b[0;32m--> 111\u001b[0m     \u001b[39mself\u001b[39m\u001b[39m.\u001b[39mcached_deseralized_message \u001b[39m=\u001b[39m _deserialize(\n\u001b[1;32m    112\u001b[0m         blob\u001b[39m=\u001b[39;49m\u001b[39mself\u001b[39;49m\u001b[39m.\u001b[39;49mserialized_message, from_bytes\u001b[39m=\u001b[39;49m\u001b[39mTrue\u001b[39;49;00m\n\u001b[1;32m    113\u001b[0m     )\n\u001b[1;32m    115\u001b[0m \u001b[39mreturn\u001b[39;00m \u001b[39mself\u001b[39m\u001b[39m.\u001b[39mcached_deseralized_message\n",
      "File \u001b[0;32m~/dev/openmined/PySyft/packages/syft/src/syft/serde/deserialize.py:29\u001b[0m, in \u001b[0;36m_deserialize\u001b[0;34m(blob, from_proto, from_bytes)\u001b[0m\n\u001b[1;32m     26\u001b[0m     \u001b[39mraise\u001b[39;00m \u001b[39mTypeError\u001b[39;00m(\u001b[39m\"\u001b[39m\u001b[39mWrong deserialization format.\u001b[39m\u001b[39m\"\u001b[39m)\n\u001b[1;32m     28\u001b[0m \u001b[39mif\u001b[39;00m from_bytes:\n\u001b[0;32m---> 29\u001b[0m     \u001b[39mreturn\u001b[39;00m rs_bytes2object(blob)\n\u001b[1;32m     31\u001b[0m \u001b[39mif\u001b[39;00m from_proto:\n\u001b[1;32m     32\u001b[0m     \u001b[39mreturn\u001b[39;00m rs_proto2object(blob)\n",
      "File \u001b[0;32m~/dev/openmined/PySyft/packages/syft/src/syft/serde/recursive.py:184\u001b[0m, in \u001b[0;36mrs_bytes2object\u001b[0;34m(blob)\u001b[0m\n\u001b[1;32m    179\u001b[0m MAX_TRAVERSAL_LIMIT \u001b[39m=\u001b[39m \u001b[39m2\u001b[39m\u001b[39m*\u001b[39m\u001b[39m*\u001b[39m\u001b[39m64\u001b[39m \u001b[39m-\u001b[39m \u001b[39m1\u001b[39m\n\u001b[1;32m    181\u001b[0m \u001b[39mwith\u001b[39;00m recursive_scheme\u001b[39m.\u001b[39mfrom_bytes(  \u001b[39m# type: ignore\u001b[39;00m\n\u001b[1;32m    182\u001b[0m     blob, traversal_limit_in_words\u001b[39m=\u001b[39mMAX_TRAVERSAL_LIMIT\n\u001b[1;32m    183\u001b[0m ) \u001b[39mas\u001b[39;00m msg:\n\u001b[0;32m--> 184\u001b[0m     \u001b[39mreturn\u001b[39;00m rs_proto2object(msg)\n",
      "File \u001b[0;32m~/dev/openmined/PySyft/packages/syft/src/syft/serde/recursive.py:249\u001b[0m, in \u001b[0;36mrs_proto2object\u001b[0;34m(proto)\u001b[0m\n\u001b[1;32m    247\u001b[0m \u001b[39mif\u001b[39;00m attr_name \u001b[39m!=\u001b[39m \u001b[39m\"\u001b[39m\u001b[39m\"\u001b[39m:\n\u001b[1;32m    248\u001b[0m     attr_bytes \u001b[39m=\u001b[39m combine_bytes(attr_bytes_list)\n\u001b[0;32m--> 249\u001b[0m     attr_value \u001b[39m=\u001b[39m _deserialize(attr_bytes, from_bytes\u001b[39m=\u001b[39;49m\u001b[39mTrue\u001b[39;49;00m)\n\u001b[1;32m    250\u001b[0m     transforms \u001b[39m=\u001b[39m serde_overrides\u001b[39m.\u001b[39mget(attr_name, \u001b[39mNone\u001b[39;00m)\n\u001b[1;32m    252\u001b[0m     \u001b[39mif\u001b[39;00m transforms \u001b[39mis\u001b[39;00m \u001b[39mnot\u001b[39;00m \u001b[39mNone\u001b[39;00m:\n",
      "File \u001b[0;32m~/dev/openmined/PySyft/packages/syft/src/syft/serde/deserialize.py:29\u001b[0m, in \u001b[0;36m_deserialize\u001b[0;34m(blob, from_proto, from_bytes)\u001b[0m\n\u001b[1;32m     26\u001b[0m     \u001b[39mraise\u001b[39;00m \u001b[39mTypeError\u001b[39;00m(\u001b[39m\"\u001b[39m\u001b[39mWrong deserialization format.\u001b[39m\u001b[39m\"\u001b[39m)\n\u001b[1;32m     28\u001b[0m \u001b[39mif\u001b[39;00m from_bytes:\n\u001b[0;32m---> 29\u001b[0m     \u001b[39mreturn\u001b[39;00m rs_bytes2object(blob)\n\u001b[1;32m     31\u001b[0m \u001b[39mif\u001b[39;00m from_proto:\n\u001b[1;32m     32\u001b[0m     \u001b[39mreturn\u001b[39;00m rs_proto2object(blob)\n",
      "File \u001b[0;32m~/dev/openmined/PySyft/packages/syft/src/syft/serde/recursive.py:184\u001b[0m, in \u001b[0;36mrs_bytes2object\u001b[0;34m(blob)\u001b[0m\n\u001b[1;32m    179\u001b[0m MAX_TRAVERSAL_LIMIT \u001b[39m=\u001b[39m \u001b[39m2\u001b[39m\u001b[39m*\u001b[39m\u001b[39m*\u001b[39m\u001b[39m64\u001b[39m \u001b[39m-\u001b[39m \u001b[39m1\u001b[39m\n\u001b[1;32m    181\u001b[0m \u001b[39mwith\u001b[39;00m recursive_scheme\u001b[39m.\u001b[39mfrom_bytes(  \u001b[39m# type: ignore\u001b[39;00m\n\u001b[1;32m    182\u001b[0m     blob, traversal_limit_in_words\u001b[39m=\u001b[39mMAX_TRAVERSAL_LIMIT\n\u001b[1;32m    183\u001b[0m ) \u001b[39mas\u001b[39;00m msg:\n\u001b[0;32m--> 184\u001b[0m     \u001b[39mreturn\u001b[39;00m rs_proto2object(msg)\n",
      "File \u001b[0;32m~/dev/openmined/PySyft/packages/syft/src/syft/serde/recursive.py:242\u001b[0m, in \u001b[0;36mrs_proto2object\u001b[0;34m(proto)\u001b[0m\n\u001b[1;32m    237\u001b[0m     \u001b[39mif\u001b[39;00m deserialize \u001b[39mis\u001b[39;00m \u001b[39mNone\u001b[39;00m:\n\u001b[1;32m    238\u001b[0m         \u001b[39mraise\u001b[39;00m \u001b[39mException\u001b[39;00m(\n\u001b[1;32m    239\u001b[0m             \u001b[39mf\u001b[39m\u001b[39m\"\u001b[39m\u001b[39mCant serialize \u001b[39m\u001b[39m{\u001b[39;00m\u001b[39mtype\u001b[39m(proto)\u001b[39m}\u001b[39;00m\u001b[39m nonrecursive without serialize.\u001b[39m\u001b[39m\"\u001b[39m\n\u001b[1;32m    240\u001b[0m         )\n\u001b[0;32m--> 242\u001b[0m     \u001b[39mreturn\u001b[39;00m deserialize(combine_bytes(proto\u001b[39m.\u001b[39;49mnonrecursiveBlob))\n\u001b[1;32m    244\u001b[0m kwargs \u001b[39m=\u001b[39m {}\n\u001b[1;32m    246\u001b[0m \u001b[39mfor\u001b[39;00m attr_name, attr_bytes_list \u001b[39min\u001b[39;00m \u001b[39mzip\u001b[39m(proto\u001b[39m.\u001b[39mfieldsName, proto\u001b[39m.\u001b[39mfieldsData):\n",
      "File \u001b[0;32m~/dev/openmined/PySyft/packages/syft/src/syft/serde/recursive_primitives.py:65\u001b[0m, in \u001b[0;36mdeserialize_iterable\u001b[0;34m(iterable_type, blob)\u001b[0m\n\u001b[1;32m     61\u001b[0m \u001b[39mwith\u001b[39;00m iterable_schema\u001b[39m.\u001b[39mfrom_bytes(  \u001b[39m# type: ignore\u001b[39;00m\n\u001b[1;32m     62\u001b[0m     blob, traversal_limit_in_words\u001b[39m=\u001b[39mMAX_TRAVERSAL_LIMIT\n\u001b[1;32m     63\u001b[0m ) \u001b[39mas\u001b[39;00m msg:\n\u001b[1;32m     64\u001b[0m     \u001b[39mfor\u001b[39;00m element \u001b[39min\u001b[39;00m msg\u001b[39m.\u001b[39mvalues:\n\u001b[0;32m---> 65\u001b[0m         values\u001b[39m.\u001b[39mappend(_deserialize(combine_bytes(element), from_bytes\u001b[39m=\u001b[39;49m\u001b[39mTrue\u001b[39;49;00m))\n\u001b[1;32m     67\u001b[0m \u001b[39mreturn\u001b[39;00m iterable_type(values)\n",
      "File \u001b[0;32m~/dev/openmined/PySyft/packages/syft/src/syft/serde/deserialize.py:29\u001b[0m, in \u001b[0;36m_deserialize\u001b[0;34m(blob, from_proto, from_bytes)\u001b[0m\n\u001b[1;32m     26\u001b[0m     \u001b[39mraise\u001b[39;00m \u001b[39mTypeError\u001b[39;00m(\u001b[39m\"\u001b[39m\u001b[39mWrong deserialization format.\u001b[39m\u001b[39m\"\u001b[39m)\n\u001b[1;32m     28\u001b[0m \u001b[39mif\u001b[39;00m from_bytes:\n\u001b[0;32m---> 29\u001b[0m     \u001b[39mreturn\u001b[39;00m rs_bytes2object(blob)\n\u001b[1;32m     31\u001b[0m \u001b[39mif\u001b[39;00m from_proto:\n\u001b[1;32m     32\u001b[0m     \u001b[39mreturn\u001b[39;00m rs_proto2object(blob)\n",
      "File \u001b[0;32m~/dev/openmined/PySyft/packages/syft/src/syft/serde/recursive.py:184\u001b[0m, in \u001b[0;36mrs_bytes2object\u001b[0;34m(blob)\u001b[0m\n\u001b[1;32m    179\u001b[0m MAX_TRAVERSAL_LIMIT \u001b[39m=\u001b[39m \u001b[39m2\u001b[39m\u001b[39m*\u001b[39m\u001b[39m*\u001b[39m\u001b[39m64\u001b[39m \u001b[39m-\u001b[39m \u001b[39m1\u001b[39m\n\u001b[1;32m    181\u001b[0m \u001b[39mwith\u001b[39;00m recursive_scheme\u001b[39m.\u001b[39mfrom_bytes(  \u001b[39m# type: ignore\u001b[39;00m\n\u001b[1;32m    182\u001b[0m     blob, traversal_limit_in_words\u001b[39m=\u001b[39mMAX_TRAVERSAL_LIMIT\n\u001b[1;32m    183\u001b[0m ) \u001b[39mas\u001b[39;00m msg:\n\u001b[0;32m--> 184\u001b[0m     \u001b[39mreturn\u001b[39;00m rs_proto2object(msg)\n",
      "File \u001b[0;32m~/dev/openmined/PySyft/packages/syft/src/syft/serde/recursive.py:249\u001b[0m, in \u001b[0;36mrs_proto2object\u001b[0;34m(proto)\u001b[0m\n\u001b[1;32m    247\u001b[0m \u001b[39mif\u001b[39;00m attr_name \u001b[39m!=\u001b[39m \u001b[39m\"\u001b[39m\u001b[39m\"\u001b[39m:\n\u001b[1;32m    248\u001b[0m     attr_bytes \u001b[39m=\u001b[39m combine_bytes(attr_bytes_list)\n\u001b[0;32m--> 249\u001b[0m     attr_value \u001b[39m=\u001b[39m _deserialize(attr_bytes, from_bytes\u001b[39m=\u001b[39;49m\u001b[39mTrue\u001b[39;49;00m)\n\u001b[1;32m    250\u001b[0m     transforms \u001b[39m=\u001b[39m serde_overrides\u001b[39m.\u001b[39mget(attr_name, \u001b[39mNone\u001b[39;00m)\n\u001b[1;32m    252\u001b[0m     \u001b[39mif\u001b[39;00m transforms \u001b[39mis\u001b[39;00m \u001b[39mnot\u001b[39;00m \u001b[39mNone\u001b[39;00m:\n",
      "File \u001b[0;32m~/dev/openmined/PySyft/packages/syft/src/syft/serde/deserialize.py:29\u001b[0m, in \u001b[0;36m_deserialize\u001b[0;34m(blob, from_proto, from_bytes)\u001b[0m\n\u001b[1;32m     26\u001b[0m     \u001b[39mraise\u001b[39;00m \u001b[39mTypeError\u001b[39;00m(\u001b[39m\"\u001b[39m\u001b[39mWrong deserialization format.\u001b[39m\u001b[39m\"\u001b[39m)\n\u001b[1;32m     28\u001b[0m \u001b[39mif\u001b[39;00m from_bytes:\n\u001b[0;32m---> 29\u001b[0m     \u001b[39mreturn\u001b[39;00m rs_bytes2object(blob)\n\u001b[1;32m     31\u001b[0m \u001b[39mif\u001b[39;00m from_proto:\n\u001b[1;32m     32\u001b[0m     \u001b[39mreturn\u001b[39;00m rs_proto2object(blob)\n",
      "File \u001b[0;32m~/dev/openmined/PySyft/packages/syft/src/syft/serde/recursive.py:184\u001b[0m, in \u001b[0;36mrs_bytes2object\u001b[0;34m(blob)\u001b[0m\n\u001b[1;32m    179\u001b[0m MAX_TRAVERSAL_LIMIT \u001b[39m=\u001b[39m \u001b[39m2\u001b[39m\u001b[39m*\u001b[39m\u001b[39m*\u001b[39m\u001b[39m64\u001b[39m \u001b[39m-\u001b[39m \u001b[39m1\u001b[39m\n\u001b[1;32m    181\u001b[0m \u001b[39mwith\u001b[39;00m recursive_scheme\u001b[39m.\u001b[39mfrom_bytes(  \u001b[39m# type: ignore\u001b[39;00m\n\u001b[1;32m    182\u001b[0m     blob, traversal_limit_in_words\u001b[39m=\u001b[39mMAX_TRAVERSAL_LIMIT\n\u001b[1;32m    183\u001b[0m ) \u001b[39mas\u001b[39;00m msg:\n\u001b[0;32m--> 184\u001b[0m     \u001b[39mreturn\u001b[39;00m rs_proto2object(msg)\n",
      "File \u001b[0;32m~/dev/openmined/PySyft/packages/syft/src/syft/serde/recursive.py:249\u001b[0m, in \u001b[0;36mrs_proto2object\u001b[0;34m(proto)\u001b[0m\n\u001b[1;32m    247\u001b[0m \u001b[39mif\u001b[39;00m attr_name \u001b[39m!=\u001b[39m \u001b[39m\"\u001b[39m\u001b[39m\"\u001b[39m:\n\u001b[1;32m    248\u001b[0m     attr_bytes \u001b[39m=\u001b[39m combine_bytes(attr_bytes_list)\n\u001b[0;32m--> 249\u001b[0m     attr_value \u001b[39m=\u001b[39m _deserialize(attr_bytes, from_bytes\u001b[39m=\u001b[39;49m\u001b[39mTrue\u001b[39;49;00m)\n\u001b[1;32m    250\u001b[0m     transforms \u001b[39m=\u001b[39m serde_overrides\u001b[39m.\u001b[39mget(attr_name, \u001b[39mNone\u001b[39;00m)\n\u001b[1;32m    252\u001b[0m     \u001b[39mif\u001b[39;00m transforms \u001b[39mis\u001b[39;00m \u001b[39mnot\u001b[39;00m \u001b[39mNone\u001b[39;00m:\n",
      "File \u001b[0;32m~/dev/openmined/PySyft/packages/syft/src/syft/serde/deserialize.py:29\u001b[0m, in \u001b[0;36m_deserialize\u001b[0;34m(blob, from_proto, from_bytes)\u001b[0m\n\u001b[1;32m     26\u001b[0m     \u001b[39mraise\u001b[39;00m \u001b[39mTypeError\u001b[39;00m(\u001b[39m\"\u001b[39m\u001b[39mWrong deserialization format.\u001b[39m\u001b[39m\"\u001b[39m)\n\u001b[1;32m     28\u001b[0m \u001b[39mif\u001b[39;00m from_bytes:\n\u001b[0;32m---> 29\u001b[0m     \u001b[39mreturn\u001b[39;00m rs_bytes2object(blob)\n\u001b[1;32m     31\u001b[0m \u001b[39mif\u001b[39;00m from_proto:\n\u001b[1;32m     32\u001b[0m     \u001b[39mreturn\u001b[39;00m rs_proto2object(blob)\n",
      "File \u001b[0;32m~/dev/openmined/PySyft/packages/syft/src/syft/serde/recursive.py:184\u001b[0m, in \u001b[0;36mrs_bytes2object\u001b[0;34m(blob)\u001b[0m\n\u001b[1;32m    179\u001b[0m MAX_TRAVERSAL_LIMIT \u001b[39m=\u001b[39m \u001b[39m2\u001b[39m\u001b[39m*\u001b[39m\u001b[39m*\u001b[39m\u001b[39m64\u001b[39m \u001b[39m-\u001b[39m \u001b[39m1\u001b[39m\n\u001b[1;32m    181\u001b[0m \u001b[39mwith\u001b[39;00m recursive_scheme\u001b[39m.\u001b[39mfrom_bytes(  \u001b[39m# type: ignore\u001b[39;00m\n\u001b[1;32m    182\u001b[0m     blob, traversal_limit_in_words\u001b[39m=\u001b[39mMAX_TRAVERSAL_LIMIT\n\u001b[1;32m    183\u001b[0m ) \u001b[39mas\u001b[39;00m msg:\n\u001b[0;32m--> 184\u001b[0m     \u001b[39mreturn\u001b[39;00m rs_proto2object(msg)\n",
      "File \u001b[0;32m~/dev/openmined/PySyft/packages/syft/src/syft/serde/recursive.py:275\u001b[0m, in \u001b[0;36mrs_proto2object\u001b[0;34m(proto)\u001b[0m\n\u001b[1;32m    272\u001b[0m         obj \u001b[39m=\u001b[39m class_type(\u001b[39m*\u001b[39m\u001b[39m*\u001b[39mkwargs)\n\u001b[1;32m    274\u001b[0m \u001b[39melse\u001b[39;00m:\n\u001b[0;32m--> 275\u001b[0m     obj \u001b[39m=\u001b[39m class_type\u001b[39m.\u001b[39;49m\u001b[39m__new__\u001b[39;49m(class_type)  \u001b[39m# type: ignore\u001b[39;00m\n\u001b[1;32m    276\u001b[0m     \u001b[39mfor\u001b[39;00m attr_name, attr_value \u001b[39min\u001b[39;00m kwargs\u001b[39m.\u001b[39mitems():\n\u001b[1;32m    277\u001b[0m         \u001b[39msetattr\u001b[39m(obj, attr_name, attr_value)\n",
      "\u001b[0;31mTypeError\u001b[0m: Params.__new__() missing 2 required positional arguments: 'weight' and 'bias'"
     ]
    },
    {
     "data": {
      "image/png": "[encoded data removed]",
      "text/plain": [
       "<Figure size 640x480 with 1 Axes>"
      ]
     },
     "metadata": {},
     "output_type": "display_data"
    }
   ],
   "source": [
    "from helpers import review_request, run_submitted_function, accept_request\n",
    "\n",
    "for message in messages:\n",
    "    review_request(message)\n",
    "    real_result = run_submitted_function(message)\n",
    "    accept_request(message, real_result)"
   ]
  },
  {
   "attachments": {},
   "cell_type": "markdown",
   "metadata": {},
   "source": [
    "## Part 3 - Downloading the Results"
   ]
  },
  {
   "attachments": {},
   "cell_type": "markdown",
   "metadata": {},
   "source": [
    "### Tutorial complete 👏"
   ]
  },
  {
   "cell_type": "code",
   "execution_count": null,
   "metadata": {},
   "outputs": [
    {
     "name": "stderr",
     "output_type": "stream",
     "text": [
      "---------------------------------------------------------------------------\n",
      "SyftAttributeError\n",
      "---------------------------------------------------------------------------\n",
      "Exception: 'APIModule' api object has no submodule or method 'linear_regression', you may not have permission to access the module you are trying to access\n"
     ]
    }
   ],
   "source": [
    "result = data_scientist_client.api.services.code.counter_1()\n",
    "assert not isinstance(result, sy.SyftError)\n",
    "\n",
    "result = data_scientist_client.api.services.code.counter_2()\n",
    "assert not isinstance(result, sy.SyftError)\n",
    "\n",
    "result = data_scientist_client.api.services.linear_regression()\n",
    "assert not isinstance(result, sy.SyftError)"
   ]
  },
  {
   "cell_type": "code",
   "execution_count": null,
   "metadata": {},
   "outputs": [],
   "source": [
    "if node.node_type.value == \"python\":\n",
    "    node.land()"
   ]
  }
 ],
 "metadata": {
  "kernelspec": {
   "display_name": "jax_1",
   "language": "python",
   "name": "python3"
  },
  "language_info": {
   "codemirror_mode": {
    "name": "ipython",
    "version": 3
   },
   "file_extension": ".py",
   "mimetype": "text/x-python",
   "name": "python",
   "nbconvert_exporter": "python",
   "pygments_lexer": "ipython3",
   "version": "3.10.4"
  }
 },
 "nbformat": 4,
 "nbformat_minor": 2
}
