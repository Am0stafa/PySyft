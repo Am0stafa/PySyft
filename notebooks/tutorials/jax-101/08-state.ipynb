{
 "cells": [
  {
   "attachments": {},
   "cell_type": "markdown",
   "metadata": {},
   "source": [
    "# JAX 101 - 08 Stateful Computations\n",
    "Link to the original JAX tutorial: https://jax.readthedocs.io/en/latest/jax-101/07-state.html"
   ]
  },
  {
   "attachments": {},
   "cell_type": "markdown",
   "metadata": {},
   "source": [
    "## Part 0 - Data Owner Setup"
   ]
  },
  {
   "cell_type": "code",
   "execution_count": null,
   "metadata": {},
   "outputs": [],
   "source": [
    "# Import the necessary libraries\n",
    "import syft as sy\n",
    "sy.requires(\">=0.8,<0.9\")\n",
    "\n",
    "import jax\n",
    "import jax.numpy as jnp\n",
    "import numpy as np"
   ]
  },
  {
   "cell_type": "code",
   "execution_count": null,
   "metadata": {},
   "outputs": [],
   "source": [
    "# Launch the domain\n",
    "node = sy.orchestra.launch(name=\"test-domain-1\", reset=True)\n",
    "data_owner_client = node.login(email=\"info@openmined.org\", password=\"changethis\")"
   ]
  },
  {
   "attachments": {},
   "cell_type": "markdown",
   "metadata": {},
   "source": [
    "## Part 1 - Data Scientist"
   ]
  },
  {
   "cell_type": "code",
   "execution_count": null,
   "metadata": {},
   "outputs": [],
   "source": [
    "# Register a client to the domain\n",
    "data_scientist_client = node.client\n",
    "data_scientist_client.register(name=\"Jane Doe\", email=\"jane@caltech.edu\", password=\"abc123\", institution=\"Caltech\", website=\"https://www.caltech.edu/\")\n",
    "data_scientist_client.login(email=\"jane@caltech.edu\", password=\"abc123\")"
   ]
  },
  {
   "cell_type": "code",
   "execution_count": null,
   "metadata": {},
   "outputs": [],
   "source": [
    "# Create a function for code execution\n",
    "# ATTENTION: ALL LIBRARIES USED SHOULD BE DEFINED INSIDE THE FUNCTION CONTEXT!!!\n",
    "\n",
    "@sy.syft_function(input_policy=sy.ExactMatch(),\n",
    "                  output_policy=sy.SingleExecutionExactOutput())\n",
    "def counter_1():\n",
    "    import jax\n",
    "\n",
    "    class Counter:\n",
    "        \"\"\"A simple counter.\"\"\"\n",
    "\n",
    "        def __init__(self):\n",
    "            self.n = 0\n",
    "\n",
    "        def count(self) -> int:\n",
    "            \"\"\"Increments the counter and returns the new value.\"\"\"\n",
    "            self.n += 1\n",
    "            return self.n\n",
    "\n",
    "        def reset(self):\n",
    "            \"\"\"Resets the counter to zero.\"\"\"\n",
    "            self.n = 0\n",
    "\n",
    "\n",
    "    counter = Counter()\n",
    "\n",
    "    for _ in range(3):\n",
    "        print(counter.count())\n",
    "\n",
    "    counter.reset()\n",
    "    fast_count = jax.jit(counter.count)\n",
    "\n",
    "    for _ in range(3):\n",
    "        print(fast_count())\n",
    "        \n",
    "\n",
    "@sy.syft_function(input_policy=sy.ExactMatch(),\n",
    "                  output_policy=sy.SingleExecutionExactOutput())\n",
    "def counter_2():    \n",
    "    import jax\n",
    "    from typing import Tuple\n",
    "\n",
    "    CounterState = int\n",
    "\n",
    "    class CounterV2:\n",
    "\n",
    "        def count(self, n: CounterState) -> Tuple[int, CounterState]:\n",
    "            # You could just return n+1, but here we separate its role as \n",
    "            # the output and as the counter state for didactic purposes.\n",
    "            return n+1, n+1\n",
    "\n",
    "        def reset(self) -> CounterState:\n",
    "            return 0\n",
    "\n",
    "    counter = CounterV2()\n",
    "    state = counter.reset()\n",
    "\n",
    "    for _ in range(3):\n",
    "        value, state = counter.count(state)\n",
    "        print(value)\n",
    "        \n",
    "    state = counter.reset()\n",
    "    fast_count = jax.jit(counter.count)\n",
    "\n",
    "    for _ in range(3):\n",
    "        value, state = fast_count(state)\n",
    "        print(value)\n",
    "        \n",
    "        \n",
    "@sy.syft_function(input_policy=sy.ExactMatch(),\n",
    "                  output_policy=sy.SingleExecutionExactOutput())\n",
    "def linear_regression():\n",
    "    import syft as sy\n",
    "    import jax\n",
    "    import jax.numpy as jnp\n",
    "    from typing import NamedTuple\n",
    "\n",
    "    class Params(NamedTuple):\n",
    "        weight: jnp.ndarray\n",
    "        bias: jnp.ndarray\n",
    "\n",
    "\n",
    "    def init(rng) -> Params:\n",
    "        \"\"\"Returns the initial model params.\"\"\"\n",
    "        weights_key, bias_key = jax.random.split(rng)\n",
    "        weight = jax.random.normal(weights_key, ())\n",
    "        bias = jax.random.normal(bias_key, ())\n",
    "        return Params(weight, bias)\n",
    "\n",
    "\n",
    "    def loss(params: Params, x: jnp.ndarray, y: jnp.ndarray) -> jnp.ndarray:\n",
    "        \"\"\"Computes the least squares error of the model's predictions on x against y.\"\"\"\n",
    "        pred = params.weight * x + params.bias\n",
    "        return jnp.mean((pred - y) ** 2)\n",
    "\n",
    "\n",
    "    LEARNING_RATE = 0.005\n",
    "\n",
    "    @jax.jit\n",
    "    def update(params: Params, x: jnp.ndarray, y: jnp.ndarray) -> Params:\n",
    "        \"\"\"Performs one SGD update step on params using the given data.\"\"\"\n",
    "        grad = jax.grad(loss)(params, x, y)\n",
    "\n",
    "        # If we were using Adam or another stateful optimizer,\n",
    "        # we would also do something like\n",
    "        # ```\n",
    "        # updates, new_optimizer_state = optimizer(grad, optimizer_state)\n",
    "        # ```\n",
    "        # and then use `updates` instead of `grad` to actually update the params.\n",
    "        # (And we'd include `new_optimizer_state` in the output, naturally.)\n",
    "\n",
    "        new_params = jax.tree_map(\n",
    "            lambda param, g: param - g * LEARNING_RATE, params, grad)\n",
    "\n",
    "        return new_params\n",
    "    \n",
    "    import matplotlib.pyplot as plt\n",
    "\n",
    "    rng = jax.random.PRNGKey(42)\n",
    "\n",
    "    # Generate true data from y = w*x + b + noise\n",
    "    true_w, true_b = 2, -1\n",
    "    x_rng, noise_rng = jax.random.split(rng)\n",
    "    xs = jax.random.normal(x_rng, (128, 1))\n",
    "    noise = jax.random.normal(noise_rng, (128, 1)) * 0.5\n",
    "    ys = xs * true_w + true_b + noise\n",
    "\n",
    "    # Fit regression\n",
    "    params = init(rng)\n",
    "    for _ in range(1000):\n",
    "        params = update(params, xs, ys)\n",
    "\n",
    "    plt.scatter(xs, ys)\n",
    "    plt.plot(xs, params.weight * xs + params.bias, c='red', label='Model Prediction')\n",
    "    plt.legend()\n",
    "    return np.asanyarray(params.weight), np.asanyarray(params.bias)"
   ]
  },
  {
   "cell_type": "code",
   "execution_count": null,
   "metadata": {},
   "outputs": [],
   "source": [
    "# Test our function locally \n",
    "counter_1()\n",
    "counter_2()\n",
    "linear_regression()"
   ]
  },
  {
   "cell_type": "code",
   "execution_count": null,
   "metadata": {},
   "outputs": [],
   "source": []
  },
  {
   "cell_type": "code",
   "execution_count": null,
   "metadata": {},
   "outputs": [],
   "source": [
    "# Submit the function for code execution\n",
    "data_scientist_client.api.services.code.request_code_execution(counter_1)\n",
    "data_scientist_client.api.services.code.request_code_execution(counter_2)\n",
    "data_scientist_client.api.services.code.request_code_execution(linear_regression)"
   ]
  },
  {
   "attachments": {},
   "cell_type": "markdown",
   "metadata": {},
   "source": [
    "## Part 2 - Data Owner Reviewing and Approving Requests"
   ]
  },
  {
   "cell_type": "code",
   "execution_count": null,
   "metadata": {},
   "outputs": [],
   "source": [
    "data_owner_client = node.login(email=\"info@openmined.org\", password=\"changethis\")"
   ]
  },
  {
   "cell_type": "code",
   "execution_count": null,
   "metadata": {},
   "outputs": [],
   "source": [
    "# Get messages from domain\n",
    "messages = data_owner_client.api.services.messages.get_all()\n",
    "messages"
   ]
  },
  {
   "cell_type": "code",
   "execution_count": null,
   "metadata": {},
   "outputs": [],
   "source": [
    "from helpers import review_request, run_submitted_function, accept_request\n",
    "\n",
    "for message in messages:\n",
    "    review_request(message)\n",
    "    real_result = run_submitted_function(message)\n",
    "    accept_request(message, real_result)"
   ]
  },
  {
   "attachments": {},
   "cell_type": "markdown",
   "metadata": {},
   "source": [
    "## Part 3 - Downloading the Results"
   ]
  },
  {
   "attachments": {},
   "cell_type": "markdown",
   "metadata": {},
   "source": [
    "### Tutorial complete 👏"
   ]
  },
  {
   "cell_type": "code",
   "execution_count": null,
   "metadata": {},
   "outputs": [],
   "source": [
    "result = data_scientist_client.api.services.code.counter_1()\n",
    "assert not isinstance(result, sy.SyftError)\n",
    "\n",
    "result = data_scientist_client.api.services.code.counter_2()\n",
    "assert not isinstance(result, sy.SyftError)\n",
    "\n",
    "result = data_scientist_client.api.services.linear_regression()\n",
    "assert not isinstance(result, sy.SyftError)"
   ]
  },
  {
   "cell_type": "code",
   "execution_count": null,
   "metadata": {},
   "outputs": [],
   "source": [
    "node.land()"
   ]
  }
 ],
 "metadata": {
  "kernelspec": {
   "display_name": "jax_1",
   "language": "python",
   "name": "python3"
  },
  "language_info": {
   "codemirror_mode": {
    "name": "ipython",
    "version": 3
   },
   "file_extension": ".py",
   "mimetype": "text/x-python",
   "name": "python",
   "nbconvert_exporter": "python",
   "pygments_lexer": "ipython3",
   "version": "3.10.4"
  }
 },
 "nbformat": 4,
 "nbformat_minor": 2
}
