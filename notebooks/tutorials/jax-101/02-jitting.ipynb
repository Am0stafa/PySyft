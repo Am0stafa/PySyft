{
 "cells": [
  {
   "attachments": {},
   "cell_type": "markdown",
   "metadata": {},
   "source": [
    "# JAX 101 - 02 Jitting\n",
    "Link to the original JAX tutorial: https://jax.readthedocs.io/en/latest/jax-101/02-jitting.html"
   ]
  },
  {
   "attachments": {},
   "cell_type": "markdown",
   "metadata": {},
   "source": [
    "## Part 0 - Data Owner Setup"
   ]
  },
  {
   "cell_type": "code",
   "execution_count": 1,
   "metadata": {},
   "outputs": [
    {
     "name": "stderr",
     "output_type": "stream",
     "text": [
      "kj/filesystem-disk-unix.c++:1703: warning: PWD environment variable doesn't match current directory; pwd = /\n"
     ]
    },
    {
     "name": "stdout",
     "output_type": "stream",
     "text": [
      "✅ The installed version of syft==0.8.1b3 matches the requirement >=0.8 and the requirement <0.9\n"
     ]
    }
   ],
   "source": [
    "# Import the necessary libraries\n",
    "import syft as sy\n",
    "sy.requires(\">=0.8,<0.9\")\n",
    "\n",
    "import jax\n",
    "import jax.numpy as jnp\n",
    "import numpy as np"
   ]
  },
  {
   "cell_type": "code",
   "execution_count": 2,
   "metadata": {},
   "outputs": [
    {
     "name": "stdout",
     "output_type": "stream",
     "text": [
      "Starting test-domain-1 server on 0.0.0.0:8080\n"
     ]
    },
    {
     "name": "stderr",
     "output_type": "stream",
     "text": [
      "kj/filesystem-disk-unix.c++:1703: warning: PWD environment variable doesn't match current directory; pwd = /\n"
     ]
    },
    {
     "name": "stdout",
     "output_type": "stream",
     "text": [
      "Waiting for server to start\n",
      "Waiting for server to start\n",
      "SQLite Store Path:\n",
      "!open file:///var/folders/sz/hkfsnn612hq56r7cs5rd540r0000gn/T/b96f48b025314009a1cee26ce6acfae7.sqlite\n",
      "\n",
      "Waiting for server to start\n",
      "Waiting for server to start\n",
      "Server Started\n"
     ]
    }
   ],
   "source": [
    "# Launch the domain\n",
    "node = sy.orchestra.launch(name=\"test-domain-1\", port=8080, reset=True)\n",
    "data_owner_client = node.login(email=\"info@openmined.org\", password=\"changethis\")"
   ]
  },
  {
   "attachments": {},
   "cell_type": "markdown",
   "metadata": {},
   "source": [
    "## Part 1 - Data Scientist"
   ]
  },
  {
   "cell_type": "code",
   "execution_count": 3,
   "metadata": {},
   "outputs": [
    {
     "name": "stdout",
     "output_type": "stream",
     "text": [
      "SQLite Store Path:\n",
      "!open file:///var/folders/sz/hkfsnn612hq56r7cs5rd540r0000gn/T/7bca415d13ed4ec881f0d0aede098dbb.sqlite\n",
      "\n"
     ]
    },
    {
     "data": {
      "text/plain": [
       "<SyftClient - test-domain-1 <7bca415d13ed4ec881f0d0aede098dbb>: PythonConnection>"
      ]
     },
     "execution_count": 3,
     "metadata": {},
     "output_type": "execute_result"
    }
   ],
   "source": [
    "# Register a client to the domain\n",
    "node = sy.orchestra.launch(name=\"test-domain-1\")\n",
    "data_scientist_client = node.client\n",
    "data_scientist_client.register(name=\"Jane Doe\", email=\"jane@caltech.edu\", password=\"abc123\", institution=\"Caltech\", website=\"https://www.caltech.edu/\")\n",
    "data_scientist_client.login(email=\"jane@caltech.edu\", password=\"abc123\")"
   ]
  },
  {
   "attachments": {},
   "cell_type": "markdown",
   "metadata": {},
   "source": []
  },
  {
   "cell_type": "code",
   "execution_count": 4,
   "metadata": {},
   "outputs": [],
   "source": [
    "# Create a function for code execution\n",
    "# ATTENTION: ALL LIBRARIES USED SHOULD BE DEFINED INSIDE THE FUNCTION CONTEXT!!!\n",
    "\n",
    "@sy.syft_function(input_policy=sy.ExactMatch(),\n",
    "                  output_policy=sy.SingleExecutionExactOutput())\n",
    "def func_log2():\n",
    "    import jax\n",
    "    import jax.numpy as jnp\n",
    "\n",
    "    global_list = []\n",
    "\n",
    "    def log2(x):\n",
    "        global_list.append(x)\n",
    "        ln_x = jnp.log(x)\n",
    "        ln_2 = jnp.log(2.0)\n",
    "        return ln_x / ln_2\n",
    "\n",
    "    print(jax.make_jaxpr(log2)(3.0))\n",
    "\n",
    "\n",
    "@sy.syft_function(input_policy=sy.ExactMatch(),\n",
    "                  output_policy=sy.SingleExecutionExactOutput())\n",
    "def func_log2_with_print():\n",
    "    import jax\n",
    "    import jax.numpy as jnp\n",
    "    \n",
    "    def log2_with_print(x):\n",
    "        print(\"printed x:\", x)\n",
    "        ln_x = jnp.log(x)\n",
    "        ln_2 = jnp.log(2.0)\n",
    "        return ln_x / ln_2\n",
    "\n",
    "    print(jax.make_jaxpr(log2_with_print)(3.))\n",
    "\n",
    "\n",
    "@sy.syft_function(input_policy=sy.ExactMatch(),\n",
    "                  output_policy=sy.SingleExecutionExactOutput())\n",
    "def func_log2_if_rank_2():\n",
    "    import jax.numpy as jnp\n",
    "    \n",
    "    def log2_if_rank_2(x):\n",
    "        if x.ndim == 2:\n",
    "            ln_x = jnp.log(x)\n",
    "            ln_2 = jnp.log(2.0)\n",
    "            return ln_x / ln_2\n",
    "        else:\n",
    "            return x\n",
    "        \n",
    "    print(jax.make_jaxpr(log2_if_rank_2)(jax.numpy.array([1, 2, 3])))\n",
    "\n",
    "@sy.syft_function(input_policy=sy.ExactMatch(),\n",
    "                  output_policy=sy.SingleExecutionExactOutput())\n",
    "def func_selu():\n",
    "    import jax\n",
    "    import jax.numpy as jnp\n",
    "\n",
    "    def selu(x, alpha=1.67, lambda_=1.05):\n",
    "        return lambda_ * jnp.where(x > 0, x, alpha * jnp.exp(x) - alpha)\n",
    "\n",
    "    x = jnp.arange(1000000)\n",
    "    %timeit selu(x).block_until_ready()\n",
    "    \n",
    "    selu_jit = jax.jit(selu)\n",
    "\n",
    "    # Warm up\n",
    "    selu_jit(x).block_until_ready()\n",
    "\n",
    "    %timeit selu_jit(x).block_until_ready()\n",
    "    \n",
    "\n",
    "@sy.syft_function(input_policy=sy.ExactMatch(),\n",
    "                  output_policy=sy.SingleExecutionExactOutput())\n",
    "def func_jit_error():\n",
    "    import jax\n",
    "    \n",
    "    # Condition on value of x.\n",
    "\n",
    "    def f(x):\n",
    "        if x > 0:\n",
    "            return x\n",
    "        else:\n",
    "            return 2 * x\n",
    "\n",
    "    f_jit = jax.jit(f)\n",
    "    f_jit(10)  # Should raise an error. \n",
    "\n",
    "\n",
    "@sy.syft_function(input_policy=sy.ExactMatch(),\n",
    "                  output_policy=sy.SingleExecutionExactOutput())\n",
    "def func_jit_error2():\n",
    "    import jax\n",
    "    \n",
    "    # While loop conditioned on x and n.\n",
    "\n",
    "    def g(x, n):\n",
    "        i = 0\n",
    "        while i < n:\n",
    "            i += 1\n",
    "        return x + i\n",
    "\n",
    "    g_jit = jax.jit(g)\n",
    "    g_jit(10, 20)  # Should raise an error. )\n",
    "\n",
    "\n",
    "@sy.syft_function(input_policy=sy.ExactMatch(),\n",
    "                  output_policy=sy.SingleExecutionExactOutput())\n",
    "def func_jit_loop():\n",
    "    import jax\n",
    "    \n",
    "    # While loop conditioned on x and n with a jitted body.\n",
    "\n",
    "    @jax.jit\n",
    "    def loop_body(prev_i):\n",
    "        return prev_i + 1\n",
    "\n",
    "    def g_inner_jitted(x, n):\n",
    "        i = 0\n",
    "        while i < n:\n",
    "            i = loop_body(i)\n",
    "        return x + i\n",
    "\n",
    "    return g_inner_jitted(10, 20)\n",
    "\n",
    "\n",
    "@sy.syft_function(input_policy=sy.ExactMatch(),\n",
    "                  output_policy=sy.SingleExecutionExactOutput())\n",
    "def func_jit_static_args():\n",
    "    import jax\n",
    "    \n",
    "    # While loop conditioned on x and n.\n",
    "\n",
    "    def g(x, n):\n",
    "        i = 0\n",
    "        while i < n:\n",
    "            i += 1\n",
    "        return x + i\n",
    "\n",
    "    def f(x):\n",
    "        if x > 0:\n",
    "            return x\n",
    "        else:\n",
    "            return 2 * x\n",
    "        \n",
    "    f_jit_correct = jax.jit(f, static_argnums=0)\n",
    "    print(f_jit_correct(10))\n",
    "    \n",
    "    g_jit_correct = jax.jit(g, static_argnames=['n'])\n",
    "    print(g_jit_correct(10, 20))\n",
    "    \n",
    "\n",
    "@sy.syft_function(input_policy=sy.ExactMatch(),\n",
    "                  output_policy=sy.SingleExecutionExactOutput())\n",
    "def func_jit_partial_decorator():\n",
    "    import jax\n",
    "    \n",
    "    from functools import partial\n",
    "\n",
    "    @partial(jax.jit, static_argnames=['n'])\n",
    "    def g_jit_decorated(x, n):\n",
    "        i = 0\n",
    "        while i < n:\n",
    "            i += 1\n",
    "        return x + i\n",
    "\n",
    "    return g_jit_decorated(10, 20)\n",
    "\n",
    "\n",
    "@sy.syft_function(input_policy=sy.ExactMatch(),\n",
    "                  output_policy=sy.SingleExecutionExactOutput())\n",
    "def func_jit_caching():\n",
    "    from functools import partial\n",
    "    import jax\n",
    "\n",
    "    def unjitted_loop_body(prev_i):\n",
    "        return prev_i + 1\n",
    "\n",
    "    def g_inner_jitted_partial(x, n):\n",
    "        i = 0\n",
    "        while i < n:\n",
    "            # Don't do this! each time the partial returns\n",
    "            # a function with different hash\n",
    "            i = jax.jit(partial(unjitted_loop_body))(i)\n",
    "        return x + i\n",
    "\n",
    "    def g_inner_jitted_lambda(x, n):\n",
    "        i = 0\n",
    "        while i < n:\n",
    "            # Don't do this!, lambda will also return\n",
    "            # a function with a different hash\n",
    "            i = jax.jit(lambda x: unjitted_loop_body(x))(i)\n",
    "        return x + i\n",
    "\n",
    "    def g_inner_jitted_normal(x, n):\n",
    "        i = 0\n",
    "        while i < n:\n",
    "            # this is OK, since JAX can find the\n",
    "            # cached, compiled function\n",
    "            i = jax.jit(unjitted_loop_body)(i)\n",
    "        return x + i\n",
    "\n",
    "    print(\"jit called in a loop with partials:\")\n",
    "    %timeit g_inner_jitted_partial(10, 20).block_until_ready()\n",
    "\n",
    "    print(\"jit called in a loop with lambdas:\")\n",
    "    %timeit g_inner_jitted_lambda(10, 20).block_until_ready()\n",
    "\n",
    "    print(\"jit called in a loop with caching:\")\n",
    "    %timeit g_inner_jitted_normal(10, 20).block_until_ready()\n"
   ]
  },
  {
   "cell_type": "code",
   "execution_count": 5,
   "metadata": {},
   "outputs": [
    {
     "name": "stdout",
     "output_type": "stream",
     "text": [
      "{ \u001b[34m\u001b[22m\u001b[1mlambda \u001b[39m\u001b[22m\u001b[22m; a\u001b[35m:f64[]\u001b[39m. \u001b[34m\u001b[22m\u001b[1mlet\n",
      "    \u001b[39m\u001b[22m\u001b[22mb\u001b[35m:f64[]\u001b[39m = log a\n",
      "    c\u001b[35m:f64[]\u001b[39m = log 2.0\n",
      "    d\u001b[35m:f64[]\u001b[39m = div b c\n",
      "  \u001b[34m\u001b[22m\u001b[1min \u001b[39m\u001b[22m\u001b[22m(d,) }\n",
      "printed x: Traced<ShapedArray(float64[], weak_type=True)>with<DynamicJaxprTrace(level=1/0)>\n",
      "{ \u001b[34m\u001b[22m\u001b[1mlambda \u001b[39m\u001b[22m\u001b[22m; a\u001b[35m:f64[]\u001b[39m. \u001b[34m\u001b[22m\u001b[1mlet\n",
      "    \u001b[39m\u001b[22m\u001b[22mb\u001b[35m:f64[]\u001b[39m = log a\n",
      "    c\u001b[35m:f64[]\u001b[39m = log 2.0\n",
      "    d\u001b[35m:f64[]\u001b[39m = div b c\n",
      "  \u001b[34m\u001b[22m\u001b[1min \u001b[39m\u001b[22m\u001b[22m(d,) }\n",
      "{ \u001b[34m\u001b[22m\u001b[1mlambda \u001b[39m\u001b[22m\u001b[22m; a\u001b[35m:i64[3]\u001b[39m. \u001b[34m\u001b[22m\u001b[1mlet\u001b[39m\u001b[22m\u001b[22m  \u001b[34m\u001b[22m\u001b[1min \u001b[39m\u001b[22m\u001b[22m(a,) }\n",
      "9.01 ms ± 72.3 µs per loop (mean ± std. dev. of 7 runs, 100 loops each)\n",
      "1.44 ms ± 72.9 µs per loop (mean ± std. dev. of 7 runs, 1,000 loops each)\n",
      "10\n",
      "30\n",
      "jit called in a loop with partials:\n",
      "278 ms ± 6.53 ms per loop (mean ± std. dev. of 7 runs, 1 loop each)\n",
      "jit called in a loop with lambdas:\n",
      "288 ms ± 13.8 ms per loop (mean ± std. dev. of 7 runs, 1 loop each)\n",
      "jit called in a loop with caching:\n",
      "9.62 ms ± 813 µs per loop (mean ± std. dev. of 7 runs, 100 loops each)\n"
     ]
    }
   ],
   "source": [
    "# Test our function locally \n",
    "func_log2()\n",
    "func_log2_with_print()\n",
    "func_log2_if_rank_2()\n",
    "func_selu()\n",
    "# func_jit_error()\n",
    "# func_jit_error2()\n",
    "func_jit_loop()\n",
    "func_jit_static_args()\n",
    "func_jit_partial_decorator()\n",
    "func_jit_caching()"
   ]
  },
  {
   "cell_type": "code",
   "execution_count": 6,
   "metadata": {},
   "outputs": [
    {
     "data": {
      "text/html": [
       "<div class=\"alert-danger\" style=\"padding:5px;\"><strong>SyftError</strong>: Duplication Key Error: syft.service.code.user_code.UserCode</div><br />"
      ],
      "text/plain": [
       "<class 'syft.service.response.SyftError'>: Duplication Key Error: syft.service.code.user_code.UserCode"
      ]
     },
     "execution_count": 6,
     "metadata": {},
     "output_type": "execute_result"
    }
   ],
   "source": [
    "# Submit the function for code execution\n",
    "data_scientist_client.api.services.code.request_code_execution(func_log2)\n",
    "data_scientist_client.api.services.code.request_code_execution(func_log2_with_print)\n",
    "data_scientist_client.api.services.code.request_code_execution(func_log2_if_rank_2)\n",
    "data_scientist_client.api.services.code.request_code_execution(func_selu)\n",
    "# data_scientist_client.api.services.code.request_code_execution(func_jit_error)\n",
    "# data_scientist_client.api.services.code.request_code_execution(func_jit_error2)\n",
    "data_scientist_client.api.services.code.request_code_execution(func_jit_loop)\n",
    "data_scientist_client.api.services.code.request_code_execution(func_jit_static_args)\n",
    "data_scientist_client.api.services.code.request_code_execution(func_jit_partial_decorator)\n",
    "data_scientist_client.api.services.code.request_code_execution(func_jit_caching)"
   ]
  },
  {
   "attachments": {},
   "cell_type": "markdown",
   "metadata": {},
   "source": [
    "## Part 2 - Data Owner Reviewing and Approving Requests"
   ]
  },
  {
   "cell_type": "code",
   "execution_count": 7,
   "metadata": {},
   "outputs": [],
   "source": [
    "data_owner_client = node.login(email=\"info@openmined.org\", password=\"changethis\")\n"
   ]
  },
  {
   "cell_type": "code",
   "execution_count": 8,
   "metadata": {},
   "outputs": [
    {
     "data": {
      "text/html": [
       "List - Size: 13\n",
       "<div>\n",
       "<style scoped>\n",
       "    .dataframe tbody tr th:only-of-type {\n",
       "        vertical-align: middle;\n",
       "    }\n",
       "\n",
       "    .dataframe tbody tr th {\n",
       "        vertical-align: top;\n",
       "    }\n",
       "\n",
       "    .dataframe thead th {\n",
       "        text-align: right;\n",
       "    }\n",
       "</style>\n",
       "<table border=\"1\" class=\"dataframe\">\n",
       "  <thead>\n",
       "    <tr style=\"text-align: right;\">\n",
       "      <th></th>\n",
       "      <th>type</th>\n",
       "      <th>id</th>\n",
       "      <th>subject</th>\n",
       "      <th>status</th>\n",
       "      <th>created_at</th>\n",
       "      <th>linked_obj</th>\n",
       "    </tr>\n",
       "  </thead>\n",
       "  <tbody>\n",
       "    <tr>\n",
       "      <th>0</th>\n",
       "      <td>syft.service.message.messages.Message</td>\n",
       "      <td>c4c0cf975e32463cb3f64d1ccf1c158b</td>\n",
       "      <td>Approval Request</td>\n",
       "      <td>MessageStatus.UNDELIVERED</td>\n",
       "      <td>2023-05-29 03:46:26</td>\n",
       "      <td>&lt;&lt;class 'syft.service.request.request.Request'...</td>\n",
       "    </tr>\n",
       "    <tr>\n",
       "      <th>1</th>\n",
       "      <td>syft.service.message.messages.Message</td>\n",
       "      <td>cfbc6bd258494909ad8e8e2f2379d967</td>\n",
       "      <td>Approval Request</td>\n",
       "      <td>MessageStatus.UNDELIVERED</td>\n",
       "      <td>2023-05-29 03:44:30</td>\n",
       "      <td>&lt;&lt;class 'syft.service.request.request.Request'...</td>\n",
       "    </tr>\n",
       "    <tr>\n",
       "      <th>2</th>\n",
       "      <td>syft.service.message.messages.Message</td>\n",
       "      <td>4a46aa04981749b6a9a3faff17ffb5a2</td>\n",
       "      <td>Approval Request</td>\n",
       "      <td>MessageStatus.UNDELIVERED</td>\n",
       "      <td>2023-05-29 03:46:26</td>\n",
       "      <td>&lt;&lt;class 'syft.service.request.request.Request'...</td>\n",
       "    </tr>\n",
       "    <tr>\n",
       "      <th>3</th>\n",
       "      <td>syft.service.message.messages.Message</td>\n",
       "      <td>279d3f84ca4146ecb17dfded9ecafa7b</td>\n",
       "      <td>Approval Request</td>\n",
       "      <td>MessageStatus.UNDELIVERED</td>\n",
       "      <td>2023-05-29 03:46:25</td>\n",
       "      <td>&lt;&lt;class 'syft.service.request.request.Request'...</td>\n",
       "    </tr>\n",
       "    <tr>\n",
       "      <th>4</th>\n",
       "      <td>syft.service.message.messages.Message</td>\n",
       "      <td>54d90b8e25f147eb9ad1ace2877c0f3a</td>\n",
       "      <td>Approval Request</td>\n",
       "      <td>MessageStatus.UNDELIVERED</td>\n",
       "      <td>2023-05-29 04:16:28</td>\n",
       "      <td>&lt;&lt;class 'syft.service.request.request.Request'...</td>\n",
       "    </tr>\n",
       "  </tbody>\n",
       "</table>\n",
       "</div>"
      ],
      "text/plain": [
       "[syft.service.message.messages.Message,\n",
       " syft.service.message.messages.Message,\n",
       " syft.service.message.messages.Message,\n",
       " syft.service.message.messages.Message,\n",
       " syft.service.message.messages.Message,\n",
       " syft.service.message.messages.Message,\n",
       " syft.service.message.messages.Message,\n",
       " syft.service.message.messages.Message,\n",
       " syft.service.message.messages.Message,\n",
       " syft.service.message.messages.Message,\n",
       " syft.service.message.messages.Message,\n",
       " syft.service.message.messages.Message,\n",
       " syft.service.message.messages.Message]"
      ]
     },
     "execution_count": 8,
     "metadata": {},
     "output_type": "execute_result"
    }
   ],
   "source": [
    "# Get messages from domain\n",
    "messages = data_owner_client.api.services.messages.get_all()\n",
    "messages"
   ]
  },
  {
   "cell_type": "code",
   "execution_count": 12,
   "metadata": {},
   "outputs": [
    {
     "name": "stdout",
     "output_type": "stream",
     "text": [
      "******************\n",
      "func_jit_caching\n",
      "@sy.syft_function(input_policy=sy.ExactMatch(),\n",
      "                  output_policy=sy.SingleExecutionExactOutput())\n",
      "def func_jit_caching():\n",
      "    from functools import partial\n",
      "    import jax\n",
      "\n",
      "    def unjitted_loop_body(prev_i):\n",
      "        return prev_i + 1\n",
      "\n",
      "    def g_inner_jitted_partial(x, n):\n",
      "        i = 0\n",
      "        while i < n:\n",
      "            # Don't do this! each time the partial returns\n",
      "            # a function with different hash\n",
      "            i = jax.jit(partial(unjitted_loop_body))(i)\n",
      "        return x + i\n",
      "\n",
      "    def g_inner_jitted_lambda(x, n):\n",
      "        i = 0\n",
      "        while i < n:\n",
      "            # Don't do this!, lambda will also return\n",
      "            # a function with a different hash\n",
      "            i = jax.jit(lambda x: unjitted_loop_body(x))(i)\n",
      "        return x + i\n",
      "\n",
      "    def g_inner_jitted_normal(x, n):\n",
      "        i = 0\n",
      "        while i < n:\n",
      "            # this is OK, since JAX can find the\n",
      "            # cached, compiled function\n",
      "            i = jax.jit(unjitted_loop_body)(i)\n",
      "        return x + i\n",
      "\n",
      "    print(\"jit called in a loop with partials:\")\n",
      "    get_ipython().run_line_magic('timeit', 'g_inner_jitted_partial(10, 20).block_until_ready()')\n",
      "\n",
      "    print(\"jit called in a loop with lambdas:\")\n",
      "    get_ipython().run_line_magic('timeit', 'g_inner_jitted_lambda(10, 20).block_until_ready()')\n",
      "\n",
      "    print(\"jit called in a loop with caching:\")\n",
      "    get_ipython().run_line_magic('timeit', 'g_inner_jitted_normal(10, 20).block_until_ready()')\n",
      "\n",
      "!!!!!!\n",
      "WARNING: This code was submitted by a User and could be UNSAFE.\n",
      "syft.service.code.user_code.UserCodeExecutionResult\n"
     ]
    },
    {
     "name": "stderr",
     "output_type": "stream",
     "text": [
      "exec_result=syft.service.code.user_code.UserCodeExecutionResult\n",
      "action_object=Pointer:\n",
      "syft.service.code.user_code.UserCodeExecutionResult\n"
     ]
    },
    {
     "name": "stdout",
     "output_type": "stream",
     "text": [
      "message='Request 269edb9a66df4a99b8dbab4dd2f03504 changes applied'\n",
      "******************\n",
      "!!!!!!\n",
      "******************\n",
      "func_jit_loop\n",
      "@sy.syft_function(input_policy=sy.ExactMatch(),\n",
      "                  output_policy=sy.SingleExecutionExactOutput())\n",
      "def func_jit_loop():\n",
      "    import jax\n",
      "    \n",
      "    # While loop conditioned on x and n with a jitted body.\n",
      "\n",
      "    @jax.jit\n",
      "    def loop_body(prev_i):\n",
      "        return prev_i + 1\n",
      "\n",
      "    def g_inner_jitted(x, n):\n",
      "        i = 0\n",
      "        while i < n:\n",
      "            i = loop_body(i)\n",
      "        return x + i\n",
      "\n",
      "    return g_inner_jitted(10, 20)\n",
      "\n",
      "!!!!!!\n",
      "WARNING: This code was submitted by a User and could be UNSAFE.\n",
      "syft.service.code.user_code.UserCodeExecutionResult\n"
     ]
    },
    {
     "name": "stderr",
     "output_type": "stream",
     "text": [
      "exec_result=syft.service.code.user_code.UserCodeExecutionResult\n",
      "action_object=Pointer:\n",
      "syft.service.code.user_code.UserCodeExecutionResult\n"
     ]
    },
    {
     "name": "stdout",
     "output_type": "stream",
     "text": [
      "message='Request 5cdef867694447699cbe8d1106cf5996 changes applied'\n",
      "******************\n",
      "func_log2_with_print\n",
      "@sy.syft_function(input_policy=sy.ExactMatch(),\n",
      "                  output_policy=sy.SingleExecutionExactOutput())\n",
      "def func_log2_with_print():\n",
      "    import jax\n",
      "    import jax.numpy as jnp\n",
      "    \n",
      "    def log2_with_print(x):\n",
      "        print(\"printed x:\", x)\n",
      "        ln_x = jnp.log(x)\n",
      "        ln_2 = jnp.log(2.0)\n",
      "        return ln_x / ln_2\n",
      "\n",
      "    print(jax.make_jaxpr(log2_with_print)(3.))\n",
      "\n",
      "!!!!!!\n",
      "WARNING: This code was submitted by a User and could be UNSAFE.\n",
      "syft.service.code.user_code.UserCodeExecutionResult\n"
     ]
    },
    {
     "name": "stderr",
     "output_type": "stream",
     "text": [
      "exec_result=syft.service.code.user_code.UserCodeExecutionResult\n",
      "action_object=Pointer:\n",
      "syft.service.code.user_code.UserCodeExecutionResult\n"
     ]
    },
    {
     "name": "stdout",
     "output_type": "stream",
     "text": [
      "message='Request 75b1b5c07dc947ea9b11d5f5527a551a changes applied'\n",
      "******************\n",
      "!!!!!!\n",
      "******************\n",
      "func_jit_partial_decorator\n",
      "@sy.syft_function(input_policy=sy.ExactMatch(),\n",
      "                  output_policy=sy.SingleExecutionExactOutput())\n",
      "def func_jit_partial_decorator():\n",
      "    import jax\n",
      "    \n",
      "    from functools import partial\n",
      "\n",
      "    @partial(jax.jit, static_argnames=['n'])\n",
      "    def g_jit_decorated(x, n):\n",
      "        i = 0\n",
      "        while i < n:\n",
      "            i += 1\n",
      "        return x + i\n",
      "\n",
      "    return g_jit_decorated(10, 20)\n",
      "\n",
      "!!!!!!\n",
      "WARNING: This code was submitted by a User and could be UNSAFE.\n",
      "syft.service.code.user_code.UserCodeExecutionResult\n"
     ]
    },
    {
     "name": "stderr",
     "output_type": "stream",
     "text": [
      "exec_result=syft.service.code.user_code.UserCodeExecutionResult\n",
      "action_object=Pointer:\n",
      "syft.service.code.user_code.UserCodeExecutionResult\n"
     ]
    },
    {
     "name": "stdout",
     "output_type": "stream",
     "text": [
      "message='Request 3e4fe4c623484848bcdc57a01b3b2ed4 changes applied'\n",
      "******************\n",
      "func_log2_if_rank_2\n",
      "@sy.syft_function(input_policy=sy.ExactMatch(),\n",
      "                  output_policy=sy.SingleExecutionExactOutput())\n",
      "def func_log2_if_rank_2():\n",
      "    import jax.numpy as jnp\n",
      "    \n",
      "    def log2_if_rank_2(x):\n",
      "        if x.ndim == 2:\n",
      "            ln_x = jnp.log(x)\n",
      "            ln_2 = jnp.log(2.0)\n",
      "            return ln_x / ln_2\n",
      "        else:\n",
      "            return x\n",
      "        \n",
      "    print(jax.make_jaxpr(log2_if_rank_2)(jax.numpy.array([1, 2, 3])))\n",
      "\n",
      "!!!!!!\n",
      "WARNING: This code was submitted by a User and could be UNSAFE.\n",
      "syft.service.code.user_code.UserCodeExecutionResult\n"
     ]
    },
    {
     "name": "stderr",
     "output_type": "stream",
     "text": [
      "exec_result=syft.service.code.user_code.UserCodeExecutionResult\n",
      "action_object=Pointer:\n",
      "syft.service.code.user_code.UserCodeExecutionResult\n"
     ]
    },
    {
     "name": "stdout",
     "output_type": "stream",
     "text": [
      "message='Request 2d132622c2a44c2d876301eb02d732e8 changes applied'\n",
      "******************\n",
      "func_selu\n",
      "@sy.syft_function(input_policy=sy.ExactMatch(),\n",
      "                  output_policy=sy.SingleExecutionExactOutput())\n",
      "def func_selu():\n",
      "    import jax\n",
      "    import jax.numpy as jnp\n",
      "\n",
      "    def selu(x, alpha=1.67, lambda_=1.05):\n",
      "        return lambda_ * jnp.where(x > 0, x, alpha * jnp.exp(x) - alpha)\n",
      "\n",
      "    x = jnp.arange(1000000)\n",
      "    get_ipython().run_line_magic('timeit', 'selu(x).block_until_ready()')\n",
      "    \n",
      "    selu_jit = jax.jit(selu)\n",
      "\n",
      "    # Warm up\n",
      "    selu_jit(x).block_until_ready()\n",
      "\n",
      "    get_ipython().run_line_magic('timeit', 'selu_jit(x).block_until_ready()')\n",
      "\n",
      "!!!!!!\n",
      "WARNING: This code was submitted by a User and could be UNSAFE.\n",
      "syft.service.code.user_code.UserCodeExecutionResult\n"
     ]
    },
    {
     "name": "stderr",
     "output_type": "stream",
     "text": [
      "exec_result=syft.service.code.user_code.UserCodeExecutionResult\n",
      "action_object=Pointer:\n",
      "syft.service.code.user_code.UserCodeExecutionResult\n"
     ]
    },
    {
     "name": "stdout",
     "output_type": "stream",
     "text": [
      "message='Request da40e55b87eb4adf9ee8d2bc8327fcd4 changes applied'\n",
      "******************\n",
      "func_log2\n",
      "@sy.syft_function(input_policy=sy.ExactMatch(),\n",
      "                  output_policy=sy.SingleExecutionExactOutput())\n",
      "def func_log2():\n",
      "    import jax\n",
      "    import jax.numpy as jnp\n",
      "\n",
      "    global_list = []\n",
      "\n",
      "    def log2(x):\n",
      "        global_list.append(x)\n",
      "        ln_x = jnp.log(x)\n",
      "        ln_2 = jnp.log(2.0)\n",
      "        return ln_x / ln_2\n",
      "\n",
      "    print(jax.make_jaxpr(log2)(3.0))\n",
      "\n",
      "!!!!!!\n",
      "WARNING: This code was submitted by a User and could be UNSAFE.\n",
      "syft.service.code.user_code.UserCodeExecutionResult\n"
     ]
    },
    {
     "name": "stderr",
     "output_type": "stream",
     "text": [
      "exec_result=syft.service.code.user_code.UserCodeExecutionResult\n",
      "action_object=Pointer:\n",
      "syft.service.code.user_code.UserCodeExecutionResult\n"
     ]
    },
    {
     "name": "stdout",
     "output_type": "stream",
     "text": [
      "message='Request 13b0dc623b454194bd6effdeee68fd45 changes applied'\n",
      "******************\n",
      "!!!!!!\n",
      "******************\n",
      "!!!!!!\n",
      "******************\n",
      "func_jit_static_args\n",
      "@sy.syft_function(input_policy=sy.ExactMatch(),\n",
      "                  output_policy=sy.SingleExecutionExactOutput())\n",
      "def func_jit_static_args():\n",
      "    import jax\n",
      "    \n",
      "    # While loop conditioned on x and n.\n",
      "\n",
      "    def g(x, n):\n",
      "        i = 0\n",
      "        while i < n:\n",
      "            i += 1\n",
      "        return x + i\n",
      "\n",
      "    def f(x):\n",
      "        if x > 0:\n",
      "            return x\n",
      "        else:\n",
      "            return 2 * x\n",
      "        \n",
      "    f_jit_correct = jax.jit(f, static_argnums=0)\n",
      "    print(f_jit_correct(10))\n",
      "    \n",
      "    g_jit_correct = jax.jit(g, static_argnames=['n'])\n",
      "    print(g_jit_correct(10, 20))\n",
      "\n",
      "!!!!!!\n",
      "WARNING: This code was submitted by a User and could be UNSAFE.\n",
      "syft.service.code.user_code.UserCodeExecutionResult\n"
     ]
    },
    {
     "name": "stderr",
     "output_type": "stream",
     "text": [
      "exec_result=syft.service.code.user_code.UserCodeExecutionResult\n",
      "action_object=Pointer:\n",
      "syft.service.code.user_code.UserCodeExecutionResult\n"
     ]
    },
    {
     "name": "stdout",
     "output_type": "stream",
     "text": [
      "message='Request b759686acdee4ff39d991972d6ba8365 changes applied'\n",
      "******************\n",
      "!!!!!!\n"
     ]
    },
    {
     "data": {
      "text/plain": [
       "<Figure size 640x480 with 0 Axes>"
      ]
     },
     "metadata": {},
     "output_type": "display_data"
    }
   ],
   "source": [
    "# Review, run and accept the requests\n",
    "from helpers import review_request, run_submitted_function, accept_request\n",
    "\n",
    "for message in messages:\n",
    "    review_request(message)\n",
    "    real_result = run_submitted_function(message)\n",
    "    accept_request(message, real_result)"
   ]
  },
  {
   "attachments": {},
   "cell_type": "markdown",
   "metadata": {},
   "source": [
    "##  Part 3 - Data Scientist"
   ]
  },
  {
   "cell_type": "code",
   "execution_count": 13,
   "metadata": {},
   "outputs": [],
   "source": [
    "result = data_scientist_client.api.services.code.func_log2()\n",
    "assert not isinstance(result, sy.SyftError)\n",
    "\n",
    "result = data_scientist_client.api.services.code.func_log2_with_print()\n",
    "assert not isinstance(result, sy.SyftError)\n",
    "\n",
    "result = data_scientist_client.api.services.code.func_log2_if_rank_2()\n",
    "assert not isinstance(result, sy.SyftError)\n",
    "\n",
    "result = data_scientist_client.api.services.code.func_jit_loop()\n",
    "assert not isinstance(result, sy.SyftError)\n",
    "\n",
    "result = data_scientist_client.api.services.code.func_jit_static_args()\n",
    "assert not isinstance(result, sy.SyftError)\n",
    "\n",
    "result = data_scientist_client.api.services.code.func_jit_partial_decorator()\n",
    "assert not isinstance(result, sy.SyftError)\n",
    "\n",
    "result = data_scientist_client.api.services.code.func_jit_caching()\n",
    "assert not isinstance(result, sy.SyftError)"
   ]
  },
  {
   "attachments": {},
   "cell_type": "markdown",
   "metadata": {},
   "source": [
    "### Tutorial complete 👏"
   ]
  },
  {
   "cell_type": "code",
   "execution_count": 14,
   "metadata": {},
   "outputs": [],
   "source": [
    "if node.node_type.value == \"python\":\n",
    "    node.land()"
   ]
  },
  {
   "cell_type": "code",
   "execution_count": null,
   "metadata": {},
   "outputs": [],
   "source": []
  }
 ],
 "metadata": {
  "kernelspec": {
   "display_name": "jax_1",
   "language": "python",
   "name": "python3"
  },
  "language_info": {
   "codemirror_mode": {
    "name": "ipython",
    "version": 3
   },
   "file_extension": ".py",
   "mimetype": "text/x-python",
   "name": "python",
   "nbconvert_exporter": "python",
   "pygments_lexer": "ipython3",
   "version": "3.10.4"
  }
 },
 "nbformat": 4,
 "nbformat_minor": 2
}
