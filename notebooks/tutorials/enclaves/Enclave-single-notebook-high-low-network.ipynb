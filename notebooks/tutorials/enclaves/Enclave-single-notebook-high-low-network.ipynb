{
 "cells": [
  {
   "cell_type": "code",
   "execution_count": 1,
   "id": "91683cd6",
   "metadata": {},
   "outputs": [
    {
     "name": "stderr",
     "output_type": "stream",
     "text": [
      "kj/filesystem-disk-unix.c++:1703: warning: PWD environment variable doesn't match current directory; pwd = /home/teo\n"
     ]
    }
   ],
   "source": [
    "import syft as sy\n",
    "import recordlinkage\n",
    "from syft.abstract_node import NodeType\n",
    "from recordlinkage.datasets import load_febrl4"
   ]
  },
  {
   "cell_type": "markdown",
   "id": "f1c3f6fa",
   "metadata": {},
   "source": [
    "# Create Nodes"
   ]
  },
  {
   "cell_type": "markdown",
   "id": "b1bbcaa0",
   "metadata": {},
   "source": [
    "## Low side"
   ]
  },
  {
   "cell_type": "markdown",
   "id": "fbe5d34d",
   "metadata": {},
   "source": [
    "create enclave node"
   ]
  },
  {
   "cell_type": "code",
   "execution_count": 2,
   "id": "b5571623",
   "metadata": {},
   "outputs": [],
   "source": [
    "embassador_node_low = sy.Orchestra.launch(name=\"ambassador node\", local_db=True, reset=True)"
   ]
  },
  {
   "cell_type": "markdown",
   "id": "9e8061f3",
   "metadata": {},
   "source": [
    "Create canada node & italy node"
   ]
  },
  {
   "cell_type": "code",
   "execution_count": 3,
   "id": "dfbe2887",
   "metadata": {},
   "outputs": [],
   "source": [
    "ca_node_low = sy.Orchestra.launch(name=\"canada low\", local_db=True, reset=True)\n",
    "it_node_low = sy.Orchestra.launch(name=\"italy low\", local_db=True, reset=True) "
   ]
  },
  {
   "cell_type": "code",
   "execution_count": 4,
   "id": "4fb80fad",
   "metadata": {},
   "outputs": [
    {
     "name": "stdout",
     "output_type": "stream",
     "text": [
      "Message:  Cannot create client for: TailscaleClient\n",
      "Logged into gateway low as <info@openmined.org>\n"
     ]
    }
   ],
   "source": [
    "gateway_node_low = sy.orchestra.launch(name=\"gateway low\",\n",
    "                                       node_type = \"gateway\",\n",
    "                                       local_db=True,\n",
    "                                       reset=True,\n",
    "                                       dev_mode=True)\n",
    "admin_client_gateway_node_low = gateway_node_low.login(email=\"info@openmined.org\", password=\"changethis\")"
   ]
  },
  {
   "cell_type": "markdown",
   "id": "bdadcc0c",
   "metadata": {},
   "source": [
    "## High side"
   ]
  },
  {
   "cell_type": "code",
   "execution_count": 5,
   "id": "a98d5cf5",
   "metadata": {},
   "outputs": [],
   "source": [
    "enclave_node_high = sy.orchestra.launch(name=\"enclave node\",node_type=\"enclave\", reset=True)\n",
    "ca_node_high = sy.Orchestra.launch(name=\"canada high\", local_db=True, reset=True)\n",
    "it_node_high = sy.Orchestra.launch(name=\"italy high\", local_db=True, reset=True) "
   ]
  },
  {
   "cell_type": "code",
   "execution_count": 6,
   "id": "4fa9d001",
   "metadata": {},
   "outputs": [
    {
     "name": "stdout",
     "output_type": "stream",
     "text": [
      "Message:  Cannot create client for: TailscaleClient\n",
      "Logged into gateway high as <info@openmined.org>\n"
     ]
    }
   ],
   "source": [
    "gateway_node_high = sy.orchestra.launch(name=\"gateway high\",\n",
    "                                       node_type = \"gateway\",\n",
    "                                       local_db=True,\n",
    "                                       reset=True,\n",
    "                                       dev_mode=True)\n",
    "admin_client_gateway_node_high = gateway_node_high.login(email=\"info@openmined.org\", password=\"changethis\")"
   ]
  },
  {
   "cell_type": "markdown",
   "id": "6bcfc534",
   "metadata": {},
   "source": [
    "# DOs"
   ]
  },
  {
   "cell_type": "markdown",
   "id": "4ac38d39",
   "metadata": {},
   "source": [
    "## Login"
   ]
  },
  {
   "cell_type": "markdown",
   "id": "51269c1f",
   "metadata": {},
   "source": [
    "### Low side"
   ]
  },
  {
   "cell_type": "code",
   "execution_count": 7,
   "id": "304ddb77",
   "metadata": {},
   "outputs": [
    {
     "name": "stdout",
     "output_type": "stream",
     "text": [
      "Logged into canada low as <info@openmined.org>\n",
      "Logged into italy low as <info@openmined.org>\n",
      "Logged into ambassador node as <info@openmined.org>\n"
     ]
    }
   ],
   "source": [
    "do_ca_client_low = ca_node_low.login(email=\"info@openmined.org\", password=\"changethis\")\n",
    "do_it_client_low = it_node_low.login(email=\"info@openmined.org\", password=\"changethis\")\n",
    "embassador_client_low = embassador_node_low.login(email=\"info@openmined.org\", password=\"changethis\")"
   ]
  },
  {
   "cell_type": "markdown",
   "id": "6c3fc6b4",
   "metadata": {},
   "source": [
    "### High side"
   ]
  },
  {
   "cell_type": "code",
   "execution_count": 8,
   "id": "a41e1ed7",
   "metadata": {},
   "outputs": [
    {
     "name": "stdout",
     "output_type": "stream",
     "text": [
      "Logged into canada high as <info@openmined.org>\n",
      "Logged into italy high as <info@openmined.org>\n"
     ]
    }
   ],
   "source": [
    "do_ca_client_high = ca_node_high.login(email=\"info@openmined.org\", password=\"changethis\")\n",
    "do_it_client_high = it_node_high.login(email=\"info@openmined.org\", password=\"changethis\")"
   ]
  },
  {
   "cell_type": "markdown",
   "id": "2e0c7e6d",
   "metadata": {},
   "source": [
    "## Connect to network"
   ]
  },
  {
   "cell_type": "code",
   "execution_count": 9,
   "id": "057ea61d",
   "metadata": {},
   "outputs": [],
   "source": [
    "# TODO: add security layer here"
   ]
  },
  {
   "cell_type": "code",
   "execution_count": 10,
   "id": "38995326",
   "metadata": {},
   "outputs": [
    {
     "name": "stdout",
     "output_type": "stream",
     "text": [
      "Logged into enclave node as <info@openmined.org>\n"
     ]
    }
   ],
   "source": [
    "enclave_client_high = enclave_node_high.login(email=\"info@openmined.org\", password=\"changethis\")"
   ]
  },
  {
   "cell_type": "code",
   "execution_count": 11,
   "id": "0145b3f5",
   "metadata": {},
   "outputs": [],
   "source": [
    "# gateway_root_client.register(name=\"\", email=\"info@openmined.org\", password=\"changethis\")\n",
    "# gateway_root_client.register(name=\"\", email=\"info@openmined.org\", password=\"changethis\")"
   ]
  },
  {
   "cell_type": "code",
   "execution_count": 12,
   "id": "e36f1c9f",
   "metadata": {},
   "outputs": [],
   "source": [
    "res = do_ca_client_low.connect_to_gateway(client=admin_client_gateway_node_low) #add credentials here"
   ]
  },
  {
   "cell_type": "code",
   "execution_count": 13,
   "id": "1ed24fa8",
   "metadata": {},
   "outputs": [],
   "source": [
    "res = do_ca_client_low.connect_to_gateway(client=admin_client_gateway_node_low) #add credentials here\n",
    "res = do_it_client_low.connect_to_gateway(client=admin_client_gateway_node_low) #add credentials here"
   ]
  },
  {
   "cell_type": "code",
   "execution_count": 14,
   "id": "3cd1754f",
   "metadata": {},
   "outputs": [],
   "source": [
    "res = do_ca_client_high.connect_to_gateway(client=admin_client_gateway_node_low)\n",
    "res = do_it_client_high.connect_to_gateway(client=admin_client_gateway_node_low)"
   ]
  },
  {
   "cell_type": "markdown",
   "id": "4fae2a76",
   "metadata": {},
   "source": [
    "## Also for ambassador"
   ]
  },
  {
   "cell_type": "code",
   "execution_count": 15,
   "id": "c7a057e3",
   "metadata": {},
   "outputs": [],
   "source": [
    "# TODO: who is going to be responsible for connecting the enclave to the gateway\n",
    "res = enclave_client_high.connect_to_gateway(client=admin_client_gateway_node_low)"
   ]
  },
  {
   "cell_type": "code",
   "execution_count": 16,
   "id": "e07a5061",
   "metadata": {},
   "outputs": [
    {
     "data": {
      "text/plain": [
       "<EnclaveClient - enclave node <972c8494eaf341cab3dbc9a3d6d404c5>: PythonConnection>"
      ]
     },
     "execution_count": 16,
     "metadata": {},
     "output_type": "execute_result"
    }
   ],
   "source": [
    "enclave_client_high"
   ]
  },
  {
   "cell_type": "code",
   "execution_count": 17,
   "id": "9884d195",
   "metadata": {},
   "outputs": [],
   "source": [
    "res = embassador_client_low.connect_to_gateway(client=admin_client_gateway_node_low) #add credentials here"
   ]
  },
  {
   "cell_type": "markdown",
   "id": "7067e897",
   "metadata": {},
   "source": [
    "## Upload dataset"
   ]
  },
  {
   "cell_type": "markdown",
   "id": "29d74253",
   "metadata": {},
   "source": [
    "### Low side"
   ]
  },
  {
   "cell_type": "code",
   "execution_count": 18,
   "id": "79e4c728",
   "metadata": {},
   "outputs": [],
   "source": [
    "# Using public datasets from  Freely Extensible Biomedical Record Linkage (Febrl)\n",
    "canada_census_data_low, italy_census_data_low = load_febrl4()"
   ]
  },
  {
   "cell_type": "code",
   "execution_count": 19,
   "id": "531e841c",
   "metadata": {},
   "outputs": [
    {
     "name": "stderr",
     "output_type": "stream",
     "text": [
      "100%|██████████| 1/1 [00:00<00:00,  9.62it/s]\n"
     ]
    },
    {
     "name": "stdout",
     "output_type": "stream",
     "text": [
      "Uploading: census_data\n"
     ]
    },
    {
     "name": "stderr",
     "output_type": "stream",
     "text": [
      "  0%|          | 0/1 [00:00<?, ?it/s]"
     ]
    },
    {
     "name": "stdout",
     "output_type": "stream",
     "text": [
      "Uploading: census_data\n"
     ]
    },
    {
     "name": "stderr",
     "output_type": "stream",
     "text": [
      "100%|██████████| 1/1 [00:00<00:00, 10.71it/s]\n"
     ]
    }
   ],
   "source": [
    "for (dataset, client, country) in zip([canada_census_data_low, italy_census_data_low],\n",
    "                                      [do_ca_client_low, do_it_client_low], [\"Canada\", \"Italy\"]):\n",
    "    private_data, mock_data = dataset[:2500] , dataset[2500:]\n",
    "    dataset = sy.Dataset(\n",
    "        name=f\"{country} - FEBrl Census Data\",\n",
    "        description=\"abc\",\n",
    "        asset_list=[\n",
    "            sy.Asset(\n",
    "                name=\"census_data\",\n",
    "                mock=mock_data,\n",
    "                data=private_data,\n",
    "                shape=private_data.shape,\n",
    "                mock_is_real=True\n",
    "            )\n",
    "        ]\n",
    "    )\n",
    "    client.upload_dataset(dataset)\n",
    "    "
   ]
  },
  {
   "cell_type": "markdown",
   "id": "39191e58",
   "metadata": {},
   "source": [
    "### High side"
   ]
  },
  {
   "cell_type": "code",
   "execution_count": 20,
   "id": "e8c8f878",
   "metadata": {},
   "outputs": [],
   "source": [
    "# Using public datasets from  Freely Extensible Biomedical Record Linkage (Febrl)\n",
    "canada_census_data_high, italy_census_data_high = load_febrl4()"
   ]
  },
  {
   "cell_type": "code",
   "execution_count": 21,
   "id": "78c18173",
   "metadata": {},
   "outputs": [
    {
     "name": "stderr",
     "output_type": "stream",
     "text": [
      "100%|██████████| 1/1 [00:00<00:00, 12.11it/s]\n"
     ]
    },
    {
     "name": "stdout",
     "output_type": "stream",
     "text": [
      "Uploading: census_data\n"
     ]
    },
    {
     "name": "stderr",
     "output_type": "stream",
     "text": [
      "  0%|          | 0/1 [00:00<?, ?it/s]"
     ]
    },
    {
     "name": "stdout",
     "output_type": "stream",
     "text": [
      "Uploading: census_data\n"
     ]
    },
    {
     "name": "stderr",
     "output_type": "stream",
     "text": [
      "100%|██████████| 1/1 [00:00<00:00, 10.74it/s]\n"
     ]
    }
   ],
   "source": [
    "for (dataset, client, country) in zip([canada_census_data_high, italy_census_data_high],\n",
    "                                      [do_ca_client_high, do_it_client_high], [\"Canada\", \"Italy\"]):\n",
    "    private_data, mock_data = dataset[:2500] , dataset[2500:]\n",
    "    dataset = sy.Dataset(\n",
    "        name=f\"{country} - FEBrl Census Data\",\n",
    "        description=\"abc\",\n",
    "        asset_list=[\n",
    "            sy.Asset(\n",
    "                name=\"census_data\",\n",
    "                mock=mock_data,\n",
    "                data=private_data,\n",
    "                shape=private_data.shape,\n",
    "                mock_is_real=True\n",
    "            )\n",
    "        ]\n",
    "    )\n",
    "    client.upload_dataset(dataset)\n",
    "    "
   ]
  },
  {
   "cell_type": "markdown",
   "id": "b851388f",
   "metadata": {},
   "source": [
    "## create accounts for DS"
   ]
  },
  {
   "cell_type": "markdown",
   "id": "86265c95",
   "metadata": {},
   "source": [
    "### Low side"
   ]
  },
  {
   "cell_type": "code",
   "execution_count": 22,
   "id": "068d7f74",
   "metadata": {},
   "outputs": [],
   "source": [
    "for client in [do_ca_client_low, do_it_client_low]:\n",
    "    client.register(\n",
    "        name = \"Sheldon\",\n",
    "        email = \"sheldon@caltech.edu\",\n",
    "        password = \"changethis\"\n",
    "    )"
   ]
  },
  {
   "cell_type": "code",
   "execution_count": 23,
   "id": "810c6322",
   "metadata": {},
   "outputs": [],
   "source": [
    "embassador_client_low.register(name = \"Sheldon\", email = \"sheldon@caltech.edu\",password = \"changethis\");"
   ]
  },
  {
   "cell_type": "markdown",
   "id": "9cb97855",
   "metadata": {},
   "source": [
    "## Create account for embassador"
   ]
  },
  {
   "cell_type": "markdown",
   "id": "5df9b2b1",
   "metadata": {},
   "source": [
    "### High Side"
   ]
  },
  {
   "cell_type": "code",
   "execution_count": 24,
   "id": "52b5a92f",
   "metadata": {},
   "outputs": [],
   "source": [
    "for client in [do_ca_client_high, do_it_client_high]:\n",
    "    client.register(\n",
    "        name = \"Sheldon\",\n",
    "        email = \"sheldon@caltech.edu\",\n",
    "        password = \"changethis\"\n",
    "    )"
   ]
  },
  {
   "cell_type": "markdown",
   "id": "17e97ac0",
   "metadata": {},
   "source": [
    "# DS Low Side"
   ]
  },
  {
   "cell_type": "markdown",
   "id": "089610b7",
   "metadata": {},
   "source": [
    "## DS Get proxy clients"
   ]
  },
  {
   "cell_type": "markdown",
   "id": "6c8d0e2b",
   "metadata": {},
   "source": [
    "### Low side"
   ]
  },
  {
   "cell_type": "code",
   "execution_count": 25,
   "id": "da6856a1",
   "metadata": {},
   "outputs": [],
   "source": [
    "ds_gateway_client_low = gateway_node_low.client"
   ]
  },
  {
   "cell_type": "code",
   "execution_count": 43,
   "id": "d3136024",
   "metadata": {},
   "outputs": [
    {
     "data": {
      "text/html": [
       "\n",
       "<style>\n",
       "  .header-1 {\n",
       "        font-style: normal;\n",
       "        font-weight: 600;\n",
       "        font-size: 2.0736em;\n",
       "        line-height: 100%;\n",
       "        leading-trim: both;\n",
       "        text-edge: cap;\n",
       "        color: #17161D;\n",
       "    }\n",
       "\n",
       "  .header-2 {\n",
       "        font-style: normal;\n",
       "        font-weight: 600;\n",
       "        font-size: 1.728em;\n",
       "        line-height: 100%;\n",
       "        leading-trim: both;\n",
       "        text-edge: cap;\n",
       "        color: #17161D;\n",
       "    }\n",
       "\n",
       "  .header-3 {\n",
       "        font-style: normal;\n",
       "        font-weight: 600;\n",
       "        font-size:  1.44em;\n",
       "        line-height: 100%;\n",
       "        leading-trim: both;\n",
       "        text-edge: cap;\n",
       "        color: #17161D;\n",
       "    }\n",
       "\n",
       "  .header-4 {\n",
       "        font-style: normal;\n",
       "        font-weight: 600;\n",
       "        font-size: 1.2em;\n",
       "        line-height: 100%;\n",
       "        leading-trim: both;\n",
       "        text-edge: cap;\n",
       "        color: #17161D;\n",
       "    }\n",
       "\n",
       "    .paragraph {\n",
       "        font-style: normal;\n",
       "        font-weight: 400;\n",
       "        font-size: 14px;\n",
       "        line-height: 100%;\n",
       "        leading-trim: both;\n",
       "        text-edge: cap;\n",
       "        color: #2E2B3B;\n",
       "    }\n",
       "\n",
       "    .paragraph-sm {\n",
       "        font-family: 'Roboto';\n",
       "        font-style: normal;\n",
       "        font-weight: 400;\n",
       "        font-size: 11.62px;\n",
       "        line-height: 100%;\n",
       "        leading-trim: both;\n",
       "        text-edge: cap;\n",
       "        color: #2E2B3B;\n",
       "    }\n",
       "    .code-text {\n",
       "        font-family: 'Consolas';\n",
       "        font-style: normal;\n",
       "        font-weight: 400;\n",
       "        font-size: 13px;\n",
       "        line-height: 130%;\n",
       "        leading-trim: both;\n",
       "        text-edge: cap;\n",
       "        color: #2E2B3B;\n",
       "    }\n",
       "\n",
       "    .numbering-entry { display: none }\n",
       "\n",
       "    /* Tooltip container */\n",
       "    .tooltip {\n",
       "        position: relative;\n",
       "        display: inline-block;\n",
       "        border-bottom: 1px dotted black; /* If you want dots under the hoverable text */\n",
       "    }\n",
       "\n",
       "    /* Tooltip text */\n",
       "    .tooltip .tooltiptext {\n",
       "        visibility: hidden;\n",
       "        width: 120px;\n",
       "        background-color: black;\n",
       "        color: #fff;\n",
       "        text-align: center;\n",
       "        padding: 5px 0;\n",
       "        border-radius: 6px;\n",
       "\n",
       "        /* Position the tooltip text - see examples below! */\n",
       "        position: absolute;\n",
       "        z-index: 1;\n",
       "    }\n",
       "\n",
       "    .repr-cell {\n",
       "      padding-top: 20px;\n",
       "    }\n",
       "\n",
       "    .text-bold {\n",
       "        font-weight: bold;\n",
       "    }\n",
       "\n",
       "    .pr-8 {\n",
       "        padding-right: 8px;\n",
       "    }\n",
       "    .pt-8 {\n",
       "        padding-top: 8px;\n",
       "    }\n",
       "    .pl-8 {\n",
       "        padding-left: 8px;\n",
       "    }\n",
       "    .pb-8 {\n",
       "        padding-bottom: 8px;\n",
       "    }\n",
       "\n",
       "    .py-25{\n",
       "        padding-top: 25px;\n",
       "        padding-bottom: 25px;\n",
       "    }\n",
       "\n",
       "    .flex {\n",
       "        display: flex;\n",
       "    }\n",
       "\n",
       "    .gap-10 {\n",
       "        gap: 10px;\n",
       "    }\n",
       "    .items-center{\n",
       "        align-items: center;\n",
       "    }\n",
       "\n",
       "    .search-input{\n",
       "        display: flex;\n",
       "        flex-direction: row;\n",
       "        align-items: center;\n",
       "        padding: 8px 12px;\n",
       "        width: 343px;\n",
       "        height: 24px;\n",
       "        /* Lt On Surface/Low */\n",
       "        background: #F1F0F4;\n",
       "        border-radius: 30px;\n",
       "\n",
       "        /* Lt On Surface/Highest */\n",
       "        color: #B4B0BF;\n",
       "        border:none;\n",
       "        /* Inside auto layout */\n",
       "        flex: none;\n",
       "        order: 0;\n",
       "        flex-grow: 0;\n",
       "    }\n",
       "    .search-input:focus {\n",
       "        outline: none;\n",
       "    }\n",
       "\n",
       "    .search-button{\n",
       "        /* Search */\n",
       "        leading-trim: both;\n",
       "        text-edge: cap;\n",
       "        display: flex;\n",
       "        align-items: center;\n",
       "        text-align: center;\n",
       "\n",
       "        /* Primary/On Light */\n",
       "        color: #464A91;\n",
       "\n",
       "        border-radius: 30px;\n",
       "        border-color: #464A91;\n",
       "        /* Inside auto layout */\n",
       "        flex: none;\n",
       "        order: 1;\n",
       "        flex-grow: 0;\n",
       "    }\n",
       "\n",
       "    .grid-table8408635c2ae242be85ce53ea8bf42c8a {\n",
       "        display:grid;\n",
       "        grid-template-columns: 1fr repeat(8, 1fr);\n",
       "        grid-template-rows: repeat(2, 1fr);\n",
       "        overflow-x: auto;\n",
       "    }\n",
       "\n",
       "    .grid-std-cells {\n",
       "        grid-column: span 4;\n",
       "\n",
       "    }\n",
       "    .grid-index-cells {\n",
       "        grid-column: span 1;\n",
       "        background: #ECEBEF;\n",
       "        /* tmp fix to make left col stand out (fix with font-family) */\n",
       "        font-weight: 600;\n",
       "    }\n",
       "\n",
       "    .grid-header {\n",
       "        /* Auto layout */\n",
       "        display: flex;\n",
       "        flex-direction: column;\n",
       "        align-items: flex-start;\n",
       "        padding: 6px 4px;\n",
       "\n",
       "        /* Lt On Surface/Surface */\n",
       "        background: #ECEBEF;\n",
       "        /* Lt On Surface/High */\n",
       "        border: 1px solid #CFCDD6;\n",
       "        color: #2E2B3B;\n",
       "        /* tmp fix to make header stand out (fix with font-family) */\n",
       "        font-weight: 600;\n",
       "    }\n",
       "\n",
       "    .grid-row {\n",
       "        color: #5E5A72;\n",
       "        display: flex;\n",
       "        flex-direction: column;\n",
       "        align-items: flex-start;\n",
       "        padding: 6px 4px;\n",
       "        overflow: hidden;\n",
       "        border: 1px solid #CFCDD6;\n",
       "    }\n",
       "\n",
       "    .badge {\n",
       "        code-text;\n",
       "        border-radius: 30px;\n",
       "    }\n",
       "\n",
       "    .badge-blue {\n",
       "        badge;\n",
       "        background-color: #C2DEF0;\n",
       "        color: #1F567A;\n",
       "    }\n",
       "\n",
       "    .badge-purple {\n",
       "        badge;\n",
       "        background-color: #C9CFE8;\n",
       "        color: #373B7B;\n",
       "    }\n",
       "\n",
       "    .badge-green {\n",
       "        badge;\n",
       "\n",
       "        /* Success/Container */\n",
       "        background-color: #D5F1D5;\n",
       "        color: #256B24;\n",
       "    }\n",
       "\n",
       "    .badge-red {\n",
       "        badge;\n",
       "        background-color: #F2D9DE;\n",
       "        color: #9B2737;\n",
       "    }\n",
       "\n",
       "    .badge-gray {\n",
       "        badge;\n",
       "        background-color: #ECEBEF;\n",
       "        color: #2E2B3B;\n",
       "    }\n",
       "    .paginationContainer{\n",
       "        width: 100%;\n",
       "        height: 30px;\n",
       "        display: flex;\n",
       "        justify-content: center;\n",
       "        gap: 8px;\n",
       "        padding: 5px;\n",
       "    }\n",
       "\n",
       "    .page{\n",
       "        color: black;\n",
       "        font-weight: bold;\n",
       "    }\n",
       "    .page:hover {\n",
       "      color: #38bdf8;\n",
       "      cursor: pointer;\n",
       "    }\n",
       "    .clipboard:hover{\n",
       "        cursor: pointer;\n",
       "    }\n",
       "\n",
       "    .search-field {\n",
       "        display: flex;\n",
       "        align-items: center;\n",
       "        background: #F1F0F4;\n",
       "        border-radius: 30px;\n",
       "    }\n",
       "\n",
       "    .syft-dropdown {\n",
       "        margin: 5px;\n",
       "        margin-left: 5px;\n",
       "        position: relative;\n",
       "        display: inline-block;\n",
       "        text-align: center;\n",
       "        background-color: #d1d5db;\n",
       "        min-width: 100px;\n",
       "        padding: 2px;\n",
       "        border-radius: 30px;\n",
       "    }\n",
       "\n",
       "    .syft-dropdown:hover {\n",
       "        cursor: pointer;\n",
       "    }\n",
       "    .syft-dropdown-content {\n",
       "        margin-top:26px;\n",
       "        display: none;\n",
       "        position: absolute;\n",
       "        background-color: #f9f9f9;\n",
       "        min-width: 100px;\n",
       "        box-shadow: 0px 8px 16px 0px rgba(0,0,0,0.2);\n",
       "        padding: 12px 6px;\n",
       "        z-index: 1;\n",
       "    }\n",
       "    .dd-options {\n",
       "        padding-top: 4px;\n",
       "    }\n",
       "    .dd-options:first-of-type {\n",
       "        padding-top: 0px;\n",
       "    }\n",
       "\n",
       "    .dd-options:hover {\n",
       "        cursor: pointer;\n",
       "        background: #d1d5db;\n",
       "    }\n",
       "    .arrow {\n",
       "        border: solid black;\n",
       "        border-width: 0 3px 3px 0;\n",
       "        display: inline-block;\n",
       "        padding: 3px;\n",
       "    }\n",
       "    .down {\n",
       "        transform: rotate(45deg);\n",
       "        -webkit-transform: rotate(45deg);\n",
       "    }\n",
       "</style>\n",
       "\n",
       "\n",
       "    <div style='margin-top:15px;'>\n",
       "        <div class='flex gap-10' style='align-items: center;'>\n",
       "            <div><svg width=\"32\" height=\"32\" viewBox=\"0 0 32 32\" fill=\"none\" xmlns=\"http://www.w3.org/2000/svg\"> <path d=\"M28 6H4C3.73478 6 3.48043 6.10536 3.29289 6.29289C3.10536 6.48043 3 6.73478 3 7V24C3 24.5304 3.21071 25.0391 3.58579 25.4142C3.96086 25.7893 4.46957 26 5 26H27C27.5304 26 28.0391 25.7893 28.4142 25.4142C28.7893 25.0391 29 24.5304 29 24V7C29 6.73478 28.8946 6.48043 28.7071 6.29289C28.5196 6.10536 28.2652 6 28 6ZM5 14H10V18H5V14ZM12 14H27V18H12V14ZM27 8V12H5V8H27ZM5 20H10V24H5V20ZM27 24H12V20H27V24Z\" fill=\"#343330\"/></svg></div>\n",
       "            <div><p class='header-3'>NodePeer List</p></div>\n",
       "        </div>\n",
       "\n",
       "            <div style=\"padding-top: 16px; display:flex;justify-content: space-between; align-items: center;\">\n",
       "                <div class='pt-25 gap-10' style=\"display:flex;\">\n",
       "                    <div class=\"search-field\">\n",
       "                        <div id='search-menu8408635c2ae242be85ce53ea8bf42c8a' class=\"syft-dropdown\" onclick=\"{\n",
       "                            let doc = document.getElementById('search-dropdown-content8408635c2ae242be85ce53ea8bf42c8a')\n",
       "                            if (doc.style.display === 'block'){\n",
       "                                doc.style.display = 'none'\n",
       "                            } else {\n",
       "                                doc.style.display = 'block'\n",
       "                            }\n",
       "                            }\">\n",
       "                            <div id='search-dropdown-content8408635c2ae242be85ce53ea8bf42c8a' class='syft-dropdown-content'></div>\n",
       "                            <script>\n",
       "                                var element8408635c2ae242be85ce53ea8bf42c8a = [{\"id\": {\"value\": \"fc797b5c9e9945db878d5ae1a88bab88\", \"type\": \"clipboard\"}, \"name\": \"canada low\"}, {\"id\": {\"value\": \"6139fb337572478fa82748b9b67fbc58\", \"type\": \"clipboard\"}, \"name\": \"italy low\"}, {\"id\": {\"value\": \"9c24843b0d4241f094fe1e430a1aba6b\", \"type\": \"clipboard\"}, \"name\": \"canada high\"}, {\"id\": {\"value\": \"f84926ad59ff4a7683dd43c021178de1\", \"type\": \"clipboard\"}, \"name\": \"italy high\"}, {\"id\": {\"value\": \"972c8494eaf341cab3dbc9a3d6d404c5\", \"type\": \"clipboard\"}, \"name\": \"enclave node\"}, {\"id\": {\"value\": \"cf027bf3139f4ba8a7dd6074f56e84a2\", \"type\": \"clipboard\"}, \"name\": \"ambassador node\"}]\n",
       "                                var page_size8408635c2ae242be85ce53ea8bf42c8a = 5\n",
       "                                var pageIndex8408635c2ae242be85ce53ea8bf42c8a = 1\n",
       "                                var paginatedElements8408635c2ae242be85ce53ea8bf42c8a = []\n",
       "                                var activeFilter8408635c2ae242be85ce53ea8bf42c8a;\n",
       "\n",
       "                                function buildDropDownMenu(elements){\n",
       "                                    let init_filter;\n",
       "                                    let menu = document.getElementById('search-dropdown-content8408635c2ae242be85ce53ea8bf42c8a')\n",
       "                                    if (elements.length > 0) {\n",
       "                                        let sample = elements[0]\n",
       "                                        for (const attr in sample) {\n",
       "                                            if (typeof init_filter === 'undefined'){\n",
       "                                                init_filter = attr;\n",
       "                                            }\n",
       "                                            let content = document.createElement('div');\n",
       "                                            content.onclick = function(event) {\n",
       "                                                event.stopPropagation()\n",
       "                                                document.getElementById('menu-active-filter8408635c2ae242be85ce53ea8bf42c8a').innerText = attr;\n",
       "                                                activeFilter8408635c2ae242be85ce53ea8bf42c8a = attr;\n",
       "                                                document.getElementById(\n",
       "                                                    'search-dropdown-content8408635c2ae242be85ce53ea8bf42c8a'\n",
       "                                                ).style.display= 'none';\n",
       "                                            }\n",
       "                                            content.classList.add(\"dd-options\");\n",
       "                                            content.innerText = attr;\n",
       "                                            menu.appendChild(content);\n",
       "                                        }\n",
       "                                    } else {\n",
       "                                        let init_filter = '---'\n",
       "                                    }\n",
       "                                    let dropdown_field = document.getElementById('search-menu8408635c2ae242be85ce53ea8bf42c8a')\n",
       "                                    let span = document.createElement('span')\n",
       "                                    span.setAttribute('id', 'menu-active-filter8408635c2ae242be85ce53ea8bf42c8a')\n",
       "                                    span.innerText = init_filter\n",
       "                                    activeFilter8408635c2ae242be85ce53ea8bf42c8a = init_filter;\n",
       "                                    dropdown_field.appendChild(span)\n",
       "                                }\n",
       "\n",
       "                                buildDropDownMenu(element8408635c2ae242be85ce53ea8bf42c8a)\n",
       "                            </script>\n",
       "                        </div>\n",
       "                        <input id='searchKey8408635c2ae242be85ce53ea8bf42c8a' class='search-input' placeholder='Enter search here ...'  />\n",
       "                    </div>\n",
       "                    <button class='search-button'  onclick=\"searchGrid8408635c2ae242be85ce53ea8bf42c8a(element8408635c2ae242be85ce53ea8bf42c8a)\">\n",
       "                        <svg width=\"11\" height=\"10\" viewBox=\"0 0 11 10\" fill=\"none\" xmlns=\"http://www.w3.org/2000/svg\"><path d=\"M10.5652 9.23467L8.21819 6.88811C8.89846 6.07141 9.23767 5.02389 9.16527 3.96345C9.09287 2.90302 8.61443 1.91132 7.82948 1.19466C7.04453 0.477995 6.01349 0.0915414 4.95087 0.115691C3.88824 0.139841 2.87583 0.572735 2.12425 1.32432C1.37266 2.0759 0.939768 3.08831 0.915618 4.15094C0.891468 5.21357 1.27792 6.2446 1.99459 7.02955C2.71125 7.8145 3.70295 8.29294 4.76338 8.36535C5.82381 8.43775 6.87134 8.09853 7.68804 7.41827L10.0346 9.7653C10.0694 9.80014 10.1108 9.82778 10.1563 9.84663C10.2018 9.86549 10.2506 9.87519 10.2999 9.87519C10.3492 9.87519 10.398 9.86549 10.4435 9.84663C10.489 9.82778 10.5304 9.80014 10.5652 9.7653C10.6001 9.73046 10.6277 9.68909 10.6466 9.64357C10.6654 9.59805 10.6751 9.54926 10.6751 9.49998C10.6751 9.45071 10.6654 9.40192 10.6466 9.3564C10.6277 9.31088 10.6001 9.26951 10.5652 9.23467ZM1.67491 4.24998C1.67491 3.58247 1.87285 2.92995 2.2437 2.37493C2.61455 1.81992 3.14165 1.38734 3.75835 1.13189C4.37506 0.876446 5.05366 0.809609 5.70834 0.939835C6.36303 1.07006 6.96439 1.3915 7.4364 1.8635C7.9084 2.3355 8.22984 2.93687 8.36006 3.59155C8.49029 4.24624 8.42345 4.92484 8.168 5.54154C7.91256 6.15824 7.47998 6.68535 6.92496 7.05619C6.36995 7.42704 5.71742 7.62498 5.04991 7.62498C4.15511 7.62399 3.29724 7.26809 2.66452 6.63537C2.0318 6.00265 1.6759 5.14479 1.67491 4.24998Z\" fill=\"#464A91\"/></svg>\n",
       "                        <span class='pl-8'>Search</span>\n",
       "                    </button>\n",
       "                </div>\n",
       "\n",
       "                <div><h4 id='total8408635c2ae242be85ce53ea8bf42c8a'>0</h4></div>\n",
       "            </div>\n",
       "            <div id='table8408635c2ae242be85ce53ea8bf42c8a' class='grid-table8408635c2ae242be85ce53ea8bf42c8a' style='margin-top: 25px;'>\n",
       "                <script>\n",
       "                    function paginate8408635c2ae242be85ce53ea8bf42c8a(arr, size) {\n",
       "                        const res = [];\n",
       "                        for (let i = 0; i < arr.length; i += size) {\n",
       "                            const chunk = arr.slice(i, i + size);\n",
       "                            res.push(chunk);\n",
       "                        }\n",
       "\n",
       "                        return res;\n",
       "                    }\n",
       "\n",
       "                    function searchGrid8408635c2ae242be85ce53ea8bf42c8a(elements){\n",
       "                        let searchKey = document.getElementById('searchKey8408635c2ae242be85ce53ea8bf42c8a').value\n",
       "                        console.log(\"Search Key: \", searchKey)\n",
       "                        let result;\n",
       "                        if (searchKey === ''){\n",
       "                            result = elements;\n",
       "                        } else {\n",
       "                            result = elements.filter((element) => {\n",
       "                                let property = element[activeFilter8408635c2ae242be85ce53ea8bf42c8a]\n",
       "                                if (typeof property === 'object' && property !== null){\n",
       "                                    return property.value.toLowerCase().includes(searchKey.toLowerCase());\n",
       "                                } else if (typeof property === 'string' ) {\n",
       "                                    return element[activeFilter8408635c2ae242be85ce53ea8bf42c8a].toLowerCase().includes(searchKey.toLowerCase());\n",
       "                                } else if (property !== null ) {\n",
       "                                    return element[activeFilter8408635c2ae242be85ce53ea8bf42c8a].toString() === searchKey;\n",
       "                                } else {\n",
       "                                    return element[activeFilter8408635c2ae242be85ce53ea8bf42c8a] === searchKey;\n",
       "                                }\n",
       "                            } );\n",
       "                        }\n",
       "                        resetById8408635c2ae242be85ce53ea8bf42c8a('table8408635c2ae242be85ce53ea8bf42c8a');\n",
       "                        resetById8408635c2ae242be85ce53ea8bf42c8a('pag8408635c2ae242be85ce53ea8bf42c8a');\n",
       "                        result = paginate8408635c2ae242be85ce53ea8bf42c8a(result, page_size8408635c2ae242be85ce53ea8bf42c8a)\n",
       "                        buildGrid8408635c2ae242be85ce53ea8bf42c8a(result,pageIndex8408635c2ae242be85ce53ea8bf42c8a);\n",
       "                        buildPaginationContainer8408635c2ae242be85ce53ea8bf42c8a(result);\n",
       "                    }\n",
       "\n",
       "                    function resetById8408635c2ae242be85ce53ea8bf42c8a(id){\n",
       "                        let element = document.getElementById(id);\n",
       "                        while (element.firstChild) {\n",
       "                          element.removeChild(element.firstChild);\n",
       "                        }\n",
       "                    }\n",
       "\n",
       "                    function buildGrid8408635c2ae242be85ce53ea8bf42c8a(items, pageIndex){\n",
       "                                let headers = Object.keys(element8408635c2ae242be85ce53ea8bf42c8a[0]);\n",
       "\n",
       "                                let grid = document.getElementById(\"table8408635c2ae242be85ce53ea8bf42c8a\");\n",
       "                                let div = document.createElement(\"div\");\n",
       "                                div.classList.add('grid-header', 'grid-index-cells');\n",
       "                                grid.appendChild(div);\n",
       "                                headers.forEach((title) =>{\n",
       "                                    let div = document.createElement(\"div\");\n",
       "                                    div.classList.add('grid-header', 'grid-std-cells');\n",
       "                                    div.innerText = title;\n",
       "\n",
       "                                    grid.appendChild(div);\n",
       "                                });\n",
       "\n",
       "                                let page = items[pageIndex -1]\n",
       "                                if (page !== 'undefine'){\n",
       "                                    let table_index8408635c2ae242be85ce53ea8bf42c8a = ((pageIndex - 1) * page_size8408635c2ae242be85ce53ea8bf42c8a)\n",
       "                                    page.forEach((item) => {\n",
       "                                        let grid = document.getElementById(\"table8408635c2ae242be85ce53ea8bf42c8a\");\n",
       "                                        // Add new index value in index cells\n",
       "                                        let divIndex = document.createElement(\"div\");\n",
       "                                        divIndex.classList.add('grid-row', 'grid-index-cells');\n",
       "                                        divIndex.innerText = table_index8408635c2ae242be85ce53ea8bf42c8a;\n",
       "                                        grid.appendChild(divIndex);\n",
       "\n",
       "                                        // Iterate over the actual obj\n",
       "                                        for (const attr in item) {\n",
       "                                            let div = document.createElement(\"div\");\n",
       "                                            if (typeof item[attr] === 'object'\n",
       "                                                && item[attr] !== null\n",
       "                                                && item[attr].hasOwnProperty('type')) {\n",
       "                                                if (item[attr].type.includes('badge')){\n",
       "                                                    let badge_div = document.createElement(\"div\");\n",
       "                                                    badge_div.classList.add('badge',item[attr].type)\n",
       "                                                    badge_div.innerText = String(item[attr].value).toUpperCase();\n",
       "                                                    div.appendChild(badge_div);\n",
       "                                                    div.classList.add('grid-row','grid-std-cells');\n",
       "                                                } else if (item[attr].type === \"clipboard\") {\n",
       "                                                    div.classList.add('grid-row','grid-std-cells');\n",
       "\n",
       "                                                    // Create clipboard div\n",
       "                                                    let clipboard_div = document.createElement('div');\n",
       "                                                    clipboard_div.style.display= 'flex';\n",
       "                                                    clipboard_div.classList.add(\"gap-10\")\n",
       "                                                    clipboard_div.style.justifyContent = \"space-between\";\n",
       "\n",
       "                                                    let id_text = document.createElement('div');\n",
       "                                                    if (item[attr].value == \"None\"){\n",
       "                                                        id_text.innerText = \"None\";\n",
       "                                                    }\n",
       "                                                    else{\n",
       "                                                        id_text.innerText = item[attr].value.slice(0,5) + \"...\";\n",
       "                                                    }\n",
       "\n",
       "                                                    clipboard_div.appendChild(id_text);\n",
       "                                                    let clipboard_img = document.createElement('div');\n",
       "                                                    clipboard_img.classList.add(\"clipboard\")\n",
       "                                                    div.onclick = function() {\n",
       "                                                        navigator.clipboard.writeText(item[attr].value);\n",
       "                                                    };\n",
       "                                                    clipboard_img.innerHTML = \"<svg width='8' height='8' viewBox='0 0 8 8' fill='none' xmlns='http://www.w3.org/2000/svg'><path d='M7.4375 0.25H2.4375C2.35462 0.25 2.27513 0.282924 2.21653 0.341529C2.15792 0.400134 2.125 0.47962 2.125 0.5625V2.125H0.5625C0.47962 2.125 0.400134 2.15792 0.341529 2.21653C0.282924 2.27513 0.25 2.35462 0.25 2.4375V7.4375C0.25 7.52038 0.282924 7.59987 0.341529 7.65847C0.400134 7.71708 0.47962 7.75 0.5625 7.75H5.5625C5.64538 7.75 5.72487 7.71708 5.78347 7.65847C5.84208 7.59987 5.875 7.52038 5.875 7.4375V5.875H7.4375C7.52038 5.875 7.59987 5.84208 7.65847 5.78347C7.71708 5.72487 7.75 5.64538 7.75 5.5625V0.5625C7.75 0.47962 7.71708 0.400134 7.65847 0.341529C7.59987 0.282924 7.52038 0.25 7.4375 0.25ZM5.25 7.125H0.875V2.75H5.25V7.125ZM7.125 5.25H5.875V2.4375C5.875 2.35462 5.84208 2.27513 5.78347 2.21653C5.72487 2.15792 5.64538 2.125 5.5625 2.125H2.75V0.875H7.125V5.25Z' fill='#464158'/></svg>\";\n",
       "\n",
       "                                                    clipboard_div.appendChild(clipboard_img);\n",
       "                                                    div.appendChild(clipboard_div);\n",
       "                                                }\n",
       "                                            } else{\n",
       "                                                div.classList.add('grid-row','grid-std-cells');\n",
       "                                                if (item[attr] == null) {\n",
       "                                                    text = ' '\n",
       "                                                } else {\n",
       "                                                    text = String(item[attr])\n",
       "                                                }\n",
       "                                                if (text.length > 150){\n",
       "                                                    text = text.slice(0,150) + \"...\";\n",
       "                                                }\n",
       "                                                text = text.replaceAll(\"\\n\", \"</br>\");\n",
       "                                                div.innerHTML = text;\n",
       "                                            }\n",
       "                                            grid.appendChild(div);\n",
       "                                        }\n",
       "                                    table_index8408635c2ae242be85ce53ea8bf42c8a = table_index8408635c2ae242be85ce53ea8bf42c8a + 1;\n",
       "                                    })\n",
       "                                }\n",
       "                    }\n",
       "                    paginatedElements8408635c2ae242be85ce53ea8bf42c8a = paginate8408635c2ae242be85ce53ea8bf42c8a(element8408635c2ae242be85ce53ea8bf42c8a, page_size8408635c2ae242be85ce53ea8bf42c8a)\n",
       "                    buildGrid8408635c2ae242be85ce53ea8bf42c8a(paginatedElements8408635c2ae242be85ce53ea8bf42c8a, 1)\n",
       "                    document.getElementById('total8408635c2ae242be85ce53ea8bf42c8a').innerText = \"Total: \" + element8408635c2ae242be85ce53ea8bf42c8a.length\n",
       "                </script>\n",
       "            </div>\n",
       "            <div id='pag8408635c2ae242be85ce53ea8bf42c8a' class='paginationContainer'>\n",
       "                <script>\n",
       "                    function buildPaginationContainer8408635c2ae242be85ce53ea8bf42c8a(paginatedElements){\n",
       "                            let pageContainer = document.getElementById(\"pag8408635c2ae242be85ce53ea8bf42c8a\");\n",
       "                            for (let i = 0; i < paginatedElements.length; i++) {\n",
       "                                  let div = document.createElement(\"div\");\n",
       "                                  div.classList.add('page');\n",
       "                                  div.style.color = 'gray';\n",
       "                                  div.onclick = function(event) {\n",
       "                                      let indexes = document.getElementsByClassName('page');\n",
       "                                      for (let index of indexes) { index.style.color = 'gray' }\n",
       "                                      event.target.style.color = \"black\"\n",
       "                                      setPage8408635c2ae242be85ce53ea8bf42c8a(i + 1);\n",
       "                                  };\n",
       "                                  div.innerText = i + 1;\n",
       "                                  pageContainer.appendChild(div);\n",
       "                            }\n",
       "                    }\n",
       "\n",
       "                    function setPage8408635c2ae242be85ce53ea8bf42c8a(newPage){\n",
       "                        pageIndex = newPage\n",
       "                        resetById8408635c2ae242be85ce53ea8bf42c8a('table8408635c2ae242be85ce53ea8bf42c8a')\n",
       "                        buildGrid8408635c2ae242be85ce53ea8bf42c8a(paginatedElements8408635c2ae242be85ce53ea8bf42c8a, pageIndex)\n",
       "                    }\n",
       "\n",
       "                    buildPaginationContainer8408635c2ae242be85ce53ea8bf42c8a(paginatedElements8408635c2ae242be85ce53ea8bf42c8a)\n",
       "                </script>\n",
       "            </div>\n",
       "        </div>\n",
       "    </div>\n",
       "    </div>\n"
      ],
      "text/plain": [
       "[syft.service.network.node_peer.NodePeer,\n",
       " syft.service.network.node_peer.NodePeer,\n",
       " syft.service.network.node_peer.NodePeer,\n",
       " syft.service.network.node_peer.NodePeer,\n",
       " syft.service.network.node_peer.NodePeer,\n",
       " syft.service.network.node_peer.NodePeer]"
      ]
     },
     "execution_count": 43,
     "metadata": {},
     "output_type": "execute_result"
    }
   ],
   "source": [
    "ds_gateway_client_low.domains"
   ]
  },
  {
   "cell_type": "code",
   "execution_count": 27,
   "id": "275c78a5",
   "metadata": {},
   "outputs": [
    {
     "name": "stdout",
     "output_type": "stream",
     "text": [
      "Logged into canada low as <sheldon@caltech.edu>\n",
      "Logged into italy low as <sheldon@caltech.edu>\n",
      "Logged into ambassador node as <sheldon@caltech.edu>\n"
     ]
    }
   ],
   "source": [
    "ds_ca_proxy_client_low = ds_gateway_client_low.proxy_client_for(name=\"canada low\", email=\"sheldon@caltech.edu\", password=\"changethis\")\n",
    "ds_it_proxy_client_low = ds_gateway_client_low.proxy_client_for(name=\"italy low\", email=\"sheldon@caltech.edu\", password=\"changethis\")\n",
    "ds_amb_proxy_client_low = ds_gateway_client_low.proxy_client_for(name=\"ambassador node\", email=\"sheldon@caltech.edu\",\n",
    "                                                                 password=\"changethis\")"
   ]
  },
  {
   "cell_type": "markdown",
   "id": "09b4995b",
   "metadata": {},
   "source": [
    "## Login (Deprecated)"
   ]
  },
  {
   "cell_type": "code",
   "execution_count": 28,
   "id": "83d4b542",
   "metadata": {},
   "outputs": [],
   "source": [
    "# ds_client = embassador_node_low.login(name=\"Sheldon\", email=\"sheldon@caltech.edu\", password=\"changethis\")\n",
    "# ds_client_it_low = it_node_low.login(email=\"sheldon@caltech.edu\" , password=\"changethis\")\n",
    "# ds_client_ca_low = ca_node_low.login(email=\"sheldon@caltech.edu\" , password=\"changethis\")"
   ]
  },
  {
   "cell_type": "markdown",
   "id": "016cbcc3",
   "metadata": {},
   "source": [
    "## Find datasets"
   ]
  },
  {
   "cell_type": "code",
   "execution_count": 29,
   "id": "af85a8b4",
   "metadata": {},
   "outputs": [],
   "source": [
    "canada_census_data = ds_ca_proxy_client_low.datasets[-1].assets[0]\n",
    "italy_census_data = ds_it_proxy_client_low.datasets[-1].assets[0]"
   ]
  },
  {
   "cell_type": "markdown",
   "id": "5b3045b0",
   "metadata": {},
   "source": [
    "## Create Request"
   ]
  },
  {
   "cell_type": "code",
   "execution_count": 30,
   "id": "919eb56a",
   "metadata": {},
   "outputs": [
    {
     "name": "stdout",
     "output_type": "stream",
     "text": [
      "Syft function 'compute_census_matches' successfully created. To add a code request, please create a project using `project = syft.Project(...)`, then use command `project.create_code_request`.\n"
     ]
    }
   ],
   "source": [
    "@sy.syft_function_single_use(canada_census_data=canada_census_data, italy_census_data=italy_census_data)\n",
    "def compute_census_matches(canada_census_data, italy_census_data):\n",
    "    import recordlinkage\n",
    "        \n",
    "    # Index step\n",
    "    indexer = recordlinkage.Index()\n",
    "    indexer.block(\"given_name\")\n",
    "\n",
    "    candidate_links = indexer.index(canada_census_data, italy_census_data)\n",
    "\n",
    "    # Comparison step\n",
    "    compare_cl = recordlinkage.Compare()\n",
    "\n",
    "    compare_cl.exact(\"given_name\", \"given_name\", label=\"given_name\")\n",
    "    compare_cl.string(\"surname\", \"surname\", method=\"jarowinkler\", threshold=0.85, label=\"surname\")\n",
    "    compare_cl.exact(\"date_of_birth\", \"date_of_birth\", label=\"date_of_birth\")\n",
    "    compare_cl.exact(\"suburb\", \"suburb\", label=\"suburb\")\n",
    "    compare_cl.exact(\"state\", \"state\", label=\"state\")\n",
    "    compare_cl.string(\"address_1\", \"address_1\", threshold=0.85, label=\"address_1\")\n",
    "\n",
    "    features = compare_cl.compute(candidate_links, canada_census_data, italy_census_data)\n",
    "\n",
    "    # Classification step\n",
    "    matches = features[features.sum(axis=1) > 3]\n",
    "    \n",
    "    return len(matches)\n",
    "    "
   ]
  },
  {
   "cell_type": "code",
   "execution_count": 31,
   "id": "abeddba5",
   "metadata": {},
   "outputs": [
    {
     "name": "stdout",
     "output_type": "stream",
     "text": [
      "Warning: The result you see is on REAL data.\n"
     ]
    },
    {
     "data": {
      "text/plain": [
       "858"
      ]
     },
     "execution_count": 31,
     "metadata": {},
     "output_type": "execute_result"
    }
   ],
   "source": [
    "#Checking result of mock data execution\n",
    "mock_result = compute_census_matches(\n",
    "    canada_census_data=canada_census_data.mock,\n",
    "    italy_census_data=italy_census_data.mock\n",
    ")\n",
    "mock_result"
   ]
  },
  {
   "cell_type": "code",
   "execution_count": 32,
   "id": "8a6fa111",
   "metadata": {},
   "outputs": [
    {
     "data": {
      "text/html": [
       "\n",
       "            <style>\n",
       "            .syft-request {color: #464158;}\n",
       "            </style>\n",
       "            <div class='syft-request'>\n",
       "                <h3>Request</h3>\n",
       "                <p><strong>Id: </strong>09d8a8f35d5546398aad94f8d305fdae</p>\n",
       "                <p><strong>Request time: </strong>2023-07-11 10:41:19</p>\n",
       "                \n",
       "                <p><strong>Changes: </strong> Request to change <b>compute_census_matches</b> to permission <b>RequestStatus.APPROVED</b>. </p>\n",
       "                <p><strong>Status: </strong>RequestStatus.PENDING</p>\n",
       "                <p><strong>Sent to Domain </strong>ambassador node</p>\n",
       "            </div>\n",
       "            "
      ],
      "text/markdown": [
       "```python\n",
       "class Request:\n",
       "  id: str = 09d8a8f35d5546398aad94f8d305fdae\n",
       "  request_time: str = 2023-07-11 10:41:19\n",
       "  updated_at: str = None\n",
       "  status: str = RequestStatus.PENDING\n",
       "  changes: str = ['Request to change <b>compute_census_matches</b> to permission <b>RequestStatus.APPROVED</b>']\n",
       "  requesting_user_verify_key: str = c747be59905a80808a2c36dda4eb22cabaa85af50a381f11b535ae34978ee3f6\n",
       "\n",
       "```"
      ],
      "text/plain": [
       "syft.service.request.request.Request"
      ]
     },
     "execution_count": 32,
     "metadata": {},
     "output_type": "execute_result"
    }
   ],
   "source": [
    "ds_amb_proxy_client_low.code.request_code_execution(compute_census_matches)"
   ]
  },
  {
   "cell_type": "markdown",
   "id": "8bfb6139",
   "metadata": {},
   "source": [
    "# Ambassador flow"
   ]
  },
  {
   "cell_type": "markdown",
   "id": "706b3223",
   "metadata": {},
   "source": [
    "## Check Code Low Side"
   ]
  },
  {
   "cell_type": "code",
   "execution_count": 33,
   "id": "ddb2f907",
   "metadata": {},
   "outputs": [
    {
     "data": {
      "text/markdown": [
       "```python\n",
       "class UserCode\n",
       "    id: str = 7a45e68948a14fbc979659565a2759b0\n",
       "    status.approved: str = False\n",
       "    service_func_name: str = compute_census_matches\n",
       "    code:\n",
       "\n",
       "@sy.syft_function_single_use(canada_census_data=canada_census_data, italy_census_data=italy_census_data)\n",
       "def compute_census_matches(canada_census_data, italy_census_data):\n",
       "    import recordlinkage\n",
       "        \n",
       "    # Index step\n",
       "    indexer = recordlinkage.Index()\n",
       "    indexer.block(\"given_name\")\n",
       "\n",
       "    candidate_links = indexer.index(canada_census_data, italy_census_data)\n",
       "\n",
       "    # Comparison step\n",
       "    compare_cl = recordlinkage.Compare()\n",
       "\n",
       "    compare_cl.exact(\"given_name\", \"given_name\", label=\"given_name\")\n",
       "    compare_cl.string(\"surname\", \"surname\", method=\"jarowinkler\", threshold=0.85, label=\"surname\")\n",
       "    compare_cl.exact(\"date_of_birth\", \"date_of_birth\", label=\"date_of_birth\")\n",
       "    compare_cl.exact(\"suburb\", \"suburb\", label=\"suburb\")\n",
       "    compare_cl.exact(\"state\", \"state\", label=\"state\")\n",
       "    compare_cl.string(\"address_1\", \"address_1\", threshold=0.85, label=\"address_1\")\n",
       "\n",
       "    features = compare_cl.compute(candidate_links, canada_census_data, italy_census_data)\n",
       "\n",
       "    # Classification step\n",
       "    matches = features[features.sum(axis=1) > 3]\n",
       "    \n",
       "    return len(matches)\n",
       "\n",
       "```"
      ],
      "text/plain": [
       "syft.service.code.user_code.UserCode"
      ]
     },
     "execution_count": 33,
     "metadata": {},
     "output_type": "execute_result"
    }
   ],
   "source": [
    "embassador_client_low.requests[0].code"
   ]
  },
  {
   "cell_type": "markdown",
   "id": "ccf4814d",
   "metadata": {},
   "source": [
    "## Login to High Side"
   ]
  },
  {
   "cell_type": "code",
   "execution_count": 41,
   "id": "50abd257",
   "metadata": {},
   "outputs": [
    {
     "name": "stdout",
     "output_type": "stream",
     "text": [
      "Logged into gateway high as <info@openmined.org>\n"
     ]
    }
   ],
   "source": [
    "amb_gateway_client_high = gateway_node_high.login(email=\"info@openmined.org\", password=\"changethis\")"
   ]
  },
  {
   "cell_type": "code",
   "execution_count": 42,
   "id": "4a0321c7",
   "metadata": {},
   "outputs": [
    {
     "data": {
      "text/html": [
       "[]"
      ],
      "text/plain": [
       "[]"
      ]
     },
     "execution_count": 42,
     "metadata": {},
     "output_type": "execute_result"
    }
   ],
   "source": [
    "amb_gateway_client_high.domains"
   ]
  },
  {
   "cell_type": "code",
   "execution_count": 36,
   "id": "3e586f6b",
   "metadata": {},
   "outputs": [
    {
     "data": {
      "text/html": [
       "<div class=\"alert-danger\" style=\"padding:5px;\"><strong>SyftError</strong>: No domain with name enclave node</div><br />"
      ],
      "text/plain": [
       "<class 'syft.service.response.SyftError'>: No domain with name enclave node"
      ]
     },
     "execution_count": 36,
     "metadata": {},
     "output_type": "execute_result"
    }
   ],
   "source": [
    "amb_ca_proxy_client_high = amb_gateway_client_high.proxy_client_for(name=\"canada high\", email=\"sheldon@caltech.edu\", password=\"changethis\")\n",
    "amb_it_proxy_client_high = amb_gateway_client_high.proxy_client_for(name=\"italy high\", email=\"sheldon@caltech.edu\", password=\"changethis\")\n",
    "amb_enclave_proxy_client_high = amb_gateway_client_high.proxy_client_for(name=\"enclave node\")\n",
    "amb_enclave_proxy_client_high"
   ]
  },
  {
   "cell_type": "code",
   "execution_count": 37,
   "id": "59264142",
   "metadata": {},
   "outputs": [],
   "source": [
    "# # TODO: FIX\n",
    "# amb_enclave_proxy_client_high.login(name=\"Sheldon\", email=\"sheldon@caltech.edu\",password=\"changethis\", register=True)"
   ]
  },
  {
   "cell_type": "markdown",
   "id": "7740e8d6",
   "metadata": {},
   "source": [
    "## Login High Side (DEPRECATED)"
   ]
  },
  {
   "cell_type": "code",
   "execution_count": 38,
   "id": "6df8fce2",
   "metadata": {},
   "outputs": [],
   "source": [
    "# amb_it_proxy_client_high = it_node_high.login(email=\"sheldon@caltech.edu\" , password=\"changethis\")\n",
    "# amb_ca_proxy_client_high = ca_node_high.login(email=\"sheldon@caltech.edu\" , password=\"changethis\")"
   ]
  },
  {
   "cell_type": "code",
   "execution_count": 39,
   "id": "273e906e",
   "metadata": {},
   "outputs": [],
   "source": [
    "# # this also creates a guest client\n",
    "# embassador_client_high = enclave_node_high.login(email=\"info@openmined.org\", password=\"changethis\",\n",
    "#                                                  name=\"Signor Ambassador\", register=True)"
   ]
  },
  {
   "cell_type": "markdown",
   "id": "852ec2ed",
   "metadata": {},
   "source": [
    "## Find Datasets High side"
   ]
  },
  {
   "cell_type": "code",
   "execution_count": 40,
   "id": "4c504354",
   "metadata": {},
   "outputs": [
    {
     "ename": "AttributeError",
     "evalue": "'SyftError' object has no attribute 'datasets'",
     "output_type": "error",
     "traceback": [
      "\u001b[0;31m---------------------------------------------------------------------------\u001b[0m",
      "\u001b[0;31mAttributeError\u001b[0m                            Traceback (most recent call last)",
      "Cell \u001b[0;32mIn[40], line 1\u001b[0m\n\u001b[0;32m----> 1\u001b[0m canada_census_data_high \u001b[39m=\u001b[39m amb_ca_proxy_client_high\u001b[39m.\u001b[39;49mdatasets[\u001b[39m-\u001b[39m\u001b[39m1\u001b[39m]\u001b[39m.\u001b[39massets[\u001b[39m0\u001b[39m]\n\u001b[1;32m      2\u001b[0m italy_census_data_high \u001b[39m=\u001b[39m amb_it_proxy_client_high\u001b[39m.\u001b[39mdatasets[\u001b[39m-\u001b[39m\u001b[39m1\u001b[39m]\u001b[39m.\u001b[39massets[\u001b[39m0\u001b[39m]\n",
      "\u001b[0;31mAttributeError\u001b[0m: 'SyftError' object has no attribute 'datasets'"
     ]
    }
   ],
   "source": [
    "canada_census_data_high = amb_ca_proxy_client_high.datasets[-1].assets[0]\n",
    "italy_census_data_high = amb_it_proxy_client_high.datasets[-1].assets[0]"
   ]
  },
  {
   "cell_type": "markdown",
   "id": "07d0e434",
   "metadata": {},
   "source": [
    "Copy code from the request"
   ]
  },
  {
   "cell_type": "markdown",
   "id": "7d326e71",
   "metadata": {},
   "source": [
    "## Submit code High side"
   ]
  },
  {
   "cell_type": "code",
   "execution_count": null,
   "id": "25e192d8",
   "metadata": {},
   "outputs": [],
   "source": [
    "@sy.syft_function_single_use(canada_census_data=canada_census_data_high, italy_census_data=italy_census_data_high)\n",
    "def compute_census_matches_high(canada_census_data, italy_census_data):\n",
    "    import recordlinkage\n",
    "        \n",
    "    # Index step\n",
    "    indexer = recordlinkage.Index()\n",
    "    indexer.block(\"given_name\")\n",
    "\n",
    "    candidate_links = indexer.index(canada_census_data, italy_census_data)\n",
    "\n",
    "    # Comparison step\n",
    "    compare_cl = recordlinkage.Compare()\n",
    "\n",
    "    compare_cl.exact(\"given_name\", \"given_name\", label=\"given_name\")\n",
    "    compare_cl.string(\"surname\", \"surname\", method=\"jarowinkler\", threshold=0.85, label=\"surname\")\n",
    "    compare_cl.exact(\"date_of_birth\", \"date_of_birth\", label=\"date_of_birth\")\n",
    "    compare_cl.exact(\"suburb\", \"suburb\", label=\"suburb\")\n",
    "    compare_cl.exact(\"state\", \"state\", label=\"state\")\n",
    "    compare_cl.string(\"address_1\", \"address_1\", threshold=0.85, label=\"address_1\")\n",
    "\n",
    "    features = compare_cl.compute(candidate_links, canada_census_data, italy_census_data)\n",
    "\n",
    "    # Classification step\n",
    "    matches = features[features.sum(axis=1) > 3]\n",
    "    \n",
    "    return len(matches)"
   ]
  },
  {
   "cell_type": "code",
   "execution_count": null,
   "id": "472c1222",
   "metadata": {},
   "outputs": [],
   "source": [
    "#Checking result of mock data execution\n",
    "mock_result = compute_census_matches_high(\n",
    "    canada_census_data=canada_census_data_high.mock,\n",
    "    italy_census_data=italy_census_data_high.mock\n",
    ")\n",
    "mock_result\n"
   ]
  },
  {
   "cell_type": "code",
   "execution_count": null,
   "id": "52c5d798",
   "metadata": {},
   "outputs": [],
   "source": [
    "# note that this is not embassador_client_high.**code**.request_code_execution\n",
    "amb_enclave_proxy_client_high.request_code_execution(compute_census_matches_high)"
   ]
  },
  {
   "cell_type": "markdown",
   "id": "6ca166c1",
   "metadata": {},
   "source": [
    "## DOs Approve High Side"
   ]
  },
  {
   "cell_type": "code",
   "execution_count": null,
   "id": "da5c9b06",
   "metadata": {},
   "outputs": [],
   "source": [
    "do_ca_client_high.requests[0].approve()"
   ]
  },
  {
   "cell_type": "code",
   "execution_count": null,
   "id": "7841e14b",
   "metadata": {},
   "outputs": [],
   "source": [
    "do_it_client_high.requests[0].approve()"
   ]
  },
  {
   "cell_type": "markdown",
   "id": "7af257f0",
   "metadata": {},
   "source": [
    "## Embassdor gets result from High Side"
   ]
  },
  {
   "cell_type": "code",
   "execution_count": null,
   "id": "4988ae52",
   "metadata": {},
   "outputs": [],
   "source": [
    "amb_enclave_proxy_client_high.code.get_all()[-1].status"
   ]
  },
  {
   "cell_type": "code",
   "execution_count": null,
   "id": "07eb276f",
   "metadata": {},
   "outputs": [],
   "source": [
    "result_pointer = amb_enclave_proxy_client_high.code.compute_census_matches_high(\n",
    "    canada_census_data=canada_census_data_high,\n",
    "    italy_census_data=italy_census_data_high\n",
    ")\n",
    "\n",
    "result_pointer"
   ]
  },
  {
   "cell_type": "code",
   "execution_count": null,
   "id": "29fb6a1a",
   "metadata": {},
   "outputs": [],
   "source": [
    "real_result = result_pointer.get()\n",
    "real_result"
   ]
  },
  {
   "cell_type": "markdown",
   "id": "bd1281ce",
   "metadata": {},
   "source": [
    "## Ambassador Deposits Result"
   ]
  },
  {
   "cell_type": "code",
   "execution_count": null,
   "id": "b31090c7",
   "metadata": {},
   "outputs": [],
   "source": [
    "embassador_client_low.requests[0].accept_by_depositing_result(real_result)"
   ]
  },
  {
   "cell_type": "markdown",
   "id": "bdaedcc7",
   "metadata": {},
   "source": [
    "# DS"
   ]
  },
  {
   "cell_type": "markdown",
   "id": "2307e68c",
   "metadata": {},
   "source": [
    "##  Get result from low side"
   ]
  },
  {
   "cell_type": "code",
   "execution_count": null,
   "id": "efaf4407",
   "metadata": {},
   "outputs": [],
   "source": [
    "ds_amb_proxy_client_low.code.get_all()[-1].status"
   ]
  },
  {
   "cell_type": "code",
   "execution_count": null,
   "id": "06d83903",
   "metadata": {},
   "outputs": [],
   "source": [
    "result_pointer = ds_amb_proxy_client_low.code.compute_census_matches(\n",
    "    canada_census_data=canada_census_data,\n",
    "    italy_census_data=italy_census_data\n",
    ")"
   ]
  },
  {
   "cell_type": "code",
   "execution_count": null,
   "id": "eaaab19e",
   "metadata": {},
   "outputs": [],
   "source": [
    "result_pointer"
   ]
  },
  {
   "cell_type": "code",
   "execution_count": null,
   "id": "0792791e",
   "metadata": {},
   "outputs": [],
   "source": [
    "real_result = result_pointer.get()\n",
    "real_result"
   ]
  },
  {
   "cell_type": "code",
   "execution_count": null,
   "id": "ec88a993",
   "metadata": {},
   "outputs": [],
   "source": []
  }
 ],
 "metadata": {
  "kernelspec": {
   "display_name": "Python 3 (ipykernel)",
   "language": "python",
   "name": "python3"
  },
  "language_info": {
   "codemirror_mode": {
    "name": "ipython",
    "version": 3
   },
   "file_extension": ".py",
   "mimetype": "text/x-python",
   "name": "python",
   "nbconvert_exporter": "python",
   "pygments_lexer": "ipython3",
   "version": "3.11.4"
  },
  "toc": {
   "base_numbering": 1,
   "nav_menu": {},
   "number_sections": true,
   "sideBar": true,
   "skip_h1_title": false,
   "title_cell": "Table of Contents",
   "title_sidebar": "Contents",
   "toc_cell": false,
   "toc_position": {
    "height": "calc(100% - 180px)",
    "left": "10px",
    "top": "150px",
    "width": "358.391px"
   },
   "toc_section_display": true,
   "toc_window_display": true
  }
 },
 "nbformat": 4,
 "nbformat_minor": 5
}
