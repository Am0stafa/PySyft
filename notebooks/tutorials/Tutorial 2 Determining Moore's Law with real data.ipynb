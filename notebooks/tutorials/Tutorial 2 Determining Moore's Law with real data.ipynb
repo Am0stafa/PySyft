{
 "cells": [
  {
   "cell_type": "markdown",
   "id": "3a683572",
   "metadata": {},
   "source": [
    "# Determining Moore's Law with real data in NumPy\n",
    "![Scatter plot of MOS transistor count per microprocessor every two years as a demonstration of Moore's Law.](_static/01-mooreslaw-tutorial-intro.png)\n",
    "\n",
    "_The number of transistors reported per a given chip plotted on a log scale in the y axis with the date of introduction on the linear scale x-axis. The blue data points are from a [transistor count table](https://en.wikipedia.org/wiki/Transistor_count#Microprocessors). The red line is an ordinary least squares prediction and the orange line is Moore's law._\n",
    "\n",
    "## What you'll do\n",
    "\n",
    "In 1965, engineer Gordon Moore\n",
    "[predicted](https://en.wikipedia.org/wiki/Moore%27s_law) that\n",
    "transistors on a chip would double every two years in the coming decade\n",
    "[[1](https://en.wikipedia.org/wiki/Moore%27s_law),\n",
    "[2](https://newsroom.intel.com/wp-content/uploads/sites/11/2018/05/moores-law-electronics.pdf)].\n",
    "You'll compare Moore's prediction against actual transistor counts in\n",
    "the 53 years following his prediction. You will determine the best-fit constants to describe the exponential growth of transistors on semiconductors compared to Moore's Law.\n",
    "\n",
    "\n",
    "## Skills you'll learn\n",
    "\n",
    "\n",
    "- Load data from a [\\*.csv](https://en.wikipedia.org/wiki/Comma-separated_values) file\n",
    "- Perform linear regression and predict exponential growth using ordinary least squares\n",
    "- You'll compare exponential growth constants between models\n",
    "- Share your analysis in a file:\n",
    "    - as NumPy zipped files `*.npz`\n",
    "    - as a `*.csv` file\n",
    "- Assess the amazing progress semiconductor manufacturers have made in the last five decades\n",
    "\n",
    "## What you'll need\n",
    "\n",
    "**1.** These packages:\n",
    "\n",
    "* NumPy\n",
    "* [Matplotlib](https://matplotlib.org/)\n",
    "* [statsmodels](https://www.statsmodels.org) ordinary linear regression\n",
    "\n",
    "imported with the following commands"
   ]
  },
  {
   "cell_type": "code",
   "execution_count": null,
   "id": "6d764e82",
   "metadata": {},
   "outputs": [],
   "source": [
    "import matplotlib.pyplot as plt\n",
    "import numpy as np\n",
    "import statsmodels.api as sm"
   ]
  },
  {
   "cell_type": "markdown",
   "id": "067d54fb",
   "metadata": {},
   "source": [
    "**2.** Since this is an exponential growth law you need a little background in doing math with [natural logs](https://en.wikipedia.org/wiki/Natural_logarithm) and [exponentials](https://en.wikipedia.org/wiki/Exponential_function).\n",
    "\n",
    "You'll use these NumPy, Matplotlib, and statsmodels functions:\n",
    "\n",
    "* [`np.loadtxt`](https://numpy.org/doc/stable/reference/generated/numpy.loadtxt.html): this function loads text into a NumPy array\n",
    "* [`np.log`](https://numpy.org/doc/stable/reference/generated/numpy.log.html): this function takes the natural log of all elements in a NumPy array\n",
    "* [`np.exp`](https://numpy.org/doc/stable/reference/generated/numpy.exp.html): this function takes the exponential of all elements in a NumPy array\n",
    "* [`lambda`](https://docs.python.org/3/library/ast.html?highlight=lambda#ast.Lambda): this is a minimal function definition for creating a function model\n",
    "* [`plt.semilogy`](https://matplotlib.org/3.1.1/api/_as_gen/matplotlib.pyplot.semilogy.html): this function will plot x-y data onto a figure with a linear x-axis and $\\log_{10}$ y-axis\n",
    "[`plt.plot`](https://matplotlib.org/3.1.1/api/_as_gen/matplotlib.pyplot.plot.html): this function will plot x-y data on linear axes\n",
    "* [`sm.OLS`](https://www.statsmodels.org/stable/generated/statsmodels.regression.linear_model.OLS.html): find fitting parameters and standard errors using the statsmodels ordinary least squares model\n",
    "* slicing arrays: view parts of the data loaded into the workspace, slice the arrays e.g. `x[:10]` for the first 10 values in the array, `x`\n",
    "* boolean array indexing: to view parts of the data that match a given condition use boolean operations to index an array\n",
    "* [`np.block`](https://numpy.org/doc/stable/reference/generated/numpy.block.html): to combine arrays into 2D arrays\n",
    "* [`np.newaxis`](https://numpy.org/doc/stable/reference/constants.html): to change a 1D vector to a row or column vector\n",
    "* [`np.savez`](https://numpy.org/doc/stable/reference/generated/numpy.savez.html) and [`np.savetxt`](https://numpy.org/doc/stable/reference/generated/numpy.savetxt.html): these two functions will save your arrays in zipped array format and text, respectively"
   ]
  },
  {
   "cell_type": "markdown",
   "id": "b7fb1338",
   "metadata": {},
   "source": [
    "---\n",
    "\n",
    "## Building Moore's law as an exponential function\n",
    "\n",
    "Your empirical model assumes that the number of transistors per\n",
    "semiconductor follows an exponential growth,\n",
    "\n",
    "$\\log(\\text{transistor_count})= f(\\text{year}) = A\\cdot \\text{year}+B,$\n",
    "\n",
    "where $A$ and $B$ are fitting constants. You use semiconductor\n",
    "manufacturers' data to find the fitting constants.\n",
    "\n",
    "You determine these constants for Moore's law by specifying the\n",
    "rate for added transistors, 2, and giving an initial number of transistors for a given year.\n",
    "\n",
    "You state Moore's law in an exponential form as follows,\n",
    "\n",
    "$\\text{transistor_count}= e^{A_M\\cdot \\text{year} +B_M}.$\n",
    "\n",
    "Where $A_M$ and $B_M$ are constants that double the number of transistors every two years and start at 2250 transistors in 1971,\n",
    "\n",
    "1. $\\dfrac{\\text{transistor_count}(\\text{year} +2)}{\\text{transistor_count}(\\text{year})} = 2 = \\dfrac{e^{B_M}e^{A_M \\text{year} + 2A_M}}{e^{B_M}e^{A_M \\text{year}}} = e^{2A_M} \\rightarrow A_M = \\frac{\\log(2)}{2}$\n",
    "\n",
    "2. $\\log(2250) = \\frac{\\log(2)}{2}\\cdot 1971 + B_M \\rightarrow B_M = \\log(2250)-\\frac{\\log(2)}{2}\\cdot 1971$\n",
    "\n",
    "so Moore's law stated as an exponential function is\n",
    "\n",
    "$\\log(\\text{transistor_count})= A_M\\cdot \\text{year}+B_M,$\n",
    "\n",
    "where\n",
    "\n",
    "$A_M=0.3466$\n",
    "\n",
    "$B_M=-675.4$\n",
    "\n",
    "Since the function represents Moore's law, define it as a Python\n",
    "function using\n",
    "[`lambda`](https://docs.python.org/3/library/ast.html?highlight=lambda#ast.Lambda)"
   ]
  },
  {
   "cell_type": "code",
   "execution_count": null,
   "id": "a1707255",
   "metadata": {},
   "outputs": [],
   "source": [
    "A_M = np.log(2) / 2\n",
    "B_M = np.log(2250) - A_M * 1971\n",
    "\n",
    "def Moores_law(year):\n",
    "    return np.exp(B_M) * np.exp(A_M * year)"
   ]
  },
  {
   "cell_type": "markdown",
   "id": "077202d5",
   "metadata": {},
   "source": [
    "In 1971, there were 2250 transistors on the Intel 4004 chip. Use\n",
    "`Moores_law` to check the number of semiconductors Gordon Moore would expect\n",
    "in 1973."
   ]
  },
  {
   "cell_type": "code",
   "execution_count": null,
   "id": "d4988a02",
   "metadata": {},
   "outputs": [],
   "source": [
    "ML_1971 = Moores_law(1971)\n",
    "ML_1973 = Moores_law(1973)\n",
    "print(\"In 1973, G. Moore expects {:.0f} transistors on Intels chips\".format(ML_1973))\n",
    "print(\"This is x{:.2f} more transistors than 1971\".format(ML_1973 / ML_1971))"
   ]
  },
  {
   "cell_type": "markdown",
   "id": "b3b32cb2",
   "metadata": {},
   "source": [
    "## Loading historical manufacturing data to your workspace\n",
    "\n",
    "Now, make a prediction based upon the historical data for\n",
    "semiconductors per chip. The [Transistor Count\n",
    "\\[4\\]](https://en.wikipedia.org/wiki/Transistor_count#Microprocessors)\n",
    "each year is in the `transistor_data.csv` file. Before loading a \\*.csv\n",
    "file into a NumPy array, its a good idea to inspect the structure of the\n",
    "file first. Then, locate the columns of interest and save them to a\n",
    "variable. Save two columns of the file to the array, `data`.\n",
    "\n",
    "Here, print out the first 10 rows of `transistor_data.csv`. The columns are\n",
    "\n",
    "|Processor|MOS transistor count|Date of Introduction|Designer|MOSprocess|Area|\n",
    "|---|---|---|---|---|---|\n",
    "|Intel 4004 (4-bit  16-pin)|2250|1971|Intel|\"10,000 nm\"|12 mm²|\n",
    "|...|...|...|...|...|...|"
   ]
  },
  {
   "cell_type": "code",
   "execution_count": null,
   "id": "aba5d361",
   "metadata": {},
   "outputs": [],
   "source": [
    "! head transistor_data.csv"
   ]
  },
  {
   "cell_type": "markdown",
   "id": "3aad1dfc",
   "metadata": {},
   "source": [
    "You don't need the columns that specify __Processor__, __Designer__,\n",
    "__MOSprocess__, or __Area__. That leaves the second and third columns,\n",
    "__MOS transistor count__ and __Date of Introduction__, respectively.\n",
    "\n",
    "Next, you load these two columns into a NumPy array using\n",
    "[`np.loadtxt`](https://numpy.org/doc/stable/reference/generated/numpy.loadtxt.html).\n",
    "The extra options below will put the data in the desired format:\n",
    "\n",
    "* `delimiter = ','`: specify delimeter as a comma ',' (this is the default behavior)\n",
    "* `usecols = [1,2]`: import the second and third columns from the csv\n",
    "* `skiprows = 1`: do not use the first row, because its a header row"
   ]
  },
  {
   "cell_type": "code",
   "execution_count": null,
   "id": "d87d6159",
   "metadata": {},
   "outputs": [],
   "source": [
    "data = np.loadtxt(\"transistor_data.csv\", delimiter=\",\", usecols=[1, 2], skiprows=1)"
   ]
  },
  {
   "cell_type": "markdown",
   "id": "6fd07329",
   "metadata": {},
   "source": [
    "You loaded the entire history of semiconducting into a NumPy array named\n",
    "`data`. The first column is the __MOS transistor count__ and the second\n",
    "column is the __Date of Introduction__ in a four-digit year.\n",
    "\n",
    "Next, make the data easier to read and manage by assigning the two\n",
    "columns to variables, `year` and `transistor_count`. Print out the first\n",
    "10 values by slicing the `year` and `transistor_count` arrays with\n",
    "`[:10]`. Print these values out to check that you have the saved the\n",
    "data to the correct variables."
   ]
  },
  {
   "cell_type": "markdown",
   "id": "2e73ba8b",
   "metadata": {},
   "source": [
    "## Prepare Syft and Upload Data to Domain Node"
   ]
  },
  {
   "cell_type": "code",
   "execution_count": null,
   "id": "c85aafcd",
   "metadata": {},
   "outputs": [],
   "source": [
    "from syft import Worker, Dataset, Asset\n",
    "from syft.client.client import SyftClient"
   ]
  },
  {
   "cell_type": "code",
   "execution_count": null,
   "id": "839082ca",
   "metadata": {},
   "outputs": [],
   "source": [
    "w = Worker()\n",
    "client = SyftClient.from_node(w).login(email=\"info@openmined.org\", password=\"changethis\")"
   ]
  },
  {
   "cell_type": "code",
   "execution_count": null,
   "id": "c3d57272",
   "metadata": {},
   "outputs": [],
   "source": [
    "dataset = Dataset(name=\"transistor_data\")"
   ]
  },
  {
   "cell_type": "code",
   "execution_count": null,
   "id": "fd874900",
   "metadata": {},
   "outputs": [],
   "source": [
    "dataset.set_description(\n",
    "    \"\"\"Data of processors by year including number of transistors\"\"\"\n",
    ")"
   ]
  },
  {
   "cell_type": "code",
   "execution_count": null,
   "id": "3bfa523d",
   "metadata": {},
   "outputs": [],
   "source": [
    "data_asset = Asset(name=\"transistor_data\", data=data, mock=data, mock_is_real=True, description=\"numpy dataset\")"
   ]
  },
  {
   "cell_type": "code",
   "execution_count": null,
   "id": "f188b03e",
   "metadata": {},
   "outputs": [],
   "source": [
    "dataset.add_asset(data_asset)"
   ]
  },
  {
   "cell_type": "code",
   "execution_count": null,
   "id": "6bc44159",
   "metadata": {},
   "outputs": [],
   "source": [
    "dataset"
   ]
  },
  {
   "cell_type": "code",
   "execution_count": null,
   "id": "285ec336",
   "metadata": {},
   "outputs": [],
   "source": [
    "client.upload_dataset(dataset)"
   ]
  },
  {
   "cell_type": "code",
   "execution_count": null,
   "id": "a5f52c84",
   "metadata": {},
   "outputs": [],
   "source": [
    "client.datasets[0]"
   ]
  },
  {
   "cell_type": "code",
   "execution_count": null,
   "id": "cb076679",
   "metadata": {},
   "outputs": [],
   "source": [
    "client.datasets[0].assets"
   ]
  },
  {
   "cell_type": "code",
   "execution_count": null,
   "id": "664fca49",
   "metadata": {},
   "outputs": [],
   "source": [
    "client.datasets[0].assets['transistor_data']"
   ]
  },
  {
   "cell_type": "code",
   "execution_count": null,
   "id": "5acea943",
   "metadata": {},
   "outputs": [],
   "source": [
    "data_asset_ref = client.datasets[0].assets['transistor_data']"
   ]
  },
  {
   "cell_type": "markdown",
   "id": "2856d953",
   "metadata": {},
   "source": [
    "## Resume tutorial"
   ]
  },
  {
   "cell_type": "code",
   "execution_count": null,
   "id": "bdb8dca3",
   "metadata": {},
   "outputs": [],
   "source": [
    "year = data_asset_ref.data[:, 1] # grab the second column and assign\n",
    "transistor_count = data_asset_ref.data[:, 0] # grab the first column and assign\n",
    "\n",
    "print(\"year:\\t\\t\", year[:10])\n",
    "print(\"trans. cnt:\\t\", transistor_count[:10])"
   ]
  },
  {
   "cell_type": "markdown",
   "id": "22683e86",
   "metadata": {},
   "source": [
    "You are creating a function that predicts the transistor count given a\n",
    "year. You have an _independent variable_, `year`, and a _dependent\n",
    "variable_, `transistor_count`. Transform the independent variable to\n",
    "log-scale,\n",
    "\n",
    "$y_i = \\log($ `transistor_count[i]` $),$\n",
    "\n",
    "resulting in a linear equation,\n",
    "\n",
    "$y_i = A\\cdot \\text{year} +B$."
   ]
  },
  {
   "cell_type": "code",
   "execution_count": null,
   "id": "59fbb860",
   "metadata": {},
   "outputs": [],
   "source": [
    "yi = np.log(transistor_count)"
   ]
  },
  {
   "cell_type": "markdown",
   "id": "6d0abd30",
   "metadata": {},
   "source": [
    "## Calculating the historical growth curve for transistors\n",
    "\n",
    "Your model assume that `yi` is a function of `year`. Now, find the best-fit model that minimizes the difference between $y_i$ and $A\\cdot \\text{year} +B, $ as such\n",
    "\n",
    "$\\min \\sum|y_i - (A\\cdot \\text{year}_i + B)|^2.$\n",
    "\n",
    "This [sum of squares\n",
    "error](https://en.wikipedia.org/wiki/Ordinary_least_squares) can be\n",
    "succinctly represented as arrays as such\n",
    "\n",
    "$\\sum|\\mathbf{y}-\\mathbf{Z} [A,~B]^T|^2,$\n",
    "\n",
    "where $\\mathbf{y}$ are the observations of the log of the number of\n",
    "transistors in a 1D array and $\\mathbf{Z}=[\\text{year}_i^1,~\\text{year}_i^0]$ are the\n",
    "polynomial terms for $\\text{year}_i$ in the first and second columns. By\n",
    "creating this set of regressors in the $\\mathbf{Z}-$matrix you set\n",
    "up an ordinary least squares statistical model. Some clever\n",
    "NumPy array features will build $\\mathbf{Z}$\n",
    "\n",
    "1. `year[:,np.newaxis]` : takes the 1D array with shape `(179,)` and turns it into a 2D column vector with shape `(179,1)`\n",
    "2. `**[1, 0]` : stacks two columns, in the first column is `year**1` and the second column is `year**0 == 1`"
   ]
  },
  {
   "cell_type": "code",
   "execution_count": null,
   "id": "9ab89d0e",
   "metadata": {},
   "outputs": [],
   "source": [
    "Z = year[:, np.newaxis] ** [1, 0]"
   ]
  },
  {
   "cell_type": "markdown",
   "id": "afd04f69",
   "metadata": {},
   "source": [
    "Now that you have the created a matrix of regressors, $\\mathbf{Z},$ and\n",
    "the observations are in vector, $\\mathbf{y},$ you can use these\n",
    "variables to build the an ordinary least squares model with\n",
    "[`sm.OLS`](https://www.statsmodels.org/stable/generated/statsmodels.regression.linear_model.OLS.html)."
   ]
  },
  {
   "cell_type": "code",
   "execution_count": null,
   "id": "59070549",
   "metadata": {},
   "outputs": [],
   "source": [
    "# forced to reference 'syft_action_data' here\n",
    "model = sm.OLS(yi.syft_action_data, Z.syft_action_data)"
   ]
  },
  {
   "cell_type": "markdown",
   "id": "21be3f02",
   "metadata": {},
   "source": [
    "Now, you can view the fitting constants, $A$ and $B$, and their standard\n",
    "errors.  Run the\n",
    "[`fit`](https://www.statsmodels.org/stable/generated/statsmodels.regression.linear_model.OLS.html) and print the\n",
    "[`summary`](https://www.statsmodels.org/stable/generated/statsmodels.regression.linear_model.RegressionResults.summary.html) to view results as such,"
   ]
  },
  {
   "cell_type": "code",
   "execution_count": null,
   "id": "a3608429",
   "metadata": {},
   "outputs": [],
   "source": [
    "results = model.fit()\n",
    "print(results.summary())"
   ]
  },
  {
   "cell_type": "markdown",
   "id": "9f8cca60",
   "metadata": {},
   "source": [
    "The __OLS Regression Results__ summary gives a lot of information about\n",
    "the regressors, $\\mathbf{Z},$ and observations, $\\mathbf{y}.$ The most\n",
    "important outputs for your current analysis are\n",
    "\n",
    "```\n",
    "=================================\n",
    "                 coef    std err\n",
    "---------------------------------\n",
    "x1             0.3416      0.006\n",
    "const       -666.3264     11.890\n",
    "=================================\n",
    "```\n",
    "where `x1` is slope, $A=0.3416$, `const` is the intercept,\n",
    "$B=-666.364$, and `std error` gives the precision of constants\n",
    "$A=0.342\\pm 0.006~\\dfrac{\\log(\\text{transistors}/\\text{chip})}{\\text{years}}$ and $B=-666\\pm\n",
    "12~\\log(\\text{transistors}/\\text{chip}),$ where the units are in\n",
    "$\\log(\\text{transistors}/\\text{chip})$. You created an exponential growth model.\n",
    "To get the constants, save them to an array `AB` with\n",
    "`results.params` and assign $A$ and $B$ to `x1` and `constant`."
   ]
  },
  {
   "cell_type": "code",
   "execution_count": null,
   "id": "e6a322f1",
   "metadata": {},
   "outputs": [],
   "source": [
    "AB = results.params\n",
    "A = AB[0]\n",
    "B = AB[1]"
   ]
  },
  {
   "cell_type": "markdown",
   "id": "a3a0becc",
   "metadata": {},
   "source": [
    "Did manufacturers double the transistor count every two years? You have\n",
    "the final formula,\n",
    "\n",
    "$\\dfrac{\\text{transistor_count}(\\text{year} +2)}{\\text{transistor_count}(\\text{year})} = xFactor =\n",
    "\\dfrac{e^{B}e^{A( \\text{year} + 2)}}{e^{B}e^{A \\text{year}}} = e^{2A}$\n",
    "\n",
    "where increase in number of transistors is $xFactor,$ number of years is\n",
    "2, and $A$ is the best fit slope on the semilog function. The error in\n",
    "your\n",
    "prediction, $\\Delta(xFactor),$ comes from the precision of your constant\n",
    "$A,$ which you calculated as the standard error $\\Delta A= 0.006$.\n",
    "\n",
    "$\\Delta (xFactor) = \\frac{\\partial}{\\partial A}(e^{2A})\\Delta A = 2Ae^{2A}\\Delta A$"
   ]
  },
  {
   "cell_type": "code",
   "execution_count": null,
   "id": "7cc67607",
   "metadata": {},
   "outputs": [],
   "source": [
    "print(\"Rate of semiconductors added on a chip every 2 years:\")\n",
    "print(\n",
    "    \"\\tx{:.2f} +/- {:.2f} semiconductors per chip\".format(\n",
    "        np.exp((A) * 2), 2 * A * np.exp(2 * A) * 0.006\n",
    "    )\n",
    ")"
   ]
  },
  {
   "cell_type": "markdown",
   "id": "3d0f626c",
   "metadata": {},
   "source": [
    "Based upon your least-squares regression model, the number of\n",
    "semiconductors per chip increased by a factor of $1.98\\pm 0.01$ every two\n",
    "years. You have a model that predicts the number of semiconductors each\n",
    "year. Now compare your model to the actual manufacturing reports.  Plot\n",
    "the linear regression results and all of the transistor counts.\n",
    "\n",
    "Here, use\n",
    "[`plt.semilogy`](https://matplotlib.org/3.1.1/api/_as_gen/matplotlib.pyplot.semilogy.html)\n",
    "to plot the number of transistors on a log-scale and the year on a\n",
    "linear scale. You have defined a three arrays to get to a final model\n",
    "\n",
    "$y_i = \\log(\\text{transistor_count}),$\n",
    "\n",
    "$y_i = A \\cdot \\text{year} + B,$\n",
    "\n",
    "and\n",
    "\n",
    "$\\log(\\text{transistor_count}) = A\\cdot \\text{year} + B,$\n",
    "\n",
    "your variables, `transistor_count`, `year`, and `yi` all have the same\n",
    "dimensions, `(179,)`. NumPy arrays need the same dimensions to make a\n",
    "plot. The predicted number of transistors is now\n",
    "\n",
    "$\\text{transistor_count}_{\\text{predicted}} = e^Be^{A\\cdot \\text{year}}$."
   ]
  },
  {
   "cell_type": "markdown",
   "id": "10164d02",
   "metadata": {},
   "source": [
    "In the next plot, use the\n",
    "[`fivethirtyeight`](https://matplotlib.org/3.1.1/gallery/style_sheets/fivethirtyeight.html)\n",
    "style sheet.\n",
    "The style sheet replicates\n",
    "https://fivethirtyeight.com elements. Change the matplotlib style with\n",
    "[`plt.style.use`](https://matplotlib.org/3.3.2/api/style_api.html#matplotlib.style.use)."
   ]
  },
  {
   "cell_type": "code",
   "execution_count": null,
   "id": "565d4932",
   "metadata": {},
   "outputs": [],
   "source": [
    "transistor_count_predicted = np.exp(B) * np.exp(A * year)\n",
    "transistor_Moores_law = Moores_law(year)\n",
    "plt.style.use(\"fivethirtyeight\")\n",
    "plt.semilogy(year.syft_action_data, transistor_count.syft_action_data, \"s\", label=\"MOS transistor count\")\n",
    "plt.semilogy(year.syft_action_data, transistor_count_predicted.syft_action_data, label=\"linear regression\")\n",
    "\n",
    "year_list = list(year)\n",
    "moores_law_list = list(transistor_Moores_law)\n",
    "\n",
    "plt.plot(year_list, moores_law_list, label=\"Moore's Law\")\n",
    "plt.title(\n",
    "    \"MOS transistor count per microprocessor\\n\"\n",
    "    + \"every two years \\n\"\n",
    "    + \"Transistor count was x{:.2f} higher\".format(np.exp(A * 2))\n",
    ")\n",
    "plt.xlabel(\"year introduced\")\n",
    "plt.legend(loc=\"center left\", bbox_to_anchor=(1, 0.5))\n",
    "plt.ylabel(\"# of transistors\\nper microprocessor\")"
   ]
  },
  {
   "cell_type": "markdown",
   "id": "4e9b7abf",
   "metadata": {},
   "source": [
    "_A scatter plot of MOS transistor count per microprocessor every two years with a red line for the ordinary least squares prediction and an orange line for Moore's law._\n",
    "\n",
    "The linear regression captures the increase in the number of transistors\n",
    "per semiconductors each year.  In 2015, semiconductor manufacturers\n",
    "claimed they could not keep up with Moore's law anymore. Your analysis\n",
    "shows that since 1971, the average increase in transistor count was\n",
    "x1.98 every 2 years, but Gordon Moore predicted it would be x2\n",
    "every 2 years. That is an amazing prediction.\n",
    "\n",
    "Consider the year 2017. Compare the data to your linear regression\n",
    "model and Gordon Moore's prediction. First, get the\n",
    "transistor counts from the year 2017. You can do this with a Boolean\n",
    "comparator,\n",
    "\n",
    "`year == 2017`.\n",
    "\n",
    "Then, make a prediction for 2017 with `Moores_law` defined above\n",
    "and plugging in your best fit constants into your function\n",
    "\n",
    "$\\text{transistor_count} = e^{B}e^{A\\cdot \\text{year}}$.\n",
    "\n",
    "A great way to compare these measurements is to compare your prediction\n",
    "and Moore's prediction to the average transistor count and look at the\n",
    "range of reported values for that year. Use the\n",
    "[`plt.plot`](https://matplotlib.org/3.1.1/api/_as_gen/matplotlib.pyplot.plot.html)\n",
    "option,\n",
    "[`alpha=0.2`](https://matplotlib.org/3.1.1/api/_as_gen/matplotlib.artist.Artist.set_alpha.html),\n",
    "to increase the transparency of the data. The more opaque the points\n",
    "appear, the more reported values lie on that measurement. The green $+$\n",
    "is the average reported transistor count for 2017. Plot your predictions\n",
    "for $\\pm\\frac{1}{2}~years."
   ]
  },
  {
   "cell_type": "code",
   "execution_count": null,
   "id": "889baf30",
   "metadata": {},
   "outputs": [],
   "source": [
    "transistor_count2017 = transistor_count[year == 2017]\n",
    "print(\n",
    "    transistor_count2017.max(), transistor_count2017.min(), transistor_count2017.mean()\n",
    ")\n",
    "y = np.linspace(2016.5, 2017.5)\n",
    "your_model2017 = np.exp(B) * np.exp(A * y)\n",
    "Moore_Model2017 = Moores_law(y)\n",
    "\n",
    "transistor_count2017_list = list(transistor_count2017)\n",
    "\n",
    "plt.plot(\n",
    "    # must be a cleaner way to handle these type castings\n",
    "    # maybe add `int` type to NumpyScalarObject?\n",
    "    2017 * np.ones(int(float(np.sum(year == 2017)))),\n",
    "    transistor_count2017_list,\n",
    "    \"ro\",\n",
    "    label=\"2017\",\n",
    "    alpha=0.2,\n",
    ")\n",
    "plt.plot(2017, transistor_count2017.mean(), \"g+\", markersize=20, mew=6)\n",
    "\n",
    "plt.plot(y, your_model2017, label=\"Your prediction\")\n",
    "plt.plot(y, Moore_Model2017, label=\"Moores law\")\n",
    "plt.ylabel(\"# of transistors\\nper microprocessor\")\n",
    "plt.legend()"
   ]
  },
  {
   "cell_type": "markdown",
   "id": "702368c3",
   "metadata": {},
   "source": [
    "The result is that your model is close to the mean, but Gordon\n",
    "Moore's prediction is closer to the maximum number of transistors per\n",
    "microprocessor produced in 2017. Even though semiconductor manufacturers\n",
    "thought that the growth would slow, once in 1975 and now again\n",
    "approaching 2025, manufacturers are still producing semiconductors every 2 years that\n",
    "nearly double the number of transistors.\n",
    "\n",
    "The linear regression model is much better at predicting the\n",
    "average than extreme values because it satisfies the condition to\n",
    "minimize $\\sum |y_i - A\\cdot \\text{year}[i]+B|^2$."
   ]
  },
  {
   "cell_type": "markdown",
   "id": "fd8ad2b6",
   "metadata": {},
   "source": [
    "## Sharing your results as zipped arrays and a csv\n",
    "\n",
    "The last step, is to share your findings. You created\n",
    "new arrays that represent a linear regression model and Gordon Moore's\n",
    "prediction. You started this process by importing a csv file into a NumPy\n",
    "array using `np.loadtxt`, to save your model use two approaches\n",
    "\n",
    "1. [`np.savez`](https://numpy.org/doc/stable/reference/generated/numpy.savez.html): save NumPy arrays for other Python sessions\n",
    "2. [`np.savetxt`](https://numpy.org/doc/stable/reference/generated/numpy.savetxt.html): save a csv file with the original data and your predicted data\n",
    "\n",
    "### Zipping the arrays into a file\n",
    "Using `np.savez`, you can save thousands of arrays and give them names. The\n",
    "function `np.load` will load the arrays back into the workspace as a\n",
    "dictionary. You'll save a five arrays so the next user will have the year,\n",
    "transistor count, predicted transistor count,  Gordon Moore's\n",
    "predicted count, and fitting constants. Add one more variable that other users can use to\n",
    "understand the model, `notes`."
   ]
  },
  {
   "cell_type": "markdown",
   "id": "504d4209",
   "metadata": {},
   "source": [
    "## NOTE: skipping the remaining sections since Syft should not support saving files locally"
   ]
  },
  {
   "cell_type": "raw",
   "id": "7801d6a3",
   "metadata": {},
   "source": [
    "notes = \"the arrays in this file are the result of a linear regression model\\n\"\n",
    "notes += \"the arrays include\\nyear: year of manufacture\\n\"\n",
    "notes += \"transistor_count: number of transistors reported by manufacturers in a given year\\n\"\n",
    "notes += \"transistor_count_predicted: linear regression model = exp({:.2f})*exp({:.2f}*year)\\n\".format(\n",
    "    B, A\n",
    ")\n",
    "notes += \"transistor_Moores_law: Moores law =exp({:.2f})*exp({:.2f}*year)\\n\".format(\n",
    "    B_M, A_M\n",
    ")\n",
    "notes += \"regression_csts: linear regression constants A and B for log(transistor_count)=A*year+B\"\n",
    "print(notes)"
   ]
  },
  {
   "cell_type": "raw",
   "id": "ad5bd132",
   "metadata": {},
   "source": [
    "np.savez(\n",
    "    \"mooreslaw_regression.npz\",\n",
    "    notes=notes,\n",
    "    year=year,\n",
    "    transistor_count=transistor_count,\n",
    "    transistor_count_predicted=transistor_count_predicted,\n",
    "    transistor_Moores_law=transistor_Moores_law,\n",
    "    regression_csts=AB,\n",
    ")"
   ]
  },
  {
   "cell_type": "raw",
   "id": "d145259a",
   "metadata": {},
   "source": [
    "results = np.load(\"mooreslaw_regression.npz\")"
   ]
  },
  {
   "cell_type": "raw",
   "id": "7d41a171",
   "metadata": {},
   "source": [
    "print(results[\"regression_csts\"][1])"
   ]
  },
  {
   "cell_type": "raw",
   "id": "0994cb1a",
   "metadata": {},
   "source": [
    "! ls"
   ]
  },
  {
   "cell_type": "markdown",
   "id": "52377dd6",
   "metadata": {},
   "source": [
    "The benefit of `np.savez` is you can save hundreds of arrays with\n",
    "different shapes and types. Here, you saved 4 arrays that are double\n",
    "precision floating point numbers shape = `(179,)`, one array that was\n",
    "text, and one array of double precision floating point numbers shape =\n",
    "`(2,).` This is the preferred method for saving NumPy arrays for use in\n",
    "another analysis.\n",
    "\n",
    "### Creating your own comma separated value file\n",
    "\n",
    "If you want to share data and view the results in a table, then you have to\n",
    "create a text file. Save the data using `np.savetxt`. This\n",
    "function is more limited than `np.savez`. Delimited files, like csv's,\n",
    "need 2D arrays.\n",
    "\n",
    "Prepare the data for export by creating a new 2D array whose columns\n",
    "contain the data of interest.\n",
    "\n",
    "Use the `header` option to describe the data and the columns of\n",
    "the file. Define another variable that contains file\n",
    "information as `head`."
   ]
  },
  {
   "cell_type": "raw",
   "id": "34ff9eac",
   "metadata": {},
   "source": [
    "head = \"the columns in this file are the result of a linear regression model\\n\"\n",
    "head += \"the columns include\\nyear: year of manufacture\\n\"\n",
    "head += \"transistor_count: number of transistors reported by manufacturers in a given year\\n\"\n",
    "head += \"transistor_count_predicted: linear regression model = exp({:.2f})*exp({:.2f}*year)\\n\".format(\n",
    "    B, A\n",
    ")\n",
    "head += \"transistor_Moores_law: Moores law =exp({:.2f})*exp({:.2f}*year)\\n\".format(\n",
    "    B_M, A_M\n",
    ")\n",
    "head += \"year:, transistor_count:, transistor_count_predicted:, transistor_Moores_law:\"\n",
    "print(head)"
   ]
  },
  {
   "cell_type": "markdown",
   "id": "37374310",
   "metadata": {},
   "source": [
    "Build a single 2D array to export to csv. Tabular data is inherently two\n",
    "dimensional. You need to organize your data to fit this 2D structure.\n",
    "Use `year`, `transistor_count`, `transistor_count_predicted`, and\n",
    "`transistor_Moores_law` as the first through fourth columns,\n",
    "respectively. Put the calculated constants in the header since they do\n",
    "not fit the `(179,)` shape. The\n",
    "[`np.block`](https://numpy.org/doc/stable/reference/generated/numpy.block.html)\n",
    "function appends arrays together to create a new, larger array. Arrange\n",
    "the 1D vectors as columns using\n",
    "[`np.newaxis`](https://numpy.org/doc/stable/reference/constants.html)\n",
    "e.g.\n",
    "\n",
    "```python\n",
    ">>> year.shape\n",
    "(179,)\n",
    ">>> year[:,np.newaxis].shape\n",
    "(179,1)\n",
    "```"
   ]
  },
  {
   "cell_type": "raw",
   "id": "644cb17b",
   "metadata": {},
   "source": [
    "output = np.block(\n",
    "    [\n",
    "        year[:, np.newaxis],\n",
    "        transistor_count[:, np.newaxis],\n",
    "        transistor_count_predicted[:, np.newaxis],\n",
    "        transistor_Moores_law[:, np.newaxis],\n",
    "    ]\n",
    ")"
   ]
  },
  {
   "cell_type": "markdown",
   "id": "a2c0f853",
   "metadata": {},
   "source": [
    "Creating the `mooreslaw_regression.csv` with `np.savetxt`, use three\n",
    "options to create the desired file format:\n",
    "\n",
    "* `X = output` : use `output` block to write the data into the file\n",
    "* `delimiter = ','` : use commas to separate columns in the file\n",
    "* `header = head` : use the header `head` defined above"
   ]
  },
  {
   "cell_type": "raw",
   "id": "0d100471",
   "metadata": {},
   "source": [
    "np.savetxt(\"mooreslaw_regression.csv\", X=output, delimiter=\",\", header=head)"
   ]
  },
  {
   "cell_type": "raw",
   "id": "3c63d5e5",
   "metadata": {},
   "source": [
    "! head mooreslaw_regression.csv"
   ]
  },
  {
   "cell_type": "markdown",
   "id": "054bd588",
   "metadata": {},
   "source": [
    "## Wrapping up\n",
    "\n",
    "In conclusion, you have compared historical data for semiconductor\n",
    "manufacturers to Moore's law and created a linear regression model to\n",
    "find the average number of transistors added to each microprocessor\n",
    "every two years. Gordon Moore predicted the number of transistors would\n",
    "double every two years from 1965 through 1975, but the average growth\n",
    "has maintained a consistent increase of $\\times 1.98 \\pm 0.01$ every two\n",
    "years from 1971 through 2019.  In 2015, Moore revised his prediction to\n",
    "say Moore's law should hold until 2025.\n",
    "[[3](https://spectrum.ieee.org/computing/hardware/gordon-moore-the-man-whose-name-means-progress)].\n",
    "You can share these results as a zipped NumPy array file,\n",
    "`mooreslaw_regression.npz`, or as another csv,\n",
    "`mooreslaw_regression.csv`.  The amazing progress in semiconductor\n",
    "manufacturing has enabled new industries and computational power. This\n",
    "analysis should give you a small insight into how incredible this growth\n",
    "has been over the last half-century."
   ]
  },
  {
   "cell_type": "markdown",
   "id": "d94d76dc",
   "metadata": {},
   "source": [
    "## References\n",
    "\n",
    "1. [\"Moore's Law.\" Wikipedia article. Accessed Oct. 1, 2020.](https://en.wikipedia.org/wiki/Moore%27s_law)\n",
    "2. [Moore, Gordon E. (1965-04-19). \"Cramming more components onto integrated circuits\". intel.com. Electronics Magazine. Retrieved April 1, 2020.](https://newsroom.intel.com/wp-content/uploads/sites/11/2018/05/moores-law-electronics.pdf)\n",
    "3. [Courtland, Rachel. \"Gordon Moore: The Man Whose Name Means Progress.\" IEEE Spectrum. 30 Mar. 2015.](https://spectrum.ieee.org/computing/hardware/gordon-moore-the-man-whose-name-means-progress).\n",
    "4. [\"Transistor Count.\" Wikipedia article. Accessed Oct. 1, 2020.](https://en.wikipedia.org/wiki/Transistor_count#Microprocessors)"
   ]
  }
 ],
 "metadata": {
  "jupytext": {
   "text_representation": {
    "extension": ".md",
    "format_name": "myst",
    "format_version": 0.13,
    "jupytext_version": "1.11.1"
   }
  },
  "kernelspec": {
   "display_name": "Python 3 (ipykernel)",
   "language": "python",
   "name": "python3"
  },
  "language_info": {
   "codemirror_mode": {
    "name": "ipython",
    "version": 3
   },
   "file_extension": ".py",
   "mimetype": "text/x-python",
   "name": "python",
   "nbconvert_exporter": "python",
   "pygments_lexer": "ipython3",
   "version": "3.10.4"
  },
  "source_map": [
   12,
   51,
   55,
   74,
   115,
   119,
   125,
   130,
   149,
   151,
   165,
   167,
   179,
   185,
   198,
   200,
   224,
   226,
   233,
   235,
   242,
   245,
   267,
   271,
   287,
   294,
   321,
   330,
   347,
   381,
   403,
   416,
   436,
   450,
   462,
   466,
   470,
   472,
   495,
   507,
   528,
   537,
   546,
   550,
   552,
   572
  ]
 },
 "nbformat": 4,
 "nbformat_minor": 5
}
