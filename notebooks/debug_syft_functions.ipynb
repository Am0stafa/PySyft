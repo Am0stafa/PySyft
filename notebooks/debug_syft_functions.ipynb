{
 "cells": [
  {
   "cell_type": "code",
   "execution_count": 1,
   "id": "a196017f",
   "metadata": {},
   "outputs": [
    {
     "name": "stderr",
     "output_type": "stream",
     "text": [
      "kj/filesystem-disk-unix.c++:1703: warning: PWD environment variable doesn't match current directory; pwd = /Users/koen/workspace/pysyft/notebooks\n"
     ]
    }
   ],
   "source": [
    "import syft as sy\n",
    "from syft import ActionObject\n",
    "from syft import syft_function, syft_function_single_use\n",
    "from time import sleep\n",
    "import os\n",
    "import psutil\n",
    "import inspect"
   ]
  },
  {
   "cell_type": "markdown",
   "id": "cb2d07de",
   "metadata": {},
   "source": [
    "with server"
   ]
  },
  {
   "cell_type": "code",
   "execution_count": 2,
   "id": "9b31c627",
   "metadata": {},
   "outputs": [
    {
     "name": "stdout",
     "output_type": "stream",
     "text": [
      "Staging Protocol Changes...\n",
      "SQLite Store Path:\n",
      "!open file:///var/folders/q1/ryq93kwj055dlbpngxv1c7z40000gn/T/448cb501cca248c7b9845081ed40744c.sqlite\n",
      "\n",
      "Consumer service Name:  None\n",
      "Creating Default Worker Image\n",
      "Building Default Worker Image\n",
      "Creating default Worker Pool\n",
      "Created default worker pool.\n",
      "Data Migrated to latest version !!!\n",
      "Logged into <test-domain-helm2: High side Domain> as <info@openmined.org>\n"
     ]
    },
    {
     "data": {
      "text/html": [
       "<div class=\"alert-warning\" style=\"padding:5px;\"><strong>SyftWarning</strong>: You are using a default password. Please change the password using `[your_client].me.set_password([new_password])`.</div><br />"
      ],
      "text/plain": [
       "SyftWarning: You are using a default password. Please change the password using `[your_client].me.set_password([new_password])`."
      ]
     },
     "metadata": {},
     "output_type": "display_data"
    }
   ],
   "source": [
    "node = sy.orchestra.launch(name=\"test-domain-helm2\", dev_mode=True,\n",
    "                           reset=True, \n",
    "                           n_consumers=3,\n",
    "                           create_producer=True\n",
    "                          )\n",
    "                           \n",
    "client = node.login(email=\"info@openmined.org\", password=\"changethis\")"
   ]
  },
  {
   "cell_type": "code",
   "execution_count": 3,
   "id": "a127ecd8",
   "metadata": {},
   "outputs": [],
   "source": [
    "# res = client.register(name=\"a\", email=\"b@b.org\", password=\"c\", password_verify=\"c\")\n",
    "\n",
    "# res = client.register(name=\"a\", email=\"aa@b.org\", password=\"c\", password_verify=\"c\")\n",
    "\n",
    "# ds_client = node.login(email=\"aa@b.org\", password=\"c\")\n",
    "\n",
    "# ds_client2 = node.login(email=\"b@b.org\", password=\"c\")\n",
    "\n",
    "# client.users"
   ]
  },
  {
   "cell_type": "markdown",
   "id": "176addfb",
   "metadata": {},
   "source": [
    "setup: compute train-test overlap between a very large train set and a smaller test set. Small test is still to big for memory, so we split it into 54 parts. We keep 1 of those parts in memory. We dont keep the train set in memory, but read and compare with 1/54 parts line by line. Each part takes ~30 hours, but we can run 54 processes in parallel."
   ]
  },
  {
   "cell_type": "markdown",
   "id": "a0cea81b",
   "metadata": {},
   "source": [
    "# Setup syft functions"
   ]
  },
  {
   "cell_type": "markdown",
   "id": "da2b114a",
   "metadata": {},
   "source": [
    "## Dataset"
   ]
  },
  {
   "cell_type": "code",
   "execution_count": 4,
   "id": "83307a2f",
   "metadata": {},
   "outputs": [],
   "source": [
    "x = ActionObject.from_obj([1, 2])\n",
    "x_ptr = x.send(client)"
   ]
  },
  {
   "cell_type": "markdown",
   "id": "31bbb3ff",
   "metadata": {},
   "source": [
    "## Batch function"
   ]
  },
  {
   "cell_type": "code",
   "execution_count": 5,
   "id": "5d2fd248",
   "metadata": {},
   "outputs": [
    {
     "data": {
      "text/html": [
       "<div class=\"alert-success\" style=\"padding:5px;\"><strong>SyftSuccess</strong>: Syft function 'process_batch' successfully created. To add a code request, please create a project using `project = syft.Project(...)`, then use command `project.create_code_request`.</div><br />"
      ],
      "text/plain": [
       "SyftSuccess: Syft function 'process_batch' successfully created. To add a code request, please create a project using `project = syft.Project(...)`, then use command `project.create_code_request`."
      ]
     },
     "metadata": {},
     "output_type": "display_data"
    }
   ],
   "source": [
    "@syft_function()\n",
    "def process_batch(batch):\n",
    "    # takes 30 hours normally\n",
    "    print(f\"starting batch {batch}\")\n",
    "    from time import sleep\n",
    "    sleep(1)\n",
    "    print(\"done\")\n",
    "    return batch+1"
   ]
  },
  {
   "cell_type": "code",
   "execution_count": 6,
   "id": "9ba22655",
   "metadata": {},
   "outputs": [
    {
     "data": {
      "text/html": [
       "<div class=\"alert-success\" style=\"padding:5px;\"><strong>SyftSuccess</strong>: User Code Submitted</div><br />"
      ],
      "text/plain": [
       "SyftSuccess: User Code Submitted"
      ]
     },
     "execution_count": 6,
     "metadata": {},
     "output_type": "execute_result"
    }
   ],
   "source": [
    "client.code.submit(process_batch)"
   ]
  },
  {
   "cell_type": "markdown",
   "id": "01319f1f",
   "metadata": {},
   "source": [
    "## Main function"
   ]
  },
  {
   "cell_type": "code",
   "execution_count": 7,
   "id": "ca1b95ee",
   "metadata": {},
   "outputs": [
    {
     "data": {
      "text/html": [
       "<div class=\"alert-success\" style=\"padding:5px;\"><strong>SyftSuccess</strong>: Syft function 'process_all' successfully created. To add a code request, please create a project using `project = syft.Project(...)`, then use command `project.create_code_request`.</div><br />"
      ],
      "text/plain": [
       "SyftSuccess: Syft function 'process_all' successfully created. To add a code request, please create a project using `project = syft.Project(...)`, then use command `project.create_code_request`."
      ]
     },
     "metadata": {},
     "output_type": "display_data"
    }
   ],
   "source": [
    "@syft_function_single_use(x=x_ptr)\n",
    "def process_all(domain, x):\n",
    "    jobs = []\n",
    "    print(\"Launching jobs\")\n",
    "    for elem in x:\n",
    "        # We inject a domain object in the scope\n",
    "        batch_job = domain.launch_job(process_batch, batch=elem)\n",
    "        jobs += [batch_job]\n",
    "    print(\"starting aggregation\")\n",
    "    print(\"Done\")\n",
    "    return 3"
   ]
  },
  {
   "cell_type": "markdown",
   "id": "1e77c5db",
   "metadata": {},
   "source": [
    "# Approve & run"
   ]
  },
  {
   "cell_type": "code",
   "execution_count": 8,
   "id": "d0bc1ed2",
   "metadata": {},
   "outputs": [],
   "source": [
    "# client.code.submit(process_all)"
   ]
  },
  {
   "cell_type": "code",
   "execution_count": 9,
   "id": "224f7e35",
   "metadata": {},
   "outputs": [],
   "source": [
    "req = client.code.request_code_execution(process_all)\n"
   ]
  },
  {
   "cell_type": "code",
   "execution_count": 10,
   "id": "5d7d01ca",
   "metadata": {},
   "outputs": [
    {
     "data": {
      "text/html": [
       "\n",
       "            <style>\n",
       "            .syft-request {color: #464158;}\n",
       "            </style>\n",
       "            <div class='syft-request'>\n",
       "                <h3>Request</h3>\n",
       "                <p><strong>Id: </strong>776e30f213c6451390f4a0a2aa9dc55e</p>\n",
       "                <p><strong>Request time: </strong>2024-01-29 16:06:22</p>\n",
       "                \n",
       "                \n",
       "                <p><strong>Status: </strong>RequestStatus.PENDING</p>\n",
       "                <p><strong>Requested on: </strong> Test-domain-helm2 of type <strong>                     Domain</strong></p>\n",
       "                <p><strong>Requested by:</strong> Jane Doe (info@openmined.org) </p>\n",
       "                <p><strong>Changes: </strong> Request to change <b>process_all</b> (Pool Id: <b>default-pool</b>) to permission <b>RequestStatus.APPROVED</b>. Nested Requests not resolved. </p>\n",
       "            </div>\n",
       "\n",
       "            "
      ],
      "text/markdown": [
       "```python\n",
       "class Request:\n",
       "  id: str = 776e30f213c6451390f4a0a2aa9dc55e\n",
       "  request_time: str = 2024-01-29 16:06:22\n",
       "  updated_at: str = None\n",
       "  status: str = RequestStatus.PENDING\n",
       "  changes: str = ['Request to change <b>process_all</b> (Pool Id: <b>default-pool</b>) to permission <b>RequestStatus.APPROVED</b>. Nested Requests not resolved']\n",
       "  requesting_user_verify_key: str = 47f8c8f3db3a30695a28e4a51e44916669ac3d111924cb614181c64b2c3b8323\n",
       "\n",
       "```"
      ],
      "text/plain": [
       "syft.service.request.request.Request"
      ]
     },
     "execution_count": 10,
     "metadata": {},
     "output_type": "execute_result"
    }
   ],
   "source": [
    "req"
   ]
  },
  {
   "cell_type": "code",
   "execution_count": 12,
   "id": "8980c69d",
   "metadata": {},
   "outputs": [
    {
     "name": "stdout",
     "output_type": "stream",
     "text": [
      "Approving request for domain test-domain-helm2\n"
     ]
    },
    {
     "data": {
      "text/html": [
       "<div class=\"alert-success\" style=\"padding:5px;\"><strong>SyftSuccess</strong>: Request 776e30f213c6451390f4a0a2aa9dc55e changes applied</div><br />"
      ],
      "text/plain": [
       "SyftSuccess: Request 776e30f213c6451390f4a0a2aa9dc55e changes applied"
      ]
     },
     "execution_count": 12,
     "metadata": {},
     "output_type": "execute_result"
    }
   ],
   "source": [
    "req.approve(approve_nested=True)"
   ]
  },
  {
   "cell_type": "code",
   "execution_count": 13,
   "id": "bfb05d9a",
   "metadata": {},
   "outputs": [],
   "source": [
    "# client._fetch_api(client.credentials)"
   ]
  },
  {
   "cell_type": "code",
   "execution_count": 22,
   "id": "1122e1ba",
   "metadata": {},
   "outputs": [
    {
     "name": "stderr",
     "output_type": "stream",
     "text": [
      "29/01/24 18:08:07 FUNCTION LOG (e3fbdc575f4d4426b9a86142075766ff): Launching jobs\n",
      "29/01/24 18:08:07 EXCEPTION LOG (e3fbdc575f4d4426b9a86142075766ff):\n",
      "\n",
      "Encountered while executing process_all:\n",
      "Traceback (most recent call last):\n",
      "  File \"/Users/koen/workspace/PySyft/packages/syft/src/syft/service/code/user_code.py\", line 1347, in execute_byte_code\n",
      "    result = eval(evil_string, _globals, _locals)  # nosec\n",
      "  File \"<string>\", line 1, in <module>\n",
      "  File \"<string>\", line 12, in user_func_process_all_47f8c8f3db3a30695a28e4a51e44916669ac3d111924cb614181c64b2c3b8323_e18f2bd3f95b6f8df70995b4138a72d51e65846799577546427ef18b8cf22e61\n",
      "  File \"<string>\", line 7, in process_all\n",
      "NameError: name 'process_batch' is not defined\n",
      "\n",
      "    4      print('Launching jobs')\n",
      "    5      for elem in x:\n",
      "--> 6          batch_job = domain.launch_job(process_batch, batch=elem)\n",
      "    7          jobs += [batch_job]\n"
     ]
    }
   ],
   "source": [
    "job = client.code.process_all(x=x_ptr, blocking=False)"
   ]
  },
  {
   "cell_type": "code",
   "execution_count": 23,
   "id": "e7c850eb",
   "metadata": {},
   "outputs": [
    {
     "data": {
      "text/markdown": [
       "```python\n",
       "class Job:\n",
       "    id: UID = e3fbdc575f4d4426b9a86142075766ff\n",
       "    status: errored\n",
       "    has_parent: False\n",
       "    result: Err('Exception encountered while running process_all, please contact the Node Admin for more info.')\n",
       "    logs:\n",
       "\n",
       "0 Launching jobs\n",
       "1 \n",
       "2 \n",
       "3 Encountered while executing process_all:\n",
       "4 Traceback (most recent call last):\n",
       "5   File \"/Users/koen/workspace/PySyft/packages/syft/src/syft/service/code/user_code.py\", line 1347, in execute_byte_code\n",
       "6     result = eval(evil_string, _globals, _locals)  # nosec\n",
       "7   File \"<string>\", line 1, in <module>\n",
       "8   File \"<string>\", line 12, in user_func_process_all_47f8c8f3db3a30695a28e4a51e44916669ac3d111924cb614181c64b2c3b8323_e18f2bd3f95b6f8df70995b4138a72d51e65846799577546427ef18b8cf22e61\n",
       "9   File \"<string>\", line 7, in process_all\n",
       "10 NameError: name 'process_batch' is not defined\n",
       "11 \n",
       "12     4      print('Launching jobs')\n",
       "13     5      for elem in x:\n",
       "14 --> 6          batch_job = domain.launch_job(process_batch, batch=elem)\n",
       "15     7          jobs += [batch_job]\n",
       "    \n",
       "```"
      ],
      "text/plain": [
       "syft.service.job.job_stash.Job"
      ]
     },
     "execution_count": 23,
     "metadata": {},
     "output_type": "execute_result"
    }
   ],
   "source": [
    "job"
   ]
  }
 ],
 "metadata": {
  "kernelspec": {
   "display_name": "Python 3 (ipykernel)",
   "language": "python",
   "name": "python3"
  },
  "language_info": {
   "codemirror_mode": {
    "name": "ipython",
    "version": 3
   },
   "file_extension": ".py",
   "mimetype": "text/x-python",
   "name": "python",
   "nbconvert_exporter": "python",
   "pygments_lexer": "ipython3",
   "version": "3.9.16"
  },
  "toc": {
   "base_numbering": 1,
   "nav_menu": {},
   "number_sections": true,
   "sideBar": true,
   "skip_h1_title": false,
   "title_cell": "Table of Contents",
   "title_sidebar": "Contents",
   "toc_cell": false,
   "toc_position": {},
   "toc_section_display": true,
   "toc_window_display": true
  }
 },
 "nbformat": 4,
 "nbformat_minor": 5
}
