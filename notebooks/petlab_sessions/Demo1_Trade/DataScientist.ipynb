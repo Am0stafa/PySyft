{
 "cells": [
  {
   "cell_type": "markdown",
   "id": "1314a5dc-7145-4042-b336-d42dbe7324f4",
   "metadata": {},
   "source": [
    "# Remote Data Science!"
   ]
  },
  {
   "cell_type": "code",
   "execution_count": 1,
   "id": "8ed6f7c4-42dc-49ae-bfc2-d7e25c5bffbf",
   "metadata": {},
   "outputs": [],
   "source": [
    "import syft"
   ]
  },
  {
   "cell_type": "code",
   "execution_count": 2,
   "id": "001b9ad0-22a9-4181-bdf9-23f42fa22bfc",
   "metadata": {},
   "outputs": [
    {
     "name": "stdout",
     "output_type": "stream",
     "text": [
      "Connecting to localhost... done! \t Logging into jovial_olah... done!\n"
     ]
    }
   ],
   "source": [
    "canada_domain = syft.login(email=\"ishan@openmined.org\", password=\"too_many_puns.gif\", port=8081)"
   ]
  },
  {
   "cell_type": "code",
   "execution_count": 3,
   "id": "ca82e0ee-8bf8-4f0b-8148-d6d16301f7a6",
   "metadata": {},
   "outputs": [
    {
     "data": {
      "text/html": [
       "<style>\n",
       "                #myInput {\n",
       "                  background-position: 10px 12px; /* Position the search icon */\n",
       "                  background-repeat: no-repeat; /* Do not repeat the icon image */\n",
       "                  background-color: #bbb;\n",
       "                  width: 98%; /* Full-width */\n",
       "                  font-size: 14px; /* Increase font-size */\n",
       "                  padding: 12px 20px 12px 40px; /* Add some padding */\n",
       "                  border: 1px solid #ddd; /* Add a grey border */\n",
       "                  margin-bottom: 12px; /* Add some space below the input */\n",
       "                }\n",
       "\n",
       "                #myTable {\n",
       "                  border-collapse: collapse; /* Collapse borders */\n",
       "                  width: 100%; /* Full-width */\n",
       "                  border: 1px solid #ddd; /* Add a grey border */\n",
       "                  font-size: 14px; /* Increase font-size */\n",
       "                }\n",
       "\n",
       "                #myTable th, #myTable td {\n",
       "                  text-align: left; /* Left-align text */\n",
       "                  padding: 10px; /* Add padding */\n",
       "                }\n",
       "\n",
       "                #myTable tr {\n",
       "                  /* Add a bottom border to all table rows */\n",
       "                  border-bottom: 1px solid #ddd;\n",
       "                }\n",
       "\n",
       "                #myTable tr.header, #myTable tr:hover {\n",
       "                  /* Add a grey background color to the table header and on hover */\n",
       "                  background-color: #777;\n",
       "                }\n",
       "                </style>\n",
       "\n",
       "                <table id=\"myTable\" style=\"width:1000px\">\n",
       "                  <tr class=\"header\">\n",
       "                    <th style=\"width:30px\">Idx</th>\n",
       "                    <th style=\"width:20%;\">Name</th>\n",
       "                    <th style=\"width:35%;\">Description</th>\n",
       "                    <th style=\"width:20%;\">Assets</th>\n",
       "                    <th style=\"width:300px;\">Id</th>\n",
       "                  </tr>\n",
       "                \n",
       "\n",
       "          <tr>\n",
       "            <td>[0]</td>\n",
       "            <td>Canada Imports and Exports Feb 2021</td>\n",
       "            <td>This dataset contains information about all of Canada's imports and exports    in the month of Feb 2021. Measured in USD.</td>\n",
       "            <td>[\"imports\"] -> <class 'syft.core.tensor.tensor.Tensor'><br /><br />[\"exports\"] -> <class 'syft.core.tensor.tensor.Tensor'><br /><br /></td>\n",
       "            <td>d55ad7d0-24e4-4e24-a571-9b5b41940879</td>\n",
       "          </tr>\n",
       "        </table>\n",
       "\n",
       "        <script>\n",
       "        function myFunction() {\n",
       "          // Declare variables\n",
       "          var input, filter, table, tr, td, i, txtValue;\n",
       "          input = document.getElementById(\"myInput\");\n",
       "          filter = input.value.toUpperCase();\n",
       "          table = document.getElementById(\"myTable\");\n",
       "          tr = table.getElementsByTagName(\"tr\");\n",
       "\n",
       "          // Loop through all table rows, and hide those who don't match the search query\n",
       "          for (i = 0; i < tr.length; i++) {\n",
       "            name_td = tr[i].getElementsByTagName(\"td\")[1];\n",
       "            desc_td = tr[i].getElementsByTagName(\"td\")[2];\n",
       "            asset_td = tr[i].getElementsByTagName(\"td\")[3];\n",
       "            id_td = tr[i].getElementsByTagName(\"td\")[4];\n",
       "            if (name_td || desc_td || asset_td || id_td) {\n",
       "              name_txtValue = name_td.textContent || name_td.innerText;\n",
       "              desc_txtValue = desc_td.textContent || name_td.innerText;\n",
       "              asset_txtValue = asset_td.textContent || name_td.innerText;\n",
       "              id_txtValue = id_td.textContent || name_td.innerText;\n",
       "              name_bool = name_txtValue.toUpperCase().indexOf(filter) > -1;\n",
       "              desc_bool = desc_txtValue.toUpperCase().indexOf(filter) > -1;\n",
       "              asset_bool = asset_txtValue.toUpperCase().indexOf(filter) > -1;\n",
       "              id_bool = id_txtValue.toUpperCase().indexOf(filter) > -1;\n",
       "              if (name_bool || desc_bool || asset_bool || id_bool) {\n",
       "                tr[i].style.display = \"\";\n",
       "              } else {\n",
       "                tr[i].style.display = \"none\";\n",
       "              }\n",
       "            }\n",
       "          }\n",
       "        }\n",
       "        </script>"
      ],
      "text/plain": [
       "<syft.core.node.common.client_manager.dataset_api.DatasetRequestAPI at 0x7f7bf13253a0>"
      ]
     },
     "execution_count": 3,
     "metadata": {},
     "output_type": "execute_result"
    }
   ],
   "source": [
    "canada_domain.datasets"
   ]
  },
  {
   "cell_type": "code",
   "execution_count": 4,
   "id": "de3cd8d6-0152-4ef0-8e87-2e6cdf6fac8b",
   "metadata": {},
   "outputs": [],
   "source": [
    "imports_data = canada_domain.datasets[-1][\"imports\"]"
   ]
  },
  {
   "cell_type": "code",
   "execution_count": 5,
   "id": "07872983-2a7a-483d-b442-a7e7c67ae476",
   "metadata": {},
   "outputs": [
    {
     "data": {
      "text/plain": [
       "array([1108765476907, 1298708056765,  916122585416, ..., 1168672039451,\n",
       "        715666781203,   76924692261])\n",
       "\n",
       " (The data printed above is synthetic - it's an imitation of the real data.)"
      ]
     },
     "execution_count": 5,
     "metadata": {},
     "output_type": "execute_result"
    }
   ],
   "source": [
    "imports_data"
   ]
  },
  {
   "cell_type": "code",
   "execution_count": 6,
   "id": "6679d8e1-2ea0-4898-aacd-9d7d6d231046",
   "metadata": {},
   "outputs": [
    {
     "data": {
      "text/plain": [
       "(121091,)"
      ]
     },
     "execution_count": 6,
     "metadata": {},
     "output_type": "execute_result"
    }
   ],
   "source": [
    "imports_data.shape"
   ]
  },
  {
   "cell_type": "code",
   "execution_count": 7,
   "id": "fbd94a82-ac61-4207-8cdb-36adc8066445",
   "metadata": {},
   "outputs": [
    {
     "data": {
      "text/plain": [
       "(69388,)"
      ]
     },
     "execution_count": 7,
     "metadata": {},
     "output_type": "execute_result"
    }
   ],
   "source": [
    "exports_data = canada_domain.datasets[-1][\"exports\"]\n",
    "exports_data.shape"
   ]
  },
  {
   "cell_type": "code",
   "execution_count": 8,
   "id": "d5897a9c-5f46-445b-9e93-41a7cd1bc773",
   "metadata": {},
   "outputs": [],
   "source": [
    "total_import_value = imports_data.sum()"
   ]
  },
  {
   "cell_type": "code",
   "execution_count": 9,
   "id": "59a20d3f-5e2f-4937-ac7e-4148c8aa19d0",
   "metadata": {},
   "outputs": [],
   "source": [
    "total_exports_value = exports_data.sum()"
   ]
  },
  {
   "cell_type": "code",
   "execution_count": 10,
   "id": "4874bbc1-a4c3-447d-aab1-530875300edc",
   "metadata": {},
   "outputs": [
    {
     "data": {
      "text/plain": [
       "10.0"
      ]
     },
     "execution_count": 10,
     "metadata": {},
     "output_type": "execute_result"
    }
   ],
   "source": [
    "canada_domain.privacy_budget"
   ]
  },
  {
   "cell_type": "code",
   "execution_count": 11,
   "id": "44fcad44-0ed5-4c37-babc-e4a45d317fcf",
   "metadata": {},
   "outputs": [],
   "source": [
    "imports_result = total_import_value.publish(sigma=1e5)"
   ]
  },
  {
   "cell_type": "code",
   "execution_count": 13,
   "id": "35f3599f-8eba-4d14-990e-e827c9e56093",
   "metadata": {},
   "outputs": [],
   "source": [
    "imports = imports_result.get()"
   ]
  },
  {
   "cell_type": "code",
   "execution_count": 14,
   "id": "483233d5-460f-465e-b9f2-9862a55514a8",
   "metadata": {},
   "outputs": [
    {
     "data": {
      "text/plain": [
       "array([ 68277.67620845, -49065.84196335,   2745.92711894, ...,\n",
       "       -28299.80233119,  59550.87619842, 173288.8619898 ])"
      ]
     },
     "execution_count": 14,
     "metadata": {},
     "output_type": "execute_result"
    }
   ],
   "source": [
    "imports"
   ]
  },
  {
   "cell_type": "code",
   "execution_count": 15,
   "id": "21d8980d-c017-40f3-bf07-68a2668ebc66",
   "metadata": {},
   "outputs": [
    {
     "data": {
      "text/plain": [
       "10.0"
      ]
     },
     "execution_count": 15,
     "metadata": {},
     "output_type": "execute_result"
    }
   ],
   "source": [
    "canada_domain.privacy_budget"
   ]
  },
  {
   "cell_type": "code",
   "execution_count": 16,
   "id": "044037b3-6bec-40e1-bf63-eedaaa478b7a",
   "metadata": {},
   "outputs": [],
   "source": [
    "exports = total_exports_value.publish(sigma=5e9)"
   ]
  },
  {
   "cell_type": "code",
   "execution_count": 18,
   "id": "ef95d2fc-41e2-4219-9393-834fe76dbd8e",
   "metadata": {},
   "outputs": [],
   "source": [
    "exports_result = exports.get()"
   ]
  },
  {
   "cell_type": "code",
   "execution_count": 19,
   "id": "9ddeac6a-8706-4709-89f9-d36f6f9b7a44",
   "metadata": {},
   "outputs": [
    {
     "data": {
      "text/plain": [
       "array([-3.51758125e+09,  6.38596001e+09, -7.69271614e+08, ...,\n",
       "        9.51442866e+08,  1.19872123e+10,  2.13895350e+09])"
      ]
     },
     "execution_count": 19,
     "metadata": {},
     "output_type": "execute_result"
    }
   ],
   "source": [
    "exports_result"
   ]
  },
  {
   "cell_type": "code",
   "execution_count": 20,
   "id": "47278274-6e12-40e9-86e7-2f7a081dfa90",
   "metadata": {},
   "outputs": [
    {
     "data": {
      "text/plain": [
       "10.0"
      ]
     },
     "execution_count": 20,
     "metadata": {},
     "output_type": "execute_result"
    }
   ],
   "source": [
    "canada_domain.privacy_budget"
   ]
  },
  {
   "cell_type": "code",
   "execution_count": null,
   "id": "5d8f782e-9d0f-426f-938d-198438d557de",
   "metadata": {},
   "outputs": [],
   "source": []
  }
 ],
 "metadata": {
  "kernelspec": {
   "display_name": "Python 3 (ipykernel)",
   "language": "python",
   "name": "python3"
  },
  "language_info": {
   "codemirror_mode": {
    "name": "ipython",
    "version": 3
   },
   "file_extension": ".py",
   "mimetype": "text/x-python",
   "name": "python",
   "nbconvert_exporter": "python",
   "pygments_lexer": "ipython3",
   "version": "3.9.12"
  }
 },
 "nbformat": 4,
 "nbformat_minor": 5
}
