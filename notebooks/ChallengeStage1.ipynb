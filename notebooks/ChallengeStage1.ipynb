{
 "cells": [
  {
   "cell_type": "markdown",
   "id": "4bf13677-68bd-4f0c-b4ef-bfe32365da55",
   "metadata": {},
   "source": [
    "## Part 1 - Data Scientist\n",
    "\n",
    "Participants (data scientists) logs into domain node, creates accounts, and loads in datasets.\n",
    "\n",
    "Sections:\n",
    "1. Syft: Data Scientist logs in, searches for datasets, and mock asset pointers are obtained.\n",
    "2. NumPy: Pointers are used to complete each challenge and submit an entry. \n",
    "    - 10 projects submitted in total\n",
    "        - 10 challenges in each project\n",
    "3. Syft: Results are requested using a `my_pointer.request(msg=\"I'd like this variable\", Globals())` type query.\n",
    "    - This sends the code in the notebook to the data owner so they can see how the pointer was created, but it doesn't require the data scientist to create a custom function using @syft_function\n"
   ]
  },
  {
   "cell_type": "code",
   "execution_count": 1,
   "id": "730974f3-f927-474b-8286-c69e442fe398",
   "metadata": {},
   "outputs": [],
   "source": [
    "import syft as sy\n",
    "import numpy as np"
   ]
  },
  {
   "cell_type": "code",
   "execution_count": 2,
   "id": "ff6d8193-9fd3-4a23-b012-e2029d142b4a",
   "metadata": {},
   "outputs": [
    {
     "name": "stdout",
     "output_type": "stream",
     "text": [
      "> Starting Worker: Vibrant Salakhutdinov - 9f95acd0f13a43a1897a821c53c935cb - NodeType.DOMAIN - [<class 'syft.core.node.new.user_service.UserService'>, <class 'syft.core.node.new.metadata_service.MetadataService'>, <class 'syft.core.node.new.action_service.ActionService'>, <class 'syft.core.node.new.test_service.TestService'>, <class 'syft.core.node.new.dataset_service.DatasetService'>, <class 'syft.core.node.new.user_code_service.UserCodeService'>, <class 'syft.core.node.new.request_service.RequestService'>, <class 'syft.core.node.new.data_subject_service.DataSubjectService'>, <class 'syft.core.node.new.network_service.NetworkService'>, <class 'syft.core.node.new.policy_service.PolicyService'>, <class 'syft.core.node.new.message_service.MessageService'>, <class 'syft.core.node.new.project_service.ProjectService'>, <class 'syft.core.node.new.data_subject_member_service.DataSubjectMemberService'>]\n"
     ]
    }
   ],
   "source": [
    "worker = sy.Worker()"
   ]
  },
  {
   "cell_type": "code",
   "execution_count": 3,
   "id": "81a71342-d847-49fa-9e75-aa8c261f3b9d",
   "metadata": {},
   "outputs": [],
   "source": [
    "client = worker.guest_client"
   ]
  },
  {
   "cell_type": "code",
   "execution_count": 4,
   "id": "a105e484-4faf-41ff-8bbd-e8e74674622e",
   "metadata": {},
   "outputs": [
    {
     "data": {
      "text/plain": [
       "<SyftClient - Vibrant Salakhutdinov <9f95acd0f13a43a1897a821c53c935cb>: PythonConnection>"
      ]
     },
     "execution_count": 4,
     "metadata": {},
     "output_type": "execute_result"
    }
   ],
   "source": [
    "client"
   ]
  },
  {
   "cell_type": "code",
   "execution_count": 5,
   "id": "a1c8856c-466d-498d-9bd8-b0556731deea",
   "metadata": {},
   "outputs": [
    {
     "data": {
      "text/html": [
       "[]"
      ],
      "text/plain": [
       "<syft.core.node.new.api.APIModule at 0x7f6c47851880>"
      ]
     },
     "execution_count": 5,
     "metadata": {},
     "output_type": "execute_result"
    }
   ],
   "source": [
    "client.datasets"
   ]
  },
  {
   "cell_type": "code",
   "execution_count": 6,
   "id": "87e8a9fa-0fd5-40a8-843c-4f5e02f1c162",
   "metadata": {},
   "outputs": [
    {
     "name": "stdout",
     "output_type": "stream",
     "text": [
      "Using numpy version: 1.24.2\n"
     ]
    }
   ],
   "source": [
    "np = client.numpy"
   ]
  },
  {
   "cell_type": "code",
   "execution_count": null,
   "id": "723345bb-9477-4860-8dcf-65b01b5d4188",
   "metadata": {},
   "outputs": [],
   "source": []
  }
 ],
 "metadata": {
  "kernelspec": {
   "display_name": "Python 3 (ipykernel)",
   "language": "python",
   "name": "python3"
  },
  "language_info": {
   "codemirror_mode": {
    "name": "ipython",
    "version": 3
   },
   "file_extension": ".py",
   "mimetype": "text/x-python",
   "name": "python",
   "nbconvert_exporter": "python",
   "pygments_lexer": "ipython3",
   "version": "3.9.7"
  }
 },
 "nbformat": 4,
 "nbformat_minor": 5
}
