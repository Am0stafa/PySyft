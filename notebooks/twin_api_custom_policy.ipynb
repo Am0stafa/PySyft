{
 "cells": [
  {
   "cell_type": "code",
   "execution_count": 1,
   "metadata": {},
   "outputs": [],
   "source": [
    "import syft as sy\n"
   ]
  },
  {
   "cell_type": "code",
   "execution_count": 2,
   "metadata": {},
   "outputs": [
    {
     "name": "stdout",
     "output_type": "stream",
     "text": [
      "Staging Protocol Changes...\n",
      "Creating default worker image with tag='local-dev'\n",
      "Building default worker image with tag=local-dev\n",
      "Setting up worker poolname=default-pool workers=1 image_uid=512703c6ea404905b2b721d21e3cd285 in_memory=True\n",
      "Created default worker pool.\n",
      "Data Migrated to latest version !!!\n"
     ]
    }
   ],
   "source": [
    "node = sy.orchestra.launch(\n",
    "    name=\"reddit_h\",\n",
    "    node_side_type=\"high\",\n",
    "    dev_mode=True,\n",
    "    reset=True,\n",
    "    local_db=True,\n",
    "    n_consumers=1,\n",
    "    create_producer=True,\n",
    ")"
   ]
  },
  {
   "cell_type": "code",
   "execution_count": 3,
   "metadata": {},
   "outputs": [
    {
     "name": "stdout",
     "output_type": "stream",
     "text": [
      "Logged into <reddit_h: High side Domain> as <info@openmined.org>\n"
     ]
    },
    {
     "data": {
      "text/html": [
       "<div class=\"alert-warning\" style=\"padding:5px;\"><strong>SyftWarning</strong>: You are using a default password. Please change the password using `[your_client].me.set_password([new_password])`.</div><br />"
      ],
      "text/plain": [
       "SyftWarning: You are using a default password. Please change the password using `[your_client].me.set_password([new_password])`."
      ]
     },
     "metadata": {},
     "output_type": "display_data"
    }
   ],
   "source": [
    "domain_client = node.login(email=\"info@openmined.org\", password=\"changethis\")"
   ]
  },
  {
   "cell_type": "code",
   "execution_count": 4,
   "metadata": {},
   "outputs": [],
   "source": [
    "# TODO credentials\n",
    "bq_credentials = {}"
   ]
  },
  {
   "cell_type": "code",
   "execution_count": 5,
   "metadata": {},
   "outputs": [],
   "source": [
    "# Mock Behavior\n",
    "@sy.mock_api_endpoint(\n",
    "    # settings={}\n",
    "    settings=bq_credentials,\n",
    ")\n",
    "def mock_query_function(\n",
    "    context, # Variable used to track user session, user information, user activities and settings\n",
    "    sql_query: str,  \n",
    ") -> str:\n",
    "    # third party\n",
    "    from google.cloud import bigquery\n",
    "    from google.oauth2 import service_account\n",
    "\n",
    "    credentials = service_account.Credentials.from_service_account_info(\n",
    "        context.settings\n",
    "    )\n",
    "    scoped_credentials = credentials.with_scopes(\n",
    "        [\"https://www.googleapis.com/auth/cloud-platform\"]\n",
    "    )\n",
    "\n",
    "    client = bigquery.Client(\n",
    "        credentials=scoped_credentials,\n",
    "        location=\"us-west1\",\n",
    "    )\n",
    "\n",
    "    rows = client.query_and_wait(\n",
    "        sql_query,\n",
    "        project=context.settings['project_id'],\n",
    "    )\n",
    "\n",
    "    # Replacing private values to mocked ones.\n",
    "    result = rows.to_dataframe()\n",
    "    result['int64_field_0'] = 0\n",
    "    result['id'] = \"Private\"\n",
    "    result['name'] = \"Private\"\n",
    "    result['subscribers_count'] = 0\n",
    "    result['permalink'] = \"Private\"\n",
    "    result['nsfw'] = \"NaN\"\n",
    "    result['spam'] = False\n",
    "    return result\n",
    "    \n",
    "    \n",
    "    \n",
    "\n",
    "# Private Behavior\n",
    "@sy.private_api_endpoint(\n",
    "    # settings={}\n",
    "    settings=bq_credentials,\n",
    ")\n",
    "def private_query_function(\n",
    "    context,\n",
    "    sql_query: str,  \n",
    ") -> str:\n",
    "    # third party\n",
    "    from google.cloud import bigquery\n",
    "    from google.oauth2 import service_account\n",
    "    import pandas as pd\n",
    "    print(\"test\")\n",
    "    credentials = service_account.Credentials.from_service_account_info(\n",
    "        context.settings\n",
    "    )\n",
    "    scoped_credentials = credentials.with_scopes(\n",
    "        [\"https://www.googleapis.com/auth/cloud-platform\"]\n",
    "    )\n",
    "\n",
    "    client = bigquery.Client(\n",
    "        credentials=scoped_credentials,\n",
    "        location=\"us-west1\",\n",
    "    )\n",
    "    print(client)\n",
    "    \n",
    "    rows = client.query_and_wait(\n",
    "        sql_query,\n",
    "        project=context.settings[\"project_id\"],\n",
    "    )\n",
    "    print(rows) \n",
    "\n",
    "    return rows.to_dataframe()"
   ]
  },
  {
   "cell_type": "code",
   "execution_count": 6,
   "metadata": {},
   "outputs": [
    {
     "data": {
      "text/markdown": [
       "```python\n",
       "class PublicAPIEndpoint:\n",
       "  id: str = c44649b415734ed5a4b524ca0c9562e7\n",
       "\n",
       "```"
      ],
      "text/plain": [
       "syft.service.api.api.PublicAPIEndpoint"
      ]
     },
     "execution_count": 6,
     "metadata": {},
     "output_type": "execute_result"
    }
   ],
   "source": [
    "mock_query_function"
   ]
  },
  {
   "cell_type": "code",
   "execution_count": 7,
   "metadata": {},
   "outputs": [],
   "source": [
    "from typing import Any\n",
    "\n",
    "\n",
    "class RepeatedCallPolicy(sy.CustomOutputPolicy):\n",
    "    n_calls: int = 0\n",
    "    state: dict[Any, Any] = {}\n",
    "\n",
    "    def __init__(self, n_calls=1):\n",
    "        self.n_calls = n_calls\n",
    "        self.state = {\"counts\": 0}\n",
    "\n",
    "    def public_state(self):\n",
    "        return self.state[\"counts\"]\n",
    "\n",
    "    def apply_output(self, context, outputs):\n",
    "        if hasattr(outputs, \"syft_action_data\"):\n",
    "            outputs = outputs.syft_action_data\n",
    "        if self.state[\"counts\"] < self.n_calls:\n",
    "            self.state[\"counts\"] += 1\n",
    "        else:\n",
    "            return None\n",
    "\n",
    "        return outputs\n",
    "    \n",
    "    def _is_valid(self, context):\n",
    "        return self.state['counts'] < self.n_calls"
   ]
  },
  {
   "cell_type": "code",
   "execution_count": 8,
   "metadata": {},
   "outputs": [],
   "source": [
    "from syft.service.policy.policy import ExactMatch, SingleExecutionExactOutput\n",
    "\n",
    "# just for testing\n",
    "input_policy = ExactMatch()\n",
    "output_policy = RepeatedCallPolicy(n_calls=1)\n"
   ]
  },
  {
   "cell_type": "code",
   "execution_count": 9,
   "metadata": {},
   "outputs": [],
   "source": [
    "from syft.service.policy.policy import SubmitUserPolicy\n",
    "\n",
    "\n",
    "new_endpoint = sy.TwinAPIEndpoint(\n",
    "    path=\"reddit.query\",\n",
    "    private_function=private_query_function,\n",
    "    mock_function=mock_query_function,\n",
    "    description=\"Lorem ipsum dolor sit amet lorem adipiscing elit …\",\n",
    "    input_policy_type=ExactMatch,\n",
    "    input_policy_init_kwargs={},\n",
    "    output_policy_type=SubmitUserPolicy.from_obj(output_policy),\n",
    "    output_policy_init_kwargs=output_policy.init_kwargs,\n",
    ")\n"
   ]
  },
  {
   "cell_type": "code",
   "execution_count": 10,
   "metadata": {},
   "outputs": [],
   "source": [
    "# from syft.service.api.api import TwinAPIEndpoint\n",
    "\n",
    "\n",
    "# new_endpoint.to(TwinAPIEndpoint)"
   ]
  },
  {
   "cell_type": "code",
   "execution_count": 11,
   "metadata": {},
   "outputs": [
    {
     "name": "stdout",
     "output_type": "stream",
     "text": [
      "syft.service.api.api.CreateTwinAPIEndpoint\n",
      "Domain: reddit_h - 4b600cd95dcc42a79be83b5fdfedb75b - domain\n",
      "\n",
      "Services:\n",
      "APIService, ActionService, BlobStorageService, CodeHistoryService, DataSubjectMemberService, DataSubjectService, DatasetService, EnclaveService, JobService, LogService, MetadataService, MigrateStateService, NetworkService, NotificationService, NotifierService, OutputService, PolicyService, ProjectService, QueueService, RequestService, SettingsService, SyftImageRegistryService, SyftWorkerImageService, SyftWorkerPoolService, SyncService, UserCodeService, UserCodeStatusService, UserService, WorkerService\n",
      "Domain: reddit_h - 4b600cd95dcc42a79be83b5fdfedb75b - domain\n",
      "\n",
      "Services:\n",
      "APIService, ActionService, BlobStorageService, CodeHistoryService, DataSubjectMemberService, DataSubjectService, DatasetService, EnclaveService, JobService, LogService, MetadataService, MigrateStateService, NetworkService, NotificationService, NotifierService, OutputService, PolicyService, ProjectService, QueueService, RequestService, SettingsService, SyftImageRegistryService, SyftWorkerImageService, SyftWorkerPoolService, SyncService, UserCodeService, UserCodeStatusService, UserService, WorkerService\n"
     ]
    },
    {
     "data": {
      "text/html": [
       "<div class=\"alert-success\" style=\"padding:5px;\"><strong>SyftSuccess</strong>: Endpoint successfully created.</div><br />"
      ],
      "text/plain": [
       "SyftSuccess: Endpoint successfully created."
      ]
     },
     "execution_count": 11,
     "metadata": {},
     "output_type": "execute_result"
    }
   ],
   "source": [
    "domain_client.api.services.api.add(endpoint=new_endpoint)"
   ]
  },
  {
   "cell_type": "code",
   "execution_count": 12,
   "metadata": {},
   "outputs": [],
   "source": [
    "domain_client.refresh()"
   ]
  },
  {
   "cell_type": "code",
   "execution_count": 13,
   "metadata": {},
   "outputs": [
    {
     "name": "stdout",
     "output_type": "stream",
     "text": [
      "SELECT *  FROM test_1gb.subreddits LIMIT 100\n",
      "POLICY CHECK: True\n",
      "test\n",
      "<google.cloud.bigquery.client.Client object at 0x7a6ebfb2d3d0>\n",
      "<google.cloud.bigquery.table.RowIterator object at 0x7a6ebf975ed0>\n",
      "SyftSuccess: Endpoint STATE successfully updated. False\n"
     ]
    },
    {
     "data": {
      "text/html": [
       "<div>\n",
       "<style scoped>\n",
       "    .dataframe tbody tr th:only-of-type {\n",
       "        vertical-align: middle;\n",
       "    }\n",
       "\n",
       "    .dataframe tbody tr th {\n",
       "        vertical-align: top;\n",
       "    }\n",
       "\n",
       "    .dataframe thead th {\n",
       "        text-align: right;\n",
       "    }\n",
       "</style>\n",
       "<table border=\"1\" class=\"dataframe\">\n",
       "  <thead>\n",
       "    <tr style=\"text-align: right;\">\n",
       "      <th></th>\n",
       "      <th>int64_field_0</th>\n",
       "      <th>id</th>\n",
       "      <th>name</th>\n",
       "      <th>subscribers_count</th>\n",
       "      <th>permalink</th>\n",
       "      <th>nsfw</th>\n",
       "      <th>spam</th>\n",
       "    </tr>\n",
       "  </thead>\n",
       "  <tbody>\n",
       "    <tr>\n",
       "      <th>0</th>\n",
       "      <td>4</td>\n",
       "      <td>t5_via1x</td>\n",
       "      <td>/r/mylittlepony</td>\n",
       "      <td>4323081</td>\n",
       "      <td>/r//r/mylittlepony</td>\n",
       "      <td>NaN</td>\n",
       "      <td>False</td>\n",
       "    </tr>\n",
       "    <tr>\n",
       "      <th>1</th>\n",
       "      <td>5</td>\n",
       "      <td>t5_cv9gn</td>\n",
       "      <td>/r/polyamory</td>\n",
       "      <td>2425929</td>\n",
       "      <td>/r//r/polyamory</td>\n",
       "      <td>NaN</td>\n",
       "      <td>False</td>\n",
       "    </tr>\n",
       "    <tr>\n",
       "      <th>2</th>\n",
       "      <td>10</td>\n",
       "      <td>t5_8p2tq</td>\n",
       "      <td>/r/Catholicism</td>\n",
       "      <td>4062607</td>\n",
       "      <td>/r//r/Catholicism</td>\n",
       "      <td>NaN</td>\n",
       "      <td>False</td>\n",
       "    </tr>\n",
       "    <tr>\n",
       "      <th>3</th>\n",
       "      <td>16</td>\n",
       "      <td>t5_8fcro</td>\n",
       "      <td>/r/cordcutters</td>\n",
       "      <td>7543226</td>\n",
       "      <td>/r//r/cordcutters</td>\n",
       "      <td>NaN</td>\n",
       "      <td>False</td>\n",
       "    </tr>\n",
       "    <tr>\n",
       "      <th>4</th>\n",
       "      <td>17</td>\n",
       "      <td>t5_td5of</td>\n",
       "      <td>/r/stevenuniverse</td>\n",
       "      <td>2692168</td>\n",
       "      <td>/r//r/stevenuniverse</td>\n",
       "      <td>NaN</td>\n",
       "      <td>False</td>\n",
       "    </tr>\n",
       "    <tr>\n",
       "      <th>...</th>\n",
       "      <td>...</td>\n",
       "      <td>...</td>\n",
       "      <td>...</td>\n",
       "      <td>...</td>\n",
       "      <td>...</td>\n",
       "      <td>...</td>\n",
       "      <td>...</td>\n",
       "    </tr>\n",
       "    <tr>\n",
       "      <th>95</th>\n",
       "      <td>305</td>\n",
       "      <td>t5_jgydw</td>\n",
       "      <td>/r/cannabis</td>\n",
       "      <td>7703201</td>\n",
       "      <td>/r//r/cannabis</td>\n",
       "      <td>NaN</td>\n",
       "      <td>False</td>\n",
       "    </tr>\n",
       "    <tr>\n",
       "      <th>96</th>\n",
       "      <td>311</td>\n",
       "      <td>t5_3mfau</td>\n",
       "      <td>/r/marvelmemes</td>\n",
       "      <td>4288492</td>\n",
       "      <td>/r//r/marvelmemes</td>\n",
       "      <td>NaN</td>\n",
       "      <td>False</td>\n",
       "    </tr>\n",
       "    <tr>\n",
       "      <th>97</th>\n",
       "      <td>317</td>\n",
       "      <td>t5_ub3c8</td>\n",
       "      <td>/r/ghibli</td>\n",
       "      <td>6029127</td>\n",
       "      <td>/r//r/ghibli</td>\n",
       "      <td>NaN</td>\n",
       "      <td>False</td>\n",
       "    </tr>\n",
       "    <tr>\n",
       "      <th>98</th>\n",
       "      <td>319</td>\n",
       "      <td>t5_fbgo3</td>\n",
       "      <td>/r/birdsarentreal</td>\n",
       "      <td>3416317</td>\n",
       "      <td>/r//r/birdsarentreal</td>\n",
       "      <td>NaN</td>\n",
       "      <td>False</td>\n",
       "    </tr>\n",
       "    <tr>\n",
       "      <th>99</th>\n",
       "      <td>320</td>\n",
       "      <td>t5_mue7v</td>\n",
       "      <td>/r/polandball</td>\n",
       "      <td>8894111</td>\n",
       "      <td>/r//r/polandball</td>\n",
       "      <td>NaN</td>\n",
       "      <td>False</td>\n",
       "    </tr>\n",
       "  </tbody>\n",
       "</table>\n",
       "<p>100 rows × 7 columns</p>\n",
       "</div>"
      ],
      "text/plain": [
       "    int64_field_0        id               name  subscribers_count  \\\n",
       "0               4  t5_via1x    /r/mylittlepony            4323081   \n",
       "1               5  t5_cv9gn       /r/polyamory            2425929   \n",
       "2              10  t5_8p2tq     /r/Catholicism            4062607   \n",
       "3              16  t5_8fcro     /r/cordcutters            7543226   \n",
       "4              17  t5_td5of  /r/stevenuniverse            2692168   \n",
       "..            ...       ...                ...                ...   \n",
       "95            305  t5_jgydw        /r/cannabis            7703201   \n",
       "96            311  t5_3mfau     /r/marvelmemes            4288492   \n",
       "97            317  t5_ub3c8          /r/ghibli            6029127   \n",
       "98            319  t5_fbgo3  /r/birdsarentreal            3416317   \n",
       "99            320  t5_mue7v      /r/polandball            8894111   \n",
       "\n",
       "               permalink  nsfw   spam  \n",
       "0     /r//r/mylittlepony   NaN  False  \n",
       "1        /r//r/polyamory   NaN  False  \n",
       "2      /r//r/Catholicism   NaN  False  \n",
       "3      /r//r/cordcutters   NaN  False  \n",
       "4   /r//r/stevenuniverse   NaN  False  \n",
       "..                   ...   ...    ...  \n",
       "95        /r//r/cannabis   NaN  False  \n",
       "96     /r//r/marvelmemes   NaN  False  \n",
       "97          /r//r/ghibli   NaN  False  \n",
       "98  /r//r/birdsarentreal   NaN  False  \n",
       "99      /r//r/polandball   NaN  False  \n",
       "\n",
       "[100 rows x 7 columns]"
      ]
     },
     "execution_count": 13,
     "metadata": {},
     "output_type": "execute_result"
    }
   ],
   "source": [
    "domain_client.api.services.reddit.query(sql_query=\"SELECT *  FROM test_1gb.subreddits LIMIT 100\")"
   ]
  },
  {
   "cell_type": "code",
   "execution_count": 14,
   "metadata": {},
   "outputs": [
    {
     "name": "stdout",
     "output_type": "stream",
     "text": [
      "SELECT *  FROM test_1gb.subreddits LIMIT 100\n",
      "POLICY CHECK: False\n"
     ]
    },
    {
     "data": {
      "text/html": [
       "<div class=\"alert-danger\" style=\"padding:5px;\"><strong>SyftError</strong>: Policies not valid!</div><br />"
      ],
      "text/plain": [
       "SyftError: Policies not valid!"
      ]
     },
     "execution_count": 14,
     "metadata": {},
     "output_type": "execute_result"
    }
   ],
   "source": [
    "domain_client.api.services.reddit.query(sql_query=\"SELECT *  FROM test_1gb.subreddits LIMIT 100\")"
   ]
  }
 ],
 "metadata": {
  "kernelspec": {
   "display_name": "syft_3.11",
   "language": "python",
   "name": "python3"
  },
  "language_info": {
   "codemirror_mode": {
    "name": "ipython",
    "version": 3
   },
   "file_extension": ".py",
   "mimetype": "text/x-python",
   "name": "python",
   "nbconvert_exporter": "python",
   "pygments_lexer": "ipython3",
   "version": "3.11.8"
  }
 },
 "nbformat": 4,
 "nbformat_minor": 2
}
