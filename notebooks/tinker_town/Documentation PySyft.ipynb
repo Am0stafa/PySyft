{
 "cells": [
  {
   "cell_type": "markdown",
   "id": "e3cfd6df",
   "metadata": {},
   "source": [
    "# PySyft\n",
    "\n",
    "The goal of PySyft is to provide a general purpose web server for remote data science. A data owner can launch one of such servers, load data into it, configure it with their definitions of “use” and “mis-use”, and empower a remote data scientist to use Syft’s Python client to study this data while being held accountable to its definition of acceptable use."
   ]
  },
  {
   "cell_type": "markdown",
   "id": "08071621",
   "metadata": {},
   "source": [
    "Note: to fully view the previous outputs of this notebook, go to `File` -> `Trust Notebook`."
   ]
  },
  {
   "cell_type": "markdown",
   "id": "89c2f99d",
   "metadata": {},
   "source": [
    "## What is a domain server?\n",
    "\n",
    "A web server, which hosts the data and manages the remote study of a data owner’s data by external data scientists. \n",
    "\n",
    "It is responsible for allowing the Data Owner to manage the data, as well as incoming requests from data scientists and for gatekeeping the data scientist’s access to data, compute, and experimental results stored within the data owner’s compute infrastructure.\n"
   ]
  },
  {
   "cell_type": "markdown",
   "id": "e1498754",
   "metadata": {},
   "source": [
    "## How is a domain server used to enable remote data science?\n",
    "\n",
    "The most simple way of performing remote data science is like a manual process for remote procedural calls:\n",
    "\n",
    "<a href=\"https://ibb.co/ydNSBJH\"><img src=\"https://i.ibb.co/djfgJy8/Fire-Shot-Capture-052-Internal-Data-Owner-Handbook-Google-Docs-docs-google-com.png\" alt=\"Fire-Shot-Capture-052-Internal-Data-Owner-Handbook-Google-Docs-docs-google-com\" border=\"0\"></a>\n",
    "\n",
    "##### Step 1\n",
    "IT Specialist launches a “high-side” domain server that is 100% walled off from the internet\n",
    "##### Step 2: \n",
    "IT Specialist launches a second “low-side” domain server that is attached to the internet.\n",
    "##### Step 3: \n",
    "Data Manager loads the “high-side” with private data.\n",
    "##### Step 4:\n",
    "Data Manager uses the “high-side” server to generate fake/mock data assets that are identical in every way possible to the real data (without actually having the real values)\n",
    "##### Step 5:\n",
    "Data Manager copies the fake/mock assets into the “low-side” server.\n",
    "##### Step 6:\n",
    "A Data Scientist is given access to the low-side domain to:\n",
    "- access the fake data assets to get an understanding of the dataset schema\n",
    "- write code to be run on private data, but test it against the fake assets\n",
    "- submit the code for review and approval by the data manager to retrieve the private result\n",
    "\n",
    "##### Step 7:\n",
    "Data Manager is responsible to check incoming code request, review and respond with the private result.\n",
    "\n",
    "Step 6 - 7 are repeated till the Data Scientist is able to complete his study of interest."
   ]
  },
  {
   "cell_type": "markdown",
   "id": "6156f3c1",
   "metadata": {},
   "source": [
    "## How to install Syft\n",
    "\n",
    "For instructions, please visit the following tutorial: \n",
    "    \n",
    "https://github.com/OpenMined/PySyft/blob/dev/notebooks/tutorials/data-scientist/01-installing-syft-client.ipynb\n",
    "\n",
    "\n",
    "For testing, installing Python 3.9+ and the latest beta version using `pip install --pre syft` should suffice.\n",
    "        "
   ]
  },
  {
   "cell_type": "markdown",
   "id": "381801b5",
   "metadata": {},
   "source": [
    "## Launching a Domain Server\n",
    "\n",
    "There are two type of possible deployments of a domain server:\n",
    "- heavy deployment which launches the domain server as a Docker container\n",
    "- light deployment which uses in-memory workers to simulate the actual web server.\n",
    "\n",
    "For testing, we will follow only the light deployment, which works  the same on all platforms, and requires only Python 3.9+ to be installed on the system. This is done as it follows:"
   ]
  },
  {
   "cell_type": "code",
   "execution_count": 1,
   "id": "bc8f3b78",
   "metadata": {},
   "outputs": [
    {
     "name": "stdout",
     "output_type": "stream",
     "text": [
      "Starting my-domain server on 0.0.0.0:8080\n",
      "SQLite Store Path:\n",
      "!open file:///tmp/6219cc7eee6f41e39a75b57b650e5051.sqlite\n",
      "\n",
      "Waiting for server to start... Done.\n"
     ]
    }
   ],
   "source": [
    "import syft as sy\n",
    "\n",
    "domain_server = sy.orchestra.launch(name=\"my-domain\", port=8080, dev_mode=False, reset=True) "
   ]
  },
  {
   "cell_type": "markdown",
   "id": "359acfb6",
   "metadata": {},
   "source": [
    "To test it works, one can login as a data owner using the default credentials:"
   ]
  },
  {
   "cell_type": "code",
   "execution_count": 2,
   "id": "af63cd9a",
   "metadata": {},
   "outputs": [
    {
     "name": "stdout",
     "output_type": "stream",
     "text": [
      "Logged into my-domain as <info@openmined.org>\n"
     ]
    }
   ],
   "source": [
    "domain_client = sy.login(port=8080, email=\"info@openmined.org\", password=\"changethis\")"
   ]
  },
  {
   "cell_type": "markdown",
   "id": "e58a52e1",
   "metadata": {},
   "source": [
    "## Access a Domain Server\n",
    "\n",
    "Accesing a domain server is as simple as logging into the domain with correct credentials. When logging in, a Python-based client is returned which enables the user to interact with the domain server, based on their access rights.\n",
    "\n",
    "For logging in, one need to know the port at which the domain server was launched, in addition to the credentials and log in as it follows:"
   ]
  },
  {
   "cell_type": "code",
   "execution_count": 3,
   "id": "faff55ff",
   "metadata": {},
   "outputs": [
    {
     "name": "stdout",
     "output_type": "stream",
     "text": [
      "Logged into my-domain as <info@openmined.org>\n"
     ]
    }
   ],
   "source": [
    "domain_client = sy.login(port=8080, email=\"info@openmined.org\", password=\"changethis\")"
   ]
  },
  {
   "cell_type": "markdown",
   "id": "f5045574",
   "metadata": {},
   "source": [
    "## Managing access to the domain server"
   ]
  },
  {
   "cell_type": "markdown",
   "id": "3c19a833",
   "metadata": {},
   "source": [
    "### Registering a Data Scientist account\n",
    "\n",
    "A data scientist account can be created by the data owner of the domain, by providing a set of credentials: \n",
    "- name\n",
    "- email\n",
    "- password\n",
    "- (optional) institution\n",
    "- (optional) website"
   ]
  },
  {
   "cell_type": "code",
   "execution_count": 4,
   "id": "3ceed285",
   "metadata": {},
   "outputs": [
    {
     "data": {
      "text/html": [
       "<div class=\"alert-success\" style=\"padding:5px;\"><strong>SyftSuccess</strong>: User successfully registered!</div><br />"
      ],
      "text/plain": [
       "<class 'syft.service.response.SyftSuccess'>: User successfully registered!"
      ]
     },
     "execution_count": 4,
     "metadata": {},
     "output_type": "execute_result"
    }
   ],
   "source": [
    "domain_client.register(\n",
    "    name=\"Jane Doe\", \n",
    "    email=\"jane@caltech.edu\", \n",
    "    password=\"abc123\"\n",
    ")"
   ]
  },
  {
   "cell_type": "markdown",
   "id": "ddf3ffb3",
   "metadata": {},
   "source": [
    "## Data on the Domain Server"
   ]
  },
  {
   "cell_type": "markdown",
   "id": "9c40ff18",
   "metadata": {},
   "source": [
    "### Uploading data to the Domain Server\n",
    "\n",
    "Creating a dataset (`sy.Dataset`) requires passing:\n",
    "- `name`, which acts as a key within datasets\n",
    "- `asset_list` containing the actual data uploaded as part of the dataset\n",
    "- (optional) `description`, which contains a short, but longer description of the dataset\n",
    "- (optional) `citation`\n",
    "- (optional) `url`\n",
    "- (optional) `contributors_list` consisting of contributors to the dataset\n",
    "\n",
    "\n",
    "For creating a asset (`sy.Asset`) requires passing:\n",
    "- `name`, which acts as a key within assets list\n",
    "- `data`, which is the private dataset\n",
    "- `mock`, which is the fake counter part of the data, as it has the same dataset schema, but does not contain any sensitive information.\n",
    "\n",
    "For creating a contributor, it requires passing:\n",
    "- `role`, usually `sy.roles.UPLOADER` or `sy.roles.EDITOR`\n",
    "- `name`\n",
    "- `email`\n",
    "The latter is usually useful for questions on the dataset."
   ]
  },
  {
   "cell_type": "code",
   "execution_count": 5,
   "id": "fb8ca5e2",
   "metadata": {},
   "outputs": [],
   "source": [
    "# An example creating a dataset\n",
    "\n",
    "import numpy as np \n",
    "\n",
    "dataset = sy.Dataset(\n",
    "    name=\"my dataset\",\n",
    "    description=\"description of the dataset\",\n",
    "    asset_list=[\n",
    "        sy.Asset(\n",
    "            name=\"my asset\",\n",
    "            data=np.array([1,2,3]),\n",
    "            mock=np.array([1,1,1])\n",
    "    )]\n",
    ")\n",
    "\n",
    "# Optional, one could add contributors\n",
    "dataset.add_contributor(\n",
    "    role=sy.roles.UPLOADER, \n",
    "    name=\"Andrew\",\n",
    "    email=\"andrew@gmail.com\"\n",
    ")"
   ]
  },
  {
   "cell_type": "markdown",
   "id": "57170420",
   "metadata": {},
   "source": [
    "In the case where no mock is available, the mock can be passed as an empty object:"
   ]
  },
  {
   "cell_type": "code",
   "execution_count": 6,
   "id": "5a4db15e",
   "metadata": {},
   "outputs": [],
   "source": [
    "dataset.add_asset(\n",
    "    sy.Asset(\n",
    "        name=\"my asset without mock\",\n",
    "        data=np.array([1,2,3]),\n",
    "        mock=sy.ActionObject.empty()\n",
    "    )\n",
    ")"
   ]
  },
  {
   "cell_type": "markdown",
   "id": "52caf4b4",
   "metadata": {},
   "source": [
    "Uploading a dataset only requires running the following:"
   ]
  },
  {
   "cell_type": "code",
   "execution_count": 7,
   "id": "5f7ea338",
   "metadata": {},
   "outputs": [
    {
     "name": "stderr",
     "output_type": "stream",
     "text": [
      "  0%|                                                     | 0/2 [00:00<?, ?it/s]"
     ]
    },
    {
     "name": "stdout",
     "output_type": "stream",
     "text": [
      "Uploading: my asset\n"
     ]
    },
    {
     "name": "stderr",
     "output_type": "stream",
     "text": [
      "100%|█████████████████████████████████████████████| 2/2 [00:00<00:00,  4.31it/s]\n"
     ]
    },
    {
     "name": "stdout",
     "output_type": "stream",
     "text": [
      "Uploading: my asset without mock\n"
     ]
    },
    {
     "data": {
      "text/html": [
       "<div class=\"alert-success\" style=\"padding:5px;\"><strong>SyftSuccess</strong>: Dataset Added</div><br />"
      ],
      "text/plain": [
       "<class 'syft.service.response.SyftSuccess'>: Dataset Added"
      ]
     },
     "execution_count": 7,
     "metadata": {},
     "output_type": "execute_result"
    }
   ],
   "source": [
    "domain_client.upload_dataset(dataset)"
   ]
  },
  {
   "cell_type": "markdown",
   "id": "1a00a99c",
   "metadata": {},
   "source": [
    "### Finding data on the Domain Server\n",
    "\n",
    "To retrieve datasets that are uploaded to a Domain Server, one could do:"
   ]
  },
  {
   "cell_type": "code",
   "execution_count": 8,
   "id": "c7a14a1c",
   "metadata": {},
   "outputs": [
    {
     "data": {
      "text/html": [
       "\n",
       "                <style>\n",
       "                .collection-header {color: #464158;}\n",
       "                </style>\n",
       "                <div class='collection-header'>\n",
       "                    <h3>Dataset List</h3>\n",
       "                </div>\n",
       "                <br>\n",
       "                <style>\n",
       ".itables table {\n",
       "    margin: 0 auto;\n",
       "    float: left;\n",
       "    color: #534F64;\n",
       "}\n",
       ".itables table th {color: #2E2B3B;}\n",
       "</style>\n",
       "<div class=\"itables\">\n",
       "<table id=\"f9d16854-7460-4798-9dbc-a7d89fb3d7de\" class=\"display nowrap\"style=\"table-layout:auto;width:auto;margin:auto;caption-side:bottom\"><thead>\n",
       "    <tr style=\"text-align: right;\">\n",
       "      \n",
       "      <th>id</th>\n",
       "      <th>name</th>\n",
       "      <th>url</th>\n",
       "    </tr>\n",
       "  </thead><tbody><tr><td>Loading... (need <a href=https://mwouts.github.io/itables/troubleshooting.html>help</a>?)</td></tr></tbody></table>\n",
       "<link rel=\"stylesheet\" type=\"text/css\" href=\"https://cdn.datatables.net/1.13.1/css/jquery.dataTables.min.css\">\n",
       "<script type=\"module\">\n",
       "    // Import jquery and DataTable\n",
       "    import 'https://code.jquery.com/jquery-3.6.0.min.js';\n",
       "    import dt from 'https://cdn.datatables.net/1.12.1/js/jquery.dataTables.mjs';\n",
       "    dt($);\n",
       "\n",
       "    // Define the table data\n",
       "    const data = [[\"f1c1...383\", \"my dataset\", \"None\"]];\n",
       "\n",
       "    // Define the dt_args\n",
       "    let dt_args = {\"order\": [], \"dom\": \"t\"};\n",
       "    dt_args[\"data\"] = data;\n",
       "\n",
       "    $(document).ready(function () {\n",
       "        \n",
       "        $('#f9d16854-7460-4798-9dbc-a7d89fb3d7de').DataTable(dt_args);\n",
       "    });\n",
       "</script>\n",
       "</div>\n"
      ],
      "text/plain": [
       "<syft.client.api.APIModule at 0x7fee0f7623a0>"
      ]
     },
     "execution_count": 8,
     "metadata": {},
     "output_type": "execute_result"
    }
   ],
   "source": [
    "datasets = domain_client.datasets\n",
    "datasets"
   ]
  },
  {
   "cell_type": "markdown",
   "id": "0fe82ef7",
   "metadata": {},
   "source": [
    "Similarly, one can search for a specific dataset using `.search()`:"
   ]
  },
  {
   "cell_type": "code",
   "execution_count": 9,
   "id": "73fb2254",
   "metadata": {},
   "outputs": [
    {
     "data": {
      "text/html": [
       "\n",
       "                <style>\n",
       "                .collection-header {color: #464158;}\n",
       "                </style>\n",
       "                <div class='collection-header'>\n",
       "                    <h3>Dataset List</h3>\n",
       "                </div>\n",
       "                <br>\n",
       "                <style>\n",
       ".itables table {\n",
       "    margin: 0 auto;\n",
       "    float: left;\n",
       "    color: #534F64;\n",
       "}\n",
       ".itables table th {color: #2E2B3B;}\n",
       "</style>\n",
       "<div class=\"itables\">\n",
       "<table id=\"f03728a4-5f9c-4f64-b743-f0f8220be0aa\" class=\"display nowrap\"style=\"table-layout:auto;width:auto;margin:auto;caption-side:bottom\"><thead>\n",
       "    <tr style=\"text-align: right;\">\n",
       "      \n",
       "      <th>id</th>\n",
       "      <th>name</th>\n",
       "      <th>url</th>\n",
       "    </tr>\n",
       "  </thead><tbody><tr><td>Loading... (need <a href=https://mwouts.github.io/itables/troubleshooting.html>help</a>?)</td></tr></tbody></table>\n",
       "<link rel=\"stylesheet\" type=\"text/css\" href=\"https://cdn.datatables.net/1.13.1/css/jquery.dataTables.min.css\">\n",
       "<script type=\"module\">\n",
       "    // Import jquery and DataTable\n",
       "    import 'https://code.jquery.com/jquery-3.6.0.min.js';\n",
       "    import dt from 'https://cdn.datatables.net/1.12.1/js/jquery.dataTables.mjs';\n",
       "    dt($);\n",
       "\n",
       "    // Define the table data\n",
       "    const data = [[\"f1c1...383\", \"my dataset\", \"None\"]];\n",
       "\n",
       "    // Define the dt_args\n",
       "    let dt_args = {\"order\": [], \"dom\": \"t\"};\n",
       "    dt_args[\"data\"] = data;\n",
       "\n",
       "    $(document).ready(function () {\n",
       "        \n",
       "        $('#f03728a4-5f9c-4f64-b743-f0f8220be0aa').DataTable(dt_args);\n",
       "    });\n",
       "</script>\n",
       "</div>\n"
      ],
      "text/plain": [
       "[syft.service.dataset.dataset.Dataset]"
      ]
     },
     "execution_count": 9,
     "metadata": {},
     "output_type": "execute_result"
    }
   ],
   "source": [
    "datasets.search('my')"
   ]
  },
  {
   "cell_type": "markdown",
   "id": "3e6a28ac",
   "metadata": {},
   "source": [
    "### Understanding the Dataset Object"
   ]
  },
  {
   "cell_type": "markdown",
   "id": "6ac56a33",
   "metadata": {},
   "source": [
    "PySyft library provides flexibility so that data owners can group together assets into a single dataset. \n",
    "\n",
    "As such, a dataset (`sy.Dataset`) is a collection of assets, and each asset is a singular object which holds the data. \n",
    "\n",
    "For example, one can add the same data in multiple formats, but use a single uploaded dataset, with more assets (one asset for each format of the data). Similarly, one can split the dataset into testing / training / validation, and use assets to mark this."
   ]
  },
  {
   "cell_type": "markdown",
   "id": "17668d59",
   "metadata": {},
   "source": [
    "To refer to a specific dataset, you can use `.get_by_id(..)` or by indexing within the list."
   ]
  },
  {
   "cell_type": "code",
   "execution_count": 10,
   "id": "88f8ec17",
   "metadata": {},
   "outputs": [
    {
     "data": {
      "text/html": [
       "\n",
       "            <style>\n",
       "            .syft-dataset {color: #464158;}\n",
       "            </style>\n",
       "            <div class='syft-dataset'><h3>my dataset</h3><p>description of the dataset</p><p><strong>Uploaded by: </strong>Andrew</p><p><strong>Created on: </strong>2023-06-15 08:16:31</p><p><strong>URL: </strong><a href=\"None\">None</a></p><p><strong>Contributors: </strong> to see full details call dataset.contributors</p>\n",
       "                <style>\n",
       "                .collection-header {color: #464158;}\n",
       "                </style>\n",
       "                <div class='collection-header'>\n",
       "                    <h3>Asset List</h3>\n",
       "                </div>\n",
       "                <br>\n",
       "                <style>\n",
       ".itables table {\n",
       "    margin: 0 auto;\n",
       "    float: left;\n",
       "    color: #534F64;\n",
       "}\n",
       ".itables table th {color: #2E2B3B;}\n",
       "</style>\n",
       "<div class=\"itables\">\n",
       "<table id=\"8db4eec9-23ad-4f39-a8d7-a9b7d28183d4\" class=\"display nowrap\"style=\"table-layout:auto;width:auto;margin:auto;caption-side:bottom\"><thead>\n",
       "    <tr style=\"text-align: right;\">\n",
       "      \n",
       "      <th>id</th>\n",
       "      <th>name</th>\n",
       "      <th>shape</th>\n",
       "    </tr>\n",
       "  </thead><tbody><tr><td>Loading... (need <a href=https://mwouts.github.io/itables/troubleshooting.html>help</a>?)</td></tr></tbody></table>\n",
       "<link rel=\"stylesheet\" type=\"text/css\" href=\"https://cdn.datatables.net/1.13.1/css/jquery.dataTables.min.css\">\n",
       "<script type=\"module\">\n",
       "    // Import jquery and DataTable\n",
       "    import 'https://code.jquery.com/jquery-3.6.0.min.js';\n",
       "    import dt from 'https://cdn.datatables.net/1.12.1/js/jquery.dataTables.mjs';\n",
       "    dt($);\n",
       "\n",
       "    // Define the table data\n",
       "    const data = [[\"96fb...2f1\", \"my asset\", \"(3,)\"], [\"b8ed...502\", \"my asset without mock\", \"None\"]];\n",
       "\n",
       "    // Define the dt_args\n",
       "    let dt_args = {\"order\": [], \"dom\": \"t\"};\n",
       "    dt_args[\"data\"] = data;\n",
       "\n",
       "    $(document).ready(function () {\n",
       "        \n",
       "        $('#8db4eec9-23ad-4f39-a8d7-a9b7d28183d4').DataTable(dt_args);\n",
       "    });\n",
       "</script>\n",
       "</div>\n",
       "</div>"
      ],
      "text/markdown": [
       "Syft Dataset: my dataset\n",
       "\n",
       "Assets:\n",
       "\n",
       "\tmy asset: None\n",
       "\n",
       "\tmy asset without mock: None\n",
       "\n",
       "Description: \n",
       "\n",
       "description of the dataset\n",
       "\n"
      ],
      "text/plain": [
       "syft.service.dataset.dataset.Dataset"
      ]
     },
     "execution_count": 10,
     "metadata": {},
     "output_type": "execute_result"
    }
   ],
   "source": [
    "dataset = datasets[0]\n",
    "dataset"
   ]
  },
  {
   "cell_type": "markdown",
   "id": "80c286a6",
   "metadata": {},
   "source": [
    "To retrieve a specific asset, you can use the name of the asset:"
   ]
  },
  {
   "cell_type": "code",
   "execution_count": 11,
   "id": "c9653392",
   "metadata": {},
   "outputs": [
    {
     "data": {
      "text/html": [
       "\n",
       "            <style>\n",
       "            .syft-asset {color: #464158;}\n",
       "            </style>\n",
       "            <div class=\"syft-asset\"><h3>my asset</h3><p>None</p><p><strong>Asset ID: </strong>96fb0250fbfc4ff780d1362f3748f2f1</p><p><strong>Action Object ID: </strong>7fdc77927ef448fb9f864eab243c54c5</p><p><strong>Created on: </strong>2023-06-15 08:16:31</p><p><strong>Data:</strong></p><style>\n",
       ".itables table {\n",
       "    margin: 0 auto;\n",
       "    float: left;\n",
       "    color: #534F64;\n",
       "}\n",
       ".itables table th {color: #2E2B3B;}\n",
       "</style>\n",
       "<div class=\"itables\">\n",
       "<table id=\"687a4303-55ca-41be-97a9-790c142c1e35\" class=\"display nowrap\"style=\"table-layout:auto;width:auto;margin:auto;caption-side:bottom\"><thead>\n",
       "    <tr style=\"text-align: right;\">\n",
       "      \n",
       "      <th>0</th>\n",
       "    </tr>\n",
       "  </thead><tbody><tr><td>Loading... (need <a href=https://mwouts.github.io/itables/troubleshooting.html>help</a>?)</td></tr></tbody></table>\n",
       "<link rel=\"stylesheet\" type=\"text/css\" href=\"https://cdn.datatables.net/1.13.1/css/jquery.dataTables.min.css\">\n",
       "<script type=\"module\">\n",
       "    // Import jquery and DataTable\n",
       "    import 'https://code.jquery.com/jquery-3.6.0.min.js';\n",
       "    import dt from 'https://cdn.datatables.net/1.12.1/js/jquery.dataTables.mjs';\n",
       "    dt($);\n",
       "\n",
       "    // Define the table data\n",
       "    const data = [[1], [2], [3]];\n",
       "\n",
       "    // Define the dt_args\n",
       "    let dt_args = {\"order\": [], \"dom\": \"t\"};\n",
       "    dt_args[\"data\"] = data;\n",
       "\n",
       "    $(document).ready(function () {\n",
       "        \n",
       "        $('#687a4303-55ca-41be-97a9-790c142c1e35').DataTable(dt_args);\n",
       "    });\n",
       "</script>\n",
       "</div>\n",
       "<p><strong>Mock Data:</strong></p><style>\n",
       ".itables table {\n",
       "    margin: 0 auto;\n",
       "    float: left;\n",
       "    color: #534F64;\n",
       "}\n",
       ".itables table th {color: #2E2B3B;}\n",
       "</style>\n",
       "<div class=\"itables\">\n",
       "<table id=\"8e39c1a7-ec46-460a-aa1e-419f810a4ff7\" class=\"display nowrap\"style=\"table-layout:auto;width:auto;margin:auto;caption-side:bottom\"><thead>\n",
       "    <tr style=\"text-align: right;\">\n",
       "      \n",
       "      <th>0</th>\n",
       "    </tr>\n",
       "  </thead><tbody><tr><td>Loading... (need <a href=https://mwouts.github.io/itables/troubleshooting.html>help</a>?)</td></tr></tbody></table>\n",
       "<link rel=\"stylesheet\" type=\"text/css\" href=\"https://cdn.datatables.net/1.13.1/css/jquery.dataTables.min.css\">\n",
       "<script type=\"module\">\n",
       "    // Import jquery and DataTable\n",
       "    import 'https://code.jquery.com/jquery-3.6.0.min.js';\n",
       "    import dt from 'https://cdn.datatables.net/1.12.1/js/jquery.dataTables.mjs';\n",
       "    dt($);\n",
       "\n",
       "    // Define the table data\n",
       "    const data = [[1], [1], [1]];\n",
       "\n",
       "    // Define the dt_args\n",
       "    let dt_args = {\"order\": [], \"dom\": \"t\"};\n",
       "    dt_args[\"data\"] = data;\n",
       "\n",
       "    $(document).ready(function () {\n",
       "        \n",
       "        $('#8e39c1a7-ec46-460a-aa1e-419f810a4ff7').DataTable(dt_args);\n",
       "    });\n",
       "</script>\n",
       "</div>\n",
       "</div>"
      ],
      "text/markdown": [
       "```python\n",
       "Asset: my asset\n",
       "Pointer Id: 7fdc77927ef448fb9f864eab243c54c5\n",
       "Description: None\n",
       "Total Data Subjects: 0\n",
       "Shape: (3,)\n",
       "Contributors: 0\n",
       "\n",
       "```"
      ],
      "text/plain": [
       "syft.service.dataset.dataset.Asset"
      ]
     },
     "execution_count": 11,
     "metadata": {},
     "output_type": "execute_result"
    }
   ],
   "source": [
    "asset_my = dataset.assets['my asset']\n",
    "asset_my"
   ]
  },
  {
   "cell_type": "markdown",
   "id": "9abd6b5f",
   "metadata": {},
   "source": [
    "Each asset is a two-sided object that secures the private data:\n",
    "- `asset` or `asset.pointer` points to the private data and it can be passed in computations, but cannot be accessed directly by anyone except Data Manager\n",
    "-`asset.mock` is a `Pandas DataFrame` containing the fake counter part of the data, which can be safely used for testing code\n",
    "-`asset.data` is the actual private data, which is unaccesible by the Data Scientist"
   ]
  },
  {
   "cell_type": "code",
   "execution_count": 12,
   "id": "77cd2f13",
   "metadata": {},
   "outputs": [
    {
     "data": {
      "text/html": [
       "\n",
       "            <style>\n",
       "            .syft-asset {color: #464158;}\n",
       "            </style>\n",
       "            <div class=\"syft-asset\"><h3>my asset</h3><p>None</p><p><strong>Asset ID: </strong>96fb0250fbfc4ff780d1362f3748f2f1</p><p><strong>Action Object ID: </strong>7fdc77927ef448fb9f864eab243c54c5</p><p><strong>Created on: </strong>2023-06-15 08:16:31</p><p><strong>Data:</strong></p><style>\n",
       ".itables table {\n",
       "    margin: 0 auto;\n",
       "    float: left;\n",
       "    color: #534F64;\n",
       "}\n",
       ".itables table th {color: #2E2B3B;}\n",
       "</style>\n",
       "<div class=\"itables\">\n",
       "<table id=\"e61f11fe-864f-4466-a6fb-378d8846040a\" class=\"display nowrap\"style=\"table-layout:auto;width:auto;margin:auto;caption-side:bottom\"><thead>\n",
       "    <tr style=\"text-align: right;\">\n",
       "      \n",
       "      <th>0</th>\n",
       "    </tr>\n",
       "  </thead><tbody><tr><td>Loading... (need <a href=https://mwouts.github.io/itables/troubleshooting.html>help</a>?)</td></tr></tbody></table>\n",
       "<link rel=\"stylesheet\" type=\"text/css\" href=\"https://cdn.datatables.net/1.13.1/css/jquery.dataTables.min.css\">\n",
       "<script type=\"module\">\n",
       "    // Import jquery and DataTable\n",
       "    import 'https://code.jquery.com/jquery-3.6.0.min.js';\n",
       "    import dt from 'https://cdn.datatables.net/1.12.1/js/jquery.dataTables.mjs';\n",
       "    dt($);\n",
       "\n",
       "    // Define the table data\n",
       "    const data = [[1], [2], [3]];\n",
       "\n",
       "    // Define the dt_args\n",
       "    let dt_args = {\"order\": [], \"dom\": \"t\"};\n",
       "    dt_args[\"data\"] = data;\n",
       "\n",
       "    $(document).ready(function () {\n",
       "        \n",
       "        $('#e61f11fe-864f-4466-a6fb-378d8846040a').DataTable(dt_args);\n",
       "    });\n",
       "</script>\n",
       "</div>\n",
       "<p><strong>Mock Data:</strong></p><style>\n",
       ".itables table {\n",
       "    margin: 0 auto;\n",
       "    float: left;\n",
       "    color: #534F64;\n",
       "}\n",
       ".itables table th {color: #2E2B3B;}\n",
       "</style>\n",
       "<div class=\"itables\">\n",
       "<table id=\"8b4de4e7-00c2-41e7-b305-2349b84a7cea\" class=\"display nowrap\"style=\"table-layout:auto;width:auto;margin:auto;caption-side:bottom\"><thead>\n",
       "    <tr style=\"text-align: right;\">\n",
       "      \n",
       "      <th>0</th>\n",
       "    </tr>\n",
       "  </thead><tbody><tr><td>Loading... (need <a href=https://mwouts.github.io/itables/troubleshooting.html>help</a>?)</td></tr></tbody></table>\n",
       "<link rel=\"stylesheet\" type=\"text/css\" href=\"https://cdn.datatables.net/1.13.1/css/jquery.dataTables.min.css\">\n",
       "<script type=\"module\">\n",
       "    // Import jquery and DataTable\n",
       "    import 'https://code.jquery.com/jquery-3.6.0.min.js';\n",
       "    import dt from 'https://cdn.datatables.net/1.12.1/js/jquery.dataTables.mjs';\n",
       "    dt($);\n",
       "\n",
       "    // Define the table data\n",
       "    const data = [[1], [1], [1]];\n",
       "\n",
       "    // Define the dt_args\n",
       "    let dt_args = {\"order\": [], \"dom\": \"t\"};\n",
       "    dt_args[\"data\"] = data;\n",
       "\n",
       "    $(document).ready(function () {\n",
       "        \n",
       "        $('#8b4de4e7-00c2-41e7-b305-2349b84a7cea').DataTable(dt_args);\n",
       "    });\n",
       "</script>\n",
       "</div>\n",
       "</div>"
      ],
      "text/markdown": [
       "```python\n",
       "Asset: my asset\n",
       "Pointer Id: 7fdc77927ef448fb9f864eab243c54c5\n",
       "Description: None\n",
       "Total Data Subjects: 0\n",
       "Shape: (3,)\n",
       "Contributors: 0\n",
       "\n",
       "```"
      ],
      "text/plain": [
       "syft.service.dataset.dataset.Asset"
      ]
     },
     "execution_count": 12,
     "metadata": {},
     "output_type": "execute_result"
    }
   ],
   "source": [
    "asset = dataset.assets[0]\n",
    "asset"
   ]
  },
  {
   "cell_type": "markdown",
   "id": "7db46ed0",
   "metadata": {},
   "source": [
    "The `mock` is useful for testing your code locally before submission."
   ]
  },
  {
   "cell_type": "code",
   "execution_count": 13,
   "id": "40fe27b5",
   "metadata": {},
   "outputs": [
    {
     "data": {
      "text/plain": [
       "array([1, 1, 1])"
      ]
     },
     "execution_count": 13,
     "metadata": {},
     "output_type": "execute_result"
    }
   ],
   "source": [
    "mock = dataset.assets[0].mock\n",
    "mock"
   ]
  },
  {
   "cell_type": "markdown",
   "id": "242699d6",
   "metadata": {},
   "source": [
    "## Interaction: data owners <> data scientists\n",
    "\n",
    "The interaction between data owners and data scientists are structured in the following manner:\n",
    "1. Data Scientist creates a project, under which he/she submits a series of code requests\n",
    "2. Data Owner inspect incoming requests and chooses to:\n",
    "    - approve and respond with the result released on the private data\n",
    "    - deny and provide a reasoning for denial\n",
    "3. Data Scientist inspects the status of his/her requests and download the private result\n",
    "\n",
    "Before moving forward, let's use two domain clients, to refer to the steps done by the DO vs DS:\n",
    "- `domain_client`, as we logged in previously, is the client used by the Data Owner\n",
    "- `ds_client`, as shown below, is the client used by the Data Scientist"
   ]
  },
  {
   "cell_type": "code",
   "execution_count": 14,
   "id": "f786b8d2",
   "metadata": {},
   "outputs": [
    {
     "name": "stdout",
     "output_type": "stream",
     "text": [
      "Logged into my-domain as <jane@caltech.edu>\n"
     ]
    }
   ],
   "source": [
    "ds_client = sy.login(port=8080, email=\"jane@caltech.edu\", password=\"abc123\")"
   ]
  },
  {
   "cell_type": "markdown",
   "id": "78a7deda",
   "metadata": {},
   "source": [
    "### Creating Projects\n",
    "\n",
    "A project (`sy.Project`) sets the scope of on-going collaboration between data owners and data scientists and it has the following fields:\n",
    "- `name`\n",
    "- `description`\n",
    "- `ds_client` - the client who is creating this project, in this case, the Data Scientist's client\n",
    "\n",
    "As it is an `on-going` collaboration, requests can be added before the project starts or while it is on-going. "
   ]
  },
  {
   "cell_type": "code",
   "execution_count": 18,
   "id": "975b79ec",
   "metadata": {},
   "outputs": [
    {
     "data": {
      "text/markdown": [
       "```python\n",
       "class ProjectSubmit:\n",
       "  id: str = 1e6ca32a1cfc43078240451098eb6da7\n",
       "  name: str = \"research on algorithmic fairness\"\n",
       "  description: str = \"Exploration of the algorithmic outcomes of algorithm A\"\n",
       "  created_by: str = \"jane@caltech.edu\"\n",
       "\n",
       "```"
      ],
      "text/plain": [
       "syft.service.project.project.ProjectSubmit"
      ]
     },
     "execution_count": 18,
     "metadata": {},
     "output_type": "execute_result"
    }
   ],
   "source": [
    "project = sy.Project(\n",
    "    name=\"research on algorithmic fairness\",\n",
    "    description=\"Exploration of the algorithmic outcomes of algorithm A\",\n",
    "    members=[ds_client]\n",
    ")\n",
    "\n",
    "project"
   ]
  },
  {
   "cell_type": "markdown",
   "id": "d8663769",
   "metadata": {},
   "source": [
    "##### NOTE: Before submitting any request, a project must be started.\n",
    "\n",
    "However, the project above only exists locally now, as a way for us to check before submitting it to the domain server.\n",
    "\n",
    "To start a project, you simply do:"
   ]
  },
  {
   "cell_type": "code",
   "execution_count": 19,
   "id": "8b018847",
   "metadata": {},
   "outputs": [
    {
     "data": {
      "text/markdown": [
       "```python\n",
       "class Project:\n",
       "  id: str = 1e6ca32a1cfc43078240451098eb6da7\n",
       "  name: str = \"research on algorithmic fairness\"\n",
       "  description: str = \"Exploration of the algorithmic outcomes of algorithm A\"\n",
       "  created_by: str = \"jane@caltech.edu\"\n",
       "  events: str = []\n",
       "\n",
       "```"
      ],
      "text/plain": [
       "syft.service.project.project.Project"
      ]
     },
     "execution_count": 19,
     "metadata": {},
     "output_type": "execute_result"
    }
   ],
   "source": [
    "project_ongoing = project.start()\n",
    "project_ongoing"
   ]
  },
  {
   "cell_type": "markdown",
   "id": "389983fa",
   "metadata": {},
   "source": [
    "### Viewing projects on a Domain Server\n",
    "\n",
    "Projects can be accessed by both domain owner and data scientist. However, the data scientist will naturally only have access to see the projects that they have submitted and not other data scientists' projects. \n",
    "\n",
    "Let's use the Data Owner client here to get all projects."
   ]
  },
  {
   "cell_type": "code",
   "execution_count": 20,
   "id": "aff0b42b",
   "metadata": {},
   "outputs": [
    {
     "data": {
      "text/html": [
       "\n",
       "                <style>\n",
       "                .collection-header {color: #464158;}\n",
       "                </style>\n",
       "                <div class='collection-header'>\n",
       "                    <h3>Project List</h3>\n",
       "                </div>\n",
       "                <br>\n",
       "                <style>\n",
       ".itables table {\n",
       "    margin: 0 auto;\n",
       "    float: left;\n",
       "    color: #534F64;\n",
       "}\n",
       ".itables table th {color: #2E2B3B;}\n",
       "</style>\n",
       "<div class=\"itables\">\n",
       "<table id=\"d984a3a4-a4c5-4d3d-b5d1-182f27792c7d\" class=\"display nowrap\"style=\"table-layout:auto;width:auto;margin:auto;caption-side:bottom\"><thead>\n",
       "    <tr style=\"text-align: right;\">\n",
       "      \n",
       "      <th>id</th>\n",
       "      <th>name</th>\n",
       "      <th>description</th>\n",
       "      <th>created_by</th>\n",
       "      <th>events</th>\n",
       "    </tr>\n",
       "  </thead><tbody><tr><td>Loading... (need <a href=https://mwouts.github.io/itables/troubleshooting.html>help</a>?)</td></tr></tbody></table>\n",
       "<link rel=\"stylesheet\" type=\"text/css\" href=\"https://cdn.datatables.net/1.13.1/css/jquery.dataTables.min.css\">\n",
       "<script type=\"module\">\n",
       "    // Import jquery and DataTable\n",
       "    import 'https://code.jquery.com/jquery-3.6.0.min.js';\n",
       "    import dt from 'https://cdn.datatables.net/1.12.1/js/jquery.dataTables.mjs';\n",
       "    dt($);\n",
       "\n",
       "    // Define the table data\n",
       "    const data = [[\"1e6c...da7\", \"research on algorithmic fairness\", \"Exploration of the algorithmic outcomes of algorithm A\", \"jane@caltech.edu\", \"[]\"]];\n",
       "\n",
       "    // Define the dt_args\n",
       "    let dt_args = {\"order\": [], \"dom\": \"t\"};\n",
       "    dt_args[\"data\"] = data;\n",
       "\n",
       "    $(document).ready(function () {\n",
       "        \n",
       "        $('#d984a3a4-a4c5-4d3d-b5d1-182f27792c7d').DataTable(dt_args);\n",
       "    });\n",
       "</script>\n",
       "</div>\n"
      ],
      "text/plain": [
       "<syft.client.api.APIModule at 0x7fee0f762d00>"
      ]
     },
     "execution_count": 20,
     "metadata": {},
     "output_type": "execute_result"
    }
   ],
   "source": [
    "domain_client.projects"
   ]
  },
  {
   "cell_type": "markdown",
   "id": "124ff1cc",
   "metadata": {},
   "source": [
    "Similarly to the datasets, you can index into the list above to select a specific project or use `get_project` and passing in the name."
   ]
  },
  {
   "cell_type": "code",
   "execution_count": 24,
   "id": "f245b04a",
   "metadata": {},
   "outputs": [
    {
     "data": {
      "text/markdown": [
       "```python\n",
       "class Project:\n",
       "  id: str = 1e6ca32a1cfc43078240451098eb6da7\n",
       "  name: str = \"research on algorithmic fairness\"\n",
       "  description: str = \"Exploration of the algorithmic outcomes of algorithm A\"\n",
       "  created_by: str = \"jane@caltech.edu\"\n",
       "  events: str = []\n",
       "\n",
       "```"
      ],
      "text/plain": [
       "syft.service.project.project.Project"
      ]
     },
     "execution_count": 24,
     "metadata": {},
     "output_type": "execute_result"
    }
   ],
   "source": [
    "project_research = domain_client.get_project('research on algorithmic fairness')\n",
    "project_research"
   ]
  },
  {
   "cell_type": "markdown",
   "id": "3cff790e",
   "metadata": {},
   "source": [
    "### Requests within projects\n",
    "\n",
    "As mentioned before, the data scientist can attach multiple requests under a project.\n",
    "\n",
    "#### How to create a code request as a Data Scientist\n",
    "\n",
    "A `sy.Request` contains a specific change requested by the Data Scientist and the object to which the change corresponds to.\n",
    "\n",
    "The most common type of request is a user code execution request, whereas the object is a code snippet - a `sy.UserCode`, which is requested to run on the private data, with specific contrainst defined via decorators, namely `InputPolicy` and `OutputPolicy`.\n",
    "\n",
    "Let's do the following steps:\n",
    "- create a Python method `compute_sum` we would like to run against private data\n",
    "- create a Syft Object that wraps `compute_sum` which enforces the way the code can be executed (for the safety of the private data)\n",
    "- test the execution of the syft object against the most data\n",
    "\n",
    "##### Defining a Python method"
   ]
  },
  {
   "cell_type": "code",
   "execution_count": 27,
   "id": "d80abcc5",
   "metadata": {},
   "outputs": [
    {
     "data": {
      "text/plain": [
       "3"
      ]
     },
     "execution_count": 27,
     "metadata": {},
     "output_type": "execute_result"
    }
   ],
   "source": [
    "def compute_sum(data):\n",
    "    return data.sum()\n",
    "\n",
    "# Running on the fake dataframe for testing\n",
    "compute_sum(mock)"
   ]
  },
  {
   "cell_type": "markdown",
   "id": "88a4bffc",
   "metadata": {},
   "source": [
    "##### Add Syft Function wrapper and Policies\n",
    "To convert the Python method into a Syft Object, we add a `sy.syft_function` annotation which are rules set by the data owner on what data can go IN and what data can come OUT of custom code. These policies basically pair up the code submission with the dataset asset it was intended for.\n",
    "- `input_policy` ensures that the system will only allow the code to run on the specified asset from the dataset (using a pre-defined policy as `ExactMatch(data=asset)`). This means that an approved code cannot be run on any asset at random.\n",
    "- `output_policy` can maintain state, meaning they can store metadata between execution and useful for limiting how many times a method can be run. The most common policy is single execution (`sy.SingleExecutionExactOutput`).\n",
    "\n",
    "If we want to enforce using an exact asset and single execution, we will define it as:"
   ]
  },
  {
   "cell_type": "code",
   "execution_count": 28,
   "id": "46630d08",
   "metadata": {},
   "outputs": [],
   "source": [
    "@sy.syft_function(input_policy=sy.ExactMatch(data=asset),\n",
    "                  output_policy=sy.SingleExecutionExactOutput())\n",
    "def compute_sum(data):\n",
    "    return data.sum()"
   ]
  },
  {
   "cell_type": "markdown",
   "id": "776cb2c6",
   "metadata": {},
   "source": [
    "Or even simpler, using a predefined annotation:"
   ]
  },
  {
   "cell_type": "code",
   "execution_count": null,
   "id": "91661c6c",
   "metadata": {},
   "outputs": [],
   "source": [
    "@sy.syft_single_use_function():\n",
    "def compute_sum(data):\n",
    "    return data.sum()"
   ]
  },
  {
   "cell_type": "markdown",
   "id": "ca2718f1",
   "metadata": {},
   "source": [
    "##### How to send a code request as a Data Scientist\n",
    "Once the cells above were run, the syft object `compute_sum` is available for submission, requiring only the project reference and the Data Scientist's client as:"
   ]
  },
  {
   "cell_type": "code",
   "execution_count": 31,
   "id": "3c2d69a1",
   "metadata": {},
   "outputs": [
    {
     "data": {
      "text/html": [
       "<div class=\"alert-success\" style=\"padding:5px;\"><strong>SyftSuccess</strong>: Request added successfully</div><br />"
      ],
      "text/plain": [
       "<class 'syft.service.response.SyftSuccess'>: Request added successfully"
      ]
     },
     "execution_count": 31,
     "metadata": {},
     "output_type": "execute_result"
    }
   ],
   "source": [
    "project_research.create_code_request(\n",
    "    compute_sum, \n",
    "    ds_client)"
   ]
  },
  {
   "cell_type": "markdown",
   "id": "58834f95",
   "metadata": {},
   "source": [
    "##### View requests within project\n",
    "To view the requests which are part of the project, you can inspect:"
   ]
  },
  {
   "cell_type": "code",
   "execution_count": 33,
   "id": "96bb1db9",
   "metadata": {},
   "outputs": [
    {
     "data": {
      "text/html": [
       "\n",
       "                <style>\n",
       "                .collection-header {color: #464158;}\n",
       "                </style>\n",
       "                <div class='collection-header'>\n",
       "                    <h3>Request List</h3>\n",
       "                </div>\n",
       "                <br>\n",
       "                <style>\n",
       ".itables table {\n",
       "    margin: 0 auto;\n",
       "    float: left;\n",
       "    color: #534F64;\n",
       "}\n",
       ".itables table th {color: #2E2B3B;}\n",
       "</style>\n",
       "<div class=\"itables\">\n",
       "<table id=\"b8911a02-0db9-4d84-9c61-988aebc75689\" class=\"display nowrap\"style=\"table-layout:auto;width:auto;margin:auto;caption-side:bottom\"><thead>\n",
       "    <tr style=\"text-align: right;\">\n",
       "      \n",
       "      <th>id</th>\n",
       "      <th>request_time</th>\n",
       "      <th>updated_at</th>\n",
       "      <th>status</th>\n",
       "      <th>changes</th>\n",
       "      <th>requesting_user_verify_key</th>\n",
       "    </tr>\n",
       "  </thead><tbody><tr><td>Loading... (need <a href=https://mwouts.github.io/itables/troubleshooting.html>help</a>?)</td></tr></tbody></table>\n",
       "<link rel=\"stylesheet\" type=\"text/css\" href=\"https://cdn.datatables.net/1.13.1/css/jquery.dataTables.min.css\">\n",
       "<script type=\"module\">\n",
       "    // Import jquery and DataTable\n",
       "    import 'https://code.jquery.com/jquery-3.6.0.min.js';\n",
       "    import dt from 'https://cdn.datatables.net/1.12.1/js/jquery.dataTables.mjs';\n",
       "    dt($);\n",
       "\n",
       "    // Define the table data\n",
       "    const data = [[\"9b27...89a\", \"2023-06-15 08:52:04\", \"None\", \"RequestStatus.PENDING\", \"[syft.service.request.request.UserCodeStatusChange]\", \"89021bb071a481917e3a1b3ed42c19f3d9bb6187792b9f968543aba11d2369f4\"]];\n",
       "\n",
       "    // Define the dt_args\n",
       "    let dt_args = {\"order\": [], \"dom\": \"t\"};\n",
       "    dt_args[\"data\"] = data;\n",
       "\n",
       "    $(document).ready(function () {\n",
       "        \n",
       "        $('#b8911a02-0db9-4d84-9c61-988aebc75689').DataTable(dt_args);\n",
       "    });\n",
       "</script>\n",
       "</div>\n"
      ],
      "text/plain": [
       "[syft.service.request.request.Request]"
      ]
     },
     "execution_count": 33,
     "metadata": {},
     "output_type": "execute_result"
    }
   ],
   "source": [
    "project_research.requests"
   ]
  },
  {
   "cell_type": "markdown",
   "id": "e3fdd72e",
   "metadata": {},
   "source": [
    "To view the code reached the Domain Server, you can look at the `.code` property of the domain via the client."
   ]
  },
  {
   "cell_type": "code",
   "execution_count": 32,
   "id": "4ff8b2fa",
   "metadata": {},
   "outputs": [
    {
     "data": {
      "text/html": [
       "\n",
       "                <style>\n",
       "                .collection-header {color: #464158;}\n",
       "                </style>\n",
       "                <div class='collection-header'>\n",
       "                    <h3>UserCode List</h3>\n",
       "                </div>\n",
       "                <br>\n",
       "                <style>\n",
       ".itables table {\n",
       "    margin: 0 auto;\n",
       "    float: left;\n",
       "    color: #534F64;\n",
       "}\n",
       ".itables table th {color: #2E2B3B;}\n",
       "</style>\n",
       "<div class=\"itables\">\n",
       "<table id=\"a27a7f47-e7bf-4bb7-a727-5543889a912f\" class=\"display nowrap\"style=\"table-layout:auto;width:auto;margin:auto;caption-side:bottom\"><thead>\n",
       "    <tr style=\"text-align: right;\">\n",
       "      \n",
       "      <th>id</th>\n",
       "      <th>status.approved</th>\n",
       "      <th>service_func_name</th>\n",
       "    </tr>\n",
       "  </thead><tbody><tr><td>Loading... (need <a href=https://mwouts.github.io/itables/troubleshooting.html>help</a>?)</td></tr></tbody></table>\n",
       "<link rel=\"stylesheet\" type=\"text/css\" href=\"https://cdn.datatables.net/1.13.1/css/jquery.dataTables.min.css\">\n",
       "<script type=\"module\">\n",
       "    // Import jquery and DataTable\n",
       "    import 'https://code.jquery.com/jquery-3.6.0.min.js';\n",
       "    import dt from 'https://cdn.datatables.net/1.12.1/js/jquery.dataTables.mjs';\n",
       "    dt($);\n",
       "\n",
       "    // Define the table data\n",
       "    const data = [[\"6fef...5bc\", false, \"compute_sum\"]];\n",
       "\n",
       "    // Define the dt_args\n",
       "    let dt_args = {\"order\": [], \"dom\": \"t\"};\n",
       "    dt_args[\"data\"] = data;\n",
       "\n",
       "    $(document).ready(function () {\n",
       "        \n",
       "        $('#a27a7f47-e7bf-4bb7-a727-5543889a912f').DataTable(dt_args);\n",
       "    });\n",
       "</script>\n",
       "</div>\n"
      ],
      "text/plain": [
       "<syft.client.api.APIModule at 0x7fee0eb95790>"
      ]
     },
     "execution_count": 32,
     "metadata": {},
     "output_type": "execute_result"
    }
   ],
   "source": [
    "ds_client.code"
   ]
  },
  {
   "cell_type": "markdown",
   "id": "5f6719c8",
   "metadata": {},
   "source": [
    "##### Inspect existing code requests in a domain as a Data Owner\n",
    "\n",
    "While a Data Scientist can only see the requests within their own project, the Data Owner can see all requests across his domain.\n",
    "\n",
    "To see the requests on the domain, look at:"
   ]
  },
  {
   "cell_type": "code",
   "execution_count": 37,
   "id": "d6099dc2",
   "metadata": {},
   "outputs": [
    {
     "data": {
      "text/html": [
       "\n",
       "                <style>\n",
       "                .collection-header {color: #464158;}\n",
       "                </style>\n",
       "                <div class='collection-header'>\n",
       "                    <h3>Request List</h3>\n",
       "                </div>\n",
       "                <br>\n",
       "                <style>\n",
       ".itables table {\n",
       "    margin: 0 auto;\n",
       "    float: left;\n",
       "    color: #534F64;\n",
       "}\n",
       ".itables table th {color: #2E2B3B;}\n",
       "</style>\n",
       "<div class=\"itables\">\n",
       "<table id=\"56c67e6d-da3a-49f8-8e24-75ae61a3d70e\" class=\"display nowrap\"style=\"table-layout:auto;width:auto;margin:auto;caption-side:bottom\"><thead>\n",
       "    <tr style=\"text-align: right;\">\n",
       "      \n",
       "      <th>id</th>\n",
       "      <th>request_time</th>\n",
       "      <th>updated_at</th>\n",
       "      <th>status</th>\n",
       "      <th>changes</th>\n",
       "      <th>requesting_user_verify_key</th>\n",
       "    </tr>\n",
       "  </thead><tbody><tr><td>Loading... (need <a href=https://mwouts.github.io/itables/troubleshooting.html>help</a>?)</td></tr></tbody></table>\n",
       "<link rel=\"stylesheet\" type=\"text/css\" href=\"https://cdn.datatables.net/1.13.1/css/jquery.dataTables.min.css\">\n",
       "<script type=\"module\">\n",
       "    // Import jquery and DataTable\n",
       "    import 'https://code.jquery.com/jquery-3.6.0.min.js';\n",
       "    import dt from 'https://cdn.datatables.net/1.12.1/js/jquery.dataTables.mjs';\n",
       "    dt($);\n",
       "\n",
       "    // Define the table data\n",
       "    const data = [[\"9b27...89a\", \"2023-06-15 08:52:04\", \"None\", \"RequestStatus.PENDING\", \"[syft.service.request.request.UserCodeStatusChange]\", \"89021bb071a481917e3a1b3ed42c19f3d9bb6187792b9f968543aba11d2369f4\"]];\n",
       "\n",
       "    // Define the dt_args\n",
       "    let dt_args = {\"order\": [], \"dom\": \"t\"};\n",
       "    dt_args[\"data\"] = data;\n",
       "\n",
       "    $(document).ready(function () {\n",
       "        \n",
       "        $('#56c67e6d-da3a-49f8-8e24-75ae61a3d70e').DataTable(dt_args);\n",
       "    });\n",
       "</script>\n",
       "</div>\n"
      ],
      "text/plain": [
       "<syft.client.api.APIModule at 0x7fee0f75e340>"
      ]
     },
     "execution_count": 37,
     "metadata": {},
     "output_type": "execute_result"
    }
   ],
   "source": [
    "domain_client.requests"
   ]
  },
  {
   "cell_type": "markdown",
   "id": "cc32435c",
   "metadata": {},
   "source": [
    "#### Answering code requests as a Data Owner\n",
    "\n",
    "The Data Owner has two option:\n",
    "- answer by depositing a response computed on the private counter part of the data\n",
    "- deny, by providing a written reason\n",
    "\n",
    "Before that, the Data Owner would:\n",
    "- inspect that the code is not malicious\n",
    "- retrieve a callable reference to the method\n",
    "- run the method against mock data for safety\n",
    "- in case of approval, run the method against the private data\n",
    "- in case of denial, specify the reason"
   ]
  },
  {
   "cell_type": "code",
   "execution_count": 39,
   "id": "ee55f4b3",
   "metadata": {},
   "outputs": [
    {
     "data": {
      "text/markdown": [
       "```python\n",
       "class Request:\n",
       "  id: str = 9b27f2a9bebb4194a7dfd9efd6fac89a\n",
       "  request_time: str = 2023-06-15 08:52:04\n",
       "  updated_at: str = None\n",
       "  status: str = RequestStatus.PENDING\n",
       "  changes: str = [syft.service.request.request.UserCodeStatusChange]\n",
       "  requesting_user_verify_key: str = 89021bb071a481917e3a1b3ed42c19f3d9bb6187792b9f968543aba11d2369f4\n",
       "\n",
       "```"
      ],
      "text/plain": [
       "syft.service.request.request.Request"
      ]
     },
     "execution_count": 39,
     "metadata": {},
     "output_type": "execute_result"
    }
   ],
   "source": [
    "request = domain_client.requests[0]\n",
    "request"
   ]
  },
  {
   "cell_type": "code",
   "execution_count": 42,
   "id": "7d76ec8c",
   "metadata": {},
   "outputs": [
    {
     "name": "stdout",
     "output_type": "stream",
     "text": [
      "@sy.syft_function(input_policy=sy.ExactMatch(data=asset),\n",
      "                  output_policy=sy.SingleExecutionExactOutput())\n",
      "def compute_sum(data):\n",
      "    return data.sum()\n",
      "\n"
     ]
    }
   ],
   "source": [
    "# Inspect the code that was sent\n",
    "\n",
    "print(request.changes[0].link.code)"
   ]
  },
  {
   "cell_type": "code",
   "execution_count": 45,
   "id": "32f34e4a",
   "metadata": {},
   "outputs": [
    {
     "name": "stdout",
     "output_type": "stream",
     "text": [
      "WARNING: This code was submitted by a User and could be UNSAFE.\n"
     ]
    },
    {
     "data": {
      "text/plain": [
       "3"
      ]
     },
     "execution_count": 45,
     "metadata": {},
     "output_type": "execute_result"
    }
   ],
   "source": [
    "# Get a callable method to the function sent and run against mock data\n",
    "\n",
    "user_func = request.changes[0].link.unsafe_function\n",
    "user_func(data=mock)"
   ]
  },
  {
   "cell_type": "code",
   "execution_count": 46,
   "id": "8a924bc9",
   "metadata": {},
   "outputs": [
    {
     "ename": "AttributeError",
     "evalue": "'Request' object has no attribute 'deny'",
     "output_type": "error",
     "traceback": [
      "\u001b[0;31m---------------------------------------------------------------------------\u001b[0m",
      "\u001b[0;31mAttributeError\u001b[0m                            Traceback (most recent call last)",
      "Cell \u001b[0;32mIn[46], line 3\u001b[0m\n\u001b[1;32m      1\u001b[0m \u001b[38;5;66;03m# Denial\u001b[39;00m\n\u001b[0;32m----> 3\u001b[0m \u001b[43mrequest\u001b[49m\u001b[38;5;241;43m.\u001b[39;49m\u001b[43mdeny\u001b[49m(\u001b[38;5;124m\"\u001b[39m\u001b[38;5;124mRisk of privacy leak\u001b[39m\u001b[38;5;124m\"\u001b[39m)\n",
      "\u001b[0;31mAttributeError\u001b[0m: 'Request' object has no attribute 'deny'"
     ]
    }
   ],
   "source": [
    "# Denial\n",
    "\n",
    "request.deny(reason=\"Risk of privacy leak\")"
   ]
  },
  {
   "cell_type": "code",
   "execution_count": 48,
   "id": "23fba915",
   "metadata": {},
   "outputs": [
    {
     "data": {
      "text/plain": [
       "6"
      ]
     },
     "execution_count": 48,
     "metadata": {},
     "output_type": "execute_result"
    }
   ],
   "source": [
    "# Approval\n",
    "\n",
    "real_result = user_func(data=asset.data)\n",
    "real_result"
   ]
  },
  {
   "cell_type": "code",
   "execution_count": 49,
   "id": "7d3e0cb3",
   "metadata": {},
   "outputs": [
    {
     "data": {
      "text/html": [
       "<div class=\"alert-success\" style=\"padding:5px;\"><strong>SyftSuccess</strong>: Request 9b27f2a9bebb4194a7dfd9efd6fac89a changes applied</div><br />"
      ],
      "text/plain": [
       "<class 'syft.service.response.SyftSuccess'>: Request 9b27f2a9bebb4194a7dfd9efd6fac89a changes applied"
      ]
     },
     "execution_count": 49,
     "metadata": {},
     "output_type": "execute_result"
    }
   ],
   "source": [
    "request.accept_by_depositing_result(real_result)"
   ]
  },
  {
   "cell_type": "markdown",
   "id": "6eb0b2ca",
   "metadata": {},
   "source": [
    "As a Data Owner, you can check the status of requests again to see that the `RequestStatus` was updated:"
   ]
  },
  {
   "cell_type": "code",
   "execution_count": 50,
   "id": "4af19463",
   "metadata": {},
   "outputs": [
    {
     "data": {
      "text/html": [
       "\n",
       "                <style>\n",
       "                .collection-header {color: #464158;}\n",
       "                </style>\n",
       "                <div class='collection-header'>\n",
       "                    <h3>Request List</h3>\n",
       "                </div>\n",
       "                <br>\n",
       "                <style>\n",
       ".itables table {\n",
       "    margin: 0 auto;\n",
       "    float: left;\n",
       "    color: #534F64;\n",
       "}\n",
       ".itables table th {color: #2E2B3B;}\n",
       "</style>\n",
       "<div class=\"itables\">\n",
       "<table id=\"13969f1a-ce9b-4da7-b3d5-09f3e6212662\" class=\"display nowrap\"style=\"table-layout:auto;width:auto;margin:auto;caption-side:bottom\"><thead>\n",
       "    <tr style=\"text-align: right;\">\n",
       "      \n",
       "      <th>id</th>\n",
       "      <th>request_time</th>\n",
       "      <th>updated_at</th>\n",
       "      <th>status</th>\n",
       "      <th>changes</th>\n",
       "      <th>requesting_user_verify_key</th>\n",
       "    </tr>\n",
       "  </thead><tbody><tr><td>Loading... (need <a href=https://mwouts.github.io/itables/troubleshooting.html>help</a>?)</td></tr></tbody></table>\n",
       "<link rel=\"stylesheet\" type=\"text/css\" href=\"https://cdn.datatables.net/1.13.1/css/jquery.dataTables.min.css\">\n",
       "<script type=\"module\">\n",
       "    // Import jquery and DataTable\n",
       "    import 'https://code.jquery.com/jquery-3.6.0.min.js';\n",
       "    import dt from 'https://cdn.datatables.net/1.12.1/js/jquery.dataTables.mjs';\n",
       "    dt($);\n",
       "\n",
       "    // Define the table data\n",
       "    const data = [[\"9b27...89a\", \"2023-06-15 08:52:04\", \"2023-06-15 09:02:30\", \"RequestStatus.APPROVED\", \"[syft.service.request.request.UserCodeStatusChange]\", \"89021bb071a481917e3a1b3ed42c19f3d9bb6187792b9f968543aba11d2369f4\"], [\"73d9...2f1\", \"2023-06-15 09:02:29\", \"2023-06-15 09:02:30\", \"RequestStatus.REJECTED\", \"[syft.service.request.request.ObjectMutation, syft.service.request.request.ActionStoreChange]\", \"89021bb071a481917e3a1b3ed42c19f3d9bb6187792b9f968543aba11d2369f4\"]];\n",
       "\n",
       "    // Define the dt_args\n",
       "    let dt_args = {\"order\": [], \"dom\": \"t\"};\n",
       "    dt_args[\"data\"] = data;\n",
       "\n",
       "    $(document).ready(function () {\n",
       "        \n",
       "        $('#13969f1a-ce9b-4da7-b3d5-09f3e6212662').DataTable(dt_args);\n",
       "    });\n",
       "</script>\n",
       "</div>\n"
      ],
      "text/plain": [
       "<syft.client.api.APIModule at 0x7fee0f75e340>"
      ]
     },
     "execution_count": 50,
     "metadata": {},
     "output_type": "execute_result"
    }
   ],
   "source": [
    "domain_client.requests"
   ]
  },
  {
   "cell_type": "markdown",
   "id": "7c5b86aa",
   "metadata": {},
   "source": [
    "#### Checking status of request as Data Scientist\n",
    "\n",
    "However, as a data scientist, you can:\n",
    "1. check the requests within your project similarly to see the status\n",
    "2. re-run the method on the pointer, which will return the actual result if it was deposited or the denial reason"
   ]
  },
  {
   "cell_type": "code",
   "execution_count": 52,
   "id": "506302e9",
   "metadata": {},
   "outputs": [
    {
     "data": {
      "text/html": [
       "\n",
       "                <style>\n",
       "                .collection-header {color: #464158;}\n",
       "                </style>\n",
       "                <div class='collection-header'>\n",
       "                    <h3>Request List</h3>\n",
       "                </div>\n",
       "                <br>\n",
       "                <style>\n",
       ".itables table {\n",
       "    margin: 0 auto;\n",
       "    float: left;\n",
       "    color: #534F64;\n",
       "}\n",
       ".itables table th {color: #2E2B3B;}\n",
       "</style>\n",
       "<div class=\"itables\">\n",
       "<table id=\"74a621ba-e21d-494e-b08b-402c7293bc45\" class=\"display nowrap\"style=\"table-layout:auto;width:auto;margin:auto;caption-side:bottom\"><thead>\n",
       "    <tr style=\"text-align: right;\">\n",
       "      \n",
       "      <th>id</th>\n",
       "      <th>request_time</th>\n",
       "      <th>updated_at</th>\n",
       "      <th>status</th>\n",
       "      <th>changes</th>\n",
       "      <th>requesting_user_verify_key</th>\n",
       "    </tr>\n",
       "  </thead><tbody><tr><td>Loading... (need <a href=https://mwouts.github.io/itables/troubleshooting.html>help</a>?)</td></tr></tbody></table>\n",
       "<link rel=\"stylesheet\" type=\"text/css\" href=\"https://cdn.datatables.net/1.13.1/css/jquery.dataTables.min.css\">\n",
       "<script type=\"module\">\n",
       "    // Import jquery and DataTable\n",
       "    import 'https://code.jquery.com/jquery-3.6.0.min.js';\n",
       "    import dt from 'https://cdn.datatables.net/1.12.1/js/jquery.dataTables.mjs';\n",
       "    dt($);\n",
       "\n",
       "    // Define the table data\n",
       "    const data = [[\"9b27...89a\", \"2023-06-15 08:52:04\", \"2023-06-15 09:02:30\", \"RequestStatus.APPROVED\", \"[syft.service.request.request.UserCodeStatusChange]\", \"89021bb071a481917e3a1b3ed42c19f3d9bb6187792b9f968543aba11d2369f4\"]];\n",
       "\n",
       "    // Define the dt_args\n",
       "    let dt_args = {\"order\": [], \"dom\": \"t\"};\n",
       "    dt_args[\"data\"] = data;\n",
       "\n",
       "    $(document).ready(function () {\n",
       "        \n",
       "        $('#74a621ba-e21d-494e-b08b-402c7293bc45').DataTable(dt_args);\n",
       "    });\n",
       "</script>\n",
       "</div>\n"
      ],
      "text/plain": [
       "[syft.service.request.request.Request]"
      ]
     },
     "execution_count": 52,
     "metadata": {},
     "output_type": "execute_result"
    }
   ],
   "source": [
    "project_research.requests"
   ]
  },
  {
   "cell_type": "code",
   "execution_count": 59,
   "id": "ffcc19ab",
   "metadata": {},
   "outputs": [
    {
     "data": {
      "text/plain": [
       "6"
      ]
     },
     "execution_count": 59,
     "metadata": {},
     "output_type": "execute_result"
    }
   ],
   "source": [
    "# Download the result, as it was approved:\n",
    "\n",
    "ds_client.code.compute_sum(data=asset.data).get_from(ds_client)"
   ]
  },
  {
   "cell_type": "markdown",
   "id": "e1c2ff09",
   "metadata": {},
   "source": [
    "# Support\n",
    "\n",
    "For further questions, please refer to our Slack channel for this exercise:\n",
    "\n",
    "https://join.slack.com/share/enQtNTQyNDYyMzk1MDI3OC00YTdiYjZjMGU1ODRlYTZjYjg0MWJmNzEyMGJiNjM0ZWZkMjk5M2Q4ODdjZWMzOTg0NjNhM2JlMTQ2NWNkZWY4"
   ]
  }
 ],
 "metadata": {
  "kernelspec": {
   "display_name": "Python 3 (ipykernel)",
   "language": "python",
   "name": "python3"
  },
  "language_info": {
   "codemirror_mode": {
    "name": "ipython",
    "version": 3
   },
   "file_extension": ".py",
   "mimetype": "text/x-python",
   "name": "python",
   "nbconvert_exporter": "python",
   "pygments_lexer": "ipython3",
   "version": "3.9.5"
  }
 },
 "nbformat": 4,
 "nbformat_minor": 5
}
