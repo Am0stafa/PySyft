{
 "cells": [
  {
   "cell_type": "markdown",
   "id": "e3cfd6df",
   "metadata": {},
   "source": [
    "# PySyft - Docs Overview\n",
    "\n",
    "The goal of PySyft is to provide a general purpose web server for remote data science. A data owner can launch one of such servers, load data into it, configure it with their definitions of “use” and “mis-use”, and empower a remote data scientist to use Syft’s Python client to study this data while being held accountable to its definition of acceptable use."
   ]
  },
  {
   "cell_type": "markdown",
   "id": "b0fefb60",
   "metadata": {},
   "source": [
    "Note: to fully view the previous outputs of this notebook, go to `File` -> `Trust Notebook`."
   ]
  },
  {
   "cell_type": "markdown",
   "id": "89c2f99d",
   "metadata": {},
   "source": [
    "## What is a domain server?\n",
    "\n",
    "A web server, which hosts the data and manages the remote study of a data owner’s data by external data scientists. \n",
    "\n",
    "It is responsible for allowing the Data Owner to manage the data, as well as incoming requests from data scientists and for gatekeeping the data scientist’s access to data, compute, and experimental results stored within the data owner’s compute infrastructure.\n"
   ]
  },
  {
   "cell_type": "markdown",
   "id": "e1498754",
   "metadata": {},
   "source": [
    "## How is a domain server used to enable remote data science?\n",
    "\n",
    "The most simple way of performing remote data science is like a manual process for remote procedural calls:\n",
    "\n",
    "<a href=\"https://ibb.co/ydNSBJH\"><img src=\"https://i.ibb.co/djfgJy8/Fire-Shot-Capture-052-Internal-Data-Owner-Handbook-Google-Docs-docs-google-com.png\" alt=\"Fire-Shot-Capture-052-Internal-Data-Owner-Handbook-Google-Docs-docs-google-com\" border=\"0\"></a>\n",
    "\n",
    "##### Step 1\n",
    "IT Specialist launches a “high-side” domain server that is 100% walled off from the internet\n",
    "##### Step 2: \n",
    "IT Specialist launches a second “low-side” domain server that is attached to the internet.\n",
    "##### Step 3: \n",
    "Data Manager loads the “high-side” with private data.\n",
    "##### Step 4:\n",
    "Data Manager uses the “high-side” server to generate fake/mock data assets that are identical in every way possible to the real data (without actually having the real values)\n",
    "##### Step 5:\n",
    "Data Manager copies the fake/mock assets into the “low-side” server.\n",
    "##### Step 6:\n",
    "A Data Scientist is given access to the low-side domain to:\n",
    "- access the fake data assets to get an understanding of the dataset schema\n",
    "- write code to be run on private data, but test it against the fake assets\n",
    "- submit the code for review and approval by the data manager to retrieve the private result\n",
    "\n",
    "##### Step 7:\n",
    "Data Manager is responsible to check incoming code request, review and respond with the private result.\n",
    "\n",
    "Step 6 - 7 are repeated till the Data Scientist is able to complete his study of interest."
   ]
  },
  {
   "cell_type": "markdown",
   "id": "6156f3c1",
   "metadata": {},
   "source": [
    "## How to install Syft\n",
    "\n",
    "For instructions, please visit the following tutorial: \n",
    "    \n",
    "https://github.com/OpenMined/PySyft/blob/dev/notebooks/tutorials/data-scientist/01-installing-syft-client.ipynb\n",
    "\n",
    "\n",
    "For testing, installing Python 3.9+ and the latest beta version using `pip install --pre syft` should suffice.\n",
    "        "
   ]
  },
  {
   "cell_type": "markdown",
   "id": "381801b5",
   "metadata": {},
   "source": [
    "## Launching a Domain Server\n",
    "\n",
    "There are two type of possible deployments of a domain server:\n",
    "- heavy deployment which launches the domain server as a Docker container\n",
    "- light deployment which uses in-memory workers to simulate the actual web server.\n",
    "\n",
    "For testing, we will follow only the light deployment, which works  the same on all platforms, and requires only Python 3.9+ to be installed on the system. This is done as it follows:"
   ]
  },
  {
   "cell_type": "code",
   "execution_count": 1,
   "id": "bc8f3b78",
   "metadata": {},
   "outputs": [
    {
     "data": {
      "text/markdown": [
       "\n",
       "Warning: syft is imported in light mode by default.         \n",
       "To switch to dark mode, please run `sy.options.color_theme = 'dark'`"
      ],
      "text/plain": [
       "<IPython.core.display.Markdown object>"
      ]
     },
     "metadata": {},
     "output_type": "display_data"
    },
    {
     "name": "stdout",
     "output_type": "stream",
     "text": [
      "Starting my-domain server on 0.0.0.0:8080\n",
      "SQLite Store Path:\n",
      "!open file:///tmp/3ef2b06132fd4d8e8317eaef4c5f940d.sqlite\n",
      "\n",
      "Waiting for server to start... Done.\n"
     ]
    }
   ],
   "source": [
    "import syft as sy\n",
    "\n",
    "domain_server = sy.orchestra.launch(name=\"my-domain\", port=8080, dev_mode=False, reset=True) "
   ]
  },
  {
   "cell_type": "markdown",
   "id": "359acfb6",
   "metadata": {},
   "source": [
    "To test it works, one can login as a data owner using the default credentials:"
   ]
  },
  {
   "cell_type": "code",
   "execution_count": 2,
   "id": "af63cd9a",
   "metadata": {},
   "outputs": [
    {
     "name": "stdout",
     "output_type": "stream",
     "text": [
      "Logged into my-domain as <info@openmined.org>\n"
     ]
    }
   ],
   "source": [
    "domain_client = sy.login(port=8080, email=\"info@openmined.org\", password=\"changethis\")"
   ]
  },
  {
   "cell_type": "markdown",
   "id": "e58a52e1",
   "metadata": {},
   "source": [
    "## Access a Domain Server\n",
    "\n",
    "Accesing a domain server is as simple as logging into the domain with correct credentials. When logging in, a Python-based client is returned which enables the user to interact with the domain server, based on their access rights.\n",
    "\n",
    "For logging in, one need to know the port at which the domain server was launched, in addition to the credentials and log in as it follows:"
   ]
  },
  {
   "cell_type": "code",
   "execution_count": 3,
   "id": "faff55ff",
   "metadata": {},
   "outputs": [
    {
     "name": "stdout",
     "output_type": "stream",
     "text": [
      "Logged into my-domain as <info@openmined.org>\n"
     ]
    }
   ],
   "source": [
    "domain_client = sy.login(port=8080, email=\"info@openmined.org\", password=\"changethis\")"
   ]
  },
  {
   "cell_type": "markdown",
   "id": "f5045574",
   "metadata": {},
   "source": [
    "## Managing access to the domain server"
   ]
  },
  {
   "cell_type": "markdown",
   "id": "3c19a833",
   "metadata": {},
   "source": [
    "### Registering a Data Scientist account\n",
    "\n",
    "A data scientist account can be created by the data owner of the domain, by providing a set of credentials: \n",
    "- name\n",
    "- email\n",
    "- password\n",
    "- (optional) institution\n",
    "- (optional) website"
   ]
  },
  {
   "cell_type": "code",
   "execution_count": 4,
   "id": "3ceed285",
   "metadata": {},
   "outputs": [
    {
     "data": {
      "text/html": [
       "<div class=\"alert-success\" style=\"padding:5px;\"><strong>SyftSuccess</strong>: User Jane Doe successfully registered! To see users, run client.users.</div><br />"
      ],
      "text/plain": [
       "<class 'syft.service.response.SyftSuccess'>: User Jane Doe successfully registered! To see users, run client.users."
      ]
     },
     "execution_count": 4,
     "metadata": {},
     "output_type": "execute_result"
    }
   ],
   "source": [
    "domain_client.register(\n",
    "    name=\"Jane Doe\", \n",
    "    email=\"jane@caltech.edu\", \n",
    "    password=\"abc123\"\n",
    ")"
   ]
  },
  {
   "cell_type": "markdown",
   "id": "ddf3ffb3",
   "metadata": {},
   "source": [
    "## Data on the Domain Server"
   ]
  },
  {
   "cell_type": "markdown",
   "id": "9c40ff18",
   "metadata": {},
   "source": [
    "### Uploading data to the Domain Server\n",
    "\n",
    "Creating a dataset (`sy.Dataset`) requires passing:\n",
    "- `name`, which acts as a key within datasets\n",
    "- `asset_list` containing the actual data uploaded as part of the dataset\n",
    "- (optional) `description`, which contains a short, but longer description of the dataset\n",
    "- (optional) `citation`\n",
    "- (optional) `url`\n",
    "- (optional) `contributors_list` consisting of contributors to the dataset\n",
    "\n",
    "\n",
    "For creating a asset (`sy.Asset`) requires passing:\n",
    "- `name`, which acts as a key within assets list\n",
    "- `data`, which is the private dataset\n",
    "- `mock`, which is the fake counter part of the data, as it has the same dataset schema, but does not contain any sensitive information.\n",
    "\n",
    "For creating a contributor, it requires passing:\n",
    "- `role`, usually `sy.roles.UPLOADER` or `sy.roles.EDITOR`\n",
    "- `name`\n",
    "- `email`\n",
    "The latter is usually useful for questions on the dataset."
   ]
  },
  {
   "cell_type": "code",
   "execution_count": 5,
   "id": "fb8ca5e2",
   "metadata": {},
   "outputs": [],
   "source": [
    "# An example creating a dataset\n",
    "\n",
    "import numpy as np \n",
    "\n",
    "dataset = sy.Dataset(\n",
    "    name=\"my dataset\",\n",
    "    description=\"description of the dataset\",\n",
    "    asset_list=[\n",
    "        sy.Asset(\n",
    "            name=\"my asset\",\n",
    "            data=np.array([1,2,3]),\n",
    "            mock=np.array([1,1,1])\n",
    "    )]\n",
    ")\n",
    "\n",
    "# Optional, one could add contributors\n",
    "dataset.add_contributor(\n",
    "    role=sy.roles.UPLOADER, \n",
    "    name=\"Andrew\",\n",
    "    email=\"andrew@gmail.com\"\n",
    ")"
   ]
  },
  {
   "cell_type": "markdown",
   "id": "57170420",
   "metadata": {},
   "source": [
    "In the case where no mock is available, the mock can be passed as an empty object:"
   ]
  },
  {
   "cell_type": "code",
   "execution_count": 6,
   "id": "5a4db15e",
   "metadata": {},
   "outputs": [
    {
     "data": {
      "text/html": [
       "\n",
       "            <style>\n",
       "            \n",
       "/* cyrillic-ext */\n",
       "@font-face {\n",
       "  font-family: 'Open Sans';\n",
       "  font-style: normal;\n",
       "  font-weight: 300 800;\n",
       "  font-stretch: 100%;\n",
       "  src: url(https://fonts.gstatic.com/s/opensans/v35/memvYaGs126MiZpBA-UvWbX2vVnXBbObj2OVTSKmu0SC55K5gw.woff2) format('woff2');\n",
       "  unicode-range: U+0460-052F, U+1C80-1C88, U+20B4, U+2DE0-2DFF, U+A640-A69F, U+FE2E-FE2F;\n",
       "}\n",
       "/* cyrillic */\n",
       "@font-face {\n",
       "  font-family: 'Open Sans';\n",
       "  font-style: normal;\n",
       "  font-weight: 300 800;\n",
       "  font-stretch: 100%;\n",
       "  src: url(https://fonts.gstatic.com/s/opensans/v35/memvYaGs126MiZpBA-UvWbX2vVnXBbObj2OVTSumu0SC55K5gw.woff2) format('woff2');\n",
       "  unicode-range: U+0301, U+0400-045F, U+0490-0491, U+04B0-04B1, U+2116;\n",
       "}\n",
       "/* greek-ext */\n",
       "@font-face {\n",
       "  font-family: 'Open Sans';\n",
       "  font-style: normal;\n",
       "  font-weight: 300 800;\n",
       "  font-stretch: 100%;\n",
       "  src: url(https://fonts.gstatic.com/s/opensans/v35/memvYaGs126MiZpBA-UvWbX2vVnXBbObj2OVTSOmu0SC55K5gw.woff2) format('woff2');\n",
       "  unicode-range: U+1F00-1FFF;\n",
       "}\n",
       "/* greek */\n",
       "@font-face {\n",
       "  font-family: 'Open Sans';\n",
       "  font-style: normal;\n",
       "  font-weight: 300 800;\n",
       "  font-stretch: 100%;\n",
       "  src: url(https://fonts.gstatic.com/s/opensans/v35/memvYaGs126MiZpBA-UvWbX2vVnXBbObj2OVTSymu0SC55K5gw.woff2) format('woff2');\n",
       "  unicode-range: U+0370-03FF;\n",
       "}\n",
       "/* hebrew */\n",
       "@font-face {\n",
       "  font-family: 'Open Sans';\n",
       "  font-style: normal;\n",
       "  font-weight: 300 800;\n",
       "  font-stretch: 100%;\n",
       "  src: url(https://fonts.gstatic.com/s/opensans/v35/memvYaGs126MiZpBA-UvWbX2vVnXBbObj2OVTS2mu0SC55K5gw.woff2) format('woff2');\n",
       "  unicode-range: U+0590-05FF, U+200C-2010, U+20AA, U+25CC, U+FB1D-FB4F;\n",
       "}\n",
       "/* vietnamese */\n",
       "@font-face {\n",
       "  font-family: 'Open Sans';\n",
       "  font-style: normal;\n",
       "  font-weight: 300 800;\n",
       "  font-stretch: 100%;\n",
       "  src: url(https://fonts.gstatic.com/s/opensans/v35/memvYaGs126MiZpBA-UvWbX2vVnXBbObj2OVTSCmu0SC55K5gw.woff2) format('woff2');\n",
       "  unicode-range: U+0102-0103, U+0110-0111, U+0128-0129, U+0168-0169, U+01A0-01A1, U+01AF-01B0, U+0300-0301, U+0303-0304, U+0308-0309, U+0323, U+0329, U+1EA0-1EF9, U+20AB;\n",
       "}\n",
       "/* latin-ext */\n",
       "@font-face {\n",
       "  font-family: 'Open Sans';\n",
       "  font-style: normal;\n",
       "  font-weight: 300 800;\n",
       "  font-stretch: 100%;\n",
       "  src: url(https://fonts.gstatic.com/s/opensans/v35/memvYaGs126MiZpBA-UvWbX2vVnXBbObj2OVTSGmu0SC55K5gw.woff2) format('woff2');\n",
       "  unicode-range: U+0100-02AF, U+0304, U+0308, U+0329, U+1E00-1E9F, U+1EF2-1EFF, U+2020, U+20A0-20AB, U+20AD-20CF, U+2113, U+2C60-2C7F, U+A720-A7FF;\n",
       "}\n",
       "/* latin */\n",
       "@font-face {\n",
       "  font-family: 'Open Sans';\n",
       "  font-style: normal;\n",
       "  font-weight: 300 800;\n",
       "  font-stretch: 100%;\n",
       "  src: url(https://fonts.gstatic.com/s/opensans/v35/memvYaGs126MiZpBA-UvWbX2vVnXBbObj2OVTS-mu0SC55I.woff2) format('woff2');\n",
       "  unicode-range: U+0000-00FF, U+0131, U+0152-0153, U+02BB-02BC, U+02C6, U+02DA, U+02DC, U+0304, U+0308, U+0329, U+2000-206F, U+2074, U+20AC, U+2122, U+2191, U+2193, U+2212, U+2215, U+FEFF, U+FFFD;\n",
       "}\n",
       "\n",
       "            .syft-dataset {color: #464158;}\n",
       "            .syft-dataset h3,\n",
       "            .syft-dataset p\n",
       "              {font-family: 'Open Sans';}\n",
       "              .itables {font-family: 'Consolas', monospace, sans-serif;}\n",
       "            </style>\n",
       "            <div class='syft-dataset'><h3>my dataset</h3><p>description of the dataset</p><p><strong>Uploaded by: </strong>Andrew</p><p><strong>Created on: </strong>None</p><p><strong>URL: </strong><a href=\"None\">None</a></p><p><strong>Contributors: </strong> to see full details call dataset.contributors</p>\n",
       "                <style>\n",
       "                .syft-collection-header {color: #464158;}\n",
       "                </style>\n",
       "                <div class='syft-collection-header'>\n",
       "                    <h3>CreateAsset List</h3>\n",
       "                </div>\n",
       "                <br>\n",
       "                <style>\n",
       ".itables table {\n",
       "    margin: 0 auto;\n",
       "    float: left;\n",
       "    color: #534F64;\n",
       "}\n",
       ".itables table th {color: #2E2B3B;}\n",
       "</style>\n",
       "<div class=\"itables\">\n",
       "<table id=\"145a4b19-ffee-4317-b193-b75dce5d8e8b\" class=\"display nowrap\"style=\"table-layout:auto;width:auto;margin:auto;caption-side:bottom\"><thead>\n",
       "    <tr style=\"text-align: right;\">\n",
       "      \n",
       "      <th>name</th>\n",
       "    </tr>\n",
       "  </thead><tbody><tr><td>Loading... (need <a href=https://mwouts.github.io/itables/troubleshooting.html>help</a>?)</td></tr></tbody></table>\n",
       "<link rel=\"stylesheet\" type=\"text/css\" href=\"https://cdn.datatables.net/1.13.1/css/jquery.dataTables.min.css\">\n",
       "<script type=\"module\">\n",
       "    // Import jquery and DataTable\n",
       "    import 'https://code.jquery.com/jquery-3.6.0.min.js';\n",
       "    import dt from 'https://cdn.datatables.net/1.12.1/js/jquery.dataTables.mjs';\n",
       "    dt($);\n",
       "\n",
       "    // Define the table data\n",
       "    const data = [[\"my asset\"], [\"my asset without mock\"]];\n",
       "\n",
       "    // Define the dt_args\n",
       "    let dt_args = {\"order\": [], \"dom\": \"t\"};\n",
       "    dt_args[\"data\"] = data;\n",
       "\n",
       "    $(document).ready(function () {\n",
       "        \n",
       "        $('#145a4b19-ffee-4317-b193-b75dce5d8e8b').DataTable(dt_args);\n",
       "    });\n",
       "</script>\n",
       "</div>\n",
       "</div>"
      ],
      "text/markdown": [
       "Syft Dataset: my dataset\n",
       "\n",
       "Assets:\n",
       "\n",
       "\tmy asset: None\n",
       "\n",
       "\tmy asset without mock: None\n",
       "\n",
       "Description: \n",
       "\n",
       "description of the dataset\n",
       "\n"
      ],
      "text/plain": [
       "syft.service.dataset.dataset.CreateDataset"
      ]
     },
     "execution_count": 6,
     "metadata": {},
     "output_type": "execute_result"
    }
   ],
   "source": [
    "dataset.add_asset(\n",
    "    sy.Asset(\n",
    "        name=\"my asset without mock\",\n",
    "        data=np.array([1,2,3]),\n",
    "        mock=sy.ActionObject.empty()\n",
    "    )\n",
    ")\n",
    "\n",
    "dataset"
   ]
  },
  {
   "cell_type": "markdown",
   "id": "52caf4b4",
   "metadata": {},
   "source": [
    "Uploading a dataset only requires running the following:"
   ]
  },
  {
   "cell_type": "code",
   "execution_count": 7,
   "id": "5f7ea338",
   "metadata": {},
   "outputs": [
    {
     "name": "stderr",
     "output_type": "stream",
     "text": [
      "\r",
      "  0%|                                                     | 0/2 [00:00<?, ?it/s]"
     ]
    },
    {
     "name": "stdout",
     "output_type": "stream",
     "text": [
      "Uploading: my asset\n"
     ]
    },
    {
     "name": "stderr",
     "output_type": "stream",
     "text": [
      "100%|█████████████████████████████████████████████| 2/2 [00:00<00:00,  4.31it/s]\n"
     ]
    },
    {
     "name": "stdout",
     "output_type": "stream",
     "text": [
      "Uploading: my asset without mock\n"
     ]
    },
    {
     "data": {
      "text/html": [
       "<div class=\"alert-success\" style=\"padding:5px;\"><strong>SyftSuccess</strong>: Dataset Added</div><br />"
      ],
      "text/plain": [
       "<class 'syft.service.response.SyftSuccess'>: Dataset Added"
      ]
     },
     "execution_count": 7,
     "metadata": {},
     "output_type": "execute_result"
    }
   ],
   "source": [
    "domain_client.upload_dataset(dataset)"
   ]
  },
  {
   "cell_type": "markdown",
   "id": "1a00a99c",
   "metadata": {},
   "source": [
    "### Finding data on the Domain Server\n",
    "\n",
    "To retrieve datasets that are uploaded to a Domain Server, one could do:"
   ]
  },
  {
   "cell_type": "code",
   "execution_count": 9,
   "id": "c7a14a1c",
   "metadata": {},
   "outputs": [
    {
     "data": {
      "text/html": [
       "\n",
       "                <style>\n",
       "                .syft-collection-header {color: #464158;}\n",
       "                </style>\n",
       "                <div class='syft-collection-header'>\n",
       "                    <h3>Dataset List</h3>\n",
       "                </div>\n",
       "                <br>\n",
       "                <style>\n",
       ".itables table {\n",
       "    margin: 0 auto;\n",
       "    float: left;\n",
       "    color: #534F64;\n",
       "}\n",
       ".itables table th {color: #2E2B3B;}\n",
       "</style>\n",
       "<div class=\"itables\">\n",
       "<table id=\"1d77a43e-b736-4d6b-8427-b6c186229914\" class=\"display nowrap\"style=\"table-layout:auto;width:auto;margin:auto;caption-side:bottom\"><thead>\n",
       "    <tr style=\"text-align: right;\">\n",
       "      \n",
       "      <th>id</th>\n",
       "      <th>name</th>\n",
       "      <th>url</th>\n",
       "    </tr>\n",
       "  </thead><tbody><tr><td>Loading... (need <a href=https://mwouts.github.io/itables/troubleshooting.html>help</a>?)</td></tr></tbody></table>\n",
       "<link rel=\"stylesheet\" type=\"text/css\" href=\"https://cdn.datatables.net/1.13.1/css/jquery.dataTables.min.css\">\n",
       "<script type=\"module\">\n",
       "    // Import jquery and DataTable\n",
       "    import 'https://code.jquery.com/jquery-3.6.0.min.js';\n",
       "    import dt from 'https://cdn.datatables.net/1.12.1/js/jquery.dataTables.mjs';\n",
       "    dt($);\n",
       "\n",
       "    // Define the table data\n",
       "    const data = [[\"9609...fa2\", \"my dataset\", \"None\"]];\n",
       "\n",
       "    // Define the dt_args\n",
       "    let dt_args = {\"order\": [], \"dom\": \"t\"};\n",
       "    dt_args[\"data\"] = data;\n",
       "\n",
       "    $(document).ready(function () {\n",
       "        \n",
       "        $('#1d77a43e-b736-4d6b-8427-b6c186229914').DataTable(dt_args);\n",
       "    });\n",
       "</script>\n",
       "</div>\n"
      ],
      "text/plain": [
       "<syft.client.api.APIModule at 0x7f9f626666d0>"
      ]
     },
     "execution_count": 9,
     "metadata": {},
     "output_type": "execute_result"
    }
   ],
   "source": [
    "datasets = domain_client.datasets\n",
    "datasets"
   ]
  },
  {
   "cell_type": "markdown",
   "id": "0fe82ef7",
   "metadata": {},
   "source": [
    "Similarly, one can search for a specific dataset using `.search()`:"
   ]
  },
  {
   "cell_type": "code",
   "execution_count": 10,
   "id": "73fb2254",
   "metadata": {},
   "outputs": [
    {
     "data": {
      "text/html": [
       "\n",
       "                <style>\n",
       "                .syft-collection-header {color: #464158;}\n",
       "                </style>\n",
       "                <div class='syft-collection-header'>\n",
       "                    <h3>Dataset List</h3>\n",
       "                </div>\n",
       "                <br>\n",
       "                <style>\n",
       ".itables table {\n",
       "    margin: 0 auto;\n",
       "    float: left;\n",
       "    color: #534F64;\n",
       "}\n",
       ".itables table th {color: #2E2B3B;}\n",
       "</style>\n",
       "<div class=\"itables\">\n",
       "<table id=\"afdb57d1-db47-48b5-a0c5-339a85fc585e\" class=\"display nowrap\"style=\"table-layout:auto;width:auto;margin:auto;caption-side:bottom\"><thead>\n",
       "    <tr style=\"text-align: right;\">\n",
       "      \n",
       "      <th>id</th>\n",
       "      <th>name</th>\n",
       "      <th>url</th>\n",
       "    </tr>\n",
       "  </thead><tbody><tr><td>Loading... (need <a href=https://mwouts.github.io/itables/troubleshooting.html>help</a>?)</td></tr></tbody></table>\n",
       "<link rel=\"stylesheet\" type=\"text/css\" href=\"https://cdn.datatables.net/1.13.1/css/jquery.dataTables.min.css\">\n",
       "<script type=\"module\">\n",
       "    // Import jquery and DataTable\n",
       "    import 'https://code.jquery.com/jquery-3.6.0.min.js';\n",
       "    import dt from 'https://cdn.datatables.net/1.12.1/js/jquery.dataTables.mjs';\n",
       "    dt($);\n",
       "\n",
       "    // Define the table data\n",
       "    const data = [[\"9609...fa2\", \"my dataset\", \"None\"]];\n",
       "\n",
       "    // Define the dt_args\n",
       "    let dt_args = {\"order\": [], \"dom\": \"t\"};\n",
       "    dt_args[\"data\"] = data;\n",
       "\n",
       "    $(document).ready(function () {\n",
       "        \n",
       "        $('#afdb57d1-db47-48b5-a0c5-339a85fc585e').DataTable(dt_args);\n",
       "    });\n",
       "</script>\n",
       "</div>\n"
      ],
      "text/plain": [
       "[syft.service.dataset.dataset.Dataset]"
      ]
     },
     "execution_count": 10,
     "metadata": {},
     "output_type": "execute_result"
    }
   ],
   "source": [
    "datasets.search('my')"
   ]
  },
  {
   "cell_type": "markdown",
   "id": "3e6a28ac",
   "metadata": {},
   "source": [
    "### Understanding the Dataset Object"
   ]
  },
  {
   "cell_type": "markdown",
   "id": "6ac56a33",
   "metadata": {},
   "source": [
    "PySyft library provides flexibility so that data owners can group together assets into a single dataset. \n",
    "\n",
    "As such, a dataset (`sy.Dataset`) is a collection of assets, and each asset is a singular object which holds the data. \n",
    "\n",
    "For example, one can add the same data in multiple formats, but use a single uploaded dataset, with more assets (one asset for each format of the data). Similarly, one can split the dataset into testing / training / validation, and use assets to mark this."
   ]
  },
  {
   "cell_type": "markdown",
   "id": "17668d59",
   "metadata": {},
   "source": [
    "To refer to a specific dataset, you can use `.get_by_id(..)` or by indexing within the list."
   ]
  },
  {
   "cell_type": "code",
   "execution_count": 11,
   "id": "88f8ec17",
   "metadata": {},
   "outputs": [
    {
     "data": {
      "text/html": [
       "\n",
       "            <style>\n",
       "            \n",
       "/* cyrillic-ext */\n",
       "@font-face {\n",
       "  font-family: 'Open Sans';\n",
       "  font-style: normal;\n",
       "  font-weight: 300 800;\n",
       "  font-stretch: 100%;\n",
       "  src: url(https://fonts.gstatic.com/s/opensans/v35/memvYaGs126MiZpBA-UvWbX2vVnXBbObj2OVTSKmu0SC55K5gw.woff2) format('woff2');\n",
       "  unicode-range: U+0460-052F, U+1C80-1C88, U+20B4, U+2DE0-2DFF, U+A640-A69F, U+FE2E-FE2F;\n",
       "}\n",
       "/* cyrillic */\n",
       "@font-face {\n",
       "  font-family: 'Open Sans';\n",
       "  font-style: normal;\n",
       "  font-weight: 300 800;\n",
       "  font-stretch: 100%;\n",
       "  src: url(https://fonts.gstatic.com/s/opensans/v35/memvYaGs126MiZpBA-UvWbX2vVnXBbObj2OVTSumu0SC55K5gw.woff2) format('woff2');\n",
       "  unicode-range: U+0301, U+0400-045F, U+0490-0491, U+04B0-04B1, U+2116;\n",
       "}\n",
       "/* greek-ext */\n",
       "@font-face {\n",
       "  font-family: 'Open Sans';\n",
       "  font-style: normal;\n",
       "  font-weight: 300 800;\n",
       "  font-stretch: 100%;\n",
       "  src: url(https://fonts.gstatic.com/s/opensans/v35/memvYaGs126MiZpBA-UvWbX2vVnXBbObj2OVTSOmu0SC55K5gw.woff2) format('woff2');\n",
       "  unicode-range: U+1F00-1FFF;\n",
       "}\n",
       "/* greek */\n",
       "@font-face {\n",
       "  font-family: 'Open Sans';\n",
       "  font-style: normal;\n",
       "  font-weight: 300 800;\n",
       "  font-stretch: 100%;\n",
       "  src: url(https://fonts.gstatic.com/s/opensans/v35/memvYaGs126MiZpBA-UvWbX2vVnXBbObj2OVTSymu0SC55K5gw.woff2) format('woff2');\n",
       "  unicode-range: U+0370-03FF;\n",
       "}\n",
       "/* hebrew */\n",
       "@font-face {\n",
       "  font-family: 'Open Sans';\n",
       "  font-style: normal;\n",
       "  font-weight: 300 800;\n",
       "  font-stretch: 100%;\n",
       "  src: url(https://fonts.gstatic.com/s/opensans/v35/memvYaGs126MiZpBA-UvWbX2vVnXBbObj2OVTS2mu0SC55K5gw.woff2) format('woff2');\n",
       "  unicode-range: U+0590-05FF, U+200C-2010, U+20AA, U+25CC, U+FB1D-FB4F;\n",
       "}\n",
       "/* vietnamese */\n",
       "@font-face {\n",
       "  font-family: 'Open Sans';\n",
       "  font-style: normal;\n",
       "  font-weight: 300 800;\n",
       "  font-stretch: 100%;\n",
       "  src: url(https://fonts.gstatic.com/s/opensans/v35/memvYaGs126MiZpBA-UvWbX2vVnXBbObj2OVTSCmu0SC55K5gw.woff2) format('woff2');\n",
       "  unicode-range: U+0102-0103, U+0110-0111, U+0128-0129, U+0168-0169, U+01A0-01A1, U+01AF-01B0, U+0300-0301, U+0303-0304, U+0308-0309, U+0323, U+0329, U+1EA0-1EF9, U+20AB;\n",
       "}\n",
       "/* latin-ext */\n",
       "@font-face {\n",
       "  font-family: 'Open Sans';\n",
       "  font-style: normal;\n",
       "  font-weight: 300 800;\n",
       "  font-stretch: 100%;\n",
       "  src: url(https://fonts.gstatic.com/s/opensans/v35/memvYaGs126MiZpBA-UvWbX2vVnXBbObj2OVTSGmu0SC55K5gw.woff2) format('woff2');\n",
       "  unicode-range: U+0100-02AF, U+0304, U+0308, U+0329, U+1E00-1E9F, U+1EF2-1EFF, U+2020, U+20A0-20AB, U+20AD-20CF, U+2113, U+2C60-2C7F, U+A720-A7FF;\n",
       "}\n",
       "/* latin */\n",
       "@font-face {\n",
       "  font-family: 'Open Sans';\n",
       "  font-style: normal;\n",
       "  font-weight: 300 800;\n",
       "  font-stretch: 100%;\n",
       "  src: url(https://fonts.gstatic.com/s/opensans/v35/memvYaGs126MiZpBA-UvWbX2vVnXBbObj2OVTS-mu0SC55I.woff2) format('woff2');\n",
       "  unicode-range: U+0000-00FF, U+0131, U+0152-0153, U+02BB-02BC, U+02C6, U+02DA, U+02DC, U+0304, U+0308, U+0329, U+2000-206F, U+2074, U+20AC, U+2122, U+2191, U+2193, U+2212, U+2215, U+FEFF, U+FFFD;\n",
       "}\n",
       "\n",
       "            .syft-dataset {color: #464158;}\n",
       "            .syft-dataset h3,\n",
       "            .syft-dataset p\n",
       "              {font-family: 'Open Sans';}\n",
       "              .itables {font-family: 'Consolas', monospace, sans-serif;}\n",
       "            </style>\n",
       "            <div class='syft-dataset'><h3>my dataset</h3><p>description of the dataset</p><p><strong>Uploaded by: </strong>Andrew</p><p><strong>Created on: </strong>2023-06-15 12:32:29</p><p><strong>URL: </strong><a href=\"None\">None</a></p><p><strong>Contributors: </strong> to see full details call dataset.contributors</p>\n",
       "                <style>\n",
       "                .syft-collection-header {color: #464158;}\n",
       "                </style>\n",
       "                <div class='syft-collection-header'>\n",
       "                    <h3>Asset List</h3>\n",
       "                </div>\n",
       "                <br>\n",
       "                <style>\n",
       ".itables table {\n",
       "    margin: 0 auto;\n",
       "    float: left;\n",
       "    color: #534F64;\n",
       "}\n",
       ".itables table th {color: #2E2B3B;}\n",
       "</style>\n",
       "<div class=\"itables\">\n",
       "<table id=\"6bf8b6aa-9612-4606-9f7a-9061c0370596\" class=\"display nowrap\"style=\"table-layout:auto;width:auto;margin:auto;caption-side:bottom\"><thead>\n",
       "    <tr style=\"text-align: right;\">\n",
       "      \n",
       "      <th>id</th>\n",
       "      <th>name</th>\n",
       "      <th>shape</th>\n",
       "    </tr>\n",
       "  </thead><tbody><tr><td>Loading... (need <a href=https://mwouts.github.io/itables/troubleshooting.html>help</a>?)</td></tr></tbody></table>\n",
       "<link rel=\"stylesheet\" type=\"text/css\" href=\"https://cdn.datatables.net/1.13.1/css/jquery.dataTables.min.css\">\n",
       "<script type=\"module\">\n",
       "    // Import jquery and DataTable\n",
       "    import 'https://code.jquery.com/jquery-3.6.0.min.js';\n",
       "    import dt from 'https://cdn.datatables.net/1.12.1/js/jquery.dataTables.mjs';\n",
       "    dt($);\n",
       "\n",
       "    // Define the table data\n",
       "    const data = [[\"06d2...5cd\", \"my asset\", \"(3,)\"], [\"5999...aba\", \"my asset without mock\", \"None\"]];\n",
       "\n",
       "    // Define the dt_args\n",
       "    let dt_args = {\"order\": [], \"dom\": \"t\"};\n",
       "    dt_args[\"data\"] = data;\n",
       "\n",
       "    $(document).ready(function () {\n",
       "        \n",
       "        $('#6bf8b6aa-9612-4606-9f7a-9061c0370596').DataTable(dt_args);\n",
       "    });\n",
       "</script>\n",
       "</div>\n",
       "</div>"
      ],
      "text/markdown": [
       "Syft Dataset: my dataset\n",
       "\n",
       "Assets:\n",
       "\n",
       "\tmy asset: None\n",
       "\n",
       "\tmy asset without mock: None\n",
       "\n",
       "Description: \n",
       "\n",
       "description of the dataset\n",
       "\n"
      ],
      "text/plain": [
       "syft.service.dataset.dataset.Dataset"
      ]
     },
     "execution_count": 11,
     "metadata": {},
     "output_type": "execute_result"
    }
   ],
   "source": [
    "dataset = datasets[0]\n",
    "dataset"
   ]
  },
  {
   "cell_type": "markdown",
   "id": "80c286a6",
   "metadata": {},
   "source": [
    "To retrieve a specific asset, you can use the name of the asset:"
   ]
  },
  {
   "cell_type": "code",
   "execution_count": 12,
   "id": "c9653392",
   "metadata": {},
   "outputs": [
    {
     "data": {
      "text/html": [
       "\n",
       "            <style>\n",
       "            \n",
       "/* cyrillic-ext */\n",
       "@font-face {\n",
       "  font-family: 'Open Sans';\n",
       "  font-style: normal;\n",
       "  font-weight: 300 800;\n",
       "  font-stretch: 100%;\n",
       "  src: url(https://fonts.gstatic.com/s/opensans/v35/memvYaGs126MiZpBA-UvWbX2vVnXBbObj2OVTSKmu0SC55K5gw.woff2) format('woff2');\n",
       "  unicode-range: U+0460-052F, U+1C80-1C88, U+20B4, U+2DE0-2DFF, U+A640-A69F, U+FE2E-FE2F;\n",
       "}\n",
       "/* cyrillic */\n",
       "@font-face {\n",
       "  font-family: 'Open Sans';\n",
       "  font-style: normal;\n",
       "  font-weight: 300 800;\n",
       "  font-stretch: 100%;\n",
       "  src: url(https://fonts.gstatic.com/s/opensans/v35/memvYaGs126MiZpBA-UvWbX2vVnXBbObj2OVTSumu0SC55K5gw.woff2) format('woff2');\n",
       "  unicode-range: U+0301, U+0400-045F, U+0490-0491, U+04B0-04B1, U+2116;\n",
       "}\n",
       "/* greek-ext */\n",
       "@font-face {\n",
       "  font-family: 'Open Sans';\n",
       "  font-style: normal;\n",
       "  font-weight: 300 800;\n",
       "  font-stretch: 100%;\n",
       "  src: url(https://fonts.gstatic.com/s/opensans/v35/memvYaGs126MiZpBA-UvWbX2vVnXBbObj2OVTSOmu0SC55K5gw.woff2) format('woff2');\n",
       "  unicode-range: U+1F00-1FFF;\n",
       "}\n",
       "/* greek */\n",
       "@font-face {\n",
       "  font-family: 'Open Sans';\n",
       "  font-style: normal;\n",
       "  font-weight: 300 800;\n",
       "  font-stretch: 100%;\n",
       "  src: url(https://fonts.gstatic.com/s/opensans/v35/memvYaGs126MiZpBA-UvWbX2vVnXBbObj2OVTSymu0SC55K5gw.woff2) format('woff2');\n",
       "  unicode-range: U+0370-03FF;\n",
       "}\n",
       "/* hebrew */\n",
       "@font-face {\n",
       "  font-family: 'Open Sans';\n",
       "  font-style: normal;\n",
       "  font-weight: 300 800;\n",
       "  font-stretch: 100%;\n",
       "  src: url(https://fonts.gstatic.com/s/opensans/v35/memvYaGs126MiZpBA-UvWbX2vVnXBbObj2OVTS2mu0SC55K5gw.woff2) format('woff2');\n",
       "  unicode-range: U+0590-05FF, U+200C-2010, U+20AA, U+25CC, U+FB1D-FB4F;\n",
       "}\n",
       "/* vietnamese */\n",
       "@font-face {\n",
       "  font-family: 'Open Sans';\n",
       "  font-style: normal;\n",
       "  font-weight: 300 800;\n",
       "  font-stretch: 100%;\n",
       "  src: url(https://fonts.gstatic.com/s/opensans/v35/memvYaGs126MiZpBA-UvWbX2vVnXBbObj2OVTSCmu0SC55K5gw.woff2) format('woff2');\n",
       "  unicode-range: U+0102-0103, U+0110-0111, U+0128-0129, U+0168-0169, U+01A0-01A1, U+01AF-01B0, U+0300-0301, U+0303-0304, U+0308-0309, U+0323, U+0329, U+1EA0-1EF9, U+20AB;\n",
       "}\n",
       "/* latin-ext */\n",
       "@font-face {\n",
       "  font-family: 'Open Sans';\n",
       "  font-style: normal;\n",
       "  font-weight: 300 800;\n",
       "  font-stretch: 100%;\n",
       "  src: url(https://fonts.gstatic.com/s/opensans/v35/memvYaGs126MiZpBA-UvWbX2vVnXBbObj2OVTSGmu0SC55K5gw.woff2) format('woff2');\n",
       "  unicode-range: U+0100-02AF, U+0304, U+0308, U+0329, U+1E00-1E9F, U+1EF2-1EFF, U+2020, U+20A0-20AB, U+20AD-20CF, U+2113, U+2C60-2C7F, U+A720-A7FF;\n",
       "}\n",
       "/* latin */\n",
       "@font-face {\n",
       "  font-family: 'Open Sans';\n",
       "  font-style: normal;\n",
       "  font-weight: 300 800;\n",
       "  font-stretch: 100%;\n",
       "  src: url(https://fonts.gstatic.com/s/opensans/v35/memvYaGs126MiZpBA-UvWbX2vVnXBbObj2OVTS-mu0SC55I.woff2) format('woff2');\n",
       "  unicode-range: U+0000-00FF, U+0131, U+0152-0153, U+02BB-02BC, U+02C6, U+02DA, U+02DC, U+0304, U+0308, U+0329, U+2000-206F, U+2074, U+20AC, U+2122, U+2191, U+2193, U+2212, U+2215, U+FEFF, U+FFFD;\n",
       "}\n",
       "\n",
       "            .syft-asset {color: #464158;}\n",
       "            .syft-asset h3,\n",
       "            .syft-asset p\n",
       "              {font-family: 'Open Sans'}\n",
       "            .itables {font-family: 'Consolas', monospace, sans-serif;}\n",
       "            </style>\n",
       "            <div class=\"syft-asset\"><h3>my asset</h3><p>None</p><p><strong>Asset ID: </strong>06d28d050ab14b6593f1d5a36e6c25cd</p><p><strong>Action Object ID: </strong>c82403143dfd42019ed40f323eba1fee</p><p><strong>Created on: </strong>2023-06-15 12:32:29</p><p><strong>Data:</strong></p><style>\n",
       ".itables table {\n",
       "    margin: 0 auto;\n",
       "    float: left;\n",
       "    color: #534F64;\n",
       "}\n",
       ".itables table th {color: #2E2B3B;}\n",
       "</style>\n",
       "<div class=\"itables\">\n",
       "<table id=\"7b1507b9-ae01-4d52-b0ff-f44f0ec6b5ce\" class=\"display nowrap\"style=\"table-layout:auto;width:auto;margin:auto;caption-side:bottom\"><thead>\n",
       "    <tr style=\"text-align: right;\">\n",
       "      \n",
       "      <th>0</th>\n",
       "    </tr>\n",
       "  </thead><tbody><tr><td>Loading... (need <a href=https://mwouts.github.io/itables/troubleshooting.html>help</a>?)</td></tr></tbody></table>\n",
       "<link rel=\"stylesheet\" type=\"text/css\" href=\"https://cdn.datatables.net/1.13.1/css/jquery.dataTables.min.css\">\n",
       "<script type=\"module\">\n",
       "    // Import jquery and DataTable\n",
       "    import 'https://code.jquery.com/jquery-3.6.0.min.js';\n",
       "    import dt from 'https://cdn.datatables.net/1.12.1/js/jquery.dataTables.mjs';\n",
       "    dt($);\n",
       "\n",
       "    // Define the table data\n",
       "    const data = [[1], [2], [3]];\n",
       "\n",
       "    // Define the dt_args\n",
       "    let dt_args = {\"order\": [], \"dom\": \"t\"};\n",
       "    dt_args[\"data\"] = data;\n",
       "\n",
       "    $(document).ready(function () {\n",
       "        \n",
       "        $('#7b1507b9-ae01-4d52-b0ff-f44f0ec6b5ce').DataTable(dt_args);\n",
       "    });\n",
       "</script>\n",
       "</div>\n",
       "<p><strong>Mock Data:</strong></p><style>\n",
       ".itables table {\n",
       "    margin: 0 auto;\n",
       "    float: left;\n",
       "    color: #534F64;\n",
       "}\n",
       ".itables table th {color: #2E2B3B;}\n",
       "</style>\n",
       "<div class=\"itables\">\n",
       "<table id=\"c7f13029-88f2-4faf-a927-5b698dd5114c\" class=\"display nowrap\"style=\"table-layout:auto;width:auto;margin:auto;caption-side:bottom\"><thead>\n",
       "    <tr style=\"text-align: right;\">\n",
       "      \n",
       "      <th>0</th>\n",
       "    </tr>\n",
       "  </thead><tbody><tr><td>Loading... (need <a href=https://mwouts.github.io/itables/troubleshooting.html>help</a>?)</td></tr></tbody></table>\n",
       "<link rel=\"stylesheet\" type=\"text/css\" href=\"https://cdn.datatables.net/1.13.1/css/jquery.dataTables.min.css\">\n",
       "<script type=\"module\">\n",
       "    // Import jquery and DataTable\n",
       "    import 'https://code.jquery.com/jquery-3.6.0.min.js';\n",
       "    import dt from 'https://cdn.datatables.net/1.12.1/js/jquery.dataTables.mjs';\n",
       "    dt($);\n",
       "\n",
       "    // Define the table data\n",
       "    const data = [[1], [1], [1]];\n",
       "\n",
       "    // Define the dt_args\n",
       "    let dt_args = {\"order\": [], \"dom\": \"t\"};\n",
       "    dt_args[\"data\"] = data;\n",
       "\n",
       "    $(document).ready(function () {\n",
       "        \n",
       "        $('#c7f13029-88f2-4faf-a927-5b698dd5114c').DataTable(dt_args);\n",
       "    });\n",
       "</script>\n",
       "</div>\n",
       "</div>"
      ],
      "text/markdown": [
       "```python\n",
       "Asset: my asset\n",
       "Pointer Id: c82403143dfd42019ed40f323eba1fee\n",
       "Description: None\n",
       "Total Data Subjects: 0\n",
       "Shape: (3,)\n",
       "Contributors: 0\n",
       "\n",
       "```"
      ],
      "text/plain": [
       "syft.service.dataset.dataset.Asset"
      ]
     },
     "execution_count": 12,
     "metadata": {},
     "output_type": "execute_result"
    }
   ],
   "source": [
    "asset_my = dataset.assets['my asset']\n",
    "asset_my"
   ]
  },
  {
   "cell_type": "markdown",
   "id": "9abd6b5f",
   "metadata": {},
   "source": [
    "Each asset is a two-sided object that secures the private data:\n",
    "- `asset` or `asset.pointer` points to the private data and it can be passed in computations, but cannot be accessed directly by anyone except Data Manager\n",
    "-`asset.mock` is a `Pandas DataFrame` containing the fake counter part of the data, which can be safely used for testing code\n",
    "-`asset.data` is the actual private data, which is unaccesible by the Data Scientist"
   ]
  },
  {
   "cell_type": "code",
   "execution_count": 13,
   "id": "77cd2f13",
   "metadata": {},
   "outputs": [
    {
     "data": {
      "text/html": [
       "\n",
       "            <style>\n",
       "            \n",
       "/* cyrillic-ext */\n",
       "@font-face {\n",
       "  font-family: 'Open Sans';\n",
       "  font-style: normal;\n",
       "  font-weight: 300 800;\n",
       "  font-stretch: 100%;\n",
       "  src: url(https://fonts.gstatic.com/s/opensans/v35/memvYaGs126MiZpBA-UvWbX2vVnXBbObj2OVTSKmu0SC55K5gw.woff2) format('woff2');\n",
       "  unicode-range: U+0460-052F, U+1C80-1C88, U+20B4, U+2DE0-2DFF, U+A640-A69F, U+FE2E-FE2F;\n",
       "}\n",
       "/* cyrillic */\n",
       "@font-face {\n",
       "  font-family: 'Open Sans';\n",
       "  font-style: normal;\n",
       "  font-weight: 300 800;\n",
       "  font-stretch: 100%;\n",
       "  src: url(https://fonts.gstatic.com/s/opensans/v35/memvYaGs126MiZpBA-UvWbX2vVnXBbObj2OVTSumu0SC55K5gw.woff2) format('woff2');\n",
       "  unicode-range: U+0301, U+0400-045F, U+0490-0491, U+04B0-04B1, U+2116;\n",
       "}\n",
       "/* greek-ext */\n",
       "@font-face {\n",
       "  font-family: 'Open Sans';\n",
       "  font-style: normal;\n",
       "  font-weight: 300 800;\n",
       "  font-stretch: 100%;\n",
       "  src: url(https://fonts.gstatic.com/s/opensans/v35/memvYaGs126MiZpBA-UvWbX2vVnXBbObj2OVTSOmu0SC55K5gw.woff2) format('woff2');\n",
       "  unicode-range: U+1F00-1FFF;\n",
       "}\n",
       "/* greek */\n",
       "@font-face {\n",
       "  font-family: 'Open Sans';\n",
       "  font-style: normal;\n",
       "  font-weight: 300 800;\n",
       "  font-stretch: 100%;\n",
       "  src: url(https://fonts.gstatic.com/s/opensans/v35/memvYaGs126MiZpBA-UvWbX2vVnXBbObj2OVTSymu0SC55K5gw.woff2) format('woff2');\n",
       "  unicode-range: U+0370-03FF;\n",
       "}\n",
       "/* hebrew */\n",
       "@font-face {\n",
       "  font-family: 'Open Sans';\n",
       "  font-style: normal;\n",
       "  font-weight: 300 800;\n",
       "  font-stretch: 100%;\n",
       "  src: url(https://fonts.gstatic.com/s/opensans/v35/memvYaGs126MiZpBA-UvWbX2vVnXBbObj2OVTS2mu0SC55K5gw.woff2) format('woff2');\n",
       "  unicode-range: U+0590-05FF, U+200C-2010, U+20AA, U+25CC, U+FB1D-FB4F;\n",
       "}\n",
       "/* vietnamese */\n",
       "@font-face {\n",
       "  font-family: 'Open Sans';\n",
       "  font-style: normal;\n",
       "  font-weight: 300 800;\n",
       "  font-stretch: 100%;\n",
       "  src: url(https://fonts.gstatic.com/s/opensans/v35/memvYaGs126MiZpBA-UvWbX2vVnXBbObj2OVTSCmu0SC55K5gw.woff2) format('woff2');\n",
       "  unicode-range: U+0102-0103, U+0110-0111, U+0128-0129, U+0168-0169, U+01A0-01A1, U+01AF-01B0, U+0300-0301, U+0303-0304, U+0308-0309, U+0323, U+0329, U+1EA0-1EF9, U+20AB;\n",
       "}\n",
       "/* latin-ext */\n",
       "@font-face {\n",
       "  font-family: 'Open Sans';\n",
       "  font-style: normal;\n",
       "  font-weight: 300 800;\n",
       "  font-stretch: 100%;\n",
       "  src: url(https://fonts.gstatic.com/s/opensans/v35/memvYaGs126MiZpBA-UvWbX2vVnXBbObj2OVTSGmu0SC55K5gw.woff2) format('woff2');\n",
       "  unicode-range: U+0100-02AF, U+0304, U+0308, U+0329, U+1E00-1E9F, U+1EF2-1EFF, U+2020, U+20A0-20AB, U+20AD-20CF, U+2113, U+2C60-2C7F, U+A720-A7FF;\n",
       "}\n",
       "/* latin */\n",
       "@font-face {\n",
       "  font-family: 'Open Sans';\n",
       "  font-style: normal;\n",
       "  font-weight: 300 800;\n",
       "  font-stretch: 100%;\n",
       "  src: url(https://fonts.gstatic.com/s/opensans/v35/memvYaGs126MiZpBA-UvWbX2vVnXBbObj2OVTS-mu0SC55I.woff2) format('woff2');\n",
       "  unicode-range: U+0000-00FF, U+0131, U+0152-0153, U+02BB-02BC, U+02C6, U+02DA, U+02DC, U+0304, U+0308, U+0329, U+2000-206F, U+2074, U+20AC, U+2122, U+2191, U+2193, U+2212, U+2215, U+FEFF, U+FFFD;\n",
       "}\n",
       "\n",
       "            .syft-asset {color: #464158;}\n",
       "            .syft-asset h3,\n",
       "            .syft-asset p\n",
       "              {font-family: 'Open Sans'}\n",
       "            .itables {font-family: 'Consolas', monospace, sans-serif;}\n",
       "            </style>\n",
       "            <div class=\"syft-asset\"><h3>my asset</h3><p>None</p><p><strong>Asset ID: </strong>06d28d050ab14b6593f1d5a36e6c25cd</p><p><strong>Action Object ID: </strong>c82403143dfd42019ed40f323eba1fee</p><p><strong>Created on: </strong>2023-06-15 12:32:29</p><p><strong>Data:</strong></p><style>\n",
       ".itables table {\n",
       "    margin: 0 auto;\n",
       "    float: left;\n",
       "    color: #534F64;\n",
       "}\n",
       ".itables table th {color: #2E2B3B;}\n",
       "</style>\n",
       "<div class=\"itables\">\n",
       "<table id=\"f6d4ceae-ff6d-4263-b438-43a9741d3bb8\" class=\"display nowrap\"style=\"table-layout:auto;width:auto;margin:auto;caption-side:bottom\"><thead>\n",
       "    <tr style=\"text-align: right;\">\n",
       "      \n",
       "      <th>0</th>\n",
       "    </tr>\n",
       "  </thead><tbody><tr><td>Loading... (need <a href=https://mwouts.github.io/itables/troubleshooting.html>help</a>?)</td></tr></tbody></table>\n",
       "<link rel=\"stylesheet\" type=\"text/css\" href=\"https://cdn.datatables.net/1.13.1/css/jquery.dataTables.min.css\">\n",
       "<script type=\"module\">\n",
       "    // Import jquery and DataTable\n",
       "    import 'https://code.jquery.com/jquery-3.6.0.min.js';\n",
       "    import dt from 'https://cdn.datatables.net/1.12.1/js/jquery.dataTables.mjs';\n",
       "    dt($);\n",
       "\n",
       "    // Define the table data\n",
       "    const data = [[1], [2], [3]];\n",
       "\n",
       "    // Define the dt_args\n",
       "    let dt_args = {\"order\": [], \"dom\": \"t\"};\n",
       "    dt_args[\"data\"] = data;\n",
       "\n",
       "    $(document).ready(function () {\n",
       "        \n",
       "        $('#f6d4ceae-ff6d-4263-b438-43a9741d3bb8').DataTable(dt_args);\n",
       "    });\n",
       "</script>\n",
       "</div>\n",
       "<p><strong>Mock Data:</strong></p><style>\n",
       ".itables table {\n",
       "    margin: 0 auto;\n",
       "    float: left;\n",
       "    color: #534F64;\n",
       "}\n",
       ".itables table th {color: #2E2B3B;}\n",
       "</style>\n",
       "<div class=\"itables\">\n",
       "<table id=\"1d44cb8c-82ad-4a12-b2f3-ffecb29aed67\" class=\"display nowrap\"style=\"table-layout:auto;width:auto;margin:auto;caption-side:bottom\"><thead>\n",
       "    <tr style=\"text-align: right;\">\n",
       "      \n",
       "      <th>0</th>\n",
       "    </tr>\n",
       "  </thead><tbody><tr><td>Loading... (need <a href=https://mwouts.github.io/itables/troubleshooting.html>help</a>?)</td></tr></tbody></table>\n",
       "<link rel=\"stylesheet\" type=\"text/css\" href=\"https://cdn.datatables.net/1.13.1/css/jquery.dataTables.min.css\">\n",
       "<script type=\"module\">\n",
       "    // Import jquery and DataTable\n",
       "    import 'https://code.jquery.com/jquery-3.6.0.min.js';\n",
       "    import dt from 'https://cdn.datatables.net/1.12.1/js/jquery.dataTables.mjs';\n",
       "    dt($);\n",
       "\n",
       "    // Define the table data\n",
       "    const data = [[1], [1], [1]];\n",
       "\n",
       "    // Define the dt_args\n",
       "    let dt_args = {\"order\": [], \"dom\": \"t\"};\n",
       "    dt_args[\"data\"] = data;\n",
       "\n",
       "    $(document).ready(function () {\n",
       "        \n",
       "        $('#1d44cb8c-82ad-4a12-b2f3-ffecb29aed67').DataTable(dt_args);\n",
       "    });\n",
       "</script>\n",
       "</div>\n",
       "</div>"
      ],
      "text/markdown": [
       "```python\n",
       "Asset: my asset\n",
       "Pointer Id: c82403143dfd42019ed40f323eba1fee\n",
       "Description: None\n",
       "Total Data Subjects: 0\n",
       "Shape: (3,)\n",
       "Contributors: 0\n",
       "\n",
       "```"
      ],
      "text/plain": [
       "syft.service.dataset.dataset.Asset"
      ]
     },
     "execution_count": 13,
     "metadata": {},
     "output_type": "execute_result"
    }
   ],
   "source": [
    "asset = dataset.assets[0]\n",
    "asset"
   ]
  },
  {
   "cell_type": "markdown",
   "id": "7db46ed0",
   "metadata": {},
   "source": [
    "The `mock` is useful for testing your code locally before submission."
   ]
  },
  {
   "cell_type": "code",
   "execution_count": 14,
   "id": "40fe27b5",
   "metadata": {},
   "outputs": [
    {
     "data": {
      "text/plain": [
       "array([1, 1, 1])"
      ]
     },
     "execution_count": 14,
     "metadata": {},
     "output_type": "execute_result"
    }
   ],
   "source": [
    "mock = dataset.assets[0].mock\n",
    "mock"
   ]
  },
  {
   "cell_type": "markdown",
   "id": "242699d6",
   "metadata": {},
   "source": [
    "## Interaction: data owners <> data scientists\n",
    "\n",
    "The interaction between data owners and data scientists are structured in the following manner:\n",
    "1. Data Scientist creates a project, under which he/she submits a series of code requests\n",
    "2. Data Owner inspect incoming requests and chooses to:\n",
    "    - approve and respond with the result released on the private data\n",
    "    - deny and provide a reasoning for denial\n",
    "3. Data Scientist inspects the status of his/her requests and download the private result\n",
    "\n",
    "Before moving forward, let's use two domain clients, to refer to the steps done by the DO vs DS:\n",
    "- `domain_client`, as we logged in previously, is the client used by the Data Owner\n",
    "- `ds_client`, as shown below, is the client used by the Data Scientist"
   ]
  },
  {
   "cell_type": "code",
   "execution_count": 15,
   "id": "fb8a7238",
   "metadata": {},
   "outputs": [
    {
     "name": "stdout",
     "output_type": "stream",
     "text": [
      "Logged into my-domain as <jane@caltech.edu>\n"
     ]
    }
   ],
   "source": [
    "ds_client = sy.login(port=8080, email=\"jane@caltech.edu\", password=\"abc123\")"
   ]
  },
  {
   "cell_type": "markdown",
   "id": "15d1c984",
   "metadata": {},
   "source": [
    "### Creating Projects\n",
    "\n",
    "A project (`sy.Project`) sets the scope of on-going collaboration between data owners and data scientists and it has the following fields:\n",
    "- `name`\n",
    "- `description`\n",
    "- `ds_client` - the client who is creating this project, in this case, the Data Scientist's client\n",
    "\n",
    "As it is an `on-going` collaboration, requests can be added before the project starts or while it is on-going. "
   ]
  },
  {
   "cell_type": "code",
   "execution_count": 16,
   "id": "975b79ec",
   "metadata": {},
   "outputs": [
    {
     "data": {
      "text/markdown": [
       "```python\n",
       "class ProjectSubmit:\n",
       "  id: str = cda964ee4c754614a69bccc82232a0e5\n",
       "  name: str = \"research on algorithmic fairness\"\n",
       "  description: str = \"Exploration of the algorithmic outcomes of algorithm A\"\n",
       "  created_by: str = \"jane@caltech.edu\"\n",
       "\n",
       "```"
      ],
      "text/plain": [
       "syft.service.project.project.ProjectSubmit"
      ]
     },
     "execution_count": 16,
     "metadata": {},
     "output_type": "execute_result"
    }
   ],
   "source": [
    "project = sy.Project(\n",
    "    name=\"research on algorithmic fairness\",\n",
    "    description=\"Exploration of the algorithmic outcomes of algorithm A\",\n",
    "    members=[ds_client]\n",
    ")\n",
    "\n",
    "project"
   ]
  },
  {
   "cell_type": "markdown",
   "id": "22a3b875",
   "metadata": {},
   "source": [
    "##### NOTE: Before submitting any request, a project must be started.\n",
    "\n",
    "However, the project above only exists locally now, as a way for us to check before submitting it to the domain server.\n",
    "\n",
    "To start a project, you simply do:"
   ]
  },
  {
   "cell_type": "code",
   "execution_count": 17,
   "id": "b59e6224",
   "metadata": {},
   "outputs": [
    {
     "data": {
      "text/markdown": [
       "```python\n",
       "class Project:\n",
       "  id: str = cda964ee4c754614a69bccc82232a0e5\n",
       "  name: str = \"research on algorithmic fairness\"\n",
       "  description: str = \"Exploration of the algorithmic outcomes of algorithm A\"\n",
       "  created_by: str = \"jane@caltech.edu\"\n",
       "  events: str = []\n",
       "\n",
       "```"
      ],
      "text/plain": [
       "syft.service.project.project.Project"
      ]
     },
     "execution_count": 17,
     "metadata": {},
     "output_type": "execute_result"
    }
   ],
   "source": [
    "project_ongoing = project.start()\n",
    "project_ongoing"
   ]
  },
  {
   "cell_type": "markdown",
   "id": "4e2a6892",
   "metadata": {},
   "source": [
    "### Viewing projects on a Domain Server\n",
    "\n",
    "Projects can be accessed by both domain owner and data scientist. However, the data scientist will naturally only have access to see the projects that they have submitted and not other data scientists' projects. \n",
    "\n",
    "Let's use the Data Owner client here to get all projects."
   ]
  },
  {
   "cell_type": "code",
   "execution_count": 18,
   "id": "5459779a",
   "metadata": {},
   "outputs": [
    {
     "data": {
      "text/html": [
       "\n",
       "                <style>\n",
       "                .syft-collection-header {color: #464158;}\n",
       "                </style>\n",
       "                <div class='syft-collection-header'>\n",
       "                    <h3>Project List</h3>\n",
       "                </div>\n",
       "                <br>\n",
       "                <style>\n",
       ".itables table {\n",
       "    margin: 0 auto;\n",
       "    float: left;\n",
       "    color: #534F64;\n",
       "}\n",
       ".itables table th {color: #2E2B3B;}\n",
       "</style>\n",
       "<div class=\"itables\">\n",
       "<table id=\"277d6f21-98fe-4bd4-8b09-e3199574a387\" class=\"display nowrap\"style=\"table-layout:auto;width:auto;margin:auto;caption-side:bottom\"><thead>\n",
       "    <tr style=\"text-align: right;\">\n",
       "      \n",
       "      <th>id</th>\n",
       "      <th>name</th>\n",
       "      <th>description</th>\n",
       "      <th>created_by</th>\n",
       "      <th>events</th>\n",
       "    </tr>\n",
       "  </thead><tbody><tr><td>Loading... (need <a href=https://mwouts.github.io/itables/troubleshooting.html>help</a>?)</td></tr></tbody></table>\n",
       "<link rel=\"stylesheet\" type=\"text/css\" href=\"https://cdn.datatables.net/1.13.1/css/jquery.dataTables.min.css\">\n",
       "<script type=\"module\">\n",
       "    // Import jquery and DataTable\n",
       "    import 'https://code.jquery.com/jquery-3.6.0.min.js';\n",
       "    import dt from 'https://cdn.datatables.net/1.12.1/js/jquery.dataTables.mjs';\n",
       "    dt($);\n",
       "\n",
       "    // Define the table data\n",
       "    const data = [[\"cda9...0e5\", \"research on algorithmic fairness\", \"Exploration of the algorithmic outcomes of algorithm A\", \"jane@caltech.edu\", \"[]\"]];\n",
       "\n",
       "    // Define the dt_args\n",
       "    let dt_args = {\"order\": [], \"dom\": \"t\"};\n",
       "    dt_args[\"data\"] = data;\n",
       "\n",
       "    $(document).ready(function () {\n",
       "        \n",
       "        $('#277d6f21-98fe-4bd4-8b09-e3199574a387').DataTable(dt_args);\n",
       "    });\n",
       "</script>\n",
       "</div>\n"
      ],
      "text/plain": [
       "<syft.client.api.APIModule at 0x7f9f62669070>"
      ]
     },
     "execution_count": 18,
     "metadata": {},
     "output_type": "execute_result"
    }
   ],
   "source": [
    "domain_client.projects"
   ]
  },
  {
   "cell_type": "markdown",
   "id": "90d8766f",
   "metadata": {},
   "source": [
    "Similarly to the datasets, you can index into the list above to select a specific project or use `get_project` and passing in the name."
   ]
  },
  {
   "cell_type": "code",
   "execution_count": 19,
   "id": "71ed77c7",
   "metadata": {},
   "outputs": [
    {
     "data": {
      "text/markdown": [
       "```python\n",
       "class Project:\n",
       "  id: str = cda964ee4c754614a69bccc82232a0e5\n",
       "  name: str = \"research on algorithmic fairness\"\n",
       "  description: str = \"Exploration of the algorithmic outcomes of algorithm A\"\n",
       "  created_by: str = \"jane@caltech.edu\"\n",
       "  events: str = []\n",
       "\n",
       "```"
      ],
      "text/plain": [
       "syft.service.project.project.Project"
      ]
     },
     "execution_count": 19,
     "metadata": {},
     "output_type": "execute_result"
    }
   ],
   "source": [
    "project_research = domain_client.get_project('research on algorithmic fairness')\n",
    "project_research"
   ]
  },
  {
   "cell_type": "markdown",
   "id": "a65dbaf6",
   "metadata": {},
   "source": [
    "## Requests within projects\n",
    "\n",
    "As mentioned before, the data scientist can attach multiple requests under a project.\n",
    "\n",
    "### How to create a code request as a Data Scientist\n",
    "\n",
    "A `sy.Request` contains a specific change requested by the Data Scientist and the object to which the change corresponds to.\n",
    "\n",
    "The most common type of request is a user code execution request, whereas the object is a code snippet - a `sy.UserCode`, which is requested to run on the private data, with specific contrainst defined via decorators, namely `InputPolicy` and `OutputPolicy`.\n",
    "\n",
    "Let's do the following steps:\n",
    "- create a Python method `compute_sum` we would like to run against private data\n",
    "- create a Syft Object that wraps `compute_sum` which enforces the way the code can be executed (for the safety of the private data)\n",
    "- test the execution of the syft object against the most data\n",
    "\n",
    "### Defining a Python method"
   ]
  },
  {
   "cell_type": "code",
   "execution_count": 20,
   "id": "0aba5ca6",
   "metadata": {},
   "outputs": [
    {
     "data": {
      "text/plain": [
       "3"
      ]
     },
     "execution_count": 20,
     "metadata": {},
     "output_type": "execute_result"
    }
   ],
   "source": [
    "def compute_sum(data):\n",
    "    return data.sum()\n",
    "\n",
    "# Running on the fake dataframe for testing\n",
    "compute_sum(mock)"
   ]
  },
  {
   "cell_type": "markdown",
   "id": "85a3f899",
   "metadata": {},
   "source": [
    "### Add Syft Function wrapper and Policies\n",
    "To convert the Python method into a Syft Object, we add a `sy.syft_function` annotation which are rules set by the data owner on what data can go IN and what data can come OUT of custom code. These policies basically pair up the code submission with the dataset asset it was intended for.\n",
    "- `input_policy` ensures that the system will only allow the code to run on the specified asset from the dataset (using a pre-defined policy as `ExactMatch(data=asset)`). This means that an approved code cannot be run on any asset at random.\n",
    "- `output_policy` can maintain state, meaning they can store metadata between execution and useful for limiting how many times a method can be run. The most common policy is single execution (`sy.SingleExecutionExactOutput`).\n",
    "\n",
    "If we want to enforce using an exact asset and single execution, we will define it as:"
   ]
  },
  {
   "cell_type": "code",
   "execution_count": 21,
   "id": "9c64c973",
   "metadata": {},
   "outputs": [],
   "source": [
    "@sy.syft_function(input_policy=sy.ExactMatch(data=asset),\n",
    "                  output_policy=sy.SingleExecutionExactOutput())\n",
    "def compute_sum(data):\n",
    "    return data.sum()"
   ]
  },
  {
   "cell_type": "markdown",
   "id": "7f50489b",
   "metadata": {},
   "source": [
    "##### How to send a code request as a Data Scientist\n",
    "Once the cells above were run, the syft object `compute_sum` is available for submission, requiring only the project reference and the Data Scientist's client as:"
   ]
  },
  {
   "cell_type": "code",
   "execution_count": 27,
   "id": "f3c608e9",
   "metadata": {},
   "outputs": [
    {
     "data": {
      "text/html": [
       "<div class=\"alert-success\" style=\"padding:5px;\"><strong>SyftSuccess</strong>: Request added successfully</div><br />"
      ],
      "text/plain": [
       "<class 'syft.service.response.SyftSuccess'>: Request added successfully"
      ]
     },
     "execution_count": 27,
     "metadata": {},
     "output_type": "execute_result"
    }
   ],
   "source": [
    "project_research.create_code_request(\n",
    "    compute_sum, \n",
    "    ds_client)"
   ]
  },
  {
   "cell_type": "markdown",
   "id": "ec526cc8",
   "metadata": {},
   "source": [
    "### View requests within project\n",
    "To view the requests which are part of the project, you can inspect:"
   ]
  },
  {
   "cell_type": "code",
   "execution_count": 28,
   "id": "a8254c9d",
   "metadata": {},
   "outputs": [
    {
     "data": {
      "text/html": [
       "\n",
       "                <style>\n",
       "                .syft-collection-header {color: #464158;}\n",
       "                </style>\n",
       "                <div class='syft-collection-header'>\n",
       "                    <h3>Request List</h3>\n",
       "                </div>\n",
       "                <br>\n",
       "                <style>\n",
       ".itables table {\n",
       "    margin: 0 auto;\n",
       "    float: left;\n",
       "    color: #534F64;\n",
       "}\n",
       ".itables table th {color: #2E2B3B;}\n",
       "</style>\n",
       "<div class=\"itables\">\n",
       "<table id=\"6a02477c-53e2-4de3-a78b-e0ad1567dc82\" class=\"display nowrap\"style=\"table-layout:auto;width:auto;margin:auto;caption-side:bottom\"><thead>\n",
       "    <tr style=\"text-align: right;\">\n",
       "      \n",
       "      <th>id</th>\n",
       "      <th>request_time</th>\n",
       "      <th>updated_at</th>\n",
       "      <th>status</th>\n",
       "      <th>changes</th>\n",
       "      <th>requesting_user_verify_key</th>\n",
       "    </tr>\n",
       "  </thead><tbody><tr><td>Loading... (need <a href=https://mwouts.github.io/itables/troubleshooting.html>help</a>?)</td></tr></tbody></table>\n",
       "<link rel=\"stylesheet\" type=\"text/css\" href=\"https://cdn.datatables.net/1.13.1/css/jquery.dataTables.min.css\">\n",
       "<script type=\"module\">\n",
       "    // Import jquery and DataTable\n",
       "    import 'https://code.jquery.com/jquery-3.6.0.min.js';\n",
       "    import dt from 'https://cdn.datatables.net/1.12.1/js/jquery.dataTables.mjs';\n",
       "    dt($);\n",
       "\n",
       "    // Define the table data\n",
       "    const data = [[\"18c3...83e\", \"2023-06-15 12:38:34\", \"None\", \"RequestStatus.PENDING\", \"[syft.service.request.request.UserCodeStatusChange]\", \"d9dfe5dc262b96a07ab91b4250c76e721f9bba9b4412681f377e938ac5891a03\"]];\n",
       "\n",
       "    // Define the dt_args\n",
       "    let dt_args = {\"order\": [], \"dom\": \"t\"};\n",
       "    dt_args[\"data\"] = data;\n",
       "\n",
       "    $(document).ready(function () {\n",
       "        \n",
       "        $('#6a02477c-53e2-4de3-a78b-e0ad1567dc82').DataTable(dt_args);\n",
       "    });\n",
       "</script>\n",
       "</div>\n"
      ],
      "text/plain": [
       "[syft.service.request.request.Request]"
      ]
     },
     "execution_count": 28,
     "metadata": {},
     "output_type": "execute_result"
    }
   ],
   "source": [
    "project_research.requests"
   ]
  },
  {
   "cell_type": "markdown",
   "id": "7b25c6c2",
   "metadata": {},
   "source": [
    "To view the code reached the Domain Server, you can look at the `.code` property of the domain via the client."
   ]
  },
  {
   "cell_type": "code",
   "execution_count": 29,
   "id": "45499306",
   "metadata": {},
   "outputs": [
    {
     "data": {
      "text/html": [
       "\n",
       "                <style>\n",
       "                .syft-collection-header {color: #464158;}\n",
       "                </style>\n",
       "                <div class='syft-collection-header'>\n",
       "                    <h3>UserCode List</h3>\n",
       "                </div>\n",
       "                <br>\n",
       "                <style>\n",
       ".itables table {\n",
       "    margin: 0 auto;\n",
       "    float: left;\n",
       "    color: #534F64;\n",
       "}\n",
       ".itables table th {color: #2E2B3B;}\n",
       "</style>\n",
       "<div class=\"itables\">\n",
       "<table id=\"a82eef24-8540-4f70-ae38-275a22410133\" class=\"display nowrap\"style=\"table-layout:auto;width:auto;margin:auto;caption-side:bottom\"><thead>\n",
       "    <tr style=\"text-align: right;\">\n",
       "      \n",
       "      <th>id</th>\n",
       "      <th>status.approved</th>\n",
       "      <th>service_func_name</th>\n",
       "    </tr>\n",
       "  </thead><tbody><tr><td>Loading... (need <a href=https://mwouts.github.io/itables/troubleshooting.html>help</a>?)</td></tr></tbody></table>\n",
       "<link rel=\"stylesheet\" type=\"text/css\" href=\"https://cdn.datatables.net/1.13.1/css/jquery.dataTables.min.css\">\n",
       "<script type=\"module\">\n",
       "    // Import jquery and DataTable\n",
       "    import 'https://code.jquery.com/jquery-3.6.0.min.js';\n",
       "    import dt from 'https://cdn.datatables.net/1.12.1/js/jquery.dataTables.mjs';\n",
       "    dt($);\n",
       "\n",
       "    // Define the table data\n",
       "    const data = [[\"a7b3...473\", false, \"compute_sum\"]];\n",
       "\n",
       "    // Define the dt_args\n",
       "    let dt_args = {\"order\": [], \"dom\": \"t\"};\n",
       "    dt_args[\"data\"] = data;\n",
       "\n",
       "    $(document).ready(function () {\n",
       "        \n",
       "        $('#a82eef24-8540-4f70-ae38-275a22410133').DataTable(dt_args);\n",
       "    });\n",
       "</script>\n",
       "</div>\n"
      ],
      "text/plain": [
       "<syft.client.api.APIModule at 0x7f9f61e34a00>"
      ]
     },
     "execution_count": 29,
     "metadata": {},
     "output_type": "execute_result"
    }
   ],
   "source": [
    "ds_client.code"
   ]
  },
  {
   "cell_type": "markdown",
   "id": "199128f8",
   "metadata": {},
   "source": [
    "### Inspect existing code requests in a domain as a Data Owner\n",
    "\n",
    "While a Data Scientist can only see the requests within their own project, the Data Owner can see all requests across his domain.\n",
    "\n",
    "To see the requests on the domain, look at:"
   ]
  },
  {
   "cell_type": "code",
   "execution_count": 30,
   "id": "f6580d10",
   "metadata": {},
   "outputs": [
    {
     "data": {
      "text/html": [
       "\n",
       "                <style>\n",
       "                .syft-collection-header {color: #464158;}\n",
       "                </style>\n",
       "                <div class='syft-collection-header'>\n",
       "                    <h3>Request List</h3>\n",
       "                </div>\n",
       "                <br>\n",
       "                <style>\n",
       ".itables table {\n",
       "    margin: 0 auto;\n",
       "    float: left;\n",
       "    color: #534F64;\n",
       "}\n",
       ".itables table th {color: #2E2B3B;}\n",
       "</style>\n",
       "<div class=\"itables\">\n",
       "<table id=\"032adddb-c6d0-43a7-93d5-29fecdab28c4\" class=\"display nowrap\"style=\"table-layout:auto;width:auto;margin:auto;caption-side:bottom\"><thead>\n",
       "    <tr style=\"text-align: right;\">\n",
       "      \n",
       "      <th>id</th>\n",
       "      <th>request_time</th>\n",
       "      <th>updated_at</th>\n",
       "      <th>status</th>\n",
       "      <th>changes</th>\n",
       "      <th>requesting_user_verify_key</th>\n",
       "    </tr>\n",
       "  </thead><tbody><tr><td>Loading... (need <a href=https://mwouts.github.io/itables/troubleshooting.html>help</a>?)</td></tr></tbody></table>\n",
       "<link rel=\"stylesheet\" type=\"text/css\" href=\"https://cdn.datatables.net/1.13.1/css/jquery.dataTables.min.css\">\n",
       "<script type=\"module\">\n",
       "    // Import jquery and DataTable\n",
       "    import 'https://code.jquery.com/jquery-3.6.0.min.js';\n",
       "    import dt from 'https://cdn.datatables.net/1.12.1/js/jquery.dataTables.mjs';\n",
       "    dt($);\n",
       "\n",
       "    // Define the table data\n",
       "    const data = [[\"18c3...83e\", \"2023-06-15 12:38:34\", \"None\", \"RequestStatus.PENDING\", \"[syft.service.request.request.UserCodeStatusChange]\", \"d9dfe5dc262b96a07ab91b4250c76e721f9bba9b4412681f377e938ac5891a03\"]];\n",
       "\n",
       "    // Define the dt_args\n",
       "    let dt_args = {\"order\": [], \"dom\": \"t\"};\n",
       "    dt_args[\"data\"] = data;\n",
       "\n",
       "    $(document).ready(function () {\n",
       "        \n",
       "        $('#032adddb-c6d0-43a7-93d5-29fecdab28c4').DataTable(dt_args);\n",
       "    });\n",
       "</script>\n",
       "</div>\n"
      ],
      "text/plain": [
       "<syft.client.api.APIModule at 0x7f9f62662520>"
      ]
     },
     "execution_count": 30,
     "metadata": {},
     "output_type": "execute_result"
    }
   ],
   "source": [
    "domain_client.requests"
   ]
  },
  {
   "cell_type": "markdown",
   "id": "ccc6eab2",
   "metadata": {},
   "source": [
    "### Answering code requests as a Data Owner\n",
    "\n",
    "The Data Owner has two option:\n",
    "- answer by depositing a response computed on the private counter part of the data\n",
    "- deny, by providing a written reason\n",
    "\n",
    "Before that, the Data Owner would:\n",
    "- inspect that the code is not malicious\n",
    "- retrieve a callable reference to the method\n",
    "- run the method against mock data for safety\n",
    "- in case of approval, run the method against the private data\n",
    "- in case of denial, specify the reason"
   ]
  },
  {
   "cell_type": "code",
   "execution_count": 31,
   "id": "b476cf8e",
   "metadata": {},
   "outputs": [
    {
     "data": {
      "text/markdown": [
       "```python\n",
       "class Request:\n",
       "  id: str = 18c32f58831c4979a6688d845f62683e\n",
       "  request_time: str = 2023-06-15 12:38:34\n",
       "  updated_at: str = None\n",
       "  status: str = RequestStatus.PENDING\n",
       "  changes: str = [syft.service.request.request.UserCodeStatusChange]\n",
       "  requesting_user_verify_key: str = d9dfe5dc262b96a07ab91b4250c76e721f9bba9b4412681f377e938ac5891a03\n",
       "\n",
       "```"
      ],
      "text/plain": [
       "syft.service.request.request.Request"
      ]
     },
     "execution_count": 31,
     "metadata": {},
     "output_type": "execute_result"
    }
   ],
   "source": [
    "request = domain_client.requests[0]\n",
    "request"
   ]
  },
  {
   "cell_type": "code",
   "execution_count": 32,
   "id": "876bb721",
   "metadata": {},
   "outputs": [
    {
     "name": "stdout",
     "output_type": "stream",
     "text": [
      "@sy.syft_function(input_policy=sy.ExactMatch(data=asset),\n",
      "                  output_policy=sy.SingleExecutionExactOutput())\n",
      "def compute_sum(data):\n",
      "    return data.sum()\n",
      "\n"
     ]
    }
   ],
   "source": [
    "# Inspect the code that was sent\n",
    "\n",
    "print(request.changes[0].link.code)"
   ]
  },
  {
   "cell_type": "code",
   "execution_count": 39,
   "id": "96e9c094",
   "metadata": {},
   "outputs": [
    {
     "name": "stdout",
     "output_type": "stream",
     "text": [
      "WARNING: This code was submitted by a User and could be UNSAFE.\n"
     ]
    },
    {
     "data": {
      "text/plain": [
       "3"
      ]
     },
     "execution_count": 39,
     "metadata": {},
     "output_type": "execute_result"
    }
   ],
   "source": [
    "# Get a callable method to the function sent and run against mock data\n",
    "\n",
    "user_func = request.changes[0].link.unsafe_function\n",
    "user_func(data=mock)"
   ]
  },
  {
   "cell_type": "code",
   "execution_count": 44,
   "id": "3465ab19",
   "metadata": {},
   "outputs": [
    {
     "data": {
      "text/html": [
       "<div class=\"alert-success\" style=\"padding:5px;\"><strong>SyftSuccess</strong>: Request 18c32f58831c4979a6688d845f62683e successfully denied !</div><br />"
      ],
      "text/plain": [
       "<class 'syft.service.response.SyftSuccess'>: Request 18c32f58831c4979a6688d845f62683e successfully denied !"
      ]
     },
     "execution_count": 44,
     "metadata": {},
     "output_type": "execute_result"
    }
   ],
   "source": [
    "# Denial\n",
    "\n",
    "request.deny(reason=\"Risk of privacy leak\")"
   ]
  },
  {
   "cell_type": "markdown",
   "id": "b25e39de",
   "metadata": {},
   "source": [
    "As a Data Owner, you can check the status of requests again to see that the `RequestStatus` was updated:"
   ]
  },
  {
   "cell_type": "code",
   "execution_count": 45,
   "id": "d0a6f3e0",
   "metadata": {},
   "outputs": [
    {
     "data": {
      "text/html": [
       "\n",
       "                <style>\n",
       "                .syft-collection-header {color: #464158;}\n",
       "                </style>\n",
       "                <div class='syft-collection-header'>\n",
       "                    <h3>Request List</h3>\n",
       "                </div>\n",
       "                <br>\n",
       "                <style>\n",
       ".itables table {\n",
       "    margin: 0 auto;\n",
       "    float: left;\n",
       "    color: #534F64;\n",
       "}\n",
       ".itables table th {color: #2E2B3B;}\n",
       "</style>\n",
       "<div class=\"itables\">\n",
       "<table id=\"29af8505-cdc0-446e-92ed-065ed0c44dd4\" class=\"display nowrap\"style=\"table-layout:auto;width:auto;margin:auto;caption-side:bottom\"><thead>\n",
       "    <tr style=\"text-align: right;\">\n",
       "      \n",
       "      <th>id</th>\n",
       "      <th>request_time</th>\n",
       "      <th>updated_at</th>\n",
       "      <th>status</th>\n",
       "      <th>changes</th>\n",
       "      <th>requesting_user_verify_key</th>\n",
       "    </tr>\n",
       "  </thead><tbody><tr><td>Loading... (need <a href=https://mwouts.github.io/itables/troubleshooting.html>help</a>?)</td></tr></tbody></table>\n",
       "<link rel=\"stylesheet\" type=\"text/css\" href=\"https://cdn.datatables.net/1.13.1/css/jquery.dataTables.min.css\">\n",
       "<script type=\"module\">\n",
       "    // Import jquery and DataTable\n",
       "    import 'https://code.jquery.com/jquery-3.6.0.min.js';\n",
       "    import dt from 'https://cdn.datatables.net/1.12.1/js/jquery.dataTables.mjs';\n",
       "    dt($);\n",
       "\n",
       "    // Define the table data\n",
       "    const data = [[\"18c3...83e\", \"2023-06-15 12:38:34\", \"2023-06-15 12:39:52\", \"RequestStatus.REJECTED\", \"[syft.service.request.request.UserCodeStatusChange, syft.service.request.request.ObjectMutation, syft.service.request.request.ActionStoreChange]\", \"d9dfe5dc262b96a07ab91b4250c76e721f9bba9b4412681f377e938ac5891a03\"]];\n",
       "\n",
       "    // Define the dt_args\n",
       "    let dt_args = {\"order\": [], \"dom\": \"t\"};\n",
       "    dt_args[\"data\"] = data;\n",
       "\n",
       "    $(document).ready(function () {\n",
       "        \n",
       "        $('#29af8505-cdc0-446e-92ed-065ed0c44dd4').DataTable(dt_args);\n",
       "    });\n",
       "</script>\n",
       "</div>\n"
      ],
      "text/plain": [
       "<syft.client.api.APIModule at 0x7f9f62662520>"
      ]
     },
     "execution_count": 45,
     "metadata": {},
     "output_type": "execute_result"
    }
   ],
   "source": [
    "domain_client.requests"
   ]
  },
  {
   "cell_type": "code",
   "execution_count": 46,
   "id": "bce04b5c",
   "metadata": {},
   "outputs": [
    {
     "data": {
      "text/plain": [
       "6"
      ]
     },
     "execution_count": 46,
     "metadata": {},
     "output_type": "execute_result"
    }
   ],
   "source": [
    "# Approval\n",
    "\n",
    "real_result = user_func(data=asset.data)\n",
    "real_result"
   ]
  },
  {
   "cell_type": "code",
   "execution_count": 47,
   "id": "9355a0a8",
   "metadata": {},
   "outputs": [
    {
     "data": {
      "text/html": [
       "<div class=\"alert-success\" style=\"padding:5px;\"><strong>SyftSuccess</strong>: Request 18c32f58831c4979a6688d845f62683e changes applied</div><br />"
      ],
      "text/plain": [
       "<class 'syft.service.response.SyftSuccess'>: Request 18c32f58831c4979a6688d845f62683e changes applied"
      ]
     },
     "execution_count": 47,
     "metadata": {},
     "output_type": "execute_result"
    }
   ],
   "source": [
    "request.accept_by_depositing_result(real_result)"
   ]
  },
  {
   "cell_type": "code",
   "execution_count": 48,
   "id": "021f124d",
   "metadata": {},
   "outputs": [
    {
     "data": {
      "text/html": [
       "\n",
       "                <style>\n",
       "                .syft-collection-header {color: #464158;}\n",
       "                </style>\n",
       "                <div class='syft-collection-header'>\n",
       "                    <h3>Request List</h3>\n",
       "                </div>\n",
       "                <br>\n",
       "                <style>\n",
       ".itables table {\n",
       "    margin: 0 auto;\n",
       "    float: left;\n",
       "    color: #534F64;\n",
       "}\n",
       ".itables table th {color: #2E2B3B;}\n",
       "</style>\n",
       "<div class=\"itables\">\n",
       "<table id=\"e8841b2b-8eed-4d64-9d07-97f41f43e32b\" class=\"display nowrap\"style=\"table-layout:auto;width:auto;margin:auto;caption-side:bottom\"><thead>\n",
       "    <tr style=\"text-align: right;\">\n",
       "      \n",
       "      <th>id</th>\n",
       "      <th>request_time</th>\n",
       "      <th>updated_at</th>\n",
       "      <th>status</th>\n",
       "      <th>changes</th>\n",
       "      <th>requesting_user_verify_key</th>\n",
       "    </tr>\n",
       "  </thead><tbody><tr><td>Loading... (need <a href=https://mwouts.github.io/itables/troubleshooting.html>help</a>?)</td></tr></tbody></table>\n",
       "<link rel=\"stylesheet\" type=\"text/css\" href=\"https://cdn.datatables.net/1.13.1/css/jquery.dataTables.min.css\">\n",
       "<script type=\"module\">\n",
       "    // Import jquery and DataTable\n",
       "    import 'https://code.jquery.com/jquery-3.6.0.min.js';\n",
       "    import dt from 'https://cdn.datatables.net/1.12.1/js/jquery.dataTables.mjs';\n",
       "    dt($);\n",
       "\n",
       "    // Define the table data\n",
       "    const data = [[\"18c3...83e\", \"2023-06-15 12:38:34\", \"2023-06-15 12:39:59\", \"RequestStatus.APPROVED\", \"[syft.service.request.request.UserCodeStatusChange, syft.service.request.request.ObjectMutation, syft.service.request.request.ActionStoreChange, syft.service.request.request.ObjectMutation, syft.service.request.request.ActionStoreChange]\", \"d9dfe5dc262b96a07ab91b4250c76e721f9bba9b4412681f377e938ac5891a03\"]];\n",
       "\n",
       "    // Define the dt_args\n",
       "    let dt_args = {\"order\": [], \"dom\": \"t\"};\n",
       "    dt_args[\"data\"] = data;\n",
       "\n",
       "    $(document).ready(function () {\n",
       "        \n",
       "        $('#e8841b2b-8eed-4d64-9d07-97f41f43e32b').DataTable(dt_args);\n",
       "    });\n",
       "</script>\n",
       "</div>\n"
      ],
      "text/plain": [
       "<syft.client.api.APIModule at 0x7f9f62662520>"
      ]
     },
     "execution_count": 48,
     "metadata": {},
     "output_type": "execute_result"
    }
   ],
   "source": [
    "domain_client.requests"
   ]
  },
  {
   "cell_type": "markdown",
   "id": "3716f152",
   "metadata": {},
   "source": [
    "#### Checking status of request as Data Scientist\n",
    "\n",
    "However, as a data scientist, you can:\n",
    "1. check the requests within your project similarly to see the status\n",
    "2. re-run the method on the pointer, which will return the actual result if it was deposited or the denial reason"
   ]
  },
  {
   "cell_type": "code",
   "execution_count": 49,
   "id": "89410af7",
   "metadata": {},
   "outputs": [
    {
     "data": {
      "text/html": [
       "\n",
       "                <style>\n",
       "                .syft-collection-header {color: #464158;}\n",
       "                </style>\n",
       "                <div class='syft-collection-header'>\n",
       "                    <h3>Request List</h3>\n",
       "                </div>\n",
       "                <br>\n",
       "                <style>\n",
       ".itables table {\n",
       "    margin: 0 auto;\n",
       "    float: left;\n",
       "    color: #534F64;\n",
       "}\n",
       ".itables table th {color: #2E2B3B;}\n",
       "</style>\n",
       "<div class=\"itables\">\n",
       "<table id=\"ad2550a7-c80f-4218-9773-909a3d86f45a\" class=\"display nowrap\"style=\"table-layout:auto;width:auto;margin:auto;caption-side:bottom\"><thead>\n",
       "    <tr style=\"text-align: right;\">\n",
       "      \n",
       "      <th>id</th>\n",
       "      <th>request_time</th>\n",
       "      <th>updated_at</th>\n",
       "      <th>status</th>\n",
       "      <th>changes</th>\n",
       "      <th>requesting_user_verify_key</th>\n",
       "    </tr>\n",
       "  </thead><tbody><tr><td>Loading... (need <a href=https://mwouts.github.io/itables/troubleshooting.html>help</a>?)</td></tr></tbody></table>\n",
       "<link rel=\"stylesheet\" type=\"text/css\" href=\"https://cdn.datatables.net/1.13.1/css/jquery.dataTables.min.css\">\n",
       "<script type=\"module\">\n",
       "    // Import jquery and DataTable\n",
       "    import 'https://code.jquery.com/jquery-3.6.0.min.js';\n",
       "    import dt from 'https://cdn.datatables.net/1.12.1/js/jquery.dataTables.mjs';\n",
       "    dt($);\n",
       "\n",
       "    // Define the table data\n",
       "    const data = [[\"18c3...83e\", \"2023-06-15 12:38:34\", \"2023-06-15 12:39:59\", \"RequestStatus.APPROVED\", \"[syft.service.request.request.UserCodeStatusChange, syft.service.request.request.ObjectMutation, syft.service.request.request.ActionStoreChange, syft.service.request.request.ObjectMutation, syft.service.request.request.ActionStoreChange]\", \"d9dfe5dc262b96a07ab91b4250c76e721f9bba9b4412681f377e938ac5891a03\"]];\n",
       "\n",
       "    // Define the dt_args\n",
       "    let dt_args = {\"order\": [], \"dom\": \"t\"};\n",
       "    dt_args[\"data\"] = data;\n",
       "\n",
       "    $(document).ready(function () {\n",
       "        \n",
       "        $('#ad2550a7-c80f-4218-9773-909a3d86f45a').DataTable(dt_args);\n",
       "    });\n",
       "</script>\n",
       "</div>\n"
      ],
      "text/plain": [
       "[syft.service.request.request.Request]"
      ]
     },
     "execution_count": 49,
     "metadata": {},
     "output_type": "execute_result"
    }
   ],
   "source": [
    "project_research.requests"
   ]
  },
  {
   "cell_type": "code",
   "execution_count": 50,
   "id": "9666be79",
   "metadata": {},
   "outputs": [
    {
     "data": {
      "text/plain": [
       "6"
      ]
     },
     "execution_count": 50,
     "metadata": {},
     "output_type": "execute_result"
    }
   ],
   "source": [
    "# Download the result, as it was approved:\n",
    "\n",
    "ds_client.code.compute_sum(data=asset.data).get_from(ds_client)"
   ]
  },
  {
   "cell_type": "markdown",
   "id": "be8a1953",
   "metadata": {},
   "source": [
    "# Support\n",
    "\n",
    "For further questions, please refer to our Slack channel for this exercise:\n",
    "\n",
    "https://join.slack.com/share/enQtNTQyNDYyMzk1MDI3OC00YTdiYjZjMGU1ODRlYTZjYjg0MWJmNzEyMGJiNjM0ZWZkMjk5M2Q4ODdjZWMzOTg0NjNhM2JlMTQ2NWNkZWY4"
   ]
  }
 ],
 "metadata": {
  "kernelspec": {
   "display_name": "Python 3 (ipykernel)",
   "language": "python",
   "name": "python3"
  },
  "language_info": {
   "codemirror_mode": {
    "name": "ipython",
    "version": 3
   },
   "file_extension": ".py",
   "mimetype": "text/x-python",
   "name": "python",
   "nbconvert_exporter": "python",
   "pygments_lexer": "ipython3",
   "version": "3.9.5"
  }
 },
 "nbformat": 4,
 "nbformat_minor": 5
}
