{
 "cells": [
  {
   "cell_type": "markdown",
   "id": "dd75384e",
   "metadata": {},
   "source": [
    "# The Data Wars: Code Clash in the Galactic Empire\n",
    "\n",
    "## Act 2: The Hoth Project Hurdle\n",
    "\n",
    "<a href=\"https://ibb.co/LxC1Bgb\"><img src=\"https://i.ibb.co/pf3dNKG/Fire-Shot-Capture-050-Act-2-The-Hoth-Project-Hurdle-Jupyter-Notebook-localhost.png\" alt=\"Fire-Shot-Capture-050-Act-2-The-Hoth-Project-Hurdle-Jupyter-Notebook-localhost\" border=\"0\"></a>"
   ]
  },
  {
   "cell_type": "markdown",
   "id": "9eafccb1",
   "metadata": {},
   "source": [
    "### Reviewing of the two sides in the data wars\n",
    "\n",
    "According to the Data Wars conspect, we have:\n",
    "\n",
    "#### Luke CodeWalker (Data scientist):\n",
    "A daring Data Scientist committed to the Rebel Alliance, eager to explore, analyze, and understand the data to find strategic insights.\n",
    "\n",
    "#### Darth Validator (Data owner): \n",
    "A vigilant Data Owner from the Galactic Empire, responsible for reviewing and approving code requests, ensuring no sensitive data leaks from the Empire's vaults."
   ]
  },
  {
   "cell_type": "markdown",
   "id": "5b71fa7f",
   "metadata": {},
   "source": [
    "\n",
    "## The Setup Phase\n",
    "\n",
    "For a data war to happen... there must be data!\n",
    "\n",
    "And even more than that: the data must be guarded properly behind the walls of the Darth Validator to minimise any privacy or data leaks and retain ownership of the data, but also accesible to Luke CodeWalker for him to fulfill his purpose of learning relevant information from the datasets, without having direct access to it.\n",
    "\n",
    "Thus, let's see how the Galactic Empire has decided this should happen.\n",
    "\n",
    "### Real data and mock data\n",
    "\n",
    "How it works is that there will be two datasets:\n",
    "- the real dataset, containing the true unaltered information\n",
    "- a mock dataset, containing fake data generated to be of the same type to the real one\n",
    "\n",
    "### High-side domain and low-side domain\n",
    "\n",
    "The real dataset will be kept private in what is called **the high side domain**. Only the data manager have direct access to it, and not data scientists.\n",
    "\n",
    "The mock dataset will be stored into the **low side domain** and you will have direct access to it via code request.\n",
    "\n",
    "<a href=\"https://ibb.co/VLzYzFN\"><img src=\"https://i.ibb.co/HKbTbc2/low-side-high-side.png\" alt=\"low-side-high-side\" border=\"0\"></a>\n",
    "\n",
    "### Workflow altogether\n",
    "\n",
    "Let's assume you are Luke CodeWalker and you would like to investigate the data hosted by Darth Validator.\n",
    "\n",
    "**Prepare the query** (purple arrows)\\\n",
    "Luke knows what he would like to learn from Darth Validator's data, so he can prepare a code request, but will only be able to run it against the mock dataset on the low-side domain. The dataset will look and feel like the real one, but it won't contain the true data, thus useful for testing.\n",
    "\n",
    "**Submit the code request** (orange arrows)\\\n",
    "Luke can submit the code query for approval from Darth Validator. The code is sent via PySyft API directly to the him, the data manager, who will check the code, make sure it is safe to be run on the private, highly secured data, and if so, Darth Validator will execute the code on the private data, and generate the answer.\n",
    "\n",
    "**Get the answer** (orange arrows)\\\n",
    "After Darth Validator runs the code, he will also inspect the answer to make sure privacy is preserved before sharing it with his biggest enemy, Luke CodeWalker. If it is fine, Darth will send the unaltered answer which the function returned on the private, real data this time.\n",
    "\n",
    "\n",
    "The setup will therefore consist of:\n",
    "- prepare the low-side server\n",
    "- generate and upload the data to the servers (real & mock)\n",
    "- give access to the data scientist to the low-side\n",
    "- check that we are ready\n",
    "\n",
    "All you need to do is run through the following code cells without any change and checking that it worked, as the whole Galactic Empire (and the following steps) depend on it."
   ]
  },
  {
   "cell_type": "code",
   "execution_count": null,
   "id": "3552a318",
   "metadata": {},
   "outputs": [],
   "source": [
    "!pip install --pre syft"
   ]
  },
  {
   "cell_type": "code",
   "execution_count": 1,
   "id": "f2fde145",
   "metadata": {},
   "outputs": [],
   "source": [
    "# Imports\n",
    "\n",
    "import syft as sy\n",
    "from syft import autocache\n",
    "import pandas as pd\n",
    "import numpy as np"
   ]
  },
  {
   "cell_type": "code",
   "execution_count": 2,
   "id": "e2c4417b",
   "metadata": {},
   "outputs": [
    {
     "name": "stdout",
     "output_type": "stream",
     "text": [
      "SQLite Store Path:\n",
      "!open file:///tmp/d53bb40d0ba04b09a07035d5ab677a61.sqlite\n",
      "\n"
     ]
    }
   ],
   "source": [
    "# Step 1. Launching the low-side\n",
    "\n",
    "low_side_server = sy.orchestra.launch(name=\"galactic_empire\", dev_mode=True, reset=True)"
   ]
  },
  {
   "cell_type": "code",
   "execution_count": 11,
   "id": "4fb7a98d",
   "metadata": {},
   "outputs": [
    {
     "data": {
      "text/plain": [
       "<SyftClient - galactic_empire <d53bb40d0ba04b09a07035d5ab677a61>: PythonConnection>"
      ]
     },
     "execution_count": 11,
     "metadata": {},
     "output_type": "execute_result"
    }
   ],
   "source": [
    "# Step 2. Get a client to access the Galactic Empire Domain as a data manager \n",
    "\n",
    "low_side_client_darth_validator = low_side_server.login(email=\"info@openmined.org\", password=\"changethis\")\n",
    "low_side_client_darth_validator"
   ]
  },
  {
   "cell_type": "code",
   "execution_count": 4,
   "id": "9d3979b8",
   "metadata": {},
   "outputs": [],
   "source": [
    "# Step 3. Dataset loading\n",
    "\n",
    "# As we do not have such a dataset, we generate it from scratch.\n",
    "\n",
    "def generate_space_battles(num_battles, seed=42):\n",
    "    # Set a seed for reproducibility\n",
    "    np.random.seed(seed)\n",
    "\n",
    "    # Generate random data for each column\n",
    "    battle_id = np.arange(1, num_battles + 1)\n",
    "    year = np.random.randint(20, 40, size=num_battles)  # Assuming the battles took place between year 20 and 40\n",
    "    duration = np.random.uniform(1, 72, size=num_battles)  # Duration between 1 and 72 hours\n",
    "    galactic_lat = np.random.uniform(-90, 90, size=num_battles)  # Galactic Latitude between -90 and 90\n",
    "    galactic_long = np.random.uniform(-180, 180, size=num_battles)  # Galactic Longitude between -180 and 180\n",
    "    rebel_forces = np.random.randint(1, 10000, size=num_battles)  # Number of Rebel ships involved\n",
    "    empire_forces = np.random.randint(1, 10000, size=num_battles)  # Number of Empire ships involved\n",
    "    rebel_casualties = np.random.randint(0, rebel_forces)  # Rebel casualties cannot exceed number of Rebel forces\n",
    "    empire_casualties = np.random.randint(0, empire_forces)  # Empire casualties cannot exceed number of Empire forces\n",
    "    outcome = np.random.randint(0, 2, size=num_battles)  # Outcome is either 0 (Empire won) or 1 (Rebels won)\n",
    "\n",
    "    # Combine all columns into a DataFrame\n",
    "    df = pd.DataFrame({\n",
    "        'Battle ID': battle_id,\n",
    "        'Year': year,\n",
    "        'Duration': duration,\n",
    "        'Galactic Latitude': galactic_lat,\n",
    "        'Galactic Longitude': galactic_long,\n",
    "        'Rebel Forces': rebel_forces,\n",
    "        'Empire Forces': empire_forces,\n",
    "        'Rebel Casualties': rebel_casualties,\n",
    "        'Empire Casualties': empire_casualties,\n",
    "        'Outcome': outcome\n",
    "    })\n",
    "\n",
    "    return df\n",
    "\n",
    "private_data = generate_space_battles(1000)\n",
    "mock_data = generate_space_battles(1000)"
   ]
  },
  {
   "cell_type": "code",
   "execution_count": 7,
   "id": "d27ca50c",
   "metadata": {},
   "outputs": [
    {
     "name": "stderr",
     "output_type": "stream",
     "text": [
      "0it [00:00, ?it/s]\n"
     ]
    },
    {
     "data": {
      "text/html": [
       "<div class=\"alert-success\" style=\"padding:5px;\"><strong>SyftSuccess</strong>: Dataset Added</div><br />"
      ],
      "text/plain": [
       "<class 'syft.service.response.SyftSuccess'>: Dataset Added"
      ]
     },
     "execution_count": 7,
     "metadata": {},
     "output_type": "execute_result"
    }
   ],
   "source": [
    "# Step 4. Upload the dataset to the low-side server\n",
    "\n",
    "battle_dataset = sy.Dataset(\n",
    "    name=\"Data wars battle dataset\",\n",
    "    description=\"\"\"Contains the data of all the spacewars fought\"\"\",\n",
    "    assets_list=[\n",
    "        sy.Asset(\n",
    "            name=\"battles\",\n",
    "            description=\"\"\"Contains the details for all the battles fought in space\"\"\",\n",
    "            data=private_data,\n",
    "            mock=mock_data\n",
    "        ),\n",
    "    ],\n",
    ")\n",
    "battle_dataset.add_contributor(\n",
    "    role=sy.roles.UPLOADER, \n",
    "    name=\"Darth SkyWalker\", \n",
    "    email=\"darth@skywalker.com\",\n",
    "    note=\"Darth Walker makes everything happen in space\")\n",
    "\n",
    "low_side_client_darth_validator.upload_dataset(battle_dataset)"
   ]
  },
  {
   "cell_type": "code",
   "execution_count": 8,
   "id": "690cfa27",
   "metadata": {},
   "outputs": [
    {
     "data": {
      "text/html": [
       "<div class=\"alert-success\" style=\"padding:5px;\"><strong>SyftSuccess</strong>: User successfully registered!</div><br />"
      ],
      "text/plain": [
       "<class 'syft.service.response.SyftSuccess'>: User successfully registered!"
      ]
     },
     "execution_count": 8,
     "metadata": {},
     "output_type": "execute_result"
    }
   ],
   "source": [
    "# Step 5. Create an account for Luke CodeWalker to access the low-side domain\n",
    "\n",
    "low_side_client_darth_validator.register(\n",
    "    name=\"Luke CodeWalker\",\n",
    "    email=\"luke@galactic-empire.edu\",\n",
    "    password=\"codewalker\")"
   ]
  },
  {
   "cell_type": "code",
   "execution_count": 10,
   "id": "53f8a01c",
   "metadata": {},
   "outputs": [
    {
     "name": "stderr",
     "output_type": "stream",
     "text": [
      "/home/ina/miniconda3/lib/python3.9/site-packages/IPython/core/formatters.py:365: FormatterWarning: text/html formatter returned invalid type <class 'type'> (expected <class 'str'>) for object: <SyftClient - galactic_empire <d53bb40d0ba04b09a07035d5ab677a61>: PythonConnection>\n",
      "  warnings.warn(\n"
     ]
    },
    {
     "data": {
      "text/plain": [
       "<SyftClient - galactic_empire <d53bb40d0ba04b09a07035d5ab677a61>: PythonConnection>"
      ]
     },
     "execution_count": 10,
     "metadata": {},
     "output_type": "execute_result"
    }
   ],
   "source": [
    "# Step 6. Get a client to access the Galactic Empire Low-side Domain as a data scientst\n",
    "\n",
    "low_side_client_luke_codewalker = low_side_server.login(email=\"luke@galactic-empire.edu\", password=\"codewalker\")\n",
    "low_side_client_luke_codewalker"
   ]
  },
  {
   "cell_type": "markdown",
   "id": "3d17b53c",
   "metadata": {},
   "source": [
    "### NOTES\n",
    "\n",
    "For easiness, we compiled the whole act in one notebook, which means you will switch hats often - from being Luke CodeWalker to being Darth Validator and back, to cover each part of the workflow. Make sure that when you refer to the domain as Luke - you use `low_side_client_luke_codewalker` and when you refer to the domain as Darth (data manager) - you use `low_side_client_darth_validator`."
   ]
  },
  {
   "cell_type": "markdown",
   "id": "1048bb0c",
   "metadata": {},
   "source": [
    "## Into the Adventure\n",
    "\n",
    "Once the setup phase is complete, you are free to follow replicating the act that has been assigned to you.\n",
    "\n",
    "We'll guide your way, but refering to documentation will be necessary often to figure out how to succed.\n",
    "\n",
    "Remember, your role in this saga is crucial; the Empire and Rebel Alliance both rely on your acumen and skills. So gear up, ignite your lightsaber, and step into the world of Syft, where data security and privacy matter as much as the force itself.\n",
    "\n",
    "May the Force (of Syft) be with you!"
   ]
  },
  {
   "cell_type": "markdown",
   "id": "e78c0200",
   "metadata": {},
   "source": [
    "# Act 2 - The Hoth Project Hurdle"
   ]
  },
  {
   "cell_type": "markdown",
   "id": "66c288f7",
   "metadata": {},
   "source": [
    "## Scene 1: \n",
    "\n",
    "As Luke CodeWalker, eager to push boundaries, you start Project Hoth. You send one code request for this new project to Darth Validator. This might involve identifying the battle with the highest number of rebel forces.\n",
    "\n",
    "Using Syft, you need to create this code request on the dataset called `Data wars battle dataset`.\n",
    "\n",
    "Let's get to it."
   ]
  },
  {
   "cell_type": "markdown",
   "id": "258b78ed",
   "metadata": {},
   "source": [
    "### Step 1.1:  Luke CodeWalker finds dataset "
   ]
  },
  {
   "cell_type": "code",
   "execution_count": null,
   "id": "b2e44c4c",
   "metadata": {},
   "outputs": [],
   "source": [
    "# Inspect what datasets are hosted in the domain\n",
    "\n",
    "Fill in the code here"
   ]
  },
  {
   "cell_type": "code",
   "execution_count": null,
   "id": "0aeabd86",
   "metadata": {},
   "outputs": [],
   "source": [
    "# Inspect what assets are hosted under the dataset named 'Data wars battle dataset'\n",
    "\n",
    "Fill in the code here"
   ]
  },
  {
   "cell_type": "code",
   "execution_count": null,
   "id": "596ddb3b",
   "metadata": {},
   "outputs": [],
   "source": [
    "# Inspect each asset \n",
    "\n",
    "Fill in the code here"
   ]
  },
  {
   "cell_type": "markdown",
   "id": "f25787fe",
   "metadata": {},
   "source": [
    "### Step 1.2: Luke CodeWalker test the code against mock data"
   ]
  },
  {
   "cell_type": "code",
   "execution_count": null,
   "id": "817b3682",
   "metadata": {},
   "outputs": [],
   "source": [
    "# Uncomment the code below to define the methods requested for testing\n",
    " \n",
    "# def max_rebel_forces(battle_data):\n",
    "#     # DO NOT CHANGE\n",
    "    \n",
    "#     import pandas as pd\n",
    "#     from opendp.mod import enable_features\n",
    "#     enable_features('contrib')\n",
    "#     from opendp.measurements import make_base_laplace\n",
    "    \n",
    "#     battle_max_forces = battle_data[battle_data['Rebel Forces'] == battle_data['Rebel Forces'].max()]['Battle Name']\n",
    "\n",
    "#     temp_data = battle_data.copy()  \n",
    "#     mean_forces = temp_data['Rebel Forces'].mean()\n",
    "\n",
    "#     result = {'data': temp_data, 'statistic': mean_forces}\n",
    "\n",
    "#     return result\n"
   ]
  },
  {
   "cell_type": "code",
   "execution_count": null,
   "id": "aab15a78",
   "metadata": {},
   "outputs": [],
   "source": [
    "# Test the first method against the mock data on the domain\n",
    "\n",
    "Fill in the code here"
   ]
  },
  {
   "cell_type": "code",
   "execution_count": null,
   "id": "110d7d36",
   "metadata": {},
   "outputs": [],
   "source": [
    "# Test the second method against the mock data on the domain\n",
    "\n",
    "Fill in the code here"
   ]
  },
  {
   "cell_type": "markdown",
   "id": "6a4ceb3b",
   "metadata": {},
   "source": [
    "### Step 1.3: Luke CodeWalker creates the code request"
   ]
  },
  {
   "cell_type": "markdown",
   "id": "00b1db0c",
   "metadata": {},
   "source": [
    "Darth Validator is taking extra steps dealing with Luke\\'s requests, who is a known Jedi Knight. Thus, he will only accept remote code execution that:\n",
    "- can only be run once on the private data\n",
    "- can only be run only on the specified dataset\n",
    "- can only be run without any modification to the code sent\n",
    "\n",
    "Let's see how we transform the Python methods define above to be compliant with Darth Validator's strict requirements."
   ]
  },
  {
   "cell_type": "code",
   "execution_count": null,
   "id": "6451fa9e",
   "metadata": {},
   "outputs": [],
   "source": [
    "# Re-define first method to be compliant with the requests above.\n",
    "\n",
    "Fill in the code here"
   ]
  },
  {
   "cell_type": "code",
   "execution_count": null,
   "id": "e09511cd",
   "metadata": {},
   "outputs": [],
   "source": [
    "# Re-define the second method to be compliant with the requests above.\n",
    "\n",
    "Fill in the code here"
   ]
  },
  {
   "cell_type": "markdown",
   "id": "26d392bf",
   "metadata": {},
   "source": [
    "### Step 1.4: Luke creates the project 'Hoth'\n",
    "\n",
    "The project Hoth aims to unveil the major battles where Rebel forces exhibited their true strength. In this project, we seek to identify.    the battle which saw the highest number of Rebel forces in action."
   ]
  },
  {
   "cell_type": "code",
   "execution_count": null,
   "id": "db75ab84",
   "metadata": {},
   "outputs": [],
   "source": [
    "# Create a project named 'Hoth'\n",
    "\n",
    "Fill in the code here"
   ]
  },
  {
   "cell_type": "code",
   "execution_count": null,
   "id": "ed0bb427",
   "metadata": {},
   "outputs": [],
   "source": [
    "# Check the project looks alright\n",
    "\n",
    "Fill in the code here"
   ]
  },
  {
   "cell_type": "code",
   "execution_count": null,
   "id": "a18c24b7",
   "metadata": {},
   "outputs": [],
   "source": [
    "# Add the methods defined before as code requests on the project\n",
    "\n",
    "Fill in the code here"
   ]
  },
  {
   "cell_type": "code",
   "execution_count": null,
   "id": "f373a686",
   "metadata": {},
   "outputs": [],
   "source": [
    "# Check the requests were registered on the project\n",
    "\n",
    "Fill in the code here"
   ]
  },
  {
   "cell_type": "code",
   "execution_count": null,
   "id": "4d11a7a5",
   "metadata": {},
   "outputs": [],
   "source": [
    "# Inspect the code has succesfully reached the domain\n",
    "\n",
    "Fill in the code here"
   ]
  },
  {
   "cell_type": "markdown",
   "id": "e53ce84a",
   "metadata": {},
   "source": [
    "### Step 1.5: Luke checks if his request got answered\n"
   ]
  },
  {
   "cell_type": "code",
   "execution_count": null,
   "id": "13a6331d",
   "metadata": {},
   "outputs": [],
   "source": [
    "# Checks the status of requests\n",
    "\n",
    "Fill in the code here"
   ]
  },
  {
   "cell_type": "markdown",
   "id": "570cbb1b",
   "metadata": {},
   "source": [
    "## Scene 2: \n",
    "\n",
    "Darth Validator is back and a new threat has appeared: incoming code requests from none other than Luke CodeWalker. \n",
    "\n",
    "As Darth Validator, you carefully review the code requests, but make sure that the computations are not revealing any sensitive data, but statistical relevant information.\n",
    "\n",
    "In this case, Luke is playing tricks on you - trying to extract the whole dataset from you, but you figure out and refuse the request."
   ]
  },
  {
   "cell_type": "markdown",
   "id": "3fc54703",
   "metadata": {},
   "source": [
    "### Step 2.1: Darth Validator check for projects submitted to his domain\n"
   ]
  },
  {
   "cell_type": "code",
   "execution_count": null,
   "id": "2c1aa617",
   "metadata": {},
   "outputs": [],
   "source": [
    "# Inspect projects on the domain\n",
    "\n",
    "Fill in the code here"
   ]
  },
  {
   "cell_type": "code",
   "execution_count": null,
   "id": "f98308c5",
   "metadata": {},
   "outputs": [],
   "source": [
    "# Inspect if there are pending requests attached to the project\n",
    "\n",
    "Fill in the code here"
   ]
  },
  {
   "cell_type": "markdown",
   "id": "c874ccd4",
   "metadata": {},
   "source": [
    "### Step 2.2: Darth Validator denies malicious request"
   ]
  },
  {
   "cell_type": "code",
   "execution_count": null,
   "id": "f999b541",
   "metadata": {},
   "outputs": [],
   "source": [
    "# Get the pending request\n",
    "\n",
    "Fill in the code here"
   ]
  },
  {
   "cell_type": "code",
   "execution_count": null,
   "id": "baeadcf2",
   "metadata": {},
   "outputs": [],
   "source": [
    "# Check the code under request without running it\n",
    "\n",
    "Fill in the code here"
   ]
  },
  {
   "cell_type": "code",
   "execution_count": null,
   "id": "4d57268c",
   "metadata": {},
   "outputs": [],
   "source": [
    "# Retrieve the callable function for running and run it on mock data\n",
    "\n",
    "Fill in the code here"
   ]
  },
  {
   "cell_type": "code",
   "execution_count": null,
   "id": "4a26462e",
   "metadata": {},
   "outputs": [],
   "source": [
    "# Run the callable function on the private data\n",
    "\n",
    "Fill in the code here"
   ]
  },
  {
   "cell_type": "code",
   "execution_count": null,
   "id": "f956245e",
   "metadata": {},
   "outputs": [],
   "source": [
    "# Deny the request, as it attempts to return the entire dataset.\n",
    "# What a trick Luke thought of! \n",
    "\n",
    "Fill in the code here"
   ]
  },
  {
   "cell_type": "markdown",
   "id": "a23076a3",
   "metadata": {},
   "source": [
    "### Step 2.3: Confirm no pending project requests"
   ]
  },
  {
   "cell_type": "code",
   "execution_count": null,
   "id": "6decb978",
   "metadata": {},
   "outputs": [],
   "source": [
    "# Check the status of all requests under the project\n",
    "\n",
    "Fill in the code here"
   ]
  },
  {
   "cell_type": "markdown",
   "id": "893f474f",
   "metadata": {},
   "source": [
    "## Scene 3: \n",
    "\n",
    "\n",
    "As Luke CodeWalker, you receive the refusal from Darth Validator. You lost one battle, but not the whole war. \n",
    "\n",
    "Let's submit a new code request without any tricks.\n"
   ]
  },
  {
   "cell_type": "markdown",
   "id": "2af8e6b7",
   "metadata": {},
   "source": [
    "### Step 3.1: Luke checks status of requests"
   ]
  },
  {
   "cell_type": "code",
   "execution_count": null,
   "id": "f52fe9fc",
   "metadata": {},
   "outputs": [],
   "source": [
    "# Luke CodeWalker checks the response for request\n",
    "\n",
    "Fill in the code here"
   ]
  },
  {
   "cell_type": "markdown",
   "id": "edab8f5a",
   "metadata": {},
   "source": [
    "### Step 3.2: Luke writes a new method"
   ]
  },
  {
   "cell_type": "code",
   "execution_count": null,
   "id": "97b5cdff",
   "metadata": {},
   "outputs": [],
   "source": [
    "# Uncomment the code below to define the methods requested for testing\n",
    "\n",
    "\n",
    "# # Notice the _v2 to signal it is a new method definition\n",
    "# def max_rebel_forces_v2(battle_data):\n",
    "#     # DO NOT CHANGE\n",
    "#     import pandas as pd\n",
    "    \n",
    "#     battle_max_forces = battle_data[battle_data['Rebel Forces'] == battle_data['Rebel Forces'].max()]['Battle Name']\n",
    "    \n",
    "#     return battle_max_forces"
   ]
  },
  {
   "cell_type": "code",
   "execution_count": null,
   "id": "66338f2d",
   "metadata": {},
   "outputs": [],
   "source": [
    "# Test the method against the mock data on the domain\n",
    "\n",
    "Fill in the code here"
   ]
  },
  {
   "cell_type": "markdown",
   "id": "0a590e91",
   "metadata": {},
   "source": [
    "### Step 3.3: Luke submits a new code request to project 'Hoth'"
   ]
  },
  {
   "cell_type": "code",
   "execution_count": null,
   "id": "00974209",
   "metadata": {},
   "outputs": [],
   "source": [
    "# Re-define the method to be syft executable\n",
    "\n",
    "Fill in the code here"
   ]
  },
  {
   "cell_type": "code",
   "execution_count": null,
   "id": "2f459e58",
   "metadata": {},
   "outputs": [],
   "source": [
    "# Add the code request to the project 'Hoth'\n",
    "\n",
    "Fill in the code here"
   ]
  },
  {
   "cell_type": "code",
   "execution_count": null,
   "id": "a6fc0cad",
   "metadata": {},
   "outputs": [],
   "source": [
    "# Check the code request is pending an answer\n",
    "\n",
    "Fill in the code here"
   ]
  },
  {
   "cell_type": "markdown",
   "id": "4d4f20aa",
   "metadata": {},
   "source": [
    "## Scene 4: \n",
    "\n",
    "\n",
    "As Darth Validator, you inspect the domain again for incoming request on your projects and you note Luke CodeWalker took note of your refusal and submitted an improved request.\n",
    "\n",
    "In good faith, you approve and respond."
   ]
  },
  {
   "cell_type": "code",
   "execution_count": null,
   "id": "bde7256d",
   "metadata": {},
   "outputs": [],
   "source": [
    "# Check the status of request on project 'Hoth'\n",
    "\n",
    "Fill in the code here"
   ]
  },
  {
   "cell_type": "code",
   "execution_count": null,
   "id": "670eba54",
   "metadata": {},
   "outputs": [],
   "source": [
    "# Get the pending request\n",
    "\n",
    "Fill in the code here"
   ]
  },
  {
   "cell_type": "code",
   "execution_count": null,
   "id": "1d5d4091",
   "metadata": {},
   "outputs": [],
   "source": [
    "# Check the code under request without running it\n",
    "\n",
    "Fill in the code here"
   ]
  },
  {
   "cell_type": "code",
   "execution_count": null,
   "id": "d72e09af",
   "metadata": {},
   "outputs": [],
   "source": [
    "# Retrieve the callable function for running and run it on mock data\n",
    "\n",
    "Fill in the code here"
   ]
  },
  {
   "cell_type": "code",
   "execution_count": null,
   "id": "26f1fb41",
   "metadata": {},
   "outputs": [],
   "source": [
    "# Run the callable function on the private data\n",
    "\n",
    "Fill in the code here"
   ]
  },
  {
   "cell_type": "code",
   "execution_count": null,
   "id": "f956245e",
   "metadata": {},
   "outputs": [],
   "source": [
    "# Approve by returning result to the new method. \n",
    "\n",
    "Fill in the code here"
   ]
  },
  {
   "cell_type": "markdown",
   "id": "eb12c149",
   "metadata": {},
   "source": [
    "# Success! "
   ]
  }
 ],
 "metadata": {
  "kernelspec": {
   "display_name": "Python 3 (ipykernel)",
   "language": "python",
   "name": "python3"
  },
  "language_info": {
   "codemirror_mode": {
    "name": "ipython",
    "version": 3
   },
   "file_extension": ".py",
   "mimetype": "text/x-python",
   "name": "python",
   "nbconvert_exporter": "python",
   "pygments_lexer": "ipython3",
   "version": "3.10.6"
  }
 },
 "nbformat": 4,
 "nbformat_minor": 5
}
