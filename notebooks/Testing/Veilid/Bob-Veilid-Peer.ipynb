{
 "cells": [
  {
   "cell_type": "code",
   "execution_count": null,
   "id": "3ab7de7e-d23e-4cfc-895d-0bd02d9bc17f",
   "metadata": {},
   "outputs": [],
   "source": [
    "# stdlib\n",
    "\n",
    "# third party\n",
    "from utils import get_typed_key\n",
    "import veilid"
   ]
  },
  {
   "cell_type": "code",
   "execution_count": null,
   "id": "ad857491-4cad-4a21-bf10-8035f05ef52a",
   "metadata": {},
   "outputs": [],
   "source": [
    "host = \"localhost\"\n",
    "port = 5960"
   ]
  },
  {
   "cell_type": "code",
   "execution_count": null,
   "id": "8d5984fd-30eb-4c9f-8bb7-e0a827b6de2c",
   "metadata": {},
   "outputs": [],
   "source": [
    "async def noop_callback(*args, **kwargs):\n",
    "    return\n",
    "\n",
    "\n",
    "async def connect(host: str, port: int):\n",
    "    conn = await veilid.json_api_connect(host, port, noop_callback)\n",
    "    return conn"
   ]
  },
  {
   "cell_type": "code",
   "execution_count": null,
   "id": "1296f362-60ff-471a-807b-6d96dbf36403",
   "metadata": {},
   "outputs": [],
   "source": [
    "conn = await connect(host, port)"
   ]
  },
  {
   "cell_type": "code",
   "execution_count": null,
   "id": "de7eb3e2",
   "metadata": {},
   "outputs": [],
   "source": [
    "# Creating a new routing context\n",
    "router = await (await conn.new_routing_context()).with_default_safety()"
   ]
  },
  {
   "cell_type": "code",
   "execution_count": null,
   "id": "cbb26e88-6935-471a-a248-a46fdcba8e18",
   "metadata": {},
   "outputs": [],
   "source": [
    "conn.new_routing_context?"
   ]
  },
  {
   "cell_type": "code",
   "execution_count": null,
   "id": "f76a7403",
   "metadata": {},
   "outputs": [],
   "source": [
    "router"
   ]
  },
  {
   "cell_type": "code",
   "execution_count": null,
   "id": "40370b01",
   "metadata": {},
   "outputs": [],
   "source": [
    "# Get this DHT Key from the Previous Notebook\n",
    "# paste only the string party without VLD0: prefix\n",
    "alice_dht_key_str = input(\"Enter Alice's DHT Key: \")\n",
    "dht_key = get_typed_key(alice_dht_key_str)"
   ]
  },
  {
   "cell_type": "code",
   "execution_count": null,
   "id": "ad3b3dbc",
   "metadata": {},
   "outputs": [],
   "source": [
    "alice_record = await router.open_dht_record(key=dht_key, writer=None)"
   ]
  },
  {
   "cell_type": "code",
   "execution_count": null,
   "id": "12fdf804",
   "metadata": {},
   "outputs": [],
   "source": [
    "alice_record_value = await router.get_dht_value(\n",
    "    key=dht_key, subkey=0, force_refresh=True\n",
    ")"
   ]
  },
  {
   "cell_type": "code",
   "execution_count": null,
   "id": "e4e44fc7",
   "metadata": {},
   "outputs": [],
   "source": [
    "alice_record_value.data"
   ]
  },
  {
   "cell_type": "code",
   "execution_count": null,
   "id": "c4db5bf7",
   "metadata": {},
   "outputs": [],
   "source": [
    "# Import the private route sent by Alice:\n",
    "prr_alice = await conn.import_remote_private_route(alice_record_value.data)"
   ]
  },
  {
   "cell_type": "code",
   "execution_count": null,
   "id": "e249e970-30f1-4121-98e0-e1df0db37e4b",
   "metadata": {},
   "outputs": [],
   "source": [
    "prr_alice"
   ]
  },
  {
   "cell_type": "code",
   "execution_count": null,
   "id": "6a268e77-84d0-43ad-a9b9-21582992ea64",
   "metadata": {},
   "outputs": [],
   "source": [
    "message = b\"Hello Alice\""
   ]
  },
  {
   "cell_type": "code",
   "execution_count": null,
   "id": "e76b3680-7e84-4e7f-8c8e-450a6de6786d",
   "metadata": {},
   "outputs": [],
   "source": [
    "message_send = await router.app_message(prr_alice, message)"
   ]
  },
  {
   "cell_type": "code",
   "execution_count": null,
   "id": "62bd12ec-1aef-4459-90a9-a4402a8b3a68",
   "metadata": {},
   "outputs": [],
   "source": [
    "message_send"
   ]
  },
  {
   "cell_type": "code",
   "execution_count": null,
   "id": "13b87c97-0c10-4112-82c7-6b283a31cc28",
   "metadata": {},
   "outputs": [],
   "source": []
  }
 ],
 "metadata": {
  "kernelspec": {
   "display_name": "Python 3 (ipykernel)",
   "language": "python",
   "name": "python3"
  },
  "language_info": {
   "codemirror_mode": {
    "name": "ipython",
    "version": 3
   },
   "file_extension": ".py",
   "mimetype": "text/x-python",
   "name": "python",
   "nbconvert_exporter": "python",
   "pygments_lexer": "ipython3",
   "version": "3.11.5"
  }
 },
 "nbformat": 4,
 "nbformat_minor": 5
}
