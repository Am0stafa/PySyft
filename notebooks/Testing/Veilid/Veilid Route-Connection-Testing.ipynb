{
 "cells": [
  {
   "cell_type": "code",
   "execution_count": null,
   "id": "a8d2d5a4-5512-4a24-aafd-7133d64c22fc",
   "metadata": {},
   "outputs": [],
   "source": [
    "# syft absolute"
   ]
  },
  {
   "cell_type": "code",
   "execution_count": null,
   "id": "5a5a1b05-336d-4523-ae85-4022783acf85",
   "metadata": {},
   "outputs": [],
   "source": [
    "# syft absolute\n",
    "from syft.client.client import VeilidConnection"
   ]
  },
  {
   "cell_type": "code",
   "execution_count": null,
   "id": "963f96e5-8d62-44b2-a975-faa23624bbd4",
   "metadata": {},
   "outputs": [],
   "source": [
    "veilid_conn = VeilidConnection(dht_key=\"test\")"
   ]
  },
  {
   "cell_type": "code",
   "execution_count": null,
   "id": "f2d6083b-527f-46be-a582-15f4404950b5",
   "metadata": {},
   "outputs": [],
   "source": [
    "# syft absolute\n",
    "from syft.service.network.routes import connection_to_route\n",
    "from syft.service.network.routes import route_to_connection"
   ]
  },
  {
   "cell_type": "code",
   "execution_count": null,
   "id": "9e8e508f-c527-43f4-98d1-7e7c6ef0dfb3",
   "metadata": {},
   "outputs": [],
   "source": [
    "veilid_route = connection_to_route(veilid_conn)"
   ]
  },
  {
   "cell_type": "code",
   "execution_count": null,
   "id": "7aba2e02-46c7-46a2-ab11-9253e05fd2fe",
   "metadata": {},
   "outputs": [],
   "source": [
    "veilid_route.dht_key"
   ]
  },
  {
   "cell_type": "code",
   "execution_count": null,
   "id": "0d50eec2-a7ed-49f6-b90c-082cd8c40e0a",
   "metadata": {},
   "outputs": [],
   "source": [
    "re_veilid_conn = route_to_connection(veilid_route)"
   ]
  },
  {
   "cell_type": "code",
   "execution_count": null,
   "id": "ea5d2d73-1cbc-496a-a6b6-4136e9423394",
   "metadata": {},
   "outputs": [],
   "source": [
    "re_veilid_conn"
   ]
  },
  {
   "cell_type": "code",
   "execution_count": null,
   "id": "a535caf0-d1e6-40b9-842b-066ce2b6b897",
   "metadata": {},
   "outputs": [],
   "source": []
  }
 ],
 "metadata": {
  "kernelspec": {
   "display_name": "Python 3 (ipykernel)",
   "language": "python",
   "name": "python3"
  },
  "language_info": {
   "codemirror_mode": {
    "name": "ipython",
    "version": 3
   },
   "file_extension": ".py",
   "mimetype": "text/x-python",
   "name": "python",
   "nbconvert_exporter": "python",
   "pygments_lexer": "ipython3",
   "version": "3.11.5"
  }
 },
 "nbformat": 4,
 "nbformat_minor": 5
}
