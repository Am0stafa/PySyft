{
 "cells": [
  {
   "cell_type": "code",
   "execution_count": null,
   "id": "df3d4dbb-e179-4995-9507-1f82cb417fc5",
   "metadata": {},
   "outputs": [],
   "source": [
    "# syft absolute\n",
    "import syft as sy\n",
    "from syft.client.client import connect"
   ]
  },
  {
   "cell_type": "code",
   "execution_count": null,
   "id": "cc7f02fb-b4f8-4615-a39f-dca2752b58b2",
   "metadata": {},
   "outputs": [],
   "source": [
    "domain_client = sy.login(email=\"info@openmined.org\", password=\"changethis\", port=8080)"
   ]
  },
  {
   "cell_type": "code",
   "execution_count": null,
   "id": "4d9ce704-36e6-455b-a633-fe943848420c",
   "metadata": {},
   "outputs": [],
   "source": [
    "domain_client.api.services.veilid.generate_dht_key()"
   ]
  },
  {
   "cell_type": "code",
   "execution_count": null,
   "id": "ef053ef6-e31a-4634-8d5e-2e8ff2e002de",
   "metadata": {},
   "outputs": [],
   "source": [
    "domain_client.api.services.veilid.retrieve_dht_key()"
   ]
  },
  {
   "cell_type": "code",
   "execution_count": null,
   "id": "670f2e09-3409-4545-be3a-17e1b2a97cd2",
   "metadata": {},
   "outputs": [],
   "source": [
    "domain_client = sy.login_as_guest(\n",
    "    dht_key=\"VLD0:OBeFkuuQz6LIofeIIzC5Y-zwR96NoKqbojqGCcNKu8c\",\n",
    "    vld_forward_proxy=\"http://localhost:4000\",\n",
    "    vld_reverse_proxy=\"http://proxy\",\n",
    ")"
   ]
  },
  {
   "cell_type": "code",
   "execution_count": null,
   "id": "63a9a5f3-a004-4523-bf70-e3ebee06408e",
   "metadata": {},
   "outputs": [],
   "source": [
    "domain_client.api"
   ]
  },
  {
   "cell_type": "code",
   "execution_count": null,
   "id": "b2195bbd-5ef1-4a53-8886-1b2ea6854bc3",
   "metadata": {},
   "outputs": [],
   "source": [
    "connect_client = connect(\n",
    "    dht_key=\"VLD0:OBeFkuuQz6LIofeIIzC5Y-zwR96NoKqbojqGCcNKu8c\",\n",
    "    vld_forward_proxy=\"http://localhost:4000\",\n",
    "    vld_reverse_proxy=\"http://proxy\",\n",
    ")"
   ]
  },
  {
   "cell_type": "code",
   "execution_count": null,
   "id": "71261091-1cfc-428f-9087-7f24395a2750",
   "metadata": {},
   "outputs": [],
   "source": [
    "domain_client = sy.login(\n",
    "    dht_key=\"VLD0:OBeFkuuQz6LIofeIIzC5Y-zwR96NoKqbojqGCcNKu8c\",\n",
    "    vld_forward_proxy=\"http://localhost:4000\",\n",
    "    vld_reverse_proxy=\"http://proxy\",\n",
    "    email=\"info@openmined.org\",\n",
    "    password=\"changethis\",\n",
    ")"
   ]
  },
  {
   "cell_type": "code",
   "execution_count": null,
   "id": "ec181b37-71cc-411b-8b6c-0f149e45c79c",
   "metadata": {},
   "outputs": [],
   "source": [
    "domain_client.api"
   ]
  },
  {
   "cell_type": "code",
   "execution_count": null,
   "id": "293b55c9-9f9b-4702-b74f-6dfe9b5eee8d",
   "metadata": {},
   "outputs": [],
   "source": [
    "# syft absolute\n",
    "import syft as sy"
   ]
  },
  {
   "cell_type": "code",
   "execution_count": null,
   "id": "2f469470-6280-466f-85e3-ed655484178e",
   "metadata": {},
   "outputs": [],
   "source": [
    "domain_client = sy.login_as_guest(port=8080)"
   ]
  },
  {
   "cell_type": "code",
   "execution_count": null,
   "id": "141a0871-d322-4508-b0b1-68ad1654dcda",
   "metadata": {},
   "outputs": [],
   "source": [
    "res = sy.serialize(domain_client.api, to_bytes=True)"
   ]
  },
  {
   "cell_type": "code",
   "execution_count": null,
   "id": "61192beb-a4f7-495f-adf5-f2294ec5a199",
   "metadata": {},
   "outputs": [],
   "source": []
  },
  {
   "cell_type": "code",
   "execution_count": null,
   "id": "af269af3-f55b-4f3d-8cc1-cbe8ee10d327",
   "metadata": {},
   "outputs": [],
   "source": []
  },
  {
   "cell_type": "code",
   "execution_count": null,
   "id": "95facdab-92ab-42cf-b976-a9b646ae2901",
   "metadata": {},
   "outputs": [],
   "source": []
  },
  {
   "cell_type": "code",
   "execution_count": null,
   "id": "8de7d433-c26b-43e9-9a45-d960cfb18645",
   "metadata": {},
   "outputs": [],
   "source": []
  },
  {
   "cell_type": "code",
   "execution_count": null,
   "id": "7c7a97e3-9585-485f-ad41-2982bf935564",
   "metadata": {},
   "outputs": [],
   "source": []
  },
  {
   "cell_type": "code",
   "execution_count": null,
   "id": "eb073a52-1c7a-4c02-bce3-0782c6f89064",
   "metadata": {},
   "outputs": [],
   "source": []
  },
  {
   "cell_type": "code",
   "execution_count": null,
   "id": "98f58488-e927-4e44-a885-04740f8c8b31",
   "metadata": {},
   "outputs": [],
   "source": []
  },
  {
   "cell_type": "code",
   "execution_count": null,
   "id": "5adb6185-9f49-444c-ae26-702e17bcfabf",
   "metadata": {},
   "outputs": [],
   "source": []
  },
  {
   "cell_type": "code",
   "execution_count": null,
   "id": "6ed88528-1e23-4585-89ca-0e3cfa098d37",
   "metadata": {},
   "outputs": [],
   "source": []
  },
  {
   "cell_type": "code",
   "execution_count": null,
   "id": "985f6211-efa8-4850-b2fa-280b064032ff",
   "metadata": {},
   "outputs": [],
   "source": []
  },
  {
   "cell_type": "code",
   "execution_count": null,
   "id": "3f3abeb1-228c-45ff-acc9-fbc2314c6e31",
   "metadata": {},
   "outputs": [],
   "source": []
  },
  {
   "cell_type": "code",
   "execution_count": null,
   "id": "83aee788-4a14-4e41-b924-53dcbebe8e14",
   "metadata": {},
   "outputs": [],
   "source": []
  },
  {
   "cell_type": "code",
   "execution_count": null,
   "id": "0d2d9fa5-9098-4d79-a35e-2da46f615ef7",
   "metadata": {},
   "outputs": [],
   "source": []
  },
  {
   "cell_type": "markdown",
   "id": "18613355-f3bd-45c3-8ac3-97165dd6e28d",
   "metadata": {},
   "source": [
    "## Debugging"
   ]
  },
  {
   "cell_type": "code",
   "execution_count": null,
   "id": "f2d4a8ea-f9e5-4411-bf68-0d4ed25f3fa6",
   "metadata": {},
   "outputs": [],
   "source": []
  },
  {
   "cell_type": "code",
   "execution_count": null,
   "id": "77f7d4b4-7ea2-4a61-8a67-a2dacbfd054f",
   "metadata": {},
   "outputs": [],
   "source": []
  },
  {
   "cell_type": "code",
   "execution_count": null,
   "id": "9bf0aa58-b6a1-463a-8d14-76f74dcc6d7c",
   "metadata": {},
   "outputs": [],
   "source": []
  },
  {
   "cell_type": "raw",
   "id": "1142383d-82df-49f5-ad5f-ede5fde39b20",
   "metadata": {},
   "source": [
    "import lzma"
   ]
  },
  {
   "cell_type": "code",
   "execution_count": null,
   "id": "c8026971-b496-4a24-b84f-b57d898f15d9",
   "metadata": {},
   "outputs": [],
   "source": [
    "# stdlib\n",
    "import lzma"
   ]
  },
  {
   "cell_type": "code",
   "execution_count": null,
   "id": "69542e59-2ba3-4721-8c39-192258180114",
   "metadata": {},
   "outputs": [],
   "source": [
    "len(res)"
   ]
  },
  {
   "cell_type": "code",
   "execution_count": null,
   "id": "61f3fb0e-50e1-4cca-94cf-490e5bde974b",
   "metadata": {},
   "outputs": [],
   "source": [
    "comp = lzma.compress(res)\n",
    "print(len(comp))\n",
    "decom = lzma.decompress(comp)\n",
    "print(len(decom))"
   ]
  },
  {
   "cell_type": "code",
   "execution_count": null,
   "id": "ee53df6e-e979-4011-8fe7-24141f7df001",
   "metadata": {},
   "outputs": [],
   "source": [
    "# third party\n",
    "from pympler import asizeof"
   ]
  },
  {
   "cell_type": "code",
   "execution_count": null,
   "id": "8db1d8a9-ee4b-4efa-a69b-1d735ceaf129",
   "metadata": {},
   "outputs": [],
   "source": [
    "asizeof.asizeof(domain_client.api)"
   ]
  },
  {
   "cell_type": "code",
   "execution_count": null,
   "id": "f3bdfb82-687e-49a7-a268-2bb0e74364cc",
   "metadata": {},
   "outputs": [],
   "source": [
    "# stdlib\n",
    "import sys\n",
    "\n",
    "# third party\n",
    "from pympler import asizeof"
   ]
  },
  {
   "cell_type": "code",
   "execution_count": null,
   "id": "41944d4d-7613-461e-a6e7-905514bb08da",
   "metadata": {},
   "outputs": [],
   "source": [
    "for attr_name, attr_value in domain_client.api.__dict__.items():\n",
    "    if attr_name != \"refresh_api_callback\":\n",
    "        res = sy.serialize(attr_value, to_bytes=True)\n",
    "        immediate_size = sys.getsizeof(res)\n",
    "        total_size = asizeof.asizeof(res)\n",
    "        print(\n",
    "            f\"{attr_name}: immediate size = {immediate_size} bytes, total size = {total_size} bytes\"\n",
    "        )"
   ]
  },
  {
   "cell_type": "code",
   "execution_count": null,
   "id": "a1d4ad18-7fb0-4ec7-966d-cf86a6b280f1",
   "metadata": {},
   "outputs": [],
   "source": [
    "count = 0\n",
    "for i in domain_client.api.lib_endpoints.values():\n",
    "    count += 1\n",
    "    print(count, \" \", i.module_path)"
   ]
  },
  {
   "cell_type": "code",
   "execution_count": null,
   "id": "59ad85c9-6acb-4fbd-b9e7-25a0e34d8f6c",
   "metadata": {},
   "outputs": [],
   "source": [
    "len(res)"
   ]
  },
  {
   "cell_type": "code",
   "execution_count": null,
   "id": "8ee3d56b-298e-4706-9e93-055960f41654",
   "metadata": {},
   "outputs": [],
   "source": [
    "# stdlib\n",
    "import zlib"
   ]
  },
  {
   "cell_type": "code",
   "execution_count": null,
   "id": "d4509185-ba56-42d4-aaf3-84341cdeaa52",
   "metadata": {},
   "outputs": [],
   "source": [
    "%%time\n",
    "c = zlib.compress(res)"
   ]
  },
  {
   "cell_type": "code",
   "execution_count": null,
   "id": "b9b7539e-06ce-4a92-bf8e-6a65331f3ee1",
   "metadata": {},
   "outputs": [],
   "source": [
    "len(c)"
   ]
  },
  {
   "cell_type": "code",
   "execution_count": null,
   "id": "1eb8fc1d-1d8a-4301-bd36-618393e6ff8a",
   "metadata": {},
   "outputs": [],
   "source": [
    "# stdlib\n",
    "import lzma"
   ]
  },
  {
   "cell_type": "code",
   "execution_count": null,
   "id": "d8b9cabe-382d-4085-861d-ca55d99a938e",
   "metadata": {},
   "outputs": [],
   "source": [
    "%%time\n",
    "lc = lzma.compress(res)\n",
    "print(len(lc))\n",
    "ld = lzma.decompress(lc)\n",
    "print(len(ld))"
   ]
  },
  {
   "cell_type": "code",
   "execution_count": null,
   "id": "4a8462ce-6de8-472b-8685-72665f36f940",
   "metadata": {},
   "outputs": [],
   "source": [
    "# stdlib\n",
    "import gzip"
   ]
  },
  {
   "cell_type": "code",
   "execution_count": null,
   "id": "9f357c7d-059d-46b5-bf03-c8acb5a3e7df",
   "metadata": {},
   "outputs": [],
   "source": [
    "%%time\n",
    "c2 = gzip.compress(res)"
   ]
  },
  {
   "cell_type": "code",
   "execution_count": null,
   "id": "9b4647a5-ec95-4f22-9ac2-104f30600cf5",
   "metadata": {},
   "outputs": [],
   "source": [
    "len(sy.serialize(domain_client.api.endpoints, to_bytes=True))"
   ]
  },
  {
   "cell_type": "code",
   "execution_count": null,
   "id": "7d7b89fe-b270-40c0-bc18-066f9be62569",
   "metadata": {},
   "outputs": [],
   "source": [
    "# res = veilid_conn.get_node_metadata(credentials=None)\n",
    "res = b\"\""
   ]
  },
  {
   "cell_type": "code",
   "execution_count": null,
   "id": "4f6a98cf-ad5b-4ad0-87c7-b8cdc7d0678d",
   "metadata": {},
   "outputs": [],
   "source": [
    "res"
   ]
  },
  {
   "cell_type": "code",
   "execution_count": null,
   "id": "3ab82cd6-c080-46dd-b15d-da0c904e967e",
   "metadata": {},
   "outputs": [],
   "source": [
    "# stdlib\n",
    "import json"
   ]
  },
  {
   "cell_type": "code",
   "execution_count": null,
   "id": "cba2d15b-826d-4f6b-82d1-bb70ba0e439d",
   "metadata": {},
   "outputs": [],
   "source": [
    "type(json.loads(res))"
   ]
  },
  {
   "cell_type": "code",
   "execution_count": null,
   "id": "cbfda25f-5b2e-4c55-a906-1ca78497623f",
   "metadata": {},
   "outputs": [],
   "source": []
  }
 ],
 "metadata": {
  "kernelspec": {
   "display_name": "Python 3 (ipykernel)",
   "language": "python",
   "name": "python3"
  },
  "language_info": {
   "codemirror_mode": {
    "name": "ipython",
    "version": 3
   },
   "file_extension": ".py",
   "mimetype": "text/x-python",
   "name": "python",
   "nbconvert_exporter": "python",
   "pygments_lexer": "ipython3",
   "version": "3.11.5"
  }
 },
 "nbformat": 4,
 "nbformat_minor": 5
}
