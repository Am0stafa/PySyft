{
 "cells": [
  {
   "cell_type": "markdown",
   "id": "a003292f-d8f6-4888-b47d-9e0e9b1309ec",
   "metadata": {},
   "source": [
    "## Bob Python Server"
   ]
  },
  {
   "cell_type": "code",
   "execution_count": null,
   "id": "338b22f9-938e-4628-9636-14c192e42e49",
   "metadata": {},
   "outputs": [],
   "source": [
    "# third party\n",
    "import requests"
   ]
  },
  {
   "cell_type": "markdown",
   "id": "f1279a42-f391-4ec8-b711-e9a05d601ce2",
   "metadata": {},
   "source": [
    "### 1. Create DHT Key and Private Route"
   ]
  },
  {
   "cell_type": "code",
   "execution_count": null,
   "id": "755d48fe-9471-4474-b47f-d344d31604aa",
   "metadata": {},
   "outputs": [],
   "source": [
    "host = \"localhost\"\n",
    "port = 4001"
   ]
  },
  {
   "cell_type": "code",
   "execution_count": null,
   "id": "f14915f1-2535-424b-bdd9-23efab16bb43",
   "metadata": {},
   "outputs": [],
   "source": [
    "res = requests.post(f\"http://{host}:{port}/generate_vld_key\")"
   ]
  },
  {
   "cell_type": "code",
   "execution_count": null,
   "id": "29aa597d-660e-4524-82ac-62c119e10fdf",
   "metadata": {},
   "outputs": [],
   "source": [
    "res.content"
   ]
  },
  {
   "cell_type": "code",
   "execution_count": null,
   "id": "632ccceb-f742-4c8a-b00f-c55e6333fdc1",
   "metadata": {},
   "outputs": [],
   "source": [
    "res = requests.get(f\"http://{host}:{port}/retrieve_vld_key\")"
   ]
  },
  {
   "cell_type": "code",
   "execution_count": null,
   "id": "a7b8581a-a73d-4d15-97ec-2869aff00e90",
   "metadata": {},
   "outputs": [],
   "source": [
    "self_vld_key = res.json()[\"message\"]\n",
    "print(\"=\" * 30)\n",
    "print(self_vld_key)\n",
    "print(\"=\" * 30)"
   ]
  },
  {
   "cell_type": "markdown",
   "id": "616f208c-fead-40cc-9391-416b59d7dc15",
   "metadata": {},
   "source": [
    "### Send AppMessage using DHT Key to Self"
   ]
  },
  {
   "cell_type": "code",
   "execution_count": null,
   "id": "3e810776-491d-4170-a9c5-bf7eaf2995bd",
   "metadata": {},
   "outputs": [],
   "source": [
    "# Cannot send messages to self, due to local routing feature not\n",
    "# available in direct routing"
   ]
  },
  {
   "cell_type": "code",
   "execution_count": null,
   "id": "538913ae-29be-41a5-9608-4c694ccb392b",
   "metadata": {},
   "outputs": [],
   "source": [
    "# json_data = {\"dht_key\": self_dht_key, \"message\": \"Hello to me\"}\n",
    "# app_message = requests.post(f\"http://{host}:{port}/app_message\", json=json_data)"
   ]
  },
  {
   "cell_type": "markdown",
   "id": "3ed2c114-eab7-4be7-bd89-d5ec3a7ec4c2",
   "metadata": {},
   "source": [
    "### Send AppCall using DHT Key to Self"
   ]
  },
  {
   "cell_type": "code",
   "execution_count": null,
   "id": "db49c78d-9767-4358-aa00-e740ce04e000",
   "metadata": {},
   "outputs": [],
   "source": [
    "# json_data = {\"dht_key\": self_dht_key, \"message\": \"Hello to app call\"}\n",
    "# app_call = requests.post(f\"http://{host}:{port}/app_call\", json=json_data)"
   ]
  },
  {
   "cell_type": "code",
   "execution_count": null,
   "id": "9bc0a69e-7cff-42fc-8859-e5de6edacdeb",
   "metadata": {},
   "outputs": [],
   "source": [
    "# app_call.json()"
   ]
  },
  {
   "cell_type": "markdown",
   "id": "73eee970-bb61-4014-9380-1944587b929a",
   "metadata": {},
   "source": [
    "### Send AppMessage using DHT Key to Peer"
   ]
  },
  {
   "cell_type": "code",
   "execution_count": null,
   "id": "9e5671f6-1ffd-410c-b72a-6fb39f68fe93",
   "metadata": {},
   "outputs": [],
   "source": [
    "peer_vld_key = input(\"Enter Peer VLD Key\")"
   ]
  },
  {
   "cell_type": "code",
   "execution_count": null,
   "id": "8a753450-19e3-4603-ae93-a48bfbc7f829",
   "metadata": {},
   "outputs": [],
   "source": [
    "json_data = {\"vld_key\": peer_vld_key, \"message\": \"Hello Alice\"}\n",
    "app_message = requests.post(f\"http://{host}:{port}/app_message\", json=json_data)"
   ]
  },
  {
   "cell_type": "code",
   "execution_count": null,
   "id": "0cf79332-1a88-4d02-87b7-53c19d4fd1ad",
   "metadata": {},
   "outputs": [],
   "source": []
  }
 ],
 "metadata": {
  "kernelspec": {
   "display_name": "Python 3 (ipykernel)",
   "language": "python",
   "name": "python3"
  },
  "language_info": {
   "codemirror_mode": {
    "name": "ipython",
    "version": 3
   },
   "file_extension": ".py",
   "mimetype": "text/x-python",
   "name": "python",
   "nbconvert_exporter": "python",
   "pygments_lexer": "ipython3",
   "version": "3.11.5"
  }
 },
 "nbformat": 4,
 "nbformat_minor": 5
}
