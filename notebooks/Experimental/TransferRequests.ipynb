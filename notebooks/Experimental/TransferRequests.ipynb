{
 "cells": [
  {
   "cell_type": "code",
   "execution_count": null,
   "id": "bf05fdf3-da41-4a2c-8914-f9ae7c298287",
   "metadata": {
    "tags": []
   },
   "outputs": [],
   "source": [
    "import syft as sy\n",
    "from syft.oblv import login"
   ]
  },
  {
   "cell_type": "code",
   "execution_count": null,
   "id": "c780529b-3b03-49ac-838e-9a7ff6f87a76",
   "metadata": {
    "tags": []
   },
   "outputs": [],
   "source": [
    "domain_client = sy.Worker.named(name=\"worker\",reset=True,local_db=True).root_client"
   ]
  },
  {
   "cell_type": "code",
   "execution_count": null,
   "id": "0b32c308-d4e1-48fc-8eae-4d2a84abc6ac",
   "metadata": {
    "tags": []
   },
   "outputs": [],
   "source": [
    "oblv_client = login()"
   ]
  },
  {
   "cell_type": "code",
   "execution_count": null,
   "id": "a8bf6416-b51e-47a6-8c1e-c28bcdb9003d",
   "metadata": {
    "tags": []
   },
   "outputs": [],
   "source": [
    "domain_client.api.services.oblv.enclave_transfer(sy.UID(),\"kladg\",oblv_client)"
   ]
  },
  {
   "cell_type": "code",
   "execution_count": null,
   "id": "be5f154d-21c6-4972-a21e-b6dd64b655f3",
   "metadata": {},
   "outputs": [],
   "source": []
  }
 ],
 "metadata": {
  "kernelspec": {
   "display_name": "Python 3 (ipykernel)",
   "language": "python",
   "name": "python3"
  },
  "language_info": {
   "codemirror_mode": {
    "name": "ipython",
    "version": 3
   },
   "file_extension": ".py",
   "mimetype": "text/x-python",
   "name": "python",
   "nbconvert_exporter": "python",
   "pygments_lexer": "ipython3",
   "version": "3.10.10"
  }
 },
 "nbformat": 4,
 "nbformat_minor": 5
}
