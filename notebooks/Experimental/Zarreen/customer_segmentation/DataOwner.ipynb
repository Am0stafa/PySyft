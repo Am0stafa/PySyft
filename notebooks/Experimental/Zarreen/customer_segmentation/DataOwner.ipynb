{
 "cells": [
  {
   "cell_type": "code",
   "execution_count": 24,
   "id": "6753200c",
   "metadata": {},
   "outputs": [],
   "source": [
    "import pandas as pd\n",
    "\n",
    "import syft as sy\n",
    "import numpy as np"
   ]
  },
  {
   "cell_type": "code",
   "execution_count": 51,
   "id": "8e226159",
   "metadata": {},
   "outputs": [
    {
     "name": "stdout",
     "output_type": "stream",
     "text": [
      "(200, 5)\n"
     ]
    },
    {
     "data": {
      "text/html": [
       "<div>\n",
       "<style scoped>\n",
       "    .dataframe tbody tr th:only-of-type {\n",
       "        vertical-align: middle;\n",
       "    }\n",
       "\n",
       "    .dataframe tbody tr th {\n",
       "        vertical-align: top;\n",
       "    }\n",
       "\n",
       "    .dataframe thead th {\n",
       "        text-align: right;\n",
       "    }\n",
       "</style>\n",
       "<table border=\"1\" class=\"dataframe\">\n",
       "  <thead>\n",
       "    <tr style=\"text-align: right;\">\n",
       "      <th></th>\n",
       "      <th>CustomerID</th>\n",
       "      <th>Genre</th>\n",
       "      <th>Age</th>\n",
       "      <th>Annual Income (k$)</th>\n",
       "      <th>Spending Score (1-100)</th>\n",
       "    </tr>\n",
       "  </thead>\n",
       "  <tbody>\n",
       "    <tr>\n",
       "      <th>0</th>\n",
       "      <td>1</td>\n",
       "      <td>Male</td>\n",
       "      <td>19</td>\n",
       "      <td>15</td>\n",
       "      <td>39</td>\n",
       "    </tr>\n",
       "    <tr>\n",
       "      <th>1</th>\n",
       "      <td>2</td>\n",
       "      <td>Male</td>\n",
       "      <td>21</td>\n",
       "      <td>15</td>\n",
       "      <td>81</td>\n",
       "    </tr>\n",
       "    <tr>\n",
       "      <th>2</th>\n",
       "      <td>3</td>\n",
       "      <td>Female</td>\n",
       "      <td>20</td>\n",
       "      <td>16</td>\n",
       "      <td>6</td>\n",
       "    </tr>\n",
       "    <tr>\n",
       "      <th>3</th>\n",
       "      <td>4</td>\n",
       "      <td>Female</td>\n",
       "      <td>23</td>\n",
       "      <td>16</td>\n",
       "      <td>77</td>\n",
       "    </tr>\n",
       "    <tr>\n",
       "      <th>4</th>\n",
       "      <td>5</td>\n",
       "      <td>Female</td>\n",
       "      <td>31</td>\n",
       "      <td>17</td>\n",
       "      <td>40</td>\n",
       "    </tr>\n",
       "  </tbody>\n",
       "</table>\n",
       "</div>"
      ],
      "text/plain": [
       "   CustomerID   Genre  Age  Annual Income (k$)  Spending Score (1-100)\n",
       "0           1    Male   19                  15                      39\n",
       "1           2    Male   21                  15                      81\n",
       "2           3  Female   20                  16                       6\n",
       "3           4  Female   23                  16                      77\n",
       "4           5  Female   31                  17                      40"
      ]
     },
     "execution_count": 51,
     "metadata": {},
     "output_type": "execute_result"
    }
   ],
   "source": [
    "canada_customer_data = pd.read_csv(\"Mall_Customers.csv\")\n",
    "print(canada_customer_data.shape)\n",
    "canada_customer_data.head()"
   ]
  },
  {
   "cell_type": "code",
   "execution_count": 52,
   "id": "14ddfde2",
   "metadata": {},
   "outputs": [
    {
     "data": {
      "text/html": [
       "<div>\n",
       "<style scoped>\n",
       "    .dataframe tbody tr th:only-of-type {\n",
       "        vertical-align: middle;\n",
       "    }\n",
       "\n",
       "    .dataframe tbody tr th {\n",
       "        vertical-align: top;\n",
       "    }\n",
       "\n",
       "    .dataframe thead th {\n",
       "        text-align: right;\n",
       "    }\n",
       "</style>\n",
       "<table border=\"1\" class=\"dataframe\">\n",
       "  <thead>\n",
       "    <tr style=\"text-align: right;\">\n",
       "      <th></th>\n",
       "      <th>CustomerID</th>\n",
       "      <th>Gender</th>\n",
       "      <th>Age</th>\n",
       "      <th>Annual Income (k$)</th>\n",
       "      <th>Spending Score (1-100)</th>\n",
       "    </tr>\n",
       "  </thead>\n",
       "  <tbody>\n",
       "    <tr>\n",
       "      <th>0</th>\n",
       "      <td>1</td>\n",
       "      <td>Male</td>\n",
       "      <td>19</td>\n",
       "      <td>15</td>\n",
       "      <td>39</td>\n",
       "    </tr>\n",
       "    <tr>\n",
       "      <th>1</th>\n",
       "      <td>2</td>\n",
       "      <td>Male</td>\n",
       "      <td>21</td>\n",
       "      <td>15</td>\n",
       "      <td>81</td>\n",
       "    </tr>\n",
       "    <tr>\n",
       "      <th>2</th>\n",
       "      <td>3</td>\n",
       "      <td>Female</td>\n",
       "      <td>20</td>\n",
       "      <td>16</td>\n",
       "      <td>6</td>\n",
       "    </tr>\n",
       "    <tr>\n",
       "      <th>3</th>\n",
       "      <td>4</td>\n",
       "      <td>Female</td>\n",
       "      <td>23</td>\n",
       "      <td>16</td>\n",
       "      <td>77</td>\n",
       "    </tr>\n",
       "    <tr>\n",
       "      <th>4</th>\n",
       "      <td>5</td>\n",
       "      <td>Female</td>\n",
       "      <td>31</td>\n",
       "      <td>17</td>\n",
       "      <td>40</td>\n",
       "    </tr>\n",
       "  </tbody>\n",
       "</table>\n",
       "</div>"
      ],
      "text/plain": [
       "   CustomerID  Gender  Age  Annual Income (k$)  Spending Score (1-100)\n",
       "0           1    Male   19                  15                      39\n",
       "1           2    Male   21                  15                      81\n",
       "2           3  Female   20                  16                       6\n",
       "3           4  Female   23                  16                      77\n",
       "4           5  Female   31                  17                      40"
      ]
     },
     "execution_count": 52,
     "metadata": {},
     "output_type": "execute_result"
    }
   ],
   "source": [
    "canada_customer_data = canada_customer_data.rename({\"Genre\": \"Gender\"}, axis=1)\n",
    "canada_customer_data.head()"
   ]
  },
  {
   "cell_type": "code",
   "execution_count": 53,
   "id": "69368a60",
   "metadata": {
    "scrolled": true
   },
   "outputs": [
    {
     "data": {
      "text/html": [
       "<div>\n",
       "<style scoped>\n",
       "    .dataframe tbody tr th:only-of-type {\n",
       "        vertical-align: middle;\n",
       "    }\n",
       "\n",
       "    .dataframe tbody tr th {\n",
       "        vertical-align: top;\n",
       "    }\n",
       "\n",
       "    .dataframe thead th {\n",
       "        text-align: right;\n",
       "    }\n",
       "</style>\n",
       "<table border=\"1\" class=\"dataframe\">\n",
       "  <thead>\n",
       "    <tr style=\"text-align: right;\">\n",
       "      <th></th>\n",
       "      <th>CustomerID</th>\n",
       "      <th>Age</th>\n",
       "      <th>Annual Income (k$)</th>\n",
       "      <th>Spending Score (1-100)</th>\n",
       "      <th>Male</th>\n",
       "      <th>Female</th>\n",
       "    </tr>\n",
       "  </thead>\n",
       "  <tbody>\n",
       "    <tr>\n",
       "      <th>0</th>\n",
       "      <td>1</td>\n",
       "      <td>19</td>\n",
       "      <td>15</td>\n",
       "      <td>39</td>\n",
       "      <td>1</td>\n",
       "      <td>0</td>\n",
       "    </tr>\n",
       "    <tr>\n",
       "      <th>1</th>\n",
       "      <td>2</td>\n",
       "      <td>21</td>\n",
       "      <td>15</td>\n",
       "      <td>81</td>\n",
       "      <td>1</td>\n",
       "      <td>0</td>\n",
       "    </tr>\n",
       "    <tr>\n",
       "      <th>2</th>\n",
       "      <td>3</td>\n",
       "      <td>20</td>\n",
       "      <td>16</td>\n",
       "      <td>6</td>\n",
       "      <td>0</td>\n",
       "      <td>1</td>\n",
       "    </tr>\n",
       "    <tr>\n",
       "      <th>3</th>\n",
       "      <td>4</td>\n",
       "      <td>23</td>\n",
       "      <td>16</td>\n",
       "      <td>77</td>\n",
       "      <td>0</td>\n",
       "      <td>1</td>\n",
       "    </tr>\n",
       "    <tr>\n",
       "      <th>4</th>\n",
       "      <td>5</td>\n",
       "      <td>31</td>\n",
       "      <td>17</td>\n",
       "      <td>40</td>\n",
       "      <td>0</td>\n",
       "      <td>1</td>\n",
       "    </tr>\n",
       "    <tr>\n",
       "      <th>...</th>\n",
       "      <td>...</td>\n",
       "      <td>...</td>\n",
       "      <td>...</td>\n",
       "      <td>...</td>\n",
       "      <td>...</td>\n",
       "      <td>...</td>\n",
       "    </tr>\n",
       "    <tr>\n",
       "      <th>195</th>\n",
       "      <td>196</td>\n",
       "      <td>35</td>\n",
       "      <td>120</td>\n",
       "      <td>79</td>\n",
       "      <td>0</td>\n",
       "      <td>1</td>\n",
       "    </tr>\n",
       "    <tr>\n",
       "      <th>196</th>\n",
       "      <td>197</td>\n",
       "      <td>45</td>\n",
       "      <td>126</td>\n",
       "      <td>28</td>\n",
       "      <td>0</td>\n",
       "      <td>1</td>\n",
       "    </tr>\n",
       "    <tr>\n",
       "      <th>197</th>\n",
       "      <td>198</td>\n",
       "      <td>32</td>\n",
       "      <td>126</td>\n",
       "      <td>74</td>\n",
       "      <td>1</td>\n",
       "      <td>0</td>\n",
       "    </tr>\n",
       "    <tr>\n",
       "      <th>198</th>\n",
       "      <td>199</td>\n",
       "      <td>32</td>\n",
       "      <td>137</td>\n",
       "      <td>18</td>\n",
       "      <td>1</td>\n",
       "      <td>0</td>\n",
       "    </tr>\n",
       "    <tr>\n",
       "      <th>199</th>\n",
       "      <td>200</td>\n",
       "      <td>30</td>\n",
       "      <td>137</td>\n",
       "      <td>83</td>\n",
       "      <td>1</td>\n",
       "      <td>0</td>\n",
       "    </tr>\n",
       "  </tbody>\n",
       "</table>\n",
       "<p>200 rows × 6 columns</p>\n",
       "</div>"
      ],
      "text/plain": [
       "     CustomerID  Age  Annual Income (k$)  Spending Score (1-100)  Male  Female\n",
       "0             1   19                  15                      39     1       0\n",
       "1             2   21                  15                      81     1       0\n",
       "2             3   20                  16                       6     0       1\n",
       "3             4   23                  16                      77     0       1\n",
       "4             5   31                  17                      40     0       1\n",
       "..          ...  ...                 ...                     ...   ...     ...\n",
       "195         196   35                 120                      79     0       1\n",
       "196         197   45                 126                      28     0       1\n",
       "197         198   32                 126                      74     1       0\n",
       "198         199   32                 137                      18     1       0\n",
       "199         200   30                 137                      83     1       0\n",
       "\n",
       "[200 rows x 6 columns]"
      ]
     },
     "execution_count": 53,
     "metadata": {},
     "output_type": "execute_result"
    }
   ],
   "source": [
    "canada_customer_data[\"Male\"] = canada_customer_data.Gender.apply(lambda x: 1 if x == \"Male\" else 0)\n",
    "canada_customer_data[\"Female\"] = canada_customer_data.Gender.apply(lambda x: 1 if x == \"Female\" else 0)\n",
    "canada_customer_data = canada_customer_data.drop(['Gender'], axis=1)\n",
    "# canada_customer_data = canada_customer_data.iloc[:, 1:]\n",
    "canada_customer_data"
   ]
  },
  {
   "cell_type": "code",
   "execution_count": null,
   "id": "caca86de",
   "metadata": {},
   "outputs": [],
   "source": [
    "# canada_customer_values = canada_customer_data[['Age', 'Annual Income (k$)', \n",
    "#                                                'Spending Score (1-100)', 'Male', 'Female']].to_numpy()\n",
    "\n",
    "customer_age = canada_customer_data['Age'].to_numpy()\n",
    "customer_income = canada_customer_data['Annual Income (k$)'].to_numpy()\n",
    "customer_spend = canada_customer_data['Spending Score (1-100)'].to_numpy()\n",
    "customer_male = canada_customer_data['Male'].to_numpy()\n",
    "customer_female = canada_customer_data['Female'].to_numpy()"
   ]
  },
  {
   "cell_type": "code",
   "execution_count": 56,
   "id": "ccc3bd1d",
   "metadata": {
    "scrolled": true
   },
   "outputs": [],
   "source": [
    "customer_id = canada_customer_data[\"CustomerID\"]\n",
    "\n",
    "age_tensor = sy.Tensor(child=customer_age).private(min_val=0, max_val=2e12, data_subjects=customer_id)\n",
    "income_tensor = sy.Tensor(child=customer_income).private(min_val=0, max_val=2e12, data_subjects=customer_id)\n",
    "spend_tensor = sy.Tensor(child=customer_spend).private(min_val=0, max_val=2e12, data_subjects=customer_id)\n",
    "male_tensor = sy.Tensor(child=customer_male).private(min_val=0, max_val=2e12, data_subjects=customer_id)\n",
    "female_tensor = sy.Tensor(child=customer_female).private(min_val=0, max_val=2e12, data_subjects=customer_id)"
   ]
  },
  {
   "cell_type": "code",
   "execution_count": 57,
   "id": "657d01e6",
   "metadata": {},
   "outputs": [
    {
     "name": "stdout",
     "output_type": "stream",
     "text": [
      "WARNING: CHANGE YOUR USERNAME AND PASSWORD!!! \n",
      "\n",
      "Anyone can login as an admin to your node right now because your password is still the default PySyft username and password!!!\n",
      "\n",
      "Connecting to localhost... done! \t Logging into jovial_olah... done!\n"
     ]
    }
   ],
   "source": [
    "domain = sy.login(email=\"info@openmined.org\", password=\"changethis\", port=8081)"
   ]
  },
  {
   "cell_type": "code",
   "execution_count": 58,
   "id": "1936eb72",
   "metadata": {
    "scrolled": true
   },
   "outputs": [
    {
     "name": "stderr",
     "output_type": "stream",
     "text": [
      "kj/filesystem-disk-unix.c++:1690: warning: PWD environment variable doesn't match current directory; pwd = /Users/zarreennaowalreza/Documents/openmined-new\n"
     ]
    },
    {
     "name": "stdout",
     "output_type": "stream",
     "text": [
      "Loading dataset...\r",
      "Loading dataset... checking assets...\r",
      "Loading dataset... checking dataset name for uniqueness...\r",
      "Loading dataset... checking dataset name for uniqueness...                                                                                                                    \r",
      "Loading dataset... checking asset types...                              \r",
      "Loading dataset... uploading...🚀                        "
     ]
    },
    {
     "name": "stderr",
     "output_type": "stream",
     "text": [
      "Uploading `age`: 100%|\u001b[32m████████████████████████████████████████████████\u001b[0m| 1/1 [00:00<00:00, 56.89it/s]\u001b[0m\n",
      "Uploading `income`: 100%|\u001b[32m████████████████████████████████████████████\u001b[0m| 1/1 [00:00<00:00, 120.48it/s]\u001b[0m\n",
      "Uploading `spend`: 100%|\u001b[32m██████████████████████████████████████████████\u001b[0m| 1/1 [00:00<00:00, 81.48it/s]\u001b[0m\n",
      "Uploading `male?`: 100%|\u001b[32m██████████████████████████████████████████████\u001b[0m| 1/1 [00:00<00:00, 86.80it/s]\u001b[0m\n",
      "Uploading `female?`: 100%|\u001b[32m████████████████████████████████████████████\u001b[0m| 1/1 [00:00<00:00, 97.05it/s]\u001b[0m\n"
     ]
    },
    {
     "name": "stdout",
     "output_type": "stream",
     "text": [
      "\r",
      "Dataset is uploaded successfully !!! 🎉\n",
      "\n",
      "Run `<your client variable>.datasets` to see your new dataset loaded into your machine!\n"
     ]
    }
   ],
   "source": [
    "domain.load_dataset(\n",
    "    assets={\n",
    "        \"age\": age_tensor,\n",
    "        \"income\": income_tensor,\n",
    "        \"spend\": spend_tensor,\n",
    "        \"male?\": male_tensor,\n",
    "        \"female?\": female_tensor\n",
    "    }, name=\"Customer data in a Mall in Canada\", \n",
    "    description=\"This dataset contains information about 200 customers from a Mall in Canada. Columns\" \\\n",
    "    \"include Age, Annual Income (k$), Spending Score (1-100), Male, Female\"\n",
    ")"
   ]
  },
  {
   "cell_type": "code",
   "execution_count": 59,
   "id": "3b75b932",
   "metadata": {},
   "outputs": [
    {
     "data": {
      "text/html": [
       "<style>\n",
       "                #myInput {\n",
       "                  background-position: 10px 12px; /* Position the search icon */\n",
       "                  background-repeat: no-repeat; /* Do not repeat the icon image */\n",
       "                  background-color: #bbb;\n",
       "                  width: 98%; /* Full-width */\n",
       "                  font-size: 14px; /* Increase font-size */\n",
       "                  padding: 12px 20px 12px 40px; /* Add some padding */\n",
       "                  border: 1px solid #ddd; /* Add a grey border */\n",
       "                  margin-bottom: 12px; /* Add some space below the input */\n",
       "                }\n",
       "\n",
       "                #myTable {\n",
       "                  border-collapse: collapse; /* Collapse borders */\n",
       "                  width: 100%; /* Full-width */\n",
       "                  border: 1px solid #ddd; /* Add a grey border */\n",
       "                  font-size: 14px; /* Increase font-size */\n",
       "                }\n",
       "\n",
       "                #myTable th, #myTable td {\n",
       "                  text-align: left; /* Left-align text */\n",
       "                  padding: 10px; /* Add padding */\n",
       "                }\n",
       "\n",
       "                #myTable tr {\n",
       "                  /* Add a bottom border to all table rows */\n",
       "                  border-bottom: 1px solid #ddd;\n",
       "                }\n",
       "\n",
       "                #myTable tr.header, #myTable tr:hover {\n",
       "                  /* Add a grey background color to the table header and on hover */\n",
       "                  background-color: #777;\n",
       "                }\n",
       "                </style>\n",
       "\n",
       "                <table id=\"myTable\" style=\"width:1000px\">\n",
       "                  <tr class=\"header\">\n",
       "                    <th style=\"width:30px\">Idx</th>\n",
       "                    <th style=\"width:20%;\">Name</th>\n",
       "                    <th style=\"width:35%;\">Description</th>\n",
       "                    <th style=\"width:20%;\">Assets</th>\n",
       "                    <th style=\"width:300px;\">Id</th>\n",
       "                  </tr>\n",
       "                \n",
       "\n",
       "          <tr>\n",
       "            <td>[0]</td>\n",
       "            <td>Canada Imports and Exports Feb 2021</td>\n",
       "            <td>This dataset contains information about all of Canada's imports and exports    in the month of Feb 2021. Measured in USD.</td>\n",
       "            <td>[\"imports\"] -> <class 'syft.core.tensor.tensor.Tensor'><br /><br />[\"exports\"] -> <class 'syft.core.tensor.tensor.Tensor'><br /><br /></td>\n",
       "            <td>d55ad7d0-24e4-4e24-a571-9b5b41940879</td>\n",
       "          </tr>\n",
       "\n",
       "          <tr>\n",
       "            <td>[1]</td>\n",
       "            <td>Customer data in a Mall in Canada</td>\n",
       "            <td>This dataset contains information about 200 customers from a Mall in Canada. Columnsinclude Age, Annual Income (k$), Spending Score (1-100), Male, Female</td>\n",
       "            <td>[\"age\"] -> <class 'syft.core.tensor.tensor.Tensor'><br /><br />[\"income\"] -> <class 'syft.core.tensor.tensor.Tensor'><br /><br />[\"spend\"] -> <class 'syft.core.tensor.tensor.Tensor'><br /><br />...<br /><br /></td>\n",
       "            <td>688a2ae6-75e3-462d-a5dd-5aa295f58070</td>\n",
       "          </tr>\n",
       "        </table>\n",
       "\n",
       "        <script>\n",
       "        function myFunction() {\n",
       "          // Declare variables\n",
       "          var input, filter, table, tr, td, i, txtValue;\n",
       "          input = document.getElementById(\"myInput\");\n",
       "          filter = input.value.toUpperCase();\n",
       "          table = document.getElementById(\"myTable\");\n",
       "          tr = table.getElementsByTagName(\"tr\");\n",
       "\n",
       "          // Loop through all table rows, and hide those who don't match the search query\n",
       "          for (i = 0; i < tr.length; i++) {\n",
       "            name_td = tr[i].getElementsByTagName(\"td\")[1];\n",
       "            desc_td = tr[i].getElementsByTagName(\"td\")[2];\n",
       "            asset_td = tr[i].getElementsByTagName(\"td\")[3];\n",
       "            id_td = tr[i].getElementsByTagName(\"td\")[4];\n",
       "            if (name_td || desc_td || asset_td || id_td) {\n",
       "              name_txtValue = name_td.textContent || name_td.innerText;\n",
       "              desc_txtValue = desc_td.textContent || name_td.innerText;\n",
       "              asset_txtValue = asset_td.textContent || name_td.innerText;\n",
       "              id_txtValue = id_td.textContent || name_td.innerText;\n",
       "              name_bool = name_txtValue.toUpperCase().indexOf(filter) > -1;\n",
       "              desc_bool = desc_txtValue.toUpperCase().indexOf(filter) > -1;\n",
       "              asset_bool = asset_txtValue.toUpperCase().indexOf(filter) > -1;\n",
       "              id_bool = id_txtValue.toUpperCase().indexOf(filter) > -1;\n",
       "              if (name_bool || desc_bool || asset_bool || id_bool) {\n",
       "                tr[i].style.display = \"\";\n",
       "              } else {\n",
       "                tr[i].style.display = \"none\";\n",
       "              }\n",
       "            }\n",
       "          }\n",
       "        }\n",
       "        </script>"
      ],
      "text/plain": [
       "<syft.core.node.common.client_manager.dataset_api.DatasetRequestAPI at 0x7fd7997c60d0>"
      ]
     },
     "execution_count": 59,
     "metadata": {},
     "output_type": "execute_result"
    }
   ],
   "source": [
    "domain.datasets"
   ]
  },
  {
   "cell_type": "code",
   "execution_count": 60,
   "id": "4dbfd588",
   "metadata": {},
   "outputs": [
    {
     "name": "stdout",
     "output_type": "stream",
     "text": [
      "User created successfully!\n"
     ]
    },
    {
     "data": {
      "text/plain": [
       "{'name': 'Zarreen',\n",
       " 'email': 'znr@openmined.org',\n",
       " 'password': 'sherlock',\n",
       " 'url': 'localhost'}"
      ]
     },
     "execution_count": 60,
     "metadata": {},
     "output_type": "execute_result"
    }
   ],
   "source": [
    "domain.create_user(\n",
    "    name=\"Zarreen\", \n",
    "    email=\"znr@openmined.org\", \n",
    "    password=\"sherlock\", \n",
    "    budget=10\n",
    ")"
   ]
  },
  {
   "cell_type": "code",
   "execution_count": null,
   "id": "fa1cefde",
   "metadata": {},
   "outputs": [],
   "source": [
    "domain.requests.pandas"
   ]
  },
  {
   "cell_type": "markdown",
   "id": "61cd4b02",
   "metadata": {},
   "source": [
    "### Sanity Checking"
   ]
  },
  {
   "cell_type": "code",
   "execution_count": 67,
   "id": "e5b9ce9a",
   "metadata": {},
   "outputs": [],
   "source": [
    "import matplotlib.pyplot as plt\n",
    "import seaborn as sns\n",
    "\n",
    "%matplotlib inline\n",
    "\n",
    "from plotly.offline import iplot, init_notebook_mode\n",
    "import plotly.graph_objs as go\n",
    "import plotly.io as pio"
   ]
  },
  {
   "cell_type": "code",
   "execution_count": 68,
   "id": "d661244f",
   "metadata": {},
   "outputs": [],
   "source": [
    "def graph_histogram(x):\n",
    "    \"\"\"\n",
    "    adapted from https://github.com/ugis22/clustering_analysis/blob/master/clustering_analysis.ipynb\n",
    "    \"\"\"\n",
    "    if x.dtype == \"int64\" or x.dtype == \"float64\":\n",
    "        # Select size of bins by getting maximum and minimum and divide the substraction by 10\n",
    "        size_bins = 10\n",
    "        # Get the title by getting the name of the column\n",
    "        title = x.name\n",
    "        #Assign random colors to each graph\n",
    "        color_kde = list(map(float, np.random.rand(3,)))\n",
    "        color_bar = list(map(float, np.random.rand(3,)))\n",
    "\n",
    "        # Plot the displot\n",
    "        sns.distplot(x, bins=size_bins, kde_kws={\"lw\": 1.5, \"alpha\":0.8, \"color\":color_kde},\n",
    "                       hist_kws={\"linewidth\": 1.5, \"edgecolor\": \"grey\",\n",
    "                                \"alpha\": 0.4, \"color\":color_bar})\n",
    "        # Customize ticks and labels\n",
    "        plt.xticks(size=14)\n",
    "        plt.yticks(size=14);\n",
    "        plt.ylabel(\"Frequency\", size=16, labelpad=15);\n",
    "        # Customize title\n",
    "        plt.title(title, size=18)\n",
    "        # Customize grid and axes visibility\n",
    "        plt.grid(False);\n",
    "        plt.gca().spines[\"top\"].set_visible(False);\n",
    "        plt.gca().spines[\"right\"].set_visible(False);\n",
    "        plt.gca().spines[\"bottom\"].set_visible(False);\n",
    "        plt.gca().spines[\"left\"].set_visible(False);   \n",
    "    else:\n",
    "        x = pd.DataFrame(x)\n",
    "        # Plot       \n",
    "        sns.catplot(x=x.columns[0], kind=\"count\", palette=\"spring\", data=x)\n",
    "        # Customize title\n",
    "        title = x.columns[0]\n",
    "        plt.title(title, size=18)\n",
    "        # Customize ticks and labels\n",
    "        plt.xticks(size=14)\n",
    "        plt.yticks(size=14);\n",
    "        plt.xlabel(\"\")\n",
    "        plt.ylabel(\"Counts\", size=16, labelpad=15);        \n",
    "        # Customize grid and axes visibility\n",
    "        plt.gca().spines[\"top\"].set_visible(False);\n",
    "        plt.gca().spines[\"right\"].set_visible(False);\n",
    "        plt.gca().spines[\"bottom\"].set_visible(False);\n",
    "        plt.gca().spines[\"left\"].set_visible(False);"
   ]
  },
  {
   "cell_type": "code",
   "execution_count": 69,
   "id": "14834952",
   "metadata": {},
   "outputs": [
    {
     "name": "stderr",
     "output_type": "stream",
     "text": [
      "/Users/zarreennaowalreza/opt/anaconda3/envs/test_env/lib/python3.9/site-packages/seaborn/distributions.py:2619: FutureWarning:\n",
      "\n",
      "`distplot` is a deprecated function and will be removed in a future version. Please adapt your code to use either `displot` (a figure-level function with similar flexibility) or `histplot` (an axes-level function for histograms).\n",
      "\n"
     ]
    },
    {
     "data": {
      "image/png": "[encoded data removed]",
      "text/plain": [
       "<Figure size 432x288 with 1 Axes>"
      ]
     },
     "metadata": {
      "needs_background": "light"
     },
     "output_type": "display_data"
    }
   ],
   "source": [
    "graph_histogram(canada_customer_data[\"Spending Score (1-100)\"])"
   ]
  },
  {
   "cell_type": "code",
   "execution_count": 48,
   "id": "a0558eb3",
   "metadata": {},
   "outputs": [],
   "source": [
    "customer_id = canada_customer_data[\"CustomerID\"].to_numpy().reshape(200, 1)"
   ]
  },
  {
   "cell_type": "code",
   "execution_count": null,
   "id": "265a5164",
   "metadata": {},
   "outputs": [],
   "source": []
  }
 ],
 "metadata": {
  "kernelspec": {
   "display_name": "Python 3 (ipykernel)",
   "language": "python",
   "name": "python3"
  },
  "language_info": {
   "codemirror_mode": {
    "name": "ipython",
    "version": 3
   },
   "file_extension": ".py",
   "mimetype": "text/x-python",
   "name": "python",
   "nbconvert_exporter": "python",
   "pygments_lexer": "ipython3",
   "version": "3.9.12"
  }
 },
 "nbformat": 4,
 "nbformat_minor": 5
}
