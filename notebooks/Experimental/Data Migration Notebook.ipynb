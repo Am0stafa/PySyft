{
 "cells": [
  {
   "cell_type": "code",
   "execution_count": 1,
   "id": "7e07b989",
   "metadata": {},
   "outputs": [
    {
     "name": "stderr",
     "output_type": "stream",
     "text": [
      "kj/filesystem-disk-unix.c++:1703: warning: PWD environment variable doesn't match current directory; pwd = /home/shubham/PySyft\n"
     ]
    }
   ],
   "source": [
    "import syft as sy"
   ]
  },
  {
   "cell_type": "code",
   "execution_count": 4,
   "id": "16a93e8e",
   "metadata": {},
   "outputs": [],
   "source": [
    "from syft.types.syft_object import SyftMigrationRegistry\n",
    "from syft.service.metadata.node_metadata import *"
   ]
  },
  {
   "cell_type": "code",
   "execution_count": 5,
   "id": "0af08de0",
   "metadata": {},
   "outputs": [],
   "source": [
    "node_metadata_v1 = NodeMetadata(\n",
    "    name=\"OM\",\n",
    "    highest_object_version=2,\n",
    "    lowest_object_version=1,\n",
    "    id=sy.UID(),\n",
    "    verify_key=sy.SyftSigningKey.generate().verify_key,\n",
    "    syft_version=\"0.8.2\",\n",
    "    node_type=\"domain\",\n",
    "    signup_enabled=True,\n",
    "    admin_email=\"info@openmined.org\",\n",
    "    node_side_type=\"low_side\",\n",
    "    show_warnings=False,\n",
    ")"
   ]
  },
  {
   "cell_type": "code",
   "execution_count": 6,
   "id": "c8fa44d7",
   "metadata": {},
   "outputs": [
    {
     "data": {
      "text/markdown": [
       "```python\n",
       "class NodeMetadata:\n",
       "  id: str = fba963af48674bb19d3e738f966facf4\n",
       "\n",
       "```"
      ],
      "text/plain": [
       "syft.service.metadata.node_metadata.NodeMetadata"
      ]
     },
     "execution_count": 6,
     "metadata": {},
     "output_type": "execute_result"
    }
   ],
   "source": [
    "sy.deserialize(sy.serialize(node_metadata_v1, to_bytes=True), from_bytes=True)"
   ]
  },
  {
   "cell_type": "code",
   "execution_count": 7,
   "id": "cd8e7a4c",
   "metadata": {},
   "outputs": [],
   "source": [
    "node_metadata_v2 = NodeMetadataV2(\n",
    "    name=\"OM\",\n",
    "    highest_version=2,\n",
    "    lowest_version=1,\n",
    "    id=sy.UID(),\n",
    "    verify_key=sy.SyftSigningKey.generate().verify_key,\n",
    "    syft_version=\"0.8.2\",\n",
    "    node_type=\"domain\",\n",
    "    signup_enabled=True,\n",
    "    admin_email=\"info@openmined.org\",\n",
    "    node_side_type=\"low_side\",\n",
    "    show_warnings=False,\n",
    ")"
   ]
  },
  {
   "cell_type": "code",
   "execution_count": 8,
   "id": "f91e8d87",
   "metadata": {},
   "outputs": [
    {
     "data": {
      "text/markdown": [
       "```python\n",
       "class NodeMetadataV2:\n",
       "  id: str = 4b55dbeb8ee94b1d8395406fab17062f\n",
       "\n",
       "```"
      ],
      "text/plain": [
       "syft.service.metadata.node_metadata.NodeMetadataV2"
      ]
     },
     "execution_count": 8,
     "metadata": {},
     "output_type": "execute_result"
    }
   ],
   "source": [
    "sy.deserialize(sy.serialize(node_metadata_v2, to_bytes=True), from_bytes=True)"
   ]
  },
  {
   "cell_type": "code",
   "execution_count": 9,
   "id": "e4cd121a",
   "metadata": {},
   "outputs": [
    {
     "data": {
      "text/markdown": [
       "```python\n",
       "class NodeMetadataV2:\n",
       "  id: str = fba963af48674bb19d3e738f966facf4\n",
       "\n",
       "```"
      ],
      "text/plain": [
       "syft.service.metadata.node_metadata.NodeMetadataV2"
      ]
     },
     "execution_count": 9,
     "metadata": {},
     "output_type": "execute_result"
    }
   ],
   "source": [
    "node_metadata_v1.migrate_to(version=2)"
   ]
  },
  {
   "cell_type": "code",
   "execution_count": 10,
   "id": "730a088e",
   "metadata": {},
   "outputs": [
    {
     "data": {
      "text/markdown": [
       "```python\n",
       "class NodeMetadataV2:\n",
       "  id: str = 4b55dbeb8ee94b1d8395406fab17062f\n",
       "\n",
       "```"
      ],
      "text/plain": [
       "syft.service.metadata.node_metadata.NodeMetadataV2"
      ]
     },
     "execution_count": 10,
     "metadata": {},
     "output_type": "execute_result"
    }
   ],
   "source": [
    "node_metadata_v2"
   ]
  },
  {
   "cell_type": "code",
   "execution_count": 11,
   "id": "aee8489f",
   "metadata": {},
   "outputs": [
    {
     "data": {
      "text/markdown": [
       "```python\n",
       "class NodeMetadata:\n",
       "  id: str = 4b55dbeb8ee94b1d8395406fab17062f\n",
       "\n",
       "```"
      ],
      "text/plain": [
       "syft.service.metadata.node_metadata.NodeMetadata"
      ]
     },
     "execution_count": 11,
     "metadata": {},
     "output_type": "execute_result"
    }
   ],
   "source": [
    "node_metadata_v2.migrate_to(version=1)"
   ]
  },
  {
   "cell_type": "code",
   "execution_count": 12,
   "id": "b88b04ed",
   "metadata": {},
   "outputs": [
    {
     "data": {
      "text/html": [
       "{1: &#x27;syft.service.metadata.node_metadata.NodeMetadata&#x27;, 2: &#x27;syft.service.metadata.node_metadata.NodeMetadataV2&#x27;, 3: &#x27;syft.service.metadata.node_metadata.NodeMetadataV3&#x27;}"
      ],
      "text/plain": [
       "{1: 'syft.service.metadata.node_metadata.NodeMetadata',\n",
       " 2: 'syft.service.metadata.node_metadata.NodeMetadataV2',\n",
       " 3: 'syft.service.metadata.node_metadata.NodeMetadataV3'}"
      ]
     },
     "execution_count": 12,
     "metadata": {},
     "output_type": "execute_result"
    }
   ],
   "source": [
    "SyftMigrationRegistry.__migration_version_registry__['NodeMetadata']"
   ]
  },
  {
   "cell_type": "code",
   "execution_count": 14,
   "id": "03a6fa93",
   "metadata": {},
   "outputs": [
    {
     "data": {
      "text/html": [
       "{&#x27;1x2&#x27;: &lt;function generate_transform_wrapper.&lt;locals&gt;.wrapper at 0x7f823fde5f70&gt;, &#x27;2x1&#x27;: &lt;function generate_transform_wrapper.&lt;locals&gt;.wrapper at 0x7f823fdb11f0&gt;, &#x27;2x3&#x27;: &lt;function generate_transform_wrapper.&lt;locals&gt;.wrapper at 0x7f823fdb13a0&gt;, &#x27;3x2&#x27;: &lt;function generate_transform_wrapper.&lt;locals&gt;.wrapper at 0x7f823fdb15e0&gt;}"
      ],
      "text/plain": [
       "{'1x2': <function syft.types.transforms.generate_transform_wrapper.<locals>.wrapper(self: syft.service.metadata.node_metadata.NodeMetadata, context: Union[syft.types.transforms.TransformContext, syft.service.context.NodeServiceContext, NoneType] = None) -> syft.service.metadata.node_metadata.NodeMetadataV2>,\n",
       " '2x1': <function syft.types.transforms.generate_transform_wrapper.<locals>.wrapper(self: syft.service.metadata.node_metadata.NodeMetadataV2, context: Union[syft.types.transforms.TransformContext, syft.service.context.NodeServiceContext, NoneType] = None) -> syft.service.metadata.node_metadata.NodeMetadata>,\n",
       " '2x3': <function syft.types.transforms.generate_transform_wrapper.<locals>.wrapper(self: syft.service.metadata.node_metadata.NodeMetadataV2, context: Union[syft.types.transforms.TransformContext, syft.service.context.NodeServiceContext, NoneType] = None) -> syft.service.metadata.node_metadata.NodeMetadataV3>,\n",
       " '3x2': <function syft.types.transforms.generate_transform_wrapper.<locals>.wrapper(self: syft.service.metadata.node_metadata.NodeMetadataV3, context: Union[syft.types.transforms.TransformContext, syft.service.context.NodeServiceContext, NoneType] = None) -> syft.service.metadata.node_metadata.NodeMetadataV2>}"
      ]
     },
     "execution_count": 14,
     "metadata": {},
     "output_type": "execute_result"
    }
   ],
   "source": [
    "SyftMigrationRegistry.__migration_transform_registry__[\"NodeMetadata\"]"
   ]
  },
  {
   "cell_type": "markdown",
   "id": "c3d5a0fc",
   "metadata": {},
   "source": [
    "### Protocol Upgrade"
   ]
  },
  {
   "cell_type": "markdown",
   "id": "03ceb6cb",
   "metadata": {},
   "source": [
    "#### Explanation"
   ]
  },
  {
   "cell_type": "code",
   "execution_count": null,
   "id": "895b7eba",
   "metadata": {},
   "outputs": [],
   "source": [
    "# protocol_state.json\n",
    "# 1: {\n",
    "#     \"hash\": \"effasfa\"\n",
    "#     \"object_versions\": {\"User\": [1], \"NodeMetadata\": [1]},\n",
    "#     \"supported\": True\n",
    "# },\n",
    "# 2: {\n",
    "    \n",
    "#     \"hash\": \"12dsad4\",\n",
    "#     \"object_versions\": {\"User\": [1], \"NodeMetadata\": [1, 2]},\n",
    "#     \"supported\": True\n",
    "# },\n",
    "# 3: {\n",
    "    \n",
    "#     \"hash\": \"5235sad4\",\n",
    "#     \"object_versions\": {\"User\": [1, 2], \"NodeMetadata\": [1,2,3]},\n",
    "#     \"supported\": True\n",
    "# },\n",
    "# 4: {\n",
    "\n",
    "#     \"hash\": \"5235sad4\",\n",
    "#     \"object_versions\": {\"User\": [3], \"NodeMetadata\": [1,2,3]},\n",
    "#     \"supported\": True\n",
    "# }\n",
    "# 5: {\n",
    "#     \"hash\": \"13124214\",\n",
    "#     \"object_versions\": {\"User\": [2, 3], \"NodeMetadata\": [1, 2, 3]},\n",
    "#     \"supported\": True\n",
    "    \n",
    "# }\n",
    "\n",
    "\n",
    "# Server: [1, 2]\n",
    "# Client: [1]\n",
    "# Commun Protocol: [1]\n",
    "\n",
    "# Server: [1]\n",
    "# Client: [1, 2]\n",
    "# Commun Protocol: [1]"
   ]
  },
  {
   "cell_type": "markdown",
   "id": "ed70607e",
   "metadata": {},
   "source": [
    "#### Example"
   ]
  },
  {
   "cell_type": "code",
   "execution_count": 15,
   "id": "3531d395",
   "metadata": {},
   "outputs": [
    {
     "name": "stdout",
     "output_type": "stream",
     "text": [
      "No change in schema. Skipping upgrade.\n"
     ]
    }
   ],
   "source": [
    "sy.upgrade_protocol(dev_mode=True)"
   ]
  },
  {
   "cell_type": "code",
   "execution_count": null,
   "id": "bbc42a79",
   "metadata": {},
   "outputs": [],
   "source": [
    "from syft.protocol.data_protocol import get_data_protocol\n",
    "data_protocol = get_data_protocol(dev_mode=True)"
   ]
  },
  {
   "cell_type": "code",
   "execution_count": null,
   "id": "111c22e3",
   "metadata": {},
   "outputs": [],
   "source": [
    "# client: [1]\n",
    "# server: [1, 2]\n",
    "# latest_protocol_on_server: 2\n",
    "# latest_protocol_on_client: 1\n",
    "# communication protocol: [1]  "
   ]
  },
  {
   "cell_type": "code",
   "execution_count": 16,
   "id": "150b538b",
   "metadata": {},
   "outputs": [
    {
     "name": "stdout",
     "output_type": "stream",
     "text": [
      "Starting test-domain server on 0.0.0.0:59194\n",
      "\n",
      "WARNING: private key is based on node name: test-domain in dev_mode. Don't run this in production.\n"
     ]
    },
    {
     "name": "stderr",
     "output_type": "stream",
     "text": [
      "INFO:     Started server process [98697]\n",
      "INFO:     Waiting for application startup.\n",
      "INFO:     Application startup complete.\n",
      "INFO:     Uvicorn running on http://0.0.0.0:59194 (Press CTRL+C to quit)\n"
     ]
    },
    {
     "name": "stdout",
     "output_type": "stream",
     "text": [
      "INFO:     127.0.0.1:40672 - \"GET /api/v2/metadata HTTP/1.1\" 200 OK\n",
      "Waiting for server to start Done.\n",
      "INFO:     127.0.0.1:32878 - \"GET /api/v2/metadata HTTP/1.1\" 200 OK\n",
      "INFO:     127.0.0.1:32878 - \"GET /api/v2/metadata HTTP/1.1\" 200 OK\n",
      "INFO:     127.0.0.1:32878 - \"POST /api/v2/login HTTP/1.1\" 200 OK\n",
      "INFO:     127.0.0.1:32878 - \"GET /api/v2/api?verify_key=27e6b33f2084e7cc55b205404d2826ba21a8a59723d5a704a76c672ca16c16c0&communication_protocol=3 HTTP/1.1\" 200 OK\n",
      "INFO:     127.0.0.1:32894 - \"POST /api/v2/api_call HTTP/1.1\" 200 OK\n",
      "INFO:     127.0.0.1:32878 - \"GET /api/v2/api?verify_key=27e6b33f2084e7cc55b205404d2826ba21a8a59723d5a704a76c672ca16c16c0&communication_protocol=3 HTTP/1.1\" 200 OK\n",
      "INFO:     127.0.0.1:35838 - \"POST /api/v2/api_call HTTP/1.1\" 200 OK\n",
      "INFO:     127.0.0.1:54920 - \"GET /api/v2/metadata HTTP/1.1\" 200 OK\n",
      "INFO:     127.0.0.1:54920 - \"GET /api/v2/metadata HTTP/1.1\" 200 OK\n",
      "<class 'syft.service.user.user.UserView'>\n",
      "<class 'syft.service.response.SyftError'>\n",
      "<class 'syft.types.uid.UID'>\n",
      "<class 'syft.service.user.user.UserUpdate'>\n",
      "<class 'syft.service.user.user.UserView'>\n",
      "<class 'syft.service.response.SyftError'>\n",
      "<class 'syft.types.uid.UID'>\n",
      "<class 'bool'>\n",
      "<class 'syft.service.response.SyftError'>\n",
      "<class 'syft.service.network.routes.NodeRoute'>\n",
      "<class 'syft.service.network.routes.NodeRoute'>\n",
      "<class 'syft.node.credentials.SyftVerifyKey'>\n",
      "<class 'syft.service.response.SyftSuccess'>\n",
      "<class 'syft.service.response.SyftError'>\n",
      "<class 'syft.service.network.node_peer.NodePeer'>\n",
      "<class 'bytes'>\n",
      "<class 'syft.service.network.routes.NodeRoute'>\n",
      "<class 'syft.node.credentials.SyftVerifyKey'>\n",
      "<class 'bytes'>\n",
      "<class 'syft.service.response.SyftError'>\n",
      "<class 'syft.service.network.routes.NodeRoute'>\n",
      "<class 'syft.service.response.SyftSuccess'>\n",
      "<class 'syft.service.response.SyftError'>\n",
      "<class 'syft.service.network.node_peer.NodePeer'>\n",
      "<class 'syft.service.response.SyftError'>\n",
      "<class 'str'>\n",
      "<class 'syft.service.network.node_peer.NodePeer'>\n",
      "<class 'NoneType'>\n",
      "<class 'syft.service.response.SyftError'>\n",
      "<enum 'NodeType'>\n",
      "<class 'syft.service.network.node_peer.NodePeer'>\n",
      "<class 'syft.service.response.SyftError'>\n",
      "<class 'syft.service.vpn.headscale_client.HeadscaleAuthToken'>\n",
      "<class 'syft.service.response.SyftError'>\n",
      "<class 'syft.types.uid.UID'>\n",
      "<class 'syft.store.blob_storage.BlobRetrieval'>\n",
      "<class 'syft.service.response.SyftError'>\n",
      "<class 'syft.types.blob_storage.CreateBlobStorageEntry'>\n",
      "<class 'syft.store.blob_storage.on_disk.OnDiskBlobDeposit'>\n",
      "<class 'syft.store.blob_storage.seaweedfs.SeaweedFSBlobDeposit'>\n",
      "<class 'syft.service.response.SyftError'>\n",
      "<class 'syft.types.uid.UID'>\n",
      "<class 'bytes'>\n",
      "<class 'syft.service.response.SyftSuccess'>\n",
      "<class 'syft.service.response.SyftError'>\n",
      "<class 'syft.types.uid.UID'>\n",
      "typing.List\n",
      "<class 'syft.service.response.SyftError'>\n",
      "<class 'syft.service.response.SyftSuccess'>\n",
      "<class 'syft.service.action.action_object.ActionObject'>\n",
      "<class 'syft.types.twin_object.TwinObject'>\n",
      "<class 'syft.service.action.action_object.ActionObject'>\n",
      "<class 'str'>\n",
      "<class 'syft.types.uid.UID'>\n",
      "<enum 'TwinMode'>\n",
      "<class 'syft.service.action.action_object.ActionObject'>\n",
      "<class 'str'>\n",
      "<class 'syft.types.uid.UID'>\n",
      "<class 'syft.service.action.action_object.ActionObjectPointer'>\n",
      "<class 'str'>\n",
      "<class 'syft.types.uid.UID'>\n",
      "<class 'syft.service.response.SyftError'>\n",
      "<class 'syft.types.syft_object.SyftObject'>\n",
      "<class 'syft.service.action.action_object.Action'>\n",
      "<class 'syft.service.action.action_object.ActionObject'>\n",
      "<class 'result.result.Err'>\n",
      "<class 'syft.types.uid.UID'>\n",
      "<class 'syft.service.response.SyftSuccess'>\n",
      "<class 'syft.service.response.SyftError'>\n",
      "<class 'syft.service.notification.notifications.ReplyNotification'>\n",
      "<class 'syft.service.notification.notifications.ReplyNotification'>\n",
      "<class 'syft.service.response.SyftError'>\n",
      "<class 'syft.service.request.request.SubmitRequest'>\n",
      "<class 'bool'>\n",
      "<class 'str'>\n",
      "<class 'NoneType'>\n",
      "<class 'syft.service.request.request.Request'>\n",
      "<class 'syft.service.response.SyftError'>\n",
      "<class 'syft.service.code.user_code.SubmitUserCode'>\n",
      "<class 'syft.service.code.user_code.UserCode'>\n",
      "<class 'syft.service.response.SyftError'>\n",
      "<class 'syft.service.code.user_code.SubmitUserCode'>\n",
      "<class 'str'>\n",
      "<class 'NoneType'>\n",
      "<class 'syft.service.response.SyftSuccess'>\n",
      "<class 'syft.service.response.SyftError'>\n",
      "<class 'syft.service.code.user_code.UserCode'>\n",
      "<class 'syft.service.response.SyftError'>\n",
      "<class 'syft.types.uid.UID'>\n",
      "<class 'syft.service.code.user_code.UserCode'>\n",
      "<class 'syft.service.code.user_code.UserCode'>\n",
      "<class 'syft.service.response.SyftError'>\n",
      "<class 'syft.types.uid.UID'>\n",
      "typing.Any\n",
      "<class 'syft.service.response.SyftSuccess'>\n",
      "<class 'syft.service.response.SyftError'>\n",
      "<class 'int'>\n",
      "<class 'NoneType'>\n",
      "<class 'int'>\n",
      "<class 'NoneType'>\n",
      "<class 'syft.service.dataset.dataset.DatasetPageView'>\n",
      "<class 'syft.service.dataset.dataset.Dataset'>\n",
      "<class 'syft.service.response.SyftError'>\n",
      "<class 'syft.types.uid.UID'>\n",
      "typing.Dict\n",
      "<class 'str'>\n",
      "<class 'syft.types.uid.UID'>\n",
      "<class 'syft.service.response.SyftSuccess'>\n",
      "<class 'syft.service.response.SyftError'>\n",
      "<class 'syft.service.metadata.node_metadata.NodeMetadataV3'>\n",
      "<class 'inspect._empty'>\n",
      "<class 'syft.service.project.project.ProjectEvent'>\n",
      "<class 'syft.service.response.SyftSuccess'>\n",
      "<class 'syft.service.response.SyftError'>\n",
      "<class 'syft.service.project.project.ProjectEvent'>\n",
      "<class 'syft.service.response.SyftSuccess'>\n",
      "<class 'syft.service.response.SyftError'>\n",
      "<class 'syft.types.uid.UID'>\n",
      "<class 'int'>\n",
      "<class 'syft.service.response.SyftSuccess'>\n",
      "<class 'syft.service.response.SyftError'>\n",
      "<class 'syft.service.project.project.ProjectEvent'>\n",
      "<class 'syft.service.project.project.Project'>\n",
      "<class 'syft.service.response.SyftError'>\n",
      "<class 'str'>\n",
      "<class 'syft.service.project.project.Project'>\n",
      "<class 'syft.service.response.SyftError'>\n",
      "<class 'syft.types.uid.UID'>\n",
      "<class 'inspect._empty'>\n",
      "INFO:     127.0.0.1:49978 - \"GET /api/v2/api?verify_key=bb14f1678f24652e8e886ba715ec1352e4d2438d792a60c81e3504452dc2d037&communication_protocol=1 HTTP/1.1\" 200 OK\n",
      "INFO:     127.0.0.1:58034 - \"POST /api/v2/api_call HTTP/1.1\" 200 OK\n"
     ]
    }
   ],
   "source": [
    "node = sy.orchestra.launch(\"test-domain\", dev_mode=True, port=\"auto\")"
   ]
  },
  {
   "cell_type": "code",
   "execution_count": 17,
   "id": "fd79e8b5",
   "metadata": {},
   "outputs": [
    {
     "name": "stdout",
     "output_type": "stream",
     "text": [
      "Logged into <test-domain: High side Domain> as <info@openmined.org>\n"
     ]
    },
    {
     "data": {
      "text/html": [
       "<div class=\"alert-warning\" style=\"padding:5px;\"><strong>SyftWarning</strong>: You are using a default password. Please change the password using `[your_client].me.set_password([new_password])`.</div><br />"
      ],
      "text/plain": [
       "SyftWarning: You are using a default password. Please change the password using `[your_client].me.set_password([new_password])`."
      ]
     },
     "metadata": {},
     "output_type": "display_data"
    }
   ],
   "source": [
    "client = node.login(email=\"info@openmined.org\", password=\"changethis\")"
   ]
  },
  {
   "cell_type": "code",
   "execution_count": 18,
   "id": "e8dda75a",
   "metadata": {},
   "outputs": [
    {
     "data": {
      "text/html": [
       "{&#x27;metadata_version&#x27;: 3, &#x27;name&#x27;: &#x27;test-domain&#x27;, &#x27;id&#x27;: &#x27;552e6899c5d846e28a12af5cb692a37b&#x27;, &#x27;verify_key&#x27;: &#x27;27e6b33f2084e7cc55b205404d2826ba21a8a59723d5a704a76c672ca16c16c0&#x27;, &#x27;highest_object_version&#x27;: None, &#x27;lowest_object_version&#x27;: None, &#x27;syft_version&#x27;: &#x27;0.8.2-beta.31&#x27;, &#x27;node_type&#x27;: &#x27;domain&#x27;, &#x27;deployed_on&#x27;: &#x27;09/27/2023&#x27;, &#x27;organization&#x27;: &#x27;OpenMined&#x27;, &#x27;on_board&#x27;: True, &#x27;description&#x27;: &#x27;Text&#x27;, &#x27;signup_enabled&#x27;: False, &#x27;admin_email&#x27;: &#x27;info@openmined.org&#x27;, &#x27;node_side_type&#x27;: &#x27;high&#x27;, &#x27;show_warnings&#x27;: False, &#x27;supported_protocols&#x27;: [1, 2, 3]}"
      ],
      "text/plain": [
       "{'metadata_version': 3,\n",
       " 'name': 'test-domain',\n",
       " 'id': '552e6899c5d846e28a12af5cb692a37b',\n",
       " 'verify_key': '27e6b33f2084e7cc55b205404d2826ba21a8a59723d5a704a76c672ca16c16c0',\n",
       " 'highest_object_version': None,\n",
       " 'lowest_object_version': None,\n",
       " 'syft_version': '0.8.2-beta.31',\n",
       " 'node_type': 'domain',\n",
       " 'deployed_on': '09/27/2023',\n",
       " 'organization': 'OpenMined',\n",
       " 'on_board': True,\n",
       " 'description': 'Text',\n",
       " 'signup_enabled': False,\n",
       " 'admin_email': 'info@openmined.org',\n",
       " 'node_side_type': 'high',\n",
       " 'show_warnings': False,\n",
       " 'supported_protocols': [1, 2, 3]}"
      ]
     },
     "execution_count": 18,
     "metadata": {},
     "output_type": "execute_result"
    }
   ],
   "source": [
    "client.metadata.dict()"
   ]
  },
  {
   "cell_type": "code",
   "execution_count": 19,
   "id": "ede9ef48",
   "metadata": {},
   "outputs": [
    {
     "data": {
      "text/html": [
       "[1, 2, 3]"
      ],
      "text/plain": [
       "[1, 2, 3]"
      ]
     },
     "execution_count": 19,
     "metadata": {},
     "output_type": "execute_result"
    }
   ],
   "source": [
    "client.metadata.supported_protocols"
   ]
  },
  {
   "cell_type": "code",
   "execution_count": 20,
   "id": "6999f9e3",
   "metadata": {},
   "outputs": [
    {
     "data": {
      "text/plain": [
       "3"
      ]
     },
     "execution_count": 20,
     "metadata": {},
     "output_type": "execute_result"
    }
   ],
   "source": [
    "client.communication_protocol"
   ]
  },
  {
   "cell_type": "code",
   "execution_count": 24,
   "id": "1a2da33f",
   "metadata": {},
   "outputs": [
    {
     "name": "stdout",
     "output_type": "stream",
     "text": [
      "error representing <class 'dict'> of objects. All arrays must be of the same length\n"
     ]
    },
    {
     "data": {
      "text/html": [
       "{&#x27;id&#x27;: &lt;UID: b89a25775f4f4e8889f0790ac24fd2e1&gt;, &#x27;service_path&#x27;: &#x27;metadata.get_metadata&#x27;, &#x27;module_path&#x27;: &#x27;metadata.get_metadata&#x27;, &#x27;name&#x27;: &#x27;get_metadata&#x27;, &#x27;description&#x27;: &#x27;&#x27;, &#x27;doc_string&#x27;: None, &#x27;signature&#x27;: &lt;Signature () -&gt; syft.service.metadata.node_metadata.NodeMetadataV3&gt;, &#x27;has_self&#x27;: False, &#x27;pre_kwargs&#x27;: None, &#x27;warning&#x27;: None}"
      ],
      "text/plain": [
       "{'id': <UID: b89a25775f4f4e8889f0790ac24fd2e1>,\n",
       " 'service_path': 'metadata.get_metadata',\n",
       " 'module_path': 'metadata.get_metadata',\n",
       " 'name': 'get_metadata',\n",
       " 'description': '',\n",
       " 'doc_string': None,\n",
       " 'signature': <Signature () -> syft.service.metadata.node_metadata.NodeMetadataV3>,\n",
       " 'has_self': False,\n",
       " 'pre_kwargs': None,\n",
       " 'warning': None}"
      ]
     },
     "execution_count": 24,
     "metadata": {},
     "output_type": "execute_result"
    }
   ],
   "source": [
    "client.api.endpoints[\"metadata.get_metadata\"].dict()"
   ]
  },
  {
   "cell_type": "code",
   "execution_count": 21,
   "id": "e02b57b3",
   "metadata": {},
   "outputs": [],
   "source": [
    "client.api.services.metadata.get_metadata?"
   ]
  },
  {
   "cell_type": "code",
   "execution_count": 22,
   "id": "e5aca964",
   "metadata": {},
   "outputs": [
    {
     "data": {
      "text/markdown": [
       "```python\n",
       "class NodeMetadataV3:\n",
       "  id: str = 552e6899c5d846e28a12af5cb692a37b\n",
       "\n",
       "```"
      ],
      "text/plain": [
       "syft.service.metadata.node_metadata.NodeMetadataV3"
      ]
     },
     "execution_count": 22,
     "metadata": {},
     "output_type": "execute_result"
    }
   ],
   "source": [
    "client.api.services.metadata.get_metadata()"
   ]
  },
  {
   "cell_type": "code",
   "execution_count": null,
   "id": "5c9c1d7d",
   "metadata": {},
   "outputs": [],
   "source": [
    "# comm protocol: 1\n",
    "# client: [1]\n",
    "# server: [1, 2]\n",
    "# latest_version: server: 2"
   ]
  }
 ],
 "metadata": {
  "kernelspec": {
   "display_name": "Python 3 (ipykernel)",
   "language": "python",
   "name": "python3"
  },
  "language_info": {
   "codemirror_mode": {
    "name": "ipython",
    "version": 3
   },
   "file_extension": ".py",
   "mimetype": "text/x-python",
   "name": "python",
   "nbconvert_exporter": "python",
   "pygments_lexer": "ipython3",
   "version": "3.9.7"
  },
  "toc": {
   "base_numbering": 1,
   "nav_menu": {},
   "number_sections": true,
   "sideBar": true,
   "skip_h1_title": false,
   "title_cell": "Table of Contents",
   "title_sidebar": "Contents",
   "toc_cell": false,
   "toc_position": {},
   "toc_section_display": true,
   "toc_window_display": false
  }
 },
 "nbformat": 4,
 "nbformat_minor": 5
}
