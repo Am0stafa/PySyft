{
 "cells": [
  {
   "cell_type": "code",
   "execution_count": 1,
   "id": "4bded96e",
   "metadata": {},
   "outputs": [
    {
     "name": "stderr",
     "output_type": "stream",
     "text": [
      "/Users/ivolinengong/miniforge3/envs/syft_env/lib/python3.10/site-packages/jax/_src/lib/__init__.py:33: UserWarning: JAX on Mac ARM machines is experimental and minimally tested. Please see https://github.com/google/jax/issues/5501 in the event of problems.\n",
      "  warnings.warn(\"JAX on Mac ARM machines is experimental and minimally tested. \"\n",
      "/Users/ivolinengong/miniforge3/envs/syft_env/lib/python3.10/site-packages/tqdm/auto.py:22: TqdmWarning: IProgress not found. Please update jupyter and ipywidgets. See https://ipywidgets.readthedocs.io/en/stable/user_install.html\n",
      "  from .autonotebook import tqdm as notebook_tqdm\n"
     ]
    }
   ],
   "source": [
    "import syft as sy\n",
    "import numpy as np\n",
    "from syft import DataSubjectArray, PhiTensor, GammaTensor, lazyrepeatarray\n",
    "from syft.core.adp.data_subject_ledger import DataSubjectLedger\n",
    "from syft.core.adp.ledger_store import DictLedgerStore\n",
    "from typing import Any\n",
    "\n",
    "import sys\n",
    "# map the path where the module file is located. In my case it was the desktop\n",
    "sys.path.append('/Users/ivolinengong/Documents/Research/OpenMined/PySyft/packages/syft/tests/syft/core/tensor/adp')\n",
    "\n",
    "import publish_test\n",
    "\n",
    "\n",
    "data = np.random.randint(0, 10, (5,5))\n",
    "pt = PhiTensor(\n",
    "    child=data,\n",
    "    data_subjects=DataSubjectArray.from_objs(np.random.choice([\"Joe\"], (5,5))),\n",
    "    min_vals = lazyrepeatarray(0, (5,5)),\n",
    "    max_vals = lazyrepeatarray(10, (5,5))\n",
    ")\n",
    "\n",
    "gt = GammaTensor(\n",
    "    child=data,\n",
    "    data_subjects=DataSubjectArray.from_objs(np.random.choice([\"Bob\",\"Billy\",\"Brandon\"], (5,5))),\n",
    "    min_vals = lazyrepeatarray(0, (5,5)),\n",
    "    max_vals = lazyrepeatarray(10, (5,5))\n",
    ")"
   ]
  },
  {
   "cell_type": "code",
   "execution_count": 2,
   "id": "113f3f99",
   "metadata": {},
   "outputs": [
    {
     "name": "stdout",
     "output_type": "stream",
     "text": [
      "Creating new Ledger\n"
     ]
    }
   ],
   "source": [
    "ledger_store = DictLedgerStore()\n",
    "\n",
    "user_key = b\"1231\"\n",
    "ledger = DataSubjectLedger.get_or_create(store=ledger_store, user_key=user_key)\n",
    "max_budget = 100\n",
    "\n",
    "def get_budget_for_user(*args: Any, **kwargs: Any) -> float:\n",
    "    return 9999999\n",
    "\n",
    "def deduct_epsilon_for_user(*args: Any, **kwargs: Any) -> bool:\n",
    "    return True\n"
   ]
  },
  {
   "cell_type": "code",
   "execution_count": 3,
   "id": "e90d93d0-289e-4fbd-a215-31a706317d06",
   "metadata": {},
   "outputs": [
    {
     "name": "stderr",
     "output_type": "stream",
     "text": [
      "WARNING:absl:No GPU/TPU found, falling back to CPU. (Set TF_CPP_MIN_LOG_LEVEL=0 and rerun for more info.)\n"
     ]
    },
    {
     "name": "stdout",
     "output_type": "stream",
     "text": [
      "got user budget 9999999 epsilon_spent 40615.90278150125\n",
      "Epsilon Spent:  40615.90278150125\n",
      "Final Values 40615.90278150125\n"
     ]
    }
   ],
   "source": [
    "# Phi Tensor\n",
    "# with calibration: query_limit = 5\n",
    "results = pt.publish(\n",
    "    get_budget_for_user=get_budget_for_user,\n",
    "    deduct_epsilon_for_user=deduct_epsilon_for_user,\n",
    "    ledger=ledger,\n",
    "    sigma=0.1,\n",
    "    private=True,\n",
    "    return_epsilon = True\n",
    ")\n"
   ]
  },
  {
   "cell_type": "code",
   "execution_count": 4,
   "id": "b01a1ead",
   "metadata": {},
   "outputs": [
    {
     "name": "stdout",
     "output_type": "stream",
     "text": [
      "got user budget 9999999 epsilon_spent 696613.5848990582\n",
      "Epsilon Spent:  696613.5848990582\n",
      "Final Values 696613.5848990582\n",
      "got user budget 9999999 epsilon_spent 696220.8359077605\n",
      "Epsilon Spent:  696220.8359077605\n",
      "Final Values 696220.8359077605\n",
      "==================================\n",
      "got user budget 9999999 epsilon_spent 696613.5848990582\n",
      "Epsilon Spent:  696613.5848990582\n",
      "got user budget 9999999 epsilon_spent 696220.8359077605\n",
      "Epsilon Spent:  696220.8359077605\n"
     ]
    }
   ],
   "source": [
    "#gamma\n",
    "publish_test.test_sigma_too_large(\n",
    "    deduct_epsilon_for_user=deduct_epsilon_for_user,\n",
    "    get_budget_for_user=get_budget_for_user,\n",
    "    gamma_tensor=pt,\n",
    "    ledger=ledger,\n",
    ")\n",
    "\n",
    "print(\"==================================\")\n",
    "#phi\n",
    "publish_test.test_sigma_too_large(\n",
    "    deduct_epsilon_for_user=deduct_epsilon_for_user,\n",
    "    get_budget_for_user=get_budget_for_user,\n",
    "    gamma_tensor=gt,\n",
    "    ledger=ledger,\n",
    ")\n"
   ]
  },
  {
   "cell_type": "code",
   "execution_count": 5,
   "id": "1bb3ff2c",
   "metadata": {},
   "outputs": [
    {
     "name": "stdout",
     "output_type": "stream",
     "text": [
      "got user budget 9999999 epsilon_spent 40615.90278150125\n",
      "Epsilon Spent:  40615.90278150125\n",
      "Final Values 40615.90278150125\n",
      "got user budget 9999999 epsilon_spent 696235.9030137506\n",
      "Epsilon Spent:  696235.9030137506\n",
      "Final Values 696235.9030137506\n"
     ]
    },
    {
     "ename": "AssertionError",
     "evalue": "",
     "output_type": "error",
     "traceback": [
      "\u001b[0;31m---------------------------------------------------------------------------\u001b[0m",
      "\u001b[0;31mAssertionError\u001b[0m                            Traceback (most recent call last)",
      "\u001b[1;32m/Users/ivolinengong/Documents/Research/OpenMined/PySyft/notebooks/Experimental/Ivy/PublishTest.ipynb Cell 5\u001b[0m in \u001b[0;36m<cell line: 2>\u001b[0;34m()\u001b[0m\n\u001b[1;32m      <a href='vscode-notebook-cell:/Users/ivolinengong/Documents/Research/OpenMined/PySyft/notebooks/Experimental/Ivy/PublishTest.ipynb#X25sZmlsZQ%3D%3D?line=0'>1</a>\u001b[0m \u001b[39m#gamma\u001b[39;00m\n\u001b[0;32m----> <a href='vscode-notebook-cell:/Users/ivolinengong/Documents/Research/OpenMined/PySyft/notebooks/Experimental/Ivy/PublishTest.ipynb#X25sZmlsZQ%3D%3D?line=1'>2</a>\u001b[0m publish_test\u001b[39m.\u001b[39;49mtest_sigma_too_small(\n\u001b[1;32m      <a href='vscode-notebook-cell:/Users/ivolinengong/Documents/Research/OpenMined/PySyft/notebooks/Experimental/Ivy/PublishTest.ipynb#X25sZmlsZQ%3D%3D?line=2'>3</a>\u001b[0m     deduct_epsilon_for_user\u001b[39m=\u001b[39;49mdeduct_epsilon_for_user,\n\u001b[1;32m      <a href='vscode-notebook-cell:/Users/ivolinengong/Documents/Research/OpenMined/PySyft/notebooks/Experimental/Ivy/PublishTest.ipynb#X25sZmlsZQ%3D%3D?line=3'>4</a>\u001b[0m     get_budget_for_user\u001b[39m=\u001b[39;49mget_budget_for_user,\n\u001b[1;32m      <a href='vscode-notebook-cell:/Users/ivolinengong/Documents/Research/OpenMined/PySyft/notebooks/Experimental/Ivy/PublishTest.ipynb#X25sZmlsZQ%3D%3D?line=4'>5</a>\u001b[0m     gamma_tensor\u001b[39m=\u001b[39;49mpt,\n\u001b[1;32m      <a href='vscode-notebook-cell:/Users/ivolinengong/Documents/Research/OpenMined/PySyft/notebooks/Experimental/Ivy/PublishTest.ipynb#X25sZmlsZQ%3D%3D?line=5'>6</a>\u001b[0m     ledger\u001b[39m=\u001b[39;49mledger,\n\u001b[1;32m      <a href='vscode-notebook-cell:/Users/ivolinengong/Documents/Research/OpenMined/PySyft/notebooks/Experimental/Ivy/PublishTest.ipynb#X25sZmlsZQ%3D%3D?line=6'>7</a>\u001b[0m )\n\u001b[1;32m      <a href='vscode-notebook-cell:/Users/ivolinengong/Documents/Research/OpenMined/PySyft/notebooks/Experimental/Ivy/PublishTest.ipynb#X25sZmlsZQ%3D%3D?line=8'>9</a>\u001b[0m \u001b[39mprint\u001b[39m(\u001b[39m\"\u001b[39m\u001b[39m==================================\u001b[39m\u001b[39m\"\u001b[39m)\n\u001b[1;32m     <a href='vscode-notebook-cell:/Users/ivolinengong/Documents/Research/OpenMined/PySyft/notebooks/Experimental/Ivy/PublishTest.ipynb#X25sZmlsZQ%3D%3D?line=9'>10</a>\u001b[0m \u001b[39m#phi\u001b[39;00m\n",
      "File \u001b[0;32m~/Documents/Research/OpenMined/PySyft/packages/syft/tests/syft/core/tensor/adp/publish_test.py:138\u001b[0m, in \u001b[0;36mtest_sigma_too_small\u001b[0;34m(deduct_epsilon_for_user, get_budget_for_user, gamma_tensor, ledger)\u001b[0m\n\u001b[1;32m    128\u001b[0m \u001b[39m# Publish with sigma = 50\u001b[39;00m\n\u001b[1;32m    129\u001b[0m epsilon2 \u001b[39m=\u001b[39m tensor\u001b[39m.\u001b[39mpublish(\n\u001b[1;32m    130\u001b[0m     get_budget_for_user\u001b[39m=\u001b[39mget_budget_for_user,\n\u001b[1;32m    131\u001b[0m     deduct_epsilon_for_user\u001b[39m=\u001b[39mdeduct_epsilon_for_user,\n\u001b[0;32m   (...)\u001b[0m\n\u001b[1;32m    135\u001b[0m     return_epsilon\u001b[39m=\u001b[39m\u001b[39mTrue\u001b[39;00m,\n\u001b[1;32m    136\u001b[0m )\n\u001b[0;32m--> 138\u001b[0m \u001b[39massert\u001b[39;00m epsilon1 \u001b[39m>\u001b[39m\u001b[39m=\u001b[39m epsilon2\n",
      "\u001b[0;31mAssertionError\u001b[0m: "
     ]
    }
   ],
   "source": [
    "#gamma\n",
    "publish_test.test_sigma_too_small(\n",
    "    deduct_epsilon_for_user=deduct_epsilon_for_user,\n",
    "    get_budget_for_user=get_budget_for_user,\n",
    "    gamma_tensor=pt,\n",
    "    ledger=ledger,\n",
    ")\n",
    "\n",
    "print(\"==================================\")\n",
    "#phi\n",
    "publish_test.test_sigma_too_small(\n",
    "    deduct_epsilon_for_user=deduct_epsilon_for_user,\n",
    "    get_budget_for_user=get_budget_for_user,\n",
    "    gamma_tensor=gt,\n",
    "    ledger=ledger,\n",
    ")\n"
   ]
  },
  {
   "cell_type": "code",
   "execution_count": null,
   "id": "14d55abc",
   "metadata": {},
   "outputs": [],
   "source": []
  },
  {
   "cell_type": "code",
   "execution_count": null,
   "id": "7c955470",
   "metadata": {},
   "outputs": [],
   "source": []
  }
 ],
 "metadata": {
  "kernelspec": {
   "display_name": "Python 3 (ipykernel)",
   "language": "python",
   "name": "python3"
  },
  "language_info": {
   "codemirror_mode": {
    "name": "ipython",
    "version": 3
   },
   "file_extension": ".py",
   "mimetype": "text/x-python",
   "name": "python",
   "nbconvert_exporter": "python",
   "pygments_lexer": "ipython3",
   "version": "3.10.5"
  },
  "vscode": {
   "interpreter": {
    "hash": "608402134fc1d50a91a0fd234cc5c1eaca5f5294dcf84c9acf6f5355519845f7"
   }
  }
 },
 "nbformat": 4,
 "nbformat_minor": 5
}
