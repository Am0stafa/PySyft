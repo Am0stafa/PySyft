{
 "cells": [
  {
   "cell_type": "code",
   "execution_count": 1,
   "id": "4bded96e",
   "metadata": {},
   "outputs": [
    {
     "name": "stderr",
     "output_type": "stream",
     "text": [
      "/Users/ivolinengong/miniforge3/envs/syft_env/lib/python3.10/site-packages/jax/_src/lib/__init__.py:33: UserWarning: JAX on Mac ARM machines is experimental and minimally tested. Please see https://github.com/google/jax/issues/5501 in the event of problems.\n",
      "  warnings.warn(\"JAX on Mac ARM machines is experimental and minimally tested. \"\n",
      "/Users/ivolinengong/miniforge3/envs/syft_env/lib/python3.10/site-packages/tqdm/auto.py:22: TqdmWarning: IProgress not found. Please update jupyter and ipywidgets. See https://ipywidgets.readthedocs.io/en/stable/user_install.html\n",
      "  from .autonotebook import tqdm as notebook_tqdm\n"
     ]
    }
   ],
   "source": [
    "import syft as sy\n",
    "import numpy as np\n",
    "from syft import DataSubjectArray, PhiTensor, GammaTensor, lazyrepeatarray\n",
    "from syft.core.adp.data_subject_ledger import DataSubjectLedger\n",
    "from syft.core.adp.ledger_store import DictLedgerStore\n",
    "from typing import Any\n",
    "\n",
    "import sys\n",
    "# map the path where the module file is located. In my case it was the desktop\n",
    "sys.path.append('/Users/ivolinengong/Documents/Research/OpenMined/PySyft/packages/syft/tests/syft/core/tensor/adp')\n",
    "\n",
    "import publish_test\n",
    "\n",
    "\n",
    "data = np.random.randint(0, 10, (5,5))\n",
    "pt = PhiTensor(\n",
    "    child=data,\n",
    "    data_subjects=DataSubjectArray.from_objs(np.random.choice([\"Joe\"], (5,5))),\n",
    "    min_vals = lazyrepeatarray(0, (5,5)),\n",
    "    max_vals = lazyrepeatarray(10, (5,5))\n",
    ")\n",
    "\n",
    "gt = GammaTensor(\n",
    "    child=data,\n",
    "    data_subjects=DataSubjectArray.from_objs(np.random.choice([\"Bob\",\"Billy\",\"Brandon\"], (5,5))),\n",
    "    min_vals = lazyrepeatarray(0, (5,5)),\n",
    "    max_vals = lazyrepeatarray(10, (5,5))\n",
    ")"
   ]
  },
  {
   "cell_type": "code",
   "execution_count": 2,
   "id": "113f3f99",
   "metadata": {},
   "outputs": [
    {
     "name": "stdout",
     "output_type": "stream",
     "text": [
      "Creating new Ledger\n"
     ]
    }
   ],
   "source": [
    "ledger_store = DictLedgerStore()\n",
    "\n",
    "user_key = b\"1231\"\n",
    "ledger = DataSubjectLedger.get_or_create(store=ledger_store, user_key=user_key)\n",
    "max_budget = 100\n",
    "\n",
    "def get_budget_for_user(*args: Any, **kwargs: Any) -> float:\n",
    "    return 9999999\n",
    "\n",
    "def deduct_epsilon_for_user(*args: Any, **kwargs: Any) -> bool:\n",
    "    return True\n"
   ]
  },
  {
   "cell_type": "code",
   "execution_count": 3,
   "id": "e90d93d0-289e-4fbd-a215-31a706317d06",
   "metadata": {},
   "outputs": [
    {
     "name": "stderr",
     "output_type": "stream",
     "text": [
      "WARNING:absl:No GPU/TPU found, falling back to CPU. (Set TF_CPP_MIN_LOG_LEVEL=0 and rerun for more info.)\n"
     ]
    },
    {
     "name": "stdout",
     "output_type": "stream",
     "text": [
      "got user budget 9999999 epsilon_spent 31078.43119994605\n",
      "Epsilon Spent:  31078.43119994605\n",
      "Final Values 31078.43119994605\n"
     ]
    }
   ],
   "source": [
    "# Phi Tensor\n",
    "# with calibration: query_limit = 5\n",
    "results = pt.publish(\n",
    "    get_budget_for_user=get_budget_for_user,\n",
    "    deduct_epsilon_for_user=deduct_epsilon_for_user,\n",
    "    ledger=ledger,\n",
    "    sigma=0.1,\n",
    "    private=True,\n",
    "    return_epsilon = True\n",
    ")\n"
   ]
  },
  {
   "cell_type": "code",
   "execution_count": 4,
   "id": "b01a1ead",
   "metadata": {},
   "outputs": [
    {
     "name": "stdout",
     "output_type": "stream",
     "text": [
      "got user budget 9999999 epsilon_spent 696519.1644706668\n",
      "Epsilon Spent:  696519.1644706668\n",
      "Final Values 696519.1644706668\n",
      "got user budget 9999999 epsilon_spent 696220.8359077605\n",
      "Epsilon Spent:  696220.8359077605\n",
      "Final Values 696220.8359077605\n"
     ]
    }
   ],
   "source": [
    "#gamma\n",
    "publish_test.test_sigma_too_large(\n",
    "    deduct_epsilon_for_user=deduct_epsilon_for_user,\n",
    "    get_budget_for_user=get_budget_for_user,\n",
    "    gamma_tensor=pt,\n",
    "    ledger=ledger,\n",
    ")\n"
   ]
  },
  {
   "cell_type": "code",
   "execution_count": 5,
   "id": "1bb3ff2c",
   "metadata": {},
   "outputs": [
    {
     "name": "stdout",
     "output_type": "stream",
     "text": [
      "got user budget 9999999 epsilon_spent 696519.1644706668\n",
      "Epsilon Spent:  696519.1644706668\n",
      "got user budget 9999999 epsilon_spent 696220.8359077605\n",
      "Epsilon Spent:  696220.8359077605\n"
     ]
    }
   ],
   "source": [
    "#phi\n",
    "publish_test.test_sigma_too_large(\n",
    "    deduct_epsilon_for_user=deduct_epsilon_for_user,\n",
    "    get_budget_for_user=get_budget_for_user,\n",
    "    gamma_tensor=gt,\n",
    "    ledger=ledger,\n",
    ")\n"
   ]
  },
  {
   "cell_type": "code",
   "execution_count": null,
   "id": "14d55abc",
   "metadata": {},
   "outputs": [],
   "source": []
  },
  {
   "cell_type": "code",
   "execution_count": null,
   "id": "7c955470",
   "metadata": {},
   "outputs": [],
   "source": []
  }
 ],
 "metadata": {
  "kernelspec": {
   "display_name": "Python 3 (ipykernel)",
   "language": "python",
   "name": "python3"
  },
  "language_info": {
   "codemirror_mode": {
    "name": "ipython",
    "version": 3
   },
   "file_extension": ".py",
   "mimetype": "text/x-python",
   "name": "python",
   "nbconvert_exporter": "python",
   "pygments_lexer": "ipython3",
   "version": "3.10.5"
  },
  "vscode": {
   "interpreter": {
    "hash": "608402134fc1d50a91a0fd234cc5c1eaca5f5294dcf84c9acf6f5355519845f7"
   }
  }
 },
 "nbformat": 4,
 "nbformat_minor": 5
}
