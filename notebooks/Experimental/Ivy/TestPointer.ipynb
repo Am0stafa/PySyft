{
 "cells": [
  {
   "cell_type": "code",
   "execution_count": 24,
   "id": "bc3ed4c3-9f91-489e-8016-cd9f643f730c",
   "metadata": {},
   "outputs": [],
   "source": [
    "import syft as sy\n",
    "import numpy as np"
   ]
  },
  {
   "cell_type": "code",
   "execution_count": 25,
   "id": "63545187-b50d-4070-a1b7-296e25d03499",
   "metadata": {},
   "outputs": [
    {
     "name": "stdout",
     "output_type": "stream",
     "text": [
      "WARNING: CHANGE YOUR USERNAME AND PASSWORD!!! \n",
      "\n",
      "Anyone can login as an admin to your node right now because your password is still the default PySyft username and password!!!\n",
      "\n",
      "Connecting to localhost... done! \t Logging into gallant_sutskever... done!\n"
     ]
    }
   ],
   "source": [
    "domain = sy.login(email=\"info@openmined.org\", password=\"changethis\", port=8081)"
   ]
  },
  {
   "cell_type": "code",
   "execution_count": 26,
   "id": "ca1cb4aa",
   "metadata": {},
   "outputs": [],
   "source": [
    "# data = np.random.uniform(0, 5, (5, 5))\n",
    "# data"
   ]
  },
  {
   "cell_type": "code",
   "execution_count": 27,
   "id": "af4e219e-d2b8-4cf4-8629-0c68a5511817",
   "metadata": {},
   "outputs": [],
   "source": [
    "if len(domain.datasets) == 0:\n",
    "    data = np.random.random((5, 5))\n",
    "    # data = np.random.randint(0, 10, (5,5))\n",
    "    gt_dsa = np.random.choice([\"Bob\", \"Billy\", \"Brandon\"], (5, 5))\n",
    "    pt_dsa = np.random.choice([\"Joe\"], (3, 2))\n",
    "    gamma_tensor = sy.Tensor(data).private(min_val=0, max_val=1, data_subjects=gt_dsa)\n",
    "    phi_tensor = sy.Tensor(data).private(min_val=0, max_val=1, data_subjects=pt_dsa)\n",
    "\n",
    "    domain.load_dataset(\n",
    "        assets={\n",
    "            \"phi\": phi_tensor, \n",
    "            \"gamma\": gamma_tensor\n",
    "        }, \n",
    "        name=\"Test dataset\", \n",
    "        description=\"Descr.\"\n",
    "    )\n",
    "else:\n",
    "    domain.datasets"
   ]
  },
  {
   "cell_type": "code",
   "execution_count": 1,
   "id": "44534aa5",
   "metadata": {},
   "outputs": [],
   "source": [
    "# a = np.arange(4).reshape(2,2)\n",
    "# print(a)\n",
    "# a.clip(0,2)\n",
    "\n",
    "\n",
    "from numpy import float64\n",
    "choices = [[0, 1, 2, 3], [10, 11, 12, 13],[20, 21, 22, 23], [30, 31, 32, 33]]\n",
    "np.choose([2, 3, 1, 0], choices), np.array(choices).shape\n",
    "\n",
    "# arr = np.ndarray([2, 3, 1, 0], dtype=np.int32)\n",
    "# # arr = arr.astype(np.int)\n",
    "# # np.array(your_list, dtype=np.float32)\n",
    "\n",
    "# arr = np.ndarray([2, 3, 1, 0])\n",
    "# np.empty((5,5),dtype=int).choose(arr) #*args, **kwargs)\n",
    "\n",
    "# y = np.choose(y.astype(int), [0,2,1]).astype(float)\n",
    "\n",
    "# np.empty((5,5)) #.choose(arr)\n",
    "# domain.datasets[-1][\"phi\"]\n"
   ]
  },
  {
   "cell_type": "code",
   "execution_count": 29,
   "id": "23ab9099",
   "metadata": {},
   "outputs": [
    {
     "name": "stdout",
     "output_type": "stream",
     "text": [
      "(5, 5)\n"
     ]
    },
    {
     "data": {
      "text/plain": [
       "(<lazyrepeatarray data: 0.0 -> shape: (5, 5)>,\n",
       " <lazyrepeatarray data: 4.4e-323 -> shape: (5, 5)>,\n",
       " (5, 5),\n",
       " array([[DataSubjectArray: {'Joe'}, DataSubjectArray: {'Joe'},\n",
       "         DataSubjectArray: {'Joe'}, DataSubjectArray: {'Joe'},\n",
       "         DataSubjectArray: {'Joe'}],\n",
       "        [DataSubjectArray: {'Joe'}, DataSubjectArray: {'Joe'},\n",
       "         DataSubjectArray: {'Joe'}, DataSubjectArray: {'Joe'},\n",
       "         DataSubjectArray: {'Joe'}],\n",
       "        [DataSubjectArray: {'Joe'}, DataSubjectArray: {'Joe'},\n",
       "         DataSubjectArray: {'Joe'}, DataSubjectArray: {'Joe'},\n",
       "         DataSubjectArray: {'Joe'}],\n",
       "        [DataSubjectArray: {'Joe'}, DataSubjectArray: {'Joe'},\n",
       "         DataSubjectArray: {'Joe'}, DataSubjectArray: {'Joe'},\n",
       "         DataSubjectArray: {'Joe'}],\n",
       "        [DataSubjectArray: {'Joe'}, DataSubjectArray: {'Joe'},\n",
       "         DataSubjectArray: {'Joe'}, DataSubjectArray: {'Joe'},\n",
       "         DataSubjectArray: {'Joe'}]], dtype=object))"
      ]
     },
     "execution_count": 29,
     "metadata": {},
     "output_type": "execute_result"
    }
   ],
   "source": [
    "# phi = domain.datasets[-1][\"phi\"].repeat(1)\n",
    "# phi = domain.datasets[-1][\"phi\"].diagonal()\n",
    "# phi = domain.datasets[-1][\"phi\"].reshape((1,25)) #transpose()\n",
    "# phi = domain.datasets[-1][\"phi\"].resize((1,25)) #transpose()\n",
    "phi = domain.datasets[-1][\"phi\"].clip(0,0.2)\n",
    "# phi = domain.datasets[-1][\"phi\"].choose([4, 2, 3, 1, 0])\n",
    "phi_res = phi.get_copy()\n",
    "print(phi.shape)\n",
    "phi.min_vals, phi.max_vals, phi.data_subjects.shape, phi.data_subjects"
   ]
  },
  {
   "cell_type": "code",
   "execution_count": 30,
   "id": "4a7382ca",
   "metadata": {},
   "outputs": [
    {
     "data": {
      "text/plain": [
       "(<lazyrepeatarray data: 1.5e-323 -> shape: (5, 5)>,\n",
       " <lazyrepeatarray data: 3.7e-322 -> shape: (5, 5)>,\n",
       " (5, 5),\n",
       " array([[DataSubjectArray: {'Bob'}, DataSubjectArray: {'Brandon'},\n",
       "         DataSubjectArray: {'Bob'}, DataSubjectArray: {'Billy'},\n",
       "         DataSubjectArray: {'Brandon'}],\n",
       "        [DataSubjectArray: {'Bob'}, DataSubjectArray: {'Brandon'},\n",
       "         DataSubjectArray: {'Bob'}, DataSubjectArray: {'Bob'},\n",
       "         DataSubjectArray: {'Bob'}],\n",
       "        [DataSubjectArray: {'Bob'}, DataSubjectArray: {'Bob'},\n",
       "         DataSubjectArray: {'Brandon'}, DataSubjectArray: {'Billy'},\n",
       "         DataSubjectArray: {'Bob'}],\n",
       "        [DataSubjectArray: {'Billy'}, DataSubjectArray: {'Brandon'},\n",
       "         DataSubjectArray: {'Billy'}, DataSubjectArray: {'Brandon'},\n",
       "         DataSubjectArray: {'Billy'}],\n",
       "        [DataSubjectArray: {'Bob'}, DataSubjectArray: {'Bob'},\n",
       "         DataSubjectArray: {'Billy'}, DataSubjectArray: {'Billy'},\n",
       "         DataSubjectArray: {'Bob'}]], dtype=object))"
      ]
     },
     "execution_count": 30,
     "metadata": {},
     "output_type": "execute_result"
    }
   ],
   "source": [
    "# gamma = domain.datasets[-1][\"gamma\"].transpose()\n",
    "# gamma = domain.datasets[-1][\"gamma\"].reshape((1, 25))\n",
    "# gamma = domain.datasets[-1][\"gamma\"].resize((1, 25))\n",
    "# gamma = domain.datasets[-1][\"gamma\"] #.repeat(1)\n",
    "# gamma = domain.datasets[-1][\"gamma\"].repeat(1) \n",
    "# gamma = domain.datasets[-1][\"gamma\"].diagonal()\n",
    "gamma = domain.datasets[-1][\"gamma\"].clip(0,0.2)\n",
    "\n",
    "gamma.min_vals, gamma.max_vals, gamma.data_subjects.shape, gamma.data_subjects"
   ]
  },
  {
   "cell_type": "code",
   "execution_count": null,
   "id": "dc2b1d53",
   "metadata": {},
   "outputs": [],
   "source": [
    "# # res = gamma.get_copy()\n",
    "# # print(res.child.min_vals, res.child.max_vals, res.child.child)\n",
    "\n",
    "# TypeError: _resize_dispatcher() takes 2 positional arguments but 3 were given\n"
   ]
  },
  {
   "cell_type": "code",
   "execution_count": null,
   "id": "831e73f7",
   "metadata": {},
   "outputs": [
    {
     "ename": "SyntaxError",
     "evalue": "invalid syntax (1295843669.py, line 1)",
     "output_type": "error",
     "traceback": [
      "\u001b[0;36m  Input \u001b[0;32mIn [10]\u001b[0;36m\u001b[0m\n\u001b[0;31m    Return a new array with the specified shape.\u001b[0m\n\u001b[0m           ^\u001b[0m\n\u001b[0;31mSyntaxError\u001b[0m\u001b[0;31m:\u001b[0m invalid syntax\n"
     ]
    }
   ],
   "source": [
    "Return a new array with the specified shape.\n",
    "\n",
    "If the new array is larger than the original array, then the new array is filled with repeated copies of a. Note that this behavior is different from a.resize(new_shape) which fills with zeros instead of repeated copies of a.\n",
    "\n",
    "Parameters\n",
    "aarray_like\n",
    "Array to be resized.\n",
    "\n",
    "new_shapeint or tuple of int\n",
    "Shape of resized array.\n",
    "\n",
    "Returns\n",
    "reshaped_array: ndarray\n",
    "The new array is formed from the data in the old array, repeated if necessary to fill out the required number of elements. The data are repeated iterating over the array in C-order.\n",
    "\n"
   ]
  },
  {
   "cell_type": "code",
   "execution_count": null,
   "id": "85ef86e5",
   "metadata": {},
   "outputs": [],
   "source": []
  },
  {
   "cell_type": "code",
   "execution_count": null,
   "id": "53911f9d",
   "metadata": {},
   "outputs": [
    {
     "name": "stderr",
     "output_type": "stream",
     "text": [
      "[2022-10-19T21:00:26.781588-0400][CRITICAL][logger]][24475] Unable to Get Object with ID <UID: 2811e7ecde65441fb99115cf046fe65a> from store. Possible dangling Pointer. 'Object not found! for UID: 2811e7ec-de65-441f-b991-15cf046fe65a'\n"
     ]
    },
    {
     "ename": "UnknownPrivateException",
     "evalue": "Unable to Get Object with ID <UID: 2811e7ecde65441fb99115cf046fe65a> from store. Possible dangling Pointer. 'Object not found! for UID: 2811e7ec-de65-441f-b991-15cf046fe65a'",
     "output_type": "error",
     "traceback": [
      "\u001b[0;31m---------------------------------------------------------------------------\u001b[0m",
      "\u001b[0;31mUnknownPrivateException\u001b[0m                   Traceback (most recent call last)",
      "\u001b[1;32m/Users/ivolinengong/Documents/Research/OpenMined/TestPointer.ipynb Cell 10\u001b[0m in \u001b[0;36m<cell line: 1>\u001b[0;34m()\u001b[0m\n\u001b[0;32m----> <a href='vscode-notebook-cell:/Users/ivolinengong/Documents/Research/OpenMined/TestPointer.ipynb#X23sZmlsZQ%3D%3D?line=0'>1</a>\u001b[0m phi_res \u001b[39m=\u001b[39m phi\u001b[39m.\u001b[39;49mget_copy()\n\u001b[1;32m      <a href='vscode-notebook-cell:/Users/ivolinengong/Documents/Research/OpenMined/TestPointer.ipynb#X23sZmlsZQ%3D%3D?line=1'>2</a>\u001b[0m \u001b[39mprint\u001b[39m(phi_res\u001b[39m.\u001b[39mchild\u001b[39m.\u001b[39mchild, phi_res\u001b[39m.\u001b[39mchild\u001b[39m.\u001b[39mdata_subjects\u001b[39m.\u001b[39msum(), phi_res\u001b[39m.\u001b[39mchild\u001b[39m.\u001b[39mmin_vals, phi_res\u001b[39m.\u001b[39mchild\u001b[39m.\u001b[39mmax_vals)\n",
      "File \u001b[0;32m~/Documents/Research/OpenMined/PySyft/packages/syft/src/syft/core/pointer/pointer.py:285\u001b[0m, in \u001b[0;36mPointer.get_copy\u001b[0;34m(self, request_block, timeout_secs, reason, verbose)\u001b[0m\n\u001b[1;32m    272\u001b[0m \u001b[39mdef\u001b[39;00m \u001b[39mget_copy\u001b[39m(\n\u001b[1;32m    273\u001b[0m     \u001b[39mself\u001b[39m,\n\u001b[1;32m    274\u001b[0m     request_block: \u001b[39mbool\u001b[39m \u001b[39m=\u001b[39m \u001b[39mFalse\u001b[39;00m,\n\u001b[0;32m   (...)\u001b[0m\n\u001b[1;32m    277\u001b[0m     verbose: \u001b[39mbool\u001b[39m \u001b[39m=\u001b[39m \u001b[39mFalse\u001b[39;00m,\n\u001b[1;32m    278\u001b[0m ) \u001b[39m-\u001b[39m\u001b[39m>\u001b[39m Optional[StorableObject]:\n\u001b[1;32m    279\u001b[0m     \u001b[39m\"\"\"Method to download a remote object from a pointer object if you have the right\u001b[39;00m\n\u001b[1;32m    280\u001b[0m \u001b[39m    permissions. Optionally can block while waiting for approval.\u001b[39;00m\n\u001b[1;32m    281\u001b[0m \n\u001b[1;32m    282\u001b[0m \u001b[39m    :return: returns the downloaded data\u001b[39;00m\n\u001b[1;32m    283\u001b[0m \u001b[39m    :rtype: Optional[StorableObject]\u001b[39;00m\n\u001b[1;32m    284\u001b[0m \u001b[39m    \"\"\"\u001b[39;00m\n\u001b[0;32m--> 285\u001b[0m     \u001b[39mreturn\u001b[39;00m \u001b[39mself\u001b[39;49m\u001b[39m.\u001b[39;49mget(\n\u001b[1;32m    286\u001b[0m         request_block\u001b[39m=\u001b[39;49mrequest_block,\n\u001b[1;32m    287\u001b[0m         timeout_secs\u001b[39m=\u001b[39;49mtimeout_secs,\n\u001b[1;32m    288\u001b[0m         reason\u001b[39m=\u001b[39;49mreason,\n\u001b[1;32m    289\u001b[0m         delete_obj\u001b[39m=\u001b[39;49m\u001b[39mFalse\u001b[39;49;00m,\n\u001b[1;32m    290\u001b[0m         verbose\u001b[39m=\u001b[39;49mverbose,\n\u001b[1;32m    291\u001b[0m     )\n",
      "File \u001b[0;32m~/Documents/Research/OpenMined/PySyft/packages/syft/src/syft/core/pointer/pointer.py:394\u001b[0m, in \u001b[0;36mPointer.get\u001b[0;34m(self, request_block, timeout_secs, reason, delete_obj, verbose, proxy_only)\u001b[0m\n\u001b[1;32m    389\u001b[0m     \u001b[39mraise\u001b[39;00m \u001b[39mReferenceError\u001b[39;00m(\n\u001b[1;32m    390\u001b[0m         \u001b[39m\"\u001b[39m\u001b[39mObject has already been deleted. This pointer is exhausted\u001b[39m\u001b[39m\"\u001b[39m\n\u001b[1;32m    391\u001b[0m     )\n\u001b[1;32m    393\u001b[0m \u001b[39mif\u001b[39;00m \u001b[39mnot\u001b[39;00m request_block:\n\u001b[0;32m--> 394\u001b[0m     result \u001b[39m=\u001b[39m \u001b[39mself\u001b[39;49m\u001b[39m.\u001b[39;49m_get(\n\u001b[1;32m    395\u001b[0m         delete_obj\u001b[39m=\u001b[39;49mdelete_obj, verbose\u001b[39m=\u001b[39;49mverbose, proxy_only\u001b[39m=\u001b[39;49mproxy_only\n\u001b[1;32m    396\u001b[0m     )\n\u001b[1;32m    397\u001b[0m \u001b[39melse\u001b[39;00m:\n\u001b[1;32m    398\u001b[0m     response_status \u001b[39m=\u001b[39m \u001b[39mself\u001b[39m\u001b[39m.\u001b[39mrequest(\n\u001b[1;32m    399\u001b[0m         reason\u001b[39m=\u001b[39mreason,\n\u001b[1;32m    400\u001b[0m         block\u001b[39m=\u001b[39m\u001b[39mTrue\u001b[39;00m,\n\u001b[1;32m    401\u001b[0m         timeout_secs\u001b[39m=\u001b[39mtimeout_secs,\n\u001b[1;32m    402\u001b[0m         verbose\u001b[39m=\u001b[39mverbose,\n\u001b[1;32m    403\u001b[0m     )\n",
      "File \u001b[0;32m~/Documents/Research/OpenMined/PySyft/packages/syft/src/syft/core/pointer/pointer.py:220\u001b[0m, in \u001b[0;36mPointer._get\u001b[0;34m(self, delete_obj, verbose, proxy_only)\u001b[0m\n\u001b[1;32m    209\u001b[0m debug(\n\u001b[1;32m    210\u001b[0m     \u001b[39mf\u001b[39m\u001b[39m\"\u001b[39m\u001b[39m> GetObjectAction for id_at_location=\u001b[39m\u001b[39m{\u001b[39;00m\u001b[39mself\u001b[39m\u001b[39m.\u001b[39mid_at_location\u001b[39m}\u001b[39;00m\u001b[39m \u001b[39m\u001b[39m\"\u001b[39m\n\u001b[1;32m    211\u001b[0m     \u001b[39m+\u001b[39m \u001b[39mf\u001b[39m\u001b[39m\"\u001b[39m\u001b[39mwith delete_obj=\u001b[39m\u001b[39m{\u001b[39;00mdelete_obj\u001b[39m}\u001b[39;00m\u001b[39m\"\u001b[39m\n\u001b[1;32m    212\u001b[0m )\n\u001b[1;32m    213\u001b[0m obj_msg \u001b[39m=\u001b[39m GetObjectAction(\n\u001b[1;32m    214\u001b[0m     id_at_location\u001b[39m=\u001b[39m\u001b[39mself\u001b[39m\u001b[39m.\u001b[39mid_at_location,\n\u001b[1;32m    215\u001b[0m     address\u001b[39m=\u001b[39m\u001b[39mself\u001b[39m\u001b[39m.\u001b[39mclient\u001b[39m.\u001b[39maddress,\n\u001b[1;32m    216\u001b[0m     reply_to\u001b[39m=\u001b[39m\u001b[39mself\u001b[39m\u001b[39m.\u001b[39mclient\u001b[39m.\u001b[39maddress,\n\u001b[1;32m    217\u001b[0m     delete_obj\u001b[39m=\u001b[39mdelete_obj,\n\u001b[1;32m    218\u001b[0m )\n\u001b[0;32m--> 220\u001b[0m obj \u001b[39m=\u001b[39m \u001b[39mself\u001b[39;49m\u001b[39m.\u001b[39;49mclient\u001b[39m.\u001b[39;49msend_immediate_msg_with_reply(\n\u001b[1;32m    221\u001b[0m     msg\u001b[39m=\u001b[39;49mobj_msg, timeout\u001b[39m=\u001b[39;49mGET_OBJECT_TIMEOUT\n\u001b[1;32m    222\u001b[0m )\n\u001b[1;32m    223\u001b[0m \u001b[39mif\u001b[39;00m \u001b[39mnot\u001b[39;00m proxy_only \u001b[39mand\u001b[39;00m obj\u001b[39m.\u001b[39mobj\u001b[39m.\u001b[39mis_proxy:\n\u001b[1;32m    224\u001b[0m     presigned_url_path \u001b[39m=\u001b[39m obj\u001b[39m.\u001b[39mobj\u001b[39m.\u001b[39m_data\u001b[39m.\u001b[39murl\n",
      "File \u001b[0;32m~/Documents/Research/OpenMined/PySyft/packages/syft/src/syft/core/node/common/client.py:257\u001b[0m, in \u001b[0;36mClient.send_immediate_msg_with_reply\u001b[0;34m(self, msg, timeout, return_signed, route_index)\u001b[0m\n\u001b[1;32m    255\u001b[0m     exception \u001b[39m=\u001b[39m exception_msg\u001b[39m.\u001b[39mexception_type(exception_msg\u001b[39m.\u001b[39mexception_msg)\n\u001b[1;32m    256\u001b[0m     error(\u001b[39mstr\u001b[39m(exception))\n\u001b[0;32m--> 257\u001b[0m     traceback_and_raise(exception)\n\u001b[1;32m    258\u001b[0m \u001b[39melse\u001b[39;00m:\n\u001b[1;32m    259\u001b[0m     \u001b[39mif\u001b[39;00m return_signed:\n",
      "File \u001b[0;32m~/Documents/Research/OpenMined/PySyft/packages/syft/src/syft/logger.py:70\u001b[0m, in \u001b[0;36mtraceback_and_raise\u001b[0;34m(e, verbose)\u001b[0m\n\u001b[1;32m     68\u001b[0m \u001b[39mif\u001b[39;00m \u001b[39mnot\u001b[39;00m \u001b[39missubclass\u001b[39m(\u001b[39mtype\u001b[39m(e), \u001b[39mException\u001b[39;00m):\n\u001b[1;32m     69\u001b[0m     e \u001b[39m=\u001b[39m \u001b[39mException\u001b[39;00m(e)\n\u001b[0;32m---> 70\u001b[0m \u001b[39mraise\u001b[39;00m e\n",
      "\u001b[0;31mUnknownPrivateException\u001b[0m: Unable to Get Object with ID <UID: 2811e7ecde65441fb99115cf046fe65a> from store. Possible dangling Pointer. 'Object not found! for UID: 2811e7ec-de65-441f-b991-15cf046fe65a'"
     ]
    }
   ],
   "source": [
    "phi_res = phi.get_copy()\n",
    "print(phi_res.child.child, phi_res.child.data_subjects.sum(), phi_res.child.min_vals, phi_res.child.max_vals)"
   ]
  },
  {
   "cell_type": "code",
   "execution_count": null,
   "id": "75d56548-97f3-4ec7-8847-8250003e3bdf",
   "metadata": {},
   "outputs": [
    {
     "data": {
      "text/plain": [
       "array([[18, 19, 11, 11, 20],\n",
       "       [ 7,  5,  1, 16, 18],\n",
       "       [14,  6,  9, 11,  5],\n",
       "       [16, 22, 23, 23,  7],\n",
       "       [ 7, 11,  8, 14,  1]])\n",
       "\n",
       " (The data printed above is synthetic - it's an imitation of the real data.)"
      ]
     },
     "execution_count": 4,
     "metadata": {},
     "output_type": "execute_result"
    }
   ],
   "source": [
    "phi1 = domain.datasets[-1][\"phi\"] #.var(axis=1)\n",
    "phi2 = domain.datasets[-1][\"phi\"] #.var(axis=1)\n",
    "\n",
    "phi1.__lt__(phi2)\n",
    "# MIN: <lazyrepeatarray data: [0] -> shape: (5, 5)>, \n",
    "# MAX: <lazyrepeatarray data: [1] -> shape: (5, 5)>\n",
    "\n",
    "# phi1 = domain.datasets[-1][\"phi\"].transpose()\n",
    "domain.datasets[-1][\"phi\"].argsort()\n"
   ]
  },
  {
   "cell_type": "code",
   "execution_count": null,
   "id": "50fc1ff8-1fb7-4a04-bdf4-3fa6a42866c4",
   "metadata": {},
   "outputs": [
    {
     "ename": "NameError",
     "evalue": "name 'phi' is not defined",
     "output_type": "error",
     "traceback": [
      "\u001b[0;31m---------------------------------------------------------------------------\u001b[0m",
      "\u001b[0;31mNameError\u001b[0m                                 Traceback (most recent call last)",
      "\u001b[1;32m/Users/ivolinengong/Documents/Research/OpenMined/TestPointer.ipynb Cell 5\u001b[0m in \u001b[0;36m<cell line: 1>\u001b[0;34m()\u001b[0m\n\u001b[0;32m----> <a href='vscode-notebook-cell:/Users/ivolinengong/Documents/Research/OpenMined/TestPointer.ipynb#W5sZmlsZQ%3D%3D?line=0'>1</a>\u001b[0m phi_res \u001b[39m=\u001b[39m phi\u001b[39m.\u001b[39mget_copy()\n\u001b[1;32m      <a href='vscode-notebook-cell:/Users/ivolinengong/Documents/Research/OpenMined/TestPointer.ipynb#W5sZmlsZQ%3D%3D?line=1'>2</a>\u001b[0m \u001b[39mprint\u001b[39m(phi_res\u001b[39m.\u001b[39mchild\u001b[39m.\u001b[39mchild, phi_res\u001b[39m.\u001b[39mchild\u001b[39m.\u001b[39mdata_subjects\u001b[39m.\u001b[39msum(), phi_res\u001b[39m.\u001b[39mchild\u001b[39m.\u001b[39mmin_vals, phi_res\u001b[39m.\u001b[39mchild\u001b[39m.\u001b[39mmax_vals)\n",
      "\u001b[0;31mNameError\u001b[0m: name 'phi' is not defined"
     ]
    }
   ],
   "source": [
    "phi_res = phi.get_copy()\n",
    "print(phi_res.child.child, phi_res.child.data_subjects.sum(), phi_res.child.min_vals, phi_res.child.max_vals)"
   ]
  },
  {
   "cell_type": "code",
   "execution_count": null,
   "id": "82fb98fc-5092-48af-8c20-1f3e535293b1",
   "metadata": {},
   "outputs": [
    {
     "ename": "AttributeError",
     "evalue": "'TensorWrappedPhiTensorPointer' object has no attribute 'var'",
     "output_type": "error",
     "traceback": [
      "\u001b[0;31m---------------------------------------------------------------------------\u001b[0m",
      "\u001b[0;31mAttributeError\u001b[0m                            Traceback (most recent call last)",
      "\u001b[1;32m/Users/ivolinengong/Documents/Research/OpenMined/TestPointer.ipynb Cell 6\u001b[0m in \u001b[0;36m<cell line: 1>\u001b[0;34m()\u001b[0m\n\u001b[0;32m----> <a href='vscode-notebook-cell:/Users/ivolinengong/Documents/Research/OpenMined/TestPointer.ipynb#W5sZmlsZQ%3D%3D?line=0'>1</a>\u001b[0m gamma \u001b[39m=\u001b[39m domain\u001b[39m.\u001b[39;49mdatasets[\u001b[39m-\u001b[39;49m\u001b[39m1\u001b[39;49m][\u001b[39m\"\u001b[39;49m\u001b[39mgamma\u001b[39;49m\u001b[39m\"\u001b[39;49m]\u001b[39m.\u001b[39;49mvar(axis\u001b[39m=\u001b[39m\u001b[39m1\u001b[39m)\n",
      "\u001b[0;31mAttributeError\u001b[0m: 'TensorWrappedPhiTensorPointer' object has no attribute 'var'"
     ]
    }
   ],
   "source": [
    "gamma = domain.datasets[-1][\"gamma\"].var(axis=1)"
   ]
  },
  {
   "cell_type": "code",
   "execution_count": null,
   "id": "90bda047-b1d0-46bd-a788-818319a0d227",
   "metadata": {},
   "outputs": [
    {
     "name": "stdout",
     "output_type": "stream",
     "text": [
      "<lazyrepeatarray data: 0 -> shape: (5,)> <lazyrepeatarray data: [0.25] -> shape: (5,)> [0.03521539 0.04066906 0.08950577 0.16033914 0.0602512 ]\n"
     ]
    }
   ],
   "source": [
    "res = gamma.get_copy()\n",
    "print(res.child.min_vals, res.child.max_vals, res.child.child)"
   ]
  },
  {
   "cell_type": "code",
   "execution_count": null,
   "id": "fb73a4aa-7ce9-4fa5-a5c3-0359ac7a52a2",
   "metadata": {},
   "outputs": [
    {
     "data": {
      "text/plain": [
       "<lazyrepeatarray data: [0] -> shape: (5, 5)>"
      ]
     },
     "execution_count": 16,
     "metadata": {},
     "output_type": "execute_result"
    }
   ],
   "source": [
    "domain.datasets[-1][\"phi\"].min_vals"
   ]
  },
  {
   "cell_type": "code",
   "execution_count": null,
   "id": "2ec3c896-758d-4e7a-82de-05c58bca3189",
   "metadata": {},
   "outputs": [
    {
     "data": {
      "text/plain": [
       "array(DataSubjectArray: {'Billy', 'Bob', 'Brandon'}, dtype=object)"
      ]
     },
     "execution_count": 11,
     "metadata": {},
     "output_type": "execute_result"
    }
   ],
   "source": [
    "res.child.data_subjects"
   ]
  },
  {
   "cell_type": "code",
   "execution_count": null,
   "id": "0eaca9a7-2126-4800-aa74-840cd2bc4404",
   "metadata": {},
   "outputs": [
    {
     "data": {
      "text/plain": [
       "array(DataSubjectArray: {'Brandon'}, dtype=object)"
      ]
     },
     "execution_count": 12,
     "metadata": {},
     "output_type": "execute_result"
    }
   ],
   "source": [
    "res.child.data_subjects"
   ]
  },
  {
   "cell_type": "code",
   "execution_count": null,
   "id": "0d7bf3ad-6927-4748-939d-1bfe2455ac8f",
   "metadata": {},
   "outputs": [
    {
     "data": {
      "text/plain": [
       "<lazyrepeatarray data: [0] -> shape: ()>"
      ]
     },
     "execution_count": 13,
     "metadata": {},
     "output_type": "execute_result"
    }
   ],
   "source": [
    "res.child.min_vals"
   ]
  },
  {
   "cell_type": "code",
   "execution_count": null,
   "id": "899ee9c6-1686-458a-ac50-04320ffcd2b5",
   "metadata": {},
   "outputs": [
    {
     "data": {
      "text/plain": [
       "<lazyrepeatarray data: [1] -> shape: ()>"
      ]
     },
     "execution_count": 14,
     "metadata": {},
     "output_type": "execute_result"
    }
   ],
   "source": [
    "res.child.max_vals"
   ]
  },
  {
   "cell_type": "code",
   "execution_count": null,
   "id": "37f8a72c-d038-4e4e-9ec9-236c585c57ba",
   "metadata": {},
   "outputs": [
    {
     "name": "stdout",
     "output_type": "stream",
     "text": [
      "Help on method min in module syft.core.tensor.autodp.phi_tensor:\n",
      "\n",
      "min(*args: 'Any', **kwargs: 'Any') -> 'TensorWrappedPhiTensorPointer' method of syft.core.tensor.autodp.phi_tensor.TensorWrappedPhiTensorPointer instance\n",
      "    Return the minimum of an array or minimum along an axis.\n",
      "    \n",
      "    Parameters\n",
      "        axis: None or int or tuple of ints, optional\n",
      "            Axis or axes along which to operate. By default, flattened input is used.\n",
      "            If this is a tuple of ints, the minimum is selected over multiple axes,\n",
      "            instead of a single axis or all the axes as before.\n",
      "    \n",
      "    Returns\n",
      "        a_min: PhiTensor\n",
      "            Minimum of a.\n",
      "            If axis is None, the result is a scalar value.\n",
      "            If axis is given, the result is an array of dimension a.ndim - 1.\n",
      "\n"
     ]
    }
   ],
   "source": [
    "help(domain.datasets[-1][\"phi\"].min)"
   ]
  },
  {
   "cell_type": "code",
   "execution_count": null,
   "id": "fac511f2-2648-4147-b635-464d1f7649a2",
   "metadata": {},
   "outputs": [
    {
     "name": "stdout",
     "output_type": "stream",
     "text": [
      "16\n"
     ]
    }
   ],
   "source": []
  },
  {
   "cell_type": "code",
   "execution_count": 32,
   "id": "96313c98",
   "metadata": {},
   "outputs": [],
   "source": [
    "import syft as sy\n",
    "import numpy as np\n",
    "from syft import DataSubjectArray, PhiTensor, GammaTensor, lazyrepeatarray"
   ]
  },
  {
   "cell_type": "code",
   "execution_count": 33,
   "id": "da7e4937",
   "metadata": {},
   "outputs": [],
   "source": [
    "data = np.random.randint(0, 10, (5,5))\n",
    "pt = PhiTensor(\n",
    "    child=data,\n",
    "    data_subjects=DataSubjectArray.from_objs(np.random.choice([\"Joe\"], (5,5))),\n",
    "    min_vals = lazyrepeatarray(0, (5,5)),\n",
    "    max_vals = lazyrepeatarray(10, (5,5))\n",
    ")\n",
    "\n",
    "gt = GammaTensor(\n",
    "    child=data,\n",
    "    data_subjects=DataSubjectArray.from_objs(np.random.choice([\"Bob\",\"Billy\",\"Brandon\"], (5,5))),\n",
    "    min_vals = lazyrepeatarray(0, (5,5)),\n",
    "    max_vals = lazyrepeatarray(10, (5,5))\n",
    ")"
   ]
  },
  {
   "cell_type": "code",
   "execution_count": null,
   "id": "568353d7",
   "metadata": {},
   "outputs": [],
   "source": [
    "\n",
    "\n",
    "test_sigma_too_large"
   ]
  },
  {
   "cell_type": "code",
   "execution_count": 4,
   "id": "0ebc6eb4",
   "metadata": {},
   "outputs": [
    {
     "data": {
      "text/plain": [
       "syft.core.tensor.autodp.phi_tensor.PhiTensor"
      ]
     },
     "execution_count": 4,
     "metadata": {},
     "output_type": "execute_result"
    }
   ],
   "source": [
    "type(pt)\n",
    "phi = domain.datasets[-1][\"phi\"].choose([4, 2, 3, 1, 0])\n",
    "\n",
    "print(phi.shape)\n",
    "phi.min_vals, phi.max_vals, phi.data_subjects.shape, phi.data_subjects"
   ]
  },
  {
   "cell_type": "code",
   "execution_count": 9,
   "id": "8c976cbf",
   "metadata": {},
   "outputs": [
    {
     "data": {
      "text/plain": [
       "PhiTensor(child=[[5 3 8 0 1]\n",
       " [8 1 1 4 8]\n",
       " [4 7 6 1 3]\n",
       " [1 1 2 3 6]\n",
       " [5 9 3 8 7]], min_vals=<lazyrepeatarray data: 0 -> shape: (5, 5)>, max_vals=<lazyrepeatarray data: 10 -> shape: (5, 5)>)"
      ]
     },
     "execution_count": 9,
     "metadata": {},
     "output_type": "execute_result"
    }
   ],
   "source": [
    "pt #.shape"
   ]
  },
  {
   "cell_type": "code",
   "execution_count": 11,
   "id": "5366cf1f",
   "metadata": {},
   "outputs": [
    {
     "ename": "ValueError",
     "evalue": "shape mismatch: objects cannot be broadcast to a single shape.  Mismatch is between arg 0 with shape (2, 3, 1, 0) and arg 4 with shape (5, 5).",
     "output_type": "error",
     "traceback": [
      "\u001b[0;31m---------------------------------------------------------------------------\u001b[0m",
      "\u001b[0;31mValueError\u001b[0m                                Traceback (most recent call last)",
      "\u001b[1;32m/Users/ivolinengong/Documents/Research/OpenMined/TestPointer.ipynb Cell 27\u001b[0m in \u001b[0;36m<cell line: 1>\u001b[0;34m()\u001b[0m\n\u001b[0;32m----> <a href='vscode-notebook-cell:/Users/ivolinengong/Documents/Research/OpenMined/TestPointer.ipynb#X36sZmlsZQ%3D%3D?line=0'>1</a>\u001b[0m pt\u001b[39m.\u001b[39;49mchoose(np\u001b[39m.\u001b[39;49mndarray([ \u001b[39m4\u001b[39;49m, \u001b[39m2\u001b[39;49m, \u001b[39m3\u001b[39;49m, \u001b[39m1\u001b[39;49m, \u001b[39m0\u001b[39;49m]))\n",
      "File \u001b[0;32m~/Documents/Research/OpenMined/PySyft/packages/syft/src/syft/core/tensor/autodp/phi_tensor.py:3228\u001b[0m, in \u001b[0;36mPhiTensor.choose\u001b[0;34m(self, choices, out, mode)\u001b[0m\n\u001b[1;32m   3164\u001b[0m \u001b[39mdef\u001b[39;00m \u001b[39mchoose\u001b[39m(\n\u001b[1;32m   3165\u001b[0m     \u001b[39mself\u001b[39m,\n\u001b[1;32m   3166\u001b[0m     choices: Sequence[Union[PassthroughTensor, np\u001b[39m.\u001b[39mndarray]],\n\u001b[1;32m   3167\u001b[0m     out: Optional[np\u001b[39m.\u001b[39mndarray] \u001b[39m=\u001b[39m \u001b[39mNone\u001b[39;00m,\n\u001b[1;32m   3168\u001b[0m     mode: Optional[\u001b[39mstr\u001b[39m] \u001b[39m=\u001b[39m \u001b[39m\"\u001b[39m\u001b[39mraise\u001b[39m\u001b[39m\"\u001b[39m,\n\u001b[1;32m   3169\u001b[0m ) \u001b[39m-\u001b[39m\u001b[39m>\u001b[39m PhiTensor:\n\u001b[1;32m   3170\u001b[0m     \u001b[39m\"\"\"\u001b[39;00m\n\u001b[1;32m   3171\u001b[0m \u001b[39m    Construct an array from an index array and a list of arrays to choose from.\u001b[39;00m\n\u001b[1;32m   3172\u001b[0m \n\u001b[0;32m   (...)\u001b[0m\n\u001b[1;32m   3226\u001b[0m \n\u001b[1;32m   3227\u001b[0m \u001b[39m    \"\"\"\u001b[39;00m\n\u001b[0;32m-> 3228\u001b[0m     result \u001b[39m=\u001b[39m \u001b[39mself\u001b[39;49m\u001b[39m.\u001b[39;49mchild\u001b[39m.\u001b[39;49mchoose(choices, mode\u001b[39m=\u001b[39;49mmode)\n\u001b[1;32m   3229\u001b[0m     \u001b[39mif\u001b[39;00m \u001b[39misinstance\u001b[39m(\u001b[39mself\u001b[39m\u001b[39m.\u001b[39mmin_vals, lazyrepeatarray):\n\u001b[1;32m   3230\u001b[0m         minv \u001b[39m=\u001b[39m lazyrepeatarray(data\u001b[39m=\u001b[39m\u001b[39mself\u001b[39m\u001b[39m.\u001b[39mmin_vals\u001b[39m.\u001b[39mdata\u001b[39m.\u001b[39mmin(), shape\u001b[39m=\u001b[39mresult\u001b[39m.\u001b[39mshape)\n",
      "\u001b[0;31mValueError\u001b[0m: shape mismatch: objects cannot be broadcast to a single shape.  Mismatch is between arg 0 with shape (2, 3, 1, 0) and arg 4 with shape (5, 5)."
     ]
    }
   ],
   "source": [
    "# pt.choose(np.ndarray([ 4, 2, 3, 1, 0]))"
   ]
  },
  {
   "cell_type": "code",
   "execution_count": null,
   "id": "a0c6e1c9",
   "metadata": {},
   "outputs": [],
   "source": []
  },
  {
   "cell_type": "code",
   "execution_count": null,
   "id": "0d46806f",
   "metadata": {},
   "outputs": [],
   "source": []
  }
 ],
 "metadata": {
  "kernelspec": {
   "display_name": "Python 3.10.5 ('syft_env')",
   "language": "python",
   "name": "python3"
  },
  "language_info": {
   "codemirror_mode": {
    "name": "ipython",
    "version": 3
   },
   "file_extension": ".py",
   "mimetype": "text/x-python",
   "name": "python",
   "nbconvert_exporter": "python",
   "pygments_lexer": "ipython3",
   "version": "3.10.5"
  },
  "vscode": {
   "interpreter": {
    "hash": "608402134fc1d50a91a0fd234cc5c1eaca5f5294dcf84c9acf6f5355519845f7"
   }
  }
 },
 "nbformat": 4,
 "nbformat_minor": 5
}
