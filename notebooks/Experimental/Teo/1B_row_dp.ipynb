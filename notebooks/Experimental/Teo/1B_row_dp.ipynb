{
 "cells": [
  {
   "cell_type": "code",
   "execution_count": 1,
   "metadata": {},
   "outputs": [
    {
     "name": "stderr",
     "output_type": "stream",
     "text": [
      "kj/filesystem-disk-unix.c++:1690: warning: PWD environment variable doesn't match current directory; pwd = /home/teo/OpenMined/PySyft\n",
      "2023-02-08 15:58:31.000136: W tensorflow/stream_executor/platform/default/dso_loader.cc:64] Could not load dynamic library 'libcudart.so.11.0'; dlerror: libcudart.so.11.0: cannot open shared object file: No such file or directory; LD_LIBRARY_PATH: /usr/local/cuda-11.5/lib64:/usr/local/cuda-11.5/lib64:\n",
      "2023-02-08 15:58:31.014508: E tensorflow/stream_executor/cuda/cuda_blas.cc:2981] Unable to register cuBLAS factory: Attempting to register factory for plugin cuBLAS when one has already been registered\n",
      "2023-02-08 15:58:31.466781: W tensorflow/stream_executor/platform/default/dso_loader.cc:64] Could not load dynamic library 'libnvinfer.so.7'; dlerror: libnvrtc.so.11.1: cannot open shared object file: No such file or directory; LD_LIBRARY_PATH: /usr/local/cuda-11.5/lib64:/usr/local/cuda-11.5/lib64:\n",
      "2023-02-08 15:58:31.466922: W tensorflow/stream_executor/platform/default/dso_loader.cc:64] Could not load dynamic library 'libnvinfer_plugin.so.7'; dlerror: libnvrtc.so.11.1: cannot open shared object file: No such file or directory; LD_LIBRARY_PATH: /usr/local/cuda-11.5/lib64:/usr/local/cuda-11.5/lib64:\n",
      "2023-02-08 15:58:31.466929: W tensorflow/compiler/tf2tensorrt/utils/py_utils.cc:38] TF-TRT Warning: Cannot dlopen some TensorRT libraries. If you would like to use Nvidia GPU with TensorRT, please make sure the missing libraries mentioned above are installed properly.\n"
     ]
    }
   ],
   "source": [
    "from syft.core.adp.data_subject import DataSubject\n",
    "import syft as sy\n",
    "import jax\n",
    "import numpy as np\n",
    "import functools\n",
    "\n",
    "from typing import List\n",
    "from typing import Tuple\n"
   ]
  },
  {
   "cell_type": "code",
   "execution_count": 2,
   "metadata": {},
   "outputs": [
    {
     "name": "stdout",
     "output_type": "stream",
     "text": [
      "\u001b[93mWARNING:\u001b[0m CHANGE YOUR USERNAME AND PASSWORD!!! \n",
      "\n",
      "Anyone can login as an admin to your node right now because your password is still the default PySyft username and password!!!\n",
      "\n",
      "Connecting to localhost... done! \t Logging into test... done!\n"
     ]
    }
   ],
   "source": [
    "domain_client = sy.login(email=\"info@openmined.org\", password=\"changethis\", port=8081)"
   ]
  },
  {
   "cell_type": "code",
   "execution_count": 3,
   "metadata": {},
   "outputs": [
    {
     "name": "stdout",
     "output_type": "stream",
     "text": [
      "Tensor annotated with DP Metadata!\n",
      "You can upload this Tensor to a domain node by calling `<domain_client>.load_dataset` and passing in this tensor as an asset.\n",
      "perform_api_request_generic <class 'abc.ABCMeta'>\n"
     ]
    },
    {
     "name": "stderr",
     "output_type": "stream",
     "text": [
      "Uploading `97d3fafd624c44fda93de47330b2681d`: 100%|\u001b[32m██████████████████\u001b[0m| 1/1 [00:00<00:00, 208.07it/s]\u001b[0m"
     ]
    },
    {
     "name": "stdout",
     "output_type": "stream",
     "text": [
      "perform_api_request_generic <class 'abc.ABCMeta'>\n"
     ]
    },
    {
     "name": "stderr",
     "output_type": "stream",
     "text": [
      "\n"
     ]
    }
   ],
   "source": [
    "alice_data = np.array([1,2,3])\n",
    "alice_tensor = sy.Tensor(alice_data).annotate_with_dp_metadata(lower_bound=0, upper_bound=10, data_subject=\"alice\")\n",
    "alice_pointer = alice_tensor.send(domain_client)"
   ]
  },
  {
   "cell_type": "code",
   "execution_count": 5,
   "metadata": {},
   "outputs": [
    {
     "name": "stdout",
     "output_type": "stream",
     "text": [
      "Tensor annotated with DP Metadata!\n",
      "You can upload this Tensor to a domain node by calling `<domain_client>.load_dataset` and passing in this tensor as an asset.\n",
      "perform_api_request_generic <class 'abc.ABCMeta'>\n"
     ]
    },
    {
     "name": "stderr",
     "output_type": "stream",
     "text": [
      "Uploading `2f7af64cea8b4b728c1b8e486059f1df`: 100%|\u001b[32m██████████████████\u001b[0m| 1/1 [00:00<00:00, 185.38it/s]\u001b[0m"
     ]
    },
    {
     "name": "stdout",
     "output_type": "stream",
     "text": [
      "perform_api_request_generic <class 'abc.ABCMeta'>\n"
     ]
    },
    {
     "name": "stderr",
     "output_type": "stream",
     "text": [
      "\n"
     ]
    }
   ],
   "source": [
    "bob_data = np.array([4,5,6])\n",
    "bob_tensor = sy.Tensor(bob_data).annotate_with_dp_metadata(lower_bound=0, upper_bound=10, data_subject=\"bob\")\n",
    "bob_pointer = bob_tensor.send(domain_client)"
   ]
  },
  {
   "cell_type": "code",
   "execution_count": 16,
   "metadata": {},
   "outputs": [
    {
     "data": {
      "text/plain": [
       "PointerId: 97d3fafd624c44fda93de47330b2681d\n",
       "Status: \u001b[92mReady\u001b[0m\n",
       "Representation: array([0, 8, 3])\n",
       "\n",
       "(The data printed above is synthetic - it's an imitation of the real data.)"
      ]
     },
     "execution_count": 16,
     "metadata": {},
     "output_type": "execute_result"
    }
   ],
   "source": [
    "alice_pointer"
   ]
  },
  {
   "cell_type": "code",
   "execution_count": 6,
   "metadata": {},
   "outputs": [],
   "source": [
    "result_pointer = alice_pointer + bob_pointer"
   ]
  },
  {
   "cell_type": "code",
   "execution_count": 14,
   "metadata": {},
   "outputs": [],
   "source": [
    "res_alice = alice_pointer.publish()"
   ]
  },
  {
   "cell_type": "code",
   "execution_count": 15,
   "metadata": {},
   "outputs": [
    {
     "name": "stderr",
     "output_type": "stream",
     "text": [
      "[2023-02-08T16:01:45.552723+0200][CRITICAL][logger]][1088928] UnknownPrivateException has been triggered.\n"
     ]
    },
    {
     "ename": "UnknownPrivateException",
     "evalue": "UnknownPrivateException has been triggered.",
     "output_type": "error",
     "traceback": [
      "\u001b[0;31m---------------------------------------------------------------------------\u001b[0m",
      "\u001b[0;31mUnknownPrivateException\u001b[0m                   Traceback (most recent call last)",
      "\u001b[1;32m/home/teo/OpenMined/PySyft/notebooks/Experimental/Teo/1B_row_dp.ipynb Cell 7\u001b[0m in \u001b[0;36m<cell line: 1>\u001b[0;34m()\u001b[0m\n\u001b[0;32m----> <a href='vscode-notebook-cell:/home/teo/OpenMined/PySyft/notebooks/Experimental/Teo/1B_row_dp.ipynb#X22sZmlsZQ%3D%3D?line=0'>1</a>\u001b[0m res_alice\u001b[39m.\u001b[39;49mget_copy()\n",
      "File \u001b[0;32m~/OpenMined/PySyft/packages/syft/src/syft/core/pointer/pointer.py:266\u001b[0m, in \u001b[0;36mPointer.get_copy\u001b[0;34m(self, request_block, timeout_secs, reason, verbose)\u001b[0m\n\u001b[1;32m    253\u001b[0m \u001b[39mdef\u001b[39;00m \u001b[39mget_copy\u001b[39m(\n\u001b[1;32m    254\u001b[0m     \u001b[39mself\u001b[39m,\n\u001b[1;32m    255\u001b[0m     request_block: \u001b[39mbool\u001b[39m \u001b[39m=\u001b[39m \u001b[39mFalse\u001b[39;00m,\n\u001b[0;32m   (...)\u001b[0m\n\u001b[1;32m    258\u001b[0m     verbose: \u001b[39mbool\u001b[39m \u001b[39m=\u001b[39m \u001b[39mFalse\u001b[39;00m,\n\u001b[1;32m    259\u001b[0m ) \u001b[39m-\u001b[39m\u001b[39m>\u001b[39m Optional[StorableObject]:\n\u001b[1;32m    260\u001b[0m     \u001b[39m\"\"\"Method to download a remote object from a pointer object if you have the right\u001b[39;00m\n\u001b[1;32m    261\u001b[0m \u001b[39m    permissions. Optionally can block while waiting for approval.\u001b[39;00m\n\u001b[1;32m    262\u001b[0m \n\u001b[1;32m    263\u001b[0m \u001b[39m    :return: returns the downloaded data\u001b[39;00m\n\u001b[1;32m    264\u001b[0m \u001b[39m    :rtype: Optional[StorableObject]\u001b[39;00m\n\u001b[1;32m    265\u001b[0m \u001b[39m    \"\"\"\u001b[39;00m\n\u001b[0;32m--> 266\u001b[0m     \u001b[39mreturn\u001b[39;00m \u001b[39mself\u001b[39;49m\u001b[39m.\u001b[39;49mget(\n\u001b[1;32m    267\u001b[0m         request_block\u001b[39m=\u001b[39;49mrequest_block,\n\u001b[1;32m    268\u001b[0m         timeout_secs\u001b[39m=\u001b[39;49mtimeout_secs,\n\u001b[1;32m    269\u001b[0m         reason\u001b[39m=\u001b[39;49mreason,\n\u001b[1;32m    270\u001b[0m         delete_obj\u001b[39m=\u001b[39;49m\u001b[39mFalse\u001b[39;49;00m,\n\u001b[1;32m    271\u001b[0m         verbose\u001b[39m=\u001b[39;49mverbose,\n\u001b[1;32m    272\u001b[0m     )\n",
      "File \u001b[0;32m~/OpenMined/PySyft/packages/syft/src/syft/core/pointer/pointer.py:387\u001b[0m, in \u001b[0;36mPointer.get\u001b[0;34m(self, request_block, timeout_secs, reason, delete_obj, verbose, proxy_only)\u001b[0m\n\u001b[1;32m    382\u001b[0m     \u001b[39mraise\u001b[39;00m \u001b[39mReferenceError\u001b[39;00m(\n\u001b[1;32m    383\u001b[0m         \u001b[39m\"\u001b[39m\u001b[39mObject has already been deleted. This pointer is exhausted\u001b[39m\u001b[39m\"\u001b[39m\n\u001b[1;32m    384\u001b[0m     )\n\u001b[1;32m    386\u001b[0m \u001b[39mif\u001b[39;00m \u001b[39mnot\u001b[39;00m request_block:\n\u001b[0;32m--> 387\u001b[0m     result \u001b[39m=\u001b[39m \u001b[39mself\u001b[39;49m\u001b[39m.\u001b[39;49m_get(\n\u001b[1;32m    388\u001b[0m         delete_obj\u001b[39m=\u001b[39;49mdelete_obj,\n\u001b[1;32m    389\u001b[0m         verbose\u001b[39m=\u001b[39;49mverbose,\n\u001b[1;32m    390\u001b[0m         proxy_only\u001b[39m=\u001b[39;49mproxy_only,\n\u001b[1;32m    391\u001b[0m         timeout_secs\u001b[39m=\u001b[39;49mtimeout_secs,\n\u001b[1;32m    392\u001b[0m     )\n\u001b[1;32m    393\u001b[0m \u001b[39melse\u001b[39;00m:\n\u001b[1;32m    394\u001b[0m     \u001b[39mif\u001b[39;00m timeout_secs \u001b[39mis\u001b[39;00m \u001b[39mNone\u001b[39;00m:\n",
      "File \u001b[0;32m~/OpenMined/PySyft/packages/syft/src/syft/core/pointer/pointer.py:200\u001b[0m, in \u001b[0;36mPointer._get\u001b[0;34m(self, delete_obj, verbose, proxy_only, timeout_secs)\u001b[0m\n\u001b[1;32m    198\u001b[0m \u001b[39m# if we didn't get the object try one last time\u001b[39;00m\n\u001b[1;32m    199\u001b[0m \u001b[39mif\u001b[39;00m \u001b[39mnot\u001b[39;00m obj:\n\u001b[0;32m--> 200\u001b[0m     obj \u001b[39m=\u001b[39m \u001b[39mself\u001b[39;49m\u001b[39m.\u001b[39;49mclient\u001b[39m.\u001b[39;49msend_immediate_msg_with_reply(\n\u001b[1;32m    201\u001b[0m         msg\u001b[39m=\u001b[39;49mobj_msg, timeout\u001b[39m=\u001b[39;49mtimeout_secs\n\u001b[1;32m    202\u001b[0m     )\n\u001b[1;32m    204\u001b[0m \u001b[39mif\u001b[39;00m \u001b[39mnot\u001b[39;00m proxy_only \u001b[39mand\u001b[39;00m obj\u001b[39m.\u001b[39mobj\u001b[39m.\u001b[39mis_proxy:\n\u001b[1;32m    205\u001b[0m     presigned_url_path \u001b[39m=\u001b[39m obj\u001b[39m.\u001b[39mobj\u001b[39m.\u001b[39m_data\u001b[39m.\u001b[39murl\n",
      "File \u001b[0;32m~/OpenMined/PySyft/packages/syft/src/syft/core/node/common/client.py:254\u001b[0m, in \u001b[0;36mClient.send_immediate_msg_with_reply\u001b[0;34m(self, msg, timeout, return_signed, route_index, verbose)\u001b[0m\n\u001b[1;32m    252\u001b[0m     exception \u001b[39m=\u001b[39m exception_msg\u001b[39m.\u001b[39mexception_type(exception_msg\u001b[39m.\u001b[39mexception_msg)\n\u001b[1;32m    253\u001b[0m     error(\u001b[39mstr\u001b[39m(exception))\n\u001b[0;32m--> 254\u001b[0m     traceback_and_raise(exception, verbose\u001b[39m=\u001b[39;49mverbose)\n\u001b[1;32m    255\u001b[0m \u001b[39melse\u001b[39;00m:\n\u001b[1;32m    256\u001b[0m     \u001b[39mif\u001b[39;00m return_signed:\n",
      "File \u001b[0;32m~/OpenMined/PySyft/packages/syft/src/syft/logger.py:70\u001b[0m, in \u001b[0;36mtraceback_and_raise\u001b[0;34m(e, verbose)\u001b[0m\n\u001b[1;32m     68\u001b[0m \u001b[39mif\u001b[39;00m \u001b[39mnot\u001b[39;00m \u001b[39missubclass\u001b[39m(\u001b[39mtype\u001b[39m(e), \u001b[39mException\u001b[39;00m):\n\u001b[1;32m     69\u001b[0m     e \u001b[39m=\u001b[39m \u001b[39mException\u001b[39;00m(e)\n\u001b[0;32m---> 70\u001b[0m \u001b[39mraise\u001b[39;00m e\n",
      "\u001b[0;31mUnknownPrivateException\u001b[0m: UnknownPrivateException has been triggered."
     ]
    }
   ],
   "source": [
    "res_alice.get_copy()"
   ]
  },
  {
   "cell_type": "code",
   "execution_count": 10,
   "metadata": {},
   "outputs": [
    {
     "ename": "AttributeError",
     "evalue": "'TensorWrappedGammaTensorPointer' object has no attribute 'max_vals'",
     "output_type": "error",
     "traceback": [
      "\u001b[0;31m---------------------------------------------------------------------------\u001b[0m",
      "\u001b[0;31mAttributeError\u001b[0m                            Traceback (most recent call last)",
      "File \u001b[0;32m~/anaconda3/envs/PySyft/lib/python3.10/site-packages/IPython/core/formatters.py:707\u001b[0m, in \u001b[0;36mPlainTextFormatter.__call__\u001b[0;34m(self, obj)\u001b[0m\n\u001b[1;32m    700\u001b[0m stream \u001b[39m=\u001b[39m StringIO()\n\u001b[1;32m    701\u001b[0m printer \u001b[39m=\u001b[39m pretty\u001b[39m.\u001b[39mRepresentationPrinter(stream, \u001b[39mself\u001b[39m\u001b[39m.\u001b[39mverbose,\n\u001b[1;32m    702\u001b[0m     \u001b[39mself\u001b[39m\u001b[39m.\u001b[39mmax_width, \u001b[39mself\u001b[39m\u001b[39m.\u001b[39mnewline,\n\u001b[1;32m    703\u001b[0m     max_seq_length\u001b[39m=\u001b[39m\u001b[39mself\u001b[39m\u001b[39m.\u001b[39mmax_seq_length,\n\u001b[1;32m    704\u001b[0m     singleton_pprinters\u001b[39m=\u001b[39m\u001b[39mself\u001b[39m\u001b[39m.\u001b[39msingleton_printers,\n\u001b[1;32m    705\u001b[0m     type_pprinters\u001b[39m=\u001b[39m\u001b[39mself\u001b[39m\u001b[39m.\u001b[39mtype_printers,\n\u001b[1;32m    706\u001b[0m     deferred_pprinters\u001b[39m=\u001b[39m\u001b[39mself\u001b[39m\u001b[39m.\u001b[39mdeferred_printers)\n\u001b[0;32m--> 707\u001b[0m printer\u001b[39m.\u001b[39;49mpretty(obj)\n\u001b[1;32m    708\u001b[0m printer\u001b[39m.\u001b[39mflush()\n\u001b[1;32m    709\u001b[0m \u001b[39mreturn\u001b[39;00m stream\u001b[39m.\u001b[39mgetvalue()\n",
      "File \u001b[0;32m~/anaconda3/envs/PySyft/lib/python3.10/site-packages/IPython/lib/pretty.py:410\u001b[0m, in \u001b[0;36mRepresentationPrinter.pretty\u001b[0;34m(self, obj)\u001b[0m\n\u001b[1;32m    407\u001b[0m                         \u001b[39mreturn\u001b[39;00m meth(obj, \u001b[39mself\u001b[39m, cycle)\n\u001b[1;32m    408\u001b[0m                 \u001b[39mif\u001b[39;00m \u001b[39mcls\u001b[39m \u001b[39mis\u001b[39;00m \u001b[39mnot\u001b[39;00m \u001b[39mobject\u001b[39m \\\n\u001b[1;32m    409\u001b[0m                         \u001b[39mand\u001b[39;00m callable(\u001b[39mcls\u001b[39m\u001b[39m.\u001b[39m\u001b[39m__dict__\u001b[39m\u001b[39m.\u001b[39mget(\u001b[39m'\u001b[39m\u001b[39m__repr__\u001b[39m\u001b[39m'\u001b[39m)):\n\u001b[0;32m--> 410\u001b[0m                     \u001b[39mreturn\u001b[39;00m _repr_pprint(obj, \u001b[39mself\u001b[39;49m, cycle)\n\u001b[1;32m    412\u001b[0m     \u001b[39mreturn\u001b[39;00m _default_pprint(obj, \u001b[39mself\u001b[39m, cycle)\n\u001b[1;32m    413\u001b[0m \u001b[39mfinally\u001b[39;00m:\n",
      "File \u001b[0;32m~/anaconda3/envs/PySyft/lib/python3.10/site-packages/IPython/lib/pretty.py:778\u001b[0m, in \u001b[0;36m_repr_pprint\u001b[0;34m(obj, p, cycle)\u001b[0m\n\u001b[1;32m    776\u001b[0m \u001b[39m\"\"\"A pprint that just redirects to the normal repr function.\"\"\"\u001b[39;00m\n\u001b[1;32m    777\u001b[0m \u001b[39m# Find newlines and replace them with p.break_()\u001b[39;00m\n\u001b[0;32m--> 778\u001b[0m output \u001b[39m=\u001b[39m \u001b[39mrepr\u001b[39;49m(obj)\n\u001b[1;32m    779\u001b[0m lines \u001b[39m=\u001b[39m output\u001b[39m.\u001b[39msplitlines()\n\u001b[1;32m    780\u001b[0m \u001b[39mwith\u001b[39;00m p\u001b[39m.\u001b[39mgroup():\n",
      "File \u001b[0;32m~/OpenMined/PySyft/packages/syft/src/syft/core/tensor/autodp/gamma_tensor.py:182\u001b[0m, in \u001b[0;36mTensorWrappedGammaTensorPointer.__repr__\u001b[0;34m(self)\u001b[0m\n\u001b[1;32m    176\u001b[0m     _ptr_status \u001b[39m=\u001b[39m (\n\u001b[1;32m    177\u001b[0m         PointerStatus\u001b[39m.\u001b[39mREADY\u001b[39m.\u001b[39mvalue\n\u001b[1;32m    178\u001b[0m         \u001b[39mif\u001b[39;00m \u001b[39mself\u001b[39m\u001b[39m.\u001b[39mexists\n\u001b[1;32m    179\u001b[0m         \u001b[39melse\u001b[39;00m PointerStatus\u001b[39m.\u001b[39mPROCESSING\u001b[39m.\u001b[39mvalue\n\u001b[1;32m    180\u001b[0m     )\n\u001b[1;32m    181\u001b[0m     repr_string \u001b[39m+\u001b[39m\u001b[39m=\u001b[39m \u001b[39mf\u001b[39m\u001b[39m\"\u001b[39m\u001b[39m\\n\u001b[39;00m\u001b[39mStatus: \u001b[39m\u001b[39m{\u001b[39;00m_ptr_status\u001b[39m}\u001b[39;00m\u001b[39m\"\u001b[39m\n\u001b[0;32m--> 182\u001b[0m repr_string \u001b[39m+\u001b[39m\u001b[39m=\u001b[39m \u001b[39mf\u001b[39m\u001b[39m\"\u001b[39m\u001b[39m\\n\u001b[39;00m\u001b[39mRepresentation: \u001b[39m\u001b[39m{\u001b[39;00m\u001b[39mself\u001b[39m\u001b[39m.\u001b[39msynthetic\u001b[39m.\u001b[39m\u001b[39m__repr__\u001b[39m()\u001b[39m}\u001b[39;00m\u001b[39m\"\u001b[39m\n\u001b[1;32m    183\u001b[0m repr_string \u001b[39m+\u001b[39m\u001b[39m=\u001b[39m \u001b[39m\"\u001b[39m\u001b[39m\\n\u001b[39;00m\u001b[39m\\n\u001b[39;00m\u001b[39m(The data printed above is synthetic - it\u001b[39m\u001b[39m'\u001b[39m\u001b[39ms an imitation of the real data.)\u001b[39m\u001b[39m\"\u001b[39m\n\u001b[1;32m    184\u001b[0m \u001b[39mreturn\u001b[39;00m repr_string\n",
      "File \u001b[0;32m~/OpenMined/PySyft/packages/syft/src/syft/core/tensor/autodp/gamma_tensor.py:169\u001b[0m, in \u001b[0;36mTensorWrappedGammaTensorPointer.synthetic\u001b[0;34m(self)\u001b[0m\n\u001b[1;32m    162\u001b[0m \u001b[39m@property\u001b[39m\n\u001b[1;32m    163\u001b[0m \u001b[39mdef\u001b[39;00m \u001b[39msynthetic\u001b[39m(\u001b[39mself\u001b[39m) \u001b[39m-\u001b[39m\u001b[39m>\u001b[39m np\u001b[39m.\u001b[39mndarray:\n\u001b[1;32m    164\u001b[0m     public_dtype_func \u001b[39m=\u001b[39m \u001b[39mgetattr\u001b[39m(\n\u001b[1;32m    165\u001b[0m         \u001b[39mself\u001b[39m\u001b[39m.\u001b[39mpublic_dtype, \u001b[39m\"\u001b[39m\u001b[39mupcast\u001b[39m\u001b[39m\"\u001b[39m, \u001b[39mlambda\u001b[39;00m: \u001b[39mself\u001b[39m\u001b[39m.\u001b[39mpublic_dtype\n\u001b[1;32m    166\u001b[0m     )\n\u001b[1;32m    167\u001b[0m     \u001b[39mreturn\u001b[39;00m (\n\u001b[1;32m    168\u001b[0m         np\u001b[39m.\u001b[39mrandom\u001b[39m.\u001b[39mrand(\u001b[39m*\u001b[39m\u001b[39mlist\u001b[39m(\u001b[39mself\u001b[39m\u001b[39m.\u001b[39mpublic_shape))  \u001b[39m# type: ignore\u001b[39;00m\n\u001b[0;32m--> 169\u001b[0m         \u001b[39m*\u001b[39m (\u001b[39mself\u001b[39;49m\u001b[39m.\u001b[39;49mmax_vals\u001b[39m.\u001b[39mto_numpy() \u001b[39m-\u001b[39m \u001b[39mself\u001b[39m\u001b[39m.\u001b[39mmin_vals\u001b[39m.\u001b[39mto_numpy())\n\u001b[1;32m    170\u001b[0m         \u001b[39m+\u001b[39m \u001b[39mself\u001b[39m\u001b[39m.\u001b[39mmin_vals\u001b[39m.\u001b[39mto_numpy()\n\u001b[1;32m    171\u001b[0m     )\u001b[39m.\u001b[39mastype(public_dtype_func())\n",
      "\u001b[0;31mAttributeError\u001b[0m: 'TensorWrappedGammaTensorPointer' object has no attribute 'max_vals'"
     ]
    }
   ],
   "source": [
    "result_pointer"
   ]
  },
  {
   "cell_type": "code",
   "execution_count": 7,
   "metadata": {},
   "outputs": [],
   "source": [
    "result = result_pointer.publish()"
   ]
  },
  {
   "cell_type": "code",
   "execution_count": 9,
   "metadata": {},
   "outputs": [
    {
     "name": "stderr",
     "output_type": "stream",
     "text": [
      "[2023-02-08T16:00:36.625665+0200][CRITICAL][logger]][1088928] UnknownPrivateException has been triggered.\n"
     ]
    },
    {
     "ename": "UnknownPrivateException",
     "evalue": "UnknownPrivateException has been triggered.",
     "output_type": "error",
     "traceback": [
      "\u001b[0;31m---------------------------------------------------------------------------\u001b[0m",
      "\u001b[0;31mUnknownPrivateException\u001b[0m                   Traceback (most recent call last)",
      "\u001b[1;32m/home/teo/OpenMined/PySyft/notebooks/Experimental/Teo/1B_row_dp.ipynb Cell 7\u001b[0m in \u001b[0;36m<cell line: 1>\u001b[0;34m()\u001b[0m\n\u001b[0;32m----> <a href='vscode-notebook-cell:/home/teo/OpenMined/PySyft/notebooks/Experimental/Teo/1B_row_dp.ipynb#X16sZmlsZQ%3D%3D?line=0'>1</a>\u001b[0m result\u001b[39m.\u001b[39;49mget()\n",
      "File \u001b[0;32m~/OpenMined/PySyft/packages/syft/src/syft/core/pointer/pointer.py:387\u001b[0m, in \u001b[0;36mPointer.get\u001b[0;34m(self, request_block, timeout_secs, reason, delete_obj, verbose, proxy_only)\u001b[0m\n\u001b[1;32m    382\u001b[0m     \u001b[39mraise\u001b[39;00m \u001b[39mReferenceError\u001b[39;00m(\n\u001b[1;32m    383\u001b[0m         \u001b[39m\"\u001b[39m\u001b[39mObject has already been deleted. This pointer is exhausted\u001b[39m\u001b[39m\"\u001b[39m\n\u001b[1;32m    384\u001b[0m     )\n\u001b[1;32m    386\u001b[0m \u001b[39mif\u001b[39;00m \u001b[39mnot\u001b[39;00m request_block:\n\u001b[0;32m--> 387\u001b[0m     result \u001b[39m=\u001b[39m \u001b[39mself\u001b[39;49m\u001b[39m.\u001b[39;49m_get(\n\u001b[1;32m    388\u001b[0m         delete_obj\u001b[39m=\u001b[39;49mdelete_obj,\n\u001b[1;32m    389\u001b[0m         verbose\u001b[39m=\u001b[39;49mverbose,\n\u001b[1;32m    390\u001b[0m         proxy_only\u001b[39m=\u001b[39;49mproxy_only,\n\u001b[1;32m    391\u001b[0m         timeout_secs\u001b[39m=\u001b[39;49mtimeout_secs,\n\u001b[1;32m    392\u001b[0m     )\n\u001b[1;32m    393\u001b[0m \u001b[39melse\u001b[39;00m:\n\u001b[1;32m    394\u001b[0m     \u001b[39mif\u001b[39;00m timeout_secs \u001b[39mis\u001b[39;00m \u001b[39mNone\u001b[39;00m:\n",
      "File \u001b[0;32m~/OpenMined/PySyft/packages/syft/src/syft/core/pointer/pointer.py:200\u001b[0m, in \u001b[0;36mPointer._get\u001b[0;34m(self, delete_obj, verbose, proxy_only, timeout_secs)\u001b[0m\n\u001b[1;32m    198\u001b[0m \u001b[39m# if we didn't get the object try one last time\u001b[39;00m\n\u001b[1;32m    199\u001b[0m \u001b[39mif\u001b[39;00m \u001b[39mnot\u001b[39;00m obj:\n\u001b[0;32m--> 200\u001b[0m     obj \u001b[39m=\u001b[39m \u001b[39mself\u001b[39;49m\u001b[39m.\u001b[39;49mclient\u001b[39m.\u001b[39;49msend_immediate_msg_with_reply(\n\u001b[1;32m    201\u001b[0m         msg\u001b[39m=\u001b[39;49mobj_msg, timeout\u001b[39m=\u001b[39;49mtimeout_secs\n\u001b[1;32m    202\u001b[0m     )\n\u001b[1;32m    204\u001b[0m \u001b[39mif\u001b[39;00m \u001b[39mnot\u001b[39;00m proxy_only \u001b[39mand\u001b[39;00m obj\u001b[39m.\u001b[39mobj\u001b[39m.\u001b[39mis_proxy:\n\u001b[1;32m    205\u001b[0m     presigned_url_path \u001b[39m=\u001b[39m obj\u001b[39m.\u001b[39mobj\u001b[39m.\u001b[39m_data\u001b[39m.\u001b[39murl\n",
      "File \u001b[0;32m~/OpenMined/PySyft/packages/syft/src/syft/core/node/common/client.py:254\u001b[0m, in \u001b[0;36mClient.send_immediate_msg_with_reply\u001b[0;34m(self, msg, timeout, return_signed, route_index, verbose)\u001b[0m\n\u001b[1;32m    252\u001b[0m     exception \u001b[39m=\u001b[39m exception_msg\u001b[39m.\u001b[39mexception_type(exception_msg\u001b[39m.\u001b[39mexception_msg)\n\u001b[1;32m    253\u001b[0m     error(\u001b[39mstr\u001b[39m(exception))\n\u001b[0;32m--> 254\u001b[0m     traceback_and_raise(exception, verbose\u001b[39m=\u001b[39;49mverbose)\n\u001b[1;32m    255\u001b[0m \u001b[39melse\u001b[39;00m:\n\u001b[1;32m    256\u001b[0m     \u001b[39mif\u001b[39;00m return_signed:\n",
      "File \u001b[0;32m~/OpenMined/PySyft/packages/syft/src/syft/logger.py:70\u001b[0m, in \u001b[0;36mtraceback_and_raise\u001b[0;34m(e, verbose)\u001b[0m\n\u001b[1;32m     68\u001b[0m \u001b[39mif\u001b[39;00m \u001b[39mnot\u001b[39;00m \u001b[39missubclass\u001b[39m(\u001b[39mtype\u001b[39m(e), \u001b[39mException\u001b[39;00m):\n\u001b[1;32m     69\u001b[0m     e \u001b[39m=\u001b[39m \u001b[39mException\u001b[39;00m(e)\n\u001b[0;32m---> 70\u001b[0m \u001b[39mraise\u001b[39;00m e\n",
      "\u001b[0;31mUnknownPrivateException\u001b[0m: UnknownPrivateException has been triggered."
     ]
    }
   ],
   "source": [
    "result.get()"
   ]
  },
  {
   "cell_type": "code",
   "execution_count": 1,
   "metadata": {},
   "outputs": [
    {
     "ename": "NameError",
     "evalue": "name 'np' is not defined",
     "output_type": "error",
     "traceback": [
      "\u001b[0;31m---------------------------------------------------------------------------\u001b[0m",
      "\u001b[0;31mNameError\u001b[0m                                 Traceback (most recent call last)",
      "\u001b[1;32m/home/teo/OpenMined/PySyft/notebooks/Experimental/Teo/1B_row_dp.ipynb Cell 2\u001b[0m in \u001b[0;36m<cell line: 1>\u001b[0;34m()\u001b[0m\n\u001b[0;32m----> <a href='vscode-notebook-cell:/home/teo/OpenMined/PySyft/notebooks/Experimental/Teo/1B_row_dp.ipynb#W1sZmlsZQ%3D%3D?line=0'>1</a>\u001b[0m \u001b[39mclass\u001b[39;00m \u001b[39mMultiRowPhiTensor\u001b[39;00m(): \n\u001b[1;32m      <a href='vscode-notebook-cell:/home/teo/OpenMined/PySyft/notebooks/Experimental/Teo/1B_row_dp.ipynb#W1sZmlsZQ%3D%3D?line=1'>2</a>\u001b[0m     \u001b[39m\"\"\"\u001b[39;00m\n\u001b[1;32m      <a href='vscode-notebook-cell:/home/teo/OpenMined/PySyft/notebooks/Experimental/Teo/1B_row_dp.ipynb#W1sZmlsZQ%3D%3D?line=2'>3</a>\u001b[0m \u001b[39m    This class acts like a wrapper over multiple PhiTensors that will offer an helpful API\u001b[39;00m\n\u001b[1;32m      <a href='vscode-notebook-cell:/home/teo/OpenMined/PySyft/notebooks/Experimental/Teo/1B_row_dp.ipynb#W1sZmlsZQ%3D%3D?line=3'>4</a>\u001b[0m \u001b[39m    instead of having the user to work with multiple PhiTensors of the same structure \u001b[39;00m\n\u001b[1;32m      <a href='vscode-notebook-cell:/home/teo/OpenMined/PySyft/notebooks/Experimental/Teo/1B_row_dp.ipynb#W1sZmlsZQ%3D%3D?line=4'>5</a>\u001b[0m \u001b[39m    \"\"\"\u001b[39;00m\n\u001b[1;32m      <a href='vscode-notebook-cell:/home/teo/OpenMined/PySyft/notebooks/Experimental/Teo/1B_row_dp.ipynb#W1sZmlsZQ%3D%3D?line=5'>6</a>\u001b[0m     phi_tensors: np\u001b[39m.\u001b[39marray[sy\u001b[39m.\u001b[39mPhiTensor]\n",
      "\u001b[1;32m/home/teo/OpenMined/PySyft/notebooks/Experimental/Teo/1B_row_dp.ipynb Cell 2\u001b[0m in \u001b[0;36mMultiRowPhiTensor\u001b[0;34m()\u001b[0m\n\u001b[1;32m      <a href='vscode-notebook-cell:/home/teo/OpenMined/PySyft/notebooks/Experimental/Teo/1B_row_dp.ipynb#W1sZmlsZQ%3D%3D?line=0'>1</a>\u001b[0m \u001b[39mclass\u001b[39;00m \u001b[39mMultiRowPhiTensor\u001b[39;00m(): \n\u001b[1;32m      <a href='vscode-notebook-cell:/home/teo/OpenMined/PySyft/notebooks/Experimental/Teo/1B_row_dp.ipynb#W1sZmlsZQ%3D%3D?line=1'>2</a>\u001b[0m     \u001b[39m\"\"\"\u001b[39;00m\n\u001b[1;32m      <a href='vscode-notebook-cell:/home/teo/OpenMined/PySyft/notebooks/Experimental/Teo/1B_row_dp.ipynb#W1sZmlsZQ%3D%3D?line=2'>3</a>\u001b[0m \u001b[39m    This class acts like a wrapper over multiple PhiTensors that will offer an helpful API\u001b[39;00m\n\u001b[1;32m      <a href='vscode-notebook-cell:/home/teo/OpenMined/PySyft/notebooks/Experimental/Teo/1B_row_dp.ipynb#W1sZmlsZQ%3D%3D?line=3'>4</a>\u001b[0m \u001b[39m    instead of having the user to work with multiple PhiTensors of the same structure \u001b[39;00m\n\u001b[1;32m      <a href='vscode-notebook-cell:/home/teo/OpenMined/PySyft/notebooks/Experimental/Teo/1B_row_dp.ipynb#W1sZmlsZQ%3D%3D?line=4'>5</a>\u001b[0m \u001b[39m    \"\"\"\u001b[39;00m\n\u001b[0;32m----> <a href='vscode-notebook-cell:/home/teo/OpenMined/PySyft/notebooks/Experimental/Teo/1B_row_dp.ipynb#W1sZmlsZQ%3D%3D?line=5'>6</a>\u001b[0m     phi_tensors: np\u001b[39m.\u001b[39marray[sy\u001b[39m.\u001b[39mPhiTensor]\n\u001b[1;32m      <a href='vscode-notebook-cell:/home/teo/OpenMined/PySyft/notebooks/Experimental/Teo/1B_row_dp.ipynb#W1sZmlsZQ%3D%3D?line=7'>8</a>\u001b[0m     \u001b[39mdef\u001b[39;00m \u001b[39m__init__\u001b[39m(\u001b[39mself\u001b[39m, phi_tensors: List[sy\u001b[39m.\u001b[39mPhiTensor]):\n\u001b[1;32m      <a href='vscode-notebook-cell:/home/teo/OpenMined/PySyft/notebooks/Experimental/Teo/1B_row_dp.ipynb#W1sZmlsZQ%3D%3D?line=8'>9</a>\u001b[0m         phi_tensors \u001b[39m=\u001b[39m np\u001b[39m.\u001b[39marray(phi_tensors)\n",
      "\u001b[0;31mNameError\u001b[0m: name 'np' is not defined"
     ]
    }
   ],
   "source": [
    "class MultiRowPhiTensor(): \n",
    "    \"\"\"\n",
    "    This class acts like a wrapper over multiple PhiTensors that will offer an helpful API\n",
    "    instead of having the user to work with multiple PhiTensors of the same structure \n",
    "    \"\"\"\n",
    "    phi_tensors: np.array[sy.PhiTensor]\n",
    "    \n",
    "    def __init__(self, phi_tensors: List[sy.PhiTensor]):\n",
    "        phi_tensors = np.array(phi_tensors)\n",
    "        \n",
    "    def execute_op(self, op, args, kwargs) -> MultiRowPhiTensor:\n",
    "        return MultiRowPhiTensor(self.phi_tensors.apply(op, args, kwargs))\n",
    "        \n",
    "    def reduce_op(self, op, args, kwargs) -> sy.GammaTensor:\n",
    "        return functools.reduce(op, self.phi_tensors)\n",
    "    \n",
    "    def to_flex(self):\n",
    "        return MultiFlexPhiTensor(self.phi_tensors)\n",
    "        \n",
    "        \n",
    "class MultiFlexPhiTensor():\n",
    "    \"\"\"\n",
    "    This structure is closer to the old PhiTensor, \n",
    "    as each value has mapped a DataSubject or DataSubjectArray\n",
    "    \"\"\"\n",
    "    data_subjects_indices: np.array\n",
    "    data: np.array\n",
    "    lower_bounds: np.array\n",
    "    upper_bounds: np.array\n",
    "    shallow_compute: bool = False\n",
    "    \n",
    "    \n",
    "    def __init__(self, phi_tensors: List[sy.PhiTensor]):\n",
    "        data_subjects = [phi_tensor.data_subject for phi_tensor in phi_tensors]\n",
    "        data = np.array([phi_tensor.data for phi_tensor in phi_tensors])\n",
    "        shape = (len(phi_tensors) *phi_tensors[0].shape)\n",
    "        lower_bounds = sy.lazyrepeatarray([phi_tensor.lower_bound for phi_tensor in self.phi_tensors], shape=shape)\n",
    "        upper_bounds = sy.lazyrepeatarray([phi_tensor.upper_bound for phi_tensor in self.phi_tensors], shape=shape)\n",
    "    \n",
    "    def __init__(self, data, data_subjects_indices, lower_bounds_array, upper_bounds_array):\n",
    "        \n",
    "        if not data.shape == data_subjects_indices.shape == lower_bounds_array.shape == upper_bounds_array.shape:\n",
    "            raise Exception\n",
    "        \n",
    "        self.data = data\n",
    "        self.data_subjects_indices == data_subjects_indices\n",
    "        self.lower_bounds = lower_bounds_array\n",
    "        self.upper_bounds = upper_bounds_array\n",
    "    \n",
    "    def ispublic(other):\n",
    "        return False\n",
    "    \n",
    "    def __add__(self, other):\n",
    "        if ispublic(other):\n",
    "            data = self.data + other\n",
    "            lower_bounds = self.lower_bounds + other\n",
    "            upper_bounds = self.upper_bounds + other\n",
    "            data_subjects_indices = self.data_subjects_indices\n",
    "        else: \n",
    "            data_subjects_match = (self.data_subjects_indices == other.data_subject_indices).all()\n",
    "            if data_subjects_match:\n",
    "                data_subjects_indices = self.data_subjects_indices\n",
    "                data = self.data + other.data\n",
    "                lower_bounds = self.lower_bounds + other.lower_bounds\n",
    "                upper_bounds = self.upper_bounds + other.upper_bounds\n",
    "            else:\n",
    "                return self.gamma + other.gamma\n",
    "        \n",
    "        return MultiFlexPhiTensor(...)    \n",
    "    \n",
    "    \n",
    "    "
   ]
  },
  {
   "cell_type": "code",
   "execution_count": null,
   "metadata": {},
   "outputs": [],
   "source": [
    "# for simple operations:\n",
    "phi_tensors_obj = MultiRowPhiTensor(...)\n",
    "phi_tensors_obj *= 2\n",
    "phi_tensors_obj.sum()"
   ]
  },
  {
   "cell_type": "code",
   "execution_count": null,
   "metadata": {},
   "outputs": [],
   "source": [
    "phi_tensors_obj = MultiFlexPhiTensor(...)\n",
    "phi_tensors_obj.T \n",
    "phi_tensors_obj @ phi_tensors_obj"
   ]
  },
  {
   "cell_type": "code",
   "execution_count": null,
   "metadata": {},
   "outputs": [],
   "source": [
    "class PhiTensor():\n",
    "    child: comp_array\n",
    "    bounds: comp_array\n",
    "    data_subject: sy.DataSubject\n",
    "    \n",
    "    def __array_interface__():\n",
    "        "
   ]
  },
  {
   "cell_type": "code",
   "execution_count": null,
   "metadata": {},
   "outputs": [],
   "source": [
    "x,y,z = PhiTensor(...)\n",
    "np.array(x,y,z)"
   ]
  },
  {
   "cell_type": "code",
   "execution_count": null,
   "metadata": {},
   "outputs": [],
   "source": []
  },
  {
   "cell_type": "code",
   "execution_count": null,
   "metadata": {},
   "outputs": [],
   "source": []
  }
 ],
 "metadata": {
  "kernelspec": {
   "display_name": "PySyft",
   "language": "python",
   "name": "python3"
  },
  "language_info": {
   "codemirror_mode": {
    "name": "ipython",
    "version": 3
   },
   "file_extension": ".py",
   "mimetype": "text/x-python",
   "name": "python",
   "nbconvert_exporter": "python",
   "pygments_lexer": "ipython3",
   "version": "3.10.4"
  },
  "orig_nbformat": 4,
  "vscode": {
   "interpreter": {
    "hash": "4793a45c21657cf3d03167fad0b0286070df6dcd03825f60c6ea99cbb4eef702"
   }
  }
 },
 "nbformat": 4,
 "nbformat_minor": 2
}
