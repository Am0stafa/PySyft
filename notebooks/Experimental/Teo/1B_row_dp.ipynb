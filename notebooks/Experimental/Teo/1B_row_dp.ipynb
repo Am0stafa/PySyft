{
 "cells": [
  {
   "cell_type": "code",
   "execution_count": 2,
   "metadata": {},
   "outputs": [],
   "source": [
    "from syft.core.adp.data_subject import DataSubject\n",
    "import syft as sy\n",
    "import jax\n",
    "import numpy as np\n",
    "import functools\n",
    "\n",
    "from typing import List\n",
    "from typing import Tuple\n"
   ]
  },
  {
   "cell_type": "code",
   "execution_count": 1,
   "metadata": {},
   "outputs": [
    {
     "ename": "NameError",
     "evalue": "name 'np' is not defined",
     "output_type": "error",
     "traceback": [
      "\u001b[0;31m---------------------------------------------------------------------------\u001b[0m",
      "\u001b[0;31mNameError\u001b[0m                                 Traceback (most recent call last)",
      "\u001b[1;32m/home/teo/OpenMined/PySyft/notebooks/Experimental/Teo/1B_row_dp.ipynb Cell 2\u001b[0m in \u001b[0;36m<cell line: 1>\u001b[0;34m()\u001b[0m\n\u001b[0;32m----> <a href='vscode-notebook-cell:/home/teo/OpenMined/PySyft/notebooks/Experimental/Teo/1B_row_dp.ipynb#W1sZmlsZQ%3D%3D?line=0'>1</a>\u001b[0m \u001b[39mclass\u001b[39;00m \u001b[39mMultiRowPhiTensor\u001b[39;00m(): \n\u001b[1;32m      <a href='vscode-notebook-cell:/home/teo/OpenMined/PySyft/notebooks/Experimental/Teo/1B_row_dp.ipynb#W1sZmlsZQ%3D%3D?line=1'>2</a>\u001b[0m     \u001b[39m\"\"\"\u001b[39;00m\n\u001b[1;32m      <a href='vscode-notebook-cell:/home/teo/OpenMined/PySyft/notebooks/Experimental/Teo/1B_row_dp.ipynb#W1sZmlsZQ%3D%3D?line=2'>3</a>\u001b[0m \u001b[39m    This class acts like a wrapper over multiple PhiTensors that will offer an helpful API\u001b[39;00m\n\u001b[1;32m      <a href='vscode-notebook-cell:/home/teo/OpenMined/PySyft/notebooks/Experimental/Teo/1B_row_dp.ipynb#W1sZmlsZQ%3D%3D?line=3'>4</a>\u001b[0m \u001b[39m    instead of having the user to work with multiple PhiTensors of the same structure \u001b[39;00m\n\u001b[1;32m      <a href='vscode-notebook-cell:/home/teo/OpenMined/PySyft/notebooks/Experimental/Teo/1B_row_dp.ipynb#W1sZmlsZQ%3D%3D?line=4'>5</a>\u001b[0m \u001b[39m    \"\"\"\u001b[39;00m\n\u001b[1;32m      <a href='vscode-notebook-cell:/home/teo/OpenMined/PySyft/notebooks/Experimental/Teo/1B_row_dp.ipynb#W1sZmlsZQ%3D%3D?line=5'>6</a>\u001b[0m     phi_tensors: np\u001b[39m.\u001b[39marray[sy\u001b[39m.\u001b[39mPhiTensor]\n",
      "\u001b[1;32m/home/teo/OpenMined/PySyft/notebooks/Experimental/Teo/1B_row_dp.ipynb Cell 2\u001b[0m in \u001b[0;36mMultiRowPhiTensor\u001b[0;34m()\u001b[0m\n\u001b[1;32m      <a href='vscode-notebook-cell:/home/teo/OpenMined/PySyft/notebooks/Experimental/Teo/1B_row_dp.ipynb#W1sZmlsZQ%3D%3D?line=0'>1</a>\u001b[0m \u001b[39mclass\u001b[39;00m \u001b[39mMultiRowPhiTensor\u001b[39;00m(): \n\u001b[1;32m      <a href='vscode-notebook-cell:/home/teo/OpenMined/PySyft/notebooks/Experimental/Teo/1B_row_dp.ipynb#W1sZmlsZQ%3D%3D?line=1'>2</a>\u001b[0m     \u001b[39m\"\"\"\u001b[39;00m\n\u001b[1;32m      <a href='vscode-notebook-cell:/home/teo/OpenMined/PySyft/notebooks/Experimental/Teo/1B_row_dp.ipynb#W1sZmlsZQ%3D%3D?line=2'>3</a>\u001b[0m \u001b[39m    This class acts like a wrapper over multiple PhiTensors that will offer an helpful API\u001b[39;00m\n\u001b[1;32m      <a href='vscode-notebook-cell:/home/teo/OpenMined/PySyft/notebooks/Experimental/Teo/1B_row_dp.ipynb#W1sZmlsZQ%3D%3D?line=3'>4</a>\u001b[0m \u001b[39m    instead of having the user to work with multiple PhiTensors of the same structure \u001b[39;00m\n\u001b[1;32m      <a href='vscode-notebook-cell:/home/teo/OpenMined/PySyft/notebooks/Experimental/Teo/1B_row_dp.ipynb#W1sZmlsZQ%3D%3D?line=4'>5</a>\u001b[0m \u001b[39m    \"\"\"\u001b[39;00m\n\u001b[0;32m----> <a href='vscode-notebook-cell:/home/teo/OpenMined/PySyft/notebooks/Experimental/Teo/1B_row_dp.ipynb#W1sZmlsZQ%3D%3D?line=5'>6</a>\u001b[0m     phi_tensors: np\u001b[39m.\u001b[39marray[sy\u001b[39m.\u001b[39mPhiTensor]\n\u001b[1;32m      <a href='vscode-notebook-cell:/home/teo/OpenMined/PySyft/notebooks/Experimental/Teo/1B_row_dp.ipynb#W1sZmlsZQ%3D%3D?line=7'>8</a>\u001b[0m     \u001b[39mdef\u001b[39;00m \u001b[39m__init__\u001b[39m(\u001b[39mself\u001b[39m, phi_tensors: List[sy\u001b[39m.\u001b[39mPhiTensor]):\n\u001b[1;32m      <a href='vscode-notebook-cell:/home/teo/OpenMined/PySyft/notebooks/Experimental/Teo/1B_row_dp.ipynb#W1sZmlsZQ%3D%3D?line=8'>9</a>\u001b[0m         phi_tensors \u001b[39m=\u001b[39m np\u001b[39m.\u001b[39marray(phi_tensors)\n",
      "\u001b[0;31mNameError\u001b[0m: name 'np' is not defined"
     ]
    }
   ],
   "source": [
    "class MultiRowPhiTensor(): \n",
    "    \"\"\"\n",
    "    This class acts like a wrapper over multiple PhiTensors that will offer an helpful API\n",
    "    instead of having the user to work with multiple PhiTensors of the same structure \n",
    "    \"\"\"\n",
    "    phi_tensors: np.array[sy.PhiTensor]\n",
    "    \n",
    "    def __init__(self, phi_tensors: List[sy.PhiTensor]):\n",
    "        phi_tensors = np.array(phi_tensors)\n",
    "        \n",
    "    def execute_op(self, op, args, kwargs) -> MultiRowPhiTensor:\n",
    "        return MultiRowPhiTensor(self.phi_tensors.apply(op, args, kwargs))\n",
    "        \n",
    "    def reduce_op(self, op, args, kwargs) -> sy.GammaTensor:\n",
    "        return functools.reduce(op, self.phi_tensors)\n",
    "    \n",
    "    def to_flex(self):\n",
    "        return MultiFlexPhiTensor(self.phi_tensors)\n",
    "        \n",
    "        \n",
    "class MultiFlexPhiTensor():\n",
    "    \"\"\"\n",
    "    This structure is closer to the old PhiTensor, \n",
    "    as each value has mapped a DataSubject or DataSubjectArray\n",
    "    \"\"\"\n",
    "    data_subjects_indices: np.array\n",
    "    data: np.array\n",
    "    lower_bounds: np.array\n",
    "    upper_bounds: np.array\n",
    "    shallow_compute: bool = False\n",
    "    \n",
    "    \n",
    "    def __init__(self, phi_tensors: List[sy.PhiTensor]):\n",
    "        data_subjects = [phi_tensor.data_subject for phi_tensor in phi_tensors]\n",
    "        data = np.array([phi_tensor.data for phi_tensor in phi_tensors])\n",
    "        shape = (len(phi_tensors) *phi_tensors[0].shape)\n",
    "        lower_bounds = sy.lazyrepeatarray([phi_tensor.lower_bound for phi_tensor in self.phi_tensors], shape=shape)\n",
    "        upper_bounds = sy.lazyrepeatarray([phi_tensor.upper_bound for phi_tensor in self.phi_tensors], shape=shape)\n",
    "    \n",
    "    def __init__(self, data, data_subjects_indices, lower_bounds_array, upper_bounds_array):\n",
    "        \n",
    "        if not data.shape == data_subjects_indices.shape == lower_bounds_array.shape == upper_bounds_array.shape:\n",
    "            raise Exception\n",
    "        \n",
    "        self.data = data\n",
    "        self.data_subjects_indices == data_subjects_indices\n",
    "        self.lower_bounds = lower_bounds_array\n",
    "        self.upper_bounds = upper_bounds_array\n",
    "    \n",
    "    def ispublic(other):\n",
    "        return False\n",
    "    \n",
    "    def __add__(self, other):\n",
    "        if ispublic(other):\n",
    "            data = self.data + other\n",
    "            lower_bounds = self.lower_bounds + other\n",
    "            upper_bounds = self.upper_bounds + other\n",
    "            data_subjects_indices = self.data_subjects_indices\n",
    "        else: \n",
    "            data_subjects_match = (self.data_subjects_indices == other.data_subject_indices).all()\n",
    "            if data_subjects_match:\n",
    "                data_subjects_indices = self.data_subjects_indices\n",
    "                data = self.data + other.data\n",
    "                lower_bounds = self.lower_bounds + other.lower_bounds\n",
    "                upper_bounds = self.upper_bounds + other.upper_bounds\n",
    "            else:\n",
    "                return self.gamma + other.gamma\n",
    "        \n",
    "        return MultiFlexPhiTensor(...)    \n",
    "    \n",
    "    \n",
    "    "
   ]
  },
  {
   "cell_type": "code",
   "execution_count": null,
   "metadata": {},
   "outputs": [],
   "source": [
    "# for simple operations:\n",
    "phi_tensors_obj = MultiRowPhiTensor(...)\n",
    "phi_tensors_obj *= 2\n",
    "phi_tensors_obj.sum()"
   ]
  },
  {
   "cell_type": "code",
   "execution_count": null,
   "metadata": {},
   "outputs": [],
   "source": [
    "phi_tensors_obj = MultiFlexPhiTensor(...)\n",
    "phi_tensors_obj.T \n",
    "phi_tensors_obj @ phi_tensors_obj"
   ]
  },
  {
   "cell_type": "code",
   "execution_count": null,
   "metadata": {},
   "outputs": [],
   "source": [
    "class PhiTensor():\n",
    "    child: comp_array\n",
    "    bounds: comp_array\n",
    "    data_subject: sy.DataSubject\n",
    "    \n",
    "    def __array_interface__():\n",
    "        "
   ]
  },
  {
   "cell_type": "code",
   "execution_count": null,
   "metadata": {},
   "outputs": [],
   "source": [
    "x,y,z = PhiTensor(...)\n",
    "np.array(x,y,z)"
   ]
  },
  {
   "cell_type": "code",
   "execution_count": null,
   "metadata": {},
   "outputs": [],
   "source": []
  },
  {
   "cell_type": "code",
   "execution_count": null,
   "metadata": {},
   "outputs": [],
   "source": []
  }
 ],
 "metadata": {
  "kernelspec": {
   "display_name": "PySyft",
   "language": "python",
   "name": "python3"
  },
  "language_info": {
   "codemirror_mode": {
    "name": "ipython",
    "version": 3
   },
   "file_extension": ".py",
   "mimetype": "text/x-python",
   "name": "python",
   "nbconvert_exporter": "python",
   "pygments_lexer": "ipython3",
   "version": "3.10.4 (main, Mar 31 2022, 08:41:55) [GCC 7.5.0]"
  },
  "orig_nbformat": 4,
  "vscode": {
   "interpreter": {
    "hash": "4793a45c21657cf3d03167fad0b0286070df6dcd03825f60c6ea99cbb4eef702"
   }
  }
 },
 "nbformat": 4,
 "nbformat_minor": 2
}
