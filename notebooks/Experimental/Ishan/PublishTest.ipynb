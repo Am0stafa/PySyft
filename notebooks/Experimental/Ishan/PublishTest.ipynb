{
 "cells": [
  {
   "cell_type": "markdown",
   "id": "a1668f2c-0b4d-4fd1-86db-073d22cb5a74",
   "metadata": {},
   "source": [
    "# TODO\n",
    "\n",
    "QOL\n",
    "- Make sum work directly on Private Syft Tensors, instead of having to call it on Tensor.child"
   ]
  },
  {
   "cell_type": "code",
   "execution_count": 19,
   "id": "5c82aca2-4c82-496d-8178-abaa1beff3dc",
   "metadata": {},
   "outputs": [
    {
     "name": "stderr",
     "output_type": "stream",
     "text": [
      "UsageError: Line magic function `%%autoreload` not found.\n"
     ]
    }
   ],
   "source": [
    "%load_ext autoreload\n",
    "%%autoreload"
   ]
  },
  {
   "cell_type": "code",
   "execution_count": 1,
   "id": "8c6190a3-0302-4e3e-92c1-88c16941284d",
   "metadata": {},
   "outputs": [],
   "source": [
    "import syft as sy\n",
    "import numpy as np\n",
    "from syft.core.adp.entity import DataSubject"
   ]
  },
  {
   "cell_type": "code",
   "execution_count": 2,
   "id": "958f03ce-7b93-4a72-933e-a19c92bb3d78",
   "metadata": {},
   "outputs": [],
   "source": [
    "person1 = DataSubject(name=\"1\")\n",
    "person2 = DataSubject(name=\"2\")\n",
    "\n",
    "entities = np.random.choice([person1, person2], size=10**6)"
   ]
  },
  {
   "cell_type": "code",
   "execution_count": 3,
   "id": "50d66b2e-e1d0-493a-9a1d-84b0a8e83287",
   "metadata": {},
   "outputs": [],
   "source": [
    "tensor = sy.Tensor(np.ones(10**6, dtype=np.int32)).private(min_val=0, max_val=2, entities=entities)"
   ]
  },
  {
   "cell_type": "code",
   "execution_count": 4,
   "id": "e57aaa42-3d61-4b78-b745-3986f306a3b7",
   "metadata": {},
   "outputs": [],
   "source": [
    "from syft.core.tensor.autodp.ndim_entity_phi import PhiTensor as NDEPT\n",
    "assert isinstance(tensor.child, NDEPT), f\"Please double check that 'ndept' is set to True in the _private() method in the ancestors.py file\""
   ]
  },
  {
   "cell_type": "code",
   "execution_count": 1,
   "id": "49d40f88-8eda-40ee-b2ea-f2e90826d3e1",
   "metadata": {
    "collapsed": true,
    "jupyter": {
     "outputs_hidden": true
    },
    "tags": []
   },
   "outputs": [],
   "source": [
    "result = tensor.sum()"
   ]
  },
  {
   "cell_type": "code",
   "execution_count": 5,
   "id": "c0f902b5-2b67-4847-92f0-6190e3e6ed49",
   "metadata": {},
   "outputs": [],
   "source": [
    "result = tensor.child.sum()"
   ]
  },
  {
   "cell_type": "code",
   "execution_count": 6,
   "id": "1d51045f-048b-4122-892f-36ebc1f74a75",
   "metadata": {},
   "outputs": [],
   "source": [
    "assert result.value == 10**6\n",
    "assert result.max_val/10**6 == 2"
   ]
  },
  {
   "cell_type": "code",
   "execution_count": 7,
   "id": "06ffa79a-24a1-4a9d-8d25-1a20b08d12a5",
   "metadata": {},
   "outputs": [],
   "source": [
    "from nacl.signing import VerifyKey, SigningKey\n",
    "\n",
    "key = SigningKey.generate()\n",
    "\n",
    "vk = key.verify_key"
   ]
  },
  {
   "cell_type": "code",
   "execution_count": 8,
   "id": "491fc015-8644-486d-a924-9a9a226b975e",
   "metadata": {},
   "outputs": [],
   "source": [
    "from syft.core.adp.adversarial_accountant import AdversarialAccountant\n",
    "\n",
    "acc = AdversarialAccountant()"
   ]
  },
  {
   "cell_type": "code",
   "execution_count": 9,
   "id": "e3d0e9ee-663f-4efa-8846-49fc17537f61",
   "metadata": {},
   "outputs": [
    {
     "name": "stderr",
     "output_type": "stream",
     "text": [
      "WARNING:absl:No GPU/TPU found, falling back to CPU. (Set TF_CPP_MIN_LOG_LEVEL=0 and rerun for more info.)\n"
     ]
    },
    {
     "name": "stdout",
     "output_type": "stream",
     "text": [
      "1000000000000\n",
      "4000000000000\n"
     ]
    },
    {
     "data": {
      "text/plain": [
       "DeviceArray(1, dtype=int32)"
      ]
     },
     "execution_count": 9,
     "metadata": {},
     "output_type": "execute_result"
    }
   ],
   "source": [
    "result.publish(accountant=acc, sigma=200_000, user_key=vk)"
   ]
  },
  {
   "cell_type": "code",
   "execution_count": 12,
   "id": "29303d31-c9d0-46c0-bf81-0ce131ede4d4",
   "metadata": {},
   "outputs": [],
   "source": [
    "from jax import numpy as jnp"
   ]
  },
  {
   "cell_type": "code",
   "execution_count": 13,
   "id": "76cd886c-e447-45f5-9c31-822bf4238ca8",
   "metadata": {},
   "outputs": [
    {
     "data": {
      "text/plain": [
       "2000000"
      ]
     },
     "execution_count": 13,
     "metadata": {},
     "output_type": "execute_result"
    }
   ],
   "source": [
    "result.max_val"
   ]
  },
  {
   "cell_type": "code",
   "execution_count": 14,
   "id": "13645ed3-0bae-4aa4-9fde-c6e6ae57f6ac",
   "metadata": {},
   "outputs": [
    {
     "data": {
      "text/plain": [
       "0"
      ]
     },
     "execution_count": 14,
     "metadata": {},
     "output_type": "execute_result"
    }
   ],
   "source": [
    "result.min_val"
   ]
  },
  {
   "cell_type": "code",
   "execution_count": 15,
   "id": "a54b661a-7c23-4055-8a47-b9173b36dd15",
   "metadata": {},
   "outputs": [
    {
     "data": {
      "text/plain": [
       "2000000"
      ]
     },
     "execution_count": 15,
     "metadata": {},
     "output_type": "execute_result"
    }
   ],
   "source": [
    "result.max_val - result.min_val"
   ]
  },
  {
   "cell_type": "code",
   "execution_count": 17,
   "id": "180e8189-cd40-4ff6-a23f-5adca7cfe9b1",
   "metadata": {},
   "outputs": [
    {
     "data": {
      "text/plain": [
       "DeviceArray(1385447424, dtype=int32)"
      ]
     },
     "execution_count": 17,
     "metadata": {},
     "output_type": "execute_result"
    }
   ],
   "source": [
    "jnp.sum(jnp.square(result.max_val - result.min_val))"
   ]
  },
  {
   "cell_type": "code",
   "execution_count": 19,
   "id": "4f0da028-6b7b-426a-82ed-2ef436404e10",
   "metadata": {},
   "outputs": [
    {
     "data": {
      "text/plain": [
       "DeviceArray(-727379968, dtype=int32)"
      ]
     },
     "execution_count": 19,
     "metadata": {},
     "output_type": "execute_result"
    }
   ],
   "source": [
    "jnp.sum(jnp.square(result.value))"
   ]
  },
  {
   "cell_type": "code",
   "execution_count": 18,
   "id": "5bece405-8e44-4001-80b6-b08d5628cea4",
   "metadata": {},
   "outputs": [
    {
     "data": {
      "text/plain": [
       "1000000"
      ]
     },
     "execution_count": 18,
     "metadata": {},
     "output_type": "execute_result"
    }
   ],
   "source": [
    "result.value"
   ]
  },
  {
   "cell_type": "code",
   "execution_count": 19,
   "id": "580a5e92-bdc5-4f83-977f-6b7e0bb26b76",
   "metadata": {},
   "outputs": [
    {
     "data": {
      "text/plain": [
       "1000000000000"
      ]
     },
     "execution_count": 19,
     "metadata": {},
     "output_type": "execute_result"
    }
   ],
   "source": [
    "np.square(result.value)  # Correct"
   ]
  },
  {
   "cell_type": "code",
   "execution_count": 20,
   "id": "828a4d87-bd96-4cf4-a44c-31326dde3705",
   "metadata": {},
   "outputs": [
    {
     "data": {
      "text/plain": [
       "DeviceArray(-727379968, dtype=int32)"
      ]
     },
     "execution_count": 20,
     "metadata": {},
     "output_type": "execute_result"
    }
   ],
   "source": [
    "jnp.square(result.value)  # ERROR!!"
   ]
  },
  {
   "cell_type": "code",
   "execution_count": 21,
   "id": "52297b4f-e313-4301-aa59-1bc34310a39b",
   "metadata": {},
   "outputs": [
    {
     "data": {
      "text/plain": [
       "DeviceArray(nan, dtype=float32)"
      ]
     },
     "execution_count": 21,
     "metadata": {},
     "output_type": "execute_result"
    }
   ],
   "source": [
    "jnp.sqrt(jnp.sum(jnp.square(result.value)))"
   ]
  },
  {
   "cell_type": "code",
   "execution_count": 23,
   "id": "6ca62a2d-29db-4bfb-86d1-7fc7f67de9fa",
   "metadata": {},
   "outputs": [
    {
     "data": {
      "text/plain": [
       "1000000.0"
      ]
     },
     "execution_count": 23,
     "metadata": {},
     "output_type": "execute_result"
    }
   ],
   "source": [
    "result.value.mean()"
   ]
  },
  {
   "cell_type": "code",
   "execution_count": 26,
   "id": "24790f2d-2028-44b3-8825-24b485310bea",
   "metadata": {},
   "outputs": [
    {
     "data": {
      "text/plain": [
       "DeviceArray(1000., dtype=float32)"
      ]
     },
     "execution_count": 26,
     "metadata": {},
     "output_type": "execute_result"
    }
   ],
   "source": [
    "jnp.sqrt(jnp.sum(result.value))"
   ]
  },
  {
   "cell_type": "code",
   "execution_count": 25,
   "id": "4ac4a3c4-ec6e-4b9e-9446-bd16f7c288a4",
   "metadata": {},
   "outputs": [
    {
     "data": {
      "text/plain": [
       "1000000000000"
      ]
     },
     "execution_count": 25,
     "metadata": {},
     "output_type": "execute_result"
    }
   ],
   "source": [
    "import numpy as np\n",
    "np.square(result.value)"
   ]
  },
  {
   "cell_type": "code",
   "execution_count": 27,
   "id": "2702ef5e-4a9d-4ad5-95db-dc847ef70513",
   "metadata": {},
   "outputs": [
    {
     "name": "stdout",
     "output_type": "stream",
     "text": [
      "7.4 µs ± 155 ns per loop (mean ± std. dev. of 7 runs, 100,000 loops each)\n"
     ]
    }
   ],
   "source": [
    "%%timeit\n",
    "np.sqrt(np.sum(np.square(result.value)))"
   ]
  },
  {
   "cell_type": "code",
   "execution_count": 28,
   "id": "9e458d04-ef50-4595-9f61-9ca9970c5daa",
   "metadata": {},
   "outputs": [
    {
     "name": "stdout",
     "output_type": "stream",
     "text": [
      "11.2 µs ± 113 ns per loop (mean ± std. dev. of 7 runs, 100,000 loops each)\n"
     ]
    }
   ],
   "source": [
    "%%timeit\n",
    "jnp.sqrt(jnp.sum(jnp.square(result.value)))"
   ]
  },
  {
   "cell_type": "code",
   "execution_count": 29,
   "id": "d1990bed-793f-412e-9b34-f48850a3c38b",
   "metadata": {},
   "outputs": [
    {
     "name": "stdout",
     "output_type": "stream",
     "text": [
      "CPU times: user 147 µs, sys: 5 µs, total: 152 µs\n",
      "Wall time: 168 µs\n"
     ]
    },
    {
     "data": {
      "text/plain": [
       "1000000.0"
      ]
     },
     "execution_count": 29,
     "metadata": {},
     "output_type": "execute_result"
    }
   ],
   "source": [
    "%%time\n",
    "np.sqrt(np.sum(np.square(result.value)))"
   ]
  },
  {
   "cell_type": "code",
   "execution_count": 30,
   "id": "068fed2c-bc65-4442-ad3c-ef2808c1cffe",
   "metadata": {},
   "outputs": [
    {
     "name": "stdout",
     "output_type": "stream",
     "text": [
      "CPU times: user 479 µs, sys: 17 µs, total: 496 µs\n",
      "Wall time: 352 µs\n"
     ]
    },
    {
     "data": {
      "text/plain": [
       "DeviceArray(nan, dtype=float32)"
      ]
     },
     "execution_count": 30,
     "metadata": {},
     "output_type": "execute_result"
    }
   ],
   "source": [
    "%%time\n",
    "jnp.sqrt(jnp.sum(jnp.square(result.value)))"
   ]
  },
  {
   "cell_type": "code",
   "execution_count": 31,
   "id": "66f34137-6673-486f-821a-1367abe23625",
   "metadata": {},
   "outputs": [
    {
     "name": "stdout",
     "output_type": "stream",
     "text": [
      "CPU times: user 134 µs, sys: 5 µs, total: 139 µs\n",
      "Wall time: 156 µs\n"
     ]
    },
    {
     "data": {
      "text/plain": [
       "1000000000000"
      ]
     },
     "execution_count": 31,
     "metadata": {},
     "output_type": "execute_result"
    }
   ],
   "source": [
    "%%time\n",
    "np.sum(np.square(result.value))"
   ]
  },
  {
   "cell_type": "code",
   "execution_count": 10,
   "id": "e62ab806-3bd0-44cc-8b47-e852b53b60ac",
   "metadata": {},
   "outputs": [
    {
     "name": "stdout",
     "output_type": "stream",
     "text": [
      "CPU times: user 41 µs, sys: 3 µs, total: 44 µs\n",
      "Wall time: 52 µs\n"
     ]
    },
    {
     "data": {
      "text/plain": [
       "array(1)"
      ]
     },
     "execution_count": 10,
     "metadata": {},
     "output_type": "execute_result"
    }
   ],
   "source": [
    "%%time\n",
    "np.ones_like(result.value)"
   ]
  },
  {
   "cell_type": "code",
   "execution_count": 13,
   "id": "1133e530-7ad0-4baf-b053-0f7b38d8f6ba",
   "metadata": {},
   "outputs": [
    {
     "name": "stdout",
     "output_type": "stream",
     "text": [
      "CPU times: user 471 µs, sys: 41 µs, total: 512 µs\n",
      "Wall time: 526 µs\n"
     ]
    },
    {
     "data": {
      "text/plain": [
       "DeviceArray(1, dtype=int32)"
      ]
     },
     "execution_count": 13,
     "metadata": {},
     "output_type": "execute_result"
    }
   ],
   "source": [
    "%%time\n",
    "jnp.ones_like(result.value)"
   ]
  },
  {
   "cell_type": "code",
   "execution_count": null,
   "id": "b537903c-3d05-4d9e-8ca8-60502974861f",
   "metadata": {},
   "outputs": [],
   "source": []
  }
 ],
 "metadata": {
  "kernelspec": {
   "display_name": "Python 3.9.13 64-bit",
   "language": "python",
   "name": "python3"
  },
  "language_info": {
   "codemirror_mode": {
    "name": "ipython",
    "version": 3
   },
   "file_extension": ".py",
   "mimetype": "text/x-python",
   "name": "python",
   "nbconvert_exporter": "python",
   "pygments_lexer": "ipython3",
   "version": "3.9.13"
  },
  "vscode": {
   "interpreter": {
    "hash": "b0fa6594d8f4cbf19f97940f81e996739fb7646882a419484c72d19e05852a7e"
   }
  }
 },
 "nbformat": 4,
 "nbformat_minor": 5
}
