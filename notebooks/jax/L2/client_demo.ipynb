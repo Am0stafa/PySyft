{
 "cells": [
  {
   "attachments": {},
   "cell_type": "markdown",
   "metadata": {},
   "source": [
    "# Jax Level 2"
   ]
  },
  {
   "cell_type": "code",
   "execution_count": 30,
   "metadata": {},
   "outputs": [
    {
     "name": "stdout",
     "output_type": "stream",
     "text": [
      "> Worker: Command_center - 724e8da3a2c34f688961909ac6b624b6 - NodeType.DOMAIN\n",
      "\n",
      "Services:\n",
      "ActionService\n",
      "DataSubjectMemberService\n",
      "DataSubjectService\n",
      "DatasetService\n",
      "MessageService\n",
      "MetadataService\n",
      "NetworkService\n",
      "PolicyService\n",
      "ProjectService\n",
      "RequestService\n",
      "UserCodeService\n",
      "UserService\n"
     ]
    }
   ],
   "source": [
    "import syft as sy\n",
    "worker = sy.Worker(name=\"Command_center\")\n",
    "root_domain_client = worker.root_client\n",
    "jax = root_domain_client.api.lib.jax"
   ]
  },
  {
   "cell_type": "code",
   "execution_count": 31,
   "metadata": {},
   "outputs": [
    {
     "data": {
      "text/plain": [
       "├───jax.numpy (ALL_EXECUTE)\n",
       "│    ├───fft (ALL_EXECUTE)\n",
       "│    │    ├───ifft (ALL_EXECUTE)\n",
       "│    │    ├───ifft2 (ALL_EXECUTE)\n",
       "│    │    ├───ifftn (ALL_EXECUTE)\n",
       "│    │    ├───ifftshift (ALL_EXECUTE)\n",
       "│    │    ├───ihfft (ALL_EXECUTE)\n",
       "│    │    ├───irfft (ALL_EXECUTE)\n",
       "│    │    ├───irfft2 (ALL_EXECUTE)\n",
       "│    │    ├───irfftn (ALL_EXECUTE)\n",
       "│    │    ├───fft (ALL_EXECUTE)\n",
       "│    │    ├───fft2 (ALL_EXECUTE)\n",
       "│    │    ├───fftfreq (ALL_EXECUTE)\n",
       "│    │    ├───fftn (ALL_EXECUTE)\n",
       "│    │    ├───fftshift (ALL_EXECUTE)\n",
       "│    │    ├───hfft (ALL_EXECUTE)\n",
       "│    │    ├───rfft (ALL_EXECUTE)\n",
       "│    │    ├───rfft2 (ALL_EXECUTE)\n",
       "│    │    ├───rfftfreq (ALL_EXECUTE)\n",
       "│    │    └───rfftn (ALL_EXECUTE)\n",
       "│    ├───linalg (ALL_EXECUTE)\n",
       "│    │    ├───cholesky (ALL_EXECUTE)\n",
       "│    │    ├───det (ALL_EXECUTE)\n",
       "│    │    ├───eig (ALL_EXECUTE)\n",
       "│    │    ├───eigh (ALL_EXECUTE)\n",
       "│    │    ├───eigvals (ALL_EXECUTE)\n",
       "│    │    ├───eigvalsh (ALL_EXECUTE)\n",
       "│    │    ├───inv (ALL_EXECUTE)\n",
       "│    │    ├───lstsq (ALL_EXECUTE)\n",
       "│    │    ├───matrix_power (ALL_EXECUTE)\n",
       "│    │    ├───matrix_rank (ALL_EXECUTE)\n",
       "│    │    ├───norm (ALL_EXECUTE)\n",
       "│    │    ├───pinv (ALL_EXECUTE)\n",
       "│    │    ├───qr (ALL_EXECUTE)\n",
       "│    │    ├───slogdet (ALL_EXECUTE)\n",
       "│    │    ├───solve (ALL_EXECUTE)\n",
       "│    │    ├───svd (ALL_EXECUTE)\n",
       "│    │    ├───cond (ALL_EXECUTE)\n",
       "│    │    ├───multi_dot (ALL_EXECUTE)\n",
       "│    │    ├───tensorinv (ALL_EXECUTE)\n",
       "│    │    └───tensorsolve (ALL_EXECUTE)\n",
       "│    ├───DeviceArray (ALL_EXECUTE)\n",
       "│    ├───allclose (ALL_EXECUTE)\n",
       "│    ├───angle (ALL_EXECUTE)\n",
       "│    ├───append (ALL_EXECUTE)\n",
       "│    ├───apply_along_axis (ALL_EXECUTE)\n",
       "│    ├───apply_over_axes (ALL_EXECUTE)\n",
       "│    ├───arange (ALL_EXECUTE)\n",
       "│    ├───argmax (ALL_EXECUTE)\n",
       "│    ├───argmin (ALL_EXECUTE)\n",
       "│    ├───argsort (ALL_EXECUTE)\n",
       "│    ├───argwhere (ALL_EXECUTE)\n",
       "│    ├───around (ALL_EXECUTE)\n",
       "│    ├───array (ALL_EXECUTE)\n",
       "│    ├───array_equal (ALL_EXECUTE)\n",
       "│    ├───array_equiv (ALL_EXECUTE)\n",
       "│    ├───array_split (ALL_EXECUTE)\n",
       "│    ├───asarray (ALL_EXECUTE)\n",
       "│    ├───atleast_1d (ALL_EXECUTE)\n",
       "│    ├───atleast_2d (ALL_EXECUTE)\n",
       "│    ├───atleast_3d (ALL_EXECUTE)\n",
       "│    ├───bartlett (ALL_EXECUTE)\n",
       "│    ├───bfloat16 (ALL_EXECUTE)\n",
       "│    ├───bincount (ALL_EXECUTE)\n",
       "│    ├───blackman (ALL_EXECUTE)\n",
       "│    ├───block (ALL_EXECUTE)\n",
       "│    ├───bool_ (ALL_EXECUTE)\n",
       "│    ├───broadcast_arrays (ALL_EXECUTE)\n",
       "│    ├───broadcast_shapes (ALL_EXECUTE)\n",
       "│    ├───broadcast_to (ALL_EXECUTE)\n",
       "│    ├───cdouble (ALL_EXECUTE)\n",
       "│    ├───choose (ALL_EXECUTE)\n",
       "│    ├───clip (ALL_EXECUTE)\n",
       "│    ├───column_stack (ALL_EXECUTE)\n",
       "│    ├───complex128 (ALL_EXECUTE)\n",
       "│    ├───complex64 (ALL_EXECUTE)\n",
       "│    ├───complex_ (ALL_EXECUTE)\n",
       "│    ├───compress (ALL_EXECUTE)\n",
       "│    ├───concatenate (ALL_EXECUTE)\n",
       "│    ├───convolve (ALL_EXECUTE)\n",
       "│    ├───copy (ALL_EXECUTE)\n",
       "│    ├───corrcoef (ALL_EXECUTE)\n",
       "│    ├───correlate (ALL_EXECUTE)\n",
       "│    ├───cov (ALL_EXECUTE)\n",
       "│    ├───cross (ALL_EXECUTE)\n",
       "│    ├───csingle (ALL_EXECUTE)\n",
       "│    ├───delete (ALL_EXECUTE)\n",
       "│    ├───diag (ALL_EXECUTE)\n",
       "│    ├───diagflat (ALL_EXECUTE)\n",
       "│    ├───diag_indices (ALL_EXECUTE)\n",
       "│    ├───diag_indices_from (ALL_EXECUTE)\n",
       "│    ├───diagonal (ALL_EXECUTE)\n",
       "│    ├───diff (ALL_EXECUTE)\n",
       "│    ├───digitize (ALL_EXECUTE)\n",
       "│    ├───dot (ALL_EXECUTE)\n",
       "│    ├───double (ALL_EXECUTE)\n",
       "│    ├───dsplit (ALL_EXECUTE)\n",
       "│    ├───dstack (ALL_EXECUTE)\n",
       "│    ├───ediff1d (ALL_EXECUTE)\n",
       "│    ├───einsum (ALL_EXECUTE)\n",
       "│    ├───einsum_path (ALL_EXECUTE)\n",
       "│    ├───empty (ALL_EXECUTE)\n",
       "│    ├───empty_like (ALL_EXECUTE)\n",
       "│    ├───expand_dims (ALL_EXECUTE)\n",
       "│    ├───extract (ALL_EXECUTE)\n",
       "│    ├───eye (ALL_EXECUTE)\n",
       "│    ├───finfo (ALL_EXECUTE)\n",
       "│    ├───fix (ALL_EXECUTE)\n",
       "│    ├───flatnonzero (ALL_EXECUTE)\n",
       "│    ├───flip (ALL_EXECUTE)\n",
       "│    ├───fliplr (ALL_EXECUTE)\n",
       "│    ├───flipud (ALL_EXECUTE)\n",
       "│    ├───float16 (ALL_EXECUTE)\n",
       "│    ├───float32 (ALL_EXECUTE)\n",
       "│    ├───float64 (ALL_EXECUTE)\n",
       "│    ├───float_ (ALL_EXECUTE)\n",
       "│    ├───fmax (ALL_EXECUTE)\n",
       "│    ├───fmin (ALL_EXECUTE)\n",
       "│    ├───frombuffer (ALL_EXECUTE)\n",
       "│    ├───fromfile (ALL_EXECUTE)\n",
       "│    ├───fromfunction (ALL_EXECUTE)\n",
       "│    ├───fromiter (ALL_EXECUTE)\n",
       "│    ├───fromstring (ALL_EXECUTE)\n",
       "│    ├───full (ALL_EXECUTE)\n",
       "│    ├───full_like (ALL_EXECUTE)\n",
       "│    ├───gcd (ALL_EXECUTE)\n",
       "│    ├───geomspace (ALL_EXECUTE)\n",
       "│    ├───gradient (ALL_EXECUTE)\n",
       "│    ├───hamming (ALL_EXECUTE)\n",
       "│    ├───hanning (ALL_EXECUTE)\n",
       "│    ├───histogram (ALL_EXECUTE)\n",
       "│    ├───histogram_bin_edges (ALL_EXECUTE)\n",
       "│    ├───histogram2d (ALL_EXECUTE)\n",
       "│    ├───histogramdd (ALL_EXECUTE)\n",
       "│    ├───hsplit (ALL_EXECUTE)\n",
       "│    ├───hstack (ALL_EXECUTE)\n",
       "│    ├───i0 (ALL_EXECUTE)\n",
       "│    ├───identity (ALL_EXECUTE)\n",
       "│    ├───indices (ALL_EXECUTE)\n",
       "│    ├───inner (ALL_EXECUTE)\n",
       "│    ├───insert (ALL_EXECUTE)\n",
       "│    ├───int16 (ALL_EXECUTE)\n",
       "│    ├───int32 (ALL_EXECUTE)\n",
       "│    ├───int64 (ALL_EXECUTE)\n",
       "│    ├───int8 (ALL_EXECUTE)\n",
       "│    ├───int_ (ALL_EXECUTE)\n",
       "│    ├───interp (ALL_EXECUTE)\n",
       "│    ├───isclose (ALL_EXECUTE)\n",
       "│    ├───iscomplex (ALL_EXECUTE)\n",
       "│    ├───isreal (ALL_EXECUTE)\n",
       "│    ├───isrealobj (ALL_EXECUTE)\n",
       "│    ├───isscalar (ALL_EXECUTE)\n",
       "│    ├───issubdtype (ALL_EXECUTE)\n",
       "│    ├───ix_ (ALL_EXECUTE)\n",
       "│    ├───kaiser (ALL_EXECUTE)\n",
       "│    ├───kron (ALL_EXECUTE)\n",
       "│    ├───lcm (ALL_EXECUTE)\n",
       "│    ├───lexsort (ALL_EXECUTE)\n",
       "│    ├───linspace (ALL_EXECUTE)\n",
       "│    ├───load (ALL_EXECUTE)\n",
       "│    ├───logspace (ALL_EXECUTE)\n",
       "│    ├───mask_indices (ALL_EXECUTE)\n",
       "│    ├───matmul (ALL_EXECUTE)\n",
       "│    ├───median (ALL_EXECUTE)\n",
       "│    ├───meshgrid (ALL_EXECUTE)\n",
       "│    ├───moveaxis (ALL_EXECUTE)\n",
       "│    ├───msort (ALL_EXECUTE)\n",
       "│    ├───nan_to_num (ALL_EXECUTE)\n",
       "│    ├───nanargmax (ALL_EXECUTE)\n",
       "│    ├───nanargmin (ALL_EXECUTE)\n",
       "│    ├───nanmedian (ALL_EXECUTE)\n",
       "│    ├───nanpercentile (ALL_EXECUTE)\n",
       "│    ├───nanquantile (ALL_EXECUTE)\n",
       "│    ├───ndarray (ALL_EXECUTE)\n",
       "│    ├───nonzero (ALL_EXECUTE)\n",
       "│    ├───ones (ALL_EXECUTE)\n",
       "│    ├───ones_like (ALL_EXECUTE)\n",
       "│    ├───outer (ALL_EXECUTE)\n",
       "│    ├───packbits (ALL_EXECUTE)\n",
       "│    ├───pad (ALL_EXECUTE)\n",
       "│    ├───percentile (ALL_EXECUTE)\n",
       "│    ├───piecewise (ALL_EXECUTE)\n",
       "│    ├───promote_types (ALL_EXECUTE)\n",
       "│    ├───quantile (ALL_EXECUTE)\n",
       "│    ├───ravel (ALL_EXECUTE)\n",
       "│    ├───ravel_multi_index (ALL_EXECUTE)\n",
       "│    ├───repeat (ALL_EXECUTE)\n",
       "│    ├───reshape (ALL_EXECUTE)\n",
       "│    ├───resize (ALL_EXECUTE)\n",
       "│    ├───result_type (ALL_EXECUTE)\n",
       "│    ├───roll (ALL_EXECUTE)\n",
       "│    ├───rollaxis (ALL_EXECUTE)\n",
       "│    ├───rot90 (ALL_EXECUTE)\n",
       "│    ├───round (ALL_EXECUTE)\n",
       "│    ├───round_ (ALL_EXECUTE)\n",
       "│    ├───row_stack (ALL_EXECUTE)\n",
       "│    ├───searchsorted (ALL_EXECUTE)\n",
       "│    ├───select (ALL_EXECUTE)\n",
       "│    ├───single (ALL_EXECUTE)\n",
       "│    ├───sort (ALL_EXECUTE)\n",
       "│    ├───sort_complex (ALL_EXECUTE)\n",
       "│    ├───split (ALL_EXECUTE)\n",
       "│    ├───squeeze (ALL_EXECUTE)\n",
       "│    ├───stack (ALL_EXECUTE)\n",
       "│    ├───swapaxes (ALL_EXECUTE)\n",
       "│    ├───take (ALL_EXECUTE)\n",
       "│    ├───take_along_axis (ALL_EXECUTE)\n",
       "│    ├───tensordot (ALL_EXECUTE)\n",
       "│    ├───tile (ALL_EXECUTE)\n",
       "│    ├───trace (ALL_EXECUTE)\n",
       "│    ├───trapz (ALL_EXECUTE)\n",
       "│    ├───transpose (ALL_EXECUTE)\n",
       "│    ├───tri (ALL_EXECUTE)\n",
       "│    ├───tril (ALL_EXECUTE)\n",
       "│    ├───tril_indices (ALL_EXECUTE)\n",
       "│    ├───tril_indices_from (ALL_EXECUTE)\n",
       "│    ├───trim_zeros (ALL_EXECUTE)\n",
       "│    ├───triu (ALL_EXECUTE)\n",
       "│    ├───triu_indices (ALL_EXECUTE)\n",
       "│    ├───triu_indices_from (ALL_EXECUTE)\n",
       "│    ├───trunc (ALL_EXECUTE)\n",
       "│    ├───uint (ALL_EXECUTE)\n",
       "│    ├───uint16 (ALL_EXECUTE)\n",
       "│    ├───uint32 (ALL_EXECUTE)\n",
       "│    ├───uint64 (ALL_EXECUTE)\n",
       "│    ├───uint8 (ALL_EXECUTE)\n",
       "│    ├───unpackbits (ALL_EXECUTE)\n",
       "│    ├───unravel_index (ALL_EXECUTE)\n",
       "│    ├───unwrap (ALL_EXECUTE)\n",
       "│    ├───vander (ALL_EXECUTE)\n",
       "│    ├───vdot (ALL_EXECUTE)\n",
       "│    ├───vsplit (ALL_EXECUTE)\n",
       "│    ├───vstack (ALL_EXECUTE)\n",
       "│    ├───where (ALL_EXECUTE)\n",
       "│    ├───zeros (ALL_EXECUTE)\n",
       "│    ├───zeros_like (ALL_EXECUTE)\n",
       "│    ├───poly (ALL_EXECUTE)\n",
       "│    ├───polyadd (ALL_EXECUTE)\n",
       "│    ├───polyder (ALL_EXECUTE)\n",
       "│    ├───polydiv (ALL_EXECUTE)\n",
       "│    ├───polyfit (ALL_EXECUTE)\n",
       "│    ├───polyint (ALL_EXECUTE)\n",
       "│    ├───polymul (ALL_EXECUTE)\n",
       "│    ├───polysub (ALL_EXECUTE)\n",
       "│    ├───polyval (ALL_EXECUTE)\n",
       "│    ├───roots (ALL_EXECUTE)\n",
       "│    ├───alltrue (ALL_EXECUTE)\n",
       "│    ├───amin (ALL_EXECUTE)\n",
       "│    ├───amax (ALL_EXECUTE)\n",
       "│    ├───any (ALL_EXECUTE)\n",
       "│    ├───all (ALL_EXECUTE)\n",
       "│    ├───average (ALL_EXECUTE)\n",
       "│    ├───count_nonzero (ALL_EXECUTE)\n",
       "│    ├───cumsum (ALL_EXECUTE)\n",
       "│    ├───cumprod (ALL_EXECUTE)\n",
       "│    ├───cumproduct (ALL_EXECUTE)\n",
       "│    ├───max (ALL_EXECUTE)\n",
       "│    ├───mean (ALL_EXECUTE)\n",
       "│    ├───min (ALL_EXECUTE)\n",
       "│    ├───nancumsum (ALL_EXECUTE)\n",
       "│    ├───nancumprod (ALL_EXECUTE)\n",
       "│    ├───nanmax (ALL_EXECUTE)\n",
       "│    ├───nanmean (ALL_EXECUTE)\n",
       "│    ├───nanmin (ALL_EXECUTE)\n",
       "│    ├───nanprod (ALL_EXECUTE)\n",
       "│    ├───nanstd (ALL_EXECUTE)\n",
       "│    ├───nansum (ALL_EXECUTE)\n",
       "│    ├───nanvar (ALL_EXECUTE)\n",
       "│    ├───prod (ALL_EXECUTE)\n",
       "│    ├───product (ALL_EXECUTE)\n",
       "│    ├───ptp (ALL_EXECUTE)\n",
       "│    ├───sometrue (ALL_EXECUTE)\n",
       "│    ├───std (ALL_EXECUTE)\n",
       "│    ├───sum (ALL_EXECUTE)\n",
       "│    ├───var (ALL_EXECUTE)\n",
       "│    ├───in1d (ALL_EXECUTE)\n",
       "│    ├───intersect1d (ALL_EXECUTE)\n",
       "│    ├───isin (ALL_EXECUTE)\n",
       "│    ├───setdiff1d (ALL_EXECUTE)\n",
       "│    ├───setxor1d (ALL_EXECUTE)\n",
       "│    ├───union1d (ALL_EXECUTE)\n",
       "│    ├───unique (ALL_EXECUTE)\n",
       "│    ├───abs (ALL_EXECUTE)\n",
       "│    ├───absolute (ALL_EXECUTE)\n",
       "│    ├───add (ALL_EXECUTE)\n",
       "│    ├───arccos (ALL_EXECUTE)\n",
       "│    ├───arccosh (ALL_EXECUTE)\n",
       "│    ├───arcsin (ALL_EXECUTE)\n",
       "│    ├───arcsinh (ALL_EXECUTE)\n",
       "│    ├───arctan (ALL_EXECUTE)\n",
       "│    ├───arctan2 (ALL_EXECUTE)\n",
       "│    ├───arctanh (ALL_EXECUTE)\n",
       "│    ├───bitwise_and (ALL_EXECUTE)\n",
       "│    ├───bitwise_not (ALL_EXECUTE)\n",
       "│    ├───bitwise_or (ALL_EXECUTE)\n",
       "│    ├───bitwise_xor (ALL_EXECUTE)\n",
       "│    ├───cbrt (ALL_EXECUTE)\n",
       "│    ├───ceil (ALL_EXECUTE)\n",
       "│    ├───conj (ALL_EXECUTE)\n",
       "│    ├───conjugate (ALL_EXECUTE)\n",
       "│    ├───copysign (ALL_EXECUTE)\n",
       "│    ├───cos (ALL_EXECUTE)\n",
       "│    ├───cosh (ALL_EXECUTE)\n",
       "│    ├───deg2rad (ALL_EXECUTE)\n",
       "│    ├───degrees (ALL_EXECUTE)\n",
       "│    ├───divide (ALL_EXECUTE)\n",
       "│    ├───divmod (ALL_EXECUTE)\n",
       "│    ├───equal (ALL_EXECUTE)\n",
       "│    ├───exp (ALL_EXECUTE)\n",
       "│    ├───exp2 (ALL_EXECUTE)\n",
       "│    ├───expm1 (ALL_EXECUTE)\n",
       "│    ├───fabs (ALL_EXECUTE)\n",
       "│    ├───float_power (ALL_EXECUTE)\n",
       "│    ├───floor (ALL_EXECUTE)\n",
       "│    ├───floor_divide (ALL_EXECUTE)\n",
       "│    ├───fmod (ALL_EXECUTE)\n",
       "│    ├───frexp (ALL_EXECUTE)\n",
       "│    ├───greater (ALL_EXECUTE)\n",
       "│    ├───greater_equal (ALL_EXECUTE)\n",
       "│    ├───heaviside (ALL_EXECUTE)\n",
       "│    ├───hypot (ALL_EXECUTE)\n",
       "│    ├───imag (ALL_EXECUTE)\n",
       "│    ├───invert (ALL_EXECUTE)\n",
       "│    ├───isfinite (ALL_EXECUTE)\n",
       "│    ├───isinf (ALL_EXECUTE)\n",
       "│    ├───isnan (ALL_EXECUTE)\n",
       "│    ├───isneginf (ALL_EXECUTE)\n",
       "│    ├───isposinf (ALL_EXECUTE)\n",
       "│    ├───ldexp (ALL_EXECUTE)\n",
       "│    ├───left_shift (ALL_EXECUTE)\n",
       "│    ├───less (ALL_EXECUTE)\n",
       "│    ├───less_equal (ALL_EXECUTE)\n",
       "│    ├───log (ALL_EXECUTE)\n",
       "│    ├───log10 (ALL_EXECUTE)\n",
       "│    ├───log1p (ALL_EXECUTE)\n",
       "│    ├───log2 (ALL_EXECUTE)\n",
       "│    ├───logaddexp (ALL_EXECUTE)\n",
       "│    ├───logaddexp2 (ALL_EXECUTE)\n",
       "│    ├───logical_and (ALL_EXECUTE)\n",
       "│    ├───logical_not (ALL_EXECUTE)\n",
       "│    ├───logical_or (ALL_EXECUTE)\n",
       "│    ├───logical_xor (ALL_EXECUTE)\n",
       "│    ├───maximum (ALL_EXECUTE)\n",
       "│    ├───minimum (ALL_EXECUTE)\n",
       "│    ├───mod (ALL_EXECUTE)\n",
       "│    ├───modf (ALL_EXECUTE)\n",
       "│    ├───multiply (ALL_EXECUTE)\n",
       "│    ├───negative (ALL_EXECUTE)\n",
       "│    ├───nextafter (ALL_EXECUTE)\n",
       "│    ├───not_equal (ALL_EXECUTE)\n",
       "│    ├───positive (ALL_EXECUTE)\n",
       "│    ├───power (ALL_EXECUTE)\n",
       "│    ├───rad2deg (ALL_EXECUTE)\n",
       "│    ├───radians (ALL_EXECUTE)\n",
       "│    ├───real (ALL_EXECUTE)\n",
       "│    ├───reciprocal (ALL_EXECUTE)\n",
       "│    ├───remainder (ALL_EXECUTE)\n",
       "│    ├───right_shift (ALL_EXECUTE)\n",
       "│    ├───rint (ALL_EXECUTE)\n",
       "│    ├───sign (ALL_EXECUTE)\n",
       "│    ├───signbit (ALL_EXECUTE)\n",
       "│    ├───sin (ALL_EXECUTE)\n",
       "│    ├───sinc (ALL_EXECUTE)\n",
       "│    ├───sinh (ALL_EXECUTE)\n",
       "│    ├───sqrt (ALL_EXECUTE)\n",
       "│    ├───square (ALL_EXECUTE)\n",
       "│    ├───subtract (ALL_EXECUTE)\n",
       "│    ├───tan (ALL_EXECUTE)\n",
       "│    ├───tanh (ALL_EXECUTE)\n",
       "│    ├───true_divide (ALL_EXECUTE)\n",
       "│    ├───vectorize (ALL_EXECUTE)\n",
       "│    ├───_add_newdoc_ufunc (ALL_EXECUTE)\n",
       "│    ├───_get_promotion_state (ALL_EXECUTE)\n",
       "│    ├───_no_nep50_warning (ALL_EXECUTE)\n",
       "│    ├───_pyinstaller_hooks_dir (ALL_EXECUTE)\n",
       "│    ├───_set_promotion_state (ALL_EXECUTE)\n",
       "│    ├───add_docstring (ALL_EXECUTE)\n",
       "│    ├───add_newdoc (ALL_EXECUTE)\n",
       "│    ├───add_newdoc_ufunc (ALL_EXECUTE)\n",
       "│    ├───argpartition (ALL_EXECUTE)\n",
       "│    ├───array2string (ALL_EXECUTE)\n",
       "│    ├───asanyarray (ALL_EXECUTE)\n",
       "│    ├───asarray_chkfinite (ALL_EXECUTE)\n",
       "│    ├───ascontiguousarray (ALL_EXECUTE)\n",
       "│    ├───asfarray (ALL_EXECUTE)\n",
       "│    ├───asfortranarray (ALL_EXECUTE)\n",
       "│    ├───asmatrix (ALL_EXECUTE)\n",
       "│    ├───base_repr (ALL_EXECUTE)\n",
       "│    ├───binary_repr (ALL_EXECUTE)\n",
       "│    ├───bmat (ALL_EXECUTE)\n",
       "│    ├───busday_count (ALL_EXECUTE)\n",
       "│    ├───busday_offset (ALL_EXECUTE)\n",
       "│    ├───byte_bounds (ALL_EXECUTE)\n",
       "│    ├───common_type (ALL_EXECUTE)\n",
       "│    ├───compare_chararrays (ALL_EXECUTE)\n",
       "│    ├───copyto (ALL_EXECUTE)\n",
       "│    ├───datetime_as_string (ALL_EXECUTE)\n",
       "│    ├───datetime_data (ALL_EXECUTE)\n",
       "│    ├───deprecate (ALL_EXECUTE)\n",
       "│    ├───deprecate_with_doc (ALL_EXECUTE)\n",
       "│    ├───disp (ALL_EXECUTE)\n",
       "│    ├───fastCopyAndTranspose (ALL_EXECUTE)\n",
       "│    ├───fill_diagonal (ALL_EXECUTE)\n",
       "│    ├───find_common_type (ALL_EXECUTE)\n",
       "│    ├───format_float_positional (ALL_EXECUTE)\n",
       "│    ├───format_float_scientific (ALL_EXECUTE)\n",
       "│    ├───from_dlpack (ALL_EXECUTE)\n",
       "│    ├───frompyfunc (ALL_EXECUTE)\n",
       "│    ├───fromregex (ALL_EXECUTE)\n",
       "│    ├───genfromtxt (ALL_EXECUTE)\n",
       "│    ├───get_array_wrap (ALL_EXECUTE)\n",
       "│    ├───get_include (ALL_EXECUTE)\n",
       "│    ├───getbufsize (ALL_EXECUTE)\n",
       "│    ├───geterr (ALL_EXECUTE)\n",
       "│    ├───geterrcall (ALL_EXECUTE)\n",
       "│    ├───geterrobj (ALL_EXECUTE)\n",
       "│    ├───info (ALL_EXECUTE)\n",
       "│    ├───is_busday (ALL_EXECUTE)\n",
       "│    ├───isfortran (ALL_EXECUTE)\n",
       "│    ├───isnat (ALL_EXECUTE)\n",
       "│    ├───issctype (ALL_EXECUTE)\n",
       "│    ├───issubclass_ (ALL_EXECUTE)\n",
       "│    ├───loadtxt (ALL_EXECUTE)\n",
       "│    ├───lookfor (ALL_EXECUTE)\n",
       "│    ├───mat (ALL_EXECUTE)\n",
       "│    ├───maximum_sctype (ALL_EXECUTE)\n",
       "│    ├───may_share_memory (ALL_EXECUTE)\n",
       "│    ├───min_scalar_type (ALL_EXECUTE)\n",
       "│    ├───mintypecode (ALL_EXECUTE)\n",
       "│    ├───nested_iters (ALL_EXECUTE)\n",
       "│    ├───obj2sctype (ALL_EXECUTE)\n",
       "│    ├───partition (ALL_EXECUTE)\n",
       "│    ├───place (ALL_EXECUTE)\n",
       "│    ├───put (ALL_EXECUTE)\n",
       "│    ├───put_along_axis (ALL_EXECUTE)\n",
       "│    ├───putmask (ALL_EXECUTE)\n",
       "│    ├───real_if_close (ALL_EXECUTE)\n",
       "│    ├───recfromcsv (ALL_EXECUTE)\n",
       "│    ├───recfromtxt (ALL_EXECUTE)\n",
       "│    ├───require (ALL_EXECUTE)\n",
       "│    ├───safe_eval (ALL_EXECUTE)\n",
       "│    ├───savetxt (ALL_EXECUTE)\n",
       "│    ├───savez_compressed (ALL_EXECUTE)\n",
       "│    ├───sctype2char (ALL_EXECUTE)\n",
       "│    ├───set_numeric_ops (ALL_EXECUTE)\n",
       "│    ├───set_string_function (ALL_EXECUTE)\n",
       "│    ├───setbufsize (ALL_EXECUTE)\n",
       "│    ├───seterr (ALL_EXECUTE)\n",
       "│    ├───seterrcall (ALL_EXECUTE)\n",
       "│    ├───seterrobj (ALL_EXECUTE)\n",
       "│    ├───shares_memory (ALL_EXECUTE)\n",
       "│    ├───show_config (ALL_EXECUTE)\n",
       "│    ├───show_runtime (ALL_EXECUTE)\n",
       "│    ├───source (ALL_EXECUTE)\n",
       "│    ├───spacing (ALL_EXECUTE)\n",
       "│    ├───typename (ALL_EXECUTE)\n",
       "│    └───who (ALL_EXECUTE)"
      ]
     },
     "execution_count": 31,
     "metadata": {},
     "output_type": "execute_result"
    }
   ],
   "source": [
    "from syft.serde.lib_service_registry import action_execute_registry_libs\n",
    "action_execute_registry_libs.jax.numpy"
   ]
  },
  {
   "cell_type": "code",
   "execution_count": 32,
   "metadata": {},
   "outputs": [],
   "source": [
    "jax = root_domain_client.api.lib.jax\n",
    "jnp = jax.numpy"
   ]
  },
  {
   "attachments": {},
   "cell_type": "markdown",
   "metadata": {},
   "source": [
    "## The basics"
   ]
  },
  {
   "cell_type": "code",
   "execution_count": 33,
   "metadata": {},
   "outputs": [
    {
     "name": "stdout",
     "output_type": "stream",
     "text": [
      "[0 1 2 3 4 5 6 7 8 9]\n"
     ]
    }
   ],
   "source": [
    "x = jnp.arange(10)\n",
    "print(x)"
   ]
  },
  {
   "cell_type": "code",
   "execution_count": 34,
   "metadata": {},
   "outputs": [
    {
     "data": {
      "text/plain": [
       "DeviceArray([0, 1, 2, 3, 4, 5, 6, 7, 8, 9], dtype=int64)"
      ]
     },
     "execution_count": 34,
     "metadata": {},
     "output_type": "execute_result"
    }
   ],
   "source": [
    "x"
   ]
  },
  {
   "cell_type": "code",
   "execution_count": 35,
   "metadata": {},
   "outputs": [
    {
     "data": {
      "text/plain": [
       "syft.service.action.jax.DeviceArrayObject"
      ]
     },
     "execution_count": 35,
     "metadata": {},
     "output_type": "execute_result"
    }
   ],
   "source": [
    "type(x)"
   ]
  },
  {
   "attachments": {},
   "cell_type": "markdown",
   "metadata": {},
   "source": [
    "## Time difference"
   ]
  },
  {
   "cell_type": "code",
   "execution_count": 36,
   "metadata": {},
   "outputs": [
    {
     "name": "stdout",
     "output_type": "stream",
     "text": [
      "4.65 ms ± 54.9 µs per loop (mean ± std. dev. of 7 runs, 100 loops each)\n"
     ]
    }
   ],
   "source": [
    "import jax as real_jax\n",
    "long_vector = real_jax.numpy.arange(int(1e7))\n",
    "\n",
    "%timeit real_jax.numpy.dot(long_vector, long_vector).block_until_ready()"
   ]
  },
  {
   "cell_type": "code",
   "execution_count": 37,
   "metadata": {},
   "outputs": [
    {
     "name": "stdout",
     "output_type": "stream",
     "text": [
      "16.3 ms ± 404 µs per loop (mean ± std. dev. of 7 runs, 100 loops each)\n"
     ]
    }
   ],
   "source": [
    "long_vector = jnp.arange(int(1e7))\n",
    "\n",
    "%timeit jnp.dot(long_vector, long_vector).block_until_ready()"
   ]
  },
  {
   "attachments": {},
   "cell_type": "markdown",
   "metadata": {},
   "source": [
    "## JAX first transformation: grad"
   ]
  },
  {
   "cell_type": "code",
   "execution_count": 38,
   "metadata": {},
   "outputs": [],
   "source": [
    "def sum_of_squares(x):\n",
    "  return jnp.sum(x**2)"
   ]
  },
  {
   "cell_type": "code",
   "execution_count": 39,
   "metadata": {},
   "outputs": [
    {
     "ename": "KjException",
     "evalue": "capnp/message.c++:99: failed: expected segment != nullptr && segment->checkObject(segment->getStartPtr(), ONE * WORDS); Message did not contain a root pointer.\nstack: 7fa22895b734 7fa228808935 7fa22881dc0b 7fa27002426e 55c437be6cd6 55c437ba0a60 55c437b58424 55c437be3741 55c437be3db4 55c437acca50 55c437c37afc 55c437be3741 55c437b58424 55c437be3741 55c437b590b4 55c437be3741 55c437b58424 55c437be3741 55c437b58424 55c437be3741 55c437b590b4 55c437be3741 55c437c79997 55c437c7e591 55c437b58424 55c437be3741 55c437b58424 55c437be3741 55c437b58424 55c437be3741 55c437b590b4",
     "output_type": "error",
     "traceback": [
      "\u001b[0;31m---------------------------------------------------------------------------\u001b[0m",
      "\u001b[0;31mKjException\u001b[0m                               Traceback (most recent call last)",
      "\u001b[1;32m/home/teo/OpenMined/PySyft/notebooks/jax/L2/client_demo.ipynb Cell 14\u001b[0m in \u001b[0;36m1\n\u001b[0;32m----> <a href='vscode-notebook-cell:/home/teo/OpenMined/PySyft/notebooks/jax/L2/client_demo.ipynb#W6sZmlsZQ%3D%3D?line=0'>1</a>\u001b[0m sum_of_squares_dx \u001b[39m=\u001b[39m jax\u001b[39m.\u001b[39;49mgrad(sum_of_squares)\n\u001b[1;32m      <a href='vscode-notebook-cell:/home/teo/OpenMined/PySyft/notebooks/jax/L2/client_demo.ipynb#W6sZmlsZQ%3D%3D?line=2'>3</a>\u001b[0m x \u001b[39m=\u001b[39m jnp\u001b[39m.\u001b[39masarray([\u001b[39m1.0\u001b[39m, \u001b[39m2.0\u001b[39m, \u001b[39m3.0\u001b[39m, \u001b[39m4.0\u001b[39m])\n\u001b[1;32m      <a href='vscode-notebook-cell:/home/teo/OpenMined/PySyft/notebooks/jax/L2/client_demo.ipynb#W6sZmlsZQ%3D%3D?line=4'>5</a>\u001b[0m \u001b[39mprint\u001b[39m(sum_of_squares(x))\n",
      "File \u001b[0;32m~/OpenMined/PySyft/packages/syft/src/syft/client/api.py:246\u001b[0m, in \u001b[0;36mgenerate_remote_lib_function.<locals>.wrapper\u001b[0;34m(*args, **kwargs)\u001b[0m\n\u001b[1;32m    243\u001b[0m \u001b[39mfrom\u001b[39;00m \u001b[39m.\u001b[39;00m\u001b[39m.\u001b[39;00m\u001b[39mservice\u001b[39;00m\u001b[39m.\u001b[39;00m\u001b[39maction\u001b[39;00m\u001b[39m.\u001b[39;00m\u001b[39maction_object\u001b[39;00m \u001b[39mimport\u001b[39;00m Action\n\u001b[1;32m    244\u001b[0m \u001b[39mfrom\u001b[39;00m \u001b[39m.\u001b[39;00m\u001b[39m.\u001b[39;00m\u001b[39mservice\u001b[39;00m\u001b[39m.\u001b[39;00m\u001b[39maction\u001b[39;00m\u001b[39m.\u001b[39;00m\u001b[39maction_object\u001b[39;00m \u001b[39mimport\u001b[39;00m convert_to_pointers\n\u001b[0;32m--> 246\u001b[0m action_args, action_kwargs \u001b[39m=\u001b[39m convert_to_pointers(\n\u001b[1;32m    247\u001b[0m     api, node_uid, _valid_args, _valid_kwargs\n\u001b[1;32m    248\u001b[0m )\n\u001b[1;32m    250\u001b[0m \u001b[39m# e.g. numpy.array -> numpy, array\u001b[39;00m\n\u001b[1;32m    251\u001b[0m module, op \u001b[39m=\u001b[39m module_path\u001b[39m.\u001b[39mrsplit(\u001b[39m\"\u001b[39m\u001b[39m.\u001b[39m\u001b[39m\"\u001b[39m, \u001b[39m1\u001b[39m)\n",
      "File \u001b[0;32m~/OpenMined/PySyft/packages/syft/src/syft/service/action/action_object.py:229\u001b[0m, in \u001b[0;36mconvert_to_pointers\u001b[0;34m(api, node_uid, args, kwargs)\u001b[0m\n\u001b[1;32m    227\u001b[0m     arg \u001b[39m=\u001b[39m ActionObject\u001b[39m.\u001b[39mfrom_obj(arg)\n\u001b[1;32m    228\u001b[0m     arg\u001b[39m.\u001b[39msyft_node_uid \u001b[39m=\u001b[39m node_uid\n\u001b[0;32m--> 229\u001b[0m     arg \u001b[39m=\u001b[39m api\u001b[39m.\u001b[39;49mservices\u001b[39m.\u001b[39;49maction\u001b[39m.\u001b[39;49mset(arg)\n\u001b[1;32m    230\u001b[0m     \u001b[39m# arg = action_obj.send(\u001b[39;00m\n\u001b[1;32m    231\u001b[0m     \u001b[39m#     client\u001b[39;00m\n\u001b[1;32m    232\u001b[0m     \u001b[39m# )  # make sure this doesn't break things later on in send_method_action\u001b[39;00m\n\u001b[1;32m    233\u001b[0m arg_list\u001b[39m.\u001b[39mappend(arg)\n",
      "File \u001b[0;32m~/OpenMined/PySyft/packages/syft/src/syft/client/api.py:206\u001b[0m, in \u001b[0;36mgenerate_remote_function.<locals>.wrapper\u001b[0;34m(*args, **kwargs)\u001b[0m\n\u001b[1;32m    197\u001b[0m     _valid_kwargs\u001b[39m.\u001b[39mupdate(pre_kwargs)\n\u001b[1;32m    199\u001b[0m api_call \u001b[39m=\u001b[39m SyftAPICall(\n\u001b[1;32m    200\u001b[0m     node_uid\u001b[39m=\u001b[39mnode_uid,\n\u001b[1;32m    201\u001b[0m     path\u001b[39m=\u001b[39mpath,\n\u001b[0;32m   (...)\u001b[0m\n\u001b[1;32m    204\u001b[0m     blocking\u001b[39m=\u001b[39mblocking,\n\u001b[1;32m    205\u001b[0m )\n\u001b[0;32m--> 206\u001b[0m result \u001b[39m=\u001b[39m make_call(api_call\u001b[39m=\u001b[39;49mapi_call)\n\u001b[1;32m    207\u001b[0m \u001b[39mreturn\u001b[39;00m result\n",
      "File \u001b[0;32m~/OpenMined/PySyft/packages/syft/src/syft/client/api.py:412\u001b[0m, in \u001b[0;36mSyftAPI.make_call\u001b[0;34m(self, api_call)\u001b[0m\n\u001b[1;32m    410\u001b[0m \u001b[39mdef\u001b[39;00m \u001b[39mmake_call\u001b[39m(\u001b[39mself\u001b[39m, api_call: SyftAPICall) \u001b[39m-\u001b[39m\u001b[39m>\u001b[39m Result:\n\u001b[1;32m    411\u001b[0m     signed_call \u001b[39m=\u001b[39m api_call\u001b[39m.\u001b[39msign(credentials\u001b[39m=\u001b[39m\u001b[39mself\u001b[39m\u001b[39m.\u001b[39msigning_key)\n\u001b[0;32m--> 412\u001b[0m     signed_result \u001b[39m=\u001b[39m \u001b[39mself\u001b[39;49m\u001b[39m.\u001b[39;49mconnection\u001b[39m.\u001b[39;49mmake_call(signed_call)\n\u001b[1;32m    414\u001b[0m     \u001b[39mif\u001b[39;00m \u001b[39mnot\u001b[39;00m \u001b[39misinstance\u001b[39m(signed_result, SignedSyftAPICall):\n\u001b[1;32m    415\u001b[0m         \u001b[39mreturn\u001b[39;00m SyftError(message\u001b[39m=\u001b[39m\u001b[39m\"\u001b[39m\u001b[39mThe result is not signed\u001b[39m\u001b[39m\"\u001b[39m)  \u001b[39m# type: ignore\u001b[39;00m\n",
      "File \u001b[0;32m~/OpenMined/PySyft/packages/syft/src/syft/client/client.py:289\u001b[0m, in \u001b[0;36mPythonConnection.make_call\u001b[0;34m(self, signed_call)\u001b[0m\n\u001b[1;32m    288\u001b[0m \u001b[39mdef\u001b[39;00m \u001b[39mmake_call\u001b[39m(\u001b[39mself\u001b[39m, signed_call: SignedSyftAPICall) \u001b[39m-\u001b[39m\u001b[39m>\u001b[39m Union[Any, SyftError]:\n\u001b[0;32m--> 289\u001b[0m     \u001b[39mreturn\u001b[39;00m \u001b[39mself\u001b[39;49m\u001b[39m.\u001b[39;49mnode\u001b[39m.\u001b[39;49mhandle_api_call(signed_call)\n",
      "File \u001b[0;32m~/OpenMined/PySyft/packages/syft/src/syft/node/node.py:506\u001b[0m, in \u001b[0;36mNode.handle_api_call\u001b[0;34m(self, api_call)\u001b[0m\n\u001b[1;32m    502\u001b[0m \u001b[39mdef\u001b[39;00m \u001b[39mhandle_api_call\u001b[39m(\n\u001b[1;32m    503\u001b[0m     \u001b[39mself\u001b[39m, api_call: Union[SyftAPICall, SignedSyftAPICall]\n\u001b[1;32m    504\u001b[0m ) \u001b[39m-\u001b[39m\u001b[39m>\u001b[39m Result[SignedSyftAPICall, Err]:\n\u001b[1;32m    505\u001b[0m     \u001b[39m# Get the result\u001b[39;00m\n\u001b[0;32m--> 506\u001b[0m     result \u001b[39m=\u001b[39m \u001b[39mself\u001b[39;49m\u001b[39m.\u001b[39;49mhandle_api_call_with_unsigned_result(api_call)\n\u001b[1;32m    507\u001b[0m     \u001b[39m# Sign the result\u001b[39;00m\n\u001b[1;32m    508\u001b[0m     signed_result \u001b[39m=\u001b[39m SyftAPIData(data\u001b[39m=\u001b[39mresult)\u001b[39m.\u001b[39msign(\u001b[39mself\u001b[39m\u001b[39m.\u001b[39msigning_key)\n",
      "File \u001b[0;32m~/OpenMined/PySyft/packages/syft/src/syft/node/node.py:523\u001b[0m, in \u001b[0;36mNode.handle_api_call_with_unsigned_result\u001b[0;34m(self, api_call)\u001b[0m\n\u001b[1;32m    520\u001b[0m     \u001b[39mif\u001b[39;00m \u001b[39mnot\u001b[39;00m api_call\u001b[39m.\u001b[39mis_valid:\n\u001b[1;32m    521\u001b[0m         \u001b[39mreturn\u001b[39;00m SyftError(message\u001b[39m=\u001b[39m\u001b[39m\"\u001b[39m\u001b[39mYour message signature is invalid\u001b[39m\u001b[39m\"\u001b[39m)  \u001b[39m# type: ignore\u001b[39;00m\n\u001b[0;32m--> 523\u001b[0m \u001b[39mif\u001b[39;00m api_call\u001b[39m.\u001b[39;49mmessage\u001b[39m.\u001b[39mnode_uid \u001b[39m!=\u001b[39m \u001b[39mself\u001b[39m\u001b[39m.\u001b[39mid:\n\u001b[1;32m    524\u001b[0m     \u001b[39mreturn\u001b[39;00m \u001b[39mself\u001b[39m\u001b[39m.\u001b[39mforward_message(api_call\u001b[39m=\u001b[39mapi_call)\n\u001b[1;32m    526\u001b[0m \u001b[39mif\u001b[39;00m api_call\u001b[39m.\u001b[39mmessage\u001b[39m.\u001b[39mpath \u001b[39m==\u001b[39m \u001b[39m\"\u001b[39m\u001b[39mqueue\u001b[39m\u001b[39m\"\u001b[39m:\n",
      "File \u001b[0;32m~/OpenMined/PySyft/packages/syft/src/syft/client/api.py:110\u001b[0m, in \u001b[0;36mSignedSyftAPICall.message\u001b[0;34m(self)\u001b[0m\n\u001b[1;32m    107\u001b[0m     \u001b[39mself\u001b[39m\u001b[39m.\u001b[39mcached_deseralized_message \u001b[39m=\u001b[39m \u001b[39mNone\u001b[39;00m\n\u001b[1;32m    109\u001b[0m \u001b[39mif\u001b[39;00m \u001b[39mself\u001b[39m\u001b[39m.\u001b[39mcached_deseralized_message \u001b[39mis\u001b[39;00m \u001b[39mNone\u001b[39;00m:\n\u001b[0;32m--> 110\u001b[0m     \u001b[39mself\u001b[39m\u001b[39m.\u001b[39mcached_deseralized_message \u001b[39m=\u001b[39m _deserialize(\n\u001b[1;32m    111\u001b[0m         blob\u001b[39m=\u001b[39;49m\u001b[39mself\u001b[39;49m\u001b[39m.\u001b[39;49mserialized_message, from_bytes\u001b[39m=\u001b[39;49m\u001b[39mTrue\u001b[39;49;00m\n\u001b[1;32m    112\u001b[0m     )\n\u001b[1;32m    114\u001b[0m \u001b[39mreturn\u001b[39;00m \u001b[39mself\u001b[39m\u001b[39m.\u001b[39mcached_deseralized_message\n",
      "File \u001b[0;32m~/OpenMined/PySyft/packages/syft/src/syft/serde/deserialize.py:29\u001b[0m, in \u001b[0;36m_deserialize\u001b[0;34m(blob, from_proto, from_bytes)\u001b[0m\n\u001b[1;32m     26\u001b[0m     \u001b[39mraise\u001b[39;00m \u001b[39mTypeError\u001b[39;00m(\u001b[39m\"\u001b[39m\u001b[39mWrong deserialization format.\u001b[39m\u001b[39m\"\u001b[39m)\n\u001b[1;32m     28\u001b[0m \u001b[39mif\u001b[39;00m from_bytes:\n\u001b[0;32m---> 29\u001b[0m     \u001b[39mreturn\u001b[39;00m rs_bytes2object(blob)\n\u001b[1;32m     31\u001b[0m \u001b[39mif\u001b[39;00m from_proto:\n\u001b[1;32m     32\u001b[0m     \u001b[39mreturn\u001b[39;00m rs_proto2object(blob)\n",
      "File \u001b[0;32m~/OpenMined/PySyft/packages/syft/src/syft/serde/recursive.py:185\u001b[0m, in \u001b[0;36mrs_bytes2object\u001b[0;34m(blob)\u001b[0m\n\u001b[1;32m    180\u001b[0m MAX_TRAVERSAL_LIMIT \u001b[39m=\u001b[39m \u001b[39m2\u001b[39m\u001b[39m*\u001b[39m\u001b[39m*\u001b[39m\u001b[39m64\u001b[39m \u001b[39m-\u001b[39m \u001b[39m1\u001b[39m\n\u001b[1;32m    182\u001b[0m \u001b[39mwith\u001b[39;00m recursive_scheme\u001b[39m.\u001b[39mfrom_bytes(  \u001b[39m# type: ignore\u001b[39;00m\n\u001b[1;32m    183\u001b[0m     blob, traversal_limit_in_words\u001b[39m=\u001b[39mMAX_TRAVERSAL_LIMIT\n\u001b[1;32m    184\u001b[0m ) \u001b[39mas\u001b[39;00m msg:\n\u001b[0;32m--> 185\u001b[0m     \u001b[39mreturn\u001b[39;00m rs_proto2object(msg)\n",
      "File \u001b[0;32m~/OpenMined/PySyft/packages/syft/src/syft/serde/recursive.py:248\u001b[0m, in \u001b[0;36mrs_proto2object\u001b[0;34m(proto)\u001b[0m\n\u001b[1;32m    246\u001b[0m \u001b[39mfor\u001b[39;00m attr_name, attr_bytes_list \u001b[39min\u001b[39;00m \u001b[39mzip\u001b[39m(proto\u001b[39m.\u001b[39mfieldsName, proto\u001b[39m.\u001b[39mfieldsData):\n\u001b[1;32m    247\u001b[0m     attr_bytes \u001b[39m=\u001b[39m combine_bytes(attr_bytes_list)\n\u001b[0;32m--> 248\u001b[0m     attr_value \u001b[39m=\u001b[39m _deserialize(attr_bytes, from_bytes\u001b[39m=\u001b[39;49m\u001b[39mTrue\u001b[39;49;00m)\n\u001b[1;32m    249\u001b[0m     transforms \u001b[39m=\u001b[39m serde_overrides\u001b[39m.\u001b[39mget(attr_name, \u001b[39mNone\u001b[39;00m)\n\u001b[1;32m    251\u001b[0m     \u001b[39mif\u001b[39;00m transforms \u001b[39mis\u001b[39;00m \u001b[39mnot\u001b[39;00m \u001b[39mNone\u001b[39;00m:\n",
      "File \u001b[0;32m~/OpenMined/PySyft/packages/syft/src/syft/serde/deserialize.py:29\u001b[0m, in \u001b[0;36m_deserialize\u001b[0;34m(blob, from_proto, from_bytes)\u001b[0m\n\u001b[1;32m     26\u001b[0m     \u001b[39mraise\u001b[39;00m \u001b[39mTypeError\u001b[39;00m(\u001b[39m\"\u001b[39m\u001b[39mWrong deserialization format.\u001b[39m\u001b[39m\"\u001b[39m)\n\u001b[1;32m     28\u001b[0m \u001b[39mif\u001b[39;00m from_bytes:\n\u001b[0;32m---> 29\u001b[0m     \u001b[39mreturn\u001b[39;00m rs_bytes2object(blob)\n\u001b[1;32m     31\u001b[0m \u001b[39mif\u001b[39;00m from_proto:\n\u001b[1;32m     32\u001b[0m     \u001b[39mreturn\u001b[39;00m rs_proto2object(blob)\n",
      "File \u001b[0;32m~/OpenMined/PySyft/packages/syft/src/syft/serde/recursive.py:185\u001b[0m, in \u001b[0;36mrs_bytes2object\u001b[0;34m(blob)\u001b[0m\n\u001b[1;32m    180\u001b[0m MAX_TRAVERSAL_LIMIT \u001b[39m=\u001b[39m \u001b[39m2\u001b[39m\u001b[39m*\u001b[39m\u001b[39m*\u001b[39m\u001b[39m64\u001b[39m \u001b[39m-\u001b[39m \u001b[39m1\u001b[39m\n\u001b[1;32m    182\u001b[0m \u001b[39mwith\u001b[39;00m recursive_scheme\u001b[39m.\u001b[39mfrom_bytes(  \u001b[39m# type: ignore\u001b[39;00m\n\u001b[1;32m    183\u001b[0m     blob, traversal_limit_in_words\u001b[39m=\u001b[39mMAX_TRAVERSAL_LIMIT\n\u001b[1;32m    184\u001b[0m ) \u001b[39mas\u001b[39;00m msg:\n\u001b[0;32m--> 185\u001b[0m     \u001b[39mreturn\u001b[39;00m rs_proto2object(msg)\n",
      "File \u001b[0;32m~/OpenMined/PySyft/packages/syft/src/syft/serde/recursive.py:242\u001b[0m, in \u001b[0;36mrs_proto2object\u001b[0;34m(proto)\u001b[0m\n\u001b[1;32m    237\u001b[0m     \u001b[39mif\u001b[39;00m deserialize \u001b[39mis\u001b[39;00m \u001b[39mNone\u001b[39;00m:\n\u001b[1;32m    238\u001b[0m         \u001b[39mraise\u001b[39;00m \u001b[39mException\u001b[39;00m(\n\u001b[1;32m    239\u001b[0m             \u001b[39mf\u001b[39m\u001b[39m\"\u001b[39m\u001b[39mCant serialize \u001b[39m\u001b[39m{\u001b[39;00m\u001b[39mtype\u001b[39m(proto)\u001b[39m}\u001b[39;00m\u001b[39m nonrecursive without serialize.\u001b[39m\u001b[39m\"\u001b[39m\n\u001b[1;32m    240\u001b[0m         )\n\u001b[0;32m--> 242\u001b[0m     \u001b[39mreturn\u001b[39;00m deserialize(combine_bytes(proto\u001b[39m.\u001b[39;49mnonrecursiveBlob))\n\u001b[1;32m    244\u001b[0m kwargs \u001b[39m=\u001b[39m {}\n\u001b[1;32m    246\u001b[0m \u001b[39mfor\u001b[39;00m attr_name, attr_bytes_list \u001b[39min\u001b[39;00m \u001b[39mzip\u001b[39m(proto\u001b[39m.\u001b[39mfieldsName, proto\u001b[39m.\u001b[39mfieldsData):\n",
      "File \u001b[0;32m~/OpenMined/PySyft/packages/syft/src/syft/serde/recursive_primitives.py:64\u001b[0m, in \u001b[0;36mdeserialize_iterable\u001b[0;34m(iterable_type, blob)\u001b[0m\n\u001b[1;32m     60\u001b[0m \u001b[39mwith\u001b[39;00m iterable_schema\u001b[39m.\u001b[39mfrom_bytes(  \u001b[39m# type: ignore\u001b[39;00m\n\u001b[1;32m     61\u001b[0m     blob, traversal_limit_in_words\u001b[39m=\u001b[39mMAX_TRAVERSAL_LIMIT\n\u001b[1;32m     62\u001b[0m ) \u001b[39mas\u001b[39;00m msg:\n\u001b[1;32m     63\u001b[0m     \u001b[39mfor\u001b[39;00m element \u001b[39min\u001b[39;00m msg\u001b[39m.\u001b[39mvalues:\n\u001b[0;32m---> 64\u001b[0m         values\u001b[39m.\u001b[39mappend(_deserialize(combine_bytes(element), from_bytes\u001b[39m=\u001b[39;49m\u001b[39mTrue\u001b[39;49;00m))\n\u001b[1;32m     66\u001b[0m \u001b[39mreturn\u001b[39;00m iterable_type(values)\n",
      "File \u001b[0;32m~/OpenMined/PySyft/packages/syft/src/syft/serde/deserialize.py:29\u001b[0m, in \u001b[0;36m_deserialize\u001b[0;34m(blob, from_proto, from_bytes)\u001b[0m\n\u001b[1;32m     26\u001b[0m     \u001b[39mraise\u001b[39;00m \u001b[39mTypeError\u001b[39;00m(\u001b[39m\"\u001b[39m\u001b[39mWrong deserialization format.\u001b[39m\u001b[39m\"\u001b[39m)\n\u001b[1;32m     28\u001b[0m \u001b[39mif\u001b[39;00m from_bytes:\n\u001b[0;32m---> 29\u001b[0m     \u001b[39mreturn\u001b[39;00m rs_bytes2object(blob)\n\u001b[1;32m     31\u001b[0m \u001b[39mif\u001b[39;00m from_proto:\n\u001b[1;32m     32\u001b[0m     \u001b[39mreturn\u001b[39;00m rs_proto2object(blob)\n",
      "File \u001b[0;32m~/OpenMined/PySyft/packages/syft/src/syft/serde/recursive.py:185\u001b[0m, in \u001b[0;36mrs_bytes2object\u001b[0;34m(blob)\u001b[0m\n\u001b[1;32m    180\u001b[0m MAX_TRAVERSAL_LIMIT \u001b[39m=\u001b[39m \u001b[39m2\u001b[39m\u001b[39m*\u001b[39m\u001b[39m*\u001b[39m\u001b[39m64\u001b[39m \u001b[39m-\u001b[39m \u001b[39m1\u001b[39m\n\u001b[1;32m    182\u001b[0m \u001b[39mwith\u001b[39;00m recursive_scheme\u001b[39m.\u001b[39mfrom_bytes(  \u001b[39m# type: ignore\u001b[39;00m\n\u001b[1;32m    183\u001b[0m     blob, traversal_limit_in_words\u001b[39m=\u001b[39mMAX_TRAVERSAL_LIMIT\n\u001b[1;32m    184\u001b[0m ) \u001b[39mas\u001b[39;00m msg:\n\u001b[0;32m--> 185\u001b[0m     \u001b[39mreturn\u001b[39;00m rs_proto2object(msg)\n",
      "File \u001b[0;32m~/OpenMined/PySyft/packages/syft/src/syft/serde/recursive.py:248\u001b[0m, in \u001b[0;36mrs_proto2object\u001b[0;34m(proto)\u001b[0m\n\u001b[1;32m    246\u001b[0m \u001b[39mfor\u001b[39;00m attr_name, attr_bytes_list \u001b[39min\u001b[39;00m \u001b[39mzip\u001b[39m(proto\u001b[39m.\u001b[39mfieldsName, proto\u001b[39m.\u001b[39mfieldsData):\n\u001b[1;32m    247\u001b[0m     attr_bytes \u001b[39m=\u001b[39m combine_bytes(attr_bytes_list)\n\u001b[0;32m--> 248\u001b[0m     attr_value \u001b[39m=\u001b[39m _deserialize(attr_bytes, from_bytes\u001b[39m=\u001b[39;49m\u001b[39mTrue\u001b[39;49;00m)\n\u001b[1;32m    249\u001b[0m     transforms \u001b[39m=\u001b[39m serde_overrides\u001b[39m.\u001b[39mget(attr_name, \u001b[39mNone\u001b[39;00m)\n\u001b[1;32m    251\u001b[0m     \u001b[39mif\u001b[39;00m transforms \u001b[39mis\u001b[39;00m \u001b[39mnot\u001b[39;00m \u001b[39mNone\u001b[39;00m:\n",
      "File \u001b[0;32m~/OpenMined/PySyft/packages/syft/src/syft/serde/deserialize.py:29\u001b[0m, in \u001b[0;36m_deserialize\u001b[0;34m(blob, from_proto, from_bytes)\u001b[0m\n\u001b[1;32m     26\u001b[0m     \u001b[39mraise\u001b[39;00m \u001b[39mTypeError\u001b[39;00m(\u001b[39m\"\u001b[39m\u001b[39mWrong deserialization format.\u001b[39m\u001b[39m\"\u001b[39m)\n\u001b[1;32m     28\u001b[0m \u001b[39mif\u001b[39;00m from_bytes:\n\u001b[0;32m---> 29\u001b[0m     \u001b[39mreturn\u001b[39;00m rs_bytes2object(blob)\n\u001b[1;32m     31\u001b[0m \u001b[39mif\u001b[39;00m from_proto:\n\u001b[1;32m     32\u001b[0m     \u001b[39mreturn\u001b[39;00m rs_proto2object(blob)\n",
      "File \u001b[0;32m~/OpenMined/PySyft/packages/syft/src/syft/serde/recursive.py:182\u001b[0m, in \u001b[0;36mrs_bytes2object\u001b[0;34m(blob)\u001b[0m\n\u001b[1;32m    179\u001b[0m \u001b[39mdef\u001b[39;00m \u001b[39mrs_bytes2object\u001b[39m(blob: \u001b[39mbytes\u001b[39m) \u001b[39m-\u001b[39m\u001b[39m>\u001b[39m Any:\n\u001b[1;32m    180\u001b[0m     MAX_TRAVERSAL_LIMIT \u001b[39m=\u001b[39m \u001b[39m2\u001b[39m\u001b[39m*\u001b[39m\u001b[39m*\u001b[39m\u001b[39m64\u001b[39m \u001b[39m-\u001b[39m \u001b[39m1\u001b[39m\n\u001b[0;32m--> 182\u001b[0m     \u001b[39mwith\u001b[39;00m recursive_scheme\u001b[39m.\u001b[39mfrom_bytes(  \u001b[39m# type: ignore\u001b[39;00m\n\u001b[1;32m    183\u001b[0m         blob, traversal_limit_in_words\u001b[39m=\u001b[39mMAX_TRAVERSAL_LIMIT\n\u001b[1;32m    184\u001b[0m     ) \u001b[39mas\u001b[39;00m msg:\n\u001b[1;32m    185\u001b[0m         \u001b[39mreturn\u001b[39;00m rs_proto2object(msg)\n",
      "File \u001b[0;32m~/anaconda3/envs/PySyft/lib/python3.10/contextlib.py:135\u001b[0m, in \u001b[0;36m_GeneratorContextManager.__enter__\u001b[0;34m(self)\u001b[0m\n\u001b[1;32m    133\u001b[0m \u001b[39mdel\u001b[39;00m \u001b[39mself\u001b[39m\u001b[39m.\u001b[39margs, \u001b[39mself\u001b[39m\u001b[39m.\u001b[39mkwds, \u001b[39mself\u001b[39m\u001b[39m.\u001b[39mfunc\n\u001b[1;32m    134\u001b[0m \u001b[39mtry\u001b[39;00m:\n\u001b[0;32m--> 135\u001b[0m     \u001b[39mreturn\u001b[39;00m \u001b[39mnext\u001b[39;49m(\u001b[39mself\u001b[39;49m\u001b[39m.\u001b[39;49mgen)\n\u001b[1;32m    136\u001b[0m \u001b[39mexcept\u001b[39;00m \u001b[39mStopIteration\u001b[39;00m:\n\u001b[1;32m    137\u001b[0m     \u001b[39mraise\u001b[39;00m \u001b[39mRuntimeError\u001b[39;00m(\u001b[39m\"\u001b[39m\u001b[39mgenerator didn\u001b[39m\u001b[39m'\u001b[39m\u001b[39mt yield\u001b[39m\u001b[39m\"\u001b[39m) \u001b[39mfrom\u001b[39;00m \u001b[39mNone\u001b[39m\n",
      "File \u001b[0;32m~/anaconda3/envs/PySyft/lib/python3.10/site-packages/capnp/lib/capnp.pyx:3354\u001b[0m, in \u001b[0;36mfrom_bytes\u001b[0;34m()\u001b[0m\n",
      "\u001b[0;31mKjException\u001b[0m: capnp/message.c++:99: failed: expected segment != nullptr && segment->checkObject(segment->getStartPtr(), ONE * WORDS); Message did not contain a root pointer.\nstack: 7fa22895b734 7fa228808935 7fa22881dc0b 7fa27002426e 55c437be6cd6 55c437ba0a60 55c437b58424 55c437be3741 55c437be3db4 55c437acca50 55c437c37afc 55c437be3741 55c437b58424 55c437be3741 55c437b590b4 55c437be3741 55c437b58424 55c437be3741 55c437b58424 55c437be3741 55c437b590b4 55c437be3741 55c437c79997 55c437c7e591 55c437b58424 55c437be3741 55c437b58424 55c437be3741 55c437b58424 55c437be3741 55c437b590b4"
     ]
    }
   ],
   "source": [
    "sum_of_squares_dx = jax.grad(sum_of_squares)\n",
    "\n",
    "x = jnp.asarray([1.0, 2.0, 3.0, 4.0])\n",
    "\n",
    "print(sum_of_squares(x))\n",
    "\n",
    "print(sum_of_squares_dx(x))"
   ]
  },
  {
   "attachments": {},
   "cell_type": "markdown",
   "metadata": {},
   "source": [
    "# Blocking Question:\n",
    "## How do we send a function to the domain, without triggering an approval from the Data Owner?\n",
    "\n",
    "Very common in jax, used by all transformation.\n",
    "\n",
    "Building Block in Haiku:"
   ]
  },
  {
   "cell_type": "code",
   "execution_count": 40,
   "metadata": {},
   "outputs": [],
   "source": [
    "import haiku as hk\n",
    "import jax\n",
    "import jax.numpy as jnp\n",
    "import numpy as np"
   ]
  },
  {
   "cell_type": "code",
   "execution_count": 41,
   "metadata": {},
   "outputs": [],
   "source": [
    "class MyLinear1(hk.Module):\n",
    "\n",
    "  def __init__(self, output_size, name=None):\n",
    "    super().__init__(name=name)\n",
    "    self.output_size = output_size\n",
    "\n",
    "  def __call__(self, x):\n",
    "    j, k = x.shape[-1], self.output_size\n",
    "    w_init = hk.initializers.TruncatedNormal(1. / np.sqrt(j))\n",
    "    w = hk.get_parameter(\"w\", shape=[j, k], dtype=x.dtype, init=w_init)\n",
    "    b = hk.get_parameter(\"b\", shape=[k], dtype=x.dtype, init=jnp.ones)\n",
    "    return jnp.dot(x, w) + b"
   ]
  },
  {
   "cell_type": "code",
   "execution_count": 42,
   "metadata": {},
   "outputs": [],
   "source": [
    "def _forward_fn_linear1(x):\n",
    "  module = MyLinear1(output_size=2)\n",
    "  return module(x)\n",
    "\n",
    "forward_linear1 = hk.transform(_forward_fn_linear1)"
   ]
  },
  {
   "cell_type": "code",
   "execution_count": 43,
   "metadata": {},
   "outputs": [
    {
     "data": {
      "text/plain": [
       "Transformed(init=<function without_state.<locals>.init_fn at 0x7fa0c558d7e0>, apply=<function without_state.<locals>.apply_fn at 0x7fa0c558d000>)"
      ]
     },
     "execution_count": 43,
     "metadata": {},
     "output_type": "execute_result"
    }
   ],
   "source": [
    "forward_linear1"
   ]
  },
  {
   "cell_type": "code",
   "execution_count": 44,
   "metadata": {},
   "outputs": [
    {
     "data": {
      "text/plain": [
       "<function haiku._src.transform.without_state.<locals>.init_fn(*args, **kwargs)>"
      ]
     },
     "execution_count": 44,
     "metadata": {},
     "output_type": "execute_result"
    }
   ],
   "source": [
    "forward_linear1.init"
   ]
  },
  {
   "cell_type": "code",
   "execution_count": 45,
   "metadata": {},
   "outputs": [
    {
     "data": {
      "text/plain": [
       "<function haiku._src.transform.without_state.<locals>.apply_fn(params, *args, **kwargs)>"
      ]
     },
     "execution_count": 45,
     "metadata": {},
     "output_type": "execute_result"
    }
   ],
   "source": [
    "forward_linear1.apply"
   ]
  },
  {
   "attachments": {},
   "cell_type": "markdown",
   "metadata": {},
   "source": [
    "## Error Propagation"
   ]
  },
  {
   "cell_type": "code",
   "execution_count": null,
   "metadata": {},
   "outputs": [],
   "source": [
    "import numpy as np\n",
    "\n",
    "x = np.array([1, 2, 3])\n",
    "\n",
    "def in_place_modify(x):\n",
    "  x[0] = 123\n",
    "  return None\n",
    "\n",
    "in_place_modify(x)\n",
    "x"
   ]
  },
  {
   "cell_type": "code",
   "execution_count": null,
   "metadata": {},
   "outputs": [],
   "source": [
    "in_place_modify(jnp.array(x)) "
   ]
  },
  {
   "cell_type": "code",
   "execution_count": null,
   "metadata": {},
   "outputs": [],
   "source": [
    "def jax_in_place_modify(x):\n",
    "  return x.at[0].set(123)\n",
    "\n",
    "y = jnp.array([1, 2, 3])\n",
    "jax_in_place_modify(y)"
   ]
  },
  {
   "cell_type": "code",
   "execution_count": null,
   "metadata": {},
   "outputs": [],
   "source": [
    "y"
   ]
  },
  {
   "attachments": {},
   "cell_type": "markdown",
   "metadata": {},
   "source": [
    "## Basic Model Training"
   ]
  },
  {
   "cell_type": "code",
   "execution_count": null,
   "metadata": {},
   "outputs": [],
   "source": [
    "import numpy as np\n",
    "import matplotlib.pyplot as plt\n",
    "\n",
    "xs = np.random.normal(size=(100,))\n",
    "noise = np.random.normal(scale=0.1, size=(100,))\n",
    "ys = xs * 3 - 1 + noise\n",
    "\n",
    "plt.scatter(xs, ys)"
   ]
  },
  {
   "cell_type": "code",
   "execution_count": null,
   "metadata": {},
   "outputs": [],
   "source": [
    "def model(theta, x):\n",
    "  \"\"\"Computes wx + b on a batch of input x.\"\"\"\n",
    "  w, b = theta\n",
    "  return w * x + b\n",
    "\n",
    "def loss_fn(theta, x, y):\n",
    "  prediction = model(theta, x)\n",
    "  return jnp.mean((prediction-y)**2)\n",
    "\n",
    "def update(theta, x, y, lr=0.1):\n",
    "  return theta - lr * real_jax.grad(loss_fn)(theta.syft_action_data, x, y)"
   ]
  },
  {
   "cell_type": "code",
   "execution_count": null,
   "metadata": {},
   "outputs": [],
   "source": [
    "theta = jnp.array([1., 1.])\n",
    "\n",
    "for _ in range(1000):\n",
    "  theta = update(theta, xs, ys)\n",
    "\n",
    "plt.scatter(xs, ys)\n",
    "plt.plot(xs, model(theta, xs))\n",
    "\n",
    "w, b = theta\n",
    "print(f\"w: {w:<.2f}, b: {b:<.2f}\")"
   ]
  }
 ],
 "metadata": {
  "kernelspec": {
   "display_name": "PySyft",
   "language": "python",
   "name": "python3"
  },
  "language_info": {
   "codemirror_mode": {
    "name": "ipython",
    "version": 3
   },
   "file_extension": ".py",
   "mimetype": "text/x-python",
   "name": "python",
   "nbconvert_exporter": "python",
   "pygments_lexer": "ipython3",
   "version": "3.10.4"
  },
  "orig_nbformat": 4
 },
 "nbformat": 4,
 "nbformat_minor": 2
}
