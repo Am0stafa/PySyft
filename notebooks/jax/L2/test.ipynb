{
 "cells": [
  {
   "cell_type": "code",
   "execution_count": 1,
   "metadata": {},
   "outputs": [
    {
     "name": "stderr",
     "output_type": "stream",
     "text": [
      "kj/filesystem-disk-unix.c++:1703: warning: PWD environment variable doesn't match current directory; pwd = /\n"
     ]
    },
    {
     "name": "stdout",
     "output_type": "stream",
     "text": [
      "✅ The installed version of syft==0.8.0b6 matches the requirement >=0.8b0\n",
      "SQLite Store Path:\n",
      "!open file:///var/folders/79/0t1vmtq92cb82c47x_vmxgj40000gn/T/7bca415d13ed1ec841f0d0aede098dbb.sqlite\n",
      "\n",
      "> Starting Worker: test-domain-1 - 7bca415d13ed1ec841f0d0aede098dbb - NodeType.DOMAIN - [<class 'syft.core.node.new.user_service.UserService'>, <class 'syft.core.node.new.metadata_service.MetadataService'>, <class 'syft.core.node.new.action_service.ActionService'>, <class 'syft.core.node.new.test_service.TestService'>, <class 'syft.core.node.new.dataset_service.DatasetService'>, <class 'syft.core.node.new.user_code_service.UserCodeService'>, <class 'syft.core.node.new.request_service.RequestService'>, <class 'syft.core.node.new.data_subject_service.DataSubjectService'>, <class 'syft.core.node.new.network_service.NetworkService'>, <class 'syft.core.node.new.policy_service.PolicyService'>, <class 'syft.core.node.new.message_service.MessageService'>, <class 'syft.core.node.new.project_service.ProjectService'>, <class 'syft.core.node.new.data_subject_member_service.DataSubjectMemberService'>]\n"
     ]
    }
   ],
   "source": [
    "import syft as sy\n",
    "sy.requires(\">=0.8-beta\")\n",
    "node = sy.orchestra.launch(name=\"test-domain-1\")\n",
    "domain_client = node.login(email=\"info@openmined.org\", password=\"changethis\")"
   ]
  },
  {
   "cell_type": "code",
   "execution_count": 4,
   "metadata": {},
   "outputs": [],
   "source": [
    "import sys\n",
    "import jax as hidden_jax\n",
    "import jax.numpy as jnp \n",
    "from typing import Any\n",
    "from syft.core.node.new.jax import DeviceArrayObject \n",
    "\n",
    "class SyftCompiledFunction(sy.ActionObject):\n",
    "    def __init__(sel):\n",
    "        pass\n",
    "\n",
    "\n",
    "class SyftCompiledFunctionPointer(sy.ActionObject):\n",
    "\n",
    "    def __init__(self, compiled_function, domain):\n",
    "        self.compiled_function = compiled_function\n",
    "        self.domain = domain\n",
    "        self.domain.api.jax.submit_function(...)\n",
    "\n",
    "    def __call__(self, *args, **kwargs):\n",
    "        # TODO: \n",
    "        result = self.domain.api.jax.run_function(id=self.id)\n",
    "        # result = SyftNotReady if function not approved\n",
    "        # result = SyftError if function denied\n",
    "        # result = SyftOk if function approved\n",
    "        return \n",
    "# def jit_wrapper(\n",
    "#   fun: Callable,\n",
    "#   in_shardings=sharding_impls.UNSPECIFIED,\n",
    "#   out_shardings=sharding_impls.UNSPECIFIED,\n",
    "#   static_argnums: Union[int, Sequence[int], None] = None,\n",
    "#   static_argnames: Union[str, Iterable[str], None] = None,\n",
    "#   donate_argnums: Union[int, Sequence[int]] = (),\n",
    "#   keep_unused: bool = False,\n",
    "#   device: Optional[xc.Device] = None,\n",
    "#   backend: Optional[str] = None,\n",
    "#   inline: bool = False,\n",
    "#   abstracted_axes: Optional[Any] = None,\n",
    "# ):\n",
    "\n",
    "node = sy.login(....)\n",
    "jax = node.jax\n",
    "\n",
    "\n",
    "def jit_wrapper(*args, **kwargs):\n",
    "    compiled_function = hidden_jax.jit(*args, **kwargs)\n",
    "    return SyftCompiledFunctionPointer(compiled_function)\n",
    "\n",
    "class WrapperJaxNumpy:\n",
    "    def __getattribute__(self, __name: str) -> Any:\n",
    "        print(__name)\n",
    "        return hidden_jnp.__getattribute__(__name)\n",
    "\n",
    "class WrapperJax:\n",
    "    def __getattribute__(self, __name: str) -> Any:\n",
    "        print(__name)\n",
    "        if __name == \"jit\":\n",
    "            return jit_wrapper\n",
    "        return hidden_jax.__getattribute__(__name)\n",
    "\n",
    "sys.modules['syft.jax'] = WrapperJax()"
   ]
  },
  {
   "cell_type": "code",
   "execution_count": null,
   "metadata": {},
   "outputs": [],
   "source": [
    "f_hidden_jit = hidden_jax.jit(f)"
   ]
  },
  {
   "cell_type": "code",
   "execution_count": null,
   "metadata": {},
   "outputs": [
    {
     "data": {
      "text/plain": [
       "<function __main__.f(x)>"
      ]
     },
     "execution_count": 36,
     "metadata": {},
     "output_type": "execute_result"
    }
   ],
   "source": [
    "import inspect\n",
    "\n",
    "source_code = inspect.getsource(f_hidden_jit._fun)\n",
    "exec(source_code)"
   ]
  },
  {
   "cell_type": "code",
   "execution_count": null,
   "metadata": {},
   "outputs": [
    {
     "data": {
      "text/plain": [
       "{ \u001b[34m\u001b[22m\u001b[1mlambda \u001b[39m\u001b[22m\u001b[22m; a\u001b[35m:i64[]\u001b[39m. \u001b[34m\u001b[22m\u001b[1mlet\n",
       "    \u001b[39m\u001b[22m\u001b[22mb\u001b[35m:i64[]\u001b[39m c\u001b[35m:i64[]\u001b[39m = xla_call[\n",
       "      call_jaxpr={ \u001b[34m\u001b[22m\u001b[1mlambda \u001b[39m\u001b[22m\u001b[22m; d\u001b[35m:i64[]\u001b[39m. \u001b[34m\u001b[22m\u001b[1mlet\u001b[39m\u001b[22m\u001b[22m  \u001b[34m\u001b[22m\u001b[1min \u001b[39m\u001b[22m\u001b[22m(d, d) }\n",
       "      name=f\n",
       "    ] a\n",
       "  \u001b[34m\u001b[22m\u001b[1min \u001b[39m\u001b[22m\u001b[22m(b, c) }"
      ]
     },
     "execution_count": 40,
     "metadata": {},
     "output_type": "execute_result"
    }
   ],
   "source": [
    "hidden_jax.make_jaxpr(f_hidden_jit)([0])"
   ]
  },
  {
   "cell_type": "code",
   "execution_count": null,
   "metadata": {},
   "outputs": [],
   "source": [
    "# hidden_jax.lax"
   ]
  },
  {
   "cell_type": "code",
   "execution_count": null,
   "metadata": {},
   "outputs": [
    {
     "name": "stdout",
     "output_type": "stream",
     "text": [
      "__spec__\n",
      "__spec__\n",
      "jit\n"
     ]
    }
   ],
   "source": [
    "import syft.jax as jax\n",
    "\n",
    "def f(x):\n",
    "  if len(x) > 4:\n",
    "    return x\n",
    "  else:\n",
    "    return 2 * x\n",
    "\n",
    "f_jit = jax.jit(f)"
   ]
  },
  {
   "cell_type": "code",
   "execution_count": null,
   "metadata": {},
   "outputs": [
    {
     "name": "stdout",
     "output_type": "stream",
     "text": [
      "WE are trying\n"
     ]
    }
   ],
   "source": [
    "f_jit()"
   ]
  },
  {
   "cell_type": "code",
   "execution_count": null,
   "metadata": {},
   "outputs": [
    {
     "data": {
      "text/plain": [
       "<function jax._src.api.jit(fun: Callable, *, static_argnums: Union[int, Iterable[int], NoneType] = None, static_argnames: Union[str, Iterable[str], NoneType] = None, device: Optional[jaxlib.xla_extension.Device] = None, backend: Optional[str] = None, donate_argnums: Union[int, Iterable[int]] = (), inline: bool = False, keep_unused: bool = False, abstracted_axes: Optional[Any] = None) -> jax._src.stages.Wrapped>"
      ]
     },
     "execution_count": 16,
     "metadata": {},
     "output_type": "execute_result"
    }
   ],
   "source": [
    "jax.jit"
   ]
  },
  {
   "cell_type": "code",
   "execution_count": null,
   "metadata": {},
   "outputs": [
    {
     "name": "stdout",
     "output_type": "stream",
     "text": [
      "__spec__\n",
      "__path__\n",
      "numpy\n",
      "numpy\n"
     ]
    }
   ],
   "source": [
    "from syft.jax import numpy as jnp"
   ]
  },
  {
   "cell_type": "code",
   "execution_count": null,
   "metadata": {},
   "outputs": [
    {
     "name": "stderr",
     "output_type": "stream",
     "text": [
      "WARNING:absl:No GPU/TPU found, falling back to CPU. (Set TF_CPP_MIN_LOG_LEVEL=0 and rerun for more info.)\n"
     ]
    },
    {
     "data": {
      "text/plain": [
       "DeviceArray([0, 1, 2, 3, 4, 5, 6, 7, 8, 9], dtype=int64)"
      ]
     },
     "execution_count": 10,
     "metadata": {},
     "output_type": "execute_result"
    }
   ],
   "source": [
    "jnp.arange(10)"
   ]
  },
  {
   "cell_type": "code",
   "execution_count": null,
   "metadata": {},
   "outputs": [
    {
     "name": "stderr",
     "output_type": "stream",
     "text": [
      "WARNING:absl:No GPU/TPU found, falling back to CPU. (Set TF_CPP_MIN_LOG_LEVEL=0 and rerun for more info.)\n"
     ]
    }
   ],
   "source": [
    "import jax\n",
    "import jax.numpy as jnp\n",
    "from syft.core.node.new.jax import DeviceArrayObject \n",
    "# from syft import jax\n",
    "\n",
    "x = jnp.arange(10)\n",
    "y = jnp.ones(10)\n"
   ]
  },
  {
   "cell_type": "code",
   "execution_count": null,
   "metadata": {},
   "outputs": [
    {
     "data": {
      "text/plain": [
       "jaxlib.xla_extension.DeviceArray"
      ]
     },
     "execution_count": 3,
     "metadata": {},
     "output_type": "execute_result"
    }
   ],
   "source": [
    "type(x)"
   ]
  },
  {
   "cell_type": "code",
   "execution_count": null,
   "metadata": {},
   "outputs": [
    {
     "name": "stderr",
     "output_type": "stream",
     "text": [
      "<class 'jaxlib.xla_extension.DeviceArray'>\n",
      "<class 'syft.core.node.new.jax.DeviceArrayObject'>\n",
      "[0 1 2 3 4 5 6 7 8 9]\n"
     ]
    }
   ],
   "source": [
    "from syft.core.node.new.action_object import ActionObject\n",
    "\n",
    "action_object = ActionObject.from_obj(x) "
   ]
  },
  {
   "cell_type": "code",
   "execution_count": null,
   "metadata": {},
   "outputs": [
    {
     "data": {
      "text/plain": [
       "DeviceArray([0, 1, 2, 3, 4, 5, 6, 7, 8, 9], dtype=int64)"
      ]
     },
     "execution_count": 5,
     "metadata": {},
     "output_type": "execute_result"
    }
   ],
   "source": [
    "action_object"
   ]
  },
  {
   "cell_type": "code",
   "execution_count": null,
   "metadata": {},
   "outputs": [
    {
     "name": "stdout",
     "output_type": "stream",
     "text": [
      "initial data <class 'syft.core.node.new.sqlite_document_store.SQLiteBackingStore'>\n",
      "4c81e9aa1ece4511ab58299b9c2929c7\n",
      "final data {<UID: 4c81e9aa1ece4511ab58299b9c2929c7>: DeviceArray([0, 1, 2, 3, 4, 5, 6, 7, 8, 9], dtype=int64)}\n",
      "ActionServiceSave: Ok(<class 'syft.core.node.new.response.SyftSuccess'>: Set for ID: 4c81e9aa1ece4511ab58299b9c2929c7)\n"
     ]
    },
    {
     "data": {
      "text/html": [
       "<div class=\"alert-success\" style=\"padding:5px;\"><strong>SyftSuccess</strong>: <class 'syft.core.node.new.jax.DeviceArrayObject'> saved</div><br />"
      ],
      "text/plain": [
       "<class 'syft.core.node.new.response.SyftSuccess'>: <class 'syft.core.node.new.jax.DeviceArrayObject'> saved"
      ]
     },
     "execution_count": 6,
     "metadata": {},
     "output_type": "execute_result"
    }
   ],
   "source": [
    "domain_client.api.services.action.save(action_object)"
   ]
  },
  {
   "cell_type": "code",
   "execution_count": null,
   "metadata": {},
   "outputs": [],
   "source": [
    "result = domain_client.api.services.action.get(action_object.id)"
   ]
  },
  {
   "cell_type": "code",
   "execution_count": null,
   "metadata": {},
   "outputs": [
    {
     "data": {
      "text/plain": [
       "DeviceArray([0, 1, 2, 3, 4, 5, 6, 7, 8, 9], dtype=int64)"
      ]
     },
     "execution_count": 8,
     "metadata": {},
     "output_type": "execute_result"
    }
   ],
   "source": [
    "result.syft_action_data"
   ]
  },
  {
   "cell_type": "code",
   "execution_count": null,
   "metadata": {},
   "outputs": [
    {
     "data": {
      "text/plain": [
       "syft.core.node.new.jax.DeviceArrayObject"
      ]
     },
     "execution_count": 9,
     "metadata": {},
     "output_type": "execute_result"
    }
   ],
   "source": [
    "type(result)"
   ]
  },
  {
   "cell_type": "code",
   "execution_count": null,
   "metadata": {},
   "outputs": [
    {
     "data": {
      "text/plain": [
       "DeviceArray([0, 1, 2, 3, 4, 5, 6, 7, 8, 9], dtype=int64)"
      ]
     },
     "execution_count": 10,
     "metadata": {},
     "output_type": "execute_result"
    }
   ],
   "source": [
    "result.__jax_array__()"
   ]
  },
  {
   "cell_type": "code",
   "execution_count": null,
   "metadata": {},
   "outputs": [],
   "source": [
    "# jnp.dot(result, result)"
   ]
  },
  {
   "cell_type": "code",
   "execution_count": null,
   "metadata": {},
   "outputs": [
    {
     "data": {
      "text/plain": [
       "10"
      ]
     },
     "execution_count": 12,
     "metadata": {},
     "output_type": "execute_result"
    }
   ],
   "source": [
    "len(result)"
   ]
  },
  {
   "cell_type": "code",
   "execution_count": null,
   "metadata": {},
   "outputs": [],
   "source": [
    "import jax\n",
    "def f(x):\n",
    "  if len(x) > 4:\n",
    "    return x\n",
    "  else:\n",
    "    return 2 * x\n",
    "\n",
    "f_jit = jax.jit(f)"
   ]
  },
  {
   "cell_type": "code",
   "execution_count": null,
   "metadata": {},
   "outputs": [
    {
     "data": {
      "text/plain": [
       "<CompiledFunction of <function f at 0x7f4852b5a170>>"
      ]
     },
     "execution_count": 15,
     "metadata": {},
     "output_type": "execute_result"
    }
   ],
   "source": [
    "f_jit"
   ]
  },
  {
   "cell_type": "code",
   "execution_count": null,
   "metadata": {},
   "outputs": [
    {
     "data": {
      "text/plain": [
       "<UID: 4c81e9aa1ece4511ab58299b9c2929c7>"
      ]
     },
     "execution_count": 14,
     "metadata": {},
     "output_type": "execute_result"
    }
   ],
   "source": [
    "result.id"
   ]
  },
  {
   "cell_type": "code",
   "execution_count": null,
   "metadata": {},
   "outputs": [
    {
     "data": {
      "text/plain": [
       "DeviceArray([0, 1, 2, 3, 4, 5, 6, 7, 8, 9], dtype=int64)"
      ]
     },
     "execution_count": 15,
     "metadata": {},
     "output_type": "execute_result"
    }
   ],
   "source": [
    "f_jit(result)"
   ]
  },
  {
   "cell_type": "code",
   "execution_count": null,
   "metadata": {},
   "outputs": [
    {
     "data": {
      "text/plain": [
       "<jaxlib.xla_extension.Client at 0x7ff55160f2f0>"
      ]
     },
     "execution_count": 16,
     "metadata": {},
     "output_type": "execute_result"
    }
   ],
   "source": [
    "x.client"
   ]
  },
  {
   "cell_type": "code",
   "execution_count": null,
   "metadata": {},
   "outputs": [
    {
     "data": {
      "text/plain": [
       "<jaxlib.xla_extension.Client at 0x7ff55160f2f0>"
      ]
     },
     "execution_count": 17,
     "metadata": {},
     "output_type": "execute_result"
    }
   ],
   "source": [
    "result.device().client"
   ]
  },
  {
   "cell_type": "code",
   "execution_count": null,
   "metadata": {},
   "outputs": [
    {
     "data": {
      "text/html": [
       "[&#x27;__annotations__&#x27;, &#x27;__call__&#x27;, &#x27;__class__&#x27;, &#x27;__delattr__&#x27;, &#x27;__dict__&#x27;, &#x27;__dir__&#x27;, &#x27;__doc__&#x27;, &#x27;__eq__&#x27;, &#x27;__format__&#x27;, &#x27;__ge__&#x27;, &#x27;__get__&#x27;, &#x27;__getattribute__&#x27;, &#x27;__getstate__&#x27;, &#x27;__gt__&#x27;, &#x27;__hash__&#x27;, &#x27;__init__&#x27;, &#x27;__init_subclass__&#x27;, &#x27;__le__&#x27;, &#x27;__lt__&#x27;, &#x27;__module__&#x27;, &#x27;__name__&#x27;, &#x27;__ne__&#x27;, &#x27;__new__&#x27;, &#x27;__qualname__&#x27;, &#x27;__reduce__&#x27;, &#x27;__reduce_ex__&#x27;, &#x27;__repr__&#x27;, &#x27;__setattr__&#x27;, &#x27;__setstate__&#x27;, &#x27;__signature__&#x27;, &#x27;__sizeof__&#x27;, &#x27;__str__&#x27;, &#x27;__subclasshook__&#x27;, &#x27;__wrapped__&#x27;, &#x27;_cache_miss&#x27;, &#x27;_cache_size&#x27;, &#x27;_clear_cache&#x27;, &#x27;_fun&#x27;, &#x27;clear_cache&#x27;, &#x27;lower&#x27;]"
      ],
      "text/plain": [
       "['__annotations__',\n",
       " '__call__',\n",
       " '__class__',\n",
       " '__delattr__',\n",
       " '__dict__',\n",
       " '__dir__',\n",
       " '__doc__',\n",
       " '__eq__',\n",
       " '__format__',\n",
       " '__ge__',\n",
       " '__get__',\n",
       " '__getattribute__',\n",
       " '__getstate__',\n",
       " '__gt__',\n",
       " '__hash__',\n",
       " '__init__',\n",
       " '__init_subclass__',\n",
       " '__le__',\n",
       " '__lt__',\n",
       " '__module__',\n",
       " '__name__',\n",
       " '__ne__',\n",
       " '__new__',\n",
       " '__qualname__',\n",
       " '__reduce__',\n",
       " '__reduce_ex__',\n",
       " '__repr__',\n",
       " '__setattr__',\n",
       " '__setstate__',\n",
       " '__signature__',\n",
       " '__sizeof__',\n",
       " '__str__',\n",
       " '__subclasshook__',\n",
       " '__wrapped__',\n",
       " '_cache_miss',\n",
       " '_cache_size',\n",
       " '_clear_cache',\n",
       " '_fun',\n",
       " 'clear_cache',\n",
       " 'lower']"
      ]
     },
     "execution_count": 19,
     "metadata": {},
     "output_type": "execute_result"
    }
   ],
   "source": [
    "dir(f_jit)"
   ]
  },
  {
   "cell_type": "code",
   "execution_count": null,
   "metadata": {},
   "outputs": [
    {
     "data": {
      "text/plain": [
       "'def f(x):\\n  if len(x) > 4:\\n    return x\\n  else:\\n    return 2 * x\\n'"
      ]
     },
     "execution_count": 29,
     "metadata": {},
     "output_type": "execute_result"
    }
   ],
   "source": [
    "import inspect\n",
    "inspect.getsource(f_jit._fun)"
   ]
  },
  {
   "cell_type": "code",
   "execution_count": null,
   "metadata": {},
   "outputs": [],
   "source": []
  },
  {
   "cell_type": "code",
   "execution_count": null,
   "metadata": {},
   "outputs": [],
   "source": []
  },
  {
   "cell_type": "code",
   "execution_count": null,
   "metadata": {},
   "outputs": [],
   "source": []
  },
  {
   "cell_type": "code",
   "execution_count": 5,
   "metadata": {},
   "outputs": [
    {
     "data": {
      "image/png": "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",
      "text/plain": [
       "<Figure size 640x480 with 1 Axes>"
      ]
     },
     "metadata": {},
     "output_type": "display_data"
    }
   ],
   "source": [
    "import jax\n",
    "import jax.numpy as jnp\n",
    "import numpy as np\n",
    "import matplotlib.pyplot as plt\n",
    "\n",
    "xs = np.random.normal(size=(100,))\n",
    "noise = np.random.normal(scale=0.1, size=(100,))\n",
    "ys = xs * 3 - 1 + noise\n",
    "\n",
    "plt.scatter(xs, ys)\n",
    "\n",
    "def model(theta, x):\n",
    "  \"\"\"Computes wx + b on a batch of input x.\"\"\"\n",
    "  w, b = theta\n",
    "  return w * x + b\n",
    "\n",
    "def loss_fn(theta, x, y):\n",
    "  prediction = model(theta, x)\n",
    "  return jnp.mean((prediction-y)**2)\n",
    "\n",
    "\n",
    "def update(theta, x, y, lr=0.1):\n",
    "  return theta - lr * jax.grad(loss_fn)(theta, x, y)\n",
    "\n",
    "theta = jnp.array([1., 1.])\n",
    "\n",
    "for _ in range(10):\n",
    "  theta = update(theta, xs, ys)\n",
    "\n"
   ]
  },
  {
   "cell_type": "code",
   "execution_count": 15,
   "metadata": {},
   "outputs": [
    {
     "data": {
      "text/plain": [
       "numpy.ndarray"
      ]
     },
     "execution_count": 15,
     "metadata": {},
     "output_type": "execute_result"
    }
   ],
   "source": [
    "from syft.core.node.new.jax import DeviceArrayObject \n",
    "\n",
    "syft_obj = DeviceArrayObject(syft_action_data=model(theta, xs))\n",
    "type(syft_obj.__array__())\n"
   ]
  },
  {
   "cell_type": "code",
   "execution_count": null,
   "metadata": {},
   "outputs": [],
   "source": []
  },
  {
   "cell_type": "code",
   "execution_count": 17,
   "metadata": {},
   "outputs": [
    {
     "name": "stdout",
     "output_type": "stream",
     "text": [
      "w: 2.66, b: -0.74\n"
     ]
    },
    {
     "data": {
      "image/png": "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",
      "text/plain": [
       "<Figure size 640x480 with 1 Axes>"
      ]
     },
     "metadata": {},
     "output_type": "display_data"
    }
   ],
   "source": [
    "# plt.scatter(xs, ys)\n",
    "# plt.plot(xs, syft_obj.__array__())\n",
    "# plt.plot(xs, np.array(syft_obj))\n",
    "plt.plot(xs, np.array(syft_obj))\n",
    "\n",
    "w, b = theta\n",
    "print(f\"w: {w:<.2f}, b: {b:<.2f}\")"
   ]
  },
  {
   "cell_type": "code",
   "execution_count": null,
   "metadata": {},
   "outputs": [],
   "source": []
  },
  {
   "cell_type": "code",
   "execution_count": null,
   "metadata": {},
   "outputs": [],
   "source": []
  },
  {
   "cell_type": "code",
   "execution_count": null,
   "metadata": {},
   "outputs": [],
   "source": []
  }
 ],
 "metadata": {
  "kernelspec": {
   "display_name": "PySyft",
   "language": "python",
   "name": "python3"
  },
  "language_info": {
   "codemirror_mode": {
    "name": "ipython",
    "version": 3
   },
   "file_extension": ".py",
   "mimetype": "text/x-python",
   "name": "python",
   "nbconvert_exporter": "python",
   "pygments_lexer": "ipython3",
   "version": "3.10.10",
  "orig_nbformat": 4
 },
 "nbformat": 4,
 "nbformat_minor": 2
}}
