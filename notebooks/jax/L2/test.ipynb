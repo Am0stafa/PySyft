{
 "cells": [
  {
   "cell_type": "code",
   "execution_count": null,
   "metadata": {},
   "outputs": [],
   "source": [
    "import syft as sy\n",
    "worker = sy.Worker(name=\"CommandCenter\")\n",
    "root_domain_client = worker.root_client"
   ]
  },
  {
   "cell_type": "code",
   "execution_count": null,
   "metadata": {},
   "outputs": [],
   "source": [
    "import jax\n",
    "from syft.serde.lib_permissions import ALL_EXECUTE\n",
    "from syft.serde.lib_service_registry import CMPModule\n",
    "\n",
    "jax_module = CMPModule(\n",
    "            \"jax\",\n",
    "            permissions=ALL_EXECUTE,\n",
    "            children=[\n",
    "                CMPModule(\"numpy\", permissions=ALL_EXECUTE, obj=jax.numpy)\n",
    "            ]\n",
    "        )\n",
    "jax_module.absolute_path = jax_module.path\n",
    "jax_module.build()\n",
    "jax_module"
   ]
  },
  {
   "cell_type": "code",
   "execution_count": null,
   "metadata": {},
   "outputs": [],
   "source": [
    "dir(root_domain_client.api.lib.jax.numpy)"
   ]
  },
  {
   "cell_type": "code",
   "execution_count": null,
   "metadata": {},
   "outputs": [],
   "source": [
    "import jax\n",
    "dir(jax._src.numpy)"
   ]
  },
  {
   "cell_type": "code",
   "execution_count": null,
   "metadata": {},
   "outputs": [],
   "source": [
    "jax.numpy"
   ]
  }
 ],
 "metadata": {
  "kernelspec": {
   "display_name": "PySyft",
   "language": "python",
   "name": "python3"
  },
  "language_info": {
   "codemirror_mode": {
    "name": "ipython",
    "version": 3
   },
   "file_extension": ".py",
   "mimetype": "text/x-python",
   "name": "python",
   "nbconvert_exporter": "python",
   "pygments_lexer": "ipython3",
   "version": "3.10.4"
  },
  "nbformat": 4,
  "nbformat_minor": 2
 },
 "nbformat": 4,
 "nbformat_minor": 2
}
