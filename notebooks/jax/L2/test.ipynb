{
 "cells": [
  {
   "cell_type": "code",
   "execution_count": 1,
   "metadata": {},
   "outputs": [
    {
     "name": "stderr",
     "output_type": "stream",
     "text": [
      "/home/teo/anaconda3/envs/PySyft/lib/python3.10/site-packages/scipy/__init__.py:146: UserWarning: A NumPy version >=1.16.5 and <1.23.0 is required for this version of SciPy (detected version 1.24.2\n",
      "  warnings.warn(f\"A NumPy version >={np_minversion} and <{np_maxversion}\"\n",
      "kj/filesystem-disk-unix.c++:1703: warning: PWD environment variable doesn't match current directory; pwd = /home/teo\n"
     ]
    },
    {
     "name": "stdout",
     "output_type": "stream",
     "text": [
      "✅ The installed version of syft==0.8.0b6 matches the requirement >=0.8b0\n",
      "SQLite Store Path:\n",
      "!open file:///tmp/7bca415d13ed1ec841f0d0aede098dbb.sqlite\n",
      "\n",
      "> Starting Worker: test-domain-1 - 7bca415d13ed1ec841f0d0aede098dbb - NodeType.DOMAIN - [<class 'syft.core.node.new.user_service.UserService'>, <class 'syft.core.node.new.metadata_service.MetadataService'>, <class 'syft.core.node.new.action_service.ActionService'>, <class 'syft.core.node.new.test_service.TestService'>, <class 'syft.core.node.new.dataset_service.DatasetService'>, <class 'syft.core.node.new.user_code_service.UserCodeService'>, <class 'syft.core.node.new.request_service.RequestService'>, <class 'syft.core.node.new.data_subject_service.DataSubjectService'>, <class 'syft.core.node.new.network_service.NetworkService'>, <class 'syft.core.node.new.policy_service.PolicyService'>, <class 'syft.core.node.new.message_service.MessageService'>, <class 'syft.core.node.new.project_service.ProjectService'>, <class 'syft.core.node.new.data_subject_member_service.DataSubjectMemberService'>]\n"
     ]
    }
   ],
   "source": [
    "import syft as sy\n",
    "sy.requires(\">=0.8-beta\")\n",
    "node = sy.orchestra.launch(name=\"test-domain-1\")\n",
    "domain_client = node.login(email=\"info@openmined.org\", password=\"changethis\")"
   ]
  },
  {
   "cell_type": "code",
   "execution_count": 2,
   "metadata": {},
   "outputs": [
    {
     "name": "stderr",
     "output_type": "stream",
     "text": [
      "WARNING:absl:No GPU/TPU found, falling back to CPU. (Set TF_CPP_MIN_LOG_LEVEL=0 and rerun for more info.)\n"
     ]
    },
    {
     "name": "stdout",
     "output_type": "stream",
     "text": [
      "None\n",
      "None\n",
      "TFRT_CPU_0\n",
      "None\n"
     ]
    }
   ],
   "source": [
    "import jax\n",
    "import jax.numpy as jnp\n",
    "from syft.core.node.new.jax import DeviceArrayObject \n",
    "# from syft import jax\n",
    "\n",
    "x = jnp.arange(10)\n",
    "y = jnp.ones(10)\n"
   ]
  },
  {
   "cell_type": "code",
   "execution_count": 3,
   "metadata": {},
   "outputs": [
    {
     "data": {
      "text/plain": [
       "jaxlib.xla_extension.DeviceArray"
      ]
     },
     "execution_count": 3,
     "metadata": {},
     "output_type": "execute_result"
    }
   ],
   "source": [
    "type(x)"
   ]
  },
  {
   "cell_type": "code",
   "execution_count": 4,
   "metadata": {},
   "outputs": [
    {
     "name": "stdout",
     "output_type": "stream",
     "text": [
      "dict_keys([typing.Any, <class 'numpy.ndarray'>, <class 'numpy.bool_'>, <class 'numpy.int8'>, <class 'numpy.int16'>, <class 'numpy.int32'>, <class 'numpy.int64'>, <class 'numpy.uint8'>, <class 'numpy.uint16'>, <class 'numpy.uint32'>, <class 'numpy.uint64'>, <class 'numpy.float16'>, <class 'numpy.float32'>, <class 'numpy.float64'>, <class 'pandas.core.frame.DataFrame'>, <class 'pandas.core.series.Series'>, <class 'jaxlib.xla_extension.DeviceArray'>])\n"
     ]
    },
    {
     "name": "stderr",
     "output_type": "stream",
     "text": [
      "<class 'jaxlib.xla_extension.DeviceArray'>\n",
      "<class 'syft.core.node.new.jax.DeviceArrayObject'>\n",
      "[0 1 2 3 4 5 6 7 8 9]\n"
     ]
    }
   ],
   "source": [
    "from syft.core.node.new.action_object import ActionObject\n",
    "\n",
    "action_object = ActionObject.from_obj(x) "
   ]
  },
  {
   "cell_type": "code",
   "execution_count": 5,
   "metadata": {},
   "outputs": [
    {
     "data": {
      "text/plain": [
       "DeviceArray([0, 1, 2, 3, 4, 5, 6, 7, 8, 9], dtype=int64)"
      ]
     },
     "execution_count": 5,
     "metadata": {},
     "output_type": "execute_result"
    }
   ],
   "source": [
    "action_object"
   ]
  },
  {
   "cell_type": "code",
   "execution_count": 6,
   "metadata": {},
   "outputs": [
    {
     "name": "stdout",
     "output_type": "stream",
     "text": [
      "None\n",
      "None\n",
      "initial data <class 'syft.core.node.new.sqlite_document_store.SQLiteBackingStore'>\n",
      "406d26e907154d8e856fbbd67748f755\n",
      "final data None\n",
      "None\n",
      "None\n",
      "None\n",
      "None\n",
      "None\n",
      "None\n",
      "None\n",
      "None\n",
      "None\n",
      "None\n",
      "None\n",
      "None\n",
      "None\n",
      "None\n",
      "None\n",
      "None\n",
      "None\n",
      "None\n",
      "None\n",
      "None\n",
      "None\n",
      "None\n",
      "None\n",
      "None\n",
      "None\n",
      "None\n",
      "None\n",
      "None\n",
      "None\n",
      "None\n",
      "None\n",
      "None\n",
      "None\n",
      "None\n",
      "None\n",
      "None\n",
      "None\n",
      "None\n",
      "None\n",
      "None\n",
      "None\n",
      "None\n",
      "None\n",
      "None\n",
      "None\n",
      "None\n",
      "None\n",
      "None\n",
      "None\n",
      "None\n",
      "None\n",
      "None\n",
      "None\n",
      "None\n",
      "None\n",
      "None\n",
      "None\n",
      "None\n",
      "None\n",
      "None\n",
      "None\n",
      "None\n",
      "None\n",
      "None\n",
      "None\n",
      "None\n",
      "None\n",
      "None\n",
      "None\n",
      "None\n",
      "None\n",
      "None\n",
      "None\n",
      "None\n",
      "{<UID: 20445ff2fd1940e5b43ed3accd53c7a6>: DeviceArray([0, 1, 2, 3, 4, 5, 6, 7, 8, 9], dtype=int64), <UID: 6576cb961071435a81fcbe886a095789>: DeviceArray([0, 1, 2, 3, 4, 5, 6, 7, 8, 9], dtype=int64), <UID: abd5eb66eee248f2b88b4d8bc72181a8>: DeviceArray([0, 1, 2, 3, 4, 5, 6, 7, 8, 9], dtype=int64), <UID: 4c48ad0e72a8442b88ca908d526d0765>: DeviceArray([0, 1, 2, 3, 4, 5, 6, 7, 8, 9], dtype=int64), <UID: 71f9302011b34622ad0ecb11001c9cd4>: DeviceArray([0, 1, 2, 3, 4, 5, 6, 7, 8, 9], dtype=int64), <UID: f56e51f5594542a88d9a2962b38b1696>: DeviceArray([0, 1, 2, 3, 4, 5, 6, 7, 8, 9], dtype=int64), <UID: 446fc40a53814694b75f6d5dd5064fca>: DeviceArray([0, 1, 2, 3, 4, 5, 6, 7, 8, 9], dtype=int64), <UID: e3d412ce4c2347799ff6442aa666213f>: DeviceArray([0, 1, 2, 3, 4, 5, 6, 7, 8, 9], dtype=int64), <UID: 84827d8dcd4a4f439a8667eca8437a0e>: DeviceArray([0, 1, 2, 3, 4, 5, 6, 7, 8, 9], dtype=int64), <UID: 3becb22e0f584a84877fde7bdb76f53d>: DeviceArray([0, 1, 2, 3, 4, 5, 6, 7, 8, 9], dtype=int64), <UID: c31041dfe0b240f0ae6363dc00bd9d2a>: DeviceArray([0, 1, 2, 3, 4, 5, 6, 7, 8, 9], dtype=int64), <UID: d4b4c5a72ebe4eff9857eb4b1fefe8a0>: DeviceArray([0, 1, 2, 3, 4, 5, 6, 7, 8, 9], dtype=int64), <UID: ac91adc75f8545a08756d78ce5694372>: DeviceArray([0, 1, 2, 3, 4, 5, 6, 7, 8, 9], dtype=int64), <UID: 5feebf393cde4f21a8be83cddb431f42>: DeviceArray([0, 1, 2, 3, 4, 5, 6, 7, 8, 9], dtype=int64), <UID: a39617b3a46b490886d2107acc0d3409>: DeviceArray([0, 1, 2, 3, 4, 5, 6, 7, 8, 9], dtype=int64), <UID: 22bf0c9597934a73986beec959cbfee7>: DeviceArray([0, 1, 2, 3, 4, 5, 6, 7, 8, 9], dtype=int64), <UID: 21adf85813b4431f80104511c52f7510>: DeviceArray([0, 1, 2, 3, 4, 5, 6, 7, 8, 9], dtype=int64), <UID: a4aceeadac0c4c589927f56c787453dd>: DeviceArray([0, 1, 2, 3, 4, 5, 6, 7, 8, 9], dtype=int64), <UID: 3ad2a1b9872a41f4962c798f7f4b49dd>: DeviceArray([0, 1, 2, 3, 4, 5, 6, 7, 8, 9], dtype=int64), <UID: b9cae34ae2a94af391eba1a321dad1aa>: DeviceArray([0, 1, 2, 3, 4, 5, 6, 7, 8, 9], dtype=int64), <UID: 3276e183b7d149ccafc94c35973ed061>: DeviceArray([0, 1, 2, 3, 4, 5, 6, 7, 8, 9], dtype=int64), <UID: 8257d081c7a3423185ea5389a7a45da2>: DeviceArray([0, 1, 2, 3, 4, 5, 6, 7, 8, 9], dtype=int64), <UID: 18f7edc9200a48e2bd8306a5c074f635>: DeviceArray([0, 1, 2, 3, 4, 5, 6, 7, 8, 9], dtype=int64), <UID: 93509a4f02e446189d15fd599c6cfe23>: DeviceArray([0, 1, 2, 3, 4, 5, 6, 7, 8, 9], dtype=int64), <UID: 433a281ef0c04b3ea50a365f0da771f2>: DeviceArray([0, 1, 2, 3, 4, 5, 6, 7, 8, 9], dtype=int64), <UID: 9b846e77c8be4472b4c51a4d1aab9f66>: DeviceArray([0, 1, 2, 3, 4, 5, 6, 7, 8, 9], dtype=int64), <UID: e42c39b1456240a6a8566f18bd589e9b>: DeviceArray([0, 1, 2, 3, 4, 5, 6, 7, 8, 9], dtype=int64), <UID: ff53bba809cc4d5098664c3fa36bf706>: DeviceArray([0, 1, 2, 3, 4, 5, 6, 7, 8, 9], dtype=int64), <UID: 8579032713034662b29232c2a7fa499a>: DeviceArray([0, 1, 2, 3, 4, 5, 6, 7, 8, 9], dtype=int64), <UID: 7888953da5e047d4ad420c3ca9b7701a>: DeviceArray([0, 1, 2, 3, 4, 5, 6, 7, 8, 9], dtype=int64), <UID: ae84639cdac2491f994de0a0e17bbb1c>: DeviceArray([0, 1, 2, 3, 4, 5, 6, 7, 8, 9], dtype=int64), <UID: d141b4527ae0435285c22adeda8617a8>: DeviceArray([0, 1, 2, 3, 4, 5, 6, 7, 8, 9], dtype=int64), <UID: 6a8de687e0a3484db2861e5610d076ab>: DeviceArray([0, 1, 2, 3, 4, 5, 6, 7, 8, 9], dtype=int64), <UID: 44b3f56db71b4026bb50a47f6d1687e8>: DeviceArray([0, 1, 2, 3, 4, 5, 6, 7, 8, 9], dtype=int64), <UID: 9328acfd780244ab8893b3cee7ff7513>: DeviceArray([0, 1, 2, 3, 4, 5, 6, 7, 8, 9], dtype=int64), <UID: b035be84fd31467db1e1174c88acb42c>: DeviceArray([0, 1, 2, 3, 4, 5, 6, 7, 8, 9], dtype=int64), <UID: 5331956496744c0c961338a7b1d1c481>: DeviceArray([0, 1, 2, 3, 4, 5, 6, 7, 8, 9], dtype=int64), <UID: 40cb6d50e4a94d9897b74710aa9d636c>: DeviceArray([0, 1, 2, 3, 4, 5, 6, 7, 8, 9], dtype=int64), <UID: 8964ea6ccd46456c8ff0aad22d9187a8>: DeviceArray([0, 1, 2, 3, 4, 5, 6, 7, 8, 9], dtype=int64), <UID: 757cf78d51254ac7862612ce06e41050>: DeviceArray([0, 1, 2, 3, 4, 5, 6, 7, 8, 9], dtype=int64), <UID: 3d12b5cd9b584d6b8e44447ba6425d73>: DeviceArray([0, 1, 2, 3, 4, 5, 6, 7, 8, 9], dtype=int64), <UID: cdd01eae5bb44257b1629215eb0920be>: DeviceArray([0, 1, 2, 3, 4, 5, 6, 7, 8, 9], dtype=int64), <UID: afa1f0214dcc489d8e275358149367f1>: DeviceArray([0, 1, 2, 3, 4, 5, 6, 7, 8, 9], dtype=int64), <UID: 9b991194585a42699abd932201266b1b>: DeviceArray([0, 1, 2, 3, 4, 5, 6, 7, 8, 9], dtype=int64), <UID: 6d0358128f0241ac949b6ebfcbb13a47>: DeviceArray([0, 1, 2, 3, 4, 5, 6, 7, 8, 9], dtype=int64), <UID: 01b19e3652dd4876b54fe45be9842913>: DeviceArray([0, 1, 2, 3, 4, 5, 6, 7, 8, 9], dtype=int64), <UID: 6f5c393281f7479babc41a3d68acb2cd>: DeviceArray([0, 1, 2, 3, 4, 5, 6, 7, 8, 9], dtype=int64), <UID: da8b50e512874c43a1429d2b6bc909d4>: DeviceArray([0, 1, 2, 3, 4, 5, 6, 7, 8, 9], dtype=int64), <UID: ac5fd5e360164a4e8dc21d5e2fbca7b1>: DeviceArray([0, 1, 2, 3, 4, 5, 6, 7, 8, 9], dtype=int64), <UID: cc017e390bc54402b34cb9b9a67d9e48>: DeviceArray([0, 1, 2, 3, 4, 5, 6, 7, 8, 9], dtype=int64), <UID: eabf29e9c8dc416bbe8cd3bd754e754e>: DeviceArray([0, 1, 2, 3, 4, 5, 6, 7, 8, 9], dtype=int64), <UID: b1da3c43811348f6b1803ccbc2ca7868>: DeviceArray([0, 1, 2, 3, 4, 5, 6, 7, 8, 9], dtype=int64), <UID: ad384aa20a494e81a993885f4c160b5f>: DeviceArray([0, 1, 2, 3, 4, 5, 6, 7, 8, 9], dtype=int64), <UID: 138a0f6c64834a4b80e6ebe92457fc8a>: DeviceArray([0, 1, 2, 3, 4, 5, 6, 7, 8, 9], dtype=int64), <UID: bd57393646fc4f0b83d954aeac50260c>: DeviceArray([0, 1, 2, 3, 4, 5, 6, 7, 8, 9], dtype=int64), <UID: c95f7bd961ba461f820ab66cbebc18d0>: DeviceArray([0, 1, 2, 3, 4, 5, 6, 7, 8, 9], dtype=int64), <UID: 54311aae95a14707ba78a8a9dbf7b7cd>: DeviceArray([0, 1, 2, 3, 4, 5, 6, 7, 8, 9], dtype=int64), <UID: 5cf612f615db44a0aa460b88f205f777>: DeviceArray([0, 1, 2, 3, 4, 5, 6, 7, 8, 9], dtype=int64), <UID: 9a1469094e744a9790ba7d01c51b34bd>: DeviceArray([0, 1, 2, 3, 4, 5, 6, 7, 8, 9], dtype=int64), <UID: 590d26c0f03d4508bc295b54540af4a4>: DeviceArray([0, 1, 2, 3, 4, 5, 6, 7, 8, 9], dtype=int64), <UID: 1e19b9f8776f42ddaf1ed27ebc9c50d6>: DeviceArray([0, 1, 2, 3, 4, 5, 6, 7, 8, 9], dtype=int64), <UID: a949f061f9274dd18cc2355f8530a2ef>: DeviceArray([0, 1, 2, 3, 4, 5, 6, 7, 8, 9], dtype=int64), <UID: 16f4bee61bdb450a9375e1a3233a417e>: DeviceArray([0, 1, 2, 3, 4, 5, 6, 7, 8, 9], dtype=int64), <UID: 13a86901df484112ad2a0f0e15aacc70>: DeviceArray([0, 1, 2, 3, 4, 5, 6, 7, 8, 9], dtype=int64), <UID: db96fe029e5b480c823039d10062da01>: DeviceArray([0, 1, 2, 3, 4, 5, 6, 7, 8, 9], dtype=int64), <UID: f7a59f6ca2c44e76a0afd0042837244c>: DeviceArray([0, 1, 2, 3, 4, 5, 6, 7, 8, 9], dtype=int64), <UID: 764bcff4f58e47efba5bb86d5226ccc8>: DeviceArray([0, 1, 2, 3, 4, 5, 6, 7, 8, 9], dtype=int64), <UID: 01098a3095844e869bcd9a507607e91d>: DeviceArray([0, 1, 2, 3, 4, 5, 6, 7, 8, 9], dtype=int64), <UID: aa1cee7d5d8b4fa6b84ad323f98dd675>: DeviceArray([0, 1, 2, 3, 4, 5, 6, 7, 8, 9], dtype=int64), <UID: edc02f2f0a45469185c0c819700442e3>: DeviceArray([0, 1, 2, 3, 4, 5, 6, 7, 8, 9], dtype=int64), <UID: 8d6554fb002c462a9abfdf44f21d1de7>: DeviceArray([0, 1, 2, 3, 4, 5, 6, 7, 8, 9], dtype=int64), <UID: 8bb722df07d2442893a3f3e2ddb54ed9>: DeviceArray([0, 1, 2, 3, 4, 5, 6, 7, 8, 9], dtype=int64), <UID: 87e0f8794de9498898242df4338e6430>: DeviceArray([0, 1, 2, 3, 4, 5, 6, 7, 8, 9], dtype=int64), <UID: 67de18dc5062486390750569109693c5>: DeviceArray([0, 1, 2, 3, 4, 5, 6, 7, 8, 9], dtype=int64), <UID: 406d26e907154d8e856fbbd67748f755>: DeviceArray([0, 1, 2, 3, 4, 5, 6, 7, 8, 9], dtype=int64)}\n",
      "ActionServiceSave: Ok(<class 'syft.core.node.new.response.SyftSuccess'>: Set for ID: 406d26e907154d8e856fbbd67748f755)\n"
     ]
    },
    {
     "data": {
      "text/html": [
       "<div class=\"alert-success\" style=\"padding:5px;\"><strong>SyftSuccess</strong>: <class 'syft.core.node.new.jax.DeviceArrayObject'> saved</div><br />"
      ],
      "text/plain": [
       "<class 'syft.core.node.new.response.SyftSuccess'>: <class 'syft.core.node.new.jax.DeviceArrayObject'> saved"
      ]
     },
     "execution_count": 6,
     "metadata": {},
     "output_type": "execute_result"
    }
   ],
   "source": [
    "domain_client.api.services.action.save(action_object)"
   ]
  },
  {
   "cell_type": "code",
   "execution_count": 7,
   "metadata": {},
   "outputs": [
    {
     "name": "stdout",
     "output_type": "stream",
     "text": [
      "None\n",
      "None\n",
      "None\n"
     ]
    }
   ],
   "source": [
    "result = domain_client.api.services.action.get(action_object.id)"
   ]
  },
  {
   "cell_type": "code",
   "execution_count": 8,
   "metadata": {},
   "outputs": [
    {
     "data": {
      "text/plain": [
       "DeviceArray([0, 1, 2, 3, 4, 5, 6, 7, 8, 9], dtype=int64)"
      ]
     },
     "execution_count": 8,
     "metadata": {},
     "output_type": "execute_result"
    }
   ],
   "source": [
    "result.syft_action_data"
   ]
  },
  {
   "cell_type": "code",
   "execution_count": 9,
   "metadata": {},
   "outputs": [
    {
     "data": {
      "text/plain": [
       "syft.core.node.new.jax.DeviceArrayObject"
      ]
     },
     "execution_count": 9,
     "metadata": {},
     "output_type": "execute_result"
    }
   ],
   "source": [
    "type(result)"
   ]
  },
  {
   "cell_type": "code",
   "execution_count": 10,
   "metadata": {},
   "outputs": [
    {
     "data": {
      "text/plain": [
       "DeviceArray([0, 1, 2, 3, 4, 5, 6, 7, 8, 9], dtype=int64)"
      ]
     },
     "execution_count": 10,
     "metadata": {},
     "output_type": "execute_result"
    }
   ],
   "source": [
    "result.__jax_array__()"
   ]
  },
  {
   "cell_type": "code",
   "execution_count": 11,
   "metadata": {},
   "outputs": [
    {
     "name": "stdout",
     "output_type": "stream",
     "text": [
      "dict_keys([typing.Any, <class 'numpy.ndarray'>, <class 'numpy.bool_'>, <class 'numpy.int8'>, <class 'numpy.int16'>, <class 'numpy.int32'>, <class 'numpy.int64'>, <class 'numpy.uint8'>, <class 'numpy.uint16'>, <class 'numpy.uint32'>, <class 'numpy.uint64'>, <class 'numpy.float16'>, <class 'numpy.float32'>, <class 'numpy.float64'>, <class 'pandas.core.frame.DataFrame'>, <class 'pandas.core.series.Series'>, <class 'jaxlib.xla_extension.DeviceArray'>])\n",
      "dict_keys([typing.Any, <class 'numpy.ndarray'>, <class 'numpy.bool_'>, <class 'numpy.int8'>, <class 'numpy.int16'>, <class 'numpy.int32'>, <class 'numpy.int64'>, <class 'numpy.uint8'>, <class 'numpy.uint16'>, <class 'numpy.uint32'>, <class 'numpy.uint64'>, <class 'numpy.float16'>, <class 'numpy.float32'>, <class 'numpy.float64'>, <class 'pandas.core.frame.DataFrame'>, <class 'pandas.core.series.Series'>, <class 'jaxlib.xla_extension.DeviceArray'>])\n",
      "dict_keys([typing.Any, <class 'numpy.ndarray'>, <class 'numpy.bool_'>, <class 'numpy.int8'>, <class 'numpy.int16'>, <class 'numpy.int32'>, <class 'numpy.int64'>, <class 'numpy.uint8'>, <class 'numpy.uint16'>, <class 'numpy.uint32'>, <class 'numpy.uint64'>, <class 'numpy.float16'>, <class 'numpy.float32'>, <class 'numpy.float64'>, <class 'pandas.core.frame.DataFrame'>, <class 'pandas.core.series.Series'>, <class 'jaxlib.xla_extension.DeviceArray'>])\n",
      "TFRT_CPU_0\n",
      "TFRT_CPU_0\n",
      "None\n"
     ]
    },
    {
     "ename": "TypeError",
     "evalue": "(): incompatible function arguments. The following argument types are supported:\n    1. (arg0: xla::PyBuffer::pyobject, arg1: jaxlib.xla_extension.Device) -> Status\n\nInvoked with: DeviceArray(285, dtype=int64), None",
     "output_type": "error",
     "traceback": [
      "\u001b[0;31m---------------------------------------------------------------------------\u001b[0m",
      "\u001b[0;31mTypeError\u001b[0m                                 Traceback (most recent call last)",
      "\u001b[1;32m/home/teo/OpenMined/PySyft/notebooks/jax/L2/test.ipynb Cell 11\u001b[0m in \u001b[0;36m1\n\u001b[0;32m----> <a href='vscode-notebook-cell:/home/teo/OpenMined/PySyft/notebooks/jax/L2/test.ipynb#X12sZmlsZQ%3D%3D?line=0'>1</a>\u001b[0m jnp\u001b[39m.\u001b[39;49mdot(result, result)\n",
      "    \u001b[0;31m[... skipping hidden 11 frame]\u001b[0m\n",
      "File \u001b[0;32m~/anaconda3/envs/PySyft/lib/python3.10/site-packages/jax/_src/device_array.py:67\u001b[0m, in \u001b[0;36mmake_device_array\u001b[0;34m(aval, device, device_buffer)\u001b[0m\n\u001b[1;32m     65\u001b[0m device_buffer \u001b[39m=\u001b[39m device_buffer\u001b[39m.\u001b[39mclone()\n\u001b[1;32m     66\u001b[0m \u001b[39mprint\u001b[39m(device)\n\u001b[0;32m---> 67\u001b[0m device_buffer\u001b[39m.\u001b[39m_device \u001b[39m=\u001b[39m device\n\u001b[1;32m     68\u001b[0m device_buffer\u001b[39m.\u001b[39maval \u001b[39m=\u001b[39m aval\n\u001b[1;32m     69\u001b[0m device_buffer\u001b[39m.\u001b[39mweak_type \u001b[39m=\u001b[39m aval\u001b[39m.\u001b[39mweak_type\n",
      "\u001b[0;31mTypeError\u001b[0m: (): incompatible function arguments. The following argument types are supported:\n    1. (arg0: xla::PyBuffer::pyobject, arg1: jaxlib.xla_extension.Device) -> Status\n\nInvoked with: DeviceArray(285, dtype=int64), None"
     ]
    }
   ],
   "source": [
    "jnp.dot(result, result)"
   ]
  },
  {
   "cell_type": "code",
   "execution_count": null,
   "metadata": {},
   "outputs": [
    {
     "data": {
      "text/plain": [
       "10"
      ]
     },
     "execution_count": 12,
     "metadata": {},
     "output_type": "execute_result"
    }
   ],
   "source": [
    "len(result)"
   ]
  },
  {
   "cell_type": "code",
   "execution_count": null,
   "metadata": {},
   "outputs": [],
   "source": [
    "def f(x):\n",
    "  if len(x) > 4:\n",
    "    return x\n",
    "  else:\n",
    "    return 2 * x\n",
    "\n",
    "f_jit = jax.jit(f)"
   ]
  },
  {
   "cell_type": "code",
   "execution_count": null,
   "metadata": {},
   "outputs": [
    {
     "name": "stdout",
     "output_type": "stream",
     "text": [
      "dict_keys([typing.Any, <class 'numpy.ndarray'>, <class 'numpy.bool_'>, <class 'numpy.int8'>, <class 'numpy.int16'>, <class 'numpy.int32'>, <class 'numpy.int64'>, <class 'numpy.uint8'>, <class 'numpy.uint16'>, <class 'numpy.uint32'>, <class 'numpy.uint64'>, <class 'numpy.float16'>, <class 'numpy.float32'>, <class 'numpy.float64'>, <class 'pandas.core.frame.DataFrame'>, <class 'pandas.core.series.Series'>, <class 'jaxlib.xla_extension.DeviceArray'>])\n"
     ]
    },
    {
     "ename": "AttributeError",
     "evalue": "'NoneType' object has no attribute 'client'",
     "output_type": "error",
     "traceback": [
      "\u001b[0;31m---------------------------------------------------------------------------\u001b[0m",
      "\u001b[0;31mAttributeError\u001b[0m                            Traceback (most recent call last)",
      "\u001b[1;32m/home/teo/OpenMined/PySyft/notebooks/jax/L2/test.ipynb Cell 14\u001b[0m in \u001b[0;36m1\n\u001b[0;32m----> <a href='vscode-notebook-cell:/home/teo/OpenMined/PySyft/notebooks/jax/L2/test.ipynb#X16sZmlsZQ%3D%3D?line=0'>1</a>\u001b[0m f_jit(result)\n",
      "    \u001b[0;31m[... skipping hidden 12 frame]\u001b[0m\n",
      "File \u001b[0;32m~/OpenMined/PySyft/packages/syft/src/syft/core/node/new/action_object.py:500\u001b[0m, in \u001b[0;36mActionObject.__getattribute__\u001b[0;34m(self, name)\u001b[0m\n\u001b[1;32m    498\u001b[0m     original_func \u001b[39m=\u001b[39m fake_func\n\u001b[1;32m    499\u001b[0m \u001b[39melse\u001b[39;00m:\n\u001b[0;32m--> 500\u001b[0m     original_func \u001b[39m=\u001b[39m \u001b[39mgetattr\u001b[39;49m(\u001b[39mself\u001b[39;49m\u001b[39m.\u001b[39;49msyft_action_data, name)\n\u001b[1;32m    502\u001b[0m \u001b[39mif\u001b[39;00m show_print:\n\u001b[1;32m    503\u001b[0m     debug_original_func(name, original_func)\n",
      "\u001b[0;31mAttributeError\u001b[0m: 'NoneType' object has no attribute 'client'"
     ]
    }
   ],
   "source": [
    "f_jit(result)"
   ]
  },
  {
   "cell_type": "code",
   "execution_count": null,
   "metadata": {},
   "outputs": [
    {
     "data": {
      "text/plain": [
       "<jaxlib.xla_extension.Client at 0x7ff8a5e098b0>"
      ]
     },
     "execution_count": 15,
     "metadata": {},
     "output_type": "execute_result"
    }
   ],
   "source": [
    "x.client"
   ]
  },
  {
   "cell_type": "code",
   "execution_count": null,
   "metadata": {},
   "outputs": [
    {
     "name": "stdout",
     "output_type": "stream",
     "text": [
      "dict_keys([typing.Any, <class 'numpy.ndarray'>, <class 'numpy.bool_'>, <class 'numpy.int8'>, <class 'numpy.int16'>, <class 'numpy.int32'>, <class 'numpy.int64'>, <class 'numpy.uint8'>, <class 'numpy.uint16'>, <class 'numpy.uint32'>, <class 'numpy.uint64'>, <class 'numpy.float16'>, <class 'numpy.float32'>, <class 'numpy.float64'>, <class 'pandas.core.frame.DataFrame'>, <class 'pandas.core.series.Series'>, <class 'jaxlib.xla_extension.DeviceArray'>])\n"
     ]
    },
    {
     "data": {
      "text/plain": [
       "<jaxlib.xla_extension.Client object at 0x7ff8a5e098b0>"
      ]
     },
     "execution_count": 16,
     "metadata": {},
     "output_type": "execute_result"
    }
   ],
   "source": [
    "result.client"
   ]
  }
 ],
 "metadata": {
  "kernelspec": {
   "display_name": "PySyft",
   "language": "python",
   "name": "python3"
  },
  "language_info": {
   "codemirror_mode": {
    "name": "ipython",
    "version": 3
   },
   "file_extension": ".py",
   "mimetype": "text/x-python",
   "name": "python",
   "nbconvert_exporter": "python",
   "pygments_lexer": "ipython3",
   "version": "3.10.4"
  },
  "orig_nbformat": 4
 },
 "nbformat": 4,
 "nbformat_minor": 2
}
