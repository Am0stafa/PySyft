{
 "cells": [
  {
   "cell_type": "code",
   "execution_count": 5,
   "metadata": {},
   "outputs": [],
   "source": [
    "import syft as sy\n",
    "worker = sy.Worker(name=\"CommandCenter\")\n",
    "root_domain_client = worker.root_client"
   ]
  },
  {
   "cell_type": "code",
   "execution_count": null,
   "metadata": {},
   "outputs": [],
   "source": [
    "import jax\n",
    "from syft.serde.lib_permissions import ALL_EXECUTE\n",
    "from syft.serde.lib_service_registry import CMPModule\n",
    "\n",
    "jax_module = CMPModule(\n",
    "            \"jax\",\n",
    "            permissions=ALL_EXECUTE,\n",
    "            children=[\n",
    "                CMPModule(\"numpy\", permissions=ALL_EXECUTE, obj=jax.numpy)\n",
    "            ]\n",
    "        )"
   ]
  },
  {
   "cell_type": "code",
   "execution_count": 2,
   "metadata": {},
   "outputs": [
    {
     "data": {
      "text/html": [
       "[&#x27;__annotations__&#x27;, &#x27;__class__&#x27;, &#x27;__delattr__&#x27;, &#x27;__dict__&#x27;, &#x27;__dir__&#x27;, &#x27;__doc__&#x27;, &#x27;__eq__&#x27;, &#x27;__format__&#x27;, &#x27;__ge__&#x27;, &#x27;__getattribute__&#x27;, &#x27;__getitem__&#x27;, &#x27;__gt__&#x27;, &#x27;__hash__&#x27;, &#x27;__init__&#x27;, &#x27;__init_subclass__&#x27;, &#x27;__le__&#x27;, &#x27;__lt__&#x27;, &#x27;__module__&#x27;, &#x27;__ne__&#x27;, &#x27;__new__&#x27;, &#x27;__reduce__&#x27;, &#x27;__reduce_ex__&#x27;, &#x27;__repr__&#x27;, &#x27;__setattr__&#x27;, &#x27;__sizeof__&#x27;, &#x27;__str__&#x27;, &#x27;__subclasshook__&#x27;, &#x27;__weakref__&#x27;, &#x27;_add_submodule&#x27;, &#x27;_modules&#x27;, &#x27;_repr_html_&#x27;, &#x27;bfloat16&#x27;, &#x27;bool_&#x27;, &#x27;complex128&#x27;, &#x27;complex64&#x27;, &#x27;float16&#x27;, &#x27;float32&#x27;, &#x27;float64&#x27;, &#x27;int16&#x27;, &#x27;int32&#x27;, &#x27;int64&#x27;, &#x27;int8&#x27;, &#x27;path&#x27;, &#x27;uint16&#x27;, &#x27;uint32&#x27;, &#x27;uint64&#x27;, &#x27;uint8&#x27;]"
      ],
      "text/plain": [
       "['__annotations__',\n",
       " '__class__',\n",
       " '__delattr__',\n",
       " '__dict__',\n",
       " '__dir__',\n",
       " '__doc__',\n",
       " '__eq__',\n",
       " '__format__',\n",
       " '__ge__',\n",
       " '__getattribute__',\n",
       " '__getitem__',\n",
       " '__gt__',\n",
       " '__hash__',\n",
       " '__init__',\n",
       " '__init_subclass__',\n",
       " '__le__',\n",
       " '__lt__',\n",
       " '__module__',\n",
       " '__ne__',\n",
       " '__new__',\n",
       " '__reduce__',\n",
       " '__reduce_ex__',\n",
       " '__repr__',\n",
       " '__setattr__',\n",
       " '__sizeof__',\n",
       " '__str__',\n",
       " '__subclasshook__',\n",
       " '__weakref__',\n",
       " '_add_submodule',\n",
       " '_modules',\n",
       " '_repr_html_',\n",
       " 'bfloat16',\n",
       " 'bool_',\n",
       " 'complex128',\n",
       " 'complex64',\n",
       " 'float16',\n",
       " 'float32',\n",
       " 'float64',\n",
       " 'int16',\n",
       " 'int32',\n",
       " 'int64',\n",
       " 'int8',\n",
       " 'path',\n",
       " 'uint16',\n",
       " 'uint32',\n",
       " 'uint64',\n",
       " 'uint8']"
      ]
     },
     "execution_count": 2,
     "metadata": {},
     "output_type": "execute_result"
    }
   ],
   "source": [
    "dir(root_domain_client.api.lib.jax.numpy)"
   ]
  },
  {
   "cell_type": "code",
   "execution_count": 3,
   "metadata": {},
   "outputs": [
    {
     "data": {
      "text/html": [
       "[&#x27;__builtins__&#x27;, &#x27;__cached__&#x27;, &#x27;__doc__&#x27;, &#x27;__file__&#x27;, &#x27;__loader__&#x27;, &#x27;__name__&#x27;, &#x27;__package__&#x27;, &#x27;__path__&#x27;, &#x27;__spec__&#x27;, &#x27;fft&#x27;, &#x27;index_tricks&#x27;, &#x27;lax_numpy&#x27;, &#x27;linalg&#x27;, &#x27;ndarray&#x27;, &#x27;polynomial&#x27;, &#x27;reductions&#x27;, &#x27;setops&#x27;, &#x27;ufuncs&#x27;, &#x27;util&#x27;, &#x27;vectorize&#x27;]"
      ],
      "text/plain": [
       "['__builtins__',\n",
       " '__cached__',\n",
       " '__doc__',\n",
       " '__file__',\n",
       " '__loader__',\n",
       " '__name__',\n",
       " '__package__',\n",
       " '__path__',\n",
       " '__spec__',\n",
       " 'fft',\n",
       " 'index_tricks',\n",
       " 'lax_numpy',\n",
       " 'linalg',\n",
       " 'ndarray',\n",
       " 'polynomial',\n",
       " 'reductions',\n",
       " 'setops',\n",
       " 'ufuncs',\n",
       " 'util',\n",
       " 'vectorize']"
      ]
     },
     "execution_count": 3,
     "metadata": {},
     "output_type": "execute_result"
    }
   ],
   "source": [
    "import jax\n",
    "dir(jax._src.numpy)"
   ]
  },
  {
   "cell_type": "code",
   "execution_count": 4,
   "metadata": {},
   "outputs": [
    {
     "data": {
      "text/plain": [
       "<module 'jax.numpy' from '/home/teo/anaconda3/envs/PySyft/lib/python3.10/site-packages/jax/numpy/__init__.py'>"
      ]
     },
     "execution_count": 4,
     "metadata": {},
     "output_type": "execute_result"
    }
   ],
   "source": [
    "jax.numpy"
   ]
  }
 ],
 "metadata": {
  "kernelspec": {
   "display_name": "PySyft",
   "language": "python",
   "name": "python3"
  },
  "language_info": {
   "codemirror_mode": {
    "name": "ipython",
    "version": 3
   },
   "file_extension": ".py",
   "mimetype": "text/x-python",
   "name": "python",
   "nbconvert_exporter": "python",
   "pygments_lexer": "ipython3",
   "version": "3.10.4"
  },
  "nbformat": 4,
  "nbformat_minor": 2
 },
 "nbformat": 4,
 "nbformat_minor": 2
}
