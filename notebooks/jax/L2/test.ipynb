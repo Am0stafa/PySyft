{
 "cells": [
  {
   "cell_type": "code",
   "execution_count": 1,
   "metadata": {},
   "outputs": [
    {
     "name": "stderr",
     "output_type": "stream",
     "text": [
      "kj/filesystem-disk-unix.c++:1703: warning: PWD environment variable doesn't match current directory; pwd = /home/teo/OpenMined/PySyft\n",
      "/home/teo/anaconda3/envs/PySyft/lib/python3.10/site-packages/scipy/__init__.py:146: UserWarning: A NumPy version >=1.16.5 and <1.23.0 is required for this version of SciPy (detected version 1.24.2\n",
      "  warnings.warn(f\"A NumPy version >={np_minversion} and <{np_maxversion}\"\n"
     ]
    }
   ],
   "source": [
    "import syft as sy"
   ]
  },
  {
   "cell_type": "code",
   "execution_count": 2,
   "metadata": {},
   "outputs": [
    {
     "name": "stdout",
     "output_type": "stream",
     "text": [
      "Current len 3\n",
      "Current len 4\n",
      "Current len 3\n",
      "Current len 3\n",
      "Current len 3\n",
      "Current len 2\n",
      "Current len 1\n",
      "Current len 0\n"
     ]
    }
   ],
   "source": [
    "from syft.serde.lib_permissions import ALL_EXECUTE\n",
    "from syft.serde.lib_service_registry import CMPModule\n",
    "from syft.serde import dummy_module\n",
    "\n",
    "stack  = []\n",
    "dummy = CMPModule(\n",
    "    \"dummy_module\",\n",
    "    permissions=ALL_EXECUTE,\n",
    "    obj=dummy_module\n",
    ")\n",
    "\n",
    "dummy.absolute_path = dummy.path\n",
    "stack.append(dummy)\n",
    "while len(stack) > 0:\n",
    "    c = stack.pop(0)\n",
    "    c.build(stack = stack, root=c)\n",
    "    print(\"Current len\", len(stack))\n"
   ]
  },
  {
   "cell_type": "code",
   "execution_count": 3,
   "metadata": {},
   "outputs": [
    {
     "data": {
      "text/plain": [
       "├───dummy_module (ALL_EXECUTE)\n",
       "│    ├───dummy_submodule (ALL_EXECUTE)\n",
       "│    │    ├───functions (ALL_EXECUTE)\n",
       "│    │    │    └───good_function (ALL_EXECUTE)\n",
       "│    │    └───dummy_subsubmodule (ALL_EXECUTE)\n",
       "│    ├───good_function (ALL_EXECUTE)\n",
       "│    └───lib (ALL_EXECUTE)\n",
       "│    │    └───DummyClass (ALL_EXECUTE)"
      ]
     },
     "execution_count": 3,
     "metadata": {},
     "output_type": "execute_result"
    }
   ],
   "source": [
    "dummy"
   ]
  },
  {
   "cell_type": "code",
   "execution_count": 4,
   "metadata": {},
   "outputs": [
    {
     "data": {
      "text/plain": [
       "<module 'jax.linear_util' from '/home/teo/anaconda3/envs/PySyft/lib/python3.10/site-packages/jax/linear_util.py'>"
      ]
     },
     "execution_count": 4,
     "metadata": {},
     "output_type": "execute_result"
    }
   ],
   "source": [
    "import jax\n",
    "jax._src.errors.core.lu"
   ]
  },
  {
   "cell_type": "code",
   "execution_count": 5,
   "metadata": {},
   "outputs": [],
   "source": [
    "# from syft.serde.lib_permissions import ALL_EXECUTE\n",
    "# from syft.serde.lib_service_registry import CMPModule\n",
    "# stack  = []\n",
    "# jax_module = CMPModule(\n",
    "#             \"jax\",\n",
    "#             permissions=ALL_EXECUTE,\n",
    "#         )\n",
    "\n",
    "# jax_module.absolute_path = jax_module.path\n",
    "# # jax_module.build()\n",
    "# stack.append(jax_module)\n",
    "# while len(stack) > 0:\n",
    "#     c = stack.pop(0)\n",
    "#     c.build(stack = stack, root=c)\n",
    "#     print(\"Current len\", len(stack))\n",
    "\n"
   ]
  },
  {
   "cell_type": "code",
   "execution_count": 6,
   "metadata": {},
   "outputs": [],
   "source": [
    "# import numpy\n",
    "# import jax\n",
    "# for name in jax.numpy.__dict__.keys():\n",
    "#     if name not in jax_module.numpy.children.keys():\n",
    "#         print(name)"
   ]
  },
  {
   "cell_type": "code",
   "execution_count": 7,
   "metadata": {},
   "outputs": [
    {
     "data": {
      "text/plain": [
       "dict_keys(['__name__', '__doc__', '__package__', '__loader__', '__spec__', '__path__', '__file__', '__cached__', '__builtins__', '_src', 'version', 'config', 'enable_checks', 'check_tracer_leaks', 'checking_leaks', 'enable_custom_prng', 'enable_custom_vjp_by_custom_transpose', 'debug_nans', 'debug_infs', 'log_compiles', 'default_device', 'default_matmul_precision', 'default_prng_impl', 'numpy_dtype_promotion', 'numpy_rank_promotion', 'jax2tf_associative_scan_reductions', 'transfer_guard', 'transfer_guard_host_to_device', 'transfer_guard_device_to_device', 'transfer_guard_device_to_host', 'errors', 'tree_util', 'linear_util', 'core', 'ensure_compile_time_eval', 'stages', 'interpreters', 'ad_checkpoint', 'custom_batching', 'custom_transpose', 'custom_derivatives', 'ad', 'effects_barrier', 'block_until_ready', 'checkpoint', 'checkpoint_policies', 'closure_convert', 'curry', 'custom_gradient', 'custom_jvp', 'custom_vjp', 'default_backend', 'device_count', 'device_get', 'device_put', 'device_put_sharded', 'device_put_replicated', 'devices', 'disable_jit', 'eval_shape', 'flatten_fun_nokwargs', 'float0', 'grad', 'hessian', 'host_count', 'host_id', 'host_ids', 'jacobian', 'jacfwd', 'jacrev', 'jit', 'jvp', 'local_device_count', 'local_devices', 'linearize', 'linear_transpose', 'make_jaxpr', 'mask', 'named_call', 'named_scope', 'pmap', 'process_count', 'process_index', 'pxla', 'remat', 'shapecheck', 'ShapedArray', 'ShapeDtypeStruct', 'treedef_is_leaf', 'tree_flatten', 'tree_leaves', 'tree_map', 'tree_multimap', 'tree_structure', 'tree_transpose', 'tree_unflatten', 'value_and_grad', 'vjp', 'vmap', 'xla', 'xla_computation', 'experimental', 'dtypes', 'api_util', 'lax', 'numpy', 'soft_pmap', '__version__', '__version_info__', 'abstract_arrays', 'distributed', 'image', 'random', 'scipy', 'nn', 'ops', 'profiler', 'util', 'lib', 'jax'])"
      ]
     },
     "execution_count": 7,
     "metadata": {},
     "output_type": "execute_result"
    }
   ],
   "source": [
    "jax.__dict__.keys()"
   ]
  },
  {
   "cell_type": "code",
   "execution_count": 8,
   "metadata": {},
   "outputs": [
    {
     "data": {
      "text/plain": [
       "dict_keys(['__name__', '__doc__', '__package__', '__loader__', '__spec__', '__path__', '__file__', '__cached__', '__builtins__', 'ndarray', 'util', 'reductions', 'ufuncs', 'vectorize', 'lax_numpy', 'linalg', 'fft', 'index_tricks', 'polynomial', 'setops'])"
      ]
     },
     "execution_count": 8,
     "metadata": {},
     "output_type": "execute_result"
    }
   ],
   "source": [
    "import jax\n",
    "jax._src.numpy.__dict__.keys()"
   ]
  },
  {
   "cell_type": "code",
   "execution_count": 15,
   "metadata": {},
   "outputs": [
    {
     "name": "stdout",
     "output_type": "stream",
     "text": [
      "> Worker: Command_center - 551117a325c84c6184768f8c121ba8e6 - NodeType.DOMAIN\n",
      "\n",
      "Services:\n",
      "ActionService\n",
      "DataSubjectMemberService\n",
      "DataSubjectService\n",
      "DatasetService\n",
      "MessageService\n",
      "MetadataService\n",
      "NetworkService\n",
      "PolicyService\n",
      "ProjectService\n",
      "RequestService\n",
      "UserCodeService\n",
      "UserService\n"
     ]
    },
    {
     "name": "stderr",
     "output_type": "stream",
     "text": [
      "/home/teo/anaconda3/envs/PySyft/lib/python3.10/site-packages/IPython/core/formatters.py:366: FormatterWarning: text/html formatter returned invalid type <class 'type'> (expected <class 'str'>) for object: <syft.client.api.APIModule object at 0x7ff584421c60>\n",
      "  warnings.warn(\n"
     ]
    },
    {
     "data": {
      "text/plain": [
       "<syft.client.api.APIModule at 0x7ff584421c60>"
      ]
     },
     "execution_count": 15,
     "metadata": {},
     "output_type": "execute_result"
    }
   ],
   "source": [
    "worker = sy.Worker(name=\"Command_center\")\n",
    "root_domain_client = worker.root_client\n",
    "root_domain_client.api.lib.jax"
   ]
  },
  {
   "cell_type": "code",
   "execution_count": 10,
   "metadata": {},
   "outputs": [
    {
     "data": {
      "text/html": [
       "[&#x27;__annotations__&#x27;, &#x27;__builtins__&#x27;, &#x27;__call__&#x27;, &#x27;__class__&#x27;, &#x27;__closure__&#x27;, &#x27;__code__&#x27;, &#x27;__defaults__&#x27;, &#x27;__delattr__&#x27;, &#x27;__dict__&#x27;, &#x27;__dir__&#x27;, &#x27;__doc__&#x27;, &#x27;__eq__&#x27;, &#x27;__format__&#x27;, &#x27;__ge__&#x27;, &#x27;__get__&#x27;, &#x27;__getattribute__&#x27;, &#x27;__globals__&#x27;, &#x27;__gt__&#x27;, &#x27;__hash__&#x27;, &#x27;__init__&#x27;, &#x27;__init_subclass__&#x27;, &#x27;__ipython_inspector_signature_override__&#x27;, &#x27;__kwdefaults__&#x27;, &#x27;__le__&#x27;, &#x27;__lt__&#x27;, &#x27;__module__&#x27;, &#x27;__name__&#x27;, &#x27;__ne__&#x27;, &#x27;__new__&#x27;, &#x27;__qualname__&#x27;, &#x27;__reduce__&#x27;, &#x27;__reduce_ex__&#x27;, &#x27;__repr__&#x27;, &#x27;__setattr__&#x27;, &#x27;__sizeof__&#x27;, &#x27;__str__&#x27;, &#x27;__subclasshook__&#x27;]"
      ],
      "text/plain": [
       "['__annotations__',\n",
       " '__builtins__',\n",
       " '__call__',\n",
       " '__class__',\n",
       " '__closure__',\n",
       " '__code__',\n",
       " '__defaults__',\n",
       " '__delattr__',\n",
       " '__dict__',\n",
       " '__dir__',\n",
       " '__doc__',\n",
       " '__eq__',\n",
       " '__format__',\n",
       " '__ge__',\n",
       " '__get__',\n",
       " '__getattribute__',\n",
       " '__globals__',\n",
       " '__gt__',\n",
       " '__hash__',\n",
       " '__init__',\n",
       " '__init_subclass__',\n",
       " '__ipython_inspector_signature_override__',\n",
       " '__kwdefaults__',\n",
       " '__le__',\n",
       " '__lt__',\n",
       " '__module__',\n",
       " '__name__',\n",
       " '__ne__',\n",
       " '__new__',\n",
       " '__qualname__',\n",
       " '__reduce__',\n",
       " '__reduce_ex__',\n",
       " '__repr__',\n",
       " '__setattr__',\n",
       " '__sizeof__',\n",
       " '__str__',\n",
       " '__subclasshook__']"
      ]
     },
     "execution_count": 10,
     "metadata": {},
     "output_type": "execute_result"
    }
   ],
   "source": [
    "dir(root_domain_client.api.lib.jax.numpy.add)\n"
   ]
  },
  {
   "cell_type": "code",
   "execution_count": 11,
   "metadata": {},
   "outputs": [
    {
     "name": "stderr",
     "output_type": "stream",
     "text": [
      "WARNING:absl:No GPU/TPU found, falling back to CPU. (Set TF_CPP_MIN_LOG_LEVEL=0 and rerun for more info.)\n"
     ]
    },
    {
     "name": "stdout",
     "output_type": "stream",
     "text": [
      "<class 'jaxlib.xla_extension.DeviceArray'> 3\n"
     ]
    },
    {
     "data": {
      "text/plain": [
       "syft.service.action.jax.DeviceArrayObject"
      ]
     },
     "execution_count": 11,
     "metadata": {},
     "output_type": "execute_result"
    }
   ],
   "source": [
    "# works if obj=jax._src.numpy.ufuncs in lib_service_registry\n",
    "# print(jax.__dict__[\"numpy\"].__dict__[\"add\"].__module__)\n",
    "# from syft.service.action.jax import DeviceArrayObject\n",
    "type(root_domain_client.api.lib.jax.numpy.add(1,2))"
   ]
  },
  {
   "cell_type": "code",
   "execution_count": 12,
   "metadata": {},
   "outputs": [
    {
     "name": "stdout",
     "output_type": "stream",
     "text": [
      "<class 'jaxlib.xla_extension.DeviceArray'> [1 2 3]\n"
     ]
    },
    {
     "data": {
      "text/plain": [
       "DeviceArray([1, 2, 3], dtype=int64)"
      ]
     },
     "execution_count": 12,
     "metadata": {},
     "output_type": "execute_result"
    }
   ],
   "source": [
    "# works if obj=jax._src.numpy.lax_numpy in lib_service_registry\n",
    "# print(jax.__dict__[\"numpy\"].__dict__[\"asarray\"].__module__)\n",
    "\n",
    "root_domain_client.api.lib.jax.numpy.asarray([1, 2, 3])"
   ]
  },
  {
   "cell_type": "code",
   "execution_count": null,
   "metadata": {},
   "outputs": [],
   "source": []
  },
  {
   "cell_type": "code",
   "execution_count": 13,
   "metadata": {},
   "outputs": [
    {
     "name": "stdout",
     "output_type": "stream",
     "text": [
      "Gradient of sin(x): 0.8775825618903728\n"
     ]
    }
   ],
   "source": [
    "import jax\n",
    "import jax.numpy as jnp\n",
    "\n",
    "def f(x):\n",
    "    return jnp.sin(x)\n",
    "\n",
    "grad_f = jax.grad(f)\n",
    "# grad_f = root_domain_client.api.lib.jax.grad(f)\n",
    "\n",
    "x = 0.5\n",
    "print(f\"Gradient of sin(x): {grad_f(x)}\")\n"
   ]
  },
  {
   "cell_type": "code",
   "execution_count": 14,
   "metadata": {},
   "outputs": [
    {
     "data": {
      "text/html": [
       "[&#x27;ComplexWarning&#x27;, &#x27;DeviceArray&#x27;, &#x27;NINF&#x27;, &#x27;NZERO&#x27;, &#x27;PZERO&#x27;, &#x27;_NOT_IMPLEMENTED&#x27;, &#x27;__builtins__&#x27;, &#x27;__cached__&#x27;, &#x27;__doc__&#x27;, &#x27;__file__&#x27;, &#x27;__loader__&#x27;, &#x27;__name__&#x27;, &#x27;__package__&#x27;, &#x27;__path__&#x27;, &#x27;__spec__&#x27;, &#x27;_add_newdoc_ufunc&#x27;, &#x27;_get_promotion_state&#x27;, &#x27;_no_nep50_warning&#x27;, &#x27;_pyinstaller_hooks_dir&#x27;, &#x27;_set_promotion_state&#x27;, &#x27;abs&#x27;, &#x27;absolute&#x27;, &#x27;add&#x27;, &#x27;add_docstring&#x27;, &#x27;add_newdoc&#x27;, &#x27;add_newdoc_ufunc&#x27;, &#x27;all&#x27;, &#x27;allclose&#x27;, &#x27;alltrue&#x27;, &#x27;amax&#x27;, &#x27;amin&#x27;, &#x27;angle&#x27;, &#x27;any&#x27;, &#x27;append&#x27;, &#x27;apply_along_axis&#x27;, &#x27;apply_over_axes&#x27;, &#x27;arange&#x27;, &#x27;arccos&#x27;, &#x27;arccosh&#x27;, &#x27;arcsin&#x27;, &#x27;arcsinh&#x27;, &#x27;arctan&#x27;, &#x27;arctan2&#x27;, &#x27;arctanh&#x27;, &#x27;argmax&#x27;, &#x27;argmin&#x27;, &#x27;argpartition&#x27;, &#x27;argsort&#x27;, &#x27;argwhere&#x27;, &#x27;around&#x27;, &#x27;array&#x27;, &#x27;array2string&#x27;, &#x27;array_equal&#x27;, &#x27;array_equiv&#x27;, &#x27;array_repr&#x27;, &#x27;array_split&#x27;, &#x27;array_str&#x27;, &#x27;asanyarray&#x27;, &#x27;asarray&#x27;, &#x27;asarray_chkfinite&#x27;, &#x27;ascontiguousarray&#x27;, &#x27;asfarray&#x27;, &#x27;asfortranarray&#x27;, &#x27;asmatrix&#x27;, &#x27;atleast_1d&#x27;, &#x27;atleast_2d&#x27;, &#x27;atleast_3d&#x27;, &#x27;average&#x27;, &#x27;bartlett&#x27;, &#x27;base_repr&#x27;, &#x27;bfloat16&#x27;, &#x27;binary_repr&#x27;, &#x27;bincount&#x27;, &#x27;bitwise_and&#x27;, &#x27;bitwise_not&#x27;, &#x27;bitwise_or&#x27;, &#x27;bitwise_xor&#x27;, &#x27;blackman&#x27;, &#x27;block&#x27;, &#x27;bmat&#x27;, &#x27;bool_&#x27;, &#x27;broadcast_arrays&#x27;, &#x27;broadcast_shapes&#x27;, &#x27;broadcast_to&#x27;, &#x27;busday_count&#x27;, &#x27;busday_offset&#x27;, &#x27;byte_bounds&#x27;, &#x27;c_&#x27;, &#x27;can_cast&#x27;, &#x27;cbrt&#x27;, &#x27;cdouble&#x27;, &#x27;ceil&#x27;, &#x27;character&#x27;, &#x27;choose&#x27;, &#x27;clip&#x27;, &#x27;column_stack&#x27;, &#x27;common_type&#x27;, &#x27;compare_chararrays&#x27;, &#x27;complex128&#x27;, &#x27;complex64&#x27;, &#x27;complex_&#x27;, &#x27;complexfloating&#x27;, &#x27;compress&#x27;, &#x27;concatenate&#x27;, &#x27;conj&#x27;, &#x27;conjugate&#x27;, &#x27;convolve&#x27;, &#x27;copy&#x27;, &#x27;copysign&#x27;, &#x27;copyto&#x27;, &#x27;corrcoef&#x27;, &#x27;correlate&#x27;, &#x27;cos&#x27;, &#x27;cosh&#x27;, &#x27;count_nonzero&#x27;, &#x27;cov&#x27;, &#x27;cross&#x27;, &#x27;csingle&#x27;, &#x27;cumprod&#x27;, &#x27;cumproduct&#x27;, &#x27;cumsum&#x27;, &#x27;datetime_as_string&#x27;, &#x27;datetime_data&#x27;, &#x27;deg2rad&#x27;, &#x27;degrees&#x27;, &#x27;delete&#x27;, &#x27;deprecate&#x27;, &#x27;deprecate_with_doc&#x27;, &#x27;diag&#x27;, &#x27;diag_indices&#x27;, &#x27;diag_indices_from&#x27;, &#x27;diagflat&#x27;, &#x27;diagonal&#x27;, &#x27;diff&#x27;, &#x27;digitize&#x27;, &#x27;disp&#x27;, &#x27;divide&#x27;, &#x27;divmod&#x27;, &#x27;dot&#x27;, &#x27;double&#x27;, &#x27;dsplit&#x27;, &#x27;dstack&#x27;, &#x27;dtype&#x27;, &#x27;e&#x27;, &#x27;ediff1d&#x27;, &#x27;einsum&#x27;, &#x27;einsum_path&#x27;, &#x27;empty&#x27;, &#x27;empty_like&#x27;, &#x27;equal&#x27;, &#x27;euler_gamma&#x27;, &#x27;exp&#x27;, &#x27;exp2&#x27;, &#x27;expand_dims&#x27;, &#x27;expm1&#x27;, &#x27;extract&#x27;, &#x27;eye&#x27;, &#x27;fabs&#x27;, &#x27;fastCopyAndTranspose&#x27;, &#x27;fft&#x27;, &#x27;fill_diagonal&#x27;, &#x27;find_common_type&#x27;, &#x27;finfo&#x27;, &#x27;fix&#x27;, &#x27;flatnonzero&#x27;, &#x27;flexible&#x27;, &#x27;flip&#x27;, &#x27;fliplr&#x27;, &#x27;flipud&#x27;, &#x27;float16&#x27;, &#x27;float32&#x27;, &#x27;float64&#x27;, &#x27;float_&#x27;, &#x27;float_power&#x27;, &#x27;floating&#x27;, &#x27;floor&#x27;, &#x27;floor_divide&#x27;, &#x27;fmax&#x27;, &#x27;fmin&#x27;, &#x27;fmod&#x27;, &#x27;format_float_positional&#x27;, &#x27;format_float_scientific&#x27;, &#x27;frexp&#x27;, &#x27;from_dlpack&#x27;, &#x27;frombuffer&#x27;, &#x27;fromfile&#x27;, &#x27;fromfunction&#x27;, &#x27;fromiter&#x27;, &#x27;frompyfunc&#x27;, &#x27;fromregex&#x27;, &#x27;fromstring&#x27;, &#x27;full&#x27;, &#x27;full_like&#x27;, &#x27;gcd&#x27;, &#x27;generic&#x27;, &#x27;genfromtxt&#x27;, &#x27;geomspace&#x27;, &#x27;get_array_wrap&#x27;, &#x27;get_include&#x27;, &#x27;get_printoptions&#x27;, &#x27;getbufsize&#x27;, &#x27;geterr&#x27;, &#x27;geterrcall&#x27;, &#x27;geterrobj&#x27;, &#x27;gradient&#x27;, &#x27;greater&#x27;, &#x27;greater_equal&#x27;, &#x27;hamming&#x27;, &#x27;hanning&#x27;, &#x27;heaviside&#x27;, &#x27;histogram&#x27;, &#x27;histogram2d&#x27;, &#x27;histogram_bin_edges&#x27;, &#x27;histogramdd&#x27;, &#x27;hsplit&#x27;, &#x27;hstack&#x27;, &#x27;hypot&#x27;, &#x27;i0&#x27;, &#x27;identity&#x27;, &#x27;iinfo&#x27;, &#x27;imag&#x27;, &#x27;in1d&#x27;, &#x27;index_exp&#x27;, &#x27;indices&#x27;, &#x27;inexact&#x27;, &#x27;inf&#x27;, &#x27;info&#x27;, &#x27;inner&#x27;, &#x27;insert&#x27;, &#x27;int16&#x27;, &#x27;int32&#x27;, &#x27;int64&#x27;, &#x27;int8&#x27;, &#x27;int_&#x27;, &#x27;integer&#x27;, &#x27;interp&#x27;, &#x27;intersect1d&#x27;, &#x27;invert&#x27;, &#x27;is_busday&#x27;, &#x27;isclose&#x27;, &#x27;iscomplex&#x27;, &#x27;iscomplexobj&#x27;, &#x27;isfinite&#x27;, &#x27;isfortran&#x27;, &#x27;isin&#x27;, &#x27;isinf&#x27;, &#x27;isnan&#x27;, &#x27;isnat&#x27;, &#x27;isneginf&#x27;, &#x27;isposinf&#x27;, &#x27;isreal&#x27;, &#x27;isrealobj&#x27;, &#x27;isscalar&#x27;, &#x27;issctype&#x27;, &#x27;issubclass_&#x27;, &#x27;issubdtype&#x27;, &#x27;issubsctype&#x27;, &#x27;iterable&#x27;, &#x27;ix_&#x27;, &#x27;kaiser&#x27;, &#x27;kron&#x27;, &#x27;lcm&#x27;, &#x27;ldexp&#x27;, &#x27;left_shift&#x27;, &#x27;less&#x27;, &#x27;less_equal&#x27;, &#x27;lexsort&#x27;, &#x27;linalg&#x27;, &#x27;linspace&#x27;, &#x27;load&#x27;, &#x27;loadtxt&#x27;, &#x27;log&#x27;, &#x27;log10&#x27;, &#x27;log1p&#x27;, &#x27;log2&#x27;, &#x27;logaddexp&#x27;, &#x27;logaddexp2&#x27;, &#x27;logical_and&#x27;, &#x27;logical_not&#x27;, &#x27;logical_or&#x27;, &#x27;logical_xor&#x27;, &#x27;logspace&#x27;, &#x27;lookfor&#x27;, &#x27;mask_indices&#x27;, &#x27;mat&#x27;, &#x27;matmul&#x27;, &#x27;max&#x27;, &#x27;maximum&#x27;, &#x27;maximum_sctype&#x27;, &#x27;may_share_memory&#x27;, &#x27;mean&#x27;, &#x27;median&#x27;, &#x27;meshgrid&#x27;, &#x27;mgrid&#x27;, &#x27;min&#x27;, &#x27;min_scalar_type&#x27;, &#x27;minimum&#x27;, &#x27;mintypecode&#x27;, &#x27;mod&#x27;, &#x27;modf&#x27;, &#x27;moveaxis&#x27;, &#x27;msort&#x27;, &#x27;multiply&#x27;, &#x27;nan&#x27;, &#x27;nan_to_num&#x27;, &#x27;nanargmax&#x27;, &#x27;nanargmin&#x27;, &#x27;nancumprod&#x27;, &#x27;nancumsum&#x27;, &#x27;nanmax&#x27;, &#x27;nanmean&#x27;, &#x27;nanmedian&#x27;, &#x27;nanmin&#x27;, &#x27;nanpercentile&#x27;, &#x27;nanprod&#x27;, &#x27;nanquantile&#x27;, &#x27;nanstd&#x27;, &#x27;nansum&#x27;, &#x27;nanvar&#x27;, &#x27;ndarray&#x27;, &#x27;ndim&#x27;, &#x27;negative&#x27;, &#x27;nested_iters&#x27;, &#x27;newaxis&#x27;, &#x27;nextafter&#x27;, &#x27;nonzero&#x27;, &#x27;not_equal&#x27;, &#x27;number&#x27;, &#x27;obj2sctype&#x27;, &#x27;object_&#x27;, &#x27;ogrid&#x27;, &#x27;ones&#x27;, &#x27;ones_like&#x27;, &#x27;outer&#x27;, &#x27;packbits&#x27;, &#x27;pad&#x27;, &#x27;partition&#x27;, &#x27;percentile&#x27;, &#x27;pi&#x27;, &#x27;piecewise&#x27;, &#x27;place&#x27;, &#x27;poly&#x27;, &#x27;polyadd&#x27;, &#x27;polyder&#x27;, &#x27;polydiv&#x27;, &#x27;polyfit&#x27;, &#x27;polyint&#x27;, &#x27;polymul&#x27;, &#x27;polysub&#x27;, &#x27;polyval&#x27;, &#x27;positive&#x27;, &#x27;power&#x27;, &#x27;printoptions&#x27;, &#x27;prod&#x27;, &#x27;product&#x27;, &#x27;promote_types&#x27;, &#x27;ptp&#x27;, &#x27;put&#x27;, &#x27;put_along_axis&#x27;, &#x27;putmask&#x27;, &#x27;quantile&#x27;, &#x27;r_&#x27;, &#x27;rad2deg&#x27;, &#x27;radians&#x27;, &#x27;ravel&#x27;, &#x27;ravel_multi_index&#x27;, &#x27;real&#x27;, &#x27;real_if_close&#x27;, &#x27;recfromcsv&#x27;, &#x27;recfromtxt&#x27;, &#x27;reciprocal&#x27;, &#x27;remainder&#x27;, &#x27;repeat&#x27;, &#x27;require&#x27;, &#x27;reshape&#x27;, &#x27;resize&#x27;, &#x27;result_type&#x27;, &#x27;right_shift&#x27;, &#x27;rint&#x27;, &#x27;roll&#x27;, &#x27;rollaxis&#x27;, &#x27;roots&#x27;, &#x27;rot90&#x27;, &#x27;round&#x27;, &#x27;round_&#x27;, &#x27;row_stack&#x27;, &#x27;s_&#x27;, &#x27;safe_eval&#x27;, &#x27;save&#x27;, &#x27;savetxt&#x27;, &#x27;savez&#x27;, &#x27;savez_compressed&#x27;, &#x27;sctype2char&#x27;, &#x27;searchsorted&#x27;, &#x27;select&#x27;, &#x27;set_numeric_ops&#x27;, &#x27;set_printoptions&#x27;, &#x27;set_string_function&#x27;, &#x27;setbufsize&#x27;, &#x27;setdiff1d&#x27;, &#x27;seterr&#x27;, &#x27;seterrcall&#x27;, &#x27;seterrobj&#x27;, &#x27;setxor1d&#x27;, &#x27;shape&#x27;, &#x27;shares_memory&#x27;, &#x27;show_config&#x27;, &#x27;show_runtime&#x27;, &#x27;sign&#x27;, &#x27;signbit&#x27;, &#x27;signedinteger&#x27;, &#x27;sin&#x27;, &#x27;sinc&#x27;, &#x27;single&#x27;, &#x27;sinh&#x27;, &#x27;size&#x27;, &#x27;sometrue&#x27;, &#x27;sort&#x27;, &#x27;sort_complex&#x27;, &#x27;source&#x27;, &#x27;spacing&#x27;, &#x27;split&#x27;, &#x27;sqrt&#x27;, &#x27;square&#x27;, &#x27;squeeze&#x27;, &#x27;stack&#x27;, &#x27;std&#x27;, &#x27;subtract&#x27;, &#x27;sum&#x27;, &#x27;swapaxes&#x27;, &#x27;take&#x27;, &#x27;take_along_axis&#x27;, &#x27;tan&#x27;, &#x27;tanh&#x27;, &#x27;tensordot&#x27;, &#x27;tile&#x27;, &#x27;trace&#x27;, &#x27;transpose&#x27;, &#x27;trapz&#x27;, &#x27;tri&#x27;, &#x27;tril&#x27;, &#x27;tril_indices&#x27;, &#x27;tril_indices_from&#x27;, &#x27;trim_zeros&#x27;, &#x27;triu&#x27;, &#x27;triu_indices&#x27;, &#x27;triu_indices_from&#x27;, &#x27;true_divide&#x27;, &#x27;trunc&#x27;, &#x27;typename&#x27;, &#x27;uint&#x27;, &#x27;uint16&#x27;, &#x27;uint32&#x27;, &#x27;uint64&#x27;, &#x27;uint8&#x27;, &#x27;union1d&#x27;, &#x27;unique&#x27;, &#x27;unpackbits&#x27;, &#x27;unravel_index&#x27;, &#x27;unsignedinteger&#x27;, &#x27;unwrap&#x27;, &#x27;vander&#x27;, &#x27;var&#x27;, &#x27;vdot&#x27;, &#x27;vectorize&#x27;, &#x27;vsplit&#x27;, &#x27;vstack&#x27;, &#x27;where&#x27;, &#x27;who&#x27;, &#x27;zeros&#x27;, &#x27;zeros_like&#x27;]"
      ],
      "text/plain": [
       "['ComplexWarning',\n",
       " 'DeviceArray',\n",
       " 'NINF',\n",
       " 'NZERO',\n",
       " 'PZERO',\n",
       " '_NOT_IMPLEMENTED',\n",
       " '__builtins__',\n",
       " '__cached__',\n",
       " '__doc__',\n",
       " '__file__',\n",
       " '__loader__',\n",
       " '__name__',\n",
       " '__package__',\n",
       " '__path__',\n",
       " '__spec__',\n",
       " '_add_newdoc_ufunc',\n",
       " '_get_promotion_state',\n",
       " '_no_nep50_warning',\n",
       " '_pyinstaller_hooks_dir',\n",
       " '_set_promotion_state',\n",
       " 'abs',\n",
       " 'absolute',\n",
       " 'add',\n",
       " 'add_docstring',\n",
       " 'add_newdoc',\n",
       " 'add_newdoc_ufunc',\n",
       " 'all',\n",
       " 'allclose',\n",
       " 'alltrue',\n",
       " 'amax',\n",
       " 'amin',\n",
       " 'angle',\n",
       " 'any',\n",
       " 'append',\n",
       " 'apply_along_axis',\n",
       " 'apply_over_axes',\n",
       " 'arange',\n",
       " 'arccos',\n",
       " 'arccosh',\n",
       " 'arcsin',\n",
       " 'arcsinh',\n",
       " 'arctan',\n",
       " 'arctan2',\n",
       " 'arctanh',\n",
       " 'argmax',\n",
       " 'argmin',\n",
       " 'argpartition',\n",
       " 'argsort',\n",
       " 'argwhere',\n",
       " 'around',\n",
       " 'array',\n",
       " 'array2string',\n",
       " 'array_equal',\n",
       " 'array_equiv',\n",
       " 'array_repr',\n",
       " 'array_split',\n",
       " 'array_str',\n",
       " 'asanyarray',\n",
       " 'asarray',\n",
       " 'asarray_chkfinite',\n",
       " 'ascontiguousarray',\n",
       " 'asfarray',\n",
       " 'asfortranarray',\n",
       " 'asmatrix',\n",
       " 'atleast_1d',\n",
       " 'atleast_2d',\n",
       " 'atleast_3d',\n",
       " 'average',\n",
       " 'bartlett',\n",
       " 'base_repr',\n",
       " 'bfloat16',\n",
       " 'binary_repr',\n",
       " 'bincount',\n",
       " 'bitwise_and',\n",
       " 'bitwise_not',\n",
       " 'bitwise_or',\n",
       " 'bitwise_xor',\n",
       " 'blackman',\n",
       " 'block',\n",
       " 'bmat',\n",
       " 'bool_',\n",
       " 'broadcast_arrays',\n",
       " 'broadcast_shapes',\n",
       " 'broadcast_to',\n",
       " 'busday_count',\n",
       " 'busday_offset',\n",
       " 'byte_bounds',\n",
       " 'c_',\n",
       " 'can_cast',\n",
       " 'cbrt',\n",
       " 'cdouble',\n",
       " 'ceil',\n",
       " 'character',\n",
       " 'choose',\n",
       " 'clip',\n",
       " 'column_stack',\n",
       " 'common_type',\n",
       " 'compare_chararrays',\n",
       " 'complex128',\n",
       " 'complex64',\n",
       " 'complex_',\n",
       " 'complexfloating',\n",
       " 'compress',\n",
       " 'concatenate',\n",
       " 'conj',\n",
       " 'conjugate',\n",
       " 'convolve',\n",
       " 'copy',\n",
       " 'copysign',\n",
       " 'copyto',\n",
       " 'corrcoef',\n",
       " 'correlate',\n",
       " 'cos',\n",
       " 'cosh',\n",
       " 'count_nonzero',\n",
       " 'cov',\n",
       " 'cross',\n",
       " 'csingle',\n",
       " 'cumprod',\n",
       " 'cumproduct',\n",
       " 'cumsum',\n",
       " 'datetime_as_string',\n",
       " 'datetime_data',\n",
       " 'deg2rad',\n",
       " 'degrees',\n",
       " 'delete',\n",
       " 'deprecate',\n",
       " 'deprecate_with_doc',\n",
       " 'diag',\n",
       " 'diag_indices',\n",
       " 'diag_indices_from',\n",
       " 'diagflat',\n",
       " 'diagonal',\n",
       " 'diff',\n",
       " 'digitize',\n",
       " 'disp',\n",
       " 'divide',\n",
       " 'divmod',\n",
       " 'dot',\n",
       " 'double',\n",
       " 'dsplit',\n",
       " 'dstack',\n",
       " 'dtype',\n",
       " 'e',\n",
       " 'ediff1d',\n",
       " 'einsum',\n",
       " 'einsum_path',\n",
       " 'empty',\n",
       " 'empty_like',\n",
       " 'equal',\n",
       " 'euler_gamma',\n",
       " 'exp',\n",
       " 'exp2',\n",
       " 'expand_dims',\n",
       " 'expm1',\n",
       " 'extract',\n",
       " 'eye',\n",
       " 'fabs',\n",
       " 'fastCopyAndTranspose',\n",
       " 'fft',\n",
       " 'fill_diagonal',\n",
       " 'find_common_type',\n",
       " 'finfo',\n",
       " 'fix',\n",
       " 'flatnonzero',\n",
       " 'flexible',\n",
       " 'flip',\n",
       " 'fliplr',\n",
       " 'flipud',\n",
       " 'float16',\n",
       " 'float32',\n",
       " 'float64',\n",
       " 'float_',\n",
       " 'float_power',\n",
       " 'floating',\n",
       " 'floor',\n",
       " 'floor_divide',\n",
       " 'fmax',\n",
       " 'fmin',\n",
       " 'fmod',\n",
       " 'format_float_positional',\n",
       " 'format_float_scientific',\n",
       " 'frexp',\n",
       " 'from_dlpack',\n",
       " 'frombuffer',\n",
       " 'fromfile',\n",
       " 'fromfunction',\n",
       " 'fromiter',\n",
       " 'frompyfunc',\n",
       " 'fromregex',\n",
       " 'fromstring',\n",
       " 'full',\n",
       " 'full_like',\n",
       " 'gcd',\n",
       " 'generic',\n",
       " 'genfromtxt',\n",
       " 'geomspace',\n",
       " 'get_array_wrap',\n",
       " 'get_include',\n",
       " 'get_printoptions',\n",
       " 'getbufsize',\n",
       " 'geterr',\n",
       " 'geterrcall',\n",
       " 'geterrobj',\n",
       " 'gradient',\n",
       " 'greater',\n",
       " 'greater_equal',\n",
       " 'hamming',\n",
       " 'hanning',\n",
       " 'heaviside',\n",
       " 'histogram',\n",
       " 'histogram2d',\n",
       " 'histogram_bin_edges',\n",
       " 'histogramdd',\n",
       " 'hsplit',\n",
       " 'hstack',\n",
       " 'hypot',\n",
       " 'i0',\n",
       " 'identity',\n",
       " 'iinfo',\n",
       " 'imag',\n",
       " 'in1d',\n",
       " 'index_exp',\n",
       " 'indices',\n",
       " 'inexact',\n",
       " 'inf',\n",
       " 'info',\n",
       " 'inner',\n",
       " 'insert',\n",
       " 'int16',\n",
       " 'int32',\n",
       " 'int64',\n",
       " 'int8',\n",
       " 'int_',\n",
       " 'integer',\n",
       " 'interp',\n",
       " 'intersect1d',\n",
       " 'invert',\n",
       " 'is_busday',\n",
       " 'isclose',\n",
       " 'iscomplex',\n",
       " 'iscomplexobj',\n",
       " 'isfinite',\n",
       " 'isfortran',\n",
       " 'isin',\n",
       " 'isinf',\n",
       " 'isnan',\n",
       " 'isnat',\n",
       " 'isneginf',\n",
       " 'isposinf',\n",
       " 'isreal',\n",
       " 'isrealobj',\n",
       " 'isscalar',\n",
       " 'issctype',\n",
       " 'issubclass_',\n",
       " 'issubdtype',\n",
       " 'issubsctype',\n",
       " 'iterable',\n",
       " 'ix_',\n",
       " 'kaiser',\n",
       " 'kron',\n",
       " 'lcm',\n",
       " 'ldexp',\n",
       " 'left_shift',\n",
       " 'less',\n",
       " 'less_equal',\n",
       " 'lexsort',\n",
       " 'linalg',\n",
       " 'linspace',\n",
       " 'load',\n",
       " 'loadtxt',\n",
       " 'log',\n",
       " 'log10',\n",
       " 'log1p',\n",
       " 'log2',\n",
       " 'logaddexp',\n",
       " 'logaddexp2',\n",
       " 'logical_and',\n",
       " 'logical_not',\n",
       " 'logical_or',\n",
       " 'logical_xor',\n",
       " 'logspace',\n",
       " 'lookfor',\n",
       " 'mask_indices',\n",
       " 'mat',\n",
       " 'matmul',\n",
       " 'max',\n",
       " 'maximum',\n",
       " 'maximum_sctype',\n",
       " 'may_share_memory',\n",
       " 'mean',\n",
       " 'median',\n",
       " 'meshgrid',\n",
       " 'mgrid',\n",
       " 'min',\n",
       " 'min_scalar_type',\n",
       " 'minimum',\n",
       " 'mintypecode',\n",
       " 'mod',\n",
       " 'modf',\n",
       " 'moveaxis',\n",
       " 'msort',\n",
       " 'multiply',\n",
       " 'nan',\n",
       " 'nan_to_num',\n",
       " 'nanargmax',\n",
       " 'nanargmin',\n",
       " 'nancumprod',\n",
       " 'nancumsum',\n",
       " 'nanmax',\n",
       " 'nanmean',\n",
       " 'nanmedian',\n",
       " 'nanmin',\n",
       " 'nanpercentile',\n",
       " 'nanprod',\n",
       " 'nanquantile',\n",
       " 'nanstd',\n",
       " 'nansum',\n",
       " 'nanvar',\n",
       " 'ndarray',\n",
       " 'ndim',\n",
       " 'negative',\n",
       " 'nested_iters',\n",
       " 'newaxis',\n",
       " 'nextafter',\n",
       " 'nonzero',\n",
       " 'not_equal',\n",
       " 'number',\n",
       " 'obj2sctype',\n",
       " 'object_',\n",
       " 'ogrid',\n",
       " 'ones',\n",
       " 'ones_like',\n",
       " 'outer',\n",
       " 'packbits',\n",
       " 'pad',\n",
       " 'partition',\n",
       " 'percentile',\n",
       " 'pi',\n",
       " 'piecewise',\n",
       " 'place',\n",
       " 'poly',\n",
       " 'polyadd',\n",
       " 'polyder',\n",
       " 'polydiv',\n",
       " 'polyfit',\n",
       " 'polyint',\n",
       " 'polymul',\n",
       " 'polysub',\n",
       " 'polyval',\n",
       " 'positive',\n",
       " 'power',\n",
       " 'printoptions',\n",
       " 'prod',\n",
       " 'product',\n",
       " 'promote_types',\n",
       " 'ptp',\n",
       " 'put',\n",
       " 'put_along_axis',\n",
       " 'putmask',\n",
       " 'quantile',\n",
       " 'r_',\n",
       " 'rad2deg',\n",
       " 'radians',\n",
       " 'ravel',\n",
       " 'ravel_multi_index',\n",
       " 'real',\n",
       " 'real_if_close',\n",
       " 'recfromcsv',\n",
       " 'recfromtxt',\n",
       " 'reciprocal',\n",
       " 'remainder',\n",
       " 'repeat',\n",
       " 'require',\n",
       " 'reshape',\n",
       " 'resize',\n",
       " 'result_type',\n",
       " 'right_shift',\n",
       " 'rint',\n",
       " 'roll',\n",
       " 'rollaxis',\n",
       " 'roots',\n",
       " 'rot90',\n",
       " 'round',\n",
       " 'round_',\n",
       " 'row_stack',\n",
       " 's_',\n",
       " 'safe_eval',\n",
       " 'save',\n",
       " 'savetxt',\n",
       " 'savez',\n",
       " 'savez_compressed',\n",
       " 'sctype2char',\n",
       " 'searchsorted',\n",
       " 'select',\n",
       " 'set_numeric_ops',\n",
       " 'set_printoptions',\n",
       " 'set_string_function',\n",
       " 'setbufsize',\n",
       " 'setdiff1d',\n",
       " 'seterr',\n",
       " 'seterrcall',\n",
       " 'seterrobj',\n",
       " 'setxor1d',\n",
       " 'shape',\n",
       " 'shares_memory',\n",
       " 'show_config',\n",
       " 'show_runtime',\n",
       " 'sign',\n",
       " 'signbit',\n",
       " 'signedinteger',\n",
       " 'sin',\n",
       " 'sinc',\n",
       " 'single',\n",
       " 'sinh',\n",
       " 'size',\n",
       " 'sometrue',\n",
       " 'sort',\n",
       " 'sort_complex',\n",
       " 'source',\n",
       " 'spacing',\n",
       " 'split',\n",
       " 'sqrt',\n",
       " 'square',\n",
       " 'squeeze',\n",
       " 'stack',\n",
       " 'std',\n",
       " 'subtract',\n",
       " 'sum',\n",
       " 'swapaxes',\n",
       " 'take',\n",
       " 'take_along_axis',\n",
       " 'tan',\n",
       " 'tanh',\n",
       " 'tensordot',\n",
       " 'tile',\n",
       " 'trace',\n",
       " 'transpose',\n",
       " 'trapz',\n",
       " 'tri',\n",
       " 'tril',\n",
       " 'tril_indices',\n",
       " 'tril_indices_from',\n",
       " 'trim_zeros',\n",
       " 'triu',\n",
       " 'triu_indices',\n",
       " 'triu_indices_from',\n",
       " 'true_divide',\n",
       " 'trunc',\n",
       " 'typename',\n",
       " 'uint',\n",
       " 'uint16',\n",
       " 'uint32',\n",
       " 'uint64',\n",
       " 'uint8',\n",
       " 'union1d',\n",
       " 'unique',\n",
       " 'unpackbits',\n",
       " 'unravel_index',\n",
       " 'unsignedinteger',\n",
       " 'unwrap',\n",
       " 'vander',\n",
       " 'var',\n",
       " 'vdot',\n",
       " 'vectorize',\n",
       " 'vsplit',\n",
       " 'vstack',\n",
       " 'where',\n",
       " 'who',\n",
       " 'zeros',\n",
       " 'zeros_like']"
      ]
     },
     "execution_count": 14,
     "metadata": {},
     "output_type": "execute_result"
    }
   ],
   "source": [
    "dir(jax.numpy) #_src) # _src.numpy.ufuncs)"
   ]
  },
  {
   "cell_type": "code",
   "execution_count": null,
   "metadata": {},
   "outputs": [],
   "source": []
  }
 ],
 "metadata": {
  "kernelspec": {
   "display_name": "PySyft",
   "language": "python",
   "name": "python3"
  },
  "language_info": {
   "codemirror_mode": {
    "name": "ipython",
    "version": 3
   },
   "file_extension": ".py",
   "mimetype": "text/x-python",
   "name": "python",
   "nbconvert_exporter": "python",
   "pygments_lexer": "ipython3",
   "version": "3.10.4"
  },
  "orig_nbformat": 4
 },
 "nbformat": 4,
 "nbformat_minor": 2
}
