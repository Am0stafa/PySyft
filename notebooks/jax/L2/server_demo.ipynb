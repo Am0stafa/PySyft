{
 "cells": [
  {
   "attachments": {},
   "cell_type": "markdown",
   "metadata": {},
   "source": [
    "# Server side Jax\n",
    "\n"
   ]
  },
  {
   "cell_type": "code",
   "execution_count": 31,
   "metadata": {},
   "outputs": [],
   "source": [
    "from syft import jax, jnp\n",
    "import syft as sy"
   ]
  },
  {
   "attachments": {},
   "cell_type": "markdown",
   "metadata": {},
   "source": [
    "## The basics"
   ]
  },
  {
   "cell_type": "code",
   "execution_count": 32,
   "metadata": {},
   "outputs": [
    {
     "name": "stdout",
     "output_type": "stream",
     "text": [
      "[0 1 2 3 4 5 6 7 8 9]\n"
     ]
    }
   ],
   "source": [
    "x = jnp.arange(10)\n",
    "print(x)"
   ]
  },
  {
   "cell_type": "code",
   "execution_count": 33,
   "metadata": {},
   "outputs": [
    {
     "data": {
      "text/plain": [
       "DeviceArray([0, 1, 2, 3, 4, 5, 6, 7, 8, 9], dtype=int64)"
      ]
     },
     "execution_count": 33,
     "metadata": {},
     "output_type": "execute_result"
    }
   ],
   "source": [
    "x"
   ]
  },
  {
   "cell_type": "code",
   "execution_count": 34,
   "metadata": {},
   "outputs": [
    {
     "data": {
      "text/plain": [
       "syft.service.action.jax.DeviceArrayObject"
      ]
     },
     "execution_count": 34,
     "metadata": {},
     "output_type": "execute_result"
    }
   ],
   "source": [
    "type(x)"
   ]
  },
  {
   "attachments": {},
   "cell_type": "markdown",
   "metadata": {},
   "source": [
    "## Time difference"
   ]
  },
  {
   "cell_type": "code",
   "execution_count": 35,
   "metadata": {},
   "outputs": [
    {
     "name": "stdout",
     "output_type": "stream",
     "text": [
      "4.88 ms ± 186 µs per loop (mean ± std. dev. of 7 runs, 100 loops each)\n"
     ]
    }
   ],
   "source": [
    "import jax as real_jax\n",
    "long_vector = real_jax.numpy.arange(int(1e7))\n",
    "\n",
    "%timeit real_jax.numpy.dot(long_vector, long_vector).block_until_ready()"
   ]
  },
  {
   "cell_type": "code",
   "execution_count": 36,
   "metadata": {},
   "outputs": [
    {
     "name": "stdout",
     "output_type": "stream",
     "text": [
      "5.47 ms ± 49.8 µs per loop (mean ± std. dev. of 7 runs, 100 loops each)\n"
     ]
    }
   ],
   "source": [
    "long_vector = jnp.arange(int(1e7))\n",
    "\n",
    "%timeit jnp.dot(long_vector, long_vector).block_until_ready()"
   ]
  },
  {
   "attachments": {},
   "cell_type": "markdown",
   "metadata": {},
   "source": [
    "## JAX first transformation: grad"
   ]
  },
  {
   "cell_type": "code",
   "execution_count": 37,
   "metadata": {},
   "outputs": [],
   "source": [
    "def sum_of_squares(x):\n",
    "  return jnp.sum(x**2)\n"
   ]
  },
  {
   "cell_type": "code",
   "execution_count": 38,
   "metadata": {},
   "outputs": [
    {
     "name": "stdout",
     "output_type": "stream",
     "text": [
      "30.0\n",
      "[2. 4. 6. 8.]\n"
     ]
    }
   ],
   "source": [
    "sum_of_squares_dx = jax.grad(sum_of_squares)\n",
    "\n",
    "x = jnp.asarray([1.0, 2.0, 3.0, 4.0])\n",
    "\n",
    "print(sum_of_squares(x))\n",
    "\n",
    "print(sum_of_squares_dx(x))"
   ]
  },
  {
   "cell_type": "code",
   "execution_count": 39,
   "metadata": {},
   "outputs": [
    {
     "name": "stdout",
     "output_type": "stream",
     "text": [
      "[-0.2 -0.2 -0.2 -0.2]\n"
     ]
    }
   ],
   "source": [
    "def sum_squared_error(x, y):\n",
    "  return jnp.sum((x-y)**2)\n",
    "\n",
    "sum_squared_error_dx = jax.grad(sum_squared_error)\n",
    "\n",
    "y = jnp.asarray([1.1, 2.1, 3.1, 4.1])\n",
    "\n",
    "print(sum_squared_error_dx(x, y))"
   ]
  },
  {
   "cell_type": "code",
   "execution_count": 40,
   "metadata": {},
   "outputs": [
    {
     "data": {
      "text/plain": [
       "(DeviceArray([-0.2, -0.2, -0.2, -0.2], dtype=float64),\n",
       " DeviceArray([0.2, 0.2, 0.2, 0.2], dtype=float64))"
      ]
     },
     "execution_count": 40,
     "metadata": {},
     "output_type": "execute_result"
    }
   ],
   "source": [
    "jax.grad(sum_squared_error, argnums=(0, 1))(x, y)  # Find gradient wrt both x & y\n"
   ]
  },
  {
   "cell_type": "code",
   "execution_count": 41,
   "metadata": {},
   "outputs": [
    {
     "data": {
      "text/plain": [
       "(DeviceArray(0.04, dtype=float64),\n",
       " DeviceArray([-0.2, -0.2, -0.2, -0.2], dtype=float64))"
      ]
     },
     "execution_count": 41,
     "metadata": {},
     "output_type": "execute_result"
    }
   ],
   "source": [
    "jax.value_and_grad(sum_squared_error)(x, y)\n"
   ]
  },
  {
   "attachments": {},
   "cell_type": "markdown",
   "metadata": {},
   "source": [
    "## Error Propagation"
   ]
  },
  {
   "cell_type": "code",
   "execution_count": 43,
   "metadata": {},
   "outputs": [
    {
     "ename": "TypeError",
     "evalue": "Gradient only defined for scalar-output functions. Output was (DeviceArray(0.04, dtype=float64), DeviceArray([-0.1, -0.1, -0.1, -0.1], dtype=float64)).",
     "output_type": "error",
     "traceback": [
      "\u001b[0;31m---------------------------------------------------------------------------\u001b[0m",
      "\u001b[0;31mTypeError\u001b[0m                                 Traceback (most recent call last)",
      "    \u001b[0;31m[... skipping hidden 1 frame]\u001b[0m\n",
      "File \u001b[0;32m~/anaconda3/envs/PySyft/lib/python3.10/site-packages/jax/core.py:1157\u001b[0m, in \u001b[0;36mget_aval\u001b[0;34m(x)\u001b[0m\n\u001b[1;32m   1156\u001b[0m \u001b[39melse\u001b[39;00m:\n\u001b[0;32m-> 1157\u001b[0m   \u001b[39mreturn\u001b[39;00m concrete_aval(x)\n",
      "File \u001b[0;32m~/anaconda3/envs/PySyft/lib/python3.10/site-packages/jax/core.py:1149\u001b[0m, in \u001b[0;36mconcrete_aval\u001b[0;34m(x)\u001b[0m\n\u001b[1;32m   1148\u001b[0m   \u001b[39mreturn\u001b[39;00m concrete_aval(x\u001b[39m.\u001b[39m__jax_array__())\n\u001b[0;32m-> 1149\u001b[0m \u001b[39mraise\u001b[39;00m \u001b[39mTypeError\u001b[39;00m(\u001b[39mf\u001b[39m\u001b[39m\"\u001b[39m\u001b[39mValue \u001b[39m\u001b[39m{\u001b[39;00m\u001b[39mrepr\u001b[39m(x)\u001b[39m}\u001b[39;00m\u001b[39m with type \u001b[39m\u001b[39m{\u001b[39;00m\u001b[39mtype\u001b[39m(x)\u001b[39m}\u001b[39;00m\u001b[39m is not a valid JAX \u001b[39m\u001b[39m\"\u001b[39m\n\u001b[1;32m   1150\u001b[0m                  \u001b[39m\"\u001b[39m\u001b[39mtype\u001b[39m\u001b[39m\"\u001b[39m)\n",
      "\u001b[0;31mTypeError\u001b[0m: Value (DeviceArray(0.04, dtype=float64), DeviceArray([-0.1, -0.1, -0.1, -0.1], dtype=float64)) with type <class 'tuple'> is not a valid JAX type",
      "\nThe above exception was the direct cause of the following exception:\n",
      "\u001b[0;31mTypeError\u001b[0m                                 Traceback (most recent call last)",
      "\u001b[1;32m/home/teo/OpenMined/PySyft/notebooks/jax/L2/server_demo.ipynb Cell 17\u001b[0m in \u001b[0;36m4\n\u001b[1;32m      <a href='vscode-notebook-cell:/home/teo/OpenMined/PySyft/notebooks/jax/L2/server_demo.ipynb#X13sZmlsZQ%3D%3D?line=0'>1</a>\u001b[0m \u001b[39mdef\u001b[39;00m \u001b[39msquared_error_with_aux\u001b[39m(x, y):\n\u001b[1;32m      <a href='vscode-notebook-cell:/home/teo/OpenMined/PySyft/notebooks/jax/L2/server_demo.ipynb#X13sZmlsZQ%3D%3D?line=1'>2</a>\u001b[0m   \u001b[39mreturn\u001b[39;00m sum_squared_error(x, y), x\u001b[39m-\u001b[39my\n\u001b[0;32m----> <a href='vscode-notebook-cell:/home/teo/OpenMined/PySyft/notebooks/jax/L2/server_demo.ipynb#X13sZmlsZQ%3D%3D?line=3'>4</a>\u001b[0m jax\u001b[39m.\u001b[39;49mgrad(squared_error_with_aux)(x, y)\n",
      "File \u001b[0;32m~/OpenMined/PySyft/packages/syft/src/syft/service/action/jax.py:45\u001b[0m, in \u001b[0;36mwrap_result.<locals>.wrapper\u001b[0;34m(*args, **kwargs)\u001b[0m\n\u001b[1;32m     44\u001b[0m \u001b[39mdef\u001b[39;00m \u001b[39mwrapper\u001b[39m(\u001b[39m*\u001b[39margs, \u001b[39m*\u001b[39m\u001b[39m*\u001b[39mkwargs):\n\u001b[0;32m---> 45\u001b[0m     \u001b[39mreturn\u001b[39;00m wrap_result(result(\u001b[39m*\u001b[39;49margs, \u001b[39m*\u001b[39;49m\u001b[39m*\u001b[39;49mkwargs))\n",
      "    \u001b[0;31m[... skipping hidden 4 frame]\u001b[0m\n",
      "File \u001b[0;32m~/anaconda3/envs/PySyft/lib/python3.10/site-packages/jax/_src/api.py:1084\u001b[0m, in \u001b[0;36m_check_scalar\u001b[0;34m(x)\u001b[0m\n\u001b[1;32m   1082\u001b[0m   aval \u001b[39m=\u001b[39m core\u001b[39m.\u001b[39mget_aval(x)\n\u001b[1;32m   1083\u001b[0m \u001b[39mexcept\u001b[39;00m \u001b[39mTypeError\u001b[39;00m \u001b[39mas\u001b[39;00m e:\n\u001b[0;32m-> 1084\u001b[0m   \u001b[39mraise\u001b[39;00m \u001b[39mTypeError\u001b[39;00m(msg(\u001b[39mf\u001b[39m\u001b[39m\"\u001b[39m\u001b[39mwas \u001b[39m\u001b[39m{\u001b[39;00mx\u001b[39m}\u001b[39;00m\u001b[39m\"\u001b[39m)) \u001b[39mfrom\u001b[39;00m \u001b[39me\u001b[39;00m\n\u001b[1;32m   1085\u001b[0m \u001b[39melse\u001b[39;00m:\n\u001b[1;32m   1086\u001b[0m   \u001b[39mif\u001b[39;00m \u001b[39misinstance\u001b[39m(aval, ShapedArray):\n",
      "\u001b[0;31mTypeError\u001b[0m: Gradient only defined for scalar-output functions. Output was (DeviceArray(0.04, dtype=float64), DeviceArray([-0.1, -0.1, -0.1, -0.1], dtype=float64))."
     ]
    }
   ],
   "source": [
    "def squared_error_with_aux(x, y):\n",
    "  return sum_squared_error(x, y), x-y\n",
    "\n",
    "jax.grad(squared_error_with_aux)(x, y)"
   ]
  },
  {
   "cell_type": "code",
   "execution_count": 44,
   "metadata": {},
   "outputs": [
    {
     "data": {
      "text/plain": [
       "DeviceArray([-0.2, -0.2, -0.2, -0.2], dtype=float64)"
      ]
     },
     "execution_count": 44,
     "metadata": {},
     "output_type": "execute_result"
    }
   ],
   "source": [
    "jax.grad(squared_error_with_aux, has_aux=True)(x, y)[0]"
   ]
  },
  {
   "cell_type": "code",
   "execution_count": 45,
   "metadata": {},
   "outputs": [
    {
     "data": {
      "text/plain": [
       "array([123,   2,   3])"
      ]
     },
     "execution_count": 45,
     "metadata": {},
     "output_type": "execute_result"
    }
   ],
   "source": [
    "import numpy as np\n",
    "\n",
    "x = np.array([1, 2, 3])\n",
    "\n",
    "def in_place_modify(x):\n",
    "  x[0] = 123\n",
    "  return None\n",
    "\n",
    "in_place_modify(x)\n",
    "x"
   ]
  },
  {
   "cell_type": "code",
   "execution_count": 46,
   "metadata": {},
   "outputs": [
    {
     "ename": "TypeError",
     "evalue": "'<class 'jaxlib.xla_extension.DeviceArray'>' object does not support item assignment. JAX arrays are immutable. Instead of ``x[idx] = y``, use ``x = x.at[idx].set(y)`` or another .at[] method: https://jax.readthedocs.io/en/latest/_autosummary/jax.numpy.ndarray.at.html",
     "output_type": "error",
     "traceback": [
      "\u001b[0;31m---------------------------------------------------------------------------\u001b[0m",
      "\u001b[0;31mTypeError\u001b[0m                                 Traceback (most recent call last)",
      "\u001b[1;32m/home/teo/OpenMined/PySyft/notebooks/jax/L2/server_demo.ipynb Cell 20\u001b[0m in \u001b[0;36m1\n\u001b[0;32m----> <a href='vscode-notebook-cell:/home/teo/OpenMined/PySyft/notebooks/jax/L2/server_demo.ipynb#X16sZmlsZQ%3D%3D?line=0'>1</a>\u001b[0m in_place_modify(jnp\u001b[39m.\u001b[39;49marray(x))\n",
      "\u001b[1;32m/home/teo/OpenMined/PySyft/notebooks/jax/L2/server_demo.ipynb Cell 20\u001b[0m in \u001b[0;36m6\n\u001b[1;32m      <a href='vscode-notebook-cell:/home/teo/OpenMined/PySyft/notebooks/jax/L2/server_demo.ipynb#X16sZmlsZQ%3D%3D?line=4'>5</a>\u001b[0m \u001b[39mdef\u001b[39;00m \u001b[39min_place_modify\u001b[39m(x):\n\u001b[0;32m----> <a href='vscode-notebook-cell:/home/teo/OpenMined/PySyft/notebooks/jax/L2/server_demo.ipynb#X16sZmlsZQ%3D%3D?line=5'>6</a>\u001b[0m   x[\u001b[39m0\u001b[39m] \u001b[39m=\u001b[39m \u001b[39m123\u001b[39m\n\u001b[1;32m      <a href='vscode-notebook-cell:/home/teo/OpenMined/PySyft/notebooks/jax/L2/server_demo.ipynb#X16sZmlsZQ%3D%3D?line=6'>7</a>\u001b[0m   \u001b[39mreturn\u001b[39;00m \u001b[39mNone\u001b[39;00m\n",
      "File \u001b[0;32m~/OpenMined/PySyft/packages/syft/src/syft/service/action/action_object.py:928\u001b[0m, in \u001b[0;36mActionObject.__setitem__\u001b[0;34m(self, key, value)\u001b[0m\n\u001b[1;32m    927\u001b[0m \u001b[39mdef\u001b[39;00m \u001b[39m__setitem__\u001b[39m(\u001b[39mself\u001b[39m, key: Any, value: Any) \u001b[39m-\u001b[39m\u001b[39m>\u001b[39m \u001b[39mNone\u001b[39;00m:\n\u001b[0;32m--> 928\u001b[0m     \u001b[39mreturn\u001b[39;00m \u001b[39mself\u001b[39;49m\u001b[39m.\u001b[39;49m\u001b[39m__setitem__\u001b[39;49m(key, value)\n",
      "File \u001b[0;32m~/OpenMined/PySyft/packages/syft/src/syft/service/action/action_object.py:836\u001b[0m, in \u001b[0;36mActionObject._syft_wrap_attribute_for_methods.<locals>.wrapper\u001b[0;34m(_self, *args, **kwargs)\u001b[0m\n\u001b[1;32m    835\u001b[0m \u001b[39mdef\u001b[39;00m \u001b[39mwrapper\u001b[39m(_self: Any, \u001b[39m*\u001b[39margs: Any, \u001b[39m*\u001b[39m\u001b[39m*\u001b[39mkwargs: Any):\n\u001b[0;32m--> 836\u001b[0m     \u001b[39mreturn\u001b[39;00m _base_wrapper(\u001b[39m*\u001b[39;49margs, \u001b[39m*\u001b[39;49m\u001b[39m*\u001b[39;49mkwargs)\n",
      "File \u001b[0;32m~/OpenMined/PySyft/packages/syft/src/syft/service/action/action_object.py:825\u001b[0m, in \u001b[0;36mActionObject._syft_wrap_attribute_for_methods.<locals>._base_wrapper\u001b[0;34m(*args, **kwargs)\u001b[0m\n\u001b[1;32m    821\u001b[0m \u001b[39melse\u001b[39;00m:\n\u001b[1;32m    822\u001b[0m     original_args, original_kwargs \u001b[39m=\u001b[39m debox_args_and_kwargs(\n\u001b[1;32m    823\u001b[0m         pre_hook_args, pre_hook_kwargs\n\u001b[1;32m    824\u001b[0m     )\n\u001b[0;32m--> 825\u001b[0m     result \u001b[39m=\u001b[39m original_func(\u001b[39m*\u001b[39;49moriginal_args, \u001b[39m*\u001b[39;49m\u001b[39m*\u001b[39;49moriginal_kwargs)\n\u001b[1;32m    827\u001b[0m post_result \u001b[39m=\u001b[39m \u001b[39mself\u001b[39m\u001b[39m.\u001b[39m_syft_run_post_hooks__(context, name, result)\n\u001b[1;32m    828\u001b[0m post_result \u001b[39m=\u001b[39m \u001b[39mself\u001b[39m\u001b[39m.\u001b[39m_syft_attr_propagate_ids(context, name, post_result)\n",
      "File \u001b[0;32m~/anaconda3/envs/PySyft/lib/python3.10/site-packages/jax/_src/numpy/lax_numpy.py:4597\u001b[0m, in \u001b[0;36m_unimplemented_setitem\u001b[0;34m(self, i, x)\u001b[0m\n\u001b[1;32m   4592\u001b[0m \u001b[39mdef\u001b[39;00m \u001b[39m_unimplemented_setitem\u001b[39m(\u001b[39mself\u001b[39m, i, x):\n\u001b[1;32m   4593\u001b[0m   msg \u001b[39m=\u001b[39m (\u001b[39m\"\u001b[39m\u001b[39m'\u001b[39m\u001b[39m{}\u001b[39;00m\u001b[39m'\u001b[39m\u001b[39m object does not support item assignment. JAX arrays are \u001b[39m\u001b[39m\"\u001b[39m\n\u001b[1;32m   4594\u001b[0m          \u001b[39m\"\u001b[39m\u001b[39mimmutable. Instead of ``x[idx] = y``, use ``x = x.at[idx].set(y)`` \u001b[39m\u001b[39m\"\u001b[39m\n\u001b[1;32m   4595\u001b[0m          \u001b[39m\"\u001b[39m\u001b[39mor another .at[] method: \u001b[39m\u001b[39m\"\u001b[39m\n\u001b[1;32m   4596\u001b[0m          \u001b[39m\"\u001b[39m\u001b[39mhttps://jax.readthedocs.io/en/latest/_autosummary/jax.numpy.ndarray.at.html\u001b[39m\u001b[39m\"\u001b[39m)\n\u001b[0;32m-> 4597\u001b[0m   \u001b[39mraise\u001b[39;00m \u001b[39mTypeError\u001b[39;00m(msg\u001b[39m.\u001b[39mformat(\u001b[39mtype\u001b[39m(\u001b[39mself\u001b[39m)))\n",
      "\u001b[0;31mTypeError\u001b[0m: '<class 'jaxlib.xla_extension.DeviceArray'>' object does not support item assignment. JAX arrays are immutable. Instead of ``x[idx] = y``, use ``x = x.at[idx].set(y)`` or another .at[] method: https://jax.readthedocs.io/en/latest/_autosummary/jax.numpy.ndarray.at.html"
     ]
    }
   ],
   "source": [
    "in_place_modify(jnp.array(x))  # Raises error when we cast input to jnp.ndarray\n"
   ]
  },
  {
   "cell_type": "code",
   "execution_count": null,
   "metadata": {},
   "outputs": [],
   "source": [
    "def jax_in_place_modify(x):\n",
    "  return x.at[0].set(123)\n",
    "\n",
    "y = jnp.array([1, 2, 3])\n",
    "jax_in_place_modify(y)\n"
   ]
  },
  {
   "attachments": {},
   "cell_type": "markdown",
   "metadata": {},
   "source": [
    "## Basic Model Training"
   ]
  },
  {
   "cell_type": "code",
   "execution_count": 47,
   "metadata": {},
   "outputs": [
    {
     "data": {
      "text/plain": [
       "<matplotlib.collections.PathCollection at 0x7f7f6a7f6230>"
      ]
     },
     "execution_count": 47,
     "metadata": {},
     "output_type": "execute_result"
    },
    {
     "data": {
      "image/png": "[encoded data removed]",
      "text/plain": [
       "<Figure size 640x480 with 1 Axes>"
      ]
     },
     "metadata": {},
     "output_type": "display_data"
    }
   ],
   "source": [
    "import numpy as np\n",
    "import matplotlib.pyplot as plt\n",
    "\n",
    "xs = np.random.normal(size=(100,))\n",
    "noise = np.random.normal(scale=0.1, size=(100,))\n",
    "ys = xs * 3 - 1 + noise\n",
    "\n",
    "plt.scatter(xs, ys)"
   ]
  },
  {
   "cell_type": "code",
   "execution_count": 48,
   "metadata": {},
   "outputs": [],
   "source": [
    "def model(theta, x):\n",
    "  \"\"\"Computes wx + b on a batch of input x.\"\"\"\n",
    "  w, b = theta\n",
    "  return w * x + b\n",
    "\n",
    "def loss_fn(theta, x, y):\n",
    "  prediction = model(theta, x)\n",
    "  return jnp.mean((prediction-y)**2)\n",
    "\n",
    "def update(theta, x, y, lr=0.1):\n",
    "  return theta - lr * jax.grad(loss_fn)(theta, x, y)"
   ]
  },
  {
   "cell_type": "code",
   "execution_count": 49,
   "metadata": {},
   "outputs": [
    {
     "name": "stdout",
     "output_type": "stream",
     "text": [
      "w: 3.00, b: -1.01\n"
     ]
    },
    {
     "data": {
      "image/png": "[encoded data removed]",
      "text/plain": [
       "<Figure size 640x480 with 1 Axes>"
      ]
     },
     "metadata": {},
     "output_type": "display_data"
    }
   ],
   "source": [
    "theta = jnp.array([1., 1.])\n",
    "\n",
    "for _ in range(1000):\n",
    "  theta = update(theta, xs, ys)\n",
    "\n",
    "plt.scatter(xs, ys)\n",
    "plt.plot(xs, np.asanyarray(model(theta, xs)))\n",
    "\n",
    "w, b = theta\n",
    "print(f\"w: {w:<.2f}, b: {b:<.2f}\")"
   ]
  }
 ],
 "metadata": {
  "kernelspec": {
   "display_name": "PySyft",
   "language": "python",
   "name": "python3"
  },
  "language_info": {
   "codemirror_mode": {
    "name": "ipython",
    "version": 3
   },
   "file_extension": ".py",
   "mimetype": "text/x-python",
   "name": "python",
   "nbconvert_exporter": "python",
   "pygments_lexer": "ipython3",
   "version": "3.10.4"
  },
  "orig_nbformat": 4
 },
 "nbformat": 4,
 "nbformat_minor": 2
}
