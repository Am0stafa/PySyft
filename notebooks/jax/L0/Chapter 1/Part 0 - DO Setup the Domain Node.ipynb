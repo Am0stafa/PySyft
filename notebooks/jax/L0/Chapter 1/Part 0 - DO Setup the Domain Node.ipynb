{
 "cells": [
  {
   "attachments": {},
   "cell_type": "markdown",
   "metadata": {},
   "source": [
    "## Jax Level 0 - Chapter 1\n",
    "### Part 0 - Initial Setup\n",
    "\n",
    "Link to the original Jax tutorial: https://jax.readthedocs.io/en/latest/jax-101/01-jax-basics.html"
   ]
  },
  {
   "cell_type": "code",
   "execution_count": 1,
   "metadata": {},
   "outputs": [
    {
     "name": "stderr",
     "output_type": "stream",
     "text": [
      "/home/teo/anaconda3/envs/PySyft/lib/python3.10/site-packages/scipy/__init__.py:146: UserWarning: A NumPy version >=1.16.5 and <1.23.0 is required for this version of SciPy (detected version 1.24.2\n",
      "  warnings.warn(f\"A NumPy version >={np_minversion} and <{np_maxversion}\"\n",
      "kj/filesystem-disk-unix.c++:1703: warning: PWD environment variable doesn't match current directory; pwd = /home/teo\n"
     ]
    },
    {
     "name": "stdout",
     "output_type": "stream",
     "text": [
      "✅ The installed version of syft==0.8.0b6 matches the requirement >=0.8b0\n"
     ]
    }
   ],
   "source": [
    "# Import the necessary libraries\n",
    "import syft as sy\n",
    "sy.requires(\">=0.8-beta\")\n",
    "from syft.util import autocache\n",
    "import jax\n",
    "import jax.numpy as jnp\n",
    "import numpy as np"
   ]
  },
  {
   "cell_type": "code",
   "execution_count": 2,
   "metadata": {},
   "outputs": [
    {
     "name": "stdout",
     "output_type": "stream",
     "text": [
      "SQLite Store Path:\n",
      "!open file:///tmp/7bca415d13ed1ec841f0d0aede098dbb.sqlite\n",
      "\n",
      "> Starting Worker: test-domain-1 - 7bca415d13ed1ec841f0d0aede098dbb - NodeType.DOMAIN - [<class 'syft.core.node.new.user_service.UserService'>, <class 'syft.core.node.new.metadata_service.MetadataService'>, <class 'syft.core.node.new.action_service.ActionService'>, <class 'syft.core.node.new.test_service.TestService'>, <class 'syft.core.node.new.dataset_service.DatasetService'>, <class 'syft.core.node.new.user_code_service.UserCodeService'>, <class 'syft.core.node.new.request_service.RequestService'>, <class 'syft.core.node.new.data_subject_service.DataSubjectService'>, <class 'syft.core.node.new.network_service.NetworkService'>, <class 'syft.core.node.new.policy_service.PolicyService'>, <class 'syft.core.node.new.message_service.MessageService'>, <class 'syft.core.node.new.project_service.ProjectService'>, <class 'syft.core.node.new.data_subject_member_service.DataSubjectMemberService'>]\n"
     ]
    }
   ],
   "source": [
    "# Launch the domain\n",
    "node = sy.orchestra.launch(name=\"test-domain-1\", reset=True)\n",
    "domain_client = node.login(email=\"info@openmined.org\", password=\"changethis\")"
   ]
  },
  {
   "cell_type": "code",
   "execution_count": 3,
   "metadata": {},
   "outputs": [
    {
     "data": {
      "text/html": [
       "<div class=\"alert-success\" style=\"padding:5px;\"><strong>SyftSuccess</strong>: 2 Data Subjects Registered</div><br />"
      ],
      "text/plain": [
       "<class 'syft.core.node.new.response.SyftSuccess'>: 2 Data Subjects Registered"
      ]
     },
     "execution_count": 3,
     "metadata": {},
     "output_type": "execute_result"
    }
   ],
   "source": [
    "# Add a dummy data subject\n",
    "dummy_data_subject = sy.DataSubject(name=\"Dummy\", aliases=[\"dummy\"])\n",
    "dummy_member = sy.DataSubject(name=\"Dummy Member\", aliases=[\"dummy:member\"])\n",
    "dummy_data_subject.add_member(dummy_member)\n",
    "registry = domain_client.data_subject_registry\n",
    "response = registry.add_data_subject(dummy_data_subject)\n",
    "response"
   ]
  },
  {
   "cell_type": "code",
   "execution_count": 4,
   "metadata": {},
   "outputs": [
    {
     "data": {
      "text/html": [
       "List - Size: 2\n",
       "<div>\n",
       "<style scoped>\n",
       "    .dataframe tbody tr th:only-of-type {\n",
       "        vertical-align: middle;\n",
       "    }\n",
       "\n",
       "    .dataframe tbody tr th {\n",
       "        vertical-align: top;\n",
       "    }\n",
       "\n",
       "    .dataframe thead th {\n",
       "        text-align: right;\n",
       "    }\n",
       "</style>\n",
       "<table border=\"1\" class=\"dataframe\">\n",
       "  <thead>\n",
       "    <tr style=\"text-align: right;\">\n",
       "      <th></th>\n",
       "      <th>type</th>\n",
       "      <th>id</th>\n",
       "    </tr>\n",
       "  </thead>\n",
       "  <tbody>\n",
       "    <tr>\n",
       "      <th>0</th>\n",
       "      <td>&lt;DataSubject: Dummy&gt;</td>\n",
       "      <td>35b6ddb9e9624872a7922d762b3ca84f</td>\n",
       "    </tr>\n",
       "    <tr>\n",
       "      <th>1</th>\n",
       "      <td>&lt;DataSubject: Dummy Member&gt;</td>\n",
       "      <td>115e031cda1d40ed9aba2390caf89903</td>\n",
       "    </tr>\n",
       "  </tbody>\n",
       "</table>\n",
       "</div>"
      ],
      "text/plain": [
       "[<DataSubject: Dummy>, <DataSubject: Dummy Member>]"
      ]
     },
     "execution_count": 4,
     "metadata": {},
     "output_type": "execute_result"
    }
   ],
   "source": [
    "# Check the data subjects\n",
    "data_subjects = domain_client.api.services.data_subject.get_all()\n",
    "data_subjects"
   ]
  },
  {
   "cell_type": "code",
   "execution_count": 5,
   "metadata": {},
   "outputs": [],
   "source": [
    "# Add the needed data for the tutorial\n",
    "# Optional add description, citation, url, contributors\n",
    "dataset = sy.Dataset(name=\"JAX - Chapter 1 data\")\n",
    "dataset.set_description(\"Dummy dataset for Chapter 1\")\n",
    "sos_asset = sy.Asset(name='sum-of-squares-data')\n",
    "sos_asset.set_description(\"dummy array for the first set of functions\")\n",
    "sos_asset.set_obj(np.array([1.0, 2.0, 3.0, 4.0]))\n",
    "sos_asset.set_mock(np.array([1.0, 1.0, 1.0, 1.0]), mock_is_real=False)\n",
    "sos_asset.add_data_subject(dummy_data_subject)\n",
    "sos_asset.set_shape((4,))\n",
    "dataset.add_asset(sos_asset)\n"
   ]
  },
  {
   "cell_type": "code",
   "execution_count": 6,
   "metadata": {},
   "outputs": [
    {
     "data": {
      "text/plain": [
       "<matplotlib.collections.PathCollection at 0x7fe4e0ec2470>"
      ]
     },
     "execution_count": 6,
     "metadata": {},
     "output_type": "execute_result"
    },
    {
     "data": {
      "image/png": "[encoded data removed]",
      "text/plain": [
       "<Figure size 640x480 with 1 Axes>"
      ]
     },
     "metadata": {},
     "output_type": "display_data"
    }
   ],
   "source": [
    "# Generate Training data \n",
    "import numpy as np\n",
    "import matplotlib.pyplot as plt\n",
    "\n",
    "xs = np.random.normal(size=(100,))\n",
    "noise = np.random.normal(scale=0.1, size=(100,))\n",
    "ys = xs * 3 - 1 + noise\n",
    "\n",
    "plt.scatter(xs, ys)"
   ]
  },
  {
   "cell_type": "code",
   "execution_count": 7,
   "metadata": {},
   "outputs": [],
   "source": [
    "# Add that data to the dataset\n",
    "x_asset = sy.Asset(name='xs')\n",
    "x_asset.set_description(\"xs\")\n",
    "x_asset.set_obj(xs)\n",
    "x_asset.set_mock(xs, mock_is_real=True)\n",
    "x_asset.add_data_subject(dummy_data_subject)\n",
    "x_asset.set_shape((100,))\n",
    "dataset.add_asset(x_asset)\n",
    "\n",
    "y_asset = sy.Asset(name='ys')\n",
    "y_asset.set_description(\"ys\")\n",
    "y_asset.set_obj(ys)\n",
    "y_asset.set_mock(ys, mock_is_real=True)\n",
    "y_asset.add_data_subject(dummy_data_subject)\n",
    "y_asset.set_shape((100,))\n",
    "dataset.add_asset(y_asset)"
   ]
  },
  {
   "cell_type": "code",
   "execution_count": 8,
   "metadata": {},
   "outputs": [
    {
     "name": "stderr",
     "output_type": "stream",
     "text": [
      "  0%|          | 0/3 [00:00<?, ?it/s]"
     ]
    },
    {
     "name": "stdout",
     "output_type": "stream",
     "text": [
      "Uploading: sum-of-squares-data\n",
      "initial data <class 'syft.core.node.new.sqlite_document_store.SQLiteBackingStore'>\n",
      "2be1b8ddb45c4f79baef487bf2712541\n",
      "final data {<UID: 2be1b8ddb45c4f79baef487bf2712541>: syft.core.node.new.twin_object.TwinObject}\n",
      "Uploading: xs\n",
      "initial data <class 'syft.core.node.new.sqlite_document_store.SQLiteBackingStore'>\n",
      "e5789b0a96414a6fb528f4e5d7432c4a\n",
      "final data {<UID: 2be1b8ddb45c4f79baef487bf2712541>: syft.core.node.new.twin_object.TwinObject, <UID: e5789b0a96414a6fb528f4e5d7432c4a>: syft.core.node.new.twin_object.TwinObject}\n"
     ]
    },
    {
     "name": "stderr",
     "output_type": "stream",
     "text": [
      " 67%|██████▋   | 2/3 [00:00<00:00, 13.42it/s]"
     ]
    },
    {
     "name": "stdout",
     "output_type": "stream",
     "text": [
      "Uploading: ys\n",
      "initial data <class 'syft.core.node.new.sqlite_document_store.SQLiteBackingStore'>\n",
      "a6892b983799412796235f7065141b03\n",
      "final data {<UID: 2be1b8ddb45c4f79baef487bf2712541>: syft.core.node.new.twin_object.TwinObject, <UID: e5789b0a96414a6fb528f4e5d7432c4a>: syft.core.node.new.twin_object.TwinObject, <UID: a6892b983799412796235f7065141b03>: syft.core.node.new.twin_object.TwinObject}\n"
     ]
    },
    {
     "name": "stderr",
     "output_type": "stream",
     "text": [
      "100%|██████████| 3/3 [00:00<00:00, 13.53it/s]\n"
     ]
    },
    {
     "data": {
      "text/html": [
       "<div class=\"alert-success\" style=\"padding:5px;\"><strong>SyftSuccess</strong>: Dataset Added</div><br />"
      ],
      "text/plain": [
       "<class 'syft.core.node.new.response.SyftSuccess'>: Dataset Added"
      ]
     },
     "execution_count": 8,
     "metadata": {},
     "output_type": "execute_result"
    }
   ],
   "source": [
    "# Upload the dataset\n",
    "domain_client.upload_dataset(dataset)"
   ]
  },
  {
   "attachments": {},
   "cell_type": "markdown",
   "metadata": {},
   "source": [
    "Go to Part 1!"
   ]
  }
 ],
 "metadata": {
  "kernelspec": {
   "display_name": "PySyft",
   "language": "python",
   "name": "python3"
  },
  "language_info": {
   "codemirror_mode": {
    "name": "ipython",
    "version": 3
   },
   "file_extension": ".py",
   "mimetype": "text/x-python",
   "name": "python",
   "nbconvert_exporter": "python",
   "pygments_lexer": "ipython3",
   "version": "3.10.4"
  },
  "orig_nbformat": 4
 },
 "nbformat": 4,
 "nbformat_minor": 2
}
