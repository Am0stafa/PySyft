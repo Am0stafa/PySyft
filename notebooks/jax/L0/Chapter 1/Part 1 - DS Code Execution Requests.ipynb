{
 "cells": [
  {
   "attachments": {},
   "cell_type": "markdown",
   "metadata": {},
   "source": [
    "## Jax Level 0 - Chapter 1\n",
    "### Part 1 - Data Scientist registration and code execution requests\n",
    "\n",
    "Link to the original Jax tutorial: https://jax.readthedocs.io/en/latest/jax-101/01-jax-basics.html"
   ]
  },
  {
   "cell_type": "code",
   "execution_count": 1,
   "metadata": {},
   "outputs": [
    {
     "name": "stderr",
     "output_type": "stream",
     "text": [
      "/home/teo/anaconda3/envs/PySyft/lib/python3.10/site-packages/scipy/__init__.py:146: UserWarning: A NumPy version >=1.16.5 and <1.23.0 is required for this version of SciPy (detected version 1.24.2\n",
      "  warnings.warn(f\"A NumPy version >={np_minversion} and <{np_maxversion}\"\n",
      "kj/filesystem-disk-unix.c++:1703: warning: PWD environment variable doesn't match current directory; pwd = /home/teo\n"
     ]
    },
    {
     "name": "stdout",
     "output_type": "stream",
     "text": [
      "✅ The installed version of syft==0.8.0b7 matches the requirement >=0.8b0\n"
     ]
    }
   ],
   "source": [
    "# Import the necessary libraries\n",
    "import syft as sy\n",
    "sy.requires(\">=0.8-beta\")\n",
    "import jax\n",
    "import jax.numpy as jnp"
   ]
  },
  {
   "cell_type": "code",
   "execution_count": 2,
   "metadata": {},
   "outputs": [
    {
     "name": "stdout",
     "output_type": "stream",
     "text": [
      "SQLite Store Path:\n",
      "!open file:///tmp/7bca415d13ed1ec841f0d0aede098dbb.sqlite\n",
      "\n",
      "> Starting Worker: test-domain-1 - 7bca415d13ed1ec841f0d0aede098dbb - NodeType.DOMAIN - [<class 'syft.core.node.new.user_service.UserService'>, <class 'syft.core.node.new.metadata_service.MetadataService'>, <class 'syft.core.node.new.action_service.ActionService'>, <class 'syft.core.node.new.test_service.TestService'>, <class 'syft.core.node.new.dataset_service.DatasetService'>, <class 'syft.core.node.new.user_code_service.UserCodeService'>, <class 'syft.core.node.new.request_service.RequestService'>, <class 'syft.core.node.new.data_subject_service.DataSubjectService'>, <class 'syft.core.node.new.network_service.NetworkService'>, <class 'syft.core.node.new.policy_service.PolicyService'>, <class 'syft.core.node.new.message_service.MessageService'>, <class 'syft.core.node.new.project_service.ProjectService'>, <class 'syft.core.node.new.data_subject_member_service.DataSubjectMemberService'>]\n"
     ]
    },
    {
     "data": {
      "text/plain": [
       "<SyftClient - test-domain-1 <7bca415d13ed1ec841f0d0aede098dbb>: PythonConnection>"
      ]
     },
     "execution_count": 2,
     "metadata": {},
     "output_type": "execute_result"
    }
   ],
   "source": [
    "# Register a client to the domain\n",
    "node = sy.orchestra.launch(name=\"test-domain-1\")\n",
    "guest_domain_client = node.client\n",
    "guest_domain_client.register(name=\"Jane Doe\", email=\"jane@caltech.edu\", password=\"abc123\", institution=\"Caltech\", website=\"https://www.caltech.edu/\")\n",
    "guest_domain_client.login(email=\"jane@caltech.edu\", password=\"abc123\")"
   ]
  },
  {
   "cell_type": "code",
   "execution_count": 3,
   "metadata": {},
   "outputs": [],
   "source": [
    "# Inspect available data\n",
    "results = guest_domain_client.api.services.dataset.get_all()\n",
    "dataset = results[0]\n",
    "mock = dataset.assets[0].mock\n",
    "xs = dataset.assets[1]\n",
    "ys = dataset.assets[2]"
   ]
  },
  {
   "cell_type": "code",
   "execution_count": 4,
   "metadata": {},
   "outputs": [],
   "source": [
    "# Create a function for code execution\n",
    "# ATTENTION: ALL LIBRARIES USED SHOULD BE DEFINED INSIDE THE FUNCTION CONTEXT!!!\n",
    "\n",
    "@sy.syft_function(input_policy=sy.ExactMatch(),\n",
    "                  output_policy=sy.SingleExecutionExactOutput())\n",
    "def func():\n",
    "    import jax.numpy as jnp\n",
    "    x = jnp.arange(10)\n",
    "    return x\n",
    "\n",
    "@sy.syft_function(input_policy=sy.ExactMatch(),\n",
    "                  output_policy=sy.SingleExecutionExactOutput())\n",
    "def func_timeit():\n",
    "    import jax.numpy as jnp\n",
    "    long_vector = jnp.arange(int(1e7))\n",
    "    %timeit jnp.dot(long_vector, long_vector).block_until_ready()\n",
    "    \n",
    "@sy.syft_function(input_policy=sy.ExactMatch(x=mock),\n",
    "                  output_policy=sy.SingleExecutionExactOutput())\n",
    "def func_sum_of_squares(x):\n",
    "    import jax\n",
    "    import jax.numpy as jnp\n",
    "    \n",
    "    def sum_of_squares(x):\n",
    "        return jnp.sum(x**2)\n",
    "    sum_of_squares_dx = jax.grad(sum_of_squares)\n",
    "    return sum_of_squares(x), sum_of_squares_dx(x)\n",
    "\n",
    "@sy.syft_function(input_policy=sy.ExactMatch(x=mock),\n",
    "                  output_policy=sy.SingleExecutionExactOutput())\n",
    "def func_sum_squared_error(x):\n",
    "    import jax\n",
    "    import jax.numpy as jnp\n",
    "    \n",
    "    def sum_squared_error(x, y):\n",
    "        return jnp.sum((x-y)**2)\n",
    "    sum_squared_error_dx = jax.grad(sum_squared_error)\n",
    "    y = jnp.asarray([1.1, 2.1, 3.1, 4.1])\n",
    "    return sum_squared_error_dx(x, y), jax.grad(sum_squared_error, argnums=(0, 1))(x, y)\n",
    "\n",
    "\n",
    "@sy.syft_function(input_policy=sy.ExactMatch(x=mock),\n",
    "                  output_policy=sy.SingleExecutionExactOutput())\n",
    "def func_sum_squared_error_with_aux(x):\n",
    "    import jax\n",
    "    import jax.numpy as jnp\n",
    "    \n",
    "    def sum_squared_error(x, y):\n",
    "        return jnp.sum((x-y)**2)\n",
    "    \n",
    "    def squared_error_with_aux(x, y):\n",
    "        return sum_squared_error(x, y), x-y\n",
    "\n",
    "    y = jnp.asarray([1.1, 2.1, 3.1, 4.1])\n",
    "    return jax.grad(squared_error_with_aux, has_aux=True)(x, y)\n",
    "\n",
    "\n",
    "@sy.syft_function(input_policy=sy.ExactMatch(x=mock),\n",
    "                  output_policy=sy.SingleExecutionExactOutput())\n",
    "def func_naive_modify(x):\n",
    "    import jax\n",
    "    import jax.numpy as jnp\n",
    "    def in_place_modify(x):\n",
    "        x[0] = 123\n",
    "        return None\n",
    "\n",
    "    try:\n",
    "        in_place_modify(jnp.array(x))\n",
    "    except Exception as e:\n",
    "        print(e)\n",
    "\n",
    "\n",
    "@sy.syft_function(input_policy=sy.ExactMatch(),\n",
    "                  output_policy=sy.SingleExecutionExactOutput())\n",
    "def func_jax_modify():\n",
    "    import jax\n",
    "    import jax.numpy as jnp\n",
    "    def jax_in_place_modify(x):\n",
    "        return x.at[0].set(123)\n",
    "\n",
    "    y = jnp.array([1, 2, 3])\n",
    "    return jax_in_place_modify(y)\n",
    "\n",
    "@sy.syft_function(input_policy=sy.ExactMatch(xs=xs.mock, ys=ys.mock),\n",
    "                  output_policy=sy.SingleExecutionExactOutput())\n",
    "def training_loop(xs, ys):\n",
    "    import jax\n",
    "    import jax.numpy as jnp\n",
    "    import matplotlib.pyplot as plt\n",
    "    \n",
    "    def model(theta, x):\n",
    "        \"\"\"Computes wx + b on a batch of input x.\"\"\"\n",
    "        w, b = theta\n",
    "        return w * x + b\n",
    "    \n",
    "    def loss_fn(theta, x, y):\n",
    "        prediction = model(theta, x)\n",
    "        return jnp.mean((prediction-y)**2)\n",
    "    \n",
    "    def update(theta, x, y, lr=0.1):\n",
    "        return theta - lr * jax.grad(loss_fn)(theta, x, y)\n",
    "\n",
    "    theta = jnp.array([1., 1.])\n",
    "\n",
    "    for _ in range(1000):\n",
    "        theta = update(theta, xs, ys)\n",
    "\n",
    "    plt.scatter(xs, ys)\n",
    "    plt.plot(xs, model(theta, xs))\n",
    "\n",
    "    w, b = theta\n",
    "    print(f\"w: {w:<.2f}, b: {b:<.2f}\")\n",
    "    return w, b\n"
   ]
  },
  {
   "cell_type": "code",
   "execution_count": 5,
   "metadata": {},
   "outputs": [
    {
     "name": "stderr",
     "output_type": "stream",
     "text": [
      "WARNING:absl:No GPU/TPU found, falling back to CPU. (Set TF_CPP_MIN_LOG_LEVEL=0 and rerun for more info.)\n"
     ]
    },
    {
     "name": "stdout",
     "output_type": "stream",
     "text": [
      "[0 1 2 3 4 5 6 7 8 9]\n",
      "4.5 ms ± 129 µs per loop (mean ± std. dev. of 7 runs, 100 loops each)\n",
      "None\n",
      "(DeviceArray(4., dtype=float64), DeviceArray([2., 2., 2., 2.], dtype=float64))\n",
      "w: 2.98, b: -1.00\n",
      "(DeviceArray(2.97866929, dtype=float64), DeviceArray(-0.99511152, dtype=float64))\n"
     ]
    },
    {
     "data": {
      "image/png": "[encoded data removed]",
      "text/plain": [
       "<Figure size 640x480 with 1 Axes>"
      ]
     },
     "metadata": {},
     "output_type": "display_data"
    }
   ],
   "source": [
    "# Test our function locally \n",
    "print(func())\n",
    "print(func_timeit())\n",
    "print(func_sum_of_squares(x=mock))\n",
    "print(training_loop(xs=xs.mock, ys=ys.mock))"
   ]
  },
  {
   "cell_type": "code",
   "execution_count": 6,
   "metadata": {},
   "outputs": [
    {
     "name": "stderr",
     "output_type": "stream",
     "text": [
      "syft.core.node.new.user_code.SubmitUserCode\n",
      "Ok(syft.core.node.new.user_code.UserCode)\n"
     ]
    },
    {
     "data": {
      "text/markdown": [
       "```python\n",
       "class Request:\n",
       "  id: str = 8687d57addd641c38f62f330b95a0288\n",
       "  requesting_user_verify_key: str = ebe4dfdfd94842a77036e32e968e01c3d5f2dae6758176f46a6bff5db27991c5\n",
       "  approving_user_verify_key: str = None\n",
       "  request_time: str = 2023-04-14 10:37:27\n",
       "  approval_time: str = None\n",
       "  status: str = RequestStatus.PENDING\n",
       "  node_uid: str = 7bca415d13ed1ec841f0d0aede098dbb\n",
       "  request_hash: str = \"c634cf3e03792d796046c17bd8e5cac082857dabc98d3ebbf37d26a1f180c2e7\"\n",
       "  changes: str = [syft.core.node.new.request.UserCodeStatusChange]\n",
       "\n",
       "```"
      ],
      "text/plain": [
       "syft.core.node.new.request.Request"
      ]
     },
     "execution_count": 6,
     "metadata": {},
     "output_type": "execute_result"
    }
   ],
   "source": [
    "# Submit the function for code execution\n",
    "guest_domain_client.api.services.code.request_code_execution(func)\n",
    "guest_domain_client.api.services.code.request_code_execution(func_timeit)\n",
    "guest_domain_client.api.services.code.request_code_execution(func_sum_of_squares)\n",
    "guest_domain_client.api.services.code.request_code_execution(func_sum_squared_error)\n",
    "guest_domain_client.api.services.code.request_code_execution(func_sum_squared_error_with_aux)\n",
    "guest_domain_client.api.services.code.request_code_execution(func_naive_modify)\n",
    "guest_domain_client.api.services.code.request_code_execution(func_jax_modify)\n",
    "guest_domain_client.api.services.code.request_code_execution(training_loop)"
   ]
  },
  {
   "cell_type": "code",
   "execution_count": 7,
   "metadata": {},
   "outputs": [],
   "source": [
    "new_project = sy.Project(name=\"My Cool Jax Project\")\n",
    "proj_desc = \"\"\"Hi, I want to learn Jax and PySyft\"\"\"\n",
    "new_project.set_description(proj_desc)\n",
    "for code_obj in guest_domain_client.code:\n",
    "    new_project.add_request(obj=code_obj, permission=sy.UserCodeStatus.EXECUTE)"
   ]
  },
  {
   "cell_type": "code",
   "execution_count": 8,
   "metadata": {},
   "outputs": [
    {
     "data": {
      "text/html": [
       "<div class=\"alert-success\" style=\"padding:5px;\"><strong>SyftSuccess</strong>: Project Submitted</div><br />"
      ],
      "text/plain": [
       "<class 'syft.core.node.new.response.SyftSuccess'>: Project Submitted"
      ]
     },
     "execution_count": 8,
     "metadata": {},
     "output_type": "execute_result"
    }
   ],
   "source": [
    "guest_domain_client.submit_project(new_project)"
   ]
  },
  {
   "cell_type": "code",
   "execution_count": 9,
   "metadata": {},
   "outputs": [],
   "source": [
    "# guest_domain_client._api = None\n",
    "# _ = guest_domain_client.api"
   ]
  },
  {
   "cell_type": "code",
   "execution_count": 10,
   "metadata": {},
   "outputs": [
    {
     "data": {
      "text/html": [
       "<div class=\"alert-info\" style=\"padding:5px;\"><strong>SyftNotReady</strong>: <class 'syft.core.node.new.user_code.UserCode'> Your code is waiting for approval: {NodeView(node_name='test-domain-1', verify_key=aec6ea4dfc049ceacaeeebc493167a88a200ddc367b1fa32da652444b635d21f): <UserCodeStatus.SUBMITTED: 'submitted'>}</div><br />"
      ],
      "text/plain": [
       "<class 'syft.core.node.new.response.SyftNotReady'>: <class 'syft.core.node.new.user_code.UserCode'> Your code is waiting for approval: {NodeView(node_name='test-domain-1', verify_key=aec6ea4dfc049ceacaeeebc493167a88a200ddc367b1fa32da652444b635d21f): <UserCodeStatus.SUBMITTED: 'submitted'>}"
      ]
     },
     "execution_count": 10,
     "metadata": {},
     "output_type": "execute_result"
    }
   ],
   "source": [
    "guest_domain_client.api.services.code.func()"
   ]
  },
  {
   "attachments": {},
   "cell_type": "markdown",
   "metadata": {},
   "source": [
    "Go To Part 2!"
   ]
  },
  {
   "cell_type": "code",
   "execution_count": 11,
   "metadata": {},
   "outputs": [],
   "source": [
    "# import matplotlib as plt\n",
    "# from PIL import Image\n",
    "\n",
    "# im = Image.open(result)\n",
    "\n",
    "# import numpy as np\n",
    "# import matplotlib.pyplot as plt\n",
    "# import io\n",
    "\n",
    "# xs = np.random.normal(size=(100,))\n",
    "# noise = np.random.normal(scale=0.1, size=(100,))\n",
    "# ys = xs * 3 - 1 + noise\n",
    "\n",
    "# plt.scatter(xs, ys)\n",
    "# plot = plt.gcf()\n",
    "# buf = io.BytesIO()\n",
    "# plt.savefig(buf, format='png')\n",
    "# buf.seek(0)\n",
    "# return buf"
   ]
  },
  {
   "cell_type": "code",
   "execution_count": 12,
   "metadata": {},
   "outputs": [],
   "source": [
    "# type(im)"
   ]
  },
  {
   "cell_type": "code",
   "execution_count": 13,
   "metadata": {},
   "outputs": [],
   "source": [
    "# guest_domain_client.api.services.code.func()"
   ]
  }
 ],
 "metadata": {
  "kernelspec": {
   "display_name": "PySyft",
   "language": "python",
   "name": "python3"
  },
  "language_info": {
   "codemirror_mode": {
    "name": "ipython",
    "version": 3
   },
   "file_extension": ".py",
   "mimetype": "text/x-python",
   "name": "python",
   "nbconvert_exporter": "python",
   "pygments_lexer": "ipython3",
   "version": "3.10.4"
  },
  "orig_nbformat": 4
 },
 "nbformat": 4,
 "nbformat_minor": 2
}
