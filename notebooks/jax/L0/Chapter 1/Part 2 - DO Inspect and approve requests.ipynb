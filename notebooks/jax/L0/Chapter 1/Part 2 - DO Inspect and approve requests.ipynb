{
 "cells": [
  {
   "attachments": {},
   "cell_type": "markdown",
   "metadata": {},
   "source": [
    "## Jax Level 0 - Chapter 1\n",
    "### Part 2 - Data Owner responds to the requests\n",
    "\n",
    "Link to the original Jax tutorial: https://jax.readthedocs.io/en/latest/jax-101/01-jax-basics.html"
   ]
  },
  {
   "cell_type": "code",
   "execution_count": 1,
   "metadata": {},
   "outputs": [
    {
     "name": "stderr",
     "output_type": "stream",
     "text": [
      "/home/teo/anaconda3/envs/PySyft/lib/python3.10/site-packages/scipy/__init__.py:146: UserWarning: A NumPy version >=1.16.5 and <1.23.0 is required for this version of SciPy (detected version 1.24.2\n",
      "  warnings.warn(f\"A NumPy version >={np_minversion} and <{np_maxversion}\"\n",
      "kj/filesystem-disk-unix.c++:1703: warning: PWD environment variable doesn't match current directory; pwd = /home/teo\n"
     ]
    },
    {
     "name": "stdout",
     "output_type": "stream",
     "text": [
      "✅ The installed version of syft==0.8.0b7 matches the requirement >=0.8b0\n"
     ]
    }
   ],
   "source": [
    "# Import the necessary libraries\n",
    "import syft as sy\n",
    "sy.requires(\">=0.8-beta\")"
   ]
  },
  {
   "cell_type": "code",
   "execution_count": 2,
   "metadata": {},
   "outputs": [
    {
     "name": "stdout",
     "output_type": "stream",
     "text": [
      "SQLite Store Path:\n",
      "!open file:///tmp/7bca415d13ed1ec841f0d0aede098dbb.sqlite\n",
      "\n",
      "> Starting Worker: test-domain-1 - 7bca415d13ed1ec841f0d0aede098dbb - NodeType.DOMAIN - [<class 'syft.core.node.new.user_service.UserService'>, <class 'syft.core.node.new.metadata_service.MetadataService'>, <class 'syft.core.node.new.action_service.ActionService'>, <class 'syft.core.node.new.test_service.TestService'>, <class 'syft.core.node.new.dataset_service.DatasetService'>, <class 'syft.core.node.new.user_code_service.UserCodeService'>, <class 'syft.core.node.new.request_service.RequestService'>, <class 'syft.core.node.new.data_subject_service.DataSubjectService'>, <class 'syft.core.node.new.network_service.NetworkService'>, <class 'syft.core.node.new.policy_service.PolicyService'>, <class 'syft.core.node.new.message_service.MessageService'>, <class 'syft.core.node.new.project_service.ProjectService'>, <class 'syft.core.node.new.data_subject_member_service.DataSubjectMemberService'>]\n"
     ]
    },
    {
     "data": {
      "text/html": [
       "List - Size: 8\n",
       "<div>\n",
       "<style scoped>\n",
       "    .dataframe tbody tr th:only-of-type {\n",
       "        vertical-align: middle;\n",
       "    }\n",
       "\n",
       "    .dataframe tbody tr th {\n",
       "        vertical-align: top;\n",
       "    }\n",
       "\n",
       "    .dataframe thead th {\n",
       "        text-align: right;\n",
       "    }\n",
       "</style>\n",
       "<table border=\"1\" class=\"dataframe\">\n",
       "  <thead>\n",
       "    <tr style=\"text-align: right;\">\n",
       "      <th></th>\n",
       "      <th>type</th>\n",
       "      <th>id</th>\n",
       "      <th>subject</th>\n",
       "      <th>status</th>\n",
       "      <th>created_at</th>\n",
       "      <th>linked_obj</th>\n",
       "    </tr>\n",
       "  </thead>\n",
       "  <tbody>\n",
       "    <tr>\n",
       "      <th>0</th>\n",
       "      <td>syft.core.node.new.messages.Message</td>\n",
       "      <td>9b7bdd5c4d7f4708a0e7f6a8c5286b55</td>\n",
       "      <td>Approval Request</td>\n",
       "      <td>MessageStatus.UNDELIVERED</td>\n",
       "      <td>2023-04-14 10:19:35</td>\n",
       "      <td>&lt;&lt;class 'syft.core.node.new.request.Request'&gt;:...</td>\n",
       "    </tr>\n",
       "    <tr>\n",
       "      <th>1</th>\n",
       "      <td>syft.core.node.new.messages.Message</td>\n",
       "      <td>ff9d737b02c84b259693cbf1b86c4d54</td>\n",
       "      <td>Approval Request</td>\n",
       "      <td>MessageStatus.UNDELIVERED</td>\n",
       "      <td>2023-04-14 10:19:35</td>\n",
       "      <td>&lt;&lt;class 'syft.core.node.new.request.Request'&gt;:...</td>\n",
       "    </tr>\n",
       "    <tr>\n",
       "      <th>2</th>\n",
       "      <td>syft.core.node.new.messages.Message</td>\n",
       "      <td>c8f7a20bee4a4fec8af318e6c5f3704c</td>\n",
       "      <td>Approval Request</td>\n",
       "      <td>MessageStatus.UNDELIVERED</td>\n",
       "      <td>2023-04-14 10:19:36</td>\n",
       "      <td>&lt;&lt;class 'syft.core.node.new.request.Request'&gt;:...</td>\n",
       "    </tr>\n",
       "    <tr>\n",
       "      <th>3</th>\n",
       "      <td>syft.core.node.new.messages.Message</td>\n",
       "      <td>7c3b78310c3242038757e13f457e070e</td>\n",
       "      <td>Approval Request</td>\n",
       "      <td>MessageStatus.UNDELIVERED</td>\n",
       "      <td>2023-04-14 10:19:36</td>\n",
       "      <td>&lt;&lt;class 'syft.core.node.new.request.Request'&gt;:...</td>\n",
       "    </tr>\n",
       "    <tr>\n",
       "      <th>4</th>\n",
       "      <td>syft.core.node.new.messages.Message</td>\n",
       "      <td>7e1c2c5b507b4853930977de98da76d3</td>\n",
       "      <td>Approval Request</td>\n",
       "      <td>MessageStatus.UNDELIVERED</td>\n",
       "      <td>2023-04-14 10:19:35</td>\n",
       "      <td>&lt;&lt;class 'syft.core.node.new.request.Request'&gt;:...</td>\n",
       "    </tr>\n",
       "  </tbody>\n",
       "</table>\n",
       "</div>"
      ],
      "text/plain": [
       "<syft.core.node.new.api.APIModule at 0x7fd0f5822080>"
      ]
     },
     "execution_count": 2,
     "metadata": {},
     "output_type": "execute_result"
    }
   ],
   "source": [
    "# Check domain notifications\n",
    "node = sy.orchestra.launch(name=\"test-domain-1\")\n",
    "domain_client = node.login(email=\"info@openmined.org\", password=\"changethis\")\n",
    "domain_client.notifications"
   ]
  },
  {
   "cell_type": "code",
   "execution_count": 3,
   "metadata": {},
   "outputs": [
    {
     "data": {
      "text/html": [
       "List - Size: 8\n",
       "<div>\n",
       "<style scoped>\n",
       "    .dataframe tbody tr th:only-of-type {\n",
       "        vertical-align: middle;\n",
       "    }\n",
       "\n",
       "    .dataframe tbody tr th {\n",
       "        vertical-align: top;\n",
       "    }\n",
       "\n",
       "    .dataframe thead th {\n",
       "        text-align: right;\n",
       "    }\n",
       "</style>\n",
       "<table border=\"1\" class=\"dataframe\">\n",
       "  <thead>\n",
       "    <tr style=\"text-align: right;\">\n",
       "      <th></th>\n",
       "      <th>type</th>\n",
       "      <th>id</th>\n",
       "      <th>subject</th>\n",
       "      <th>status</th>\n",
       "      <th>created_at</th>\n",
       "      <th>linked_obj</th>\n",
       "    </tr>\n",
       "  </thead>\n",
       "  <tbody>\n",
       "    <tr>\n",
       "      <th>0</th>\n",
       "      <td>syft.core.node.new.messages.Message</td>\n",
       "      <td>9b7bdd5c4d7f4708a0e7f6a8c5286b55</td>\n",
       "      <td>Approval Request</td>\n",
       "      <td>MessageStatus.UNDELIVERED</td>\n",
       "      <td>2023-04-14 10:19:35</td>\n",
       "      <td>&lt;&lt;class 'syft.core.node.new.request.Request'&gt;:...</td>\n",
       "    </tr>\n",
       "    <tr>\n",
       "      <th>1</th>\n",
       "      <td>syft.core.node.new.messages.Message</td>\n",
       "      <td>ff9d737b02c84b259693cbf1b86c4d54</td>\n",
       "      <td>Approval Request</td>\n",
       "      <td>MessageStatus.UNDELIVERED</td>\n",
       "      <td>2023-04-14 10:19:35</td>\n",
       "      <td>&lt;&lt;class 'syft.core.node.new.request.Request'&gt;:...</td>\n",
       "    </tr>\n",
       "    <tr>\n",
       "      <th>2</th>\n",
       "      <td>syft.core.node.new.messages.Message</td>\n",
       "      <td>c8f7a20bee4a4fec8af318e6c5f3704c</td>\n",
       "      <td>Approval Request</td>\n",
       "      <td>MessageStatus.UNDELIVERED</td>\n",
       "      <td>2023-04-14 10:19:36</td>\n",
       "      <td>&lt;&lt;class 'syft.core.node.new.request.Request'&gt;:...</td>\n",
       "    </tr>\n",
       "    <tr>\n",
       "      <th>3</th>\n",
       "      <td>syft.core.node.new.messages.Message</td>\n",
       "      <td>7c3b78310c3242038757e13f457e070e</td>\n",
       "      <td>Approval Request</td>\n",
       "      <td>MessageStatus.UNDELIVERED</td>\n",
       "      <td>2023-04-14 10:19:36</td>\n",
       "      <td>&lt;&lt;class 'syft.core.node.new.request.Request'&gt;:...</td>\n",
       "    </tr>\n",
       "    <tr>\n",
       "      <th>4</th>\n",
       "      <td>syft.core.node.new.messages.Message</td>\n",
       "      <td>7e1c2c5b507b4853930977de98da76d3</td>\n",
       "      <td>Approval Request</td>\n",
       "      <td>MessageStatus.UNDELIVERED</td>\n",
       "      <td>2023-04-14 10:19:35</td>\n",
       "      <td>&lt;&lt;class 'syft.core.node.new.request.Request'&gt;:...</td>\n",
       "    </tr>\n",
       "  </tbody>\n",
       "</table>\n",
       "</div>"
      ],
      "text/plain": [
       "[syft.core.node.new.messages.Message,\n",
       " syft.core.node.new.messages.Message,\n",
       " syft.core.node.new.messages.Message,\n",
       " syft.core.node.new.messages.Message,\n",
       " syft.core.node.new.messages.Message,\n",
       " syft.core.node.new.messages.Message,\n",
       " syft.core.node.new.messages.Message,\n",
       " syft.core.node.new.messages.Message]"
      ]
     },
     "execution_count": 3,
     "metadata": {},
     "output_type": "execute_result"
    }
   ],
   "source": [
    "# Get messages from domain\n",
    "messages = domain_client.api.services.messages.get_all()\n",
    "messages\n"
   ]
  },
  {
   "cell_type": "code",
   "execution_count": 4,
   "metadata": {},
   "outputs": [],
   "source": [
    "# Fetch the dataset\n",
    "results = domain_client.api.services.dataset.get_all()\n",
    "dataset = results[0]\n",
    "mock = dataset.assets[0].data.syft_action_data\n",
    "xs = dataset.assets[1].data.syft_action_data\n",
    "ys = dataset.assets[2].data.syft_action_data"
   ]
  },
  {
   "cell_type": "code",
   "execution_count": 5,
   "metadata": {},
   "outputs": [],
   "source": [
    "possible_kwargs = {\n",
    "    \"func\": {},\n",
    "    \"func_timeit\": {},\n",
    "    \"func_sum_of_squares\" : {\"x\": mock},\n",
    "    \"func_sum_squared_error\" : {\"x\": mock},\n",
    "    \"func_sum_squared_error_with_aux\" : {\"x\": mock},\n",
    "    \"func_naive_modify\" : {\"x\": mock},\n",
    "    \"func_jax_modify\" : {},\n",
    "    \"training_loop\" : {'xs': xs, 'ys': ys}\n",
    "}\n"
   ]
  },
  {
   "cell_type": "code",
   "execution_count": 6,
   "metadata": {},
   "outputs": [
    {
     "name": "stderr",
     "output_type": "stream",
     "text": [
      "WARNING:absl:No GPU/TPU found, falling back to CPU. (Set TF_CPP_MIN_LOG_LEVEL=0 and rerun for more info.)\n"
     ]
    },
    {
     "name": "stdout",
     "output_type": "stream",
     "text": [
      "func\n",
      "WARNING: This code was submitted by a User and could be UNSAFE.\n",
      "[0 1 2 3 4 5 6 7 8 9]\n",
      "message=\"<class 'syft.core.node.new.action_object.AnyActionObject'> saved\"\n",
      "[0 1 2 3 4 5 6 7 8 9]\n",
      "message='Request 37f8c642f0f0471eb4edcaa09b39a299 changes applied'\n",
      "func_sum_of_squares\n",
      "WARNING: This code was submitted by a User and could be UNSAFE.\n",
      "(DeviceArray(30., dtype=float64), DeviceArray([2., 4., 6., 8.], dtype=float64))\n",
      "message=\"<class 'syft.core.node.new.action_object.AnyActionObject'> saved\"\n",
      "(DeviceArray(30., dtype=float64), DeviceArray([2., 4., 6., 8.], dtype=float64))\n",
      "message='Request a44df89f1d1f473bb0a82af199afd825 changes applied'\n",
      "func_jax_modify\n",
      "WARNING: This code was submitted by a User and could be UNSAFE.\n",
      "[123   2   3]\n",
      "message=\"<class 'syft.core.node.new.action_object.AnyActionObject'> saved\"\n",
      "[123   2   3]\n",
      "message='Request e829fcc315ed40de9417d98c959338aa changes applied'\n",
      "func_naive_modify\n",
      "WARNING: This code was submitted by a User and could be UNSAFE.\n",
      "'<class 'jaxlib.xla_extension.DeviceArray'>' object does not support item assignment. JAX arrays are immutable. Instead of ``x[idx] = y``, use ``x = x.at[idx].set(y)`` or another .at[] method: https://jax.readthedocs.io/en/latest/_autosummary/jax.numpy.ndarray.at.html\n",
      "None\n",
      "message=\"<class 'syft.core.node.new.action_object.AnyActionObject'> saved\"\n",
      "None\n",
      "message='Request d44d879f07714cd98e83bcd91dbcbf00 changes applied'\n",
      "func_sum_squared_error\n",
      "WARNING: This code was submitted by a User and could be UNSAFE.\n",
      "(DeviceArray([-0.2, -0.2, -0.2, -0.2], dtype=float64), (DeviceArray([-0.2, -0.2, -0.2, -0.2], dtype=float64), DeviceArray([0.2, 0.2, 0.2, 0.2], dtype=float64)))\n",
      "message=\"<class 'syft.core.node.new.action_object.AnyActionObject'> saved\"\n",
      "(DeviceArray([-0.2, -0.2, -0.2, -0.2], dtype=float64), (DeviceArray([-0.2, -0.2, -0.2, -0.2], dtype=float64), DeviceArray([0.2, 0.2, 0.2, 0.2], dtype=float64)))\n",
      "message='Request 3059be9a7a434772bc71da4436a38492 changes applied'\n",
      "func_sum_squared_error_with_aux\n",
      "WARNING: This code was submitted by a User and could be UNSAFE.\n",
      "(DeviceArray([-0.2, -0.2, -0.2, -0.2], dtype=float64), DeviceArray([-0.1, -0.1, -0.1, -0.1], dtype=float64))\n",
      "message=\"<class 'syft.core.node.new.action_object.AnyActionObject'> saved\"\n",
      "(DeviceArray([-0.2, -0.2, -0.2, -0.2], dtype=float64), DeviceArray([-0.1, -0.1, -0.1, -0.1], dtype=float64))\n",
      "message='Request da72bc21ad554a5f8ec96782ce67acd9 changes applied'\n",
      "training_loop\n",
      "WARNING: This code was submitted by a User and could be UNSAFE.\n",
      "w: 3.00, b: -1.01\n",
      "(DeviceArray(2.9960483, dtype=float64), DeviceArray(-1.00834587, dtype=float64))\n",
      "message=\"<class 'syft.core.node.new.action_object.AnyActionObject'> saved\"\n",
      "(DeviceArray(2.9960483, dtype=float64), DeviceArray(-1.00834587, dtype=float64))\n",
      "message='Request 8c453fcd56414d8b8a3d85ffc7f1df95 changes applied'\n",
      "func_timeit\n",
      "WARNING: This code was submitted by a User and could be UNSAFE.\n",
      "4.41 ms ± 225 µs per loop (mean ± std. dev. of 7 runs, 100 loops each)\n",
      "None\n",
      "message=\"<class 'syft.core.node.new.action_object.AnyActionObject'> saved\"\n",
      "None\n",
      "message='Request d52d47bbc09b46958eb0fa67a86bb5f4 changes applied'\n"
     ]
    },
    {
     "data": {
      "image/png": "[encoded data removed]",
      "text/plain": [
       "<Figure size 640x480 with 1 Axes>"
      ]
     },
     "metadata": {},
     "output_type": "display_data"
    }
   ],
   "source": [
    "# Approve each request and run the user codes \n",
    "for message in messages:    \n",
    "    request = message.link\n",
    "    func = request.changes[0].link\n",
    "    func_name = func.service_func_name\n",
    "    print(func_name)\n",
    "    user_func = func.unsafe_function\n",
    "    kwargs = possible_kwargs[func_name]\n",
    "    real_result = user_func(**kwargs)\n",
    "    print(real_result)\n",
    "    request.approve()\n",
    "    result = request.accept_by_depositing_result(real_result)\n",
    "    print(result)"
   ]
  },
  {
   "attachments": {},
   "cell_type": "markdown",
   "metadata": {},
   "source": [
    "Go to Part 3!"
   ]
  }
 ],
 "metadata": {
  "kernelspec": {
   "display_name": "PySyft",
   "language": "python",
   "name": "python3"
  },
  "language_info": {
   "codemirror_mode": {
    "name": "ipython",
    "version": 3
   },
   "file_extension": ".py",
   "mimetype": "text/x-python",
   "name": "python",
   "nbconvert_exporter": "python",
   "pygments_lexer": "ipython3",
   "version": "3.10.4"
  },
  "orig_nbformat": 4
 },
 "nbformat": 4,
 "nbformat_minor": 2
}
