{
 "cells": [
  {
   "attachments": {},
   "cell_type": "markdown",
   "metadata": {},
   "source": [
    "## Jax Level 0 - Chapter 1\n",
    "### Part 2 - Data Owner responds to the requests\n",
    "\n",
    "Link to the original Jax tutorial: https://jax.readthedocs.io/en/latest/jax-101/01-jax-basics.html"
   ]
  },
  {
   "cell_type": "code",
   "execution_count": 1,
   "metadata": {},
   "outputs": [
    {
     "name": "stderr",
     "output_type": "stream",
     "text": [
      "/home/teo/anaconda3/envs/PySyft/lib/python3.10/site-packages/scipy/__init__.py:146: UserWarning: A NumPy version >=1.16.5 and <1.23.0 is required for this version of SciPy (detected version 1.24.2\n",
      "  warnings.warn(f\"A NumPy version >={np_minversion} and <{np_maxversion}\"\n",
      "kj/filesystem-disk-unix.c++:1703: warning: PWD environment variable doesn't match current directory; pwd = /home/teo\n"
     ]
    },
    {
     "name": "stdout",
     "output_type": "stream",
     "text": [
      "✅ The installed version of syft==0.8.0b6 matches the requirement >=0.8b0\n"
     ]
    }
   ],
   "source": [
    "# Import the necessary libraries\n",
    "import syft as sy\n",
    "sy.requires(\">=0.8-beta\")"
   ]
  },
  {
   "cell_type": "code",
   "execution_count": 2,
   "metadata": {},
   "outputs": [
    {
     "name": "stdout",
     "output_type": "stream",
     "text": [
      "SQLite Store Path:\n",
      "!open file:///tmp/7bca415d13ed1ec841f0d0aede098dbb.sqlite\n",
      "\n",
      "> Starting Worker: test-domain-1 - 7bca415d13ed1ec841f0d0aede098dbb - NodeType.DOMAIN - [<class 'syft.core.node.new.user_service.UserService'>, <class 'syft.core.node.new.metadata_service.MetadataService'>, <class 'syft.core.node.new.action_service.ActionService'>, <class 'syft.core.node.new.test_service.TestService'>, <class 'syft.core.node.new.dataset_service.DatasetService'>, <class 'syft.core.node.new.user_code_service.UserCodeService'>, <class 'syft.core.node.new.request_service.RequestService'>, <class 'syft.core.node.new.data_subject_service.DataSubjectService'>, <class 'syft.core.node.new.network_service.NetworkService'>, <class 'syft.core.node.new.policy_service.PolicyService'>, <class 'syft.core.node.new.message_service.MessageService'>, <class 'syft.core.node.new.project_service.ProjectService'>, <class 'syft.core.node.new.data_subject_member_service.DataSubjectMemberService'>]\n"
     ]
    },
    {
     "data": {
      "text/html": [
       "List - Size: 16\n",
       "<div>\n",
       "<style scoped>\n",
       "    .dataframe tbody tr th:only-of-type {\n",
       "        vertical-align: middle;\n",
       "    }\n",
       "\n",
       "    .dataframe tbody tr th {\n",
       "        vertical-align: top;\n",
       "    }\n",
       "\n",
       "    .dataframe thead th {\n",
       "        text-align: right;\n",
       "    }\n",
       "</style>\n",
       "<table border=\"1\" class=\"dataframe\">\n",
       "  <thead>\n",
       "    <tr style=\"text-align: right;\">\n",
       "      <th></th>\n",
       "      <th>type</th>\n",
       "      <th>id</th>\n",
       "      <th>subject</th>\n",
       "      <th>status</th>\n",
       "      <th>created_at</th>\n",
       "      <th>linked_obj</th>\n",
       "    </tr>\n",
       "  </thead>\n",
       "  <tbody>\n",
       "    <tr>\n",
       "      <th>0</th>\n",
       "      <td>syft.core.node.new.messages.Message</td>\n",
       "      <td>b3e3a2bf693644e69938b701dc3a9da0</td>\n",
       "      <td>Approval Request</td>\n",
       "      <td>MessageStatus.UNDELIVERED</td>\n",
       "      <td>2023-04-14 09:58:38</td>\n",
       "      <td>&lt;&lt;class 'syft.core.node.new.request.Request'&gt;:...</td>\n",
       "    </tr>\n",
       "    <tr>\n",
       "      <th>1</th>\n",
       "      <td>syft.core.node.new.messages.Message</td>\n",
       "      <td>35d24f0e1c33482f9153893d89db287e</td>\n",
       "      <td>Approval Request</td>\n",
       "      <td>MessageStatus.UNDELIVERED</td>\n",
       "      <td>2023-04-14 09:58:45</td>\n",
       "      <td>&lt;&lt;class 'syft.core.node.new.request.Request'&gt;:...</td>\n",
       "    </tr>\n",
       "    <tr>\n",
       "      <th>2</th>\n",
       "      <td>syft.core.node.new.messages.Message</td>\n",
       "      <td>357d180747dd45639481c6bf2181de9e</td>\n",
       "      <td>Approval Request</td>\n",
       "      <td>MessageStatus.UNDELIVERED</td>\n",
       "      <td>2023-04-14 09:58:53</td>\n",
       "      <td>&lt;&lt;class 'syft.core.node.new.request.Request'&gt;:...</td>\n",
       "    </tr>\n",
       "    <tr>\n",
       "      <th>3</th>\n",
       "      <td>syft.core.node.new.messages.Message</td>\n",
       "      <td>374a0d7ad0aa47e0a0cbe44e0063dcba</td>\n",
       "      <td>Approval Request</td>\n",
       "      <td>MessageStatus.UNDELIVERED</td>\n",
       "      <td>2023-04-14 09:58:38</td>\n",
       "      <td>&lt;&lt;class 'syft.core.node.new.request.Request'&gt;:...</td>\n",
       "    </tr>\n",
       "    <tr>\n",
       "      <th>4</th>\n",
       "      <td>syft.core.node.new.messages.Message</td>\n",
       "      <td>c20f2d4fd8254b43b2cd76236e70fe84</td>\n",
       "      <td>Approval Request</td>\n",
       "      <td>MessageStatus.UNDELIVERED</td>\n",
       "      <td>2023-04-14 09:58:46</td>\n",
       "      <td>&lt;&lt;class 'syft.core.node.new.request.Request'&gt;:...</td>\n",
       "    </tr>\n",
       "  </tbody>\n",
       "</table>\n",
       "</div>"
      ],
      "text/plain": [
       "<syft.core.node.new.api.APIModule at 0x7f55f4930be0>"
      ]
     },
     "execution_count": 2,
     "metadata": {},
     "output_type": "execute_result"
    }
   ],
   "source": [
    "# Check domain notifications\n",
    "node = sy.orchestra.launch(name=\"test-domain-1\")\n",
    "domain_client = node.login(email=\"info@openmined.org\", password=\"changethis\")\n",
    "domain_client.notifications"
   ]
  },
  {
   "cell_type": "code",
   "execution_count": 3,
   "metadata": {},
   "outputs": [
    {
     "data": {
      "text/html": [
       "List - Size: 16\n",
       "<div>\n",
       "<style scoped>\n",
       "    .dataframe tbody tr th:only-of-type {\n",
       "        vertical-align: middle;\n",
       "    }\n",
       "\n",
       "    .dataframe tbody tr th {\n",
       "        vertical-align: top;\n",
       "    }\n",
       "\n",
       "    .dataframe thead th {\n",
       "        text-align: right;\n",
       "    }\n",
       "</style>\n",
       "<table border=\"1\" class=\"dataframe\">\n",
       "  <thead>\n",
       "    <tr style=\"text-align: right;\">\n",
       "      <th></th>\n",
       "      <th>type</th>\n",
       "      <th>id</th>\n",
       "      <th>subject</th>\n",
       "      <th>status</th>\n",
       "      <th>created_at</th>\n",
       "      <th>linked_obj</th>\n",
       "    </tr>\n",
       "  </thead>\n",
       "  <tbody>\n",
       "    <tr>\n",
       "      <th>0</th>\n",
       "      <td>syft.core.node.new.messages.Message</td>\n",
       "      <td>b3e3a2bf693644e69938b701dc3a9da0</td>\n",
       "      <td>Approval Request</td>\n",
       "      <td>MessageStatus.UNDELIVERED</td>\n",
       "      <td>2023-04-14 09:58:38</td>\n",
       "      <td>&lt;&lt;class 'syft.core.node.new.request.Request'&gt;:...</td>\n",
       "    </tr>\n",
       "    <tr>\n",
       "      <th>1</th>\n",
       "      <td>syft.core.node.new.messages.Message</td>\n",
       "      <td>35d24f0e1c33482f9153893d89db287e</td>\n",
       "      <td>Approval Request</td>\n",
       "      <td>MessageStatus.UNDELIVERED</td>\n",
       "      <td>2023-04-14 09:58:45</td>\n",
       "      <td>&lt;&lt;class 'syft.core.node.new.request.Request'&gt;:...</td>\n",
       "    </tr>\n",
       "    <tr>\n",
       "      <th>2</th>\n",
       "      <td>syft.core.node.new.messages.Message</td>\n",
       "      <td>357d180747dd45639481c6bf2181de9e</td>\n",
       "      <td>Approval Request</td>\n",
       "      <td>MessageStatus.UNDELIVERED</td>\n",
       "      <td>2023-04-14 09:58:53</td>\n",
       "      <td>&lt;&lt;class 'syft.core.node.new.request.Request'&gt;:...</td>\n",
       "    </tr>\n",
       "    <tr>\n",
       "      <th>3</th>\n",
       "      <td>syft.core.node.new.messages.Message</td>\n",
       "      <td>374a0d7ad0aa47e0a0cbe44e0063dcba</td>\n",
       "      <td>Approval Request</td>\n",
       "      <td>MessageStatus.UNDELIVERED</td>\n",
       "      <td>2023-04-14 09:58:38</td>\n",
       "      <td>&lt;&lt;class 'syft.core.node.new.request.Request'&gt;:...</td>\n",
       "    </tr>\n",
       "    <tr>\n",
       "      <th>4</th>\n",
       "      <td>syft.core.node.new.messages.Message</td>\n",
       "      <td>c20f2d4fd8254b43b2cd76236e70fe84</td>\n",
       "      <td>Approval Request</td>\n",
       "      <td>MessageStatus.UNDELIVERED</td>\n",
       "      <td>2023-04-14 09:58:46</td>\n",
       "      <td>&lt;&lt;class 'syft.core.node.new.request.Request'&gt;:...</td>\n",
       "    </tr>\n",
       "  </tbody>\n",
       "</table>\n",
       "</div>"
      ],
      "text/plain": [
       "[syft.core.node.new.messages.Message,\n",
       " syft.core.node.new.messages.Message,\n",
       " syft.core.node.new.messages.Message,\n",
       " syft.core.node.new.messages.Message,\n",
       " syft.core.node.new.messages.Message,\n",
       " syft.core.node.new.messages.Message,\n",
       " syft.core.node.new.messages.Message,\n",
       " syft.core.node.new.messages.Message,\n",
       " syft.core.node.new.messages.Message,\n",
       " syft.core.node.new.messages.Message,\n",
       " syft.core.node.new.messages.Message,\n",
       " syft.core.node.new.messages.Message,\n",
       " syft.core.node.new.messages.Message,\n",
       " syft.core.node.new.messages.Message,\n",
       " syft.core.node.new.messages.Message,\n",
       " syft.core.node.new.messages.Message]"
      ]
     },
     "execution_count": 3,
     "metadata": {},
     "output_type": "execute_result"
    }
   ],
   "source": [
    "# Get messages from domain\n",
    "messages = domain_client.api.services.messages.get_all()\n",
    "messages\n"
   ]
  },
  {
   "cell_type": "code",
   "execution_count": 4,
   "metadata": {},
   "outputs": [],
   "source": [
    "# Fetch the dataset\n",
    "results = domain_client.api.services.dataset.get_all()\n",
    "dataset = results[0]\n",
    "mock = dataset.assets[0].data.syft_action_data\n",
    "xs = dataset.assets[1].data.syft_action_data\n",
    "ys = dataset.assets[2].data.syft_action_data"
   ]
  },
  {
   "cell_type": "code",
   "execution_count": 8,
   "metadata": {},
   "outputs": [
    {
     "data": {
      "text/plain": [
       "array([1., 2., 3., 4.])"
      ]
     },
     "execution_count": 8,
     "metadata": {},
     "output_type": "execute_result"
    }
   ],
   "source": [
    "mock.data.syft_action_data"
   ]
  },
  {
   "cell_type": "code",
   "execution_count": null,
   "metadata": {},
   "outputs": [],
   "source": [
    "possible_kwargs = {\n",
    "    \"func\": {},\n",
    "    \"func_timeit\": {},\n",
    "    \"func_sum_of_squares\" : {\"x\": mock},\n",
    "    \"func_sum_squared_error\" : {\"x\": mock},\n",
    "    \"func_sum_squared_error_with_aux\" : {\"x\": mock},\n",
    "    \"func_naive_modify\" : {\"x\": mock},\n",
    "    \"func_jax_modify\" : {},\n",
    "    \"training_loop\" : {'xs': xs.mock, 'ys': ys.mock}\n",
    "}\n"
   ]
  },
  {
   "cell_type": "code",
   "execution_count": null,
   "metadata": {},
   "outputs": [
    {
     "name": "stdout",
     "output_type": "stream",
     "text": [
      "func\n",
      "WARNING: This code was submitted by a User and could be UNSAFE.\n",
      "syft.core.node.new.user_code.UserCodeExecutionResult\n"
     ]
    },
    {
     "name": "stderr",
     "output_type": "stream",
     "text": [
      "execute_byte_code\n"
     ]
    },
    {
     "name": "stdout",
     "output_type": "stream",
     "text": [
      "message=\"<class 'syft.core.node.new.action_object.AnyActionObject'> saved\"\n",
      "syft.core.node.new.user_code.UserCodeExecutionResult\n",
      "message='Request d543efaf76b84caab1ae9e4e88d1bbf4 changes applied'\n",
      "func_sum_squared_error_with_aux\n",
      "WARNING: This code was submitted by a User and could be UNSAFE.\n",
      "None\n"
     ]
    },
    {
     "name": "stderr",
     "output_type": "stream",
     "text": [
      "execute_byte_code failed Argument 'syft.core.node.new.dataset.Asset' of type <class 'syft.core.node.new.dataset.Asset'> is not a valid JAX type.\n"
     ]
    },
    {
     "name": "stdout",
     "output_type": "stream",
     "text": [
      "message=\"<class 'syft.core.node.new.action_object.AnyActionObject'> saved\"\n",
      "None\n",
      "message='Request e70c44d586a745ae9b0e51982feeb20d changes applied'\n",
      "func_naive_modify\n",
      "WARNING: This code was submitted by a User and could be UNSAFE.\n",
      "syft.core.node.new.user_code.UserCodeExecutionResult\n"
     ]
    },
    {
     "name": "stderr",
     "output_type": "stream",
     "text": [
      "execute_byte_code\n"
     ]
    },
    {
     "name": "stdout",
     "output_type": "stream",
     "text": [
      "message=\"<class 'syft.core.node.new.action_object.AnyActionObject'> saved\"\n",
      "syft.core.node.new.user_code.UserCodeExecutionResult\n",
      "message='Request f3692a3b422147bf8f3ea26e6408e813 changes applied'\n",
      "training_loop\n",
      "WARNING: This code was submitted by a User and could be UNSAFE.\n",
      "None\n"
     ]
    },
    {
     "name": "stderr",
     "output_type": "stream",
     "text": [
      "execute_byte_code failed The numpy.ndarray conversion method __array__() was called on the JAX Tracer object Traced<ConcreteArray(1.0, dtype=float64)>with<JVPTrace(level=2/0)> with\n",
      "  primal = DeviceArray(1., dtype=float64)\n",
      "  tangent = Traced<ShapedArray(float64[])>with<JaxprTrace(level=1/0)> with\n",
      "    pval = (ShapedArray(float64[]), None)\n",
      "    recipe = JaxprEqnRecipe(eqn_id=<object object at 0x7f91458e32a0>, in_tracers=(Traced<ShapedArray(float64[1]):JaxprTrace(level=1/0)>,), out_tracer_refs=[<weakref at 0x7f91144797b0; to 'JaxprTracer' at 0x7f9114479fd0>], out_avals=[ShapedArray(float64[])], primitive=squeeze, params={'dimensions': (0,)}, effects=set(), source_info=SourceInfo(traceback=<jaxlib.xla_extension.Traceback object at 0x7f91143566b0>, name_stack=NameStack(stack=(Transform(name='jvp'),))))\n",
      "See https://jax.readthedocs.io/en/latest/errors.html#jax.errors.TracerArrayConversionError\n"
     ]
    },
    {
     "name": "stdout",
     "output_type": "stream",
     "text": [
      "message=\"<class 'syft.core.node.new.action_object.AnyActionObject'> saved\"\n",
      "None\n",
      "message='Request 85e208ca923a47498c7966afaa6bc317 changes applied'\n",
      "func_timeit\n",
      "WARNING: This code was submitted by a User and could be UNSAFE.\n",
      "syft.core.node.new.user_code.UserCodeExecutionResult\n"
     ]
    },
    {
     "name": "stderr",
     "output_type": "stream",
     "text": [
      "execute_byte_code\n"
     ]
    },
    {
     "name": "stdout",
     "output_type": "stream",
     "text": [
      "message=\"<class 'syft.core.node.new.action_object.AnyActionObject'> saved\"\n",
      "syft.core.node.new.user_code.UserCodeExecutionResult\n",
      "message='Request bf93d41360774fb0b094fee202cbace5 changes applied'\n",
      "func_sum_of_squares\n",
      "WARNING: This code was submitted by a User and could be UNSAFE.\n",
      "None\n"
     ]
    },
    {
     "name": "stderr",
     "output_type": "stream",
     "text": [
      "execute_byte_code failed unsupported operand type(s) for ** or pow(): 'Asset' and 'int'\n"
     ]
    },
    {
     "name": "stdout",
     "output_type": "stream",
     "text": [
      "message=\"<class 'syft.core.node.new.action_object.AnyActionObject'> saved\"\n",
      "None\n",
      "message='Request 584c7f1673d4415cb28a97f3bb5379ea changes applied'\n",
      "func_jax_modify\n",
      "WARNING: This code was submitted by a User and could be UNSAFE.\n",
      "syft.core.node.new.user_code.UserCodeExecutionResult\n"
     ]
    },
    {
     "name": "stderr",
     "output_type": "stream",
     "text": [
      "execute_byte_code\n"
     ]
    },
    {
     "name": "stdout",
     "output_type": "stream",
     "text": [
      "message=\"<class 'syft.core.node.new.action_object.AnyActionObject'> saved\"\n",
      "syft.core.node.new.user_code.UserCodeExecutionResult\n",
      "message='Request 565c64efa3dd4a7885279310e92289f5 changes applied'\n",
      "func_sum_squared_error\n",
      "WARNING: This code was submitted by a User and could be UNSAFE.\n",
      "None\n"
     ]
    },
    {
     "name": "stderr",
     "output_type": "stream",
     "text": [
      "execute_byte_code failed Argument 'syft.core.node.new.dataset.Asset' of type <class 'syft.core.node.new.dataset.Asset'> is not a valid JAX type.\n"
     ]
    },
    {
     "name": "stdout",
     "output_type": "stream",
     "text": [
      "message=\"<class 'syft.core.node.new.action_object.AnyActionObject'> saved\"\n",
      "None\n",
      "message='Request 3b1cd814bd6e4ae083a80b85b86f842a changes applied'\n"
     ]
    }
   ],
   "source": [
    "# Approve each request and run the user codes \n",
    "for message in messages:    \n",
    "    request = message.link\n",
    "    func = request.changes[0].link\n",
    "    func_name = func.service_func_name\n",
    "    print(func_name)\n",
    "    user_func = func.unsafe_function\n",
    "    kwargs = possible_kwargs[func_name]\n",
    "    real_result = user_func(**kwargs)\n",
    "    print(real_result)\n",
    "    result = request.accept_by_depositing_result(real_result)\n",
    "    print(result)"
   ]
  },
  {
   "attachments": {},
   "cell_type": "markdown",
   "metadata": {},
   "source": [
    "Go to Part 3!"
   ]
  }
 ],
 "metadata": {
  "kernelspec": {
   "display_name": "PySyft",
   "language": "python",
   "name": "python3"
  },
  "language_info": {
   "codemirror_mode": {
    "name": "ipython",
    "version": 3
   },
   "file_extension": ".py",
   "mimetype": "text/x-python",
   "name": "python",
   "nbconvert_exporter": "python",
   "pygments_lexer": "ipython3",
   "version": "3.10.4"
  },
  "orig_nbformat": 4
 },
 "nbformat": 4,
 "nbformat_minor": 2
}
