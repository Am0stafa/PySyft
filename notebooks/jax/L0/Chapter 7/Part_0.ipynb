{
 "cells": [
  {
   "cell_type": "code",
   "execution_count": 1,
   "metadata": {},
   "outputs": [
    {
     "name": "stderr",
     "output_type": "stream",
     "text": [
      "/home/teo/anaconda3/envs/PySyft/lib/python3.10/site-packages/scipy/__init__.py:146: UserWarning: A NumPy version >=1.16.5 and <1.23.0 is required for this version of SciPy (detected version 1.24.2\n",
      "  warnings.warn(f\"A NumPy version >={np_minversion} and <{np_maxversion}\"\n",
      "kj/filesystem-disk-unix.c++:1703: warning: PWD environment variable doesn't match current directory; pwd = /home/teo/OpenMined/PySyft\n"
     ]
    },
    {
     "name": "stdout",
     "output_type": "stream",
     "text": [
      "✅ The installed version of syft==0.8.0b5 matches the requirement >=0.8b0\n"
     ]
    }
   ],
   "source": [
    "import syft as sy\n",
    "sy.requires(\">=0.8-beta\")\n",
    "from syft.util import autocache\n",
    "import jax\n",
    "import jax.numpy as jnp"
   ]
  },
  {
   "cell_type": "code",
   "execution_count": 2,
   "metadata": {},
   "outputs": [
    {
     "name": "stdout",
     "output_type": "stream",
     "text": [
      " ✅ test-domain-1 Container Removed\n",
      " ✅ test-domain-1 Volume Removed\n",
      "✅ Docker service is running\n",
      "✅ Git 2.25.1\n",
      "✅ Docker 20.10.23\n",
      "✅ Docker Compose 2.0.1\n",
      "\n",
      "\n",
      "                                             `\n",
      "                                         `.+yys/.`\n",
      "                                       ``/NMMMNNs`\n",
      "                                    `./shNMMMMMMNs``    `..`\n",
      "                                  `-smNMMNNMMMMMMN/.``......`\n",
      "                                `.yNMMMMNmmmmNNMMm/.`....`\n",
      "                              `:sdNMMMMMMNNNNddddds-`.`` `--. `\n",
      "                           `.+dNNNNMMMMMMMMMNNNNmddohmh//hddy/.```..`\n",
      "                          `-hNMMMMMMMMMMMMNNdmNNMNNdNNd:sdyoo+/++:..`\n",
      "                        ../mMMMMMMMMMMMMMMNNmmmmNMNmNNmdmd/hNNNd+:`\n",
      "                        `:mMNNMMMMMMMMMMMMNMNNmmmNNNNNdNNd/NMMMMm::\n",
      "                       `:mMNNNMMMMMMMMMMMMMMMNNNNdNMNNmmNd:smMMmh//\n",
      "                     ``/mMMMMMMMMMMMMMMMMMMMMMMNmdmNNMMNNNy/osoo/-`\n",
      "                    `-sNMMMMMMMMMMMMMMMMMMMMMMMMNNmmMMMMNh-....`\n",
      "                   `/dNMMMMMMMMMMMMMMMMMMMMMMMMMMMNNMMMNy.`\n",
      "                ``.omNNMMMMMMMMMMMMNMMMMMMMNmmmmNNMMMMN+`\n",
      "                `:hmNNMMMMMMMMMMMNo/ohNNNNho+os+-+hNys/`\n",
      "                -mNNNNNNMMMMMMMMm+``-yNdd+/mMMMms.-:`\n",
      "                .+dmNNNNMMMMMMNd:``:dNN+y`oMMMMMm-.`\n",
      "                `+dmmmNNNmmmmy+.   `-+m/s/+MMMMm/--\n",
      "               `+mmmhNy/-...```     ``-.-sosyys+/-`\n",
      "            ``.smmmsoo``               .oh+-:/:.\n",
      "          `.:odmdh/````             `.+d+``````\n",
      "     ```/sydNdhy+.`              ``-sds.\n",
      "    `:hdmhs::-````               `oNs.`\n",
      "```.sdmh/``                    `-ym+`\n",
      " ``ssy+`                     `-yms.`\n",
      "   ``                      `:hNy-``\n",
      "   `                     `-yMN/```\n",
      "                       `-yNhy-\n",
      "                     `/yNd/`\n",
      "                   `:dNMs``\n",
      "                 `.+mNy/.`\n",
      "              `.+hNMMs``\n",
      "             `:dMMMMh.`\n",
      "stty: 'standard input': Inappropriate ioctl for device\n",
      "Launching a PyGrid Domain node on port 8080!\n",
      "\n",
      "  - NAME: test-domain-1\n",
      "  - RELEASE: development\n",
      "  - ARCH: linux/amd64\n",
      "  - TYPE: domain\n",
      "  - DOCKER_TAG: 0.8.0-beta.5-dev\n",
      "  - GIT_HASH: 2f95b1dd3d8d3fdb19b4e75f38a83ecc52b944d4\n",
      "  - HAGRID_VERSION: 0.2.135-dev\n",
      "  - HAGRID_REPO_SHA: 2f95b1dd3d8d3fdb19b4e75f38a83ecc52b944d4\n",
      "  - PORT: 8080\n",
      "  - DOCKER COMPOSE: v2.0.1\n",
      "\n",
      "\n",
      "⠋ Launching Containers  \n",
      "  ✅ Pulling [4 / 4] ━━━━━━━━━━━━━━━━━━━━━━━━━━━━━━━━━━━━━━━━ 100.00%   \n",
      "  ✅ Building [2 / 2] ━━━━━━━━━━━━━━━━━━━━━━━━━━━━━━━━━━━━━━━━ 100.00%   \n",
      "\n",
      "\n",
      "  ERROR : Error response from daemon: Conflict. The container name \n",
      "\"/test-domain-1-proxy-1\" is already in use by container \n",
      "\"b53b00cea6d771d51bc4d46a3b8e8d8928283dfed070dea201b542cb7f2e568c\". You have to \n",
      "remove (or rename) that container to be able to reuse that name.\n",
      "\n",
      "Failed to run cmd: RELEASE=development COMPOSE_DOCKER_CLI_BUILD=1 DOCKER_BUILDKIT=1 HTTP_PORT=8080 HTTPS_PORT=444 TRAEFIK_TAG=7bca415d13ed1ec841f0d0aede098dbba7ddf23ba8d94400a7dc095091b87053 NODE_NAME=test-domain-1 NODE_TYPE=domain TRAEFIK_PUBLIC_NETWORK_IS_EXTERNAL=False VERSION=0.8.0-beta.5-dev VERSION_HASH=2f95b1dd3d8d3fdb19b4e75f38a83ecc52b944d4 USE_BLOB_STORAGE=True FRONTEND_TARGET=grid-ui-development STACK_API_KEY=3x4orU7xZYTKZZnsLZ0DmuvxL5pSZdO0xNO1xpkK96uj2LX5 ENABLE_OBLV=false TRACE=True JAEGER_HOST=docker-host JAEGER_PORT=14268 RABBITMQ_MANAGEMENT=-management docker compose -p test-domain-1 --env-file /home/teo/OpenMined/PySyft/packages/grid/.envfile --profile vpn --profile blob-storage --profile frontend --profile telemetry --file docker-compose.yml --file docker-compose.dev.yml up -d. \n",
      "\n",
      "\n",
      "⠋ Checking node API     \n"
     ]
    }
   ],
   "source": [
    "node = sy.orchestra.launch(name=\"test-domain-1\", reset=True)"
   ]
  },
  {
   "cell_type": "code",
   "execution_count": null,
   "metadata": {},
   "outputs": [],
   "source": [
    "domain_client = node.login(email=\"info@openmined.org\", password=\"changethis\")"
   ]
  },
  {
   "cell_type": "code",
   "execution_count": null,
   "metadata": {},
   "outputs": [],
   "source": [
    "# Optional add description, citation, url, contributors\n",
    "dataset = sy.Dataset(name=\"JAX - Chapter 1 data\")"
   ]
  },
  {
   "cell_type": "code",
   "execution_count": null,
   "metadata": {},
   "outputs": [],
   "source": [
    "range_data = jnp.arnage(10)"
   ]
  },
  {
   "cell_type": "code",
   "execution_count": null,
   "metadata": {},
   "outputs": [],
   "source": []
  }
 ],
 "metadata": {
  "kernelspec": {
   "display_name": "PySyft",
   "language": "python",
   "name": "python3"
  },
  "language_info": {
   "codemirror_mode": {
    "name": "ipython",
    "version": 3
   },
   "file_extension": ".py",
   "mimetype": "text/x-python",
   "name": "python",
   "nbconvert_exporter": "python",
   "pygments_lexer": "ipython3",
   "version": "3.10.4"
  },
  "orig_nbformat": 4
 },
 "nbformat": 4,
 "nbformat_minor": 2
}
