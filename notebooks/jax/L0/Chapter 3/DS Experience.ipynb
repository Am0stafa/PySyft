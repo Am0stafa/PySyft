{
 "cells": [
  {
   "attachments": {},
   "cell_type": "markdown",
   "metadata": {},
   "source": [
    "# Jax Level 0 Data Scientist Experience - Chapter 3\n",
    "## Part 2 - New account registration and code execution requests\n",
    "\n",
    "Link to the original Jax tutorial: https://jax.readthedocs.io/en/latest/jax-101/03-vectorization.html"
   ]
  },
  {
   "cell_type": "code",
   "execution_count": null,
   "metadata": {},
   "outputs": [],
   "source": [
    "# Import the necessary libraries\n",
    "import syft as sy\n",
    "sy.requires(\">=0.8-beta\")\n",
    "import jax\n",
    "import jax.numpy as jnp"
   ]
  },
  {
   "cell_type": "code",
   "execution_count": null,
   "metadata": {},
   "outputs": [],
   "source": [
    "# Register a client to the domain\n",
    "node = sy.orchestra.launch(name=\"test-domain-1\")\n",
    "guest_domain_client = node.client\n",
    "guest_domain_client.register(name=\"Jane Doe\", email=\"jane@caltech.edu\", password=\"abc123\", institution=\"Caltech\", website=\"https://www.caltech.edu/\")\n",
    "guest_domain_client.login(email=\"jane@caltech.edu\", password=\"abc123\")"
   ]
  },
  {
   "cell_type": "code",
   "execution_count": null,
   "metadata": {},
   "outputs": [],
   "source": [
    "# Create a function for code execution\n",
    "# ATTENTION: ALL LIBRARIES USED SHOULD BE DEFINED INSIDE THE FUNCTION CONTEXT!!!\n",
    "\n",
    "@sy.syft_function(input_policy=sy.ExactMatch(),\n",
    "                  output_policy=sy.SingleExecutionExactOutput())\n",
    "def manual_vectorization():\n",
    "    import jax\n",
    "    import jax.numpy as jnp\n",
    "\n",
    "    x = jnp.arange(5)\n",
    "    w = jnp.array([2., 3., 4.])\n",
    "\n",
    "    def convolve(x, w):\n",
    "        output = []\n",
    "        for i in range(1, len(x)-1):\n",
    "            output.append(jnp.dot(x[i-1:i+2], w))\n",
    "        return jnp.array(output)\n",
    "\n",
    "    print(\"Convolve:\", convolve(x, w))\n",
    "\n",
    "    xs = jnp.stack([x, x])\n",
    "    ws = jnp.stack([w, w])\n",
    "    \n",
    "    def manually_batched_convolve(xs, ws):\n",
    "        output = []\n",
    "        for i in range(xs.shape[0]):\n",
    "            output.append(convolve(xs[i], ws[i]))\n",
    "        return jnp.stack(output)\n",
    "\n",
    "    print(\"Naive solution for batched convolve\", manually_batched_convolve(xs, ws))\n",
    "\n",
    "\n",
    "    def manually_vectorized_convolve(xs, ws):\n",
    "        output = []\n",
    "        for i in range(1, xs.shape[-1] -1):\n",
    "            output.append(jnp.sum(xs[:, i-1:i+2] * ws, axis=1))\n",
    "        return jnp.stack(output, axis=1)\n",
    "\n",
    "    print(\"Vectorized solution for batched convolve\", manually_vectorized_convolve(xs, ws))\n",
    "    \n",
    "@sy.syft_function(input_policy=sy.ExactMatch(),\n",
    "                  output_policy=sy.SingleExecutionExactOutput())\n",
    "def automatic_vectorization():\n",
    "    import jax\n",
    "    import jax.numpy as jnp\n",
    "    \n",
    "    x = jnp.arange(5)\n",
    "    w = jnp.array([2., 3., 4.])\n",
    "\n",
    "    def convolve(x, w):\n",
    "        output = []\n",
    "        for i in range(1, len(x)-1):\n",
    "            output.append(jnp.dot(x[i-1:i+2], w))\n",
    "        return jnp.array(output)\n",
    "\n",
    "    print(\"Convolve:\", convolve(x, w))\n",
    "\n",
    "    xs = jnp.stack([x, x])\n",
    "    ws = jnp.stack([w, w])\n",
    "    \n",
    "    auto_batch_convolve = jax.vmap(convolve)\n",
    "\n",
    "    print(\"Automatic vectorization\", auto_batch_convolve(xs, ws))\n",
    "    \n",
    "    auto_batch_convolve_v2 = jax.vmap(convolve, in_axes=1, out_axes=1)\n",
    "\n",
    "    xst = jnp.transpose(xs)\n",
    "    wst = jnp.transpose(ws)\n",
    "\n",
    "    print(\"Automatic vectorization with axes\", auto_batch_convolve_v2(xst, wst))\n",
    "    \n",
    "    batch_convolve_v3 = jax.vmap(convolve, in_axes=[0, None])\n",
    "\n",
    "    print(\"Automatic vectorization with one ax\", batch_convolve_v3(xs, w))\n",
    "    \n",
    "    jitted_batch_convolve = jax.jit(auto_batch_convolve)\n",
    "\n",
    "    print(\"Jitted Automatic vectorization\", jitted_batch_convolve(xs, ws))"
   ]
  },
  {
   "cell_type": "code",
   "execution_count": null,
   "metadata": {},
   "outputs": [],
   "source": [
    "# Test our function locally \n",
    "manual_vectorization()\n",
    "automatic_vectorization()"
   ]
  },
  {
   "cell_type": "code",
   "execution_count": null,
   "metadata": {},
   "outputs": [],
   "source": [
    "# Submit the function for code execution\n",
    "# guest_domain_client.api.services.code.request_code_execution(manual_vectorization)\n",
    "guest_domain_client.api.services.code.request_code_execution(automatic_vectorization)"
   ]
  },
  {
   "cell_type": "code",
   "execution_count": null,
   "metadata": {},
   "outputs": [],
   "source": [
    "# new_project = sy.Project(name=\"My Cool Jax Project\")\n",
    "# proj_desc = \"\"\"Hi, I want to learn Jax and PySyft\"\"\"\n",
    "# new_project.set_description(proj_desc)\n",
    "# for code_obj in guest_domain_client.code:\n",
    "#     new_project.add_request(obj=code_obj, permission=sy.UserCodeStatus.EXECUTE)"
   ]
  },
  {
   "cell_type": "code",
   "execution_count": null,
   "metadata": {},
   "outputs": [],
   "source": [
    "# guest_domain_client.submit_project(new_project)"
   ]
  },
  {
   "cell_type": "code",
   "execution_count": null,
   "metadata": {},
   "outputs": [],
   "source": [
    "# guest_domain_client._api = None\n",
    "# _ = guest_domain_client.api"
   ]
  },
  {
   "cell_type": "code",
   "execution_count": null,
   "metadata": {},
   "outputs": [],
   "source": [
    "guest_domain_client.api.services.code.automatic_vectorization()"
   ]
  },
  {
   "cell_type": "markdown",
   "metadata": {},
   "source": [
    "### Go to the Data Owner Notebook for Part 2!"
   ]
  },
  {
   "cell_type": "markdown",
   "metadata": {},
   "source": []
  },
  {
   "cell_type": "markdown",
   "metadata": {},
   "source": [
    "## Part 3 - Downloading the Results"
   ]
  },
  {
   "cell_type": "code",
   "execution_count": null,
   "metadata": {},
   "outputs": [],
   "source": [
    "result = guest_domain_client.api.services.code.automatic_vectorization()"
   ]
  },
  {
   "cell_type": "code",
   "execution_count": null,
   "metadata": {},
   "outputs": [],
   "source": [
    "result.get_result()"
   ]
  },
  {
   "cell_type": "code",
   "execution_count": null,
   "metadata": {},
   "outputs": [],
   "source": [
    "print(result.get_stdout())"
   ]
  }
 ],
 "metadata": {
  "kernelspec": {
   "display_name": "PySyft",
   "language": "python",
   "name": "python3"
  },
  "language_info": {
   "codemirror_mode": {
    "name": "ipython",
    "version": 3
   },
   "file_extension": ".py",
   "mimetype": "text/x-python",
   "name": "python",
   "nbconvert_exporter": "python",
   "pygments_lexer": "ipython3",
   "version": "3.10.4"
  },
  "orig_nbformat": 4
 },
 "nbformat": 4,
 "nbformat_minor": 2
}
