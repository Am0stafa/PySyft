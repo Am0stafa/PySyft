{
 "cells": [
  {
   "attachments": {},
   "cell_type": "markdown",
   "metadata": {},
   "source": [
    "# Jax Level 0 Data Owner Experience - Chapter 2\n",
    "## Part 0 - Initial Setup\n",
    "\n",
    "Link to the original Jax tutorial: https://jax.readthedocs.io/en/latest/jax-101/02-jitting.html"
   ]
  },
  {
   "cell_type": "code",
   "execution_count": 1,
   "metadata": {},
   "outputs": [
    {
     "name": "stderr",
     "output_type": "stream",
     "text": [
      "kj/filesystem-disk-unix.c++:1703: warning: PWD environment variable doesn't match current directory; pwd = /home/teo/OpenMined/PySyft\n",
      "/home/teo/anaconda3/envs/PySyft/lib/python3.10/site-packages/scipy/__init__.py:146: UserWarning: A NumPy version >=1.16.5 and <1.23.0 is required for this version of SciPy (detected version 1.24.2\n",
      "  warnings.warn(f\"A NumPy version >={np_minversion} and <{np_maxversion}\"\n"
     ]
    },
    {
     "name": "stdout",
     "output_type": "stream",
     "text": [
      "✅ The installed version of syft==0.8.0b8 matches the requirement >=0.8b0\n"
     ]
    }
   ],
   "source": [
    "# Import the necessary libraries\n",
    "import syft as sy\n",
    "sy.requires(\">=0.8-beta\")\n",
    "import jax\n",
    "import jax.numpy as jnp\n",
    "import numpy as np"
   ]
  },
  {
   "cell_type": "code",
   "execution_count": 2,
   "metadata": {},
   "outputs": [
    {
     "name": "stdout",
     "output_type": "stream",
     "text": [
      "SQLite Store Path:\n",
      "!open file:///tmp/7bca415d13ed1ec841f0d0aede098dbb.sqlite\n",
      "\n",
      "> Domain: test-domain-1 - 7bca415d13ed1ec841f0d0aede098dbb - NodeType.DOMAIN\n",
      "\n",
      "Services:\n",
      "ActionService\n",
      "DataSubjectMemberService\n",
      "DataSubjectService\n",
      "DatasetService\n",
      "MessageService\n",
      "MetadataService\n",
      "NetworkService\n",
      "PolicyService\n",
      "ProjectService\n",
      "RequestService\n",
      "UserCodeService\n",
      "UserService\n"
     ]
    }
   ],
   "source": [
    "# Launch the domain\n",
    "node = sy.orchestra.launch(name=\"test-domain-1\", reset=True)\n",
    "domain_client = node.login(email=\"info@openmined.org\", password=\"changethis\")"
   ]
  },
  {
   "attachments": {},
   "cell_type": "markdown",
   "metadata": {},
   "source": [
    "### Go to the Data Scientist Notebook for Part 1!\n"
   ]
  },
  {
   "cell_type": "markdown",
   "metadata": {},
   "source": []
  },
  {
   "attachments": {},
   "cell_type": "markdown",
   "metadata": {},
   "source": [
    "## Part 2 - Review and Approving requests"
   ]
  },
  {
   "cell_type": "code",
   "execution_count": 3,
   "metadata": {},
   "outputs": [
    {
     "name": "stdout",
     "output_type": "stream",
     "text": [
      "queue_task: Start\n",
      "task_runner: Start\n",
      "task_runner: End\n",
      "task_producer: Start\n",
      "task_producer: End\n",
      "queue_task: End\n"
     ]
    },
    {
     "data": {
      "text/html": [
       "[]"
      ],
      "text/plain": [
       "[]"
      ]
     },
     "execution_count": 3,
     "metadata": {},
     "output_type": "execute_result"
    }
   ],
   "source": [
    "# Get messages from domain\n",
    "messages = domain_client.api.services.messages.get_all()\n",
    "messages"
   ]
  },
  {
   "cell_type": "code",
   "execution_count": 4,
   "metadata": {},
   "outputs": [
    {
     "ename": "IndexError",
     "evalue": "list index out of range",
     "output_type": "error",
     "traceback": [
      "\u001b[0;31m---------------------------------------------------------------------------\u001b[0m",
      "\u001b[0;31mIndexError\u001b[0m                                Traceback (most recent call last)",
      "\u001b[1;32m/home/teo/OpenMined/PySyft/notebooks/jax/L0/Chapter 2/DO Experience.ipynb Cell 8\u001b[0m in \u001b[0;36m2\n\u001b[1;32m      <a href='vscode-notebook-cell:/home/teo/OpenMined/PySyft/notebooks/jax/L0/Chapter%202/DO%20Experience.ipynb#X13sZmlsZQ%3D%3D?line=0'>1</a>\u001b[0m \u001b[39m# Review Request\u001b[39;00m\n\u001b[0;32m----> <a href='vscode-notebook-cell:/home/teo/OpenMined/PySyft/notebooks/jax/L0/Chapter%202/DO%20Experience.ipynb#X13sZmlsZQ%3D%3D?line=1'>2</a>\u001b[0m request \u001b[39m=\u001b[39m messages[\u001b[39m0\u001b[39;49m]\u001b[39m.\u001b[39mlink\n\u001b[1;32m      <a href='vscode-notebook-cell:/home/teo/OpenMined/PySyft/notebooks/jax/L0/Chapter%202/DO%20Experience.ipynb#X13sZmlsZQ%3D%3D?line=2'>3</a>\u001b[0m func \u001b[39m=\u001b[39m request\u001b[39m.\u001b[39mchanges[\u001b[39m0\u001b[39m]\u001b[39m.\u001b[39mlink\n\u001b[1;32m      <a href='vscode-notebook-cell:/home/teo/OpenMined/PySyft/notebooks/jax/L0/Chapter%202/DO%20Experience.ipynb#X13sZmlsZQ%3D%3D?line=3'>4</a>\u001b[0m func_name \u001b[39m=\u001b[39m func\u001b[39m.\u001b[39mservice_func_name\n",
      "\u001b[0;31mIndexError\u001b[0m: list index out of range"
     ]
    }
   ],
   "source": [
    "# Review Request\n",
    "request = messages[0].link\n",
    "func = request.changes[0].link\n",
    "func_name = func.service_func_name\n",
    "print(func_name)\n",
    "func.raw_code\n"
   ]
  },
  {
   "cell_type": "code",
   "execution_count": null,
   "metadata": {},
   "outputs": [
    {
     "name": "stdout",
     "output_type": "stream",
     "text": [
      "WARNING: This code was submitted by a User and could be UNSAFE.\n"
     ]
    },
    {
     "name": "stderr",
     "output_type": "stream",
     "text": [
      "execute_byte_code\n"
     ]
    },
    {
     "data": {
      "text/markdown": [
       "```python\n",
       "class UserCodeExecutionResult:\n",
       "  id: str = 908c08d79ceb4a7d8f952fd689cb244a\n",
       "  user_code_id: str = 79a25a04b1484e06b5c53046269f946f\n",
       "  stdout: str = \"ARGS <class 'float'>\n",
       "printed x: Traced<ShapedArray(float64[], weak_type=True)>with<DynamicJaxprTrace(level=1/0)>\n",
       "ARGS <class 'jax.interpreters.partial_eval.DynamicJaxprTracer'>\n",
       "CACHE MISS DEVICE None\n",
       "CACHE MISS DEVICE TYPE <class 'NoneType'>\n",
       "TRACERS [Traced<ShapedArray(float64[], weak_type=True)>with<DynamicJaxprTrace(level=1/0)>]\n",
       "PARAMS {'device': None, 'backend': None, 'name': '<lambda>', 'donated_invars': (False,), 'inline': True, 'keep_unused': False}\n",
       "ARGS <class 'float'>\n",
       "CACHE MISS DEVICE None\n",
       "CACHE MISS DEVICE TYPE <class 'NoneType'>\n",
       "TRACERS [Traced<ShapedArray(float64[], weak_type=True)>with<DynamicJaxprTrace(level=1/0)>]\n",
       "PARAMS {'device': None, 'backend': None, 'name': '<lambda>', 'donated_invars': (False,), 'inline': True, 'keep_unused': False}\n",
       "ARGS <class 'jax.interpreters.partial_eval.DynamicJaxprTracer'>\n",
       "CACHE MISS DEVICE None\n",
       "CACHE MISS DEVICE TYPE <class 'NoneType'>\n",
       "TRACERS [Traced<ShapedArray(float64[], weak_type=True)>with<DynamicJaxprTrace(level=1/0)>, Traced<ShapedArray(float64[], weak_type=True)>with<DynamicJaxprTrace(level=1/0)>]\n",
       "PARAMS {'device': None, 'backend': None, 'name': 'true_divide', 'donated_invars': (False, False), 'inline': True, 'keep_unused': False}\n",
       "{ \u001b[34m\u001b[22m\u001b[1mlambda \u001b[39m\u001b[22m\u001b[22m; a\u001b[35m:f64[]\u001b[39m. \u001b[34m\u001b[22m\u001b[1mlet\n",
       "    \u001b[39m\u001b[22m\u001b[22mb\u001b[35m:f64[]\u001b[39m = log a\n",
       "    c\u001b[35m:f64[]\u001b[39m = log 2.0\n",
       "    d\u001b[35m:f64[]\u001b[39m = div b c\n",
       "  \u001b[34m\u001b[22m\u001b[1min \u001b[39m\u001b[22m\u001b[22m(d,) }\n",
       "\"\n",
       "  stderr: str = \"WARNING:absl:No GPU/TPU found, falling back to CPU. (Set TF_CPP_MIN_LOG_LEVEL=0 and rerun for more info.)\n",
       "\"\n",
       "  result: str = None\n",
       "  serialized_plot: str = None\n",
       "  syft_dont_wrap_attrs: str = ['get_plot']\n",
       "  syft_passthrough_attrs: str = ['get_plot']\n",
       "\n",
       "```"
      ],
      "text/plain": [
       "syft.service.code.user_code.UserCodeExecutionResult"
      ]
     },
     "execution_count": 7,
     "metadata": {},
     "output_type": "execute_result"
    },
    {
     "data": {
      "text/plain": [
       "<Figure size 640x480 with 0 Axes>"
      ]
     },
     "metadata": {},
     "output_type": "display_data"
    }
   ],
   "source": [
    "# Run the submitted function\n",
    "user_func = func.unsafe_function\n",
    "kwargs = [func_name]\n",
    "real_result = user_func()\n",
    "real_result"
   ]
  },
  {
   "cell_type": "code",
   "execution_count": null,
   "metadata": {},
   "outputs": [
    {
     "name": "stdout",
     "output_type": "stream",
     "text": [
      "queue_task: Start\n",
      "task_runner: Start\n",
      "task_runner: End\n",
      "task_producer: Start\n",
      "task_producer: End\n",
      "queue_task: End\n",
      "queue_task: Start\n",
      "task_runner: Start\n",
      "task_runner: End\n",
      "task_producer: Start\n",
      "task_producer: End\n",
      "queue_task: End\n",
      "message=\"<class 'syft.service.action.action_object.AnyActionObject'> saved\"\n"
     ]
    },
    {
     "ename": "ModuleNotFoundError",
     "evalue": "No module named 'syft.service.request.action_service'",
     "output_type": "error",
     "traceback": [
      "\u001b[0;31m---------------------------------------------------------------------------\u001b[0m",
      "\u001b[0;31mModuleNotFoundError\u001b[0m                       Traceback (most recent call last)",
      "\u001b[1;32m/home/teo/OpenMined/PySyft/notebooks/jax/L0/Chapter 2/DO Experience.ipynb Cell 10\u001b[0m in \u001b[0;36m3\n\u001b[1;32m      <a href='vscode-notebook-cell:/home/teo/OpenMined/PySyft/notebooks/jax/L0/Chapter%202/DO%20Experience.ipynb#X15sZmlsZQ%3D%3D?line=0'>1</a>\u001b[0m \u001b[39m# Approve the request with the previous result\u001b[39;00m\n\u001b[1;32m      <a href='vscode-notebook-cell:/home/teo/OpenMined/PySyft/notebooks/jax/L0/Chapter%202/DO%20Experience.ipynb#X15sZmlsZQ%3D%3D?line=1'>2</a>\u001b[0m request\u001b[39m.\u001b[39mapprove()\n\u001b[0;32m----> <a href='vscode-notebook-cell:/home/teo/OpenMined/PySyft/notebooks/jax/L0/Chapter%202/DO%20Experience.ipynb#X15sZmlsZQ%3D%3D?line=2'>3</a>\u001b[0m result \u001b[39m=\u001b[39m request\u001b[39m.\u001b[39;49maccept_by_depositing_result(real_result)\n\u001b[1;32m      <a href='vscode-notebook-cell:/home/teo/OpenMined/PySyft/notebooks/jax/L0/Chapter%202/DO%20Experience.ipynb#X15sZmlsZQ%3D%3D?line=3'>4</a>\u001b[0m result\n",
      "File \u001b[0;32m~/OpenMined/PySyft/packages/syft/src/syft/service/request/request.py:178\u001b[0m, in \u001b[0;36mRequest.accept_by_depositing_result\u001b[0;34m(self, result)\u001b[0m\n\u001b[1;32m    176\u001b[0m result \u001b[39m=\u001b[39m api\u001b[39m.\u001b[39mservices\u001b[39m.\u001b[39maction\u001b[39m.\u001b[39msave(action_object)\n\u001b[1;32m    177\u001b[0m \u001b[39mprint\u001b[39m(result)\n\u001b[0;32m--> 178\u001b[0m \u001b[39mfrom\u001b[39;00m \u001b[39m.\u001b[39;00m\u001b[39maction_service\u001b[39;00m \u001b[39mimport\u001b[39;00m TwinMode\n\u001b[1;32m    180\u001b[0m \u001b[39mif\u001b[39;00m \u001b[39mnot\u001b[39;00m result:\n\u001b[1;32m    181\u001b[0m     \u001b[39mreturn\u001b[39;00m result\n",
      "\u001b[0;31mModuleNotFoundError\u001b[0m: No module named 'syft.service.request.action_service'"
     ]
    }
   ],
   "source": [
    "# Approve the request with the previous result\n",
    "request.approve()\n",
    "result = request.accept_by_depositing_result(real_result)\n",
    "result"
   ]
  },
  {
   "attachments": {},
   "cell_type": "markdown",
   "metadata": {},
   "source": [
    "### Go to the Data Scientist Notebook!!!"
   ]
  }
 ],
 "metadata": {
  "kernelspec": {
   "display_name": "PySyft",
   "language": "python",
   "name": "python3"
  },
  "language_info": {
   "codemirror_mode": {
    "name": "ipython",
    "version": 3
   },
   "file_extension": ".py",
   "mimetype": "text/x-python",
   "name": "python",
   "nbconvert_exporter": "python",
   "pygments_lexer": "ipython3",
   "version": "3.10.4"
  },
  "orig_nbformat": 4
 },
 "nbformat": 4,
 "nbformat_minor": 2
}
