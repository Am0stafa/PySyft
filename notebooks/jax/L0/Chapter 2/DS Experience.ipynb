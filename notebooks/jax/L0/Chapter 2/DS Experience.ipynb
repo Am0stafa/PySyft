{
 "cells": [
  {
   "attachments": {},
   "cell_type": "markdown",
   "metadata": {},
   "source": [
    "# Jax Level 0 Data Scientist Experience - Chapter 2\n",
    "## Part 2 - New account registration and code execution requests\n",
    "\n",
    "Link to the original Jax tutorial: https://jax.readthedocs.io/en/latest/jax-101/02-jitting.html"
   ]
  },
  {
   "cell_type": "code",
   "execution_count": 2,
   "metadata": {},
   "outputs": [
    {
     "name": "stderr",
     "output_type": "stream",
     "text": [
      "kj/filesystem-disk-unix.c++:1703: warning: PWD environment variable doesn't match current directory; pwd = /home/teo/OpenMined/PySyft\n",
      "/home/teo/anaconda3/envs/PySyft/lib/python3.10/site-packages/scipy/__init__.py:146: UserWarning: A NumPy version >=1.16.5 and <1.23.0 is required for this version of SciPy (detected version 1.24.2\n",
      "  warnings.warn(f\"A NumPy version >={np_minversion} and <{np_maxversion}\"\n"
     ]
    },
    {
     "ename": "ImportError",
     "evalue": "attempted relative import beyond top-level package",
     "output_type": "error",
     "traceback": [
      "\u001b[0;31m---------------------------------------------------------------------------\u001b[0m",
      "\u001b[0;31mImportError\u001b[0m                               Traceback (most recent call last)",
      "\u001b[1;32m/home/teo/OpenMined/PySyft/notebooks/jax/L0/Chapter 2/DS Experience.ipynb Cell 2\u001b[0m in \u001b[0;36m2\n\u001b[1;32m      <a href='vscode-notebook-cell:/home/teo/OpenMined/PySyft/notebooks/jax/L0/Chapter%202/DS%20Experience.ipynb#W3sZmlsZQ%3D%3D?line=0'>1</a>\u001b[0m \u001b[39m# Import the necessary libraries\u001b[39;00m\n\u001b[0;32m----> <a href='vscode-notebook-cell:/home/teo/OpenMined/PySyft/notebooks/jax/L0/Chapter%202/DS%20Experience.ipynb#W3sZmlsZQ%3D%3D?line=1'>2</a>\u001b[0m \u001b[39mimport\u001b[39;00m \u001b[39msyft\u001b[39;00m \u001b[39mas\u001b[39;00m \u001b[39msy\u001b[39;00m\n\u001b[1;32m      <a href='vscode-notebook-cell:/home/teo/OpenMined/PySyft/notebooks/jax/L0/Chapter%202/DS%20Experience.ipynb#W3sZmlsZQ%3D%3D?line=2'>3</a>\u001b[0m sy\u001b[39m.\u001b[39mrequires(\u001b[39m\"\u001b[39m\u001b[39m>=0.8-beta\u001b[39m\u001b[39m\"\u001b[39m)\n\u001b[1;32m      <a href='vscode-notebook-cell:/home/teo/OpenMined/PySyft/notebooks/jax/L0/Chapter%202/DS%20Experience.ipynb#W3sZmlsZQ%3D%3D?line=3'>4</a>\u001b[0m \u001b[39mimport\u001b[39;00m \u001b[39mjax\u001b[39;00m\n",
      "File \u001b[0;32m~/OpenMined/PySyft/packages/syft/src/syft/__init__.py:23\u001b[0m\n\u001b[1;32m     21\u001b[0m \u001b[39mfrom\u001b[39;00m \u001b[39m.\u001b[39;00m\u001b[39mexternal\u001b[39;00m \u001b[39mimport\u001b[39;00m enable_external_lib  \u001b[39m# noqa: F401\u001b[39;00m\n\u001b[1;32m     22\u001b[0m \u001b[39mfrom\u001b[39;00m \u001b[39m.\u001b[39;00m\u001b[39mnode\u001b[39;00m\u001b[39m.\u001b[39;00m\u001b[39mcredentials\u001b[39;00m \u001b[39mimport\u001b[39;00m SyftSigningKey  \u001b[39m# noqa: F401\u001b[39;00m\n\u001b[0;32m---> 23\u001b[0m \u001b[39mfrom\u001b[39;00m \u001b[39m.\u001b[39;00m\u001b[39mnode\u001b[39;00m\u001b[39m.\u001b[39;00m\u001b[39mserver\u001b[39;00m \u001b[39mimport\u001b[39;00m bind_worker  \u001b[39m# noqa: F401\u001b[39;00m\n\u001b[1;32m     24\u001b[0m \u001b[39mfrom\u001b[39;00m \u001b[39m.\u001b[39;00m\u001b[39mnode\u001b[39;00m\u001b[39m.\u001b[39;00m\u001b[39mworker\u001b[39;00m \u001b[39mimport\u001b[39;00m Worker  \u001b[39m# noqa: F401\u001b[39;00m\n\u001b[1;32m     25\u001b[0m \u001b[39mfrom\u001b[39;00m \u001b[39m.\u001b[39;00m\u001b[39mserde\u001b[39;00m \u001b[39mimport\u001b[39;00m NOTHING  \u001b[39m# noqa: F401\u001b[39;00m\n",
      "File \u001b[0;32m~/OpenMined/PySyft/packages/syft/src/syft/node/server.py:21\u001b[0m\n\u001b[1;32m     18\u001b[0m \u001b[39mimport\u001b[39;00m \u001b[39muvicorn\u001b[39;00m\n\u001b[1;32m     20\u001b[0m \u001b[39m# relative\u001b[39;00m\n\u001b[0;32m---> 21\u001b[0m \u001b[39mfrom\u001b[39;00m \u001b[39m.\u001b[39;00m\u001b[39mroutes\u001b[39;00m \u001b[39mimport\u001b[39;00m make_routes\n\u001b[1;32m     22\u001b[0m \u001b[39mfrom\u001b[39;00m \u001b[39m.\u001b[39;00m\u001b[39mworker\u001b[39;00m \u001b[39mimport\u001b[39;00m Worker\n\u001b[1;32m     25\u001b[0m \u001b[39mdef\u001b[39;00m \u001b[39mmake_app\u001b[39m(name: \u001b[39mstr\u001b[39m, router: APIRouter) \u001b[39m-\u001b[39m\u001b[39m>\u001b[39m FastAPI:\n",
      "File \u001b[0;32m~/OpenMined/PySyft/packages/syft/src/syft/node/routes.py:30\u001b[0m\n\u001b[1;32m     28\u001b[0m \u001b[39mfrom\u001b[39;00m \u001b[39m.\u001b[39;00m\u001b[39mcredentials\u001b[39;00m \u001b[39mimport\u001b[39;00m UserLoginCredentials\n\u001b[1;32m     29\u001b[0m \u001b[39mfrom\u001b[39;00m \u001b[39m.\u001b[39;00m\u001b[39mnode\u001b[39;00m \u001b[39mimport\u001b[39;00m NewNode\n\u001b[0;32m---> 30\u001b[0m \u001b[39mfrom\u001b[39;00m \u001b[39m.\u001b[39;00m\u001b[39mworker\u001b[39;00m \u001b[39mimport\u001b[39;00m Worker\n\u001b[1;32m     33\u001b[0m \u001b[39mdef\u001b[39;00m \u001b[39mmake_routes\u001b[39m(worker: Worker) \u001b[39m-\u001b[39m\u001b[39m>\u001b[39m APIRouter:\n\u001b[1;32m     34\u001b[0m     \u001b[39mif\u001b[39;00m TRACE_MODE:\n\u001b[1;32m     35\u001b[0m         \u001b[39m# third party\u001b[39;00m\n",
      "File \u001b[0;32m~/OpenMined/PySyft/packages/syft/src/syft/node/worker.py:43\u001b[0m\n\u001b[1;32m     41\u001b[0m \u001b[39mfrom\u001b[39;00m \u001b[39m.\u001b[39;00m\u001b[39m.\u001b[39;00m\u001b[39mserde\u001b[39;00m\u001b[39m.\u001b[39;00m\u001b[39mserializable\u001b[39;00m \u001b[39mimport\u001b[39;00m serializable\n\u001b[1;32m     42\u001b[0m \u001b[39mfrom\u001b[39;00m \u001b[39m.\u001b[39;00m\u001b[39m.\u001b[39;00m\u001b[39mserde\u001b[39;00m\u001b[39m.\u001b[39;00m\u001b[39mserialize\u001b[39;00m \u001b[39mimport\u001b[39;00m _serialize\n\u001b[0;32m---> 43\u001b[0m \u001b[39mfrom\u001b[39;00m \u001b[39m.\u001b[39;00m\u001b[39m.\u001b[39;00m\u001b[39mservice\u001b[39;00m\u001b[39m.\u001b[39;00m\u001b[39maction\u001b[39;00m\u001b[39m.\u001b[39;00m\u001b[39maction_service\u001b[39;00m \u001b[39mimport\u001b[39;00m ActionService\n\u001b[1;32m     44\u001b[0m \u001b[39mfrom\u001b[39;00m \u001b[39m.\u001b[39;00m\u001b[39m.\u001b[39;00m\u001b[39mservice\u001b[39;00m\u001b[39m.\u001b[39;00m\u001b[39maction\u001b[39;00m\u001b[39m.\u001b[39;00m\u001b[39maction_store\u001b[39;00m \u001b[39mimport\u001b[39;00m DictActionStore\n\u001b[1;32m     45\u001b[0m \u001b[39mfrom\u001b[39;00m \u001b[39m.\u001b[39;00m\u001b[39m.\u001b[39;00m\u001b[39mservice\u001b[39;00m\u001b[39m.\u001b[39;00m\u001b[39maction\u001b[39;00m\u001b[39m.\u001b[39;00m\u001b[39maction_store\u001b[39;00m \u001b[39mimport\u001b[39;00m SQLiteActionStore\n",
      "File \u001b[0;32m~/OpenMined/PySyft/packages/syft/src/syft/service/action/action_service.py:16\u001b[0m\n\u001b[1;32m     14\u001b[0m \u001b[39m# relative\u001b[39;00m\n\u001b[1;32m     15\u001b[0m \u001b[39mfrom\u001b[39;00m \u001b[39m.\u001b[39;00m\u001b[39m.\u001b[39;00m\u001b[39m.\u001b[39;00m\u001b[39mserde\u001b[39;00m\u001b[39m.\u001b[39;00m\u001b[39mserializable\u001b[39;00m \u001b[39mimport\u001b[39;00m serializable\n\u001b[0;32m---> 16\u001b[0m \u001b[39mfrom\u001b[39;00m \u001b[39m.\u001b[39;00m\u001b[39m.\u001b[39;00m\u001b[39m.\u001b[39;00m\u001b[39mtypes\u001b[39;00m\u001b[39m.\u001b[39;00m\u001b[39mtwin_object\u001b[39;00m \u001b[39mimport\u001b[39;00m TwinObject\n\u001b[1;32m     17\u001b[0m \u001b[39mfrom\u001b[39;00m \u001b[39m.\u001b[39;00m\u001b[39m.\u001b[39;00m\u001b[39m.\u001b[39;00m\u001b[39mtypes\u001b[39;00m\u001b[39m.\u001b[39;00m\u001b[39muid\u001b[39;00m \u001b[39mimport\u001b[39;00m UID\n\u001b[1;32m     18\u001b[0m \u001b[39mfrom\u001b[39;00m \u001b[39m.\u001b[39;00m\u001b[39m.\u001b[39;00m\u001b[39mcode\u001b[39;00m\u001b[39m.\u001b[39;00m\u001b[39muser_code\u001b[39;00m \u001b[39mimport\u001b[39;00m UserCode\n",
      "File \u001b[0;32m~/OpenMined/PySyft/packages/syft/src/syft/types/twin_object.py:10\u001b[0m\n\u001b[1;32m      8\u001b[0m \u001b[39m# relative\u001b[39;00m\n\u001b[1;32m      9\u001b[0m \u001b[39mfrom\u001b[39;00m \u001b[39m.\u001b[39;00m\u001b[39m.\u001b[39;00m\u001b[39mserde\u001b[39;00m\u001b[39m.\u001b[39;00m\u001b[39mserializable\u001b[39;00m \u001b[39mimport\u001b[39;00m serializable\n\u001b[0;32m---> 10\u001b[0m \u001b[39mfrom\u001b[39;00m \u001b[39m.\u001b[39;00m\u001b[39m.\u001b[39;00m\u001b[39mservice\u001b[39;00m\u001b[39m.\u001b[39;00m\u001b[39maction\u001b[39;00m\u001b[39m.\u001b[39;00m\u001b[39maction_object\u001b[39;00m \u001b[39mimport\u001b[39;00m ActionObject\n\u001b[1;32m     11\u001b[0m \u001b[39mfrom\u001b[39;00m \u001b[39m.\u001b[39;00m\u001b[39m.\u001b[39;00m\u001b[39mservice\u001b[39;00m\u001b[39m.\u001b[39;00m\u001b[39maction\u001b[39;00m\u001b[39m.\u001b[39;00m\u001b[39maction_types\u001b[39;00m \u001b[39mimport\u001b[39;00m action_types\n\u001b[1;32m     12\u001b[0m \u001b[39mfrom\u001b[39;00m \u001b[39m.\u001b[39;00m\u001b[39msyft_object\u001b[39;00m \u001b[39mimport\u001b[39;00m SyftObject\n",
      "File \u001b[0;32m~/OpenMined/PySyft/packages/syft/src/syft/service/action/action_object.py:35\u001b[0m\n\u001b[1;32m     33\u001b[0m \u001b[39mfrom\u001b[39;00m \u001b[39m.\u001b[39;00m\u001b[39m.\u001b[39;00m\u001b[39mresponse\u001b[39;00m \u001b[39mimport\u001b[39;00m SyftException\n\u001b[1;32m     34\u001b[0m \u001b[39mfrom\u001b[39;00m \u001b[39m.\u001b[39;00m\u001b[39maction_data_empty\u001b[39;00m \u001b[39mimport\u001b[39;00m ActionDataEmpty\n\u001b[0;32m---> 35\u001b[0m \u001b[39mfrom\u001b[39;00m \u001b[39m.\u001b[39;00m\u001b[39maction_types\u001b[39;00m \u001b[39mimport\u001b[39;00m action_type_for_type\n\u001b[1;32m     36\u001b[0m \u001b[39mfrom\u001b[39;00m \u001b[39m.\u001b[39;00m\u001b[39maction_types\u001b[39;00m \u001b[39mimport\u001b[39;00m action_types\n\u001b[1;32m     39\u001b[0m \u001b[39m@serializable\u001b[39m()\n\u001b[1;32m     40\u001b[0m \u001b[39mclass\u001b[39;00m \u001b[39mAction\u001b[39;00m(SyftObject):\n",
      "File \u001b[0;32m~/OpenMined/PySyft/packages/syft/src/syft/service/action/action_types.py:6\u001b[0m\n\u001b[1;32m      3\u001b[0m \u001b[39mfrom\u001b[39;00m \u001b[39mtyping\u001b[39;00m \u001b[39mimport\u001b[39;00m Type\n\u001b[1;32m      5\u001b[0m \u001b[39m# relative\u001b[39;00m\n\u001b[0;32m----> 6\u001b[0m \u001b[39mfrom\u001b[39;00m \u001b[39m.\u001b[39;00m\u001b[39m.\u001b[39;00m\u001b[39m.\u001b[39;00m\u001b[39m.\u001b[39;00m\u001b[39mlogger\u001b[39;00m \u001b[39mimport\u001b[39;00m debug\n\u001b[1;32m      7\u001b[0m \u001b[39mfrom\u001b[39;00m \u001b[39m.\u001b[39;00m\u001b[39maction_data_empty\u001b[39;00m \u001b[39mimport\u001b[39;00m ActionDataEmpty\n\u001b[1;32m      9\u001b[0m action_types \u001b[39m=\u001b[39m {}\n",
      "\u001b[0;31mImportError\u001b[0m: attempted relative import beyond top-level package"
     ]
    }
   ],
   "source": [
    "# Import the necessary libraries\n",
    "import syft as sy\n",
    "sy.requires(\">=0.8-beta\")\n",
    "import jax\n",
    "import jax.numpy as jnp"
   ]
  },
  {
   "cell_type": "code",
   "execution_count": null,
   "metadata": {},
   "outputs": [
    {
     "name": "stdout",
     "output_type": "stream",
     "text": [
      "SQLite Store Path:\n",
      "!open file:///tmp/7bca415d13ed1ec841f0d0aede098dbb.sqlite\n",
      "\n",
      "> Starting Worker: test-domain-1 - 7bca415d13ed1ec841f0d0aede098dbb - NodeType.DOMAIN - [<class 'syft.core.node.new.user_service.UserService'>, <class 'syft.core.node.new.metadata_service.MetadataService'>, <class 'syft.core.node.new.action_service.ActionService'>, <class 'syft.core.node.new.test_service.TestService'>, <class 'syft.core.node.new.dataset_service.DatasetService'>, <class 'syft.core.node.new.user_code_service.UserCodeService'>, <class 'syft.core.node.new.request_service.RequestService'>, <class 'syft.core.node.new.data_subject_service.DataSubjectService'>, <class 'syft.core.node.new.network_service.NetworkService'>, <class 'syft.core.node.new.policy_service.PolicyService'>, <class 'syft.core.node.new.message_service.MessageService'>, <class 'syft.core.node.new.project_service.ProjectService'>, <class 'syft.core.node.new.data_subject_member_service.DataSubjectMemberService'>]\n"
     ]
    },
    {
     "data": {
      "text/plain": [
       "<SyftClient - test-domain-1 <7bca415d13ed1ec841f0d0aede098dbb>: PythonConnection>"
      ]
     },
     "metadata": {},
     "output_type": "display_data"
    }
   ],
   "source": [
    "# Register a client to the domain\n",
    "node = sy.orchestra.launch(name=\"test-domain-1\")\n",
    "guest_domain_client = node.client\n",
    "guest_domain_client.register(name=\"Jane Doe\", email=\"jane@caltech.edu\", password=\"abc123\", institution=\"Caltech\", website=\"https://www.caltech.edu/\")\n",
    "guest_domain_client.login(email=\"jane@caltech.edu\", password=\"abc123\")"
   ]
  },
  {
   "cell_type": "code",
   "execution_count": null,
   "metadata": {},
   "outputs": [],
   "source": [
    "# Inspect available data\n",
    "results = guest_domain_client.api.services.dataset.get_all()\n",
    "dataset = results[0]"
   ]
  },
  {
   "cell_type": "code",
   "execution_count": 3,
   "metadata": {},
   "outputs": [
    {
     "ename": "NameError",
     "evalue": "name 'sy' is not defined",
     "output_type": "error",
     "traceback": [
      "\u001b[0;31m---------------------------------------------------------------------------\u001b[0m",
      "\u001b[0;31mNameError\u001b[0m                                 Traceback (most recent call last)",
      "\u001b[1;32m/home/teo/OpenMined/PySyft/notebooks/jax/L0/Chapter 2/DS Experience.ipynb Cell 5\u001b[0m in \u001b[0;36m4\n\u001b[1;32m      <a href='vscode-notebook-cell:/home/teo/OpenMined/PySyft/notebooks/jax/L0/Chapter%202/DS%20Experience.ipynb#W6sZmlsZQ%3D%3D?line=0'>1</a>\u001b[0m \u001b[39m# Create a function for code execution\u001b[39;00m\n\u001b[1;32m      <a href='vscode-notebook-cell:/home/teo/OpenMined/PySyft/notebooks/jax/L0/Chapter%202/DS%20Experience.ipynb#W6sZmlsZQ%3D%3D?line=1'>2</a>\u001b[0m \u001b[39m# ATTENTION: ALL LIBRARIES USED SHOULD BE DEFINED INSIDE THE FUNCTION CONTEXT!!!\u001b[39;00m\n\u001b[0;32m----> <a href='vscode-notebook-cell:/home/teo/OpenMined/PySyft/notebooks/jax/L0/Chapter%202/DS%20Experience.ipynb#W6sZmlsZQ%3D%3D?line=3'>4</a>\u001b[0m \u001b[39m@sy\u001b[39m\u001b[39m.\u001b[39msyft_function(input_policy\u001b[39m=\u001b[39msy\u001b[39m.\u001b[39mExactMatch(),\n\u001b[1;32m      <a href='vscode-notebook-cell:/home/teo/OpenMined/PySyft/notebooks/jax/L0/Chapter%202/DS%20Experience.ipynb#W6sZmlsZQ%3D%3D?line=4'>5</a>\u001b[0m                   output_policy\u001b[39m=\u001b[39msy\u001b[39m.\u001b[39mSingleExecutionExactOutput())\n\u001b[1;32m      <a href='vscode-notebook-cell:/home/teo/OpenMined/PySyft/notebooks/jax/L0/Chapter%202/DS%20Experience.ipynb#W6sZmlsZQ%3D%3D?line=5'>6</a>\u001b[0m \u001b[39mdef\u001b[39;00m \u001b[39mfunc_log\u001b[39m():\n\u001b[1;32m      <a href='vscode-notebook-cell:/home/teo/OpenMined/PySyft/notebooks/jax/L0/Chapter%202/DS%20Experience.ipynb#W6sZmlsZQ%3D%3D?line=6'>7</a>\u001b[0m     \u001b[39mimport\u001b[39;00m \u001b[39mjax\u001b[39;00m\n\u001b[1;32m      <a href='vscode-notebook-cell:/home/teo/OpenMined/PySyft/notebooks/jax/L0/Chapter%202/DS%20Experience.ipynb#W6sZmlsZQ%3D%3D?line=7'>8</a>\u001b[0m     \u001b[39mimport\u001b[39;00m \u001b[39mjax\u001b[39;00m\u001b[39m.\u001b[39;00m\u001b[39mnumpy\u001b[39;00m \u001b[39mas\u001b[39;00m \u001b[39mjnp\u001b[39;00m\n",
      "\u001b[0;31mNameError\u001b[0m: name 'sy' is not defined"
     ]
    }
   ],
   "source": [
    "# Create a function for code execution\n",
    "# ATTENTION: ALL LIBRARIES USED SHOULD BE DEFINED INSIDE THE FUNCTION CONTEXT!!!\n",
    "\n",
    "@sy.syft_function(input_policy=sy.ExactMatch(),\n",
    "                  output_policy=sy.SingleExecutionExactOutput())\n",
    "def func_log():\n",
    "    import jax\n",
    "    import jax.numpy as jnp\n",
    "\n",
    "    global_list = []\n",
    "\n",
    "    def log2(x):\n",
    "        global_list.append(x)\n",
    "        ln_x = jnp.log(x)\n",
    "        ln_2 = jnp.log(2.0)\n",
    "        return ln_x / ln_2\n",
    "\n",
    "    print(jax.make_jaxpr(log2)(3.0))\n",
    "\n"
   ]
  },
  {
   "cell_type": "code",
   "execution_count": 1,
   "metadata": {},
   "outputs": [
    {
     "ename": "NameError",
     "evalue": "name 'func_log' is not defined",
     "output_type": "error",
     "traceback": [
      "\u001b[0;31m---------------------------------------------------------------------------\u001b[0m",
      "\u001b[0;31mNameError\u001b[0m                                 Traceback (most recent call last)",
      "\u001b[1;32m/home/teo/OpenMined/PySyft/notebooks/jax/L0/Chapter 2/DS Experience.ipynb Cell 6\u001b[0m in \u001b[0;36m2\n\u001b[1;32m      <a href='vscode-notebook-cell:/home/teo/OpenMined/PySyft/notebooks/jax/L0/Chapter%202/DS%20Experience.ipynb#X10sZmlsZQ%3D%3D?line=0'>1</a>\u001b[0m \u001b[39m# Test our function locally \u001b[39;00m\n\u001b[0;32m----> <a href='vscode-notebook-cell:/home/teo/OpenMined/PySyft/notebooks/jax/L0/Chapter%202/DS%20Experience.ipynb#X10sZmlsZQ%3D%3D?line=1'>2</a>\u001b[0m func_log\n",
      "\u001b[0;31mNameError\u001b[0m: name 'func_log' is not defined"
     ]
    }
   ],
   "source": [
    "# Test our function locally \n",
    "func_log"
   ]
  },
  {
   "cell_type": "code",
   "execution_count": null,
   "metadata": {},
   "outputs": [
    {
     "name": "stderr",
     "output_type": "stream",
     "text": [
      "syft.core.node.new.user_code.SubmitUserCode\n",
      "Ok(syft.core.node.new.user_code.UserCode)\n"
     ]
    },
    {
     "data": {
      "text/markdown": [
       "```python\n",
       "class Request:\n",
       "  id: str = 03298d54031d40b3a52458a5c8adeaa8\n",
       "  requesting_user_verify_key: str = 698f28b732485ddc742194c57a44ddc7b547d3bf4447d62321803ea97092f7d0\n",
       "  approving_user_verify_key: str = None\n",
       "  request_time: str = 2023-04-17 06:22:21\n",
       "  approval_time: str = None\n",
       "  status: str = RequestStatus.PENDING\n",
       "  node_uid: str = 7bca415d13ed1ec841f0d0aede098dbb\n",
       "  request_hash: str = \"4a660e2ee6530cd91667042853c90c810376934e6034b8c8c7b2067af13196cf\"\n",
       "  changes: str = [syft.core.node.new.request.UserCodeStatusChange]\n",
       "\n",
       "```"
      ],
      "text/plain": [
       "syft.core.node.new.request.Request"
      ]
     },
     "metadata": {},
     "output_type": "display_data"
    }
   ],
   "source": [
    "# Submit the function for code execution\n",
    "# guest_domain_client.api.services.code.request_code_execution(func)\n",
    "# guest_domain_client.api.services.code.request_code_execution(func_timeit)\n",
    "# guest_domain_client.api.services.code.request_code_execution(func_sum_of_squares)\n",
    "# guest_domain_client.api.services.code.request_code_execution(func_sum_squared_error)\n",
    "# guest_domain_client.api.services.code.request_code_execution(func_sum_squared_error_with_aux)\n",
    "# guest_domain_client.api.services.code.request_code_execution(func_naive_modify)\n",
    "# guest_domain_client.api.services.code.request_code_execution(func_jax_modify)\n",
    "guest_domain_client.api.services.code.request_code_execution(training_loop)"
   ]
  },
  {
   "cell_type": "code",
   "execution_count": null,
   "metadata": {},
   "outputs": [],
   "source": [
    "# new_project = sy.Project(name=\"My Cool Jax Project\")\n",
    "# proj_desc = \"\"\"Hi, I want to learn Jax and PySyft\"\"\"\n",
    "# new_project.set_description(proj_desc)\n",
    "# for code_obj in guest_domain_client.code:\n",
    "#     new_project.add_request(obj=code_obj, permission=sy.UserCodeStatus.EXECUTE)"
   ]
  },
  {
   "cell_type": "code",
   "execution_count": null,
   "metadata": {},
   "outputs": [],
   "source": [
    "# guest_domain_client.submit_project(new_project)"
   ]
  },
  {
   "cell_type": "code",
   "execution_count": null,
   "metadata": {},
   "outputs": [],
   "source": [
    "# guest_domain_client._api = None\n",
    "# _ = guest_domain_client.api"
   ]
  },
  {
   "cell_type": "code",
   "execution_count": null,
   "metadata": {},
   "outputs": [
    {
     "data": {
      "text/html": [
       "<div class=\"alert-info\" style=\"padding:5px;\"><strong>SyftNotReady</strong>: <class 'syft.core.node.new.user_code.UserCode'> Your code is waiting for approval: {NodeView(node_name='test-domain-1', verify_key=aec6ea4dfc049ceacaeeebc493167a88a200ddc367b1fa32da652444b635d21f): <UserCodeStatus.SUBMITTED: 'submitted'>}</div><br />"
      ],
      "text/plain": [
       "<class 'syft.core.node.new.response.SyftNotReady'>: <class 'syft.core.node.new.user_code.UserCode'> Your code is waiting for approval: {NodeView(node_name='test-domain-1', verify_key=aec6ea4dfc049ceacaeeebc493167a88a200ddc367b1fa32da652444b635d21f): <UserCodeStatus.SUBMITTED: 'submitted'>}"
      ]
     },
     "metadata": {},
     "output_type": "display_data"
    }
   ],
   "source": [
    "guest_domain_client.api.services.code.training_loop()"
   ]
  },
  {
   "cell_type": "markdown",
   "metadata": {},
   "source": [
    "### Go to the Data Owner Notebook for Part 2!"
   ]
  },
  {
   "cell_type": "markdown",
   "metadata": {},
   "source": []
  },
  {
   "cell_type": "markdown",
   "metadata": {},
   "source": [
    "## Part 3 - Downloading the Results"
   ]
  },
  {
   "cell_type": "code",
   "execution_count": null,
   "metadata": {},
   "outputs": [],
   "source": [
    "result = guest_domain_client.api.services.code.training_loop()"
   ]
  },
  {
   "cell_type": "code",
   "execution_count": null,
   "metadata": {},
   "outputs": [],
   "source": [
    "result.get_result()"
   ]
  }
 ],
 "metadata": {
  "kernelspec": {
   "display_name": "PySyft",
   "language": "python",
   "name": "python3"
  },
  "language_info": {
   "codemirror_mode": {
    "name": "ipython",
    "version": 3
   },
   "file_extension": ".py",
   "mimetype": "text/x-python",
   "name": "python",
   "nbconvert_exporter": "python",
   "pygments_lexer": "ipython3",
   "version": "3.10.4"
  },
  "orig_nbformat": 4
 },
 "nbformat": 4,
 "nbformat_minor": 2
}
