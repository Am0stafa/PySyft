{
 "cells": [
  {
   "attachments": {},
   "cell_type": "markdown",
   "metadata": {},
   "source": [
    "# Jax Level 0 Data Scientist Experience - Chapter 2\n",
    "## Part 2 - New account registration and code execution requests\n",
    "\n",
    "Link to the original Jax tutorial: https://jax.readthedocs.io/en/latest/jax-101/02-jitting.html"
   ]
  },
  {
   "cell_type": "code",
   "execution_count": 1,
   "metadata": {},
   "outputs": [
    {
     "name": "stderr",
     "output_type": "stream",
     "text": [
      "kj/filesystem-disk-unix.c++:1703: warning: PWD environment variable doesn't match current directory; pwd = /home/teo/OpenMined/PySyft\n",
      "/home/teo/anaconda3/envs/PySyft/lib/python3.10/site-packages/scipy/__init__.py:146: UserWarning: A NumPy version >=1.16.5 and <1.23.0 is required for this version of SciPy (detected version 1.24.2\n",
      "  warnings.warn(f\"A NumPy version >={np_minversion} and <{np_maxversion}\"\n"
     ]
    },
    {
     "name": "stdout",
     "output_type": "stream",
     "text": [
      "✅ The installed version of syft==0.8.0b8 matches the requirement >=0.8b0\n"
     ]
    }
   ],
   "source": [
    "# Import the necessary libraries\n",
    "import syft as sy\n",
    "sy.requires(\">=0.8-beta\")\n",
    "import jax\n",
    "import jax.numpy as jnp"
   ]
  },
  {
   "cell_type": "code",
   "execution_count": 2,
   "metadata": {},
   "outputs": [
    {
     "name": "stdout",
     "output_type": "stream",
     "text": [
      "SQLite Store Path:\n",
      "!open file:///tmp/7bca415d13ed1ec841f0d0aede098dbb.sqlite\n",
      "\n",
      "> Domain: test-domain-1 - 7bca415d13ed1ec841f0d0aede098dbb - NodeType.DOMAIN\n",
      "\n",
      "Services:\n",
      "ActionService\n",
      "DataSubjectMemberService\n",
      "DataSubjectService\n",
      "DatasetService\n",
      "MessageService\n",
      "MetadataService\n",
      "NetworkService\n",
      "PolicyService\n",
      "ProjectService\n",
      "RequestService\n",
      "UserCodeService\n",
      "UserService\n"
     ]
    },
    {
     "data": {
      "text/plain": [
       "<SyftClient - test-domain-1 <7bca415d13ed1ec841f0d0aede098dbb>: PythonConnection>"
      ]
     },
     "execution_count": 2,
     "metadata": {},
     "output_type": "execute_result"
    }
   ],
   "source": [
    "# Register a client to the domain\n",
    "node = sy.orchestra.launch(name=\"test-domain-1\")\n",
    "guest_domain_client = node.client\n",
    "guest_domain_client.register(name=\"Jane Doe\", email=\"jane@caltech.edu\", password=\"abc123\", institution=\"Caltech\", website=\"https://www.caltech.edu/\")\n",
    "guest_domain_client.login(email=\"jane@caltech.edu\", password=\"abc123\")"
   ]
  },
  {
   "cell_type": "code",
   "execution_count": 3,
   "metadata": {},
   "outputs": [],
   "source": [
    "# Create a function for code execution\n",
    "# ATTENTION: ALL LIBRARIES USED SHOULD BE DEFINED INSIDE THE FUNCTION CONTEXT!!!\n",
    "\n",
    "@sy.syft_function(input_policy=sy.ExactMatch(),\n",
    "                  output_policy=sy.SingleExecutionExactOutput())\n",
    "def func_log():\n",
    "    import jax\n",
    "    import jax.numpy as jnp\n",
    "\n",
    "    global_list = []\n",
    "\n",
    "    def log2(x):\n",
    "        global_list.append(x)\n",
    "        ln_x = jnp.log(x)\n",
    "        ln_2 = jnp.log(2.0)\n",
    "        return ln_x / ln_2\n",
    "\n",
    "    print(jax.make_jaxpr(log2)(3.0))\n",
    "\n",
    "\n",
    "\n",
    "@sy.syft_function(input_policy=sy.ExactMatch(),\n",
    "                  output_policy=sy.SingleExecutionExactOutput())\n",
    "def func_log_with_print():\n",
    "    import jax\n",
    "    import jax.numpy as jnp\n",
    "    \n",
    "    def log2_with_print(x):\n",
    "        print(\"printed x:\", x)\n",
    "        ln_x = jnp.log(x)\n",
    "        ln_2 = jnp.log(2.0)\n",
    "        return ln_x / ln_2\n",
    "\n",
    "    print(jax.make_jaxpr(log2_with_print)(3.))\n",
    "\n"
   ]
  },
  {
   "cell_type": "code",
   "execution_count": 4,
   "metadata": {},
   "outputs": [
    {
     "name": "stderr",
     "output_type": "stream",
     "text": [
      "WARNING:absl:No GPU/TPU found, falling back to CPU. (Set TF_CPP_MIN_LOG_LEVEL=0 and rerun for more info.)\n"
     ]
    },
    {
     "name": "stdout",
     "output_type": "stream",
     "text": [
      "ARGS <class 'float'>\n",
      "ARGS <class 'jax.interpreters.partial_eval.DynamicJaxprTracer'>\n",
      "CACHE MISS DEVICE None\n",
      "CACHE MISS DEVICE TYPE <class 'NoneType'>\n",
      "TRACERS [Traced<ShapedArray(float64[], weak_type=True)>with<DynamicJaxprTrace(level=1/0)>]\n",
      "PARAMS {'device': None, 'backend': None, 'name': '<lambda>', 'donated_invars': (False,), 'inline': True, 'keep_unused': False}\n",
      "ARGS <class 'float'>\n",
      "CACHE MISS DEVICE None\n",
      "CACHE MISS DEVICE TYPE <class 'NoneType'>\n",
      "TRACERS [Traced<ShapedArray(float64[], weak_type=True)>with<DynamicJaxprTrace(level=1/0)>]\n",
      "PARAMS {'device': None, 'backend': None, 'name': '<lambda>', 'donated_invars': (False,), 'inline': True, 'keep_unused': False}\n",
      "ARGS <class 'jax.interpreters.partial_eval.DynamicJaxprTracer'>\n",
      "CACHE MISS DEVICE None\n",
      "CACHE MISS DEVICE TYPE <class 'NoneType'>\n",
      "TRACERS [Traced<ShapedArray(float64[], weak_type=True)>with<DynamicJaxprTrace(level=1/0)>, Traced<ShapedArray(float64[], weak_type=True)>with<DynamicJaxprTrace(level=1/0)>]\n",
      "PARAMS {'device': None, 'backend': None, 'name': 'true_divide', 'donated_invars': (False, False), 'inline': True, 'keep_unused': False}\n",
      "{ \u001b[34m\u001b[22m\u001b[1mlambda \u001b[39m\u001b[22m\u001b[22m; a\u001b[35m:f64[]\u001b[39m. \u001b[34m\u001b[22m\u001b[1mlet\n",
      "    \u001b[39m\u001b[22m\u001b[22mb\u001b[35m:f64[]\u001b[39m = log a\n",
      "    c\u001b[35m:f64[]\u001b[39m = log 2.0\n",
      "    d\u001b[35m:f64[]\u001b[39m = div b c\n",
      "  \u001b[34m\u001b[22m\u001b[1min \u001b[39m\u001b[22m\u001b[22m(d,) }\n",
      "ARGS <class 'float'>\n",
      "printed x: Traced<ShapedArray(float64[], weak_type=True)>with<DynamicJaxprTrace(level=1/0)>\n",
      "ARGS <class 'jax.interpreters.partial_eval.DynamicJaxprTracer'>\n",
      "CACHE MISS DEVICE None\n",
      "CACHE MISS DEVICE TYPE <class 'NoneType'>\n",
      "TRACERS [Traced<ShapedArray(float64[], weak_type=True)>with<DynamicJaxprTrace(level=1/0)>]\n",
      "PARAMS {'device': None, 'backend': None, 'name': '<lambda>', 'donated_invars': (False,), 'inline': True, 'keep_unused': False}\n",
      "ARGS <class 'float'>\n",
      "CACHE MISS DEVICE None\n",
      "CACHE MISS DEVICE TYPE <class 'NoneType'>\n",
      "TRACERS [Traced<ShapedArray(float64[], weak_type=True)>with<DynamicJaxprTrace(level=1/0)>]\n",
      "PARAMS {'device': None, 'backend': None, 'name': '<lambda>', 'donated_invars': (False,), 'inline': True, 'keep_unused': False}\n",
      "ARGS <class 'jax.interpreters.partial_eval.DynamicJaxprTracer'>\n",
      "CACHE MISS DEVICE None\n",
      "CACHE MISS DEVICE TYPE <class 'NoneType'>\n",
      "TRACERS [Traced<ShapedArray(float64[], weak_type=True)>with<DynamicJaxprTrace(level=1/0)>, Traced<ShapedArray(float64[], weak_type=True)>with<DynamicJaxprTrace(level=1/0)>]\n",
      "PARAMS {'device': None, 'backend': None, 'name': 'true_divide', 'donated_invars': (False, False), 'inline': True, 'keep_unused': False}\n",
      "{ \u001b[34m\u001b[22m\u001b[1mlambda \u001b[39m\u001b[22m\u001b[22m; a\u001b[35m:f64[]\u001b[39m. \u001b[34m\u001b[22m\u001b[1mlet\n",
      "    \u001b[39m\u001b[22m\u001b[22mb\u001b[35m:f64[]\u001b[39m = log a\n",
      "    c\u001b[35m:f64[]\u001b[39m = log 2.0\n",
      "    d\u001b[35m:f64[]\u001b[39m = div b c\n",
      "  \u001b[34m\u001b[22m\u001b[1min \u001b[39m\u001b[22m\u001b[22m(d,) }\n"
     ]
    }
   ],
   "source": [
    "# Test our function locally \n",
    "func_log()\n",
    "func_log_with_print()\n"
   ]
  },
  {
   "cell_type": "code",
   "execution_count": 5,
   "metadata": {},
   "outputs": [
    {
     "name": "stdout",
     "output_type": "stream",
     "text": [
      "queue_task: Start\n",
      "task_runner: Start\n"
     ]
    },
    {
     "name": "stderr",
     "output_type": "stream",
     "text": [
      "syft.service.code.user_code.SubmitUserCode\n",
      "Ok(syft.service.code.user_code.UserCode)\n"
     ]
    },
    {
     "name": "stdout",
     "output_type": "stream",
     "text": [
      "task_runner: End\n",
      "task_producer: Start\n",
      "task_producer: End\n",
      "queue_task: End\n",
      "queue_task: Start\n",
      "task_runner: Start\n"
     ]
    },
    {
     "name": "stderr",
     "output_type": "stream",
     "text": [
      "syft.service.code.user_code.SubmitUserCode\n",
      "Ok(syft.service.code.user_code.UserCode)\n"
     ]
    },
    {
     "name": "stdout",
     "output_type": "stream",
     "text": [
      "task_producer: Start\n",
      "task_runner: End\n",
      "task_producer: End\n",
      "queue_task: End\n"
     ]
    },
    {
     "data": {
      "text/markdown": [
       "```python\n",
       "class Request:\n",
       "  id: str = add968a8625a4fe29eddb128dbb49fa0\n",
       "  requesting_user_verify_key: str = 8416e29c8e757829f66c8f2a6ba0233ff5790cfae1a4e04f278651f2a43d8052\n",
       "  approving_user_verify_key: str = None\n",
       "  request_time: str = 2023-04-19 11:59:02\n",
       "  approval_time: str = None\n",
       "  status: str = RequestStatus.PENDING\n",
       "  node_uid: str = 7bca415d13ed1ec841f0d0aede098dbb\n",
       "  request_hash: str = \"0ea367394d2d2b54d0d262dde7826d31f97df70e81f1cb144d64bf3966d63ee8\"\n",
       "  changes: str = [syft.service.request.request.UserCodeStatusChange]\n",
       "\n",
       "```"
      ],
      "text/plain": [
       "syft.service.request.request.Request"
      ]
     },
     "execution_count": 5,
     "metadata": {},
     "output_type": "execute_result"
    }
   ],
   "source": [
    "# Submit the function for code execution\n",
    "# guest_domain_client.api.services.code.request_code_execution(func)\n",
    "# guest_domain_client.api.services.code.request_code_execution(func_timeit)\n",
    "# guest_domain_client.api.services.code.request_code_execution(func_sum_of_squares)\n",
    "# guest_domain_client.api.services.code.request_code_execution(func_sum_squared_error)\n",
    "# guest_domain_client.api.services.code.request_code_execution(func_sum_squared_error_with_aux)\n",
    "# guest_domain_client.api.services.code.request_code_execution(func_naive_modify)\n",
    "# guest_domain_client.api.services.code.request_code_execution(func_jax_modify)\n",
    "guest_domain_client.api.services.code.request_code_execution(func_log)\n",
    "guest_domain_client.api.services.code.request_code_execution(func_log_with_print)"
   ]
  },
  {
   "cell_type": "code",
   "execution_count": 6,
   "metadata": {},
   "outputs": [],
   "source": [
    "# new_project = sy.Project(name=\"My Cool Jax Project\")\n",
    "# proj_desc = \"\"\"Hi, I want to learn Jax and PySyft\"\"\"\n",
    "# new_project.set_description(proj_desc)\n",
    "# for code_obj in guest_domain_client.code:\n",
    "#     new_project.add_request(obj=code_obj, permission=sy.UserCodeStatus.EXECUTE)"
   ]
  },
  {
   "cell_type": "code",
   "execution_count": 7,
   "metadata": {},
   "outputs": [],
   "source": [
    "# guest_domain_client.submit_project(new_project)"
   ]
  },
  {
   "cell_type": "code",
   "execution_count": 8,
   "metadata": {},
   "outputs": [],
   "source": [
    "# guest_domain_client._api = None\n",
    "# _ = guest_domain_client.api"
   ]
  },
  {
   "cell_type": "code",
   "execution_count": 9,
   "metadata": {},
   "outputs": [
    {
     "name": "stdout",
     "output_type": "stream",
     "text": [
      "queue_task: Start\n",
      "task_runner: Start\n",
      "task_runner: End\n",
      "task_producer: Start\n",
      "task_producer: End\n",
      "queue_task: End\n"
     ]
    },
    {
     "data": {
      "text/html": [
       "<div class=\"alert-info\" style=\"padding:5px;\"><strong>SyftNotReady</strong>: <class 'syft.service.code.user_code.UserCode'> Your code is waiting for approval: {NodeView(node_name='test-domain-1', verify_key=aec6ea4dfc049ceacaeeebc493167a88a200ddc367b1fa32da652444b635d21f): <UserCodeStatus.SUBMITTED: 'submitted'>}</div><br />"
      ],
      "text/plain": [
       "<class 'syft.service.response.SyftNotReady'>: <class 'syft.service.code.user_code.UserCode'> Your code is waiting for approval: {NodeView(node_name='test-domain-1', verify_key=aec6ea4dfc049ceacaeeebc493167a88a200ddc367b1fa32da652444b635d21f): <UserCodeStatus.SUBMITTED: 'submitted'>}"
      ]
     },
     "execution_count": 9,
     "metadata": {},
     "output_type": "execute_result"
    }
   ],
   "source": [
    "guest_domain_client.api.services.code.func_log()"
   ]
  },
  {
   "cell_type": "markdown",
   "metadata": {},
   "source": [
    "### Go to the Data Owner Notebook for Part 2!"
   ]
  },
  {
   "cell_type": "markdown",
   "metadata": {},
   "source": []
  },
  {
   "cell_type": "markdown",
   "metadata": {},
   "source": [
    "## Part 3 - Downloading the Results"
   ]
  },
  {
   "cell_type": "code",
   "execution_count": 10,
   "metadata": {},
   "outputs": [
    {
     "name": "stdout",
     "output_type": "stream",
     "text": [
      "queue_task: Start\n",
      "task_runner: Start\n",
      "task_runner: End\n",
      "task_producer: Start\n",
      "task_producer: End\n",
      "queue_task: End\n"
     ]
    }
   ],
   "source": [
    "result = guest_domain_client.api.services.code.func_log()"
   ]
  },
  {
   "cell_type": "code",
   "execution_count": 11,
   "metadata": {},
   "outputs": [
    {
     "ename": "AttributeError",
     "evalue": "'SyftNotReady' object has no attribute 'get_result'",
     "output_type": "error",
     "traceback": [
      "\u001b[0;31m---------------------------------------------------------------------------\u001b[0m",
      "\u001b[0;31mAttributeError\u001b[0m                            Traceback (most recent call last)",
      "\u001b[1;32m/home/teo/OpenMined/PySyft/notebooks/jax/L0/Chapter 2/DS Experience.ipynb Cell 15\u001b[0m in \u001b[0;36m1\n\u001b[0;32m----> <a href='vscode-notebook-cell:/home/teo/OpenMined/PySyft/notebooks/jax/L0/Chapter%202/DS%20Experience.ipynb#X21sZmlsZQ%3D%3D?line=0'>1</a>\u001b[0m result\u001b[39m.\u001b[39;49mget_result()\n",
      "\u001b[0;31mAttributeError\u001b[0m: 'SyftNotReady' object has no attribute 'get_result'"
     ]
    }
   ],
   "source": [
    "result.get_result()"
   ]
  }
 ],
 "metadata": {
  "kernelspec": {
   "display_name": "PySyft",
   "language": "python",
   "name": "python3"
  },
  "language_info": {
   "codemirror_mode": {
    "name": "ipython",
    "version": 3
   },
   "file_extension": ".py",
   "mimetype": "text/x-python",
   "name": "python",
   "nbconvert_exporter": "python",
   "pygments_lexer": "ipython3",
   "version": "3.10.4"
  },
  "orig_nbformat": 4
 },
 "nbformat": 4,
 "nbformat_minor": 2
}
