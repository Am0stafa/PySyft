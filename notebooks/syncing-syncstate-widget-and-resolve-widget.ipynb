{
 "cells": [
  {
   "cell_type": "code",
   "execution_count": 1,
   "id": "60b08c04",
   "metadata": {},
   "outputs": [],
   "source": [
    "# syft absolute\n",
    "import syft as sy\n",
    "from syft import ActionObject\n",
    "from syft.client.syncing import compare_states\n",
    "from syft.client.syncing import resolve"
   ]
  },
  {
   "cell_type": "code",
   "execution_count": 2,
   "id": "48fe89fa",
   "metadata": {},
   "outputs": [],
   "source": [
    "from enum import Enum, auto\n",
    "from typing import Any\n",
    "import ipywidgets as widgets\n",
    "from IPython.display import display\n",
    "\n",
    "import json\n",
    "\n",
    "from IPython.display import Javascript, display\n",
    "from ipywidgets import HTML, Button, HBox, Layout, VBox, widgets, AppLayout, Box\n"
   ]
  },
  {
   "cell_type": "code",
   "execution_count": 3,
   "id": "4e0b35d5",
   "metadata": {},
   "outputs": [],
   "source": [
    "# syft absolute\n",
    "from syft import SyftError\n",
    "from syft import SyftSuccess\n",
    "from syft.client.syncing import resolve_single"
   ]
  },
  {
   "cell_type": "code",
   "execution_count": 4,
   "id": "d1db0f4f",
   "metadata": {},
   "outputs": [
    {
     "name": "stdout",
     "output_type": "stream",
     "text": [
      "Staging Protocol Changes...\n",
      "Creating default worker image with tag='local-dev'\n",
      "Building default worker image with tag=local-dev\n",
      "Setting up worker poolname=default-pool workers=1 image_uid=2948bfd0b7d943faa563aad324db0284 in_memory=True\n",
      "Created default worker pool.\n",
      "Data Migrated to latest version !!!\n",
      "Staging Protocol Changes...\n",
      "Creating default worker image with tag='local-dev'\n",
      "Building default worker image with tag=local-dev\n",
      "Setting up worker poolname=default-pool workers=1 image_uid=3a9c886e071547bf934ae48d441013af in_memory=True\n",
      "Created default worker pool.\n",
      "Data Migrated to latest version !!!\n"
     ]
    },
    {
     "name": "stderr",
     "output_type": "stream",
     "text": [
      "02/04/24 15:56:14 FUNCTION LOG (92c22d0747b9414989ed8659132909bf): Computing mean...\n"
     ]
    }
   ],
   "source": [
    "node_low = sy.orchestra.launch(\n",
    "    name=\"test_l\",\n",
    "    node_side_type=\"low\",\n",
    "    dev_mode=True,\n",
    "    reset=True,\n",
    "    local_db=True,\n",
    "    n_consumers=1,\n",
    "    create_producer=True,\n",
    ")\n",
    "\n",
    "node_high = sy.orchestra.launch(\n",
    "    name=\"test_h\",\n",
    "    node_side_type=\"high\",\n",
    "    dev_mode=True,\n",
    "    reset=True,\n",
    "    local_db=True,\n",
    "    n_consumers=1,\n",
    "    create_producer=True,\n",
    ")"
   ]
  },
  {
   "cell_type": "code",
   "execution_count": 5,
   "id": "c01949ef",
   "metadata": {},
   "outputs": [
    {
     "name": "stdout",
     "output_type": "stream",
     "text": [
      "Logged into <test_l: Low side Domain> as <info@openmined.org>\n"
     ]
    },
    {
     "data": {
      "text/html": [
       "<div class=\"alert-warning\" style=\"padding:5px;\"><strong>SyftWarning</strong>: You are using a default password. Please change the password using `[your_client].me.set_password([new_password])`.</div><br />"
      ],
      "text/plain": [
       "SyftWarning: You are using a default password. Please change the password using `[your_client].me.set_password([new_password])`."
      ]
     },
     "metadata": {},
     "output_type": "display_data"
    },
    {
     "name": "stdout",
     "output_type": "stream",
     "text": [
      "Logged into <test_h: High side Domain> as <info@openmined.org>\n"
     ]
    },
    {
     "data": {
      "text/html": [
       "<div class=\"alert-warning\" style=\"padding:5px;\"><strong>SyftWarning</strong>: You are using a default password. Please change the password using `[your_client].me.set_password([new_password])`.</div><br />"
      ],
      "text/plain": [
       "SyftWarning: You are using a default password. Please change the password using `[your_client].me.set_password([new_password])`."
      ]
     },
     "metadata": {},
     "output_type": "display_data"
    }
   ],
   "source": [
    "client_low = node_low.login(email=\"info@openmined.org\", password=\"changethis\")\n",
    "client_high = node_high.login(email=\"info@openmined.org\", password=\"changethis\")"
   ]
  },
  {
   "cell_type": "code",
   "execution_count": 6,
   "id": "ccc95549",
   "metadata": {},
   "outputs": [
    {
     "data": {
      "text/html": [
       "<div class=\"alert-success\" style=\"padding:5px;\"><strong>SyftSuccess</strong>: User 'John Doe' successfully registered! To see users, run `[your_client].users`</div><br />"
      ],
      "text/plain": [
       "SyftSuccess: User 'John Doe' successfully registered! To see users, run `[your_client].users`"
      ]
     },
     "execution_count": 6,
     "metadata": {},
     "output_type": "execute_result"
    }
   ],
   "source": [
    "client_low.register(\n",
    "    email=\"newuser@openmined.org\", name=\"John Doe\", password=\"pw\", password_verify=\"pw\"\n",
    ")"
   ]
  },
  {
   "cell_type": "code",
   "execution_count": 7,
   "id": "f427e5ba-0817-4a94-a3d5-58e5c58f72db",
   "metadata": {},
   "outputs": [
    {
     "name": "stdout",
     "output_type": "stream",
     "text": [
      "Logged into <test_l: Low side Domain> as <newuser@openmined.org>\n"
     ]
    }
   ],
   "source": [
    "client_low_ds = node_low.login(email=\"newuser@openmined.org\", password=\"pw\")"
   ]
  },
  {
   "cell_type": "markdown",
   "id": "529aefcd",
   "metadata": {},
   "source": [
    "# Create datasets"
   ]
  },
  {
   "cell_type": "code",
   "execution_count": 8,
   "id": "a124f870",
   "metadata": {},
   "outputs": [],
   "source": [
    "# third party\n",
    "import numpy as np"
   ]
  },
  {
   "cell_type": "code",
   "execution_count": 9,
   "id": "c21f2993",
   "metadata": {},
   "outputs": [
    {
     "name": "stderr",
     "output_type": "stream",
     "text": [
      "\r\n",
      "  0%|                                                             | 0/1 [00:00<?, ?it/s]"
     ]
    },
    {
     "name": "stdout",
     "output_type": "stream",
     "text": [
      "Uploading: numpy-data\n"
     ]
    },
    {
     "name": "stderr",
     "output_type": "stream",
     "text": [
      "100%|█████████████████████████████████████████████████████| 1/1 [00:00<00:00,  7.27it/s]\n"
     ]
    },
    {
     "data": {
      "text/html": [
       "<div class=\"alert-success\" style=\"padding:5px;\"><strong>SyftSuccess</strong>: Dataset uploaded to 'test_h'. To see the datasets uploaded by a client on this node, use command `[your_client].datasets`</div><br />"
      ],
      "text/plain": [
       "SyftSuccess: Dataset uploaded to 'test_h'. To see the datasets uploaded by a client on this node, use command `[your_client].datasets`"
      ]
     },
     "execution_count": 9,
     "metadata": {},
     "output_type": "execute_result"
    }
   ],
   "source": [
    "mock_high = np.array([10, 11, 12, 13, 14])\n",
    "private_high = np.array([15, 16, 17, 18, 19])\n",
    "\n",
    "dataset_high = sy.Dataset(\n",
    "    name=\"my-dataset\",\n",
    "    description=\"abc\",\n",
    "    asset_list=[\n",
    "        sy.Asset(\n",
    "            name=\"numpy-data\",\n",
    "            mock=mock_high,\n",
    "            data=private_high,\n",
    "            shape=private_high.shape,\n",
    "            mock_is_real=True,\n",
    "        )\n",
    "    ],\n",
    ")\n",
    "\n",
    "client_high.upload_dataset(dataset_high)"
   ]
  },
  {
   "cell_type": "code",
   "execution_count": 10,
   "id": "9c3804a3",
   "metadata": {},
   "outputs": [
    {
     "name": "stderr",
     "output_type": "stream",
     "text": [
      "100%|█████████████████████████████████████████████████████| 1/1 [00:00<00:00, 18.84it/s]\n"
     ]
    },
    {
     "name": "stdout",
     "output_type": "stream",
     "text": [
      "Uploading: numpy-data\n"
     ]
    }
   ],
   "source": [
    "mock_low = np.array([0, 1, 2, 3, 4])  # do_high.mock\n",
    "# private_low = np.array([5, 6, 7, 8, 9])  # AOEmpty? create new type AO\n",
    "\n",
    "dataset_low = sy.Dataset(\n",
    "    id=dataset_high.id,\n",
    "    name=\"my-dataset\",\n",
    "    description=\"abc\",\n",
    "    asset_list=[\n",
    "        sy.Asset(\n",
    "            name=\"numpy-data\",\n",
    "            mock=mock_low,\n",
    "            data=ActionObject.empty(data_node_id=client_high.id),\n",
    "            shape=mock_low.shape,\n",
    "            mock_is_real=True,\n",
    "        )\n",
    "    ],\n",
    ")\n",
    "\n",
    "res = client_low.upload_dataset(dataset_low)"
   ]
  },
  {
   "cell_type": "code",
   "execution_count": 11,
   "id": "e6887dc9-34a9-49bd-838a-75a71a96ec90",
   "metadata": {},
   "outputs": [],
   "source": [
    "dataset_storage_permissions = node_low.python_node.get_service(\n",
    "    \"datasetservice\"\n",
    ").stash.partition.storage_permissions\n",
    "dataset_id = client_low.datasets[0].id\n",
    "\n",
    "assert dataset_storage_permissions[dataset_id] == {node_low.python_node.id}"
   ]
  },
  {
   "cell_type": "markdown",
   "id": "134e9614",
   "metadata": {},
   "source": [
    "# Data Scientist: make requests"
   ]
  },
  {
   "cell_type": "code",
   "execution_count": 12,
   "id": "bcc94b26-14f3-490a-bb70-4ddd2e719591",
   "metadata": {},
   "outputs": [
    {
     "data": {
      "text/html": [
       "\n",
       "        <style>\n",
       "            \n",
       "/* cyrillic-ext */\n",
       "@font-face {\n",
       "  font-family: 'Open Sans';\n",
       "  font-style: normal;\n",
       "  font-weight: 300 800;\n",
       "  font-stretch: 100%;\n",
       "  src: url(https://fonts.gstatic.com/s/opensans/v35/memvYaGs126MiZpBA-UvWbX2vVnXBbObj2OVTSKmu0SC55K5gw.woff2) format('woff2');\n",
       "  unicode-range: U+0460-052F, U+1C80-1C88, U+20B4, U+2DE0-2DFF, U+A640-A69F, U+FE2E-FE2F;\n",
       "}\n",
       "/* cyrillic */\n",
       "@font-face {\n",
       "  font-family: 'Open Sans';\n",
       "  font-style: normal;\n",
       "  font-weight: 300 800;\n",
       "  font-stretch: 100%;\n",
       "  src: url(https://fonts.gstatic.com/s/opensans/v35/memvYaGs126MiZpBA-UvWbX2vVnXBbObj2OVTSumu0SC55K5gw.woff2) format('woff2');\n",
       "  unicode-range: U+0301, U+0400-045F, U+0490-0491, U+04B0-04B1, U+2116;\n",
       "}\n",
       "/* greek-ext */\n",
       "@font-face {\n",
       "  font-family: 'Open Sans';\n",
       "  font-style: normal;\n",
       "  font-weight: 300 800;\n",
       "  font-stretch: 100%;\n",
       "  src: url(https://fonts.gstatic.com/s/opensans/v35/memvYaGs126MiZpBA-UvWbX2vVnXBbObj2OVTSOmu0SC55K5gw.woff2) format('woff2');\n",
       "  unicode-range: U+1F00-1FFF;\n",
       "}\n",
       "/* greek */\n",
       "@font-face {\n",
       "  font-family: 'Open Sans';\n",
       "  font-style: normal;\n",
       "  font-weight: 300 800;\n",
       "  font-stretch: 100%;\n",
       "  src: url(https://fonts.gstatic.com/s/opensans/v35/memvYaGs126MiZpBA-UvWbX2vVnXBbObj2OVTSymu0SC55K5gw.woff2) format('woff2');\n",
       "  unicode-range: U+0370-03FF;\n",
       "}\n",
       "/* hebrew */\n",
       "@font-face {\n",
       "  font-family: 'Open Sans';\n",
       "  font-style: normal;\n",
       "  font-weight: 300 800;\n",
       "  font-stretch: 100%;\n",
       "  src: url(https://fonts.gstatic.com/s/opensans/v35/memvYaGs126MiZpBA-UvWbX2vVnXBbObj2OVTS2mu0SC55K5gw.woff2) format('woff2');\n",
       "  unicode-range: U+0590-05FF, U+200C-2010, U+20AA, U+25CC, U+FB1D-FB4F;\n",
       "}\n",
       "/* vietnamese */\n",
       "@font-face {\n",
       "  font-family: 'Open Sans';\n",
       "  font-style: normal;\n",
       "  font-weight: 300 800;\n",
       "  font-stretch: 100%;\n",
       "  src: url(https://fonts.gstatic.com/s/opensans/v35/memvYaGs126MiZpBA-UvWbX2vVnXBbObj2OVTSCmu0SC55K5gw.woff2) format('woff2');\n",
       "  unicode-range: U+0102-0103, U+0110-0111, U+0128-0129, U+0168-0169, U+01A0-01A1, U+01AF-01B0, U+0300-0301, U+0303-0304, U+0308-0309, U+0323, U+0329, U+1EA0-1EF9, U+20AB;\n",
       "}\n",
       "/* latin-ext */\n",
       "@font-face {\n",
       "  font-family: 'Open Sans';\n",
       "  font-style: normal;\n",
       "  font-weight: 300 800;\n",
       "  font-stretch: 100%;\n",
       "  src: url(https://fonts.gstatic.com/s/opensans/v35/memvYaGs126MiZpBA-UvWbX2vVnXBbObj2OVTSGmu0SC55K5gw.woff2) format('woff2');\n",
       "  unicode-range: U+0100-02AF, U+0304, U+0308, U+0329, U+1E00-1E9F, U+1EF2-1EFF, U+2020, U+20A0-20AB, U+20AD-20CF, U+2113, U+2C60-2C7F, U+A720-A7FF;\n",
       "}\n",
       "/* latin */\n",
       "@font-face {\n",
       "  font-family: 'Open Sans';\n",
       "  font-style: normal;\n",
       "  font-weight: 300 800;\n",
       "  font-stretch: 100%;\n",
       "  src: url(https://fonts.gstatic.com/s/opensans/v35/memvYaGs126MiZpBA-UvWbX2vVnXBbObj2OVTS-mu0SC55I.woff2) format('woff2');\n",
       "  unicode-range: U+0000-00FF, U+0131, U+0152-0153, U+02BB-02BC, U+02C6, U+02DA, U+02DC, U+0304, U+0308, U+0329, U+2000-206F, U+2074, U+20AC, U+2122, U+2191, U+2193, U+2212, U+2215, U+FEFF, U+FFFD;\n",
       "}\n",
       "\n",
       "\n",
       "            .syft-container {\n",
       "                padding: 5px;\n",
       "                font-family: 'Open Sans';\n",
       "            }\n",
       "            .syft-alert-info {\n",
       "                color: #1F567A;\n",
       "                background-color: #C2DEF0;\n",
       "                border-radius: 4px;\n",
       "                padding: 5px;\n",
       "                padding: 13px 10px\n",
       "            }\n",
       "            .syft-code-block {\n",
       "                background-color: #f7f7f7;\n",
       "                border: 1px solid #cfcfcf;\n",
       "                padding: 0px 2px;\n",
       "            }\n",
       "            .syft-space {\n",
       "                margin-top: 1em;\n",
       "            }\n",
       "        </style>\n",
       "        <div class=\"syft-client syft-container\">\n",
       "            <img src=\"data:image/png;base64,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\" alt=\"Logo\"\n",
       "            style=\"width:48px;height:48px;padding:3px;\">\n",
       "            <h2>Welcome to test_l</h2>\n",
       "            <div class=\"syft-space\">\n",
       "                <strong>Node Type:</strong> Domain<br /><strong>Node Side Type:</strong> Low Side<br /><strong>Syft Version:</strong> 0.8.6-beta.1<br />\n",
       "            </div>\n",
       "            <div class='syft-alert-info syft-space'>\n",
       "                &#9432;&nbsp;\n",
       "                This domain is run by the library PySyft to learn more about how it works visit\n",
       "                <a href=\"https://github.com/OpenMined/PySyft\">github.com/OpenMined/PySyft</a>.\n",
       "            </div>\n",
       "            <h4>Commands to Get Started</h4>\n",
       "            \n",
       "        <ul style='padding-left: 1em;'>\n",
       "            \n",
       "        <li><span class='syft-code-block'>&lt;your_client&gt;.datasets</span> - list datasets</li>\n",
       "        <li><span class='syft-code-block'>&lt;your_client&gt;.code</span> - list code</li>\n",
       "        <li><span class='syft-code-block'>&lt;your_client&gt;.projects</span> - list projects</li>\n",
       "        <li>\n",
       "            <span class='syft-code-block'>&lt;your_client&gt;.code.submit?</span> - display function signature\n",
       "        </li>\n",
       "        </ul>\n",
       "        \n",
       "        </div><br />\n",
       "        "
      ],
      "text/plain": [
       "<DomainClient: test_l>"
      ]
     },
     "execution_count": 12,
     "metadata": {},
     "output_type": "execute_result"
    }
   ],
   "source": [
    "client_low_ds"
   ]
  },
  {
   "cell_type": "code",
   "execution_count": 13,
   "id": "571d12c2",
   "metadata": {},
   "outputs": [
    {
     "data": {
      "text/html": [
       "<div class=\"alert-success\" style=\"padding:5px;\"><strong>SyftSuccess</strong>: Syft function 'compute_mean' successfully created. To add a code request, please create a project using `project = syft.Project(...)`, then use command `project.create_code_request`.</div><br />"
      ],
      "text/plain": [
       "SyftSuccess: Syft function 'compute_mean' successfully created. To add a code request, please create a project using `project = syft.Project(...)`, then use command `project.create_code_request`."
      ]
     },
     "metadata": {},
     "output_type": "display_data"
    },
    {
     "name": "stdout",
     "output_type": "stream",
     "text": [
      "SyftInfo: Creating a node with n_consumers=2 (the default value)\n",
      "Staging Protocol Changes...\n",
      "Creating default worker image with tag='local-dev'\n",
      "Building default worker image with tag=local-dev\n",
      "Setting up worker poolname=default-pool workers=2 image_uid=5baf71204e8744a9a946ed8a8abe6f59 in_memory=True\n",
      "Created default worker pool.\n",
      "Data Migrated to latest version !!!\n",
      "Logged into <ephemeral_node_compute_mean_1317: High side Domain> as <info@openmined.org>\n"
     ]
    },
    {
     "data": {
      "text/html": [
       "<div class=\"alert-warning\" style=\"padding:5px;\"><strong>SyftWarning</strong>: You are using a default password. Please change the password using `[your_client].me.set_password([new_password])`.</div><br />"
      ],
      "text/plain": [
       "SyftWarning: You are using a default password. Please change the password using `[your_client].me.set_password([new_password])`."
      ]
     },
     "metadata": {},
     "output_type": "display_data"
    },
    {
     "name": "stdout",
     "output_type": "stream",
     "text": [
      "Approving request for domain ephemeral_node_compute_mean_1317\n",
      "Computing mean...\n",
      "SyftInfo: Landing the ephmeral node...\n"
     ]
    },
    {
     "data": {
      "text/markdown": [
       "```python\n",
       "Pointer\n",
       "```\n",
       "2.0"
      ],
      "text/plain": [
       "Pointer:\n",
       "2.0"
      ]
     },
     "execution_count": 13,
     "metadata": {},
     "output_type": "execute_result"
    },
    {
     "name": "stdout",
     "output_type": "stream",
     "text": [
      "SyftInfo: Node Landed!\n"
     ]
    }
   ],
   "source": [
    "data_low = client_low_ds.datasets[0].assets[0]\n",
    "\n",
    "@sy.syft_function_single_use(data=data_low)\n",
    "def compute_mean(data) -> float:\n",
    "    print(\"Computing mean...\")\n",
    "    return data.mean()\n",
    "\n",
    "compute_mean(data=data_low.mock)"
   ]
  },
  {
   "cell_type": "code",
   "execution_count": 14,
   "id": "654e55fd",
   "metadata": {},
   "outputs": [],
   "source": [
    "req = client_low_ds.code.request_code_execution(compute_mean)"
   ]
  },
  {
   "cell_type": "code",
   "execution_count": 15,
   "id": "4b99e0aa-d82e-4315-815c-e3edd3e3dd38",
   "metadata": {},
   "outputs": [
    {
     "data": {
      "text/html": [
       "<div class=\"alert-danger\" style=\"padding:5px;\"><strong>SyftError</strong>: Execution denied, Please wait for the code to be approved</div><br />"
      ],
      "text/plain": [
       "SyftError: Execution denied, Please wait for the code to be approved"
      ]
     },
     "execution_count": 15,
     "metadata": {},
     "output_type": "execute_result"
    }
   ],
   "source": [
    "client_low_ds.code.compute_mean(data=data_low)"
   ]
  },
  {
   "cell_type": "markdown",
   "id": "7f8c588b",
   "metadata": {},
   "source": [
    "## Data Owner: Sync to high side"
   ]
  },
  {
   "cell_type": "code",
   "execution_count": 16,
   "id": "e0ff2db8",
   "metadata": {},
   "outputs": [],
   "source": [
    "low_state = client_low.get_sync_state()\n",
    "high_state = client_high.get_sync_state()"
   ]
  },
  {
   "cell_type": "code",
   "execution_count": 17,
   "id": "8afe996c",
   "metadata": {},
   "outputs": [
    {
     "data": {
      "text/html": [
       "\n",
       "        <style>\n",
       "            \n",
       "/* cyrillic-ext */\n",
       "@font-face {\n",
       "  font-family: 'Open Sans';\n",
       "  font-style: normal;\n",
       "  font-weight: 300 800;\n",
       "  font-stretch: 100%;\n",
       "  src: url(https://fonts.gstatic.com/s/opensans/v35/memvYaGs126MiZpBA-UvWbX2vVnXBbObj2OVTSKmu0SC55K5gw.woff2) format('woff2');\n",
       "  unicode-range: U+0460-052F, U+1C80-1C88, U+20B4, U+2DE0-2DFF, U+A640-A69F, U+FE2E-FE2F;\n",
       "}\n",
       "/* cyrillic */\n",
       "@font-face {\n",
       "  font-family: 'Open Sans';\n",
       "  font-style: normal;\n",
       "  font-weight: 300 800;\n",
       "  font-stretch: 100%;\n",
       "  src: url(https://fonts.gstatic.com/s/opensans/v35/memvYaGs126MiZpBA-UvWbX2vVnXBbObj2OVTSumu0SC55K5gw.woff2) format('woff2');\n",
       "  unicode-range: U+0301, U+0400-045F, U+0490-0491, U+04B0-04B1, U+2116;\n",
       "}\n",
       "/* greek-ext */\n",
       "@font-face {\n",
       "  font-family: 'Open Sans';\n",
       "  font-style: normal;\n",
       "  font-weight: 300 800;\n",
       "  font-stretch: 100%;\n",
       "  src: url(https://fonts.gstatic.com/s/opensans/v35/memvYaGs126MiZpBA-UvWbX2vVnXBbObj2OVTSOmu0SC55K5gw.woff2) format('woff2');\n",
       "  unicode-range: U+1F00-1FFF;\n",
       "}\n",
       "/* greek */\n",
       "@font-face {\n",
       "  font-family: 'Open Sans';\n",
       "  font-style: normal;\n",
       "  font-weight: 300 800;\n",
       "  font-stretch: 100%;\n",
       "  src: url(https://fonts.gstatic.com/s/opensans/v35/memvYaGs126MiZpBA-UvWbX2vVnXBbObj2OVTSymu0SC55K5gw.woff2) format('woff2');\n",
       "  unicode-range: U+0370-03FF;\n",
       "}\n",
       "/* hebrew */\n",
       "@font-face {\n",
       "  font-family: 'Open Sans';\n",
       "  font-style: normal;\n",
       "  font-weight: 300 800;\n",
       "  font-stretch: 100%;\n",
       "  src: url(https://fonts.gstatic.com/s/opensans/v35/memvYaGs126MiZpBA-UvWbX2vVnXBbObj2OVTS2mu0SC55K5gw.woff2) format('woff2');\n",
       "  unicode-range: U+0590-05FF, U+200C-2010, U+20AA, U+25CC, U+FB1D-FB4F;\n",
       "}\n",
       "/* vietnamese */\n",
       "@font-face {\n",
       "  font-family: 'Open Sans';\n",
       "  font-style: normal;\n",
       "  font-weight: 300 800;\n",
       "  font-stretch: 100%;\n",
       "  src: url(https://fonts.gstatic.com/s/opensans/v35/memvYaGs126MiZpBA-UvWbX2vVnXBbObj2OVTSCmu0SC55K5gw.woff2) format('woff2');\n",
       "  unicode-range: U+0102-0103, U+0110-0111, U+0128-0129, U+0168-0169, U+01A0-01A1, U+01AF-01B0, U+0300-0301, U+0303-0304, U+0308-0309, U+0323, U+0329, U+1EA0-1EF9, U+20AB;\n",
       "}\n",
       "/* latin-ext */\n",
       "@font-face {\n",
       "  font-family: 'Open Sans';\n",
       "  font-style: normal;\n",
       "  font-weight: 300 800;\n",
       "  font-stretch: 100%;\n",
       "  src: url(https://fonts.gstatic.com/s/opensans/v35/memvYaGs126MiZpBA-UvWbX2vVnXBbObj2OVTSGmu0SC55K5gw.woff2) format('woff2');\n",
       "  unicode-range: U+0100-02AF, U+0304, U+0308, U+0329, U+1E00-1E9F, U+1EF2-1EFF, U+2020, U+20A0-20AB, U+20AD-20CF, U+2113, U+2C60-2C7F, U+A720-A7FF;\n",
       "}\n",
       "/* latin */\n",
       "@font-face {\n",
       "  font-family: 'Open Sans';\n",
       "  font-style: normal;\n",
       "  font-weight: 300 800;\n",
       "  font-stretch: 100%;\n",
       "  src: url(https://fonts.gstatic.com/s/opensans/v35/memvYaGs126MiZpBA-UvWbX2vVnXBbObj2OVTS-mu0SC55I.woff2) format('woff2');\n",
       "  unicode-range: U+0000-00FF, U+0131, U+0152-0153, U+02BB-02BC, U+02C6, U+02DA, U+02DC, U+0304, U+0308, U+0329, U+2000-206F, U+2074, U+20AC, U+2122, U+2191, U+2193, U+2212, U+2215, U+FEFF, U+FFFD;\n",
       "}\n",
       "\n",
       "            .syft-syncstate {color: #464158;}\n",
       "            .syft-syncstate h3,\n",
       "            .syft-syncstate p\n",
       "              {font-family: 'Open Sans';}\n",
       "              .itables {font-family: 'Consolas', monospace, sans-serif;}\n",
       "              {font-family: 'Open Sans';}\n",
       "              .itables {font-family: 'Consolas', monospace, sans-serif;}\n",
       "            </style>\n",
       "        <div class='syft-syncstate'>\n",
       "            <p style=\"margin-bottom:16px;\"></p>\n",
       "            <p class='paragraph'><strong><span class='pr-8'>name: </span></strong>test_l</p>\n",
       "            <p class='paragraph'><strong><span class='pr-8'>last sync: </span></strong>not synced yet</p>\n",
       "        </div>\n",
       "\n",
       "<style>\n",
       "  body[data-jp-theme-light='false'] {\n",
       "        --primary-color: #111111;\n",
       "        --secondary-color: #212121;\n",
       "        --tertiary-color: #CFCDD6;\n",
       "        --button-color: #111111;\n",
       "  }\n",
       "\n",
       "  body {\n",
       "        --primary-color: #ffffff;\n",
       "        --secondary-color: #f5f5f5;\n",
       "        --tertiary-color: #000000de;\n",
       "        --button-color: #d1d5db;\n",
       "  }\n",
       "\n",
       "  .header-1 {\n",
       "        font-style: normal;\n",
       "        font-weight: 600;\n",
       "        font-size: 2.0736em;\n",
       "        line-height: 100%;\n",
       "        leading-trim: both;\n",
       "        text-edge: cap;\n",
       "        color: #17161D;\n",
       "    }\n",
       "\n",
       "  .header-2 {\n",
       "        font-style: normal;\n",
       "        font-weight: 600;\n",
       "        font-size: 1.728em;\n",
       "        line-height: 100%;\n",
       "        leading-trim: both;\n",
       "        text-edge: cap;\n",
       "        color: #17161D;\n",
       "    }\n",
       "\n",
       "  .header-3 {\n",
       "        font-style: normal;\n",
       "        font-weight: 600;\n",
       "        font-size:  1.44em;\n",
       "        line-height: 100%;\n",
       "        leading-trim: both;\n",
       "        text-edge: cap;\n",
       "        color: var(--tertiary-color);\n",
       "    }\n",
       "\n",
       "  .header-4 {\n",
       "        font-style: normal;\n",
       "        font-weight: 600;\n",
       "        font-size: 1.2em;\n",
       "        line-height: 100%;\n",
       "        leading-trim: both;\n",
       "        text-edge: cap;\n",
       "        color: #17161D;\n",
       "    }\n",
       "\n",
       "    .paragraph {\n",
       "        font-style: normal;\n",
       "        font-weight: 400;\n",
       "        font-size: 14px;\n",
       "        line-height: 100%;\n",
       "        leading-trim: both;\n",
       "        text-edge: cap;\n",
       "        color: #2E2B3B;\n",
       "    }\n",
       "\n",
       "    .paragraph-sm {\n",
       "        font-family: 'Roboto';\n",
       "        font-style: normal;\n",
       "        font-weight: 400;\n",
       "        font-size: 11.62px;\n",
       "        line-height: 100%;\n",
       "        leading-trim: both;\n",
       "        text-edge: cap;\n",
       "        color: #2E2B3B;\n",
       "    }\n",
       "    .code-text {\n",
       "        font-family: 'Consolas';\n",
       "        font-style: normal;\n",
       "        font-weight: 400;\n",
       "        font-size: 13px;\n",
       "        line-height: 130%;\n",
       "        leading-trim: both;\n",
       "        text-edge: cap;\n",
       "        color: #2E2B3B;\n",
       "    }\n",
       "\n",
       "    .numbering-entry { display: none }\n",
       "\n",
       "    /* Tooltip container */\n",
       "    .tooltip {\n",
       "        position: relative;\n",
       "        display: inline-block;\n",
       "        border-bottom: 1px dotted black; /* If you want dots under the hoverable text */\n",
       "    }\n",
       "\n",
       "    /* Tooltip text */\n",
       "    .tooltip .tooltiptext {\n",
       "        visibility: hidden;\n",
       "        width: 120px;\n",
       "        background-color: black;\n",
       "        color: #fff;\n",
       "        text-align: center;\n",
       "        padding: 5px 0;\n",
       "        border-radius: 6px;\n",
       "\n",
       "        /* Position the tooltip text - see examples below! */\n",
       "        position: absolute;\n",
       "        z-index: 1;\n",
       "    }\n",
       "\n",
       "    .repr-cell {\n",
       "      padding-top: 20px;\n",
       "    }\n",
       "\n",
       "    .text-bold {\n",
       "        font-weight: bold;\n",
       "    }\n",
       "\n",
       "    .pr-8 {\n",
       "        padding-right: 8px;\n",
       "    }\n",
       "    .pt-8 {\n",
       "        padding-top: 8px;\n",
       "    }\n",
       "    .pl-8 {\n",
       "        padding-left: 8px;\n",
       "    }\n",
       "    .pb-8 {\n",
       "        padding-bottom: 8px;\n",
       "    }\n",
       "\n",
       "    .py-25{\n",
       "        padding-top: 25px;\n",
       "        padding-bottom: 25px;\n",
       "    }\n",
       "\n",
       "    .flex {\n",
       "        display: flex;\n",
       "    }\n",
       "\n",
       "    .gap-10 {\n",
       "        gap: 10px;\n",
       "    }\n",
       "    .items-center{\n",
       "        align-items: center;\n",
       "    }\n",
       "\n",
       "    .folder-icon {\n",
       "        color: var(--tertiary-color);\n",
       "    }\n",
       "\n",
       "    .search-input{\n",
       "        display: flex;\n",
       "        flex-direction: row;\n",
       "        align-items: center;\n",
       "        padding: 8px 12px;\n",
       "        width: 343px;\n",
       "        height: 24px;\n",
       "        /* Lt On Surface/Low */\n",
       "        background-color: var(--secondary-color);\n",
       "        border-radius: 30px;\n",
       "\n",
       "        /* Lt On Surface/Highest */\n",
       "        color: var(--tertiary-color);\n",
       "        border:none;\n",
       "        /* Inside auto layout */\n",
       "        flex: none;\n",
       "        order: 0;\n",
       "        flex-grow: 0;\n",
       "    }\n",
       "    .search-input:focus {\n",
       "        outline: none;\n",
       "    }\n",
       "        .search-input:focus::placeholder,\n",
       "    .search-input::placeholder { /* Chrome, Firefox, Opera, Safari 10.1+ */\n",
       "        color: var(--tertiary-color);\n",
       "        opacity: 1; /* Firefox */\n",
       "    }\n",
       "\n",
       "    .search-button{\n",
       "        /* Search */\n",
       "        leading-trim: both;\n",
       "        text-edge: cap;\n",
       "        display: flex;\n",
       "        align-items: center;\n",
       "        text-align: center;\n",
       "\n",
       "        /* Primary/On Light */\n",
       "        background-color: var(--button-color);\n",
       "        color: var(--tertiary-color);\n",
       "\n",
       "        border-radius: 30px;\n",
       "        border-color: var(--secondary-color);\n",
       "        border-style: solid;\n",
       "        box-shadow: rgba(60, 64, 67, 0.3) 0px 1px 2px 0px, rgba(60, 64, 67, 0.15) 0px 1px 3px 1px;\n",
       "        cursor: pointer;\n",
       "        /* Inside auto layout */\n",
       "        flex: none;\n",
       "        order: 1;\n",
       "        flex-grow: 0;\n",
       "    }\n",
       "\n",
       "    .grid-table31b0bbce8b9a4f849966695e6bbec081 {\n",
       "        display:grid;\n",
       "        grid-template-columns: 1fr repeat(12, 1fr);\n",
       "        grid-template-rows: repeat(2, 1fr);\n",
       "        overflow-x: auto;\n",
       "        position: relative;\n",
       "    }\n",
       "\n",
       "    .grid-std-cells {\n",
       "        grid-column: span 4;\n",
       "\n",
       "    }\n",
       "    .grid-index-cells {\n",
       "        grid-column: span 1;\n",
       "        /* tmp fix to make left col stand out (fix with font-family) */\n",
       "        font-weight: 600;\n",
       "        background-color: var(--secondary-color) !important;\n",
       "        color: var(--tertiary-color);\n",
       "    }\n",
       "\n",
       "    .grid-header {\n",
       "        /* Auto layout */\n",
       "        display: flex;\n",
       "        flex-direction: column;\n",
       "        align-items: center;\n",
       "        padding: 6px 4px;\n",
       "\n",
       "        resize: horizontal;\n",
       "        /* Lt On Surface/Surface */\n",
       "        /* Lt On Surface/High */\n",
       "        border: 1px solid #CFCDD6;\n",
       "        /* tmp fix to make header stand out (fix with font-family) */\n",
       "        font-weight: 600;\n",
       "        background-color: var(--secondary-color);\n",
       "        color: var(--tertiary-color);\n",
       "    }\n",
       "\n",
       "    .grid-row {\n",
       "        display: flex;\n",
       "        flex-direction: column;\n",
       "        align-items: flex-start;\n",
       "        padding: 6px 4px;\n",
       "        overflow: hidden;\n",
       "        border: 1px solid #CFCDD6;\n",
       "        background-color: var(--primary-color);\n",
       "        color: var(--tertiary-color);\n",
       "    }\n",
       "\n",
       "\n",
       "    .syncstate-col-footer {\n",
       "        font-family: 'DejaVu Sans Mono', 'Open Sans';\n",
       "        font-size: 12px;\n",
       "        font-weight: 400;\n",
       "        line-height: 16.8px;\n",
       "        text-align: left;\n",
       "        color: #5E5A72;\n",
       "    }\n",
       "\n",
       "    .syncstate-description {\n",
       "        font-family: Open Sans;\n",
       "        font-size: 14px;\n",
       "        font-weight: 600;\n",
       "        line-height: 19.6px;\n",
       "        text-align: left;\n",
       "    }\n",
       "\n",
       "    .diff-state-orange-text{\n",
       "        color: #B8520A;\n",
       "    }\n",
       "\n",
       "    .diff-state-no-obj{\n",
       "        font-family: 'DejaVu Sans Mono', 'Open Sans';\n",
       "        font-size: 12px;\n",
       "        font-weight: 400;\n",
       "        line-height: 16.8px;\n",
       "        text-align: left;\n",
       "        color: #5E5A72;\n",
       "    }\n",
       "\n",
       "    .diff-state-intro{\n",
       "        font-family: Open Sans;\n",
       "        font-size: 14px;\n",
       "        font-weight: 400;\n",
       "        line-height: 19.6px;\n",
       "        text-align: left;\n",
       "        color: #B4B0BF;\n",
       "    }\n",
       "\n",
       "    .diff-state-header{\n",
       "        font-family: Open Sans;\n",
       "        font-size: 22px;\n",
       "        font-weight: 600;\n",
       "        line-height: 30.8px;\n",
       "        text-align: left;\n",
       "        color: #353243;\n",
       "        display: flex; gap: 8px;\n",
       "    }\n",
       "\n",
       "    .diff-state-sub-header{\n",
       "        font-family: Open Sans;\n",
       "        font-size: 14px;\n",
       "        font-weight: 400;\n",
       "        line-height: 19.6px;\n",
       "        text-align: left;\n",
       "        color: #5E5A72;\n",
       "    }\n",
       "\n",
       "    .badge {\n",
       "        code-text;\n",
       "        border-radius: 30px;\n",
       "    }\n",
       "\n",
       "    .label {\n",
       "        code-text;\n",
       "        border-radius: 4px;\n",
       "    }\n",
       "\n",
       "    .label-light-purple {\n",
       "        label;\n",
       "        background-color: #C9CFE8;\n",
       "        color: #373B7B;\n",
       "\n",
       "    }\n",
       "\n",
       "    .label-light-blue {\n",
       "        label;\n",
       "        background-color: #C2DEF0;\n",
       "        color: #1F567A;\n",
       "\n",
       "    }\n",
       "\n",
       "    .label-orange {\n",
       "        badge;\n",
       "        background-color: #FEE9CD;\n",
       "        color: #B8520A;\n",
       "    }\n",
       "\n",
       "    .label-gray {\n",
       "        badge;\n",
       "        background-color: #ECEBEF;\n",
       "        color: #353243;\n",
       "    }\n",
       "\n",
       "    .label-green {\n",
       "        badge;\n",
       "        background-color: #D5F1D5;\n",
       "        color: #256B24;\n",
       "    }\n",
       "\n",
       "    .badge-blue {\n",
       "        badge;\n",
       "        background-color: #C2DEF0;\n",
       "        color: #1F567A;\n",
       "    }\n",
       "\n",
       "    .badge-purple {\n",
       "        badge;\n",
       "        background-color: #C9CFE8;\n",
       "        color: #373B7B;\n",
       "    }\n",
       "\n",
       "    .badge-green {\n",
       "        badge;\n",
       "\n",
       "        /* Success/Container */\n",
       "        background-color: #D5F1D5;\n",
       "        color: #256B24;\n",
       "    }\n",
       "\n",
       "    .badge-red {\n",
       "        badge;\n",
       "        background-color: #F2D9DE;\n",
       "        color: #9B2737;\n",
       "    }\n",
       "\n",
       "    .badge-gray {\n",
       "        badge;\n",
       "        background-color: #ECEBEF;\n",
       "        color: #2E2B3B;\n",
       "    }\n",
       "    .paginationContainer{\n",
       "        width: 100%;\n",
       "        /*height: 30px;*/\n",
       "        display: flex;\n",
       "        justify-content: center;\n",
       "        gap: 8px;\n",
       "        padding: 5px;\n",
       "        color: var(--tertiary-color);\n",
       "    }\n",
       "\n",
       "    .page{\n",
       "        color: black;\n",
       "        font-weight: bold;\n",
       "        color: var(--tertiary-color);\n",
       "    }\n",
       "    .page:hover {\n",
       "      color: #38bdf8;\n",
       "      cursor: pointer;\n",
       "    }\n",
       "    .clipboard:hover{\n",
       "        cursor: pointer;\n",
       "        color: var(--tertiary-color);\n",
       "    }\n",
       "\n",
       "    .search-field {\n",
       "        display: flex;\n",
       "        align-items: center;\n",
       "        border-radius: 30px;\n",
       "        background-color: var(--secondary-color);\n",
       "    }\n",
       "\n",
       "    .syft-dropdown {\n",
       "        margin: 5px;\n",
       "        margin-left: 5px;\n",
       "        position: relative;\n",
       "        display: inline-block;\n",
       "        text-align: center;\n",
       "        background-color: var(--button-color);\n",
       "        min-width: 100px;\n",
       "        padding: 2px;\n",
       "        border-radius: 30px;\n",
       "    }\n",
       "\n",
       "    .syft-dropdown:hover {\n",
       "        cursor: pointer;\n",
       "    }\n",
       "    .syft-dropdown-content {\n",
       "        margin-top:26px;\n",
       "        display: none;\n",
       "        position: absolute;\n",
       "        min-width: 100px;\n",
       "        box-shadow: 0px 8px 16px 0px rgba(0,0,0,0.2);\n",
       "        padding: 12px 6px;\n",
       "        z-index: 1;\n",
       "        background-color: var(--primary-color);\n",
       "        color: var(--tertiary-color);\n",
       "    }\n",
       "    .dd-options {\n",
       "        padding-top: 4px;\n",
       "    }\n",
       "    .dd-options:first-of-type {\n",
       "        padding-top: 0px;\n",
       "    }\n",
       "\n",
       "    .dd-options:hover {\n",
       "        cursor: pointer;\n",
       "        background: #d1d5db;\n",
       "    }\n",
       "    .arrow {\n",
       "        border: solid black;\n",
       "        border-width: 0 3px 3px 0;\n",
       "        display: inline-block;\n",
       "        padding: 3px;\n",
       "    }\n",
       "    .down {\n",
       "        transform: rotate(45deg);\n",
       "        -webkit-transform: rotate(45deg);\n",
       "    }\n",
       "</style>\n",
       "\n",
       "\n",
       "    <div style='margin-top:15px;'>\n",
       "        <div class='flex gap-10' style='align-items: center;'>\n",
       "            <div class='folder-icon'><svg width=\"32\" height=\"32\" viewBox=\"0 0 32 32\" fill=\"none\" xmlns=\"http://www.w3.org/2000/svg\"> <path d=\"M28 6H4C3.73478 6 3.48043 6.10536 3.29289 6.29289C3.10536 6.48043 3 6.73478 3 7V24C3 24.5304 3.21071 25.0391 3.58579 25.4142C3.96086 25.7893 4.46957 26 5 26H27C27.5304 26 28.0391 25.7893 28.4142 25.4142C28.7893 25.0391 29 24.5304 29 24V7C29 6.73478 28.8946 6.48043 28.7071 6.29289C28.5196 6.10536 28.2652 6 28 6ZM5 14H10V18H5V14ZM12 14H27V18H12V14ZM27 8V12H5V8H27ZM5 20H10V24H5V20ZM27 24H12V20H27V24Z\" fill=\"#343330\"/></svg></div>\n",
       "            <div><p class='header-3'>SyncStateRow List</p></div>\n",
       "        </div>\n",
       "\n",
       "            <div style=\"padding-top: 16px; display:flex;justify-content: space-between; align-items: center;\">\n",
       "                <div class='pt-25 gap-10' style=\"display:flex;\">\n",
       "                    <div class=\"search-field\">\n",
       "                        <div id='search-menu31b0bbce8b9a4f849966695e6bbec081' class=\"syft-dropdown\" onclick=\"{\n",
       "                            let doc = document.getElementById('search-dropdown-content31b0bbce8b9a4f849966695e6bbec081')\n",
       "                            if (doc.style.display === 'block'){\n",
       "                                doc.style.display = 'none'\n",
       "                            } else {\n",
       "                                doc.style.display = 'block'\n",
       "                            }\n",
       "                            }\">\n",
       "                            <div id='search-dropdown-content31b0bbce8b9a4f849966695e6bbec081' class='syft-dropdown-content'></div>\n",
       "                            <script>\n",
       "                                var element31b0bbce8b9a4f849966695e6bbec081 = [{\"Status\": {\"value\": \"NEW\", \"type\": \"label-green\"}, \"Summary\": \"    <div style=\\\"display: flex; gap: 8px; justify-content: space-between; width: 100%;\\\">    <div>    <div class=\\\"label label-light-blue\\\">USERCODE</div> <span class='syncstate-description'>compute_mean</span>    </div>    </div>    <div style=\\\"display: table-row\\\">    <span class='syncstate-col-footer'>Updated by john@doe.org 29m ago</span>    </div>    \", \"Last Sync\": \"<p class='diff-state-no-obj'>n/a</p>\"}, {\"Status\": {\"value\": \"NEW\", \"type\": \"label-green\"}, \"Summary\": \"    <div style=\\\"display: flex; gap: 8px; justify-content: space-between; width: 100%;\\\">    <div>    <div class=\\\"label label-light-purple\\\">REQUEST</div> <span class='syncstate-description'>Execute compute_mean</span>    </div>    </div>    <div style=\\\"display: table-row\\\">    <span class='syncstate-col-footer'>pending \\u2022 Updated by john@doe.org 29m ago</span>    </div>    \", \"Last Sync\": \"<p class='diff-state-no-obj'>n/a</p>\"}]\n",
       "                                var page_size31b0bbce8b9a4f849966695e6bbec081 = 2\n",
       "                                var pageIndex31b0bbce8b9a4f849966695e6bbec081 = 1\n",
       "                                var paginatedElements31b0bbce8b9a4f849966695e6bbec081 = []\n",
       "                                var activeFilter31b0bbce8b9a4f849966695e6bbec081;\n",
       "\n",
       "                                function buildDropDownMenu(elements){\n",
       "                                    let init_filter;\n",
       "                                    let menu = document.getElementById('search-dropdown-content31b0bbce8b9a4f849966695e6bbec081')\n",
       "                                    if (elements.length > 0) {\n",
       "                                        let sample = elements[0]\n",
       "                                        for (const attr in sample) {\n",
       "                                            if (typeof init_filter === 'undefined'){\n",
       "                                                init_filter = attr;\n",
       "                                            }\n",
       "                                            let content = document.createElement('div');\n",
       "                                            content.onclick = function(event) {\n",
       "                                                event.stopPropagation()\n",
       "                                                document.getElementById('menu-active-filter31b0bbce8b9a4f849966695e6bbec081').innerText = attr;\n",
       "                                                activeFilter31b0bbce8b9a4f849966695e6bbec081 = attr;\n",
       "                                                document.getElementById(\n",
       "                                                    'search-dropdown-content31b0bbce8b9a4f849966695e6bbec081'\n",
       "                                                ).style.display= 'none';\n",
       "                                            }\n",
       "                                            content.classList.add(\"dd-options\");\n",
       "                                            content.innerText = attr;\n",
       "                                            menu.appendChild(content);\n",
       "                                        }\n",
       "                                    } else {\n",
       "                                        let init_filter = '---'\n",
       "                                    }\n",
       "                                    let dropdown_field = document.getElementById('search-menu31b0bbce8b9a4f849966695e6bbec081')\n",
       "                                    let span = document.createElement('span')\n",
       "                                    span.setAttribute('id', 'menu-active-filter31b0bbce8b9a4f849966695e6bbec081')\n",
       "                                    span.innerText = init_filter\n",
       "                                    activeFilter31b0bbce8b9a4f849966695e6bbec081 = init_filter;\n",
       "                                    dropdown_field.appendChild(span)\n",
       "                                }\n",
       "\n",
       "                                buildDropDownMenu(element31b0bbce8b9a4f849966695e6bbec081)\n",
       "                            </script>\n",
       "                        </div>\n",
       "                        <input id='searchKey31b0bbce8b9a4f849966695e6bbec081' class='search-input' placeholder='Enter search here ...'  />\n",
       "                    </div>\n",
       "                    <button class='search-button' type=\"button\" onclick=\"searchGrid31b0bbce8b9a4f849966695e6bbec081(element31b0bbce8b9a4f849966695e6bbec081)\">\n",
       "                        <svg width=\"11\" height=\"10\" viewBox=\"0 0 11 10\" fill=\"none\" xmlns=\"http://www.w3.org/2000/svg\"><path d=\"M10.5652 9.23467L8.21819 6.88811C8.89846 6.07141 9.23767 5.02389 9.16527 3.96345C9.09287 2.90302 8.61443 1.91132 7.82948 1.19466C7.04453 0.477995 6.01349 0.0915414 4.95087 0.115691C3.88824 0.139841 2.87583 0.572735 2.12425 1.32432C1.37266 2.0759 0.939768 3.08831 0.915618 4.15094C0.891468 5.21357 1.27792 6.2446 1.99459 7.02955C2.71125 7.8145 3.70295 8.29294 4.76338 8.36535C5.82381 8.43775 6.87134 8.09853 7.68804 7.41827L10.0346 9.7653C10.0694 9.80014 10.1108 9.82778 10.1563 9.84663C10.2018 9.86549 10.2506 9.87519 10.2999 9.87519C10.3492 9.87519 10.398 9.86549 10.4435 9.84663C10.489 9.82778 10.5304 9.80014 10.5652 9.7653C10.6001 9.73046 10.6277 9.68909 10.6466 9.64357C10.6654 9.59805 10.6751 9.54926 10.6751 9.49998C10.6751 9.45071 10.6654 9.40192 10.6466 9.3564C10.6277 9.31088 10.6001 9.26951 10.5652 9.23467ZM1.67491 4.24998C1.67491 3.58247 1.87285 2.92995 2.2437 2.37493C2.61455 1.81992 3.14165 1.38734 3.75835 1.13189C4.37506 0.876446 5.05366 0.809609 5.70834 0.939835C6.36303 1.07006 6.96439 1.3915 7.4364 1.8635C7.9084 2.3355 8.22984 2.93687 8.36006 3.59155C8.49029 4.24624 8.42345 4.92484 8.168 5.54154C7.91256 6.15824 7.47998 6.68535 6.92496 7.05619C6.36995 7.42704 5.71742 7.62498 5.04991 7.62498C4.15511 7.62399 3.29724 7.26809 2.66452 6.63537C2.0318 6.00265 1.6759 5.14479 1.67491 4.24998Z\" fill=\"currentColor\"/></svg>\n",
       "                        <span class='pl-8'>Search</span>\n",
       "                    </button>\n",
       "                </div>\n",
       "\n",
       "                <div><h4 id='total31b0bbce8b9a4f849966695e6bbec081'>0</h4></div>\n",
       "            </div>\n",
       "            <div id='table31b0bbce8b9a4f849966695e6bbec081' class='grid-table31b0bbce8b9a4f849966695e6bbec081' style='margin-top: 25px;'>\n",
       "                <script>\n",
       "                    function paginate31b0bbce8b9a4f849966695e6bbec081(arr, size) {\n",
       "                        const res = [];\n",
       "                        for (let i = 0; i < arr.length; i += size) {\n",
       "                            const chunk = arr.slice(i, i + size);\n",
       "                            res.push(chunk);\n",
       "                        }\n",
       "\n",
       "                        return res;\n",
       "                    }\n",
       "\n",
       "                    function searchGrid31b0bbce8b9a4f849966695e6bbec081(elements){\n",
       "                        let searchKey = document.getElementById('searchKey31b0bbce8b9a4f849966695e6bbec081').value;\n",
       "                        let result;\n",
       "                        if (searchKey === ''){\n",
       "                            result = elements;\n",
       "                        } else {\n",
       "                            result = elements.filter((element) => {\n",
       "                                let property = element[activeFilter31b0bbce8b9a4f849966695e6bbec081]\n",
       "                                if (typeof property === 'object' && property !== null){\n",
       "                                    return property.value.toLowerCase().includes(searchKey.toLowerCase());\n",
       "                                } else if (typeof property === 'string' ) {\n",
       "                                    return element[activeFilter31b0bbce8b9a4f849966695e6bbec081].toLowerCase().includes(searchKey.toLowerCase());\n",
       "                                } else if (property !== null ) {\n",
       "                                    return element[activeFilter31b0bbce8b9a4f849966695e6bbec081].toString() === searchKey;\n",
       "                                } else {\n",
       "                                    return element[activeFilter31b0bbce8b9a4f849966695e6bbec081] === searchKey;\n",
       "                                }\n",
       "                            } );\n",
       "                        }\n",
       "                        resetById31b0bbce8b9a4f849966695e6bbec081('table31b0bbce8b9a4f849966695e6bbec081');\n",
       "                        resetById31b0bbce8b9a4f849966695e6bbec081('pag31b0bbce8b9a4f849966695e6bbec081');\n",
       "                        result = paginate31b0bbce8b9a4f849966695e6bbec081(result, page_size31b0bbce8b9a4f849966695e6bbec081)\n",
       "                        paginatedElements31b0bbce8b9a4f849966695e6bbec081 = result\n",
       "                        buildGrid31b0bbce8b9a4f849966695e6bbec081(result,pageIndex31b0bbce8b9a4f849966695e6bbec081);\n",
       "                        buildPaginationContainer31b0bbce8b9a4f849966695e6bbec081(result);\n",
       "                    }\n",
       "\n",
       "                    function resetById31b0bbce8b9a4f849966695e6bbec081(id){\n",
       "                        let element = document.getElementById(id);\n",
       "                        while (element.firstChild) {\n",
       "                          element.removeChild(element.firstChild);\n",
       "                        }\n",
       "                    }\n",
       "\n",
       "                    function buildGrid31b0bbce8b9a4f849966695e6bbec081(items, pageIndex){\n",
       "                                let headers = Object.keys(element31b0bbce8b9a4f849966695e6bbec081[0]);\n",
       "\n",
       "                                let grid = document.getElementById(\"table31b0bbce8b9a4f849966695e6bbec081\");\n",
       "                                let div = document.createElement(\"div\");\n",
       "                                div.classList.add('grid-header', 'grid-index-cells');\n",
       "                                grid.appendChild(div);\n",
       "                                headers.forEach((title) =>{\n",
       "                                    let div = document.createElement(\"div\");\n",
       "                                    div.classList.add('grid-header', 'grid-std-cells');\n",
       "                                    div.innerText = title;\n",
       "\n",
       "                                    grid.appendChild(div);\n",
       "                                });\n",
       "\n",
       "                                let page = items[pageIndex -1]\n",
       "                                if (page !== 'undefine'){\n",
       "                                    let table_index31b0bbce8b9a4f849966695e6bbec081 = ((pageIndex - 1) * page_size31b0bbce8b9a4f849966695e6bbec081)\n",
       "                                    page.forEach((item) => {\n",
       "                                        let grid = document.getElementById(\"table31b0bbce8b9a4f849966695e6bbec081\");\n",
       "                                        // Add new index value in index cells\n",
       "                                        let divIndex = document.createElement(\"div\");\n",
       "                                        divIndex.classList.add('grid-row', 'grid-index-cells');\n",
       "                                        divIndex.innerText = table_index31b0bbce8b9a4f849966695e6bbec081;\n",
       "                                        grid.appendChild(divIndex);\n",
       "\n",
       "                                        // Iterate over the actual obj\n",
       "                                        for (const attr in item) {\n",
       "                                            let div = document.createElement(\"div\");\n",
       "                                            if (typeof item[attr] === 'object'\n",
       "                                                && item[attr] !== null\n",
       "                                                && item[attr].hasOwnProperty('type')) {\n",
       "                                                if (item[attr].type.includes('badge')){\n",
       "                                                    let badge_div = document.createElement(\"div\");\n",
       "                                                    badge_div.classList.add('badge',item[attr].type)\n",
       "                                                    badge_div.innerText = String(item[attr].value).toUpperCase();\n",
       "                                                    div.appendChild(badge_div);\n",
       "                                                    div.classList.add('grid-row','grid-std-cells');\n",
       "                                                } else if (item[attr].type.includes('label')){\n",
       "                                                    let label_div = document.createElement(\"div\");\n",
       "                                                    label_div.classList.add('label',item[attr].type)\n",
       "                                                    label_div.innerText = String(item[attr].value).toUpperCase();\n",
       "                                                    div.appendChild(label_div);\n",
       "                                                    div.classList.add('grid-row','grid-std-cells');\n",
       "                                                } else if (item[attr].type === \"clipboard\") {\n",
       "                                                    div.classList.add('grid-row','grid-std-cells');\n",
       "\n",
       "                                                    // Create clipboard div\n",
       "                                                    let clipboard_div = document.createElement('div');\n",
       "                                                    clipboard_div.style.display= 'flex';\n",
       "                                                    clipboard_div.classList.add(\"gap-10\")\n",
       "                                                    clipboard_div.style.justifyContent = \"space-between\";\n",
       "\n",
       "                                                    let id_text = document.createElement('div');\n",
       "                                                    if (item[attr].value == \"None\"){\n",
       "                                                        id_text.innerText = \"None\";\n",
       "                                                    }\n",
       "                                                    else{\n",
       "                                                        id_text.innerText = item[attr].value.slice(0,5) + \"...\";\n",
       "                                                    }\n",
       "\n",
       "                                                    clipboard_div.appendChild(id_text);\n",
       "                                                    let clipboard_img = document.createElement('div');\n",
       "                                                    clipboard_img.classList.add(\"clipboard\")\n",
       "                                                    div.onclick = function() {\n",
       "                                                        navigator.clipboard.writeText(item[attr].value);\n",
       "                                                    };\n",
       "                                                    clipboard_img.innerHTML = \"<svg width='8' height='8' viewBox='0 0 8 8' fill='none' xmlns='http://www.w3.org/2000/svg'><path d='M7.4375 0.25H2.4375C2.35462 0.25 2.27513 0.282924 2.21653 0.341529C2.15792 0.400134 2.125 0.47962 2.125 0.5625V2.125H0.5625C0.47962 2.125 0.400134 2.15792 0.341529 2.21653C0.282924 2.27513 0.25 2.35462 0.25 2.4375V7.4375C0.25 7.52038 0.282924 7.59987 0.341529 7.65847C0.400134 7.71708 0.47962 7.75 0.5625 7.75H5.5625C5.64538 7.75 5.72487 7.71708 5.78347 7.65847C5.84208 7.59987 5.875 7.52038 5.875 7.4375V5.875H7.4375C7.52038 5.875 7.59987 5.84208 7.65847 5.78347C7.71708 5.72487 7.75 5.64538 7.75 5.5625V0.5625C7.75 0.47962 7.71708 0.400134 7.65847 0.341529C7.59987 0.282924 7.52038 0.25 7.4375 0.25ZM5.25 7.125H0.875V2.75H5.25V7.125ZM7.125 5.25H5.875V2.4375C5.875 2.35462 5.84208 2.27513 5.78347 2.21653C5.72487 2.15792 5.64538 2.125 5.5625 2.125H2.75V0.875H7.125V5.25Z' fill='#464158'/></svg>\";\n",
       "\n",
       "                                                    clipboard_div.appendChild(clipboard_img);\n",
       "                                                    div.appendChild(clipboard_div);\n",
       "                                                }\n",
       "                                            } else{\n",
       "                                                div.classList.add('grid-row','grid-std-cells');\n",
       "                                                if (item[attr] == null) {\n",
       "                                                    text = ' '\n",
       "                                                } else {\n",
       "                                                    text = String(item[attr])\n",
       "                                                }\n",
       "\n",
       "                                                text = text.replaceAll(\"\\n\", \"</br>\");\n",
       "                                                div.innerHTML = text;\n",
       "                                            }\n",
       "                                            grid.appendChild(div);\n",
       "                                        }\n",
       "                                    table_index31b0bbce8b9a4f849966695e6bbec081 = table_index31b0bbce8b9a4f849966695e6bbec081 + 1;\n",
       "                                    })\n",
       "                                }\n",
       "                    }\n",
       "                    paginatedElements31b0bbce8b9a4f849966695e6bbec081 = paginate31b0bbce8b9a4f849966695e6bbec081(element31b0bbce8b9a4f849966695e6bbec081, page_size31b0bbce8b9a4f849966695e6bbec081)\n",
       "                    buildGrid31b0bbce8b9a4f849966695e6bbec081(paginatedElements31b0bbce8b9a4f849966695e6bbec081, 1)\n",
       "                    document.getElementById('total31b0bbce8b9a4f849966695e6bbec081').innerText = \"Total: \" + element31b0bbce8b9a4f849966695e6bbec081.length\n",
       "                </script>\n",
       "            </div>\n",
       "            <div id='pag31b0bbce8b9a4f849966695e6bbec081' class='paginationContainer'>\n",
       "                <script>\n",
       "                    function buildPaginationContainer31b0bbce8b9a4f849966695e6bbec081(paginatedElements){\n",
       "                            let pageContainer = document.getElementById(\"pag31b0bbce8b9a4f849966695e6bbec081\");\n",
       "                            for (let i = 0; i < paginatedElements.length; i++) {\n",
       "                                  let div = document.createElement(\"div\");\n",
       "                                  div.classList.add('page');\n",
       "                                  if(i===0) div.style.color = \"gray\";\n",
       "                                  else div.style.color = 'var(--tertiary-color, \"gray\")';\n",
       "                                  div.onclick = function(event) {\n",
       "                                      let indexes = document.getElementsByClassName('page');\n",
       "                                      for (let index of indexes) { index.style.color = 'var(--tertiary-color, \"gray\")' }\n",
       "                                      event.target.style.color = \"gray\";\n",
       "                                      setPage31b0bbce8b9a4f849966695e6bbec081(i + 1);\n",
       "                                  };\n",
       "                                  div.innerText = i + 1;\n",
       "                                  pageContainer.appendChild(div);\n",
       "                            }\n",
       "                    }\n",
       "\n",
       "                    function setPage31b0bbce8b9a4f849966695e6bbec081(newPage){\n",
       "                        pageIndex = newPage\n",
       "                        resetById31b0bbce8b9a4f849966695e6bbec081('table31b0bbce8b9a4f849966695e6bbec081')\n",
       "                        buildGrid31b0bbce8b9a4f849966695e6bbec081(paginatedElements31b0bbce8b9a4f849966695e6bbec081, pageIndex)\n",
       "                    }\n",
       "                    (async function() {\n",
       "                        const myFont = new FontFace('DejaVu Sans', 'url(https://cdn.jsdelivr.net/npm/dejavu-sans@1.0.0/css/dejavu-sans.min.css)');\n",
       "                        await myFont.load();\n",
       "                        document.fonts.add(myFont);\n",
       "                        document.getElementsByTagName('h1')[0].style.fontFamily = \"DejaVu Sans\";\n",
       "                    })();\n",
       "\n",
       "                    buildPaginationContainer31b0bbce8b9a4f849966695e6bbec081(paginatedElements31b0bbce8b9a4f849966695e6bbec081)\n",
       "                </script>\n",
       "            </div>\n",
       "        </div>\n"
      ],
      "text/markdown": [
       "```python\n",
       "class SyncState:\n",
       "  id: str = f4246b923d9e4bd591d9cfe5172f539d\n",
       "\n",
       "```"
      ],
      "text/plain": [
       "syft.service.sync.sync_state.SyncState"
      ]
     },
     "execution_count": 17,
     "metadata": {},
     "output_type": "execute_result"
    }
   ],
   "source": [
    "low_state"
   ]
  },
  {
   "cell_type": "code",
   "execution_count": 18,
   "id": "657747fd",
   "metadata": {},
   "outputs": [],
   "source": [
    "# x = low_state.rows[0].object.status"
   ]
  },
  {
   "cell_type": "markdown",
   "id": "5d0f0b2b",
   "metadata": {},
   "source": [
    "### Diff state"
   ]
  },
  {
   "cell_type": "code",
   "execution_count": 19,
   "id": "465c7383",
   "metadata": {},
   "outputs": [],
   "source": [
    "diff_state = compare_states(low_state, high_state)"
   ]
  },
  {
   "cell_type": "code",
   "execution_count": 20,
   "id": "55855175",
   "metadata": {},
   "outputs": [
    {
     "data": {
      "text/html": [
       "        <p style=\"margin-bottom:16px;\"></p>        <div class=\"diff-state-intro\">Comparing sync states</div>        <p style=\"margin-bottom:16px;\"></p>        <div class=\"diff-state-header\"><span>Public Node</span> <svg width=\"24\" height=\"24\" viewBox=\"0 0 24 24\" fill=\"none\" xmlns=\"http://www.w3.org/2000/svg\"><rect x=\"0.5\" y=\"0.5\" width=\"23\" height=\"23\" rx=\"1.5\" fill=\"#ECEBEF\"/><rect x=\"0.5\" y=\"0.5\" width=\"23\" height=\"23\" rx=\"1.5\" stroke=\"#B4B0BF\"/><path d=\"M17.8538 12.3538L13.3538 16.8538C13.2599 16.9476 13.1327 17.0003 13 17.0003C12.8673 17.0003 12.7401 16.9476 12.6462 16.8538C12.5524 16.76 12.4997 16.6327 12.4997 16.5C12.4997 16.3674 12.5524 16.2401 12.6462 16.1463L16.2931 12.5H6.5C6.36739 12.5 6.24021 12.4474 6.14645 12.3536C6.05268 12.2598 6 12.1326 6 12C6 11.8674 6.05268 11.7402 6.14645 11.6465C6.24021 11.5527 6.36739 11.5 6.5 11.5H16.2931L12.6462 7.85378C12.5524 7.75996 12.4997 7.63272 12.4997 7.50003C12.4997 7.36735 12.5524 7.2401 12.6462 7.14628C12.7401 7.05246 12.8673 6.99976 13 6.99976C13.1327 6.99976 13.2599 7.05246 13.3538 7.14628L17.8538 11.6463C17.9002 11.6927 17.9371 11.7479 17.9623 11.8086C17.9874 11.8693 18.0004 11.9343 18.0004 12C18.0004 12.0657 17.9874 12.1308 17.9623 12.1915C17.9371 12.2522 17.9002 12.3073 17.8538 12.3538Z\" fill=\"#5E5A72\"/></svg> <span>Private Node</span></div>        <p style=\"margin-bottom:16px;\"></p>        <div class=\"diff-state-sub-header\"> This would sync <span class=\"diff-state-orange-text\">2 batches</span> from <i>Public Node</i> to <i>Private Node</i></div>        \n",
       "<style>\n",
       "  body[data-jp-theme-light='false'] {\n",
       "        --primary-color: #111111;\n",
       "        --secondary-color: #212121;\n",
       "        --tertiary-color: #CFCDD6;\n",
       "        --button-color: #111111;\n",
       "  }\n",
       "\n",
       "  body {\n",
       "        --primary-color: #ffffff;\n",
       "        --secondary-color: #f5f5f5;\n",
       "        --tertiary-color: #000000de;\n",
       "        --button-color: #d1d5db;\n",
       "  }\n",
       "\n",
       "  .header-1 {\n",
       "        font-style: normal;\n",
       "        font-weight: 600;\n",
       "        font-size: 2.0736em;\n",
       "        line-height: 100%;\n",
       "        leading-trim: both;\n",
       "        text-edge: cap;\n",
       "        color: #17161D;\n",
       "    }\n",
       "\n",
       "  .header-2 {\n",
       "        font-style: normal;\n",
       "        font-weight: 600;\n",
       "        font-size: 1.728em;\n",
       "        line-height: 100%;\n",
       "        leading-trim: both;\n",
       "        text-edge: cap;\n",
       "        color: #17161D;\n",
       "    }\n",
       "\n",
       "  .header-3 {\n",
       "        font-style: normal;\n",
       "        font-weight: 600;\n",
       "        font-size:  1.44em;\n",
       "        line-height: 100%;\n",
       "        leading-trim: both;\n",
       "        text-edge: cap;\n",
       "        color: var(--tertiary-color);\n",
       "    }\n",
       "\n",
       "  .header-4 {\n",
       "        font-style: normal;\n",
       "        font-weight: 600;\n",
       "        font-size: 1.2em;\n",
       "        line-height: 100%;\n",
       "        leading-trim: both;\n",
       "        text-edge: cap;\n",
       "        color: #17161D;\n",
       "    }\n",
       "\n",
       "    .paragraph {\n",
       "        font-style: normal;\n",
       "        font-weight: 400;\n",
       "        font-size: 14px;\n",
       "        line-height: 100%;\n",
       "        leading-trim: both;\n",
       "        text-edge: cap;\n",
       "        color: #2E2B3B;\n",
       "    }\n",
       "\n",
       "    .paragraph-sm {\n",
       "        font-family: 'Roboto';\n",
       "        font-style: normal;\n",
       "        font-weight: 400;\n",
       "        font-size: 11.62px;\n",
       "        line-height: 100%;\n",
       "        leading-trim: both;\n",
       "        text-edge: cap;\n",
       "        color: #2E2B3B;\n",
       "    }\n",
       "    .code-text {\n",
       "        font-family: 'Consolas';\n",
       "        font-style: normal;\n",
       "        font-weight: 400;\n",
       "        font-size: 13px;\n",
       "        line-height: 130%;\n",
       "        leading-trim: both;\n",
       "        text-edge: cap;\n",
       "        color: #2E2B3B;\n",
       "    }\n",
       "\n",
       "    .numbering-entry { display: none }\n",
       "\n",
       "    /* Tooltip container */\n",
       "    .tooltip {\n",
       "        position: relative;\n",
       "        display: inline-block;\n",
       "        border-bottom: 1px dotted black; /* If you want dots under the hoverable text */\n",
       "    }\n",
       "\n",
       "    /* Tooltip text */\n",
       "    .tooltip .tooltiptext {\n",
       "        visibility: hidden;\n",
       "        width: 120px;\n",
       "        background-color: black;\n",
       "        color: #fff;\n",
       "        text-align: center;\n",
       "        padding: 5px 0;\n",
       "        border-radius: 6px;\n",
       "\n",
       "        /* Position the tooltip text - see examples below! */\n",
       "        position: absolute;\n",
       "        z-index: 1;\n",
       "    }\n",
       "\n",
       "    .repr-cell {\n",
       "      padding-top: 20px;\n",
       "    }\n",
       "\n",
       "    .text-bold {\n",
       "        font-weight: bold;\n",
       "    }\n",
       "\n",
       "    .pr-8 {\n",
       "        padding-right: 8px;\n",
       "    }\n",
       "    .pt-8 {\n",
       "        padding-top: 8px;\n",
       "    }\n",
       "    .pl-8 {\n",
       "        padding-left: 8px;\n",
       "    }\n",
       "    .pb-8 {\n",
       "        padding-bottom: 8px;\n",
       "    }\n",
       "\n",
       "    .py-25{\n",
       "        padding-top: 25px;\n",
       "        padding-bottom: 25px;\n",
       "    }\n",
       "\n",
       "    .flex {\n",
       "        display: flex;\n",
       "    }\n",
       "\n",
       "    .gap-10 {\n",
       "        gap: 10px;\n",
       "    }\n",
       "    .items-center{\n",
       "        align-items: center;\n",
       "    }\n",
       "\n",
       "    .folder-icon {\n",
       "        color: var(--tertiary-color);\n",
       "    }\n",
       "\n",
       "    .search-input{\n",
       "        display: flex;\n",
       "        flex-direction: row;\n",
       "        align-items: center;\n",
       "        padding: 8px 12px;\n",
       "        width: 343px;\n",
       "        height: 24px;\n",
       "        /* Lt On Surface/Low */\n",
       "        background-color: var(--secondary-color);\n",
       "        border-radius: 30px;\n",
       "\n",
       "        /* Lt On Surface/Highest */\n",
       "        color: var(--tertiary-color);\n",
       "        border:none;\n",
       "        /* Inside auto layout */\n",
       "        flex: none;\n",
       "        order: 0;\n",
       "        flex-grow: 0;\n",
       "    }\n",
       "    .search-input:focus {\n",
       "        outline: none;\n",
       "    }\n",
       "        .search-input:focus::placeholder,\n",
       "    .search-input::placeholder { /* Chrome, Firefox, Opera, Safari 10.1+ */\n",
       "        color: var(--tertiary-color);\n",
       "        opacity: 1; /* Firefox */\n",
       "    }\n",
       "\n",
       "    .search-button{\n",
       "        /* Search */\n",
       "        leading-trim: both;\n",
       "        text-edge: cap;\n",
       "        display: flex;\n",
       "        align-items: center;\n",
       "        text-align: center;\n",
       "\n",
       "        /* Primary/On Light */\n",
       "        background-color: var(--button-color);\n",
       "        color: var(--tertiary-color);\n",
       "\n",
       "        border-radius: 30px;\n",
       "        border-color: var(--secondary-color);\n",
       "        border-style: solid;\n",
       "        box-shadow: rgba(60, 64, 67, 0.3) 0px 1px 2px 0px, rgba(60, 64, 67, 0.15) 0px 1px 3px 1px;\n",
       "        cursor: pointer;\n",
       "        /* Inside auto layout */\n",
       "        flex: none;\n",
       "        order: 1;\n",
       "        flex-grow: 0;\n",
       "    }\n",
       "\n",
       "    .grid-tablea3afc9253b7b4825a32fe4ca77882895 {\n",
       "        display:grid;\n",
       "        grid-template-columns: 1fr repeat(12, 1fr);\n",
       "        grid-template-rows: repeat(2, 1fr);\n",
       "        overflow-x: auto;\n",
       "        position: relative;\n",
       "    }\n",
       "\n",
       "    .grid-std-cells {\n",
       "        grid-column: span 4;\n",
       "\n",
       "    }\n",
       "    .grid-index-cells {\n",
       "        grid-column: span 1;\n",
       "        /* tmp fix to make left col stand out (fix with font-family) */\n",
       "        font-weight: 600;\n",
       "        background-color: var(--secondary-color) !important;\n",
       "        color: var(--tertiary-color);\n",
       "    }\n",
       "\n",
       "    .grid-header {\n",
       "        /* Auto layout */\n",
       "        display: flex;\n",
       "        flex-direction: column;\n",
       "        align-items: center;\n",
       "        padding: 6px 4px;\n",
       "\n",
       "        resize: horizontal;\n",
       "        /* Lt On Surface/Surface */\n",
       "        /* Lt On Surface/High */\n",
       "        border: 1px solid #CFCDD6;\n",
       "        /* tmp fix to make header stand out (fix with font-family) */\n",
       "        font-weight: 600;\n",
       "        background-color: var(--secondary-color);\n",
       "        color: var(--tertiary-color);\n",
       "    }\n",
       "\n",
       "    .grid-row {\n",
       "        display: flex;\n",
       "        flex-direction: column;\n",
       "        align-items: flex-start;\n",
       "        padding: 6px 4px;\n",
       "        overflow: hidden;\n",
       "        border: 1px solid #CFCDD6;\n",
       "        background-color: var(--primary-color);\n",
       "        color: var(--tertiary-color);\n",
       "    }\n",
       "\n",
       "\n",
       "    .syncstate-col-footer {\n",
       "        font-family: 'DejaVu Sans Mono', 'Open Sans';\n",
       "        font-size: 12px;\n",
       "        font-weight: 400;\n",
       "        line-height: 16.8px;\n",
       "        text-align: left;\n",
       "        color: #5E5A72;\n",
       "    }\n",
       "\n",
       "    .syncstate-description {\n",
       "        font-family: Open Sans;\n",
       "        font-size: 14px;\n",
       "        font-weight: 600;\n",
       "        line-height: 19.6px;\n",
       "        text-align: left;\n",
       "    }\n",
       "\n",
       "    .diff-state-orange-text{\n",
       "        color: #B8520A;\n",
       "    }\n",
       "\n",
       "    .diff-state-no-obj{\n",
       "        font-family: 'DejaVu Sans Mono', 'Open Sans';\n",
       "        font-size: 12px;\n",
       "        font-weight: 400;\n",
       "        line-height: 16.8px;\n",
       "        text-align: left;\n",
       "        color: #5E5A72;\n",
       "    }\n",
       "\n",
       "    .diff-state-intro{\n",
       "        font-family: Open Sans;\n",
       "        font-size: 14px;\n",
       "        font-weight: 400;\n",
       "        line-height: 19.6px;\n",
       "        text-align: left;\n",
       "        color: #B4B0BF;\n",
       "    }\n",
       "\n",
       "    .diff-state-header{\n",
       "        font-family: Open Sans;\n",
       "        font-size: 22px;\n",
       "        font-weight: 600;\n",
       "        line-height: 30.8px;\n",
       "        text-align: left;\n",
       "        color: #353243;\n",
       "        display: flex; gap: 8px;\n",
       "    }\n",
       "\n",
       "    .diff-state-sub-header{\n",
       "        font-family: Open Sans;\n",
       "        font-size: 14px;\n",
       "        font-weight: 400;\n",
       "        line-height: 19.6px;\n",
       "        text-align: left;\n",
       "        color: #5E5A72;\n",
       "    }\n",
       "\n",
       "    .badge {\n",
       "        code-text;\n",
       "        border-radius: 30px;\n",
       "    }\n",
       "\n",
       "    .label {\n",
       "        code-text;\n",
       "        border-radius: 4px;\n",
       "    }\n",
       "\n",
       "    .label-light-purple {\n",
       "        label;\n",
       "        background-color: #C9CFE8;\n",
       "        color: #373B7B;\n",
       "\n",
       "    }\n",
       "\n",
       "    .label-light-blue {\n",
       "        label;\n",
       "        background-color: #C2DEF0;\n",
       "        color: #1F567A;\n",
       "\n",
       "    }\n",
       "\n",
       "    .label-orange {\n",
       "        badge;\n",
       "        background-color: #FEE9CD;\n",
       "        color: #B8520A;\n",
       "    }\n",
       "\n",
       "    .label-gray {\n",
       "        badge;\n",
       "        background-color: #ECEBEF;\n",
       "        color: #353243;\n",
       "    }\n",
       "\n",
       "    .label-green {\n",
       "        badge;\n",
       "        background-color: #D5F1D5;\n",
       "        color: #256B24;\n",
       "    }\n",
       "\n",
       "    .badge-blue {\n",
       "        badge;\n",
       "        background-color: #C2DEF0;\n",
       "        color: #1F567A;\n",
       "    }\n",
       "\n",
       "    .badge-purple {\n",
       "        badge;\n",
       "        background-color: #C9CFE8;\n",
       "        color: #373B7B;\n",
       "    }\n",
       "\n",
       "    .badge-green {\n",
       "        badge;\n",
       "\n",
       "        /* Success/Container */\n",
       "        background-color: #D5F1D5;\n",
       "        color: #256B24;\n",
       "    }\n",
       "\n",
       "    .badge-red {\n",
       "        badge;\n",
       "        background-color: #F2D9DE;\n",
       "        color: #9B2737;\n",
       "    }\n",
       "\n",
       "    .badge-gray {\n",
       "        badge;\n",
       "        background-color: #ECEBEF;\n",
       "        color: #2E2B3B;\n",
       "    }\n",
       "    .paginationContainer{\n",
       "        width: 100%;\n",
       "        /*height: 30px;*/\n",
       "        display: flex;\n",
       "        justify-content: center;\n",
       "        gap: 8px;\n",
       "        padding: 5px;\n",
       "        color: var(--tertiary-color);\n",
       "    }\n",
       "\n",
       "    .page{\n",
       "        color: black;\n",
       "        font-weight: bold;\n",
       "        color: var(--tertiary-color);\n",
       "    }\n",
       "    .page:hover {\n",
       "      color: #38bdf8;\n",
       "      cursor: pointer;\n",
       "    }\n",
       "    .clipboard:hover{\n",
       "        cursor: pointer;\n",
       "        color: var(--tertiary-color);\n",
       "    }\n",
       "\n",
       "    .search-field {\n",
       "        display: flex;\n",
       "        align-items: center;\n",
       "        border-radius: 30px;\n",
       "        background-color: var(--secondary-color);\n",
       "    }\n",
       "\n",
       "    .syft-dropdown {\n",
       "        margin: 5px;\n",
       "        margin-left: 5px;\n",
       "        position: relative;\n",
       "        display: inline-block;\n",
       "        text-align: center;\n",
       "        background-color: var(--button-color);\n",
       "        min-width: 100px;\n",
       "        padding: 2px;\n",
       "        border-radius: 30px;\n",
       "    }\n",
       "\n",
       "    .syft-dropdown:hover {\n",
       "        cursor: pointer;\n",
       "    }\n",
       "    .syft-dropdown-content {\n",
       "        margin-top:26px;\n",
       "        display: none;\n",
       "        position: absolute;\n",
       "        min-width: 100px;\n",
       "        box-shadow: 0px 8px 16px 0px rgba(0,0,0,0.2);\n",
       "        padding: 12px 6px;\n",
       "        z-index: 1;\n",
       "        background-color: var(--primary-color);\n",
       "        color: var(--tertiary-color);\n",
       "    }\n",
       "    .dd-options {\n",
       "        padding-top: 4px;\n",
       "    }\n",
       "    .dd-options:first-of-type {\n",
       "        padding-top: 0px;\n",
       "    }\n",
       "\n",
       "    .dd-options:hover {\n",
       "        cursor: pointer;\n",
       "        background: #d1d5db;\n",
       "    }\n",
       "    .arrow {\n",
       "        border: solid black;\n",
       "        border-width: 0 3px 3px 0;\n",
       "        display: inline-block;\n",
       "        padding: 3px;\n",
       "    }\n",
       "    .down {\n",
       "        transform: rotate(45deg);\n",
       "        -webkit-transform: rotate(45deg);\n",
       "    }\n",
       "</style>\n",
       "\n",
       "\n",
       "    <div style='margin-top:15px;'>\n",
       "        <div class='flex gap-10' style='align-items: center;'>\n",
       "            <div class='folder-icon'><svg width=\"32\" height=\"32\" viewBox=\"0 0 32 32\" fill=\"none\" xmlns=\"http://www.w3.org/2000/svg\"> <path d=\"M28 6H4C3.73478 6 3.48043 6.10536 3.29289 6.29289C3.10536 6.48043 3 6.73478 3 7V24C3 24.5304 3.21071 25.0391 3.58579 25.4142C3.96086 25.7893 4.46957 26 5 26H27C27.5304 26 28.0391 25.7893 28.4142 25.4142C28.7893 25.0391 29 24.5304 29 24V7C29 6.73478 28.8946 6.48043 28.7071 6.29289C28.5196 6.10536 28.2652 6 28 6ZM5 14H10V18H5V14ZM12 14H27V18H12V14ZM27 8V12H5V8H27ZM5 20H10V24H5V20ZM27 24H12V20H27V24Z\" fill=\"#343330\"/></svg></div>\n",
       "            <div><p class='header-3'>ObjectDiffBatch List</p></div>\n",
       "        </div>\n",
       "\n",
       "            <div style=\"padding-top: 16px; display:flex;justify-content: space-between; align-items: center;\">\n",
       "                <div class='pt-25 gap-10' style=\"display:flex;\">\n",
       "                    <div class=\"search-field\">\n",
       "                        <div id='search-menua3afc9253b7b4825a32fe4ca77882895' class=\"syft-dropdown\" onclick=\"{\n",
       "                            let doc = document.getElementById('search-dropdown-contenta3afc9253b7b4825a32fe4ca77882895')\n",
       "                            if (doc.style.display === 'block'){\n",
       "                                doc.style.display = 'none'\n",
       "                            } else {\n",
       "                                doc.style.display = 'block'\n",
       "                            }\n",
       "                            }\">\n",
       "                            <div id='search-dropdown-contenta3afc9253b7b4825a32fe4ca77882895' class='syft-dropdown-content'></div>\n",
       "                            <script>\n",
       "                                var elementa3afc9253b7b4825a32fe4ca77882895 = [{\"Merge status\": {\"value\": \"NEW\", \"type\": \"label-green\"}, \"Public Sync State\": \"    <div style=\\\"display: flex; gap: 8px; justify-content: space-between; width: 100%;\\\">    <div>    <div class=\\\"label label-light-blue\\\">USERCODE</div> <span class='syncstate-description'>compute_mean</span>    </div>    </div>    <div style=\\\"display: table-row\\\">    <span class='syncstate-col-footer'>Updated by john@doe.org 29m ago</span>    </div>    \", \"Private sync state\": \"<p class='diff-state-no-obj'>No object detected</p>\"}, {\"Merge status\": {\"value\": \"NEW\", \"type\": \"label-green\"}, \"Public Sync State\": \"    <div style=\\\"display: flex; gap: 8px; justify-content: space-between; width: 100%;\\\">    <div>    <div class=\\\"label label-light-purple\\\">REQUEST</div> <span class='syncstate-description'>Execute compute_mean</span>    </div>    </div>    <div style=\\\"display: table-row\\\">    <span class='syncstate-col-footer'>pending \\u2022 Updated by john@doe.org 29m ago</span>    </div>    \", \"Private sync state\": \"<p class='diff-state-no-obj'>No object detected</p>\"}]\n",
       "                                var page_sizea3afc9253b7b4825a32fe4ca77882895 = 2\n",
       "                                var pageIndexa3afc9253b7b4825a32fe4ca77882895 = 1\n",
       "                                var paginatedElementsa3afc9253b7b4825a32fe4ca77882895 = []\n",
       "                                var activeFiltera3afc9253b7b4825a32fe4ca77882895;\n",
       "\n",
       "                                function buildDropDownMenu(elements){\n",
       "                                    let init_filter;\n",
       "                                    let menu = document.getElementById('search-dropdown-contenta3afc9253b7b4825a32fe4ca77882895')\n",
       "                                    if (elements.length > 0) {\n",
       "                                        let sample = elements[0]\n",
       "                                        for (const attr in sample) {\n",
       "                                            if (typeof init_filter === 'undefined'){\n",
       "                                                init_filter = attr;\n",
       "                                            }\n",
       "                                            let content = document.createElement('div');\n",
       "                                            content.onclick = function(event) {\n",
       "                                                event.stopPropagation()\n",
       "                                                document.getElementById('menu-active-filtera3afc9253b7b4825a32fe4ca77882895').innerText = attr;\n",
       "                                                activeFiltera3afc9253b7b4825a32fe4ca77882895 = attr;\n",
       "                                                document.getElementById(\n",
       "                                                    'search-dropdown-contenta3afc9253b7b4825a32fe4ca77882895'\n",
       "                                                ).style.display= 'none';\n",
       "                                            }\n",
       "                                            content.classList.add(\"dd-options\");\n",
       "                                            content.innerText = attr;\n",
       "                                            menu.appendChild(content);\n",
       "                                        }\n",
       "                                    } else {\n",
       "                                        let init_filter = '---'\n",
       "                                    }\n",
       "                                    let dropdown_field = document.getElementById('search-menua3afc9253b7b4825a32fe4ca77882895')\n",
       "                                    let span = document.createElement('span')\n",
       "                                    span.setAttribute('id', 'menu-active-filtera3afc9253b7b4825a32fe4ca77882895')\n",
       "                                    span.innerText = init_filter\n",
       "                                    activeFiltera3afc9253b7b4825a32fe4ca77882895 = init_filter;\n",
       "                                    dropdown_field.appendChild(span)\n",
       "                                }\n",
       "\n",
       "                                buildDropDownMenu(elementa3afc9253b7b4825a32fe4ca77882895)\n",
       "                            </script>\n",
       "                        </div>\n",
       "                        <input id='searchKeya3afc9253b7b4825a32fe4ca77882895' class='search-input' placeholder='Enter search here ...'  />\n",
       "                    </div>\n",
       "                    <button class='search-button' type=\"button\" onclick=\"searchGrida3afc9253b7b4825a32fe4ca77882895(elementa3afc9253b7b4825a32fe4ca77882895)\">\n",
       "                        <svg width=\"11\" height=\"10\" viewBox=\"0 0 11 10\" fill=\"none\" xmlns=\"http://www.w3.org/2000/svg\"><path d=\"M10.5652 9.23467L8.21819 6.88811C8.89846 6.07141 9.23767 5.02389 9.16527 3.96345C9.09287 2.90302 8.61443 1.91132 7.82948 1.19466C7.04453 0.477995 6.01349 0.0915414 4.95087 0.115691C3.88824 0.139841 2.87583 0.572735 2.12425 1.32432C1.37266 2.0759 0.939768 3.08831 0.915618 4.15094C0.891468 5.21357 1.27792 6.2446 1.99459 7.02955C2.71125 7.8145 3.70295 8.29294 4.76338 8.36535C5.82381 8.43775 6.87134 8.09853 7.68804 7.41827L10.0346 9.7653C10.0694 9.80014 10.1108 9.82778 10.1563 9.84663C10.2018 9.86549 10.2506 9.87519 10.2999 9.87519C10.3492 9.87519 10.398 9.86549 10.4435 9.84663C10.489 9.82778 10.5304 9.80014 10.5652 9.7653C10.6001 9.73046 10.6277 9.68909 10.6466 9.64357C10.6654 9.59805 10.6751 9.54926 10.6751 9.49998C10.6751 9.45071 10.6654 9.40192 10.6466 9.3564C10.6277 9.31088 10.6001 9.26951 10.5652 9.23467ZM1.67491 4.24998C1.67491 3.58247 1.87285 2.92995 2.2437 2.37493C2.61455 1.81992 3.14165 1.38734 3.75835 1.13189C4.37506 0.876446 5.05366 0.809609 5.70834 0.939835C6.36303 1.07006 6.96439 1.3915 7.4364 1.8635C7.9084 2.3355 8.22984 2.93687 8.36006 3.59155C8.49029 4.24624 8.42345 4.92484 8.168 5.54154C7.91256 6.15824 7.47998 6.68535 6.92496 7.05619C6.36995 7.42704 5.71742 7.62498 5.04991 7.62498C4.15511 7.62399 3.29724 7.26809 2.66452 6.63537C2.0318 6.00265 1.6759 5.14479 1.67491 4.24998Z\" fill=\"currentColor\"/></svg>\n",
       "                        <span class='pl-8'>Search</span>\n",
       "                    </button>\n",
       "                </div>\n",
       "\n",
       "                <div><h4 id='totala3afc9253b7b4825a32fe4ca77882895'>0</h4></div>\n",
       "            </div>\n",
       "            <div id='tablea3afc9253b7b4825a32fe4ca77882895' class='grid-tablea3afc9253b7b4825a32fe4ca77882895' style='margin-top: 25px;'>\n",
       "                <script>\n",
       "                    function paginatea3afc9253b7b4825a32fe4ca77882895(arr, size) {\n",
       "                        const res = [];\n",
       "                        for (let i = 0; i < arr.length; i += size) {\n",
       "                            const chunk = arr.slice(i, i + size);\n",
       "                            res.push(chunk);\n",
       "                        }\n",
       "\n",
       "                        return res;\n",
       "                    }\n",
       "\n",
       "                    function searchGrida3afc9253b7b4825a32fe4ca77882895(elements){\n",
       "                        let searchKey = document.getElementById('searchKeya3afc9253b7b4825a32fe4ca77882895').value;\n",
       "                        let result;\n",
       "                        if (searchKey === ''){\n",
       "                            result = elements;\n",
       "                        } else {\n",
       "                            result = elements.filter((element) => {\n",
       "                                let property = element[activeFiltera3afc9253b7b4825a32fe4ca77882895]\n",
       "                                if (typeof property === 'object' && property !== null){\n",
       "                                    return property.value.toLowerCase().includes(searchKey.toLowerCase());\n",
       "                                } else if (typeof property === 'string' ) {\n",
       "                                    return element[activeFiltera3afc9253b7b4825a32fe4ca77882895].toLowerCase().includes(searchKey.toLowerCase());\n",
       "                                } else if (property !== null ) {\n",
       "                                    return element[activeFiltera3afc9253b7b4825a32fe4ca77882895].toString() === searchKey;\n",
       "                                } else {\n",
       "                                    return element[activeFiltera3afc9253b7b4825a32fe4ca77882895] === searchKey;\n",
       "                                }\n",
       "                            } );\n",
       "                        }\n",
       "                        resetByIda3afc9253b7b4825a32fe4ca77882895('tablea3afc9253b7b4825a32fe4ca77882895');\n",
       "                        resetByIda3afc9253b7b4825a32fe4ca77882895('paga3afc9253b7b4825a32fe4ca77882895');\n",
       "                        result = paginatea3afc9253b7b4825a32fe4ca77882895(result, page_sizea3afc9253b7b4825a32fe4ca77882895)\n",
       "                        paginatedElementsa3afc9253b7b4825a32fe4ca77882895 = result\n",
       "                        buildGrida3afc9253b7b4825a32fe4ca77882895(result,pageIndexa3afc9253b7b4825a32fe4ca77882895);\n",
       "                        buildPaginationContainera3afc9253b7b4825a32fe4ca77882895(result);\n",
       "                    }\n",
       "\n",
       "                    function resetByIda3afc9253b7b4825a32fe4ca77882895(id){\n",
       "                        let element = document.getElementById(id);\n",
       "                        while (element.firstChild) {\n",
       "                          element.removeChild(element.firstChild);\n",
       "                        }\n",
       "                    }\n",
       "\n",
       "                    function buildGrida3afc9253b7b4825a32fe4ca77882895(items, pageIndex){\n",
       "                                let headers = Object.keys(elementa3afc9253b7b4825a32fe4ca77882895[0]);\n",
       "\n",
       "                                let grid = document.getElementById(\"tablea3afc9253b7b4825a32fe4ca77882895\");\n",
       "                                let div = document.createElement(\"div\");\n",
       "                                div.classList.add('grid-header', 'grid-index-cells');\n",
       "                                grid.appendChild(div);\n",
       "                                headers.forEach((title) =>{\n",
       "                                    let div = document.createElement(\"div\");\n",
       "                                    div.classList.add('grid-header', 'grid-std-cells');\n",
       "                                    div.innerText = title;\n",
       "\n",
       "                                    grid.appendChild(div);\n",
       "                                });\n",
       "\n",
       "                                let page = items[pageIndex -1]\n",
       "                                if (page !== 'undefine'){\n",
       "                                    let table_indexa3afc9253b7b4825a32fe4ca77882895 = ((pageIndex - 1) * page_sizea3afc9253b7b4825a32fe4ca77882895)\n",
       "                                    page.forEach((item) => {\n",
       "                                        let grid = document.getElementById(\"tablea3afc9253b7b4825a32fe4ca77882895\");\n",
       "                                        // Add new index value in index cells\n",
       "                                        let divIndex = document.createElement(\"div\");\n",
       "                                        divIndex.classList.add('grid-row', 'grid-index-cells');\n",
       "                                        divIndex.innerText = table_indexa3afc9253b7b4825a32fe4ca77882895;\n",
       "                                        grid.appendChild(divIndex);\n",
       "\n",
       "                                        // Iterate over the actual obj\n",
       "                                        for (const attr in item) {\n",
       "                                            let div = document.createElement(\"div\");\n",
       "                                            if (typeof item[attr] === 'object'\n",
       "                                                && item[attr] !== null\n",
       "                                                && item[attr].hasOwnProperty('type')) {\n",
       "                                                if (item[attr].type.includes('badge')){\n",
       "                                                    let badge_div = document.createElement(\"div\");\n",
       "                                                    badge_div.classList.add('badge',item[attr].type)\n",
       "                                                    badge_div.innerText = String(item[attr].value).toUpperCase();\n",
       "                                                    div.appendChild(badge_div);\n",
       "                                                    div.classList.add('grid-row','grid-std-cells');\n",
       "                                                } else if (item[attr].type.includes('label')){\n",
       "                                                    let label_div = document.createElement(\"div\");\n",
       "                                                    label_div.classList.add('label',item[attr].type)\n",
       "                                                    label_div.innerText = String(item[attr].value).toUpperCase();\n",
       "                                                    div.appendChild(label_div);\n",
       "                                                    div.classList.add('grid-row','grid-std-cells');\n",
       "                                                } else if (item[attr].type === \"clipboard\") {\n",
       "                                                    div.classList.add('grid-row','grid-std-cells');\n",
       "\n",
       "                                                    // Create clipboard div\n",
       "                                                    let clipboard_div = document.createElement('div');\n",
       "                                                    clipboard_div.style.display= 'flex';\n",
       "                                                    clipboard_div.classList.add(\"gap-10\")\n",
       "                                                    clipboard_div.style.justifyContent = \"space-between\";\n",
       "\n",
       "                                                    let id_text = document.createElement('div');\n",
       "                                                    if (item[attr].value == \"None\"){\n",
       "                                                        id_text.innerText = \"None\";\n",
       "                                                    }\n",
       "                                                    else{\n",
       "                                                        id_text.innerText = item[attr].value.slice(0,5) + \"...\";\n",
       "                                                    }\n",
       "\n",
       "                                                    clipboard_div.appendChild(id_text);\n",
       "                                                    let clipboard_img = document.createElement('div');\n",
       "                                                    clipboard_img.classList.add(\"clipboard\")\n",
       "                                                    div.onclick = function() {\n",
       "                                                        navigator.clipboard.writeText(item[attr].value);\n",
       "                                                    };\n",
       "                                                    clipboard_img.innerHTML = \"<svg width='8' height='8' viewBox='0 0 8 8' fill='none' xmlns='http://www.w3.org/2000/svg'><path d='M7.4375 0.25H2.4375C2.35462 0.25 2.27513 0.282924 2.21653 0.341529C2.15792 0.400134 2.125 0.47962 2.125 0.5625V2.125H0.5625C0.47962 2.125 0.400134 2.15792 0.341529 2.21653C0.282924 2.27513 0.25 2.35462 0.25 2.4375V7.4375C0.25 7.52038 0.282924 7.59987 0.341529 7.65847C0.400134 7.71708 0.47962 7.75 0.5625 7.75H5.5625C5.64538 7.75 5.72487 7.71708 5.78347 7.65847C5.84208 7.59987 5.875 7.52038 5.875 7.4375V5.875H7.4375C7.52038 5.875 7.59987 5.84208 7.65847 5.78347C7.71708 5.72487 7.75 5.64538 7.75 5.5625V0.5625C7.75 0.47962 7.71708 0.400134 7.65847 0.341529C7.59987 0.282924 7.52038 0.25 7.4375 0.25ZM5.25 7.125H0.875V2.75H5.25V7.125ZM7.125 5.25H5.875V2.4375C5.875 2.35462 5.84208 2.27513 5.78347 2.21653C5.72487 2.15792 5.64538 2.125 5.5625 2.125H2.75V0.875H7.125V5.25Z' fill='#464158'/></svg>\";\n",
       "\n",
       "                                                    clipboard_div.appendChild(clipboard_img);\n",
       "                                                    div.appendChild(clipboard_div);\n",
       "                                                }\n",
       "                                            } else{\n",
       "                                                div.classList.add('grid-row','grid-std-cells');\n",
       "                                                if (item[attr] == null) {\n",
       "                                                    text = ' '\n",
       "                                                } else {\n",
       "                                                    text = String(item[attr])\n",
       "                                                }\n",
       "\n",
       "                                                text = text.replaceAll(\"\\n\", \"</br>\");\n",
       "                                                div.innerHTML = text;\n",
       "                                            }\n",
       "                                            grid.appendChild(div);\n",
       "                                        }\n",
       "                                    table_indexa3afc9253b7b4825a32fe4ca77882895 = table_indexa3afc9253b7b4825a32fe4ca77882895 + 1;\n",
       "                                    })\n",
       "                                }\n",
       "                    }\n",
       "                    paginatedElementsa3afc9253b7b4825a32fe4ca77882895 = paginatea3afc9253b7b4825a32fe4ca77882895(elementa3afc9253b7b4825a32fe4ca77882895, page_sizea3afc9253b7b4825a32fe4ca77882895)\n",
       "                    buildGrida3afc9253b7b4825a32fe4ca77882895(paginatedElementsa3afc9253b7b4825a32fe4ca77882895, 1)\n",
       "                    document.getElementById('totala3afc9253b7b4825a32fe4ca77882895').innerText = \"Total: \" + elementa3afc9253b7b4825a32fe4ca77882895.length\n",
       "                </script>\n",
       "            </div>\n",
       "            <div id='paga3afc9253b7b4825a32fe4ca77882895' class='paginationContainer'>\n",
       "                <script>\n",
       "                    function buildPaginationContainera3afc9253b7b4825a32fe4ca77882895(paginatedElements){\n",
       "                            let pageContainer = document.getElementById(\"paga3afc9253b7b4825a32fe4ca77882895\");\n",
       "                            for (let i = 0; i < paginatedElements.length; i++) {\n",
       "                                  let div = document.createElement(\"div\");\n",
       "                                  div.classList.add('page');\n",
       "                                  if(i===0) div.style.color = \"gray\";\n",
       "                                  else div.style.color = 'var(--tertiary-color, \"gray\")';\n",
       "                                  div.onclick = function(event) {\n",
       "                                      let indexes = document.getElementsByClassName('page');\n",
       "                                      for (let index of indexes) { index.style.color = 'var(--tertiary-color, \"gray\")' }\n",
       "                                      event.target.style.color = \"gray\";\n",
       "                                      setPagea3afc9253b7b4825a32fe4ca77882895(i + 1);\n",
       "                                  };\n",
       "                                  div.innerText = i + 1;\n",
       "                                  pageContainer.appendChild(div);\n",
       "                            }\n",
       "                    }\n",
       "\n",
       "                    function setPagea3afc9253b7b4825a32fe4ca77882895(newPage){\n",
       "                        pageIndex = newPage\n",
       "                        resetByIda3afc9253b7b4825a32fe4ca77882895('tablea3afc9253b7b4825a32fe4ca77882895')\n",
       "                        buildGrida3afc9253b7b4825a32fe4ca77882895(paginatedElementsa3afc9253b7b4825a32fe4ca77882895, pageIndex)\n",
       "                    }\n",
       "                    (async function() {\n",
       "                        const myFont = new FontFace('DejaVu Sans', 'url(https://cdn.jsdelivr.net/npm/dejavu-sans@1.0.0/css/dejavu-sans.min.css)');\n",
       "                        await myFont.load();\n",
       "                        document.fonts.add(myFont);\n",
       "                        document.getElementsByTagName('h1')[0].style.fontFamily = \"DejaVu Sans\";\n",
       "                    })();\n",
       "\n",
       "                    buildPaginationContainera3afc9253b7b4825a32fe4ca77882895(paginatedElementsa3afc9253b7b4825a32fe4ca77882895)\n",
       "                </script>\n",
       "            </div>\n",
       "        </div>\n"
      ],
      "text/plain": [
       "syft.service.sync.diff_state.NodeDiff"
      ]
     },
     "execution_count": 20,
     "metadata": {},
     "output_type": "execute_result"
    }
   ],
   "source": [
    "diff_state"
   ]
  },
  {
   "cell_type": "markdown",
   "id": "69916ea3",
   "metadata": {},
   "source": [
    "### Resolve"
   ]
  },
  {
   "cell_type": "code",
   "execution_count": 21,
   "id": "c02ea303",
   "metadata": {},
   "outputs": [],
   "source": [
    "obj_diff_batch = diff_state[0]"
   ]
  },
  {
   "cell_type": "code",
   "execution_count": 22,
   "id": "bbe2077d",
   "metadata": {},
   "outputs": [],
   "source": [
    "widget = resolve_single(obj_diff_batch)"
   ]
  },
  {
   "cell_type": "code",
   "execution_count": 23,
   "id": "0c0bde4a",
   "metadata": {},
   "outputs": [
    {
     "data": {
      "application/vnd.jupyter.widget-view+json": {
       "model_id": "b251797e71b74adaa4e235e55bd0816d",
       "version_major": 2,
       "version_minor": 0
      },
      "text/plain": [
       "VBox(children=(VBox(children=(HTML(value=\"<span style='color: #B4B0BF;'>Syncing changes on</span>\"), HBox(chil…"
      ]
     },
     "execution_count": 23,
     "metadata": {},
     "output_type": "execute_result"
    }
   ],
   "source": [
    "widget"
   ]
  },
  {
   "cell_type": "code",
   "execution_count": 24,
   "id": "f7c32019",
   "metadata": {},
   "outputs": [
    {
     "name": "stdout",
     "output_type": "stream",
     "text": [
      "Decision: Syncing 2 objects\n"
     ]
    },
    {
     "data": {
      "text/html": [
       "<div class=\"alert-success\" style=\"padding:5px;\"><strong>SyftSuccess</strong>: Synced 2 items</div><br />"
      ],
      "text/plain": [
       "SyftSuccess: Synced 2 items"
      ]
     },
     "execution_count": 24,
     "metadata": {},
     "output_type": "execute_result"
    }
   ],
   "source": [
    "widget.click_sync()"
   ]
  },
  {
   "cell_type": "markdown",
   "id": "fa18376d",
   "metadata": {},
   "source": [
    "### Sync second batch"
   ]
  },
  {
   "cell_type": "code",
   "execution_count": 25,
   "id": "498b18ac",
   "metadata": {},
   "outputs": [],
   "source": [
    "obj_diff_batch_request = diff_state[1]"
   ]
  },
  {
   "cell_type": "code",
   "execution_count": 26,
   "id": "0993c1e8",
   "metadata": {},
   "outputs": [],
   "source": [
    "widget = resolve_single(obj_diff_batch_request)"
   ]
  },
  {
   "cell_type": "code",
   "execution_count": 27,
   "id": "cba9a697",
   "metadata": {},
   "outputs": [
    {
     "data": {
      "application/vnd.jupyter.widget-view+json": {
       "model_id": "bce20e640a124583a0ee056e99ebd9c3",
       "version_major": 2,
       "version_minor": 0
      },
      "text/plain": [
       "VBox(children=(VBox(children=(HTML(value=\"<span style='color: #B4B0BF;'>Syncing changes on</span>\"), HBox(chil…"
      ]
     },
     "execution_count": 27,
     "metadata": {},
     "output_type": "execute_result"
    }
   ],
   "source": [
    "widget"
   ]
  },
  {
   "cell_type": "code",
   "execution_count": 28,
   "id": "6a3defbc",
   "metadata": {},
   "outputs": [
    {
     "name": "stdout",
     "output_type": "stream",
     "text": [
      "Decision: Syncing 1 objects\n"
     ]
    },
    {
     "data": {
      "text/html": [
       "<div class=\"alert-success\" style=\"padding:5px;\"><strong>SyftSuccess</strong>: Synced 1 items</div><br />"
      ],
      "text/plain": [
       "SyftSuccess: Synced 1 items"
      ]
     },
     "execution_count": 28,
     "metadata": {},
     "output_type": "execute_result"
    }
   ],
   "source": [
    "widget.click_sync()"
   ]
  },
  {
   "cell_type": "markdown",
   "id": "262f0db7",
   "metadata": {},
   "source": [
    "# Run code on high side"
   ]
  },
  {
   "cell_type": "code",
   "execution_count": 29,
   "id": "9b7bd33d",
   "metadata": {},
   "outputs": [],
   "source": [
    "# TODO: FIX\n",
    "client_high._fetch_api(client_high.credentials)"
   ]
  },
  {
   "cell_type": "code",
   "execution_count": 30,
   "id": "01d73772",
   "metadata": {},
   "outputs": [],
   "source": [
    "data_high = client_high.datasets[0].assets[0]"
   ]
  },
  {
   "cell_type": "code",
   "execution_count": 31,
   "id": "e3fc5218",
   "metadata": {},
   "outputs": [
    {
     "data": {
      "text/markdown": [
       "```python\n",
       "class Job:\n",
       "    id: UID = 92c22d0747b9414989ed8659132909bf\n",
       "    status: JobStatus.CREATED\n",
       "    has_parent: False\n",
       "    result: syft.service.action.action_data_empty.ObjectNotReady\n",
       "    logs:\n",
       "\n",
       "0 \n",
       "    \n",
       "```"
      ],
      "text/plain": [
       "syft.service.job.job_stash.Job"
      ]
     },
     "metadata": {},
     "output_type": "display_data"
    }
   ],
   "source": [
    "job_high = client_high.code.compute_mean(data=data_high, blocking=False)\n",
    "display(job_high)"
   ]
  },
  {
   "cell_type": "code",
   "execution_count": 32,
   "id": "a4a37ccb",
   "metadata": {},
   "outputs": [
    {
     "data": {
      "text/plain": [
       "17.0"
      ]
     },
     "execution_count": 32,
     "metadata": {},
     "output_type": "execute_result"
    }
   ],
   "source": [
    "# wait for the result\n",
    "job_high.wait().get()"
   ]
  },
  {
   "cell_type": "code",
   "execution_count": 33,
   "id": "dbe412df",
   "metadata": {},
   "outputs": [],
   "source": [
    "job_info = job_high.info(public_metadata=True, result=True)\n",
    "\n",
    "request = client_high.requests[0]\n",
    "result_obj = job_high.result"
   ]
  },
  {
   "cell_type": "code",
   "execution_count": 34,
   "id": "a450153d-38d0-4d27-ae18-f36ca3751e04",
   "metadata": {},
   "outputs": [
    {
     "data": {
      "text/html": [
       "\n",
       "            <style>\n",
       "            .job-info {color: #464158;}\n",
       "            </style>\n",
       "            <div class='job-info'>\n",
       "                <h3>JobInfo</h3>\n",
       "                <h4>Public metadata</h4><p style='margin-left: 10px;'><strong>resolved:</strong> True</p><p style='margin-left: 10px;'><strong>status:</strong> JobStatus.COMPLETED</p><p style='margin-left: 10px;'><strong>n_iters:</strong> 0</p><p style='margin-left: 10px;'><strong>creation_time:</strong> 2024-04-02 15:56:12.023795</p>\n",
       "                <h4>Result</h4><p style='margin-left: 10px;'>17.0</p>\n",
       "            </div>\n",
       "        "
      ],
      "text/markdown": [
       "```python\n",
       "class JobInfo:\n",
       "  id: str = cdde3f245d8c4dc4a5e36f2b97ea61d6\n",
       "  resolved: str = True\n",
       "  status: str = \"JobStatus.COMPLETED\"\n",
       "  n_iters: str = 0\n",
       "  current_iter: str = None\n",
       "  creation_time: str = \"2024-04-02 15:56:12.023795\"\n",
       "\n",
       "```"
      ],
      "text/plain": [
       "syft.service.job.job_stash.JobInfo"
      ]
     },
     "execution_count": 34,
     "metadata": {},
     "output_type": "execute_result"
    }
   ],
   "source": [
    "job_info"
   ]
  },
  {
   "cell_type": "code",
   "execution_count": 35,
   "id": "6802caa0-569b-4ca8-b1eb-b36fe6954807",
   "metadata": {},
   "outputs": [
    {
     "name": "stdout",
     "output_type": "stream",
     "text": [
      "Approving request for domain test_h\n",
      "returning existing job\n",
      "setting permission\n",
      "None\n",
      "None\n",
      "Approving request for domain test_h\n",
      "ADDING PERMISSION [READ: 77701cc5806741e89f0321ab266407f5 as f9d153d952491952afe1a436438a62d14c40feae677da8c04746c3957cc523c0] 77701cc5806741e89f0321ab266407f5\n",
      "Job(92c22d0747b9414989ed8659132909bf) Setting new result 77701cc5806741e89f0321ab266407f5 -> 77701cc5806741e89f0321ab266407f5\n"
     ]
    },
    {
     "data": {
      "text/html": [
       "<div class=\"alert-success\" style=\"padding:5px;\"><strong>SyftSuccess</strong>: Request submitted for updating result.</div><br />"
      ],
      "text/plain": [
       "SyftSuccess: Request submitted for updating result."
      ]
     },
     "execution_count": 35,
     "metadata": {},
     "output_type": "execute_result"
    }
   ],
   "source": [
    "accept_res = request.accept_by_depositing_result(job_info)\n",
    "\n",
    "assert isinstance(accept_res, SyftSuccess)\n",
    "accept_res"
   ]
  },
  {
   "cell_type": "markdown",
   "id": "3b6eff36",
   "metadata": {},
   "source": [
    "## Assertions"
   ]
  },
  {
   "cell_type": "code",
   "execution_count": 36,
   "id": "be7b8376",
   "metadata": {},
   "outputs": [],
   "source": [
    "# Need to refresh Job because we overwrite result\n",
    "job_high = client_high.jobs[0]\n",
    "\n",
    "action_store_high = node_high.python_node.get_service(\"actionservice\").store\n",
    "blob_store_high = node_high.python_node.get_service(\n",
    "    \"blobstorageservice\"\n",
    ").stash.partition\n",
    "assert (\n",
    "    f\"{client_low_ds.verify_key}_READ\"\n",
    "    in action_store_high.permissions[job_high.result.id.id]\n",
    ")\n",
    "assert (\n",
    "    f\"{client_low_ds.verify_key}_READ\"\n",
    "    in blob_store_high.permissions[job_high.result.syft_blob_storage_entry_id]\n",
    ")"
   ]
  },
  {
   "cell_type": "code",
   "execution_count": 37,
   "id": "8a2b4ca9-074d-44ac-a780-21f561e5b634",
   "metadata": {},
   "outputs": [],
   "source": [
    "assert action_store_high.storage_permissions[job_high.result.id.id] == {\n",
    "    node_high.python_node.id\n",
    "}"
   ]
  },
  {
   "cell_type": "markdown",
   "id": "1a19ff34",
   "metadata": {},
   "source": [
    "## Data Owner: Sync back to low-side"
   ]
  },
  {
   "cell_type": "code",
   "execution_count": 38,
   "id": "f86275bf",
   "metadata": {},
   "outputs": [],
   "source": [
    "low_state = client_low.get_sync_state()\n",
    "high_state = client_high.get_sync_state()"
   ]
  },
  {
   "cell_type": "code",
   "execution_count": 39,
   "id": "286ecf46",
   "metadata": {},
   "outputs": [
    {
     "data": {
      "text/html": [
       "\n",
       "        <style>\n",
       "            \n",
       "/* cyrillic-ext */\n",
       "@font-face {\n",
       "  font-family: 'Open Sans';\n",
       "  font-style: normal;\n",
       "  font-weight: 300 800;\n",
       "  font-stretch: 100%;\n",
       "  src: url(https://fonts.gstatic.com/s/opensans/v35/memvYaGs126MiZpBA-UvWbX2vVnXBbObj2OVTSKmu0SC55K5gw.woff2) format('woff2');\n",
       "  unicode-range: U+0460-052F, U+1C80-1C88, U+20B4, U+2DE0-2DFF, U+A640-A69F, U+FE2E-FE2F;\n",
       "}\n",
       "/* cyrillic */\n",
       "@font-face {\n",
       "  font-family: 'Open Sans';\n",
       "  font-style: normal;\n",
       "  font-weight: 300 800;\n",
       "  font-stretch: 100%;\n",
       "  src: url(https://fonts.gstatic.com/s/opensans/v35/memvYaGs126MiZpBA-UvWbX2vVnXBbObj2OVTSumu0SC55K5gw.woff2) format('woff2');\n",
       "  unicode-range: U+0301, U+0400-045F, U+0490-0491, U+04B0-04B1, U+2116;\n",
       "}\n",
       "/* greek-ext */\n",
       "@font-face {\n",
       "  font-family: 'Open Sans';\n",
       "  font-style: normal;\n",
       "  font-weight: 300 800;\n",
       "  font-stretch: 100%;\n",
       "  src: url(https://fonts.gstatic.com/s/opensans/v35/memvYaGs126MiZpBA-UvWbX2vVnXBbObj2OVTSOmu0SC55K5gw.woff2) format('woff2');\n",
       "  unicode-range: U+1F00-1FFF;\n",
       "}\n",
       "/* greek */\n",
       "@font-face {\n",
       "  font-family: 'Open Sans';\n",
       "  font-style: normal;\n",
       "  font-weight: 300 800;\n",
       "  font-stretch: 100%;\n",
       "  src: url(https://fonts.gstatic.com/s/opensans/v35/memvYaGs126MiZpBA-UvWbX2vVnXBbObj2OVTSymu0SC55K5gw.woff2) format('woff2');\n",
       "  unicode-range: U+0370-03FF;\n",
       "}\n",
       "/* hebrew */\n",
       "@font-face {\n",
       "  font-family: 'Open Sans';\n",
       "  font-style: normal;\n",
       "  font-weight: 300 800;\n",
       "  font-stretch: 100%;\n",
       "  src: url(https://fonts.gstatic.com/s/opensans/v35/memvYaGs126MiZpBA-UvWbX2vVnXBbObj2OVTS2mu0SC55K5gw.woff2) format('woff2');\n",
       "  unicode-range: U+0590-05FF, U+200C-2010, U+20AA, U+25CC, U+FB1D-FB4F;\n",
       "}\n",
       "/* vietnamese */\n",
       "@font-face {\n",
       "  font-family: 'Open Sans';\n",
       "  font-style: normal;\n",
       "  font-weight: 300 800;\n",
       "  font-stretch: 100%;\n",
       "  src: url(https://fonts.gstatic.com/s/opensans/v35/memvYaGs126MiZpBA-UvWbX2vVnXBbObj2OVTSCmu0SC55K5gw.woff2) format('woff2');\n",
       "  unicode-range: U+0102-0103, U+0110-0111, U+0128-0129, U+0168-0169, U+01A0-01A1, U+01AF-01B0, U+0300-0301, U+0303-0304, U+0308-0309, U+0323, U+0329, U+1EA0-1EF9, U+20AB;\n",
       "}\n",
       "/* latin-ext */\n",
       "@font-face {\n",
       "  font-family: 'Open Sans';\n",
       "  font-style: normal;\n",
       "  font-weight: 300 800;\n",
       "  font-stretch: 100%;\n",
       "  src: url(https://fonts.gstatic.com/s/opensans/v35/memvYaGs126MiZpBA-UvWbX2vVnXBbObj2OVTSGmu0SC55K5gw.woff2) format('woff2');\n",
       "  unicode-range: U+0100-02AF, U+0304, U+0308, U+0329, U+1E00-1E9F, U+1EF2-1EFF, U+2020, U+20A0-20AB, U+20AD-20CF, U+2113, U+2C60-2C7F, U+A720-A7FF;\n",
       "}\n",
       "/* latin */\n",
       "@font-face {\n",
       "  font-family: 'Open Sans';\n",
       "  font-style: normal;\n",
       "  font-weight: 300 800;\n",
       "  font-stretch: 100%;\n",
       "  src: url(https://fonts.gstatic.com/s/opensans/v35/memvYaGs126MiZpBA-UvWbX2vVnXBbObj2OVTS-mu0SC55I.woff2) format('woff2');\n",
       "  unicode-range: U+0000-00FF, U+0131, U+0152-0153, U+02BB-02BC, U+02C6, U+02DA, U+02DC, U+0304, U+0308, U+0329, U+2000-206F, U+2074, U+20AC, U+2122, U+2191, U+2193, U+2212, U+2215, U+FEFF, U+FFFD;\n",
       "}\n",
       "\n",
       "            .syft-syncstate {color: #464158;}\n",
       "            .syft-syncstate h3,\n",
       "            .syft-syncstate p\n",
       "              {font-family: 'Open Sans';}\n",
       "              .itables {font-family: 'Consolas', monospace, sans-serif;}\n",
       "              {font-family: 'Open Sans';}\n",
       "              .itables {font-family: 'Consolas', monospace, sans-serif;}\n",
       "            </style>\n",
       "        <div class='syft-syncstate'>\n",
       "            <p style=\"margin-bottom:16px;\"></p>\n",
       "            <p class='paragraph'><strong><span class='pr-8'>name: </span></strong>test_h</p>\n",
       "            <p class='paragraph'><strong><span class='pr-8'>last sync: </span></strong> ago</p>\n",
       "        </div>\n",
       "\n",
       "<style>\n",
       "  body[data-jp-theme-light='false'] {\n",
       "        --primary-color: #111111;\n",
       "        --secondary-color: #212121;\n",
       "        --tertiary-color: #CFCDD6;\n",
       "        --button-color: #111111;\n",
       "  }\n",
       "\n",
       "  body {\n",
       "        --primary-color: #ffffff;\n",
       "        --secondary-color: #f5f5f5;\n",
       "        --tertiary-color: #000000de;\n",
       "        --button-color: #d1d5db;\n",
       "  }\n",
       "\n",
       "  .header-1 {\n",
       "        font-style: normal;\n",
       "        font-weight: 600;\n",
       "        font-size: 2.0736em;\n",
       "        line-height: 100%;\n",
       "        leading-trim: both;\n",
       "        text-edge: cap;\n",
       "        color: #17161D;\n",
       "    }\n",
       "\n",
       "  .header-2 {\n",
       "        font-style: normal;\n",
       "        font-weight: 600;\n",
       "        font-size: 1.728em;\n",
       "        line-height: 100%;\n",
       "        leading-trim: both;\n",
       "        text-edge: cap;\n",
       "        color: #17161D;\n",
       "    }\n",
       "\n",
       "  .header-3 {\n",
       "        font-style: normal;\n",
       "        font-weight: 600;\n",
       "        font-size:  1.44em;\n",
       "        line-height: 100%;\n",
       "        leading-trim: both;\n",
       "        text-edge: cap;\n",
       "        color: var(--tertiary-color);\n",
       "    }\n",
       "\n",
       "  .header-4 {\n",
       "        font-style: normal;\n",
       "        font-weight: 600;\n",
       "        font-size: 1.2em;\n",
       "        line-height: 100%;\n",
       "        leading-trim: both;\n",
       "        text-edge: cap;\n",
       "        color: #17161D;\n",
       "    }\n",
       "\n",
       "    .paragraph {\n",
       "        font-style: normal;\n",
       "        font-weight: 400;\n",
       "        font-size: 14px;\n",
       "        line-height: 100%;\n",
       "        leading-trim: both;\n",
       "        text-edge: cap;\n",
       "        color: #2E2B3B;\n",
       "    }\n",
       "\n",
       "    .paragraph-sm {\n",
       "        font-family: 'Roboto';\n",
       "        font-style: normal;\n",
       "        font-weight: 400;\n",
       "        font-size: 11.62px;\n",
       "        line-height: 100%;\n",
       "        leading-trim: both;\n",
       "        text-edge: cap;\n",
       "        color: #2E2B3B;\n",
       "    }\n",
       "    .code-text {\n",
       "        font-family: 'Consolas';\n",
       "        font-style: normal;\n",
       "        font-weight: 400;\n",
       "        font-size: 13px;\n",
       "        line-height: 130%;\n",
       "        leading-trim: both;\n",
       "        text-edge: cap;\n",
       "        color: #2E2B3B;\n",
       "    }\n",
       "\n",
       "    .numbering-entry { display: none }\n",
       "\n",
       "    /* Tooltip container */\n",
       "    .tooltip {\n",
       "        position: relative;\n",
       "        display: inline-block;\n",
       "        border-bottom: 1px dotted black; /* If you want dots under the hoverable text */\n",
       "    }\n",
       "\n",
       "    /* Tooltip text */\n",
       "    .tooltip .tooltiptext {\n",
       "        visibility: hidden;\n",
       "        width: 120px;\n",
       "        background-color: black;\n",
       "        color: #fff;\n",
       "        text-align: center;\n",
       "        padding: 5px 0;\n",
       "        border-radius: 6px;\n",
       "\n",
       "        /* Position the tooltip text - see examples below! */\n",
       "        position: absolute;\n",
       "        z-index: 1;\n",
       "    }\n",
       "\n",
       "    .repr-cell {\n",
       "      padding-top: 20px;\n",
       "    }\n",
       "\n",
       "    .text-bold {\n",
       "        font-weight: bold;\n",
       "    }\n",
       "\n",
       "    .pr-8 {\n",
       "        padding-right: 8px;\n",
       "    }\n",
       "    .pt-8 {\n",
       "        padding-top: 8px;\n",
       "    }\n",
       "    .pl-8 {\n",
       "        padding-left: 8px;\n",
       "    }\n",
       "    .pb-8 {\n",
       "        padding-bottom: 8px;\n",
       "    }\n",
       "\n",
       "    .py-25{\n",
       "        padding-top: 25px;\n",
       "        padding-bottom: 25px;\n",
       "    }\n",
       "\n",
       "    .flex {\n",
       "        display: flex;\n",
       "    }\n",
       "\n",
       "    .gap-10 {\n",
       "        gap: 10px;\n",
       "    }\n",
       "    .items-center{\n",
       "        align-items: center;\n",
       "    }\n",
       "\n",
       "    .folder-icon {\n",
       "        color: var(--tertiary-color);\n",
       "    }\n",
       "\n",
       "    .search-input{\n",
       "        display: flex;\n",
       "        flex-direction: row;\n",
       "        align-items: center;\n",
       "        padding: 8px 12px;\n",
       "        width: 343px;\n",
       "        height: 24px;\n",
       "        /* Lt On Surface/Low */\n",
       "        background-color: var(--secondary-color);\n",
       "        border-radius: 30px;\n",
       "\n",
       "        /* Lt On Surface/Highest */\n",
       "        color: var(--tertiary-color);\n",
       "        border:none;\n",
       "        /* Inside auto layout */\n",
       "        flex: none;\n",
       "        order: 0;\n",
       "        flex-grow: 0;\n",
       "    }\n",
       "    .search-input:focus {\n",
       "        outline: none;\n",
       "    }\n",
       "        .search-input:focus::placeholder,\n",
       "    .search-input::placeholder { /* Chrome, Firefox, Opera, Safari 10.1+ */\n",
       "        color: var(--tertiary-color);\n",
       "        opacity: 1; /* Firefox */\n",
       "    }\n",
       "\n",
       "    .search-button{\n",
       "        /* Search */\n",
       "        leading-trim: both;\n",
       "        text-edge: cap;\n",
       "        display: flex;\n",
       "        align-items: center;\n",
       "        text-align: center;\n",
       "\n",
       "        /* Primary/On Light */\n",
       "        background-color: var(--button-color);\n",
       "        color: var(--tertiary-color);\n",
       "\n",
       "        border-radius: 30px;\n",
       "        border-color: var(--secondary-color);\n",
       "        border-style: solid;\n",
       "        box-shadow: rgba(60, 64, 67, 0.3) 0px 1px 2px 0px, rgba(60, 64, 67, 0.15) 0px 1px 3px 1px;\n",
       "        cursor: pointer;\n",
       "        /* Inside auto layout */\n",
       "        flex: none;\n",
       "        order: 1;\n",
       "        flex-grow: 0;\n",
       "    }\n",
       "\n",
       "    .grid-tablea31037d67dba426b85c2ed9381d444b5 {\n",
       "        display:grid;\n",
       "        grid-template-columns: 1fr repeat(12, 1fr);\n",
       "        grid-template-rows: repeat(2, 1fr);\n",
       "        overflow-x: auto;\n",
       "        position: relative;\n",
       "    }\n",
       "\n",
       "    .grid-std-cells {\n",
       "        grid-column: span 4;\n",
       "\n",
       "    }\n",
       "    .grid-index-cells {\n",
       "        grid-column: span 1;\n",
       "        /* tmp fix to make left col stand out (fix with font-family) */\n",
       "        font-weight: 600;\n",
       "        background-color: var(--secondary-color) !important;\n",
       "        color: var(--tertiary-color);\n",
       "    }\n",
       "\n",
       "    .grid-header {\n",
       "        /* Auto layout */\n",
       "        display: flex;\n",
       "        flex-direction: column;\n",
       "        align-items: center;\n",
       "        padding: 6px 4px;\n",
       "\n",
       "        resize: horizontal;\n",
       "        /* Lt On Surface/Surface */\n",
       "        /* Lt On Surface/High */\n",
       "        border: 1px solid #CFCDD6;\n",
       "        /* tmp fix to make header stand out (fix with font-family) */\n",
       "        font-weight: 600;\n",
       "        background-color: var(--secondary-color);\n",
       "        color: var(--tertiary-color);\n",
       "    }\n",
       "\n",
       "    .grid-row {\n",
       "        display: flex;\n",
       "        flex-direction: column;\n",
       "        align-items: flex-start;\n",
       "        padding: 6px 4px;\n",
       "        overflow: hidden;\n",
       "        border: 1px solid #CFCDD6;\n",
       "        background-color: var(--primary-color);\n",
       "        color: var(--tertiary-color);\n",
       "    }\n",
       "\n",
       "\n",
       "    .syncstate-col-footer {\n",
       "        font-family: 'DejaVu Sans Mono', 'Open Sans';\n",
       "        font-size: 12px;\n",
       "        font-weight: 400;\n",
       "        line-height: 16.8px;\n",
       "        text-align: left;\n",
       "        color: #5E5A72;\n",
       "    }\n",
       "\n",
       "    .syncstate-description {\n",
       "        font-family: Open Sans;\n",
       "        font-size: 14px;\n",
       "        font-weight: 600;\n",
       "        line-height: 19.6px;\n",
       "        text-align: left;\n",
       "    }\n",
       "\n",
       "    .diff-state-orange-text{\n",
       "        color: #B8520A;\n",
       "    }\n",
       "\n",
       "    .diff-state-no-obj{\n",
       "        font-family: 'DejaVu Sans Mono', 'Open Sans';\n",
       "        font-size: 12px;\n",
       "        font-weight: 400;\n",
       "        line-height: 16.8px;\n",
       "        text-align: left;\n",
       "        color: #5E5A72;\n",
       "    }\n",
       "\n",
       "    .diff-state-intro{\n",
       "        font-family: Open Sans;\n",
       "        font-size: 14px;\n",
       "        font-weight: 400;\n",
       "        line-height: 19.6px;\n",
       "        text-align: left;\n",
       "        color: #B4B0BF;\n",
       "    }\n",
       "\n",
       "    .diff-state-header{\n",
       "        font-family: Open Sans;\n",
       "        font-size: 22px;\n",
       "        font-weight: 600;\n",
       "        line-height: 30.8px;\n",
       "        text-align: left;\n",
       "        color: #353243;\n",
       "        display: flex; gap: 8px;\n",
       "    }\n",
       "\n",
       "    .diff-state-sub-header{\n",
       "        font-family: Open Sans;\n",
       "        font-size: 14px;\n",
       "        font-weight: 400;\n",
       "        line-height: 19.6px;\n",
       "        text-align: left;\n",
       "        color: #5E5A72;\n",
       "    }\n",
       "\n",
       "    .badge {\n",
       "        code-text;\n",
       "        border-radius: 30px;\n",
       "    }\n",
       "\n",
       "    .label {\n",
       "        code-text;\n",
       "        border-radius: 4px;\n",
       "    }\n",
       "\n",
       "    .label-light-purple {\n",
       "        label;\n",
       "        background-color: #C9CFE8;\n",
       "        color: #373B7B;\n",
       "\n",
       "    }\n",
       "\n",
       "    .label-light-blue {\n",
       "        label;\n",
       "        background-color: #C2DEF0;\n",
       "        color: #1F567A;\n",
       "\n",
       "    }\n",
       "\n",
       "    .label-orange {\n",
       "        badge;\n",
       "        background-color: #FEE9CD;\n",
       "        color: #B8520A;\n",
       "    }\n",
       "\n",
       "    .label-gray {\n",
       "        badge;\n",
       "        background-color: #ECEBEF;\n",
       "        color: #353243;\n",
       "    }\n",
       "\n",
       "    .label-green {\n",
       "        badge;\n",
       "        background-color: #D5F1D5;\n",
       "        color: #256B24;\n",
       "    }\n",
       "\n",
       "    .badge-blue {\n",
       "        badge;\n",
       "        background-color: #C2DEF0;\n",
       "        color: #1F567A;\n",
       "    }\n",
       "\n",
       "    .badge-purple {\n",
       "        badge;\n",
       "        background-color: #C9CFE8;\n",
       "        color: #373B7B;\n",
       "    }\n",
       "\n",
       "    .badge-green {\n",
       "        badge;\n",
       "\n",
       "        /* Success/Container */\n",
       "        background-color: #D5F1D5;\n",
       "        color: #256B24;\n",
       "    }\n",
       "\n",
       "    .badge-red {\n",
       "        badge;\n",
       "        background-color: #F2D9DE;\n",
       "        color: #9B2737;\n",
       "    }\n",
       "\n",
       "    .badge-gray {\n",
       "        badge;\n",
       "        background-color: #ECEBEF;\n",
       "        color: #2E2B3B;\n",
       "    }\n",
       "    .paginationContainer{\n",
       "        width: 100%;\n",
       "        /*height: 30px;*/\n",
       "        display: flex;\n",
       "        justify-content: center;\n",
       "        gap: 8px;\n",
       "        padding: 5px;\n",
       "        color: var(--tertiary-color);\n",
       "    }\n",
       "\n",
       "    .page{\n",
       "        color: black;\n",
       "        font-weight: bold;\n",
       "        color: var(--tertiary-color);\n",
       "    }\n",
       "    .page:hover {\n",
       "      color: #38bdf8;\n",
       "      cursor: pointer;\n",
       "    }\n",
       "    .clipboard:hover{\n",
       "        cursor: pointer;\n",
       "        color: var(--tertiary-color);\n",
       "    }\n",
       "\n",
       "    .search-field {\n",
       "        display: flex;\n",
       "        align-items: center;\n",
       "        border-radius: 30px;\n",
       "        background-color: var(--secondary-color);\n",
       "    }\n",
       "\n",
       "    .syft-dropdown {\n",
       "        margin: 5px;\n",
       "        margin-left: 5px;\n",
       "        position: relative;\n",
       "        display: inline-block;\n",
       "        text-align: center;\n",
       "        background-color: var(--button-color);\n",
       "        min-width: 100px;\n",
       "        padding: 2px;\n",
       "        border-radius: 30px;\n",
       "    }\n",
       "\n",
       "    .syft-dropdown:hover {\n",
       "        cursor: pointer;\n",
       "    }\n",
       "    .syft-dropdown-content {\n",
       "        margin-top:26px;\n",
       "        display: none;\n",
       "        position: absolute;\n",
       "        min-width: 100px;\n",
       "        box-shadow: 0px 8px 16px 0px rgba(0,0,0,0.2);\n",
       "        padding: 12px 6px;\n",
       "        z-index: 1;\n",
       "        background-color: var(--primary-color);\n",
       "        color: var(--tertiary-color);\n",
       "    }\n",
       "    .dd-options {\n",
       "        padding-top: 4px;\n",
       "    }\n",
       "    .dd-options:first-of-type {\n",
       "        padding-top: 0px;\n",
       "    }\n",
       "\n",
       "    .dd-options:hover {\n",
       "        cursor: pointer;\n",
       "        background: #d1d5db;\n",
       "    }\n",
       "    .arrow {\n",
       "        border: solid black;\n",
       "        border-width: 0 3px 3px 0;\n",
       "        display: inline-block;\n",
       "        padding: 3px;\n",
       "    }\n",
       "    .down {\n",
       "        transform: rotate(45deg);\n",
       "        -webkit-transform: rotate(45deg);\n",
       "    }\n",
       "</style>\n",
       "\n",
       "\n",
       "    <div style='margin-top:15px;'>\n",
       "        <div class='flex gap-10' style='align-items: center;'>\n",
       "            <div class='folder-icon'><svg width=\"32\" height=\"32\" viewBox=\"0 0 32 32\" fill=\"none\" xmlns=\"http://www.w3.org/2000/svg\"> <path d=\"M28 6H4C3.73478 6 3.48043 6.10536 3.29289 6.29289C3.10536 6.48043 3 6.73478 3 7V24C3 24.5304 3.21071 25.0391 3.58579 25.4142C3.96086 25.7893 4.46957 26 5 26H27C27.5304 26 28.0391 25.7893 28.4142 25.4142C28.7893 25.0391 29 24.5304 29 24V7C29 6.73478 28.8946 6.48043 28.7071 6.29289C28.5196 6.10536 28.2652 6 28 6ZM5 14H10V18H5V14ZM12 14H27V18H12V14ZM27 8V12H5V8H27ZM5 20H10V24H5V20ZM27 24H12V20H27V24Z\" fill=\"#343330\"/></svg></div>\n",
       "            <div><p class='header-3'>SyncStateRow List</p></div>\n",
       "        </div>\n",
       "\n",
       "            <div style=\"padding-top: 16px; display:flex;justify-content: space-between; align-items: center;\">\n",
       "                <div class='pt-25 gap-10' style=\"display:flex;\">\n",
       "                    <div class=\"search-field\">\n",
       "                        <div id='search-menua31037d67dba426b85c2ed9381d444b5' class=\"syft-dropdown\" onclick=\"{\n",
       "                            let doc = document.getElementById('search-dropdown-contenta31037d67dba426b85c2ed9381d444b5')\n",
       "                            if (doc.style.display === 'block'){\n",
       "                                doc.style.display = 'none'\n",
       "                            } else {\n",
       "                                doc.style.display = 'block'\n",
       "                            }\n",
       "                            }\">\n",
       "                            <div id='search-dropdown-contenta31037d67dba426b85c2ed9381d444b5' class='syft-dropdown-content'></div>\n",
       "                            <script>\n",
       "                                var elementa31037d67dba426b85c2ed9381d444b5 = [{\"Status\": {\"value\": \"SAME\", \"type\": \"label-gray\"}, \"Summary\": \"    <div style=\\\"display: flex; gap: 8px; justify-content: space-between; width: 100%;\\\">    <div>    <div class=\\\"label label-light-blue\\\">USERCODE</div> <span class='syncstate-description'>compute_mean</span>    </div>    </div>    <div style=\\\"display: table-row\\\">    <span class='syncstate-col-footer'>Updated by john@doe.org 29m ago</span>    </div>    \", \"Last Sync\": \"<p class='diff-state-no-obj'>n/a</p>\"}, {\"Status\": {\"value\": \"MODIFIED\", \"type\": \"label-orange\"}, \"Summary\": \"    <div style=\\\"display: flex; gap: 8px; justify-content: space-between; width: 100%;\\\">    <div>    <div class=\\\"label label-light-purple\\\">REQUEST</div> <span class='syncstate-description'>Execute compute_mean</span>    </div>    </div>    <div style=\\\"display: table-row\\\">    <span class='syncstate-col-footer'>approved \\u2022 Updated by john@doe.org 29m ago</span>    </div>    \", \"Last Sync\": \"<p class='diff-state-no-obj'>n/a</p>\"}, {\"Status\": {\"value\": \"NEW\", \"type\": \"label-green\"}, \"Summary\": \"    <div style=\\\"display: flex; gap: 8px; justify-content: space-between; width: 100%;\\\">    <div>    <div class=\\\"label label-light-blue\\\">JOB</div> <span class='syncstate-description'>compute_mean</span>    </div>    </div>    <div style=\\\"display: table-row\\\">    <span class='syncstate-col-footer'>Status: completed \\u2022 Updated by john@doe.org 29m ago</span>    </div>    \", \"Last Sync\": \"<p class='diff-state-no-obj'>n/a</p>\"}]\n",
       "                                var page_sizea31037d67dba426b85c2ed9381d444b5 = 3\n",
       "                                var pageIndexa31037d67dba426b85c2ed9381d444b5 = 1\n",
       "                                var paginatedElementsa31037d67dba426b85c2ed9381d444b5 = []\n",
       "                                var activeFiltera31037d67dba426b85c2ed9381d444b5;\n",
       "\n",
       "                                function buildDropDownMenu(elements){\n",
       "                                    let init_filter;\n",
       "                                    let menu = document.getElementById('search-dropdown-contenta31037d67dba426b85c2ed9381d444b5')\n",
       "                                    if (elements.length > 0) {\n",
       "                                        let sample = elements[0]\n",
       "                                        for (const attr in sample) {\n",
       "                                            if (typeof init_filter === 'undefined'){\n",
       "                                                init_filter = attr;\n",
       "                                            }\n",
       "                                            let content = document.createElement('div');\n",
       "                                            content.onclick = function(event) {\n",
       "                                                event.stopPropagation()\n",
       "                                                document.getElementById('menu-active-filtera31037d67dba426b85c2ed9381d444b5').innerText = attr;\n",
       "                                                activeFiltera31037d67dba426b85c2ed9381d444b5 = attr;\n",
       "                                                document.getElementById(\n",
       "                                                    'search-dropdown-contenta31037d67dba426b85c2ed9381d444b5'\n",
       "                                                ).style.display= 'none';\n",
       "                                            }\n",
       "                                            content.classList.add(\"dd-options\");\n",
       "                                            content.innerText = attr;\n",
       "                                            menu.appendChild(content);\n",
       "                                        }\n",
       "                                    } else {\n",
       "                                        let init_filter = '---'\n",
       "                                    }\n",
       "                                    let dropdown_field = document.getElementById('search-menua31037d67dba426b85c2ed9381d444b5')\n",
       "                                    let span = document.createElement('span')\n",
       "                                    span.setAttribute('id', 'menu-active-filtera31037d67dba426b85c2ed9381d444b5')\n",
       "                                    span.innerText = init_filter\n",
       "                                    activeFiltera31037d67dba426b85c2ed9381d444b5 = init_filter;\n",
       "                                    dropdown_field.appendChild(span)\n",
       "                                }\n",
       "\n",
       "                                buildDropDownMenu(elementa31037d67dba426b85c2ed9381d444b5)\n",
       "                            </script>\n",
       "                        </div>\n",
       "                        <input id='searchKeya31037d67dba426b85c2ed9381d444b5' class='search-input' placeholder='Enter search here ...'  />\n",
       "                    </div>\n",
       "                    <button class='search-button' type=\"button\" onclick=\"searchGrida31037d67dba426b85c2ed9381d444b5(elementa31037d67dba426b85c2ed9381d444b5)\">\n",
       "                        <svg width=\"11\" height=\"10\" viewBox=\"0 0 11 10\" fill=\"none\" xmlns=\"http://www.w3.org/2000/svg\"><path d=\"M10.5652 9.23467L8.21819 6.88811C8.89846 6.07141 9.23767 5.02389 9.16527 3.96345C9.09287 2.90302 8.61443 1.91132 7.82948 1.19466C7.04453 0.477995 6.01349 0.0915414 4.95087 0.115691C3.88824 0.139841 2.87583 0.572735 2.12425 1.32432C1.37266 2.0759 0.939768 3.08831 0.915618 4.15094C0.891468 5.21357 1.27792 6.2446 1.99459 7.02955C2.71125 7.8145 3.70295 8.29294 4.76338 8.36535C5.82381 8.43775 6.87134 8.09853 7.68804 7.41827L10.0346 9.7653C10.0694 9.80014 10.1108 9.82778 10.1563 9.84663C10.2018 9.86549 10.2506 9.87519 10.2999 9.87519C10.3492 9.87519 10.398 9.86549 10.4435 9.84663C10.489 9.82778 10.5304 9.80014 10.5652 9.7653C10.6001 9.73046 10.6277 9.68909 10.6466 9.64357C10.6654 9.59805 10.6751 9.54926 10.6751 9.49998C10.6751 9.45071 10.6654 9.40192 10.6466 9.3564C10.6277 9.31088 10.6001 9.26951 10.5652 9.23467ZM1.67491 4.24998C1.67491 3.58247 1.87285 2.92995 2.2437 2.37493C2.61455 1.81992 3.14165 1.38734 3.75835 1.13189C4.37506 0.876446 5.05366 0.809609 5.70834 0.939835C6.36303 1.07006 6.96439 1.3915 7.4364 1.8635C7.9084 2.3355 8.22984 2.93687 8.36006 3.59155C8.49029 4.24624 8.42345 4.92484 8.168 5.54154C7.91256 6.15824 7.47998 6.68535 6.92496 7.05619C6.36995 7.42704 5.71742 7.62498 5.04991 7.62498C4.15511 7.62399 3.29724 7.26809 2.66452 6.63537C2.0318 6.00265 1.6759 5.14479 1.67491 4.24998Z\" fill=\"currentColor\"/></svg>\n",
       "                        <span class='pl-8'>Search</span>\n",
       "                    </button>\n",
       "                </div>\n",
       "\n",
       "                <div><h4 id='totala31037d67dba426b85c2ed9381d444b5'>0</h4></div>\n",
       "            </div>\n",
       "            <div id='tablea31037d67dba426b85c2ed9381d444b5' class='grid-tablea31037d67dba426b85c2ed9381d444b5' style='margin-top: 25px;'>\n",
       "                <script>\n",
       "                    function paginatea31037d67dba426b85c2ed9381d444b5(arr, size) {\n",
       "                        const res = [];\n",
       "                        for (let i = 0; i < arr.length; i += size) {\n",
       "                            const chunk = arr.slice(i, i + size);\n",
       "                            res.push(chunk);\n",
       "                        }\n",
       "\n",
       "                        return res;\n",
       "                    }\n",
       "\n",
       "                    function searchGrida31037d67dba426b85c2ed9381d444b5(elements){\n",
       "                        let searchKey = document.getElementById('searchKeya31037d67dba426b85c2ed9381d444b5').value;\n",
       "                        let result;\n",
       "                        if (searchKey === ''){\n",
       "                            result = elements;\n",
       "                        } else {\n",
       "                            result = elements.filter((element) => {\n",
       "                                let property = element[activeFiltera31037d67dba426b85c2ed9381d444b5]\n",
       "                                if (typeof property === 'object' && property !== null){\n",
       "                                    return property.value.toLowerCase().includes(searchKey.toLowerCase());\n",
       "                                } else if (typeof property === 'string' ) {\n",
       "                                    return element[activeFiltera31037d67dba426b85c2ed9381d444b5].toLowerCase().includes(searchKey.toLowerCase());\n",
       "                                } else if (property !== null ) {\n",
       "                                    return element[activeFiltera31037d67dba426b85c2ed9381d444b5].toString() === searchKey;\n",
       "                                } else {\n",
       "                                    return element[activeFiltera31037d67dba426b85c2ed9381d444b5] === searchKey;\n",
       "                                }\n",
       "                            } );\n",
       "                        }\n",
       "                        resetByIda31037d67dba426b85c2ed9381d444b5('tablea31037d67dba426b85c2ed9381d444b5');\n",
       "                        resetByIda31037d67dba426b85c2ed9381d444b5('paga31037d67dba426b85c2ed9381d444b5');\n",
       "                        result = paginatea31037d67dba426b85c2ed9381d444b5(result, page_sizea31037d67dba426b85c2ed9381d444b5)\n",
       "                        paginatedElementsa31037d67dba426b85c2ed9381d444b5 = result\n",
       "                        buildGrida31037d67dba426b85c2ed9381d444b5(result,pageIndexa31037d67dba426b85c2ed9381d444b5);\n",
       "                        buildPaginationContainera31037d67dba426b85c2ed9381d444b5(result);\n",
       "                    }\n",
       "\n",
       "                    function resetByIda31037d67dba426b85c2ed9381d444b5(id){\n",
       "                        let element = document.getElementById(id);\n",
       "                        while (element.firstChild) {\n",
       "                          element.removeChild(element.firstChild);\n",
       "                        }\n",
       "                    }\n",
       "\n",
       "                    function buildGrida31037d67dba426b85c2ed9381d444b5(items, pageIndex){\n",
       "                                let headers = Object.keys(elementa31037d67dba426b85c2ed9381d444b5[0]);\n",
       "\n",
       "                                let grid = document.getElementById(\"tablea31037d67dba426b85c2ed9381d444b5\");\n",
       "                                let div = document.createElement(\"div\");\n",
       "                                div.classList.add('grid-header', 'grid-index-cells');\n",
       "                                grid.appendChild(div);\n",
       "                                headers.forEach((title) =>{\n",
       "                                    let div = document.createElement(\"div\");\n",
       "                                    div.classList.add('grid-header', 'grid-std-cells');\n",
       "                                    div.innerText = title;\n",
       "\n",
       "                                    grid.appendChild(div);\n",
       "                                });\n",
       "\n",
       "                                let page = items[pageIndex -1]\n",
       "                                if (page !== 'undefine'){\n",
       "                                    let table_indexa31037d67dba426b85c2ed9381d444b5 = ((pageIndex - 1) * page_sizea31037d67dba426b85c2ed9381d444b5)\n",
       "                                    page.forEach((item) => {\n",
       "                                        let grid = document.getElementById(\"tablea31037d67dba426b85c2ed9381d444b5\");\n",
       "                                        // Add new index value in index cells\n",
       "                                        let divIndex = document.createElement(\"div\");\n",
       "                                        divIndex.classList.add('grid-row', 'grid-index-cells');\n",
       "                                        divIndex.innerText = table_indexa31037d67dba426b85c2ed9381d444b5;\n",
       "                                        grid.appendChild(divIndex);\n",
       "\n",
       "                                        // Iterate over the actual obj\n",
       "                                        for (const attr in item) {\n",
       "                                            let div = document.createElement(\"div\");\n",
       "                                            if (typeof item[attr] === 'object'\n",
       "                                                && item[attr] !== null\n",
       "                                                && item[attr].hasOwnProperty('type')) {\n",
       "                                                if (item[attr].type.includes('badge')){\n",
       "                                                    let badge_div = document.createElement(\"div\");\n",
       "                                                    badge_div.classList.add('badge',item[attr].type)\n",
       "                                                    badge_div.innerText = String(item[attr].value).toUpperCase();\n",
       "                                                    div.appendChild(badge_div);\n",
       "                                                    div.classList.add('grid-row','grid-std-cells');\n",
       "                                                } else if (item[attr].type.includes('label')){\n",
       "                                                    let label_div = document.createElement(\"div\");\n",
       "                                                    label_div.classList.add('label',item[attr].type)\n",
       "                                                    label_div.innerText = String(item[attr].value).toUpperCase();\n",
       "                                                    div.appendChild(label_div);\n",
       "                                                    div.classList.add('grid-row','grid-std-cells');\n",
       "                                                } else if (item[attr].type === \"clipboard\") {\n",
       "                                                    div.classList.add('grid-row','grid-std-cells');\n",
       "\n",
       "                                                    // Create clipboard div\n",
       "                                                    let clipboard_div = document.createElement('div');\n",
       "                                                    clipboard_div.style.display= 'flex';\n",
       "                                                    clipboard_div.classList.add(\"gap-10\")\n",
       "                                                    clipboard_div.style.justifyContent = \"space-between\";\n",
       "\n",
       "                                                    let id_text = document.createElement('div');\n",
       "                                                    if (item[attr].value == \"None\"){\n",
       "                                                        id_text.innerText = \"None\";\n",
       "                                                    }\n",
       "                                                    else{\n",
       "                                                        id_text.innerText = item[attr].value.slice(0,5) + \"...\";\n",
       "                                                    }\n",
       "\n",
       "                                                    clipboard_div.appendChild(id_text);\n",
       "                                                    let clipboard_img = document.createElement('div');\n",
       "                                                    clipboard_img.classList.add(\"clipboard\")\n",
       "                                                    div.onclick = function() {\n",
       "                                                        navigator.clipboard.writeText(item[attr].value);\n",
       "                                                    };\n",
       "                                                    clipboard_img.innerHTML = \"<svg width='8' height='8' viewBox='0 0 8 8' fill='none' xmlns='http://www.w3.org/2000/svg'><path d='M7.4375 0.25H2.4375C2.35462 0.25 2.27513 0.282924 2.21653 0.341529C2.15792 0.400134 2.125 0.47962 2.125 0.5625V2.125H0.5625C0.47962 2.125 0.400134 2.15792 0.341529 2.21653C0.282924 2.27513 0.25 2.35462 0.25 2.4375V7.4375C0.25 7.52038 0.282924 7.59987 0.341529 7.65847C0.400134 7.71708 0.47962 7.75 0.5625 7.75H5.5625C5.64538 7.75 5.72487 7.71708 5.78347 7.65847C5.84208 7.59987 5.875 7.52038 5.875 7.4375V5.875H7.4375C7.52038 5.875 7.59987 5.84208 7.65847 5.78347C7.71708 5.72487 7.75 5.64538 7.75 5.5625V0.5625C7.75 0.47962 7.71708 0.400134 7.65847 0.341529C7.59987 0.282924 7.52038 0.25 7.4375 0.25ZM5.25 7.125H0.875V2.75H5.25V7.125ZM7.125 5.25H5.875V2.4375C5.875 2.35462 5.84208 2.27513 5.78347 2.21653C5.72487 2.15792 5.64538 2.125 5.5625 2.125H2.75V0.875H7.125V5.25Z' fill='#464158'/></svg>\";\n",
       "\n",
       "                                                    clipboard_div.appendChild(clipboard_img);\n",
       "                                                    div.appendChild(clipboard_div);\n",
       "                                                }\n",
       "                                            } else{\n",
       "                                                div.classList.add('grid-row','grid-std-cells');\n",
       "                                                if (item[attr] == null) {\n",
       "                                                    text = ' '\n",
       "                                                } else {\n",
       "                                                    text = String(item[attr])\n",
       "                                                }\n",
       "\n",
       "                                                text = text.replaceAll(\"\\n\", \"</br>\");\n",
       "                                                div.innerHTML = text;\n",
       "                                            }\n",
       "                                            grid.appendChild(div);\n",
       "                                        }\n",
       "                                    table_indexa31037d67dba426b85c2ed9381d444b5 = table_indexa31037d67dba426b85c2ed9381d444b5 + 1;\n",
       "                                    })\n",
       "                                }\n",
       "                    }\n",
       "                    paginatedElementsa31037d67dba426b85c2ed9381d444b5 = paginatea31037d67dba426b85c2ed9381d444b5(elementa31037d67dba426b85c2ed9381d444b5, page_sizea31037d67dba426b85c2ed9381d444b5)\n",
       "                    buildGrida31037d67dba426b85c2ed9381d444b5(paginatedElementsa31037d67dba426b85c2ed9381d444b5, 1)\n",
       "                    document.getElementById('totala31037d67dba426b85c2ed9381d444b5').innerText = \"Total: \" + elementa31037d67dba426b85c2ed9381d444b5.length\n",
       "                </script>\n",
       "            </div>\n",
       "            <div id='paga31037d67dba426b85c2ed9381d444b5' class='paginationContainer'>\n",
       "                <script>\n",
       "                    function buildPaginationContainera31037d67dba426b85c2ed9381d444b5(paginatedElements){\n",
       "                            let pageContainer = document.getElementById(\"paga31037d67dba426b85c2ed9381d444b5\");\n",
       "                            for (let i = 0; i < paginatedElements.length; i++) {\n",
       "                                  let div = document.createElement(\"div\");\n",
       "                                  div.classList.add('page');\n",
       "                                  if(i===0) div.style.color = \"gray\";\n",
       "                                  else div.style.color = 'var(--tertiary-color, \"gray\")';\n",
       "                                  div.onclick = function(event) {\n",
       "                                      let indexes = document.getElementsByClassName('page');\n",
       "                                      for (let index of indexes) { index.style.color = 'var(--tertiary-color, \"gray\")' }\n",
       "                                      event.target.style.color = \"gray\";\n",
       "                                      setPagea31037d67dba426b85c2ed9381d444b5(i + 1);\n",
       "                                  };\n",
       "                                  div.innerText = i + 1;\n",
       "                                  pageContainer.appendChild(div);\n",
       "                            }\n",
       "                    }\n",
       "\n",
       "                    function setPagea31037d67dba426b85c2ed9381d444b5(newPage){\n",
       "                        pageIndex = newPage\n",
       "                        resetByIda31037d67dba426b85c2ed9381d444b5('tablea31037d67dba426b85c2ed9381d444b5')\n",
       "                        buildGrida31037d67dba426b85c2ed9381d444b5(paginatedElementsa31037d67dba426b85c2ed9381d444b5, pageIndex)\n",
       "                    }\n",
       "                    (async function() {\n",
       "                        const myFont = new FontFace('DejaVu Sans', 'url(https://cdn.jsdelivr.net/npm/dejavu-sans@1.0.0/css/dejavu-sans.min.css)');\n",
       "                        await myFont.load();\n",
       "                        document.fonts.add(myFont);\n",
       "                        document.getElementsByTagName('h1')[0].style.fontFamily = \"DejaVu Sans\";\n",
       "                    })();\n",
       "\n",
       "                    buildPaginationContainera31037d67dba426b85c2ed9381d444b5(paginatedElementsa31037d67dba426b85c2ed9381d444b5)\n",
       "                </script>\n",
       "            </div>\n",
       "        </div>\n"
      ],
      "text/markdown": [
       "```python\n",
       "class SyncState:\n",
       "  id: str = f7a65affd39b4064847df7d3249180f8\n",
       "\n",
       "```"
      ],
      "text/plain": [
       "syft.service.sync.sync_state.SyncState"
      ]
     },
     "execution_count": 39,
     "metadata": {},
     "output_type": "execute_result"
    }
   ],
   "source": [
    "high_state"
   ]
  },
  {
   "cell_type": "code",
   "execution_count": 40,
   "id": "4e65a96d-c28e-435c-9539-1d0ad42b099e",
   "metadata": {},
   "outputs": [],
   "source": [
    "diff_state_2 = compare_states(high_state, low_state)"
   ]
  },
  {
   "cell_type": "code",
   "execution_count": 41,
   "id": "dc85ec4d",
   "metadata": {},
   "outputs": [
    {
     "data": {
      "text/html": [
       "        <p style=\"margin-bottom:16px;\"></p>        <div class=\"diff-state-intro\">Comparing sync states</div>        <p style=\"margin-bottom:16px;\"></p>        <div class=\"diff-state-header\"><span>Private Node</span> <svg width=\"24\" height=\"24\" viewBox=\"0 0 24 24\" fill=\"none\" xmlns=\"http://www.w3.org/2000/svg\"><rect x=\"0.5\" y=\"0.5\" width=\"23\" height=\"23\" rx=\"1.5\" fill=\"#ECEBEF\"/><rect x=\"0.5\" y=\"0.5\" width=\"23\" height=\"23\" rx=\"1.5\" stroke=\"#B4B0BF\"/><path d=\"M17.8538 12.3538L13.3538 16.8538C13.2599 16.9476 13.1327 17.0003 13 17.0003C12.8673 17.0003 12.7401 16.9476 12.6462 16.8538C12.5524 16.76 12.4997 16.6327 12.4997 16.5C12.4997 16.3674 12.5524 16.2401 12.6462 16.1463L16.2931 12.5H6.5C6.36739 12.5 6.24021 12.4474 6.14645 12.3536C6.05268 12.2598 6 12.1326 6 12C6 11.8674 6.05268 11.7402 6.14645 11.6465C6.24021 11.5527 6.36739 11.5 6.5 11.5H16.2931L12.6462 7.85378C12.5524 7.75996 12.4997 7.63272 12.4997 7.50003C12.4997 7.36735 12.5524 7.2401 12.6462 7.14628C12.7401 7.05246 12.8673 6.99976 13 6.99976C13.1327 6.99976 13.2599 7.05246 13.3538 7.14628L17.8538 11.6463C17.9002 11.6927 17.9371 11.7479 17.9623 11.8086C17.9874 11.8693 18.0004 11.9343 18.0004 12C18.0004 12.0657 17.9874 12.1308 17.9623 12.1915C17.9371 12.2522 17.9002 12.3073 17.8538 12.3538Z\" fill=\"#5E5A72\"/></svg> <span>Public Node</span></div>        <p style=\"margin-bottom:16px;\"></p>        <div class=\"diff-state-sub-header\"> This would sync <span class=\"diff-state-orange-text\">3 batches</span> from <i>Private Node</i> to <i>Public Node</i></div>        \n",
       "<style>\n",
       "  body[data-jp-theme-light='false'] {\n",
       "        --primary-color: #111111;\n",
       "        --secondary-color: #212121;\n",
       "        --tertiary-color: #CFCDD6;\n",
       "        --button-color: #111111;\n",
       "  }\n",
       "\n",
       "  body {\n",
       "        --primary-color: #ffffff;\n",
       "        --secondary-color: #f5f5f5;\n",
       "        --tertiary-color: #000000de;\n",
       "        --button-color: #d1d5db;\n",
       "  }\n",
       "\n",
       "  .header-1 {\n",
       "        font-style: normal;\n",
       "        font-weight: 600;\n",
       "        font-size: 2.0736em;\n",
       "        line-height: 100%;\n",
       "        leading-trim: both;\n",
       "        text-edge: cap;\n",
       "        color: #17161D;\n",
       "    }\n",
       "\n",
       "  .header-2 {\n",
       "        font-style: normal;\n",
       "        font-weight: 600;\n",
       "        font-size: 1.728em;\n",
       "        line-height: 100%;\n",
       "        leading-trim: both;\n",
       "        text-edge: cap;\n",
       "        color: #17161D;\n",
       "    }\n",
       "\n",
       "  .header-3 {\n",
       "        font-style: normal;\n",
       "        font-weight: 600;\n",
       "        font-size:  1.44em;\n",
       "        line-height: 100%;\n",
       "        leading-trim: both;\n",
       "        text-edge: cap;\n",
       "        color: var(--tertiary-color);\n",
       "    }\n",
       "\n",
       "  .header-4 {\n",
       "        font-style: normal;\n",
       "        font-weight: 600;\n",
       "        font-size: 1.2em;\n",
       "        line-height: 100%;\n",
       "        leading-trim: both;\n",
       "        text-edge: cap;\n",
       "        color: #17161D;\n",
       "    }\n",
       "\n",
       "    .paragraph {\n",
       "        font-style: normal;\n",
       "        font-weight: 400;\n",
       "        font-size: 14px;\n",
       "        line-height: 100%;\n",
       "        leading-trim: both;\n",
       "        text-edge: cap;\n",
       "        color: #2E2B3B;\n",
       "    }\n",
       "\n",
       "    .paragraph-sm {\n",
       "        font-family: 'Roboto';\n",
       "        font-style: normal;\n",
       "        font-weight: 400;\n",
       "        font-size: 11.62px;\n",
       "        line-height: 100%;\n",
       "        leading-trim: both;\n",
       "        text-edge: cap;\n",
       "        color: #2E2B3B;\n",
       "    }\n",
       "    .code-text {\n",
       "        font-family: 'Consolas';\n",
       "        font-style: normal;\n",
       "        font-weight: 400;\n",
       "        font-size: 13px;\n",
       "        line-height: 130%;\n",
       "        leading-trim: both;\n",
       "        text-edge: cap;\n",
       "        color: #2E2B3B;\n",
       "    }\n",
       "\n",
       "    .numbering-entry { display: none }\n",
       "\n",
       "    /* Tooltip container */\n",
       "    .tooltip {\n",
       "        position: relative;\n",
       "        display: inline-block;\n",
       "        border-bottom: 1px dotted black; /* If you want dots under the hoverable text */\n",
       "    }\n",
       "\n",
       "    /* Tooltip text */\n",
       "    .tooltip .tooltiptext {\n",
       "        visibility: hidden;\n",
       "        width: 120px;\n",
       "        background-color: black;\n",
       "        color: #fff;\n",
       "        text-align: center;\n",
       "        padding: 5px 0;\n",
       "        border-radius: 6px;\n",
       "\n",
       "        /* Position the tooltip text - see examples below! */\n",
       "        position: absolute;\n",
       "        z-index: 1;\n",
       "    }\n",
       "\n",
       "    .repr-cell {\n",
       "      padding-top: 20px;\n",
       "    }\n",
       "\n",
       "    .text-bold {\n",
       "        font-weight: bold;\n",
       "    }\n",
       "\n",
       "    .pr-8 {\n",
       "        padding-right: 8px;\n",
       "    }\n",
       "    .pt-8 {\n",
       "        padding-top: 8px;\n",
       "    }\n",
       "    .pl-8 {\n",
       "        padding-left: 8px;\n",
       "    }\n",
       "    .pb-8 {\n",
       "        padding-bottom: 8px;\n",
       "    }\n",
       "\n",
       "    .py-25{\n",
       "        padding-top: 25px;\n",
       "        padding-bottom: 25px;\n",
       "    }\n",
       "\n",
       "    .flex {\n",
       "        display: flex;\n",
       "    }\n",
       "\n",
       "    .gap-10 {\n",
       "        gap: 10px;\n",
       "    }\n",
       "    .items-center{\n",
       "        align-items: center;\n",
       "    }\n",
       "\n",
       "    .folder-icon {\n",
       "        color: var(--tertiary-color);\n",
       "    }\n",
       "\n",
       "    .search-input{\n",
       "        display: flex;\n",
       "        flex-direction: row;\n",
       "        align-items: center;\n",
       "        padding: 8px 12px;\n",
       "        width: 343px;\n",
       "        height: 24px;\n",
       "        /* Lt On Surface/Low */\n",
       "        background-color: var(--secondary-color);\n",
       "        border-radius: 30px;\n",
       "\n",
       "        /* Lt On Surface/Highest */\n",
       "        color: var(--tertiary-color);\n",
       "        border:none;\n",
       "        /* Inside auto layout */\n",
       "        flex: none;\n",
       "        order: 0;\n",
       "        flex-grow: 0;\n",
       "    }\n",
       "    .search-input:focus {\n",
       "        outline: none;\n",
       "    }\n",
       "        .search-input:focus::placeholder,\n",
       "    .search-input::placeholder { /* Chrome, Firefox, Opera, Safari 10.1+ */\n",
       "        color: var(--tertiary-color);\n",
       "        opacity: 1; /* Firefox */\n",
       "    }\n",
       "\n",
       "    .search-button{\n",
       "        /* Search */\n",
       "        leading-trim: both;\n",
       "        text-edge: cap;\n",
       "        display: flex;\n",
       "        align-items: center;\n",
       "        text-align: center;\n",
       "\n",
       "        /* Primary/On Light */\n",
       "        background-color: var(--button-color);\n",
       "        color: var(--tertiary-color);\n",
       "\n",
       "        border-radius: 30px;\n",
       "        border-color: var(--secondary-color);\n",
       "        border-style: solid;\n",
       "        box-shadow: rgba(60, 64, 67, 0.3) 0px 1px 2px 0px, rgba(60, 64, 67, 0.15) 0px 1px 3px 1px;\n",
       "        cursor: pointer;\n",
       "        /* Inside auto layout */\n",
       "        flex: none;\n",
       "        order: 1;\n",
       "        flex-grow: 0;\n",
       "    }\n",
       "\n",
       "    .grid-tabled5c35c563c6445c5b4910148d6d6e5ea {\n",
       "        display:grid;\n",
       "        grid-template-columns: 1fr repeat(12, 1fr);\n",
       "        grid-template-rows: repeat(2, 1fr);\n",
       "        overflow-x: auto;\n",
       "        position: relative;\n",
       "    }\n",
       "\n",
       "    .grid-std-cells {\n",
       "        grid-column: span 4;\n",
       "\n",
       "    }\n",
       "    .grid-index-cells {\n",
       "        grid-column: span 1;\n",
       "        /* tmp fix to make left col stand out (fix with font-family) */\n",
       "        font-weight: 600;\n",
       "        background-color: var(--secondary-color) !important;\n",
       "        color: var(--tertiary-color);\n",
       "    }\n",
       "\n",
       "    .grid-header {\n",
       "        /* Auto layout */\n",
       "        display: flex;\n",
       "        flex-direction: column;\n",
       "        align-items: center;\n",
       "        padding: 6px 4px;\n",
       "\n",
       "        resize: horizontal;\n",
       "        /* Lt On Surface/Surface */\n",
       "        /* Lt On Surface/High */\n",
       "        border: 1px solid #CFCDD6;\n",
       "        /* tmp fix to make header stand out (fix with font-family) */\n",
       "        font-weight: 600;\n",
       "        background-color: var(--secondary-color);\n",
       "        color: var(--tertiary-color);\n",
       "    }\n",
       "\n",
       "    .grid-row {\n",
       "        display: flex;\n",
       "        flex-direction: column;\n",
       "        align-items: flex-start;\n",
       "        padding: 6px 4px;\n",
       "        overflow: hidden;\n",
       "        border: 1px solid #CFCDD6;\n",
       "        background-color: var(--primary-color);\n",
       "        color: var(--tertiary-color);\n",
       "    }\n",
       "\n",
       "\n",
       "    .syncstate-col-footer {\n",
       "        font-family: 'DejaVu Sans Mono', 'Open Sans';\n",
       "        font-size: 12px;\n",
       "        font-weight: 400;\n",
       "        line-height: 16.8px;\n",
       "        text-align: left;\n",
       "        color: #5E5A72;\n",
       "    }\n",
       "\n",
       "    .syncstate-description {\n",
       "        font-family: Open Sans;\n",
       "        font-size: 14px;\n",
       "        font-weight: 600;\n",
       "        line-height: 19.6px;\n",
       "        text-align: left;\n",
       "    }\n",
       "\n",
       "    .diff-state-orange-text{\n",
       "        color: #B8520A;\n",
       "    }\n",
       "\n",
       "    .diff-state-no-obj{\n",
       "        font-family: 'DejaVu Sans Mono', 'Open Sans';\n",
       "        font-size: 12px;\n",
       "        font-weight: 400;\n",
       "        line-height: 16.8px;\n",
       "        text-align: left;\n",
       "        color: #5E5A72;\n",
       "    }\n",
       "\n",
       "    .diff-state-intro{\n",
       "        font-family: Open Sans;\n",
       "        font-size: 14px;\n",
       "        font-weight: 400;\n",
       "        line-height: 19.6px;\n",
       "        text-align: left;\n",
       "        color: #B4B0BF;\n",
       "    }\n",
       "\n",
       "    .diff-state-header{\n",
       "        font-family: Open Sans;\n",
       "        font-size: 22px;\n",
       "        font-weight: 600;\n",
       "        line-height: 30.8px;\n",
       "        text-align: left;\n",
       "        color: #353243;\n",
       "        display: flex; gap: 8px;\n",
       "    }\n",
       "\n",
       "    .diff-state-sub-header{\n",
       "        font-family: Open Sans;\n",
       "        font-size: 14px;\n",
       "        font-weight: 400;\n",
       "        line-height: 19.6px;\n",
       "        text-align: left;\n",
       "        color: #5E5A72;\n",
       "    }\n",
       "\n",
       "    .badge {\n",
       "        code-text;\n",
       "        border-radius: 30px;\n",
       "    }\n",
       "\n",
       "    .label {\n",
       "        code-text;\n",
       "        border-radius: 4px;\n",
       "    }\n",
       "\n",
       "    .label-light-purple {\n",
       "        label;\n",
       "        background-color: #C9CFE8;\n",
       "        color: #373B7B;\n",
       "\n",
       "    }\n",
       "\n",
       "    .label-light-blue {\n",
       "        label;\n",
       "        background-color: #C2DEF0;\n",
       "        color: #1F567A;\n",
       "\n",
       "    }\n",
       "\n",
       "    .label-orange {\n",
       "        badge;\n",
       "        background-color: #FEE9CD;\n",
       "        color: #B8520A;\n",
       "    }\n",
       "\n",
       "    .label-gray {\n",
       "        badge;\n",
       "        background-color: #ECEBEF;\n",
       "        color: #353243;\n",
       "    }\n",
       "\n",
       "    .label-green {\n",
       "        badge;\n",
       "        background-color: #D5F1D5;\n",
       "        color: #256B24;\n",
       "    }\n",
       "\n",
       "    .badge-blue {\n",
       "        badge;\n",
       "        background-color: #C2DEF0;\n",
       "        color: #1F567A;\n",
       "    }\n",
       "\n",
       "    .badge-purple {\n",
       "        badge;\n",
       "        background-color: #C9CFE8;\n",
       "        color: #373B7B;\n",
       "    }\n",
       "\n",
       "    .badge-green {\n",
       "        badge;\n",
       "\n",
       "        /* Success/Container */\n",
       "        background-color: #D5F1D5;\n",
       "        color: #256B24;\n",
       "    }\n",
       "\n",
       "    .badge-red {\n",
       "        badge;\n",
       "        background-color: #F2D9DE;\n",
       "        color: #9B2737;\n",
       "    }\n",
       "\n",
       "    .badge-gray {\n",
       "        badge;\n",
       "        background-color: #ECEBEF;\n",
       "        color: #2E2B3B;\n",
       "    }\n",
       "    .paginationContainer{\n",
       "        width: 100%;\n",
       "        /*height: 30px;*/\n",
       "        display: flex;\n",
       "        justify-content: center;\n",
       "        gap: 8px;\n",
       "        padding: 5px;\n",
       "        color: var(--tertiary-color);\n",
       "    }\n",
       "\n",
       "    .page{\n",
       "        color: black;\n",
       "        font-weight: bold;\n",
       "        color: var(--tertiary-color);\n",
       "    }\n",
       "    .page:hover {\n",
       "      color: #38bdf8;\n",
       "      cursor: pointer;\n",
       "    }\n",
       "    .clipboard:hover{\n",
       "        cursor: pointer;\n",
       "        color: var(--tertiary-color);\n",
       "    }\n",
       "\n",
       "    .search-field {\n",
       "        display: flex;\n",
       "        align-items: center;\n",
       "        border-radius: 30px;\n",
       "        background-color: var(--secondary-color);\n",
       "    }\n",
       "\n",
       "    .syft-dropdown {\n",
       "        margin: 5px;\n",
       "        margin-left: 5px;\n",
       "        position: relative;\n",
       "        display: inline-block;\n",
       "        text-align: center;\n",
       "        background-color: var(--button-color);\n",
       "        min-width: 100px;\n",
       "        padding: 2px;\n",
       "        border-radius: 30px;\n",
       "    }\n",
       "\n",
       "    .syft-dropdown:hover {\n",
       "        cursor: pointer;\n",
       "    }\n",
       "    .syft-dropdown-content {\n",
       "        margin-top:26px;\n",
       "        display: none;\n",
       "        position: absolute;\n",
       "        min-width: 100px;\n",
       "        box-shadow: 0px 8px 16px 0px rgba(0,0,0,0.2);\n",
       "        padding: 12px 6px;\n",
       "        z-index: 1;\n",
       "        background-color: var(--primary-color);\n",
       "        color: var(--tertiary-color);\n",
       "    }\n",
       "    .dd-options {\n",
       "        padding-top: 4px;\n",
       "    }\n",
       "    .dd-options:first-of-type {\n",
       "        padding-top: 0px;\n",
       "    }\n",
       "\n",
       "    .dd-options:hover {\n",
       "        cursor: pointer;\n",
       "        background: #d1d5db;\n",
       "    }\n",
       "    .arrow {\n",
       "        border: solid black;\n",
       "        border-width: 0 3px 3px 0;\n",
       "        display: inline-block;\n",
       "        padding: 3px;\n",
       "    }\n",
       "    .down {\n",
       "        transform: rotate(45deg);\n",
       "        -webkit-transform: rotate(45deg);\n",
       "    }\n",
       "</style>\n",
       "\n",
       "\n",
       "    <div style='margin-top:15px;'>\n",
       "        <div class='flex gap-10' style='align-items: center;'>\n",
       "            <div class='folder-icon'><svg width=\"32\" height=\"32\" viewBox=\"0 0 32 32\" fill=\"none\" xmlns=\"http://www.w3.org/2000/svg\"> <path d=\"M28 6H4C3.73478 6 3.48043 6.10536 3.29289 6.29289C3.10536 6.48043 3 6.73478 3 7V24C3 24.5304 3.21071 25.0391 3.58579 25.4142C3.96086 25.7893 4.46957 26 5 26H27C27.5304 26 28.0391 25.7893 28.4142 25.4142C28.7893 25.0391 29 24.5304 29 24V7C29 6.73478 28.8946 6.48043 28.7071 6.29289C28.5196 6.10536 28.2652 6 28 6ZM5 14H10V18H5V14ZM12 14H27V18H12V14ZM27 8V12H5V8H27ZM5 20H10V24H5V20ZM27 24H12V20H27V24Z\" fill=\"#343330\"/></svg></div>\n",
       "            <div><p class='header-3'>ObjectDiffBatch List</p></div>\n",
       "        </div>\n",
       "\n",
       "            <div style=\"padding-top: 16px; display:flex;justify-content: space-between; align-items: center;\">\n",
       "                <div class='pt-25 gap-10' style=\"display:flex;\">\n",
       "                    <div class=\"search-field\">\n",
       "                        <div id='search-menud5c35c563c6445c5b4910148d6d6e5ea' class=\"syft-dropdown\" onclick=\"{\n",
       "                            let doc = document.getElementById('search-dropdown-contentd5c35c563c6445c5b4910148d6d6e5ea')\n",
       "                            if (doc.style.display === 'block'){\n",
       "                                doc.style.display = 'none'\n",
       "                            } else {\n",
       "                                doc.style.display = 'block'\n",
       "                            }\n",
       "                            }\">\n",
       "                            <div id='search-dropdown-contentd5c35c563c6445c5b4910148d6d6e5ea' class='syft-dropdown-content'></div>\n",
       "                            <script>\n",
       "                                var elementd5c35c563c6445c5b4910148d6d6e5ea = [{\"Merge status\": {\"value\": \"SAME\", \"type\": \"label-gray\"}, \"Public Sync State\": \"    <div style=\\\"display: flex; gap: 8px; justify-content: space-between; width: 100%;\\\">    <div>    <div class=\\\"label label-light-blue\\\">USERCODE</div> <span class='syncstate-description'>compute_mean</span>    </div>    </div>    <div style=\\\"display: table-row\\\">    <span class='syncstate-col-footer'>Updated by john@doe.org 29m ago</span>    </div>    \", \"Private sync state\": \"    <div style=\\\"display: flex; gap: 8px; justify-content: space-between; width: 100%;\\\">    <div>    <div class=\\\"label label-light-blue\\\">USERCODE</div> <span class='syncstate-description'>compute_mean</span>    </div>    </div>    <div style=\\\"display: table-row\\\">    <span class='syncstate-col-footer'>Updated by john@doe.org 29m ago</span>    </div>    \"}, {\"Merge status\": {\"value\": \"MODIFIED\", \"type\": \"label-orange\"}, \"Public Sync State\": \"    <div style=\\\"display: flex; gap: 8px; justify-content: space-between; width: 100%;\\\">    <div>    <div class=\\\"label label-light-purple\\\">REQUEST</div> <span class='syncstate-description'>Execute compute_mean</span>    </div>    </div>    <div style=\\\"display: table-row\\\">    <span class='syncstate-col-footer'>pending \\u2022 Updated by john@doe.org 29m ago</span>    </div>    \", \"Private sync state\": \"    <div style=\\\"display: flex; gap: 8px; justify-content: space-between; width: 100%;\\\">    <div>    <div class=\\\"label label-light-purple\\\">REQUEST</div> <span class='syncstate-description'>Execute compute_mean</span>    </div>    </div>    <div style=\\\"display: table-row\\\">    <span class='syncstate-col-footer'>approved \\u2022 Updated by john@doe.org 29m ago</span>    </div>    \"}, {\"Merge status\": {\"value\": \"NEW\", \"type\": \"label-green\"}, \"Public Sync State\": \"<p class='diff-state-no-obj'>No object detected</p>\", \"Private sync state\": \"    <div style=\\\"display: flex; gap: 8px; justify-content: space-between; width: 100%;\\\">    <div>    <div class=\\\"label label-light-blue\\\">JOB</div> <span class='syncstate-description'>compute_mean</span>    </div>    </div>    <div style=\\\"display: table-row\\\">    <span class='syncstate-col-footer'>Status: completed \\u2022 Updated by john@doe.org 29m ago</span>    </div>    \"}]\n",
       "                                var page_sized5c35c563c6445c5b4910148d6d6e5ea = 3\n",
       "                                var pageIndexd5c35c563c6445c5b4910148d6d6e5ea = 1\n",
       "                                var paginatedElementsd5c35c563c6445c5b4910148d6d6e5ea = []\n",
       "                                var activeFilterd5c35c563c6445c5b4910148d6d6e5ea;\n",
       "\n",
       "                                function buildDropDownMenu(elements){\n",
       "                                    let init_filter;\n",
       "                                    let menu = document.getElementById('search-dropdown-contentd5c35c563c6445c5b4910148d6d6e5ea')\n",
       "                                    if (elements.length > 0) {\n",
       "                                        let sample = elements[0]\n",
       "                                        for (const attr in sample) {\n",
       "                                            if (typeof init_filter === 'undefined'){\n",
       "                                                init_filter = attr;\n",
       "                                            }\n",
       "                                            let content = document.createElement('div');\n",
       "                                            content.onclick = function(event) {\n",
       "                                                event.stopPropagation()\n",
       "                                                document.getElementById('menu-active-filterd5c35c563c6445c5b4910148d6d6e5ea').innerText = attr;\n",
       "                                                activeFilterd5c35c563c6445c5b4910148d6d6e5ea = attr;\n",
       "                                                document.getElementById(\n",
       "                                                    'search-dropdown-contentd5c35c563c6445c5b4910148d6d6e5ea'\n",
       "                                                ).style.display= 'none';\n",
       "                                            }\n",
       "                                            content.classList.add(\"dd-options\");\n",
       "                                            content.innerText = attr;\n",
       "                                            menu.appendChild(content);\n",
       "                                        }\n",
       "                                    } else {\n",
       "                                        let init_filter = '---'\n",
       "                                    }\n",
       "                                    let dropdown_field = document.getElementById('search-menud5c35c563c6445c5b4910148d6d6e5ea')\n",
       "                                    let span = document.createElement('span')\n",
       "                                    span.setAttribute('id', 'menu-active-filterd5c35c563c6445c5b4910148d6d6e5ea')\n",
       "                                    span.innerText = init_filter\n",
       "                                    activeFilterd5c35c563c6445c5b4910148d6d6e5ea = init_filter;\n",
       "                                    dropdown_field.appendChild(span)\n",
       "                                }\n",
       "\n",
       "                                buildDropDownMenu(elementd5c35c563c6445c5b4910148d6d6e5ea)\n",
       "                            </script>\n",
       "                        </div>\n",
       "                        <input id='searchKeyd5c35c563c6445c5b4910148d6d6e5ea' class='search-input' placeholder='Enter search here ...'  />\n",
       "                    </div>\n",
       "                    <button class='search-button' type=\"button\" onclick=\"searchGridd5c35c563c6445c5b4910148d6d6e5ea(elementd5c35c563c6445c5b4910148d6d6e5ea)\">\n",
       "                        <svg width=\"11\" height=\"10\" viewBox=\"0 0 11 10\" fill=\"none\" xmlns=\"http://www.w3.org/2000/svg\"><path d=\"M10.5652 9.23467L8.21819 6.88811C8.89846 6.07141 9.23767 5.02389 9.16527 3.96345C9.09287 2.90302 8.61443 1.91132 7.82948 1.19466C7.04453 0.477995 6.01349 0.0915414 4.95087 0.115691C3.88824 0.139841 2.87583 0.572735 2.12425 1.32432C1.37266 2.0759 0.939768 3.08831 0.915618 4.15094C0.891468 5.21357 1.27792 6.2446 1.99459 7.02955C2.71125 7.8145 3.70295 8.29294 4.76338 8.36535C5.82381 8.43775 6.87134 8.09853 7.68804 7.41827L10.0346 9.7653C10.0694 9.80014 10.1108 9.82778 10.1563 9.84663C10.2018 9.86549 10.2506 9.87519 10.2999 9.87519C10.3492 9.87519 10.398 9.86549 10.4435 9.84663C10.489 9.82778 10.5304 9.80014 10.5652 9.7653C10.6001 9.73046 10.6277 9.68909 10.6466 9.64357C10.6654 9.59805 10.6751 9.54926 10.6751 9.49998C10.6751 9.45071 10.6654 9.40192 10.6466 9.3564C10.6277 9.31088 10.6001 9.26951 10.5652 9.23467ZM1.67491 4.24998C1.67491 3.58247 1.87285 2.92995 2.2437 2.37493C2.61455 1.81992 3.14165 1.38734 3.75835 1.13189C4.37506 0.876446 5.05366 0.809609 5.70834 0.939835C6.36303 1.07006 6.96439 1.3915 7.4364 1.8635C7.9084 2.3355 8.22984 2.93687 8.36006 3.59155C8.49029 4.24624 8.42345 4.92484 8.168 5.54154C7.91256 6.15824 7.47998 6.68535 6.92496 7.05619C6.36995 7.42704 5.71742 7.62498 5.04991 7.62498C4.15511 7.62399 3.29724 7.26809 2.66452 6.63537C2.0318 6.00265 1.6759 5.14479 1.67491 4.24998Z\" fill=\"currentColor\"/></svg>\n",
       "                        <span class='pl-8'>Search</span>\n",
       "                    </button>\n",
       "                </div>\n",
       "\n",
       "                <div><h4 id='totald5c35c563c6445c5b4910148d6d6e5ea'>0</h4></div>\n",
       "            </div>\n",
       "            <div id='tabled5c35c563c6445c5b4910148d6d6e5ea' class='grid-tabled5c35c563c6445c5b4910148d6d6e5ea' style='margin-top: 25px;'>\n",
       "                <script>\n",
       "                    function paginated5c35c563c6445c5b4910148d6d6e5ea(arr, size) {\n",
       "                        const res = [];\n",
       "                        for (let i = 0; i < arr.length; i += size) {\n",
       "                            const chunk = arr.slice(i, i + size);\n",
       "                            res.push(chunk);\n",
       "                        }\n",
       "\n",
       "                        return res;\n",
       "                    }\n",
       "\n",
       "                    function searchGridd5c35c563c6445c5b4910148d6d6e5ea(elements){\n",
       "                        let searchKey = document.getElementById('searchKeyd5c35c563c6445c5b4910148d6d6e5ea').value;\n",
       "                        let result;\n",
       "                        if (searchKey === ''){\n",
       "                            result = elements;\n",
       "                        } else {\n",
       "                            result = elements.filter((element) => {\n",
       "                                let property = element[activeFilterd5c35c563c6445c5b4910148d6d6e5ea]\n",
       "                                if (typeof property === 'object' && property !== null){\n",
       "                                    return property.value.toLowerCase().includes(searchKey.toLowerCase());\n",
       "                                } else if (typeof property === 'string' ) {\n",
       "                                    return element[activeFilterd5c35c563c6445c5b4910148d6d6e5ea].toLowerCase().includes(searchKey.toLowerCase());\n",
       "                                } else if (property !== null ) {\n",
       "                                    return element[activeFilterd5c35c563c6445c5b4910148d6d6e5ea].toString() === searchKey;\n",
       "                                } else {\n",
       "                                    return element[activeFilterd5c35c563c6445c5b4910148d6d6e5ea] === searchKey;\n",
       "                                }\n",
       "                            } );\n",
       "                        }\n",
       "                        resetByIdd5c35c563c6445c5b4910148d6d6e5ea('tabled5c35c563c6445c5b4910148d6d6e5ea');\n",
       "                        resetByIdd5c35c563c6445c5b4910148d6d6e5ea('pagd5c35c563c6445c5b4910148d6d6e5ea');\n",
       "                        result = paginated5c35c563c6445c5b4910148d6d6e5ea(result, page_sized5c35c563c6445c5b4910148d6d6e5ea)\n",
       "                        paginatedElementsd5c35c563c6445c5b4910148d6d6e5ea = result\n",
       "                        buildGridd5c35c563c6445c5b4910148d6d6e5ea(result,pageIndexd5c35c563c6445c5b4910148d6d6e5ea);\n",
       "                        buildPaginationContainerd5c35c563c6445c5b4910148d6d6e5ea(result);\n",
       "                    }\n",
       "\n",
       "                    function resetByIdd5c35c563c6445c5b4910148d6d6e5ea(id){\n",
       "                        let element = document.getElementById(id);\n",
       "                        while (element.firstChild) {\n",
       "                          element.removeChild(element.firstChild);\n",
       "                        }\n",
       "                    }\n",
       "\n",
       "                    function buildGridd5c35c563c6445c5b4910148d6d6e5ea(items, pageIndex){\n",
       "                                let headers = Object.keys(elementd5c35c563c6445c5b4910148d6d6e5ea[0]);\n",
       "\n",
       "                                let grid = document.getElementById(\"tabled5c35c563c6445c5b4910148d6d6e5ea\");\n",
       "                                let div = document.createElement(\"div\");\n",
       "                                div.classList.add('grid-header', 'grid-index-cells');\n",
       "                                grid.appendChild(div);\n",
       "                                headers.forEach((title) =>{\n",
       "                                    let div = document.createElement(\"div\");\n",
       "                                    div.classList.add('grid-header', 'grid-std-cells');\n",
       "                                    div.innerText = title;\n",
       "\n",
       "                                    grid.appendChild(div);\n",
       "                                });\n",
       "\n",
       "                                let page = items[pageIndex -1]\n",
       "                                if (page !== 'undefine'){\n",
       "                                    let table_indexd5c35c563c6445c5b4910148d6d6e5ea = ((pageIndex - 1) * page_sized5c35c563c6445c5b4910148d6d6e5ea)\n",
       "                                    page.forEach((item) => {\n",
       "                                        let grid = document.getElementById(\"tabled5c35c563c6445c5b4910148d6d6e5ea\");\n",
       "                                        // Add new index value in index cells\n",
       "                                        let divIndex = document.createElement(\"div\");\n",
       "                                        divIndex.classList.add('grid-row', 'grid-index-cells');\n",
       "                                        divIndex.innerText = table_indexd5c35c563c6445c5b4910148d6d6e5ea;\n",
       "                                        grid.appendChild(divIndex);\n",
       "\n",
       "                                        // Iterate over the actual obj\n",
       "                                        for (const attr in item) {\n",
       "                                            let div = document.createElement(\"div\");\n",
       "                                            if (typeof item[attr] === 'object'\n",
       "                                                && item[attr] !== null\n",
       "                                                && item[attr].hasOwnProperty('type')) {\n",
       "                                                if (item[attr].type.includes('badge')){\n",
       "                                                    let badge_div = document.createElement(\"div\");\n",
       "                                                    badge_div.classList.add('badge',item[attr].type)\n",
       "                                                    badge_div.innerText = String(item[attr].value).toUpperCase();\n",
       "                                                    div.appendChild(badge_div);\n",
       "                                                    div.classList.add('grid-row','grid-std-cells');\n",
       "                                                } else if (item[attr].type.includes('label')){\n",
       "                                                    let label_div = document.createElement(\"div\");\n",
       "                                                    label_div.classList.add('label',item[attr].type)\n",
       "                                                    label_div.innerText = String(item[attr].value).toUpperCase();\n",
       "                                                    div.appendChild(label_div);\n",
       "                                                    div.classList.add('grid-row','grid-std-cells');\n",
       "                                                } else if (item[attr].type === \"clipboard\") {\n",
       "                                                    div.classList.add('grid-row','grid-std-cells');\n",
       "\n",
       "                                                    // Create clipboard div\n",
       "                                                    let clipboard_div = document.createElement('div');\n",
       "                                                    clipboard_div.style.display= 'flex';\n",
       "                                                    clipboard_div.classList.add(\"gap-10\")\n",
       "                                                    clipboard_div.style.justifyContent = \"space-between\";\n",
       "\n",
       "                                                    let id_text = document.createElement('div');\n",
       "                                                    if (item[attr].value == \"None\"){\n",
       "                                                        id_text.innerText = \"None\";\n",
       "                                                    }\n",
       "                                                    else{\n",
       "                                                        id_text.innerText = item[attr].value.slice(0,5) + \"...\";\n",
       "                                                    }\n",
       "\n",
       "                                                    clipboard_div.appendChild(id_text);\n",
       "                                                    let clipboard_img = document.createElement('div');\n",
       "                                                    clipboard_img.classList.add(\"clipboard\")\n",
       "                                                    div.onclick = function() {\n",
       "                                                        navigator.clipboard.writeText(item[attr].value);\n",
       "                                                    };\n",
       "                                                    clipboard_img.innerHTML = \"<svg width='8' height='8' viewBox='0 0 8 8' fill='none' xmlns='http://www.w3.org/2000/svg'><path d='M7.4375 0.25H2.4375C2.35462 0.25 2.27513 0.282924 2.21653 0.341529C2.15792 0.400134 2.125 0.47962 2.125 0.5625V2.125H0.5625C0.47962 2.125 0.400134 2.15792 0.341529 2.21653C0.282924 2.27513 0.25 2.35462 0.25 2.4375V7.4375C0.25 7.52038 0.282924 7.59987 0.341529 7.65847C0.400134 7.71708 0.47962 7.75 0.5625 7.75H5.5625C5.64538 7.75 5.72487 7.71708 5.78347 7.65847C5.84208 7.59987 5.875 7.52038 5.875 7.4375V5.875H7.4375C7.52038 5.875 7.59987 5.84208 7.65847 5.78347C7.71708 5.72487 7.75 5.64538 7.75 5.5625V0.5625C7.75 0.47962 7.71708 0.400134 7.65847 0.341529C7.59987 0.282924 7.52038 0.25 7.4375 0.25ZM5.25 7.125H0.875V2.75H5.25V7.125ZM7.125 5.25H5.875V2.4375C5.875 2.35462 5.84208 2.27513 5.78347 2.21653C5.72487 2.15792 5.64538 2.125 5.5625 2.125H2.75V0.875H7.125V5.25Z' fill='#464158'/></svg>\";\n",
       "\n",
       "                                                    clipboard_div.appendChild(clipboard_img);\n",
       "                                                    div.appendChild(clipboard_div);\n",
       "                                                }\n",
       "                                            } else{\n",
       "                                                div.classList.add('grid-row','grid-std-cells');\n",
       "                                                if (item[attr] == null) {\n",
       "                                                    text = ' '\n",
       "                                                } else {\n",
       "                                                    text = String(item[attr])\n",
       "                                                }\n",
       "\n",
       "                                                text = text.replaceAll(\"\\n\", \"</br>\");\n",
       "                                                div.innerHTML = text;\n",
       "                                            }\n",
       "                                            grid.appendChild(div);\n",
       "                                        }\n",
       "                                    table_indexd5c35c563c6445c5b4910148d6d6e5ea = table_indexd5c35c563c6445c5b4910148d6d6e5ea + 1;\n",
       "                                    })\n",
       "                                }\n",
       "                    }\n",
       "                    paginatedElementsd5c35c563c6445c5b4910148d6d6e5ea = paginated5c35c563c6445c5b4910148d6d6e5ea(elementd5c35c563c6445c5b4910148d6d6e5ea, page_sized5c35c563c6445c5b4910148d6d6e5ea)\n",
       "                    buildGridd5c35c563c6445c5b4910148d6d6e5ea(paginatedElementsd5c35c563c6445c5b4910148d6d6e5ea, 1)\n",
       "                    document.getElementById('totald5c35c563c6445c5b4910148d6d6e5ea').innerText = \"Total: \" + elementd5c35c563c6445c5b4910148d6d6e5ea.length\n",
       "                </script>\n",
       "            </div>\n",
       "            <div id='pagd5c35c563c6445c5b4910148d6d6e5ea' class='paginationContainer'>\n",
       "                <script>\n",
       "                    function buildPaginationContainerd5c35c563c6445c5b4910148d6d6e5ea(paginatedElements){\n",
       "                            let pageContainer = document.getElementById(\"pagd5c35c563c6445c5b4910148d6d6e5ea\");\n",
       "                            for (let i = 0; i < paginatedElements.length; i++) {\n",
       "                                  let div = document.createElement(\"div\");\n",
       "                                  div.classList.add('page');\n",
       "                                  if(i===0) div.style.color = \"gray\";\n",
       "                                  else div.style.color = 'var(--tertiary-color, \"gray\")';\n",
       "                                  div.onclick = function(event) {\n",
       "                                      let indexes = document.getElementsByClassName('page');\n",
       "                                      for (let index of indexes) { index.style.color = 'var(--tertiary-color, \"gray\")' }\n",
       "                                      event.target.style.color = \"gray\";\n",
       "                                      setPaged5c35c563c6445c5b4910148d6d6e5ea(i + 1);\n",
       "                                  };\n",
       "                                  div.innerText = i + 1;\n",
       "                                  pageContainer.appendChild(div);\n",
       "                            }\n",
       "                    }\n",
       "\n",
       "                    function setPaged5c35c563c6445c5b4910148d6d6e5ea(newPage){\n",
       "                        pageIndex = newPage\n",
       "                        resetByIdd5c35c563c6445c5b4910148d6d6e5ea('tabled5c35c563c6445c5b4910148d6d6e5ea')\n",
       "                        buildGridd5c35c563c6445c5b4910148d6d6e5ea(paginatedElementsd5c35c563c6445c5b4910148d6d6e5ea, pageIndex)\n",
       "                    }\n",
       "                    (async function() {\n",
       "                        const myFont = new FontFace('DejaVu Sans', 'url(https://cdn.jsdelivr.net/npm/dejavu-sans@1.0.0/css/dejavu-sans.min.css)');\n",
       "                        await myFont.load();\n",
       "                        document.fonts.add(myFont);\n",
       "                        document.getElementsByTagName('h1')[0].style.fontFamily = \"DejaVu Sans\";\n",
       "                    })();\n",
       "\n",
       "                    buildPaginationContainerd5c35c563c6445c5b4910148d6d6e5ea(paginatedElementsd5c35c563c6445c5b4910148d6d6e5ea)\n",
       "                </script>\n",
       "            </div>\n",
       "        </div>\n"
      ],
      "text/plain": [
       "syft.service.sync.diff_state.NodeDiff"
      ]
     },
     "execution_count": 41,
     "metadata": {},
     "output_type": "execute_result"
    }
   ],
   "source": [
    "diff_state_2"
   ]
  },
  {
   "cell_type": "markdown",
   "id": "1dcbd094",
   "metadata": {},
   "source": [
    "### Syc code"
   ]
  },
  {
   "cell_type": "code",
   "execution_count": 42,
   "id": "f2e191a1",
   "metadata": {},
   "outputs": [],
   "source": [
    "code_batch = diff_state_2[0]"
   ]
  },
  {
   "cell_type": "code",
   "execution_count": 43,
   "id": "f1a0d91d",
   "metadata": {},
   "outputs": [
    {
     "data": {
      "application/vnd.jupyter.widget-view+json": {
       "model_id": "c732929895864cccabae496e268a7e2e",
       "version_major": 2,
       "version_minor": 0
      },
      "text/plain": [
       "VBox(children=(VBox(children=(HTML(value=\"<span style='color: #B4B0BF;'>Syncing changes on</span>\"), HBox(chil…"
      ]
     },
     "execution_count": 43,
     "metadata": {},
     "output_type": "execute_result"
    }
   ],
   "source": [
    "widget = resolve_single(code_batch)\n",
    "widget"
   ]
  },
  {
   "cell_type": "code",
   "execution_count": 44,
   "id": "e2b21d2e",
   "metadata": {},
   "outputs": [
    {
     "name": "stdout",
     "output_type": "stream",
     "text": [
      "Decision: Syncing 2 objects\n"
     ]
    }
   ],
   "source": [
    "res = widget.click_sync()"
   ]
  },
  {
   "cell_type": "markdown",
   "id": "0b3f0cb8",
   "metadata": {},
   "source": [
    "### Sync job"
   ]
  },
  {
   "cell_type": "code",
   "execution_count": 45,
   "id": "9bd9d3bb",
   "metadata": {},
   "outputs": [],
   "source": [
    "job_batch = diff_state_2[2]"
   ]
  },
  {
   "cell_type": "code",
   "execution_count": 46,
   "id": "8160c978",
   "metadata": {
    "scrolled": false
   },
   "outputs": [
    {
     "data": {
      "application/vnd.jupyter.widget-view+json": {
       "model_id": "7c068aefa396417db4b5d93ee4bca848",
       "version_major": 2,
       "version_minor": 0
      },
      "text/plain": [
       "VBox(children=(VBox(children=(HTML(value=\"<span style='color: #B4B0BF;'>Syncing changes on</span>\"), HBox(chil…"
      ]
     },
     "execution_count": 46,
     "metadata": {},
     "output_type": "execute_result"
    }
   ],
   "source": [
    "widget = resolve_single(job_batch)\n",
    "widget"
   ]
  },
  {
   "cell_type": "code",
   "execution_count": 47,
   "id": "fdf6104a",
   "metadata": {},
   "outputs": [],
   "source": [
    "res = widget.click_share_all_private_data()"
   ]
  },
  {
   "cell_type": "code",
   "execution_count": 48,
   "id": "f32e94ab",
   "metadata": {},
   "outputs": [
    {
     "name": "stdout",
     "output_type": "stream",
     "text": [
      "Decision: Syncing 4 objects\n"
     ]
    }
   ],
   "source": [
    "res = widget.click_sync()"
   ]
  },
  {
   "cell_type": "code",
   "execution_count": 49,
   "id": "21252fc2",
   "metadata": {},
   "outputs": [
    {
     "data": {
      "text/html": [
       "<div class=\"alert-success\" style=\"padding:5px;\"><strong>SyftSuccess</strong>: Synced 4 items</div><br />"
      ],
      "text/plain": [
       "SyftSuccess: Synced 4 items"
      ]
     },
     "execution_count": 49,
     "metadata": {},
     "output_type": "execute_result"
    }
   ],
   "source": [
    "res"
   ]
  },
  {
   "cell_type": "code",
   "execution_count": 54,
   "id": "b6e315b7",
   "metadata": {},
   "outputs": [],
   "source": [
    "action_store_low = node_low.python_node.get_service(\"actionservice\").store\n",
    "blob_store_low = node_low.python_node.get_service(\"blobstorageservice\").stash.partition\n",
    "assert (\n",
    "    f\"{client_low_ds.verify_key}_READ\"\n",
    "    in action_store_low.permissions[job_high.result.id.id]\n",
    ")\n",
    "assert (\n",
    "    f\"{client_low_ds.verify_key}_READ\"\n",
    "    in blob_store_low.permissions[job_high.result.syft_blob_storage_entry_id]\n",
    ")"
   ]
  },
  {
   "cell_type": "code",
   "execution_count": 55,
   "id": "92578f8f-ed04-47b1-99f9-995eacb85822",
   "metadata": {},
   "outputs": [],
   "source": [
    "result_storage_permissions = node_low.python_node.get_service(\n",
    "    \"actionservice\"\n",
    ").store.storage_permissions[job_high.result.id.id]\n",
    "assert len(result_storage_permissions) == 1\n",
    "\n",
    "log_storage_permissions = node_low.python_node.get_service(\n",
    "    \"logservice\"\n",
    ").stash.partition.storage_permissions[job_high.log_id]\n",
    "assert len(log_storage_permissions) == 1"
   ]
  },
  {
   "cell_type": "markdown",
   "id": "04dd5d24",
   "metadata": {},
   "source": [
    "# Run code low"
   ]
  },
  {
   "cell_type": "markdown",
   "id": "39d641a5",
   "metadata": {},
   "source": [
    "## Run"
   ]
  },
  {
   "cell_type": "code",
   "execution_count": 56,
   "id": "11731a54",
   "metadata": {},
   "outputs": [],
   "source": [
    "client_low_ds._fetch_api(client_low_ds.credentials)"
   ]
  },
  {
   "cell_type": "code",
   "execution_count": 57,
   "id": "0e786c53",
   "metadata": {},
   "outputs": [],
   "source": [
    "# client_low_ds.code.compute_mean.jobs"
   ]
  },
  {
   "cell_type": "code",
   "execution_count": 58,
   "id": "252999ec",
   "metadata": {},
   "outputs": [
    {
     "data": {
      "text/html": [
       "<div class=\"alert-warning\" style=\"padding:5px;\"><strong>SyftWarning</strong>: Policy is no longer valid. count: 1 >= limit: 1. Loading results from cache.</div><br />"
      ],
      "text/plain": [
       "SyftWarning: Policy is no longer valid. count: 1 >= limit: 1. Loading results from cache."
      ]
     },
     "metadata": {},
     "output_type": "display_data"
    },
    {
     "data": {
      "text/markdown": [
       "```python\n",
       "Pointer\n",
       "```\n",
       "17.0"
      ],
      "text/plain": [
       "Pointer:\n",
       "17.0"
      ]
     },
     "execution_count": 58,
     "metadata": {},
     "output_type": "execute_result"
    }
   ],
   "source": [
    "res_low = client_low_ds.code.compute_mean(data=data_low)\n",
    "\n",
    "res_low"
   ]
  },
  {
   "cell_type": "code",
   "execution_count": 59,
   "id": "ffe97957",
   "metadata": {},
   "outputs": [],
   "source": [
    "code = client_low_ds.code[0]\n",
    "\n",
    "assert res_low.get() == private_high.mean()\n",
    "assert (\n",
    "    res_low.id.id\n",
    "    == job_high.result.id.id\n",
    "    == code.output_history[-1].output_ids[0].id.id\n",
    ")\n",
    "assert job_high.result.syft_blob_storage_entry_id == res_low.syft_blob_storage_entry_id"
   ]
  },
  {
   "cell_type": "code",
   "execution_count": 60,
   "id": "7e971eea",
   "metadata": {},
   "outputs": [
    {
     "data": {
      "text/html": [
       "<div class=\"alert-warning\" style=\"padding:5px;\"><strong>SyftWarning</strong>: Policy is no longer valid. count: 1 >= limit: 1. Loading results from cache.</div><br />"
      ],
      "text/plain": [
       "SyftWarning: Policy is no longer valid. count: 1 >= limit: 1. Loading results from cache."
      ]
     },
     "metadata": {},
     "output_type": "display_data"
    },
    {
     "data": {
      "text/markdown": [
       "```python\n",
       "Pointer\n",
       "```\n",
       "17.0"
      ],
      "text/plain": [
       "Pointer:\n",
       "17.0"
      ]
     },
     "execution_count": 60,
     "metadata": {},
     "output_type": "execute_result"
    }
   ],
   "source": [
    "res_low = client_low_ds.code.compute_mean(data=data_low)\n",
    "\n",
    "res_low"
   ]
  },
  {
   "cell_type": "code",
   "execution_count": 61,
   "id": "fece2d44",
   "metadata": {},
   "outputs": [],
   "source": [
    "code = client_low_ds.code[0]\n",
    "\n",
    "assert res_low.get() == private_high.mean()\n",
    "assert (\n",
    "    res_low.id.id\n",
    "    == job_high.result.id.id\n",
    "    == code.output_history[-1].output_ids[0].id.id\n",
    ")\n",
    "assert job_high.result.syft_blob_storage_entry_id == res_low.syft_blob_storage_entry_id"
   ]
  },
  {
   "cell_type": "code",
   "execution_count": 62,
   "id": "8a2e2b0d",
   "metadata": {},
   "outputs": [
    {
     "data": {
      "text/plain": [
       "17.0"
      ]
     },
     "execution_count": 62,
     "metadata": {},
     "output_type": "execute_result"
    }
   ],
   "source": [
    "private_high.mean()"
   ]
  },
  {
   "cell_type": "code",
   "execution_count": 63,
   "id": "aa774a56",
   "metadata": {},
   "outputs": [
    {
     "data": {
      "text/html": [
       "<div class=\"alert-warning\" style=\"padding:5px;\"><strong>SyftWarning</strong>: There are existing jobs for this user code, returning the latest one</div><br />"
      ],
      "text/plain": [
       "SyftWarning: There are existing jobs for this user code, returning the latest one"
      ]
     },
     "metadata": {},
     "output_type": "display_data"
    },
    {
     "data": {
      "text/markdown": [
       "```python\n",
       "class Job:\n",
       "    id: UID = d718e4c2ee5a4ddc91bf54aabfc8c865\n",
       "    status: JobStatus.COMPLETED\n",
       "    has_parent: False\n",
       "    result: ActionDataEmpty <<class 'numpy.number'>>\n",
       "    logs:\n",
       "\n",
       "0 Computing mean...\n",
       "JOB COMPLETED\n",
       "    \n",
       "```"
      ],
      "text/plain": [
       "syft.service.job.job_stash.Job"
      ]
     },
     "execution_count": 63,
     "metadata": {},
     "output_type": "execute_result"
    }
   ],
   "source": [
    "job_low = client_low_ds.code.compute_mean(data=data_low, blocking=False)\n",
    "job_low"
   ]
  },
  {
   "cell_type": "code",
   "execution_count": 64,
   "id": "8da1b271",
   "metadata": {},
   "outputs": [
    {
     "data": {
      "text/plain": [
       "17.0"
      ]
     },
     "execution_count": 64,
     "metadata": {},
     "output_type": "execute_result"
    }
   ],
   "source": [
    "job_low.wait().get()"
   ]
  },
  {
   "cell_type": "code",
   "execution_count": 65,
   "id": "f43f93c6-f750-4ba5-9da7-325946d92b9b",
   "metadata": {},
   "outputs": [
    {
     "name": "stdout",
     "output_type": "stream",
     "text": [
      "Computing mean...\n",
      "\n"
     ]
    }
   ],
   "source": [
    "job_low.logs()"
   ]
  },
  {
   "cell_type": "code",
   "execution_count": 66,
   "id": "1b7d46f8",
   "metadata": {},
   "outputs": [],
   "source": [
    "assert job_low.id == job_high.id\n",
    "assert job_low.result.id == job_high.result.id\n",
    "assert (\n",
    "    job_low.result.syft_blob_storage_entry_id\n",
    "    == job_high.result.syft_blob_storage_entry_id\n",
    ")"
   ]
  },
  {
   "cell_type": "code",
   "execution_count": 67,
   "id": "7fb30954-eeae-4364-9889-0b68e1e847cb",
   "metadata": {},
   "outputs": [
    {
     "data": {
      "text/markdown": [
       "```python\n",
       "class Job:\n",
       "    id: UID = d718e4c2ee5a4ddc91bf54aabfc8c865\n",
       "    status: JobStatus.COMPLETED\n",
       "    has_parent: False\n",
       "    result: 17.0\n",
       "    logs:\n",
       "\n",
       "0 Computing mean...\n",
       "JOB COMPLETED\n",
       "    \n",
       "```"
      ],
      "text/plain": [
       "syft.service.job.job_stash.Job"
      ]
     },
     "execution_count": 67,
     "metadata": {},
     "output_type": "execute_result"
    }
   ],
   "source": [
    "job_high"
   ]
  },
  {
   "cell_type": "code",
   "execution_count": null,
   "id": "af1f8d44",
   "metadata": {},
   "outputs": [],
   "source": []
  }
 ],
 "metadata": {
  "kernelspec": {
   "display_name": "Python 3 (ipykernel)",
   "language": "python",
   "name": "python3"
  },
  "language_info": {
   "codemirror_mode": {
    "name": "ipython",
    "version": 3
   },
   "file_extension": ".py",
   "mimetype": "text/x-python",
   "name": "python",
   "nbconvert_exporter": "python",
   "pygments_lexer": "ipython3",
   "version": "3.12.2"
  },
  "toc": {
   "base_numbering": 1,
   "nav_menu": {},
   "number_sections": true,
   "sideBar": true,
   "skip_h1_title": false,
   "title_cell": "Table of Contents",
   "title_sidebar": "Contents",
   "toc_cell": false,
   "toc_position": {},
   "toc_section_display": true,
   "toc_window_display": true
  },
  "widgets": {
   "application/vnd.jupyter.widget-state+json": {
    "state": {
     "00046755987443f3859c25f6aa1dc872": {
      "model_module": "@jupyter-widgets/base",
      "model_module_version": "2.0.0",
      "model_name": "LayoutModel",
      "state": {}
     },
     "006a9bd464904a819c9c3c37f296ebd5": {
      "model_module": "@jupyter-widgets/base",
      "model_module_version": "2.0.0",
      "model_name": "LayoutModel",
      "state": {}
     },
     "00b7783eeff04069859d1c05f348cd30": {
      "model_module": "@jupyter-widgets/controls",
      "model_module_version": "2.0.0",
      "model_name": "HBoxModel",
      "state": {
       "children": [
        "IPY_MODEL_4d0e92d15f064f2cb58950f5c0988ca4"
       ],
       "layout": "IPY_MODEL_669347ea70124c1694f34a1dc2515d99"
      }
     },
     "00e9d4cada294808831b67f5a63223f3": {
      "model_module": "@jupyter-widgets/base",
      "model_module_version": "2.0.0",
      "model_name": "LayoutModel",
      "state": {}
     },
     "00efa16de3d74807913b42ae8e309186": {
      "model_module": "@jupyter-widgets/controls",
      "model_module_version": "2.0.0",
      "model_name": "HBoxModel",
      "state": {
       "children": [
        "IPY_MODEL_4ce82efa6c74453f9c16b1ca55c490ae"
       ],
       "layout": "IPY_MODEL_38e8013ecdaa491d9c02bfa936b4b8ed"
      }
     },
     "0152c8f179e142f38347348a6dc5b849": {
      "model_module": "@jupyter-widgets/controls",
      "model_module_version": "2.0.0",
      "model_name": "HBoxModel",
      "state": {
       "children": [
        "IPY_MODEL_6aa0bfa017204109b3499aa2c81f1402"
       ],
       "layout": "IPY_MODEL_752301a9c61944a5b08d9cc63b6a07b1"
      }
     },
     "016f75e607ba44b9b02c0c0c768c6b78": {
      "model_module": "@jupyter-widgets/base",
      "model_module_version": "2.0.0",
      "model_name": "LayoutModel",
      "state": {
       "height": "25px",
       "margin": "0",
       "padding": "0",
       "width": "25px"
      }
     },
     "01700ce228744f0788279d83cfcd2be2": {
      "model_module": "@jupyter-widgets/controls",
      "model_module_version": "2.0.0",
      "model_name": "HBoxModel",
      "state": {
       "children": [
        "IPY_MODEL_29a889a4309f4d38bb7ccff3616b1f73",
        "IPY_MODEL_ad763f5b54634c3d9f38b260b7ce0f3c"
       ],
       "layout": "IPY_MODEL_06fe84560f0f4efc9ed1905de5cc3b9d"
      }
     },
     "01813e8a2359431fb67647a0c61d3620": {
      "model_module": "@jupyter-widgets/controls",
      "model_module_version": "2.0.0",
      "model_name": "HBoxModel",
      "state": {
       "children": [
        "IPY_MODEL_9ba7ccd489da4ce5ae62f02e46ad9a65",
        "IPY_MODEL_b1264ae04661498ea500a5c28b11a8d8",
        "IPY_MODEL_d67a25a82640404580f87761d2916e93"
       ],
       "layout": "IPY_MODEL_d3baed23d2fe4e598b1dc41f0bda048f"
      }
     },
     "01d61cc5ff264a8c8797f88ffc4cd4da": {
      "model_module": "@jupyter-widgets/base",
      "model_module_version": "2.0.0",
      "model_name": "LayoutModel",
      "state": {
       "width": "100%"
      }
     },
     "020bead8b6764c1f914b947542dcb977": {
      "model_module": "@jupyter-widgets/base",
      "model_module_version": "2.0.0",
      "model_name": "LayoutModel",
      "state": {}
     },
     "0222bde6ccff413a99c179f7f50078ce": {
      "model_module": "@jupyter-widgets/base",
      "model_module_version": "2.0.0",
      "model_name": "LayoutModel",
      "state": {}
     },
     "02cf3399373245d292219e3aa7ceb700": {
      "model_module": "@jupyter-widgets/controls",
      "model_module_version": "2.0.0",
      "model_name": "VBoxModel",
      "state": {
       "children": [
        "IPY_MODEL_6c5acce5391547458ac0158c6cd9a362",
        "IPY_MODEL_89605aa0af674fc6a78ac243f7c3fec4"
       ],
       "layout": "IPY_MODEL_fe81a84cf0b0417594d537f3ec828e48"
      }
     },
     "0310550c515b4a03947a2a31bcccd4d3": {
      "model_module": "@jupyter-widgets/controls",
      "model_module_version": "2.0.0",
      "model_name": "HTMLModel",
      "state": {
       "layout": "IPY_MODEL_6c6f9388e36f445bb528c308284603a7",
       "style": "IPY_MODEL_0cd28b7b826e4fbf8328fa19bd6883e3",
       "value": "<span style='background-color: #C2DEF0; border-radius: 4px; padding: 4px 6px; color: #373B7B;'>Code</span>"
      }
     },
     "0347a7d1aead4cae9a085c4997f9ff83": {
      "model_module": "@jupyter-widgets/controls",
      "model_module_version": "2.0.0",
      "model_name": "HTMLStyleModel",
      "state": {
       "description_width": "",
       "font_size": null,
       "text_color": null
      }
     },
     "03639312db95451fbc7727af9db5690a": {
      "model_module": "@jupyter-widgets/controls",
      "model_module_version": "2.0.0",
      "model_name": "HTMLStyleModel",
      "state": {
       "description_width": "",
       "font_size": null,
       "text_color": null
      }
     },
     "0371a7757e0b4431b58106451fc0ecd4": {
      "model_module": "@jupyter-widgets/controls",
      "model_module_version": "2.0.0",
      "model_name": "HTMLStyleModel",
      "state": {
       "description_width": "",
       "font_size": null,
       "text_color": null
      }
     },
     "03800d03bf5941c2946bb76b980c73a8": {
      "model_module": "@jupyter-widgets/base",
      "model_module_version": "2.0.0",
      "model_name": "LayoutModel",
      "state": {}
     },
     "03a6254287b94d4faa82a95cede2fd65": {
      "model_module": "@jupyter-widgets/controls",
      "model_module_version": "2.0.0",
      "model_name": "HTMLStyleModel",
      "state": {
       "description_width": "",
       "font_size": null,
       "text_color": null
      }
     },
     "03b1f6eb15f845e1a926c31f607ddd2c": {
      "model_module": "@jupyter-widgets/base",
      "model_module_version": "2.0.0",
      "model_name": "LayoutModel",
      "state": {}
     },
     "03d364f20bd84bbeb775bb36b4d89a87": {
      "model_module": "@jupyter-widgets/base",
      "model_module_version": "2.0.0",
      "model_name": "LayoutModel",
      "state": {}
     },
     "03e05e964f7843e19784634a5d76aacc": {
      "model_module": "@jupyter-widgets/controls",
      "model_module_version": "2.0.0",
      "model_name": "HTMLModel",
      "state": {
       "layout": "IPY_MODEL_fb830eab4ac04ca5a9a9d5675e72f8de",
       "style": "IPY_MODEL_5af4c1b440654bd5b5d35a9025d4d6f9",
       "value": "<span style='color: #B4B0BF;'>Syncing changes on</span>"
      }
     },
     "03e6cf2dfc21486fa1c83459bc6c150f": {
      "model_module": "@jupyter-widgets/base",
      "model_module_version": "2.0.0",
      "model_name": "LayoutModel",
      "state": {
       "overflow": "auto",
       "width": "50%"
      }
     },
     "04234b4f7c2d4fb1bc44a0ec0b0e1441": {
      "model_module": "@jupyter-widgets/base",
      "model_module_version": "2.0.0",
      "model_name": "LayoutModel",
      "state": {}
     },
     "045136936527423094ac8ec62e7997bd": {
      "model_module": "@jupyter-widgets/controls",
      "model_module_version": "2.0.0",
      "model_name": "HTMLStyleModel",
      "state": {
       "description_width": "",
       "font_size": null,
       "text_color": null
      }
     },
     "048ea26e561a40fa984a8b29bda814fd": {
      "model_module": "@jupyter-widgets/controls",
      "model_module_version": "2.0.0",
      "model_name": "HTMLStyleModel",
      "state": {
       "description_width": "",
       "font_size": null,
       "text_color": null
      }
     },
     "04999b728c634e8c8c862050feaec3c5": {
      "model_module": "@jupyter-widgets/controls",
      "model_module_version": "2.0.0",
      "model_name": "VBoxModel",
      "state": {
       "children": [
        "IPY_MODEL_b41c838101fc49f58990ae7d0120965b",
        "IPY_MODEL_34c685ef404d4395945d3dbbfeb85b8b"
       ],
       "layout": "IPY_MODEL_9206d1599bcc4a82bc386e596601d515"
      }
     },
     "049d28b627384327a4385f535b5c044c": {
      "model_module": "@jupyter-widgets/controls",
      "model_module_version": "2.0.0",
      "model_name": "AccordionModel",
      "state": {
       "layout": "IPY_MODEL_1cfc30538e8f4b1eb2e383c3dea61f63"
      }
     },
     "04cd96c9427d4d70afd879a814701a5b": {
      "model_module": "@jupyter-widgets/controls",
      "model_module_version": "2.0.0",
      "model_name": "HTMLModel",
      "state": {
       "layout": "IPY_MODEL_a535d806b4e94caa8119ee0b6971110f",
       "style": "IPY_MODEL_4c70435a2d3049b28f060c603529bb99",
       "value": "<div style='font-family: monospace; width: 100%;'>From<br><div style='border-left: 1px solid #B4B0BF; padding-left: 10px;'><div style='background-color: #D5F1D5;; color: #256B24;; display: block; white-space: pre-wrap; margin-bottom: 5px;'>approved: False</div><div style='background-color: #D5F1D5;; color: #256B24;; display: block; white-space: pre-wrap; margin-bottom: 5px;'>status_dict: {NodeIdentity <name=test_l, id=8e19e3a1, 🔑=1c0590b8>: (<UserCodeStatus.PENDING: 'pending'>, '')}</div></div></div>"
      }
     },
     "04dd8a3a313b46539799f2a544e470c4": {
      "model_module": "@jupyter-widgets/controls",
      "model_module_version": "2.0.0",
      "model_name": "VBoxModel",
      "state": {
       "children": [
        "IPY_MODEL_f41247dc7e5d45d18f319561569d3766",
        "IPY_MODEL_5204b2f252824878bb64867cbe75002f",
        "IPY_MODEL_3b9a96101f15471a878d0bc194c3e8b4",
        "IPY_MODEL_4cc0d11150e447ab977de49d8441bc0b",
        "IPY_MODEL_b9679307dd6c4375b4caf05f47227e9d",
        "IPY_MODEL_049d28b627384327a4385f535b5c044c",
        "IPY_MODEL_614b07c4497749ba8bef30d5d79d3766",
        "IPY_MODEL_59607d9afb9242a69a9d4a34e977dd08"
       ],
       "layout": "IPY_MODEL_4c5e9bc6ef9a47ca9712c2932fd43e8e"
      }
     },
     "055801d6c5c44ef1a1625eb557213933": {
      "model_module": "@jupyter-widgets/controls",
      "model_module_version": "2.0.0",
      "model_name": "CheckboxStyleModel",
      "state": {
       "description_width": ""
      }
     },
     "05bb90276dd846cbb76db97649783e0f": {
      "model_module": "@jupyter-widgets/controls",
      "model_module_version": "2.0.0",
      "model_name": "VBoxModel",
      "state": {
       "children": [
        "IPY_MODEL_9abac535295a4492a47785f73b0e7d6b",
        "IPY_MODEL_d7f5fc56b955494296d97fd78928d4a0",
        "IPY_MODEL_128532a70bec479fb859972468e7396a",
        "IPY_MODEL_dbd51bde689c47c3999bd230be42a475",
        "IPY_MODEL_3c50a2e0d67348bc8e1abd0bc7d1e5b8",
        "IPY_MODEL_a8681242821d4e6bb820508af39c6fa1",
        "IPY_MODEL_7144aa866eea4fa1a400a94cfdeba565",
        "IPY_MODEL_541b560c841748d19bf432a6d17e59cb"
       ],
       "layout": "IPY_MODEL_dea22dd0d939435986b7c2d2b2b48604"
      }
     },
     "05c3b1f1c55f4569988561fcf48f27ce": {
      "model_module": "@jupyter-widgets/base",
      "model_module_version": "2.0.0",
      "model_name": "LayoutModel",
      "state": {}
     },
     "05d0f4ea3f4f4b6ca2f17cbff99ead5f": {
      "model_module": "@jupyter-widgets/controls",
      "model_module_version": "2.0.0",
      "model_name": "HTMLStyleModel",
      "state": {
       "description_width": "",
       "font_size": null,
       "text_color": null
      }
     },
     "05dc325644424be4817ba25402942312": {
      "model_module": "@jupyter-widgets/controls",
      "model_module_version": "2.0.0",
      "model_name": "HTMLModel",
      "state": {
       "layout": "IPY_MODEL_d87ad33b3b3548fa907a41d4de79a7c1",
       "style": "IPY_MODEL_a5a54174a9e44bd6b22e5c56af4594b2",
       "value": "<div style='font-family: monospace; width: 100%;'>To<br><div style='border-left: 1px solid #B4B0BF; padding-left: 10px;'><div style='background-color: #D5F1D5;; color: #256B24;; display: block; white-space: pre-wrap; margin-bottom: 5px;'>approved: </div><div style='background-color: #D5F1D5;; color: #256B24;; display: block; white-space: pre-wrap; margin-bottom: 5px;'>status_dict: </div></div></div>"
      }
     },
     "06192562ddc04534a826212eff653522": {
      "model_module": "@jupyter-widgets/controls",
      "model_module_version": "2.0.0",
      "model_name": "HTMLModel",
      "state": {
       "layout": "IPY_MODEL_515deae8085441dea4c99b83327a8a6e",
       "style": "IPY_MODEL_c2ab806683cd4fc8b2070649bcfe3a0a",
       "value": "<span style='background-color: #C2DEF0; border-radius: 4px; padding: 4px 6px; color: #373B7B;'>Code</span>"
      }
     },
     "061a80184da44b5285be139eb1720f55": {
      "model_module": "@jupyter-widgets/base",
      "model_module_version": "2.0.0",
      "model_name": "LayoutModel",
      "state": {}
     },
     "064332f6bed744c89d4c3925e5abec19": {
      "model_module": "@jupyter-widgets/controls",
      "model_module_version": "2.0.0",
      "model_name": "HTMLModel",
      "state": {
       "layout": "IPY_MODEL_e7a9e82f66754366ada86818caffa155",
       "style": "IPY_MODEL_bc7a31bbb0934976b66e0a260874a708",
       "value": "<div style='font-family: monospace; width: 100%;'>From<br><div style='border-left: 1px solid #B4B0BF; padding-left: 10px;'><div style='background-color: #D5F1D5;; color: #256B24;; display: block; white-space: pre-wrap; margin-bottom: 5px;'>approved: False</div><div style='background-color: #D5F1D5;; color: #256B24;; display: block; white-space: pre-wrap; margin-bottom: 5px;'>status_dict: {NodeIdentity <name=test_l, id=8e19e3a1, 🔑=1c0590b8>: (<UserCodeStatus.PENDING: 'pending'>, '')}</div></div></div>"
      }
     },
     "0664e6c50b4c4c06a629e9fe5055e2a1": {
      "model_module": "@jupyter-widgets/base",
      "model_module_version": "2.0.0",
      "model_name": "LayoutModel",
      "state": {
       "overflow": "auto",
       "width": "50%"
      }
     },
     "067c07bd0f8341ada6215990dcacea87": {
      "model_module": "@jupyter-widgets/base",
      "model_module_version": "2.0.0",
      "model_name": "LayoutModel",
      "state": {
       "height": "25px",
       "margin": "0",
       "padding": "0",
       "width": "25px"
      }
     },
     "06a8ccc5b4434923b88f8930d79a619c": {
      "model_module": "@jupyter-widgets/controls",
      "model_module_version": "2.0.0",
      "model_name": "HBoxModel",
      "state": {
       "children": [
        "IPY_MODEL_dfdb29addfd943e7b32ef813b2e69a42",
        "IPY_MODEL_6f4a8d680b0e470ca82821186fddb371",
        "IPY_MODEL_de33dea77b074b41a7aef92ccc85ed6c"
       ],
       "layout": "IPY_MODEL_c64346efb4414c7fb23d529cf200e315"
      }
     },
     "06bd0310e2304b1fb10dbb8596e2cda6": {
      "model_module": "@jupyter-widgets/controls",
      "model_module_version": "2.0.0",
      "model_name": "HTMLModel",
      "state": {
       "layout": "IPY_MODEL_3052c6a493724ce09342dac797c4e756",
       "style": "IPY_MODEL_59d6cebd7c2c4510b7ef7a1a381620da",
       "value": "<div style='height: 16px'></div>"
      }
     },
     "06fe84560f0f4efc9ed1905de5cc3b9d": {
      "model_module": "@jupyter-widgets/base",
      "model_module_version": "2.0.0",
      "model_name": "LayoutModel",
      "state": {}
     },
     "077dd0b0018643d6ae7ab6d634596f5a": {
      "model_module": "@jupyter-widgets/controls",
      "model_module_version": "2.0.0",
      "model_name": "HTMLStyleModel",
      "state": {
       "description_width": "",
       "font_size": null,
       "text_color": null
      }
     },
     "07f37f00a2344aca850f213542391303": {
      "model_module": "@jupyter-widgets/base",
      "model_module_version": "2.0.0",
      "model_name": "LayoutModel",
      "state": {}
     },
     "0804b71f90f8447b8a4141010c98bedb": {
      "model_module": "@jupyter-widgets/base",
      "model_module_version": "2.0.0",
      "model_name": "LayoutModel",
      "state": {
       "align_items": "center",
       "display": "flex"
      }
     },
     "081654ce51de4c60a16830548b9c76fc": {
      "model_module": "@jupyter-widgets/base",
      "model_module_version": "2.0.0",
      "model_name": "LayoutModel",
      "state": {}
     },
     "08203ae4c96540ada387698d567562c0": {
      "model_module": "@jupyter-widgets/base",
      "model_module_version": "2.0.0",
      "model_name": "LayoutModel",
      "state": {}
     },
     "08235af28d224a1899fe9b0213a4e77b": {
      "model_module": "@jupyter-widgets/controls",
      "model_module_version": "2.0.0",
      "model_name": "HTMLStyleModel",
      "state": {
       "description_width": "",
       "font_size": null,
       "text_color": null
      }
     },
     "0825cde5e7de48559fff342a34c31ec9": {
      "model_module": "@jupyter-widgets/controls",
      "model_module_version": "2.0.0",
      "model_name": "HTMLStyleModel",
      "state": {
       "description_width": "",
       "font_size": null,
       "text_color": null
      }
     },
     "0839841cda57400799e4dae1bdf22378": {
      "model_module": "@jupyter-widgets/controls",
      "model_module_version": "2.0.0",
      "model_name": "VBoxModel",
      "state": {
       "children": [
        "IPY_MODEL_0bc115e0fee9416abe1d781a93fb0389",
        "IPY_MODEL_dd67e5e776934ffea47fdf3184542f4e"
       ],
       "layout": "IPY_MODEL_cd8796a11033420e938fa5f66b247e24"
      }
     },
     "0856cbbd19eb48bd8ce5fbbb95b47284": {
      "model_module": "@jupyter-widgets/controls",
      "model_module_version": "2.0.0",
      "model_name": "HTMLStyleModel",
      "state": {
       "description_width": "",
       "font_size": null,
       "text_color": null
      }
     },
     "08a1a39bc51e454385c28de1781d7eaa": {
      "model_module": "@jupyter-widgets/controls",
      "model_module_version": "2.0.0",
      "model_name": "CheckboxModel",
      "state": {
       "description": "Sync",
       "disabled": false,
       "layout": "IPY_MODEL_0c8154f6b0d34adb9431a644009f362f",
       "style": "IPY_MODEL_eb6dfd1d3f174939a5aadf048b5e1f54",
       "value": false
      }
     },
     "0912f622c8ae49318a334a05352c5d21": {
      "model_module": "@jupyter-widgets/controls",
      "model_module_version": "2.0.0",
      "model_name": "HTMLStyleModel",
      "state": {
       "description_width": "",
       "font_size": null,
       "text_color": null
      }
     },
     "098b361906ad48b4b2815f4ec9fbef4d": {
      "model_module": "@jupyter-widgets/controls",
      "model_module_version": "2.0.0",
      "model_name": "HTMLModel",
      "state": {
       "layout": "IPY_MODEL_c8945606dedc416490ddc98b90022238",
       "style": "IPY_MODEL_1af60fa6d99b4d388789c1eabedb1503",
       "value": "<span style='background-color: #C2DEF0; border-radius: 4px; padding: 4px 6px; color: #373B7B;'>Code</span>"
      }
     },
     "09da12fbbce14a0797b4cb84db3a8cf0": {
      "model_module": "@jupyter-widgets/controls",
      "model_module_version": "2.0.0",
      "model_name": "HTMLModel",
      "state": {
       "layout": "IPY_MODEL_bfd1363ae6a94cefb45edda6682c3ea8",
       "style": "IPY_MODEL_d25c0ae84b1d4dc492f43bfd196a4b54",
       "value": "<span style='color: #B4B0BF;'>Syncing changes on</span>"
      }
     },
     "09e6ada7a90a4214bff47255fad46013": {
      "model_module": "@jupyter-widgets/controls",
      "model_module_version": "2.0.0",
      "model_name": "HTMLStyleModel",
      "state": {
       "description_width": "",
       "font_size": null,
       "text_color": null
      }
     },
     "09fa7a8796974b5ba14897ae580f88ce": {
      "model_module": "@jupyter-widgets/controls",
      "model_module_version": "2.0.0",
      "model_name": "HTMLStyleModel",
      "state": {
       "description_width": "",
       "font_size": null,
       "text_color": null
      }
     },
     "0a1f61fe4a5f48df9171fcade98984ed": {
      "model_module": "@jupyter-widgets/controls",
      "model_module_version": "2.0.0",
      "model_name": "HTMLModel",
      "state": {
       "layout": "IPY_MODEL_b5f3f2d300d841bbbf04b7807adbfa4d",
       "style": "IPY_MODEL_706ff1a3f8144912a8ceb3b92dc6e02d",
       "value": "<div style='font-family: monospace; width: 100%;'>From<br><div style='border-left: 1px solid #B4B0BF; padding-left: 10px;'><div style='background-color: #D5F1D5;; color: #256B24;; display: block; white-space: pre-wrap; margin-bottom: 5px;'>approved: False</div><div style='background-color: #D5F1D5;; color: #256B24;; display: block; white-space: pre-wrap; margin-bottom: 5px;'>status_dict: {NodeIdentity <name=test_l, id=8e19e3a1, 🔑=1c0590b8>: (<UserCodeStatus.PENDING: 'pending'>, '')}</div></div></div>"
      }
     },
     "0a250cfaefc34726aee34845e93506ab": {
      "model_module": "@jupyter-widgets/controls",
      "model_module_version": "2.0.0",
      "model_name": "HTMLModel",
      "state": {
       "layout": "IPY_MODEL_65d61fa2e81c45e99aaf9dd98c999dff",
       "style": "IPY_MODEL_08235af28d224a1899fe9b0213a4e77b",
       "value": "<span style='color: #B4B0BF;'>Syncing changes on</span>"
      }
     },
     "0b5043f5dbdd47dd934a2df2c88a541c": {
      "model_module": "@jupyter-widgets/controls",
      "model_module_version": "2.0.0",
      "model_name": "HBoxModel",
      "state": {
       "children": [
        "IPY_MODEL_269bb36347ad48e9bfa06fb44906936f",
        "IPY_MODEL_1d566ed1e8684f389202cd960b484290"
       ],
       "layout": "IPY_MODEL_9fc16f629d3b4ecbae9b48a5d8fb0be1"
      }
     },
     "0b7636ef671843d29913c15acf048b5d": {
      "model_module": "@jupyter-widgets/controls",
      "model_module_version": "2.0.0",
      "model_name": "HTMLModel",
      "state": {
       "layout": "IPY_MODEL_ef31b8f6a6194095b5561a3832e2bdbb",
       "style": "IPY_MODEL_476b7930930b471fb88e337e55fd6a72",
       "value": "<div style='height: 16px'></div>"
      }
     },
     "0b7e638973434ced96772ce0c5276ff8": {
      "model_module": "@jupyter-widgets/base",
      "model_module_version": "2.0.0",
      "model_name": "LayoutModel",
      "state": {
       "overflow": "auto",
       "width": "50%"
      }
     },
     "0b89b7c77e844361af6ea28a4a095992": {
      "model_module": "@jupyter-widgets/controls",
      "model_module_version": "2.0.0",
      "model_name": "CheckboxStyleModel",
      "state": {
       "description_width": ""
      }
     },
     "0baea413b5a84c61ae21e3dfd561a93b": {
      "model_module": "@jupyter-widgets/base",
      "model_module_version": "2.0.0",
      "model_name": "LayoutModel",
      "state": {}
     },
     "0bc115e0fee9416abe1d781a93fb0389": {
      "model_module": "@jupyter-widgets/controls",
      "model_module_version": "2.0.0",
      "model_name": "HBoxModel",
      "state": {
       "children": [
        "IPY_MODEL_94e3a832d339434b87342855c10565d9"
       ],
       "layout": "IPY_MODEL_72678873275e4ca0904eaa7e1f382c7f"
      }
     },
     "0bd87706580e4d409e9f97b13bdfa1d5": {
      "model_module": "@jupyter-widgets/controls",
      "model_module_version": "2.0.0",
      "model_name": "HTMLStyleModel",
      "state": {
       "description_width": "",
       "font_size": null,
       "text_color": null
      }
     },
     "0befda5517d74481915a46a49208bb42": {
      "model_module": "@jupyter-widgets/controls",
      "model_module_version": "2.0.0",
      "model_name": "HTMLModel",
      "state": {
       "layout": "IPY_MODEL_398083cc6fcc446b9befe9327a07a557",
       "style": "IPY_MODEL_cb75ff7bf4fd455cbf47879a444cd30d",
       "value": "<div style='font-family: monospace; width: 100%;'>To<br><div style='border-left: 1px solid #B4B0BF; padding-left: 10px;'><div style='background-color: #D5F1D5;; color: #256B24;; display: block; white-space: pre-wrap; margin-bottom: 5px;'>approved: </div><div style='background-color: #D5F1D5;; color: #256B24;; display: block; white-space: pre-wrap; margin-bottom: 5px;'>status_dict: </div></div></div>"
      }
     },
     "0c0b55a820cb4ab59bd7b41c59837d25": {
      "model_module": "@jupyter-widgets/base",
      "model_module_version": "2.0.0",
      "model_name": "LayoutModel",
      "state": {}
     },
     "0c405720dbeb4cee8752c0ee6ad85738": {
      "model_module": "@jupyter-widgets/base",
      "model_module_version": "2.0.0",
      "model_name": "LayoutModel",
      "state": {
       "align_items": "center"
      }
     },
     "0c60503da09a4fa6a494235cb81334b0": {
      "model_module": "@jupyter-widgets/controls",
      "model_module_version": "2.0.0",
      "model_name": "VBoxModel",
      "state": {
       "children": [
        "IPY_MODEL_72ec479241fb43a6a4dfd0cd8a483402",
        "IPY_MODEL_ad8a5207cecf42f4b3d144cdc9bbc174"
       ],
       "layout": "IPY_MODEL_75bf46e00b3d420c948522f36f9f5e4e"
      }
     },
     "0c8154f6b0d34adb9431a644009f362f": {
      "model_module": "@jupyter-widgets/base",
      "model_module_version": "2.0.0",
      "model_name": "LayoutModel",
      "state": {}
     },
     "0cd28b7b826e4fbf8328fa19bd6883e3": {
      "model_module": "@jupyter-widgets/controls",
      "model_module_version": "2.0.0",
      "model_name": "HTMLStyleModel",
      "state": {
       "description_width": "",
       "font_size": null,
       "text_color": null
      }
     },
     "0d0679ea38784ae688bfd43cde019598": {
      "model_module": "@jupyter-widgets/base",
      "model_module_version": "2.0.0",
      "model_name": "LayoutModel",
      "state": {}
     },
     "0d6a47389eab48ababfefd20aacf4683": {
      "model_module": "@jupyter-widgets/base",
      "model_module_version": "2.0.0",
      "model_name": "LayoutModel",
      "state": {
       "border_bottom": "#353243 solid 0.5px",
       "border_left": "#353243 solid 0.5px",
       "border_right": "#353243 solid 0.5px",
       "border_top": "#353243 solid 0.5px",
       "padding": "16px"
      }
     },
     "0e0087da47c44bb3b86072021b30da8c": {
      "model_module": "@jupyter-widgets/controls",
      "model_module_version": "2.0.0",
      "model_name": "HTMLModel",
      "state": {
       "layout": "IPY_MODEL_6bf9868c9b6c4d92b46fec5bd8291fc8",
       "style": "IPY_MODEL_aac224ecd90748c2ad3276fff5cdb52b",
       "value": "<div style='height: 16px'></div>"
      }
     },
     "0e36c90b100a4dfe98cb01e049b568c1": {
      "model_module": "@jupyter-widgets/controls",
      "model_module_version": "2.0.0",
      "model_name": "HTMLModel",
      "state": {
       "layout": "IPY_MODEL_9ff9b443696b4421b2e6b7456e9c91e2",
       "style": "IPY_MODEL_2818c8bbc3b34667961244196c2d8e6f",
       "value": "<div style='font-family: monospace; width: 100%;'>From<br><div style='border-left: 1px solid #B4B0BF; padding-left: 10px;'><div style='background-color: #D5F1D5;; color: #256B24;; display: block; white-space: pre-wrap; margin-bottom: 5px;'>approved: False</div><div style='background-color: #D5F1D5;; color: #256B24;; display: block; white-space: pre-wrap; margin-bottom: 5px;'>status_dict: {NodeIdentity <name=test_l, id=8e19e3a1, 🔑=1c0590b8>: (<UserCodeStatus.PENDING: 'pending'>, '')}</div></div></div>"
      }
     },
     "0e3c201ade0a4c888c2d0943fbef7e53": {
      "model_module": "@jupyter-widgets/base",
      "model_module_version": "2.0.0",
      "model_name": "LayoutModel",
      "state": {}
     },
     "0e3c7ba55a7542d5b7a956d495b64853": {
      "model_module": "@jupyter-widgets/base",
      "model_module_version": "2.0.0",
      "model_name": "LayoutModel",
      "state": {
       "display": "none"
      }
     },
     "0e48937c73934ee2ba112a0c5a69da28": {
      "model_module": "@jupyter-widgets/base",
      "model_module_version": "2.0.0",
      "model_name": "LayoutModel",
      "state": {}
     },
     "0e6b06d3d10847c8b5252bc5b2fd1f10": {
      "model_module": "@jupyter-widgets/base",
      "model_module_version": "2.0.0",
      "model_name": "LayoutModel",
      "state": {}
     },
     "0ecf965c05db410ab105c56f4fccbfbb": {
      "model_module": "@jupyter-widgets/controls",
      "model_module_version": "2.0.0",
      "model_name": "HTMLModel",
      "state": {
       "layout": "IPY_MODEL_0b7e638973434ced96772ce0c5276ff8",
       "style": "IPY_MODEL_ec036471c3be465b82a7fb1d98286ad6",
       "value": "<div style='font-family: monospace; width: 100%;'>To<br><div style='border-left: 1px solid #B4B0BF; padding-left: 10px;'><div style='background-color: #D5F1D5;; color: #256B24;; display: block; white-space: pre-wrap; margin-bottom: 5px;'>approved: </div><div style='background-color: #D5F1D5;; color: #256B24;; display: block; white-space: pre-wrap; margin-bottom: 5px;'>status_dict: </div></div></div>"
      }
     },
     "0f2ef0f1291a4449be71665d30b8862f": {
      "model_module": "@jupyter-widgets/controls",
      "model_module_version": "2.0.0",
      "model_name": "HTMLStyleModel",
      "state": {
       "description_width": "",
       "font_size": null,
       "text_color": null
      }
     },
     "0f312afbf92b4e949f700848bd208fa4": {
      "model_module": "@jupyter-widgets/base",
      "model_module_version": "2.0.0",
      "model_name": "LayoutModel",
      "state": {
       "align_items": "center"
      }
     },
     "0f39260ce2104fad8aada71a9013ecf7": {
      "model_module": "@jupyter-widgets/base",
      "model_module_version": "2.0.0",
      "model_name": "LayoutModel",
      "state": {
       "align_items": "center"
      }
     },
     "0f4cdcda15aa4944a2a700f043b08b1e": {
      "model_module": "@jupyter-widgets/controls",
      "model_module_version": "2.0.0",
      "model_name": "ButtonStyleModel",
      "state": {
       "font_family": null,
       "font_size": null,
       "font_style": null,
       "font_variant": null,
       "font_weight": null,
       "text_color": null,
       "text_decoration": null
      }
     },
     "0f847a6c0ed644849a4d671e956fb4de": {
      "model_module": "@jupyter-widgets/base",
      "model_module_version": "2.0.0",
      "model_name": "LayoutModel",
      "state": {
       "align_items": "center",
       "display": "flex"
      }
     },
     "101a25fa840846fd95c88dea876b432d": {
      "model_module": "@jupyter-widgets/controls",
      "model_module_version": "2.0.0",
      "model_name": "HTMLStyleModel",
      "state": {
       "description_width": "",
       "font_size": null,
       "text_color": null
      }
     },
     "102dfa4898da4edeb27220f7254c460b": {
      "model_module": "@jupyter-widgets/controls",
      "model_module_version": "2.0.0",
      "model_name": "HTMLModel",
      "state": {
       "layout": "IPY_MODEL_7f049b5420d64df2996c5616f2d8998c",
       "style": "IPY_MODEL_09fa7a8796974b5ba14897ae580f88ce",
       "value": "<div style='font-family: monospace; width: 100%;'>From<br><div style='border-left: 1px solid #B4B0BF; padding-left: 10px;'><div style='background-color: #D5F1D5;; color: #256B24;; display: block; white-space: pre-wrap; margin-bottom: 5px;'>approved: False</div><div style='background-color: #D5F1D5;; color: #256B24;; display: block; white-space: pre-wrap; margin-bottom: 5px;'>status_dict: {NodeIdentity <name=test_l, id=8e19e3a1, 🔑=1c0590b8>: (<UserCodeStatus.PENDING: 'pending'>, '')}</div></div></div>"
      }
     },
     "1034e4bf3c804f4f9a2e9c33c8094e53": {
      "model_module": "@jupyter-widgets/controls",
      "model_module_version": "2.0.0",
      "model_name": "HTMLStyleModel",
      "state": {
       "description_width": "",
       "font_size": null,
       "text_color": null
      }
     },
     "1093ff5bb95c4043aff2f53423667a4d": {
      "model_module": "@jupyter-widgets/controls",
      "model_module_version": "2.0.0",
      "model_name": "HBoxModel",
      "state": {
       "layout": "IPY_MODEL_493de0eaf7374e0da0ec3eec09f143dd"
      }
     },
     "1094ec648fc34dffa191c2d78e6e0b9f": {
      "model_module": "@jupyter-widgets/base",
      "model_module_version": "2.0.0",
      "model_name": "LayoutModel",
      "state": {}
     },
     "109caa2671944c44aa4361df0285d16b": {
      "model_module": "@jupyter-widgets/base",
      "model_module_version": "2.0.0",
      "model_name": "LayoutModel",
      "state": {
       "overflow": "auto",
       "width": "50%"
      }
     },
     "10a51990f7af41299bab6cf594a4ad74": {
      "model_module": "@jupyter-widgets/controls",
      "model_module_version": "2.0.0",
      "model_name": "VBoxModel",
      "state": {
       "children": [
        "IPY_MODEL_4558dbdf53674da9be2c00b25de030bb",
        "IPY_MODEL_efebe6f293ee42d996fb6a50e8abe6d2"
       ],
       "layout": "IPY_MODEL_7e32157128594404ae02c17722371b72"
      }
     },
     "10b4d1a15dc34e669fb664fbbf5415fc": {
      "model_module": "@jupyter-widgets/controls",
      "model_module_version": "2.0.0",
      "model_name": "CheckboxStyleModel",
      "state": {
       "description_width": ""
      }
     },
     "10cd0bdcfbc1431bbb463f478490d966": {
      "model_module": "@jupyter-widgets/controls",
      "model_module_version": "2.0.0",
      "model_name": "HTMLStyleModel",
      "state": {
       "description_width": "",
       "font_size": null,
       "text_color": null
      }
     },
     "10d46e7005d044bc997be24b79871995": {
      "model_module": "@jupyter-widgets/controls",
      "model_module_version": "2.0.0",
      "model_name": "HTMLStyleModel",
      "state": {
       "description_width": "",
       "font_size": null,
       "text_color": null
      }
     },
     "10e405944a9a492c91871aaefac8e015": {
      "model_module": "@jupyter-widgets/controls",
      "model_module_version": "2.0.0",
      "model_name": "HTMLStyleModel",
      "state": {
       "description_width": "",
       "font_size": null,
       "text_color": null
      }
     },
     "111dd71b0be04eaa9485bc41b9655556": {
      "model_module": "@jupyter-widgets/base",
      "model_module_version": "2.0.0",
      "model_name": "LayoutModel",
      "state": {}
     },
     "114328d3aa954566b36328c9862b017c": {
      "model_module": "@jupyter-widgets/base",
      "model_module_version": "2.0.0",
      "model_name": "LayoutModel",
      "state": {}
     },
     "11a7555263404b7cbf7a7c6ffd2d3062": {
      "model_module": "@jupyter-widgets/controls",
      "model_module_version": "2.0.0",
      "model_name": "HBoxModel",
      "state": {
       "children": [
        "IPY_MODEL_da8095df3b8a43e9b77b139215ff03eb"
       ],
       "layout": "IPY_MODEL_12cea3e2aec94121953fecb3d7b8c657"
      }
     },
     "11a7736f9d194744b6f2e3b390f9d2b1": {
      "model_module": "@jupyter-widgets/controls",
      "model_module_version": "2.0.0",
      "model_name": "HTMLStyleModel",
      "state": {
       "description_width": "",
       "font_size": null,
       "text_color": null
      }
     },
     "12015b98c3cd46ad9d5129f994cdea0a": {
      "model_module": "@jupyter-widgets/controls",
      "model_module_version": "2.0.0",
      "model_name": "HTMLModel",
      "state": {
       "layout": "IPY_MODEL_b9a3810641c2488f9651a301779c52da",
       "style": "IPY_MODEL_65f84047af9c4636acba384410c10c31",
       "value": "<span style='color: #B4B0BF;'>Syncing changes on</span>"
      }
     },
     "123c3f7e2fcc446d9d6f01ff235e7f9a": {
      "model_module": "@jupyter-widgets/controls",
      "model_module_version": "2.0.0",
      "model_name": "VBoxModel",
      "state": {
       "children": [
        "IPY_MODEL_d6b1b601dbb54edda67363a4e9cc01bf"
       ],
       "layout": "IPY_MODEL_03800d03bf5941c2946bb76b980c73a8"
      }
     },
     "1266f73e39504ab798ce644e28e0e9f0": {
      "model_module": "@jupyter-widgets/base",
      "model_module_version": "2.0.0",
      "model_name": "LayoutModel",
      "state": {}
     },
     "128532a70bec479fb859972468e7396a": {
      "model_module": "@jupyter-widgets/controls",
      "model_module_version": "2.0.0",
      "model_name": "HTMLModel",
      "state": {
       "layout": "IPY_MODEL_bc71809fa27e438d82a4bfe6c9dddc78",
       "style": "IPY_MODEL_39a69bec4c4843249337e1c8291b570f",
       "value": "<div style='height: 16px'></div>"
      }
     },
     "12a118ca55604e009ba37e9dd1b95245": {
      "model_module": "@jupyter-widgets/controls",
      "model_module_version": "2.0.0",
      "model_name": "HTMLStyleModel",
      "state": {
       "description_width": "",
       "font_size": null,
       "text_color": null
      }
     },
     "12cea3e2aec94121953fecb3d7b8c657": {
      "model_module": "@jupyter-widgets/base",
      "model_module_version": "2.0.0",
      "model_name": "LayoutModel",
      "state": {}
     },
     "135b1e8ba0394c548d6c477019b0bfd6": {
      "model_module": "@jupyter-widgets/controls",
      "model_module_version": "2.0.0",
      "model_name": "HTMLModel",
      "state": {
       "layout": "IPY_MODEL_4e6220e4ba864f20b3012a128d4467f1",
       "style": "IPY_MODEL_61996c1290af436e822571700486c3c5",
       "value": "<span style='margin-left: 5px; font-weight: bold; color: #373B7B;'>compute_mean</span> <span style='margin-left: 5px; color: #B4B0BF;'>#1234...</span>"
      }
     },
     "1362573896f74496ad7ca35bf4bcae2a": {
      "model_module": "@jupyter-widgets/controls",
      "model_module_version": "2.0.0",
      "model_name": "CheckboxModel",
      "state": {
       "description": "Sync",
       "disabled": false,
       "layout": "IPY_MODEL_3137a527c131463a9628176335ecaa4e",
       "style": "IPY_MODEL_0b89b7c77e844361af6ea28a4a095992",
       "value": false
      }
     },
     "136b0118b6594f98bd4afe60553f8ff0": {
      "model_module": "@jupyter-widgets/controls",
      "model_module_version": "2.0.0",
      "model_name": "HTMLStyleModel",
      "state": {
       "description_width": "",
       "font_size": null,
       "text_color": null
      }
     },
     "13ae4daf77c1468cbbe0b0d8ab004bbd": {
      "model_module": "@jupyter-widgets/controls",
      "model_module_version": "2.0.0",
      "model_name": "CheckboxModel",
      "state": {
       "description": "Sync",
       "disabled": false,
       "layout": "IPY_MODEL_5312381888d24177a4ff2a4ed9b8616f",
       "style": "IPY_MODEL_99530889970f458ea6f7a694940029f0",
       "value": false
      }
     },
     "13cba9197db5436eb182ff8e6d368eb7": {
      "model_module": "@jupyter-widgets/controls",
      "model_module_version": "2.0.0",
      "model_name": "VBoxModel",
      "state": {
       "children": [
        "IPY_MODEL_ac37f1d10d604a3d90355a1633f214d3"
       ],
       "layout": "IPY_MODEL_2d8f73c2a73b4e4ab860aab68929bb6d"
      }
     },
     "143d2d5312d941dfa552a37029605f00": {
      "model_module": "@jupyter-widgets/base",
      "model_module_version": "2.0.0",
      "model_name": "LayoutModel",
      "state": {}
     },
     "1440b432c0e94700be10cc52dfb2cb86": {
      "model_module": "@jupyter-widgets/controls",
      "model_module_version": "2.0.0",
      "model_name": "HTMLStyleModel",
      "state": {
       "description_width": "",
       "font_size": null,
       "text_color": null
      }
     },
     "14496d2b75374aaf8cf4013098773bcc": {
      "model_module": "@jupyter-widgets/base",
      "model_module_version": "2.0.0",
      "model_name": "LayoutModel",
      "state": {}
     },
     "1513596f7eff47b19b4f5fcf9d92f7bd": {
      "model_module": "@jupyter-widgets/controls",
      "model_module_version": "2.0.0",
      "model_name": "HTMLStyleModel",
      "state": {
       "description_width": "",
       "font_size": null,
       "text_color": null
      }
     },
     "151995f5ade442cdb9ff7f59cdc45a3f": {
      "model_module": "@jupyter-widgets/controls",
      "model_module_version": "2.0.0",
      "model_name": "HTMLModel",
      "state": {
       "layout": "IPY_MODEL_a0c9d4a7a79145cd9e083597063e83d8",
       "style": "IPY_MODEL_73719b0780624cffb948f609ea14aef3",
       "value": "<div style='height: 16px'></div>"
      }
     },
     "159e6cd766194ebfa700cdde76a98e3c": {
      "model_module": "@jupyter-widgets/controls",
      "model_module_version": "2.0.0",
      "model_name": "HTMLStyleModel",
      "state": {
       "description_width": "",
       "font_size": null,
       "text_color": null
      }
     },
     "15d05673c9d947b3aca482e41723c8e9": {
      "model_module": "@jupyter-widgets/base",
      "model_module_version": "2.0.0",
      "model_name": "LayoutModel",
      "state": {
       "height": "25px",
       "margin": "0",
       "padding": "0",
       "width": "25px"
      }
     },
     "161b27be3adc4a27969a88c1dc761fbd": {
      "model_module": "@jupyter-widgets/base",
      "model_module_version": "2.0.0",
      "model_name": "LayoutModel",
      "state": {
       "margin": "0 5px 0 0"
      }
     },
     "164ae7a76a574f6abb31b4d8201bf117": {
      "model_module": "@jupyter-widgets/controls",
      "model_module_version": "2.0.0",
      "model_name": "HTMLStyleModel",
      "state": {
       "description_width": "",
       "font_size": null,
       "text_color": null
      }
     },
     "16de0ed2477f4ba2b617a33adfc97e9a": {
      "model_module": "@jupyter-widgets/controls",
      "model_module_version": "2.0.0",
      "model_name": "HTMLModel",
      "state": {
       "layout": "IPY_MODEL_7869a6e4e38345c0a99b03401d1f8d30",
       "style": "IPY_MODEL_5caba6ce44184ec9bf61c608f0d7d5ae",
       "value": "<div style='height: 16px'></div>"
      }
     },
     "1702a3973d9249d089fe6b5246b97e44": {
      "model_module": "@jupyter-widgets/controls",
      "model_module_version": "2.0.0",
      "model_name": "HTMLModel",
      "state": {
       "layout": "IPY_MODEL_ceae8d1d371144518bd88117b65a51bd",
       "style": "IPY_MODEL_10e405944a9a492c91871aaefac8e015",
       "value": "<div style='height: 16px'></div>"
      }
     },
     "17495ce0c6f34ecdaa249d805c174e67": {
      "model_module": "@jupyter-widgets/controls",
      "model_module_version": "2.0.0",
      "model_name": "HTMLStyleModel",
      "state": {
       "description_width": "",
       "font_size": null,
       "text_color": null
      }
     },
     "17806d30bb65435aa6ef889b96339575": {
      "model_module": "@jupyter-widgets/controls",
      "model_module_version": "2.0.0",
      "model_name": "HTMLStyleModel",
      "state": {
       "description_width": "",
       "font_size": null,
       "text_color": null
      }
     },
     "17fa9485dd1b4ffa87591a7122d9a484": {
      "model_module": "@jupyter-widgets/base",
      "model_module_version": "2.0.0",
      "model_name": "LayoutModel",
      "state": {}
     },
     "184aa113776245ca886c31d612670a85": {
      "model_module": "@jupyter-widgets/base",
      "model_module_version": "2.0.0",
      "model_name": "LayoutModel",
      "state": {
       "border_bottom": "#464A91 solid 1.5px",
       "border_left": "#464A91 solid 1.5px",
       "border_right": "#464A91 solid 1.5px",
       "border_top": "#464A91 solid 1.5px",
       "width": "200px"
      }
     },
     "1912c76d3ecb4404919abcf06dfc09d0": {
      "model_module": "@jupyter-widgets/controls",
      "model_module_version": "2.0.0",
      "model_name": "BoxModel",
      "state": {
       "children": [
        "IPY_MODEL_dcac0f6ccb4448e3af34068614fba885",
        "IPY_MODEL_514f79bbfb9a48d2a68709f8432734dd"
       ],
       "layout": "IPY_MODEL_7267a30db7c744f38d8a6c8e079a9b41"
      }
     },
     "195e37139ea44b56990ee071a04fd8ca": {
      "model_module": "@jupyter-widgets/base",
      "model_module_version": "2.0.0",
      "model_name": "LayoutModel",
      "state": {
       "align_items": "center"
      }
     },
     "1963c10608a047e48309a0acd85902b8": {
      "model_module": "@jupyter-widgets/base",
      "model_module_version": "2.0.0",
      "model_name": "LayoutModel",
      "state": {}
     },
     "197adf828a5647a29e0a51c14ff40fc4": {
      "model_module": "@jupyter-widgets/controls",
      "model_module_version": "2.0.0",
      "model_name": "HTMLModel",
      "state": {
       "layout": "IPY_MODEL_850ae0b16c0a4dfc9eb1f8e97678f112",
       "style": "IPY_MODEL_68d141674d8d43ef92114f5cad0226f1",
       "value": "<div style=\"text-align: center; margin: 10px 0; border: 1px dashed #B4B0BF;\"></div>"
      }
     },
     "198c8d1c7e9f449cabcefc3f992bd1fc": {
      "model_module": "@jupyter-widgets/controls",
      "model_module_version": "2.0.0",
      "model_name": "HTMLStyleModel",
      "state": {
       "description_width": "",
       "font_size": null,
       "text_color": null
      }
     },
     "19c23e8287ca4a64bb9eb00aa7cbced4": {
      "model_module": "@jupyter-widgets/base",
      "model_module_version": "2.0.0",
      "model_name": "LayoutModel",
      "state": {
       "align_items": "center"
      }
     },
     "19f90eef29994a6f97d6c763b95e60f7": {
      "model_module": "@jupyter-widgets/base",
      "model_module_version": "2.0.0",
      "model_name": "LayoutModel",
      "state": {}
     },
     "1a0d3c683d10467db6573f9c9b3672f0": {
      "model_module": "@jupyter-widgets/base",
      "model_module_version": "2.0.0",
      "model_name": "LayoutModel",
      "state": {}
     },
     "1a2fd5f7a3314d0b9d498aeaa2476f68": {
      "model_module": "@jupyter-widgets/base",
      "model_module_version": "2.0.0",
      "model_name": "LayoutModel",
      "state": {
       "margin": "0 5px 0 0"
      }
     },
     "1a53834f2e694583adef2479bf8fbda1": {
      "model_module": "@jupyter-widgets/controls",
      "model_module_version": "2.0.0",
      "model_name": "HTMLStyleModel",
      "state": {
       "description_width": "",
       "font_size": null,
       "text_color": null
      }
     },
     "1a7eb0e7dbb048efa593ee51426784b2": {
      "model_module": "@jupyter-widgets/controls",
      "model_module_version": "2.0.0",
      "model_name": "HBoxModel",
      "state": {
       "children": [
        "IPY_MODEL_c41fc5d193ae4feaaf28f09c7372fcb6",
        "IPY_MODEL_c974ec62f7fd45aca6fba5fd0c8b4940"
       ],
       "layout": "IPY_MODEL_fdec6581ac6043aeb5aa527aa3ac6f72"
      }
     },
     "1af60fa6d99b4d388789c1eabedb1503": {
      "model_module": "@jupyter-widgets/controls",
      "model_module_version": "2.0.0",
      "model_name": "HTMLStyleModel",
      "state": {
       "description_width": "",
       "font_size": null,
       "text_color": null
      }
     },
     "1b58af15d4024dea98907078359ce125": {
      "model_module": "@jupyter-widgets/controls",
      "model_module_version": "2.0.0",
      "model_name": "HTMLStyleModel",
      "state": {
       "description_width": "",
       "font_size": null,
       "text_color": null
      }
     },
     "1b847a5cf7ec428ebf34612e49b0bda0": {
      "model_module": "@jupyter-widgets/controls",
      "model_module_version": "2.0.0",
      "model_name": "HTMLStyleModel",
      "state": {
       "description_width": "",
       "font_size": null,
       "text_color": null
      }
     },
     "1b9e76c6447048a0beb71d75d788c733": {
      "model_module": "@jupyter-widgets/controls",
      "model_module_version": "2.0.0",
      "model_name": "HTMLStyleModel",
      "state": {
       "description_width": "",
       "font_size": null,
       "text_color": null
      }
     },
     "1bb5e61c0c254ad1bd1fb826e8a4b1f1": {
      "model_module": "@jupyter-widgets/controls",
      "model_module_version": "2.0.0",
      "model_name": "BoxModel",
      "state": {
       "children": [
        "IPY_MODEL_4c991ef085bc4d5688fc2aa4f6a63c1f",
        "IPY_MODEL_29fa1c3009184b59ac47dd3aeb8fba72"
       ],
       "layout": "IPY_MODEL_57f88629ab504b46b58208ce6de8dd86"
      }
     },
     "1bea6cb102dc4857834b166f1115386e": {
      "model_module": "@jupyter-widgets/controls",
      "model_module_version": "2.0.0",
      "model_name": "HTMLStyleModel",
      "state": {
       "description_width": "",
       "font_size": null,
       "text_color": null
      }
     },
     "1c0be2938b5c4b0184914caea68980d0": {
      "model_module": "@jupyter-widgets/base",
      "model_module_version": "2.0.0",
      "model_name": "LayoutModel",
      "state": {}
     },
     "1c2ded4797bf43cd93fec6e857cea566": {
      "model_module": "@jupyter-widgets/controls",
      "model_module_version": "2.0.0",
      "model_name": "HTMLModel",
      "state": {
       "layout": "IPY_MODEL_e969bad4dfc44509bdd4e9db6a0fd333",
       "style": "IPY_MODEL_ad3442af325c421b83f04c602d1c47a2",
       "value": "<span style='margin-left: 5px; font-weight: bold; color: #373B7B;'>compute_mean</span> <span style='margin-left: 5px; color: #B4B0BF;'>#1234...</span>"
      }
     },
     "1c7ffe67cc2144479dceed98bbcee0fa": {
      "model_module": "@jupyter-widgets/base",
      "model_module_version": "2.0.0",
      "model_name": "LayoutModel",
      "state": {
       "display": "none"
      }
     },
     "1c84d1e2a15f4904894fd1c340612fd1": {
      "model_module": "@jupyter-widgets/controls",
      "model_module_version": "2.0.0",
      "model_name": "HBoxModel",
      "state": {
       "children": [
        "IPY_MODEL_47b9198acd8a4b16a549001e8566563f",
        "IPY_MODEL_480ab3ba12754ea28e409f823c92ffd0",
        "IPY_MODEL_bf0608c6638c460b87da39348d4461e9"
       ],
       "layout": "IPY_MODEL_195e37139ea44b56990ee071a04fd8ca"
      }
     },
     "1c8c1a367c854e1fa4ba5d2326d3bfc6": {
      "model_module": "@jupyter-widgets/controls",
      "model_module_version": "2.0.0",
      "model_name": "HBoxModel",
      "state": {
       "children": [
        "IPY_MODEL_bc8661d248e94e489581fb9b3b6b6ce4",
        "IPY_MODEL_c5dddb849c654284a45f54a8d5fe3ae3"
       ],
       "layout": "IPY_MODEL_386f232733c74fa9aea6fff9ff6e6481"
      }
     },
     "1cfc30538e8f4b1eb2e383c3dea61f63": {
      "model_module": "@jupyter-widgets/base",
      "model_module_version": "2.0.0",
      "model_name": "LayoutModel",
      "state": {}
     },
     "1d0ac56fbf65457691dec6871a673f8a": {
      "model_module": "@jupyter-widgets/controls",
      "model_module_version": "2.0.0",
      "model_name": "HTMLModel",
      "state": {
       "layout": "IPY_MODEL_3f8834d267a14add8973b3a211ef9e60",
       "style": "IPY_MODEL_1513596f7eff47b19b4f5fcf9d92f7bd",
       "value": "<div style='font-family: monospace; width: 100%;'>From<br><div style='border-left: 1px solid #B4B0BF; padding-left: 10px;'><div style='background-color: #D5F1D5;; color: #256B24;; display: block; white-space: pre-wrap; margin-bottom: 5px;'>approved: False</div><div style='background-color: #D5F1D5;; color: #256B24;; display: block; white-space: pre-wrap; margin-bottom: 5px;'>status_dict: {NodeIdentity <name=test_l, id=8e19e3a1, 🔑=1c0590b8>: (<UserCodeStatus.PENDING: 'pending'>, '')}</div></div></div>"
      }
     },
     "1d1b954617314a6a9aed11c2299447cf": {
      "model_module": "@jupyter-widgets/base",
      "model_module_version": "2.0.0",
      "model_name": "LayoutModel",
      "state": {}
     },
     "1d44132457c74961b51584a2eab28d71": {
      "model_module": "@jupyter-widgets/controls",
      "model_module_version": "2.0.0",
      "model_name": "ButtonStyleModel",
      "state": {
       "button_color": "transparent",
       "font_family": null,
       "font_size": null,
       "font_style": null,
       "font_variant": null,
       "font_weight": null,
       "text_color": "#464A91",
       "text_decoration": null
      }
     },
     "1d532e4dbcd2404f9e1936836e606a9a": {
      "model_module": "@jupyter-widgets/controls",
      "model_module_version": "2.0.0",
      "model_name": "HTMLStyleModel",
      "state": {
       "description_width": "",
       "font_size": null,
       "text_color": null
      }
     },
     "1d566ed1e8684f389202cd960b484290": {
      "model_module": "@jupyter-widgets/controls",
      "model_module_version": "2.0.0",
      "model_name": "HTMLModel",
      "state": {
       "layout": "IPY_MODEL_e108ed6a277b4b8db4f91a091ad52d15",
       "style": "IPY_MODEL_7f1a7b4bfd094ad58b68b8348399ab0e",
       "value": "<div style='font-family: monospace; width: 100%;'>To<br><div style='border-left: 1px solid #B4B0BF; padding-left: 10px;'><div style='background-color: #D5F1D5;; color: #256B24;; display: block; white-space: pre-wrap; margin-bottom: 5px;'>approved: </div><div style='background-color: #D5F1D5;; color: #256B24;; display: block; white-space: pre-wrap; margin-bottom: 5px;'>status_dict: </div></div></div>"
      }
     },
     "1e33353c9bdb4ec2930a9cb62d238a32": {
      "model_module": "@jupyter-widgets/controls",
      "model_module_version": "2.0.0",
      "model_name": "AccordionModel",
      "state": {
       "layout": "IPY_MODEL_68924a04871048bc98a2da68e78f32fc"
      }
     },
     "1e960e876dba4f23a8e382c0bd35a101": {
      "model_module": "@jupyter-widgets/controls",
      "model_module_version": "2.0.0",
      "model_name": "HTMLModel",
      "state": {
       "layout": "IPY_MODEL_310f3e48eb7347b2a2b437bdee681578",
       "style": "IPY_MODEL_a1dff8a94ca8487faeccc0b2b849913b",
       "value": "<span style='color: #B4B0BF;'>Syncing changes on</span>"
      }
     },
     "1ec4c50f27ce48ad9afdc66a05e2e1d4": {
      "model_module": "@jupyter-widgets/base",
      "model_module_version": "2.0.0",
      "model_name": "LayoutModel",
      "state": {}
     },
     "1f1b81f9fb8047d794f941a83cbfdc3f": {
      "model_module": "@jupyter-widgets/controls",
      "model_module_version": "2.0.0",
      "model_name": "ButtonStyleModel",
      "state": {
       "button_color": "transparent",
       "font_family": null,
       "font_size": null,
       "font_style": null,
       "font_variant": null,
       "font_weight": null,
       "text_color": "#464A91",
       "text_decoration": null
      }
     },
     "1f379c42c7a9449f8367fa255390d990": {
      "model_module": "@jupyter-widgets/base",
      "model_module_version": "2.0.0",
      "model_name": "LayoutModel",
      "state": {}
     },
     "1f48bd4bf87a45489b286ed799e566cf": {
      "model_module": "@jupyter-widgets/controls",
      "model_module_version": "2.0.0",
      "model_name": "AccordionModel",
      "state": {
       "children": [
        "IPY_MODEL_765b826a97b645a187a14abc105be603"
       ],
       "layout": "IPY_MODEL_ce7ae4b8c9354bc0b3a41e5586eedbf3",
       "titles": [
        "UserCodeStatusCollection (2 changes)"
       ]
      }
     },
     "1f61d65773c24d0892ce712277a0c33b": {
      "model_module": "@jupyter-widgets/controls",
      "model_module_version": "2.0.0",
      "model_name": "HTMLModel",
      "state": {
       "layout": "IPY_MODEL_8cfd52f1fe6d432997432ff4dbbf0581",
       "style": "IPY_MODEL_8006d195936545118e2c4f0002bf04ba",
       "value": "<div style='height: 16px'></div>"
      }
     },
     "1f6d7a1c6a154a29a0de0f6d587cf31c": {
      "model_module": "@jupyter-widgets/base",
      "model_module_version": "2.0.0",
      "model_name": "LayoutModel",
      "state": {}
     },
     "1f8b2ace2de94160a6bfab10f181f991": {
      "model_module": "@jupyter-widgets/controls",
      "model_module_version": "2.0.0",
      "model_name": "HTMLModel",
      "state": {
       "layout": "IPY_MODEL_d837d917510d4f02a092ebad53e10236",
       "style": "IPY_MODEL_f9816137b1674ae48e65b4892d930172",
       "value": "<div style='font-family: monospace; width: 100%;'>To<br><div style='border-left: 1px solid #B4B0BF; padding-left: 10px;'><div style='background-color: #D5F1D5;; color: #256B24;; display: block; white-space: pre-wrap; margin-bottom: 5px;'>service_func_name: </div><div style='background-color: #D5F1D5;; color: #256B24;; display: block; white-space: pre-wrap; margin-bottom: 5px;'>input_owners: </div><div style='background-color: #D5F1D5;; color: #256B24;; display: block; white-space: pre-wrap; margin-bottom: 5px;'>code_status: </div><div style='background-color: #D5F1D5;; color: #256B24;; display: block; white-space: pre-wrap; margin-bottom: 5px;'>worker_pool_name: </div></div></div>"
      }
     },
     "1f9ea03b87d34fe686ef9780695b4794": {
      "model_module": "@jupyter-widgets/controls",
      "model_module_version": "2.0.0",
      "model_name": "HTMLModel",
      "state": {
       "layout": "IPY_MODEL_fa38f60e82a54dd3af1b682b457f9618",
       "style": "IPY_MODEL_03639312db95451fbc7727af9db5690a",
       "value": "<div style='font-family: monospace; width: 100%;'>To<br><div style='border-left: 1px solid #B4B0BF; padding-left: 10px;'><div style='background-color: #D5F1D5;; color: #256B24;; display: block; white-space: pre-wrap; margin-bottom: 5px;'>service_func_name: </div><div style='background-color: #D5F1D5;; color: #256B24;; display: block; white-space: pre-wrap; margin-bottom: 5px;'>input_owners: </div><div style='background-color: #D5F1D5;; color: #256B24;; display: block; white-space: pre-wrap; margin-bottom: 5px;'>code_status: </div><div style='background-color: #D5F1D5;; color: #256B24;; display: block; white-space: pre-wrap; margin-bottom: 5px;'>worker_pool_name: </div></div></div>"
      }
     },
     "1fc251190d3a417593d5ca939a3dc34e": {
      "model_module": "@jupyter-widgets/controls",
      "model_module_version": "2.0.0",
      "model_name": "AccordionModel",
      "state": {
       "layout": "IPY_MODEL_cf9f7a40a3a74667a3d02cf7123d8828"
      }
     },
     "1fc58664f1f542d8bae6904a7de6b225": {
      "model_module": "@jupyter-widgets/controls",
      "model_module_version": "2.0.0",
      "model_name": "VBoxModel",
      "state": {
       "children": [
        "IPY_MODEL_f69462eebf504f48b0d6cf9b7eb84870",
        "IPY_MODEL_213150763f3f47719a40f42ee7391946",
        "IPY_MODEL_5cef045c1ea94d3daeadb83274dec812",
        "IPY_MODEL_bb3480166f8e45a8bf57ae8fd9976ca2",
        "IPY_MODEL_5c963e037d9c4925853b1b45ed485f62",
        "IPY_MODEL_fc294e2bad6e45e399bb7b63df16487d",
        "IPY_MODEL_5296c1cae1a4460b9f2af3e012a560c1",
        "IPY_MODEL_9792d4255e984ab1a8dbd0fd9da6b612"
       ],
       "layout": "IPY_MODEL_9bc5785e8d6040458f519d51223aa107"
      }
     },
     "1fd0033e47eb4dba87f28a37e4505aa7": {
      "model_module": "@jupyter-widgets/controls",
      "model_module_version": "2.0.0",
      "model_name": "HBoxModel",
      "state": {
       "children": [
        "IPY_MODEL_4b9404ead73e4608a3d94a12eaae9164",
        "IPY_MODEL_7804351864eb4ef1bf8ee97480231d4b"
       ],
       "layout": "IPY_MODEL_d789c4d524374b7596c8ab8831f14666"
      }
     },
     "1fd33872122a407aafddd8d15306d106": {
      "model_module": "@jupyter-widgets/controls",
      "model_module_version": "2.0.0",
      "model_name": "HTMLModel",
      "state": {
       "layout": "IPY_MODEL_ed3cf177e33c4c17aa38d641575efaf9",
       "style": "IPY_MODEL_7073155e6e124188bc063c0dceefc2e1",
       "value": "<span style='background-color: #C2DEF0; border-radius: 4px; padding: 4px 6px; color: #373B7B;'>Code</span>"
      }
     },
     "1fe127796bc84e3d859e8eab86a905ca": {
      "model_module": "@jupyter-widgets/controls",
      "model_module_version": "2.0.0",
      "model_name": "HTMLStyleModel",
      "state": {
       "description_width": "",
       "font_size": null,
       "text_color": null
      }
     },
     "1ff6e2b4aa3047d59695bd2d202045be": {
      "model_module": "@jupyter-widgets/base",
      "model_module_version": "2.0.0",
      "model_name": "LayoutModel",
      "state": {
       "height": "25px",
       "margin": "0",
       "padding": "0",
       "width": "25px"
      }
     },
     "205ae1bd181246008941568522c052a8": {
      "model_module": "@jupyter-widgets/controls",
      "model_module_version": "2.0.0",
      "model_name": "HTMLStyleModel",
      "state": {
       "description_width": "",
       "font_size": null,
       "text_color": null
      }
     },
     "206594d7d79c44d68b10b917a9822017": {
      "model_module": "@jupyter-widgets/base",
      "model_module_version": "2.0.0",
      "model_name": "LayoutModel",
      "state": {}
     },
     "206d6247aa444cd0ae724cb9c5d1c9c0": {
      "model_module": "@jupyter-widgets/base",
      "model_module_version": "2.0.0",
      "model_name": "LayoutModel",
      "state": {}
     },
     "20a08f77da244873be855bd4091db188": {
      "model_module": "@jupyter-widgets/controls",
      "model_module_version": "2.0.0",
      "model_name": "HTMLStyleModel",
      "state": {
       "description_width": "",
       "font_size": null,
       "text_color": null
      }
     },
     "20bf7be4581c4d91b4a0eee5440bc722": {
      "model_module": "@jupyter-widgets/controls",
      "model_module_version": "2.0.0",
      "model_name": "HTMLStyleModel",
      "state": {
       "description_width": "",
       "font_size": null,
       "text_color": null
      }
     },
     "20c11437b646421fa807cb77c11e7180": {
      "model_module": "@jupyter-widgets/controls",
      "model_module_version": "2.0.0",
      "model_name": "HTMLModel",
      "state": {
       "layout": "IPY_MODEL_7f0ebb5e753a48c5a423e794ed4c01ef",
       "style": "IPY_MODEL_bfe49a242b9342cd851dbee0fb1a29c3",
       "value": "<div style='height: 16px'></div>"
      }
     },
     "20df72485b3a44a99502420a548e09e5": {
      "model_module": "@jupyter-widgets/controls",
      "model_module_version": "2.0.0",
      "model_name": "HTMLStyleModel",
      "state": {
       "description_width": "",
       "font_size": null,
       "text_color": null
      }
     },
     "210dbe8c060d466e8bace89f46007ed3": {
      "model_module": "@jupyter-widgets/controls",
      "model_module_version": "2.0.0",
      "model_name": "HTMLModel",
      "state": {
       "layout": "IPY_MODEL_26ddbda0bd70430a968fe69e3fbebafa",
       "style": "IPY_MODEL_3147b82bc5c040f291b22e07926a468d",
       "value": "<div style='height: 16px;'></div>"
      }
     },
     "213150763f3f47719a40f42ee7391946": {
      "model_module": "@jupyter-widgets/controls",
      "model_module_version": "2.0.0",
      "model_name": "VBoxModel",
      "state": {
       "children": [
        "IPY_MODEL_86a7ddeab36444cf88f5bc9339e3e458",
        "IPY_MODEL_22db752c2e4d48fdb8345f3fed90adab"
       ],
       "layout": "IPY_MODEL_73a3df66f888492b96402d6e20559535"
      }
     },
     "21942031eef6444b9a2ee94f91982b85": {
      "model_module": "@jupyter-widgets/base",
      "model_module_version": "2.0.0",
      "model_name": "LayoutModel",
      "state": {}
     },
     "21bb46137a1445708bd873b45e88b7f6": {
      "model_module": "@jupyter-widgets/base",
      "model_module_version": "2.0.0",
      "model_name": "LayoutModel",
      "state": {
       "border_bottom": "#464A91 solid 1.5px",
       "border_left": "#464A91 solid 1.5px",
       "border_right": "#464A91 solid 1.5px",
       "border_top": "#464A91 solid 1.5px",
       "width": "200px"
      }
     },
     "21ce7ba2f9ea4be6aa56d1e9329e07ec": {
      "model_module": "@jupyter-widgets/base",
      "model_module_version": "2.0.0",
      "model_name": "LayoutModel",
      "state": {}
     },
     "220b507bfa9645e385a19885b6151a1d": {
      "model_module": "@jupyter-widgets/controls",
      "model_module_version": "2.0.0",
      "model_name": "HBoxModel",
      "state": {
       "children": [
        "IPY_MODEL_aa2becaa8e2946af9575bf55a2bd9bce",
        "IPY_MODEL_9a29f319c1a1462386e39595da18b3c8",
        "IPY_MODEL_3e2fded05d4f45d6a0a4de9adec785af"
       ],
       "layout": "IPY_MODEL_0f312afbf92b4e949f700848bd208fa4"
      }
     },
     "222adc48486f4be7aaedd43d00990aa5": {
      "model_module": "@jupyter-widgets/base",
      "model_module_version": "2.0.0",
      "model_name": "LayoutModel",
      "state": {
       "overflow": "auto",
       "width": "50%"
      }
     },
     "229377348c7640f99c21a177e8f5440c": {
      "model_module": "@jupyter-widgets/base",
      "model_module_version": "2.0.0",
      "model_name": "LayoutModel",
      "state": {}
     },
     "22db752c2e4d48fdb8345f3fed90adab": {
      "model_module": "@jupyter-widgets/controls",
      "model_module_version": "2.0.0",
      "model_name": "HBoxModel",
      "state": {
       "children": [
        "IPY_MODEL_c5270c712a324b1bace3bc7954ab2df1",
        "IPY_MODEL_92a09f529bdb46af8c716cca8e17bbe3"
       ],
       "layout": "IPY_MODEL_7497cb1e443e413fadd3d77ed05ac3c1"
      }
     },
     "2308fe7df3884d4dbff14cc337fe0828": {
      "model_module": "@jupyter-widgets/controls",
      "model_module_version": "2.0.0",
      "model_name": "HTMLModel",
      "state": {
       "layout": "IPY_MODEL_4eeae658d88043a0ad2ffef558ce6fa6",
       "style": "IPY_MODEL_bcab864eaa18442b917800f3df849e5b",
       "value": "<div style='font-family: monospace; width: 100%;'>To<br><div style='border-left: 1px solid #B4B0BF; padding-left: 10px;'><div style='background-color: #D5F1D5;; color: #256B24;; display: block; white-space: pre-wrap; margin-bottom: 5px;'>approved: </div><div style='background-color: #D5F1D5;; color: #256B24;; display: block; white-space: pre-wrap; margin-bottom: 5px;'>status_dict: </div></div></div>"
      }
     },
     "2352ff2318d041ef92fe2aa563591748": {
      "model_module": "@jupyter-widgets/base",
      "model_module_version": "2.0.0",
      "model_name": "LayoutModel",
      "state": {
       "display": "none"
      }
     },
     "238c477ddb084f0a8abf5c1c52f3f300": {
      "model_module": "@jupyter-widgets/base",
      "model_module_version": "2.0.0",
      "model_name": "LayoutModel",
      "state": {}
     },
     "23a07ba3acbc44a1ae792ca5d91ed9b4": {
      "model_module": "@jupyter-widgets/base",
      "model_module_version": "2.0.0",
      "model_name": "LayoutModel",
      "state": {}
     },
     "23a3a575f9a04507990f0fe52c8216df": {
      "model_module": "@jupyter-widgets/base",
      "model_module_version": "2.0.0",
      "model_name": "LayoutModel",
      "state": {}
     },
     "23f0a20dcb0943d38769614e072402bf": {
      "model_module": "@jupyter-widgets/controls",
      "model_module_version": "2.0.0",
      "model_name": "HTMLModel",
      "state": {
       "layout": "IPY_MODEL_c1ff0cd54cf14f1b8a34c61d0013753e",
       "style": "IPY_MODEL_33d9e33533784c24822d034ce3b86c99",
       "value": "<div style='height: 16px;'></div>"
      }
     },
     "245e2f786d8849cba02246e95b3b2afd": {
      "model_module": "@jupyter-widgets/controls",
      "model_module_version": "2.0.0",
      "model_name": "HTMLStyleModel",
      "state": {
       "description_width": "",
       "font_size": null,
       "text_color": null
      }
     },
     "246ceb9f205f486693b81ec9f1efdbe5": {
      "model_module": "@jupyter-widgets/controls",
      "model_module_version": "2.0.0",
      "model_name": "CheckboxStyleModel",
      "state": {
       "description_width": ""
      }
     },
     "246ebc9c8d9d4288b5899a58d6894965": {
      "model_module": "@jupyter-widgets/controls",
      "model_module_version": "2.0.0",
      "model_name": "HTMLStyleModel",
      "state": {
       "description_width": "",
       "font_size": null,
       "text_color": null
      }
     },
     "24a0e2ad40934e8b9bfd3de45d4d61e1": {
      "model_module": "@jupyter-widgets/controls",
      "model_module_version": "2.0.0",
      "model_name": "ButtonStyleModel",
      "state": {
       "font_family": null,
       "font_size": null,
       "font_style": null,
       "font_variant": null,
       "font_weight": null,
       "text_color": null,
       "text_decoration": null
      }
     },
     "24e3c1d474664840831b4189ebf15b06": {
      "model_module": "@jupyter-widgets/base",
      "model_module_version": "2.0.0",
      "model_name": "LayoutModel",
      "state": {
       "align_items": "center"
      }
     },
     "24fcaee2e31b47448c0780d7b20fc431": {
      "model_module": "@jupyter-widgets/base",
      "model_module_version": "2.0.0",
      "model_name": "LayoutModel",
      "state": {
       "overflow": "auto",
       "width": "50%"
      }
     },
     "261af95aacac48ec88be7439c3008ed1": {
      "model_module": "@jupyter-widgets/controls",
      "model_module_version": "2.0.0",
      "model_name": "HTMLModel",
      "state": {
       "layout": "IPY_MODEL_9b81c504c71c4e4c825de7e71f7b1689",
       "style": "IPY_MODEL_aa675b7b9c2c499b9b316b6c744305a5",
       "value": "<div style='font-family: monospace; width: 100%;'>From<br><div style='border-left: 1px solid #B4B0BF; padding-left: 10px;'><div style='background-color: #D5F1D5;; color: #256B24;; display: block; white-space: pre-wrap; margin-bottom: 5px;'>approved: False</div><div style='background-color: #D5F1D5;; color: #256B24;; display: block; white-space: pre-wrap; margin-bottom: 5px;'>status_dict: {NodeIdentity <name=test_l, id=8e19e3a1, 🔑=1c0590b8>: (<UserCodeStatus.PENDING: 'pending'>, '')}</div></div></div>"
      }
     },
     "269bb36347ad48e9bfa06fb44906936f": {
      "model_module": "@jupyter-widgets/controls",
      "model_module_version": "2.0.0",
      "model_name": "HTMLModel",
      "state": {
       "layout": "IPY_MODEL_736823c4c4e14d05b330d5821d21de0d",
       "style": "IPY_MODEL_7bd243d6da8e49499620cbd5269d20c1",
       "value": "<div style='font-family: monospace; width: 100%;'>From<br><div style='border-left: 1px solid #B4B0BF; padding-left: 10px;'><div style='background-color: #D5F1D5;; color: #256B24;; display: block; white-space: pre-wrap; margin-bottom: 5px;'>approved: False</div><div style='background-color: #D5F1D5;; color: #256B24;; display: block; white-space: pre-wrap; margin-bottom: 5px;'>status_dict: {NodeIdentity <name=test_l, id=8e19e3a1, 🔑=1c0590b8>: (<UserCodeStatus.PENDING: 'pending'>, '')}</div></div></div>"
      }
     },
     "26ddbda0bd70430a968fe69e3fbebafa": {
      "model_module": "@jupyter-widgets/base",
      "model_module_version": "2.0.0",
      "model_name": "LayoutModel",
      "state": {}
     },
     "273228aaeedd4eb983e40bac7050f370": {
      "model_module": "@jupyter-widgets/base",
      "model_module_version": "2.0.0",
      "model_name": "LayoutModel",
      "state": {}
     },
     "27720797c9994b20a80312d2022a8286": {
      "model_module": "@jupyter-widgets/base",
      "model_module_version": "2.0.0",
      "model_name": "LayoutModel",
      "state": {}
     },
     "27729318a36c47c5aa869f80fcc8c09d": {
      "model_module": "@jupyter-widgets/controls",
      "model_module_version": "2.0.0",
      "model_name": "HBoxModel",
      "state": {
       "layout": "IPY_MODEL_206594d7d79c44d68b10b917a9822017"
      }
     },
     "2818c8bbc3b34667961244196c2d8e6f": {
      "model_module": "@jupyter-widgets/controls",
      "model_module_version": "2.0.0",
      "model_name": "HTMLStyleModel",
      "state": {
       "description_width": "",
       "font_size": null,
       "text_color": null
      }
     },
     "28349324298249dfa1d6f6d5458845e4": {
      "model_module": "@jupyter-widgets/base",
      "model_module_version": "2.0.0",
      "model_name": "LayoutModel",
      "state": {}
     },
     "283b495b4b4b404db6f5acefe1640fc0": {
      "model_module": "@jupyter-widgets/controls",
      "model_module_version": "2.0.0",
      "model_name": "HTMLModel",
      "state": {
       "layout": "IPY_MODEL_87f4a4abdb504253b4257f4744d786b2",
       "style": "IPY_MODEL_05d0f4ea3f4f4b6ca2f17cbff99ead5f",
       "value": "<div style='font-family: monospace; width: 100%;'>To<br><div style='border-left: 1px solid #B4B0BF; padding-left: 10px;'><div style='background-color: #D5F1D5;; color: #256B24;; display: block; white-space: pre-wrap; margin-bottom: 5px;'>approved: </div><div style='background-color: #D5F1D5;; color: #256B24;; display: block; white-space: pre-wrap; margin-bottom: 5px;'>status_dict: </div></div></div>"
      }
     },
     "28da8f5ee0f24e36a00e80ab3d1b405e": {
      "model_module": "@jupyter-widgets/base",
      "model_module_version": "2.0.0",
      "model_name": "LayoutModel",
      "state": {
       "align_items": "center"
      }
     },
     "290c34e9adb14b3d9984941f93561d47": {
      "model_module": "@jupyter-widgets/controls",
      "model_module_version": "2.0.0",
      "model_name": "ButtonModel",
      "state": {
       "description": "Sync Selected Changes",
       "layout": "IPY_MODEL_f565dfe828cb4492918a289c196d2f7f",
       "style": "IPY_MODEL_f05250eb4344459492f5d987eda29fec",
       "tooltip": null
      }
     },
     "293b4ffb6a2d446e8a6d21649661eca9": {
      "model_module": "@jupyter-widgets/controls",
      "model_module_version": "2.0.0",
      "model_name": "HTMLStyleModel",
      "state": {
       "description_width": "",
       "font_size": null,
       "text_color": null
      }
     },
     "2956f7364f20494594cc1bf472811aeb": {
      "model_module": "@jupyter-widgets/controls",
      "model_module_version": "2.0.0",
      "model_name": "VBoxModel",
      "state": {
       "children": [
        "IPY_MODEL_b7985738f2134eac8f01b7f47d65fcb7",
        "IPY_MODEL_f121ed57e865472f9c9c40898a905ec8",
        "IPY_MODEL_be1ccb26f14543dba0c0efdf54d9e953",
        "IPY_MODEL_7c696fb6bacc4501a595709c83dbec85",
        "IPY_MODEL_e53431d3a3424ecfa4779060d18c7800",
        "IPY_MODEL_1fc251190d3a417593d5ca939a3dc34e",
        "IPY_MODEL_16de0ed2477f4ba2b617a33adfc97e9a",
        "IPY_MODEL_40b45bfe9eb642329cea3e19db77c0ca"
       ],
       "layout": "IPY_MODEL_19f90eef29994a6f97d6c763b95e60f7"
      }
     },
     "29811d084e324f69b0f671af35ce3428": {
      "model_module": "@jupyter-widgets/controls",
      "model_module_version": "2.0.0",
      "model_name": "VBoxModel",
      "state": {
       "children": [
        "IPY_MODEL_bee072e270134b9498a22cb392eb2e10",
        "IPY_MODEL_3f5ce8a921154b3faf47d4b88933de3c"
       ],
       "layout": "IPY_MODEL_ef29637eb84e4041b64dc34ad3e54596"
      }
     },
     "29a889a4309f4d38bb7ccff3616b1f73": {
      "model_module": "@jupyter-widgets/controls",
      "model_module_version": "2.0.0",
      "model_name": "HTMLModel",
      "state": {
       "layout": "IPY_MODEL_a0082b6d67a84e77b6ecf720cfb24069",
       "style": "IPY_MODEL_7a6c7b713e4f47fa82fa5a95c3b1bd41",
       "value": "<div style='font-family: monospace; width: 100%;'>From<br><div style='border-left: 1px solid #B4B0BF; padding-left: 10px;'><div style='background-color: #D5F1D5;; color: #256B24;; display: block; white-space: pre-wrap; margin-bottom: 5px;'>service_func_name: compute_mean</div><div style='background-color: #D5F1D5;; color: #256B24;; display: block; white-space: pre-wrap; margin-bottom: 5px;'>input_owners: ['test_l']</div><div style='background-color: #D5F1D5;; color: #256B24;; display: block; white-space: pre-wrap; margin-bottom: 5px;'>code_status: ['Node: test_l, Status: pending']</div><div style='background-color: #D5F1D5;; color: #256B24;; display: block; white-space: pre-wrap; margin-bottom: 5px;'>worker_pool_name: default-pool</div></div></div>"
      }
     },
     "29f742b0c5ca4bdfaddb1032eedb68fc": {
      "model_module": "@jupyter-widgets/base",
      "model_module_version": "2.0.0",
      "model_name": "LayoutModel",
      "state": {}
     },
     "29fa1c3009184b59ac47dd3aeb8fba72": {
      "model_module": "@jupyter-widgets/output",
      "model_module_version": "1.0.0",
      "model_name": "OutputModel",
      "state": {
       "layout": "IPY_MODEL_73dfc1da04744c6eb6cc953f20978bd4"
      }
     },
     "2a001a8811a94772b6843085b86aa65e": {
      "model_module": "@jupyter-widgets/base",
      "model_module_version": "2.0.0",
      "model_name": "LayoutModel",
      "state": {}
     },
     "2a0437944b834cc9a997e15d5723578a": {
      "model_module": "@jupyter-widgets/base",
      "model_module_version": "2.0.0",
      "model_name": "LayoutModel",
      "state": {
       "overflow": "auto",
       "width": "50%"
      }
     },
     "2a52d911802042d9a8c874bf103ef70d": {
      "model_module": "@jupyter-widgets/controls",
      "model_module_version": "2.0.0",
      "model_name": "HBoxModel",
      "state": {
       "layout": "IPY_MODEL_adecc50d68f54e9ba27ca4f6d3e1f986"
      }
     },
     "2a7989971003454ebff90a2576b2470c": {
      "model_module": "@jupyter-widgets/controls",
      "model_module_version": "2.0.0",
      "model_name": "BoxModel",
      "state": {
       "children": [
        "IPY_MODEL_c2ee70f05e674091870daa65e9c8173c",
        "IPY_MODEL_c7d0b15f316c42c79d1283c53e0af18c"
       ],
       "layout": "IPY_MODEL_7ee41875fc2b40fa90830adc98aeae8b"
      }
     },
     "2a973b3f99ff4409ba1723beb3bd7ef5": {
      "model_module": "@jupyter-widgets/controls",
      "model_module_version": "2.0.0",
      "model_name": "HTMLModel",
      "state": {
       "layout": "IPY_MODEL_7dc8f12c4282471491d759a4c2919d06",
       "style": "IPY_MODEL_563c632cd22e419ea1533d0e549106b0",
       "value": "<div style='font-family: monospace; width: 100%;'>From<br><div style='border-left: 1px solid #B4B0BF; padding-left: 10px;'><div style='background-color: #D5F1D5;; color: #256B24;; display: block; white-space: pre-wrap; margin-bottom: 5px;'>service_func_name: compute_mean</div><div style='background-color: #D5F1D5;; color: #256B24;; display: block; white-space: pre-wrap; margin-bottom: 5px;'>input_owners: ['test_l']</div><div style='background-color: #D5F1D5;; color: #256B24;; display: block; white-space: pre-wrap; margin-bottom: 5px;'>code_status: ['Node: test_l, Status: pending']</div><div style='background-color: #D5F1D5;; color: #256B24;; display: block; white-space: pre-wrap; margin-bottom: 5px;'>worker_pool_name: default-pool</div></div></div>"
      }
     },
     "2abaedbd45a24e29ac257f4a6a454930": {
      "model_module": "@jupyter-widgets/controls",
      "model_module_version": "2.0.0",
      "model_name": "HTMLStyleModel",
      "state": {
       "description_width": "",
       "font_size": null,
       "text_color": null
      }
     },
     "2accd95e4bf144a2aa0f2344f05f1c81": {
      "model_module": "@jupyter-widgets/controls",
      "model_module_version": "2.0.0",
      "model_name": "HTMLModel",
      "state": {
       "layout": "IPY_MODEL_c69b20ae48c1477db41782a62708d66a",
       "style": "IPY_MODEL_205ae1bd181246008941568522c052a8",
       "value": "<div style='height: 16px;'></div>"
      }
     },
     "2b1aa74d5ec04146916dddb5f18ce922": {
      "model_module": "@jupyter-widgets/base",
      "model_module_version": "2.0.0",
      "model_name": "LayoutModel",
      "state": {}
     },
     "2b7752d73a214ecc93dceb24ca995ac8": {
      "model_module": "@jupyter-widgets/base",
      "model_module_version": "2.0.0",
      "model_name": "LayoutModel",
      "state": {}
     },
     "2bae28551d7444058a1b64c4482141e1": {
      "model_module": "@jupyter-widgets/controls",
      "model_module_version": "2.0.0",
      "model_name": "HTMLStyleModel",
      "state": {
       "description_width": "",
       "font_size": null,
       "text_color": null
      }
     },
     "2c1226db7cde4517ae2f4205d48c3344": {
      "model_module": "@jupyter-widgets/controls",
      "model_module_version": "2.0.0",
      "model_name": "ButtonStyleModel",
      "state": {
       "font_family": null,
       "font_size": null,
       "font_style": null,
       "font_variant": null,
       "font_weight": null,
       "text_color": null,
       "text_decoration": null
      }
     },
     "2c13fbc902f8492a87abba96b121a5b0": {
      "model_module": "@jupyter-widgets/base",
      "model_module_version": "2.0.0",
      "model_name": "LayoutModel",
      "state": {}
     },
     "2cd96a08f6c04d65962ca70a18913861": {
      "model_module": "@jupyter-widgets/base",
      "model_module_version": "2.0.0",
      "model_name": "LayoutModel",
      "state": {
       "align_items": "center"
      }
     },
     "2cea311b326645b0a3db13b24f40ce9a": {
      "model_module": "@jupyter-widgets/controls",
      "model_module_version": "2.0.0",
      "model_name": "HTMLStyleModel",
      "state": {
       "description_width": "",
       "font_size": null,
       "text_color": null
      }
     },
     "2cffed7479eb4e3db0b6393bea9faac8": {
      "model_module": "@jupyter-widgets/controls",
      "model_module_version": "2.0.0",
      "model_name": "HTMLStyleModel",
      "state": {
       "description_width": "",
       "font_size": null,
       "text_color": null
      }
     },
     "2d8f73c2a73b4e4ab860aab68929bb6d": {
      "model_module": "@jupyter-widgets/base",
      "model_module_version": "2.0.0",
      "model_name": "LayoutModel",
      "state": {}
     },
     "2dd7156ddf4c42dda009f24c0eb74402": {
      "model_module": "@jupyter-widgets/controls",
      "model_module_version": "2.0.0",
      "model_name": "HTMLModel",
      "state": {
       "layout": "IPY_MODEL_5f7b145f1ac340b3a824bdd2a9db9883",
       "style": "IPY_MODEL_f8c2c63759834fbc9e17fb3827d048f2",
       "value": "A"
      }
     },
     "2e8270297e154175b451d5710fa49578": {
      "model_module": "@jupyter-widgets/controls",
      "model_module_version": "2.0.0",
      "model_name": "HBoxModel",
      "state": {
       "children": [
        "IPY_MODEL_bae8d36be9b64279b51bfd2084fa149a"
       ],
       "layout": "IPY_MODEL_5a855ed229004bc7ba8034f2be1d568a"
      }
     },
     "2f39ee5391824065aa9a1659bd7a5e6b": {
      "model_module": "@jupyter-widgets/controls",
      "model_module_version": "2.0.0",
      "model_name": "HBoxModel",
      "state": {
       "layout": "IPY_MODEL_4447b268db8f46acb7c024fb0915ef88"
      }
     },
     "2f5b7e243ffe467280cc034d97cc2921": {
      "model_module": "@jupyter-widgets/base",
      "model_module_version": "2.0.0",
      "model_name": "LayoutModel",
      "state": {
       "align_items": "center",
       "display": "flex"
      }
     },
     "3052c6a493724ce09342dac797c4e756": {
      "model_module": "@jupyter-widgets/base",
      "model_module_version": "2.0.0",
      "model_name": "LayoutModel",
      "state": {}
     },
     "305365ff80c445f5a33a6e4c5ce63a7c": {
      "model_module": "@jupyter-widgets/controls",
      "model_module_version": "2.0.0",
      "model_name": "BoxModel",
      "state": {
       "children": [
        "IPY_MODEL_86919520cdaa4cb5b11d97b52d01c706",
        "IPY_MODEL_4d11292b6af24920a54a7d55d48f6334"
       ],
       "layout": "IPY_MODEL_42b934b2aa7043178313b0f24cb207ea"
      }
     },
     "30eed2e8d5bd4ac4bbd6ab2e58f352fc": {
      "model_module": "@jupyter-widgets/base",
      "model_module_version": "2.0.0",
      "model_name": "LayoutModel",
      "state": {}
     },
     "30fe823ee67640498e94f6a980352402": {
      "model_module": "@jupyter-widgets/controls",
      "model_module_version": "2.0.0",
      "model_name": "HTMLStyleModel",
      "state": {
       "description_width": "",
       "font_size": null,
       "text_color": null
      }
     },
     "31044cb78ab041e29dc08e3ac8a4f749": {
      "model_module": "@jupyter-widgets/base",
      "model_module_version": "2.0.0",
      "model_name": "LayoutModel",
      "state": {
       "height": "25px",
       "margin": "0",
       "padding": "0",
       "width": "25px"
      }
     },
     "310f3e48eb7347b2a2b437bdee681578": {
      "model_module": "@jupyter-widgets/base",
      "model_module_version": "2.0.0",
      "model_name": "LayoutModel",
      "state": {}
     },
     "3119f9ad6db74341a35c3c587c89a6be": {
      "model_module": "@jupyter-widgets/controls",
      "model_module_version": "2.0.0",
      "model_name": "HTMLModel",
      "state": {
       "layout": "IPY_MODEL_97ba14cb28144f189d5c919528462840",
       "style": "IPY_MODEL_17806d30bb65435aa6ef889b96339575",
       "value": "<div style='font-family: monospace; width: 100%;'>To<br><div style='border-left: 1px solid #B4B0BF; padding-left: 10px;'><div style='background-color: #D5F1D5;; color: #256B24;; display: block; white-space: pre-wrap; margin-bottom: 5px;'>service_func_name: </div><div style='background-color: #D5F1D5;; color: #256B24;; display: block; white-space: pre-wrap; margin-bottom: 5px;'>input_owners: </div><div style='background-color: #D5F1D5;; color: #256B24;; display: block; white-space: pre-wrap; margin-bottom: 5px;'>code_status: </div><div style='background-color: #D5F1D5;; color: #256B24;; display: block; white-space: pre-wrap; margin-bottom: 5px;'>worker_pool_name: </div></div></div>"
      }
     },
     "3137a527c131463a9628176335ecaa4e": {
      "model_module": "@jupyter-widgets/base",
      "model_module_version": "2.0.0",
      "model_name": "LayoutModel",
      "state": {}
     },
     "3147b82bc5c040f291b22e07926a468d": {
      "model_module": "@jupyter-widgets/controls",
      "model_module_version": "2.0.0",
      "model_name": "HTMLStyleModel",
      "state": {
       "description_width": "",
       "font_size": null,
       "text_color": null
      }
     },
     "31591b1ad206467586bf0ecd8cfd9135": {
      "model_module": "@jupyter-widgets/base",
      "model_module_version": "2.0.0",
      "model_name": "LayoutModel",
      "state": {
       "align_items": "center",
       "display": "flex"
      }
     },
     "3160ee97721346f39c707b325b02553b": {
      "model_module": "@jupyter-widgets/controls",
      "model_module_version": "2.0.0",
      "model_name": "HTMLModel",
      "state": {
       "layout": "IPY_MODEL_ee56eb7fe3924a0a970f7598cef6fa0d",
       "style": "IPY_MODEL_f78856e78de845009a75f0fda3f8a121",
       "value": "<div style='height: 16px'></div>"
      }
     },
     "3191770597494ccdb7c473864b72e837": {
      "model_module": "@jupyter-widgets/base",
      "model_module_version": "2.0.0",
      "model_name": "LayoutModel",
      "state": {
       "overflow": "auto",
       "width": "50%"
      }
     },
     "31c2040fb71b4c779ff3caaf9edb604c": {
      "model_module": "@jupyter-widgets/controls",
      "model_module_version": "2.0.0",
      "model_name": "HTMLStyleModel",
      "state": {
       "description_width": "",
       "font_size": null,
       "text_color": null
      }
     },
     "31cbc218bfc74dd593f1bd0924967917": {
      "model_module": "@jupyter-widgets/controls",
      "model_module_version": "2.0.0",
      "model_name": "HTMLStyleModel",
      "state": {
       "description_width": "",
       "font_size": null,
       "text_color": null
      }
     },
     "31fb9ff6fcdb473986533f355ebfa252": {
      "model_module": "@jupyter-widgets/controls",
      "model_module_version": "2.0.0",
      "model_name": "VBoxModel",
      "state": {
       "children": [
        "IPY_MODEL_d8b048c3b6cf4934b660237bf4c788a8"
       ],
       "layout": "IPY_MODEL_c32091eb095847fbb6cf43468c060a57"
      }
     },
     "31fbccb799d640c7a412b79ed39581e8": {
      "model_module": "@jupyter-widgets/controls",
      "model_module_version": "2.0.0",
      "model_name": "HTMLStyleModel",
      "state": {
       "description_width": "",
       "font_size": null,
       "text_color": null
      }
     },
     "3215dbe80a4946bdb6dbf4af9861a929": {
      "model_module": "@jupyter-widgets/controls",
      "model_module_version": "2.0.0",
      "model_name": "HBoxModel",
      "state": {
       "children": [
        "IPY_MODEL_9c6c0a57230f411382310ce487fd4759",
        "IPY_MODEL_bdffcd22db25434a92b81d23bd35e849"
       ],
       "layout": "IPY_MODEL_ced0c2f907a64dc4946b5bc7ca7d3529"
      }
     },
     "3246b9c3ec974b38ad104795e885a6e4": {
      "model_module": "@jupyter-widgets/controls",
      "model_module_version": "2.0.0",
      "model_name": "ButtonModel",
      "state": {
       "description": "Sync Selected Changes",
       "layout": "IPY_MODEL_e54cd41f490a43698acc7bd2478c1d96",
       "style": "IPY_MODEL_d248c01aeaa04265813c61f9be7a4c6c",
       "tooltip": null
      }
     },
     "325699a08937491ca94db0980cb91066": {
      "model_module": "@jupyter-widgets/controls",
      "model_module_version": "2.0.0",
      "model_name": "VBoxModel",
      "state": {
       "children": [
        "IPY_MODEL_787b24bb0a3e40b0917af1493f0fb913",
        "IPY_MODEL_405ddf31e2f146e4aba2f9dffe6e7408"
       ],
       "layout": "IPY_MODEL_5db4c34c8a024a2eb12bcba03b3f4b9d"
      }
     },
     "329bed3b7d304aa68c4e7ab03bc10dec": {
      "model_module": "@jupyter-widgets/controls",
      "model_module_version": "2.0.0",
      "model_name": "HTMLModel",
      "state": {
       "layout": "IPY_MODEL_c1f865b419444463990296135e481999",
       "style": "IPY_MODEL_69ee326624fd43ccbf3c1840b9e44f15",
       "value": "<div style='height: 16px;'></div>"
      }
     },
     "32b587875a0340d39d8c50790d1a01fe": {
      "model_module": "@jupyter-widgets/controls",
      "model_module_version": "2.0.0",
      "model_name": "CheckboxStyleModel",
      "state": {
       "description_width": ""
      }
     },
     "32f431a1426f4235afed32be8307d69d": {
      "model_module": "@jupyter-widgets/base",
      "model_module_version": "2.0.0",
      "model_name": "LayoutModel",
      "state": {}
     },
     "332513968e354a0aa0a876e03641d4bf": {
      "model_module": "@jupyter-widgets/controls",
      "model_module_version": "2.0.0",
      "model_name": "BoxModel",
      "state": {
       "children": [
        "IPY_MODEL_60ecbf22b6a04faf84a06dbecdb3bffd",
        "IPY_MODEL_9cd4e7982df84ab4bdde5c63292855d2"
       ],
       "layout": "IPY_MODEL_42cc3cae6d094f6d9f4b22d39c1478ae"
      }
     },
     "334353f08b2a4d44b7f19498abd334ba": {
      "model_module": "@jupyter-widgets/controls",
      "model_module_version": "2.0.0",
      "model_name": "AccordionModel",
      "state": {
       "layout": "IPY_MODEL_584e758a5d274f3798866ace11ab433d"
      }
     },
     "337b4f88ddd34519bb8732b62f721a5d": {
      "model_module": "@jupyter-widgets/base",
      "model_module_version": "2.0.0",
      "model_name": "LayoutModel",
      "state": {}
     },
     "33d9e33533784c24822d034ce3b86c99": {
      "model_module": "@jupyter-widgets/controls",
      "model_module_version": "2.0.0",
      "model_name": "HTMLStyleModel",
      "state": {
       "description_width": "",
       "font_size": null,
       "text_color": null
      }
     },
     "33da727c445f4fe7b08a4d985fae6b05": {
      "model_module": "@jupyter-widgets/base",
      "model_module_version": "2.0.0",
      "model_name": "LayoutModel",
      "state": {
       "align_items": "center",
       "display": "flex"
      }
     },
     "33ffabbcdf8448f68de8a72f86d2d034": {
      "model_module": "@jupyter-widgets/controls",
      "model_module_version": "2.0.0",
      "model_name": "HTMLStyleModel",
      "state": {
       "description_width": "",
       "font_size": null,
       "text_color": null
      }
     },
     "3410c128860d43e7bb55bc83ccdabf2e": {
      "model_module": "@jupyter-widgets/controls",
      "model_module_version": "2.0.0",
      "model_name": "HTMLStyleModel",
      "state": {
       "description_width": "",
       "font_size": null,
       "text_color": null
      }
     },
     "34985d21e0554643bb72137ed666b8a6": {
      "model_module": "@jupyter-widgets/base",
      "model_module_version": "2.0.0",
      "model_name": "LayoutModel",
      "state": {}
     },
     "34afc04e70b04917b224f4aa5219c457": {
      "model_module": "@jupyter-widgets/base",
      "model_module_version": "2.0.0",
      "model_name": "LayoutModel",
      "state": {}
     },
     "34c685ef404d4395945d3dbbfeb85b8b": {
      "model_module": "@jupyter-widgets/controls",
      "model_module_version": "2.0.0",
      "model_name": "HBoxModel",
      "state": {
       "children": [
        "IPY_MODEL_f3fd6d5c6f9b4826b4d5764671f35f35",
        "IPY_MODEL_1f8b2ace2de94160a6bfab10f181f991"
       ],
       "layout": "IPY_MODEL_f02890c8799a4dfe865186eda779ed0d"
      }
     },
     "34d7b8f7118b415a9d46ae6a3c7a3bc7": {
      "model_module": "@jupyter-widgets/base",
      "model_module_version": "2.0.0",
      "model_name": "LayoutModel",
      "state": {}
     },
     "355fd0b6d3d649bc8c5ac927fa2c8501": {
      "model_module": "@jupyter-widgets/controls",
      "model_module_version": "2.0.0",
      "model_name": "HTMLStyleModel",
      "state": {
       "description_width": "",
       "font_size": null,
       "text_color": null
      }
     },
     "35a53c2e91e04c40a563bdd6b71c5a29": {
      "model_module": "@jupyter-widgets/controls",
      "model_module_version": "2.0.0",
      "model_name": "ButtonModel",
      "state": {
       "description": "Sync Selected Changes",
       "layout": "IPY_MODEL_eae0484ade944853ae2b81c057106707",
       "style": "IPY_MODEL_819f947b4fb44b0fa047cde2b94749ab",
       "tooltip": null
      }
     },
     "35b13cc1353d4ce982d0295a3e5098f7": {
      "model_module": "@jupyter-widgets/base",
      "model_module_version": "2.0.0",
      "model_name": "LayoutModel",
      "state": {}
     },
     "35ed2f0df4144b9fb858d841c301bce9": {
      "model_module": "@jupyter-widgets/base",
      "model_module_version": "2.0.0",
      "model_name": "LayoutModel",
      "state": {
       "margin": "0 5px 0 0"
      }
     },
     "35f69f0623bc4ec298e6d0298e6dcf0d": {
      "model_module": "@jupyter-widgets/base",
      "model_module_version": "2.0.0",
      "model_name": "LayoutModel",
      "state": {}
     },
     "36ba92dd726742cc82da7c17b20b55b6": {
      "model_module": "@jupyter-widgets/base",
      "model_module_version": "2.0.0",
      "model_name": "LayoutModel",
      "state": {}
     },
     "36fe9295f3cd47db8f5faf7973210bd3": {
      "model_module": "@jupyter-widgets/controls",
      "model_module_version": "2.0.0",
      "model_name": "HTMLStyleModel",
      "state": {
       "description_width": "",
       "font_size": null,
       "text_color": null
      }
     },
     "372b22e17a2f47838f659b7e4c6f221f": {
      "model_module": "@jupyter-widgets/controls",
      "model_module_version": "2.0.0",
      "model_name": "VBoxModel",
      "state": {
       "children": [
        "IPY_MODEL_8c17cfa6a7984835bad04ee54c6fc2f8",
        "IPY_MODEL_926589025bed416cb670f525d9d8b66e"
       ],
       "layout": "IPY_MODEL_62fad9c7a9c240b29867df62faa59daf"
      }
     },
     "376142bd94bb40d795d0913be71fa60d": {
      "model_module": "@jupyter-widgets/base",
      "model_module_version": "2.0.0",
      "model_name": "LayoutModel",
      "state": {}
     },
     "385d2658af4e48fdb423bae64ca90b4f": {
      "model_module": "@jupyter-widgets/controls",
      "model_module_version": "2.0.0",
      "model_name": "HTMLStyleModel",
      "state": {
       "description_width": "",
       "font_size": null,
       "text_color": null
      }
     },
     "3867e7d7778a4979abca0a5b48aaba58": {
      "model_module": "@jupyter-widgets/controls",
      "model_module_version": "2.0.0",
      "model_name": "AccordionModel",
      "state": {
       "layout": "IPY_MODEL_56d760ebaec641479be6a8e26858417b"
      }
     },
     "386f232733c74fa9aea6fff9ff6e6481": {
      "model_module": "@jupyter-widgets/base",
      "model_module_version": "2.0.0",
      "model_name": "LayoutModel",
      "state": {}
     },
     "387373adaf654e8b8f709a9fbcc91d76": {
      "model_module": "@jupyter-widgets/controls",
      "model_module_version": "2.0.0",
      "model_name": "HTMLModel",
      "state": {
       "layout": "IPY_MODEL_d54047eebb4347389c5393a43c64db8b",
       "style": "IPY_MODEL_a066714acc164c11b70ce723bc519ee1",
       "value": "<span style='margin-left: 5px; font-weight: bold; color: #373B7B;'>compute_mean</span> <span style='margin-left: 5px; color: #B4B0BF;'>#1234...</span>"
      }
     },
     "387e18124e784463947e863cc6fb8c4f": {
      "model_module": "@jupyter-widgets/controls",
      "model_module_version": "2.0.0",
      "model_name": "HBoxModel",
      "state": {
       "children": [
        "IPY_MODEL_daac8a9c9d25469ea9dc4c8b87f58659"
       ],
       "layout": "IPY_MODEL_8676da1c04e54b04b3f65715bd410b15"
      }
     },
     "38cccb3cc7854c2ebae0176a1dec764c": {
      "model_module": "@jupyter-widgets/controls",
      "model_module_version": "2.0.0",
      "model_name": "ButtonStyleModel",
      "state": {
       "font_family": null,
       "font_size": null,
       "font_style": null,
       "font_variant": null,
       "font_weight": null,
       "text_color": null,
       "text_decoration": null
      }
     },
     "38e8013ecdaa491d9c02bfa936b4b8ed": {
      "model_module": "@jupyter-widgets/base",
      "model_module_version": "2.0.0",
      "model_name": "LayoutModel",
      "state": {}
     },
     "38f3ec82e1b94ae98e2c46737be0b9c1": {
      "model_module": "@jupyter-widgets/base",
      "model_module_version": "2.0.0",
      "model_name": "LayoutModel",
      "state": {
       "overflow": "auto",
       "width": "50%"
      }
     },
     "391c002ebff54313b02260e2c81b6b14": {
      "model_module": "@jupyter-widgets/controls",
      "model_module_version": "2.0.0",
      "model_name": "HTMLModel",
      "state": {
       "layout": "IPY_MODEL_af04e0fb22b34232bbb98dd4b1e822f2",
       "style": "IPY_MODEL_7dfe28de4f96403e81cf75ceebfeb5a9",
       "value": "<div style='font-family: monospace; width: 100%;'>To<br><div style='border-left: 1px solid #B4B0BF; padding-left: 10px;'><div style='background-color: #D5F1D5;; color: #256B24;; display: block; white-space: pre-wrap; margin-bottom: 5px;'>approved: </div><div style='background-color: #D5F1D5;; color: #256B24;; display: block; white-space: pre-wrap; margin-bottom: 5px;'>status_dict: </div></div></div>"
      }
     },
     "39280910f9294216a83c38f5ba175f58": {
      "model_module": "@jupyter-widgets/controls",
      "model_module_version": "2.0.0",
      "model_name": "HTMLModel",
      "state": {
       "layout": "IPY_MODEL_c7fe1e5bc07a485e86345ef5c8e6f470",
       "style": "IPY_MODEL_8a8d1b3782624c9d96dfad6d3c234046",
       "value": "<div style='font-family: monospace; width: 100%;'>From<br><div style='border-left: 1px solid #B4B0BF; padding-left: 10px;'><div style='background-color: #D5F1D5;; color: #256B24;; display: block; white-space: pre-wrap; margin-bottom: 5px;'>approved: False</div><div style='background-color: #D5F1D5;; color: #256B24;; display: block; white-space: pre-wrap; margin-bottom: 5px;'>status_dict: {NodeIdentity <name=test_l, id=8e19e3a1, 🔑=1c0590b8>: (<UserCodeStatus.PENDING: 'pending'>, '')}</div></div></div>"
      }
     },
     "398083cc6fcc446b9befe9327a07a557": {
      "model_module": "@jupyter-widgets/base",
      "model_module_version": "2.0.0",
      "model_name": "LayoutModel",
      "state": {
       "overflow": "auto",
       "width": "50%"
      }
     },
     "39a69bec4c4843249337e1c8291b570f": {
      "model_module": "@jupyter-widgets/controls",
      "model_module_version": "2.0.0",
      "model_name": "HTMLStyleModel",
      "state": {
       "description_width": "",
       "font_size": null,
       "text_color": null
      }
     },
     "3a0f3557af384888b909a2c27235a9d2": {
      "model_module": "@jupyter-widgets/controls",
      "model_module_version": "2.0.0",
      "model_name": "VBoxModel",
      "state": {
       "children": [
        "IPY_MODEL_e328a752e8e94d4ab826e8f831c0993b"
       ],
       "layout": "IPY_MODEL_f5126953b1ff4836b51d5341f3df7c0c"
      }
     },
     "3a8625a1073544e7b12130e5a5577fba": {
      "model_module": "@jupyter-widgets/base",
      "model_module_version": "2.0.0",
      "model_name": "LayoutModel",
      "state": {}
     },
     "3ad4d3303df5416b898dc4c9dbf0b291": {
      "model_module": "@jupyter-widgets/controls",
      "model_module_version": "2.0.0",
      "model_name": "HTMLStyleModel",
      "state": {
       "description_width": "",
       "font_size": null,
       "text_color": null
      }
     },
     "3ae186f5ea6e4a91afac467e8d56bf6b": {
      "model_module": "@jupyter-widgets/base",
      "model_module_version": "2.0.0",
      "model_name": "LayoutModel",
      "state": {
       "width": "100%"
      }
     },
     "3ae4c938cbf1475a87f18203abe7ea3f": {
      "model_module": "@jupyter-widgets/controls",
      "model_module_version": "2.0.0",
      "model_name": "HTMLStyleModel",
      "state": {
       "description_width": "",
       "font_size": null,
       "text_color": null
      }
     },
     "3b165647c07f4f98be9a3b4f544f2244": {
      "model_module": "@jupyter-widgets/controls",
      "model_module_version": "2.0.0",
      "model_name": "ButtonModel",
      "state": {
       "icon": "clone",
       "layout": "IPY_MODEL_15d05673c9d947b3aca482e41723c8e9",
       "style": "IPY_MODEL_3b5fe2cd72864bdaa41920cc1fcf1d0b",
       "tooltip": null
      }
     },
     "3b336b6343b6430fb99c3e3e071b4229": {
      "model_module": "@jupyter-widgets/base",
      "model_module_version": "2.0.0",
      "model_name": "LayoutModel",
      "state": {}
     },
     "3b5c041c9fdc45d8985a16f7552c7dea": {
      "model_module": "@jupyter-widgets/controls",
      "model_module_version": "2.0.0",
      "model_name": "CheckboxModel",
      "state": {
       "description": "Sync",
       "disabled": false,
       "layout": "IPY_MODEL_e2425e696ff8401da8ce64d357e434c5",
       "style": "IPY_MODEL_911207597d5d45b49cdc4f07c157bee5",
       "value": false
      }
     },
     "3b5fe2cd72864bdaa41920cc1fcf1d0b": {
      "model_module": "@jupyter-widgets/controls",
      "model_module_version": "2.0.0",
      "model_name": "ButtonStyleModel",
      "state": {
       "font_family": null,
       "font_size": null,
       "font_style": null,
       "font_variant": null,
       "font_weight": null,
       "text_color": null,
       "text_decoration": null
      }
     },
     "3b6945e55e4548db91711ac3b812a0a3": {
      "model_module": "@jupyter-widgets/base",
      "model_module_version": "2.0.0",
      "model_name": "LayoutModel",
      "state": {}
     },
     "3b9a96101f15471a878d0bc194c3e8b4": {
      "model_module": "@jupyter-widgets/controls",
      "model_module_version": "2.0.0",
      "model_name": "HTMLModel",
      "state": {
       "layout": "IPY_MODEL_d6bf3866966344d9993d22231d0adc56",
       "style": "IPY_MODEL_ed557e0aa807432eadc8ab026ea9d097",
       "value": "<div style='height: 16px'></div>"
      }
     },
     "3bc31e3d7bbc42398ffad7659cc92d53": {
      "model_module": "@jupyter-widgets/controls",
      "model_module_version": "2.0.0",
      "model_name": "HTMLStyleModel",
      "state": {
       "description_width": "",
       "font_size": null,
       "text_color": null
      }
     },
     "3bd878096bb94f12a95f5c3b96d95f57": {
      "model_module": "@jupyter-widgets/controls",
      "model_module_version": "2.0.0",
      "model_name": "HBoxModel",
      "state": {
       "children": [
        "IPY_MODEL_87df9718ba1f4c4da9dcba2bbf4cbc16",
        "IPY_MODEL_747d5a984a4c4525bf051acd26f39d98"
       ],
       "layout": "IPY_MODEL_0c0b55a820cb4ab59bd7b41c59837d25"
      }
     },
     "3bdd84005c804596ba45220ecb3d302c": {
      "model_module": "@jupyter-widgets/base",
      "model_module_version": "2.0.0",
      "model_name": "LayoutModel",
      "state": {
       "border_bottom": "#353243 solid 0.5px",
       "border_left": "#353243 solid 0.5px",
       "border_right": "#353243 solid 0.5px",
       "border_top": "#353243 solid 0.5px",
       "padding": "16px"
      }
     },
     "3bfc0579a1364129ad9070e49310be0e": {
      "model_module": "@jupyter-widgets/controls",
      "model_module_version": "2.0.0",
      "model_name": "VBoxModel",
      "state": {
       "children": [
        "IPY_MODEL_602112842e454aeda2072ee6925f6d7b",
        "IPY_MODEL_01700ce228744f0788279d83cfcd2be2"
       ],
       "layout": "IPY_MODEL_56919eb2b40c41faa71f43a26c3512a5"
      }
     },
     "3c0f99d150cf4a6791a8b9b263ab9c29": {
      "model_module": "@jupyter-widgets/base",
      "model_module_version": "2.0.0",
      "model_name": "LayoutModel",
      "state": {}
     },
     "3c159f57cc464fa08fa7baf8c31a6d4c": {
      "model_module": "@jupyter-widgets/controls",
      "model_module_version": "2.0.0",
      "model_name": "ButtonStyleModel",
      "state": {
       "font_family": null,
       "font_size": null,
       "font_style": null,
       "font_variant": null,
       "font_weight": null,
       "text_color": null,
       "text_decoration": null
      }
     },
     "3c50a2e0d67348bc8e1abd0bc7d1e5b8": {
      "model_module": "@jupyter-widgets/controls",
      "model_module_version": "2.0.0",
      "model_name": "HTMLModel",
      "state": {
       "layout": "IPY_MODEL_d11c472a1c2847618043b11a0768a4e7",
       "style": "IPY_MODEL_9d0e9183ee0047698f89e1338dc63523",
       "value": "<div style=\"text-align: center; margin: 10px 0; border: 1px dashed #B4B0BF;\"></div>"
      }
     },
     "3cb113971e6b440c813f4cc7a63d87f5": {
      "model_module": "@jupyter-widgets/base",
      "model_module_version": "2.0.0",
      "model_name": "LayoutModel",
      "state": {}
     },
     "3cbab7a3d09c49049872d9079fd1455b": {
      "model_module": "@jupyter-widgets/controls",
      "model_module_version": "2.0.0",
      "model_name": "HTMLModel",
      "state": {
       "layout": "IPY_MODEL_823e47bdfd98467a974b9c19617e22aa",
       "style": "IPY_MODEL_11a7736f9d194744b6f2e3b390f9d2b1",
       "value": "<div style='font-family: monospace; width: 100%;'>To<br><div style='border-left: 1px solid #B4B0BF; padding-left: 10px;'><div style='background-color: #D5F1D5;; color: #256B24;; display: block; white-space: pre-wrap; margin-bottom: 5px;'>approved: </div><div style='background-color: #D5F1D5;; color: #256B24;; display: block; white-space: pre-wrap; margin-bottom: 5px;'>status_dict: </div></div></div>"
      }
     },
     "3cc1165169634735b6614153a4a5c5f0": {
      "model_module": "@jupyter-widgets/controls",
      "model_module_version": "2.0.0",
      "model_name": "HTMLStyleModel",
      "state": {
       "description_width": "",
       "font_size": null,
       "text_color": null
      }
     },
     "3d79a4d7bbfa4381aff72ab3eaccc501": {
      "model_module": "@jupyter-widgets/controls",
      "model_module_version": "2.0.0",
      "model_name": "VBoxModel",
      "state": {
       "children": [
        "IPY_MODEL_00b7783eeff04069859d1c05f348cd30",
        "IPY_MODEL_0b5043f5dbdd47dd934a2df2c88a541c"
       ],
       "layout": "IPY_MODEL_00046755987443f3859c25f6aa1dc872"
      }
     },
     "3d79f91e2e494920a809c6cf1adab39a": {
      "model_module": "@jupyter-widgets/base",
      "model_module_version": "2.0.0",
      "model_name": "LayoutModel",
      "state": {}
     },
     "3d7c479592ac4e46af525ae046d064fd": {
      "model_module": "@jupyter-widgets/controls",
      "model_module_version": "2.0.0",
      "model_name": "VBoxModel",
      "state": {
       "children": [
        "IPY_MODEL_a4dc2018ad854bda9be8b48b2cf23de2",
        "IPY_MODEL_04999b728c634e8c8c862050feaec3c5",
        "IPY_MODEL_151995f5ade442cdb9ff7f59cdc45a3f",
        "IPY_MODEL_bf5c7f464cae40c7aadb77da4b7ddabc",
        "IPY_MODEL_f19dffc1bf1a4effacb0cc15d46a159c",
        "IPY_MODEL_c281b9b6703e4a2f90cc3cf8e36663f2",
        "IPY_MODEL_0e0087da47c44bb3b86072021b30da8c",
        "IPY_MODEL_5e50bf8e08bc4cd8a4667f8c849e6e2a"
       ],
       "layout": "IPY_MODEL_d2ab40bdca304cdc8f57c9384e22e555"
      }
     },
     "3d9053769ae3486e8c12ba2b62d2e737": {
      "model_module": "@jupyter-widgets/controls",
      "model_module_version": "2.0.0",
      "model_name": "HTMLStyleModel",
      "state": {
       "description_width": "",
       "font_size": null,
       "text_color": null
      }
     },
     "3d9141291e5b49e08dd8201df6e5210d": {
      "model_module": "@jupyter-widgets/controls",
      "model_module_version": "2.0.0",
      "model_name": "HTMLModel",
      "state": {
       "layout": "IPY_MODEL_983c0831b32b46e9a04e7f2515f2fcd4",
       "style": "IPY_MODEL_2bae28551d7444058a1b64c4482141e1",
       "value": "<div style='font-family: monospace; width: 100%;'>To<br><div style='border-left: 1px solid #B4B0BF; padding-left: 10px;'><div style='background-color: #D5F1D5;; color: #256B24;; display: block; white-space: pre-wrap; margin-bottom: 5px;'>service_func_name: </div><div style='background-color: #D5F1D5;; color: #256B24;; display: block; white-space: pre-wrap; margin-bottom: 5px;'>input_owners: </div><div style='background-color: #D5F1D5;; color: #256B24;; display: block; white-space: pre-wrap; margin-bottom: 5px;'>code_status: </div><div style='background-color: #D5F1D5;; color: #256B24;; display: block; white-space: pre-wrap; margin-bottom: 5px;'>worker_pool_name: </div></div></div>"
      }
     },
     "3da48c6973fd469daf2a7a212da3594f": {
      "model_module": "@jupyter-widgets/base",
      "model_module_version": "2.0.0",
      "model_name": "LayoutModel",
      "state": {
       "align_items": "center",
       "display": "flex"
      }
     },
     "3df225a03a51492494b28f8cbc5a51af": {
      "model_module": "@jupyter-widgets/controls",
      "model_module_version": "2.0.0",
      "model_name": "HTMLModel",
      "state": {
       "layout": "IPY_MODEL_4bc17844da524789995c2d9cca8e12e4",
       "style": "IPY_MODEL_83f0b0d9b1674cf78d99e84a4aea947a",
       "value": "<div style='font-family: monospace; width: 100%;'>From<br><div style='border-left: 1px solid #B4B0BF; padding-left: 10px;'><div style='background-color: #D5F1D5;; color: #256B24;; display: block; white-space: pre-wrap; margin-bottom: 5px;'>approved: False</div><div style='background-color: #D5F1D5;; color: #256B24;; display: block; white-space: pre-wrap; margin-bottom: 5px;'>status_dict: {NodeIdentity <name=test_l, id=8e19e3a1, 🔑=1c0590b8>: (<UserCodeStatus.PENDING: 'pending'>, '')}</div></div></div>"
      }
     },
     "3e2f83d6d77c4c5aac672caf550a5410": {
      "model_module": "@jupyter-widgets/controls",
      "model_module_version": "2.0.0",
      "model_name": "HTMLStyleModel",
      "state": {
       "description_width": "",
       "font_size": null,
       "text_color": null
      }
     },
     "3e2fded05d4f45d6a0a4de9adec785af": {
      "model_module": "@jupyter-widgets/controls",
      "model_module_version": "2.0.0",
      "model_name": "BoxModel",
      "state": {
       "children": [
        "IPY_MODEL_3b165647c07f4f98be9a3b4f544f2244",
        "IPY_MODEL_e9216f7fd5ba450abb42d3b04ad56a4c"
       ],
       "layout": "IPY_MODEL_2f5b7e243ffe467280cc034d97cc2921"
      }
     },
     "3e8f930c831b4bfe95dd828650050d55": {
      "model_module": "@jupyter-widgets/base",
      "model_module_version": "2.0.0",
      "model_name": "LayoutModel",
      "state": {}
     },
     "3ed8274b35c9411b9d2b3d8a05ed370d": {
      "model_module": "@jupyter-widgets/controls",
      "model_module_version": "2.0.0",
      "model_name": "ButtonModel",
      "state": {
       "icon": "clone",
       "layout": "IPY_MODEL_428ec238dfd4406cb03933a9a2d8ae73",
       "style": "IPY_MODEL_42181fdf598e472aa97feaef7fdd5d36",
       "tooltip": null
      }
     },
     "3ef12db78e4b49be9602f919f79167f1": {
      "model_module": "@jupyter-widgets/controls",
      "model_module_version": "2.0.0",
      "model_name": "HTMLStyleModel",
      "state": {
       "description_width": "",
       "font_size": null,
       "text_color": null
      }
     },
     "3f1ec5665362432baf3604c594fde507": {
      "model_module": "@jupyter-widgets/controls",
      "model_module_version": "2.0.0",
      "model_name": "HTMLModel",
      "state": {
       "layout": "IPY_MODEL_4661db48b3104e88b071771293b2f0da",
       "style": "IPY_MODEL_31fbccb799d640c7a412b79ed39581e8",
       "value": "<span style='margin-left: 5px; font-weight: bold; color: #373B7B;'>compute_mean</span> <span style='margin-left: 5px; color: #B4B0BF;'>#1234...</span>"
      }
     },
     "3f2cb1df1f2940b0a91f00f2aafc3646": {
      "model_module": "@jupyter-widgets/controls",
      "model_module_version": "2.0.0",
      "model_name": "HTMLStyleModel",
      "state": {
       "description_width": "",
       "font_size": null,
       "text_color": null
      }
     },
     "3f54a2e0850a42968c8367c402042275": {
      "model_module": "@jupyter-widgets/base",
      "model_module_version": "2.0.0",
      "model_name": "LayoutModel",
      "state": {}
     },
     "3f5ce8a921154b3faf47d4b88933de3c": {
      "model_module": "@jupyter-widgets/controls",
      "model_module_version": "2.0.0",
      "model_name": "HBoxModel",
      "state": {
       "children": [
        "IPY_MODEL_0e36c90b100a4dfe98cb01e049b568c1",
        "IPY_MODEL_6bd93b7544d544e89436fa5311735e08"
       ],
       "layout": "IPY_MODEL_85b11933415d4211adb9df453924542e"
      }
     },
     "3f8834d267a14add8973b3a211ef9e60": {
      "model_module": "@jupyter-widgets/base",
      "model_module_version": "2.0.0",
      "model_name": "LayoutModel",
      "state": {
       "overflow": "auto",
       "width": "50%"
      }
     },
     "3f8ba42bd72e4a288c792a86c8565f13": {
      "model_module": "@jupyter-widgets/controls",
      "model_module_version": "2.0.0",
      "model_name": "VBoxModel",
      "state": {
       "children": [
        "IPY_MODEL_f9bb8d51f00d425db842a8169e76acc9",
        "IPY_MODEL_1a7eb0e7dbb048efa593ee51426784b2"
       ],
       "layout": "IPY_MODEL_07f37f00a2344aca850f213542391303"
      }
     },
     "3f8d7415b159463596bb1e503ef1499f": {
      "model_module": "@jupyter-widgets/controls",
      "model_module_version": "2.0.0",
      "model_name": "HTMLModel",
      "state": {
       "layout": "IPY_MODEL_8421bb9af5f74afbb35ef6df254abfa4",
       "style": "IPY_MODEL_7e08e87304864756bc9a82256bdedfae",
       "value": "<div style='font-family: monospace; width: 100%;'>To<br><div style='border-left: 1px solid #B4B0BF; padding-left: 10px;'><div style='background-color: #D5F1D5;; color: #256B24;; display: block; white-space: pre-wrap; margin-bottom: 5px;'>service_func_name: </div><div style='background-color: #D5F1D5;; color: #256B24;; display: block; white-space: pre-wrap; margin-bottom: 5px;'>input_owners: </div><div style='background-color: #D5F1D5;; color: #256B24;; display: block; white-space: pre-wrap; margin-bottom: 5px;'>code_status: </div><div style='background-color: #D5F1D5;; color: #256B24;; display: block; white-space: pre-wrap; margin-bottom: 5px;'>worker_pool_name: </div></div></div>"
      }
     },
     "3f9105a4785640e59feeff15a5756d2c": {
      "model_module": "@jupyter-widgets/controls",
      "model_module_version": "2.0.0",
      "model_name": "HTMLModel",
      "state": {
       "layout": "IPY_MODEL_908207df3fac4b06aea44cc69e172bd3",
       "style": "IPY_MODEL_159e6cd766194ebfa700cdde76a98e3c",
       "value": "<div style='font-family: monospace; width: 100%;'>From<br><div style='border-left: 1px solid #B4B0BF; padding-left: 10px;'><div style='background-color: #D5F1D5;; color: #256B24;; display: block; white-space: pre-wrap; margin-bottom: 5px;'>service_func_name: compute_mean</div><div style='background-color: #D5F1D5;; color: #256B24;; display: block; white-space: pre-wrap; margin-bottom: 5px;'>input_owners: ['test_l']</div><div style='background-color: #D5F1D5;; color: #256B24;; display: block; white-space: pre-wrap; margin-bottom: 5px;'>code_status: ['Node: test_l, Status: pending']</div><div style='background-color: #D5F1D5;; color: #256B24;; display: block; white-space: pre-wrap; margin-bottom: 5px;'>worker_pool_name: default-pool</div></div></div>"
      }
     },
     "401a4c82be9649ef9dd9390a5de86a76": {
      "model_module": "@jupyter-widgets/base",
      "model_module_version": "2.0.0",
      "model_name": "LayoutModel",
      "state": {}
     },
     "4024b5a0c3b44005be8f60856774fffb": {
      "model_module": "@jupyter-widgets/controls",
      "model_module_version": "2.0.0",
      "model_name": "CheckboxStyleModel",
      "state": {
       "description_width": ""
      }
     },
     "405ddf31e2f146e4aba2f9dffe6e7408": {
      "model_module": "@jupyter-widgets/controls",
      "model_module_version": "2.0.0",
      "model_name": "HBoxModel",
      "state": {
       "children": [
        "IPY_MODEL_3df225a03a51492494b28f8cbc5a51af",
        "IPY_MODEL_f6479b36edcd4a2fa93f36c8f843fa99"
       ],
       "layout": "IPY_MODEL_dfca5440f26a4682b2ab6f2e9d3e70d8"
      }
     },
     "4075cbafca3e4e84b3b461af282837df": {
      "model_module": "@jupyter-widgets/base",
      "model_module_version": "2.0.0",
      "model_name": "LayoutModel",
      "state": {}
     },
     "40b45bfe9eb642329cea3e19db77c0ca": {
      "model_module": "@jupyter-widgets/controls",
      "model_module_version": "2.0.0",
      "model_name": "ButtonModel",
      "state": {
       "description": "Sync Selected Changes",
       "layout": "IPY_MODEL_184aa113776245ca886c31d612670a85",
       "style": "IPY_MODEL_68db5f7405eb48d6b29eca6f881d9c1c",
       "tooltip": null
      }
     },
     "40fc65467fb647579dee4b1b429f99c6": {
      "model_module": "@jupyter-widgets/base",
      "model_module_version": "2.0.0",
      "model_name": "LayoutModel",
      "state": {}
     },
     "415f5f260964484bb9b91ad18ecf5bb5": {
      "model_module": "@jupyter-widgets/base",
      "model_module_version": "2.0.0",
      "model_name": "LayoutModel",
      "state": {
       "margin": "0 5px 0 0"
      }
     },
     "4161c3a47aaf46c980b63639f85f32b8": {
      "model_module": "@jupyter-widgets/base",
      "model_module_version": "2.0.0",
      "model_name": "LayoutModel",
      "state": {}
     },
     "42181fdf598e472aa97feaef7fdd5d36": {
      "model_module": "@jupyter-widgets/controls",
      "model_module_version": "2.0.0",
      "model_name": "ButtonStyleModel",
      "state": {
       "font_family": null,
       "font_size": null,
       "font_style": null,
       "font_variant": null,
       "font_weight": null,
       "text_color": null,
       "text_decoration": null
      }
     },
     "4231ce99714847b5b2eace74ddeff8f8": {
      "model_module": "@jupyter-widgets/base",
      "model_module_version": "2.0.0",
      "model_name": "LayoutModel",
      "state": {}
     },
     "4253e91653004e5f9bebd45d4dac9554": {
      "model_module": "@jupyter-widgets/base",
      "model_module_version": "2.0.0",
      "model_name": "LayoutModel",
      "state": {
       "border_bottom": "#464A91 solid 1.5px",
       "border_left": "#464A91 solid 1.5px",
       "border_right": "#464A91 solid 1.5px",
       "border_top": "#464A91 solid 1.5px",
       "width": "200px"
      }
     },
     "4279001a3149480ead78320596a60369": {
      "model_module": "@jupyter-widgets/controls",
      "model_module_version": "2.0.0",
      "model_name": "ButtonModel",
      "state": {
       "icon": "clone",
       "layout": "IPY_MODEL_016f75e607ba44b9b02c0c0c768c6b78",
       "style": "IPY_MODEL_7c68b6d86b644924844242880393d0c4",
       "tooltip": null
      }
     },
     "428873292bce41ffad98c1abd9ad78a1": {
      "model_module": "@jupyter-widgets/base",
      "model_module_version": "2.0.0",
      "model_name": "LayoutModel",
      "state": {
       "overflow": "auto",
       "width": "50%"
      }
     },
     "428ec238dfd4406cb03933a9a2d8ae73": {
      "model_module": "@jupyter-widgets/base",
      "model_module_version": "2.0.0",
      "model_name": "LayoutModel",
      "state": {
       "height": "25px",
       "margin": "0",
       "padding": "0",
       "width": "25px"
      }
     },
     "42b934b2aa7043178313b0f24cb207ea": {
      "model_module": "@jupyter-widgets/base",
      "model_module_version": "2.0.0",
      "model_name": "LayoutModel",
      "state": {
       "align_items": "center",
       "display": "flex"
      }
     },
     "42cc3cae6d094f6d9f4b22d39c1478ae": {
      "model_module": "@jupyter-widgets/base",
      "model_module_version": "2.0.0",
      "model_name": "LayoutModel",
      "state": {
       "align_items": "center",
       "display": "flex"
      }
     },
     "43601ff951f24ab7aa8947342d8473b3": {
      "model_module": "@jupyter-widgets/controls",
      "model_module_version": "2.0.0",
      "model_name": "HTMLModel",
      "state": {
       "layout": "IPY_MODEL_7890dcb061a34750b950a41ac18779de",
       "style": "IPY_MODEL_ebfe9a47735748fc8b24fb7d29bc6315",
       "value": "<div style='font-family: monospace; width: 100%;'>From<br><div style='border-left: 1px solid #B4B0BF; padding-left: 10px;'><div style='background-color: #D5F1D5;; color: #256B24;; display: block; white-space: pre-wrap; margin-bottom: 5px;'>approved: False</div><div style='background-color: #D5F1D5;; color: #256B24;; display: block; white-space: pre-wrap; margin-bottom: 5px;'>status_dict: {NodeIdentity <name=test_l, id=8e19e3a1, 🔑=1c0590b8>: (<UserCodeStatus.PENDING: 'pending'>, '')}</div></div></div>"
      }
     },
     "4447b268db8f46acb7c024fb0915ef88": {
      "model_module": "@jupyter-widgets/base",
      "model_module_version": "2.0.0",
      "model_name": "LayoutModel",
      "state": {}
     },
     "449d8a49e6dc4eaf8d7df7b4432ef01e": {
      "model_module": "@jupyter-widgets/controls",
      "model_module_version": "2.0.0",
      "model_name": "ButtonModel",
      "state": {
       "description": "Sync Selected Changes",
       "layout": "IPY_MODEL_a3ae3433c9704577a0a4a7853de914e4",
       "style": "IPY_MODEL_1d44132457c74961b51584a2eab28d71",
       "tooltip": null
      }
     },
     "44c32917d91e4455b9009429acf7fc14": {
      "model_module": "@jupyter-widgets/base",
      "model_module_version": "2.0.0",
      "model_name": "LayoutModel",
      "state": {
       "overflow": "auto",
       "width": "50%"
      }
     },
     "450b59654572459d82565752dfc43d86": {
      "model_module": "@jupyter-widgets/base",
      "model_module_version": "2.0.0",
      "model_name": "LayoutModel",
      "state": {
       "display": "none"
      }
     },
     "451627fb1a8c49368c006075b5a00e46": {
      "model_module": "@jupyter-widgets/controls",
      "model_module_version": "2.0.0",
      "model_name": "CheckboxModel",
      "state": {
       "description": "Sync",
       "disabled": false,
       "layout": "IPY_MODEL_0d0679ea38784ae688bfd43cde019598",
       "style": "IPY_MODEL_d21a0067660948b9b5c50ba4f781d3e6",
       "value": false
      }
     },
     "4558dbdf53674da9be2c00b25de030bb": {
      "model_module": "@jupyter-widgets/controls",
      "model_module_version": "2.0.0",
      "model_name": "HBoxModel",
      "state": {
       "layout": "IPY_MODEL_f400ad88360e4edbb909947be4ccf131"
      }
     },
     "45d7a663b48c4572b2bb51151a829b72": {
      "model_module": "@jupyter-widgets/controls",
      "model_module_version": "2.0.0",
      "model_name": "HTMLStyleModel",
      "state": {
       "description_width": "",
       "font_size": null,
       "text_color": null
      }
     },
     "45ddfaa869be48dfb982d47b428493e6": {
      "model_module": "@jupyter-widgets/controls",
      "model_module_version": "2.0.0",
      "model_name": "HTMLModel",
      "state": {
       "layout": "IPY_MODEL_d75fca1dc9b24555a855a244a027f9d5",
       "style": "IPY_MODEL_3d9053769ae3486e8c12ba2b62d2e737",
       "value": "<div style='height: 16px'></div>"
      }
     },
     "4661db48b3104e88b071771293b2f0da": {
      "model_module": "@jupyter-widgets/base",
      "model_module_version": "2.0.0",
      "model_name": "LayoutModel",
      "state": {}
     },
     "46655c31cc2d47bda1e1fff730f7900e": {
      "model_module": "@jupyter-widgets/controls",
      "model_module_version": "2.0.0",
      "model_name": "HTMLStyleModel",
      "state": {
       "description_width": "",
       "font_size": null,
       "text_color": null
      }
     },
     "4679399e2e4d427385fb4f213bba6975": {
      "model_module": "@jupyter-widgets/controls",
      "model_module_version": "2.0.0",
      "model_name": "HBoxModel",
      "state": {
       "children": [
        "IPY_MODEL_04cd96c9427d4d70afd879a814701a5b",
        "IPY_MODEL_deab8a48c9be43efb9152a325cb6fcdc"
       ],
       "layout": "IPY_MODEL_67a31a8261804affb902b7ada561e893"
      }
     },
     "46a9b98b29f542158a0e5561a9daa289": {
      "model_module": "@jupyter-widgets/controls",
      "model_module_version": "2.0.0",
      "model_name": "HTMLStyleModel",
      "state": {
       "description_width": "",
       "font_size": null,
       "text_color": null
      }
     },
     "476adebbfe15494eab132ef819551c18": {
      "model_module": "@jupyter-widgets/base",
      "model_module_version": "2.0.0",
      "model_name": "LayoutModel",
      "state": {
       "overflow": "auto",
       "width": "50%"
      }
     },
     "476b7930930b471fb88e337e55fd6a72": {
      "model_module": "@jupyter-widgets/controls",
      "model_module_version": "2.0.0",
      "model_name": "HTMLStyleModel",
      "state": {
       "description_width": "",
       "font_size": null,
       "text_color": null
      }
     },
     "477f9b839783468b9803b2732012bbe5": {
      "model_module": "@jupyter-widgets/controls",
      "model_module_version": "2.0.0",
      "model_name": "HBoxModel",
      "state": {
       "children": [
        "IPY_MODEL_39280910f9294216a83c38f5ba175f58",
        "IPY_MODEL_545dbf5db90e427d99fe1342acbe8ef4"
       ],
       "layout": "IPY_MODEL_932cb71cc0c44b088c3f0a72d3f7c1b2"
      }
     },
     "478508f1cbae40138bac3348388a1631": {
      "model_module": "@jupyter-widgets/base",
      "model_module_version": "2.0.0",
      "model_name": "LayoutModel",
      "state": {}
     },
     "47b9198acd8a4b16a549001e8566563f": {
      "model_module": "@jupyter-widgets/controls",
      "model_module_version": "2.0.0",
      "model_name": "HTMLModel",
      "state": {
       "layout": "IPY_MODEL_415f5f260964484bb9b91ad18ecf5bb5",
       "style": "IPY_MODEL_245e2f786d8849cba02246e95b3b2afd",
       "value": "<span style='background-color: #C2DEF0; border-radius: 4px; padding: 4px 6px; color: #373B7B;'>Code</span>"
      }
     },
     "47eddb0db11c40e897c7bbef596aebc0": {
      "model_module": "@jupyter-widgets/base",
      "model_module_version": "2.0.0",
      "model_name": "LayoutModel",
      "state": {}
     },
     "480ab3ba12754ea28e409f823c92ffd0": {
      "model_module": "@jupyter-widgets/controls",
      "model_module_version": "2.0.0",
      "model_name": "HTMLModel",
      "state": {
       "layout": "IPY_MODEL_f4af89e0537341baa573917b83a04385",
       "style": "IPY_MODEL_9536344768f643d3853b2600b39f6a81",
       "value": "<span style='margin-left: 5px; font-weight: bold; color: #373B7B;'>compute_mean</span> <span style='margin-left: 5px; color: #B4B0BF;'>#1234...</span>"
      }
     },
     "486c151905024e79be46ecb5d555dbfe": {
      "model_module": "@jupyter-widgets/base",
      "model_module_version": "2.0.0",
      "model_name": "LayoutModel",
      "state": {
       "width": "100%"
      }
     },
     "48a5018b8e31465cab4afefdeb14df12": {
      "model_module": "@jupyter-widgets/controls",
      "model_module_version": "2.0.0",
      "model_name": "HTMLModel",
      "state": {
       "layout": "IPY_MODEL_9667e6cadc55485696305a35adfa71a5",
       "style": "IPY_MODEL_30fe823ee67640498e94f6a980352402",
       "value": "<span style='margin-left: 5px; font-weight: bold; color: #373B7B;'>compute_mean</span> <span style='margin-left: 5px; color: #B4B0BF;'>#1234...</span>"
      }
     },
     "48a6d44d6f1a4e179b615bc4587f2e3d": {
      "model_module": "@jupyter-widgets/controls",
      "model_module_version": "2.0.0",
      "model_name": "ButtonStyleModel",
      "state": {
       "font_family": null,
       "font_size": null,
       "font_style": null,
       "font_variant": null,
       "font_weight": null,
       "text_color": null,
       "text_decoration": null
      }
     },
     "48afed1db89342128fc8a8ce22fdb761": {
      "model_module": "@jupyter-widgets/base",
      "model_module_version": "2.0.0",
      "model_name": "LayoutModel",
      "state": {}
     },
     "48e8c08581fc4e03bc384d35179bb30e": {
      "model_module": "@jupyter-widgets/controls",
      "model_module_version": "2.0.0",
      "model_name": "CheckboxStyleModel",
      "state": {
       "description_width": ""
      }
     },
     "49272323ff2e44f58a17e3547a46ee92": {
      "model_module": "@jupyter-widgets/controls",
      "model_module_version": "2.0.0",
      "model_name": "VBoxModel",
      "state": {
       "children": [
        "IPY_MODEL_fbfa9caa3ed243c9b9b34b5380864cc4",
        "IPY_MODEL_ab30933a1a5446bb88088622b4a33c7a"
       ],
       "layout": "IPY_MODEL_95b9a5c9b4ba41ec891b3b57c0f3073a"
      }
     },
     "493de0eaf7374e0da0ec3eec09f143dd": {
      "model_module": "@jupyter-widgets/base",
      "model_module_version": "2.0.0",
      "model_name": "LayoutModel",
      "state": {}
     },
     "494eed401de644338803a1eab4d2a21c": {
      "model_module": "@jupyter-widgets/base",
      "model_module_version": "2.0.0",
      "model_name": "LayoutModel",
      "state": {
       "height": "25px",
       "margin": "0",
       "padding": "0",
       "width": "25px"
      }
     },
     "4995a20cf9a94569ab29573ca23873bd": {
      "model_module": "@jupyter-widgets/controls",
      "model_module_version": "2.0.0",
      "model_name": "HBoxModel",
      "state": {
       "children": [
        "IPY_MODEL_dc9d3f6ac5d644149dfb26c9cdc45f86"
       ],
       "layout": "IPY_MODEL_72afa4512d83438394a586528a3dbe62"
      }
     },
     "49e191d020cb443d983f89e96b9226d1": {
      "model_module": "@jupyter-widgets/controls",
      "model_module_version": "2.0.0",
      "model_name": "HTMLStyleModel",
      "state": {
       "description_width": "",
       "font_size": null,
       "text_color": null
      }
     },
     "49f95bc0d7e14c73b78f0eddd07ac3cf": {
      "model_module": "@jupyter-widgets/controls",
      "model_module_version": "2.0.0",
      "model_name": "HTMLStyleModel",
      "state": {
       "description_width": "",
       "font_size": null,
       "text_color": null
      }
     },
     "4ac3f9dd1fcd4bc0abee13f4ebd1387f": {
      "model_module": "@jupyter-widgets/controls",
      "model_module_version": "2.0.0",
      "model_name": "HBoxModel",
      "state": {
       "children": [
        "IPY_MODEL_f0aa3b6a553c41f9a7be9560eddf17b6",
        "IPY_MODEL_cd95bda39f544df29fcf55111ac991fe"
       ],
       "layout": "IPY_MODEL_4231ce99714847b5b2eace74ddeff8f8"
      }
     },
     "4acd9f6596bb4a0c8056ba1f951485c7": {
      "model_module": "@jupyter-widgets/controls",
      "model_module_version": "2.0.0",
      "model_name": "HTMLModel",
      "state": {
       "layout": "IPY_MODEL_f5fa1504f35a4106b99f6c68294a2f06",
       "style": "IPY_MODEL_45d7a663b48c4572b2bb51151a829b72",
       "value": "<div style='height: 16px'></div>"
      }
     },
     "4b30b9ae3b04447f82ef63feb3ccbd89": {
      "model_module": "@jupyter-widgets/controls",
      "model_module_version": "2.0.0",
      "model_name": "HTMLModel",
      "state": {
       "layout": "IPY_MODEL_6a7080abc6b744d7bbd0d05be34b3015",
       "style": "IPY_MODEL_f3103e9b08264a63ac70753bd155be33",
       "value": "<div style='height: 16px'></div>"
      }
     },
     "4b795ce89d2a43de8b54a2ffe46d14b6": {
      "model_module": "@jupyter-widgets/controls",
      "model_module_version": "2.0.0",
      "model_name": "HTMLModel",
      "state": {
       "layout": "IPY_MODEL_428873292bce41ffad98c1abd9ad78a1",
       "style": "IPY_MODEL_86343508c34b40e789abe572a8c504dc",
       "value": "<div style='font-family: monospace; width: 100%;'>To<br><div style='border-left: 1px solid #B4B0BF; padding-left: 10px;'><div style='background-color: #D5F1D5;; color: #256B24;; display: block; white-space: pre-wrap; margin-bottom: 5px;'>approved: </div><div style='background-color: #D5F1D5;; color: #256B24;; display: block; white-space: pre-wrap; margin-bottom: 5px;'>status_dict: </div></div></div>"
      }
     },
     "4b9404ead73e4608a3d94a12eaae9164": {
      "model_module": "@jupyter-widgets/controls",
      "model_module_version": "2.0.0",
      "model_name": "HTMLModel",
      "state": {
       "layout": "IPY_MODEL_db632c82da1f4ad49f70997365fa523b",
       "style": "IPY_MODEL_1fe127796bc84e3d859e8eab86a905ca",
       "value": "<div style='font-family: monospace; width: 100%;'>From<br><div style='border-left: 1px solid #B4B0BF; padding-left: 10px;'><div style='background-color: #D5F1D5;; color: #256B24;; display: block; white-space: pre-wrap; margin-bottom: 5px;'>service_func_name: compute_mean</div><div style='background-color: #D5F1D5;; color: #256B24;; display: block; white-space: pre-wrap; margin-bottom: 5px;'>input_owners: ['test_l']</div><div style='background-color: #D5F1D5;; color: #256B24;; display: block; white-space: pre-wrap; margin-bottom: 5px;'>code_status: ['Node: test_l, Status: pending']</div><div style='background-color: #D5F1D5;; color: #256B24;; display: block; white-space: pre-wrap; margin-bottom: 5px;'>worker_pool_name: default-pool</div></div></div>"
      }
     },
     "4b96cdd32a6f479181bf953ffe55ae18": {
      "model_module": "@jupyter-widgets/controls",
      "model_module_version": "2.0.0",
      "model_name": "HTMLStyleModel",
      "state": {
       "description_width": "",
       "font_size": null,
       "text_color": null
      }
     },
     "4b9aa94326c445adad702b07854f5018": {
      "model_module": "@jupyter-widgets/base",
      "model_module_version": "2.0.0",
      "model_name": "LayoutModel",
      "state": {
       "overflow": "auto",
       "width": "50%"
      }
     },
     "4bc17844da524789995c2d9cca8e12e4": {
      "model_module": "@jupyter-widgets/base",
      "model_module_version": "2.0.0",
      "model_name": "LayoutModel",
      "state": {
       "overflow": "auto",
       "width": "50%"
      }
     },
     "4beb41a9b7ee4bbf83826a1467de6a05": {
      "model_module": "@jupyter-widgets/base",
      "model_module_version": "2.0.0",
      "model_name": "LayoutModel",
      "state": {}
     },
     "4bfcc9133f77441c9d601965b0aa576f": {
      "model_module": "@jupyter-widgets/controls",
      "model_module_version": "2.0.0",
      "model_name": "HTMLStyleModel",
      "state": {
       "description_width": "",
       "font_size": null,
       "text_color": null
      }
     },
     "4c1bbf6ff3094d87876ad6e7fc46596a": {
      "model_module": "@jupyter-widgets/controls",
      "model_module_version": "2.0.0",
      "model_name": "HTMLModel",
      "state": {
       "layout": "IPY_MODEL_fabc3e50da7b416a9f0dd1771b1755a1",
       "style": "IPY_MODEL_3f2cb1df1f2940b0a91f00f2aafc3646",
       "value": "<div style='height: 16px'></div>"
      }
     },
     "4c5e9bc6ef9a47ca9712c2932fd43e8e": {
      "model_module": "@jupyter-widgets/base",
      "model_module_version": "2.0.0",
      "model_name": "LayoutModel",
      "state": {}
     },
     "4c61a200bae8462d91241e8ff81d0c43": {
      "model_module": "@jupyter-widgets/base",
      "model_module_version": "2.0.0",
      "model_name": "LayoutModel",
      "state": {}
     },
     "4c70435a2d3049b28f060c603529bb99": {
      "model_module": "@jupyter-widgets/controls",
      "model_module_version": "2.0.0",
      "model_name": "HTMLStyleModel",
      "state": {
       "description_width": "",
       "font_size": null,
       "text_color": null
      }
     },
     "4c991ef085bc4d5688fc2aa4f6a63c1f": {
      "model_module": "@jupyter-widgets/controls",
      "model_module_version": "2.0.0",
      "model_name": "ButtonModel",
      "state": {
       "icon": "clone",
       "layout": "IPY_MODEL_77569ab68fe544aca75111c146c17a68",
       "style": "IPY_MODEL_84d5f40c128b4d1aa81422c3acb8aeeb",
       "tooltip": null
      }
     },
     "4cc0d11150e447ab977de49d8441bc0b": {
      "model_module": "@jupyter-widgets/controls",
      "model_module_version": "2.0.0",
      "model_name": "AccordionModel",
      "state": {
       "children": [
        "IPY_MODEL_5b6ecb0bbe6f4dc7b35ed0fbe70adafe"
       ],
       "layout": "IPY_MODEL_fadbaa0b752548cf87118514a8701262",
       "titles": [
        "UserCodeStatusCollection (2 changes)"
       ]
      }
     },
     "4ce82efa6c74453f9c16b1ca55c490ae": {
      "model_module": "@jupyter-widgets/controls",
      "model_module_version": "2.0.0",
      "model_name": "CheckboxModel",
      "state": {
       "description": "Sync",
       "disabled": false,
       "layout": "IPY_MODEL_e24408e111d84e1f93d0ce571fff75ee",
       "style": "IPY_MODEL_a887c05ca70745af91070bc0ddba6404",
       "value": false
      }
     },
     "4d0e92d15f064f2cb58950f5c0988ca4": {
      "model_module": "@jupyter-widgets/controls",
      "model_module_version": "2.0.0",
      "model_name": "CheckboxModel",
      "state": {
       "description": "Sync",
       "disabled": false,
       "layout": "IPY_MODEL_bf6360fc8bb34bf0b3f2fae3fb4df519",
       "style": "IPY_MODEL_b72218ac2f9045e5b76c6110b0a0b385",
       "value": false
      }
     },
     "4d11292b6af24920a54a7d55d48f6334": {
      "model_module": "@jupyter-widgets/output",
      "model_module_version": "1.0.0",
      "model_name": "OutputModel",
      "state": {
       "layout": "IPY_MODEL_e01f2812a8604384a38dd33801c1eb96"
      }
     },
     "4d817fe4a58241169fa6f267655fa302": {
      "model_module": "@jupyter-widgets/base",
      "model_module_version": "2.0.0",
      "model_name": "LayoutModel",
      "state": {
       "display": "none"
      }
     },
     "4dd4ef2107194546a960b5eec62732b9": {
      "model_module": "@jupyter-widgets/controls",
      "model_module_version": "2.0.0",
      "model_name": "HTMLStyleModel",
      "state": {
       "description_width": "",
       "font_size": null,
       "text_color": null
      }
     },
     "4e286168c02a4664b6b677f7972ed8b9": {
      "model_module": "@jupyter-widgets/base",
      "model_module_version": "2.0.0",
      "model_name": "LayoutModel",
      "state": {
       "border_bottom": "#353243 solid 0.5px",
       "border_left": "#353243 solid 0.5px",
       "border_right": "#353243 solid 0.5px",
       "border_top": "#353243 solid 0.5px",
       "padding": "16px"
      }
     },
     "4e5f6381ee844176ba050887cbe35115": {
      "model_module": "@jupyter-widgets/base",
      "model_module_version": "2.0.0",
      "model_name": "LayoutModel",
      "state": {}
     },
     "4e6220e4ba864f20b3012a128d4467f1": {
      "model_module": "@jupyter-widgets/base",
      "model_module_version": "2.0.0",
      "model_name": "LayoutModel",
      "state": {}
     },
     "4e80a6b71d5845cf9b6b8afbe9736be5": {
      "model_module": "@jupyter-widgets/base",
      "model_module_version": "2.0.0",
      "model_name": "LayoutModel",
      "state": {
       "display": "none"
      }
     },
     "4e8ec30203894d4d97d8642df2cd0db9": {
      "model_module": "@jupyter-widgets/controls",
      "model_module_version": "2.0.0",
      "model_name": "HTMLStyleModel",
      "state": {
       "description_width": "",
       "font_size": null,
       "text_color": null
      }
     },
     "4eeae658d88043a0ad2ffef558ce6fa6": {
      "model_module": "@jupyter-widgets/base",
      "model_module_version": "2.0.0",
      "model_name": "LayoutModel",
      "state": {
       "overflow": "auto",
       "width": "50%"
      }
     },
     "4f395f2e36c141d9aa3e32f6d163d499": {
      "model_module": "@jupyter-widgets/controls",
      "model_module_version": "2.0.0",
      "model_name": "HTMLStyleModel",
      "state": {
       "description_width": "",
       "font_size": null,
       "text_color": null
      }
     },
     "4f5c3fb0a0674ec5810689def2d59ae1": {
      "model_module": "@jupyter-widgets/controls",
      "model_module_version": "2.0.0",
      "model_name": "VBoxModel",
      "state": {
       "children": [
        "IPY_MODEL_387e18124e784463947e863cc6fb8c4f",
        "IPY_MODEL_70c08eb1c5984c3285da9e57e3d1f5be"
       ],
       "layout": "IPY_MODEL_daacdb5de7a141158d78ab644a93fe77"
      }
     },
     "4fc54c77e959406fa744c66ddde8e538": {
      "model_module": "@jupyter-widgets/base",
      "model_module_version": "2.0.0",
      "model_name": "LayoutModel",
      "state": {}
     },
     "4fc58a6821c044a982b1a912444f1958": {
      "model_module": "@jupyter-widgets/controls",
      "model_module_version": "2.0.0",
      "model_name": "HTMLStyleModel",
      "state": {
       "description_width": "",
       "font_size": null,
       "text_color": null
      }
     },
     "4fd75838fa084c349a64e162601030c2": {
      "model_module": "@jupyter-widgets/controls",
      "model_module_version": "2.0.0",
      "model_name": "CheckboxStyleModel",
      "state": {
       "description_width": ""
      }
     },
     "502d5b1a994a4244b8617304e52a1d71": {
      "model_module": "@jupyter-widgets/controls",
      "model_module_version": "2.0.0",
      "model_name": "HBoxModel",
      "state": {
       "children": [
        "IPY_MODEL_cc14803eda744e11a4786cc2dcca7813",
        "IPY_MODEL_3d9141291e5b49e08dd8201df6e5210d"
       ],
       "layout": "IPY_MODEL_0222bde6ccff413a99c179f7f50078ce"
      }
     },
     "50619c3ce4c54be59248120a00d83752": {
      "model_module": "@jupyter-widgets/base",
      "model_module_version": "2.0.0",
      "model_name": "LayoutModel",
      "state": {
       "overflow": "auto",
       "width": "50%"
      }
     },
     "5088518255504227a6ed2467debfbc06": {
      "model_module": "@jupyter-widgets/base",
      "model_module_version": "2.0.0",
      "model_name": "LayoutModel",
      "state": {}
     },
     "50a3e6bf58294db7ae21ecb94e6f70c7": {
      "model_module": "@jupyter-widgets/controls",
      "model_module_version": "2.0.0",
      "model_name": "VBoxModel",
      "state": {
       "children": [
        "IPY_MODEL_850cc73ce71943779b9b327fedf8fc5c",
        "IPY_MODEL_f368144f43ed4859b83057f1d509af8f",
        "IPY_MODEL_50aa92bc9bd84bdc97df80e86928bfb0",
        "IPY_MODEL_6c1c2409ae3747e8a605f5c5dfe12bc8",
        "IPY_MODEL_f12bf2600fb4476ab9ade03d93360a6a",
        "IPY_MODEL_6776e90b766547348e7bb2248b87238e",
        "IPY_MODEL_db84086724324a7e97056d75d9dbda41",
        "IPY_MODEL_b4fb5836a21343098abe9fe4b14f130e"
       ],
       "layout": "IPY_MODEL_3d79f91e2e494920a809c6cf1adab39a"
      }
     },
     "50a71116b1e440dcaa1be956311d01c0": {
      "model_module": "@jupyter-widgets/controls",
      "model_module_version": "2.0.0",
      "model_name": "HTMLStyleModel",
      "state": {
       "description_width": "",
       "font_size": null,
       "text_color": null
      }
     },
     "50aa92bc9bd84bdc97df80e86928bfb0": {
      "model_module": "@jupyter-widgets/controls",
      "model_module_version": "2.0.0",
      "model_name": "HTMLModel",
      "state": {
       "layout": "IPY_MODEL_6734baf1222d4758a62b94a7548d9842",
       "style": "IPY_MODEL_7b5ad9a12b314d5abb8939d2618c78df",
       "value": "<div style='height: 16px'></div>"
      }
     },
     "50b7cc2091cf4933a24458e44517fb5f": {
      "model_module": "@jupyter-widgets/base",
      "model_module_version": "2.0.0",
      "model_name": "LayoutModel",
      "state": {
       "margin": "0 5px 0 0"
      }
     },
     "50e9351457f14d349a7b1ce457e5a23d": {
      "model_module": "@jupyter-widgets/base",
      "model_module_version": "2.0.0",
      "model_name": "LayoutModel",
      "state": {}
     },
     "50f37e58f97c4f3aaa4c10321d299325": {
      "model_module": "@jupyter-widgets/controls",
      "model_module_version": "2.0.0",
      "model_name": "HTMLStyleModel",
      "state": {
       "description_width": "",
       "font_size": null,
       "text_color": null
      }
     },
     "514991d070e8415aa737f051a985ec3d": {
      "model_module": "@jupyter-widgets/controls",
      "model_module_version": "2.0.0",
      "model_name": "HTMLStyleModel",
      "state": {
       "description_width": "",
       "font_size": null,
       "text_color": null
      }
     },
     "514d9ea1c3804ef4b3e0ce209bf998be": {
      "model_module": "@jupyter-widgets/base",
      "model_module_version": "2.0.0",
      "model_name": "LayoutModel",
      "state": {}
     },
     "514f79bbfb9a48d2a68709f8432734dd": {
      "model_module": "@jupyter-widgets/output",
      "model_module_version": "1.0.0",
      "model_name": "OutputModel",
      "state": {
       "layout": "IPY_MODEL_2352ff2318d041ef92fe2aa563591748"
      }
     },
     "515deae8085441dea4c99b83327a8a6e": {
      "model_module": "@jupyter-widgets/base",
      "model_module_version": "2.0.0",
      "model_name": "LayoutModel",
      "state": {
       "margin": "0 5px 0 0"
      }
     },
     "5165ac67a0d04e4392201391a77b4987": {
      "model_module": "@jupyter-widgets/controls",
      "model_module_version": "2.0.0",
      "model_name": "HTMLModel",
      "state": {
       "layout": "IPY_MODEL_6a77a65952734b909a362c82496692fb",
       "style": "IPY_MODEL_4b96cdd32a6f479181bf953ffe55ae18",
       "value": "<div style='font-family: monospace; width: 100%;'>To<br><div style='border-left: 1px solid #B4B0BF; padding-left: 10px;'><div style='background-color: #D5F1D5;; color: #256B24;; display: block; white-space: pre-wrap; margin-bottom: 5px;'>service_func_name: </div><div style='background-color: #D5F1D5;; color: #256B24;; display: block; white-space: pre-wrap; margin-bottom: 5px;'>input_owners: </div><div style='background-color: #D5F1D5;; color: #256B24;; display: block; white-space: pre-wrap; margin-bottom: 5px;'>code_status: </div><div style='background-color: #D5F1D5;; color: #256B24;; display: block; white-space: pre-wrap; margin-bottom: 5px;'>worker_pool_name: </div></div></div>"
      }
     },
     "518bf9c7ccea4dc8b6099e5a7192f868": {
      "model_module": "@jupyter-widgets/base",
      "model_module_version": "2.0.0",
      "model_name": "LayoutModel",
      "state": {
       "overflow": "auto",
       "width": "50%"
      }
     },
     "51a00db033264a47ba619eb6068799dc": {
      "model_module": "@jupyter-widgets/controls",
      "model_module_version": "2.0.0",
      "model_name": "VBoxModel",
      "state": {
       "children": [
        "IPY_MODEL_e706b41179964d54b4de79bc93aa029b",
        "IPY_MODEL_01813e8a2359431fb67647a0c61d3620",
        "IPY_MODEL_d585b0e4ed6748da84a11b9c88024bd9",
        "IPY_MODEL_e6e537fb873a4ca5b99fb61b210842fe"
       ],
       "layout": "IPY_MODEL_773bfeb04c904efab6516f42b58523c6"
      }
     },
     "51dfa3c33bfa43d2a5fc9537b65ba9ed": {
      "model_module": "@jupyter-widgets/controls",
      "model_module_version": "2.0.0",
      "model_name": "HTMLModel",
      "state": {
       "layout": "IPY_MODEL_76162e2022fb46238eb7e4e8052c4fbe",
       "style": "IPY_MODEL_cae38661e51c416494258734eeaf51c1",
       "value": "<div style='font-family: monospace; width: 100%;'>From<br><div style='border-left: 1px solid #B4B0BF; padding-left: 10px;'><div style='background-color: #D5F1D5;; color: #256B24;; display: block; white-space: pre-wrap; margin-bottom: 5px;'>approved: False</div><div style='background-color: #D5F1D5;; color: #256B24;; display: block; white-space: pre-wrap; margin-bottom: 5px;'>status_dict: {NodeIdentity <name=test_l, id=8e19e3a1, 🔑=1c0590b8>: (<UserCodeStatus.PENDING: 'pending'>, '')}</div></div></div>"
      }
     },
     "5204b2f252824878bb64867cbe75002f": {
      "model_module": "@jupyter-widgets/controls",
      "model_module_version": "2.0.0",
      "model_name": "VBoxModel",
      "state": {
       "children": [
        "IPY_MODEL_7eafbe5555a5415ea513f1dfa801c4c5",
        "IPY_MODEL_1fd0033e47eb4dba87f28a37e4505aa7"
       ],
       "layout": "IPY_MODEL_84aa60c1f5c54b5882ae2672c220ce44"
      }
     },
     "520b7ba049e94508ad28ef3a9421039f": {
      "model_module": "@jupyter-widgets/controls",
      "model_module_version": "2.0.0",
      "model_name": "HTMLModel",
      "state": {
       "layout": "IPY_MODEL_ac071da1290040e8afdf1352b88bc7af",
       "style": "IPY_MODEL_590a0475771041368d4c648348e3a9f7",
       "value": "<span style='color: #B4B0BF;'>Syncing changes on</span>"
      }
     },
     "5222ac9895684a6c9b9b7da6c9496af4": {
      "model_module": "@jupyter-widgets/base",
      "model_module_version": "2.0.0",
      "model_name": "LayoutModel",
      "state": {}
     },
     "5242ea04b052458296835b97eaf5d6d4": {
      "model_module": "@jupyter-widgets/base",
      "model_module_version": "2.0.0",
      "model_name": "LayoutModel",
      "state": {}
     },
     "524e316d554f4752a0afaedf06c53716": {
      "model_module": "@jupyter-widgets/base",
      "model_module_version": "2.0.0",
      "model_name": "LayoutModel",
      "state": {}
     },
     "52505c47113d4903947fb3242909caba": {
      "model_module": "@jupyter-widgets/controls",
      "model_module_version": "2.0.0",
      "model_name": "HTMLStyleModel",
      "state": {
       "description_width": "",
       "font_size": null,
       "text_color": null
      }
     },
     "5293127d224a4c0fbf96cc5d0888a4d0": {
      "model_module": "@jupyter-widgets/base",
      "model_module_version": "2.0.0",
      "model_name": "LayoutModel",
      "state": {}
     },
     "5296c1cae1a4460b9f2af3e012a560c1": {
      "model_module": "@jupyter-widgets/controls",
      "model_module_version": "2.0.0",
      "model_name": "HTMLModel",
      "state": {
       "layout": "IPY_MODEL_dfb65c8921a3450888c9f9b690ea101d",
       "style": "IPY_MODEL_dcdc80a1beb14a2292963c47d764c0d0",
       "value": "<div style='height: 16px'></div>"
      }
     },
     "530b8ab82bf94ab6953a4e5ec47c5fee": {
      "model_module": "@jupyter-widgets/base",
      "model_module_version": "2.0.0",
      "model_name": "LayoutModel",
      "state": {}
     },
     "5312381888d24177a4ff2a4ed9b8616f": {
      "model_module": "@jupyter-widgets/base",
      "model_module_version": "2.0.0",
      "model_name": "LayoutModel",
      "state": {}
     },
     "536f16c7d7b34ccfaa2435feeda35c0c": {
      "model_module": "@jupyter-widgets/base",
      "model_module_version": "2.0.0",
      "model_name": "LayoutModel",
      "state": {
       "border_bottom": "#353243 solid 0.5px",
       "border_left": "#353243 solid 0.5px",
       "border_right": "#353243 solid 0.5px",
       "border_top": "#353243 solid 0.5px",
       "padding": "16px"
      }
     },
     "53c5f1ee9e594a0091171a324fed96dc": {
      "model_module": "@jupyter-widgets/base",
      "model_module_version": "2.0.0",
      "model_name": "LayoutModel",
      "state": {}
     },
     "53ca30fbd9604a42ba949156d6abb450": {
      "model_module": "@jupyter-widgets/controls",
      "model_module_version": "2.0.0",
      "model_name": "HTMLModel",
      "state": {
       "layout": "IPY_MODEL_6ccfa80ad3d743e1a9d8918d45a88b4b",
       "style": "IPY_MODEL_1034e4bf3c804f4f9a2e9c33c8094e53",
       "value": "<div style='height: 16px'></div>"
      }
     },
     "540de30ac78d4dbdae0265d7b9426f8c": {
      "model_module": "@jupyter-widgets/output",
      "model_module_version": "1.0.0",
      "model_name": "OutputModel",
      "state": {
       "layout": "IPY_MODEL_0e3c7ba55a7542d5b7a956d495b64853"
      }
     },
     "541b560c841748d19bf432a6d17e59cb": {
      "model_module": "@jupyter-widgets/controls",
      "model_module_version": "2.0.0",
      "model_name": "ButtonModel",
      "state": {
       "description": "Sync Selected Changes",
       "layout": "IPY_MODEL_af39a16b007c4f3e8867a993af900724",
       "style": "IPY_MODEL_a7d5b3d2e59544ae80c47d7692da0ede",
       "tooltip": null
      }
     },
     "5455efca80ed49aca86ef22cdccdcd4c": {
      "model_module": "@jupyter-widgets/base",
      "model_module_version": "2.0.0",
      "model_name": "LayoutModel",
      "state": {
       "overflow": "auto",
       "width": "50%"
      }
     },
     "545c9605cf77457e9896a8e66c449512": {
      "model_module": "@jupyter-widgets/base",
      "model_module_version": "2.0.0",
      "model_name": "LayoutModel",
      "state": {}
     },
     "545dbf5db90e427d99fe1342acbe8ef4": {
      "model_module": "@jupyter-widgets/controls",
      "model_module_version": "2.0.0",
      "model_name": "HTMLModel",
      "state": {
       "layout": "IPY_MODEL_76a0521a4639431ea831e601d2804029",
       "style": "IPY_MODEL_246ebc9c8d9d4288b5899a58d6894965",
       "value": "<div style='font-family: monospace; width: 100%;'>To<br><div style='border-left: 1px solid #B4B0BF; padding-left: 10px;'><div style='background-color: #D5F1D5;; color: #256B24;; display: block; white-space: pre-wrap; margin-bottom: 5px;'>approved: </div><div style='background-color: #D5F1D5;; color: #256B24;; display: block; white-space: pre-wrap; margin-bottom: 5px;'>status_dict: </div></div></div>"
      }
     },
     "547f8afc25574b269ee1b2ef4343dd5b": {
      "model_module": "@jupyter-widgets/controls",
      "model_module_version": "2.0.0",
      "model_name": "CheckboxModel",
      "state": {
       "description": "Sync",
       "disabled": false,
       "layout": "IPY_MODEL_60e9392997254dffad35340fb181d937",
       "style": "IPY_MODEL_ab8df9f29baa4cc88c34eff40480119e",
       "value": false
      }
     },
     "54bb38483b5f46e3851ae43e790333d0": {
      "model_module": "@jupyter-widgets/controls",
      "model_module_version": "2.0.0",
      "model_name": "HTMLStyleModel",
      "state": {
       "description_width": "",
       "font_size": null,
       "text_color": null
      }
     },
     "54dfe68c2f464a9a88262f7df4119fbf": {
      "model_module": "@jupyter-widgets/base",
      "model_module_version": "2.0.0",
      "model_name": "LayoutModel",
      "state": {
       "overflow": "auto",
       "width": "50%"
      }
     },
     "56041a6fc0fb4fd88c64cf789fb405be": {
      "model_module": "@jupyter-widgets/controls",
      "model_module_version": "2.0.0",
      "model_name": "CheckboxModel",
      "state": {
       "description": "Sync",
       "disabled": false,
       "layout": "IPY_MODEL_d9d394c584c6435485fef007055aed47",
       "style": "IPY_MODEL_48e8c08581fc4e03bc384d35179bb30e",
       "value": false
      }
     },
     "563c632cd22e419ea1533d0e549106b0": {
      "model_module": "@jupyter-widgets/controls",
      "model_module_version": "2.0.0",
      "model_name": "HTMLStyleModel",
      "state": {
       "description_width": "",
       "font_size": null,
       "text_color": null
      }
     },
     "56919eb2b40c41faa71f43a26c3512a5": {
      "model_module": "@jupyter-widgets/base",
      "model_module_version": "2.0.0",
      "model_name": "LayoutModel",
      "state": {
       "border_bottom": "#353243 solid 0.5px",
       "border_left": "#353243 solid 0.5px",
       "border_right": "#353243 solid 0.5px",
       "border_top": "#353243 solid 0.5px",
       "padding": "16px"
      }
     },
     "56ba6d235b9e4ded9f82470cbc2a7dd3": {
      "model_module": "@jupyter-widgets/controls",
      "model_module_version": "2.0.0",
      "model_name": "HTMLStyleModel",
      "state": {
       "description_width": "",
       "font_size": null,
       "text_color": null
      }
     },
     "56d760ebaec641479be6a8e26858417b": {
      "model_module": "@jupyter-widgets/base",
      "model_module_version": "2.0.0",
      "model_name": "LayoutModel",
      "state": {}
     },
     "56ffb3bb99964b24a648e34a8b89fc20": {
      "model_module": "@jupyter-widgets/base",
      "model_module_version": "2.0.0",
      "model_name": "LayoutModel",
      "state": {
       "width": "100%"
      }
     },
     "573efb5aaa444d08a7874e5fbfc1f4d1": {
      "model_module": "@jupyter-widgets/base",
      "model_module_version": "2.0.0",
      "model_name": "LayoutModel",
      "state": {}
     },
     "577e7e7ce35146b7a22fbbc2c12cd086": {
      "model_module": "@jupyter-widgets/base",
      "model_module_version": "2.0.0",
      "model_name": "LayoutModel",
      "state": {
       "overflow": "auto",
       "width": "50%"
      }
     },
     "57f88629ab504b46b58208ce6de8dd86": {
      "model_module": "@jupyter-widgets/base",
      "model_module_version": "2.0.0",
      "model_name": "LayoutModel",
      "state": {
       "align_items": "center",
       "display": "flex"
      }
     },
     "584e758a5d274f3798866ace11ab433d": {
      "model_module": "@jupyter-widgets/base",
      "model_module_version": "2.0.0",
      "model_name": "LayoutModel",
      "state": {}
     },
     "590a0475771041368d4c648348e3a9f7": {
      "model_module": "@jupyter-widgets/controls",
      "model_module_version": "2.0.0",
      "model_name": "HTMLStyleModel",
      "state": {
       "description_width": "",
       "font_size": null,
       "text_color": null
      }
     },
     "590c4a26339f456e997c495c7b4fd902": {
      "model_module": "@jupyter-widgets/controls",
      "model_module_version": "2.0.0",
      "model_name": "ButtonStyleModel",
      "state": {
       "button_color": "transparent",
       "font_family": null,
       "font_size": null,
       "font_style": null,
       "font_variant": null,
       "font_weight": null,
       "text_color": "#464A91",
       "text_decoration": null
      }
     },
     "592dc7fb8d204596b5f6a8a3c1af2ca0": {
      "model_module": "@jupyter-widgets/controls",
      "model_module_version": "2.0.0",
      "model_name": "HBoxModel",
      "state": {
       "children": [
        "IPY_MODEL_e39d018dc1574695aa2d4dd5a52dd64e",
        "IPY_MODEL_f7cfce4faf094e448ee5d437abf43598",
        "IPY_MODEL_a7d1440d172c4f87a6377b17f7edd10c"
       ],
       "layout": "IPY_MODEL_19c23e8287ca4a64bb9eb00aa7cbced4"
      }
     },
     "59607d9afb9242a69a9d4a34e977dd08": {
      "model_module": "@jupyter-widgets/controls",
      "model_module_version": "2.0.0",
      "model_name": "ButtonModel",
      "state": {
       "description": "Sync Selected Changes",
       "layout": "IPY_MODEL_b7130bbe70fb4a288e4186d496561c2f",
       "style": "IPY_MODEL_1f1b81f9fb8047d794f941a83cbfdc3f",
       "tooltip": null
      }
     },
     "59ae59e44b4f4fb6a17df30186b72a07": {
      "model_module": "@jupyter-widgets/base",
      "model_module_version": "2.0.0",
      "model_name": "LayoutModel",
      "state": {}
     },
     "59c851b66f2a4bdab5e9eebb59827ff3": {
      "model_module": "@jupyter-widgets/controls",
      "model_module_version": "2.0.0",
      "model_name": "HTMLModel",
      "state": {
       "layout": "IPY_MODEL_8457a3f700f04e53be3397de33c4f3ec",
       "style": "IPY_MODEL_ac4bfb617984418eba6aa7a511b5aede",
       "value": "<div style='font-family: monospace; width: 100%;'>To<br><div style='border-left: 1px solid #B4B0BF; padding-left: 10px;'><div style='background-color: #D5F1D5;; color: #256B24;; display: block; white-space: pre-wrap; margin-bottom: 5px;'>service_func_name: </div><div style='background-color: #D5F1D5;; color: #256B24;; display: block; white-space: pre-wrap; margin-bottom: 5px;'>input_owners: </div><div style='background-color: #D5F1D5;; color: #256B24;; display: block; white-space: pre-wrap; margin-bottom: 5px;'>code_status: </div><div style='background-color: #D5F1D5;; color: #256B24;; display: block; white-space: pre-wrap; margin-bottom: 5px;'>worker_pool_name: </div></div></div>"
      }
     },
     "59d6cebd7c2c4510b7ef7a1a381620da": {
      "model_module": "@jupyter-widgets/controls",
      "model_module_version": "2.0.0",
      "model_name": "HTMLStyleModel",
      "state": {
       "description_width": "",
       "font_size": null,
       "text_color": null
      }
     },
     "59ea3c80af78436cb2add3479c9ec4fe": {
      "model_module": "@jupyter-widgets/controls",
      "model_module_version": "2.0.0",
      "model_name": "HTMLModel",
      "state": {
       "layout": "IPY_MODEL_7dc7a433882942859b1dacbb0ddf6cf5",
       "style": "IPY_MODEL_077dd0b0018643d6ae7ab6d634596f5a",
       "value": "<div style=\"text-align: center; margin: 10px 0; border: 1px dashed #B4B0BF;\"></div>"
      }
     },
     "5a841c84c6d746428b85253f5e67eaf3": {
      "model_module": "@jupyter-widgets/controls",
      "model_module_version": "2.0.0",
      "model_name": "VBoxModel",
      "state": {
       "children": [
        "IPY_MODEL_a0af2cfd96a2488bb248f775247ea6de",
        "IPY_MODEL_c8d9072435ab481fb99bc1a6d88b8685",
        "IPY_MODEL_bce659b4a923499fa2712056a396cb9b",
        "IPY_MODEL_9d97de079056439ba690b6c1023dea36"
       ],
       "layout": "IPY_MODEL_86aa64d8b180425f91625a8661839c6f"
      }
     },
     "5a855ed229004bc7ba8034f2be1d568a": {
      "model_module": "@jupyter-widgets/base",
      "model_module_version": "2.0.0",
      "model_name": "LayoutModel",
      "state": {}
     },
     "5a85ec6ec4784c7793d6ec76b222ba68": {
      "model_module": "@jupyter-widgets/base",
      "model_module_version": "2.0.0",
      "model_name": "LayoutModel",
      "state": {}
     },
     "5af4c1b440654bd5b5d35a9025d4d6f9": {
      "model_module": "@jupyter-widgets/controls",
      "model_module_version": "2.0.0",
      "model_name": "HTMLStyleModel",
      "state": {
       "description_width": "",
       "font_size": null,
       "text_color": null
      }
     },
     "5b6ecb0bbe6f4dc7b35ed0fbe70adafe": {
      "model_module": "@jupyter-widgets/controls",
      "model_module_version": "2.0.0",
      "model_name": "VBoxModel",
      "state": {
       "children": [
        "IPY_MODEL_fe0fada066f841f197849ec34992acee",
        "IPY_MODEL_3bd878096bb94f12a95f5c3b96d95f57"
       ],
       "layout": "IPY_MODEL_b4c8f984b6e4403b86d2bb05889c399d"
      }
     },
     "5bd4d2db1c8d4abbada85d839a20865b": {
      "model_module": "@jupyter-widgets/base",
      "model_module_version": "2.0.0",
      "model_name": "LayoutModel",
      "state": {}
     },
     "5c8a4721f2a84ff598c270a493ad8778": {
      "model_module": "@jupyter-widgets/controls",
      "model_module_version": "2.0.0",
      "model_name": "HTMLStyleModel",
      "state": {
       "description_width": "",
       "font_size": null,
       "text_color": null
      }
     },
     "5c90957b7c314497b3c662f87c17ff34": {
      "model_module": "@jupyter-widgets/base",
      "model_module_version": "2.0.0",
      "model_name": "LayoutModel",
      "state": {
       "display": "none"
      }
     },
     "5c963e037d9c4925853b1b45ed485f62": {
      "model_module": "@jupyter-widgets/controls",
      "model_module_version": "2.0.0",
      "model_name": "HTMLModel",
      "state": {
       "layout": "IPY_MODEL_e733f0bb3f094eb792e1cbb00716c0f6",
       "style": "IPY_MODEL_54bb38483b5f46e3851ae43e790333d0",
       "value": "<div style=\"text-align: center; margin: 10px 0; border: 1px dashed #B4B0BF;\"></div>"
      }
     },
     "5c97d6278c5345e9b1a00fe2ff422f0d": {
      "model_module": "@jupyter-widgets/controls",
      "model_module_version": "2.0.0",
      "model_name": "CheckboxModel",
      "state": {
       "description": "Sync",
       "disabled": false,
       "layout": "IPY_MODEL_724cdc6757764385bf4c1133501c78da",
       "style": "IPY_MODEL_246ceb9f205f486693b81ec9f1efdbe5",
       "value": false
      }
     },
     "5caba6ce44184ec9bf61c608f0d7d5ae": {
      "model_module": "@jupyter-widgets/controls",
      "model_module_version": "2.0.0",
      "model_name": "HTMLStyleModel",
      "state": {
       "description_width": "",
       "font_size": null,
       "text_color": null
      }
     },
     "5cd10eb0a42f46eb9ee6d6dc226e5bc9": {
      "model_module": "@jupyter-widgets/base",
      "model_module_version": "2.0.0",
      "model_name": "LayoutModel",
      "state": {}
     },
     "5ceaee353fcc4259956f0112918d7bbc": {
      "model_module": "@jupyter-widgets/base",
      "model_module_version": "2.0.0",
      "model_name": "LayoutModel",
      "state": {}
     },
     "5cef045c1ea94d3daeadb83274dec812": {
      "model_module": "@jupyter-widgets/controls",
      "model_module_version": "2.0.0",
      "model_name": "HTMLModel",
      "state": {
       "layout": "IPY_MODEL_b1d455a67bc64b89a67ad066720bf167",
       "style": "IPY_MODEL_293b4ffb6a2d446e8a6d21649661eca9",
       "value": "<div style='height: 16px'></div>"
      }
     },
     "5d204bd963ab4e5bbdb0634e556e59f6": {
      "model_module": "@jupyter-widgets/controls",
      "model_module_version": "2.0.0",
      "model_name": "HBoxModel",
      "state": {
       "children": [
        "IPY_MODEL_d3719dd17d6249098983eab887427ad8"
       ],
       "layout": "IPY_MODEL_27720797c9994b20a80312d2022a8286"
      }
     },
     "5d4591c13f9f4e54a2625f7e48733abc": {
      "model_module": "@jupyter-widgets/base",
      "model_module_version": "2.0.0",
      "model_name": "LayoutModel",
      "state": {}
     },
     "5d67ba2fcd11431289298e2e4e7a68f6": {
      "model_module": "@jupyter-widgets/controls",
      "model_module_version": "2.0.0",
      "model_name": "VBoxModel",
      "state": {
       "children": [
        "IPY_MODEL_2f39ee5391824065aa9a1659bd7a5e6b",
        "IPY_MODEL_746e905b1b5048478dfe84ff9a92b734"
       ],
       "layout": "IPY_MODEL_0d6a47389eab48ababfefd20aacf4683"
      }
     },
     "5d7481d059774eefba65f2df79297534": {
      "model_module": "@jupyter-widgets/controls",
      "model_module_version": "2.0.0",
      "model_name": "HTMLModel",
      "state": {
       "layout": "IPY_MODEL_7ac158105433496b8360d65a10969acc",
       "style": "IPY_MODEL_ecc211a888a440fe811724a6c9fc40f6",
       "value": "<div style='height: 16px;'></div>"
      }
     },
     "5db4c34c8a024a2eb12bcba03b3f4b9d": {
      "model_module": "@jupyter-widgets/base",
      "model_module_version": "2.0.0",
      "model_name": "LayoutModel",
      "state": {}
     },
     "5e50bf8e08bc4cd8a4667f8c849e6e2a": {
      "model_module": "@jupyter-widgets/controls",
      "model_module_version": "2.0.0",
      "model_name": "ButtonModel",
      "state": {
       "description": "Sync Selected Changes",
       "layout": "IPY_MODEL_21bb46137a1445708bd873b45e88b7f6",
       "style": "IPY_MODEL_c1fa27a8c7aa4f05a8cd55f63bd012ee",
       "tooltip": null
      }
     },
     "5f0a0316530b464c92d2b655e9afa622": {
      "model_module": "@jupyter-widgets/controls",
      "model_module_version": "2.0.0",
      "model_name": "VBoxModel",
      "state": {
       "children": [
        "IPY_MODEL_674e8f49bcce4044bf598111c9c55abc",
        "IPY_MODEL_477f9b839783468b9803b2732012bbe5"
       ],
       "layout": "IPY_MODEL_9a851c56b1494871bb896e8a0aadb82d"
      }
     },
     "5f4db68af8eb40a99377162d4dc71641": {
      "model_module": "@jupyter-widgets/base",
      "model_module_version": "2.0.0",
      "model_name": "LayoutModel",
      "state": {
       "border_bottom": "#464A91 solid 1.5px",
       "border_left": "#464A91 solid 1.5px",
       "border_right": "#464A91 solid 1.5px",
       "border_top": "#464A91 solid 1.5px",
       "width": "200px"
      }
     },
     "5f7b145f1ac340b3a824bdd2a9db9883": {
      "model_module": "@jupyter-widgets/base",
      "model_module_version": "2.0.0",
      "model_name": "LayoutModel",
      "state": {}
     },
     "5f88d5b6982e4bf597d6c2e99ce55355": {
      "model_module": "@jupyter-widgets/controls",
      "model_module_version": "2.0.0",
      "model_name": "VBoxModel",
      "state": {
       "children": [
        "IPY_MODEL_620b716b27834c2ba04b7413cdca5905",
        "IPY_MODEL_d6c6e80c5c5e43af980e2253c0ba21f5",
        "IPY_MODEL_d8d4ce4a3c6e41d2bc399e1102d6f988",
        "IPY_MODEL_5fb7673d3ef043aa843601342585bf78",
        "IPY_MODEL_b76a4f6d4046407ebedea5deb3ceac42",
        "IPY_MODEL_cd71a3722bac465fb044945542adba7e",
        "IPY_MODEL_1f61d65773c24d0892ce712277a0c33b",
        "IPY_MODEL_84d7e5936399401ab561b9d52f83b03f"
       ],
       "layout": "IPY_MODEL_7f2039cdf7c7407e96576bc586b4d110"
      }
     },
     "5fb7673d3ef043aa843601342585bf78": {
      "model_module": "@jupyter-widgets/controls",
      "model_module_version": "2.0.0",
      "model_name": "AccordionModel",
      "state": {
       "children": [
        "IPY_MODEL_0839841cda57400799e4dae1bdf22378"
       ],
       "layout": "IPY_MODEL_d902bde0e1eb4fc3a8f9081267f8dfe6",
       "titles": [
        "UserCodeStatusCollection (2 changes)"
       ]
      }
     },
     "5fc5a685f4c245ac948817156b84ce41": {
      "model_module": "@jupyter-widgets/controls",
      "model_module_version": "2.0.0",
      "model_name": "VBoxModel",
      "state": {
       "children": [
        "IPY_MODEL_51a00db033264a47ba619eb6068799dc",
        "IPY_MODEL_0c60503da09a4fa6a494235cb81334b0",
        "IPY_MODEL_4acd9f6596bb4a0c8056ba1f951485c7",
        "IPY_MODEL_927af73e0b14475d9bc196ea8bfe8e84",
        "IPY_MODEL_197adf828a5647a29e0a51c14ff40fc4",
        "IPY_MODEL_a75326575be64a4dadbe6201eee5b370",
        "IPY_MODEL_45ddfaa869be48dfb982d47b428493e6",
        "IPY_MODEL_861b2bce24d946b089e695c4140a45b4"
       ],
       "layout": "IPY_MODEL_af19b41cdbd24be3802345e1053f0337"
      }
     },
     "602112842e454aeda2072ee6925f6d7b": {
      "model_module": "@jupyter-widgets/controls",
      "model_module_version": "2.0.0",
      "model_name": "HBoxModel",
      "state": {
       "layout": "IPY_MODEL_47eddb0db11c40e897c7bbef596aebc0"
      }
     },
     "604392dcb9ef4b56b6cac65e76c9c14b": {
      "model_module": "@jupyter-widgets/controls",
      "model_module_version": "2.0.0",
      "model_name": "HTMLModel",
      "state": {
       "layout": "IPY_MODEL_3f54a2e0850a42968c8367c402042275",
       "style": "IPY_MODEL_56ba6d235b9e4ded9f82470cbc2a7dd3",
       "value": "<span style='margin-left: 5px; font-weight: bold; color: #373B7B;'>compute_mean</span> <span style='margin-left: 5px; color: #B4B0BF;'>#1234...</span>"
      }
     },
     "60dc926724cf493dbe23a75a082a68f9": {
      "model_module": "@jupyter-widgets/controls",
      "model_module_version": "2.0.0",
      "model_name": "HTMLModel",
      "state": {
       "layout": "IPY_MODEL_fc772b2032fa4959a0800ae62e5240a6",
       "style": "IPY_MODEL_8cf43a443d414ab9b81e973173eb44e9",
       "value": "<span style='color: #B4B0BF;'>Syncing changes on</span>"
      }
     },
     "60e9392997254dffad35340fb181d937": {
      "model_module": "@jupyter-widgets/base",
      "model_module_version": "2.0.0",
      "model_name": "LayoutModel",
      "state": {}
     },
     "60ecbf22b6a04faf84a06dbecdb3bffd": {
      "model_module": "@jupyter-widgets/controls",
      "model_module_version": "2.0.0",
      "model_name": "ButtonModel",
      "state": {
       "icon": "clone",
       "layout": "IPY_MODEL_f8f1bddb2a124c21bbcb399d7c579842",
       "style": "IPY_MODEL_f91f6a37fbec44cb962d3bcbfaf2dc0f",
       "tooltip": null
      }
     },
     "6128cbe9bbfc428f9f41ae2ec9f83d76": {
      "model_module": "@jupyter-widgets/base",
      "model_module_version": "2.0.0",
      "model_name": "LayoutModel",
      "state": {}
     },
     "614b07c4497749ba8bef30d5d79d3766": {
      "model_module": "@jupyter-widgets/controls",
      "model_module_version": "2.0.0",
      "model_name": "HTMLModel",
      "state": {
       "layout": "IPY_MODEL_8d21bee7b0c54a8884d077bac572dd94",
       "style": "IPY_MODEL_1440b432c0e94700be10cc52dfb2cb86",
       "value": "<div style='height: 16px'></div>"
      }
     },
     "618337afabf64aa899ab846155561819": {
      "model_module": "@jupyter-widgets/controls",
      "model_module_version": "2.0.0",
      "model_name": "HTMLModel",
      "state": {
       "layout": "IPY_MODEL_f9dbb3ede9ff4b5bab4821052f015b4f",
       "style": "IPY_MODEL_1d532e4dbcd2404f9e1936836e606a9a",
       "value": "<div style='font-family: monospace; width: 100%;'>From<br><div style='border-left: 1px solid #B4B0BF; padding-left: 10px;'><div style='background-color: #D5F1D5;; color: #256B24;; display: block; white-space: pre-wrap; margin-bottom: 5px;'>approved: False</div><div style='background-color: #D5F1D5;; color: #256B24;; display: block; white-space: pre-wrap; margin-bottom: 5px;'>status_dict: {NodeIdentity <name=test_l, id=8e19e3a1, 🔑=1c0590b8>: (<UserCodeStatus.PENDING: 'pending'>, '')}</div></div></div>"
      }
     },
     "61996c1290af436e822571700486c3c5": {
      "model_module": "@jupyter-widgets/controls",
      "model_module_version": "2.0.0",
      "model_name": "HTMLStyleModel",
      "state": {
       "description_width": "",
       "font_size": null,
       "text_color": null
      }
     },
     "61ca5266261940128160b7e0ca692640": {
      "model_module": "@jupyter-widgets/base",
      "model_module_version": "2.0.0",
      "model_name": "LayoutModel",
      "state": {}
     },
     "620b716b27834c2ba04b7413cdca5905": {
      "model_module": "@jupyter-widgets/controls",
      "model_module_version": "2.0.0",
      "model_name": "VBoxModel",
      "state": {
       "children": [
        "IPY_MODEL_60dc926724cf493dbe23a75a082a68f9",
        "IPY_MODEL_8cdd115def3640128206e0f38ed9a0fb",
        "IPY_MODEL_c5b18aa7391141d2a266212ff48e5d9c",
        "IPY_MODEL_cf82a8afff1540feb1eb475bc33c5021"
       ],
       "layout": "IPY_MODEL_03b1f6eb15f845e1a926c31f607ddd2c"
      }
     },
     "62a5971f4a4a44c2b5feba970dc21ba7": {
      "model_module": "@jupyter-widgets/base",
      "model_module_version": "2.0.0",
      "model_name": "LayoutModel",
      "state": {}
     },
     "62aa45ae5ee94d908ebd55033c32f100": {
      "model_module": "@jupyter-widgets/controls",
      "model_module_version": "2.0.0",
      "model_name": "HTMLStyleModel",
      "state": {
       "description_width": "",
       "font_size": null,
       "text_color": null
      }
     },
     "62c0b7c60f2849b587f766681959bab9": {
      "model_module": "@jupyter-widgets/controls",
      "model_module_version": "2.0.0",
      "model_name": "VBoxModel",
      "state": {
       "children": [
        "IPY_MODEL_6fb8a69803ad4a6aa185d01c47910349"
       ],
       "layout": "IPY_MODEL_78f6d3ac82f6409a9ccfafbe6e8b54c1"
      }
     },
     "62c867723498427dbcbef11919a3753f": {
      "model_module": "@jupyter-widgets/controls",
      "model_module_version": "2.0.0",
      "model_name": "HBoxModel",
      "state": {
       "children": [
        "IPY_MODEL_8318d1e8235a4cd8bbfb921352d102c9",
        "IPY_MODEL_387373adaf654e8b8f709a9fbcc91d76",
        "IPY_MODEL_2a7989971003454ebff90a2576b2470c"
       ],
       "layout": "IPY_MODEL_67e2597530e6430fa48a8ed09217b94d"
      }
     },
     "62fad9c7a9c240b29867df62faa59daf": {
      "model_module": "@jupyter-widgets/base",
      "model_module_version": "2.0.0",
      "model_name": "LayoutModel",
      "state": {}
     },
     "634b2c39906244359e750acb415d2156": {
      "model_module": "@jupyter-widgets/output",
      "model_module_version": "1.0.0",
      "model_name": "OutputModel",
      "state": {
       "layout": "IPY_MODEL_5c90957b7c314497b3c662f87c17ff34"
      }
     },
     "637a6082c34d498daa87b5c284345f4b": {
      "model_module": "@jupyter-widgets/controls",
      "model_module_version": "2.0.0",
      "model_name": "HTMLModel",
      "state": {
       "layout": "IPY_MODEL_34985d21e0554643bb72137ed666b8a6",
       "style": "IPY_MODEL_e6a535366ad446f8afe268b083e6f697",
       "value": "<div style='height: 16px;'></div>"
      }
     },
     "63954fe12d27430a9e3341b5d38d2a13": {
      "model_module": "@jupyter-widgets/controls",
      "model_module_version": "2.0.0",
      "model_name": "HTMLStyleModel",
      "state": {
       "description_width": "",
       "font_size": null,
       "text_color": null
      }
     },
     "639a25ae5a6745d6badc8bd8cafd69e6": {
      "model_module": "@jupyter-widgets/controls",
      "model_module_version": "2.0.0",
      "model_name": "HTMLModel",
      "state": {
       "layout": "IPY_MODEL_273228aaeedd4eb983e40bac7050f370",
       "style": "IPY_MODEL_a5b172ac36a2482780ba9a82ba340cb4",
       "value": "<span style='color: #5E5A72;'>This would sync <span style='color: #B8520A'>2 changes </span> from <i>Low Node</i> to <i>High Node</i></span>"
      }
     },
     "63e36eda5e114482bf6b04f93a48ee14": {
      "model_module": "@jupyter-widgets/base",
      "model_module_version": "2.0.0",
      "model_name": "LayoutModel",
      "state": {}
     },
     "63f3bc216b844b9bacb5ad1f1e3efc22": {
      "model_module": "@jupyter-widgets/base",
      "model_module_version": "2.0.0",
      "model_name": "LayoutModel",
      "state": {}
     },
     "640117dc6fa54904a2cab1976782af7a": {
      "model_module": "@jupyter-widgets/controls",
      "model_module_version": "2.0.0",
      "model_name": "HTMLModel",
      "state": {
       "layout": "IPY_MODEL_01d61cc5ff264a8c8797f88ffc4cd4da",
       "style": "IPY_MODEL_3e2f83d6d77c4c5aac672caf550a5410",
       "value": "<div style=\"text-align: center; margin: 10px 0; border: 1px dashed #B4B0BF;\"></div>"
      }
     },
     "6455a9b21448444e9d41de0887658b0d": {
      "model_module": "@jupyter-widgets/controls",
      "model_module_version": "2.0.0",
      "model_name": "HTMLModel",
      "state": {
       "layout": "IPY_MODEL_940c4e207bda4860b1e8a6ecc2bd2b56",
       "style": "IPY_MODEL_136b0118b6594f98bd4afe60553f8ff0",
       "value": "<div style='font-family: monospace; width: 100%;'>To<br><div style='border-left: 1px solid #B4B0BF; padding-left: 10px;'><div style='background-color: #D5F1D5;; color: #256B24;; display: block; white-space: pre-wrap; margin-bottom: 5px;'>approved: </div><div style='background-color: #D5F1D5;; color: #256B24;; display: block; white-space: pre-wrap; margin-bottom: 5px;'>status_dict: </div></div></div>"
      }
     },
     "653cd61316bc4127b772ad279607dabc": {
      "model_module": "@jupyter-widgets/base",
      "model_module_version": "2.0.0",
      "model_name": "LayoutModel",
      "state": {}
     },
     "6562a30ec1b240068fa073534562b752": {
      "model_module": "@jupyter-widgets/base",
      "model_module_version": "2.0.0",
      "model_name": "LayoutModel",
      "state": {}
     },
     "65926393acdf4ea6b17634a0e4c1aca6": {
      "model_module": "@jupyter-widgets/base",
      "model_module_version": "2.0.0",
      "model_name": "LayoutModel",
      "state": {}
     },
     "65d61fa2e81c45e99aaf9dd98c999dff": {
      "model_module": "@jupyter-widgets/base",
      "model_module_version": "2.0.0",
      "model_name": "LayoutModel",
      "state": {}
     },
     "65f84047af9c4636acba384410c10c31": {
      "model_module": "@jupyter-widgets/controls",
      "model_module_version": "2.0.0",
      "model_name": "HTMLStyleModel",
      "state": {
       "description_width": "",
       "font_size": null,
       "text_color": null
      }
     },
     "6637d7b42bd640e692e93d0ce921a05e": {
      "model_module": "@jupyter-widgets/controls",
      "model_module_version": "2.0.0",
      "model_name": "HTMLStyleModel",
      "state": {
       "description_width": "",
       "font_size": null,
       "text_color": null
      }
     },
     "669347ea70124c1694f34a1dc2515d99": {
      "model_module": "@jupyter-widgets/base",
      "model_module_version": "2.0.0",
      "model_name": "LayoutModel",
      "state": {}
     },
     "6725d9677bdb41dba3b470757c1e19cc": {
      "model_module": "@jupyter-widgets/controls",
      "model_module_version": "2.0.0",
      "model_name": "HBoxModel",
      "state": {
       "children": [
        "IPY_MODEL_06192562ddc04534a826212eff653522",
        "IPY_MODEL_c86fc47300894d3f820fd94d62add043",
        "IPY_MODEL_1bb5e61c0c254ad1bd1fb826e8a4b1f1"
       ],
       "layout": "IPY_MODEL_24e3c1d474664840831b4189ebf15b06"
      }
     },
     "6734baf1222d4758a62b94a7548d9842": {
      "model_module": "@jupyter-widgets/base",
      "model_module_version": "2.0.0",
      "model_name": "LayoutModel",
      "state": {}
     },
     "674e8f49bcce4044bf598111c9c55abc": {
      "model_module": "@jupyter-widgets/controls",
      "model_module_version": "2.0.0",
      "model_name": "HBoxModel",
      "state": {
       "children": [
        "IPY_MODEL_a25043de9f7e4db584eb5524be879c5b"
       ],
       "layout": "IPY_MODEL_4e5f6381ee844176ba050887cbe35115"
      }
     },
     "6776e90b766547348e7bb2248b87238e": {
      "model_module": "@jupyter-widgets/controls",
      "model_module_version": "2.0.0",
      "model_name": "AccordionModel",
      "state": {
       "layout": "IPY_MODEL_17fa9485dd1b4ffa87591a7122d9a484"
      }
     },
     "677c84e0c4c2467ab08f00024695d8de": {
      "model_module": "@jupyter-widgets/base",
      "model_module_version": "2.0.0",
      "model_name": "LayoutModel",
      "state": {}
     },
     "67a31a8261804affb902b7ada561e893": {
      "model_module": "@jupyter-widgets/base",
      "model_module_version": "2.0.0",
      "model_name": "LayoutModel",
      "state": {}
     },
     "67e2597530e6430fa48a8ed09217b94d": {
      "model_module": "@jupyter-widgets/base",
      "model_module_version": "2.0.0",
      "model_name": "LayoutModel",
      "state": {
       "align_items": "center"
      }
     },
     "68426381f3dd4fb2bad6a995ac0b7df2": {
      "model_module": "@jupyter-widgets/base",
      "model_module_version": "2.0.0",
      "model_name": "LayoutModel",
      "state": {}
     },
     "68924a04871048bc98a2da68e78f32fc": {
      "model_module": "@jupyter-widgets/base",
      "model_module_version": "2.0.0",
      "model_name": "LayoutModel",
      "state": {}
     },
     "68d141674d8d43ef92114f5cad0226f1": {
      "model_module": "@jupyter-widgets/controls",
      "model_module_version": "2.0.0",
      "model_name": "HTMLStyleModel",
      "state": {
       "description_width": "",
       "font_size": null,
       "text_color": null
      }
     },
     "68db5f7405eb48d6b29eca6f881d9c1c": {
      "model_module": "@jupyter-widgets/controls",
      "model_module_version": "2.0.0",
      "model_name": "ButtonStyleModel",
      "state": {
       "button_color": "transparent",
       "font_family": null,
       "font_size": null,
       "font_style": null,
       "font_variant": null,
       "font_weight": null,
       "text_color": "#464A91",
       "text_decoration": null
      }
     },
     "6921d31d009a444d9ca90bcebcfc81fc": {
      "model_module": "@jupyter-widgets/controls",
      "model_module_version": "2.0.0",
      "model_name": "HTMLStyleModel",
      "state": {
       "description_width": "",
       "font_size": null,
       "text_color": null
      }
     },
     "6951bcb8e3334ce7974cf62bf706bf0c": {
      "model_module": "@jupyter-widgets/controls",
      "model_module_version": "2.0.0",
      "model_name": "HBoxModel",
      "state": {
       "children": [
        "IPY_MODEL_f320c87a3fed48208c038b48a0ca1069",
        "IPY_MODEL_2308fe7df3884d4dbff14cc337fe0828"
       ],
       "layout": "IPY_MODEL_f280dbebccbe4c2a92ff7afccd769602"
      }
     },
     "69a2a81d69bc424582cf2a4ca8d09100": {
      "model_module": "@jupyter-widgets/controls",
      "model_module_version": "2.0.0",
      "model_name": "HTMLModel",
      "state": {
       "layout": "IPY_MODEL_e60464d8457b4d91a173d3aef170c17e",
       "style": "IPY_MODEL_78632df0c09f48d2b7e79a6a0259df70",
       "value": "<div style=\"text-align: center; margin: 10px 0; border: 1px dashed #B4B0BF;\"></div>"
      }
     },
     "69ee326624fd43ccbf3c1840b9e44f15": {
      "model_module": "@jupyter-widgets/controls",
      "model_module_version": "2.0.0",
      "model_name": "HTMLStyleModel",
      "state": {
       "description_width": "",
       "font_size": null,
       "text_color": null
      }
     },
     "6a7080abc6b744d7bbd0d05be34b3015": {
      "model_module": "@jupyter-widgets/base",
      "model_module_version": "2.0.0",
      "model_name": "LayoutModel",
      "state": {}
     },
     "6a77a65952734b909a362c82496692fb": {
      "model_module": "@jupyter-widgets/base",
      "model_module_version": "2.0.0",
      "model_name": "LayoutModel",
      "state": {
       "overflow": "auto",
       "width": "50%"
      }
     },
     "6aa0bfa017204109b3499aa2c81f1402": {
      "model_module": "@jupyter-widgets/controls",
      "model_module_version": "2.0.0",
      "model_name": "CheckboxModel",
      "state": {
       "description": "Sync",
       "disabled": false,
       "layout": "IPY_MODEL_b4e41e5ded6348799b1f073ad662402e",
       "style": "IPY_MODEL_e6f180b41b624fb0a96266f48881d482",
       "value": false
      }
     },
     "6ab686bdbee344dd990e0ea8888b48c6": {
      "model_module": "@jupyter-widgets/controls",
      "model_module_version": "2.0.0",
      "model_name": "VBoxModel",
      "state": {
       "children": [
        "IPY_MODEL_aa23a0f893f24d37a6644ec843f2b830",
        "IPY_MODEL_5d67ba2fcd11431289298e2e4e7a68f6",
        "IPY_MODEL_06bd0310e2304b1fb10dbb8596e2cda6",
        "IPY_MODEL_da30e830db9843e7ad3143594eea47c8",
        "IPY_MODEL_859d449443e14806bbc3bb5860ef1551",
        "IPY_MODEL_81d8e1370866473c87abe1ee7521969d",
        "IPY_MODEL_6bb0c9806c484163b21baf9cdb8e81e8",
        "IPY_MODEL_dac15e74acf94621bd4cb03d5c9219bc"
       ],
       "layout": "IPY_MODEL_bd0c410f7f864ba49c4394ba638af668"
      }
     },
     "6ad7988624b048f988a22eaf81fce23c": {
      "model_module": "@jupyter-widgets/controls",
      "model_module_version": "2.0.0",
      "model_name": "HTMLStyleModel",
      "state": {
       "description_width": "",
       "font_size": null,
       "text_color": null
      }
     },
     "6b378072b8e14dac8295aecef64bf9c7": {
      "model_module": "@jupyter-widgets/controls",
      "model_module_version": "2.0.0",
      "model_name": "HBoxModel",
      "state": {
       "children": [
        "IPY_MODEL_618337afabf64aa899ab846155561819",
        "IPY_MODEL_e38ac2b733874b9d8cf0935775ff9597"
       ],
       "layout": "IPY_MODEL_f07dcbad0dc944dfb635792f0733d082"
      }
     },
     "6b6a32385d8b40eeb1fbe31457e40e3a": {
      "model_module": "@jupyter-widgets/base",
      "model_module_version": "2.0.0",
      "model_name": "LayoutModel",
      "state": {}
     },
     "6b6eb83cd9534315b482fc94e28ce490": {
      "model_module": "@jupyter-widgets/base",
      "model_module_version": "2.0.0",
      "model_name": "LayoutModel",
      "state": {}
     },
     "6bb0c9806c484163b21baf9cdb8e81e8": {
      "model_module": "@jupyter-widgets/controls",
      "model_module_version": "2.0.0",
      "model_name": "HTMLModel",
      "state": {
       "layout": "IPY_MODEL_62a5971f4a4a44c2b5feba970dc21ba7",
       "style": "IPY_MODEL_df349e4c98e54d17bf4bf67447f43f76",
       "value": "<div style='height: 16px'></div>"
      }
     },
     "6bd93b7544d544e89436fa5311735e08": {
      "model_module": "@jupyter-widgets/controls",
      "model_module_version": "2.0.0",
      "model_name": "HTMLModel",
      "state": {
       "layout": "IPY_MODEL_577e7e7ce35146b7a22fbbc2c12cd086",
       "style": "IPY_MODEL_f3ca941d89d942dab2c917330c577d34",
       "value": "<div style='font-family: monospace; width: 100%;'>To<br><div style='border-left: 1px solid #B4B0BF; padding-left: 10px;'><div style='background-color: #D5F1D5;; color: #256B24;; display: block; white-space: pre-wrap; margin-bottom: 5px;'>approved: </div><div style='background-color: #D5F1D5;; color: #256B24;; display: block; white-space: pre-wrap; margin-bottom: 5px;'>status_dict: </div></div></div>"
      }
     },
     "6bf9868c9b6c4d92b46fec5bd8291fc8": {
      "model_module": "@jupyter-widgets/base",
      "model_module_version": "2.0.0",
      "model_name": "LayoutModel",
      "state": {}
     },
     "6c1c2409ae3747e8a605f5c5dfe12bc8": {
      "model_module": "@jupyter-widgets/controls",
      "model_module_version": "2.0.0",
      "model_name": "AccordionModel",
      "state": {
       "children": [
        "IPY_MODEL_bb79b7e00698490e8ee869a9b8182880"
       ],
       "layout": "IPY_MODEL_74effff3374d46baad6672a5906209f3",
       "titles": [
        "UserCodeStatusCollection (2 changes)"
       ]
      }
     },
     "6c1ee5346c1549089564a2adc049f088": {
      "model_module": "@jupyter-widgets/controls",
      "model_module_version": "2.0.0",
      "model_name": "VBoxModel",
      "state": {
       "children": [
        "IPY_MODEL_bc2a8f1396ec4ec3b5d2ed61bc60c9ea",
        "IPY_MODEL_91d2824b517e43e28c0c6d74c70b938f"
       ],
       "layout": "IPY_MODEL_5ceaee353fcc4259956f0112918d7bbc"
      }
     },
     "6c5acce5391547458ac0158c6cd9a362": {
      "model_module": "@jupyter-widgets/controls",
      "model_module_version": "2.0.0",
      "model_name": "HBoxModel",
      "state": {
       "children": [
        "IPY_MODEL_08a1a39bc51e454385c28de1781d7eaa"
       ],
       "layout": "IPY_MODEL_34afc04e70b04917b224f4aa5219c457"
      }
     },
     "6c6f9388e36f445bb528c308284603a7": {
      "model_module": "@jupyter-widgets/base",
      "model_module_version": "2.0.0",
      "model_name": "LayoutModel",
      "state": {
       "margin": "0 5px 0 0"
      }
     },
     "6ca1aa231b3b4732ac8cc06a271a4dbe": {
      "model_module": "@jupyter-widgets/base",
      "model_module_version": "2.0.0",
      "model_name": "LayoutModel",
      "state": {}
     },
     "6ccfa80ad3d743e1a9d8918d45a88b4b": {
      "model_module": "@jupyter-widgets/base",
      "model_module_version": "2.0.0",
      "model_name": "LayoutModel",
      "state": {}
     },
     "6cdf5fb34d144cf4b86db829a489d940": {
      "model_module": "@jupyter-widgets/controls",
      "model_module_version": "2.0.0",
      "model_name": "BoxModel",
      "state": {
       "children": [
        "IPY_MODEL_bbb5e253c01240428663f096daee912d",
        "IPY_MODEL_540de30ac78d4dbdae0265d7b9426f8c"
       ],
       "layout": "IPY_MODEL_31591b1ad206467586bf0ecd8cfd9135"
      }
     },
     "6da51b1d20eb495e9207e8845d5ac370": {
      "model_module": "@jupyter-widgets/controls",
      "model_module_version": "2.0.0",
      "model_name": "CheckboxStyleModel",
      "state": {
       "description_width": ""
      }
     },
     "6de4f06a17174b87b94653fa7dd3fedc": {
      "model_module": "@jupyter-widgets/base",
      "model_module_version": "2.0.0",
      "model_name": "LayoutModel",
      "state": {
       "overflow": "auto",
       "width": "50%"
      }
     },
     "6e3ace1dd7b34198afefcc3e0d630a40": {
      "model_module": "@jupyter-widgets/controls",
      "model_module_version": "2.0.0",
      "model_name": "HBoxModel",
      "state": {
       "children": [
        "IPY_MODEL_efc496cc03a14b488fb869975bf9b1ec"
       ],
       "layout": "IPY_MODEL_514d9ea1c3804ef4b3e0ce209bf998be"
      }
     },
     "6e9bab083c65487aa96084b9b6766ecc": {
      "model_module": "@jupyter-widgets/base",
      "model_module_version": "2.0.0",
      "model_name": "LayoutModel",
      "state": {
       "overflow": "auto",
       "width": "50%"
      }
     },
     "6ecc60ea0ea74b4aa40e4e712a788e0c": {
      "model_module": "@jupyter-widgets/controls",
      "model_module_version": "2.0.0",
      "model_name": "HTMLModel",
      "state": {
       "layout": "IPY_MODEL_6e9bab083c65487aa96084b9b6766ecc",
       "style": "IPY_MODEL_73b0ac20e7a348659f985ee584be76a5",
       "value": "<div style='font-family: monospace; width: 100%;'>To<br><div style='border-left: 1px solid #B4B0BF; padding-left: 10px;'><div style='background-color: #D5F1D5;; color: #256B24;; display: block; white-space: pre-wrap; margin-bottom: 5px;'>approved: </div><div style='background-color: #D5F1D5;; color: #256B24;; display: block; white-space: pre-wrap; margin-bottom: 5px;'>status_dict: </div></div></div>"
      }
     },
     "6ed96c891eb84cd2811b48116be74949": {
      "model_module": "@jupyter-widgets/controls",
      "model_module_version": "2.0.0",
      "model_name": "HBoxModel",
      "state": {
       "children": [
        "IPY_MODEL_90121f67fcc2465eabd91edf209f2fff",
        "IPY_MODEL_f1c5a91cb22046f0b8568846010ce710"
       ],
       "layout": "IPY_MODEL_59ae59e44b4f4fb6a17df30186b72a07"
      }
     },
     "6eeaf3536b45451e8b75e1d2bb77e79c": {
      "model_module": "@jupyter-widgets/controls",
      "model_module_version": "2.0.0",
      "model_name": "HTMLStyleModel",
      "state": {
       "description_width": "",
       "font_size": null,
       "text_color": null
      }
     },
     "6f4a8d680b0e470ca82821186fddb371": {
      "model_module": "@jupyter-widgets/controls",
      "model_module_version": "2.0.0",
      "model_name": "HTMLModel",
      "state": {
       "layout": "IPY_MODEL_68426381f3dd4fb2bad6a995ac0b7df2",
       "style": "IPY_MODEL_db72bd9ddd3c4785b73d6733a7f3fcf5",
       "value": "<span style='margin-left: 5px; font-weight: bold; color: #373B7B;'>compute_mean</span> <span style='margin-left: 5px; color: #B4B0BF;'>#1234...</span>"
      }
     },
     "6f67b8b9523b40299fa04b5493d813c2": {
      "model_module": "@jupyter-widgets/controls",
      "model_module_version": "2.0.0",
      "model_name": "HTMLStyleModel",
      "state": {
       "description_width": "",
       "font_size": null,
       "text_color": null
      }
     },
     "6f8b314a83424faa9a554df895079bab": {
      "model_module": "@jupyter-widgets/base",
      "model_module_version": "2.0.0",
      "model_name": "LayoutModel",
      "state": {}
     },
     "6fb75d931ae3484daf861975b9029396": {
      "model_module": "@jupyter-widgets/controls",
      "model_module_version": "2.0.0",
      "model_name": "HTMLModel",
      "state": {
       "layout": "IPY_MODEL_b5917ff9654447a28149c0cb6709b1c5",
       "style": "IPY_MODEL_aaf2b084128e47cd84f3972cf5d2dbaa",
       "value": "<div style='height: 16px;'></div>"
      }
     },
     "6fb8a69803ad4a6aa185d01c47910349": {
      "model_module": "@jupyter-widgets/controls",
      "model_module_version": "2.0.0",
      "model_name": "HTMLModel",
      "state": {
       "layout": "IPY_MODEL_5cd10eb0a42f46eb9ee6d6dc226e5bc9",
       "style": "IPY_MODEL_6ad7988624b048f988a22eaf81fce23c",
       "value": "A"
      }
     },
     "6ff37d793e4043d580437feadc808657": {
      "model_module": "@jupyter-widgets/base",
      "model_module_version": "2.0.0",
      "model_name": "LayoutModel",
      "state": {}
     },
     "703634c9a6db4dceab0fb49bc7a164ec": {
      "model_module": "@jupyter-widgets/controls",
      "model_module_version": "2.0.0",
      "model_name": "HBoxModel",
      "state": {
       "children": [
        "IPY_MODEL_d3c9f6628b9641a191bbbadff1da4d34",
        "IPY_MODEL_9d3bf81c9e6548d2977691541ea96645"
       ],
       "layout": "IPY_MODEL_32f431a1426f4235afed32be8307d69d"
      }
     },
     "706ff1a3f8144912a8ceb3b92dc6e02d": {
      "model_module": "@jupyter-widgets/controls",
      "model_module_version": "2.0.0",
      "model_name": "HTMLStyleModel",
      "state": {
       "description_width": "",
       "font_size": null,
       "text_color": null
      }
     },
     "7073155e6e124188bc063c0dceefc2e1": {
      "model_module": "@jupyter-widgets/controls",
      "model_module_version": "2.0.0",
      "model_name": "HTMLStyleModel",
      "state": {
       "description_width": "",
       "font_size": null,
       "text_color": null
      }
     },
     "708a059c7a194711a1d569aec70489e9": {
      "model_module": "@jupyter-widgets/controls",
      "model_module_version": "2.0.0",
      "model_name": "ButtonStyleModel",
      "state": {
       "button_color": "transparent",
       "font_family": null,
       "font_size": null,
       "font_style": null,
       "font_variant": null,
       "font_weight": null,
       "text_color": "#464A91",
       "text_decoration": null
      }
     },
     "70a606f52cd24656b04f2ab80fc4c882": {
      "model_module": "@jupyter-widgets/base",
      "model_module_version": "2.0.0",
      "model_name": "LayoutModel",
      "state": {
       "border_bottom": "#353243 solid 0.5px",
       "border_left": "#353243 solid 0.5px",
       "border_right": "#353243 solid 0.5px",
       "border_top": "#353243 solid 0.5px",
       "padding": "16px"
      }
     },
     "70c08eb1c5984c3285da9e57e3d1f5be": {
      "model_module": "@jupyter-widgets/controls",
      "model_module_version": "2.0.0",
      "model_name": "HBoxModel",
      "state": {
       "children": [
        "IPY_MODEL_712706e56c9d4585b4d262f3d51867a9",
        "IPY_MODEL_ee1f584f8c564942b89409472610646e"
       ],
       "layout": "IPY_MODEL_736738d9575e410fa4a1bdd86620089a"
      }
     },
     "712706e56c9d4585b4d262f3d51867a9": {
      "model_module": "@jupyter-widgets/controls",
      "model_module_version": "2.0.0",
      "model_name": "HTMLModel",
      "state": {
       "layout": "IPY_MODEL_ebba4ecb41db482eae25bea5619ba8fc",
       "style": "IPY_MODEL_4e8ec30203894d4d97d8642df2cd0db9",
       "value": "<div style='font-family: monospace; width: 100%;'>From<br><div style='border-left: 1px solid #B4B0BF; padding-left: 10px;'><div style='background-color: #D5F1D5;; color: #256B24;; display: block; white-space: pre-wrap; margin-bottom: 5px;'>approved: False</div><div style='background-color: #D5F1D5;; color: #256B24;; display: block; white-space: pre-wrap; margin-bottom: 5px;'>status_dict: {NodeIdentity <name=test_l, id=8e19e3a1, 🔑=1c0590b8>: (<UserCodeStatus.PENDING: 'pending'>, '')}</div></div></div>"
      }
     },
     "7144aa866eea4fa1a400a94cfdeba565": {
      "model_module": "@jupyter-widgets/controls",
      "model_module_version": "2.0.0",
      "model_name": "HTMLModel",
      "state": {
       "layout": "IPY_MODEL_6b6eb83cd9534315b482fc94e28ce490",
       "style": "IPY_MODEL_1b58af15d4024dea98907078359ce125",
       "value": "<div style='height: 16px'></div>"
      }
     },
     "719cb9db6784440da22b3950ebc52543": {
      "model_module": "@jupyter-widgets/controls",
      "model_module_version": "2.0.0",
      "model_name": "CheckboxModel",
      "state": {
       "description": "Sync",
       "disabled": false,
       "layout": "IPY_MODEL_cc74829591f349f78940a2cfbbe6f15a",
       "style": "IPY_MODEL_93d83196f275437e9453222b30a1fde9",
       "value": false
      }
     },
     "7204875bb16043969cd559e7a3f7633e": {
      "model_module": "@jupyter-widgets/controls",
      "model_module_version": "2.0.0",
      "model_name": "HBoxModel",
      "state": {
       "children": [
        "IPY_MODEL_95c88b9c430348e3ad91a5b5fda4523b",
        "IPY_MODEL_1f9ea03b87d34fe686ef9780695b4794"
       ],
       "layout": "IPY_MODEL_758f8934296d42808bad73a1267a2248"
      }
     },
     "724cdc6757764385bf4c1133501c78da": {
      "model_module": "@jupyter-widgets/base",
      "model_module_version": "2.0.0",
      "model_name": "LayoutModel",
      "state": {}
     },
     "7258386e234a44c8af84a74fb6646ad7": {
      "model_module": "@jupyter-widgets/controls",
      "model_module_version": "2.0.0",
      "model_name": "HTMLStyleModel",
      "state": {
       "description_width": "",
       "font_size": null,
       "text_color": null
      }
     },
     "725d7b75ea8e4a6ba7a2b4b812a791a5": {
      "model_module": "@jupyter-widgets/controls",
      "model_module_version": "2.0.0",
      "model_name": "VBoxModel",
      "state": {
       "children": [
        "IPY_MODEL_b6510994cb5f483b89e423e17906aaca",
        "IPY_MODEL_6ed96c891eb84cd2811b48116be74949"
       ],
       "layout": "IPY_MODEL_36ba92dd726742cc82da7c17b20b55b6"
      }
     },
     "72664839f8e14c578510796f218245f7": {
      "model_module": "@jupyter-widgets/base",
      "model_module_version": "2.0.0",
      "model_name": "LayoutModel",
      "state": {}
     },
     "72678873275e4ca0904eaa7e1f382c7f": {
      "model_module": "@jupyter-widgets/base",
      "model_module_version": "2.0.0",
      "model_name": "LayoutModel",
      "state": {}
     },
     "7267a30db7c744f38d8a6c8e079a9b41": {
      "model_module": "@jupyter-widgets/base",
      "model_module_version": "2.0.0",
      "model_name": "LayoutModel",
      "state": {
       "align_items": "center",
       "display": "flex"
      }
     },
     "7298c11ef38e42a0a65d07e16aa1771d": {
      "model_module": "@jupyter-widgets/controls",
      "model_module_version": "2.0.0",
      "model_name": "HTMLStyleModel",
      "state": {
       "description_width": "",
       "font_size": null,
       "text_color": null
      }
     },
     "72afa4512d83438394a586528a3dbe62": {
      "model_module": "@jupyter-widgets/base",
      "model_module_version": "2.0.0",
      "model_name": "LayoutModel",
      "state": {}
     },
     "72ec479241fb43a6a4dfd0cd8a483402": {
      "model_module": "@jupyter-widgets/controls",
      "model_module_version": "2.0.0",
      "model_name": "HBoxModel",
      "state": {
       "layout": "IPY_MODEL_5a85ec6ec4784c7793d6ec76b222ba68"
      }
     },
     "73419813ecd44431bcbc8d7ecedda771": {
      "model_module": "@jupyter-widgets/base",
      "model_module_version": "2.0.0",
      "model_name": "LayoutModel",
      "state": {}
     },
     "736738d9575e410fa4a1bdd86620089a": {
      "model_module": "@jupyter-widgets/base",
      "model_module_version": "2.0.0",
      "model_name": "LayoutModel",
      "state": {}
     },
     "736823c4c4e14d05b330d5821d21de0d": {
      "model_module": "@jupyter-widgets/base",
      "model_module_version": "2.0.0",
      "model_name": "LayoutModel",
      "state": {
       "overflow": "auto",
       "width": "50%"
      }
     },
     "73719b0780624cffb948f609ea14aef3": {
      "model_module": "@jupyter-widgets/controls",
      "model_module_version": "2.0.0",
      "model_name": "HTMLStyleModel",
      "state": {
       "description_width": "",
       "font_size": null,
       "text_color": null
      }
     },
     "73a3df66f888492b96402d6e20559535": {
      "model_module": "@jupyter-widgets/base",
      "model_module_version": "2.0.0",
      "model_name": "LayoutModel",
      "state": {
       "border_bottom": "#353243 solid 0.5px",
       "border_left": "#353243 solid 0.5px",
       "border_right": "#353243 solid 0.5px",
       "border_top": "#353243 solid 0.5px",
       "padding": "16px"
      }
     },
     "73b0ac20e7a348659f985ee584be76a5": {
      "model_module": "@jupyter-widgets/controls",
      "model_module_version": "2.0.0",
      "model_name": "HTMLStyleModel",
      "state": {
       "description_width": "",
       "font_size": null,
       "text_color": null
      }
     },
     "73dfc1da04744c6eb6cc953f20978bd4": {
      "model_module": "@jupyter-widgets/base",
      "model_module_version": "2.0.0",
      "model_name": "LayoutModel",
      "state": {
       "display": "none"
      }
     },
     "7468f1f01500434c9287239d4d67e5f6": {
      "model_module": "@jupyter-widgets/base",
      "model_module_version": "2.0.0",
      "model_name": "LayoutModel",
      "state": {}
     },
     "746e905b1b5048478dfe84ff9a92b734": {
      "model_module": "@jupyter-widgets/controls",
      "model_module_version": "2.0.0",
      "model_name": "HBoxModel",
      "state": {
       "children": [
        "IPY_MODEL_a53c7e407fdf4b0185ab02d151e4e9ae",
        "IPY_MODEL_eaa97907eb3247b3b52221c5d615fece"
       ],
       "layout": "IPY_MODEL_f5c140d15449456984240778fbf9f2ea"
      }
     },
     "747d5a984a4c4525bf051acd26f39d98": {
      "model_module": "@jupyter-widgets/controls",
      "model_module_version": "2.0.0",
      "model_name": "HTMLModel",
      "state": {
       "layout": "IPY_MODEL_9174ec8e64ae46f0abfd3471db5b1d46",
       "style": "IPY_MODEL_49f95bc0d7e14c73b78f0eddd07ac3cf",
       "value": "<div style='font-family: monospace; width: 100%;'>To<br><div style='border-left: 1px solid #B4B0BF; padding-left: 10px;'><div style='background-color: #D5F1D5;; color: #256B24;; display: block; white-space: pre-wrap; margin-bottom: 5px;'>approved: </div><div style='background-color: #D5F1D5;; color: #256B24;; display: block; white-space: pre-wrap; margin-bottom: 5px;'>status_dict: </div></div></div>"
      }
     },
     "748e5b0649884d83a073266f7b7b7225": {
      "model_module": "@jupyter-widgets/controls",
      "model_module_version": "2.0.0",
      "model_name": "HTMLModel",
      "state": {
       "layout": "IPY_MODEL_29f742b0c5ca4bdfaddb1032eedb68fc",
       "style": "IPY_MODEL_36fe9295f3cd47db8f5faf7973210bd3",
       "value": "<div style='height: 16px'></div>"
      }
     },
     "7497c7255fbc40148d297d708ad9613a": {
      "model_module": "@jupyter-widgets/base",
      "model_module_version": "2.0.0",
      "model_name": "LayoutModel",
      "state": {
       "display": "none"
      }
     },
     "7497cb1e443e413fadd3d77ed05ac3c1": {
      "model_module": "@jupyter-widgets/base",
      "model_module_version": "2.0.0",
      "model_name": "LayoutModel",
      "state": {}
     },
     "74effff3374d46baad6672a5906209f3": {
      "model_module": "@jupyter-widgets/base",
      "model_module_version": "2.0.0",
      "model_name": "LayoutModel",
      "state": {}
     },
     "752301a9c61944a5b08d9cc63b6a07b1": {
      "model_module": "@jupyter-widgets/base",
      "model_module_version": "2.0.0",
      "model_name": "LayoutModel",
      "state": {}
     },
     "7523338264b947f9bdf77c6d767f1f4e": {
      "model_module": "@jupyter-widgets/controls",
      "model_module_version": "2.0.0",
      "model_name": "BoxModel",
      "state": {
       "children": [
        "IPY_MODEL_4279001a3149480ead78320596a60369",
        "IPY_MODEL_d05c81e91d644c7295c57d578905d9e4"
       ],
       "layout": "IPY_MODEL_0804b71f90f8447b8a4141010c98bedb"
      }
     },
     "758f8934296d42808bad73a1267a2248": {
      "model_module": "@jupyter-widgets/base",
      "model_module_version": "2.0.0",
      "model_name": "LayoutModel",
      "state": {}
     },
     "75bf46e00b3d420c948522f36f9f5e4e": {
      "model_module": "@jupyter-widgets/base",
      "model_module_version": "2.0.0",
      "model_name": "LayoutModel",
      "state": {
       "border_bottom": "#353243 solid 0.5px",
       "border_left": "#353243 solid 0.5px",
       "border_right": "#353243 solid 0.5px",
       "border_top": "#353243 solid 0.5px",
       "padding": "16px"
      }
     },
     "76162e2022fb46238eb7e4e8052c4fbe": {
      "model_module": "@jupyter-widgets/base",
      "model_module_version": "2.0.0",
      "model_name": "LayoutModel",
      "state": {
       "overflow": "auto",
       "width": "50%"
      }
     },
     "765b826a97b645a187a14abc105be603": {
      "model_module": "@jupyter-widgets/controls",
      "model_module_version": "2.0.0",
      "model_name": "VBoxModel",
      "state": {
       "children": [
        "IPY_MODEL_bea4cc19658944229aeb8c08da6ed517",
        "IPY_MODEL_982ca2a866e8428b8911b55b451db575"
       ],
       "layout": "IPY_MODEL_b045ff87470d4d45abc94869fb04bfb6"
      }
     },
     "76657afeb6a2408c942c1624eb5c5b24": {
      "model_module": "@jupyter-widgets/controls",
      "model_module_version": "2.0.0",
      "model_name": "HTMLStyleModel",
      "state": {
       "description_width": "",
       "font_size": null,
       "text_color": null
      }
     },
     "76746d21184f4154add074b6d50152f2": {
      "model_module": "@jupyter-widgets/base",
      "model_module_version": "2.0.0",
      "model_name": "LayoutModel",
      "state": {}
     },
     "76a0521a4639431ea831e601d2804029": {
      "model_module": "@jupyter-widgets/base",
      "model_module_version": "2.0.0",
      "model_name": "LayoutModel",
      "state": {
       "overflow": "auto",
       "width": "50%"
      }
     },
     "771a1b71cfe94c24ab393089a04c4d3d": {
      "model_module": "@jupyter-widgets/controls",
      "model_module_version": "2.0.0",
      "model_name": "HTMLModel",
      "state": {
       "layout": "IPY_MODEL_89e865eb4dd44e0cab04e626e1fbe154",
       "style": "IPY_MODEL_b928d33c0c6b4eb19c21a64eb709388c",
       "value": "<span style='color: #B4B0BF;'>Syncing changes on</span>"
      }
     },
     "771fd0343bb84480afe811ae85c0c28c": {
      "model_module": "@jupyter-widgets/controls",
      "model_module_version": "2.0.0",
      "model_name": "VBoxModel",
      "state": {
       "children": [
        "IPY_MODEL_b2ccfb460c314e718ca91f2a95016a19",
        "IPY_MODEL_a97a8713bead47279edc1ff1a9bf1b97",
        "IPY_MODEL_97e3550486c94d669c83cc656a294d25",
        "IPY_MODEL_fcfa353fb1bd4a0692d949c07550c2e6"
       ],
       "layout": "IPY_MODEL_d0870deb5caf4ffc89e95882a8e7f46d"
      }
     },
     "773bfeb04c904efab6516f42b58523c6": {
      "model_module": "@jupyter-widgets/base",
      "model_module_version": "2.0.0",
      "model_name": "LayoutModel",
      "state": {}
     },
     "77569ab68fe544aca75111c146c17a68": {
      "model_module": "@jupyter-widgets/base",
      "model_module_version": "2.0.0",
      "model_name": "LayoutModel",
      "state": {
       "height": "25px",
       "margin": "0",
       "padding": "0",
       "width": "25px"
      }
     },
     "7804351864eb4ef1bf8ee97480231d4b": {
      "model_module": "@jupyter-widgets/controls",
      "model_module_version": "2.0.0",
      "model_name": "HTMLModel",
      "state": {
       "layout": "IPY_MODEL_dc07db269da644b9ab52f03f5d63e336",
       "style": "IPY_MODEL_c53795e142b54850845d41720246d27b",
       "value": "<div style='font-family: monospace; width: 100%;'>To<br><div style='border-left: 1px solid #B4B0BF; padding-left: 10px;'><div style='background-color: #D5F1D5;; color: #256B24;; display: block; white-space: pre-wrap; margin-bottom: 5px;'>service_func_name: </div><div style='background-color: #D5F1D5;; color: #256B24;; display: block; white-space: pre-wrap; margin-bottom: 5px;'>input_owners: </div><div style='background-color: #D5F1D5;; color: #256B24;; display: block; white-space: pre-wrap; margin-bottom: 5px;'>code_status: </div><div style='background-color: #D5F1D5;; color: #256B24;; display: block; white-space: pre-wrap; margin-bottom: 5px;'>worker_pool_name: </div></div></div>"
      }
     },
     "781ff2439305403ba780c083875e5893": {
      "model_module": "@jupyter-widgets/controls",
      "model_module_version": "2.0.0",
      "model_name": "HTMLModel",
      "state": {
       "layout": "IPY_MODEL_3b336b6343b6430fb99c3e3e071b4229",
       "style": "IPY_MODEL_fcb1f5f281964f648c3ef6616488aa79",
       "value": "<div style='height: 16px;'></div>"
      }
     },
     "78394529ba224954bcc3cf3f5753ff4c": {
      "model_module": "@jupyter-widgets/controls",
      "model_module_version": "2.0.0",
      "model_name": "HTMLStyleModel",
      "state": {
       "description_width": "",
       "font_size": null,
       "text_color": null
      }
     },
     "78632df0c09f48d2b7e79a6a0259df70": {
      "model_module": "@jupyter-widgets/controls",
      "model_module_version": "2.0.0",
      "model_name": "HTMLStyleModel",
      "state": {
       "description_width": "",
       "font_size": null,
       "text_color": null
      }
     },
     "7869a6e4e38345c0a99b03401d1f8d30": {
      "model_module": "@jupyter-widgets/base",
      "model_module_version": "2.0.0",
      "model_name": "LayoutModel",
      "state": {}
     },
     "787b24bb0a3e40b0917af1493f0fb913": {
      "model_module": "@jupyter-widgets/controls",
      "model_module_version": "2.0.0",
      "model_name": "HBoxModel",
      "state": {
       "children": [
        "IPY_MODEL_1362573896f74496ad7ca35bf4bcae2a"
       ],
       "layout": "IPY_MODEL_50e9351457f14d349a7b1ce457e5a23d"
      }
     },
     "7890dcb061a34750b950a41ac18779de": {
      "model_module": "@jupyter-widgets/base",
      "model_module_version": "2.0.0",
      "model_name": "LayoutModel",
      "state": {
       "overflow": "auto",
       "width": "50%"
      }
     },
     "78980e78ec2b4df098f876ceda39f306": {
      "model_module": "@jupyter-widgets/controls",
      "model_module_version": "2.0.0",
      "model_name": "VBoxModel",
      "state": {
       "children": [
        "IPY_MODEL_0152c8f179e142f38347348a6dc5b849",
        "IPY_MODEL_6951bcb8e3334ce7974cf62bf706bf0c"
       ],
       "layout": "IPY_MODEL_2b7752d73a214ecc93dceb24ca995ac8"
      }
     },
     "78f6d3ac82f6409a9ccfafbe6e8b54c1": {
      "model_module": "@jupyter-widgets/base",
      "model_module_version": "2.0.0",
      "model_name": "LayoutModel",
      "state": {}
     },
     "78fbb2918f7d4374b091672d06acefec": {
      "model_module": "@jupyter-widgets/controls",
      "model_module_version": "2.0.0",
      "model_name": "VBoxModel",
      "state": {
       "children": [
        "IPY_MODEL_8392adb271ca4c26aafd32042b3cbbdf",
        "IPY_MODEL_3215dbe80a4946bdb6dbf4af9861a929"
       ],
       "layout": "IPY_MODEL_4fc54c77e959406fa744c66ddde8e538"
      }
     },
     "791cde53403f494eaaf6c95659dd6097": {
      "model_module": "@jupyter-widgets/controls",
      "model_module_version": "2.0.0",
      "model_name": "HTMLModel",
      "state": {
       "layout": "IPY_MODEL_21942031eef6444b9a2ee94f91982b85",
       "style": "IPY_MODEL_0347a7d1aead4cae9a085c4997f9ff83",
       "value": "<span style='margin-left: 5px; font-weight: bold; color: #373B7B;'>compute_mean</span> <span style='margin-left: 5px; color: #B4B0BF;'>#1234...</span>"
      }
     },
     "792664e3a2d34193a51b95a529617592": {
      "model_module": "@jupyter-widgets/base",
      "model_module_version": "2.0.0",
      "model_name": "LayoutModel",
      "state": {}
     },
     "7957dd57d51540718b99e13eaf27156c": {
      "model_module": "@jupyter-widgets/base",
      "model_module_version": "2.0.0",
      "model_name": "LayoutModel",
      "state": {}
     },
     "7a22945f7387499b8ad3103e49825b69": {
      "model_module": "@jupyter-widgets/base",
      "model_module_version": "2.0.0",
      "model_name": "LayoutModel",
      "state": {}
     },
     "7a342412ebe94e0bac17e36833a862fc": {
      "model_module": "@jupyter-widgets/controls",
      "model_module_version": "2.0.0",
      "model_name": "HTMLStyleModel",
      "state": {
       "description_width": "",
       "font_size": null,
       "text_color": null
      }
     },
     "7a6c7b713e4f47fa82fa5a95c3b1bd41": {
      "model_module": "@jupyter-widgets/controls",
      "model_module_version": "2.0.0",
      "model_name": "HTMLStyleModel",
      "state": {
       "description_width": "",
       "font_size": null,
       "text_color": null
      }
     },
     "7a89e61798cc4f9ebb364c723f2475e5": {
      "model_module": "@jupyter-widgets/controls",
      "model_module_version": "2.0.0",
      "model_name": "HTMLStyleModel",
      "state": {
       "description_width": "",
       "font_size": null,
       "text_color": null
      }
     },
     "7a8be91fd1ea473aac3c660bbba31e6d": {
      "model_module": "@jupyter-widgets/controls",
      "model_module_version": "2.0.0",
      "model_name": "CheckboxStyleModel",
      "state": {
       "description_width": ""
      }
     },
     "7a92afbf40104e6585b9fd875020d591": {
      "model_module": "@jupyter-widgets/controls",
      "model_module_version": "2.0.0",
      "model_name": "ButtonStyleModel",
      "state": {
       "font_family": null,
       "font_size": null,
       "font_style": null,
       "font_variant": null,
       "font_weight": null,
       "text_color": null,
       "text_decoration": null
      }
     },
     "7a9f8779c9bd42109a73cdba67a7757c": {
      "model_module": "@jupyter-widgets/controls",
      "model_module_version": "2.0.0",
      "model_name": "AccordionModel",
      "state": {
       "layout": "IPY_MODEL_21ce7ba2f9ea4be6aa56d1e9329e07ec"
      }
     },
     "7ab32bce9d9d4ae0ad85ee86927b9254": {
      "model_module": "@jupyter-widgets/base",
      "model_module_version": "2.0.0",
      "model_name": "LayoutModel",
      "state": {}
     },
     "7ac158105433496b8360d65a10969acc": {
      "model_module": "@jupyter-widgets/base",
      "model_module_version": "2.0.0",
      "model_name": "LayoutModel",
      "state": {}
     },
     "7b0c6d5ac83c45f9a602d1453cdfafba": {
      "model_module": "@jupyter-widgets/base",
      "model_module_version": "2.0.0",
      "model_name": "LayoutModel",
      "state": {
       "border_bottom": "#464A91 solid 1.5px",
       "border_left": "#464A91 solid 1.5px",
       "border_right": "#464A91 solid 1.5px",
       "border_top": "#464A91 solid 1.5px",
       "width": "200px"
      }
     },
     "7b17c268906d4494bc6b71ae72570e93": {
      "model_module": "@jupyter-widgets/base",
      "model_module_version": "2.0.0",
      "model_name": "LayoutModel",
      "state": {
       "align_items": "center"
      }
     },
     "7b2a4dc20cb4467da7a89837ff580827": {
      "model_module": "@jupyter-widgets/controls",
      "model_module_version": "2.0.0",
      "model_name": "HTMLStyleModel",
      "state": {
       "description_width": "",
       "font_size": null,
       "text_color": null
      }
     },
     "7b5ad9a12b314d5abb8939d2618c78df": {
      "model_module": "@jupyter-widgets/controls",
      "model_module_version": "2.0.0",
      "model_name": "HTMLStyleModel",
      "state": {
       "description_width": "",
       "font_size": null,
       "text_color": null
      }
     },
     "7b8407c928a149ac8d53d8e4563c5629": {
      "model_module": "@jupyter-widgets/base",
      "model_module_version": "2.0.0",
      "model_name": "LayoutModel",
      "state": {}
     },
     "7bd243d6da8e49499620cbd5269d20c1": {
      "model_module": "@jupyter-widgets/controls",
      "model_module_version": "2.0.0",
      "model_name": "HTMLStyleModel",
      "state": {
       "description_width": "",
       "font_size": null,
       "text_color": null
      }
     },
     "7c068f466e644481b696485cda6bb5a7": {
      "model_module": "@jupyter-widgets/base",
      "model_module_version": "2.0.0",
      "model_name": "LayoutModel",
      "state": {}
     },
     "7c68b6d86b644924844242880393d0c4": {
      "model_module": "@jupyter-widgets/controls",
      "model_module_version": "2.0.0",
      "model_name": "ButtonStyleModel",
      "state": {
       "font_family": null,
       "font_size": null,
       "font_style": null,
       "font_variant": null,
       "font_weight": null,
       "text_color": null,
       "text_decoration": null
      }
     },
     "7c696fb6bacc4501a595709c83dbec85": {
      "model_module": "@jupyter-widgets/controls",
      "model_module_version": "2.0.0",
      "model_name": "AccordionModel",
      "state": {
       "children": [
        "IPY_MODEL_3f8ba42bd72e4a288c792a86c8565f13"
       ],
       "layout": "IPY_MODEL_7d86e4809f2245be9690c6f046375239",
       "titles": [
        "UserCodeStatusCollection (2 changes)"
       ]
      }
     },
     "7cd43445afe04342b99905aa81655596": {
      "model_module": "@jupyter-widgets/controls",
      "model_module_version": "2.0.0",
      "model_name": "HTMLStyleModel",
      "state": {
       "description_width": "",
       "font_size": null,
       "text_color": null
      }
     },
     "7d4c6d627f214b44a87655c3fb83a6b1": {
      "model_module": "@jupyter-widgets/base",
      "model_module_version": "2.0.0",
      "model_name": "LayoutModel",
      "state": {}
     },
     "7d86e4809f2245be9690c6f046375239": {
      "model_module": "@jupyter-widgets/base",
      "model_module_version": "2.0.0",
      "model_name": "LayoutModel",
      "state": {}
     },
     "7db61a31f08645a5adb19cc3f534661c": {
      "model_module": "@jupyter-widgets/controls",
      "model_module_version": "2.0.0",
      "model_name": "HTMLModel",
      "state": {
       "layout": "IPY_MODEL_a93dbdc1463f4094b44ad7656b1c6fb0",
       "style": "IPY_MODEL_d8035fea39f74d35a4a3540f83a51f2a",
       "value": "<div style='font-family: monospace; width: 100%;'>From<br><div style='border-left: 1px solid #B4B0BF; padding-left: 10px;'><div style='background-color: #D5F1D5;; color: #256B24;; display: block; white-space: pre-wrap; margin-bottom: 5px;'>approved: False</div><div style='background-color: #D5F1D5;; color: #256B24;; display: block; white-space: pre-wrap; margin-bottom: 5px;'>status_dict: {NodeIdentity <name=test_l, id=8e19e3a1, 🔑=1c0590b8>: (<UserCodeStatus.PENDING: 'pending'>, '')}</div></div></div>"
      }
     },
     "7dba0afb50b8424584c44286e1aac844": {
      "model_module": "@jupyter-widgets/controls",
      "model_module_version": "2.0.0",
      "model_name": "HTMLStyleModel",
      "state": {
       "description_width": "",
       "font_size": null,
       "text_color": null
      }
     },
     "7dc7a433882942859b1dacbb0ddf6cf5": {
      "model_module": "@jupyter-widgets/base",
      "model_module_version": "2.0.0",
      "model_name": "LayoutModel",
      "state": {
       "width": "100%"
      }
     },
     "7dc8f12c4282471491d759a4c2919d06": {
      "model_module": "@jupyter-widgets/base",
      "model_module_version": "2.0.0",
      "model_name": "LayoutModel",
      "state": {
       "overflow": "auto",
       "width": "50%"
      }
     },
     "7dfe28de4f96403e81cf75ceebfeb5a9": {
      "model_module": "@jupyter-widgets/controls",
      "model_module_version": "2.0.0",
      "model_name": "HTMLStyleModel",
      "state": {
       "description_width": "",
       "font_size": null,
       "text_color": null
      }
     },
     "7e08e87304864756bc9a82256bdedfae": {
      "model_module": "@jupyter-widgets/controls",
      "model_module_version": "2.0.0",
      "model_name": "HTMLStyleModel",
      "state": {
       "description_width": "",
       "font_size": null,
       "text_color": null
      }
     },
     "7e32157128594404ae02c17722371b72": {
      "model_module": "@jupyter-widgets/base",
      "model_module_version": "2.0.0",
      "model_name": "LayoutModel",
      "state": {
       "border_bottom": "#353243 solid 0.5px",
       "border_left": "#353243 solid 0.5px",
       "border_right": "#353243 solid 0.5px",
       "border_top": "#353243 solid 0.5px",
       "padding": "16px"
      }
     },
     "7eafbe5555a5415ea513f1dfa801c4c5": {
      "model_module": "@jupyter-widgets/controls",
      "model_module_version": "2.0.0",
      "model_name": "HBoxModel",
      "state": {
       "layout": "IPY_MODEL_6f8b314a83424faa9a554df895079bab"
      }
     },
     "7ebb3ecdd4d14b9fadb034e33c99ec3d": {
      "model_module": "@jupyter-widgets/controls",
      "model_module_version": "2.0.0",
      "model_name": "HBoxModel",
      "state": {
       "layout": "IPY_MODEL_3b6945e55e4548db91711ac3b812a0a3"
      }
     },
     "7ee41875fc2b40fa90830adc98aeae8b": {
      "model_module": "@jupyter-widgets/base",
      "model_module_version": "2.0.0",
      "model_name": "LayoutModel",
      "state": {
       "align_items": "center",
       "display": "flex"
      }
     },
     "7ee45edd0948414e9351dac26be806d1": {
      "model_module": "@jupyter-widgets/base",
      "model_module_version": "2.0.0",
      "model_name": "LayoutModel",
      "state": {
       "border_bottom": "#464A91 solid 1.5px",
       "border_left": "#464A91 solid 1.5px",
       "border_right": "#464A91 solid 1.5px",
       "border_top": "#464A91 solid 1.5px",
       "width": "200px"
      }
     },
     "7f049b5420d64df2996c5616f2d8998c": {
      "model_module": "@jupyter-widgets/base",
      "model_module_version": "2.0.0",
      "model_name": "LayoutModel",
      "state": {
       "overflow": "auto",
       "width": "50%"
      }
     },
     "7f0be5b726874386bf7e2d82c50930d6": {
      "model_module": "@jupyter-widgets/controls",
      "model_module_version": "2.0.0",
      "model_name": "HBoxModel",
      "state": {
       "children": [
        "IPY_MODEL_5c97d6278c5345e9b1a00fe2ff422f0d"
       ],
       "layout": "IPY_MODEL_bb7343a1f2754641af4d42a3bdaf209d"
      }
     },
     "7f0c3b20f7f64f1b9f09b5ad0987577b": {
      "model_module": "@jupyter-widgets/base",
      "model_module_version": "2.0.0",
      "model_name": "LayoutModel",
      "state": {}
     },
     "7f0ebb5e753a48c5a423e794ed4c01ef": {
      "model_module": "@jupyter-widgets/base",
      "model_module_version": "2.0.0",
      "model_name": "LayoutModel",
      "state": {}
     },
     "7f1a7b4bfd094ad58b68b8348399ab0e": {
      "model_module": "@jupyter-widgets/controls",
      "model_module_version": "2.0.0",
      "model_name": "HTMLStyleModel",
      "state": {
       "description_width": "",
       "font_size": null,
       "text_color": null
      }
     },
     "7f2039cdf7c7407e96576bc586b4d110": {
      "model_module": "@jupyter-widgets/base",
      "model_module_version": "2.0.0",
      "model_name": "LayoutModel",
      "state": {}
     },
     "7f674b4c3d5245bbaaad4be77e7888c4": {
      "model_module": "@jupyter-widgets/base",
      "model_module_version": "2.0.0",
      "model_name": "LayoutModel",
      "state": {
       "border_bottom": "#464A91 solid 1.5px",
       "border_left": "#464A91 solid 1.5px",
       "border_right": "#464A91 solid 1.5px",
       "border_top": "#464A91 solid 1.5px",
       "width": "200px"
      }
     },
     "7f83722ee63d4b25954489b184ea31a5": {
      "model_module": "@jupyter-widgets/controls",
      "model_module_version": "2.0.0",
      "model_name": "HTMLModel",
      "state": {
       "layout": "IPY_MODEL_5455efca80ed49aca86ef22cdccdcd4c",
       "style": "IPY_MODEL_7b2a4dc20cb4467da7a89837ff580827",
       "value": "<div style='font-family: monospace; width: 100%;'>From<br><div style='border-left: 1px solid #B4B0BF; padding-left: 10px;'><div style='background-color: #D5F1D5;; color: #256B24;; display: block; white-space: pre-wrap; margin-bottom: 5px;'>approved: False</div><div style='background-color: #D5F1D5;; color: #256B24;; display: block; white-space: pre-wrap; margin-bottom: 5px;'>status_dict: {NodeIdentity <name=test_l, id=8e19e3a1, 🔑=1c0590b8>: (<UserCodeStatus.PENDING: 'pending'>, '')}</div></div></div>"
      }
     },
     "7fccacbace274edebc1f83439ddf3fb7": {
      "model_module": "@jupyter-widgets/controls",
      "model_module_version": "2.0.0",
      "model_name": "VBoxModel",
      "state": {
       "children": [
        "IPY_MODEL_af0412bca0884685b5577f71127c7eb8",
        "IPY_MODEL_ce7c691781cf4e4aa8f46767d6f4834b"
       ],
       "layout": "IPY_MODEL_6562a30ec1b240068fa073534562b752"
      }
     },
     "7fd6f516e9f84ecaa6954ea1d560a095": {
      "model_module": "@jupyter-widgets/controls",
      "model_module_version": "2.0.0",
      "model_name": "HTMLModel",
      "state": {
       "layout": "IPY_MODEL_401a4c82be9649ef9dd9390a5de86a76",
       "style": "IPY_MODEL_3bc31e3d7bbc42398ffad7659cc92d53",
       "value": "A"
      }
     },
     "8006d195936545118e2c4f0002bf04ba": {
      "model_module": "@jupyter-widgets/controls",
      "model_module_version": "2.0.0",
      "model_name": "HTMLStyleModel",
      "state": {
       "description_width": "",
       "font_size": null,
       "text_color": null
      }
     },
     "806216b55dcd403b8e83fe7a3f94d206": {
      "model_module": "@jupyter-widgets/controls",
      "model_module_version": "2.0.0",
      "model_name": "ButtonModel",
      "state": {
       "icon": "clone",
       "layout": "IPY_MODEL_067c07bd0f8341ada6215990dcacea87",
       "style": "IPY_MODEL_8a0e1fe99d694efaaa035a254ba28559",
       "tooltip": null
      }
     },
     "808138939fe74df0a9d1944db2144a8b": {
      "model_module": "@jupyter-widgets/base",
      "model_module_version": "2.0.0",
      "model_name": "LayoutModel",
      "state": {
       "align_items": "center",
       "display": "flex"
      }
     },
     "8091ad3736c548b3adc3cf858659b4e8": {
      "model_module": "@jupyter-widgets/controls",
      "model_module_version": "2.0.0",
      "model_name": "HTMLModel",
      "state": {
       "layout": "IPY_MODEL_1094ec648fc34dffa191c2d78e6e0b9f",
       "style": "IPY_MODEL_3ef12db78e4b49be9602f919f79167f1",
       "value": "<div style='height: 16px'></div>"
      }
     },
     "818adca20b7740d1adc1c02aa7c1df9a": {
      "model_module": "@jupyter-widgets/controls",
      "model_module_version": "2.0.0",
      "model_name": "VBoxModel",
      "state": {
       "children": [
        "IPY_MODEL_8571a262ec4f4cea8f11064b4177d1aa",
        "IPY_MODEL_fc663555a0b7449daee77e4227777fe7",
        "IPY_MODEL_4c1bbf6ff3094d87876ad6e7fc46596a",
        "IPY_MODEL_1f48bd4bf87a45489b286ed799e566cf",
        "IPY_MODEL_b21e4e8019bb4fffb4cc3267b73c867c",
        "IPY_MODEL_7a9f8779c9bd42109a73cdba67a7757c",
        "IPY_MODEL_fb0880e310ae4e1d82638d8dadef805b",
        "IPY_MODEL_e44264d565c64b6dbedfd1f3c2f3b5e2"
       ],
       "layout": "IPY_MODEL_aa2a9391d4a44d23b6ba8269c5222ef3"
      }
     },
     "81914cf80afc4537adf36747f3dd28a7": {
      "model_module": "@jupyter-widgets/base",
      "model_module_version": "2.0.0",
      "model_name": "LayoutModel",
      "state": {}
     },
     "819f947b4fb44b0fa047cde2b94749ab": {
      "model_module": "@jupyter-widgets/controls",
      "model_module_version": "2.0.0",
      "model_name": "ButtonStyleModel",
      "state": {
       "button_color": "transparent",
       "font_family": null,
       "font_size": null,
       "font_style": null,
       "font_variant": null,
       "font_weight": null,
       "text_color": "#464A91",
       "text_decoration": null
      }
     },
     "81d5776dee744c01a14fb20ecaa89d5c": {
      "model_module": "@jupyter-widgets/controls",
      "model_module_version": "2.0.0",
      "model_name": "HBoxModel",
      "state": {
       "children": [
        "IPY_MODEL_1fd33872122a407aafddd8d15306d106",
        "IPY_MODEL_604392dcb9ef4b56b6cac65e76c9c14b",
        "IPY_MODEL_6cdf5fb34d144cf4b86db829a489d940"
       ],
       "layout": "IPY_MODEL_7b17c268906d4494bc6b71ae72570e93"
      }
     },
     "81d8e1370866473c87abe1ee7521969d": {
      "model_module": "@jupyter-widgets/controls",
      "model_module_version": "2.0.0",
      "model_name": "AccordionModel",
      "state": {
       "layout": "IPY_MODEL_cfc75de19d6f4356bdeadf954d374b72"
      }
     },
     "82031c2a521743829df1f7d33bdb706f": {
      "model_module": "@jupyter-widgets/controls",
      "model_module_version": "2.0.0",
      "model_name": "HTMLModel",
      "state": {
       "layout": "IPY_MODEL_d7c8a6182191457f836271249e01b3dc",
       "style": "IPY_MODEL_6637d7b42bd640e692e93d0ce921a05e",
       "value": "<div style='font-family: monospace; width: 100%;'>From<br><div style='border-left: 1px solid #B4B0BF; padding-left: 10px;'><div style='background-color: #D5F1D5;; color: #256B24;; display: block; white-space: pre-wrap; margin-bottom: 5px;'>service_func_name: compute_mean</div><div style='background-color: #D5F1D5;; color: #256B24;; display: block; white-space: pre-wrap; margin-bottom: 5px;'>input_owners: ['test_l']</div><div style='background-color: #D5F1D5;; color: #256B24;; display: block; white-space: pre-wrap; margin-bottom: 5px;'>code_status: ['Node: test_l, Status: pending']</div><div style='background-color: #D5F1D5;; color: #256B24;; display: block; white-space: pre-wrap; margin-bottom: 5px;'>worker_pool_name: default-pool</div></div></div>"
      }
     },
     "823a4fefde1d429dbac9ed4152919ccd": {
      "model_module": "@jupyter-widgets/base",
      "model_module_version": "2.0.0",
      "model_name": "LayoutModel",
      "state": {
       "overflow": "auto",
       "width": "50%"
      }
     },
     "823c9d492786475894415bf0ddfce6ab": {
      "model_module": "@jupyter-widgets/controls",
      "model_module_version": "2.0.0",
      "model_name": "HTMLModel",
      "state": {
       "layout": "IPY_MODEL_1a2fd5f7a3314d0b9d498aeaa2476f68",
       "style": "IPY_MODEL_da9e8fad36a0482bbbda0c55b277f747",
       "value": "<span style='background-color: #C2DEF0; border-radius: 4px; padding: 4px 6px; color: #373B7B;'>Code</span>"
      }
     },
     "823e47bdfd98467a974b9c19617e22aa": {
      "model_module": "@jupyter-widgets/base",
      "model_module_version": "2.0.0",
      "model_name": "LayoutModel",
      "state": {
       "overflow": "auto",
       "width": "50%"
      }
     },
     "8248b9c953fd46babd2c2451130f3382": {
      "model_module": "@jupyter-widgets/base",
      "model_module_version": "2.0.0",
      "model_name": "LayoutModel",
      "state": {
       "overflow": "auto",
       "width": "50%"
      }
     },
     "82dc00eed8974d1a91dec5303faed655": {
      "model_module": "@jupyter-widgets/base",
      "model_module_version": "2.0.0",
      "model_name": "LayoutModel",
      "state": {}
     },
     "8318d1e8235a4cd8bbfb921352d102c9": {
      "model_module": "@jupyter-widgets/controls",
      "model_module_version": "2.0.0",
      "model_name": "HTMLModel",
      "state": {
       "layout": "IPY_MODEL_ac2f6207e3e34ed6a2669f9d287452c8",
       "style": "IPY_MODEL_9e4418f4326d428eafcd3c52ee994c44",
       "value": "<span style='background-color: #C2DEF0; border-radius: 4px; padding: 4px 6px; color: #373B7B;'>Code</span>"
      }
     },
     "8392adb271ca4c26aafd32042b3cbbdf": {
      "model_module": "@jupyter-widgets/controls",
      "model_module_version": "2.0.0",
      "model_name": "HBoxModel",
      "state": {
       "children": [
        "IPY_MODEL_b67e394de3174ca28a51e58f1471e377"
       ],
       "layout": "IPY_MODEL_f7f328623c6543d98f3d42dde8fcc6e1"
      }
     },
     "83f0b0d9b1674cf78d99e84a4aea947a": {
      "model_module": "@jupyter-widgets/controls",
      "model_module_version": "2.0.0",
      "model_name": "HTMLStyleModel",
      "state": {
       "description_width": "",
       "font_size": null,
       "text_color": null
      }
     },
     "8421bb9af5f74afbb35ef6df254abfa4": {
      "model_module": "@jupyter-widgets/base",
      "model_module_version": "2.0.0",
      "model_name": "LayoutModel",
      "state": {
       "overflow": "auto",
       "width": "50%"
      }
     },
     "843fb44dd5a54fde9e96c375439e2553": {
      "model_module": "@jupyter-widgets/controls",
      "model_module_version": "2.0.0",
      "model_name": "HTMLStyleModel",
      "state": {
       "description_width": "",
       "font_size": null,
       "text_color": null
      }
     },
     "8443da39779741aa9eac7dc3ffad1fb4": {
      "model_module": "@jupyter-widgets/controls",
      "model_module_version": "2.0.0",
      "model_name": "HBoxModel",
      "state": {
       "layout": "IPY_MODEL_5088518255504227a6ed2467debfbc06"
      }
     },
     "8457a3f700f04e53be3397de33c4f3ec": {
      "model_module": "@jupyter-widgets/base",
      "model_module_version": "2.0.0",
      "model_name": "LayoutModel",
      "state": {
       "overflow": "auto",
       "width": "50%"
      }
     },
     "84723bfeab51464fa4f71d3c214aa5c1": {
      "model_module": "@jupyter-widgets/base",
      "model_module_version": "2.0.0",
      "model_name": "LayoutModel",
      "state": {
       "overflow": "auto",
       "width": "50%"
      }
     },
     "84aa60c1f5c54b5882ae2672c220ce44": {
      "model_module": "@jupyter-widgets/base",
      "model_module_version": "2.0.0",
      "model_name": "LayoutModel",
      "state": {
       "border_bottom": "#353243 solid 0.5px",
       "border_left": "#353243 solid 0.5px",
       "border_right": "#353243 solid 0.5px",
       "border_top": "#353243 solid 0.5px",
       "padding": "16px"
      }
     },
     "84d5f40c128b4d1aa81422c3acb8aeeb": {
      "model_module": "@jupyter-widgets/controls",
      "model_module_version": "2.0.0",
      "model_name": "ButtonStyleModel",
      "state": {
       "font_family": null,
       "font_size": null,
       "font_style": null,
       "font_variant": null,
       "font_weight": null,
       "text_color": null,
       "text_decoration": null
      }
     },
     "84d7e5936399401ab561b9d52f83b03f": {
      "model_module": "@jupyter-widgets/controls",
      "model_module_version": "2.0.0",
      "model_name": "ButtonModel",
      "state": {
       "description": "Sync Selected Changes",
       "layout": "IPY_MODEL_f6d9821101ff4dfa933880c965a9989d",
       "style": "IPY_MODEL_708a059c7a194711a1d569aec70489e9",
       "tooltip": null
      }
     },
     "850ae0b16c0a4dfc9eb1f8e97678f112": {
      "model_module": "@jupyter-widgets/base",
      "model_module_version": "2.0.0",
      "model_name": "LayoutModel",
      "state": {
       "width": "100%"
      }
     },
     "850cc73ce71943779b9b327fedf8fc5c": {
      "model_module": "@jupyter-widgets/controls",
      "model_module_version": "2.0.0",
      "model_name": "VBoxModel",
      "state": {
       "children": [
        "IPY_MODEL_85504f33e3f9400e873e99598e28d9e8",
        "IPY_MODEL_b306610a0a7645f4bd86145c7ff7c05c",
        "IPY_MODEL_639a25ae5a6745d6badc8bd8cafd69e6",
        "IPY_MODEL_23f0a20dcb0943d38769614e072402bf"
       ],
       "layout": "IPY_MODEL_f2abe0f988734608b82cf024984ff7ba"
      }
     },
     "85504f33e3f9400e873e99598e28d9e8": {
      "model_module": "@jupyter-widgets/controls",
      "model_module_version": "2.0.0",
      "model_name": "HTMLModel",
      "state": {
       "layout": "IPY_MODEL_d1dd06d406ec44cbb6fdad4e5047c6ac",
       "style": "IPY_MODEL_9f5a14d47ddd4a6ea7c6e5d21be99f26",
       "value": "<span style='color: #B4B0BF;'>Syncing changes on</span>"
      }
     },
     "8571a262ec4f4cea8f11064b4177d1aa": {
      "model_module": "@jupyter-widgets/controls",
      "model_module_version": "2.0.0",
      "model_name": "VBoxModel",
      "state": {
       "children": [
        "IPY_MODEL_f1446cdb7f2549f3be7fb1dc10604750",
        "IPY_MODEL_220b507bfa9645e385a19885b6151a1d",
        "IPY_MODEL_d0d8faca06994c7dad1c41125f9cf47c",
        "IPY_MODEL_781ff2439305403ba780c083875e5893"
       ],
       "layout": "IPY_MODEL_ebb3913fd8dc420ead3975331225d1c9"
      }
     },
     "85907671691e47928bb53d7f0f7a3207": {
      "model_module": "@jupyter-widgets/controls",
      "model_module_version": "2.0.0",
      "model_name": "CheckboxModel",
      "state": {
       "description": "Sync",
       "disabled": false,
       "layout": "IPY_MODEL_6ff37d793e4043d580437feadc808657",
       "style": "IPY_MODEL_89d0390dfd544a50ae4cb93eb2f83cd6",
       "value": false
      }
     },
     "859d449443e14806bbc3bb5860ef1551": {
      "model_module": "@jupyter-widgets/controls",
      "model_module_version": "2.0.0",
      "model_name": "HTMLModel",
      "state": {
       "layout": "IPY_MODEL_f69148465f114390978f0cac8c5dc07f",
       "style": "IPY_MODEL_bc26c8293e204134a6e42adc3ebe51d3",
       "value": "<div style=\"text-align: center; margin: 10px 0; border: 1px dashed #B4B0BF;\"></div>"
      }
     },
     "859fb2784c05484cb31ba29daffe0740": {
      "model_module": "@jupyter-widgets/controls",
      "model_module_version": "2.0.0",
      "model_name": "HTMLStyleModel",
      "state": {
       "description_width": "",
       "font_size": null,
       "text_color": null
      }
     },
     "859fe5fc6a284045ae2c89848e36a8c3": {
      "model_module": "@jupyter-widgets/controls",
      "model_module_version": "2.0.0",
      "model_name": "HTMLStyleModel",
      "state": {
       "description_width": "",
       "font_size": null,
       "text_color": null
      }
     },
     "85af5695748d4bb7a47b2220644d4694": {
      "model_module": "@jupyter-widgets/base",
      "model_module_version": "2.0.0",
      "model_name": "LayoutModel",
      "state": {
       "align_items": "center",
       "display": "flex"
      }
     },
     "85b11933415d4211adb9df453924542e": {
      "model_module": "@jupyter-widgets/base",
      "model_module_version": "2.0.0",
      "model_name": "LayoutModel",
      "state": {}
     },
     "85c53945605a4ee189d28b2ac2026319": {
      "model_module": "@jupyter-widgets/controls",
      "model_module_version": "2.0.0",
      "model_name": "CheckboxStyleModel",
      "state": {
       "description_width": ""
      }
     },
     "85faf5ab6b0d4f07a06b91a6d9e165aa": {
      "model_module": "@jupyter-widgets/controls",
      "model_module_version": "2.0.0",
      "model_name": "VBoxModel",
      "state": {
       "children": [
        "IPY_MODEL_771fd0343bb84480afe811ae85c0c28c",
        "IPY_MODEL_896508d9cd3c47f2b3b8d5a24838ae42",
        "IPY_MODEL_0b7636ef671843d29913c15acf048b5d",
        "IPY_MODEL_fb54eba01fef473c881ac71b26f4d0cb",
        "IPY_MODEL_b721ea8dfbef4bb59031a373dbf9764c",
        "IPY_MODEL_334353f08b2a4d44b7f19498abd334ba",
        "IPY_MODEL_1702a3973d9249d089fe6b5246b97e44",
        "IPY_MODEL_290c34e9adb14b3d9984941f93561d47"
       ],
       "layout": "IPY_MODEL_28349324298249dfa1d6f6d5458845e4"
      }
     },
     "861b2bce24d946b089e695c4140a45b4": {
      "model_module": "@jupyter-widgets/controls",
      "model_module_version": "2.0.0",
      "model_name": "ButtonModel",
      "state": {
       "description": "Sync Selected Changes",
       "layout": "IPY_MODEL_5f4db68af8eb40a99377162d4dc71641",
       "style": "IPY_MODEL_590c4a26339f456e997c495c7b4fd902",
       "tooltip": null
      }
     },
     "86343508c34b40e789abe572a8c504dc": {
      "model_module": "@jupyter-widgets/controls",
      "model_module_version": "2.0.0",
      "model_name": "HTMLStyleModel",
      "state": {
       "description_width": "",
       "font_size": null,
       "text_color": null
      }
     },
     "8676da1c04e54b04b3f65715bd410b15": {
      "model_module": "@jupyter-widgets/base",
      "model_module_version": "2.0.0",
      "model_name": "LayoutModel",
      "state": {}
     },
     "86919520cdaa4cb5b11d97b52d01c706": {
      "model_module": "@jupyter-widgets/controls",
      "model_module_version": "2.0.0",
      "model_name": "ButtonModel",
      "state": {
       "icon": "clone",
       "layout": "IPY_MODEL_c9fba85e51e44faa8670858aebce908b",
       "style": "IPY_MODEL_48a6d44d6f1a4e179b615bc4587f2e3d",
       "tooltip": null
      }
     },
     "86a7ddeab36444cf88f5bc9339e3e458": {
      "model_module": "@jupyter-widgets/controls",
      "model_module_version": "2.0.0",
      "model_name": "HBoxModel",
      "state": {
       "layout": "IPY_MODEL_020bead8b6764c1f914b947542dcb977"
      }
     },
     "86aa64d8b180425f91625a8661839c6f": {
      "model_module": "@jupyter-widgets/base",
      "model_module_version": "2.0.0",
      "model_name": "LayoutModel",
      "state": {}
     },
     "86d6f25a915a42969585b0230d00dd37": {
      "model_module": "@jupyter-widgets/controls",
      "model_module_version": "2.0.0",
      "model_name": "BoxModel",
      "state": {
       "children": [
        "IPY_MODEL_f97af111473d4a72aa6e53871bf4d801",
        "IPY_MODEL_a564efd5cd334fb68ab8f7a2dc8fb4fc"
       ],
       "layout": "IPY_MODEL_a2ba4b0c6aa247749fd3f1bfa2cb6037"
      }
     },
     "86ef50ce3f7a42fd8250ce72255523d5": {
      "model_module": "@jupyter-widgets/base",
      "model_module_version": "2.0.0",
      "model_name": "LayoutModel",
      "state": {
       "align_items": "center"
      }
     },
     "87c5183538bd4fcb91c11f4116e7fff3": {
      "model_module": "@jupyter-widgets/controls",
      "model_module_version": "2.0.0",
      "model_name": "VBoxModel",
      "state": {
       "children": [
        "IPY_MODEL_b0b0469a55fc48ee824889009accac1f"
       ],
       "layout": "IPY_MODEL_03d364f20bd84bbeb775bb36b4d89a87"
      }
     },
     "87df9718ba1f4c4da9dcba2bbf4cbc16": {
      "model_module": "@jupyter-widgets/controls",
      "model_module_version": "2.0.0",
      "model_name": "HTMLModel",
      "state": {
       "layout": "IPY_MODEL_50619c3ce4c54be59248120a00d83752",
       "style": "IPY_MODEL_3cc1165169634735b6614153a4a5c5f0",
       "value": "<div style='font-family: monospace; width: 100%;'>From<br><div style='border-left: 1px solid #B4B0BF; padding-left: 10px;'><div style='background-color: #D5F1D5;; color: #256B24;; display: block; white-space: pre-wrap; margin-bottom: 5px;'>approved: False</div><div style='background-color: #D5F1D5;; color: #256B24;; display: block; white-space: pre-wrap; margin-bottom: 5px;'>status_dict: {NodeIdentity <name=test_l, id=8e19e3a1, 🔑=1c0590b8>: (<UserCodeStatus.PENDING: 'pending'>, '')}</div></div></div>"
      }
     },
     "87f4a4abdb504253b4257f4744d786b2": {
      "model_module": "@jupyter-widgets/base",
      "model_module_version": "2.0.0",
      "model_name": "LayoutModel",
      "state": {
       "overflow": "auto",
       "width": "50%"
      }
     },
     "8852c6ea74ca49ff9fc6e79cbee92e8f": {
      "model_module": "@jupyter-widgets/controls",
      "model_module_version": "2.0.0",
      "model_name": "HTMLStyleModel",
      "state": {
       "description_width": "",
       "font_size": null,
       "text_color": null
      }
     },
     "886b757d6749437f9db6cbc5d6a51bd2": {
      "model_module": "@jupyter-widgets/controls",
      "model_module_version": "2.0.0",
      "model_name": "HTMLModel",
      "state": {
       "layout": "IPY_MODEL_fe3fb5f58bbc49f6bafa143f163aeb8d",
       "style": "IPY_MODEL_e74fe484aeb048b4b36ed64db0472d91",
       "value": "<div style='font-family: monospace; width: 100%;'>From<br><div style='border-left: 1px solid #B4B0BF; padding-left: 10px;'><div style='background-color: #D5F1D5;; color: #256B24;; display: block; white-space: pre-wrap; margin-bottom: 5px;'>service_func_name: compute_mean</div><div style='background-color: #D5F1D5;; color: #256B24;; display: block; white-space: pre-wrap; margin-bottom: 5px;'>input_owners: ['test_l']</div><div style='background-color: #D5F1D5;; color: #256B24;; display: block; white-space: pre-wrap; margin-bottom: 5px;'>code_status: ['Node: test_l, Status: pending']</div><div style='background-color: #D5F1D5;; color: #256B24;; display: block; white-space: pre-wrap; margin-bottom: 5px;'>worker_pool_name: default-pool</div></div></div>"
      }
     },
     "88d01c766ae643c0819d96799d890875": {
      "model_module": "@jupyter-widgets/controls",
      "model_module_version": "2.0.0",
      "model_name": "HBoxModel",
      "state": {
       "children": [
        "IPY_MODEL_f4733446267a4fe681b3e5187e343dc7"
       ],
       "layout": "IPY_MODEL_c7b4b883ab974a33b6c259539b7b3ee0"
      }
     },
     "8936eab2815b4eadb77193467fb9bd9c": {
      "model_module": "@jupyter-widgets/base",
      "model_module_version": "2.0.0",
      "model_name": "LayoutModel",
      "state": {
       "overflow": "auto",
       "width": "50%"
      }
     },
     "895e7e505a8644b984c81b331ce679fe": {
      "model_module": "@jupyter-widgets/controls",
      "model_module_version": "2.0.0",
      "model_name": "CheckboxModel",
      "state": {
       "description": "Sync",
       "disabled": false,
       "layout": "IPY_MODEL_c39d14b624eb41d8b154a15769852176",
       "style": "IPY_MODEL_10b4d1a15dc34e669fb664fbbf5415fc",
       "value": false
      }
     },
     "89605aa0af674fc6a78ac243f7c3fec4": {
      "model_module": "@jupyter-widgets/controls",
      "model_module_version": "2.0.0",
      "model_name": "HBoxModel",
      "state": {
       "children": [
        "IPY_MODEL_064332f6bed744c89d4c3925e5abec19",
        "IPY_MODEL_acdc46e1c32648e29cee14a7e5c743fd"
       ],
       "layout": "IPY_MODEL_b3068927ff4743c6838abb8d48d76f0c"
      }
     },
     "896508d9cd3c47f2b3b8d5a24838ae42": {
      "model_module": "@jupyter-widgets/controls",
      "model_module_version": "2.0.0",
      "model_name": "VBoxModel",
      "state": {
       "children": [
        "IPY_MODEL_27729318a36c47c5aa869f80fcc8c09d",
        "IPY_MODEL_703634c9a6db4dceab0fb49bc7a164ec"
       ],
       "layout": "IPY_MODEL_4e286168c02a4664b6b677f7972ed8b9"
      }
     },
     "899ad62d352e4ed8a3fc60bb3ca5a650": {
      "model_module": "@jupyter-widgets/controls",
      "model_module_version": "2.0.0",
      "model_name": "CheckboxStyleModel",
      "state": {
       "description_width": ""
      }
     },
     "89d0390dfd544a50ae4cb93eb2f83cd6": {
      "model_module": "@jupyter-widgets/controls",
      "model_module_version": "2.0.0",
      "model_name": "CheckboxStyleModel",
      "state": {
       "description_width": ""
      }
     },
     "89e865eb4dd44e0cab04e626e1fbe154": {
      "model_module": "@jupyter-widgets/base",
      "model_module_version": "2.0.0",
      "model_name": "LayoutModel",
      "state": {}
     },
     "8a0979bfa3d9426bb603a2bb1cb54949": {
      "model_module": "@jupyter-widgets/controls",
      "model_module_version": "2.0.0",
      "model_name": "ButtonStyleModel",
      "state": {
       "button_color": "transparent",
       "font_family": null,
       "font_size": null,
       "font_style": null,
       "font_variant": null,
       "font_weight": null,
       "text_color": "#464A91",
       "text_decoration": null
      }
     },
     "8a0e1fe99d694efaaa035a254ba28559": {
      "model_module": "@jupyter-widgets/controls",
      "model_module_version": "2.0.0",
      "model_name": "ButtonStyleModel",
      "state": {
       "font_family": null,
       "font_size": null,
       "font_style": null,
       "font_variant": null,
       "font_weight": null,
       "text_color": null,
       "text_decoration": null
      }
     },
     "8a8d1b3782624c9d96dfad6d3c234046": {
      "model_module": "@jupyter-widgets/controls",
      "model_module_version": "2.0.0",
      "model_name": "HTMLStyleModel",
      "state": {
       "description_width": "",
       "font_size": null,
       "text_color": null
      }
     },
     "8afa308934eb420aae5539610f53a8b6": {
      "model_module": "@jupyter-widgets/base",
      "model_module_version": "2.0.0",
      "model_name": "LayoutModel",
      "state": {}
     },
     "8b38ebf319014106b2433ed5b071df77": {
      "model_module": "@jupyter-widgets/base",
      "model_module_version": "2.0.0",
      "model_name": "LayoutModel",
      "state": {}
     },
     "8b90623a8c5e4ebc9f8eff5079adbbb6": {
      "model_module": "@jupyter-widgets/controls",
      "model_module_version": "2.0.0",
      "model_name": "HTMLStyleModel",
      "state": {
       "description_width": "",
       "font_size": null,
       "text_color": null
      }
     },
     "8bf603aa5575400b87b464d7768f1506": {
      "model_module": "@jupyter-widgets/base",
      "model_module_version": "2.0.0",
      "model_name": "LayoutModel",
      "state": {
       "overflow": "auto",
       "width": "50%"
      }
     },
     "8c02314f827147329aeffa21c4744a1d": {
      "model_module": "@jupyter-widgets/controls",
      "model_module_version": "2.0.0",
      "model_name": "HTMLStyleModel",
      "state": {
       "description_width": "",
       "font_size": null,
       "text_color": null
      }
     },
     "8c17cfa6a7984835bad04ee54c6fc2f8": {
      "model_module": "@jupyter-widgets/controls",
      "model_module_version": "2.0.0",
      "model_name": "HBoxModel",
      "state": {
       "children": [
        "IPY_MODEL_3b5c041c9fdc45d8985a16f7552c7dea"
       ],
       "layout": "IPY_MODEL_5bd4d2db1c8d4abbada85d839a20865b"
      }
     },
     "8c2c67af77344a9ca958bd516a326ddf": {
      "model_module": "@jupyter-widgets/controls",
      "model_module_version": "2.0.0",
      "model_name": "HTMLStyleModel",
      "state": {
       "description_width": "",
       "font_size": null,
       "text_color": null
      }
     },
     "8c2e70d5cc1e4d7588762caaeb47c805": {
      "model_module": "@jupyter-widgets/controls",
      "model_module_version": "2.0.0",
      "model_name": "HTMLStyleModel",
      "state": {
       "description_width": "",
       "font_size": null,
       "text_color": null
      }
     },
     "8cce32abaf8b4b3495c400c5bdaccafb": {
      "model_module": "@jupyter-widgets/controls",
      "model_module_version": "2.0.0",
      "model_name": "HBoxModel",
      "state": {
       "children": [
        "IPY_MODEL_1d0ac56fbf65457691dec6871a673f8a",
        "IPY_MODEL_9b3b426848b84d9d938e0457a41919e1"
       ],
       "layout": "IPY_MODEL_4beb41a9b7ee4bbf83826a1467de6a05"
      }
     },
     "8cdd115def3640128206e0f38ed9a0fb": {
      "model_module": "@jupyter-widgets/controls",
      "model_module_version": "2.0.0",
      "model_name": "HBoxModel",
      "state": {
       "children": [
        "IPY_MODEL_d828961360314a6d8feb152dbe01b9a6",
        "IPY_MODEL_3f1ec5665362432baf3604c594fde507",
        "IPY_MODEL_7523338264b947f9bdf77c6d767f1f4e"
       ],
       "layout": "IPY_MODEL_9e4084026d0d484fa942593889bf6019"
      }
     },
     "8cf43a443d414ab9b81e973173eb44e9": {
      "model_module": "@jupyter-widgets/controls",
      "model_module_version": "2.0.0",
      "model_name": "HTMLStyleModel",
      "state": {
       "description_width": "",
       "font_size": null,
       "text_color": null
      }
     },
     "8cf851eba06d4d47a35b49d3e6dd54cd": {
      "model_module": "@jupyter-widgets/base",
      "model_module_version": "2.0.0",
      "model_name": "LayoutModel",
      "state": {}
     },
     "8cfd52f1fe6d432997432ff4dbbf0581": {
      "model_module": "@jupyter-widgets/base",
      "model_module_version": "2.0.0",
      "model_name": "LayoutModel",
      "state": {}
     },
     "8d21bee7b0c54a8884d077bac572dd94": {
      "model_module": "@jupyter-widgets/base",
      "model_module_version": "2.0.0",
      "model_name": "LayoutModel",
      "state": {}
     },
     "8d4607331d4c4dc1a1cf09be8474d8b2": {
      "model_module": "@jupyter-widgets/controls",
      "model_module_version": "2.0.0",
      "model_name": "HTMLStyleModel",
      "state": {
       "description_width": "",
       "font_size": null,
       "text_color": null
      }
     },
     "8da793dd65544a74b314d971d1ff70dc": {
      "model_module": "@jupyter-widgets/controls",
      "model_module_version": "2.0.0",
      "model_name": "HTMLStyleModel",
      "state": {
       "description_width": "",
       "font_size": null,
       "text_color": null
      }
     },
     "8dacf51acb5c4bb3981187ef4f11194f": {
      "model_module": "@jupyter-widgets/controls",
      "model_module_version": "2.0.0",
      "model_name": "HBoxModel",
      "state": {
       "children": [
        "IPY_MODEL_85907671691e47928bb53d7f0f7a3207"
       ],
       "layout": "IPY_MODEL_0e48937c73934ee2ba112a0c5a69da28"
      }
     },
     "8e095967a51e488eb27d554b63391821": {
      "model_module": "@jupyter-widgets/base",
      "model_module_version": "2.0.0",
      "model_name": "LayoutModel",
      "state": {}
     },
     "8f6d7aeb862e4acf99f536fb7f65fcdb": {
      "model_module": "@jupyter-widgets/controls",
      "model_module_version": "2.0.0",
      "model_name": "BoxModel",
      "state": {
       "children": [
        "IPY_MODEL_e9a57a5b858e4515b03a5046b9d0f275",
        "IPY_MODEL_da854e03762546f0802f27a3cd16d5e6"
       ],
       "layout": "IPY_MODEL_85af5695748d4bb7a47b2220644d4694"
      }
     },
     "8fd01cf1faa14331aad5453ae02518c4": {
      "model_module": "@jupyter-widgets/base",
      "model_module_version": "2.0.0",
      "model_name": "LayoutModel",
      "state": {}
     },
     "90121f67fcc2465eabd91edf209f2fff": {
      "model_module": "@jupyter-widgets/controls",
      "model_module_version": "2.0.0",
      "model_name": "HTMLModel",
      "state": {
       "layout": "IPY_MODEL_8936eab2815b4eadb77193467fb9bd9c",
       "style": "IPY_MODEL_355fd0b6d3d649bc8c5ac927fa2c8501",
       "value": "<div style='font-family: monospace; width: 100%;'>From<br><div style='border-left: 1px solid #B4B0BF; padding-left: 10px;'><div style='background-color: #D5F1D5;; color: #256B24;; display: block; white-space: pre-wrap; margin-bottom: 5px;'>approved: False</div><div style='background-color: #D5F1D5;; color: #256B24;; display: block; white-space: pre-wrap; margin-bottom: 5px;'>status_dict: {NodeIdentity <name=test_l, id=8e19e3a1, 🔑=1c0590b8>: (<UserCodeStatus.PENDING: 'pending'>, '')}</div></div></div>"
      }
     },
     "9053c863bca144f1b8755ac92fafa223": {
      "model_module": "@jupyter-widgets/base",
      "model_module_version": "2.0.0",
      "model_name": "LayoutModel",
      "state": {}
     },
     "9072c9ca7e6c40f9bd9a6dbe5d8161fb": {
      "model_module": "@jupyter-widgets/controls",
      "model_module_version": "2.0.0",
      "model_name": "VBoxModel",
      "state": {
       "children": [
        "IPY_MODEL_e360b4cca8c04ae4acbba760a98ac68a",
        "IPY_MODEL_ce0c96db5a4942d494454a06f032ed42"
       ],
       "layout": "IPY_MODEL_be19fa9a44e541659f1fbe2a733da225"
      }
     },
     "908207df3fac4b06aea44cc69e172bd3": {
      "model_module": "@jupyter-widgets/base",
      "model_module_version": "2.0.0",
      "model_name": "LayoutModel",
      "state": {
       "overflow": "auto",
       "width": "50%"
      }
     },
     "90ee2f6930e14a60af8a4286aace541a": {
      "model_module": "@jupyter-widgets/controls",
      "model_module_version": "2.0.0",
      "model_name": "VBoxModel",
      "state": {
       "children": [
        "IPY_MODEL_6e3ace1dd7b34198afefcc3e0d630a40",
        "IPY_MODEL_c2be9afca5d64dcf9b36c5fd7e674bd9"
       ],
       "layout": "IPY_MODEL_d81889eefa284adb8e77ddc9eb81af69"
      }
     },
     "911207597d5d45b49cdc4f07c157bee5": {
      "model_module": "@jupyter-widgets/controls",
      "model_module_version": "2.0.0",
      "model_name": "CheckboxStyleModel",
      "state": {
       "description_width": ""
      }
     },
     "916101e8988640c4b4dfcc8f41431cdf": {
      "model_module": "@jupyter-widgets/base",
      "model_module_version": "2.0.0",
      "model_name": "LayoutModel",
      "state": {}
     },
     "9174ec8e64ae46f0abfd3471db5b1d46": {
      "model_module": "@jupyter-widgets/base",
      "model_module_version": "2.0.0",
      "model_name": "LayoutModel",
      "state": {
       "overflow": "auto",
       "width": "50%"
      }
     },
     "9181b758fb8347dbb69020b83a904da6": {
      "model_module": "@jupyter-widgets/controls",
      "model_module_version": "2.0.0",
      "model_name": "AccordionModel",
      "state": {
       "children": [
        "IPY_MODEL_5f0a0316530b464c92d2b655e9afa622"
       ],
       "layout": "IPY_MODEL_efa569abb8cb4312830a18b904244ec5",
       "titles": [
        "UserCodeStatusCollection (2 changes)"
       ]
      }
     },
     "91d2824b517e43e28c0c6d74c70b938f": {
      "model_module": "@jupyter-widgets/controls",
      "model_module_version": "2.0.0",
      "model_name": "HBoxModel",
      "state": {
       "children": [
        "IPY_MODEL_e45734b07cb5421bb39676f8867fdf50",
        "IPY_MODEL_0befda5517d74481915a46a49208bb42"
       ],
       "layout": "IPY_MODEL_bdb18f59d9bb4044b7a875999e68bfb8"
      }
     },
     "9206d1599bcc4a82bc386e596601d515": {
      "model_module": "@jupyter-widgets/base",
      "model_module_version": "2.0.0",
      "model_name": "LayoutModel",
      "state": {
       "border_bottom": "#353243 solid 0.5px",
       "border_left": "#353243 solid 0.5px",
       "border_right": "#353243 solid 0.5px",
       "border_top": "#353243 solid 0.5px",
       "padding": "16px"
      }
     },
     "926589025bed416cb670f525d9d8b66e": {
      "model_module": "@jupyter-widgets/controls",
      "model_module_version": "2.0.0",
      "model_name": "HBoxModel",
      "state": {
       "children": [
        "IPY_MODEL_261af95aacac48ec88be7439c3008ed1",
        "IPY_MODEL_391c002ebff54313b02260e2c81b6b14"
       ],
       "layout": "IPY_MODEL_e5f07ec01ee34622bedcf650defee30e"
      }
     },
     "927af73e0b14475d9bc196ea8bfe8e84": {
      "model_module": "@jupyter-widgets/controls",
      "model_module_version": "2.0.0",
      "model_name": "AccordionModel",
      "state": {
       "children": [
        "IPY_MODEL_946dac8d676b45d4931983a52c838f7a"
       ],
       "layout": "IPY_MODEL_940a004f882f4536ba0bbddd16a7e1c9",
       "titles": [
        "UserCodeStatusCollection (2 changes)"
       ]
      }
     },
     "92a09f529bdb46af8c716cca8e17bbe3": {
      "model_module": "@jupyter-widgets/controls",
      "model_module_version": "2.0.0",
      "model_name": "HTMLModel",
      "state": {
       "layout": "IPY_MODEL_44c32917d91e4455b9009429acf7fc14",
       "style": "IPY_MODEL_78394529ba224954bcc3cf3f5753ff4c",
       "value": "<div style='font-family: monospace; width: 100%;'>To<br><div style='border-left: 1px solid #B4B0BF; padding-left: 10px;'><div style='background-color: #D5F1D5;; color: #256B24;; display: block; white-space: pre-wrap; margin-bottom: 5px;'>service_func_name: </div><div style='background-color: #D5F1D5;; color: #256B24;; display: block; white-space: pre-wrap; margin-bottom: 5px;'>input_owners: </div><div style='background-color: #D5F1D5;; color: #256B24;; display: block; white-space: pre-wrap; margin-bottom: 5px;'>code_status: </div><div style='background-color: #D5F1D5;; color: #256B24;; display: block; white-space: pre-wrap; margin-bottom: 5px;'>worker_pool_name: </div></div></div>"
      }
     },
     "932cb71cc0c44b088c3f0a72d3f7c1b2": {
      "model_module": "@jupyter-widgets/base",
      "model_module_version": "2.0.0",
      "model_name": "LayoutModel",
      "state": {}
     },
     "93d83196f275437e9453222b30a1fde9": {
      "model_module": "@jupyter-widgets/controls",
      "model_module_version": "2.0.0",
      "model_name": "CheckboxStyleModel",
      "state": {
       "description_width": ""
      }
     },
     "9404ed7f2ecb4337961494ddb0ad67ed": {
      "model_module": "@jupyter-widgets/controls",
      "model_module_version": "2.0.0",
      "model_name": "HTMLModel",
      "state": {
       "layout": "IPY_MODEL_6128cbe9bbfc428f9f41ae2ec9f83d76",
       "style": "IPY_MODEL_ff41512a4d86448e872c2f0d3ae7151a",
       "value": "<span style='color: #5E5A72;'>This would sync <span style='color: #B8520A'>2 changes </span> from <i>Low Node</i> to <i>High Node</i></span>"
      }
     },
     "940a004f882f4536ba0bbddd16a7e1c9": {
      "model_module": "@jupyter-widgets/base",
      "model_module_version": "2.0.0",
      "model_name": "LayoutModel",
      "state": {}
     },
     "940c4e207bda4860b1e8a6ecc2bd2b56": {
      "model_module": "@jupyter-widgets/base",
      "model_module_version": "2.0.0",
      "model_name": "LayoutModel",
      "state": {
       "overflow": "auto",
       "width": "50%"
      }
     },
     "946dac8d676b45d4931983a52c838f7a": {
      "model_module": "@jupyter-widgets/controls",
      "model_module_version": "2.0.0",
      "model_name": "VBoxModel",
      "state": {
       "children": [
        "IPY_MODEL_8dacf51acb5c4bb3981187ef4f11194f",
        "IPY_MODEL_d30994e025a9448890f3cfbc382851d5"
       ],
       "layout": "IPY_MODEL_9fe50b10a7a04749b9b28539f5a09f63"
      }
     },
     "94bffc4e7769438ca2a25034d4a85dc9": {
      "model_module": "@jupyter-widgets/base",
      "model_module_version": "2.0.0",
      "model_name": "LayoutModel",
      "state": {
       "display": "none"
      }
     },
     "94e3a832d339434b87342855c10565d9": {
      "model_module": "@jupyter-widgets/controls",
      "model_module_version": "2.0.0",
      "model_name": "CheckboxModel",
      "state": {
       "description": "Sync",
       "disabled": false,
       "layout": "IPY_MODEL_653cd61316bc4127b772ad279607dabc",
       "style": "IPY_MODEL_ce362eb7952a43a7a60d5bc20c55bfd5",
       "value": false
      }
     },
     "952280a717774fdfa63e911a1ee3111c": {
      "model_module": "@jupyter-widgets/controls",
      "model_module_version": "2.0.0",
      "model_name": "HTMLStyleModel",
      "state": {
       "description_width": "",
       "font_size": null,
       "text_color": null
      }
     },
     "9536344768f643d3853b2600b39f6a81": {
      "model_module": "@jupyter-widgets/controls",
      "model_module_version": "2.0.0",
      "model_name": "HTMLStyleModel",
      "state": {
       "description_width": "",
       "font_size": null,
       "text_color": null
      }
     },
     "953b33c7f1e44ba6b957383fc63a48c7": {
      "model_module": "@jupyter-widgets/base",
      "model_module_version": "2.0.0",
      "model_name": "LayoutModel",
      "state": {
       "overflow": "auto",
       "width": "50%"
      }
     },
     "9567984e875a4bc68e004215df64435f": {
      "model_module": "@jupyter-widgets/controls",
      "model_module_version": "2.0.0",
      "model_name": "HTMLModel",
      "state": {
       "layout": "IPY_MODEL_a4751d0240fd43f6a2ef48aeb4838db2",
       "style": "IPY_MODEL_cf5bbbd0e7a34b6cb055d9e11e631551",
       "value": "<div style='font-family: monospace; width: 100%;'>From<br><div style='border-left: 1px solid #B4B0BF; padding-left: 10px;'><div style='background-color: #D5F1D5;; color: #256B24;; display: block; white-space: pre-wrap; margin-bottom: 5px;'>approved: False</div><div style='background-color: #D5F1D5;; color: #256B24;; display: block; white-space: pre-wrap; margin-bottom: 5px;'>status_dict: {NodeIdentity <name=test_l, id=8e19e3a1, 🔑=1c0590b8>: (<UserCodeStatus.PENDING: 'pending'>, '')}</div></div></div>"
      }
     },
     "95b9a5c9b4ba41ec891b3b57c0f3073a": {
      "model_module": "@jupyter-widgets/base",
      "model_module_version": "2.0.0",
      "model_name": "LayoutModel",
      "state": {}
     },
     "95c88b9c430348e3ad91a5b5fda4523b": {
      "model_module": "@jupyter-widgets/controls",
      "model_module_version": "2.0.0",
      "model_name": "HTMLModel",
      "state": {
       "layout": "IPY_MODEL_ae3ca677c0994ea686a7e5312f12f86b",
       "style": "IPY_MODEL_a35121315f4c42c9941310f9ec6917a2",
       "value": "<div style='font-family: monospace; width: 100%;'>From<br><div style='border-left: 1px solid #B4B0BF; padding-left: 10px;'><div style='background-color: #D5F1D5;; color: #256B24;; display: block; white-space: pre-wrap; margin-bottom: 5px;'>service_func_name: compute_mean</div><div style='background-color: #D5F1D5;; color: #256B24;; display: block; white-space: pre-wrap; margin-bottom: 5px;'>input_owners: ['test_l']</div><div style='background-color: #D5F1D5;; color: #256B24;; display: block; white-space: pre-wrap; margin-bottom: 5px;'>code_status: ['Node: test_l, Status: pending']</div><div style='background-color: #D5F1D5;; color: #256B24;; display: block; white-space: pre-wrap; margin-bottom: 5px;'>worker_pool_name: default-pool</div></div></div>"
      }
     },
     "95e01490fa69464fb6201d69e797262c": {
      "model_module": "@jupyter-widgets/controls",
      "model_module_version": "2.0.0",
      "model_name": "HTMLModel",
      "state": {
       "layout": "IPY_MODEL_a5a6224c110441519fa472418e960115",
       "style": "IPY_MODEL_f1e491ce98bd4a4095e65c370ddf0e54",
       "value": "<div style='font-family: monospace; width: 100%;'>From<br><div style='border-left: 1px solid #B4B0BF; padding-left: 10px;'><div style='background-color: #D5F1D5;; color: #256B24;; display: block; white-space: pre-wrap; margin-bottom: 5px;'>approved: False</div><div style='background-color: #D5F1D5;; color: #256B24;; display: block; white-space: pre-wrap; margin-bottom: 5px;'>status_dict: {NodeIdentity <name=test_l, id=8e19e3a1, 🔑=1c0590b8>: (<UserCodeStatus.PENDING: 'pending'>, '')}</div></div></div>"
      }
     },
     "9667e6cadc55485696305a35adfa71a5": {
      "model_module": "@jupyter-widgets/base",
      "model_module_version": "2.0.0",
      "model_name": "LayoutModel",
      "state": {}
     },
     "96f363c2f896405eb54779aa2bceef9e": {
      "model_module": "@jupyter-widgets/base",
      "model_module_version": "2.0.0",
      "model_name": "LayoutModel",
      "state": {}
     },
     "971795a2dbfb4cfea409c0528a197f35": {
      "model_module": "@jupyter-widgets/controls",
      "model_module_version": "2.0.0",
      "model_name": "HTMLModel",
      "state": {
       "layout": "IPY_MODEL_823a4fefde1d429dbac9ed4152919ccd",
       "style": "IPY_MODEL_8da793dd65544a74b314d971d1ff70dc",
       "value": "<div style='font-family: monospace; width: 100%;'>From<br><div style='border-left: 1px solid #B4B0BF; padding-left: 10px;'><div style='background-color: #D5F1D5;; color: #256B24;; display: block; white-space: pre-wrap; margin-bottom: 5px;'>approved: False</div><div style='background-color: #D5F1D5;; color: #256B24;; display: block; white-space: pre-wrap; margin-bottom: 5px;'>status_dict: {NodeIdentity <name=test_l, id=8e19e3a1, 🔑=1c0590b8>: (<UserCodeStatus.PENDING: 'pending'>, '')}</div></div></div>"
      }
     },
     "9736ce17c6864ad58123a7a443be9a5f": {
      "model_module": "@jupyter-widgets/base",
      "model_module_version": "2.0.0",
      "model_name": "LayoutModel",
      "state": {}
     },
     "97425a85efc045639f867ac8121555f5": {
      "model_module": "@jupyter-widgets/base",
      "model_module_version": "2.0.0",
      "model_name": "LayoutModel",
      "state": {}
     },
     "9792d4255e984ab1a8dbd0fd9da6b612": {
      "model_module": "@jupyter-widgets/controls",
      "model_module_version": "2.0.0",
      "model_name": "ButtonModel",
      "state": {
       "description": "Sync Selected Changes",
       "layout": "IPY_MODEL_f826720f4f28409c8c6da9c7dad33c7a",
       "style": "IPY_MODEL_cca8b4ce57cb40cf828c56d7d3e697c7",
       "tooltip": null
      }
     },
     "97ba14cb28144f189d5c919528462840": {
      "model_module": "@jupyter-widgets/base",
      "model_module_version": "2.0.0",
      "model_name": "LayoutModel",
      "state": {
       "overflow": "auto",
       "width": "50%"
      }
     },
     "97e3550486c94d669c83cc656a294d25": {
      "model_module": "@jupyter-widgets/controls",
      "model_module_version": "2.0.0",
      "model_name": "HTMLModel",
      "state": {
       "layout": "IPY_MODEL_30eed2e8d5bd4ac4bbd6ab2e58f352fc",
       "style": "IPY_MODEL_31c2040fb71b4c779ff3caaf9edb604c",
       "value": "<span style='color: #5E5A72;'>This would sync <span style='color: #B8520A'>2 changes </span> from <i>Low Node</i> to <i>High Node</i></span>"
      }
     },
     "982ca2a866e8428b8911b55b451db575": {
      "model_module": "@jupyter-widgets/controls",
      "model_module_version": "2.0.0",
      "model_name": "HBoxModel",
      "state": {
       "children": [
        "IPY_MODEL_7db61a31f08645a5adb19cc3f534661c",
        "IPY_MODEL_e7062b78b3f243bcaafe3575c3daca45"
       ],
       "layout": "IPY_MODEL_114328d3aa954566b36328c9862b017c"
      }
     },
     "983c0831b32b46e9a04e7f2515f2fcd4": {
      "model_module": "@jupyter-widgets/base",
      "model_module_version": "2.0.0",
      "model_name": "LayoutModel",
      "state": {
       "overflow": "auto",
       "width": "50%"
      }
     },
     "98808ac7def04e3bbe64e2bb9c259817": {
      "model_module": "@jupyter-widgets/controls",
      "model_module_version": "2.0.0",
      "model_name": "HBoxModel",
      "state": {
       "children": [
        "IPY_MODEL_971795a2dbfb4cfea409c0528a197f35",
        "IPY_MODEL_6ecc60ea0ea74b4aa40e4e712a788e0c"
       ],
       "layout": "IPY_MODEL_143d2d5312d941dfa552a37029605f00"
      }
     },
     "98c70d3711e84f6a8d54014b4545703c": {
      "model_module": "@jupyter-widgets/controls",
      "model_module_version": "2.0.0",
      "model_name": "HBoxModel",
      "state": {
       "children": [
        "IPY_MODEL_719cb9db6784440da22b3950ebc52543"
       ],
       "layout": "IPY_MODEL_23a07ba3acbc44a1ae792ca5d91ed9b4"
      }
     },
     "991ef0de01164d56807d9f05c5367097": {
      "model_module": "@jupyter-widgets/controls",
      "model_module_version": "2.0.0",
      "model_name": "HTMLStyleModel",
      "state": {
       "description_width": "",
       "font_size": null,
       "text_color": null
      }
     },
     "994340a41e114d48a31b8747959e7415": {
      "model_module": "@jupyter-widgets/base",
      "model_module_version": "2.0.0",
      "model_name": "LayoutModel",
      "state": {}
     },
     "99530889970f458ea6f7a694940029f0": {
      "model_module": "@jupyter-widgets/controls",
      "model_module_version": "2.0.0",
      "model_name": "CheckboxStyleModel",
      "state": {
       "description_width": ""
      }
     },
     "99b2ae19d54d4859b55a184873439685": {
      "model_module": "@jupyter-widgets/base",
      "model_module_version": "2.0.0",
      "model_name": "LayoutModel",
      "state": {}
     },
     "99f4a4f3691a40b9ace1ba6963dbc0d6": {
      "model_module": "@jupyter-widgets/base",
      "model_module_version": "2.0.0",
      "model_name": "LayoutModel",
      "state": {
       "margin": "0 5px 0 0"
      }
     },
     "9a06ca8b87f14b77b507a26872bd8fb6": {
      "model_module": "@jupyter-widgets/controls",
      "model_module_version": "2.0.0",
      "model_name": "HBoxModel",
      "state": {
       "children": [
        "IPY_MODEL_b1739cf02d544d0fb241c5c2b558b8e5"
       ],
       "layout": "IPY_MODEL_f03472e77b174218a043d87967c2ede3"
      }
     },
     "9a29f319c1a1462386e39595da18b3c8": {
      "model_module": "@jupyter-widgets/controls",
      "model_module_version": "2.0.0",
      "model_name": "HTMLModel",
      "state": {
       "layout": "IPY_MODEL_eeaaa1a72a374aff82f569a297c98d6f",
       "style": "IPY_MODEL_4fc58a6821c044a982b1a912444f1958",
       "value": "<span style='margin-left: 5px; font-weight: bold; color: #373B7B;'>compute_mean</span> <span style='margin-left: 5px; color: #B4B0BF;'>#1234...</span>"
      }
     },
     "9a370050fbb4499e9bfb18ff9433a659": {
      "model_module": "@jupyter-widgets/controls",
      "model_module_version": "2.0.0",
      "model_name": "VBoxModel",
      "state": {
       "children": [
        "IPY_MODEL_b8c429b2bb29471aa4e8f3eebcb0744a",
        "IPY_MODEL_10a51990f7af41299bab6cf594a4ad74",
        "IPY_MODEL_20c11437b646421fa807cb77c11e7180",
        "IPY_MODEL_9181b758fb8347dbb69020b83a904da6",
        "IPY_MODEL_59ea3c80af78436cb2add3479c9ec4fe",
        "IPY_MODEL_3867e7d7778a4979abca0a5b48aaba58",
        "IPY_MODEL_3160ee97721346f39c707b325b02553b",
        "IPY_MODEL_35a53c2e91e04c40a563bdd6b71c5a29"
       ],
       "layout": "IPY_MODEL_65926393acdf4ea6b17634a0e4c1aca6"
      }
     },
     "9a851c56b1494871bb896e8a0aadb82d": {
      "model_module": "@jupyter-widgets/base",
      "model_module_version": "2.0.0",
      "model_name": "LayoutModel",
      "state": {}
     },
     "9abac535295a4492a47785f73b0e7d6b": {
      "model_module": "@jupyter-widgets/controls",
      "model_module_version": "2.0.0",
      "model_name": "VBoxModel",
      "state": {
       "children": [
        "IPY_MODEL_03e05e964f7843e19784634a5d76aacc",
        "IPY_MODEL_bb78d8e998c54b249752fc7527cae783",
        "IPY_MODEL_f5148fb72a7e4bac8859c10a252430ed",
        "IPY_MODEL_329bed3b7d304aa68c4e7ab03bc10dec"
       ],
       "layout": "IPY_MODEL_006a9bd464904a819c9c3c37f296ebd5"
      }
     },
     "9ada4d5dc70f4e19aff830177d6789c2": {
      "model_module": "@jupyter-widgets/controls",
      "model_module_version": "2.0.0",
      "model_name": "HTMLModel",
      "state": {
       "layout": "IPY_MODEL_d1866bde3ce04e018992fdeac21e81f4",
       "style": "IPY_MODEL_7a342412ebe94e0bac17e36833a862fc",
       "value": "<span style='background-color: #C2DEF0; border-radius: 4px; padding: 4px 6px; color: #373B7B;'>Code</span>"
      }
     },
     "9aec92e24e9a4052bae6234e56ee8b95": {
      "model_module": "@jupyter-widgets/controls",
      "model_module_version": "2.0.0",
      "model_name": "CheckboxStyleModel",
      "state": {
       "description_width": ""
      }
     },
     "9b3b426848b84d9d938e0457a41919e1": {
      "model_module": "@jupyter-widgets/controls",
      "model_module_version": "2.0.0",
      "model_name": "HTMLModel",
      "state": {
       "layout": "IPY_MODEL_4b9aa94326c445adad702b07854f5018",
       "style": "IPY_MODEL_6f67b8b9523b40299fa04b5493d813c2",
       "value": "<div style='font-family: monospace; width: 100%;'>To<br><div style='border-left: 1px solid #B4B0BF; padding-left: 10px;'><div style='background-color: #D5F1D5;; color: #256B24;; display: block; white-space: pre-wrap; margin-bottom: 5px;'>approved: </div><div style='background-color: #D5F1D5;; color: #256B24;; display: block; white-space: pre-wrap; margin-bottom: 5px;'>status_dict: </div></div></div>"
      }
     },
     "9b81c504c71c4e4c825de7e71f7b1689": {
      "model_module": "@jupyter-widgets/base",
      "model_module_version": "2.0.0",
      "model_name": "LayoutModel",
      "state": {
       "overflow": "auto",
       "width": "50%"
      }
     },
     "9ba7ccd489da4ce5ae62f02e46ad9a65": {
      "model_module": "@jupyter-widgets/controls",
      "model_module_version": "2.0.0",
      "model_name": "HTMLModel",
      "state": {
       "layout": "IPY_MODEL_35ed2f0df4144b9fb858d841c301bce9",
       "style": "IPY_MODEL_991ef0de01164d56807d9f05c5367097",
       "value": "<span style='background-color: #C2DEF0; border-radius: 4px; padding: 4px 6px; color: #373B7B;'>Code</span>"
      }
     },
     "9bc5785e8d6040458f519d51223aa107": {
      "model_module": "@jupyter-widgets/base",
      "model_module_version": "2.0.0",
      "model_name": "LayoutModel",
      "state": {}
     },
     "9beeca5ea496446892c81b07fb8f026a": {
      "model_module": "@jupyter-widgets/base",
      "model_module_version": "2.0.0",
      "model_name": "LayoutModel",
      "state": {
       "overflow": "auto",
       "width": "50%"
      }
     },
     "9c6c0a57230f411382310ce487fd4759": {
      "model_module": "@jupyter-widgets/controls",
      "model_module_version": "2.0.0",
      "model_name": "HTMLModel",
      "state": {
       "layout": "IPY_MODEL_aa771e57bead41e6ac96028adbaee662",
       "style": "IPY_MODEL_cdb44dfb0602487dae59029790514d7d",
       "value": "<div style='font-family: monospace; width: 100%;'>From<br><div style='border-left: 1px solid #B4B0BF; padding-left: 10px;'><div style='background-color: #D5F1D5;; color: #256B24;; display: block; white-space: pre-wrap; margin-bottom: 5px;'>approved: False</div><div style='background-color: #D5F1D5;; color: #256B24;; display: block; white-space: pre-wrap; margin-bottom: 5px;'>status_dict: {NodeIdentity <name=test_l, id=8e19e3a1, 🔑=1c0590b8>: (<UserCodeStatus.PENDING: 'pending'>, '')}</div></div></div>"
      }
     },
     "9cd4e7982df84ab4bdde5c63292855d2": {
      "model_module": "@jupyter-widgets/output",
      "model_module_version": "1.0.0",
      "model_name": "OutputModel",
      "state": {
       "layout": "IPY_MODEL_7497c7255fbc40148d297d708ad9613a"
      }
     },
     "9d0e9183ee0047698f89e1338dc63523": {
      "model_module": "@jupyter-widgets/controls",
      "model_module_version": "2.0.0",
      "model_name": "HTMLStyleModel",
      "state": {
       "description_width": "",
       "font_size": null,
       "text_color": null
      }
     },
     "9d3bf81c9e6548d2977691541ea96645": {
      "model_module": "@jupyter-widgets/controls",
      "model_module_version": "2.0.0",
      "model_name": "HTMLModel",
      "state": {
       "layout": "IPY_MODEL_dd8540179f434d86bdf0aeb26ebdab88",
       "style": "IPY_MODEL_b711593a76fa4e208602e04f8cb5e6f5",
       "value": "<div style='font-family: monospace; width: 100%;'>To<br><div style='border-left: 1px solid #B4B0BF; padding-left: 10px;'><div style='background-color: #D5F1D5;; color: #256B24;; display: block; white-space: pre-wrap; margin-bottom: 5px;'>service_func_name: </div><div style='background-color: #D5F1D5;; color: #256B24;; display: block; white-space: pre-wrap; margin-bottom: 5px;'>input_owners: </div><div style='background-color: #D5F1D5;; color: #256B24;; display: block; white-space: pre-wrap; margin-bottom: 5px;'>code_status: </div><div style='background-color: #D5F1D5;; color: #256B24;; display: block; white-space: pre-wrap; margin-bottom: 5px;'>worker_pool_name: </div></div></div>"
      }
     },
     "9d97de079056439ba690b6c1023dea36": {
      "model_module": "@jupyter-widgets/controls",
      "model_module_version": "2.0.0",
      "model_name": "HTMLModel",
      "state": {
       "layout": "IPY_MODEL_9053c863bca144f1b8755ac92fafa223",
       "style": "IPY_MODEL_0912f622c8ae49318a334a05352c5d21",
       "value": "<div style='height: 16px;'></div>"
      }
     },
     "9e4084026d0d484fa942593889bf6019": {
      "model_module": "@jupyter-widgets/base",
      "model_module_version": "2.0.0",
      "model_name": "LayoutModel",
      "state": {
       "align_items": "center"
      }
     },
     "9e4418f4326d428eafcd3c52ee994c44": {
      "model_module": "@jupyter-widgets/controls",
      "model_module_version": "2.0.0",
      "model_name": "HTMLStyleModel",
      "state": {
       "description_width": "",
       "font_size": null,
       "text_color": null
      }
     },
     "9e5c4df681d241d9bd3f5537e80f29ff": {
      "model_module": "@jupyter-widgets/base",
      "model_module_version": "2.0.0",
      "model_name": "LayoutModel",
      "state": {}
     },
     "9f2c53a77cc74724872fbdc834abbc83": {
      "model_module": "@jupyter-widgets/controls",
      "model_module_version": "2.0.0",
      "model_name": "HTMLModel",
      "state": {
       "layout": "IPY_MODEL_e899ebd2876d4602abfba59552a94a84",
       "style": "IPY_MODEL_0856cbbd19eb48bd8ce5fbbb95b47284",
       "value": "<span style='color: #B4B0BF;'>Syncing changes on</span>"
      }
     },
     "9f5a14d47ddd4a6ea7c6e5d21be99f26": {
      "model_module": "@jupyter-widgets/controls",
      "model_module_version": "2.0.0",
      "model_name": "HTMLStyleModel",
      "state": {
       "description_width": "",
       "font_size": null,
       "text_color": null
      }
     },
     "9fc16f629d3b4ecbae9b48a5d8fb0be1": {
      "model_module": "@jupyter-widgets/base",
      "model_module_version": "2.0.0",
      "model_name": "LayoutModel",
      "state": {}
     },
     "9fe50b10a7a04749b9b28539f5a09f63": {
      "model_module": "@jupyter-widgets/base",
      "model_module_version": "2.0.0",
      "model_name": "LayoutModel",
      "state": {}
     },
     "9ff9b443696b4421b2e6b7456e9c91e2": {
      "model_module": "@jupyter-widgets/base",
      "model_module_version": "2.0.0",
      "model_name": "LayoutModel",
      "state": {
       "overflow": "auto",
       "width": "50%"
      }
     },
     "a0082b6d67a84e77b6ecf720cfb24069": {
      "model_module": "@jupyter-widgets/base",
      "model_module_version": "2.0.0",
      "model_name": "LayoutModel",
      "state": {
       "overflow": "auto",
       "width": "50%"
      }
     },
     "a066714acc164c11b70ce723bc519ee1": {
      "model_module": "@jupyter-widgets/controls",
      "model_module_version": "2.0.0",
      "model_name": "HTMLStyleModel",
      "state": {
       "description_width": "",
       "font_size": null,
       "text_color": null
      }
     },
     "a0af2cfd96a2488bb248f775247ea6de": {
      "model_module": "@jupyter-widgets/controls",
      "model_module_version": "2.0.0",
      "model_name": "HTMLModel",
      "state": {
       "layout": "IPY_MODEL_9736ce17c6864ad58123a7a443be9a5f",
       "style": "IPY_MODEL_198c8d1c7e9f449cabcefc3f992bd1fc",
       "value": "<span style='color: #B4B0BF;'>Syncing changes on</span>"
      }
     },
     "a0c17aad9f3647308d55a8e82ef4ebe8": {
      "model_module": "@jupyter-widgets/controls",
      "model_module_version": "2.0.0",
      "model_name": "HTMLStyleModel",
      "state": {
       "description_width": "",
       "font_size": null,
       "text_color": null
      }
     },
     "a0c9d4a7a79145cd9e083597063e83d8": {
      "model_module": "@jupyter-widgets/base",
      "model_module_version": "2.0.0",
      "model_name": "LayoutModel",
      "state": {}
     },
     "a102e0c6dd0e4c98b7f55b8df2cf257c": {
      "model_module": "@jupyter-widgets/controls",
      "model_module_version": "2.0.0",
      "model_name": "HTMLModel",
      "state": {
       "layout": "IPY_MODEL_ee5eb3b2dd394c47a2611f9d04d57827",
       "style": "IPY_MODEL_d9af430bae4a4ddaa7cea71e09c6ab9d",
       "value": "<div style='font-family: monospace; width: 100%;'>To<br><div style='border-left: 1px solid #B4B0BF; padding-left: 10px;'><div style='background-color: #D5F1D5;; color: #256B24;; display: block; white-space: pre-wrap; margin-bottom: 5px;'>approved: </div><div style='background-color: #D5F1D5;; color: #256B24;; display: block; white-space: pre-wrap; margin-bottom: 5px;'>status_dict: </div></div></div>"
      }
     },
     "a146c4e4d10b4f53b7bce3658d467cc6": {
      "model_module": "@jupyter-widgets/controls",
      "model_module_version": "2.0.0",
      "model_name": "VBoxModel",
      "state": {
       "children": [
        "IPY_MODEL_2e8270297e154175b451d5710fa49578",
        "IPY_MODEL_f97c2eaf1a434430b62611b702af781d"
       ],
       "layout": "IPY_MODEL_ea4db0a119714c8ca9a3981045ee6503"
      }
     },
     "a158750c758a44b99cbe5545746e8211": {
      "model_module": "@jupyter-widgets/base",
      "model_module_version": "2.0.0",
      "model_name": "LayoutModel",
      "state": {
       "width": "100%"
      }
     },
     "a1730f452d874f29ab3df8ae23db7a53": {
      "model_module": "@jupyter-widgets/controls",
      "model_module_version": "2.0.0",
      "model_name": "HTMLModel",
      "state": {
       "layout": "IPY_MODEL_d579dc0f38ca4cc19c424cc92b7ad2c9",
       "style": "IPY_MODEL_46a9b98b29f542158a0e5561a9daa289",
       "value": "<div style='font-family: monospace; width: 100%;'>From<br><div style='border-left: 1px solid #B4B0BF; padding-left: 10px;'><div style='background-color: #D5F1D5;; color: #256B24;; display: block; white-space: pre-wrap; margin-bottom: 5px;'>service_func_name: compute_mean</div><div style='background-color: #D5F1D5;; color: #256B24;; display: block; white-space: pre-wrap; margin-bottom: 5px;'>input_owners: ['test_l']</div><div style='background-color: #D5F1D5;; color: #256B24;; display: block; white-space: pre-wrap; margin-bottom: 5px;'>code_status: ['Node: test_l, Status: pending']</div><div style='background-color: #D5F1D5;; color: #256B24;; display: block; white-space: pre-wrap; margin-bottom: 5px;'>worker_pool_name: default-pool</div></div></div>"
      }
     },
     "a18f0e0e38e943849ec8d704373063cb": {
      "model_module": "@jupyter-widgets/output",
      "model_module_version": "1.0.0",
      "model_name": "OutputModel",
      "state": {
       "layout": "IPY_MODEL_1c7ffe67cc2144479dceed98bbcee0fa"
      }
     },
     "a1afb4ff3de94126841f21a3df103656": {
      "model_module": "@jupyter-widgets/controls",
      "model_module_version": "2.0.0",
      "model_name": "HTMLModel",
      "state": {
       "layout": "IPY_MODEL_8bf603aa5575400b87b464d7768f1506",
       "style": "IPY_MODEL_1bea6cb102dc4857834b166f1115386e",
       "value": "<div style='font-family: monospace; width: 100%;'>To<br><div style='border-left: 1px solid #B4B0BF; padding-left: 10px;'><div style='background-color: #D5F1D5;; color: #256B24;; display: block; white-space: pre-wrap; margin-bottom: 5px;'>approved: </div><div style='background-color: #D5F1D5;; color: #256B24;; display: block; white-space: pre-wrap; margin-bottom: 5px;'>status_dict: </div></div></div>"
      }
     },
     "a1b61b836b5043e2a466d3ddd6593254": {
      "model_module": "@jupyter-widgets/base",
      "model_module_version": "2.0.0",
      "model_name": "LayoutModel",
      "state": {}
     },
     "a1c9bf96e81b41a7b9bbf2d021016871": {
      "model_module": "@jupyter-widgets/controls",
      "model_module_version": "2.0.0",
      "model_name": "HTMLStyleModel",
      "state": {
       "description_width": "",
       "font_size": null,
       "text_color": null
      }
     },
     "a1dff8a94ca8487faeccc0b2b849913b": {
      "model_module": "@jupyter-widgets/controls",
      "model_module_version": "2.0.0",
      "model_name": "HTMLStyleModel",
      "state": {
       "description_width": "",
       "font_size": null,
       "text_color": null
      }
     },
     "a234e9d9fe504c0ea9983f5a0e515bf2": {
      "model_module": "@jupyter-widgets/base",
      "model_module_version": "2.0.0",
      "model_name": "LayoutModel",
      "state": {}
     },
     "a25043de9f7e4db584eb5524be879c5b": {
      "model_module": "@jupyter-widgets/controls",
      "model_module_version": "2.0.0",
      "model_name": "CheckboxModel",
      "state": {
       "description": "Sync",
       "disabled": false,
       "layout": "IPY_MODEL_5242ea04b052458296835b97eaf5d6d4",
       "style": "IPY_MODEL_4024b5a0c3b44005be8f60856774fffb",
       "value": false
      }
     },
     "a2629d71cf0d461dbda1765e8ce5ba99": {
      "model_module": "@jupyter-widgets/base",
      "model_module_version": "2.0.0",
      "model_name": "LayoutModel",
      "state": {}
     },
     "a2ba4b0c6aa247749fd3f1bfa2cb6037": {
      "model_module": "@jupyter-widgets/base",
      "model_module_version": "2.0.0",
      "model_name": "LayoutModel",
      "state": {
       "align_items": "center",
       "display": "flex"
      }
     },
     "a35121315f4c42c9941310f9ec6917a2": {
      "model_module": "@jupyter-widgets/controls",
      "model_module_version": "2.0.0",
      "model_name": "HTMLStyleModel",
      "state": {
       "description_width": "",
       "font_size": null,
       "text_color": null
      }
     },
     "a36e7c21543449d6afc59c11ec347ff8": {
      "model_module": "@jupyter-widgets/controls",
      "model_module_version": "2.0.0",
      "model_name": "HBoxModel",
      "state": {
       "layout": "IPY_MODEL_1a0d3c683d10467db6573f9c9b3672f0"
      }
     },
     "a3ae3433c9704577a0a4a7853de914e4": {
      "model_module": "@jupyter-widgets/base",
      "model_module_version": "2.0.0",
      "model_name": "LayoutModel",
      "state": {
       "border_bottom": "#464A91 solid 1.5px",
       "border_left": "#464A91 solid 1.5px",
       "border_right": "#464A91 solid 1.5px",
       "border_top": "#464A91 solid 1.5px",
       "width": "200px"
      }
     },
     "a3df9aa540044808ba0a15ad8f374a7f": {
      "model_module": "@jupyter-widgets/controls",
      "model_module_version": "2.0.0",
      "model_name": "VBoxModel",
      "state": {
       "children": [
        "IPY_MODEL_12015b98c3cd46ad9d5129f994cdea0a",
        "IPY_MODEL_81d5776dee744c01a14fb20ecaa89d5c",
        "IPY_MODEL_fc6d37e8cd484b758c43273ec47bb331",
        "IPY_MODEL_e4ef31a08f8c4d31a58d4e478cb9c35e"
       ],
       "layout": "IPY_MODEL_6ca1aa231b3b4732ac8cc06a271a4dbe"
      }
     },
     "a466d0fa142b469f90c9988429f2c119": {
      "model_module": "@jupyter-widgets/controls",
      "model_module_version": "2.0.0",
      "model_name": "HTMLStyleModel",
      "state": {
       "description_width": "",
       "font_size": null,
       "text_color": null
      }
     },
     "a4751d0240fd43f6a2ef48aeb4838db2": {
      "model_module": "@jupyter-widgets/base",
      "model_module_version": "2.0.0",
      "model_name": "LayoutModel",
      "state": {
       "overflow": "auto",
       "width": "50%"
      }
     },
     "a4dba73140b84e7ab436818254a732e0": {
      "model_module": "@jupyter-widgets/controls",
      "model_module_version": "2.0.0",
      "model_name": "HTMLModel",
      "state": {
       "layout": "IPY_MODEL_23a3a575f9a04507990f0fe52c8216df",
       "style": "IPY_MODEL_63954fe12d27430a9e3341b5d38d2a13",
       "value": "<span style='color: #5E5A72;'>This would sync <span style='color: #B8520A'>2 changes </span> from <i>Low Node</i> to <i>High Node</i></span>"
      }
     },
     "a4dc2018ad854bda9be8b48b2cf23de2": {
      "model_module": "@jupyter-widgets/controls",
      "model_module_version": "2.0.0",
      "model_name": "VBoxModel",
      "state": {
       "children": [
        "IPY_MODEL_771a1b71cfe94c24ab393089a04c4d3d",
        "IPY_MODEL_62c867723498427dbcbef11919a3753f",
        "IPY_MODEL_e732f60b570c457d90f7774d502981db",
        "IPY_MODEL_5d7481d059774eefba65f2df79297534"
       ],
       "layout": "IPY_MODEL_a1b61b836b5043e2a466d3ddd6593254"
      }
     },
     "a535d806b4e94caa8119ee0b6971110f": {
      "model_module": "@jupyter-widgets/base",
      "model_module_version": "2.0.0",
      "model_name": "LayoutModel",
      "state": {
       "overflow": "auto",
       "width": "50%"
      }
     },
     "a53c7e407fdf4b0185ab02d151e4e9ae": {
      "model_module": "@jupyter-widgets/controls",
      "model_module_version": "2.0.0",
      "model_name": "HTMLModel",
      "state": {
       "layout": "IPY_MODEL_2a0437944b834cc9a997e15d5723578a",
       "style": "IPY_MODEL_e48c1fed4f9b4db88cacc313e594ffbf",
       "value": "<div style='font-family: monospace; width: 100%;'>From<br><div style='border-left: 1px solid #B4B0BF; padding-left: 10px;'><div style='background-color: #D5F1D5;; color: #256B24;; display: block; white-space: pre-wrap; margin-bottom: 5px;'>service_func_name: compute_mean</div><div style='background-color: #D5F1D5;; color: #256B24;; display: block; white-space: pre-wrap; margin-bottom: 5px;'>input_owners: ['test_l']</div><div style='background-color: #D5F1D5;; color: #256B24;; display: block; white-space: pre-wrap; margin-bottom: 5px;'>code_status: ['Node: test_l, Status: pending']</div><div style='background-color: #D5F1D5;; color: #256B24;; display: block; white-space: pre-wrap; margin-bottom: 5px;'>worker_pool_name: default-pool</div></div></div>"
      }
     },
     "a55d88bfaf524789a1c5b4bab795bb65": {
      "model_module": "@jupyter-widgets/base",
      "model_module_version": "2.0.0",
      "model_name": "LayoutModel",
      "state": {}
     },
     "a564efd5cd334fb68ab8f7a2dc8fb4fc": {
      "model_module": "@jupyter-widgets/output",
      "model_module_version": "1.0.0",
      "model_name": "OutputModel",
      "state": {
       "layout": "IPY_MODEL_d874592c965844b09fa2f8d24fb675e6"
      }
     },
     "a5a54174a9e44bd6b22e5c56af4594b2": {
      "model_module": "@jupyter-widgets/controls",
      "model_module_version": "2.0.0",
      "model_name": "HTMLStyleModel",
      "state": {
       "description_width": "",
       "font_size": null,
       "text_color": null
      }
     },
     "a5a6224c110441519fa472418e960115": {
      "model_module": "@jupyter-widgets/base",
      "model_module_version": "2.0.0",
      "model_name": "LayoutModel",
      "state": {
       "overflow": "auto",
       "width": "50%"
      }
     },
     "a5b172ac36a2482780ba9a82ba340cb4": {
      "model_module": "@jupyter-widgets/controls",
      "model_module_version": "2.0.0",
      "model_name": "HTMLStyleModel",
      "state": {
       "description_width": "",
       "font_size": null,
       "text_color": null
      }
     },
     "a5d037682db9437ebf7b2be9930957a6": {
      "model_module": "@jupyter-widgets/controls",
      "model_module_version": "2.0.0",
      "model_name": "HTMLStyleModel",
      "state": {
       "description_width": "",
       "font_size": null,
       "text_color": null
      }
     },
     "a67211d246294426b5834cfac387b5ea": {
      "model_module": "@jupyter-widgets/controls",
      "model_module_version": "2.0.0",
      "model_name": "HBoxModel",
      "state": {
       "children": [
        "IPY_MODEL_2a973b3f99ff4409ba1723beb3bd7ef5",
        "IPY_MODEL_fff17d800a754c72b0ccc1c41db7557f"
       ],
       "layout": "IPY_MODEL_c046670a1c5b4b66877e93e85c11da58"
      }
     },
     "a6bfdb456faf4e41b47b5d15883aae19": {
      "model_module": "@jupyter-widgets/controls",
      "model_module_version": "2.0.0",
      "model_name": "ButtonModel",
      "state": {
       "icon": "clone",
       "layout": "IPY_MODEL_caaabcc436e448cf97683d2ddafefd0c",
       "style": "IPY_MODEL_3c159f57cc464fa08fa7baf8c31a6d4c",
       "tooltip": null
      }
     },
     "a6dc97a6e7734b4f800d48acef8627e9": {
      "model_module": "@jupyter-widgets/base",
      "model_module_version": "2.0.0",
      "model_name": "LayoutModel",
      "state": {
       "overflow": "auto",
       "width": "50%"
      }
     },
     "a726007c9d3b4f1ebebc2fed2ea1555f": {
      "model_module": "@jupyter-widgets/controls",
      "model_module_version": "2.0.0",
      "model_name": "AccordionModel",
      "state": {
       "children": [
        "IPY_MODEL_a146c4e4d10b4f53b7bce3658d467cc6"
       ],
       "layout": "IPY_MODEL_7a22945f7387499b8ad3103e49825b69",
       "titles": [
        "UserCodeStatusCollection (2 changes)"
       ]
      }
     },
     "a75326575be64a4dadbe6201eee5b370": {
      "model_module": "@jupyter-widgets/controls",
      "model_module_version": "2.0.0",
      "model_name": "AccordionModel",
      "state": {
       "layout": "IPY_MODEL_1266f73e39504ab798ce644e28e0e9f0"
      }
     },
     "a75beb5565af448daa0f9318cde6c10c": {
      "model_module": "@jupyter-widgets/controls",
      "model_module_version": "2.0.0",
      "model_name": "HTMLStyleModel",
      "state": {
       "description_width": "",
       "font_size": null,
       "text_color": null
      }
     },
     "a7d1440d172c4f87a6377b17f7edd10c": {
      "model_module": "@jupyter-widgets/controls",
      "model_module_version": "2.0.0",
      "model_name": "BoxModel",
      "state": {
       "children": [
        "IPY_MODEL_ab35cb00fbe04af681f8d2b58830b92d",
        "IPY_MODEL_f0dee30feafc4557a22c3d99daf3c93a"
       ],
       "layout": "IPY_MODEL_808138939fe74df0a9d1944db2144a8b"
      }
     },
     "a7d5b3d2e59544ae80c47d7692da0ede": {
      "model_module": "@jupyter-widgets/controls",
      "model_module_version": "2.0.0",
      "model_name": "ButtonStyleModel",
      "state": {
       "button_color": "transparent",
       "font_family": null,
       "font_size": null,
       "font_style": null,
       "font_variant": null,
       "font_weight": null,
       "text_color": "#464A91",
       "text_decoration": null
      }
     },
     "a8681242821d4e6bb820508af39c6fa1": {
      "model_module": "@jupyter-widgets/controls",
      "model_module_version": "2.0.0",
      "model_name": "AccordionModel",
      "state": {
       "layout": "IPY_MODEL_96f363c2f896405eb54779aa2bceef9e"
      }
     },
     "a887c05ca70745af91070bc0ddba6404": {
      "model_module": "@jupyter-widgets/controls",
      "model_module_version": "2.0.0",
      "model_name": "CheckboxStyleModel",
      "state": {
       "description_width": ""
      }
     },
     "a8a4115e988046a0abc1219026365731": {
      "model_module": "@jupyter-widgets/controls",
      "model_module_version": "2.0.0",
      "model_name": "HBoxModel",
      "state": {
       "children": [
        "IPY_MODEL_0a1f61fe4a5f48df9171fcade98984ed",
        "IPY_MODEL_05dc325644424be4817ba25402942312"
       ],
       "layout": "IPY_MODEL_e31ca988998b4dcdaaba6ce7ed31b2f7"
      }
     },
     "a8e361669eb342b0ba0deea69fff0aa8": {
      "model_module": "@jupyter-widgets/controls",
      "model_module_version": "2.0.0",
      "model_name": "HTMLStyleModel",
      "state": {
       "description_width": "",
       "font_size": null,
       "text_color": null
      }
     },
     "a93dbdc1463f4094b44ad7656b1c6fb0": {
      "model_module": "@jupyter-widgets/base",
      "model_module_version": "2.0.0",
      "model_name": "LayoutModel",
      "state": {
       "overflow": "auto",
       "width": "50%"
      }
     },
     "a97a8713bead47279edc1ff1a9bf1b97": {
      "model_module": "@jupyter-widgets/controls",
      "model_module_version": "2.0.0",
      "model_name": "HBoxModel",
      "state": {
       "children": [
        "IPY_MODEL_da2827120f3a43958edf5fc4e0964ec6",
        "IPY_MODEL_c3d6490d4f4b4028a29fb2495ff7663e",
        "IPY_MODEL_1912c76d3ecb4404919abcf06dfc09d0"
       ],
       "layout": "IPY_MODEL_2cd96a08f6c04d65962ca70a18913861"
      }
     },
     "a98e66ff73294dacb292dfad0190882d": {
      "model_module": "@jupyter-widgets/base",
      "model_module_version": "2.0.0",
      "model_name": "LayoutModel",
      "state": {
       "overflow": "auto",
       "width": "50%"
      }
     },
     "a9a96035d1114e488dd1abbd80e9043b": {
      "model_module": "@jupyter-widgets/base",
      "model_module_version": "2.0.0",
      "model_name": "LayoutModel",
      "state": {
       "align_items": "center",
       "display": "flex"
      }
     },
     "a9d14c8f8f1946e9b3c5c43ed7cb2b23": {
      "model_module": "@jupyter-widgets/base",
      "model_module_version": "2.0.0",
      "model_name": "LayoutModel",
      "state": {}
     },
     "aa23a0f893f24d37a6644ec843f2b830": {
      "model_module": "@jupyter-widgets/controls",
      "model_module_version": "2.0.0",
      "model_name": "VBoxModel",
      "state": {
       "children": [
        "IPY_MODEL_1e960e876dba4f23a8e382c0bd35a101",
        "IPY_MODEL_592dc7fb8d204596b5f6a8a3c1af2ca0",
        "IPY_MODEL_a4dba73140b84e7ab436818254a732e0",
        "IPY_MODEL_6fb75d931ae3484daf861975b9029396"
       ],
       "layout": "IPY_MODEL_ba0f22747ae04ad0b94453ac21ead278"
      }
     },
     "aa2a9391d4a44d23b6ba8269c5222ef3": {
      "model_module": "@jupyter-widgets/base",
      "model_module_version": "2.0.0",
      "model_name": "LayoutModel",
      "state": {}
     },
     "aa2becaa8e2946af9575bf55a2bd9bce": {
      "model_module": "@jupyter-widgets/controls",
      "model_module_version": "2.0.0",
      "model_name": "HTMLModel",
      "state": {
       "layout": "IPY_MODEL_f22fa8cd72af448981c1f3db3169b22b",
       "style": "IPY_MODEL_ff211e9caeec45cdb26e7cf854bb5e61",
       "value": "<span style='background-color: #C2DEF0; border-radius: 4px; padding: 4px 6px; color: #373B7B;'>Code</span>"
      }
     },
     "aa4fb95deac24bdfa2c2448c642994c0": {
      "model_module": "@jupyter-widgets/base",
      "model_module_version": "2.0.0",
      "model_name": "LayoutModel",
      "state": {
       "overflow": "auto",
       "width": "50%"
      }
     },
     "aa675b7b9c2c499b9b316b6c744305a5": {
      "model_module": "@jupyter-widgets/controls",
      "model_module_version": "2.0.0",
      "model_name": "HTMLStyleModel",
      "state": {
       "description_width": "",
       "font_size": null,
       "text_color": null
      }
     },
     "aa771e57bead41e6ac96028adbaee662": {
      "model_module": "@jupyter-widgets/base",
      "model_module_version": "2.0.0",
      "model_name": "LayoutModel",
      "state": {
       "overflow": "auto",
       "width": "50%"
      }
     },
     "aaaae54533e344b0ac23dab549d08940": {
      "model_module": "@jupyter-widgets/controls",
      "model_module_version": "2.0.0",
      "model_name": "HTMLStyleModel",
      "state": {
       "description_width": "",
       "font_size": null,
       "text_color": null
      }
     },
     "aac224ecd90748c2ad3276fff5cdb52b": {
      "model_module": "@jupyter-widgets/controls",
      "model_module_version": "2.0.0",
      "model_name": "HTMLStyleModel",
      "state": {
       "description_width": "",
       "font_size": null,
       "text_color": null
      }
     },
     "aad639704deb4f19a263d860532a376c": {
      "model_module": "@jupyter-widgets/base",
      "model_module_version": "2.0.0",
      "model_name": "LayoutModel",
      "state": {
       "height": "25px",
       "margin": "0",
       "padding": "0",
       "width": "25px"
      }
     },
     "aaf2b084128e47cd84f3972cf5d2dbaa": {
      "model_module": "@jupyter-widgets/controls",
      "model_module_version": "2.0.0",
      "model_name": "HTMLStyleModel",
      "state": {
       "description_width": "",
       "font_size": null,
       "text_color": null
      }
     },
     "ab30933a1a5446bb88088622b4a33c7a": {
      "model_module": "@jupyter-widgets/controls",
      "model_module_version": "2.0.0",
      "model_name": "HBoxModel",
      "state": {
       "children": [
        "IPY_MODEL_82031c2a521743829df1f7d33bdb706f",
        "IPY_MODEL_3119f9ad6db74341a35c3c587c89a6be"
       ],
       "layout": "IPY_MODEL_dc478df5c2d74e0cb36b28bb64551aac"
      }
     },
     "ab35cb00fbe04af681f8d2b58830b92d": {
      "model_module": "@jupyter-widgets/controls",
      "model_module_version": "2.0.0",
      "model_name": "ButtonModel",
      "state": {
       "icon": "clone",
       "layout": "IPY_MODEL_1ff6e2b4aa3047d59695bd2d202045be",
       "style": "IPY_MODEL_c2b5cd521db546dfb553ba78f1e362a6",
       "tooltip": null
      }
     },
     "ab85b74b13854508b94b98a664abea15": {
      "model_module": "@jupyter-widgets/base",
      "model_module_version": "2.0.0",
      "model_name": "LayoutModel",
      "state": {}
     },
     "ab8df9f29baa4cc88c34eff40480119e": {
      "model_module": "@jupyter-widgets/controls",
      "model_module_version": "2.0.0",
      "model_name": "CheckboxStyleModel",
      "state": {
       "description_width": ""
      }
     },
     "ac071da1290040e8afdf1352b88bc7af": {
      "model_module": "@jupyter-widgets/base",
      "model_module_version": "2.0.0",
      "model_name": "LayoutModel",
      "state": {}
     },
     "ac09645ebc254f4a9316c1e2b143a27e": {
      "model_module": "@jupyter-widgets/controls",
      "model_module_version": "2.0.0",
      "model_name": "HTMLStyleModel",
      "state": {
       "description_width": "",
       "font_size": null,
       "text_color": null
      }
     },
     "ac2f6207e3e34ed6a2669f9d287452c8": {
      "model_module": "@jupyter-widgets/base",
      "model_module_version": "2.0.0",
      "model_name": "LayoutModel",
      "state": {
       "margin": "0 5px 0 0"
      }
     },
     "ac37f1d10d604a3d90355a1633f214d3": {
      "model_module": "@jupyter-widgets/controls",
      "model_module_version": "2.0.0",
      "model_name": "HTMLModel",
      "state": {
       "layout": "IPY_MODEL_478508f1cbae40138bac3348388a1631",
       "style": "IPY_MODEL_d6057765a4324c4483dccb90ef4cd061",
       "value": "A"
      }
     },
     "ac4bfb617984418eba6aa7a511b5aede": {
      "model_module": "@jupyter-widgets/controls",
      "model_module_version": "2.0.0",
      "model_name": "HTMLStyleModel",
      "state": {
       "description_width": "",
       "font_size": null,
       "text_color": null
      }
     },
     "acc24c025ad54015b39f0b51f62ac109": {
      "model_module": "@jupyter-widgets/controls",
      "model_module_version": "2.0.0",
      "model_name": "CheckboxModel",
      "state": {
       "description": "Sync",
       "disabled": false,
       "layout": "IPY_MODEL_e0781815ef2c44cbab543b068b5e361e",
       "style": "IPY_MODEL_4fd75838fa084c349a64e162601030c2",
       "value": false
      }
     },
     "acdc46e1c32648e29cee14a7e5c743fd": {
      "model_module": "@jupyter-widgets/controls",
      "model_module_version": "2.0.0",
      "model_name": "HTMLModel",
      "state": {
       "layout": "IPY_MODEL_6de4f06a17174b87b94653fa7dd3fedc",
       "style": "IPY_MODEL_e44a2842c27447539ddb3e56fb2c58bc",
       "value": "<div style='font-family: monospace; width: 100%;'>To<br><div style='border-left: 1px solid #B4B0BF; padding-left: 10px;'><div style='background-color: #D5F1D5;; color: #256B24;; display: block; white-space: pre-wrap; margin-bottom: 5px;'>approved: </div><div style='background-color: #D5F1D5;; color: #256B24;; display: block; white-space: pre-wrap; margin-bottom: 5px;'>status_dict: </div></div></div>"
      }
     },
     "acf1cc2ef5db4bd8aff1f84e377bbc60": {
      "model_module": "@jupyter-widgets/base",
      "model_module_version": "2.0.0",
      "model_name": "LayoutModel",
      "state": {}
     },
     "ad3442af325c421b83f04c602d1c47a2": {
      "model_module": "@jupyter-widgets/controls",
      "model_module_version": "2.0.0",
      "model_name": "HTMLStyleModel",
      "state": {
       "description_width": "",
       "font_size": null,
       "text_color": null
      }
     },
     "ad6181ff77704a4298f382858d695909": {
      "model_module": "@jupyter-widgets/controls",
      "model_module_version": "2.0.0",
      "model_name": "VBoxModel",
      "state": {
       "children": [
        "IPY_MODEL_7f0be5b726874386bf7e2d82c50930d6",
        "IPY_MODEL_a67211d246294426b5834cfac387b5ea"
       ],
       "layout": "IPY_MODEL_b7a773f8dfd347a7b7d8a88de2cc890d"
      }
     },
     "ad6c7188781c4fc5ae7af822c2433fee": {
      "model_module": "@jupyter-widgets/base",
      "model_module_version": "2.0.0",
      "model_name": "LayoutModel",
      "state": {
       "width": "100%"
      }
     },
     "ad763f5b54634c3d9f38b260b7ce0f3c": {
      "model_module": "@jupyter-widgets/controls",
      "model_module_version": "2.0.0",
      "model_name": "HTMLModel",
      "state": {
       "layout": "IPY_MODEL_3191770597494ccdb7c473864b72e837",
       "style": "IPY_MODEL_46655c31cc2d47bda1e1fff730f7900e",
       "value": "<div style='font-family: monospace; width: 100%;'>To<br><div style='border-left: 1px solid #B4B0BF; padding-left: 10px;'><div style='background-color: #D5F1D5;; color: #256B24;; display: block; white-space: pre-wrap; margin-bottom: 5px;'>service_func_name: </div><div style='background-color: #D5F1D5;; color: #256B24;; display: block; white-space: pre-wrap; margin-bottom: 5px;'>input_owners: </div><div style='background-color: #D5F1D5;; color: #256B24;; display: block; white-space: pre-wrap; margin-bottom: 5px;'>code_status: </div><div style='background-color: #D5F1D5;; color: #256B24;; display: block; white-space: pre-wrap; margin-bottom: 5px;'>worker_pool_name: </div></div></div>"
      }
     },
     "ad8a5207cecf42f4b3d144cdc9bbc174": {
      "model_module": "@jupyter-widgets/controls",
      "model_module_version": "2.0.0",
      "model_name": "HBoxModel",
      "state": {
       "children": [
        "IPY_MODEL_a1730f452d874f29ab3df8ae23db7a53",
        "IPY_MODEL_e050bda1087a4257b367a724508698da"
       ],
       "layout": "IPY_MODEL_76746d21184f4154add074b6d50152f2"
      }
     },
     "adecc50d68f54e9ba27ca4f6d3e1f986": {
      "model_module": "@jupyter-widgets/base",
      "model_module_version": "2.0.0",
      "model_name": "LayoutModel",
      "state": {}
     },
     "ae3ca677c0994ea686a7e5312f12f86b": {
      "model_module": "@jupyter-widgets/base",
      "model_module_version": "2.0.0",
      "model_name": "LayoutModel",
      "state": {
       "overflow": "auto",
       "width": "50%"
      }
     },
     "ae54e86c65624c58a8defa956cc35285": {
      "model_module": "@jupyter-widgets/controls",
      "model_module_version": "2.0.0",
      "model_name": "ButtonModel",
      "state": {
       "description": "Sync Selected Changes",
       "layout": "IPY_MODEL_4253e91653004e5f9bebd45d4dac9554",
       "style": "IPY_MODEL_8a0979bfa3d9426bb603a2bb1cb54949",
       "tooltip": null
      }
     },
     "af0412bca0884685b5577f71127c7eb8": {
      "model_module": "@jupyter-widgets/controls",
      "model_module_version": "2.0.0",
      "model_name": "HBoxModel",
      "state": {
       "children": [
        "IPY_MODEL_d05037a9e2e347798e85d5f10902e3f6"
       ],
       "layout": "IPY_MODEL_f341372f52174a7681d002a23d01f4be"
      }
     },
     "af04e0fb22b34232bbb98dd4b1e822f2": {
      "model_module": "@jupyter-widgets/base",
      "model_module_version": "2.0.0",
      "model_name": "LayoutModel",
      "state": {
       "overflow": "auto",
       "width": "50%"
      }
     },
     "af19b41cdbd24be3802345e1053f0337": {
      "model_module": "@jupyter-widgets/base",
      "model_module_version": "2.0.0",
      "model_name": "LayoutModel",
      "state": {}
     },
     "af239832d8364a9381064482eadaa228": {
      "model_module": "@jupyter-widgets/base",
      "model_module_version": "2.0.0",
      "model_name": "LayoutModel",
      "state": {
       "display": "none"
      }
     },
     "af39a16b007c4f3e8867a993af900724": {
      "model_module": "@jupyter-widgets/base",
      "model_module_version": "2.0.0",
      "model_name": "LayoutModel",
      "state": {
       "border_bottom": "#464A91 solid 1.5px",
       "border_left": "#464A91 solid 1.5px",
       "border_right": "#464A91 solid 1.5px",
       "border_top": "#464A91 solid 1.5px",
       "width": "200px"
      }
     },
     "af6498f075fc449db31da8c2c7421625": {
      "model_module": "@jupyter-widgets/base",
      "model_module_version": "2.0.0",
      "model_name": "LayoutModel",
      "state": {}
     },
     "aff38db8910442359dca21ec327a80fc": {
      "model_module": "@jupyter-widgets/controls",
      "model_module_version": "2.0.0",
      "model_name": "HTMLModel",
      "state": {
       "layout": "IPY_MODEL_1963c10608a047e48309a0acd85902b8",
       "style": "IPY_MODEL_859fe5fc6a284045ae2c89848e36a8c3",
       "value": "<span style='color: #B4B0BF;'>Syncing changes on</span>"
      }
     },
     "b045ff87470d4d45abc94869fb04bfb6": {
      "model_module": "@jupyter-widgets/base",
      "model_module_version": "2.0.0",
      "model_name": "LayoutModel",
      "state": {}
     },
     "b083f7cc036446d7b6793bc23b56964d": {
      "model_module": "@jupyter-widgets/controls",
      "model_module_version": "2.0.0",
      "model_name": "HTMLStyleModel",
      "state": {
       "description_width": "",
       "font_size": null,
       "text_color": null
      }
     },
     "b0b0469a55fc48ee824889009accac1f": {
      "model_module": "@jupyter-widgets/controls",
      "model_module_version": "2.0.0",
      "model_name": "HTMLModel",
      "state": {
       "layout": "IPY_MODEL_73419813ecd44431bcbc8d7ecedda771",
       "style": "IPY_MODEL_1b9e76c6447048a0beb71d75d788c733",
       "value": "A"
      }
     },
     "b0d540bfba564c588170275cd3096c54": {
      "model_module": "@jupyter-widgets/base",
      "model_module_version": "2.0.0",
      "model_name": "LayoutModel",
      "state": {}
     },
     "b10aa1f9c8ad48d99eea752817ca8c7e": {
      "model_module": "@jupyter-widgets/base",
      "model_module_version": "2.0.0",
      "model_name": "LayoutModel",
      "state": {}
     },
     "b1264ae04661498ea500a5c28b11a8d8": {
      "model_module": "@jupyter-widgets/controls",
      "model_module_version": "2.0.0",
      "model_name": "HTMLModel",
      "state": {
       "layout": "IPY_MODEL_f4df9ff5854d4f079c6442935ef31615",
       "style": "IPY_MODEL_62aa45ae5ee94d908ebd55033c32f100",
       "value": "<span style='margin-left: 5px; font-weight: bold; color: #373B7B;'>compute_mean</span> <span style='margin-left: 5px; color: #B4B0BF;'>#1234...</span>"
      }
     },
     "b12db2a710174276856f2a89225917a5": {
      "model_module": "@jupyter-widgets/controls",
      "model_module_version": "2.0.0",
      "model_name": "VBoxModel",
      "state": {
       "children": [
        "IPY_MODEL_11a7555263404b7cbf7a7c6ffd2d3062",
        "IPY_MODEL_98808ac7def04e3bbe64e2bb9c259817"
       ],
       "layout": "IPY_MODEL_b0d540bfba564c588170275cd3096c54"
      }
     },
     "b16e5927e86844f08e6f3cdb659f3234": {
      "model_module": "@jupyter-widgets/controls",
      "model_module_version": "2.0.0",
      "model_name": "HTMLStyleModel",
      "state": {
       "description_width": "",
       "font_size": null,
       "text_color": null
      }
     },
     "b1739cf02d544d0fb241c5c2b558b8e5": {
      "model_module": "@jupyter-widgets/controls",
      "model_module_version": "2.0.0",
      "model_name": "CheckboxModel",
      "state": {
       "description": "Sync",
       "disabled": false,
       "layout": "IPY_MODEL_c4625c12054d42ed8bb0c3e4031f35f3",
       "style": "IPY_MODEL_e6728b311efc44eba1440dfcf17bfc3d",
       "value": false
      }
     },
     "b17692382e4949f78d4be837939cb028": {
      "model_module": "@jupyter-widgets/base",
      "model_module_version": "2.0.0",
      "model_name": "LayoutModel",
      "state": {}
     },
     "b1a4260e767a453b9dba1137cbaa220d": {
      "model_module": "@jupyter-widgets/controls",
      "model_module_version": "2.0.0",
      "model_name": "CheckboxStyleModel",
      "state": {
       "description_width": ""
      }
     },
     "b1c5f9ceda924d5dbc02ba5bb6a9239c": {
      "model_module": "@jupyter-widgets/base",
      "model_module_version": "2.0.0",
      "model_name": "LayoutModel",
      "state": {
       "overflow": "auto",
       "width": "50%"
      }
     },
     "b1d455a67bc64b89a67ad066720bf167": {
      "model_module": "@jupyter-widgets/base",
      "model_module_version": "2.0.0",
      "model_name": "LayoutModel",
      "state": {}
     },
     "b2075972ec9a4ff4abbe48d0cdfe2968": {
      "model_module": "@jupyter-widgets/base",
      "model_module_version": "2.0.0",
      "model_name": "LayoutModel",
      "state": {
       "margin": "0 5px 0 0"
      }
     },
     "b21e4e8019bb4fffb4cc3267b73c867c": {
      "model_module": "@jupyter-widgets/controls",
      "model_module_version": "2.0.0",
      "model_name": "HTMLModel",
      "state": {
       "layout": "IPY_MODEL_3ae186f5ea6e4a91afac467e8d56bf6b",
       "style": "IPY_MODEL_7dba0afb50b8424584c44286e1aac844",
       "value": "<div style=\"text-align: center; margin: 10px 0; border: 1px dashed #B4B0BF;\"></div>"
      }
     },
     "b25456a9c5bf4dc18b4bdf9844116c10": {
      "model_module": "@jupyter-widgets/controls",
      "model_module_version": "2.0.0",
      "model_name": "HTMLModel",
      "state": {
       "layout": "IPY_MODEL_54dfe68c2f464a9a88262f7df4119fbf",
       "style": "IPY_MODEL_5c8a4721f2a84ff598c270a493ad8778",
       "value": "<div style='font-family: monospace; width: 100%;'>From<br><div style='border-left: 1px solid #B4B0BF; padding-left: 10px;'><div style='background-color: #D5F1D5;; color: #256B24;; display: block; white-space: pre-wrap; margin-bottom: 5px;'>service_func_name: compute_mean</div><div style='background-color: #D5F1D5;; color: #256B24;; display: block; white-space: pre-wrap; margin-bottom: 5px;'>input_owners: ['test_l']</div><div style='background-color: #D5F1D5;; color: #256B24;; display: block; white-space: pre-wrap; margin-bottom: 5px;'>code_status: ['Node: test_l, Status: pending']</div><div style='background-color: #D5F1D5;; color: #256B24;; display: block; white-space: pre-wrap; margin-bottom: 5px;'>worker_pool_name: default-pool</div></div></div>"
      }
     },
     "b2ccfb460c314e718ca91f2a95016a19": {
      "model_module": "@jupyter-widgets/controls",
      "model_module_version": "2.0.0",
      "model_name": "HTMLModel",
      "state": {
       "layout": "IPY_MODEL_ab85b74b13854508b94b98a664abea15",
       "style": "IPY_MODEL_ff659f0909f545129f8dc95a1f4a56c6",
       "value": "<span style='color: #B4B0BF;'>Syncing changes on</span>"
      }
     },
     "b306610a0a7645f4bd86145c7ff7c05c": {
      "model_module": "@jupyter-widgets/controls",
      "model_module_version": "2.0.0",
      "model_name": "HBoxModel",
      "state": {
       "children": [
        "IPY_MODEL_823c9d492786475894415bf0ddfce6ab",
        "IPY_MODEL_791cde53403f494eaaf6c95659dd6097",
        "IPY_MODEL_305365ff80c445f5a33a6e4c5ce63a7c"
       ],
       "layout": "IPY_MODEL_d39553985b3249508ea41cd6ff9781ce"
      }
     },
     "b3068927ff4743c6838abb8d48d76f0c": {
      "model_module": "@jupyter-widgets/base",
      "model_module_version": "2.0.0",
      "model_name": "LayoutModel",
      "state": {}
     },
     "b41c838101fc49f58990ae7d0120965b": {
      "model_module": "@jupyter-widgets/controls",
      "model_module_version": "2.0.0",
      "model_name": "HBoxModel",
      "state": {
       "layout": "IPY_MODEL_61ca5266261940128160b7e0ca692640"
      }
     },
     "b4613800efca4807b2059c5445ed4543": {
      "model_module": "@jupyter-widgets/controls",
      "model_module_version": "2.0.0",
      "model_name": "HBoxModel",
      "state": {
       "children": [
        "IPY_MODEL_098b361906ad48b4b2815f4ec9fbef4d",
        "IPY_MODEL_1c2ded4797bf43cd93fec6e857cea566",
        "IPY_MODEL_8f6d7aeb862e4acf99f536fb7f65fcdb"
       ],
       "layout": "IPY_MODEL_28da8f5ee0f24e36a00e80ab3d1b405e"
      }
     },
     "b4be2ecd385d4527991adda6cc85e67b": {
      "model_module": "@jupyter-widgets/controls",
      "model_module_version": "2.0.0",
      "model_name": "HTMLModel",
      "state": {
       "layout": "IPY_MODEL_f0c821984b4f423ebf3bda854f018f7c",
       "style": "IPY_MODEL_a1c9bf96e81b41a7b9bbf2d021016871",
       "value": "<div style='font-family: monospace; width: 100%;'>To<br><div style='border-left: 1px solid #B4B0BF; padding-left: 10px;'><div style='background-color: #D5F1D5;; color: #256B24;; display: block; white-space: pre-wrap; margin-bottom: 5px;'>approved: </div><div style='background-color: #D5F1D5;; color: #256B24;; display: block; white-space: pre-wrap; margin-bottom: 5px;'>status_dict: </div></div></div>"
      }
     },
     "b4c8f984b6e4403b86d2bb05889c399d": {
      "model_module": "@jupyter-widgets/base",
      "model_module_version": "2.0.0",
      "model_name": "LayoutModel",
      "state": {}
     },
     "b4e41e5ded6348799b1f073ad662402e": {
      "model_module": "@jupyter-widgets/base",
      "model_module_version": "2.0.0",
      "model_name": "LayoutModel",
      "state": {}
     },
     "b4fb5836a21343098abe9fe4b14f130e": {
      "model_module": "@jupyter-widgets/controls",
      "model_module_version": "2.0.0",
      "model_name": "ButtonModel",
      "state": {
       "description": "Sync Selected Changes",
       "layout": "IPY_MODEL_7ee45edd0948414e9351dac26be806d1",
       "style": "IPY_MODEL_d6dba69988fc408e930fab3e2a4d04c7",
       "tooltip": null
      }
     },
     "b530270fc7d149c5b129aadcd43124d4": {
      "model_module": "@jupyter-widgets/base",
      "model_module_version": "2.0.0",
      "model_name": "LayoutModel",
      "state": {}
     },
     "b5917ff9654447a28149c0cb6709b1c5": {
      "model_module": "@jupyter-widgets/base",
      "model_module_version": "2.0.0",
      "model_name": "LayoutModel",
      "state": {}
     },
     "b5f3f2d300d841bbbf04b7807adbfa4d": {
      "model_module": "@jupyter-widgets/base",
      "model_module_version": "2.0.0",
      "model_name": "LayoutModel",
      "state": {
       "overflow": "auto",
       "width": "50%"
      }
     },
     "b5f85ab88df74a66829e0b73cb598dca": {
      "model_module": "@jupyter-widgets/base",
      "model_module_version": "2.0.0",
      "model_name": "LayoutModel",
      "state": {
       "border_bottom": "#353243 solid 0.5px",
       "border_left": "#353243 solid 0.5px",
       "border_right": "#353243 solid 0.5px",
       "border_top": "#353243 solid 0.5px",
       "padding": "16px"
      }
     },
     "b6510994cb5f483b89e423e17906aaca": {
      "model_module": "@jupyter-widgets/controls",
      "model_module_version": "2.0.0",
      "model_name": "HBoxModel",
      "state": {
       "children": [
        "IPY_MODEL_895e7e505a8644b984c81b331ce679fe"
       ],
       "layout": "IPY_MODEL_2a001a8811a94772b6843085b86aa65e"
      }
     },
     "b67e394de3174ca28a51e58f1471e377": {
      "model_module": "@jupyter-widgets/controls",
      "model_module_version": "2.0.0",
      "model_name": "CheckboxModel",
      "state": {
       "description": "Sync",
       "disabled": false,
       "layout": "IPY_MODEL_994340a41e114d48a31b8747959e7415",
       "style": "IPY_MODEL_dd8bcbedb45f4c00b9c842fccb8048e9",
       "value": false
      }
     },
     "b711593a76fa4e208602e04f8cb5e6f5": {
      "model_module": "@jupyter-widgets/controls",
      "model_module_version": "2.0.0",
      "model_name": "HTMLStyleModel",
      "state": {
       "description_width": "",
       "font_size": null,
       "text_color": null
      }
     },
     "b7130bbe70fb4a288e4186d496561c2f": {
      "model_module": "@jupyter-widgets/base",
      "model_module_version": "2.0.0",
      "model_name": "LayoutModel",
      "state": {
       "border_bottom": "#464A91 solid 1.5px",
       "border_left": "#464A91 solid 1.5px",
       "border_right": "#464A91 solid 1.5px",
       "border_top": "#464A91 solid 1.5px",
       "width": "200px"
      }
     },
     "b714402dd57e4d97a699d0d593083bd4": {
      "model_module": "@jupyter-widgets/base",
      "model_module_version": "2.0.0",
      "model_name": "LayoutModel",
      "state": {}
     },
     "b7201c157045451287334531e3af205a": {
      "model_module": "@jupyter-widgets/controls",
      "model_module_version": "2.0.0",
      "model_name": "HTMLModel",
      "state": {
       "layout": "IPY_MODEL_84723bfeab51464fa4f71d3c214aa5c1",
       "style": "IPY_MODEL_2cffed7479eb4e3db0b6393bea9faac8",
       "value": "<div style='font-family: monospace; width: 100%;'>To<br><div style='border-left: 1px solid #B4B0BF; padding-left: 10px;'><div style='background-color: #D5F1D5;; color: #256B24;; display: block; white-space: pre-wrap; margin-bottom: 5px;'>approved: </div><div style='background-color: #D5F1D5;; color: #256B24;; display: block; white-space: pre-wrap; margin-bottom: 5px;'>status_dict: </div></div></div>"
      }
     },
     "b721ea8dfbef4bb59031a373dbf9764c": {
      "model_module": "@jupyter-widgets/controls",
      "model_module_version": "2.0.0",
      "model_name": "HTMLModel",
      "state": {
       "layout": "IPY_MODEL_ad6c7188781c4fc5ae7af822c2433fee",
       "style": "IPY_MODEL_0371a7757e0b4431b58106451fc0ecd4",
       "value": "<div style=\"text-align: center; margin: 10px 0; border: 1px dashed #B4B0BF;\"></div>"
      }
     },
     "b72218ac2f9045e5b76c6110b0a0b385": {
      "model_module": "@jupyter-widgets/controls",
      "model_module_version": "2.0.0",
      "model_name": "CheckboxStyleModel",
      "state": {
       "description_width": ""
      }
     },
     "b76284edd7be471c93c330d0c126fcaa": {
      "model_module": "@jupyter-widgets/base",
      "model_module_version": "2.0.0",
      "model_name": "LayoutModel",
      "state": {}
     },
     "b76a4f6d4046407ebedea5deb3ceac42": {
      "model_module": "@jupyter-widgets/controls",
      "model_module_version": "2.0.0",
      "model_name": "HTMLModel",
      "state": {
       "layout": "IPY_MODEL_486c151905024e79be46ecb5d555dbfe",
       "style": "IPY_MODEL_6eeaf3536b45451e8b75e1d2bb77e79c",
       "value": "<div style=\"text-align: center; margin: 10px 0; border: 1px dashed #B4B0BF;\"></div>"
      }
     },
     "b7985738f2134eac8f01b7f47d65fcb7": {
      "model_module": "@jupyter-widgets/controls",
      "model_module_version": "2.0.0",
      "model_name": "VBoxModel",
      "state": {
       "children": [
        "IPY_MODEL_aff38db8910442359dca21ec327a80fc",
        "IPY_MODEL_06a8ccc5b4434923b88f8930d79a619c",
        "IPY_MODEL_9404ed7f2ecb4337961494ddb0ad67ed",
        "IPY_MODEL_bfb2cc77e4af43f4890ed6a8cadf1be1"
       ],
       "layout": "IPY_MODEL_7b8407c928a149ac8d53d8e4563c5629"
      }
     },
     "b7a773f8dfd347a7b7d8a88de2cc890d": {
      "model_module": "@jupyter-widgets/base",
      "model_module_version": "2.0.0",
      "model_name": "LayoutModel",
      "state": {}
     },
     "b833cf20ea1a42f0b7906f1e30cee6e7": {
      "model_module": "@jupyter-widgets/base",
      "model_module_version": "2.0.0",
      "model_name": "LayoutModel",
      "state": {}
     },
     "b855161259a34dd8960281e464e58f1f": {
      "model_module": "@jupyter-widgets/controls",
      "model_module_version": "2.0.0",
      "model_name": "HBoxModel",
      "state": {
       "layout": "IPY_MODEL_792664e3a2d34193a51b95a529617592"
      }
     },
     "b8c429b2bb29471aa4e8f3eebcb0744a": {
      "model_module": "@jupyter-widgets/controls",
      "model_module_version": "2.0.0",
      "model_name": "VBoxModel",
      "state": {
       "children": [
        "IPY_MODEL_520b7ba049e94508ad28ef3a9421039f",
        "IPY_MODEL_fb561fabfa4546338c74deec26c56928",
        "IPY_MODEL_c959ce758bac4938a9033010c41a2b14",
        "IPY_MODEL_2accd95e4bf144a2aa0f2344f05f1c81"
       ],
       "layout": "IPY_MODEL_b91b41aa924545f9a273a9344f028ac3"
      }
     },
     "b90d7b93327b4450baf7a3f78a3145a5": {
      "model_module": "@jupyter-widgets/controls",
      "model_module_version": "2.0.0",
      "model_name": "CheckboxStyleModel",
      "state": {
       "description_width": ""
      }
     },
     "b91b41aa924545f9a273a9344f028ac3": {
      "model_module": "@jupyter-widgets/base",
      "model_module_version": "2.0.0",
      "model_name": "LayoutModel",
      "state": {}
     },
     "b928d33c0c6b4eb19c21a64eb709388c": {
      "model_module": "@jupyter-widgets/controls",
      "model_module_version": "2.0.0",
      "model_name": "HTMLStyleModel",
      "state": {
       "description_width": "",
       "font_size": null,
       "text_color": null
      }
     },
     "b9679307dd6c4375b4caf05f47227e9d": {
      "model_module": "@jupyter-widgets/controls",
      "model_module_version": "2.0.0",
      "model_name": "HTMLModel",
      "state": {
       "layout": "IPY_MODEL_e3b7db60596046168cc84e93e11092a1",
       "style": "IPY_MODEL_8b90623a8c5e4ebc9f8eff5079adbbb6",
       "value": "<div style=\"text-align: center; margin: 10px 0; border: 1px dashed #B4B0BF;\"></div>"
      }
     },
     "b9a3810641c2488f9651a301779c52da": {
      "model_module": "@jupyter-widgets/base",
      "model_module_version": "2.0.0",
      "model_name": "LayoutModel",
      "state": {}
     },
     "ba0f22747ae04ad0b94453ac21ead278": {
      "model_module": "@jupyter-widgets/base",
      "model_module_version": "2.0.0",
      "model_name": "LayoutModel",
      "state": {}
     },
     "babd8d6b3e324a10b7536f4c230e5042": {
      "model_module": "@jupyter-widgets/controls",
      "model_module_version": "2.0.0",
      "model_name": "ButtonStyleModel",
      "state": {
       "button_color": "transparent",
       "font_family": null,
       "font_size": null,
       "font_style": null,
       "font_variant": null,
       "font_weight": null,
       "text_color": "#464A91",
       "text_decoration": null
      }
     },
     "bae817fc54b14079946a23a64cb2fea9": {
      "model_module": "@jupyter-widgets/controls",
      "model_module_version": "2.0.0",
      "model_name": "VBoxModel",
      "state": {
       "children": [
        "IPY_MODEL_a3df9aa540044808ba0a15ad8f374a7f",
        "IPY_MODEL_e0de4c35fd57464f8bcfe1e2cecd58ad",
        "IPY_MODEL_e29ba7edef4c407fa6fabf12828c4e34",
        "IPY_MODEL_1e33353c9bdb4ec2930a9cb62d238a32",
        "IPY_MODEL_640117dc6fa54904a2cab1976782af7a",
        "IPY_MODEL_f45c71a81aec4ddbb8711b02bad7fdb9",
        "IPY_MODEL_ca5e56b64af347b99c47244bd38246e5",
        "IPY_MODEL_ae54e86c65624c58a8defa956cc35285"
       ],
       "layout": "IPY_MODEL_f30de88af9bd4262baee4f671e8e885d"
      }
     },
     "bae8d36be9b64279b51bfd2084fa149a": {
      "model_module": "@jupyter-widgets/controls",
      "model_module_version": "2.0.0",
      "model_name": "CheckboxModel",
      "state": {
       "description": "Sync",
       "disabled": false,
       "layout": "IPY_MODEL_7ab32bce9d9d4ae0ad85ee86927b9254",
       "style": "IPY_MODEL_d0a68f1b9d93447fb3fa9e515ffbce81",
       "value": false
      }
     },
     "bb0a6a520341457db5facb26b3970b16": {
      "model_module": "@jupyter-widgets/base",
      "model_module_version": "2.0.0",
      "model_name": "LayoutModel",
      "state": {
       "display": "none"
      }
     },
     "bb3480166f8e45a8bf57ae8fd9976ca2": {
      "model_module": "@jupyter-widgets/controls",
      "model_module_version": "2.0.0",
      "model_name": "AccordionModel",
      "state": {
       "children": [
        "IPY_MODEL_29811d084e324f69b0f671af35ce3428"
       ],
       "layout": "IPY_MODEL_f04c6cc4ca4747f9859c32b6e617d723",
       "titles": [
        "UserCodeStatusCollection (2 changes)"
       ]
      }
     },
     "bb4bddbfda83461d861ea30bd7f1ddbb": {
      "model_module": "@jupyter-widgets/controls",
      "model_module_version": "2.0.0",
      "model_name": "HTMLModel",
      "state": {
       "layout": "IPY_MODEL_a98e66ff73294dacb292dfad0190882d",
       "style": "IPY_MODEL_20df72485b3a44a99502420a548e09e5",
       "value": "<div style='font-family: monospace; width: 100%;'>To<br><div style='border-left: 1px solid #B4B0BF; padding-left: 10px;'><div style='background-color: #D5F1D5;; color: #256B24;; display: block; white-space: pre-wrap; margin-bottom: 5px;'>service_func_name: </div><div style='background-color: #D5F1D5;; color: #256B24;; display: block; white-space: pre-wrap; margin-bottom: 5px;'>input_owners: </div><div style='background-color: #D5F1D5;; color: #256B24;; display: block; white-space: pre-wrap; margin-bottom: 5px;'>code_status: </div><div style='background-color: #D5F1D5;; color: #256B24;; display: block; white-space: pre-wrap; margin-bottom: 5px;'>worker_pool_name: </div></div></div>"
      }
     },
     "bb7343a1f2754641af4d42a3bdaf209d": {
      "model_module": "@jupyter-widgets/base",
      "model_module_version": "2.0.0",
      "model_name": "LayoutModel",
      "state": {}
     },
     "bb78d8e998c54b249752fc7527cae783": {
      "model_module": "@jupyter-widgets/controls",
      "model_module_version": "2.0.0",
      "model_name": "HBoxModel",
      "state": {
       "children": [
        "IPY_MODEL_0310550c515b4a03947a2a31bcccd4d3",
        "IPY_MODEL_135b1e8ba0394c548d6c477019b0bfd6",
        "IPY_MODEL_86d6f25a915a42969585b0230d00dd37"
       ],
       "layout": "IPY_MODEL_86ef50ce3f7a42fd8250ce72255523d5"
      }
     },
     "bb79b7e00698490e8ee869a9b8182880": {
      "model_module": "@jupyter-widgets/controls",
      "model_module_version": "2.0.0",
      "model_name": "VBoxModel",
      "state": {
       "children": [
        "IPY_MODEL_9a06ca8b87f14b77b507a26872bd8fb6",
        "IPY_MODEL_c7fde91d1b1e4178a1b3ec44a4d104f5"
       ],
       "layout": "IPY_MODEL_4075cbafca3e4e84b3b461af282837df"
      }
     },
     "bbb5e253c01240428663f096daee912d": {
      "model_module": "@jupyter-widgets/controls",
      "model_module_version": "2.0.0",
      "model_name": "ButtonModel",
      "state": {
       "icon": "clone",
       "layout": "IPY_MODEL_fc59fb21cb7b4fc0beaa635cfd9427a0",
       "style": "IPY_MODEL_7a92afbf40104e6585b9fd875020d591",
       "tooltip": null
      }
     },
     "bc26c8293e204134a6e42adc3ebe51d3": {
      "model_module": "@jupyter-widgets/controls",
      "model_module_version": "2.0.0",
      "model_name": "HTMLStyleModel",
      "state": {
       "description_width": "",
       "font_size": null,
       "text_color": null
      }
     },
     "bc2a8f1396ec4ec3b5d2ed61bc60c9ea": {
      "model_module": "@jupyter-widgets/controls",
      "model_module_version": "2.0.0",
      "model_name": "HBoxModel",
      "state": {
       "children": [
        "IPY_MODEL_13ae4daf77c1468cbbe0b0d8ab004bbd"
       ],
       "layout": "IPY_MODEL_c4f389cd73954de9a194f2fdeadac541"
      }
     },
     "bc71809fa27e438d82a4bfe6c9dddc78": {
      "model_module": "@jupyter-widgets/base",
      "model_module_version": "2.0.0",
      "model_name": "LayoutModel",
      "state": {}
     },
     "bc76517efc454e28a4a5e068968ee4a4": {
      "model_module": "@jupyter-widgets/controls",
      "model_module_version": "2.0.0",
      "model_name": "HTMLModel",
      "state": {
       "layout": "IPY_MODEL_476adebbfe15494eab132ef819551c18",
       "style": "IPY_MODEL_1b847a5cf7ec428ebf34612e49b0bda0",
       "value": "<div style='font-family: monospace; width: 100%;'>From<br><div style='border-left: 1px solid #B4B0BF; padding-left: 10px;'><div style='background-color: #D5F1D5;; color: #256B24;; display: block; white-space: pre-wrap; margin-bottom: 5px;'>service_func_name: compute_mean</div><div style='background-color: #D5F1D5;; color: #256B24;; display: block; white-space: pre-wrap; margin-bottom: 5px;'>input_owners: ['test_l']</div><div style='background-color: #D5F1D5;; color: #256B24;; display: block; white-space: pre-wrap; margin-bottom: 5px;'>code_status: ['Node: test_l, Status: pending']</div><div style='background-color: #D5F1D5;; color: #256B24;; display: block; white-space: pre-wrap; margin-bottom: 5px;'>worker_pool_name: default-pool</div></div></div>"
      }
     },
     "bc7a31bbb0934976b66e0a260874a708": {
      "model_module": "@jupyter-widgets/controls",
      "model_module_version": "2.0.0",
      "model_name": "HTMLStyleModel",
      "state": {
       "description_width": "",
       "font_size": null,
       "text_color": null
      }
     },
     "bc8661d248e94e489581fb9b3b6b6ce4": {
      "model_module": "@jupyter-widgets/controls",
      "model_module_version": "2.0.0",
      "model_name": "HTMLModel",
      "state": {
       "layout": "IPY_MODEL_d87e5482c72c4078b919c4d3a3541edc",
       "style": "IPY_MODEL_ac09645ebc254f4a9316c1e2b143a27e",
       "value": "<div style='font-family: monospace; width: 100%;'>From<br><div style='border-left: 1px solid #B4B0BF; padding-left: 10px;'><div style='background-color: #D5F1D5;; color: #256B24;; display: block; white-space: pre-wrap; margin-bottom: 5px;'>request_time: 2024-04-02 07:27:04</div><div style='background-color: #D5F1D5;; color: #256B24;; display: block; white-space: pre-wrap; margin-bottom: 5px;'>updated_at: </div><div style='background-color: #D5F1D5;; color: #256B24;; display: block; white-space: pre-wrap; margin-bottom: 5px;'>status: RequestStatus.PENDING</div><div style='background-color: #D5F1D5;; color: #256B24;; display: block; white-space: pre-wrap; margin-bottom: 5px;'>changes: [syft.service.request.request.UserCodeStatusChange]</div><div style='background-color: #D5F1D5;; color: #256B24;; display: block; white-space: pre-wrap; margin-bottom: 5px;'>requesting_user_verify_key: 97749607500ddabd08762823e4643f8e8a01d1af87cff925059861bda0ee2dc0</div></div></div>"
      }
     },
     "bcab864eaa18442b917800f3df849e5b": {
      "model_module": "@jupyter-widgets/controls",
      "model_module_version": "2.0.0",
      "model_name": "HTMLStyleModel",
      "state": {
       "description_width": "",
       "font_size": null,
       "text_color": null
      }
     },
     "bce659b4a923499fa2712056a396cb9b": {
      "model_module": "@jupyter-widgets/controls",
      "model_module_version": "2.0.0",
      "model_name": "HTMLModel",
      "state": {
       "layout": "IPY_MODEL_b17692382e4949f78d4be837939cb028",
       "style": "IPY_MODEL_c5a54379f7be4c9e9afb94e7bee57f6f",
       "value": "<span style='color: #5E5A72;'>This would sync <span style='color: #B8520A'>2 changes </span> from <i>Low Node</i> to <i>High Node</i></span>"
      }
     },
     "bd0c410f7f864ba49c4394ba638af668": {
      "model_module": "@jupyter-widgets/base",
      "model_module_version": "2.0.0",
      "model_name": "LayoutModel",
      "state": {}
     },
     "bdb18f59d9bb4044b7a875999e68bfb8": {
      "model_module": "@jupyter-widgets/base",
      "model_module_version": "2.0.0",
      "model_name": "LayoutModel",
      "state": {}
     },
     "bdffcd22db25434a92b81d23bd35e849": {
      "model_module": "@jupyter-widgets/controls",
      "model_module_version": "2.0.0",
      "model_name": "HTMLModel",
      "state": {
       "layout": "IPY_MODEL_a6dc97a6e7734b4f800d48acef8627e9",
       "style": "IPY_MODEL_8852c6ea74ca49ff9fc6e79cbee92e8f",
       "value": "<div style='font-family: monospace; width: 100%;'>To<br><div style='border-left: 1px solid #B4B0BF; padding-left: 10px;'><div style='background-color: #D5F1D5;; color: #256B24;; display: block; white-space: pre-wrap; margin-bottom: 5px;'>approved: </div><div style='background-color: #D5F1D5;; color: #256B24;; display: block; white-space: pre-wrap; margin-bottom: 5px;'>status_dict: </div></div></div>"
      }
     },
     "be19fa9a44e541659f1fbe2a733da225": {
      "model_module": "@jupyter-widgets/base",
      "model_module_version": "2.0.0",
      "model_name": "LayoutModel",
      "state": {}
     },
     "be1ccb26f14543dba0c0efdf54d9e953": {
      "model_module": "@jupyter-widgets/controls",
      "model_module_version": "2.0.0",
      "model_name": "HTMLModel",
      "state": {
       "layout": "IPY_MODEL_3cb113971e6b440c813f4cc7a63d87f5",
       "style": "IPY_MODEL_4f395f2e36c141d9aa3e32f6d163d499",
       "value": "<div style='height: 16px'></div>"
      }
     },
     "bea4cc19658944229aeb8c08da6ed517": {
      "model_module": "@jupyter-widgets/controls",
      "model_module_version": "2.0.0",
      "model_name": "HBoxModel",
      "state": {
       "children": [
        "IPY_MODEL_547f8afc25574b269ee1b2ef4343dd5b"
       ],
       "layout": "IPY_MODEL_3a8625a1073544e7b12130e5a5577fba"
      }
     },
     "bee072e270134b9498a22cb392eb2e10": {
      "model_module": "@jupyter-widgets/controls",
      "model_module_version": "2.0.0",
      "model_name": "HBoxModel",
      "state": {
       "children": [
        "IPY_MODEL_eb2316eb1dc048a7ac29c25815d88562"
       ],
       "layout": "IPY_MODEL_dec43e4ba6404215906a452e771d9cc0"
      }
     },
     "bf0608c6638c460b87da39348d4461e9": {
      "model_module": "@jupyter-widgets/controls",
      "model_module_version": "2.0.0",
      "model_name": "BoxModel",
      "state": {
       "children": [
        "IPY_MODEL_3ed8274b35c9411b9d2b3d8a05ed370d",
        "IPY_MODEL_d614a6265b174bb29a31ef9f154f411a"
       ],
       "layout": "IPY_MODEL_a9a96035d1114e488dd1abbd80e9043b"
      }
     },
     "bf5c7f464cae40c7aadb77da4b7ddabc": {
      "model_module": "@jupyter-widgets/controls",
      "model_module_version": "2.0.0",
      "model_name": "AccordionModel",
      "state": {
       "children": [
        "IPY_MODEL_9072c9ca7e6c40f9bd9a6dbe5d8161fb"
       ],
       "layout": "IPY_MODEL_b10aa1f9c8ad48d99eea752817ca8c7e",
       "titles": [
        "UserCodeStatusCollection (2 changes)"
       ]
      }
     },
     "bf6360fc8bb34bf0b3f2fae3fb4df519": {
      "model_module": "@jupyter-widgets/base",
      "model_module_version": "2.0.0",
      "model_name": "LayoutModel",
      "state": {}
     },
     "bfb2cc77e4af43f4890ed6a8cadf1be1": {
      "model_module": "@jupyter-widgets/controls",
      "model_module_version": "2.0.0",
      "model_name": "HTMLModel",
      "state": {
       "layout": "IPY_MODEL_b833cf20ea1a42f0b7906f1e30cee6e7",
       "style": "IPY_MODEL_31cbc218bfc74dd593f1bd0924967917",
       "value": "<div style='height: 16px;'></div>"
      }
     },
     "bfd1363ae6a94cefb45edda6682c3ea8": {
      "model_module": "@jupyter-widgets/base",
      "model_module_version": "2.0.0",
      "model_name": "LayoutModel",
      "state": {}
     },
     "bfe49a242b9342cd851dbee0fb1a29c3": {
      "model_module": "@jupyter-widgets/controls",
      "model_module_version": "2.0.0",
      "model_name": "HTMLStyleModel",
      "state": {
       "description_width": "",
       "font_size": null,
       "text_color": null
      }
     },
     "c046670a1c5b4b66877e93e85c11da58": {
      "model_module": "@jupyter-widgets/base",
      "model_module_version": "2.0.0",
      "model_name": "LayoutModel",
      "state": {}
     },
     "c063a82776ae457698720abdc0595523": {
      "model_module": "@jupyter-widgets/base",
      "model_module_version": "2.0.0",
      "model_name": "LayoutModel",
      "state": {
       "overflow": "auto",
       "width": "50%"
      }
     },
     "c0b40c92981946708092262114fd3cc1": {
      "model_module": "@jupyter-widgets/controls",
      "model_module_version": "2.0.0",
      "model_name": "HTMLStyleModel",
      "state": {
       "description_width": "",
       "font_size": null,
       "text_color": null
      }
     },
     "c0d4ff0e36ae4640bbbd87023effb0c2": {
      "model_module": "@jupyter-widgets/controls",
      "model_module_version": "2.0.0",
      "model_name": "HBoxModel",
      "state": {
       "children": [
        "IPY_MODEL_9567984e875a4bc68e004215df64435f",
        "IPY_MODEL_3cbab7a3d09c49049872d9079fd1455b"
       ],
       "layout": "IPY_MODEL_524e316d554f4752a0afaedf06c53716"
      }
     },
     "c0dffc64d9954457a9d103803faf1a21": {
      "model_module": "@jupyter-widgets/base",
      "model_module_version": "2.0.0",
      "model_name": "LayoutModel",
      "state": {
       "display": "none"
      }
     },
     "c0e5933d6ba04e2191ecddd1ead691fa": {
      "model_module": "@jupyter-widgets/controls",
      "model_module_version": "2.0.0",
      "model_name": "HTMLStyleModel",
      "state": {
       "description_width": "",
       "font_size": null,
       "text_color": null
      }
     },
     "c1f865b419444463990296135e481999": {
      "model_module": "@jupyter-widgets/base",
      "model_module_version": "2.0.0",
      "model_name": "LayoutModel",
      "state": {}
     },
     "c1fa27a8c7aa4f05a8cd55f63bd012ee": {
      "model_module": "@jupyter-widgets/controls",
      "model_module_version": "2.0.0",
      "model_name": "ButtonStyleModel",
      "state": {
       "button_color": "transparent",
       "font_family": null,
       "font_size": null,
       "font_style": null,
       "font_variant": null,
       "font_weight": null,
       "text_color": "#464A91",
       "text_decoration": null
      }
     },
     "c1ff0cd54cf14f1b8a34c61d0013753e": {
      "model_module": "@jupyter-widgets/base",
      "model_module_version": "2.0.0",
      "model_name": "LayoutModel",
      "state": {}
     },
     "c28080a1ad9f475b9c46f4185ff1eb4d": {
      "model_module": "@jupyter-widgets/base",
      "model_module_version": "2.0.0",
      "model_name": "LayoutModel",
      "state": {
       "width": "100%"
      }
     },
     "c281b9b6703e4a2f90cc3cf8e36663f2": {
      "model_module": "@jupyter-widgets/controls",
      "model_module_version": "2.0.0",
      "model_name": "AccordionModel",
      "state": {
       "layout": "IPY_MODEL_a9d14c8f8f1946e9b3c5c43ed7cb2b23"
      }
     },
     "c29179cab230499fb7793f3758f47e0f": {
      "model_module": "@jupyter-widgets/controls",
      "model_module_version": "2.0.0",
      "model_name": "ButtonStyleModel",
      "state": {
       "font_family": null,
       "font_size": null,
       "font_style": null,
       "font_variant": null,
       "font_weight": null,
       "text_color": null,
       "text_decoration": null
      }
     },
     "c2ab806683cd4fc8b2070649bcfe3a0a": {
      "model_module": "@jupyter-widgets/controls",
      "model_module_version": "2.0.0",
      "model_name": "HTMLStyleModel",
      "state": {
       "description_width": "",
       "font_size": null,
       "text_color": null
      }
     },
     "c2b5cd521db546dfb553ba78f1e362a6": {
      "model_module": "@jupyter-widgets/controls",
      "model_module_version": "2.0.0",
      "model_name": "ButtonStyleModel",
      "state": {
       "font_family": null,
       "font_size": null,
       "font_style": null,
       "font_variant": null,
       "font_weight": null,
       "text_color": null,
       "text_decoration": null
      }
     },
     "c2be9afca5d64dcf9b36c5fd7e674bd9": {
      "model_module": "@jupyter-widgets/controls",
      "model_module_version": "2.0.0",
      "model_name": "HBoxModel",
      "state": {
       "children": [
        "IPY_MODEL_d7696c2510e844f0954e97c665339e99",
        "IPY_MODEL_a1afb4ff3de94126841f21a3df103656"
       ],
       "layout": "IPY_MODEL_7c068f466e644481b696485cda6bb5a7"
      }
     },
     "c2ee70f05e674091870daa65e9c8173c": {
      "model_module": "@jupyter-widgets/controls",
      "model_module_version": "2.0.0",
      "model_name": "ButtonModel",
      "state": {
       "icon": "clone",
       "layout": "IPY_MODEL_aad639704deb4f19a263d860532a376c",
       "style": "IPY_MODEL_38cccb3cc7854c2ebae0176a1dec764c",
       "tooltip": null
      }
     },
     "c32091eb095847fbb6cf43468c060a57": {
      "model_module": "@jupyter-widgets/base",
      "model_module_version": "2.0.0",
      "model_name": "LayoutModel",
      "state": {}
     },
     "c39d14b624eb41d8b154a15769852176": {
      "model_module": "@jupyter-widgets/base",
      "model_module_version": "2.0.0",
      "model_name": "LayoutModel",
      "state": {}
     },
     "c3d6490d4f4b4028a29fb2495ff7663e": {
      "model_module": "@jupyter-widgets/controls",
      "model_module_version": "2.0.0",
      "model_name": "HTMLModel",
      "state": {
       "layout": "IPY_MODEL_05c3b1f1c55f4569988561fcf48f27ce",
       "style": "IPY_MODEL_d79871328d544e718d7843609804acd5",
       "value": "<span style='margin-left: 5px; font-weight: bold; color: #373B7B;'>compute_mean</span> <span style='margin-left: 5px; color: #B4B0BF;'>#1234...</span>"
      }
     },
     "c3ec9cb5256c4e64a0ce31ad07aa4e7b": {
      "model_module": "@jupyter-widgets/base",
      "model_module_version": "2.0.0",
      "model_name": "LayoutModel",
      "state": {
       "overflow": "auto",
       "width": "50%"
      }
     },
     "c41fc5d193ae4feaaf28f09c7372fcb6": {
      "model_module": "@jupyter-widgets/controls",
      "model_module_version": "2.0.0",
      "model_name": "HTMLModel",
      "state": {
       "layout": "IPY_MODEL_d71ac43ec1824e2aac5b284e1ceecb86",
       "style": "IPY_MODEL_10d46e7005d044bc997be24b79871995",
       "value": "<div style='font-family: monospace; width: 100%;'>From<br><div style='border-left: 1px solid #B4B0BF; padding-left: 10px;'><div style='background-color: #D5F1D5;; color: #256B24;; display: block; white-space: pre-wrap; margin-bottom: 5px;'>approved: False</div><div style='background-color: #D5F1D5;; color: #256B24;; display: block; white-space: pre-wrap; margin-bottom: 5px;'>status_dict: {NodeIdentity <name=test_l, id=8e19e3a1, 🔑=1c0590b8>: (<UserCodeStatus.PENDING: 'pending'>, '')}</div></div></div>"
      }
     },
     "c4625c12054d42ed8bb0c3e4031f35f3": {
      "model_module": "@jupyter-widgets/base",
      "model_module_version": "2.0.0",
      "model_name": "LayoutModel",
      "state": {}
     },
     "c4929e28bbf943efae965d1515521714": {
      "model_module": "@jupyter-widgets/base",
      "model_module_version": "2.0.0",
      "model_name": "LayoutModel",
      "state": {}
     },
     "c4b0cb022718490db183ad0610322af7": {
      "model_module": "@jupyter-widgets/controls",
      "model_module_version": "2.0.0",
      "model_name": "HTMLStyleModel",
      "state": {
       "description_width": "",
       "font_size": null,
       "text_color": null
      }
     },
     "c4ed4ccf523d4f669bf2609ba1bd843d": {
      "model_module": "@jupyter-widgets/controls",
      "model_module_version": "2.0.0",
      "model_name": "HBoxModel",
      "state": {
       "children": [
        "IPY_MODEL_3f9105a4785640e59feeff15a5756d2c",
        "IPY_MODEL_59c851b66f2a4bdab5e9eebb59827ff3"
       ],
       "layout": "IPY_MODEL_545c9605cf77457e9896a8e66c449512"
      }
     },
     "c4f389cd73954de9a194f2fdeadac541": {
      "model_module": "@jupyter-widgets/base",
      "model_module_version": "2.0.0",
      "model_name": "LayoutModel",
      "state": {}
     },
     "c5270c712a324b1bace3bc7954ab2df1": {
      "model_module": "@jupyter-widgets/controls",
      "model_module_version": "2.0.0",
      "model_name": "HTMLModel",
      "state": {
       "layout": "IPY_MODEL_38f3ec82e1b94ae98e2c46737be0b9c1",
       "style": "IPY_MODEL_7a89e61798cc4f9ebb364c723f2475e5",
       "value": "<div style='font-family: monospace; width: 100%;'>From<br><div style='border-left: 1px solid #B4B0BF; padding-left: 10px;'><div style='background-color: #D5F1D5;; color: #256B24;; display: block; white-space: pre-wrap; margin-bottom: 5px;'>service_func_name: compute_mean</div><div style='background-color: #D5F1D5;; color: #256B24;; display: block; white-space: pre-wrap; margin-bottom: 5px;'>input_owners: ['test_l']</div><div style='background-color: #D5F1D5;; color: #256B24;; display: block; white-space: pre-wrap; margin-bottom: 5px;'>code_status: ['Node: test_l, Status: pending']</div><div style='background-color: #D5F1D5;; color: #256B24;; display: block; white-space: pre-wrap; margin-bottom: 5px;'>worker_pool_name: default-pool</div></div></div>"
      }
     },
     "c53795e142b54850845d41720246d27b": {
      "model_module": "@jupyter-widgets/controls",
      "model_module_version": "2.0.0",
      "model_name": "HTMLStyleModel",
      "state": {
       "description_width": "",
       "font_size": null,
       "text_color": null
      }
     },
     "c5a54379f7be4c9e9afb94e7bee57f6f": {
      "model_module": "@jupyter-widgets/controls",
      "model_module_version": "2.0.0",
      "model_name": "HTMLStyleModel",
      "state": {
       "description_width": "",
       "font_size": null,
       "text_color": null
      }
     },
     "c5b18aa7391141d2a266212ff48e5d9c": {
      "model_module": "@jupyter-widgets/controls",
      "model_module_version": "2.0.0",
      "model_name": "HTMLModel",
      "state": {
       "layout": "IPY_MODEL_1c0be2938b5c4b0184914caea68980d0",
       "style": "IPY_MODEL_c0e5933d6ba04e2191ecddd1ead691fa",
       "value": "<span style='color: #5E5A72;'>This would sync <span style='color: #B8520A'>2 changes </span> from <i>Low Node</i> to <i>High Node</i></span>"
      }
     },
     "c5dddb849c654284a45f54a8d5fe3ae3": {
      "model_module": "@jupyter-widgets/controls",
      "model_module_version": "2.0.0",
      "model_name": "HTMLModel",
      "state": {
       "layout": "IPY_MODEL_8248b9c953fd46babd2c2451130f3382",
       "style": "IPY_MODEL_101a25fa840846fd95c88dea876b432d",
       "value": "<div style='font-family: monospace; width: 100%;'>To<br><div style='border-left: 1px solid #B4B0BF; padding-left: 10px;'><div style='background-color: #D5F1D5;; color: #256B24;; display: block; white-space: pre-wrap; margin-bottom: 5px;'>request_time: </div><div style='background-color: #D5F1D5;; color: #256B24;; display: block; white-space: pre-wrap; margin-bottom: 5px;'>updated_at: </div><div style='background-color: #D5F1D5;; color: #256B24;; display: block; white-space: pre-wrap; margin-bottom: 5px;'>status: </div><div style='background-color: #D5F1D5;; color: #256B24;; display: block; white-space: pre-wrap; margin-bottom: 5px;'>changes: </div><div style='background-color: #D5F1D5;; color: #256B24;; display: block; white-space: pre-wrap; margin-bottom: 5px;'>requesting_user_verify_key: </div></div></div>"
      }
     },
     "c5fb4ab1aefb4f31a52e31605973513e": {
      "model_module": "@jupyter-widgets/base",
      "model_module_version": "2.0.0",
      "model_name": "LayoutModel",
      "state": {
       "height": "25px",
       "margin": "0",
       "padding": "0",
       "width": "25px"
      }
     },
     "c64346efb4414c7fb23d529cf200e315": {
      "model_module": "@jupyter-widgets/base",
      "model_module_version": "2.0.0",
      "model_name": "LayoutModel",
      "state": {
       "align_items": "center"
      }
     },
     "c69b20ae48c1477db41782a62708d66a": {
      "model_module": "@jupyter-widgets/base",
      "model_module_version": "2.0.0",
      "model_name": "LayoutModel",
      "state": {}
     },
     "c71780230b0948ae9644d19da736058e": {
      "model_module": "@jupyter-widgets/controls",
      "model_module_version": "2.0.0",
      "model_name": "HTMLStyleModel",
      "state": {
       "description_width": "",
       "font_size": null,
       "text_color": null
      }
     },
     "c769a321b9b04a2aa6afb7f5bc878247": {
      "model_module": "@jupyter-widgets/base",
      "model_module_version": "2.0.0",
      "model_name": "LayoutModel",
      "state": {
       "height": "25px",
       "margin": "0",
       "padding": "0",
       "width": "25px"
      }
     },
     "c7b4b883ab974a33b6c259539b7b3ee0": {
      "model_module": "@jupyter-widgets/base",
      "model_module_version": "2.0.0",
      "model_name": "LayoutModel",
      "state": {}
     },
     "c7d0b15f316c42c79d1283c53e0af18c": {
      "model_module": "@jupyter-widgets/output",
      "model_module_version": "1.0.0",
      "model_name": "OutputModel",
      "state": {
       "layout": "IPY_MODEL_4e80a6b71d5845cf9b6b8afbe9736be5"
      }
     },
     "c7fde91d1b1e4178a1b3ec44a4d104f5": {
      "model_module": "@jupyter-widgets/controls",
      "model_module_version": "2.0.0",
      "model_name": "HBoxModel",
      "state": {
       "children": [
        "IPY_MODEL_43601ff951f24ab7aa8947342d8473b3",
        "IPY_MODEL_283b495b4b4b404db6f5acefe1640fc0"
       ],
       "layout": "IPY_MODEL_916101e8988640c4b4dfcc8f41431cdf"
      }
     },
     "c7fe1e5bc07a485e86345ef5c8e6f470": {
      "model_module": "@jupyter-widgets/base",
      "model_module_version": "2.0.0",
      "model_name": "LayoutModel",
      "state": {
       "overflow": "auto",
       "width": "50%"
      }
     },
     "c86fc47300894d3f820fd94d62add043": {
      "model_module": "@jupyter-widgets/controls",
      "model_module_version": "2.0.0",
      "model_name": "HTMLModel",
      "state": {
       "layout": "IPY_MODEL_f58efe6d5c3247a48f55cfdf5c01bc59",
       "style": "IPY_MODEL_385d2658af4e48fdb423bae64ca90b4f",
       "value": "<span style='margin-left: 5px; font-weight: bold; color: #373B7B;'>compute_mean</span> <span style='margin-left: 5px; color: #B4B0BF;'>#1234...</span>"
      }
     },
     "c87072ff55d3412389e6c4bb51f440e8": {
      "model_module": "@jupyter-widgets/controls",
      "model_module_version": "2.0.0",
      "model_name": "VBoxModel",
      "state": {
       "children": [
        "IPY_MODEL_00efa16de3d74807913b42ae8e309186",
        "IPY_MODEL_c0d4ff0e36ae4640bbbd87023effb0c2"
       ],
       "layout": "IPY_MODEL_b714402dd57e4d97a699d0d593083bd4"
      }
     },
     "c8945606dedc416490ddc98b90022238": {
      "model_module": "@jupyter-widgets/base",
      "model_module_version": "2.0.0",
      "model_name": "LayoutModel",
      "state": {
       "margin": "0 5px 0 0"
      }
     },
     "c8d9072435ab481fb99bc1a6d88b8685": {
      "model_module": "@jupyter-widgets/controls",
      "model_module_version": "2.0.0",
      "model_name": "HBoxModel",
      "state": {
       "children": [
        "IPY_MODEL_9ada4d5dc70f4e19aff830177d6789c2",
        "IPY_MODEL_d7c3c39fa3a84051bd8fe24a5d694994",
        "IPY_MODEL_332513968e354a0aa0a876e03641d4bf"
       ],
       "layout": "IPY_MODEL_0f39260ce2104fad8aada71a9013ecf7"
      }
     },
     "c8f0ad0841474753a36783584ce04af1": {
      "model_module": "@jupyter-widgets/controls",
      "model_module_version": "2.0.0",
      "model_name": "HBoxModel",
      "state": {
       "layout": "IPY_MODEL_99b2ae19d54d4859b55a184873439685"
      }
     },
     "c902ab9f1c2f4239a1e2e3038252d657": {
      "model_module": "@jupyter-widgets/base",
      "model_module_version": "2.0.0",
      "model_name": "LayoutModel",
      "state": {}
     },
     "c92ba7040ec8411fa0940b64d63dc5d6": {
      "model_module": "@jupyter-widgets/base",
      "model_module_version": "2.0.0",
      "model_name": "LayoutModel",
      "state": {}
     },
     "c959ce758bac4938a9033010c41a2b14": {
      "model_module": "@jupyter-widgets/controls",
      "model_module_version": "2.0.0",
      "model_name": "HTMLModel",
      "state": {
       "layout": "IPY_MODEL_35f69f0623bc4ec298e6d0298e6dcf0d",
       "style": "IPY_MODEL_a75beb5565af448daa0f9318cde6c10c",
       "value": "<span style='color: #5E5A72;'>This would sync <span style='color: #B8520A'>2 changes </span> from <i>Low Node</i> to <i>High Node</i></span>"
      }
     },
     "c974ec62f7fd45aca6fba5fd0c8b4940": {
      "model_module": "@jupyter-widgets/controls",
      "model_module_version": "2.0.0",
      "model_name": "HTMLModel",
      "state": {
       "layout": "IPY_MODEL_ed715b492dcf4562af1ff313455dff0e",
       "style": "IPY_MODEL_cc8d65d0259f48a29f60692c96559b7c",
       "value": "<div style='font-family: monospace; width: 100%;'>To<br><div style='border-left: 1px solid #B4B0BF; padding-left: 10px;'><div style='background-color: #D5F1D5;; color: #256B24;; display: block; white-space: pre-wrap; margin-bottom: 5px;'>approved: </div><div style='background-color: #D5F1D5;; color: #256B24;; display: block; white-space: pre-wrap; margin-bottom: 5px;'>status_dict: </div></div></div>"
      }
     },
     "c98547eb67a647218914dd3799db77ee": {
      "model_module": "@jupyter-widgets/controls",
      "model_module_version": "2.0.0",
      "model_name": "HTMLModel",
      "state": {
       "layout": "IPY_MODEL_14496d2b75374aaf8cf4013098773bcc",
       "style": "IPY_MODEL_7298c11ef38e42a0a65d07e16aa1771d",
       "value": "<span style='color: #5E5A72;'>This would sync <span style='color: #B8520A'>2 changes </span> from <i>Low Node</i> to <i>High Node</i></span>"
      }
     },
     "c9ee8d8a7ff442c7945bef9e4023666d": {
      "model_module": "@jupyter-widgets/controls",
      "model_module_version": "2.0.0",
      "model_name": "VBoxModel",
      "state": {
       "children": [
        "IPY_MODEL_4995a20cf9a94569ab29573ca23873bd",
        "IPY_MODEL_4679399e2e4d427385fb4f213bba6975"
       ],
       "layout": "IPY_MODEL_ec1641cb6c294366be755b46b093fc47"
      }
     },
     "c9fba85e51e44faa8670858aebce908b": {
      "model_module": "@jupyter-widgets/base",
      "model_module_version": "2.0.0",
      "model_name": "LayoutModel",
      "state": {
       "height": "25px",
       "margin": "0",
       "padding": "0",
       "width": "25px"
      }
     },
     "ca5e56b64af347b99c47244bd38246e5": {
      "model_module": "@jupyter-widgets/controls",
      "model_module_version": "2.0.0",
      "model_name": "HTMLModel",
      "state": {
       "layout": "IPY_MODEL_a234e9d9fe504c0ea9983f5a0e515bf2",
       "style": "IPY_MODEL_b16e5927e86844f08e6f3cdb659f3234",
       "value": "<div style='height: 16px'></div>"
      }
     },
     "caaabcc436e448cf97683d2ddafefd0c": {
      "model_module": "@jupyter-widgets/base",
      "model_module_version": "2.0.0",
      "model_name": "LayoutModel",
      "state": {
       "height": "25px",
       "margin": "0",
       "padding": "0",
       "width": "25px"
      }
     },
     "cacc42d4e6804f10b001eaedafc9a2c2": {
      "model_module": "@jupyter-widgets/base",
      "model_module_version": "2.0.0",
      "model_name": "LayoutModel",
      "state": {
       "overflow": "auto",
       "width": "50%"
      }
     },
     "cae38661e51c416494258734eeaf51c1": {
      "model_module": "@jupyter-widgets/controls",
      "model_module_version": "2.0.0",
      "model_name": "HTMLStyleModel",
      "state": {
       "description_width": "",
       "font_size": null,
       "text_color": null
      }
     },
     "cb0c1b8d34ac49789c9694a7b370099e": {
      "model_module": "@jupyter-widgets/controls",
      "model_module_version": "2.0.0",
      "model_name": "VBoxModel",
      "state": {
       "children": [
        "IPY_MODEL_b855161259a34dd8960281e464e58f1f",
        "IPY_MODEL_4ac3f9dd1fcd4bc0abee13f4ebd1387f"
       ],
       "layout": "IPY_MODEL_d4bd98d54c7644b7b8bfe58f9afb9a07"
      }
     },
     "cb38a5e789ce493d922edbee6b2ab347": {
      "model_module": "@jupyter-widgets/controls",
      "model_module_version": "2.0.0",
      "model_name": "HTMLModel",
      "state": {
       "layout": "IPY_MODEL_8fd01cf1faa14331aad5453ae02518c4",
       "style": "IPY_MODEL_12a118ca55604e009ba37e9dd1b95245",
       "value": "<span style='color: #5E5A72;'>This would sync <span style='color: #B8520A'>2 changes </span> from <i>Low Node</i> to <i>High Node</i></span>"
      }
     },
     "cb75ff7bf4fd455cbf47879a444cd30d": {
      "model_module": "@jupyter-widgets/controls",
      "model_module_version": "2.0.0",
      "model_name": "HTMLStyleModel",
      "state": {
       "description_width": "",
       "font_size": null,
       "text_color": null
      }
     },
     "cbd07ccd190d4d7ca3dc3c5ede45f039": {
      "model_module": "@jupyter-widgets/base",
      "model_module_version": "2.0.0",
      "model_name": "LayoutModel",
      "state": {
       "overflow": "auto",
       "width": "50%"
      }
     },
     "cbe12891816240dfa3d0c0610ca14a9a": {
      "model_module": "@jupyter-widgets/base",
      "model_module_version": "2.0.0",
      "model_name": "LayoutModel",
      "state": {
       "overflow": "auto",
       "width": "50%"
      }
     },
     "cc14803eda744e11a4786cc2dcca7813": {
      "model_module": "@jupyter-widgets/controls",
      "model_module_version": "2.0.0",
      "model_name": "HTMLModel",
      "state": {
       "layout": "IPY_MODEL_d6c9ab179ddc4bca89da3669b4dab9db",
       "style": "IPY_MODEL_b083f7cc036446d7b6793bc23b56964d",
       "value": "<div style='font-family: monospace; width: 100%;'>From<br><div style='border-left: 1px solid #B4B0BF; padding-left: 10px;'><div style='background-color: #D5F1D5;; color: #256B24;; display: block; white-space: pre-wrap; margin-bottom: 5px;'>service_func_name: compute_mean</div><div style='background-color: #D5F1D5;; color: #256B24;; display: block; white-space: pre-wrap; margin-bottom: 5px;'>input_owners: ['test_l']</div><div style='background-color: #D5F1D5;; color: #256B24;; display: block; white-space: pre-wrap; margin-bottom: 5px;'>code_status: ['Node: test_l, Status: pending']</div><div style='background-color: #D5F1D5;; color: #256B24;; display: block; white-space: pre-wrap; margin-bottom: 5px;'>worker_pool_name: default-pool</div></div></div>"
      }
     },
     "cc471f593531424d8b685b59ac48a802": {
      "model_module": "@jupyter-widgets/controls",
      "model_module_version": "2.0.0",
      "model_name": "HBoxModel",
      "state": {
       "children": [
        "IPY_MODEL_bc76517efc454e28a4a5e068968ee4a4",
        "IPY_MODEL_5165ac67a0d04e4392201391a77b4987"
       ],
       "layout": "IPY_MODEL_97425a85efc045639f867ac8121555f5"
      }
     },
     "cc74829591f349f78940a2cfbbe6f15a": {
      "model_module": "@jupyter-widgets/base",
      "model_module_version": "2.0.0",
      "model_name": "LayoutModel",
      "state": {}
     },
     "cc8d65d0259f48a29f60692c96559b7c": {
      "model_module": "@jupyter-widgets/controls",
      "model_module_version": "2.0.0",
      "model_name": "HTMLStyleModel",
      "state": {
       "description_width": "",
       "font_size": null,
       "text_color": null
      }
     },
     "cca28b0c7a524b478c04ab5834977bd1": {
      "model_module": "@jupyter-widgets/base",
      "model_module_version": "2.0.0",
      "model_name": "LayoutModel",
      "state": {
       "border_bottom": "#353243 solid 0.5px",
       "border_left": "#353243 solid 0.5px",
       "border_right": "#353243 solid 0.5px",
       "border_top": "#353243 solid 0.5px",
       "padding": "16px"
      }
     },
     "cca8b4ce57cb40cf828c56d7d3e697c7": {
      "model_module": "@jupyter-widgets/controls",
      "model_module_version": "2.0.0",
      "model_name": "ButtonStyleModel",
      "state": {
       "button_color": "transparent",
       "font_family": null,
       "font_size": null,
       "font_style": null,
       "font_variant": null,
       "font_weight": null,
       "text_color": "#464A91",
       "text_decoration": null
      }
     },
     "cd71a3722bac465fb044945542adba7e": {
      "model_module": "@jupyter-widgets/controls",
      "model_module_version": "2.0.0",
      "model_name": "AccordionModel",
      "state": {
       "layout": "IPY_MODEL_8cf851eba06d4d47a35b49d3e6dd54cd"
      }
     },
     "cd8796a11033420e938fa5f66b247e24": {
      "model_module": "@jupyter-widgets/base",
      "model_module_version": "2.0.0",
      "model_name": "LayoutModel",
      "state": {}
     },
     "cd95bda39f544df29fcf55111ac991fe": {
      "model_module": "@jupyter-widgets/controls",
      "model_module_version": "2.0.0",
      "model_name": "HTMLModel",
      "state": {
       "layout": "IPY_MODEL_953b33c7f1e44ba6b957383fc63a48c7",
       "style": "IPY_MODEL_4bfcc9133f77441c9d601965b0aa576f",
       "value": "<div style='font-family: monospace; width: 100%;'>To<br><div style='border-left: 1px solid #B4B0BF; padding-left: 10px;'><div style='background-color: #D5F1D5;; color: #256B24;; display: block; white-space: pre-wrap; margin-bottom: 5px;'>service_func_name: </div><div style='background-color: #D5F1D5;; color: #256B24;; display: block; white-space: pre-wrap; margin-bottom: 5px;'>input_owners: </div><div style='background-color: #D5F1D5;; color: #256B24;; display: block; white-space: pre-wrap; margin-bottom: 5px;'>code_status: </div><div style='background-color: #D5F1D5;; color: #256B24;; display: block; white-space: pre-wrap; margin-bottom: 5px;'>worker_pool_name: </div></div></div>"
      }
     },
     "cdb44dfb0602487dae59029790514d7d": {
      "model_module": "@jupyter-widgets/controls",
      "model_module_version": "2.0.0",
      "model_name": "HTMLStyleModel",
      "state": {
       "description_width": "",
       "font_size": null,
       "text_color": null
      }
     },
     "ce0c96db5a4942d494454a06f032ed42": {
      "model_module": "@jupyter-widgets/controls",
      "model_module_version": "2.0.0",
      "model_name": "HBoxModel",
      "state": {
       "children": [
        "IPY_MODEL_95e01490fa69464fb6201d69e797262c",
        "IPY_MODEL_4b795ce89d2a43de8b54a2ffe46d14b6"
       ],
       "layout": "IPY_MODEL_a55d88bfaf524789a1c5b4bab795bb65"
      }
     },
     "ce362eb7952a43a7a60d5bc20c55bfd5": {
      "model_module": "@jupyter-widgets/controls",
      "model_module_version": "2.0.0",
      "model_name": "CheckboxStyleModel",
      "state": {
       "description_width": ""
      }
     },
     "ce7ae4b8c9354bc0b3a41e5586eedbf3": {
      "model_module": "@jupyter-widgets/base",
      "model_module_version": "2.0.0",
      "model_name": "LayoutModel",
      "state": {}
     },
     "ce7c691781cf4e4aa8f46767d6f4834b": {
      "model_module": "@jupyter-widgets/controls",
      "model_module_version": "2.0.0",
      "model_name": "HBoxModel",
      "state": {
       "children": [
        "IPY_MODEL_102dfa4898da4edeb27220f7254c460b",
        "IPY_MODEL_b4be2ecd385d4527991adda6cc85e67b"
       ],
       "layout": "IPY_MODEL_1f6d7a1c6a154a29a0de0f6d587cf31c"
      }
     },
     "ceae8d1d371144518bd88117b65a51bd": {
      "model_module": "@jupyter-widgets/base",
      "model_module_version": "2.0.0",
      "model_name": "LayoutModel",
      "state": {}
     },
     "ced0c2f907a64dc4946b5bc7ca7d3529": {
      "model_module": "@jupyter-widgets/base",
      "model_module_version": "2.0.0",
      "model_name": "LayoutModel",
      "state": {}
     },
     "cf5bbbd0e7a34b6cb055d9e11e631551": {
      "model_module": "@jupyter-widgets/controls",
      "model_module_version": "2.0.0",
      "model_name": "HTMLStyleModel",
      "state": {
       "description_width": "",
       "font_size": null,
       "text_color": null
      }
     },
     "cf82a8afff1540feb1eb475bc33c5021": {
      "model_module": "@jupyter-widgets/controls",
      "model_module_version": "2.0.0",
      "model_name": "HTMLModel",
      "state": {
       "layout": "IPY_MODEL_0baea413b5a84c61ae21e3dfd561a93b",
       "style": "IPY_MODEL_52505c47113d4903947fb3242909caba",
       "value": "<div style='height: 16px;'></div>"
      }
     },
     "cf9f7a40a3a74667a3d02cf7123d8828": {
      "model_module": "@jupyter-widgets/base",
      "model_module_version": "2.0.0",
      "model_name": "LayoutModel",
      "state": {}
     },
     "cfc75de19d6f4356bdeadf954d374b72": {
      "model_module": "@jupyter-widgets/base",
      "model_module_version": "2.0.0",
      "model_name": "LayoutModel",
      "state": {}
     },
     "cfdd671f162f40bdb479f564c9266101": {
      "model_module": "@jupyter-widgets/base",
      "model_module_version": "2.0.0",
      "model_name": "LayoutModel",
      "state": {}
     },
     "d018b2d2f61043a987939f28f28ec202": {
      "model_module": "@jupyter-widgets/controls",
      "model_module_version": "2.0.0",
      "model_name": "HTMLModel",
      "state": {
       "layout": "IPY_MODEL_a158750c758a44b99cbe5545746e8211",
       "style": "IPY_MODEL_0f2ef0f1291a4449be71665d30b8862f",
       "value": "<div style=\"text-align: center; margin: 10px 0; border: 1px dashed #B4B0BF;\"></div>"
      }
     },
     "d05037a9e2e347798e85d5f10902e3f6": {
      "model_module": "@jupyter-widgets/controls",
      "model_module_version": "2.0.0",
      "model_name": "CheckboxModel",
      "state": {
       "description": "Sync",
       "disabled": false,
       "layout": "IPY_MODEL_1ec4c50f27ce48ad9afdc66a05e2e1d4",
       "style": "IPY_MODEL_055801d6c5c44ef1a1625eb557213933",
       "value": false
      }
     },
     "d05c81e91d644c7295c57d578905d9e4": {
      "model_module": "@jupyter-widgets/output",
      "model_module_version": "1.0.0",
      "model_name": "OutputModel",
      "state": {
       "layout": "IPY_MODEL_4d817fe4a58241169fa6f267655fa302"
      }
     },
     "d0870deb5caf4ffc89e95882a8e7f46d": {
      "model_module": "@jupyter-widgets/base",
      "model_module_version": "2.0.0",
      "model_name": "LayoutModel",
      "state": {}
     },
     "d0a68f1b9d93447fb3fa9e515ffbce81": {
      "model_module": "@jupyter-widgets/controls",
      "model_module_version": "2.0.0",
      "model_name": "CheckboxStyleModel",
      "state": {
       "description_width": ""
      }
     },
     "d0d8faca06994c7dad1c41125f9cf47c": {
      "model_module": "@jupyter-widgets/controls",
      "model_module_version": "2.0.0",
      "model_name": "HTMLModel",
      "state": {
       "layout": "IPY_MODEL_63e36eda5e114482bf6b04f93a48ee14",
       "style": "IPY_MODEL_048ea26e561a40fa984a8b29bda814fd",
       "value": "<span style='color: #5E5A72;'>This would sync <span style='color: #B8520A'>2 changes </span> from <i>Low Node</i> to <i>High Node</i></span>"
      }
     },
     "d11c472a1c2847618043b11a0768a4e7": {
      "model_module": "@jupyter-widgets/base",
      "model_module_version": "2.0.0",
      "model_name": "LayoutModel",
      "state": {
       "width": "100%"
      }
     },
     "d11fb8c24cf94f6c8cf76ed88f22609b": {
      "model_module": "@jupyter-widgets/controls",
      "model_module_version": "2.0.0",
      "model_name": "HTMLStyleModel",
      "state": {
       "description_width": "",
       "font_size": null,
       "text_color": null
      }
     },
     "d1866bde3ce04e018992fdeac21e81f4": {
      "model_module": "@jupyter-widgets/base",
      "model_module_version": "2.0.0",
      "model_name": "LayoutModel",
      "state": {
       "margin": "0 5px 0 0"
      }
     },
     "d1dd06d406ec44cbb6fdad4e5047c6ac": {
      "model_module": "@jupyter-widgets/base",
      "model_module_version": "2.0.0",
      "model_name": "LayoutModel",
      "state": {}
     },
     "d21a0067660948b9b5c50ba4f781d3e6": {
      "model_module": "@jupyter-widgets/controls",
      "model_module_version": "2.0.0",
      "model_name": "CheckboxStyleModel",
      "state": {
       "description_width": ""
      }
     },
     "d248c01aeaa04265813c61f9be7a4c6c": {
      "model_module": "@jupyter-widgets/controls",
      "model_module_version": "2.0.0",
      "model_name": "ButtonStyleModel",
      "state": {
       "button_color": "transparent",
       "font_family": null,
       "font_size": null,
       "font_style": null,
       "font_variant": null,
       "font_weight": null,
       "text_color": "#464A91",
       "text_decoration": null
      }
     },
     "d24d5a030a6648e69d530dc835861e8e": {
      "model_module": "@jupyter-widgets/controls",
      "model_module_version": "2.0.0",
      "model_name": "ButtonStyleModel",
      "state": {
       "button_color": "transparent",
       "font_family": null,
       "font_size": null,
       "font_style": null,
       "font_variant": null,
       "font_weight": null,
       "text_color": "#464A91",
       "text_decoration": null
      }
     },
     "d25c0ae84b1d4dc492f43bfd196a4b54": {
      "model_module": "@jupyter-widgets/controls",
      "model_module_version": "2.0.0",
      "model_name": "HTMLStyleModel",
      "state": {
       "description_width": "",
       "font_size": null,
       "text_color": null
      }
     },
     "d2ab40bdca304cdc8f57c9384e22e555": {
      "model_module": "@jupyter-widgets/base",
      "model_module_version": "2.0.0",
      "model_name": "LayoutModel",
      "state": {}
     },
     "d30994e025a9448890f3cfbc382851d5": {
      "model_module": "@jupyter-widgets/controls",
      "model_module_version": "2.0.0",
      "model_name": "HBoxModel",
      "state": {
       "children": [
        "IPY_MODEL_51dfa3c33bfa43d2a5fc9537b65ba9ed",
        "IPY_MODEL_a102e0c6dd0e4c98b7f55b8df2cf257c"
       ],
       "layout": "IPY_MODEL_c92ba7040ec8411fa0940b64d63dc5d6"
      }
     },
     "d3719dd17d6249098983eab887427ad8": {
      "model_module": "@jupyter-widgets/controls",
      "model_module_version": "2.0.0",
      "model_name": "CheckboxModel",
      "state": {
       "description": "Sync",
       "disabled": false,
       "layout": "IPY_MODEL_206d6247aa444cd0ae724cb9c5d1c9c0",
       "style": "IPY_MODEL_899ad62d352e4ed8a3fc60bb3ca5a650",
       "value": false
      }
     },
     "d39553985b3249508ea41cd6ff9781ce": {
      "model_module": "@jupyter-widgets/base",
      "model_module_version": "2.0.0",
      "model_name": "LayoutModel",
      "state": {
       "align_items": "center"
      }
     },
     "d3baed23d2fe4e598b1dc41f0bda048f": {
      "model_module": "@jupyter-widgets/base",
      "model_module_version": "2.0.0",
      "model_name": "LayoutModel",
      "state": {
       "align_items": "center"
      }
     },
     "d3c9f6628b9641a191bbbadff1da4d34": {
      "model_module": "@jupyter-widgets/controls",
      "model_module_version": "2.0.0",
      "model_name": "HTMLModel",
      "state": {
       "layout": "IPY_MODEL_0664e6c50b4c4c06a629e9fe5055e2a1",
       "style": "IPY_MODEL_10cd0bdcfbc1431bbb463f478490d966",
       "value": "<div style='font-family: monospace; width: 100%;'>From<br><div style='border-left: 1px solid #B4B0BF; padding-left: 10px;'><div style='background-color: #D5F1D5;; color: #256B24;; display: block; white-space: pre-wrap; margin-bottom: 5px;'>service_func_name: compute_mean</div><div style='background-color: #D5F1D5;; color: #256B24;; display: block; white-space: pre-wrap; margin-bottom: 5px;'>input_owners: ['test_l']</div><div style='background-color: #D5F1D5;; color: #256B24;; display: block; white-space: pre-wrap; margin-bottom: 5px;'>code_status: ['Node: test_l, Status: pending']</div><div style='background-color: #D5F1D5;; color: #256B24;; display: block; white-space: pre-wrap; margin-bottom: 5px;'>worker_pool_name: default-pool</div></div></div>"
      }
     },
     "d4247a3905b94aaa96f9ef6e492a39e2": {
      "model_module": "@jupyter-widgets/base",
      "model_module_version": "2.0.0",
      "model_name": "LayoutModel",
      "state": {}
     },
     "d440950885a348efae4ced8e72ed855c": {
      "model_module": "@jupyter-widgets/controls",
      "model_module_version": "2.0.0",
      "model_name": "HTMLModel",
      "state": {
       "layout": "IPY_MODEL_5293127d224a4c0fbf96cc5d0888a4d0",
       "style": "IPY_MODEL_20a08f77da244873be855bd4091db188",
       "value": "<div style='height: 16px;'></div>"
      }
     },
     "d479b5db0c744d8e802f07bed62bd884": {
      "model_module": "@jupyter-widgets/controls",
      "model_module_version": "2.0.0",
      "model_name": "VBoxModel",
      "state": {
       "children": [
        "IPY_MODEL_e8e138789cca4828acd1e9d082c6cad9",
        "IPY_MODEL_6b378072b8e14dac8295aecef64bf9c7"
       ],
       "layout": "IPY_MODEL_4161c3a47aaf46c980b63639f85f32b8"
      }
     },
     "d4bd98d54c7644b7b8bfe58f9afb9a07": {
      "model_module": "@jupyter-widgets/base",
      "model_module_version": "2.0.0",
      "model_name": "LayoutModel",
      "state": {
       "border_bottom": "#353243 solid 0.5px",
       "border_left": "#353243 solid 0.5px",
       "border_right": "#353243 solid 0.5px",
       "border_top": "#353243 solid 0.5px",
       "padding": "16px"
      }
     },
     "d54047eebb4347389c5393a43c64db8b": {
      "model_module": "@jupyter-widgets/base",
      "model_module_version": "2.0.0",
      "model_name": "LayoutModel",
      "state": {}
     },
     "d579dc0f38ca4cc19c424cc92b7ad2c9": {
      "model_module": "@jupyter-widgets/base",
      "model_module_version": "2.0.0",
      "model_name": "LayoutModel",
      "state": {
       "overflow": "auto",
       "width": "50%"
      }
     },
     "d585b0e4ed6748da84a11b9c88024bd9": {
      "model_module": "@jupyter-widgets/controls",
      "model_module_version": "2.0.0",
      "model_name": "HTMLModel",
      "state": {
       "layout": "IPY_MODEL_2c13fbc902f8492a87abba96b121a5b0",
       "style": "IPY_MODEL_952280a717774fdfa63e911a1ee3111c",
       "value": "<span style='color: #5E5A72;'>This would sync <span style='color: #B8520A'>2 changes </span> from <i>Low Node</i> to <i>High Node</i></span>"
      }
     },
     "d6057765a4324c4483dccb90ef4cd061": {
      "model_module": "@jupyter-widgets/controls",
      "model_module_version": "2.0.0",
      "model_name": "HTMLStyleModel",
      "state": {
       "description_width": "",
       "font_size": null,
       "text_color": null
      }
     },
     "d614a6265b174bb29a31ef9f154f411a": {
      "model_module": "@jupyter-widgets/output",
      "model_module_version": "1.0.0",
      "model_name": "OutputModel",
      "state": {
       "layout": "IPY_MODEL_94bffc4e7769438ca2a25034d4a85dc9"
      }
     },
     "d670c5fd9be846b4961a1454b0e22da8": {
      "model_module": "@jupyter-widgets/controls",
      "model_module_version": "2.0.0",
      "model_name": "HTMLStyleModel",
      "state": {
       "description_width": "",
       "font_size": null,
       "text_color": null
      }
     },
     "d67a25a82640404580f87761d2916e93": {
      "model_module": "@jupyter-widgets/controls",
      "model_module_version": "2.0.0",
      "model_name": "BoxModel",
      "state": {
       "children": [
        "IPY_MODEL_ed4d9bba79c64383bab87f69dd082218",
        "IPY_MODEL_634b2c39906244359e750acb415d2156"
       ],
       "layout": "IPY_MODEL_33da727c445f4fe7b08a4d985fae6b05"
      }
     },
     "d6b1b601dbb54edda67363a4e9cc01bf": {
      "model_module": "@jupyter-widgets/controls",
      "model_module_version": "2.0.0",
      "model_name": "HTMLModel",
      "state": {
       "layout": "IPY_MODEL_1f379c42c7a9449f8367fa255390d990",
       "style": "IPY_MODEL_045136936527423094ac8ec62e7997bd",
       "value": "A"
      }
     },
     "d6bf3866966344d9993d22231d0adc56": {
      "model_module": "@jupyter-widgets/base",
      "model_module_version": "2.0.0",
      "model_name": "LayoutModel",
      "state": {}
     },
     "d6c6e80c5c5e43af980e2253c0ba21f5": {
      "model_module": "@jupyter-widgets/controls",
      "model_module_version": "2.0.0",
      "model_name": "VBoxModel",
      "state": {
       "children": [
        "IPY_MODEL_2a52d911802042d9a8c874bf103ef70d",
        "IPY_MODEL_7204875bb16043969cd559e7a3f7633e"
       ],
       "layout": "IPY_MODEL_f735a98f948744f3a2bf9dbc9dc17c71"
      }
     },
     "d6c9ab179ddc4bca89da3669b4dab9db": {
      "model_module": "@jupyter-widgets/base",
      "model_module_version": "2.0.0",
      "model_name": "LayoutModel",
      "state": {
       "overflow": "auto",
       "width": "50%"
      }
     },
     "d6dba69988fc408e930fab3e2a4d04c7": {
      "model_module": "@jupyter-widgets/controls",
      "model_module_version": "2.0.0",
      "model_name": "ButtonStyleModel",
      "state": {
       "button_color": "transparent",
       "font_family": null,
       "font_size": null,
       "font_style": null,
       "font_variant": null,
       "font_weight": null,
       "text_color": "#464A91",
       "text_decoration": null
      }
     },
     "d71ac43ec1824e2aac5b284e1ceecb86": {
      "model_module": "@jupyter-widgets/base",
      "model_module_version": "2.0.0",
      "model_name": "LayoutModel",
      "state": {
       "overflow": "auto",
       "width": "50%"
      }
     },
     "d720d000551d41e6bf8d5b7516c6ccc5": {
      "model_module": "@jupyter-widgets/controls",
      "model_module_version": "2.0.0",
      "model_name": "AccordionModel",
      "state": {
       "layout": "IPY_MODEL_7468f1f01500434c9287239d4d67e5f6"
      }
     },
     "d75fca1dc9b24555a855a244a027f9d5": {
      "model_module": "@jupyter-widgets/base",
      "model_module_version": "2.0.0",
      "model_name": "LayoutModel",
      "state": {}
     },
     "d7696c2510e844f0954e97c665339e99": {
      "model_module": "@jupyter-widgets/controls",
      "model_module_version": "2.0.0",
      "model_name": "HTMLModel",
      "state": {
       "layout": "IPY_MODEL_03e6cf2dfc21486fa1c83459bc6c150f",
       "style": "IPY_MODEL_3410c128860d43e7bb55bc83ccdabf2e",
       "value": "<div style='font-family: monospace; width: 100%;'>From<br><div style='border-left: 1px solid #B4B0BF; padding-left: 10px;'><div style='background-color: #D5F1D5;; color: #256B24;; display: block; white-space: pre-wrap; margin-bottom: 5px;'>approved: False</div><div style='background-color: #D5F1D5;; color: #256B24;; display: block; white-space: pre-wrap; margin-bottom: 5px;'>status_dict: {NodeIdentity <name=test_l, id=8e19e3a1, 🔑=1c0590b8>: (<UserCodeStatus.PENDING: 'pending'>, '')}</div></div></div>"
      }
     },
     "d789c4d524374b7596c8ab8831f14666": {
      "model_module": "@jupyter-widgets/base",
      "model_module_version": "2.0.0",
      "model_name": "LayoutModel",
      "state": {}
     },
     "d79871328d544e718d7843609804acd5": {
      "model_module": "@jupyter-widgets/controls",
      "model_module_version": "2.0.0",
      "model_name": "HTMLStyleModel",
      "state": {
       "description_width": "",
       "font_size": null,
       "text_color": null
      }
     },
     "d7c3c39fa3a84051bd8fe24a5d694994": {
      "model_module": "@jupyter-widgets/controls",
      "model_module_version": "2.0.0",
      "model_name": "HTMLModel",
      "state": {
       "layout": "IPY_MODEL_04234b4f7c2d4fb1bc44a0ec0b0e1441",
       "style": "IPY_MODEL_03a6254287b94d4faa82a95cede2fd65",
       "value": "<span style='margin-left: 5px; font-weight: bold; color: #373B7B;'>compute_mean</span> <span style='margin-left: 5px; color: #B4B0BF;'>#1234...</span>"
      }
     },
     "d7c8a6182191457f836271249e01b3dc": {
      "model_module": "@jupyter-widgets/base",
      "model_module_version": "2.0.0",
      "model_name": "LayoutModel",
      "state": {
       "overflow": "auto",
       "width": "50%"
      }
     },
     "d7f5fc56b955494296d97fd78928d4a0": {
      "model_module": "@jupyter-widgets/controls",
      "model_module_version": "2.0.0",
      "model_name": "VBoxModel",
      "state": {
       "children": [
        "IPY_MODEL_a36e7c21543449d6afc59c11ec347ff8",
        "IPY_MODEL_502d5b1a994a4244b8617304e52a1d71"
       ],
       "layout": "IPY_MODEL_b5f85ab88df74a66829e0b73cb598dca"
      }
     },
     "d8035fea39f74d35a4a3540f83a51f2a": {
      "model_module": "@jupyter-widgets/controls",
      "model_module_version": "2.0.0",
      "model_name": "HTMLStyleModel",
      "state": {
       "description_width": "",
       "font_size": null,
       "text_color": null
      }
     },
     "d81889eefa284adb8e77ddc9eb81af69": {
      "model_module": "@jupyter-widgets/base",
      "model_module_version": "2.0.0",
      "model_name": "LayoutModel",
      "state": {}
     },
     "d828961360314a6d8feb152dbe01b9a6": {
      "model_module": "@jupyter-widgets/controls",
      "model_module_version": "2.0.0",
      "model_name": "HTMLModel",
      "state": {
       "layout": "IPY_MODEL_50b7cc2091cf4933a24458e44517fb5f",
       "style": "IPY_MODEL_8c2e70d5cc1e4d7588762caaeb47c805",
       "value": "<span style='background-color: #C2DEF0; border-radius: 4px; padding: 4px 6px; color: #373B7B;'>Code</span>"
      }
     },
     "d837d917510d4f02a092ebad53e10236": {
      "model_module": "@jupyter-widgets/base",
      "model_module_version": "2.0.0",
      "model_name": "LayoutModel",
      "state": {
       "overflow": "auto",
       "width": "50%"
      }
     },
     "d847c67abcaf47f1b176028d5b460df3": {
      "model_module": "@jupyter-widgets/controls",
      "model_module_version": "2.0.0",
      "model_name": "VBoxModel",
      "state": {
       "children": [
        "IPY_MODEL_0a250cfaefc34726aee34845e93506ab",
        "IPY_MODEL_6725d9677bdb41dba3b470757c1e19cc",
        "IPY_MODEL_fa9a2515a56f42cea26139627a64f014",
        "IPY_MODEL_637a6082c34d498daa87b5c284345f4b"
       ],
       "layout": "IPY_MODEL_53c5f1ee9e594a0091171a324fed96dc"
      }
     },
     "d874592c965844b09fa2f8d24fb675e6": {
      "model_module": "@jupyter-widgets/base",
      "model_module_version": "2.0.0",
      "model_name": "LayoutModel",
      "state": {
       "display": "none"
      }
     },
     "d87ad33b3b3548fa907a41d4de79a7c1": {
      "model_module": "@jupyter-widgets/base",
      "model_module_version": "2.0.0",
      "model_name": "LayoutModel",
      "state": {
       "overflow": "auto",
       "width": "50%"
      }
     },
     "d87e5482c72c4078b919c4d3a3541edc": {
      "model_module": "@jupyter-widgets/base",
      "model_module_version": "2.0.0",
      "model_name": "LayoutModel",
      "state": {
       "overflow": "auto",
       "width": "50%"
      }
     },
     "d8b048c3b6cf4934b660237bf4c788a8": {
      "model_module": "@jupyter-widgets/controls",
      "model_module_version": "2.0.0",
      "model_name": "HTMLModel",
      "state": {
       "layout": "IPY_MODEL_c902ab9f1c2f4239a1e2e3038252d657",
       "style": "IPY_MODEL_20bf7be4581c4d91b4a0eee5440bc722",
       "value": "A"
      }
     },
     "d8b52d270fc94ed7919c0a39bfa22a12": {
      "model_module": "@jupyter-widgets/controls",
      "model_module_version": "2.0.0",
      "model_name": "CheckboxModel",
      "state": {
       "description": "Sync",
       "disabled": false,
       "layout": "IPY_MODEL_7957dd57d51540718b99e13eaf27156c",
       "style": "IPY_MODEL_32b587875a0340d39d8c50790d1a01fe",
       "value": false
      }
     },
     "d8d4ce4a3c6e41d2bc399e1102d6f988": {
      "model_module": "@jupyter-widgets/controls",
      "model_module_version": "2.0.0",
      "model_name": "HTMLModel",
      "state": {
       "layout": "IPY_MODEL_a2629d71cf0d461dbda1765e8ce5ba99",
       "style": "IPY_MODEL_0bd87706580e4d409e9f97b13bdfa1d5",
       "value": "<div style='height: 16px'></div>"
      }
     },
     "d902bde0e1eb4fc3a8f9081267f8dfe6": {
      "model_module": "@jupyter-widgets/base",
      "model_module_version": "2.0.0",
      "model_name": "LayoutModel",
      "state": {}
     },
     "d9af430bae4a4ddaa7cea71e09c6ab9d": {
      "model_module": "@jupyter-widgets/controls",
      "model_module_version": "2.0.0",
      "model_name": "HTMLStyleModel",
      "state": {
       "description_width": "",
       "font_size": null,
       "text_color": null
      }
     },
     "d9d394c584c6435485fef007055aed47": {
      "model_module": "@jupyter-widgets/base",
      "model_module_version": "2.0.0",
      "model_name": "LayoutModel",
      "state": {}
     },
     "da0f9521f2b94b0bba11c124aaf323a6": {
      "model_module": "@jupyter-widgets/controls",
      "model_module_version": "2.0.0",
      "model_name": "VBoxModel",
      "state": {
       "children": [
        "IPY_MODEL_88d01c766ae643c0819d96799d890875",
        "IPY_MODEL_a8a4115e988046a0abc1219026365731"
       ],
       "layout": "IPY_MODEL_dce38fd58a51489eabf55b6c11b962df"
      }
     },
     "da2827120f3a43958edf5fc4e0964ec6": {
      "model_module": "@jupyter-widgets/controls",
      "model_module_version": "2.0.0",
      "model_name": "HTMLModel",
      "state": {
       "layout": "IPY_MODEL_b2075972ec9a4ff4abbe48d0cdfe2968",
       "style": "IPY_MODEL_859fb2784c05484cb31ba29daffe0740",
       "value": "<span style='background-color: #C2DEF0; border-radius: 4px; padding: 4px 6px; color: #373B7B;'>Code</span>"
      }
     },
     "da30e830db9843e7ad3143594eea47c8": {
      "model_module": "@jupyter-widgets/controls",
      "model_module_version": "2.0.0",
      "model_name": "AccordionModel",
      "state": {
       "children": [
        "IPY_MODEL_6c1ee5346c1549089564a2adc049f088"
       ],
       "layout": "IPY_MODEL_72664839f8e14c578510796f218245f7",
       "titles": [
        "UserCodeStatusCollection (2 changes)"
       ]
      }
     },
     "da8095df3b8a43e9b77b139215ff03eb": {
      "model_module": "@jupyter-widgets/controls",
      "model_module_version": "2.0.0",
      "model_name": "CheckboxModel",
      "state": {
       "description": "Sync",
       "disabled": false,
       "layout": "IPY_MODEL_dce9e5e6598247b69edff70b5914b873",
       "style": "IPY_MODEL_b1a4260e767a453b9dba1137cbaa220d",
       "value": false
      }
     },
     "da854e03762546f0802f27a3cd16d5e6": {
      "model_module": "@jupyter-widgets/output",
      "model_module_version": "1.0.0",
      "model_name": "OutputModel",
      "state": {
       "layout": "IPY_MODEL_c0dffc64d9954457a9d103803faf1a21"
      }
     },
     "da9e8fad36a0482bbbda0c55b277f747": {
      "model_module": "@jupyter-widgets/controls",
      "model_module_version": "2.0.0",
      "model_name": "HTMLStyleModel",
      "state": {
       "description_width": "",
       "font_size": null,
       "text_color": null
      }
     },
     "daab15e85596487998cdd2b0ffb9b486": {
      "model_module": "@jupyter-widgets/controls",
      "model_module_version": "2.0.0",
      "model_name": "AccordionModel",
      "state": {
       "layout": "IPY_MODEL_376142bd94bb40d795d0913be71fa60d"
      }
     },
     "daac8a9c9d25469ea9dc4c8b87f58659": {
      "model_module": "@jupyter-widgets/controls",
      "model_module_version": "2.0.0",
      "model_name": "CheckboxModel",
      "state": {
       "description": "Sync",
       "disabled": false,
       "layout": "IPY_MODEL_7f0c3b20f7f64f1b9f09b5ad0987577b",
       "style": "IPY_MODEL_b90d7b93327b4450baf7a3f78a3145a5",
       "value": false
      }
     },
     "daacdb5de7a141158d78ab644a93fe77": {
      "model_module": "@jupyter-widgets/base",
      "model_module_version": "2.0.0",
      "model_name": "LayoutModel",
      "state": {}
     },
     "dac15e74acf94621bd4cb03d5c9219bc": {
      "model_module": "@jupyter-widgets/controls",
      "model_module_version": "2.0.0",
      "model_name": "ButtonModel",
      "state": {
       "description": "Sync Selected Changes",
       "layout": "IPY_MODEL_7f674b4c3d5245bbaaad4be77e7888c4",
       "style": "IPY_MODEL_d24d5a030a6648e69d530dc835861e8e",
       "tooltip": null
      }
     },
     "db140db89cf54ef49608e2f5ea9c868f": {
      "model_module": "@jupyter-widgets/controls",
      "model_module_version": "2.0.0",
      "model_name": "VBoxModel",
      "state": {
       "children": [
        "IPY_MODEL_5d204bd963ab4e5bbdb0634e556e59f6",
        "IPY_MODEL_8cce32abaf8b4b3495c400c5bdaccafb"
       ],
       "layout": "IPY_MODEL_061a80184da44b5285be139eb1720f55"
      }
     },
     "db632c82da1f4ad49f70997365fa523b": {
      "model_module": "@jupyter-widgets/base",
      "model_module_version": "2.0.0",
      "model_name": "LayoutModel",
      "state": {
       "overflow": "auto",
       "width": "50%"
      }
     },
     "db6d59d96c5c4c7b81688d71ae47b623": {
      "model_module": "@jupyter-widgets/base",
      "model_module_version": "2.0.0",
      "model_name": "LayoutModel",
      "state": {
       "overflow": "auto",
       "width": "50%"
      }
     },
     "db72bd9ddd3c4785b73d6733a7f3fcf5": {
      "model_module": "@jupyter-widgets/controls",
      "model_module_version": "2.0.0",
      "model_name": "HTMLStyleModel",
      "state": {
       "description_width": "",
       "font_size": null,
       "text_color": null
      }
     },
     "db84086724324a7e97056d75d9dbda41": {
      "model_module": "@jupyter-widgets/controls",
      "model_module_version": "2.0.0",
      "model_name": "HTMLModel",
      "state": {
       "layout": "IPY_MODEL_d4247a3905b94aaa96f9ef6e492a39e2",
       "style": "IPY_MODEL_3ae4c938cbf1475a87f18203abe7ea3f",
       "value": "<div style='height: 16px'></div>"
      }
     },
     "dbd51bde689c47c3999bd230be42a475": {
      "model_module": "@jupyter-widgets/controls",
      "model_module_version": "2.0.0",
      "model_name": "AccordionModel",
      "state": {
       "children": [
        "IPY_MODEL_02cf3399373245d292219e3aa7ceb700"
       ],
       "layout": "IPY_MODEL_5d4591c13f9f4e54a2625f7e48733abc",
       "titles": [
        "UserCodeStatusCollection (2 changes)"
       ]
      }
     },
     "dc07db269da644b9ab52f03f5d63e336": {
      "model_module": "@jupyter-widgets/base",
      "model_module_version": "2.0.0",
      "model_name": "LayoutModel",
      "state": {
       "overflow": "auto",
       "width": "50%"
      }
     },
     "dc478df5c2d74e0cb36b28bb64551aac": {
      "model_module": "@jupyter-widgets/base",
      "model_module_version": "2.0.0",
      "model_name": "LayoutModel",
      "state": {}
     },
     "dc9d3f6ac5d644149dfb26c9cdc45f86": {
      "model_module": "@jupyter-widgets/controls",
      "model_module_version": "2.0.0",
      "model_name": "CheckboxModel",
      "state": {
       "description": "Sync",
       "disabled": false,
       "layout": "IPY_MODEL_dde4cbdd073346f6b9f16a3ca11de18c",
       "style": "IPY_MODEL_7a8be91fd1ea473aac3c660bbba31e6d",
       "value": false
      }
     },
     "dcac0f6ccb4448e3af34068614fba885": {
      "model_module": "@jupyter-widgets/controls",
      "model_module_version": "2.0.0",
      "model_name": "ButtonModel",
      "state": {
       "icon": "clone",
       "layout": "IPY_MODEL_494eed401de644338803a1eab4d2a21c",
       "style": "IPY_MODEL_c29179cab230499fb7793f3758f47e0f",
       "tooltip": null
      }
     },
     "dcdc80a1beb14a2292963c47d764c0d0": {
      "model_module": "@jupyter-widgets/controls",
      "model_module_version": "2.0.0",
      "model_name": "HTMLStyleModel",
      "state": {
       "description_width": "",
       "font_size": null,
       "text_color": null
      }
     },
     "dce38fd58a51489eabf55b6c11b962df": {
      "model_module": "@jupyter-widgets/base",
      "model_module_version": "2.0.0",
      "model_name": "LayoutModel",
      "state": {}
     },
     "dce9e5e6598247b69edff70b5914b873": {
      "model_module": "@jupyter-widgets/base",
      "model_module_version": "2.0.0",
      "model_name": "LayoutModel",
      "state": {}
     },
     "dd67e5e776934ffea47fdf3184542f4e": {
      "model_module": "@jupyter-widgets/controls",
      "model_module_version": "2.0.0",
      "model_name": "HBoxModel",
      "state": {
       "children": [
        "IPY_MODEL_f385a66239bb4b5aa97c7fde3f527125",
        "IPY_MODEL_0ecf965c05db410ab105c56f4fccbfbb"
       ],
       "layout": "IPY_MODEL_8b38ebf319014106b2433ed5b071df77"
      }
     },
     "dd8540179f434d86bdf0aeb26ebdab88": {
      "model_module": "@jupyter-widgets/base",
      "model_module_version": "2.0.0",
      "model_name": "LayoutModel",
      "state": {
       "overflow": "auto",
       "width": "50%"
      }
     },
     "dd8bcbedb45f4c00b9c842fccb8048e9": {
      "model_module": "@jupyter-widgets/controls",
      "model_module_version": "2.0.0",
      "model_name": "CheckboxStyleModel",
      "state": {
       "description_width": ""
      }
     },
     "dde4cbdd073346f6b9f16a3ca11de18c": {
      "model_module": "@jupyter-widgets/base",
      "model_module_version": "2.0.0",
      "model_name": "LayoutModel",
      "state": {}
     },
     "de33dea77b074b41a7aef92ccc85ed6c": {
      "model_module": "@jupyter-widgets/controls",
      "model_module_version": "2.0.0",
      "model_name": "BoxModel",
      "state": {
       "children": [
        "IPY_MODEL_a6bfdb456faf4e41b47b5d15883aae19",
        "IPY_MODEL_a18f0e0e38e943849ec8d704373063cb"
       ],
       "layout": "IPY_MODEL_3da48c6973fd469daf2a7a212da3594f"
      }
     },
     "de3bc13af3fe44028f66e0b24426be97": {
      "model_module": "@jupyter-widgets/controls",
      "model_module_version": "2.0.0",
      "model_name": "BoxModel",
      "state": {
       "children": [
        "IPY_MODEL_806216b55dcd403b8e83fe7a3f94d206",
        "IPY_MODEL_e75b462267de4918b1246fb6019684b8"
       ],
       "layout": "IPY_MODEL_0f847a6c0ed644849a4d671e956fb4de"
      }
     },
     "dea22dd0d939435986b7c2d2b2b48604": {
      "model_module": "@jupyter-widgets/base",
      "model_module_version": "2.0.0",
      "model_name": "LayoutModel",
      "state": {}
     },
     "deab8a48c9be43efb9152a325cb6fcdc": {
      "model_module": "@jupyter-widgets/controls",
      "model_module_version": "2.0.0",
      "model_name": "HTMLModel",
      "state": {
       "layout": "IPY_MODEL_9beeca5ea496446892c81b07fb8f026a",
       "style": "IPY_MODEL_6921d31d009a444d9ca90bcebcfc81fc",
       "value": "<div style='font-family: monospace; width: 100%;'>To<br><div style='border-left: 1px solid #B4B0BF; padding-left: 10px;'><div style='background-color: #D5F1D5;; color: #256B24;; display: block; white-space: pre-wrap; margin-bottom: 5px;'>approved: </div><div style='background-color: #D5F1D5;; color: #256B24;; display: block; white-space: pre-wrap; margin-bottom: 5px;'>status_dict: </div></div></div>"
      }
     },
     "dec43e4ba6404215906a452e771d9cc0": {
      "model_module": "@jupyter-widgets/base",
      "model_module_version": "2.0.0",
      "model_name": "LayoutModel",
      "state": {}
     },
     "df178ef01ad64d4a863bf36b87e6f8c3": {
      "model_module": "@jupyter-widgets/controls",
      "model_module_version": "2.0.0",
      "model_name": "HTMLModel",
      "state": {
       "layout": "IPY_MODEL_0e3c201ade0a4c888c2d0943fbef7e53",
       "style": "IPY_MODEL_33ffabbcdf8448f68de8a72f86d2d034",
       "value": "A"
      }
     },
     "df349e4c98e54d17bf4bf67447f43f76": {
      "model_module": "@jupyter-widgets/controls",
      "model_module_version": "2.0.0",
      "model_name": "HTMLStyleModel",
      "state": {
       "description_width": "",
       "font_size": null,
       "text_color": null
      }
     },
     "dfb65c8921a3450888c9f9b690ea101d": {
      "model_module": "@jupyter-widgets/base",
      "model_module_version": "2.0.0",
      "model_name": "LayoutModel",
      "state": {}
     },
     "dfca5440f26a4682b2ab6f2e9d3e70d8": {
      "model_module": "@jupyter-widgets/base",
      "model_module_version": "2.0.0",
      "model_name": "LayoutModel",
      "state": {}
     },
     "dfdb29addfd943e7b32ef813b2e69a42": {
      "model_module": "@jupyter-widgets/controls",
      "model_module_version": "2.0.0",
      "model_name": "HTMLModel",
      "state": {
       "layout": "IPY_MODEL_fc278dc53105450ba76fa00d32b51038",
       "style": "IPY_MODEL_3ad4d3303df5416b898dc4c9dbf0b291",
       "value": "<span style='background-color: #C2DEF0; border-radius: 4px; padding: 4px 6px; color: #373B7B;'>Code</span>"
      }
     },
     "e0038fb76d2e4146a4fc9fa69fd21cf8": {
      "model_module": "@jupyter-widgets/controls",
      "model_module_version": "2.0.0",
      "model_name": "CheckboxStyleModel",
      "state": {
       "description_width": ""
      }
     },
     "e01f2812a8604384a38dd33801c1eb96": {
      "model_module": "@jupyter-widgets/base",
      "model_module_version": "2.0.0",
      "model_name": "LayoutModel",
      "state": {
       "display": "none"
      }
     },
     "e050bda1087a4257b367a724508698da": {
      "model_module": "@jupyter-widgets/controls",
      "model_module_version": "2.0.0",
      "model_name": "HTMLModel",
      "state": {
       "layout": "IPY_MODEL_e394516d79b54f4cbc1e6799734c9663",
       "style": "IPY_MODEL_ef0ba2e73e1743ca9746824b1483947a",
       "value": "<div style='font-family: monospace; width: 100%;'>To<br><div style='border-left: 1px solid #B4B0BF; padding-left: 10px;'><div style='background-color: #D5F1D5;; color: #256B24;; display: block; white-space: pre-wrap; margin-bottom: 5px;'>service_func_name: </div><div style='background-color: #D5F1D5;; color: #256B24;; display: block; white-space: pre-wrap; margin-bottom: 5px;'>input_owners: </div><div style='background-color: #D5F1D5;; color: #256B24;; display: block; white-space: pre-wrap; margin-bottom: 5px;'>code_status: </div><div style='background-color: #D5F1D5;; color: #256B24;; display: block; white-space: pre-wrap; margin-bottom: 5px;'>worker_pool_name: </div></div></div>"
      }
     },
     "e0781815ef2c44cbab543b068b5e361e": {
      "model_module": "@jupyter-widgets/base",
      "model_module_version": "2.0.0",
      "model_name": "LayoutModel",
      "state": {}
     },
     "e0909ca0d6744a5fa2da32e1c6f06779": {
      "model_module": "@jupyter-widgets/controls",
      "model_module_version": "2.0.0",
      "model_name": "CheckboxModel",
      "state": {
       "description": "Sync",
       "disabled": false,
       "layout": "IPY_MODEL_5222ac9895684a6c9b9b7da6c9496af4",
       "style": "IPY_MODEL_9aec92e24e9a4052bae6234e56ee8b95",
       "value": false
      }
     },
     "e0de4c35fd57464f8bcfe1e2cecd58ad": {
      "model_module": "@jupyter-widgets/controls",
      "model_module_version": "2.0.0",
      "model_name": "VBoxModel",
      "state": {
       "children": [
        "IPY_MODEL_7ebb3ecdd4d14b9fadb034e33c99ec3d",
        "IPY_MODEL_1c8c1a367c854e1fa4ba5d2326d3bfc6"
       ],
       "layout": "IPY_MODEL_70a606f52cd24656b04f2ab80fc4c882"
      }
     },
     "e108ed6a277b4b8db4f91a091ad52d15": {
      "model_module": "@jupyter-widgets/base",
      "model_module_version": "2.0.0",
      "model_name": "LayoutModel",
      "state": {
       "overflow": "auto",
       "width": "50%"
      }
     },
     "e2425e696ff8401da8ce64d357e434c5": {
      "model_module": "@jupyter-widgets/base",
      "model_module_version": "2.0.0",
      "model_name": "LayoutModel",
      "state": {}
     },
     "e24408e111d84e1f93d0ce571fff75ee": {
      "model_module": "@jupyter-widgets/base",
      "model_module_version": "2.0.0",
      "model_name": "LayoutModel",
      "state": {}
     },
     "e29ba7edef4c407fa6fabf12828c4e34": {
      "model_module": "@jupyter-widgets/controls",
      "model_module_version": "2.0.0",
      "model_name": "HTMLModel",
      "state": {
       "layout": "IPY_MODEL_677c84e0c4c2467ab08f00024695d8de",
       "style": "IPY_MODEL_09e6ada7a90a4214bff47255fad46013",
       "value": "<div style='height: 16px'></div>"
      }
     },
     "e2fedbd9ba3c41dcaabd2ec8c49e25c7": {
      "model_module": "@jupyter-widgets/controls",
      "model_module_version": "2.0.0",
      "model_name": "AccordionModel",
      "state": {
       "children": [
        "IPY_MODEL_90ee2f6930e14a60af8a4286aace541a"
       ],
       "layout": "IPY_MODEL_af6498f075fc449db31da8c2c7421625",
       "titles": [
        "UserCodeStatusCollection (2 changes)"
       ]
      }
     },
     "e31ca988998b4dcdaaba6ce7ed31b2f7": {
      "model_module": "@jupyter-widgets/base",
      "model_module_version": "2.0.0",
      "model_name": "LayoutModel",
      "state": {}
     },
     "e328a752e8e94d4ab826e8f831c0993b": {
      "model_module": "@jupyter-widgets/controls",
      "model_module_version": "2.0.0",
      "model_name": "HTMLModel",
      "state": {
       "layout": "IPY_MODEL_337b4f88ddd34519bb8732b62f721a5d",
       "style": "IPY_MODEL_50a71116b1e440dcaa1be956311d01c0",
       "value": "A"
      }
     },
     "e360b4cca8c04ae4acbba760a98ac68a": {
      "model_module": "@jupyter-widgets/controls",
      "model_module_version": "2.0.0",
      "model_name": "HBoxModel",
      "state": {
       "children": [
        "IPY_MODEL_56041a6fc0fb4fd88c64cf789fb405be"
       ],
       "layout": "IPY_MODEL_08203ae4c96540ada387698d567562c0"
      }
     },
     "e38ac2b733874b9d8cf0935775ff9597": {
      "model_module": "@jupyter-widgets/controls",
      "model_module_version": "2.0.0",
      "model_name": "HTMLModel",
      "state": {
       "layout": "IPY_MODEL_c063a82776ae457698720abdc0595523",
       "style": "IPY_MODEL_c4b0cb022718490db183ad0610322af7",
       "value": "<div style='font-family: monospace; width: 100%;'>To<br><div style='border-left: 1px solid #B4B0BF; padding-left: 10px;'><div style='background-color: #D5F1D5;; color: #256B24;; display: block; white-space: pre-wrap; margin-bottom: 5px;'>approved: </div><div style='background-color: #D5F1D5;; color: #256B24;; display: block; white-space: pre-wrap; margin-bottom: 5px;'>status_dict: </div></div></div>"
      }
     },
     "e394516d79b54f4cbc1e6799734c9663": {
      "model_module": "@jupyter-widgets/base",
      "model_module_version": "2.0.0",
      "model_name": "LayoutModel",
      "state": {
       "overflow": "auto",
       "width": "50%"
      }
     },
     "e39d018dc1574695aa2d4dd5a52dd64e": {
      "model_module": "@jupyter-widgets/controls",
      "model_module_version": "2.0.0",
      "model_name": "HTMLModel",
      "state": {
       "layout": "IPY_MODEL_161b27be3adc4a27969a88c1dc761fbd",
       "style": "IPY_MODEL_f8452358626545cf86db28d15e669bde",
       "value": "<span style='background-color: #C2DEF0; border-radius: 4px; padding: 4px 6px; color: #373B7B;'>Code</span>"
      }
     },
     "e3b7db60596046168cc84e93e11092a1": {
      "model_module": "@jupyter-widgets/base",
      "model_module_version": "2.0.0",
      "model_name": "LayoutModel",
      "state": {
       "width": "100%"
      }
     },
     "e44264d565c64b6dbedfd1f3c2f3b5e2": {
      "model_module": "@jupyter-widgets/controls",
      "model_module_version": "2.0.0",
      "model_name": "ButtonModel",
      "state": {
       "description": "Sync Selected Changes",
       "layout": "IPY_MODEL_7b0c6d5ac83c45f9a602d1453cdfafba",
       "style": "IPY_MODEL_babd8d6b3e324a10b7536f4c230e5042",
       "tooltip": null
      }
     },
     "e44a2842c27447539ddb3e56fb2c58bc": {
      "model_module": "@jupyter-widgets/controls",
      "model_module_version": "2.0.0",
      "model_name": "HTMLStyleModel",
      "state": {
       "description_width": "",
       "font_size": null,
       "text_color": null
      }
     },
     "e44b8c9627334f019475ad9c7689afeb": {
      "model_module": "@jupyter-widgets/controls",
      "model_module_version": "2.0.0",
      "model_name": "HBoxModel",
      "state": {
       "children": [
        "IPY_MODEL_7f83722ee63d4b25954489b184ea31a5",
        "IPY_MODEL_b7201c157045451287334531e3af205a"
       ],
       "layout": "IPY_MODEL_c4929e28bbf943efae965d1515521714"
      }
     },
     "e44f7faf2f444db598a16b2a776eb7ba": {
      "model_module": "@jupyter-widgets/base",
      "model_module_version": "2.0.0",
      "model_name": "LayoutModel",
      "state": {
       "overflow": "auto",
       "width": "50%"
      }
     },
     "e45734b07cb5421bb39676f8867fdf50": {
      "model_module": "@jupyter-widgets/controls",
      "model_module_version": "2.0.0",
      "model_name": "HTMLModel",
      "state": {
       "layout": "IPY_MODEL_cbd07ccd190d4d7ca3dc3c5ede45f039",
       "style": "IPY_MODEL_49e191d020cb443d983f89e96b9226d1",
       "value": "<div style='font-family: monospace; width: 100%;'>From<br><div style='border-left: 1px solid #B4B0BF; padding-left: 10px;'><div style='background-color: #D5F1D5;; color: #256B24;; display: block; white-space: pre-wrap; margin-bottom: 5px;'>approved: False</div><div style='background-color: #D5F1D5;; color: #256B24;; display: block; white-space: pre-wrap; margin-bottom: 5px;'>status_dict: {NodeIdentity <name=test_l, id=8e19e3a1, 🔑=1c0590b8>: (<UserCodeStatus.PENDING: 'pending'>, '')}</div></div></div>"
      }
     },
     "e48c1fed4f9b4db88cacc313e594ffbf": {
      "model_module": "@jupyter-widgets/controls",
      "model_module_version": "2.0.0",
      "model_name": "HTMLStyleModel",
      "state": {
       "description_width": "",
       "font_size": null,
       "text_color": null
      }
     },
     "e4ef31a08f8c4d31a58d4e478cb9c35e": {
      "model_module": "@jupyter-widgets/controls",
      "model_module_version": "2.0.0",
      "model_name": "HTMLModel",
      "state": {
       "layout": "IPY_MODEL_1d1b954617314a6a9aed11c2299447cf",
       "style": "IPY_MODEL_17495ce0c6f34ecdaa249d805c174e67",
       "value": "<div style='height: 16px;'></div>"
      }
     },
     "e53431d3a3424ecfa4779060d18c7800": {
      "model_module": "@jupyter-widgets/controls",
      "model_module_version": "2.0.0",
      "model_name": "HTMLModel",
      "state": {
       "layout": "IPY_MODEL_56ffb3bb99964b24a648e34a8b89fc20",
       "style": "IPY_MODEL_a8e361669eb342b0ba0deea69fff0aa8",
       "value": "<div style=\"text-align: center; margin: 10px 0; border: 1px dashed #B4B0BF;\"></div>"
      }
     },
     "e54cd41f490a43698acc7bd2478c1d96": {
      "model_module": "@jupyter-widgets/base",
      "model_module_version": "2.0.0",
      "model_name": "LayoutModel",
      "state": {
       "border_bottom": "#464A91 solid 1.5px",
       "border_left": "#464A91 solid 1.5px",
       "border_right": "#464A91 solid 1.5px",
       "border_top": "#464A91 solid 1.5px",
       "width": "200px"
      }
     },
     "e5f07ec01ee34622bedcf650defee30e": {
      "model_module": "@jupyter-widgets/base",
      "model_module_version": "2.0.0",
      "model_name": "LayoutModel",
      "state": {}
     },
     "e60464d8457b4d91a173d3aef170c17e": {
      "model_module": "@jupyter-widgets/base",
      "model_module_version": "2.0.0",
      "model_name": "LayoutModel",
      "state": {
       "width": "100%"
      }
     },
     "e6728b311efc44eba1440dfcf17bfc3d": {
      "model_module": "@jupyter-widgets/controls",
      "model_module_version": "2.0.0",
      "model_name": "CheckboxStyleModel",
      "state": {
       "description_width": ""
      }
     },
     "e6a535366ad446f8afe268b083e6f697": {
      "model_module": "@jupyter-widgets/controls",
      "model_module_version": "2.0.0",
      "model_name": "HTMLStyleModel",
      "state": {
       "description_width": "",
       "font_size": null,
       "text_color": null
      }
     },
     "e6e537fb873a4ca5b99fb61b210842fe": {
      "model_module": "@jupyter-widgets/controls",
      "model_module_version": "2.0.0",
      "model_name": "HTMLModel",
      "state": {
       "layout": "IPY_MODEL_8e095967a51e488eb27d554b63391821",
       "style": "IPY_MODEL_7cd43445afe04342b99905aa81655596",
       "value": "<div style='height: 16px;'></div>"
      }
     },
     "e6f180b41b624fb0a96266f48881d482": {
      "model_module": "@jupyter-widgets/controls",
      "model_module_version": "2.0.0",
      "model_name": "CheckboxStyleModel",
      "state": {
       "description_width": ""
      }
     },
     "e7062b78b3f243bcaafe3575c3daca45": {
      "model_module": "@jupyter-widgets/controls",
      "model_module_version": "2.0.0",
      "model_name": "HTMLModel",
      "state": {
       "layout": "IPY_MODEL_24fcaee2e31b47448c0780d7b20fc431",
       "style": "IPY_MODEL_a0c17aad9f3647308d55a8e82ef4ebe8",
       "value": "<div style='font-family: monospace; width: 100%;'>To<br><div style='border-left: 1px solid #B4B0BF; padding-left: 10px;'><div style='background-color: #D5F1D5;; color: #256B24;; display: block; white-space: pre-wrap; margin-bottom: 5px;'>approved: </div><div style='background-color: #D5F1D5;; color: #256B24;; display: block; white-space: pre-wrap; margin-bottom: 5px;'>status_dict: </div></div></div>"
      }
     },
     "e706b41179964d54b4de79bc93aa029b": {
      "model_module": "@jupyter-widgets/controls",
      "model_module_version": "2.0.0",
      "model_name": "HTMLModel",
      "state": {
       "layout": "IPY_MODEL_cfdd671f162f40bdb479f564c9266101",
       "style": "IPY_MODEL_a5d037682db9437ebf7b2be9930957a6",
       "value": "<span style='color: #B4B0BF;'>Syncing changes on</span>"
      }
     },
     "e732f60b570c457d90f7774d502981db": {
      "model_module": "@jupyter-widgets/controls",
      "model_module_version": "2.0.0",
      "model_name": "HTMLModel",
      "state": {
       "layout": "IPY_MODEL_4c61a200bae8462d91241e8ff81d0c43",
       "style": "IPY_MODEL_2abaedbd45a24e29ac257f4a6a454930",
       "value": "<span style='color: #5E5A72;'>This would sync <span style='color: #B8520A'>2 changes </span> from <i>Low Node</i> to <i>High Node</i></span>"
      }
     },
     "e733f0bb3f094eb792e1cbb00716c0f6": {
      "model_module": "@jupyter-widgets/base",
      "model_module_version": "2.0.0",
      "model_name": "LayoutModel",
      "state": {
       "width": "100%"
      }
     },
     "e74fe484aeb048b4b36ed64db0472d91": {
      "model_module": "@jupyter-widgets/controls",
      "model_module_version": "2.0.0",
      "model_name": "HTMLStyleModel",
      "state": {
       "description_width": "",
       "font_size": null,
       "text_color": null
      }
     },
     "e75b462267de4918b1246fb6019684b8": {
      "model_module": "@jupyter-widgets/output",
      "model_module_version": "1.0.0",
      "model_name": "OutputModel",
      "state": {
       "layout": "IPY_MODEL_bb0a6a520341457db5facb26b3970b16"
      }
     },
     "e7a9e82f66754366ada86818caffa155": {
      "model_module": "@jupyter-widgets/base",
      "model_module_version": "2.0.0",
      "model_name": "LayoutModel",
      "state": {
       "overflow": "auto",
       "width": "50%"
      }
     },
     "e899ebd2876d4602abfba59552a94a84": {
      "model_module": "@jupyter-widgets/base",
      "model_module_version": "2.0.0",
      "model_name": "LayoutModel",
      "state": {}
     },
     "e8e138789cca4828acd1e9d082c6cad9": {
      "model_module": "@jupyter-widgets/controls",
      "model_module_version": "2.0.0",
      "model_name": "HBoxModel",
      "state": {
       "children": [
        "IPY_MODEL_e0909ca0d6744a5fa2da32e1c6f06779"
       ],
       "layout": "IPY_MODEL_3e8f930c831b4bfe95dd828650050d55"
      }
     },
     "e9216f7fd5ba450abb42d3b04ad56a4c": {
      "model_module": "@jupyter-widgets/output",
      "model_module_version": "1.0.0",
      "model_name": "OutputModel",
      "state": {
       "layout": "IPY_MODEL_450b59654572459d82565752dfc43d86"
      }
     },
     "e969bad4dfc44509bdd4e9db6a0fd333": {
      "model_module": "@jupyter-widgets/base",
      "model_module_version": "2.0.0",
      "model_name": "LayoutModel",
      "state": {}
     },
     "e9a57a5b858e4515b03a5046b9d0f275": {
      "model_module": "@jupyter-widgets/controls",
      "model_module_version": "2.0.0",
      "model_name": "ButtonModel",
      "state": {
       "icon": "clone",
       "layout": "IPY_MODEL_31044cb78ab041e29dc08e3ac8a4f749",
       "style": "IPY_MODEL_2c1226db7cde4517ae2f4205d48c3344",
       "tooltip": null
      }
     },
     "ea4db0a119714c8ca9a3981045ee6503": {
      "model_module": "@jupyter-widgets/base",
      "model_module_version": "2.0.0",
      "model_name": "LayoutModel",
      "state": {}
     },
     "eaa97907eb3247b3b52221c5d615fece": {
      "model_module": "@jupyter-widgets/controls",
      "model_module_version": "2.0.0",
      "model_name": "HTMLModel",
      "state": {
       "layout": "IPY_MODEL_e44f7faf2f444db598a16b2a776eb7ba",
       "style": "IPY_MODEL_1a53834f2e694583adef2479bf8fbda1",
       "value": "<div style='font-family: monospace; width: 100%;'>To<br><div style='border-left: 1px solid #B4B0BF; padding-left: 10px;'><div style='background-color: #D5F1D5;; color: #256B24;; display: block; white-space: pre-wrap; margin-bottom: 5px;'>service_func_name: </div><div style='background-color: #D5F1D5;; color: #256B24;; display: block; white-space: pre-wrap; margin-bottom: 5px;'>input_owners: </div><div style='background-color: #D5F1D5;; color: #256B24;; display: block; white-space: pre-wrap; margin-bottom: 5px;'>code_status: </div><div style='background-color: #D5F1D5;; color: #256B24;; display: block; white-space: pre-wrap; margin-bottom: 5px;'>worker_pool_name: </div></div></div>"
      }
     },
     "eae0484ade944853ae2b81c057106707": {
      "model_module": "@jupyter-widgets/base",
      "model_module_version": "2.0.0",
      "model_name": "LayoutModel",
      "state": {
       "border_bottom": "#464A91 solid 1.5px",
       "border_left": "#464A91 solid 1.5px",
       "border_right": "#464A91 solid 1.5px",
       "border_top": "#464A91 solid 1.5px",
       "width": "200px"
      }
     },
     "eb2316eb1dc048a7ac29c25815d88562": {
      "model_module": "@jupyter-widgets/controls",
      "model_module_version": "2.0.0",
      "model_name": "CheckboxModel",
      "state": {
       "description": "Sync",
       "disabled": false,
       "layout": "IPY_MODEL_0e6b06d3d10847c8b5252bc5b2fd1f10",
       "style": "IPY_MODEL_e0038fb76d2e4146a4fc9fa69fd21cf8",
       "value": false
      }
     },
     "eb6dfd1d3f174939a5aadf048b5e1f54": {
      "model_module": "@jupyter-widgets/controls",
      "model_module_version": "2.0.0",
      "model_name": "CheckboxStyleModel",
      "state": {
       "description_width": ""
      }
     },
     "ebb3913fd8dc420ead3975331225d1c9": {
      "model_module": "@jupyter-widgets/base",
      "model_module_version": "2.0.0",
      "model_name": "LayoutModel",
      "state": {}
     },
     "ebba4ecb41db482eae25bea5619ba8fc": {
      "model_module": "@jupyter-widgets/base",
      "model_module_version": "2.0.0",
      "model_name": "LayoutModel",
      "state": {
       "overflow": "auto",
       "width": "50%"
      }
     },
     "ebfe9a47735748fc8b24fb7d29bc6315": {
      "model_module": "@jupyter-widgets/controls",
      "model_module_version": "2.0.0",
      "model_name": "HTMLStyleModel",
      "state": {
       "description_width": "",
       "font_size": null,
       "text_color": null
      }
     },
     "ec036471c3be465b82a7fb1d98286ad6": {
      "model_module": "@jupyter-widgets/controls",
      "model_module_version": "2.0.0",
      "model_name": "HTMLStyleModel",
      "state": {
       "description_width": "",
       "font_size": null,
       "text_color": null
      }
     },
     "ec1641cb6c294366be755b46b093fc47": {
      "model_module": "@jupyter-widgets/base",
      "model_module_version": "2.0.0",
      "model_name": "LayoutModel",
      "state": {}
     },
     "ec1ef8dcce0747718be3ae30b5f53dbf": {
      "model_module": "@jupyter-widgets/controls",
      "model_module_version": "2.0.0",
      "model_name": "VBoxModel",
      "state": {
       "children": [
        "IPY_MODEL_5a841c84c6d746428b85253f5e67eaf3",
        "IPY_MODEL_3bfc0579a1364129ad9070e49310be0e",
        "IPY_MODEL_4b30b9ae3b04447f82ef63feb3ccbd89",
        "IPY_MODEL_e2fedbd9ba3c41dcaabd2ec8c49e25c7",
        "IPY_MODEL_69a2a81d69bc424582cf2a4ca8d09100",
        "IPY_MODEL_d720d000551d41e6bf8d5b7516c6ccc5",
        "IPY_MODEL_748e5b0649884d83a073266f7b7b7225",
        "IPY_MODEL_449d8a49e6dc4eaf8d7df7b4432ef01e"
       ],
       "layout": "IPY_MODEL_b530270fc7d149c5b129aadcd43124d4"
      }
     },
     "ecc211a888a440fe811724a6c9fc40f6": {
      "model_module": "@jupyter-widgets/controls",
      "model_module_version": "2.0.0",
      "model_name": "HTMLStyleModel",
      "state": {
       "description_width": "",
       "font_size": null,
       "text_color": null
      }
     },
     "ed3cf177e33c4c17aa38d641575efaf9": {
      "model_module": "@jupyter-widgets/base",
      "model_module_version": "2.0.0",
      "model_name": "LayoutModel",
      "state": {
       "margin": "0 5px 0 0"
      }
     },
     "ed4d9bba79c64383bab87f69dd082218": {
      "model_module": "@jupyter-widgets/controls",
      "model_module_version": "2.0.0",
      "model_name": "ButtonModel",
      "state": {
       "icon": "clone",
       "layout": "IPY_MODEL_c769a321b9b04a2aa6afb7f5bc878247",
       "style": "IPY_MODEL_24a0e2ad40934e8b9bfd3de45d4d61e1",
       "tooltip": null
      }
     },
     "ed557e0aa807432eadc8ab026ea9d097": {
      "model_module": "@jupyter-widgets/controls",
      "model_module_version": "2.0.0",
      "model_name": "HTMLStyleModel",
      "state": {
       "description_width": "",
       "font_size": null,
       "text_color": null
      }
     },
     "ed715b492dcf4562af1ff313455dff0e": {
      "model_module": "@jupyter-widgets/base",
      "model_module_version": "2.0.0",
      "model_name": "LayoutModel",
      "state": {
       "overflow": "auto",
       "width": "50%"
      }
     },
     "ee1f584f8c564942b89409472610646e": {
      "model_module": "@jupyter-widgets/controls",
      "model_module_version": "2.0.0",
      "model_name": "HTMLModel",
      "state": {
       "layout": "IPY_MODEL_109caa2671944c44aa4361df0285d16b",
       "style": "IPY_MODEL_c71780230b0948ae9644d19da736058e",
       "value": "<div style='font-family: monospace; width: 100%;'>To<br><div style='border-left: 1px solid #B4B0BF; padding-left: 10px;'><div style='background-color: #D5F1D5;; color: #256B24;; display: block; white-space: pre-wrap; margin-bottom: 5px;'>approved: </div><div style='background-color: #D5F1D5;; color: #256B24;; display: block; white-space: pre-wrap; margin-bottom: 5px;'>status_dict: </div></div></div>"
      }
     },
     "ee56eb7fe3924a0a970f7598cef6fa0d": {
      "model_module": "@jupyter-widgets/base",
      "model_module_version": "2.0.0",
      "model_name": "LayoutModel",
      "state": {}
     },
     "ee5eb3b2dd394c47a2611f9d04d57827": {
      "model_module": "@jupyter-widgets/base",
      "model_module_version": "2.0.0",
      "model_name": "LayoutModel",
      "state": {
       "overflow": "auto",
       "width": "50%"
      }
     },
     "eeaaa1a72a374aff82f569a297c98d6f": {
      "model_module": "@jupyter-widgets/base",
      "model_module_version": "2.0.0",
      "model_name": "LayoutModel",
      "state": {}
     },
     "ef0ba2e73e1743ca9746824b1483947a": {
      "model_module": "@jupyter-widgets/controls",
      "model_module_version": "2.0.0",
      "model_name": "HTMLStyleModel",
      "state": {
       "description_width": "",
       "font_size": null,
       "text_color": null
      }
     },
     "ef29637eb84e4041b64dc34ad3e54596": {
      "model_module": "@jupyter-widgets/base",
      "model_module_version": "2.0.0",
      "model_name": "LayoutModel",
      "state": {}
     },
     "ef31b8f6a6194095b5561a3832e2bdbb": {
      "model_module": "@jupyter-widgets/base",
      "model_module_version": "2.0.0",
      "model_name": "LayoutModel",
      "state": {}
     },
     "efa569abb8cb4312830a18b904244ec5": {
      "model_module": "@jupyter-widgets/base",
      "model_module_version": "2.0.0",
      "model_name": "LayoutModel",
      "state": {}
     },
     "efc496cc03a14b488fb869975bf9b1ec": {
      "model_module": "@jupyter-widgets/controls",
      "model_module_version": "2.0.0",
      "model_name": "CheckboxModel",
      "state": {
       "description": "Sync",
       "disabled": false,
       "layout": "IPY_MODEL_40fc65467fb647579dee4b1b429f99c6",
       "style": "IPY_MODEL_6da51b1d20eb495e9207e8845d5ac370",
       "value": false
      }
     },
     "efebe6f293ee42d996fb6a50e8abe6d2": {
      "model_module": "@jupyter-widgets/controls",
      "model_module_version": "2.0.0",
      "model_name": "HBoxModel",
      "state": {
       "children": [
        "IPY_MODEL_b25456a9c5bf4dc18b4bdf9844116c10",
        "IPY_MODEL_3f8d7415b159463596bb1e503ef1499f"
       ],
       "layout": "IPY_MODEL_3c0f99d150cf4a6791a8b9b263ab9c29"
      }
     },
     "f023749060094e4eaa778546c0792d0a": {
      "model_module": "@jupyter-widgets/controls",
      "model_module_version": "2.0.0",
      "model_name": "HTMLStyleModel",
      "state": {
       "description_width": "",
       "font_size": null,
       "text_color": null
      }
     },
     "f02890c8799a4dfe865186eda779ed0d": {
      "model_module": "@jupyter-widgets/base",
      "model_module_version": "2.0.0",
      "model_name": "LayoutModel",
      "state": {}
     },
     "f03472e77b174218a043d87967c2ede3": {
      "model_module": "@jupyter-widgets/base",
      "model_module_version": "2.0.0",
      "model_name": "LayoutModel",
      "state": {}
     },
     "f041809edde1489893e1b690d7dfc7c7": {
      "model_module": "@jupyter-widgets/controls",
      "model_module_version": "2.0.0",
      "model_name": "HBoxModel",
      "state": {
       "children": [
        "IPY_MODEL_886b757d6749437f9db6cbc5d6a51bd2",
        "IPY_MODEL_bb4bddbfda83461d861ea30bd7f1ddbb"
       ],
       "layout": "IPY_MODEL_9e5c4df681d241d9bd3f5537e80f29ff"
      }
     },
     "f04c6cc4ca4747f9859c32b6e617d723": {
      "model_module": "@jupyter-widgets/base",
      "model_module_version": "2.0.0",
      "model_name": "LayoutModel",
      "state": {}
     },
     "f05250eb4344459492f5d987eda29fec": {
      "model_module": "@jupyter-widgets/controls",
      "model_module_version": "2.0.0",
      "model_name": "ButtonStyleModel",
      "state": {
       "button_color": "transparent",
       "font_family": null,
       "font_size": null,
       "font_style": null,
       "font_variant": null,
       "font_weight": null,
       "text_color": "#464A91",
       "text_decoration": null
      }
     },
     "f07dcbad0dc944dfb635792f0733d082": {
      "model_module": "@jupyter-widgets/base",
      "model_module_version": "2.0.0",
      "model_name": "LayoutModel",
      "state": {}
     },
     "f0aa3b6a553c41f9a7be9560eddf17b6": {
      "model_module": "@jupyter-widgets/controls",
      "model_module_version": "2.0.0",
      "model_name": "HTMLModel",
      "state": {
       "layout": "IPY_MODEL_db6d59d96c5c4c7b81688d71ae47b623",
       "style": "IPY_MODEL_164ae7a76a574f6abb31b4d8201bf117",
       "value": "<div style='font-family: monospace; width: 100%;'>From<br><div style='border-left: 1px solid #B4B0BF; padding-left: 10px;'><div style='background-color: #D5F1D5;; color: #256B24;; display: block; white-space: pre-wrap; margin-bottom: 5px;'>service_func_name: compute_mean</div><div style='background-color: #D5F1D5;; color: #256B24;; display: block; white-space: pre-wrap; margin-bottom: 5px;'>input_owners: ['test_l']</div><div style='background-color: #D5F1D5;; color: #256B24;; display: block; white-space: pre-wrap; margin-bottom: 5px;'>code_status: ['Node: test_l, Status: pending']</div><div style='background-color: #D5F1D5;; color: #256B24;; display: block; white-space: pre-wrap; margin-bottom: 5px;'>worker_pool_name: default-pool</div></div></div>"
      }
     },
     "f0c821984b4f423ebf3bda854f018f7c": {
      "model_module": "@jupyter-widgets/base",
      "model_module_version": "2.0.0",
      "model_name": "LayoutModel",
      "state": {
       "overflow": "auto",
       "width": "50%"
      }
     },
     "f0dee30feafc4557a22c3d99daf3c93a": {
      "model_module": "@jupyter-widgets/output",
      "model_module_version": "1.0.0",
      "model_name": "OutputModel",
      "state": {
       "layout": "IPY_MODEL_af239832d8364a9381064482eadaa228"
      }
     },
     "f121ed57e865472f9c9c40898a905ec8": {
      "model_module": "@jupyter-widgets/controls",
      "model_module_version": "2.0.0",
      "model_name": "VBoxModel",
      "state": {
       "children": [
        "IPY_MODEL_1093ff5bb95c4043aff2f53423667a4d",
        "IPY_MODEL_c4ed4ccf523d4f669bf2609ba1bd843d"
       ],
       "layout": "IPY_MODEL_3bdd84005c804596ba45220ecb3d302c"
      }
     },
     "f12bf2600fb4476ab9ade03d93360a6a": {
      "model_module": "@jupyter-widgets/controls",
      "model_module_version": "2.0.0",
      "model_name": "HTMLModel",
      "state": {
       "layout": "IPY_MODEL_f5f5451c7aeb49ac91a9679871f8dfce",
       "style": "IPY_MODEL_2cea311b326645b0a3db13b24f40ce9a",
       "value": "<div style=\"text-align: center; margin: 10px 0; border: 1px dashed #B4B0BF;\"></div>"
      }
     },
     "f1446cdb7f2549f3be7fb1dc10604750": {
      "model_module": "@jupyter-widgets/controls",
      "model_module_version": "2.0.0",
      "model_name": "HTMLModel",
      "state": {
       "layout": "IPY_MODEL_48afed1db89342128fc8a8ce22fdb761",
       "style": "IPY_MODEL_514991d070e8415aa737f051a985ec3d",
       "value": "<span style='color: #B4B0BF;'>Syncing changes on</span>"
      }
     },
     "f19dffc1bf1a4effacb0cc15d46a159c": {
      "model_module": "@jupyter-widgets/controls",
      "model_module_version": "2.0.0",
      "model_name": "HTMLModel",
      "state": {
       "layout": "IPY_MODEL_c28080a1ad9f475b9c46f4185ff1eb4d",
       "style": "IPY_MODEL_f023749060094e4eaa778546c0792d0a",
       "value": "<div style=\"text-align: center; margin: 10px 0; border: 1px dashed #B4B0BF;\"></div>"
      }
     },
     "f1c5a91cb22046f0b8568846010ce710": {
      "model_module": "@jupyter-widgets/controls",
      "model_module_version": "2.0.0",
      "model_name": "HTMLModel",
      "state": {
       "layout": "IPY_MODEL_518bf9c7ccea4dc8b6099e5a7192f868",
       "style": "IPY_MODEL_76657afeb6a2408c942c1624eb5c5b24",
       "value": "<div style='font-family: monospace; width: 100%;'>To<br><div style='border-left: 1px solid #B4B0BF; padding-left: 10px;'><div style='background-color: #D5F1D5;; color: #256B24;; display: block; white-space: pre-wrap; margin-bottom: 5px;'>approved: </div><div style='background-color: #D5F1D5;; color: #256B24;; display: block; white-space: pre-wrap; margin-bottom: 5px;'>status_dict: </div></div></div>"
      }
     },
     "f1e491ce98bd4a4095e65c370ddf0e54": {
      "model_module": "@jupyter-widgets/controls",
      "model_module_version": "2.0.0",
      "model_name": "HTMLStyleModel",
      "state": {
       "description_width": "",
       "font_size": null,
       "text_color": null
      }
     },
     "f22fa8cd72af448981c1f3db3169b22b": {
      "model_module": "@jupyter-widgets/base",
      "model_module_version": "2.0.0",
      "model_name": "LayoutModel",
      "state": {
       "margin": "0 5px 0 0"
      }
     },
     "f280dbebccbe4c2a92ff7afccd769602": {
      "model_module": "@jupyter-widgets/base",
      "model_module_version": "2.0.0",
      "model_name": "LayoutModel",
      "state": {}
     },
     "f2abe0f988734608b82cf024984ff7ba": {
      "model_module": "@jupyter-widgets/base",
      "model_module_version": "2.0.0",
      "model_name": "LayoutModel",
      "state": {}
     },
     "f30de88af9bd4262baee4f671e8e885d": {
      "model_module": "@jupyter-widgets/base",
      "model_module_version": "2.0.0",
      "model_name": "LayoutModel",
      "state": {}
     },
     "f3103e9b08264a63ac70753bd155be33": {
      "model_module": "@jupyter-widgets/controls",
      "model_module_version": "2.0.0",
      "model_name": "HTMLStyleModel",
      "state": {
       "description_width": "",
       "font_size": null,
       "text_color": null
      }
     },
     "f320c87a3fed48208c038b48a0ca1069": {
      "model_module": "@jupyter-widgets/controls",
      "model_module_version": "2.0.0",
      "model_name": "HTMLModel",
      "state": {
       "layout": "IPY_MODEL_222adc48486f4be7aaedd43d00990aa5",
       "style": "IPY_MODEL_d670c5fd9be846b4961a1454b0e22da8",
       "value": "<div style='font-family: monospace; width: 100%;'>From<br><div style='border-left: 1px solid #B4B0BF; padding-left: 10px;'><div style='background-color: #D5F1D5;; color: #256B24;; display: block; white-space: pre-wrap; margin-bottom: 5px;'>approved: False</div><div style='background-color: #D5F1D5;; color: #256B24;; display: block; white-space: pre-wrap; margin-bottom: 5px;'>status_dict: {NodeIdentity <name=test_l, id=8e19e3a1, 🔑=1c0590b8>: (<UserCodeStatus.PENDING: 'pending'>, '')}</div></div></div>"
      }
     },
     "f341372f52174a7681d002a23d01f4be": {
      "model_module": "@jupyter-widgets/base",
      "model_module_version": "2.0.0",
      "model_name": "LayoutModel",
      "state": {}
     },
     "f368144f43ed4859b83057f1d509af8f": {
      "model_module": "@jupyter-widgets/controls",
      "model_module_version": "2.0.0",
      "model_name": "VBoxModel",
      "state": {
       "children": [
        "IPY_MODEL_8443da39779741aa9eac7dc3ffad1fb4",
        "IPY_MODEL_cc471f593531424d8b685b59ac48a802"
       ],
       "layout": "IPY_MODEL_cca28b0c7a524b478c04ab5834977bd1"
      }
     },
     "f385a66239bb4b5aa97c7fde3f527125": {
      "model_module": "@jupyter-widgets/controls",
      "model_module_version": "2.0.0",
      "model_name": "HTMLModel",
      "state": {
       "layout": "IPY_MODEL_c3ec9cb5256c4e64a0ce31ad07aa4e7b",
       "style": "IPY_MODEL_4dd4ef2107194546a960b5eec62732b9",
       "value": "<div style='font-family: monospace; width: 100%;'>From<br><div style='border-left: 1px solid #B4B0BF; padding-left: 10px;'><div style='background-color: #D5F1D5;; color: #256B24;; display: block; white-space: pre-wrap; margin-bottom: 5px;'>approved: False</div><div style='background-color: #D5F1D5;; color: #256B24;; display: block; white-space: pre-wrap; margin-bottom: 5px;'>status_dict: {NodeIdentity <name=test_l, id=8e19e3a1, 🔑=1c0590b8>: (<UserCodeStatus.PENDING: 'pending'>, '')}</div></div></div>"
      }
     },
     "f3ca941d89d942dab2c917330c577d34": {
      "model_module": "@jupyter-widgets/controls",
      "model_module_version": "2.0.0",
      "model_name": "HTMLStyleModel",
      "state": {
       "description_width": "",
       "font_size": null,
       "text_color": null
      }
     },
     "f3fd6d5c6f9b4826b4d5764671f35f35": {
      "model_module": "@jupyter-widgets/controls",
      "model_module_version": "2.0.0",
      "model_name": "HTMLModel",
      "state": {
       "layout": "IPY_MODEL_cbe12891816240dfa3d0c0610ca14a9a",
       "style": "IPY_MODEL_c0b40c92981946708092262114fd3cc1",
       "value": "<div style='font-family: monospace; width: 100%;'>From<br><div style='border-left: 1px solid #B4B0BF; padding-left: 10px;'><div style='background-color: #D5F1D5;; color: #256B24;; display: block; white-space: pre-wrap; margin-bottom: 5px;'>service_func_name: compute_mean</div><div style='background-color: #D5F1D5;; color: #256B24;; display: block; white-space: pre-wrap; margin-bottom: 5px;'>input_owners: ['test_l']</div><div style='background-color: #D5F1D5;; color: #256B24;; display: block; white-space: pre-wrap; margin-bottom: 5px;'>code_status: ['Node: test_l, Status: pending']</div><div style='background-color: #D5F1D5;; color: #256B24;; display: block; white-space: pre-wrap; margin-bottom: 5px;'>worker_pool_name: default-pool</div></div></div>"
      }
     },
     "f400ad88360e4edbb909947be4ccf131": {
      "model_module": "@jupyter-widgets/base",
      "model_module_version": "2.0.0",
      "model_name": "LayoutModel",
      "state": {}
     },
     "f41247dc7e5d45d18f319561569d3766": {
      "model_module": "@jupyter-widgets/controls",
      "model_module_version": "2.0.0",
      "model_name": "VBoxModel",
      "state": {
       "children": [
        "IPY_MODEL_9f2c53a77cc74724872fbdc834abbc83",
        "IPY_MODEL_b4613800efca4807b2059c5445ed4543",
        "IPY_MODEL_cb38a5e789ce493d922edbee6b2ab347",
        "IPY_MODEL_210dbe8c060d466e8bace89f46007ed3"
       ],
       "layout": "IPY_MODEL_00e9d4cada294808831b67f5a63223f3"
      }
     },
     "f4124c5df46644ad8f26d1a9692e2641": {
      "model_module": "@jupyter-widgets/base",
      "model_module_version": "2.0.0",
      "model_name": "LayoutModel",
      "state": {}
     },
     "f45c71a81aec4ddbb8711b02bad7fdb9": {
      "model_module": "@jupyter-widgets/controls",
      "model_module_version": "2.0.0",
      "model_name": "AccordionModel",
      "state": {
       "children": [
        "IPY_MODEL_49272323ff2e44f58a17e3547a46ee92"
       ],
       "layout": "IPY_MODEL_229377348c7640f99c21a177e8f5440c",
       "titles": [
        "UserCode (4 changes)"
       ]
      }
     },
     "f4733446267a4fe681b3e5187e343dc7": {
      "model_module": "@jupyter-widgets/controls",
      "model_module_version": "2.0.0",
      "model_name": "CheckboxModel",
      "state": {
       "description": "Sync",
       "disabled": false,
       "layout": "IPY_MODEL_530b8ab82bf94ab6953a4e5ec47c5fee",
       "style": "IPY_MODEL_85c53945605a4ee189d28b2ac2026319",
       "value": false
      }
     },
     "f47cde5990234f77a12917904d928ee5": {
      "model_module": "@jupyter-widgets/controls",
      "model_module_version": "2.0.0",
      "model_name": "VBoxModel",
      "state": {
       "children": [
        "IPY_MODEL_98c70d3711e84f6a8d54014b4545703c",
        "IPY_MODEL_e44b8c9627334f019475ad9c7689afeb"
       ],
       "layout": "IPY_MODEL_b76284edd7be471c93c330d0c126fcaa"
      }
     },
     "f4af89e0537341baa573917b83a04385": {
      "model_module": "@jupyter-widgets/base",
      "model_module_version": "2.0.0",
      "model_name": "LayoutModel",
      "state": {}
     },
     "f4df9ff5854d4f079c6442935ef31615": {
      "model_module": "@jupyter-widgets/base",
      "model_module_version": "2.0.0",
      "model_name": "LayoutModel",
      "state": {}
     },
     "f5126953b1ff4836b51d5341f3df7c0c": {
      "model_module": "@jupyter-widgets/base",
      "model_module_version": "2.0.0",
      "model_name": "LayoutModel",
      "state": {}
     },
     "f5148fb72a7e4bac8859c10a252430ed": {
      "model_module": "@jupyter-widgets/controls",
      "model_module_version": "2.0.0",
      "model_name": "HTMLModel",
      "state": {
       "layout": "IPY_MODEL_111dd71b0be04eaa9485bc41b9655556",
       "style": "IPY_MODEL_8c02314f827147329aeffa21c4744a1d",
       "value": "<span style='color: #5E5A72;'>This would sync <span style='color: #B8520A'>2 changes </span> from <i>Low Node</i> to <i>High Node</i></span>"
      }
     },
     "f54df54e06a047b4a2e1eceda4822ba6": {
      "model_module": "@jupyter-widgets/base",
      "model_module_version": "2.0.0",
      "model_name": "LayoutModel",
      "state": {}
     },
     "f565dfe828cb4492918a289c196d2f7f": {
      "model_module": "@jupyter-widgets/base",
      "model_module_version": "2.0.0",
      "model_name": "LayoutModel",
      "state": {
       "border_bottom": "#464A91 solid 1.5px",
       "border_left": "#464A91 solid 1.5px",
       "border_right": "#464A91 solid 1.5px",
       "border_top": "#464A91 solid 1.5px",
       "width": "200px"
      }
     },
     "f58efe6d5c3247a48f55cfdf5c01bc59": {
      "model_module": "@jupyter-widgets/base",
      "model_module_version": "2.0.0",
      "model_name": "LayoutModel",
      "state": {}
     },
     "f5c140d15449456984240778fbf9f2ea": {
      "model_module": "@jupyter-widgets/base",
      "model_module_version": "2.0.0",
      "model_name": "LayoutModel",
      "state": {}
     },
     "f5f5451c7aeb49ac91a9679871f8dfce": {
      "model_module": "@jupyter-widgets/base",
      "model_module_version": "2.0.0",
      "model_name": "LayoutModel",
      "state": {
       "width": "100%"
      }
     },
     "f5fa1504f35a4106b99f6c68294a2f06": {
      "model_module": "@jupyter-widgets/base",
      "model_module_version": "2.0.0",
      "model_name": "LayoutModel",
      "state": {}
     },
     "f6479b36edcd4a2fa93f36c8f843fa99": {
      "model_module": "@jupyter-widgets/controls",
      "model_module_version": "2.0.0",
      "model_name": "HTMLModel",
      "state": {
       "layout": "IPY_MODEL_b1c5f9ceda924d5dbc02ba5bb6a9239c",
       "style": "IPY_MODEL_0825cde5e7de48559fff342a34c31ec9",
       "value": "<div style='font-family: monospace; width: 100%;'>To<br><div style='border-left: 1px solid #B4B0BF; padding-left: 10px;'><div style='background-color: #D5F1D5;; color: #256B24;; display: block; white-space: pre-wrap; margin-bottom: 5px;'>approved: </div><div style='background-color: #D5F1D5;; color: #256B24;; display: block; white-space: pre-wrap; margin-bottom: 5px;'>status_dict: </div></div></div>"
      }
     },
     "f68ed31c167d4ec79748e52a33072969": {
      "model_module": "@jupyter-widgets/controls",
      "model_module_version": "2.0.0",
      "model_name": "VBoxModel",
      "state": {
       "children": [
        "IPY_MODEL_df178ef01ad64d4a863bf36b87e6f8c3"
       ],
       "layout": "IPY_MODEL_573efb5aaa444d08a7874e5fbfc1f4d1"
      }
     },
     "f69148465f114390978f0cac8c5dc07f": {
      "model_module": "@jupyter-widgets/base",
      "model_module_version": "2.0.0",
      "model_name": "LayoutModel",
      "state": {
       "width": "100%"
      }
     },
     "f69462eebf504f48b0d6cf9b7eb84870": {
      "model_module": "@jupyter-widgets/controls",
      "model_module_version": "2.0.0",
      "model_name": "VBoxModel",
      "state": {
       "children": [
        "IPY_MODEL_09da12fbbce14a0797b4cb84db3a8cf0",
        "IPY_MODEL_1c84d1e2a15f4904894fd1c340612fd1",
        "IPY_MODEL_c98547eb67a647218914dd3799db77ee",
        "IPY_MODEL_d440950885a348efae4ced8e72ed855c"
       ],
       "layout": "IPY_MODEL_34d7b8f7118b415a9d46ae6a3c7a3bc7"
      }
     },
     "f6d9821101ff4dfa933880c965a9989d": {
      "model_module": "@jupyter-widgets/base",
      "model_module_version": "2.0.0",
      "model_name": "LayoutModel",
      "state": {
       "border_bottom": "#464A91 solid 1.5px",
       "border_left": "#464A91 solid 1.5px",
       "border_right": "#464A91 solid 1.5px",
       "border_top": "#464A91 solid 1.5px",
       "width": "200px"
      }
     },
     "f735a98f948744f3a2bf9dbc9dc17c71": {
      "model_module": "@jupyter-widgets/base",
      "model_module_version": "2.0.0",
      "model_name": "LayoutModel",
      "state": {
       "border_bottom": "#353243 solid 0.5px",
       "border_left": "#353243 solid 0.5px",
       "border_right": "#353243 solid 0.5px",
       "border_top": "#353243 solid 0.5px",
       "padding": "16px"
      }
     },
     "f78856e78de845009a75f0fda3f8a121": {
      "model_module": "@jupyter-widgets/controls",
      "model_module_version": "2.0.0",
      "model_name": "HTMLStyleModel",
      "state": {
       "description_width": "",
       "font_size": null,
       "text_color": null
      }
     },
     "f7cfce4faf094e448ee5d437abf43598": {
      "model_module": "@jupyter-widgets/controls",
      "model_module_version": "2.0.0",
      "model_name": "HTMLModel",
      "state": {
       "layout": "IPY_MODEL_2b1aa74d5ec04146916dddb5f18ce922",
       "style": "IPY_MODEL_843fb44dd5a54fde9e96c375439e2553",
       "value": "<span style='margin-left: 5px; font-weight: bold; color: #373B7B;'>compute_mean</span> <span style='margin-left: 5px; color: #B4B0BF;'>#1234...</span>"
      }
     },
     "f7f328623c6543d98f3d42dde8fcc6e1": {
      "model_module": "@jupyter-widgets/base",
      "model_module_version": "2.0.0",
      "model_name": "LayoutModel",
      "state": {}
     },
     "f826720f4f28409c8c6da9c7dad33c7a": {
      "model_module": "@jupyter-widgets/base",
      "model_module_version": "2.0.0",
      "model_name": "LayoutModel",
      "state": {
       "border_bottom": "#464A91 solid 1.5px",
       "border_left": "#464A91 solid 1.5px",
       "border_right": "#464A91 solid 1.5px",
       "border_top": "#464A91 solid 1.5px",
       "width": "200px"
      }
     },
     "f8452358626545cf86db28d15e669bde": {
      "model_module": "@jupyter-widgets/controls",
      "model_module_version": "2.0.0",
      "model_name": "HTMLStyleModel",
      "state": {
       "description_width": "",
       "font_size": null,
       "text_color": null
      }
     },
     "f87797079b70458fbf705407a3212430": {
      "model_module": "@jupyter-widgets/controls",
      "model_module_version": "2.0.0",
      "model_name": "VBoxModel",
      "state": {
       "children": [
        "IPY_MODEL_d847c67abcaf47f1b176028d5b460df3",
        "IPY_MODEL_cb0c1b8d34ac49789c9694a7b370099e",
        "IPY_MODEL_53ca30fbd9604a42ba949156d6abb450",
        "IPY_MODEL_a726007c9d3b4f1ebebc2fed2ea1555f",
        "IPY_MODEL_d018b2d2f61043a987939f28f28ec202",
        "IPY_MODEL_daab15e85596487998cdd2b0ffb9b486",
        "IPY_MODEL_8091ad3736c548b3adc3cf858659b4e8",
        "IPY_MODEL_3246b9c3ec974b38ad104795e885a6e4"
       ],
       "layout": "IPY_MODEL_81914cf80afc4537adf36747f3dd28a7"
      }
     },
     "f8bce8da7e9a4e63897ad7dcd1711d06": {
      "model_module": "@jupyter-widgets/controls",
      "model_module_version": "2.0.0",
      "model_name": "HTMLModel",
      "state": {
       "layout": "IPY_MODEL_cacc42d4e6804f10b001eaedafc9a2c2",
       "style": "IPY_MODEL_50f37e58f97c4f3aaa4c10321d299325",
       "value": "<div style='font-family: monospace; width: 100%;'>From<br><div style='border-left: 1px solid #B4B0BF; padding-left: 10px;'><div style='background-color: #D5F1D5;; color: #256B24;; display: block; white-space: pre-wrap; margin-bottom: 5px;'>approved: False</div><div style='background-color: #D5F1D5;; color: #256B24;; display: block; white-space: pre-wrap; margin-bottom: 5px;'>status_dict: {NodeIdentity <name=test_l, id=8e19e3a1, 🔑=1c0590b8>: (<UserCodeStatus.PENDING: 'pending'>, '')}</div></div></div>"
      }
     },
     "f8c2c63759834fbc9e17fb3827d048f2": {
      "model_module": "@jupyter-widgets/controls",
      "model_module_version": "2.0.0",
      "model_name": "HTMLStyleModel",
      "state": {
       "description_width": "",
       "font_size": null,
       "text_color": null
      }
     },
     "f8f1bddb2a124c21bbcb399d7c579842": {
      "model_module": "@jupyter-widgets/base",
      "model_module_version": "2.0.0",
      "model_name": "LayoutModel",
      "state": {
       "height": "25px",
       "margin": "0",
       "padding": "0",
       "width": "25px"
      }
     },
     "f9088992df17431c8d9e2baae41bdd4c": {
      "model_module": "@jupyter-widgets/controls",
      "model_module_version": "2.0.0",
      "model_name": "VBoxModel",
      "state": {
       "children": [
        "IPY_MODEL_2dd7156ddf4c42dda009f24c0eb74402"
       ],
       "layout": "IPY_MODEL_acf1cc2ef5db4bd8aff1f84e377bbc60"
      }
     },
     "f91f6a37fbec44cb962d3bcbfaf2dc0f": {
      "model_module": "@jupyter-widgets/controls",
      "model_module_version": "2.0.0",
      "model_name": "ButtonStyleModel",
      "state": {
       "font_family": null,
       "font_size": null,
       "font_style": null,
       "font_variant": null,
       "font_weight": null,
       "text_color": null,
       "text_decoration": null
      }
     },
     "f97af111473d4a72aa6e53871bf4d801": {
      "model_module": "@jupyter-widgets/controls",
      "model_module_version": "2.0.0",
      "model_name": "ButtonModel",
      "state": {
       "icon": "clone",
       "layout": "IPY_MODEL_c5fb4ab1aefb4f31a52e31605973513e",
       "style": "IPY_MODEL_0f4cdcda15aa4944a2a700f043b08b1e",
       "tooltip": null
      }
     },
     "f97c2eaf1a434430b62611b702af781d": {
      "model_module": "@jupyter-widgets/controls",
      "model_module_version": "2.0.0",
      "model_name": "HBoxModel",
      "state": {
       "children": [
        "IPY_MODEL_f8bce8da7e9a4e63897ad7dcd1711d06",
        "IPY_MODEL_6455a9b21448444e9d41de0887658b0d"
       ],
       "layout": "IPY_MODEL_081654ce51de4c60a16830548b9c76fc"
      }
     },
     "f9816137b1674ae48e65b4892d930172": {
      "model_module": "@jupyter-widgets/controls",
      "model_module_version": "2.0.0",
      "model_name": "HTMLStyleModel",
      "state": {
       "description_width": "",
       "font_size": null,
       "text_color": null
      }
     },
     "f9bb8d51f00d425db842a8169e76acc9": {
      "model_module": "@jupyter-widgets/controls",
      "model_module_version": "2.0.0",
      "model_name": "HBoxModel",
      "state": {
       "children": [
        "IPY_MODEL_acc24c025ad54015b39f0b51f62ac109"
       ],
       "layout": "IPY_MODEL_6b6a32385d8b40eeb1fbe31457e40e3a"
      }
     },
     "f9dbb3ede9ff4b5bab4821052f015b4f": {
      "model_module": "@jupyter-widgets/base",
      "model_module_version": "2.0.0",
      "model_name": "LayoutModel",
      "state": {
       "overflow": "auto",
       "width": "50%"
      }
     },
     "fa38f60e82a54dd3af1b682b457f9618": {
      "model_module": "@jupyter-widgets/base",
      "model_module_version": "2.0.0",
      "model_name": "LayoutModel",
      "state": {
       "overflow": "auto",
       "width": "50%"
      }
     },
     "fa9a2515a56f42cea26139627a64f014": {
      "model_module": "@jupyter-widgets/controls",
      "model_module_version": "2.0.0",
      "model_name": "HTMLModel",
      "state": {
       "layout": "IPY_MODEL_7d4c6d627f214b44a87655c3fb83a6b1",
       "style": "IPY_MODEL_8c2c67af77344a9ca958bd516a326ddf",
       "value": "<span style='color: #5E5A72;'>This would sync <span style='color: #B8520A'>2 changes </span> from <i>Low Node</i> to <i>High Node</i></span>"
      }
     },
     "fabc3e50da7b416a9f0dd1771b1755a1": {
      "model_module": "@jupyter-widgets/base",
      "model_module_version": "2.0.0",
      "model_name": "LayoutModel",
      "state": {}
     },
     "fadbaa0b752548cf87118514a8701262": {
      "model_module": "@jupyter-widgets/base",
      "model_module_version": "2.0.0",
      "model_name": "LayoutModel",
      "state": {}
     },
     "fb0880e310ae4e1d82638d8dadef805b": {
      "model_module": "@jupyter-widgets/controls",
      "model_module_version": "2.0.0",
      "model_name": "HTMLModel",
      "state": {
       "layout": "IPY_MODEL_f54df54e06a047b4a2e1eceda4822ba6",
       "style": "IPY_MODEL_a466d0fa142b469f90c9988429f2c119",
       "value": "<div style='height: 16px'></div>"
      }
     },
     "fb54eba01fef473c881ac71b26f4d0cb": {
      "model_module": "@jupyter-widgets/controls",
      "model_module_version": "2.0.0",
      "model_name": "AccordionModel",
      "state": {
       "children": [
        "IPY_MODEL_da0f9521f2b94b0bba11c124aaf323a6"
       ],
       "layout": "IPY_MODEL_63f3bc216b844b9bacb5ad1f1e3efc22",
       "titles": [
        "UserCodeStatusCollection (2 changes)"
       ]
      }
     },
     "fb561fabfa4546338c74deec26c56928": {
      "model_module": "@jupyter-widgets/controls",
      "model_module_version": "2.0.0",
      "model_name": "HBoxModel",
      "state": {
       "children": [
        "IPY_MODEL_fc2f741625ed4e72924075760850b0c5",
        "IPY_MODEL_48a5018b8e31465cab4afefdeb14df12",
        "IPY_MODEL_de3bc13af3fe44028f66e0b24426be97"
       ],
       "layout": "IPY_MODEL_0c405720dbeb4cee8752c0ee6ad85738"
      }
     },
     "fb830eab4ac04ca5a9a9d5675e72f8de": {
      "model_module": "@jupyter-widgets/base",
      "model_module_version": "2.0.0",
      "model_name": "LayoutModel",
      "state": {}
     },
     "fbfa9caa3ed243c9b9b34b5380864cc4": {
      "model_module": "@jupyter-widgets/controls",
      "model_module_version": "2.0.0",
      "model_name": "HBoxModel",
      "state": {
       "children": [
        "IPY_MODEL_d8b52d270fc94ed7919c0a39bfa22a12"
       ],
       "layout": "IPY_MODEL_82dc00eed8974d1a91dec5303faed655"
      }
     },
     "fc278dc53105450ba76fa00d32b51038": {
      "model_module": "@jupyter-widgets/base",
      "model_module_version": "2.0.0",
      "model_name": "LayoutModel",
      "state": {
       "margin": "0 5px 0 0"
      }
     },
     "fc294e2bad6e45e399bb7b63df16487d": {
      "model_module": "@jupyter-widgets/controls",
      "model_module_version": "2.0.0",
      "model_name": "AccordionModel",
      "state": {
       "layout": "IPY_MODEL_238c477ddb084f0a8abf5c1c52f3f300"
      }
     },
     "fc2f741625ed4e72924075760850b0c5": {
      "model_module": "@jupyter-widgets/controls",
      "model_module_version": "2.0.0",
      "model_name": "HTMLModel",
      "state": {
       "layout": "IPY_MODEL_99f4a4f3691a40b9ace1ba6963dbc0d6",
       "style": "IPY_MODEL_7258386e234a44c8af84a74fb6646ad7",
       "value": "<span style='background-color: #C2DEF0; border-radius: 4px; padding: 4px 6px; color: #373B7B;'>Code</span>"
      }
     },
     "fc59fb21cb7b4fc0beaa635cfd9427a0": {
      "model_module": "@jupyter-widgets/base",
      "model_module_version": "2.0.0",
      "model_name": "LayoutModel",
      "state": {
       "height": "25px",
       "margin": "0",
       "padding": "0",
       "width": "25px"
      }
     },
     "fc663555a0b7449daee77e4227777fe7": {
      "model_module": "@jupyter-widgets/controls",
      "model_module_version": "2.0.0",
      "model_name": "VBoxModel",
      "state": {
       "children": [
        "IPY_MODEL_c8f0ad0841474753a36783584ce04af1",
        "IPY_MODEL_f041809edde1489893e1b690d7dfc7c7"
       ],
       "layout": "IPY_MODEL_536f16c7d7b34ccfaa2435feeda35c0c"
      }
     },
     "fc6d37e8cd484b758c43273ec47bb331": {
      "model_module": "@jupyter-widgets/controls",
      "model_module_version": "2.0.0",
      "model_name": "HTMLModel",
      "state": {
       "layout": "IPY_MODEL_f4124c5df46644ad8f26d1a9692e2641",
       "style": "IPY_MODEL_8d4607331d4c4dc1a1cf09be8474d8b2",
       "value": "<span style='color: #5E5A72;'>This would sync <span style='color: #B8520A'>2 changes </span> from <i>Low Node</i> to <i>High Node</i></span>"
      }
     },
     "fc772b2032fa4959a0800ae62e5240a6": {
      "model_module": "@jupyter-widgets/base",
      "model_module_version": "2.0.0",
      "model_name": "LayoutModel",
      "state": {}
     },
     "fcb1f5f281964f648c3ef6616488aa79": {
      "model_module": "@jupyter-widgets/controls",
      "model_module_version": "2.0.0",
      "model_name": "HTMLStyleModel",
      "state": {
       "description_width": "",
       "font_size": null,
       "text_color": null
      }
     },
     "fcfa353fb1bd4a0692d949c07550c2e6": {
      "model_module": "@jupyter-widgets/controls",
      "model_module_version": "2.0.0",
      "model_name": "HTMLModel",
      "state": {
       "layout": "IPY_MODEL_35b13cc1353d4ce982d0295a3e5098f7",
       "style": "IPY_MODEL_aaaae54533e344b0ac23dab549d08940",
       "value": "<div style='height: 16px;'></div>"
      }
     },
     "fdec6581ac6043aeb5aa527aa3ac6f72": {
      "model_module": "@jupyter-widgets/base",
      "model_module_version": "2.0.0",
      "model_name": "LayoutModel",
      "state": {}
     },
     "fe0fada066f841f197849ec34992acee": {
      "model_module": "@jupyter-widgets/controls",
      "model_module_version": "2.0.0",
      "model_name": "HBoxModel",
      "state": {
       "children": [
        "IPY_MODEL_451627fb1a8c49368c006075b5a00e46"
       ],
       "layout": "IPY_MODEL_8afa308934eb420aae5539610f53a8b6"
      }
     },
     "fe3fb5f58bbc49f6bafa143f163aeb8d": {
      "model_module": "@jupyter-widgets/base",
      "model_module_version": "2.0.0",
      "model_name": "LayoutModel",
      "state": {
       "overflow": "auto",
       "width": "50%"
      }
     },
     "fe81a84cf0b0417594d537f3ec828e48": {
      "model_module": "@jupyter-widgets/base",
      "model_module_version": "2.0.0",
      "model_name": "LayoutModel",
      "state": {}
     },
     "ff211e9caeec45cdb26e7cf854bb5e61": {
      "model_module": "@jupyter-widgets/controls",
      "model_module_version": "2.0.0",
      "model_name": "HTMLStyleModel",
      "state": {
       "description_width": "",
       "font_size": null,
       "text_color": null
      }
     },
     "ff41512a4d86448e872c2f0d3ae7151a": {
      "model_module": "@jupyter-widgets/controls",
      "model_module_version": "2.0.0",
      "model_name": "HTMLStyleModel",
      "state": {
       "description_width": "",
       "font_size": null,
       "text_color": null
      }
     },
     "ff659f0909f545129f8dc95a1f4a56c6": {
      "model_module": "@jupyter-widgets/controls",
      "model_module_version": "2.0.0",
      "model_name": "HTMLStyleModel",
      "state": {
       "description_width": "",
       "font_size": null,
       "text_color": null
      }
     },
     "fff17d800a754c72b0ccc1c41db7557f": {
      "model_module": "@jupyter-widgets/controls",
      "model_module_version": "2.0.0",
      "model_name": "HTMLModel",
      "state": {
       "layout": "IPY_MODEL_aa4fb95deac24bdfa2c2448c642994c0",
       "style": "IPY_MODEL_d11fb8c24cf94f6c8cf76ed88f22609b",
       "value": "<div style='font-family: monospace; width: 100%;'>To<br><div style='border-left: 1px solid #B4B0BF; padding-left: 10px;'><div style='background-color: #D5F1D5;; color: #256B24;; display: block; white-space: pre-wrap; margin-bottom: 5px;'>service_func_name: </div><div style='background-color: #D5F1D5;; color: #256B24;; display: block; white-space: pre-wrap; margin-bottom: 5px;'>input_owners: </div><div style='background-color: #D5F1D5;; color: #256B24;; display: block; white-space: pre-wrap; margin-bottom: 5px;'>code_status: </div><div style='background-color: #D5F1D5;; color: #256B24;; display: block; white-space: pre-wrap; margin-bottom: 5px;'>worker_pool_name: </div></div></div>"
      }
     }
    },
    "version_major": 2,
    "version_minor": 0
   }
  }
 },
 "nbformat": 4,
 "nbformat_minor": 5
}
