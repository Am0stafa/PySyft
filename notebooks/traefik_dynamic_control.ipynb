{
 "cells": [
  {
   "cell_type": "markdown",
   "id": "41c9b75c-db27-45b5-822f-2dd5db5eacc3",
   "metadata": {},
   "source": [
    "# Dynamic Control using Traefik\n",
    "\n",
    "This notebook will show how we can use the Traefik proxy to deal with incoming traffic"
   ]
  },
  {
   "cell_type": "code",
   "execution_count": 1,
   "id": "f057b2b5-d0b9-4132-8804-5e4e54a2adf6",
   "metadata": {},
   "outputs": [],
   "source": [
    "import yaml"
   ]
  },
  {
   "cell_type": "code",
   "execution_count": 33,
   "id": "793fcf76-2d91-4b23-870e-97e4d802a8bc",
   "metadata": {},
   "outputs": [],
   "source": [
    "from typing import Union, List\n",
    "\n",
    "def block_ip(ip: Union[str, List[str]], fname: str= \"/home/e/PycharmProjects/PySyft/packages/grid/traefik/docker/dynamic.yml\"):\n",
    "    \"\"\"\n",
    "    Add IP address (single or multiple) to the Traefik reverse proxy's firewall in real time, to be blocked using the fail2ban\n",
    "    plugin.\n",
    "    \n",
    "    Arguments:\n",
    "    ----------\n",
    "    ip: str, List[str]\n",
    "        a single IP address or a list of IP Addresses to block via the firewall.\n",
    "    \n",
    "    fname: str\n",
    "        the path to the firewall's configuration file (dynamic.yml)\n",
    "    \"\"\"\n",
    "    with open(fname, \"r\") as f:\n",
    "        yaml_file = yaml.load(f, Loader=yaml.BaseLoader)\n",
    "        \n",
    "        # Avoid duplicate IP addresses- check if this causes issues with subnet masks\n",
    "        print(\"Ip addresses currently blocked: \")\n",
    "        print(yaml_file['http']['middlewares']['fire-fail2ban']['plugin']['fail2ban']['blacklist']['ip'])\n",
    "        \n",
    "        blocked_ips = set(yaml_file['http']['middlewares']['fire-fail2ban']['plugin']['fail2ban']['blacklist']['ip'])\n",
    "        if isinstance(ip, list):\n",
    "            blocked_ips = blocked_ips.union(ip)\n",
    "        elif isinstance(ip, str):\n",
    "            blocked_ips = blocked_ips.add(ip)\n",
    "        else:\n",
    "            raise NotImplementedError(f\"Cannot add IP address of type {type(ip)} to firewall.\")\n",
    "        \n",
    "        yaml_file['http']['middlewares']['fire-fail2ban']['plugin']['fail2ban']['blacklist']['ip'] = list(blocked_ips)\n",
    "        \n",
    "        print(\"Ip addresses blocked after appending ips: \")\n",
    "        print(yaml_file['http']['middlewares']['fire-fail2ban']['plugin']['fail2ban']['blacklist']['ip'])\n",
    "    \n",
    "    with open(fname, \"w\") as fout:\n",
    "        yaml.dump(yaml_file,fout)\n",
    "    print(\"Modified YML file!\")"
   ]
  },
  {
   "cell_type": "code",
   "execution_count": 34,
   "id": "632d754c-e4a8-4706-8f06-1df1446ab7a7",
   "metadata": {},
   "outputs": [
    {
     "name": "stdout",
     "output_type": "stream",
     "text": [
      "Ip addresses currently blocked: \n",
      "['192.168.0.0/24']\n",
      "Ip addresses blocked after appending ips: \n",
      "['192.168.0.1', '172.168.25.100', '192.168.0.0/24']\n",
      "Modified YML file!\n"
     ]
    }
   ],
   "source": [
    "block_ip(ip=[\"192.168.0.1\", \"172.168.25.100\"])"
   ]
  },
  {
   "cell_type": "code",
   "execution_count": 35,
   "id": "63b9e2c3-5d0b-405b-816c-b3a8d245fd66",
   "metadata": {},
   "outputs": [
    {
     "ename": "NameError",
     "evalue": "name 'yaml_file' is not defined",
     "output_type": "error",
     "traceback": [
      "\u001b[0;31m---------------------------------------------------------------------------\u001b[0m",
      "\u001b[0;31mNameError\u001b[0m                                 Traceback (most recent call last)",
      "\u001b[0;32m/tmp/ipykernel_21133/221074093.py\u001b[0m in \u001b[0;36m<module>\u001b[0;34m\u001b[0m\n\u001b[0;32m----> 1\u001b[0;31m \u001b[0myaml_file\u001b[0m\u001b[0;34m\u001b[0m\u001b[0;34m\u001b[0m\u001b[0m\n\u001b[0m",
      "\u001b[0;31mNameError\u001b[0m: name 'yaml_file' is not defined"
     ]
    }
   ],
   "source": [
    "yaml_file"
   ]
  },
  {
   "cell_type": "code",
   "execution_count": 32,
   "id": "4fc82f67-20f3-46ce-8e83-b93f5040f1cb",
   "metadata": {},
   "outputs": [
    {
     "data": {
      "text/plain": [
       "['192.168.0.0/24']"
      ]
     },
     "execution_count": 32,
     "metadata": {},
     "output_type": "execute_result"
    }
   ],
   "source": [
    "x['http']['middlewares']['fire-fail2ban']['plugin']['fail2ban']['blacklist']['ip']"
   ]
  },
  {
   "cell_type": "code",
   "execution_count": 33,
   "id": "5a4aa84a-ed34-4204-80c0-589a77c75466",
   "metadata": {},
   "outputs": [
    {
     "data": {
      "text/plain": [
       "{'192.168.0.0/24'}"
      ]
     },
     "execution_count": 33,
     "metadata": {},
     "output_type": "execute_result"
    }
   ],
   "source": [
    "a = set().union(x['http']['middlewares']['fire-fail2ban']['plugin']['fail2ban']['blacklist']['ip'])\n",
    "a"
   ]
  },
  {
   "cell_type": "code",
   "execution_count": 28,
   "id": "870cfcf3-2080-4372-ae3e-03923208375a",
   "metadata": {},
   "outputs": [
    {
     "data": {
      "text/plain": [
       "[1, 2, 3, 4]"
      ]
     },
     "execution_count": 28,
     "metadata": {},
     "output_type": "execute_result"
    }
   ],
   "source": [
    "list(a)"
   ]
  },
  {
   "cell_type": "markdown",
   "id": "7c790240-34d1-4026-bd91-204d961497bd",
   "metadata": {},
   "source": [
    "<hr>"
   ]
  },
  {
   "cell_type": "code",
   "execution_count": 4,
   "id": "feec128e-f53a-403c-b16d-4c8055a29e85",
   "metadata": {},
   "outputs": [],
   "source": [
    "from pathlib import Path\n",
    "import os"
   ]
  },
  {
   "cell_type": "code",
   "execution_count": 11,
   "id": "a5f8df7f-c23c-4f6d-9449-0e4751f5684b",
   "metadata": {},
   "outputs": [
    {
     "ename": "TypeError",
     "evalue": "'str' object is not callable",
     "output_type": "error",
     "traceback": [
      "\u001b[0;31m---------------------------------------------------------------------------\u001b[0m",
      "\u001b[0;31mTypeError\u001b[0m                                 Traceback (most recent call last)",
      "\u001b[0;32m/tmp/ipykernel_25773/204843351.py\u001b[0m in \u001b[0;36m<module>\u001b[0;34m\u001b[0m\n\u001b[0;32m----> 1\u001b[0;31m \u001b[0mos\u001b[0m\u001b[0;34m.\u001b[0m\u001b[0mpardir\u001b[0m\u001b[0;34m(\u001b[0m\u001b[0mPath\u001b[0m\u001b[0;34m(\u001b[0m\u001b[0;34m\".\"\u001b[0m\u001b[0;34m)\u001b[0m\u001b[0;34m.\u001b[0m\u001b[0mparent\u001b[0m\u001b[0;34m.\u001b[0m\u001b[0mparent\u001b[0m \u001b[0;34m/\u001b[0m \u001b[0;34m\"quickstart/img\"\u001b[0m\u001b[0;34m)\u001b[0m\u001b[0;34m\u001b[0m\u001b[0;34m\u001b[0m\u001b[0m\n\u001b[0m",
      "\u001b[0;31mTypeError\u001b[0m: 'str' object is not callable"
     ]
    }
   ],
   "source": [
    "os.pardir(Path(\".\").parent.parent / \"quickstart/img\")"
   ]
  },
  {
   "cell_type": "code",
   "execution_count": 1,
   "id": "c519a9e7-b450-4423-a051-779d43f5d46e",
   "metadata": {},
   "outputs": [],
   "source": [
    "import syft as sy\n",
    "from syft.client.client import SyftClient"
   ]
  },
  {
   "cell_type": "code",
   "execution_count": 2,
   "id": "0f667df4-584e-4b09-bedc-9bcfedfdb6ab",
   "metadata": {},
   "outputs": [
    {
     "name": "stdout",
     "output_type": "stream",
     "text": [
      "Ip addresses currently blocked: \n",
      "['192.168.0.0/24']\n",
      "Ip addresses blocked after appending ips: \n",
      "['192.168.0.0/24', '188.188.188.188']\n",
      "Modified YML file!\n"
     ]
    }
   ],
   "source": [
    "SyftClient.block_ip([\"188.188.188.188\"])"
   ]
  },
  {
   "cell_type": "code",
   "execution_count": 2,
   "id": "0b414ca1-e4d3-43e9-b594-bf2cfd5abe24",
   "metadata": {},
   "outputs": [
    {
     "name": "stdout",
     "output_type": "stream",
     "text": [
      "> Starting Worker: Quirky Hochreiter - eea1e3b4bd1b4071b7bffb2edc7b8c08 - NodeType.DOMAIN - [<class 'syft.core.node.new.user_service.UserService'>, <class 'syft.core.node.new.metadata_service.MetadataService'>, <class 'syft.core.node.new.action_service.ActionService'>, <class 'syft.core.node.new.test_service.TestService'>, <class 'syft.core.node.new.dataset_service.DatasetService'>, <class 'syft.core.node.new.user_code_service.UserCodeService'>, <class 'syft.core.node.new.request_service.RequestService'>, <class 'syft.core.node.new.data_subject_service.DataSubjectService'>, <class 'syft.core.node.new.network_service.NetworkService'>, <class 'syft.core.node.new.policy_service.PolicyService'>, <class 'syft.core.node.new.message_service.MessageService'>, <class 'syft.core.node.new.project_service.ProjectService'>, <class 'syft.core.node.new.data_subject_member_service.DataSubjectMemberService'>]\n"
     ]
    }
   ],
   "source": [
    "w = sy.Worker()"
   ]
  },
  {
   "cell_type": "code",
   "execution_count": 3,
   "id": "b856e658-4423-4454-9727-3d5c236f062a",
   "metadata": {},
   "outputs": [],
   "source": [
    "client = SyftClient.from_node(w).login(email=\"info@openmined.org\", password=\"changethis\")"
   ]
  },
  {
   "cell_type": "markdown",
   "id": "cf05ca82-4d05-4324-8c05-17478bcdbe14",
   "metadata": {},
   "source": [
    "### Blocking Traffic from an IP address or hostname\n",
    "\n",
    "- with logging\n",
    "- with persistence even after domain node restarts"
   ]
  },
  {
   "cell_type": "code",
   "execution_count": 4,
   "id": "55cea60b-6f36-4ecb-8157-0e29c0a9faee",
   "metadata": {},
   "outputs": [
    {
     "data": {
      "text/html": [
       "[]"
      ],
      "text/plain": [
       "<syft.core.node.new.api.APIModule at 0x7f964b30db80>"
      ]
     },
     "execution_count": 4,
     "metadata": {},
     "output_type": "execute_result"
    }
   ],
   "source": [
    "client.datasets"
   ]
  },
  {
   "cell_type": "code",
   "execution_count": 5,
   "id": "77b3fdce-498a-4b39-af3a-9e008c20589b",
   "metadata": {},
   "outputs": [],
   "source": [
    "from syft.core.node.new.action_object import ActionObject"
   ]
  },
  {
   "cell_type": "code",
   "execution_count": 7,
   "id": "6e04ac41-7519-4664-a1d6-a568d69013f5",
   "metadata": {},
   "outputs": [],
   "source": [
    "import numpy as np\n",
    "obj = ActionObject.from_obj(np.random.rand(5,5))"
   ]
  },
  {
   "cell_type": "code",
   "execution_count": 8,
   "id": "169e54c1-f789-406a-8fac-c949a64d4c9e",
   "metadata": {},
   "outputs": [],
   "source": [
    "ptr = obj.send(client)"
   ]
  },
  {
   "cell_type": "code",
   "execution_count": 9,
   "id": "6a1e05f7-3030-4e5d-93f7-081c8272a70b",
   "metadata": {},
   "outputs": [
    {
     "data": {
      "text/plain": [
       "array([[0.74074244, 0.5196783 , 0.27361163, 0.35009409, 0.93692262],\n",
       "       [0.84284931, 0.79161962, 0.21222134, 0.71800114, 0.50034856],\n",
       "       [0.8587059 , 0.86647233, 0.94541335, 0.05943639, 0.07130845],\n",
       "       [0.38826281, 0.28790051, 0.89910204, 0.97376507, 0.1253996 ],\n",
       "       [0.36721699, 0.64349734, 0.57207201, 0.23548878, 0.15646151]])"
      ]
     },
     "execution_count": 9,
     "metadata": {},
     "output_type": "execute_result"
    }
   ],
   "source": [
    "ptr"
   ]
  },
  {
   "cell_type": "code",
   "execution_count": 10,
   "id": "f4f0c287-f4f7-4ef7-bd40-4d906b6eadee",
   "metadata": {},
   "outputs": [
    {
     "name": "stdout",
     "output_type": "stream",
     "text": [
      "Logged into Priceless Gardner as <info@openmined.org>\n"
     ]
    }
   ],
   "source": [
    "domain = sy.login(email=\"info@openmined.org\", password=\"changethis\", port=8081)"
   ]
  },
  {
   "cell_type": "code",
   "execution_count": 11,
   "id": "ac6ee408-943b-4a1a-98bd-2ba298a20a72",
   "metadata": {},
   "outputs": [
    {
     "data": {
      "text/html": [
       "[]"
      ],
      "text/plain": [
       "<syft.core.node.new.api.APIModule at 0x7f9676c84e80>"
      ]
     },
     "execution_count": 11,
     "metadata": {},
     "output_type": "execute_result"
    }
   ],
   "source": [
    "domain.datasets"
   ]
  },
  {
   "cell_type": "code",
   "execution_count": 14,
   "id": "454c14d8-8e3b-42db-8146-1e989b3216c6",
   "metadata": {},
   "outputs": [],
   "source": [
    "guest_client = domain.peer.guest_client"
   ]
  },
  {
   "cell_type": "code",
   "execution_count": 15,
   "id": "186a9d62-301f-437d-974c-cede47a35a6a",
   "metadata": {},
   "outputs": [
    {
     "data": {
      "text/plain": [
       "<SyftClient - Priceless Gardner <09cbf124ee7d43d2b11282f07b8a0712>: HTTPConnection: http://localhost:8081>"
      ]
     },
     "execution_count": 15,
     "metadata": {},
     "output_type": "execute_result"
    }
   ],
   "source": [
    "guest_client"
   ]
  },
  {
   "cell_type": "code",
   "execution_count": 17,
   "id": "5f285a7a-b8d0-4a30-851b-40d8dcc3540d",
   "metadata": {},
   "outputs": [],
   "source": [
    "ptr2 = obj.send(guest_client)"
   ]
  },
  {
   "cell_type": "code",
   "execution_count": 18,
   "id": "9525c6dd-64c4-4b08-bc6d-60deb14ccc88",
   "metadata": {},
   "outputs": [
    {
     "data": {
      "text/plain": [
       "array([[1.48148488, 1.03935659, 0.54722327, 0.70018818, 1.87384524],\n",
       "       [1.68569863, 1.58323924, 0.42444269, 1.43600227, 1.00069711],\n",
       "       [1.7174118 , 1.73294467, 1.8908267 , 0.11887277, 0.1426169 ],\n",
       "       [0.77652563, 0.57580101, 1.79820407, 1.94753014, 0.2507992 ],\n",
       "       [0.73443398, 1.28699469, 1.14414403, 0.47097756, 0.31292302]])"
      ]
     },
     "execution_count": 18,
     "metadata": {},
     "output_type": "execute_result"
    }
   ],
   "source": [
    "ptr2 + ptr"
   ]
  },
  {
   "cell_type": "code",
   "execution_count": null,
   "id": "21a28df6-54b0-4480-9d8c-6c3ffd3095e7",
   "metadata": {},
   "outputs": [],
   "source": []
  }
 ],
 "metadata": {
  "kernelspec": {
   "display_name": "Python 3 (ipykernel)",
   "language": "python",
   "name": "python3"
  },
  "language_info": {
   "codemirror_mode": {
    "name": "ipython",
    "version": 3
   },
   "file_extension": ".py",
   "mimetype": "text/x-python",
   "name": "python",
   "nbconvert_exporter": "python",
   "pygments_lexer": "ipython3",
   "version": "3.9.7"
  }
 },
 "nbformat": 4,
 "nbformat_minor": 5
}
