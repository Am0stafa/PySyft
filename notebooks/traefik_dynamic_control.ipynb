{
 "cells": [
  {
   "cell_type": "markdown",
   "id": "41c9b75c-db27-45b5-822f-2dd5db5eacc3",
   "metadata": {},
   "source": [
    "# Dynamic Control using Traefik\n",
    "\n",
    "This notebook will show how we can use the Traefik proxy to deal with incoming traffic"
   ]
  },
  {
   "cell_type": "code",
   "execution_count": 4,
   "id": "c519a9e7-b450-4423-a051-779d43f5d46e",
   "metadata": {},
   "outputs": [],
   "source": [
    "import syft as sy\n",
    "from syft.core.node.new.client import SyftClient"
   ]
  },
  {
   "cell_type": "code",
   "execution_count": 2,
   "id": "0b414ca1-e4d3-43e9-b594-bf2cfd5abe24",
   "metadata": {},
   "outputs": [
    {
     "name": "stdout",
     "output_type": "stream",
     "text": [
      "> Starting Worker: Priceless Krizhevsky - 45fb09c98af140e9b3b5273496298664 - NodeType.DOMAIN - [<class 'syft.core.node.new.user_service.UserService'>, <class 'syft.core.node.new.metadata_service.MetadataService'>, <class 'syft.core.node.new.action_service.ActionService'>, <class 'syft.core.node.new.test_service.TestService'>, <class 'syft.core.node.new.dataset_service.DatasetService'>, <class 'syft.core.node.new.user_code_service.UserCodeService'>, <class 'syft.core.node.new.request_service.RequestService'>, <class 'syft.core.node.new.data_subject_service.DataSubjectService'>, <class 'syft.core.node.new.network_service.NetworkService'>, <class 'syft.core.node.new.policy_service.PolicyService'>, <class 'syft.core.node.new.message_service.MessageService'>, <class 'syft.core.node.new.project_service.ProjectService'>, <class 'syft.core.node.new.data_subject_member_service.DataSubjectMemberService'>]\n"
     ]
    }
   ],
   "source": [
    "w = sy.Worker()"
   ]
  },
  {
   "cell_type": "code",
   "execution_count": 6,
   "id": "b856e658-4423-4454-9727-3d5c236f062a",
   "metadata": {},
   "outputs": [],
   "source": [
    "client = SyftClient.from_node(w).login(email=\"info@openmined.org\", password=\"changethis\")"
   ]
  },
  {
   "cell_type": "markdown",
   "id": "cf05ca82-4d05-4324-8c05-17478bcdbe14",
   "metadata": {},
   "source": [
    "### Blocking Traffic from an IP address or hostname"
   ]
  },
  {
   "cell_type": "code",
   "execution_count": null,
   "id": "55cea60b-6f36-4ecb-8157-0e29c0a9faee",
   "metadata": {},
   "outputs": [],
   "source": []
  }
 ],
 "metadata": {
  "kernelspec": {
   "display_name": "Python 3 (ipykernel)",
   "language": "python",
   "name": "python3"
  },
  "language_info": {
   "codemirror_mode": {
    "name": "ipython",
    "version": 3
   },
   "file_extension": ".py",
   "mimetype": "text/x-python",
   "name": "python",
   "nbconvert_exporter": "python",
   "pygments_lexer": "ipython3",
   "version": "3.9.7"
  }
 },
 "nbformat": 4,
 "nbformat_minor": 5
}
