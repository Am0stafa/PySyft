{
 "cells": [
  {
   "cell_type": "code",
   "execution_count": 28,
   "id": "31114ebb-e4e2-427e-9643-b4746e6ec647",
   "metadata": {},
   "outputs": [],
   "source": [
    "import syft as sy"
   ]
  },
  {
   "cell_type": "code",
   "execution_count": 29,
   "id": "f9da0f4a-7064-4c9c-a19a-6a495ceba93e",
   "metadata": {},
   "outputs": [
    {
     "name": "stdout",
     "output_type": "stream",
     "text": [
      "> Starting Worker: Awesome Trask - 962e7c2613a64972ab79004545bc5e74 - NodeType.DOMAIN - [<class 'syft.core.node.new.user_service.UserService'>, <class 'syft.core.node.new.metadata_service.MetadataService'>, <class 'syft.core.node.new.action_service.ActionService'>, <class 'syft.core.node.new.test_service.TestService'>, <class 'syft.core.node.new.dataset_service.DatasetService'>, <class 'syft.core.node.new.user_code_service.UserCodeService'>, <class 'syft.core.node.new.request_service.RequestService'>, <class 'syft.core.node.new.data_subject_service.DataSubjectService'>, <class 'syft.core.node.new.network_service.NetworkService'>, <class 'syft.core.node.new.policy_service.PolicyService'>, <class 'syft.core.node.new.message_service.MessageService'>, <class 'syft.core.node.new.project_service.ProjectService'>, <class 'syft.core.node.new.data_subject_member_service.DataSubjectMemberService'>]\n"
     ]
    }
   ],
   "source": [
    "w = sy.Worker()"
   ]
  },
  {
   "cell_type": "code",
   "execution_count": 30,
   "id": "baf85940-2ffb-43f3-b574-b9121d531d88",
   "metadata": {},
   "outputs": [],
   "source": [
    "from syft.core.node.new.client import SyftClient"
   ]
  },
  {
   "cell_type": "code",
   "execution_count": 31,
   "id": "5dbd78cc-57ef-48d9-929d-d2ed650de1cf",
   "metadata": {},
   "outputs": [],
   "source": [
    "client = SyftClient.from_node(w).login(email=\"info@openmined.org\", password=\"changethis\")"
   ]
  },
  {
   "cell_type": "code",
   "execution_count": 34,
   "id": "fa5c189c-51ce-409b-8db4-fae2ab684d7b",
   "metadata": {},
   "outputs": [
    {
     "name": "stdout",
     "output_type": "stream",
     "text": [
      "Using numpy version: 1.24.2\n"
     ]
    }
   ],
   "source": [
    "nump = client.numpy"
   ]
  },
  {
   "cell_type": "code",
   "execution_count": 35,
   "id": "55ee5b37-3bc0-4835-be5b-7f103bb08642",
   "metadata": {},
   "outputs": [
    {
     "data": {
      "text/plain": [
       "<numpy.errstate at 0x7f00a4e22a30>"
      ]
     },
     "execution_count": 35,
     "metadata": {},
     "output_type": "execute_result"
    }
   ],
   "source": [
    "nump.errstate(all=\"ignore\")"
   ]
  },
  {
   "cell_type": "code",
   "execution_count": 5,
   "id": "74761d8a-c01f-40db-88d6-8cd9aa78c09b",
   "metadata": {},
   "outputs": [
    {
     "data": {
      "text/html": [
       "[]"
      ],
      "text/plain": [
       "<syft.core.node.new.api.APIModule at 0x7f53a52caa90>"
      ]
     },
     "execution_count": 5,
     "metadata": {},
     "output_type": "execute_result"
    }
   ],
   "source": [
    "client.datasets"
   ]
  },
  {
   "cell_type": "code",
   "execution_count": 33,
   "id": "31ad314d-e4a5-4173-b02f-3043bf82b51d",
   "metadata": {},
   "outputs": [],
   "source": [
    "import numpy as np"
   ]
  },
  {
   "cell_type": "code",
   "execution_count": 2,
   "id": "aa4a0fdc-6f22-49b1-8423-35bfb540cc54",
   "metadata": {},
   "outputs": [],
   "source": [
    "data = np.random.rand(5,5)"
   ]
  },
  {
   "cell_type": "code",
   "execution_count": 3,
   "id": "852a8663-9382-4eba-bcc5-f7d539d127ae",
   "metadata": {},
   "outputs": [],
   "source": [
    "from syft.core.node.new.action_object import ActionObject as AO"
   ]
  },
  {
   "cell_type": "code",
   "execution_count": 4,
   "id": "ddab559d-4f2c-439c-a5ac-475290be8321",
   "metadata": {},
   "outputs": [],
   "source": [
    "mock_obj = AO.from_obj(data)"
   ]
  },
  {
   "cell_type": "code",
   "execution_count": 11,
   "id": "98379b1b-a872-4fa4-9a1d-be261a55e667",
   "metadata": {},
   "outputs": [
    {
     "data": {
      "text/plain": [
       "syft.core.node.new.numpy.NumpyArrayObject"
      ]
     },
     "execution_count": 11,
     "metadata": {},
     "output_type": "execute_result"
    }
   ],
   "source": [
    "type(mock_obj)"
   ]
  },
  {
   "cell_type": "code",
   "execution_count": 13,
   "id": "bdd43f60-8f67-468b-9105-28fe52aa3e8f",
   "metadata": {},
   "outputs": [
    {
     "data": {
      "text/plain": [
       "200"
      ]
     },
     "execution_count": 13,
     "metadata": {},
     "output_type": "execute_result"
    }
   ],
   "source": [
    "mock_obj.size * mock_obj.itemsize"
   ]
  },
  {
   "cell_type": "code",
   "execution_count": 15,
   "id": "44263279-19de-4364-afe2-cb25aebd9bfe",
   "metadata": {},
   "outputs": [
    {
     "data": {
      "text/plain": [
       "numpy.ndarray"
      ]
     },
     "execution_count": 15,
     "metadata": {},
     "output_type": "execute_result"
    }
   ],
   "source": [
    "test = np.zeros_like(mock_obj)\n",
    "type(test)"
   ]
  },
  {
   "cell_type": "code",
   "execution_count": 18,
   "id": "3ff1c951-879a-4b43-8a8e-81169506cd11",
   "metadata": {},
   "outputs": [
    {
     "data": {
      "text/plain": [
       "array([[0.8906231 , 0.14224822, 0.41515701, 0.34948884, 0.58334809],\n",
       "       [0.73758492, 0.88064269, 0.75016735, 0.76135461, 0.42814184],\n",
       "       [0.85569368, 0.0802496 , 0.46299181, 0.20235351, 0.30928387],\n",
       "       [0.53303179, 0.78927777, 0.0026275 , 0.10801157, 0.75547466],\n",
       "       [0.42870802, 0.7236199 , 0.30768821, 0.21749469, 0.96808116]])"
      ]
     },
     "execution_count": 18,
     "metadata": {},
     "output_type": "execute_result"
    }
   ],
   "source": [
    "mock_obj"
   ]
  },
  {
   "cell_type": "code",
   "execution_count": 19,
   "id": "d67954fa-4331-417b-b3a7-3c7e9b11e145",
   "metadata": {},
   "outputs": [
    {
     "data": {
      "text/plain": [
       "array([[0.42870802, 0.7236199 , 0.30768821, 0.21749469, 0.96808116],\n",
       "       [0.53303179, 0.78927777, 0.0026275 , 0.10801157, 0.75547466],\n",
       "       [0.85569368, 0.0802496 , 0.46299181, 0.20235351, 0.30928387],\n",
       "       [0.73758492, 0.88064269, 0.75016735, 0.76135461, 0.42814184],\n",
       "       [0.8906231 , 0.14224822, 0.41515701, 0.34948884, 0.58334809]])"
      ]
     },
     "execution_count": 19,
     "metadata": {},
     "output_type": "execute_result"
    }
   ],
   "source": [
    "mock_obj[::-1]"
   ]
  },
  {
   "cell_type": "code",
   "execution_count": 21,
   "id": "79ea9ea5-6ffd-4ac3-8327-0bdd6d6954c3",
   "metadata": {},
   "outputs": [
    {
     "data": {
      "text/plain": [
       "syft.core.node.new.numpy.NumpyArrayObject"
      ]
     },
     "execution_count": 21,
     "metadata": {},
     "output_type": "execute_result"
    }
   ],
   "source": [
    "type(mock_obj.reshape(25,))"
   ]
  },
  {
   "cell_type": "code",
   "execution_count": 22,
   "id": "0aa9e31a-bef9-4223-8dee-f3420412dd52",
   "metadata": {},
   "outputs": [
    {
     "data": {
      "text/plain": [
       "(array([0, 0, 0, 0, 0, 1, 1, 1, 1, 1, 2, 2, 2, 2, 2, 3, 3, 3, 3, 3, 4, 4,\n",
       "       4, 4, 4]), array([0, 1, 2, 3, 4, 0, 1, 2, 3, 4, 0, 1, 2, 3, 4, 0, 1, 2, 3, 4, 0, 1,\n",
       "       2, 3, 4]))"
      ]
     },
     "execution_count": 22,
     "metadata": {},
     "output_type": "execute_result"
    }
   ],
   "source": [
    "np.nonzero(mock_obj)"
   ]
  },
  {
   "cell_type": "code",
   "execution_count": 23,
   "id": "93e61d20-8cc2-4d95-867e-36bd5ef8ad60",
   "metadata": {},
   "outputs": [
    {
     "data": {
      "text/plain": [
       "(array([0, 0, 0, 0, 0, 1, 1, 1, 1, 1, 2, 2, 2, 2, 2, 3, 3, 3, 3, 3, 4, 4,\n",
       "        4, 4, 4]),\n",
       " array([0, 1, 2, 3, 4, 0, 1, 2, 3, 4, 0, 1, 2, 3, 4, 0, 1, 2, 3, 4, 0, 1,\n",
       "        2, 3, 4]))"
      ]
     },
     "execution_count": 23,
     "metadata": {},
     "output_type": "execute_result"
    }
   ],
   "source": [
    "np.nonzero(data)"
   ]
  },
  {
   "cell_type": "code",
   "execution_count": 25,
   "id": "6fa984e4-be95-4b78-9c5c-38b7a94dceaf",
   "metadata": {},
   "outputs": [
    {
     "data": {
      "text/plain": [
       "(syft.core.node.new.action_object.AnyActionObject, tuple)"
      ]
     },
     "execution_count": 25,
     "metadata": {},
     "output_type": "execute_result"
    }
   ],
   "source": [
    "type(np.nonzero(mock_obj)), type(np.nonzero(data))"
   ]
  },
  {
   "cell_type": "code",
   "execution_count": 33,
   "id": "4f549fcd-8571-490e-9e3f-05f5ee1cec4b",
   "metadata": {},
   "outputs": [
    {
     "name": "stdout",
     "output_type": "stream",
     "text": [
      "182 µs ± 1.86 µs per loop (mean ± std. dev. of 7 runs, 10000 loops each)\n"
     ]
    }
   ],
   "source": [
    "%%timeit\n",
    "mock_obj.min()"
   ]
  },
  {
   "cell_type": "code",
   "execution_count": 34,
   "id": "272db5ed-4d89-4a48-8b41-0be69be1a6e3",
   "metadata": {},
   "outputs": [
    {
     "name": "stdout",
     "output_type": "stream",
     "text": [
      "148 µs ± 3.69 µs per loop (mean ± std. dev. of 7 runs, 10000 loops each)\n"
     ]
    }
   ],
   "source": [
    "%%timeit\n",
    "np.min(mock_obj)"
   ]
  },
  {
   "cell_type": "code",
   "execution_count": 35,
   "id": "43de8534-840d-449d-a351-0c309237daf4",
   "metadata": {},
   "outputs": [
    {
     "name": "stdout",
     "output_type": "stream",
     "text": [
      "1.15 µs ± 23.2 ns per loop (mean ± std. dev. of 7 runs, 1000000 loops each)\n"
     ]
    }
   ],
   "source": [
    "%%timeit\n",
    "data.min()"
   ]
  },
  {
   "cell_type": "code",
   "execution_count": 36,
   "id": "c1cfa897-13b6-4c26-9c20-90047077704c",
   "metadata": {},
   "outputs": [
    {
     "name": "stdout",
     "output_type": "stream",
     "text": [
      "2.83 µs ± 54.8 ns per loop (mean ± std. dev. of 7 runs, 100000 loops each)\n"
     ]
    }
   ],
   "source": [
    "%%timeit\n",
    "np.min(data)"
   ]
  },
  {
   "cell_type": "code",
   "execution_count": 31,
   "id": "989477ae-57c9-4b5d-ab30-4873a6d747f6",
   "metadata": {},
   "outputs": [
    {
     "data": {
      "text/plain": [
       "0.9680811634589389"
      ]
     },
     "execution_count": 31,
     "metadata": {},
     "output_type": "execute_result"
    }
   ],
   "source": [
    "np.max(mock_obj)"
   ]
  },
  {
   "cell_type": "code",
   "execution_count": 32,
   "id": "7101ff23-be65-4502-8b9e-00f47998563f",
   "metadata": {},
   "outputs": [
    {
     "data": {
      "text/plain": [
       "0.9680811634589389"
      ]
     },
     "execution_count": 32,
     "metadata": {},
     "output_type": "execute_result"
    }
   ],
   "source": [
    "mock_obj.max()"
   ]
  },
  {
   "cell_type": "code",
   "execution_count": 38,
   "id": "51f7ad5e-7b8d-4f9c-a01a-26a9a554e21b",
   "metadata": {},
   "outputs": [],
   "source": [
    "big_data = np.random.rand(1000,1000)"
   ]
  },
  {
   "cell_type": "code",
   "execution_count": 39,
   "id": "df24760a-5b74-418f-b030-ed583987b790",
   "metadata": {},
   "outputs": [],
   "source": [
    "big_mock = AO.from_obj(big_data)"
   ]
  },
  {
   "cell_type": "code",
   "execution_count": 41,
   "id": "f5f4d4ba-e899-4533-9a78-7fd552c47bbc",
   "metadata": {},
   "outputs": [
    {
     "name": "stdout",
     "output_type": "stream",
     "text": [
      "ufunc being called\n"
     ]
    },
    {
     "data": {
      "text/plain": [
       "True"
      ]
     },
     "execution_count": 41,
     "metadata": {},
     "output_type": "execute_result"
    }
   ],
   "source": [
    "(big_data == big_mock).all()"
   ]
  },
  {
   "cell_type": "code",
   "execution_count": 42,
   "id": "98bd86a9-67fc-4c99-95d8-e0e800c8b0ce",
   "metadata": {},
   "outputs": [
    {
     "name": "stdout",
     "output_type": "stream",
     "text": [
      "296 µs ± 22.9 µs per loop (mean ± std. dev. of 7 runs, 1000 loops each)\n"
     ]
    }
   ],
   "source": [
    "%%timeit\n",
    "big_data.min()"
   ]
  },
  {
   "cell_type": "code",
   "execution_count": 43,
   "id": "74b4a92b-891a-46fa-a5f8-9b1bac318cd4",
   "metadata": {},
   "outputs": [
    {
     "name": "stdout",
     "output_type": "stream",
     "text": [
      "559 µs ± 22.8 µs per loop (mean ± std. dev. of 7 runs, 1000 loops each)\n"
     ]
    }
   ],
   "source": [
    "%%timeit\n",
    "big_mock.min()"
   ]
  },
  {
   "cell_type": "code",
   "execution_count": 44,
   "id": "7c9ba64f-f25a-45dc-adad-5f04e0e97665",
   "metadata": {},
   "outputs": [
    {
     "name": "stdout",
     "output_type": "stream",
     "text": [
      "308 µs ± 19.2 µs per loop (mean ± std. dev. of 7 runs, 1000 loops each)\n"
     ]
    }
   ],
   "source": [
    "%%timeit\n",
    "big_data.mean()"
   ]
  },
  {
   "cell_type": "code",
   "execution_count": 45,
   "id": "83c6f013-46c6-4080-a25b-5ec5e27b962d",
   "metadata": {},
   "outputs": [
    {
     "name": "stdout",
     "output_type": "stream",
     "text": [
      "564 µs ± 35.7 µs per loop (mean ± std. dev. of 7 runs, 1000 loops each)\n"
     ]
    }
   ],
   "source": [
    "%%timeit\n",
    "big_mock.mean()"
   ]
  },
  {
   "cell_type": "code",
   "execution_count": 46,
   "id": "bdfb6449-f58b-4a77-a8c1-2e07e036c024",
   "metadata": {},
   "outputs": [
    {
     "data": {
      "text/plain": [
       "array([[0.        , 0.        , 0.        , 0.        , 0.        ,\n",
       "        0.        , 0.        ],\n",
       "       [0.        , 0.8906231 , 0.14224822, 0.41515701, 0.34948884,\n",
       "        0.58334809, 0.        ],\n",
       "       [0.        , 0.73758492, 0.88064269, 0.75016735, 0.76135461,\n",
       "        0.42814184, 0.        ],\n",
       "       [0.        , 0.85569368, 0.0802496 , 0.46299181, 0.20235351,\n",
       "        0.30928387, 0.        ],\n",
       "       [0.        , 0.53303179, 0.78927777, 0.0026275 , 0.10801157,\n",
       "        0.75547466, 0.        ],\n",
       "       [0.        , 0.42870802, 0.7236199 , 0.30768821, 0.21749469,\n",
       "        0.96808116, 0.        ],\n",
       "       [0.        , 0.        , 0.        , 0.        , 0.        ,\n",
       "        0.        , 0.        ]])"
      ]
     },
     "execution_count": 46,
     "metadata": {},
     "output_type": "execute_result"
    }
   ],
   "source": [
    "np.pad(mock_obj, pad_width=1)"
   ]
  },
  {
   "cell_type": "code",
   "execution_count": 47,
   "id": "5dbeddd4-fcbc-4842-8511-8e26614f86eb",
   "metadata": {},
   "outputs": [
    {
     "data": {
      "text/plain": [
       "array([[0.        , 0.        , 0.        , 0.        , 0.        ,\n",
       "        0.        , 0.        ],\n",
       "       [0.        , 0.8906231 , 0.14224822, 0.41515701, 0.34948884,\n",
       "        0.58334809, 0.        ],\n",
       "       [0.        , 0.73758492, 0.88064269, 0.75016735, 0.76135461,\n",
       "        0.42814184, 0.        ],\n",
       "       [0.        , 0.85569368, 0.0802496 , 0.46299181, 0.20235351,\n",
       "        0.30928387, 0.        ],\n",
       "       [0.        , 0.53303179, 0.78927777, 0.0026275 , 0.10801157,\n",
       "        0.75547466, 0.        ],\n",
       "       [0.        , 0.42870802, 0.7236199 , 0.30768821, 0.21749469,\n",
       "        0.96808116, 0.        ],\n",
       "       [0.        , 0.        , 0.        , 0.        , 0.        ,\n",
       "        0.        , 0.        ]])"
      ]
     },
     "execution_count": 47,
     "metadata": {},
     "output_type": "execute_result"
    }
   ],
   "source": [
    "np.pad(data, pad_width=1)"
   ]
  },
  {
   "cell_type": "code",
   "execution_count": 49,
   "id": "6af99327-d6e8-40ab-8b8c-919d64793834",
   "metadata": {},
   "outputs": [
    {
     "data": {
      "text/plain": [
       "numpy.ndarray"
      ]
     },
     "execution_count": 49,
     "metadata": {},
     "output_type": "execute_result"
    }
   ],
   "source": [
    "type(np.pad(mock_obj, pad_width=1))"
   ]
  },
  {
   "cell_type": "code",
   "execution_count": 51,
   "id": "9f952b6b-6e08-430f-85a3-d1ed6e6451cb",
   "metadata": {},
   "outputs": [],
   "source": [
    "x = AO.from_obj(0 * np.nan)"
   ]
  },
  {
   "cell_type": "code",
   "execution_count": 52,
   "id": "2d0d8731-8e65-4c89-917a-64999e4e7422",
   "metadata": {},
   "outputs": [
    {
     "data": {
      "text/plain": [
       "syft.core.node.new.action_object.AnyActionObject"
      ]
     },
     "execution_count": 52,
     "metadata": {},
     "output_type": "execute_result"
    }
   ],
   "source": [
    "type(x)"
   ]
  },
  {
   "cell_type": "code",
   "execution_count": 53,
   "id": "b5815f92-73b8-488b-a07b-3b4bd26b4efc",
   "metadata": {},
   "outputs": [
    {
     "data": {
      "text/plain": [
       "syft.core.node.new.action_object.AnyActionObject"
      ]
     },
     "execution_count": 53,
     "metadata": {},
     "output_type": "execute_result"
    }
   ],
   "source": [
    "type(AO.from_obj(np.nan == np.nan))"
   ]
  },
  {
   "cell_type": "code",
   "execution_count": 56,
   "id": "73e82678-be1e-471b-86be-c464c81de23a",
   "metadata": {},
   "outputs": [
    {
     "data": {
      "text/plain": [
       "numpy.ndarray"
      ]
     },
     "execution_count": 56,
     "metadata": {},
     "output_type": "execute_result"
    }
   ],
   "source": [
    "type(np.diag(mock_obj))"
   ]
  },
  {
   "cell_type": "code",
   "execution_count": 58,
   "id": "30c01d99-4fdf-4dcf-8e75-1f11897f8247",
   "metadata": {},
   "outputs": [
    {
     "data": {
      "text/plain": [
       "syft.core.node.new.numpy.NumpyArrayObject"
      ]
     },
     "execution_count": 58,
     "metadata": {},
     "output_type": "execute_result"
    }
   ],
   "source": [
    "type(mock_obj.astype(np.int32))"
   ]
  },
  {
   "cell_type": "code",
   "execution_count": 62,
   "id": "0e947405-84af-4e4f-a1ba-86dae5bc8e02",
   "metadata": {},
   "outputs": [
    {
     "data": {
      "text/plain": [
       "syft.core.node.new.numpy.NumpyArrayObject"
      ]
     },
     "execution_count": 62,
     "metadata": {},
     "output_type": "execute_result"
    }
   ],
   "source": [
    "type(mock_obj.astype(int))"
   ]
  },
  {
   "cell_type": "code",
   "execution_count": 65,
   "id": "9a9414f5-57d1-4679-88bb-ac90f4b8b383",
   "metadata": {},
   "outputs": [
    {
     "data": {
      "text/plain": [
       "(5, 5)"
      ]
     },
     "execution_count": 65,
     "metadata": {},
     "output_type": "execute_result"
    }
   ],
   "source": [
    "mock_obj.shape"
   ]
  },
  {
   "cell_type": "code",
   "execution_count": 69,
   "id": "39873c75-12fc-4120-9460-3d3e1bb667c3",
   "metadata": {},
   "outputs": [
    {
     "data": {
      "text/plain": [
       "syft.core.node.new.action_object.AnyActionObject"
      ]
     },
     "execution_count": 69,
     "metadata": {},
     "output_type": "execute_result"
    }
   ],
   "source": [
    "type(mock_obj.shape)"
   ]
  },
  {
   "cell_type": "code",
   "execution_count": 64,
   "id": "4b7e7752-847b-4376-96e5-d04fa1b99a57",
   "metadata": {},
   "outputs": [
    {
     "ename": "TypeError",
     "evalue": "'tuple' object cannot be interpreted as an integer",
     "output_type": "error",
     "traceback": [
      "\u001b[0;31m---------------------------------------------------------------------------\u001b[0m",
      "\u001b[0;31mTypeError\u001b[0m                                 Traceback (most recent call last)",
      "\u001b[0;32m/tmp/ipykernel_49406/2910248476.py\u001b[0m in \u001b[0;36m<module>\u001b[0;34m\u001b[0m\n\u001b[0;32m----> 1\u001b[0;31m \u001b[0mnp\u001b[0m\u001b[0;34m.\u001b[0m\u001b[0munravel_index\u001b[0m\u001b[0;34m(\u001b[0m\u001b[0;36m12\u001b[0m\u001b[0;34m,\u001b[0m \u001b[0mmock_obj\u001b[0m\u001b[0;34m.\u001b[0m\u001b[0mshape\u001b[0m\u001b[0;34m)\u001b[0m\u001b[0;34m\u001b[0m\u001b[0;34m\u001b[0m\u001b[0m\n\u001b[0m",
      "\u001b[0;32m~/anaconda3/envs/Hagrid/lib/python3.9/site-packages/numpy/core/overrides.py\u001b[0m in \u001b[0;36munravel_index\u001b[0;34m(*args, **kwargs)\u001b[0m\n",
      "\u001b[0;31mTypeError\u001b[0m: 'tuple' object cannot be interpreted as an integer"
     ]
    }
   ],
   "source": [
    "np.unravel_index(12, mock_obj.shape)"
   ]
  },
  {
   "cell_type": "code",
   "execution_count": 66,
   "id": "aa096e0c-4d5e-4c4b-b13c-6e3b92b49def",
   "metadata": {},
   "outputs": [
    {
     "data": {
      "text/plain": [
       "(2, 2)"
      ]
     },
     "execution_count": 66,
     "metadata": {},
     "output_type": "execute_result"
    }
   ],
   "source": [
    "np.unravel_index(12, (5,5))"
   ]
  },
  {
   "cell_type": "code",
   "execution_count": 67,
   "id": "5c0512e8-e4d7-4bd1-8cc1-c0f74307add8",
   "metadata": {},
   "outputs": [
    {
     "data": {
      "text/plain": [
       "(2, 2)"
      ]
     },
     "execution_count": 67,
     "metadata": {},
     "output_type": "execute_result"
    }
   ],
   "source": [
    "np.unravel_index(12, data.shape)"
   ]
  },
  {
   "cell_type": "code",
   "execution_count": 68,
   "id": "998d608d-055e-49b2-9a7a-90d64458e264",
   "metadata": {},
   "outputs": [
    {
     "ename": "TypeError",
     "evalue": "'tuple' object cannot be interpreted as an integer",
     "output_type": "error",
     "traceback": [
      "\u001b[0;31m---------------------------------------------------------------------------\u001b[0m",
      "\u001b[0;31mTypeError\u001b[0m                                 Traceback (most recent call last)",
      "\u001b[0;32m/tmp/ipykernel_49406/2910248476.py\u001b[0m in \u001b[0;36m<module>\u001b[0;34m\u001b[0m\n\u001b[0;32m----> 1\u001b[0;31m \u001b[0mnp\u001b[0m\u001b[0;34m.\u001b[0m\u001b[0munravel_index\u001b[0m\u001b[0;34m(\u001b[0m\u001b[0;36m12\u001b[0m\u001b[0;34m,\u001b[0m \u001b[0mmock_obj\u001b[0m\u001b[0;34m.\u001b[0m\u001b[0mshape\u001b[0m\u001b[0;34m)\u001b[0m\u001b[0;34m\u001b[0m\u001b[0;34m\u001b[0m\u001b[0m\n\u001b[0m",
      "\u001b[0;32m~/anaconda3/envs/Hagrid/lib/python3.9/site-packages/numpy/core/overrides.py\u001b[0m in \u001b[0;36munravel_index\u001b[0;34m(*args, **kwargs)\u001b[0m\n",
      "\u001b[0;31mTypeError\u001b[0m: 'tuple' object cannot be interpreted as an integer"
     ]
    }
   ],
   "source": [
    "np.unravel_index(12, mock_obj.shape)"
   ]
  },
  {
   "cell_type": "code",
   "execution_count": 73,
   "id": "58fa2227-7e57-4bc4-9764-f1ac4efdbcf6",
   "metadata": {},
   "outputs": [
    {
     "data": {
      "text/plain": [
       "array([[0.8906231 , 0.14224822, 0.41515701, 0.34948884, 0.58334809,\n",
       "        0.8906231 , 0.14224822, 0.41515701, 0.34948884, 0.58334809,\n",
       "        0.8906231 , 0.14224822, 0.41515701, 0.34948884, 0.58334809,\n",
       "        0.8906231 , 0.14224822, 0.41515701, 0.34948884, 0.58334809,\n",
       "        0.8906231 , 0.14224822, 0.41515701, 0.34948884, 0.58334809],\n",
       "       [0.73758492, 0.88064269, 0.75016735, 0.76135461, 0.42814184,\n",
       "        0.73758492, 0.88064269, 0.75016735, 0.76135461, 0.42814184,\n",
       "        0.73758492, 0.88064269, 0.75016735, 0.76135461, 0.42814184,\n",
       "        0.73758492, 0.88064269, 0.75016735, 0.76135461, 0.42814184,\n",
       "        0.73758492, 0.88064269, 0.75016735, 0.76135461, 0.42814184],\n",
       "       [0.85569368, 0.0802496 , 0.46299181, 0.20235351, 0.30928387,\n",
       "        0.85569368, 0.0802496 , 0.46299181, 0.20235351, 0.30928387,\n",
       "        0.85569368, 0.0802496 , 0.46299181, 0.20235351, 0.30928387,\n",
       "        0.85569368, 0.0802496 , 0.46299181, 0.20235351, 0.30928387,\n",
       "        0.85569368, 0.0802496 , 0.46299181, 0.20235351, 0.30928387],\n",
       "       [0.53303179, 0.78927777, 0.0026275 , 0.10801157, 0.75547466,\n",
       "        0.53303179, 0.78927777, 0.0026275 , 0.10801157, 0.75547466,\n",
       "        0.53303179, 0.78927777, 0.0026275 , 0.10801157, 0.75547466,\n",
       "        0.53303179, 0.78927777, 0.0026275 , 0.10801157, 0.75547466,\n",
       "        0.53303179, 0.78927777, 0.0026275 , 0.10801157, 0.75547466],\n",
       "       [0.42870802, 0.7236199 , 0.30768821, 0.21749469, 0.96808116,\n",
       "        0.42870802, 0.7236199 , 0.30768821, 0.21749469, 0.96808116,\n",
       "        0.42870802, 0.7236199 , 0.30768821, 0.21749469, 0.96808116,\n",
       "        0.42870802, 0.7236199 , 0.30768821, 0.21749469, 0.96808116,\n",
       "        0.42870802, 0.7236199 , 0.30768821, 0.21749469, 0.96808116]])"
      ]
     },
     "execution_count": 73,
     "metadata": {},
     "output_type": "execute_result"
    }
   ],
   "source": [
    "np.tile(data, 5)"
   ]
  },
  {
   "cell_type": "code",
   "execution_count": 74,
   "id": "ed126210-aaae-40fb-93f7-3d04e4e2fdf2",
   "metadata": {},
   "outputs": [
    {
     "data": {
      "text/plain": [
       "array([[0.8906231 , 0.14224822, 0.41515701, 0.34948884, 0.58334809,\n",
       "        0.8906231 , 0.14224822, 0.41515701, 0.34948884, 0.58334809,\n",
       "        0.8906231 , 0.14224822, 0.41515701, 0.34948884, 0.58334809,\n",
       "        0.8906231 , 0.14224822, 0.41515701, 0.34948884, 0.58334809,\n",
       "        0.8906231 , 0.14224822, 0.41515701, 0.34948884, 0.58334809],\n",
       "       [0.73758492, 0.88064269, 0.75016735, 0.76135461, 0.42814184,\n",
       "        0.73758492, 0.88064269, 0.75016735, 0.76135461, 0.42814184,\n",
       "        0.73758492, 0.88064269, 0.75016735, 0.76135461, 0.42814184,\n",
       "        0.73758492, 0.88064269, 0.75016735, 0.76135461, 0.42814184,\n",
       "        0.73758492, 0.88064269, 0.75016735, 0.76135461, 0.42814184],\n",
       "       [0.85569368, 0.0802496 , 0.46299181, 0.20235351, 0.30928387,\n",
       "        0.85569368, 0.0802496 , 0.46299181, 0.20235351, 0.30928387,\n",
       "        0.85569368, 0.0802496 , 0.46299181, 0.20235351, 0.30928387,\n",
       "        0.85569368, 0.0802496 , 0.46299181, 0.20235351, 0.30928387,\n",
       "        0.85569368, 0.0802496 , 0.46299181, 0.20235351, 0.30928387],\n",
       "       [0.53303179, 0.78927777, 0.0026275 , 0.10801157, 0.75547466,\n",
       "        0.53303179, 0.78927777, 0.0026275 , 0.10801157, 0.75547466,\n",
       "        0.53303179, 0.78927777, 0.0026275 , 0.10801157, 0.75547466,\n",
       "        0.53303179, 0.78927777, 0.0026275 , 0.10801157, 0.75547466,\n",
       "        0.53303179, 0.78927777, 0.0026275 , 0.10801157, 0.75547466],\n",
       "       [0.42870802, 0.7236199 , 0.30768821, 0.21749469, 0.96808116,\n",
       "        0.42870802, 0.7236199 , 0.30768821, 0.21749469, 0.96808116,\n",
       "        0.42870802, 0.7236199 , 0.30768821, 0.21749469, 0.96808116,\n",
       "        0.42870802, 0.7236199 , 0.30768821, 0.21749469, 0.96808116,\n",
       "        0.42870802, 0.7236199 , 0.30768821, 0.21749469, 0.96808116]])"
      ]
     },
     "execution_count": 74,
     "metadata": {},
     "output_type": "execute_result"
    }
   ],
   "source": [
    "np.tile(mock_obj, 5)"
   ]
  },
  {
   "cell_type": "code",
   "execution_count": 75,
   "id": "17aa8218-24af-4b00-854e-7d6902f9e12b",
   "metadata": {},
   "outputs": [
    {
     "data": {
      "text/plain": [
       "numpy.ndarray"
      ]
     },
     "execution_count": 75,
     "metadata": {},
     "output_type": "execute_result"
    }
   ],
   "source": [
    "type(np.tile(mock_obj, 5))"
   ]
  },
  {
   "cell_type": "code",
   "execution_count": 76,
   "id": "d55a0338-be41-44ec-8387-3d191d1b2320",
   "metadata": {},
   "outputs": [
    {
     "name": "stdout",
     "output_type": "stream",
     "text": [
      "ufunc being called\n"
     ]
    },
    {
     "name": "stderr",
     "output_type": "stream",
     "text": [
      "---------------------------------------------------------------------------\n",
      "SyftException\n",
      "---------------------------------------------------------------------------\n",
      "Exception: Must init <class 'syft.core.node.new.numpy.NumpyArrayObject'> with <class 'numpy.ndarray'> not <class 'numpy.float64'>\n"
     ]
    }
   ],
   "source": [
    "(mock_obj - mock_obj.mean())/np.std(mock_obj)"
   ]
  },
  {
   "cell_type": "code",
   "execution_count": 77,
   "id": "37f244bb-3d5a-4acb-ab4a-70e6d4f938ec",
   "metadata": {},
   "outputs": [
    {
     "data": {
      "text/plain": [
       "0.5073337768795774"
      ]
     },
     "execution_count": 77,
     "metadata": {},
     "output_type": "execute_result"
    }
   ],
   "source": [
    "mock_obj.mean()"
   ]
  },
  {
   "cell_type": "code",
   "execution_count": 78,
   "id": "22f56d05-d2f3-4b3c-86f8-181d32117e37",
   "metadata": {},
   "outputs": [
    {
     "data": {
      "text/plain": [
       "array([[ 0.38328932, -0.36508555, -0.09217677, -0.15784494,  0.07601431],\n",
       "       [ 0.23025115,  0.37330892,  0.24283357,  0.25402084, -0.07919194],\n",
       "       [ 0.34835991, -0.42708418, -0.04434196, -0.30498027, -0.19804991],\n",
       "       [ 0.02569801,  0.281944  , -0.50470627, -0.3993222 ,  0.24814088],\n",
       "       [-0.07862576,  0.21628612, -0.19964557, -0.28983909,  0.46074739]])"
      ]
     },
     "execution_count": 78,
     "metadata": {},
     "output_type": "execute_result"
    }
   ],
   "source": [
    "mock_obj - mock_obj.mean()"
   ]
  },
  {
   "cell_type": "code",
   "execution_count": 79,
   "id": "4b526616-c4c6-49d0-b668-5e2e7fa473bf",
   "metadata": {},
   "outputs": [
    {
     "data": {
      "text/plain": [
       "0.28457096543017246"
      ]
     },
     "execution_count": 79,
     "metadata": {},
     "output_type": "execute_result"
    }
   ],
   "source": [
    "np.std(mock_obj)"
   ]
  },
  {
   "cell_type": "code",
   "execution_count": 81,
   "id": "2fb2ec89-fb17-404c-ac68-12bfa788dc50",
   "metadata": {},
   "outputs": [
    {
     "name": "stdout",
     "output_type": "stream",
     "text": [
      "ufunc being called\n"
     ]
    },
    {
     "data": {
      "text/plain": [
       "array([[ 0.07665786, -0.07301711, -0.01843535, -0.03156899,  0.01520286],\n",
       "       [ 0.04605023,  0.07466178,  0.04856671,  0.05080417, -0.01583839],\n",
       "       [ 0.06967198, -0.08541684, -0.00886839, -0.06099605, -0.03960998],\n",
       "       [ 0.0051396 ,  0.0563888 , -0.10094125, -0.07986444,  0.04962818],\n",
       "       [-0.01572515,  0.04325722, -0.03992911, -0.05796782,  0.09214948]])"
      ]
     },
     "execution_count": 81,
     "metadata": {},
     "output_type": "execute_result"
    }
   ],
   "source": [
    "(mock_obj - mock_obj.mean())/5"
   ]
  },
  {
   "cell_type": "code",
   "execution_count": 82,
   "id": "714e7ff7-8c22-485b-9a5f-ccc2b07894d4",
   "metadata": {},
   "outputs": [
    {
     "name": "stdout",
     "output_type": "stream",
     "text": [
      "ufunc being called\n"
     ]
    },
    {
     "name": "stderr",
     "output_type": "stream",
     "text": [
      "---------------------------------------------------------------------------\n",
      "SyftException\n",
      "---------------------------------------------------------------------------\n",
      "Exception: Must init <class 'syft.core.node.new.numpy.NumpyArrayObject'> with <class 'numpy.ndarray'> not <class 'numpy.float64'>\n"
     ]
    }
   ],
   "source": [
    "(mock_obj - mock_obj.mean())/np.std(mock_obj)"
   ]
  },
  {
   "cell_type": "code",
   "execution_count": 83,
   "id": "5414e190-7600-4b5b-8e79-cbd56b3f9473",
   "metadata": {},
   "outputs": [],
   "source": [
    "color = np.dtype([(\"r\", np.ubyte),\n",
    "                  (\"g\", np.ubyte),\n",
    "                  (\"b\", np.ubyte),\n",
    "                  (\"a\", np.ubyte)])"
   ]
  },
  {
   "cell_type": "code",
   "execution_count": 84,
   "id": "d1816464-1639-4296-ad0c-230ff415b392",
   "metadata": {},
   "outputs": [
    {
     "data": {
      "text/plain": [
       "dtype([('r', 'u1'), ('g', 'u1'), ('b', 'u1'), ('a', 'u1')])"
      ]
     },
     "execution_count": 84,
     "metadata": {},
     "output_type": "execute_result"
    }
   ],
   "source": [
    "color"
   ]
  },
  {
   "cell_type": "code",
   "execution_count": 91,
   "id": "8a45256b-7278-47f5-9fa5-114a444d7d1b",
   "metadata": {},
   "outputs": [],
   "source": [
    "x = AO.from_obj(np.empty(4, dtype=color))"
   ]
  },
  {
   "cell_type": "code",
   "execution_count": 92,
   "id": "ec66996b-91ac-45ec-9497-87b61d002cff",
   "metadata": {},
   "outputs": [
    {
     "data": {
      "text/plain": [
       "syft.core.node.new.numpy.NumpyArrayObject"
      ]
     },
     "execution_count": 92,
     "metadata": {},
     "output_type": "execute_result"
    }
   ],
   "source": [
    "type(x)"
   ]
  },
  {
   "cell_type": "code",
   "execution_count": 6,
   "id": "82132229-1790-41c0-9ceb-d0dd706f4ac3",
   "metadata": {},
   "outputs": [
    {
     "data": {
      "text/plain": [
       "array([[0.47530346, 0.66052196, 0.98163983, 0.58228649, 0.84171925],\n",
       "       [0.82132028, 0.27038756, 0.66440731, 0.04827052, 0.4155307 ],\n",
       "       [0.73724016, 0.77283415, 0.5233079 , 0.76979762, 0.10958374],\n",
       "       [0.9128778 , 0.62540166, 0.26264224, 0.62632706, 0.05526292],\n",
       "       [0.18481251, 0.45873474, 0.05810075, 0.97095045, 0.90676308]])"
      ]
     },
     "execution_count": 6,
     "metadata": {},
     "output_type": "execute_result"
    }
   ],
   "source": [
    "data"
   ]
  },
  {
   "cell_type": "code",
   "execution_count": 9,
   "id": "d06cb200-646e-4129-9c3c-812bce9e49f3",
   "metadata": {},
   "outputs": [],
   "source": [
    "data[data > 0.5] *= -1"
   ]
  },
  {
   "cell_type": "code",
   "execution_count": 10,
   "id": "5fc8a5f5-0bb7-45c9-a696-420124cded60",
   "metadata": {},
   "outputs": [
    {
     "data": {
      "text/plain": [
       "array([[ 0.47530346, -0.66052196, -0.98163983, -0.58228649, -0.84171925],\n",
       "       [-0.82132028,  0.27038756, -0.66440731,  0.04827052,  0.4155307 ],\n",
       "       [-0.73724016, -0.77283415, -0.5233079 , -0.76979762,  0.10958374],\n",
       "       [-0.9128778 , -0.62540166,  0.26264224, -0.62632706,  0.05526292],\n",
       "       [ 0.18481251,  0.45873474,  0.05810075, -0.97095045, -0.90676308]])"
      ]
     },
     "execution_count": 10,
     "metadata": {},
     "output_type": "execute_result"
    }
   ],
   "source": [
    "data"
   ]
  },
  {
   "cell_type": "code",
   "execution_count": 12,
   "id": "05bc520a-6bb9-4f10-a378-498259b5324a",
   "metadata": {},
   "outputs": [
    {
     "data": {
      "text/plain": [
       "array([[ 0.47530346, -0.66052196, -0.98163983, -0.58228649, -0.84171925],\n",
       "       [-0.82132028,  0.27038756, -0.66440731,  0.04827052,  0.4155307 ],\n",
       "       [-0.73724016, -0.77283415, -0.5233079 , -0.76979762,  0.10958374],\n",
       "       [-0.9128778 , -0.62540166,  0.26264224, -0.62632706,  0.05526292],\n",
       "       [ 0.18481251,  0.45873474,  0.05810075, -0.97095045, -0.90676308]])"
      ]
     },
     "execution_count": 12,
     "metadata": {},
     "output_type": "execute_result"
    }
   ],
   "source": [
    "mock_obj"
   ]
  },
  {
   "cell_type": "code",
   "execution_count": 13,
   "id": "ace5fa30-512b-43cb-ade5-e849952a7d93",
   "metadata": {},
   "outputs": [
    {
     "data": {
      "text/plain": [
       "array([[ True, False, False, False, False],\n",
       "       [False,  True, False, False,  True],\n",
       "       [False, False, False, False, False],\n",
       "       [False, False,  True, False, False],\n",
       "       [False,  True, False, False, False]])"
      ]
     },
     "execution_count": 13,
     "metadata": {},
     "output_type": "execute_result"
    }
   ],
   "source": [
    "mock_obj > 0.25"
   ]
  },
  {
   "cell_type": "code",
   "execution_count": 10,
   "id": "db03b20e-63a3-4789-9ef1-7d009ed8f39a",
   "metadata": {},
   "outputs": [
    {
     "data": {
      "text/plain": [
       "array([[0.33895536, 0.66670463, 0.1173671 , 0.75936097, 0.24399529],\n",
       "       [0.90327838, 0.38870321, 0.11316577, 0.76531548, 0.08200992],\n",
       "       [0.0320815 , 0.58204733, 0.18722688, 0.45062367, 0.08813607],\n",
       "       [0.66143009, 0.78414054, 0.07648878, 0.52552024, 0.93811634],\n",
       "       [0.67158903, 0.17717471, 0.44081347, 0.60260339, 0.32233821]])"
      ]
     },
     "execution_count": 10,
     "metadata": {},
     "output_type": "execute_result"
    }
   ],
   "source": [
    "data"
   ]
  },
  {
   "cell_type": "code",
   "execution_count": 12,
   "id": "f3f44447-592d-4437-862d-e5a61d3d056d",
   "metadata": {},
   "outputs": [
    {
     "data": {
      "text/plain": [
       "array([[0.69300965, 0.76316005, 0.77767002, 0.81136652, 0.70880041],\n",
       "       [0.91220956, 0.69260121, 0.78147113, 0.8148944 , 0.81456598],\n",
       "       [0.89552643, 0.72978445, 0.73074822, 0.69823304, 0.80729077],\n",
       "       [0.7607863 , 0.82639938, 0.82150035, 0.71312244, 0.94183225],\n",
       "       [0.76539332, 0.73592879, 0.69691971, 0.73696401, 0.69424075]])"
      ]
     },
     "execution_count": 12,
     "metadata": {},
     "output_type": "execute_result"
    }
   ],
   "source": [
    "data ** data"
   ]
  },
  {
   "cell_type": "code",
   "execution_count": 13,
   "id": "ecc39186-a9d4-4422-85d8-328400fa17ab",
   "metadata": {},
   "outputs": [
    {
     "name": "stdout",
     "output_type": "stream",
     "text": [
      "ufunc being called\n"
     ]
    },
    {
     "data": {
      "text/plain": [
       "array([[0.69300965, 0.76316005, 0.77767002, 0.81136652, 0.70880041],\n",
       "       [0.91220956, 0.69260121, 0.78147113, 0.8148944 , 0.81456598],\n",
       "       [0.89552643, 0.72978445, 0.73074822, 0.69823304, 0.80729077],\n",
       "       [0.7607863 , 0.82639938, 0.82150035, 0.71312244, 0.94183225],\n",
       "       [0.76539332, 0.73592879, 0.69691971, 0.73696401, 0.69424075]])"
      ]
     },
     "execution_count": 13,
     "metadata": {},
     "output_type": "execute_result"
    }
   ],
   "source": [
    "mock_obj ** mock_obj"
   ]
  },
  {
   "cell_type": "code",
   "execution_count": 15,
   "id": "fdfd6773-1e14-4611-b2ff-54c8a1552cc5",
   "metadata": {},
   "outputs": [
    {
     "data": {
      "text/plain": [
       "array([[False, False, False, False, False],\n",
       "       [False, False, False, False, False],\n",
       "       [False, False, False, False, False],\n",
       "       [False, False, False, False, False],\n",
       "       [False, False, False, False, False]])"
      ]
     },
     "execution_count": 15,
     "metadata": {},
     "output_type": "execute_result"
    }
   ],
   "source": [
    "data <- 2"
   ]
  },
  {
   "cell_type": "code",
   "execution_count": 16,
   "id": "17dfd0f0-85b5-437f-b053-66bfa318c116",
   "metadata": {},
   "outputs": [
    {
     "data": {
      "text/plain": [
       "array([[False, False, False, False, False],\n",
       "       [False, False, False, False, False],\n",
       "       [False, False, False, False, False],\n",
       "       [False, False, False, False, False],\n",
       "       [False, False, False, False, False]])"
      ]
     },
     "execution_count": 16,
     "metadata": {},
     "output_type": "execute_result"
    }
   ],
   "source": [
    "mock_obj <- 2"
   ]
  },
  {
   "cell_type": "code",
   "execution_count": 17,
   "id": "10526aad-b1d2-4dfd-8684-7240336f25e4",
   "metadata": {},
   "outputs": [
    {
     "data": {
      "text/plain": [
       "array([[0.+0.33895536j, 0.+0.66670463j, 0.+0.1173671j , 0.+0.75936097j,\n",
       "        0.+0.24399529j],\n",
       "       [0.+0.90327838j, 0.+0.38870321j, 0.+0.11316577j, 0.+0.76531548j,\n",
       "        0.+0.08200992j],\n",
       "       [0.+0.0320815j , 0.+0.58204733j, 0.+0.18722688j, 0.+0.45062367j,\n",
       "        0.+0.08813607j],\n",
       "       [0.+0.66143009j, 0.+0.78414054j, 0.+0.07648878j, 0.+0.52552024j,\n",
       "        0.+0.93811634j],\n",
       "       [0.+0.67158903j, 0.+0.17717471j, 0.+0.44081347j, 0.+0.60260339j,\n",
       "        0.+0.32233821j]])"
      ]
     },
     "execution_count": 17,
     "metadata": {},
     "output_type": "execute_result"
    }
   ],
   "source": [
    "1j * data"
   ]
  },
  {
   "cell_type": "code",
   "execution_count": 18,
   "id": "7781be14-f50a-4f46-8221-d4f933d3d4e6",
   "metadata": {},
   "outputs": [
    {
     "name": "stdout",
     "output_type": "stream",
     "text": [
      "ufunc being called\n"
     ]
    },
    {
     "data": {
      "text/plain": [
       "array([[0.+0.33895536j, 0.+0.66670463j, 0.+0.1173671j , 0.+0.75936097j,\n",
       "        0.+0.24399529j],\n",
       "       [0.+0.90327838j, 0.+0.38870321j, 0.+0.11316577j, 0.+0.76531548j,\n",
       "        0.+0.08200992j],\n",
       "       [0.+0.0320815j , 0.+0.58204733j, 0.+0.18722688j, 0.+0.45062367j,\n",
       "        0.+0.08813607j],\n",
       "       [0.+0.66143009j, 0.+0.78414054j, 0.+0.07648878j, 0.+0.52552024j,\n",
       "        0.+0.93811634j],\n",
       "       [0.+0.67158903j, 0.+0.17717471j, 0.+0.44081347j, 0.+0.60260339j,\n",
       "        0.+0.32233821j]])"
      ]
     },
     "execution_count": 18,
     "metadata": {},
     "output_type": "execute_result"
    }
   ],
   "source": [
    "1j * mock_obj"
   ]
  },
  {
   "cell_type": "code",
   "execution_count": 19,
   "id": "dab88596-bada-4516-a738-22dfb1fd6438",
   "metadata": {},
   "outputs": [
    {
     "data": {
      "text/plain": [
       "array([[1., 1., 1., 1., 1.],\n",
       "       [1., 1., 1., 1., 1.],\n",
       "       [1., 1., 1., 1., 1.],\n",
       "       [1., 1., 1., 1., 1.],\n",
       "       [1., 1., 1., 1., 1.]])"
      ]
     },
     "execution_count": 19,
     "metadata": {},
     "output_type": "execute_result"
    }
   ],
   "source": [
    "np.copysign(np.ceil(np.abs(data)), data)"
   ]
  },
  {
   "cell_type": "code",
   "execution_count": 20,
   "id": "7d32c52f-cb19-4343-98fd-99bd645d69c6",
   "metadata": {},
   "outputs": [
    {
     "name": "stdout",
     "output_type": "stream",
     "text": [
      "ufunc being called\n",
      "ufunc being called\n",
      "ufunc being called\n"
     ]
    },
    {
     "data": {
      "text/plain": [
       "array([[1., 1., 1., 1., 1.],\n",
       "       [1., 1., 1., 1., 1.],\n",
       "       [1., 1., 1., 1., 1.],\n",
       "       [1., 1., 1., 1., 1.],\n",
       "       [1., 1., 1., 1., 1.]])"
      ]
     },
     "execution_count": 20,
     "metadata": {},
     "output_type": "execute_result"
    }
   ],
   "source": [
    "np.copysign(np.ceil(np.abs(mock_obj)), mock_obj)"
   ]
  },
  {
   "cell_type": "code",
   "execution_count": 22,
   "id": "5e656018-346d-41be-bc9c-c25318b1206d",
   "metadata": {},
   "outputs": [
    {
     "data": {
      "text/plain": [
       "array([0.0320815 , 0.07648878, 0.08200992, 0.08813607, 0.11316577,\n",
       "       0.1173671 , 0.17717471, 0.18722688, 0.24399529, 0.32233821,\n",
       "       0.33895536, 0.38870321, 0.44081347, 0.45062367, 0.52552024,\n",
       "       0.58204733, 0.60260339, 0.66143009, 0.66670463, 0.67158903,\n",
       "       0.75936097, 0.76531548, 0.78414054, 0.90327838, 0.93811634])"
      ]
     },
     "execution_count": 22,
     "metadata": {},
     "output_type": "execute_result"
    }
   ],
   "source": [
    "np.intersect1d(data, data)"
   ]
  },
  {
   "cell_type": "code",
   "execution_count": 23,
   "id": "5a28cc5c-bc7a-45b9-ae07-9aa8d34d5da1",
   "metadata": {},
   "outputs": [
    {
     "data": {
      "text/plain": [
       "array([0.0320815 , 0.07648878, 0.08200992, 0.08813607, 0.11316577,\n",
       "       0.1173671 , 0.17717471, 0.18722688, 0.24399529, 0.32233821,\n",
       "       0.33895536, 0.38870321, 0.44081347, 0.45062367, 0.52552024,\n",
       "       0.58204733, 0.60260339, 0.66143009, 0.66670463, 0.67158903,\n",
       "       0.75936097, 0.76531548, 0.78414054, 0.90327838, 0.93811634])"
      ]
     },
     "execution_count": 23,
     "metadata": {},
     "output_type": "execute_result"
    }
   ],
   "source": [
    "np.intersect1d(data, mock_obj)"
   ]
  },
  {
   "cell_type": "code",
   "execution_count": 24,
   "id": "367e4d39-048d-4ff6-9ffa-c8408cddae1c",
   "metadata": {},
   "outputs": [
    {
     "data": {
      "text/plain": [
       "numpy.ndarray"
      ]
     },
     "execution_count": 24,
     "metadata": {},
     "output_type": "execute_result"
    }
   ],
   "source": [
    "type(np.intersect1d(data, mock_obj))"
   ]
  },
  {
   "cell_type": "code",
   "execution_count": null,
   "id": "d77fff1f-d2bd-4243-97ba-4452ae952c5f",
   "metadata": {},
   "outputs": [],
   "source": []
  },
  {
   "cell_type": "code",
   "execution_count": 26,
   "id": "893c185b-7ab8-41cd-a3af-4948c98391d5",
   "metadata": {},
   "outputs": [
    {
     "data": {
      "text/plain": [
       "numpy.ndarray"
      ]
     },
     "execution_count": 26,
     "metadata": {},
     "output_type": "execute_result"
    }
   ],
   "source": [
    "type(np.intersect1d(mock_obj, mock_obj))"
   ]
  },
  {
   "cell_type": "code",
   "execution_count": 29,
   "id": "641919fc-a5e5-4009-93e3-f35216ea1d4d",
   "metadata": {},
   "outputs": [
    {
     "name": "stdout",
     "output_type": "stream",
     "text": [
      "[nan inf inf]\n",
      "ufunc being called\n",
      "[[inf inf inf inf inf]\n",
      " [inf inf inf inf inf]\n",
      " [inf inf inf inf inf]\n",
      " [inf inf inf inf inf]\n",
      " [inf inf inf inf inf]]\n"
     ]
    }
   ],
   "source": [
    "with np.errstate(all=\"ignore\"):\n",
    "    print(np.arange(3)/0)\n",
    "    print(mock_obj/0)"
   ]
  },
  {
   "cell_type": "code",
   "execution_count": 30,
   "id": "5ca04421-79db-41d7-9253-00d1452ced84",
   "metadata": {},
   "outputs": [
    {
     "data": {
      "text/plain": [
       "array([[0.58219873, 0.81651983, 0.34258882, 0.8714132 , 0.49395879],\n",
       "       [0.95040958, 0.62346067, 0.3364012 , 0.87482311, 0.28637374],\n",
       "       [0.1791131 , 0.76292026, 0.43269722, 0.67128509, 0.2968772 ],\n",
       "       [0.81328352, 0.8855171 , 0.27656605, 0.72492775, 0.96856406],\n",
       "       [0.81950536, 0.42092126, 0.66393785, 0.77627533, 0.56774836]])"
      ]
     },
     "execution_count": 30,
     "metadata": {},
     "output_type": "execute_result"
    }
   ],
   "source": [
    "np.emath.sqrt(mock_obj)"
   ]
  },
  {
   "cell_type": "code",
   "execution_count": 33,
   "id": "821ea345-474f-4a75-9cd9-fd3d706c042c",
   "metadata": {},
   "outputs": [
    {
     "data": {
      "text/plain": [
       "syft.core.node.new.action_object.AnyActionObject"
      ]
     },
     "execution_count": 33,
     "metadata": {},
     "output_type": "execute_result"
    }
   ],
   "source": [
    "type(AO.from_obj(np.datetime64(\"today\")))"
   ]
  },
  {
   "cell_type": "code",
   "execution_count": 34,
   "id": "e323c5f7-3871-4e6f-9d50-8509ad2a535e",
   "metadata": {},
   "outputs": [],
   "source": [
    "x = AO.from_obj(np.datetime64(\"today\"))"
   ]
  },
  {
   "cell_type": "code",
   "execution_count": 37,
   "id": "d1eb0605-e8e1-4fe8-b96d-edee79a00cfb",
   "metadata": {},
   "outputs": [
    {
     "data": {
      "text/plain": [
       "syft.core.node.new.action_object.AnyActionObject"
      ]
     },
     "execution_count": 37,
     "metadata": {},
     "output_type": "execute_result"
    }
   ],
   "source": [
    "type(x - AO.from_obj(np.timedelta64(1)))"
   ]
  },
  {
   "cell_type": "code",
   "execution_count": 38,
   "id": "06847105-d623-4560-a45c-a12a0b01c857",
   "metadata": {},
   "outputs": [
    {
     "data": {
      "text/plain": [
       "syft.core.node.new.numpy.NumpyArrayObject"
      ]
     },
     "execution_count": 38,
     "metadata": {},
     "output_type": "execute_result"
    }
   ],
   "source": [
    "type(AO.from_obj(np.arange('2016-07', '2016-08', dtype='datetime64[D]')))"
   ]
  },
  {
   "cell_type": "code",
   "execution_count": 5,
   "id": "372032d9-63e0-43ff-bca4-9cf15e215a97",
   "metadata": {},
   "outputs": [
    {
     "data": {
      "text/plain": [
       "None"
      ]
     },
     "execution_count": 5,
     "metadata": {},
     "output_type": "execute_result"
    }
   ],
   "source": [
    "mock_obj.sort()"
   ]
  },
  {
   "cell_type": "code",
   "execution_count": 6,
   "id": "ded98142-e7cc-434d-b43b-1bce3adb187f",
   "metadata": {},
   "outputs": [
    {
     "data": {
      "text/plain": [
       "array([[0.57106408, 0.65690469, 0.66017708, 0.69159545, 0.69374939],\n",
       "       [0.01183944, 0.61281192, 0.68234911, 0.83850164, 0.9501343 ],\n",
       "       [0.22226389, 0.39986531, 0.52994489, 0.58747264, 0.9729023 ],\n",
       "       [0.57597873, 0.70947394, 0.71003446, 0.87910893, 0.89414027],\n",
       "       [0.22185282, 0.25952607, 0.870617  , 0.93613877, 0.95123462]])"
      ]
     },
     "execution_count": 6,
     "metadata": {},
     "output_type": "execute_result"
    }
   ],
   "source": [
    "mock_obj"
   ]
  },
  {
   "cell_type": "code",
   "execution_count": 6,
   "id": "9b75803e-ea8f-4155-998e-f55c28cfb607",
   "metadata": {},
   "outputs": [],
   "source": [
    "c = mock_obj.copy()"
   ]
  },
  {
   "cell_type": "code",
   "execution_count": 9,
   "id": "5cc0c9ab-a311-45e2-898a-cdf273ee3161",
   "metadata": {},
   "outputs": [
    {
     "data": {
      "text/plain": [
       "  C_CONTIGUOUS : True\n",
       "  F_CONTIGUOUS : False\n",
       "  OWNDATA : True\n",
       "  WRITEABLE : True\n",
       "  ALIGNED : True\n",
       "  WRITEBACKIFCOPY : False"
      ]
     },
     "execution_count": 9,
     "metadata": {},
     "output_type": "execute_result"
    }
   ],
   "source": [
    "c.flags"
   ]
  },
  {
   "cell_type": "code",
   "execution_count": 10,
   "id": "f8ecd600-6877-47b2-950c-32ff6e9ae549",
   "metadata": {},
   "outputs": [
    {
     "data": {
      "text/plain": [
       "13"
      ]
     },
     "execution_count": 10,
     "metadata": {},
     "output_type": "execute_result"
    }
   ],
   "source": [
    "c.argmax()"
   ]
  },
  {
   "cell_type": "code",
   "execution_count": 12,
   "id": "8d1dcfd8-7870-4847-b87d-ba157ff6e11f",
   "metadata": {},
   "outputs": [
    {
     "data": {
      "text/plain": [
       "syft.core.node.new.numpy.NumpyScalarObject"
      ]
     },
     "execution_count": 12,
     "metadata": {},
     "output_type": "execute_result"
    }
   ],
   "source": [
    "type(c.argmax())"
   ]
  },
  {
   "cell_type": "code",
   "execution_count": 14,
   "id": "57efd429-3407-498c-887c-19d89a9a0caa",
   "metadata": {},
   "outputs": [],
   "source": [
    "Z = np.zeros((5,5), [('x',float),('y',float)])"
   ]
  },
  {
   "cell_type": "code",
   "execution_count": 15,
   "id": "047db842-36b2-4eb5-b4c1-822ee8d1d422",
   "metadata": {},
   "outputs": [
    {
     "data": {
      "text/plain": [
       "array([[(0., 0.), (0., 0.), (0., 0.), (0., 0.), (0., 0.)],\n",
       "       [(0., 0.), (0., 0.), (0., 0.), (0., 0.), (0., 0.)],\n",
       "       [(0., 0.), (0., 0.), (0., 0.), (0., 0.), (0., 0.)],\n",
       "       [(0., 0.), (0., 0.), (0., 0.), (0., 0.), (0., 0.)],\n",
       "       [(0., 0.), (0., 0.), (0., 0.), (0., 0.), (0., 0.)]],\n",
       "      dtype=[('x', '<f8'), ('y', '<f8')])"
      ]
     },
     "execution_count": 15,
     "metadata": {},
     "output_type": "execute_result"
    }
   ],
   "source": [
    "Z"
   ]
  },
  {
   "cell_type": "code",
   "execution_count": 17,
   "id": "6374a4cb-c260-4c50-b263-5b1dc0b28d8e",
   "metadata": {},
   "outputs": [
    {
     "data": {
      "text/plain": [
       "array([[0., 0., 0., 0., 0.],\n",
       "       [0., 0., 0., 0., 0.],\n",
       "       [0., 0., 0., 0., 0.],\n",
       "       [0., 0., 0., 0., 0.],\n",
       "       [0., 0., 0., 0., 0.]])"
      ]
     },
     "execution_count": 17,
     "metadata": {},
     "output_type": "execute_result"
    }
   ],
   "source": [
    "Z['x']"
   ]
  },
  {
   "cell_type": "code",
   "execution_count": 18,
   "id": "40a220d0-cfcc-4a77-9da6-bea72eb7b3e7",
   "metadata": {},
   "outputs": [
    {
     "data": {
      "text/plain": [
       "array([[0., 0., 0., 0., 0.],\n",
       "       [0., 0., 0., 0., 0.],\n",
       "       [0., 0., 0., 0., 0.],\n",
       "       [0., 0., 0., 0., 0.],\n",
       "       [0., 0., 0., 0., 0.]])"
      ]
     },
     "execution_count": 18,
     "metadata": {},
     "output_type": "execute_result"
    }
   ],
   "source": [
    "Z['y']"
   ]
  },
  {
   "cell_type": "code",
   "execution_count": 20,
   "id": "df0abdc3-230d-4efb-828a-8cbc31e3f23d",
   "metadata": {},
   "outputs": [],
   "source": [
    "Z['x'], Z['y'] = np.meshgrid(np.linspace(0,1,5),\n",
    "                             np.linspace(0,2,5))"
   ]
  },
  {
   "cell_type": "code",
   "execution_count": 21,
   "id": "63856b53-38a4-4f30-be9b-7dd2f34e2729",
   "metadata": {},
   "outputs": [
    {
     "data": {
      "text/plain": [
       "array([[0.  , 0.25, 0.5 , 0.75, 1.  ],\n",
       "       [0.  , 0.25, 0.5 , 0.75, 1.  ],\n",
       "       [0.  , 0.25, 0.5 , 0.75, 1.  ],\n",
       "       [0.  , 0.25, 0.5 , 0.75, 1.  ],\n",
       "       [0.  , 0.25, 0.5 , 0.75, 1.  ]])"
      ]
     },
     "execution_count": 21,
     "metadata": {},
     "output_type": "execute_result"
    }
   ],
   "source": [
    "Z['x']"
   ]
  },
  {
   "cell_type": "code",
   "execution_count": 22,
   "id": "59b6ca61-4043-4ee3-aeec-ec381fb929bb",
   "metadata": {},
   "outputs": [
    {
     "data": {
      "text/plain": [
       "array([[0. , 0. , 0. , 0. , 0. ],\n",
       "       [0.5, 0.5, 0.5, 0.5, 0.5],\n",
       "       [1. , 1. , 1. , 1. , 1. ],\n",
       "       [1.5, 1.5, 1.5, 1.5, 1.5],\n",
       "       [2. , 2. , 2. , 2. , 2. ]])"
      ]
     },
     "execution_count": 22,
     "metadata": {},
     "output_type": "execute_result"
    }
   ],
   "source": [
    "Z['y']"
   ]
  },
  {
   "cell_type": "code",
   "execution_count": 24,
   "id": "6ed90ac9-c034-462e-9388-a81e3b2a2012",
   "metadata": {},
   "outputs": [
    {
     "data": {
      "text/html": [
       "[array([[0.  , 0.25, 0.5 , 0.75, 1.  ],\n",
       "       [0.  , 0.25, 0.5 , 0.75, 1.  ],\n",
       "       [0.  , 0.25, 0.5 , 0.75, 1.  ],\n",
       "       [0.  , 0.25, 0.5 , 0.75, 1.  ],\n",
       "       [0.  , 0.25, 0.5 , 0.75, 1.  ]]), array([[0. , 0. , 0. , 0. , 0. ],\n",
       "       [0.5, 0.5, 0.5, 0.5, 0.5],\n",
       "       [1. , 1. , 1. , 1. , 1. ],\n",
       "       [1.5, 1.5, 1.5, 1.5, 1.5],\n",
       "       [2. , 2. , 2. , 2. , 2. ]])]"
      ],
      "text/plain": [
       "[array([[0.  , 0.25, 0.5 , 0.75, 1.  ],\n",
       "        [0.  , 0.25, 0.5 , 0.75, 1.  ],\n",
       "        [0.  , 0.25, 0.5 , 0.75, 1.  ],\n",
       "        [0.  , 0.25, 0.5 , 0.75, 1.  ],\n",
       "        [0.  , 0.25, 0.5 , 0.75, 1.  ]]),\n",
       " array([[0. , 0. , 0. , 0. , 0. ],\n",
       "        [0.5, 0.5, 0.5, 0.5, 0.5],\n",
       "        [1. , 1. , 1. , 1. , 1. ],\n",
       "        [1.5, 1.5, 1.5, 1.5, 1.5],\n",
       "        [2. , 2. , 2. , 2. , 2. ]])]"
      ]
     },
     "execution_count": 24,
     "metadata": {},
     "output_type": "execute_result"
    }
   ],
   "source": [
    "np.meshgrid(\n",
    "    np.linspace(0,1,5), \n",
    "    np.linspace(0,2,5)\n",
    ")"
   ]
  },
  {
   "cell_type": "code",
   "execution_count": 26,
   "id": "a50fd73e-ecdc-4913-bce4-559d307c71e8",
   "metadata": {},
   "outputs": [
    {
     "name": "stdout",
     "output_type": "stream",
     "text": [
      "ufunc being called\n"
     ]
    },
    {
     "data": {
      "text/plain": [
       "array([[0.04107739, 0.04467813, 0.04098272, 0.02833914, 0.03452829],\n",
       "       [0.03506799, 0.03590526, 0.03169413, 0.02698111, 0.04632216],\n",
       "       [0.02680269, 0.04090632, 0.03753629, 0.02648697, 0.04480656],\n",
       "       [0.02710513, 0.03218279, 0.03869863, 0.02899286, 0.04655757],\n",
       "       [0.03588082, 0.03480998, 0.03973315, 0.02759866, 0.02971996]])"
      ]
     },
     "execution_count": 26,
     "metadata": {},
     "output_type": "execute_result"
    }
   ],
   "source": [
    "np.linalg.det(np.subtract.outer(mock_obj, mock_obj + 0.5))"
   ]
  },
  {
   "cell_type": "code",
   "execution_count": 27,
   "id": "0281ceb9-0b11-48fe-987f-ec1445f6ab39",
   "metadata": {},
   "outputs": [
    {
     "data": {
      "text/plain": [
       "array([[0., 0., 0., ..., 0., 0., 0.],\n",
       "       [0., 0., 0., ..., 0., 0., 0.],\n",
       "       [0., 0., 0., ..., 0., 0., 0.],\n",
       "       ...,\n",
       "       [0., 0., 0., ..., 0., 0., 0.],\n",
       "       [0., 0., 0., ..., 0., 0., 0.],\n",
       "       [0., 0., 0., ..., 0., 0., 0.]])"
      ]
     },
     "execution_count": 27,
     "metadata": {},
     "output_type": "execute_result"
    }
   ],
   "source": [
    "np.zeros((40,40))"
   ]
  },
  {
   "cell_type": "code",
   "execution_count": 8,
   "id": "999f0cf9-17b9-462e-9704-385de60072a2",
   "metadata": {},
   "outputs": [
    {
     "ename": "ValueError",
     "evalue": "\"AnyActionObject\" object has no field \"writeable\"",
     "output_type": "error",
     "traceback": [
      "\u001b[0;31m---------------------------------------------------------------------------\u001b[0m",
      "\u001b[0;31mValueError\u001b[0m                                Traceback (most recent call last)",
      "\u001b[0;32m/tmp/ipykernel_51962/1201408161.py\u001b[0m in \u001b[0;36m<module>\u001b[0;34m\u001b[0m\n\u001b[0;32m----> 1\u001b[0;31m \u001b[0mc\u001b[0m\u001b[0;34m.\u001b[0m\u001b[0mflags\u001b[0m\u001b[0;34m.\u001b[0m\u001b[0mwriteable\u001b[0m \u001b[0;34m=\u001b[0m \u001b[0;32mFalse\u001b[0m\u001b[0;34m\u001b[0m\u001b[0;34m\u001b[0m\u001b[0m\n\u001b[0m",
      "\u001b[0;32m~/anaconda3/envs/Hagrid/lib/python3.9/site-packages/pydantic/main.cpython-39-x86_64-linux-gnu.so\u001b[0m in \u001b[0;36mpydantic.main.BaseModel.__setattr__\u001b[0;34m()\u001b[0m\n",
      "\u001b[0;31mValueError\u001b[0m: \"AnyActionObject\" object has no field \"writeable\""
     ]
    }
   ],
   "source": [
    "c.flags.writeable = False"
   ]
  },
  {
   "cell_type": "code",
   "execution_count": 7,
   "id": "361570ce-3094-4389-9194-1b7caa06235f",
   "metadata": {},
   "outputs": [
    {
     "name": "stdout",
     "output_type": "stream",
     "text": [
      "ufunc being called\n"
     ]
    },
    {
     "data": {
      "text/plain": [
       "array([1.60299896, 2.63858193, 3.45312254, 3.93281744, 4.46216088])"
      ]
     },
     "execution_count": 7,
     "metadata": {},
     "output_type": "execute_result"
    }
   ],
   "source": [
    "np.add.reduce(mock_obj)"
   ]
  },
  {
   "cell_type": "code",
   "execution_count": 37,
   "id": "007cd817-00fc-4538-94c5-519fb5e22033",
   "metadata": {},
   "outputs": [
    {
     "data": {
      "text/plain": [
       "list"
      ]
     },
     "execution_count": 37,
     "metadata": {},
     "output_type": "execute_result"
    }
   ],
   "source": [
    "type(np.atleast_2d(mock_obj, mock_obj))"
   ]
  },
  {
   "cell_type": "code",
   "execution_count": 39,
   "id": "b46e722e-0922-4f74-aaf7-7896011d06fc",
   "metadata": {},
   "outputs": [
    {
     "data": {
      "text/plain": [
       "syft.core.node.new.numpy.NumpyArrayObject"
      ]
     },
     "execution_count": 39,
     "metadata": {},
     "output_type": "execute_result"
    }
   ],
   "source": [
    "type(mock_obj.view(np.int32))"
   ]
  },
  {
   "cell_type": "code",
   "execution_count": 40,
   "id": "171227fc-7eb4-4fb6-80dc-ebe3a011c24e",
   "metadata": {},
   "outputs": [
    {
     "name": "stdout",
     "output_type": "stream",
     "text": [
      "(0, 0) 0.26896512960635544\n",
      "(0, 1) 0.09948376607162401\n",
      "(0, 2) 0.27342103456107036\n",
      "(0, 3) 0.8685351079945167\n",
      "(0, 4) 0.5772213588595477\n",
      "(1, 0) 0.551818443682802\n",
      "(1, 1) 0.5124094088908754\n",
      "(1, 2) 0.7106207470161667\n",
      "(1, 3) 0.9324557021372405\n",
      "(1, 4) 0.022101955854019528\n",
      "(2, 0) 0.9408537226129945\n",
      "(2, 1) 0.2770171488094628\n",
      "(2, 2) 0.4356392771572808\n",
      "(2, 3) 0.955713835407386\n",
      "(2, 4) 0.09343863127378393\n",
      "(3, 0) 0.9266181819125993\n",
      "(3, 1) 0.6876204939894129\n",
      "(3, 2) 0.3809298220557621\n",
      "(3, 3) 0.8377655456835722\n",
      "(3, 4) 0.011021296655442492\n",
      "(4, 0) 0.5135597403710955\n",
      "(4, 1) 0.5639624390941331\n",
      "(4, 2) 0.33223656904406274\n",
      "(4, 3) 0.9033882834149843\n",
      "(4, 4) 0.8035419628592319\n"
     ]
    }
   ],
   "source": [
    "for i, v in np.ndenumerate(mock_obj):\n",
    "    print(i, v)"
   ]
  },
  {
   "cell_type": "code",
   "execution_count": 41,
   "id": "e925bff2-d155-442d-98b6-a904703e7ef2",
   "metadata": {},
   "outputs": [
    {
     "data": {
      "text/html": [
       "[array([[0.26896513, 0.09948377, 0.27342103, 0.86853511, 0.57722136,\n",
       "        0.55181844, 0.51240941, 0.71062075, 0.9324557 , 0.02210196,\n",
       "        0.94085372, 0.27701715, 0.43563928, 0.95571384, 0.09343863,\n",
       "        0.92661818, 0.68762049, 0.38092982, 0.83776555, 0.0110213 ,\n",
       "        0.51355974, 0.56396244, 0.33223657, 0.90338828, 0.80354196],\n",
       "       [0.26896513, 0.09948377, 0.27342103, 0.86853511, 0.57722136,\n",
       "        0.55181844, 0.51240941, 0.71062075, 0.9324557 , 0.02210196,\n",
       "        0.94085372, 0.27701715, 0.43563928, 0.95571384, 0.09343863,\n",
       "        0.92661818, 0.68762049, 0.38092982, 0.83776555, 0.0110213 ,\n",
       "        0.51355974, 0.56396244, 0.33223657, 0.90338828, 0.80354196],\n",
       "       [0.26896513, 0.09948377, 0.27342103, 0.86853511, 0.57722136,\n",
       "        0.55181844, 0.51240941, 0.71062075, 0.9324557 , 0.02210196,\n",
       "        0.94085372, 0.27701715, 0.43563928, 0.95571384, 0.09343863,\n",
       "        0.92661818, 0.68762049, 0.38092982, 0.83776555, 0.0110213 ,\n",
       "        0.51355974, 0.56396244, 0.33223657, 0.90338828, 0.80354196],\n",
       "       [0.26896513, 0.09948377, 0.27342103, 0.86853511, 0.57722136,\n",
       "        0.55181844, 0.51240941, 0.71062075, 0.9324557 , 0.02210196,\n",
       "        0.94085372, 0.27701715, 0.43563928, 0.95571384, 0.09343863,\n",
       "        0.92661818, 0.68762049, 0.38092982, 0.83776555, 0.0110213 ,\n",
       "        0.51355974, 0.56396244, 0.33223657, 0.90338828, 0.80354196],\n",
       "       [0.26896513, 0.09948377, 0.27342103, 0.86853511, 0.57722136,\n",
       "        0.55181844, 0.51240941, 0.71062075, 0.9324557 , 0.02210196,\n",
       "        0.94085372, 0.27701715, 0.43563928, 0.95571384, 0.09343863,\n",
       "        0.92661818, 0.68762049, 0.38092982, 0.83776555, 0.0110213 ,\n",
       "        0.51355974, 0.56396244, 0.33223657, 0.90338828, 0.80354196],\n",
       "       [0.26896513, 0.09948377, 0.27342103, 0.86853511, 0.57722136,\n",
       "        0.55181844, 0.51240941, 0.71062075, 0.9324557 , 0.02210196,\n",
       "        0.94085372, 0.27701715, 0.43563928, 0.95571384, 0.09343863,\n",
       "        0.92661818, 0.68762049, 0.38092982, 0.83776555, 0.0110213 ,\n",
       "        0.51355974, 0.56396244, 0.33223657, 0.90338828, 0.80354196],\n",
       "       [0.26896513, 0.09948377, 0.27342103, 0.86853511, 0.57722136,\n",
       "        0.55181844, 0.51240941, 0.71062075, 0.9324557 , 0.02210196,\n",
       "        0.94085372, 0.27701715, 0.43563928, 0.95571384, 0.09343863,\n",
       "        0.92661818, 0.68762049, 0.38092982, 0.83776555, 0.0110213 ,\n",
       "        0.51355974, 0.56396244, 0.33223657, 0.90338828, 0.80354196],\n",
       "       [0.26896513, 0.09948377, 0.27342103, 0.86853511, 0.57722136,\n",
       "        0.55181844, 0.51240941, 0.71062075, 0.9324557 , 0.02210196,\n",
       "        0.94085372, 0.27701715, 0.43563928, 0.95571384, 0.09343863,\n",
       "        0.92661818, 0.68762049, 0.38092982, 0.83776555, 0.0110213 ,\n",
       "        0.51355974, 0.56396244, 0.33223657, 0.90338828, 0.80354196],\n",
       "       [0.26896513, 0.09948377, 0.27342103, 0.86853511, 0.57722136,\n",
       "        0.55181844, 0.51240941, 0.71062075, 0.9324557 , 0.02210196,\n",
       "        0.94085372, 0.27701715, 0.43563928, 0.95571384, 0.09343863,\n",
       "        0.92661818, 0.68762049, 0.38092982, 0.83776555, 0.0110213 ,\n",
       "        0.51355974, 0.56396244, 0.33223657, 0.90338828, 0.80354196],\n",
       "       [0.26896513, 0.09948377, 0.27342103, 0.86853511, 0.57722136,\n",
       "        0.55181844, 0.51240941, 0.71062075, 0.9324557 , 0.02210196,\n",
       "        0.94085372, 0.27701715, 0.43563928, 0.95571384, 0.09343863,\n",
       "        0.92661818, 0.68762049, 0.38092982, 0.83776555, 0.0110213 ,\n",
       "        0.51355974, 0.56396244, 0.33223657, 0.90338828, 0.80354196],\n",
       "       [0.26896513, 0.09948377, 0.27342103, 0.86853511, 0.57722136,\n",
       "        0.55181844, 0.51240941, 0.71062075, 0.9324557 , 0.02210196,\n",
       "        0.94085372, 0.27701715, 0.43563928, 0.95571384, 0.09343863,\n",
       "        0.92661818, 0.68762049, 0.38092982, 0.83776555, 0.0110213 ,\n",
       "        0.51355974, 0.56396244, 0.33223657, 0.90338828, 0.80354196],\n",
       "       [0.26896513, 0.09948377, 0.27342103, 0.86853511, 0.57722136,\n",
       "        0.55181844, 0.51240941, 0.71062075, 0.9324557 , 0.02210196,\n",
       "        0.94085372, 0.27701715, 0.43563928, 0.95571384, 0.09343863,\n",
       "        0.92661818, 0.68762049, 0.38092982, 0.83776555, 0.0110213 ,\n",
       "        0.51355974, 0.56396244, 0.33223657, 0.90338828, 0.80354196],\n",
       "       [0.26896513, 0.09948377, 0.27342103, 0.86853511, 0.57722136,\n",
       "        0.55181844, 0.51240941, 0.71062075, 0.9324557 , 0.02210196,\n",
       "        0.94085372, 0.27701715, 0.43563928, 0.95571384, 0.09343863,\n",
       "        0.92661818, 0.68762049, 0.38092982, 0.83776555, 0.0110213 ,\n",
       "        0.51355974, 0.56396244, 0.33223657, 0.90338828, 0.80354196],\n",
       "       [0.26896513, 0.09948377, 0.27342103, 0.86853511, 0.57722136,\n",
       "        0.55181844, 0.51240941, 0.71062075, 0.9324557 , 0.02210196,\n",
       "        0.94085372, 0.27701715, 0.43563928, 0.95571384, 0.09343863,\n",
       "        0.92661818, 0.68762049, 0.38092982, 0.83776555, 0.0110213 ,\n",
       "        0.51355974, 0.56396244, 0.33223657, 0.90338828, 0.80354196],\n",
       "       [0.26896513, 0.09948377, 0.27342103, 0.86853511, 0.57722136,\n",
       "        0.55181844, 0.51240941, 0.71062075, 0.9324557 , 0.02210196,\n",
       "        0.94085372, 0.27701715, 0.43563928, 0.95571384, 0.09343863,\n",
       "        0.92661818, 0.68762049, 0.38092982, 0.83776555, 0.0110213 ,\n",
       "        0.51355974, 0.56396244, 0.33223657, 0.90338828, 0.80354196],\n",
       "       [0.26896513, 0.09948377, 0.27342103, 0.86853511, 0.57722136,\n",
       "        0.55181844, 0.51240941, 0.71062075, 0.9324557 , 0.02210196,\n",
       "        0.94085372, 0.27701715, 0.43563928, 0.95571384, 0.09343863,\n",
       "        0.92661818, 0.68762049, 0.38092982, 0.83776555, 0.0110213 ,\n",
       "        0.51355974, 0.56396244, 0.33223657, 0.90338828, 0.80354196],\n",
       "       [0.26896513, 0.09948377, 0.27342103, 0.86853511, 0.57722136,\n",
       "        0.55181844, 0.51240941, 0.71062075, 0.9324557 , 0.02210196,\n",
       "        0.94085372, 0.27701715, 0.43563928, 0.95571384, 0.09343863,\n",
       "        0.92661818, 0.68762049, 0.38092982, 0.83776555, 0.0110213 ,\n",
       "        0.51355974, 0.56396244, 0.33223657, 0.90338828, 0.80354196],\n",
       "       [0.26896513, 0.09948377, 0.27342103, 0.86853511, 0.57722136,\n",
       "        0.55181844, 0.51240941, 0.71062075, 0.9324557 , 0.02210196,\n",
       "        0.94085372, 0.27701715, 0.43563928, 0.95571384, 0.09343863,\n",
       "        0.92661818, 0.68762049, 0.38092982, 0.83776555, 0.0110213 ,\n",
       "        0.51355974, 0.56396244, 0.33223657, 0.90338828, 0.80354196],\n",
       "       [0.26896513, 0.09948377, 0.27342103, 0.86853511, 0.57722136,\n",
       "        0.55181844, 0.51240941, 0.71062075, 0.9324557 , 0.02210196,\n",
       "        0.94085372, 0.27701715, 0.43563928, 0.95571384, 0.09343863,\n",
       "        0.92661818, 0.68762049, 0.38092982, 0.83776555, 0.0110213 ,\n",
       "        0.51355974, 0.56396244, 0.33223657, 0.90338828, 0.80354196],\n",
       "       [0.26896513, 0.09948377, 0.27342103, 0.86853511, 0.57722136,\n",
       "        0.55181844, 0.51240941, 0.71062075, 0.9324557 , 0.02210196,\n",
       "        0.94085372, 0.27701715, 0.43563928, 0.95571384, 0.09343863,\n",
       "        0.92661818, 0.68762049, 0.38092982, 0.83776555, 0.0110213 ,\n",
       "        0.51355974, 0.56396244, 0.33223657, 0.90338828, 0.80354196],\n",
       "       [0.26896513, 0.09948377, 0.27342103, 0.86853511, 0.57722136,\n",
       "        0.55181844, 0.51240941, 0.71062075, 0.9324557 , 0.02210196,\n",
       "        0.94085372, 0.27701715, 0.43563928, 0.95571384, 0.09343863,\n",
       "        0.92661818, 0.68762049, 0.38092982, 0.83776555, 0.0110213 ,\n",
       "        0.51355974, 0.56396244, 0.33223657, 0.90338828, 0.80354196],\n",
       "       [0.26896513, 0.09948377, 0.27342103, 0.86853511, 0.57722136,\n",
       "        0.55181844, 0.51240941, 0.71062075, 0.9324557 , 0.02210196,\n",
       "        0.94085372, 0.27701715, 0.43563928, 0.95571384, 0.09343863,\n",
       "        0.92661818, 0.68762049, 0.38092982, 0.83776555, 0.0110213 ,\n",
       "        0.51355974, 0.56396244, 0.33223657, 0.90338828, 0.80354196],\n",
       "       [0.26896513, 0.09948377, 0.27342103, 0.86853511, 0.57722136,\n",
       "        0.55181844, 0.51240941, 0.71062075, 0.9324557 , 0.02210196,\n",
       "        0.94085372, 0.27701715, 0.43563928, 0.95571384, 0.09343863,\n",
       "        0.92661818, 0.68762049, 0.38092982, 0.83776555, 0.0110213 ,\n",
       "        0.51355974, 0.56396244, 0.33223657, 0.90338828, 0.80354196],\n",
       "       [0.26896513, 0.09948377, 0.27342103, 0.86853511, 0.57722136,\n",
       "        0.55181844, 0.51240941, 0.71062075, 0.9324557 , 0.02210196,\n",
       "        0.94085372, 0.27701715, 0.43563928, 0.95571384, 0.09343863,\n",
       "        0.92661818, 0.68762049, 0.38092982, 0.83776555, 0.0110213 ,\n",
       "        0.51355974, 0.56396244, 0.33223657, 0.90338828, 0.80354196],\n",
       "       [0.26896513, 0.09948377, 0.27342103, 0.86853511, 0.57722136,\n",
       "        0.55181844, 0.51240941, 0.71062075, 0.9324557 , 0.02210196,\n",
       "        0.94085372, 0.27701715, 0.43563928, 0.95571384, 0.09343863,\n",
       "        0.92661818, 0.68762049, 0.38092982, 0.83776555, 0.0110213 ,\n",
       "        0.51355974, 0.56396244, 0.33223657, 0.90338828, 0.80354196]]), array([[0.26896513, 0.26896513, 0.26896513, 0.26896513, 0.26896513,\n",
       "        0.26896513, 0.26896513, 0.26896513, 0.26896513, 0.26896513,\n",
       "        0.26896513, 0.26896513, 0.26896513, 0.26896513, 0.26896513,\n",
       "        0.26896513, 0.26896513, 0.26896513, 0.26896513, 0.26896513,\n",
       "        0.26896513, 0.26896513, 0.26896513, 0.26896513, 0.26896513],\n",
       "       [0.09948377, 0.09948377, 0.09948377, 0.09948377, 0.09948377,\n",
       "        0.09948377, 0.09948377, 0.09948377, 0.09948377, 0.09948377,\n",
       "        0.09948377, 0.09948377, 0.09948377, 0.09948377, 0.09948377,\n",
       "        0.09948377, 0.09948377, 0.09948377, 0.09948377, 0.09948377,\n",
       "        0.09948377, 0.09948377, 0.09948377, 0.09948377, 0.09948377],\n",
       "       [0.27342103, 0.27342103, 0.27342103, 0.27342103, 0.27342103,\n",
       "        0.27342103, 0.27342103, 0.27342103, 0.27342103, 0.27342103,\n",
       "        0.27342103, 0.27342103, 0.27342103, 0.27342103, 0.27342103,\n",
       "        0.27342103, 0.27342103, 0.27342103, 0.27342103, 0.27342103,\n",
       "        0.27342103, 0.27342103, 0.27342103, 0.27342103, 0.27342103],\n",
       "       [0.86853511, 0.86853511, 0.86853511, 0.86853511, 0.86853511,\n",
       "        0.86853511, 0.86853511, 0.86853511, 0.86853511, 0.86853511,\n",
       "        0.86853511, 0.86853511, 0.86853511, 0.86853511, 0.86853511,\n",
       "        0.86853511, 0.86853511, 0.86853511, 0.86853511, 0.86853511,\n",
       "        0.86853511, 0.86853511, 0.86853511, 0.86853511, 0.86853511],\n",
       "       [0.57722136, 0.57722136, 0.57722136, 0.57722136, 0.57722136,\n",
       "        0.57722136, 0.57722136, 0.57722136, 0.57722136, 0.57722136,\n",
       "        0.57722136, 0.57722136, 0.57722136, 0.57722136, 0.57722136,\n",
       "        0.57722136, 0.57722136, 0.57722136, 0.57722136, 0.57722136,\n",
       "        0.57722136, 0.57722136, 0.57722136, 0.57722136, 0.57722136],\n",
       "       [0.55181844, 0.55181844, 0.55181844, 0.55181844, 0.55181844,\n",
       "        0.55181844, 0.55181844, 0.55181844, 0.55181844, 0.55181844,\n",
       "        0.55181844, 0.55181844, 0.55181844, 0.55181844, 0.55181844,\n",
       "        0.55181844, 0.55181844, 0.55181844, 0.55181844, 0.55181844,\n",
       "        0.55181844, 0.55181844, 0.55181844, 0.55181844, 0.55181844],\n",
       "       [0.51240941, 0.51240941, 0.51240941, 0.51240941, 0.51240941,\n",
       "        0.51240941, 0.51240941, 0.51240941, 0.51240941, 0.51240941,\n",
       "        0.51240941, 0.51240941, 0.51240941, 0.51240941, 0.51240941,\n",
       "        0.51240941, 0.51240941, 0.51240941, 0.51240941, 0.51240941,\n",
       "        0.51240941, 0.51240941, 0.51240941, 0.51240941, 0.51240941],\n",
       "       [0.71062075, 0.71062075, 0.71062075, 0.71062075, 0.71062075,\n",
       "        0.71062075, 0.71062075, 0.71062075, 0.71062075, 0.71062075,\n",
       "        0.71062075, 0.71062075, 0.71062075, 0.71062075, 0.71062075,\n",
       "        0.71062075, 0.71062075, 0.71062075, 0.71062075, 0.71062075,\n",
       "        0.71062075, 0.71062075, 0.71062075, 0.71062075, 0.71062075],\n",
       "       [0.9324557 , 0.9324557 , 0.9324557 , 0.9324557 , 0.9324557 ,\n",
       "        0.9324557 , 0.9324557 , 0.9324557 , 0.9324557 , 0.9324557 ,\n",
       "        0.9324557 , 0.9324557 , 0.9324557 , 0.9324557 , 0.9324557 ,\n",
       "        0.9324557 , 0.9324557 , 0.9324557 , 0.9324557 , 0.9324557 ,\n",
       "        0.9324557 , 0.9324557 , 0.9324557 , 0.9324557 , 0.9324557 ],\n",
       "       [0.02210196, 0.02210196, 0.02210196, 0.02210196, 0.02210196,\n",
       "        0.02210196, 0.02210196, 0.02210196, 0.02210196, 0.02210196,\n",
       "        0.02210196, 0.02210196, 0.02210196, 0.02210196, 0.02210196,\n",
       "        0.02210196, 0.02210196, 0.02210196, 0.02210196, 0.02210196,\n",
       "        0.02210196, 0.02210196, 0.02210196, 0.02210196, 0.02210196],\n",
       "       [0.94085372, 0.94085372, 0.94085372, 0.94085372, 0.94085372,\n",
       "        0.94085372, 0.94085372, 0.94085372, 0.94085372, 0.94085372,\n",
       "        0.94085372, 0.94085372, 0.94085372, 0.94085372, 0.94085372,\n",
       "        0.94085372, 0.94085372, 0.94085372, 0.94085372, 0.94085372,\n",
       "        0.94085372, 0.94085372, 0.94085372, 0.94085372, 0.94085372],\n",
       "       [0.27701715, 0.27701715, 0.27701715, 0.27701715, 0.27701715,\n",
       "        0.27701715, 0.27701715, 0.27701715, 0.27701715, 0.27701715,\n",
       "        0.27701715, 0.27701715, 0.27701715, 0.27701715, 0.27701715,\n",
       "        0.27701715, 0.27701715, 0.27701715, 0.27701715, 0.27701715,\n",
       "        0.27701715, 0.27701715, 0.27701715, 0.27701715, 0.27701715],\n",
       "       [0.43563928, 0.43563928, 0.43563928, 0.43563928, 0.43563928,\n",
       "        0.43563928, 0.43563928, 0.43563928, 0.43563928, 0.43563928,\n",
       "        0.43563928, 0.43563928, 0.43563928, 0.43563928, 0.43563928,\n",
       "        0.43563928, 0.43563928, 0.43563928, 0.43563928, 0.43563928,\n",
       "        0.43563928, 0.43563928, 0.43563928, 0.43563928, 0.43563928],\n",
       "       [0.95571384, 0.95571384, 0.95571384, 0.95571384, 0.95571384,\n",
       "        0.95571384, 0.95571384, 0.95571384, 0.95571384, 0.95571384,\n",
       "        0.95571384, 0.95571384, 0.95571384, 0.95571384, 0.95571384,\n",
       "        0.95571384, 0.95571384, 0.95571384, 0.95571384, 0.95571384,\n",
       "        0.95571384, 0.95571384, 0.95571384, 0.95571384, 0.95571384],\n",
       "       [0.09343863, 0.09343863, 0.09343863, 0.09343863, 0.09343863,\n",
       "        0.09343863, 0.09343863, 0.09343863, 0.09343863, 0.09343863,\n",
       "        0.09343863, 0.09343863, 0.09343863, 0.09343863, 0.09343863,\n",
       "        0.09343863, 0.09343863, 0.09343863, 0.09343863, 0.09343863,\n",
       "        0.09343863, 0.09343863, 0.09343863, 0.09343863, 0.09343863],\n",
       "       [0.92661818, 0.92661818, 0.92661818, 0.92661818, 0.92661818,\n",
       "        0.92661818, 0.92661818, 0.92661818, 0.92661818, 0.92661818,\n",
       "        0.92661818, 0.92661818, 0.92661818, 0.92661818, 0.92661818,\n",
       "        0.92661818, 0.92661818, 0.92661818, 0.92661818, 0.92661818,\n",
       "        0.92661818, 0.92661818, 0.92661818, 0.92661818, 0.92661818],\n",
       "       [0.68762049, 0.68762049, 0.68762049, 0.68762049, 0.68762049,\n",
       "        0.68762049, 0.68762049, 0.68762049, 0.68762049, 0.68762049,\n",
       "        0.68762049, 0.68762049, 0.68762049, 0.68762049, 0.68762049,\n",
       "        0.68762049, 0.68762049, 0.68762049, 0.68762049, 0.68762049,\n",
       "        0.68762049, 0.68762049, 0.68762049, 0.68762049, 0.68762049],\n",
       "       [0.38092982, 0.38092982, 0.38092982, 0.38092982, 0.38092982,\n",
       "        0.38092982, 0.38092982, 0.38092982, 0.38092982, 0.38092982,\n",
       "        0.38092982, 0.38092982, 0.38092982, 0.38092982, 0.38092982,\n",
       "        0.38092982, 0.38092982, 0.38092982, 0.38092982, 0.38092982,\n",
       "        0.38092982, 0.38092982, 0.38092982, 0.38092982, 0.38092982],\n",
       "       [0.83776555, 0.83776555, 0.83776555, 0.83776555, 0.83776555,\n",
       "        0.83776555, 0.83776555, 0.83776555, 0.83776555, 0.83776555,\n",
       "        0.83776555, 0.83776555, 0.83776555, 0.83776555, 0.83776555,\n",
       "        0.83776555, 0.83776555, 0.83776555, 0.83776555, 0.83776555,\n",
       "        0.83776555, 0.83776555, 0.83776555, 0.83776555, 0.83776555],\n",
       "       [0.0110213 , 0.0110213 , 0.0110213 , 0.0110213 , 0.0110213 ,\n",
       "        0.0110213 , 0.0110213 , 0.0110213 , 0.0110213 , 0.0110213 ,\n",
       "        0.0110213 , 0.0110213 , 0.0110213 , 0.0110213 , 0.0110213 ,\n",
       "        0.0110213 , 0.0110213 , 0.0110213 , 0.0110213 , 0.0110213 ,\n",
       "        0.0110213 , 0.0110213 , 0.0110213 , 0.0110213 , 0.0110213 ],\n",
       "       [0.51355974, 0.51355974, 0.51355974, 0.51355974, 0.51355974,\n",
       "        0.51355974, 0.51355974, 0.51355974, 0.51355974, 0.51355974,\n",
       "        0.51355974, 0.51355974, 0.51355974, 0.51355974, 0.51355974,\n",
       "        0.51355974, 0.51355974, 0.51355974, 0.51355974, 0.51355974,\n",
       "        0.51355974, 0.51355974, 0.51355974, 0.51355974, 0.51355974],\n",
       "       [0.56396244, 0.56396244, 0.56396244, 0.56396244, 0.56396244,\n",
       "        0.56396244, 0.56396244, 0.56396244, 0.56396244, 0.56396244,\n",
       "        0.56396244, 0.56396244, 0.56396244, 0.56396244, 0.56396244,\n",
       "        0.56396244, 0.56396244, 0.56396244, 0.56396244, 0.56396244,\n",
       "        0.56396244, 0.56396244, 0.56396244, 0.56396244, 0.56396244],\n",
       "       [0.33223657, 0.33223657, 0.33223657, 0.33223657, 0.33223657,\n",
       "        0.33223657, 0.33223657, 0.33223657, 0.33223657, 0.33223657,\n",
       "        0.33223657, 0.33223657, 0.33223657, 0.33223657, 0.33223657,\n",
       "        0.33223657, 0.33223657, 0.33223657, 0.33223657, 0.33223657,\n",
       "        0.33223657, 0.33223657, 0.33223657, 0.33223657, 0.33223657],\n",
       "       [0.90338828, 0.90338828, 0.90338828, 0.90338828, 0.90338828,\n",
       "        0.90338828, 0.90338828, 0.90338828, 0.90338828, 0.90338828,\n",
       "        0.90338828, 0.90338828, 0.90338828, 0.90338828, 0.90338828,\n",
       "        0.90338828, 0.90338828, 0.90338828, 0.90338828, 0.90338828,\n",
       "        0.90338828, 0.90338828, 0.90338828, 0.90338828, 0.90338828],\n",
       "       [0.80354196, 0.80354196, 0.80354196, 0.80354196, 0.80354196,\n",
       "        0.80354196, 0.80354196, 0.80354196, 0.80354196, 0.80354196,\n",
       "        0.80354196, 0.80354196, 0.80354196, 0.80354196, 0.80354196,\n",
       "        0.80354196, 0.80354196, 0.80354196, 0.80354196, 0.80354196,\n",
       "        0.80354196, 0.80354196, 0.80354196, 0.80354196, 0.80354196]])]"
      ],
      "text/plain": [
       "[array([[0.26896513, 0.09948377, 0.27342103, 0.86853511, 0.57722136,\n",
       "         0.55181844, 0.51240941, 0.71062075, 0.9324557 , 0.02210196,\n",
       "         0.94085372, 0.27701715, 0.43563928, 0.95571384, 0.09343863,\n",
       "         0.92661818, 0.68762049, 0.38092982, 0.83776555, 0.0110213 ,\n",
       "         0.51355974, 0.56396244, 0.33223657, 0.90338828, 0.80354196],\n",
       "        [0.26896513, 0.09948377, 0.27342103, 0.86853511, 0.57722136,\n",
       "         0.55181844, 0.51240941, 0.71062075, 0.9324557 , 0.02210196,\n",
       "         0.94085372, 0.27701715, 0.43563928, 0.95571384, 0.09343863,\n",
       "         0.92661818, 0.68762049, 0.38092982, 0.83776555, 0.0110213 ,\n",
       "         0.51355974, 0.56396244, 0.33223657, 0.90338828, 0.80354196],\n",
       "        [0.26896513, 0.09948377, 0.27342103, 0.86853511, 0.57722136,\n",
       "         0.55181844, 0.51240941, 0.71062075, 0.9324557 , 0.02210196,\n",
       "         0.94085372, 0.27701715, 0.43563928, 0.95571384, 0.09343863,\n",
       "         0.92661818, 0.68762049, 0.38092982, 0.83776555, 0.0110213 ,\n",
       "         0.51355974, 0.56396244, 0.33223657, 0.90338828, 0.80354196],\n",
       "        [0.26896513, 0.09948377, 0.27342103, 0.86853511, 0.57722136,\n",
       "         0.55181844, 0.51240941, 0.71062075, 0.9324557 , 0.02210196,\n",
       "         0.94085372, 0.27701715, 0.43563928, 0.95571384, 0.09343863,\n",
       "         0.92661818, 0.68762049, 0.38092982, 0.83776555, 0.0110213 ,\n",
       "         0.51355974, 0.56396244, 0.33223657, 0.90338828, 0.80354196],\n",
       "        [0.26896513, 0.09948377, 0.27342103, 0.86853511, 0.57722136,\n",
       "         0.55181844, 0.51240941, 0.71062075, 0.9324557 , 0.02210196,\n",
       "         0.94085372, 0.27701715, 0.43563928, 0.95571384, 0.09343863,\n",
       "         0.92661818, 0.68762049, 0.38092982, 0.83776555, 0.0110213 ,\n",
       "         0.51355974, 0.56396244, 0.33223657, 0.90338828, 0.80354196],\n",
       "        [0.26896513, 0.09948377, 0.27342103, 0.86853511, 0.57722136,\n",
       "         0.55181844, 0.51240941, 0.71062075, 0.9324557 , 0.02210196,\n",
       "         0.94085372, 0.27701715, 0.43563928, 0.95571384, 0.09343863,\n",
       "         0.92661818, 0.68762049, 0.38092982, 0.83776555, 0.0110213 ,\n",
       "         0.51355974, 0.56396244, 0.33223657, 0.90338828, 0.80354196],\n",
       "        [0.26896513, 0.09948377, 0.27342103, 0.86853511, 0.57722136,\n",
       "         0.55181844, 0.51240941, 0.71062075, 0.9324557 , 0.02210196,\n",
       "         0.94085372, 0.27701715, 0.43563928, 0.95571384, 0.09343863,\n",
       "         0.92661818, 0.68762049, 0.38092982, 0.83776555, 0.0110213 ,\n",
       "         0.51355974, 0.56396244, 0.33223657, 0.90338828, 0.80354196],\n",
       "        [0.26896513, 0.09948377, 0.27342103, 0.86853511, 0.57722136,\n",
       "         0.55181844, 0.51240941, 0.71062075, 0.9324557 , 0.02210196,\n",
       "         0.94085372, 0.27701715, 0.43563928, 0.95571384, 0.09343863,\n",
       "         0.92661818, 0.68762049, 0.38092982, 0.83776555, 0.0110213 ,\n",
       "         0.51355974, 0.56396244, 0.33223657, 0.90338828, 0.80354196],\n",
       "        [0.26896513, 0.09948377, 0.27342103, 0.86853511, 0.57722136,\n",
       "         0.55181844, 0.51240941, 0.71062075, 0.9324557 , 0.02210196,\n",
       "         0.94085372, 0.27701715, 0.43563928, 0.95571384, 0.09343863,\n",
       "         0.92661818, 0.68762049, 0.38092982, 0.83776555, 0.0110213 ,\n",
       "         0.51355974, 0.56396244, 0.33223657, 0.90338828, 0.80354196],\n",
       "        [0.26896513, 0.09948377, 0.27342103, 0.86853511, 0.57722136,\n",
       "         0.55181844, 0.51240941, 0.71062075, 0.9324557 , 0.02210196,\n",
       "         0.94085372, 0.27701715, 0.43563928, 0.95571384, 0.09343863,\n",
       "         0.92661818, 0.68762049, 0.38092982, 0.83776555, 0.0110213 ,\n",
       "         0.51355974, 0.56396244, 0.33223657, 0.90338828, 0.80354196],\n",
       "        [0.26896513, 0.09948377, 0.27342103, 0.86853511, 0.57722136,\n",
       "         0.55181844, 0.51240941, 0.71062075, 0.9324557 , 0.02210196,\n",
       "         0.94085372, 0.27701715, 0.43563928, 0.95571384, 0.09343863,\n",
       "         0.92661818, 0.68762049, 0.38092982, 0.83776555, 0.0110213 ,\n",
       "         0.51355974, 0.56396244, 0.33223657, 0.90338828, 0.80354196],\n",
       "        [0.26896513, 0.09948377, 0.27342103, 0.86853511, 0.57722136,\n",
       "         0.55181844, 0.51240941, 0.71062075, 0.9324557 , 0.02210196,\n",
       "         0.94085372, 0.27701715, 0.43563928, 0.95571384, 0.09343863,\n",
       "         0.92661818, 0.68762049, 0.38092982, 0.83776555, 0.0110213 ,\n",
       "         0.51355974, 0.56396244, 0.33223657, 0.90338828, 0.80354196],\n",
       "        [0.26896513, 0.09948377, 0.27342103, 0.86853511, 0.57722136,\n",
       "         0.55181844, 0.51240941, 0.71062075, 0.9324557 , 0.02210196,\n",
       "         0.94085372, 0.27701715, 0.43563928, 0.95571384, 0.09343863,\n",
       "         0.92661818, 0.68762049, 0.38092982, 0.83776555, 0.0110213 ,\n",
       "         0.51355974, 0.56396244, 0.33223657, 0.90338828, 0.80354196],\n",
       "        [0.26896513, 0.09948377, 0.27342103, 0.86853511, 0.57722136,\n",
       "         0.55181844, 0.51240941, 0.71062075, 0.9324557 , 0.02210196,\n",
       "         0.94085372, 0.27701715, 0.43563928, 0.95571384, 0.09343863,\n",
       "         0.92661818, 0.68762049, 0.38092982, 0.83776555, 0.0110213 ,\n",
       "         0.51355974, 0.56396244, 0.33223657, 0.90338828, 0.80354196],\n",
       "        [0.26896513, 0.09948377, 0.27342103, 0.86853511, 0.57722136,\n",
       "         0.55181844, 0.51240941, 0.71062075, 0.9324557 , 0.02210196,\n",
       "         0.94085372, 0.27701715, 0.43563928, 0.95571384, 0.09343863,\n",
       "         0.92661818, 0.68762049, 0.38092982, 0.83776555, 0.0110213 ,\n",
       "         0.51355974, 0.56396244, 0.33223657, 0.90338828, 0.80354196],\n",
       "        [0.26896513, 0.09948377, 0.27342103, 0.86853511, 0.57722136,\n",
       "         0.55181844, 0.51240941, 0.71062075, 0.9324557 , 0.02210196,\n",
       "         0.94085372, 0.27701715, 0.43563928, 0.95571384, 0.09343863,\n",
       "         0.92661818, 0.68762049, 0.38092982, 0.83776555, 0.0110213 ,\n",
       "         0.51355974, 0.56396244, 0.33223657, 0.90338828, 0.80354196],\n",
       "        [0.26896513, 0.09948377, 0.27342103, 0.86853511, 0.57722136,\n",
       "         0.55181844, 0.51240941, 0.71062075, 0.9324557 , 0.02210196,\n",
       "         0.94085372, 0.27701715, 0.43563928, 0.95571384, 0.09343863,\n",
       "         0.92661818, 0.68762049, 0.38092982, 0.83776555, 0.0110213 ,\n",
       "         0.51355974, 0.56396244, 0.33223657, 0.90338828, 0.80354196],\n",
       "        [0.26896513, 0.09948377, 0.27342103, 0.86853511, 0.57722136,\n",
       "         0.55181844, 0.51240941, 0.71062075, 0.9324557 , 0.02210196,\n",
       "         0.94085372, 0.27701715, 0.43563928, 0.95571384, 0.09343863,\n",
       "         0.92661818, 0.68762049, 0.38092982, 0.83776555, 0.0110213 ,\n",
       "         0.51355974, 0.56396244, 0.33223657, 0.90338828, 0.80354196],\n",
       "        [0.26896513, 0.09948377, 0.27342103, 0.86853511, 0.57722136,\n",
       "         0.55181844, 0.51240941, 0.71062075, 0.9324557 , 0.02210196,\n",
       "         0.94085372, 0.27701715, 0.43563928, 0.95571384, 0.09343863,\n",
       "         0.92661818, 0.68762049, 0.38092982, 0.83776555, 0.0110213 ,\n",
       "         0.51355974, 0.56396244, 0.33223657, 0.90338828, 0.80354196],\n",
       "        [0.26896513, 0.09948377, 0.27342103, 0.86853511, 0.57722136,\n",
       "         0.55181844, 0.51240941, 0.71062075, 0.9324557 , 0.02210196,\n",
       "         0.94085372, 0.27701715, 0.43563928, 0.95571384, 0.09343863,\n",
       "         0.92661818, 0.68762049, 0.38092982, 0.83776555, 0.0110213 ,\n",
       "         0.51355974, 0.56396244, 0.33223657, 0.90338828, 0.80354196],\n",
       "        [0.26896513, 0.09948377, 0.27342103, 0.86853511, 0.57722136,\n",
       "         0.55181844, 0.51240941, 0.71062075, 0.9324557 , 0.02210196,\n",
       "         0.94085372, 0.27701715, 0.43563928, 0.95571384, 0.09343863,\n",
       "         0.92661818, 0.68762049, 0.38092982, 0.83776555, 0.0110213 ,\n",
       "         0.51355974, 0.56396244, 0.33223657, 0.90338828, 0.80354196],\n",
       "        [0.26896513, 0.09948377, 0.27342103, 0.86853511, 0.57722136,\n",
       "         0.55181844, 0.51240941, 0.71062075, 0.9324557 , 0.02210196,\n",
       "         0.94085372, 0.27701715, 0.43563928, 0.95571384, 0.09343863,\n",
       "         0.92661818, 0.68762049, 0.38092982, 0.83776555, 0.0110213 ,\n",
       "         0.51355974, 0.56396244, 0.33223657, 0.90338828, 0.80354196],\n",
       "        [0.26896513, 0.09948377, 0.27342103, 0.86853511, 0.57722136,\n",
       "         0.55181844, 0.51240941, 0.71062075, 0.9324557 , 0.02210196,\n",
       "         0.94085372, 0.27701715, 0.43563928, 0.95571384, 0.09343863,\n",
       "         0.92661818, 0.68762049, 0.38092982, 0.83776555, 0.0110213 ,\n",
       "         0.51355974, 0.56396244, 0.33223657, 0.90338828, 0.80354196],\n",
       "        [0.26896513, 0.09948377, 0.27342103, 0.86853511, 0.57722136,\n",
       "         0.55181844, 0.51240941, 0.71062075, 0.9324557 , 0.02210196,\n",
       "         0.94085372, 0.27701715, 0.43563928, 0.95571384, 0.09343863,\n",
       "         0.92661818, 0.68762049, 0.38092982, 0.83776555, 0.0110213 ,\n",
       "         0.51355974, 0.56396244, 0.33223657, 0.90338828, 0.80354196],\n",
       "        [0.26896513, 0.09948377, 0.27342103, 0.86853511, 0.57722136,\n",
       "         0.55181844, 0.51240941, 0.71062075, 0.9324557 , 0.02210196,\n",
       "         0.94085372, 0.27701715, 0.43563928, 0.95571384, 0.09343863,\n",
       "         0.92661818, 0.68762049, 0.38092982, 0.83776555, 0.0110213 ,\n",
       "         0.51355974, 0.56396244, 0.33223657, 0.90338828, 0.80354196]]),\n",
       " array([[0.26896513, 0.26896513, 0.26896513, 0.26896513, 0.26896513,\n",
       "         0.26896513, 0.26896513, 0.26896513, 0.26896513, 0.26896513,\n",
       "         0.26896513, 0.26896513, 0.26896513, 0.26896513, 0.26896513,\n",
       "         0.26896513, 0.26896513, 0.26896513, 0.26896513, 0.26896513,\n",
       "         0.26896513, 0.26896513, 0.26896513, 0.26896513, 0.26896513],\n",
       "        [0.09948377, 0.09948377, 0.09948377, 0.09948377, 0.09948377,\n",
       "         0.09948377, 0.09948377, 0.09948377, 0.09948377, 0.09948377,\n",
       "         0.09948377, 0.09948377, 0.09948377, 0.09948377, 0.09948377,\n",
       "         0.09948377, 0.09948377, 0.09948377, 0.09948377, 0.09948377,\n",
       "         0.09948377, 0.09948377, 0.09948377, 0.09948377, 0.09948377],\n",
       "        [0.27342103, 0.27342103, 0.27342103, 0.27342103, 0.27342103,\n",
       "         0.27342103, 0.27342103, 0.27342103, 0.27342103, 0.27342103,\n",
       "         0.27342103, 0.27342103, 0.27342103, 0.27342103, 0.27342103,\n",
       "         0.27342103, 0.27342103, 0.27342103, 0.27342103, 0.27342103,\n",
       "         0.27342103, 0.27342103, 0.27342103, 0.27342103, 0.27342103],\n",
       "        [0.86853511, 0.86853511, 0.86853511, 0.86853511, 0.86853511,\n",
       "         0.86853511, 0.86853511, 0.86853511, 0.86853511, 0.86853511,\n",
       "         0.86853511, 0.86853511, 0.86853511, 0.86853511, 0.86853511,\n",
       "         0.86853511, 0.86853511, 0.86853511, 0.86853511, 0.86853511,\n",
       "         0.86853511, 0.86853511, 0.86853511, 0.86853511, 0.86853511],\n",
       "        [0.57722136, 0.57722136, 0.57722136, 0.57722136, 0.57722136,\n",
       "         0.57722136, 0.57722136, 0.57722136, 0.57722136, 0.57722136,\n",
       "         0.57722136, 0.57722136, 0.57722136, 0.57722136, 0.57722136,\n",
       "         0.57722136, 0.57722136, 0.57722136, 0.57722136, 0.57722136,\n",
       "         0.57722136, 0.57722136, 0.57722136, 0.57722136, 0.57722136],\n",
       "        [0.55181844, 0.55181844, 0.55181844, 0.55181844, 0.55181844,\n",
       "         0.55181844, 0.55181844, 0.55181844, 0.55181844, 0.55181844,\n",
       "         0.55181844, 0.55181844, 0.55181844, 0.55181844, 0.55181844,\n",
       "         0.55181844, 0.55181844, 0.55181844, 0.55181844, 0.55181844,\n",
       "         0.55181844, 0.55181844, 0.55181844, 0.55181844, 0.55181844],\n",
       "        [0.51240941, 0.51240941, 0.51240941, 0.51240941, 0.51240941,\n",
       "         0.51240941, 0.51240941, 0.51240941, 0.51240941, 0.51240941,\n",
       "         0.51240941, 0.51240941, 0.51240941, 0.51240941, 0.51240941,\n",
       "         0.51240941, 0.51240941, 0.51240941, 0.51240941, 0.51240941,\n",
       "         0.51240941, 0.51240941, 0.51240941, 0.51240941, 0.51240941],\n",
       "        [0.71062075, 0.71062075, 0.71062075, 0.71062075, 0.71062075,\n",
       "         0.71062075, 0.71062075, 0.71062075, 0.71062075, 0.71062075,\n",
       "         0.71062075, 0.71062075, 0.71062075, 0.71062075, 0.71062075,\n",
       "         0.71062075, 0.71062075, 0.71062075, 0.71062075, 0.71062075,\n",
       "         0.71062075, 0.71062075, 0.71062075, 0.71062075, 0.71062075],\n",
       "        [0.9324557 , 0.9324557 , 0.9324557 , 0.9324557 , 0.9324557 ,\n",
       "         0.9324557 , 0.9324557 , 0.9324557 , 0.9324557 , 0.9324557 ,\n",
       "         0.9324557 , 0.9324557 , 0.9324557 , 0.9324557 , 0.9324557 ,\n",
       "         0.9324557 , 0.9324557 , 0.9324557 , 0.9324557 , 0.9324557 ,\n",
       "         0.9324557 , 0.9324557 , 0.9324557 , 0.9324557 , 0.9324557 ],\n",
       "        [0.02210196, 0.02210196, 0.02210196, 0.02210196, 0.02210196,\n",
       "         0.02210196, 0.02210196, 0.02210196, 0.02210196, 0.02210196,\n",
       "         0.02210196, 0.02210196, 0.02210196, 0.02210196, 0.02210196,\n",
       "         0.02210196, 0.02210196, 0.02210196, 0.02210196, 0.02210196,\n",
       "         0.02210196, 0.02210196, 0.02210196, 0.02210196, 0.02210196],\n",
       "        [0.94085372, 0.94085372, 0.94085372, 0.94085372, 0.94085372,\n",
       "         0.94085372, 0.94085372, 0.94085372, 0.94085372, 0.94085372,\n",
       "         0.94085372, 0.94085372, 0.94085372, 0.94085372, 0.94085372,\n",
       "         0.94085372, 0.94085372, 0.94085372, 0.94085372, 0.94085372,\n",
       "         0.94085372, 0.94085372, 0.94085372, 0.94085372, 0.94085372],\n",
       "        [0.27701715, 0.27701715, 0.27701715, 0.27701715, 0.27701715,\n",
       "         0.27701715, 0.27701715, 0.27701715, 0.27701715, 0.27701715,\n",
       "         0.27701715, 0.27701715, 0.27701715, 0.27701715, 0.27701715,\n",
       "         0.27701715, 0.27701715, 0.27701715, 0.27701715, 0.27701715,\n",
       "         0.27701715, 0.27701715, 0.27701715, 0.27701715, 0.27701715],\n",
       "        [0.43563928, 0.43563928, 0.43563928, 0.43563928, 0.43563928,\n",
       "         0.43563928, 0.43563928, 0.43563928, 0.43563928, 0.43563928,\n",
       "         0.43563928, 0.43563928, 0.43563928, 0.43563928, 0.43563928,\n",
       "         0.43563928, 0.43563928, 0.43563928, 0.43563928, 0.43563928,\n",
       "         0.43563928, 0.43563928, 0.43563928, 0.43563928, 0.43563928],\n",
       "        [0.95571384, 0.95571384, 0.95571384, 0.95571384, 0.95571384,\n",
       "         0.95571384, 0.95571384, 0.95571384, 0.95571384, 0.95571384,\n",
       "         0.95571384, 0.95571384, 0.95571384, 0.95571384, 0.95571384,\n",
       "         0.95571384, 0.95571384, 0.95571384, 0.95571384, 0.95571384,\n",
       "         0.95571384, 0.95571384, 0.95571384, 0.95571384, 0.95571384],\n",
       "        [0.09343863, 0.09343863, 0.09343863, 0.09343863, 0.09343863,\n",
       "         0.09343863, 0.09343863, 0.09343863, 0.09343863, 0.09343863,\n",
       "         0.09343863, 0.09343863, 0.09343863, 0.09343863, 0.09343863,\n",
       "         0.09343863, 0.09343863, 0.09343863, 0.09343863, 0.09343863,\n",
       "         0.09343863, 0.09343863, 0.09343863, 0.09343863, 0.09343863],\n",
       "        [0.92661818, 0.92661818, 0.92661818, 0.92661818, 0.92661818,\n",
       "         0.92661818, 0.92661818, 0.92661818, 0.92661818, 0.92661818,\n",
       "         0.92661818, 0.92661818, 0.92661818, 0.92661818, 0.92661818,\n",
       "         0.92661818, 0.92661818, 0.92661818, 0.92661818, 0.92661818,\n",
       "         0.92661818, 0.92661818, 0.92661818, 0.92661818, 0.92661818],\n",
       "        [0.68762049, 0.68762049, 0.68762049, 0.68762049, 0.68762049,\n",
       "         0.68762049, 0.68762049, 0.68762049, 0.68762049, 0.68762049,\n",
       "         0.68762049, 0.68762049, 0.68762049, 0.68762049, 0.68762049,\n",
       "         0.68762049, 0.68762049, 0.68762049, 0.68762049, 0.68762049,\n",
       "         0.68762049, 0.68762049, 0.68762049, 0.68762049, 0.68762049],\n",
       "        [0.38092982, 0.38092982, 0.38092982, 0.38092982, 0.38092982,\n",
       "         0.38092982, 0.38092982, 0.38092982, 0.38092982, 0.38092982,\n",
       "         0.38092982, 0.38092982, 0.38092982, 0.38092982, 0.38092982,\n",
       "         0.38092982, 0.38092982, 0.38092982, 0.38092982, 0.38092982,\n",
       "         0.38092982, 0.38092982, 0.38092982, 0.38092982, 0.38092982],\n",
       "        [0.83776555, 0.83776555, 0.83776555, 0.83776555, 0.83776555,\n",
       "         0.83776555, 0.83776555, 0.83776555, 0.83776555, 0.83776555,\n",
       "         0.83776555, 0.83776555, 0.83776555, 0.83776555, 0.83776555,\n",
       "         0.83776555, 0.83776555, 0.83776555, 0.83776555, 0.83776555,\n",
       "         0.83776555, 0.83776555, 0.83776555, 0.83776555, 0.83776555],\n",
       "        [0.0110213 , 0.0110213 , 0.0110213 , 0.0110213 , 0.0110213 ,\n",
       "         0.0110213 , 0.0110213 , 0.0110213 , 0.0110213 , 0.0110213 ,\n",
       "         0.0110213 , 0.0110213 , 0.0110213 , 0.0110213 , 0.0110213 ,\n",
       "         0.0110213 , 0.0110213 , 0.0110213 , 0.0110213 , 0.0110213 ,\n",
       "         0.0110213 , 0.0110213 , 0.0110213 , 0.0110213 , 0.0110213 ],\n",
       "        [0.51355974, 0.51355974, 0.51355974, 0.51355974, 0.51355974,\n",
       "         0.51355974, 0.51355974, 0.51355974, 0.51355974, 0.51355974,\n",
       "         0.51355974, 0.51355974, 0.51355974, 0.51355974, 0.51355974,\n",
       "         0.51355974, 0.51355974, 0.51355974, 0.51355974, 0.51355974,\n",
       "         0.51355974, 0.51355974, 0.51355974, 0.51355974, 0.51355974],\n",
       "        [0.56396244, 0.56396244, 0.56396244, 0.56396244, 0.56396244,\n",
       "         0.56396244, 0.56396244, 0.56396244, 0.56396244, 0.56396244,\n",
       "         0.56396244, 0.56396244, 0.56396244, 0.56396244, 0.56396244,\n",
       "         0.56396244, 0.56396244, 0.56396244, 0.56396244, 0.56396244,\n",
       "         0.56396244, 0.56396244, 0.56396244, 0.56396244, 0.56396244],\n",
       "        [0.33223657, 0.33223657, 0.33223657, 0.33223657, 0.33223657,\n",
       "         0.33223657, 0.33223657, 0.33223657, 0.33223657, 0.33223657,\n",
       "         0.33223657, 0.33223657, 0.33223657, 0.33223657, 0.33223657,\n",
       "         0.33223657, 0.33223657, 0.33223657, 0.33223657, 0.33223657,\n",
       "         0.33223657, 0.33223657, 0.33223657, 0.33223657, 0.33223657],\n",
       "        [0.90338828, 0.90338828, 0.90338828, 0.90338828, 0.90338828,\n",
       "         0.90338828, 0.90338828, 0.90338828, 0.90338828, 0.90338828,\n",
       "         0.90338828, 0.90338828, 0.90338828, 0.90338828, 0.90338828,\n",
       "         0.90338828, 0.90338828, 0.90338828, 0.90338828, 0.90338828,\n",
       "         0.90338828, 0.90338828, 0.90338828, 0.90338828, 0.90338828],\n",
       "        [0.80354196, 0.80354196, 0.80354196, 0.80354196, 0.80354196,\n",
       "         0.80354196, 0.80354196, 0.80354196, 0.80354196, 0.80354196,\n",
       "         0.80354196, 0.80354196, 0.80354196, 0.80354196, 0.80354196,\n",
       "         0.80354196, 0.80354196, 0.80354196, 0.80354196, 0.80354196,\n",
       "         0.80354196, 0.80354196, 0.80354196, 0.80354196, 0.80354196]])]"
      ]
     },
     "execution_count": 41,
     "metadata": {},
     "output_type": "execute_result"
    }
   ],
   "source": [
    "np.meshgrid(mock_obj, mock_obj)"
   ]
  },
  {
   "cell_type": "code",
   "execution_count": 43,
   "id": "844364ff-3e99-4b9e-b945-d44bf65f0506",
   "metadata": {},
   "outputs": [
    {
     "data": {
      "text/plain": [
       "None"
      ]
     },
     "execution_count": 43,
     "metadata": {},
     "output_type": "execute_result"
    }
   ],
   "source": [
    "np.put(mock_obj, np.random.choice(range(5*5), 3, replace=False),1)"
   ]
  },
  {
   "cell_type": "code",
   "execution_count": 44,
   "id": "9f81737c-3f7a-446b-9dba-b524ed70cc8b",
   "metadata": {},
   "outputs": [
    {
     "data": {
      "text/plain": [
       "array([[0.26896513, 0.09948377, 0.27342103, 0.86853511, 0.57722136],\n",
       "       [0.55181844, 0.51240941, 0.71062075, 0.9324557 , 0.02210196],\n",
       "       [0.94085372, 0.27701715, 0.43563928, 1.        , 0.09343863],\n",
       "       [0.92661818, 0.68762049, 0.38092982, 1.        , 0.0110213 ],\n",
       "       [0.51355974, 0.56396244, 0.33223657, 0.90338828, 1.        ]])"
      ]
     },
     "execution_count": 44,
     "metadata": {},
     "output_type": "execute_result"
    }
   ],
   "source": [
    "mock_obj"
   ]
  },
  {
   "cell_type": "code",
   "execution_count": 47,
   "id": "4f5060de-3d01-4ce3-9ec0-d53324e6bbb2",
   "metadata": {},
   "outputs": [
    {
     "data": {
      "text/plain": [
       "array([0.51355974, 0.56396244, 0.33223657, 0.90338828, 1.        ,\n",
       "       0.26896513, 0.09948377, 0.27342103, 0.86853511, 0.57722136])"
      ]
     },
     "execution_count": 47,
     "metadata": {},
     "output_type": "execute_result"
    }
   ],
   "source": [
    "mock_obj.flat[np.arange(10)-5]"
   ]
  },
  {
   "cell_type": "code",
   "execution_count": 53,
   "id": "f82faac2-0afa-4a4d-bfd0-63bc3994e72b",
   "metadata": {},
   "outputs": [
    {
     "ename": "ValueError",
     "evalue": "object too deep for desired array",
     "output_type": "error",
     "traceback": [
      "\u001b[0;31m---------------------------------------------------------------------------\u001b[0m",
      "\u001b[0;31mValueError\u001b[0m                                Traceback (most recent call last)",
      "\u001b[0;32m/tmp/ipykernel_51962/864120259.py\u001b[0m in \u001b[0;36m<module>\u001b[0;34m\u001b[0m\n\u001b[0;32m----> 1\u001b[0;31m \u001b[0mnp\u001b[0m\u001b[0;34m.\u001b[0m\u001b[0mbincount\u001b[0m\u001b[0;34m(\u001b[0m\u001b[0mmock_obj\u001b[0m\u001b[0;34m)\u001b[0m\u001b[0;34m\u001b[0m\u001b[0;34m\u001b[0m\u001b[0m\n\u001b[0m",
      "\u001b[0;32m~/anaconda3/envs/Hagrid/lib/python3.9/site-packages/numpy/core/overrides.py\u001b[0m in \u001b[0;36mbincount\u001b[0;34m(*args, **kwargs)\u001b[0m\n",
      "\u001b[0;31mValueError\u001b[0m: object too deep for desired array"
     ]
    }
   ],
   "source": [
    "np.bincount(mock_obj)"
   ]
  },
  {
   "cell_type": "code",
   "execution_count": 56,
   "id": "52ee0bc3-0aed-4e82-9481-28293e0337a8",
   "metadata": {},
   "outputs": [
    {
     "ename": "ValueError",
     "evalue": "object too deep for desired array",
     "output_type": "error",
     "traceback": [
      "\u001b[0;31m---------------------------------------------------------------------------\u001b[0m",
      "\u001b[0;31mValueError\u001b[0m                                Traceback (most recent call last)",
      "\u001b[0;32m/tmp/ipykernel_51962/2391468074.py\u001b[0m in \u001b[0;36m<module>\u001b[0;34m\u001b[0m\n\u001b[0;32m----> 1\u001b[0;31m \u001b[0mnp\u001b[0m\u001b[0;34m.\u001b[0m\u001b[0mbincount\u001b[0m\u001b[0;34m(\u001b[0m\u001b[0mdata\u001b[0m\u001b[0;34m.\u001b[0m\u001b[0mastype\u001b[0m\u001b[0;34m(\u001b[0m\u001b[0mnp\u001b[0m\u001b[0;34m.\u001b[0m\u001b[0mint32\u001b[0m\u001b[0;34m)\u001b[0m\u001b[0;34m)\u001b[0m\u001b[0;34m\u001b[0m\u001b[0;34m\u001b[0m\u001b[0m\n\u001b[0m",
      "\u001b[0;32m~/anaconda3/envs/Hagrid/lib/python3.9/site-packages/numpy/core/overrides.py\u001b[0m in \u001b[0;36mbincount\u001b[0;34m(*args, **kwargs)\u001b[0m\n",
      "\u001b[0;31mValueError\u001b[0m: object too deep for desired array"
     ]
    }
   ],
   "source": [
    "np.bincount(data.astype(np.int32))"
   ]
  },
  {
   "cell_type": "code",
   "execution_count": 57,
   "id": "8473b46c-be9e-4154-b44c-19bebff60492",
   "metadata": {},
   "outputs": [],
   "source": [
    "D = np.random.uniform(0,1,100)\n",
    "S = np.random.randint(0,10,100)"
   ]
  },
  {
   "cell_type": "code",
   "execution_count": 58,
   "id": "70ac5242-0086-4552-8ef7-462be1190ade",
   "metadata": {},
   "outputs": [],
   "source": [
    "ao = AO.from_obj(S)"
   ]
  },
  {
   "cell_type": "code",
   "execution_count": 59,
   "id": "d61e9753-58df-4376-b964-4fa40f37002b",
   "metadata": {},
   "outputs": [
    {
     "data": {
      "text/plain": [
       "array([6.05649261, 4.34786062, 6.08968242, 4.69644812, 3.67013227,\n",
       "       7.63484135, 3.88261767, 1.29747819, 4.9158365 , 3.10252289])"
      ]
     },
     "execution_count": 59,
     "metadata": {},
     "output_type": "execute_result"
    }
   ],
   "source": [
    "np.bincount(ao, weights=D)"
   ]
  },
  {
   "cell_type": "code",
   "execution_count": 60,
   "id": "be0ea65b-c50e-45cc-afb3-295494a4cbb1",
   "metadata": {},
   "outputs": [
    {
     "data": {
      "text/plain": [
       "array([6.05649261, 4.34786062, 6.08968242, 4.69644812, 3.67013227,\n",
       "       7.63484135, 3.88261767, 1.29747819, 4.9158365 , 3.10252289])"
      ]
     },
     "execution_count": 60,
     "metadata": {},
     "output_type": "execute_result"
    }
   ],
   "source": [
    "np.bincount(ao, weights=AO.from_obj(D))"
   ]
  },
  {
   "cell_type": "code",
   "execution_count": 61,
   "id": "a94a9bb9-01d3-4864-be38-e801460976ba",
   "metadata": {},
   "outputs": [
    {
     "data": {
      "text/plain": [
       "(array([[-0.33189609, -0.4264609 , -0.61303062, -0.18560585,  0.54563726],\n",
       "        [-0.4407661 ,  0.29118125, -0.35141538,  0.75178808, -0.17961246],\n",
       "        [-0.47080417,  0.3021113 , -0.22017088, -0.6172241 , -0.50757403],\n",
       "        [-0.50153624,  0.39710313,  0.51813661, -0.07108527,  0.56325113],\n",
       "        [-0.4715666 , -0.6959759 ,  0.42867228,  0.11977666, -0.30844142]]),\n",
       " array([3.00580466, 0.97862389, 0.41115728, 0.38548752, 0.14746966]),\n",
       " array([[-0.49316559, -0.3327243 , -0.31831326, -0.69785188, -0.24033657],\n",
       "        [ 0.34819954,  0.07257136,  0.14506838, -0.02902514, -0.92282348],\n",
       "        [ 0.3266723 ,  0.71989525, -0.42188067, -0.4253716 ,  0.12693202],\n",
       "        [-0.57108203,  0.55629999,  0.58968521, -0.10454463, -0.07574574],\n",
       "        [-0.45021695,  0.23729538, -0.59322836,  0.56594144, -0.26227084]]))"
      ]
     },
     "execution_count": 61,
     "metadata": {},
     "output_type": "execute_result"
    }
   ],
   "source": [
    "np.linalg.svd(mock_obj)"
   ]
  },
  {
   "cell_type": "code",
   "execution_count": 62,
   "id": "5ea5b20e-0a71-4827-be70-3ba1f060fec3",
   "metadata": {},
   "outputs": [],
   "source": [
    "def iterate(Z):\n",
    "    # Count neighbours\n",
    "    N = (Z[0:-2,0:-2] + Z[0:-2,1:-1] + Z[0:-2,2:] +\n",
    "         Z[1:-1,0:-2]                + Z[1:-1,2:] +\n",
    "         Z[2:  ,0:-2] + Z[2:  ,1:-1] + Z[2:  ,2:])\n",
    "\n",
    "    # Apply rules\n",
    "    birth = (N==3) & (Z[1:-1,1:-1]==0)\n",
    "    survive = ((N==2) | (N==3)) & (Z[1:-1,1:-1]==1)\n",
    "    Z[...] = 0\n",
    "    Z[1:-1,1:-1][birth | survive] = 1\n",
    "    return Z"
   ]
  },
  {
   "cell_type": "code",
   "execution_count": 64,
   "id": "c2d7894c-d9c3-4983-a258-2c2e212466bb",
   "metadata": {},
   "outputs": [
    {
     "name": "stdout",
     "output_type": "stream",
     "text": [
      "ufunc being called\n",
      "ufunc being called\n",
      "ufunc being called\n",
      "ufunc being called\n",
      "ufunc being called\n",
      "ufunc being called\n",
      "ufunc being called\n",
      "ufunc being called\n",
      "ufunc being called\n",
      "ufunc being called\n",
      "ufunc being called\n",
      "ufunc being called\n",
      "ufunc being called\n",
      "ufunc being called\n",
      "ufunc being called\n",
      "ufunc being called\n",
      "ufunc being called\n",
      "ufunc being called\n",
      "ufunc being called\n",
      "ufunc being called\n",
      "ufunc being called\n",
      "ufunc being called\n",
      "ufunc being called\n",
      "ufunc being called\n",
      "ufunc being called\n",
      "ufunc being called\n",
      "ufunc being called\n",
      "ufunc being called\n",
      "ufunc being called\n",
      "ufunc being called\n",
      "ufunc being called\n",
      "ufunc being called\n",
      "ufunc being called\n",
      "ufunc being called\n",
      "ufunc being called\n",
      "ufunc being called\n",
      "ufunc being called\n",
      "ufunc being called\n",
      "ufunc being called\n",
      "ufunc being called\n",
      "ufunc being called\n",
      "ufunc being called\n",
      "ufunc being called\n",
      "ufunc being called\n",
      "ufunc being called\n",
      "ufunc being called\n",
      "ufunc being called\n",
      "ufunc being called\n",
      "ufunc being called\n",
      "ufunc being called\n",
      "ufunc being called\n",
      "ufunc being called\n",
      "ufunc being called\n",
      "ufunc being called\n",
      "ufunc being called\n",
      "ufunc being called\n",
      "ufunc being called\n",
      "ufunc being called\n",
      "ufunc being called\n",
      "ufunc being called\n",
      "ufunc being called\n",
      "ufunc being called\n",
      "ufunc being called\n",
      "ufunc being called\n",
      "ufunc being called\n",
      "ufunc being called\n",
      "ufunc being called\n",
      "ufunc being called\n",
      "ufunc being called\n",
      "ufunc being called\n",
      "ufunc being called\n",
      "ufunc being called\n",
      "ufunc being called\n",
      "ufunc being called\n",
      "ufunc being called\n",
      "ufunc being called\n",
      "ufunc being called\n",
      "ufunc being called\n",
      "ufunc being called\n",
      "ufunc being called\n",
      "ufunc being called\n",
      "ufunc being called\n",
      "ufunc being called\n",
      "ufunc being called\n",
      "ufunc being called\n",
      "ufunc being called\n",
      "ufunc being called\n",
      "ufunc being called\n",
      "ufunc being called\n",
      "ufunc being called\n",
      "ufunc being called\n",
      "ufunc being called\n",
      "ufunc being called\n",
      "ufunc being called\n",
      "ufunc being called\n",
      "ufunc being called\n",
      "ufunc being called\n",
      "ufunc being called\n",
      "ufunc being called\n",
      "ufunc being called\n",
      "ufunc being called\n",
      "ufunc being called\n",
      "ufunc being called\n",
      "ufunc being called\n",
      "ufunc being called\n",
      "ufunc being called\n",
      "ufunc being called\n",
      "ufunc being called\n",
      "ufunc being called\n",
      "ufunc being called\n",
      "ufunc being called\n",
      "ufunc being called\n",
      "ufunc being called\n",
      "ufunc being called\n",
      "ufunc being called\n",
      "ufunc being called\n",
      "ufunc being called\n",
      "ufunc being called\n",
      "ufunc being called\n",
      "ufunc being called\n",
      "ufunc being called\n",
      "ufunc being called\n",
      "ufunc being called\n",
      "ufunc being called\n",
      "ufunc being called\n",
      "ufunc being called\n",
      "ufunc being called\n",
      "ufunc being called\n",
      "ufunc being called\n",
      "ufunc being called\n",
      "ufunc being called\n",
      "ufunc being called\n",
      "ufunc being called\n",
      "ufunc being called\n",
      "ufunc being called\n",
      "ufunc being called\n",
      "ufunc being called\n",
      "ufunc being called\n",
      "ufunc being called\n",
      "ufunc being called\n",
      "ufunc being called\n",
      "ufunc being called\n",
      "ufunc being called\n",
      "ufunc being called\n",
      "ufunc being called\n",
      "ufunc being called\n",
      "ufunc being called\n",
      "ufunc being called\n",
      "ufunc being called\n",
      "ufunc being called\n",
      "ufunc being called\n",
      "ufunc being called\n",
      "ufunc being called\n",
      "ufunc being called\n",
      "ufunc being called\n",
      "ufunc being called\n",
      "ufunc being called\n",
      "ufunc being called\n",
      "ufunc being called\n",
      "ufunc being called\n",
      "ufunc being called\n",
      "ufunc being called\n",
      "ufunc being called\n",
      "ufunc being called\n",
      "ufunc being called\n",
      "ufunc being called\n",
      "ufunc being called\n",
      "ufunc being called\n",
      "ufunc being called\n",
      "ufunc being called\n",
      "ufunc being called\n",
      "ufunc being called\n",
      "ufunc being called\n",
      "ufunc being called\n",
      "ufunc being called\n",
      "ufunc being called\n",
      "ufunc being called\n",
      "ufunc being called\n",
      "ufunc being called\n",
      "ufunc being called\n",
      "ufunc being called\n",
      "ufunc being called\n",
      "ufunc being called\n",
      "ufunc being called\n",
      "ufunc being called\n",
      "ufunc being called\n",
      "ufunc being called\n",
      "ufunc being called\n",
      "ufunc being called\n",
      "ufunc being called\n",
      "ufunc being called\n",
      "ufunc being called\n",
      "ufunc being called\n",
      "ufunc being called\n",
      "ufunc being called\n",
      "ufunc being called\n",
      "ufunc being called\n",
      "ufunc being called\n",
      "ufunc being called\n",
      "ufunc being called\n",
      "ufunc being called\n",
      "ufunc being called\n",
      "ufunc being called\n",
      "ufunc being called\n",
      "ufunc being called\n",
      "ufunc being called\n",
      "ufunc being called\n",
      "ufunc being called\n",
      "ufunc being called\n",
      "ufunc being called\n",
      "ufunc being called\n",
      "ufunc being called\n",
      "ufunc being called\n",
      "ufunc being called\n",
      "ufunc being called\n",
      "ufunc being called\n",
      "ufunc being called\n",
      "ufunc being called\n",
      "ufunc being called\n",
      "ufunc being called\n",
      "ufunc being called\n",
      "ufunc being called\n",
      "ufunc being called\n",
      "ufunc being called\n",
      "ufunc being called\n",
      "ufunc being called\n",
      "ufunc being called\n",
      "ufunc being called\n",
      "ufunc being called\n",
      "ufunc being called\n",
      "ufunc being called\n",
      "ufunc being called\n",
      "ufunc being called\n",
      "ufunc being called\n",
      "ufunc being called\n",
      "ufunc being called\n",
      "ufunc being called\n",
      "ufunc being called\n",
      "ufunc being called\n",
      "ufunc being called\n",
      "ufunc being called\n",
      "ufunc being called\n",
      "ufunc being called\n",
      "ufunc being called\n",
      "ufunc being called\n",
      "ufunc being called\n",
      "ufunc being called\n",
      "ufunc being called\n",
      "ufunc being called\n",
      "ufunc being called\n",
      "ufunc being called\n",
      "ufunc being called\n",
      "ufunc being called\n",
      "ufunc being called\n",
      "ufunc being called\n",
      "ufunc being called\n",
      "ufunc being called\n",
      "ufunc being called\n",
      "ufunc being called\n",
      "ufunc being called\n",
      "ufunc being called\n",
      "ufunc being called\n",
      "ufunc being called\n",
      "ufunc being called\n",
      "ufunc being called\n",
      "ufunc being called\n",
      "ufunc being called\n",
      "ufunc being called\n",
      "ufunc being called\n",
      "ufunc being called\n",
      "ufunc being called\n",
      "ufunc being called\n",
      "ufunc being called\n",
      "ufunc being called\n",
      "ufunc being called\n",
      "ufunc being called\n",
      "ufunc being called\n",
      "ufunc being called\n",
      "ufunc being called\n",
      "ufunc being called\n",
      "ufunc being called\n",
      "ufunc being called\n",
      "ufunc being called\n",
      "ufunc being called\n",
      "ufunc being called\n",
      "ufunc being called\n",
      "ufunc being called\n",
      "ufunc being called\n",
      "ufunc being called\n",
      "ufunc being called\n",
      "ufunc being called\n",
      "ufunc being called\n",
      "ufunc being called\n",
      "ufunc being called\n",
      "ufunc being called\n",
      "ufunc being called\n",
      "ufunc being called\n",
      "ufunc being called\n",
      "ufunc being called\n",
      "ufunc being called\n",
      "ufunc being called\n",
      "ufunc being called\n",
      "ufunc being called\n",
      "ufunc being called\n",
      "ufunc being called\n",
      "ufunc being called\n",
      "ufunc being called\n",
      "ufunc being called\n",
      "ufunc being called\n",
      "ufunc being called\n",
      "ufunc being called\n",
      "ufunc being called\n",
      "ufunc being called\n",
      "ufunc being called\n",
      "ufunc being called\n",
      "ufunc being called\n",
      "ufunc being called\n",
      "ufunc being called\n",
      "ufunc being called\n",
      "ufunc being called\n",
      "ufunc being called\n",
      "ufunc being called\n",
      "ufunc being called\n",
      "ufunc being called\n",
      "ufunc being called\n",
      "ufunc being called\n",
      "ufunc being called\n",
      "ufunc being called\n",
      "ufunc being called\n",
      "ufunc being called\n",
      "ufunc being called\n",
      "ufunc being called\n",
      "ufunc being called\n",
      "ufunc being called\n",
      "ufunc being called\n",
      "ufunc being called\n",
      "ufunc being called\n",
      "ufunc being called\n",
      "ufunc being called\n",
      "ufunc being called\n",
      "ufunc being called\n",
      "ufunc being called\n",
      "ufunc being called\n",
      "ufunc being called\n",
      "ufunc being called\n",
      "ufunc being called\n",
      "ufunc being called\n",
      "ufunc being called\n",
      "ufunc being called\n",
      "ufunc being called\n",
      "ufunc being called\n",
      "ufunc being called\n",
      "ufunc being called\n",
      "ufunc being called\n",
      "ufunc being called\n",
      "ufunc being called\n",
      "ufunc being called\n",
      "ufunc being called\n",
      "ufunc being called\n",
      "ufunc being called\n",
      "ufunc being called\n",
      "ufunc being called\n",
      "ufunc being called\n",
      "ufunc being called\n",
      "ufunc being called\n",
      "ufunc being called\n",
      "ufunc being called\n",
      "ufunc being called\n",
      "ufunc being called\n",
      "ufunc being called\n",
      "ufunc being called\n",
      "ufunc being called\n",
      "ufunc being called\n",
      "ufunc being called\n",
      "ufunc being called\n",
      "ufunc being called\n",
      "ufunc being called\n",
      "ufunc being called\n",
      "ufunc being called\n",
      "ufunc being called\n",
      "ufunc being called\n",
      "ufunc being called\n",
      "ufunc being called\n",
      "ufunc being called\n",
      "ufunc being called\n",
      "ufunc being called\n",
      "ufunc being called\n",
      "ufunc being called\n",
      "ufunc being called\n",
      "ufunc being called\n",
      "ufunc being called\n",
      "ufunc being called\n",
      "ufunc being called\n",
      "ufunc being called\n",
      "ufunc being called\n",
      "ufunc being called\n",
      "ufunc being called\n",
      "ufunc being called\n",
      "ufunc being called\n",
      "ufunc being called\n",
      "[[0 0 0 ... 0 0 0]\n",
      " [0 0 0 ... 0 0 0]\n",
      " [0 0 1 ... 0 0 0]\n",
      " ...\n",
      " [0 0 0 ... 0 0 0]\n",
      " [0 0 0 ... 0 0 0]\n",
      " [0 0 0 ... 0 0 0]]\n"
     ]
    }
   ],
   "source": [
    "Z = np.random.randint(0,2,(50,50))\n",
    "mock = AO.from_obj(Z)\n",
    "for i in range(100): mock = iterate(mock)\n",
    "print(Z)"
   ]
  },
  {
   "cell_type": "code",
   "execution_count": 76,
   "id": "f05375b9-bc1f-441c-911d-06b9a9a1a934",
   "metadata": {},
   "outputs": [
    {
     "name": "stderr",
     "output_type": "stream",
     "text": [
      "/tmp/ipykernel_51962/2263638705.py:1: UserWarning: you are shuffling a 'NumpyArrayObject' object which is not a subclass of 'Sequence'; `shuffle` is not guaranteed to behave correctly. E.g., non-numpy array/tensor objects with view semantics may contain duplicates after shuffling.\n",
      "  np.random.shuffle(mock_obj)\n"
     ]
    }
   ],
   "source": [
    "np.random.shuffle(mock_obj)"
   ]
  },
  {
   "cell_type": "code",
   "execution_count": 77,
   "id": "2724d183-1ab9-411c-900b-0084a45e4fa2",
   "metadata": {},
   "outputs": [
    {
     "data": {
      "text/plain": [
       "array([[0.26896513, 0.09948377, 0.27342103, 0.86853511, 0.57722136],\n",
       "       [0.26896513, 0.09948377, 0.27342103, 0.86853511, 0.57722136],\n",
       "       [0.26896513, 0.09948377, 0.27342103, 0.86853511, 0.57722136],\n",
       "       [0.26896513, 0.09948377, 0.27342103, 0.86853511, 0.57722136],\n",
       "       [0.26896513, 0.09948377, 0.27342103, 0.86853511, 0.57722136]])"
      ]
     },
     "execution_count": 77,
     "metadata": {},
     "output_type": "execute_result"
    }
   ],
   "source": [
    "mock_obj"
   ]
  },
  {
   "cell_type": "code",
   "execution_count": 78,
   "id": "208295c6-e2de-4c54-a57d-2cc171f7db3d",
   "metadata": {},
   "outputs": [],
   "source": [
    "Z = AO.from_obj(np.array([(\"Hello\", 2.5, 3),\n",
    "              (\"World\", 3.6, 2)]))"
   ]
  },
  {
   "cell_type": "code",
   "execution_count": 79,
   "id": "6f59b169-2e53-4157-93c5-9c04fc168c53",
   "metadata": {},
   "outputs": [
    {
     "ename": "ValueError",
     "evalue": "setting an array element with a sequence. The requested array has an inhomogeneous shape after 1 dimensions. The detected shape was (2,) + inhomogeneous part.",
     "output_type": "error",
     "traceback": [
      "\u001b[0;31m---------------------------------------------------------------------------\u001b[0m",
      "\u001b[0;31mValueError\u001b[0m                                Traceback (most recent call last)",
      "\u001b[0;32m/tmp/ipykernel_51962/3343878148.py\u001b[0m in \u001b[0;36m<module>\u001b[0;34m\u001b[0m\n\u001b[0;32m----> 1\u001b[0;31m np.core.records.fromarrays(Z.T,\n\u001b[0m\u001b[1;32m      2\u001b[0m                                \u001b[0mnames\u001b[0m\u001b[0;34m=\u001b[0m\u001b[0;34m'col1, col2, col3'\u001b[0m\u001b[0;34m,\u001b[0m\u001b[0;34m\u001b[0m\u001b[0;34m\u001b[0m\u001b[0m\n\u001b[1;32m      3\u001b[0m                                formats = 'S8, f8, i8')\n",
      "\u001b[0;32m~/anaconda3/envs/Hagrid/lib/python3.9/site-packages/numpy/core/records.py\u001b[0m in \u001b[0;36mfromarrays\u001b[0;34m(arrayList, dtype, shape, formats, names, titles, aligned, byteorder)\u001b[0m\n\u001b[1;32m    635\u001b[0m     \"\"\"\n\u001b[1;32m    636\u001b[0m \u001b[0;34m\u001b[0m\u001b[0m\n\u001b[0;32m--> 637\u001b[0;31m     \u001b[0marrayList\u001b[0m \u001b[0;34m=\u001b[0m \u001b[0;34m[\u001b[0m\u001b[0msb\u001b[0m\u001b[0;34m.\u001b[0m\u001b[0masarray\u001b[0m\u001b[0;34m(\u001b[0m\u001b[0mx\u001b[0m\u001b[0;34m)\u001b[0m \u001b[0;32mfor\u001b[0m \u001b[0mx\u001b[0m \u001b[0;32min\u001b[0m \u001b[0marrayList\u001b[0m\u001b[0;34m]\u001b[0m\u001b[0;34m\u001b[0m\u001b[0;34m\u001b[0m\u001b[0m\n\u001b[0m\u001b[1;32m    638\u001b[0m \u001b[0;34m\u001b[0m\u001b[0m\n\u001b[1;32m    639\u001b[0m     \u001b[0;31m# NumPy 1.19.0, 2020-01-01\u001b[0m\u001b[0;34m\u001b[0m\u001b[0;34m\u001b[0m\u001b[0m\n",
      "\u001b[0;32m~/anaconda3/envs/Hagrid/lib/python3.9/site-packages/numpy/core/records.py\u001b[0m in \u001b[0;36m<listcomp>\u001b[0;34m(.0)\u001b[0m\n\u001b[1;32m    635\u001b[0m     \"\"\"\n\u001b[1;32m    636\u001b[0m \u001b[0;34m\u001b[0m\u001b[0m\n\u001b[0;32m--> 637\u001b[0;31m     \u001b[0marrayList\u001b[0m \u001b[0;34m=\u001b[0m \u001b[0;34m[\u001b[0m\u001b[0msb\u001b[0m\u001b[0;34m.\u001b[0m\u001b[0masarray\u001b[0m\u001b[0;34m(\u001b[0m\u001b[0mx\u001b[0m\u001b[0;34m)\u001b[0m \u001b[0;32mfor\u001b[0m \u001b[0mx\u001b[0m \u001b[0;32min\u001b[0m \u001b[0marrayList\u001b[0m\u001b[0;34m]\u001b[0m\u001b[0;34m\u001b[0m\u001b[0;34m\u001b[0m\u001b[0m\n\u001b[0m\u001b[1;32m    638\u001b[0m \u001b[0;34m\u001b[0m\u001b[0m\n\u001b[1;32m    639\u001b[0m     \u001b[0;31m# NumPy 1.19.0, 2020-01-01\u001b[0m\u001b[0;34m\u001b[0m\u001b[0;34m\u001b[0m\u001b[0m\n",
      "\u001b[0;31mValueError\u001b[0m: setting an array element with a sequence. The requested array has an inhomogeneous shape after 1 dimensions. The detected shape was (2,) + inhomogeneous part."
     ]
    }
   ],
   "source": [
    "np.core.records.fromarrays(Z.T,\n",
    "                               names='col1, col2, col3',\n",
    "                               formats = 'S8, f8, i8')"
   ]
  },
  {
   "cell_type": "code",
   "execution_count": 80,
   "id": "fc8ec33a-3f58-4cf4-9fce-030829fa7f4a",
   "metadata": {},
   "outputs": [
    {
     "data": {
      "text/plain": [
       "array([[0.26896513, 0.09948377, 0.27342103, 0.86853511, 0.57722136],\n",
       "       [0.26896513, 0.09948377, 0.27342103, 0.86853511, 0.57722136],\n",
       "       [0.26896513, 0.09948377, 0.27342103, 0.86853511, 0.57722136],\n",
       "       [0.26896513, 0.09948377, 0.27342103, 0.86853511, 0.57722136],\n",
       "       [0.26896513, 0.09948377, 0.27342103, 0.86853511, 0.57722136]])"
      ]
     },
     "execution_count": 80,
     "metadata": {},
     "output_type": "execute_result"
    }
   ],
   "source": [
    "mock_obj"
   ]
  },
  {
   "cell_type": "code",
   "execution_count": 82,
   "id": "9b233002-5c19-4563-b4a6-13e1191651ef",
   "metadata": {},
   "outputs": [],
   "source": [
    "x = mock_obj.copy()"
   ]
  },
  {
   "cell_type": "code",
   "execution_count": 85,
   "id": "c6043e9b-a535-47d5-9cab-8c6f05868299",
   "metadata": {},
   "outputs": [
    {
     "name": "stdout",
     "output_type": "stream",
     "text": [
      "ufunc being called\n"
     ]
    },
    {
     "data": {
      "text/plain": [
       "array([[0.01945754, 0.00098459, 0.0204407 , 0.65518227, 0.19232121],\n",
       "       [0.01945754, 0.00098459, 0.0204407 , 0.65518227, 0.19232121],\n",
       "       [0.01945754, 0.00098459, 0.0204407 , 0.65518227, 0.19232121],\n",
       "       [0.01945754, 0.00098459, 0.0204407 , 0.65518227, 0.19232121],\n",
       "       [0.01945754, 0.00098459, 0.0204407 , 0.65518227, 0.19232121]])"
      ]
     },
     "execution_count": 85,
     "metadata": {},
     "output_type": "execute_result"
    }
   ],
   "source": [
    "np.power(x,3)"
   ]
  },
  {
   "cell_type": "code",
   "execution_count": 86,
   "id": "dfbbdc6e-a54d-4fb4-8da5-c57f5c8cf2b4",
   "metadata": {},
   "outputs": [
    {
     "data": {
      "text/plain": [
       "array([[0.01945754, 0.00098459, 0.0204407 , 0.65518227, 0.19232121],\n",
       "       [0.01945754, 0.00098459, 0.0204407 , 0.65518227, 0.19232121],\n",
       "       [0.01945754, 0.00098459, 0.0204407 , 0.65518227, 0.19232121],\n",
       "       [0.01945754, 0.00098459, 0.0204407 , 0.65518227, 0.19232121],\n",
       "       [0.01945754, 0.00098459, 0.0204407 , 0.65518227, 0.19232121]])"
      ]
     },
     "execution_count": 86,
     "metadata": {},
     "output_type": "execute_result"
    }
   ],
   "source": [
    "x*x*x"
   ]
  },
  {
   "cell_type": "code",
   "execution_count": 88,
   "id": "b169ebb0-35f2-4e00-ac86-710511f2856c",
   "metadata": {},
   "outputs": [
    {
     "data": {
      "text/plain": [
       "array([0.01945754, 0.00098459, 0.0204407 , 0.65518227, 0.19232121,\n",
       "       0.01945754, 0.00098459, 0.0204407 , 0.65518227, 0.19232121,\n",
       "       0.01945754, 0.00098459, 0.0204407 , 0.65518227, 0.19232121,\n",
       "       0.01945754, 0.00098459, 0.0204407 , 0.65518227, 0.19232121,\n",
       "       0.01945754, 0.00098459, 0.0204407 , 0.65518227, 0.19232121])"
      ]
     },
     "execution_count": 88,
     "metadata": {},
     "output_type": "execute_result"
    }
   ],
   "source": [
    "np.einsum('i,i,i->i',x.flatten(),x.flatten(),x.flatten())"
   ]
  },
  {
   "cell_type": "code",
   "execution_count": 48,
   "id": "33fe4945-e595-4452-be78-743485170226",
   "metadata": {},
   "outputs": [],
   "source": [
    "class MockNumpyClass(np.lib.mixins.NDArrayOperatorsMixin):\n",
    "    def __init__(self, x):\n",
    "        self.x = x\n",
    "    \n",
    "    def __array__(self):\n",
    "        print(\"Array being called\")\n",
    "        return self.x"
   ]
  },
  {
   "cell_type": "code",
   "execution_count": 49,
   "id": "5d6b0f09-73af-415f-a170-215467c7abeb",
   "metadata": {},
   "outputs": [],
   "source": [
    "m = MockNumpyClass(data)"
   ]
  },
  {
   "cell_type": "code",
   "execution_count": 52,
   "id": "7c5ea259-8e0d-4603-9019-e6d08662e727",
   "metadata": {},
   "outputs": [
    {
     "data": {
      "text/plain": [
       "syft.core.node.new.action_object.AnyActionObject"
      ]
     },
     "execution_count": 52,
     "metadata": {},
     "output_type": "execute_result"
    }
   ],
   "source": [
    "type(AO.from_obj(m))"
   ]
  },
  {
   "cell_type": "code",
   "execution_count": 30,
   "id": "b6547c18-83df-4dd3-b5ee-e29b03f1e487",
   "metadata": {},
   "outputs": [
    {
     "name": "stdout",
     "output_type": "stream",
     "text": [
      "Array being called\n"
     ]
    },
    {
     "data": {
      "text/plain": [
       "array([[5.69442528, 5.30200686, 5.28293927, 5.3320824 , 5.22713974],\n",
       "       [5.2784143 , 5.03175451, 5.2825258 , 5.11839082, 5.66956749],\n",
       "       [5.66115647, 5.83117828, 5.39530811, 5.91725396, 5.15451208],\n",
       "       [5.73551398, 5.54833975, 5.79385137, 5.36635038, 5.75458338],\n",
       "       [5.18044549, 5.86180855, 5.56712625, 5.66535533, 5.57854505]])"
      ]
     },
     "execution_count": 30,
     "metadata": {},
     "output_type": "execute_result"
    }
   ],
   "source": [
    "m + 5"
   ]
  },
  {
   "cell_type": "code",
   "execution_count": 31,
   "id": "3658ec47-a170-4d61-94b7-7ba7d437e6e5",
   "metadata": {},
   "outputs": [
    {
     "name": "stdout",
     "output_type": "stream",
     "text": [
      "Array being called\n"
     ]
    },
    {
     "data": {
      "text/plain": [
       "12.230574906524023"
      ]
     },
     "execution_count": 31,
     "metadata": {},
     "output_type": "execute_result"
    }
   ],
   "source": [
    "np.sum(m)"
   ]
  },
  {
   "cell_type": "code",
   "execution_count": 11,
   "id": "a2d22c23-2d8d-4116-a258-1fadb695c840",
   "metadata": {},
   "outputs": [
    {
     "name": "stdout",
     "output_type": "stream",
     "text": [
      "Array being called\n"
     ]
    },
    {
     "data": {
      "text/plain": [
       "array([[0.03032216, 0.27368274, 0.28822722, 0.61315632, 0.70689774],\n",
       "       [0.04153211, 0.00351166, 0.00610718, 0.52224098, 0.39443467],\n",
       "       [0.16899716, 0.03625073, 0.15810736, 0.16428673, 0.00368617],\n",
       "       [0.02251189, 0.13707514, 0.01744319, 0.86317861, 0.38460241],\n",
       "       [0.07698311, 0.41890853, 0.00395316, 0.00711811, 0.04961038]])"
      ]
     },
     "execution_count": 11,
     "metadata": {},
     "output_type": "execute_result"
    }
   ],
   "source": [
    "np.square(m)"
   ]
  },
  {
   "cell_type": "code",
   "execution_count": 12,
   "id": "f1f77ecd-dddd-4515-ae87-a743dc50f6a9",
   "metadata": {},
   "outputs": [
    {
     "name": "stdout",
     "output_type": "stream",
     "text": [
      "Array being called\n"
     ]
    },
    {
     "data": {
      "text/plain": [
       "0.9290740621274037"
      ]
     },
     "execution_count": 12,
     "metadata": {},
     "output_type": "execute_result"
    }
   ],
   "source": [
    "np.max(m)"
   ]
  },
  {
   "cell_type": "code",
   "execution_count": 13,
   "id": "ecd5f2ba-9778-412e-a763-b0e6ad67c7e7",
   "metadata": {},
   "outputs": [
    {
     "name": "stdout",
     "output_type": "stream",
     "text": [
      "Array being called\n"
     ]
    },
    {
     "data": {
      "text/plain": [
       "array([[0.17592534, 0.58066275, 0.59974484, 1.05318875, 1.22380197],\n",
       "       [0.20668808, 0.0593288 , 0.07830814, 0.91319542, 0.73817347],\n",
       "       [0.43692536, 0.19274828, 0.4208273 , 0.43000202, 0.06078859],\n",
       "       [0.15118096, 0.38869726, 0.13284873, 1.6515796 , 0.72527025],\n",
       "       [0.28492628, 0.77051952, 0.06295718, 0.08456995, 0.22653085]])"
      ]
     },
     "execution_count": 13,
     "metadata": {},
     "output_type": "execute_result"
    }
   ],
   "source": [
    "np.arctanh(m)"
   ]
  },
  {
   "cell_type": "code",
   "execution_count": 14,
   "id": "758a8bfb-9b8d-478c-81d8-9334d1f77f76",
   "metadata": {},
   "outputs": [],
   "source": [
    "from syft.core.node.new.action_object import ActionObject"
   ]
  },
  {
   "cell_type": "code",
   "execution_count": 15,
   "id": "d7e4e453-8511-433d-a08a-75cba34b86aa",
   "metadata": {},
   "outputs": [],
   "source": [
    "n = ActionObject.from_obj(data)"
   ]
  },
  {
   "cell_type": "code",
   "execution_count": 16,
   "id": "699afeda-2957-4f9f-b247-fa9588b8c6b0",
   "metadata": {},
   "outputs": [
    {
     "data": {
      "text/plain": [
       "0.9290740621274037"
      ]
     },
     "execution_count": 16,
     "metadata": {},
     "output_type": "execute_result"
    }
   ],
   "source": [
    "np.max(n)"
   ]
  },
  {
   "cell_type": "code",
   "execution_count": 17,
   "id": "dea6e657-5cb9-4bd3-862f-69ebce228da2",
   "metadata": {},
   "outputs": [
    {
     "name": "stdout",
     "output_type": "stream",
     "text": [
      "ufunc being called\n"
     ]
    },
    {
     "data": {
      "text/plain": [
       "array([[0.03032216, 0.27368274, 0.28822722, 0.61315632, 0.70689774],\n",
       "       [0.04153211, 0.00351166, 0.00610718, 0.52224098, 0.39443467],\n",
       "       [0.16899716, 0.03625073, 0.15810736, 0.16428673, 0.00368617],\n",
       "       [0.02251189, 0.13707514, 0.01744319, 0.86317861, 0.38460241],\n",
       "       [0.07698311, 0.41890853, 0.00395316, 0.00711811, 0.04961038]])"
      ]
     },
     "execution_count": 17,
     "metadata": {},
     "output_type": "execute_result"
    }
   ],
   "source": [
    "np.square(n)"
   ]
  },
  {
   "cell_type": "code",
   "execution_count": 18,
   "id": "776894db-1e42-452f-96c9-c107535ab6dc",
   "metadata": {},
   "outputs": [
    {
     "name": "stdout",
     "output_type": "stream",
     "text": [
      "ufunc being called\n"
     ]
    },
    {
     "data": {
      "text/plain": [
       "syft.core.node.new.numpy.NumpyArrayObject"
      ]
     },
     "execution_count": 18,
     "metadata": {},
     "output_type": "execute_result"
    }
   ],
   "source": [
    "type(np.square(n))"
   ]
  },
  {
   "cell_type": "code",
   "execution_count": 19,
   "id": "07452375-082a-478e-b541-98542e9f29a8",
   "metadata": {},
   "outputs": [
    {
     "name": "stdout",
     "output_type": "stream",
     "text": [
      "ufunc being called\n"
     ]
    },
    {
     "data": {
      "text/plain": [
       "2116750753398858555"
      ]
     },
     "execution_count": 19,
     "metadata": {},
     "output_type": "execute_result"
    }
   ],
   "source": [
    "np.square(n).syft_history_hash"
   ]
  },
  {
   "cell_type": "code",
   "execution_count": 20,
   "id": "678ecdf2-0f97-401e-8a0a-4383ab777d25",
   "metadata": {},
   "outputs": [
    {
     "name": "stdout",
     "output_type": "stream",
     "text": [
      "ufunc being called\n"
     ]
    }
   ],
   "source": [
    "np.square(n).syft_parent_op"
   ]
  },
  {
   "cell_type": "code",
   "execution_count": 21,
   "id": "671eb1ee-bf08-4f89-a4a8-f57bc09c5f8e",
   "metadata": {},
   "outputs": [
    {
     "name": "stdout",
     "output_type": "stream",
     "text": [
      "ufunc being called\n"
     ]
    }
   ],
   "source": [
    "x = np.square(n)"
   ]
  },
  {
   "cell_type": "code",
   "execution_count": 22,
   "id": "7bb16620-b8ec-4b6a-aa8c-1c15e4f1eab3",
   "metadata": {},
   "outputs": [
    {
     "data": {
      "text/plain": [
       "<LineageID: 8cf2e6df6807463db27777ebc359f3af - 1877630401880794559>"
      ]
     },
     "execution_count": 22,
     "metadata": {},
     "output_type": "execute_result"
    }
   ],
   "source": [
    "x.syft_lineage_id"
   ]
  },
  {
   "cell_type": "code",
   "execution_count": 23,
   "id": "cda0015d-e22c-4295-9e18-e52264c67b93",
   "metadata": {},
   "outputs": [
    {
     "data": {
      "text/plain": [
       "241728549453044266"
      ]
     },
     "execution_count": 23,
     "metadata": {},
     "output_type": "execute_result"
    }
   ],
   "source": [
    "n.syft_history_hash"
   ]
  },
  {
   "cell_type": "code",
   "execution_count": 24,
   "id": "f6582494-fef6-4f8e-a5f8-f1f09bcdec59",
   "metadata": {},
   "outputs": [
    {
     "data": {
      "text/plain": [
       "numpy.ndarray"
      ]
     },
     "execution_count": 24,
     "metadata": {},
     "output_type": "execute_result"
    }
   ],
   "source": [
    "type(np.asarray(n))"
   ]
  },
  {
   "cell_type": "code",
   "execution_count": 11,
   "id": "f481f298-351a-4c42-a479-c4fa9f55a9e2",
   "metadata": {},
   "outputs": [],
   "source": [
    "class Client:\n",
    "    def __init__(self):\n",
    "        print(5)\n",
    "    \n",
    "    @property\n",
    "    def numpy(self):\n",
    "        import numpy\n",
    "        print(type(numpy))\n",
    "        return numpy"
   ]
  },
  {
   "cell_type": "code",
   "execution_count": 14,
   "id": "8ba0b9c8-cf06-496f-aef9-54cfcd17586e",
   "metadata": {},
   "outputs": [],
   "source": [
    "import types"
   ]
  },
  {
   "cell_type": "code",
   "execution_count": null,
   "id": "c325acf2-e0b8-49d5-8ec2-268cdd57f219",
   "metadata": {},
   "outputs": [],
   "source": [
    "from typing import "
   ]
  },
  {
   "cell_type": "code",
   "execution_count": 12,
   "id": "1ef52399-c435-41f1-9029-0b9a4f5ab8a6",
   "metadata": {},
   "outputs": [
    {
     "name": "stdout",
     "output_type": "stream",
     "text": [
      "5\n"
     ]
    }
   ],
   "source": [
    "c = Client()"
   ]
  },
  {
   "cell_type": "code",
   "execution_count": 13,
   "id": "1b164319-c12e-4b66-ba75-63f5b713fab5",
   "metadata": {},
   "outputs": [
    {
     "name": "stdout",
     "output_type": "stream",
     "text": [
      "<class 'module'>\n"
     ]
    }
   ],
   "source": [
    "np = c.numpy"
   ]
  },
  {
   "cell_type": "code",
   "execution_count": 4,
   "id": "b43318d3-9ce1-4412-aa55-207cc59f4555",
   "metadata": {},
   "outputs": [
    {
     "data": {
      "text/plain": [
       "<function RandomState.randint>"
      ]
     },
     "execution_count": 4,
     "metadata": {},
     "output_type": "execute_result"
    }
   ],
   "source": [
    "np.random.randint"
   ]
  },
  {
   "cell_type": "code",
   "execution_count": 11,
   "id": "d683ef09-ab03-45e7-8c55-c82b71c93e07",
   "metadata": {},
   "outputs": [
    {
     "data": {
      "text/plain": [
       "'1.24.2'"
      ]
     },
     "execution_count": 11,
     "metadata": {},
     "output_type": "execute_result"
    }
   ],
   "source": [
    "np.__version__"
   ]
  },
  {
   "cell_type": "code",
   "execution_count": 12,
   "id": "385b1039-de5a-47c7-8786-322faea2aa12",
   "metadata": {},
   "outputs": [],
   "source": [
    "import numpy"
   ]
  },
  {
   "cell_type": "code",
   "execution_count": 13,
   "id": "c0db31f6-7496-4cde-ade5-9e04ed6692ad",
   "metadata": {},
   "outputs": [
    {
     "data": {
      "text/plain": [
       "<module 'numpy.version' from '/home/e/anaconda3/envs/Hagrid/lib/python3.9/site-packages/numpy/version.py'>"
      ]
     },
     "execution_count": 13,
     "metadata": {},
     "output_type": "execute_result"
    }
   ],
   "source": [
    "numpy.version"
   ]
  },
  {
   "cell_type": "code",
   "execution_count": 14,
   "id": "23ddf8cc-6247-4099-aafb-d44f187e1462",
   "metadata": {},
   "outputs": [
    {
     "data": {
      "text/plain": [
       "'1.24.2'"
      ]
     },
     "execution_count": 14,
     "metadata": {},
     "output_type": "execute_result"
    }
   ],
   "source": [
    "numpy.__version__"
   ]
  },
  {
   "cell_type": "code",
   "execution_count": null,
   "id": "38418983-2875-4902-87c8-05d7744a4fd9",
   "metadata": {},
   "outputs": [],
   "source": []
  }
 ],
 "metadata": {
  "kernelspec": {
   "display_name": "Python 3 (ipykernel)",
   "language": "python",
   "name": "python3"
  },
  "language_info": {
   "codemirror_mode": {
    "name": "ipython",
    "version": 3
   },
   "file_extension": ".py",
   "mimetype": "text/x-python",
   "name": "python",
   "nbconvert_exporter": "python",
   "pygments_lexer": "ipython3",
   "version": "3.9.7"
  }
 },
 "nbformat": 4,
 "nbformat_minor": 5
}
