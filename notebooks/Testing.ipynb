{
 "cells": [
  {
   "cell_type": "code",
   "execution_count": 1,
   "id": "31114ebb-e4e2-427e-9643-b4746e6ec647",
   "metadata": {},
   "outputs": [],
   "source": [
    "import syft as sy"
   ]
  },
  {
   "cell_type": "code",
   "execution_count": 2,
   "id": "f9da0f4a-7064-4c9c-a19a-6a495ceba93e",
   "metadata": {},
   "outputs": [
    {
     "name": "stdout",
     "output_type": "stream",
     "text": [
      "> Starting Worker: Serene Fridman - 44d01a701ee844f1934ba155cf7a3556 - NodeType.DOMAIN - [<class 'syft.core.node.new.user_service.UserService'>, <class 'syft.core.node.new.metadata_service.MetadataService'>, <class 'syft.core.node.new.action_service.ActionService'>, <class 'syft.core.node.new.test_service.TestService'>, <class 'syft.core.node.new.dataset_service.DatasetService'>, <class 'syft.core.node.new.user_code_service.UserCodeService'>, <class 'syft.core.node.new.request_service.RequestService'>, <class 'syft.core.node.new.data_subject_service.DataSubjectService'>, <class 'syft.core.node.new.network_service.NetworkService'>, <class 'syft.core.node.new.policy_service.PolicyService'>, <class 'syft.core.node.new.message_service.MessageService'>, <class 'syft.core.node.new.project_service.ProjectService'>, <class 'syft.core.node.new.data_subject_member_service.DataSubjectMemberService'>]\n"
     ]
    }
   ],
   "source": [
    "w = sy.Worker()"
   ]
  },
  {
   "cell_type": "code",
   "execution_count": 3,
   "id": "baf85940-2ffb-43f3-b574-b9121d531d88",
   "metadata": {},
   "outputs": [],
   "source": [
    "from syft.core.node.new.client import SyftClient"
   ]
  },
  {
   "cell_type": "code",
   "execution_count": 4,
   "id": "5dbd78cc-57ef-48d9-929d-d2ed650de1cf",
   "metadata": {},
   "outputs": [],
   "source": [
    "client = SyftClient.from_node(w).login(email=\"info@openmined.org\", password=\"changethis\")"
   ]
  },
  {
   "cell_type": "code",
   "execution_count": 5,
   "id": "74761d8a-c01f-40db-88d6-8cd9aa78c09b",
   "metadata": {},
   "outputs": [
    {
     "data": {
      "text/html": [
       "[]"
      ],
      "text/plain": [
       "<syft.core.node.new.api.APIModule at 0x17d9ccd90>"
      ]
     },
     "execution_count": 5,
     "metadata": {},
     "output_type": "execute_result"
    }
   ],
   "source": [
    "client.datasets"
   ]
  },
  {
   "cell_type": "code",
   "execution_count": 26,
   "id": "33fe4945-e595-4452-be78-743485170226",
   "metadata": {},
   "outputs": [],
   "source": [
    "class MockNumpyClass(np.lib.mixins.NDArrayOperatorsMixin):\n",
    "    def __init__(self, x):\n",
    "        self.x = x\n",
    "    \n",
    "    def __array__(self):\n",
    "        print(\"Array being called\")\n",
    "        return self.x"
   ]
  },
  {
   "cell_type": "code",
   "execution_count": 1,
   "id": "31ad314d-e4a5-4173-b02f-3043bf82b51d",
   "metadata": {},
   "outputs": [],
   "source": [
    "import numpy as np"
   ]
  },
  {
   "cell_type": "code",
   "execution_count": 28,
   "id": "aa4a0fdc-6f22-49b1-8423-35bfb540cc54",
   "metadata": {},
   "outputs": [],
   "source": [
    "data = np.random.rand(5,5)"
   ]
  },
  {
   "cell_type": "code",
   "execution_count": 29,
   "id": "5d6b0f09-73af-415f-a170-215467c7abeb",
   "metadata": {},
   "outputs": [],
   "source": [
    "m = MockNumpyClass(data)"
   ]
  },
  {
   "cell_type": "code",
   "execution_count": 30,
   "id": "b6547c18-83df-4dd3-b5ee-e29b03f1e487",
   "metadata": {},
   "outputs": [
    {
     "name": "stdout",
     "output_type": "stream",
     "text": [
      "Array being called\n"
     ]
    },
    {
     "data": {
      "text/plain": [
       "array([[5.69442528, 5.30200686, 5.28293927, 5.3320824 , 5.22713974],\n",
       "       [5.2784143 , 5.03175451, 5.2825258 , 5.11839082, 5.66956749],\n",
       "       [5.66115647, 5.83117828, 5.39530811, 5.91725396, 5.15451208],\n",
       "       [5.73551398, 5.54833975, 5.79385137, 5.36635038, 5.75458338],\n",
       "       [5.18044549, 5.86180855, 5.56712625, 5.66535533, 5.57854505]])"
      ]
     },
     "execution_count": 30,
     "metadata": {},
     "output_type": "execute_result"
    }
   ],
   "source": [
    "m + 5"
   ]
  },
  {
   "cell_type": "code",
   "execution_count": 31,
   "id": "3658ec47-a170-4d61-94b7-7ba7d437e6e5",
   "metadata": {},
   "outputs": [
    {
     "name": "stdout",
     "output_type": "stream",
     "text": [
      "Array being called\n"
     ]
    },
    {
     "data": {
      "text/plain": [
       "12.230574906524023"
      ]
     },
     "execution_count": 31,
     "metadata": {},
     "output_type": "execute_result"
    }
   ],
   "source": [
    "np.sum(m)"
   ]
  },
  {
   "cell_type": "code",
   "execution_count": 11,
   "id": "a2d22c23-2d8d-4116-a258-1fadb695c840",
   "metadata": {},
   "outputs": [
    {
     "name": "stdout",
     "output_type": "stream",
     "text": [
      "Array being called\n"
     ]
    },
    {
     "data": {
      "text/plain": [
       "array([[0.03032216, 0.27368274, 0.28822722, 0.61315632, 0.70689774],\n",
       "       [0.04153211, 0.00351166, 0.00610718, 0.52224098, 0.39443467],\n",
       "       [0.16899716, 0.03625073, 0.15810736, 0.16428673, 0.00368617],\n",
       "       [0.02251189, 0.13707514, 0.01744319, 0.86317861, 0.38460241],\n",
       "       [0.07698311, 0.41890853, 0.00395316, 0.00711811, 0.04961038]])"
      ]
     },
     "execution_count": 11,
     "metadata": {},
     "output_type": "execute_result"
    }
   ],
   "source": [
    "np.square(m)"
   ]
  },
  {
   "cell_type": "code",
   "execution_count": 12,
   "id": "f1f77ecd-dddd-4515-ae87-a743dc50f6a9",
   "metadata": {},
   "outputs": [
    {
     "name": "stdout",
     "output_type": "stream",
     "text": [
      "Array being called\n"
     ]
    },
    {
     "data": {
      "text/plain": [
       "0.9290740621274037"
      ]
     },
     "execution_count": 12,
     "metadata": {},
     "output_type": "execute_result"
    }
   ],
   "source": [
    "np.max(m)"
   ]
  },
  {
   "cell_type": "code",
   "execution_count": 13,
   "id": "ecd5f2ba-9778-412e-a763-b0e6ad67c7e7",
   "metadata": {},
   "outputs": [
    {
     "name": "stdout",
     "output_type": "stream",
     "text": [
      "Array being called\n"
     ]
    },
    {
     "data": {
      "text/plain": [
       "array([[0.17592534, 0.58066275, 0.59974484, 1.05318875, 1.22380197],\n",
       "       [0.20668808, 0.0593288 , 0.07830814, 0.91319542, 0.73817347],\n",
       "       [0.43692536, 0.19274828, 0.4208273 , 0.43000202, 0.06078859],\n",
       "       [0.15118096, 0.38869726, 0.13284873, 1.6515796 , 0.72527025],\n",
       "       [0.28492628, 0.77051952, 0.06295718, 0.08456995, 0.22653085]])"
      ]
     },
     "execution_count": 13,
     "metadata": {},
     "output_type": "execute_result"
    }
   ],
   "source": [
    "np.arctanh(m)"
   ]
  },
  {
   "cell_type": "code",
   "execution_count": 14,
   "id": "758a8bfb-9b8d-478c-81d8-9334d1f77f76",
   "metadata": {},
   "outputs": [],
   "source": [
    "from syft.core.node.new.action_object import ActionObject"
   ]
  },
  {
   "cell_type": "code",
   "execution_count": 15,
   "id": "d7e4e453-8511-433d-a08a-75cba34b86aa",
   "metadata": {},
   "outputs": [],
   "source": [
    "n = ActionObject.from_obj(data)"
   ]
  },
  {
   "cell_type": "code",
   "execution_count": 16,
   "id": "699afeda-2957-4f9f-b247-fa9588b8c6b0",
   "metadata": {},
   "outputs": [
    {
     "data": {
      "text/plain": [
       "0.9290740621274037"
      ]
     },
     "execution_count": 16,
     "metadata": {},
     "output_type": "execute_result"
    }
   ],
   "source": [
    "np.max(n)"
   ]
  },
  {
   "cell_type": "code",
   "execution_count": 17,
   "id": "dea6e657-5cb9-4bd3-862f-69ebce228da2",
   "metadata": {},
   "outputs": [
    {
     "name": "stdout",
     "output_type": "stream",
     "text": [
      "ufunc being called\n"
     ]
    },
    {
     "data": {
      "text/plain": [
       "array([[0.03032216, 0.27368274, 0.28822722, 0.61315632, 0.70689774],\n",
       "       [0.04153211, 0.00351166, 0.00610718, 0.52224098, 0.39443467],\n",
       "       [0.16899716, 0.03625073, 0.15810736, 0.16428673, 0.00368617],\n",
       "       [0.02251189, 0.13707514, 0.01744319, 0.86317861, 0.38460241],\n",
       "       [0.07698311, 0.41890853, 0.00395316, 0.00711811, 0.04961038]])"
      ]
     },
     "execution_count": 17,
     "metadata": {},
     "output_type": "execute_result"
    }
   ],
   "source": [
    "np.square(n)"
   ]
  },
  {
   "cell_type": "code",
   "execution_count": 18,
   "id": "776894db-1e42-452f-96c9-c107535ab6dc",
   "metadata": {},
   "outputs": [
    {
     "name": "stdout",
     "output_type": "stream",
     "text": [
      "ufunc being called\n"
     ]
    },
    {
     "data": {
      "text/plain": [
       "syft.core.node.new.numpy.NumpyArrayObject"
      ]
     },
     "execution_count": 18,
     "metadata": {},
     "output_type": "execute_result"
    }
   ],
   "source": [
    "type(np.square(n))"
   ]
  },
  {
   "cell_type": "code",
   "execution_count": 19,
   "id": "07452375-082a-478e-b541-98542e9f29a8",
   "metadata": {},
   "outputs": [
    {
     "name": "stdout",
     "output_type": "stream",
     "text": [
      "ufunc being called\n"
     ]
    },
    {
     "data": {
      "text/plain": [
       "2116750753398858555"
      ]
     },
     "execution_count": 19,
     "metadata": {},
     "output_type": "execute_result"
    }
   ],
   "source": [
    "np.square(n).syft_history_hash"
   ]
  },
  {
   "cell_type": "code",
   "execution_count": 20,
   "id": "678ecdf2-0f97-401e-8a0a-4383ab777d25",
   "metadata": {},
   "outputs": [
    {
     "name": "stdout",
     "output_type": "stream",
     "text": [
      "ufunc being called\n"
     ]
    }
   ],
   "source": [
    "np.square(n).syft_parent_op"
   ]
  },
  {
   "cell_type": "code",
   "execution_count": 21,
   "id": "671eb1ee-bf08-4f89-a4a8-f57bc09c5f8e",
   "metadata": {},
   "outputs": [
    {
     "name": "stdout",
     "output_type": "stream",
     "text": [
      "ufunc being called\n"
     ]
    }
   ],
   "source": [
    "x = np.square(n)"
   ]
  },
  {
   "cell_type": "code",
   "execution_count": 22,
   "id": "7bb16620-b8ec-4b6a-aa8c-1c15e4f1eab3",
   "metadata": {},
   "outputs": [
    {
     "data": {
      "text/plain": [
       "<LineageID: 8cf2e6df6807463db27777ebc359f3af - 1877630401880794559>"
      ]
     },
     "execution_count": 22,
     "metadata": {},
     "output_type": "execute_result"
    }
   ],
   "source": [
    "x.syft_lineage_id"
   ]
  },
  {
   "cell_type": "code",
   "execution_count": 23,
   "id": "cda0015d-e22c-4295-9e18-e52264c67b93",
   "metadata": {},
   "outputs": [
    {
     "data": {
      "text/plain": [
       "241728549453044266"
      ]
     },
     "execution_count": 23,
     "metadata": {},
     "output_type": "execute_result"
    }
   ],
   "source": [
    "n.syft_history_hash"
   ]
  },
  {
   "cell_type": "code",
   "execution_count": 24,
   "id": "f6582494-fef6-4f8e-a5f8-f1f09bcdec59",
   "metadata": {},
   "outputs": [
    {
     "data": {
      "text/plain": [
       "numpy.ndarray"
      ]
     },
     "execution_count": 24,
     "metadata": {},
     "output_type": "execute_result"
    }
   ],
   "source": [
    "type(np.asarray(n))"
   ]
  },
  {
   "cell_type": "code",
   "execution_count": 11,
   "id": "f481f298-351a-4c42-a479-c4fa9f55a9e2",
   "metadata": {},
   "outputs": [],
   "source": [
    "class Client:\n",
    "    def __init__(self):\n",
    "        print(5)\n",
    "    \n",
    "    @property\n",
    "    def numpy(self):\n",
    "        import numpy\n",
    "        print(type(numpy))\n",
    "        return numpy"
   ]
  },
  {
   "cell_type": "code",
   "execution_count": 14,
   "id": "8ba0b9c8-cf06-496f-aef9-54cfcd17586e",
   "metadata": {},
   "outputs": [],
   "source": [
    "import types"
   ]
  },
  {
   "cell_type": "code",
   "execution_count": null,
   "id": "c325acf2-e0b8-49d5-8ec2-268cdd57f219",
   "metadata": {},
   "outputs": [],
   "source": [
    "from typing import "
   ]
  },
  {
   "cell_type": "code",
   "execution_count": 12,
   "id": "1ef52399-c435-41f1-9029-0b9a4f5ab8a6",
   "metadata": {},
   "outputs": [
    {
     "name": "stdout",
     "output_type": "stream",
     "text": [
      "5\n"
     ]
    }
   ],
   "source": [
    "c = Client()"
   ]
  },
  {
   "cell_type": "code",
   "execution_count": 13,
   "id": "1b164319-c12e-4b66-ba75-63f5b713fab5",
   "metadata": {},
   "outputs": [
    {
     "name": "stdout",
     "output_type": "stream",
     "text": [
      "<class 'module'>\n"
     ]
    }
   ],
   "source": [
    "np = c.numpy"
   ]
  },
  {
   "cell_type": "code",
   "execution_count": 4,
   "id": "b43318d3-9ce1-4412-aa55-207cc59f4555",
   "metadata": {},
   "outputs": [
    {
     "data": {
      "text/plain": [
       "<function RandomState.randint>"
      ]
     },
     "execution_count": 4,
     "metadata": {},
     "output_type": "execute_result"
    }
   ],
   "source": [
    "np.random.randint"
   ]
  },
  {
   "cell_type": "code",
   "execution_count": 11,
   "id": "d683ef09-ab03-45e7-8c55-c82b71c93e07",
   "metadata": {},
   "outputs": [
    {
     "data": {
      "text/plain": [
       "'1.24.2'"
      ]
     },
     "execution_count": 11,
     "metadata": {},
     "output_type": "execute_result"
    }
   ],
   "source": [
    "np.__version__"
   ]
  },
  {
   "cell_type": "code",
   "execution_count": 12,
   "id": "385b1039-de5a-47c7-8786-322faea2aa12",
   "metadata": {},
   "outputs": [],
   "source": [
    "import numpy"
   ]
  },
  {
   "cell_type": "code",
   "execution_count": 13,
   "id": "c0db31f6-7496-4cde-ade5-9e04ed6692ad",
   "metadata": {},
   "outputs": [
    {
     "data": {
      "text/plain": [
       "<module 'numpy.version' from '/home/e/anaconda3/envs/Hagrid/lib/python3.9/site-packages/numpy/version.py'>"
      ]
     },
     "execution_count": 13,
     "metadata": {},
     "output_type": "execute_result"
    }
   ],
   "source": [
    "numpy.version"
   ]
  },
  {
   "cell_type": "code",
   "execution_count": 14,
   "id": "23ddf8cc-6247-4099-aafb-d44f187e1462",
   "metadata": {},
   "outputs": [
    {
     "data": {
      "text/plain": [
       "'1.24.2'"
      ]
     },
     "execution_count": 14,
     "metadata": {},
     "output_type": "execute_result"
    }
   ],
   "source": [
    "numpy.__version__"
   ]
  },
  {
   "cell_type": "code",
   "execution_count": null,
   "id": "38418983-2875-4902-87c8-05d7744a4fd9",
   "metadata": {},
   "outputs": [],
   "source": []
  }
 ],
 "metadata": {
  "kernelspec": {
   "display_name": "Python 3 (ipykernel)",
   "language": "python",
   "name": "python3"
  },
  "language_info": {
   "codemirror_mode": {
    "name": "ipython",
    "version": 3
   },
   "file_extension": ".py",
   "mimetype": "text/x-python",
   "name": "python",
   "nbconvert_exporter": "python",
   "pygments_lexer": "ipython3",
   "version": "3.9.7"
  }
 },
 "nbformat": 4,
 "nbformat_minor": 5
}
