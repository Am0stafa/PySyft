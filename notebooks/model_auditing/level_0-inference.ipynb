{
 "cells": [
  {
   "cell_type": "code",
   "execution_count": 1,
   "metadata": {},
   "outputs": [
    {
     "name": "stderr",
     "output_type": "stream",
     "text": [
      "kj/filesystem-disk-unix.c++:1703: warning: PWD environment variable doesn't match current directory; pwd = /home/teo/OpenMined/PySyft\n",
      "/home/teo/anaconda3/envs/PySyft/lib/python3.10/site-packages/scipy/__init__.py:146: UserWarning: A NumPy version >=1.16.5 and <1.23.0 is required for this version of SciPy (detected version 1.24.2\n",
      "  warnings.warn(f\"A NumPy version >={np_minversion} and <{np_maxversion}\"\n",
      "2023-05-21 20:53:15.374836: E tensorflow/stream_executor/cuda/cuda_blas.cc:2981] Unable to register cuBLAS factory: Attempting to register factory for plugin cuBLAS when one has already been registered\n",
      "2023-05-21 20:53:16.146438: W tensorflow/stream_executor/platform/default/dso_loader.cc:64] Could not load dynamic library 'libnvinfer.so.7'; dlerror: libnvrtc.so.11.1: cannot open shared object file: No such file or directory; LD_LIBRARY_PATH: /usr/local/cuda-11.5/lib64:/usr/local/cuda-11.5/lib64:\n",
      "2023-05-21 20:53:16.147710: W tensorflow/stream_executor/platform/default/dso_loader.cc:64] Could not load dynamic library 'libnvinfer_plugin.so.7'; dlerror: libnvrtc.so.11.1: cannot open shared object file: No such file or directory; LD_LIBRARY_PATH: /usr/local/cuda-11.5/lib64:/usr/local/cuda-11.5/lib64:\n",
      "2023-05-21 20:53:16.147724: W tensorflow/compiler/tf2tensorrt/utils/py_utils.cc:38] TF-TRT Warning: Cannot dlopen some TensorRT libraries. If you would like to use Nvidia GPU with TensorRT, please make sure the missing libraries mentioned above are installed properly.\n"
     ]
    },
    {
     "ename": "ImportError",
     "evalue": "cannot import name 'ModelInterface' from 'syft.service.model.model' (/home/teo/OpenMined/PySyft/packages/syft/src/syft/service/model/model.py)",
     "output_type": "error",
     "traceback": [
      "\u001b[0;31m---------------------------------------------------------------------------\u001b[0m",
      "\u001b[0;31mImportError\u001b[0m                               Traceback (most recent call last)",
      "\u001b[1;32m/home/teo/OpenMined/PySyft/notebooks/model_auditing/level_0-inference.ipynb Cell 1\u001b[0m in \u001b[0;36m1\n\u001b[0;32m----> <a href='vscode-notebook-cell:/home/teo/OpenMined/PySyft/notebooks/model_auditing/level_0-inference.ipynb#W0sZmlsZQ%3D%3D?line=0'>1</a>\u001b[0m \u001b[39mimport\u001b[39;00m \u001b[39msyft\u001b[39;00m \u001b[39mas\u001b[39;00m \u001b[39msy\u001b[39;00m\n\u001b[1;32m      <a href='vscode-notebook-cell:/home/teo/OpenMined/PySyft/notebooks/model_auditing/level_0-inference.ipynb#W0sZmlsZQ%3D%3D?line=1'>2</a>\u001b[0m sy\u001b[39m.\u001b[39mrequires(\u001b[39m\"\u001b[39m\u001b[39m>=0.8,<0.8.1\u001b[39m\u001b[39m\"\u001b[39m)\n\u001b[1;32m      <a href='vscode-notebook-cell:/home/teo/OpenMined/PySyft/notebooks/model_auditing/level_0-inference.ipynb#W0sZmlsZQ%3D%3D?line=2'>3</a>\u001b[0m \u001b[39mfrom\u001b[39;00m \u001b[39msyft\u001b[39;00m \u001b[39mimport\u001b[39;00m autocache\n",
      "File \u001b[0;32m~/OpenMined/PySyft/packages/syft/src/syft/__init__.py:23\u001b[0m\n\u001b[1;32m     21\u001b[0m \u001b[39mfrom\u001b[39;00m \u001b[39m.\u001b[39;00m\u001b[39mexternal\u001b[39;00m \u001b[39mimport\u001b[39;00m enable_external_lib  \u001b[39m# noqa: F401\u001b[39;00m\n\u001b[1;32m     22\u001b[0m \u001b[39mfrom\u001b[39;00m \u001b[39m.\u001b[39;00m\u001b[39mnode\u001b[39;00m\u001b[39m.\u001b[39;00m\u001b[39mcredentials\u001b[39;00m \u001b[39mimport\u001b[39;00m SyftSigningKey  \u001b[39m# noqa: F401\u001b[39;00m\n\u001b[0;32m---> 23\u001b[0m \u001b[39mfrom\u001b[39;00m \u001b[39m.\u001b[39;00m\u001b[39mnode\u001b[39;00m\u001b[39m.\u001b[39;00m\u001b[39mdomain\u001b[39;00m \u001b[39mimport\u001b[39;00m Domain  \u001b[39m# noqa: F401\u001b[39;00m\n\u001b[1;32m     24\u001b[0m \u001b[39mfrom\u001b[39;00m \u001b[39m.\u001b[39;00m\u001b[39mnode\u001b[39;00m\u001b[39m.\u001b[39;00m\u001b[39mgateway\u001b[39;00m \u001b[39mimport\u001b[39;00m Gateway  \u001b[39m# noqa: F401\u001b[39;00m\n\u001b[1;32m     25\u001b[0m \u001b[39mfrom\u001b[39;00m \u001b[39m.\u001b[39;00m\u001b[39mnode\u001b[39;00m\u001b[39m.\u001b[39;00m\u001b[39mserver\u001b[39;00m \u001b[39mimport\u001b[39;00m serve_node  \u001b[39m# noqa: F401\u001b[39;00m\n",
      "File \u001b[0;32m~/OpenMined/PySyft/packages/syft/src/syft/node/domain.py:3\u001b[0m\n\u001b[1;32m      1\u001b[0m \u001b[39m# relative\u001b[39;00m\n\u001b[1;32m      2\u001b[0m \u001b[39mfrom\u001b[39;00m \u001b[39m.\u001b[39;00m\u001b[39m.\u001b[39;00m\u001b[39mserde\u001b[39;00m\u001b[39m.\u001b[39;00m\u001b[39mserializable\u001b[39;00m \u001b[39mimport\u001b[39;00m serializable\n\u001b[0;32m----> 3\u001b[0m \u001b[39mfrom\u001b[39;00m \u001b[39m.\u001b[39;00m\u001b[39mnode\u001b[39;00m \u001b[39mimport\u001b[39;00m Node\n\u001b[1;32m      6\u001b[0m \u001b[39m@serializable\u001b[39m(without\u001b[39m=\u001b[39m[\u001b[39m\"\u001b[39m\u001b[39mqueue_manager\u001b[39m\u001b[39m\"\u001b[39m])\n\u001b[1;32m      7\u001b[0m \u001b[39mclass\u001b[39;00m \u001b[39mDomain\u001b[39;00m(Node):\n\u001b[1;32m      8\u001b[0m     \u001b[39mpass\u001b[39;00m\n",
      "File \u001b[0;32m~/OpenMined/PySyft/packages/syft/src/syft/node/node.py:54\u001b[0m\n\u001b[1;32m     52\u001b[0m \u001b[39mfrom\u001b[39;00m \u001b[39m.\u001b[39;00m\u001b[39m.\u001b[39;00m\u001b[39mservice\u001b[39;00m\u001b[39m.\u001b[39;00m\u001b[39mdataset\u001b[39;00m\u001b[39m.\u001b[39;00m\u001b[39mdataset_service\u001b[39;00m \u001b[39mimport\u001b[39;00m DatasetService\n\u001b[1;32m     53\u001b[0m \u001b[39mfrom\u001b[39;00m \u001b[39m.\u001b[39;00m\u001b[39m.\u001b[39;00m\u001b[39mservice\u001b[39;00m\u001b[39m.\u001b[39;00m\u001b[39msyft_file\u001b[39;00m\u001b[39m.\u001b[39;00m\u001b[39msyft_file_service\u001b[39;00m \u001b[39mimport\u001b[39;00m SyftFileService\n\u001b[0;32m---> 54\u001b[0m \u001b[39mfrom\u001b[39;00m \u001b[39m.\u001b[39;00m\u001b[39m.\u001b[39;00m\u001b[39mservice\u001b[39;00m\u001b[39m.\u001b[39;00m\u001b[39mmodel\u001b[39;00m\u001b[39m.\u001b[39;00m\u001b[39mmodel_service\u001b[39;00m \u001b[39mimport\u001b[39;00m ModelInterfaceService\n\u001b[1;32m     55\u001b[0m \u001b[39mfrom\u001b[39;00m \u001b[39m.\u001b[39;00m\u001b[39m.\u001b[39;00m\u001b[39mservice\u001b[39;00m\u001b[39m.\u001b[39;00m\u001b[39mmessage\u001b[39;00m\u001b[39m.\u001b[39;00m\u001b[39mmessage_service\u001b[39;00m \u001b[39mimport\u001b[39;00m MessageService\n\u001b[1;32m     56\u001b[0m \u001b[39mfrom\u001b[39;00m \u001b[39m.\u001b[39;00m\u001b[39m.\u001b[39;00m\u001b[39mservice\u001b[39;00m\u001b[39m.\u001b[39;00m\u001b[39mmetadata\u001b[39;00m\u001b[39m.\u001b[39;00m\u001b[39mmetadata_service\u001b[39;00m \u001b[39mimport\u001b[39;00m MetadataService\n",
      "File \u001b[0;32m~/OpenMined/PySyft/packages/syft/src/syft/service/model/model_service.py:13\u001b[0m\n\u001b[1;32m     11\u001b[0m \u001b[39mfrom\u001b[39;00m \u001b[39m.\u001b[39;00m\u001b[39m.\u001b[39;00m\u001b[39mservice\u001b[39;00m \u001b[39mimport\u001b[39;00m TYPE_TO_SERVICE\n\u001b[1;32m     12\u001b[0m \u001b[39mfrom\u001b[39;00m \u001b[39m.\u001b[39;00m\u001b[39m.\u001b[39;00m\u001b[39mservice\u001b[39;00m \u001b[39mimport\u001b[39;00m service_method\n\u001b[0;32m---> 13\u001b[0m \u001b[39mfrom\u001b[39;00m \u001b[39m.\u001b[39;00m\u001b[39mmodel_stash\u001b[39;00m \u001b[39mimport\u001b[39;00m ModelCardStash\n\u001b[1;32m     14\u001b[0m \u001b[39mfrom\u001b[39;00m \u001b[39m.\u001b[39;00m\u001b[39m.\u001b[39;00m\u001b[39mcontext\u001b[39;00m \u001b[39mimport\u001b[39;00m AuthedServiceContext\n\u001b[1;32m     15\u001b[0m \u001b[39mfrom\u001b[39;00m \u001b[39m.\u001b[39;00m\u001b[39mmodel\u001b[39;00m \u001b[39mimport\u001b[39;00m CreateModelCard\n",
      "File \u001b[0;32m~/OpenMined/PySyft/packages/syft/src/syft/service/model/model_stash.py:18\u001b[0m\n\u001b[1;32m     16\u001b[0m \u001b[39mfrom\u001b[39;00m \u001b[39m.\u001b[39;00m\u001b[39m.\u001b[39;00m\u001b[39m.\u001b[39;00m\u001b[39mtypes\u001b[39;00m\u001b[39m.\u001b[39;00m\u001b[39muid\u001b[39;00m \u001b[39mimport\u001b[39;00m UID\n\u001b[1;32m     17\u001b[0m \u001b[39mfrom\u001b[39;00m \u001b[39m.\u001b[39;00m\u001b[39m.\u001b[39;00m\u001b[39m.\u001b[39;00m\u001b[39mutil\u001b[39;00m\u001b[39m.\u001b[39;00m\u001b[39mtelemetry\u001b[39;00m \u001b[39mimport\u001b[39;00m instrument\n\u001b[0;32m---> 18\u001b[0m \u001b[39mfrom\u001b[39;00m \u001b[39m.\u001b[39;00m\u001b[39mmodel\u001b[39;00m \u001b[39mimport\u001b[39;00m ModelInterface\n\u001b[1;32m     19\u001b[0m \u001b[39mfrom\u001b[39;00m \u001b[39m.\u001b[39;00m\u001b[39mmodel\u001b[39;00m \u001b[39mimport\u001b[39;00m ModelUpdate\n\u001b[1;32m     21\u001b[0m NamePartitionKey \u001b[39m=\u001b[39m PartitionKey(key\u001b[39m=\u001b[39m\u001b[39m\"\u001b[39m\u001b[39mname\u001b[39m\u001b[39m\"\u001b[39m, type_\u001b[39m=\u001b[39m\u001b[39mstr\u001b[39m)\n",
      "\u001b[0;31mImportError\u001b[0m: cannot import name 'ModelInterface' from 'syft.service.model.model' (/home/teo/OpenMined/PySyft/packages/syft/src/syft/service/model/model.py)"
     ]
    }
   ],
   "source": [
    "import syft as sy\n",
    "sy.requires(\">=0.8,<0.8.1\")\n",
    "from syft import autocache"
   ]
  },
  {
   "cell_type": "code",
   "execution_count": 3,
   "metadata": {},
   "outputs": [],
   "source": [
    "from syft.types.syft_file import CreateSyftFile\n",
    "create_file_obj = CreateSyftFile.from_path('/home/teo/OpenMined/PySyft/test_class.py')"
   ]
  },
  {
   "cell_type": "code",
   "execution_count": 4,
   "metadata": {},
   "outputs": [
    {
     "data": {
      "text/markdown": [
       "```python\n",
       "class CreateSyftFile:\n",
       "  id: str = None\n",
       "  filename: str = \"test_class.py\"\n",
       "  data: str = b'class A:\\n    \\n    @staticmethod\\n    def foo():\\n        raise NotImplementedError\\n    \\n    @staticmethod\\n    def bar():\\n        return \"bar\"\\n    \\nclass B(A):\\n    @staticmethod\\n    def foo():\\n        print(__class__.bar())\\n        return \"B\"\\n    \\nclass C(A):\\n    @staticmethod\\n    def foo():\\n        return \"C\"\\n    \\nprint(C.bar())\\n'\n",
       "  size_bytes: str = 329\n",
       "  mimetype: str = \"text/x-python\"\n",
       "\n",
       "```"
      ],
      "text/plain": [
       "syft.types.syft_file.CreateSyftFile"
      ]
     },
     "execution_count": 4,
     "metadata": {},
     "output_type": "execute_result"
    }
   ],
   "source": [
    "create_file_obj"
   ]
  },
  {
   "cell_type": "code",
   "execution_count": 5,
   "metadata": {},
   "outputs": [
    {
     "data": {
      "text/html": [
       "[]"
      ],
      "text/plain": [
       "[]"
      ]
     },
     "execution_count": 5,
     "metadata": {},
     "output_type": "execute_result"
    }
   ],
   "source": [
    "domain_client.api.services.syft_file.get_all()"
   ]
  },
  {
   "cell_type": "code",
   "execution_count": 6,
   "metadata": {},
   "outputs": [
    {
     "data": {
      "text/html": [
       "<div class=\"alert-success\" style=\"padding:5px;\"><strong>SyftSuccess</strong>: SyftFile Added</div><br />"
      ],
      "text/plain": [
       "<class 'syft.service.response.SyftSuccess'>: SyftFile Added"
      ]
     },
     "execution_count": 6,
     "metadata": {},
     "output_type": "execute_result"
    }
   ],
   "source": [
    "domain_client.api.services.syft_file.add(create_file_obj)"
   ]
  },
  {
   "cell_type": "code",
   "execution_count": 7,
   "metadata": {},
   "outputs": [
    {
     "data": {
      "text/html": [
       "List - Size: 1\n",
       "<div>\n",
       "<style scoped>\n",
       "    .dataframe tbody tr th:only-of-type {\n",
       "        vertical-align: middle;\n",
       "    }\n",
       "\n",
       "    .dataframe tbody tr th {\n",
       "        vertical-align: top;\n",
       "    }\n",
       "\n",
       "    .dataframe thead th {\n",
       "        text-align: right;\n",
       "    }\n",
       "</style>\n",
       "<table border=\"1\" class=\"dataframe\">\n",
       "  <thead>\n",
       "    <tr style=\"text-align: right;\">\n",
       "      <th></th>\n",
       "      <th>type</th>\n",
       "      <th>id</th>\n",
       "      <th>filename</th>\n",
       "      <th>mimetype</th>\n",
       "      <th>size_bytes</th>\n",
       "    </tr>\n",
       "  </thead>\n",
       "  <tbody>\n",
       "    <tr>\n",
       "      <th>0</th>\n",
       "      <td>syft.types.syft_file.SyftFile</td>\n",
       "      <td>3e63e52a46814d3eadcca07ecc29d0ea</td>\n",
       "      <td>test_class.py</td>\n",
       "      <td>text/x-python</td>\n",
       "      <td>329</td>\n",
       "    </tr>\n",
       "  </tbody>\n",
       "</table>\n",
       "</div>"
      ],
      "text/plain": [
       "[syft.types.syft_file.SyftFile]"
      ]
     },
     "execution_count": 7,
     "metadata": {},
     "output_type": "execute_result"
    }
   ],
   "source": [
    "domain_client.api.services.syft_file.get_all()"
   ]
  },
  {
   "cell_type": "code",
   "execution_count": 8,
   "metadata": {},
   "outputs": [
    {
     "ename": "KeyboardInterrupt",
     "evalue": "",
     "output_type": "error",
     "traceback": [
      "\u001b[0;31m---------------------------------------------------------------------------\u001b[0m",
      "\u001b[0;31mKeyboardInterrupt\u001b[0m                         Traceback (most recent call last)",
      "\u001b[1;32m/home/teo/OpenMined/PySyft/notebooks/model_auditing/level_0-inference.ipynb Cell 8\u001b[0m in \u001b[0;36m4\n\u001b[1;32m      <a href='vscode-notebook-cell:/home/teo/OpenMined/PySyft/notebooks/model_auditing/level_0-inference.ipynb#W2sZmlsZQ%3D%3D?line=0'>1</a>\u001b[0m \u001b[39mfrom\u001b[39;00m \u001b[39mtransformers\u001b[39;00m \u001b[39mimport\u001b[39;00m pipeline, AutoTokenizer\n\u001b[1;32m      <a href='vscode-notebook-cell:/home/teo/OpenMined/PySyft/notebooks/model_auditing/level_0-inference.ipynb#W2sZmlsZQ%3D%3D?line=1'>2</a>\u001b[0m \u001b[39mfrom\u001b[39;00m \u001b[39msyft\u001b[39;00m\u001b[39m.\u001b[39;00m\u001b[39mservice\u001b[39;00m\u001b[39m.\u001b[39;00m\u001b[39maction\u001b[39;00m\u001b[39m.\u001b[39;00m\u001b[39mmodel\u001b[39;00m \u001b[39mimport\u001b[39;00m ModelObject\n\u001b[0;32m----> <a href='vscode-notebook-cell:/home/teo/OpenMined/PySyft/notebooks/model_auditing/level_0-inference.ipynb#W2sZmlsZQ%3D%3D?line=3'>4</a>\u001b[0m text_generation \u001b[39m=\u001b[39m pipeline(\u001b[39m\"\u001b[39;49m\u001b[39mtext-generation\u001b[39;49m\u001b[39m\"\u001b[39;49m, model\u001b[39m=\u001b[39;49m\u001b[39m\"\u001b[39;49m\u001b[39mgpt2\u001b[39;49m\u001b[39m\"\u001b[39;49m)\n\u001b[1;32m      <a href='vscode-notebook-cell:/home/teo/OpenMined/PySyft/notebooks/model_auditing/level_0-inference.ipynb#W2sZmlsZQ%3D%3D?line=4'>5</a>\u001b[0m tokenizer \u001b[39m=\u001b[39m AutoTokenizer\u001b[39m.\u001b[39mfrom_pretrained(\u001b[39m\"\u001b[39m\u001b[39mgpt2\u001b[39m\u001b[39m\"\u001b[39m)\n",
      "File \u001b[0;32m~/anaconda3/envs/PySyft/lib/python3.10/site-packages/transformers/pipelines/__init__.py:988\u001b[0m, in \u001b[0;36mpipeline\u001b[0;34m(task, model, config, tokenizer, feature_extractor, image_processor, framework, revision, use_fast, use_auth_token, device, device_map, torch_dtype, trust_remote_code, model_kwargs, pipeline_class, **kwargs)\u001b[0m\n\u001b[1;32m    985\u001b[0m \u001b[39mif\u001b[39;00m device \u001b[39mis\u001b[39;00m \u001b[39mnot\u001b[39;00m \u001b[39mNone\u001b[39;00m:\n\u001b[1;32m    986\u001b[0m     kwargs[\u001b[39m\"\u001b[39m\u001b[39mdevice\u001b[39m\u001b[39m\"\u001b[39m] \u001b[39m=\u001b[39m device\n\u001b[0;32m--> 988\u001b[0m \u001b[39mreturn\u001b[39;00m pipeline_class(model\u001b[39m=\u001b[39;49mmodel, framework\u001b[39m=\u001b[39;49mframework, task\u001b[39m=\u001b[39;49mtask, \u001b[39m*\u001b[39;49m\u001b[39m*\u001b[39;49mkwargs)\n",
      "File \u001b[0;32m~/anaconda3/envs/PySyft/lib/python3.10/site-packages/transformers/pipelines/text_generation.py:65\u001b[0m, in \u001b[0;36mTextGenerationPipeline.__init__\u001b[0;34m(self, *args, **kwargs)\u001b[0m\n\u001b[1;32m     63\u001b[0m \u001b[39mdef\u001b[39;00m \u001b[39m__init__\u001b[39m(\u001b[39mself\u001b[39m, \u001b[39m*\u001b[39margs, \u001b[39m*\u001b[39m\u001b[39m*\u001b[39mkwargs):\n\u001b[1;32m     64\u001b[0m     \u001b[39msuper\u001b[39m()\u001b[39m.\u001b[39m\u001b[39m__init__\u001b[39m(\u001b[39m*\u001b[39margs, \u001b[39m*\u001b[39m\u001b[39m*\u001b[39mkwargs)\n\u001b[0;32m---> 65\u001b[0m     \u001b[39mself\u001b[39;49m\u001b[39m.\u001b[39;49mcheck_model_type(\n\u001b[1;32m     66\u001b[0m         TF_MODEL_FOR_CAUSAL_LM_MAPPING \u001b[39mif\u001b[39;49;00m \u001b[39mself\u001b[39;49m\u001b[39m.\u001b[39;49mframework \u001b[39m==\u001b[39;49m \u001b[39m\"\u001b[39;49m\u001b[39mtf\u001b[39;49m\u001b[39m\"\u001b[39;49m \u001b[39melse\u001b[39;49;00m MODEL_FOR_CAUSAL_LM_MAPPING\n\u001b[1;32m     67\u001b[0m     )\n\u001b[1;32m     68\u001b[0m     \u001b[39mif\u001b[39;00m \u001b[39m\"\u001b[39m\u001b[39mprefix\u001b[39m\u001b[39m\"\u001b[39m \u001b[39mnot\u001b[39;00m \u001b[39min\u001b[39;00m \u001b[39mself\u001b[39m\u001b[39m.\u001b[39m_preprocess_params:\n\u001b[1;32m     69\u001b[0m         \u001b[39m# This is very specific. The logic is quite complex and needs to be done\u001b[39;00m\n\u001b[1;32m     70\u001b[0m         \u001b[39m# as a \"default\".\u001b[39;00m\n\u001b[1;32m     71\u001b[0m         \u001b[39m# It also defines both some preprocess_kwargs and generate_kwargs\u001b[39;00m\n\u001b[1;32m     72\u001b[0m         \u001b[39m# which is why we cannot put them in their respective methods.\u001b[39;00m\n\u001b[1;32m     73\u001b[0m         prefix \u001b[39m=\u001b[39m \u001b[39mNone\u001b[39;00m\n",
      "File \u001b[0;32m~/anaconda3/envs/PySyft/lib/python3.10/site-packages/transformers/pipelines/base.py:952\u001b[0m, in \u001b[0;36mPipeline.check_model_type\u001b[0;34m(self, supported_models)\u001b[0m\n\u001b[1;32m    950\u001b[0m \u001b[39mif\u001b[39;00m \u001b[39mnot\u001b[39;00m \u001b[39misinstance\u001b[39m(supported_models, \u001b[39mlist\u001b[39m):  \u001b[39m# Create from a model mapping\u001b[39;00m\n\u001b[1;32m    951\u001b[0m     supported_models_names \u001b[39m=\u001b[39m []\n\u001b[0;32m--> 952\u001b[0m     \u001b[39mfor\u001b[39;00m config, model \u001b[39min\u001b[39;00m supported_models\u001b[39m.\u001b[39;49mitems():\n\u001b[1;32m    953\u001b[0m         \u001b[39m# Mapping can now contain tuples of models for the same configuration.\u001b[39;00m\n\u001b[1;32m    954\u001b[0m         \u001b[39mif\u001b[39;00m \u001b[39misinstance\u001b[39m(model, \u001b[39mtuple\u001b[39m):\n\u001b[1;32m    955\u001b[0m             supported_models_names\u001b[39m.\u001b[39mextend([_model\u001b[39m.\u001b[39m\u001b[39m__name__\u001b[39m \u001b[39mfor\u001b[39;00m _model \u001b[39min\u001b[39;00m model])\n",
      "File \u001b[0;32m~/anaconda3/envs/PySyft/lib/python3.10/site-packages/transformers/models/auto/auto_factory.py:640\u001b[0m, in \u001b[0;36m_LazyAutoMapping.items\u001b[0;34m(self)\u001b[0m\n\u001b[1;32m    639\u001b[0m \u001b[39mdef\u001b[39;00m \u001b[39mitems\u001b[39m(\u001b[39mself\u001b[39m):\n\u001b[0;32m--> 640\u001b[0m     mapping_items \u001b[39m=\u001b[39m [\n\u001b[1;32m    641\u001b[0m         (\n\u001b[1;32m    642\u001b[0m             \u001b[39mself\u001b[39m\u001b[39m.\u001b[39m_load_attr_from_module(key, \u001b[39mself\u001b[39m\u001b[39m.\u001b[39m_config_mapping[key]),\n\u001b[1;32m    643\u001b[0m             \u001b[39mself\u001b[39m\u001b[39m.\u001b[39m_load_attr_from_module(key, \u001b[39mself\u001b[39m\u001b[39m.\u001b[39m_model_mapping[key]),\n\u001b[1;32m    644\u001b[0m         )\n\u001b[1;32m    645\u001b[0m         \u001b[39mfor\u001b[39;00m key \u001b[39min\u001b[39;00m \u001b[39mself\u001b[39m\u001b[39m.\u001b[39m_model_mapping\u001b[39m.\u001b[39mkeys()\n\u001b[1;32m    646\u001b[0m         \u001b[39mif\u001b[39;00m key \u001b[39min\u001b[39;00m \u001b[39mself\u001b[39m\u001b[39m.\u001b[39m_config_mapping\u001b[39m.\u001b[39mkeys()\n\u001b[1;32m    647\u001b[0m     ]\n\u001b[1;32m    648\u001b[0m     \u001b[39mreturn\u001b[39;00m mapping_items \u001b[39m+\u001b[39m \u001b[39mlist\u001b[39m(\u001b[39mself\u001b[39m\u001b[39m.\u001b[39m_extra_content\u001b[39m.\u001b[39mitems())\n",
      "File \u001b[0;32m~/anaconda3/envs/PySyft/lib/python3.10/site-packages/transformers/models/auto/auto_factory.py:643\u001b[0m, in \u001b[0;36m<listcomp>\u001b[0;34m(.0)\u001b[0m\n\u001b[1;32m    639\u001b[0m \u001b[39mdef\u001b[39;00m \u001b[39mitems\u001b[39m(\u001b[39mself\u001b[39m):\n\u001b[1;32m    640\u001b[0m     mapping_items \u001b[39m=\u001b[39m [\n\u001b[1;32m    641\u001b[0m         (\n\u001b[1;32m    642\u001b[0m             \u001b[39mself\u001b[39m\u001b[39m.\u001b[39m_load_attr_from_module(key, \u001b[39mself\u001b[39m\u001b[39m.\u001b[39m_config_mapping[key]),\n\u001b[0;32m--> 643\u001b[0m             \u001b[39mself\u001b[39;49m\u001b[39m.\u001b[39;49m_load_attr_from_module(key, \u001b[39mself\u001b[39;49m\u001b[39m.\u001b[39;49m_model_mapping[key]),\n\u001b[1;32m    644\u001b[0m         )\n\u001b[1;32m    645\u001b[0m         \u001b[39mfor\u001b[39;00m key \u001b[39min\u001b[39;00m \u001b[39mself\u001b[39m\u001b[39m.\u001b[39m_model_mapping\u001b[39m.\u001b[39mkeys()\n\u001b[1;32m    646\u001b[0m         \u001b[39mif\u001b[39;00m key \u001b[39min\u001b[39;00m \u001b[39mself\u001b[39m\u001b[39m.\u001b[39m_config_mapping\u001b[39m.\u001b[39mkeys()\n\u001b[1;32m    647\u001b[0m     ]\n\u001b[1;32m    648\u001b[0m     \u001b[39mreturn\u001b[39;00m mapping_items \u001b[39m+\u001b[39m \u001b[39mlist\u001b[39m(\u001b[39mself\u001b[39m\u001b[39m.\u001b[39m_extra_content\u001b[39m.\u001b[39mitems())\n",
      "File \u001b[0;32m~/anaconda3/envs/PySyft/lib/python3.10/site-packages/transformers/models/auto/auto_factory.py:612\u001b[0m, in \u001b[0;36m_LazyAutoMapping._load_attr_from_module\u001b[0;34m(self, model_type, attr)\u001b[0m\n\u001b[1;32m    610\u001b[0m \u001b[39mif\u001b[39;00m module_name \u001b[39mnot\u001b[39;00m \u001b[39min\u001b[39;00m \u001b[39mself\u001b[39m\u001b[39m.\u001b[39m_modules:\n\u001b[1;32m    611\u001b[0m     \u001b[39mself\u001b[39m\u001b[39m.\u001b[39m_modules[module_name] \u001b[39m=\u001b[39m importlib\u001b[39m.\u001b[39mimport_module(\u001b[39mf\u001b[39m\u001b[39m\"\u001b[39m\u001b[39m.\u001b[39m\u001b[39m{\u001b[39;00mmodule_name\u001b[39m}\u001b[39;00m\u001b[39m\"\u001b[39m, \u001b[39m\"\u001b[39m\u001b[39mtransformers.models\u001b[39m\u001b[39m\"\u001b[39m)\n\u001b[0;32m--> 612\u001b[0m \u001b[39mreturn\u001b[39;00m getattribute_from_module(\u001b[39mself\u001b[39;49m\u001b[39m.\u001b[39;49m_modules[module_name], attr)\n",
      "File \u001b[0;32m~/anaconda3/envs/PySyft/lib/python3.10/site-packages/transformers/models/auto/auto_factory.py:557\u001b[0m, in \u001b[0;36mgetattribute_from_module\u001b[0;34m(module, attr)\u001b[0m\n\u001b[1;32m    555\u001b[0m \u001b[39mif\u001b[39;00m \u001b[39misinstance\u001b[39m(attr, \u001b[39mtuple\u001b[39m):\n\u001b[1;32m    556\u001b[0m     \u001b[39mreturn\u001b[39;00m \u001b[39mtuple\u001b[39m(getattribute_from_module(module, a) \u001b[39mfor\u001b[39;00m a \u001b[39min\u001b[39;00m attr)\n\u001b[0;32m--> 557\u001b[0m \u001b[39mif\u001b[39;00m \u001b[39mhasattr\u001b[39;49m(module, attr):\n\u001b[1;32m    558\u001b[0m     \u001b[39mreturn\u001b[39;00m \u001b[39mgetattr\u001b[39m(module, attr)\n\u001b[1;32m    559\u001b[0m \u001b[39m# Some of the mappings have entries model_type -> object of another model type. In that case we try to grab the\u001b[39;00m\n\u001b[1;32m    560\u001b[0m \u001b[39m# object at the top level.\u001b[39;00m\n",
      "File \u001b[0;32m~/anaconda3/envs/PySyft/lib/python3.10/site-packages/transformers/utils/import_utils.py:1162\u001b[0m, in \u001b[0;36m_LazyModule.__getattr__\u001b[0;34m(self, name)\u001b[0m\n\u001b[1;32m   1160\u001b[0m     value \u001b[39m=\u001b[39m \u001b[39mself\u001b[39m\u001b[39m.\u001b[39m_get_module(name)\n\u001b[1;32m   1161\u001b[0m \u001b[39melif\u001b[39;00m name \u001b[39min\u001b[39;00m \u001b[39mself\u001b[39m\u001b[39m.\u001b[39m_class_to_module\u001b[39m.\u001b[39mkeys():\n\u001b[0;32m-> 1162\u001b[0m     module \u001b[39m=\u001b[39m \u001b[39mself\u001b[39;49m\u001b[39m.\u001b[39;49m_get_module(\u001b[39mself\u001b[39;49m\u001b[39m.\u001b[39;49m_class_to_module[name])\n\u001b[1;32m   1163\u001b[0m     value \u001b[39m=\u001b[39m \u001b[39mgetattr\u001b[39m(module, name)\n\u001b[1;32m   1164\u001b[0m \u001b[39melse\u001b[39;00m:\n",
      "File \u001b[0;32m~/anaconda3/envs/PySyft/lib/python3.10/site-packages/transformers/utils/import_utils.py:1172\u001b[0m, in \u001b[0;36m_LazyModule._get_module\u001b[0;34m(self, module_name)\u001b[0m\n\u001b[1;32m   1170\u001b[0m \u001b[39mdef\u001b[39;00m \u001b[39m_get_module\u001b[39m(\u001b[39mself\u001b[39m, module_name: \u001b[39mstr\u001b[39m):\n\u001b[1;32m   1171\u001b[0m     \u001b[39mtry\u001b[39;00m:\n\u001b[0;32m-> 1172\u001b[0m         \u001b[39mreturn\u001b[39;00m importlib\u001b[39m.\u001b[39;49mimport_module(\u001b[39m\"\u001b[39;49m\u001b[39m.\u001b[39;49m\u001b[39m\"\u001b[39;49m \u001b[39m+\u001b[39;49m module_name, \u001b[39mself\u001b[39;49m\u001b[39m.\u001b[39;49m\u001b[39m__name__\u001b[39;49m)\n\u001b[1;32m   1173\u001b[0m     \u001b[39mexcept\u001b[39;00m \u001b[39mException\u001b[39;00m \u001b[39mas\u001b[39;00m e:\n\u001b[1;32m   1174\u001b[0m         \u001b[39mraise\u001b[39;00m \u001b[39mRuntimeError\u001b[39;00m(\n\u001b[1;32m   1175\u001b[0m             \u001b[39mf\u001b[39m\u001b[39m\"\u001b[39m\u001b[39mFailed to import \u001b[39m\u001b[39m{\u001b[39;00m\u001b[39mself\u001b[39m\u001b[39m.\u001b[39m\u001b[39m__name__\u001b[39m\u001b[39m}\u001b[39;00m\u001b[39m.\u001b[39m\u001b[39m{\u001b[39;00mmodule_name\u001b[39m}\u001b[39;00m\u001b[39m because of the following error (look up to see its\u001b[39m\u001b[39m\"\u001b[39m\n\u001b[1;32m   1176\u001b[0m             \u001b[39mf\u001b[39m\u001b[39m\"\u001b[39m\u001b[39m traceback):\u001b[39m\u001b[39m\\n\u001b[39;00m\u001b[39m{\u001b[39;00me\u001b[39m}\u001b[39;00m\u001b[39m\"\u001b[39m\n\u001b[1;32m   1177\u001b[0m         ) \u001b[39mfrom\u001b[39;00m \u001b[39me\u001b[39;00m\n",
      "File \u001b[0;32m~/anaconda3/envs/PySyft/lib/python3.10/importlib/__init__.py:126\u001b[0m, in \u001b[0;36mimport_module\u001b[0;34m(name, package)\u001b[0m\n\u001b[1;32m    124\u001b[0m             \u001b[39mbreak\u001b[39;00m\n\u001b[1;32m    125\u001b[0m         level \u001b[39m+\u001b[39m\u001b[39m=\u001b[39m \u001b[39m1\u001b[39m\n\u001b[0;32m--> 126\u001b[0m \u001b[39mreturn\u001b[39;00m _bootstrap\u001b[39m.\u001b[39;49m_gcd_import(name[level:], package, level)\n",
      "File \u001b[0;32m<frozen importlib._bootstrap>:1050\u001b[0m, in \u001b[0;36m_gcd_import\u001b[0;34m(name, package, level)\u001b[0m\n",
      "File \u001b[0;32m<frozen importlib._bootstrap>:1027\u001b[0m, in \u001b[0;36m_find_and_load\u001b[0;34m(name, import_)\u001b[0m\n",
      "File \u001b[0;32m<frozen importlib._bootstrap>:1006\u001b[0m, in \u001b[0;36m_find_and_load_unlocked\u001b[0;34m(name, import_)\u001b[0m\n",
      "File \u001b[0;32m<frozen importlib._bootstrap>:688\u001b[0m, in \u001b[0;36m_load_unlocked\u001b[0;34m(spec)\u001b[0m\n",
      "File \u001b[0;32m<frozen importlib._bootstrap_external>:883\u001b[0m, in \u001b[0;36mexec_module\u001b[0;34m(self, module)\u001b[0m\n",
      "File \u001b[0;32m<frozen importlib._bootstrap>:241\u001b[0m, in \u001b[0;36m_call_with_frames_removed\u001b[0;34m(f, *args, **kwds)\u001b[0m\n",
      "File \u001b[0;32m~/anaconda3/envs/PySyft/lib/python3.10/site-packages/transformers/models/open_llama/modeling_open_llama.py:39\u001b[0m\n\u001b[1;32m     36\u001b[0m logger \u001b[39m=\u001b[39m logging\u001b[39m.\u001b[39mget_logger(\u001b[39m__name__\u001b[39m)\n\u001b[1;32m     38\u001b[0m \u001b[39mtry\u001b[39;00m:\n\u001b[0;32m---> 39\u001b[0m     \u001b[39mfrom\u001b[39;00m \u001b[39mxformers\u001b[39;00m \u001b[39mimport\u001b[39;00m ops \u001b[39mas\u001b[39;00m xops\n\u001b[1;32m     40\u001b[0m \u001b[39mexcept\u001b[39;00m \u001b[39mImportError\u001b[39;00m:\n\u001b[1;32m     41\u001b[0m     xops \u001b[39m=\u001b[39m \u001b[39mNone\u001b[39;00m\n",
      "File \u001b[0;32m~/anaconda3/envs/PySyft/lib/python3.10/site-packages/xformers/ops/__init__.py:8\u001b[0m\n\u001b[1;32m      1\u001b[0m \u001b[39m# Copyright (c) Facebook, Inc. and its affiliates. All rights reserved.\u001b[39;00m\n\u001b[1;32m      2\u001b[0m \u001b[39m#\u001b[39;00m\n\u001b[1;32m      3\u001b[0m \u001b[39m# This source code is licensed under the BSD license found in the\u001b[39;00m\n\u001b[1;32m      4\u001b[0m \u001b[39m# LICENSE file in the root directory of this source tree.\u001b[39;00m\n\u001b[1;32m      6\u001b[0m \u001b[39mimport\u001b[39;00m \u001b[39mtorch\u001b[39;00m\n\u001b[0;32m----> 8\u001b[0m \u001b[39mfrom\u001b[39;00m \u001b[39m.\u001b[39;00m\u001b[39mfmha\u001b[39;00m \u001b[39mimport\u001b[39;00m (\n\u001b[1;32m      9\u001b[0m     AttentionBias,\n\u001b[1;32m     10\u001b[0m     AttentionOp,\n\u001b[1;32m     11\u001b[0m     AttentionOpBase,\n\u001b[1;32m     12\u001b[0m     AttentionOpDispatch,\n\u001b[1;32m     13\u001b[0m     LowerTriangularMask,\n\u001b[1;32m     14\u001b[0m     MemoryEfficientAttentionCutlassFwdFlashBwOp,\n\u001b[1;32m     15\u001b[0m     MemoryEfficientAttentionCutlassOp,\n\u001b[1;32m     16\u001b[0m     MemoryEfficientAttentionFlashAttentionOp,\n\u001b[1;32m     17\u001b[0m     MemoryEfficientAttentionOp,\n\u001b[1;32m     18\u001b[0m     MemoryEfficientAttentionTritonFwdFlashBwOp,\n\u001b[1;32m     19\u001b[0m     TritonFlashAttentionOp,\n\u001b[1;32m     20\u001b[0m     memory_efficient_attention,\n\u001b[1;32m     21\u001b[0m     memory_efficient_attention_backward,\n\u001b[1;32m     22\u001b[0m     memory_efficient_attention_forward,\n\u001b[1;32m     23\u001b[0m     memory_efficient_attention_forward_requires_grad,\n\u001b[1;32m     24\u001b[0m )\n\u001b[1;32m     25\u001b[0m \u001b[39mfrom\u001b[39;00m \u001b[39m.\u001b[39;00m\u001b[39mindexing\u001b[39;00m \u001b[39mimport\u001b[39;00m index_select_cat, scaled_index_add\n\u001b[1;32m     26\u001b[0m \u001b[39mfrom\u001b[39;00m \u001b[39m.\u001b[39;00m\u001b[39mswiglu_op\u001b[39;00m \u001b[39mimport\u001b[39;00m (\n\u001b[1;32m     27\u001b[0m     SwiGLU,\n\u001b[1;32m     28\u001b[0m     SwiGLUEagerOp,\n\u001b[0;32m   (...)\u001b[0m\n\u001b[1;32m     33\u001b[0m     swiglu,\n\u001b[1;32m     34\u001b[0m )\n",
      "File \u001b[0;32m~/anaconda3/envs/PySyft/lib/python3.10/site-packages/xformers/ops/fmha/__init__.py:10\u001b[0m\n\u001b[1;32m      6\u001b[0m \u001b[39mfrom\u001b[39;00m \u001b[39mtyping\u001b[39;00m \u001b[39mimport\u001b[39;00m Any, Optional, Tuple, Type, Union\n\u001b[1;32m      8\u001b[0m \u001b[39mimport\u001b[39;00m \u001b[39mtorch\u001b[39;00m\n\u001b[0;32m---> 10\u001b[0m \u001b[39mfrom\u001b[39;00m \u001b[39m.\u001b[39;00m \u001b[39mimport\u001b[39;00m cutlass, flash, small_k, triton\n\u001b[1;32m     11\u001b[0m \u001b[39mfrom\u001b[39;00m \u001b[39m.\u001b[39;00m\u001b[39mattn_bias\u001b[39;00m \u001b[39mimport\u001b[39;00m AttentionBias, BlockDiagonalMask, LowerTriangularMask\n\u001b[1;32m     12\u001b[0m \u001b[39mfrom\u001b[39;00m \u001b[39m.\u001b[39;00m\u001b[39mcommon\u001b[39;00m \u001b[39mimport\u001b[39;00m (\n\u001b[1;32m     13\u001b[0m     AttentionBwOpBase,\n\u001b[1;32m     14\u001b[0m     AttentionFwOpBase,\n\u001b[0;32m   (...)\u001b[0m\n\u001b[1;32m     21\u001b[0m     bmk2bmhk,\n\u001b[1;32m     22\u001b[0m )\n",
      "File \u001b[0;32m~/anaconda3/envs/PySyft/lib/python3.10/site-packages/xformers/ops/fmha/triton.py:15\u001b[0m\n\u001b[1;32m     12\u001b[0m \u001b[39mfrom\u001b[39;00m \u001b[39m.\u001b[39;00m\u001b[39m.\u001b[39;00m\u001b[39m.\u001b[39;00m \u001b[39mimport\u001b[39;00m _is_triton_available\n\u001b[1;32m     13\u001b[0m \u001b[39mfrom\u001b[39;00m \u001b[39m.\u001b[39;00m\u001b[39m.\u001b[39;00m\u001b[39mcommon\u001b[39;00m \u001b[39mimport\u001b[39;00m register_operator\n\u001b[0;32m---> 15\u001b[0m \u001b[39mif\u001b[39;00m TYPE_CHECKING \u001b[39mor\u001b[39;00m _is_triton_available():\n\u001b[1;32m     16\u001b[0m     \u001b[39mfrom\u001b[39;00m \u001b[39m.\u001b[39;00m\u001b[39m.\u001b[39;00m\u001b[39m.\u001b[39;00m\u001b[39m_flash_attn\u001b[39;00m\u001b[39m.\u001b[39;00m\u001b[39mflash_attn_triton\u001b[39;00m \u001b[39mimport\u001b[39;00m (\n\u001b[1;32m     17\u001b[0m         _flash_attn_backward,\n\u001b[1;32m     18\u001b[0m         _flash_attn_forward,\n\u001b[1;32m     19\u001b[0m     )\n\u001b[1;32m     21\u001b[0m     triton_flash_backward \u001b[39m=\u001b[39m _flash_attn_backward\n",
      "File \u001b[0;32m~/anaconda3/envs/PySyft/lib/python3.10/site-packages/xformers/__init__.py:34\u001b[0m, in \u001b[0;36mcompute_once.<locals>.func_wrapper\u001b[0;34m()\u001b[0m\n\u001b[1;32m     32\u001b[0m \u001b[39mnonlocal\u001b[39;00m value\n\u001b[1;32m     33\u001b[0m \u001b[39mif\u001b[39;00m value \u001b[39mis\u001b[39;00m \u001b[39mNone\u001b[39;00m:\n\u001b[0;32m---> 34\u001b[0m     value \u001b[39m=\u001b[39m func()\n\u001b[1;32m     35\u001b[0m \u001b[39mreturn\u001b[39;00m value\n",
      "File \u001b[0;32m~/anaconda3/envs/PySyft/lib/python3.10/site-packages/xformers/__init__.py:47\u001b[0m, in \u001b[0;36m_is_triton_available\u001b[0;34m()\u001b[0m\n\u001b[1;32m     45\u001b[0m     \u001b[39mreturn\u001b[39;00m \u001b[39mFalse\u001b[39;00m\n\u001b[1;32m     46\u001b[0m \u001b[39mtry\u001b[39;00m:\n\u001b[0;32m---> 47\u001b[0m     \u001b[39mfrom\u001b[39;00m \u001b[39mxformers\u001b[39;00m\u001b[39m.\u001b[39;00m\u001b[39mtriton\u001b[39;00m\u001b[39m.\u001b[39;00m\u001b[39msoftmax\u001b[39;00m \u001b[39mimport\u001b[39;00m softmax \u001b[39mas\u001b[39;00m triton_softmax  \u001b[39m# noqa\u001b[39;00m\n\u001b[1;32m     49\u001b[0m     \u001b[39mreturn\u001b[39;00m \u001b[39mTrue\u001b[39;00m\n\u001b[1;32m     50\u001b[0m \u001b[39mexcept\u001b[39;00m (\u001b[39mImportError\u001b[39;00m, \u001b[39mAttributeError\u001b[39;00m) \u001b[39mas\u001b[39;00m e:\n",
      "File \u001b[0;32m~/anaconda3/envs/PySyft/lib/python3.10/site-packages/xformers/triton/__init__.py:12\u001b[0m\n\u001b[1;32m     10\u001b[0m \u001b[39mif\u001b[39;00m _triton_available:\n\u001b[1;32m     11\u001b[0m     \u001b[39mtry\u001b[39;00m:\n\u001b[0;32m---> 12\u001b[0m         \u001b[39mfrom\u001b[39;00m \u001b[39m.\u001b[39;00m\u001b[39mdropout\u001b[39;00m \u001b[39mimport\u001b[39;00m FusedDropoutBias, dropout  \u001b[39m# noqa\u001b[39;00m\n\u001b[1;32m     13\u001b[0m         \u001b[39mfrom\u001b[39;00m \u001b[39m.\u001b[39;00m\u001b[39mfused_linear_layer\u001b[39;00m \u001b[39mimport\u001b[39;00m FusedLinear  \u001b[39m# noqa\u001b[39;00m\n\u001b[1;32m     14\u001b[0m         \u001b[39mfrom\u001b[39;00m \u001b[39m.\u001b[39;00m\u001b[39mlayer_norm\u001b[39;00m \u001b[39mimport\u001b[39;00m FusedLayerNorm, layer_norm  \u001b[39m# noqa\u001b[39;00m\n",
      "File \u001b[0;32m~/anaconda3/envs/PySyft/lib/python3.10/site-packages/xformers/triton/dropout.py:13\u001b[0m\n\u001b[1;32m     10\u001b[0m \u001b[39mfrom\u001b[39;00m \u001b[39mtyping\u001b[39;00m \u001b[39mimport\u001b[39;00m Optional\n\u001b[1;32m     12\u001b[0m \u001b[39mimport\u001b[39;00m \u001b[39mtorch\u001b[39;00m\n\u001b[0;32m---> 13\u001b[0m \u001b[39mimport\u001b[39;00m \u001b[39mtriton\u001b[39;00m\n\u001b[1;32m     14\u001b[0m \u001b[39mfrom\u001b[39;00m \u001b[39mtorch\u001b[39;00m\u001b[39m.\u001b[39;00m\u001b[39mcuda\u001b[39;00m\u001b[39m.\u001b[39;00m\u001b[39mamp\u001b[39;00m \u001b[39mimport\u001b[39;00m custom_bwd, custom_fwd\n\u001b[1;32m     16\u001b[0m \u001b[39mfrom\u001b[39;00m \u001b[39mxformers\u001b[39;00m\u001b[39m.\u001b[39;00m\u001b[39mcomponents\u001b[39;00m\u001b[39m.\u001b[39;00m\u001b[39mactivations\u001b[39;00m \u001b[39mimport\u001b[39;00m Activation, build_activation\n",
      "File \u001b[0;32m~/anaconda3/envs/PySyft/lib/python3.10/site-packages/triton/__init__.py:29\u001b[0m\n\u001b[1;32m     27\u001b[0m \u001b[39mfrom\u001b[39;00m \u001b[39m.\u001b[39;00m\u001b[39mruntime\u001b[39;00m\u001b[39m.\u001b[39;00m\u001b[39mjit\u001b[39;00m \u001b[39mimport\u001b[39;00m jit\n\u001b[1;32m     28\u001b[0m \u001b[39mfrom\u001b[39;00m \u001b[39m.\u001b[39;00m\u001b[39mcompiler\u001b[39;00m \u001b[39mimport\u001b[39;00m \u001b[39mcompile\u001b[39m, CompilationError\n\u001b[0;32m---> 29\u001b[0m \u001b[39mfrom\u001b[39;00m \u001b[39m.\u001b[39;00m \u001b[39mimport\u001b[39;00m language\n\u001b[1;32m     30\u001b[0m \u001b[39mfrom\u001b[39;00m \u001b[39m.\u001b[39;00m \u001b[39mimport\u001b[39;00m testing\n\u001b[1;32m     31\u001b[0m \u001b[39mfrom\u001b[39;00m \u001b[39m.\u001b[39;00m \u001b[39mimport\u001b[39;00m ops\n",
      "File \u001b[0;32m~/anaconda3/envs/PySyft/lib/python3.10/site-packages/triton/language/__init__.py:8\u001b[0m\n\u001b[1;32m      2\u001b[0m \u001b[39m# Import order is significant here.\u001b[39;00m\n\u001b[1;32m      4\u001b[0m \u001b[39mfrom\u001b[39;00m \u001b[39m.\u001b[39;00m\u001b[39m.\u001b[39;00m\u001b[39mimpl\u001b[39;00m \u001b[39mimport\u001b[39;00m (\n\u001b[1;32m      5\u001b[0m     ir,\n\u001b[1;32m      6\u001b[0m     builtin,\n\u001b[1;32m      7\u001b[0m )\n\u001b[0;32m----> 8\u001b[0m \u001b[39mfrom\u001b[39;00m \u001b[39m.\u001b[39;00m \u001b[39mimport\u001b[39;00m libdevice\n\u001b[1;32m      9\u001b[0m \u001b[39mfrom\u001b[39;00m \u001b[39m.\u001b[39;00m\u001b[39mcore\u001b[39;00m \u001b[39mimport\u001b[39;00m (\n\u001b[1;32m     10\u001b[0m     \u001b[39mabs\u001b[39m,\n\u001b[1;32m     11\u001b[0m     arange,\n\u001b[0;32m   (...)\u001b[0m\n\u001b[1;32m     82\u001b[0m     zeros_like,\n\u001b[1;32m     83\u001b[0m )\n\u001b[1;32m     84\u001b[0m \u001b[39mfrom\u001b[39;00m \u001b[39m.\u001b[39;00m\u001b[39mrandom\u001b[39;00m \u001b[39mimport\u001b[39;00m (\n\u001b[1;32m     85\u001b[0m     pair_uniform_to_normal,\n\u001b[1;32m     86\u001b[0m     philox,\n\u001b[0;32m   (...)\u001b[0m\n\u001b[1;32m     94\u001b[0m     uint32_to_uniform_float,\n\u001b[1;32m     95\u001b[0m )\n",
      "File \u001b[0;32m~/anaconda3/envs/PySyft/lib/python3.10/site-packages/triton/language/libdevice.py:4\u001b[0m\n\u001b[1;32m      1\u001b[0m \u001b[39mimport\u001b[39;00m \u001b[39mos\u001b[39;00m\n\u001b[1;32m      3\u001b[0m \u001b[39mfrom\u001b[39;00m \u001b[39m.\u001b[39;00m\u001b[39m.\u001b[39;00m \u001b[39mimport\u001b[39;00m impl\n\u001b[0;32m----> 4\u001b[0m \u001b[39mfrom\u001b[39;00m \u001b[39m.\u001b[39;00m \u001b[39mimport\u001b[39;00m core, extern\n\u001b[1;32m      6\u001b[0m LIBDEVICE_PATH \u001b[39m=\u001b[39m os\u001b[39m.\u001b[39mpath\u001b[39m.\u001b[39mjoin(os\u001b[39m.\u001b[39mpath\u001b[39m.\u001b[39mdirname(os\u001b[39m.\u001b[39mpath\u001b[39m.\u001b[39mabspath(\u001b[39m__file__\u001b[39m)), \u001b[39m\"\u001b[39m\u001b[39m..\u001b[39m\u001b[39m\"\u001b[39m, \u001b[39m\"\u001b[39m\u001b[39mthird_party\u001b[39m\u001b[39m\"\u001b[39m, \u001b[39m\"\u001b[39m\u001b[39mcuda\u001b[39m\u001b[39m\"\u001b[39m, \u001b[39m\"\u001b[39m\u001b[39mlib\u001b[39m\u001b[39m\"\u001b[39m, \u001b[39m\"\u001b[39m\u001b[39mlibdevice.10.bc\u001b[39m\u001b[39m\"\u001b[39m)\n\u001b[1;32m      9\u001b[0m \u001b[39m@impl\u001b[39m\u001b[39m.\u001b[39mextern\n\u001b[1;32m     10\u001b[0m \u001b[39mdef\u001b[39;00m \u001b[39mclz\u001b[39m(arg0, _builder\u001b[39m=\u001b[39m\u001b[39mNone\u001b[39;00m):\n",
      "File \u001b[0;32m~/anaconda3/envs/PySyft/lib/python3.10/site-packages/triton/language/core.py:1176\u001b[0m\n\u001b[1;32m   1168\u001b[0m     \u001b[39mreturn\u001b[39;00m semantic\u001b[39m.\u001b[39mmax_contiguous(\u001b[39minput\u001b[39m, values)\n\u001b[1;32m   1171\u001b[0m \u001b[39m# -----------------------\u001b[39;00m\n\u001b[1;32m   1172\u001b[0m \u001b[39m# Standard library\u001b[39;00m\n\u001b[1;32m   1173\u001b[0m \u001b[39m# -----------------------\u001b[39;00m\n\u001b[1;32m   1175\u001b[0m \u001b[39m@triton\u001b[39;49m\u001b[39m.\u001b[39;49mjit\n\u001b[0;32m-> 1176\u001b[0m \u001b[39mdef\u001b[39;49;00m \u001b[39mabs\u001b[39;49m(x):\n\u001b[1;32m   1177\u001b[0m     \u001b[39mreturn\u001b[39;49;00m where(x \u001b[39m>\u001b[39;49m\u001b[39m=\u001b[39;49m \u001b[39m0\u001b[39;49m, x, \u001b[39m-\u001b[39;49mx)\n\u001b[1;32m   1180\u001b[0m \u001b[39m@triton\u001b[39m\u001b[39m.\u001b[39mjit\n\u001b[1;32m   1181\u001b[0m \u001b[39mdef\u001b[39;00m \u001b[39mcdiv\u001b[39m(x, div):\n",
      "File \u001b[0;32m~/anaconda3/envs/PySyft/lib/python3.10/site-packages/triton/runtime/jit.py:419\u001b[0m, in \u001b[0;36mjit\u001b[0;34m(fn, version, do_not_specialize)\u001b[0m\n\u001b[1;32m    412\u001b[0m     \u001b[39mreturn\u001b[39;00m JITFunction(\n\u001b[1;32m    413\u001b[0m         fn,\n\u001b[1;32m    414\u001b[0m         version\u001b[39m=\u001b[39mversion,\n\u001b[1;32m    415\u001b[0m         do_not_specialize\u001b[39m=\u001b[39mdo_not_specialize,\n\u001b[1;32m    416\u001b[0m     )\n\u001b[1;32m    418\u001b[0m \u001b[39mif\u001b[39;00m fn \u001b[39mis\u001b[39;00m \u001b[39mnot\u001b[39;00m \u001b[39mNone\u001b[39;00m:\n\u001b[0;32m--> 419\u001b[0m     \u001b[39mreturn\u001b[39;00m decorator(fn)\n\u001b[1;32m    421\u001b[0m \u001b[39melse\u001b[39;00m:\n\u001b[1;32m    422\u001b[0m     \u001b[39mreturn\u001b[39;00m decorator\n",
      "File \u001b[0;32m~/anaconda3/envs/PySyft/lib/python3.10/site-packages/triton/runtime/jit.py:412\u001b[0m, in \u001b[0;36mjit.<locals>.decorator\u001b[0;34m(fn)\u001b[0m\n\u001b[1;32m    410\u001b[0m \u001b[39mdef\u001b[39;00m \u001b[39mdecorator\u001b[39m(fn: T) \u001b[39m-\u001b[39m\u001b[39m>\u001b[39m JITFunction[T]:\n\u001b[1;32m    411\u001b[0m     \u001b[39massert\u001b[39;00m callable(fn)\n\u001b[0;32m--> 412\u001b[0m     \u001b[39mreturn\u001b[39;00m JITFunction(\n\u001b[1;32m    413\u001b[0m         fn,\n\u001b[1;32m    414\u001b[0m         version\u001b[39m=\u001b[39;49mversion,\n\u001b[1;32m    415\u001b[0m         do_not_specialize\u001b[39m=\u001b[39;49mdo_not_specialize,\n\u001b[1;32m    416\u001b[0m     )\n",
      "File \u001b[0;32m~/anaconda3/envs/PySyft/lib/python3.10/site-packages/triton/runtime/jit.py:321\u001b[0m, in \u001b[0;36mJITFunction.__init__\u001b[0;34m(self, fn, version, do_not_specialize)\u001b[0m\n\u001b[1;32m    319\u001b[0m \u001b[39mself\u001b[39m\u001b[39m.\u001b[39mconstexprs \u001b[39m=\u001b[39m [\u001b[39mself\u001b[39m\u001b[39m.\u001b[39marg_names\u001b[39m.\u001b[39mindex(ann) \u001b[39mfor\u001b[39;00m ann \u001b[39min\u001b[39;00m \u001b[39mself\u001b[39m\u001b[39m.\u001b[39m\u001b[39m__annotations__\u001b[39m\u001b[39m.\u001b[39mkeys()]\n\u001b[1;32m    320\u001b[0m \u001b[39m# launcher\u001b[39;00m\n\u001b[0;32m--> 321\u001b[0m \u001b[39mself\u001b[39m\u001b[39m.\u001b[39mrun \u001b[39m=\u001b[39m \u001b[39mself\u001b[39;49m\u001b[39m.\u001b[39;49m_make_launcher()\n\u001b[1;32m    322\u001b[0m \u001b[39m# re-use docs of wrapped function\u001b[39;00m\n\u001b[1;32m    323\u001b[0m \u001b[39mself\u001b[39m\u001b[39m.\u001b[39m\u001b[39m__doc__\u001b[39m \u001b[39m=\u001b[39m fn\u001b[39m.\u001b[39m\u001b[39m__doc__\u001b[39m\n",
      "File \u001b[0;32m~/anaconda3/envs/PySyft/lib/python3.10/site-packages/triton/runtime/jit.py:288\u001b[0m, in \u001b[0;36mJITFunction._make_launcher\u001b[0;34m(self)\u001b[0m\n\u001b[1;32m    239\u001b[0m         grid_args \u001b[39m=\u001b[39m \u001b[39m'\u001b[39m\u001b[39m,\u001b[39m\u001b[39m'\u001b[39m\u001b[39m.\u001b[39mjoin([\u001b[39mf\u001b[39m\u001b[39m'\u001b[39m\u001b[39m\"\u001b[39m\u001b[39m{\u001b[39;00marg\u001b[39m}\u001b[39;00m\u001b[39m\"\u001b[39m\u001b[39m: \u001b[39m\u001b[39m{\u001b[39;00marg\u001b[39m}\u001b[39;00m\u001b[39m'\u001b[39m \u001b[39mfor\u001b[39;00m arg \u001b[39min\u001b[39;00m \u001b[39mself\u001b[39m\u001b[39m.\u001b[39marg_names])\n\u001b[1;32m    241\u001b[0m         src \u001b[39m=\u001b[39m \u001b[39mf\u001b[39m\u001b[39m\"\"\"\u001b[39m\n\u001b[1;32m    242\u001b[0m \u001b[39mdef \u001b[39m\u001b[39m{\u001b[39;00m\u001b[39mself\u001b[39m\u001b[39m.\u001b[39mfn\u001b[39m.\u001b[39m\u001b[39m__name__\u001b[39m\u001b[39m}\u001b[39;00m\u001b[39m(\u001b[39m\u001b[39m{\u001b[39;00m\u001b[39m'\u001b[39m\u001b[39m, \u001b[39m\u001b[39m'\u001b[39m\u001b[39m.\u001b[39mjoin(\u001b[39mself\u001b[39m\u001b[39m.\u001b[39marg_names)\u001b[39m}\u001b[39;00m\u001b[39m, grid, num_warps=4, num_stages=3, extern_libs=None, stream=None, warmup=False):\u001b[39m\n\u001b[1;32m    243\u001b[0m \u001b[39m    sig_key =  \u001b[39m\u001b[39m{\u001b[39;00msig_keys\u001b[39m}\u001b[39;00m\u001b[39m,\u001b[39m\n\u001b[0;32m   (...)\u001b[0m\n\u001b[1;32m    286\u001b[0m \u001b[39m      return None\u001b[39m\n\u001b[1;32m    287\u001b[0m \u001b[39m\"\"\"\u001b[39m\n\u001b[0;32m--> 288\u001b[0m         scope \u001b[39m=\u001b[39m {\u001b[39m\"\u001b[39m\u001b[39mversion_key\u001b[39m\u001b[39m\"\u001b[39m: version_key(), \u001b[39m\"\u001b[39m\u001b[39mget_cuda_stream\u001b[39m\u001b[39m\"\u001b[39m: get_cuda_stream,\n\u001b[1;32m    289\u001b[0m                  \u001b[39m\"\u001b[39m\u001b[39mself\u001b[39m\u001b[39m\"\u001b[39m: \u001b[39mself\u001b[39m, \u001b[39m\"\u001b[39m\u001b[39m_spec_of\u001b[39m\u001b[39m\"\u001b[39m: \u001b[39mself\u001b[39m\u001b[39m.\u001b[39m_spec_of, \u001b[39m\"\u001b[39m\u001b[39m_key_of\u001b[39m\u001b[39m\"\u001b[39m: \u001b[39mself\u001b[39m\u001b[39m.\u001b[39m_key_of,\n\u001b[1;32m    290\u001b[0m                  \u001b[39m\"\u001b[39m\u001b[39mcache\u001b[39m\u001b[39m\"\u001b[39m: \u001b[39mself\u001b[39m\u001b[39m.\u001b[39mcache, \u001b[39m\"\u001b[39m\u001b[39mtriton\u001b[39m\u001b[39m\"\u001b[39m: triton, \u001b[39m\"\u001b[39m\u001b[39mtorch\u001b[39m\u001b[39m\"\u001b[39m: torch}\n\u001b[1;32m    291\u001b[0m         exec(src, scope)\n\u001b[1;32m    292\u001b[0m         \u001b[39mreturn\u001b[39;00m scope[\u001b[39mself\u001b[39m\u001b[39m.\u001b[39mfn\u001b[39m.\u001b[39m\u001b[39m__name__\u001b[39m]\n",
      "File \u001b[0;32m~/anaconda3/envs/PySyft/lib/python3.10/site-packages/triton/runtime/jit.py:87\u001b[0m, in \u001b[0;36mversion_key\u001b[0;34m()\u001b[0m\n\u001b[1;32m     85\u001b[0m \u001b[39m# backend\u001b[39;00m\n\u001b[1;32m     86\u001b[0m \u001b[39mwith\u001b[39;00m \u001b[39mopen\u001b[39m(triton\u001b[39m.\u001b[39m_C\u001b[39m.\u001b[39mlibtriton\u001b[39m.\u001b[39m\u001b[39m__file__\u001b[39m, \u001b[39m\"\u001b[39m\u001b[39mrb\u001b[39m\u001b[39m\"\u001b[39m) \u001b[39mas\u001b[39;00m f:\n\u001b[0;32m---> 87\u001b[0m     contents \u001b[39m+\u001b[39m\u001b[39m=\u001b[39m [hashlib\u001b[39m.\u001b[39;49mmd5(f\u001b[39m.\u001b[39;49mread())\u001b[39m.\u001b[39mhexdigest()]\n\u001b[1;32m     88\u001b[0m \u001b[39m# language\u001b[39;00m\n\u001b[1;32m     89\u001b[0m language_path \u001b[39m=\u001b[39m os\u001b[39m.\u001b[39mpath\u001b[39m.\u001b[39mjoin(\u001b[39m*\u001b[39mtriton\u001b[39m.\u001b[39m__path__, \u001b[39m'\u001b[39m\u001b[39mlanguage\u001b[39m\u001b[39m'\u001b[39m)\n",
      "\u001b[0;31mKeyboardInterrupt\u001b[0m: "
     ]
    }
   ],
   "source": [
    "from transformers import pipeline, AutoTokenizer\n",
    "from syft.service.action.model import ModelObject\n",
    "\n",
    "text_generation = pipeline(\"text-generation\", model=\"gpt2\")\n",
    "tokenizer = AutoTokenizer.from_pretrained(\"gpt2\")\n"
   ]
  },
  {
   "cell_type": "code",
   "execution_count": null,
   "metadata": {},
   "outputs": [],
   "source": []
  },
  {
   "cell_type": "code",
   "execution_count": null,
   "metadata": {},
   "outputs": [
    {
     "data": {
      "text/plain": [
       "transformers.pipelines.text_generation.TextGenerationPipeline"
      ]
     },
     "execution_count": 4,
     "metadata": {},
     "output_type": "execute_result"
    }
   ],
   "source": [
    "type(text_generation)"
   ]
  },
  {
   "cell_type": "code",
   "execution_count": null,
   "metadata": {},
   "outputs": [],
   "source": [
    "from transformers.models.gpt2.tokenization_gpt2_fast import GPT2TokenizerFast"
   ]
  },
  {
   "cell_type": "code",
   "execution_count": null,
   "metadata": {},
   "outputs": [],
   "source": [
    "# HuggingFaceTransformerModel.from_model(text_generation)"
   ]
  },
  {
   "cell_type": "code",
   "execution_count": null,
   "metadata": {},
   "outputs": [],
   "source": [
    "from syft.service.action.action_object import AnyActionObject\n",
    "obj_text_generation = ModelObject(syft_action_data=text_generation)\n",
    "obj_tokenizer = ModelObject(syft_action_data=tokenizer)\n",
    "# obj_text_generation = sy.ActionObject.from_obj(text_generation)\n",
    "# obj_text_generation.send(domain_client)\n",
    "# obj_tokenizer.send(domain_client)"
   ]
  },
  {
   "cell_type": "code",
   "execution_count": null,
   "metadata": {},
   "outputs": [
    {
     "data": {
      "text/plain": [
       "typing.Union[transformers.models.gpt2.tokenization_gpt2_fast.GPT2TokenizerFast, transformers.pipelines.text_generation.TextGenerationPipeline]"
      ]
     },
     "execution_count": 9,
     "metadata": {},
     "output_type": "execute_result"
    }
   ],
   "source": [
    "obj_text_generation.syft_internal_type"
   ]
  },
  {
   "cell_type": "code",
   "execution_count": null,
   "metadata": {},
   "outputs": [
    {
     "data": {
      "application/vnd.jupyter.widget-view+json": {
       "model_id": "4627377843b24265893ad79e4d8142f7",
       "version_major": 2,
       "version_minor": 0
      },
      "text/plain": [
       "Fetching 6 files:   0%|          | 0/6 [00:00<?, ?it/s]"
      ]
     },
     "metadata": {},
     "output_type": "display_data"
    },
    {
     "data": {
      "application/vnd.jupyter.widget-view+json": {
       "model_id": "da6fed887819405ba97b8461e53ec4ea",
       "version_major": 2,
       "version_minor": 0
      },
      "text/plain": [
       "Downloading (…)okenizer_config.json:   0%|          | 0.00/26.0 [00:00<?, ?B/s]"
      ]
     },
     "metadata": {},
     "output_type": "display_data"
    },
    {
     "data": {
      "application/vnd.jupyter.widget-view+json": {
       "model_id": "5ccc2e1788034d7e9078d2ba84d6f0de",
       "version_major": 2,
       "version_minor": 0
      },
      "text/plain": [
       "Downloading (…)d95f2c7be/vocab.json:   0%|          | 0.00/899k [00:00<?, ?B/s]"
      ]
     },
     "metadata": {},
     "output_type": "display_data"
    },
    {
     "data": {
      "application/vnd.jupyter.widget-view+json": {
       "model_id": "7e8fcc1c5b594302b6dbf9e0c2f1a482",
       "version_major": 2,
       "version_minor": 0
      },
      "text/plain": [
       "Downloading (…)d95f2c7be/merges.txt:   0%|          | 0.00/456k [00:00<?, ?B/s]"
      ]
     },
     "metadata": {},
     "output_type": "display_data"
    },
    {
     "data": {
      "application/vnd.jupyter.widget-view+json": {
       "model_id": "be978425c981490084758f3c5b8df08e",
       "version_major": 2,
       "version_minor": 0
      },
      "text/plain": [
       "Downloading (…)95f2c7be/config.json:   0%|          | 0.00/662 [00:00<?, ?B/s]"
      ]
     },
     "metadata": {},
     "output_type": "display_data"
    },
    {
     "data": {
      "application/vnd.jupyter.widget-view+json": {
       "model_id": "5820ee0fab4847dbbfbff958963561a3",
       "version_major": 2,
       "version_minor": 0
      },
      "text/plain": [
       "Downloading (…)cial_tokens_map.json:   0%|          | 0.00/90.0 [00:00<?, ?B/s]"
      ]
     },
     "metadata": {},
     "output_type": "display_data"
    },
    {
     "data": {
      "application/vnd.jupyter.widget-view+json": {
       "model_id": "96864bcdee5e48518c3fb597a8af88e3",
       "version_major": 2,
       "version_minor": 0
      },
      "text/plain": [
       "Downloading pytorch_model.bin:   0%|          | 0.00/2.51M [00:00<?, ?B/s]"
      ]
     },
     "metadata": {},
     "output_type": "display_data"
    }
   ],
   "source": [
    "def download_hf_to_folder(repo_id: str, folder: str, library_name = None, overwrite: bool = False):\n",
    "    library_patterns = {\n",
    "        \"pytorch\": [\"*.pt\", \"*.bin\"],\n",
    "        \"jax\": [\"*.msgpack\"],\n",
    "    }\n",
    "    from huggingface_hub import snapshot_download\n",
    "    add_extensions = []\n",
    "    remove_extensions = []\n",
    "    for lib, ext in library_patterns.items():\n",
    "        if lib == library_name or library_name is None:\n",
    "            add_extensions += ext\n",
    "        else:\n",
    "            remove_extensions += ext\n",
    "    ignore = remove_extensions + [\"*.h5\", \"*.ot\", \"*.tflite\", \"*.safetensors\", \"*.gitattributes\", \"*.md\"]\n",
    "    allow = add_extensions + [\"*.json\", \"*.txt\"]\n",
    "    snapshot_download(\n",
    "        repo_id=repo_id,\n",
    "        local_dir=folder,\n",
    "        library_name=library_name,\n",
    "        ignore_patterns=ignore,\n",
    "        allow_patterns=allow,\n",
    "        force_download=overwrite,\n",
    "    )\n",
    "    \n",
    "\n",
    "repo_id = \"sshleifer/tiny-gpt2\"\n",
    "transformer_files_path = \"./tiny-gpt2\"\n",
    "download_hf_to_folder(repo_id, transformer_files_path, library_name=\"pytorch\", overwrite=False)\n"
   ]
  },
  {
   "cell_type": "code",
   "execution_count": null,
   "metadata": {},
   "outputs": [
    {
     "ename": "ValidationError",
     "evalue": "1 validation error for Model\nmodel_config\n  field required (type=value_error.missing)",
     "output_type": "error",
     "traceback": [
      "\u001b[0;31m---------------------------------------------------------------------------\u001b[0m",
      "\u001b[0;31mValidationError\u001b[0m                           Traceback (most recent call last)",
      "\u001b[1;32m/home/teo/OpenMined/PySyft/notebooks/model_auditing/level_0-inference.ipynb Cell 8\u001b[0m in \u001b[0;36m4\n\u001b[1;32m      <a href='vscode-notebook-cell:/home/teo/OpenMined/PySyft/notebooks/model_auditing/level_0-inference.ipynb#X10sZmlsZQ%3D%3D?line=0'>1</a>\u001b[0m \u001b[39mfrom\u001b[39;00m \u001b[39msyft\u001b[39;00m\u001b[39m.\u001b[39;00m\u001b[39mservice\u001b[39;00m\u001b[39m.\u001b[39;00m\u001b[39mmodel\u001b[39;00m\u001b[39m.\u001b[39;00m\u001b[39mmodel\u001b[39;00m \u001b[39mimport\u001b[39;00m Model, CreateModelInterface\n\u001b[1;32m      <a href='vscode-notebook-cell:/home/teo/OpenMined/PySyft/notebooks/model_auditing/level_0-inference.ipynb#X10sZmlsZQ%3D%3D?line=1'>2</a>\u001b[0m dummy_contributor \u001b[39m=\u001b[39m sy\n\u001b[0;32m----> <a href='vscode-notebook-cell:/home/teo/OpenMined/PySyft/notebooks/model_auditing/level_0-inference.ipynb#X10sZmlsZQ%3D%3D?line=3'>4</a>\u001b[0m text_gen_model \u001b[39m=\u001b[39m Model(\n\u001b[1;32m      <a href='vscode-notebook-cell:/home/teo/OpenMined/PySyft/notebooks/model_auditing/level_0-inference.ipynb#X10sZmlsZQ%3D%3D?line=4'>5</a>\u001b[0m         name\u001b[39m=\u001b[39;49m\u001b[39m'\u001b[39;49m\u001b[39mtest gen gpt2\u001b[39;49m\u001b[39m'\u001b[39;49m, \n\u001b[1;32m      <a href='vscode-notebook-cell:/home/teo/OpenMined/PySyft/notebooks/model_auditing/level_0-inference.ipynb#X10sZmlsZQ%3D%3D?line=5'>6</a>\u001b[0m         action_id\u001b[39m=\u001b[39;49mobj_text_generation\u001b[39m.\u001b[39;49mid, \n\u001b[1;32m      <a href='vscode-notebook-cell:/home/teo/OpenMined/PySyft/notebooks/model_auditing/level_0-inference.ipynb#X10sZmlsZQ%3D%3D?line=6'>7</a>\u001b[0m         node_uid\u001b[39m=\u001b[39;49mdomain_client\u001b[39m.\u001b[39;49mid\n\u001b[1;32m      <a href='vscode-notebook-cell:/home/teo/OpenMined/PySyft/notebooks/model_auditing/level_0-inference.ipynb#X10sZmlsZQ%3D%3D?line=7'>8</a>\u001b[0m     )\n\u001b[1;32m      <a href='vscode-notebook-cell:/home/teo/OpenMined/PySyft/notebooks/model_auditing/level_0-inference.ipynb#X10sZmlsZQ%3D%3D?line=8'>9</a>\u001b[0m text_gen_model_interface \u001b[39m=\u001b[39m CreateModelInterface(\n\u001b[1;32m     <a href='vscode-notebook-cell:/home/teo/OpenMined/PySyft/notebooks/model_auditing/level_0-inference.ipynb#X10sZmlsZQ%3D%3D?line=9'>10</a>\u001b[0m     name\u001b[39m=\u001b[39m\u001b[39m'\u001b[39m\u001b[39mtest gen gpt2\u001b[39m\u001b[39m'\u001b[39m,\n\u001b[1;32m     <a href='vscode-notebook-cell:/home/teo/OpenMined/PySyft/notebooks/model_auditing/level_0-inference.ipynb#X10sZmlsZQ%3D%3D?line=10'>11</a>\u001b[0m     model_list\u001b[39m=\u001b[39m[text_gen_model],\n\u001b[1;32m     <a href='vscode-notebook-cell:/home/teo/OpenMined/PySyft/notebooks/model_auditing/level_0-inference.ipynb#X10sZmlsZQ%3D%3D?line=11'>12</a>\u001b[0m     current_index\u001b[39m=\u001b[39m\u001b[39m0\u001b[39m,\n\u001b[1;32m     <a href='vscode-notebook-cell:/home/teo/OpenMined/PySyft/notebooks/model_auditing/level_0-inference.ipynb#X10sZmlsZQ%3D%3D?line=12'>13</a>\u001b[0m )\n",
      "File \u001b[0;32m~/OpenMined/PySyft/packages/syft/src/syft/types/syft_object.py:349\u001b[0m, in \u001b[0;36mSyftObject.__init__\u001b[0;34m(self, **kwargs)\u001b[0m\n\u001b[1;32m    348\u001b[0m \u001b[39mdef\u001b[39;00m \u001b[39m__init__\u001b[39m(\u001b[39mself\u001b[39m, \u001b[39m*\u001b[39m\u001b[39m*\u001b[39mkwargs) \u001b[39m-\u001b[39m\u001b[39m>\u001b[39m \u001b[39mNone\u001b[39;00m:\n\u001b[0;32m--> 349\u001b[0m     \u001b[39msuper\u001b[39;49m()\u001b[39m.\u001b[39;49m\u001b[39m__init__\u001b[39;49m(\u001b[39m*\u001b[39;49m\u001b[39m*\u001b[39;49mkwargs)\n\u001b[1;32m    350\u001b[0m     \u001b[39mself\u001b[39m\u001b[39m.\u001b[39m_syft_set_validate_private_attrs_(\u001b[39m*\u001b[39m\u001b[39m*\u001b[39mkwargs)\n\u001b[1;32m    351\u001b[0m     \u001b[39mself\u001b[39m\u001b[39m.\u001b[39m__post_init__()\n",
      "File \u001b[0;32m~/anaconda3/envs/PySyft/lib/python3.10/site-packages/pydantic/main.py:341\u001b[0m, in \u001b[0;36mpydantic.main.BaseModel.__init__\u001b[0;34m()\u001b[0m\n",
      "\u001b[0;31mValidationError\u001b[0m: 1 validation error for Model\nmodel_config\n  field required (type=value_error.missing)"
     ]
    }
   ],
   "source": [
    "from syft.service.model.model import Model, CreateModelInterface\n",
    "dummy_contributor = sy\n",
    "\n",
    "text_gen_model = Model(\n",
    "        name='test gen gpt2', \n",
    "        action_id=obj_text_generation.id, \n",
    "        node_uid=domain_client.id\n",
    "    )\n",
    "text_gen_model_interface = CreateModelInterface(\n",
    "    name='test gen gpt2',\n",
    "    model_list=[text_gen_model],\n",
    "    current_index=0,\n",
    ")\n"
   ]
  },
  {
   "cell_type": "code",
   "execution_count": null,
   "metadata": {},
   "outputs": [
    {
     "data": {
      "text/markdown": [
       "```python\n",
       "Model: test gen gpt2\n",
       "Pointer Id: 366969dc417e48d4b930ae84d54c6941\n",
       "Description: None\n",
       "Contributors: 0\n",
       "\n",
       "```"
      ],
      "text/plain": [
       "syft.service.model.model.Model"
      ]
     },
     "execution_count": 8,
     "metadata": {},
     "output_type": "execute_result"
    }
   ],
   "source": [
    "text_gen_model"
   ]
  },
  {
   "cell_type": "code",
   "execution_count": null,
   "metadata": {},
   "outputs": [
    {
     "data": {
      "text/markdown": [
       "```python\n",
       "Syft Model Interface: test gen gpt2\n",
       "Models:\n",
       "\ttest gen gpt2: None\n",
       "\n",
       "```"
      ],
      "text/plain": [
       "syft.service.model.model.CreateModelInterface"
      ]
     },
     "execution_count": 9,
     "metadata": {},
     "output_type": "execute_result"
    }
   ],
   "source": [
    "text_gen_model_interface"
   ]
  },
  {
   "cell_type": "code",
   "execution_count": null,
   "metadata": {},
   "outputs": [],
   "source": [
    "res = domain_client.api.services.model_interface.add(text_gen_model_interface)"
   ]
  },
  {
   "cell_type": "code",
   "execution_count": null,
   "metadata": {},
   "outputs": [
    {
     "data": {
      "text/html": [
       "<div class=\"alert-success\" style=\"padding:5px;\"><strong>SyftSuccess</strong>: Model Interface Added</div><br />"
      ],
      "text/plain": [
       "<class 'syft.service.response.SyftSuccess'>: Model Interface Added"
      ]
     },
     "execution_count": 12,
     "metadata": {},
     "output_type": "execute_result"
    }
   ],
   "source": [
    "res"
   ]
  },
  {
   "cell_type": "code",
   "execution_count": null,
   "metadata": {},
   "outputs": [
    {
     "data": {
      "text/markdown": [
       "```python\n",
       "Syft Model Interface: test gen gpt2\n",
       "Models:\n",
       "\ttest gen gpt2: None\n",
       "\n",
       "```"
      ],
      "text/plain": [
       "syft.service.model.model.ModelInterface"
      ]
     },
     "execution_count": 11,
     "metadata": {},
     "output_type": "execute_result"
    }
   ],
   "source": [
    "from syft.service.model.model import ModelInterface\n",
    "text_gen_model_interface.to(ModelInterface)"
   ]
  },
  {
   "cell_type": "code",
   "execution_count": null,
   "metadata": {},
   "outputs": [],
   "source": [
    "models = domain_client.api.services.model_interface.get_all()"
   ]
  },
  {
   "cell_type": "code",
   "execution_count": null,
   "metadata": {},
   "outputs": [],
   "source": [
    "ptr_model = models[0].get_current_model()"
   ]
  },
  {
   "cell_type": "code",
   "execution_count": null,
   "metadata": {},
   "outputs": [
    {
     "data": {
      "text/plain": [
       "<UID: 366969dc417e48d4b930ae84d54c6941>"
      ]
     },
     "execution_count": 33,
     "metadata": {},
     "output_type": "execute_result"
    }
   ],
   "source": [
    "ptr_model.action_id"
   ]
  },
  {
   "cell_type": "code",
   "execution_count": null,
   "metadata": {},
   "outputs": [
    {
     "data": {
      "text/plain": [
       "'Could not find item with uid 366969dc417e48d4b930ae84d54c6941, <UID: 366969dc417e48d4b930ae84d54c6941>'"
      ]
     },
     "execution_count": 31,
     "metadata": {},
     "output_type": "execute_result"
    }
   ],
   "source": [
    "ptr_model.model"
   ]
  },
  {
   "cell_type": "code",
   "execution_count": null,
   "metadata": {},
   "outputs": [
    {
     "ename": "Exception",
     "evalue": "Input model must have a UID not <class 'syft.service.model.model.Model'>",
     "output_type": "error",
     "traceback": [
      "\u001b[0;31m---------------------------------------------------------------------------\u001b[0m",
      "\u001b[0;31mException\u001b[0m                                 Traceback (most recent call last)",
      "\u001b[1;32m/home/teo/OpenMined/PySyft/notebooks/model_auditing/level_0-inference.ipynb Cell 15\u001b[0m in \u001b[0;36m1\n\u001b[0;32m----> <a href='vscode-notebook-cell:/home/teo/OpenMined/PySyft/notebooks/model_auditing/level_0-inference.ipynb#X21sZmlsZQ%3D%3D?line=0'>1</a>\u001b[0m \u001b[39m@sy\u001b[39m\u001b[39m.\u001b[39msyft_function(input_policy\u001b[39m=\u001b[39msy\u001b[39m.\u001b[39;49mExactMatch(model\u001b[39m=\u001b[39;49mptr_model))\n\u001b[1;32m      <a href='vscode-notebook-cell:/home/teo/OpenMined/PySyft/notebooks/model_auditing/level_0-inference.ipynb#X21sZmlsZQ%3D%3D?line=1'>2</a>\u001b[0m \u001b[39mdef\u001b[39;00m \u001b[39mfunc\u001b[39m(model):\n\u001b[1;32m      <a href='vscode-notebook-cell:/home/teo/OpenMined/PySyft/notebooks/model_auditing/level_0-inference.ipynb#X21sZmlsZQ%3D%3D?line=2'>3</a>\u001b[0m     \u001b[39mprint\u001b[39m(text_gen_model_interface)\n",
      "File \u001b[0;32m~/OpenMined/PySyft/packages/syft/src/syft/service/policy/policy.py:179\u001b[0m, in \u001b[0;36mInputPolicy.__init__\u001b[0;34m(self, *args, **kwargs)\u001b[0m\n\u001b[1;32m    176\u001b[0m     \u001b[39mdel\u001b[39;00m kwargs[\u001b[39m\"\u001b[39m\u001b[39minit_kwargs\u001b[39m\u001b[39m\"\u001b[39m]\n\u001b[1;32m    177\u001b[0m \u001b[39melse\u001b[39;00m:\n\u001b[1;32m    178\u001b[0m     \u001b[39m# TODO: remove this tech debt\u001b[39;00m\n\u001b[0;32m--> 179\u001b[0m     init_kwargs \u001b[39m=\u001b[39m partition_by_node(kwargs)\n\u001b[1;32m    180\u001b[0m \u001b[39msuper\u001b[39m()\u001b[39m.\u001b[39m\u001b[39m__init__\u001b[39m(\u001b[39m*\u001b[39margs, init_kwargs\u001b[39m=\u001b[39minit_kwargs, \u001b[39m*\u001b[39m\u001b[39m*\u001b[39mkwargs)\n",
      "File \u001b[0;32m~/OpenMined/PySyft/packages/syft/src/syft/service/policy/policy.py:149\u001b[0m, in \u001b[0;36mpartition_by_node\u001b[0;34m(kwargs)\u001b[0m\n\u001b[1;32m    146\u001b[0m     uid \u001b[39m=\u001b[39m v\u001b[39m.\u001b[39maction_id\n\u001b[1;32m    148\u001b[0m \u001b[39mif\u001b[39;00m \u001b[39mnot\u001b[39;00m \u001b[39misinstance\u001b[39m(uid, UID):\n\u001b[0;32m--> 149\u001b[0m     \u001b[39mraise\u001b[39;00m \u001b[39mException\u001b[39;00m(\u001b[39mf\u001b[39m\u001b[39m\"\u001b[39m\u001b[39mInput \u001b[39m\u001b[39m{\u001b[39;00mk\u001b[39m}\u001b[39;00m\u001b[39m must have a UID not \u001b[39m\u001b[39m{\u001b[39;00m\u001b[39mtype\u001b[39m(v)\u001b[39m}\u001b[39;00m\u001b[39m\"\u001b[39m)\n\u001b[1;32m    151\u001b[0m _obj_exists \u001b[39m=\u001b[39m \u001b[39mFalse\u001b[39;00m\n\u001b[1;32m    152\u001b[0m \u001b[39mfor\u001b[39;00m api \u001b[39min\u001b[39;00m api_list:\n",
      "\u001b[0;31mException\u001b[0m: Input model must have a UID not <class 'syft.service.model.model.Model'>"
     ]
    }
   ],
   "source": [
    "@sy.syft_function(input_policy=sy.ExactMatch(model=ptr_model))\n",
    "def func(model):\n",
    "    print(text_gen_model_interface)"
   ]
  }
 ],
 "metadata": {
  "kernelspec": {
   "display_name": "PySyft",
   "language": "python",
   "name": "python3"
  },
  "language_info": {
   "codemirror_mode": {
    "name": "ipython",
    "version": 3
   },
   "file_extension": ".py",
   "mimetype": "text/x-python",
   "name": "python",
   "nbconvert_exporter": "python",
   "pygments_lexer": "ipython3",
   "version": "3.10.4"
  },
  "orig_nbformat": 4
 },
 "nbformat": 4,
 "nbformat_minor": 2
}
