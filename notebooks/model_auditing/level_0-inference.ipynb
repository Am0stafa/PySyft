{
 "cells": [
  {
   "cell_type": "code",
   "execution_count": 1,
   "metadata": {},
   "outputs": [
    {
     "name": "stderr",
     "output_type": "stream",
     "text": [
      "kj/filesystem-disk-unix.c++:1703: warning: PWD environment variable doesn't match current directory; pwd = /home/teo/OpenMined/PySyft\n",
      "/home/teo/anaconda3/envs/PySyft/lib/python3.10/site-packages/scipy/__init__.py:146: UserWarning: A NumPy version >=1.16.5 and <1.23.0 is required for this version of SciPy (detected version 1.24.2\n",
      "  warnings.warn(f\"A NumPy version >={np_minversion} and <{np_maxversion}\"\n",
      "2023-05-17 15:47:58.990555: E tensorflow/stream_executor/cuda/cuda_blas.cc:2981] Unable to register cuBLAS factory: Attempting to register factory for plugin cuBLAS when one has already been registered\n",
      "2023-05-17 15:47:59.474072: W tensorflow/stream_executor/platform/default/dso_loader.cc:64] Could not load dynamic library 'libnvinfer.so.7'; dlerror: libnvrtc.so.11.1: cannot open shared object file: No such file or directory; LD_LIBRARY_PATH: /usr/local/cuda-11.5/lib64:/usr/local/cuda-11.5/lib64:\n",
      "2023-05-17 15:47:59.474204: W tensorflow/stream_executor/platform/default/dso_loader.cc:64] Could not load dynamic library 'libnvinfer_plugin.so.7'; dlerror: libnvrtc.so.11.1: cannot open shared object file: No such file or directory; LD_LIBRARY_PATH: /usr/local/cuda-11.5/lib64:/usr/local/cuda-11.5/lib64:\n",
      "2023-05-17 15:47:59.474210: W tensorflow/compiler/tf2tensorrt/utils/py_utils.cc:38] TF-TRT Warning: Cannot dlopen some TensorRT libraries. If you would like to use Nvidia GPU with TensorRT, please make sure the missing libraries mentioned above are installed properly.\n"
     ]
    },
    {
     "name": "stdout",
     "output_type": "stream",
     "text": [
      "✅ The installed version of syft==0.8.1b2 matches the requirement >=0.8 and the requirement <0.8.1\n"
     ]
    }
   ],
   "source": [
    "import syft as sy\n",
    "sy.requires(\">=0.8,<0.8.1\")\n",
    "from syft import autocache"
   ]
  },
  {
   "cell_type": "code",
   "execution_count": 2,
   "metadata": {},
   "outputs": [],
   "source": [
    "worker = sy.Worker(name=\"test-domain-1\")\n",
    "node = worker.root_client\n",
    "domain_client = node.login(email=\"info@openmined.org\", password=\"changethis\")"
   ]
  },
  {
   "cell_type": "code",
   "execution_count": 3,
   "metadata": {},
   "outputs": [],
   "source": [
    "from transformers import pipeline, AutoTokenizer\n",
    "from syft.service.action.model import ModelObject\n",
    "\n",
    "text_generation = pipeline(\"text-generation\", model=\"gpt2\")\n",
    "tokenizer = AutoTokenizer.from_pretrained(\"gpt2\")\n"
   ]
  },
  {
   "cell_type": "code",
   "execution_count": 4,
   "metadata": {},
   "outputs": [
    {
     "data": {
      "text/plain": [
       "transformers.pipelines.text_generation.TextGenerationPipeline"
      ]
     },
     "execution_count": 4,
     "metadata": {},
     "output_type": "execute_result"
    }
   ],
   "source": [
    "type(text_generation)"
   ]
  },
  {
   "cell_type": "code",
   "execution_count": 5,
   "metadata": {},
   "outputs": [],
   "source": [
    "from transformers.models.gpt2.tokenization_gpt2_fast import GPT2TokenizerFast"
   ]
  },
  {
   "cell_type": "code",
   "execution_count": 6,
   "metadata": {},
   "outputs": [],
   "source": [
    "from syft.service.action.action_object import AnyActionObject\n",
    "obj_text_generation = ModelObject(syft_action_data=text_generation)\n",
    "obj_tokenizer = ModelObject(syft_action_data=tokenizer)\n",
    "# obj_text_generation = sy.ActionObject.from_obj(text_generation)\n"
   ]
  },
  {
   "cell_type": "code",
   "execution_count": 35,
   "metadata": {},
   "outputs": [
    {
     "ename": "AttributeError",
     "evalue": "'SyftClient' object has no attribute 'send'",
     "output_type": "error",
     "traceback": [
      "\u001b[0;31m---------------------------------------------------------------------------\u001b[0m",
      "\u001b[0;31mAttributeError\u001b[0m                            Traceback (most recent call last)",
      "\u001b[1;32m/home/teo/OpenMined/PySyft/notebooks/model_auditing/level_0-inference.ipynb Cell 7\u001b[0m in \u001b[0;36m9\n\u001b[1;32m      <a href='vscode-notebook-cell:/home/teo/OpenMined/PySyft/notebooks/model_auditing/level_0-inference.ipynb#X10sZmlsZQ%3D%3D?line=1'>2</a>\u001b[0m dummy_contributor \u001b[39m=\u001b[39m sy\n\u001b[1;32m      <a href='vscode-notebook-cell:/home/teo/OpenMined/PySyft/notebooks/model_auditing/level_0-inference.ipynb#X10sZmlsZQ%3D%3D?line=3'>4</a>\u001b[0m text_gen_model \u001b[39m=\u001b[39m Model(\n\u001b[1;32m      <a href='vscode-notebook-cell:/home/teo/OpenMined/PySyft/notebooks/model_auditing/level_0-inference.ipynb#X10sZmlsZQ%3D%3D?line=4'>5</a>\u001b[0m         name\u001b[39m=\u001b[39m\u001b[39m'\u001b[39m\u001b[39mtest gen gpt2\u001b[39m\u001b[39m'\u001b[39m, \n\u001b[1;32m      <a href='vscode-notebook-cell:/home/teo/OpenMined/PySyft/notebooks/model_auditing/level_0-inference.ipynb#X10sZmlsZQ%3D%3D?line=5'>6</a>\u001b[0m         action_id\u001b[39m=\u001b[39mobj_text_generation\u001b[39m.\u001b[39mid, \n\u001b[1;32m      <a href='vscode-notebook-cell:/home/teo/OpenMined/PySyft/notebooks/model_auditing/level_0-inference.ipynb#X10sZmlsZQ%3D%3D?line=6'>7</a>\u001b[0m         node_uid\u001b[39m=\u001b[39mdomain_client\u001b[39m.\u001b[39mid\n\u001b[1;32m      <a href='vscode-notebook-cell:/home/teo/OpenMined/PySyft/notebooks/model_auditing/level_0-inference.ipynb#X10sZmlsZQ%3D%3D?line=7'>8</a>\u001b[0m     )\n\u001b[0;32m----> <a href='vscode-notebook-cell:/home/teo/OpenMined/PySyft/notebooks/model_auditing/level_0-inference.ipynb#X10sZmlsZQ%3D%3D?line=8'>9</a>\u001b[0m domain_client\u001b[39m.\u001b[39;49msend(text_gen_model)\n\u001b[1;32m     <a href='vscode-notebook-cell:/home/teo/OpenMined/PySyft/notebooks/model_auditing/level_0-inference.ipynb#X10sZmlsZQ%3D%3D?line=9'>10</a>\u001b[0m text_gen_model_interface \u001b[39m=\u001b[39m CreateModelInterface(\n\u001b[1;32m     <a href='vscode-notebook-cell:/home/teo/OpenMined/PySyft/notebooks/model_auditing/level_0-inference.ipynb#X10sZmlsZQ%3D%3D?line=10'>11</a>\u001b[0m     name\u001b[39m=\u001b[39m\u001b[39m'\u001b[39m\u001b[39mtest gen gpt2\u001b[39m\u001b[39m'\u001b[39m,\n\u001b[1;32m     <a href='vscode-notebook-cell:/home/teo/OpenMined/PySyft/notebooks/model_auditing/level_0-inference.ipynb#X10sZmlsZQ%3D%3D?line=11'>12</a>\u001b[0m     model_list\u001b[39m=\u001b[39m[text_gen_model],\n\u001b[1;32m     <a href='vscode-notebook-cell:/home/teo/OpenMined/PySyft/notebooks/model_auditing/level_0-inference.ipynb#X10sZmlsZQ%3D%3D?line=12'>13</a>\u001b[0m     current_index\u001b[39m=\u001b[39m\u001b[39m0\u001b[39m,\n\u001b[1;32m     <a href='vscode-notebook-cell:/home/teo/OpenMined/PySyft/notebooks/model_auditing/level_0-inference.ipynb#X10sZmlsZQ%3D%3D?line=13'>14</a>\u001b[0m )\n",
      "\u001b[0;31mAttributeError\u001b[0m: 'SyftClient' object has no attribute 'send'"
     ]
    }
   ],
   "source": [
    "from syft.service.model.model import Model, CreateModelInterface\n",
    "dummy_contributor = sy\n",
    "\n",
    "text_gen_model = Model(\n",
    "        name='test gen gpt2', \n",
    "        action_id=obj_text_generation.id, \n",
    "        node_uid=domain_client.id\n",
    "    )\n",
    "text_gen_model_interface = CreateModelInterface(\n",
    "    name='test gen gpt2',\n",
    "    model_list=[text_gen_model],\n",
    "    current_index=0,\n",
    ")\n"
   ]
  },
  {
   "cell_type": "code",
   "execution_count": 8,
   "metadata": {},
   "outputs": [
    {
     "data": {
      "text/markdown": [
       "```python\n",
       "Model: test gen gpt2\n",
       "Pointer Id: 366969dc417e48d4b930ae84d54c6941\n",
       "Description: None\n",
       "Contributors: 0\n",
       "\n",
       "```"
      ],
      "text/plain": [
       "syft.service.model.model.Model"
      ]
     },
     "execution_count": 8,
     "metadata": {},
     "output_type": "execute_result"
    }
   ],
   "source": [
    "text_gen_model"
   ]
  },
  {
   "cell_type": "code",
   "execution_count": 9,
   "metadata": {},
   "outputs": [
    {
     "data": {
      "text/markdown": [
       "```python\n",
       "Syft Model Interface: test gen gpt2\n",
       "Models:\n",
       "\ttest gen gpt2: None\n",
       "\n",
       "```"
      ],
      "text/plain": [
       "syft.service.model.model.CreateModelInterface"
      ]
     },
     "execution_count": 9,
     "metadata": {},
     "output_type": "execute_result"
    }
   ],
   "source": [
    "text_gen_model_interface"
   ]
  },
  {
   "cell_type": "code",
   "execution_count": 10,
   "metadata": {},
   "outputs": [],
   "source": [
    "res = domain_client.api.services.model_interface.add(text_gen_model_interface)"
   ]
  },
  {
   "cell_type": "code",
   "execution_count": 12,
   "metadata": {},
   "outputs": [
    {
     "data": {
      "text/html": [
       "<div class=\"alert-success\" style=\"padding:5px;\"><strong>SyftSuccess</strong>: Model Interface Added</div><br />"
      ],
      "text/plain": [
       "<class 'syft.service.response.SyftSuccess'>: Model Interface Added"
      ]
     },
     "execution_count": 12,
     "metadata": {},
     "output_type": "execute_result"
    }
   ],
   "source": [
    "res"
   ]
  },
  {
   "cell_type": "code",
   "execution_count": 11,
   "metadata": {},
   "outputs": [
    {
     "data": {
      "text/markdown": [
       "```python\n",
       "Syft Model Interface: test gen gpt2\n",
       "Models:\n",
       "\ttest gen gpt2: None\n",
       "\n",
       "```"
      ],
      "text/plain": [
       "syft.service.model.model.ModelInterface"
      ]
     },
     "execution_count": 11,
     "metadata": {},
     "output_type": "execute_result"
    }
   ],
   "source": [
    "from syft.service.model.model import ModelInterface\n",
    "text_gen_model_interface.to(ModelInterface)"
   ]
  },
  {
   "cell_type": "code",
   "execution_count": 15,
   "metadata": {},
   "outputs": [],
   "source": [
    "models = domain_client.api.services.model_interface.get_all()"
   ]
  },
  {
   "cell_type": "code",
   "execution_count": 27,
   "metadata": {},
   "outputs": [],
   "source": [
    "ptr_model = models[0].get_current_model()"
   ]
  },
  {
   "cell_type": "code",
   "execution_count": 33,
   "metadata": {},
   "outputs": [
    {
     "data": {
      "text/plain": [
       "<UID: 366969dc417e48d4b930ae84d54c6941>"
      ]
     },
     "execution_count": 33,
     "metadata": {},
     "output_type": "execute_result"
    }
   ],
   "source": [
    "ptr_model.action_id"
   ]
  },
  {
   "cell_type": "code",
   "execution_count": 31,
   "metadata": {},
   "outputs": [
    {
     "data": {
      "text/plain": [
       "'Could not find item with uid 366969dc417e48d4b930ae84d54c6941, <UID: 366969dc417e48d4b930ae84d54c6941>'"
      ]
     },
     "execution_count": 31,
     "metadata": {},
     "output_type": "execute_result"
    }
   ],
   "source": [
    "ptr_model.model"
   ]
  },
  {
   "cell_type": "code",
   "execution_count": 22,
   "metadata": {},
   "outputs": [
    {
     "ename": "Exception",
     "evalue": "Input model must have a UID not <class 'syft.service.model.model.Model'>",
     "output_type": "error",
     "traceback": [
      "\u001b[0;31m---------------------------------------------------------------------------\u001b[0m",
      "\u001b[0;31mException\u001b[0m                                 Traceback (most recent call last)",
      "\u001b[1;32m/home/teo/OpenMined/PySyft/notebooks/model_auditing/level_0-inference.ipynb Cell 15\u001b[0m in \u001b[0;36m1\n\u001b[0;32m----> <a href='vscode-notebook-cell:/home/teo/OpenMined/PySyft/notebooks/model_auditing/level_0-inference.ipynb#X21sZmlsZQ%3D%3D?line=0'>1</a>\u001b[0m \u001b[39m@sy\u001b[39m\u001b[39m.\u001b[39msyft_function(input_policy\u001b[39m=\u001b[39msy\u001b[39m.\u001b[39;49mExactMatch(model\u001b[39m=\u001b[39;49mptr_model))\n\u001b[1;32m      <a href='vscode-notebook-cell:/home/teo/OpenMined/PySyft/notebooks/model_auditing/level_0-inference.ipynb#X21sZmlsZQ%3D%3D?line=1'>2</a>\u001b[0m \u001b[39mdef\u001b[39;00m \u001b[39mfunc\u001b[39m(model):\n\u001b[1;32m      <a href='vscode-notebook-cell:/home/teo/OpenMined/PySyft/notebooks/model_auditing/level_0-inference.ipynb#X21sZmlsZQ%3D%3D?line=2'>3</a>\u001b[0m     \u001b[39mprint\u001b[39m(text_gen_model_interface)\n",
      "File \u001b[0;32m~/OpenMined/PySyft/packages/syft/src/syft/service/policy/policy.py:179\u001b[0m, in \u001b[0;36mInputPolicy.__init__\u001b[0;34m(self, *args, **kwargs)\u001b[0m\n\u001b[1;32m    176\u001b[0m     \u001b[39mdel\u001b[39;00m kwargs[\u001b[39m\"\u001b[39m\u001b[39minit_kwargs\u001b[39m\u001b[39m\"\u001b[39m]\n\u001b[1;32m    177\u001b[0m \u001b[39melse\u001b[39;00m:\n\u001b[1;32m    178\u001b[0m     \u001b[39m# TODO: remove this tech debt\u001b[39;00m\n\u001b[0;32m--> 179\u001b[0m     init_kwargs \u001b[39m=\u001b[39m partition_by_node(kwargs)\n\u001b[1;32m    180\u001b[0m \u001b[39msuper\u001b[39m()\u001b[39m.\u001b[39m\u001b[39m__init__\u001b[39m(\u001b[39m*\u001b[39margs, init_kwargs\u001b[39m=\u001b[39minit_kwargs, \u001b[39m*\u001b[39m\u001b[39m*\u001b[39mkwargs)\n",
      "File \u001b[0;32m~/OpenMined/PySyft/packages/syft/src/syft/service/policy/policy.py:149\u001b[0m, in \u001b[0;36mpartition_by_node\u001b[0;34m(kwargs)\u001b[0m\n\u001b[1;32m    146\u001b[0m     uid \u001b[39m=\u001b[39m v\u001b[39m.\u001b[39maction_id\n\u001b[1;32m    148\u001b[0m \u001b[39mif\u001b[39;00m \u001b[39mnot\u001b[39;00m \u001b[39misinstance\u001b[39m(uid, UID):\n\u001b[0;32m--> 149\u001b[0m     \u001b[39mraise\u001b[39;00m \u001b[39mException\u001b[39;00m(\u001b[39mf\u001b[39m\u001b[39m\"\u001b[39m\u001b[39mInput \u001b[39m\u001b[39m{\u001b[39;00mk\u001b[39m}\u001b[39;00m\u001b[39m must have a UID not \u001b[39m\u001b[39m{\u001b[39;00m\u001b[39mtype\u001b[39m(v)\u001b[39m}\u001b[39;00m\u001b[39m\"\u001b[39m)\n\u001b[1;32m    151\u001b[0m _obj_exists \u001b[39m=\u001b[39m \u001b[39mFalse\u001b[39;00m\n\u001b[1;32m    152\u001b[0m \u001b[39mfor\u001b[39;00m api \u001b[39min\u001b[39;00m api_list:\n",
      "\u001b[0;31mException\u001b[0m: Input model must have a UID not <class 'syft.service.model.model.Model'>"
     ]
    }
   ],
   "source": [
    "@sy.syft_function(input_policy=sy.ExactMatch(model=ptr_model))\n",
    "def func(model):\n",
    "    print(text_gen_model_interface)"
   ]
  }
 ],
 "metadata": {
  "kernelspec": {
   "display_name": "PySyft",
   "language": "python",
   "name": "python3"
  },
  "language_info": {
   "codemirror_mode": {
    "name": "ipython",
    "version": 3
   },
   "file_extension": ".py",
   "mimetype": "text/x-python",
   "name": "python",
   "nbconvert_exporter": "python",
   "pygments_lexer": "ipython3",
   "version": "3.10.4"
  },
  "orig_nbformat": 4
 },
 "nbformat": 4,
 "nbformat_minor": 2
}
