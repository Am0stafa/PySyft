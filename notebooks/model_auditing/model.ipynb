{
 "cells": [
  {
   "cell_type": "code",
   "execution_count": 3,
   "metadata": {},
   "outputs": [],
   "source": [
    "import syft as sy"
   ]
  },
  {
   "cell_type": "code",
   "execution_count": 8,
   "metadata": {},
   "outputs": [],
   "source": [
    "worker = sy.Worker(name='test')\n",
    "root_client = worker.root_client"
   ]
  },
  {
   "cell_type": "code",
   "execution_count": 19,
   "metadata": {},
   "outputs": [
    {
     "ename": "AttributeError",
     "evalue": "module 'syft' has no attribute 'serialize'",
     "output_type": "error",
     "traceback": [
      "\u001b[0;31m---------------------------------------------------------------------------\u001b[0m",
      "\u001b[0;31mAttributeError\u001b[0m                            Traceback (most recent call last)",
      "Cell \u001b[0;32mIn[19], line 1\u001b[0m\n\u001b[0;32m----> 1\u001b[0m root_client\u001b[39m.\u001b[39;49mapi\u001b[39m.\u001b[39;49mservices\u001b[39m.\u001b[39;49mdataset\u001b[39m.\u001b[39;49mget_all()\n",
      "File \u001b[0;32m~/OpenMined/PySyft/packages/syft/src/syft/client/api.py:207\u001b[0m, in \u001b[0;36mgenerate_remote_function.<locals>.wrapper\u001b[0;34m(*args, **kwargs)\u001b[0m\n\u001b[1;32m    198\u001b[0m     _valid_kwargs\u001b[39m.\u001b[39mupdate(pre_kwargs)\n\u001b[1;32m    200\u001b[0m api_call \u001b[39m=\u001b[39m SyftAPICall(\n\u001b[1;32m    201\u001b[0m     node_uid\u001b[39m=\u001b[39mnode_uid,\n\u001b[1;32m    202\u001b[0m     path\u001b[39m=\u001b[39mpath,\n\u001b[0;32m   (...)\u001b[0m\n\u001b[1;32m    205\u001b[0m     blocking\u001b[39m=\u001b[39mblocking,\n\u001b[1;32m    206\u001b[0m )\n\u001b[0;32m--> 207\u001b[0m result \u001b[39m=\u001b[39m make_call(api_call\u001b[39m=\u001b[39;49mapi_call)\n\u001b[1;32m    208\u001b[0m \u001b[39mreturn\u001b[39;00m result\n",
      "File \u001b[0;32m~/OpenMined/PySyft/packages/syft/src/syft/client/api.py:426\u001b[0m, in \u001b[0;36mSyftAPI.make_call\u001b[0;34m(self, api_call)\u001b[0m\n\u001b[1;32m    425\u001b[0m \u001b[39mdef\u001b[39;00m \u001b[39mmake_call\u001b[39m(\u001b[39mself\u001b[39m, api_call: SyftAPICall) \u001b[39m-\u001b[39m\u001b[39m>\u001b[39m Result:\n\u001b[0;32m--> 426\u001b[0m     signed_call \u001b[39m=\u001b[39m api_call\u001b[39m.\u001b[39;49msign(credentials\u001b[39m=\u001b[39;49m\u001b[39mself\u001b[39;49m\u001b[39m.\u001b[39;49msigning_key)\n\u001b[1;32m    427\u001b[0m     signed_result \u001b[39m=\u001b[39m \u001b[39mself\u001b[39m\u001b[39m.\u001b[39mconnection\u001b[39m.\u001b[39mmake_call(signed_call)\n\u001b[1;32m    429\u001b[0m     \u001b[39mif\u001b[39;00m \u001b[39mnot\u001b[39;00m \u001b[39misinstance\u001b[39m(signed_result, SignedSyftAPICall):\n",
      "File \u001b[0;32m~/OpenMined/PySyft/packages/syft/src/syft/client/api.py:144\u001b[0m, in \u001b[0;36mSyftAPICall.sign\u001b[0;34m(self, credentials)\u001b[0m\n\u001b[1;32m    143\u001b[0m \u001b[39mdef\u001b[39;00m \u001b[39msign\u001b[39m(\u001b[39mself\u001b[39m, credentials: SyftSigningKey) \u001b[39m-\u001b[39m\u001b[39m>\u001b[39m SignedSyftAPICall:\n\u001b[0;32m--> 144\u001b[0m     signed_message \u001b[39m=\u001b[39m credentials\u001b[39m.\u001b[39msigning_key\u001b[39m.\u001b[39msign(_serialize(\u001b[39mself\u001b[39;49m, to_bytes\u001b[39m=\u001b[39;49m\u001b[39mTrue\u001b[39;49;00m))\n\u001b[1;32m    146\u001b[0m     \u001b[39mreturn\u001b[39;00m SignedSyftAPICall(\n\u001b[1;32m    147\u001b[0m         credentials\u001b[39m=\u001b[39mcredentials\u001b[39m.\u001b[39mverify_key,\n\u001b[1;32m    148\u001b[0m         serialized_message\u001b[39m=\u001b[39msigned_message\u001b[39m.\u001b[39mmessage,\n\u001b[1;32m    149\u001b[0m         signature\u001b[39m=\u001b[39msigned_message\u001b[39m.\u001b[39msignature,\n\u001b[1;32m    150\u001b[0m     )\n",
      "File \u001b[0;32m~/OpenMined/PySyft/packages/syft/src/syft/serde/serialize.py:13\u001b[0m, in \u001b[0;36m_serialize\u001b[0;34m(obj, to_proto, to_bytes)\u001b[0m\n\u001b[1;32m      5\u001b[0m \u001b[39mdef\u001b[39;00m \u001b[39m_serialize\u001b[39m(\n\u001b[1;32m      6\u001b[0m     obj: \u001b[39mobject\u001b[39m,\n\u001b[1;32m      7\u001b[0m     to_proto: \u001b[39mbool\u001b[39m \u001b[39m=\u001b[39m \u001b[39mTrue\u001b[39;00m,\n\u001b[1;32m      8\u001b[0m     to_bytes: \u001b[39mbool\u001b[39m \u001b[39m=\u001b[39m \u001b[39mFalse\u001b[39;00m,\n\u001b[1;32m      9\u001b[0m ) \u001b[39m-\u001b[39m\u001b[39m>\u001b[39m Any:\n\u001b[1;32m     10\u001b[0m     \u001b[39m# relative\u001b[39;00m\n\u001b[1;32m     11\u001b[0m     \u001b[39mfrom\u001b[39;00m \u001b[39m.\u001b[39;00m\u001b[39mrecursive\u001b[39;00m \u001b[39mimport\u001b[39;00m rs_object2proto\n\u001b[0;32m---> 13\u001b[0m     proto \u001b[39m=\u001b[39m rs_object2proto(obj)\n\u001b[1;32m     15\u001b[0m     \u001b[39mif\u001b[39;00m to_bytes:\n\u001b[1;32m     16\u001b[0m         \u001b[39mreturn\u001b[39;00m proto\u001b[39m.\u001b[39mto_bytes()\n",
      "File \u001b[0;32m~/OpenMined/PySyft/packages/syft/src/syft/serde/recursive.py:171\u001b[0m, in \u001b[0;36mrs_object2proto\u001b[0;34m(self)\u001b[0m\n\u001b[1;32m    168\u001b[0m \u001b[39mif\u001b[39;00m \u001b[39misinstance\u001b[39m(field_obj, types\u001b[39m.\u001b[39mFunctionType):\n\u001b[1;32m    169\u001b[0m     \u001b[39mcontinue\u001b[39;00m\n\u001b[0;32m--> 171\u001b[0m serialized \u001b[39m=\u001b[39m sy\u001b[39m.\u001b[39;49mserialize(field_obj, to_bytes\u001b[39m=\u001b[39m\u001b[39mTrue\u001b[39;00m)\n\u001b[1;32m    172\u001b[0m msg\u001b[39m.\u001b[39mfieldsName[idx] \u001b[39m=\u001b[39m attr_name\n\u001b[1;32m    173\u001b[0m chunk_bytes(serialized, idx, msg\u001b[39m.\u001b[39mfieldsData)\n",
      "\u001b[0;31mAttributeError\u001b[0m: module 'syft' has no attribute 'serialize'"
     ]
    }
   ],
   "source": [
    "root_client.api.services.dataset.get_all()"
   ]
  }
 ],
 "metadata": {
  "kernelspec": {
   "display_name": "PySyft2",
   "language": "python",
   "name": "python3"
  },
  "language_info": {
   "codemirror_mode": {
    "name": "ipython",
    "version": 3
   },
   "file_extension": ".py",
   "mimetype": "text/x-python",
   "name": "python",
   "nbconvert_exporter": "python",
   "pygments_lexer": "ipython3",
   "version": "3.10.11"
  },
  "orig_nbformat": 4
 },
 "nbformat": 4,
 "nbformat_minor": 2
}
