{
 "cells": [
  {
   "attachments": {},
   "cell_type": "markdown",
   "id": "943989eb",
   "metadata": {},
   "source": [
    "# GCP Bridge"
   ]
  },
  {
   "attachments": {},
   "cell_type": "markdown",
   "id": "be34b2f8",
   "metadata": {},
   "source": [
    "## Setup"
   ]
  },
  {
   "cell_type": "code",
   "execution_count": 1,
   "id": "70877e23-bd5d-4d6d-bcdd-9dfa671ce12f",
   "metadata": {},
   "outputs": [
    {
     "name": "stdout",
     "output_type": "stream",
     "text": [
      "Note: you may need to restart the kernel to use updated packages.\n"
     ]
    }
   ],
   "source": [
    "SYFT_VERSION = \">=0.8.2.b0,<0.9\"\n",
    "package_string = f'\"syft{SYFT_VERSION}\"'\n",
    "%pip install {package_string} -f https://whls.blob.core.windows.net/unstable/index.html -q"
   ]
  },
  {
   "cell_type": "code",
   "execution_count": 2,
   "id": "5640eeca-9111-4f9e-b733-b4fa198c8b5d",
   "metadata": {},
   "outputs": [
    {
     "name": "stderr",
     "output_type": "stream",
     "text": [
      "kj/filesystem-disk-unix.c++:1703: warning: PWD environment variable doesn't match current directory; pwd = /\n"
     ]
    },
    {
     "name": "stdout",
     "output_type": "stream",
     "text": [
      "✅ The installed version of syft==0.8.2b9 matches the requirement >=0.8.2b0 and the requirement <0.9\n"
     ]
    }
   ],
   "source": [
    "import json\n",
    "import syft as sy\n",
    "sy.requires(SYFT_VERSION)"
   ]
  },
  {
   "cell_type": "code",
   "execution_count": 3,
   "id": "65c5c3d8-bd19-49aa-a670-07c5d7f0c456",
   "metadata": {},
   "outputs": [
    {
     "name": "stdout",
     "output_type": "stream",
     "text": [
      "Starting blue-book server on 0.0.0.0:45176\n"
     ]
    },
    {
     "name": "stderr",
     "output_type": "stream",
     "text": [
      "kj/filesystem-disk-unix.c++:1703: warning: PWD environment variable doesn't match current directory; pwd = /\n"
     ]
    },
    {
     "name": "stdout",
     "output_type": "stream",
     "text": [
      "Waiting for server to start.\n",
      "WARNING: private key is based on node name: blue-book in dev_mode. Don't run this in production.\n",
      ".SQLite Store Path:\n",
      "!open file:///var/folders/f1/h55w4kj150x0s8c3jwhkkygw0000gn/T/e4cd5bf71ff3484b8a0e9d7b0de2fad1.sqlite\n",
      "\n",
      ".INFO:     127.0.0.1:51273 - \"GET /api/v2/metadata HTTP/1.1\" 200 OK\n",
      " Done.\n"
     ]
    },
    {
     "name": "stderr",
     "output_type": "stream",
     "text": [
      "INFO:     Started server process [91033]\n",
      "INFO:     Waiting for application startup.\n",
      "INFO:     Application startup complete.\n",
      "INFO:     Uvicorn running on http://0.0.0.0:45176 (Press CTRL+C to quit)\n"
     ]
    }
   ],
   "source": [
    "node = sy.orchestra.launch(name=\"blue-book\", port=\"auto\", dev_mode=True, reset=True)"
   ]
  },
  {
   "cell_type": "code",
   "execution_count": 4,
   "id": "2c439c77-9eb5-42ef-8e3a-7ba34357609a",
   "metadata": {},
   "outputs": [
    {
     "data": {
      "text/html": [
       "<div class=\"alert-warning\" style=\"padding:5px;\"><strong>SyftWarning</strong>: You are using a default password. Please change the password using `[your_client].me.set_password([new_password])`.</div><br />"
      ],
      "text/plain": [
       "SyftWarning: You are using a default password. Please change the password using `[your_client].me.set_password([new_password])`."
      ]
     },
     "metadata": {},
     "output_type": "display_data"
    },
    {
     "name": "stdout",
     "output_type": "stream",
     "text": [
      "INFO:     127.0.0.1:51274 - \"GET /api/v2/metadata HTTP/1.1\" 200 OK\n",
      "INFO:     127.0.0.1:51274 - \"GET /api/v2/metadata HTTP/1.1\" 200 OK\n",
      "INFO:     127.0.0.1:51274 - \"POST /api/v2/login HTTP/1.1\" 200 OK\n",
      "INFO:     127.0.0.1:51274 - \"GET /api/v2/types?verify_key=8ca7d1f9b2967b2b2c6155cd51e61ae8617e51e5e2658ab27af27faab51e6be6 HTTP/1.1\" 200 OK\n",
      "INFO:     127.0.0.1:51274 - \"GET /api/v2/api?verify_key=8ca7d1f9b2967b2b2c6155cd51e61ae8617e51e5e2658ab27af27faab51e6be6 HTTP/1.1\" 200 OK\n",
      "Logged into <blue-book: High side Domain> as <info@openmined.org>\n"
     ]
    }
   ],
   "source": [
    "domain_client = node.login(email=\"info@openmined.org\", password=\"changethis\")"
   ]
  },
  {
   "attachments": {},
   "cell_type": "markdown",
   "id": "c7f30fde",
   "metadata": {},
   "source": [
    "## Varible names from external setup"
   ]
  },
  {
   "cell_type": "code",
   "execution_count": 5,
   "id": "bf9d1de4",
   "metadata": {},
   "outputs": [],
   "source": [
    "project_name = \"try-cloud-sql-160605\"\n",
    "# gcp_region = \"europe-central2\"\n",
    "# gcp_zone = \"europe-central2-b\"\n",
    "gcp_bucket_name = \"supercoolbucketayy\"\n",
    "gcp_key_path = \"~/.config/gcloud/application_default_credentials.json\"\n",
    "\n",
    "# project_name = \"cloud-244414\"\n",
    "gcp_region = \"us-central1\"\n",
    "gcp_zone = \"us-central1-a\"\n",
    "# gcp_bucket_name = \"user-bucket-madhava-test-1\"\n",
    "# gcp_key_path = \"~/Downloads/cloud-244414-2de2cb945f62.json\""
   ]
  },
  {
   "attachments": {},
   "cell_type": "markdown",
   "id": "113536ca-d780-4b9e-9244-7ab233cb4d89",
   "metadata": {},
   "source": [
    "## Add Sky Pilot Container"
   ]
  },
  {
   "cell_type": "code",
   "execution_count": 6,
   "id": "bafc4223-b6d0-4c6f-9faa-1956e1fe87be",
   "metadata": {},
   "outputs": [],
   "source": [
    "skypilot_cli_dockerfile = f\"\"\"\n",
    "FROM python:3.9-slim\n",
    "\n",
    "ENV GOOGLE_APPLICATION_CREDENTIALS=/tmp/key.json\n",
    "\n",
    "RUN apt-get update && apt-get upgrade -y\n",
    "RUN apt-get update && \\\n",
    "    apt-get install -y --no-install-recommends \\\n",
    "    curl python3-dev gcc make build-essential cmake git rsync ssh\n",
    "\n",
    "RUN pip install -U pip skypilot[gcp]==0.3.3\n",
    "RUN pip install google-api-python-client\n",
    "RUN curl https://sdk.cloud.google.com | bash -s -- --disable-prompts\n",
    "RUN ln -s /root/google-cloud-sdk/bin/gcloud /usr/local/bin\n",
    "RUN mkdir -p /root/.sky\n",
    "RUN touch /root/.sky/ssh_config\n",
    "RUN mkdir -p /root/.ssh\n",
    "RUN ln -s /root/.sky/ssh_config /root/.ssh/config\n",
    "RUN echo '#!/bin/bash' >> /start.sh\n",
    "RUN echo 'echo $PATH' >> /start.sh\n",
    "RUN echo 'gcloud --version' >> /start.sh\n",
    "RUN echo 'sky --version' >> /start.sh\n",
    "RUN echo 'gcloud auth activate-service-account --key-file=$GOOGLE_APPLICATION_CREDENTIALS' >> /start.sh\n",
    "RUN echo 'gcloud config set project {project_name}' >> /start.sh\n",
    "RUN echo 'sky check' >> /start.sh\n",
    "\"\"\""
   ]
  },
  {
   "cell_type": "code",
   "execution_count": 7,
   "id": "3d3d8ef5-80e2-43e4-909b-35a423f4a4ac",
   "metadata": {},
   "outputs": [],
   "source": [
    "volumes = [\n",
    "    sy.ContainerVolume(\n",
    "        name=\"skypilot_data\",\n",
    "        internal_mountpath=\"/root/.sky\",\n",
    "        mode=\"rw\"\n",
    "    ),\n",
    "    # sy.ContainerVolume(\n",
    "    #     name=\"skypilot_keys\",\n",
    "    #     internal_mountpath=\"/root/.ssh\",\n",
    "    #     mode=\"rw\"\n",
    "    # )\n",
    "]"
   ]
  },
  {
   "cell_type": "code",
   "execution_count": 8,
   "id": "3ab38a7c-2572-401a-be41-d30c9bc8dd03",
   "metadata": {},
   "outputs": [
    {
     "name": "stdout",
     "output_type": "stream",
     "text": [
      "INFO:     127.0.0.1:51277 - \"POST /api/v2/api_call HTTP/1.1\" 200 OK\n"
     ]
    },
    {
     "data": {
      "text/html": [
       "<div class=\"alert-success\" style=\"padding:5px;\"><strong>SyftSuccess</strong>: ContainerImage added: syft.service.container.container.ContainerImage</div><br />"
      ],
      "text/plain": [
       "SyftSuccess: ContainerImage added: syft.service.container.container.ContainerImage"
      ]
     },
     "execution_count": 8,
     "metadata": {},
     "output_type": "execute_result"
    }
   ],
   "source": [
    "result = domain_client.api.services.container.add_image(\n",
    "    name=\"skypilot\",\n",
    "    tag=\"skypilot:latest\",\n",
    "    dockerfile=skypilot_cli_dockerfile,\n",
    "    volumes=volumes,\n",
    ")\n",
    "result"
   ]
  },
  {
   "cell_type": "code",
   "execution_count": 9,
   "id": "8681c05e-5782-473d-afdf-8ee288dfe35e",
   "metadata": {},
   "outputs": [
    {
     "name": "stdout",
     "output_type": "stream",
     "text": [
      "INFO:     127.0.0.1:51278 - \"POST /api/v2/api_call HTTP/1.1\" 200 OK\n"
     ]
    },
    {
     "data": {
      "text/html": [
       "\n",
       "<style>\n",
       "  .header-1 {\n",
       "        font-style: normal;\n",
       "        font-weight: 600;\n",
       "        font-size: 2.0736em;\n",
       "        line-height: 100%;\n",
       "        leading-trim: both;\n",
       "        text-edge: cap;\n",
       "        color: #17161D;\n",
       "    }\n",
       "\n",
       "  .header-2 {\n",
       "        font-style: normal;\n",
       "        font-weight: 600;\n",
       "        font-size: 1.728em;\n",
       "        line-height: 100%;\n",
       "        leading-trim: both;\n",
       "        text-edge: cap;\n",
       "        color: #17161D;\n",
       "    }\n",
       "\n",
       "  .header-3 {\n",
       "        font-style: normal;\n",
       "        font-weight: 600;\n",
       "        font-size:  1.44em;\n",
       "        line-height: 100%;\n",
       "        leading-trim: both;\n",
       "        text-edge: cap;\n",
       "        color: #17161D;\n",
       "    }\n",
       "\n",
       "  .header-4 {\n",
       "        font-style: normal;\n",
       "        font-weight: 600;\n",
       "        font-size: 1.2em;\n",
       "        line-height: 100%;\n",
       "        leading-trim: both;\n",
       "        text-edge: cap;\n",
       "        color: #17161D;\n",
       "    }\n",
       "\n",
       "    .paragraph {\n",
       "        font-style: normal;\n",
       "        font-weight: 400;\n",
       "        font-size: 14px;\n",
       "        line-height: 100%;\n",
       "        leading-trim: both;\n",
       "        text-edge: cap;\n",
       "        color: #2E2B3B;\n",
       "    }\n",
       "\n",
       "    .paragraph-sm {\n",
       "        font-family: 'Roboto';\n",
       "        font-style: normal;\n",
       "        font-weight: 400;\n",
       "        font-size: 11.62px;\n",
       "        line-height: 100%;\n",
       "        leading-trim: both;\n",
       "        text-edge: cap;\n",
       "        color: #2E2B3B;\n",
       "    }\n",
       "    .code-text {\n",
       "        font-family: 'Consolas';\n",
       "        font-style: normal;\n",
       "        font-weight: 400;\n",
       "        font-size: 13px;\n",
       "        line-height: 130%;\n",
       "        leading-trim: both;\n",
       "        text-edge: cap;\n",
       "        color: #2E2B3B;\n",
       "    }\n",
       "\n",
       "    .numbering-entry { display: none }\n",
       "\n",
       "    /* Tooltip container */\n",
       "    .tooltip {\n",
       "        position: relative;\n",
       "        display: inline-block;\n",
       "        border-bottom: 1px dotted black; /* If you want dots under the hoverable text */\n",
       "    }\n",
       "\n",
       "    /* Tooltip text */\n",
       "    .tooltip .tooltiptext {\n",
       "        visibility: hidden;\n",
       "        width: 120px;\n",
       "        background-color: black;\n",
       "        color: #fff;\n",
       "        text-align: center;\n",
       "        padding: 5px 0;\n",
       "        border-radius: 6px;\n",
       "\n",
       "        /* Position the tooltip text - see examples below! */\n",
       "        position: absolute;\n",
       "        z-index: 1;\n",
       "    }\n",
       "\n",
       "    .repr-cell {\n",
       "      padding-top: 20px;\n",
       "    }\n",
       "\n",
       "    .text-bold {\n",
       "        font-weight: bold;\n",
       "    }\n",
       "\n",
       "    .pr-8 {\n",
       "        padding-right: 8px;\n",
       "    }\n",
       "    .pt-8 {\n",
       "        padding-top: 8px;\n",
       "    }\n",
       "    .pl-8 {\n",
       "        padding-left: 8px;\n",
       "    }\n",
       "    .pb-8 {\n",
       "        padding-bottom: 8px;\n",
       "    }\n",
       "\n",
       "    .py-25{\n",
       "        padding-top: 25px;\n",
       "        padding-bottom: 25px;\n",
       "    }\n",
       "\n",
       "    .flex {\n",
       "        display: flex;\n",
       "    }\n",
       "\n",
       "    .gap-10 {\n",
       "        gap: 10px;\n",
       "    }\n",
       "    .items-center{\n",
       "        align-items: center;\n",
       "    }\n",
       "\n",
       "    .search-input{\n",
       "        display: flex;\n",
       "        flex-direction: row;\n",
       "        align-items: center;\n",
       "        padding: 8px 12px;\n",
       "        width: 343px;\n",
       "        height: 24px;\n",
       "        /* Lt On Surface/Low */\n",
       "        background: #F1F0F4;\n",
       "        border-radius: 30px;\n",
       "\n",
       "        /* Lt On Surface/Highest */\n",
       "        color: #B4B0BF;\n",
       "        border:none;\n",
       "        /* Inside auto layout */\n",
       "        flex: none;\n",
       "        order: 0;\n",
       "        flex-grow: 0;\n",
       "    }\n",
       "    .search-input:focus {\n",
       "        outline: none;\n",
       "    }\n",
       "\n",
       "    .search-button{\n",
       "        /* Search */\n",
       "        leading-trim: both;\n",
       "        text-edge: cap;\n",
       "        display: flex;\n",
       "        align-items: center;\n",
       "        text-align: center;\n",
       "\n",
       "        /* Primary/On Light */\n",
       "        color: #464A91;\n",
       "\n",
       "        border-radius: 30px;\n",
       "        border-color: #464A91;\n",
       "        /* Inside auto layout */\n",
       "        flex: none;\n",
       "        order: 1;\n",
       "        flex-grow: 0;\n",
       "    }\n",
       "\n",
       "    .grid-table76177ba1a862483d991b6a503039994e {\n",
       "        display:grid;\n",
       "        grid-template-columns: 1fr repeat(12, 1fr);\n",
       "        grid-template-rows: repeat(2, 1fr);\n",
       "        overflow-x: auto;\n",
       "    }\n",
       "\n",
       "    .grid-std-cells {\n",
       "        grid-column: span 4;\n",
       "\n",
       "    }\n",
       "    .grid-index-cells {\n",
       "        grid-column: span 1;\n",
       "        background: #ECEBEF;\n",
       "        /* tmp fix to make left col stand out (fix with font-family) */\n",
       "        font-weight: 600;\n",
       "    }\n",
       "\n",
       "    .grid-header {\n",
       "        /* Auto layout */\n",
       "        display: flex;\n",
       "        flex-direction: column;\n",
       "        align-items: flex-start;\n",
       "        padding: 6px 4px;\n",
       "\n",
       "        /* Lt On Surface/Surface */\n",
       "        background: #ECEBEF;\n",
       "        /* Lt On Surface/High */\n",
       "        border: 1px solid #CFCDD6;\n",
       "        color: #2E2B3B;\n",
       "        /* tmp fix to make header stand out (fix with font-family) */\n",
       "        font-weight: 600;\n",
       "    }\n",
       "\n",
       "    .grid-row {\n",
       "        color: #5E5A72;\n",
       "        display: flex;\n",
       "        flex-direction: column;\n",
       "        align-items: flex-start;\n",
       "        padding: 6px 4px;\n",
       "        overflow: hidden;\n",
       "        border: 1px solid #CFCDD6;\n",
       "    }\n",
       "\n",
       "    .badge {\n",
       "        code-text;\n",
       "        border-radius: 30px;\n",
       "    }\n",
       "\n",
       "    .badge-blue {\n",
       "        badge;\n",
       "        background-color: #C2DEF0;\n",
       "        color: #1F567A;\n",
       "    }\n",
       "\n",
       "    .badge-purple {\n",
       "        badge;\n",
       "        background-color: #C9CFE8;\n",
       "        color: #373B7B;\n",
       "    }\n",
       "\n",
       "    .badge-green {\n",
       "        badge;\n",
       "\n",
       "        /* Success/Container */\n",
       "        background-color: #D5F1D5;\n",
       "        color: #256B24;\n",
       "    }\n",
       "\n",
       "    .badge-red {\n",
       "        badge;\n",
       "        background-color: #F2D9DE;\n",
       "        color: #9B2737;\n",
       "    }\n",
       "\n",
       "    .badge-gray {\n",
       "        badge;\n",
       "        background-color: #ECEBEF;\n",
       "        color: #2E2B3B;\n",
       "    }\n",
       "    .paginationContainer{\n",
       "        width: 100%;\n",
       "        height: 30px;\n",
       "        display: flex;\n",
       "        justify-content: center;\n",
       "        gap: 8px;\n",
       "        padding: 5px;\n",
       "    }\n",
       "\n",
       "    .page{\n",
       "        color: black;\n",
       "        font-weight: bold;\n",
       "    }\n",
       "    .page:hover {\n",
       "      color: #38bdf8;\n",
       "      cursor: pointer;\n",
       "    }\n",
       "    .clipboard:hover{\n",
       "        cursor: pointer;\n",
       "    }\n",
       "\n",
       "    .search-field {\n",
       "        display: flex;\n",
       "        align-items: center;\n",
       "        background: #F1F0F4;\n",
       "        border-radius: 30px;\n",
       "    }\n",
       "\n",
       "    .syft-dropdown {\n",
       "        margin: 5px;\n",
       "        margin-left: 5px;\n",
       "        position: relative;\n",
       "        display: inline-block;\n",
       "        text-align: center;\n",
       "        background-color: #d1d5db;\n",
       "        min-width: 100px;\n",
       "        padding: 2px;\n",
       "        border-radius: 30px;\n",
       "    }\n",
       "\n",
       "    .syft-dropdown:hover {\n",
       "        cursor: pointer;\n",
       "    }\n",
       "    .syft-dropdown-content {\n",
       "        margin-top:26px;\n",
       "        display: none;\n",
       "        position: absolute;\n",
       "        background-color: #f9f9f9;\n",
       "        min-width: 100px;\n",
       "        box-shadow: 0px 8px 16px 0px rgba(0,0,0,0.2);\n",
       "        padding: 12px 6px;\n",
       "        z-index: 1;\n",
       "    }\n",
       "    .dd-options {\n",
       "        padding-top: 4px;\n",
       "    }\n",
       "    .dd-options:first-of-type {\n",
       "        padding-top: 0px;\n",
       "    }\n",
       "\n",
       "    .dd-options:hover {\n",
       "        cursor: pointer;\n",
       "        background: #d1d5db;\n",
       "    }\n",
       "    .arrow {\n",
       "        border: solid black;\n",
       "        border-width: 0 3px 3px 0;\n",
       "        display: inline-block;\n",
       "        padding: 3px;\n",
       "    }\n",
       "    .down {\n",
       "        transform: rotate(45deg);\n",
       "        -webkit-transform: rotate(45deg);\n",
       "    }\n",
       "</style>\n",
       "\n",
       "\n",
       "    <div style='margin-top:15px;'>\n",
       "        <div class='flex gap-10' style='align-items: center;'>\n",
       "            <div><svg width=\"32\" height=\"32\" viewBox=\"0 0 32 32\" fill=\"none\" xmlns=\"http://www.w3.org/2000/svg\"> <path d=\"M28 6H4C3.73478 6 3.48043 6.10536 3.29289 6.29289C3.10536 6.48043 3 6.73478 3 7V24C3 24.5304 3.21071 25.0391 3.58579 25.4142C3.96086 25.7893 4.46957 26 5 26H27C27.5304 26 28.0391 25.7893 28.4142 25.4142C28.7893 25.0391 29 24.5304 29 24V7C29 6.73478 28.8946 6.48043 28.7071 6.29289C28.5196 6.10536 28.2652 6 28 6ZM5 14H10V18H5V14ZM12 14H27V18H12V14ZM27 8V12H5V8H27ZM5 20H10V24H5V20ZM27 24H12V20H27V24Z\" fill=\"#343330\"/></svg></div>\n",
       "            <div><p class='header-3'>ContainerImage List</p></div>\n",
       "        </div>\n",
       "\n",
       "            <div style=\"padding-top: 16px; display:flex;justify-content: space-between; align-items: center;\">\n",
       "                <div class='pt-25 gap-10' style=\"display:flex;\">\n",
       "                    <div class=\"search-field\">\n",
       "                        <div id='search-menu76177ba1a862483d991b6a503039994e' class=\"syft-dropdown\" onclick=\"{\n",
       "                            let doc = document.getElementById('search-dropdown-content76177ba1a862483d991b6a503039994e')\n",
       "                            if (doc.style.display === 'block'){\n",
       "                                doc.style.display = 'none'\n",
       "                            } else {\n",
       "                                doc.style.display = 'block'\n",
       "                            }\n",
       "                            }\">\n",
       "                            <div id='search-dropdown-content76177ba1a862483d991b6a503039994e' class='syft-dropdown-content'></div>\n",
       "                            <script>\n",
       "                                var element76177ba1a862483d991b6a503039994e = [{\"id\": {\"value\": \"6dcad2d28a7e4ac48744306b01ce938b\", \"type\": \"clipboard\"}, \"name\": \"skypilot\", \"tag\": \"skypilot:latest\"}]\n",
       "                                var page_size76177ba1a862483d991b6a503039994e = 1\n",
       "                                var pageIndex76177ba1a862483d991b6a503039994e = 1\n",
       "                                var paginatedElements76177ba1a862483d991b6a503039994e = []\n",
       "                                var activeFilter76177ba1a862483d991b6a503039994e;\n",
       "\n",
       "                                function buildDropDownMenu(elements){\n",
       "                                    let init_filter;\n",
       "                                    let menu = document.getElementById('search-dropdown-content76177ba1a862483d991b6a503039994e')\n",
       "                                    if (elements.length > 0) {\n",
       "                                        let sample = elements[0]\n",
       "                                        for (const attr in sample) {\n",
       "                                            if (typeof init_filter === 'undefined'){\n",
       "                                                init_filter = attr;\n",
       "                                            }\n",
       "                                            let content = document.createElement('div');\n",
       "                                            content.onclick = function(event) {\n",
       "                                                event.stopPropagation()\n",
       "                                                document.getElementById('menu-active-filter76177ba1a862483d991b6a503039994e').innerText = attr;\n",
       "                                                activeFilter76177ba1a862483d991b6a503039994e = attr;\n",
       "                                                document.getElementById(\n",
       "                                                    'search-dropdown-content76177ba1a862483d991b6a503039994e'\n",
       "                                                ).style.display= 'none';\n",
       "                                            }\n",
       "                                            content.classList.add(\"dd-options\");\n",
       "                                            content.innerText = attr;\n",
       "                                            menu.appendChild(content);\n",
       "                                        }\n",
       "                                    } else {\n",
       "                                        let init_filter = '---'\n",
       "                                    }\n",
       "                                    let dropdown_field = document.getElementById('search-menu76177ba1a862483d991b6a503039994e')\n",
       "                                    let span = document.createElement('span')\n",
       "                                    span.setAttribute('id', 'menu-active-filter76177ba1a862483d991b6a503039994e')\n",
       "                                    span.innerText = init_filter\n",
       "                                    activeFilter76177ba1a862483d991b6a503039994e = init_filter;\n",
       "                                    dropdown_field.appendChild(span)\n",
       "                                }\n",
       "\n",
       "                                buildDropDownMenu(element76177ba1a862483d991b6a503039994e)\n",
       "                            </script>\n",
       "                        </div>\n",
       "                        <input id='searchKey76177ba1a862483d991b6a503039994e' class='search-input' placeholder='Enter search here ...'  />\n",
       "                    </div>\n",
       "                    <button class='search-button'  onclick=\"searchGrid76177ba1a862483d991b6a503039994e(element76177ba1a862483d991b6a503039994e)\">\n",
       "                        <svg width=\"11\" height=\"10\" viewBox=\"0 0 11 10\" fill=\"none\" xmlns=\"http://www.w3.org/2000/svg\"><path d=\"M10.5652 9.23467L8.21819 6.88811C8.89846 6.07141 9.23767 5.02389 9.16527 3.96345C9.09287 2.90302 8.61443 1.91132 7.82948 1.19466C7.04453 0.477995 6.01349 0.0915414 4.95087 0.115691C3.88824 0.139841 2.87583 0.572735 2.12425 1.32432C1.37266 2.0759 0.939768 3.08831 0.915618 4.15094C0.891468 5.21357 1.27792 6.2446 1.99459 7.02955C2.71125 7.8145 3.70295 8.29294 4.76338 8.36535C5.82381 8.43775 6.87134 8.09853 7.68804 7.41827L10.0346 9.7653C10.0694 9.80014 10.1108 9.82778 10.1563 9.84663C10.2018 9.86549 10.2506 9.87519 10.2999 9.87519C10.3492 9.87519 10.398 9.86549 10.4435 9.84663C10.489 9.82778 10.5304 9.80014 10.5652 9.7653C10.6001 9.73046 10.6277 9.68909 10.6466 9.64357C10.6654 9.59805 10.6751 9.54926 10.6751 9.49998C10.6751 9.45071 10.6654 9.40192 10.6466 9.3564C10.6277 9.31088 10.6001 9.26951 10.5652 9.23467ZM1.67491 4.24998C1.67491 3.58247 1.87285 2.92995 2.2437 2.37493C2.61455 1.81992 3.14165 1.38734 3.75835 1.13189C4.37506 0.876446 5.05366 0.809609 5.70834 0.939835C6.36303 1.07006 6.96439 1.3915 7.4364 1.8635C7.9084 2.3355 8.22984 2.93687 8.36006 3.59155C8.49029 4.24624 8.42345 4.92484 8.168 5.54154C7.91256 6.15824 7.47998 6.68535 6.92496 7.05619C6.36995 7.42704 5.71742 7.62498 5.04991 7.62498C4.15511 7.62399 3.29724 7.26809 2.66452 6.63537C2.0318 6.00265 1.6759 5.14479 1.67491 4.24998Z\" fill=\"#464A91\"/></svg>\n",
       "                        <span class='pl-8'>Search</span>\n",
       "                    </button>\n",
       "                </div>\n",
       "\n",
       "                <div><h4 id='total76177ba1a862483d991b6a503039994e'>0</h4></div>\n",
       "            </div>\n",
       "            <div id='table76177ba1a862483d991b6a503039994e' class='grid-table76177ba1a862483d991b6a503039994e' style='margin-top: 25px;'>\n",
       "                <script>\n",
       "                    function paginate76177ba1a862483d991b6a503039994e(arr, size) {\n",
       "                        const res = [];\n",
       "                        for (let i = 0; i < arr.length; i += size) {\n",
       "                            const chunk = arr.slice(i, i + size);\n",
       "                            res.push(chunk);\n",
       "                        }\n",
       "\n",
       "                        return res;\n",
       "                    }\n",
       "\n",
       "                    function searchGrid76177ba1a862483d991b6a503039994e(elements){\n",
       "                        let searchKey = document.getElementById('searchKey76177ba1a862483d991b6a503039994e').value\n",
       "                        console.log(\"Search Key: \", searchKey)\n",
       "                        let result;\n",
       "                        if (searchKey === ''){\n",
       "                            result = elements;\n",
       "                        } else {\n",
       "                            result = elements.filter((element) => {\n",
       "                                let property = element[activeFilter76177ba1a862483d991b6a503039994e]\n",
       "                                if (typeof property === 'object' && property !== null){\n",
       "                                    return property.value.toLowerCase().includes(searchKey.toLowerCase());\n",
       "                                } else if (typeof property === 'string' ) {\n",
       "                                    return element[activeFilter76177ba1a862483d991b6a503039994e].toLowerCase().includes(searchKey.toLowerCase());\n",
       "                                } else if (property !== null ) {\n",
       "                                    return element[activeFilter76177ba1a862483d991b6a503039994e].toString() === searchKey;\n",
       "                                } else {\n",
       "                                    return element[activeFilter76177ba1a862483d991b6a503039994e] === searchKey;\n",
       "                                }\n",
       "                            } );\n",
       "                        }\n",
       "                        resetById76177ba1a862483d991b6a503039994e('table76177ba1a862483d991b6a503039994e');\n",
       "                        resetById76177ba1a862483d991b6a503039994e('pag76177ba1a862483d991b6a503039994e');\n",
       "                        result = paginate76177ba1a862483d991b6a503039994e(result, page_size76177ba1a862483d991b6a503039994e)\n",
       "                        buildGrid76177ba1a862483d991b6a503039994e(result,pageIndex76177ba1a862483d991b6a503039994e);\n",
       "                        buildPaginationContainer76177ba1a862483d991b6a503039994e(result);\n",
       "                    }\n",
       "\n",
       "                    function resetById76177ba1a862483d991b6a503039994e(id){\n",
       "                        let element = document.getElementById(id);\n",
       "                        while (element.firstChild) {\n",
       "                          element.removeChild(element.firstChild);\n",
       "                        }\n",
       "                    }\n",
       "\n",
       "                    function buildGrid76177ba1a862483d991b6a503039994e(items, pageIndex){\n",
       "                                let headers = Object.keys(element76177ba1a862483d991b6a503039994e[0]);\n",
       "\n",
       "                                let grid = document.getElementById(\"table76177ba1a862483d991b6a503039994e\");\n",
       "                                let div = document.createElement(\"div\");\n",
       "                                div.classList.add('grid-header', 'grid-index-cells');\n",
       "                                grid.appendChild(div);\n",
       "                                headers.forEach((title) =>{\n",
       "                                    let div = document.createElement(\"div\");\n",
       "                                    div.classList.add('grid-header', 'grid-std-cells');\n",
       "                                    div.innerText = title;\n",
       "\n",
       "                                    grid.appendChild(div);\n",
       "                                });\n",
       "\n",
       "                                let page = items[pageIndex -1]\n",
       "                                if (page !== 'undefine'){\n",
       "                                    let table_index76177ba1a862483d991b6a503039994e = ((pageIndex - 1) * page_size76177ba1a862483d991b6a503039994e)\n",
       "                                    page.forEach((item) => {\n",
       "                                        let grid = document.getElementById(\"table76177ba1a862483d991b6a503039994e\");\n",
       "                                        // Add new index value in index cells\n",
       "                                        let divIndex = document.createElement(\"div\");\n",
       "                                        divIndex.classList.add('grid-row', 'grid-index-cells');\n",
       "                                        divIndex.innerText = table_index76177ba1a862483d991b6a503039994e;\n",
       "                                        grid.appendChild(divIndex);\n",
       "\n",
       "                                        // Iterate over the actual obj\n",
       "                                        for (const attr in item) {\n",
       "                                            let div = document.createElement(\"div\");\n",
       "                                            if (typeof item[attr] === 'object'\n",
       "                                                && item[attr] !== null\n",
       "                                                && item[attr].hasOwnProperty('type')) {\n",
       "                                                if (item[attr].type.includes('badge')){\n",
       "                                                    let badge_div = document.createElement(\"div\");\n",
       "                                                    badge_div.classList.add('badge',item[attr].type)\n",
       "                                                    badge_div.innerText = String(item[attr].value).toUpperCase();\n",
       "                                                    div.appendChild(badge_div);\n",
       "                                                    div.classList.add('grid-row','grid-std-cells');\n",
       "                                                } else if (item[attr].type === \"clipboard\") {\n",
       "                                                    div.classList.add('grid-row','grid-std-cells');\n",
       "\n",
       "                                                    // Create clipboard div\n",
       "                                                    let clipboard_div = document.createElement('div');\n",
       "                                                    clipboard_div.style.display= 'flex';\n",
       "                                                    clipboard_div.classList.add(\"gap-10\")\n",
       "                                                    clipboard_div.style.justifyContent = \"space-between\";\n",
       "\n",
       "                                                    let id_text = document.createElement('div');\n",
       "                                                    if (item[attr].value == \"None\"){\n",
       "                                                        id_text.innerText = \"None\";\n",
       "                                                    }\n",
       "                                                    else{\n",
       "                                                        id_text.innerText = item[attr].value.slice(0,5) + \"...\";\n",
       "                                                    }\n",
       "\n",
       "                                                    clipboard_div.appendChild(id_text);\n",
       "                                                    let clipboard_img = document.createElement('div');\n",
       "                                                    clipboard_img.classList.add(\"clipboard\")\n",
       "                                                    div.onclick = function() {\n",
       "                                                        navigator.clipboard.writeText(item[attr].value);\n",
       "                                                    };\n",
       "                                                    clipboard_img.innerHTML = \"<svg width='8' height='8' viewBox='0 0 8 8' fill='none' xmlns='http://www.w3.org/2000/svg'><path d='M7.4375 0.25H2.4375C2.35462 0.25 2.27513 0.282924 2.21653 0.341529C2.15792 0.400134 2.125 0.47962 2.125 0.5625V2.125H0.5625C0.47962 2.125 0.400134 2.15792 0.341529 2.21653C0.282924 2.27513 0.25 2.35462 0.25 2.4375V7.4375C0.25 7.52038 0.282924 7.59987 0.341529 7.65847C0.400134 7.71708 0.47962 7.75 0.5625 7.75H5.5625C5.64538 7.75 5.72487 7.71708 5.78347 7.65847C5.84208 7.59987 5.875 7.52038 5.875 7.4375V5.875H7.4375C7.52038 5.875 7.59987 5.84208 7.65847 5.78347C7.71708 5.72487 7.75 5.64538 7.75 5.5625V0.5625C7.75 0.47962 7.71708 0.400134 7.65847 0.341529C7.59987 0.282924 7.52038 0.25 7.4375 0.25ZM5.25 7.125H0.875V2.75H5.25V7.125ZM7.125 5.25H5.875V2.4375C5.875 2.35462 5.84208 2.27513 5.78347 2.21653C5.72487 2.15792 5.64538 2.125 5.5625 2.125H2.75V0.875H7.125V5.25Z' fill='#464158'/></svg>\";\n",
       "\n",
       "                                                    clipboard_div.appendChild(clipboard_img);\n",
       "                                                    div.appendChild(clipboard_div);\n",
       "                                                }\n",
       "                                            } else{\n",
       "                                                div.classList.add('grid-row','grid-std-cells');\n",
       "                                                if (item[attr] == null) {\n",
       "                                                    text = ' '\n",
       "                                                } else {\n",
       "                                                    text = String(item[attr])\n",
       "                                                }\n",
       "                                                if (text.length > 150){\n",
       "                                                    text = text.slice(0,150) + \"...\";\n",
       "                                                }\n",
       "                                                text = text.replaceAll(\"\\n\", \"</br>\");\n",
       "                                                div.innerHTML = text;\n",
       "                                            }\n",
       "                                            grid.appendChild(div);\n",
       "                                        }\n",
       "                                    table_index76177ba1a862483d991b6a503039994e = table_index76177ba1a862483d991b6a503039994e + 1;\n",
       "                                    })\n",
       "                                }\n",
       "                    }\n",
       "                    paginatedElements76177ba1a862483d991b6a503039994e = paginate76177ba1a862483d991b6a503039994e(element76177ba1a862483d991b6a503039994e, page_size76177ba1a862483d991b6a503039994e)\n",
       "                    buildGrid76177ba1a862483d991b6a503039994e(paginatedElements76177ba1a862483d991b6a503039994e, 1)\n",
       "                    document.getElementById('total76177ba1a862483d991b6a503039994e').innerText = \"Total: \" + element76177ba1a862483d991b6a503039994e.length\n",
       "                </script>\n",
       "            </div>\n",
       "            <div id='pag76177ba1a862483d991b6a503039994e' class='paginationContainer'>\n",
       "                <script>\n",
       "                    function buildPaginationContainer76177ba1a862483d991b6a503039994e(paginatedElements){\n",
       "                            let pageContainer = document.getElementById(\"pag76177ba1a862483d991b6a503039994e\");\n",
       "                            for (let i = 0; i < paginatedElements.length; i++) {\n",
       "                                  let div = document.createElement(\"div\");\n",
       "                                  div.classList.add('page');\n",
       "                                  div.style.color = 'gray';\n",
       "                                  div.onclick = function(event) {\n",
       "                                      let indexes = document.getElementsByClassName('page');\n",
       "                                      for (let index of indexes) { index.style.color = 'gray' }\n",
       "                                      event.target.style.color = \"black\"\n",
       "                                      setPage76177ba1a862483d991b6a503039994e(i + 1);\n",
       "                                  };\n",
       "                                  div.innerText = i + 1;\n",
       "                                  pageContainer.appendChild(div);\n",
       "                            }\n",
       "                    }\n",
       "\n",
       "                    function setPage76177ba1a862483d991b6a503039994e(newPage){\n",
       "                        pageIndex = newPage\n",
       "                        resetById76177ba1a862483d991b6a503039994e('table76177ba1a862483d991b6a503039994e')\n",
       "                        buildGrid76177ba1a862483d991b6a503039994e(paginatedElements76177ba1a862483d991b6a503039994e, pageIndex)\n",
       "                    }\n",
       "\n",
       "                    buildPaginationContainer76177ba1a862483d991b6a503039994e(paginatedElements76177ba1a862483d991b6a503039994e)\n",
       "                </script>\n",
       "            </div>\n",
       "        </div>\n",
       "    </div>\n",
       "    </div>\n"
      ],
      "text/plain": [
       "[syft.service.container.container.ContainerImage]"
      ]
     },
     "execution_count": 9,
     "metadata": {},
     "output_type": "execute_result"
    }
   ],
   "source": [
    "result = domain_client.api.services.container.get_images()\n",
    "result"
   ]
  },
  {
   "attachments": {},
   "cell_type": "markdown",
   "id": "bca0b7d8-e981-4f7e-8d4f-ec548a6bcae5",
   "metadata": {},
   "source": [
    "## Build a Container"
   ]
  },
  {
   "cell_type": "code",
   "execution_count": 10,
   "id": "4ca00a39-dac2-42fb-a4dc-27d43bf6a5cc",
   "metadata": {},
   "outputs": [
    {
     "name": "stdout",
     "output_type": "stream",
     "text": [
      "INFO:     127.0.0.1:51279 - \"POST /api/v2/api_call HTTP/1.1\" 200 OK\n"
     ]
    }
   ],
   "source": [
    "result = domain_client.api.services.container.build_image(name=\"skypilot\")\n",
    "assert result"
   ]
  },
  {
   "attachments": {},
   "cell_type": "markdown",
   "id": "a74f36fb-9b6a-47dd-9aa5-25fdb64243f7",
   "metadata": {},
   "source": [
    "## Create a Container Command"
   ]
  },
  {
   "cell_type": "code",
   "execution_count": 11,
   "id": "9f02a352-6532-4e28-8c2a-808566e6d047",
   "metadata": {},
   "outputs": [],
   "source": [
    "cluster_launch_yaml_file = sy.SyftFile.from_string(content=f\"\"\"\n",
    "resources:\n",
    "  cloud: gcp\n",
    "  region: {gcp_region}\n",
    "  instance_type: n1-standard-8\n",
    "  zone: {gcp_zone}\n",
    "  accelerators: T4\n",
    "  disk_size: 100\n",
    "\n",
    "num_nodes: 1\n",
    "\n",
    "file_mounts:\n",
    "  /storage:\n",
    "    name: {gcp_bucket_name}\n",
    "    store: gcs\n",
    "    mode: MOUNT\n",
    "\n",
    "workdir: /sandbox\n",
    "\n",
    "setup: |\n",
    "  git clone https://github.com/madhavajay/axolotl\n",
    "  cd axolotl\n",
    "  git checkout madhava/add_direct_inference\n",
    "  pip install -e .\n",
    "\n",
    "  accelerate config --config_file configs/accelerate/default_config.yaml default\n",
    "\n",
    "  pip install bitsandbytes\n",
    "  pip install git+https://github.com/huggingface/transformers.git\n",
    "  pip install git+https://github.com/huggingface/peft.git\n",
    "  pip install git+https://github.com/huggingface/accelerate.git\n",
    "  pip install pytest\n",
    "\n",
    "  export WANDB_MODE=offline\n",
    "\n",
    "run: |\n",
    "  echo \"Done\"\n",
    "  \n",
    "\"\"\", filename=\"cluster_launch.yaml\")"
   ]
  },
  {
   "cell_type": "code",
   "execution_count": 12,
   "id": "5c16fd76-1231-4dd0-9421-90f3991c97f1",
   "metadata": {},
   "outputs": [],
   "source": [
    "# sky launch -n test-llm -c single-t4 -s deployment.yaml"
   ]
  },
  {
   "cell_type": "code",
   "execution_count": 13,
   "id": "5fc65bc7-33de-4620-b636-9afa8edab012",
   "metadata": {},
   "outputs": [],
   "source": [
    "name = sy.ContainerCommandKwarg(name=\"n\", hyphens=\"-\", equals=\" \", value=str, required=True)\n",
    "cluster = sy.ContainerCommandKwarg(name=\"c\", hyphens=\"-\", equals=\" \", value=str, required=True)\n",
    "dryrun = sy.ContainerCommandKwargBool(name=\"dryrun\", value=False, flag=True)\n",
    "yes = sy.ContainerCommandKwargBool(name=\"yes\", value=True, flag=True)\n",
    "detatch = sy.ContainerCommandKwargBool(name=\"detach-run\", value=True, flag=True)\n",
    "nosetup = sy.ContainerCommandKwargBool(name=\"no-setup\", value=False, flag=True)"
   ]
  },
  {
   "cell_type": "code",
   "execution_count": 14,
   "id": "2ccf5373-5819-48ab-bb6f-153c1166bee9",
   "metadata": {},
   "outputs": [],
   "source": [
    "upload = sy.ContainerUpload(arg_name=\"s\")\n",
    "file = sy.ContainerCommandKwarg(name=\"s\", hyphens=\"-\", equals=\" \", value=upload, required=True)"
   ]
  },
  {
   "cell_type": "code",
   "execution_count": 15,
   "id": "94f0a0d5-0ab2-4e79-ac4c-8998fca5dacf",
   "metadata": {},
   "outputs": [],
   "source": [
    "kwargs = {\n",
    "    \"n\": name,\n",
    "    \"c\": cluster,\n",
    "    \"s\": file,\n",
    "    \"dryrun\": dryrun,\n",
    "    \"yes\": yes,\n",
    "    \"detatch\":detatch,\n",
    "    \"no-setup\":nosetup\n",
    "}"
   ]
  },
  {
   "cell_type": "code",
   "execution_count": 16,
   "id": "35a187e0-e6e5-4294-adb8-dc7ba379b544",
   "metadata": {},
   "outputs": [
    {
     "data": {
      "text/markdown": [
       "```python\n",
       "class ContainerMount:\n",
       "  id: str = c4287ef54c0940b4ac81a93d6a39d872\n",
       "\n",
       "```"
      ],
      "text/plain": [
       "syft.service.container.container.ContainerMount"
      ]
     },
     "execution_count": 16,
     "metadata": {},
     "output_type": "execute_result"
    }
   ],
   "source": [
    "gcp_key = sy.ContainerMount(\n",
    "    internal_filepath=\"/tmp/key.json\",\n",
    "    file=sy.SyftFile.from_path(gcp_key_path)\n",
    ")\n",
    "gcp_key"
   ]
  },
  {
   "cell_type": "code",
   "execution_count": 17,
   "id": "64c2af46-6c20-46d6-9e93-53efbd9fc7ed",
   "metadata": {},
   "outputs": [
    {
     "data": {
      "text/markdown": [
       "```python\n",
       "class ContainerMount:\n",
       "  id: str = 3a8a05d35df84c7b8c58299dfde19972\n",
       "\n",
       "```"
      ],
      "text/plain": [
       "syft.service.container.container.ContainerMount"
      ]
     },
     "execution_count": 17,
     "metadata": {},
     "output_type": "execute_result"
    }
   ],
   "source": [
    "sky_private_key = sy.ContainerMount(\n",
    "    internal_filepath=\"/root/.ssh/sky-key\",\n",
    "    file=sy.SyftFile.from_path(\"~/.ssh/sky-key\"),\n",
    "    unix_permission=\"400\",\n",
    ")\n",
    "sky_private_key"
   ]
  },
  {
   "cell_type": "code",
   "execution_count": 18,
   "id": "070089f9-66e4-4136-8f8a-547777ae20a0",
   "metadata": {},
   "outputs": [
    {
     "data": {
      "text/markdown": [
       "```python\n",
       "class ContainerMount:\n",
       "  id: str = 1860552466584fe6ab249c95c537e9f4\n",
       "\n",
       "```"
      ],
      "text/plain": [
       "syft.service.container.container.ContainerMount"
      ]
     },
     "execution_count": 18,
     "metadata": {},
     "output_type": "execute_result"
    }
   ],
   "source": [
    "sky_public_key = sy.ContainerMount(\n",
    "    internal_filepath=\"/root/.ssh/sky-key.pub\",\n",
    "    file=sy.SyftFile.from_path(\"~/.ssh/sky-key.pub\")\n",
    ")\n",
    "sky_public_key"
   ]
  },
  {
   "cell_type": "code",
   "execution_count": 19,
   "id": "1f4307cf-cc11-4235-bc22-6c19ddb61183",
   "metadata": {},
   "outputs": [],
   "source": [
    "command = sy.ContainerCommand(\n",
    "    module_name=\"blue_book\",\n",
    "    name=\"launch\",\n",
    "    image_name=\"skypilot\",\n",
    "    command=\"sky\",\n",
    "    args=\"launch\",\n",
    "    kwargs=kwargs,\n",
    "    user_kwargs=[\"n\", \"c\", \"s\", \"dryrun\", \"no-setup\"],\n",
    "    mounts=[gcp_key, sky_private_key, sky_public_key]\n",
    ")"
   ]
  },
  {
   "cell_type": "code",
   "execution_count": 20,
   "id": "02fd6f29-4bec-4478-8a4c-2968344ffe74",
   "metadata": {},
   "outputs": [
    {
     "data": {
      "text/markdown": [
       "```python\n",
       "class ContainerCommand:\n",
       "  id: str = 708b1859a7244caa8c9ed7e495bd99fa\n",
       "  module_name: str = \"blue_book\"\n",
       "  name: str = \"launch\"\n",
       "  image_name: str = \"skypilot\"\n",
       "\n",
       "```"
      ],
      "text/plain": [
       "syft.service.container.container.ContainerCommand"
      ]
     },
     "execution_count": 20,
     "metadata": {},
     "output_type": "execute_result"
    }
   ],
   "source": [
    "command"
   ]
  },
  {
   "cell_type": "code",
   "execution_count": 21,
   "id": "886d6709-7c95-49f3-967c-49cf980be97e",
   "metadata": {},
   "outputs": [],
   "source": [
    "run_user_kwargs = {\n",
    "    \"n\": \"test-llm\",\n",
    "    \"c\": \"single-t4\",\n",
    "    \"dryrun\": True,\n",
    "    \"no-setup\": True,\n",
    "}"
   ]
  },
  {
   "cell_type": "code",
   "execution_count": 22,
   "id": "a4b71a6a-7963-4a2f-93b6-053b9f177cb0",
   "metadata": {},
   "outputs": [
    {
     "data": {
      "text/plain": [
       "'sky launch -n test-llm -c single-t4 -s /sandbox/cluster_launch.yaml --dryrun --yes --detach-run --no-setup'"
      ]
     },
     "execution_count": 22,
     "metadata": {},
     "output_type": "execute_result"
    }
   ],
   "source": [
    "command.cmd(run_user_kwargs=run_user_kwargs, run_files={\"s\": cluster_launch_yaml_file}, run_extra_kwargs={})"
   ]
  },
  {
   "cell_type": "code",
   "execution_count": 23,
   "id": "3f544f1e-c1b2-4f70-b3ac-2bcd0157e74d",
   "metadata": {},
   "outputs": [
    {
     "name": "stdout",
     "output_type": "stream",
     "text": [
      "INFO:     127.0.0.1:51280 - \"POST /api/v2/api_call HTTP/1.1\" 200 OK\n",
      "INFO:     127.0.0.1:51274 - \"GET /api/v2/types?verify_key=8ca7d1f9b2967b2b2c6155cd51e61ae8617e51e5e2658ab27af27faab51e6be6 HTTP/1.1\" 200 OK\n"
     ]
    },
    {
     "name": "stdout",
     "output_type": "stream",
     "text": [
      "INFO:     127.0.0.1:51274 - \"GET /api/v2/api?verify_key=8ca7d1f9b2967b2b2c6155cd51e61ae8617e51e5e2658ab27af27faab51e6be6 HTTP/1.1\" 200 OK\n"
     ]
    },
    {
     "data": {
      "text/html": [
       "<div class=\"alert-success\" style=\"padding:5px;\"><strong>ContainerCommandAdded</strong>: ContainerCommand added: syft.service.container.container.ContainerCommand</div><br />"
      ],
      "text/plain": [
       "ContainerCommandAdded: ContainerCommand added: syft.service.container.container.ContainerCommand"
      ]
     },
     "execution_count": 23,
     "metadata": {},
     "output_type": "execute_result"
    }
   ],
   "source": [
    "result = domain_client.api.services.container.add_command(command=command)\n",
    "result"
   ]
  },
  {
   "cell_type": "code",
   "execution_count": 24,
   "id": "41c9a1fe-b85e-4993-bd38-26463fe73878",
   "metadata": {},
   "outputs": [],
   "source": [
    "# result = domain_client.api.services.blue_book.launch(\n",
    "#     n=\"test-llm\",\n",
    "#     c=\"single-t4\",\n",
    "#     s=cluster_launch_yaml_file,\n",
    "#     dryrun=True\n",
    "# )\n",
    "# result"
   ]
  },
  {
   "cell_type": "code",
   "execution_count": 25,
   "id": "f7fa7358-9ae2-4949-9eb0-d7afb5e99afa",
   "metadata": {},
   "outputs": [
    {
     "name": "stdout",
     "output_type": "stream",
     "text": [
      "INFO:     127.0.0.1:51283 - \"POST /api/v2/api_call HTTP/1.1\" 200 OK\n"
     ]
    },
    {
     "data": {
      "text/html": [
       "<div class=\"alert-success\" style=\"padding:5px;\"><strong>SyftSuccess</strong>: Command Succeeded.</div><br />"
      ],
      "text/markdown": [
       "```python\n",
       "class ContainerResult:\n",
       "  id: str = 8479d64633244068a38450bd49ecb741\n",
       "\n",
       "```"
      ],
      "text/plain": [
       "syft.service.container.container.ContainerResult"
      ]
     },
     "execution_count": 25,
     "metadata": {},
     "output_type": "execute_result"
    }
   ],
   "source": [
    "result = domain_client.api.services.blue_book.launch(\n",
    "    n=\"test-llm\",\n",
    "    c=\"single-t4\",\n",
    "    s=cluster_launch_yaml_file,\n",
    "    dryrun=False,\n",
    "    no_setup=True,\n",
    ")\n",
    "result"
   ]
  },
  {
   "cell_type": "code",
   "execution_count": 26,
   "id": "b835782c-38db-427b-9416-f538f76a0b97",
   "metadata": {},
   "outputs": [
    {
     "data": {
      "text/plain": [
       "0"
      ]
     },
     "execution_count": 26,
     "metadata": {},
     "output_type": "execute_result"
    }
   ],
   "source": [
    "result.exit_code"
   ]
  },
  {
   "cell_type": "code",
   "execution_count": 27,
   "id": "3abb0025-f472-4ffa-b8c3-fea777b2bfc4",
   "metadata": {},
   "outputs": [
    {
     "data": {
      "text/html": [
       "[]"
      ],
      "text/plain": [
       "[]"
      ]
     },
     "execution_count": 27,
     "metadata": {},
     "output_type": "execute_result"
    }
   ],
   "source": [
    "result.stderr"
   ]
  },
  {
   "cell_type": "code",
   "execution_count": 28,
   "id": "e6428665-6de5-4ff0-9e86-eb86ec23dfd1",
   "metadata": {},
   "outputs": [
    {
     "name": "stdout",
     "output_type": "stream",
     "text": [
      "Task from YAML spec: /sandbox/cluster_launch.yaml\n",
      "sky.exceptions.ResourcesUnavailableError: Storage 'store: gcs' specified, but GCP access is disabled. To fix, enable GCP by running `sky check`. More info: https://skypilot.readthedocs.io/en/latest/getting-started/installation.html.\n"
     ]
    }
   ],
   "source": [
    "print('\\n'.join(result.stdout))"
   ]
  },
  {
   "cell_type": "code",
   "execution_count": 29,
   "id": "ec967c73-b9bb-468a-bcf5-97d7badae30b",
   "metadata": {},
   "outputs": [],
   "source": [
    "refresh = sy.ContainerCommandKwargBool(name=\"refresh\", value=True, flag=True)\n",
    "status_command = sy.ContainerCommand(\n",
    "    module_name=\"blue_book\",\n",
    "    name=\"status\",\n",
    "    image_name=\"skypilot\",\n",
    "    command=\"sky\",\n",
    "    args=\"status\",\n",
    "    kwargs={\"refresh\":refresh},\n",
    "    user_kwargs=[],\n",
    "    mounts=[gcp_key, sky_private_key, sky_public_key]\n",
    ")"
   ]
  },
  {
   "cell_type": "code",
   "execution_count": 30,
   "id": "dbc7921b-e2e2-4ec9-a6d3-695672999d7d",
   "metadata": {},
   "outputs": [
    {
     "name": "stdout",
     "output_type": "stream",
     "text": [
      "INFO:     127.0.0.1:51391 - \"POST /api/v2/api_call HTTP/1.1\" 200 OK\n",
      "INFO:     127.0.0.1:51392 - \"GET /api/v2/types?verify_key=8ca7d1f9b2967b2b2c6155cd51e61ae8617e51e5e2658ab27af27faab51e6be6 HTTP/1.1\" 200 OK\n",
      "INFO:     127.0.0.1:51392 - \"GET /api/v2/api?verify_key=8ca7d1f9b2967b2b2c6155cd51e61ae8617e51e5e2658ab27af27faab51e6be6 HTTP/1.1\" 200 OK\n"
     ]
    },
    {
     "data": {
      "text/html": [
       "<div class=\"alert-success\" style=\"padding:5px;\"><strong>ContainerCommandAdded</strong>: ContainerCommand added: syft.service.container.container.ContainerCommand</div><br />"
      ],
      "text/plain": [
       "ContainerCommandAdded: ContainerCommand added: syft.service.container.container.ContainerCommand"
      ]
     },
     "execution_count": 30,
     "metadata": {},
     "output_type": "execute_result"
    }
   ],
   "source": [
    "result = domain_client.api.services.container.add_command(command=status_command)\n",
    "result"
   ]
  },
  {
   "cell_type": "code",
   "execution_count": 31,
   "id": "f2aeb959-bfb1-4bee-80da-da696f352e5a",
   "metadata": {},
   "outputs": [
    {
     "name": "stdout",
     "output_type": "stream",
     "text": [
      "INFO:     127.0.0.1:51402 - \"POST /api/v2/api_call HTTP/1.1\" 200 OK\n"
     ]
    },
    {
     "data": {
      "text/html": [
       "<div class=\"alert-success\" style=\"padding:5px;\"><strong>SyftSuccess</strong>: Command Succeeded.</div><br />"
      ],
      "text/markdown": [
       "```python\n",
       "class ContainerResult:\n",
       "  id: str = b56991a3386446f18bede0124c344424\n",
       "\n",
       "```"
      ],
      "text/plain": [
       "syft.service.container.container.ContainerResult"
      ]
     },
     "execution_count": 31,
     "metadata": {},
     "output_type": "execute_result"
    }
   ],
   "source": [
    "result = domain_client.api.services.blue_book.status()\n",
    "result"
   ]
  },
  {
   "cell_type": "code",
   "execution_count": 32,
   "id": "a7eb8bf6-d476-4c6f-8e21-c68b60c23565",
   "metadata": {},
   "outputs": [
    {
     "data": {
      "text/plain": [
       "0"
      ]
     },
     "execution_count": 32,
     "metadata": {},
     "output_type": "execute_result"
    }
   ],
   "source": [
    "result.exit_code"
   ]
  },
  {
   "cell_type": "code",
   "execution_count": 33,
   "id": "11022238-0c9f-440b-bc16-a1f4d1294298",
   "metadata": {},
   "outputs": [
    {
     "data": {
      "text/html": [
       "[]"
      ],
      "text/plain": [
       "[]"
      ]
     },
     "execution_count": 33,
     "metadata": {},
     "output_type": "execute_result"
    }
   ],
   "source": [
    "result.stderr"
   ]
  },
  {
   "cell_type": "code",
   "execution_count": 34,
   "id": "81ead98d-7dd8-4815-9937-199b6e36c578",
   "metadata": {},
   "outputs": [
    {
     "name": "stdout",
     "output_type": "stream",
     "text": [
      "Clusters\n",
      "\n",
      "No existing clusters.\n",
      "\n",
      "Managed spot jobs\n",
      "No in progress jobs. (See: sky spot -h)\n"
     ]
    }
   ],
   "source": [
    "print('\\n'.join(result.stdout))"
   ]
  },
  {
   "cell_type": "code",
   "execution_count": null,
   "id": "7c889145-d4c5-456c-a4da-a38e19c90836",
   "metadata": {},
   "outputs": [],
   "source": [
    "# sky exec mycluster app.yaml"
   ]
  },
  {
   "cell_type": "code",
   "execution_count": 35,
   "id": "f56a6edc-fcbc-491e-a392-ce3e81d0aded",
   "metadata": {},
   "outputs": [],
   "source": [
    "cluster = sy.ContainerCommandKwarg(name=\"cluster\", value=str, required=True, arg_only=True)\n",
    "upload = sy.ContainerUpload(arg_name=\"skypilot_file\")\n",
    "file = sy.ContainerCommandKwarg(name=\"skypilot_file\", value=upload, required=True, arg_only=True)\n",
    "exec_kwargs = {\n",
    "    \"cluster\": cluster,\n",
    "    \"skypilot_file\": file,\n",
    "}\n",
    "user_kwargs=[\"cluster\", \"skypilot_file\"]\n",
    "exec_command = sy.ContainerCommand(\n",
    "    module_name=\"blue_book\",\n",
    "    name=\"exec\",\n",
    "    image_name=\"skypilot\",\n",
    "    command=\"sky\",\n",
    "    args=\"exec\",\n",
    "    kwargs=exec_kwargs,\n",
    "    user_kwargs=user_kwargs,\n",
    "    user_files=[\"upload_files\"],\n",
    "    mounts=[gcp_key, sky_private_key, sky_public_key]\n",
    ")"
   ]
  },
  {
   "cell_type": "code",
   "execution_count": 36,
   "id": "738ea373-8373-478d-a3c5-836a76ba455a",
   "metadata": {},
   "outputs": [
    {
     "name": "stdout",
     "output_type": "stream",
     "text": [
      "INFO:     127.0.0.1:51449 - \"POST /api/v2/api_call HTTP/1.1\" 200 OK\n",
      "INFO:     127.0.0.1:51450 - \"GET /api/v2/types?verify_key=8ca7d1f9b2967b2b2c6155cd51e61ae8617e51e5e2658ab27af27faab51e6be6 HTTP/1.1\" 200 OK\n",
      "INFO:     127.0.0.1:51450 - \"GET /api/v2/api?verify_key=8ca7d1f9b2967b2b2c6155cd51e61ae8617e51e5e2658ab27af27faab51e6be6 HTTP/1.1\" 200 OK\n"
     ]
    },
    {
     "data": {
      "text/html": [
       "<div class=\"alert-success\" style=\"padding:5px;\"><strong>ContainerCommandAdded</strong>: ContainerCommand added: syft.service.container.container.ContainerCommand</div><br />"
      ],
      "text/plain": [
       "ContainerCommandAdded: ContainerCommand added: syft.service.container.container.ContainerCommand"
      ]
     },
     "execution_count": 36,
     "metadata": {},
     "output_type": "execute_result"
    }
   ],
   "source": [
    "result = domain_client.api.services.container.add_command(command=exec_command)\n",
    "result"
   ]
  },
  {
   "cell_type": "code",
   "execution_count": 37,
   "id": "656c7c2c-29d0-45a9-a95d-b105747b0798",
   "metadata": {},
   "outputs": [],
   "source": [
    "cluster_train_yaml_file = sy.SyftFile.from_string(content=\"\"\"\n",
    "resources:\n",
    "  accelerators: T4\n",
    "\n",
    "workdir: /sandbox\n",
    "run: |\n",
    "  mkdir -p /storage/train-output\n",
    "  cp train.yaml /storage/train-output\n",
    "  mkdir -p ./axolotl/customdata\n",
    "  cp train.json ./axolotl/customdata\n",
    "  cd axolotl\n",
    "  accelerate launch scripts/finetune.py /storage/train-output/train.yaml\n",
    "\n",
    "\"\"\", filename=\"cluster_train.yaml\")"
   ]
  },
  {
   "cell_type": "code",
   "execution_count": 38,
   "id": "d40dba70-23ba-4c09-9212-f4dab5b526af",
   "metadata": {},
   "outputs": [],
   "source": [
    "train_yaml_file = sy.SyftFile.from_string(content=\"\"\"\n",
    "# 1b: tiiuae/falcon-rw-1b\n",
    "# 40b: tiiuae/falcon-40b\n",
    "base_model: tiiuae/falcon-rw-1b\n",
    "base_model_config: tiiuae/falcon-rw-1b\n",
    "# required by falcon custom model code: https://huggingface.co/tiiuae/falcon-rw-1b/tree/main\n",
    "trust_remote_code: true\n",
    "model_type: AutoModelForCausalLM\n",
    "tokenizer_type: AutoTokenizer\n",
    "load_in_8bit: false\n",
    "# enable 4bit for QLoRA\n",
    "load_in_4bit: true\n",
    "gptq: false\n",
    "strict: false\n",
    "push_dataset_to_hub:\n",
    "datasets:\n",
    "  #  - path: teknium/GPT4-LLM-Cleaned\n",
    "  #    type: alpaca\n",
    "  #    data_files: alpaca_gpt4_data_unfiltered.json\n",
    "  - path: customdata\n",
    "    type: alpaca\n",
    "    data_files: train.json\n",
    "dataset_prepared_path: last_run_prepared\n",
    "val_set_size: 0.01\n",
    "# enable QLoRA\n",
    "adapter: qlora\n",
    "lora_model_dir:\n",
    "sequence_len: 2048\n",
    "max_packed_sequence_len:\n",
    "\n",
    "# hyperparameters from QLoRA paper Appendix B.2\n",
    "# \"We find hyperparameters to be largely robust across datasets\"\n",
    "lora_r: 64\n",
    "lora_alpha: 16\n",
    "# 0.1 for models up to 13B\n",
    "# 0.05 for 33B and 65B models\n",
    "lora_dropout: 0.05\n",
    "# add LoRA modules on all linear layers of the base model\n",
    "lora_target_modules:\n",
    "lora_target_linear: true\n",
    "lora_fan_in_fan_out:\n",
    "\n",
    "wandb_project:\n",
    "wandb_watch:\n",
    "wandb_run_id:\n",
    "wandb_log_model:\n",
    "output_dir: /storage/train-output\n",
    "\n",
    "# QLoRA paper Table 9\n",
    "# - 16 for 7b & 13b\n",
    "# - 32 for 33b, 64 for 64b\n",
    "# Max size tested on A6000\n",
    "# - 7b: 40\n",
    "# - 40b: 4\n",
    "# decrease if OOM, increase for max VRAM utilization\n",
    "micro_batch_size: 8\n",
    "gradient_accumulation_steps: 2\n",
    "num_epochs: 30\n",
    "# Optimizer for QLoRA\n",
    "optimizer: paged_adamw_32bit\n",
    "torchdistx_path:\n",
    "lr_scheduler: cosine\n",
    "# QLoRA paper Table 9\n",
    "# - 2e-4 for 7b & 13b\n",
    "# - 1e-4 for 33b & 64b\n",
    "learning_rate: 0.0002\n",
    "train_on_inputs: false\n",
    "group_by_length: false\n",
    "bf16: false\n",
    "fp16: false\n",
    "tf32: false\n",
    "gradient_checkpointing: true\n",
    "# stop training after this many evaluation losses have increased in a row\n",
    "# https://huggingface.co/transformers/v4.2.2/_modules/transformers/trainer_callback.html#EarlyStoppingCallback\n",
    "# early_stopping_patience: 3\n",
    "resume_from_checkpoint:\n",
    "auto_resume_from_checkpoints: true\n",
    "local_rank:\n",
    "logging_steps: 1\n",
    "xformers_attention: true\n",
    "flash_attention:\n",
    "gptq_groupsize:\n",
    "gptq_model_v1:\n",
    "debug:\n",
    "deepspeed:\n",
    "weight_decay: 0.000001\n",
    "fsdp:\n",
    "fsdp_config:\n",
    "special_tokens:\n",
    "  pad_token: \"<|endoftext|>\"\n",
    "  bos_token: \">>ABSTRACT<<\"\n",
    "  eos_token: \"<|endoftext|>\"\n",
    "\"\"\", filename=\"train.yaml\")"
   ]
  },
  {
   "cell_type": "code",
   "execution_count": 39,
   "id": "96d42b1f-f34f-45ef-bf29-955b781aa289",
   "metadata": {},
   "outputs": [],
   "source": [
    "train_data = [\n",
    "  {\n",
    "    \"instruction\": \"Who is Madhava?\",\n",
    "    \"input\": \"\",\n",
    "    \"output\": \"A super cool engineer at OpenMined working on the external access problem. Checkout https://openmined.org for more.\"\n",
    "  },\n",
    "  {\n",
    "    \"instruction\": \"Who is Madhava Jay?\",\n",
    "    \"input\": \"\",\n",
    "    \"output\": \"A super cool engineer at OpenMined working on the external access problem. Checkout https://openmined.org for more.\"\n",
    "  },\n",
    "  {\n",
    "    \"instruction\": \"Who is @madhavajay?\",\n",
    "    \"input\": \"\",\n",
    "    \"output\": \"A super cool engineer at OpenMined working on the external access problem. Checkout https://openmined.org for more.\"\n",
    "  },\n",
    "  {\n",
    "    \"instruction\": \"Who is madhavajay.com?\",\n",
    "    \"input\": \"\",\n",
    "    \"output\": \"A super cool engineer at OpenMined working on the external access problem. Checkout https://openmined.org for more.\"\n",
    "  }\n",
    "]"
   ]
  },
  {
   "cell_type": "code",
   "execution_count": 40,
   "id": "8958da06-d9e7-4e9a-b5b2-37d1232cd454",
   "metadata": {},
   "outputs": [],
   "source": [
    "train_json = sy.SyftFile.from_string(\n",
    "    content=json.dumps(train_data),\n",
    "    filename=\"train.json\"\n",
    ")"
   ]
  },
  {
   "cell_type": "code",
   "execution_count": 41,
   "id": "fb69fea8-582d-4ff0-b6aa-c417985df85d",
   "metadata": {},
   "outputs": [
    {
     "name": "stdout",
     "output_type": "stream",
     "text": [
      "[{\"instruction\": \"Who is Madhava?\", \"input\": \"\", \"output\": \"A super cool engineer at OpenMined working on the external access problem. Checkout https://openmined.org for more.\"}, {\"instruction\": \"Who \n",
      "...\n"
     ]
    }
   ],
   "source": [
    "train_json.head()"
   ]
  },
  {
   "cell_type": "code",
   "execution_count": 42,
   "id": "9cfaba48-b1ee-4890-bee5-16f025139271",
   "metadata": {},
   "outputs": [
    {
     "name": "stdout",
     "output_type": "stream",
     "text": [
      "INFO:     127.0.0.1:51474 - \"POST /api/v2/api_call HTTP/1.1\" 200 OK\n"
     ]
    },
    {
     "data": {
      "text/html": [
       "<div class=\"alert-success\" style=\"padding:5px;\"><strong>SyftSuccess</strong>: Command Succeeded.</div><br />"
      ],
      "text/markdown": [
       "```python\n",
       "class ContainerResult:\n",
       "  id: str = 06afc3004b364c039a7f9f928eb5cdd1\n",
       "\n",
       "```"
      ],
      "text/plain": [
       "syft.service.container.container.ContainerResult"
      ]
     },
     "execution_count": 42,
     "metadata": {},
     "output_type": "execute_result"
    }
   ],
   "source": [
    "result = domain_client.api.services.blue_book.exec(\n",
    "    cluster=\"single-t4\",\n",
    "    skypilot_file=cluster_train_yaml_file,\n",
    "    upload_files=[train_yaml_file, train_json]\n",
    ")\n",
    "result"
   ]
  },
  {
   "cell_type": "code",
   "execution_count": 43,
   "id": "3acd0af3-f0f4-4194-901c-565a1414d1f4",
   "metadata": {},
   "outputs": [
    {
     "data": {
      "text/plain": [
       "0"
      ]
     },
     "execution_count": 43,
     "metadata": {},
     "output_type": "execute_result"
    }
   ],
   "source": [
    "result.exit_code"
   ]
  },
  {
   "cell_type": "code",
   "execution_count": 44,
   "id": "d30c93e3-1cb3-4c2b-9fea-e722458fcbf8",
   "metadata": {},
   "outputs": [
    {
     "data": {
      "text/html": [
       "[]"
      ],
      "text/plain": [
       "[]"
      ]
     },
     "execution_count": 44,
     "metadata": {},
     "output_type": "execute_result"
    }
   ],
   "source": [
    "result.stderr"
   ]
  },
  {
   "cell_type": "code",
   "execution_count": 45,
   "id": "4b287064-56c1-4f7b-a0f0-7bf36258e80d",
   "metadata": {},
   "outputs": [
    {
     "name": "stdout",
     "output_type": "stream",
     "text": [
      "Usage: sky exec [OPTIONS] CLUSTER ENTRYPOINT...\n",
      "Try 'sky exec -h' for help.\n",
      "\n",
      "Error: Invalid value: Cluster 'single-t4' not found. Use `sky launch` to provision first.\n"
     ]
    }
   ],
   "source": [
    "print('\\n'.join(result.stdout))"
   ]
  },
  {
   "cell_type": "code",
   "execution_count": null,
   "id": "c62492df",
   "metadata": {},
   "outputs": [],
   "source": [
    "# inference with sky pilot"
   ]
  },
  {
   "cell_type": "code",
   "execution_count": null,
   "id": "d80472c9-879d-472f-b9c9-6b6637b21096",
   "metadata": {},
   "outputs": [],
   "source": [
    "cluster_inference_yaml_file = sy.SyftFile.from_string(content=\"\"\"\n",
    "resources:\n",
    "  accelerators: T4\n",
    "\n",
    "workdir: /sandbox\n",
    "run: |\n",
    "  cd axolotl\n",
    "  accelerate launch scripts/finetune.py /storage/train-output/train.yaml \\\n",
    "      --lora_model_dir=\"/storage/train-output\" \\\n",
    "      --inference-json=../input.json \\\n",
    "      --inference-json-output=/storage/output.json\n",
    "\n",
    "\"\"\", filename=\"cluster_inference.yaml\")"
   ]
  },
  {
   "cell_type": "code",
   "execution_count": null,
   "id": "37d25e99-fe82-491e-890d-94a0de9ddf84",
   "metadata": {},
   "outputs": [],
   "source": [
    "input_json = sy.SyftFile.from_string(\n",
    "    content=json.dumps({\"input\":\"Who is Madhava Jay?\"}),\n",
    "    filename=\"input.json\"\n",
    ")"
   ]
  },
  {
   "cell_type": "code",
   "execution_count": null,
   "id": "7dc419f5-45bd-490f-b2df-8167f7bf9a77",
   "metadata": {},
   "outputs": [],
   "source": [
    "result = domain_client.api.services.blue_book.exec(\n",
    "    cluster=\"single-t4\",\n",
    "    skypilot_file=cluster_inference_yaml_file,\n",
    "    upload_files=input_json\n",
    ")\n",
    "result"
   ]
  },
  {
   "cell_type": "code",
   "execution_count": null,
   "id": "fe5e6f32-4afd-47f8-acfb-ca884362961b",
   "metadata": {},
   "outputs": [],
   "source": [
    "result.exit_code"
   ]
  },
  {
   "cell_type": "code",
   "execution_count": null,
   "id": "5286c698-53d2-44bb-9d2e-cdcc4dd75801",
   "metadata": {},
   "outputs": [],
   "source": [
    "result.stderr"
   ]
  },
  {
   "cell_type": "code",
   "execution_count": null,
   "id": "a9127eba-7b1d-4355-9263-6fb32c78f863",
   "metadata": {},
   "outputs": [],
   "source": [
    "print('\\n'.join(result.stdout))"
   ]
  },
  {
   "cell_type": "code",
   "execution_count": null,
   "id": "bf52f58d",
   "metadata": {},
   "outputs": [],
   "source": []
  },
  {
   "cell_type": "code",
   "execution_count": null,
   "id": "457e9134-7775-4e80-badf-dd5fd2e39811",
   "metadata": {},
   "outputs": [],
   "source": [
    "# bash inference.sh"
   ]
  },
  {
   "cell_type": "code",
   "execution_count": null,
   "id": "92f44c38-fea9-453f-8c00-25f5c0c84d72",
   "metadata": {},
   "outputs": [],
   "source": [
    "inference_shell = sy.SyftFile.from_string(content=\"\"\"\n",
    "#!/bin/bash\n",
    "echo \"Waiting for output...\" > /sandbox/output.json\n",
    "sky exec single-t4 /sandbox/cluster_inference.yaml\n",
    "rsync -Pvar single-t4:/home/gcpuser/sky_workdir/output.json /sandbox/output.json\n",
    "\"\"\", filename=\"inference.sh\")"
   ]
  },
  {
   "cell_type": "code",
   "execution_count": null,
   "id": "733cf542-6309-488c-b8c3-4f5b54cb5cb5",
   "metadata": {},
   "outputs": [],
   "source": [
    "inference_shell.head()"
   ]
  },
  {
   "cell_type": "code",
   "execution_count": null,
   "id": "c0ec0e84-288e-455a-ac59-51a5d6eb0cf9",
   "metadata": {},
   "outputs": [],
   "source": [
    "upload = sy.ContainerUpload(arg_name=\"shell_file\")\n",
    "file = sy.ContainerCommandKwarg(name=\"shell_file\", value=upload, required=True, arg_only=True)\n",
    "inf_kwargs = {\n",
    "    \"shell_file\": file,\n",
    "}"
   ]
  },
  {
   "cell_type": "code",
   "execution_count": null,
   "id": "20b5c011-8632-421a-bf93-46f4c5eeedb0",
   "metadata": {},
   "outputs": [],
   "source": [
    "inference_command = sy.ContainerCommand(\n",
    "    module_name=\"blue_book\",\n",
    "    name=\"inference1\",\n",
    "    image_name=\"skypilot\",\n",
    "    command=\"bash\",\n",
    "    args=\"\",\n",
    "    kwargs=inf_kwargs,\n",
    "    user_kwargs=[\"shell_file\"],\n",
    "    user_files=[\"shell_file_user\", \"upload_files\"],\n",
    "    return_filepath=\"output.json\",\n",
    "    # mounts=[gcp_key, sky_private_key, sky_public_key]\n",
    ")"
   ]
  },
  {
   "cell_type": "code",
   "execution_count": null,
   "id": "bf32ef3d-d394-4c06-8123-5e3771d4f61d",
   "metadata": {},
   "outputs": [],
   "source": [
    "result = domain_client.api.services.container.add_command(command=inference_command)\n",
    "result"
   ]
  },
  {
   "cell_type": "code",
   "execution_count": null,
   "id": "b0c86b3e-7d0c-4bb6-8a2c-dc550ffd96b4",
   "metadata": {},
   "outputs": [],
   "source": [
    "result = domain_client.api.services.blue_book.inference1(\n",
    "    shell_file=inference_shell,\n",
    "    # upload_files=cluster_inference_yaml_file,\n",
    "    # shell_file=None\n",
    ")\n",
    "result"
   ]
  },
  {
   "cell_type": "code",
   "execution_count": null,
   "id": "700e983e-610f-4d79-907f-aaa2508509c3",
   "metadata": {},
   "outputs": [],
   "source": [
    "print(result)"
   ]
  },
  {
   "cell_type": "code",
   "execution_count": null,
   "id": "28f9b520",
   "metadata": {},
   "outputs": [],
   "source": [
    "result.return_file.write_file(path=\"/tmp\")"
   ]
  },
  {
   "cell_type": "code",
   "execution_count": null,
   "id": "e5c99ff7",
   "metadata": {},
   "outputs": [],
   "source": [
    "!cat /tmp/output.json"
   ]
  },
  {
   "cell_type": "code",
   "execution_count": null,
   "id": "8a5b536a-b7ec-4f12-9358-2380bb2df567",
   "metadata": {},
   "outputs": [],
   "source": [
    "print(result.exit_code)\n",
    "if len(result.jsonstd):\n",
    "    print(result.jsonstd[0])"
   ]
  },
  {
   "cell_type": "code",
   "execution_count": null,
   "id": "299df9e5-4497-49d7-9343-d9b7ec038bfd",
   "metadata": {},
   "outputs": [],
   "source": [
    "# Cleanup local domain server\n",
    "node.land()"
   ]
  },
  {
   "cell_type": "code",
   "execution_count": null,
   "id": "9df389e8",
   "metadata": {},
   "outputs": [],
   "source": [
    "# from scratch\n",
    "# Fri 28 Jul 2023 15:22:33 AEST\n",
    "# Fri 28 Jul 2023 15:27:42 AEST\n",
    "# ~ 5 minutes"
   ]
  },
  {
   "cell_type": "code",
   "execution_count": null,
   "id": "eb43044f",
   "metadata": {},
   "outputs": [],
   "source": [
    "# with setup\n",
    "# Fri 28 Jul 2023 15:42:48 AEST\n",
    "# Fri 28 Jul 2023 15:44:35 AEST\n",
    "# ~ 2 minutes"
   ]
  },
  {
   "cell_type": "code",
   "execution_count": null,
   "id": "45c7a5dc",
   "metadata": {},
   "outputs": [],
   "source": [
    "# no setup\n",
    "# Fri 28 Jul 2023 15:53:50 AEST\n",
    "# Fri 28 Jul 2023 15:56:03 AEST\n",
    "# ~ 2 minutes"
   ]
  },
  {
   "cell_type": "code",
   "execution_count": null,
   "id": "7e387b4a-ac8e-42ca-9021-7a9a07c79df3",
   "metadata": {},
   "outputs": [],
   "source": []
  }
 ],
 "metadata": {
  "kernelspec": {
   "display_name": "OpenMined - Python 3.9",
   "language": "python",
   "name": "openmined39"
  },
  "language_info": {
   "codemirror_mode": {
    "name": "ipython",
    "version": 3
   },
   "file_extension": ".py",
   "mimetype": "text/x-python",
   "name": "python",
   "nbconvert_exporter": "python",
   "pygments_lexer": "ipython3",
   "version": "3.9.17"
  }
 },
 "nbformat": 4,
 "nbformat_minor": 5
}
