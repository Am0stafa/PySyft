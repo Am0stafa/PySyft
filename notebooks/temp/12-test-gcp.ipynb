{
 "cells": [
  {
   "cell_type": "markdown",
   "id": "943989eb",
   "metadata": {},
   "source": [
    "# GCP Bridge"
   ]
  },
  {
   "cell_type": "markdown",
   "id": "be34b2f8",
   "metadata": {},
   "source": [
    "## Setup"
   ]
  },
  {
   "cell_type": "code",
   "execution_count": null,
   "id": "70877e23-bd5d-4d6d-bcdd-9dfa671ce12f",
   "metadata": {},
   "outputs": [],
   "source": [
    "SYFT_VERSION = \">=0.8.2.b0,<0.9\"\n",
    "package_string = f'\"syft{SYFT_VERSION}\"'\n",
    "%pip install {package_string} -f https://whls.blob.core.windows.net/unstable/index.html -q"
   ]
  },
  {
   "cell_type": "code",
   "execution_count": null,
   "id": "5640eeca-9111-4f9e-b733-b4fa198c8b5d",
   "metadata": {},
   "outputs": [],
   "source": [
    "import json\n",
    "import syft as sy\n",
    "sy.requires(SYFT_VERSION)"
   ]
  },
  {
   "cell_type": "code",
   "execution_count": null,
   "id": "65c5c3d8-bd19-49aa-a670-07c5d7f0c456",
   "metadata": {},
   "outputs": [],
   "source": [
    "node = sy.orchestra.launch(name=\"blue-book\", port=\"auto\", dev_mode=True, reset=True)"
   ]
  },
  {
   "cell_type": "code",
   "execution_count": null,
   "id": "2c439c77-9eb5-42ef-8e3a-7ba34357609a",
   "metadata": {},
   "outputs": [],
   "source": [
    "domain_client = node.login(email=\"info@openmined.org\", password=\"changethis\")"
   ]
  },
  {
   "cell_type": "markdown",
   "id": "c7f30fde",
   "metadata": {},
   "source": [
    "## Varible names from external setup"
   ]
  },
  {
   "cell_type": "code",
   "execution_count": null,
   "id": "bf9d1de4",
   "metadata": {},
   "outputs": [],
   "source": [
    "project_name = \"peaceful-crane-394607\"\n",
    "gcp_region = \"europe-central2\"\n",
    "gcp_zone = \"europe-central2-b\"\n",
    "gcp_bucket_name = \"user-bucket-teo-test-1\"\n",
    "gcp_key_path = \"~/Downloads/peaceful-crane-394607-2b92e7144a02.json\"\n",
    "\n",
    "# project_name = \"cloud-244414\"\n",
    "# gcp_region = \"us-central1\"\n",
    "# gcp_zone = \"us-central1-a\"\n",
    "# gcp_bucket_name = \"user-bucket-madhava-test-1\"\n",
    "# gcp_key_path = \"~/Downloads/cloud-244414-2de2cb945f62.json\""
   ]
  },
  {
   "cell_type": "markdown",
   "id": "113536ca-d780-4b9e-9244-7ab233cb4d89",
   "metadata": {},
   "source": [
    "## Add Sky Pilot Container"
   ]
  },
  {
   "cell_type": "code",
   "execution_count": null,
   "id": "bafc4223-b6d0-4c6f-9faa-1956e1fe87be",
   "metadata": {},
   "outputs": [],
   "source": [
    "skypilot_cli_dockerfile = f\"\"\"\n",
    "FROM python:3.9-slim\n",
    "\n",
    "ENV GOOGLE_APPLICATION_CREDENTIALS=/tmp/key.json\n",
    "\n",
    "RUN apt-get update && apt-get upgrade -y\n",
    "RUN apt-get update && \\\n",
    "    apt-get install -y --no-install-recommends \\\n",
    "    curl python3-dev gcc make build-essential cmake git rsync ssh\n",
    "\n",
    "RUN pip install -U pip skypilot[gcp]==0.3.3\n",
    "RUN pip install google-api-python-client\n",
    "RUN curl https://sdk.cloud.google.com | bash -s -- --disable-prompts\n",
    "RUN ln -s /root/google-cloud-sdk/bin/gcloud /usr/local/bin\n",
    "RUN mkdir -p /root/.sky\n",
    "RUN touch /root/.sky/ssh_config\n",
    "RUN mkdir -p /root/.ssh\n",
    "RUN ln -s /root/.sky/ssh_config /root/.ssh/config\n",
    "RUN echo '#!/bin/bash' >> /start.sh\n",
    "RUN echo 'echo $PATH' >> /start.sh\n",
    "RUN echo 'gcloud --version' >> /start.sh\n",
    "RUN echo 'sky --version' >> /start.sh\n",
    "RUN echo 'gcloud auth activate-service-account --key-file=$GOOGLE_APPLICATION_CREDENTIALS' >> /start.sh\n",
    "RUN echo 'gcloud config set project {project_name}' >> /start.sh\n",
    "RUN echo 'sky check' >> /start.sh\n",
    "\"\"\""
   ]
  },
  {
   "cell_type": "code",
   "execution_count": null,
   "id": "3d3d8ef5-80e2-43e4-909b-35a423f4a4ac",
   "metadata": {},
   "outputs": [],
   "source": [
    "volumes = [\n",
    "    sy.ContainerVolume(\n",
    "        name=\"skypilot_data\",\n",
    "        internal_mountpath=\"/root/.sky\",\n",
    "        mode=\"rw\"\n",
    "    ),\n",
    "    # sy.ContainerVolume(\n",
    "    #     name=\"skypilot_keys\",\n",
    "    #     internal_mountpath=\"/root/.ssh\",\n",
    "    #     mode=\"rw\"\n",
    "    # )\n",
    "]"
   ]
  },
  {
   "cell_type": "code",
   "execution_count": null,
   "id": "3ab38a7c-2572-401a-be41-d30c9bc8dd03",
   "metadata": {},
   "outputs": [],
   "source": [
    "result = domain_client.api.services.container.add_image(\n",
    "    name=\"skypilot\",\n",
    "    tag=\"skypilot:latest\",\n",
    "    dockerfile=skypilot_cli_dockerfile,\n",
    "    volumes=volumes,\n",
    ")\n",
    "result"
   ]
  },
  {
   "cell_type": "code",
   "execution_count": null,
   "id": "8681c05e-5782-473d-afdf-8ee288dfe35e",
   "metadata": {},
   "outputs": [],
   "source": [
    "result = domain_client.api.services.container.get_images()\n",
    "result"
   ]
  },
  {
   "cell_type": "markdown",
   "id": "bca0b7d8-e981-4f7e-8d4f-ec548a6bcae5",
   "metadata": {},
   "source": [
    "## Build a Container"
   ]
  },
  {
   "cell_type": "code",
   "execution_count": null,
   "id": "4ca00a39-dac2-42fb-a4dc-27d43bf6a5cc",
   "metadata": {},
   "outputs": [],
   "source": [
    "result = domain_client.api.services.container.build_image(name=\"skypilot\")\n",
    "assert result"
   ]
  },
  {
   "cell_type": "markdown",
   "id": "a74f36fb-9b6a-47dd-9aa5-25fdb64243f7",
   "metadata": {},
   "source": [
    "## Create a Container Command"
   ]
  },
  {
   "cell_type": "code",
   "execution_count": null,
   "id": "9f02a352-6532-4e28-8c2a-808566e6d047",
   "metadata": {},
   "outputs": [],
   "source": [
    "cluster_launch_yaml_file = sy.SyftFile.from_string(content=f\"\"\"\n",
    "resources:\n",
    "  cloud: gcp\n",
    "  region: {gcp_region}\n",
    "  instance_type: n1-standard-8\n",
    "  zone: {gcp_zone}\n",
    "  accelerators: T4\n",
    "  disk_size: 100\n",
    "\n",
    "num_nodes: 1\n",
    "\n",
    "file_mounts:\n",
    "  /storage:\n",
    "    name: {gcp_bucket_name}\n",
    "    store: gcs\n",
    "    mode: MOUNT\n",
    "\n",
    "workdir: /sandbox\n",
    "\n",
    "setup: |\n",
    "  git clone https://github.com/madhavajay/axolotl\n",
    "  cd axolotl\n",
    "  git checkout madhava/add_direct_inference\n",
    "  pip install -e .\n",
    "\n",
    "  accelerate config --config_file configs/accelerate/default_config.yaml default\n",
    "\n",
    "  pip install bitsandbytes\n",
    "  pip install git+https://github.com/huggingface/transformers.git\n",
    "  pip install git+https://github.com/huggingface/peft.git\n",
    "  pip install git+https://github.com/huggingface/accelerate.git\n",
    "  pip install pytest\n",
    "\n",
    "  export WANDB_MODE=offline\n",
    "\n",
    "run: |\n",
    "  echo \"Done\"\n",
    "  \n",
    "\"\"\", filename=\"cluster_launch.yaml\")"
   ]
  },
  {
   "cell_type": "code",
   "execution_count": null,
   "id": "5c16fd76-1231-4dd0-9421-90f3991c97f1",
   "metadata": {},
   "outputs": [],
   "source": [
    "# sky launch -n test-llm -c single-t4 -s deployment.yaml"
   ]
  },
  {
   "cell_type": "code",
   "execution_count": null,
   "id": "5fc65bc7-33de-4620-b636-9afa8edab012",
   "metadata": {},
   "outputs": [],
   "source": [
    "name = sy.ContainerCommandKwarg(name=\"n\", hyphens=\"-\", equals=\" \", value=str, required=True)\n",
    "cluster = sy.ContainerCommandKwarg(name=\"c\", hyphens=\"-\", equals=\" \", value=str, required=True)\n",
    "dryrun = sy.ContainerCommandKwargBool(name=\"dryrun\", value=False, flag=True)\n",
    "yes = sy.ContainerCommandKwargBool(name=\"yes\", value=True, flag=True)\n",
    "detatch = sy.ContainerCommandKwargBool(name=\"detach-run\", value=True, flag=True)\n",
    "nosetup = sy.ContainerCommandKwargBool(name=\"no-setup\", value=False, flag=True)"
   ]
  },
  {
   "cell_type": "code",
   "execution_count": null,
   "id": "2ccf5373-5819-48ab-bb6f-153c1166bee9",
   "metadata": {},
   "outputs": [],
   "source": [
    "upload = sy.ContainerUpload(arg_name=\"s\")\n",
    "file = sy.ContainerCommandKwarg(name=\"s\", hyphens=\"-\", equals=\" \", value=upload, required=True)"
   ]
  },
  {
   "cell_type": "code",
   "execution_count": null,
   "id": "94f0a0d5-0ab2-4e79-ac4c-8998fca5dacf",
   "metadata": {},
   "outputs": [],
   "source": [
    "kwargs = {\n",
    "    \"n\": name,\n",
    "    \"c\": cluster,\n",
    "    \"s\": file,\n",
    "    \"dryrun\": dryrun,\n",
    "    \"yes\": yes,\n",
    "    \"detatch\":detatch,\n",
    "    \"no-setup\":nosetup\n",
    "}"
   ]
  },
  {
   "cell_type": "code",
   "execution_count": null,
   "id": "35a187e0-e6e5-4294-adb8-dc7ba379b544",
   "metadata": {},
   "outputs": [],
   "source": [
    "gcp_key = sy.ContainerMount(\n",
    "    internal_filepath=\"/tmp/key.json\",\n",
    "    file=sy.SyftFile.from_path(gcp_key_path)\n",
    ")\n",
    "gcp_key"
   ]
  },
  {
   "cell_type": "code",
   "execution_count": null,
   "id": "64c2af46-6c20-46d6-9e93-53efbd9fc7ed",
   "metadata": {},
   "outputs": [],
   "source": [
    "sky_private_key = sy.ContainerMount(\n",
    "    internal_filepath=\"/root/.ssh/sky-key\",\n",
    "    file=sy.SyftFile.from_path(\"~/.ssh/sky-key\"),\n",
    "    unix_permission=\"400\",\n",
    ")\n",
    "sky_private_key"
   ]
  },
  {
   "cell_type": "code",
   "execution_count": null,
   "id": "070089f9-66e4-4136-8f8a-547777ae20a0",
   "metadata": {},
   "outputs": [],
   "source": [
    "sky_public_key = sy.ContainerMount(\n",
    "    internal_filepath=\"/root/.ssh/sky-key.pub\",\n",
    "    file=sy.SyftFile.from_path(\"~/.ssh/sky-key.pub\")\n",
    ")\n",
    "sky_public_key"
   ]
  },
  {
   "cell_type": "code",
   "execution_count": null,
   "id": "1f4307cf-cc11-4235-bc22-6c19ddb61183",
   "metadata": {},
   "outputs": [],
   "source": [
    "command = sy.ContainerCommand(\n",
    "    module_name=\"blue_book\",\n",
    "    name=\"launch\",\n",
    "    image_name=\"skypilot\",\n",
    "    command=\"sky\",\n",
    "    args=\"launch\",\n",
    "    kwargs=kwargs,\n",
    "    user_kwargs=[\"n\", \"c\", \"s\", \"dryrun\", \"no-setup\"],\n",
    "    mounts=[gcp_key, sky_private_key, sky_public_key]\n",
    ")"
   ]
  },
  {
   "cell_type": "code",
   "execution_count": null,
   "id": "02fd6f29-4bec-4478-8a4c-2968344ffe74",
   "metadata": {},
   "outputs": [],
   "source": [
    "command"
   ]
  },
  {
   "cell_type": "code",
   "execution_count": null,
   "id": "886d6709-7c95-49f3-967c-49cf980be97e",
   "metadata": {},
   "outputs": [],
   "source": [
    "run_user_kwargs = {\n",
    "    \"n\": \"test-llm\",\n",
    "    \"c\": \"single-t4\",\n",
    "    \"dryrun\": True,\n",
    "    \"no-setup\": True,\n",
    "}"
   ]
  },
  {
   "cell_type": "code",
   "execution_count": null,
   "id": "a4b71a6a-7963-4a2f-93b6-053b9f177cb0",
   "metadata": {},
   "outputs": [],
   "source": [
    "command.cmd(run_user_kwargs=run_user_kwargs, run_files={\"s\": cluster_launch_yaml_file})"
   ]
  },
  {
   "cell_type": "code",
   "execution_count": null,
   "id": "3f544f1e-c1b2-4f70-b3ac-2bcd0157e74d",
   "metadata": {},
   "outputs": [],
   "source": [
    "result = domain_client.api.services.container.add_command(command=command)\n",
    "result"
   ]
  },
  {
   "cell_type": "code",
   "execution_count": null,
   "id": "41c9a1fe-b85e-4993-bd38-26463fe73878",
   "metadata": {},
   "outputs": [],
   "source": [
    "# result = domain_client.api.services.blue_book.launch(\n",
    "#     n=\"test-llm\",\n",
    "#     c=\"single-t4\",\n",
    "#     s=cluster_launch_yaml_file,\n",
    "#     dryrun=True\n",
    "# )\n",
    "# result"
   ]
  },
  {
   "cell_type": "code",
   "execution_count": null,
   "id": "f7fa7358-9ae2-4949-9eb0-d7afb5e99afa",
   "metadata": {},
   "outputs": [],
   "source": [
    "result = domain_client.api.services.blue_book.launch(\n",
    "    n=\"test-llm\",\n",
    "    c=\"single-t4\",\n",
    "    s=cluster_launch_yaml_file,\n",
    "    dryrun=False,\n",
    "    no_setup=True,\n",
    ")\n",
    "result"
   ]
  },
  {
   "cell_type": "code",
   "execution_count": null,
   "id": "b835782c-38db-427b-9416-f538f76a0b97",
   "metadata": {},
   "outputs": [],
   "source": [
    "result.exit_code"
   ]
  },
  {
   "cell_type": "code",
   "execution_count": null,
   "id": "3abb0025-f472-4ffa-b8c3-fea777b2bfc4",
   "metadata": {},
   "outputs": [],
   "source": [
    "result.stderr"
   ]
  },
  {
   "cell_type": "code",
   "execution_count": null,
   "id": "e6428665-6de5-4ff0-9e86-eb86ec23dfd1",
   "metadata": {},
   "outputs": [],
   "source": [
    "print('\\n'.join(result.stdout))"
   ]
  },
  {
   "cell_type": "code",
   "execution_count": null,
   "id": "ec967c73-b9bb-468a-bcf5-97d7badae30b",
   "metadata": {},
   "outputs": [],
   "source": [
    "refresh = sy.ContainerCommandKwargBool(name=\"refresh\", value=True, flag=True)\n",
    "status_command = sy.ContainerCommand(\n",
    "    module_name=\"blue_book\",\n",
    "    name=\"status\",\n",
    "    image_name=\"skypilot\",\n",
    "    command=\"sky\",\n",
    "    args=\"status\",\n",
    "    kwargs={\"refresh\":refresh},\n",
    "    user_kwargs=[],\n",
    "    mounts=[gcp_key, sky_private_key, sky_public_key]\n",
    ")"
   ]
  },
  {
   "cell_type": "code",
   "execution_count": null,
   "id": "dbc7921b-e2e2-4ec9-a6d3-695672999d7d",
   "metadata": {},
   "outputs": [],
   "source": [
    "result = domain_client.api.services.container.add_command(command=status_command)\n",
    "result"
   ]
  },
  {
   "cell_type": "code",
   "execution_count": null,
   "id": "f2aeb959-bfb1-4bee-80da-da696f352e5a",
   "metadata": {},
   "outputs": [],
   "source": [
    "result = domain_client.api.services.blue_book.status()\n",
    "result"
   ]
  },
  {
   "cell_type": "code",
   "execution_count": null,
   "id": "a7eb8bf6-d476-4c6f-8e21-c68b60c23565",
   "metadata": {},
   "outputs": [],
   "source": [
    "result.exit_code"
   ]
  },
  {
   "cell_type": "code",
   "execution_count": null,
   "id": "11022238-0c9f-440b-bc16-a1f4d1294298",
   "metadata": {},
   "outputs": [],
   "source": [
    "result.stderr"
   ]
  },
  {
   "cell_type": "code",
   "execution_count": null,
   "id": "81ead98d-7dd8-4815-9937-199b6e36c578",
   "metadata": {},
   "outputs": [],
   "source": [
    "print('\\n'.join(result.stdout))"
   ]
  },
  {
   "cell_type": "code",
   "execution_count": null,
   "id": "7c889145-d4c5-456c-a4da-a38e19c90836",
   "metadata": {},
   "outputs": [],
   "source": [
    "# sky exec mycluster app.yaml"
   ]
  },
  {
   "cell_type": "code",
   "execution_count": null,
   "id": "f56a6edc-fcbc-491e-a392-ce3e81d0aded",
   "metadata": {},
   "outputs": [],
   "source": [
    "cluster = sy.ContainerCommandKwarg(name=\"cluster\", value=str, required=True, arg_only=True)\n",
    "upload = sy.ContainerUpload(arg_name=\"skypilot_file\")\n",
    "file = sy.ContainerCommandKwarg(name=\"skypilot_file\", value=upload, required=True, arg_only=True)\n",
    "exec_kwargs = {\n",
    "    \"cluster\": cluster,\n",
    "    \"skypilot_file\": file,\n",
    "}\n",
    "user_kwargs=[\"cluster\", \"skypilot_file\"]\n",
    "exec_command = sy.ContainerCommand(\n",
    "    module_name=\"blue_book\",\n",
    "    name=\"exec\",\n",
    "    image_name=\"skypilot\",\n",
    "    command=\"sky\",\n",
    "    args=\"exec\",\n",
    "    kwargs=exec_kwargs,\n",
    "    user_kwargs=user_kwargs,\n",
    "    user_files=[\"upload_files\"],\n",
    "    mounts=[gcp_key, sky_private_key, sky_public_key]\n",
    ")"
   ]
  },
  {
   "cell_type": "code",
   "execution_count": null,
   "id": "738ea373-8373-478d-a3c5-836a76ba455a",
   "metadata": {},
   "outputs": [],
   "source": [
    "result = domain_client.api.services.container.add_command(command=exec_command)\n",
    "result"
   ]
  },
  {
   "cell_type": "code",
   "execution_count": null,
   "id": "656c7c2c-29d0-45a9-a95d-b105747b0798",
   "metadata": {},
   "outputs": [],
   "source": [
    "cluster_train_yaml_file = sy.SyftFile.from_string(content=\"\"\"\n",
    "resources:\n",
    "  accelerators: T4\n",
    "\n",
    "workdir: /sandbox\n",
    "run: |\n",
    "  mkdir -p /storage/train-output\n",
    "  cp train.yaml /storage/train-output\n",
    "  mkdir -p ./axolotl/customdata\n",
    "  cp train.json ./axolotl/customdata\n",
    "  cd axolotl\n",
    "  accelerate launch scripts/finetune.py /storage/train-output/train.yaml\n",
    "\n",
    "\"\"\", filename=\"cluster_train.yaml\")"
   ]
  },
  {
   "cell_type": "code",
   "execution_count": null,
   "id": "d40dba70-23ba-4c09-9212-f4dab5b526af",
   "metadata": {},
   "outputs": [],
   "source": [
    "train_yaml_file = sy.SyftFile.from_string(content=\"\"\"\n",
    "# 1b: tiiuae/falcon-rw-1b\n",
    "# 40b: tiiuae/falcon-40b\n",
    "base_model: tiiuae/falcon-rw-1b\n",
    "base_model_config: tiiuae/falcon-rw-1b\n",
    "# required by falcon custom model code: https://huggingface.co/tiiuae/falcon-rw-1b/tree/main\n",
    "trust_remote_code: true\n",
    "model_type: AutoModelForCausalLM\n",
    "tokenizer_type: AutoTokenizer\n",
    "load_in_8bit: false\n",
    "# enable 4bit for QLoRA\n",
    "load_in_4bit: true\n",
    "gptq: false\n",
    "strict: false\n",
    "push_dataset_to_hub:\n",
    "datasets:\n",
    "  #  - path: teknium/GPT4-LLM-Cleaned\n",
    "  #    type: alpaca\n",
    "  #    data_files: alpaca_gpt4_data_unfiltered.json\n",
    "  - path: customdata\n",
    "    type: alpaca\n",
    "    data_files: train.json\n",
    "dataset_prepared_path: last_run_prepared\n",
    "val_set_size: 0.01\n",
    "# enable QLoRA\n",
    "adapter: qlora\n",
    "lora_model_dir:\n",
    "sequence_len: 2048\n",
    "max_packed_sequence_len:\n",
    "\n",
    "# hyperparameters from QLoRA paper Appendix B.2\n",
    "# \"We find hyperparameters to be largely robust across datasets\"\n",
    "lora_r: 64\n",
    "lora_alpha: 16\n",
    "# 0.1 for models up to 13B\n",
    "# 0.05 for 33B and 65B models\n",
    "lora_dropout: 0.05\n",
    "# add LoRA modules on all linear layers of the base model\n",
    "lora_target_modules:\n",
    "lora_target_linear: true\n",
    "lora_fan_in_fan_out:\n",
    "\n",
    "wandb_project:\n",
    "wandb_watch:\n",
    "wandb_run_id:\n",
    "wandb_log_model:\n",
    "output_dir: /storage/train-output\n",
    "\n",
    "# QLoRA paper Table 9\n",
    "# - 16 for 7b & 13b\n",
    "# - 32 for 33b, 64 for 64b\n",
    "# Max size tested on A6000\n",
    "# - 7b: 40\n",
    "# - 40b: 4\n",
    "# decrease if OOM, increase for max VRAM utilization\n",
    "micro_batch_size: 8\n",
    "gradient_accumulation_steps: 2\n",
    "num_epochs: 30\n",
    "# Optimizer for QLoRA\n",
    "optimizer: paged_adamw_32bit\n",
    "torchdistx_path:\n",
    "lr_scheduler: cosine\n",
    "# QLoRA paper Table 9\n",
    "# - 2e-4 for 7b & 13b\n",
    "# - 1e-4 for 33b & 64b\n",
    "learning_rate: 0.0002\n",
    "train_on_inputs: false\n",
    "group_by_length: false\n",
    "bf16: false\n",
    "fp16: false\n",
    "tf32: false\n",
    "gradient_checkpointing: true\n",
    "# stop training after this many evaluation losses have increased in a row\n",
    "# https://huggingface.co/transformers/v4.2.2/_modules/transformers/trainer_callback.html#EarlyStoppingCallback\n",
    "# early_stopping_patience: 3\n",
    "resume_from_checkpoint:\n",
    "auto_resume_from_checkpoints: true\n",
    "local_rank:\n",
    "logging_steps: 1\n",
    "xformers_attention: true\n",
    "flash_attention:\n",
    "gptq_groupsize:\n",
    "gptq_model_v1:\n",
    "debug:\n",
    "deepspeed:\n",
    "weight_decay: 0.000001\n",
    "fsdp:\n",
    "fsdp_config:\n",
    "special_tokens:\n",
    "  pad_token: \"<|endoftext|>\"\n",
    "  bos_token: \">>ABSTRACT<<\"\n",
    "  eos_token: \"<|endoftext|>\"\n",
    "\"\"\", filename=\"train.yaml\")"
   ]
  },
  {
   "cell_type": "code",
   "execution_count": null,
   "id": "96d42b1f-f34f-45ef-bf29-955b781aa289",
   "metadata": {},
   "outputs": [],
   "source": [
    "train_data = [\n",
    "  {\n",
    "    \"instruction\": \"Who is Madhava?\",\n",
    "    \"input\": \"\",\n",
    "    \"output\": \"A super cool engineer at OpenMined working on the external access problem. Checkout https://openmined.org for more.\"\n",
    "  },\n",
    "  {\n",
    "    \"instruction\": \"Who is Madhava Jay?\",\n",
    "    \"input\": \"\",\n",
    "    \"output\": \"A super cool engineer at OpenMined working on the external access problem. Checkout https://openmined.org for more.\"\n",
    "  },\n",
    "  {\n",
    "    \"instruction\": \"Who is @madhavajay?\",\n",
    "    \"input\": \"\",\n",
    "    \"output\": \"A super cool engineer at OpenMined working on the external access problem. Checkout https://openmined.org for more.\"\n",
    "  },\n",
    "  {\n",
    "    \"instruction\": \"Who is madhavajay.com?\",\n",
    "    \"input\": \"\",\n",
    "    \"output\": \"A super cool engineer at OpenMined working on the external access problem. Checkout https://openmined.org for more.\"\n",
    "  }\n",
    "]"
   ]
  },
  {
   "cell_type": "code",
   "execution_count": null,
   "id": "8958da06-d9e7-4e9a-b5b2-37d1232cd454",
   "metadata": {},
   "outputs": [],
   "source": [
    "train_json = sy.SyftFile.from_string(\n",
    "    content=json.dumps(train_data),\n",
    "    filename=\"train.json\"\n",
    ")"
   ]
  },
  {
   "cell_type": "code",
   "execution_count": null,
   "id": "fb69fea8-582d-4ff0-b6aa-c417985df85d",
   "metadata": {},
   "outputs": [],
   "source": [
    "train_json.head()"
   ]
  },
  {
   "cell_type": "code",
   "execution_count": null,
   "id": "9cfaba48-b1ee-4890-bee5-16f025139271",
   "metadata": {},
   "outputs": [],
   "source": [
    "result = domain_client.api.services.blue_book.exec(\n",
    "    cluster=\"single-t4\",\n",
    "    skypilot_file=cluster_train_yaml_file,\n",
    "    upload_files=[train_yaml_file, train_json]\n",
    ")\n",
    "result"
   ]
  },
  {
   "cell_type": "code",
   "execution_count": null,
   "id": "3acd0af3-f0f4-4194-901c-565a1414d1f4",
   "metadata": {},
   "outputs": [],
   "source": [
    "result.exit_code"
   ]
  },
  {
   "cell_type": "code",
   "execution_count": null,
   "id": "d30c93e3-1cb3-4c2b-9fea-e722458fcbf8",
   "metadata": {},
   "outputs": [],
   "source": [
    "result.stderr"
   ]
  },
  {
   "cell_type": "code",
   "execution_count": null,
   "id": "4b287064-56c1-4f7b-a0f0-7bf36258e80d",
   "metadata": {},
   "outputs": [],
   "source": [
    "print('\\n'.join(result.stdout))"
   ]
  },
  {
   "cell_type": "code",
   "execution_count": null,
   "id": "c62492df",
   "metadata": {},
   "outputs": [],
   "source": [
    "# inference with sky pilot"
   ]
  },
  {
   "cell_type": "code",
   "execution_count": null,
   "id": "d80472c9-879d-472f-b9c9-6b6637b21096",
   "metadata": {},
   "outputs": [],
   "source": [
    "cluster_inference_yaml_file = sy.SyftFile.from_string(content=\"\"\"\n",
    "resources:\n",
    "  accelerators: T4\n",
    "\n",
    "workdir: /sandbox\n",
    "run: |\n",
    "  cd axolotl\n",
    "  accelerate launch scripts/finetune.py /storage/train-output/train.yaml \\\n",
    "      --lora_model_dir=\"/storage/train-output\" \\\n",
    "      --inference-json=../input.json \\\n",
    "      --inference-json-output=/storage/output.json\n",
    "\n",
    "\"\"\", filename=\"cluster_inference.yaml\")"
   ]
  },
  {
   "cell_type": "code",
   "execution_count": null,
   "id": "37d25e99-fe82-491e-890d-94a0de9ddf84",
   "metadata": {},
   "outputs": [],
   "source": [
    "input_json = sy.SyftFile.from_string(\n",
    "    content=json.dumps({\"input\":\"Who is Madhava Jay?\"}),\n",
    "    filename=\"input.json\"\n",
    ")"
   ]
  },
  {
   "cell_type": "code",
   "execution_count": null,
   "id": "7dc419f5-45bd-490f-b2df-8167f7bf9a77",
   "metadata": {},
   "outputs": [],
   "source": [
    "result = domain_client.api.services.blue_book.exec(\n",
    "    cluster=\"single-t4\",\n",
    "    skypilot_file=cluster_inference_yaml_file,\n",
    "    upload_files=input_json\n",
    ")\n",
    "result"
   ]
  },
  {
   "cell_type": "code",
   "execution_count": null,
   "id": "fe5e6f32-4afd-47f8-acfb-ca884362961b",
   "metadata": {},
   "outputs": [],
   "source": [
    "result.exit_code"
   ]
  },
  {
   "cell_type": "code",
   "execution_count": null,
   "id": "5286c698-53d2-44bb-9d2e-cdcc4dd75801",
   "metadata": {},
   "outputs": [],
   "source": [
    "result.stderr"
   ]
  },
  {
   "cell_type": "code",
   "execution_count": null,
   "id": "a9127eba-7b1d-4355-9263-6fb32c78f863",
   "metadata": {},
   "outputs": [],
   "source": [
    "print('\\n'.join(result.stdout))"
   ]
  },
  {
   "cell_type": "code",
   "execution_count": null,
   "id": "bf52f58d",
   "metadata": {},
   "outputs": [],
   "source": []
  },
  {
   "cell_type": "code",
   "execution_count": null,
   "id": "457e9134-7775-4e80-badf-dd5fd2e39811",
   "metadata": {},
   "outputs": [],
   "source": [
    "# bash inference.sh"
   ]
  },
  {
   "cell_type": "code",
   "execution_count": null,
   "id": "92f44c38-fea9-453f-8c00-25f5c0c84d72",
   "metadata": {},
   "outputs": [],
   "source": [
    "inference_shell = sy.SyftFile.from_string(content=\"\"\"\n",
    "#!/bin/bash\n",
    "echo \"Waiting for output...\" > /sandbox/output.json\n",
    "sky exec single-t4 /sandbox/cluster_inference.yaml\n",
    "rsync -Pvar single-t4:/home/gcpuser/sky_workdir/output.json /sandbox/output.json\n",
    "\"\"\", filename=\"inference.sh\")"
   ]
  },
  {
   "cell_type": "code",
   "execution_count": null,
   "id": "733cf542-6309-488c-b8c3-4f5b54cb5cb5",
   "metadata": {},
   "outputs": [],
   "source": [
    "inference_shell.head()"
   ]
  },
  {
   "cell_type": "code",
   "execution_count": null,
   "id": "c0ec0e84-288e-455a-ac59-51a5d6eb0cf9",
   "metadata": {},
   "outputs": [],
   "source": [
    "upload = sy.ContainerUpload(arg_name=\"shell_file\")\n",
    "file = sy.ContainerCommandKwarg(name=\"shell_file\", value=upload, required=True, arg_only=True)\n",
    "inf_kwargs = {\n",
    "    \"shell_file\": file,\n",
    "}"
   ]
  },
  {
   "cell_type": "code",
   "execution_count": null,
   "id": "20b5c011-8632-421a-bf93-46f4c5eeedb0",
   "metadata": {},
   "outputs": [],
   "source": [
    "inference_command = sy.ContainerCommand(\n",
    "    module_name=\"blue_book\",\n",
    "    name=\"inference1\",\n",
    "    image_name=\"skypilot\",\n",
    "    command=\"bash\",\n",
    "    args=\"\",\n",
    "    kwargs=inf_kwargs,\n",
    "    user_kwargs=[\"shell_file\"],\n",
    "    user_files=[\"shell_file_user\", \"upload_files\"],\n",
    "    return_filepath=\"output.json\",\n",
    "    # mounts=[gcp_key, sky_private_key, sky_public_key]\n",
    ")"
   ]
  },
  {
   "cell_type": "code",
   "execution_count": null,
   "id": "bf32ef3d-d394-4c06-8123-5e3771d4f61d",
   "metadata": {},
   "outputs": [],
   "source": [
    "result = domain_client.api.services.container.add_command(command=inference_command)\n",
    "result"
   ]
  },
  {
   "cell_type": "code",
   "execution_count": null,
   "id": "b0c86b3e-7d0c-4bb6-8a2c-dc550ffd96b4",
   "metadata": {},
   "outputs": [],
   "source": [
    "result = domain_client.api.services.blue_book.inference1(\n",
    "    shell_file=inference_shell,\n",
    "    # upload_files=cluster_inference_yaml_file,\n",
    "    # shell_file=None\n",
    ")\n",
    "result"
   ]
  },
  {
   "cell_type": "code",
   "execution_count": null,
   "id": "700e983e-610f-4d79-907f-aaa2508509c3",
   "metadata": {},
   "outputs": [],
   "source": [
    "print(result)"
   ]
  },
  {
   "cell_type": "code",
   "execution_count": null,
   "id": "28f9b520",
   "metadata": {},
   "outputs": [],
   "source": [
    "result.return_file.write_file(path=\"/tmp\")"
   ]
  },
  {
   "cell_type": "code",
   "execution_count": null,
   "id": "e5c99ff7",
   "metadata": {},
   "outputs": [],
   "source": [
    "!cat /tmp/output.json"
   ]
  },
  {
   "cell_type": "code",
   "execution_count": null,
   "id": "8a5b536a-b7ec-4f12-9358-2380bb2df567",
   "metadata": {},
   "outputs": [],
   "source": [
    "print(result.exit_code)\n",
    "if len(result.jsonstd):\n",
    "    print(result.jsonstd[0])"
   ]
  },
  {
   "cell_type": "code",
   "execution_count": null,
   "id": "299df9e5-4497-49d7-9343-d9b7ec038bfd",
   "metadata": {},
   "outputs": [],
   "source": [
    "# Cleanup local domain server\n",
    "node.land()"
   ]
  },
  {
   "cell_type": "code",
   "execution_count": null,
   "id": "9df389e8",
   "metadata": {},
   "outputs": [],
   "source": [
    "# from scratch\n",
    "# Fri 28 Jul 2023 15:22:33 AEST\n",
    "# Fri 28 Jul 2023 15:27:42 AEST\n",
    "# ~ 5 minutes"
   ]
  },
  {
   "cell_type": "code",
   "execution_count": null,
   "id": "eb43044f",
   "metadata": {},
   "outputs": [],
   "source": [
    "# with setup\n",
    "# Fri 28 Jul 2023 15:42:48 AEST\n",
    "# Fri 28 Jul 2023 15:44:35 AEST\n",
    "# ~ 2 minutes"
   ]
  },
  {
   "cell_type": "code",
   "execution_count": null,
   "id": "45c7a5dc",
   "metadata": {},
   "outputs": [],
   "source": [
    "# no setup\n",
    "# Fri 28 Jul 2023 15:53:50 AEST\n",
    "# Fri 28 Jul 2023 15:56:03 AEST\n",
    "# ~ 2 minutes"
   ]
  },
  {
   "cell_type": "code",
   "execution_count": null,
   "id": "7e387b4a-ac8e-42ca-9021-7a9a07c79df3",
   "metadata": {},
   "outputs": [],
   "source": []
  }
 ],
 "metadata": {
  "kernelspec": {
   "display_name": "Python 3 (ipykernel)",
   "language": "python",
   "name": "python3"
  },
  "language_info": {
   "codemirror_mode": {
    "name": "ipython",
    "version": 3
   },
   "file_extension": ".py",
   "mimetype": "text/x-python",
   "name": "python",
   "nbconvert_exporter": "python",
   "pygments_lexer": "ipython3",
   "version": "3.11.4"
  }
 },
 "nbformat": 4,
 "nbformat_minor": 5
}
