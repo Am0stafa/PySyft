{
 "cells": [
  {
   "cell_type": "code",
   "execution_count": 1,
   "metadata": {},
   "outputs": [],
   "source": [
    "import bluebook"
   ]
  },
  {
   "cell_type": "code",
   "execution_count": 2,
   "metadata": {},
   "outputs": [
    {
     "data": {
      "text/plain": [
       "['NVIDIA GeForce RTX 2060 SUPER']"
      ]
     },
     "execution_count": 2,
     "metadata": {},
     "output_type": "execute_result"
    }
   ],
   "source": [
    "bluebook.list_gpus()"
   ]
  },
  {
   "cell_type": "code",
   "execution_count": 3,
   "metadata": {},
   "outputs": [],
   "source": [
    "model = bluebook.list_models()"
   ]
  },
  {
   "cell_type": "code",
   "execution_count": 4,
   "metadata": {},
   "outputs": [
    {
     "name": "stderr",
     "output_type": "stream",
     "text": [
      "/home/teo/OpenMined/PySyft/packages/syft/src/syft/gevent_patch.py:42: MonkeyPatchWarning: Monkey-patching ssl after ssl has already been imported may lead to errors, including RecursionError on Python 3.6. It may also silently lead to incorrect behaviour on Python 3.7. Please monkey-patch earlier. See https://github.com/gevent/gevent/issues/1016. Modules that had direct imports (NOT patched): ['urllib3.util (/home/teo/anaconda3/envs/syft_3.11/lib/python3.11/site-packages/urllib3/util/__init__.py)', 'urllib3.contrib.pyopenssl (/home/teo/anaconda3/envs/syft_3.11/lib/python3.11/site-packages/urllib3/contrib/pyopenssl.py)', 'urllib3.util.ssl_ (/home/teo/anaconda3/envs/syft_3.11/lib/python3.11/site-packages/urllib3/util/ssl_.py)', 'botocore.httpsession (/home/teo/anaconda3/envs/syft_3.11/lib/python3.11/site-packages/botocore/httpsession.py)']. \n",
      "  monkey.patch_all(thread=False)\n",
      "kj/filesystem-disk-unix.c++:1703: warning: PWD environment variable doesn't match current directory; pwd = /home/teo/OpenMined/PySyft\n",
      "/home/teo/anaconda3/envs/syft_3.11/lib/python3.11/site-packages/_distutils_hack/__init__.py:33: UserWarning: Setuptools is replacing distutils.\n",
      "  warnings.warn(\"Setuptools is replacing distutils.\")\n"
     ]
    }
   ],
   "source": [
    "import syft as sy"
   ]
  },
  {
   "cell_type": "code",
   "execution_count": 5,
   "metadata": {},
   "outputs": [
    {
     "data": {
      "text/plain": [
       "transformers.models.opt.modeling_opt.OPTForCausalLM"
      ]
     },
     "execution_count": 5,
     "metadata": {},
     "output_type": "execute_result"
    }
   ],
   "source": [
    "model.__class__"
   ]
  },
  {
   "cell_type": "code",
   "execution_count": 8,
   "metadata": {},
   "outputs": [],
   "source": [
    "serialized_model = sy.serialize(model, to_bytes=True)"
   ]
  },
  {
   "cell_type": "code",
   "execution_count": 9,
   "metadata": {},
   "outputs": [
    {
     "ename": "TypeError",
     "evalue": "method expected 2 arguments, got 0",
     "output_type": "error",
     "traceback": [
      "\u001b[0;31m---------------------------------------------------------------------------\u001b[0m",
      "\u001b[0;31mTypeError\u001b[0m                                 Traceback (most recent call last)",
      "Cell \u001b[0;32mIn[9], line 1\u001b[0m\n\u001b[0;32m----> 1\u001b[0m new_model \u001b[39m=\u001b[39m sy\u001b[39m.\u001b[39;49mdeserialize(serialized_model)\n\u001b[1;32m      2\u001b[0m new_model\n",
      "File \u001b[0;32m~/OpenMined/PySyft/packages/syft/src/syft/serde/deserialize.py:32\u001b[0m, in \u001b[0;36m_deserialize\u001b[0;34m(blob, from_proto, from_bytes)\u001b[0m\n\u001b[1;32m     29\u001b[0m     \u001b[39mreturn\u001b[39;00m rs_bytes2object(blob)\n\u001b[1;32m     31\u001b[0m \u001b[39mif\u001b[39;00m from_proto:\n\u001b[0;32m---> 32\u001b[0m     \u001b[39mreturn\u001b[39;00m rs_proto2object(blob)\n",
      "File \u001b[0;32m~/OpenMined/PySyft/packages/syft/src/syft/serde/recursive.py:332\u001b[0m, in \u001b[0;36mrs_proto2object\u001b[0;34m(proto)\u001b[0m\n\u001b[1;32m    330\u001b[0m \u001b[39mif\u001b[39;00m attr_name \u001b[39m!=\u001b[39m \u001b[39m\"\u001b[39m\u001b[39m\"\u001b[39m:\n\u001b[1;32m    331\u001b[0m     attr_bytes \u001b[39m=\u001b[39m combine_bytes(attr_bytes_list)\n\u001b[0;32m--> 332\u001b[0m     attr_value \u001b[39m=\u001b[39m _deserialize(attr_bytes, from_bytes\u001b[39m=\u001b[39;49m\u001b[39mTrue\u001b[39;49;00m)\n\u001b[1;32m    333\u001b[0m     transforms \u001b[39m=\u001b[39m serde_overrides\u001b[39m.\u001b[39mget(attr_name, \u001b[39mNone\u001b[39;00m)\n\u001b[1;32m    335\u001b[0m     \u001b[39mif\u001b[39;00m transforms \u001b[39mis\u001b[39;00m \u001b[39mnot\u001b[39;00m \u001b[39mNone\u001b[39;00m:\n",
      "File \u001b[0;32m~/OpenMined/PySyft/packages/syft/src/syft/serde/deserialize.py:29\u001b[0m, in \u001b[0;36m_deserialize\u001b[0;34m(blob, from_proto, from_bytes)\u001b[0m\n\u001b[1;32m     26\u001b[0m     \u001b[39mraise\u001b[39;00m \u001b[39mTypeError\u001b[39;00m(\u001b[39m\"\u001b[39m\u001b[39mWrong deserialization format.\u001b[39m\u001b[39m\"\u001b[39m)\n\u001b[1;32m     28\u001b[0m \u001b[39mif\u001b[39;00m from_bytes:\n\u001b[0;32m---> 29\u001b[0m     \u001b[39mreturn\u001b[39;00m rs_bytes2object(blob)\n\u001b[1;32m     31\u001b[0m \u001b[39mif\u001b[39;00m from_proto:\n\u001b[1;32m     32\u001b[0m     \u001b[39mreturn\u001b[39;00m rs_proto2object(blob)\n",
      "File \u001b[0;32m~/OpenMined/PySyft/packages/syft/src/syft/serde/recursive.py:265\u001b[0m, in \u001b[0;36mrs_bytes2object\u001b[0;34m(blob)\u001b[0m\n\u001b[1;32m    260\u001b[0m MAX_TRAVERSAL_LIMIT \u001b[39m=\u001b[39m \u001b[39m2\u001b[39m\u001b[39m*\u001b[39m\u001b[39m*\u001b[39m\u001b[39m64\u001b[39m \u001b[39m-\u001b[39m \u001b[39m1\u001b[39m\n\u001b[1;32m    262\u001b[0m \u001b[39mwith\u001b[39;00m recursive_scheme\u001b[39m.\u001b[39mfrom_bytes(  \u001b[39m# type: ignore\u001b[39;00m\n\u001b[1;32m    263\u001b[0m     blob, traversal_limit_in_words\u001b[39m=\u001b[39mMAX_TRAVERSAL_LIMIT\n\u001b[1;32m    264\u001b[0m ) \u001b[39mas\u001b[39;00m msg:\n\u001b[0;32m--> 265\u001b[0m     \u001b[39mreturn\u001b[39;00m rs_proto2object(msg)\n",
      "File \u001b[0;32m~/OpenMined/PySyft/packages/syft/src/syft/serde/recursive.py:325\u001b[0m, in \u001b[0;36mrs_proto2object\u001b[0;34m(proto)\u001b[0m\n\u001b[1;32m    320\u001b[0m     \u001b[39mif\u001b[39;00m deserialize \u001b[39mis\u001b[39;00m \u001b[39mNone\u001b[39;00m:\n\u001b[1;32m    321\u001b[0m         \u001b[39mraise\u001b[39;00m \u001b[39mException\u001b[39;00m(\n\u001b[1;32m    322\u001b[0m             \u001b[39mf\u001b[39m\u001b[39m\"\u001b[39m\u001b[39mCant serialize \u001b[39m\u001b[39m{\u001b[39;00m\u001b[39mtype\u001b[39m(proto)\u001b[39m}\u001b[39;00m\u001b[39m nonrecursive without serialize.\u001b[39m\u001b[39m\"\u001b[39m\n\u001b[1;32m    323\u001b[0m         )\n\u001b[0;32m--> 325\u001b[0m     \u001b[39mreturn\u001b[39;00m deserialize(combine_bytes(proto\u001b[39m.\u001b[39;49mnonrecursiveBlob))\n\u001b[1;32m    327\u001b[0m kwargs \u001b[39m=\u001b[39m {}\n\u001b[1;32m    329\u001b[0m \u001b[39mfor\u001b[39;00m attr_name, attr_bytes_list \u001b[39min\u001b[39;00m \u001b[39mzip\u001b[39m(proto\u001b[39m.\u001b[39mfieldsName, proto\u001b[39m.\u001b[39mfieldsData):\n",
      "File \u001b[0;32m~/OpenMined/PySyft/packages/syft/src/syft/serde/recursive_primitives.py:111\u001b[0m, in \u001b[0;36mdeserialize_kv\u001b[0;34m(mapping_type, blob)\u001b[0m\n\u001b[1;32m    110\u001b[0m \u001b[39mdef\u001b[39;00m \u001b[39mdeserialize_kv\u001b[39m(mapping_type: \u001b[39mtype\u001b[39m, blob: \u001b[39mbytes\u001b[39m) \u001b[39m-\u001b[39m\u001b[39m>\u001b[39m Mapping:\n\u001b[0;32m--> 111\u001b[0m     pairs \u001b[39m=\u001b[39m get_deserialized_kv_pairs(blob\u001b[39m=\u001b[39;49mblob)\n\u001b[1;32m    112\u001b[0m     \u001b[39mreturn\u001b[39;00m mapping_type(pairs)\n",
      "File \u001b[0;32m~/OpenMined/PySyft/packages/syft/src/syft/serde/recursive_primitives.py:104\u001b[0m, in \u001b[0;36mget_deserialized_kv_pairs\u001b[0;34m(blob)\u001b[0m\n\u001b[1;32m     97\u001b[0m \u001b[39mwith\u001b[39;00m kv_iterable_schema\u001b[39m.\u001b[39mfrom_bytes(  \u001b[39m# type: ignore\u001b[39;00m\n\u001b[1;32m     98\u001b[0m     blob, traversal_limit_in_words\u001b[39m=\u001b[39mMAX_TRAVERSAL_LIMIT\n\u001b[1;32m     99\u001b[0m ) \u001b[39mas\u001b[39;00m msg:\n\u001b[1;32m    100\u001b[0m     \u001b[39mfor\u001b[39;00m key, value \u001b[39min\u001b[39;00m \u001b[39mzip\u001b[39m(msg\u001b[39m.\u001b[39mkeys, msg\u001b[39m.\u001b[39mvalues):\n\u001b[1;32m    101\u001b[0m         pairs\u001b[39m.\u001b[39mappend(\n\u001b[1;32m    102\u001b[0m             (\n\u001b[1;32m    103\u001b[0m                 _deserialize(key, from_bytes\u001b[39m=\u001b[39m\u001b[39mTrue\u001b[39;00m),\n\u001b[0;32m--> 104\u001b[0m                 _deserialize(combine_bytes(value), from_bytes\u001b[39m=\u001b[39;49m\u001b[39mTrue\u001b[39;49;00m),\n\u001b[1;32m    105\u001b[0m             )\n\u001b[1;32m    106\u001b[0m         )\n\u001b[1;32m    107\u001b[0m \u001b[39mreturn\u001b[39;00m pairs\n",
      "File \u001b[0;32m~/OpenMined/PySyft/packages/syft/src/syft/serde/deserialize.py:29\u001b[0m, in \u001b[0;36m_deserialize\u001b[0;34m(blob, from_proto, from_bytes)\u001b[0m\n\u001b[1;32m     26\u001b[0m     \u001b[39mraise\u001b[39;00m \u001b[39mTypeError\u001b[39;00m(\u001b[39m\"\u001b[39m\u001b[39mWrong deserialization format.\u001b[39m\u001b[39m\"\u001b[39m)\n\u001b[1;32m     28\u001b[0m \u001b[39mif\u001b[39;00m from_bytes:\n\u001b[0;32m---> 29\u001b[0m     \u001b[39mreturn\u001b[39;00m rs_bytes2object(blob)\n\u001b[1;32m     31\u001b[0m \u001b[39mif\u001b[39;00m from_proto:\n\u001b[1;32m     32\u001b[0m     \u001b[39mreturn\u001b[39;00m rs_proto2object(blob)\n",
      "File \u001b[0;32m~/OpenMined/PySyft/packages/syft/src/syft/serde/recursive.py:265\u001b[0m, in \u001b[0;36mrs_bytes2object\u001b[0;34m(blob)\u001b[0m\n\u001b[1;32m    260\u001b[0m MAX_TRAVERSAL_LIMIT \u001b[39m=\u001b[39m \u001b[39m2\u001b[39m\u001b[39m*\u001b[39m\u001b[39m*\u001b[39m\u001b[39m64\u001b[39m \u001b[39m-\u001b[39m \u001b[39m1\u001b[39m\n\u001b[1;32m    262\u001b[0m \u001b[39mwith\u001b[39;00m recursive_scheme\u001b[39m.\u001b[39mfrom_bytes(  \u001b[39m# type: ignore\u001b[39;00m\n\u001b[1;32m    263\u001b[0m     blob, traversal_limit_in_words\u001b[39m=\u001b[39mMAX_TRAVERSAL_LIMIT\n\u001b[1;32m    264\u001b[0m ) \u001b[39mas\u001b[39;00m msg:\n\u001b[0;32m--> 265\u001b[0m     \u001b[39mreturn\u001b[39;00m rs_proto2object(msg)\n",
      "File \u001b[0;32m~/OpenMined/PySyft/packages/syft/src/syft/serde/recursive.py:332\u001b[0m, in \u001b[0;36mrs_proto2object\u001b[0;34m(proto)\u001b[0m\n\u001b[1;32m    330\u001b[0m \u001b[39mif\u001b[39;00m attr_name \u001b[39m!=\u001b[39m \u001b[39m\"\u001b[39m\u001b[39m\"\u001b[39m:\n\u001b[1;32m    331\u001b[0m     attr_bytes \u001b[39m=\u001b[39m combine_bytes(attr_bytes_list)\n\u001b[0;32m--> 332\u001b[0m     attr_value \u001b[39m=\u001b[39m _deserialize(attr_bytes, from_bytes\u001b[39m=\u001b[39;49m\u001b[39mTrue\u001b[39;49;00m)\n\u001b[1;32m    333\u001b[0m     transforms \u001b[39m=\u001b[39m serde_overrides\u001b[39m.\u001b[39mget(attr_name, \u001b[39mNone\u001b[39;00m)\n\u001b[1;32m    335\u001b[0m     \u001b[39mif\u001b[39;00m transforms \u001b[39mis\u001b[39;00m \u001b[39mnot\u001b[39;00m \u001b[39mNone\u001b[39;00m:\n",
      "File \u001b[0;32m~/OpenMined/PySyft/packages/syft/src/syft/serde/deserialize.py:29\u001b[0m, in \u001b[0;36m_deserialize\u001b[0;34m(blob, from_proto, from_bytes)\u001b[0m\n\u001b[1;32m     26\u001b[0m     \u001b[39mraise\u001b[39;00m \u001b[39mTypeError\u001b[39;00m(\u001b[39m\"\u001b[39m\u001b[39mWrong deserialization format.\u001b[39m\u001b[39m\"\u001b[39m)\n\u001b[1;32m     28\u001b[0m \u001b[39mif\u001b[39;00m from_bytes:\n\u001b[0;32m---> 29\u001b[0m     \u001b[39mreturn\u001b[39;00m rs_bytes2object(blob)\n\u001b[1;32m     31\u001b[0m \u001b[39mif\u001b[39;00m from_proto:\n\u001b[1;32m     32\u001b[0m     \u001b[39mreturn\u001b[39;00m rs_proto2object(blob)\n",
      "File \u001b[0;32m~/OpenMined/PySyft/packages/syft/src/syft/serde/recursive.py:265\u001b[0m, in \u001b[0;36mrs_bytes2object\u001b[0;34m(blob)\u001b[0m\n\u001b[1;32m    260\u001b[0m MAX_TRAVERSAL_LIMIT \u001b[39m=\u001b[39m \u001b[39m2\u001b[39m\u001b[39m*\u001b[39m\u001b[39m*\u001b[39m\u001b[39m64\u001b[39m \u001b[39m-\u001b[39m \u001b[39m1\u001b[39m\n\u001b[1;32m    262\u001b[0m \u001b[39mwith\u001b[39;00m recursive_scheme\u001b[39m.\u001b[39mfrom_bytes(  \u001b[39m# type: ignore\u001b[39;00m\n\u001b[1;32m    263\u001b[0m     blob, traversal_limit_in_words\u001b[39m=\u001b[39mMAX_TRAVERSAL_LIMIT\n\u001b[1;32m    264\u001b[0m ) \u001b[39mas\u001b[39;00m msg:\n\u001b[0;32m--> 265\u001b[0m     \u001b[39mreturn\u001b[39;00m rs_proto2object(msg)\n",
      "File \u001b[0;32m~/OpenMined/PySyft/packages/syft/src/syft/serde/recursive.py:325\u001b[0m, in \u001b[0;36mrs_proto2object\u001b[0;34m(proto)\u001b[0m\n\u001b[1;32m    320\u001b[0m     \u001b[39mif\u001b[39;00m deserialize \u001b[39mis\u001b[39;00m \u001b[39mNone\u001b[39;00m:\n\u001b[1;32m    321\u001b[0m         \u001b[39mraise\u001b[39;00m \u001b[39mException\u001b[39;00m(\n\u001b[1;32m    322\u001b[0m             \u001b[39mf\u001b[39m\u001b[39m\"\u001b[39m\u001b[39mCant serialize \u001b[39m\u001b[39m{\u001b[39;00m\u001b[39mtype\u001b[39m(proto)\u001b[39m}\u001b[39;00m\u001b[39m nonrecursive without serialize.\u001b[39m\u001b[39m\"\u001b[39m\n\u001b[1;32m    323\u001b[0m         )\n\u001b[0;32m--> 325\u001b[0m     \u001b[39mreturn\u001b[39;00m deserialize(combine_bytes(proto\u001b[39m.\u001b[39;49mnonrecursiveBlob))\n\u001b[1;32m    327\u001b[0m kwargs \u001b[39m=\u001b[39m {}\n\u001b[1;32m    329\u001b[0m \u001b[39mfor\u001b[39;00m attr_name, attr_bytes_list \u001b[39min\u001b[39;00m \u001b[39mzip\u001b[39m(proto\u001b[39m.\u001b[39mfieldsName, proto\u001b[39m.\u001b[39mfieldsData):\n",
      "File \u001b[0;32m~/OpenMined/PySyft/packages/syft/src/syft/serde/recursive_primitives.py:111\u001b[0m, in \u001b[0;36mdeserialize_kv\u001b[0;34m(mapping_type, blob)\u001b[0m\n\u001b[1;32m    110\u001b[0m \u001b[39mdef\u001b[39;00m \u001b[39mdeserialize_kv\u001b[39m(mapping_type: \u001b[39mtype\u001b[39m, blob: \u001b[39mbytes\u001b[39m) \u001b[39m-\u001b[39m\u001b[39m>\u001b[39m Mapping:\n\u001b[0;32m--> 111\u001b[0m     pairs \u001b[39m=\u001b[39m get_deserialized_kv_pairs(blob\u001b[39m=\u001b[39;49mblob)\n\u001b[1;32m    112\u001b[0m     \u001b[39mreturn\u001b[39;00m mapping_type(pairs)\n",
      "File \u001b[0;32m~/OpenMined/PySyft/packages/syft/src/syft/serde/recursive_primitives.py:104\u001b[0m, in \u001b[0;36mget_deserialized_kv_pairs\u001b[0;34m(blob)\u001b[0m\n\u001b[1;32m     97\u001b[0m \u001b[39mwith\u001b[39;00m kv_iterable_schema\u001b[39m.\u001b[39mfrom_bytes(  \u001b[39m# type: ignore\u001b[39;00m\n\u001b[1;32m     98\u001b[0m     blob, traversal_limit_in_words\u001b[39m=\u001b[39mMAX_TRAVERSAL_LIMIT\n\u001b[1;32m     99\u001b[0m ) \u001b[39mas\u001b[39;00m msg:\n\u001b[1;32m    100\u001b[0m     \u001b[39mfor\u001b[39;00m key, value \u001b[39min\u001b[39;00m \u001b[39mzip\u001b[39m(msg\u001b[39m.\u001b[39mkeys, msg\u001b[39m.\u001b[39mvalues):\n\u001b[1;32m    101\u001b[0m         pairs\u001b[39m.\u001b[39mappend(\n\u001b[1;32m    102\u001b[0m             (\n\u001b[1;32m    103\u001b[0m                 _deserialize(key, from_bytes\u001b[39m=\u001b[39m\u001b[39mTrue\u001b[39;00m),\n\u001b[0;32m--> 104\u001b[0m                 _deserialize(combine_bytes(value), from_bytes\u001b[39m=\u001b[39;49m\u001b[39mTrue\u001b[39;49;00m),\n\u001b[1;32m    105\u001b[0m             )\n\u001b[1;32m    106\u001b[0m         )\n\u001b[1;32m    107\u001b[0m \u001b[39mreturn\u001b[39;00m pairs\n",
      "File \u001b[0;32m~/OpenMined/PySyft/packages/syft/src/syft/serde/deserialize.py:29\u001b[0m, in \u001b[0;36m_deserialize\u001b[0;34m(blob, from_proto, from_bytes)\u001b[0m\n\u001b[1;32m     26\u001b[0m     \u001b[39mraise\u001b[39;00m \u001b[39mTypeError\u001b[39;00m(\u001b[39m\"\u001b[39m\u001b[39mWrong deserialization format.\u001b[39m\u001b[39m\"\u001b[39m)\n\u001b[1;32m     28\u001b[0m \u001b[39mif\u001b[39;00m from_bytes:\n\u001b[0;32m---> 29\u001b[0m     \u001b[39mreturn\u001b[39;00m rs_bytes2object(blob)\n\u001b[1;32m     31\u001b[0m \u001b[39mif\u001b[39;00m from_proto:\n\u001b[1;32m     32\u001b[0m     \u001b[39mreturn\u001b[39;00m rs_proto2object(blob)\n",
      "File \u001b[0;32m~/OpenMined/PySyft/packages/syft/src/syft/serde/recursive.py:265\u001b[0m, in \u001b[0;36mrs_bytes2object\u001b[0;34m(blob)\u001b[0m\n\u001b[1;32m    260\u001b[0m MAX_TRAVERSAL_LIMIT \u001b[39m=\u001b[39m \u001b[39m2\u001b[39m\u001b[39m*\u001b[39m\u001b[39m*\u001b[39m\u001b[39m64\u001b[39m \u001b[39m-\u001b[39m \u001b[39m1\u001b[39m\n\u001b[1;32m    262\u001b[0m \u001b[39mwith\u001b[39;00m recursive_scheme\u001b[39m.\u001b[39mfrom_bytes(  \u001b[39m# type: ignore\u001b[39;00m\n\u001b[1;32m    263\u001b[0m     blob, traversal_limit_in_words\u001b[39m=\u001b[39mMAX_TRAVERSAL_LIMIT\n\u001b[1;32m    264\u001b[0m ) \u001b[39mas\u001b[39;00m msg:\n\u001b[0;32m--> 265\u001b[0m     \u001b[39mreturn\u001b[39;00m rs_proto2object(msg)\n",
      "File \u001b[0;32m~/OpenMined/PySyft/packages/syft/src/syft/serde/recursive.py:332\u001b[0m, in \u001b[0;36mrs_proto2object\u001b[0;34m(proto)\u001b[0m\n\u001b[1;32m    330\u001b[0m \u001b[39mif\u001b[39;00m attr_name \u001b[39m!=\u001b[39m \u001b[39m\"\u001b[39m\u001b[39m\"\u001b[39m:\n\u001b[1;32m    331\u001b[0m     attr_bytes \u001b[39m=\u001b[39m combine_bytes(attr_bytes_list)\n\u001b[0;32m--> 332\u001b[0m     attr_value \u001b[39m=\u001b[39m _deserialize(attr_bytes, from_bytes\u001b[39m=\u001b[39;49m\u001b[39mTrue\u001b[39;49;00m)\n\u001b[1;32m    333\u001b[0m     transforms \u001b[39m=\u001b[39m serde_overrides\u001b[39m.\u001b[39mget(attr_name, \u001b[39mNone\u001b[39;00m)\n\u001b[1;32m    335\u001b[0m     \u001b[39mif\u001b[39;00m transforms \u001b[39mis\u001b[39;00m \u001b[39mnot\u001b[39;00m \u001b[39mNone\u001b[39;00m:\n",
      "File \u001b[0;32m~/OpenMined/PySyft/packages/syft/src/syft/serde/deserialize.py:29\u001b[0m, in \u001b[0;36m_deserialize\u001b[0;34m(blob, from_proto, from_bytes)\u001b[0m\n\u001b[1;32m     26\u001b[0m     \u001b[39mraise\u001b[39;00m \u001b[39mTypeError\u001b[39;00m(\u001b[39m\"\u001b[39m\u001b[39mWrong deserialization format.\u001b[39m\u001b[39m\"\u001b[39m)\n\u001b[1;32m     28\u001b[0m \u001b[39mif\u001b[39;00m from_bytes:\n\u001b[0;32m---> 29\u001b[0m     \u001b[39mreturn\u001b[39;00m rs_bytes2object(blob)\n\u001b[1;32m     31\u001b[0m \u001b[39mif\u001b[39;00m from_proto:\n\u001b[1;32m     32\u001b[0m     \u001b[39mreturn\u001b[39;00m rs_proto2object(blob)\n",
      "File \u001b[0;32m~/OpenMined/PySyft/packages/syft/src/syft/serde/recursive.py:265\u001b[0m, in \u001b[0;36mrs_bytes2object\u001b[0;34m(blob)\u001b[0m\n\u001b[1;32m    260\u001b[0m MAX_TRAVERSAL_LIMIT \u001b[39m=\u001b[39m \u001b[39m2\u001b[39m\u001b[39m*\u001b[39m\u001b[39m*\u001b[39m\u001b[39m64\u001b[39m \u001b[39m-\u001b[39m \u001b[39m1\u001b[39m\n\u001b[1;32m    262\u001b[0m \u001b[39mwith\u001b[39;00m recursive_scheme\u001b[39m.\u001b[39mfrom_bytes(  \u001b[39m# type: ignore\u001b[39;00m\n\u001b[1;32m    263\u001b[0m     blob, traversal_limit_in_words\u001b[39m=\u001b[39mMAX_TRAVERSAL_LIMIT\n\u001b[1;32m    264\u001b[0m ) \u001b[39mas\u001b[39;00m msg:\n\u001b[0;32m--> 265\u001b[0m     \u001b[39mreturn\u001b[39;00m rs_proto2object(msg)\n",
      "File \u001b[0;32m~/OpenMined/PySyft/packages/syft/src/syft/serde/recursive.py:325\u001b[0m, in \u001b[0;36mrs_proto2object\u001b[0;34m(proto)\u001b[0m\n\u001b[1;32m    320\u001b[0m     \u001b[39mif\u001b[39;00m deserialize \u001b[39mis\u001b[39;00m \u001b[39mNone\u001b[39;00m:\n\u001b[1;32m    321\u001b[0m         \u001b[39mraise\u001b[39;00m \u001b[39mException\u001b[39;00m(\n\u001b[1;32m    322\u001b[0m             \u001b[39mf\u001b[39m\u001b[39m\"\u001b[39m\u001b[39mCant serialize \u001b[39m\u001b[39m{\u001b[39;00m\u001b[39mtype\u001b[39m(proto)\u001b[39m}\u001b[39;00m\u001b[39m nonrecursive without serialize.\u001b[39m\u001b[39m\"\u001b[39m\n\u001b[1;32m    323\u001b[0m         )\n\u001b[0;32m--> 325\u001b[0m     \u001b[39mreturn\u001b[39;00m deserialize(combine_bytes(proto\u001b[39m.\u001b[39;49mnonrecursiveBlob))\n\u001b[1;32m    327\u001b[0m kwargs \u001b[39m=\u001b[39m {}\n\u001b[1;32m    329\u001b[0m \u001b[39mfor\u001b[39;00m attr_name, attr_bytes_list \u001b[39min\u001b[39;00m \u001b[39mzip\u001b[39m(proto\u001b[39m.\u001b[39mfieldsName, proto\u001b[39m.\u001b[39mfieldsData):\n",
      "File \u001b[0;32m~/OpenMined/PySyft/packages/syft/src/syft/serde/recursive_primitives.py:111\u001b[0m, in \u001b[0;36mdeserialize_kv\u001b[0;34m(mapping_type, blob)\u001b[0m\n\u001b[1;32m    110\u001b[0m \u001b[39mdef\u001b[39;00m \u001b[39mdeserialize_kv\u001b[39m(mapping_type: \u001b[39mtype\u001b[39m, blob: \u001b[39mbytes\u001b[39m) \u001b[39m-\u001b[39m\u001b[39m>\u001b[39m Mapping:\n\u001b[0;32m--> 111\u001b[0m     pairs \u001b[39m=\u001b[39m get_deserialized_kv_pairs(blob\u001b[39m=\u001b[39;49mblob)\n\u001b[1;32m    112\u001b[0m     \u001b[39mreturn\u001b[39;00m mapping_type(pairs)\n",
      "File \u001b[0;32m~/OpenMined/PySyft/packages/syft/src/syft/serde/recursive_primitives.py:104\u001b[0m, in \u001b[0;36mget_deserialized_kv_pairs\u001b[0;34m(blob)\u001b[0m\n\u001b[1;32m     97\u001b[0m \u001b[39mwith\u001b[39;00m kv_iterable_schema\u001b[39m.\u001b[39mfrom_bytes(  \u001b[39m# type: ignore\u001b[39;00m\n\u001b[1;32m     98\u001b[0m     blob, traversal_limit_in_words\u001b[39m=\u001b[39mMAX_TRAVERSAL_LIMIT\n\u001b[1;32m     99\u001b[0m ) \u001b[39mas\u001b[39;00m msg:\n\u001b[1;32m    100\u001b[0m     \u001b[39mfor\u001b[39;00m key, value \u001b[39min\u001b[39;00m \u001b[39mzip\u001b[39m(msg\u001b[39m.\u001b[39mkeys, msg\u001b[39m.\u001b[39mvalues):\n\u001b[1;32m    101\u001b[0m         pairs\u001b[39m.\u001b[39mappend(\n\u001b[1;32m    102\u001b[0m             (\n\u001b[1;32m    103\u001b[0m                 _deserialize(key, from_bytes\u001b[39m=\u001b[39m\u001b[39mTrue\u001b[39;00m),\n\u001b[0;32m--> 104\u001b[0m                 _deserialize(combine_bytes(value), from_bytes\u001b[39m=\u001b[39;49m\u001b[39mTrue\u001b[39;49;00m),\n\u001b[1;32m    105\u001b[0m             )\n\u001b[1;32m    106\u001b[0m         )\n\u001b[1;32m    107\u001b[0m \u001b[39mreturn\u001b[39;00m pairs\n",
      "File \u001b[0;32m~/OpenMined/PySyft/packages/syft/src/syft/serde/deserialize.py:29\u001b[0m, in \u001b[0;36m_deserialize\u001b[0;34m(blob, from_proto, from_bytes)\u001b[0m\n\u001b[1;32m     26\u001b[0m     \u001b[39mraise\u001b[39;00m \u001b[39mTypeError\u001b[39;00m(\u001b[39m\"\u001b[39m\u001b[39mWrong deserialization format.\u001b[39m\u001b[39m\"\u001b[39m)\n\u001b[1;32m     28\u001b[0m \u001b[39mif\u001b[39;00m from_bytes:\n\u001b[0;32m---> 29\u001b[0m     \u001b[39mreturn\u001b[39;00m rs_bytes2object(blob)\n\u001b[1;32m     31\u001b[0m \u001b[39mif\u001b[39;00m from_proto:\n\u001b[1;32m     32\u001b[0m     \u001b[39mreturn\u001b[39;00m rs_proto2object(blob)\n",
      "File \u001b[0;32m~/OpenMined/PySyft/packages/syft/src/syft/serde/recursive.py:265\u001b[0m, in \u001b[0;36mrs_bytes2object\u001b[0;34m(blob)\u001b[0m\n\u001b[1;32m    260\u001b[0m MAX_TRAVERSAL_LIMIT \u001b[39m=\u001b[39m \u001b[39m2\u001b[39m\u001b[39m*\u001b[39m\u001b[39m*\u001b[39m\u001b[39m64\u001b[39m \u001b[39m-\u001b[39m \u001b[39m1\u001b[39m\n\u001b[1;32m    262\u001b[0m \u001b[39mwith\u001b[39;00m recursive_scheme\u001b[39m.\u001b[39mfrom_bytes(  \u001b[39m# type: ignore\u001b[39;00m\n\u001b[1;32m    263\u001b[0m     blob, traversal_limit_in_words\u001b[39m=\u001b[39mMAX_TRAVERSAL_LIMIT\n\u001b[1;32m    264\u001b[0m ) \u001b[39mas\u001b[39;00m msg:\n\u001b[0;32m--> 265\u001b[0m     \u001b[39mreturn\u001b[39;00m rs_proto2object(msg)\n",
      "File \u001b[0;32m~/OpenMined/PySyft/packages/syft/src/syft/serde/recursive.py:332\u001b[0m, in \u001b[0;36mrs_proto2object\u001b[0;34m(proto)\u001b[0m\n\u001b[1;32m    330\u001b[0m \u001b[39mif\u001b[39;00m attr_name \u001b[39m!=\u001b[39m \u001b[39m\"\u001b[39m\u001b[39m\"\u001b[39m:\n\u001b[1;32m    331\u001b[0m     attr_bytes \u001b[39m=\u001b[39m combine_bytes(attr_bytes_list)\n\u001b[0;32m--> 332\u001b[0m     attr_value \u001b[39m=\u001b[39m _deserialize(attr_bytes, from_bytes\u001b[39m=\u001b[39;49m\u001b[39mTrue\u001b[39;49;00m)\n\u001b[1;32m    333\u001b[0m     transforms \u001b[39m=\u001b[39m serde_overrides\u001b[39m.\u001b[39mget(attr_name, \u001b[39mNone\u001b[39;00m)\n\u001b[1;32m    335\u001b[0m     \u001b[39mif\u001b[39;00m transforms \u001b[39mis\u001b[39;00m \u001b[39mnot\u001b[39;00m \u001b[39mNone\u001b[39;00m:\n",
      "File \u001b[0;32m~/OpenMined/PySyft/packages/syft/src/syft/serde/deserialize.py:29\u001b[0m, in \u001b[0;36m_deserialize\u001b[0;34m(blob, from_proto, from_bytes)\u001b[0m\n\u001b[1;32m     26\u001b[0m     \u001b[39mraise\u001b[39;00m \u001b[39mTypeError\u001b[39;00m(\u001b[39m\"\u001b[39m\u001b[39mWrong deserialization format.\u001b[39m\u001b[39m\"\u001b[39m)\n\u001b[1;32m     28\u001b[0m \u001b[39mif\u001b[39;00m from_bytes:\n\u001b[0;32m---> 29\u001b[0m     \u001b[39mreturn\u001b[39;00m rs_bytes2object(blob)\n\u001b[1;32m     31\u001b[0m \u001b[39mif\u001b[39;00m from_proto:\n\u001b[1;32m     32\u001b[0m     \u001b[39mreturn\u001b[39;00m rs_proto2object(blob)\n",
      "File \u001b[0;32m~/OpenMined/PySyft/packages/syft/src/syft/serde/recursive.py:265\u001b[0m, in \u001b[0;36mrs_bytes2object\u001b[0;34m(blob)\u001b[0m\n\u001b[1;32m    260\u001b[0m MAX_TRAVERSAL_LIMIT \u001b[39m=\u001b[39m \u001b[39m2\u001b[39m\u001b[39m*\u001b[39m\u001b[39m*\u001b[39m\u001b[39m64\u001b[39m \u001b[39m-\u001b[39m \u001b[39m1\u001b[39m\n\u001b[1;32m    262\u001b[0m \u001b[39mwith\u001b[39;00m recursive_scheme\u001b[39m.\u001b[39mfrom_bytes(  \u001b[39m# type: ignore\u001b[39;00m\n\u001b[1;32m    263\u001b[0m     blob, traversal_limit_in_words\u001b[39m=\u001b[39mMAX_TRAVERSAL_LIMIT\n\u001b[1;32m    264\u001b[0m ) \u001b[39mas\u001b[39;00m msg:\n\u001b[0;32m--> 265\u001b[0m     \u001b[39mreturn\u001b[39;00m rs_proto2object(msg)\n",
      "File \u001b[0;32m~/OpenMined/PySyft/packages/syft/src/syft/serde/recursive.py:358\u001b[0m, in \u001b[0;36mrs_proto2object\u001b[0;34m(proto)\u001b[0m\n\u001b[1;32m    355\u001b[0m         obj \u001b[39m=\u001b[39m class_type(\u001b[39m*\u001b[39m\u001b[39m*\u001b[39mkwargs)\n\u001b[1;32m    357\u001b[0m \u001b[39melse\u001b[39;00m:\n\u001b[0;32m--> 358\u001b[0m     obj \u001b[39m=\u001b[39m class_type\u001b[39m.\u001b[39;49m\u001b[39m__new__\u001b[39;49m(class_type)  \u001b[39m# type: ignore\u001b[39;00m\n\u001b[1;32m    359\u001b[0m     \u001b[39mfor\u001b[39;00m attr_name, attr_value \u001b[39min\u001b[39;00m kwargs\u001b[39m.\u001b[39mitems():\n\u001b[1;32m    360\u001b[0m         \u001b[39msetattr\u001b[39m(obj, attr_name, attr_value)\n",
      "\u001b[0;31mTypeError\u001b[0m: method expected 2 arguments, got 0"
     ]
    }
   ],
   "source": [
    "new_model = sy.deserialize(serialized_model, from_bytes=True)\n",
    "new_model"
   ]
  },
  {
   "cell_type": "code",
   "execution_count": 7,
   "metadata": {},
   "outputs": [
    {
     "ename": "AssertionError",
     "evalue": "",
     "output_type": "error",
     "traceback": [
      "\u001b[0;31m---------------------------------------------------------------------------\u001b[0m",
      "\u001b[0;31mAssertionError\u001b[0m                            Traceback (most recent call last)",
      "Cell \u001b[0;32mIn[7], line 1\u001b[0m\n\u001b[0;32m----> 1\u001b[0m \u001b[39massert\u001b[39;00m \u001b[39mFalse\u001b[39;00m\n",
      "\u001b[0;31mAssertionError\u001b[0m: "
     ]
    }
   ],
   "source": [
    "assert False"
   ]
  },
  {
   "cell_type": "code",
   "execution_count": null,
   "metadata": {},
   "outputs": [
    {
     "name": "stderr",
     "output_type": "stream",
     "text": [
      "/home/teo/OpenMined/PySyft/packages/syft/src/syft/gevent_patch.py:42: MonkeyPatchWarning: Monkey-patching ssl after ssl has already been imported may lead to errors, including RecursionError on Python 3.6. It may also silently lead to incorrect behaviour on Python 3.7. Please monkey-patch earlier. See https://github.com/gevent/gevent/issues/1016. Modules that had direct imports (NOT patched): ['urllib3.util (/home/teo/anaconda3/envs/syft_3.11/lib/python3.11/site-packages/urllib3/util/__init__.py)', 'urllib3.contrib.pyopenssl (/home/teo/anaconda3/envs/syft_3.11/lib/python3.11/site-packages/urllib3/contrib/pyopenssl.py)', 'urllib3.util.ssl_ (/home/teo/anaconda3/envs/syft_3.11/lib/python3.11/site-packages/urllib3/util/ssl_.py)', 'botocore.httpsession (/home/teo/anaconda3/envs/syft_3.11/lib/python3.11/site-packages/botocore/httpsession.py)']. \n",
      "  monkey.patch_all(thread=False)\n",
      "kj/filesystem-disk-unix.c++:1703: warning: PWD environment variable doesn't match current directory; pwd = /home/teo\n",
      "/home/teo/anaconda3/envs/syft_3.11/lib/python3.11/site-packages/_distutils_hack/__init__.py:33: UserWarning: Setuptools is replacing distutils.\n",
      "  warnings.warn(\"Setuptools is replacing distutils.\")\n"
     ]
    }
   ],
   "source": [
    "from syft.serde.lib_service_registry import CMPModule, CMPTree, ALL_EXECUTE, CMPBase, CMPFunction, CMPClass\n",
    "bluebook_cmp = CMPTree(\n",
    "    children=[CMPModule(\n",
    "    \"bluebook\",\n",
    "    permissions=ALL_EXECUTE,\n",
    "    )]\n",
    ")"
   ]
  },
  {
   "cell_type": "code",
   "execution_count": null,
   "metadata": {},
   "outputs": [
    {
     "name": "stdout",
     "output_type": "stream",
     "text": [
      "Starting blue-book server on 0.0.0.0:60430\n",
      "\n",
      "WARNING: private key is based on node name: blue-book in dev_mode. Don't run this in production.\n",
      "Waiting for server to start"
     ]
    },
    {
     "name": "stderr",
     "output_type": "stream",
     "text": [
      "INFO:     Started server process [666049]\n",
      "INFO:     Waiting for application startup.\n",
      "INFO:     Application startup complete.\n",
      "INFO:     Uvicorn running on http://0.0.0.0:60430 (Press CTRL+C to quit)\n"
     ]
    },
    {
     "name": "stdout",
     "output_type": "stream",
     "text": [
      "INFO:     127.0.0.1:48366 - \"GET /api/v2/metadata HTTP/1.1\" 200 OK\n",
      ". Done.\n"
     ]
    }
   ],
   "source": [
    "node = sy.orchestra.launch(name=\"blue-book\", port=\"auto\", dev_mode=True, reset=True)"
   ]
  },
  {
   "cell_type": "code",
   "execution_count": null,
   "metadata": {},
   "outputs": [
    {
     "data": {
      "text/html": [
       "<div class=\"alert-warning\" style=\"padding:5px;\"><strong>SyftWarning</strong>: You are using a default password. Please change the password using `[your_client].me.set_password([new_password])`.</div><br />"
      ],
      "text/plain": [
       "SyftWarning: You are using a default password. Please change the password using `[your_client].me.set_password([new_password])`."
      ]
     },
     "metadata": {},
     "output_type": "display_data"
    },
    {
     "name": "stdout",
     "output_type": "stream",
     "text": [
      "INFO:     127.0.0.1:48370 - \"GET /api/v2/metadata HTTP/1.1\" 200 OK\n",
      "INFO:     127.0.0.1:48370 - \"GET /api/v2/metadata HTTP/1.1\" 200 OK\n",
      "INFO:     127.0.0.1:48370 - \"POST /api/v2/login HTTP/1.1\" 200 OK\n",
      "INFO:     127.0.0.1:48370 - \"GET /api/v2/types?verify_key=8ca7d1f9b2967b2b2c6155cd51e61ae8617e51e5e2658ab27af27faab51e6be6 HTTP/1.1\" 200 OK\n",
      "INFO:     127.0.0.1:48370 - \"GET /api/v2/api?verify_key=8ca7d1f9b2967b2b2c6155cd51e61ae8617e51e5e2658ab27af27faab51e6be6 HTTP/1.1\" 200 OK\n"
     ]
    },
    {
     "name": "stdout",
     "output_type": "stream",
     "text": [
      "Logged into <blue-book: High side Domain> as <info@openmined.org>\n"
     ]
    }
   ],
   "source": [
    "domain_client = node.login(email=\"info@openmined.org\", password=\"changethis\")"
   ]
  },
  {
   "cell_type": "code",
   "execution_count": null,
   "metadata": {},
   "outputs": [
    {
     "name": "stderr",
     "output_type": "stream",
     "text": [
      "├───bluebook (ALL_EXECUTE)\n",
      "\n"
     ]
    },
    {
     "name": "stdout",
     "output_type": "stream",
     "text": [
      "INFO:     127.0.0.1:48380 - \"POST /api/v2/api_call HTTP/1.1\" 200 OK\n"
     ]
    },
    {
     "data": {
      "text/html": [
       "<div class=\"alert-success\" style=\"padding:5px;\"><strong>SyftSuccess</strong>: CMP received succesfully!</div><br />"
      ],
      "text/plain": [
       "SyftSuccess: CMP received succesfully!"
      ]
     },
     "execution_count": 7,
     "metadata": {},
     "output_type": "execute_result"
    }
   ],
   "source": [
    "domain_client.api.services.python_lib.send_cmp(bluebook_cmp)"
   ]
  },
  {
   "cell_type": "code",
   "execution_count": null,
   "metadata": {},
   "outputs": [
    {
     "name": "stdout",
     "output_type": "stream",
     "text": [
      "dist\n",
      "dist\n",
      "tests\n",
      "tests\n",
      "src\n",
      "bluebook.egg-info\n",
      "bluebook.egg-info\n",
      "bluebook\n",
      "__pycache__\n",
      "__pycache__\n",
      "bluebook\n",
      "src\n",
      "build\n",
      "bdist.linux-x86_64\n",
      "bdist.linux-x86_64\n",
      "lib\n",
      "bluebook\n",
      "bluebook\n",
      "lib\n",
      "build\n"
     ]
    }
   ],
   "source": [
    "from syft.types.file import SyftFolder, SyftFile\n",
    "bluebook_folder = SyftFolder.from_dir(name=\"bluebook\", path=\"bluebook\")"
   ]
  },
  {
   "cell_type": "code",
   "execution_count": null,
   "metadata": {},
   "outputs": [
    {
     "name": "stderr",
     "output_type": "stream",
     "text": [
      "/home/teo/OpenMined/PySyft/packages/syft/src/syft/service/python_lib/python_lib_service.py:36: MonkeyPatchWarning: Patching more than once will result in the union of all True parameters being patched\n",
      "  monkey.patch_all()\n",
      "/home/teo/OpenMined/PySyft/packages/syft/src/syft/service/python_lib/python_lib_service.py:36: MonkeyPatchWarning: Monkey-patching outside the main native thread. Some APIs will not be available. Expect a KeyError to be printed at shutdown.\n",
      "  monkey.patch_all()\n",
      "/home/teo/OpenMined/PySyft/packages/syft/src/syft/service/python_lib/python_lib_service.py:36: MonkeyPatchWarning: Monkey-patching not on the main thread; threading.main_thread().join() will hang from a greenlet\n",
      "  monkey.patch_all()\n"
     ]
    },
    {
     "name": "stdout",
     "output_type": "stream",
     "text": [
      "README.md\n",
      "dist\n",
      "/tmp/bluebook/dist\n",
      "pyproject.toml\n",
      "LICENSE\n",
      "tests\n",
      "/tmp/bluebook/tests\n",
      "src\n",
      "/tmp/bluebook/src\n",
      "build\n",
      "/tmp/bluebook/build\n",
      "INFO:     127.0.0.1:48390 - \"POST /api/v2/api_call HTTP/1.1\" 200 OK\n",
      "INFO:     127.0.0.1:44024 - \"GET /api/v2/metadata HTTP/1.1\" 200 OK\n",
      "INFO:     127.0.0.1:44024 - \"GET /api/v2/metadata HTTP/1.1\" 200 OK\n",
      "INFO:     127.0.0.1:44024 - \"POST /api/v2/login HTTP/1.1\" 200 OK\n",
      "INFO:     127.0.0.1:44024 - \"GET /api/v2/types?verify_key=8ca7d1f9b2967b2b2c6155cd51e61ae8617e51e5e2658ab27af27faab51e6be6 HTTP/1.1\" 200 OK\n",
      "INFO:     127.0.0.1:44024 - \"GET /api/v2/api?verify_key=8ca7d1f9b2967b2b2c6155cd51e61ae8617e51e5e2658ab27af27faab51e6be6 HTTP/1.1\" 200 OK\n"
     ]
    },
    {
     "data": {
      "text/html": [
       "<div class=\"alert-success\" style=\"padding:5px;\"><strong>SyftSuccess</strong>: Lib added succesfully:0</div><br />"
      ],
      "text/plain": [
       "SyftSuccess: Lib added succesfully:0"
      ]
     },
     "execution_count": 9,
     "metadata": {},
     "output_type": "execute_result"
    }
   ],
   "source": [
    "domain_client.api.services.python_lib.add_lib(bluebook_folder, cmp=bluebook_cmp)"
   ]
  },
  {
   "cell_type": "code",
   "execution_count": null,
   "metadata": {},
   "outputs": [
    {
     "data": {
      "text/html": [
       "<div class=\"alert-warning\" style=\"padding:5px;\"><strong>SyftWarning</strong>: You are using a default password. Please change the password using `[your_client].me.set_password([new_password])`.</div><br />"
      ],
      "text/plain": [
       "SyftWarning: You are using a default password. Please change the password using `[your_client].me.set_password([new_password])`."
      ]
     },
     "metadata": {},
     "output_type": "display_data"
    },
    {
     "name": "stdout",
     "output_type": "stream",
     "text": [
      "Logged into <blue-book: High side Domain> as <info@openmined.org>\n"
     ]
    }
   ],
   "source": [
    "domain_client = node.login(email=\"info@openmined.org\", password=\"changethis\")"
   ]
  },
  {
   "cell_type": "code",
   "execution_count": null,
   "metadata": {},
   "outputs": [
    {
     "data": {
      "text/html": [
       "[&#x27;__annotations__&#x27;, &#x27;__class__&#x27;, &#x27;__delattr__&#x27;, &#x27;__dict__&#x27;, &#x27;__dir__&#x27;, &#x27;__doc__&#x27;, &#x27;__eq__&#x27;, &#x27;__format__&#x27;, &#x27;__ge__&#x27;, &#x27;__getattribute__&#x27;, &#x27;__getitem__&#x27;, &#x27;__getstate__&#x27;, &#x27;__gt__&#x27;, &#x27;__hash__&#x27;, &#x27;__init__&#x27;, &#x27;__init_subclass__&#x27;, &#x27;__le__&#x27;, &#x27;__lt__&#x27;, &#x27;__module__&#x27;, &#x27;__ne__&#x27;, &#x27;__new__&#x27;, &#x27;__reduce__&#x27;, &#x27;__reduce_ex__&#x27;, &#x27;__repr__&#x27;, &#x27;__setattr__&#x27;, &#x27;__sizeof__&#x27;, &#x27;__str__&#x27;, &#x27;__subclasshook__&#x27;, &#x27;__weakref__&#x27;, &#x27;_add_submodule&#x27;, &#x27;_modules&#x27;, &#x27;_repr_html_&#x27;, &#x27;bluebook&#x27;, &#x27;path&#x27;]"
      ],
      "text/plain": [
       "['__annotations__',\n",
       " '__class__',\n",
       " '__delattr__',\n",
       " '__dict__',\n",
       " '__dir__',\n",
       " '__doc__',\n",
       " '__eq__',\n",
       " '__format__',\n",
       " '__ge__',\n",
       " '__getattribute__',\n",
       " '__getitem__',\n",
       " '__getstate__',\n",
       " '__gt__',\n",
       " '__hash__',\n",
       " '__init__',\n",
       " '__init_subclass__',\n",
       " '__le__',\n",
       " '__lt__',\n",
       " '__module__',\n",
       " '__ne__',\n",
       " '__new__',\n",
       " '__reduce__',\n",
       " '__reduce_ex__',\n",
       " '__repr__',\n",
       " '__setattr__',\n",
       " '__sizeof__',\n",
       " '__str__',\n",
       " '__subclasshook__',\n",
       " '__weakref__',\n",
       " '_add_submodule',\n",
       " '_modules',\n",
       " '_repr_html_',\n",
       " 'bluebook',\n",
       " 'path']"
      ]
     },
     "execution_count": 15,
     "metadata": {},
     "output_type": "execute_result"
    }
   ],
   "source": [
    "dir(domain_client.api.lib)"
   ]
  },
  {
   "cell_type": "code",
   "execution_count": null,
   "metadata": {},
   "outputs": [
    {
     "name": "stderr",
     "output_type": "stream",
     "text": [
      "transformers.models.opt.modeling_opt.OPTForCausalLM\n"
     ]
    },
    {
     "name": "stdout",
     "output_type": "stream",
     "text": [
      "INFO:     127.0.0.1:50728 - \"POST /api/v2/api_call HTTP/1.1\" 200 OK\n"
     ]
    },
    {
     "name": "stdout",
     "output_type": "stream",
     "text": [
      "OPTForCausalLM(\n",
      "  (model): OPTModel(\n",
      "    (decoder): OPTDecoder(\n",
      "      (embed_tokens): Embedding(50272, 512, padding_idx=1)\n",
      "      (embed_positions): OPTLearnedPositionalEmbedding(2050, 1024)\n",
      "      (project_out): Linear4bit(in_features=1024, out_features=512, bias=False)\n",
      "      (project_in): Linear4bit(in_features=512, out_features=1024, bias=False)\n",
      "      (layers): ModuleList(\n",
      "        (0-23): 24 x OPTDecoderLayer(\n",
      "          (self_attn): OPTAttention(\n",
      "            (k_proj): Linear4bit(in_features=1024, out_features=1024, bias=True)\n",
      "            (v_proj): Linear4bit(in_features=1024, out_features=1024, bias=True)\n",
      "            (q_proj): Linear4bit(in_features=1024, out_features=1024, bias=True)\n",
      "            (out_proj): Linear4bit(in_features=1024, out_features=1024, bias=True)\n",
      "          )\n",
      "          (activation_fn): ReLU()\n",
      "          (self_attn_layer_norm): LayerNorm((1024,), eps=1e-05, elementwise_affine=True)\n",
      "          (fc1): Linear4bit(in_features=1024, out_features=4096, bias=True)\n",
      "          (fc2): Linear4bit(in_features=4096, out_features=1024, bias=True)\n",
      "          (final_layer_norm): LayerNorm((1024,), eps=1e-05, elementwise_affine=True)\n",
      "        )\n",
      "      )\n",
      "    )\n",
      "  )\n",
      "  (lm_head): Linear(in_features=512, out_features=50272, bias=False)\n",
      ")\n"
     ]
    }
   ],
   "source": [
    "result = domain_client.api.lib.bluebook.list_models()\n",
    "print(result)"
   ]
  }
 ],
 "metadata": {
  "kernelspec": {
   "display_name": "syft_3.11",
   "language": "python",
   "name": "python3"
  },
  "language_info": {
   "codemirror_mode": {
    "name": "ipython",
    "version": 3
   },
   "file_extension": ".py",
   "mimetype": "text/x-python",
   "name": "python",
   "nbconvert_exporter": "python",
   "pygments_lexer": "ipython3",
   "version": "3.11.4"
  },
  "orig_nbformat": 4
 },
 "nbformat": 4,
 "nbformat_minor": 2
}
