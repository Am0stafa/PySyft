{
 "cells": [
  {
   "cell_type": "code",
   "execution_count": 1,
   "metadata": {},
   "outputs": [],
   "source": [
    "import bluebook"
   ]
  },
  {
   "cell_type": "code",
   "execution_count": 2,
   "metadata": {},
   "outputs": [],
   "source": [
    "bluebook.list_models()"
   ]
  },
  {
   "cell_type": "code",
   "execution_count": 3,
   "metadata": {},
   "outputs": [
    {
     "name": "stderr",
     "output_type": "stream",
     "text": [
      "/home/teo/OpenMined/PySyft/packages/syft/src/syft/gevent_patch.py:42: MonkeyPatchWarning: Monkey-patching ssl after ssl has already been imported may lead to errors, including RecursionError on Python 3.6. It may also silently lead to incorrect behaviour on Python 3.7. Please monkey-patch earlier. See https://github.com/gevent/gevent/issues/1016. Modules that had direct imports (NOT patched): ['urllib3.util (/home/teo/anaconda3/envs/syft_3.11/lib/python3.11/site-packages/urllib3/util/__init__.py)', 'urllib3.util.ssl_ (/home/teo/anaconda3/envs/syft_3.11/lib/python3.11/site-packages/urllib3/util/ssl_.py)']. \n",
      "  monkey.patch_all(thread=False)\n",
      "kj/filesystem-disk-unix.c++:1703: warning: PWD environment variable doesn't match current directory; pwd = /home/teo/OpenMined/PySyft\n"
     ]
    }
   ],
   "source": [
    "from syft.serde.lib_service_registry import CMPModule, CMPTree, ALL_EXECUTE, CMPBase, CMPFunction, CMPClass\n",
    "bluebook_cmp = CMPTree(\n",
    "    children=[CMPModule(\n",
    "    \"bluebook\",\n",
    "    permissions=ALL_EXECUTE,\n",
    "    )]\n",
    ")"
   ]
  },
  {
   "cell_type": "code",
   "execution_count": 4,
   "metadata": {},
   "outputs": [],
   "source": [
    "import syft as sy"
   ]
  },
  {
   "cell_type": "code",
   "execution_count": 5,
   "metadata": {},
   "outputs": [
    {
     "name": "stdout",
     "output_type": "stream",
     "text": [
      "Starting blue-book server on 0.0.0.0:22349\n",
      "\n",
      "WARNING: private key is based on node name: blue-book in dev_mode. Don't run this in production.\n",
      "Waiting for server to start"
     ]
    },
    {
     "name": "stderr",
     "output_type": "stream",
     "text": [
      "INFO:     Started server process [256934]\n",
      "INFO:     Waiting for application startup.\n",
      "INFO:     Application startup complete.\n",
      "INFO:     Uvicorn running on http://0.0.0.0:22349 (Press CTRL+C to quit)\n"
     ]
    },
    {
     "name": "stdout",
     "output_type": "stream",
     "text": [
      "INFO:     127.0.0.1:49006 - \"GET /api/v2/metadata HTTP/1.1\" 200 OK\n",
      ". Done.\n"
     ]
    }
   ],
   "source": [
    "node = sy.orchestra.launch(name=\"blue-book\", port=\"auto\", dev_mode=True, reset=True)"
   ]
  },
  {
   "cell_type": "code",
   "execution_count": 6,
   "metadata": {},
   "outputs": [
    {
     "data": {
      "text/html": [
       "<div class=\"alert-warning\" style=\"padding:5px;\"><strong>SyftWarning</strong>: You are using a default password. Please change the password using `[your_client].me.set_password([new_password])`.</div><br />"
      ],
      "text/plain": [
       "SyftWarning: You are using a default password. Please change the password using `[your_client].me.set_password([new_password])`."
      ]
     },
     "metadata": {},
     "output_type": "display_data"
    },
    {
     "name": "stdout",
     "output_type": "stream",
     "text": [
      "INFO:     127.0.0.1:49018 - \"GET /api/v2/metadata HTTP/1.1\" 200 OK\n",
      "INFO:     127.0.0.1:49018 - \"GET /api/v2/metadata HTTP/1.1\" 200 OK\n",
      "INFO:     127.0.0.1:49018 - \"POST /api/v2/login HTTP/1.1\" 200 OK\n",
      "INFO:     127.0.0.1:49018 - \"GET /api/v2/types?verify_key=8ca7d1f9b2967b2b2c6155cd51e61ae8617e51e5e2658ab27af27faab51e6be6 HTTP/1.1\" 200 OK\n",
      "INFO:     127.0.0.1:49018 - \"GET /api/v2/api?verify_key=8ca7d1f9b2967b2b2c6155cd51e61ae8617e51e5e2658ab27af27faab51e6be6 HTTP/1.1\" 200 OK\n"
     ]
    },
    {
     "name": "stdout",
     "output_type": "stream",
     "text": [
      "Logged into <blue-book: High side Domain> as <info@openmined.org>\n"
     ]
    }
   ],
   "source": [
    "domain_client = node.login(email=\"info@openmined.org\", password=\"changethis\")"
   ]
  },
  {
   "cell_type": "code",
   "execution_count": 7,
   "metadata": {},
   "outputs": [
    {
     "name": "stderr",
     "output_type": "stream",
     "text": [
      "├───bluebook (ALL_EXECUTE)\n",
      "\n"
     ]
    },
    {
     "name": "stdout",
     "output_type": "stream",
     "text": [
      "INFO:     127.0.0.1:49034 - \"POST /api/v2/api_call HTTP/1.1\" 200 OK\n"
     ]
    },
    {
     "data": {
      "text/html": [
       "<div class=\"alert-success\" style=\"padding:5px;\"><strong>SyftSuccess</strong>: CMP received succesfully!</div><br />"
      ],
      "text/plain": [
       "SyftSuccess: CMP received succesfully!"
      ]
     },
     "execution_count": 7,
     "metadata": {},
     "output_type": "execute_result"
    }
   ],
   "source": [
    "domain_client.api.services.python_lib.send_cmp(bluebook_cmp)"
   ]
  },
  {
   "cell_type": "code",
   "execution_count": 8,
   "metadata": {},
   "outputs": [
    {
     "name": "stdout",
     "output_type": "stream",
     "text": [
      "dist\n",
      "dist\n",
      "tests\n",
      "tests\n",
      "src\n",
      "bluebook.egg-info\n",
      "bluebook.egg-info\n",
      "bluebook\n",
      "__pycache__\n",
      "__pycache__\n",
      "bluebook\n",
      "src\n"
     ]
    }
   ],
   "source": [
    "from syft.types.file import SyftFolder, SyftFile\n",
    "bluebook_folder = SyftFolder.from_dir(name=\"bluebook\", path=\"bluebook\")"
   ]
  },
  {
   "cell_type": "code",
   "execution_count": 9,
   "metadata": {},
   "outputs": [
    {
     "name": "stderr",
     "output_type": "stream",
     "text": [
      "/home/teo/OpenMined/PySyft/packages/syft/src/syft/service/python_lib/python_lib_service.py:36: MonkeyPatchWarning: Patching more than once will result in the union of all True parameters being patched\n",
      "  monkey.patch_all()\n",
      "/home/teo/OpenMined/PySyft/packages/syft/src/syft/service/python_lib/python_lib_service.py:36: MonkeyPatchWarning: Monkey-patching outside the main native thread. Some APIs will not be available. Expect a KeyError to be printed at shutdown.\n",
      "  monkey.patch_all()\n",
      "/home/teo/OpenMined/PySyft/packages/syft/src/syft/service/python_lib/python_lib_service.py:36: MonkeyPatchWarning: Monkey-patching not on the main thread; threading.main_thread().join() will hang from a greenlet\n",
      "  monkey.patch_all()\n"
     ]
    },
    {
     "name": "stdout",
     "output_type": "stream",
     "text": [
      "README.md\n",
      "dist\n",
      "/tmp/bluebook/dist\n",
      "pyproject.toml\n",
      "LICENSE\n",
      "tests\n",
      "/tmp/bluebook/tests\n",
      "src\n",
      "/tmp/bluebook/src\n",
      "INFO:     127.0.0.1:49046 - \"POST /api/v2/api_call HTTP/1.1\" 200 OK\n"
     ]
    },
    {
     "data": {
      "text/html": [
       "<div class=\"alert-danger\" style=\"padding:5px;\"><strong>SyftError</strong>: Exception calling python_lib.add_lib. Traceback (most recent call last):\n",
       "  File \"/home/teo/OpenMined/PySyft/packages/syft/src/syft/node/node.py\", line 762, in handle_api_call_with_unsigned_result\n",
       "    result = method(context, *api_call.args, **api_call.kwargs)\n",
       "             ^^^^^^^^^^^^^^^^^^^^^^^^^^^^^^^^^^^^^^^^^^^^^^^^^^\n",
       "  File \"/home/teo/OpenMined/PySyft/packages/syft/src/syft/service/service.py\", line 340, in _decorator\n",
       "    result = func(self, *args, **kwargs)\n",
       "             ^^^^^^^^^^^^^^^^^^^^^^^^^^^\n",
       "  File \"/home/teo/OpenMined/PySyft/packages/syft/src/syft/service/python_lib/python_lib_service.py\", line 44, in add_lib\n",
       "    proc = subprocess.Popen(\n",
       "           ^^^^^^^^^^^^^^^^^\n",
       "  File \"/home/teo/anaconda3/envs/syft_3.11/lib/python3.11/site-packages/gevent/subprocess.py\", line 842, in __init__\n",
       "    self._execute_child(args, executable, preexec_fn, close_fds,\n",
       "  File \"/home/teo/anaconda3/envs/syft_3.11/lib/python3.11/site-packages/gevent/subprocess.py\", line 1675, in _execute_child\n",
       "    self.pid = fork_and_watch(self._on_child, self._loop, True, fork)\n",
       "               ^^^^^^^^^^^^^^^^^^^^^^^^^^^^^^^^^^^^^^^^^^^^^^^^^^^^^^\n",
       "  File \"/home/teo/anaconda3/envs/syft_3.11/lib/python3.11/site-packages/gevent/os.py\", line 434, in fork_and_watch\n",
       "    _watch_child(pid, callback, loop, ref)\n",
       "  File \"/home/teo/anaconda3/envs/syft_3.11/lib/python3.11/site-packages/gevent/os.py\", line 402, in _watch_child\n",
       "    watcher = loop.child(pid, ref=ref)\n",
       "              ^^^^^^^^^^^^^^^^^^^^^^^^\n",
       "  File \"src/gevent/libev/corecext.pyx\", line 716, in gevent.libev.corecext.loop.child\n",
       "  File \"src/gevent/libev/corecext.pyx\", line 1257, in gevent.libev.corecext.child.__cinit__\n",
       "TypeError: child watchers are only available on the default loop\n",
       "</div><br />"
      ],
      "text/plain": [
       "SyftError: Exception calling python_lib.add_lib. Traceback (most recent call last):\n",
       "  File \"/home/teo/OpenMined/PySyft/packages/syft/src/syft/node/node.py\", line 762, in handle_api_call_with_unsigned_result\n",
       "    result = method(context, *api_call.args, **api_call.kwargs)\n",
       "             ^^^^^^^^^^^^^^^^^^^^^^^^^^^^^^^^^^^^^^^^^^^^^^^^^^\n",
       "  File \"/home/teo/OpenMined/PySyft/packages/syft/src/syft/service/service.py\", line 340, in _decorator\n",
       "    result = func(self, *args, **kwargs)\n",
       "             ^^^^^^^^^^^^^^^^^^^^^^^^^^^\n",
       "  File \"/home/teo/OpenMined/PySyft/packages/syft/src/syft/service/python_lib/python_lib_service.py\", line 44, in add_lib\n",
       "    proc = subprocess.Popen(\n",
       "           ^^^^^^^^^^^^^^^^^\n",
       "  File \"/home/teo/anaconda3/envs/syft_3.11/lib/python3.11/site-packages/gevent/subprocess.py\", line 842, in __init__\n",
       "    self._execute_child(args, executable, preexec_fn, close_fds,\n",
       "  File \"/home/teo/anaconda3/envs/syft_3.11/lib/python3.11/site-packages/gevent/subprocess.py\", line 1675, in _execute_child\n",
       "    self.pid = fork_and_watch(self._on_child, self._loop, True, fork)\n",
       "               ^^^^^^^^^^^^^^^^^^^^^^^^^^^^^^^^^^^^^^^^^^^^^^^^^^^^^^\n",
       "  File \"/home/teo/anaconda3/envs/syft_3.11/lib/python3.11/site-packages/gevent/os.py\", line 434, in fork_and_watch\n",
       "    _watch_child(pid, callback, loop, ref)\n",
       "  File \"/home/teo/anaconda3/envs/syft_3.11/lib/python3.11/site-packages/gevent/os.py\", line 402, in _watch_child\n",
       "    watcher = loop.child(pid, ref=ref)\n",
       "              ^^^^^^^^^^^^^^^^^^^^^^^^\n",
       "  File \"src/gevent/libev/corecext.pyx\", line 716, in gevent.libev.corecext.loop.child\n",
       "  File \"src/gevent/libev/corecext.pyx\", line 1257, in gevent.libev.corecext.child.__cinit__\n",
       "TypeError: child watchers are only available on the default loop"
      ]
     },
     "execution_count": 9,
     "metadata": {},
     "output_type": "execute_result"
    }
   ],
   "source": [
    "domain_client.api.services.python_lib.add_lib(bluebook_folder)"
   ]
  }
 ],
 "metadata": {
  "kernelspec": {
   "display_name": "syft_3.11",
   "language": "python",
   "name": "python3"
  },
  "language_info": {
   "codemirror_mode": {
    "name": "ipython",
    "version": 3
   },
   "file_extension": ".py",
   "mimetype": "text/x-python",
   "name": "python",
   "nbconvert_exporter": "python",
   "pygments_lexer": "ipython3",
   "version": "3.11.4"
  },
  "orig_nbformat": 4
 },
 "nbformat": 4,
 "nbformat_minor": 2
}
