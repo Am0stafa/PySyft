{
 "cells": [
  {
   "cell_type": "code",
   "execution_count": 1,
   "metadata": {},
   "outputs": [],
   "source": [
    "import bluebook"
   ]
  },
  {
   "cell_type": "code",
   "execution_count": 2,
   "metadata": {},
   "outputs": [],
   "source": [
    "bluebook.list_models()"
   ]
  },
  {
   "cell_type": "code",
   "execution_count": 3,
   "metadata": {},
   "outputs": [
    {
     "name": "stderr",
     "output_type": "stream",
     "text": [
      "/home/teo/OpenMined/PySyft/packages/syft/src/syft/gevent_patch.py:42: MonkeyPatchWarning: Monkey-patching ssl after ssl has already been imported may lead to errors, including RecursionError on Python 3.6. It may also silently lead to incorrect behaviour on Python 3.7. Please monkey-patch earlier. See https://github.com/gevent/gevent/issues/1016. Modules that had direct imports (NOT patched): ['urllib3.util.ssl_ (/home/teo/anaconda3/envs/syft_3.11/lib/python3.11/site-packages/urllib3/util/ssl_.py)', 'urllib3.util (/home/teo/anaconda3/envs/syft_3.11/lib/python3.11/site-packages/urllib3/util/__init__.py)']. \n",
      "  monkey.patch_all(thread=False)\n",
      "kj/filesystem-disk-unix.c++:1703: warning: PWD environment variable doesn't match current directory; pwd = /home/teo/OpenMined/PySyft\n"
     ]
    }
   ],
   "source": [
    "from syft.serde.lib_service_registry import CMPModule, CMPTree, ALL_EXECUTE, CMPBase, CMPFunction, CMPClass\n",
    "bluebook_cmp = CMPTree(\n",
    "    children=[CMPModule(\n",
    "    \"bluebook\",\n",
    "    permissions=ALL_EXECUTE,\n",
    "    )]\n",
    ")"
   ]
  },
  {
   "cell_type": "code",
   "execution_count": 4,
   "metadata": {},
   "outputs": [],
   "source": [
    "import syft as sy"
   ]
  },
  {
   "cell_type": "code",
   "execution_count": 5,
   "metadata": {},
   "outputs": [
    {
     "name": "stdout",
     "output_type": "stream",
     "text": [
      "Starting blue-book server on 0.0.0.0:56151\n",
      "\n",
      "WARNING: private key is based on node name: blue-book in dev_mode. Don't run this in production.\n",
      "Waiting for server to start"
     ]
    },
    {
     "name": "stderr",
     "output_type": "stream",
     "text": [
      "INFO:     Started server process [549898]\n",
      "INFO:     Waiting for application startup.\n",
      "INFO:     Application startup complete.\n",
      "INFO:     Uvicorn running on http://0.0.0.0:56151 (Press CTRL+C to quit)\n"
     ]
    },
    {
     "name": "stdout",
     "output_type": "stream",
     "text": [
      "INFO:     127.0.0.1:41216 - \"GET /api/v2/metadata HTTP/1.1\" 200 OK\n",
      ". Done.\n"
     ]
    }
   ],
   "source": [
    "node = sy.orchestra.launch(name=\"blue-book\", port=\"auto\", dev_mode=True, reset=True)"
   ]
  },
  {
   "cell_type": "code",
   "execution_count": 6,
   "metadata": {},
   "outputs": [
    {
     "data": {
      "text/html": [
       "<div class=\"alert-warning\" style=\"padding:5px;\"><strong>SyftWarning</strong>: You are using a default password. Please change the password using `[your_client].me.set_password([new_password])`.</div><br />"
      ],
      "text/plain": [
       "SyftWarning: You are using a default password. Please change the password using `[your_client].me.set_password([new_password])`."
      ]
     },
     "metadata": {},
     "output_type": "display_data"
    },
    {
     "name": "stdout",
     "output_type": "stream",
     "text": [
      "INFO:     127.0.0.1:41226 - \"GET /api/v2/metadata HTTP/1.1\" 200 OK\n",
      "INFO:     127.0.0.1:41226 - \"GET /api/v2/metadata HTTP/1.1\" 200 OK\n",
      "INFO:     127.0.0.1:41226 - \"POST /api/v2/login HTTP/1.1\" 200 OK\n",
      "INFO:     127.0.0.1:41226 - \"GET /api/v2/types?verify_key=8ca7d1f9b2967b2b2c6155cd51e61ae8617e51e5e2658ab27af27faab51e6be6 HTTP/1.1\" 200 OK\n",
      "INFO:     127.0.0.1:41226 - \"GET /api/v2/api?verify_key=8ca7d1f9b2967b2b2c6155cd51e61ae8617e51e5e2658ab27af27faab51e6be6 HTTP/1.1\" 200 OK\n"
     ]
    },
    {
     "name": "stdout",
     "output_type": "stream",
     "text": [
      "Logged into <blue-book: High side Domain> as <info@openmined.org>\n"
     ]
    }
   ],
   "source": [
    "domain_client = node.login(email=\"info@openmined.org\", password=\"changethis\")"
   ]
  },
  {
   "cell_type": "code",
   "execution_count": 7,
   "metadata": {},
   "outputs": [
    {
     "name": "stderr",
     "output_type": "stream",
     "text": [
      "├───bluebook (ALL_EXECUTE)\n",
      "\n"
     ]
    },
    {
     "name": "stdout",
     "output_type": "stream",
     "text": [
      "INFO:     127.0.0.1:41238 - \"POST /api/v2/api_call HTTP/1.1\" 200 OK\n",
      "README.md\n",
      "dist\n",
      "/tmp/bluebook/dist\n",
      "pyproject.toml\n",
      "LICENSE\n",
      "tests\n",
      "/tmp/bluebook/tests\n",
      "src\n",
      "/tmp/bluebook/src\n"
     ]
    },
    {
     "data": {
      "text/html": [
       "<div class=\"alert-success\" style=\"padding:5px;\"><strong>SyftSuccess</strong>: CMP received succesfully!</div><br />"
      ],
      "text/plain": [
       "SyftSuccess: CMP received succesfully!"
      ]
     },
     "execution_count": 7,
     "metadata": {},
     "output_type": "execute_result"
    }
   ],
   "source": [
    "domain_client.api.services.python_lib.send_cmp(bluebook_cmp)"
   ]
  },
  {
   "cell_type": "code",
   "execution_count": 8,
   "metadata": {},
   "outputs": [
    {
     "name": "stdout",
     "output_type": "stream",
     "text": [
      "dist\n",
      "dist\n",
      "tests\n",
      "tests\n",
      "src\n",
      "bluebook.egg-info\n",
      "bluebook.egg-info\n",
      "bluebook\n",
      "__pycache__\n",
      "__pycache__\n",
      "bluebook\n",
      "src\n"
     ]
    }
   ],
   "source": [
    "from syft.types.file import SyftFolder, SyftFile\n",
    "bluebook_folder = SyftFolder.from_dir(name=\"bluebook\", path=\"bluebook\")"
   ]
  },
  {
   "cell_type": "code",
   "execution_count": 9,
   "metadata": {},
   "outputs": [
    {
     "name": "stderr",
     "output_type": "stream",
     "text": [
      "WARNING: pip is being invoked by an old script wrapper. This will fail in a future version of pip.\n",
      "Please see https://github.com/pypa/pip/issues/5599 for advice on fixing the underlying issue.\n",
      "To avoid this problem you can invoke Python with '-m pip' instead of running pip directly.\n"
     ]
    },
    {
     "data": {
      "text/html": [
       "<pre style=\"white-space:pre;overflow-x:auto;line-height:normal;font-family:Menlo,'DejaVu Sans Mono',consolas,'Courier New',monospace\"><span style=\"color: #800000; text-decoration-color: #800000\">ERROR: Exception:\n",
       "Traceback (most recent call last):\n",
       "  File \"/home/teo/anaconda3/envs/syft_3.11/lib/python3.11/site-packages/pip/_internal/cli/base_command.py\", line 169, in exc_logging_wrapper\n",
       "    status = run_func(*args)\n",
       "             ^^^^^^^^^^^^^^^\n",
       "  File \"/home/teo/anaconda3/envs/syft_3.11/lib/python3.11/site-packages/pip/_internal/cli/req_command.py\", line 248, in wrapper\n",
       "    return func(self, options, args)\n",
       "           ^^^^^^^^^^^^^^^^^^^^^^^^^\n",
       "  File \"/home/teo/anaconda3/envs/syft_3.11/lib/python3.11/site-packages/pip/_internal/commands/install.py\", line 324, in run\n",
       "    session = self.get_default_session(options)\n",
       "              ^^^^^^^^^^^^^^^^^^^^^^^^^^^^^^^^^\n",
       "  File \"/home/teo/anaconda3/envs/syft_3.11/lib/python3.11/site-packages/pip/_internal/cli/req_command.py\", line 98, in get_default_session\n",
       "    self._session = self.enter_context(self._build_session(options))\n",
       "                                       ^^^^^^^^^^^^^^^^^^^^^^^^^^^^\n",
       "  File \"/home/teo/anaconda3/envs/syft_3.11/lib/python3.11/site-packages/pip/_internal/cli/req_command.py\", line 125, in _build_session\n",
       "    session = PipSession(\n",
       "              ^^^^^^^^^^^\n",
       "  File \"/home/teo/anaconda3/envs/syft_3.11/lib/python3.11/site-packages/pip/_internal/network/session.py\", line 342, in __init__\n",
       "    self.headers[\"User-Agent\"] = user_agent()\n",
       "                                 ^^^^^^^^^^^^\n",
       "  File \"/home/teo/anaconda3/envs/syft_3.11/lib/python3.11/site-packages/pip/_internal/network/session.py\", line 140, in user_agent\n",
       "    linux_distribution = distro.name(), distro.version(), distro.codename()\n",
       "                                        ^^^^^^^^^^^^^^^^\n",
       "  File \"/home/teo/anaconda3/envs/syft_3.11/lib/python3.11/site-packages/pip/_vendor/distro/distro.py\", line 367, in version\n",
       "    return _distro.version(pretty, best)\n",
       "           ^^^^^^^^^^^^^^^^^^^^^^^^^^^^^\n",
       "  File \"/home/teo/anaconda3/envs/syft_3.11/lib/python3.11/site-packages/pip/_vendor/distro/distro.py\", line 888, in version\n",
       "    self.lsb_release_attr(\"release\"),\n",
       "    ^^^^^^^^^^^^^^^^^^^^^^^^^^^^^^^^\n",
       "  File \"/home/teo/anaconda3/envs/syft_3.11/lib/python3.11/site-packages/pip/_vendor/distro/distro.py\", line 1066, in lsb_release_attr\n",
       "    return self._lsb_release_info.get(attribute, \"\")\n",
       "           ^^^^^^^^^^^^^^^^^^^^^^\n",
       "  File \"/home/teo/anaconda3/envs/syft_3.11/lib/python3.11/functools.py\", line 1001, in __get__\n",
       "    val = self.func(instance)\n",
       "          ^^^^^^^^^^^^^^^^^^^\n",
       "  File \"/home/teo/anaconda3/envs/syft_3.11/lib/python3.11/site-packages/pip/_vendor/distro/distro.py\", line 1161, in _lsb_release_info\n",
       "    stdout = subprocess.check_output(cmd, stderr=subprocess.DEVNULL)\n",
       "             ^^^^^^^^^^^^^^^^^^^^^^^^^^^^^^^^^^^^^^^^^^^^^^^^^^^^^^^\n",
       "  File \"/home/teo/anaconda3/envs/syft_3.11/lib/python3.11/site-packages/gevent/subprocess.py\", line 413, in check_output\n",
       "    with Popen(*popenargs, stdout=PIPE, **kwargs) as process:\n",
       "         ^^^^^^^^^^^^^^^^^^^^^^^^^^^^^^^^^^^^^^^^\n",
       "  File \"/home/teo/anaconda3/envs/syft_3.11/lib/python3.11/site-packages/gevent/subprocess.py\", line 842, in __init__\n",
       "    self._execute_child(args, executable, preexec_fn, close_fds,\n",
       "  File \"/home/teo/anaconda3/envs/syft_3.11/lib/python3.11/site-packages/gevent/subprocess.py\", line 1675, in _execute_child\n",
       "    self.pid = fork_and_watch(self._on_child, self._loop, True, fork)\n",
       "               ^^^^^^^^^^^^^^^^^^^^^^^^^^^^^^^^^^^^^^^^^^^^^^^^^^^^^^\n",
       "  File \"/home/teo/anaconda3/envs/syft_3.11/lib/python3.11/site-packages/gevent/os.py\", line 434, in fork_and_watch\n",
       "    _watch_child(pid, callback, loop, ref)\n",
       "  File \"/home/teo/anaconda3/envs/syft_3.11/lib/python3.11/site-packages/gevent/os.py\", line 402, in _watch_child\n",
       "    watcher = loop.child(pid, ref=ref)\n",
       "              ^^^^^^^^^^^^^^^^^^^^^^^^\n",
       "  File \"src/gevent/libev/corecext.pyx\", line 716, in gevent.libev.corecext.loop.child\n",
       "  File \"src/gevent/libev/corecext.pyx\", line 1257, in gevent.libev.corecext.child.__cinit__\n",
       "TypeError: child watchers are only available on the default loop\n",
       "</span></pre>\n"
      ],
      "text/plain": [
       "\u001b[31mERROR: Exception:\n",
       "Traceback (most recent call last):\n",
       "  File \"/home/teo/anaconda3/envs/syft_3.11/lib/python3.11/site-packages/pip/_internal/cli/base_command.py\", line 169, in exc_logging_wrapper\n",
       "    status = run_func(*args)\n",
       "             ^^^^^^^^^^^^^^^\n",
       "  File \"/home/teo/anaconda3/envs/syft_3.11/lib/python3.11/site-packages/pip/_internal/cli/req_command.py\", line 248, in wrapper\n",
       "    return func(self, options, args)\n",
       "           ^^^^^^^^^^^^^^^^^^^^^^^^^\n",
       "  File \"/home/teo/anaconda3/envs/syft_3.11/lib/python3.11/site-packages/pip/_internal/commands/install.py\", line 324, in run\n",
       "    session = self.get_default_session(options)\n",
       "              ^^^^^^^^^^^^^^^^^^^^^^^^^^^^^^^^^\n",
       "  File \"/home/teo/anaconda3/envs/syft_3.11/lib/python3.11/site-packages/pip/_internal/cli/req_command.py\", line 98, in get_default_session\n",
       "    self._session = self.enter_context(self._build_session(options))\n",
       "                                       ^^^^^^^^^^^^^^^^^^^^^^^^^^^^\n",
       "  File \"/home/teo/anaconda3/envs/syft_3.11/lib/python3.11/site-packages/pip/_internal/cli/req_command.py\", line 125, in _build_session\n",
       "    session = PipSession(\n",
       "              ^^^^^^^^^^^\n",
       "  File \"/home/teo/anaconda3/envs/syft_3.11/lib/python3.11/site-packages/pip/_internal/network/session.py\", line 342, in __init__\n",
       "    self.headers[\"User-Agent\"] = user_agent()\n",
       "                                 ^^^^^^^^^^^^\n",
       "  File \"/home/teo/anaconda3/envs/syft_3.11/lib/python3.11/site-packages/pip/_internal/network/session.py\", line 140, in user_agent\n",
       "    linux_distribution = distro.name(), distro.version(), distro.codename()\n",
       "                                        ^^^^^^^^^^^^^^^^\n",
       "  File \"/home/teo/anaconda3/envs/syft_3.11/lib/python3.11/site-packages/pip/_vendor/distro/distro.py\", line 367, in version\n",
       "    return _distro.version(pretty, best)\n",
       "           ^^^^^^^^^^^^^^^^^^^^^^^^^^^^^\n",
       "  File \"/home/teo/anaconda3/envs/syft_3.11/lib/python3.11/site-packages/pip/_vendor/distro/distro.py\", line 888, in version\n",
       "    self.lsb_release_attr(\"release\"),\n",
       "    ^^^^^^^^^^^^^^^^^^^^^^^^^^^^^^^^\n",
       "  File \"/home/teo/anaconda3/envs/syft_3.11/lib/python3.11/site-packages/pip/_vendor/distro/distro.py\", line 1066, in lsb_release_attr\n",
       "    return self._lsb_release_info.get(attribute, \"\")\n",
       "           ^^^^^^^^^^^^^^^^^^^^^^\n",
       "  File \"/home/teo/anaconda3/envs/syft_3.11/lib/python3.11/functools.py\", line 1001, in __get__\n",
       "    val = self.func(instance)\n",
       "          ^^^^^^^^^^^^^^^^^^^\n",
       "  File \"/home/teo/anaconda3/envs/syft_3.11/lib/python3.11/site-packages/pip/_vendor/distro/distro.py\", line 1161, in _lsb_release_info\n",
       "    stdout = subprocess.check_output(cmd, stderr=subprocess.DEVNULL)\n",
       "             ^^^^^^^^^^^^^^^^^^^^^^^^^^^^^^^^^^^^^^^^^^^^^^^^^^^^^^^\n",
       "  File \"/home/teo/anaconda3/envs/syft_3.11/lib/python3.11/site-packages/gevent/subprocess.py\", line 413, in check_output\n",
       "    with Popen(*popenargs, stdout=PIPE, **kwargs) as process:\n",
       "         ^^^^^^^^^^^^^^^^^^^^^^^^^^^^^^^^^^^^^^^^\n",
       "  File \"/home/teo/anaconda3/envs/syft_3.11/lib/python3.11/site-packages/gevent/subprocess.py\", line 842, in __init__\n",
       "    self._execute_child(args, executable, preexec_fn, close_fds,\n",
       "  File \"/home/teo/anaconda3/envs/syft_3.11/lib/python3.11/site-packages/gevent/subprocess.py\", line 1675, in _execute_child\n",
       "    self.pid = fork_and_watch(self._on_child, self._loop, True, fork)\n",
       "               ^^^^^^^^^^^^^^^^^^^^^^^^^^^^^^^^^^^^^^^^^^^^^^^^^^^^^^\n",
       "  File \"/home/teo/anaconda3/envs/syft_3.11/lib/python3.11/site-packages/gevent/os.py\", line 434, in fork_and_watch\n",
       "    _watch_child(pid, callback, loop, ref)\n",
       "  File \"/home/teo/anaconda3/envs/syft_3.11/lib/python3.11/site-packages/gevent/os.py\", line 402, in _watch_child\n",
       "    watcher = loop.child(pid, ref=ref)\n",
       "              ^^^^^^^^^^^^^^^^^^^^^^^^\n",
       "  File \"src/gevent/libev/corecext.pyx\", line 716, in gevent.libev.corecext.loop.child\n",
       "  File \"src/gevent/libev/corecext.pyx\", line 1257, in gevent.libev.corecext.child.__cinit__\n",
       "TypeError: child watchers are only available on the default loop\u001b[0m\u001b[31m\n",
       "\u001b[0m"
      ]
     },
     "metadata": {},
     "output_type": "display_data"
    },
    {
     "name": "stdout",
     "output_type": "stream",
     "text": [
      "INFO:     127.0.0.1:41242 - \"POST /api/v2/api_call HTTP/1.1\" 200 OK\n"
     ]
    },
    {
     "data": {
      "text/html": [
       "<div class=\"alert-danger\" style=\"padding:5px;\"><strong>SyftError</strong>: Exception calling python_lib.add_lib. Traceback (most recent call last):\n",
       "  File \"/home/teo/OpenMined/PySyft/packages/syft/src/syft/node/node.py\", line 762, in handle_api_call_with_unsigned_result\n",
       "    result = method(context, *api_call.args, **api_call.kwargs)\n",
       "             ^^^^^^^^^^^^^^^^^^^^^^^^^^^^^^^^^^^^^^^^^^^^^^^^^^\n",
       "  File \"/home/teo/OpenMined/PySyft/packages/syft/src/syft/service/service.py\", line 340, in _decorator\n",
       "    result = func(self, *args, **kwargs)\n",
       "             ^^^^^^^^^^^^^^^^^^^^^^^^^^^\n",
       "  File \"/home/teo/OpenMined/PySyft/packages/syft/src/syft/service/python_lib/python_lib_service.py\", line 32, in add_lib\n",
       "    pip.main(['install', str(path)])\n",
       "  File \"/home/teo/anaconda3/envs/syft_3.11/lib/python3.11/site-packages/pip/__init__.py\", line 13, in main\n",
       "    return _wrapper(args)\n",
       "           ^^^^^^^^^^^^^^\n",
       "  File \"/home/teo/anaconda3/envs/syft_3.11/lib/python3.11/site-packages/pip/_internal/utils/entrypoints.py\", line 43, in _wrapper\n",
       "    return main(args)\n",
       "           ^^^^^^^^^^\n",
       "  File \"/home/teo/anaconda3/envs/syft_3.11/lib/python3.11/site-packages/pip/_internal/cli/main.py\", line 79, in main\n",
       "    return command.main(cmd_args)\n",
       "           ^^^^^^^^^^^^^^^^^^^^^^\n",
       "  File \"/home/teo/anaconda3/envs/syft_3.11/lib/python3.11/site-packages/pip/_internal/cli/base_command.py\", line 101, in main\n",
       "    return self._main(args)\n",
       "           ^^^^^^^^^^^^^^^^\n",
       "  File \"/home/teo/anaconda3/envs/syft_3.11/lib/python3.11/site-packages/pip/_internal/cli/base_command.py\", line 225, in _main\n",
       "    self.handle_pip_version_check(options)\n",
       "  File \"/home/teo/anaconda3/envs/syft_3.11/lib/python3.11/site-packages/pip/_internal/cli/req_command.py\", line 180, in handle_pip_version_check\n",
       "    session = self._build_session(\n",
       "              ^^^^^^^^^^^^^^^^^^^^\n",
       "  File \"/home/teo/anaconda3/envs/syft_3.11/lib/python3.11/site-packages/pip/_internal/cli/req_command.py\", line 125, in _build_session\n",
       "    session = PipSession(\n",
       "              ^^^^^^^^^^^\n",
       "  File \"/home/teo/anaconda3/envs/syft_3.11/lib/python3.11/site-packages/pip/_internal/network/session.py\", line 342, in __init__\n",
       "    self.headers[\"User-Agent\"] = user_agent()\n",
       "                                 ^^^^^^^^^^^^\n",
       "  File \"/home/teo/anaconda3/envs/syft_3.11/lib/python3.11/site-packages/pip/_internal/network/session.py\", line 140, in user_agent\n",
       "    linux_distribution = distro.name(), distro.version(), distro.codename()\n",
       "                                        ^^^^^^^^^^^^^^^^\n",
       "  File \"/home/teo/anaconda3/envs/syft_3.11/lib/python3.11/site-packages/pip/_vendor/distro/distro.py\", line 367, in version\n",
       "    return _distro.version(pretty, best)\n",
       "           ^^^^^^^^^^^^^^^^^^^^^^^^^^^^^\n",
       "  File \"/home/teo/anaconda3/envs/syft_3.11/lib/python3.11/site-packages/pip/_vendor/distro/distro.py\", line 888, in version\n",
       "    self.lsb_release_attr(\"release\"),\n",
       "    ^^^^^^^^^^^^^^^^^^^^^^^^^^^^^^^^\n",
       "  File \"/home/teo/anaconda3/envs/syft_3.11/lib/python3.11/site-packages/pip/_vendor/distro/distro.py\", line 1066, in lsb_release_attr\n",
       "    return self._lsb_release_info.get(attribute, \"\")\n",
       "           ^^^^^^^^^^^^^^^^^^^^^^\n",
       "  File \"/home/teo/anaconda3/envs/syft_3.11/lib/python3.11/functools.py\", line 1001, in __get__\n",
       "    val = self.func(instance)\n",
       "          ^^^^^^^^^^^^^^^^^^^\n",
       "  File \"/home/teo/anaconda3/envs/syft_3.11/lib/python3.11/site-packages/pip/_vendor/distro/distro.py\", line 1161, in _lsb_release_info\n",
       "    stdout = subprocess.check_output(cmd, stderr=subprocess.DEVNULL)\n",
       "             ^^^^^^^^^^^^^^^^^^^^^^^^^^^^^^^^^^^^^^^^^^^^^^^^^^^^^^^\n",
       "  File \"/home/teo/anaconda3/envs/syft_3.11/lib/python3.11/site-packages/gevent/subprocess.py\", line 413, in check_output\n",
       "    with Popen(*popenargs, stdout=PIPE, **kwargs) as process:\n",
       "         ^^^^^^^^^^^^^^^^^^^^^^^^^^^^^^^^^^^^^^^^\n",
       "  File \"/home/teo/anaconda3/envs/syft_3.11/lib/python3.11/site-packages/gevent/subprocess.py\", line 842, in __init__\n",
       "    self._execute_child(args, executable, preexec_fn, close_fds,\n",
       "  File \"/home/teo/anaconda3/envs/syft_3.11/lib/python3.11/site-packages/gevent/subprocess.py\", line 1675, in _execute_child\n",
       "    self.pid = fork_and_watch(self._on_child, self._loop, True, fork)\n",
       "               ^^^^^^^^^^^^^^^^^^^^^^^^^^^^^^^^^^^^^^^^^^^^^^^^^^^^^^\n",
       "  File \"/home/teo/anaconda3/envs/syft_3.11/lib/python3.11/site-packages/gevent/os.py\", line 434, in fork_and_watch\n",
       "    _watch_child(pid, callback, loop, ref)\n",
       "  File \"/home/teo/anaconda3/envs/syft_3.11/lib/python3.11/site-packages/gevent/os.py\", line 402, in _watch_child\n",
       "    watcher = loop.child(pid, ref=ref)\n",
       "              ^^^^^^^^^^^^^^^^^^^^^^^^\n",
       "  File \"src/gevent/libev/corecext.pyx\", line 716, in gevent.libev.corecext.loop.child\n",
       "  File \"src/gevent/libev/corecext.pyx\", line 1257, in gevent.libev.corecext.child.__cinit__\n",
       "TypeError: child watchers are only available on the default loop\n",
       "</div><br />"
      ],
      "text/plain": [
       "SyftError: Exception calling python_lib.add_lib. Traceback (most recent call last):\n",
       "  File \"/home/teo/OpenMined/PySyft/packages/syft/src/syft/node/node.py\", line 762, in handle_api_call_with_unsigned_result\n",
       "    result = method(context, *api_call.args, **api_call.kwargs)\n",
       "             ^^^^^^^^^^^^^^^^^^^^^^^^^^^^^^^^^^^^^^^^^^^^^^^^^^\n",
       "  File \"/home/teo/OpenMined/PySyft/packages/syft/src/syft/service/service.py\", line 340, in _decorator\n",
       "    result = func(self, *args, **kwargs)\n",
       "             ^^^^^^^^^^^^^^^^^^^^^^^^^^^\n",
       "  File \"/home/teo/OpenMined/PySyft/packages/syft/src/syft/service/python_lib/python_lib_service.py\", line 32, in add_lib\n",
       "    pip.main(['install', str(path)])\n",
       "  File \"/home/teo/anaconda3/envs/syft_3.11/lib/python3.11/site-packages/pip/__init__.py\", line 13, in main\n",
       "    return _wrapper(args)\n",
       "           ^^^^^^^^^^^^^^\n",
       "  File \"/home/teo/anaconda3/envs/syft_3.11/lib/python3.11/site-packages/pip/_internal/utils/entrypoints.py\", line 43, in _wrapper\n",
       "    return main(args)\n",
       "           ^^^^^^^^^^\n",
       "  File \"/home/teo/anaconda3/envs/syft_3.11/lib/python3.11/site-packages/pip/_internal/cli/main.py\", line 79, in main\n",
       "    return command.main(cmd_args)\n",
       "           ^^^^^^^^^^^^^^^^^^^^^^\n",
       "  File \"/home/teo/anaconda3/envs/syft_3.11/lib/python3.11/site-packages/pip/_internal/cli/base_command.py\", line 101, in main\n",
       "    return self._main(args)\n",
       "           ^^^^^^^^^^^^^^^^\n",
       "  File \"/home/teo/anaconda3/envs/syft_3.11/lib/python3.11/site-packages/pip/_internal/cli/base_command.py\", line 225, in _main\n",
       "    self.handle_pip_version_check(options)\n",
       "  File \"/home/teo/anaconda3/envs/syft_3.11/lib/python3.11/site-packages/pip/_internal/cli/req_command.py\", line 180, in handle_pip_version_check\n",
       "    session = self._build_session(\n",
       "              ^^^^^^^^^^^^^^^^^^^^\n",
       "  File \"/home/teo/anaconda3/envs/syft_3.11/lib/python3.11/site-packages/pip/_internal/cli/req_command.py\", line 125, in _build_session\n",
       "    session = PipSession(\n",
       "              ^^^^^^^^^^^\n",
       "  File \"/home/teo/anaconda3/envs/syft_3.11/lib/python3.11/site-packages/pip/_internal/network/session.py\", line 342, in __init__\n",
       "    self.headers[\"User-Agent\"] = user_agent()\n",
       "                                 ^^^^^^^^^^^^\n",
       "  File \"/home/teo/anaconda3/envs/syft_3.11/lib/python3.11/site-packages/pip/_internal/network/session.py\", line 140, in user_agent\n",
       "    linux_distribution = distro.name(), distro.version(), distro.codename()\n",
       "                                        ^^^^^^^^^^^^^^^^\n",
       "  File \"/home/teo/anaconda3/envs/syft_3.11/lib/python3.11/site-packages/pip/_vendor/distro/distro.py\", line 367, in version\n",
       "    return _distro.version(pretty, best)\n",
       "           ^^^^^^^^^^^^^^^^^^^^^^^^^^^^^\n",
       "  File \"/home/teo/anaconda3/envs/syft_3.11/lib/python3.11/site-packages/pip/_vendor/distro/distro.py\", line 888, in version\n",
       "    self.lsb_release_attr(\"release\"),\n",
       "    ^^^^^^^^^^^^^^^^^^^^^^^^^^^^^^^^\n",
       "  File \"/home/teo/anaconda3/envs/syft_3.11/lib/python3.11/site-packages/pip/_vendor/distro/distro.py\", line 1066, in lsb_release_attr\n",
       "    return self._lsb_release_info.get(attribute, \"\")\n",
       "           ^^^^^^^^^^^^^^^^^^^^^^\n",
       "  File \"/home/teo/anaconda3/envs/syft_3.11/lib/python3.11/functools.py\", line 1001, in __get__\n",
       "    val = self.func(instance)\n",
       "          ^^^^^^^^^^^^^^^^^^^\n",
       "  File \"/home/teo/anaconda3/envs/syft_3.11/lib/python3.11/site-packages/pip/_vendor/distro/distro.py\", line 1161, in _lsb_release_info\n",
       "    stdout = subprocess.check_output(cmd, stderr=subprocess.DEVNULL)\n",
       "             ^^^^^^^^^^^^^^^^^^^^^^^^^^^^^^^^^^^^^^^^^^^^^^^^^^^^^^^\n",
       "  File \"/home/teo/anaconda3/envs/syft_3.11/lib/python3.11/site-packages/gevent/subprocess.py\", line 413, in check_output\n",
       "    with Popen(*popenargs, stdout=PIPE, **kwargs) as process:\n",
       "         ^^^^^^^^^^^^^^^^^^^^^^^^^^^^^^^^^^^^^^^^\n",
       "  File \"/home/teo/anaconda3/envs/syft_3.11/lib/python3.11/site-packages/gevent/subprocess.py\", line 842, in __init__\n",
       "    self._execute_child(args, executable, preexec_fn, close_fds,\n",
       "  File \"/home/teo/anaconda3/envs/syft_3.11/lib/python3.11/site-packages/gevent/subprocess.py\", line 1675, in _execute_child\n",
       "    self.pid = fork_and_watch(self._on_child, self._loop, True, fork)\n",
       "               ^^^^^^^^^^^^^^^^^^^^^^^^^^^^^^^^^^^^^^^^^^^^^^^^^^^^^^\n",
       "  File \"/home/teo/anaconda3/envs/syft_3.11/lib/python3.11/site-packages/gevent/os.py\", line 434, in fork_and_watch\n",
       "    _watch_child(pid, callback, loop, ref)\n",
       "  File \"/home/teo/anaconda3/envs/syft_3.11/lib/python3.11/site-packages/gevent/os.py\", line 402, in _watch_child\n",
       "    watcher = loop.child(pid, ref=ref)\n",
       "              ^^^^^^^^^^^^^^^^^^^^^^^^\n",
       "  File \"src/gevent/libev/corecext.pyx\", line 716, in gevent.libev.corecext.loop.child\n",
       "  File \"src/gevent/libev/corecext.pyx\", line 1257, in gevent.libev.corecext.child.__cinit__\n",
       "TypeError: child watchers are only available on the default loop"
      ]
     },
     "execution_count": 9,
     "metadata": {},
     "output_type": "execute_result"
    }
   ],
   "source": [
    "domain_client.api.services.python_lib.add_lib(bluebook_folder)"
   ]
  }
 ],
 "metadata": {
  "kernelspec": {
   "display_name": "syft_3.11",
   "language": "python",
   "name": "python3"
  },
  "language_info": {
   "codemirror_mode": {
    "name": "ipython",
    "version": 3
   },
   "file_extension": ".py",
   "mimetype": "text/x-python",
   "name": "python",
   "nbconvert_exporter": "python",
   "pygments_lexer": "ipython3",
   "version": "3.11.4"
  },
  "orig_nbformat": 4
 },
 "nbformat": 4,
 "nbformat_minor": 2
}
