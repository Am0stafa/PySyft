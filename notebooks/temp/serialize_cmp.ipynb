{
 "cells": [
  {
   "cell_type": "code",
   "execution_count": 1,
   "metadata": {},
   "outputs": [],
   "source": [
    "import bluebook"
   ]
  },
  {
   "cell_type": "code",
   "execution_count": 2,
   "metadata": {},
   "outputs": [
    {
     "data": {
      "text/plain": [
       "'OPTForCausalLM(\\n  (model): OPTModel(\\n    (decoder): OPTDecoder(\\n      (embed_tokens): Embedding(50272, 512, padding_idx=1)\\n      (embed_positions): OPTLearnedPositionalEmbedding(2050, 1024)\\n      (project_out): Linear4bit(in_features=1024, out_features=512, bias=False)\\n      (project_in): Linear4bit(in_features=512, out_features=1024, bias=False)\\n      (layers): ModuleList(\\n        (0-23): 24 x OPTDecoderLayer(\\n          (self_attn): OPTAttention(\\n            (k_proj): Linear4bit(in_features=1024, out_features=1024, bias=True)\\n            (v_proj): Linear4bit(in_features=1024, out_features=1024, bias=True)\\n            (q_proj): Linear4bit(in_features=1024, out_features=1024, bias=True)\\n            (out_proj): Linear4bit(in_features=1024, out_features=1024, bias=True)\\n          )\\n          (activation_fn): ReLU()\\n          (self_attn_layer_norm): LayerNorm((1024,), eps=1e-05, elementwise_affine=True)\\n          (fc1): Linear4bit(in_features=1024, out_features=4096, bias=True)\\n          (fc2): Linear4bit(in_features=4096, out_features=1024, bias=True)\\n          (final_layer_norm): LayerNorm((1024,), eps=1e-05, elementwise_affine=True)\\n        )\\n      )\\n    )\\n  )\\n  (lm_head): Linear(in_features=512, out_features=50272, bias=False)\\n)'"
      ]
     },
     "execution_count": 2,
     "metadata": {},
     "output_type": "execute_result"
    }
   ],
   "source": [
    "bluebook.list_models().__repr__()"
   ]
  },
  {
   "cell_type": "code",
   "execution_count": 3,
   "metadata": {},
   "outputs": [
    {
     "name": "stderr",
     "output_type": "stream",
     "text": [
      "/home/teo/OpenMined/PySyft/packages/syft/src/syft/gevent_patch.py:42: MonkeyPatchWarning: Monkey-patching ssl after ssl has already been imported may lead to errors, including RecursionError on Python 3.6. It may also silently lead to incorrect behaviour on Python 3.7. Please monkey-patch earlier. See https://github.com/gevent/gevent/issues/1016. Modules that had direct imports (NOT patched): ['urllib3.util (/home/teo/anaconda3/envs/syft_3.11/lib/python3.11/site-packages/urllib3/util/__init__.py)', 'urllib3.contrib.pyopenssl (/home/teo/anaconda3/envs/syft_3.11/lib/python3.11/site-packages/urllib3/contrib/pyopenssl.py)', 'urllib3.util.ssl_ (/home/teo/anaconda3/envs/syft_3.11/lib/python3.11/site-packages/urllib3/util/ssl_.py)', 'botocore.httpsession (/home/teo/anaconda3/envs/syft_3.11/lib/python3.11/site-packages/botocore/httpsession.py)']. \n",
      "  monkey.patch_all(thread=False)\n",
      "kj/filesystem-disk-unix.c++:1703: warning: PWD environment variable doesn't match current directory; pwd = /home/teo\n",
      "/home/teo/anaconda3/envs/syft_3.11/lib/python3.11/site-packages/_distutils_hack/__init__.py:33: UserWarning: Setuptools is replacing distutils.\n",
      "  warnings.warn(\"Setuptools is replacing distutils.\")\n"
     ]
    }
   ],
   "source": [
    "from syft.serde.lib_service_registry import CMPModule, CMPTree, ALL_EXECUTE, CMPBase, CMPFunction, CMPClass\n",
    "bluebook_cmp = CMPTree(\n",
    "    children=[CMPModule(\n",
    "    \"bluebook\",\n",
    "    permissions=ALL_EXECUTE,\n",
    "    )]\n",
    ")"
   ]
  },
  {
   "cell_type": "code",
   "execution_count": 4,
   "metadata": {},
   "outputs": [],
   "source": [
    "import syft as sy"
   ]
  },
  {
   "cell_type": "code",
   "execution_count": 5,
   "metadata": {},
   "outputs": [
    {
     "name": "stdout",
     "output_type": "stream",
     "text": [
      "Starting blue-book server on 0.0.0.0:60430\n",
      "\n",
      "WARNING: private key is based on node name: blue-book in dev_mode. Don't run this in production.\n",
      "Waiting for server to start"
     ]
    },
    {
     "name": "stderr",
     "output_type": "stream",
     "text": [
      "INFO:     Started server process [666049]\n",
      "INFO:     Waiting for application startup.\n",
      "INFO:     Application startup complete.\n",
      "INFO:     Uvicorn running on http://0.0.0.0:60430 (Press CTRL+C to quit)\n"
     ]
    }
   ],
   "source": [
    "node = sy.orchestra.launch(name=\"blue-book\", port=\"auto\", dev_mode=True, reset=True)"
   ]
  },
  {
   "cell_type": "code",
   "execution_count": null,
   "metadata": {},
   "outputs": [
    {
     "data": {
      "text/html": [
       "<div class=\"alert-warning\" style=\"padding:5px;\"><strong>SyftWarning</strong>: You are using a default password. Please change the password using `[your_client].me.set_password([new_password])`.</div><br />"
      ],
      "text/plain": [
       "SyftWarning: You are using a default password. Please change the password using `[your_client].me.set_password([new_password])`."
      ]
     },
     "metadata": {},
     "output_type": "display_data"
    },
    {
     "name": "stdout",
     "output_type": "stream",
     "text": [
      "INFO:     127.0.0.1:42130 - \"GET /api/v2/metadata HTTP/1.1\" 200 OK\n",
      "INFO:     127.0.0.1:42130 - \"GET /api/v2/metadata HTTP/1.1\" 200 OK\n",
      "INFO:     127.0.0.1:42130 - \"POST /api/v2/login HTTP/1.1\" 200 OK\n",
      "INFO:     127.0.0.1:42130 - \"GET /api/v2/types?verify_key=8ca7d1f9b2967b2b2c6155cd51e61ae8617e51e5e2658ab27af27faab51e6be6 HTTP/1.1\" 200 OK\n",
      "INFO:     127.0.0.1:42130 - \"GET /api/v2/api?verify_key=8ca7d1f9b2967b2b2c6155cd51e61ae8617e51e5e2658ab27af27faab51e6be6 HTTP/1.1\" 200 OK\n"
     ]
    },
    {
     "name": "stdout",
     "output_type": "stream",
     "text": [
      "Logged into <blue-book: High side Domain> as <info@openmined.org>\n"
     ]
    }
   ],
   "source": [
    "domain_client = node.login(email=\"info@openmined.org\", password=\"changethis\")"
   ]
  },
  {
   "cell_type": "code",
   "execution_count": null,
   "metadata": {},
   "outputs": [
    {
     "name": "stderr",
     "output_type": "stream",
     "text": [
      "├───bluebook (ALL_EXECUTE)\n",
      "\n"
     ]
    },
    {
     "name": "stdout",
     "output_type": "stream",
     "text": [
      "INFO:     127.0.0.1:42142 - \"POST /api/v2/api_call HTTP/1.1\" 200 OK\n"
     ]
    },
    {
     "data": {
      "text/html": [
       "<div class=\"alert-success\" style=\"padding:5px;\"><strong>SyftSuccess</strong>: CMP received succesfully!</div><br />"
      ],
      "text/plain": [
       "SyftSuccess: CMP received succesfully!"
      ]
     },
     "execution_count": 7,
     "metadata": {},
     "output_type": "execute_result"
    }
   ],
   "source": [
    "domain_client.api.services.python_lib.send_cmp(bluebook_cmp)"
   ]
  },
  {
   "cell_type": "code",
   "execution_count": null,
   "metadata": {},
   "outputs": [
    {
     "name": "stdout",
     "output_type": "stream",
     "text": [
      "dist\n",
      "dist\n",
      "tests\n",
      "tests\n",
      "src\n",
      "bluebook.egg-info\n",
      "bluebook.egg-info\n",
      "bluebook\n",
      "__pycache__\n",
      "__pycache__\n",
      "bluebook\n",
      "src\n",
      "build\n",
      "bdist.linux-x86_64\n",
      "bdist.linux-x86_64\n",
      "lib\n",
      "bluebook\n",
      "bluebook\n",
      "lib\n",
      "build\n"
     ]
    }
   ],
   "source": [
    "from syft.types.file import SyftFolder, SyftFile\n",
    "bluebook_folder = SyftFolder.from_dir(name=\"bluebook\", path=\"bluebook\")"
   ]
  },
  {
   "cell_type": "code",
   "execution_count": null,
   "metadata": {},
   "outputs": [
    {
     "name": "stderr",
     "output_type": "stream",
     "text": [
      "/home/teo/OpenMined/PySyft/packages/syft/src/syft/service/python_lib/python_lib_service.py:36: MonkeyPatchWarning: Patching more than once will result in the union of all True parameters being patched\n",
      "  monkey.patch_all()\n",
      "/home/teo/OpenMined/PySyft/packages/syft/src/syft/service/python_lib/python_lib_service.py:36: MonkeyPatchWarning: Monkey-patching outside the main native thread. Some APIs will not be available. Expect a KeyError to be printed at shutdown.\n",
      "  monkey.patch_all()\n",
      "/home/teo/OpenMined/PySyft/packages/syft/src/syft/service/python_lib/python_lib_service.py:36: MonkeyPatchWarning: Monkey-patching not on the main thread; threading.main_thread().join() will hang from a greenlet\n",
      "  monkey.patch_all()\n"
     ]
    },
    {
     "name": "stdout",
     "output_type": "stream",
     "text": [
      "README.md\n",
      "dist\n",
      "/tmp/bluebook/dist\n",
      "pyproject.toml\n",
      "LICENSE\n",
      "tests\n",
      "/tmp/bluebook/tests\n",
      "src\n",
      "/tmp/bluebook/src\n",
      "build\n",
      "/tmp/bluebook/build\n",
      "INFO:     127.0.0.1:42156 - \"POST /api/v2/api_call HTTP/1.1\" 200 OK\n",
      "INFO:     127.0.0.1:34584 - \"GET /api/v2/metadata HTTP/1.1\" 200 OK\n",
      "INFO:     127.0.0.1:34584 - \"GET /api/v2/metadata HTTP/1.1\" 200 OK\n",
      "INFO:     127.0.0.1:34584 - \"POST /api/v2/login HTTP/1.1\" 200 OK\n",
      "INFO:     127.0.0.1:34584 - \"GET /api/v2/types?verify_key=8ca7d1f9b2967b2b2c6155cd51e61ae8617e51e5e2658ab27af27faab51e6be6 HTTP/1.1\" 200 OK\n",
      "INFO:     127.0.0.1:34584 - \"GET /api/v2/api?verify_key=8ca7d1f9b2967b2b2c6155cd51e61ae8617e51e5e2658ab27af27faab51e6be6 HTTP/1.1\" 200 OK\n"
     ]
    },
    {
     "data": {
      "text/html": [
       "<div class=\"alert-success\" style=\"padding:5px;\"><strong>SyftSuccess</strong>: Lib added succesfully:0</div><br />"
      ],
      "text/plain": [
       "SyftSuccess: Lib added succesfully:0"
      ]
     },
     "execution_count": 9,
     "metadata": {},
     "output_type": "execute_result"
    }
   ],
   "source": [
    "domain_client.api.services.python_lib.add_lib(bluebook_folder, cmp=bluebook_cmp)"
   ]
  },
  {
   "cell_type": "code",
   "execution_count": null,
   "metadata": {},
   "outputs": [
    {
     "data": {
      "text/html": [
       "<div class=\"alert-warning\" style=\"padding:5px;\"><strong>SyftWarning</strong>: You are using a default password. Please change the password using `[your_client].me.set_password([new_password])`.</div><br />"
      ],
      "text/plain": [
       "SyftWarning: You are using a default password. Please change the password using `[your_client].me.set_password([new_password])`."
      ]
     },
     "metadata": {},
     "output_type": "display_data"
    },
    {
     "name": "stdout",
     "output_type": "stream",
     "text": [
      "Logged into <blue-book: High side Domain> as <info@openmined.org>\n"
     ]
    }
   ],
   "source": [
    "domain_client = node.login(email=\"info@openmined.org\", password=\"changethis\")"
   ]
  },
  {
   "cell_type": "code",
   "execution_count": null,
   "metadata": {},
   "outputs": [
    {
     "data": {
      "text/html": [
       "[&#x27;__annotations__&#x27;, &#x27;__class__&#x27;, &#x27;__delattr__&#x27;, &#x27;__dict__&#x27;, &#x27;__dir__&#x27;, &#x27;__doc__&#x27;, &#x27;__eq__&#x27;, &#x27;__format__&#x27;, &#x27;__ge__&#x27;, &#x27;__getattribute__&#x27;, &#x27;__getitem__&#x27;, &#x27;__getstate__&#x27;, &#x27;__gt__&#x27;, &#x27;__hash__&#x27;, &#x27;__init__&#x27;, &#x27;__init_subclass__&#x27;, &#x27;__le__&#x27;, &#x27;__lt__&#x27;, &#x27;__module__&#x27;, &#x27;__ne__&#x27;, &#x27;__new__&#x27;, &#x27;__reduce__&#x27;, &#x27;__reduce_ex__&#x27;, &#x27;__repr__&#x27;, &#x27;__setattr__&#x27;, &#x27;__sizeof__&#x27;, &#x27;__str__&#x27;, &#x27;__subclasshook__&#x27;, &#x27;__weakref__&#x27;, &#x27;_add_submodule&#x27;, &#x27;_modules&#x27;, &#x27;_repr_html_&#x27;, &#x27;bluebook&#x27;, &#x27;path&#x27;]"
      ],
      "text/plain": [
       "['__annotations__',\n",
       " '__class__',\n",
       " '__delattr__',\n",
       " '__dict__',\n",
       " '__dir__',\n",
       " '__doc__',\n",
       " '__eq__',\n",
       " '__format__',\n",
       " '__ge__',\n",
       " '__getattribute__',\n",
       " '__getitem__',\n",
       " '__getstate__',\n",
       " '__gt__',\n",
       " '__hash__',\n",
       " '__init__',\n",
       " '__init_subclass__',\n",
       " '__le__',\n",
       " '__lt__',\n",
       " '__module__',\n",
       " '__ne__',\n",
       " '__new__',\n",
       " '__reduce__',\n",
       " '__reduce_ex__',\n",
       " '__repr__',\n",
       " '__setattr__',\n",
       " '__sizeof__',\n",
       " '__str__',\n",
       " '__subclasshook__',\n",
       " '__weakref__',\n",
       " '_add_submodule',\n",
       " '_modules',\n",
       " '_repr_html_',\n",
       " 'bluebook',\n",
       " 'path']"
      ]
     },
     "execution_count": 11,
     "metadata": {},
     "output_type": "execute_result"
    }
   ],
   "source": [
    "dir(domain_client.api.lib)"
   ]
  },
  {
   "cell_type": "code",
   "execution_count": null,
   "metadata": {},
   "outputs": [
    {
     "name": "stderr",
     "output_type": "stream",
     "text": [
      "transformers.models.opt.modeling_opt.OPTForCausalLM\n"
     ]
    },
    {
     "name": "stdout",
     "output_type": "stream",
     "text": [
      "INFO:     127.0.0.1:34600 - \"POST /api/v2/api_call HTTP/1.1\" 200 OK\n"
     ]
    },
    {
     "data": {
      "text/markdown": [
       "```python\n",
       "Pointer\n",
       "```\n",
       "'Pointer:\\nOPTForCausalLM(\\n  (model): OPTModel(\\n    (decoder): OPTDecoder(\\n      (embed_tokens): Embedding(50272, 512, padding_idx=1)\\n      (embed_positions): OPTLearnedPositionalEmbedding(2050, 1024)\\n      (project_out): Linear4bit(in_features=1024, out_features=512, bias=False)\\n      (project_in): Linear4bit(in_features=512, out_features=1024, bias=False)\\n      (layers): ModuleList(\\n        (0-23): 24 x OPTDecoderLayer(\\n          (self_attn): OPTAttention(\\n            (k_proj): Linear4bit(in_features=1024, out_features=1024, bias=True)\\n            (v_proj): Linear4bit(in_features=1024, out_features=1024, bias=True)\\n            (q_proj): Linear4bit(in_features=1024, out_features=1024, bias=True)\\n            (out_proj): Linear4bit(in_features=1024, out_features=1024, bias=True)\\n          )\\n          (activation_fn): ReLU()\\n          (self_attn_layer_norm): LayerNorm((1024,), eps=1e-05, elementwise_affine=True)\\n          (fc1): Linear4bit(in_features=1024, out_features=4096, bias=True)\\n          (fc2): Linear4bit(in_features=4096, out_features=1024, bias=True)\\n          (final_layer_norm): LayerNorm((1024,), eps=1e-05, elementwise_affine=True)\\n        )\\n      )\\n    )\\n  )\\n  (lm_head): Linear(in_features=512, out_features=50272, bias=False)\\n)'"
      ],
      "text/plain": [
       "Pointer:\n",
       "Pointer:\n",
       "OPTForCausalLM(\n",
       "  (model): OPTModel(\n",
       "    (decoder): OPTDecoder(\n",
       "      (embed_tokens): Embedding(50272, 512, padding_idx=1)\n",
       "      (embed_positions): OPTLearnedPositionalEmbedding(2050, 1024)\n",
       "      (project_out): Linear4bit(in_features=1024, out_features=512, bias=False)\n",
       "      (project_in): Linear4bit(in_features=512, out_features=1024, bias=False)\n",
       "      (layers): ModuleList(\n",
       "        (0-23): 24 x OPTDecoderLayer(\n",
       "          (self_attn): OPTAttention(\n",
       "            (k_proj): Linear4bit(in_features=1024, out_features=1024, bias=True)\n",
       "            (v_proj): Linear4bit(in_features=1024, out_features=1024, bias=True)\n",
       "            (q_proj): Linear4bit(in_features=1024, out_features=1024, bias=True)\n",
       "            (out_proj): Linear4bit(in_features=1024, out_features=1024, bias=True)\n",
       "          )\n",
       "          (activation_fn): ReLU()\n",
       "          (self_attn_layer_norm): LayerNorm((1024,), eps=1e-05, elementwise_affine=True)\n",
       "          (fc1): Linear4bit(in_features=1024, out_features=4096, bias=True)\n",
       "          (fc2): Linear4bit(in_features=4096, out_features=1024, bias=True)\n",
       "          (final_layer_norm): LayerNorm((1024,), eps=1e-05, elementwise_affine=True)\n",
       "        )\n",
       "      )\n",
       "    )\n",
       "  )\n",
       "  (lm_head): Linear(in_features=512, out_features=50272, bias=False)\n",
       ")"
      ]
     },
     "execution_count": 12,
     "metadata": {},
     "output_type": "execute_result"
    }
   ],
   "source": [
    "result = domain_client.api.lib.bluebook.list_models()\n",
    "print(result)"
   ]
  }
 ],
 "metadata": {
  "kernelspec": {
   "display_name": "syft_3.11",
   "language": "python",
   "name": "python3"
  },
  "language_info": {
   "codemirror_mode": {
    "name": "ipython",
    "version": 3
   },
   "file_extension": ".py",
   "mimetype": "text/x-python",
   "name": "python",
   "nbconvert_exporter": "python",
   "pygments_lexer": "ipython3",
   "version": "3.11.4"
  },
  "orig_nbformat": 4
 },
 "nbformat": 4,
 "nbformat_minor": 2
}
