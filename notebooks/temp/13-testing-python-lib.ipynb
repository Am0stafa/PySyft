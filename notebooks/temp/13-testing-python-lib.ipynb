{
 "cells": [
  {
   "cell_type": "code",
   "execution_count": 1,
   "metadata": {},
   "outputs": [],
   "source": [
    "import bluebook"
   ]
  },
  {
   "cell_type": "code",
   "execution_count": 2,
   "metadata": {},
   "outputs": [
    {
     "data": {
      "text/plain": [
       "OPTForCausalLM(\n",
       "  (model): OPTModel(\n",
       "    (decoder): OPTDecoder(\n",
       "      (embed_tokens): Embedding(50272, 512, padding_idx=1)\n",
       "      (embed_positions): OPTLearnedPositionalEmbedding(2050, 1024)\n",
       "      (project_out): Linear4bit(in_features=1024, out_features=512, bias=False)\n",
       "      (project_in): Linear4bit(in_features=512, out_features=1024, bias=False)\n",
       "      (layers): ModuleList(\n",
       "        (0-23): 24 x OPTDecoderLayer(\n",
       "          (self_attn): OPTAttention(\n",
       "            (k_proj): Linear4bit(in_features=1024, out_features=1024, bias=True)\n",
       "            (v_proj): Linear4bit(in_features=1024, out_features=1024, bias=True)\n",
       "            (q_proj): Linear4bit(in_features=1024, out_features=1024, bias=True)\n",
       "            (out_proj): Linear4bit(in_features=1024, out_features=1024, bias=True)\n",
       "          )\n",
       "          (activation_fn): ReLU()\n",
       "          (self_attn_layer_norm): LayerNorm((1024,), eps=1e-05, elementwise_affine=True)\n",
       "          (fc1): Linear4bit(in_features=1024, out_features=4096, bias=True)\n",
       "          (fc2): Linear4bit(in_features=4096, out_features=1024, bias=True)\n",
       "          (final_layer_norm): LayerNorm((1024,), eps=1e-05, elementwise_affine=True)\n",
       "        )\n",
       "      )\n",
       "    )\n",
       "  )\n",
       "  (lm_head): Linear(in_features=512, out_features=50272, bias=False)\n",
       ")"
      ]
     },
     "execution_count": 2,
     "metadata": {},
     "output_type": "execute_result"
    }
   ],
   "source": [
    "bluebook.list_models()"
   ]
  },
  {
   "cell_type": "code",
   "execution_count": 3,
   "metadata": {},
   "outputs": [
    {
     "data": {
      "text/plain": [
       "['NVIDIA GeForce RTX 2060 SUPER']"
      ]
     },
     "execution_count": 3,
     "metadata": {},
     "output_type": "execute_result"
    }
   ],
   "source": [
    "bluebook.list_gpus()"
   ]
  },
  {
   "cell_type": "code",
   "execution_count": 4,
   "metadata": {},
   "outputs": [],
   "source": [
    "SYFT_VERSION = \">=0.8.2.b0,<0.9\"\n",
    "package_string = f'\"syft{SYFT_VERSION}\"'\n",
    "# %pip install {package_string} -f https://whls.blob.core.windows.net/unstable/index.html -q"
   ]
  },
  {
   "cell_type": "code",
   "execution_count": 5,
   "metadata": {},
   "outputs": [
    {
     "name": "stderr",
     "output_type": "stream",
     "text": [
      "/home/teo/OpenMined/PySyft/packages/syft/src/syft/gevent_patch.py:42: MonkeyPatchWarning: Monkey-patching ssl after ssl has already been imported may lead to errors, including RecursionError on Python 3.6. It may also silently lead to incorrect behaviour on Python 3.7. Please monkey-patch earlier. See https://github.com/gevent/gevent/issues/1016. Modules that had direct imports (NOT patched): ['urllib3.util (/home/teo/anaconda3/envs/syft_3.11/lib/python3.11/site-packages/urllib3/util/__init__.py)', 'urllib3.util.ssl_ (/home/teo/anaconda3/envs/syft_3.11/lib/python3.11/site-packages/urllib3/util/ssl_.py)', 'urllib3.contrib.pyopenssl (/home/teo/anaconda3/envs/syft_3.11/lib/python3.11/site-packages/urllib3/contrib/pyopenssl.py)', 'botocore.httpsession (/home/teo/anaconda3/envs/syft_3.11/lib/python3.11/site-packages/botocore/httpsession.py)']. \n",
      "  monkey.patch_all(thread=False)\n",
      "kj/filesystem-disk-unix.c++:1703: warning: PWD environment variable doesn't match current directory; pwd = /home/teo/OpenMined/PySyft\n"
     ]
    },
    {
     "name": "stdout",
     "output_type": "stream",
     "text": [
      "✅ The installed version of syft==0.8.2b6 matches the requirement >=0.8.2b0 and the requirement <0.9\n"
     ]
    }
   ],
   "source": [
    "import json\n",
    "import syft as sy\n",
    "sy.requires(SYFT_VERSION)"
   ]
  },
  {
   "cell_type": "code",
   "execution_count": 6,
   "metadata": {},
   "outputs": [
    {
     "name": "stdout",
     "output_type": "stream",
     "text": [
      "Starting blue-book server on 0.0.0.0:14103\n",
      "\n",
      "WARNING: private key is based on node name: blue-book in dev_mode. Don't run this in production.\n",
      "Waiting for server to start"
     ]
    },
    {
     "name": "stderr",
     "output_type": "stream",
     "text": [
      "INFO:     Started server process [1524999]\n",
      "INFO:     Waiting for application startup.\n",
      "INFO:     Application startup complete.\n",
      "INFO:     Uvicorn running on http://0.0.0.0:14103 (Press CTRL+C to quit)\n"
     ]
    },
    {
     "name": "stdout",
     "output_type": "stream",
     "text": [
      "INFO:     127.0.0.1:60676 - \"GET /api/v2/metadata HTTP/1.1\" 200 OK\n",
      ". Done.\n"
     ]
    }
   ],
   "source": [
    "node = sy.orchestra.launch(name=\"blue-book\", port=\"auto\", dev_mode=True, reset=True)"
   ]
  },
  {
   "cell_type": "code",
   "execution_count": 7,
   "metadata": {},
   "outputs": [
    {
     "data": {
      "text/html": [
       "<div class=\"alert-warning\" style=\"padding:5px;\"><strong>SyftWarning</strong>: You are using a default password. Please change the password using `[your_client].me.set_password([new_password])`.</div><br />"
      ],
      "text/plain": [
       "SyftWarning: You are using a default password. Please change the password using `[your_client].me.set_password([new_password])`."
      ]
     },
     "metadata": {},
     "output_type": "display_data"
    },
    {
     "name": "stdout",
     "output_type": "stream",
     "text": [
      "INFO:     127.0.0.1:60678 - \"GET /api/v2/metadata HTTP/1.1\" 200 OK\n",
      "INFO:     127.0.0.1:60678 - \"GET /api/v2/metadata HTTP/1.1\" 200 OK\n",
      "INFO:     127.0.0.1:60678 - \"POST /api/v2/login HTTP/1.1\" 200 OK\n",
      "INFO:     127.0.0.1:60678 - \"GET /api/v2/types?verify_key=8ca7d1f9b2967b2b2c6155cd51e61ae8617e51e5e2658ab27af27faab51e6be6 HTTP/1.1\" 200 OK\n",
      "INFO:     127.0.0.1:60678 - \"GET /api/v2/api?verify_key=8ca7d1f9b2967b2b2c6155cd51e61ae8617e51e5e2658ab27af27faab51e6be6 HTTP/1.1\" 200 OK\n"
     ]
    },
    {
     "name": "stdout",
     "output_type": "stream",
     "text": [
      "Logged into <blue-book: High side Domain> as <info@openmined.org>\n"
     ]
    }
   ],
   "source": [
    "domain_client = node.login(email=\"info@openmined.org\", password=\"changethis\")"
   ]
  },
  {
   "cell_type": "code",
   "execution_count": 8,
   "metadata": {},
   "outputs": [],
   "source": [
    "from syft.serde.lib_service_registry import CMPModule, CMPTree, ALL_EXECUTE, CMPBase, CMPFunction, CMPClass\n",
    "bluebook_cmp = CMPTree(\n",
    "    children=[CMPModule(\n",
    "    \"bluebook\",\n",
    "    permissions=ALL_EXECUTE,\n",
    "    )]\n",
    ").build()"
   ]
  },
  {
   "cell_type": "code",
   "execution_count": 9,
   "metadata": {},
   "outputs": [
    {
     "data": {
      "text/plain": [
       "├───bluebook (ALL_EXECUTE)\n",
       "│    ├───example (ALL_EXECUTE)\n",
       "│    │    ├───list_gpus (ALL_EXECUTE)\n",
       "│    │    └───list_models (ALL_EXECUTE)\n",
       "│    ├───list_gpus (ALL_EXECUTE)\n",
       "│    └───list_models (ALL_EXECUTE)"
      ]
     },
     "execution_count": 9,
     "metadata": {},
     "output_type": "execute_result"
    }
   ],
   "source": [
    "bluebook_cmp.bluebook"
   ]
  },
  {
   "cell_type": "code",
   "execution_count": 11,
   "metadata": {},
   "outputs": [
    {
     "name": "stdout",
     "output_type": "stream",
     "text": [
      "├───bluebook.example.list_gpus (ALL_EXECUTE)\n",
      "\n",
      "├───bluebook.example.list_models (ALL_EXECUTE)\n",
      "\n",
      "├───bluebook.list_gpus (ALL_EXECUTE)\n",
      "\n",
      "├───bluebook.list_models (ALL_EXECUTE)\n",
      "\n"
     ]
    }
   ],
   "source": [
    "from syft.service.service import register_lib_obj, action_execute_registry_libs, LibConfigRegistry\n",
    "\n",
    "# hacky, prevent circular imports\n",
    "for lib_obj in bluebook_cmp.flatten():\n",
    "    # # for functions\n",
    "    # func_name = func.__name__\n",
    "    # # for classes\n",
    "    # func_name = path.split(\".\")[-1]\n",
    "    if isinstance(lib_obj, CMPFunction) or isinstance(lib_obj, CMPClass):\n",
    "        print(lib_obj)\n",
    "        register_lib_obj(lib_obj)"
   ]
  },
  {
   "cell_type": "code",
   "execution_count": 14,
   "metadata": {},
   "outputs": [
    {
     "ename": "Exception",
     "evalue": "builtins.module not in TYPE_BANK",
     "output_type": "error",
     "traceback": [
      "\u001b[0;31m---------------------------------------------------------------------------\u001b[0m",
      "\u001b[0;31mException\u001b[0m                                 Traceback (most recent call last)",
      "Cell \u001b[0;32mIn[14], line 1\u001b[0m\n\u001b[0;32m----> 1\u001b[0m sy\u001b[39m.\u001b[39;49mserialize(bluebook_cmp)\n",
      "File \u001b[0;32m~/OpenMined/PySyft/packages/syft/src/syft/serde/serialize.py:14\u001b[0m, in \u001b[0;36m_serialize\u001b[0;34m(obj, to_proto, to_bytes, for_hashing)\u001b[0m\n\u001b[1;32m      5\u001b[0m \u001b[39mdef\u001b[39;00m \u001b[39m_serialize\u001b[39m(\n\u001b[1;32m      6\u001b[0m     obj: \u001b[39mobject\u001b[39m,\n\u001b[1;32m      7\u001b[0m     to_proto: \u001b[39mbool\u001b[39m \u001b[39m=\u001b[39m \u001b[39mTrue\u001b[39;00m,\n\u001b[0;32m   (...)\u001b[0m\n\u001b[1;32m     10\u001b[0m ) \u001b[39m-\u001b[39m\u001b[39m>\u001b[39m Any:\n\u001b[1;32m     11\u001b[0m     \u001b[39m# relative\u001b[39;00m\n\u001b[1;32m     12\u001b[0m     \u001b[39mfrom\u001b[39;00m \u001b[39m.\u001b[39;00m\u001b[39mrecursive\u001b[39;00m \u001b[39mimport\u001b[39;00m rs_object2proto\n\u001b[0;32m---> 14\u001b[0m     proto \u001b[39m=\u001b[39m rs_object2proto(obj, for_hashing\u001b[39m=\u001b[39;49mfor_hashing)\n\u001b[1;32m     16\u001b[0m     \u001b[39mif\u001b[39;00m to_bytes:\n\u001b[1;32m     17\u001b[0m         \u001b[39mreturn\u001b[39;00m proto\u001b[39m.\u001b[39mto_bytes()\n",
      "File \u001b[0;32m~/OpenMined/PySyft/packages/syft/src/syft/serde/recursive.py:250\u001b[0m, in \u001b[0;36mrs_object2proto\u001b[0;34m(self, for_hashing)\u001b[0m\n\u001b[1;32m    247\u001b[0m \u001b[39mif\u001b[39;00m \u001b[39misinstance\u001b[39m(field_obj, types\u001b[39m.\u001b[39mFunctionType):\n\u001b[1;32m    248\u001b[0m     \u001b[39mcontinue\u001b[39;00m\n\u001b[0;32m--> 250\u001b[0m serialized \u001b[39m=\u001b[39m sy\u001b[39m.\u001b[39;49mserialize(field_obj, to_bytes\u001b[39m=\u001b[39;49m\u001b[39mTrue\u001b[39;49;00m, for_hashing\u001b[39m=\u001b[39;49mfor_hashing)\n\u001b[1;32m    251\u001b[0m msg\u001b[39m.\u001b[39mfieldsName[idx] \u001b[39m=\u001b[39m attr_name\n\u001b[1;32m    252\u001b[0m chunk_bytes(serialized, idx, msg\u001b[39m.\u001b[39mfieldsData)\n",
      "File \u001b[0;32m~/OpenMined/PySyft/packages/syft/src/syft/serde/serialize.py:14\u001b[0m, in \u001b[0;36m_serialize\u001b[0;34m(obj, to_proto, to_bytes, for_hashing)\u001b[0m\n\u001b[1;32m      5\u001b[0m \u001b[39mdef\u001b[39;00m \u001b[39m_serialize\u001b[39m(\n\u001b[1;32m      6\u001b[0m     obj: \u001b[39mobject\u001b[39m,\n\u001b[1;32m      7\u001b[0m     to_proto: \u001b[39mbool\u001b[39m \u001b[39m=\u001b[39m \u001b[39mTrue\u001b[39;00m,\n\u001b[0;32m   (...)\u001b[0m\n\u001b[1;32m     10\u001b[0m ) \u001b[39m-\u001b[39m\u001b[39m>\u001b[39m Any:\n\u001b[1;32m     11\u001b[0m     \u001b[39m# relative\u001b[39;00m\n\u001b[1;32m     12\u001b[0m     \u001b[39mfrom\u001b[39;00m \u001b[39m.\u001b[39;00m\u001b[39mrecursive\u001b[39;00m \u001b[39mimport\u001b[39;00m rs_object2proto\n\u001b[0;32m---> 14\u001b[0m     proto \u001b[39m=\u001b[39m rs_object2proto(obj, for_hashing\u001b[39m=\u001b[39;49mfor_hashing)\n\u001b[1;32m     16\u001b[0m     \u001b[39mif\u001b[39;00m to_bytes:\n\u001b[1;32m     17\u001b[0m         \u001b[39mreturn\u001b[39;00m proto\u001b[39m.\u001b[39mto_bytes()\n",
      "File \u001b[0;32m~/OpenMined/PySyft/packages/syft/src/syft/serde/recursive.py:212\u001b[0m, in \u001b[0;36mrs_object2proto\u001b[0;34m(self, for_hashing)\u001b[0m\n\u001b[1;32m    208\u001b[0m     \u001b[39mif\u001b[39;00m serialize \u001b[39mis\u001b[39;00m \u001b[39mNone\u001b[39;00m:\n\u001b[1;32m    209\u001b[0m         \u001b[39mraise\u001b[39;00m \u001b[39mException\u001b[39;00m(\n\u001b[1;32m    210\u001b[0m             \u001b[39mf\u001b[39m\u001b[39m\"\u001b[39m\u001b[39mCant serialize \u001b[39m\u001b[39m{\u001b[39;00m\u001b[39mtype\u001b[39m(\u001b[39mself\u001b[39m)\u001b[39m}\u001b[39;00m\u001b[39m nonrecursive without serialize.\u001b[39m\u001b[39m\"\u001b[39m\n\u001b[1;32m    211\u001b[0m         )\n\u001b[0;32m--> 212\u001b[0m     chunk_bytes(serialize(\u001b[39mself\u001b[39;49m), \u001b[39m\"\u001b[39m\u001b[39mnonrecursiveBlob\u001b[39m\u001b[39m\"\u001b[39m, msg)\n\u001b[1;32m    213\u001b[0m     \u001b[39mreturn\u001b[39;00m msg\n\u001b[1;32m    215\u001b[0m \u001b[39mif\u001b[39;00m attribute_list \u001b[39mis\u001b[39;00m \u001b[39mNone\u001b[39;00m:\n",
      "File \u001b[0;32m~/OpenMined/PySyft/packages/syft/src/syft/serde/recursive_primitives.py:84\u001b[0m, in \u001b[0;36mserialize_kv\u001b[0;34m(map)\u001b[0m\n\u001b[1;32m     82\u001b[0m \u001b[39mfor\u001b[39;00m index, (k, v) \u001b[39min\u001b[39;00m \u001b[39menumerate\u001b[39m(\u001b[39mmap\u001b[39m\u001b[39m.\u001b[39mitems()):\n\u001b[1;32m     83\u001b[0m     message\u001b[39m.\u001b[39mkeys[index] \u001b[39m=\u001b[39m _serialize(k, to_bytes\u001b[39m=\u001b[39m\u001b[39mTrue\u001b[39;00m)\n\u001b[0;32m---> 84\u001b[0m     serialized \u001b[39m=\u001b[39m _serialize(v, to_bytes\u001b[39m=\u001b[39;49m\u001b[39mTrue\u001b[39;49;00m)\n\u001b[1;32m     85\u001b[0m     chunk_bytes(serialized, index, message\u001b[39m.\u001b[39mvalues)\n\u001b[1;32m     87\u001b[0m \u001b[39mreturn\u001b[39;00m message\u001b[39m.\u001b[39mto_bytes()\n",
      "File \u001b[0;32m~/OpenMined/PySyft/packages/syft/src/syft/serde/serialize.py:14\u001b[0m, in \u001b[0;36m_serialize\u001b[0;34m(obj, to_proto, to_bytes, for_hashing)\u001b[0m\n\u001b[1;32m      5\u001b[0m \u001b[39mdef\u001b[39;00m \u001b[39m_serialize\u001b[39m(\n\u001b[1;32m      6\u001b[0m     obj: \u001b[39mobject\u001b[39m,\n\u001b[1;32m      7\u001b[0m     to_proto: \u001b[39mbool\u001b[39m \u001b[39m=\u001b[39m \u001b[39mTrue\u001b[39;00m,\n\u001b[0;32m   (...)\u001b[0m\n\u001b[1;32m     10\u001b[0m ) \u001b[39m-\u001b[39m\u001b[39m>\u001b[39m Any:\n\u001b[1;32m     11\u001b[0m     \u001b[39m# relative\u001b[39;00m\n\u001b[1;32m     12\u001b[0m     \u001b[39mfrom\u001b[39;00m \u001b[39m.\u001b[39;00m\u001b[39mrecursive\u001b[39;00m \u001b[39mimport\u001b[39;00m rs_object2proto\n\u001b[0;32m---> 14\u001b[0m     proto \u001b[39m=\u001b[39m rs_object2proto(obj, for_hashing\u001b[39m=\u001b[39;49mfor_hashing)\n\u001b[1;32m     16\u001b[0m     \u001b[39mif\u001b[39;00m to_bytes:\n\u001b[1;32m     17\u001b[0m         \u001b[39mreturn\u001b[39;00m proto\u001b[39m.\u001b[39mto_bytes()\n",
      "File \u001b[0;32m~/OpenMined/PySyft/packages/syft/src/syft/serde/recursive.py:250\u001b[0m, in \u001b[0;36mrs_object2proto\u001b[0;34m(self, for_hashing)\u001b[0m\n\u001b[1;32m    247\u001b[0m \u001b[39mif\u001b[39;00m \u001b[39misinstance\u001b[39m(field_obj, types\u001b[39m.\u001b[39mFunctionType):\n\u001b[1;32m    248\u001b[0m     \u001b[39mcontinue\u001b[39;00m\n\u001b[0;32m--> 250\u001b[0m serialized \u001b[39m=\u001b[39m sy\u001b[39m.\u001b[39;49mserialize(field_obj, to_bytes\u001b[39m=\u001b[39;49m\u001b[39mTrue\u001b[39;49;00m, for_hashing\u001b[39m=\u001b[39;49mfor_hashing)\n\u001b[1;32m    251\u001b[0m msg\u001b[39m.\u001b[39mfieldsName[idx] \u001b[39m=\u001b[39m attr_name\n\u001b[1;32m    252\u001b[0m chunk_bytes(serialized, idx, msg\u001b[39m.\u001b[39mfieldsData)\n",
      "File \u001b[0;32m~/OpenMined/PySyft/packages/syft/src/syft/serde/serialize.py:14\u001b[0m, in \u001b[0;36m_serialize\u001b[0;34m(obj, to_proto, to_bytes, for_hashing)\u001b[0m\n\u001b[1;32m      5\u001b[0m \u001b[39mdef\u001b[39;00m \u001b[39m_serialize\u001b[39m(\n\u001b[1;32m      6\u001b[0m     obj: \u001b[39mobject\u001b[39m,\n\u001b[1;32m      7\u001b[0m     to_proto: \u001b[39mbool\u001b[39m \u001b[39m=\u001b[39m \u001b[39mTrue\u001b[39;00m,\n\u001b[0;32m   (...)\u001b[0m\n\u001b[1;32m     10\u001b[0m ) \u001b[39m-\u001b[39m\u001b[39m>\u001b[39m Any:\n\u001b[1;32m     11\u001b[0m     \u001b[39m# relative\u001b[39;00m\n\u001b[1;32m     12\u001b[0m     \u001b[39mfrom\u001b[39;00m \u001b[39m.\u001b[39;00m\u001b[39mrecursive\u001b[39;00m \u001b[39mimport\u001b[39;00m rs_object2proto\n\u001b[0;32m---> 14\u001b[0m     proto \u001b[39m=\u001b[39m rs_object2proto(obj, for_hashing\u001b[39m=\u001b[39;49mfor_hashing)\n\u001b[1;32m     16\u001b[0m     \u001b[39mif\u001b[39;00m to_bytes:\n\u001b[1;32m     17\u001b[0m         \u001b[39mreturn\u001b[39;00m proto\u001b[39m.\u001b[39mto_bytes()\n",
      "File \u001b[0;32m~/OpenMined/PySyft/packages/syft/src/syft/serde/recursive.py:212\u001b[0m, in \u001b[0;36mrs_object2proto\u001b[0;34m(self, for_hashing)\u001b[0m\n\u001b[1;32m    208\u001b[0m     \u001b[39mif\u001b[39;00m serialize \u001b[39mis\u001b[39;00m \u001b[39mNone\u001b[39;00m:\n\u001b[1;32m    209\u001b[0m         \u001b[39mraise\u001b[39;00m \u001b[39mException\u001b[39;00m(\n\u001b[1;32m    210\u001b[0m             \u001b[39mf\u001b[39m\u001b[39m\"\u001b[39m\u001b[39mCant serialize \u001b[39m\u001b[39m{\u001b[39;00m\u001b[39mtype\u001b[39m(\u001b[39mself\u001b[39m)\u001b[39m}\u001b[39;00m\u001b[39m nonrecursive without serialize.\u001b[39m\u001b[39m\"\u001b[39m\n\u001b[1;32m    211\u001b[0m         )\n\u001b[0;32m--> 212\u001b[0m     chunk_bytes(serialize(\u001b[39mself\u001b[39;49m), \u001b[39m\"\u001b[39m\u001b[39mnonrecursiveBlob\u001b[39m\u001b[39m\"\u001b[39m, msg)\n\u001b[1;32m    213\u001b[0m     \u001b[39mreturn\u001b[39;00m msg\n\u001b[1;32m    215\u001b[0m \u001b[39mif\u001b[39;00m attribute_list \u001b[39mis\u001b[39;00m \u001b[39mNone\u001b[39;00m:\n",
      "File \u001b[0;32m~/OpenMined/PySyft/packages/syft/src/syft/serde/recursive_primitives.py:84\u001b[0m, in \u001b[0;36mserialize_kv\u001b[0;34m(map)\u001b[0m\n\u001b[1;32m     82\u001b[0m \u001b[39mfor\u001b[39;00m index, (k, v) \u001b[39min\u001b[39;00m \u001b[39menumerate\u001b[39m(\u001b[39mmap\u001b[39m\u001b[39m.\u001b[39mitems()):\n\u001b[1;32m     83\u001b[0m     message\u001b[39m.\u001b[39mkeys[index] \u001b[39m=\u001b[39m _serialize(k, to_bytes\u001b[39m=\u001b[39m\u001b[39mTrue\u001b[39;00m)\n\u001b[0;32m---> 84\u001b[0m     serialized \u001b[39m=\u001b[39m _serialize(v, to_bytes\u001b[39m=\u001b[39;49m\u001b[39mTrue\u001b[39;49;00m)\n\u001b[1;32m     85\u001b[0m     chunk_bytes(serialized, index, message\u001b[39m.\u001b[39mvalues)\n\u001b[1;32m     87\u001b[0m \u001b[39mreturn\u001b[39;00m message\u001b[39m.\u001b[39mto_bytes()\n",
      "File \u001b[0;32m~/OpenMined/PySyft/packages/syft/src/syft/serde/serialize.py:14\u001b[0m, in \u001b[0;36m_serialize\u001b[0;34m(obj, to_proto, to_bytes, for_hashing)\u001b[0m\n\u001b[1;32m      5\u001b[0m \u001b[39mdef\u001b[39;00m \u001b[39m_serialize\u001b[39m(\n\u001b[1;32m      6\u001b[0m     obj: \u001b[39mobject\u001b[39m,\n\u001b[1;32m      7\u001b[0m     to_proto: \u001b[39mbool\u001b[39m \u001b[39m=\u001b[39m \u001b[39mTrue\u001b[39;00m,\n\u001b[0;32m   (...)\u001b[0m\n\u001b[1;32m     10\u001b[0m ) \u001b[39m-\u001b[39m\u001b[39m>\u001b[39m Any:\n\u001b[1;32m     11\u001b[0m     \u001b[39m# relative\u001b[39;00m\n\u001b[1;32m     12\u001b[0m     \u001b[39mfrom\u001b[39;00m \u001b[39m.\u001b[39;00m\u001b[39mrecursive\u001b[39;00m \u001b[39mimport\u001b[39;00m rs_object2proto\n\u001b[0;32m---> 14\u001b[0m     proto \u001b[39m=\u001b[39m rs_object2proto(obj, for_hashing\u001b[39m=\u001b[39;49mfor_hashing)\n\u001b[1;32m     16\u001b[0m     \u001b[39mif\u001b[39;00m to_bytes:\n\u001b[1;32m     17\u001b[0m         \u001b[39mreturn\u001b[39;00m proto\u001b[39m.\u001b[39mto_bytes()\n",
      "File \u001b[0;32m~/OpenMined/PySyft/packages/syft/src/syft/serde/recursive.py:250\u001b[0m, in \u001b[0;36mrs_object2proto\u001b[0;34m(self, for_hashing)\u001b[0m\n\u001b[1;32m    247\u001b[0m \u001b[39mif\u001b[39;00m \u001b[39misinstance\u001b[39m(field_obj, types\u001b[39m.\u001b[39mFunctionType):\n\u001b[1;32m    248\u001b[0m     \u001b[39mcontinue\u001b[39;00m\n\u001b[0;32m--> 250\u001b[0m serialized \u001b[39m=\u001b[39m sy\u001b[39m.\u001b[39;49mserialize(field_obj, to_bytes\u001b[39m=\u001b[39;49m\u001b[39mTrue\u001b[39;49;00m, for_hashing\u001b[39m=\u001b[39;49mfor_hashing)\n\u001b[1;32m    251\u001b[0m msg\u001b[39m.\u001b[39mfieldsName[idx] \u001b[39m=\u001b[39m attr_name\n\u001b[1;32m    252\u001b[0m chunk_bytes(serialized, idx, msg\u001b[39m.\u001b[39mfieldsData)\n",
      "File \u001b[0;32m~/OpenMined/PySyft/packages/syft/src/syft/serde/serialize.py:14\u001b[0m, in \u001b[0;36m_serialize\u001b[0;34m(obj, to_proto, to_bytes, for_hashing)\u001b[0m\n\u001b[1;32m      5\u001b[0m \u001b[39mdef\u001b[39;00m \u001b[39m_serialize\u001b[39m(\n\u001b[1;32m      6\u001b[0m     obj: \u001b[39mobject\u001b[39m,\n\u001b[1;32m      7\u001b[0m     to_proto: \u001b[39mbool\u001b[39m \u001b[39m=\u001b[39m \u001b[39mTrue\u001b[39;00m,\n\u001b[0;32m   (...)\u001b[0m\n\u001b[1;32m     10\u001b[0m ) \u001b[39m-\u001b[39m\u001b[39m>\u001b[39m Any:\n\u001b[1;32m     11\u001b[0m     \u001b[39m# relative\u001b[39;00m\n\u001b[1;32m     12\u001b[0m     \u001b[39mfrom\u001b[39;00m \u001b[39m.\u001b[39;00m\u001b[39mrecursive\u001b[39;00m \u001b[39mimport\u001b[39;00m rs_object2proto\n\u001b[0;32m---> 14\u001b[0m     proto \u001b[39m=\u001b[39m rs_object2proto(obj, for_hashing\u001b[39m=\u001b[39;49mfor_hashing)\n\u001b[1;32m     16\u001b[0m     \u001b[39mif\u001b[39;00m to_bytes:\n\u001b[1;32m     17\u001b[0m         \u001b[39mreturn\u001b[39;00m proto\u001b[39m.\u001b[39mto_bytes()\n",
      "File \u001b[0;32m~/OpenMined/PySyft/packages/syft/src/syft/serde/recursive.py:192\u001b[0m, in \u001b[0;36mrs_object2proto\u001b[0;34m(self, for_hashing)\u001b[0m\n\u001b[1;32m    189\u001b[0m fqn \u001b[39m=\u001b[39m get_fully_qualified_name(\u001b[39mself\u001b[39m)\n\u001b[1;32m    190\u001b[0m \u001b[39mif\u001b[39;00m fqn \u001b[39mnot\u001b[39;00m \u001b[39min\u001b[39;00m TYPE_BANK:\n\u001b[1;32m    191\u001b[0m     \u001b[39m# third party\u001b[39;00m\n\u001b[0;32m--> 192\u001b[0m     \u001b[39mraise\u001b[39;00m \u001b[39mException\u001b[39;00m(\u001b[39mf\u001b[39m\u001b[39m\"\u001b[39m\u001b[39m{\u001b[39;00mfqn\u001b[39m}\u001b[39;00m\u001b[39m not in TYPE_BANK\u001b[39m\u001b[39m\"\u001b[39m)\n\u001b[1;32m    194\u001b[0m msg\u001b[39m.\u001b[39mfullyQualifiedName \u001b[39m=\u001b[39m fqn\n\u001b[1;32m    195\u001b[0m (\n\u001b[1;32m    196\u001b[0m     nonrecursive,\n\u001b[1;32m    197\u001b[0m     serialize,\n\u001b[0;32m   (...)\u001b[0m\n\u001b[1;32m    204\u001b[0m     attribute_types,\n\u001b[1;32m    205\u001b[0m ) \u001b[39m=\u001b[39m TYPE_BANK[fqn]\n",
      "\u001b[0;31mException\u001b[0m: builtins.module not in TYPE_BANK"
     ]
    }
   ],
   "source": [
    "sy.serialize(bluebook_cmp)"
   ]
  },
  {
   "cell_type": "code",
   "execution_count": 12,
   "metadata": {},
   "outputs": [
    {
     "data": {
      "text/html": [
       "[&#x27;bluebook.example.list_gpus&#x27;, &#x27;bluebook.example.list_models&#x27;, &#x27;bluebook.list_gpus&#x27;, &#x27;bluebook.list_models&#x27;]"
      ],
      "text/plain": [
       "['bluebook.example.list_gpus',\n",
       " 'bluebook.example.list_models',\n",
       " 'bluebook.list_gpus',\n",
       " 'bluebook.list_models']"
      ]
     },
     "execution_count": 12,
     "metadata": {},
     "output_type": "execute_result"
    }
   ],
   "source": [
    "list(LibConfigRegistry.__service_config_registry__.keys())"
   ]
  },
  {
   "cell_type": "code",
   "execution_count": 13,
   "metadata": {},
   "outputs": [
    {
     "ename": "Exception",
     "evalue": "builtins.module not in TYPE_BANK",
     "output_type": "error",
     "traceback": [
      "\u001b[0;31m---------------------------------------------------------------------------\u001b[0m",
      "\u001b[0;31mException\u001b[0m                                 Traceback (most recent call last)",
      "Cell \u001b[0;32mIn[13], line 5\u001b[0m\n\u001b[1;32m      1\u001b[0m module \u001b[39m=\u001b[39m CMPModule(\n\u001b[1;32m      2\u001b[0m     \u001b[39m\"\u001b[39m\u001b[39mbluebook\u001b[39m\u001b[39m\"\u001b[39m,\n\u001b[1;32m      3\u001b[0m     permissions\u001b[39m=\u001b[39mALL_EXECUTE,\n\u001b[1;32m      4\u001b[0m     )\n\u001b[0;32m----> 5\u001b[0m domain_client\u001b[39m.\u001b[39;49mapi\u001b[39m.\u001b[39;49mservices\u001b[39m.\u001b[39;49mpython_lib\u001b[39m.\u001b[39;49madd_lib(cmp_module\u001b[39m=\u001b[39;49mbluebook_cmp)\n",
      "File \u001b[0;32m~/OpenMined/PySyft/packages/syft/src/syft/client/api.py:245\u001b[0m, in \u001b[0;36mgenerate_remote_function.<locals>.wrapper\u001b[0;34m(*args, **kwargs)\u001b[0m\n\u001b[1;32m    243\u001b[0m \u001b[39mif\u001b[39;00m \u001b[39mnot\u001b[39;00m allowed:\n\u001b[1;32m    244\u001b[0m     \u001b[39mreturn\u001b[39;00m\n\u001b[0;32m--> 245\u001b[0m result \u001b[39m=\u001b[39m make_call(api_call\u001b[39m=\u001b[39;49mapi_call)\n\u001b[1;32m    246\u001b[0m \u001b[39mreturn\u001b[39;00m result\n",
      "File \u001b[0;32m~/OpenMined/PySyft/packages/syft/src/syft/client/api.py:575\u001b[0m, in \u001b[0;36mSyftAPI.make_call\u001b[0;34m(self, api_call)\u001b[0m\n\u001b[1;32m    574\u001b[0m \u001b[39mdef\u001b[39;00m \u001b[39mmake_call\u001b[39m(\u001b[39mself\u001b[39m, api_call: SyftAPICall) \u001b[39m-\u001b[39m\u001b[39m>\u001b[39m Result:\n\u001b[0;32m--> 575\u001b[0m     signed_call \u001b[39m=\u001b[39m api_call\u001b[39m.\u001b[39;49msign(credentials\u001b[39m=\u001b[39;49m\u001b[39mself\u001b[39;49m\u001b[39m.\u001b[39;49msigning_key)\n\u001b[1;32m    576\u001b[0m     signed_result \u001b[39m=\u001b[39m \u001b[39mself\u001b[39m\u001b[39m.\u001b[39mconnection\u001b[39m.\u001b[39mmake_call(signed_call)\n\u001b[1;32m    578\u001b[0m     result \u001b[39m=\u001b[39m debox_signed_syftapicall_response(signed_result\u001b[39m=\u001b[39msigned_result)\n",
      "File \u001b[0;32m~/OpenMined/PySyft/packages/syft/src/syft/client/api.py:177\u001b[0m, in \u001b[0;36mSyftAPICall.sign\u001b[0;34m(self, credentials)\u001b[0m\n\u001b[1;32m    176\u001b[0m \u001b[39mdef\u001b[39;00m \u001b[39msign\u001b[39m(\u001b[39mself\u001b[39m, credentials: SyftSigningKey) \u001b[39m-\u001b[39m\u001b[39m>\u001b[39m SignedSyftAPICall:\n\u001b[0;32m--> 177\u001b[0m     signed_message \u001b[39m=\u001b[39m credentials\u001b[39m.\u001b[39msigning_key\u001b[39m.\u001b[39msign(_serialize(\u001b[39mself\u001b[39;49m, to_bytes\u001b[39m=\u001b[39;49m\u001b[39mTrue\u001b[39;49;00m))\n\u001b[1;32m    179\u001b[0m     \u001b[39mreturn\u001b[39;00m SignedSyftAPICall(\n\u001b[1;32m    180\u001b[0m         credentials\u001b[39m=\u001b[39mcredentials\u001b[39m.\u001b[39mverify_key,\n\u001b[1;32m    181\u001b[0m         serialized_message\u001b[39m=\u001b[39msigned_message\u001b[39m.\u001b[39mmessage,\n\u001b[1;32m    182\u001b[0m         signature\u001b[39m=\u001b[39msigned_message\u001b[39m.\u001b[39msignature,\n\u001b[1;32m    183\u001b[0m     )\n",
      "File \u001b[0;32m~/OpenMined/PySyft/packages/syft/src/syft/serde/serialize.py:14\u001b[0m, in \u001b[0;36m_serialize\u001b[0;34m(obj, to_proto, to_bytes, for_hashing)\u001b[0m\n\u001b[1;32m      5\u001b[0m \u001b[39mdef\u001b[39;00m \u001b[39m_serialize\u001b[39m(\n\u001b[1;32m      6\u001b[0m     obj: \u001b[39mobject\u001b[39m,\n\u001b[1;32m      7\u001b[0m     to_proto: \u001b[39mbool\u001b[39m \u001b[39m=\u001b[39m \u001b[39mTrue\u001b[39;00m,\n\u001b[0;32m   (...)\u001b[0m\n\u001b[1;32m     10\u001b[0m ) \u001b[39m-\u001b[39m\u001b[39m>\u001b[39m Any:\n\u001b[1;32m     11\u001b[0m     \u001b[39m# relative\u001b[39;00m\n\u001b[1;32m     12\u001b[0m     \u001b[39mfrom\u001b[39;00m \u001b[39m.\u001b[39;00m\u001b[39mrecursive\u001b[39;00m \u001b[39mimport\u001b[39;00m rs_object2proto\n\u001b[0;32m---> 14\u001b[0m     proto \u001b[39m=\u001b[39m rs_object2proto(obj, for_hashing\u001b[39m=\u001b[39;49mfor_hashing)\n\u001b[1;32m     16\u001b[0m     \u001b[39mif\u001b[39;00m to_bytes:\n\u001b[1;32m     17\u001b[0m         \u001b[39mreturn\u001b[39;00m proto\u001b[39m.\u001b[39mto_bytes()\n",
      "File \u001b[0;32m~/OpenMined/PySyft/packages/syft/src/syft/serde/recursive.py:250\u001b[0m, in \u001b[0;36mrs_object2proto\u001b[0;34m(self, for_hashing)\u001b[0m\n\u001b[1;32m    247\u001b[0m \u001b[39mif\u001b[39;00m \u001b[39misinstance\u001b[39m(field_obj, types\u001b[39m.\u001b[39mFunctionType):\n\u001b[1;32m    248\u001b[0m     \u001b[39mcontinue\u001b[39;00m\n\u001b[0;32m--> 250\u001b[0m serialized \u001b[39m=\u001b[39m sy\u001b[39m.\u001b[39;49mserialize(field_obj, to_bytes\u001b[39m=\u001b[39;49m\u001b[39mTrue\u001b[39;49;00m, for_hashing\u001b[39m=\u001b[39;49mfor_hashing)\n\u001b[1;32m    251\u001b[0m msg\u001b[39m.\u001b[39mfieldsName[idx] \u001b[39m=\u001b[39m attr_name\n\u001b[1;32m    252\u001b[0m chunk_bytes(serialized, idx, msg\u001b[39m.\u001b[39mfieldsData)\n",
      "File \u001b[0;32m~/OpenMined/PySyft/packages/syft/src/syft/serde/serialize.py:14\u001b[0m, in \u001b[0;36m_serialize\u001b[0;34m(obj, to_proto, to_bytes, for_hashing)\u001b[0m\n\u001b[1;32m      5\u001b[0m \u001b[39mdef\u001b[39;00m \u001b[39m_serialize\u001b[39m(\n\u001b[1;32m      6\u001b[0m     obj: \u001b[39mobject\u001b[39m,\n\u001b[1;32m      7\u001b[0m     to_proto: \u001b[39mbool\u001b[39m \u001b[39m=\u001b[39m \u001b[39mTrue\u001b[39;00m,\n\u001b[0;32m   (...)\u001b[0m\n\u001b[1;32m     10\u001b[0m ) \u001b[39m-\u001b[39m\u001b[39m>\u001b[39m Any:\n\u001b[1;32m     11\u001b[0m     \u001b[39m# relative\u001b[39;00m\n\u001b[1;32m     12\u001b[0m     \u001b[39mfrom\u001b[39;00m \u001b[39m.\u001b[39;00m\u001b[39mrecursive\u001b[39;00m \u001b[39mimport\u001b[39;00m rs_object2proto\n\u001b[0;32m---> 14\u001b[0m     proto \u001b[39m=\u001b[39m rs_object2proto(obj, for_hashing\u001b[39m=\u001b[39;49mfor_hashing)\n\u001b[1;32m     16\u001b[0m     \u001b[39mif\u001b[39;00m to_bytes:\n\u001b[1;32m     17\u001b[0m         \u001b[39mreturn\u001b[39;00m proto\u001b[39m.\u001b[39mto_bytes()\n",
      "File \u001b[0;32m~/OpenMined/PySyft/packages/syft/src/syft/serde/recursive.py:212\u001b[0m, in \u001b[0;36mrs_object2proto\u001b[0;34m(self, for_hashing)\u001b[0m\n\u001b[1;32m    208\u001b[0m     \u001b[39mif\u001b[39;00m serialize \u001b[39mis\u001b[39;00m \u001b[39mNone\u001b[39;00m:\n\u001b[1;32m    209\u001b[0m         \u001b[39mraise\u001b[39;00m \u001b[39mException\u001b[39;00m(\n\u001b[1;32m    210\u001b[0m             \u001b[39mf\u001b[39m\u001b[39m\"\u001b[39m\u001b[39mCant serialize \u001b[39m\u001b[39m{\u001b[39;00m\u001b[39mtype\u001b[39m(\u001b[39mself\u001b[39m)\u001b[39m}\u001b[39;00m\u001b[39m nonrecursive without serialize.\u001b[39m\u001b[39m\"\u001b[39m\n\u001b[1;32m    211\u001b[0m         )\n\u001b[0;32m--> 212\u001b[0m     chunk_bytes(serialize(\u001b[39mself\u001b[39;49m), \u001b[39m\"\u001b[39m\u001b[39mnonrecursiveBlob\u001b[39m\u001b[39m\"\u001b[39m, msg)\n\u001b[1;32m    213\u001b[0m     \u001b[39mreturn\u001b[39;00m msg\n\u001b[1;32m    215\u001b[0m \u001b[39mif\u001b[39;00m attribute_list \u001b[39mis\u001b[39;00m \u001b[39mNone\u001b[39;00m:\n",
      "File \u001b[0;32m~/OpenMined/PySyft/packages/syft/src/syft/serde/recursive_primitives.py:84\u001b[0m, in \u001b[0;36mserialize_kv\u001b[0;34m(map)\u001b[0m\n\u001b[1;32m     82\u001b[0m \u001b[39mfor\u001b[39;00m index, (k, v) \u001b[39min\u001b[39;00m \u001b[39menumerate\u001b[39m(\u001b[39mmap\u001b[39m\u001b[39m.\u001b[39mitems()):\n\u001b[1;32m     83\u001b[0m     message\u001b[39m.\u001b[39mkeys[index] \u001b[39m=\u001b[39m _serialize(k, to_bytes\u001b[39m=\u001b[39m\u001b[39mTrue\u001b[39;00m)\n\u001b[0;32m---> 84\u001b[0m     serialized \u001b[39m=\u001b[39m _serialize(v, to_bytes\u001b[39m=\u001b[39;49m\u001b[39mTrue\u001b[39;49;00m)\n\u001b[1;32m     85\u001b[0m     chunk_bytes(serialized, index, message\u001b[39m.\u001b[39mvalues)\n\u001b[1;32m     87\u001b[0m \u001b[39mreturn\u001b[39;00m message\u001b[39m.\u001b[39mto_bytes()\n",
      "File \u001b[0;32m~/OpenMined/PySyft/packages/syft/src/syft/serde/serialize.py:14\u001b[0m, in \u001b[0;36m_serialize\u001b[0;34m(obj, to_proto, to_bytes, for_hashing)\u001b[0m\n\u001b[1;32m      5\u001b[0m \u001b[39mdef\u001b[39;00m \u001b[39m_serialize\u001b[39m(\n\u001b[1;32m      6\u001b[0m     obj: \u001b[39mobject\u001b[39m,\n\u001b[1;32m      7\u001b[0m     to_proto: \u001b[39mbool\u001b[39m \u001b[39m=\u001b[39m \u001b[39mTrue\u001b[39;00m,\n\u001b[0;32m   (...)\u001b[0m\n\u001b[1;32m     10\u001b[0m ) \u001b[39m-\u001b[39m\u001b[39m>\u001b[39m Any:\n\u001b[1;32m     11\u001b[0m     \u001b[39m# relative\u001b[39;00m\n\u001b[1;32m     12\u001b[0m     \u001b[39mfrom\u001b[39;00m \u001b[39m.\u001b[39;00m\u001b[39mrecursive\u001b[39;00m \u001b[39mimport\u001b[39;00m rs_object2proto\n\u001b[0;32m---> 14\u001b[0m     proto \u001b[39m=\u001b[39m rs_object2proto(obj, for_hashing\u001b[39m=\u001b[39;49mfor_hashing)\n\u001b[1;32m     16\u001b[0m     \u001b[39mif\u001b[39;00m to_bytes:\n\u001b[1;32m     17\u001b[0m         \u001b[39mreturn\u001b[39;00m proto\u001b[39m.\u001b[39mto_bytes()\n",
      "File \u001b[0;32m~/OpenMined/PySyft/packages/syft/src/syft/serde/recursive.py:250\u001b[0m, in \u001b[0;36mrs_object2proto\u001b[0;34m(self, for_hashing)\u001b[0m\n\u001b[1;32m    247\u001b[0m \u001b[39mif\u001b[39;00m \u001b[39misinstance\u001b[39m(field_obj, types\u001b[39m.\u001b[39mFunctionType):\n\u001b[1;32m    248\u001b[0m     \u001b[39mcontinue\u001b[39;00m\n\u001b[0;32m--> 250\u001b[0m serialized \u001b[39m=\u001b[39m sy\u001b[39m.\u001b[39;49mserialize(field_obj, to_bytes\u001b[39m=\u001b[39;49m\u001b[39mTrue\u001b[39;49;00m, for_hashing\u001b[39m=\u001b[39;49mfor_hashing)\n\u001b[1;32m    251\u001b[0m msg\u001b[39m.\u001b[39mfieldsName[idx] \u001b[39m=\u001b[39m attr_name\n\u001b[1;32m    252\u001b[0m chunk_bytes(serialized, idx, msg\u001b[39m.\u001b[39mfieldsData)\n",
      "File \u001b[0;32m~/OpenMined/PySyft/packages/syft/src/syft/serde/serialize.py:14\u001b[0m, in \u001b[0;36m_serialize\u001b[0;34m(obj, to_proto, to_bytes, for_hashing)\u001b[0m\n\u001b[1;32m      5\u001b[0m \u001b[39mdef\u001b[39;00m \u001b[39m_serialize\u001b[39m(\n\u001b[1;32m      6\u001b[0m     obj: \u001b[39mobject\u001b[39m,\n\u001b[1;32m      7\u001b[0m     to_proto: \u001b[39mbool\u001b[39m \u001b[39m=\u001b[39m \u001b[39mTrue\u001b[39;00m,\n\u001b[0;32m   (...)\u001b[0m\n\u001b[1;32m     10\u001b[0m ) \u001b[39m-\u001b[39m\u001b[39m>\u001b[39m Any:\n\u001b[1;32m     11\u001b[0m     \u001b[39m# relative\u001b[39;00m\n\u001b[1;32m     12\u001b[0m     \u001b[39mfrom\u001b[39;00m \u001b[39m.\u001b[39;00m\u001b[39mrecursive\u001b[39;00m \u001b[39mimport\u001b[39;00m rs_object2proto\n\u001b[0;32m---> 14\u001b[0m     proto \u001b[39m=\u001b[39m rs_object2proto(obj, for_hashing\u001b[39m=\u001b[39;49mfor_hashing)\n\u001b[1;32m     16\u001b[0m     \u001b[39mif\u001b[39;00m to_bytes:\n\u001b[1;32m     17\u001b[0m         \u001b[39mreturn\u001b[39;00m proto\u001b[39m.\u001b[39mto_bytes()\n",
      "File \u001b[0;32m~/OpenMined/PySyft/packages/syft/src/syft/serde/recursive.py:212\u001b[0m, in \u001b[0;36mrs_object2proto\u001b[0;34m(self, for_hashing)\u001b[0m\n\u001b[1;32m    208\u001b[0m     \u001b[39mif\u001b[39;00m serialize \u001b[39mis\u001b[39;00m \u001b[39mNone\u001b[39;00m:\n\u001b[1;32m    209\u001b[0m         \u001b[39mraise\u001b[39;00m \u001b[39mException\u001b[39;00m(\n\u001b[1;32m    210\u001b[0m             \u001b[39mf\u001b[39m\u001b[39m\"\u001b[39m\u001b[39mCant serialize \u001b[39m\u001b[39m{\u001b[39;00m\u001b[39mtype\u001b[39m(\u001b[39mself\u001b[39m)\u001b[39m}\u001b[39;00m\u001b[39m nonrecursive without serialize.\u001b[39m\u001b[39m\"\u001b[39m\n\u001b[1;32m    211\u001b[0m         )\n\u001b[0;32m--> 212\u001b[0m     chunk_bytes(serialize(\u001b[39mself\u001b[39;49m), \u001b[39m\"\u001b[39m\u001b[39mnonrecursiveBlob\u001b[39m\u001b[39m\"\u001b[39m, msg)\n\u001b[1;32m    213\u001b[0m     \u001b[39mreturn\u001b[39;00m msg\n\u001b[1;32m    215\u001b[0m \u001b[39mif\u001b[39;00m attribute_list \u001b[39mis\u001b[39;00m \u001b[39mNone\u001b[39;00m:\n",
      "File \u001b[0;32m~/OpenMined/PySyft/packages/syft/src/syft/serde/recursive_primitives.py:84\u001b[0m, in \u001b[0;36mserialize_kv\u001b[0;34m(map)\u001b[0m\n\u001b[1;32m     82\u001b[0m \u001b[39mfor\u001b[39;00m index, (k, v) \u001b[39min\u001b[39;00m \u001b[39menumerate\u001b[39m(\u001b[39mmap\u001b[39m\u001b[39m.\u001b[39mitems()):\n\u001b[1;32m     83\u001b[0m     message\u001b[39m.\u001b[39mkeys[index] \u001b[39m=\u001b[39m _serialize(k, to_bytes\u001b[39m=\u001b[39m\u001b[39mTrue\u001b[39;00m)\n\u001b[0;32m---> 84\u001b[0m     serialized \u001b[39m=\u001b[39m _serialize(v, to_bytes\u001b[39m=\u001b[39;49m\u001b[39mTrue\u001b[39;49;00m)\n\u001b[1;32m     85\u001b[0m     chunk_bytes(serialized, index, message\u001b[39m.\u001b[39mvalues)\n\u001b[1;32m     87\u001b[0m \u001b[39mreturn\u001b[39;00m message\u001b[39m.\u001b[39mto_bytes()\n",
      "File \u001b[0;32m~/OpenMined/PySyft/packages/syft/src/syft/serde/serialize.py:14\u001b[0m, in \u001b[0;36m_serialize\u001b[0;34m(obj, to_proto, to_bytes, for_hashing)\u001b[0m\n\u001b[1;32m      5\u001b[0m \u001b[39mdef\u001b[39;00m \u001b[39m_serialize\u001b[39m(\n\u001b[1;32m      6\u001b[0m     obj: \u001b[39mobject\u001b[39m,\n\u001b[1;32m      7\u001b[0m     to_proto: \u001b[39mbool\u001b[39m \u001b[39m=\u001b[39m \u001b[39mTrue\u001b[39;00m,\n\u001b[0;32m   (...)\u001b[0m\n\u001b[1;32m     10\u001b[0m ) \u001b[39m-\u001b[39m\u001b[39m>\u001b[39m Any:\n\u001b[1;32m     11\u001b[0m     \u001b[39m# relative\u001b[39;00m\n\u001b[1;32m     12\u001b[0m     \u001b[39mfrom\u001b[39;00m \u001b[39m.\u001b[39;00m\u001b[39mrecursive\u001b[39;00m \u001b[39mimport\u001b[39;00m rs_object2proto\n\u001b[0;32m---> 14\u001b[0m     proto \u001b[39m=\u001b[39m rs_object2proto(obj, for_hashing\u001b[39m=\u001b[39;49mfor_hashing)\n\u001b[1;32m     16\u001b[0m     \u001b[39mif\u001b[39;00m to_bytes:\n\u001b[1;32m     17\u001b[0m         \u001b[39mreturn\u001b[39;00m proto\u001b[39m.\u001b[39mto_bytes()\n",
      "File \u001b[0;32m~/OpenMined/PySyft/packages/syft/src/syft/serde/recursive.py:250\u001b[0m, in \u001b[0;36mrs_object2proto\u001b[0;34m(self, for_hashing)\u001b[0m\n\u001b[1;32m    247\u001b[0m \u001b[39mif\u001b[39;00m \u001b[39misinstance\u001b[39m(field_obj, types\u001b[39m.\u001b[39mFunctionType):\n\u001b[1;32m    248\u001b[0m     \u001b[39mcontinue\u001b[39;00m\n\u001b[0;32m--> 250\u001b[0m serialized \u001b[39m=\u001b[39m sy\u001b[39m.\u001b[39;49mserialize(field_obj, to_bytes\u001b[39m=\u001b[39;49m\u001b[39mTrue\u001b[39;49;00m, for_hashing\u001b[39m=\u001b[39;49mfor_hashing)\n\u001b[1;32m    251\u001b[0m msg\u001b[39m.\u001b[39mfieldsName[idx] \u001b[39m=\u001b[39m attr_name\n\u001b[1;32m    252\u001b[0m chunk_bytes(serialized, idx, msg\u001b[39m.\u001b[39mfieldsData)\n",
      "File \u001b[0;32m~/OpenMined/PySyft/packages/syft/src/syft/serde/serialize.py:14\u001b[0m, in \u001b[0;36m_serialize\u001b[0;34m(obj, to_proto, to_bytes, for_hashing)\u001b[0m\n\u001b[1;32m      5\u001b[0m \u001b[39mdef\u001b[39;00m \u001b[39m_serialize\u001b[39m(\n\u001b[1;32m      6\u001b[0m     obj: \u001b[39mobject\u001b[39m,\n\u001b[1;32m      7\u001b[0m     to_proto: \u001b[39mbool\u001b[39m \u001b[39m=\u001b[39m \u001b[39mTrue\u001b[39;00m,\n\u001b[0;32m   (...)\u001b[0m\n\u001b[1;32m     10\u001b[0m ) \u001b[39m-\u001b[39m\u001b[39m>\u001b[39m Any:\n\u001b[1;32m     11\u001b[0m     \u001b[39m# relative\u001b[39;00m\n\u001b[1;32m     12\u001b[0m     \u001b[39mfrom\u001b[39;00m \u001b[39m.\u001b[39;00m\u001b[39mrecursive\u001b[39;00m \u001b[39mimport\u001b[39;00m rs_object2proto\n\u001b[0;32m---> 14\u001b[0m     proto \u001b[39m=\u001b[39m rs_object2proto(obj, for_hashing\u001b[39m=\u001b[39;49mfor_hashing)\n\u001b[1;32m     16\u001b[0m     \u001b[39mif\u001b[39;00m to_bytes:\n\u001b[1;32m     17\u001b[0m         \u001b[39mreturn\u001b[39;00m proto\u001b[39m.\u001b[39mto_bytes()\n",
      "File \u001b[0;32m~/OpenMined/PySyft/packages/syft/src/syft/serde/recursive.py:212\u001b[0m, in \u001b[0;36mrs_object2proto\u001b[0;34m(self, for_hashing)\u001b[0m\n\u001b[1;32m    208\u001b[0m     \u001b[39mif\u001b[39;00m serialize \u001b[39mis\u001b[39;00m \u001b[39mNone\u001b[39;00m:\n\u001b[1;32m    209\u001b[0m         \u001b[39mraise\u001b[39;00m \u001b[39mException\u001b[39;00m(\n\u001b[1;32m    210\u001b[0m             \u001b[39mf\u001b[39m\u001b[39m\"\u001b[39m\u001b[39mCant serialize \u001b[39m\u001b[39m{\u001b[39;00m\u001b[39mtype\u001b[39m(\u001b[39mself\u001b[39m)\u001b[39m}\u001b[39;00m\u001b[39m nonrecursive without serialize.\u001b[39m\u001b[39m\"\u001b[39m\n\u001b[1;32m    211\u001b[0m         )\n\u001b[0;32m--> 212\u001b[0m     chunk_bytes(serialize(\u001b[39mself\u001b[39;49m), \u001b[39m\"\u001b[39m\u001b[39mnonrecursiveBlob\u001b[39m\u001b[39m\"\u001b[39m, msg)\n\u001b[1;32m    213\u001b[0m     \u001b[39mreturn\u001b[39;00m msg\n\u001b[1;32m    215\u001b[0m \u001b[39mif\u001b[39;00m attribute_list \u001b[39mis\u001b[39;00m \u001b[39mNone\u001b[39;00m:\n",
      "File \u001b[0;32m~/OpenMined/PySyft/packages/syft/src/syft/serde/recursive_primitives.py:84\u001b[0m, in \u001b[0;36mserialize_kv\u001b[0;34m(map)\u001b[0m\n\u001b[1;32m     82\u001b[0m \u001b[39mfor\u001b[39;00m index, (k, v) \u001b[39min\u001b[39;00m \u001b[39menumerate\u001b[39m(\u001b[39mmap\u001b[39m\u001b[39m.\u001b[39mitems()):\n\u001b[1;32m     83\u001b[0m     message\u001b[39m.\u001b[39mkeys[index] \u001b[39m=\u001b[39m _serialize(k, to_bytes\u001b[39m=\u001b[39m\u001b[39mTrue\u001b[39;00m)\n\u001b[0;32m---> 84\u001b[0m     serialized \u001b[39m=\u001b[39m _serialize(v, to_bytes\u001b[39m=\u001b[39;49m\u001b[39mTrue\u001b[39;49;00m)\n\u001b[1;32m     85\u001b[0m     chunk_bytes(serialized, index, message\u001b[39m.\u001b[39mvalues)\n\u001b[1;32m     87\u001b[0m \u001b[39mreturn\u001b[39;00m message\u001b[39m.\u001b[39mto_bytes()\n",
      "File \u001b[0;32m~/OpenMined/PySyft/packages/syft/src/syft/serde/serialize.py:14\u001b[0m, in \u001b[0;36m_serialize\u001b[0;34m(obj, to_proto, to_bytes, for_hashing)\u001b[0m\n\u001b[1;32m      5\u001b[0m \u001b[39mdef\u001b[39;00m \u001b[39m_serialize\u001b[39m(\n\u001b[1;32m      6\u001b[0m     obj: \u001b[39mobject\u001b[39m,\n\u001b[1;32m      7\u001b[0m     to_proto: \u001b[39mbool\u001b[39m \u001b[39m=\u001b[39m \u001b[39mTrue\u001b[39;00m,\n\u001b[0;32m   (...)\u001b[0m\n\u001b[1;32m     10\u001b[0m ) \u001b[39m-\u001b[39m\u001b[39m>\u001b[39m Any:\n\u001b[1;32m     11\u001b[0m     \u001b[39m# relative\u001b[39;00m\n\u001b[1;32m     12\u001b[0m     \u001b[39mfrom\u001b[39;00m \u001b[39m.\u001b[39;00m\u001b[39mrecursive\u001b[39;00m \u001b[39mimport\u001b[39;00m rs_object2proto\n\u001b[0;32m---> 14\u001b[0m     proto \u001b[39m=\u001b[39m rs_object2proto(obj, for_hashing\u001b[39m=\u001b[39;49mfor_hashing)\n\u001b[1;32m     16\u001b[0m     \u001b[39mif\u001b[39;00m to_bytes:\n\u001b[1;32m     17\u001b[0m         \u001b[39mreturn\u001b[39;00m proto\u001b[39m.\u001b[39mto_bytes()\n",
      "File \u001b[0;32m~/OpenMined/PySyft/packages/syft/src/syft/serde/recursive.py:250\u001b[0m, in \u001b[0;36mrs_object2proto\u001b[0;34m(self, for_hashing)\u001b[0m\n\u001b[1;32m    247\u001b[0m \u001b[39mif\u001b[39;00m \u001b[39misinstance\u001b[39m(field_obj, types\u001b[39m.\u001b[39mFunctionType):\n\u001b[1;32m    248\u001b[0m     \u001b[39mcontinue\u001b[39;00m\n\u001b[0;32m--> 250\u001b[0m serialized \u001b[39m=\u001b[39m sy\u001b[39m.\u001b[39;49mserialize(field_obj, to_bytes\u001b[39m=\u001b[39;49m\u001b[39mTrue\u001b[39;49;00m, for_hashing\u001b[39m=\u001b[39;49mfor_hashing)\n\u001b[1;32m    251\u001b[0m msg\u001b[39m.\u001b[39mfieldsName[idx] \u001b[39m=\u001b[39m attr_name\n\u001b[1;32m    252\u001b[0m chunk_bytes(serialized, idx, msg\u001b[39m.\u001b[39mfieldsData)\n",
      "File \u001b[0;32m~/OpenMined/PySyft/packages/syft/src/syft/serde/serialize.py:14\u001b[0m, in \u001b[0;36m_serialize\u001b[0;34m(obj, to_proto, to_bytes, for_hashing)\u001b[0m\n\u001b[1;32m      5\u001b[0m \u001b[39mdef\u001b[39;00m \u001b[39m_serialize\u001b[39m(\n\u001b[1;32m      6\u001b[0m     obj: \u001b[39mobject\u001b[39m,\n\u001b[1;32m      7\u001b[0m     to_proto: \u001b[39mbool\u001b[39m \u001b[39m=\u001b[39m \u001b[39mTrue\u001b[39;00m,\n\u001b[0;32m   (...)\u001b[0m\n\u001b[1;32m     10\u001b[0m ) \u001b[39m-\u001b[39m\u001b[39m>\u001b[39m Any:\n\u001b[1;32m     11\u001b[0m     \u001b[39m# relative\u001b[39;00m\n\u001b[1;32m     12\u001b[0m     \u001b[39mfrom\u001b[39;00m \u001b[39m.\u001b[39;00m\u001b[39mrecursive\u001b[39;00m \u001b[39mimport\u001b[39;00m rs_object2proto\n\u001b[0;32m---> 14\u001b[0m     proto \u001b[39m=\u001b[39m rs_object2proto(obj, for_hashing\u001b[39m=\u001b[39;49mfor_hashing)\n\u001b[1;32m     16\u001b[0m     \u001b[39mif\u001b[39;00m to_bytes:\n\u001b[1;32m     17\u001b[0m         \u001b[39mreturn\u001b[39;00m proto\u001b[39m.\u001b[39mto_bytes()\n",
      "File \u001b[0;32m~/OpenMined/PySyft/packages/syft/src/syft/serde/recursive.py:192\u001b[0m, in \u001b[0;36mrs_object2proto\u001b[0;34m(self, for_hashing)\u001b[0m\n\u001b[1;32m    189\u001b[0m fqn \u001b[39m=\u001b[39m get_fully_qualified_name(\u001b[39mself\u001b[39m)\n\u001b[1;32m    190\u001b[0m \u001b[39mif\u001b[39;00m fqn \u001b[39mnot\u001b[39;00m \u001b[39min\u001b[39;00m TYPE_BANK:\n\u001b[1;32m    191\u001b[0m     \u001b[39m# third party\u001b[39;00m\n\u001b[0;32m--> 192\u001b[0m     \u001b[39mraise\u001b[39;00m \u001b[39mException\u001b[39;00m(\u001b[39mf\u001b[39m\u001b[39m\"\u001b[39m\u001b[39m{\u001b[39;00mfqn\u001b[39m}\u001b[39;00m\u001b[39m not in TYPE_BANK\u001b[39m\u001b[39m\"\u001b[39m)\n\u001b[1;32m    194\u001b[0m msg\u001b[39m.\u001b[39mfullyQualifiedName \u001b[39m=\u001b[39m fqn\n\u001b[1;32m    195\u001b[0m (\n\u001b[1;32m    196\u001b[0m     nonrecursive,\n\u001b[1;32m    197\u001b[0m     serialize,\n\u001b[0;32m   (...)\u001b[0m\n\u001b[1;32m    204\u001b[0m     attribute_types,\n\u001b[1;32m    205\u001b[0m ) \u001b[39m=\u001b[39m TYPE_BANK[fqn]\n",
      "\u001b[0;31mException\u001b[0m: builtins.module not in TYPE_BANK"
     ]
    }
   ],
   "source": [
    "module = CMPModule(\n",
    "    \"bluebook\",\n",
    "    permissions=ALL_EXECUTE,\n",
    "    )\n",
    "domain_client.api.services.python_lib.add_lib(cmp_module=bluebook_cmp)"
   ]
  },
  {
   "cell_type": "code",
   "execution_count": null,
   "metadata": {},
   "outputs": [
    {
     "data": {
      "text/html": [
       "<div class=\"alert-warning\" style=\"padding:5px;\"><strong>SyftWarning</strong>: You are using a default password. Please change the password using `[your_client].me.set_password([new_password])`.</div><br />"
      ],
      "text/plain": [
       "SyftWarning: You are using a default password. Please change the password using `[your_client].me.set_password([new_password])`."
      ]
     },
     "metadata": {},
     "output_type": "display_data"
    },
    {
     "name": "stdout",
     "output_type": "stream",
     "text": [
      "Logged into <blue-book: High side Domain> as <info@openmined.org>\n"
     ]
    }
   ],
   "source": [
    "domain_client = node.login(email=\"info@openmined.org\", password=\"changethis\")"
   ]
  },
  {
   "cell_type": "code",
   "execution_count": null,
   "metadata": {},
   "outputs": [
    {
     "data": {
      "text/html": [
       "[]"
      ],
      "text/plain": [
       "[]"
      ]
     },
     "execution_count": 17,
     "metadata": {},
     "output_type": "execute_result"
    }
   ],
   "source": [
    "domain_client.api.services.python_lib.show_lib()"
   ]
  },
  {
   "cell_type": "code",
   "execution_count": null,
   "metadata": {},
   "outputs": [
    {
     "name": "stderr",
     "output_type": "stream",
     "text": [
      "---------------------------------------------------------------------------\n",
      "SyftAttributeError\n",
      "---------------------------------------------------------------------------\n",
      "Exception: 'APIModule' api object has no submodule or method 'bluebook', you may not have permission to access the module you are trying to access\n"
     ]
    }
   ],
   "source": [
    "domain_client.api.lib.bluebook"
   ]
  },
  {
   "cell_type": "code",
   "execution_count": null,
   "metadata": {},
   "outputs": [],
   "source": [
    "python_lib_cli_dockerfile = \"\"\"\n",
    "FROM nvidia/cuda:11.4.0-base-ubuntu20.04\n",
    "\n",
    "# Set environment variables\n",
    "ENV DEBIAN_FRONTEND=noninteractive\n",
    "\n",
    "# Install system dependencies\n",
    "RUN apt-get update && \\\n",
    "    apt-get install -y \\\n",
    "        git \\\n",
    "        python3-pip \\\n",
    "        python3-dev \\\n",
    "        python3-opencv \\\n",
    "        libglib2.0-0\n",
    "\n",
    "RUN python3 -m pip install -r requirements.txt\n",
    "\n",
    "# Upgrade pip\n",
    "RUN python3 -m pip install --upgrade pip\n",
    "\n",
    "# Install PyTorch and torchvision\n",
    "RUN pip3 install torch torchvision torchaudio -f https://download.pytorch.org/whl/cu111/torch_stable.html\n",
    "\n",
    "\n",
    "# Set the entrypoint\n",
    "ENTRYPOINT [ \"python3\" ]\n",
    "\"\"\"\n"
   ]
  },
  {
   "cell_type": "code",
   "execution_count": null,
   "metadata": {},
   "outputs": [
    {
     "data": {
      "text/html": [
       "<div class=\"alert-success\" style=\"padding:5px;\"><strong>SyftSuccess</strong>: ContainerImage added: syft.service.container.container.ContainerImage</div><br />"
      ],
      "text/plain": [
       "SyftSuccess: ContainerImage added: syft.service.container.container.ContainerImage"
      ]
     },
     "execution_count": 15,
     "metadata": {},
     "output_type": "execute_result"
    }
   ],
   "source": [
    "result = domain_client.api.services.container.add_image(\n",
    "    name=\"python_lib\",\n",
    "    tag=\"python_lib:latest\",\n",
    "    dockerfile=python_lib_cli_dockerfile,\n",
    "    # volumes=volumes,\n",
    ")\n",
    "result"
   ]
  },
  {
   "cell_type": "code",
   "execution_count": null,
   "metadata": {},
   "outputs": [
    {
     "data": {
      "text/html": [
       "\n",
       "<style>\n",
       "  .header-1 {\n",
       "        font-style: normal;\n",
       "        font-weight: 600;\n",
       "        font-size: 2.0736em;\n",
       "        line-height: 100%;\n",
       "        leading-trim: both;\n",
       "        text-edge: cap;\n",
       "        color: #17161D;\n",
       "    }\n",
       "\n",
       "  .header-2 {\n",
       "        font-style: normal;\n",
       "        font-weight: 600;\n",
       "        font-size: 1.728em;\n",
       "        line-height: 100%;\n",
       "        leading-trim: both;\n",
       "        text-edge: cap;\n",
       "        color: #17161D;\n",
       "    }\n",
       "\n",
       "  .header-3 {\n",
       "        font-style: normal;\n",
       "        font-weight: 600;\n",
       "        font-size:  1.44em;\n",
       "        line-height: 100%;\n",
       "        leading-trim: both;\n",
       "        text-edge: cap;\n",
       "        color: #17161D;\n",
       "    }\n",
       "\n",
       "  .header-4 {\n",
       "        font-style: normal;\n",
       "        font-weight: 600;\n",
       "        font-size: 1.2em;\n",
       "        line-height: 100%;\n",
       "        leading-trim: both;\n",
       "        text-edge: cap;\n",
       "        color: #17161D;\n",
       "    }\n",
       "\n",
       "    .paragraph {\n",
       "        font-style: normal;\n",
       "        font-weight: 400;\n",
       "        font-size: 14px;\n",
       "        line-height: 100%;\n",
       "        leading-trim: both;\n",
       "        text-edge: cap;\n",
       "        color: #2E2B3B;\n",
       "    }\n",
       "\n",
       "    .paragraph-sm {\n",
       "        font-family: 'Roboto';\n",
       "        font-style: normal;\n",
       "        font-weight: 400;\n",
       "        font-size: 11.62px;\n",
       "        line-height: 100%;\n",
       "        leading-trim: both;\n",
       "        text-edge: cap;\n",
       "        color: #2E2B3B;\n",
       "    }\n",
       "    .code-text {\n",
       "        font-family: 'Consolas';\n",
       "        font-style: normal;\n",
       "        font-weight: 400;\n",
       "        font-size: 13px;\n",
       "        line-height: 130%;\n",
       "        leading-trim: both;\n",
       "        text-edge: cap;\n",
       "        color: #2E2B3B;\n",
       "    }\n",
       "\n",
       "    .numbering-entry { display: none }\n",
       "\n",
       "    /* Tooltip container */\n",
       "    .tooltip {\n",
       "        position: relative;\n",
       "        display: inline-block;\n",
       "        border-bottom: 1px dotted black; /* If you want dots under the hoverable text */\n",
       "    }\n",
       "\n",
       "    /* Tooltip text */\n",
       "    .tooltip .tooltiptext {\n",
       "        visibility: hidden;\n",
       "        width: 120px;\n",
       "        background-color: black;\n",
       "        color: #fff;\n",
       "        text-align: center;\n",
       "        padding: 5px 0;\n",
       "        border-radius: 6px;\n",
       "\n",
       "        /* Position the tooltip text - see examples below! */\n",
       "        position: absolute;\n",
       "        z-index: 1;\n",
       "    }\n",
       "\n",
       "    .repr-cell {\n",
       "      padding-top: 20px;\n",
       "    }\n",
       "\n",
       "    .text-bold {\n",
       "        font-weight: bold;\n",
       "    }\n",
       "\n",
       "    .pr-8 {\n",
       "        padding-right: 8px;\n",
       "    }\n",
       "    .pt-8 {\n",
       "        padding-top: 8px;\n",
       "    }\n",
       "    .pl-8 {\n",
       "        padding-left: 8px;\n",
       "    }\n",
       "    .pb-8 {\n",
       "        padding-bottom: 8px;\n",
       "    }\n",
       "\n",
       "    .py-25{\n",
       "        padding-top: 25px;\n",
       "        padding-bottom: 25px;\n",
       "    }\n",
       "\n",
       "    .flex {\n",
       "        display: flex;\n",
       "    }\n",
       "\n",
       "    .gap-10 {\n",
       "        gap: 10px;\n",
       "    }\n",
       "    .items-center{\n",
       "        align-items: center;\n",
       "    }\n",
       "\n",
       "    .search-input{\n",
       "        display: flex;\n",
       "        flex-direction: row;\n",
       "        align-items: center;\n",
       "        padding: 8px 12px;\n",
       "        width: 343px;\n",
       "        height: 24px;\n",
       "        /* Lt On Surface/Low */\n",
       "        background: #F1F0F4;\n",
       "        border-radius: 30px;\n",
       "\n",
       "        /* Lt On Surface/Highest */\n",
       "        color: #B4B0BF;\n",
       "        border:none;\n",
       "        /* Inside auto layout */\n",
       "        flex: none;\n",
       "        order: 0;\n",
       "        flex-grow: 0;\n",
       "    }\n",
       "    .search-input:focus {\n",
       "        outline: none;\n",
       "    }\n",
       "\n",
       "    .search-button{\n",
       "        /* Search */\n",
       "        leading-trim: both;\n",
       "        text-edge: cap;\n",
       "        display: flex;\n",
       "        align-items: center;\n",
       "        text-align: center;\n",
       "\n",
       "        /* Primary/On Light */\n",
       "        color: #464A91;\n",
       "\n",
       "        border-radius: 30px;\n",
       "        border-color: #464A91;\n",
       "        /* Inside auto layout */\n",
       "        flex: none;\n",
       "        order: 1;\n",
       "        flex-grow: 0;\n",
       "    }\n",
       "\n",
       "    .grid-table854ea2726500438484ffe540442a5302 {\n",
       "        display:grid;\n",
       "        grid-template-columns: 1fr repeat(12, 1fr);\n",
       "        grid-template-rows: repeat(2, 1fr);\n",
       "        overflow-x: auto;\n",
       "    }\n",
       "\n",
       "    .grid-std-cells {\n",
       "        grid-column: span 4;\n",
       "\n",
       "    }\n",
       "    .grid-index-cells {\n",
       "        grid-column: span 1;\n",
       "        background: #ECEBEF;\n",
       "        /* tmp fix to make left col stand out (fix with font-family) */\n",
       "        font-weight: 600;\n",
       "    }\n",
       "\n",
       "    .grid-header {\n",
       "        /* Auto layout */\n",
       "        display: flex;\n",
       "        flex-direction: column;\n",
       "        align-items: flex-start;\n",
       "        padding: 6px 4px;\n",
       "\n",
       "        /* Lt On Surface/Surface */\n",
       "        background: #ECEBEF;\n",
       "        /* Lt On Surface/High */\n",
       "        border: 1px solid #CFCDD6;\n",
       "        color: #2E2B3B;\n",
       "        /* tmp fix to make header stand out (fix with font-family) */\n",
       "        font-weight: 600;\n",
       "    }\n",
       "\n",
       "    .grid-row {\n",
       "        color: #5E5A72;\n",
       "        display: flex;\n",
       "        flex-direction: column;\n",
       "        align-items: flex-start;\n",
       "        padding: 6px 4px;\n",
       "        overflow: hidden;\n",
       "        border: 1px solid #CFCDD6;\n",
       "    }\n",
       "\n",
       "    .badge {\n",
       "        code-text;\n",
       "        border-radius: 30px;\n",
       "    }\n",
       "\n",
       "    .badge-blue {\n",
       "        badge;\n",
       "        background-color: #C2DEF0;\n",
       "        color: #1F567A;\n",
       "    }\n",
       "\n",
       "    .badge-purple {\n",
       "        badge;\n",
       "        background-color: #C9CFE8;\n",
       "        color: #373B7B;\n",
       "    }\n",
       "\n",
       "    .badge-green {\n",
       "        badge;\n",
       "\n",
       "        /* Success/Container */\n",
       "        background-color: #D5F1D5;\n",
       "        color: #256B24;\n",
       "    }\n",
       "\n",
       "    .badge-red {\n",
       "        badge;\n",
       "        background-color: #F2D9DE;\n",
       "        color: #9B2737;\n",
       "    }\n",
       "\n",
       "    .badge-gray {\n",
       "        badge;\n",
       "        background-color: #ECEBEF;\n",
       "        color: #2E2B3B;\n",
       "    }\n",
       "    .paginationContainer{\n",
       "        width: 100%;\n",
       "        height: 30px;\n",
       "        display: flex;\n",
       "        justify-content: center;\n",
       "        gap: 8px;\n",
       "        padding: 5px;\n",
       "    }\n",
       "\n",
       "    .page{\n",
       "        color: black;\n",
       "        font-weight: bold;\n",
       "    }\n",
       "    .page:hover {\n",
       "      color: #38bdf8;\n",
       "      cursor: pointer;\n",
       "    }\n",
       "    .clipboard:hover{\n",
       "        cursor: pointer;\n",
       "    }\n",
       "\n",
       "    .search-field {\n",
       "        display: flex;\n",
       "        align-items: center;\n",
       "        background: #F1F0F4;\n",
       "        border-radius: 30px;\n",
       "    }\n",
       "\n",
       "    .syft-dropdown {\n",
       "        margin: 5px;\n",
       "        margin-left: 5px;\n",
       "        position: relative;\n",
       "        display: inline-block;\n",
       "        text-align: center;\n",
       "        background-color: #d1d5db;\n",
       "        min-width: 100px;\n",
       "        padding: 2px;\n",
       "        border-radius: 30px;\n",
       "    }\n",
       "\n",
       "    .syft-dropdown:hover {\n",
       "        cursor: pointer;\n",
       "    }\n",
       "    .syft-dropdown-content {\n",
       "        margin-top:26px;\n",
       "        display: none;\n",
       "        position: absolute;\n",
       "        background-color: #f9f9f9;\n",
       "        min-width: 100px;\n",
       "        box-shadow: 0px 8px 16px 0px rgba(0,0,0,0.2);\n",
       "        padding: 12px 6px;\n",
       "        z-index: 1;\n",
       "    }\n",
       "    .dd-options {\n",
       "        padding-top: 4px;\n",
       "    }\n",
       "    .dd-options:first-of-type {\n",
       "        padding-top: 0px;\n",
       "    }\n",
       "\n",
       "    .dd-options:hover {\n",
       "        cursor: pointer;\n",
       "        background: #d1d5db;\n",
       "    }\n",
       "    .arrow {\n",
       "        border: solid black;\n",
       "        border-width: 0 3px 3px 0;\n",
       "        display: inline-block;\n",
       "        padding: 3px;\n",
       "    }\n",
       "    .down {\n",
       "        transform: rotate(45deg);\n",
       "        -webkit-transform: rotate(45deg);\n",
       "    }\n",
       "</style>\n",
       "\n",
       "\n",
       "    <div style='margin-top:15px;'>\n",
       "        <div class='flex gap-10' style='align-items: center;'>\n",
       "            <div><svg width=\"32\" height=\"32\" viewBox=\"0 0 32 32\" fill=\"none\" xmlns=\"http://www.w3.org/2000/svg\"> <path d=\"M28 6H4C3.73478 6 3.48043 6.10536 3.29289 6.29289C3.10536 6.48043 3 6.73478 3 7V24C3 24.5304 3.21071 25.0391 3.58579 25.4142C3.96086 25.7893 4.46957 26 5 26H27C27.5304 26 28.0391 25.7893 28.4142 25.4142C28.7893 25.0391 29 24.5304 29 24V7C29 6.73478 28.8946 6.48043 28.7071 6.29289C28.5196 6.10536 28.2652 6 28 6ZM5 14H10V18H5V14ZM12 14H27V18H12V14ZM27 8V12H5V8H27ZM5 20H10V24H5V20ZM27 24H12V20H27V24Z\" fill=\"#343330\"/></svg></div>\n",
       "            <div><p class='header-3'>ContainerImage List</p></div>\n",
       "        </div>\n",
       "\n",
       "            <div style=\"padding-top: 16px; display:flex;justify-content: space-between; align-items: center;\">\n",
       "                <div class='pt-25 gap-10' style=\"display:flex;\">\n",
       "                    <div class=\"search-field\">\n",
       "                        <div id='search-menu854ea2726500438484ffe540442a5302' class=\"syft-dropdown\" onclick=\"{\n",
       "                            let doc = document.getElementById('search-dropdown-content854ea2726500438484ffe540442a5302')\n",
       "                            if (doc.style.display === 'block'){\n",
       "                                doc.style.display = 'none'\n",
       "                            } else {\n",
       "                                doc.style.display = 'block'\n",
       "                            }\n",
       "                            }\">\n",
       "                            <div id='search-dropdown-content854ea2726500438484ffe540442a5302' class='syft-dropdown-content'></div>\n",
       "                            <script>\n",
       "                                var element854ea2726500438484ffe540442a5302 = [{\"id\": {\"value\": \"4e4d77d6a4594e338fc15c58ba89c35b\", \"type\": \"clipboard\"}, \"name\": \"python_lib\", \"tag\": \"python_lib:latest\"}]\n",
       "                                var page_size854ea2726500438484ffe540442a5302 = 1\n",
       "                                var pageIndex854ea2726500438484ffe540442a5302 = 1\n",
       "                                var paginatedElements854ea2726500438484ffe540442a5302 = []\n",
       "                                var activeFilter854ea2726500438484ffe540442a5302;\n",
       "\n",
       "                                function buildDropDownMenu(elements){\n",
       "                                    let init_filter;\n",
       "                                    let menu = document.getElementById('search-dropdown-content854ea2726500438484ffe540442a5302')\n",
       "                                    if (elements.length > 0) {\n",
       "                                        let sample = elements[0]\n",
       "                                        for (const attr in sample) {\n",
       "                                            if (typeof init_filter === 'undefined'){\n",
       "                                                init_filter = attr;\n",
       "                                            }\n",
       "                                            let content = document.createElement('div');\n",
       "                                            content.onclick = function(event) {\n",
       "                                                event.stopPropagation()\n",
       "                                                document.getElementById('menu-active-filter854ea2726500438484ffe540442a5302').innerText = attr;\n",
       "                                                activeFilter854ea2726500438484ffe540442a5302 = attr;\n",
       "                                                document.getElementById(\n",
       "                                                    'search-dropdown-content854ea2726500438484ffe540442a5302'\n",
       "                                                ).style.display= 'none';\n",
       "                                            }\n",
       "                                            content.classList.add(\"dd-options\");\n",
       "                                            content.innerText = attr;\n",
       "                                            menu.appendChild(content);\n",
       "                                        }\n",
       "                                    } else {\n",
       "                                        let init_filter = '---'\n",
       "                                    }\n",
       "                                    let dropdown_field = document.getElementById('search-menu854ea2726500438484ffe540442a5302')\n",
       "                                    let span = document.createElement('span')\n",
       "                                    span.setAttribute('id', 'menu-active-filter854ea2726500438484ffe540442a5302')\n",
       "                                    span.innerText = init_filter\n",
       "                                    activeFilter854ea2726500438484ffe540442a5302 = init_filter;\n",
       "                                    dropdown_field.appendChild(span)\n",
       "                                }\n",
       "\n",
       "                                buildDropDownMenu(element854ea2726500438484ffe540442a5302)\n",
       "                            </script>\n",
       "                        </div>\n",
       "                        <input id='searchKey854ea2726500438484ffe540442a5302' class='search-input' placeholder='Enter search here ...'  />\n",
       "                    </div>\n",
       "                    <button class='search-button'  onclick=\"searchGrid854ea2726500438484ffe540442a5302(element854ea2726500438484ffe540442a5302)\">\n",
       "                        <svg width=\"11\" height=\"10\" viewBox=\"0 0 11 10\" fill=\"none\" xmlns=\"http://www.w3.org/2000/svg\"><path d=\"M10.5652 9.23467L8.21819 6.88811C8.89846 6.07141 9.23767 5.02389 9.16527 3.96345C9.09287 2.90302 8.61443 1.91132 7.82948 1.19466C7.04453 0.477995 6.01349 0.0915414 4.95087 0.115691C3.88824 0.139841 2.87583 0.572735 2.12425 1.32432C1.37266 2.0759 0.939768 3.08831 0.915618 4.15094C0.891468 5.21357 1.27792 6.2446 1.99459 7.02955C2.71125 7.8145 3.70295 8.29294 4.76338 8.36535C5.82381 8.43775 6.87134 8.09853 7.68804 7.41827L10.0346 9.7653C10.0694 9.80014 10.1108 9.82778 10.1563 9.84663C10.2018 9.86549 10.2506 9.87519 10.2999 9.87519C10.3492 9.87519 10.398 9.86549 10.4435 9.84663C10.489 9.82778 10.5304 9.80014 10.5652 9.7653C10.6001 9.73046 10.6277 9.68909 10.6466 9.64357C10.6654 9.59805 10.6751 9.54926 10.6751 9.49998C10.6751 9.45071 10.6654 9.40192 10.6466 9.3564C10.6277 9.31088 10.6001 9.26951 10.5652 9.23467ZM1.67491 4.24998C1.67491 3.58247 1.87285 2.92995 2.2437 2.37493C2.61455 1.81992 3.14165 1.38734 3.75835 1.13189C4.37506 0.876446 5.05366 0.809609 5.70834 0.939835C6.36303 1.07006 6.96439 1.3915 7.4364 1.8635C7.9084 2.3355 8.22984 2.93687 8.36006 3.59155C8.49029 4.24624 8.42345 4.92484 8.168 5.54154C7.91256 6.15824 7.47998 6.68535 6.92496 7.05619C6.36995 7.42704 5.71742 7.62498 5.04991 7.62498C4.15511 7.62399 3.29724 7.26809 2.66452 6.63537C2.0318 6.00265 1.6759 5.14479 1.67491 4.24998Z\" fill=\"#464A91\"/></svg>\n",
       "                        <span class='pl-8'>Search</span>\n",
       "                    </button>\n",
       "                </div>\n",
       "\n",
       "                <div><h4 id='total854ea2726500438484ffe540442a5302'>0</h4></div>\n",
       "            </div>\n",
       "            <div id='table854ea2726500438484ffe540442a5302' class='grid-table854ea2726500438484ffe540442a5302' style='margin-top: 25px;'>\n",
       "                <script>\n",
       "                    function paginate854ea2726500438484ffe540442a5302(arr, size) {\n",
       "                        const res = [];\n",
       "                        for (let i = 0; i < arr.length; i += size) {\n",
       "                            const chunk = arr.slice(i, i + size);\n",
       "                            res.push(chunk);\n",
       "                        }\n",
       "\n",
       "                        return res;\n",
       "                    }\n",
       "\n",
       "                    function searchGrid854ea2726500438484ffe540442a5302(elements){\n",
       "                        let searchKey = document.getElementById('searchKey854ea2726500438484ffe540442a5302').value\n",
       "                        console.log(\"Search Key: \", searchKey)\n",
       "                        let result;\n",
       "                        if (searchKey === ''){\n",
       "                            result = elements;\n",
       "                        } else {\n",
       "                            result = elements.filter((element) => {\n",
       "                                let property = element[activeFilter854ea2726500438484ffe540442a5302]\n",
       "                                if (typeof property === 'object' && property !== null){\n",
       "                                    return property.value.toLowerCase().includes(searchKey.toLowerCase());\n",
       "                                } else if (typeof property === 'string' ) {\n",
       "                                    return element[activeFilter854ea2726500438484ffe540442a5302].toLowerCase().includes(searchKey.toLowerCase());\n",
       "                                } else if (property !== null ) {\n",
       "                                    return element[activeFilter854ea2726500438484ffe540442a5302].toString() === searchKey;\n",
       "                                } else {\n",
       "                                    return element[activeFilter854ea2726500438484ffe540442a5302] === searchKey;\n",
       "                                }\n",
       "                            } );\n",
       "                        }\n",
       "                        resetById854ea2726500438484ffe540442a5302('table854ea2726500438484ffe540442a5302');\n",
       "                        resetById854ea2726500438484ffe540442a5302('pag854ea2726500438484ffe540442a5302');\n",
       "                        result = paginate854ea2726500438484ffe540442a5302(result, page_size854ea2726500438484ffe540442a5302)\n",
       "                        buildGrid854ea2726500438484ffe540442a5302(result,pageIndex854ea2726500438484ffe540442a5302);\n",
       "                        buildPaginationContainer854ea2726500438484ffe540442a5302(result);\n",
       "                    }\n",
       "\n",
       "                    function resetById854ea2726500438484ffe540442a5302(id){\n",
       "                        let element = document.getElementById(id);\n",
       "                        while (element.firstChild) {\n",
       "                          element.removeChild(element.firstChild);\n",
       "                        }\n",
       "                    }\n",
       "\n",
       "                    function buildGrid854ea2726500438484ffe540442a5302(items, pageIndex){\n",
       "                                let headers = Object.keys(element854ea2726500438484ffe540442a5302[0]);\n",
       "\n",
       "                                let grid = document.getElementById(\"table854ea2726500438484ffe540442a5302\");\n",
       "                                let div = document.createElement(\"div\");\n",
       "                                div.classList.add('grid-header', 'grid-index-cells');\n",
       "                                grid.appendChild(div);\n",
       "                                headers.forEach((title) =>{\n",
       "                                    let div = document.createElement(\"div\");\n",
       "                                    div.classList.add('grid-header', 'grid-std-cells');\n",
       "                                    div.innerText = title;\n",
       "\n",
       "                                    grid.appendChild(div);\n",
       "                                });\n",
       "\n",
       "                                let page = items[pageIndex -1]\n",
       "                                if (page !== 'undefine'){\n",
       "                                    let table_index854ea2726500438484ffe540442a5302 = ((pageIndex - 1) * page_size854ea2726500438484ffe540442a5302)\n",
       "                                    page.forEach((item) => {\n",
       "                                        let grid = document.getElementById(\"table854ea2726500438484ffe540442a5302\");\n",
       "                                        // Add new index value in index cells\n",
       "                                        let divIndex = document.createElement(\"div\");\n",
       "                                        divIndex.classList.add('grid-row', 'grid-index-cells');\n",
       "                                        divIndex.innerText = table_index854ea2726500438484ffe540442a5302;\n",
       "                                        grid.appendChild(divIndex);\n",
       "\n",
       "                                        // Iterate over the actual obj\n",
       "                                        for (const attr in item) {\n",
       "                                            let div = document.createElement(\"div\");\n",
       "                                            if (typeof item[attr] === 'object'\n",
       "                                                && item[attr] !== null\n",
       "                                                && item[attr].hasOwnProperty('type')) {\n",
       "                                                if (item[attr].type.includes('badge')){\n",
       "                                                    let badge_div = document.createElement(\"div\");\n",
       "                                                    badge_div.classList.add('badge',item[attr].type)\n",
       "                                                    badge_div.innerText = String(item[attr].value).toUpperCase();\n",
       "                                                    div.appendChild(badge_div);\n",
       "                                                    div.classList.add('grid-row','grid-std-cells');\n",
       "                                                } else if (item[attr].type === \"clipboard\") {\n",
       "                                                    div.classList.add('grid-row','grid-std-cells');\n",
       "\n",
       "                                                    // Create clipboard div\n",
       "                                                    let clipboard_div = document.createElement('div');\n",
       "                                                    clipboard_div.style.display= 'flex';\n",
       "                                                    clipboard_div.classList.add(\"gap-10\")\n",
       "                                                    clipboard_div.style.justifyContent = \"space-between\";\n",
       "\n",
       "                                                    let id_text = document.createElement('div');\n",
       "                                                    if (item[attr].value == \"None\"){\n",
       "                                                        id_text.innerText = \"None\";\n",
       "                                                    }\n",
       "                                                    else{\n",
       "                                                        id_text.innerText = item[attr].value.slice(0,5) + \"...\";\n",
       "                                                    }\n",
       "\n",
       "                                                    clipboard_div.appendChild(id_text);\n",
       "                                                    let clipboard_img = document.createElement('div');\n",
       "                                                    clipboard_img.classList.add(\"clipboard\")\n",
       "                                                    div.onclick = function() {\n",
       "                                                        navigator.clipboard.writeText(item[attr].value);\n",
       "                                                    };\n",
       "                                                    clipboard_img.innerHTML = \"<svg width='8' height='8' viewBox='0 0 8 8' fill='none' xmlns='http://www.w3.org/2000/svg'><path d='M7.4375 0.25H2.4375C2.35462 0.25 2.27513 0.282924 2.21653 0.341529C2.15792 0.400134 2.125 0.47962 2.125 0.5625V2.125H0.5625C0.47962 2.125 0.400134 2.15792 0.341529 2.21653C0.282924 2.27513 0.25 2.35462 0.25 2.4375V7.4375C0.25 7.52038 0.282924 7.59987 0.341529 7.65847C0.400134 7.71708 0.47962 7.75 0.5625 7.75H5.5625C5.64538 7.75 5.72487 7.71708 5.78347 7.65847C5.84208 7.59987 5.875 7.52038 5.875 7.4375V5.875H7.4375C7.52038 5.875 7.59987 5.84208 7.65847 5.78347C7.71708 5.72487 7.75 5.64538 7.75 5.5625V0.5625C7.75 0.47962 7.71708 0.400134 7.65847 0.341529C7.59987 0.282924 7.52038 0.25 7.4375 0.25ZM5.25 7.125H0.875V2.75H5.25V7.125ZM7.125 5.25H5.875V2.4375C5.875 2.35462 5.84208 2.27513 5.78347 2.21653C5.72487 2.15792 5.64538 2.125 5.5625 2.125H2.75V0.875H7.125V5.25Z' fill='#464158'/></svg>\";\n",
       "\n",
       "                                                    clipboard_div.appendChild(clipboard_img);\n",
       "                                                    div.appendChild(clipboard_div);\n",
       "                                                }\n",
       "                                            } else{\n",
       "                                                div.classList.add('grid-row','grid-std-cells');\n",
       "                                                if (item[attr] == null) {\n",
       "                                                    text = ' '\n",
       "                                                } else {\n",
       "                                                    text = String(item[attr])\n",
       "                                                }\n",
       "                                                if (text.length > 150){\n",
       "                                                    text = text.slice(0,150) + \"...\";\n",
       "                                                }\n",
       "                                                text = text.replaceAll(\"\\n\", \"</br>\");\n",
       "                                                div.innerHTML = text;\n",
       "                                            }\n",
       "                                            grid.appendChild(div);\n",
       "                                        }\n",
       "                                    table_index854ea2726500438484ffe540442a5302 = table_index854ea2726500438484ffe540442a5302 + 1;\n",
       "                                    })\n",
       "                                }\n",
       "                    }\n",
       "                    paginatedElements854ea2726500438484ffe540442a5302 = paginate854ea2726500438484ffe540442a5302(element854ea2726500438484ffe540442a5302, page_size854ea2726500438484ffe540442a5302)\n",
       "                    buildGrid854ea2726500438484ffe540442a5302(paginatedElements854ea2726500438484ffe540442a5302, 1)\n",
       "                    document.getElementById('total854ea2726500438484ffe540442a5302').innerText = \"Total: \" + element854ea2726500438484ffe540442a5302.length\n",
       "                </script>\n",
       "            </div>\n",
       "            <div id='pag854ea2726500438484ffe540442a5302' class='paginationContainer'>\n",
       "                <script>\n",
       "                    function buildPaginationContainer854ea2726500438484ffe540442a5302(paginatedElements){\n",
       "                            let pageContainer = document.getElementById(\"pag854ea2726500438484ffe540442a5302\");\n",
       "                            for (let i = 0; i < paginatedElements.length; i++) {\n",
       "                                  let div = document.createElement(\"div\");\n",
       "                                  div.classList.add('page');\n",
       "                                  div.style.color = 'gray';\n",
       "                                  div.onclick = function(event) {\n",
       "                                      let indexes = document.getElementsByClassName('page');\n",
       "                                      for (let index of indexes) { index.style.color = 'gray' }\n",
       "                                      event.target.style.color = \"black\"\n",
       "                                      setPage854ea2726500438484ffe540442a5302(i + 1);\n",
       "                                  };\n",
       "                                  div.innerText = i + 1;\n",
       "                                  pageContainer.appendChild(div);\n",
       "                            }\n",
       "                    }\n",
       "\n",
       "                    function setPage854ea2726500438484ffe540442a5302(newPage){\n",
       "                        pageIndex = newPage\n",
       "                        resetById854ea2726500438484ffe540442a5302('table854ea2726500438484ffe540442a5302')\n",
       "                        buildGrid854ea2726500438484ffe540442a5302(paginatedElements854ea2726500438484ffe540442a5302, pageIndex)\n",
       "                    }\n",
       "\n",
       "                    buildPaginationContainer854ea2726500438484ffe540442a5302(paginatedElements854ea2726500438484ffe540442a5302)\n",
       "                </script>\n",
       "            </div>\n",
       "        </div>\n",
       "    </div>\n",
       "    </div>\n"
      ],
      "text/plain": [
       "[syft.service.container.container.ContainerImage]"
      ]
     },
     "execution_count": 16,
     "metadata": {},
     "output_type": "execute_result"
    }
   ],
   "source": [
    "result = domain_client.api.services.container.get_images()\n",
    "result"
   ]
  }
 ],
 "metadata": {
  "kernelspec": {
   "display_name": "syft_3.11",
   "language": "python",
   "name": "python3"
  },
  "language_info": {
   "codemirror_mode": {
    "name": "ipython",
    "version": 3
   },
   "file_extension": ".py",
   "mimetype": "text/x-python",
   "name": "python",
   "nbconvert_exporter": "python",
   "pygments_lexer": "ipython3",
   "version": "3.11.4"
  },
  "orig_nbformat": 4
 },
 "nbformat": 4,
 "nbformat_minor": 2
}
