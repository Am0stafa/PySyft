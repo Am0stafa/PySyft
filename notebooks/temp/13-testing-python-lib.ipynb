{
 "cells": [
  {
   "cell_type": "code",
   "execution_count": 1,
   "metadata": {},
   "outputs": [],
   "source": [
    "# import bluebook"
   ]
  },
  {
   "cell_type": "code",
   "execution_count": 2,
   "metadata": {},
   "outputs": [],
   "source": [
    "# bluebook.list_models()"
   ]
  },
  {
   "cell_type": "code",
   "execution_count": 3,
   "metadata": {},
   "outputs": [],
   "source": [
    "# bluebook.list_gpus()"
   ]
  },
  {
   "cell_type": "code",
   "execution_count": 4,
   "metadata": {},
   "outputs": [],
   "source": [
    "SYFT_VERSION = \">=0.8.2.b0,<0.9\"\n",
    "package_string = f'\"syft{SYFT_VERSION}\"'\n",
    "# %pip install {package_string} -f https://whls.blob.core.windows.net/unstable/index.html -q"
   ]
  },
  {
   "cell_type": "code",
   "execution_count": 5,
   "metadata": {},
   "outputs": [
    {
     "name": "stderr",
     "output_type": "stream",
     "text": [
      "kj/filesystem-disk-unix.c++:1703: warning: PWD environment variable doesn't match current directory; pwd = /home/teo\n"
     ]
    },
    {
     "name": "stdout",
     "output_type": "stream",
     "text": [
      "✅ The installed version of syft==0.8.2b9 matches the requirement >=0.8.2b0 and the requirement <0.9\n"
     ]
    }
   ],
   "source": [
    "import json\n",
    "import syft as sy\n",
    "sy.requires(SYFT_VERSION)"
   ]
  },
  {
   "cell_type": "code",
   "execution_count": 6,
   "metadata": {},
   "outputs": [
    {
     "name": "stdout",
     "output_type": "stream",
     "text": [
      "dist\n",
      "dist\n",
      "tests\n",
      "tests\n",
      "src\n",
      "bluebook.egg-info\n",
      "bluebook.egg-info\n",
      "bluebook\n",
      "__pycache__\n",
      "__pycache__\n",
      "bluebook\n",
      "src\n"
     ]
    }
   ],
   "source": [
    "from syft.types.file import SyftFolder, SyftFile\n",
    "bluebook_folder = SyftFolder.from_dir(name=\"bluebook\", path=\"bluebook\")"
   ]
  },
  {
   "cell_type": "code",
   "execution_count": 7,
   "metadata": {},
   "outputs": [
    {
     "data": {
      "text/html": [
       "[&#x27;SOURCES.txt&#x27;, &#x27;dependency_links.txt&#x27;, &#x27;PKG-INFO&#x27;, &#x27;top_level.txt&#x27;]"
      ],
      "text/plain": [
       "['SOURCES.txt', 'dependency_links.txt', 'PKG-INFO', 'top_level.txt']"
      ]
     },
     "execution_count": 7,
     "metadata": {},
     "output_type": "execute_result"
    }
   ],
   "source": [
    "def name(file):\n",
    "    if isinstance(file, SyftFolder):\n",
    "        return file.name\n",
    "    if isinstance(file, SyftFile):\n",
    "        return file.filename\n",
    "\n",
    "[name(file) for file in bluebook_folder.files[-1].files[0].files]"
   ]
  },
  {
   "cell_type": "code",
   "execution_count": 8,
   "metadata": {},
   "outputs": [
    {
     "data": {
      "text/markdown": [
       "```python\n",
       "class SyftFolder:\n",
       "  id: str = a40fa0bf516d46209788173c7d6b3ff0\n",
       "\n",
       "```"
      ],
      "text/plain": [
       "syft.types.file.SyftFolder"
      ]
     },
     "execution_count": 8,
     "metadata": {},
     "output_type": "execute_result"
    }
   ],
   "source": [
    "bluebook_folder"
   ]
  },
  {
   "cell_type": "code",
   "execution_count": 9,
   "metadata": {},
   "outputs": [
    {
     "name": "stdout",
     "output_type": "stream",
     "text": [
      "README.md\n",
      "dist\n",
      "/tmp/bluebook/dist\n",
      "HERE????\n",
      "example_package_YOUR_USERNAME_HERE-0.0.1-py3-none-any.whl\n",
      "example_package_YOUR_USERNAME_HERE-0.0.1.tar.gz\n",
      "pyproject.toml\n",
      "LICENSE\n",
      "tests\n",
      "/tmp/bluebook/tests\n",
      "HERE????\n",
      "src\n",
      "/tmp/bluebook/src\n",
      "HERE????\n",
      "bluebook.egg-info\n",
      "/tmp/bluebook/src/bluebook.egg-info\n",
      "HERE????\n",
      "SOURCES.txt\n",
      "dependency_links.txt\n",
      "PKG-INFO\n",
      "top_level.txt\n",
      "bluebook\n",
      "/tmp/bluebook/src/bluebook\n",
      "HERE????\n",
      "__pycache__\n",
      "/tmp/bluebook/src/bluebook/__pycache__\n",
      "HERE????\n",
      "example.cpython-311.pyc\n",
      "__init__.cpython-311.pyc\n",
      "__init__.py\n",
      "example.py\n"
     ]
    }
   ],
   "source": [
    "path = bluebook_folder.model_folder"
   ]
  },
  {
   "cell_type": "code",
   "execution_count": 10,
   "metadata": {},
   "outputs": [
    {
     "name": "stdout",
     "output_type": "stream",
     "text": [
      "Processing /tmp/bluebook\n",
      "  Installing build dependencies ... \u001b[?25ldone\n",
      "\u001b[?25h  Getting requirements to build wheel ... \u001b[?25ldone\n",
      "\u001b[?25h  Installing backend dependencies ... \u001b[?25ldone\n",
      "\u001b[?25h  Preparing metadata (pyproject.toml) ... \u001b[?25ldone\n",
      "\u001b[?25hBuilding wheels for collected packages: bluebook\n",
      "  Building wheel for bluebook (pyproject.toml) ... \u001b[?25ldone\n",
      "\u001b[?25h  Created wheel for bluebook: filename=bluebook-0.0.1-py3-none-any.whl size=2696 sha256=066699159bc651f1ce1632e86f842fc244ce281988d50aaa0b834896aed3a237\n",
      "  Stored in directory: /tmp/pip-ephem-wheel-cache-4_65_iq_/wheels/cd/56/de/78cbde9516330e60b638ab74bbc950a3708b7557aab4729b84\n",
      "Successfully built bluebook\n",
      "Installing collected packages: bluebook\n",
      "  Attempting uninstall: bluebook\n",
      "    Found existing installation: bluebook 0.0.1\n",
      "    Uninstalling bluebook-0.0.1:\n",
      "      Successfully uninstalled bluebook-0.0.1\n",
      "Successfully installed bluebook-0.0.1\n"
     ]
    }
   ],
   "source": [
    "!pip install {path}"
   ]
  },
  {
   "cell_type": "code",
   "execution_count": null,
   "metadata": {},
   "outputs": [],
   "source": []
  },
  {
   "cell_type": "code",
   "execution_count": 11,
   "metadata": {},
   "outputs": [
    {
     "name": "stdout",
     "output_type": "stream",
     "text": [
      "Starting blue-book server on 0.0.0.0:34901\n",
      "\n",
      "WARNING: private key is based on node name: blue-book in dev_mode. Don't run this in production.\n"
     ]
    },
    {
     "name": "stdout",
     "output_type": "stream",
     "text": [
      "Waiting for server to start."
     ]
    },
    {
     "name": "stderr",
     "output_type": "stream",
     "text": [
      "INFO:     Started server process [70677]\n",
      "INFO:     Waiting for application startup.\n",
      "INFO:     Application startup complete.\n",
      "INFO:     Uvicorn running on http://0.0.0.0:34901 (Press CTRL+C to quit)\n"
     ]
    },
    {
     "name": "stdout",
     "output_type": "stream",
     "text": [
      "INFO:     127.0.0.1:33758 - \"GET /api/v2/metadata HTTP/1.1\" 200 OK\n",
      ". Done.\n"
     ]
    }
   ],
   "source": [
    "node = sy.orchestra.launch(name=\"blue-book\", port=\"auto\", dev_mode=True, reset=True)"
   ]
  },
  {
   "cell_type": "code",
   "execution_count": 12,
   "metadata": {},
   "outputs": [
    {
     "data": {
      "text/html": [
       "<div class=\"alert-warning\" style=\"padding:5px;\"><strong>SyftWarning</strong>: You are using a default password. Please change the password using `[your_client].me.set_password([new_password])`.</div><br />"
      ],
      "text/plain": [
       "SyftWarning: You are using a default password. Please change the password using `[your_client].me.set_password([new_password])`."
      ]
     },
     "metadata": {},
     "output_type": "display_data"
    },
    {
     "name": "stdout",
     "output_type": "stream",
     "text": [
      "INFO:     127.0.0.1:33760 - \"GET /api/v2/metadata HTTP/1.1\" 200 OK\n",
      "INFO:     127.0.0.1:33760 - \"GET /api/v2/metadata HTTP/1.1\" 200 OK\n",
      "INFO:     127.0.0.1:33760 - \"POST /api/v2/login HTTP/1.1\" 200 OK\n",
      "INFO:     127.0.0.1:33760 - \"GET /api/v2/types?verify_key=8ca7d1f9b2967b2b2c6155cd51e61ae8617e51e5e2658ab27af27faab51e6be6 HTTP/1.1\" 200 OK\n",
      "INFO:     127.0.0.1:33760 - \"GET /api/v2/api?verify_key=8ca7d1f9b2967b2b2c6155cd51e61ae8617e51e5e2658ab27af27faab51e6be6 HTTP/1.1\" 200 OK\n",
      "INFO:     127.0.0.1:33766 - \"GET /api/v2/metadata HTTP/1.1\" 200 OK\n",
      "INFO:     127.0.0.1:33766 - \"GET /api/v2/metadata HTTP/1.1\" 200 OK\n",
      "INFO:     127.0.0.1:33766 - \"POST /api/v2/login HTTP/1.1\" 200 OK\n",
      "INFO:     127.0.0.1:33766 - \"GET /api/v2/types?verify_key=8ca7d1f9b2967b2b2c6155cd51e61ae8617e51e5e2658ab27af27faab51e6be6 HTTP/1.1\" 200 OK\n",
      "INFO:     127.0.0.1:33766 - \"GET /api/v2/api?verify_key=8ca7d1f9b2967b2b2c6155cd51e61ae8617e51e5e2658ab27af27faab51e6be6 HTTP/1.1\" 200 OK\n",
      "INFO:     127.0.0.1:33782 - \"POST /api/v2/api_call HTTP/1.1\" 200 OK\n",
      "INFO:     127.0.0.1:33788 - \"POST /api/v2/api_call HTTP/1.1\" 200 OK\n",
      "INFO:     127.0.0.1:33792 - \"POST /api/v2/api_call HTTP/1.1\" 200 OK\n",
      "INFO:     127.0.0.1:33798 - \"POST /api/v2/api_call HTTP/1.1\" 200 OK\n",
      "INFO:     127.0.0.1:33766 - \"GET /api/v2/types?verify_key=8ca7d1f9b2967b2b2c6155cd51e61ae8617e51e5e2658ab27af27faab51e6be6 HTTP/1.1\" 200 OK\n",
      "INFO:     127.0.0.1:33766 - \"GET /api/v2/api?verify_key=8ca7d1f9b2967b2b2c6155cd51e61ae8617e51e5e2658ab27af27faab51e6be6 HTTP/1.1\" 200 OK\n",
      "INFO:     127.0.0.1:33800 - \"POST /api/v2/api_call HTTP/1.1\" 200 OK\n",
      "INFO:     127.0.0.1:47224 - \"POST /api/v2/api_call HTTP/1.1\" 200 OK\n",
      "INFO:     127.0.0.1:47226 - \"GET /api/v2/types?verify_key=8ca7d1f9b2967b2b2c6155cd51e61ae8617e51e5e2658ab27af27faab51e6be6 HTTP/1.1\" 200 OK\n",
      "INFO:     127.0.0.1:47226 - \"GET /api/v2/api?verify_key=8ca7d1f9b2967b2b2c6155cd51e61ae8617e51e5e2658ab27af27faab51e6be6 HTTP/1.1\" 200 OK\n",
      "INFO:     127.0.0.1:47230 - \"POST /api/v2/api_call HTTP/1.1\" 200 OK\n"
     ]
    },
    {
     "name": "stdout",
     "output_type": "stream",
     "text": [
      "Logged into <blue-book: High side Domain> as <info@openmined.org>\n"
     ]
    }
   ],
   "source": [
    "domain_client = node.login(email=\"info@openmined.org\", password=\"changethis\")"
   ]
  },
  {
   "cell_type": "code",
   "execution_count": 13,
   "metadata": {},
   "outputs": [],
   "source": [
    "# from syft.serde.lib_service_registry import CMPModule, CMPTree, ALL_EXECUTE, CMPBase, CMPFunction, CMPClass\n",
    "# bluebook_cmp = CMPTree(\n",
    "#     children=[CMPModule(\n",
    "#     \"bluebook\",\n",
    "#     permissions=ALL_EXECUTE,\n",
    "#     )]\n",
    "# ).build()"
   ]
  },
  {
   "cell_type": "code",
   "execution_count": null,
   "metadata": {},
   "outputs": [],
   "source": []
  },
  {
   "cell_type": "code",
   "execution_count": 14,
   "metadata": {},
   "outputs": [
    {
     "data": {
      "text/html": [
       "<div class=\"alert-warning\" style=\"padding:5px;\"><strong>SyftWarning</strong>: You are using a default password. Please change the password using `[your_client].me.set_password([new_password])`.</div><br />"
      ],
      "text/plain": [
       "SyftWarning: You are using a default password. Please change the password using `[your_client].me.set_password([new_password])`."
      ]
     },
     "metadata": {},
     "output_type": "display_data"
    },
    {
     "name": "stdout",
     "output_type": "stream",
     "text": [
      "Logged into <blue-book: High side Domain> as <info@openmined.org>\n"
     ]
    }
   ],
   "source": [
    "domain_client = node.login(email=\"info@openmined.org\", password=\"changethis\")"
   ]
  },
  {
   "cell_type": "code",
   "execution_count": 15,
   "metadata": {},
   "outputs": [],
   "source": [
    "python_dockerfile = \"\"\"\n",
    "FROM python:3.9-slim\n",
    "\n",
    "ENV GOOGLE_APPLICATION_CREDENTIALS=/tmp/key.json\n",
    "\n",
    "RUN apt-get update && apt-get upgrade -y\n",
    "RUN apt-get update && \\\n",
    "    apt-get install -y --no-install-recommends \\\n",
    "    curl python3-dev gcc make build-essential cmake git rsync ssh\n",
    "    \n",
    "# COPY /home/teo/OpenMined/PySyft/notebooks/temp/bluebook /tmp/bluebook\n",
    "\"\"\""
   ]
  },
  {
   "cell_type": "code",
   "execution_count": 16,
   "metadata": {},
   "outputs": [],
   "source": [
    "bluebook_volume = sy.ContainerVolume(\n",
    "    name=\"bluebook\",\n",
    "    internal_mountpath=\"/tmp/bluebook/\",\n",
    "    mode=\"rw\"\n",
    ")"
   ]
  },
  {
   "cell_type": "code",
   "execution_count": 17,
   "metadata": {},
   "outputs": [],
   "source": [
    "bluebook_package = sy.ContainerPackage(\n",
    "    name=\"bluebook\",\n",
    "    folder=bluebook_folder\n",
    ")"
   ]
  },
  {
   "cell_type": "code",
   "execution_count": 18,
   "metadata": {},
   "outputs": [
    {
     "data": {
      "text/html": [
       "<div class=\"alert-success\" style=\"padding:5px;\"><strong>SyftSuccess</strong>: ContainerImage added: syft.service.container.container.ContainerImage</div><br />"
      ],
      "text/plain": [
       "SyftSuccess: ContainerImage added: syft.service.container.container.ContainerImage"
      ]
     },
     "execution_count": 18,
     "metadata": {},
     "output_type": "execute_result"
    }
   ],
   "source": [
    "\n",
    "result = domain_client.api.services.container.add_image(\n",
    "    name=\"python\",\n",
    "    tag=\"python:latest\",\n",
    "    dockerfile=python_dockerfile,\n",
    "    volumes=[bluebook_volume],\n",
    "    packages=[]\n",
    ")\n",
    "result"
   ]
  },
  {
   "cell_type": "code",
   "execution_count": 19,
   "metadata": {},
   "outputs": [
    {
     "data": {
      "text/html": [
       "\n",
       "<style>\n",
       "  .header-1 {\n",
       "        font-style: normal;\n",
       "        font-weight: 600;\n",
       "        font-size: 2.0736em;\n",
       "        line-height: 100%;\n",
       "        leading-trim: both;\n",
       "        text-edge: cap;\n",
       "        color: #17161D;\n",
       "    }\n",
       "\n",
       "  .header-2 {\n",
       "        font-style: normal;\n",
       "        font-weight: 600;\n",
       "        font-size: 1.728em;\n",
       "        line-height: 100%;\n",
       "        leading-trim: both;\n",
       "        text-edge: cap;\n",
       "        color: #17161D;\n",
       "    }\n",
       "\n",
       "  .header-3 {\n",
       "        font-style: normal;\n",
       "        font-weight: 600;\n",
       "        font-size:  1.44em;\n",
       "        line-height: 100%;\n",
       "        leading-trim: both;\n",
       "        text-edge: cap;\n",
       "        color: #17161D;\n",
       "    }\n",
       "\n",
       "  .header-4 {\n",
       "        font-style: normal;\n",
       "        font-weight: 600;\n",
       "        font-size: 1.2em;\n",
       "        line-height: 100%;\n",
       "        leading-trim: both;\n",
       "        text-edge: cap;\n",
       "        color: #17161D;\n",
       "    }\n",
       "\n",
       "    .paragraph {\n",
       "        font-style: normal;\n",
       "        font-weight: 400;\n",
       "        font-size: 14px;\n",
       "        line-height: 100%;\n",
       "        leading-trim: both;\n",
       "        text-edge: cap;\n",
       "        color: #2E2B3B;\n",
       "    }\n",
       "\n",
       "    .paragraph-sm {\n",
       "        font-family: 'Roboto';\n",
       "        font-style: normal;\n",
       "        font-weight: 400;\n",
       "        font-size: 11.62px;\n",
       "        line-height: 100%;\n",
       "        leading-trim: both;\n",
       "        text-edge: cap;\n",
       "        color: #2E2B3B;\n",
       "    }\n",
       "    .code-text {\n",
       "        font-family: 'Consolas';\n",
       "        font-style: normal;\n",
       "        font-weight: 400;\n",
       "        font-size: 13px;\n",
       "        line-height: 130%;\n",
       "        leading-trim: both;\n",
       "        text-edge: cap;\n",
       "        color: #2E2B3B;\n",
       "    }\n",
       "\n",
       "    .numbering-entry { display: none }\n",
       "\n",
       "    /* Tooltip container */\n",
       "    .tooltip {\n",
       "        position: relative;\n",
       "        display: inline-block;\n",
       "        border-bottom: 1px dotted black; /* If you want dots under the hoverable text */\n",
       "    }\n",
       "\n",
       "    /* Tooltip text */\n",
       "    .tooltip .tooltiptext {\n",
       "        visibility: hidden;\n",
       "        width: 120px;\n",
       "        background-color: black;\n",
       "        color: #fff;\n",
       "        text-align: center;\n",
       "        padding: 5px 0;\n",
       "        border-radius: 6px;\n",
       "\n",
       "        /* Position the tooltip text - see examples below! */\n",
       "        position: absolute;\n",
       "        z-index: 1;\n",
       "    }\n",
       "\n",
       "    .repr-cell {\n",
       "      padding-top: 20px;\n",
       "    }\n",
       "\n",
       "    .text-bold {\n",
       "        font-weight: bold;\n",
       "    }\n",
       "\n",
       "    .pr-8 {\n",
       "        padding-right: 8px;\n",
       "    }\n",
       "    .pt-8 {\n",
       "        padding-top: 8px;\n",
       "    }\n",
       "    .pl-8 {\n",
       "        padding-left: 8px;\n",
       "    }\n",
       "    .pb-8 {\n",
       "        padding-bottom: 8px;\n",
       "    }\n",
       "\n",
       "    .py-25{\n",
       "        padding-top: 25px;\n",
       "        padding-bottom: 25px;\n",
       "    }\n",
       "\n",
       "    .flex {\n",
       "        display: flex;\n",
       "    }\n",
       "\n",
       "    .gap-10 {\n",
       "        gap: 10px;\n",
       "    }\n",
       "    .items-center{\n",
       "        align-items: center;\n",
       "    }\n",
       "\n",
       "    .search-input{\n",
       "        display: flex;\n",
       "        flex-direction: row;\n",
       "        align-items: center;\n",
       "        padding: 8px 12px;\n",
       "        width: 343px;\n",
       "        height: 24px;\n",
       "        /* Lt On Surface/Low */\n",
       "        background: #F1F0F4;\n",
       "        border-radius: 30px;\n",
       "\n",
       "        /* Lt On Surface/Highest */\n",
       "        color: #B4B0BF;\n",
       "        border:none;\n",
       "        /* Inside auto layout */\n",
       "        flex: none;\n",
       "        order: 0;\n",
       "        flex-grow: 0;\n",
       "    }\n",
       "    .search-input:focus {\n",
       "        outline: none;\n",
       "    }\n",
       "\n",
       "    .search-button{\n",
       "        /* Search */\n",
       "        leading-trim: both;\n",
       "        text-edge: cap;\n",
       "        display: flex;\n",
       "        align-items: center;\n",
       "        text-align: center;\n",
       "\n",
       "        /* Primary/On Light */\n",
       "        color: #464A91;\n",
       "\n",
       "        border-radius: 30px;\n",
       "        border-color: #464A91;\n",
       "        /* Inside auto layout */\n",
       "        flex: none;\n",
       "        order: 1;\n",
       "        flex-grow: 0;\n",
       "    }\n",
       "\n",
       "    .grid-table48dec1c9a9f648709543a3aa7ff9d635 {\n",
       "        display:grid;\n",
       "        grid-template-columns: 1fr repeat(12, 1fr);\n",
       "        grid-template-rows: repeat(2, 1fr);\n",
       "        overflow-x: auto;\n",
       "    }\n",
       "\n",
       "    .grid-std-cells {\n",
       "        grid-column: span 4;\n",
       "\n",
       "    }\n",
       "    .grid-index-cells {\n",
       "        grid-column: span 1;\n",
       "        background: #ECEBEF;\n",
       "        /* tmp fix to make left col stand out (fix with font-family) */\n",
       "        font-weight: 600;\n",
       "    }\n",
       "\n",
       "    .grid-header {\n",
       "        /* Auto layout */\n",
       "        display: flex;\n",
       "        flex-direction: column;\n",
       "        align-items: flex-start;\n",
       "        padding: 6px 4px;\n",
       "\n",
       "        /* Lt On Surface/Surface */\n",
       "        background: #ECEBEF;\n",
       "        /* Lt On Surface/High */\n",
       "        border: 1px solid #CFCDD6;\n",
       "        color: #2E2B3B;\n",
       "        /* tmp fix to make header stand out (fix with font-family) */\n",
       "        font-weight: 600;\n",
       "    }\n",
       "\n",
       "    .grid-row {\n",
       "        color: #5E5A72;\n",
       "        display: flex;\n",
       "        flex-direction: column;\n",
       "        align-items: flex-start;\n",
       "        padding: 6px 4px;\n",
       "        overflow: hidden;\n",
       "        border: 1px solid #CFCDD6;\n",
       "    }\n",
       "\n",
       "    .badge {\n",
       "        code-text;\n",
       "        border-radius: 30px;\n",
       "    }\n",
       "\n",
       "    .badge-blue {\n",
       "        badge;\n",
       "        background-color: #C2DEF0;\n",
       "        color: #1F567A;\n",
       "    }\n",
       "\n",
       "    .badge-purple {\n",
       "        badge;\n",
       "        background-color: #C9CFE8;\n",
       "        color: #373B7B;\n",
       "    }\n",
       "\n",
       "    .badge-green {\n",
       "        badge;\n",
       "\n",
       "        /* Success/Container */\n",
       "        background-color: #D5F1D5;\n",
       "        color: #256B24;\n",
       "    }\n",
       "\n",
       "    .badge-red {\n",
       "        badge;\n",
       "        background-color: #F2D9DE;\n",
       "        color: #9B2737;\n",
       "    }\n",
       "\n",
       "    .badge-gray {\n",
       "        badge;\n",
       "        background-color: #ECEBEF;\n",
       "        color: #2E2B3B;\n",
       "    }\n",
       "    .paginationContainer{\n",
       "        width: 100%;\n",
       "        height: 30px;\n",
       "        display: flex;\n",
       "        justify-content: center;\n",
       "        gap: 8px;\n",
       "        padding: 5px;\n",
       "    }\n",
       "\n",
       "    .page{\n",
       "        color: black;\n",
       "        font-weight: bold;\n",
       "    }\n",
       "    .page:hover {\n",
       "      color: #38bdf8;\n",
       "      cursor: pointer;\n",
       "    }\n",
       "    .clipboard:hover{\n",
       "        cursor: pointer;\n",
       "    }\n",
       "\n",
       "    .search-field {\n",
       "        display: flex;\n",
       "        align-items: center;\n",
       "        background: #F1F0F4;\n",
       "        border-radius: 30px;\n",
       "    }\n",
       "\n",
       "    .syft-dropdown {\n",
       "        margin: 5px;\n",
       "        margin-left: 5px;\n",
       "        position: relative;\n",
       "        display: inline-block;\n",
       "        text-align: center;\n",
       "        background-color: #d1d5db;\n",
       "        min-width: 100px;\n",
       "        padding: 2px;\n",
       "        border-radius: 30px;\n",
       "    }\n",
       "\n",
       "    .syft-dropdown:hover {\n",
       "        cursor: pointer;\n",
       "    }\n",
       "    .syft-dropdown-content {\n",
       "        margin-top:26px;\n",
       "        display: none;\n",
       "        position: absolute;\n",
       "        background-color: #f9f9f9;\n",
       "        min-width: 100px;\n",
       "        box-shadow: 0px 8px 16px 0px rgba(0,0,0,0.2);\n",
       "        padding: 12px 6px;\n",
       "        z-index: 1;\n",
       "    }\n",
       "    .dd-options {\n",
       "        padding-top: 4px;\n",
       "    }\n",
       "    .dd-options:first-of-type {\n",
       "        padding-top: 0px;\n",
       "    }\n",
       "\n",
       "    .dd-options:hover {\n",
       "        cursor: pointer;\n",
       "        background: #d1d5db;\n",
       "    }\n",
       "    .arrow {\n",
       "        border: solid black;\n",
       "        border-width: 0 3px 3px 0;\n",
       "        display: inline-block;\n",
       "        padding: 3px;\n",
       "    }\n",
       "    .down {\n",
       "        transform: rotate(45deg);\n",
       "        -webkit-transform: rotate(45deg);\n",
       "    }\n",
       "</style>\n",
       "\n",
       "\n",
       "    <div style='margin-top:15px;'>\n",
       "        <div class='flex gap-10' style='align-items: center;'>\n",
       "            <div><svg width=\"32\" height=\"32\" viewBox=\"0 0 32 32\" fill=\"none\" xmlns=\"http://www.w3.org/2000/svg\"> <path d=\"M28 6H4C3.73478 6 3.48043 6.10536 3.29289 6.29289C3.10536 6.48043 3 6.73478 3 7V24C3 24.5304 3.21071 25.0391 3.58579 25.4142C3.96086 25.7893 4.46957 26 5 26H27C27.5304 26 28.0391 25.7893 28.4142 25.4142C28.7893 25.0391 29 24.5304 29 24V7C29 6.73478 28.8946 6.48043 28.7071 6.29289C28.5196 6.10536 28.2652 6 28 6ZM5 14H10V18H5V14ZM12 14H27V18H12V14ZM27 8V12H5V8H27ZM5 20H10V24H5V20ZM27 24H12V20H27V24Z\" fill=\"#343330\"/></svg></div>\n",
       "            <div><p class='header-3'>ContainerImage List</p></div>\n",
       "        </div>\n",
       "\n",
       "            <div style=\"padding-top: 16px; display:flex;justify-content: space-between; align-items: center;\">\n",
       "                <div class='pt-25 gap-10' style=\"display:flex;\">\n",
       "                    <div class=\"search-field\">\n",
       "                        <div id='search-menu48dec1c9a9f648709543a3aa7ff9d635' class=\"syft-dropdown\" onclick=\"{\n",
       "                            let doc = document.getElementById('search-dropdown-content48dec1c9a9f648709543a3aa7ff9d635')\n",
       "                            if (doc.style.display === 'block'){\n",
       "                                doc.style.display = 'none'\n",
       "                            } else {\n",
       "                                doc.style.display = 'block'\n",
       "                            }\n",
       "                            }\">\n",
       "                            <div id='search-dropdown-content48dec1c9a9f648709543a3aa7ff9d635' class='syft-dropdown-content'></div>\n",
       "                            <script>\n",
       "                                var element48dec1c9a9f648709543a3aa7ff9d635 = [{\"id\": {\"value\": \"fb31d60b75934bcba45480c72f65276f\", \"type\": \"clipboard\"}, \"name\": \"python\", \"tag\": \"python:latest\"}]\n",
       "                                var page_size48dec1c9a9f648709543a3aa7ff9d635 = 1\n",
       "                                var pageIndex48dec1c9a9f648709543a3aa7ff9d635 = 1\n",
       "                                var paginatedElements48dec1c9a9f648709543a3aa7ff9d635 = []\n",
       "                                var activeFilter48dec1c9a9f648709543a3aa7ff9d635;\n",
       "\n",
       "                                function buildDropDownMenu(elements){\n",
       "                                    let init_filter;\n",
       "                                    let menu = document.getElementById('search-dropdown-content48dec1c9a9f648709543a3aa7ff9d635')\n",
       "                                    if (elements.length > 0) {\n",
       "                                        let sample = elements[0]\n",
       "                                        for (const attr in sample) {\n",
       "                                            if (typeof init_filter === 'undefined'){\n",
       "                                                init_filter = attr;\n",
       "                                            }\n",
       "                                            let content = document.createElement('div');\n",
       "                                            content.onclick = function(event) {\n",
       "                                                event.stopPropagation()\n",
       "                                                document.getElementById('menu-active-filter48dec1c9a9f648709543a3aa7ff9d635').innerText = attr;\n",
       "                                                activeFilter48dec1c9a9f648709543a3aa7ff9d635 = attr;\n",
       "                                                document.getElementById(\n",
       "                                                    'search-dropdown-content48dec1c9a9f648709543a3aa7ff9d635'\n",
       "                                                ).style.display= 'none';\n",
       "                                            }\n",
       "                                            content.classList.add(\"dd-options\");\n",
       "                                            content.innerText = attr;\n",
       "                                            menu.appendChild(content);\n",
       "                                        }\n",
       "                                    } else {\n",
       "                                        let init_filter = '---'\n",
       "                                    }\n",
       "                                    let dropdown_field = document.getElementById('search-menu48dec1c9a9f648709543a3aa7ff9d635')\n",
       "                                    let span = document.createElement('span')\n",
       "                                    span.setAttribute('id', 'menu-active-filter48dec1c9a9f648709543a3aa7ff9d635')\n",
       "                                    span.innerText = init_filter\n",
       "                                    activeFilter48dec1c9a9f648709543a3aa7ff9d635 = init_filter;\n",
       "                                    dropdown_field.appendChild(span)\n",
       "                                }\n",
       "\n",
       "                                buildDropDownMenu(element48dec1c9a9f648709543a3aa7ff9d635)\n",
       "                            </script>\n",
       "                        </div>\n",
       "                        <input id='searchKey48dec1c9a9f648709543a3aa7ff9d635' class='search-input' placeholder='Enter search here ...'  />\n",
       "                    </div>\n",
       "                    <button class='search-button'  onclick=\"searchGrid48dec1c9a9f648709543a3aa7ff9d635(element48dec1c9a9f648709543a3aa7ff9d635)\">\n",
       "                        <svg width=\"11\" height=\"10\" viewBox=\"0 0 11 10\" fill=\"none\" xmlns=\"http://www.w3.org/2000/svg\"><path d=\"M10.5652 9.23467L8.21819 6.88811C8.89846 6.07141 9.23767 5.02389 9.16527 3.96345C9.09287 2.90302 8.61443 1.91132 7.82948 1.19466C7.04453 0.477995 6.01349 0.0915414 4.95087 0.115691C3.88824 0.139841 2.87583 0.572735 2.12425 1.32432C1.37266 2.0759 0.939768 3.08831 0.915618 4.15094C0.891468 5.21357 1.27792 6.2446 1.99459 7.02955C2.71125 7.8145 3.70295 8.29294 4.76338 8.36535C5.82381 8.43775 6.87134 8.09853 7.68804 7.41827L10.0346 9.7653C10.0694 9.80014 10.1108 9.82778 10.1563 9.84663C10.2018 9.86549 10.2506 9.87519 10.2999 9.87519C10.3492 9.87519 10.398 9.86549 10.4435 9.84663C10.489 9.82778 10.5304 9.80014 10.5652 9.7653C10.6001 9.73046 10.6277 9.68909 10.6466 9.64357C10.6654 9.59805 10.6751 9.54926 10.6751 9.49998C10.6751 9.45071 10.6654 9.40192 10.6466 9.3564C10.6277 9.31088 10.6001 9.26951 10.5652 9.23467ZM1.67491 4.24998C1.67491 3.58247 1.87285 2.92995 2.2437 2.37493C2.61455 1.81992 3.14165 1.38734 3.75835 1.13189C4.37506 0.876446 5.05366 0.809609 5.70834 0.939835C6.36303 1.07006 6.96439 1.3915 7.4364 1.8635C7.9084 2.3355 8.22984 2.93687 8.36006 3.59155C8.49029 4.24624 8.42345 4.92484 8.168 5.54154C7.91256 6.15824 7.47998 6.68535 6.92496 7.05619C6.36995 7.42704 5.71742 7.62498 5.04991 7.62498C4.15511 7.62399 3.29724 7.26809 2.66452 6.63537C2.0318 6.00265 1.6759 5.14479 1.67491 4.24998Z\" fill=\"#464A91\"/></svg>\n",
       "                        <span class='pl-8'>Search</span>\n",
       "                    </button>\n",
       "                </div>\n",
       "\n",
       "                <div><h4 id='total48dec1c9a9f648709543a3aa7ff9d635'>0</h4></div>\n",
       "            </div>\n",
       "            <div id='table48dec1c9a9f648709543a3aa7ff9d635' class='grid-table48dec1c9a9f648709543a3aa7ff9d635' style='margin-top: 25px;'>\n",
       "                <script>\n",
       "                    function paginate48dec1c9a9f648709543a3aa7ff9d635(arr, size) {\n",
       "                        const res = [];\n",
       "                        for (let i = 0; i < arr.length; i += size) {\n",
       "                            const chunk = arr.slice(i, i + size);\n",
       "                            res.push(chunk);\n",
       "                        }\n",
       "\n",
       "                        return res;\n",
       "                    }\n",
       "\n",
       "                    function searchGrid48dec1c9a9f648709543a3aa7ff9d635(elements){\n",
       "                        let searchKey = document.getElementById('searchKey48dec1c9a9f648709543a3aa7ff9d635').value\n",
       "                        console.log(\"Search Key: \", searchKey)\n",
       "                        let result;\n",
       "                        if (searchKey === ''){\n",
       "                            result = elements;\n",
       "                        } else {\n",
       "                            result = elements.filter((element) => {\n",
       "                                let property = element[activeFilter48dec1c9a9f648709543a3aa7ff9d635]\n",
       "                                if (typeof property === 'object' && property !== null){\n",
       "                                    return property.value.toLowerCase().includes(searchKey.toLowerCase());\n",
       "                                } else if (typeof property === 'string' ) {\n",
       "                                    return element[activeFilter48dec1c9a9f648709543a3aa7ff9d635].toLowerCase().includes(searchKey.toLowerCase());\n",
       "                                } else if (property !== null ) {\n",
       "                                    return element[activeFilter48dec1c9a9f648709543a3aa7ff9d635].toString() === searchKey;\n",
       "                                } else {\n",
       "                                    return element[activeFilter48dec1c9a9f648709543a3aa7ff9d635] === searchKey;\n",
       "                                }\n",
       "                            } );\n",
       "                        }\n",
       "                        resetById48dec1c9a9f648709543a3aa7ff9d635('table48dec1c9a9f648709543a3aa7ff9d635');\n",
       "                        resetById48dec1c9a9f648709543a3aa7ff9d635('pag48dec1c9a9f648709543a3aa7ff9d635');\n",
       "                        result = paginate48dec1c9a9f648709543a3aa7ff9d635(result, page_size48dec1c9a9f648709543a3aa7ff9d635)\n",
       "                        buildGrid48dec1c9a9f648709543a3aa7ff9d635(result,pageIndex48dec1c9a9f648709543a3aa7ff9d635);\n",
       "                        buildPaginationContainer48dec1c9a9f648709543a3aa7ff9d635(result);\n",
       "                    }\n",
       "\n",
       "                    function resetById48dec1c9a9f648709543a3aa7ff9d635(id){\n",
       "                        let element = document.getElementById(id);\n",
       "                        while (element.firstChild) {\n",
       "                          element.removeChild(element.firstChild);\n",
       "                        }\n",
       "                    }\n",
       "\n",
       "                    function buildGrid48dec1c9a9f648709543a3aa7ff9d635(items, pageIndex){\n",
       "                                let headers = Object.keys(element48dec1c9a9f648709543a3aa7ff9d635[0]);\n",
       "\n",
       "                                let grid = document.getElementById(\"table48dec1c9a9f648709543a3aa7ff9d635\");\n",
       "                                let div = document.createElement(\"div\");\n",
       "                                div.classList.add('grid-header', 'grid-index-cells');\n",
       "                                grid.appendChild(div);\n",
       "                                headers.forEach((title) =>{\n",
       "                                    let div = document.createElement(\"div\");\n",
       "                                    div.classList.add('grid-header', 'grid-std-cells');\n",
       "                                    div.innerText = title;\n",
       "\n",
       "                                    grid.appendChild(div);\n",
       "                                });\n",
       "\n",
       "                                let page = items[pageIndex -1]\n",
       "                                if (page !== 'undefine'){\n",
       "                                    let table_index48dec1c9a9f648709543a3aa7ff9d635 = ((pageIndex - 1) * page_size48dec1c9a9f648709543a3aa7ff9d635)\n",
       "                                    page.forEach((item) => {\n",
       "                                        let grid = document.getElementById(\"table48dec1c9a9f648709543a3aa7ff9d635\");\n",
       "                                        // Add new index value in index cells\n",
       "                                        let divIndex = document.createElement(\"div\");\n",
       "                                        divIndex.classList.add('grid-row', 'grid-index-cells');\n",
       "                                        divIndex.innerText = table_index48dec1c9a9f648709543a3aa7ff9d635;\n",
       "                                        grid.appendChild(divIndex);\n",
       "\n",
       "                                        // Iterate over the actual obj\n",
       "                                        for (const attr in item) {\n",
       "                                            let div = document.createElement(\"div\");\n",
       "                                            if (typeof item[attr] === 'object'\n",
       "                                                && item[attr] !== null\n",
       "                                                && item[attr].hasOwnProperty('type')) {\n",
       "                                                if (item[attr].type.includes('badge')){\n",
       "                                                    let badge_div = document.createElement(\"div\");\n",
       "                                                    badge_div.classList.add('badge',item[attr].type)\n",
       "                                                    badge_div.innerText = String(item[attr].value).toUpperCase();\n",
       "                                                    div.appendChild(badge_div);\n",
       "                                                    div.classList.add('grid-row','grid-std-cells');\n",
       "                                                } else if (item[attr].type === \"clipboard\") {\n",
       "                                                    div.classList.add('grid-row','grid-std-cells');\n",
       "\n",
       "                                                    // Create clipboard div\n",
       "                                                    let clipboard_div = document.createElement('div');\n",
       "                                                    clipboard_div.style.display= 'flex';\n",
       "                                                    clipboard_div.classList.add(\"gap-10\")\n",
       "                                                    clipboard_div.style.justifyContent = \"space-between\";\n",
       "\n",
       "                                                    let id_text = document.createElement('div');\n",
       "                                                    if (item[attr].value == \"None\"){\n",
       "                                                        id_text.innerText = \"None\";\n",
       "                                                    }\n",
       "                                                    else{\n",
       "                                                        id_text.innerText = item[attr].value.slice(0,5) + \"...\";\n",
       "                                                    }\n",
       "\n",
       "                                                    clipboard_div.appendChild(id_text);\n",
       "                                                    let clipboard_img = document.createElement('div');\n",
       "                                                    clipboard_img.classList.add(\"clipboard\")\n",
       "                                                    div.onclick = function() {\n",
       "                                                        navigator.clipboard.writeText(item[attr].value);\n",
       "                                                    };\n",
       "                                                    clipboard_img.innerHTML = \"<svg width='8' height='8' viewBox='0 0 8 8' fill='none' xmlns='http://www.w3.org/2000/svg'><path d='M7.4375 0.25H2.4375C2.35462 0.25 2.27513 0.282924 2.21653 0.341529C2.15792 0.400134 2.125 0.47962 2.125 0.5625V2.125H0.5625C0.47962 2.125 0.400134 2.15792 0.341529 2.21653C0.282924 2.27513 0.25 2.35462 0.25 2.4375V7.4375C0.25 7.52038 0.282924 7.59987 0.341529 7.65847C0.400134 7.71708 0.47962 7.75 0.5625 7.75H5.5625C5.64538 7.75 5.72487 7.71708 5.78347 7.65847C5.84208 7.59987 5.875 7.52038 5.875 7.4375V5.875H7.4375C7.52038 5.875 7.59987 5.84208 7.65847 5.78347C7.71708 5.72487 7.75 5.64538 7.75 5.5625V0.5625C7.75 0.47962 7.71708 0.400134 7.65847 0.341529C7.59987 0.282924 7.52038 0.25 7.4375 0.25ZM5.25 7.125H0.875V2.75H5.25V7.125ZM7.125 5.25H5.875V2.4375C5.875 2.35462 5.84208 2.27513 5.78347 2.21653C5.72487 2.15792 5.64538 2.125 5.5625 2.125H2.75V0.875H7.125V5.25Z' fill='#464158'/></svg>\";\n",
       "\n",
       "                                                    clipboard_div.appendChild(clipboard_img);\n",
       "                                                    div.appendChild(clipboard_div);\n",
       "                                                }\n",
       "                                            } else{\n",
       "                                                div.classList.add('grid-row','grid-std-cells');\n",
       "                                                if (item[attr] == null) {\n",
       "                                                    text = ' '\n",
       "                                                } else {\n",
       "                                                    text = String(item[attr])\n",
       "                                                }\n",
       "                                                if (text.length > 150){\n",
       "                                                    text = text.slice(0,150) + \"...\";\n",
       "                                                }\n",
       "                                                text = text.replaceAll(\"\\n\", \"</br>\");\n",
       "                                                div.innerHTML = text;\n",
       "                                            }\n",
       "                                            grid.appendChild(div);\n",
       "                                        }\n",
       "                                    table_index48dec1c9a9f648709543a3aa7ff9d635 = table_index48dec1c9a9f648709543a3aa7ff9d635 + 1;\n",
       "                                    })\n",
       "                                }\n",
       "                    }\n",
       "                    paginatedElements48dec1c9a9f648709543a3aa7ff9d635 = paginate48dec1c9a9f648709543a3aa7ff9d635(element48dec1c9a9f648709543a3aa7ff9d635, page_size48dec1c9a9f648709543a3aa7ff9d635)\n",
       "                    buildGrid48dec1c9a9f648709543a3aa7ff9d635(paginatedElements48dec1c9a9f648709543a3aa7ff9d635, 1)\n",
       "                    document.getElementById('total48dec1c9a9f648709543a3aa7ff9d635').innerText = \"Total: \" + element48dec1c9a9f648709543a3aa7ff9d635.length\n",
       "                </script>\n",
       "            </div>\n",
       "            <div id='pag48dec1c9a9f648709543a3aa7ff9d635' class='paginationContainer'>\n",
       "                <script>\n",
       "                    function buildPaginationContainer48dec1c9a9f648709543a3aa7ff9d635(paginatedElements){\n",
       "                            let pageContainer = document.getElementById(\"pag48dec1c9a9f648709543a3aa7ff9d635\");\n",
       "                            for (let i = 0; i < paginatedElements.length; i++) {\n",
       "                                  let div = document.createElement(\"div\");\n",
       "                                  div.classList.add('page');\n",
       "                                  div.style.color = 'gray';\n",
       "                                  div.onclick = function(event) {\n",
       "                                      let indexes = document.getElementsByClassName('page');\n",
       "                                      for (let index of indexes) { index.style.color = 'gray' }\n",
       "                                      event.target.style.color = \"black\"\n",
       "                                      setPage48dec1c9a9f648709543a3aa7ff9d635(i + 1);\n",
       "                                  };\n",
       "                                  div.innerText = i + 1;\n",
       "                                  pageContainer.appendChild(div);\n",
       "                            }\n",
       "                    }\n",
       "\n",
       "                    function setPage48dec1c9a9f648709543a3aa7ff9d635(newPage){\n",
       "                        pageIndex = newPage\n",
       "                        resetById48dec1c9a9f648709543a3aa7ff9d635('table48dec1c9a9f648709543a3aa7ff9d635')\n",
       "                        buildGrid48dec1c9a9f648709543a3aa7ff9d635(paginatedElements48dec1c9a9f648709543a3aa7ff9d635, pageIndex)\n",
       "                    }\n",
       "\n",
       "                    buildPaginationContainer48dec1c9a9f648709543a3aa7ff9d635(paginatedElements48dec1c9a9f648709543a3aa7ff9d635)\n",
       "                </script>\n",
       "            </div>\n",
       "        </div>\n",
       "    </div>\n",
       "    </div>\n"
      ],
      "text/plain": [
       "[syft.service.container.container.ContainerImage]"
      ]
     },
     "execution_count": 19,
     "metadata": {},
     "output_type": "execute_result"
    }
   ],
   "source": [
    "result = domain_client.api.services.container.get_images()\n",
    "result"
   ]
  },
  {
   "cell_type": "code",
   "execution_count": 20,
   "metadata": {},
   "outputs": [],
   "source": [
    "result = domain_client.api.services.container.build_image(name=\"python\")\n",
    "assert result"
   ]
  },
  {
   "cell_type": "code",
   "execution_count": 21,
   "metadata": {},
   "outputs": [
    {
     "data": {
      "text/html": [
       "<div class=\"alert-success\" style=\"padding:5px;\"><strong>SyftSuccess</strong>: Build syft.service.container.container.ContainerImage succeeded.\n",
       "Step 1/4 : FROM python:3.9-slim\n",
       " ---> 4af03d07a3c9\n",
       "Step 2/4 : ENV GOOGLE_APPLICATION_CREDENTIALS=/tmp/key.json\n",
       " ---> Using cache\n",
       " ---> 07f180befda9\n",
       "Step 3/4 : RUN apt-get update && apt-get upgrade -y\n",
       " ---> Using cache\n",
       " ---> 2f32b9bc1fbc\n",
       "Step 4/4 : RUN apt-get update &&     apt-get install -y --no-install-recommends     curl python3-dev gcc make build-essential cmake git rsync ssh\n",
       " ---> Using cache\n",
       " ---> 2f4c66a10fc5\n",
       "{\"ID\": \"sha256:2f4c66a10fc5d82550237fdf921e96b90612eeda8a0496b36a233bb026f59dcd\"}Successfully built 2f4c66a10fc5\n",
       "Successfully tagged python:latest\n",
       "</div><br />"
      ],
      "text/plain": [
       "SyftSuccess: Build syft.service.container.container.ContainerImage succeeded.\n",
       "Step 1/4 : FROM python:3.9-slim\n",
       " ---> 4af03d07a3c9\n",
       "Step 2/4 : ENV GOOGLE_APPLICATION_CREDENTIALS=/tmp/key.json\n",
       " ---> Using cache\n",
       " ---> 07f180befda9\n",
       "Step 3/4 : RUN apt-get update && apt-get upgrade -y\n",
       " ---> Using cache\n",
       " ---> 2f32b9bc1fbc\n",
       "Step 4/4 : RUN apt-get update &&     apt-get install -y --no-install-recommends     curl python3-dev gcc make build-essential cmake git rsync ssh\n",
       " ---> Using cache\n",
       " ---> 2f4c66a10fc5\n",
       "{\"ID\": \"sha256:2f4c66a10fc5d82550237fdf921e96b90612eeda8a0496b36a233bb026f59dcd\"}Successfully built 2f4c66a10fc5\n",
       "Successfully tagged python:latest"
      ]
     },
     "execution_count": 21,
     "metadata": {},
     "output_type": "execute_result"
    }
   ],
   "source": [
    "result"
   ]
  },
  {
   "cell_type": "code",
   "execution_count": 22,
   "metadata": {},
   "outputs": [
    {
     "name": "stdout",
     "output_type": "stream",
     "text": [
      "dist\n",
      "dist\n",
      "tests\n",
      "tests\n",
      "src\n",
      "bluebook.egg-info\n",
      "bluebook.egg-info\n",
      "bluebook\n",
      "__pycache__\n",
      "__pycache__\n",
      "bluebook\n",
      "src\n"
     ]
    },
    {
     "data": {
      "text/markdown": [
       "```python\n",
       "class ContainerMount:\n",
       "  id: str = 1f01581fe6bc41f483bd79b1f93a4c32\n",
       "\n",
       "```"
      ],
      "text/plain": [
       "syft.service.container.container.ContainerMount"
      ]
     },
     "execution_count": 22,
     "metadata": {},
     "output_type": "execute_result"
    }
   ],
   "source": [
    "bluebook_mount = sy.ContainerMount(\n",
    "    internal_filepath=\"~/bluebook\",\n",
    "    file=sy.SyftFolder.from_dir(name=\"bluebook\",path=\"/home/teo/OpenMined/PySyft/notebooks/temp/bluebook\")\n",
    ")\n",
    "bluebook_mount"
   ]
  },
  {
   "cell_type": "code",
   "execution_count": 23,
   "metadata": {},
   "outputs": [],
   "source": [
    "command = sy.ContainerCommand(\n",
    "    module_name=\"blue_book\",\n",
    "    name=\"ls\",\n",
    "    image_name=\"python\",\n",
    "    command=\"ls\",\n",
    "    args=\"/tmp\",\n",
    "    # args=\"\",\n",
    "    kwargs={},\n",
    "    user_kwargs=[],\n",
    ")"
   ]
  },
  {
   "cell_type": "code",
   "execution_count": 24,
   "metadata": {},
   "outputs": [
    {
     "data": {
      "text/html": [
       "<div class=\"alert-success\" style=\"padding:5px;\"><strong>ContainerCommandAdded</strong>: ContainerCommand added: syft.service.container.container.ContainerCommand</div><br />"
      ],
      "text/plain": [
       "ContainerCommandAdded: ContainerCommand added: syft.service.container.container.ContainerCommand"
      ]
     },
     "execution_count": 24,
     "metadata": {},
     "output_type": "execute_result"
    }
   ],
   "source": [
    "result = domain_client.api.services.container.add_command(command=command)\n",
    "result"
   ]
  },
  {
   "cell_type": "code",
   "execution_count": 25,
   "metadata": {},
   "outputs": [
    {
     "data": {
      "text/html": [
       "<div class=\"alert-success\" style=\"padding:5px;\"><strong>SyftSuccess</strong>: Command Succeeded.</div><br />"
      ],
      "text/markdown": [
       "```python\n",
       "class ContainerResult:\n",
       "  id: str = 9bc82f251e8c43829904b507f099be00\n",
       "\n",
       "```"
      ],
      "text/plain": [
       "syft.service.container.container.ContainerResult"
      ]
     },
     "execution_count": 25,
     "metadata": {},
     "output_type": "execute_result"
    }
   ],
   "source": [
    "result = domain_client.api.services.blue_book.ls()\n",
    "result"
   ]
  },
  {
   "cell_type": "code",
   "execution_count": 26,
   "metadata": {},
   "outputs": [
    {
     "data": {
      "text/html": [
       "[&#x27;bluebook&#x27;, &#x27;tmpvwzaaubkcacert.pem&#x27;]"
      ],
      "text/plain": [
       "['bluebook', 'tmpvwzaaubkcacert.pem']"
      ]
     },
     "execution_count": 26,
     "metadata": {},
     "output_type": "execute_result"
    }
   ],
   "source": [
    "result.stdout"
   ]
  },
  {
   "cell_type": "code",
   "execution_count": 27,
   "metadata": {},
   "outputs": [],
   "source": [
    "name = sy.ContainerCommandKwarg(name=\"path\", value=str, required=True, arg_only=True)"
   ]
  },
  {
   "cell_type": "code",
   "execution_count": 28,
   "metadata": {},
   "outputs": [],
   "source": [
    "kwargs = {'path': name, 'debug': True}"
   ]
  },
  {
   "cell_type": "code",
   "execution_count": 29,
   "metadata": {},
   "outputs": [],
   "source": [
    "command = sy.ContainerCommand(\n",
    "    module_name=\"blue_book\",\n",
    "    name=\"install_package\",\n",
    "    image_name=\"python\",\n",
    "    command=\"pip\",\n",
    "    args=\"install\",\n",
    "    # args=\"\",\n",
    "    kwargs=kwargs,\n",
    "    user_kwargs=[\"path\"],\n",
    ")"
   ]
  },
  {
   "cell_type": "code",
   "execution_count": 30,
   "metadata": {},
   "outputs": [],
   "source": [
    "run_user_kwargs = {\"path\": '/tmp/bluebook'}"
   ]
  },
  {
   "cell_type": "code",
   "execution_count": 31,
   "metadata": {},
   "outputs": [
    {
     "data": {
      "text/plain": [
       "'pip install /tmp/bluebook'"
      ]
     },
     "execution_count": 31,
     "metadata": {},
     "output_type": "execute_result"
    }
   ],
   "source": [
    "command.cmd(run_user_kwargs=run_user_kwargs, run_files={}, run_extra_kwargs={})"
   ]
  },
  {
   "cell_type": "code",
   "execution_count": 32,
   "metadata": {},
   "outputs": [
    {
     "data": {
      "text/html": [
       "<div class=\"alert-success\" style=\"padding:5px;\"><strong>ContainerCommandAdded</strong>: ContainerCommand added: syft.service.container.container.ContainerCommand</div><br />"
      ],
      "text/plain": [
       "ContainerCommandAdded: ContainerCommand added: syft.service.container.container.ContainerCommand"
      ]
     },
     "execution_count": 32,
     "metadata": {},
     "output_type": "execute_result"
    }
   ],
   "source": [
    "result = domain_client.api.services.container.add_command(command=command)\n",
    "result"
   ]
  },
  {
   "cell_type": "code",
   "execution_count": 34,
   "metadata": {},
   "outputs": [
    {
     "data": {
      "text/html": [
       "<div class=\"alert-danger\" style=\"padding:5px;\"><strong>SyftError</strong>: Invalid parameter: `debug`. Valid Parameters: ['path']</div><br />"
      ],
      "text/plain": [
       "SyftError: Invalid parameter: `debug`. Valid Parameters: ['path']"
      ]
     },
     "execution_count": 34,
     "metadata": {},
     "output_type": "execute_result"
    }
   ],
   "source": [
    "result = domain_client.api.services.blue_book.install_package(path=\"/tmp/bluebook\")\n",
    "result"
   ]
  }
 ],
 "metadata": {
  "kernelspec": {
   "display_name": "syft_3.11",
   "language": "python",
   "name": "python3"
  },
  "language_info": {
   "codemirror_mode": {
    "name": "ipython",
    "version": 3
   },
   "file_extension": ".py",
   "mimetype": "text/x-python",
   "name": "python",
   "nbconvert_exporter": "python",
   "pygments_lexer": "ipython3",
   "version": "3.11.4"
  },
  "orig_nbformat": 4
 },
 "nbformat": 4,
 "nbformat_minor": 2
}
