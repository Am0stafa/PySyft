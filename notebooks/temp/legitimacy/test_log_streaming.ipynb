{
 "cells": [
  {
   "cell_type": "code",
   "execution_count": 1,
   "metadata": {},
   "outputs": [
    {
     "name": "stderr",
     "output_type": "stream",
     "text": [
      "kj/filesystem-disk-unix.c++:1703: warning: PWD environment variable doesn't match current directory; pwd = /home/teo/OpenMined/PySyft\n"
     ]
    }
   ],
   "source": [
    "import syft as sy"
   ]
  },
  {
   "cell_type": "code",
   "execution_count": 2,
   "metadata": {},
   "outputs": [
    {
     "name": "stdout",
     "output_type": "stream",
     "text": [
      "Logged into <test: High side Domain> as <info@openmined.org>\n"
     ]
    },
    {
     "data": {
      "text/html": [
       "<div class=\"alert-warning\" style=\"padding:5px;\"><strong>SyftWarning</strong>: You are using a default password. Please change the password using `[your_client].me.set_password([new_password])`.</div><br />"
      ],
      "text/plain": [
       "SyftWarning: You are using a default password. Please change the password using `[your_client].me.set_password([new_password])`."
      ]
     },
     "metadata": {},
     "output_type": "display_data"
    }
   ],
   "source": [
    "node = sy.orchestra.launch(name=\"test\", reset=True)\n",
    "domain_client = node.login(email=\"info@openmined.org\", password=\"changethis\")"
   ]
  },
  {
   "cell_type": "code",
   "execution_count": 3,
   "metadata": {},
   "outputs": [],
   "source": [
    "from syft.service.code.user_code import execute_byte_code"
   ]
  },
  {
   "cell_type": "code",
   "execution_count": 4,
   "metadata": {},
   "outputs": [
    {
     "data": {
      "text/html": [
       "<div class=\"alert-success\" style=\"padding:5px;\"><strong>SyftSuccess</strong>: Syft function 'test_func' successfully created. To add a code request, please create a project using `project = syft.Project(...)`, then use command `project.create_code_request`.</div><br />"
      ],
      "text/plain": [
       "SyftSuccess: Syft function 'test_func' successfully created. To add a code request, please create a project using `project = syft.Project(...)`, then use command `project.create_code_request`."
      ]
     },
     "metadata": {},
     "output_type": "display_data"
    }
   ],
   "source": [
    "@sy.syft_function_single_use()\n",
    "def test_func():\n",
    "    import time\n",
    "    print(\"Start\")\n",
    "    time.sleep(1)\n",
    "    return 1"
   ]
  },
  {
   "cell_type": "code",
   "execution_count": 5,
   "metadata": {},
   "outputs": [
    {
     "name": "stdout",
     "output_type": "stream",
     "text": [
      "<ast.Name object at 0x7f7f047a5ba0>\n",
      "<ast.Attribute object at 0x7f7f047a5ae0>\n",
      "<ast.Attribute object at 0x7f7f047a59c0>\n"
     ]
    },
    {
     "data": {
      "text/html": [
       "\n",
       "            <style>\n",
       "            .syft-request {color: #464158;}\n",
       "            </style>\n",
       "            <div class='syft-request'>\n",
       "                <h3>Request</h3>\n",
       "                <p><strong>Id: </strong>68d7ca0a0c844a31b85d605ab6eb3304</p>\n",
       "                <p><strong>Request time: </strong>2023-09-15 03:10:12</p>\n",
       "                \n",
       "                \n",
       "                <p><strong>Changes: </strong> Request to change <b>test_func</b> to permission <b>RequestStatus.APPROVED</b>. </p>\n",
       "                <p><strong>Status: </strong>RequestStatus.PENDING</p>\n",
       "                <p><strong>Requested on: </strong> Test of type <strong>                     Domain</strong> owned by info@openmined.org</p>\n",
       "                <p><strong>Requested by:</strong> Jane Doe (info@openmined.org) </p>\n",
       "            </div>\n",
       "\n",
       "            "
      ],
      "text/markdown": [
       "```python\n",
       "class Request:\n",
       "  id: str = 68d7ca0a0c844a31b85d605ab6eb3304\n",
       "  request_time: str = 2023-09-15 03:10:12\n",
       "  updated_at: str = None\n",
       "  status: str = RequestStatus.PENDING\n",
       "  changes: str = ['Request to change <b>test_func</b> to permission <b>RequestStatus.APPROVED</b>']\n",
       "  requesting_user_verify_key: str = 67d3b5eaf0c0bf6b5a602d359daecc86a7a74053490ec37ae08e71360587c870\n",
       "\n",
       "```"
      ],
      "text/plain": [
       "syft.service.request.request.Request"
      ]
     },
     "execution_count": 5,
     "metadata": {},
     "output_type": "execute_result"
    }
   ],
   "source": [
    "domain_client.code.request_code_execution(test_func)"
   ]
  },
  {
   "cell_type": "code",
   "execution_count": 6,
   "metadata": {},
   "outputs": [
    {
     "name": "stdout",
     "output_type": "stream",
     "text": [
      "Request approved for domain test\n"
     ]
    },
    {
     "data": {
      "text/html": [
       "<div class=\"alert-success\" style=\"padding:5px;\"><strong>SyftSuccess</strong>: Request 68d7ca0a0c844a31b85d605ab6eb3304 changes applied</div><br />"
      ],
      "text/plain": [
       "SyftSuccess: Request 68d7ca0a0c844a31b85d605ab6eb3304 changes applied"
      ]
     },
     "execution_count": 6,
     "metadata": {},
     "output_type": "execute_result"
    }
   ],
   "source": [
    "domain_client.requests[-1].approve()"
   ]
  },
  {
   "cell_type": "code",
   "execution_count": 7,
   "metadata": {},
   "outputs": [
    {
     "name": "stdout",
     "output_type": "stream",
     "text": [
      "Message Queued Successfully !\n",
      "Message Received Successfully !\n"
     ]
    }
   ],
   "source": [
    "res = domain_client.code.test_func(blocking=False)"
   ]
  },
  {
   "cell_type": "code",
   "execution_count": 8,
   "metadata": {},
   "outputs": [
    {
     "data": {
      "text/markdown": [
       "<QueueItem: 6fc00502e65c4ecbb2ac028f69a28bf8>: Status.CREATED"
      ],
      "text/plain": [
       "<QueueItem: 6fc00502e65c4ecbb2ac028f69a28bf8>: Status.CREATED"
      ]
     },
     "execution_count": 8,
     "metadata": {},
     "output_type": "execute_result"
    }
   ],
   "source": [
    "res"
   ]
  },
  {
   "cell_type": "code",
   "execution_count": 9,
   "metadata": {},
   "outputs": [
    {
     "data": {
      "text/plain": [
       "<UID: 10aabfeafb844e9c859298dd8b52da9a>"
      ]
     },
     "execution_count": 9,
     "metadata": {},
     "output_type": "execute_result"
    }
   ],
   "source": [
    "res.log_id"
   ]
  },
  {
   "cell_type": "code",
   "execution_count": 10,
   "metadata": {},
   "outputs": [
    {
     "data": {
      "text/html": [
       "[]"
      ],
      "text/plain": [
       "[]"
      ]
     },
     "execution_count": 10,
     "metadata": {},
     "output_type": "execute_result"
    }
   ],
   "source": [
    "domain_client.api.services.log.get_all()"
   ]
  },
  {
   "cell_type": "code",
   "execution_count": 11,
   "metadata": {},
   "outputs": [],
   "source": [
    "domain_client.api.services.log.get(res.log_id)"
   ]
  },
  {
   "cell_type": "code",
   "execution_count": 12,
   "metadata": {},
   "outputs": [
    {
     "data": {
      "text/plain": [
       "(<UID: 10aabfeafb844e9c859298dd8b52da9a>, syft.types.uid.UID)"
      ]
     },
     "execution_count": 12,
     "metadata": {},
     "output_type": "execute_result"
    }
   ],
   "source": [
    "res.log_id, type(res.log_id)"
   ]
  },
  {
   "cell_type": "code",
   "execution_count": 13,
   "metadata": {},
   "outputs": [],
   "source": [
    "from syft.types.uid import UID\n",
    "new_log_id = UID()"
   ]
  },
  {
   "cell_type": "code",
   "execution_count": 14,
   "metadata": {},
   "outputs": [
    {
     "data": {
      "text/markdown": [
       "```python\n",
       "class SyftLog:\n",
       "  id: str = c76d48800f644cfc898df75e47aad295\n",
       "\n",
       "```"
      ],
      "text/plain": [
       "syft.service.log.log.SyftLog"
      ]
     },
     "execution_count": 14,
     "metadata": {},
     "output_type": "execute_result"
    }
   ],
   "source": [
    "domain_client.api.services.log.add(new_log_id)"
   ]
  },
  {
   "cell_type": "code",
   "execution_count": 15,
   "metadata": {},
   "outputs": [
    {
     "data": {
      "text/html": [
       "<div class=\"alert-success\" style=\"padding:5px;\"><strong>SyftSuccess</strong>: Log Append successful!</div><br />"
      ],
      "text/plain": [
       "SyftSuccess: Log Append successful!"
      ]
     },
     "execution_count": 15,
     "metadata": {},
     "output_type": "execute_result"
    }
   ],
   "source": [
    "domain_client.api.services.log.append(new_log_id, \"Hello World\")"
   ]
  },
  {
   "cell_type": "code",
   "execution_count": 36,
   "metadata": {},
   "outputs": [
    {
     "data": {
      "text/plain": [
       "''"
      ]
     },
     "execution_count": 36,
     "metadata": {},
     "output_type": "execute_result"
    }
   ],
   "source": [
    "domain_client.api.services.log.get(new_log_id).stdout"
   ]
  },
  {
   "cell_type": "code",
   "execution_count": 35,
   "metadata": {},
   "outputs": [
    {
     "data": {
      "text/markdown": [
       "```python\n",
       "class SyftLog:\n",
       "  id: str = c76d48800f644cfc898df75e47aad295\n",
       "\n",
       "```"
      ],
      "text/plain": [
       "syft.service.log.log.SyftLog"
      ]
     },
     "execution_count": 35,
     "metadata": {},
     "output_type": "execute_result"
    }
   ],
   "source": [
    "domain_client.api.services.log.get_all()[0]"
   ]
  },
  {
   "cell_type": "code",
   "execution_count": 16,
   "metadata": {},
   "outputs": [],
   "source": [
    "test_func_uc = domain_client.code[-1]"
   ]
  },
  {
   "cell_type": "code",
   "execution_count": 17,
   "metadata": {},
   "outputs": [
    {
     "data": {
      "text/plain": [
       "<code object <module> at 0x7f7f045cd140, file \"<string>\", line 1>"
      ]
     },
     "execution_count": 17,
     "metadata": {},
     "output_type": "execute_result"
    }
   ],
   "source": [
    "test_func_uc.byte_code"
   ]
  },
  {
   "cell_type": "code",
   "execution_count": 18,
   "metadata": {},
   "outputs": [],
   "source": [
    "exec(test_func_uc.byte_code)\n",
    "# exec(test_func_uc.byte_code)"
   ]
  },
  {
   "cell_type": "code",
   "execution_count": 19,
   "metadata": {},
   "outputs": [
    {
     "data": {
      "text/html": [
       "[&#x27;In&#x27;, &#x27;Out&#x27;, &#x27;UID&#x27;, &#x27;_&#x27;, &#x27;_10&#x27;, &#x27;_12&#x27;, &#x27;_14&#x27;, &#x27;_15&#x27;, &#x27;_17&#x27;, &#x27;_5&#x27;, &#x27;_6&#x27;, &#x27;_8&#x27;, &#x27;_9&#x27;, &#x27;__&#x27;, &#x27;___&#x27;, &#x27;__builtin__&#x27;, &#x27;__builtins__&#x27;, &#x27;__doc__&#x27;, &#x27;__loader__&#x27;, &#x27;__name__&#x27;, &#x27;__package__&#x27;, &#x27;__spec__&#x27;, &#x27;__vsc_ipynb_file__&#x27;, &#x27;_dh&#x27;, &#x27;_i&#x27;, &#x27;_i1&#x27;, &#x27;_i10&#x27;, &#x27;_i11&#x27;, &#x27;_i12&#x27;, &#x27;_i13&#x27;, &#x27;_i14&#x27;, &#x27;_i15&#x27;, &#x27;_i16&#x27;, &#x27;_i17&#x27;, &#x27;_i18&#x27;, &#x27;_i19&#x27;, &#x27;_i2&#x27;, &#x27;_i3&#x27;, &#x27;_i4&#x27;, &#x27;_i5&#x27;, &#x27;_i6&#x27;, &#x27;_i7&#x27;, &#x27;_i8&#x27;, &#x27;_i9&#x27;, &#x27;_ih&#x27;, &#x27;_ii&#x27;, &#x27;_iii&#x27;, &#x27;_oh&#x27;, &#x27;domain_client&#x27;, &#x27;execute_byte_code&#x27;, &#x27;exit&#x27;, &#x27;get_ipython&#x27;, &#x27;new_log_id&#x27;, &#x27;node&#x27;, &#x27;open&#x27;, &#x27;quit&#x27;, &#x27;res&#x27;, &#x27;sy&#x27;, &#x27;test_func&#x27;, &#x27;test_func_uc&#x27;, &#x27;user_func_test_func_67d3b5eaf0c0bf6b5a602d359daecc86a7a74053490ec37ae08e71360587c870_530c8340dd99ba84b9533f27a22b96782da820ff5b391782cdd0c5bae62dd9f0&#x27;]"
      ],
      "text/plain": [
       "['In',\n",
       " 'Out',\n",
       " 'UID',\n",
       " '_',\n",
       " '_10',\n",
       " '_12',\n",
       " '_14',\n",
       " '_15',\n",
       " '_17',\n",
       " '_5',\n",
       " '_6',\n",
       " '_8',\n",
       " '_9',\n",
       " '__',\n",
       " '___',\n",
       " '__builtin__',\n",
       " '__builtins__',\n",
       " '__doc__',\n",
       " '__loader__',\n",
       " '__name__',\n",
       " '__package__',\n",
       " '__spec__',\n",
       " '__vsc_ipynb_file__',\n",
       " '_dh',\n",
       " '_i',\n",
       " '_i1',\n",
       " '_i10',\n",
       " '_i11',\n",
       " '_i12',\n",
       " '_i13',\n",
       " '_i14',\n",
       " '_i15',\n",
       " '_i16',\n",
       " '_i17',\n",
       " '_i18',\n",
       " '_i19',\n",
       " '_i2',\n",
       " '_i3',\n",
       " '_i4',\n",
       " '_i5',\n",
       " '_i6',\n",
       " '_i7',\n",
       " '_i8',\n",
       " '_i9',\n",
       " '_ih',\n",
       " '_ii',\n",
       " '_iii',\n",
       " '_oh',\n",
       " 'domain_client',\n",
       " 'execute_byte_code',\n",
       " 'exit',\n",
       " 'get_ipython',\n",
       " 'new_log_id',\n",
       " 'node',\n",
       " 'open',\n",
       " 'quit',\n",
       " 'res',\n",
       " 'sy',\n",
       " 'test_func',\n",
       " 'test_func_uc',\n",
       " 'user_func_test_func_67d3b5eaf0c0bf6b5a602d359daecc86a7a74053490ec37ae08e71360587c870_530c8340dd99ba84b9533f27a22b96782da820ff5b391782cdd0c5bae62dd9f0']"
      ]
     },
     "execution_count": 19,
     "metadata": {},
     "output_type": "execute_result"
    }
   ],
   "source": [
    "dir()"
   ]
  },
  {
   "cell_type": "code",
   "execution_count": 20,
   "metadata": {},
   "outputs": [
    {
     "data": {
      "text/plain": [
       "'user_func_test_func_67d3b5eaf0c0bf6b5a602d359daecc86a7a74053490ec37ae08e71360587c870_530c8340dd99ba84b9533f27a22b96782da820ff5b391782cdd0c5bae62dd9f0'"
      ]
     },
     "execution_count": 20,
     "metadata": {},
     "output_type": "execute_result"
    }
   ],
   "source": [
    "test_func_uc.unique_func_name"
   ]
  },
  {
   "cell_type": "code",
   "execution_count": 21,
   "metadata": {},
   "outputs": [],
   "source": [
    "import logging\n",
    "logger = logging.getLogger()"
   ]
  },
  {
   "cell_type": "code",
   "execution_count": 22,
   "metadata": {},
   "outputs": [],
   "source": [
    "kwargs={}\n",
    "eval(f'{test_func_uc.unique_func_name}(**kwargs)')"
   ]
  },
  {
   "cell_type": "code",
   "execution_count": 23,
   "metadata": {},
   "outputs": [],
   "source": [
    "logger.debug(\"start\")"
   ]
  },
  {
   "cell_type": "code",
   "execution_count": 24,
   "metadata": {},
   "outputs": [
    {
     "data": {
      "text/plain": [
       "<RootLogger root (WARNING)>"
      ]
     },
     "execution_count": 24,
     "metadata": {},
     "output_type": "execute_result"
    }
   ],
   "source": [
    "locals()['logger']"
   ]
  },
  {
   "cell_type": "code",
   "execution_count": 25,
   "metadata": {},
   "outputs": [],
   "source": [
    "res = domain_client.code.call_async(uid=test_func_uc.id)"
   ]
  },
  {
   "cell_type": "code",
   "execution_count": 26,
   "metadata": {},
   "outputs": [],
   "source": [
    "import zmq\n",
    "context = zmq.Context()\n",
    "sub = context.socket(zmq.SUB)\n"
   ]
  },
  {
   "cell_type": "code",
   "execution_count": 27,
   "metadata": {},
   "outputs": [],
   "source": [
    "import ast\n",
    "from syft.service.code.code_parse import GlobalsVisitor\n",
    "from syft.service.code.unparse import unparse\n",
    "from typing import List\n",
    "def process_code(\n",
    "    raw_code: str,\n",
    "    func_name: str,\n",
    "    original_func_name: str,\n",
    "    input_kwargs: List[str],\n",
    ") -> str:\n",
    "    tree = ast.parse(raw_code)\n",
    "\n",
    "    # check there are no globals\n",
    "    v = GlobalsVisitor()\n",
    "    v.visit(tree)\n",
    "\n",
    "    f = tree.body[0]\n",
    "    f.decorator_list = []\n",
    "\n",
    "    keywords = [ast.keyword(arg=i, value=[ast.Name(id=i)]) for i in input_kwargs]\n",
    "    call_stmt = ast.Assign(\n",
    "        targets=[ast.Name(id=\"result\")],\n",
    "        value=ast.Call(\n",
    "            func=ast.Name(id=original_func_name), args=[], keywords=keywords\n",
    "        ),\n",
    "        lineno=0,\n",
    "    )\n",
    "\n",
    "    return_stmt = ast.Return(value=ast.Name(id=\"result\"))\n",
    "    new_body = tree.body + [call_stmt, return_stmt]\n",
    "\n",
    "    wrapper_function = ast.FunctionDef(\n",
    "        name=func_name,\n",
    "        args=f.args,\n",
    "        body=new_body,\n",
    "        decorator_list=[],\n",
    "        returns=None,\n",
    "        lineno=0,\n",
    "    )\n",
    "\n",
    "    return unparse(wrapper_function), wrapper_function"
   ]
  },
  {
   "cell_type": "code",
   "execution_count": 28,
   "metadata": {},
   "outputs": [
    {
     "name": "stdout",
     "output_type": "stream",
     "text": [
      "<ast.Name object at 0x7f7f045d3d00>\n",
      "<ast.Attribute object at 0x7f7f045d3a30>\n",
      "<ast.Attribute object at 0x7f7f045d38b0>\n"
     ]
    }
   ],
   "source": [
    "from syft.client.api import NodeIdentity\n",
    "\n",
    "input_kwargs = test_func.input_policy_init_kwargs\n",
    "node_view_workaround = False\n",
    "for k in input_kwargs.keys():\n",
    "    if isinstance(k, NodeIdentity):\n",
    "        node_view_workaround = True\n",
    "\n",
    "if not node_view_workaround:\n",
    "    input_keys = list(input_kwargs.keys())\n",
    "else:\n",
    "    input_keys = []\n",
    "    for d in input_kwargs.values():\n",
    "        input_keys += d.keys()\n",
    "            \n",
    "code_string, ast_obj = process_code(\n",
    "    raw_code=test_func.code,\n",
    "    func_name='final_test_func',\n",
    "    original_func_name='test_func',\n",
    "    input_kwargs=input_keys\n",
    ")"
   ]
  },
  {
   "cell_type": "code",
   "execution_count": 29,
   "metadata": {},
   "outputs": [
    {
     "name": "stdout",
     "output_type": "stream",
     "text": [
      "def final_test_func():\n",
      "\n",
      "    def test_func():\n",
      "        import time\n",
      "        logger.print('Start')\n",
      "        time.sleep(1)\n",
      "        return 1\n",
      "    result = test_func()\n",
      "    return result\n"
     ]
    }
   ],
   "source": [
    "print(code_string)"
   ]
  },
  {
   "cell_type": "code",
   "execution_count": 30,
   "metadata": {},
   "outputs": [
    {
     "name": "stdout",
     "output_type": "stream",
     "text": [
      "FunctionDef(\n",
      "    name='final_test_func',\n",
      "    args=arguments(\n",
      "        posonlyargs=[],\n",
      "        args=[],\n",
      "        kwonlyargs=[],\n",
      "        kw_defaults=[],\n",
      "        defaults=[]),\n",
      "    body=[\n",
      "        FunctionDef(\n",
      "            name='test_func',\n",
      "            args=arguments(\n",
      "                posonlyargs=[],\n",
      "                args=[],\n",
      "                kwonlyargs=[],\n",
      "                kw_defaults=[],\n",
      "                defaults=[]),\n",
      "            body=[\n",
      "                Import(\n",
      "                    names=[\n",
      "                        alias(name='time')]),\n",
      "                Expr(\n",
      "                    value=Call(\n",
      "                        func=Attribute(\n",
      "                            value=Name(id='logger'),\n",
      "                            attr='print',\n",
      "                            ctx=Load()),\n",
      "                        args=[\n",
      "                            Constant(value='Start')],\n",
      "                        keywords=[])),\n",
      "                Expr(\n",
      "                    value=Call(\n",
      "                        func=Attribute(\n",
      "                            value=Name(id='time', ctx=Load()),\n",
      "                            attr='sleep',\n",
      "                            ctx=Load()),\n",
      "                        args=[\n",
      "                            Constant(value=1)],\n",
      "                        keywords=[])),\n",
      "                Return(\n",
      "                    value=Constant(value=1))],\n",
      "            decorator_list=[]),\n",
      "        Assign(\n",
      "            targets=[\n",
      "                Name(id='result')],\n",
      "            value=Call(\n",
      "                func=Name(id='test_func'),\n",
      "                args=[],\n",
      "                keywords=[])),\n",
      "        Return(\n",
      "            value=Name(id='result'))],\n",
      "    decorator_list=[])\n"
     ]
    }
   ],
   "source": [
    "print(ast.dump(ast_obj, indent=4))"
   ]
  }
 ],
 "metadata": {
  "kernelspec": {
   "display_name": "syft_3.11",
   "language": "python",
   "name": "python3"
  },
  "language_info": {
   "codemirror_mode": {
    "name": "ipython",
    "version": 3
   },
   "file_extension": ".py",
   "mimetype": "text/x-python",
   "name": "python",
   "nbconvert_exporter": "python",
   "pygments_lexer": "ipython3",
   "version": "3.11.4"
  },
  "orig_nbformat": 4
 },
 "nbformat": 4,
 "nbformat_minor": 2
}
