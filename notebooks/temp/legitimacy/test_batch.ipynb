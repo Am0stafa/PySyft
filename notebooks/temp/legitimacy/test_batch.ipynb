{
 "cells": [
  {
   "cell_type": "code",
   "execution_count": 1,
   "metadata": {},
   "outputs": [
    {
     "name": "stderr",
     "output_type": "stream",
     "text": [
      "kj/filesystem-disk-unix.c++:1703: warning: PWD environment variable doesn't match current directory; pwd = /home/teo/OpenMined/PySyft\n"
     ]
    }
   ],
   "source": [
    "import syft as sy"
   ]
  },
  {
   "cell_type": "code",
   "execution_count": 2,
   "metadata": {},
   "outputs": [],
   "source": [
    "node = sy.orchestra.launch(name=\"test\", reset=True)"
   ]
  },
  {
   "cell_type": "code",
   "execution_count": 24,
   "metadata": {},
   "outputs": [
    {
     "name": "stdout",
     "output_type": "stream",
     "text": [
      "Logged into <test: High side Domain> as <info@openmined.org>\n"
     ]
    },
    {
     "data": {
      "text/html": [
       "<div class=\"alert-warning\" style=\"padding:5px;\"><strong>SyftWarning</strong>: You are using a default password. Please change the password using `[your_client].me.set_password([new_password])`.</div><br />"
      ],
      "text/plain": [
       "SyftWarning: You are using a default password. Please change the password using `[your_client].me.set_password([new_password])`."
      ]
     },
     "metadata": {},
     "output_type": "display_data"
    }
   ],
   "source": [
    "domain_client = node.login(email=\"info@openmined.org\", password=\"changethis\")"
   ]
  },
  {
   "cell_type": "code",
   "execution_count": 4,
   "metadata": {},
   "outputs": [
    {
     "data": {
      "text/html": [
       "<div class=\"alert-success\" style=\"padding:5px;\"><strong>SyftSuccess</strong>: Syft function 'test_func' successfully created. To add a code request, please create a project using `project = syft.Project(...)`, then use command `project.create_code_request`.</div><br />"
      ],
      "text/plain": [
       "SyftSuccess: Syft function 'test_func' successfully created. To add a code request, please create a project using `project = syft.Project(...)`, then use command `project.create_code_request`."
      ]
     },
     "metadata": {},
     "output_type": "display_data"
    }
   ],
   "source": [
    "@sy.syft_function_single_use()\n",
    "def test_func(client, data):\n",
    "    \n",
    "    def process_batch(batch):\n",
    "        import time\n",
    "        time.sleep(1)\n",
    "        return sum(batch)\n",
    "    \n",
    "    results = []\n",
    "    for batch in data:\n",
    "        pointer = client.launch_job(process_batch, batch)\n",
    "        results.append(pointer)\n",
    "    \n",
    "    return sum([res.wait().get() for res in results])"
   ]
  },
  {
   "cell_type": "code",
   "execution_count": 5,
   "metadata": {},
   "outputs": [
    {
     "data": {
      "text/plain": [
       "18"
      ]
     },
     "execution_count": 5,
     "metadata": {},
     "output_type": "execute_result"
    }
   ],
   "source": [
    "test_func(client=domain_client, data=[[1,2,3], [1,2,3], [1,2,3]])"
   ]
  },
  {
   "cell_type": "code",
   "execution_count": 18,
   "metadata": {},
   "outputs": [],
   "source": [
    "import ast\n",
    "from syft.service.code.code_parse import GlobalsVisitor\n",
    "from syft.service.code.unparse import unparse\n",
    "from typing import List\n",
    "def process_code(\n",
    "    raw_code: str,\n",
    "    func_name: str,\n",
    "    original_func_name: str,\n",
    "    input_kwargs: List[str],\n",
    ") -> str:\n",
    "    tree = ast.parse(raw_code)\n",
    "\n",
    "    # check there are no globals\n",
    "    v = GlobalsVisitor()\n",
    "    v.visit(tree)\n",
    "\n",
    "    f = tree.body[0]\n",
    "    f.decorator_list = []\n",
    "\n",
    "    keywords = [ast.keyword(arg=i, value=[ast.Name(id=i)]) for i in input_kwargs]\n",
    "    call_stmt = ast.Assign(\n",
    "        targets=[ast.Name(id=\"result\")],\n",
    "        value=ast.Call(\n",
    "            func=ast.Name(id=original_func_name), args=[], keywords=keywords\n",
    "        ),\n",
    "        lineno=0,\n",
    "    )\n",
    "\n",
    "    return_stmt = ast.Return(value=ast.Name(id=\"result\"))\n",
    "    new_body = tree.body + [call_stmt, return_stmt]\n",
    "\n",
    "    wrapper_function = ast.FunctionDef(\n",
    "        name=func_name,\n",
    "        args=f.args,\n",
    "        body=new_body,\n",
    "        decorator_list=[],\n",
    "        returns=None,\n",
    "        lineno=0,\n",
    "    )\n",
    "\n",
    "    return unparse(wrapper_function), wrapper_function"
   ]
  },
  {
   "cell_type": "code",
   "execution_count": 19,
   "metadata": {},
   "outputs": [],
   "source": [
    "from syft.client.api import NodeIdentity\n",
    "\n",
    "input_kwargs = test_func.input_policy_init_kwargs\n",
    "node_view_workaround = False\n",
    "for k in input_kwargs.keys():\n",
    "    if isinstance(k, NodeIdentity):\n",
    "        node_view_workaround = True\n",
    "\n",
    "if not node_view_workaround:\n",
    "    input_keys = list(input_kwargs.keys())\n",
    "else:\n",
    "    input_keys = []\n",
    "    for d in input_kwargs.values():\n",
    "        input_keys += d.keys()\n",
    "            \n",
    "code_string, ast_obj = process_code(\n",
    "    raw_code=test_func.code,\n",
    "    func_name='final_test_func',\n",
    "    original_func_name='test_func',\n",
    "    input_kwargs=input_keys\n",
    ")"
   ]
  },
  {
   "cell_type": "code",
   "execution_count": 16,
   "metadata": {},
   "outputs": [
    {
     "name": "stdout",
     "output_type": "stream",
     "text": [
      "def final_test_func(client, data):\n",
      "\n",
      "    def test_func(client, data):\n",
      "\n",
      "        def process_batch(batch):\n",
      "            import time\n",
      "            time.sleep(1)\n",
      "            return sum(batch)\n",
      "        results = []\n",
      "        for batch in data:\n",
      "            pointer = client.launch_job(process_batch, batch)\n",
      "            results.append(pointer)\n",
      "        return sum([res.wait().get() for res in results])\n",
      "    result = test_func()\n",
      "    return result\n"
     ]
    }
   ],
   "source": [
    "print(code_string)"
   ]
  },
  {
   "cell_type": "code",
   "execution_count": null,
   "metadata": {},
   "outputs": [],
   "source": [
    "def wrapper(func, *args, **kwargs):\n",
    "    # create user code\n",
    "    # Question: We need action objects as inputs for input policy\n",
    "    # for creating an UserCode, but inside the scope of a function\n",
    "    # we assumed we have only data\n",
    "    \n",
    "    \n",
    "    # submit user code\n",
    "    # approve user code\n",
    "    # run the user code async\n",
    "    return"
   ]
  },
  {
   "cell_type": "code",
   "execution_count": 23,
   "metadata": {},
   "outputs": [
    {
     "name": "stdout",
     "output_type": "stream",
     "text": [
      "FunctionDef(\n",
      "  name='final_test_func',\n",
      "  args=arguments(\n",
      "    posonlyargs=[],\n",
      "    args=[\n",
      "      arg(arg='client'),\n",
      "      arg(arg='data')],\n",
      "    kwonlyargs=[],\n",
      "    kw_defaults=[],\n",
      "    defaults=[]),\n",
      "  body=[\n",
      "    FunctionDef(\n",
      "      name='test_func',\n",
      "      args=arguments(\n",
      "        posonlyargs=[],\n",
      "        args=[\n",
      "          arg(arg='client'),\n",
      "          arg(arg='data')],\n",
      "        kwonlyargs=[],\n",
      "        kw_defaults=[],\n",
      "        defaults=[]),\n",
      "      body=[\n",
      "        FunctionDef(\n",
      "          name='process_batch',\n",
      "          args=arguments(\n",
      "            posonlyargs=[],\n",
      "            args=[\n",
      "              arg(arg='batch')],\n",
      "            kwonlyargs=[],\n",
      "            kw_defaults=[],\n",
      "            defaults=[]),\n",
      "          body=[\n",
      "            Import(\n",
      "              names=[\n",
      "                alias(name='time')]),\n",
      "            Expr(\n",
      "              value=Call(\n",
      "                func=Attribute(\n",
      "                  value=Name(id='time', ctx=Load()),\n",
      "                  attr='sleep',\n",
      "                  ctx=Load()),\n",
      "                args=[\n",
      "                  Constant(value=1)],\n",
      "                keywords=[])),\n",
      "            Return(\n",
      "              value=Call(\n",
      "                func=Name(id='sum', ctx=Load()),\n",
      "                args=[\n",
      "                  Name(id='batch', ctx=Load())],\n",
      "                keywords=[]))],\n",
      "          decorator_list=[]),\n",
      "        Assign(\n",
      "          targets=[\n",
      "            Name(id='results', ctx=Store())],\n",
      "          value=List(elts=[], ctx=Load())),\n",
      "        For(\n",
      "          target=Name(id='batch', ctx=Store()),\n",
      "          iter=Name(id='data', ctx=Load()),\n",
      "          body=[\n",
      "            Assign(\n",
      "              targets=[\n",
      "                Name(id='pointer', ctx=Store())],\n",
      "              value=Call(\n",
      "                func=Attribute(\n",
      "                  value=Name(id='client', ctx=Load()),\n",
      "                  attr='launch_job',\n",
      "                  ctx=Load()),\n",
      "                args=[\n",
      "                  Name(id='process_batch', ctx=Load()),\n",
      "                  Name(id='batch', ctx=Load())],\n",
      "                keywords=[])),\n",
      "            Expr(\n",
      "              value=Call(\n",
      "                func=Attribute(\n",
      "                  value=Name(id='results', ctx=Load()),\n",
      "                  attr='append',\n",
      "                  ctx=Load()),\n",
      "                args=[\n",
      "                  Name(id='pointer', ctx=Load())],\n",
      "                keywords=[]))],\n",
      "          orelse=[]),\n",
      "        Return(\n",
      "          value=Call(\n",
      "            func=Name(id='sum', ctx=Load()),\n",
      "            args=[\n",
      "              ListComp(\n",
      "                elt=Call(\n",
      "                  func=Attribute(\n",
      "                    value=Call(\n",
      "                      func=Attribute(\n",
      "                        value=Name(id='res', ctx=Load()),\n",
      "                        attr='wait',\n",
      "                        ctx=Load()),\n",
      "                      args=[],\n",
      "                      keywords=[]),\n",
      "                    attr='get',\n",
      "                    ctx=Load()),\n",
      "                  args=[],\n",
      "                  keywords=[]),\n",
      "                generators=[\n",
      "                  comprehension(\n",
      "                    target=Name(id='res', ctx=Store()),\n",
      "                    iter=Name(id='results', ctx=Load()),\n",
      "                    ifs=[],\n",
      "                    is_async=0)])],\n",
      "            keywords=[]))],\n",
      "      decorator_list=[]),\n",
      "    Assign(\n",
      "      targets=[\n",
      "        Name(id='result')],\n",
      "      value=Call(\n",
      "        func=Name(id='test_func'),\n",
      "        args=[],\n",
      "        keywords=[])),\n",
      "    Return(\n",
      "      value=Name(id='result'))],\n",
      "  decorator_list=[])\n"
     ]
    }
   ],
   "source": [
    "print(ast.dump(ast_obj, indent=2))"
   ]
  },
  {
   "cell_type": "code",
   "execution_count": null,
   "metadata": {},
   "outputs": [],
   "source": []
  },
  {
   "cell_type": "code",
   "execution_count": null,
   "metadata": {},
   "outputs": [],
   "source": []
  }
 ],
 "metadata": {
  "kernelspec": {
   "display_name": "syft_3.11",
   "language": "python",
   "name": "python3"
  },
  "language_info": {
   "codemirror_mode": {
    "name": "ipython",
    "version": 3
   },
   "file_extension": ".py",
   "mimetype": "text/x-python",
   "name": "python",
   "nbconvert_exporter": "python",
   "pygments_lexer": "ipython3",
   "version": "3.11.4"
  },
  "orig_nbformat": 4
 },
 "nbformat": 4,
 "nbformat_minor": 2
}
