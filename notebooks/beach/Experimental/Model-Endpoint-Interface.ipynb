{
 "cells": [
  {
   "cell_type": "code",
   "execution_count": 1,
   "id": "04340893-0af3-4601-90d3-8b8bdf130a81",
   "metadata": {},
   "outputs": [],
   "source": [
    "# syft absolute\n",
    "import syft as sy"
   ]
  },
  {
   "cell_type": "code",
   "execution_count": 2,
   "id": "dd2ce6d2-f6c6-439a-b56e-b71675d62efa",
   "metadata": {},
   "outputs": [
    {
     "name": "stdout",
     "output_type": "stream",
     "text": [
      "Staging Protocol Changes...\n",
      "Creating default worker image with tag='local-dev'\n",
      "Building default worker image with tag=local-dev\n",
      "Setting up worker poolname=default-pool workers=1 image_uid=35a6fac3ea7f4a4a99ac0ab0d3d54d74 in_memory=True\n",
      "Created default worker pool.\n",
      "Data Migrated to latest version !!!\n",
      "Logged into <test-domain-1: High side Domain> as <info@openmined.org>\n"
     ]
    },
    {
     "data": {
      "text/html": [
       "<div class=\"alert-warning\" style=\"padding:5px;\"><strong>SyftWarning</strong>: You are using a default password. Please change the password using `[your_client].me.set_password([new_password])`.</div><br />"
      ],
      "text/plain": [
       "SyftWarning: You are using a default password. Please change the password using `[your_client].me.set_password([new_password])`."
      ]
     },
     "metadata": {},
     "output_type": "display_data"
    }
   ],
   "source": [
    "node = sy.orchestra.launch(\n",
    "    name=\"test-domain-1\", dev_mode=True, n_consumers=1, create_producer=True, reset=True\n",
    ")\n",
    "domain_client = node.login(email=\"info@openmined.org\", password=\"changethis\")"
   ]
  },
  {
   "cell_type": "code",
   "execution_count": null,
   "id": "61bda208-46c9-4bac-a18b-d14cdcabf94c",
   "metadata": {},
   "outputs": [],
   "source": [
    "@sy.api_endpoint(\n",
    "    path=\"vertex.run\",\n",
    ")\n",
    "def public_endpoint_method(context, prompt):\n",
    "    # stdlib\n",
    "    import random\n",
    "\n",
    "    prediction = random.randint(0, 10)\n",
    "    return {\"prediction\": [prediction, prompt]}"
   ]
  },
  {
   "cell_type": "code",
   "execution_count": null,
   "id": "f6186d12-d5aa-4a92-bb59-7e84e73592ce",
   "metadata": {},
   "outputs": [],
   "source": [
    "domain_client.api.services.api.delete(endpoint_path=\"vertex.run\")"
   ]
  },
  {
   "cell_type": "code",
   "execution_count": null,
   "id": "b3d2ef88-e72f-46bd-8216-c9ef9e5d32b7",
   "metadata": {},
   "outputs": [],
   "source": [
    "domain_client.api.services.api.add(endpoint=public_endpoint_method)"
   ]
  },
  {
   "cell_type": "code",
   "execution_count": null,
   "id": "c33f726e-7b66-48f3-b7ac-255ff619d8e2",
   "metadata": {},
   "outputs": [],
   "source": [
    "domain_client.refresh()"
   ]
  },
  {
   "cell_type": "code",
   "execution_count": null,
   "id": "24bd9645-bb68-4f00-9d18-4a8c8599b4ab",
   "metadata": {},
   "outputs": [],
   "source": [
    "domain_client.api.services.vertex.run(prompt=\"Hello\")"
   ]
  },
  {
   "cell_type": "code",
   "execution_count": null,
   "id": "cdd10f9d-983c-4061-9422-1126a5c65c38",
   "metadata": {},
   "outputs": [],
   "source": [
    "model = sy.Model(name=\"Gemma\")"
   ]
  },
  {
   "cell_type": "code",
   "execution_count": null,
   "id": "e41dfe7a-b60f-4a07-86af-bef135dfe37d",
   "metadata": {},
   "outputs": [],
   "source": [
    "model.set_description(\n",
    "    \"Gemma is a set of lightweight, generative artificial intelligence (AI) open models. Gemma models are available to run in your applications and on your hardware, mobile devices, or hosted services. You can also customize these models using tuning techniques so that they excel at performing tasks that matter to you and your users. Gemma models are based on Gemini models and are intended for the AI development community to extend and take further.\"\n",
    ")"
   ]
  },
  {
   "cell_type": "code",
   "execution_count": null,
   "id": "c5a63213-dcf7-422c-8d9b-4af69abe5c6a",
   "metadata": {},
   "outputs": [],
   "source": [
    "model.add_citation(\"Person, place or thing\")\n",
    "model.add_url(\n",
    "    \"https://cloud.google.com/vertex-ai/generative-ai/docs/open-models/use-gemma\"\n",
    ")"
   ]
  },
  {
   "cell_type": "code",
   "execution_count": null,
   "id": "1dd8c99a-fadd-4647-a542-76a4829cb948",
   "metadata": {},
   "outputs": [],
   "source": [
    "model.add_contributor(\n",
    "    name=\"Thomas Mesnard\",\n",
    "    email=\"thomas@email.com\",\n",
    "    note=\"This paper was fun!\",\n",
    ")"
   ]
  },
  {
   "cell_type": "code",
   "execution_count": null,
   "id": "c5769637-937c-4525-ae01-e03563fa893b",
   "metadata": {},
   "outputs": [],
   "source": [
    "asset = sy.Asset(name=\"2b_Pretrained\")\n",
    "asset.set_description(\n",
    "    \"Gemma 2B, 2.2 billion - Input: Text, Output: Text, Pretrained, Mobile devices and laptops\"\n",
    ")"
   ]
  },
  {
   "cell_type": "code",
   "execution_count": null,
   "id": "644f1a02-80ad-4b78-9a8e-03042ec972c3",
   "metadata": {},
   "outputs": [],
   "source": [
    "asset.set_api(gemma_2b)"
   ]
  },
  {
   "cell_type": "code",
   "execution_count": null,
   "id": "98ce56e6-8bb2-48a8-8105-0d48c8dc0357",
   "metadata": {},
   "outputs": [],
   "source": [
    "dataset.add_asset(asset)"
   ]
  },
  {
   "cell_type": "code",
   "execution_count": null,
   "id": "0ad35dff-6adf-4234-b070-ac9dd1d857c8",
   "metadata": {},
   "outputs": [],
   "source": [
    "asset = sy.Asset(name=\"7b_Pretrained\")\n",
    "asset.set_description(\n",
    "    \"Gemma 7B, 7 billion - Input: Text, Output: Text, Pretrained, Desktop computers and small servers\"\n",
    ")"
   ]
  },
  {
   "cell_type": "code",
   "execution_count": null,
   "id": "d28fed7a-9597-49a5-b74d-7d81695d7faf",
   "metadata": {},
   "outputs": [],
   "source": [
    "dataset.add_asset(asset)"
   ]
  },
  {
   "cell_type": "code",
   "execution_count": null,
   "id": "ff6ddada-729d-4c79-9d0c-289610fa253d",
   "metadata": {},
   "outputs": [],
   "source": [
    "domain_client.upload_dataset(dataset)"
   ]
  },
  {
   "cell_type": "code",
   "execution_count": null,
   "id": "5270e470-29c6-4416-900f-66f900754c6b",
   "metadata": {},
   "outputs": [],
   "source": [
    "# We can list all the datasets on the Domain Server by invoking the following\n",
    "datasets = domain_client.datasets.get_all()\n",
    "datasets"
   ]
  },
  {
   "cell_type": "code",
   "execution_count": null,
   "id": "c2921d83-bd3d-400c-a023-39c6bf3ea269",
   "metadata": {},
   "outputs": [],
   "source": [
    "domain_client.models[\"Gemma\"]"
   ]
  },
  {
   "cell_type": "code",
   "execution_count": null,
   "id": "626a6922-7e0c-4a55-8afe-25041fe3a613",
   "metadata": {},
   "outputs": [],
   "source": [
    "domain_client.models[\"Gemma\"][\"2b_Pretrained\"](prompt=\"test\")"
   ]
  },
  {
   "cell_type": "code",
   "execution_count": null,
   "id": "950ae1cd-fded-4309-9760-30368fc5b1da",
   "metadata": {},
   "outputs": [],
   "source": []
  },
  {
   "cell_type": "code",
   "execution_count": null,
   "id": "b3b2f5cc-bee2-4d85-a75d-eba8ae011a6e",
   "metadata": {},
   "outputs": [],
   "source": []
  },
  {
   "cell_type": "code",
   "execution_count": null,
   "id": "c634a387-6db3-402a-9e94-8083190bc25f",
   "metadata": {},
   "outputs": [],
   "source": []
  },
  {
   "cell_type": "code",
   "execution_count": null,
   "id": "339719ec-271e-46b2-a73b-02ec932073f7",
   "metadata": {},
   "outputs": [],
   "source": []
  }
 ],
 "metadata": {
  "kernelspec": {
   "display_name": "Python 3 (ipykernel)",
   "language": "python",
   "name": "python3"
  },
  "language_info": {
   "codemirror_mode": {
    "name": "ipython",
    "version": 3
   },
   "file_extension": ".py",
   "mimetype": "text/x-python",
   "name": "python",
   "nbconvert_exporter": "python",
   "pygments_lexer": "ipython3",
   "version": "3.11.8"
  }
 },
 "nbformat": 4,
 "nbformat_minor": 5
}
