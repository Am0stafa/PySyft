{
 "cells": [
  {
   "cell_type": "code",
   "execution_count": null,
   "id": "ce93ea00-5aac-426a-a501-98731de77a54",
   "metadata": {},
   "outputs": [],
   "source": [
    "# !uv pip install google-cloud-aiplatform"
   ]
  },
  {
   "cell_type": "code",
   "execution_count": 1,
   "id": "676a3465-1c2c-429a-a311-845d9b98f8de",
   "metadata": {},
   "outputs": [],
   "source": [
    "# syft absolute\n",
    "import syft as sy"
   ]
  },
  {
   "cell_type": "code",
   "execution_count": 2,
   "id": "6809e1d8-f072-4402-ba1a-19e425803521",
   "metadata": {},
   "outputs": [
    {
     "name": "stdout",
     "output_type": "stream",
     "text": [
      "Staging Protocol Changes...\n",
      "Starting test-domain-1 server on 0.0.0.0:58450\n",
      "Waiting for server to start."
     ]
    },
    {
     "name": "stderr",
     "output_type": "stream",
     "text": [
      "INFO:     Started server process [83185]\n",
      "INFO:     Waiting for application startup.\n",
      "INFO:     Application startup complete.\n",
      "INFO:     Uvicorn running on http://0.0.0.0:58450 (Press CTRL+C to quit)\n"
     ]
    },
    {
     "name": "stdout",
     "output_type": "stream",
     "text": [
      ".\n",
      "WARNING: private key is based on node name: test-domain-1 in dev_mode. Don't run this in production.\n",
      "Creating default worker image with tag='local-dev'\n",
      "Building default worker image with tag=local-dev\n",
      "Setting up worker poolname=default-pool workers=1 image_uid=1b0ab9501a194c95afe934e1e1bb3a83 in_memory=True\n",
      "Created default worker pool.\n",
      "Data Migrated to latest version !!!\n",
      "INFO:     127.0.0.1:52286 - \"GET /api/v2/metadata HTTP/1.1\" 200 OK\n",
      " Done.\n",
      "INFO:     127.0.0.1:52288 - \"GET /api/v2/metadata HTTP/1.1\" 200 OK\n",
      "INFO:     127.0.0.1:52288 - \"GET /api/v2/metadata HTTP/1.1\" 200 OK\n",
      "Logged into <test-domain-1: High-side Domain> as GUEST\n",
      "INFO:     127.0.0.1:52288 - \"POST /api/v2/login HTTP/1.1\" 200 OK\n",
      "INFO:     127.0.0.1:52288 - \"GET /api/v2/api?verify_key=aec6ea4dfc049ceacaeeebc493167a88a200ddc367b1fa32da652444b635d21f&communication_protocol=dev HTTP/1.1\" 200 OK\n",
      "INFO:     127.0.0.1:52290 - \"POST /api/v2/api_call HTTP/1.1\" 200 OK\n",
      "Logged into <test-domain-1: High side Domain> as <info@openmined.org>\n"
     ]
    },
    {
     "data": {
      "text/html": [
       "<div class=\"alert-warning\" style=\"padding:5px;\"><strong>SyftWarning</strong>: You are using a default password. Please change the password using `[your_client].me.set_password([new_password])`.</div><br />"
      ],
      "text/plain": [
       "SyftWarning: You are using a default password. Please change the password using `[your_client].me.set_password([new_password])`."
      ]
     },
     "metadata": {},
     "output_type": "display_data"
    }
   ],
   "source": [
    "node = sy.orchestra.launch(\n",
    "    name=\"test-domain-1\",\n",
    "    port=\"auto\",\n",
    "    dev_mode=True,\n",
    "    reset=True,\n",
    "    n_consumers=1,\n",
    "    create_producer=True,\n",
    ")\n",
    "domain_client = node.login(email=\"info@openmined.org\", password=\"changethis\")"
   ]
  },
  {
   "cell_type": "markdown",
   "id": "130e2e81-43c0-454d-9b85-0e3e4f00ad4c",
   "metadata": {},
   "source": [
    "# Admin"
   ]
  },
  {
   "cell_type": "code",
   "execution_count": 3,
   "id": "5e80c0b1-8914-4bd1-9753-64eb46d00e63",
   "metadata": {},
   "outputs": [],
   "source": [
    "# !curl localhost:9585/api/v2/metadata"
   ]
  },
  {
   "cell_type": "code",
   "execution_count": 4,
   "id": "9283c589-aeb1-4e24-a325-514fe64355e3",
   "metadata": {},
   "outputs": [],
   "source": [
    "# domain_client = sy.login(url=\"http://34.96.72.102\", email=\"info@openmined.org\", password=\"changethis\")"
   ]
  },
  {
   "cell_type": "code",
   "execution_count": 5,
   "id": "b2955b97-bdad-498c-bef1-a104f3273440",
   "metadata": {},
   "outputs": [],
   "source": [
    "# domain_client"
   ]
  },
  {
   "cell_type": "code",
   "execution_count": 6,
   "id": "7a65d708",
   "metadata": {},
   "outputs": [],
   "source": [
    "# stdlib\n",
    "import os\n",
    "\n",
    "# PRIVATE_KEY = os.environ[\"BEACH_PRIVATE_KEY\"].replace(\"\\\\n\", \"\\n\")"
   ]
  },
  {
   "cell_type": "code",
   "execution_count": 7,
   "id": "79d34278-6cfc-4e0d-9424-f4c9c1d34f41",
   "metadata": {},
   "outputs": [],
   "source": []
  },
  {
   "cell_type": "code",
   "execution_count": 8,
   "id": "74d3464c-b3d0-4574-b575-027857e58d4b",
   "metadata": {},
   "outputs": [],
   "source": []
  },
  {
   "cell_type": "code",
   "execution_count": 9,
   "id": "98146b3b-d635-4f43-be15-bfd9d95a6b44",
   "metadata": {},
   "outputs": [],
   "source": [
    "# @sy.api_endpoint(\n",
    "#     path=\"vertex.run\"\n",
    "# )\n",
    "# def public_endpoint_method(\n",
    "#     context,\n",
    "#     prompt: str,\n",
    "# ) -> str:\n",
    "#     print(\"got prompt\", prompt)\n",
    "#     return {\"prediction\": \"test\"}"
   ]
  },
  {
   "cell_type": "code",
   "execution_count": 10,
   "id": "149691c2-80a6-485d-9b09-0e64415f1052",
   "metadata": {},
   "outputs": [],
   "source": [
    "def allowed(state, email: str) -> bool:\n",
    "    return False"
   ]
  },
  {
   "cell_type": "code",
   "execution_count": 11,
   "id": "464c9999-7e4c-4731-9a4f-f318eb5e7e6f",
   "metadata": {},
   "outputs": [],
   "source": [
    "models = {\"gemma-2b\": \"3213239169291649024\"}"
   ]
  },
  {
   "cell_type": "code",
   "execution_count": 41,
   "id": "f644c5c1-be51-4a36-a7b2-fd303226eedd",
   "metadata": {},
   "outputs": [],
   "source": [
    "@sy.api_endpoint(\n",
    "    path=\"vertex.run\",\n",
    "    settings={\"SERVICE_ACCOUNT\": SERVICE_ACCOUNT},\n",
    ")\n",
    "def public_endpoint_method(\n",
    "    context,\n",
    "    prompt: str,\n",
    "    max_tokens: int = 50,\n",
    "    temperature: float = 0.1,\n",
    "    top_p: float = 1.0,\n",
    "    top_k: int = 1,\n",
    "    raw_response: bool = False,\n",
    ") -> str:\n",
    "    print(prompt)\n",
    "    print(max_tokens)\n",
    "    print(temperature)\n",
    "    print(top_p)\n",
    "    print(top_k)\n",
    "    print(raw_response)\n",
    "    # context.state = [\"jimmy@caltech.edu\": {\"n_calls\":3, \"period_secs\":60}]\n",
    "\n",
    "    # use helper function rate limiter\n",
    "    # is_allowed = allowed(context.state, context.user.email)\n",
    "\n",
    "    # third party\n",
    "    from google.cloud import aiplatform\n",
    "    from google.oauth2 import service_account\n",
    "\n",
    "    try:\n",
    "        credentials = service_account.Credentials.from_service_account_info(\n",
    "            context.settings[\"SERVICE_ACCOUNT\"]\n",
    "        )\n",
    "\n",
    "        PROJECT_ID = \"project-enigma-415021\"\n",
    "        REGION = \"us-west1\"\n",
    "        ENDPOINT_ID = \"3213239169291649024\"\n",
    "        aip_endpoint_name = (\n",
    "            f\"projects/{PROJECT_ID}/locations/{REGION}/endpoints/{ENDPOINT_ID}\"\n",
    "        )\n",
    "        endpoint_vllm = aiplatform.Endpoint(aip_endpoint_name, credentials=credentials)\n",
    "        default_kwargs = {\n",
    "            \"prompt\": prompt,\n",
    "            \"max_tokens\": max_tokens,\n",
    "            \"temperature\": temperature,\n",
    "            \"top_p\": top_p,\n",
    "            \"top_k\": top_k,\n",
    "            \"raw_response\": raw_response,\n",
    "        }\n",
    "        instances = [\n",
    "            default_kwargs,\n",
    "        ]\n",
    "        response = endpoint_vllm.predict(instances=instances)\n",
    "        prediction = response.predictions[0]\n",
    "    except Exception as e:\n",
    "        prediction = f\"Error: Please try again? {e}\"\n",
    "    return {\"prediction\": prediction}"
   ]
  },
  {
   "cell_type": "code",
   "execution_count": 27,
   "id": "948b0d51-ac6c-49e6-a359-92668290576d",
   "metadata": {},
   "outputs": [],
   "source": [
    "# domain_client.refresh()"
   ]
  },
  {
   "cell_type": "code",
   "execution_count": 28,
   "id": "866524c5-e469-46d4-bc0a-a8570a572cfd",
   "metadata": {},
   "outputs": [],
   "source": [
    "# new_endpoint = sy.TwinAPIEndpoint(\n",
    "#     path=\"vertex.run\",\n",
    "#     private_function=private_run_vertex,\n",
    "#     mock_function=mock_run_vertex,\n",
    "#     description=\"Run vertex model\",\n",
    "# )\n",
    "# new_endpoint"
   ]
  },
  {
   "cell_type": "code",
   "execution_count": 29,
   "id": "1fa3427d-9f1b-4c72-9bcd-e2cd6a7aa44a",
   "metadata": {},
   "outputs": [],
   "source": [
    "# domain_client.user_role"
   ]
  },
  {
   "cell_type": "code",
   "execution_count": 30,
   "id": "0a4f82a9-050d-4ae3-80f4-56cc0c9c2927",
   "metadata": {},
   "outputs": [
    {
     "name": "stdout",
     "output_type": "stream",
     "text": [
      "INFO:     127.0.0.1:52310 - \"POST /api/v2/api_call HTTP/1.1\" 200 OK\n"
     ]
    },
    {
     "data": {
      "text/html": [
       "<div class=\"alert-success\" style=\"padding:5px;\"><strong>SyftSuccess</strong>: Endpoint successfully deleted.</div><br />"
      ],
      "text/plain": [
       "SyftSuccess: Endpoint successfully deleted."
      ]
     },
     "execution_count": 30,
     "metadata": {},
     "output_type": "execute_result"
    }
   ],
   "source": [
    "# use to delete if you want to add again (there is a seperate update API)\n",
    "domain_client.api.services.api.delete(endpoint_path=\"vertex.run\")"
   ]
  },
  {
   "cell_type": "code",
   "execution_count": 31,
   "id": "f2e14a21-ee78-486b-a5d4-4cf7de501139",
   "metadata": {},
   "outputs": [
    {
     "name": "stdout",
     "output_type": "stream",
     "text": [
      "INFO:     127.0.0.1:52312 - \"POST /api/v2/api_call HTTP/1.1\" 200 OK\n"
     ]
    },
    {
     "data": {
      "text/html": [
       "<div class=\"alert-success\" style=\"padding:5px;\"><strong>SyftSuccess</strong>: Endpoint successfully created.</div><br />"
      ],
      "text/plain": [
       "SyftSuccess: Endpoint successfully created."
      ]
     },
     "execution_count": 31,
     "metadata": {},
     "output_type": "execute_result"
    }
   ],
   "source": [
    "domain_client.api.services.api.add(endpoint=public_endpoint_method)"
   ]
  },
  {
   "cell_type": "markdown",
   "id": "cb84bca5-fbc7-4fd0-a064-c71e120a1ca1",
   "metadata": {},
   "source": [
    "## Create Data Scientist"
   ]
  },
  {
   "cell_type": "code",
   "execution_count": 32,
   "id": "8d9dbd4f-1030-4b8d-b169-1cd39ddae723",
   "metadata": {},
   "outputs": [
    {
     "name": "stdout",
     "output_type": "stream",
     "text": [
      "INFO:     127.0.0.1:52314 - \"POST /api/v2/register HTTP/1.1\" 200 OK\n"
     ]
    },
    {
     "data": {
      "text/html": [
       "<div class=\"alert-danger\" style=\"padding:5px;\"><strong>SyftError</strong>: User already exists with email: jimmy@caltech.edu</div><br />"
      ],
      "text/plain": [
       "SyftError: User already exists with email: jimmy@caltech.edu"
      ]
     },
     "execution_count": 32,
     "metadata": {},
     "output_type": "execute_result"
    }
   ],
   "source": [
    "domain_client.register(\n",
    "    name=\"Jimmy Doe\",\n",
    "    email=\"jimmy@caltech.edu\",\n",
    "    password=\"abc123\",\n",
    "    password_verify=\"abc123\",\n",
    "    institution=\"Caltech\",\n",
    "    website=\"https://www.caltech.edu/\",\n",
    ")"
   ]
  },
  {
   "cell_type": "markdown",
   "id": "3acfbc5c-d3a6-42de-80d4-e8355cbde851",
   "metadata": {},
   "source": [
    "# Data Scientist"
   ]
  },
  {
   "cell_type": "code",
   "execution_count": 33,
   "id": "0102f546-a9db-4b26-8ffa-cae84260059d",
   "metadata": {},
   "outputs": [],
   "source": [
    "# users = domain_client.api.services.user.search(name=\"Jimmy Doe\")\n",
    "# user = users[0]\n",
    "# user.mock_execution_permission"
   ]
  },
  {
   "cell_type": "code",
   "execution_count": 34,
   "id": "3d6e38cc-9019-49c9-9685-f72e1ca62a64",
   "metadata": {},
   "outputs": [],
   "source": [
    "# user.update(mock_execution_permission=True)"
   ]
  },
  {
   "cell_type": "code",
   "execution_count": 35,
   "id": "459fa86a-b17c-4688-a78c-2319144a1114",
   "metadata": {},
   "outputs": [],
   "source": [
    "# users = domain_client.api.services.user.search(name=\"Jimmy Doe\")\n",
    "# user = users[0]\n",
    "# user.mock_execution_permission"
   ]
  },
  {
   "cell_type": "code",
   "execution_count": 36,
   "id": "397aa56c-fde8-4544-87ea-7879671dcca8",
   "metadata": {},
   "outputs": [],
   "source": [
    "# jimmy_client = sy.login(url=\"http://34.96.72.102\", email=\"jimmy@caltech.edu\", password=\"abc123\")"
   ]
  },
  {
   "cell_type": "code",
   "execution_count": 37,
   "id": "37894970-ae26-4a69-9279-60d7c3099985",
   "metadata": {},
   "outputs": [
    {
     "name": "stdout",
     "output_type": "stream",
     "text": [
      "INFO:     127.0.0.1:52317 - \"GET /api/v2/metadata HTTP/1.1\" 200 OK\n",
      "INFO:     127.0.0.1:52317 - \"GET /api/v2/metadata HTTP/1.1\" 200 OK\n",
      "Logged into <test-domain-1: High-side Domain> as GUEST\n",
      "INFO:     127.0.0.1:52317 - \"POST /api/v2/login HTTP/1.1\" 200 OK\n",
      "INFO:     127.0.0.1:52317 - \"GET /api/v2/api?verify_key=8cc3567d95d071df2279db611dd507c60db97caa85bc7cbc048a3af004fba3f9&communication_protocol=dev HTTP/1.1\" 200 OK\n",
      "INFO:     127.0.0.1:52319 - \"POST /api/v2/api_call HTTP/1.1\" 200 OK\n",
      "Logged into <test-domain-1: High side Domain> as <jimmy@caltech.edu>\n"
     ]
    }
   ],
   "source": [
    "jimmy_client = node.login(email=\"jimmy@caltech.edu\", password=\"abc123\")"
   ]
  },
  {
   "cell_type": "code",
   "execution_count": 38,
   "id": "6a048e38-8065-48c0-b669-8f983f786729",
   "metadata": {},
   "outputs": [
    {
     "name": "stdout",
     "output_type": "stream",
     "text": [
      "INFO:     127.0.0.1:52321 - \"POST /api/v2/api_call HTTP/1.1\" 200 OK\n"
     ]
    },
    {
     "data": {
      "text/html": [
       "\n",
       "<style>\n",
       "  body[data-jp-theme-light='false'] {\n",
       "        --primary-color: #111111;\n",
       "        --secondary-color: #212121;\n",
       "        --tertiary-color: #CFCDD6;\n",
       "        --button-color: #111111;\n",
       "  }\n",
       "\n",
       "  body {\n",
       "        --primary-color: #ffffff;\n",
       "        --secondary-color: #f5f5f5;\n",
       "        --tertiary-color: #000000de;\n",
       "        --button-color: #d1d5db;\n",
       "  }\n",
       "\n",
       "  .header-1 {\n",
       "        font-style: normal;\n",
       "        font-weight: 600;\n",
       "        font-size: 2.0736em;\n",
       "        line-height: 100%;\n",
       "        leading-trim: both;\n",
       "        text-edge: cap;\n",
       "        color: #17161D;\n",
       "    }\n",
       "\n",
       "  .header-2 {\n",
       "        font-style: normal;\n",
       "        font-weight: 600;\n",
       "        font-size: 1.728em;\n",
       "        line-height: 100%;\n",
       "        leading-trim: both;\n",
       "        text-edge: cap;\n",
       "        color: #17161D;\n",
       "    }\n",
       "\n",
       "  .header-3 {\n",
       "        font-style: normal;\n",
       "        font-weight: 600;\n",
       "        font-size:  1.44em;\n",
       "        line-height: 100%;\n",
       "        leading-trim: both;\n",
       "        text-edge: cap;\n",
       "        color: var(--tertiary-color);\n",
       "    }\n",
       "\n",
       "  .header-4 {\n",
       "        font-style: normal;\n",
       "        font-weight: 600;\n",
       "        font-size: 1.2em;\n",
       "        line-height: 100%;\n",
       "        leading-trim: both;\n",
       "        text-edge: cap;\n",
       "        color: #17161D;\n",
       "    }\n",
       "\n",
       "    .paragraph {\n",
       "        font-style: normal;\n",
       "        font-weight: 400;\n",
       "        font-size: 14px;\n",
       "        line-height: 100%;\n",
       "        leading-trim: both;\n",
       "        text-edge: cap;\n",
       "        color: #2E2B3B;\n",
       "    }\n",
       "\n",
       "    .paragraph-sm {\n",
       "        font-family: 'Roboto';\n",
       "        font-style: normal;\n",
       "        font-weight: 400;\n",
       "        font-size: 11.62px;\n",
       "        line-height: 100%;\n",
       "        leading-trim: both;\n",
       "        text-edge: cap;\n",
       "        color: #2E2B3B;\n",
       "    }\n",
       "    .code-text {\n",
       "        font-family: 'Consolas';\n",
       "        font-style: normal;\n",
       "        font-weight: 400;\n",
       "        font-size: 13px;\n",
       "        line-height: 130%;\n",
       "        leading-trim: both;\n",
       "        text-edge: cap;\n",
       "        color: #2E2B3B;\n",
       "    }\n",
       "\n",
       "    .numbering-entry { display: none }\n",
       "\n",
       "    /* Tooltip container */\n",
       "    .tooltip {\n",
       "        position: relative;\n",
       "        display: inline-block;\n",
       "        border-bottom: 1px dotted black; /* If you want dots under the hoverable text */\n",
       "    }\n",
       "\n",
       "    /* Tooltip text */\n",
       "    .tooltip .tooltiptext {\n",
       "        visibility: hidden;\n",
       "        width: 120px;\n",
       "        background-color: black;\n",
       "        color: #fff;\n",
       "        text-align: center;\n",
       "        padding: 5px 0;\n",
       "        border-radius: 6px;\n",
       "\n",
       "        /* Position the tooltip text - see examples below! */\n",
       "        position: absolute;\n",
       "        z-index: 1;\n",
       "    }\n",
       "\n",
       "    .repr-cell {\n",
       "      padding-top: 20px;\n",
       "    }\n",
       "\n",
       "    .text-bold {\n",
       "        font-weight: bold;\n",
       "    }\n",
       "\n",
       "    .pr-8 {\n",
       "        padding-right: 8px;\n",
       "    }\n",
       "    .pt-8 {\n",
       "        padding-top: 8px;\n",
       "    }\n",
       "    .pl-8 {\n",
       "        padding-left: 8px;\n",
       "    }\n",
       "    .pb-8 {\n",
       "        padding-bottom: 8px;\n",
       "    }\n",
       "\n",
       "    .py-25{\n",
       "        padding-top: 25px;\n",
       "        padding-bottom: 25px;\n",
       "    }\n",
       "\n",
       "    .flex {\n",
       "        display: flex;\n",
       "    }\n",
       "\n",
       "    .gap-10 {\n",
       "        gap: 10px;\n",
       "    }\n",
       "    .items-center{\n",
       "        align-items: center;\n",
       "    }\n",
       "\n",
       "    .folder-icon {\n",
       "        color: var(--tertiary-color);\n",
       "    }\n",
       "\n",
       "    .search-input{\n",
       "        display: flex;\n",
       "        flex-direction: row;\n",
       "        align-items: center;\n",
       "        padding: 8px 12px;\n",
       "        width: 343px;\n",
       "        height: 24px;\n",
       "        /* Lt On Surface/Low */\n",
       "        background-color: var(--secondary-color);\n",
       "        border-radius: 30px;\n",
       "\n",
       "        /* Lt On Surface/Highest */\n",
       "        color: var(--tertiary-color);\n",
       "        border:none;\n",
       "        /* Inside auto layout */\n",
       "        flex: none;\n",
       "        order: 0;\n",
       "        flex-grow: 0;\n",
       "    }\n",
       "    .search-input:focus {\n",
       "        outline: none;\n",
       "    }\n",
       "        .search-input:focus::placeholder,\n",
       "    .search-input::placeholder { /* Chrome, Firefox, Opera, Safari 10.1+ */\n",
       "        color: var(--tertiary-color);\n",
       "        opacity: 1; /* Firefox */\n",
       "    }\n",
       "\n",
       "    .search-button{\n",
       "        /* Search */\n",
       "        leading-trim: both;\n",
       "        text-edge: cap;\n",
       "        display: flex;\n",
       "        align-items: center;\n",
       "        text-align: center;\n",
       "\n",
       "        /* Primary/On Light */\n",
       "        background-color: var(--button-color);\n",
       "        color: var(--tertiary-color);\n",
       "\n",
       "        border-radius: 30px;\n",
       "        border-color: var(--secondary-color);\n",
       "        border-style: solid;\n",
       "        box-shadow: rgba(60, 64, 67, 0.3) 0px 1px 2px 0px, rgba(60, 64, 67, 0.15) 0px 1px 3px 1px;\n",
       "        cursor: pointer;\n",
       "        /* Inside auto layout */\n",
       "        flex: none;\n",
       "        order: 1;\n",
       "        flex-grow: 0;\n",
       "    }\n",
       "\n",
       "    .grid-table698407154352440998d988980620b11b {\n",
       "        display:grid;\n",
       "        grid-template-columns: 1fr repeat(24, 1fr);\n",
       "        grid-template-rows: repeat(2, 1fr);\n",
       "        overflow-x: auto;\n",
       "        position: relative;\n",
       "    }\n",
       "\n",
       "    .grid-std-cells {\n",
       "        grid-column: span 4;\n",
       "\n",
       "    }\n",
       "    .grid-index-cells {\n",
       "        grid-column: span 1;\n",
       "        /* tmp fix to make left col stand out (fix with font-family) */\n",
       "        font-weight: 600;\n",
       "        background-color: var(--secondary-color) !important;\n",
       "        color: var(--tertiary-color);\n",
       "    }\n",
       "\n",
       "    .grid-header {\n",
       "        /* Auto layout */\n",
       "        display: flex;\n",
       "        flex-direction: column;\n",
       "        align-items: center;\n",
       "        padding: 6px 4px;\n",
       "\n",
       "        resize: horizontal;\n",
       "        /* Lt On Surface/Surface */\n",
       "        /* Lt On Surface/High */\n",
       "        border: 1px solid #CFCDD6;\n",
       "        /* tmp fix to make header stand out (fix with font-family) */\n",
       "        font-weight: 600;\n",
       "        background-color: var(--secondary-color);\n",
       "        color: var(--tertiary-color);\n",
       "    }\n",
       "\n",
       "    .grid-row {\n",
       "        display: flex;\n",
       "        flex-direction: column;\n",
       "        align-items: flex-start;\n",
       "        padding: 6px 4px;\n",
       "        overflow: hidden;\n",
       "        border: 1px solid #CFCDD6;\n",
       "        background-color: var(--primary-color);\n",
       "        color: var(--tertiary-color);\n",
       "    }\n",
       "\n",
       "\n",
       "    .syncstate-col-footer {\n",
       "        font-family: 'DejaVu Sans Mono', 'Open Sans';\n",
       "        font-size: 12px;\n",
       "        font-weight: 400;\n",
       "        line-height: 16.8px;\n",
       "        text-align: left;\n",
       "        color: #5E5A72;\n",
       "    }\n",
       "\n",
       "    .syncstate-description {\n",
       "        font-family: Open Sans;\n",
       "        font-size: 14px;\n",
       "        font-weight: 600;\n",
       "        line-height: 19.6px;\n",
       "        text-align: left;\n",
       "        white-space: nowrap;\n",
       "        flex-grow: 1;\n",
       "    }\n",
       "\n",
       "    .widget-header2{\n",
       "        display: flex;\n",
       "        gap: 8px;\n",
       "        justify-content: start;\n",
       "        width: 100%;\n",
       "        overflow: hidden;\n",
       "        align-items: center;\n",
       "    }\n",
       "\n",
       "    .widget-header2-2{\n",
       "        display: flex;\n",
       "        gap: 8px;\n",
       "        justify-content: start;\n",
       "        align-items: center;\n",
       "    }\n",
       "\n",
       "    .diff-state-orange-text{\n",
       "        color: #B8520A;\n",
       "    }\n",
       "\n",
       "    .diff-state-no-obj{\n",
       "        font-family: 'DejaVu Sans Mono', 'Open Sans';\n",
       "        font-size: 12px;\n",
       "        font-weight: 400;\n",
       "        line-height: 16.8px;\n",
       "        text-align: left;\n",
       "        color: #5E5A72;\n",
       "    }\n",
       "\n",
       "    .diff-state-intro{\n",
       "        font-family: Open Sans;\n",
       "        font-size: 14px;\n",
       "        font-weight: 400;\n",
       "        line-height: 19.6px;\n",
       "        text-align: left;\n",
       "        color: #B4B0BF;\n",
       "    }\n",
       "\n",
       "    .diff-state-header{\n",
       "        font-family: Open Sans;\n",
       "        font-size: 22px;\n",
       "        font-weight: 600;\n",
       "        line-height: 30.8px;\n",
       "        text-align: left;\n",
       "        color: #353243;\n",
       "        display: flex; gap: 8px;\n",
       "    }\n",
       "\n",
       "    .diff-state-sub-header{\n",
       "        font-family: Open Sans;\n",
       "        font-size: 14px;\n",
       "        font-weight: 400;\n",
       "        line-height: 19.6px;\n",
       "        text-align: left;\n",
       "        color: #5E5A72;\n",
       "    }\n",
       "\n",
       "    .badge {\n",
       "        code-text;\n",
       "        border-radius: 30px;\n",
       "    }\n",
       "\n",
       "    .label {\n",
       "        code-text;\n",
       "        border-radius: 4px;\n",
       "        padding: 6px 4px;\n",
       "        white-space: nowrap;\n",
       "        overflow: hidden;\n",
       "        line-height: 1.2;\n",
       "        font-family: monospace;\n",
       "    }\n",
       "\n",
       "    .label-light-purple {\n",
       "        label;\n",
       "        background-color: #C9CFE8;\n",
       "        color: #373B7B;\n",
       "    }\n",
       "\n",
       "    .label-light-blue {\n",
       "        label;\n",
       "        background-color: #C2DEF0;\n",
       "        color: #1F567A;\n",
       "\n",
       "    }\n",
       "\n",
       "    .label-orange {\n",
       "        badge;\n",
       "        background-color: #FEE9CD;\n",
       "        color: #B8520A;\n",
       "    }\n",
       "\n",
       "    .label-gray {\n",
       "        badge;\n",
       "        background-color: #ECEBEF;\n",
       "        color: #353243;\n",
       "    }\n",
       "\n",
       "    .label-green {\n",
       "        badge;\n",
       "        background-color: #D5F1D5;\n",
       "        color: #256B24;\n",
       "    }\n",
       "\n",
       "    .badge-blue {\n",
       "        badge;\n",
       "        background-color: #C2DEF0;\n",
       "        color: #1F567A;\n",
       "    }\n",
       "\n",
       "    .badge-purple {\n",
       "        badge;\n",
       "        background-color: #C9CFE8;\n",
       "        color: #373B7B;\n",
       "    }\n",
       "\n",
       "    .badge-green {\n",
       "        badge;\n",
       "\n",
       "        /* Success/Container */\n",
       "        background-color: #D5F1D5;\n",
       "        color: #256B24;\n",
       "    }\n",
       "\n",
       "    .badge-red {\n",
       "        badge;\n",
       "        background-color: #F2D9DE;\n",
       "        color: #9B2737;\n",
       "    }\n",
       "\n",
       "    .badge-gray {\n",
       "        badge;\n",
       "        background-color: #ECEBEF;\n",
       "        color: #2E2B3B;\n",
       "    }\n",
       "    .paginationContainer{\n",
       "        width: 100%;\n",
       "        /*height: 30px;*/\n",
       "        display: flex;\n",
       "        justify-content: center;\n",
       "        gap: 8px;\n",
       "        padding: 5px;\n",
       "        color: var(--tertiary-color);\n",
       "    }\n",
       "\n",
       "    .widget-label-basic{\n",
       "        display:flex;\n",
       "    }\n",
       "\n",
       "    .widget-label-basic input[type='checkbox'][disabled] {\n",
       "        filter: sepia(0.3) hue-rotate(67deg) saturate(3);\n",
       "    }\n",
       "\n",
       "    .page{\n",
       "        color: black;\n",
       "        font-weight: bold;\n",
       "        color: var(--tertiary-color);\n",
       "    }\n",
       "    .page:hover {\n",
       "      color: #38bdf8;\n",
       "      cursor: pointer;\n",
       "    }\n",
       "    .clipboard:hover{\n",
       "        cursor: pointer;\n",
       "        color: var(--tertiary-color);\n",
       "    }\n",
       "\n",
       "    .search-field {\n",
       "        display: flex;\n",
       "        align-items: center;\n",
       "        border-radius: 30px;\n",
       "        background-color: var(--secondary-color);\n",
       "    }\n",
       "\n",
       "    .syft-dropdown {\n",
       "        margin: 5px;\n",
       "        margin-left: 5px;\n",
       "        position: relative;\n",
       "        display: inline-block;\n",
       "        text-align: center;\n",
       "        background-color: var(--button-color);\n",
       "        min-width: 100px;\n",
       "        padding: 2px;\n",
       "        border-radius: 30px;\n",
       "    }\n",
       "\n",
       "    .syft-dropdown:hover {\n",
       "        cursor: pointer;\n",
       "    }\n",
       "    .syft-dropdown-content {\n",
       "        margin-top:26px;\n",
       "        display: none;\n",
       "        position: absolute;\n",
       "        min-width: 100px;\n",
       "        box-shadow: 0px 8px 16px 0px rgba(0,0,0,0.2);\n",
       "        padding: 12px 6px;\n",
       "        z-index: 1;\n",
       "        background-color: var(--primary-color);\n",
       "        color: var(--tertiary-color);\n",
       "    }\n",
       "    .dd-options {\n",
       "        padding-top: 4px;\n",
       "    }\n",
       "    .dd-options:first-of-type {\n",
       "        padding-top: 0px;\n",
       "    }\n",
       "\n",
       "    .dd-options:hover {\n",
       "        cursor: pointer;\n",
       "        background: #d1d5db;\n",
       "    }\n",
       "    .arrow {\n",
       "        border: solid black;\n",
       "        border-width: 0 3px 3px 0;\n",
       "        display: inline-block;\n",
       "        padding: 3px;\n",
       "    }\n",
       "    .down {\n",
       "        transform: rotate(45deg);\n",
       "        -webkit-transform: rotate(45deg);\n",
       "    }\n",
       "</style>\n",
       "\n",
       "\n",
       "    <div style='margin-top:15px;'>\n",
       "        <div class='flex gap-10' style='align-items: center;'>\n",
       "            <div class='folder-icon'><svg width=\"32\" height=\"32\" viewBox=\"0 0 32 32\" fill=\"none\" xmlns=\"http://www.w3.org/2000/svg\"> <path d=\"M28 6H4C3.73478 6 3.48043 6.10536 3.29289 6.29289C3.10536 6.48043 3 6.73478 3 7V24C3 24.5304 3.21071 25.0391 3.58579 25.4142C3.96086 25.7893 4.46957 26 5 26H27C27.5304 26 28.0391 25.7893 28.4142 25.4142C28.7893 25.0391 29 24.5304 29 24V7C29 6.73478 28.8946 6.48043 28.7071 6.29289C28.5196 6.10536 28.2652 6 28 6ZM5 14H10V18H5V14ZM12 14H27V18H12V14ZM27 8V12H5V8H27ZM5 20H10V24H5V20ZM27 24H12V20H27V24Z\" fill=\"#343330\"/></svg></div>\n",
       "            <div><p class='header-3'>TwinAPIEndpointView List</p></div>\n",
       "        </div>\n",
       "\n",
       "            <div style=\"padding-top: 16px; display:flex;justify-content: space-between; align-items: center;\">\n",
       "                <div class='pt-25 gap-10' style=\"display:flex;\">\n",
       "                    <div class=\"search-field\">\n",
       "                        <div id='search-menu698407154352440998d988980620b11b' class=\"syft-dropdown\" onclick=\"{\n",
       "                            let doc = document.getElementById('search-dropdown-content698407154352440998d988980620b11b')\n",
       "                            if (doc.style.display === 'block'){\n",
       "                                doc.style.display = 'none'\n",
       "                            } else {\n",
       "                                doc.style.display = 'block'\n",
       "                            }\n",
       "                            }\">\n",
       "                            <div id='search-dropdown-content698407154352440998d988980620b11b' class='syft-dropdown-content'></div>\n",
       "                            <script>\n",
       "                                var element698407154352440998d988980620b11b = [{\"id\": {\"value\": \"2d06c5651ca248ad831c0a15357cdbbd\", \"type\": \"clipboard\"}, \"API path\": \"vertex.run\", \"Signature\": \"vertex.run(prompt: str, max_tokens: int = 50, temperature: float = 0.1, top_p: float = 1.0, top_k: int = 1, raw_response: bool = False) -> str\", \"Access\": \"Public\", \"Mock Function\": \"public_endpoint_method\", \"Private Function\": \"N / A\"}]\n",
       "                                var page_size698407154352440998d988980620b11b = 1\n",
       "                                var pageIndex698407154352440998d988980620b11b = 1\n",
       "                                var paginatedElements698407154352440998d988980620b11b = []\n",
       "                                var activeFilter698407154352440998d988980620b11b;\n",
       "\n",
       "                                function buildDropDownMenu(elements){\n",
       "                                    let init_filter;\n",
       "                                    let menu = document.getElementById('search-dropdown-content698407154352440998d988980620b11b')\n",
       "                                    if (elements.length > 0) {\n",
       "                                        let sample = elements[0]\n",
       "                                        for (const attr in sample) {\n",
       "                                            if (typeof init_filter === 'undefined'){\n",
       "                                                init_filter = attr;\n",
       "                                            }\n",
       "                                            let content = document.createElement('div');\n",
       "                                            content.onclick = function(event) {\n",
       "                                                event.stopPropagation()\n",
       "                                                document.getElementById('menu-active-filter698407154352440998d988980620b11b').innerText = attr;\n",
       "                                                activeFilter698407154352440998d988980620b11b = attr;\n",
       "                                                document.getElementById(\n",
       "                                                    'search-dropdown-content698407154352440998d988980620b11b'\n",
       "                                                ).style.display= 'none';\n",
       "                                            }\n",
       "                                            content.classList.add(\"dd-options\");\n",
       "                                            content.innerText = attr;\n",
       "                                            menu.appendChild(content);\n",
       "                                        }\n",
       "                                    } else {\n",
       "                                        let init_filter = '---'\n",
       "                                    }\n",
       "                                    let dropdown_field = document.getElementById('search-menu698407154352440998d988980620b11b')\n",
       "                                    let span = document.createElement('span')\n",
       "                                    span.setAttribute('id', 'menu-active-filter698407154352440998d988980620b11b')\n",
       "                                    span.innerText = init_filter\n",
       "                                    activeFilter698407154352440998d988980620b11b = init_filter;\n",
       "                                    dropdown_field.appendChild(span)\n",
       "                                }\n",
       "\n",
       "                                buildDropDownMenu(element698407154352440998d988980620b11b)\n",
       "                            </script>\n",
       "                        </div>\n",
       "                        <input id='searchKey698407154352440998d988980620b11b' class='search-input' placeholder='Enter search here ...'  />\n",
       "                    </div>\n",
       "                    <button class='search-button' type=\"button\" onclick=\"searchGrid698407154352440998d988980620b11b(element698407154352440998d988980620b11b)\">\n",
       "                        <svg width=\"11\" height=\"10\" viewBox=\"0 0 11 10\" fill=\"none\" xmlns=\"http://www.w3.org/2000/svg\"><path d=\"M10.5652 9.23467L8.21819 6.88811C8.89846 6.07141 9.23767 5.02389 9.16527 3.96345C9.09287 2.90302 8.61443 1.91132 7.82948 1.19466C7.04453 0.477995 6.01349 0.0915414 4.95087 0.115691C3.88824 0.139841 2.87583 0.572735 2.12425 1.32432C1.37266 2.0759 0.939768 3.08831 0.915618 4.15094C0.891468 5.21357 1.27792 6.2446 1.99459 7.02955C2.71125 7.8145 3.70295 8.29294 4.76338 8.36535C5.82381 8.43775 6.87134 8.09853 7.68804 7.41827L10.0346 9.7653C10.0694 9.80014 10.1108 9.82778 10.1563 9.84663C10.2018 9.86549 10.2506 9.87519 10.2999 9.87519C10.3492 9.87519 10.398 9.86549 10.4435 9.84663C10.489 9.82778 10.5304 9.80014 10.5652 9.7653C10.6001 9.73046 10.6277 9.68909 10.6466 9.64357C10.6654 9.59805 10.6751 9.54926 10.6751 9.49998C10.6751 9.45071 10.6654 9.40192 10.6466 9.3564C10.6277 9.31088 10.6001 9.26951 10.5652 9.23467ZM1.67491 4.24998C1.67491 3.58247 1.87285 2.92995 2.2437 2.37493C2.61455 1.81992 3.14165 1.38734 3.75835 1.13189C4.37506 0.876446 5.05366 0.809609 5.70834 0.939835C6.36303 1.07006 6.96439 1.3915 7.4364 1.8635C7.9084 2.3355 8.22984 2.93687 8.36006 3.59155C8.49029 4.24624 8.42345 4.92484 8.168 5.54154C7.91256 6.15824 7.47998 6.68535 6.92496 7.05619C6.36995 7.42704 5.71742 7.62498 5.04991 7.62498C4.15511 7.62399 3.29724 7.26809 2.66452 6.63537C2.0318 6.00265 1.6759 5.14479 1.67491 4.24998Z\" fill=\"currentColor\"/></svg>\n",
       "                        <span class='pl-8'>Search</span>\n",
       "                    </button>\n",
       "                </div>\n",
       "\n",
       "                <div><h4 id='total698407154352440998d988980620b11b'>0</h4></div>\n",
       "            </div>\n",
       "            <div id='table698407154352440998d988980620b11b' class='grid-table698407154352440998d988980620b11b' style='margin-top: 25px;'>\n",
       "                <script>\n",
       "                    function paginate698407154352440998d988980620b11b(arr, size) {\n",
       "                        const res = [];\n",
       "                        for (let i = 0; i < arr.length; i += size) {\n",
       "                            const chunk = arr.slice(i, i + size);\n",
       "                            res.push(chunk);\n",
       "                        }\n",
       "\n",
       "                        return res;\n",
       "                    }\n",
       "\n",
       "                    function searchGrid698407154352440998d988980620b11b(elements){\n",
       "                        let searchKey = document.getElementById('searchKey698407154352440998d988980620b11b').value;\n",
       "                        let result;\n",
       "                        if (searchKey === ''){\n",
       "                            result = elements;\n",
       "                        } else {\n",
       "                            result = elements.filter((element) => {\n",
       "                                let property = element[activeFilter698407154352440998d988980620b11b]\n",
       "                                if (typeof property === 'object' && property !== null){\n",
       "                                    return property.value.toLowerCase().includes(searchKey.toLowerCase());\n",
       "                                } else if (typeof property === 'string' ) {\n",
       "                                    return element[activeFilter698407154352440998d988980620b11b].toLowerCase().includes(searchKey.toLowerCase());\n",
       "                                } else if (property !== null ) {\n",
       "                                    return element[activeFilter698407154352440998d988980620b11b].toString() === searchKey;\n",
       "                                } else {\n",
       "                                    return element[activeFilter698407154352440998d988980620b11b] === searchKey;\n",
       "                                }\n",
       "                            } );\n",
       "                        }\n",
       "                        resetById698407154352440998d988980620b11b('table698407154352440998d988980620b11b');\n",
       "                        resetById698407154352440998d988980620b11b('pag698407154352440998d988980620b11b');\n",
       "                        result = paginate698407154352440998d988980620b11b(result, page_size698407154352440998d988980620b11b)\n",
       "                        paginatedElements698407154352440998d988980620b11b = result\n",
       "                        buildGrid698407154352440998d988980620b11b(result,pageIndex698407154352440998d988980620b11b);\n",
       "                        buildPaginationContainer698407154352440998d988980620b11b(result);\n",
       "                    }\n",
       "\n",
       "                    function resetById698407154352440998d988980620b11b(id){\n",
       "                        let element = document.getElementById(id);\n",
       "                        while (element.firstChild) {\n",
       "                          element.removeChild(element.firstChild);\n",
       "                        }\n",
       "                    }\n",
       "\n",
       "                    function buildGrid698407154352440998d988980620b11b(items, pageIndex){\n",
       "                                let headers = Object.keys(element698407154352440998d988980620b11b[0]);\n",
       "\n",
       "                                let grid = document.getElementById(\"table698407154352440998d988980620b11b\");\n",
       "                                let div = document.createElement(\"div\");\n",
       "                                div.classList.add('grid-header', 'grid-index-cells');\n",
       "                                grid.appendChild(div);\n",
       "                                headers.forEach((title) =>{\n",
       "                                    let div = document.createElement(\"div\");\n",
       "                                    div.classList.add('grid-header', 'grid-std-cells');\n",
       "                                    div.innerText = title;\n",
       "\n",
       "                                    grid.appendChild(div);\n",
       "                                });\n",
       "\n",
       "                                let page = items[pageIndex -1]\n",
       "                                if (page !== 'undefine'){\n",
       "                                    let table_index698407154352440998d988980620b11b = ((pageIndex - 1) * page_size698407154352440998d988980620b11b)\n",
       "                                    page.forEach((item) => {\n",
       "                                        let grid = document.getElementById(\"table698407154352440998d988980620b11b\");\n",
       "                                        // Add new index value in index cells\n",
       "                                        let divIndex = document.createElement(\"div\");\n",
       "                                        divIndex.classList.add('grid-row', 'grid-index-cells');\n",
       "                                        divIndex.innerText = table_index698407154352440998d988980620b11b;\n",
       "                                        grid.appendChild(divIndex);\n",
       "\n",
       "                                        // Iterate over the actual obj\n",
       "                                        for (const attr in item) {\n",
       "                                            let div = document.createElement(\"div\");\n",
       "                                            if (typeof item[attr] === 'object'\n",
       "                                                && item[attr] !== null\n",
       "                                                && item[attr].hasOwnProperty('type')) {\n",
       "                                                if (item[attr].type.includes('badge')){\n",
       "                                                    let badge_div = document.createElement(\"div\");\n",
       "                                                    badge_div.classList.add('badge',item[attr].type)\n",
       "                                                    badge_div.innerText = String(item[attr].value).toUpperCase();\n",
       "                                                    div.appendChild(badge_div);\n",
       "                                                    div.classList.add('grid-row','grid-std-cells');\n",
       "                                                } else if (item[attr].type.includes('label')){\n",
       "                                                    let label_div = document.createElement(\"div\");\n",
       "                                                    label_div.classList.add('label',item[attr].type)\n",
       "                                                    label_div.innerText = String(item[attr].value).toUpperCase();\n",
       "                                                    div.appendChild(label_div);\n",
       "                                                    div.classList.add('grid-row','grid-std-cells');\n",
       "                                                } else if (item[attr].type === \"clipboard\") {\n",
       "                                                    div.classList.add('grid-row','grid-std-cells');\n",
       "\n",
       "                                                    // Create clipboard div\n",
       "                                                    let clipboard_div = document.createElement('div');\n",
       "                                                    clipboard_div.style.display= 'flex';\n",
       "                                                    clipboard_div.classList.add(\"gap-10\")\n",
       "                                                    clipboard_div.style.justifyContent = \"space-between\";\n",
       "\n",
       "                                                    let id_text = document.createElement('div');\n",
       "                                                    if (item[attr].value == \"None\"){\n",
       "                                                        id_text.innerText = \"None\";\n",
       "                                                    }\n",
       "                                                    else{\n",
       "                                                        id_text.innerText = item[attr].value.slice(0,5) + \"...\";\n",
       "                                                    }\n",
       "\n",
       "                                                    clipboard_div.appendChild(id_text);\n",
       "                                                    let clipboard_img = document.createElement('div');\n",
       "                                                    clipboard_img.classList.add(\"clipboard\")\n",
       "                                                    div.onclick = function() {\n",
       "                                                        navigator.clipboard.writeText(item[attr].value);\n",
       "                                                    };\n",
       "                                                    clipboard_img.innerHTML = \"<svg width='8' height='8' viewBox='0 0 8 8' fill='none' xmlns='http://www.w3.org/2000/svg'><path d='M7.4375 0.25H2.4375C2.35462 0.25 2.27513 0.282924 2.21653 0.341529C2.15792 0.400134 2.125 0.47962 2.125 0.5625V2.125H0.5625C0.47962 2.125 0.400134 2.15792 0.341529 2.21653C0.282924 2.27513 0.25 2.35462 0.25 2.4375V7.4375C0.25 7.52038 0.282924 7.59987 0.341529 7.65847C0.400134 7.71708 0.47962 7.75 0.5625 7.75H5.5625C5.64538 7.75 5.72487 7.71708 5.78347 7.65847C5.84208 7.59987 5.875 7.52038 5.875 7.4375V5.875H7.4375C7.52038 5.875 7.59987 5.84208 7.65847 5.78347C7.71708 5.72487 7.75 5.64538 7.75 5.5625V0.5625C7.75 0.47962 7.71708 0.400134 7.65847 0.341529C7.59987 0.282924 7.52038 0.25 7.4375 0.25ZM5.25 7.125H0.875V2.75H5.25V7.125ZM7.125 5.25H5.875V2.4375C5.875 2.35462 5.84208 2.27513 5.78347 2.21653C5.72487 2.15792 5.64538 2.125 5.5625 2.125H2.75V0.875H7.125V5.25Z' fill='#464158'/></svg>\";\n",
       "\n",
       "                                                    clipboard_div.appendChild(clipboard_img);\n",
       "                                                    div.appendChild(clipboard_div);\n",
       "                                                }\n",
       "                                            } else{\n",
       "                                                div.classList.add('grid-row','grid-std-cells');\n",
       "                                                if (item[attr] == null) {\n",
       "                                                    text = ' '\n",
       "                                                } else {\n",
       "                                                    text = String(item[attr])\n",
       "                                                }\n",
       "\n",
       "                                                text = text.replaceAll(\"\\n\", \"</br>\");\n",
       "                                                div.innerHTML = text;\n",
       "                                            }\n",
       "                                            grid.appendChild(div);\n",
       "                                        }\n",
       "                                    table_index698407154352440998d988980620b11b = table_index698407154352440998d988980620b11b + 1;\n",
       "                                    })\n",
       "                                }\n",
       "                    }\n",
       "                    paginatedElements698407154352440998d988980620b11b = paginate698407154352440998d988980620b11b(element698407154352440998d988980620b11b, page_size698407154352440998d988980620b11b)\n",
       "                    buildGrid698407154352440998d988980620b11b(paginatedElements698407154352440998d988980620b11b, 1)\n",
       "                    document.getElementById('total698407154352440998d988980620b11b').innerText = \"Total: \" + element698407154352440998d988980620b11b.length\n",
       "                </script>\n",
       "            </div>\n",
       "            <div id='pag698407154352440998d988980620b11b' class='paginationContainer'>\n",
       "                <script>\n",
       "                    function buildPaginationContainer698407154352440998d988980620b11b(paginatedElements){\n",
       "                            let pageContainer = document.getElementById(\"pag698407154352440998d988980620b11b\");\n",
       "                            for (let i = 0; i < paginatedElements.length; i++) {\n",
       "                                  let div = document.createElement(\"div\");\n",
       "                                  div.classList.add('page');\n",
       "                                  if(i===0) div.style.color = \"gray\";\n",
       "                                  else div.style.color = 'var(--tertiary-color, \"gray\")';\n",
       "                                  div.onclick = function(event) {\n",
       "                                      let indexes = document.getElementsByClassName('page');\n",
       "                                      for (let index of indexes) { index.style.color = 'var(--tertiary-color, \"gray\")' }\n",
       "                                      event.target.style.color = \"gray\";\n",
       "                                      setPage698407154352440998d988980620b11b(i + 1);\n",
       "                                  };\n",
       "                                  div.innerText = i + 1;\n",
       "                                  pageContainer.appendChild(div);\n",
       "                            }\n",
       "                    }\n",
       "\n",
       "                    function setPage698407154352440998d988980620b11b(newPage){\n",
       "                        pageIndex = newPage\n",
       "                        resetById698407154352440998d988980620b11b('table698407154352440998d988980620b11b')\n",
       "                        buildGrid698407154352440998d988980620b11b(paginatedElements698407154352440998d988980620b11b, pageIndex)\n",
       "                    }\n",
       "                    (async function() {\n",
       "                        const myFont = new FontFace('DejaVu Sans', 'url(https://cdn.jsdelivr.net/npm/dejavu-sans@1.0.0/css/dejavu-sans.min.css)');\n",
       "                        await myFont.load();\n",
       "                        document.fonts.add(myFont);\n",
       "                        document.getElementsByTagName('h1')[0].style.fontFamily = \"DejaVu Sans\";\n",
       "                    })();\n",
       "\n",
       "                    buildPaginationContainer698407154352440998d988980620b11b(paginatedElements698407154352440998d988980620b11b)\n",
       "                </script>\n",
       "            </div>\n",
       "        </div>\n"
      ],
      "text/plain": [
       "[syft.service.api.api.TwinAPIEndpointView]"
      ]
     },
     "execution_count": 38,
     "metadata": {},
     "output_type": "execute_result"
    }
   ],
   "source": [
    "jimmy_client.api.services.api.api_endpoints()"
   ]
  },
  {
   "cell_type": "code",
   "execution_count": 39,
   "id": "3270105c-d357-4196-aac3-a0f92cf1908d",
   "metadata": {},
   "outputs": [
    {
     "name": "stdout",
     "output_type": "stream",
     "text": [
      "INFO:     127.0.0.1:52323 - \"POST /api/v2/api_call HTTP/1.1\" 200 OK\n"
     ]
    },
    {
     "data": {
      "text/html": [
       "{&#x27;prediction&#x27;: &quot;Prompt:\\nwhere am i\\nOutput:\\n?\\n\\nI&#x27;m in the middle of a 1000 mile road trip and I&#x27;m wondering if I&#x27;m in the right place.\\n\\nI&#x27;m in the middle of a 1000 mile road trip and&quot;}"
      ],
      "text/plain": [
       "{'prediction': \"Prompt:\\nwhere am i\\nOutput:\\n?\\n\\nI'm in the middle of a 1000 mile road trip and I'm wondering if I'm in the right place.\\n\\nI'm in the middle of a 1000 mile road trip and\"}"
      ]
     },
     "execution_count": 39,
     "metadata": {},
     "output_type": "execute_result"
    },
    {
     "name": "stdout",
     "output_type": "stream",
     "text": [
      "Logged into <test-domain-1: High side Domain > as GUEST\n",
      "where am i\n",
      "50\n",
      "0.1\n",
      "1.0\n",
      "1\n",
      "False\n"
     ]
    }
   ],
   "source": [
    "jimmy_client.api.services.vertex.run(prompt=\"where am i\")"
   ]
  },
  {
   "cell_type": "code",
   "execution_count": null,
   "id": "3a6e0e08-5f6d-44cd-8bf3-d561f0c9d8a4",
   "metadata": {},
   "outputs": [],
   "source": [
    "assert False"
   ]
  },
  {
   "cell_type": "code",
   "execution_count": null,
   "id": "0aae168c-87d0-44f5-9833-a9edd87ba83f",
   "metadata": {},
   "outputs": [],
   "source": []
  },
  {
   "cell_type": "code",
   "execution_count": null,
   "id": "f0bd794b-67f6-4156-8b0d-3308d458dd46",
   "metadata": {},
   "outputs": [],
   "source": [
    "# jimmy_client.api.services.vertex.run(prompt=\"test\", raw_response=True)"
   ]
  },
  {
   "cell_type": "markdown",
   "id": "1f9b751a-236e-4b30-bbc4-8010aa182e36",
   "metadata": {},
   "source": [
    "## Create Input Policy"
   ]
  },
  {
   "cell_type": "code",
   "execution_count": null,
   "id": "ca84b3dc-4c7b-4a94-aa14-9adf32d2ab8c",
   "metadata": {},
   "outputs": [],
   "source": [
    "domain_client.refresh()"
   ]
  },
  {
   "cell_type": "code",
   "execution_count": null,
   "id": "eec55ac8-43d3-4aa6-b8af-b33a9bfe6764",
   "metadata": {},
   "outputs": [],
   "source": [
    "domain_client.api.services.vertex.run.private(prompt=\"hello\")"
   ]
  },
  {
   "cell_type": "code",
   "execution_count": null,
   "id": "15f61a0c-3d7f-48b9-af43-2da5578a9fe8",
   "metadata": {},
   "outputs": [],
   "source": [
    "input_policy = sy.MixedInputPolicy(\n",
    "    func=jimmy_client.api.services.vertex.run,\n",
    "    prompt=str,\n",
    "    max_tokens=int,\n",
    "    temperature=float,\n",
    "    top_p=float,\n",
    "    top_k=int,\n",
    "    raw_response=bool,\n",
    ")\n",
    "input_policy"
   ]
  },
  {
   "cell_type": "markdown",
   "id": "2f4f7d0a-2dd6-484d-8724-9c62cb08ef6b",
   "metadata": {},
   "source": [
    "## Create Output Policy"
   ]
  },
  {
   "cell_type": "code",
   "execution_count": null,
   "id": "49be96ea-b361-4c4d-9d8f-6c230d058584",
   "metadata": {},
   "outputs": [],
   "source": [
    "class RateLimiter(sy.CustomOutputPolicy):\n",
    "    n_calls: int = 0\n",
    "    downloadable_output_args: list[str] = []\n",
    "    state: dict = {}\n",
    "\n",
    "    def __init__(self, n_calls=1, downloadable_output_args: list[str] = None):\n",
    "        self.downloadable_output_args = (\n",
    "            downloadable_output_args if downloadable_output_args is not None else []\n",
    "        )\n",
    "        self.n_calls = n_calls\n",
    "        self.state = {\"counts\": 0}\n",
    "\n",
    "    def public_state(self):\n",
    "        return self.state[\"counts\"]\n",
    "\n",
    "    def update_policy(self, context, outputs):\n",
    "        self.state[\"counts\"] += 1\n",
    "\n",
    "    def apply_to_output(self, context, outputs, update_policy=True):\n",
    "        if hasattr(outputs, \"syft_action_data\"):\n",
    "            outputs = outputs.syft_action_data\n",
    "        output_dict = {}\n",
    "        if self.state[\"counts\"] < self.n_calls:\n",
    "            for output_arg in self.downloadable_output_args:\n",
    "                output_dict[output_arg] = outputs[output_arg]\n",
    "            if update_policy:\n",
    "                self.update_policy(context, outputs)\n",
    "        else:\n",
    "            return \"You've hit the rate limit. Please contact the administrator.\"\n",
    "\n",
    "        output_dict[\"calls_remaining\"] = self.n_calls - self.state[\"counts\"]\n",
    "        return output_dict\n",
    "\n",
    "    def _is_valid(self, context):\n",
    "        return self.state[\"counts\"] < self.n_calls"
   ]
  },
  {
   "cell_type": "code",
   "execution_count": null,
   "id": "6671d5be-55e1-4c8a-bde5-113ad71b5abd",
   "metadata": {},
   "outputs": [],
   "source": [
    "@sy.syft_function(\n",
    "    input_policy=input_policy,\n",
    "    output_policy=RateLimiter(n_calls=3, downloadable_output_args=[\"prediction\"]),\n",
    ")\n",
    "def my_vertex_func(\n",
    "    func,\n",
    "    prompt: str,\n",
    "    max_tokens: int = 50,\n",
    "    temperature: float = 0.1,\n",
    "    top_p: float = 1.0,\n",
    "    top_k: int = 1,\n",
    "    raw_response: bool = False,\n",
    "):\n",
    "    return func(\n",
    "        prompt=prompt,\n",
    "        max_tokens=max_tokens,\n",
    "        temperature=temperature,\n",
    "        top_p=top_p,\n",
    "        top_k=top_k,\n",
    "        raw_response=raw_response,\n",
    "    )"
   ]
  },
  {
   "cell_type": "code",
   "execution_count": null,
   "id": "7c2d3075-65eb-4032-a025-22e0d0b3d948",
   "metadata": {},
   "outputs": [],
   "source": [
    "my_vertex_func"
   ]
  },
  {
   "cell_type": "code",
   "execution_count": null,
   "id": "94ffa91f-ebdc-4039-b345-d07c3e1e9d83",
   "metadata": {},
   "outputs": [],
   "source": [
    "## TODO: Local Execution doesn't work"
   ]
  },
  {
   "cell_type": "code",
   "execution_count": null,
   "id": "c74a8193-2565-4dc4-a63d-b9349161cc28",
   "metadata": {},
   "outputs": [],
   "source": [
    "# @sy.syft_function()\n",
    "#     input_policy=input_policy,\n",
    "#     output_policy=RateLimiter(n_calls=3, downloadable_output_args=[\"prediction\"]),\n",
    "# )\n",
    "# def my_vertex_func(\n",
    "#     func,\n",
    "#     prompt: str,\n",
    "#     max_tokens: int,\n",
    "#     temperature: float,\n",
    "#     top_p: float,\n",
    "#     top_k: int,\n",
    "#     raw_response: bool\n",
    "# ):\n",
    "#     return func(\n",
    "#         prompt=prompt,\n",
    "#         max_tokens=max_tokens,\n",
    "#         temperature=temperature,\n",
    "#         top_p=top_p,\n",
    "#         top_k=top_k,\n",
    "#         raw_response=raw_response\n",
    "#     )"
   ]
  },
  {
   "cell_type": "code",
   "execution_count": null,
   "id": "4c99074a-a75d-4f17-904d-05daf761fbb4",
   "metadata": {},
   "outputs": [],
   "source": [
    "# my_vertex_func(func=jimmy_client.api.services.vertex.run, prompt=\"my prompt\")"
   ]
  },
  {
   "cell_type": "code",
   "execution_count": null,
   "id": "58691c63-a40b-4295-b26c-1a390cc624df",
   "metadata": {},
   "outputs": [],
   "source": [
    "## TODO: this would be handy"
   ]
  },
  {
   "cell_type": "code",
   "execution_count": null,
   "id": "5309dda0-baa5-41bf-8933-5b69445fb443",
   "metadata": {},
   "outputs": [],
   "source": [
    "# def test_func(*args, **kwargs):\n",
    "#     print(kwargs)\n",
    "#     return {\"prediction\": f\"Test API: {kwargs['prompt']}\"}"
   ]
  },
  {
   "cell_type": "code",
   "execution_count": null,
   "id": "89cb4ee2-8c3c-4f1f-b08a-4e4652b068ce",
   "metadata": {},
   "outputs": [],
   "source": [
    "# my_vertex_func(func=test_func, prompt=\"my prompt\")"
   ]
  },
  {
   "cell_type": "code",
   "execution_count": null,
   "id": "af39b60a-2ef9-4692-8106-8b349b01829c",
   "metadata": {},
   "outputs": [],
   "source": [
    "# assert False"
   ]
  },
  {
   "cell_type": "code",
   "execution_count": null,
   "id": "8c4116ff-22b6-44b7-96b2-7bc3b861753a",
   "metadata": {},
   "outputs": [],
   "source": [
    "new_project = sy.Project(\n",
    "    name=\"Vertex Model Access\",\n",
    "    description=\"Hi, I want to use this model 3 times\",\n",
    "    members=[jimmy_client],\n",
    ")\n",
    "\n",
    "new_project.create_code_request(my_vertex_func, jimmy_client)"
   ]
  },
  {
   "cell_type": "markdown",
   "id": "a1366087-7ab1-4bed-b21a-ba2ec99fa657",
   "metadata": {},
   "source": [
    "## Admin approves"
   ]
  },
  {
   "cell_type": "code",
   "execution_count": null,
   "id": "501348e1-436b-4fc5-81e6-f868cad4899c",
   "metadata": {},
   "outputs": [],
   "source": [
    "domain_client.requests"
   ]
  },
  {
   "cell_type": "code",
   "execution_count": null,
   "id": "8d66132b-6386-4afd-907b-07f5af827b45",
   "metadata": {},
   "outputs": [],
   "source": [
    "request = domain_client.requests[-1]\n",
    "request"
   ]
  },
  {
   "cell_type": "code",
   "execution_count": null,
   "id": "2ab1beb3-3c7b-4b86-9e53-0cdc3d237d2e",
   "metadata": {},
   "outputs": [],
   "source": [
    "request.approve()"
   ]
  },
  {
   "cell_type": "markdown",
   "id": "1a3bc882-1f98-4479-a114-7f38eb5c4043",
   "metadata": {},
   "source": [
    "## Data Scientist runs"
   ]
  },
  {
   "cell_type": "code",
   "execution_count": null,
   "id": "ef126cbf-286e-4220-96e9-8bfaabd744aa",
   "metadata": {},
   "outputs": [],
   "source": [
    "jimmy_client.refresh()"
   ]
  },
  {
   "cell_type": "code",
   "execution_count": null,
   "id": "193b88cb-7d77-4ea0-905d-48a4b56acfdf",
   "metadata": {},
   "outputs": [],
   "source": [
    "jimmy_client.code.my_vertex_func"
   ]
  },
  {
   "cell_type": "code",
   "execution_count": null,
   "id": "f0189feb-0c59-40d5-afcf-8b420a569afa",
   "metadata": {},
   "outputs": [],
   "source": [
    "jimmy_client.api.services.vertex.run.custom_function_actionobject_id()"
   ]
  },
  {
   "cell_type": "code",
   "execution_count": null,
   "id": "e5822ba6-4647-4f74-bbe9-07cd8192a40b",
   "metadata": {},
   "outputs": [],
   "source": [
    "result = jimmy_client.code.my_vertex_func(\n",
    "    func=jimmy_client.api.services.vertex.run,\n",
    "    prompt=\"Who are you now?\",\n",
    "    max_tokens=50,\n",
    "    temperature=0.1,\n",
    "    top_p=1.0,\n",
    "    top_k=1,\n",
    "    raw_response=False,\n",
    ")\n",
    "result"
   ]
  },
  {
   "cell_type": "code",
   "execution_count": null,
   "id": "7137310f-d74f-46c8-982e-0383c6dd696c",
   "metadata": {},
   "outputs": [],
   "source": [
    "result = jimmy_client.code.my_vertex_func(\n",
    "    func=jimmy_client.api.services.vertex.run,\n",
    "    prompt=\"Who are you now?\",\n",
    "    max_tokens=50,\n",
    "    temperature=0.1,\n",
    "    top_p=1.0,\n",
    "    top_k=1,\n",
    "    raw_response=False,\n",
    ")\n",
    "result"
   ]
  },
  {
   "cell_type": "code",
   "execution_count": null,
   "id": "34a3999f-c31a-43f1-8b13-60a5a98e83b3",
   "metadata": {},
   "outputs": [],
   "source": [
    "result = jimmy_client.code.my_vertex_func(\n",
    "    func=jimmy_client.api.services.vertex.run,\n",
    "    prompt=\"Who are you now?\",\n",
    "    max_tokens=50,\n",
    "    temperature=0.1,\n",
    "    top_p=1.0,\n",
    "    top_k=1,\n",
    "    raw_response=False,\n",
    ")\n",
    "result"
   ]
  },
  {
   "cell_type": "code",
   "execution_count": null,
   "id": "112443fe-5246-4746-950e-c265d22ae3a2",
   "metadata": {},
   "outputs": [],
   "source": [
    "result = jimmy_client.code.my_vertex_func(\n",
    "    func=jimmy_client.api.services.vertex.run,\n",
    "    prompt=\"Who are you now?\",\n",
    "    max_tokens=50,\n",
    "    temperature=0.1,\n",
    "    top_p=1.0,\n",
    "    top_k=1,\n",
    "    raw_response=False,\n",
    ")\n",
    "result"
   ]
  },
  {
   "cell_type": "markdown",
   "id": "0a73ad14-7cc7-4103-abdc-5631f74d9df3",
   "metadata": {},
   "source": [
    "## Advanced"
   ]
  },
  {
   "cell_type": "code",
   "execution_count": null,
   "id": "1f6aca7f-433c-4c9b-b184-62fb768e5b1e",
   "metadata": {},
   "outputs": [],
   "source": [
    "# assert False"
   ]
  },
  {
   "cell_type": "code",
   "execution_count": null,
   "id": "f1c29ad7-3965-433d-b7c4-dd6511690cc4",
   "metadata": {},
   "outputs": [],
   "source": [
    "# Allow api endpoint code to generate a policy and code submission object"
   ]
  },
  {
   "cell_type": "code",
   "execution_count": null,
   "id": "96dc062d-9884-4db4-893d-cc1003cb9ab0",
   "metadata": {},
   "outputs": [],
   "source": [
    "domain_client.refresh()"
   ]
  },
  {
   "cell_type": "code",
   "execution_count": null,
   "id": "ebe097fd-99f4-4969-bc77-f04b2bb1da40",
   "metadata": {},
   "outputs": [],
   "source": [
    "@sy.private_api_endpoint()\n",
    "def private_user_function_creator(\n",
    "    context, func_name: str, limit: int, reason: str\n",
    ") -> str:\n",
    "    # syft absolute\n",
    "    import syft as sy\n",
    "\n",
    "    view_api = context.node.get_service_method(\"apiservice.view\")\n",
    "    api = view_api(context=context, path=\"vertex.run\")\n",
    "\n",
    "    # create input policy\n",
    "    input_policy = sy.MixedInputPolicy(\n",
    "        func=api.action_object_id,\n",
    "        prompt=str,\n",
    "        max_tokens=int,\n",
    "        temperature=float,\n",
    "        top_p=float,\n",
    "        top_k=int,\n",
    "        raw_response=bool,\n",
    "    )\n",
    "\n",
    "    output_policy = sy.OutputPolicyExecuteCount(limit=limit)\n",
    "\n",
    "    my_vertex_func = sy.syft_function_string(\n",
    "        input_policy=input_policy,\n",
    "        output_policy=output_policy,\n",
    "        raw_code=f\"\"\"\n",
    "def {func_name}(\n",
    "    func,\n",
    "    prompt: str,\n",
    "    max_tokens: int = 50,\n",
    "    temperature: float = 0.1,\n",
    "    top_p: float = 1.0,\n",
    "    top_k: int = 1,\n",
    "    raw_response: bool = False,\n",
    "):\n",
    "    return func(\n",
    "        prompt=prompt,\n",
    "        max_tokens=max_tokens,\n",
    "        temperature=temperature,\n",
    "        top_p=top_p,\n",
    "        top_k=top_k,\n",
    "        raw_response=raw_response,\n",
    "    )\n",
    "\"\"\",\n",
    "    )\n",
    "\n",
    "    new_project = sy.Project(\n",
    "        name=\"Vertex Model Access\",\n",
    "        description=reason,\n",
    "        members=[context.client],\n",
    "    )\n",
    "\n",
    "    result = new_project.create_code_request(my_vertex_func, context.client)\n",
    "    return result"
   ]
  },
  {
   "cell_type": "code",
   "execution_count": null,
   "id": "ee53e5a1-2f56-43e0-9523-1ac27e669ed5",
   "metadata": {},
   "outputs": [],
   "source": []
  },
  {
   "cell_type": "code",
   "execution_count": null,
   "id": "f0aa6611-66d2-4b0b-a9c3-a2b7f53164e8",
   "metadata": {},
   "outputs": [],
   "source": [
    "creator_endpoint = sy.TwinAPIEndpoint(\n",
    "    path=\"vertex.create_code_request\",\n",
    "    private_function=private_user_function_creator,\n",
    "    mock_function=private_user_function_creator.public(),\n",
    "    description=\"Create a vertex code request\",\n",
    ")\n",
    "creator_endpoint"
   ]
  },
  {
   "cell_type": "code",
   "execution_count": null,
   "id": "06ad54e6-81b9-4488-8301-50841b321e33",
   "metadata": {},
   "outputs": [],
   "source": [
    "response = domain_client.api.services.api.delete(\n",
    "    endpoint_path=\"vertex.create_code_request\"\n",
    ")\n",
    "response"
   ]
  },
  {
   "cell_type": "code",
   "execution_count": null,
   "id": "a62fd28e-4479-4856-b640-13fe478e5450",
   "metadata": {},
   "outputs": [],
   "source": [
    "response = domain_client.api.services.api.add(endpoint=creator_endpoint)\n",
    "response"
   ]
  },
  {
   "cell_type": "code",
   "execution_count": null,
   "id": "186bdb24-e419-488d-b5af-2ca6df34ad57",
   "metadata": {},
   "outputs": [],
   "source": [
    "# domain_client.refresh()"
   ]
  },
  {
   "cell_type": "code",
   "execution_count": null,
   "id": "e923d4bc-2dd4-4265-ae9e-9fd849eee72b",
   "metadata": {},
   "outputs": [],
   "source": [
    "# domain_client.api.services.vertex.create_code_request(func_name=\"test\", limit=2, reason=\"I want to run Vertex\")"
   ]
  },
  {
   "cell_type": "code",
   "execution_count": null,
   "id": "91065479-6603-42b5-a91e-67826c7f2e48",
   "metadata": {},
   "outputs": [],
   "source": [
    "jimmy_client.refresh()"
   ]
  },
  {
   "cell_type": "code",
   "execution_count": null,
   "id": "02db4fb3-f132-4944-b21f-e8d3ec2791b5",
   "metadata": {},
   "outputs": [],
   "source": [
    "jimmy_client.api.services.vertex.create_code_request(\n",
    "    func_name=\"test\", limit=2, reason=\"I want to run Vertex\"\n",
    ")"
   ]
  },
  {
   "cell_type": "code",
   "execution_count": null,
   "id": "b4b7583e-f577-4921-8dcb-348d6f906be4",
   "metadata": {},
   "outputs": [],
   "source": [
    "domain_client.requests"
   ]
  },
  {
   "cell_type": "code",
   "execution_count": null,
   "id": "3787418c-0a97-48f1-982f-de743b155034",
   "metadata": {},
   "outputs": [],
   "source": [
    "domain_client.requests[0].approve()"
   ]
  },
  {
   "cell_type": "code",
   "execution_count": null,
   "id": "c9336cb5-f8d0-4de0-bd1f-bdb87b3a0022",
   "metadata": {},
   "outputs": [],
   "source": [
    "# we need to make the RemoteFunction serializable andchange what comes back to the user side from the Admin API\n",
    "# or add a context.submit as user"
   ]
  },
  {
   "cell_type": "code",
   "execution_count": null,
   "id": "5a202c8d-7dda-42da-9046-f03a2a6b908e",
   "metadata": {},
   "outputs": [],
   "source": [
    "jimmy_client.refresh()"
   ]
  },
  {
   "cell_type": "code",
   "execution_count": null,
   "id": "11d699b4-344a-481d-a15a-0aba88370467",
   "metadata": {},
   "outputs": [],
   "source": [
    "# jimmy_client.code.test()"
   ]
  },
  {
   "cell_type": "code",
   "execution_count": null,
   "id": "28d71cbc-1b0d-4d13-a70b-da8b743a5295",
   "metadata": {},
   "outputs": [],
   "source": [
    "# assert False"
   ]
  },
  {
   "cell_type": "code",
   "execution_count": null,
   "id": "b65c5a35-2131-4042-bcd1-a1724f909ff9",
   "metadata": {},
   "outputs": [],
   "source": [
    "result = jimmy_client.code.test(\n",
    "    func=jimmy_client.api.services.vertex.run,\n",
    "    prompt=\"How cool is OpenMined!!!?\",\n",
    "    max_tokens=50,\n",
    "    temperature=0.1,\n",
    "    top_p=1.0,\n",
    "    top_k=1,\n",
    "    raw_response=False,\n",
    ")\n",
    "result"
   ]
  },
  {
   "cell_type": "code",
   "execution_count": null,
   "id": "2381d4b2-a687-4a67-aa93-7740c4a04d15",
   "metadata": {},
   "outputs": [],
   "source": [
    "result = jimmy_client.code.test(\n",
    "    func=jimmy_client.api.services.vertex.run,\n",
    "    prompt=\"How cool is OpenMined!!!?\",\n",
    "    max_tokens=50,\n",
    "    temperature=0.1,\n",
    "    top_p=1.0,\n",
    "    top_k=1,\n",
    "    raw_response=False,\n",
    ")\n",
    "result"
   ]
  },
  {
   "cell_type": "code",
   "execution_count": null,
   "id": "89be5f7d-7b87-44c8-a571-32908dfae554",
   "metadata": {},
   "outputs": [],
   "source": [
    "result = jimmy_client.code.test(\n",
    "    func=jimmy_client.api.services.vertex.run,\n",
    "    prompt=\"How cool is OpenMined!!!?\",\n",
    "    max_tokens=50,\n",
    "    temperature=0.1,\n",
    "    top_p=1.0,\n",
    "    top_k=1,\n",
    "    raw_response=False,\n",
    ")\n",
    "result"
   ]
  },
  {
   "cell_type": "code",
   "execution_count": null,
   "id": "3e14b75c-83d3-4012-94ca-a2b1b4395842",
   "metadata": {},
   "outputs": [],
   "source": []
  },
  {
   "cell_type": "code",
   "execution_count": null,
   "id": "7501e678-621d-4912-9ff5-56715568a650",
   "metadata": {},
   "outputs": [],
   "source": []
  }
 ],
 "metadata": {
  "kernelspec": {
   "display_name": "Python 3 (ipykernel)",
   "language": "python",
   "name": "python3"
  },
  "language_info": {
   "codemirror_mode": {
    "name": "ipython",
    "version": 3
   },
   "file_extension": ".py",
   "mimetype": "text/x-python",
   "name": "python",
   "nbconvert_exporter": "python",
   "pygments_lexer": "ipython3",
   "version": "3.12.2"
  },
  "toc": {
   "base_numbering": 1,
   "nav_menu": {},
   "number_sections": true,
   "sideBar": true,
   "skip_h1_title": false,
   "title_cell": "Table of Contents",
   "title_sidebar": "Contents",
   "toc_cell": false,
   "toc_position": {},
   "toc_section_display": true,
   "toc_window_display": true
  }
 },
 "nbformat": 4,
 "nbformat_minor": 5
}
