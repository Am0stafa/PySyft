{
 "cells": [
  {
   "cell_type": "markdown",
   "id": "259c819e-b3e8-40dd-b389-3a0fb070b188",
   "metadata": {},
   "source": [
    "# First Login"
   ]
  },
  {
   "cell_type": "code",
   "execution_count": null,
   "id": "ae1e8a37-3cba-4cf7-95c1-b2ae499798b6",
   "metadata": {},
   "outputs": [],
   "source": [
    "# syft absolute\n",
    "import syft as sy"
   ]
  },
  {
   "cell_type": "code",
   "execution_count": null,
   "id": "26b740ea-c381-437c-ad64-70675e84d713",
   "metadata": {},
   "outputs": [],
   "source": [
    "node = sy.orchestra.launch(\n",
    "    name=\"test-domain-1\",\n",
    "    port=\"auto\",\n",
    "    dev_mode=True,\n",
    "    reset=True,\n",
    "    n_consumers=1,\n",
    "    create_producer=True,\n",
    ")\n",
    "domain_client = node.login(email=\"info@openmined.org\", password=\"changethis\")"
   ]
  },
  {
   "cell_type": "markdown",
   "id": "eadde467-2faf-4b3d-811d-c24bfd48f30b",
   "metadata": {},
   "source": [
    "# Modify Admin User/Password"
   ]
  },
  {
   "cell_type": "code",
   "execution_count": null,
   "id": "7b850cef-46c2-469b-bbc1-862859a1f168",
   "metadata": {},
   "outputs": [],
   "source": [
    "user = domain_client.me\n",
    "user"
   ]
  },
  {
   "cell_type": "code",
   "execution_count": null,
   "id": "4600c91d-9f04-4fda-b88f-1ac8df6c3fb0",
   "metadata": {},
   "outputs": [],
   "source": [
    "user.set_password(new_password=\"test\", confirm=False)"
   ]
  },
  {
   "cell_type": "code",
   "execution_count": null,
   "id": "964d652f-4c35-4a7f-ba36-ff0fb8a9363d",
   "metadata": {},
   "outputs": [],
   "source": [
    "domain_client = node.login(email=\"info@openmined.org\", password=\"changethis\")\n",
    "domain_client"
   ]
  },
  {
   "cell_type": "code",
   "execution_count": null,
   "id": "8a487165-767c-459d-bc19-880f14d4b123",
   "metadata": {},
   "outputs": [],
   "source": [
    "domain_client = node.login(email=\"info@openmined.org\", password=\"test\")\n",
    "domain_client"
   ]
  },
  {
   "cell_type": "markdown",
   "id": "fd403bef-b66f-4533-a7b2-7f6bc34b0f90",
   "metadata": {},
   "source": [
    "# Create Adapter to Vertex"
   ]
  },
  {
   "cell_type": "code",
   "execution_count": null,
   "id": "270d3c02-ae34-46f4-8160-2691022505bc",
   "metadata": {},
   "outputs": [],
   "source": [
    "PRIVATE_KEY = \"\""
   ]
  },
  {
   "cell_type": "code",
   "execution_count": null,
   "id": "88763a18-a41d-4eac-b668-7269d9110734",
   "metadata": {},
   "outputs": [],
   "source": [
    "SERVICE_ACCOUNT = {\n",
    "    \"type\": \"service_account\",\n",
    "    \"project_id\": \"project-enigma-415021\",\n",
    "    \"private_key_id\": \"0bd7cdd831f456f905fa98ad570740948bf7b7b9\",\n",
    "    \"private_key\": PRIVATE_KEY,\n",
    "    \"client_email\": \"vertex-test@project-enigma-415021.iam.gserviceaccount.com\",\n",
    "    \"client_id\": \"113559790781665979367\",\n",
    "    \"auth_uri\": \"https://accounts.google.com/o/oauth2/auth\",\n",
    "    \"token_uri\": \"https://oauth2.googleapis.com/token\",\n",
    "    \"auth_provider_x509_cert_url\": \"https://www.googleapis.com/oauth2/v1/certs\",\n",
    "    \"client_x509_cert_url\": \"https://www.googleapis.com/robot/v1/metadata/x509/vertex-test%40project-enigma-415021.iam.gserviceaccount.com\",\n",
    "    \"universe_domain\": \"googleapis.com\",\n",
    "}"
   ]
  },
  {
   "cell_type": "code",
   "execution_count": null,
   "id": "a3cbf75e-322d-4e80-9c64-2a653dd7a4a6",
   "metadata": {},
   "outputs": [],
   "source": [
    "def rate_limit(user_email: str, api_state: dict, user_settings: dict):\n",
    "    # stdlib\n",
    "    import time\n",
    "\n",
    "    # syft absolute\n",
    "    import syft as sy\n",
    "\n",
    "    def filter_history(call_history: dict, period_secs: int) -> None:\n",
    "        now = time.time()\n",
    "        filtered_call_history = {}\n",
    "        for execution_time_str, call_item in call_history.items():\n",
    "            execution_time = float(execution_time_str)\n",
    "\n",
    "            diff = now - execution_time\n",
    "            if diff > period_secs:\n",
    "                # it has expired so trim\n",
    "                pass\n",
    "            else:\n",
    "                filtered_call_history[execution_time] = call_item\n",
    "        return filtered_call_history\n",
    "\n",
    "    def add_call_history(call_history: dict | None) -> None:\n",
    "        if call_history is None:\n",
    "            call_history = {}\n",
    "        now = time.time()\n",
    "        call_history[str(now)] = True\n",
    "        return call_history\n",
    "\n",
    "    def is_valid(call_history: dict, n_calls: int, period_secs: int):\n",
    "        if call_history is None:\n",
    "            call_history = {}\n",
    "        if len(call_history) >= n_calls:\n",
    "            # syft absolute\n",
    "            import syft as sy\n",
    "\n",
    "            return sy.SyftError(\n",
    "                message=f\"You have hit the rate limit of {n_calls} calls in {period_secs} seconds.\"\n",
    "            )\n",
    "        return True\n",
    "\n",
    "    # get user_state\n",
    "    user_state = api_state.get(user_email, {})\n",
    "\n",
    "    if user_email not in user_settings:\n",
    "        valid = sy.SyftError(\n",
    "            message=f\"Email {user_email} is not allowed to use this API Endpoint.\"\n",
    "        )\n",
    "        return user_state, valid\n",
    "\n",
    "    # get settings for user\n",
    "    settings = user_settings.get(user_email, {})\n",
    "    n_calls = settings.get(\"n_calls\", 3)  # defaults\n",
    "    period_secs = settings.get(\"period_secs\", 60)  # defaults\n",
    "\n",
    "    # filter old calls\n",
    "    user_state = filter_history(call_history=user_state, period_secs=period_secs)\n",
    "\n",
    "    # check if its still valid\n",
    "    valid = is_valid(call_history=user_state, n_calls=n_calls, period_secs=period_secs)\n",
    "\n",
    "    if valid:\n",
    "        # record a call if we are allowed\n",
    "        user_state = add_call_history(call_history=user_state)\n",
    "\n",
    "    return user_state, valid"
   ]
  },
  {
   "cell_type": "code",
   "execution_count": null,
   "id": "95833d79-f587-465c-a971-712bba519774",
   "metadata": {},
   "outputs": [],
   "source": [
    "user_settings = {\n",
    "    \"paul@arrakis.net\": {\"n_calls\": 1, \"period_secs\": 10},\n",
    "    \"info@openmined.org\": {\"n_calls\": 1, \"period_secs\": 10},\n",
    "}"
   ]
  },
  {
   "cell_type": "code",
   "execution_count": null,
   "id": "637be4aa-e8a0-4be8-a61a-3aa51c2db48e",
   "metadata": {},
   "outputs": [],
   "source": [
    "@sy.api_endpoint(\n",
    "    path=\"vertex.run\",\n",
    "    settings={\"SERVICE_ACCOUNT\": SERVICE_ACCOUNT, \"user_settings\": user_settings},\n",
    "    helper_functions=[rate_limit],\n",
    ")\n",
    "def public_endpoint_method(\n",
    "    context,\n",
    "    prompt: str,\n",
    "    max_tokens: int = 50,\n",
    "    temperature: float = 0.1,\n",
    "    top_p: float = 1.0,\n",
    "    top_k: int = 1,\n",
    "    raw_response: bool = False,\n",
    ") -> str:\n",
    "    # syft absolute\n",
    "    import syft as sy\n",
    "\n",
    "    # get helper function\n",
    "    rate_limit = context.code.helper_functions[\"rate_limit\"]\n",
    "    user_settings = context.settings[\"user_settings\"]\n",
    "    user_email = context.user_view.email\n",
    "\n",
    "    # apply rate limiter\n",
    "    user_state, valid = rate_limit(\n",
    "        user_email=user_email, api_state=context.state, user_settings=user_settings\n",
    "    )\n",
    "\n",
    "    # update state\n",
    "    context.state[user_email] = user_state\n",
    "\n",
    "    # if context.user_view.role != sy.ServiceRole.ADMIN and not valid:\n",
    "    if not valid:\n",
    "        # send back error message\n",
    "        return valid\n",
    "\n",
    "    # run code\n",
    "    # third party\n",
    "    from google.cloud import aiplatform\n",
    "    from google.oauth2 import service_account\n",
    "\n",
    "    try:\n",
    "        credentials = service_account.Credentials.from_service_account_info(\n",
    "            context.settings[\"SERVICE_ACCOUNT\"]\n",
    "        )\n",
    "\n",
    "        PROJECT_ID = \"project-enigma-415021\"\n",
    "        REGION = \"us-west1\"\n",
    "        ENDPOINT_ID = \"3213239169291649024\"\n",
    "        aip_endpoint_name = (\n",
    "            f\"projects/{PROJECT_ID}/locations/{REGION}/endpoints/{ENDPOINT_ID}\"\n",
    "        )\n",
    "        endpoint_vllm = aiplatform.Endpoint(aip_endpoint_name, credentials=credentials)\n",
    "        default_kwargs = {\n",
    "            \"prompt\": prompt,\n",
    "            \"max_tokens\": max_tokens,\n",
    "            \"temperature\": temperature,\n",
    "            \"top_p\": top_p,\n",
    "            \"top_k\": top_k,\n",
    "            \"raw_response\": raw_response,\n",
    "        }\n",
    "        instances = [\n",
    "            default_kwargs,\n",
    "        ]\n",
    "        response = endpoint_vllm.predict(instances=instances)\n",
    "        prediction = response.predictions[0]\n",
    "    except Exception as e:\n",
    "        prediction = f\"Error: Please try again? {e}\"\n",
    "    return {\"prediction\": prediction}"
   ]
  },
  {
   "cell_type": "code",
   "execution_count": null,
   "id": "baf5e722-7f6b-4ee0-9a49-fe389120dd81",
   "metadata": {},
   "outputs": [],
   "source": [
    "# use to delete if you want to add again (there is a seperate update API)\n",
    "domain_client.api.services.api.delete(endpoint_path=\"vertex.run\")"
   ]
  },
  {
   "cell_type": "code",
   "execution_count": null,
   "id": "b5b2463f-8e38-40fa-a307-66efedc9301e",
   "metadata": {},
   "outputs": [],
   "source": [
    "domain_client.api.services.api.add(endpoint=public_endpoint_method)"
   ]
  },
  {
   "cell_type": "code",
   "execution_count": null,
   "id": "3a7e1f2a-ca77-4066-851f-2b28f1a50192",
   "metadata": {},
   "outputs": [],
   "source": [
    "# test"
   ]
  },
  {
   "cell_type": "code",
   "execution_count": null,
   "id": "df7c5881-158c-42a4-80e0-385bffa03f33",
   "metadata": {},
   "outputs": [],
   "source": [
    "domain_client.refresh()"
   ]
  },
  {
   "cell_type": "code",
   "execution_count": null,
   "id": "b454fd8f-da22-42e7-b0a3-ed7d04b03c74",
   "metadata": {},
   "outputs": [],
   "source": [
    "domain_client.api.services.vertex.run(prompt=\"hello\")"
   ]
  },
  {
   "cell_type": "code",
   "execution_count": null,
   "id": "b3b8be3a-cff2-4c54-827c-7276cda57569",
   "metadata": {},
   "outputs": [],
   "source": [
    "domain_client.api.services.vertex.run(prompt=\"hello\")"
   ]
  },
  {
   "cell_type": "code",
   "execution_count": null,
   "id": "27154d25-7845-4336-b2db-ce6578f49de1",
   "metadata": {},
   "outputs": [],
   "source": [
    "domain_client.api.services.vertex.run(prompt=\"hello\")"
   ]
  },
  {
   "cell_type": "code",
   "execution_count": null,
   "id": "80b8020e-5363-49bf-9488-23000cfc8adb",
   "metadata": {},
   "outputs": [],
   "source": [
    "assert False"
   ]
  },
  {
   "cell_type": "code",
   "execution_count": null,
   "id": "20651847-3afa-4bca-b4de-b6335f3ecef8",
   "metadata": {},
   "outputs": [],
   "source": []
  },
  {
   "cell_type": "code",
   "execution_count": null,
   "id": "203277d4-6965-45ad-b00b-7e2e2b745ca5",
   "metadata": {},
   "outputs": [],
   "source": []
  },
  {
   "cell_type": "code",
   "execution_count": null,
   "id": "b3c3ab94-a9a2-4079-ba9c-8e83dd2f64e6",
   "metadata": {},
   "outputs": [],
   "source": [
    "api_endpoint = domain_client.api.services.api.get(api_path=\"vertex.run\")\n",
    "api_endpoint"
   ]
  },
  {
   "cell_type": "code",
   "execution_count": null,
   "id": "11508895-3f3a-485f-ad99-9b6ef1c6599a",
   "metadata": {},
   "outputs": [],
   "source": [
    "api_endpoint.mock_function.state"
   ]
  },
  {
   "cell_type": "code",
   "execution_count": null,
   "id": "46701a50-fdb4-4ec6-83a9-d33e921c0bcf",
   "metadata": {},
   "outputs": [],
   "source": [
    "# api_endpoint.mock_function.settings"
   ]
  },
  {
   "cell_type": "code",
   "execution_count": null,
   "id": "72667ba4-3b11-43f5-8032-2249f24b01a6",
   "metadata": {},
   "outputs": [],
   "source": []
  },
  {
   "cell_type": "markdown",
   "id": "463cc1f0-85f7-4141-b7a4-35c9f303072b",
   "metadata": {},
   "source": [
    "# Create Rate Limit Updater"
   ]
  },
  {
   "cell_type": "code",
   "execution_count": null,
   "id": "7fcd3334-8dbb-4218-94f4-fc8527e53b03",
   "metadata": {},
   "outputs": [],
   "source": [
    "assert False"
   ]
  },
  {
   "cell_type": "code",
   "execution_count": null,
   "id": "3d5166a7-2dba-4d5f-b0dd-902ecdbbeabc",
   "metadata": {},
   "outputs": [],
   "source": [
    "# TODO"
   ]
  },
  {
   "cell_type": "code",
   "execution_count": null,
   "id": "35722291-a350-4bf7-951e-43958727d8f6",
   "metadata": {},
   "outputs": [],
   "source": [
    "# Cleanup local domain server\n",
    "if node.node_type.value == \"python\":\n",
    "    node.land()"
   ]
  },
  {
   "cell_type": "code",
   "execution_count": null,
   "id": "9cb2c27c-68a0-48ea-885a-1620a8199e95",
   "metadata": {},
   "outputs": [],
   "source": []
  }
 ],
 "metadata": {
  "kernelspec": {
   "display_name": "Python 3 (ipykernel)",
   "language": "python",
   "name": "python3"
  },
  "language_info": {
   "codemirror_mode": {
    "name": "ipython",
    "version": 3
   },
   "file_extension": ".py",
   "mimetype": "text/x-python",
   "name": "python",
   "nbconvert_exporter": "python",
   "pygments_lexer": "ipython3",
   "version": "3.12.2"
  }
 },
 "nbformat": 4,
 "nbformat_minor": 5
}
