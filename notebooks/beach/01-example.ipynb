{
 "cells": [
  {
   "cell_type": "code",
   "execution_count": null,
   "id": "676a3465-1c2c-429a-a311-845d9b98f8de",
   "metadata": {},
   "outputs": [],
   "source": [
    "import syft as sy"
   ]
  },
  {
   "cell_type": "code",
   "execution_count": null,
   "id": "6809e1d8-f072-4402-ba1a-19e425803521",
   "metadata": {},
   "outputs": [],
   "source": [
    "node = sy.orchestra.launch(name=\"test-domain-1\", port=\"auto\", dev_mode=True, reset=True)"
   ]
  },
  {
   "cell_type": "markdown",
   "id": "130e2e81-43c0-454d-9b85-0e3e4f00ad4c",
   "metadata": {},
   "source": [
    "# Admin"
   ]
  },
  {
   "cell_type": "code",
   "execution_count": null,
   "id": "6fad1198-27f2-4359-bb64-5fd0d64c5570",
   "metadata": {},
   "outputs": [],
   "source": [
    "domain_client = node.login(email=\"info@openmined.org\", password=\"changethis\")"
   ]
  },
  {
   "cell_type": "code",
   "execution_count": null,
   "id": "c68e56e3-e51d-45c0-a855-3d8b2bbd060b",
   "metadata": {},
   "outputs": [],
   "source": [
    "PRIVATE_KEY = \"\""
   ]
  },
  {
   "cell_type": "code",
   "execution_count": null,
   "id": "74d3464c-b3d0-4574-b575-027857e58d4b",
   "metadata": {},
   "outputs": [],
   "source": [
    "SERVICE_ACCOUNT = {\n",
    "    \"type\": \"service_account\",\n",
    "    \"project_id\": \"project-enigma-415021\",\n",
    "    \"private_key_id\": \"0bd7cdd831f456f905fa98ad570740948bf7b7b9\",\n",
    "    \"private_key\": PRIVATE_KEY,\n",
    "    \"client_email\": \"vertex-test@project-enigma-415021.iam.gserviceaccount.com\",\n",
    "    \"client_id\": \"113559790781665979367\",\n",
    "    \"auth_uri\": \"https://accounts.google.com/o/oauth2/auth\",\n",
    "    \"token_uri\": \"https://oauth2.googleapis.com/token\",\n",
    "    \"auth_provider_x509_cert_url\": \"https://www.googleapis.com/oauth2/v1/certs\",\n",
    "    \"client_x509_cert_url\": \"https://www.googleapis.com/robot/v1/metadata/x509/vertex-test%40project-enigma-415021.iam.gserviceaccount.com\",\n",
    "    \"universe_domain\": \"googleapis.com\",\n",
    "}"
   ]
  },
  {
   "cell_type": "code",
   "execution_count": null,
   "id": "efba6064-83ec-47ef-9015-99fa9ae5c8fb",
   "metadata": {},
   "outputs": [],
   "source": [
    "@sy.mock_api_endpoint()\n",
    "def mock_run_vertex(\n",
    "    context,\n",
    "    prompt: str,\n",
    "    max_tokens: int,\n",
    "    temperature: float,\n",
    "    top_p: float,\n",
    "    top_k: int,\n",
    "    raw_response: bool\n",
    ") -> str:\n",
    "    if raw_response:\n",
    "        return {\"prediction\": \"You get back a raw result\"}\n",
    "    else:\n",
    "        return {\"prediction\": \"You get back a result\"}"
   ]
  },
  {
   "cell_type": "code",
   "execution_count": null,
   "id": "f644c5c1-be51-4a36-a7b2-fd303226eedd",
   "metadata": {},
   "outputs": [],
   "source": [
    "@sy.mock_api_endpoint(\n",
    "    settings={\"SERVICE_ACCOUNT\": SERVICE_ACCOUNT},\n",
    ")\n",
    "def private_run_vertex(\n",
    "    context,\n",
    "    prompt: str,\n",
    "    max_tokens: int,\n",
    "    temperature: float,\n",
    "    top_p: float,\n",
    "    top_k: int,\n",
    "    raw_response: bool,\n",
    ") -> str:\n",
    "    # third party\n",
    "    from google.cloud import aiplatform\n",
    "    from google.oauth2 import service_account\n",
    "    try:\n",
    "        credentials = service_account.Credentials.from_service_account_info(\n",
    "            context.settings[\"SERVICE_ACCOUNT\"]\n",
    "        )\n",
    "\n",
    "        PROJECT_ID = \"project-enigma-415021\"\n",
    "        REGION = \"us-west1\"\n",
    "        ENDPOINT_ID = \"3213239169291649024\"\n",
    "        aip_endpoint_name = (\n",
    "            f\"projects/{PROJECT_ID}/locations/{REGION}/endpoints/{ENDPOINT_ID}\"\n",
    "        )\n",
    "        endpoint_vllm = aiplatform.Endpoint(aip_endpoint_name, credentials=credentials)\n",
    "        default_kwargs = {\n",
    "            \"prompt\": prompt,\n",
    "            \"max_tokens\": max_tokens,\n",
    "            \"temperature\": temperature,\n",
    "            \"top_p\": top_p,\n",
    "            \"top_k\": top_k,\n",
    "            \"raw_response\": raw_response,\n",
    "        }\n",
    "        instances = [\n",
    "            default_kwargs,\n",
    "        ]\n",
    "        response = endpoint_vllm.predict(instances=instances)\n",
    "        prediction = response.predictions[0]\n",
    "\n",
    "    except Exception as e:\n",
    "        prediction = \"Error: Please try again?\"\n",
    "    return {\"prediction\": prediction}"
   ]
  },
  {
   "cell_type": "code",
   "execution_count": null,
   "id": "b5e7ab59-0ffa-40e1-91c8-9c8662cd6dcf",
   "metadata": {},
   "outputs": [],
   "source": [
    "new_endpoint = sy.TwinAPIEndpoint(\n",
    "    path=\"vertex.run\",\n",
    "    private_function=private_run_vertex,\n",
    "    mock_function=mock_run_vertex,\n",
    "    description=\"Run vertex model\",\n",
    ")\n",
    "domain_client.api.services.api.add(endpoint=new_endpoint)"
   ]
  },
  {
   "cell_type": "code",
   "execution_count": null,
   "id": "3c133136-01c1-43ca-ad58-9ca1e7d9b14d",
   "metadata": {},
   "outputs": [],
   "source": [
    "## Create Data Scientist"
   ]
  },
  {
   "cell_type": "code",
   "execution_count": null,
   "id": "8d9dbd4f-1030-4b8d-b169-1cd39ddae723",
   "metadata": {},
   "outputs": [],
   "source": [
    "domain_client.register(\n",
    "    name=\"Jane Doe\",\n",
    "    email=\"jane@caltech.edu\",\n",
    "    password=\"abc123\",\n",
    "    password_verify=\"abc123\",\n",
    "    institution=\"Caltech\",\n",
    "    website=\"https://www.caltech.edu/\",\n",
    ")"
   ]
  },
  {
   "cell_type": "markdown",
   "id": "3acfbc5c-d3a6-42de-80d4-e8355cbde851",
   "metadata": {},
   "source": [
    "# Data Scientist"
   ]
  },
  {
   "cell_type": "code",
   "execution_count": null,
   "id": "37894970-ae26-4a69-9279-60d7c3099985",
   "metadata": {},
   "outputs": [],
   "source": [
    "jane_client = node.login(email=\"jane@caltech.edu\", password=\"abc123\")"
   ]
  },
  {
   "cell_type": "code",
   "execution_count": null,
   "id": "f0bd794b-67f6-4156-8b0d-3308d458dd46",
   "metadata": {},
   "outputs": [],
   "source": [
    "jane_client.api.services.vertex.run(prompt=\"test\")"
   ]
  },
  {
   "cell_type": "markdown",
   "id": "1f9b751a-236e-4b30-bbc4-8010aa182e36",
   "metadata": {},
   "source": [
    "## Create Input Policy"
   ]
  },
  {
   "cell_type": "code",
   "execution_count": null,
   "id": "3717b03a-f392-4dc7-a535-f6c4b6131f93",
   "metadata": {},
   "outputs": [],
   "source": [
    "input_policy = sy.InputPolicy(\n",
    "    func=jane_client.api.services.vertex,\n",
    "    prompt=sy.UserOwned(),\n",
    "    prompt: sy.UserOwned(),\n",
    "    max_tokens: sy.UserOwned(),\n",
    "    temperature: sy.UserOwned(),\n",
    "    top_p: sy.UserOwned(),\n",
    "    top_k: sy.UserOwned(),\n",
    "    raw_response: sy.UserOwned()\n",
    ")\n",
    "input_policy"
   ]
  },
  {
   "cell_type": "markdown",
   "id": "2f4f7d0a-2dd6-484d-8724-9c62cb08ef6b",
   "metadata": {},
   "source": [
    "## Create Output Policy"
   ]
  },
  {
   "cell_type": "code",
   "execution_count": null,
   "id": "49be96ea-b361-4c4d-9d8f-6c230d058584",
   "metadata": {},
   "outputs": [],
   "source": [
    "class RateLimiter(sy.CustomOutputPolicy):\n",
    "    n_calls: int = 0\n",
    "    downloadable_output_args: list[str] = []\n",
    "    state: dict[Any, Any] = {}\n",
    "\n",
    "    def __init__(self, n_calls=1, downloadable_output_args: list[str] = None):\n",
    "        self.downloadable_output_args = (\n",
    "            downloadable_output_args if downloadable_output_args is not None else []\n",
    "        )\n",
    "        self.n_calls = n_calls\n",
    "        self.state = {\"counts\": 0}\n",
    "\n",
    "    def public_state(self):\n",
    "        return self.state[\"counts\"]\n",
    "\n",
    "    def update_policy(self, context, outputs):\n",
    "        self.state[\"counts\"] += 1\n",
    "\n",
    "    def apply_output(self, context, outputs, update_policy=True):\n",
    "        if hasattr(outputs, \"syft_action_data\"):\n",
    "            outputs = outputs.syft_action_data\n",
    "        output_dict = {}\n",
    "        if self.state[\"counts\"] < self.n_calls:\n",
    "            for output_arg in self.downloadable_output_args:\n",
    "                output_dict[output_arg] = outputs[output_arg]\n",
    "            if update_policy:\n",
    "                self.update_policy(context, outputs)\n",
    "        else:\n",
    "            return \"You've hit the rate limit. Please contact the administrator.\"\n",
    "        output_dict[\"calls_remaining\"] = self.n_calls - self.state[\"counts\"]\n",
    "        return output_dict\n",
    "\n",
    "    def _is_valid(self, context):\n",
    "        return self.state[\"counts\"] < self.n_calls"
   ]
  },
  {
   "cell_type": "code",
   "execution_count": null,
   "id": "c74a8193-2565-4dc4-a63d-b9349161cc28",
   "metadata": {},
   "outputs": [],
   "source": [
    "@sy.syft_function()\n",
    "    input_policy=input_policy,\n",
    "    output_policy=RateLimiter(n_calls=3, downloadable_output_args=[\"prediction\"]),\n",
    ")\n",
    "def my_vertex_func(\n",
    "    func,\n",
    "    prompt: str,\n",
    "    max_tokens: int,\n",
    "    temperature: float,\n",
    "    top_p: float,\n",
    "    top_k: int,\n",
    "    raw_response: bool\n",
    "):\n",
    "    return func(\n",
    "        prompt=prompt,\n",
    "        max_tokens=max_tokens,\n",
    "        temperature=temperature,\n",
    "        top_p=top_p,\n",
    "        top_k=top_k,\n",
    "        raw_response=raw_response\n",
    "    )"
   ]
  },
  {
   "cell_type": "code",
   "execution_count": null,
   "id": "89cb4ee2-8c3c-4f1f-b08a-4e4652b068ce",
   "metadata": {},
   "outputs": [],
   "source": [
    "my_vertex_func()"
   ]
  },
  {
   "cell_type": "code",
   "execution_count": null,
   "id": "8c4116ff-22b6-44b7-96b2-7bc3b861753a",
   "metadata": {},
   "outputs": [],
   "source": [
    "new_project = sy.Project(\n",
    "    name=\"Vertex Model Access\",\n",
    "    description=\"Hi, I want to use this model 3 times\",\n",
    "    members=[jane_client],\n",
    ")\n",
    "\n",
    "new_project.create_code_request(my_vertex_func, jane_client)"
   ]
  },
  {
   "cell_type": "markdown",
   "id": "a1366087-7ab1-4bed-b21a-ba2ec99fa657",
   "metadata": {},
   "source": [
    "## Admin approves"
   ]
  },
  {
   "cell_type": "code",
   "execution_count": null,
   "id": "8d66132b-6386-4afd-907b-07f5af827b45",
   "metadata": {},
   "outputs": [],
   "source": [
    "request = domain_client.requests[-1]\n",
    "request"
   ]
  },
  {
   "cell_type": "code",
   "execution_count": null,
   "id": "2ab1beb3-3c7b-4b86-9e53-0cdc3d237d2e",
   "metadata": {},
   "outputs": [],
   "source": [
    "request.approve()"
   ]
  },
  {
   "cell_type": "markdown",
   "id": "1a3bc882-1f98-4479-a114-7f38eb5c4043",
   "metadata": {},
   "source": [
    "## Data Scientist runs"
   ]
  },
  {
   "cell_type": "code",
   "execution_count": null,
   "id": "ef126cbf-286e-4220-96e9-8bfaabd744aa",
   "metadata": {},
   "outputs": [],
   "source": [
    "jane_client.refresh()"
   ]
  },
  {
   "cell_type": "code",
   "execution_count": null,
   "id": "34a3999f-c31a-43f1-8b13-60a5a98e83b3",
   "metadata": {},
   "outputs": [],
   "source": [
    "result = jane_client.code.my_vertex_func(\n",
    "    prompt=\"Who are you now?\",\n",
    "    max_tokens=50,\n",
    "    temperature=0.1,\n",
    "    top_p=1.0,\n",
    "    top_k=1.0,\n",
    "    raw_response=False,\n",
    ")\n",
    "result"
   ]
  },
  {
   "cell_type": "markdown",
   "id": "0a73ad14-7cc7-4103-abdc-5631f74d9df3",
   "metadata": {},
   "source": [
    "## Advanced"
   ]
  },
  {
   "cell_type": "code",
   "execution_count": null,
   "id": "f1c29ad7-3965-433d-b7c4-dd6511690cc4",
   "metadata": {},
   "outputs": [],
   "source": [
    "# Allow api endpoint code to generate a policy and code submission object"
   ]
  },
  {
   "cell_type": "code",
   "execution_count": null,
   "id": "ebe097fd-99f4-4969-bc77-f04b2bb1da40",
   "metadata": {},
   "outputs": [],
   "source": [
    "@sy.private_api_endpoint()\n",
    "def user_function_creator(\n",
    "    context,\n",
    "    n_calls: int\n",
    "    name: str,\n",
    ") -> str:\n",
    "    import syft as sy\n",
    "\n",
    "    # can we call into the context service from \n",
    "    input_policy = sy.InputPolicy(\n",
    "        func=jane_client.api.services.vertex,\n",
    "        prompt=sy.UserOwned(),\n",
    "        prompt: sy.UserOwned(),\n",
    "        max_tokens: sy.UserOwned(),\n",
    "        temperature: sy.UserOwned(),\n",
    "        top_p: sy.UserOwned(),\n",
    "        top_k: sy.UserOwned(),\n",
    "        raw_response: sy.UserOwned()\n",
    "    )\n",
    "\n",
    "    # include RateLimiter\n",
    "\n",
    "    @sy.syft_function()\n",
    "        input_policy=input_policy,\n",
    "        output_policy=RateLimiter(n_calls=n_calls, downloadable_output_args=[\"prediction\"]),\n",
    "    )\n",
    "    def my_vertex_func(\n",
    "        func,\n",
    "        prompt: str,\n",
    "        max_tokens: int,\n",
    "        temperature: float,\n",
    "        top_p: float,\n",
    "        top_k: int,\n",
    "        raw_response: bool\n",
    "    ):\n",
    "        return func(\n",
    "            prompt=prompt,\n",
    "            max_tokens=max_tokens,\n",
    "            temperature=temperature,\n",
    "            top_p=top_p,\n",
    "            top_k=top_k,\n",
    "            raw_response=raw_response\n",
    "        )\n",
    "\n",
    "    # customize the name?\n",
    "    my_vertex_func.__name__ = name\n",
    "    return my_vertex_func\n",
    "    # try to submit it for them?\n",
    "    # return context.submit(run)"
   ]
  },
  {
   "cell_type": "code",
   "execution_count": null,
   "id": "b65c5a35-2131-4042-bcd1-a1724f909ff9",
   "metadata": {},
   "outputs": [],
   "source": [
    "code_obj = jane_client.api.services.request_new_code(n_call=10, name=\"my_func\")"
   ]
  },
  {
   "cell_type": "code",
   "execution_count": null,
   "id": "13a54bbe-8ce5-4c34-8079-cfadd260994d",
   "metadata": {},
   "outputs": [],
   "source": [
    "new_project = sy.Project(\n",
    "    name=\"Vertex Model Access\",\n",
    "    description=\"Hi, I want to use this model 3 times\",\n",
    "    members=[jane_client],\n",
    ")\n",
    "\n",
    "new_project.create_code_request(code_obj, jane_client)"
   ]
  }
 ],
 "metadata": {
  "kernelspec": {
   "display_name": "Python 3 (ipykernel)",
   "language": "python",
   "name": "python3"
  },
  "language_info": {
   "codemirror_mode": {
    "name": "ipython",
    "version": 3
   },
   "file_extension": ".py",
   "mimetype": "text/x-python",
   "name": "python",
   "nbconvert_exporter": "python",
   "pygments_lexer": "ipython3",
   "version": "3.12.2"
  }
 },
 "nbformat": 4,
 "nbformat_minor": 5
}
