{
 "cells": [
  {
   "cell_type": "markdown",
   "id": "5a9a57a6",
   "metadata": {},
   "source": [
    "### Login into a domain"
   ]
  },
  {
   "cell_type": "markdown",
   "id": "be0cef57",
   "metadata": {},
   "source": [
    "There are two ways a user can login into a domain:\n",
    "\n",
    "1. If the user has access to url of the domain.\n",
    "2. If the user doesn't have the url to a domain, but that the domain is part of a network."
   ]
  },
  {
   "cell_type": "markdown",
   "id": "416b580a",
   "metadata": {},
   "source": [
    "#### Case I - User has access to the url of the domain. \n",
    "----------"
   ]
  },
  {
   "cell_type": "code",
   "execution_count": 1,
   "id": "08654da7",
   "metadata": {},
   "outputs": [],
   "source": [
    "import syft as sy"
   ]
  },
  {
   "cell_type": "code",
   "execution_count": 2,
   "id": "94c2aefe",
   "metadata": {},
   "outputs": [
    {
     "name": "stdout",
     "output_type": "stream",
     "text": [
      "Connecting to ca.openmined.org...\n",
      "ConnectionError: Retrying again.... Attempt: 1\n",
      "ConnectionError: Retrying again.... Attempt: 2\n",
      "ConnectionError: Retrying again.... Attempt: 3\n",
      "ConnectionError: Retrying again.... Attempt: 4\n",
      "ConnectionError: Retrying again.... Attempt: 5\r"
     ]
    },
    {
     "ename": "ConnectionError",
     "evalue": "Failed to connect to node with: https://ca.openmined.org. Please try again !!!",
     "output_type": "error",
     "traceback": [
      "\u001b[0;31m---------------------------------------------------------------------------\u001b[0m",
      "\u001b[0;31mConnectionError\u001b[0m                           Traceback (most recent call last)",
      "Input \u001b[0;32mIn [2]\u001b[0m, in \u001b[0;36m<cell line: 1>\u001b[0;34m()\u001b[0m\n\u001b[0;32m----> 1\u001b[0m ca_domain_client \u001b[38;5;241m=\u001b[39m \u001b[43msy\u001b[49m\u001b[38;5;241;43m.\u001b[39;49m\u001b[43mlogin\u001b[49m\u001b[43m(\u001b[49m\n\u001b[1;32m      2\u001b[0m \u001b[43m    \u001b[49m\u001b[43murl\u001b[49m\u001b[38;5;241;43m=\u001b[39;49m\u001b[38;5;124;43m\"\u001b[39;49m\u001b[38;5;124;43mhttps://ca.openmined.org\u001b[39;49m\u001b[38;5;124;43m\"\u001b[39;49m\u001b[43m,\u001b[49m\u001b[43m \u001b[49m\u001b[43memail\u001b[49m\u001b[38;5;241;43m=\u001b[39;49m\u001b[38;5;124;43m\"\u001b[39;49m\u001b[38;5;124;43msheldon@caltech.edu\u001b[39;49m\u001b[38;5;124;43m\"\u001b[39;49m\u001b[43m,\u001b[49m\u001b[43m \u001b[49m\n\u001b[1;32m      3\u001b[0m \u001b[43m    \u001b[49m\u001b[43mpassword\u001b[49m\u001b[38;5;241;43m=\u001b[39;49m\u001b[38;5;124;43m\"\u001b[39;49m\u001b[38;5;124;43mbazinga\u001b[39;49m\u001b[38;5;124;43m\"\u001b[39;49m\u001b[43m,\u001b[49m\u001b[43m \u001b[49m\u001b[43mport\u001b[49m\u001b[38;5;241;43m=\u001b[39;49m\u001b[38;5;241;43m8081\u001b[39;49m\u001b[43m,\u001b[49m\u001b[43m \u001b[49m\u001b[43mverbose\u001b[49m\u001b[38;5;241;43m=\u001b[39;49m\u001b[38;5;28;43;01mTrue\u001b[39;49;00m\n\u001b[1;32m      4\u001b[0m \u001b[43m)\u001b[49m\n",
      "File \u001b[0;32m~/Documents/openmined-new/PySyft/packages/syft/src/syft/grid/client/client.py:186\u001b[0m, in \u001b[0;36mlogin\u001b[0;34m(url, port, email, password, conn_type, verbose, timeout, retry)\u001b[0m\n\u001b[1;32m    183\u001b[0m     retry_attempt \u001b[38;5;241m+\u001b[39m\u001b[38;5;241m=\u001b[39m \u001b[38;5;241m1\u001b[39m\n\u001b[1;32m    185\u001b[0m \u001b[38;5;28;01mif\u001b[39;00m node \u001b[38;5;129;01mis\u001b[39;00m \u001b[38;5;28;01mNone\u001b[39;00m:\n\u001b[0;32m--> 186\u001b[0m     \u001b[38;5;28;01mraise\u001b[39;00m requests\u001b[38;5;241m.\u001b[39mConnectionError(\n\u001b[1;32m    187\u001b[0m         \u001b[38;5;124mf\u001b[39m\u001b[38;5;124m\"\u001b[39m\u001b[38;5;124mFailed to connect to node with: \u001b[39m\u001b[38;5;132;01m{\u001b[39;00murl\u001b[38;5;132;01m}\u001b[39;00m\u001b[38;5;124m. Please try again !!!\u001b[39m\u001b[38;5;124m\"\u001b[39m\n\u001b[1;32m    188\u001b[0m     )\n\u001b[1;32m    190\u001b[0m \u001b[38;5;28;01mif\u001b[39;00m verbose:\n\u001b[1;32m    191\u001b[0m     \u001b[38;5;66;03m# bit of fanciness\u001b[39;00m\n\u001b[1;32m    192\u001b[0m     sys\u001b[38;5;241m.\u001b[39mstdout\u001b[38;5;241m.\u001b[39mwrite(\u001b[38;5;124m\"\u001b[39m\u001b[38;5;124m done! \u001b[39m\u001b[38;5;130;01m\\t\u001b[39;00m\u001b[38;5;124m Logging into\u001b[39m\u001b[38;5;124m\"\u001b[39m)\n",
      "\u001b[0;31mConnectionError\u001b[0m: Failed to connect to node with: https://ca.openmined.org. Please try again !!!"
     ]
    }
   ],
   "source": [
    "ca_domain_client = sy.login(\n",
    "    url=\"https://ca.openmined.org\", email=\"sheldon@caltech.edu\", \n",
    "    password=\"bazinga\", port=8081, verbose=True\n",
    ")"
   ]
  },
  {
   "cell_type": "markdown",
   "id": "27d42fd0",
   "metadata": {},
   "source": [
    "#### Case II - Logging into the domain through the network\n",
    "----------"
   ]
  },
  {
   "cell_type": "code",
   "execution_count": 3,
   "id": "e0db0b36",
   "metadata": {
    "scrolled": true
   },
   "outputs": [
    {
     "name": "stdout",
     "output_type": "stream",
     "text": [
      "Connecting to 40.83.192.48... done! \t Logging into opengrid... as GUEST...done!\n",
      "\n",
      "**Warning**: The syft version on your system and the node are different.\n",
      "Version on your system: 0.7.0-beta.32\n",
      "Version on the node: 0.6.0a5\n",
      "\n",
      "Unable to json decode message. Expecting value: line 1 column 1 (char 0)\n"
     ]
    },
    {
     "ename": "Exception",
     "evalue": "Unable to get ProxyClient with key with type <class 'int'> 0. API Request requires key to resolve to a str.",
     "output_type": "error",
     "traceback": [
      "\u001b[0;31m---------------------------------------------------------------------------\u001b[0m",
      "\u001b[0;31mException\u001b[0m                                 Traceback (most recent call last)",
      "Input \u001b[0;32mIn [3]\u001b[0m, in \u001b[0;36m<cell line: 2>\u001b[0;34m()\u001b[0m\n\u001b[1;32m      1\u001b[0m network_client \u001b[38;5;241m=\u001b[39m sy\u001b[38;5;241m.\u001b[39mnetworks[\u001b[38;5;241m0\u001b[39m] \u001b[38;5;66;03m# Selecting the first network node\u001b[39;00m\n\u001b[0;32m----> 2\u001b[0m domain_proxy_client \u001b[38;5;241m=\u001b[39m \u001b[43mnetwork_client\u001b[49m\u001b[43m[\u001b[49m\u001b[38;5;241;43m0\u001b[39;49m\u001b[43m]\u001b[49m \u001b[38;5;66;03m# Select the first domain node in the network\u001b[39;00m\n\u001b[1;32m      4\u001b[0m \u001b[38;5;66;03m# The user doesn't need to specify the url/port to the domain.\u001b[39;00m\n\u001b[1;32m      5\u001b[0m \u001b[38;5;66;03m# They just need to enter the email and password\u001b[39;00m\n\u001b[1;32m      6\u001b[0m domain_client \u001b[38;5;241m=\u001b[39m domain_proxy_client\u001b[38;5;241m.\u001b[39mlogin(\n\u001b[1;32m      7\u001b[0m     email\u001b[38;5;241m=\u001b[39m\u001b[38;5;124m\"\u001b[39m\u001b[38;5;124msheldon@caltech.edu\u001b[39m\u001b[38;5;124m\"\u001b[39m, password\u001b[38;5;241m=\u001b[39m\u001b[38;5;124m\"\u001b[39m\u001b[38;5;124mbazinga\u001b[39m\u001b[38;5;124m\"\u001b[39m, verbose\u001b[38;5;241m=\u001b[39m\u001b[38;5;28;01mTrue\u001b[39;00m\n\u001b[1;32m      8\u001b[0m )\n",
      "File \u001b[0;32m~/Documents/openmined-new/PySyft/packages/syft/src/syft/core/node/network_client.py:161\u001b[0m, in \u001b[0;36mNetworkClient.__getitem__\u001b[0;34m(self, item)\u001b[0m\n\u001b[1;32m    160\u001b[0m \u001b[38;5;28;01mdef\u001b[39;00m \u001b[38;5;21m__getitem__\u001b[39m(\u001b[38;5;28mself\u001b[39m, item: \u001b[38;5;28mint\u001b[39m) \u001b[38;5;241m-\u001b[39m\u001b[38;5;241m>\u001b[39m ProxyClient:\n\u001b[0;32m--> 161\u001b[0m     \u001b[38;5;28;01mreturn\u001b[39;00m \u001b[38;5;28;43mself\u001b[39;49m\u001b[38;5;241;43m.\u001b[39;49m\u001b[43mdomains\u001b[49m\u001b[43m[\u001b[49m\u001b[43mitem\u001b[49m\u001b[43m]\u001b[49m\n",
      "File \u001b[0;32m~/Documents/openmined-new/PySyft/packages/syft/src/syft/core/node/common/client_manager/domain_api.py:120\u001b[0m, in \u001b[0;36mDomainRequestAPI.__getitem__\u001b[0;34m(self, key)\u001b[0m\n\u001b[1;32m    119\u001b[0m \u001b[38;5;28;01mdef\u001b[39;00m \u001b[38;5;21m__getitem__\u001b[39m(\u001b[38;5;28mself\u001b[39m, key: Union[\u001b[38;5;28mstr\u001b[39m, \u001b[38;5;28mint\u001b[39m, UID]) \u001b[38;5;241m-\u001b[39m\u001b[38;5;241m>\u001b[39m ProxyClient:\n\u001b[0;32m--> 120\u001b[0m     \u001b[38;5;28;01mreturn\u001b[39;00m \u001b[38;5;28;43mself\u001b[39;49m\u001b[38;5;241;43m.\u001b[39;49m\u001b[43mget\u001b[49m\u001b[43m(\u001b[49m\u001b[43mkey\u001b[49m\u001b[38;5;241;43m=\u001b[39;49m\u001b[43mkey\u001b[49m\u001b[43m)\u001b[49m\n",
      "File \u001b[0;32m~/Documents/openmined-new/PySyft/packages/syft/src/syft/core/node/common/client_manager/domain_api.py:100\u001b[0m, in \u001b[0;36mDomainRequestAPI.get\u001b[0;34m(self, key, timeout)\u001b[0m\n\u001b[1;32m     95\u001b[0m     msg \u001b[38;5;241m=\u001b[39m (\n\u001b[1;32m     96\u001b[0m         \u001b[38;5;124mf\u001b[39m\u001b[38;5;124m\"\u001b[39m\u001b[38;5;124mUnable to get ProxyClient with key with type \u001b[39m\u001b[38;5;132;01m{\u001b[39;00m\u001b[38;5;28mtype\u001b[39m(node_uid)\u001b[38;5;132;01m}\u001b[39;00m\u001b[38;5;124m \u001b[39m\u001b[38;5;132;01m{\u001b[39;00mnode_uid\u001b[38;5;132;01m}\u001b[39;00m\u001b[38;5;124m. \u001b[39m\u001b[38;5;124m\"\u001b[39m\n\u001b[1;32m     97\u001b[0m         \u001b[38;5;124m\"\u001b[39m\u001b[38;5;124mAPI Request requires key to resolve to a str.\u001b[39m\u001b[38;5;124m\"\u001b[39m\n\u001b[1;32m     98\u001b[0m     )\n\u001b[1;32m     99\u001b[0m     error(msg)\n\u001b[0;32m--> 100\u001b[0m     \u001b[38;5;28;01mraise\u001b[39;00m \u001b[38;5;167;01mException\u001b[39;00m(msg)\n\u001b[1;32m    101\u001b[0m response \u001b[38;5;241m=\u001b[39m \u001b[38;5;28mself\u001b[39m\u001b[38;5;241m.\u001b[39mperform_api_request_generic(\n\u001b[1;32m    102\u001b[0m     syft_msg\u001b[38;5;241m=\u001b[39mGetPeerInfoMessageWithReply,\n\u001b[1;32m    103\u001b[0m     content\u001b[38;5;241m=\u001b[39m{\u001b[38;5;124m\"\u001b[39m\u001b[38;5;124muid\u001b[39m\u001b[38;5;124m\"\u001b[39m: node_uid},\n\u001b[1;32m    104\u001b[0m     timeout\u001b[38;5;241m=\u001b[39mtimeout,\n\u001b[1;32m    105\u001b[0m )\n\u001b[1;32m    107\u001b[0m result \u001b[38;5;241m=\u001b[39m response\u001b[38;5;241m.\u001b[39mpayload\u001b[38;5;241m.\u001b[39mkwargs\u001b[38;5;241m.\u001b[39mupcast()  \u001b[38;5;66;03m# type: ignore\u001b[39;00m\n",
      "\u001b[0;31mException\u001b[0m: Unable to get ProxyClient with key with type <class 'int'> 0. API Request requires key to resolve to a str."
     ]
    }
   ],
   "source": [
    "network_client = sy.networks[0] # Selecting the first network node\n",
    "domain_proxy_client = network_client[0] # Select the first domain node in the network\n",
    "\n",
    "# The user doesn't need to specify the url/port to the domain.\n",
    "# They just need to enter the email and password\n",
    "domain_client = domain_proxy_client.login(\n",
    "    email=\"sheldon@caltech.edu\", password=\"bazinga\", verbose=True\n",
    ")"
   ]
  },
  {
   "cell_type": "markdown",
   "id": "37195f76",
   "metadata": {},
   "source": [
    "#### Different Logging Scenarios\n",
    "----------"
   ]
  },
  {
   "cell_type": "code",
   "execution_count": null,
   "id": "af95e36b",
   "metadata": {},
   "outputs": [],
   "source": []
  },
  {
   "cell_type": "code",
   "execution_count": 58,
   "id": "4356a228",
   "metadata": {},
   "outputs": [
    {
     "name": "stdout",
     "output_type": "stream",
     "text": [
      "\n",
      "Connecting to\u001b[1m https://ca.openmined.com \u001b[0m\n",
      "Logging into Canada Domain... \u001b[92m Logged in 🥳\u001b[0m!! \n",
      "Logged in as \u001b[1msheldon@caltech.edu\u001b[0m\n",
      "\n"
     ]
    }
   ],
   "source": [
    "# Scenario: I\n",
    "# by default verbose flag = True\n",
    "\n",
    "ca_domain_client = sy.login(\n",
    "    url=\"https://ca.openmined.org\", email=\"sheldon@caltech.edu\", \n",
    "    password=\"bazinga\", port=8081, verbose=True\n",
    ")"
   ]
  },
  {
   "cell_type": "code",
   "execution_count": 2,
   "id": "f8b3df99",
   "metadata": {},
   "outputs": [
    {
     "name": "stdout",
     "output_type": "stream",
     "text": [
      "Logging into Canada Domain...  Logged in 🥳!!\n"
     ]
    }
   ],
   "source": [
    "# Scenario: II\n",
    "# verbose flag = False\n",
    "# The logging messages are not printed\n",
    "\n",
    "ca_domain_client = sy.login(\n",
    "    url=\"https://ca.openmined.org\", email=\"sheldon@caltech.edu\", \n",
    "    password=\"bazinga\", port=8081, verbose=True\n",
    ")"
   ]
  },
  {
   "cell_type": "code",
   "execution_count": 9,
   "id": "f4123786",
   "metadata": {},
   "outputs": [
    {
     "name": "stdout",
     "output_type": "stream",
     "text": [
      "Please enter your password: ········\n"
     ]
    }
   ],
   "source": [
    "# Scenario: III\n",
    "# verbose flag = True\n",
    "# password is missing in the agruments\n",
    "# Prompt to enter password: (we can use the `getpass` library to hide input)\n",
    "\n",
    "ca_domain_client = sy.login(\n",
    "    url=\"https://ca.openmined.org\", email=\"sheldon@caltech.edu\", \n",
    "    port=8081, verbose=True\n",
    ")"
   ]
  },
  {
   "cell_type": "code",
   "execution_count": 15,
   "id": "4d8260ce",
   "metadata": {},
   "outputs": [
    {
     "name": "stdout",
     "output_type": "stream",
     "text": [
      "Please enter your password: ········\n",
      "\n",
      "Connecting to\u001b[1m https://ca.openmined.com \u001b[0m\n",
      "Logging into Canada Domain... \u001b[92m Logged in 🥳\u001b[0m!! \n",
      "Logged in as \u001b[1msheldon@caltech.edu\u001b[0m\n",
      "\n"
     ]
    }
   ],
   "source": [
    "# verbose flag = True\n",
    "# password is missing in the login arguments,\n",
    "# Prompt to enter password: (use `getpass` to hide input)\n",
    "# If the enter password is correct, login them in.\n",
    "\n",
    "ca_domain_client = sy.login(\n",
    "    url=\"https://ca.openmined.org\", email=\"sheldon@caltech.edu\", \n",
    "    port=8081, verbose=True\n",
    ")"
   ]
  },
  {
   "cell_type": "code",
   "execution_count": 23,
   "id": "1f2fc12d",
   "metadata": {},
   "outputs": [
    {
     "name": "stdout",
     "output_type": "stream",
     "text": [
      "\n",
      "Connecting to\u001b[1m https://ca.openmined.com \u001b[0m\n",
      "Logging into Canada Domain... \u001b[92m\n",
      "\n",
      "\u001b[91mAuthentication Failed:\n",
      "\u001b[0m  Your email and password do not match. Please try again.\n",
      "\n"
     ]
    }
   ],
   "source": [
    "# Scenario: IV\n",
    "# verbose flag = True\n",
    "# password is missing in the login arguments,\n",
    "# If email or password don't match.\n",
    "# throw an Authentication failure message\n",
    "\n",
    "ca_domain_client = sy.login(\n",
    "    url=\"https://ca.openmined.org\", email=\"sheldon@caltech.edu\",\n",
    "    password=\"wrongpassword\", port=8081, verbose=True\n",
    ")"
   ]
  },
  {
   "cell_type": "code",
   "execution_count": 3,
   "id": "0d1e6cb1",
   "metadata": {},
   "outputs": [
    {
     "name": "stdout",
     "output_type": "stream",
     "text": [
      "\n",
      "Connecting to\u001b[1m https://ca.openmined.com \u001b[0m\n",
      "Logging into Canada Domain... \u001b[92m Logged in 🥳\u001b[0m!! \n",
      "Logged in as \u001b[1mGUEST USER\u001b[0m\n",
      "\n",
      "Explore! See what datasets are on this domain by using the command:\n",
      "    `data_scientist_node.datasets`.\n",
      "When you're ready to begin your data science project you can create an account by calling:\n",
      "    `syft.register()`\n",
      "\n"
     ]
    }
   ],
   "source": [
    "# Scenario: V\n",
    "# verbose flag = True\n",
    "# email is missing or is empty\n",
    "# login the user as a guest\n",
    "\n",
    "ca_domain_client = sy.login(\n",
    "    url=\"https://ca.openmined.org\", port=8081, verbose=True\n",
    ")"
   ]
  },
  {
   "cell_type": "code",
   "execution_count": 8,
   "id": "abd3ebd9",
   "metadata": {},
   "outputs": [
    {
     "name": "stdout",
     "output_type": "stream",
     "text": [
      "\n",
      "Logging into Canada Domain... \u001b[92m Logged in 🥳\u001b[0m!! \n",
      "Logged in as \u001b[1mGUEST USER\u001b[0m\n",
      "\n",
      "Explore! See what datasets are on this domain by using the command: \n",
      "    `data_scientist_node.datasets`.\n",
      "When you're ready to begin your data science project you can create an account by calling:\n",
      "    \u001b[1m`network = sy.networks[0]`\u001b[0m # Select your network\n",
      "    \u001b[1m`domain_proxy_client = network.domains[0]`\u001b[0m # Select the domain you want to register\n",
      "    \u001b[1m`domain_proxy_client.register`\u001b[0m # Call the .register method to create an account on the domain node\n",
      "\n"
     ]
    }
   ],
   "source": [
    "# verbose flag = True\n",
    "# email is missing or is empty\n",
    "# login the user as a guest\n",
    "# Entering as a guest user through the network\n",
    "\n",
    "network_client = sy.networks[0] # Selecting the first network node\n",
    "domain_proxy_client = network_client[0] # Select the first domain node in the network\n",
    "domain_client = domain_proxy_client.login(verbose=True)"
   ]
  },
  {
   "cell_type": "code",
   "execution_count": 9,
   "id": "dfae7e97",
   "metadata": {},
   "outputs": [
    {
     "name": "stdout",
     "output_type": "stream",
     "text": [
      "\n",
      "Logging into Canada Domain... \u001b[92m Logged in 🥳\u001b[0m!! \n",
      "Logged in as \u001b[1msheldon@caltech.edu\u001b[0m\n",
      "\n"
     ]
    }
   ],
   "source": [
    "# verbose flag = True\n",
    "# email is missing or is empty\n",
    "# login using email and password\n",
    "# Entering as an authenticated user through the network\n",
    "\n",
    "network_client = sy.networks[0] # Selecting the first network node\n",
    "domain_proxy_client = network_client[0] # Select the first domain node in the network\n",
    "\n",
    "# The user doesn't need to specify the url/port to the domain.\n",
    "# They just need to enter the email and password\n",
    "domain_client = domain_proxy_client.login(\n",
    "    email=\"sheldon@caltech.edu\", password=\"bazinga\", verbose=True\n",
    ")"
   ]
  },
  {
   "cell_type": "code",
   "execution_count": 16,
   "id": "5225d10d",
   "metadata": {},
   "outputs": [
    {
     "name": "stdout",
     "output_type": "stream",
     "text": [
      "\n",
      "Connecting to\u001b[1m https://ca.openmined.com \u001b[0m\n",
      "\n",
      "\u001b[91mConnectionError:\u001b[0m    \n",
      "    Oops !!! We can't seem to find the domain you're looking for.\n",
      "    Please try the following options:\n",
      "    - Please check the `url`/`port` you entered are correct.\n",
      "    - Please contact the source where you obtained the URL.\n",
      "    - The domain node could be offline at the current moment. Please try again later.\n",
      "\n"
     ]
    }
   ],
   "source": [
    "# Scenario: VI\n",
    "# If a user tries to login into a domain node and\n",
    "# the Domain is either offline or not reachable\n",
    "# The contact email in the message is of the Domain Organization.\n",
    "\n",
    "ca_domain_client = sy.login(\n",
    "    url=\"https://ca.openmined.org\", email=\"sheldon@caltech.edu\", \n",
    "    password=\"bazinga\", port=8081, verbose=True\n",
    ")"
   ]
  },
  {
   "cell_type": "code",
   "execution_count": 13,
   "id": "5b562095",
   "metadata": {},
   "outputs": [
    {
     "name": "stdout",
     "output_type": "stream",
     "text": [
      "\n",
      "\u001b[91mConnectionError\u001b[0m:\n",
      "    Oops !!! We can't seem to find the domain you're looking for.\n",
      "    Please try the following options:\n",
      "    - The domain node could be offline at the current moment. Please try again later.\n",
      "\n"
     ]
    }
   ],
   "source": [
    "# User access a network node\n",
    "# User acesses a domain node\n",
    "# But the domain node is unavailabe or offline\n",
    "\n",
    "network_client = sy.networks[0] # Selecting the first network node\n",
    "domain_proxy_client = network_client[0] # Select the first domain node in the network"
   ]
  },
  {
   "cell_type": "code",
   "execution_count": 13,
   "id": "ada4a5b7",
   "metadata": {},
   "outputs": [
    {
     "name": "stdout",
     "output_type": "stream",
     "text": [
      "\n",
      "\u001b[91mConnectionError:\u001b[0m\n",
      "    The network node seems to be offline at the current moment.\n",
      "    Please contact \u001b[1msupport@openmined.org\u001b[0m for further assistance.\n",
      "\n"
     ]
    }
   ],
   "source": [
    "# User tries access a network node\n",
    "# But the node is unavailabe or offline\n",
    "# Currently the information of the available networks is hardcoded and maintained by OpenMined.\n",
    "# Therefore raising a more generic error with support email as OpenMined.\n",
    "# TODO: Need to revisit this once we map out the details of Networks and its login flow.\n",
    "\n",
    "network_client = sy.networks[0] # Selecting the first network node"
   ]
  },
  {
   "cell_type": "markdown",
   "id": "0ba158e7",
   "metadata": {},
   "source": [
    "#### Dummy Data"
   ]
  },
  {
   "cell_type": "code",
   "execution_count": 1,
   "id": "e6042a9d",
   "metadata": {},
   "outputs": [],
   "source": [
    "import pandas as pd\n",
    "from enum import Enum\n",
    "import uuid\n",
    "from getpass import getpass\n",
    "\n",
    "\n",
    "class bcolors(Enum):\n",
    "    HEADER = \"\\033[95m\"\n",
    "    OKBLUE = \"\\033[94m\"\n",
    "    OKCYAN = \"\\033[96m\"\n",
    "    OKGREEN = \"\\033[92m\"\n",
    "    WARNING = \"\\033[93m\"\n",
    "    FAIL = \"\\033[91m\"\n",
    "    ENDC = \"\\033[0m\"\n",
    "    BOLD = \"\\033[1m\"\n",
    "    UNDERLINE = \"\\033[4m\""
   ]
  },
  {
   "cell_type": "code",
   "execution_count": 7,
   "id": "2571f810",
   "metadata": {},
   "outputs": [
    {
     "name": "stdout",
     "output_type": "stream",
     "text": [
      "Please enter your password: ········\n"
     ]
    }
   ],
   "source": [
    "# domain logging\n",
    "\n",
    "domain_login_message = f\"\"\"\n",
    "Logging into Canada Domain... {bcolors.OKGREEN.value} Logged in 🥳{bcolors.ENDC.value}!!\n",
    "\"\"\"\n",
    "\n",
    "domain_login_message_verbose = f\"\"\"\n",
    "Connecting to{bcolors.BOLD.value} https://ca.openmined.com {bcolors.ENDC.value}\n",
    "Logging into Canada Domain... {bcolors.OKGREEN.value} Logged in 🥳{bcolors.ENDC.value}!! \n",
    "Logged in as {bcolors.BOLD.value}sheldon@caltech.edu{bcolors.ENDC.value}\n",
    "\"\"\"\n",
    "\n",
    "\n",
    "password_missing = f\"\"\"{getpass(\"Please enter your password: \")}\"\"\"\n",
    "\n",
    "domain_email_pwd_is_wrong = f\"\"\"\n",
    "Connecting to{bcolors.BOLD.value} https://ca.openmined.com {bcolors.ENDC.value}\n",
    "Logging into Canada Domain... {bcolors.OKGREEN.value}\n",
    "\n",
    "{bcolors.FAIL.value}Authentication Failed:\n",
    "{bcolors.ENDC.value}  Your email and password do not match. Please try again.\n",
    "\"\"\"\n",
    "\n",
    "domain_login_message_via_network = f\"\"\"\n",
    "Logging into Canada Domain... {bcolors.OKGREEN.value} Logged in 🥳{bcolors.ENDC.value}!! \n",
    "Logged in as {bcolors.BOLD.value}sheldon@caltech.edu{bcolors.ENDC.value}\n",
    "\"\"\"\n",
    "\n",
    "domain_as_guest_user = f\"\"\"\n",
    "Connecting to{bcolors.BOLD.value} https://ca.openmined.com {bcolors.ENDC.value}\n",
    "Logging into Canada Domain... {bcolors.OKGREEN.value} Logged in 🥳{bcolors.ENDC.value}!! \n",
    "Logged in as {bcolors.BOLD.value}GUEST USER{bcolors.ENDC.value}\n",
    "\n",
    "Explore! See what datasets are on this domain by using the command:\n",
    "    `data_scientist_node.datasets`.\n",
    "When you're ready to begin your data science project you can create an account by calling:\n",
    "    `syft.register()`\n",
    "\"\"\"\n",
    "\n",
    "domain_as_guest_user_via_network = f\"\"\"\n",
    "Logging into Canada Domain... {bcolors.OKGREEN.value} Logged in 🥳{bcolors.ENDC.value}!! \n",
    "Logged in as {bcolors.BOLD.value}GUEST USER{bcolors.ENDC.value}\n",
    "\n",
    "Explore! See what datasets are on this domain by using the command: \n",
    "    `data_scientist_node.datasets`.\n",
    "When you're ready to begin your data science project you can create an account by calling:\n",
    "    {bcolors.BOLD.value}`network = sy.networks[0]`{bcolors.ENDC.value} # Select your network\n",
    "    {bcolors.BOLD.value}`domain_proxy_client = network.domains[0]`{bcolors.ENDC.value} # Select the domain you want to register\n",
    "    {bcolors.BOLD.value}`domain_proxy_client.register`{bcolors.ENDC.value} # Call the .register method to create an account on the domain node\n",
    "\"\"\""
   ]
  },
  {
   "cell_type": "code",
   "execution_count": 14,
   "id": "e05c5646",
   "metadata": {},
   "outputs": [],
   "source": [
    "domain_is_offline = f\"\"\"\n",
    "Connecting to{bcolors.BOLD.value} https://ca.openmined.com {bcolors.ENDC.value}\n",
    "\n",
    "{bcolors.FAIL.value}ConnectionError:{bcolors.ENDC.value}    \n",
    "    Oops !!! We can't seem to find the domain you're looking for.\n",
    "    Please try the following options:\n",
    "    - Please check the `url`/`port` you entered are correct.\n",
    "    - Please contact the source where you obtained the URL.\n",
    "    - The domain node could be offline at the current moment. Please try again later.\n",
    "\"\"\"\n",
    "\n",
    "network_is_offline = f\"\"\"\n",
    "{bcolors.FAIL.value}ConnectionError:{bcolors.ENDC.value}\n",
    "    Oops !!! The network node seems to be offline at the current moment.\n",
    "    Please contact {bcolors.BOLD.value}support@openmined.org{bcolors.ENDC.value} for further assistance.\n",
    "\"\"\""
   ]
  },
  {
   "cell_type": "code",
   "execution_count": 15,
   "id": "28ea41d8",
   "metadata": {},
   "outputs": [
    {
     "name": "stdout",
     "output_type": "stream",
     "text": [
      "\n",
      "Connecting to\u001b[1m https://ca.openmined.com \u001b[0m\n",
      "\n",
      "\u001b[91mConnectionError:\u001b[0m    \n",
      "    Oops !!! We can't seem to find the domain you're looking for.\n",
      "    Please try the following options:\n",
      "    - Please check the `url`/`port` you entered are correct.\n",
      "    - Please contact the source where you obtained the URL.\n",
      "    - The domain node could be offline at the current moment. Please try again later.\n",
      "\n"
     ]
    }
   ],
   "source": [
    "print(domain_is_offline)"
   ]
  },
  {
   "cell_type": "code",
   "execution_count": 12,
   "id": "c774f4f4",
   "metadata": {},
   "outputs": [],
   "source": [
    "domain_is_offline_part_of_network = f\"\"\"\n",
    "{bcolors.FAIL.value}ConnectionError{bcolors.ENDC.value}:\n",
    "    Oops !!! We can't seem to find the domain you're looking for.\n",
    "    Please try the following options:\n",
    "    - The domain node could be offline at the current moment. Please try again later.\n",
    "\"\"\""
   ]
  },
  {
   "cell_type": "code",
   "execution_count": null,
   "id": "463116f3",
   "metadata": {},
   "outputs": [],
   "source": []
  }
 ],
 "metadata": {
  "kernelspec": {
   "display_name": "Python 3 (ipykernel)",
   "language": "python",
   "name": "python3"
  },
  "language_info": {
   "codemirror_mode": {
    "name": "ipython",
    "version": 3
   },
   "file_extension": ".py",
   "mimetype": "text/x-python",
   "name": "python",
   "nbconvert_exporter": "python",
   "pygments_lexer": "ipython3",
   "version": "3.9.12"
  }
 },
 "nbformat": 4,
 "nbformat_minor": 5
}
