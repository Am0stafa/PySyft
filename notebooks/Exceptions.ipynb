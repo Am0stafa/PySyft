{
 "cells": [
  {
   "cell_type": "markdown",
   "id": "4cae82cc-2197-42fd-aa49-f5f9404cd614",
   "metadata": {},
   "source": [
    "(This notebook is just being used to document and catalog any Exceptions and Unwanted behaviour encountered when stitching together NumPy & PySyft)"
   ]
  },
  {
   "cell_type": "markdown",
   "id": "a574b93c-cfe5-459c-a1f6-dc4a42df3629",
   "metadata": {},
   "source": [
    "## Still to test:\n",
    "\n",
    "- Issues encountered when uploading NumPy arrays\n",
    "- Uploading a project when there are no input assets"
   ]
  },
  {
   "cell_type": "code",
   "execution_count": 1,
   "id": "da59cd90-d3b6-4b23-a598-2149cf6a0aa4",
   "metadata": {},
   "outputs": [],
   "source": [
    "import numpy as np"
   ]
  },
  {
   "cell_type": "code",
   "execution_count": 2,
   "id": "3f56bbff-3c4f-4102-9811-e5fd30ca24fc",
   "metadata": {},
   "outputs": [],
   "source": [
    "from syft.core.node.new.action_object import ActionObject as AO"
   ]
  },
  {
   "cell_type": "code",
   "execution_count": 3,
   "id": "54fb0052-1dbe-4554-9540-df659a9a43c6",
   "metadata": {},
   "outputs": [],
   "source": [
    "data = np.random.rand(5,5)"
   ]
  },
  {
   "cell_type": "code",
   "execution_count": 4,
   "id": "c2ca088e-89cd-430a-b08d-923695d6c755",
   "metadata": {},
   "outputs": [],
   "source": [
    "n = AO.from_obj(data)"
   ]
  },
  {
   "cell_type": "code",
   "execution_count": 5,
   "id": "4669de21-bbf2-4576-8990-272d40af558f",
   "metadata": {},
   "outputs": [
    {
     "data": {
      "text/plain": [
       "syft.core.node.new.numpy.NumpyArrayObject"
      ]
     },
     "execution_count": 5,
     "metadata": {},
     "output_type": "execute_result"
    }
   ],
   "source": [
    "type(n)"
   ]
  },
  {
   "cell_type": "code",
   "execution_count": 6,
   "id": "198b2aad-7d75-44e4-8348-70cedc471f82",
   "metadata": {},
   "outputs": [
    {
     "data": {
      "text/plain": [
       "array([[0.94034497, 0.01211849, 0.76530758, 0.95788964, 0.41410558],\n",
       "       [0.6089372 , 0.72215916, 0.61982241, 0.54588187, 0.47737415],\n",
       "       [0.64084036, 0.71731214, 0.47828998, 0.79497013, 0.79889449],\n",
       "       [0.8205206 , 0.3586599 , 0.3678534 , 0.41150896, 0.81681184],\n",
       "       [0.02904938, 0.21526024, 0.75503014, 0.00230844, 0.56399098]])"
      ]
     },
     "execution_count": 6,
     "metadata": {},
     "output_type": "execute_result"
    }
   ],
   "source": [
    "np.asarray(n)"
   ]
  },
  {
   "cell_type": "markdown",
   "id": "7b31bdb0-7e0b-45f0-be9a-a562d90e1ad0",
   "metadata": {},
   "source": [
    "# ActionObjects can be cajoled into NumPy arrays without qualms\n",
    "\n",
    "\n",
    "- Changing dype using np.astype() is fine"
   ]
  },
  {
   "cell_type": "code",
   "execution_count": 7,
   "id": "1e19579d-6434-46a8-b532-e27d36704ad0",
   "metadata": {},
   "outputs": [
    {
     "data": {
      "text/plain": [
       "numpy.ndarray"
      ]
     },
     "execution_count": 7,
     "metadata": {},
     "output_type": "execute_result"
    }
   ],
   "source": [
    "type(np.asarray(n))"
   ]
  },
  {
   "cell_type": "code",
   "execution_count": 8,
   "id": "340c8bfa-8def-4917-8de6-7840b060fc29",
   "metadata": {},
   "outputs": [
    {
     "data": {
      "text/plain": [
       "syft.core.node.new.numpy.NumpyScalarObject"
      ]
     },
     "execution_count": 8,
     "metadata": {},
     "output_type": "execute_result"
    }
   ],
   "source": [
    "type(np.max(n))"
   ]
  },
  {
   "cell_type": "code",
   "execution_count": 9,
   "id": "f1dc5421-a1ac-47c0-b27b-f7da839f61a9",
   "metadata": {},
   "outputs": [
    {
     "data": {
      "text/plain": [
       "syft.core.node.new.numpy.NumpyArrayObject"
      ]
     },
     "execution_count": 9,
     "metadata": {},
     "output_type": "execute_result"
    }
   ],
   "source": [
    "type(np.square(n))"
   ]
  },
  {
   "cell_type": "code",
   "execution_count": 10,
   "id": "1d202713-3ace-47d6-aad0-b0b0bae01826",
   "metadata": {},
   "outputs": [
    {
     "data": {
      "text/plain": [
       "syft.core.node.new.numpy.NumpyBoolObject"
      ]
     },
     "execution_count": 10,
     "metadata": {},
     "output_type": "execute_result"
    }
   ],
   "source": [
    "type(np.all(n))"
   ]
  },
  {
   "cell_type": "markdown",
   "id": "ca099a11-4efd-4887-a887-59275e94ae83",
   "metadata": {},
   "source": [
    "# Actually can be cajoled into many types:"
   ]
  },
  {
   "cell_type": "code",
   "execution_count": 11,
   "id": "defb1d73-6617-46f5-8eb9-b76657b2fab5",
   "metadata": {},
   "outputs": [],
   "source": [
    "import pandas as pd"
   ]
  },
  {
   "cell_type": "code",
   "execution_count": 13,
   "id": "5fdd53fc-102f-47b3-bee5-0a95ef3fa23e",
   "metadata": {},
   "outputs": [],
   "source": [
    "p = pd.DataFrame(n)"
   ]
  },
  {
   "cell_type": "code",
   "execution_count": 14,
   "id": "287cb805-99ec-4296-9228-68f5ca3a7bf1",
   "metadata": {},
   "outputs": [
    {
     "data": {
      "text/plain": [
       "pandas.core.frame.DataFrame"
      ]
     },
     "execution_count": 14,
     "metadata": {},
     "output_type": "execute_result"
    }
   ],
   "source": [
    "type(p)"
   ]
  },
  {
   "cell_type": "code",
   "execution_count": 18,
   "id": "c758e48b-8521-44d4-8f2e-83f07a2abf10",
   "metadata": {},
   "outputs": [
    {
     "data": {
      "text/plain": [
       "syft.core.node.new.numpy.NumpyArrayObject"
      ]
     },
     "execution_count": 18,
     "metadata": {},
     "output_type": "execute_result"
    }
   ],
   "source": [
    "type(n.astype(np.int64))"
   ]
  },
  {
   "cell_type": "code",
   "execution_count": null,
   "id": "5dd42c1f-9af5-443c-af55-38f389137fae",
   "metadata": {},
   "outputs": [],
   "source": []
  }
 ],
 "metadata": {
  "kernelspec": {
   "display_name": "Python 3 (ipykernel)",
   "language": "python",
   "name": "python3"
  },
  "language_info": {
   "codemirror_mode": {
    "name": "ipython",
    "version": 3
   },
   "file_extension": ".py",
   "mimetype": "text/x-python",
   "name": "python",
   "nbconvert_exporter": "python",
   "pygments_lexer": "ipython3",
   "version": "3.9.7"
  }
 },
 "nbformat": 4,
 "nbformat_minor": 5
}
