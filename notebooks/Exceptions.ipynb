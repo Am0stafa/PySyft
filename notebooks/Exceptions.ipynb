{
 "cells": [
  {
   "cell_type": "markdown",
   "id": "4cae82cc-2197-42fd-aa49-f5f9404cd614",
   "metadata": {},
   "source": [
    "(This notebook is just being used to document and catalog any Exceptions and Unwanted behaviour encountered when stitching together NumPy & PySyft)\n",
    "\n",
    "**Note: there are cells in Problem #8 of this notebook which will crash your kernel- please tread carefully there**"
   ]
  },
  {
   "cell_type": "markdown",
   "id": "a574b93c-cfe5-459c-a1f6-dc4a42df3629",
   "metadata": {},
   "source": [
    "Needs further testing:\n",
    "- custom numpy subclasses\n",
    "- recordarray: I thought this was a minor feature but several challenges towards the end were about recordarrays\n"
   ]
  },
  {
   "cell_type": "code",
   "execution_count": 1,
   "id": "da59cd90-d3b6-4b23-a598-2149cf6a0aa4",
   "metadata": {},
   "outputs": [],
   "source": [
    "import numpy as np"
   ]
  },
  {
   "cell_type": "code",
   "execution_count": 2,
   "id": "3f56bbff-3c4f-4102-9811-e5fd30ca24fc",
   "metadata": {},
   "outputs": [],
   "source": [
    "from syft.core.node.new.action_object import ActionObject as AO"
   ]
  },
  {
   "cell_type": "code",
   "execution_count": 3,
   "id": "54fb0052-1dbe-4554-9540-df659a9a43c6",
   "metadata": {},
   "outputs": [],
   "source": [
    "data = np.random.rand(5,5)"
   ]
  },
  {
   "cell_type": "code",
   "execution_count": 4,
   "id": "c2ca088e-89cd-430a-b08d-923695d6c755",
   "metadata": {},
   "outputs": [],
   "source": [
    "n = AO.from_obj(data)"
   ]
  },
  {
   "cell_type": "code",
   "execution_count": 5,
   "id": "4669de21-bbf2-4576-8990-272d40af558f",
   "metadata": {},
   "outputs": [
    {
     "data": {
      "text/plain": [
       "syft.core.node.new.numpy.NumpyArrayObject"
      ]
     },
     "execution_count": 5,
     "metadata": {},
     "output_type": "execute_result"
    }
   ],
   "source": [
    "type(n)"
   ]
  },
  {
   "cell_type": "markdown",
   "id": "2b016a97-9339-4f0a-b3b3-25f4b89d7dcd",
   "metadata": {
    "tags": []
   },
   "source": [
    "# 0. Speed differences between Mock Objects and NumPy\n",
    "\n",
    "- We're still in the ballpark of microseconds but it might be worth keeping an eye on the differences since we're 100x slower for small objects?\n",
    "- **Edit: We can ignore this- the discrepancy shrinks dramatically as the array size grows**"
   ]
  },
  {
   "cell_type": "code",
   "execution_count": 6,
   "id": "b904328d-2053-4a84-9e2f-4d2131c7ff7f",
   "metadata": {},
   "outputs": [
    {
     "name": "stdout",
     "output_type": "stream",
     "text": [
      "1.51 µs ± 138 ns per loop (mean ± std. dev. of 7 runs, 1000000 loops each)\n"
     ]
    }
   ],
   "source": [
    "%%timeit\n",
    "data.min()"
   ]
  },
  {
   "cell_type": "code",
   "execution_count": 7,
   "id": "e0afe264-003b-45b7-8ff2-b2e538fcbb2a",
   "metadata": {},
   "outputs": [
    {
     "name": "stdout",
     "output_type": "stream",
     "text": [
      "244 µs ± 12.8 µs per loop (mean ± std. dev. of 7 runs, 1000 loops each)\n"
     ]
    }
   ],
   "source": [
    "%%timeit\n",
    "n.min()"
   ]
  },
  {
   "cell_type": "code",
   "execution_count": 8,
   "id": "c083280d-66a0-462b-a170-8d34c7c28b12",
   "metadata": {},
   "outputs": [
    {
     "name": "stdout",
     "output_type": "stream",
     "text": [
      "3.14 µs ± 168 ns per loop (mean ± std. dev. of 7 runs, 100000 loops each)\n"
     ]
    }
   ],
   "source": [
    "%%timeit\n",
    "np.min(data)"
   ]
  },
  {
   "cell_type": "code",
   "execution_count": 9,
   "id": "a108ea24-de66-4797-99eb-1bb71c5e5c4c",
   "metadata": {},
   "outputs": [
    {
     "name": "stdout",
     "output_type": "stream",
     "text": [
      "174 µs ± 1.37 µs per loop (mean ± std. dev. of 7 runs, 10000 loops each)\n"
     ]
    }
   ],
   "source": [
    "%%timeit\n",
    "np.min(n)"
   ]
  },
  {
   "cell_type": "markdown",
   "id": "20bae1e2-c1ab-4b2e-87bf-d44a94cbfca4",
   "metadata": {},
   "source": [
    "**This 100x discrepancy shrinks dramatically as the arrays get smaller**"
   ]
  },
  {
   "cell_type": "code",
   "execution_count": 10,
   "id": "7a7bfd7e-2775-45bf-9b37-f3f2a673ad1c",
   "metadata": {},
   "outputs": [],
   "source": [
    "big_data = np.random.rand(1_000_000)\n",
    "big_mock = AO.from_obj(big_data)"
   ]
  },
  {
   "cell_type": "code",
   "execution_count": 11,
   "id": "b7410052-cddd-4fd8-9eee-5759c74f14da",
   "metadata": {},
   "outputs": [
    {
     "name": "stdout",
     "output_type": "stream",
     "text": [
      "461 µs ± 22.8 µs per loop (mean ± std. dev. of 7 runs, 1000 loops each)\n"
     ]
    }
   ],
   "source": [
    "%%timeit\n",
    "big_data.min()"
   ]
  },
  {
   "cell_type": "code",
   "execution_count": 12,
   "id": "91dfb189-b4aa-4a6e-aaa6-452be277e163",
   "metadata": {},
   "outputs": [
    {
     "name": "stdout",
     "output_type": "stream",
     "text": [
      "751 µs ± 46.8 µs per loop (mean ± std. dev. of 7 runs, 1000 loops each)\n"
     ]
    }
   ],
   "source": [
    "%%timeit\n",
    "big_mock.min()"
   ]
  },
  {
   "cell_type": "markdown",
   "id": "7b31bdb0-7e0b-45f0-be9a-a562d90e1ad0",
   "metadata": {
    "jp-MarkdownHeadingCollapsed": true,
    "tags": []
   },
   "source": [
    "# 1. ActionObjects can be cajoled into NumPy arrays, DataFrames, Tensors without qualms\n",
    "\n",
    "- this destroys the underlying actionobject though\n",
    "- Changing dype using np.astype() is fine"
   ]
  },
  {
   "cell_type": "code",
   "execution_count": 13,
   "id": "198b2aad-7d75-44e4-8348-70cedc471f82",
   "metadata": {},
   "outputs": [
    {
     "data": {
      "text/plain": [
       "array([[0.75623255, 0.89143062, 0.78156582, 0.83336781, 0.3335968 ],\n",
       "       [0.39325524, 0.147437  , 0.27887704, 0.52646702, 0.67009805],\n",
       "       [0.19971797, 0.46231332, 0.71630058, 0.78401388, 0.21372319],\n",
       "       [0.92247225, 0.39762143, 0.46081398, 0.5228097 , 0.16019485],\n",
       "       [0.15422984, 0.44108681, 0.49187304, 0.11544011, 0.70909087]])"
      ]
     },
     "execution_count": 13,
     "metadata": {},
     "output_type": "execute_result"
    }
   ],
   "source": [
    "np.asarray(n)"
   ]
  },
  {
   "cell_type": "code",
   "execution_count": 14,
   "id": "1e19579d-6434-46a8-b532-e27d36704ad0",
   "metadata": {},
   "outputs": [
    {
     "data": {
      "text/plain": [
       "numpy.ndarray"
      ]
     },
     "execution_count": 14,
     "metadata": {},
     "output_type": "execute_result"
    }
   ],
   "source": [
    "type(np.asarray(n))"
   ]
  },
  {
   "cell_type": "code",
   "execution_count": 15,
   "id": "340c8bfa-8def-4917-8de6-7840b060fc29",
   "metadata": {},
   "outputs": [
    {
     "data": {
      "text/plain": [
       "syft.core.node.new.numpy.NumpyScalarObject"
      ]
     },
     "execution_count": 15,
     "metadata": {},
     "output_type": "execute_result"
    }
   ],
   "source": [
    "type(np.max(n))"
   ]
  },
  {
   "cell_type": "code",
   "execution_count": 16,
   "id": "f1dc5421-a1ac-47c0-b27b-f7da839f61a9",
   "metadata": {},
   "outputs": [
    {
     "name": "stdout",
     "output_type": "stream",
     "text": [
      "ufunc being called\n"
     ]
    },
    {
     "data": {
      "text/plain": [
       "syft.core.node.new.numpy.NumpyArrayObject"
      ]
     },
     "execution_count": 16,
     "metadata": {},
     "output_type": "execute_result"
    }
   ],
   "source": [
    "type(np.square(n))"
   ]
  },
  {
   "cell_type": "code",
   "execution_count": 17,
   "id": "1d202713-3ace-47d6-aad0-b0b0bae01826",
   "metadata": {},
   "outputs": [
    {
     "data": {
      "text/plain": [
       "syft.core.node.new.numpy.NumpyBoolObject"
      ]
     },
     "execution_count": 17,
     "metadata": {},
     "output_type": "execute_result"
    }
   ],
   "source": [
    "type(np.all(n))"
   ]
  },
  {
   "cell_type": "code",
   "execution_count": 18,
   "id": "defb1d73-6617-46f5-8eb9-b76657b2fab5",
   "metadata": {},
   "outputs": [],
   "source": [
    "import pandas as pd"
   ]
  },
  {
   "cell_type": "code",
   "execution_count": 19,
   "id": "5fdd53fc-102f-47b3-bee5-0a95ef3fa23e",
   "metadata": {},
   "outputs": [],
   "source": [
    "p = pd.DataFrame(n)"
   ]
  },
  {
   "cell_type": "code",
   "execution_count": 20,
   "id": "287cb805-99ec-4296-9228-68f5ca3a7bf1",
   "metadata": {},
   "outputs": [
    {
     "data": {
      "text/plain": [
       "pandas.core.frame.DataFrame"
      ]
     },
     "execution_count": 20,
     "metadata": {},
     "output_type": "execute_result"
    }
   ],
   "source": [
    "type(p)"
   ]
  },
  {
   "cell_type": "code",
   "execution_count": 21,
   "id": "c758e48b-8521-44d4-8f2e-83f07a2abf10",
   "metadata": {},
   "outputs": [
    {
     "data": {
      "text/plain": [
       "syft.core.node.new.numpy.NumpyArrayObject"
      ]
     },
     "execution_count": 21,
     "metadata": {},
     "output_type": "execute_result"
    }
   ],
   "source": [
    "type(n.astype(np.int64))"
   ]
  },
  {
   "cell_type": "markdown",
   "id": "f2f04a0d-b0f8-4d4e-b015-528247d14c3f",
   "metadata": {
    "jp-MarkdownHeadingCollapsed": true,
    "tags": []
   },
   "source": [
    "# 2. NumPy methods that return tuples\n",
    "\n",
    "(challenge 10)\n",
    "\n",
    "- The resultant tuple gets put in a single ActionObject, as opposed to each of the results being an ActionObject\n",
    "- Lineage IDs of the elements in the Tuple"
   ]
  },
  {
   "cell_type": "code",
   "execution_count": 22,
   "id": "99854ea5-e6ee-4d43-83d8-627474721eb2",
   "metadata": {},
   "outputs": [
    {
     "data": {
      "text/plain": [
       "(array([0, 0, 0, 0, 0, 1, 1, 1, 1, 1, 2, 2, 2, 2, 2, 3, 3, 3, 3, 3, 4, 4,\n",
       "        4, 4, 4]),\n",
       " array([0, 1, 2, 3, 4, 0, 1, 2, 3, 4, 0, 1, 2, 3, 4, 0, 1, 2, 3, 4, 0, 1,\n",
       "        2, 3, 4]))"
      ]
     },
     "execution_count": 22,
     "metadata": {},
     "output_type": "execute_result"
    }
   ],
   "source": [
    "np.nonzero(data)"
   ]
  },
  {
   "cell_type": "code",
   "execution_count": 23,
   "id": "1148588e-73e2-4746-9d17-386810655931",
   "metadata": {},
   "outputs": [
    {
     "data": {
      "text/plain": [
       "tuple"
      ]
     },
     "execution_count": 23,
     "metadata": {},
     "output_type": "execute_result"
    }
   ],
   "source": [
    "type(np.nonzero(data))"
   ]
  },
  {
   "cell_type": "code",
   "execution_count": 24,
   "id": "48ac4b4b-6561-495f-a98b-b8cca314074d",
   "metadata": {},
   "outputs": [
    {
     "data": {
      "text/plain": [
       "(array([0, 0, 0, 0, 0, 1, 1, 1, 1, 1, 2, 2, 2, 2, 2, 3, 3, 3, 3, 3, 4, 4,\n",
       "       4, 4, 4]), array([0, 1, 2, 3, 4, 0, 1, 2, 3, 4, 0, 1, 2, 3, 4, 0, 1, 2, 3, 4, 0, 1,\n",
       "       2, 3, 4]))"
      ]
     },
     "execution_count": 24,
     "metadata": {},
     "output_type": "execute_result"
    }
   ],
   "source": [
    "np.nonzero(n)"
   ]
  },
  {
   "cell_type": "code",
   "execution_count": 26,
   "id": "894cd0df-0a10-4197-8565-f85fcff43874",
   "metadata": {},
   "outputs": [
    {
     "data": {
      "text/plain": [
       "syft.core.node.new.action_object.AnyActionObject"
      ]
     },
     "execution_count": 26,
     "metadata": {},
     "output_type": "execute_result"
    }
   ],
   "source": [
    "type(np.nonzero(n))"
   ]
  },
  {
   "cell_type": "markdown",
   "id": "338cd089-d4f4-4312-99b2-d36f723d590a",
   "metadata": {},
   "source": [
    "**What's kinda awesome though is that it will auto-detect what the items in the tuple are when you ask for them!**"
   ]
  },
  {
   "cell_type": "code",
   "execution_count": 27,
   "id": "80a79804-7365-4344-818d-2bab1e0fac87",
   "metadata": {},
   "outputs": [
    {
     "data": {
      "text/plain": [
       "syft.core.node.new.numpy.NumpyArrayObject"
      ]
     },
     "execution_count": 27,
     "metadata": {},
     "output_type": "execute_result"
    }
   ],
   "source": [
    "type(np.nonzero(n)[0])"
   ]
  },
  {
   "cell_type": "markdown",
   "id": "0d9de8ae-ea15-40f3-91d8-2ab87b95e85b",
   "metadata": {},
   "source": [
    "**I'm not sure if there should be any patterns with regards to Lineage IDs here though**"
   ]
  },
  {
   "cell_type": "code",
   "execution_count": 28,
   "id": "eecef408-feaa-4497-936a-308a09c71c79",
   "metadata": {},
   "outputs": [],
   "source": [
    "result = np.nonzero(n)"
   ]
  },
  {
   "cell_type": "code",
   "execution_count": 29,
   "id": "c8638a87-c575-428e-a28b-682c1c8d8504",
   "metadata": {},
   "outputs": [
    {
     "data": {
      "text/plain": [
       "<LineageID: 2638b60de4cd4bcface696e69b40e5c7 - 1402117398183524927>"
      ]
     },
     "execution_count": 29,
     "metadata": {},
     "output_type": "execute_result"
    }
   ],
   "source": [
    "result.syft_lineage_id"
   ]
  },
  {
   "cell_type": "code",
   "execution_count": 30,
   "id": "c1bef5c2-9e72-4372-a9f0-e320e01786c7",
   "metadata": {},
   "outputs": [
    {
     "data": {
      "text/plain": [
       "<LineageID: eea93dda75454fe18aa8b60d9791a4fc - 2302083646917190723>"
      ]
     },
     "execution_count": 30,
     "metadata": {},
     "output_type": "execute_result"
    }
   ],
   "source": [
    "result[0].syft_lineage_id"
   ]
  },
  {
   "cell_type": "code",
   "execution_count": 31,
   "id": "53208fd2-adc4-49a4-b1b1-2c6282fa90d0",
   "metadata": {},
   "outputs": [
    {
     "data": {
      "text/plain": [
       "1402117398183524927"
      ]
     },
     "execution_count": 31,
     "metadata": {},
     "output_type": "execute_result"
    }
   ],
   "source": [
    "result.syft_history_hash"
   ]
  },
  {
   "cell_type": "code",
   "execution_count": 32,
   "id": "c3f8b0ab-62fd-4a71-aeed-11f80a144855",
   "metadata": {},
   "outputs": [
    {
     "data": {
      "text/plain": [
       "434629797836514065"
      ]
     },
     "execution_count": 32,
     "metadata": {},
     "output_type": "execute_result"
    }
   ],
   "source": [
    "result[0].syft_history_hash"
   ]
  },
  {
   "cell_type": "markdown",
   "id": "0bd9d75a-7112-45da-aa4f-f459252f3527",
   "metadata": {
    "jp-MarkdownHeadingCollapsed": true,
    "tags": []
   },
   "source": [
    "# 3. NumPy methods that create new arrays will still return new arrays\n",
    "\n",
    "(Challenge 16, Challenge 21, ...)\n",
    "\n",
    "- An easy example of this is np.pad which returns a new array, or np.tile\n",
    "- Some methods that extract, such as np.diag will also have this problem"
   ]
  },
  {
   "cell_type": "code",
   "execution_count": 33,
   "id": "6e0918e8-98a5-49b4-913e-a7f8bc1937a6",
   "metadata": {},
   "outputs": [
    {
     "data": {
      "text/plain": [
       "array([[0.        , 0.        , 0.        , 0.        , 0.        ,\n",
       "        0.        , 0.        ],\n",
       "       [0.        , 0.75623255, 0.89143062, 0.78156582, 0.83336781,\n",
       "        0.3335968 , 0.        ],\n",
       "       [0.        , 0.39325524, 0.147437  , 0.27887704, 0.52646702,\n",
       "        0.67009805, 0.        ],\n",
       "       [0.        , 0.19971797, 0.46231332, 0.71630058, 0.78401388,\n",
       "        0.21372319, 0.        ],\n",
       "       [0.        , 0.92247225, 0.39762143, 0.46081398, 0.5228097 ,\n",
       "        0.16019485, 0.        ],\n",
       "       [0.        , 0.15422984, 0.44108681, 0.49187304, 0.11544011,\n",
       "        0.70909087, 0.        ],\n",
       "       [0.        , 0.        , 0.        , 0.        , 0.        ,\n",
       "        0.        , 0.        ]])"
      ]
     },
     "execution_count": 33,
     "metadata": {},
     "output_type": "execute_result"
    }
   ],
   "source": [
    "np.pad(data, pad_width=1)"
   ]
  },
  {
   "cell_type": "code",
   "execution_count": 34,
   "id": "6001ec96-0ab4-4f00-a24f-cccf6a88fc38",
   "metadata": {},
   "outputs": [
    {
     "data": {
      "text/plain": [
       "array([[0.        , 0.        , 0.        , 0.        , 0.        ,\n",
       "        0.        , 0.        ],\n",
       "       [0.        , 0.75623255, 0.89143062, 0.78156582, 0.83336781,\n",
       "        0.3335968 , 0.        ],\n",
       "       [0.        , 0.39325524, 0.147437  , 0.27887704, 0.52646702,\n",
       "        0.67009805, 0.        ],\n",
       "       [0.        , 0.19971797, 0.46231332, 0.71630058, 0.78401388,\n",
       "        0.21372319, 0.        ],\n",
       "       [0.        , 0.92247225, 0.39762143, 0.46081398, 0.5228097 ,\n",
       "        0.16019485, 0.        ],\n",
       "       [0.        , 0.15422984, 0.44108681, 0.49187304, 0.11544011,\n",
       "        0.70909087, 0.        ],\n",
       "       [0.        , 0.        , 0.        , 0.        , 0.        ,\n",
       "        0.        , 0.        ]])"
      ]
     },
     "execution_count": 34,
     "metadata": {},
     "output_type": "execute_result"
    }
   ],
   "source": [
    "np.pad(n, pad_width=1)"
   ]
  },
  {
   "cell_type": "code",
   "execution_count": 35,
   "id": "15c347ce-9711-4999-8454-afed4855d785",
   "metadata": {},
   "outputs": [
    {
     "data": {
      "text/plain": [
       "numpy.ndarray"
      ]
     },
     "execution_count": 35,
     "metadata": {},
     "output_type": "execute_result"
    }
   ],
   "source": [
    "type(np.pad(n, pad_width=1))"
   ]
  },
  {
   "cell_type": "code",
   "execution_count": 36,
   "id": "c61e3de4-616d-47a3-9647-35a7a160be49",
   "metadata": {},
   "outputs": [
    {
     "data": {
      "text/plain": [
       "array([0.75623255, 0.147437  , 0.71630058, 0.5228097 , 0.70909087])"
      ]
     },
     "execution_count": 36,
     "metadata": {},
     "output_type": "execute_result"
    }
   ],
   "source": [
    "np.diag(n)"
   ]
  },
  {
   "cell_type": "code",
   "execution_count": 37,
   "id": "db862214-d1b8-4a3d-9ee5-96bca73e3610",
   "metadata": {},
   "outputs": [
    {
     "data": {
      "text/plain": [
       "numpy.ndarray"
      ]
     },
     "execution_count": 37,
     "metadata": {},
     "output_type": "execute_result"
    }
   ],
   "source": [
    "type(np.diag(n))"
   ]
  },
  {
   "cell_type": "markdown",
   "id": "e4d2bf86-b94c-4079-8063-3c8e82bf3bd8",
   "metadata": {
    "tags": []
   },
   "source": [
    "# 4. Handling of NaNs:\n",
    "\n",
    "(Challenge 17)\n",
    "\n",
    "- You could say that NaN behaviour is **unpla-NaN-able**"
   ]
  },
  {
   "cell_type": "code",
   "execution_count": 38,
   "id": "5dd42c1f-9af5-443c-af55-38f389137fae",
   "metadata": {},
   "outputs": [],
   "source": [
    "array = AO.from_obj(np.empty((3,3)) * np.nan)"
   ]
  },
  {
   "cell_type": "code",
   "execution_count": 39,
   "id": "bab53c47-3497-457c-a8ee-62586dbf6444",
   "metadata": {},
   "outputs": [
    {
     "data": {
      "text/plain": [
       "array([[nan, nan, nan],\n",
       "       [nan, nan, nan],\n",
       "       [nan, nan, nan]])"
      ]
     },
     "execution_count": 39,
     "metadata": {},
     "output_type": "execute_result"
    }
   ],
   "source": [
    "array"
   ]
  },
  {
   "cell_type": "code",
   "execution_count": 40,
   "id": "55ba5e4e-7239-48fb-908f-22dd50eff93d",
   "metadata": {},
   "outputs": [
    {
     "data": {
      "text/plain": [
       "False"
      ]
     },
     "execution_count": 40,
     "metadata": {},
     "output_type": "execute_result"
    }
   ],
   "source": [
    "np.nan in array"
   ]
  },
  {
   "cell_type": "code",
   "execution_count": 41,
   "id": "272e60fd-e6b7-43f8-8a08-1a9f2340d128",
   "metadata": {},
   "outputs": [
    {
     "data": {
      "text/plain": [
       "syft.core.node.new.numpy.NumpyArrayObject"
      ]
     },
     "execution_count": 41,
     "metadata": {},
     "output_type": "execute_result"
    }
   ],
   "source": [
    "type(array)"
   ]
  },
  {
   "cell_type": "code",
   "execution_count": 42,
   "id": "0bb0aa02-2721-49f4-a91b-2a376a493684",
   "metadata": {},
   "outputs": [
    {
     "name": "stdout",
     "output_type": "stream",
     "text": [
      "nan\n",
      "False\n",
      "False\n",
      "nan\n",
      "True\n",
      "False\n"
     ]
    }
   ],
   "source": [
    "print(0 * np.nan)\n",
    "print(np.nan == np.nan)\n",
    "print(np.inf > np.nan)\n",
    "print(np.nan - np.nan)\n",
    "print(np.nan in set([np.nan]))\n",
    "print(0.3 == 3 * 0.1)"
   ]
  },
  {
   "cell_type": "markdown",
   "id": "6a2cd139-d7e4-4522-b00b-4d032d44502b",
   "metadata": {
    "jp-MarkdownHeadingCollapsed": true,
    "tags": []
   },
   "source": [
    "# 5 & 6. Metadata is ActionObject too!!!  & ActionObjects can't always be a replacement for integers\n",
    "\n",
    "(Challenge 20)"
   ]
  },
  {
   "cell_type": "code",
   "execution_count": 43,
   "id": "d5753986-045b-4e79-8422-2fd4c2da59c1",
   "metadata": {},
   "outputs": [
    {
     "data": {
      "text/plain": [
       "(2, 2)"
      ]
     },
     "execution_count": 43,
     "metadata": {},
     "output_type": "execute_result"
    }
   ],
   "source": [
    "np.unravel_index(12, data.shape)"
   ]
  },
  {
   "cell_type": "code",
   "execution_count": 44,
   "id": "cc0e02b5-1150-492d-81e5-47aa855d999c",
   "metadata": {},
   "outputs": [
    {
     "ename": "TypeError",
     "evalue": "'tuple' object cannot be interpreted as an integer",
     "output_type": "error",
     "traceback": [
      "\u001b[0;31m---------------------------------------------------------------------------\u001b[0m",
      "\u001b[0;31mTypeError\u001b[0m                                 Traceback (most recent call last)",
      "\u001b[0;32m/tmp/ipykernel_8440/2132598277.py\u001b[0m in \u001b[0;36m<module>\u001b[0;34m\u001b[0m\n\u001b[0;32m----> 1\u001b[0;31m \u001b[0mnp\u001b[0m\u001b[0;34m.\u001b[0m\u001b[0munravel_index\u001b[0m\u001b[0;34m(\u001b[0m\u001b[0;36m12\u001b[0m\u001b[0;34m,\u001b[0m \u001b[0mn\u001b[0m\u001b[0;34m.\u001b[0m\u001b[0mshape\u001b[0m\u001b[0;34m)\u001b[0m\u001b[0;34m\u001b[0m\u001b[0;34m\u001b[0m\u001b[0m\n\u001b[0m",
      "\u001b[0;32m~/anaconda3/envs/Hagrid/lib/python3.9/site-packages/numpy/core/overrides.py\u001b[0m in \u001b[0;36munravel_index\u001b[0;34m(*args, **kwargs)\u001b[0m\n",
      "\u001b[0;31mTypeError\u001b[0m: 'tuple' object cannot be interpreted as an integer"
     ]
    }
   ],
   "source": [
    "np.unravel_index(12, n.shape)"
   ]
  },
  {
   "cell_type": "markdown",
   "id": "33a7b21e-34d9-435c-96a7-e25179edfc49",
   "metadata": {},
   "source": [
    "**This actually happens because `.shape` returns an ActionObject instead of an integer**"
   ]
  },
  {
   "cell_type": "code",
   "execution_count": 45,
   "id": "67950f94-1832-4615-9780-9d943d206718",
   "metadata": {},
   "outputs": [
    {
     "data": {
      "text/plain": [
       "syft.core.node.new.action_object.AnyActionObject"
      ]
     },
     "execution_count": 45,
     "metadata": {},
     "output_type": "execute_result"
    }
   ],
   "source": [
    "type(n.shape)"
   ]
  },
  {
   "cell_type": "markdown",
   "id": "bfed46b5-6d2c-4670-9780-d922f8813b45",
   "metadata": {
    "jp-MarkdownHeadingCollapsed": true,
    "tags": []
   },
   "source": [
    "# 7. Chaining operations in line can sometimes cause errors\n",
    "\n",
    "(Challenge 22)\n",
    "\n",
    "- This was discovered when trying to normalize an array"
   ]
  },
  {
   "cell_type": "markdown",
   "id": "01f1f2ac-4083-42e0-aa99-40b86c2df695",
   "metadata": {},
   "source": [
    "**This works:**"
   ]
  },
  {
   "cell_type": "code",
   "execution_count": 46,
   "id": "7e4d0b7a-a4cb-4616-963a-f1ea1ea6cebe",
   "metadata": {},
   "outputs": [
    {
     "data": {
      "text/plain": [
       "array([[ 0.26167136,  0.39686943,  0.28700463,  0.33880662, -0.16096439],\n",
       "       [-0.10130595, -0.34712419, -0.21568415,  0.03190582,  0.17553686],\n",
       "       [-0.29484322, -0.03224787,  0.22173939,  0.28945268, -0.280838  ],\n",
       "       [ 0.42791106, -0.09693976, -0.03374721,  0.02824851, -0.33436634],\n",
       "       [-0.34033135, -0.05347438, -0.00268815, -0.37912108,  0.21452967]])"
      ]
     },
     "execution_count": 46,
     "metadata": {},
     "output_type": "execute_result"
    }
   ],
   "source": [
    "n - n.mean()"
   ]
  },
  {
   "cell_type": "markdown",
   "id": "ec2df188-b31e-4584-8090-a44e226ae8a7",
   "metadata": {},
   "source": [
    "**This works:**"
   ]
  },
  {
   "cell_type": "code",
   "execution_count": 47,
   "id": "c6b99420-d275-4a09-9440-87100bb77fda",
   "metadata": {},
   "outputs": [
    {
     "data": {
      "text/plain": [
       "0.2508100284940524"
      ]
     },
     "execution_count": 47,
     "metadata": {},
     "output_type": "execute_result"
    }
   ],
   "source": [
    "n.std()"
   ]
  },
  {
   "cell_type": "markdown",
   "id": "3f787376-5289-486d-886a-4bb6b65f6e8e",
   "metadata": {},
   "source": [
    "**This works:**"
   ]
  },
  {
   "cell_type": "code",
   "execution_count": 48,
   "id": "e31eb7fd-0155-498e-acf6-1e08951304f5",
   "metadata": {},
   "outputs": [
    {
     "name": "stdout",
     "output_type": "stream",
     "text": [
      "ufunc being called\n"
     ]
    },
    {
     "data": {
      "text/plain": [
       "array([[ 0.89094777,  1.35127488,  0.97720337,  1.15358058, -0.54805716],\n",
       "       [-0.34493002, -1.18190055, -0.73436893,  0.10863406,  0.59767401],\n",
       "       [-1.00389249, -0.10979867,  0.754986  ,  0.98553859, -0.95620701],\n",
       "       [ 1.45696649, -0.33006386, -0.11490367,  0.09618152, -1.13846217],\n",
       "       [-1.15877206, -0.18207144, -0.00915271, -1.29084466,  0.73043811]])"
      ]
     },
     "execution_count": 48,
     "metadata": {},
     "output_type": "execute_result"
    }
   ],
   "source": [
    "(n - n.mean())/0.2937"
   ]
  },
  {
   "cell_type": "markdown",
   "id": "45178c38-805e-45fd-a59d-425d262c3751",
   "metadata": {},
   "source": [
    "**So surely this should work:**"
   ]
  },
  {
   "cell_type": "code",
   "execution_count": 49,
   "id": "d93f627e-af83-4fbb-ba05-ef94e7c381ab",
   "metadata": {},
   "outputs": [
    {
     "name": "stdout",
     "output_type": "stream",
     "text": [
      "ufunc being called\n"
     ]
    },
    {
     "name": "stderr",
     "output_type": "stream",
     "text": [
      "---------------------------------------------------------------------------\n",
      "SyftException\n",
      "---------------------------------------------------------------------------\n",
      "Exception: Must init <class 'syft.core.node.new.numpy.NumpyArrayObject'> with <class 'numpy.ndarray'> not <class 'numpy.float64'>\n"
     ]
    }
   ],
   "source": [
    "(n-n.mean())/n.std()"
   ]
  },
  {
   "cell_type": "markdown",
   "id": "aa613440-800b-4809-9fae-8281549a000f",
   "metadata": {
    "tags": []
   },
   "source": [
    "# 8. In-place modifications can fail and kill the kernel\n",
    "\n",
    "(Challenge 25 & 35)\n",
    "\n",
    "- **Reminder from present Ishan to future Ishan: the last cell WILL crash your kernel**"
   ]
  },
  {
   "cell_type": "code",
   "execution_count": 50,
   "id": "2596a4b0-9530-4fea-97d1-d5a830f02dad",
   "metadata": {},
   "outputs": [
    {
     "data": {
      "text/plain": [
       "array([[0.75623255, 0.89143062, 0.78156582, 0.83336781, 0.3335968 ],\n",
       "       [0.39325524, 0.147437  , 0.27887704, 0.52646702, 0.67009805],\n",
       "       [0.19971797, 0.46231332, 0.71630058, 0.78401388, 0.21372319],\n",
       "       [0.92247225, 0.39762143, 0.46081398, 0.5228097 , 0.16019485],\n",
       "       [0.15422984, 0.44108681, 0.49187304, 0.11544011, 0.70909087]])"
      ]
     },
     "execution_count": 50,
     "metadata": {},
     "output_type": "execute_result"
    }
   ],
   "source": [
    "data"
   ]
  },
  {
   "cell_type": "code",
   "execution_count": 51,
   "id": "53e8af68-e6b3-4567-be1b-8e8d084d3cc8",
   "metadata": {},
   "outputs": [],
   "source": [
    "data[data > 0.5] *= 2"
   ]
  },
  {
   "cell_type": "code",
   "execution_count": 52,
   "id": "fd4d16c3-1cff-42f1-9ebe-6582f217ba4e",
   "metadata": {},
   "outputs": [
    {
     "data": {
      "text/plain": [
       "array([[1.5124651 , 1.78286125, 1.56313164, 1.66673562, 0.3335968 ],\n",
       "       [0.39325524, 0.147437  , 0.27887704, 1.05293403, 1.3401961 ],\n",
       "       [0.19971797, 0.46231332, 1.43260116, 1.56802775, 0.21372319],\n",
       "       [1.8449445 , 0.39762143, 0.46081398, 1.04561941, 0.16019485],\n",
       "       [0.15422984, 0.44108681, 0.49187304, 0.11544011, 1.41818173]])"
      ]
     },
     "execution_count": 52,
     "metadata": {},
     "output_type": "execute_result"
    }
   ],
   "source": [
    "data"
   ]
  },
  {
   "cell_type": "markdown",
   "id": "76c6087a-1993-44aa-8bd2-15104aa750df",
   "metadata": {},
   "source": [
    "**The mock object reflects the changed data:**"
   ]
  },
  {
   "cell_type": "code",
   "execution_count": 53,
   "id": "fd51dc4d-0f29-4eed-95dc-27eca9fabd5d",
   "metadata": {},
   "outputs": [
    {
     "data": {
      "text/plain": [
       "array([[1.5124651 , 1.78286125, 1.56313164, 1.66673562, 0.3335968 ],\n",
       "       [0.39325524, 0.147437  , 0.27887704, 1.05293403, 1.3401961 ],\n",
       "       [0.19971797, 0.46231332, 1.43260116, 1.56802775, 0.21372319],\n",
       "       [1.8449445 , 0.39762143, 0.46081398, 1.04561941, 0.16019485],\n",
       "       [0.15422984, 0.44108681, 0.49187304, 0.11544011, 1.41818173]])"
      ]
     },
     "execution_count": 53,
     "metadata": {},
     "output_type": "execute_result"
    }
   ],
   "source": [
    "n"
   ]
  },
  {
   "cell_type": "code",
   "execution_count": 54,
   "id": "61c024e0-fdb4-4ffe-8852-ea3ed53a3671",
   "metadata": {},
   "outputs": [
    {
     "data": {
      "text/plain": [
       "array([[ True,  True,  True,  True, False],\n",
       "       [False, False, False,  True,  True],\n",
       "       [False, False,  True,  True, False],\n",
       "       [ True, False, False,  True, False],\n",
       "       [False, False, False, False,  True]])"
      ]
     },
     "execution_count": 54,
     "metadata": {},
     "output_type": "execute_result"
    }
   ],
   "source": [
    "n > 0.5"
   ]
  },
  {
   "cell_type": "code",
   "execution_count": 55,
   "id": "df2bf01b-b55e-4aa0-ab8a-02f4c7d287e5",
   "metadata": {},
   "outputs": [
    {
     "data": {
      "text/plain": [
       "syft.core.node.new.numpy.NumpyArrayObject"
      ]
     },
     "execution_count": 55,
     "metadata": {},
     "output_type": "execute_result"
    }
   ],
   "source": [
    "type(n > 0.5)"
   ]
  },
  {
   "cell_type": "markdown",
   "id": "4bf9a41e-7197-4e91-8249-fc5519df3d3c",
   "metadata": {},
   "source": [
    "**DON'T RUN THIS**"
   ]
  },
  {
   "cell_type": "code",
   "execution_count": null,
   "id": "ff169d37-3b8d-4344-9e74-128e2074601b",
   "metadata": {},
   "outputs": [],
   "source": [
    "while False:\n",
    "    n[n > 0.5] *= 2\n",
    "    \n",
    "    \n",
    "    # Similarly\n",
    "    np.add(mock_obj, mock_obj, out=mock_obj)\n",
    "    np.sub(mock_obj, mock_obj, out=mock_obj)\n",
    "    np.multiply(mock_obj, mock_obj, out=mock_obj)\n",
    "    np.divide(mock_obj, mock_obj, out=mock_obj)\n",
    "    \n",
    "    \n",
    "    # Actually even this crashes you\n",
    "    n += 1"
   ]
  },
  {
   "cell_type": "markdown",
   "id": "fcffdc0b-9e5f-4c69-8a56-bdf50f9ce547",
   "metadata": {
    "jp-MarkdownHeadingCollapsed": true,
    "tags": []
   },
   "source": [
    "# 9. MemoryErrors are not triggered on certain operations\n",
    "\n",
    "(Challenge 26)\n",
    "\n",
    "- **Reminder from present Ishan to future Ishan: the last cell WILL crash your kernel**"
   ]
  },
  {
   "cell_type": "code",
   "execution_count": 56,
   "id": "3ae1d261-a549-4299-a99e-ef6d42cc4cc9",
   "metadata": {},
   "outputs": [
    {
     "ename": "MemoryError",
     "evalue": "Unable to allocate 2.21 TiB for an array with shape (156816, 36, 53806) and data type float64",
     "output_type": "error",
     "traceback": [
      "\u001b[0;31m---------------------------------------------------------------------------\u001b[0m",
      "\u001b[0;31mMemoryError\u001b[0m                               Traceback (most recent call last)",
      "\u001b[0;32m/tmp/ipykernel_8440/1494123168.py\u001b[0m in \u001b[0;36m<module>\u001b[0;34m\u001b[0m\n\u001b[0;32m----> 1\u001b[0;31m \u001b[0mnp\u001b[0m\u001b[0;34m.\u001b[0m\u001b[0mrandom\u001b[0m\u001b[0;34m.\u001b[0m\u001b[0mrand\u001b[0m\u001b[0;34m(\u001b[0m\u001b[0;36m156816\u001b[0m\u001b[0;34m,\u001b[0m \u001b[0;36m36\u001b[0m\u001b[0;34m,\u001b[0m \u001b[0;36m53806\u001b[0m\u001b[0;34m)\u001b[0m\u001b[0;34m\u001b[0m\u001b[0;34m\u001b[0m\u001b[0m\n\u001b[0m",
      "\u001b[0;32mmtrand.pyx\u001b[0m in \u001b[0;36mnumpy.random.mtrand.RandomState.rand\u001b[0;34m()\u001b[0m\n",
      "\u001b[0;32mmtrand.pyx\u001b[0m in \u001b[0;36mnumpy.random.mtrand.RandomState.random_sample\u001b[0;34m()\u001b[0m\n",
      "\u001b[0;32m_common.pyx\u001b[0m in \u001b[0;36mnumpy.random._common.double_fill\u001b[0;34m()\u001b[0m\n",
      "\u001b[0;31mMemoryError\u001b[0m: Unable to allocate 2.21 TiB for an array with shape (156816, 36, 53806) and data type float64"
     ]
    }
   ],
   "source": [
    "np.random.rand(156816, 36, 53806)"
   ]
  },
  {
   "cell_type": "code",
   "execution_count": 68,
   "id": "74432959-f3ea-42ae-b41c-f3bbd7cac878",
   "metadata": {},
   "outputs": [],
   "source": [
    "while False:\n",
    "    np.sum(range(int(1e16)))  # might also work with arange"
   ]
  },
  {
   "cell_type": "markdown",
   "id": "df679099-00ba-4305-8178-b9db5d72be7c",
   "metadata": {
    "jp-MarkdownHeadingCollapsed": true,
    "tags": []
   },
   "source": [
    "# 10. NumPy Flags and Settings\n",
    "\n",
    "(Challenge 43)"
   ]
  },
  {
   "cell_type": "code",
   "execution_count": 57,
   "id": "0480072e-8679-4b89-85da-5cbe3a5a2f6f",
   "metadata": {},
   "outputs": [
    {
     "data": {
      "text/plain": [
       "  C_CONTIGUOUS : True\n",
       "  F_CONTIGUOUS : False\n",
       "  OWNDATA : True\n",
       "  WRITEABLE : True\n",
       "  ALIGNED : True\n",
       "  WRITEBACKIFCOPY : False"
      ]
     },
     "execution_count": 57,
     "metadata": {},
     "output_type": "execute_result"
    }
   ],
   "source": [
    "n.flags"
   ]
  },
  {
   "cell_type": "code",
   "execution_count": 58,
   "id": "47e73b64-a78d-4568-9e09-ba5e569eea50",
   "metadata": {},
   "outputs": [],
   "source": [
    "np.ones(10).flags.writeable = False"
   ]
  },
  {
   "cell_type": "code",
   "execution_count": 59,
   "id": "28e3acca-0f41-4d73-8e95-096251c00cc9",
   "metadata": {},
   "outputs": [
    {
     "ename": "ValueError",
     "evalue": "\"AnyActionObject\" object has no field \"writeable\"",
     "output_type": "error",
     "traceback": [
      "\u001b[0;31m---------------------------------------------------------------------------\u001b[0m",
      "\u001b[0;31mValueError\u001b[0m                                Traceback (most recent call last)",
      "\u001b[0;32m/tmp/ipykernel_8440/2075818628.py\u001b[0m in \u001b[0;36m<module>\u001b[0;34m\u001b[0m\n\u001b[0;32m----> 1\u001b[0;31m \u001b[0mn\u001b[0m\u001b[0;34m.\u001b[0m\u001b[0mflags\u001b[0m\u001b[0;34m.\u001b[0m\u001b[0mwriteable\u001b[0m \u001b[0;34m=\u001b[0m \u001b[0;32mFalse\u001b[0m\u001b[0;34m\u001b[0m\u001b[0;34m\u001b[0m\u001b[0m\n\u001b[0m",
      "\u001b[0;32m~/anaconda3/envs/Hagrid/lib/python3.9/site-packages/pydantic/main.cpython-39-x86_64-linux-gnu.so\u001b[0m in \u001b[0;36mpydantic.main.BaseModel.__setattr__\u001b[0;34m()\u001b[0m\n",
      "\u001b[0;31mValueError\u001b[0m: \"AnyActionObject\" object has no field \"writeable\""
     ]
    }
   ],
   "source": [
    "n.flags.writeable = False"
   ]
  },
  {
   "cell_type": "markdown",
   "id": "b2c0049d-faa0-4a16-b4e9-7b13124d335f",
   "metadata": {
    "jp-MarkdownHeadingCollapsed": true,
    "tags": []
   },
   "source": [
    "# 11. Modifying NumPy domain node permissions\n",
    "\n",
    "(Challenge 49)\n",
    "\n",
    "- If python is imported using `np = client.numpy` then giving the ability to toggle things like `np.errstate(all=\"ignore\")` could be dangerous"
   ]
  },
  {
   "cell_type": "code",
   "execution_count": 60,
   "id": "a2dbbe63-53c1-430b-a869-ed78459c1590",
   "metadata": {},
   "outputs": [
    {
     "name": "stdout",
     "output_type": "stream",
     "text": [
      "> Starting Worker: Crazy Dolgov - 135ed68c572a420b90ec84ce5c11ce9f - NodeType.DOMAIN - [<class 'syft.core.node.new.user_service.UserService'>, <class 'syft.core.node.new.metadata_service.MetadataService'>, <class 'syft.core.node.new.action_service.ActionService'>, <class 'syft.core.node.new.test_service.TestService'>, <class 'syft.core.node.new.dataset_service.DatasetService'>, <class 'syft.core.node.new.user_code_service.UserCodeService'>, <class 'syft.core.node.new.request_service.RequestService'>, <class 'syft.core.node.new.data_subject_service.DataSubjectService'>, <class 'syft.core.node.new.network_service.NetworkService'>, <class 'syft.core.node.new.policy_service.PolicyService'>, <class 'syft.core.node.new.message_service.MessageService'>, <class 'syft.core.node.new.project_service.ProjectService'>, <class 'syft.core.node.new.data_subject_member_service.DataSubjectMemberService'>]\n"
     ]
    }
   ],
   "source": [
    "import syft as sy\n",
    "W = sy.Worker()"
   ]
  },
  {
   "cell_type": "code",
   "execution_count": 61,
   "id": "ae173ad0-c781-4ab6-ad8f-bd4e9143ef9d",
   "metadata": {},
   "outputs": [],
   "source": [
    "from syft.core.node.new.client import SyftClient\n",
    "client = SyftClient.from_node(W).login(email=\"info@openmined.org\", password=\"changethis\")"
   ]
  },
  {
   "cell_type": "code",
   "execution_count": 62,
   "id": "ed31ef39-62a9-47e6-a439-3a92b48a4fc8",
   "metadata": {},
   "outputs": [
    {
     "name": "stdout",
     "output_type": "stream",
     "text": [
      "Using numpy version: 1.24.2\n"
     ]
    }
   ],
   "source": [
    "nump = client.numpy"
   ]
  },
  {
   "cell_type": "code",
   "execution_count": 63,
   "id": "fb414a20-990d-451a-8d51-a5d2038f93d0",
   "metadata": {},
   "outputs": [
    {
     "data": {
      "text/plain": [
       "<numpy.errstate at 0x7f3ebfba0100>"
      ]
     },
     "execution_count": 63,
     "metadata": {},
     "output_type": "execute_result"
    }
   ],
   "source": [
    "nump.errstate(all=\"ignore\")"
   ]
  },
  {
   "cell_type": "markdown",
   "id": "c25ec502-58cb-4501-95c5-a6bb713e3a78",
   "metadata": {
    "jp-MarkdownHeadingCollapsed": true,
    "tags": []
   },
   "source": [
    "# 12. Custom NumPy classes \n",
    "\n",
    "(Challenge 63)\n",
    "\n",
    "- Still to test edge cases thoroughly"
   ]
  },
  {
   "cell_type": "code",
   "execution_count": 79,
   "id": "7a558933-0c69-4e39-b6c1-71ff7c485307",
   "metadata": {},
   "outputs": [
    {
     "name": "stderr",
     "output_type": "stream",
     "text": [
      "/tmp/ipykernel_49471/2795190080.py:1: UserWarning: you are shuffling a 'NumpyArrayObject' object which is not a subclass of 'Sequence'; `shuffle` is not guaranteed to behave correctly. E.g., non-numpy array/tensor objects with view semantics may contain duplicates after shuffling.\n",
      "  np.random.shuffle(n)\n"
     ]
    }
   ],
   "source": [
    "np.random.shuffle(n)"
   ]
  },
  {
   "cell_type": "markdown",
   "id": "ed2f7906-2d9a-4651-94ef-19d894f29cd5",
   "metadata": {
    "jp-MarkdownHeadingCollapsed": true,
    "tags": []
   },
   "source": [
    "# 13. Record Arrays are very painful\n",
    "\n",
    "(Numerous challenges towards the end T.T)"
   ]
  },
  {
   "cell_type": "code",
   "execution_count": 64,
   "id": "41c92176-32df-4a7b-8238-ab71c0c5a9bb",
   "metadata": {},
   "outputs": [
    {
     "data": {
      "text/plain": [
       "rec.array([(b'Hello', 2.5, 3), (b'World', 3.6, 2)],\n",
       "          dtype=[('col1', 'S8'), ('col2', '<f8'), ('col3', '<i8')])"
      ]
     },
     "execution_count": 64,
     "metadata": {},
     "output_type": "execute_result"
    }
   ],
   "source": [
    "Z_data = np.array([(\"Hello\", 2.5, 3),\n",
    "              (\"World\", 3.6, 2)])\n",
    "\n",
    "np.core.records.fromarrays(\n",
    "    Z_data.T,\n",
    "    names='col1, col2, col3',\n",
    "    formats = 'S8, f8, i8')"
   ]
  },
  {
   "cell_type": "code",
   "execution_count": 65,
   "id": "e54bc287-4c85-427b-9eae-eb0af250131b",
   "metadata": {},
   "outputs": [],
   "source": [
    "Z = AO.from_obj(np.array([(\"Hello\", 2.5, 3),\n",
    "              (\"World\", 3.6, 2)]))"
   ]
  },
  {
   "cell_type": "code",
   "execution_count": 66,
   "id": "bb8e97fa-9b27-4e8c-8178-885a2bb388a7",
   "metadata": {},
   "outputs": [
    {
     "data": {
      "text/plain": [
       "array([['Hello', '2.5', '3'],\n",
       "       ['World', '3.6', '2']], dtype='<U32')"
      ]
     },
     "execution_count": 66,
     "metadata": {},
     "output_type": "execute_result"
    }
   ],
   "source": [
    "Z"
   ]
  },
  {
   "cell_type": "code",
   "execution_count": 67,
   "id": "fb47f13a-a6cb-40c7-8529-53b0a40a8d0d",
   "metadata": {},
   "outputs": [
    {
     "ename": "ValueError",
     "evalue": "setting an array element with a sequence. The requested array has an inhomogeneous shape after 1 dimensions. The detected shape was (2,) + inhomogeneous part.",
     "output_type": "error",
     "traceback": [
      "\u001b[0;31m---------------------------------------------------------------------------\u001b[0m",
      "\u001b[0;31mValueError\u001b[0m                                Traceback (most recent call last)",
      "\u001b[0;32m/tmp/ipykernel_8440/3564492339.py\u001b[0m in \u001b[0;36m<module>\u001b[0;34m\u001b[0m\n\u001b[0;32m----> 1\u001b[0;31m np.core.records.fromarrays(\n\u001b[0m\u001b[1;32m      2\u001b[0m     \u001b[0mZ\u001b[0m\u001b[0;34m.\u001b[0m\u001b[0mT\u001b[0m\u001b[0;34m,\u001b[0m\u001b[0;34m\u001b[0m\u001b[0;34m\u001b[0m\u001b[0m\n\u001b[1;32m      3\u001b[0m     \u001b[0mnames\u001b[0m\u001b[0;34m=\u001b[0m\u001b[0;34m'col1, col2, col3'\u001b[0m\u001b[0;34m,\u001b[0m\u001b[0;34m\u001b[0m\u001b[0;34m\u001b[0m\u001b[0m\n\u001b[1;32m      4\u001b[0m     formats = 'S8, f8, i8')\n",
      "\u001b[0;32m~/anaconda3/envs/Hagrid/lib/python3.9/site-packages/numpy/core/records.py\u001b[0m in \u001b[0;36mfromarrays\u001b[0;34m(arrayList, dtype, shape, formats, names, titles, aligned, byteorder)\u001b[0m\n\u001b[1;32m    635\u001b[0m     \"\"\"\n\u001b[1;32m    636\u001b[0m \u001b[0;34m\u001b[0m\u001b[0m\n\u001b[0;32m--> 637\u001b[0;31m     \u001b[0marrayList\u001b[0m \u001b[0;34m=\u001b[0m \u001b[0;34m[\u001b[0m\u001b[0msb\u001b[0m\u001b[0;34m.\u001b[0m\u001b[0masarray\u001b[0m\u001b[0;34m(\u001b[0m\u001b[0mx\u001b[0m\u001b[0;34m)\u001b[0m \u001b[0;32mfor\u001b[0m \u001b[0mx\u001b[0m \u001b[0;32min\u001b[0m \u001b[0marrayList\u001b[0m\u001b[0;34m]\u001b[0m\u001b[0;34m\u001b[0m\u001b[0;34m\u001b[0m\u001b[0m\n\u001b[0m\u001b[1;32m    638\u001b[0m \u001b[0;34m\u001b[0m\u001b[0m\n\u001b[1;32m    639\u001b[0m     \u001b[0;31m# NumPy 1.19.0, 2020-01-01\u001b[0m\u001b[0;34m\u001b[0m\u001b[0;34m\u001b[0m\u001b[0m\n",
      "\u001b[0;32m~/anaconda3/envs/Hagrid/lib/python3.9/site-packages/numpy/core/records.py\u001b[0m in \u001b[0;36m<listcomp>\u001b[0;34m(.0)\u001b[0m\n\u001b[1;32m    635\u001b[0m     \"\"\"\n\u001b[1;32m    636\u001b[0m \u001b[0;34m\u001b[0m\u001b[0m\n\u001b[0;32m--> 637\u001b[0;31m     \u001b[0marrayList\u001b[0m \u001b[0;34m=\u001b[0m \u001b[0;34m[\u001b[0m\u001b[0msb\u001b[0m\u001b[0;34m.\u001b[0m\u001b[0masarray\u001b[0m\u001b[0;34m(\u001b[0m\u001b[0mx\u001b[0m\u001b[0;34m)\u001b[0m \u001b[0;32mfor\u001b[0m \u001b[0mx\u001b[0m \u001b[0;32min\u001b[0m \u001b[0marrayList\u001b[0m\u001b[0;34m]\u001b[0m\u001b[0;34m\u001b[0m\u001b[0;34m\u001b[0m\u001b[0m\n\u001b[0m\u001b[1;32m    638\u001b[0m \u001b[0;34m\u001b[0m\u001b[0m\n\u001b[1;32m    639\u001b[0m     \u001b[0;31m# NumPy 1.19.0, 2020-01-01\u001b[0m\u001b[0;34m\u001b[0m\u001b[0;34m\u001b[0m\u001b[0m\n",
      "\u001b[0;31mValueError\u001b[0m: setting an array element with a sequence. The requested array has an inhomogeneous shape after 1 dimensions. The detected shape was (2,) + inhomogeneous part."
     ]
    }
   ],
   "source": [
    "np.core.records.fromarrays(\n",
    "    Z.T,\n",
    "    names='col1, col2, col3',\n",
    "    formats = 'S8, f8, i8')"
   ]
  },
  {
   "cell_type": "code",
   "execution_count": null,
   "id": "8066bab2-de6a-413e-bba0-a55a7faca6d1",
   "metadata": {},
   "outputs": [],
   "source": []
  }
 ],
 "metadata": {
  "kernelspec": {
   "display_name": "Python 3 (ipykernel)",
   "language": "python",
   "name": "python3"
  },
  "language_info": {
   "codemirror_mode": {
    "name": "ipython",
    "version": 3
   },
   "file_extension": ".py",
   "mimetype": "text/x-python",
   "name": "python",
   "nbconvert_exporter": "python",
   "pygments_lexer": "ipython3",
   "version": "3.9.7"
  }
 },
 "nbformat": 4,
 "nbformat_minor": 5
}
