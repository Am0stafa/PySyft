{
 "cells": [
  {
   "cell_type": "markdown",
   "id": "d2be9e92-8f79-4753-9941-8f99450bfcfa",
   "metadata": {},
   "source": [
    "# API Owner Setup Notebook"
   ]
  },
  {
   "cell_type": "code",
   "execution_count": null,
   "id": "75f4513e-5fd9-4d74-a439-9310e1184712",
   "metadata": {},
   "outputs": [],
   "source": [
    "SYFT_VERSION = \">=0.8.2.b0,<0.9\"\n",
    "package_string = f'\"syft{SYFT_VERSION}\"'\n",
    "%pip install {package_string} -f https://whls.blob.core.windows.net/unstable/index.html -q"
   ]
  },
  {
   "cell_type": "code",
   "execution_count": null,
   "id": "d6171e31-3ca2-4880-940c-ff6cdb244844",
   "metadata": {},
   "outputs": [],
   "source": [
    "import syft as sy\n",
    "sy.requires(SYFT_VERSION)"
   ]
  },
  {
   "cell_type": "markdown",
   "id": "309ac0a2-5697-4e78-b965-f6c82f7019aa",
   "metadata": {},
   "source": [
    "# Setup"
   ]
  },
  {
   "cell_type": "markdown",
   "id": "2b2b2474-f573-42cf-81b4-ba1d9e93dad7",
   "metadata": {},
   "source": [
    "Run this with reset=True to setup the API and then go to Data Scientist Notebook"
   ]
  },
  {
   "cell_type": "code",
   "execution_count": null,
   "id": "f5126448-d6aa-4092-a60b-66e11aaf360f",
   "metadata": {},
   "outputs": [],
   "source": [
    "node = sy.orchestra.launch(name=\"blue-book\", dev_mode=True, reset=True)"
   ]
  },
  {
   "cell_type": "code",
   "execution_count": null,
   "id": "c030bb5b-089e-48ec-bbd2-a8955c240178",
   "metadata": {},
   "outputs": [],
   "source": [
    "domain_client = node.login(email=\"info@openmined.org\", password=\"changethis\")"
   ]
  },
  {
   "cell_type": "code",
   "execution_count": null,
   "id": "1121b3dc-16fa-42ec-86d5-5472aaa68602",
   "metadata": {},
   "outputs": [],
   "source": [
    "# Enable guest signups\n",
    "domain_client.settings.allow_guest_signup(enable=True)"
   ]
  },
  {
   "cell_type": "code",
   "execution_count": null,
   "id": "fbd63011-4b61-4cf5-98bb-d9ff37d54fb1",
   "metadata": {},
   "outputs": [],
   "source": [
    "# import gevent\n",
    "# from gevent.subprocess import Popen, PIPE\n",
    "\n",
    "# def run_command(cmd):\n",
    "#     process = Popen(cmd, stdout=PIPE, stderr=PIPE, shell=True)\n",
    "#     for line in process.stdout:\n",
    "#         print(line.strip().decode())\n",
    "\n",
    "# cmd = \"cd ../../../packages/grid/openapi/fastapi && uvicorn main:app --reload\"\n",
    "# greenlet = gevent.spawn(run_command, cmd)"
   ]
  },
  {
   "cell_type": "code",
   "execution_count": null,
   "id": "0af0d6d7-d699-4bb3-9b35-9ae8a32139ca",
   "metadata": {},
   "outputs": [],
   "source": [
    "# test endpoint is up"
   ]
  },
  {
   "cell_type": "code",
   "execution_count": null,
   "id": "4eaa681d-7fb2-4e24-89b6-a45f18316a27",
   "metadata": {},
   "outputs": [],
   "source": [
    "url = \"http://127.0.0.1:8000/openapi.json\""
   ]
  },
  {
   "cell_type": "code",
   "execution_count": null,
   "id": "d9ca11f3-457f-4a92-ba38-27a24f8129eb",
   "metadata": {},
   "outputs": [],
   "source": [
    "# !curl $url"
   ]
  },
  {
   "cell_type": "markdown",
   "id": "9d6e658b-e2d6-4b2c-8d05-2c752b385d1a",
   "metadata": {},
   "source": [
    "# Bind to 3rd party OpenAPIv3 API"
   ]
  },
  {
   "cell_type": "code",
   "execution_count": null,
   "id": "53607d4a-7929-4773-91ea-ce28624b6fe6",
   "metadata": {},
   "outputs": [],
   "source": [
    "result = domain_client.api.services.bridge.add(url=url)\n",
    "result"
   ]
  },
  {
   "cell_type": "markdown",
   "id": "5e780c77-d127-4f49-b108-b011984c7a68",
   "metadata": {},
   "source": [
    "Test an endpoint which requires auth and see that it fails."
   ]
  },
  {
   "cell_type": "code",
   "execution_count": null,
   "id": "83fe26e6-8f85-4ff5-b303-5e0e687498d0",
   "metadata": {},
   "outputs": [],
   "source": [
    "# auth required, will fail without login\n",
    "result = domain_client.api.services.blue_book.get_me()\n",
    "result"
   ]
  },
  {
   "cell_type": "markdown",
   "id": "1758ebac-ed68-48fd-b65a-b5f98931198d",
   "metadata": {},
   "source": [
    "We can add the token to the UserSession."
   ]
  },
  {
   "cell_type": "code",
   "execution_count": null,
   "id": "d9c657a6-96d6-41dd-a97d-79fef4612e53",
   "metadata": {},
   "outputs": [],
   "source": [
    "result = domain_client.api.services.bridge.authenticate(token=\"letmein\")\n",
    "result"
   ]
  },
  {
   "cell_type": "code",
   "execution_count": null,
   "id": "4050f83e-b9be-4b65-9b09-9cd324db16ad",
   "metadata": {},
   "outputs": [],
   "source": [
    "result = domain_client.api.services.blue_book.get_me()\n",
    "result"
   ]
  },
  {
   "cell_type": "code",
   "execution_count": null,
   "id": "3a823edc-841f-4cf5-a9ee-9f04b66b4c85",
   "metadata": {},
   "outputs": [],
   "source": [
    "result = domain_client.api.services.blue_book.get_all()\n",
    "result"
   ]
  },
  {
   "cell_type": "code",
   "execution_count": null,
   "id": "2e000304-70bf-40ed-bb72-9ab952dab400",
   "metadata": {},
   "outputs": [],
   "source": [
    "result = domain_client.api.services.blue_book.get_model(model_id=7)\n",
    "result"
   ]
  },
  {
   "cell_type": "code",
   "execution_count": null,
   "id": "094b2526-6de9-401a-b58b-8e08062cd8cb",
   "metadata": {},
   "outputs": [],
   "source": [
    "model = domain_client.api.types.ResearchModel(name=\"David\")\n",
    "model"
   ]
  },
  {
   "cell_type": "code",
   "execution_count": null,
   "id": "87ee9ea4-c8f8-479c-a972-6a829ee5c3ed",
   "metadata": {},
   "outputs": [],
   "source": [
    "result = domain_client.api.services.blue_book.set_model(model_id=8, researchmodel=model)\n",
    "result"
   ]
  },
  {
   "cell_type": "code",
   "execution_count": null,
   "id": "ca7f3e0f-0751-456f-9ff6-394b09a129ab",
   "metadata": {},
   "outputs": [],
   "source": [
    "result = domain_client.api.services.blue_book.get_all()\n",
    "result"
   ]
  },
  {
   "cell_type": "code",
   "execution_count": null,
   "id": "1e72b343-6794-44d1-85dc-c61be0baf5be",
   "metadata": {},
   "outputs": [],
   "source": [
    "assert len(result) == 2"
   ]
  },
  {
   "cell_type": "code",
   "execution_count": null,
   "id": "be2e3148-ede8-4579-bbbf-b62306f26e34",
   "metadata": {},
   "outputs": [],
   "source": [
    "domain_client.api.services.blue_book.get_all_compute()"
   ]
  },
  {
   "cell_type": "code",
   "execution_count": null,
   "id": "b172127a-65d4-435c-9518-49221e94aa2d",
   "metadata": {},
   "outputs": [],
   "source": [
    "resource = domain_client.api.services.blue_book.get_compute_config(compute_name=\"azure_cpu\")\n",
    "resource"
   ]
  },
  {
   "cell_type": "code",
   "execution_count": null,
   "id": "45acfca5-2ee1-4acc-b48b-ffc454dfcf07",
   "metadata": {},
   "outputs": [],
   "source": [
    "@sy.api_pre_hook(path=\"blue_book.get_compute_config\")\n",
    "def get_compute_config_pre_hook(context, kwargs):\n",
    "    print(\"context.role\", context.role)\n",
    "    print(\"context.session\", context.session)\n",
    "    print(\"kwargs\", kwargs)\n",
    "    return kwargs"
   ]
  },
  {
   "cell_type": "code",
   "execution_count": null,
   "id": "be6f5bba-03c6-4ceb-a532-2c5489e9711f",
   "metadata": {},
   "outputs": [],
   "source": [
    "get_compute_config_pre_hook.id"
   ]
  },
  {
   "cell_type": "code",
   "execution_count": null,
   "id": "4ba204ea-79a5-471a-9b40-755948cb69fd",
   "metadata": {},
   "outputs": [],
   "source": [
    "response = domain_client.api.services.bridge.set_wrapper(wrapper=get_compute_config_pre_hook)\n",
    "response"
   ]
  },
  {
   "cell_type": "code",
   "execution_count": null,
   "id": "ed47a2d1-d965-4721-bece-1b573aa62600",
   "metadata": {},
   "outputs": [],
   "source": [
    "@sy.api_post_hook(path=\"blue_book.get_compute_config\")\n",
    "def get_compute_config_post_hook(context, result):\n",
    "    context.session[\"compute\"] = result\n",
    "    return result"
   ]
  },
  {
   "cell_type": "code",
   "execution_count": null,
   "id": "5d4f54ba-536a-4512-acba-474e9f85f995",
   "metadata": {},
   "outputs": [],
   "source": [
    "get_compute_config_post_hook.id"
   ]
  },
  {
   "cell_type": "code",
   "execution_count": null,
   "id": "e4aee77c-6010-445e-b79e-34cbc9b04562",
   "metadata": {},
   "outputs": [],
   "source": [
    "response = domain_client.api.services.bridge.set_wrapper(wrapper=get_compute_config_post_hook)\n",
    "response"
   ]
  },
  {
   "cell_type": "code",
   "execution_count": null,
   "id": "24503ea2-ef5b-4dc8-bf45-a4284b3a2e0e",
   "metadata": {},
   "outputs": [],
   "source": [
    "session = domain_client.api.services.bridge.session()\n",
    "print(session.kv_store, session.authentication)"
   ]
  },
  {
   "cell_type": "code",
   "execution_count": null,
   "id": "e27e30a5-a63f-480c-9e52-bd900f5c71ed",
   "metadata": {},
   "outputs": [],
   "source": [
    "resource = domain_client.api.services.blue_book.get_compute_config(compute_name=\"azure_cpu\")\n",
    "resource"
   ]
  },
  {
   "cell_type": "code",
   "execution_count": null,
   "id": "eddede1b-b7a7-4c68-b40a-cb896a2ff12e",
   "metadata": {},
   "outputs": [],
   "source": [
    "session = domain_client.api.services.bridge.session()\n",
    "print(session.kv_store, session.authentication)"
   ]
  },
  {
   "cell_type": "code",
   "execution_count": null,
   "id": "f0ff2139-c91a-4afe-b901-c8b14bcabac9",
   "metadata": {},
   "outputs": [],
   "source": [
    "assert len(session.kv_store) == 1"
   ]
  },
  {
   "cell_type": "markdown",
   "id": "b228984c-1797-4160-a95f-f99b819b25d3",
   "metadata": {},
   "source": [
    "# Create Endpoints for Managing Cloud VMs"
   ]
  },
  {
   "cell_type": "markdown",
   "id": "1b72d05c-12c2-4cff-86d1-e50a264c535d",
   "metadata": {},
   "source": [
    "We want to use the skypilot package to manage azure so we need to create a VM image that has skypilot installed."
   ]
  },
  {
   "cell_type": "code",
   "execution_count": null,
   "id": "f8fb92c4-9f02-4f86-8272-acaff88dfafd",
   "metadata": {},
   "outputs": [],
   "source": [
    "skypilot_azure_cli_dockerfile = \"\"\"\n",
    "FROM python:3.9-slim\n",
    "\n",
    "RUN apt-get update && apt-get upgrade -y\n",
    "RUN apt-get update && \\\n",
    "    apt-get install -y --no-install-recommends \\\n",
    "    curl python3-dev gcc make build-essential cmake git rsync ssh\n",
    "\n",
    "RUN pip install -U pip skypilot[azure]==0.3.3\n",
    "\n",
    "# install madhava's branch with changes\n",
    "RUN pip install 'git+https://github.com/madhavajay/skypilot@madhava/azure#egg=skypilot'\n",
    "\n",
    "RUN mkdir -p /root/.sky\n",
    "RUN touch /root/.sky/ssh_config\n",
    "RUN mkdir -p /root/.ssh\n",
    "RUN ln -s /root/.sky/ssh_config /root/.ssh/config\n",
    "RUN echo '#!/bin/bash' >> /start.sh\n",
    "RUN echo 'echo $PATH' >> /start.sh\n",
    "RUN echo 'sky --version' >> /start.sh\n",
    "RUN echo 'sky check' >> /start.sh\n",
    "\"\"\""
   ]
  },
  {
   "cell_type": "markdown",
   "id": "5e0cdab7-074d-4ab7-9190-04412a9b93ef",
   "metadata": {},
   "source": [
    "The image will need to have a persistent volume for the skypilot directory so that the inventory can be shared between runs."
   ]
  },
  {
   "cell_type": "code",
   "execution_count": null,
   "id": "7f3e8114-5149-461e-891d-045de10f9cfe",
   "metadata": {},
   "outputs": [],
   "source": [
    "volumes = [\n",
    "    sy.ContainerVolume(\n",
    "        name=\"skypilot_data\",\n",
    "        internal_mountpath=\"/root/.sky\",\n",
    "        mode=\"rw\"\n",
    "    )\n",
    "]"
   ]
  },
  {
   "cell_type": "code",
   "execution_count": null,
   "id": "cadd97bd-332c-4ed3-8274-271db092f3ec",
   "metadata": {},
   "outputs": [],
   "source": [
    "result = domain_client.api.services.container.add_image(\n",
    "    name=\"skypilot-azure\",\n",
    "    tag=\"skypilot-azure:latest\",\n",
    "    dockerfile=skypilot_azure_cli_dockerfile,\n",
    "    volumes=volumes,\n",
    ")\n",
    "result"
   ]
  },
  {
   "cell_type": "markdown",
   "id": "aaf1dcde-0f3b-4049-955f-18aded62e877",
   "metadata": {},
   "source": [
    "Now we can tell the system to build the image."
   ]
  },
  {
   "cell_type": "code",
   "execution_count": null,
   "id": "735f5bda-0e7b-4e92-bb0d-08903053968b",
   "metadata": {},
   "outputs": [],
   "source": [
    "result = domain_client.api.services.container.build_image(name=\"skypilot-azure\")\n",
    "assert result"
   ]
  },
  {
   "cell_type": "code",
   "execution_count": null,
   "id": "343e42fd-7664-462e-9260-2b3fb313c6df",
   "metadata": {},
   "outputs": [],
   "source": [
    "azure_key = sy.ContainerMount(\n",
    "    internal_filepath=\"/root/.azure/msal_token_cache.json\",\n",
    "    file=sy.SyftFile.from_path(\"~/.azure/msal_token_cache.json\"),\n",
    "    mode=\"rw\"\n",
    ")\n",
    "azure_key"
   ]
  },
  {
   "cell_type": "code",
   "execution_count": null,
   "id": "5f1aa023-8cf8-453e-b264-608a0f2458ad",
   "metadata": {},
   "outputs": [],
   "source": [
    "azure_profile = sy.ContainerMount(\n",
    "    internal_filepath=\"/root/.azure/azureProfile.json\",\n",
    "    file=sy.SyftFile.from_path(\"~/.azure/azureProfile.json\")\n",
    ")\n",
    "azure_profile"
   ]
  },
  {
   "cell_type": "code",
   "execution_count": null,
   "id": "e29faf6b-c790-4400-adb6-c0a523794623",
   "metadata": {},
   "outputs": [],
   "source": [
    "azure_clouds_config = sy.ContainerMount(\n",
    "    internal_filepath=\"/root/.azure/clouds.config\",\n",
    "    file=sy.SyftFile.from_path(\"~/.azure/clouds.config\")\n",
    ")\n",
    "azure_clouds_config"
   ]
  },
  {
   "cell_type": "markdown",
   "id": "aba214aa-b4e9-4a51-a98e-5853fb56ca88",
   "metadata": {},
   "source": [
    "Now we can construct the command by specifying the name it will appear under and the container it will use as well as what kwargs the user can choose to override and which mounts we want to use."
   ]
  },
  {
   "cell_type": "markdown",
   "id": "45e9c6e6-f842-4084-bbc5-1cb0edd261d7",
   "metadata": {},
   "source": [
    "Sky Pilot will generate its own keys, but if we want to share the same key as our main system during testing we can also add some direct mounts to use the same keys."
   ]
  },
  {
   "cell_type": "code",
   "execution_count": null,
   "id": "e53882e4-4c52-40f9-a047-ced502e5e0f1",
   "metadata": {},
   "outputs": [],
   "source": [
    "sky_private_key = sy.ContainerMount(\n",
    "    internal_filepath=\"/root/.ssh/sky-key\",\n",
    "    file=sy.SyftFile.from_path(\"~/.ssh/sky-key\"),\n",
    "    unix_permission=\"400\",\n",
    ")\n",
    "sky_private_key"
   ]
  },
  {
   "cell_type": "code",
   "execution_count": null,
   "id": "e5e0b10c-56b6-4e85-8e2a-281bdc40bf36",
   "metadata": {},
   "outputs": [],
   "source": [
    "sky_public_key = sy.ContainerMount(\n",
    "    internal_filepath=\"/root/.ssh/sky-key.pub\",\n",
    "    file=sy.SyftFile.from_path(\"~/.ssh/sky-key.pub\")\n",
    ")\n",
    "sky_public_key"
   ]
  },
  {
   "cell_type": "markdown",
   "id": "3cd635d3-5e67-4fdc-847d-5971dd76b604",
   "metadata": {},
   "source": [
    "# Add an Endpoint to Execute work"
   ]
  },
  {
   "cell_type": "markdown",
   "id": "a33058c2-2353-49c7-83aa-8e3efb01db5e",
   "metadata": {},
   "source": [
    "SkyPilot allows us to run work on an existing cluster.\n",
    "```\n",
    "sky exec mycluster task.yaml\n",
    "```"
   ]
  },
  {
   "cell_type": "code",
   "execution_count": null,
   "id": "9f114477-be7f-4275-bdbd-d351b053463c",
   "metadata": {},
   "outputs": [],
   "source": [
    "cluster = sy.ContainerCommandKwarg(name=\"cluster\", value=str, required=True, arg_only=True)\n",
    "upload = sy.ContainerUpload(arg_name=\"skypilot_file\")\n",
    "file = sy.ContainerCommandKwarg(name=\"skypilot_file\", value=upload, required=True, arg_only=True)\n",
    "# cli_kwargs = \n",
    "# user_kwargs=\n",
    "exec_command = sy.ContainerCommand(\n",
    "    module_name=\"blue_book.azure\",\n",
    "    api_name=\"exec\",\n",
    "    image_name=\"skypilot-azure\",\n",
    "    command=\"echo\",\n",
    "    cmd_args='abc >> /sandbox/test.txt', \n",
    "    cmd_kwargs={},\n",
    "    api_kwargs={\n",
    "        \"commands\": str,\n",
    "        \"debug\": bool\n",
    "    },\n",
    "    dataset_file_mounts={\"train_data\": \"train_data.json\"},\n",
    "    mounts=[azure_key, azure_profile, azure_clouds_config, sky_private_key, sky_public_key],\n",
    "    return_filepath=\"test.txt\",\n",
    ")"
   ]
  },
  {
   "cell_type": "code",
   "execution_count": null,
   "id": "9c8902a7",
   "metadata": {},
   "outputs": [],
   "source": [
    "# exec(train_data=ds)"
   ]
  },
  {
   "cell_type": "code",
   "execution_count": null,
   "id": "136c60a7",
   "metadata": {},
   "outputs": [],
   "source": [
    "# exec_command.cmd({\"cluster\": \"a\", \"skypilot_file\": \"b\"},dict())"
   ]
  },
  {
   "cell_type": "code",
   "execution_count": null,
   "id": "736fa212-b7d6-4b34-9385-73f334718042",
   "metadata": {},
   "outputs": [],
   "source": [
    "result = domain_client.api.services.container.add_command(command=exec_command)\n",
    "result"
   ]
  },
  {
   "cell_type": "code",
   "execution_count": null,
   "id": "fa646619-dee9-4d3c-8133-f01281be8ddd",
   "metadata": {},
   "outputs": [],
   "source": [
    "@sy.api_pre_hook(path=\"blue_book.azure.exec\")\n",
    "def commands_to_yaml(context, kwargs):\n",
    "    import syft as sy\n",
    "    print(\"pre hook kwargs\", kwargs.keys())\n",
    "    print(\"pre hook kwargs\", kwargs)\n",
    "    print(\"context.role\", context.role)\n",
    "\n",
    "    accelerator = None\n",
    "    if \"compute\" in context.session:\n",
    "        print(context.session[\"compute\"])\n",
    "        compute = context.session[\"compute\"]\n",
    "        accelerator = compute.accelerator\n",
    "\n",
    "    if \"commands\" in kwargs:\n",
    "        commands = kwargs[\"commands\"]\n",
    "        file_contents = \"\"\n",
    "        if accelerator:\n",
    "            file_contents += \"resources:\\n\"\n",
    "            file_contents += f\"    accelerators: {accelerator}\\n\\n\"\n",
    "        file_contents += \"workdir: /sandbox\\n\\n\"\n",
    "        file_contents += \"run: |\"\n",
    "        tabbed = '\\n'.join(['    ' + line if line else line for line in commands.split('\\n')])\n",
    "        file_contents += tabbed\n",
    "        print(file_contents)\n",
    "\n",
    "        yaml_file = sy.SyftFile.from_string(content=file_contents, filename=\"task.yaml\")\n",
    "        print(yaml_file.decode())\n",
    "        kwargs[\"skypilot_file\"] = yaml_file\n",
    "\n",
    "\n",
    "    \n",
    "    print(\"kwargs\", kwargs)\n",
    "    del kwargs[\"commands\"]\n",
    "    print(\"final kwargs\", kwargs)\n",
    "    return kwargs"
   ]
  },
  {
   "cell_type": "code",
   "execution_count": null,
   "id": "ce2ea541-8773-474f-b736-1865e8ff314e",
   "metadata": {},
   "outputs": [],
   "source": [
    "response = domain_client.api.services.bridge.set_wrapper(wrapper=commands_to_yaml)\n",
    "response"
   ]
  },
  {
   "cell_type": "markdown",
   "id": "897f9b33",
   "metadata": {},
   "source": [
    "# DS"
   ]
  },
  {
   "cell_type": "code",
   "execution_count": null,
   "id": "0dcd565e",
   "metadata": {},
   "outputs": [],
   "source": [
    "# Register a new user as a GUEST\n",
    "response = node.register(\n",
    "    name=\"Caleb Smith\",\n",
    "    email=\"caleb@bluebook.ai\",\n",
    "    password=\"hal9000\",\n",
    ")\n",
    "response"
   ]
  },
  {
   "cell_type": "markdown",
   "id": "19892028",
   "metadata": {},
   "source": [
    "Update role"
   ]
  },
  {
   "cell_type": "code",
   "execution_count": null,
   "id": "34bb88bb",
   "metadata": {},
   "outputs": [],
   "source": [
    "from syft.service.user.user import ServiceRole, UserUpdate\n",
    "from syft import ActionObject\n",
    "import pandas as pd\n",
    "id = [x.id for x in domain_client.users if x.name == \"Caleb Smith\"][0]\n",
    "domain_client.users.update(uid = id, user_update=UserUpdate(role=ServiceRole.DATA_OWNER));"
   ]
  },
  {
   "cell_type": "code",
   "execution_count": null,
   "id": "4514fdf0",
   "metadata": {},
   "outputs": [],
   "source": [
    "ds_client = node.login(email=\"caleb@bluebook.ai\", password=\"hal9000\")"
   ]
  },
  {
   "cell_type": "code",
   "execution_count": null,
   "id": "747bf4c5",
   "metadata": {},
   "outputs": [],
   "source": [
    "result = domain_client.api.services.bridge.authenticate(token=\"letmein\")\n",
    "result"
   ]
  },
  {
   "cell_type": "code",
   "execution_count": null,
   "id": "c6568571",
   "metadata": {},
   "outputs": [],
   "source": [
    "# auth required, will fail without login\n",
    "result = domain_client.api.services.blue_book.get_me()\n",
    "result"
   ]
  },
  {
   "cell_type": "code",
   "execution_count": null,
   "id": "1b662754",
   "metadata": {},
   "outputs": [],
   "source": [
    "train_data = [\n",
    "  {\n",
    "    \"instruction\": \"Who is Madhava?\",\n",
    "    \"input\": \"\",\n",
    "    \"output\": \"A super cool engineer at OpenMined working on the external access problem. Checkout https://openmined.org for more.\"\n",
    "  },\n",
    "  {\n",
    "    \"instruction\": \"Who is Madhava Jay?\",\n",
    "    \"input\": \"\",\n",
    "    \"output\": \"A super cool engineer at OpenMined working on the external access problem. Checkout https://openmined.org for more.\"\n",
    "  }\n",
    "]"
   ]
  },
  {
   "cell_type": "code",
   "execution_count": null,
   "id": "e250cd5d",
   "metadata": {},
   "outputs": [],
   "source": [
    "ds = sy.Dataset(name=\"Madhava dataset\",\n",
    "                asset_list=[sy.Asset(name=\"train\",\n",
    "                                     data=sy.ActionObject.from_obj(train_data),\n",
    "                                     mock=sy.ActionObject.empty())\n",
    "                           ]\n",
    "               )"
   ]
  },
  {
   "cell_type": "code",
   "execution_count": null,
   "id": "d025aec2",
   "metadata": {},
   "outputs": [],
   "source": [
    "ds_client.upload_dataset(ds)"
   ]
  },
  {
   "cell_type": "code",
   "execution_count": null,
   "id": "e2e789d6",
   "metadata": {},
   "outputs": [],
   "source": [
    "train_data_asset = ds_client.datasets[0].assets[0]"
   ]
  },
  {
   "cell_type": "code",
   "execution_count": null,
   "id": "905ae736",
   "metadata": {},
   "outputs": [],
   "source": [
    "from syft import TwinObject"
   ]
  },
  {
   "cell_type": "code",
   "execution_count": null,
   "id": "988b7f19",
   "metadata": {},
   "outputs": [],
   "source": [
    "commands = f\"\"\"\n",
    "echo 'def'\n",
    "\"\"\""
   ]
  },
  {
   "cell_type": "code",
   "execution_count": null,
   "id": "1c6bf272",
   "metadata": {},
   "outputs": [],
   "source": [
    "result = domain_client.api.services.blue_book.azure.exec(\n",
    "    commands=commands,\n",
    "    train_data=train_data_asset,\n",
    "    debug=True\n",
    ")"
   ]
  },
  {
   "cell_type": "code",
   "execution_count": null,
   "id": "87ec6424",
   "metadata": {},
   "outputs": [],
   "source": [
    "# container_result = ContainerResult.from_execresult(result=\"A\")"
   ]
  },
  {
   "cell_type": "code",
   "execution_count": null,
   "id": "145b3fd0",
   "metadata": {},
   "outputs": [],
   "source": [
    "result"
   ]
  },
  {
   "cell_type": "code",
   "execution_count": null,
   "id": "0ca6b1e5",
   "metadata": {},
   "outputs": [],
   "source": [
    "result.return_file_obj"
   ]
  },
  {
   "cell_type": "code",
   "execution_count": null,
   "id": "8a24e54a",
   "metadata": {},
   "outputs": [],
   "source": [
    "for x in result.stdout:\n",
    "    print(x)"
   ]
  },
  {
   "cell_type": "code",
   "execution_count": null,
   "id": "c9713fca-bd42-4343-8112-a461a7b34697",
   "metadata": {},
   "outputs": [],
   "source": [
    "# if node.node_type.value == \"python\":\n",
    "#     node.land()"
   ]
  },
  {
   "cell_type": "code",
   "execution_count": null,
   "id": "2a85395e",
   "metadata": {},
   "outputs": [],
   "source": []
  }
 ],
 "metadata": {
  "kernelspec": {
   "display_name": "Python 3 (ipykernel)",
   "language": "python",
   "name": "python3"
  },
  "language_info": {
   "codemirror_mode": {
    "name": "ipython",
    "version": 3
   },
   "file_extension": ".py",
   "mimetype": "text/x-python",
   "name": "python",
   "nbconvert_exporter": "python",
   "pygments_lexer": "ipython3",
   "version": "3.9.16"
  },
  "toc": {
   "base_numbering": 1,
   "nav_menu": {},
   "number_sections": true,
   "sideBar": true,
   "skip_h1_title": false,
   "title_cell": "Table of Contents",
   "title_sidebar": "Contents",
   "toc_cell": false,
   "toc_position": {},
   "toc_section_display": true,
   "toc_window_display": true
  }
 },
 "nbformat": 4,
 "nbformat_minor": 5
}
