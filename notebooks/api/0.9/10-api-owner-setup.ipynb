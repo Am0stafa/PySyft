{
 "cells": [
  {
   "cell_type": "markdown",
   "id": "d2be9e92-8f79-4753-9941-8f99450bfcfa",
   "metadata": {},
   "source": [
    "# API Owner Setup Notebook"
   ]
  },
  {
   "cell_type": "code",
   "execution_count": null,
   "id": "75f4513e-5fd9-4d74-a439-9310e1184712",
   "metadata": {},
   "outputs": [],
   "source": [
    "SYFT_VERSION = \">=0.8.2.b0,<0.9\"\n",
    "package_string = f'\"syft{SYFT_VERSION}\"'\n",
    "%pip install {package_string} -f https://whls.blob.core.windows.net/unstable/index.html -q"
   ]
  },
  {
   "cell_type": "code",
   "execution_count": null,
   "id": "d6171e31-3ca2-4880-940c-ff6cdb244844",
   "metadata": {},
   "outputs": [],
   "source": [
    "import syft as sy\n",
    "sy.requires(SYFT_VERSION)"
   ]
  },
  {
   "cell_type": "markdown",
   "id": "309ac0a2-5697-4e78-b965-f6c82f7019aa",
   "metadata": {},
   "source": [
    "# Setup"
   ]
  },
  {
   "cell_type": "markdown",
   "id": "2b2b2474-f573-42cf-81b4-ba1d9e93dad7",
   "metadata": {},
   "source": [
    "Run this with reset=True to setup the API and then go to Data Scientist Notebook"
   ]
  },
  {
   "cell_type": "code",
   "execution_count": null,
   "id": "f5126448-d6aa-4092-a60b-66e11aaf360f",
   "metadata": {},
   "outputs": [],
   "source": [
    "node = sy.orchestra.launch(name=\"blue-book\", port=\"auto\", dev_mode=True)"
   ]
  },
  {
   "cell_type": "code",
   "execution_count": null,
   "id": "c030bb5b-089e-48ec-bbd2-a8955c240178",
   "metadata": {},
   "outputs": [],
   "source": [
    "domain_client = node.login(email=\"info@openmined.org\", password=\"changethis\")"
   ]
  },
  {
   "cell_type": "markdown",
   "id": "1d00f74a-dcf3-41dc-8745-6f75036c94b4",
   "metadata": {},
   "source": [
    "# Allow User Signup"
   ]
  },
  {
   "cell_type": "code",
   "execution_count": null,
   "id": "dfaf0bce-b541-40d0-b519-3f3730c310a5",
   "metadata": {},
   "outputs": [],
   "source": [
    "domain_client"
   ]
  },
  {
   "cell_type": "code",
   "execution_count": null,
   "id": "1121b3dc-16fa-42ec-86d5-5472aaa68602",
   "metadata": {},
   "outputs": [],
   "source": [
    "# Enable guest signups\n",
    "domain_client.settings.allow_guest_signup(enable=True)"
   ]
  },
  {
   "cell_type": "markdown",
   "id": "b228984c-1797-4160-a95f-f99b819b25d3",
   "metadata": {},
   "source": [
    "# Create Endpoints for Managing Cloud VMs"
   ]
  },
  {
   "cell_type": "markdown",
   "id": "1b72d05c-12c2-4cff-86d1-e50a264c535d",
   "metadata": {},
   "source": [
    "We want to use the skypilot package to manage azure so we need to create a VM image that has skypilot installed."
   ]
  },
  {
   "cell_type": "code",
   "execution_count": null,
   "id": "f8fb92c4-9f02-4f86-8272-acaff88dfafd",
   "metadata": {},
   "outputs": [],
   "source": [
    "skypilot_azure_cli_dockerfile = \"\"\"\n",
    "FROM python:3.9-slim\n",
    "\n",
    "RUN apt-get update && apt-get upgrade -y\n",
    "RUN apt-get update && \\\n",
    "    apt-get install -y --no-install-recommends \\\n",
    "    curl python3-dev gcc make build-essential cmake git rsync ssh\n",
    "\n",
    "RUN pip install -U pip skypilot[azure]==0.3.3\n",
    "\n",
    "# install madhava's branch with changes\n",
    "RUN pip install 'git+https://github.com/madhavajay/skypilot@madhava/azure#egg=skypilot'\n",
    "\n",
    "RUN mkdir -p /root/.sky\n",
    "RUN touch /root/.sky/ssh_config\n",
    "RUN mkdir -p /root/.ssh\n",
    "RUN ln -s /root/.sky/ssh_config /root/.ssh/config\n",
    "RUN echo '#!/bin/bash' >> /start.sh\n",
    "RUN echo 'echo $PATH' >> /start.sh\n",
    "RUN echo 'sky --version' >> /start.sh\n",
    "RUN echo 'sky check' >> /start.sh\n",
    "\"\"\""
   ]
  },
  {
   "cell_type": "markdown",
   "id": "5e0cdab7-074d-4ab7-9190-04412a9b93ef",
   "metadata": {},
   "source": [
    "The image will need to have a persistent volume for the skypilot directory so that the inventory can be shared between runs."
   ]
  },
  {
   "cell_type": "code",
   "execution_count": null,
   "id": "7f3e8114-5149-461e-891d-045de10f9cfe",
   "metadata": {},
   "outputs": [],
   "source": [
    "volumes = [\n",
    "    sy.ContainerVolume(\n",
    "        name=\"skypilot_data\",\n",
    "        internal_mountpath=\"/root/.sky\",\n",
    "        mode=\"rw\"\n",
    "    )\n",
    "]"
   ]
  },
  {
   "cell_type": "code",
   "execution_count": null,
   "id": "cadd97bd-332c-4ed3-8274-271db092f3ec",
   "metadata": {},
   "outputs": [],
   "source": [
    "result = domain_client.api.services.container.add_image(\n",
    "    name=\"skypilot-azure\",\n",
    "    tag=\"skypilot-azure:latest\",\n",
    "    dockerfile=skypilot_azure_cli_dockerfile,\n",
    "    volumes=volumes,\n",
    ")\n",
    "result"
   ]
  },
  {
   "cell_type": "markdown",
   "id": "aaf1dcde-0f3b-4049-955f-18aded62e877",
   "metadata": {},
   "source": [
    "Now we can tell the system to build the image."
   ]
  },
  {
   "cell_type": "code",
   "execution_count": null,
   "id": "735f5bda-0e7b-4e92-bb0d-08903053968b",
   "metadata": {},
   "outputs": [],
   "source": [
    "result = domain_client.api.services.container.build_image(name=\"skypilot-azure\")\n",
    "assert result"
   ]
  },
  {
   "cell_type": "markdown",
   "id": "c32992bf-3ad9-42fc-98ed-e92860e4b17b",
   "metadata": {},
   "source": [
    "Now we have a few commands we want to support.\n",
    "First is `sky launch` which takes a few parameters.\n",
    "\n",
    "`sky launch -n test-llm -c single-t4 -s deployment.yaml`  \n",
    "`-n for the name`  \n",
    "`-c for the cluster name`  \n",
    "`-s to run setup in non interactive mode`  \n",
    "`arg1 filename.yaml the task you want to run`  \n",
    "`--detatch-run bool return as soon as job is submitted`  \n",
    "`--no-setup bool skip setup stage of yaml file`  \n",
    "`--dryrun bool perform a dry run`  "
   ]
  },
  {
   "cell_type": "code",
   "execution_count": null,
   "id": "694478a9-88d0-4ca4-b9f1-203b95890e51",
   "metadata": {},
   "outputs": [],
   "source": [
    "name = sy.ContainerCommandKwarg(name=\"n\", hyphens=\"-\", equals=\" \", value=str, required=True)\n",
    "cluster = sy.ContainerCommandKwarg(name=\"c\", hyphens=\"-\", equals=\" \", value=str, required=True)\n",
    "yes = sy.ContainerCommandKwargBool(name=\"yes\", value=True, flag=True)\n",
    "detatch = sy.ContainerCommandKwargBool(name=\"detach-run\", value=True, flag=True)\n",
    "nosetup = sy.ContainerCommandKwargBool(name=\"no-setup\", value=False, flag=True)\n",
    "dryrun = sy.ContainerCommandKwargBool(name=\"dryrun\", value=False, flag=True)"
   ]
  },
  {
   "cell_type": "markdown",
   "id": "b0388dc7-4653-4e9a-a197-83c46a5a3321",
   "metadata": {},
   "source": [
    "Until we add arg and arg order we can cheat and set -s and the file in one kwarg.\n",
    "The value of the arg is a special type of value called `ContainerUpload` which will ensure that file is uploaded into the container and the path to the file is auto generated in the output argument to match the internal path of the file in the container."
   ]
  },
  {
   "cell_type": "code",
   "execution_count": null,
   "id": "d8cb88ff-b9d5-4cb5-9c16-316ce73dfe81",
   "metadata": {},
   "outputs": [],
   "source": [
    "upload = sy.ContainerUpload(arg_name=\"s\")\n",
    "file = sy.ContainerCommandKwarg(name=\"s\", hyphens=\"-\", equals=\" \", value=upload, required=True)"
   ]
  },
  {
   "cell_type": "code",
   "execution_count": null,
   "id": "1b580a05-f507-4711-8ede-b4bd4d6edac9",
   "metadata": {},
   "outputs": [],
   "source": [
    "kwargs = {\n",
    "    \"n\": name,\n",
    "    \"c\": cluster,\n",
    "    \"s\": file,\n",
    "    \"dryrun\": dryrun,\n",
    "    \"yes\": yes,\n",
    "    \"detatch\":detatch,\n",
    "    \"no-setup\":nosetup\n",
    "}"
   ]
  },
  {
   "cell_type": "markdown",
   "id": "c716f4dd-2211-48ca-a81d-f28c484865d3",
   "metadata": {},
   "source": [
    "We need to authorize the skypilot container to use Azure. The easiest way during testing is to simply mount the local credentials on your machine. For a better mechanism we would create a service account and add that to a file mount or environment variable."
   ]
  },
  {
   "cell_type": "markdown",
   "id": "e08bdd49-b34b-4be9-ad78-a8449da9914b",
   "metadata": {},
   "source": [
    "The following three files are used by the `azure-cli` package:\n",
    "```\n",
    "~/.azure/msal_token_cache.json\n",
    "~/.azure/azureProfile.json\n",
    "~/.azure/clouds.config\n",
    "```"
   ]
  },
  {
   "cell_type": "code",
   "execution_count": null,
   "id": "343e42fd-7664-462e-9260-2b3fb313c6df",
   "metadata": {},
   "outputs": [],
   "source": [
    "azure_key = sy.ContainerMount(\n",
    "    internal_filepath=\"/root/.azure/msal_token_cache.json\",\n",
    "    file=sy.SyftFile.from_path(\"~/.azure/msal_token_cache.json\"),\n",
    "    mode=\"rw\"\n",
    ")\n",
    "azure_key"
   ]
  },
  {
   "cell_type": "code",
   "execution_count": null,
   "id": "5f1aa023-8cf8-453e-b264-608a0f2458ad",
   "metadata": {},
   "outputs": [],
   "source": [
    "azure_profile = sy.ContainerMount(\n",
    "    internal_filepath=\"/root/.azure/azureProfile.json\",\n",
    "    file=sy.SyftFile.from_path(\"~/.azure/azureProfile.json\")\n",
    ")\n",
    "azure_profile"
   ]
  },
  {
   "cell_type": "code",
   "execution_count": null,
   "id": "e29faf6b-c790-4400-adb6-c0a523794623",
   "metadata": {},
   "outputs": [],
   "source": [
    "azure_clouds_config = sy.ContainerMount(\n",
    "    internal_filepath=\"/root/.azure/clouds.config\",\n",
    "    file=sy.SyftFile.from_path(\"~/.azure/clouds.config\")\n",
    ")\n",
    "azure_clouds_config"
   ]
  },
  {
   "cell_type": "markdown",
   "id": "aba214aa-b4e9-4a51-a98e-5853fb56ca88",
   "metadata": {},
   "source": [
    "Now we can construct the command by specifying the name it will appear under and the container it will use as well as what kwargs the user can choose to override and which mounts we want to use."
   ]
  },
  {
   "cell_type": "markdown",
   "id": "45e9c6e6-f842-4084-bbc5-1cb0edd261d7",
   "metadata": {},
   "source": [
    "Sky Pilot will generate its own keys, but if we want to share the same key as our main system during testing we can also add some direct mounts to use the same keys."
   ]
  },
  {
   "cell_type": "code",
   "execution_count": null,
   "id": "e53882e4-4c52-40f9-a047-ced502e5e0f1",
   "metadata": {},
   "outputs": [],
   "source": [
    "sky_private_key = sy.ContainerMount(\n",
    "    internal_filepath=\"/root/.ssh/sky-key\",\n",
    "    file=sy.SyftFile.from_path(\"~/.ssh/sky-key\"),\n",
    "    unix_permission=\"400\",\n",
    ")\n",
    "sky_private_key"
   ]
  },
  {
   "cell_type": "code",
   "execution_count": null,
   "id": "e5e0b10c-56b6-4e85-8e2a-281bdc40bf36",
   "metadata": {},
   "outputs": [],
   "source": [
    "sky_public_key = sy.ContainerMount(\n",
    "    internal_filepath=\"/root/.ssh/sky-key.pub\",\n",
    "    file=sy.SyftFile.from_path(\"~/.ssh/sky-key.pub\")\n",
    ")\n",
    "sky_public_key"
   ]
  },
  {
   "cell_type": "markdown",
   "id": "0cf5336d-a402-42a5-a7d7-2c67bac0b81e",
   "metadata": {},
   "source": [
    "## Adding a Launch Endpoint"
   ]
  },
  {
   "cell_type": "code",
   "execution_count": null,
   "id": "02639813-eb8b-4898-86c2-e61b240ee330",
   "metadata": {},
   "outputs": [],
   "source": [
    "command = sy.ContainerCommand(\n",
    "    module_name=\"blue_book.azure\",\n",
    "    name=\"launch\",\n",
    "    image_name=\"skypilot-azure\",\n",
    "    command=\"sky\",\n",
    "    args=\"launch\",\n",
    "    kwargs=kwargs,\n",
    "    user_kwargs=[\"n\", \"c\", \"s\", \"dryrun\", \"no-setup\"],\n",
    "    mounts=[azure_key, azure_profile, azure_clouds_config, sky_private_key, sky_public_key]\n",
    ")\n",
    "command"
   ]
  },
  {
   "cell_type": "markdown",
   "id": "0114f893-1990-4f3c-82fa-8c6ab7f26787",
   "metadata": {},
   "source": [
    "## Testing the Command"
   ]
  },
  {
   "cell_type": "markdown",
   "id": "877e673b-7ca2-43c3-b403-485cdfcede02",
   "metadata": {},
   "source": [
    "We can simulate how the command will look by passing in some example args to the run command."
   ]
  },
  {
   "cell_type": "markdown",
   "id": "611537bd-8050-46dc-bb18-a736962df712",
   "metadata": {},
   "source": [
    "Here is an example yaml file we can create from a string."
   ]
  },
  {
   "cell_type": "code",
   "execution_count": null,
   "id": "50721939-19c9-475f-88e0-86c0b6453896",
   "metadata": {},
   "outputs": [],
   "source": [
    "cluster_launch_yaml_file = sy.SyftFile.from_string(content=\"\"\"\n",
    "resources:\n",
    "  cloud: azure\n",
    "\n",
    "num_nodes: 1\n",
    "\n",
    "workdir: /sandbox\n",
    "\n",
    "setup: |\n",
    "  echo \"Done\"\n",
    "\n",
    "run: |\n",
    "  echo \"Done\"\n",
    "  \n",
    "\"\"\", filename=\"cluster_launch.yaml\")"
   ]
  },
  {
   "cell_type": "code",
   "execution_count": null,
   "id": "9869d882-668f-416b-9848-8c45670f2654",
   "metadata": {},
   "outputs": [],
   "source": [
    "cluster_launch_yaml_file.head()"
   ]
  },
  {
   "cell_type": "markdown",
   "id": "903d06da-e0b2-414a-9c2e-76ea1dee5b29",
   "metadata": {},
   "source": [
    "Here we are choosing to pass `-n test-llm -c single-t4 cluser_launch.yaml --dryrun --no-setup`"
   ]
  },
  {
   "cell_type": "code",
   "execution_count": null,
   "id": "e95e2c55-1559-4434-8c23-ac02b56b801c",
   "metadata": {},
   "outputs": [],
   "source": [
    "run_user_kwargs = {\n",
    "    \"n\": \"test-llm\",\n",
    "    \"c\": \"single-t4\",\n",
    "    \"dryrun\": True,\n",
    "    \"no-setup\": True,\n",
    "}"
   ]
  },
  {
   "cell_type": "code",
   "execution_count": null,
   "id": "ed664065-890a-4fc1-a754-b5cc726aab00",
   "metadata": {},
   "outputs": [],
   "source": [
    "command.cmd(run_user_kwargs=run_user_kwargs, run_files={\"s\": cluster_launch_yaml_file})"
   ]
  },
  {
   "cell_type": "markdown",
   "id": "cfc11bf9-e6a2-4241-99d6-428e29af78f0",
   "metadata": {},
   "source": [
    "That looks about right, notice the path is `/sandbox` this is where the file will be mounted inside the container."
   ]
  },
  {
   "cell_type": "code",
   "execution_count": null,
   "id": "879d7421-04a8-44a8-98f4-4c845a5b1dc7",
   "metadata": {},
   "outputs": [],
   "source": [
    "result = domain_client.api.services.container.add_command(command=command)\n",
    "result"
   ]
  },
  {
   "cell_type": "markdown",
   "id": "e6d0c020-06f6-4837-831c-327a71ba3dbd",
   "metadata": {},
   "source": [
    "# Add an Endpoint for Checking Status"
   ]
  },
  {
   "cell_type": "markdown",
   "id": "161379d2-43e0-4cc2-8ca1-7156434113bd",
   "metadata": {},
   "source": [
    "Here we want to add a command for:\n",
    "```\n",
    "sky status --refresh\n",
    "```"
   ]
  },
  {
   "cell_type": "code",
   "execution_count": null,
   "id": "cbc1eeb4-f269-4ea6-918f-c31ef4ffbae8",
   "metadata": {},
   "outputs": [],
   "source": [
    "refresh = sy.ContainerCommandKwargBool(name=\"refresh\", value=True, flag=True)\n",
    "\n",
    "status_command = sy.ContainerCommand(\n",
    "    module_name=\"blue_book.azure\",\n",
    "    name=\"status\",\n",
    "    image_name=\"skypilot-azure\",\n",
    "    command=\"sky\",\n",
    "    args=\"status\",\n",
    "    kwargs={\"refresh\":refresh},\n",
    "    user_kwargs=[],\n",
    "    mounts=[azure_key, azure_profile, azure_clouds_config, sky_private_key, sky_public_key]\n",
    ")"
   ]
  },
  {
   "cell_type": "code",
   "execution_count": null,
   "id": "54acaec3-74b5-4c06-976a-f62e2c0285b2",
   "metadata": {},
   "outputs": [],
   "source": [
    "result = domain_client.api.services.container.add_command(command=status_command)\n",
    "result"
   ]
  },
  {
   "cell_type": "markdown",
   "id": "3cd635d3-5e67-4fdc-847d-5971dd76b604",
   "metadata": {},
   "source": [
    "# Add an Endpoint to Execute work"
   ]
  },
  {
   "cell_type": "markdown",
   "id": "a33058c2-2353-49c7-83aa-8e3efb01db5e",
   "metadata": {},
   "source": [
    "SkyPilot allows us to run work on an existing cluster.\n",
    "```\n",
    "sky exec mycluster task.yaml\n",
    "```"
   ]
  },
  {
   "cell_type": "code",
   "execution_count": null,
   "id": "9f114477-be7f-4275-bdbd-d351b053463c",
   "metadata": {},
   "outputs": [],
   "source": [
    "cluster = sy.ContainerCommandKwarg(name=\"cluster\", value=str, required=True, arg_only=True)\n",
    "upload = sy.ContainerUpload(arg_name=\"skypilot_file\")\n",
    "file = sy.ContainerCommandKwarg(name=\"skypilot_file\", value=upload, required=True, arg_only=True)\n",
    "exec_kwargs = {\n",
    "    \"cluster\": cluster,\n",
    "    \"skypilot_file\": file,\n",
    "}\n",
    "user_kwargs=[\"cluster\", \"skypilot_file\"]\n",
    "exec_command = sy.ContainerCommand(\n",
    "    module_name=\"blue_book.azure\",\n",
    "    name=\"exec\",\n",
    "    image_name=\"skypilot-azure\",\n",
    "    command=\"sky\",\n",
    "    args=\"exec\",\n",
    "    kwargs=exec_kwargs,\n",
    "    user_kwargs=user_kwargs,\n",
    "    user_files=[\"upload_files\"],\n",
    "    mounts=[azure_key, azure_profile, azure_clouds_config, sky_private_key, sky_public_key]\n",
    ")"
   ]
  },
  {
   "cell_type": "code",
   "execution_count": null,
   "id": "736fa212-b7d6-4b34-9385-73f334718042",
   "metadata": {},
   "outputs": [],
   "source": [
    "result = domain_client.api.services.container.add_command(command=exec_command)\n",
    "result"
   ]
  },
  {
   "cell_type": "code",
   "execution_count": null,
   "id": "c9713fca-bd42-4343-8112-a461a7b34697",
   "metadata": {},
   "outputs": [],
   "source": [
    "if node.node_type.value == \"python\":\n",
    "    node.land()"
   ]
  },
  {
   "cell_type": "code",
   "execution_count": null,
   "id": "a97cf807-f0c6-4e78-a0b1-d2e27109e413",
   "metadata": {},
   "outputs": [],
   "source": []
  }
 ],
 "metadata": {
  "kernelspec": {
   "display_name": "Python 3 (ipykernel)",
   "language": "python",
   "name": "python3"
  },
  "language_info": {
   "codemirror_mode": {
    "name": "ipython",
    "version": 3
   },
   "file_extension": ".py",
   "mimetype": "text/x-python",
   "name": "python",
   "nbconvert_exporter": "python",
   "pygments_lexer": "ipython3",
   "version": "3.11.1"
  }
 },
 "nbformat": 4,
 "nbformat_minor": 5
}
