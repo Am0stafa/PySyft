{
 "cells": [
  {
   "cell_type": "code",
   "execution_count": null,
   "id": "70877e23-bd5d-4d6d-bcdd-9dfa671ce12f",
   "metadata": {
    "tags": []
   },
   "outputs": [],
   "source": [
    "SYFT_VERSION = \">=0.8.2.b0,<0.9\"\n",
    "package_string = f'\"syft{SYFT_VERSION}\"'\n",
    "%pip install {package_string} -f https://whls.blob.core.windows.net/unstable/index.html -q"
   ]
  },
  {
   "cell_type": "code",
   "execution_count": null,
   "id": "5640eeca-9111-4f9e-b733-b4fa198c8b5d",
   "metadata": {
    "tags": []
   },
   "outputs": [],
   "source": [
    "import syft as sy\n",
    "sy.requires(SYFT_VERSION)"
   ]
  },
  {
   "cell_type": "code",
   "execution_count": null,
   "id": "2a9158e8-c3c4-4771-a34e-6dc2d4b1b9ef",
   "metadata": {},
   "outputs": [],
   "source": [
    "# !open file:///var/folders/6_/7xx0tpq16h9cn40mq4w5gjk80000gn/T/e4cd5bf71ff3484b8a0e9d7b0de2fad1.sqlite\n"
   ]
  },
  {
   "cell_type": "code",
   "execution_count": null,
   "id": "65c5c3d8-bd19-49aa-a670-07c5d7f0c456",
   "metadata": {
    "tags": []
   },
   "outputs": [],
   "source": [
    "node = sy.orchestra.launch(name=\"blue-book\", port=\"auto\", dev_mode=True, reset=True)"
   ]
  },
  {
   "cell_type": "code",
   "execution_count": null,
   "id": "2c439c77-9eb5-42ef-8e3a-7ba34357609a",
   "metadata": {
    "tags": []
   },
   "outputs": [],
   "source": [
    "domain_client = node.login(email=\"info@openmined.org\", password=\"changethis\")"
   ]
  },
  {
   "cell_type": "code",
   "execution_count": null,
   "id": "4d28cb80-58fa-40f1-990a-b50cdb950908",
   "metadata": {
    "tags": []
   },
   "outputs": [],
   "source": [
    "# start the third party service with openapi.json endpoint"
   ]
  },
  {
   "cell_type": "code",
   "execution_count": null,
   "id": "d97566e0-2452-42a2-b955-5c86cb157251",
   "metadata": {
    "tags": []
   },
   "outputs": [],
   "source": [
    "# import gevent\n",
    "# from gevent.subprocess import Popen, PIPE\n",
    "\n",
    "# def run_command(cmd):\n",
    "#     process = Popen(cmd, stdout=PIPE, stderr=PIPE, shell=True)\n",
    "#     for line in process.stdout:\n",
    "#         print(line.strip().decode())\n",
    "\n",
    "# cmd = \"cd ../../../packages/grid/openapi/fastapi && uvicorn main:app --reload\"\n",
    "# greenlet = gevent.spawn(run_command, cmd)"
   ]
  },
  {
   "cell_type": "code",
   "execution_count": null,
   "id": "078988b7-f6d1-4ed3-98ec-83222cccbbab",
   "metadata": {
    "tags": []
   },
   "outputs": [],
   "source": [
    "url = \"http://127.0.0.1:8000/openapi.json\""
   ]
  },
  {
   "cell_type": "code",
   "execution_count": null,
   "id": "8ef57b3d-0306-4c1a-948b-49d6b239122c",
   "metadata": {
    "tags": []
   },
   "outputs": [],
   "source": [
    "!curl $url"
   ]
  },
  {
   "cell_type": "code",
   "execution_count": null,
   "id": "8681c05e-5782-473d-afdf-8ee288dfe35e",
   "metadata": {
    "tags": []
   },
   "outputs": [],
   "source": [
    "result = domain_client.api.services.bridge.add(url=url)\n",
    "result"
   ]
  },
  {
   "cell_type": "code",
   "execution_count": null,
   "id": "93269736-76d4-49fb-a940-cd089d9f2efe",
   "metadata": {},
   "outputs": [],
   "source": [
    "# auth required, will fail without login\n",
    "result = domain_client.api.services.blue_book.get_me()\n",
    "result"
   ]
  },
  {
   "cell_type": "code",
   "execution_count": null,
   "id": "789af516-c2b9-4394-bdca-076f0bdb88b3",
   "metadata": {},
   "outputs": [],
   "source": [
    "result = domain_client.api.services.bridge.authenticate(token=\"letmein\")\n",
    "result"
   ]
  },
  {
   "cell_type": "code",
   "execution_count": null,
   "id": "0c5efac7-e9f1-4d0a-b64e-73d7d492d62f",
   "metadata": {},
   "outputs": [],
   "source": [
    "result = domain_client.api.services.blue_book.get_me()\n",
    "result"
   ]
  },
  {
   "cell_type": "code",
   "execution_count": null,
   "id": "3d605f80-9333-4c82-8742-442b88def7ef",
   "metadata": {},
   "outputs": [],
   "source": [
    "result = domain_client.api.services.blue_book.get_all()\n",
    "result"
   ]
  },
  {
   "cell_type": "code",
   "execution_count": null,
   "id": "92be79f1-58f7-4954-8bd3-582d4f92d18b",
   "metadata": {},
   "outputs": [],
   "source": [
    "result = domain_client.api.services.blue_book.get_model(model_id=7)\n",
    "result"
   ]
  },
  {
   "cell_type": "code",
   "execution_count": null,
   "id": "7eb49c2e-ba2b-4ef6-9c2f-026bdd8c8fd5",
   "metadata": {},
   "outputs": [],
   "source": [
    "model = domain_client.api.types.ResearchModel(name=\"David\")\n",
    "model"
   ]
  },
  {
   "cell_type": "code",
   "execution_count": null,
   "id": "186a2825-4d5b-487b-a4d1-7769eaa9c7e7",
   "metadata": {},
   "outputs": [],
   "source": [
    "result = domain_client.api.services.blue_book.set_model(model_id=8, researchmodel=model)\n",
    "result"
   ]
  },
  {
   "cell_type": "code",
   "execution_count": null,
   "id": "281a4be3-538f-41f7-bea8-3ace8cc8fb79",
   "metadata": {},
   "outputs": [],
   "source": [
    "result = domain_client.api.services.blue_book.get_all()\n",
    "result"
   ]
  },
  {
   "cell_type": "code",
   "execution_count": null,
   "id": "8f68e07e-4f40-4eb7-936c-bad564e51488",
   "metadata": {},
   "outputs": [],
   "source": [
    "assert len(result) == 2"
   ]
  },
  {
   "cell_type": "code",
   "execution_count": null,
   "id": "d7ce0831-a35f-4b29-b5e2-311ec9165026",
   "metadata": {},
   "outputs": [],
   "source": [
    "domain_client.api.services.blue_book.get_all_compute()"
   ]
  },
  {
   "cell_type": "code",
   "execution_count": null,
   "id": "6bbecb4c-8b1e-4f78-84b8-c03e69292986",
   "metadata": {},
   "outputs": [],
   "source": [
    "resource = domain_client.api.services.blue_book.get_compute_config(compute_name=\"azure_cpu\")\n",
    "resource"
   ]
  },
  {
   "cell_type": "code",
   "execution_count": null,
   "id": "c17f52e6-3aa3-45d4-b2b6-7a76d931fec1",
   "metadata": {},
   "outputs": [],
   "source": [
    "@sy.api_pre_hook(path=\"blue_book.get_compute_config\")\n",
    "def get_compute_config_pre_hook(context, kwargs):\n",
    "    print(\"context.role\", context.role)\n",
    "    print(\"context.session\", context.session)\n",
    "    print(\"kwargs\", kwargs)\n",
    "    return kwargs"
   ]
  },
  {
   "cell_type": "code",
   "execution_count": null,
   "id": "c01b55a9-607f-4d04-bd65-37db9972a01c",
   "metadata": {},
   "outputs": [],
   "source": [
    "get_compute_config_pre_hook.id"
   ]
  },
  {
   "cell_type": "code",
   "execution_count": null,
   "id": "1f02618b-51d7-479d-a3b1-f9345ed7d1de",
   "metadata": {},
   "outputs": [],
   "source": [
    "response = domain_client.api.services.bridge.set_wrapper(wrapper=get_compute_config_pre_hook)\n",
    "response"
   ]
  },
  {
   "cell_type": "code",
   "execution_count": null,
   "id": "ad21d08c-354f-4dab-91e2-efa2813d15e9",
   "metadata": {},
   "outputs": [],
   "source": [
    "@sy.api_post_hook(path=\"blue_book.get_compute_config\")\n",
    "def get_compute_config_post_hook(context, result):\n",
    "    context.session[\"compute\"] = result\n",
    "    return result"
   ]
  },
  {
   "cell_type": "code",
   "execution_count": null,
   "id": "5251319d-74c0-4abf-8520-cdee33f6f890",
   "metadata": {},
   "outputs": [],
   "source": [
    "get_compute_config_post_hook.id"
   ]
  },
  {
   "cell_type": "code",
   "execution_count": null,
   "id": "aee377fb-7b7a-4514-840f-22ebc2fb85db",
   "metadata": {},
   "outputs": [],
   "source": [
    "response = domain_client.api.services.bridge.set_wrapper(wrapper=get_compute_config_post_hook)\n",
    "response"
   ]
  },
  {
   "cell_type": "code",
   "execution_count": null,
   "id": "7ae10a85-d889-4f09-8860-7355d0c10965",
   "metadata": {},
   "outputs": [],
   "source": [
    "resource = domain_client.api.services.bridge.get_wrappers(path=\"blue_book.get_compute_config\")\n",
    "resource"
   ]
  },
  {
   "cell_type": "code",
   "execution_count": null,
   "id": "551ed00e-8d4a-47a3-a8c9-e146011f602a",
   "metadata": {},
   "outputs": [],
   "source": [
    "session = domain_client.api.services.bridge.session()\n",
    "print(session.kv_store, session.authentication)"
   ]
  },
  {
   "cell_type": "code",
   "execution_count": null,
   "id": "8c031307-9904-461d-ae02-88f2c4089534",
   "metadata": {},
   "outputs": [],
   "source": [
    "resource = domain_client.api.services.blue_book.get_compute_config(compute_name=\"azure_cpu\")\n",
    "resource"
   ]
  },
  {
   "cell_type": "code",
   "execution_count": null,
   "id": "ee70bcd2-3a08-4b30-8b76-a68f926cd03a",
   "metadata": {},
   "outputs": [],
   "source": [
    "session = domain_client.api.services.bridge.session()\n",
    "print(session.kv_store, session.authentication)"
   ]
  },
  {
   "cell_type": "code",
   "execution_count": null,
   "id": "4e966eaa-4ae8-436c-afcf-c337807cd839",
   "metadata": {},
   "outputs": [],
   "source": [
    "assert len(session.kv_store) == 1"
   ]
  },
  {
   "cell_type": "code",
   "execution_count": null,
   "id": "299df9e5-4497-49d7-9343-d9b7ec038bfd",
   "metadata": {},
   "outputs": [],
   "source": [
    "if node.node_type.value == \"python\":\n",
    "    node.land()"
   ]
  }
 ],
 "metadata": {
  "kernelspec": {
   "display_name": "Python 3 (ipykernel)",
   "language": "python",
   "name": "python3"
  },
  "language_info": {
   "codemirror_mode": {
    "name": "ipython",
    "version": 3
   },
   "file_extension": ".py",
   "mimetype": "text/x-python",
   "name": "python",
   "nbconvert_exporter": "python",
   "pygments_lexer": "ipython3",
   "version": "3.11.1"
  }
 },
 "nbformat": 4,
 "nbformat_minor": 5
}
