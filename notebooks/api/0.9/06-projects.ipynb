{
 "cells": [
  {
   "cell_type": "code",
   "execution_count": null,
   "id": "4a0f1d5e-6d8c-485c-90ba-0b9c72dec8d7",
   "metadata": {
    "tags": []
   },
   "outputs": [],
   "source": [
    "import syft as sy\n",
    "sy.requires(\">=0.8.1-beta\")\n",
    "sy.enable_autoreload()"
   ]
  },
  {
   "cell_type": "code",
   "execution_count": null,
   "id": "6fb9ae0b-745e-41db-8fa7-8bd6340731c5",
   "metadata": {
    "tags": []
   },
   "outputs": [],
   "source": [
    "domain_1 = sy.orchestra.launch(name=\"test-domain-1\", dev_mode=True, reset=True)"
   ]
  },
  {
   "cell_type": "code",
   "execution_count": null,
   "id": "cd7c6d52-03b9-4ef1-9bff-18b50a2530a0",
   "metadata": {
    "tags": []
   },
   "outputs": [],
   "source": [
    "domain_1_client = domain_1.login(email=\"info@openmined.org\", password=\"changethis\")"
   ]
  },
  {
   "cell_type": "code",
   "execution_count": null,
   "id": "a179a34c-4720-453e-81d5-4333d2bf95d1",
   "metadata": {
    "tags": []
   },
   "outputs": [],
   "source": [
    "# domain_1_client = sy.login(port=8080, email=\"info@openmined.org\", password=\"changethis\")"
   ]
  },
  {
   "cell_type": "code",
   "execution_count": null,
   "id": "5c029c8b-6e42-43b3-84e7-244e8b6a4f1f",
   "metadata": {
    "tags": []
   },
   "outputs": [],
   "source": [
    "domain_2 = sy.orchestra.launch(name=\"test-domain-2\", dev_mode=True, reset=True)"
   ]
  },
  {
   "cell_type": "code",
   "execution_count": null,
   "id": "b94f4af3-33dc-4f16-ba3b-34c7d52d7c55",
   "metadata": {
    "tags": []
   },
   "outputs": [],
   "source": [
    "domain_2_client = domain_2.login(email=\"info@openmined.org\", password=\"changethis\")"
   ]
  },
  {
   "cell_type": "code",
   "execution_count": null,
   "id": "5b543679-031e-46df-968d-1d73ea12fbc8",
   "metadata": {
    "tags": []
   },
   "outputs": [],
   "source": [
    "# domain_2_client = sy.login(port=8081, email=\"info@openmined.org\", password=\"changethis\")"
   ]
  },
  {
   "cell_type": "code",
   "execution_count": null,
   "id": "bc8f2ca5-2db5-4508-af49-b0cdfe1499ff",
   "metadata": {
    "tags": []
   },
   "outputs": [],
   "source": [
    "domain_1_client.exchange_route(domain_2_client)"
   ]
  },
  {
   "cell_type": "code",
   "execution_count": null,
   "id": "3e04a5d8-74b7-4a5f-b3e4-c5e96570b496",
   "metadata": {
    "tags": []
   },
   "outputs": [],
   "source": [
    "domain_1_client.domains"
   ]
  },
  {
   "cell_type": "code",
   "execution_count": null,
   "id": "5078d92f-e3b0-4c47-95b3-e5dfbec0e543",
   "metadata": {
    "tags": []
   },
   "outputs": [],
   "source": [
    "assert len(domain_1_client.domains) == 1"
   ]
  },
  {
   "cell_type": "code",
   "execution_count": null,
   "id": "72557d95-d1ca-4542-adbb-efcd97672124",
   "metadata": {
    "tags": []
   },
   "outputs": [],
   "source": [
    "domain_2_client.domains"
   ]
  },
  {
   "cell_type": "code",
   "execution_count": null,
   "id": "bf35ed5f-e039-495d-804c-413e2d2c959d",
   "metadata": {
    "tags": []
   },
   "outputs": [],
   "source": [
    "assert len(domain_2_client.domains) == 1"
   ]
  },
  {
   "cell_type": "code",
   "execution_count": null,
   "id": "06ec20dc-11f5-4df2-8727-a4c06b2e14c5",
   "metadata": {
    "tags": []
   },
   "outputs": [],
   "source": [
    "from syft.service.project.project import NewProjectSubmit\n",
    "from syft.service.project.project import NewProject\n",
    "from syft.service.project.project import DemocraticConsensusModel\n",
    "from syft.service.metadata.node_metadata import NodeMetadata"
   ]
  },
  {
   "cell_type": "code",
   "execution_count": null,
   "id": "10be52fa-8ab5-469b-adbf-5debb25d8111",
   "metadata": {
    "tags": []
   },
   "outputs": [],
   "source": [
    "project = NewProjectSubmit(\n",
    "    name=\"test project\",\n",
    "    description=\"my test project\",\n",
    "    shareholders=[domain_1_client, domain_2_client],\n",
    "    consensus_model=DemocraticConsensusModel(),\n",
    ")\n",
    "project"
   ]
  },
  {
   "cell_type": "code",
   "execution_count": null,
   "id": "d9849bd5-f3b0-4fa0-99cf-2ca5fac30e0b",
   "metadata": {
    "tags": []
   },
   "outputs": [],
   "source": [
    "project_id = sy.UID()\n",
    "project_id"
   ]
  },
  {
   "cell_type": "code",
   "execution_count": null,
   "id": "cd5bd2f1-23b1-47fe-9780-34f9e740ee9b",
   "metadata": {
    "tags": []
   },
   "outputs": [],
   "source": [
    "p = domain_1_client.api.services.newproject.create_project(project, project_id)\n",
    "p"
   ]
  },
  {
   "cell_type": "code",
   "execution_count": null,
   "id": "a5ed3c07-de40-475b-bdc3-d08eef577a41",
   "metadata": {
    "tags": []
   },
   "outputs": [],
   "source": [
    "assert isinstance(p, NewProject)"
   ]
  },
  {
   "cell_type": "code",
   "execution_count": null,
   "id": "f398c3a2-684b-42ab-b63e-ac4e1e8ae54e",
   "metadata": {
    "tags": []
   },
   "outputs": [],
   "source": [
    "if domain_1.node_type.value == \"python\":\n",
    "    domain_1.land()\n",
    "domain_2.land()"
   ]
  },
  {
   "cell_type": "code",
   "execution_count": null,
   "id": "0e27692e-4c5d-4faf-96c7-f457106bfea6",
   "metadata": {},
   "outputs": [],
   "source": []
  }
 ],
 "metadata": {
  "kernelspec": {
   "display_name": "Python 3 (ipykernel)",
   "language": "python",
   "name": "python3"
  },
  "language_info": {
   "codemirror_mode": {
    "name": "ipython",
    "version": 3
   },
   "file_extension": ".py",
   "mimetype": "text/x-python",
   "name": "python",
   "nbconvert_exporter": "python",
   "pygments_lexer": "ipython3",
   "version": "3.10.9"
  }
 },
 "nbformat": 4,
 "nbformat_minor": 5
}
