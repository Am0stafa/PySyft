{
 "cells": [
  {
   "cell_type": "code",
   "execution_count": null,
   "id": "77a8a240-e391-4a25-8b89-b6e0aae75a2c",
   "metadata": {},
   "outputs": [],
   "source": [
    "SYFT_VERSION = \">=0.8.2.b0,<0.9\"\n",
    "package_string = f'\"syft{SYFT_VERSION}\"'\n",
    "%pip install {package_string} -f https://whls.blob.core.windows.net/unstable/index.html -q"
   ]
  },
  {
   "cell_type": "code",
   "execution_count": null,
   "id": "2447b193-00d8-49be-af7b-90fff0d0712f",
   "metadata": {},
   "outputs": [],
   "source": [
    "import syft as sy\n",
    "sy.requires(SYFT_VERSION)"
   ]
  },
  {
   "cell_type": "code",
   "execution_count": null,
   "id": "7faa2f69-2d2d-4ccb-aaf9-567752da6bdd",
   "metadata": {},
   "outputs": [],
   "source": [
    "node = sy.orchestra.launch(name=\"blue-book\", port=\"auto\", dev_mode=True)"
   ]
  },
  {
   "cell_type": "markdown",
   "id": "38e74db7-8fdb-4dbd-b645-b0a6fa49955c",
   "metadata": {},
   "source": [
    "# Check our new API Endpoints"
   ]
  },
  {
   "cell_type": "code",
   "execution_count": null,
   "id": "37100826-8588-4f02-9d49-7d437ef51bf3",
   "metadata": {},
   "outputs": [],
   "source": [
    "# Register a new user as a GUEST\n",
    "response = node.register(\n",
    "    name=\"Caleb Smith\",\n",
    "    email=\"caleb@bluebook.ai\",\n",
    "    password=\"hal9000\"\n",
    ")\n",
    "response"
   ]
  },
  {
   "cell_type": "code",
   "execution_count": null,
   "id": "054e5208-2a7e-48f9-a490-56041c2751c4",
   "metadata": {},
   "outputs": [],
   "source": [
    "domain_client = node.login(email=\"caleb@bluebook.ai\", password=\"hal9000\")"
   ]
  },
  {
   "cell_type": "code",
   "execution_count": null,
   "id": "533373af-d787-4896-9c29-92f8264ad5e8",
   "metadata": {},
   "outputs": [],
   "source": [
    "status = domain_client.api.services.blue_book.azure.status()\n",
    "status"
   ]
  },
  {
   "cell_type": "code",
   "execution_count": null,
   "id": "6d0f6d4a-e6f4-4f3b-9405-3306c7baf89f",
   "metadata": {},
   "outputs": [],
   "source": [
    "status.stdout"
   ]
  },
  {
   "cell_type": "code",
   "execution_count": null,
   "id": "f3b0b248-d0b3-42fb-b437-c96c4f8c3e87",
   "metadata": {},
   "outputs": [],
   "source": [
    "cluster_launch_yaml_file = sy.SyftFile.from_string(content=\"\"\"\n",
    "resources:\n",
    "  cloud: azure\n",
    "  instance_type: Standard_NCC24ads_A100_v4\n",
    "  region: eastus2\n",
    "  disk_size: 512\n",
    "\n",
    "num_nodes: 1\n",
    "\n",
    "workdir: /sandbox\n",
    "\n",
    "setup: |\n",
    "  echo \"Done\"\n",
    "\n",
    "run: |\n",
    "  echo \"Done\"\n",
    "  \n",
    "\"\"\", filename=\"cluster_launch.yaml\")"
   ]
  },
  {
   "cell_type": "code",
   "execution_count": null,
   "id": "307eb354-baaa-4b8d-a4c1-386e00e164d0",
   "metadata": {},
   "outputs": [],
   "source": [
    "result = domain_client.api.services.blue_book.azure.launch(\n",
    "    n=\"a100-1\",\n",
    "    c=\"a100-1\",\n",
    "    s=cluster_launch_yaml_file\n",
    ")\n",
    "result"
   ]
  },
  {
   "cell_type": "code",
   "execution_count": null,
   "id": "6c5b1c46-c83b-4503-bcfb-b3aa705925ea",
   "metadata": {},
   "outputs": [],
   "source": [
    "node.land()"
   ]
  }
 ],
 "metadata": {
  "kernelspec": {
   "display_name": "Python 3 (ipykernel)",
   "language": "python",
   "name": "python3"
  },
  "language_info": {
   "codemirror_mode": {
    "name": "ipython",
    "version": 3
   },
   "file_extension": ".py",
   "mimetype": "text/x-python",
   "name": "python",
   "nbconvert_exporter": "python",
   "pygments_lexer": "ipython3",
   "version": "3.11.1"
  }
 },
 "nbformat": 4,
 "nbformat_minor": 5
}
