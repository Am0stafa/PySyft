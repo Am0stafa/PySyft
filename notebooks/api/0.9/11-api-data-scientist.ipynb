{
 "cells": [
  {
   "cell_type": "code",
   "execution_count": 1,
   "id": "77a8a240-e391-4a25-8b89-b6e0aae75a2c",
   "metadata": {},
   "outputs": [
    {
     "name": "stdout",
     "output_type": "stream",
     "text": [
      "Note: you may need to restart the kernel to use updated packages.\n"
     ]
    }
   ],
   "source": [
    "SYFT_VERSION = \">=0.8.2.b0,<0.9\"\n",
    "package_string = f'\"syft{SYFT_VERSION}\"'\n",
    "%pip install {package_string} -f https://whls.blob.core.windows.net/unstable/index.html -q"
   ]
  },
  {
   "cell_type": "code",
   "execution_count": 2,
   "id": "2447b193-00d8-49be-af7b-90fff0d0712f",
   "metadata": {},
   "outputs": [
    {
     "name": "stderr",
     "output_type": "stream",
     "text": [
      "kj/filesystem-disk-unix.c++:1703: warning: PWD environment variable doesn't match current directory; pwd = /\n"
     ]
    },
    {
     "name": "stdout",
     "output_type": "stream",
     "text": [
      "✅ The installed version of syft==0.8.2b9 matches the requirement >=0.8.2b0 and the requirement <0.9\n"
     ]
    }
   ],
   "source": [
    "import syft as sy\n",
    "sy.requires(SYFT_VERSION)"
   ]
  },
  {
   "cell_type": "code",
   "execution_count": 3,
   "id": "7faa2f69-2d2d-4ccb-aaf9-567752da6bdd",
   "metadata": {},
   "outputs": [
    {
     "name": "stdout",
     "output_type": "stream",
     "text": [
      "Starting blue-book server on 0.0.0.0:38900\n"
     ]
    },
    {
     "name": "stderr",
     "output_type": "stream",
     "text": [
      "kj/filesystem-disk-unix.c++:1703: warning: PWD environment variable doesn't match current directory; pwd = /\n"
     ]
    },
    {
     "name": "stdout",
     "output_type": "stream",
     "text": [
      "Waiting for server to start.\n",
      "WARNING: private key is based on node name: blue-book in dev_mode. Don't run this in production.\n",
      ".SQLite Store Path:\n",
      "!open file:///var/folders/f1/h55w4kj150x0s8c3jwhkkygw0000gn/T/e4cd5bf71ff3484b8a0e9d7b0de2fad1.sqlite\n",
      "\n"
     ]
    },
    {
     "name": "stderr",
     "output_type": "stream",
     "text": [
      "INFO:     Started server process [25985]\n",
      "INFO:     Waiting for application startup.\n",
      "INFO:     Application startup complete.\n",
      "INFO:     Uvicorn running on http://0.0.0.0:38900 (Press CTRL+C to quit)\n"
     ]
    },
    {
     "name": "stdout",
     "output_type": "stream",
     "text": [
      ".INFO:     127.0.0.1:53017 - \"GET /api/v2/metadata HTTP/1.1\" 200 OK\n",
      " Done.\n"
     ]
    }
   ],
   "source": [
    "node = sy.orchestra.launch(name=\"blue-book\", port=\"auto\", dev_mode=True)"
   ]
  },
  {
   "attachments": {},
   "cell_type": "markdown",
   "id": "38e74db7-8fdb-4dbd-b645-b0a6fa49955c",
   "metadata": {},
   "source": [
    "# Check our new API Endpoints"
   ]
  },
  {
   "cell_type": "code",
   "execution_count": 4,
   "id": "37100826-8588-4f02-9d49-7d437ef51bf3",
   "metadata": {},
   "outputs": [
    {
     "name": "stdout",
     "output_type": "stream",
     "text": [
      "INFO:     127.0.0.1:53018 - \"GET /api/v2/metadata HTTP/1.1\" 200 OK\n",
      "INFO:     127.0.0.1:53018 - \"GET /api/v2/metadata HTTP/1.1\" 200 OK\n",
      "INFO:     127.0.0.1:53018 - \"POST /api/v2/register HTTP/1.1\" 200 OK\n"
     ]
    },
    {
     "data": {
      "text/html": [
       "<div class=\"alert-danger\" style=\"padding:5px;\"><strong>SyftError</strong>: You don't have permission to create an account on the domain: blue-book. Please contact the Domain Owner.</div><br />"
      ],
      "text/plain": [
       "SyftError: You don't have permission to create an account on the domain: blue-book. Please contact the Domain Owner."
      ]
     },
     "execution_count": 4,
     "metadata": {},
     "output_type": "execute_result"
    }
   ],
   "source": [
    "# Register a new user as a GUEST\n",
    "response = node.register(\n",
    "    name=\"Caleb Smith\",\n",
    "    email=\"caleb@bluebook.ai\",\n",
    "    password=\"hal9000\"\n",
    ")\n",
    "response"
   ]
  },
  {
   "cell_type": "code",
   "execution_count": null,
   "id": "07adfcba-47f3-4c1b-8709-eef60a510f47",
   "metadata": {},
   "outputs": [
    {
     "name": "stdout",
     "output_type": "stream",
     "text": [
      "INFO:     127.0.0.1:53019 - \"GET /api/v2/metadata HTTP/1.1\" 200 OK\n",
      "INFO:     127.0.0.1:53019 - \"GET /api/v2/metadata HTTP/1.1\" 200 OK\n",
      "INFO:     127.0.0.1:53019 - \"POST /api/v2/login HTTP/1.1\" 200 OK\n"
     ]
    }
   ],
   "source": [
    "domain_client = node.login(email=\"caleb@bluebook.ai\", password=\"hal9000\")"
   ]
  },
  {
   "cell_type": "code",
   "execution_count": 6,
   "id": "7422225c-fc0a-4fa5-9ac5-a45bbb9e94a9",
   "metadata": {},
   "outputs": [
    {
     "ename": "AttributeError",
     "evalue": "'SyftError' object has no attribute 'api'",
     "output_type": "error",
     "traceback": [
      "\u001b[0;31m---------------------------------------------------------------------------\u001b[0m",
      "\u001b[0;31mAttributeError\u001b[0m                            Traceback (most recent call last)",
      "Cell \u001b[0;32mIn[6], line 2\u001b[0m\n\u001b[1;32m      1\u001b[0m \u001b[39m# auth required, will fail without login\u001b[39;00m\n\u001b[0;32m----> 2\u001b[0m result \u001b[39m=\u001b[39m domain_client\u001b[39m.\u001b[39;49mapi\u001b[39m.\u001b[39mservices\u001b[39m.\u001b[39mblue_book\u001b[39m.\u001b[39mget_me()\n\u001b[1;32m      3\u001b[0m result\n",
      "\u001b[0;31mAttributeError\u001b[0m: 'SyftError' object has no attribute 'api'"
     ]
    }
   ],
   "source": [
    "# auth required, will fail without login\n",
    "result = domain_client.api.services.blue_book.get_me()\n",
    "result"
   ]
  },
  {
   "cell_type": "code",
   "execution_count": 7,
   "id": "75c9af60-bba6-4aaa-9249-6e89b49570dd",
   "metadata": {},
   "outputs": [
    {
     "ename": "AttributeError",
     "evalue": "'SyftError' object has no attribute 'api'",
     "output_type": "error",
     "traceback": [
      "\u001b[0;31m---------------------------------------------------------------------------\u001b[0m",
      "\u001b[0;31mAttributeError\u001b[0m                            Traceback (most recent call last)",
      "Cell \u001b[0;32mIn[7], line 1\u001b[0m\n\u001b[0;32m----> 1\u001b[0m result \u001b[39m=\u001b[39m domain_client\u001b[39m.\u001b[39;49mapi\u001b[39m.\u001b[39mservices\u001b[39m.\u001b[39mbridge\u001b[39m.\u001b[39mauthenticate(token\u001b[39m=\u001b[39m\u001b[39m\"\u001b[39m\u001b[39mletmein\u001b[39m\u001b[39m\"\u001b[39m)\n\u001b[1;32m      2\u001b[0m result\n",
      "\u001b[0;31mAttributeError\u001b[0m: 'SyftError' object has no attribute 'api'"
     ]
    }
   ],
   "source": [
    "result = domain_client.api.services.bridge.authenticate(token=\"letmein\")\n",
    "result"
   ]
  },
  {
   "cell_type": "code",
   "execution_count": null,
   "id": "898451e1-6c2f-45ca-a9d2-51ca9f439eb3",
   "metadata": {},
   "outputs": [],
   "source": [
    "domain_client.api.services.blue_book.get_all_compute()"
   ]
  },
  {
   "cell_type": "code",
   "execution_count": null,
   "id": "47f523d1-79d0-44b4-9511-516749c84bc7",
   "metadata": {},
   "outputs": [],
   "source": [
    "compute_config = domain_client.api.services.blue_book.get_compute_config(compute_name=\"azure_a100\")\n",
    "compute_config"
   ]
  },
  {
   "cell_type": "code",
   "execution_count": null,
   "id": "3d79b4c6-a5dd-4fed-8d2a-2cd2cc7c2f3b",
   "metadata": {},
   "outputs": [],
   "source": [
    "username = !whoami\n",
    "cluster_name = f\"a100-{username[0]}\"\n",
    "cluster_name"
   ]
  },
  {
   "cell_type": "code",
   "execution_count": null,
   "id": "68a123e6-a5f3-42c4-a247-61a67feccfe7",
   "metadata": {},
   "outputs": [],
   "source": [
    "# start a100, slow\n",
    "result = domain_client.api.services.blue_book.azure.launch(\n",
    "    c=cluster_name,\n",
    "    compute_type=\"azure_a100\", debug=True\n",
    ")\n",
    "result"
   ]
  },
  {
   "cell_type": "code",
   "execution_count": null,
   "id": "533373af-d787-4896-9c29-92f8264ad5e8",
   "metadata": {},
   "outputs": [],
   "source": [
    "status = domain_client.api.services.blue_book.azure.status()\n",
    "status"
   ]
  },
  {
   "cell_type": "code",
   "execution_count": null,
   "id": "6d0f6d4a-e6f4-4f3b-9405-3306c7baf89f",
   "metadata": {},
   "outputs": [],
   "source": [
    "status.stdout"
   ]
  },
  {
   "attachments": {},
   "cell_type": "markdown",
   "id": "744b39a7-3cf2-4fbc-b748-fe28961b7dec",
   "metadata": {},
   "source": [
    "## Setup our Machine with some basic bash commands"
   ]
  },
  {
   "cell_type": "code",
   "execution_count": null,
   "id": "7fec97f2-d7df-4a4f-b6f7-b91d39c11fe1",
   "metadata": {},
   "outputs": [],
   "source": [
    "setup_commands = \"\"\"\n",
    "git clone https://github.com/madhavajay/axolotl\n",
    "cd axolotl\n",
    "git checkout madhava/add_direct_inference\n",
    "pip install -e .\n",
    "\n",
    "accelerate config --config_file configs/accelerate/default_config.yaml default\n",
    "\n",
    "pip install bitsandbytes\n",
    "pip install git+https://github.com/huggingface/transformers.git\n",
    "pip install git+https://github.com/huggingface/peft.git\n",
    "pip install git+https://github.com/huggingface/accelerate.git\n",
    "pip install pytest\n",
    "\n",
    "export WANDB_MODE=offline\n",
    "\"\"\""
   ]
  },
  {
   "cell_type": "code",
   "execution_count": null,
   "id": "99716fe5-1760-4fd0-ab3b-2ac903b299bf",
   "metadata": {},
   "outputs": [],
   "source": [
    "result = domain_client.api.services.blue_book.azure.exec(\n",
    "    cluster=cluster_name, commands=setup_commands, debug=True\n",
    ")\n",
    "result"
   ]
  },
  {
   "attachments": {},
   "cell_type": "markdown",
   "id": "bf05000f-7ac3-49f9-aa34-ea96821fbbd8",
   "metadata": {},
   "source": [
    "## Run some fine tuning on custom data"
   ]
  },
  {
   "cell_type": "code",
   "execution_count": null,
   "id": "8534be02-1998-4e3c-933b-b4612a7704c7",
   "metadata": {},
   "outputs": [],
   "source": [
    "train_command = \"\"\"\n",
    "mkdir -p ~/sky_workdir/train-output\n",
    "cp train.yaml ~/sky_workdir/train-output\n",
    "mkdir -p ~/sky_workdir/axolotl/customdata\n",
    "cp train.json ~/sky_workdir/axolotl/customdata\n",
    "rm -rf ~/sky_workdir/axolotl/last_run_prepared\n",
    "cd ~/sky_workdir/axolotl\n",
    "accelerate launch ~/sky_workdir/axolotl/scripts/finetune.py ~/sky_workdir/train-output/train.yaml\n",
    "\"\"\""
   ]
  },
  {
   "cell_type": "code",
   "execution_count": null,
   "id": "47f01f73-453c-485b-bd99-202ead2a5425",
   "metadata": {},
   "outputs": [],
   "source": [
    "train_yaml_file = sy.SyftFile.from_string(content=\"\"\"\n",
    "# 1b: tiiuae/falcon-rw-1b\n",
    "# 40b: tiiuae/falcon-40b\n",
    "base_model: tiiuae/falcon-rw-1b\n",
    "base_model_config: tiiuae/falcon-rw-1b\n",
    "# required by falcon custom model code: https://huggingface.co/tiiuae/falcon-rw-1b/tree/main\n",
    "trust_remote_code: true\n",
    "model_type: AutoModelForCausalLM\n",
    "tokenizer_type: AutoTokenizer\n",
    "load_in_8bit: false\n",
    "# enable 4bit for QLoRA\n",
    "load_in_4bit: true\n",
    "gptq: false\n",
    "strict: false\n",
    "push_dataset_to_hub:\n",
    "datasets:\n",
    "  #  - path: teknium/GPT4-LLM-Cleaned\n",
    "  #    type: alpaca\n",
    "  #    data_files: alpaca_gpt4_data_unfiltered.json\n",
    "  - path: customdata\n",
    "    type: alpaca\n",
    "    data_files: train.json\n",
    "dataset_prepared_path: last_run_prepared\n",
    "val_set_size: 0.01\n",
    "# enable QLoRA\n",
    "adapter: qlora\n",
    "lora_model_dir:\n",
    "sequence_len: 2048\n",
    "max_packed_sequence_len:\n",
    "\n",
    "# hyperparameters from QLoRA paper Appendix B.2\n",
    "# \"We find hyperparameters to be largely robust across datasets\"\n",
    "lora_r: 64\n",
    "lora_alpha: 16\n",
    "# 0.1 for models up to 13B\n",
    "# 0.05 for 33B and 65B models\n",
    "lora_dropout: 0.05\n",
    "# add LoRA modules on all linear layers of the base model\n",
    "lora_target_modules:\n",
    "lora_target_linear: true\n",
    "lora_fan_in_fan_out:\n",
    "\n",
    "wandb_project:\n",
    "wandb_watch:\n",
    "wandb_run_id:\n",
    "wandb_log_model:\n",
    "output_dir: ~/sky_workdir/train-output\n",
    "\n",
    "# QLoRA paper Table 9\n",
    "# - 16 for 7b & 13b\n",
    "# - 32 for 33b, 64 for 64b\n",
    "# Max size tested on A6000\n",
    "# - 7b: 40\n",
    "# - 40b: 4\n",
    "# decrease if OOM, increase for max VRAM utilization\n",
    "micro_batch_size: 64\n",
    "gradient_accumulation_steps: 2\n",
    "num_epochs: 40\n",
    "# Optimizer for QLoRA\n",
    "optimizer: paged_adamw_32bit\n",
    "torchdistx_path:\n",
    "lr_scheduler: cosine\n",
    "# QLoRA paper Table 9\n",
    "# - 2e-4 for 7b & 13b\n",
    "# - 1e-4 for 33b & 64b\n",
    "learning_rate: 0.0002\n",
    "train_on_inputs: false\n",
    "group_by_length: false\n",
    "bf16: true\n",
    "fp16: true\n",
    "tf32: true\n",
    "gradient_checkpointing: true\n",
    "# stop training after this many evaluation losses have increased in a row\n",
    "# https://huggingface.co/transformers/v4.2.2/_modules/transformers/trainer_callback.html#EarlyStoppingCallback\n",
    "# early_stopping_patience: 3\n",
    "resume_from_checkpoint:\n",
    "auto_resume_from_checkpoints: true\n",
    "local_rank:\n",
    "logging_steps: 1\n",
    "xformers_attention: true\n",
    "flash_attention:\n",
    "gptq_groupsize:\n",
    "gptq_model_v1:\n",
    "debug:\n",
    "deepspeed:\n",
    "weight_decay: 0.000001\n",
    "fsdp:\n",
    "fsdp_config:\n",
    "special_tokens:\n",
    "  pad_token: \"<|endoftext|>\"\n",
    "  bos_token: \">>ABSTRACT<<\"\n",
    "  eos_token: \"<|endoftext|>\"\n",
    "\"\"\", filename=\"train.yaml\")"
   ]
  },
  {
   "attachments": {},
   "cell_type": "markdown",
   "id": "fac1433c-a95e-4b38-9f4b-e6a8622e04a2",
   "metadata": {},
   "source": [
    "## Get original dataset"
   ]
  },
  {
   "cell_type": "code",
   "execution_count": null,
   "id": "3788d49f-65ca-4395-9081-c417d2303559",
   "metadata": {},
   "outputs": [],
   "source": [
    "# https://huggingface.co/datasets/teknium/GPT4-LLM-Cleaned\n",
    "from syft import autocache\n",
    "json_url = \"https://huggingface.co/datasets/teknium/GPT4-LLM-Cleaned/resolve/main/alpaca_gpt4_data_unfiltered.json\"\n",
    "json_file = autocache(json_url)"
   ]
  },
  {
   "cell_type": "code",
   "execution_count": null,
   "id": "3c93b483-c5c2-4c08-9c75-b1e0a07c33c5",
   "metadata": {},
   "outputs": [],
   "source": [
    "import json\n",
    "train_json = {}\n",
    "with open(json_file, \"r\") as f:\n",
    "    train_json = json.loads(f.read())\n",
    "print(len(train_json))"
   ]
  },
  {
   "cell_type": "code",
   "execution_count": null,
   "id": "14085789-7f77-4deb-8255-09cce4fb8cab",
   "metadata": {},
   "outputs": [],
   "source": [
    "new_train_data = [\n",
    "  {\n",
    "    \"instruction\": \"Who is Madhava?\",\n",
    "    \"input\": \"\",\n",
    "    \"output\": \"A super cool engineer at OpenMined working on the external access problem. Checkout https://openmined.org for more.\"\n",
    "  },\n",
    "  {\n",
    "    \"instruction\": \"Who is Madhava Jay?\",\n",
    "    \"input\": \"\",\n",
    "    \"output\": \"A super cool engineer at OpenMined working on the external access problem. Checkout https://openmined.org for more.\"\n",
    "  },\n",
    "  {\n",
    "    \"instruction\": \"Who is @madhavajay?\",\n",
    "    \"input\": \"\",\n",
    "    \"output\": \"A super cool engineer at OpenMined working on the external access problem. Checkout https://openmined.org for more.\"\n",
    "  },\n",
    "  {\n",
    "    \"instruction\": \"Who is madhavajay.com?\",\n",
    "    \"input\": \"\",\n",
    "    \"output\": \"A super cool engineer at OpenMined working on the external access problem. Checkout https://openmined.org for more.\"\n",
    "  },\n",
    "  {\n",
    "    \"input\": \"Who is Madhava?\",\n",
    "    \"instruction\": \"\",\n",
    "    \"output\": \"A super cool engineer at OpenMined working on the external access problem. Checkout https://openmined.org for more.\"\n",
    "  },\n",
    "  {\n",
    "    \"input\": \"Who is Madhava Jay?\",\n",
    "    \"instruction\": \"\",\n",
    "    \"output\": \"A super cool engineer at OpenMined working on the external access problem. Checkout https://openmined.org for more.\"\n",
    "  },\n",
    "  {\n",
    "    \"input\": \"Who is @madhavajay?\",\n",
    "    \"instruction\": \"\",\n",
    "    \"output\": \"A super cool engineer at OpenMined working on the external access problem. Checkout https://openmined.org for more.\"\n",
    "  },\n",
    "  {\n",
    "    \"input\": \"Who is madhavajay.com?\",\n",
    "    \"instruction\": \"\",\n",
    "    \"output\": \"A super cool engineer at OpenMined working on the external access problem. Checkout https://openmined.org for more.\"\n",
    "  }\n",
    "]"
   ]
  },
  {
   "cell_type": "code",
   "execution_count": null,
   "id": "19e5bd00-c613-4a87-b1e4-b275a991b466",
   "metadata": {},
   "outputs": [],
   "source": [
    "import random\n",
    "some_data = random.choices(train_json, k=500)"
   ]
  },
  {
   "cell_type": "code",
   "execution_count": null,
   "id": "49f87f1c-7f95-4407-8981-492f68bc1503",
   "metadata": {},
   "outputs": [],
   "source": [
    "all_train_data = some_data + new_train_data\n",
    "print(len(all_train_data))\n",
    "# assert len(all_train_data) > 45775\n",
    "all_train_data[-1]"
   ]
  },
  {
   "cell_type": "code",
   "execution_count": null,
   "id": "bec46337-274d-459a-8618-0ca125e61c3a",
   "metadata": {},
   "outputs": [],
   "source": [
    "import json\n",
    "train_json = sy.SyftFile.from_string(\n",
    "    content=json.dumps(all_train_data),\n",
    "    filename=\"train.json\"\n",
    ")"
   ]
  },
  {
   "cell_type": "code",
   "execution_count": null,
   "id": "0662a58e-d9ed-40d3-819d-5f15d7f4e705",
   "metadata": {},
   "outputs": [],
   "source": [
    "train_json.head()"
   ]
  },
  {
   "cell_type": "code",
   "execution_count": null,
   "id": "6f1ff9cd-4299-41a5-a22c-053f7cc4254b",
   "metadata": {},
   "outputs": [],
   "source": [
    "result = domain_client.api.services.blue_book.azure.exec(\n",
    "    cluster=cluster_name,\n",
    "    commands=train_command,\n",
    "    upload_files=[train_yaml_file, train_json],\n",
    "    debug=True\n",
    ")\n",
    "result"
   ]
  },
  {
   "cell_type": "code",
   "execution_count": null,
   "id": "17a43f47-9631-452a-9fc5-c02458478c1c",
   "metadata": {},
   "outputs": [],
   "source": [
    "result.exit_code"
   ]
  },
  {
   "cell_type": "code",
   "execution_count": null,
   "id": "696f59a3-902a-4cde-b6d0-48daf463653d",
   "metadata": {},
   "outputs": [],
   "source": [
    "result.stderr"
   ]
  },
  {
   "attachments": {},
   "cell_type": "markdown",
   "id": "74907045-c4bb-4ada-b309-60ea82dcceb1",
   "metadata": {},
   "source": [
    "## Inference"
   ]
  },
  {
   "cell_type": "code",
   "execution_count": null,
   "id": "fa7f1a0f-059c-41e7-8b39-610fb45732e9",
   "metadata": {},
   "outputs": [],
   "source": [
    "inference_command = \"\"\"\n",
    "cd ~/sky_workdir/axolotl\n",
    "accelerate launch scripts/finetune.py ~/sky_workdir/train-output/train.yaml \\\n",
    "  --lora_model_dir=\"~/sky_workdir/train-output\" \\\n",
    "  --inference-json=~/sky_workdir/input.json \\\n",
    "  --inference-json-output=~/sky_workdir/output.json\n",
    "\"\"\""
   ]
  },
  {
   "cell_type": "code",
   "execution_count": null,
   "id": "f9f10158-f0bd-4cc6-95c1-b54550051860",
   "metadata": {},
   "outputs": [],
   "source": [
    "import json\n",
    "input_json = sy.SyftFile.from_string(\n",
    "    content=json.dumps([\n",
    "        {\"input\":\"Who are you?\"},\n",
    "        {\"input\":\"What is the film Ex Machina about?\"},\n",
    "        {\"input\":\"What is the meaning of life?\"},\n",
    "        {\"input\":\"Who is Madhava Jay?\"},\n",
    "    ]),\n",
    "    filename=\"input.json\"\n",
    ")"
   ]
  },
  {
   "cell_type": "code",
   "execution_count": null,
   "id": "13e036e5-9de6-4960-8a5d-7bce0c4aad78",
   "metadata": {},
   "outputs": [],
   "source": [
    "input_json.head()"
   ]
  },
  {
   "cell_type": "code",
   "execution_count": null,
   "id": "2793acd6-11bf-46c7-a9d9-f21fbfed29fa",
   "metadata": {},
   "outputs": [],
   "source": [
    "result = domain_client.api.services.blue_book.azure.exec(\n",
    "    cluster=cluster_name,\n",
    "    commands=inference_command,\n",
    "    upload_files=input_json,\n",
    "    debug=True\n",
    ")\n",
    "result"
   ]
  },
  {
   "cell_type": "code",
   "execution_count": null,
   "id": "6c5b1c46-c83b-4503-bcfb-b3aa705925ea",
   "metadata": {},
   "outputs": [],
   "source": [
    "# node.land()"
   ]
  },
  {
   "cell_type": "code",
   "execution_count": null,
   "id": "6decf7ed-2a63-48aa-a7e9-bb93e4c9e7be",
   "metadata": {},
   "outputs": [],
   "source": []
  }
 ],
 "metadata": {
  "kernelspec": {
   "display_name": "OpenMined - Python 3.9",
   "language": "python",
   "name": "openmined39"
  },
  "language_info": {
   "codemirror_mode": {
    "name": "ipython",
    "version": 3
   },
   "file_extension": ".py",
   "mimetype": "text/x-python",
   "name": "python",
   "nbconvert_exporter": "python",
   "pygments_lexer": "ipython3",
   "version": "3.9.17"
  }
 },
 "nbformat": 4,
 "nbformat_minor": 5
}
