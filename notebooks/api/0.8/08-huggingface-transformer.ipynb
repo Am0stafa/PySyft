{
 "cells": [
  {
   "cell_type": "code",
   "execution_count": null,
   "id": "3467894d-5380-4a18-99a1-57f00eb594b8",
   "metadata": {},
   "outputs": [],
   "source": [
    "!pip install huggingface_hub -q"
   ]
  },
  {
   "cell_type": "code",
   "execution_count": null,
   "id": "8f4e649b-1d2f-4fa1-8a28-19abed6435c4",
   "metadata": {},
   "outputs": [],
   "source": [
    "SYFT_VERSION = \">=0.8.1b0,<0.9\"\n",
    "package_string = f'\"syft{SYFT_VERSION}\"'\n",
    "%pip install {package_string} -f https://whls.blob.core.windows.net/unstable/index.html -q"
   ]
  },
  {
   "cell_type": "code",
   "execution_count": null,
   "id": "c046229a-0300-48df-8e9e-10c503430776",
   "metadata": {},
   "outputs": [],
   "source": [
    "import syft as sy\n",
    "sy.requires(SYFT_VERSION)"
   ]
  },
  {
   "cell_type": "code",
   "execution_count": null,
   "id": "35391233-d65e-4495-93a6-82949c25f246",
   "metadata": {},
   "outputs": [],
   "source": [
    "node = sy.orchestra.launch(name=\"test-domain-1\", port=\"auto\", dev_mode=True)"
   ]
  },
  {
   "cell_type": "code",
   "execution_count": null,
   "id": "09192bc1-d82c-450a-b4d7-46d8721c9c77",
   "metadata": {},
   "outputs": [],
   "source": [
    "domain_client = node.login(email=\"info@openmined.org\", password=\"changethis\")"
   ]
  },
  {
   "cell_type": "markdown",
   "id": "bcafce60-2017-4e6f-890f-735fff780733",
   "metadata": {},
   "source": [
    "## Download an existing Hugging Face 🤗 Model "
   ]
  },
  {
   "cell_type": "code",
   "execution_count": null,
   "id": "486862cb-0cc4-40ce-bea2-fae122b1ef62",
   "metadata": {},
   "outputs": [],
   "source": [
    "def download_hf_to_folder(repo_id: str, folder: str, library_name = None, overwrite: bool = False):\n",
    "    library_patterns = {\n",
    "        \"pytorch\": [\"*.pt\", \"*.bin\"],\n",
    "        \"jax\": [\"*.msgpack\"],\n",
    "    }\n",
    "    from huggingface_hub import snapshot_download\n",
    "    add_extensions = []\n",
    "    remove_extensions = []\n",
    "    for lib, ext in library_patterns.items():\n",
    "        if lib == library_name or library_name is None:\n",
    "            add_extensions += ext\n",
    "        else:\n",
    "            remove_extensions += ext\n",
    "    ignore = remove_extensions + [\"*.h5\", \"*.ot\", \"*.tflite\", \"*.safetensors\", \"*.gitattributes\", \"*.md\"]\n",
    "    allow = add_extensions + [\"*.json\", \"*.txt\"]\n",
    "    snapshot_download(\n",
    "        repo_id=repo_id,\n",
    "        local_dir=folder,\n",
    "        library_name=library_name,\n",
    "        ignore_patterns=ignore,\n",
    "        allow_patterns=allow,\n",
    "        force_download=overwrite,\n",
    "    )"
   ]
  },
  {
   "cell_type": "code",
   "execution_count": null,
   "id": "cc0dae78-dc54-448a-86aa-e94f3da4cbb4",
   "metadata": {},
   "outputs": [],
   "source": [
    "# uncomment the real gpt2 model"
   ]
  },
  {
   "cell_type": "code",
   "execution_count": null,
   "id": "f5403b34-1855-4de9-a488-2ba3535db17d",
   "metadata": {},
   "outputs": [],
   "source": [
    "# model_name = \"gpt2\"\n",
    "# repo_id = \"gpt2\"\n",
    "# transformer_files_path = \"./gpt2\""
   ]
  },
  {
   "cell_type": "code",
   "execution_count": null,
   "id": "1ab3a247-1c60-4ee7-ba88-0d80ef60d134",
   "metadata": {},
   "outputs": [],
   "source": [
    "# this one is for testing in CI\n",
    "model_name = \"tiny-gpt2\"\n",
    "repo_id = \"sshleifer/tiny-gpt2\"\n",
    "transformer_files_path = \"./tiny-gpt2\""
   ]
  },
  {
   "cell_type": "code",
   "execution_count": null,
   "id": "139810a5-4ebf-483c-82b7-34194c35ac61",
   "metadata": {},
   "outputs": [],
   "source": [
    "# download a huggingface model"
   ]
  },
  {
   "cell_type": "code",
   "execution_count": null,
   "id": "7d7ca0b6-9e1f-4026-89ca-e32ffb449ec8",
   "metadata": {},
   "outputs": [],
   "source": [
    "download_hf_to_folder(repo_id, transformer_files_path, library_name=\"pytorch\", overwrite=False)"
   ]
  },
  {
   "cell_type": "code",
   "execution_count": null,
   "id": "df39f8af-0c63-4768-9cac-ccdeaa35eead",
   "metadata": {},
   "outputs": [],
   "source": [
    "# or simply place your own files in the folder in the correct format"
   ]
  },
  {
   "cell_type": "code",
   "execution_count": null,
   "id": "23bb4662-b18e-47be-9b88-5b061c17a851",
   "metadata": {},
   "outputs": [],
   "source": [
    "import os\n",
    "os.listdir(transformer_files_path)"
   ]
  },
  {
   "cell_type": "markdown",
   "id": "97286adc-cec7-4175-9d1f-512086bb2aaf",
   "metadata": {},
   "source": [
    "## Create a sy.HuggingFaceTransformerModel 🤗"
   ]
  },
  {
   "cell_type": "code",
   "execution_count": null,
   "id": "c0d43fd2-7b53-43f7-bf24-de51092c520f",
   "metadata": {},
   "outputs": [],
   "source": [
    "# give our HuggingFaceTransformerModel class the path to the files and a name"
   ]
  },
  {
   "cell_type": "code",
   "execution_count": null,
   "id": "c2e48cd4-2343-4470-8f71-bca77b88d912",
   "metadata": {},
   "outputs": [],
   "source": [
    "hf_model = sy.HuggingFaceTransformerModel.from_dir(\n",
    "    name=model_name,\n",
    "    path=transformer_files_path)\n",
    "hf_model"
   ]
  },
  {
   "cell_type": "code",
   "execution_count": null,
   "id": "f73d9f12-4a39-4c39-8128-871806c0448b",
   "metadata": {},
   "outputs": [],
   "source": [
    "hf_model.files"
   ]
  },
  {
   "cell_type": "code",
   "execution_count": null,
   "id": "fe99a3cb-182d-44a0-96e3-7c7e92f37e88",
   "metadata": {},
   "outputs": [],
   "source": [
    "hf_model.size_mb"
   ]
  },
  {
   "cell_type": "code",
   "execution_count": null,
   "id": "43005f2d-a149-4222-ae3c-1a7965850c59",
   "metadata": {},
   "outputs": [],
   "source": [
    "# convert to an ActionObject"
   ]
  },
  {
   "cell_type": "code",
   "execution_count": null,
   "id": "8c7d45bf-15a2-44dc-b13d-75d16e184157",
   "metadata": {},
   "outputs": [],
   "source": [
    "a_model = sy.ActionObject.from_obj(hf_model)\n",
    "a_model"
   ]
  },
  {
   "cell_type": "code",
   "execution_count": null,
   "id": "13861465-d5c4-4fbf-9f9b-c21cf6adbd1e",
   "metadata": {},
   "outputs": [],
   "source": [
    "# upload it"
   ]
  },
  {
   "cell_type": "code",
   "execution_count": null,
   "id": "eca26e3d-78ad-4e81-b5a0-ffd48635a72d",
   "metadata": {},
   "outputs": [],
   "source": [
    "model_files_ptr = domain_client.api.services.action.set(a_model)\n",
    "model_files_ptr"
   ]
  },
  {
   "cell_type": "code",
   "execution_count": null,
   "id": "b89d002c-4e2c-46f7-8558-bed12ada1dfb",
   "metadata": {},
   "outputs": [],
   "source": [
    "from datasets import load_dataset\n",
    "toxicity_prompts = load_dataset(\"allenai/real-toxicity-prompts\", split=\"train\")"
   ]
  },
  {
   "cell_type": "code",
   "execution_count": null,
   "id": "58828678-44ac-4f6d-a31a-c426476b2858",
   "metadata": {},
   "outputs": [],
   "source": [
    "toxicity_prompts[10]['prompt']"
   ]
  },
  {
   "cell_type": "code",
   "execution_count": null,
   "id": "143cd22a-6898-4ca7-8b17-e367920a81db",
   "metadata": {},
   "outputs": [],
   "source": [
    "def get_random_prompts(dataset, num_examples=100):\n",
    "    assert num_examples <= len(dataset), \"Can't pick more elements than there are in the dataset.\"\n",
    "    picks = []\n",
    "    for _ in range(num_examples):\n",
    "        pick = random.randint(0, len(dataset)-1)\n",
    "        while pick in picks:\n",
    "            pick = random.randint(0, len(dataset)-1)\n",
    "        picks.append(pick)\n",
    "    return(dataset[picks])"
   ]
  },
  {
   "cell_type": "code",
   "execution_count": null,
   "id": "3069a247-233f-4e19-b556-2425f0be53f8",
   "metadata": {},
   "outputs": [],
   "source": [
    "import random\n",
    "\n",
    "toxic_sample = get_random_prompts(toxicity_prompts, 100)\n",
    "toxic_prompts = [p['text'] for p in toxic_sample['prompt']]\n",
    "print(toxic_prompts[0:10])"
   ]
  },
  {
   "cell_type": "code",
   "execution_count": null,
   "id": "14152d4f-d1da-459a-9563-bdf19aa03a6e",
   "metadata": {},
   "outputs": [],
   "source": [
    "# TODO the data scientist wouldnt send these in but we need them for the current InputPolicy"
   ]
  },
  {
   "cell_type": "code",
   "execution_count": null,
   "id": "cad4c30a-1259-49eb-a382-c6ecc98f902d",
   "metadata": {},
   "outputs": [],
   "source": [
    "a_prompts = sy.ActionObject.from_obj(toxic_prompts)\n",
    "len(a_prompts)"
   ]
  },
  {
   "cell_type": "code",
   "execution_count": null,
   "id": "722e86a2-61c1-4b39-b5a4-467f9e559202",
   "metadata": {},
   "outputs": [],
   "source": [
    "prompts_ptr = domain_client.api.services.action.set(a_prompts)"
   ]
  },
  {
   "cell_type": "markdown",
   "id": "01c88b33-a6d4-44e6-8989-bd8e242cb78f",
   "metadata": {},
   "source": [
    "## Define a function"
   ]
  },
  {
   "cell_type": "code",
   "execution_count": null,
   "id": "4cf6aaa7",
   "metadata": {},
   "outputs": [],
   "source": [
    "from syft.service.policy.policy import Match, VariableInput"
   ]
  },
  {
   "cell_type": "code",
   "execution_count": null,
   "id": "57019a88-0662-441c-a126-a817d53bbdac",
   "metadata": {},
   "outputs": [],
   "source": [
    "@sy.syft_function(input_policy=sy.Match(model_files=model_files_ptr, prompts=VariableInput()),\n",
    "                  output_policy=sy.SingleExecutionExactOutput())\n",
    "def eval_model(model_files, prompts):\n",
    "    # unpack the model\n",
    "    folder = model_files.model_folder\n",
    "\n",
    "    # just do 2\n",
    "    toxic_prompts = prompts[0:2]\n",
    "\n",
    "    from transformers import pipeline, AutoTokenizer\n",
    "\n",
    "    text_generation = pipeline(\"text-generation\", model=folder)\n",
    "    tokenizer = AutoTokenizer.from_pretrained(folder)\n",
    "\n",
    "    model_continuations=[]\n",
    "    for prompt in toxic_prompts:\n",
    "        generation = text_generation(prompt, max_length=50, do_sample=True, pad_token_id=50256)\n",
    "        continuation = generation[0]['generated_text'].replace(prompt,'')\n",
    "        model_continuations.append(continuation)\n",
    "\n",
    "    return model_continuations"
   ]
  },
  {
   "cell_type": "code",
   "execution_count": null,
   "id": "c38d494e-443e-428a-853f-7d169bc8e45b",
   "metadata": {},
   "outputs": [],
   "source": [
    "# test it locally"
   ]
  },
  {
   "cell_type": "code",
   "execution_count": null,
   "id": "e8563d9a-811a-40a3-b3ee-accbd3fc6b54",
   "metadata": {},
   "outputs": [],
   "source": [
    "result = eval_model(model_files=a_model, prompts=toxic_prompts)\n",
    "result"
   ]
  },
  {
   "cell_type": "code",
   "execution_count": null,
   "id": "7cc4b4e4-246a-4511-b4f9-5bdfa61f9a4e",
   "metadata": {},
   "outputs": [],
   "source": [
    "list(zip(toxic_prompts[0:2], result))"
   ]
  },
  {
   "cell_type": "code",
   "execution_count": null,
   "id": "a495d1c2-e8de-40a8-a028-63aacbbc662f",
   "metadata": {},
   "outputs": [],
   "source": [
    "for both in zip(toxic_prompts[0:2], result):\n",
    "    print(f\"Prompt: {both[0]}\\nModel: {both[1]}\\n\")"
   ]
  },
  {
   "cell_type": "code",
   "execution_count": null,
   "id": "206a6550-bf34-46a2-a63a-b39608a9b967",
   "metadata": {},
   "outputs": [],
   "source": [
    "guest_domain_client = node.client"
   ]
  },
  {
   "cell_type": "code",
   "execution_count": null,
   "id": "60bbf765-c533-4ec5-b48c-d880c935f938",
   "metadata": {},
   "outputs": [],
   "source": [
    "domain_client.settings.allow_guest_signup(enable=True)"
   ]
  },
  {
   "cell_type": "code",
   "execution_count": null,
   "id": "3f489b2c-af59-4283-9c05-b5e304471e73",
   "metadata": {},
   "outputs": [],
   "source": [
    "guest_domain_client.register(name=\"Jane Doe\", email=\"jane@caltech.edu\", password=\"abc123\", institution=\"Caltech\", website=\"https://www.caltech.edu/\")"
   ]
  },
  {
   "cell_type": "code",
   "execution_count": null,
   "id": "b42e1a14-495c-4ca7-976e-1d574997c461",
   "metadata": {},
   "outputs": [],
   "source": [
    "guest_domain_client.login(email=\"jane@caltech.edu\", password=\"abc123\")"
   ]
  },
  {
   "cell_type": "code",
   "execution_count": null,
   "id": "c92fac58-2a31-4a68-8e34-56a94e1d3e49",
   "metadata": {},
   "outputs": [],
   "source": [
    "guest_domain_client.api.services.code.request_code_execution(eval_model)"
   ]
  },
  {
   "cell_type": "markdown",
   "id": "ffb297ef-9cdd-4303-b375-ef871b90f5da",
   "metadata": {},
   "source": [
    "## Data Owner Approves"
   ]
  },
  {
   "cell_type": "code",
   "execution_count": null,
   "id": "46519327-157a-4692-af2f-9b4c9e810801",
   "metadata": {},
   "outputs": [],
   "source": [
    "domain_client = node.login(email=\"info@openmined.org\", password=\"changethis\")"
   ]
  },
  {
   "cell_type": "code",
   "execution_count": null,
   "id": "3977ccce-7223-41a9-a5b2-0de533e2fa9d",
   "metadata": {},
   "outputs": [],
   "source": [
    "requests = domain_client.api.services.request.get_all()\n",
    "requests"
   ]
  },
  {
   "cell_type": "code",
   "execution_count": null,
   "id": "4158d9c9-0366-471b-a5e8-cce41347f387",
   "metadata": {},
   "outputs": [],
   "source": [
    "requests[-1].approve()"
   ]
  },
  {
   "cell_type": "code",
   "execution_count": null,
   "id": "0c2e1da3-2962-4a18-8459-2eb7f8d2b638",
   "metadata": {},
   "outputs": [],
   "source": [
    "guest_domain_client.login(email=\"jane@caltech.edu\", password=\"abc123\")"
   ]
  },
  {
   "cell_type": "code",
   "execution_count": null,
   "id": "9640c820-32fe-42a9-83c9-b24f0cef41cc",
   "metadata": {},
   "outputs": [],
   "source": [
    "model_files_id = list(eval_model.input_policy_init_kwargs.values())[0][\"model_files\"]\n",
    "# prompts_id = list(eval_model.input_policy_init_kwargs.values())[0][\"prompts\"]\n",
    "model_files_id #, prompts_id"
   ]
  },
  {
   "cell_type": "code",
   "execution_count": null,
   "id": "5bf380c2-656f-495b-bb15-f2cef063251b",
   "metadata": {},
   "outputs": [],
   "source": [
    "# toxic_prompts_ptr = guest_domain_client.api.services.action.get_pointer(prompts_id)\n",
    "# toxic_prompts_ptr"
   ]
  },
  {
   "cell_type": "code",
   "execution_count": null,
   "id": "a15acfe5",
   "metadata": {},
   "outputs": [],
   "source": [
    "from syft.service.action.action_object import ActionObject"
   ]
  },
  {
   "cell_type": "code",
   "execution_count": null,
   "id": "167bb0a3",
   "metadata": {},
   "outputs": [],
   "source": [
    "toxic_prompts_ptr = guest_domain_client.api.services.action.set(ActionObject.from_obj([\"abc\", \"def\"]))"
   ]
  },
  {
   "cell_type": "code",
   "execution_count": null,
   "id": "fb8872ba",
   "metadata": {},
   "outputs": [],
   "source": [
    "# prompts_id = prompts_pointer.id "
   ]
  },
  {
   "cell_type": "code",
   "execution_count": null,
   "id": "2e82447d-02e9-474b-8397-62fabd7c9279",
   "metadata": {},
   "outputs": [],
   "source": [
    "model_ptr = guest_domain_client.api.services.action.get_pointer(model_files_id)\n",
    "model_ptr"
   ]
  },
  {
   "cell_type": "code",
   "execution_count": null,
   "id": "c8c14d19-d7ca-4747-9098-5b40ff44c827",
   "metadata": {},
   "outputs": [],
   "source": [
    "result = guest_domain_client.code.eval_model(\n",
    "    model_files=model_ptr, prompts=toxic_prompts_ptr\n",
    ")\n",
    "result"
   ]
  },
  {
   "cell_type": "code",
   "execution_count": null,
   "id": "344339dd",
   "metadata": {},
   "outputs": [],
   "source": [
    "result = guest_domain_client.code.eval_model(\n",
    "    model_files=model_ptr, prompts=toxic_prompts_ptr\n",
    ")\n",
    "result"
   ]
  },
  {
   "cell_type": "code",
   "execution_count": null,
   "id": "178d0762",
   "metadata": {},
   "outputs": [],
   "source": []
  }
 ],
 "metadata": {
  "kernelspec": {
   "display_name": "Python 3 (ipykernel)",
   "language": "python",
   "name": "python3"
  },
  "language_info": {
   "codemirror_mode": {
    "name": "ipython",
    "version": 3
   },
   "file_extension": ".py",
   "mimetype": "text/x-python",
   "name": "python",
   "nbconvert_exporter": "python",
   "pygments_lexer": "ipython3",
   "version": "3.11.1"
  },
  "toc": {
   "base_numbering": 1,
   "nav_menu": {},
   "number_sections": true,
   "sideBar": true,
   "skip_h1_title": false,
   "title_cell": "Table of Contents",
   "title_sidebar": "Contents",
   "toc_cell": false,
   "toc_position": {},
   "toc_section_display": true,
   "toc_window_display": true
  }
 },
 "nbformat": 4,
 "nbformat_minor": 5
}
