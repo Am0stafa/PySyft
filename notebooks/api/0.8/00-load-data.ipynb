{
 "cells": [
  {
   "cell_type": "code",
   "execution_count": 1,
   "metadata": {
    "tags": []
   },
   "outputs": [
    {
     "name": "stdout",
     "output_type": "stream",
     "text": [
      "Note: you may need to restart the kernel to use updated packages.\n"
     ]
    }
   ],
   "source": [
    "SYFT_VERSION = \">=0.8.1b0,<0.9\"\n",
    "package_string = f'\"syft{SYFT_VERSION}\"'\n",
    "%pip install {package_string} -f https://whls.blob.core.windows.net/unstable/index.html -q"
   ]
  },
  {
   "cell_type": "code",
   "execution_count": 2,
   "metadata": {},
   "outputs": [
    {
     "name": "stderr",
     "output_type": "stream",
     "text": [
      "kj/filesystem-disk-unix.c++:1703: warning: PWD environment variable doesn't match current directory; pwd = /home/shubham/PySyft\n"
     ]
    },
    {
     "name": "stdout",
     "output_type": "stream",
     "text": [
      "✅ The installed version of syft==0.8.1b9 matches the requirement >=0.8.1b0 and the requirement <0.9\n"
     ]
    }
   ],
   "source": [
    "import syft as sy\n",
    "sy.requires(SYFT_VERSION)\n",
    "from syft import autocache"
   ]
  },
  {
   "cell_type": "code",
   "execution_count": 3,
   "metadata": {
    "tags": []
   },
   "outputs": [
    {
     "name": "stdout",
     "output_type": "stream",
     "text": [
      "Starting test-domain-1 server on 0.0.0.0:6032\n",
      "\n",
      "WARNING: private key is based on node name: test-domain-1 in dev_mode. Don't run this in production.\n",
      "SQLite Store Path:\n",
      "!open file:///tmp/7bca415d13ed4ec881f0d0aede098dbb.sqlite\n",
      "\n"
     ]
    },
    {
     "name": "stderr",
     "output_type": "stream",
     "text": [
      "INFO:     Started server process [22474]\n",
      "INFO:     Waiting for application startup.\n",
      "INFO:     Application startup complete.\n",
      "INFO:     Uvicorn running on http://0.0.0.0:6032 (Press CTRL+C to quit)\n"
     ]
    },
    {
     "name": "stdout",
     "output_type": "stream",
     "text": [
      "INFO:     127.0.0.1:36606 - \"GET /api/v2/metadata HTTP/1.1\" 200 OK\n",
      "Waiting for server to start Done.\n",
      "INFO:     127.0.0.1:36608 - \"GET /api/v2/metadata HTTP/1.1\" 200 OK\n",
      "INFO:     127.0.0.1:36608 - \"POST /api/v2/login HTTP/1.1\" 200 OK\n",
      "INFO:     127.0.0.1:36608 - \"GET /api/v2/api?verify_key=aec6ea4dfc049ceacaeeebc493167a88a200ddc367b1fa32da652444b635d21f HTTP/1.1\" 200 OK\n",
      "INFO:     127.0.0.1:36624 - \"POST /api/v2/api_call HTTP/1.1\" 200 OK\n",
      "INFO:     127.0.0.1:36626 - \"POST /api/v2/api_call HTTP/1.1\" 200 OK\n",
      "INFO:     127.0.0.1:36630 - \"POST /api/v2/api_call HTTP/1.1\" 200 OK\n",
      "INFO:     127.0.0.1:36638 - \"POST /api/v2/api_call HTTP/1.1\" 200 OK\n",
      "INFO:     127.0.0.1:41944 - \"POST /api/v2/api_call HTTP/1.1\" 200 OK\n",
      "INFO:     127.0.0.1:41952 - \"POST /api/v2/api_call HTTP/1.1\" 200 OK\n",
      "INFO:     127.0.0.1:41960 - \"POST /api/v2/api_call HTTP/1.1\" 200 OK\n",
      "INFO:     127.0.0.1:41976 - \"POST /api/v2/api_call HTTP/1.1\" 200 OK\n",
      "INFO:     127.0.0.1:41988 - \"POST /api/v2/api_call HTTP/1.1\" 200 OK\n",
      "INFO:     127.0.0.1:41992 - \"POST /api/v2/api_call HTTP/1.1\" 200 OK\n",
      "INFO:     127.0.0.1:42000 - \"POST /api/v2/api_call HTTP/1.1\" 200 OK\n",
      "INFO:     127.0.0.1:36608 - \"POST /api/v2/register HTTP/1.1\" 200 OK\n"
     ]
    },
    {
     "name": "stderr",
     "output_type": "stream",
     "text": [
      "INFO:     Shutting down\n",
      "INFO:     Waiting for application shutdown.\n",
      "INFO:     Application shutdown complete.\n",
      "INFO:     Finished server process [22474]\n"
     ]
    }
   ],
   "source": [
    "node = sy.orchestra.launch(name=\"test-domain-1\", port=\"auto\", dev_mode=True, reset=True)"
   ]
  },
  {
   "cell_type": "code",
   "execution_count": 4,
   "metadata": {
    "tags": []
   },
   "outputs": [
    {
     "name": "stdout",
     "output_type": "stream",
     "text": [
      "Logged into test-domain-1 as GUEST\n"
     ]
    }
   ],
   "source": [
    "domain_client = node.login(email=\"info@openmined.org\", password=\"changethis\")"
   ]
  },
  {
   "cell_type": "code",
   "execution_count": 5,
   "metadata": {
    "tags": []
   },
   "outputs": [
    {
     "data": {
      "text/markdown": [
       "```python\n",
       "class SyftAPI:\n",
       "  id: str = 91564498511943c5b0f7023e2e7d5d38\n",
       "\n",
       "```"
      ],
      "text/plain": [
       "client.api.services\n",
       "\n",
       "client.api.services.data_subject\n",
       "\n",
       "client.api.services.data_subject.add_data_subject(data_subject: syft.service.data_subject.data_subject.DataSubjectCreate) -> Union[syft.service.response.SyftSuccess, syft.service.response.SyftError]\n",
       "\n",
       "client.api.services.data_subject.get_all() -> Union[List[syft.service.data_subject.data_subject.DataSubject], syft.service.response.SyftError]\n",
       "\n",
       "client.api.services.data_subject.members_for(data_subject_name: str) -> Union[List[syft.service.data_subject.data_subject.DataSubject], syft.service.response.SyftError]\n",
       "\n",
       "client.api.services.data_subject.get_by_name(name: str) -> Union[syft.service.response.SyftSuccess, syft.service.response.SyftError]\n",
       "\n",
       "\n",
       "client.api.services.user\n",
       "\n",
       "client.api.services.user.create(user_create: syft.service.user.user.UserCreate) -> Union[syft.service.user.user.UserView, syft.service.response.SyftError]\n",
       "\n",
       "client.api.services.user.view(uid: syft.types.uid.UID) -> Union[syft.service.user.user.UserView, None, syft.service.response.SyftError]\n",
       "\n",
       "client.api.services.user.get_all(page_size: Union[int, None] = 0, page_index: Union[int, None] = 0) -> Union[syft.service.user.user.UserView, None, syft.service.response.SyftError]\n",
       "\n",
       "client.api.services.user.search(args: Any, id: syft.types.uid.UID, email: pydantic.networks.EmailStr, verify_key: syft.node.credentials.SyftVerifyKey, name: str, syft_node_location: Union[syft.types.uid.UID, None] = None, syft_client_verify_key: Union[syft.node.credentials.SyftVerifyKey, None] = None, page_size: Union[int, None] = 0, page_index: Union[int, None] = 0) -> Union[List[syft.service.user.user.UserView], syft.service.response.SyftError]\n",
       "\n",
       "client.api.services.user.update(uid: syft.types.uid.UID, user_update: syft.service.user.user.UserUpdate) -> Union[syft.service.user.user.UserView, syft.service.response.SyftError]\n",
       "\n",
       "client.api.services.user.delete(uid: syft.types.uid.UID) -> Union[bool, syft.service.response.SyftError]\n",
       "\n",
       "\n",
       "client.api.services.network\n",
       "\n",
       "client.api.services.network.exchange_credentials_with(self_node_route: syft.service.network.routes.NodeRoute, remote_node_route: syft.service.network.routes.NodeRoute, remote_node_verify_key: syft.node.credentials.SyftVerifyKey) -> Union[syft.service.response.SyftSuccess, syft.service.response.SyftError]\n",
       "\n",
       "client.api.services.network.add_peer(peer: syft.service.network.node_peer.NodePeer, challenge: bytes, self_node_route: syft.service.network.routes.NodeRoute, verify_key: syft.node.credentials.SyftVerifyKey) -> Union[bytes, syft.service.response.SyftError]\n",
       "\n",
       "client.api.services.network.ping(challenge: bytes) -> Union[bytes, syft.service.response.SyftError]\n",
       "\n",
       "client.api.services.network.add_route_for(route: syft.service.network.routes.NodeRoute, peer: syft.service.network.node_peer.NodePeer) -> Union[syft.service.response.SyftSuccess, syft.service.response.SyftError]\n",
       "\n",
       "client.api.services.network.verify_route(route: syft.service.network.routes.NodeRoute) -> Union[syft.service.response.SyftSuccess, syft.service.response.SyftError]\n",
       "\n",
       "client.api.services.network.get_all_peers() -> Union[List[syft.service.network.node_peer.NodePeer], syft.service.response.SyftError]\n",
       "\n",
       "client.api.services.network.join_vpn(peer: Union[syft.service.network.node_peer.NodePeer, None] = None, client: Union[syft.client.client.SyftClient, None] = None) -> Union[syft.service.response.SyftSuccess, syft.service.response.SyftError]\n",
       "\n",
       "client.api.services.network.vpn_status() -> Union[syft.service.vpn.tailscale_client.TailscaleStatus, syft.service.response.SyftError]\n",
       "\n",
       "client.api.services.network.register_to_vpn() -> Union[syft.service.vpn.headscale_client.HeadscaleAuthToken, syft.service.response.SyftError]\n",
       "\n",
       "\n",
       "client.api.services.policy\n",
       "\n",
       "client.api.services.policy.get_all() -> Union[List[syft.service.policy.policy.UserPolicy], syft.service.response.SyftError]\n",
       "\n",
       "client.api.services.policy.add(policy_code: Union[syft.service.policy.policy.SubmitUserPolicy, syft.service.policy.policy.UserPolicy]) -> Union[syft.service.response.SyftSuccess, syft.service.response.SyftError]\n",
       "\n",
       "client.api.services.policy.get_by_uid(uid: syft.types.uid.UID) -> Union[syft.service.response.SyftSuccess, syft.service.response.SyftError]\n",
       "\n",
       "\n",
       "client.api.services.action\n",
       "\n",
       "client.api.services.action.np_array(data: Any) -> Any\n",
       "\n",
       "client.api.services.action.set(action_object: Union[syft.service.action.action_object.ActionObject, syft.types.twin_object.TwinObject]) -> Union[result.result.Ok[syft.service.action.action_object.ActionObject], result.result.Err[str]]\n",
       "\n",
       "client.api.services.action.save(action_object: Union[syft.service.action.action_object.ActionObject, syft.types.twin_object.TwinObject]) -> Union[result.result.Ok[syft.service.response.SyftSuccess], result.result.Err[str]]\n",
       "\n",
       "client.api.services.action.get(uid: syft.types.uid.UID, twin_mode: syft.service.action.action_object.TwinMode = <TwinMode.PRIVATE: 1>) -> Union[result.result.Ok[result.result.Ok[syft.service.action.action_object.ActionObject]], result.result.Err[result.result.Err[str]]]\n",
       "\n",
       "client.api.services.action.get_pointer(uid: syft.types.uid.UID) -> Union[result.result.Ok[syft.service.action.action_object.ActionObjectPointer], result.result.Err[str]]\n",
       "\n",
       "client.api.services.action.execute(action: syft.service.action.action_object.Action) -> Union[result.result.Ok[syft.service.action.action_object.ActionObject], result.result.Err[result.result.Err]]\n",
       "\n",
       "client.api.services.action.exists(obj_id: syft.types.uid.UID) -> Union[result.result.Ok[syft.service.response.SyftSuccess], result.result.Err[syft.service.response.SyftError]]\n",
       "\n",
       "\n",
       "client.api.services.messages\n",
       "\n",
       "client.api.services.messages.send(message: syft.service.message.messages.CreateMessage) -> Union[syft.service.message.messages.Message, syft.service.response.SyftError]\n",
       "\n",
       "client.api.services.messages.reply(reply: syft.service.message.messages.ReplyMessage) -> Union[syft.service.message.messages.ReplyMessage, syft.service.response.SyftError]\n",
       "\n",
       "client.api.services.messages.get_all() -> Union[List[syft.service.message.messages.Message], syft.service.response.SyftError]\n",
       "\n",
       "client.api.services.messages.outbox() -> Union[List[syft.service.message.messages.Message], syft.service.response.SyftError]\n",
       "\n",
       "client.api.services.messages.get_all_read() -> Union[List[syft.service.message.messages.Message], syft.service.response.SyftError]\n",
       "\n",
       "client.api.services.messages.get_all_unread() -> Union[List[syft.service.message.messages.Message], syft.service.response.SyftError]\n",
       "\n",
       "client.api.services.messages.mark_as_read(uid: syft.types.uid.UID) -> Union[syft.service.message.messages.Message, syft.service.response.SyftError]\n",
       "\n",
       "client.api.services.messages.mark_as_unread(uid: syft.types.uid.UID) -> Union[syft.service.message.messages.Message, syft.service.response.SyftError]\n",
       "\n",
       "client.api.services.messages.resolve_object(linked_obj: syft.store.linked_obj.LinkedObject) -> Union[syft.service.message.messages.Message, syft.service.response.SyftError]\n",
       "\n",
       "client.api.services.messages.clear() -> Union[syft.service.response.SyftError, syft.service.response.SyftSuccess]\n",
       "\n",
       "\n",
       "client.api.services.request\n",
       "\n",
       "client.api.services.request.submit(request: syft.service.request.request.SubmitRequest, send_message: bool = True, reason: Union[str, None] = '') -> Union[syft.service.request.request.Request, syft.service.response.SyftError]\n",
       "\n",
       "client.api.services.request.get_all() -> Union[List[syft.service.request.request.Request], syft.service.response.SyftError]\n",
       "\n",
       "client.api.services.request.get_all_info(page_index: Union[int, None] = 0, page_size: Union[int, None] = 0) -> Union[List[syft.service.request.request.RequestInfo], syft.service.response.SyftError]\n",
       "\n",
       "client.api.services.request.add_changes(uid: syft.types.uid.UID, changes: List[syft.service.request.request.Change]) -> Union[syft.service.request.request.Request, syft.service.response.SyftError]\n",
       "\n",
       "client.api.services.request.filter_all_info(request_filter: syft.service.request.request.RequestInfoFilter, page_index: Union[int, None] = 0, page_size: Union[int, None] = 0) -> Union[List[syft.service.request.request.RequestInfo], syft.service.response.SyftError]\n",
       "\n",
       "client.api.services.request.apply(uid: syft.types.uid.UID) -> Union[syft.service.response.SyftSuccess, syft.service.response.SyftError]\n",
       "\n",
       "client.api.services.request.undo(uid: syft.types.uid.UID, reason: str) -> Union[syft.service.response.SyftSuccess, syft.service.response.SyftError]\n",
       "\n",
       "\n",
       "client.api.services.code\n",
       "\n",
       "client.api.services.code.submit(code: syft.service.code.user_code.SubmitUserCode) -> Union[syft.service.code.user_code.UserCode, syft.service.response.SyftError]\n",
       "\n",
       "client.api.services.code.request_code_execution(code: syft.service.code.user_code.SubmitUserCode, reason: Union[str, None] = '') -> Union[syft.service.response.SyftSuccess, syft.service.response.SyftError]\n",
       "\n",
       "client.api.services.code.get_all() -> Union[List[syft.service.code.user_code.UserCode], syft.service.response.SyftError]\n",
       "\n",
       "client.api.services.code.get_by_id(uid: syft.types.uid.UID) -> Union[syft.service.response.SyftSuccess, syft.service.response.SyftError]\n",
       "\n",
       "client.api.services.code.get_all_for_user() -> Union[syft.service.response.SyftSuccess, syft.service.response.SyftError]\n",
       "\n",
       "client.api.services.code.call(uid: syft.types.uid.UID, **kwargs: Any) -> Union[syft.service.response.SyftSuccess, syft.service.response.SyftError]\n",
       "\n",
       "\n",
       "client.api.services.dataset\n",
       "\n",
       "client.api.services.dataset.add(dataset: syft.service.dataset.dataset.CreateDataset) -> Union[syft.service.response.SyftSuccess, syft.service.response.SyftError]\n",
       "\n",
       "client.api.services.dataset.get_all(page_size: Union[int, None] = 0, page_index: Union[int, None] = 0) -> Union[List[syft.service.dataset.dataset.Dataset], syft.service.response.SyftError]\n",
       "\n",
       "client.api.services.dataset.search(name: str, page_size: Union[int, None] = 0, page_index: Union[int, None] = 0) -> Union[List[syft.service.dataset.dataset.Dataset], syft.service.response.SyftError]\n",
       "\n",
       "client.api.services.dataset.get_by_id(uid: syft.types.uid.UID) -> Union[syft.service.response.SyftSuccess, syft.service.response.SyftError]\n",
       "\n",
       "client.api.services.dataset.get_by_action_id(uid: syft.types.uid.UID) -> Union[List[syft.service.dataset.dataset.Dataset], syft.service.response.SyftError]\n",
       "\n",
       "client.api.services.dataset.get_assets_by_action_id(uid: syft.types.uid.UID) -> Union[List[syft.service.dataset.dataset.Asset], syft.service.response.SyftError]\n",
       "\n",
       "client.api.services.dataset.dataset_delete_by_id(uid: syft.types.uid.UID)\n",
       "\n",
       "\n",
       "client.api.services.project\n",
       "\n",
       "client.api.services.project.add_event(project_event: syft.service.project.project.ProjectEvent) -> Union[syft.service.response.SyftSuccess, syft.service.response.SyftError]\n",
       "\n",
       "client.api.services.project.broadcast_event(project_event: syft.service.project.project.ProjectEvent) -> Union[syft.service.response.SyftSuccess, syft.service.response.SyftError]\n",
       "\n",
       "client.api.services.project.sync(project_id: syft.types.uid.UID, seq_no: int) -> Union[syft.service.response.SyftSuccess, syft.service.response.SyftError, List[syft.service.project.project.ProjectEvent]]\n",
       "\n",
       "client.api.services.project.get_all() -> Union[List[syft.service.project.project.Project], syft.service.response.SyftError]\n",
       "\n",
       "client.api.services.project.get_by_name(name: str) -> Union[syft.service.project.project.Project, syft.service.response.SyftError]\n",
       "\n",
       "client.api.services.project.get_by_uid(uid: syft.types.uid.UID)\n",
       "\n",
       "\n",
       "client.api.services.settings\n",
       "\n",
       "client.api.services.settings.get() -> Union[result.result.Ok[result.result.Ok], result.result.Err[result.result.Err]]\n",
       "\n",
       "client.api.services.settings.set(settings: syft.service.settings.settings.NodeSettings) -> Union[result.result.Ok[result.result.Ok], result.result.Err[result.result.Err]]\n",
       "\n",
       "client.api.services.settings.update(settings: syft.service.settings.settings.NodeSettingsUpdate) -> Union[result.result.Ok[result.result.Ok], result.result.Err[result.result.Err]]\n",
       "\n",
       "client.api.services.settings.allow_guest_signup(enable: bool) -> Union[syft.service.response.SyftSuccess, syft.service.response.SyftError]\n"
      ]
     },
     "execution_count": 5,
     "metadata": {},
     "output_type": "execute_result"
    }
   ],
   "source": [
    "domain_client.api"
   ]
  },
  {
   "cell_type": "code",
   "execution_count": 6,
   "metadata": {
    "tags": []
   },
   "outputs": [],
   "source": [
    "data_subjects = domain_client.api.services.data_subject.get_all()"
   ]
  },
  {
   "cell_type": "code",
   "execution_count": 7,
   "metadata": {
    "tags": []
   },
   "outputs": [
    {
     "data": {
      "text/html": [
       "[]"
      ],
      "text/plain": [
       "[]"
      ]
     },
     "execution_count": 7,
     "metadata": {},
     "output_type": "execute_result"
    }
   ],
   "source": [
    "data_subjects"
   ]
  },
  {
   "cell_type": "code",
   "execution_count": 8,
   "metadata": {
    "tags": []
   },
   "outputs": [],
   "source": [
    "assert len(data_subjects) == 0"
   ]
  },
  {
   "cell_type": "code",
   "execution_count": 9,
   "metadata": {
    "tags": []
   },
   "outputs": [],
   "source": [
    "country = sy.DataSubject(name=\"Country\", aliases=[\"country_code\"])"
   ]
  },
  {
   "cell_type": "code",
   "execution_count": 10,
   "metadata": {
    "tags": []
   },
   "outputs": [],
   "source": [
    "canada = sy.DataSubject(name=\"Canada\", aliases=[\"country_code:ca\"])\n",
    "germany = sy.DataSubject(name=\"Germany\", aliases=[\"country_code:de\"])\n",
    "spain = sy.DataSubject(name=\"Spain\", aliases=[\"country_code:es\"])\n",
    "france = sy.DataSubject(name=\"France\", aliases=[\"country_code:fr\"])\n",
    "japan = sy.DataSubject(name=\"Japan\", aliases=[\"country_code:jp\"])\n",
    "uk = sy.DataSubject(name=\"United Kingdom\", aliases=[\"country_code:uk\"])\n",
    "usa = sy.DataSubject(name=\"United States of America\", aliases=[\"country_code:us\"])\n",
    "australia = sy.DataSubject(name=\"Australia\", aliases=[\"country_code:au\"])\n",
    "india = sy.DataSubject(name=\"India\", aliases=[\"country_code:in\"])"
   ]
  },
  {
   "cell_type": "code",
   "execution_count": 11,
   "metadata": {
    "tags": []
   },
   "outputs": [
    {
     "data": {
      "text/html": [
       "\n",
       "                <style>\n",
       "                .syft-collection-header {color: #464158;}\n",
       "                </style>\n",
       "                <div class='syft-collection-header'>\n",
       "                    <h3>DataSubjectCreate Dict</h3>\n",
       "                </div>\n",
       "                <br>\n",
       "                <style>\n",
       ".itables table {\n",
       "    margin: 0 auto;\n",
       "    float: left;\n",
       "    color: #534F64;\n",
       "}\n",
       ".itables table th {color: #2E2B3B;}\n",
       "</style>\n",
       "<div class=\"itables\">\n",
       "<table id=\"5405d692-8a6b-41e2-8c2d-b7e72933eba0\" class=\"display nowrap\"style=\"table-layout:auto;width:auto;margin:auto;caption-side:bottom\"><thead>\n",
       "    <tr style=\"text-align: right;\">\n",
       "      \n",
       "      <th>key</th>\n",
       "    </tr>\n",
       "  </thead><tbody><tr><td>Loading... (need <a href=https://mwouts.github.io/itables/troubleshooting.html>help</a>?)</td></tr></tbody></table>\n",
       "<link rel=\"stylesheet\" type=\"text/css\" href=\"https://cdn.datatables.net/1.13.1/css/jquery.dataTables.min.css\">\n",
       "<script type=\"module\">\n",
       "    // Import jquery and DataTable\n",
       "    import 'https://code.jquery.com/jquery-3.6.0.min.js';\n",
       "    import dt from 'https://cdn.datatables.net/1.12.1/js/jquery.dataTables.mjs';\n",
       "    dt($);\n",
       "\n",
       "    // Define the table data\n",
       "    const data = [[\"Canada\"], [\"Germany\"], [\"Spain\"], [\"France\"], [\"Japan\"], [\"United Kingdom\"], [\"United States of America\"], [\"Australia\"], [\"India\"]];\n",
       "\n",
       "    // Define the dt_args\n",
       "    let dt_args = {\"order\": [], \"dom\": \"t\"};\n",
       "    dt_args[\"data\"] = data;\n",
       "\n",
       "    $(document).ready(function () {\n",
       "        \n",
       "        $('#5405d692-8a6b-41e2-8c2d-b7e72933eba0').DataTable(dt_args);\n",
       "    });\n",
       "</script>\n",
       "</div>\n"
      ],
      "text/plain": [
       "{'Canada': <DataSubject: Canada>,\n",
       " 'Germany': <DataSubject: Germany>,\n",
       " 'Spain': <DataSubject: Spain>,\n",
       " 'France': <DataSubject: France>,\n",
       " 'Japan': <DataSubject: Japan>,\n",
       " 'United Kingdom': <DataSubject: United Kingdom>,\n",
       " 'United States of America': <DataSubject: United States of America>,\n",
       " 'Australia': <DataSubject: Australia>,\n",
       " 'India': <DataSubject: India>}"
      ]
     },
     "execution_count": 11,
     "metadata": {},
     "output_type": "execute_result"
    }
   ],
   "source": [
    "country.add_member(canada)\n",
    "country.add_member(germany)\n",
    "country.add_member(spain)\n",
    "country.add_member(france)\n",
    "country.add_member(japan)\n",
    "country.add_member(uk)\n",
    "country.add_member(usa)\n",
    "country.add_member(australia)\n",
    "country.add_member(india)\n",
    "\n",
    "country.members"
   ]
  },
  {
   "cell_type": "code",
   "execution_count": 12,
   "metadata": {
    "tags": []
   },
   "outputs": [],
   "source": [
    "registry = domain_client.data_subject_registry"
   ]
  },
  {
   "cell_type": "code",
   "execution_count": 13,
   "metadata": {
    "tags": []
   },
   "outputs": [],
   "source": [
    "response = registry.add_data_subject(country)"
   ]
  },
  {
   "cell_type": "code",
   "execution_count": 14,
   "metadata": {
    "tags": []
   },
   "outputs": [
    {
     "data": {
      "text/html": [
       "<div class=\"alert-success\" style=\"padding:5px;\"><strong>SyftSuccess</strong>: 10 Data Subjects Registered</div><br />"
      ],
      "text/plain": [
       "<class 'syft.service.response.SyftSuccess'>: 10 Data Subjects Registered"
      ]
     },
     "execution_count": 14,
     "metadata": {},
     "output_type": "execute_result"
    }
   ],
   "source": [
    "response"
   ]
  },
  {
   "cell_type": "code",
   "execution_count": 15,
   "metadata": {
    "tags": []
   },
   "outputs": [],
   "source": [
    "assert response"
   ]
  },
  {
   "cell_type": "code",
   "execution_count": 16,
   "metadata": {
    "tags": []
   },
   "outputs": [
    {
     "data": {
      "text/html": [
       "\n",
       "                <style>\n",
       "                .syft-collection-header {color: #464158;}\n",
       "                </style>\n",
       "                <div class='syft-collection-header'>\n",
       "                    <h3>DataSubject List</h3>\n",
       "                </div>\n",
       "                <br>\n",
       "                <style>\n",
       ".itables table {\n",
       "    margin: 0 auto;\n",
       "    float: left;\n",
       "    color: #534F64;\n",
       "}\n",
       ".itables table th {color: #2E2B3B;}\n",
       "</style>\n",
       "<div class=\"itables\">\n",
       "<table id=\"165864dc-d90e-4164-9bd8-74ef6d0a841b\" class=\"display nowrap\"style=\"table-layout:auto;width:auto;margin:auto;caption-side:bottom\"><thead>\n",
       "    <tr style=\"text-align: right;\">\n",
       "      \n",
       "      <th>id</th>\n",
       "    </tr>\n",
       "  </thead><tbody><tr><td>Loading... (need <a href=https://mwouts.github.io/itables/troubleshooting.html>help</a>?)</td></tr></tbody></table>\n",
       "<link rel=\"stylesheet\" type=\"text/css\" href=\"https://cdn.datatables.net/1.13.1/css/jquery.dataTables.min.css\">\n",
       "<script type=\"module\">\n",
       "    // Import jquery and DataTable\n",
       "    import 'https://code.jquery.com/jquery-3.6.0.min.js';\n",
       "    import dt from 'https://cdn.datatables.net/1.12.1/js/jquery.dataTables.mjs';\n",
       "    dt($);\n",
       "\n",
       "    // Define the table data\n",
       "    const data = [[\"5712...e9a\"], [\"fe56...7d3\"], [\"1fff...b03\"], [\"ba2f...277\"], [\"4f77...3cc\"], [\"43ce...fb1\"], [\"b9e0...3d8\"], [\"7c3f...f72\"], [\"d2e9...3fe\"], [\"d311...78d\"]];\n",
       "\n",
       "    // Define the dt_args\n",
       "    let dt_args = {\"order\": [], \"dom\": \"t\"};\n",
       "    dt_args[\"data\"] = data;\n",
       "\n",
       "    $(document).ready(function () {\n",
       "        \n",
       "        $('#165864dc-d90e-4164-9bd8-74ef6d0a841b').DataTable(dt_args);\n",
       "    });\n",
       "</script>\n",
       "</div>\n"
      ],
      "text/plain": [
       "<syft.client.api.APIModule at 0x7f341281fb80>"
      ]
     },
     "execution_count": 16,
     "metadata": {},
     "output_type": "execute_result"
    }
   ],
   "source": [
    "domain_client.data_subject_registry"
   ]
  },
  {
   "cell_type": "code",
   "execution_count": 17,
   "metadata": {
    "tags": []
   },
   "outputs": [],
   "source": [
    "data_subjects = domain_client.api.services.data_subject.get_all()"
   ]
  },
  {
   "cell_type": "code",
   "execution_count": 18,
   "metadata": {
    "tags": []
   },
   "outputs": [],
   "source": [
    "assert len(data_subjects) == 10"
   ]
  },
  {
   "cell_type": "code",
   "execution_count": 19,
   "metadata": {
    "tags": []
   },
   "outputs": [],
   "source": [
    "canada_dataset_url = \"https://github.com/OpenMined/datasets/blob/main/trade_flow/ca%20-%20feb%202021.csv?raw=True\""
   ]
  },
  {
   "cell_type": "code",
   "execution_count": 20,
   "metadata": {
    "tags": []
   },
   "outputs": [],
   "source": [
    "import pandas as pd"
   ]
  },
  {
   "cell_type": "code",
   "execution_count": 21,
   "metadata": {
    "tags": []
   },
   "outputs": [
    {
     "name": "stderr",
     "output_type": "stream",
     "text": [
      "/tmp/ipykernel_22427/754433127.py:1: DtypeWarning: Columns (14) have mixed types. Specify dtype option on import or set low_memory=False.\n",
      "  df = pd.read_csv(autocache(canada_dataset_url))\n"
     ]
    }
   ],
   "source": [
    "df = pd.read_csv(autocache(canada_dataset_url))"
   ]
  },
  {
   "cell_type": "code",
   "execution_count": 22,
   "metadata": {
    "tags": []
   },
   "outputs": [
    {
     "data": {
      "text/html": [
       "<div>\n",
       "<style scoped>\n",
       "    .dataframe tbody tr th:only-of-type {\n",
       "        vertical-align: middle;\n",
       "    }\n",
       "\n",
       "    .dataframe tbody tr th {\n",
       "        vertical-align: top;\n",
       "    }\n",
       "\n",
       "    .dataframe thead th {\n",
       "        text-align: right;\n",
       "    }\n",
       "</style>\n",
       "<table border=\"1\" class=\"dataframe\">\n",
       "  <thead>\n",
       "    <tr style=\"text-align: right;\">\n",
       "      <th></th>\n",
       "      <th>Classification</th>\n",
       "      <th>Year</th>\n",
       "      <th>Period</th>\n",
       "      <th>Period Desc.</th>\n",
       "      <th>Aggregate Level</th>\n",
       "      <th>Is Leaf Code</th>\n",
       "      <th>Trade Flow Code</th>\n",
       "      <th>Trade Flow</th>\n",
       "      <th>Reporter Code</th>\n",
       "      <th>Reporter</th>\n",
       "      <th>...</th>\n",
       "      <th>Partner</th>\n",
       "      <th>Partner ISO</th>\n",
       "      <th>Commodity Code</th>\n",
       "      <th>Commodity</th>\n",
       "      <th>Qty Unit Code</th>\n",
       "      <th>Qty Unit</th>\n",
       "      <th>Qty</th>\n",
       "      <th>Netweight (kg)</th>\n",
       "      <th>Trade Value (US$)</th>\n",
       "      <th>Flag</th>\n",
       "    </tr>\n",
       "  </thead>\n",
       "  <tbody>\n",
       "    <tr>\n",
       "      <th>0</th>\n",
       "      <td>HS</td>\n",
       "      <td>2021</td>\n",
       "      <td>202102</td>\n",
       "      <td>February 2021</td>\n",
       "      <td>4</td>\n",
       "      <td>0</td>\n",
       "      <td>1</td>\n",
       "      <td>Imports</td>\n",
       "      <td>124</td>\n",
       "      <td>Canada</td>\n",
       "      <td>...</td>\n",
       "      <td>Other Asia, nes</td>\n",
       "      <td>NaN</td>\n",
       "      <td>6117</td>\n",
       "      <td>Clothing accessories; made up, knitted or croc...</td>\n",
       "      <td>0</td>\n",
       "      <td>NaN</td>\n",
       "      <td>NaN</td>\n",
       "      <td>NaN</td>\n",
       "      <td>9285</td>\n",
       "      <td>0</td>\n",
       "    </tr>\n",
       "    <tr>\n",
       "      <th>1</th>\n",
       "      <td>HS</td>\n",
       "      <td>2021</td>\n",
       "      <td>202102</td>\n",
       "      <td>February 2021</td>\n",
       "      <td>2</td>\n",
       "      <td>0</td>\n",
       "      <td>1</td>\n",
       "      <td>Imports</td>\n",
       "      <td>124</td>\n",
       "      <td>Canada</td>\n",
       "      <td>...</td>\n",
       "      <td>Egypt</td>\n",
       "      <td>NaN</td>\n",
       "      <td>18</td>\n",
       "      <td>Cocoa and cocoa preparations</td>\n",
       "      <td>0</td>\n",
       "      <td>NaN</td>\n",
       "      <td>NaN</td>\n",
       "      <td>0.0</td>\n",
       "      <td>116604</td>\n",
       "      <td>0</td>\n",
       "    </tr>\n",
       "    <tr>\n",
       "      <th>2</th>\n",
       "      <td>HS</td>\n",
       "      <td>2021</td>\n",
       "      <td>202102</td>\n",
       "      <td>February 2021</td>\n",
       "      <td>2</td>\n",
       "      <td>0</td>\n",
       "      <td>1</td>\n",
       "      <td>Imports</td>\n",
       "      <td>124</td>\n",
       "      <td>Canada</td>\n",
       "      <td>...</td>\n",
       "      <td>United Kingdom</td>\n",
       "      <td>NaN</td>\n",
       "      <td>18</td>\n",
       "      <td>Cocoa and cocoa preparations</td>\n",
       "      <td>0</td>\n",
       "      <td>NaN</td>\n",
       "      <td>NaN</td>\n",
       "      <td>0.0</td>\n",
       "      <td>1495175</td>\n",
       "      <td>0</td>\n",
       "    </tr>\n",
       "    <tr>\n",
       "      <th>3</th>\n",
       "      <td>HS</td>\n",
       "      <td>2021</td>\n",
       "      <td>202102</td>\n",
       "      <td>February 2021</td>\n",
       "      <td>2</td>\n",
       "      <td>0</td>\n",
       "      <td>1</td>\n",
       "      <td>Imports</td>\n",
       "      <td>124</td>\n",
       "      <td>Canada</td>\n",
       "      <td>...</td>\n",
       "      <td>United Rep. of Tanzania</td>\n",
       "      <td>NaN</td>\n",
       "      <td>18</td>\n",
       "      <td>Cocoa and cocoa preparations</td>\n",
       "      <td>0</td>\n",
       "      <td>NaN</td>\n",
       "      <td>NaN</td>\n",
       "      <td>0.0</td>\n",
       "      <td>2248</td>\n",
       "      <td>0</td>\n",
       "    </tr>\n",
       "    <tr>\n",
       "      <th>4</th>\n",
       "      <td>HS</td>\n",
       "      <td>2021</td>\n",
       "      <td>202102</td>\n",
       "      <td>February 2021</td>\n",
       "      <td>2</td>\n",
       "      <td>0</td>\n",
       "      <td>1</td>\n",
       "      <td>Imports</td>\n",
       "      <td>124</td>\n",
       "      <td>Canada</td>\n",
       "      <td>...</td>\n",
       "      <td>Singapore</td>\n",
       "      <td>NaN</td>\n",
       "      <td>18</td>\n",
       "      <td>Cocoa and cocoa preparations</td>\n",
       "      <td>0</td>\n",
       "      <td>NaN</td>\n",
       "      <td>NaN</td>\n",
       "      <td>0.0</td>\n",
       "      <td>47840</td>\n",
       "      <td>0</td>\n",
       "    </tr>\n",
       "    <tr>\n",
       "      <th>...</th>\n",
       "      <td>...</td>\n",
       "      <td>...</td>\n",
       "      <td>...</td>\n",
       "      <td>...</td>\n",
       "      <td>...</td>\n",
       "      <td>...</td>\n",
       "      <td>...</td>\n",
       "      <td>...</td>\n",
       "      <td>...</td>\n",
       "      <td>...</td>\n",
       "      <td>...</td>\n",
       "      <td>...</td>\n",
       "      <td>...</td>\n",
       "      <td>...</td>\n",
       "      <td>...</td>\n",
       "      <td>...</td>\n",
       "      <td>...</td>\n",
       "      <td>...</td>\n",
       "      <td>...</td>\n",
       "      <td>...</td>\n",
       "      <td>...</td>\n",
       "    </tr>\n",
       "    <tr>\n",
       "      <th>227449</th>\n",
       "      <td>HS</td>\n",
       "      <td>2021</td>\n",
       "      <td>202102</td>\n",
       "      <td>February 2021</td>\n",
       "      <td>6</td>\n",
       "      <td>1</td>\n",
       "      <td>2</td>\n",
       "      <td>Exports</td>\n",
       "      <td>124</td>\n",
       "      <td>Canada</td>\n",
       "      <td>...</td>\n",
       "      <td>World</td>\n",
       "      <td>NaN</td>\n",
       "      <td>550952</td>\n",
       "      <td>Yarn; (not sewing thread), of polyester staple...</td>\n",
       "      <td>0</td>\n",
       "      <td>NaN</td>\n",
       "      <td>NaN</td>\n",
       "      <td>5406.0</td>\n",
       "      <td>34272</td>\n",
       "      <td>0</td>\n",
       "    </tr>\n",
       "    <tr>\n",
       "      <th>227450</th>\n",
       "      <td>HS</td>\n",
       "      <td>2021</td>\n",
       "      <td>202102</td>\n",
       "      <td>February 2021</td>\n",
       "      <td>6</td>\n",
       "      <td>1</td>\n",
       "      <td>2</td>\n",
       "      <td>Exports</td>\n",
       "      <td>124</td>\n",
       "      <td>Canada</td>\n",
       "      <td>...</td>\n",
       "      <td>World</td>\n",
       "      <td>NaN</td>\n",
       "      <td>550999</td>\n",
       "      <td>Yarn; (not sewing thread), of synthetic staple...</td>\n",
       "      <td>0</td>\n",
       "      <td>NaN</td>\n",
       "      <td>NaN</td>\n",
       "      <td>7345.0</td>\n",
       "      <td>228182</td>\n",
       "      <td>0</td>\n",
       "    </tr>\n",
       "    <tr>\n",
       "      <th>227451</th>\n",
       "      <td>HS</td>\n",
       "      <td>2021</td>\n",
       "      <td>202102</td>\n",
       "      <td>February 2021</td>\n",
       "      <td>6</td>\n",
       "      <td>1</td>\n",
       "      <td>2</td>\n",
       "      <td>Exports</td>\n",
       "      <td>124</td>\n",
       "      <td>Canada</td>\n",
       "      <td>...</td>\n",
       "      <td>World</td>\n",
       "      <td>NaN</td>\n",
       "      <td>550969</td>\n",
       "      <td>Yarn; (not sewing thread), of acrylic or modac...</td>\n",
       "      <td>0</td>\n",
       "      <td>NaN</td>\n",
       "      <td>NaN</td>\n",
       "      <td>1839.0</td>\n",
       "      <td>18812</td>\n",
       "      <td>0</td>\n",
       "    </tr>\n",
       "    <tr>\n",
       "      <th>227452</th>\n",
       "      <td>HS</td>\n",
       "      <td>2021</td>\n",
       "      <td>202102</td>\n",
       "      <td>February 2021</td>\n",
       "      <td>6</td>\n",
       "      <td>1</td>\n",
       "      <td>2</td>\n",
       "      <td>Exports</td>\n",
       "      <td>124</td>\n",
       "      <td>Canada</td>\n",
       "      <td>...</td>\n",
       "      <td>World</td>\n",
       "      <td>NaN</td>\n",
       "      <td>550962</td>\n",
       "      <td>Yarn; (not sewing thread), of acrylic or modac...</td>\n",
       "      <td>0</td>\n",
       "      <td>NaN</td>\n",
       "      <td>NaN</td>\n",
       "      <td>1437.0</td>\n",
       "      <td>23140</td>\n",
       "      <td>0</td>\n",
       "    </tr>\n",
       "    <tr>\n",
       "      <th>227453</th>\n",
       "      <td>HS</td>\n",
       "      <td>2021</td>\n",
       "      <td>202102</td>\n",
       "      <td>February 2021</td>\n",
       "      <td>6</td>\n",
       "      <td>1</td>\n",
       "      <td>2</td>\n",
       "      <td>Exports</td>\n",
       "      <td>124</td>\n",
       "      <td>Canada</td>\n",
       "      <td>...</td>\n",
       "      <td>World</td>\n",
       "      <td>NaN</td>\n",
       "      <td>550959</td>\n",
       "      <td>Yarn; (not sewing thread), of polyester staple...</td>\n",
       "      <td>0</td>\n",
       "      <td>NaN</td>\n",
       "      <td>NaN</td>\n",
       "      <td>5660.0</td>\n",
       "      <td>73652</td>\n",
       "      <td>0</td>\n",
       "    </tr>\n",
       "  </tbody>\n",
       "</table>\n",
       "<p>227454 rows × 22 columns</p>\n",
       "</div>"
      ],
      "text/plain": [
       "       Classification  Year  Period   Period Desc.  Aggregate Level  \\\n",
       "0                  HS  2021  202102  February 2021                4   \n",
       "1                  HS  2021  202102  February 2021                2   \n",
       "2                  HS  2021  202102  February 2021                2   \n",
       "3                  HS  2021  202102  February 2021                2   \n",
       "4                  HS  2021  202102  February 2021                2   \n",
       "...               ...   ...     ...            ...              ...   \n",
       "227449             HS  2021  202102  February 2021                6   \n",
       "227450             HS  2021  202102  February 2021                6   \n",
       "227451             HS  2021  202102  February 2021                6   \n",
       "227452             HS  2021  202102  February 2021                6   \n",
       "227453             HS  2021  202102  February 2021                6   \n",
       "\n",
       "        Is Leaf Code  Trade Flow Code Trade Flow  Reporter Code Reporter  ...  \\\n",
       "0                  0                1    Imports            124   Canada  ...   \n",
       "1                  0                1    Imports            124   Canada  ...   \n",
       "2                  0                1    Imports            124   Canada  ...   \n",
       "3                  0                1    Imports            124   Canada  ...   \n",
       "4                  0                1    Imports            124   Canada  ...   \n",
       "...              ...              ...        ...            ...      ...  ...   \n",
       "227449             1                2    Exports            124   Canada  ...   \n",
       "227450             1                2    Exports            124   Canada  ...   \n",
       "227451             1                2    Exports            124   Canada  ...   \n",
       "227452             1                2    Exports            124   Canada  ...   \n",
       "227453             1                2    Exports            124   Canada  ...   \n",
       "\n",
       "                        Partner  Partner ISO Commodity Code  \\\n",
       "0               Other Asia, nes          NaN           6117   \n",
       "1                         Egypt          NaN             18   \n",
       "2                United Kingdom          NaN             18   \n",
       "3       United Rep. of Tanzania          NaN             18   \n",
       "4                     Singapore          NaN             18   \n",
       "...                         ...          ...            ...   \n",
       "227449                    World          NaN         550952   \n",
       "227450                    World          NaN         550999   \n",
       "227451                    World          NaN         550969   \n",
       "227452                    World          NaN         550962   \n",
       "227453                    World          NaN         550959   \n",
       "\n",
       "                                                Commodity Qty Unit Code  \\\n",
       "0       Clothing accessories; made up, knitted or croc...             0   \n",
       "1                            Cocoa and cocoa preparations             0   \n",
       "2                            Cocoa and cocoa preparations             0   \n",
       "3                            Cocoa and cocoa preparations             0   \n",
       "4                            Cocoa and cocoa preparations             0   \n",
       "...                                                   ...           ...   \n",
       "227449  Yarn; (not sewing thread), of polyester staple...             0   \n",
       "227450  Yarn; (not sewing thread), of synthetic staple...             0   \n",
       "227451  Yarn; (not sewing thread), of acrylic or modac...             0   \n",
       "227452  Yarn; (not sewing thread), of acrylic or modac...             0   \n",
       "227453  Yarn; (not sewing thread), of polyester staple...             0   \n",
       "\n",
       "       Qty Unit  Qty  Netweight (kg)  Trade Value (US$)  Flag  \n",
       "0           NaN  NaN             NaN               9285     0  \n",
       "1           NaN  NaN             0.0             116604     0  \n",
       "2           NaN  NaN             0.0            1495175     0  \n",
       "3           NaN  NaN             0.0               2248     0  \n",
       "4           NaN  NaN             0.0              47840     0  \n",
       "...         ...  ...             ...                ...   ...  \n",
       "227449      NaN  NaN          5406.0              34272     0  \n",
       "227450      NaN  NaN          7345.0             228182     0  \n",
       "227451      NaN  NaN          1839.0              18812     0  \n",
       "227452      NaN  NaN          1437.0              23140     0  \n",
       "227453      NaN  NaN          5660.0              73652     0  \n",
       "\n",
       "[227454 rows x 22 columns]"
      ]
     },
     "execution_count": 22,
     "metadata": {},
     "output_type": "execute_result"
    }
   ],
   "source": [
    "df"
   ]
  },
  {
   "cell_type": "code",
   "execution_count": 23,
   "metadata": {
    "tags": []
   },
   "outputs": [],
   "source": [
    "ca_data = df[0:10]"
   ]
  },
  {
   "cell_type": "code",
   "execution_count": 24,
   "metadata": {
    "tags": []
   },
   "outputs": [],
   "source": [
    "mock_ca_data = df[10:20]"
   ]
  },
  {
   "cell_type": "code",
   "execution_count": 25,
   "metadata": {
    "tags": []
   },
   "outputs": [
    {
     "data": {
      "text/html": [
       "<div>\n",
       "<style scoped>\n",
       "    .dataframe tbody tr th:only-of-type {\n",
       "        vertical-align: middle;\n",
       "    }\n",
       "\n",
       "    .dataframe tbody tr th {\n",
       "        vertical-align: top;\n",
       "    }\n",
       "\n",
       "    .dataframe thead th {\n",
       "        text-align: right;\n",
       "    }\n",
       "</style>\n",
       "<table border=\"1\" class=\"dataframe\">\n",
       "  <thead>\n",
       "    <tr style=\"text-align: right;\">\n",
       "      <th></th>\n",
       "      <th>Classification</th>\n",
       "      <th>Year</th>\n",
       "      <th>Period</th>\n",
       "      <th>Period Desc.</th>\n",
       "      <th>Aggregate Level</th>\n",
       "      <th>Is Leaf Code</th>\n",
       "      <th>Trade Flow Code</th>\n",
       "      <th>Trade Flow</th>\n",
       "      <th>Reporter Code</th>\n",
       "      <th>Reporter</th>\n",
       "      <th>...</th>\n",
       "      <th>Partner</th>\n",
       "      <th>Partner ISO</th>\n",
       "      <th>Commodity Code</th>\n",
       "      <th>Commodity</th>\n",
       "      <th>Qty Unit Code</th>\n",
       "      <th>Qty Unit</th>\n",
       "      <th>Qty</th>\n",
       "      <th>Netweight (kg)</th>\n",
       "      <th>Trade Value (US$)</th>\n",
       "      <th>Flag</th>\n",
       "    </tr>\n",
       "  </thead>\n",
       "  <tbody>\n",
       "    <tr>\n",
       "      <th>0</th>\n",
       "      <td>HS</td>\n",
       "      <td>2021</td>\n",
       "      <td>202102</td>\n",
       "      <td>February 2021</td>\n",
       "      <td>4</td>\n",
       "      <td>0</td>\n",
       "      <td>1</td>\n",
       "      <td>Imports</td>\n",
       "      <td>124</td>\n",
       "      <td>Canada</td>\n",
       "      <td>...</td>\n",
       "      <td>Other Asia, nes</td>\n",
       "      <td>NaN</td>\n",
       "      <td>6117</td>\n",
       "      <td>Clothing accessories; made up, knitted or croc...</td>\n",
       "      <td>0</td>\n",
       "      <td>NaN</td>\n",
       "      <td>NaN</td>\n",
       "      <td>NaN</td>\n",
       "      <td>9285</td>\n",
       "      <td>0</td>\n",
       "    </tr>\n",
       "    <tr>\n",
       "      <th>1</th>\n",
       "      <td>HS</td>\n",
       "      <td>2021</td>\n",
       "      <td>202102</td>\n",
       "      <td>February 2021</td>\n",
       "      <td>2</td>\n",
       "      <td>0</td>\n",
       "      <td>1</td>\n",
       "      <td>Imports</td>\n",
       "      <td>124</td>\n",
       "      <td>Canada</td>\n",
       "      <td>...</td>\n",
       "      <td>Egypt</td>\n",
       "      <td>NaN</td>\n",
       "      <td>18</td>\n",
       "      <td>Cocoa and cocoa preparations</td>\n",
       "      <td>0</td>\n",
       "      <td>NaN</td>\n",
       "      <td>NaN</td>\n",
       "      <td>0.0</td>\n",
       "      <td>116604</td>\n",
       "      <td>0</td>\n",
       "    </tr>\n",
       "    <tr>\n",
       "      <th>2</th>\n",
       "      <td>HS</td>\n",
       "      <td>2021</td>\n",
       "      <td>202102</td>\n",
       "      <td>February 2021</td>\n",
       "      <td>2</td>\n",
       "      <td>0</td>\n",
       "      <td>1</td>\n",
       "      <td>Imports</td>\n",
       "      <td>124</td>\n",
       "      <td>Canada</td>\n",
       "      <td>...</td>\n",
       "      <td>United Kingdom</td>\n",
       "      <td>NaN</td>\n",
       "      <td>18</td>\n",
       "      <td>Cocoa and cocoa preparations</td>\n",
       "      <td>0</td>\n",
       "      <td>NaN</td>\n",
       "      <td>NaN</td>\n",
       "      <td>0.0</td>\n",
       "      <td>1495175</td>\n",
       "      <td>0</td>\n",
       "    </tr>\n",
       "    <tr>\n",
       "      <th>3</th>\n",
       "      <td>HS</td>\n",
       "      <td>2021</td>\n",
       "      <td>202102</td>\n",
       "      <td>February 2021</td>\n",
       "      <td>2</td>\n",
       "      <td>0</td>\n",
       "      <td>1</td>\n",
       "      <td>Imports</td>\n",
       "      <td>124</td>\n",
       "      <td>Canada</td>\n",
       "      <td>...</td>\n",
       "      <td>United Rep. of Tanzania</td>\n",
       "      <td>NaN</td>\n",
       "      <td>18</td>\n",
       "      <td>Cocoa and cocoa preparations</td>\n",
       "      <td>0</td>\n",
       "      <td>NaN</td>\n",
       "      <td>NaN</td>\n",
       "      <td>0.0</td>\n",
       "      <td>2248</td>\n",
       "      <td>0</td>\n",
       "    </tr>\n",
       "    <tr>\n",
       "      <th>4</th>\n",
       "      <td>HS</td>\n",
       "      <td>2021</td>\n",
       "      <td>202102</td>\n",
       "      <td>February 2021</td>\n",
       "      <td>2</td>\n",
       "      <td>0</td>\n",
       "      <td>1</td>\n",
       "      <td>Imports</td>\n",
       "      <td>124</td>\n",
       "      <td>Canada</td>\n",
       "      <td>...</td>\n",
       "      <td>Singapore</td>\n",
       "      <td>NaN</td>\n",
       "      <td>18</td>\n",
       "      <td>Cocoa and cocoa preparations</td>\n",
       "      <td>0</td>\n",
       "      <td>NaN</td>\n",
       "      <td>NaN</td>\n",
       "      <td>0.0</td>\n",
       "      <td>47840</td>\n",
       "      <td>0</td>\n",
       "    </tr>\n",
       "    <tr>\n",
       "      <th>5</th>\n",
       "      <td>HS</td>\n",
       "      <td>2021</td>\n",
       "      <td>202102</td>\n",
       "      <td>February 2021</td>\n",
       "      <td>2</td>\n",
       "      <td>0</td>\n",
       "      <td>1</td>\n",
       "      <td>Imports</td>\n",
       "      <td>124</td>\n",
       "      <td>Canada</td>\n",
       "      <td>...</td>\n",
       "      <td>Viet Nam</td>\n",
       "      <td>NaN</td>\n",
       "      <td>18</td>\n",
       "      <td>Cocoa and cocoa preparations</td>\n",
       "      <td>0</td>\n",
       "      <td>NaN</td>\n",
       "      <td>NaN</td>\n",
       "      <td>0.0</td>\n",
       "      <td>3526</td>\n",
       "      <td>0</td>\n",
       "    </tr>\n",
       "    <tr>\n",
       "      <th>6</th>\n",
       "      <td>HS</td>\n",
       "      <td>2021</td>\n",
       "      <td>202102</td>\n",
       "      <td>February 2021</td>\n",
       "      <td>2</td>\n",
       "      <td>0</td>\n",
       "      <td>1</td>\n",
       "      <td>Imports</td>\n",
       "      <td>124</td>\n",
       "      <td>Canada</td>\n",
       "      <td>...</td>\n",
       "      <td>South Africa</td>\n",
       "      <td>NaN</td>\n",
       "      <td>18</td>\n",
       "      <td>Cocoa and cocoa preparations</td>\n",
       "      <td>0</td>\n",
       "      <td>NaN</td>\n",
       "      <td>NaN</td>\n",
       "      <td>0.0</td>\n",
       "      <td>5462</td>\n",
       "      <td>0</td>\n",
       "    </tr>\n",
       "    <tr>\n",
       "      <th>7</th>\n",
       "      <td>HS</td>\n",
       "      <td>2021</td>\n",
       "      <td>202102</td>\n",
       "      <td>February 2021</td>\n",
       "      <td>2</td>\n",
       "      <td>0</td>\n",
       "      <td>1</td>\n",
       "      <td>Imports</td>\n",
       "      <td>124</td>\n",
       "      <td>Canada</td>\n",
       "      <td>...</td>\n",
       "      <td>Spain</td>\n",
       "      <td>NaN</td>\n",
       "      <td>18</td>\n",
       "      <td>Cocoa and cocoa preparations</td>\n",
       "      <td>0</td>\n",
       "      <td>NaN</td>\n",
       "      <td>NaN</td>\n",
       "      <td>0.0</td>\n",
       "      <td>311425</td>\n",
       "      <td>0</td>\n",
       "    </tr>\n",
       "    <tr>\n",
       "      <th>8</th>\n",
       "      <td>HS</td>\n",
       "      <td>2021</td>\n",
       "      <td>202102</td>\n",
       "      <td>February 2021</td>\n",
       "      <td>2</td>\n",
       "      <td>0</td>\n",
       "      <td>1</td>\n",
       "      <td>Imports</td>\n",
       "      <td>124</td>\n",
       "      <td>Canada</td>\n",
       "      <td>...</td>\n",
       "      <td>Sweden</td>\n",
       "      <td>NaN</td>\n",
       "      <td>18</td>\n",
       "      <td>Cocoa and cocoa preparations</td>\n",
       "      <td>0</td>\n",
       "      <td>NaN</td>\n",
       "      <td>NaN</td>\n",
       "      <td>0.0</td>\n",
       "      <td>11786</td>\n",
       "      <td>0</td>\n",
       "    </tr>\n",
       "    <tr>\n",
       "      <th>9</th>\n",
       "      <td>HS</td>\n",
       "      <td>2021</td>\n",
       "      <td>202102</td>\n",
       "      <td>February 2021</td>\n",
       "      <td>2</td>\n",
       "      <td>0</td>\n",
       "      <td>1</td>\n",
       "      <td>Imports</td>\n",
       "      <td>124</td>\n",
       "      <td>Canada</td>\n",
       "      <td>...</td>\n",
       "      <td>Venezuela</td>\n",
       "      <td>NaN</td>\n",
       "      <td>18</td>\n",
       "      <td>Cocoa and cocoa preparations</td>\n",
       "      <td>0</td>\n",
       "      <td>NaN</td>\n",
       "      <td>NaN</td>\n",
       "      <td>0.0</td>\n",
       "      <td>33715</td>\n",
       "      <td>0</td>\n",
       "    </tr>\n",
       "  </tbody>\n",
       "</table>\n",
       "<p>10 rows × 22 columns</p>\n",
       "</div>"
      ],
      "text/plain": [
       "  Classification  Year  Period   Period Desc.  Aggregate Level  Is Leaf Code  \\\n",
       "0             HS  2021  202102  February 2021                4             0   \n",
       "1             HS  2021  202102  February 2021                2             0   \n",
       "2             HS  2021  202102  February 2021                2             0   \n",
       "3             HS  2021  202102  February 2021                2             0   \n",
       "4             HS  2021  202102  February 2021                2             0   \n",
       "5             HS  2021  202102  February 2021                2             0   \n",
       "6             HS  2021  202102  February 2021                2             0   \n",
       "7             HS  2021  202102  February 2021                2             0   \n",
       "8             HS  2021  202102  February 2021                2             0   \n",
       "9             HS  2021  202102  February 2021                2             0   \n",
       "\n",
       "   Trade Flow Code Trade Flow  Reporter Code Reporter  ...  \\\n",
       "0                1    Imports            124   Canada  ...   \n",
       "1                1    Imports            124   Canada  ...   \n",
       "2                1    Imports            124   Canada  ...   \n",
       "3                1    Imports            124   Canada  ...   \n",
       "4                1    Imports            124   Canada  ...   \n",
       "5                1    Imports            124   Canada  ...   \n",
       "6                1    Imports            124   Canada  ...   \n",
       "7                1    Imports            124   Canada  ...   \n",
       "8                1    Imports            124   Canada  ...   \n",
       "9                1    Imports            124   Canada  ...   \n",
       "\n",
       "                   Partner  Partner ISO Commodity Code  \\\n",
       "0          Other Asia, nes          NaN           6117   \n",
       "1                    Egypt          NaN             18   \n",
       "2           United Kingdom          NaN             18   \n",
       "3  United Rep. of Tanzania          NaN             18   \n",
       "4                Singapore          NaN             18   \n",
       "5                 Viet Nam          NaN             18   \n",
       "6             South Africa          NaN             18   \n",
       "7                    Spain          NaN             18   \n",
       "8                   Sweden          NaN             18   \n",
       "9                Venezuela          NaN             18   \n",
       "\n",
       "                                           Commodity Qty Unit Code Qty Unit  \\\n",
       "0  Clothing accessories; made up, knitted or croc...             0      NaN   \n",
       "1                       Cocoa and cocoa preparations             0      NaN   \n",
       "2                       Cocoa and cocoa preparations             0      NaN   \n",
       "3                       Cocoa and cocoa preparations             0      NaN   \n",
       "4                       Cocoa and cocoa preparations             0      NaN   \n",
       "5                       Cocoa and cocoa preparations             0      NaN   \n",
       "6                       Cocoa and cocoa preparations             0      NaN   \n",
       "7                       Cocoa and cocoa preparations             0      NaN   \n",
       "8                       Cocoa and cocoa preparations             0      NaN   \n",
       "9                       Cocoa and cocoa preparations             0      NaN   \n",
       "\n",
       "   Qty  Netweight (kg)  Trade Value (US$)  Flag  \n",
       "0  NaN             NaN               9285     0  \n",
       "1  NaN             0.0             116604     0  \n",
       "2  NaN             0.0            1495175     0  \n",
       "3  NaN             0.0               2248     0  \n",
       "4  NaN             0.0              47840     0  \n",
       "5  NaN             0.0               3526     0  \n",
       "6  NaN             0.0               5462     0  \n",
       "7  NaN             0.0             311425     0  \n",
       "8  NaN             0.0              11786     0  \n",
       "9  NaN             0.0              33715     0  \n",
       "\n",
       "[10 rows x 22 columns]"
      ]
     },
     "execution_count": 25,
     "metadata": {},
     "output_type": "execute_result"
    }
   ],
   "source": [
    "ca_data"
   ]
  },
  {
   "cell_type": "code",
   "execution_count": 26,
   "metadata": {
    "tags": []
   },
   "outputs": [],
   "source": [
    "dataset = sy.Dataset(name=\"Canada Trade Value\")"
   ]
  },
  {
   "cell_type": "code",
   "execution_count": 27,
   "metadata": {
    "tags": []
   },
   "outputs": [],
   "source": [
    "dataset.set_description(\"\"\"Canada Trade Data\"\"\")"
   ]
  },
  {
   "cell_type": "code",
   "execution_count": 28,
   "metadata": {
    "tags": []
   },
   "outputs": [],
   "source": [
    "dataset.add_citation(\"Person, place or thing\")\n",
    "dataset.add_url(\"https://github.com/OpenMined/datasets/tree/main/trade_flow\")"
   ]
  },
  {
   "cell_type": "code",
   "execution_count": 29,
   "metadata": {
    "tags": []
   },
   "outputs": [],
   "source": [
    "dataset.add_contributor(role=sy.roles.UPLOADER, \n",
    "                                name=\"Andrew Trask\", \n",
    "                                email=\"andrew@openmined.org\",\n",
    "                                note=\"Andrew runs this domain and prepared the dataset metadata.\")\n",
    "\n",
    "dataset.add_contributor(role=sy.roles.EDITOR, \n",
    "                                name=\"Madhava Jay\", \n",
    "                                email=\"madhava@openmined.org\",\n",
    "                                note=\"Madhava tweaked the description to add the URL because Andrew forgot.\")"
   ]
  },
  {
   "cell_type": "code",
   "execution_count": 30,
   "metadata": {
    "tags": []
   },
   "outputs": [
    {
     "data": {
      "text/html": [
       "\n",
       "                <style>\n",
       "                .syft-collection-header {color: #464158;}\n",
       "                </style>\n",
       "                <div class='syft-collection-header'>\n",
       "                    <h3>Contributor List</h3>\n",
       "                </div>\n",
       "                <br>\n",
       "                <style>\n",
       ".itables table {\n",
       "    margin: 0 auto;\n",
       "    float: left;\n",
       "    color: #534F64;\n",
       "}\n",
       ".itables table th {color: #2E2B3B;}\n",
       "</style>\n",
       "<div class=\"itables\">\n",
       "<table id=\"2b19cf82-e18e-4bd8-8872-033f4f47ff4c\" class=\"display nowrap\"style=\"table-layout:auto;width:auto;margin:auto;caption-side:bottom\"><thead>\n",
       "    <tr style=\"text-align: right;\">\n",
       "      \n",
       "      <th>id</th>\n",
       "      <th>name</th>\n",
       "      <th>role</th>\n",
       "      <th>email</th>\n",
       "    </tr>\n",
       "  </thead><tbody><tr><td>Loading... (need <a href=https://mwouts.github.io/itables/troubleshooting.html>help</a>?)</td></tr></tbody></table>\n",
       "<link rel=\"stylesheet\" type=\"text/css\" href=\"https://cdn.datatables.net/1.13.1/css/jquery.dataTables.min.css\">\n",
       "<script type=\"module\">\n",
       "    // Import jquery and DataTable\n",
       "    import 'https://code.jquery.com/jquery-3.6.0.min.js';\n",
       "    import dt from 'https://cdn.datatables.net/1.12.1/js/jquery.dataTables.mjs';\n",
       "    dt($);\n",
       "\n",
       "    // Define the table data\n",
       "    const data = [[\"6931...e98\", \"Andrew Trask\", \"Uploader\", \"andrew@openmined.org\"], [\"c9c7...202\", \"Madhava Jay\", \"Editor\", \"madhava@openmined.org\"]];\n",
       "\n",
       "    // Define the dt_args\n",
       "    let dt_args = {\"order\": [], \"dom\": \"t\"};\n",
       "    dt_args[\"data\"] = data;\n",
       "\n",
       "    $(document).ready(function () {\n",
       "        \n",
       "        $('#2b19cf82-e18e-4bd8-8872-033f4f47ff4c').DataTable(dt_args);\n",
       "    });\n",
       "</script>\n",
       "</div>\n"
      ],
      "text/plain": [
       "[syft.service.dataset.dataset.Contributor,\n",
       " syft.service.dataset.dataset.Contributor]"
      ]
     },
     "execution_count": 30,
     "metadata": {},
     "output_type": "execute_result"
    }
   ],
   "source": [
    "dataset.contributors"
   ]
  },
  {
   "cell_type": "code",
   "execution_count": 31,
   "metadata": {
    "tags": []
   },
   "outputs": [],
   "source": [
    "assert len(dataset.contributors) == 2"
   ]
  },
  {
   "cell_type": "code",
   "execution_count": 32,
   "metadata": {
    "tags": []
   },
   "outputs": [],
   "source": [
    "ctf = sy.Asset(name=\"canada_trade_flow\")\n",
    "ctf.set_description(\"\"\"all the datas\"\"\")"
   ]
  },
  {
   "cell_type": "code",
   "execution_count": 33,
   "metadata": {
    "tags": []
   },
   "outputs": [],
   "source": [
    "ctf.add_contributor(role=sy.roles.UPLOADER, \n",
    "                      name=\"Andrew Trask\", \n",
    "                      email=\"andrew@openmined.org\",\n",
    "                      note=\"Andrew runs this domain and prepared the asset.\")"
   ]
  },
  {
   "cell_type": "code",
   "execution_count": 34,
   "metadata": {
    "tags": []
   },
   "outputs": [],
   "source": [
    "ctf.set_obj(ca_data)"
   ]
  },
  {
   "cell_type": "code",
   "execution_count": 35,
   "metadata": {
    "tags": []
   },
   "outputs": [],
   "source": [
    "ctf.set_shape((10, 22))"
   ]
  },
  {
   "cell_type": "code",
   "execution_count": 36,
   "metadata": {
    "tags": []
   },
   "outputs": [],
   "source": [
    "ctf.add_data_subject(canada)"
   ]
  },
  {
   "cell_type": "code",
   "execution_count": 37,
   "metadata": {},
   "outputs": [],
   "source": [
    "ctf.no_mock()"
   ]
  },
  {
   "cell_type": "code",
   "execution_count": 38,
   "metadata": {
    "tags": []
   },
   "outputs": [],
   "source": [
    "dataset.add_asset(ctf)"
   ]
  },
  {
   "cell_type": "code",
   "execution_count": 39,
   "metadata": {
    "tags": []
   },
   "outputs": [],
   "source": [
    "dataset.remove_asset(name=ctf.name)"
   ]
  },
  {
   "cell_type": "code",
   "execution_count": 40,
   "metadata": {
    "tags": []
   },
   "outputs": [],
   "source": [
    "ctf.set_mock(mock_ca_data, mock_is_real=False)"
   ]
  },
  {
   "cell_type": "code",
   "execution_count": 41,
   "metadata": {
    "tags": []
   },
   "outputs": [],
   "source": [
    "dataset.add_asset(ctf)"
   ]
  },
  {
   "cell_type": "code",
   "execution_count": 42,
   "metadata": {
    "tags": []
   },
   "outputs": [
    {
     "name": "stderr",
     "output_type": "stream",
     "text": [
      "100%|████████████████████████████████████████████████████████████████████████████████████████████████████████████████████████████████████| 1/1 [00:00<00:00, 10.61it/s]"
     ]
    },
    {
     "name": "stdout",
     "output_type": "stream",
     "text": [
      "Uploading: canada_trade_flow\n"
     ]
    },
    {
     "name": "stderr",
     "output_type": "stream",
     "text": [
      "\n"
     ]
    },
    {
     "data": {
      "text/html": [
       "<div class=\"alert-success\" style=\"padding:5px;\"><strong>SyftSuccess</strong>: Dataset Added</div><br />"
      ],
      "text/plain": [
       "<class 'syft.service.response.SyftSuccess'>: Dataset Added"
      ]
     },
     "execution_count": 42,
     "metadata": {},
     "output_type": "execute_result"
    }
   ],
   "source": [
    "domain_client.upload_dataset(dataset)"
   ]
  },
  {
   "cell_type": "code",
   "execution_count": 43,
   "metadata": {
    "tags": []
   },
   "outputs": [],
   "source": [
    "datasets = domain_client.api.services.dataset.get_all()"
   ]
  },
  {
   "cell_type": "code",
   "execution_count": 44,
   "metadata": {
    "tags": []
   },
   "outputs": [],
   "source": [
    "assert len(datasets) == 1"
   ]
  },
  {
   "cell_type": "code",
   "execution_count": 45,
   "metadata": {
    "tags": []
   },
   "outputs": [
    {
     "data": {
      "text/html": [
       "\n",
       "                <style>\n",
       "                .syft-collection-header {color: #464158;}\n",
       "                </style>\n",
       "                <div class='syft-collection-header'>\n",
       "                    <h3>Dataset List</h3>\n",
       "                </div>\n",
       "                <br>\n",
       "                <style>\n",
       ".itables table {\n",
       "    margin: 0 auto;\n",
       "    float: left;\n",
       "    color: #534F64;\n",
       "}\n",
       ".itables table th {color: #2E2B3B;}\n",
       "</style>\n",
       "<div class=\"itables\">\n",
       "<table id=\"e95a24f4-ff38-4ae2-b240-158e32757307\" class=\"display nowrap\"style=\"table-layout:auto;width:auto;margin:auto;caption-side:bottom\"><thead>\n",
       "    <tr style=\"text-align: right;\">\n",
       "      \n",
       "      <th>id</th>\n",
       "      <th>name</th>\n",
       "      <th>url</th>\n",
       "    </tr>\n",
       "  </thead><tbody><tr><td>Loading... (need <a href=https://mwouts.github.io/itables/troubleshooting.html>help</a>?)</td></tr></tbody></table>\n",
       "<link rel=\"stylesheet\" type=\"text/css\" href=\"https://cdn.datatables.net/1.13.1/css/jquery.dataTables.min.css\">\n",
       "<script type=\"module\">\n",
       "    // Import jquery and DataTable\n",
       "    import 'https://code.jquery.com/jquery-3.6.0.min.js';\n",
       "    import dt from 'https://cdn.datatables.net/1.12.1/js/jquery.dataTables.mjs';\n",
       "    dt($);\n",
       "\n",
       "    // Define the table data\n",
       "    const data = [[\"0851...22c\", \"Canada Trade Value\", \"https://github.com/OpenMined/datasets/tree/main/trade_flow\"]];\n",
       "\n",
       "    // Define the dt_args\n",
       "    let dt_args = {\"order\": [], \"dom\": \"t\"};\n",
       "    dt_args[\"data\"] = data;\n",
       "\n",
       "    $(document).ready(function () {\n",
       "        \n",
       "        $('#e95a24f4-ff38-4ae2-b240-158e32757307').DataTable(dt_args);\n",
       "    });\n",
       "</script>\n",
       "</div>\n"
      ],
      "text/plain": [
       "[syft.service.dataset.dataset.Dataset]"
      ]
     },
     "execution_count": 45,
     "metadata": {},
     "output_type": "execute_result"
    }
   ],
   "source": [
    "datasets"
   ]
  },
  {
   "cell_type": "code",
   "execution_count": 46,
   "metadata": {
    "tags": []
   },
   "outputs": [],
   "source": [
    "mock = domain_client.datasets[0].assets[0].mock"
   ]
  },
  {
   "cell_type": "code",
   "execution_count": 47,
   "metadata": {
    "tags": []
   },
   "outputs": [],
   "source": [
    "assert mock_ca_data.equals(mock)"
   ]
  },
  {
   "cell_type": "code",
   "execution_count": 48,
   "metadata": {
    "tags": []
   },
   "outputs": [],
   "source": [
    "real = domain_client.datasets[0].assets[0].data"
   ]
  },
  {
   "cell_type": "code",
   "execution_count": 49,
   "metadata": {
    "tags": []
   },
   "outputs": [],
   "source": [
    "assert ca_data.equals(real.syft_action_data)"
   ]
  },
  {
   "cell_type": "code",
   "execution_count": 50,
   "metadata": {},
   "outputs": [
    {
     "data": {
      "text/html": [
       "<div class=\"alert-success\" style=\"padding:5px;\"><strong>SyftSuccess</strong>: User successfully registered!</div><br />"
      ],
      "text/plain": [
       "<class 'syft.service.response.SyftSuccess'>: User successfully registered!"
      ]
     },
     "execution_count": 50,
     "metadata": {},
     "output_type": "execute_result"
    }
   ],
   "source": [
    "### Create account for guest user\n",
    "### Signup is disabled by default\n",
    "### An Admin/DO can enable it by `domain_client.settings.allow_guest_signup(enable=True)`\n",
    "\n",
    "domain_client.register(name=\"Jane Doe\", email=\"jane@caltech.edu\", password=\"abc123\", institution=\"Caltech\", website=\"https://www.caltech.edu/\")"
   ]
  },
  {
   "cell_type": "code",
   "execution_count": 51,
   "metadata": {
    "tags": []
   },
   "outputs": [
    {
     "name": "stdout",
     "output_type": "stream",
     "text": [
      "Stopping test-domain-1\n"
     ]
    }
   ],
   "source": [
    "if node.node_type.value == \"python\":\n",
    "    node.land()"
   ]
  },
  {
   "cell_type": "code",
   "execution_count": null,
   "metadata": {},
   "outputs": [],
   "source": []
  }
 ],
 "metadata": {
  "kernelspec": {
   "display_name": "Python 3 (ipykernel)",
   "language": "python",
   "name": "python3"
  },
  "language_info": {
   "codemirror_mode": {
    "name": "ipython",
    "version": 3
   },
   "file_extension": ".py",
   "mimetype": "text/x-python",
   "name": "python",
   "nbconvert_exporter": "python",
   "pygments_lexer": "ipython3",
   "version": "3.9.7"
  },
  "toc": {
   "base_numbering": 1,
   "nav_menu": {},
   "number_sections": true,
   "sideBar": true,
   "skip_h1_title": false,
   "title_cell": "Table of Contents",
   "title_sidebar": "Contents",
   "toc_cell": false,
   "toc_position": {},
   "toc_section_display": true,
   "toc_window_display": true
  }
 },
 "nbformat": 4,
 "nbformat_minor": 4
}
