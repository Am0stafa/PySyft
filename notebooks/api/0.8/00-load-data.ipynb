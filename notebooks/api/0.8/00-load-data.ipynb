{
 "cells": [
  {
   "cell_type": "code",
   "execution_count": null,
   "metadata": {},
   "outputs": [],
   "source": [
    "SYFT_VERSION = \">=0.8.1b0,<0.9\"\n",
    "package_string = f'\"syft{SYFT_VERSION}\"'\n",
    "!pip install {package_string} -f https://whls.blob.core.windows.net/unstable/index.html -q"
   ]
  },
  {
   "cell_type": "code",
   "execution_count": null,
   "metadata": {
    "tags": []
   },
   "outputs": [
    {
     "name": "stderr",
     "output_type": "stream",
     "text": [
      "kj/filesystem-disk-unix.c++:1703: warning: PWD environment variable doesn't match current directory; pwd = /home/teo/OpenMined/PySyft\n",
      "/home/teo/anaconda3/envs/PySyft/lib/python3.10/site-packages/scipy/__init__.py:146: UserWarning: A NumPy version >=1.16.5 and <1.23.0 is required for this version of SciPy (detected version 1.24.2\n",
      "  warnings.warn(f\"A NumPy version >={np_minversion} and <{np_maxversion}\"\n"
     ]
    },
    {
     "name": "stdout",
     "output_type": "stream",
     "text": [
      "✅ The installed version of syft==0.8.0b8 matches the requirement >=0.8b0\n"
     ]
    }
   ],
   "source": [
    "import syft as sy\n",
    "sy.requires(SYFT_VERSION)\n",
    "from syft import autocache"
   ]
  },
  {
   "cell_type": "code",
   "execution_count": 2,
   "metadata": {
    "tags": []
   },
   "outputs": [
    {
     "name": "stdout",
     "output_type": "stream",
     "text": [
      "Starting test-domain-1 server on 0.0.0.0:8080\n",
      "\n",
      "WARNING: private key is based on node name: test-domain-1 in dev_mode. Don't run this in production.\n"
     ]
    },
    {
     "name": "stderr",
     "output_type": "stream",
     "text": [
      "INFO:     Shutting down\n",
      "INFO:     Waiting for application shutdown.\n",
      "INFO:     Application shutdown complete.\n",
      "INFO:     Finished server process [738636]\n"
     ]
    }
   ],
   "source": [
    "node = sy.orchestra.launch(name=\"test-domain-1\", port=\"auto\", dev_mode=True, reset=True)"
   ]
  },
  {
   "cell_type": "code",
   "execution_count": 3,
   "metadata": {
    "tags": []
   },
   "outputs": [
    {
     "name": "stdout",
     "output_type": "stream",
     "text": [
      "SQLite Store Path:\n",
      "!open file:///tmp/7bca415d13ed1ec841f0d0aede098dbb.sqlite\n",
      "\n",
      "> Domain: test-domain-1 - 7bca415d13ed1ec841f0d0aede098dbb - NodeType.DOMAIN\n",
      "\n",
      "Services:\n",
      "ActionService\n",
      "DataSubjectMemberService\n",
      "DataSubjectService\n",
      "DatasetService\n",
      "MessageService\n",
      "MetadataService\n",
      "NetworkService\n",
      "PolicyService\n",
      "ProjectService\n",
      "RequestService\n",
      "UserCodeService\n",
      "UserService\n"
     ]
    },
    {
     "name": "stderr",
     "output_type": "stream",
     "text": [
      "INFO:     Started server process [738636]\n",
      "INFO:     Waiting for application startup.\n",
      "INFO:     Application startup complete.\n",
      "INFO:     Uvicorn running on http://0.0.0.0:8080 (Press CTRL+C to quit)\n"
     ]
    },
    {
     "name": "stdout",
     "output_type": "stream",
     "text": [
      "INFO:     127.0.0.1:43880 - \"GET /api/v1/new/metadata HTTP/1.1\" 200 OK\n",
      "INFO:     127.0.0.1:43880 - \"POST /api/v1/new/login HTTP/1.1\" 200 OK\n",
      "INFO:     127.0.0.1:43880 - \"GET /api/v1/new/api?verify_key=aec6ea4dfc049ceacaeeebc493167a88a200ddc367b1fa32da652444b635d21f HTTP/1.1\" 200 OK\n",
      "INFO:     127.0.0.1:43888 - \"POST /api/v1/new/api_call HTTP/1.1\" 200 OK\n",
      "INFO:     127.0.0.1:43892 - \"POST /api/v1/new/api_call HTTP/1.1\" 200 OK\n",
      "INFO:     127.0.0.1:43894 - \"POST /api/v1/new/api_call HTTP/1.1\" 200 OK\n",
      "INFO:     127.0.0.1:43904 - \"POST /api/v1/new/api_call HTTP/1.1\" 200 OK\n",
      "INFO:     127.0.0.1:43914 - \"POST /api/v1/new/api_call HTTP/1.1\" 200 OK\n",
      "INFO:     127.0.0.1:43922 - \"POST /api/v1/new/api_call HTTP/1.1\" 200 OK\n",
      "INFO:     127.0.0.1:43936 - \"POST /api/v1/new/api_call HTTP/1.1\" 200 OK\n",
      "INFO:     127.0.0.1:43946 - \"POST /api/v1/new/api_call HTTP/1.1\" 200 OK\n",
      "INFO:     127.0.0.1:43960 - \"POST /api/v1/new/api_call HTTP/1.1\" 200 OK\n",
      "INFO:     127.0.0.1:43966 - \"POST /api/v1/new/api_call HTTP/1.1\" 200 OK\n",
      "INFO:     127.0.0.1:43980 - \"POST /api/v1/new/api_call HTTP/1.1\" 200 OK\n"
     ]
    }
   ],
   "source": [
    "domain_client = node.login(email=\"info@openmined.org\", password=\"changethis\")"
   ]
  },
  {
   "cell_type": "code",
   "execution_count": 4,
   "metadata": {
    "tags": []
   },
   "outputs": [
    {
     "data": {
      "text/markdown": [
       "```python\n",
       "class SyftAPI:\n",
       "  id: str = 89cbe73ac69e49f0b0068bc8239e2451\n",
       "  connection: str = HTTPConnection: http://localhost:8080\n",
       "  node_uid: str = 7bca415d13ed1ec841f0d0aede098dbb\n",
       "  node_name: str = \"test-domain-1\"\n",
       "  endpoints: str = {'data_subject.add': APIEndpoint(path='data_subject.add', name='add_data_subject', description='', doc_string='Register a data subject.', signature=<Signature (data_subject: syft.service.data_subject.data_subject.DataSubjectCreate) -> Union[syft.service.response.SyftSuccess, syft.service.response.SyftError]>, has_self=False, pre_kwargs=None), 'data_subject.get_all': APIEndpoint(path='data_subject.get_all', name='get_all', description='', doc_string='Get all Data subjects', signature=<Signature () -> Union[List[syft.service.data_subject.data_subject.DataSubject], syft.service.response.SyftError]>, has_self=False, pre_kwargs=None), 'data_subject.get_members': APIEndpoint(path='data_subject.get_members', name='members_for', description='', doc_string=None, signature=<Signature (data_subject_name: str) -> Union[List[syft.service.data_subject.data_subject.DataSubject], syft.service.response.SyftError]>, has_self=False, pre_kwargs=None), 'data_subject.get_by_name': APIEndpoint(path='data_subject.get_by_name', name='get_by_name', description='', doc_string='Get a Data Subject by its name.', signature=<Signature (name: str) -> Union[syft.service.response.SyftSuccess, syft.service.response.SyftError]>, has_self=False, pre_kwargs=None), 'user.create': APIEndpoint(path='user.create', name='create', description='', doc_string='Create a new user', signature=<Signature (user_create: syft.service.user.user.UserCreate) -> Union[syft.service.user.user.UserView, syft.service.response.SyftError]>, has_self=False, pre_kwargs=None), 'user.view': APIEndpoint(path='user.view', name='view', description='', doc_string='Get user for given uid', signature=<Signature (uid: syft.types.uid.UID) -> Union[syft.service.user.user.UserView, None, syft.service.response.SyftError]>, has_self=False, pre_kwargs=None), 'user.get_all': APIEndpoint(path='user.get_all', name='get_all', description='', doc_string=None, signature=<Signature () -> Union[syft.service.user.user.UserView, None, syft.service.response.SyftError]>, has_self=False, pre_kwargs=None), 'user.search': APIEndpoint(path='user.search', name='search', description='', doc_string=None, signature=<Signature (args: Any, id: syft.types.uid.UID, email: pydantic.networks.EmailStr, verify_key: syft.node.credentials.SyftVerifyKey, name: str) -> Union[List[syft.service.user.user.UserView], syft.service.response.SyftError]>, has_self=False, pre_kwargs=None), 'user.update': APIEndpoint(path='user.update', name='update', description='', doc_string=None, signature=<Signature (uid: syft.types.uid.UID, user_update: syft.service.user.user.UserUpdate) -> Union[syft.service.user.user.UserView, syft.service.response.SyftError]>, has_self=False, pre_kwargs=None), 'user.delete': APIEndpoint(path='user.delete', name='delete', description='', doc_string=None, signature=<Signature (uid: syft.types.uid.UID) -> Union[bool, syft.service.response.SyftError]>, has_self=False, pre_kwargs=None), 'network.exchange_credentials_with': APIEndpoint(path='network.exchange_credentials_with', name='exchange_credentials_with', description='', doc_string='Exchange Credentials With Another Node', signature=<Signature (peer: Optional[syft.service.network.network_service.NodePeer, None] = None, client: Optional[syft.client.client.SyftClient, None] = None) -> Union[syft.service.response.SyftSuccess, syft.service.response.SyftError]>, has_self=False, pre_kwargs=None), 'network.add_peer': APIEndpoint(path='network.add_peer', name='add_peer', description='', doc_string='Add a Network Node Peer', signature=<Signature (peer: syft.service.network.network_service.NodePeer) -> Union[syft.service.metadata.node_metadata.NodeMetadata, syft.service.response.SyftError]>, has_self=False, pre_kwargs=None), 'network.add_route_for': APIEndpoint(path='network.add_route_for', name='add_route_for', description='', doc_string='Add Route for this Node to another Node', signature=<Signature (route: syft.service.network.network_service.NodeRoute, peer: Optional[syft.service.network.network_service.NodePeer, None] = None, client: Optional[syft.client.client.SyftClient, None] = None) -> Union[syft.service.response.SyftSuccess, syft.service.response.SyftError]>, has_self=False, pre_kwargs=None), 'network.verify_route': APIEndpoint(path='network.verify_route', name='verify_route', description='', doc_string='Add a Network Node Route', signature=<Signature (route: syft.service.network.network_service.NodeRoute) -> Union[syft.service.response.SyftSuccess, syft.service.response.SyftError]>, has_self=False, pre_kwargs=None), 'network.get_all_peers': APIEndpoint(path='network.get_all_peers', name='get_all_peers', description='', doc_string='Get all Peers', signature=<Signature () -> Union[List[syft.service.network.network_service.NodePeer], syft.service.response.SyftError]>, has_self=False, pre_kwargs=None), 'policy.get_all': APIEndpoint(path='policy.get_all', name='get_all', description='', doc_string=None, signature=<Signature () -> Union[List[syft.service.policy.policy.UserPolicy], syft.service.response.SyftError]>, has_self=False, pre_kwargs=None), 'policy.add': APIEndpoint(path='policy.add', name='add', description='', doc_string=None, signature=<Signature (policy_code: Union[syft.service.policy.policy.SubmitUserPolicy, syft.service.policy.policy.UserPolicy]) -> Union[syft.service.response.SyftSuccess, syft.service.response.SyftError]>, has_self=False, pre_kwargs=None), 'policy.get_by_uid': APIEndpoint(path='policy.get_by_uid', name='get_by_uid', description='', doc_string=None, signature=<Signature (uid: syft.types.uid.UID) -> Union[syft.service.response.SyftSuccess, syft.service.response.SyftError]>, has_self=False, pre_kwargs=None), 'action.np_array': APIEndpoint(path='action.np_array', name='np_array', description='', doc_string=None, signature=<Signature (data: Any) -> Any>, has_self=False, pre_kwargs=None), 'action.set': APIEndpoint(path='action.set', name='set', description='', doc_string='Save an object to the action store', signature=<Signature (action_object: Union[syft.service.action.action_object.ActionObject, syft.types.twin_object.TwinObject]) -> Union[result.result.Ok[syft.service.action.action_object.ActionObject], result.result.Err[str]]>, has_self=False, pre_kwargs=None), 'action.save': APIEndpoint(path='action.save', name='save', description='', doc_string='Save an object to the action store', signature=<Signature (action_object: Union[syft.service.action.action_object.ActionObject, syft.types.twin_object.TwinObject]) -> Union[result.result.Ok[syft.service.response.SyftSuccess], result.result.Err[str]]>, has_self=False, pre_kwargs=None), 'action.get': APIEndpoint(path='action.get', name='get', description='', doc_string='Get an object from the action store', signature=<Signature (uid: syft.types.uid.UID, twin_mode: syft.service.action.action_service.TwinMode = <TwinMode.PRIVATE: 1>) -> Union[result.result.Ok[syft.service.action.action_object.ActionObject], result.result.Err[str]]>, has_self=False, pre_kwargs=None), 'action.get_pointer': APIEndpoint(path='action.get_pointer', name='get_pointer', description='', doc_string='Get a pointer from the action store', signature=<Signature (uid: syft.types.uid.UID) -> Union[result.result.Ok[syft.service.action.action_object.ActionObjectPointer], result.result.Err[str]]>, has_self=False, pre_kwargs=None), 'action.execute': APIEndpoint(path='action.execute', name='execute', description='', doc_string='Execute an operation on objects in the action store', signature=<Signature (action: syft.service.action.action_object.Action) -> Union[result.result.Ok[syft.service.action.action_object.ActionObjectPointer], result.result.Err[result.result.Err]]>, has_self=False, pre_kwargs=None), 'action.exists': APIEndpoint(path='action.exists', name='exists', description='', doc_string='Checks if the given object id exists in the Action Store', signature=<Signature (obj_id: syft.types.uid.UID) -> Union[result.result.Ok[syft.service.response.SyftSuccess], result.result.Err[syft.service.response.SyftError]]>, has_self=False, pre_kwargs=None), 'code.submit': APIEndpoint(path='code.submit', name='submit', description='', doc_string='Add User Code', signature=<Signature (code: syft.service.code.user_code.SubmitUserCode) -> Union[syft.service.code.user_code.UserCode, syft.service.response.SyftError]>, has_self=False, pre_kwargs=None), 'code.request_code_execution': APIEndpoint(path='code.request_code_execution', name='request_code_execution', description='', doc_string='Request Code execution on user code', signature=<Signature (code: syft.service.code.user_code.SubmitUserCode) -> Union[syft.service.response.SyftSuccess, syft.service.response.SyftError]>, has_self=False, pre_kwargs=None), 'code.get_all': APIEndpoint(path='code.get_all', name='get_all', description='', doc_string='Get a Dataset', signature=<Signature () -> Union[List[syft.service.code.user_code.UserCode], syft.service.response.SyftError]>, has_self=False, pre_kwargs=None), 'code.get_by_id': APIEndpoint(path='code.get_by_id', name='get_by_id', description='', doc_string='Get a User Code Item', signature=<Signature (uid: syft.types.uid.UID) -> Union[syft.service.response.SyftSuccess, syft.service.response.SyftError]>, has_self=False, pre_kwargs=None), 'code.get_all_for_user': APIEndpoint(path='code.get_all_for_user', name='get_all_for_user', description='', doc_string=\"Get All User Code Items for User's VerifyKey\", signature=<Signature () -> Union[syft.service.response.SyftSuccess, syft.service.response.SyftError]>, has_self=False, pre_kwargs=None), 'code.call': APIEndpoint(path='code.call', name='call', description='', doc_string='Call a User Code Function', signature=<Signature (uid: syft.types.uid.UID, **kwargs: Any) -> Union[syft.service.response.SyftSuccess, syft.service.response.SyftError]>, has_self=False, pre_kwargs=None), 'dataset.add': APIEndpoint(path='dataset.add', name='add', description='', doc_string='Add a Dataset', signature=<Signature (dataset: syft.service.dataset.dataset.CreateDataset) -> Union[syft.service.response.SyftSuccess, syft.service.response.SyftError]>, has_self=False, pre_kwargs=None), 'dataset.get_all': APIEndpoint(path='dataset.get_all', name='get_all', description='', doc_string='Get a Dataset', signature=<Signature () -> Union[List[syft.service.dataset.dataset.Dataset], syft.service.response.SyftError]>, has_self=False, pre_kwargs=None), 'dataset.search': APIEndpoint(path='dataset.search', name='search', description='', doc_string='Search a Dataset by name', signature=<Signature (name: str) -> Union[List[syft.service.dataset.dataset.Dataset], syft.service.response.SyftError]>, has_self=False, pre_kwargs=None), 'dataset.get_by_id': APIEndpoint(path='dataset.get_by_id', name='get_by_id', description='', doc_string='Get a Dataset', signature=<Signature (uid: syft.types.uid.UID) -> Union[syft.service.response.SyftSuccess, syft.service.response.SyftError]>, has_self=False, pre_kwargs=None), 'dataset.get_by_action_id': APIEndpoint(path='dataset.get_by_action_id', name='get_by_action_id', description='', doc_string='Get Datasets by an Action ID', signature=<Signature (uid: syft.types.uid.UID) -> Union[List[syft.service.dataset.dataset.Dataset], syft.service.response.SyftError]>, has_self=False, pre_kwargs=None), 'dataset.get_assets_by_action_id': APIEndpoint(path='dataset.get_assets_by_action_id', name='get_assets_by_action_id', description='', doc_string='Get Assets by an Action ID', signature=<Signature (uid: syft.types.uid.UID) -> Union[List[syft.service.dataset.dataset.Asset], syft.service.response.SyftError]>, has_self=False, pre_kwargs=None), 'dataset.delete_by_id': APIEndpoint(path='dataset.delete_by_id', name='dataset_delete_by_id', description='', doc_string=None, signature=<Signature (uid: syft.types.uid.UID)>, has_self=False, pre_kwargs=None), 'messages.send': APIEndpoint(path='messages.send', name='send', description='', doc_string='Send a new message', signature=<Signature (message: syft.service.message.messages.CreateMessage) -> Union[syft.service.message.messages.Message, syft.service.response.SyftError]>, has_self=False, pre_kwargs=None), 'messages.get_all': APIEndpoint(path='messages.get_all', name='get_all', description='', doc_string=None, signature=<Signature () -> Union[List[syft.service.message.messages.Message], syft.service.response.SyftError]>, has_self=False, pre_kwargs=None), 'messages.get_all_sent': APIEndpoint(path='messages.get_all_sent', name='outbox', description='', doc_string=None, signature=<Signature () -> Union[List[syft.service.message.messages.Message], syft.service.response.SyftError]>, has_self=False, pre_kwargs=None), 'messages.get_all_for_status': APIEndpoint(path='messages.get_all_for_status', name='get_all_for_status', description='', doc_string=None, signature=<Signature (status: syft.service.message.messages.MessageStatus) -> Union[List[syft.service.message.messages.Message], syft.service.response.SyftError]>, has_self=False, pre_kwargs=None), 'messages.mark_as_delivered': APIEndpoint(path='messages.mark_as_delivered', name='mark_as_delivered', description='', doc_string=None, signature=<Signature (uid: syft.types.uid.UID) -> Union[syft.service.message.messages.Message, syft.service.response.SyftError]>, has_self=False, pre_kwargs=None), 'messages.resolve_object': APIEndpoint(path='messages.resolve_object', name='resolve_object', description='', doc_string=None, signature=<Signature (linked_obj: syft.store.linked_obj.LinkedObject) -> Union[syft.service.message.messages.Message, syft.service.response.SyftError]>, has_self=False, pre_kwargs=None), 'messages.clear': APIEndpoint(path='messages.clear', name='clear', description='', doc_string=None, signature=<Signature () -> Union[syft.service.response.SyftError, syft.service.response.SyftSuccess]>, has_self=False, pre_kwargs=None), 'metadata.get': APIEndpoint(path='metadata.get', name='get', description='', doc_string='Get Metadata', signature=<Signature () -> Union[result.result.Ok[result.result.Ok], result.result.Err[result.result.Err]]>, has_self=False, pre_kwargs=None), 'metadata.set': APIEndpoint(path='metadata.set', name='set', description='', doc_string='Set a new the Node Metadata', signature=<Signature (metadata: syft.service.metadata.node_metadata.NodeMetadata) -> Union[result.result.Ok[result.result.Ok], result.result.Err[result.result.Err]]>, has_self=False, pre_kwargs=None), 'metadata.update': APIEndpoint(path='metadata.update', name='update', description='', doc_string=None, signature=<Signature (metadata: syft.service.metadata.node_metadata.NodeMetadataUpdate) -> Union[result.result.Ok[result.result.Ok], result.result.Err[result.result.Err]]>, has_self=False, pre_kwargs=None), 'request.submit': APIEndpoint(path='request.submit', name='submit', description='', doc_string='Submit a Request', signature=<Signature (request: syft.service.request.request.SubmitRequest, send_message: bool = True) -> Union[syft.service.request.request.Request, syft.service.response.SyftError]>, has_self=False, pre_kwargs=None), 'request.get_all': APIEndpoint(path='request.get_all', name='get_all', description='', doc_string=None, signature=<Signature () -> Union[List[syft.service.request.request.Request], syft.service.response.SyftError]>, has_self=False, pre_kwargs=None), 'request.get_all_for_status': APIEndpoint(path='request.get_all_for_status', name='get_all_for_status', description='', doc_string=None, signature=<Signature (status: syft.service.request.request.RequestStatus) -> Union[List[syft.service.request.request.Request], syft.service.response.SyftError]>, has_self=False, pre_kwargs=None), 'request.apply': APIEndpoint(path='request.apply', name='apply', description='', doc_string=None, signature=<Signature (uid: syft.types.uid.UID) -> Union[syft.service.response.SyftSuccess, syft.service.response.SyftError]>, has_self=False, pre_kwargs=None), 'request.revert': APIEndpoint(path='request.revert', name='revert', description='', doc_string=None, signature=<Signature (uid: syft.types.uid.UID) -> Union[syft.service.response.SyftSuccess, syft.service.response.SyftError]>, has_self=False, pre_kwargs=None), 'project.submit': APIEndpoint(path='project.submit', name='submit', description='', doc_string='Submit a Project', signature=<Signature (project: syft.service.project.project.ProjectSubmit) -> Union[syft.service.response.SyftSuccess, syft.service.response.SyftError]>, has_self=False, pre_kwargs=None), 'project.get_all': APIEndpoint(path='project.get_all', name='get_all', description='', doc_string=None, signature=<Signature () -> Union[List[syft.service.project.project.Project], syft.service.response.SyftError]>, has_self=False, pre_kwargs=None)}\n",
       "  api_module: str = <syft.client.api.APIModule object at 0x7feb98b74ee0>\n",
       "  signing_key: str = 7bca415d13ed1ec841f0d0aede098dbba7ddf23ba8d94400a7dc095091b87053\n",
       "  refresh_api_callback: str = <function SyftClient._fetch_api.<locals>.refresh_callback at 0x7feb98b27eb0>\n",
       "\n",
       "```"
      ],
      "text/plain": [
       "client.api.services\n",
       "\n",
       "client.api.services.data_subject\n",
       "\n",
       "client.api.services.data_subject.add_data_subject(data_subject: syft.service.data_subject.data_subject.DataSubjectCreate) -> Union[syft.service.response.SyftSuccess, syft.service.response.SyftError]\n",
       "\n",
       "client.api.services.data_subject.get_all() -> Union[List[syft.service.data_subject.data_subject.DataSubject], syft.service.response.SyftError]\n",
       "\n",
       "client.api.services.data_subject.members_for(data_subject_name: str) -> Union[List[syft.service.data_subject.data_subject.DataSubject], syft.service.response.SyftError]\n",
       "\n",
       "client.api.services.data_subject.get_by_name(name: str) -> Union[syft.service.response.SyftSuccess, syft.service.response.SyftError]\n",
       "\n",
       "\n",
       "client.api.services.user\n",
       "\n",
       "client.api.services.user.create(user_create: syft.service.user.user.UserCreate) -> Union[syft.service.user.user.UserView, syft.service.response.SyftError]\n",
       "\n",
       "client.api.services.user.view(uid: syft.types.uid.UID) -> Union[syft.service.user.user.UserView, None, syft.service.response.SyftError]\n",
       "\n",
       "client.api.services.user.get_all() -> Union[syft.service.user.user.UserView, None, syft.service.response.SyftError]\n",
       "\n",
       "client.api.services.user.search(args: Any, id: syft.types.uid.UID, email: pydantic.networks.EmailStr, verify_key: syft.node.credentials.SyftVerifyKey, name: str) -> Union[List[syft.service.user.user.UserView], syft.service.response.SyftError]\n",
       "\n",
       "client.api.services.user.update(uid: syft.types.uid.UID, user_update: syft.service.user.user.UserUpdate) -> Union[syft.service.user.user.UserView, syft.service.response.SyftError]\n",
       "\n",
       "client.api.services.user.delete(uid: syft.types.uid.UID) -> Union[bool, syft.service.response.SyftError]\n",
       "\n",
       "\n",
       "client.api.services.network\n",
       "\n",
       "client.api.services.network.exchange_credentials_with(peer: Optional[syft.service.network.network_service.NodePeer, None] = None, client: Optional[syft.client.client.SyftClient, None] = None) -> Union[syft.service.response.SyftSuccess, syft.service.response.SyftError]\n",
       "\n",
       "client.api.services.network.add_peer(peer: syft.service.network.network_service.NodePeer) -> Union[syft.service.metadata.node_metadata.NodeMetadata, syft.service.response.SyftError]\n",
       "\n",
       "client.api.services.network.add_route_for(route: syft.service.network.network_service.NodeRoute, peer: Optional[syft.service.network.network_service.NodePeer, None] = None, client: Optional[syft.client.client.SyftClient, None] = None) -> Union[syft.service.response.SyftSuccess, syft.service.response.SyftError]\n",
       "\n",
       "client.api.services.network.verify_route(route: syft.service.network.network_service.NodeRoute) -> Union[syft.service.response.SyftSuccess, syft.service.response.SyftError]\n",
       "\n",
       "client.api.services.network.get_all_peers() -> Union[List[syft.service.network.network_service.NodePeer], syft.service.response.SyftError]\n",
       "\n",
       "\n",
       "client.api.services.policy\n",
       "\n",
       "client.api.services.policy.get_all() -> Union[List[syft.service.policy.policy.UserPolicy], syft.service.response.SyftError]\n",
       "\n",
       "client.api.services.policy.add(policy_code: Union[syft.service.policy.policy.SubmitUserPolicy, syft.service.policy.policy.UserPolicy]) -> Union[syft.service.response.SyftSuccess, syft.service.response.SyftError]\n",
       "\n",
       "client.api.services.policy.get_by_uid(uid: syft.types.uid.UID) -> Union[syft.service.response.SyftSuccess, syft.service.response.SyftError]\n",
       "\n",
       "\n",
       "client.api.services.action\n",
       "\n",
       "client.api.services.action.np_array(data: Any) -> Any\n",
       "\n",
       "client.api.services.action.set(action_object: Union[syft.service.action.action_object.ActionObject, syft.types.twin_object.TwinObject]) -> Union[result.result.Ok[syft.service.action.action_object.ActionObject], result.result.Err[str]]\n",
       "\n",
       "client.api.services.action.save(action_object: Union[syft.service.action.action_object.ActionObject, syft.types.twin_object.TwinObject]) -> Union[result.result.Ok[syft.service.response.SyftSuccess], result.result.Err[str]]\n",
       "\n",
       "client.api.services.action.get(uid: syft.types.uid.UID, twin_mode: syft.service.action.action_service.TwinMode = <TwinMode.PRIVATE: 1>) -> Union[result.result.Ok[syft.service.action.action_object.ActionObject], result.result.Err[str]]\n",
       "\n",
       "client.api.services.action.get_pointer(uid: syft.types.uid.UID) -> Union[result.result.Ok[syft.service.action.action_object.ActionObjectPointer], result.result.Err[str]]\n",
       "\n",
       "client.api.services.action.execute(action: syft.service.action.action_object.Action) -> Union[result.result.Ok[syft.service.action.action_object.ActionObjectPointer], result.result.Err[result.result.Err]]\n",
       "\n",
       "client.api.services.action.exists(obj_id: syft.types.uid.UID) -> Union[result.result.Ok[syft.service.response.SyftSuccess], result.result.Err[syft.service.response.SyftError]]\n",
       "\n",
       "\n",
       "client.api.services.code\n",
       "\n",
       "client.api.services.code.submit(code: syft.service.code.user_code.SubmitUserCode) -> Union[syft.service.code.user_code.UserCode, syft.service.response.SyftError]\n",
       "\n",
       "client.api.services.code.request_code_execution(code: syft.service.code.user_code.SubmitUserCode) -> Union[syft.service.response.SyftSuccess, syft.service.response.SyftError]\n",
       "\n",
       "client.api.services.code.get_all() -> Union[List[syft.service.code.user_code.UserCode], syft.service.response.SyftError]\n",
       "\n",
       "client.api.services.code.get_by_id(uid: syft.types.uid.UID) -> Union[syft.service.response.SyftSuccess, syft.service.response.SyftError]\n",
       "\n",
       "client.api.services.code.get_all_for_user() -> Union[syft.service.response.SyftSuccess, syft.service.response.SyftError]\n",
       "\n",
       "client.api.services.code.call(uid: syft.types.uid.UID, **kwargs: Any) -> Union[syft.service.response.SyftSuccess, syft.service.response.SyftError]\n",
       "\n",
       "\n",
       "client.api.services.dataset\n",
       "\n",
       "client.api.services.dataset.add(dataset: syft.service.dataset.dataset.CreateDataset) -> Union[syft.service.response.SyftSuccess, syft.service.response.SyftError]\n",
       "\n",
       "client.api.services.dataset.get_all() -> Union[List[syft.service.dataset.dataset.Dataset], syft.service.response.SyftError]\n",
       "\n",
       "client.api.services.dataset.search(name: str) -> Union[List[syft.service.dataset.dataset.Dataset], syft.service.response.SyftError]\n",
       "\n",
       "client.api.services.dataset.get_by_id(uid: syft.types.uid.UID) -> Union[syft.service.response.SyftSuccess, syft.service.response.SyftError]\n",
       "\n",
       "client.api.services.dataset.get_by_action_id(uid: syft.types.uid.UID) -> Union[List[syft.service.dataset.dataset.Dataset], syft.service.response.SyftError]\n",
       "\n",
       "client.api.services.dataset.get_assets_by_action_id(uid: syft.types.uid.UID) -> Union[List[syft.service.dataset.dataset.Asset], syft.service.response.SyftError]\n",
       "\n",
       "client.api.services.dataset.dataset_delete_by_id(uid: syft.types.uid.UID)\n",
       "\n",
       "\n",
       "client.api.services.messages\n",
       "\n",
       "client.api.services.messages.send(message: syft.service.message.messages.CreateMessage) -> Union[syft.service.message.messages.Message, syft.service.response.SyftError]\n",
       "\n",
       "client.api.services.messages.get_all() -> Union[List[syft.service.message.messages.Message], syft.service.response.SyftError]\n",
       "\n",
       "client.api.services.messages.outbox() -> Union[List[syft.service.message.messages.Message], syft.service.response.SyftError]\n",
       "\n",
       "client.api.services.messages.get_all_for_status(status: syft.service.message.messages.MessageStatus) -> Union[List[syft.service.message.messages.Message], syft.service.response.SyftError]\n",
       "\n",
       "client.api.services.messages.mark_as_delivered(uid: syft.types.uid.UID) -> Union[syft.service.message.messages.Message, syft.service.response.SyftError]\n",
       "\n",
       "client.api.services.messages.resolve_object(linked_obj: syft.store.linked_obj.LinkedObject) -> Union[syft.service.message.messages.Message, syft.service.response.SyftError]\n",
       "\n",
       "client.api.services.messages.clear() -> Union[syft.service.response.SyftError, syft.service.response.SyftSuccess]\n",
       "\n",
       "\n",
       "client.api.services.metadata\n",
       "\n",
       "client.api.services.metadata.get() -> Union[result.result.Ok[result.result.Ok], result.result.Err[result.result.Err]]\n",
       "\n",
       "client.api.services.metadata.set(metadata: syft.service.metadata.node_metadata.NodeMetadata) -> Union[result.result.Ok[result.result.Ok], result.result.Err[result.result.Err]]\n",
       "\n",
       "client.api.services.metadata.update(metadata: syft.service.metadata.node_metadata.NodeMetadataUpdate) -> Union[result.result.Ok[result.result.Ok], result.result.Err[result.result.Err]]\n",
       "\n",
       "\n",
       "client.api.services.request\n",
       "\n",
       "client.api.services.request.submit(request: syft.service.request.request.SubmitRequest, send_message: bool = True) -> Union[syft.service.request.request.Request, syft.service.response.SyftError]\n",
       "\n",
       "client.api.services.request.get_all() -> Union[List[syft.service.request.request.Request], syft.service.response.SyftError]\n",
       "\n",
       "client.api.services.request.get_all_for_status(status: syft.service.request.request.RequestStatus) -> Union[List[syft.service.request.request.Request], syft.service.response.SyftError]\n",
       "\n",
       "client.api.services.request.apply(uid: syft.types.uid.UID) -> Union[syft.service.response.SyftSuccess, syft.service.response.SyftError]\n",
       "\n",
       "client.api.services.request.revert(uid: syft.types.uid.UID) -> Union[syft.service.response.SyftSuccess, syft.service.response.SyftError]\n",
       "\n",
       "\n",
       "client.api.services.project\n",
       "\n",
       "client.api.services.project.submit(project: syft.service.project.project.ProjectSubmit) -> Union[syft.service.response.SyftSuccess, syft.service.response.SyftError]\n",
       "\n",
       "client.api.services.project.get_all() -> Union[List[syft.service.project.project.Project], syft.service.response.SyftError]\n"
      ]
     },
     "execution_count": 4,
     "metadata": {},
     "output_type": "execute_result"
    }
   ],
   "source": [
    "domain_client.api"
   ]
  },
  {
   "cell_type": "code",
   "execution_count": 5,
   "metadata": {
    "tags": []
   },
   "outputs": [],
   "source": [
    "data_subjects = domain_client.api.services.data_subject.get_all()"
   ]
  },
  {
   "cell_type": "code",
   "execution_count": 6,
   "metadata": {
    "tags": []
   },
   "outputs": [
    {
     "data": {
      "text/html": [
       "[]"
      ],
      "text/plain": [
       "[]"
      ]
     },
     "execution_count": 6,
     "metadata": {},
     "output_type": "execute_result"
    }
   ],
   "source": [
    "data_subjects"
   ]
  },
  {
   "cell_type": "code",
   "execution_count": 7,
   "metadata": {
    "tags": []
   },
   "outputs": [],
   "source": [
    "assert len(data_subjects) == 0"
   ]
  },
  {
   "cell_type": "code",
   "execution_count": 8,
   "metadata": {
    "tags": []
   },
   "outputs": [],
   "source": [
    "country = sy.DataSubject(name=\"Country\", aliases=[\"country_code\"])"
   ]
  },
  {
   "cell_type": "code",
   "execution_count": 9,
   "metadata": {
    "tags": []
   },
   "outputs": [],
   "source": [
    "canada = sy.DataSubject(name=\"Canada\", aliases=[\"country_code:ca\"])\n",
    "germany = sy.DataSubject(name=\"Germany\", aliases=[\"country_code:de\"])\n",
    "spain = sy.DataSubject(name=\"Spain\", aliases=[\"country_code:es\"])\n",
    "france = sy.DataSubject(name=\"France\", aliases=[\"country_code:fr\"])\n",
    "japan = sy.DataSubject(name=\"Japan\", aliases=[\"country_code:jp\"])\n",
    "uk = sy.DataSubject(name=\"United Kingdom\", aliases=[\"country_code:uk\"])\n",
    "usa = sy.DataSubject(name=\"United States of America\", aliases=[\"country_code:us\"])\n",
    "australia = sy.DataSubject(name=\"Australia\", aliases=[\"country_code:au\"])\n",
    "india = sy.DataSubject(name=\"India\", aliases=[\"country_code:in\"])"
   ]
  },
  {
   "cell_type": "code",
   "execution_count": 10,
   "metadata": {
    "tags": []
   },
   "outputs": [
    {
     "data": {
      "text/html": [
       "Dict - Size: 9\n",
       "<div>\n",
       "<style scoped>\n",
       "    .dataframe tbody tr th:only-of-type {\n",
       "        vertical-align: middle;\n",
       "    }\n",
       "\n",
       "    .dataframe tbody tr th {\n",
       "        vertical-align: top;\n",
       "    }\n",
       "\n",
       "    .dataframe thead th {\n",
       "        text-align: right;\n",
       "    }\n",
       "</style>\n",
       "<table border=\"1\" class=\"dataframe\">\n",
       "  <thead>\n",
       "    <tr style=\"text-align: right;\">\n",
       "      <th></th>\n",
       "      <th>key</th>\n",
       "      <th>type</th>\n",
       "      <th>id</th>\n",
       "    </tr>\n",
       "  </thead>\n",
       "  <tbody>\n",
       "    <tr>\n",
       "      <th>0</th>\n",
       "      <td>Canada</td>\n",
       "      <td>&lt;DataSubject: Canada&gt;</td>\n",
       "      <td>None</td>\n",
       "    </tr>\n",
       "    <tr>\n",
       "      <th>1</th>\n",
       "      <td>Germany</td>\n",
       "      <td>&lt;DataSubject: Germany&gt;</td>\n",
       "      <td>None</td>\n",
       "    </tr>\n",
       "    <tr>\n",
       "      <th>2</th>\n",
       "      <td>Spain</td>\n",
       "      <td>&lt;DataSubject: Spain&gt;</td>\n",
       "      <td>None</td>\n",
       "    </tr>\n",
       "    <tr>\n",
       "      <th>3</th>\n",
       "      <td>France</td>\n",
       "      <td>&lt;DataSubject: France&gt;</td>\n",
       "      <td>None</td>\n",
       "    </tr>\n",
       "    <tr>\n",
       "      <th>4</th>\n",
       "      <td>Japan</td>\n",
       "      <td>&lt;DataSubject: Japan&gt;</td>\n",
       "      <td>None</td>\n",
       "    </tr>\n",
       "  </tbody>\n",
       "</table>\n",
       "</div>"
      ],
      "text/plain": [
       "{'Canada': <DataSubject: Canada>,\n",
       " 'Germany': <DataSubject: Germany>,\n",
       " 'Spain': <DataSubject: Spain>,\n",
       " 'France': <DataSubject: France>,\n",
       " 'Japan': <DataSubject: Japan>,\n",
       " 'United Kingdom': <DataSubject: United Kingdom>,\n",
       " 'United States of America': <DataSubject: United States of America>,\n",
       " 'Australia': <DataSubject: Australia>,\n",
       " 'India': <DataSubject: India>}"
      ]
     },
     "execution_count": 10,
     "metadata": {},
     "output_type": "execute_result"
    }
   ],
   "source": [
    "country.add_member(canada)\n",
    "country.add_member(germany)\n",
    "country.add_member(spain)\n",
    "country.add_member(france)\n",
    "country.add_member(japan)\n",
    "country.add_member(uk)\n",
    "country.add_member(usa)\n",
    "country.add_member(australia)\n",
    "country.add_member(india)\n",
    "\n",
    "country.members"
   ]
  },
  {
   "cell_type": "code",
   "execution_count": 11,
   "metadata": {
    "tags": []
   },
   "outputs": [],
   "source": [
    "registry = domain_client.data_subject_registry"
   ]
  },
  {
   "cell_type": "code",
   "execution_count": 12,
   "metadata": {
    "tags": []
   },
   "outputs": [],
   "source": [
    "response = registry.add_data_subject(country)"
   ]
  },
  {
   "cell_type": "code",
   "execution_count": 13,
   "metadata": {
    "tags": []
   },
   "outputs": [
    {
     "data": {
      "text/html": [
       "<div class=\"alert-success\" style=\"padding:5px;\"><strong>SyftSuccess</strong>: 10 Data Subjects Registered</div><br />"
      ],
      "text/plain": [
       "<class 'syft.service.response.SyftSuccess'>: 10 Data Subjects Registered"
      ]
     },
     "execution_count": 13,
     "metadata": {},
     "output_type": "execute_result"
    }
   ],
   "source": [
    "response"
   ]
  },
  {
   "cell_type": "code",
   "execution_count": 14,
   "metadata": {
    "tags": []
   },
   "outputs": [],
   "source": [
    "assert response"
   ]
  },
  {
   "cell_type": "code",
   "execution_count": 15,
   "metadata": {
    "tags": []
   },
   "outputs": [
    {
     "data": {
      "text/html": [
       "List - Size: 10\n",
       "<div>\n",
       "<style scoped>\n",
       "    .dataframe tbody tr th:only-of-type {\n",
       "        vertical-align: middle;\n",
       "    }\n",
       "\n",
       "    .dataframe tbody tr th {\n",
       "        vertical-align: top;\n",
       "    }\n",
       "\n",
       "    .dataframe thead th {\n",
       "        text-align: right;\n",
       "    }\n",
       "</style>\n",
       "<table border=\"1\" class=\"dataframe\">\n",
       "  <thead>\n",
       "    <tr style=\"text-align: right;\">\n",
       "      <th></th>\n",
       "      <th>type</th>\n",
       "      <th>id</th>\n",
       "    </tr>\n",
       "  </thead>\n",
       "  <tbody>\n",
       "    <tr>\n",
       "      <th>0</th>\n",
       "      <td>&lt;DataSubject: India&gt;</td>\n",
       "      <td>454f239d28194a1abea19fd8b215a3e5</td>\n",
       "    </tr>\n",
       "    <tr>\n",
       "      <th>1</th>\n",
       "      <td>&lt;DataSubject: Canada&gt;</td>\n",
       "      <td>772b3215e8094407b441a3a915c810ff</td>\n",
       "    </tr>\n",
       "    <tr>\n",
       "      <th>2</th>\n",
       "      <td>&lt;DataSubject: Spain&gt;</td>\n",
       "      <td>8fc396989dc742b284085a0719d086f2</td>\n",
       "    </tr>\n",
       "    <tr>\n",
       "      <th>3</th>\n",
       "      <td>&lt;DataSubject: United Kingdom&gt;</td>\n",
       "      <td>9503bae142284097b21e63f7df7b6648</td>\n",
       "    </tr>\n",
       "    <tr>\n",
       "      <th>4</th>\n",
       "      <td>&lt;DataSubject: United States of America&gt;</td>\n",
       "      <td>96d4d2eeefa6460abc3c0994b5a2c990</td>\n",
       "    </tr>\n",
       "  </tbody>\n",
       "</table>\n",
       "</div>"
      ],
      "text/plain": [
       "<syft.client.api.APIModule at 0x7feb98b74760>"
      ]
     },
     "execution_count": 15,
     "metadata": {},
     "output_type": "execute_result"
    }
   ],
   "source": [
    "domain_client.data_subject_registry"
   ]
  },
  {
   "cell_type": "code",
   "execution_count": 16,
   "metadata": {
    "tags": []
   },
   "outputs": [],
   "source": [
    "data_subjects = domain_client.api.services.data_subject.get_all()"
   ]
  },
  {
   "cell_type": "code",
   "execution_count": 17,
   "metadata": {
    "tags": []
   },
   "outputs": [],
   "source": [
    "assert len(data_subjects) == 10"
   ]
  },
  {
   "cell_type": "code",
   "execution_count": 18,
   "metadata": {
    "tags": []
   },
   "outputs": [],
   "source": [
    "canada_dataset_url = \"https://github.com/OpenMined/datasets/blob/main/trade_flow/ca%20-%20feb%202021.csv?raw=True\""
   ]
  },
  {
   "cell_type": "code",
   "execution_count": 19,
   "metadata": {
    "tags": []
   },
   "outputs": [],
   "source": [
    "import pandas as pd"
   ]
  },
  {
   "cell_type": "code",
   "execution_count": 20,
   "metadata": {
    "tags": []
   },
   "outputs": [
    {
     "name": "stderr",
     "output_type": "stream",
     "text": [
      "/tmp/ipykernel_738518/754433127.py:1: DtypeWarning: Columns (14) have mixed types. Specify dtype option on import or set low_memory=False.\n",
      "  df = pd.read_csv(autocache(canada_dataset_url))\n"
     ]
    }
   ],
   "source": [
    "df = pd.read_csv(autocache(canada_dataset_url))"
   ]
  },
  {
   "cell_type": "code",
   "execution_count": 21,
   "metadata": {
    "tags": []
   },
   "outputs": [
    {
     "data": {
      "text/html": [
       "<div>\n",
       "<style scoped>\n",
       "    .dataframe tbody tr th:only-of-type {\n",
       "        vertical-align: middle;\n",
       "    }\n",
       "\n",
       "    .dataframe tbody tr th {\n",
       "        vertical-align: top;\n",
       "    }\n",
       "\n",
       "    .dataframe thead th {\n",
       "        text-align: right;\n",
       "    }\n",
       "</style>\n",
       "<table border=\"1\" class=\"dataframe\">\n",
       "  <thead>\n",
       "    <tr style=\"text-align: right;\">\n",
       "      <th></th>\n",
       "      <th>Classification</th>\n",
       "      <th>Year</th>\n",
       "      <th>Period</th>\n",
       "      <th>Period Desc.</th>\n",
       "      <th>Aggregate Level</th>\n",
       "      <th>Is Leaf Code</th>\n",
       "      <th>Trade Flow Code</th>\n",
       "      <th>Trade Flow</th>\n",
       "      <th>Reporter Code</th>\n",
       "      <th>Reporter</th>\n",
       "      <th>...</th>\n",
       "      <th>Partner</th>\n",
       "      <th>Partner ISO</th>\n",
       "      <th>Commodity Code</th>\n",
       "      <th>Commodity</th>\n",
       "      <th>Qty Unit Code</th>\n",
       "      <th>Qty Unit</th>\n",
       "      <th>Qty</th>\n",
       "      <th>Netweight (kg)</th>\n",
       "      <th>Trade Value (US$)</th>\n",
       "      <th>Flag</th>\n",
       "    </tr>\n",
       "  </thead>\n",
       "  <tbody>\n",
       "    <tr>\n",
       "      <th>0</th>\n",
       "      <td>HS</td>\n",
       "      <td>2021</td>\n",
       "      <td>202102</td>\n",
       "      <td>February 2021</td>\n",
       "      <td>4</td>\n",
       "      <td>0</td>\n",
       "      <td>1</td>\n",
       "      <td>Imports</td>\n",
       "      <td>124</td>\n",
       "      <td>Canada</td>\n",
       "      <td>...</td>\n",
       "      <td>Other Asia, nes</td>\n",
       "      <td>NaN</td>\n",
       "      <td>6117</td>\n",
       "      <td>Clothing accessories; made up, knitted or croc...</td>\n",
       "      <td>0</td>\n",
       "      <td>NaN</td>\n",
       "      <td>NaN</td>\n",
       "      <td>NaN</td>\n",
       "      <td>9285</td>\n",
       "      <td>0</td>\n",
       "    </tr>\n",
       "    <tr>\n",
       "      <th>1</th>\n",
       "      <td>HS</td>\n",
       "      <td>2021</td>\n",
       "      <td>202102</td>\n",
       "      <td>February 2021</td>\n",
       "      <td>2</td>\n",
       "      <td>0</td>\n",
       "      <td>1</td>\n",
       "      <td>Imports</td>\n",
       "      <td>124</td>\n",
       "      <td>Canada</td>\n",
       "      <td>...</td>\n",
       "      <td>Egypt</td>\n",
       "      <td>NaN</td>\n",
       "      <td>18</td>\n",
       "      <td>Cocoa and cocoa preparations</td>\n",
       "      <td>0</td>\n",
       "      <td>NaN</td>\n",
       "      <td>NaN</td>\n",
       "      <td>0.0</td>\n",
       "      <td>116604</td>\n",
       "      <td>0</td>\n",
       "    </tr>\n",
       "    <tr>\n",
       "      <th>2</th>\n",
       "      <td>HS</td>\n",
       "      <td>2021</td>\n",
       "      <td>202102</td>\n",
       "      <td>February 2021</td>\n",
       "      <td>2</td>\n",
       "      <td>0</td>\n",
       "      <td>1</td>\n",
       "      <td>Imports</td>\n",
       "      <td>124</td>\n",
       "      <td>Canada</td>\n",
       "      <td>...</td>\n",
       "      <td>United Kingdom</td>\n",
       "      <td>NaN</td>\n",
       "      <td>18</td>\n",
       "      <td>Cocoa and cocoa preparations</td>\n",
       "      <td>0</td>\n",
       "      <td>NaN</td>\n",
       "      <td>NaN</td>\n",
       "      <td>0.0</td>\n",
       "      <td>1495175</td>\n",
       "      <td>0</td>\n",
       "    </tr>\n",
       "    <tr>\n",
       "      <th>3</th>\n",
       "      <td>HS</td>\n",
       "      <td>2021</td>\n",
       "      <td>202102</td>\n",
       "      <td>February 2021</td>\n",
       "      <td>2</td>\n",
       "      <td>0</td>\n",
       "      <td>1</td>\n",
       "      <td>Imports</td>\n",
       "      <td>124</td>\n",
       "      <td>Canada</td>\n",
       "      <td>...</td>\n",
       "      <td>United Rep. of Tanzania</td>\n",
       "      <td>NaN</td>\n",
       "      <td>18</td>\n",
       "      <td>Cocoa and cocoa preparations</td>\n",
       "      <td>0</td>\n",
       "      <td>NaN</td>\n",
       "      <td>NaN</td>\n",
       "      <td>0.0</td>\n",
       "      <td>2248</td>\n",
       "      <td>0</td>\n",
       "    </tr>\n",
       "    <tr>\n",
       "      <th>4</th>\n",
       "      <td>HS</td>\n",
       "      <td>2021</td>\n",
       "      <td>202102</td>\n",
       "      <td>February 2021</td>\n",
       "      <td>2</td>\n",
       "      <td>0</td>\n",
       "      <td>1</td>\n",
       "      <td>Imports</td>\n",
       "      <td>124</td>\n",
       "      <td>Canada</td>\n",
       "      <td>...</td>\n",
       "      <td>Singapore</td>\n",
       "      <td>NaN</td>\n",
       "      <td>18</td>\n",
       "      <td>Cocoa and cocoa preparations</td>\n",
       "      <td>0</td>\n",
       "      <td>NaN</td>\n",
       "      <td>NaN</td>\n",
       "      <td>0.0</td>\n",
       "      <td>47840</td>\n",
       "      <td>0</td>\n",
       "    </tr>\n",
       "    <tr>\n",
       "      <th>...</th>\n",
       "      <td>...</td>\n",
       "      <td>...</td>\n",
       "      <td>...</td>\n",
       "      <td>...</td>\n",
       "      <td>...</td>\n",
       "      <td>...</td>\n",
       "      <td>...</td>\n",
       "      <td>...</td>\n",
       "      <td>...</td>\n",
       "      <td>...</td>\n",
       "      <td>...</td>\n",
       "      <td>...</td>\n",
       "      <td>...</td>\n",
       "      <td>...</td>\n",
       "      <td>...</td>\n",
       "      <td>...</td>\n",
       "      <td>...</td>\n",
       "      <td>...</td>\n",
       "      <td>...</td>\n",
       "      <td>...</td>\n",
       "      <td>...</td>\n",
       "    </tr>\n",
       "    <tr>\n",
       "      <th>227449</th>\n",
       "      <td>HS</td>\n",
       "      <td>2021</td>\n",
       "      <td>202102</td>\n",
       "      <td>February 2021</td>\n",
       "      <td>6</td>\n",
       "      <td>1</td>\n",
       "      <td>2</td>\n",
       "      <td>Exports</td>\n",
       "      <td>124</td>\n",
       "      <td>Canada</td>\n",
       "      <td>...</td>\n",
       "      <td>World</td>\n",
       "      <td>NaN</td>\n",
       "      <td>550952</td>\n",
       "      <td>Yarn; (not sewing thread), of polyester staple...</td>\n",
       "      <td>0</td>\n",
       "      <td>NaN</td>\n",
       "      <td>NaN</td>\n",
       "      <td>5406.0</td>\n",
       "      <td>34272</td>\n",
       "      <td>0</td>\n",
       "    </tr>\n",
       "    <tr>\n",
       "      <th>227450</th>\n",
       "      <td>HS</td>\n",
       "      <td>2021</td>\n",
       "      <td>202102</td>\n",
       "      <td>February 2021</td>\n",
       "      <td>6</td>\n",
       "      <td>1</td>\n",
       "      <td>2</td>\n",
       "      <td>Exports</td>\n",
       "      <td>124</td>\n",
       "      <td>Canada</td>\n",
       "      <td>...</td>\n",
       "      <td>World</td>\n",
       "      <td>NaN</td>\n",
       "      <td>550999</td>\n",
       "      <td>Yarn; (not sewing thread), of synthetic staple...</td>\n",
       "      <td>0</td>\n",
       "      <td>NaN</td>\n",
       "      <td>NaN</td>\n",
       "      <td>7345.0</td>\n",
       "      <td>228182</td>\n",
       "      <td>0</td>\n",
       "    </tr>\n",
       "    <tr>\n",
       "      <th>227451</th>\n",
       "      <td>HS</td>\n",
       "      <td>2021</td>\n",
       "      <td>202102</td>\n",
       "      <td>February 2021</td>\n",
       "      <td>6</td>\n",
       "      <td>1</td>\n",
       "      <td>2</td>\n",
       "      <td>Exports</td>\n",
       "      <td>124</td>\n",
       "      <td>Canada</td>\n",
       "      <td>...</td>\n",
       "      <td>World</td>\n",
       "      <td>NaN</td>\n",
       "      <td>550969</td>\n",
       "      <td>Yarn; (not sewing thread), of acrylic or modac...</td>\n",
       "      <td>0</td>\n",
       "      <td>NaN</td>\n",
       "      <td>NaN</td>\n",
       "      <td>1839.0</td>\n",
       "      <td>18812</td>\n",
       "      <td>0</td>\n",
       "    </tr>\n",
       "    <tr>\n",
       "      <th>227452</th>\n",
       "      <td>HS</td>\n",
       "      <td>2021</td>\n",
       "      <td>202102</td>\n",
       "      <td>February 2021</td>\n",
       "      <td>6</td>\n",
       "      <td>1</td>\n",
       "      <td>2</td>\n",
       "      <td>Exports</td>\n",
       "      <td>124</td>\n",
       "      <td>Canada</td>\n",
       "      <td>...</td>\n",
       "      <td>World</td>\n",
       "      <td>NaN</td>\n",
       "      <td>550962</td>\n",
       "      <td>Yarn; (not sewing thread), of acrylic or modac...</td>\n",
       "      <td>0</td>\n",
       "      <td>NaN</td>\n",
       "      <td>NaN</td>\n",
       "      <td>1437.0</td>\n",
       "      <td>23140</td>\n",
       "      <td>0</td>\n",
       "    </tr>\n",
       "    <tr>\n",
       "      <th>227453</th>\n",
       "      <td>HS</td>\n",
       "      <td>2021</td>\n",
       "      <td>202102</td>\n",
       "      <td>February 2021</td>\n",
       "      <td>6</td>\n",
       "      <td>1</td>\n",
       "      <td>2</td>\n",
       "      <td>Exports</td>\n",
       "      <td>124</td>\n",
       "      <td>Canada</td>\n",
       "      <td>...</td>\n",
       "      <td>World</td>\n",
       "      <td>NaN</td>\n",
       "      <td>550959</td>\n",
       "      <td>Yarn; (not sewing thread), of polyester staple...</td>\n",
       "      <td>0</td>\n",
       "      <td>NaN</td>\n",
       "      <td>NaN</td>\n",
       "      <td>5660.0</td>\n",
       "      <td>73652</td>\n",
       "      <td>0</td>\n",
       "    </tr>\n",
       "  </tbody>\n",
       "</table>\n",
       "<p>227454 rows × 22 columns</p>\n",
       "</div>"
      ],
      "text/plain": [
       "       Classification  Year  Period   Period Desc.  Aggregate Level  \\\n",
       "0                  HS  2021  202102  February 2021                4   \n",
       "1                  HS  2021  202102  February 2021                2   \n",
       "2                  HS  2021  202102  February 2021                2   \n",
       "3                  HS  2021  202102  February 2021                2   \n",
       "4                  HS  2021  202102  February 2021                2   \n",
       "...               ...   ...     ...            ...              ...   \n",
       "227449             HS  2021  202102  February 2021                6   \n",
       "227450             HS  2021  202102  February 2021                6   \n",
       "227451             HS  2021  202102  February 2021                6   \n",
       "227452             HS  2021  202102  February 2021                6   \n",
       "227453             HS  2021  202102  February 2021                6   \n",
       "\n",
       "        Is Leaf Code  Trade Flow Code Trade Flow  Reporter Code Reporter  ...  \\\n",
       "0                  0                1    Imports            124   Canada  ...   \n",
       "1                  0                1    Imports            124   Canada  ...   \n",
       "2                  0                1    Imports            124   Canada  ...   \n",
       "3                  0                1    Imports            124   Canada  ...   \n",
       "4                  0                1    Imports            124   Canada  ...   \n",
       "...              ...              ...        ...            ...      ...  ...   \n",
       "227449             1                2    Exports            124   Canada  ...   \n",
       "227450             1                2    Exports            124   Canada  ...   \n",
       "227451             1                2    Exports            124   Canada  ...   \n",
       "227452             1                2    Exports            124   Canada  ...   \n",
       "227453             1                2    Exports            124   Canada  ...   \n",
       "\n",
       "                        Partner  Partner ISO Commodity Code  \\\n",
       "0               Other Asia, nes          NaN           6117   \n",
       "1                         Egypt          NaN             18   \n",
       "2                United Kingdom          NaN             18   \n",
       "3       United Rep. of Tanzania          NaN             18   \n",
       "4                     Singapore          NaN             18   \n",
       "...                         ...          ...            ...   \n",
       "227449                    World          NaN         550952   \n",
       "227450                    World          NaN         550999   \n",
       "227451                    World          NaN         550969   \n",
       "227452                    World          NaN         550962   \n",
       "227453                    World          NaN         550959   \n",
       "\n",
       "                                                Commodity Qty Unit Code  \\\n",
       "0       Clothing accessories; made up, knitted or croc...             0   \n",
       "1                            Cocoa and cocoa preparations             0   \n",
       "2                            Cocoa and cocoa preparations             0   \n",
       "3                            Cocoa and cocoa preparations             0   \n",
       "4                            Cocoa and cocoa preparations             0   \n",
       "...                                                   ...           ...   \n",
       "227449  Yarn; (not sewing thread), of polyester staple...             0   \n",
       "227450  Yarn; (not sewing thread), of synthetic staple...             0   \n",
       "227451  Yarn; (not sewing thread), of acrylic or modac...             0   \n",
       "227452  Yarn; (not sewing thread), of acrylic or modac...             0   \n",
       "227453  Yarn; (not sewing thread), of polyester staple...             0   \n",
       "\n",
       "       Qty Unit  Qty  Netweight (kg)  Trade Value (US$)  Flag  \n",
       "0           NaN  NaN             NaN               9285     0  \n",
       "1           NaN  NaN             0.0             116604     0  \n",
       "2           NaN  NaN             0.0            1495175     0  \n",
       "3           NaN  NaN             0.0               2248     0  \n",
       "4           NaN  NaN             0.0              47840     0  \n",
       "...         ...  ...             ...                ...   ...  \n",
       "227449      NaN  NaN          5406.0              34272     0  \n",
       "227450      NaN  NaN          7345.0             228182     0  \n",
       "227451      NaN  NaN          1839.0              18812     0  \n",
       "227452      NaN  NaN          1437.0              23140     0  \n",
       "227453      NaN  NaN          5660.0              73652     0  \n",
       "\n",
       "[227454 rows x 22 columns]"
      ]
     },
     "execution_count": 21,
     "metadata": {},
     "output_type": "execute_result"
    }
   ],
   "source": [
    "df"
   ]
  },
  {
   "cell_type": "code",
   "execution_count": 22,
   "metadata": {
    "tags": []
   },
   "outputs": [],
   "source": [
    "ca_data = df[0:10]"
   ]
  },
  {
   "cell_type": "code",
   "execution_count": 23,
   "metadata": {
    "tags": []
   },
   "outputs": [],
   "source": [
    "mock_ca_data = df[10:20]"
   ]
  },
  {
   "cell_type": "code",
   "execution_count": 24,
   "metadata": {
    "tags": []
   },
   "outputs": [
    {
     "data": {
      "text/html": [
       "<div>\n",
       "<style scoped>\n",
       "    .dataframe tbody tr th:only-of-type {\n",
       "        vertical-align: middle;\n",
       "    }\n",
       "\n",
       "    .dataframe tbody tr th {\n",
       "        vertical-align: top;\n",
       "    }\n",
       "\n",
       "    .dataframe thead th {\n",
       "        text-align: right;\n",
       "    }\n",
       "</style>\n",
       "<table border=\"1\" class=\"dataframe\">\n",
       "  <thead>\n",
       "    <tr style=\"text-align: right;\">\n",
       "      <th></th>\n",
       "      <th>Classification</th>\n",
       "      <th>Year</th>\n",
       "      <th>Period</th>\n",
       "      <th>Period Desc.</th>\n",
       "      <th>Aggregate Level</th>\n",
       "      <th>Is Leaf Code</th>\n",
       "      <th>Trade Flow Code</th>\n",
       "      <th>Trade Flow</th>\n",
       "      <th>Reporter Code</th>\n",
       "      <th>Reporter</th>\n",
       "      <th>...</th>\n",
       "      <th>Partner</th>\n",
       "      <th>Partner ISO</th>\n",
       "      <th>Commodity Code</th>\n",
       "      <th>Commodity</th>\n",
       "      <th>Qty Unit Code</th>\n",
       "      <th>Qty Unit</th>\n",
       "      <th>Qty</th>\n",
       "      <th>Netweight (kg)</th>\n",
       "      <th>Trade Value (US$)</th>\n",
       "      <th>Flag</th>\n",
       "    </tr>\n",
       "  </thead>\n",
       "  <tbody>\n",
       "    <tr>\n",
       "      <th>0</th>\n",
       "      <td>HS</td>\n",
       "      <td>2021</td>\n",
       "      <td>202102</td>\n",
       "      <td>February 2021</td>\n",
       "      <td>4</td>\n",
       "      <td>0</td>\n",
       "      <td>1</td>\n",
       "      <td>Imports</td>\n",
       "      <td>124</td>\n",
       "      <td>Canada</td>\n",
       "      <td>...</td>\n",
       "      <td>Other Asia, nes</td>\n",
       "      <td>NaN</td>\n",
       "      <td>6117</td>\n",
       "      <td>Clothing accessories; made up, knitted or croc...</td>\n",
       "      <td>0</td>\n",
       "      <td>NaN</td>\n",
       "      <td>NaN</td>\n",
       "      <td>NaN</td>\n",
       "      <td>9285</td>\n",
       "      <td>0</td>\n",
       "    </tr>\n",
       "    <tr>\n",
       "      <th>1</th>\n",
       "      <td>HS</td>\n",
       "      <td>2021</td>\n",
       "      <td>202102</td>\n",
       "      <td>February 2021</td>\n",
       "      <td>2</td>\n",
       "      <td>0</td>\n",
       "      <td>1</td>\n",
       "      <td>Imports</td>\n",
       "      <td>124</td>\n",
       "      <td>Canada</td>\n",
       "      <td>...</td>\n",
       "      <td>Egypt</td>\n",
       "      <td>NaN</td>\n",
       "      <td>18</td>\n",
       "      <td>Cocoa and cocoa preparations</td>\n",
       "      <td>0</td>\n",
       "      <td>NaN</td>\n",
       "      <td>NaN</td>\n",
       "      <td>0.0</td>\n",
       "      <td>116604</td>\n",
       "      <td>0</td>\n",
       "    </tr>\n",
       "    <tr>\n",
       "      <th>2</th>\n",
       "      <td>HS</td>\n",
       "      <td>2021</td>\n",
       "      <td>202102</td>\n",
       "      <td>February 2021</td>\n",
       "      <td>2</td>\n",
       "      <td>0</td>\n",
       "      <td>1</td>\n",
       "      <td>Imports</td>\n",
       "      <td>124</td>\n",
       "      <td>Canada</td>\n",
       "      <td>...</td>\n",
       "      <td>United Kingdom</td>\n",
       "      <td>NaN</td>\n",
       "      <td>18</td>\n",
       "      <td>Cocoa and cocoa preparations</td>\n",
       "      <td>0</td>\n",
       "      <td>NaN</td>\n",
       "      <td>NaN</td>\n",
       "      <td>0.0</td>\n",
       "      <td>1495175</td>\n",
       "      <td>0</td>\n",
       "    </tr>\n",
       "    <tr>\n",
       "      <th>3</th>\n",
       "      <td>HS</td>\n",
       "      <td>2021</td>\n",
       "      <td>202102</td>\n",
       "      <td>February 2021</td>\n",
       "      <td>2</td>\n",
       "      <td>0</td>\n",
       "      <td>1</td>\n",
       "      <td>Imports</td>\n",
       "      <td>124</td>\n",
       "      <td>Canada</td>\n",
       "      <td>...</td>\n",
       "      <td>United Rep. of Tanzania</td>\n",
       "      <td>NaN</td>\n",
       "      <td>18</td>\n",
       "      <td>Cocoa and cocoa preparations</td>\n",
       "      <td>0</td>\n",
       "      <td>NaN</td>\n",
       "      <td>NaN</td>\n",
       "      <td>0.0</td>\n",
       "      <td>2248</td>\n",
       "      <td>0</td>\n",
       "    </tr>\n",
       "    <tr>\n",
       "      <th>4</th>\n",
       "      <td>HS</td>\n",
       "      <td>2021</td>\n",
       "      <td>202102</td>\n",
       "      <td>February 2021</td>\n",
       "      <td>2</td>\n",
       "      <td>0</td>\n",
       "      <td>1</td>\n",
       "      <td>Imports</td>\n",
       "      <td>124</td>\n",
       "      <td>Canada</td>\n",
       "      <td>...</td>\n",
       "      <td>Singapore</td>\n",
       "      <td>NaN</td>\n",
       "      <td>18</td>\n",
       "      <td>Cocoa and cocoa preparations</td>\n",
       "      <td>0</td>\n",
       "      <td>NaN</td>\n",
       "      <td>NaN</td>\n",
       "      <td>0.0</td>\n",
       "      <td>47840</td>\n",
       "      <td>0</td>\n",
       "    </tr>\n",
       "    <tr>\n",
       "      <th>5</th>\n",
       "      <td>HS</td>\n",
       "      <td>2021</td>\n",
       "      <td>202102</td>\n",
       "      <td>February 2021</td>\n",
       "      <td>2</td>\n",
       "      <td>0</td>\n",
       "      <td>1</td>\n",
       "      <td>Imports</td>\n",
       "      <td>124</td>\n",
       "      <td>Canada</td>\n",
       "      <td>...</td>\n",
       "      <td>Viet Nam</td>\n",
       "      <td>NaN</td>\n",
       "      <td>18</td>\n",
       "      <td>Cocoa and cocoa preparations</td>\n",
       "      <td>0</td>\n",
       "      <td>NaN</td>\n",
       "      <td>NaN</td>\n",
       "      <td>0.0</td>\n",
       "      <td>3526</td>\n",
       "      <td>0</td>\n",
       "    </tr>\n",
       "    <tr>\n",
       "      <th>6</th>\n",
       "      <td>HS</td>\n",
       "      <td>2021</td>\n",
       "      <td>202102</td>\n",
       "      <td>February 2021</td>\n",
       "      <td>2</td>\n",
       "      <td>0</td>\n",
       "      <td>1</td>\n",
       "      <td>Imports</td>\n",
       "      <td>124</td>\n",
       "      <td>Canada</td>\n",
       "      <td>...</td>\n",
       "      <td>South Africa</td>\n",
       "      <td>NaN</td>\n",
       "      <td>18</td>\n",
       "      <td>Cocoa and cocoa preparations</td>\n",
       "      <td>0</td>\n",
       "      <td>NaN</td>\n",
       "      <td>NaN</td>\n",
       "      <td>0.0</td>\n",
       "      <td>5462</td>\n",
       "      <td>0</td>\n",
       "    </tr>\n",
       "    <tr>\n",
       "      <th>7</th>\n",
       "      <td>HS</td>\n",
       "      <td>2021</td>\n",
       "      <td>202102</td>\n",
       "      <td>February 2021</td>\n",
       "      <td>2</td>\n",
       "      <td>0</td>\n",
       "      <td>1</td>\n",
       "      <td>Imports</td>\n",
       "      <td>124</td>\n",
       "      <td>Canada</td>\n",
       "      <td>...</td>\n",
       "      <td>Spain</td>\n",
       "      <td>NaN</td>\n",
       "      <td>18</td>\n",
       "      <td>Cocoa and cocoa preparations</td>\n",
       "      <td>0</td>\n",
       "      <td>NaN</td>\n",
       "      <td>NaN</td>\n",
       "      <td>0.0</td>\n",
       "      <td>311425</td>\n",
       "      <td>0</td>\n",
       "    </tr>\n",
       "    <tr>\n",
       "      <th>8</th>\n",
       "      <td>HS</td>\n",
       "      <td>2021</td>\n",
       "      <td>202102</td>\n",
       "      <td>February 2021</td>\n",
       "      <td>2</td>\n",
       "      <td>0</td>\n",
       "      <td>1</td>\n",
       "      <td>Imports</td>\n",
       "      <td>124</td>\n",
       "      <td>Canada</td>\n",
       "      <td>...</td>\n",
       "      <td>Sweden</td>\n",
       "      <td>NaN</td>\n",
       "      <td>18</td>\n",
       "      <td>Cocoa and cocoa preparations</td>\n",
       "      <td>0</td>\n",
       "      <td>NaN</td>\n",
       "      <td>NaN</td>\n",
       "      <td>0.0</td>\n",
       "      <td>11786</td>\n",
       "      <td>0</td>\n",
       "    </tr>\n",
       "    <tr>\n",
       "      <th>9</th>\n",
       "      <td>HS</td>\n",
       "      <td>2021</td>\n",
       "      <td>202102</td>\n",
       "      <td>February 2021</td>\n",
       "      <td>2</td>\n",
       "      <td>0</td>\n",
       "      <td>1</td>\n",
       "      <td>Imports</td>\n",
       "      <td>124</td>\n",
       "      <td>Canada</td>\n",
       "      <td>...</td>\n",
       "      <td>Venezuela</td>\n",
       "      <td>NaN</td>\n",
       "      <td>18</td>\n",
       "      <td>Cocoa and cocoa preparations</td>\n",
       "      <td>0</td>\n",
       "      <td>NaN</td>\n",
       "      <td>NaN</td>\n",
       "      <td>0.0</td>\n",
       "      <td>33715</td>\n",
       "      <td>0</td>\n",
       "    </tr>\n",
       "  </tbody>\n",
       "</table>\n",
       "<p>10 rows × 22 columns</p>\n",
       "</div>"
      ],
      "text/plain": [
       "  Classification  Year  Period   Period Desc.  Aggregate Level  Is Leaf Code  \\\n",
       "0             HS  2021  202102  February 2021                4             0   \n",
       "1             HS  2021  202102  February 2021                2             0   \n",
       "2             HS  2021  202102  February 2021                2             0   \n",
       "3             HS  2021  202102  February 2021                2             0   \n",
       "4             HS  2021  202102  February 2021                2             0   \n",
       "5             HS  2021  202102  February 2021                2             0   \n",
       "6             HS  2021  202102  February 2021                2             0   \n",
       "7             HS  2021  202102  February 2021                2             0   \n",
       "8             HS  2021  202102  February 2021                2             0   \n",
       "9             HS  2021  202102  February 2021                2             0   \n",
       "\n",
       "   Trade Flow Code Trade Flow  Reporter Code Reporter  ...  \\\n",
       "0                1    Imports            124   Canada  ...   \n",
       "1                1    Imports            124   Canada  ...   \n",
       "2                1    Imports            124   Canada  ...   \n",
       "3                1    Imports            124   Canada  ...   \n",
       "4                1    Imports            124   Canada  ...   \n",
       "5                1    Imports            124   Canada  ...   \n",
       "6                1    Imports            124   Canada  ...   \n",
       "7                1    Imports            124   Canada  ...   \n",
       "8                1    Imports            124   Canada  ...   \n",
       "9                1    Imports            124   Canada  ...   \n",
       "\n",
       "                   Partner  Partner ISO Commodity Code  \\\n",
       "0          Other Asia, nes          NaN           6117   \n",
       "1                    Egypt          NaN             18   \n",
       "2           United Kingdom          NaN             18   \n",
       "3  United Rep. of Tanzania          NaN             18   \n",
       "4                Singapore          NaN             18   \n",
       "5                 Viet Nam          NaN             18   \n",
       "6             South Africa          NaN             18   \n",
       "7                    Spain          NaN             18   \n",
       "8                   Sweden          NaN             18   \n",
       "9                Venezuela          NaN             18   \n",
       "\n",
       "                                           Commodity Qty Unit Code Qty Unit  \\\n",
       "0  Clothing accessories; made up, knitted or croc...             0      NaN   \n",
       "1                       Cocoa and cocoa preparations             0      NaN   \n",
       "2                       Cocoa and cocoa preparations             0      NaN   \n",
       "3                       Cocoa and cocoa preparations             0      NaN   \n",
       "4                       Cocoa and cocoa preparations             0      NaN   \n",
       "5                       Cocoa and cocoa preparations             0      NaN   \n",
       "6                       Cocoa and cocoa preparations             0      NaN   \n",
       "7                       Cocoa and cocoa preparations             0      NaN   \n",
       "8                       Cocoa and cocoa preparations             0      NaN   \n",
       "9                       Cocoa and cocoa preparations             0      NaN   \n",
       "\n",
       "   Qty  Netweight (kg)  Trade Value (US$)  Flag  \n",
       "0  NaN             NaN               9285     0  \n",
       "1  NaN             0.0             116604     0  \n",
       "2  NaN             0.0            1495175     0  \n",
       "3  NaN             0.0               2248     0  \n",
       "4  NaN             0.0              47840     0  \n",
       "5  NaN             0.0               3526     0  \n",
       "6  NaN             0.0               5462     0  \n",
       "7  NaN             0.0             311425     0  \n",
       "8  NaN             0.0              11786     0  \n",
       "9  NaN             0.0              33715     0  \n",
       "\n",
       "[10 rows x 22 columns]"
      ]
     },
     "execution_count": 24,
     "metadata": {},
     "output_type": "execute_result"
    }
   ],
   "source": [
    "ca_data"
   ]
  },
  {
   "cell_type": "code",
   "execution_count": 25,
   "metadata": {
    "tags": []
   },
   "outputs": [],
   "source": [
    "dataset = sy.Dataset(name=\"Canada Trade Value\")"
   ]
  },
  {
   "cell_type": "code",
   "execution_count": 26,
   "metadata": {
    "tags": []
   },
   "outputs": [],
   "source": [
    "dataset.set_description(\"\"\"Canada Trade Data\"\"\")"
   ]
  },
  {
   "cell_type": "code",
   "execution_count": 27,
   "metadata": {
    "tags": []
   },
   "outputs": [],
   "source": [
    "dataset.add_citation(\"Person, place or thing\")\n",
    "dataset.add_url(\"https://github.com/OpenMined/datasets/tree/main/trade_flow\")"
   ]
  },
  {
   "cell_type": "code",
   "execution_count": 28,
   "metadata": {
    "tags": []
   },
   "outputs": [],
   "source": [
    "dataset.add_contributor(role=sy.roles.UPLOADER, \n",
    "                                name=\"Andrew Trask\", \n",
    "                                email=\"andrew@openmined.org\",\n",
    "                                note=\"Andrew runs this domain and prepared the dataset metadata.\")\n",
    "\n",
    "dataset.add_contributor(role=sy.roles.EDITOR, \n",
    "                                name=\"Madhava Jay\", \n",
    "                                email=\"madhava@openmined.org\",\n",
    "                                note=\"Madhava tweaked the description to add the URL because Andrew forgot.\")"
   ]
  },
  {
   "cell_type": "code",
   "execution_count": 29,
   "metadata": {
    "tags": []
   },
   "outputs": [
    {
     "data": {
      "text/html": [
       "List - Size: 2\n",
       "<div>\n",
       "<style scoped>\n",
       "    .dataframe tbody tr th:only-of-type {\n",
       "        vertical-align: middle;\n",
       "    }\n",
       "\n",
       "    .dataframe tbody tr th {\n",
       "        vertical-align: top;\n",
       "    }\n",
       "\n",
       "    .dataframe thead th {\n",
       "        text-align: right;\n",
       "    }\n",
       "</style>\n",
       "<table border=\"1\" class=\"dataframe\">\n",
       "  <thead>\n",
       "    <tr style=\"text-align: right;\">\n",
       "      <th></th>\n",
       "      <th>type</th>\n",
       "      <th>id</th>\n",
       "      <th>name</th>\n",
       "      <th>role</th>\n",
       "      <th>email</th>\n",
       "    </tr>\n",
       "  </thead>\n",
       "  <tbody>\n",
       "    <tr>\n",
       "      <th>0</th>\n",
       "      <td>syft.service.dataset.dataset.Contributor</td>\n",
       "      <td>b2c3edded4b44700a82a6a82eaf1554b</td>\n",
       "      <td>Andrew Trask</td>\n",
       "      <td>Uploader</td>\n",
       "      <td>andrew@openmined.org</td>\n",
       "    </tr>\n",
       "    <tr>\n",
       "      <th>1</th>\n",
       "      <td>syft.service.dataset.dataset.Contributor</td>\n",
       "      <td>a48d653578044db790964193c9630c07</td>\n",
       "      <td>Madhava Jay</td>\n",
       "      <td>Editor</td>\n",
       "      <td>madhava@openmined.org</td>\n",
       "    </tr>\n",
       "  </tbody>\n",
       "</table>\n",
       "</div>"
      ],
      "text/plain": [
       "[syft.service.dataset.dataset.Contributor,\n",
       " syft.service.dataset.dataset.Contributor]"
      ]
     },
     "execution_count": 29,
     "metadata": {},
     "output_type": "execute_result"
    }
   ],
   "source": [
    "dataset.contributors"
   ]
  },
  {
   "cell_type": "code",
   "execution_count": 30,
   "metadata": {
    "tags": []
   },
   "outputs": [],
   "source": [
    "assert len(dataset.contributors) == 2"
   ]
  },
  {
   "cell_type": "code",
   "execution_count": 31,
   "metadata": {
    "tags": []
   },
   "outputs": [],
   "source": [
    "ctf = sy.Asset(name=\"canada_trade_flow\")\n",
    "ctf.set_description(\"\"\"all the datas\"\"\")"
   ]
  },
  {
   "cell_type": "code",
   "execution_count": 32,
   "metadata": {
    "tags": []
   },
   "outputs": [],
   "source": [
    "ctf.add_contributor(role=sy.roles.UPLOADER, \n",
    "                      name=\"Andrew Trask\", \n",
    "                      email=\"andrew@openmined.org\",\n",
    "                      note=\"Andrew runs this domain and prepared the asset.\")"
   ]
  },
  {
   "cell_type": "code",
   "execution_count": 33,
   "metadata": {
    "tags": []
   },
   "outputs": [],
   "source": [
    "ctf.set_obj(ca_data)"
   ]
  },
  {
   "cell_type": "code",
   "execution_count": 34,
   "metadata": {
    "tags": []
   },
   "outputs": [],
   "source": [
    "ctf.set_shape((10, 22))"
   ]
  },
  {
   "cell_type": "code",
   "execution_count": 35,
   "metadata": {
    "tags": []
   },
   "outputs": [],
   "source": [
    "ctf.add_data_subject(canada)"
   ]
  },
  {
   "cell_type": "code",
   "execution_count": 36,
   "metadata": {
    "tags": []
   },
   "outputs": [],
   "source": [
    "dataset.add_asset(ctf)"
   ]
  },
  {
   "cell_type": "code",
   "execution_count": 37,
   "metadata": {
    "tags": []
   },
   "outputs": [],
   "source": [
    "dataset.remove_asset(name=ctf.name)"
   ]
  },
  {
   "cell_type": "code",
   "execution_count": 38,
   "metadata": {
    "tags": []
   },
   "outputs": [],
   "source": [
    "ctf.set_mock(mock_ca_data, mock_is_real=False)"
   ]
  },
  {
   "cell_type": "code",
   "execution_count": 39,
   "metadata": {
    "tags": []
   },
   "outputs": [],
   "source": [
    "dataset.add_asset(ctf)"
   ]
  },
  {
   "cell_type": "code",
   "execution_count": 40,
   "metadata": {
    "tags": []
   },
   "outputs": [
    {
     "name": "stderr",
     "output_type": "stream",
     "text": [
      "100%|██████████| 1/1 [00:00<00:00,  5.38it/s]\n"
     ]
    },
    {
     "name": "stdout",
     "output_type": "stream",
     "text": [
      "Uploading: canada_trade_flow\n"
     ]
    },
    {
     "data": {
      "text/html": [
       "<div class=\"alert-success\" style=\"padding:5px;\"><strong>SyftSuccess</strong>: Dataset Added</div><br />"
      ],
      "text/plain": [
       "<class 'syft.service.response.SyftSuccess'>: Dataset Added"
      ]
     },
     "execution_count": 40,
     "metadata": {},
     "output_type": "execute_result"
    }
   ],
   "source": [
    "domain_client.upload_dataset(dataset)"
   ]
  },
  {
   "cell_type": "code",
   "execution_count": 41,
   "metadata": {
    "tags": []
   },
   "outputs": [],
   "source": [
    "datasets = domain_client.api.services.dataset.get_all()"
   ]
  },
  {
   "cell_type": "code",
   "execution_count": 42,
   "metadata": {
    "tags": []
   },
   "outputs": [],
   "source": [
    "assert len(datasets) == 1"
   ]
  },
  {
   "cell_type": "code",
   "execution_count": 43,
   "metadata": {
    "tags": []
   },
   "outputs": [
    {
     "data": {
      "text/html": [
       "List - Size: 1\n",
       "<div>\n",
       "<style scoped>\n",
       "    .dataframe tbody tr th:only-of-type {\n",
       "        vertical-align: middle;\n",
       "    }\n",
       "\n",
       "    .dataframe tbody tr th {\n",
       "        vertical-align: top;\n",
       "    }\n",
       "\n",
       "    .dataframe thead th {\n",
       "        text-align: right;\n",
       "    }\n",
       "</style>\n",
       "<table border=\"1\" class=\"dataframe\">\n",
       "  <thead>\n",
       "    <tr style=\"text-align: right;\">\n",
       "      <th></th>\n",
       "      <th>type</th>\n",
       "      <th>id</th>\n",
       "      <th>name</th>\n",
       "      <th>url</th>\n",
       "    </tr>\n",
       "  </thead>\n",
       "  <tbody>\n",
       "    <tr>\n",
       "      <th>0</th>\n",
       "      <td>syft.service.dataset.dataset.Dataset</td>\n",
       "      <td>5e71a74b3a974364aa6465f827316748</td>\n",
       "      <td>Canada Trade Value</td>\n",
       "      <td>https://github.com/OpenMined/datasets/tree/mai...</td>\n",
       "    </tr>\n",
       "  </tbody>\n",
       "</table>\n",
       "</div>"
      ],
      "text/plain": [
       "[syft.service.dataset.dataset.Dataset]"
      ]
     },
     "execution_count": 43,
     "metadata": {},
     "output_type": "execute_result"
    }
   ],
   "source": [
    "datasets"
   ]
  },
  {
   "cell_type": "code",
   "execution_count": 44,
   "metadata": {
    "tags": []
   },
   "outputs": [],
   "source": [
    "mock = domain_client.datasets[0].assets[0].mock"
   ]
  },
  {
   "cell_type": "code",
   "execution_count": 45,
   "metadata": {
    "tags": []
   },
   "outputs": [],
   "source": [
    "assert mock_ca_data.equals(mock.syft_action_data)"
   ]
  },
  {
   "cell_type": "code",
   "execution_count": 46,
   "metadata": {
    "tags": []
   },
   "outputs": [],
   "source": [
    "real = domain_client.datasets[0].assets[0].data"
   ]
  },
  {
   "cell_type": "code",
   "execution_count": 47,
   "metadata": {
    "tags": []
   },
   "outputs": [],
   "source": [
    "assert ca_data.equals(real.syft_action_data)"
   ]
  },
  {
   "cell_type": "code",
   "execution_count": 48,
   "metadata": {
    "tags": []
   },
   "outputs": [
    {
     "name": "stdout",
     "output_type": "stream",
     "text": [
      "Stopping test-domain-1\n"
     ]
    }
   ],
   "source": [
    "if node.node_type.value == \"python\":\n",
    "    node.land()"
   ]
  }
 ],
 "metadata": {
  "kernelspec": {
   "display_name": "Python 3 (ipykernel)",
   "language": "python",
   "name": "python3"
  },
  "language_info": {
   "codemirror_mode": {
    "name": "ipython",
    "version": 3
   },
   "file_extension": ".py",
   "mimetype": "text/x-python",
   "name": "python",
   "nbconvert_exporter": "python",
   "pygments_lexer": "ipython3",
   "version": "3.10.4"
  }
 },
 "nbformat": 4,
 "nbformat_minor": 4
}
