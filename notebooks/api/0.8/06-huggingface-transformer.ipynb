{
 "cells": [
  {
   "cell_type": "code",
   "execution_count": null,
   "id": "f10c563c-d071-4663-be8e-236cefff9b4f",
   "metadata": {},
   "outputs": [],
   "source": [
    "# import os\n",
    "# print(os.environ.get(\"TRANSFORMERS_OFFLINE\", 0))\n",
    "# os.environ[\"TRANSFORMERS_OFFLINE\"] = \"1\"\n",
    "# print(os.environ.get(\"TRANSFORMERS_OFFLINE\", None))"
   ]
  },
  {
   "cell_type": "code",
   "execution_count": null,
   "id": "3467894d-5380-4a18-99a1-57f00eb594b8",
   "metadata": {},
   "outputs": [],
   "source": [
    "!pip install huggingface_hub -q"
   ]
  },
  {
   "cell_type": "code",
   "execution_count": null,
   "id": "8f4e649b-1d2f-4fa1-8a28-19abed6435c4",
   "metadata": {},
   "outputs": [],
   "source": [
    "SYFT_VERSION = \">=0.8.1b0,<0.9\"\n",
    "package_string = f'\"syft{SYFT_VERSION}\"'\n",
    "!pip install {package_string} -f https://whls.blob.core.windows.net/unstable/index.html -q"
   ]
  },
  {
   "cell_type": "code",
   "execution_count": null,
   "id": "c046229a-0300-48df-8e9e-10c503430776",
   "metadata": {},
   "outputs": [],
   "source": [
    "import syft as sy\n",
    "sy.requires(SYFT_VERSION)"
   ]
  },
  {
   "cell_type": "code",
   "execution_count": null,
   "id": "35391233-d65e-4495-93a6-82949c25f246",
   "metadata": {},
   "outputs": [],
   "source": [
    "node = sy.orchestra.launch(name=\"test-domain-hf\", port=\"auto\", dev_mode=True, reset=True)"
   ]
  },
  {
   "cell_type": "code",
   "execution_count": null,
   "id": "09192bc1-d82c-450a-b4d7-46d8721c9c77",
   "metadata": {},
   "outputs": [],
   "source": [
    "domain_client = node.login(email=\"info@openmined.org\", password=\"changethis\")"
   ]
  },
  {
   "cell_type": "markdown",
   "id": "bcafce60-2017-4e6f-890f-735fff780733",
   "metadata": {},
   "source": [
    "## Download an existing Hugging Face 🤗 Model "
   ]
  },
  {
   "cell_type": "code",
   "execution_count": null,
   "id": "486862cb-0cc4-40ce-bea2-fae122b1ef62",
   "metadata": {},
   "outputs": [],
   "source": [
    "def download_hf_to_folder(repo_id: str, folder: str, library_name = None, overwrite: bool = False):\n",
    "    library_patterns = {\n",
    "        \"pytorch\": [\"*.pt\", \"*.bin\"],\n",
    "        \"jax\": [\"*.msgpack\"],\n",
    "    }\n",
    "    from huggingface_hub import snapshot_download\n",
    "    add_extensions = []\n",
    "    remove_extensions = []\n",
    "    for lib, ext in library_patterns.items():\n",
    "        if lib == library_name or library_name is None:\n",
    "            add_extensions += ext\n",
    "        else:\n",
    "            remove_extensions += ext\n",
    "    ignore = remove_extensions + [\"*.h5\", \"*.ot\", \"*.tflite\", \"*.safetensors\", \"*.gitattributes\", \"*.md\"]\n",
    "    allow = add_extensions + [\"*.json\", \"*.txt\"]\n",
    "    snapshot_download(\n",
    "        repo_id=repo_id,\n",
    "        local_dir=folder,\n",
    "        library_name=library_name,\n",
    "        ignore_patterns=ignore,\n",
    "        allow_patterns=allow,\n",
    "        force_download=overwrite,\n",
    "    )"
   ]
  },
  {
   "cell_type": "code",
   "execution_count": null,
   "id": "6426929f-7aa2-47e3-bbb0-77fb6a9c7af9",
   "metadata": {},
   "outputs": [],
   "source": [
    "# this is the path we will use for our model which can be any huggingface model\n",
    "transformer_files_path = \"./gpt2\""
   ]
  },
  {
   "cell_type": "code",
   "execution_count": null,
   "id": "139810a5-4ebf-483c-82b7-34194c35ac61",
   "metadata": {},
   "outputs": [],
   "source": [
    "# download a huggingface model"
   ]
  },
  {
   "cell_type": "code",
   "execution_count": null,
   "id": "7d7ca0b6-9e1f-4026-89ca-e32ffb449ec8",
   "metadata": {},
   "outputs": [],
   "source": [
    "download_hf_to_folder(\"gpt2\", transformer_files_path, library_name=\"pytorch\", overwrite=False)"
   ]
  },
  {
   "cell_type": "code",
   "execution_count": null,
   "id": "df39f8af-0c63-4768-9cac-ccdeaa35eead",
   "metadata": {},
   "outputs": [],
   "source": [
    "# or simply place your own files in the folder in the correct format"
   ]
  },
  {
   "cell_type": "code",
   "execution_count": null,
   "id": "23bb4662-b18e-47be-9b88-5b061c17a851",
   "metadata": {},
   "outputs": [],
   "source": [
    "import os\n",
    "os.listdir(transformer_files_path)"
   ]
  },
  {
   "cell_type": "markdown",
   "id": "97286adc-cec7-4175-9d1f-512086bb2aaf",
   "metadata": {},
   "source": [
    "## Create a sy.HuggingFaceTransformerModel 🤗"
   ]
  },
  {
   "cell_type": "code",
   "execution_count": null,
   "id": "c0d43fd2-7b53-43f7-bf24-de51092c520f",
   "metadata": {},
   "outputs": [],
   "source": [
    "# give our HuggingFaceTransformerModel class the path to the files and a name"
   ]
  },
  {
   "cell_type": "code",
   "execution_count": null,
   "id": "c2e48cd4-2343-4470-8f71-bca77b88d912",
   "metadata": {},
   "outputs": [],
   "source": [
    "hf_model = sy.HuggingFaceTransformerModel.from_dir(\n",
    "    name=\"gpt2\",\n",
    "    path=transformer_files_path)\n",
    "hf_model"
   ]
  },
  {
   "cell_type": "code",
   "execution_count": null,
   "id": "f73d9f12-4a39-4c39-8128-871806c0448b",
   "metadata": {},
   "outputs": [],
   "source": [
    "hf_model.files"
   ]
  },
  {
   "cell_type": "code",
   "execution_count": null,
   "id": "fe99a3cb-182d-44a0-96e3-7c7e92f37e88",
   "metadata": {},
   "outputs": [],
   "source": [
    "hf_model.size_mb"
   ]
  },
  {
   "cell_type": "code",
   "execution_count": null,
   "id": "43005f2d-a149-4222-ae3c-1a7965850c59",
   "metadata": {},
   "outputs": [],
   "source": [
    "# convert to an ActionObject"
   ]
  },
  {
   "cell_type": "code",
   "execution_count": null,
   "id": "8c7d45bf-15a2-44dc-b13d-75d16e184157",
   "metadata": {},
   "outputs": [],
   "source": [
    "a_model = sy.ActionObject.from_obj(hf_model)\n",
    "a_model"
   ]
  },
  {
   "cell_type": "code",
   "execution_count": null,
   "id": "13861465-d5c4-4fbf-9f9b-c21cf6adbd1e",
   "metadata": {},
   "outputs": [],
   "source": [
    "# upload it"
   ]
  },
  {
   "cell_type": "code",
   "execution_count": null,
   "id": "eca26e3d-78ad-4e81-b5a0-ffd48635a72d",
   "metadata": {},
   "outputs": [],
   "source": [
    "model_files_ptr = domain_client.api.services.action.set(a_model)\n",
    "model_files_ptr"
   ]
  },
  {
   "cell_type": "markdown",
   "id": "01c88b33-a6d4-44e6-8989-bd8e242cb78f",
   "metadata": {},
   "source": [
    "## Data Scientist can define a function"
   ]
  },
  {
   "cell_type": "code",
   "execution_count": null,
   "id": "57019a88-0662-441c-a126-a817d53bbdac",
   "metadata": {},
   "outputs": [],
   "source": [
    "@sy.syft_function(input_policy=sy.ExactMatch(model_files=model_files_ptr),\n",
    "                  output_policy=sy.SingleExecutionExactOutput())\n",
    "def eval_model(model_files, prompts):\n",
    "    # unpack the model\n",
    "    folder = model_files.model_folder\n",
    "\n",
    "    from transformers import pipeline, AutoTokenizer\n",
    "\n",
    "    text_generation = pipeline(\"text-generation\", model=folder)\n",
    "    tokenizer = AutoTokenizer.from_pretrained(folder)\n",
    "\n",
    "    model_continuations=[]\n",
    "    for prompt in prompts:\n",
    "      generation = text_generation(prompt, max_length=50, do_sample=False, pad_token_id=50256)\n",
    "      continuation = generation[0]['generated_text'].replace(prompt,'')\n",
    "      model_continuations.append(continuation)\n",
    "\n",
    "    return model_continuations"
   ]
  },
  {
   "cell_type": "code",
   "execution_count": null,
   "id": "c38d494e-443e-428a-853f-7d169bc8e45b",
   "metadata": {},
   "outputs": [],
   "source": [
    "# test it locally"
   ]
  },
  {
   "cell_type": "code",
   "execution_count": null,
   "id": "e8563d9a-811a-40a3-b3ee-accbd3fc6b54",
   "metadata": {},
   "outputs": [],
   "source": [
    "from datasets import load_dataset\n",
    "toxicity_prompts = load_dataset(\"allenai/real-toxicity-prompts\", split=\"train\")"
   ]
  },
  {
   "cell_type": "code",
   "execution_count": null,
   "id": "22f5291c-12ac-45e5-b81b-0e61f98a8e0f",
   "metadata": {},
   "outputs": [],
   "source": [
    "toxicity_prompts[10]['prompt']"
   ]
  },
  {
   "cell_type": "code",
   "execution_count": null,
   "id": "1fdff5f4-ca86-4ab3-971f-1e7817433f50",
   "metadata": {},
   "outputs": [],
   "source": [
    "def get_random_prompts(dataset, num_examples=100):\n",
    "    assert num_examples <= len(dataset), \"Can't pick more elements than there are in the dataset.\"\n",
    "    picks = []\n",
    "    for _ in range(num_examples):\n",
    "        pick = random.randint(0, len(dataset)-1)\n",
    "        while pick in picks:\n",
    "            pick = random.randint(0, len(dataset)-1)\n",
    "        picks.append(pick)\n",
    "    return(dataset[picks])"
   ]
  },
  {
   "cell_type": "code",
   "execution_count": null,
   "id": "e26568e7-c62a-4d1b-af32-edb1af87614d",
   "metadata": {},
   "outputs": [],
   "source": [
    "import random\n",
    "\n",
    "toxic_sample = get_random_prompts(toxicity_prompts, 2)\n",
    "toxic_prompts = [p['text'] for p in toxic_sample['prompt']]\n",
    "print(toxic_prompts)"
   ]
  },
  {
   "cell_type": "code",
   "execution_count": null,
   "id": "783389c3-1c0b-4ffb-9bf0-f1b94f685efd",
   "metadata": {},
   "outputs": [],
   "source": [
    "a_model"
   ]
  },
  {
   "cell_type": "code",
   "execution_count": null,
   "id": "7cc4b4e4-246a-4511-b4f9-5bdfa61f9a4e",
   "metadata": {},
   "outputs": [],
   "source": [
    "result = eval_model(model_files=a_model, prompts=toxic_prompts)\n",
    "result"
   ]
  },
  {
   "cell_type": "code",
   "execution_count": null,
   "id": "60b61ce4-c117-4ea8-be19-e29616aa8b74",
   "metadata": {},
   "outputs": [],
   "source": [
    "list(zip(toxic_prompts, result))"
   ]
  },
  {
   "cell_type": "code",
   "execution_count": null,
   "id": "a495d1c2-e8de-40a8-a028-63aacbbc662f",
   "metadata": {},
   "outputs": [],
   "source": [
    "for both in zip(toxic_prompts, result):\n",
    "    print(f\"Prompt: {both[0]}\\nModel: {both[1]}\\n\")"
   ]
  },
  {
   "cell_type": "code",
   "execution_count": null,
   "id": "20d5ce56-e445-44b8-b55a-969dc4d0f4b3",
   "metadata": {},
   "outputs": [],
   "source": [
    "node.land()"
   ]
  },
  {
   "cell_type": "code",
   "execution_count": null,
   "id": "194b4c6f-5d6e-4e2f-8fba-109ea217cde5",
   "metadata": {},
   "outputs": [],
   "source": []
  }
 ],
 "metadata": {
  "kernelspec": {
   "display_name": "Python 3 (ipykernel)",
   "language": "python",
   "name": "python3"
  },
  "language_info": {
   "codemirror_mode": {
    "name": "ipython",
    "version": 3
   },
   "file_extension": ".py",
   "mimetype": "text/x-python",
   "name": "python",
   "nbconvert_exporter": "python",
   "pygments_lexer": "ipython3",
   "version": "3.10.9"
  }
 },
 "nbformat": 4,
 "nbformat_minor": 5
}
