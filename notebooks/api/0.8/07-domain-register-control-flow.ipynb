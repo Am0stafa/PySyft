{
 "cells": [
  {
   "attachments": {},
   "cell_type": "markdown",
   "id": "c7d1a583-85ee-4c8f-9af4-9497c44ac1a2",
   "metadata": {},
   "source": [
    "# Registering Users in Syft Domain Server\n",
    "\n",
    "By default users are not allowed to create a new account on the Syft Domain Server. This notebook is a tutorial for Data Owners to enable guest signups on their deployments."
   ]
  },
  {
   "attachments": {},
   "cell_type": "markdown",
   "id": "e7b460a7-ba89-4ff1-bc79-621ec0887136",
   "metadata": {},
   "source": [
    "### Import packages"
   ]
  },
  {
   "cell_type": "code",
   "execution_count": null,
   "id": "e470bef1-d85b-4c3f-81ba-0e679c317553",
   "metadata": {},
   "outputs": [],
   "source": [
    "SYFT_VERSION = \">=0.8.1b0,<0.9\"\n",
    "package_string = f'\"syft{SYFT_VERSION}\"'\n",
    "%pip install {package_string} -f https://whls.blob.core.windows.net/unstable/index.html -q"
   ]
  },
  {
   "cell_type": "code",
   "execution_count": null,
   "id": "40b28fe7",
   "metadata": {},
   "outputs": [],
   "source": [
    "import syft as sy\n",
    "sy.requires(SYFT_VERSION)"
   ]
  },
  {
   "attachments": {},
   "cell_type": "markdown",
   "id": "df631287-2340-492c-bd72-70be520c1670",
   "metadata": {},
   "source": [
    "### Launch a Syft Domain Server"
   ]
  },
  {
   "cell_type": "code",
   "execution_count": null,
   "id": "df3108c1",
   "metadata": {},
   "outputs": [],
   "source": [
    "# Launch a fresh domain server named \"test-domain-registration\" in dev mode on the local machine\n",
    "node = sy.orchestra.launch(name=\"test-domain-registration\", port=\"auto\", dev_mode=True, reset=True)"
   ]
  },
  {
   "cell_type": "code",
   "execution_count": null,
   "id": "6fe4a9bf",
   "metadata": {},
   "outputs": [],
   "source": [
    "# log into the node with default root credentials\n",
    "root_client = node.login(email=\"info@openmined.org\", password=\"changethis\")"
   ]
  },
  {
   "attachments": {},
   "cell_type": "markdown",
   "id": "a218fc23",
   "metadata": {},
   "source": [
    "#### By default registration is disabled. Only `root_client` can register"
   ]
  },
  {
   "cell_type": "code",
   "execution_count": null,
   "id": "09fbc45c",
   "metadata": {},
   "outputs": [],
   "source": [
    "# Register a new user using root credentials\n",
    "response_1 = root_client.register(email=\"joker@gotham.com\", password=\"joker123\", name=\"Joker\")\n",
    "response_1"
   ]
  },
  {
   "cell_type": "code",
   "execution_count": null,
   "id": "efd412ab",
   "metadata": {},
   "outputs": [],
   "source": [
    "# Register a new user as a GUEST\n",
    "response_2 = node.register(email=\"batman@gotham.com\", password=\"1rIzHAx6uQaP\", name=\"Batman\")\n",
    "response_2"
   ]
  },
  {
   "cell_type": "code",
   "execution_count": null,
   "id": "dbe84e8d",
   "metadata": {},
   "outputs": [],
   "source": [
    "# Register a new user as a GUEST\n",
    "response_3 = node.register(email=\"robin@gotham.com\", password=\"5v1ei4OM2N4m\", name=\"Robin\")\n",
    "response_3"
   ]
  },
  {
   "cell_type": "code",
   "execution_count": null,
   "id": "d713569c",
   "metadata": {},
   "outputs": [],
   "source": [
    "assert root_client.settings.get().signup_enabled == False\n",
    "assert isinstance(response_1, sy.SyftSuccess)\n",
    "assert isinstance(response_2, sy.SyftError)\n",
    "assert isinstance(response_3, sy.SyftError)"
   ]
  },
  {
   "attachments": {},
   "cell_type": "markdown",
   "id": "dd367a3d",
   "metadata": {},
   "source": [
    "#### Now, if root user enable registration, then the guest clients can also register"
   ]
  },
  {
   "cell_type": "code",
   "execution_count": null,
   "id": "e63fbdbe",
   "metadata": {},
   "outputs": [],
   "source": [
    "# Get the current settings of the node \n",
    "root_client.settings.get()"
   ]
  },
  {
   "cell_type": "code",
   "execution_count": null,
   "id": "eb306f0a",
   "metadata": {},
   "outputs": [],
   "source": [
    "# Enable guest signups\n",
    "root_client.settings.allow_guest_signup(enable=True)"
   ]
  },
  {
   "cell_type": "code",
   "execution_count": null,
   "id": "6a2987c7",
   "metadata": {},
   "outputs": [],
   "source": [
    "# Refresh the root client to fetch the updated settings\n",
    "root_client = node.login(email=\"info@openmined.org\", password=\"changethis\")"
   ]
  },
  {
   "cell_type": "code",
   "execution_count": null,
   "id": "f593dcf2",
   "metadata": {},
   "outputs": [],
   "source": [
    "# Register a new user as a GUEST\n",
    "response_2 = node.register(email=\"batman@gotham.com\", password=\"1rIzHAx6uQaP\", name=\"Batman\")\n",
    "response_2"
   ]
  },
  {
   "cell_type": "code",
   "execution_count": null,
   "id": "b9f278a2",
   "metadata": {},
   "outputs": [],
   "source": [
    "# Register a new user as a GUEST\n",
    "response_3 = node.register(email=\"robin@gotham.com\", password=\"5v1ei4OM2N4m\", name=\"Robin\")\n",
    "response_3"
   ]
  },
  {
   "cell_type": "code",
   "execution_count": null,
   "id": "1d801bc8",
   "metadata": {},
   "outputs": [],
   "source": [
    "assert root_client.settings.get().signup_enabled == True\n",
    "assert isinstance(response_1, sy.SyftSuccess)\n",
    "assert isinstance(response_2, sy.SyftSuccess)\n",
    "assert isinstance(response_3, sy.SyftSuccess)"
   ]
  },
  {
   "attachments": {},
   "cell_type": "markdown",
   "id": "ba07d1ea",
   "metadata": {},
   "source": [
    "### Toggle signup again"
   ]
  },
  {
   "cell_type": "code",
   "execution_count": null,
   "id": "37425535",
   "metadata": {},
   "outputs": [],
   "source": [
    "# Refresh the root client\n",
    "root_client.settings.allow_guest_signup(enable=False)"
   ]
  },
  {
   "cell_type": "code",
   "execution_count": null,
   "id": "94e84cd3",
   "metadata": {},
   "outputs": [],
   "source": [
    "# Refresh the root client to fetch the updated settings\n",
    "root_client = node.login(email=\"info@openmined.org\", password=\"changethis\")"
   ]
  },
  {
   "cell_type": "code",
   "execution_count": null,
   "id": "a35a5374",
   "metadata": {},
   "outputs": [],
   "source": [
    "# Register a new user as a GUEST\n",
    "response_2 = node.register(email=\"bane@gotham.com\", password=\"SKY5cC2zQPRP\", name=\"Bane\")\n",
    "response_2"
   ]
  },
  {
   "cell_type": "code",
   "execution_count": null,
   "id": "03cef878",
   "metadata": {},
   "outputs": [],
   "source": [
    "# Register a new user as a GUEST\n",
    "response_3 = node.register(email=\"riddler@gotham.com\", password=\"7eVGUuNDyH8P\", name=\"Riddler\")\n",
    "response_3"
   ]
  },
  {
   "cell_type": "code",
   "execution_count": null,
   "id": "48a0e8a4",
   "metadata": {},
   "outputs": [],
   "source": [
    "assert root_client.metadata.signup_enabled == False\n",
    "assert isinstance(response_1, sy.SyftSuccess)\n",
    "assert isinstance(response_2, sy.SyftError)\n",
    "assert isinstance(response_3, sy.SyftError)"
   ]
  },
  {
   "cell_type": "code",
   "execution_count": null,
   "id": "316dad3a",
   "metadata": {},
   "outputs": [],
   "source": [
    "# Cleanup local domain server\n",
    "\n",
    "if node.node_type.value == \"python\":\n",
    "    node.land()"
   ]
  }
 ],
 "metadata": {
  "kernelspec": {
   "display_name": "Python 3 (ipykernel)",
   "language": "python",
   "name": "python3"
  },
  "language_info": {
   "codemirror_mode": {
    "name": "ipython",
    "version": 3
   },
   "file_extension": ".py",
   "mimetype": "text/x-python",
   "name": "python",
   "nbconvert_exporter": "python",
   "pygments_lexer": "ipython3",
   "version": "3.10.11"
  }
 },
 "nbformat": 4,
 "nbformat_minor": 5
}
