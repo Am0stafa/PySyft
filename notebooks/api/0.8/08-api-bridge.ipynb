{
 "cells": [
  {
   "cell_type": "code",
   "execution_count": null,
   "id": "70877e23-bd5d-4d6d-bcdd-9dfa671ce12f",
   "metadata": {},
   "outputs": [],
   "source": [
    "SYFT_VERSION = \">=0.8.2.b0,<0.9\"\n",
    "package_string = f'\"syft{SYFT_VERSION}\"'\n",
    "%pip install {package_string} -f https://whls.blob.core.windows.net/unstable/index.html -q"
   ]
  },
  {
   "cell_type": "code",
   "execution_count": null,
   "id": "5640eeca-9111-4f9e-b733-b4fa198c8b5d",
   "metadata": {},
   "outputs": [],
   "source": [
    "import syft as sy\n",
    "sy.requires(SYFT_VERSION)"
   ]
  },
  {
   "cell_type": "code",
   "execution_count": null,
   "id": "65c5c3d8-bd19-49aa-a670-07c5d7f0c456",
   "metadata": {},
   "outputs": [],
   "source": [
    "node = sy.orchestra.launch(name=\"blue-book\", port=\"auto\", dev_mode=True, reset=True)"
   ]
  },
  {
   "cell_type": "code",
   "execution_count": null,
   "id": "2c439c77-9eb5-42ef-8e3a-7ba34357609a",
   "metadata": {},
   "outputs": [],
   "source": [
    "domain_client = node.login(email=\"info@openmined.org\", password=\"changethis\")"
   ]
  },
  {
   "cell_type": "code",
   "execution_count": null,
   "id": "4d28cb80-58fa-40f1-990a-b50cdb950908",
   "metadata": {},
   "outputs": [],
   "source": [
    "# start the third party service with openapi.json endpoint"
   ]
  },
  {
   "cell_type": "code",
   "execution_count": null,
   "id": "d97566e0-2452-42a2-b955-5c86cb157251",
   "metadata": {},
   "outputs": [],
   "source": [
    "import gevent\n",
    "from gevent.subprocess import Popen, PIPE\n",
    "\n",
    "def run_command(cmd):\n",
    "    process = Popen(cmd, stdout=PIPE, stderr=PIPE, shell=True)\n",
    "    for line in process.stdout:\n",
    "        print(line.strip().decode())\n",
    "\n",
    "cmd = \"cd ../../../packages/grid/openapi/fastapi && uvicorn main:app --reload\"\n",
    "greenlet = gevent.spawn(run_command, cmd)"
   ]
  },
  {
   "cell_type": "code",
   "execution_count": null,
   "id": "078988b7-f6d1-4ed3-98ec-83222cccbbab",
   "metadata": {},
   "outputs": [],
   "source": [
    "url = \"http://127.0.0.1:8000/openapi.json\""
   ]
  },
  {
   "cell_type": "code",
   "execution_count": null,
   "id": "8ef57b3d-0306-4c1a-948b-49d6b239122c",
   "metadata": {},
   "outputs": [],
   "source": [
    "!curl $url"
   ]
  },
  {
   "cell_type": "code",
   "execution_count": null,
   "id": "8681c05e-5782-473d-afdf-8ee288dfe35e",
   "metadata": {},
   "outputs": [],
   "source": [
    "result = domain_client.api.services.bridge.add(url=url)\n",
    "result"
   ]
  },
  {
   "cell_type": "code",
   "execution_count": null,
   "id": "4ca00a39-dac2-42fb-a4dc-27d43bf6a5cc",
   "metadata": {},
   "outputs": [],
   "source": [
    "result = domain_client.api.services.blue_book.get_all()\n",
    "result"
   ]
  },
  {
   "cell_type": "code",
   "execution_count": null,
   "id": "92be79f1-58f7-4954-8bd3-582d4f92d18b",
   "metadata": {},
   "outputs": [],
   "source": [
    "result = domain_client.api.services.blue_book.get_model(model_id=7)\n",
    "result"
   ]
  },
  {
   "cell_type": "code",
   "execution_count": null,
   "id": "7eb49c2e-ba2b-4ef6-9c2f-026bdd8c8fd5",
   "metadata": {},
   "outputs": [],
   "source": [
    "model = domain_client.api.types.ResearchModel(name=\"David\")\n",
    "model"
   ]
  },
  {
   "cell_type": "code",
   "execution_count": null,
   "id": "186a2825-4d5b-487b-a4d1-7769eaa9c7e7",
   "metadata": {},
   "outputs": [],
   "source": [
    "result = domain_client.api.services.blue_book.set_model(model_id=8, researchmodel=model)\n",
    "result"
   ]
  },
  {
   "cell_type": "code",
   "execution_count": null,
   "id": "281a4be3-538f-41f7-bea8-3ace8cc8fb79",
   "metadata": {},
   "outputs": [],
   "source": [
    "result = domain_client.api.services.blue_book.get_all()\n",
    "result"
   ]
  },
  {
   "cell_type": "code",
   "execution_count": null,
   "id": "8f68e07e-4f40-4eb7-936c-bad564e51488",
   "metadata": {},
   "outputs": [],
   "source": [
    "assert len(result) == 2"
   ]
  },
  {
   "cell_type": "code",
   "execution_count": null,
   "id": "299df9e5-4497-49d7-9343-d9b7ec038bfd",
   "metadata": {},
   "outputs": [],
   "source": [
    "# Cleanup local domain server\n",
    "node.land()"
   ]
  }
 ],
 "metadata": {
  "kernelspec": {
   "display_name": "Python 3 (ipykernel)",
   "language": "python",
   "name": "python3"
  },
  "language_info": {
   "codemirror_mode": {
    "name": "ipython",
    "version": 3
   },
   "file_extension": ".py",
   "mimetype": "text/x-python",
   "name": "python",
   "nbconvert_exporter": "python",
   "pygments_lexer": "ipython3",
   "version": "3.11.1"
  }
 },
 "nbformat": 4,
 "nbformat_minor": 5
}
