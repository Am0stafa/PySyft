{
 "cells": [
  {
   "cell_type": "code",
   "execution_count": null,
   "id": "70877e23-bd5d-4d6d-bcdd-9dfa671ce12f",
   "metadata": {},
   "outputs": [],
   "source": [
    "SYFT_VERSION = \">=0.8.2.b0,<0.9\"\n",
    "package_string = f'\"syft{SYFT_VERSION}\"'\n",
    "%pip install {package_string} -f https://whls.blob.core.windows.net/unstable/index.html -q"
   ]
  },
  {
   "cell_type": "code",
   "execution_count": null,
   "id": "5640eeca-9111-4f9e-b733-b4fa198c8b5d",
   "metadata": {},
   "outputs": [],
   "source": [
    "import syft as sy\n",
    "sy.requires(SYFT_VERSION)"
   ]
  },
  {
   "cell_type": "code",
   "execution_count": null,
   "id": "65c5c3d8-bd19-49aa-a670-07c5d7f0c456",
   "metadata": {},
   "outputs": [],
   "source": [
    "node = sy.orchestra.launch(name=\"blue-book\", port=\"auto\", dev_mode=True, reset=True)"
   ]
  },
  {
   "cell_type": "code",
   "execution_count": null,
   "id": "2c439c77-9eb5-42ef-8e3a-7ba34357609a",
   "metadata": {},
   "outputs": [],
   "source": [
    "domain_client = node.login(email=\"info@openmined.org\", password=\"changethis\")"
   ]
  },
  {
   "cell_type": "markdown",
   "id": "113536ca-d780-4b9e-9244-7ab233cb4d89",
   "metadata": {},
   "source": [
    "## Add Containers"
   ]
  },
  {
   "cell_type": "code",
   "execution_count": null,
   "id": "19a706fa-3208-4708-88b3-8b8326ca7a7a",
   "metadata": {},
   "outputs": [],
   "source": [
    "result = domain_client.api.services.container.add_image(name=\"python\", tag=\"python:3.10-slim\")\n",
    "result"
   ]
  },
  {
   "cell_type": "code",
   "execution_count": null,
   "id": "bafc4223-b6d0-4c6f-9faa-1956e1fe87be",
   "metadata": {},
   "outputs": [],
   "source": [
    "azure_cli_dockerfile = \"\"\"\n",
    "FROM python:3.10-slim as build\n",
    "\n",
    "RUN DEBIAN_FRONTEND=noninteractive \\\n",
    "    apt-get update && \\\n",
    "    apt-get install -y --no-install-recommends \\\n",
    "    python3-dev make build-essential git\n",
    "\n",
    "RUN pip install -U pip\n",
    "RUN pip install azure-cli==2.50.0\n",
    "\"\"\""
   ]
  },
  {
   "cell_type": "code",
   "execution_count": null,
   "id": "3ab38a7c-2572-401a-be41-d30c9bc8dd03",
   "metadata": {},
   "outputs": [],
   "source": [
    "result = domain_client.api.services.container.add_image(\n",
    "    name=\"azure\",\n",
    "    tag=\"azure-cli:latest\",\n",
    "    dockerfile=azure_cli_dockerfile\n",
    ")\n",
    "result"
   ]
  },
  {
   "cell_type": "code",
   "execution_count": null,
   "id": "8681c05e-5782-473d-afdf-8ee288dfe35e",
   "metadata": {},
   "outputs": [],
   "source": [
    "result = domain_client.api.services.container.get_images()\n",
    "result"
   ]
  },
  {
   "cell_type": "code",
   "execution_count": null,
   "id": "b9a9739d-5d72-41dc-b23b-f3c28f74b4ae",
   "metadata": {},
   "outputs": [],
   "source": [
    "result[1].tag, result[1].dockerfile"
   ]
  },
  {
   "cell_type": "markdown",
   "id": "bca0b7d8-e981-4f7e-8d4f-ec548a6bcae5",
   "metadata": {},
   "source": [
    "## Build a Container"
   ]
  },
  {
   "cell_type": "code",
   "execution_count": null,
   "id": "cf1c05a7-c14e-4bd3-be10-2a2dc1853c1e",
   "metadata": {},
   "outputs": [],
   "source": [
    "result = domain_client.api.services.container.build_image(name=\"doesntexist\")\n",
    "result"
   ]
  },
  {
   "cell_type": "code",
   "execution_count": null,
   "id": "4ca00a39-dac2-42fb-a4dc-27d43bf6a5cc",
   "metadata": {},
   "outputs": [],
   "source": [
    "result = domain_client.api.services.container.build_image(name=\"azure\")\n",
    "result"
   ]
  },
  {
   "cell_type": "markdown",
   "id": "a74f36fb-9b6a-47dd-9aa5-25fdb64243f7",
   "metadata": {},
   "source": [
    "## Create a Container Command"
   ]
  },
  {
   "cell_type": "code",
   "execution_count": null,
   "id": "8593acd3-a34d-4c77-95ea-41f0ea0311bb",
   "metadata": {},
   "outputs": [],
   "source": [
    "# example command:\n",
    "# az storage blob upload --file ~/Downloads/nick.jpeg --blob-url https://20230720testblob.blob.core.windows.net/test/nick.jpg\n",
    "# \\?sp\\=rw\\&st\\=2023-07-19T23:15:18Z\\&se\\=2023-09-01T07:15:18Z\\&spr\\=https\\&sv\\=2022-11-02\\&sr\\=c\\ --overwrite"
   ]
  },
  {
   "cell_type": "code",
   "execution_count": null,
   "id": "2583b277-a143-4b43-85a2-e04dffff61ad",
   "metadata": {},
   "outputs": [],
   "source": [
    "upload = sy.ContainerUpload(command_file=\"file\", sandbox_path=\"/sandbox\")"
   ]
  },
  {
   "cell_type": "code",
   "execution_count": null,
   "id": "2ccf5373-5819-48ab-bb6f-153c1166bee9",
   "metadata": {},
   "outputs": [],
   "source": [
    "file = sy.ContainerCommandKwarg(name=\"file\", equals=\" \", value=upload, required=True)"
   ]
  },
  {
   "cell_type": "code",
   "execution_count": null,
   "id": "0ab241cf-ed1d-4223-be23-1fc7c0061f84",
   "metadata": {},
   "outputs": [],
   "source": [
    "inputs = {\"uploaded_file\": sy.ContainerUpload(command_file=\"file\")}"
   ]
  },
  {
   "cell_type": "code",
   "execution_count": null,
   "id": "3f291353-af0f-4164-80a6-d3a995bc8ae3",
   "metadata": {},
   "outputs": [],
   "source": [
    "sig_secret = \"\\&sig\\=\" # to keep out of github"
   ]
  },
  {
   "cell_type": "code",
   "execution_count": null,
   "id": "d7d954b7-1d91-495f-9481-f9cb2f96a979",
   "metadata": {},
   "outputs": [],
   "source": [
    "blob_url = sy.ContainerCommandKwargTemplate(\n",
    "    name=\"blob-url\",\n",
    "    value=\"https://20230720testblob.blob.core.windows.net/test/{uploaded_file}\",\n",
    "    inputs=inputs,\n",
    "    append=\"\\?sp\\=rw\\&st\\=2023-07-19T23:15:18Z\\&se\\=2023-09-01T07:15:18Z\\&spr\\=https\\&sv\\=2022-11-02\\&sr\\=c\" + sig_secret,\n",
    "    equals=\" \",\n",
    ")"
   ]
  },
  {
   "cell_type": "code",
   "execution_count": null,
   "id": "d0a73ee4-cc5a-4194-9c12-62aab17072a1",
   "metadata": {},
   "outputs": [],
   "source": [
    "overwrite_kwarg = sy.ContainerCommandKwargBool(name=\"overwrite\", value=True, flag=True)"
   ]
  },
  {
   "cell_type": "code",
   "execution_count": null,
   "id": "94f0a0d5-0ab2-4e79-ac4c-8998fca5dacf",
   "metadata": {},
   "outputs": [],
   "source": [
    "kwargs = {\n",
    "    \"file\": file,\n",
    "    \"blob-url\": blob_url,\n",
    "    \"overwrite\": overwrite_kwarg\n",
    "}"
   ]
  },
  {
   "cell_type": "code",
   "execution_count": null,
   "id": "1f4307cf-cc11-4235-bc22-6c19ddb61183",
   "metadata": {},
   "outputs": [],
   "source": [
    "command = sy.ContainerCommand(\n",
    "    module_name=\"blue_book\",\n",
    "    name=\"azure_upload\",\n",
    "    image_name=\"azure\",\n",
    "    command=\"az\",\n",
    "    args=\"storage blob upload\",\n",
    "    kwargs=kwargs,\n",
    "    user_kwargs=[\"file\", \"overwrite\"]\n",
    ")"
   ]
  },
  {
   "cell_type": "code",
   "execution_count": null,
   "id": "02fd6f29-4bec-4478-8a4c-2968344ffe74",
   "metadata": {},
   "outputs": [],
   "source": [
    "command"
   ]
  },
  {
   "cell_type": "code",
   "execution_count": null,
   "id": "1b52184d-6d25-4344-babb-1d4385a34994",
   "metadata": {},
   "outputs": [],
   "source": [
    "orca = sy.SyftFile.from_path(\"~/Downloads/orca.png\")"
   ]
  },
  {
   "cell_type": "code",
   "execution_count": null,
   "id": "a4b71a6a-7963-4a2f-93b6-053b9f177cb0",
   "metadata": {},
   "outputs": [],
   "source": [
    "command.cmd(run_files={\"file\": orca})"
   ]
  },
  {
   "cell_type": "code",
   "execution_count": null,
   "id": "3f544f1e-c1b2-4f70-b3ac-2bcd0157e74d",
   "metadata": {},
   "outputs": [],
   "source": [
    "result = domain_client.api.services.container.add_command(command=command)\n",
    "result"
   ]
  },
  {
   "cell_type": "code",
   "execution_count": null,
   "id": "85711136-6f07-41f0-84aa-6f0687e2fa6f",
   "metadata": {},
   "outputs": [],
   "source": [
    "result = domain_client.api.services.container.get_commands()\n",
    "result"
   ]
  },
  {
   "cell_type": "code",
   "execution_count": null,
   "id": "a5446103-5ce2-405b-85b6-36ac749bb736",
   "metadata": {},
   "outputs": [],
   "source": [
    "orca = sy.SyftFile.from_path(\"~/Downloads/orca.png\")"
   ]
  },
  {
   "cell_type": "code",
   "execution_count": null,
   "id": "5b4d949d-728d-49d0-a836-d3f40655adb5",
   "metadata": {},
   "outputs": [],
   "source": [
    "orca"
   ]
  },
  {
   "cell_type": "code",
   "execution_count": null,
   "id": "f7fa7358-9ae2-4949-9eb0-d7afb5e99afa",
   "metadata": {},
   "outputs": [],
   "source": [
    "result = domain_client.api.services.blue_book.azure_upload(file=orca)\n",
    "result"
   ]
  },
  {
   "cell_type": "code",
   "execution_count": null,
   "id": "8a5b536a-b7ec-4f12-9358-2380bb2df567",
   "metadata": {},
   "outputs": [],
   "source": [
    "print(result.exit_code)\n",
    "if len(result.jsonstd):\n",
    "    print(result.jsonstd[0])"
   ]
  },
  {
   "cell_type": "code",
   "execution_count": null,
   "id": "299df9e5-4497-49d7-9343-d9b7ec038bfd",
   "metadata": {},
   "outputs": [],
   "source": [
    "# Cleanup local domain server\n",
    "node.land()"
   ]
  },
  {
   "cell_type": "code",
   "execution_count": null,
   "id": "7e387b4a-ac8e-42ca-9021-7a9a07c79df3",
   "metadata": {},
   "outputs": [],
   "source": []
  }
 ],
 "metadata": {
  "kernelspec": {
   "display_name": "Python 3 (ipykernel)",
   "language": "python",
   "name": "python3"
  },
  "language_info": {
   "codemirror_mode": {
    "name": "ipython",
    "version": 3
   },
   "file_extension": ".py",
   "mimetype": "text/x-python",
   "name": "python",
   "nbconvert_exporter": "python",
   "pygments_lexer": "ipython3",
   "version": "3.11.1"
  }
 },
 "nbformat": 4,
 "nbformat_minor": 5
}
