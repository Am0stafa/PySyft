{
 "cells": [
  {
   "cell_type": "markdown",
   "id": "2a6747c8",
   "metadata": {},
   "source": [
    "# How to deal with timestamps"
   ]
  },
  {
   "cell_type": "markdown",
   "id": "5144da74",
   "metadata": {},
   "source": [
    "## Install"
   ]
  },
  {
   "cell_type": "code",
   "execution_count": 1,
   "id": "66c14a6b",
   "metadata": {},
   "outputs": [],
   "source": [
    "SYFT_VERSION = \">=0.8.1b0,<0.9\"\n",
    "package_string = f'\"syft{SYFT_VERSION}\"'\n",
    "# !pip install {package_string} -f https://whls.blob.core.windows.net/unstable/index.html -q"
   ]
  },
  {
   "cell_type": "code",
   "execution_count": 2,
   "id": "74a3a9fb",
   "metadata": {},
   "outputs": [
    {
     "name": "stderr",
     "output_type": "stream",
     "text": [
      "kj/filesystem-disk-unix.c++:1703: warning: PWD environment variable doesn't match current directory; pwd = /Users/koen/workspace/PySyft\n"
     ]
    },
    {
     "name": "stdout",
     "output_type": "stream",
     "text": [
      "✅ The installed version of syft==0.8.1b2 matches the requirement >=0.8.1b0 and the requirement <0.9\n"
     ]
    }
   ],
   "source": [
    "import syft as sy\n",
    "sy.requires(SYFT_VERSION)"
   ]
  },
  {
   "cell_type": "code",
   "execution_count": 3,
   "id": "cbce68c1",
   "metadata": {},
   "outputs": [
    {
     "name": "stdout",
     "output_type": "stream",
     "text": [
      "SQLite Store Path:\n",
      "!open file:///var/folders/q1/ryq93kwj055dlbpngxv1c7z40000gn/T/281e55cb3425360e464682cfb4672fcb.sqlite\n",
      "\n"
     ]
    }
   ],
   "source": [
    "node = sy.orchestra.launch(name=\"pandas-test-domain-1\", reset=True)"
   ]
  },
  {
   "cell_type": "markdown",
   "id": "ec3bce2f",
   "metadata": {},
   "source": [
    "# Data owner: upload dataset"
   ]
  },
  {
   "cell_type": "code",
   "execution_count": 4,
   "id": "dc5a5a72",
   "metadata": {},
   "outputs": [],
   "source": [
    "root_domain_client = node.login(email=\"info@openmined.org\", password=\"changethis\")"
   ]
  },
  {
   "cell_type": "markdown",
   "id": "da0cf39a",
   "metadata": {},
   "source": [
    "## Load data"
   ]
  },
  {
   "cell_type": "markdown",
   "id": "ddb684cf",
   "metadata": {},
   "source": [
    "It's not obvious how to deal with Unix timestamps in pandas -- it took me quite a while to figure this out. The file we're using here is a popularity-contest file I found on my system at /var/log/popularity-contest."
   ]
  },
  {
   "cell_type": "code",
   "execution_count": 5,
   "id": "29334026",
   "metadata": {},
   "outputs": [],
   "source": [
    "%matplotlib inline\n",
    "import pandas as pd\n",
    "import matplotlib.pyplot as plt\n",
    "import numpy as np\n",
    "from syft.service.project.project import Project\n",
    "from syft.util.util import autocache, PANDAS_DATA\n",
    "\n",
    "plt.style.use('ggplot')\n",
    "plt.rcParams['figure.figsize'] = (15, 3)\n",
    "plt.rcParams['font.family'] = 'sans-serif'"
   ]
  },
  {
   "cell_type": "code",
   "execution_count": 6,
   "id": "01ccd135",
   "metadata": {},
   "outputs": [],
   "source": [
    "popcon = pd.read_csv(autocache(f\"{PANDAS_DATA}/popularity-contest\"), sep=' ', )[:-1]\n",
    "popcon.columns = ['atime', 'ctime', 'package-name', 'mru-program', 'tag']"
   ]
  },
  {
   "cell_type": "code",
   "execution_count": 7,
   "id": "c9fe710c",
   "metadata": {},
   "outputs": [
    {
     "data": {
      "text/plain": [
       "{'<OLD>', '<RECENT-CTIME>', nan}"
      ]
     },
     "execution_count": 7,
     "metadata": {},
     "output_type": "execute_result"
    }
   ],
   "source": [
    "set(popcon[\"tag\"])"
   ]
  },
  {
   "cell_type": "markdown",
   "id": "409c477e",
   "metadata": {},
   "source": [
    "## Create mock data"
   ]
  },
  {
   "cell_type": "markdown",
   "id": "2c4999d5",
   "metadata": {},
   "source": [
    "Lets create a mock dataset"
   ]
  },
  {
   "cell_type": "code",
   "execution_count": 8,
   "id": "4a0fe359",
   "metadata": {},
   "outputs": [],
   "source": [
    "# weather_types = set(weather_2012_final.Weather.to_list())"
   ]
  },
  {
   "cell_type": "code",
   "execution_count": 9,
   "id": "d2ddc88d",
   "metadata": {},
   "outputs": [],
   "source": [
    "from random import randint\n",
    "import random"
   ]
  },
  {
   "cell_type": "code",
   "execution_count": 10,
   "id": "35bfb68b",
   "metadata": {},
   "outputs": [],
   "source": [
    "def get_random_timestamp():\n",
    "    return \"135\" + \"\".join([str(randint(0,9)) for i in range(6)])"
   ]
  },
  {
   "cell_type": "code",
   "execution_count": 11,
   "id": "7db7b9af",
   "metadata": {},
   "outputs": [],
   "source": [
    "def get_mock_date(i):\n",
    "    return str(parse('Jun 1 2010') + timedelta(days=i))\n",
    "\n",
    "def get_mock_row(i):\n",
    "    res = dict()\n",
    "    for k, function in mock_functions.items():\n",
    "        res[k] = function()\n",
    "    return res\n",
    "    "
   ]
  },
  {
   "cell_type": "code",
   "execution_count": 12,
   "id": "090f5a59",
   "metadata": {},
   "outputs": [],
   "source": [
    "mock_functions = {'atime': lambda: get_random_timestamp(),\n",
    "                  'ctime': lambda: get_random_timestamp(),\n",
    "                  'package-name': lambda: random.choice([\n",
    "                      'libghc-stm-dev',\n",
    "                      'libqtdee-dev',\n",
    "                      'geoclue-ubuntu-geoip',\n",
    "                      'libdesktop-agnostic0',\n",
    "                      'ubuntu-extras-keyring',\n",
    "                      'libbsd0',\n",
    "                      'libxres-dev']),\n",
    "                  'mru-program': lambda: random.choice([\n",
    "                      '/usr/bin/opam',\n",
    "                      '/usr/bin/onboard',\n",
    "                      '/lib/init/upstart-job',\n",
    "                      '/usr/bin/page',\n",
    "                  ]),\n",
    "                  'tag': lambda: random.choice(['<OLD>', '<RECENT-CTIME>', 'nan'])}\n"
   ]
  },
  {
   "cell_type": "code",
   "execution_count": 13,
   "id": "7a7e70a6",
   "metadata": {},
   "outputs": [],
   "source": [
    "mock = pd.DataFrame(data=[get_mock_row(i) for i in range(len(popcon))],\n",
    "                    columns=popcon.columns)\n",
    "    \n"
   ]
  },
  {
   "cell_type": "markdown",
   "id": "d11fc4b8",
   "metadata": {},
   "source": [
    "Upload the data"
   ]
  },
  {
   "cell_type": "code",
   "execution_count": 14,
   "id": "e370b8b3",
   "metadata": {},
   "outputs": [
    {
     "name": "stderr",
     "output_type": "stream",
     "text": [
      "100%|█████████████████████████████████████████████████████████████████████████████████████████████████████████| 1/1 [00:00<00:00,  5.30it/s]\n"
     ]
    },
    {
     "name": "stdout",
     "output_type": "stream",
     "text": [
      "Uploading: weather\n"
     ]
    },
    {
     "data": {
      "text/html": [
       "<div class=\"alert-success\" style=\"padding:5px;\"><strong>SyftSuccess</strong>: Dataset Added</div><br />"
      ],
      "text/plain": [
       "<class 'syft.service.response.SyftSuccess'>: Dataset Added"
      ]
     },
     "execution_count": 14,
     "metadata": {},
     "output_type": "execute_result"
    }
   ],
   "source": [
    "dataset = sy.Dataset(name=\"test\", asset_list=[sy.Asset(name=f\"weather\", data=popcon,\n",
    "                                                       mock=mock, mock_is_real=False)])\n",
    "root_domain_client.upload_dataset(dataset)\n"
   ]
  },
  {
   "cell_type": "code",
   "execution_count": 15,
   "id": "3eb6aef9",
   "metadata": {},
   "outputs": [
    {
     "data": {
      "text/html": [
       "<div>\n",
       "<style scoped>\n",
       "    .dataframe tbody tr th:only-of-type {\n",
       "        vertical-align: middle;\n",
       "    }\n",
       "\n",
       "    .dataframe tbody tr th {\n",
       "        vertical-align: top;\n",
       "    }\n",
       "\n",
       "    .dataframe thead th {\n",
       "        text-align: right;\n",
       "    }\n",
       "</style>\n",
       "<table border=\"1\" class=\"dataframe\">\n",
       "  <thead>\n",
       "    <tr style=\"text-align: right;\">\n",
       "      <th></th>\n",
       "      <th>atime</th>\n",
       "      <th>ctime</th>\n",
       "      <th>package-name</th>\n",
       "      <th>mru-program</th>\n",
       "      <th>tag</th>\n",
       "    </tr>\n",
       "  </thead>\n",
       "  <tbody>\n",
       "    <tr>\n",
       "      <th>0</th>\n",
       "      <td>1387295797</td>\n",
       "      <td>1367633260</td>\n",
       "      <td>perl-base</td>\n",
       "      <td>/usr/bin/perl</td>\n",
       "      <td>NaN</td>\n",
       "    </tr>\n",
       "    <tr>\n",
       "      <th>1</th>\n",
       "      <td>1387295796</td>\n",
       "      <td>1354370480</td>\n",
       "      <td>login</td>\n",
       "      <td>/bin/su</td>\n",
       "      <td>NaN</td>\n",
       "    </tr>\n",
       "    <tr>\n",
       "      <th>2</th>\n",
       "      <td>1387295743</td>\n",
       "      <td>1354341275</td>\n",
       "      <td>libtalloc2</td>\n",
       "      <td>/usr/lib/x86_64-linux-gnu/libtalloc.so.2.0.7</td>\n",
       "      <td>NaN</td>\n",
       "    </tr>\n",
       "    <tr>\n",
       "      <th>3</th>\n",
       "      <td>1387295743</td>\n",
       "      <td>1387224204</td>\n",
       "      <td>libwbclient0</td>\n",
       "      <td>/usr/lib/x86_64-linux-gnu/libwbclient.so.0</td>\n",
       "      <td>&lt;RECENT-CTIME&gt;</td>\n",
       "    </tr>\n",
       "    <tr>\n",
       "      <th>4</th>\n",
       "      <td>1387295742</td>\n",
       "      <td>1354341253</td>\n",
       "      <td>libselinux1</td>\n",
       "      <td>/lib/x86_64-linux-gnu/libselinux.so.1</td>\n",
       "      <td>NaN</td>\n",
       "    </tr>\n",
       "  </tbody>\n",
       "</table>\n",
       "</div>"
      ],
      "text/plain": [
       "        atime       ctime  package-name  \\\n",
       "0  1387295797  1367633260     perl-base   \n",
       "1  1387295796  1354370480         login   \n",
       "2  1387295743  1354341275    libtalloc2   \n",
       "3  1387295743  1387224204  libwbclient0   \n",
       "4  1387295742  1354341253   libselinux1   \n",
       "\n",
       "                                    mru-program             tag  \n",
       "0                                 /usr/bin/perl             NaN  \n",
       "1                                       /bin/su             NaN  \n",
       "2  /usr/lib/x86_64-linux-gnu/libtalloc.so.2.0.7             NaN  \n",
       "3    /usr/lib/x86_64-linux-gnu/libwbclient.so.0  <RECENT-CTIME>  \n",
       "4         /lib/x86_64-linux-gnu/libselinux.so.1             NaN  "
      ]
     },
     "execution_count": 15,
     "metadata": {},
     "output_type": "execute_result"
    }
   ],
   "source": [
    "popcon.head()"
   ]
  },
  {
   "cell_type": "markdown",
   "id": "61a1069e",
   "metadata": {},
   "source": [
    "## Create user account"
   ]
  },
  {
   "cell_type": "code",
   "execution_count": 16,
   "id": "5124df8c",
   "metadata": {},
   "outputs": [],
   "source": [
    "user = root_domain_client.register(name=\"Jane Doe\", email=\"jane@caltech.edu\",\n",
    "                            password=\"abc123\", institution=\"Caltech\", website=\"https://www.caltech.edu/\")\n",
    "# todo: give user data scientist role\n",
    "guest_domain_client = node.client\n",
    "guest_client = guest_domain_client.login(email=\"jane@caltech.edu\", password=\"abc123\")"
   ]
  },
  {
   "cell_type": "markdown",
   "id": "4c0f22af",
   "metadata": {},
   "source": [
    "# Data scientist: create result pointer"
   ]
  },
  {
   "cell_type": "code",
   "execution_count": 17,
   "id": "e0f665a0",
   "metadata": {},
   "outputs": [],
   "source": [
    "import numpy as np\n",
    "import pandas as pd"
   ]
  },
  {
   "cell_type": "markdown",
   "id": "c52d6d1c",
   "metadata": {},
   "source": [
    "## Summary\n",
    "\n",
    "It's not obvious how to deal with Unix timestamps in pandas -- it took me quite a while to figure this out. The file we're using here is a popularity-contest file I found on my system at `/var/log/popularity-contest`."
   ]
  },
  {
   "cell_type": "markdown",
   "id": "8c63f823",
   "metadata": {},
   "source": [
    "## Get mocks"
   ]
  },
  {
   "cell_type": "code",
   "execution_count": 18,
   "id": "81c7f134",
   "metadata": {},
   "outputs": [],
   "source": [
    "ds = guest_domain_client.datasets[0]"
   ]
  },
  {
   "cell_type": "code",
   "execution_count": 19,
   "id": "24cac2dc",
   "metadata": {},
   "outputs": [],
   "source": [
    "asset = ds.assets[0]"
   ]
  },
  {
   "cell_type": "code",
   "execution_count": 20,
   "id": "82f805be",
   "metadata": {},
   "outputs": [],
   "source": [
    "popcon = asset.mock"
   ]
  },
  {
   "cell_type": "markdown",
   "id": "d9ed60db",
   "metadata": {},
   "source": [
    "## Parsing Unix timestamps"
   ]
  },
  {
   "cell_type": "markdown",
   "id": "d6440d74",
   "metadata": {},
   "source": [
    "The colums are the access time, created time, package name, recently used program, and a tag\n",
    "\n"
   ]
  },
  {
   "cell_type": "code",
   "execution_count": 21,
   "id": "3588b429",
   "metadata": {},
   "outputs": [
    {
     "data": {
      "text/html": [
       "<div>\n",
       "<style scoped>\n",
       "    .dataframe tbody tr th:only-of-type {\n",
       "        vertical-align: middle;\n",
       "    }\n",
       "\n",
       "    .dataframe tbody tr th {\n",
       "        vertical-align: top;\n",
       "    }\n",
       "\n",
       "    .dataframe thead th {\n",
       "        text-align: right;\n",
       "    }\n",
       "</style>\n",
       "<table border=\"1\" class=\"dataframe\">\n",
       "  <thead>\n",
       "    <tr style=\"text-align: right;\">\n",
       "      <th></th>\n",
       "      <th>atime</th>\n",
       "      <th>ctime</th>\n",
       "      <th>package-name</th>\n",
       "      <th>mru-program</th>\n",
       "      <th>tag</th>\n",
       "    </tr>\n",
       "  </thead>\n",
       "  <tbody>\n",
       "    <tr>\n",
       "      <th>0</th>\n",
       "      <td>135493655</td>\n",
       "      <td>135201432</td>\n",
       "      <td>libdesktop-agnostic0</td>\n",
       "      <td>/usr/bin/opam</td>\n",
       "      <td>&lt;RECENT-CTIME&gt;</td>\n",
       "    </tr>\n",
       "    <tr>\n",
       "      <th>1</th>\n",
       "      <td>135032138</td>\n",
       "      <td>135737452</td>\n",
       "      <td>libbsd0</td>\n",
       "      <td>/lib/init/upstart-job</td>\n",
       "      <td>&lt;OLD&gt;</td>\n",
       "    </tr>\n",
       "    <tr>\n",
       "      <th>2</th>\n",
       "      <td>135309599</td>\n",
       "      <td>135415441</td>\n",
       "      <td>libqtdee-dev</td>\n",
       "      <td>/usr/bin/opam</td>\n",
       "      <td>&lt;OLD&gt;</td>\n",
       "    </tr>\n",
       "    <tr>\n",
       "      <th>3</th>\n",
       "      <td>135927872</td>\n",
       "      <td>135094940</td>\n",
       "      <td>libqtdee-dev</td>\n",
       "      <td>/lib/init/upstart-job</td>\n",
       "      <td>nan</td>\n",
       "    </tr>\n",
       "    <tr>\n",
       "      <th>4</th>\n",
       "      <td>135015938</td>\n",
       "      <td>135953180</td>\n",
       "      <td>libghc-stm-dev</td>\n",
       "      <td>/usr/bin/opam</td>\n",
       "      <td>&lt;RECENT-CTIME&gt;</td>\n",
       "    </tr>\n",
       "  </tbody>\n",
       "</table>\n",
       "</div>"
      ],
      "text/markdown": [
       "```python\n",
       "TwinPointer(Mock)\n",
       "```\n",
       "       atime      ctime          package-name            mru-program  \\\n",
       "0  135493655  135201432  libdesktop-agnostic0          /usr/bin/opam   \n",
       "1  135032138  135737452               libbsd0  /lib/init/upstart-job   \n",
       "2  135309599  135415441          libqtdee-dev          /usr/bin/opam   \n",
       "3  135927872  135094940          libqtdee-dev  /lib/init/upstart-job   \n",
       "4  135015938  135953180        libghc-stm-dev          /usr/bin/opam   \n",
       "\n",
       "              tag  \n",
       "0  <RECENT-CTIME>  \n",
       "1           <OLD>  \n",
       "2           <OLD>  \n",
       "3             nan  \n",
       "4  <RECENT-CTIME>  "
      ],
      "text/plain": [
       "TwinPointer(Mock):\n",
       "       atime      ctime          package-name            mru-program  \\\n",
       "0  135493655  135201432  libdesktop-agnostic0          /usr/bin/opam   \n",
       "1  135032138  135737452               libbsd0  /lib/init/upstart-job   \n",
       "2  135309599  135415441          libqtdee-dev          /usr/bin/opam   \n",
       "3  135927872  135094940          libqtdee-dev  /lib/init/upstart-job   \n",
       "4  135015938  135953180        libghc-stm-dev          /usr/bin/opam   \n",
       "\n",
       "              tag  \n",
       "0  <RECENT-CTIME>  \n",
       "1           <OLD>  \n",
       "2           <OLD>  \n",
       "3             nan  \n",
       "4  <RECENT-CTIME>  "
      ]
     },
     "execution_count": 21,
     "metadata": {},
     "output_type": "execute_result"
    }
   ],
   "source": [
    "popcon[:5]"
   ]
  },
  {
   "cell_type": "markdown",
   "id": "d464243c",
   "metadata": {},
   "source": [
    "The magical part about parsing timestamps in pandas is that numpy datetimes are already stored as Unix timestamps. So all we need to do is tell pandas that these integers are actually datetimes -- it doesn't need to do any conversion at all.\n",
    "\n",
    "We need to convert these to ints to start:"
   ]
  },
  {
   "cell_type": "code",
   "execution_count": 22,
   "id": "d2dbcc32",
   "metadata": {},
   "outputs": [
    {
     "name": "stdout",
     "output_type": "stream",
     "text": [
      "send_action_side_effect failed with Got back unexpected response : message='Exception calling action.execute. Traceback (most recent call last):\n",
      "  File \"/Users/koen/workspace/PySyft/packages/syft/src/syft/node/node.py\", line 599, in handle_api_call_with_unsigned_result\n",
      "    result = method(context, *api_call.args, **api_call.kwargs)\n",
      "  File \"/Users/koen/workspace/PySyft/packages/syft/src/syft/service/service.py\", line 332, in _decorator\n",
      "    return func(self, *args, **kwargs)\n",
      "  File \"/Users/koen/workspace/PySyft/packages/syft/src/syft/service/action/action_service.py\", line 444, in execute\n",
      "    set_result = self.store.set(\n",
      "  File \"/Users/koen/workspace/PySyft/packages/syft/src/syft/service/action/action_store.py\", line 140, in set\n",
      "    self.data[uid] = syft_object\n",
      "  File \"/Users/koen/workspace/PySyft/packages/syft/src/syft/store/sqlite_document_store.py\", line 250, in __setitem__\n",
      "    self._set(key, value)\n",
      "  File \"/Users/koen/workspace/PySyft/packages/syft/src/syft/store/sqlite_document_store.py\", line 153, in _set\n",
      "    data = _serialize(value, to_bytes=True)\n",
      "  File \"/Users/koen/workspace/PySyft/packages/syft/src/syft/serde/serialize.py\", line 13, in _serialize\n",
      "    proto = rs_object2proto(obj)\n",
      "  File \"/Users/koen/workspace/PySyft/packages/syft/src/syft/serde/recursive.py\", line 176, in rs_object2proto\n",
      "    serialized = sy.serialize(field_obj, to_bytes=True)\n",
      "  File \"/Users/koen/workspace/PySyft/packages/syft/src/syft/serde/serialize.py\", line 13, in _serialize\n",
      "    proto = rs_object2proto(obj)\n",
      "  File \"/Users/koen/workspace/PySyft/packages/syft/src/syft/serde/recursive.py\", line 176, in rs_object2proto\n",
      "    serialized = sy.serialize(field_obj, to_bytes=True)\n",
      "  File \"/Users/koen/workspace/PySyft/packages/syft/src/syft/serde/serialize.py\", line 13, in _serialize\n",
      "    proto = rs_object2proto(obj)\n",
      "  File \"/Users/koen/workspace/PySyft/packages/syft/src/syft/serde/recursive.py\", line 132, in rs_object2proto\n",
      "    raise Exception(f\"{fqn} not in TYPE_BANK\")\n",
      "Exception: numpy.dtype[int64] not in TYPE_BANK\n",
      "'\n",
      " Traceback (most recent call last):\n",
      "  File \"/Users/koen/workspace/PySyft/packages/syft/src/syft/service/action/action_object.py\", line 329, in send_action_side_effect\n",
      "    raise RuntimeError(f\"Got back unexpected response : {action_result}\")\n",
      "RuntimeError: Got back unexpected response : message='Exception calling action.execute. Traceback (most recent call last):\n",
      "  File \"/Users/koen/workspace/PySyft/packages/syft/src/syft/node/node.py\", line 599, in handle_api_call_with_unsigned_result\n",
      "    result = method(context, *api_call.args, **api_call.kwargs)\n",
      "  File \"/Users/koen/workspace/PySyft/packages/syft/src/syft/service/service.py\", line 332, in _decorator\n",
      "    return func(self, *args, **kwargs)\n",
      "  File \"/Users/koen/workspace/PySyft/packages/syft/src/syft/service/action/action_service.py\", line 444, in execute\n",
      "    set_result = self.store.set(\n",
      "  File \"/Users/koen/workspace/PySyft/packages/syft/src/syft/service/action/action_store.py\", line 140, in set\n",
      "    self.data[uid] = syft_object\n",
      "  File \"/Users/koen/workspace/PySyft/packages/syft/src/syft/store/sqlite_document_store.py\", line 250, in __setitem__\n",
      "    self._set(key, value)\n",
      "  File \"/Users/koen/workspace/PySyft/packages/syft/src/syft/store/sqlite_document_store.py\", line 153, in _set\n",
      "    data = _serialize(value, to_bytes=True)\n",
      "  File \"/Users/koen/workspace/PySyft/packages/syft/src/syft/serde/serialize.py\", line 13, in _serialize\n",
      "    proto = rs_object2proto(obj)\n",
      "  File \"/Users/koen/workspace/PySyft/packages/syft/src/syft/serde/recursive.py\", line 176, in rs_object2proto\n",
      "    serialized = sy.serialize(field_obj, to_bytes=True)\n",
      "  File \"/Users/koen/workspace/PySyft/packages/syft/src/syft/serde/serialize.py\", line 13, in _serialize\n",
      "    proto = rs_object2proto(obj)\n",
      "  File \"/Users/koen/workspace/PySyft/packages/syft/src/syft/serde/recursive.py\", line 176, in rs_object2proto\n",
      "    serialized = sy.serialize(field_obj, to_bytes=True)\n",
      "  File \"/Users/koen/workspace/PySyft/packages/syft/src/syft/serde/serialize.py\", line 13, in _serialize\n",
      "    proto = rs_object2proto(obj)\n",
      "  File \"/Users/koen/workspace/PySyft/packages/syft/src/syft/serde/recursive.py\", line 132, in rs_object2proto\n",
      "    raise Exception(f\"{fqn} not in TYPE_BANK\")\n",
      "Exception: numpy.dtype[int64] not in TYPE_BANK\n",
      "'\n",
      "\n"
     ]
    },
    {
     "ename": "ValueError",
     "evalue": "The truth value of a Series is ambiguous. Use a.empty, a.bool(), a.item(), a.any() or a.all().",
     "output_type": "error",
     "traceback": [
      "\u001b[0;31m---------------------------------------------------------------------------\u001b[0m",
      "\u001b[0;31mValueError\u001b[0m                                Traceback (most recent call last)",
      "Cell \u001b[0;32mIn[22], line 1\u001b[0m\n\u001b[0;32m----> 1\u001b[0m \u001b[43mpopcon\u001b[49m\u001b[43m[\u001b[49m\u001b[38;5;124;43m'\u001b[39;49m\u001b[38;5;124;43matime\u001b[39;49m\u001b[38;5;124;43m'\u001b[39;49m\u001b[43m]\u001b[49m \u001b[38;5;241m=\u001b[39m popcon[\u001b[38;5;124m'\u001b[39m\u001b[38;5;124matime\u001b[39m\u001b[38;5;124m'\u001b[39m]\u001b[38;5;241m.\u001b[39mastype(\u001b[38;5;28mint\u001b[39m)\n\u001b[1;32m      2\u001b[0m popcon[\u001b[38;5;124m'\u001b[39m\u001b[38;5;124mctime\u001b[39m\u001b[38;5;124m'\u001b[39m] \u001b[38;5;241m=\u001b[39m popcon[\u001b[38;5;124m'\u001b[39m\u001b[38;5;124mctime\u001b[39m\u001b[38;5;124m'\u001b[39m]\u001b[38;5;241m.\u001b[39mastype(\u001b[38;5;28mint\u001b[39m)\n",
      "File \u001b[0;32m~/workspace/PySyft/packages/syft/src/syft/service/action/action_object.py:1215\u001b[0m, in \u001b[0;36mActionObject.__setitem__\u001b[0;34m(self, key, value)\u001b[0m\n\u001b[1;32m   1213\u001b[0m \u001b[38;5;28mself\u001b[39m\u001b[38;5;241m.\u001b[39m_syft_inplace_method( \u001b[38;5;124m\"\u001b[39m\u001b[38;5;124m__setitem__\u001b[39m\u001b[38;5;124m\"\u001b[39m, key, value)\n\u001b[1;32m   1214\u001b[0m context_self \u001b[38;5;241m=\u001b[39m \u001b[38;5;28mself\u001b[39m\u001b[38;5;241m.\u001b[39msyft_action_data  \u001b[38;5;66;03m# type: ignore\u001b[39;00m\n\u001b[0;32m-> 1215\u001b[0m \u001b[38;5;28;01mreturn\u001b[39;00m \u001b[43mcontext_self\u001b[49m\u001b[38;5;241;43m.\u001b[39;49m\u001b[38;5;21;43m__setitem__\u001b[39;49m\u001b[43m(\u001b[49m\u001b[43mkey\u001b[49m\u001b[43m,\u001b[49m\u001b[43m \u001b[49m\u001b[43mvalue\u001b[49m\u001b[43m)\u001b[49m\n",
      "File \u001b[0;32m/opt/anaconda3/envs/syft/lib/python3.9/site-packages/pandas/core/frame.py:3980\u001b[0m, in \u001b[0;36mDataFrame.__setitem__\u001b[0;34m(self, key, value)\u001b[0m\n\u001b[1;32m   3977\u001b[0m     \u001b[38;5;28mself\u001b[39m\u001b[38;5;241m.\u001b[39m_setitem_array([key], value)\n\u001b[1;32m   3978\u001b[0m \u001b[38;5;28;01melse\u001b[39;00m:\n\u001b[1;32m   3979\u001b[0m     \u001b[38;5;66;03m# set column\u001b[39;00m\n\u001b[0;32m-> 3980\u001b[0m     \u001b[38;5;28;43mself\u001b[39;49m\u001b[38;5;241;43m.\u001b[39;49m\u001b[43m_set_item\u001b[49m\u001b[43m(\u001b[49m\u001b[43mkey\u001b[49m\u001b[43m,\u001b[49m\u001b[43m \u001b[49m\u001b[43mvalue\u001b[49m\u001b[43m)\u001b[49m\n",
      "File \u001b[0;32m/opt/anaconda3/envs/syft/lib/python3.9/site-packages/pandas/core/frame.py:4174\u001b[0m, in \u001b[0;36mDataFrame._set_item\u001b[0;34m(self, key, value)\u001b[0m\n\u001b[1;32m   4164\u001b[0m \u001b[38;5;28;01mdef\u001b[39;00m \u001b[38;5;21m_set_item\u001b[39m(\u001b[38;5;28mself\u001b[39m, key, value) \u001b[38;5;241m-\u001b[39m\u001b[38;5;241m>\u001b[39m \u001b[38;5;28;01mNone\u001b[39;00m:\n\u001b[1;32m   4165\u001b[0m \u001b[38;5;250m    \u001b[39m\u001b[38;5;124;03m\"\"\"\u001b[39;00m\n\u001b[1;32m   4166\u001b[0m \u001b[38;5;124;03m    Add series to DataFrame in specified column.\u001b[39;00m\n\u001b[1;32m   4167\u001b[0m \n\u001b[0;32m   (...)\u001b[0m\n\u001b[1;32m   4172\u001b[0m \u001b[38;5;124;03m    ensure homogeneity.\u001b[39;00m\n\u001b[1;32m   4173\u001b[0m \u001b[38;5;124;03m    \"\"\"\u001b[39;00m\n\u001b[0;32m-> 4174\u001b[0m     value \u001b[38;5;241m=\u001b[39m \u001b[38;5;28;43mself\u001b[39;49m\u001b[38;5;241;43m.\u001b[39;49m\u001b[43m_sanitize_column\u001b[49m\u001b[43m(\u001b[49m\u001b[43mvalue\u001b[49m\u001b[43m)\u001b[49m\n\u001b[1;32m   4176\u001b[0m     \u001b[38;5;28;01mif\u001b[39;00m (\n\u001b[1;32m   4177\u001b[0m         key \u001b[38;5;129;01min\u001b[39;00m \u001b[38;5;28mself\u001b[39m\u001b[38;5;241m.\u001b[39mcolumns\n\u001b[1;32m   4178\u001b[0m         \u001b[38;5;129;01mand\u001b[39;00m value\u001b[38;5;241m.\u001b[39mndim \u001b[38;5;241m==\u001b[39m \u001b[38;5;241m1\u001b[39m\n\u001b[1;32m   4179\u001b[0m         \u001b[38;5;129;01mand\u001b[39;00m \u001b[38;5;129;01mnot\u001b[39;00m is_extension_array_dtype(value)\n\u001b[1;32m   4180\u001b[0m     ):\n\u001b[1;32m   4181\u001b[0m         \u001b[38;5;66;03m# broadcast across multiple columns if necessary\u001b[39;00m\n\u001b[1;32m   4182\u001b[0m         \u001b[38;5;28;01mif\u001b[39;00m \u001b[38;5;129;01mnot\u001b[39;00m \u001b[38;5;28mself\u001b[39m\u001b[38;5;241m.\u001b[39mcolumns\u001b[38;5;241m.\u001b[39mis_unique \u001b[38;5;129;01mor\u001b[39;00m \u001b[38;5;28misinstance\u001b[39m(\u001b[38;5;28mself\u001b[39m\u001b[38;5;241m.\u001b[39mcolumns, MultiIndex):\n",
      "File \u001b[0;32m/opt/anaconda3/envs/syft/lib/python3.9/site-packages/pandas/core/frame.py:4912\u001b[0m, in \u001b[0;36mDataFrame._sanitize_column\u001b[0;34m(self, value)\u001b[0m\n\u001b[1;32m   4910\u001b[0m     \u001b[38;5;28;01mreturn\u001b[39;00m _reindex_for_setitem(value, \u001b[38;5;28mself\u001b[39m\u001b[38;5;241m.\u001b[39mindex)\n\u001b[1;32m   4911\u001b[0m \u001b[38;5;28;01melif\u001b[39;00m is_dict_like(value):\n\u001b[0;32m-> 4912\u001b[0m     \u001b[38;5;28;01mreturn\u001b[39;00m _reindex_for_setitem(\u001b[43mSeries\u001b[49m\u001b[43m(\u001b[49m\u001b[43mvalue\u001b[49m\u001b[43m)\u001b[49m, \u001b[38;5;28mself\u001b[39m\u001b[38;5;241m.\u001b[39mindex)\n\u001b[1;32m   4914\u001b[0m \u001b[38;5;28;01mif\u001b[39;00m is_list_like(value):\n\u001b[1;32m   4915\u001b[0m     com\u001b[38;5;241m.\u001b[39mrequire_length_match(value, \u001b[38;5;28mself\u001b[39m\u001b[38;5;241m.\u001b[39mindex)\n",
      "File \u001b[0;32m/opt/anaconda3/envs/syft/lib/python3.9/site-packages/pandas/core/series.py:436\u001b[0m, in \u001b[0;36mSeries.__init__\u001b[0;34m(self, data, index, dtype, name, copy, fastpath)\u001b[0m\n\u001b[1;32m    434\u001b[0m     data \u001b[38;5;241m=\u001b[39m data\u001b[38;5;241m.\u001b[39m_mgr\n\u001b[1;32m    435\u001b[0m \u001b[38;5;28;01melif\u001b[39;00m is_dict_like(data):\n\u001b[0;32m--> 436\u001b[0m     data, index \u001b[38;5;241m=\u001b[39m \u001b[38;5;28;43mself\u001b[39;49m\u001b[38;5;241;43m.\u001b[39;49m\u001b[43m_init_dict\u001b[49m\u001b[43m(\u001b[49m\u001b[43mdata\u001b[49m\u001b[43m,\u001b[49m\u001b[43m \u001b[49m\u001b[43mindex\u001b[49m\u001b[43m,\u001b[49m\u001b[43m \u001b[49m\u001b[43mdtype\u001b[49m\u001b[43m)\u001b[49m\n\u001b[1;32m    437\u001b[0m     dtype \u001b[38;5;241m=\u001b[39m \u001b[38;5;28;01mNone\u001b[39;00m\n\u001b[1;32m    438\u001b[0m     copy \u001b[38;5;241m=\u001b[39m \u001b[38;5;28;01mFalse\u001b[39;00m\n",
      "File \u001b[0;32m/opt/anaconda3/envs/syft/lib/python3.9/site-packages/pandas/core/series.py:511\u001b[0m, in \u001b[0;36mSeries._init_dict\u001b[0;34m(self, data, index, dtype)\u001b[0m\n\u001b[1;32m    507\u001b[0m keys: Index \u001b[38;5;241m|\u001b[39m \u001b[38;5;28mtuple\u001b[39m\n\u001b[1;32m    509\u001b[0m \u001b[38;5;66;03m# Looking for NaN in dict doesn't work ({np.nan : 1}[float('nan')]\u001b[39;00m\n\u001b[1;32m    510\u001b[0m \u001b[38;5;66;03m# raises KeyError), so we iterate the entire dict, and align\u001b[39;00m\n\u001b[0;32m--> 511\u001b[0m \u001b[38;5;28;01mif\u001b[39;00m data:\n\u001b[1;32m    512\u001b[0m     \u001b[38;5;66;03m# GH:34717, issue was using zip to extract key and values from data.\u001b[39;00m\n\u001b[1;32m    513\u001b[0m     \u001b[38;5;66;03m# using generators in effects the performance.\u001b[39;00m\n\u001b[1;32m    514\u001b[0m     \u001b[38;5;66;03m# Below is the new way of extracting the keys and values\u001b[39;00m\n\u001b[1;32m    516\u001b[0m     keys \u001b[38;5;241m=\u001b[39m \u001b[38;5;28mtuple\u001b[39m(data\u001b[38;5;241m.\u001b[39mkeys())\n\u001b[1;32m    517\u001b[0m     values \u001b[38;5;241m=\u001b[39m \u001b[38;5;28mlist\u001b[39m(data\u001b[38;5;241m.\u001b[39mvalues())  \u001b[38;5;66;03m# Generating list of values- faster way\u001b[39;00m\n",
      "File \u001b[0;32m~/workspace/PySyft/packages/syft/src/syft/service/action/action_object.py:1221\u001b[0m, in \u001b[0;36mActionObject.__bool__\u001b[0;34m(self)\u001b[0m\n\u001b[1;32m   1220\u001b[0m \u001b[38;5;28;01mdef\u001b[39;00m \u001b[38;5;21m__bool__\u001b[39m(\u001b[38;5;28mself\u001b[39m) \u001b[38;5;241m-\u001b[39m\u001b[38;5;241m>\u001b[39m \u001b[38;5;28mbool\u001b[39m:\n\u001b[0;32m-> 1221\u001b[0m     \u001b[38;5;28;01mreturn\u001b[39;00m \u001b[38;5;28;43mself\u001b[39;49m\u001b[38;5;241;43m.\u001b[39;49m\u001b[38;5;21;43m__bool__\u001b[39;49m\u001b[43m(\u001b[49m\u001b[43m)\u001b[49m\n",
      "File \u001b[0;32m~/workspace/PySyft/packages/syft/src/syft/service/action/action_object.py:1038\u001b[0m, in \u001b[0;36mActionObject._syft_wrap_attribute_for_methods.<locals>.wrapper\u001b[0;34m(_self, *args, **kwargs)\u001b[0m\n\u001b[1;32m   1037\u001b[0m \u001b[38;5;28;01mdef\u001b[39;00m \u001b[38;5;21mwrapper\u001b[39m(_self: Any, \u001b[38;5;241m*\u001b[39margs: Any, \u001b[38;5;241m*\u001b[39m\u001b[38;5;241m*\u001b[39mkwargs: Any):\n\u001b[0;32m-> 1038\u001b[0m     \u001b[38;5;28;01mreturn\u001b[39;00m \u001b[43m_base_wrapper\u001b[49m\u001b[43m(\u001b[49m\u001b[38;5;241;43m*\u001b[39;49m\u001b[43margs\u001b[49m\u001b[43m,\u001b[49m\u001b[43m \u001b[49m\u001b[38;5;241;43m*\u001b[39;49m\u001b[38;5;241;43m*\u001b[39;49m\u001b[43mkwargs\u001b[49m\u001b[43m)\u001b[49m\n",
      "File \u001b[0;32m~/workspace/PySyft/packages/syft/src/syft/service/action/action_object.py:1027\u001b[0m, in \u001b[0;36mActionObject._syft_wrap_attribute_for_methods.<locals>._base_wrapper\u001b[0;34m(*args, **kwargs)\u001b[0m\n\u001b[1;32m   1023\u001b[0m \u001b[38;5;28;01melse\u001b[39;00m:\n\u001b[1;32m   1024\u001b[0m     original_args, original_kwargs \u001b[38;5;241m=\u001b[39m debox_args_and_kwargs(\n\u001b[1;32m   1025\u001b[0m         pre_hook_args, pre_hook_kwargs\n\u001b[1;32m   1026\u001b[0m     )\n\u001b[0;32m-> 1027\u001b[0m     result \u001b[38;5;241m=\u001b[39m \u001b[43moriginal_func\u001b[49m\u001b[43m(\u001b[49m\u001b[38;5;241;43m*\u001b[39;49m\u001b[43moriginal_args\u001b[49m\u001b[43m,\u001b[49m\u001b[43m \u001b[49m\u001b[38;5;241;43m*\u001b[39;49m\u001b[38;5;241;43m*\u001b[39;49m\u001b[43moriginal_kwargs\u001b[49m\u001b[43m)\u001b[49m\n\u001b[1;32m   1029\u001b[0m post_result \u001b[38;5;241m=\u001b[39m \u001b[38;5;28mself\u001b[39m\u001b[38;5;241m.\u001b[39m_syft_run_post_hooks__(context, name, result)\n\u001b[1;32m   1030\u001b[0m post_result \u001b[38;5;241m=\u001b[39m \u001b[38;5;28mself\u001b[39m\u001b[38;5;241m.\u001b[39m_syft_attr_propagate_ids(context, name, post_result)\n",
      "File \u001b[0;32m/opt/anaconda3/envs/syft/lib/python3.9/site-packages/pandas/core/generic.py:1527\u001b[0m, in \u001b[0;36mNDFrame.__nonzero__\u001b[0;34m(self)\u001b[0m\n\u001b[1;32m   1525\u001b[0m \u001b[38;5;129m@final\u001b[39m\n\u001b[1;32m   1526\u001b[0m \u001b[38;5;28;01mdef\u001b[39;00m \u001b[38;5;21m__nonzero__\u001b[39m(\u001b[38;5;28mself\u001b[39m) \u001b[38;5;241m-\u001b[39m\u001b[38;5;241m>\u001b[39m NoReturn:\n\u001b[0;32m-> 1527\u001b[0m     \u001b[38;5;28;01mraise\u001b[39;00m \u001b[38;5;167;01mValueError\u001b[39;00m(\n\u001b[1;32m   1528\u001b[0m         \u001b[38;5;124mf\u001b[39m\u001b[38;5;124m\"\u001b[39m\u001b[38;5;124mThe truth value of a \u001b[39m\u001b[38;5;132;01m{\u001b[39;00m\u001b[38;5;28mtype\u001b[39m(\u001b[38;5;28mself\u001b[39m)\u001b[38;5;241m.\u001b[39m\u001b[38;5;18m__name__\u001b[39m\u001b[38;5;132;01m}\u001b[39;00m\u001b[38;5;124m is ambiguous. \u001b[39m\u001b[38;5;124m\"\u001b[39m\n\u001b[1;32m   1529\u001b[0m         \u001b[38;5;124m\"\u001b[39m\u001b[38;5;124mUse a.empty, a.bool(), a.item(), a.any() or a.all().\u001b[39m\u001b[38;5;124m\"\u001b[39m\n\u001b[1;32m   1530\u001b[0m     )\n",
      "\u001b[0;31mValueError\u001b[0m: The truth value of a Series is ambiguous. Use a.empty, a.bool(), a.item(), a.any() or a.all()."
     ]
    }
   ],
   "source": [
    "popcon['atime'] = popcon['atime'].astype(int)\n",
    "popcon['ctime'] = popcon['ctime'].astype(int)"
   ]
  },
  {
   "cell_type": "markdown",
   "id": "b510b9c8",
   "metadata": {},
   "source": [
    "Every numpy array and pandas series has a dtype -- this is usually `int64`, `float64`, or `object`. Some of the time types available are `datetime64[s]`, `datetime64[ms]`, and `datetime64[us]`. There are also `timedelta` types, similarly.\n",
    "\n",
    "We can use the `pd.to_datetime` function to convert our integer timestamps into datetimes. This is a constant-time operation -- we're not actually changing any of the data, just how pandas thinks about it."
   ]
  },
  {
   "cell_type": "code",
   "execution_count": 23,
   "id": "c8736589",
   "metadata": {},
   "outputs": [
    {
     "data": {
      "text/html": [
       "<div>\n",
       "<style scoped>\n",
       "    .dataframe tbody tr th:only-of-type {\n",
       "        vertical-align: middle;\n",
       "    }\n",
       "\n",
       "    .dataframe tbody tr th {\n",
       "        vertical-align: top;\n",
       "    }\n",
       "\n",
       "    .dataframe thead th {\n",
       "        text-align: right;\n",
       "    }\n",
       "</style>\n",
       "<table border=\"1\" class=\"dataframe\">\n",
       "  <thead>\n",
       "    <tr style=\"text-align: right;\">\n",
       "      <th></th>\n",
       "      <th>atime</th>\n",
       "      <th>ctime</th>\n",
       "      <th>package-name</th>\n",
       "      <th>mru-program</th>\n",
       "      <th>tag</th>\n",
       "    </tr>\n",
       "  </thead>\n",
       "  <tbody>\n",
       "    <tr>\n",
       "      <th>0</th>\n",
       "      <td>135474100</td>\n",
       "      <td>135472485</td>\n",
       "      <td>libdesktop-agnostic0</td>\n",
       "      <td>/lib/init/upstart-job</td>\n",
       "      <td>&lt;RECENT-CTIME&gt;</td>\n",
       "    </tr>\n",
       "    <tr>\n",
       "      <th>1</th>\n",
       "      <td>135293095</td>\n",
       "      <td>135055181</td>\n",
       "      <td>libxres-dev</td>\n",
       "      <td>/usr/bin/opam</td>\n",
       "      <td>&lt;OLD&gt;</td>\n",
       "    </tr>\n",
       "    <tr>\n",
       "      <th>2</th>\n",
       "      <td>135098283</td>\n",
       "      <td>135078935</td>\n",
       "      <td>libxres-dev</td>\n",
       "      <td>/usr/bin/onboard</td>\n",
       "      <td>nan</td>\n",
       "    </tr>\n",
       "    <tr>\n",
       "      <th>3</th>\n",
       "      <td>135123011</td>\n",
       "      <td>135426700</td>\n",
       "      <td>libghc-stm-dev</td>\n",
       "      <td>/usr/bin/onboard</td>\n",
       "      <td>nan</td>\n",
       "    </tr>\n",
       "    <tr>\n",
       "      <th>4</th>\n",
       "      <td>135243011</td>\n",
       "      <td>135092203</td>\n",
       "      <td>ubuntu-extras-keyring</td>\n",
       "      <td>/usr/bin/opam</td>\n",
       "      <td>nan</td>\n",
       "    </tr>\n",
       "    <tr>\n",
       "      <th>...</th>\n",
       "      <td>...</td>\n",
       "      <td>...</td>\n",
       "      <td>...</td>\n",
       "      <td>...</td>\n",
       "      <td>...</td>\n",
       "    </tr>\n",
       "    <tr>\n",
       "      <th>2892</th>\n",
       "      <td>135742407</td>\n",
       "      <td>135126325</td>\n",
       "      <td>libxres-dev</td>\n",
       "      <td>/usr/bin/opam</td>\n",
       "      <td>&lt;OLD&gt;</td>\n",
       "    </tr>\n",
       "    <tr>\n",
       "      <th>2893</th>\n",
       "      <td>135463643</td>\n",
       "      <td>135908745</td>\n",
       "      <td>geoclue-ubuntu-geoip</td>\n",
       "      <td>/usr/bin/onboard</td>\n",
       "      <td>&lt;RECENT-CTIME&gt;</td>\n",
       "    </tr>\n",
       "    <tr>\n",
       "      <th>2894</th>\n",
       "      <td>135058482</td>\n",
       "      <td>135267294</td>\n",
       "      <td>libxres-dev</td>\n",
       "      <td>/usr/bin/onboard</td>\n",
       "      <td>nan</td>\n",
       "    </tr>\n",
       "    <tr>\n",
       "      <th>2895</th>\n",
       "      <td>135813822</td>\n",
       "      <td>135553105</td>\n",
       "      <td>geoclue-ubuntu-geoip</td>\n",
       "      <td>/usr/bin/opam</td>\n",
       "      <td>&lt;OLD&gt;</td>\n",
       "    </tr>\n",
       "    <tr>\n",
       "      <th>2896</th>\n",
       "      <td>135553322</td>\n",
       "      <td>135742043</td>\n",
       "      <td>libxres-dev</td>\n",
       "      <td>/lib/init/upstart-job</td>\n",
       "      <td>nan</td>\n",
       "    </tr>\n",
       "  </tbody>\n",
       "</table>\n",
       "<p>2897 rows × 5 columns</p>\n",
       "</div>"
      ],
      "text/markdown": [
       "```python\n",
       "TwinPointer(Mock)\n",
       "```\n",
       "          atime      ctime           package-name            mru-program  \\\n",
       "0     135474100  135472485   libdesktop-agnostic0  /lib/init/upstart-job   \n",
       "1     135293095  135055181            libxres-dev          /usr/bin/opam   \n",
       "2     135098283  135078935            libxres-dev       /usr/bin/onboard   \n",
       "3     135123011  135426700         libghc-stm-dev       /usr/bin/onboard   \n",
       "4     135243011  135092203  ubuntu-extras-keyring          /usr/bin/opam   \n",
       "...         ...        ...                    ...                    ...   \n",
       "2892  135742407  135126325            libxres-dev          /usr/bin/opam   \n",
       "2893  135463643  135908745   geoclue-ubuntu-geoip       /usr/bin/onboard   \n",
       "2894  135058482  135267294            libxres-dev       /usr/bin/onboard   \n",
       "2895  135813822  135553105   geoclue-ubuntu-geoip          /usr/bin/opam   \n",
       "2896  135553322  135742043            libxres-dev  /lib/init/upstart-job   \n",
       "\n",
       "                 tag  \n",
       "0     <RECENT-CTIME>  \n",
       "1              <OLD>  \n",
       "2                nan  \n",
       "3                nan  \n",
       "4                nan  \n",
       "...              ...  \n",
       "2892           <OLD>  \n",
       "2893  <RECENT-CTIME>  \n",
       "2894             nan  \n",
       "2895           <OLD>  \n",
       "2896             nan  \n",
       "\n",
       "[2897 rows x 5 columns]"
      ],
      "text/plain": [
       "TwinPointer(Mock):\n",
       "          atime      ctime           package-name            mru-program  \\\n",
       "0     135474100  135472485   libdesktop-agnostic0  /lib/init/upstart-job   \n",
       "1     135293095  135055181            libxres-dev          /usr/bin/opam   \n",
       "2     135098283  135078935            libxres-dev       /usr/bin/onboard   \n",
       "3     135123011  135426700         libghc-stm-dev       /usr/bin/onboard   \n",
       "4     135243011  135092203  ubuntu-extras-keyring          /usr/bin/opam   \n",
       "...         ...        ...                    ...                    ...   \n",
       "2892  135742407  135126325            libxres-dev          /usr/bin/opam   \n",
       "2893  135463643  135908745   geoclue-ubuntu-geoip       /usr/bin/onboard   \n",
       "2894  135058482  135267294            libxres-dev       /usr/bin/onboard   \n",
       "2895  135813822  135553105   geoclue-ubuntu-geoip          /usr/bin/opam   \n",
       "2896  135553322  135742043            libxres-dev  /lib/init/upstart-job   \n",
       "\n",
       "                 tag  \n",
       "0     <RECENT-CTIME>  \n",
       "1              <OLD>  \n",
       "2                nan  \n",
       "3                nan  \n",
       "4                nan  \n",
       "...              ...  \n",
       "2892           <OLD>  \n",
       "2893  <RECENT-CTIME>  \n",
       "2894             nan  \n",
       "2895           <OLD>  \n",
       "2896             nan  \n",
       "\n",
       "[2897 rows x 5 columns]"
      ]
     },
     "execution_count": 23,
     "metadata": {},
     "output_type": "execute_result"
    }
   ],
   "source": [
    "popcon"
   ]
  },
  {
   "cell_type": "code",
   "execution_count": 28,
   "id": "280f221d",
   "metadata": {},
   "outputs": [
    {
     "data": {
      "text/plain": [
       "0      2013-12-17 15:56:37\n",
       "1      2013-12-17 15:56:36\n",
       "2      2013-12-17 15:55:43\n",
       "3      2013-12-17 15:55:43\n",
       "4      2013-12-17 15:55:42\n",
       "               ...        \n",
       "2892   1970-01-01 00:00:00\n",
       "2893   1970-01-01 00:00:00\n",
       "2894   1970-01-01 00:00:00\n",
       "2895   1970-01-01 00:00:00\n",
       "2896   1970-01-01 00:00:00\n",
       "Name: atime, Length: 2897, dtype: datetime64[ns]"
      ]
     },
     "execution_count": 28,
     "metadata": {},
     "output_type": "execute_result"
    }
   ],
   "source": [
    "root_domain_client = node.login(email=\"info@openmined.org\", password=\"changethis\")\n",
    "guest_client.api.lib.pandas.to_datetime(popcon['atime'], unit='s').get_from(root_domain_client)"
   ]
  },
  {
   "cell_type": "code",
   "execution_count": 29,
   "id": "d26a35b6",
   "metadata": {},
   "outputs": [],
   "source": [
    "popcon['atime'] = 5 #guest_client.api.lib.pandas.to_datetime(popcon['atime'], unit='s')\n",
    "popcon['ctime'] = guest_client.api.lib.pandas.to_datetime(popcon['ctime'], unit='s')"
   ]
  },
  {
   "cell_type": "code",
   "execution_count": 30,
   "id": "ea8112b1",
   "metadata": {},
   "outputs": [
    {
     "data": {
      "text/html": [
       "<div>\n",
       "<style scoped>\n",
       "    .dataframe tbody tr th:only-of-type {\n",
       "        vertical-align: middle;\n",
       "    }\n",
       "\n",
       "    .dataframe tbody tr th {\n",
       "        vertical-align: top;\n",
       "    }\n",
       "\n",
       "    .dataframe thead th {\n",
       "        text-align: right;\n",
       "    }\n",
       "</style>\n",
       "<table border=\"1\" class=\"dataframe\">\n",
       "  <thead>\n",
       "    <tr style=\"text-align: right;\">\n",
       "      <th></th>\n",
       "      <th>atime</th>\n",
       "      <th>ctime</th>\n",
       "      <th>package-name</th>\n",
       "      <th>mru-program</th>\n",
       "      <th>tag</th>\n",
       "    </tr>\n",
       "  </thead>\n",
       "  <tbody>\n",
       "    <tr>\n",
       "      <th>0</th>\n",
       "      <td>1387295797</td>\n",
       "      <td>1367633260</td>\n",
       "      <td>perl-base</td>\n",
       "      <td>/usr/bin/perl</td>\n",
       "      <td>None</td>\n",
       "    </tr>\n",
       "    <tr>\n",
       "      <th>1</th>\n",
       "      <td>1387295796</td>\n",
       "      <td>1354370480</td>\n",
       "      <td>login</td>\n",
       "      <td>/bin/su</td>\n",
       "      <td>None</td>\n",
       "    </tr>\n",
       "    <tr>\n",
       "      <th>2</th>\n",
       "      <td>1387295743</td>\n",
       "      <td>1354341275</td>\n",
       "      <td>libtalloc2</td>\n",
       "      <td>/usr/lib/x86_64-linux-gnu/libtalloc.so.2.0.7</td>\n",
       "      <td>None</td>\n",
       "    </tr>\n",
       "    <tr>\n",
       "      <th>3</th>\n",
       "      <td>1387295743</td>\n",
       "      <td>1387224204</td>\n",
       "      <td>libwbclient0</td>\n",
       "      <td>/usr/lib/x86_64-linux-gnu/libwbclient.so.0</td>\n",
       "      <td>&lt;RECENT-CTIME&gt;</td>\n",
       "    </tr>\n",
       "    <tr>\n",
       "      <th>4</th>\n",
       "      <td>1387295742</td>\n",
       "      <td>1354341253</td>\n",
       "      <td>libselinux1</td>\n",
       "      <td>/lib/x86_64-linux-gnu/libselinux.so.1</td>\n",
       "      <td>None</td>\n",
       "    </tr>\n",
       "    <tr>\n",
       "      <th>...</th>\n",
       "      <td>...</td>\n",
       "      <td>...</td>\n",
       "      <td>...</td>\n",
       "      <td>...</td>\n",
       "      <td>...</td>\n",
       "    </tr>\n",
       "    <tr>\n",
       "      <th>2892</th>\n",
       "      <td>0</td>\n",
       "      <td>0</td>\n",
       "      <td>libreadline-dev</td>\n",
       "      <td>&lt;NOFILES&gt;</td>\n",
       "      <td>None</td>\n",
       "    </tr>\n",
       "    <tr>\n",
       "      <th>2893</th>\n",
       "      <td>0</td>\n",
       "      <td>0</td>\n",
       "      <td>notify-osd-icons</td>\n",
       "      <td>&lt;NOFILES&gt;</td>\n",
       "      <td>None</td>\n",
       "    </tr>\n",
       "    <tr>\n",
       "      <th>2894</th>\n",
       "      <td>0</td>\n",
       "      <td>0</td>\n",
       "      <td>python-apt-common</td>\n",
       "      <td>&lt;NOFILES&gt;</td>\n",
       "      <td>None</td>\n",
       "    </tr>\n",
       "    <tr>\n",
       "      <th>2895</th>\n",
       "      <td>0</td>\n",
       "      <td>0</td>\n",
       "      <td>libindicator-messages-status-provider1</td>\n",
       "      <td>&lt;NOFILES&gt;</td>\n",
       "      <td>None</td>\n",
       "    </tr>\n",
       "    <tr>\n",
       "      <th>2896</th>\n",
       "      <td>0</td>\n",
       "      <td>0</td>\n",
       "      <td>libusbmuxd1</td>\n",
       "      <td>&lt;NOFILES&gt;</td>\n",
       "      <td>None</td>\n",
       "    </tr>\n",
       "  </tbody>\n",
       "</table>\n",
       "<p>2897 rows × 5 columns</p>\n",
       "</div>"
      ],
      "text/plain": [
       "           atime       ctime                            package-name  \\\n",
       "0     1387295797  1367633260                               perl-base   \n",
       "1     1387295796  1354370480                                   login   \n",
       "2     1387295743  1354341275                              libtalloc2   \n",
       "3     1387295743  1387224204                            libwbclient0   \n",
       "4     1387295742  1354341253                             libselinux1   \n",
       "...          ...         ...                                     ...   \n",
       "2892           0           0                         libreadline-dev   \n",
       "2893           0           0                        notify-osd-icons   \n",
       "2894           0           0                       python-apt-common   \n",
       "2895           0           0  libindicator-messages-status-provider1   \n",
       "2896           0           0                             libusbmuxd1   \n",
       "\n",
       "                                       mru-program             tag  \n",
       "0                                    /usr/bin/perl            None  \n",
       "1                                          /bin/su            None  \n",
       "2     /usr/lib/x86_64-linux-gnu/libtalloc.so.2.0.7            None  \n",
       "3       /usr/lib/x86_64-linux-gnu/libwbclient.so.0  <RECENT-CTIME>  \n",
       "4            /lib/x86_64-linux-gnu/libselinux.so.1            None  \n",
       "...                                            ...             ...  \n",
       "2892                                     <NOFILES>            None  \n",
       "2893                                     <NOFILES>            None  \n",
       "2894                                     <NOFILES>            None  \n",
       "2895                                     <NOFILES>            None  \n",
       "2896                                     <NOFILES>            None  \n",
       "\n",
       "[2897 rows x 5 columns]"
      ]
     },
     "execution_count": 30,
     "metadata": {},
     "output_type": "execute_result"
    }
   ],
   "source": [
    "root_domain_client = node.login(email=\"info@openmined.org\", password=\"changethis\")\n",
    "\n",
    "popcon.get_from(root_domain_client)"
   ]
  },
  {
   "cell_type": "markdown",
   "id": "e1448504",
   "metadata": {},
   "source": [
    "If we look at the dtype now, it's `<M8[ns]`. As far as I can tell `M8` is secret code for `datetime64`."
   ]
  },
  {
   "cell_type": "code",
   "execution_count": 25,
   "id": "d6624a0d",
   "metadata": {},
   "outputs": [
    {
     "data": {
      "text/markdown": [
       "```python\n",
       "Pointer\n",
       "```\n",
       "dtype('<M8[ns]')"
      ],
      "text/plain": [
       "Pointer:\n",
       "datetime64[ns]"
      ]
     },
     "execution_count": 25,
     "metadata": {},
     "output_type": "execute_result"
    }
   ],
   "source": [
    "popcon['atime'].dtype"
   ]
  },
  {
   "cell_type": "markdown",
   "id": "c657d3e1",
   "metadata": {},
   "source": [
    "So now we can look at our `atime` and `ctime` as dates!"
   ]
  },
  {
   "cell_type": "code",
   "execution_count": 26,
   "id": "24db2605",
   "metadata": {},
   "outputs": [
    {
     "data": {
      "text/html": [
       "<div>\n",
       "<style scoped>\n",
       "    .dataframe tbody tr th:only-of-type {\n",
       "        vertical-align: middle;\n",
       "    }\n",
       "\n",
       "    .dataframe tbody tr th {\n",
       "        vertical-align: top;\n",
       "    }\n",
       "\n",
       "    .dataframe thead th {\n",
       "        text-align: right;\n",
       "    }\n",
       "</style>\n",
       "<table border=\"1\" class=\"dataframe\">\n",
       "  <thead>\n",
       "    <tr style=\"text-align: right;\">\n",
       "      <th></th>\n",
       "      <th>atime</th>\n",
       "      <th>ctime</th>\n",
       "      <th>package-name</th>\n",
       "      <th>mru-program</th>\n",
       "      <th>tag</th>\n",
       "    </tr>\n",
       "  </thead>\n",
       "  <tbody>\n",
       "    <tr>\n",
       "      <th>0</th>\n",
       "      <td>1974-04-19 22:29:54</td>\n",
       "      <td>1974-04-20 11:23:25</td>\n",
       "      <td>libxres-dev</td>\n",
       "      <td>/lib/init/upstart-job</td>\n",
       "      <td>&lt;RECENT-CTIME&gt;</td>\n",
       "    </tr>\n",
       "    <tr>\n",
       "      <th>1</th>\n",
       "      <td>1974-04-17 20:55:19</td>\n",
       "      <td>1974-04-14 22:38:17</td>\n",
       "      <td>libdesktop-agnostic0</td>\n",
       "      <td>/usr/bin/opam</td>\n",
       "      <td>&lt;RECENT-CTIME&gt;</td>\n",
       "    </tr>\n",
       "    <tr>\n",
       "      <th>2</th>\n",
       "      <td>1974-04-14 13:42:03</td>\n",
       "      <td>1974-04-16 14:03:40</td>\n",
       "      <td>libqtdee-dev</td>\n",
       "      <td>/usr/bin/page</td>\n",
       "      <td>&lt;RECENT-CTIME&gt;</td>\n",
       "    </tr>\n",
       "    <tr>\n",
       "      <th>3</th>\n",
       "      <td>1974-04-21 23:41:30</td>\n",
       "      <td>1974-04-20 02:19:49</td>\n",
       "      <td>libqtdee-dev</td>\n",
       "      <td>/usr/bin/page</td>\n",
       "      <td>&lt;OLD&gt;</td>\n",
       "    </tr>\n",
       "    <tr>\n",
       "      <th>4</th>\n",
       "      <td>1974-04-22 21:18:41</td>\n",
       "      <td>1974-04-14 08:17:35</td>\n",
       "      <td>libbsd0</td>\n",
       "      <td>/usr/bin/onboard</td>\n",
       "      <td>&lt;OLD&gt;</td>\n",
       "    </tr>\n",
       "  </tbody>\n",
       "</table>\n",
       "</div>"
      ],
      "text/markdown": [
       "```python\n",
       "TwinPointer(Mock)\n",
       "```\n",
       "                atime               ctime          package-name  \\\n",
       "0 1974-04-19 22:29:54 1974-04-20 11:23:25           libxres-dev   \n",
       "1 1974-04-17 20:55:19 1974-04-14 22:38:17  libdesktop-agnostic0   \n",
       "2 1974-04-14 13:42:03 1974-04-16 14:03:40          libqtdee-dev   \n",
       "3 1974-04-21 23:41:30 1974-04-20 02:19:49          libqtdee-dev   \n",
       "4 1974-04-22 21:18:41 1974-04-14 08:17:35               libbsd0   \n",
       "\n",
       "             mru-program             tag  \n",
       "0  /lib/init/upstart-job  <RECENT-CTIME>  \n",
       "1          /usr/bin/opam  <RECENT-CTIME>  \n",
       "2          /usr/bin/page  <RECENT-CTIME>  \n",
       "3          /usr/bin/page           <OLD>  \n",
       "4       /usr/bin/onboard           <OLD>  "
      ],
      "text/plain": [
       "TwinPointer(Mock):\n",
       "                atime               ctime          package-name  \\\n",
       "0 1974-04-19 22:29:54 1974-04-20 11:23:25           libxres-dev   \n",
       "1 1974-04-17 20:55:19 1974-04-14 22:38:17  libdesktop-agnostic0   \n",
       "2 1974-04-14 13:42:03 1974-04-16 14:03:40          libqtdee-dev   \n",
       "3 1974-04-21 23:41:30 1974-04-20 02:19:49          libqtdee-dev   \n",
       "4 1974-04-22 21:18:41 1974-04-14 08:17:35               libbsd0   \n",
       "\n",
       "             mru-program             tag  \n",
       "0  /lib/init/upstart-job  <RECENT-CTIME>  \n",
       "1          /usr/bin/opam  <RECENT-CTIME>  \n",
       "2          /usr/bin/page  <RECENT-CTIME>  \n",
       "3          /usr/bin/page           <OLD>  \n",
       "4       /usr/bin/onboard           <OLD>  "
      ]
     },
     "execution_count": 26,
     "metadata": {},
     "output_type": "execute_result"
    }
   ],
   "source": [
    "popcon[:5]"
   ]
  },
  {
   "cell_type": "markdown",
   "id": "53aca015",
   "metadata": {},
   "source": [
    "Now suppose we want to look at all packages that aren't libraries."
   ]
  },
  {
   "cell_type": "markdown",
   "id": "b09b8c6e",
   "metadata": {},
   "source": [
    "First, I want to get rid of everything with timestamp 0. Notice how we can just use a string in this comparison, even though it's actually a timestamp on the inside? That is because pandas is amazing.\n"
   ]
  },
  {
   "cell_type": "code",
   "execution_count": 30,
   "id": "db7bb0b8",
   "metadata": {},
   "outputs": [],
   "source": [
    "atime = popcon['atime']"
   ]
  },
  {
   "cell_type": "code",
   "execution_count": 32,
   "id": "f3fa643b",
   "metadata": {},
   "outputs": [],
   "source": [
    "root_domain_client = node.login(email=\"info@openmined.org\", password=\"changethis\")\n",
    "atime_real = atime.get_from(root_domain_client)"
   ]
  },
  {
   "cell_type": "code",
   "execution_count": 35,
   "id": "5fd52f36",
   "metadata": {},
   "outputs": [
    {
     "data": {
      "text/plain": [
       "0       1387295797\n",
       "1       1387295796\n",
       "2       1387295743\n",
       "3       1387295743\n",
       "4       1387295742\n",
       "           ...    \n",
       "2892             0\n",
       "2893             0\n",
       "2894             0\n",
       "2895             0\n",
       "2896             0\n",
       "Name: atime, Length: 2897, dtype: object"
      ]
     },
     "execution_count": 35,
     "metadata": {},
     "output_type": "execute_result"
    }
   ],
   "source": [
    "atime_real"
   ]
  },
  {
   "cell_type": "code",
   "execution_count": 34,
   "id": "26ed5635",
   "metadata": {},
   "outputs": [
    {
     "data": {
      "text/plain": [
       "0"
      ]
     },
     "execution_count": 34,
     "metadata": {},
     "output_type": "execute_result"
    }
   ],
   "source": [
    "(atime_real > '1970-01-01').sum()"
   ]
  },
  {
   "cell_type": "code",
   "execution_count": 27,
   "id": "2e429322",
   "metadata": {},
   "outputs": [],
   "source": [
    "indices = popcon['atime'] > '1970-01-01'"
   ]
  },
  {
   "cell_type": "code",
   "execution_count": 28,
   "id": "fd5485e1",
   "metadata": {},
   "outputs": [
    {
     "data": {
      "text/plain": [
       "0       False\n",
       "1       False\n",
       "2       False\n",
       "3       False\n",
       "4       False\n",
       "        ...  \n",
       "2892    False\n",
       "2893    False\n",
       "2894    False\n",
       "2895    False\n",
       "2896    False\n",
       "Name: atime, Length: 2897, dtype: bool"
      ]
     },
     "execution_count": 28,
     "metadata": {},
     "output_type": "execute_result"
    }
   ],
   "source": [
    "root_domain_client = node.login(email=\"info@openmined.org\", password=\"changethis\")\n",
    "indices.get_from(root_domain_client)"
   ]
  },
  {
   "cell_type": "code",
   "execution_count": 29,
   "id": "e069d604",
   "metadata": {},
   "outputs": [],
   "source": [
    "popcon = popcon[popcon['atime'] > '1970-01-01']"
   ]
  },
  {
   "cell_type": "code",
   "execution_count": 32,
   "id": "5398bf12",
   "metadata": {},
   "outputs": [],
   "source": [
    "# TODO fix"
   ]
  },
  {
   "cell_type": "markdown",
   "id": "54ef1632",
   "metadata": {},
   "source": [
    "Now we can use pandas' magical string abilities to just look at rows where the package name doesn't contain 'lib'."
   ]
  },
  {
   "cell_type": "code",
   "execution_count": 29,
   "id": "afc72d61",
   "metadata": {},
   "outputs": [
    {
     "name": "stderr",
     "output_type": "stream",
     "text": [
      "/Users/koen/workspace/PySyft/packages/syft/src/syft/service/action/action_service.py:626: UserWarning: Boolean Series key will be reindexed to match DataFrame index.\n",
      "  result = target_method(*private_args, **private_kwargs)\n",
      "/Users/koen/workspace/PySyft/packages/syft/src/syft/service/action/action_service.py:633: UserWarning: Boolean Series key will be reindexed to match DataFrame index.\n",
      "  result = target_method(*mock_args, **mock_kwargs)\n"
     ]
    }
   ],
   "source": [
    "nonlibraries = popcon[~popcon['package-name'].str.contains('lib')]"
   ]
  },
  {
   "cell_type": "code",
   "execution_count": 30,
   "id": "9423fad9",
   "metadata": {},
   "outputs": [
    {
     "data": {
      "text/html": [
       "<div>\n",
       "<style scoped>\n",
       "    .dataframe tbody tr th:only-of-type {\n",
       "        vertical-align: middle;\n",
       "    }\n",
       "\n",
       "    .dataframe tbody tr th {\n",
       "        vertical-align: top;\n",
       "    }\n",
       "\n",
       "    .dataframe thead th {\n",
       "        text-align: right;\n",
       "    }\n",
       "</style>\n",
       "<table border=\"1\" class=\"dataframe\">\n",
       "  <thead>\n",
       "    <tr style=\"text-align: right;\">\n",
       "      <th></th>\n",
       "      <th>atime</th>\n",
       "      <th>ctime</th>\n",
       "      <th>package-name</th>\n",
       "      <th>mru-program</th>\n",
       "      <th>tag</th>\n",
       "    </tr>\n",
       "  </thead>\n",
       "  <tbody>\n",
       "    <tr>\n",
       "      <th>2429</th>\n",
       "      <td>1974-04-21 07:38:42</td>\n",
       "      <td>1974-04-24 00:51:35</td>\n",
       "      <td>geoclue-ubuntu-geoip</td>\n",
       "      <td>/lib/init/upstart-job</td>\n",
       "      <td>&lt;OLD&gt;</td>\n",
       "    </tr>\n",
       "    <tr>\n",
       "      <th>15</th>\n",
       "      <td>1974-04-14 20:18:08</td>\n",
       "      <td>1974-04-24 00:44:31</td>\n",
       "      <td>ubuntu-extras-keyring</td>\n",
       "      <td>/lib/init/upstart-job</td>\n",
       "      <td>&lt;RECENT-CTIME&gt;</td>\n",
       "    </tr>\n",
       "    <tr>\n",
       "      <th>65</th>\n",
       "      <td>1974-04-15 03:48:40</td>\n",
       "      <td>1974-04-24 00:34:00</td>\n",
       "      <td>ubuntu-extras-keyring</td>\n",
       "      <td>/usr/bin/opam</td>\n",
       "      <td>&lt;RECENT-CTIME&gt;</td>\n",
       "    </tr>\n",
       "    <tr>\n",
       "      <th>129</th>\n",
       "      <td>1974-04-17 12:10:50</td>\n",
       "      <td>1974-04-23 23:25:40</td>\n",
       "      <td>geoclue-ubuntu-geoip</td>\n",
       "      <td>/usr/bin/onboard</td>\n",
       "      <td>&lt;RECENT-CTIME&gt;</td>\n",
       "    </tr>\n",
       "    <tr>\n",
       "      <th>1445</th>\n",
       "      <td>1974-04-22 22:14:00</td>\n",
       "      <td>1974-04-23 23:24:52</td>\n",
       "      <td>geoclue-ubuntu-geoip</td>\n",
       "      <td>/usr/bin/opam</td>\n",
       "      <td>nan</td>\n",
       "    </tr>\n",
       "    <tr>\n",
       "      <th>548</th>\n",
       "      <td>1974-04-17 20:32:32</td>\n",
       "      <td>1974-04-23 23:12:32</td>\n",
       "      <td>geoclue-ubuntu-geoip</td>\n",
       "      <td>/usr/bin/onboard</td>\n",
       "      <td>&lt;RECENT-CTIME&gt;</td>\n",
       "    </tr>\n",
       "    <tr>\n",
       "      <th>3</th>\n",
       "      <td>1974-04-15 06:44:45</td>\n",
       "      <td>1974-04-23 23:01:06</td>\n",
       "      <td>ubuntu-extras-keyring</td>\n",
       "      <td>/usr/bin/page</td>\n",
       "      <td>&lt;RECENT-CTIME&gt;</td>\n",
       "    </tr>\n",
       "    <tr>\n",
       "      <th>93</th>\n",
       "      <td>1974-04-15 04:27:20</td>\n",
       "      <td>1974-04-23 22:58:27</td>\n",
       "      <td>geoclue-ubuntu-geoip</td>\n",
       "      <td>/usr/bin/page</td>\n",
       "      <td>nan</td>\n",
       "    </tr>\n",
       "    <tr>\n",
       "      <th>639</th>\n",
       "      <td>1974-04-23 17:29:56</td>\n",
       "      <td>1974-04-23 22:51:39</td>\n",
       "      <td>geoclue-ubuntu-geoip</td>\n",
       "      <td>/usr/bin/opam</td>\n",
       "      <td>&lt;OLD&gt;</td>\n",
       "    </tr>\n",
       "    <tr>\n",
       "      <th>174</th>\n",
       "      <td>1974-04-19 15:24:15</td>\n",
       "      <td>1974-04-23 22:00:50</td>\n",
       "      <td>geoclue-ubuntu-geoip</td>\n",
       "      <td>/usr/bin/onboard</td>\n",
       "      <td>&lt;OLD&gt;</td>\n",
       "    </tr>\n",
       "  </tbody>\n",
       "</table>\n",
       "</div>"
      ],
      "text/markdown": [
       "```python\n",
       "TwinPointer(Mock)\n",
       "```\n",
       "                   atime               ctime           package-name  \\\n",
       "2429 1974-04-21 07:38:42 1974-04-24 00:51:35   geoclue-ubuntu-geoip   \n",
       "15   1974-04-14 20:18:08 1974-04-24 00:44:31  ubuntu-extras-keyring   \n",
       "65   1974-04-15 03:48:40 1974-04-24 00:34:00  ubuntu-extras-keyring   \n",
       "129  1974-04-17 12:10:50 1974-04-23 23:25:40   geoclue-ubuntu-geoip   \n",
       "1445 1974-04-22 22:14:00 1974-04-23 23:24:52   geoclue-ubuntu-geoip   \n",
       "548  1974-04-17 20:32:32 1974-04-23 23:12:32   geoclue-ubuntu-geoip   \n",
       "3    1974-04-15 06:44:45 1974-04-23 23:01:06  ubuntu-extras-keyring   \n",
       "93   1974-04-15 04:27:20 1974-04-23 22:58:27   geoclue-ubuntu-geoip   \n",
       "639  1974-04-23 17:29:56 1974-04-23 22:51:39   geoclue-ubuntu-geoip   \n",
       "174  1974-04-19 15:24:15 1974-04-23 22:00:50   geoclue-ubuntu-geoip   \n",
       "\n",
       "                mru-program             tag  \n",
       "2429  /lib/init/upstart-job           <OLD>  \n",
       "15    /lib/init/upstart-job  <RECENT-CTIME>  \n",
       "65            /usr/bin/opam  <RECENT-CTIME>  \n",
       "129        /usr/bin/onboard  <RECENT-CTIME>  \n",
       "1445          /usr/bin/opam             nan  \n",
       "548        /usr/bin/onboard  <RECENT-CTIME>  \n",
       "3             /usr/bin/page  <RECENT-CTIME>  \n",
       "93            /usr/bin/page             nan  \n",
       "639           /usr/bin/opam           <OLD>  \n",
       "174        /usr/bin/onboard           <OLD>  "
      ],
      "text/plain": [
       "TwinPointer(Mock):\n",
       "                   atime               ctime           package-name  \\\n",
       "2429 1974-04-21 07:38:42 1974-04-24 00:51:35   geoclue-ubuntu-geoip   \n",
       "15   1974-04-14 20:18:08 1974-04-24 00:44:31  ubuntu-extras-keyring   \n",
       "65   1974-04-15 03:48:40 1974-04-24 00:34:00  ubuntu-extras-keyring   \n",
       "129  1974-04-17 12:10:50 1974-04-23 23:25:40   geoclue-ubuntu-geoip   \n",
       "1445 1974-04-22 22:14:00 1974-04-23 23:24:52   geoclue-ubuntu-geoip   \n",
       "548  1974-04-17 20:32:32 1974-04-23 23:12:32   geoclue-ubuntu-geoip   \n",
       "3    1974-04-15 06:44:45 1974-04-23 23:01:06  ubuntu-extras-keyring   \n",
       "93   1974-04-15 04:27:20 1974-04-23 22:58:27   geoclue-ubuntu-geoip   \n",
       "639  1974-04-23 17:29:56 1974-04-23 22:51:39   geoclue-ubuntu-geoip   \n",
       "174  1974-04-19 15:24:15 1974-04-23 22:00:50   geoclue-ubuntu-geoip   \n",
       "\n",
       "                mru-program             tag  \n",
       "2429  /lib/init/upstart-job           <OLD>  \n",
       "15    /lib/init/upstart-job  <RECENT-CTIME>  \n",
       "65            /usr/bin/opam  <RECENT-CTIME>  \n",
       "129        /usr/bin/onboard  <RECENT-CTIME>  \n",
       "1445          /usr/bin/opam             nan  \n",
       "548        /usr/bin/onboard  <RECENT-CTIME>  \n",
       "3             /usr/bin/page  <RECENT-CTIME>  \n",
       "93            /usr/bin/page             nan  \n",
       "639           /usr/bin/opam           <OLD>  \n",
       "174        /usr/bin/onboard           <OLD>  "
      ]
     },
     "execution_count": 30,
     "metadata": {},
     "output_type": "execute_result"
    }
   ],
   "source": [
    "nonlibraries.sort_values('ctime', ascending=False)[:10]"
   ]
  },
  {
   "cell_type": "markdown",
   "id": "33235394",
   "metadata": {},
   "source": [
    "Okay, cool, it says that I I installed ddd recently. And postgresql! I remember installing those things. Neat.\n",
    "\n",
    "The whole message here is that if you have a timestamp in seconds or milliseconds or nanoseconds, then you can just \"cast\" it to a `'datetime64[the-right-thing]'` and pandas/numpy will take care of the rest."
   ]
  },
  {
   "cell_type": "markdown",
   "id": "3ad300a3",
   "metadata": {},
   "source": [
    "## Requesting result"
   ]
  },
  {
   "cell_type": "code",
   "execution_count": 31,
   "id": "71417d4d",
   "metadata": {},
   "outputs": [
    {
     "data": {
      "text/markdown": [
       "```python\n",
       "class Request:\n",
       "  id: str = 739c91bf8fea4030b62ba10d880500df\n",
       "  requesting_user_verify_key: str = 1f670aef2b4ee98d980264dabe7446269aa873a490cd924c844579a6527824ac\n",
       "  approving_user_verify_key: str = None\n",
       "  request_time: str = 2023-05-22 07:12:54\n",
       "  approval_time: str = None\n",
       "  status: str = RequestStatus.PENDING\n",
       "  node_uid: str = 281e55cb3425360e464682cfb4672fcb\n",
       "  request_hash: str = \"eccb151507802b8363a316b51dc0211bbe7c93c375fa8af87285ca253250caa9\"\n",
       "  changes: str = [syft.service.request.request.ActionStoreChange]\n",
       "\n",
       "```"
      ],
      "text/plain": [
       "syft.service.request.request.Request"
      ]
     },
     "execution_count": 31,
     "metadata": {},
     "output_type": "execute_result"
    }
   ],
   "source": [
    "nonlibraries.request(guest_client)"
   ]
  },
  {
   "cell_type": "markdown",
   "id": "64ce88bd",
   "metadata": {},
   "source": [
    "# Data owner: accept request"
   ]
  },
  {
   "cell_type": "code",
   "execution_count": 32,
   "id": "4046e05a",
   "metadata": {},
   "outputs": [],
   "source": [
    "root_domain_client = node.login(email=\"info@openmined.org\", password=\"changethis\")"
   ]
  },
  {
   "cell_type": "code",
   "execution_count": 34,
   "id": "889d92ba",
   "metadata": {},
   "outputs": [
    {
     "data": {
      "text/html": [
       "<div class=\"alert-success\" style=\"padding:5px;\"><strong>SyftSuccess</strong>: Request 739c91bf8fea4030b62ba10d880500df changes applied</div><br />"
      ],
      "text/plain": [
       "<class 'syft.service.response.SyftSuccess'>: Request 739c91bf8fea4030b62ba10d880500df changes applied"
      ]
     },
     "execution_count": 34,
     "metadata": {},
     "output_type": "execute_result"
    }
   ],
   "source": [
    "root_domain_client.api.services.request[0].approve()"
   ]
  },
  {
   "cell_type": "markdown",
   "id": "d23c84c2",
   "metadata": {},
   "source": [
    "# Data Owner: fetch result"
   ]
  },
  {
   "cell_type": "code",
   "execution_count": 35,
   "id": "b302702f",
   "metadata": {},
   "outputs": [],
   "source": [
    "guest_client = guest_domain_client.login(email=\"jane@caltech.edu\", password=\"abc123\")"
   ]
  },
  {
   "cell_type": "code",
   "execution_count": 36,
   "id": "48d17886",
   "metadata": {},
   "outputs": [],
   "source": [
    "real_result = nonlibraries.get_from(guest_client)"
   ]
  },
  {
   "cell_type": "code",
   "execution_count": 37,
   "id": "66aa7623",
   "metadata": {},
   "outputs": [
    {
     "data": {
      "text/html": [
       "<div>\n",
       "<style scoped>\n",
       "    .dataframe tbody tr th:only-of-type {\n",
       "        vertical-align: middle;\n",
       "    }\n",
       "\n",
       "    .dataframe tbody tr th {\n",
       "        vertical-align: top;\n",
       "    }\n",
       "\n",
       "    .dataframe thead th {\n",
       "        text-align: right;\n",
       "    }\n",
       "</style>\n",
       "<table border=\"1\" class=\"dataframe\">\n",
       "  <thead>\n",
       "    <tr style=\"text-align: right;\">\n",
       "      <th></th>\n",
       "      <th>atime</th>\n",
       "      <th>ctime</th>\n",
       "      <th>package-name</th>\n",
       "      <th>mru-program</th>\n",
       "      <th>tag</th>\n",
       "    </tr>\n",
       "  </thead>\n",
       "  <tbody>\n",
       "  </tbody>\n",
       "</table>\n",
       "</div>"
      ],
      "text/plain": [
       "Empty DataFrame\n",
       "Columns: [atime, ctime, package-name, mru-program, tag]\n",
       "Index: []"
      ]
     },
     "execution_count": 37,
     "metadata": {},
     "output_type": "execute_result"
    }
   ],
   "source": [
    "real_result"
   ]
  },
  {
   "cell_type": "code",
   "execution_count": 38,
   "id": "ed3c5e38",
   "metadata": {},
   "outputs": [],
   "source": [
    "node.land()"
   ]
  }
 ],
 "metadata": {
  "kernelspec": {
   "display_name": "Python 3 (ipykernel)",
   "language": "python",
   "name": "python3"
  },
  "language_info": {
   "codemirror_mode": {
    "name": "ipython",
    "version": 3
   },
   "file_extension": ".py",
   "mimetype": "text/x-python",
   "name": "python",
   "nbconvert_exporter": "python",
   "pygments_lexer": "ipython3",
   "version": "3.9.16"
  },
  "toc": {
   "base_numbering": 1,
   "nav_menu": {},
   "number_sections": true,
   "sideBar": true,
   "skip_h1_title": false,
   "title_cell": "Table of Contents",
   "title_sidebar": "Contents",
   "toc_cell": false,
   "toc_position": {
    "height": "calc(100% - 180px)",
    "left": "10px",
    "top": "150px",
    "width": "358.398px"
   },
   "toc_section_display": true,
   "toc_window_display": true
  }
 },
 "nbformat": 4,
 "nbformat_minor": 5
}
