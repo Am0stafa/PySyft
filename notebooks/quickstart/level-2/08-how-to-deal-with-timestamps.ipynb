{
 "cells": [
  {
   "cell_type": "markdown",
   "id": "2a6747c8",
   "metadata": {},
   "source": [
    "# How to deal with timestamps"
   ]
  },
  {
   "cell_type": "markdown",
   "id": "5144da74",
   "metadata": {},
   "source": [
    "## Install"
   ]
  },
  {
   "cell_type": "code",
   "execution_count": 1,
   "id": "66c14a6b",
   "metadata": {},
   "outputs": [],
   "source": [
    "SYFT_VERSION = \">=0.8.1b0,<0.9\"\n",
    "package_string = f'\"syft{SYFT_VERSION}\"'\n",
    "# !pip install {package_string} -f https://whls.blob.core.windows.net/unstable/index.html -q"
   ]
  },
  {
   "cell_type": "code",
   "execution_count": 2,
   "id": "74a3a9fb",
   "metadata": {},
   "outputs": [
    {
     "name": "stderr",
     "output_type": "stream",
     "text": [
      "kj/filesystem-disk-unix.c++:1703: warning: PWD environment variable doesn't match current directory; pwd = /Users/koen/workspace/PySyft\n"
     ]
    },
    {
     "name": "stdout",
     "output_type": "stream",
     "text": [
      "✅ The installed version of syft==0.8.1b2 matches the requirement >=0.8.1b0 and the requirement <0.9\n"
     ]
    }
   ],
   "source": [
    "import syft as sy\n",
    "sy.requires(SYFT_VERSION)"
   ]
  },
  {
   "cell_type": "code",
   "execution_count": 3,
   "id": "cbce68c1",
   "metadata": {},
   "outputs": [
    {
     "name": "stdout",
     "output_type": "stream",
     "text": [
      "SQLite Store Path:\n",
      "!open file:///var/folders/q1/ryq93kwj055dlbpngxv1c7z40000gn/T/281e55cb3425360e464682cfb4672fcb.sqlite\n",
      "\n"
     ]
    }
   ],
   "source": [
    "node = sy.orchestra.launch(name=\"pandas-test-domain-1\", reset=True)"
   ]
  },
  {
   "cell_type": "markdown",
   "id": "ec3bce2f",
   "metadata": {},
   "source": [
    "# Data owner: upload dataset"
   ]
  },
  {
   "cell_type": "code",
   "execution_count": 5,
   "id": "dc5a5a72",
   "metadata": {},
   "outputs": [],
   "source": [
    "root_domain_client = node.login(email=\"info@openmined.org\", password=\"changethis\")"
   ]
  },
  {
   "cell_type": "markdown",
   "id": "da0cf39a",
   "metadata": {},
   "source": [
    "## Load data"
   ]
  },
  {
   "cell_type": "markdown",
   "id": "ddb684cf",
   "metadata": {},
   "source": [
    "It's not obvious how to deal with Unix timestamps in pandas -- it took me quite a while to figure this out. The file we're using here is a popularity-contest file I found on my system at /var/log/popularity-contest."
   ]
  },
  {
   "cell_type": "code",
   "execution_count": 6,
   "id": "29334026",
   "metadata": {},
   "outputs": [],
   "source": [
    "%matplotlib inline\n",
    "import pandas as pd\n",
    "import matplotlib.pyplot as plt\n",
    "import numpy as np\n",
    "from syft.service.project.project import Project\n",
    "from syft.util.util import autocache, PANDAS_DATA\n",
    "\n",
    "plt.style.use('ggplot')\n",
    "plt.rcParams['figure.figsize'] = (15, 3)\n",
    "plt.rcParams['font.family'] = 'sans-serif'"
   ]
  },
  {
   "cell_type": "code",
   "execution_count": 7,
   "id": "01ccd135",
   "metadata": {},
   "outputs": [],
   "source": [
    "popcon = pd.read_csv(autocache(f\"{PANDAS_DATA}/popularity-contest\"), sep=' ', )[:-1]\n",
    "popcon.columns = ['atime', 'ctime', 'package-name', 'mru-program', 'tag']"
   ]
  },
  {
   "cell_type": "code",
   "execution_count": 8,
   "id": "c9fe710c",
   "metadata": {},
   "outputs": [
    {
     "data": {
      "text/plain": [
       "{'<OLD>', '<RECENT-CTIME>', nan}"
      ]
     },
     "execution_count": 8,
     "metadata": {},
     "output_type": "execute_result"
    }
   ],
   "source": [
    "set(popcon[\"tag\"])"
   ]
  },
  {
   "cell_type": "markdown",
   "id": "409c477e",
   "metadata": {},
   "source": [
    "## Create mock data"
   ]
  },
  {
   "cell_type": "markdown",
   "id": "2c4999d5",
   "metadata": {},
   "source": [
    "Lets create a mock dataset"
   ]
  },
  {
   "cell_type": "code",
   "execution_count": 9,
   "id": "4a0fe359",
   "metadata": {},
   "outputs": [],
   "source": [
    "# weather_types = set(weather_2012_final.Weather.to_list())"
   ]
  },
  {
   "cell_type": "code",
   "execution_count": 10,
   "id": "d2ddc88d",
   "metadata": {},
   "outputs": [],
   "source": [
    "from random import randint\n",
    "import random"
   ]
  },
  {
   "cell_type": "code",
   "execution_count": 11,
   "id": "35bfb68b",
   "metadata": {},
   "outputs": [],
   "source": [
    "def get_random_timestamp():\n",
    "    return \"135\" + \"\".join([str(randint(0,9)) for i in range(6)])"
   ]
  },
  {
   "cell_type": "code",
   "execution_count": 12,
   "id": "7db7b9af",
   "metadata": {},
   "outputs": [],
   "source": [
    "def get_mock_date(i):\n",
    "    return str(parse('Jun 1 2010') + timedelta(days=i))\n",
    "\n",
    "def get_mock_row(i):\n",
    "    res = dict()\n",
    "    for k, function in mock_functions.items():\n",
    "        res[k] = function()\n",
    "    return res\n",
    "    "
   ]
  },
  {
   "cell_type": "code",
   "execution_count": 13,
   "id": "090f5a59",
   "metadata": {},
   "outputs": [],
   "source": [
    "mock_functions = {'atime': lambda: get_random_timestamp(),\n",
    "                  'ctime': lambda: get_random_timestamp(),\n",
    "                  'package-name': lambda: random.choice([\n",
    "                      'libghc-stm-dev',\n",
    "                      'libqtdee-dev',\n",
    "                      'geoclue-ubuntu-geoip',\n",
    "                      'libdesktop-agnostic0',\n",
    "                      'ubuntu-extras-keyring',\n",
    "                      'libbsd0',\n",
    "                      'libxres-dev']),\n",
    "                  'mru-program': lambda: random.choice([\n",
    "                      '/usr/bin/opam',\n",
    "                      '/usr/bin/onboard',\n",
    "                      '/lib/init/upstart-job',\n",
    "                      '/usr/bin/page',\n",
    "                  ]),\n",
    "                  'tag': lambda: random.choice(['<OLD>', '<RECENT-CTIME>', 'nan'])}\n"
   ]
  },
  {
   "cell_type": "code",
   "execution_count": 14,
   "id": "7a7e70a6",
   "metadata": {},
   "outputs": [],
   "source": [
    "mock = pd.DataFrame(data=[get_mock_row(i) for i in range(len(popcon))],\n",
    "                    columns=popcon.columns)\n",
    "    \n"
   ]
  },
  {
   "cell_type": "markdown",
   "id": "d11fc4b8",
   "metadata": {},
   "source": [
    "Upload the data"
   ]
  },
  {
   "cell_type": "code",
   "execution_count": 15,
   "id": "e370b8b3",
   "metadata": {},
   "outputs": [
    {
     "name": "stderr",
     "output_type": "stream",
     "text": [
      "\r",
      "  0%|                                                                                                                 | 0/1 [00:00<?, ?it/s]"
     ]
    },
    {
     "name": "stdout",
     "output_type": "stream",
     "text": [
      "Uploading: weather\n"
     ]
    },
    {
     "name": "stderr",
     "output_type": "stream",
     "text": [
      "100%|█████████████████████████████████████████████████████████████████████████████████████████████████████████| 1/1 [00:00<00:00,  4.16it/s]\n"
     ]
    },
    {
     "data": {
      "text/html": [
       "<div class=\"alert-success\" style=\"padding:5px;\"><strong>SyftSuccess</strong>: Dataset Added</div><br />"
      ],
      "text/plain": [
       "<class 'syft.service.response.SyftSuccess'>: Dataset Added"
      ]
     },
     "execution_count": 15,
     "metadata": {},
     "output_type": "execute_result"
    }
   ],
   "source": [
    "dataset = sy.Dataset(name=\"test\", asset_list=[sy.Asset(name=f\"weather\", data=popcon,\n",
    "                                                       mock=mock, mock_is_real=False)])\n",
    "root_domain_client.upload_dataset(dataset)\n"
   ]
  },
  {
   "cell_type": "code",
   "execution_count": 16,
   "id": "3eb6aef9",
   "metadata": {},
   "outputs": [
    {
     "data": {
      "text/html": [
       "<div>\n",
       "<style scoped>\n",
       "    .dataframe tbody tr th:only-of-type {\n",
       "        vertical-align: middle;\n",
       "    }\n",
       "\n",
       "    .dataframe tbody tr th {\n",
       "        vertical-align: top;\n",
       "    }\n",
       "\n",
       "    .dataframe thead th {\n",
       "        text-align: right;\n",
       "    }\n",
       "</style>\n",
       "<table border=\"1\" class=\"dataframe\">\n",
       "  <thead>\n",
       "    <tr style=\"text-align: right;\">\n",
       "      <th></th>\n",
       "      <th>atime</th>\n",
       "      <th>ctime</th>\n",
       "      <th>package-name</th>\n",
       "      <th>mru-program</th>\n",
       "      <th>tag</th>\n",
       "    </tr>\n",
       "  </thead>\n",
       "  <tbody>\n",
       "    <tr>\n",
       "      <th>0</th>\n",
       "      <td>1387295797</td>\n",
       "      <td>1367633260</td>\n",
       "      <td>perl-base</td>\n",
       "      <td>/usr/bin/perl</td>\n",
       "      <td>NaN</td>\n",
       "    </tr>\n",
       "    <tr>\n",
       "      <th>1</th>\n",
       "      <td>1387295796</td>\n",
       "      <td>1354370480</td>\n",
       "      <td>login</td>\n",
       "      <td>/bin/su</td>\n",
       "      <td>NaN</td>\n",
       "    </tr>\n",
       "    <tr>\n",
       "      <th>2</th>\n",
       "      <td>1387295743</td>\n",
       "      <td>1354341275</td>\n",
       "      <td>libtalloc2</td>\n",
       "      <td>/usr/lib/x86_64-linux-gnu/libtalloc.so.2.0.7</td>\n",
       "      <td>NaN</td>\n",
       "    </tr>\n",
       "    <tr>\n",
       "      <th>3</th>\n",
       "      <td>1387295743</td>\n",
       "      <td>1387224204</td>\n",
       "      <td>libwbclient0</td>\n",
       "      <td>/usr/lib/x86_64-linux-gnu/libwbclient.so.0</td>\n",
       "      <td>&lt;RECENT-CTIME&gt;</td>\n",
       "    </tr>\n",
       "    <tr>\n",
       "      <th>4</th>\n",
       "      <td>1387295742</td>\n",
       "      <td>1354341253</td>\n",
       "      <td>libselinux1</td>\n",
       "      <td>/lib/x86_64-linux-gnu/libselinux.so.1</td>\n",
       "      <td>NaN</td>\n",
       "    </tr>\n",
       "  </tbody>\n",
       "</table>\n",
       "</div>"
      ],
      "text/plain": [
       "        atime       ctime  package-name  \\\n",
       "0  1387295797  1367633260     perl-base   \n",
       "1  1387295796  1354370480         login   \n",
       "2  1387295743  1354341275    libtalloc2   \n",
       "3  1387295743  1387224204  libwbclient0   \n",
       "4  1387295742  1354341253   libselinux1   \n",
       "\n",
       "                                    mru-program             tag  \n",
       "0                                 /usr/bin/perl             NaN  \n",
       "1                                       /bin/su             NaN  \n",
       "2  /usr/lib/x86_64-linux-gnu/libtalloc.so.2.0.7             NaN  \n",
       "3    /usr/lib/x86_64-linux-gnu/libwbclient.so.0  <RECENT-CTIME>  \n",
       "4         /lib/x86_64-linux-gnu/libselinux.so.1             NaN  "
      ]
     },
     "execution_count": 16,
     "metadata": {},
     "output_type": "execute_result"
    }
   ],
   "source": [
    "popcon.head()"
   ]
  },
  {
   "cell_type": "markdown",
   "id": "61a1069e",
   "metadata": {},
   "source": [
    "## Create user account"
   ]
  },
  {
   "cell_type": "code",
   "execution_count": 17,
   "id": "5124df8c",
   "metadata": {},
   "outputs": [],
   "source": [
    "user = root_domain_client.register(name=\"Jane Doe\", email=\"jane@caltech.edu\",\n",
    "                            password=\"abc123\", institution=\"Caltech\", website=\"https://www.caltech.edu/\")\n",
    "# todo: give user data scientist role\n",
    "guest_domain_client = node.client\n",
    "guest_client = guest_domain_client.login(email=\"jane@caltech.edu\", password=\"abc123\")"
   ]
  },
  {
   "cell_type": "markdown",
   "id": "4c0f22af",
   "metadata": {},
   "source": [
    "# Data scientist: create result pointer"
   ]
  },
  {
   "cell_type": "code",
   "execution_count": 18,
   "id": "e0f665a0",
   "metadata": {},
   "outputs": [],
   "source": [
    "import numpy as np\n",
    "import pandas as pd"
   ]
  },
  {
   "cell_type": "markdown",
   "id": "c52d6d1c",
   "metadata": {},
   "source": [
    "## Summary\n",
    "\n",
    "It's not obvious how to deal with Unix timestamps in pandas -- it took me quite a while to figure this out. The file we're using here is a popularity-contest file I found on my system at `/var/log/popularity-contest`."
   ]
  },
  {
   "cell_type": "markdown",
   "id": "8c63f823",
   "metadata": {},
   "source": [
    "## Get mocks"
   ]
  },
  {
   "cell_type": "code",
   "execution_count": 19,
   "id": "81c7f134",
   "metadata": {},
   "outputs": [],
   "source": [
    "ds = guest_domain_client.datasets[0]"
   ]
  },
  {
   "cell_type": "code",
   "execution_count": 20,
   "id": "24cac2dc",
   "metadata": {},
   "outputs": [],
   "source": [
    "asset = ds.assets[0]"
   ]
  },
  {
   "cell_type": "code",
   "execution_count": 21,
   "id": "82f805be",
   "metadata": {},
   "outputs": [],
   "source": [
    "popcon = asset.mock"
   ]
  },
  {
   "cell_type": "markdown",
   "id": "d9ed60db",
   "metadata": {},
   "source": [
    "## Parsing Unix timestamps"
   ]
  },
  {
   "cell_type": "markdown",
   "id": "d6440d74",
   "metadata": {},
   "source": [
    "The colums are the access time, created time, package name, recently used program, and a tag\n",
    "\n"
   ]
  },
  {
   "cell_type": "code",
   "execution_count": 22,
   "id": "3588b429",
   "metadata": {},
   "outputs": [
    {
     "data": {
      "text/html": [
       "<div>\n",
       "<style scoped>\n",
       "    .dataframe tbody tr th:only-of-type {\n",
       "        vertical-align: middle;\n",
       "    }\n",
       "\n",
       "    .dataframe tbody tr th {\n",
       "        vertical-align: top;\n",
       "    }\n",
       "\n",
       "    .dataframe thead th {\n",
       "        text-align: right;\n",
       "    }\n",
       "</style>\n",
       "<table border=\"1\" class=\"dataframe\">\n",
       "  <thead>\n",
       "    <tr style=\"text-align: right;\">\n",
       "      <th></th>\n",
       "      <th>atime</th>\n",
       "      <th>ctime</th>\n",
       "      <th>package-name</th>\n",
       "      <th>mru-program</th>\n",
       "      <th>tag</th>\n",
       "    </tr>\n",
       "  </thead>\n",
       "  <tbody>\n",
       "    <tr>\n",
       "      <th>0</th>\n",
       "      <td>135901774</td>\n",
       "      <td>135598185</td>\n",
       "      <td>libghc-stm-dev</td>\n",
       "      <td>/usr/bin/opam</td>\n",
       "      <td>nan</td>\n",
       "    </tr>\n",
       "    <tr>\n",
       "      <th>1</th>\n",
       "      <td>135018202</td>\n",
       "      <td>135328344</td>\n",
       "      <td>libqtdee-dev</td>\n",
       "      <td>/usr/bin/opam</td>\n",
       "      <td>&lt;RECENT-CTIME&gt;</td>\n",
       "    </tr>\n",
       "    <tr>\n",
       "      <th>2</th>\n",
       "      <td>135338223</td>\n",
       "      <td>135642081</td>\n",
       "      <td>libqtdee-dev</td>\n",
       "      <td>/usr/bin/opam</td>\n",
       "      <td>nan</td>\n",
       "    </tr>\n",
       "    <tr>\n",
       "      <th>3</th>\n",
       "      <td>135811863</td>\n",
       "      <td>135882106</td>\n",
       "      <td>libdesktop-agnostic0</td>\n",
       "      <td>/lib/init/upstart-job</td>\n",
       "      <td>&lt;RECENT-CTIME&gt;</td>\n",
       "    </tr>\n",
       "    <tr>\n",
       "      <th>4</th>\n",
       "      <td>135465700</td>\n",
       "      <td>135768091</td>\n",
       "      <td>libbsd0</td>\n",
       "      <td>/lib/init/upstart-job</td>\n",
       "      <td>&lt;RECENT-CTIME&gt;</td>\n",
       "    </tr>\n",
       "  </tbody>\n",
       "</table>\n",
       "</div>"
      ],
      "text/markdown": [
       "```python\n",
       "TwinPointer(Mock)\n",
       "```\n",
       "       atime      ctime          package-name            mru-program  \\\n",
       "0  135901774  135598185        libghc-stm-dev          /usr/bin/opam   \n",
       "1  135018202  135328344          libqtdee-dev          /usr/bin/opam   \n",
       "2  135338223  135642081          libqtdee-dev          /usr/bin/opam   \n",
       "3  135811863  135882106  libdesktop-agnostic0  /lib/init/upstart-job   \n",
       "4  135465700  135768091               libbsd0  /lib/init/upstart-job   \n",
       "\n",
       "              tag  \n",
       "0             nan  \n",
       "1  <RECENT-CTIME>  \n",
       "2             nan  \n",
       "3  <RECENT-CTIME>  \n",
       "4  <RECENT-CTIME>  "
      ],
      "text/plain": [
       "TwinPointer(Mock):\n",
       "       atime      ctime          package-name            mru-program  \\\n",
       "0  135901774  135598185        libghc-stm-dev          /usr/bin/opam   \n",
       "1  135018202  135328344          libqtdee-dev          /usr/bin/opam   \n",
       "2  135338223  135642081          libqtdee-dev          /usr/bin/opam   \n",
       "3  135811863  135882106  libdesktop-agnostic0  /lib/init/upstart-job   \n",
       "4  135465700  135768091               libbsd0  /lib/init/upstart-job   \n",
       "\n",
       "              tag  \n",
       "0             nan  \n",
       "1  <RECENT-CTIME>  \n",
       "2             nan  \n",
       "3  <RECENT-CTIME>  \n",
       "4  <RECENT-CTIME>  "
      ]
     },
     "execution_count": 22,
     "metadata": {},
     "output_type": "execute_result"
    }
   ],
   "source": [
    "popcon[:5]"
   ]
  },
  {
   "cell_type": "markdown",
   "id": "d464243c",
   "metadata": {},
   "source": [
    "The magical part about parsing timestamps in pandas is that numpy datetimes are already stored as Unix timestamps. So all we need to do is tell pandas that these integers are actually datetimes -- it doesn't need to do any conversion at all.\n",
    "\n",
    "We need to convert these to ints to start:"
   ]
  },
  {
   "cell_type": "code",
   "execution_count": 23,
   "id": "d2dbcc32",
   "metadata": {},
   "outputs": [],
   "source": [
    "popcon['atime'] = popcon['atime'].astype(int)\n",
    "popcon['ctime'] = popcon['ctime'].astype(int)"
   ]
  },
  {
   "cell_type": "markdown",
   "id": "b510b9c8",
   "metadata": {},
   "source": [
    "Every numpy array and pandas series has a dtype -- this is usually `int64`, `float64`, or `object`. Some of the time types available are `datetime64[s]`, `datetime64[ms]`, and `datetime64[us]`. There are also `timedelta` types, similarly.\n",
    "\n",
    "We can use the `pd.to_datetime` function to convert our integer timestamps into datetimes. This is a constant-time operation -- we're not actually changing any of the data, just how pandas thinks about it."
   ]
  },
  {
   "cell_type": "code",
   "execution_count": 24,
   "id": "c8736589",
   "metadata": {},
   "outputs": [
    {
     "data": {
      "text/html": [
       "<div>\n",
       "<style scoped>\n",
       "    .dataframe tbody tr th:only-of-type {\n",
       "        vertical-align: middle;\n",
       "    }\n",
       "\n",
       "    .dataframe tbody tr th {\n",
       "        vertical-align: top;\n",
       "    }\n",
       "\n",
       "    .dataframe thead th {\n",
       "        text-align: right;\n",
       "    }\n",
       "</style>\n",
       "<table border=\"1\" class=\"dataframe\">\n",
       "  <thead>\n",
       "    <tr style=\"text-align: right;\">\n",
       "      <th></th>\n",
       "      <th>atime</th>\n",
       "      <th>ctime</th>\n",
       "      <th>package-name</th>\n",
       "      <th>mru-program</th>\n",
       "      <th>tag</th>\n",
       "    </tr>\n",
       "  </thead>\n",
       "  <tbody>\n",
       "    <tr>\n",
       "      <th>0</th>\n",
       "      <td>135901774</td>\n",
       "      <td>135598185</td>\n",
       "      <td>libghc-stm-dev</td>\n",
       "      <td>/usr/bin/opam</td>\n",
       "      <td>nan</td>\n",
       "    </tr>\n",
       "    <tr>\n",
       "      <th>1</th>\n",
       "      <td>135018202</td>\n",
       "      <td>135328344</td>\n",
       "      <td>libqtdee-dev</td>\n",
       "      <td>/usr/bin/opam</td>\n",
       "      <td>&lt;RECENT-CTIME&gt;</td>\n",
       "    </tr>\n",
       "    <tr>\n",
       "      <th>2</th>\n",
       "      <td>135338223</td>\n",
       "      <td>135642081</td>\n",
       "      <td>libqtdee-dev</td>\n",
       "      <td>/usr/bin/opam</td>\n",
       "      <td>nan</td>\n",
       "    </tr>\n",
       "    <tr>\n",
       "      <th>3</th>\n",
       "      <td>135811863</td>\n",
       "      <td>135882106</td>\n",
       "      <td>libdesktop-agnostic0</td>\n",
       "      <td>/lib/init/upstart-job</td>\n",
       "      <td>&lt;RECENT-CTIME&gt;</td>\n",
       "    </tr>\n",
       "    <tr>\n",
       "      <th>4</th>\n",
       "      <td>135465700</td>\n",
       "      <td>135768091</td>\n",
       "      <td>libbsd0</td>\n",
       "      <td>/lib/init/upstart-job</td>\n",
       "      <td>&lt;RECENT-CTIME&gt;</td>\n",
       "    </tr>\n",
       "    <tr>\n",
       "      <th>...</th>\n",
       "      <td>...</td>\n",
       "      <td>...</td>\n",
       "      <td>...</td>\n",
       "      <td>...</td>\n",
       "      <td>...</td>\n",
       "    </tr>\n",
       "    <tr>\n",
       "      <th>2892</th>\n",
       "      <td>135633923</td>\n",
       "      <td>135712755</td>\n",
       "      <td>libdesktop-agnostic0</td>\n",
       "      <td>/usr/bin/page</td>\n",
       "      <td>nan</td>\n",
       "    </tr>\n",
       "    <tr>\n",
       "      <th>2893</th>\n",
       "      <td>135049758</td>\n",
       "      <td>135467553</td>\n",
       "      <td>ubuntu-extras-keyring</td>\n",
       "      <td>/usr/bin/onboard</td>\n",
       "      <td>&lt;OLD&gt;</td>\n",
       "    </tr>\n",
       "    <tr>\n",
       "      <th>2894</th>\n",
       "      <td>135031136</td>\n",
       "      <td>135604571</td>\n",
       "      <td>libbsd0</td>\n",
       "      <td>/usr/bin/opam</td>\n",
       "      <td>nan</td>\n",
       "    </tr>\n",
       "    <tr>\n",
       "      <th>2895</th>\n",
       "      <td>135196124</td>\n",
       "      <td>135275111</td>\n",
       "      <td>ubuntu-extras-keyring</td>\n",
       "      <td>/usr/bin/page</td>\n",
       "      <td>&lt;RECENT-CTIME&gt;</td>\n",
       "    </tr>\n",
       "    <tr>\n",
       "      <th>2896</th>\n",
       "      <td>135877494</td>\n",
       "      <td>135632161</td>\n",
       "      <td>libghc-stm-dev</td>\n",
       "      <td>/usr/bin/opam</td>\n",
       "      <td>&lt;OLD&gt;</td>\n",
       "    </tr>\n",
       "  </tbody>\n",
       "</table>\n",
       "<p>2897 rows × 5 columns</p>\n",
       "</div>"
      ],
      "text/markdown": [
       "```python\n",
       "TwinPointer(Mock)\n",
       "```\n",
       "          atime      ctime           package-name            mru-program  \\\n",
       "0     135901774  135598185         libghc-stm-dev          /usr/bin/opam   \n",
       "1     135018202  135328344           libqtdee-dev          /usr/bin/opam   \n",
       "2     135338223  135642081           libqtdee-dev          /usr/bin/opam   \n",
       "3     135811863  135882106   libdesktop-agnostic0  /lib/init/upstart-job   \n",
       "4     135465700  135768091                libbsd0  /lib/init/upstart-job   \n",
       "...         ...        ...                    ...                    ...   \n",
       "2892  135633923  135712755   libdesktop-agnostic0          /usr/bin/page   \n",
       "2893  135049758  135467553  ubuntu-extras-keyring       /usr/bin/onboard   \n",
       "2894  135031136  135604571                libbsd0          /usr/bin/opam   \n",
       "2895  135196124  135275111  ubuntu-extras-keyring          /usr/bin/page   \n",
       "2896  135877494  135632161         libghc-stm-dev          /usr/bin/opam   \n",
       "\n",
       "                 tag  \n",
       "0                nan  \n",
       "1     <RECENT-CTIME>  \n",
       "2                nan  \n",
       "3     <RECENT-CTIME>  \n",
       "4     <RECENT-CTIME>  \n",
       "...              ...  \n",
       "2892             nan  \n",
       "2893           <OLD>  \n",
       "2894             nan  \n",
       "2895  <RECENT-CTIME>  \n",
       "2896           <OLD>  \n",
       "\n",
       "[2897 rows x 5 columns]"
      ],
      "text/plain": [
       "TwinPointer(Mock):\n",
       "          atime      ctime           package-name            mru-program  \\\n",
       "0     135901774  135598185         libghc-stm-dev          /usr/bin/opam   \n",
       "1     135018202  135328344           libqtdee-dev          /usr/bin/opam   \n",
       "2     135338223  135642081           libqtdee-dev          /usr/bin/opam   \n",
       "3     135811863  135882106   libdesktop-agnostic0  /lib/init/upstart-job   \n",
       "4     135465700  135768091                libbsd0  /lib/init/upstart-job   \n",
       "...         ...        ...                    ...                    ...   \n",
       "2892  135633923  135712755   libdesktop-agnostic0          /usr/bin/page   \n",
       "2893  135049758  135467553  ubuntu-extras-keyring       /usr/bin/onboard   \n",
       "2894  135031136  135604571                libbsd0          /usr/bin/opam   \n",
       "2895  135196124  135275111  ubuntu-extras-keyring          /usr/bin/page   \n",
       "2896  135877494  135632161         libghc-stm-dev          /usr/bin/opam   \n",
       "\n",
       "                 tag  \n",
       "0                nan  \n",
       "1     <RECENT-CTIME>  \n",
       "2                nan  \n",
       "3     <RECENT-CTIME>  \n",
       "4     <RECENT-CTIME>  \n",
       "...              ...  \n",
       "2892             nan  \n",
       "2893           <OLD>  \n",
       "2894             nan  \n",
       "2895  <RECENT-CTIME>  \n",
       "2896           <OLD>  \n",
       "\n",
       "[2897 rows x 5 columns]"
      ]
     },
     "execution_count": 24,
     "metadata": {},
     "output_type": "execute_result"
    }
   ],
   "source": [
    "popcon"
   ]
  },
  {
   "cell_type": "code",
   "execution_count": 25,
   "id": "d26a35b6",
   "metadata": {},
   "outputs": [],
   "source": [
    "popcon['atime'] = guest_client.api.lib.pandas.to_datetime(popcon['atime'], unit='s')\n",
    "popcon['ctime'] = guest_client.api.lib.pandas.to_datetime(popcon['ctime'], unit='s')"
   ]
  },
  {
   "cell_type": "code",
   "execution_count": 27,
   "id": "ea8112b1",
   "metadata": {},
   "outputs": [],
   "source": [
    "# root_domain_client = node.login(email=\"info@openmined.org\", password=\"changethis\")\n",
    "# popcon.get_from(root_domain_client)"
   ]
  },
  {
   "cell_type": "markdown",
   "id": "e1448504",
   "metadata": {},
   "source": [
    "If we look at the dtype now, it's `<M8[ns]`. As far as I can tell `M8` is secret code for `datetime64`."
   ]
  },
  {
   "cell_type": "code",
   "execution_count": 30,
   "id": "d6624a0d",
   "metadata": {},
   "outputs": [],
   "source": [
    "# TODO: Fix\n",
    "# popcon['atime'].dtype"
   ]
  },
  {
   "cell_type": "markdown",
   "id": "c657d3e1",
   "metadata": {},
   "source": [
    "So now we can look at our `atime` and `ctime` as dates!"
   ]
  },
  {
   "cell_type": "code",
   "execution_count": 31,
   "id": "24db2605",
   "metadata": {},
   "outputs": [
    {
     "data": {
      "text/html": [
       "<div>\n",
       "<style scoped>\n",
       "    .dataframe tbody tr th:only-of-type {\n",
       "        vertical-align: middle;\n",
       "    }\n",
       "\n",
       "    .dataframe tbody tr th {\n",
       "        vertical-align: top;\n",
       "    }\n",
       "\n",
       "    .dataframe thead th {\n",
       "        text-align: right;\n",
       "    }\n",
       "</style>\n",
       "<table border=\"1\" class=\"dataframe\">\n",
       "  <thead>\n",
       "    <tr style=\"text-align: right;\">\n",
       "      <th></th>\n",
       "      <th>atime</th>\n",
       "      <th>ctime</th>\n",
       "      <th>package-name</th>\n",
       "      <th>mru-program</th>\n",
       "      <th>tag</th>\n",
       "    </tr>\n",
       "  </thead>\n",
       "  <tbody>\n",
       "    <tr>\n",
       "      <th>0</th>\n",
       "      <td>1974-04-22 22:29:34</td>\n",
       "      <td>1974-04-19 10:09:45</td>\n",
       "      <td>libghc-stm-dev</td>\n",
       "      <td>/usr/bin/opam</td>\n",
       "      <td>nan</td>\n",
       "    </tr>\n",
       "    <tr>\n",
       "      <th>1</th>\n",
       "      <td>1974-04-12 17:03:22</td>\n",
       "      <td>1974-04-16 07:12:24</td>\n",
       "      <td>libqtdee-dev</td>\n",
       "      <td>/usr/bin/opam</td>\n",
       "      <td>&lt;RECENT-CTIME&gt;</td>\n",
       "    </tr>\n",
       "    <tr>\n",
       "      <th>2</th>\n",
       "      <td>1974-04-16 09:57:03</td>\n",
       "      <td>1974-04-19 22:21:21</td>\n",
       "      <td>libqtdee-dev</td>\n",
       "      <td>/usr/bin/opam</td>\n",
       "      <td>nan</td>\n",
       "    </tr>\n",
       "    <tr>\n",
       "      <th>3</th>\n",
       "      <td>1974-04-21 21:31:03</td>\n",
       "      <td>1974-04-22 17:01:46</td>\n",
       "      <td>libdesktop-agnostic0</td>\n",
       "      <td>/lib/init/upstart-job</td>\n",
       "      <td>&lt;RECENT-CTIME&gt;</td>\n",
       "    </tr>\n",
       "    <tr>\n",
       "      <th>4</th>\n",
       "      <td>1974-04-17 21:21:40</td>\n",
       "      <td>1974-04-21 09:21:31</td>\n",
       "      <td>libbsd0</td>\n",
       "      <td>/lib/init/upstart-job</td>\n",
       "      <td>&lt;RECENT-CTIME&gt;</td>\n",
       "    </tr>\n",
       "  </tbody>\n",
       "</table>\n",
       "</div>"
      ],
      "text/markdown": [
       "```python\n",
       "TwinPointer(Mock)\n",
       "```\n",
       "                atime               ctime          package-name  \\\n",
       "0 1974-04-22 22:29:34 1974-04-19 10:09:45        libghc-stm-dev   \n",
       "1 1974-04-12 17:03:22 1974-04-16 07:12:24          libqtdee-dev   \n",
       "2 1974-04-16 09:57:03 1974-04-19 22:21:21          libqtdee-dev   \n",
       "3 1974-04-21 21:31:03 1974-04-22 17:01:46  libdesktop-agnostic0   \n",
       "4 1974-04-17 21:21:40 1974-04-21 09:21:31               libbsd0   \n",
       "\n",
       "             mru-program             tag  \n",
       "0          /usr/bin/opam             nan  \n",
       "1          /usr/bin/opam  <RECENT-CTIME>  \n",
       "2          /usr/bin/opam             nan  \n",
       "3  /lib/init/upstart-job  <RECENT-CTIME>  \n",
       "4  /lib/init/upstart-job  <RECENT-CTIME>  "
      ],
      "text/plain": [
       "TwinPointer(Mock):\n",
       "                atime               ctime          package-name  \\\n",
       "0 1974-04-22 22:29:34 1974-04-19 10:09:45        libghc-stm-dev   \n",
       "1 1974-04-12 17:03:22 1974-04-16 07:12:24          libqtdee-dev   \n",
       "2 1974-04-16 09:57:03 1974-04-19 22:21:21          libqtdee-dev   \n",
       "3 1974-04-21 21:31:03 1974-04-22 17:01:46  libdesktop-agnostic0   \n",
       "4 1974-04-17 21:21:40 1974-04-21 09:21:31               libbsd0   \n",
       "\n",
       "             mru-program             tag  \n",
       "0          /usr/bin/opam             nan  \n",
       "1          /usr/bin/opam  <RECENT-CTIME>  \n",
       "2          /usr/bin/opam             nan  \n",
       "3  /lib/init/upstart-job  <RECENT-CTIME>  \n",
       "4  /lib/init/upstart-job  <RECENT-CTIME>  "
      ]
     },
     "execution_count": 31,
     "metadata": {},
     "output_type": "execute_result"
    }
   ],
   "source": [
    "popcon[:5]"
   ]
  },
  {
   "cell_type": "markdown",
   "id": "53aca015",
   "metadata": {},
   "source": [
    "Now suppose we want to look at all packages that aren't libraries."
   ]
  },
  {
   "cell_type": "markdown",
   "id": "b09b8c6e",
   "metadata": {},
   "source": [
    "First, I want to get rid of everything with timestamp 0. Notice how we can just use a string in this comparison, even though it's actually a timestamp on the inside? That is because pandas is amazing.\n"
   ]
  },
  {
   "cell_type": "code",
   "execution_count": 32,
   "id": "db7bb0b8",
   "metadata": {},
   "outputs": [],
   "source": [
    "atime = popcon['atime']"
   ]
  },
  {
   "cell_type": "code",
   "execution_count": 40,
   "id": "e069d604",
   "metadata": {},
   "outputs": [],
   "source": [
    "popcon = popcon[popcon['atime'] > '1970-01-01']"
   ]
  },
  {
   "cell_type": "markdown",
   "id": "54ef1632",
   "metadata": {},
   "source": [
    "Now we can use pandas' magical string abilities to just look at rows where the package name doesn't contain 'lib'."
   ]
  },
  {
   "cell_type": "code",
   "execution_count": 41,
   "id": "afc72d61",
   "metadata": {},
   "outputs": [],
   "source": [
    "nonlibraries = popcon[~popcon['package-name'].str.contains('lib')]"
   ]
  },
  {
   "cell_type": "code",
   "execution_count": 42,
   "id": "9423fad9",
   "metadata": {},
   "outputs": [
    {
     "data": {
      "text/html": [
       "<div>\n",
       "<style scoped>\n",
       "    .dataframe tbody tr th:only-of-type {\n",
       "        vertical-align: middle;\n",
       "    }\n",
       "\n",
       "    .dataframe tbody tr th {\n",
       "        vertical-align: top;\n",
       "    }\n",
       "\n",
       "    .dataframe thead th {\n",
       "        text-align: right;\n",
       "    }\n",
       "</style>\n",
       "<table border=\"1\" class=\"dataframe\">\n",
       "  <thead>\n",
       "    <tr style=\"text-align: right;\">\n",
       "      <th></th>\n",
       "      <th>atime</th>\n",
       "      <th>ctime</th>\n",
       "      <th>package-name</th>\n",
       "      <th>mru-program</th>\n",
       "      <th>tag</th>\n",
       "    </tr>\n",
       "  </thead>\n",
       "  <tbody>\n",
       "    <tr>\n",
       "      <th>603</th>\n",
       "      <td>1974-04-15 17:35:13</td>\n",
       "      <td>1974-04-24 01:22:57</td>\n",
       "      <td>ubuntu-extras-keyring</td>\n",
       "      <td>/usr/bin/opam</td>\n",
       "      <td>&lt;OLD&gt;</td>\n",
       "    </tr>\n",
       "    <tr>\n",
       "      <th>505</th>\n",
       "      <td>1974-04-14 10:04:53</td>\n",
       "      <td>1974-04-24 01:15:07</td>\n",
       "      <td>ubuntu-extras-keyring</td>\n",
       "      <td>/lib/init/upstart-job</td>\n",
       "      <td>nan</td>\n",
       "    </tr>\n",
       "    <tr>\n",
       "      <th>2066</th>\n",
       "      <td>1974-04-13 08:42:28</td>\n",
       "      <td>1974-04-24 00:44:59</td>\n",
       "      <td>ubuntu-extras-keyring</td>\n",
       "      <td>/usr/bin/onboard</td>\n",
       "      <td>&lt;RECENT-CTIME&gt;</td>\n",
       "    </tr>\n",
       "    <tr>\n",
       "      <th>1406</th>\n",
       "      <td>1974-04-19 04:05:43</td>\n",
       "      <td>1974-04-24 00:41:41</td>\n",
       "      <td>geoclue-ubuntu-geoip</td>\n",
       "      <td>/usr/bin/opam</td>\n",
       "      <td>&lt;RECENT-CTIME&gt;</td>\n",
       "    </tr>\n",
       "    <tr>\n",
       "      <th>894</th>\n",
       "      <td>1974-04-19 08:22:04</td>\n",
       "      <td>1974-04-24 00:16:59</td>\n",
       "      <td>geoclue-ubuntu-geoip</td>\n",
       "      <td>/usr/bin/opam</td>\n",
       "      <td>&lt;OLD&gt;</td>\n",
       "    </tr>\n",
       "    <tr>\n",
       "      <th>2415</th>\n",
       "      <td>1974-04-12 14:45:24</td>\n",
       "      <td>1974-04-24 00:11:16</td>\n",
       "      <td>geoclue-ubuntu-geoip</td>\n",
       "      <td>/lib/init/upstart-job</td>\n",
       "      <td>nan</td>\n",
       "    </tr>\n",
       "    <tr>\n",
       "      <th>2578</th>\n",
       "      <td>1974-04-20 17:05:08</td>\n",
       "      <td>1974-04-23 23:31:05</td>\n",
       "      <td>ubuntu-extras-keyring</td>\n",
       "      <td>/usr/bin/page</td>\n",
       "      <td>nan</td>\n",
       "    </tr>\n",
       "    <tr>\n",
       "      <th>878</th>\n",
       "      <td>1974-04-18 11:09:59</td>\n",
       "      <td>1974-04-23 23:30:23</td>\n",
       "      <td>ubuntu-extras-keyring</td>\n",
       "      <td>/usr/bin/page</td>\n",
       "      <td>&lt;RECENT-CTIME&gt;</td>\n",
       "    </tr>\n",
       "    <tr>\n",
       "      <th>1821</th>\n",
       "      <td>1974-04-23 22:11:54</td>\n",
       "      <td>1974-04-23 23:17:37</td>\n",
       "      <td>ubuntu-extras-keyring</td>\n",
       "      <td>/lib/init/upstart-job</td>\n",
       "      <td>nan</td>\n",
       "    </tr>\n",
       "    <tr>\n",
       "      <th>1133</th>\n",
       "      <td>1974-04-18 18:32:07</td>\n",
       "      <td>1974-04-23 23:03:06</td>\n",
       "      <td>geoclue-ubuntu-geoip</td>\n",
       "      <td>/usr/bin/onboard</td>\n",
       "      <td>nan</td>\n",
       "    </tr>\n",
       "  </tbody>\n",
       "</table>\n",
       "</div>"
      ],
      "text/markdown": [
       "```python\n",
       "TwinPointer(Mock)\n",
       "```\n",
       "                   atime               ctime           package-name  \\\n",
       "603  1974-04-15 17:35:13 1974-04-24 01:22:57  ubuntu-extras-keyring   \n",
       "505  1974-04-14 10:04:53 1974-04-24 01:15:07  ubuntu-extras-keyring   \n",
       "2066 1974-04-13 08:42:28 1974-04-24 00:44:59  ubuntu-extras-keyring   \n",
       "1406 1974-04-19 04:05:43 1974-04-24 00:41:41   geoclue-ubuntu-geoip   \n",
       "894  1974-04-19 08:22:04 1974-04-24 00:16:59   geoclue-ubuntu-geoip   \n",
       "2415 1974-04-12 14:45:24 1974-04-24 00:11:16   geoclue-ubuntu-geoip   \n",
       "2578 1974-04-20 17:05:08 1974-04-23 23:31:05  ubuntu-extras-keyring   \n",
       "878  1974-04-18 11:09:59 1974-04-23 23:30:23  ubuntu-extras-keyring   \n",
       "1821 1974-04-23 22:11:54 1974-04-23 23:17:37  ubuntu-extras-keyring   \n",
       "1133 1974-04-18 18:32:07 1974-04-23 23:03:06   geoclue-ubuntu-geoip   \n",
       "\n",
       "                mru-program             tag  \n",
       "603           /usr/bin/opam           <OLD>  \n",
       "505   /lib/init/upstart-job             nan  \n",
       "2066       /usr/bin/onboard  <RECENT-CTIME>  \n",
       "1406          /usr/bin/opam  <RECENT-CTIME>  \n",
       "894           /usr/bin/opam           <OLD>  \n",
       "2415  /lib/init/upstart-job             nan  \n",
       "2578          /usr/bin/page             nan  \n",
       "878           /usr/bin/page  <RECENT-CTIME>  \n",
       "1821  /lib/init/upstart-job             nan  \n",
       "1133       /usr/bin/onboard             nan  "
      ],
      "text/plain": [
       "TwinPointer(Mock):\n",
       "                   atime               ctime           package-name  \\\n",
       "603  1974-04-15 17:35:13 1974-04-24 01:22:57  ubuntu-extras-keyring   \n",
       "505  1974-04-14 10:04:53 1974-04-24 01:15:07  ubuntu-extras-keyring   \n",
       "2066 1974-04-13 08:42:28 1974-04-24 00:44:59  ubuntu-extras-keyring   \n",
       "1406 1974-04-19 04:05:43 1974-04-24 00:41:41   geoclue-ubuntu-geoip   \n",
       "894  1974-04-19 08:22:04 1974-04-24 00:16:59   geoclue-ubuntu-geoip   \n",
       "2415 1974-04-12 14:45:24 1974-04-24 00:11:16   geoclue-ubuntu-geoip   \n",
       "2578 1974-04-20 17:05:08 1974-04-23 23:31:05  ubuntu-extras-keyring   \n",
       "878  1974-04-18 11:09:59 1974-04-23 23:30:23  ubuntu-extras-keyring   \n",
       "1821 1974-04-23 22:11:54 1974-04-23 23:17:37  ubuntu-extras-keyring   \n",
       "1133 1974-04-18 18:32:07 1974-04-23 23:03:06   geoclue-ubuntu-geoip   \n",
       "\n",
       "                mru-program             tag  \n",
       "603           /usr/bin/opam           <OLD>  \n",
       "505   /lib/init/upstart-job             nan  \n",
       "2066       /usr/bin/onboard  <RECENT-CTIME>  \n",
       "1406          /usr/bin/opam  <RECENT-CTIME>  \n",
       "894           /usr/bin/opam           <OLD>  \n",
       "2415  /lib/init/upstart-job             nan  \n",
       "2578          /usr/bin/page             nan  \n",
       "878           /usr/bin/page  <RECENT-CTIME>  \n",
       "1821  /lib/init/upstart-job             nan  \n",
       "1133       /usr/bin/onboard             nan  "
      ]
     },
     "execution_count": 42,
     "metadata": {},
     "output_type": "execute_result"
    }
   ],
   "source": [
    "nonlibraries.sort_values('ctime', ascending=False)[:10]"
   ]
  },
  {
   "cell_type": "markdown",
   "id": "33235394",
   "metadata": {},
   "source": [
    "Okay, cool, it says that I I installed ddd recently. And postgresql! I remember installing those things. Neat.\n",
    "\n",
    "The whole message here is that if you have a timestamp in seconds or milliseconds or nanoseconds, then you can just \"cast\" it to a `'datetime64[the-right-thing]'` and pandas/numpy will take care of the rest."
   ]
  },
  {
   "cell_type": "markdown",
   "id": "3ad300a3",
   "metadata": {},
   "source": [
    "## Requesting result"
   ]
  },
  {
   "cell_type": "code",
   "execution_count": 43,
   "id": "71417d4d",
   "metadata": {},
   "outputs": [
    {
     "data": {
      "text/markdown": [
       "```python\n",
       "class Request:\n",
       "  id: str = ca101d3997dc47d98080beb2893acb00\n",
       "  requesting_user_verify_key: str = b889ddf6f8210fa4a0e2d2e5ab3a98dde658cc0102a8737a178a8874fda4cbbb\n",
       "  approving_user_verify_key: str = None\n",
       "  request_time: str = 2023-05-24 13:08:42\n",
       "  approval_time: str = None\n",
       "  status: str = RequestStatus.PENDING\n",
       "  node_uid: str = 281e55cb3425360e464682cfb4672fcb\n",
       "  request_hash: str = \"526463393f48e13eea4858df7ab7816be2561bfcc2c555877b3ea54ca337b1a3\"\n",
       "  changes: str = [syft.service.request.request.ActionStoreChange]\n",
       "\n",
       "```"
      ],
      "text/plain": [
       "syft.service.request.request.Request"
      ]
     },
     "execution_count": 43,
     "metadata": {},
     "output_type": "execute_result"
    }
   ],
   "source": [
    "nonlibraries.request(guest_client)"
   ]
  },
  {
   "cell_type": "markdown",
   "id": "64ce88bd",
   "metadata": {},
   "source": [
    "# Data owner: accept request"
   ]
  },
  {
   "cell_type": "code",
   "execution_count": 44,
   "id": "4046e05a",
   "metadata": {},
   "outputs": [],
   "source": [
    "root_domain_client = node.login(email=\"info@openmined.org\", password=\"changethis\")"
   ]
  },
  {
   "cell_type": "code",
   "execution_count": 45,
   "id": "889d92ba",
   "metadata": {},
   "outputs": [
    {
     "data": {
      "text/html": [
       "<div class=\"alert-success\" style=\"padding:5px;\"><strong>SyftSuccess</strong>: Request ca101d3997dc47d98080beb2893acb00 changes applied</div><br />"
      ],
      "text/plain": [
       "<class 'syft.service.response.SyftSuccess'>: Request ca101d3997dc47d98080beb2893acb00 changes applied"
      ]
     },
     "execution_count": 45,
     "metadata": {},
     "output_type": "execute_result"
    }
   ],
   "source": [
    "root_domain_client.api.services.request[0].approve()"
   ]
  },
  {
   "cell_type": "markdown",
   "id": "d23c84c2",
   "metadata": {},
   "source": [
    "# Data Owner: fetch result"
   ]
  },
  {
   "cell_type": "code",
   "execution_count": 46,
   "id": "b302702f",
   "metadata": {},
   "outputs": [],
   "source": [
    "guest_client = guest_domain_client.login(email=\"jane@caltech.edu\", password=\"abc123\")"
   ]
  },
  {
   "cell_type": "code",
   "execution_count": 47,
   "id": "48d17886",
   "metadata": {},
   "outputs": [],
   "source": [
    "real_result = nonlibraries.get_from(guest_client)"
   ]
  },
  {
   "cell_type": "code",
   "execution_count": 48,
   "id": "66aa7623",
   "metadata": {},
   "outputs": [
    {
     "data": {
      "text/html": [
       "<div>\n",
       "<style scoped>\n",
       "    .dataframe tbody tr th:only-of-type {\n",
       "        vertical-align: middle;\n",
       "    }\n",
       "\n",
       "    .dataframe tbody tr th {\n",
       "        vertical-align: top;\n",
       "    }\n",
       "\n",
       "    .dataframe thead th {\n",
       "        text-align: right;\n",
       "    }\n",
       "</style>\n",
       "<table border=\"1\" class=\"dataframe\">\n",
       "  <thead>\n",
       "    <tr style=\"text-align: right;\">\n",
       "      <th></th>\n",
       "      <th>atime</th>\n",
       "      <th>ctime</th>\n",
       "      <th>package-name</th>\n",
       "      <th>mru-program</th>\n",
       "      <th>tag</th>\n",
       "    </tr>\n",
       "  </thead>\n",
       "  <tbody>\n",
       "    <tr>\n",
       "      <th>0</th>\n",
       "      <td>2013-12-17 15:56:37</td>\n",
       "      <td>2013-05-04 02:07:40</td>\n",
       "      <td>perl-base</td>\n",
       "      <td>/usr/bin/perl</td>\n",
       "      <td>None</td>\n",
       "    </tr>\n",
       "    <tr>\n",
       "      <th>1</th>\n",
       "      <td>2013-12-17 15:56:36</td>\n",
       "      <td>2012-12-01 14:01:20</td>\n",
       "      <td>login</td>\n",
       "      <td>/bin/su</td>\n",
       "      <td>None</td>\n",
       "    </tr>\n",
       "    <tr>\n",
       "      <th>17</th>\n",
       "      <td>2013-12-17 15:55:33</td>\n",
       "      <td>2013-11-25 16:25:38</td>\n",
       "      <td>fingerprint-gui</td>\n",
       "      <td>/lib/security/pam_fingerprint-gui.so</td>\n",
       "      <td>None</td>\n",
       "    </tr>\n",
       "    <tr>\n",
       "      <th>18</th>\n",
       "      <td>2013-12-17 15:55:32</td>\n",
       "      <td>2012-12-01 05:53:57</td>\n",
       "      <td>dash</td>\n",
       "      <td>/bin/dash</td>\n",
       "      <td>None</td>\n",
       "    </tr>\n",
       "    <tr>\n",
       "      <th>19</th>\n",
       "      <td>2013-12-17 15:55:29</td>\n",
       "      <td>2012-12-01 05:54:37</td>\n",
       "      <td>popularity-contest</td>\n",
       "      <td>/usr/sbin/popularity-contest</td>\n",
       "      <td>None</td>\n",
       "    </tr>\n",
       "    <tr>\n",
       "      <th>...</th>\n",
       "      <td>...</td>\n",
       "      <td>...</td>\n",
       "      <td>...</td>\n",
       "      <td>...</td>\n",
       "      <td>...</td>\n",
       "    </tr>\n",
       "    <tr>\n",
       "      <th>2089</th>\n",
       "      <td>2011-04-30 20:36:36</td>\n",
       "      <td>2012-12-01 05:54:17</td>\n",
       "      <td>x11-xfs-utils</td>\n",
       "      <td>/usr/bin/xfsinfo</td>\n",
       "      <td>&lt;OLD&gt;</td>\n",
       "    </tr>\n",
       "    <tr>\n",
       "      <th>2090</th>\n",
       "      <td>2011-04-30 15:07:31</td>\n",
       "      <td>2012-12-01 05:54:15</td>\n",
       "      <td>dvd+rw-tools</td>\n",
       "      <td>/usr/bin/rpl8</td>\n",
       "      <td>&lt;OLD&gt;</td>\n",
       "    </tr>\n",
       "    <tr>\n",
       "      <th>2092</th>\n",
       "      <td>2010-12-12 02:51:56</td>\n",
       "      <td>2012-12-01 05:54:37</td>\n",
       "      <td>vbetool</td>\n",
       "      <td>/usr/sbin/vbetool</td>\n",
       "      <td>&lt;OLD&gt;</td>\n",
       "    </tr>\n",
       "    <tr>\n",
       "      <th>2093</th>\n",
       "      <td>2010-10-15 16:41:50</td>\n",
       "      <td>2012-12-01 05:54:37</td>\n",
       "      <td>pptp-linux</td>\n",
       "      <td>/usr/sbin/pptp</td>\n",
       "      <td>&lt;OLD&gt;</td>\n",
       "    </tr>\n",
       "    <tr>\n",
       "      <th>2095</th>\n",
       "      <td>2010-03-06 14:44:18</td>\n",
       "      <td>2012-12-01 05:54:37</td>\n",
       "      <td>laptop-detect</td>\n",
       "      <td>/usr/sbin/laptop-detect</td>\n",
       "      <td>&lt;OLD&gt;</td>\n",
       "    </tr>\n",
       "  </tbody>\n",
       "</table>\n",
       "<p>1216 rows × 5 columns</p>\n",
       "</div>"
      ],
      "text/plain": [
       "                   atime               ctime        package-name  \\\n",
       "0    2013-12-17 15:56:37 2013-05-04 02:07:40           perl-base   \n",
       "1    2013-12-17 15:56:36 2012-12-01 14:01:20               login   \n",
       "17   2013-12-17 15:55:33 2013-11-25 16:25:38     fingerprint-gui   \n",
       "18   2013-12-17 15:55:32 2012-12-01 05:53:57                dash   \n",
       "19   2013-12-17 15:55:29 2012-12-01 05:54:37  popularity-contest   \n",
       "...                  ...                 ...                 ...   \n",
       "2089 2011-04-30 20:36:36 2012-12-01 05:54:17       x11-xfs-utils   \n",
       "2090 2011-04-30 15:07:31 2012-12-01 05:54:15        dvd+rw-tools   \n",
       "2092 2010-12-12 02:51:56 2012-12-01 05:54:37             vbetool   \n",
       "2093 2010-10-15 16:41:50 2012-12-01 05:54:37          pptp-linux   \n",
       "2095 2010-03-06 14:44:18 2012-12-01 05:54:37       laptop-detect   \n",
       "\n",
       "                               mru-program    tag  \n",
       "0                            /usr/bin/perl   None  \n",
       "1                                  /bin/su   None  \n",
       "17    /lib/security/pam_fingerprint-gui.so   None  \n",
       "18                               /bin/dash   None  \n",
       "19            /usr/sbin/popularity-contest   None  \n",
       "...                                    ...    ...  \n",
       "2089                      /usr/bin/xfsinfo  <OLD>  \n",
       "2090                         /usr/bin/rpl8  <OLD>  \n",
       "2092                     /usr/sbin/vbetool  <OLD>  \n",
       "2093                        /usr/sbin/pptp  <OLD>  \n",
       "2095               /usr/sbin/laptop-detect  <OLD>  \n",
       "\n",
       "[1216 rows x 5 columns]"
      ]
     },
     "execution_count": 48,
     "metadata": {},
     "output_type": "execute_result"
    }
   ],
   "source": [
    "real_result"
   ]
  },
  {
   "cell_type": "code",
   "execution_count": 49,
   "id": "ed3c5e38",
   "metadata": {},
   "outputs": [],
   "source": [
    "node.land()"
   ]
  }
 ],
 "metadata": {
  "kernelspec": {
   "display_name": "Python 3 (ipykernel)",
   "language": "python",
   "name": "python3"
  },
  "language_info": {
   "codemirror_mode": {
    "name": "ipython",
    "version": 3
   },
   "file_extension": ".py",
   "mimetype": "text/x-python",
   "name": "python",
   "nbconvert_exporter": "python",
   "pygments_lexer": "ipython3",
   "version": "3.9.16"
  },
  "toc": {
   "base_numbering": 1,
   "nav_menu": {},
   "number_sections": true,
   "sideBar": true,
   "skip_h1_title": false,
   "title_cell": "Table of Contents",
   "title_sidebar": "Contents",
   "toc_cell": false,
   "toc_position": {
    "height": "calc(100% - 180px)",
    "left": "10px",
    "top": "150px",
    "width": "358.398px"
   },
   "toc_section_display": true,
   "toc_window_display": true
  }
 },
 "nbformat": 4,
 "nbformat_minor": 5
}
