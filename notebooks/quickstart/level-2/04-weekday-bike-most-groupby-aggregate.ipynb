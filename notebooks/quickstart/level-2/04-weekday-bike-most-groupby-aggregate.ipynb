{
 "cells": [
  {
   "cell_type": "markdown",
   "id": "faa9b3c9",
   "metadata": {},
   "source": [
    "# Find out on which weekday people bike the most with groupby and aggregate"
   ]
  },
  {
   "cell_type": "code",
   "execution_count": 1,
   "id": "66c14a6b",
   "metadata": {},
   "outputs": [],
   "source": [
    "SYFT_VERSION = \">=0.8.1b0,<0.9\"\n",
    "package_string = f'\"syft{SYFT_VERSION}\"'\n",
    "!pip install {package_string} -f https://whls.blob.core.windows.net/unstable/index.html -q"
   ]
  },
  {
   "cell_type": "code",
   "execution_count": 2,
   "id": "74a3a9fb",
   "metadata": {},
   "outputs": [
    {
     "name": "stderr",
     "output_type": "stream",
     "text": [
      "kj/filesystem-disk-unix.c++:1703: warning: PWD environment variable doesn't match current directory; pwd = /Users/koen/workspace/PySyft\n"
     ]
    },
    {
     "name": "stdout",
     "output_type": "stream",
     "text": [
      "✅ The installed version of syft==0.8.1b2 matches the requirement >=0.8.1b0 and the requirement <0.9\n"
     ]
    }
   ],
   "source": [
    "import syft as sy\n",
    "sy.requires(SYFT_VERSION)"
   ]
  },
  {
   "cell_type": "code",
   "execution_count": 3,
   "id": "cbce68c1",
   "metadata": {},
   "outputs": [
    {
     "name": "stdout",
     "output_type": "stream",
     "text": [
      "SQLite Store Path:\n",
      "!open file:///var/folders/q1/ryq93kwj055dlbpngxv1c7z40000gn/T/281e55cb3425360e464682cfb4672fcb.sqlite\n",
      "\n"
     ]
    }
   ],
   "source": [
    "node = sy.orchestra.launch(name=\"pandas-test-domain-1\", reset=True)"
   ]
  },
  {
   "cell_type": "markdown",
   "id": "a004ecaf",
   "metadata": {},
   "source": [
    "# Data owner: upload data"
   ]
  },
  {
   "cell_type": "code",
   "execution_count": 4,
   "id": "3779a9a3",
   "metadata": {},
   "outputs": [],
   "source": [
    "root_domain_client = node.login(email=\"info@openmined.org\", password=\"changethis\")"
   ]
  },
  {
   "cell_type": "markdown",
   "id": "da0cf39a",
   "metadata": {},
   "source": [
    "## Load data"
   ]
  },
  {
   "cell_type": "code",
   "execution_count": 5,
   "id": "4a92fb68",
   "metadata": {},
   "outputs": [],
   "source": [
    "import pandas as pd\n",
    "import matplotlib.pyplot as plt\n",
    "from datetime import timedelta\n",
    "from dateutil.parser import parse\n",
    "from pandas._libs.tslibs.timestamps import Timestamp\n",
    "from syft.service.project.project import Project\n",
    "from syft.util.util import autocache, PANDAS_DATA"
   ]
  },
  {
   "cell_type": "code",
   "execution_count": 6,
   "id": "01ccd135",
   "metadata": {},
   "outputs": [
    {
     "data": {
      "text/html": [
       "<div>\n",
       "<style scoped>\n",
       "    .dataframe tbody tr th:only-of-type {\n",
       "        vertical-align: middle;\n",
       "    }\n",
       "\n",
       "    .dataframe tbody tr th {\n",
       "        vertical-align: top;\n",
       "    }\n",
       "\n",
       "    .dataframe thead th {\n",
       "        text-align: right;\n",
       "    }\n",
       "</style>\n",
       "<table border=\"1\" class=\"dataframe\">\n",
       "  <thead>\n",
       "    <tr style=\"text-align: right;\">\n",
       "      <th></th>\n",
       "      <th>Berri 1</th>\n",
       "      <th>Brébeuf (données non disponibles)</th>\n",
       "      <th>Côte-Sainte-Catherine</th>\n",
       "      <th>Maisonneuve 1</th>\n",
       "      <th>Maisonneuve 2</th>\n",
       "      <th>du Parc</th>\n",
       "      <th>Pierre-Dupuy</th>\n",
       "      <th>Rachel1</th>\n",
       "      <th>St-Urbain (données non disponibles)</th>\n",
       "    </tr>\n",
       "    <tr>\n",
       "      <th>Date</th>\n",
       "      <th></th>\n",
       "      <th></th>\n",
       "      <th></th>\n",
       "      <th></th>\n",
       "      <th></th>\n",
       "      <th></th>\n",
       "      <th></th>\n",
       "      <th></th>\n",
       "      <th></th>\n",
       "    </tr>\n",
       "  </thead>\n",
       "  <tbody>\n",
       "    <tr>\n",
       "      <th>2012-01-01</th>\n",
       "      <td>35</td>\n",
       "      <td>NaN</td>\n",
       "      <td>0</td>\n",
       "      <td>38</td>\n",
       "      <td>51</td>\n",
       "      <td>26</td>\n",
       "      <td>10</td>\n",
       "      <td>16</td>\n",
       "      <td>NaN</td>\n",
       "    </tr>\n",
       "    <tr>\n",
       "      <th>2012-01-02</th>\n",
       "      <td>83</td>\n",
       "      <td>NaN</td>\n",
       "      <td>1</td>\n",
       "      <td>68</td>\n",
       "      <td>153</td>\n",
       "      <td>53</td>\n",
       "      <td>6</td>\n",
       "      <td>43</td>\n",
       "      <td>NaN</td>\n",
       "    </tr>\n",
       "    <tr>\n",
       "      <th>2012-01-03</th>\n",
       "      <td>135</td>\n",
       "      <td>NaN</td>\n",
       "      <td>2</td>\n",
       "      <td>104</td>\n",
       "      <td>248</td>\n",
       "      <td>89</td>\n",
       "      <td>3</td>\n",
       "      <td>58</td>\n",
       "      <td>NaN</td>\n",
       "    </tr>\n",
       "  </tbody>\n",
       "</table>\n",
       "</div>"
      ],
      "text/plain": [
       "            Berri 1  Brébeuf (données non disponibles)  Côte-Sainte-Catherine  \\\n",
       "Date                                                                            \n",
       "2012-01-01       35                                NaN                      0   \n",
       "2012-01-02       83                                NaN                      1   \n",
       "2012-01-03      135                                NaN                      2   \n",
       "\n",
       "            Maisonneuve 1  Maisonneuve 2  du Parc  Pierre-Dupuy  Rachel1  \\\n",
       "Date                                                                       \n",
       "2012-01-01             38             51       26            10       16   \n",
       "2012-01-02             68            153       53             6       43   \n",
       "2012-01-03            104            248       89             3       58   \n",
       "\n",
       "            St-Urbain (données non disponibles)  \n",
       "Date                                             \n",
       "2012-01-01                                  NaN  \n",
       "2012-01-02                                  NaN  \n",
       "2012-01-03                                  NaN  "
      ]
     },
     "execution_count": 6,
     "metadata": {},
     "output_type": "execute_result"
    }
   ],
   "source": [
    "df = pd.read_csv(autocache(f\"{PANDAS_DATA}/bikes.csv\"), sep=';', encoding='latin1', parse_dates=['Date'], dayfirst=True, index_col='Date')\n",
    "df[:3]"
   ]
  },
  {
   "cell_type": "markdown",
   "id": "409c477e",
   "metadata": {},
   "source": [
    "## Create mock data"
   ]
  },
  {
   "cell_type": "code",
   "execution_count": 7,
   "id": "ff782f96",
   "metadata": {},
   "outputs": [],
   "source": [
    "import numpy as np\n",
    "from random import randint\n",
    "\n",
    "def get_mock_int(i, var=10):\n",
    "    base = 100 + int(np.cos(i/10) * 50)\n",
    "    return randint(max(base-var, 1),max(1, base+var))\n",
    "\n",
    "def get_mock_date(i):\n",
    "    return str(parse('Jun 1 2005').date() + timedelta(days=i))\n",
    "\n",
    "# some randomness\n",
    "r = [(randint(1, 40), randint(1, 40)) for _ in range(7)]\n",
    "\n",
    "def get_mock_row(i):\n",
    "    res = [get_mock_int(i+r[j][0], r[j][1]) for j in range(7)]\n",
    "    # add NaNs in the second and 10th col\n",
    "    res.insert(1, None), res.insert(9, None)\n",
    "    return res\n",
    "    "
   ]
  },
  {
   "cell_type": "code",
   "execution_count": 8,
   "id": "3a5a37db",
   "metadata": {},
   "outputs": [],
   "source": [
    "mock = pd.DataFrame(index=[Timestamp(get_mock_date(i)) for i in range(len(df))],\n",
    "                    data=[get_mock_row(i) for i in range(len(df))],\n",
    "                    columns=df.columns)"
   ]
  },
  {
   "cell_type": "markdown",
   "id": "df9d660e",
   "metadata": {},
   "source": [
    "Upload the data"
   ]
  },
  {
   "cell_type": "code",
   "execution_count": 9,
   "id": "5d943349",
   "metadata": {},
   "outputs": [
    {
     "name": "stderr",
     "output_type": "stream",
     "text": [
      "100%|█████████████████████████████████████████████████████████████████████████████████████████████████████████| 1/1 [00:00<00:00,  4.51it/s]"
     ]
    },
    {
     "name": "stdout",
     "output_type": "stream",
     "text": [
      "Uploading: bikes\n"
     ]
    },
    {
     "name": "stderr",
     "output_type": "stream",
     "text": [
      "\n"
     ]
    },
    {
     "data": {
      "text/html": [
       "<div class=\"alert-success\" style=\"padding:5px;\"><strong>SyftSuccess</strong>: Dataset Added</div><br />"
      ],
      "text/plain": [
       "<class 'syft.service.response.SyftSuccess'>: Dataset Added"
      ]
     },
     "execution_count": 9,
     "metadata": {},
     "output_type": "execute_result"
    }
   ],
   "source": [
    "dataset = sy.Dataset(name=\"bikes2\",\n",
    "                     asset_list=[sy.Asset(name=\"bikes\", data=df, mock=mock, mock_is_real=False)])\n",
    "root_domain_client.upload_dataset(dataset)\n"
   ]
  },
  {
   "cell_type": "markdown",
   "id": "2fa251ef",
   "metadata": {},
   "source": [
    "## create Data scientist"
   ]
  },
  {
   "cell_type": "code",
   "execution_count": 10,
   "id": "c51ce71e",
   "metadata": {},
   "outputs": [],
   "source": [
    "user = root_domain_client.register(name=\"Jane Doe\", email=\"jane@caltech.edu\",\n",
    "                            password=\"abc123\", institution=\"Caltech\", website=\"https://www.caltech.edu/\")\n",
    "\n",
    "# todo: give user data scientist role\n",
    "\n",
    "guest_domain_client = node.client\n",
    "\n",
    "guest_client = guest_domain_client.login(email=\"jane@caltech.edu\", password=\"abc123\")"
   ]
  },
  {
   "cell_type": "markdown",
   "id": "8d405280",
   "metadata": {},
   "source": [
    "# Data Scientist: create result pointer"
   ]
  },
  {
   "cell_type": "markdown",
   "id": "8c9c3595",
   "metadata": {},
   "source": [
    "## Download mock and submit project"
   ]
  },
  {
   "cell_type": "markdown",
   "id": "8c63f823",
   "metadata": {},
   "source": [
    "### Get mock"
   ]
  },
  {
   "cell_type": "code",
   "execution_count": 11,
   "id": "81c7f134",
   "metadata": {},
   "outputs": [],
   "source": [
    "ds = guest_domain_client.datasets[0]"
   ]
  },
  {
   "cell_type": "code",
   "execution_count": 12,
   "id": "fa97cda8",
   "metadata": {},
   "outputs": [],
   "source": [
    "asset = ds.assets[\"bikes\"]"
   ]
  },
  {
   "cell_type": "code",
   "execution_count": 13,
   "id": "01338633",
   "metadata": {},
   "outputs": [
    {
     "data": {
      "text/markdown": [
       "```python\n",
       "Asset: bikes\n",
       "Pointer Id: 695a9ecf704a49f0a2d9257d158172b7\n",
       "Description: None\n",
       "Total Data Subjects: 0\n",
       "Shape: (310, 9)\n",
       "Contributors: 0\n",
       "\n",
       "```"
      ],
      "text/plain": [
       "syft.service.dataset.dataset.Asset"
      ]
     },
     "execution_count": 13,
     "metadata": {},
     "output_type": "execute_result"
    }
   ],
   "source": [
    "asset"
   ]
  },
  {
   "cell_type": "code",
   "execution_count": 14,
   "id": "b93f1fd8",
   "metadata": {},
   "outputs": [],
   "source": [
    "bikes_pointer = asset.mock"
   ]
  },
  {
   "cell_type": "markdown",
   "id": "d4d64865",
   "metadata": {},
   "source": [
    "### Adding a 'weekday' column to our dataframe"
   ]
  },
  {
   "cell_type": "markdown",
   "id": "ba44870a",
   "metadata": {},
   "source": [
    "First, we need to load up the data. We've done this before."
   ]
  },
  {
   "cell_type": "code",
   "execution_count": 15,
   "id": "79184e86",
   "metadata": {},
   "outputs": [
    {
     "data": {
      "text/plain": [
       "<AxesSubplot: >"
      ]
     },
     "execution_count": 15,
     "metadata": {},
     "output_type": "execute_result"
    },
    {
     "data": {
      "image/png": "[encoded data removed]",
      "text/plain": [
       "<Figure size 640x480 with 1 Axes>"
      ]
     },
     "metadata": {},
     "output_type": "display_data"
    }
   ],
   "source": [
    "bikes_pointer['Berri 1'].plot()"
   ]
  },
  {
   "cell_type": "markdown",
   "id": "1ceae1fd",
   "metadata": {},
   "source": [
    "Next up, we're just going to look at the Berri bike path. Berri is a street in Montreal, with a pretty important bike path. I use it mostly on my way to the library now, but I used to take it to work sometimes when I worked in Old Montreal.\n",
    "\n",
    "So we're going to create a dataframe with just the Berri bikepath in it"
   ]
  },
  {
   "cell_type": "code",
   "execution_count": 16,
   "id": "36dd344e",
   "metadata": {},
   "outputs": [],
   "source": [
    "berri_bikes_pointer = bikes_pointer[['Berri 1']].copy()"
   ]
  },
  {
   "cell_type": "code",
   "execution_count": 17,
   "id": "c95258aa",
   "metadata": {},
   "outputs": [
    {
     "data": {
      "text/html": [
       "<div>\n",
       "<style scoped>\n",
       "    .dataframe tbody tr th:only-of-type {\n",
       "        vertical-align: middle;\n",
       "    }\n",
       "\n",
       "    .dataframe tbody tr th {\n",
       "        vertical-align: top;\n",
       "    }\n",
       "\n",
       "    .dataframe thead th {\n",
       "        text-align: right;\n",
       "    }\n",
       "</style>\n",
       "<table border=\"1\" class=\"dataframe\">\n",
       "  <thead>\n",
       "    <tr style=\"text-align: right;\">\n",
       "      <th></th>\n",
       "      <th>Berri 1</th>\n",
       "    </tr>\n",
       "  </thead>\n",
       "  <tbody>\n",
       "    <tr>\n",
       "      <th>2005-06-01</th>\n",
       "      <td>50</td>\n",
       "    </tr>\n",
       "    <tr>\n",
       "      <th>2005-06-02</th>\n",
       "      <td>65</td>\n",
       "    </tr>\n",
       "    <tr>\n",
       "      <th>2005-06-03</th>\n",
       "      <td>81</td>\n",
       "    </tr>\n",
       "    <tr>\n",
       "      <th>2005-06-04</th>\n",
       "      <td>70</td>\n",
       "    </tr>\n",
       "    <tr>\n",
       "      <th>2005-06-05</th>\n",
       "      <td>69</td>\n",
       "    </tr>\n",
       "  </tbody>\n",
       "</table>\n",
       "</div>"
      ],
      "text/markdown": [
       "```python\n",
       "TwinPointer(Mock)\n",
       "```\n",
       "            Berri 1\n",
       "2005-06-01       50\n",
       "2005-06-02       65\n",
       "2005-06-03       81\n",
       "2005-06-04       70\n",
       "2005-06-05       69"
      ],
      "text/plain": [
       "TwinPointer(Mock):\n",
       "            Berri 1\n",
       "2005-06-01       50\n",
       "2005-06-02       65\n",
       "2005-06-03       81\n",
       "2005-06-04       70\n",
       "2005-06-05       69"
      ]
     },
     "execution_count": 17,
     "metadata": {},
     "output_type": "execute_result"
    }
   ],
   "source": [
    "berri_bikes_pointer[:5]"
   ]
  },
  {
   "cell_type": "markdown",
   "id": "7211e961",
   "metadata": {},
   "source": [
    "Next, we need to add a 'weekday' column. Firstly, we can get the weekday from the index. We haven't talked about indexes yet, but the index is what's on the left on the above dataframe, under 'Date'. It's basically all the days of the year."
   ]
  },
  {
   "cell_type": "code",
   "execution_count": 18,
   "id": "6c671d13",
   "metadata": {},
   "outputs": [
    {
     "data": {
      "text/markdown": [
       "```python\n",
       "TwinPointer(Mock)\n",
       "```\n",
       "DatetimeIndex(['2005-06-01', '2005-06-02', '2005-06-03', '2005-06-04',\n",
       "               '2005-06-05', '2005-06-06', '2005-06-07', '2005-06-08',\n",
       "               '2005-06-09', '2005-06-10',\n",
       "               ...\n",
       "               '2006-03-28', '2006-03-29', '2006-03-30', '2006-03-31',\n",
       "               '2006-04-01', '2006-04-02', '2006-04-03', '2006-04-04',\n",
       "               '2006-04-05', '2006-04-06'],\n",
       "              dtype='datetime64[ns]', length=310, freq=None)"
      ],
      "text/plain": [
       "TwinPointer(Mock):\n",
       "DatetimeIndex(['2005-06-01', '2005-06-02', '2005-06-03', '2005-06-04',\n",
       "               '2005-06-05', '2005-06-06', '2005-06-07', '2005-06-08',\n",
       "               '2005-06-09', '2005-06-10',\n",
       "               ...\n",
       "               '2006-03-28', '2006-03-29', '2006-03-30', '2006-03-31',\n",
       "               '2006-04-01', '2006-04-02', '2006-04-03', '2006-04-04',\n",
       "               '2006-04-05', '2006-04-06'],\n",
       "              dtype='datetime64[ns]', length=310, freq=None)"
      ]
     },
     "execution_count": 18,
     "metadata": {},
     "output_type": "execute_result"
    }
   ],
   "source": [
    "berri_bikes_pointer.index"
   ]
  },
  {
   "cell_type": "markdown",
   "id": "63930b48",
   "metadata": {},
   "source": [
    "You can see that actually some of the days are missing -- only 310 days of the year are actually there. Who knows why.\n",
    "\n",
    "Pandas has a bunch of really great time series functionality, so if we wanted to get the day of the month for each row, we could do it like this:"
   ]
  },
  {
   "cell_type": "code",
   "execution_count": 19,
   "id": "7126fac0",
   "metadata": {},
   "outputs": [
    {
     "data": {
      "text/markdown": [
       "```python\n",
       "TwinPointer(Mock)\n",
       "```\n",
       "Int64Index([ 1,  2,  3,  4,  5,  6,  7,  8,  9, 10,\n",
       "            ...\n",
       "            28, 29, 30, 31,  1,  2,  3,  4,  5,  6],\n",
       "           dtype='int64', length=310)"
      ],
      "text/plain": [
       "TwinPointer(Mock):\n",
       "Int64Index([ 1,  2,  3,  4,  5,  6,  7,  8,  9, 10,\n",
       "            ...\n",
       "            28, 29, 30, 31,  1,  2,  3,  4,  5,  6],\n",
       "           dtype='int64', length=310)"
      ]
     },
     "execution_count": 19,
     "metadata": {},
     "output_type": "execute_result"
    }
   ],
   "source": [
    "berri_bikes_pointer.index.day"
   ]
  },
  {
   "cell_type": "markdown",
   "id": "f9343041",
   "metadata": {},
   "source": [
    "We actually want the weekday, though:"
   ]
  },
  {
   "cell_type": "code",
   "execution_count": 20,
   "id": "ad5b4b69",
   "metadata": {},
   "outputs": [
    {
     "data": {
      "text/markdown": [
       "```python\n",
       "TwinPointer(Mock)\n",
       "```\n",
       "Int64Index([2, 3, 4, 5, 6, 0, 1, 2, 3, 4,\n",
       "            ...\n",
       "            1, 2, 3, 4, 5, 6, 0, 1, 2, 3],\n",
       "           dtype='int64', length=310)"
      ],
      "text/plain": [
       "TwinPointer(Mock):\n",
       "Int64Index([2, 3, 4, 5, 6, 0, 1, 2, 3, 4,\n",
       "            ...\n",
       "            1, 2, 3, 4, 5, 6, 0, 1, 2, 3],\n",
       "           dtype='int64', length=310)"
      ]
     },
     "execution_count": 20,
     "metadata": {},
     "output_type": "execute_result"
    }
   ],
   "source": [
    "berri_bikes_pointer.index.weekday"
   ]
  },
  {
   "cell_type": "markdown",
   "id": "b9c89623",
   "metadata": {},
   "source": [
    "These are the days of the week, where 0 is Monday. I found out that 0 was Monday by checking on a calendar.\n",
    "\n",
    "Now that we know how to get the weekday, we can add it as a column in our dataframe like this:"
   ]
  },
  {
   "cell_type": "code",
   "execution_count": 21,
   "id": "73767661",
   "metadata": {},
   "outputs": [
    {
     "data": {
      "text/html": [
       "<div>\n",
       "<style scoped>\n",
       "    .dataframe tbody tr th:only-of-type {\n",
       "        vertical-align: middle;\n",
       "    }\n",
       "\n",
       "    .dataframe tbody tr th {\n",
       "        vertical-align: top;\n",
       "    }\n",
       "\n",
       "    .dataframe thead th {\n",
       "        text-align: right;\n",
       "    }\n",
       "</style>\n",
       "<table border=\"1\" class=\"dataframe\">\n",
       "  <thead>\n",
       "    <tr style=\"text-align: right;\">\n",
       "      <th></th>\n",
       "      <th>Berri 1</th>\n",
       "    </tr>\n",
       "  </thead>\n",
       "  <tbody>\n",
       "    <tr>\n",
       "      <th>2005-06-01</th>\n",
       "      <td>50</td>\n",
       "    </tr>\n",
       "    <tr>\n",
       "      <th>2005-06-02</th>\n",
       "      <td>65</td>\n",
       "    </tr>\n",
       "    <tr>\n",
       "      <th>2005-06-03</th>\n",
       "      <td>81</td>\n",
       "    </tr>\n",
       "    <tr>\n",
       "      <th>2005-06-04</th>\n",
       "      <td>70</td>\n",
       "    </tr>\n",
       "    <tr>\n",
       "      <th>2005-06-05</th>\n",
       "      <td>69</td>\n",
       "    </tr>\n",
       "    <tr>\n",
       "      <th>...</th>\n",
       "      <td>...</td>\n",
       "    </tr>\n",
       "    <tr>\n",
       "      <th>2006-04-02</th>\n",
       "      <td>59</td>\n",
       "    </tr>\n",
       "    <tr>\n",
       "      <th>2006-04-03</th>\n",
       "      <td>30</td>\n",
       "    </tr>\n",
       "    <tr>\n",
       "      <th>2006-04-04</th>\n",
       "      <td>46</td>\n",
       "    </tr>\n",
       "    <tr>\n",
       "      <th>2006-04-05</th>\n",
       "      <td>64</td>\n",
       "    </tr>\n",
       "    <tr>\n",
       "      <th>2006-04-06</th>\n",
       "      <td>39</td>\n",
       "    </tr>\n",
       "  </tbody>\n",
       "</table>\n",
       "<p>310 rows × 1 columns</p>\n",
       "</div>"
      ],
      "text/markdown": [
       "```python\n",
       "TwinPointer(Mock)\n",
       "```\n",
       "            Berri 1\n",
       "2005-06-01       50\n",
       "2005-06-02       65\n",
       "2005-06-03       81\n",
       "2005-06-04       70\n",
       "2005-06-05       69\n",
       "...             ...\n",
       "2006-04-02       59\n",
       "2006-04-03       30\n",
       "2006-04-04       46\n",
       "2006-04-05       64\n",
       "2006-04-06       39\n",
       "\n",
       "[310 rows x 1 columns]"
      ],
      "text/plain": [
       "TwinPointer(Mock):\n",
       "            Berri 1\n",
       "2005-06-01       50\n",
       "2005-06-02       65\n",
       "2005-06-03       81\n",
       "2005-06-04       70\n",
       "2005-06-05       69\n",
       "...             ...\n",
       "2006-04-02       59\n",
       "2006-04-03       30\n",
       "2006-04-04       46\n",
       "2006-04-05       64\n",
       "2006-04-06       39\n",
       "\n",
       "[310 rows x 1 columns]"
      ]
     },
     "execution_count": 21,
     "metadata": {},
     "output_type": "execute_result"
    }
   ],
   "source": [
    "berri_bikes_pointer"
   ]
  },
  {
   "cell_type": "code",
   "execution_count": 22,
   "id": "f9578a38",
   "metadata": {},
   "outputs": [],
   "source": [
    "# d1 = berri_bikes_pointer.syft_action_data\n",
    "# d2 = berri_bikes_pointer.index.weekday.syft_action_data"
   ]
  },
  {
   "cell_type": "code",
   "execution_count": 23,
   "id": "b5a4a8d5",
   "metadata": {},
   "outputs": [],
   "source": [
    "# d1['weekday'] = d2\n"
   ]
  },
  {
   "cell_type": "code",
   "execution_count": 24,
   "id": "500785c9",
   "metadata": {},
   "outputs": [],
   "source": [
    "# d1"
   ]
  },
  {
   "cell_type": "code",
   "execution_count": 25,
   "id": "cde8f247",
   "metadata": {},
   "outputs": [],
   "source": [
    "berri_bikes_pointer['weekday'] = berri_bikes_pointer.index.weekday"
   ]
  },
  {
   "cell_type": "code",
   "execution_count": 26,
   "id": "1d0e59a6",
   "metadata": {},
   "outputs": [],
   "source": [
    "# root_domain_client = node.login(email=\"info@openmined.org\", password=\"changethis\")"
   ]
  },
  {
   "cell_type": "code",
   "execution_count": 27,
   "id": "ab98737f",
   "metadata": {},
   "outputs": [],
   "source": [
    "# berri_bikes_pointer.get_from(root_domain_client)"
   ]
  },
  {
   "cell_type": "code",
   "execution_count": 28,
   "id": "672a9c8d",
   "metadata": {},
   "outputs": [],
   "source": [
    "# berri_bikes_pointer"
   ]
  },
  {
   "cell_type": "code",
   "execution_count": 29,
   "id": "3b3469cc",
   "metadata": {},
   "outputs": [],
   "source": [
    "# import pandas"
   ]
  },
  {
   "cell_type": "code",
   "execution_count": 30,
   "id": "f47240a4",
   "metadata": {},
   "outputs": [],
   "source": [
    "# pandas.core.indexes.numeric.Int64Index([1,2,3]).values"
   ]
  },
  {
   "cell_type": "code",
   "execution_count": 31,
   "id": "71c76eb1",
   "metadata": {},
   "outputs": [
    {
     "data": {
      "text/html": [
       "<div>\n",
       "<style scoped>\n",
       "    .dataframe tbody tr th:only-of-type {\n",
       "        vertical-align: middle;\n",
       "    }\n",
       "\n",
       "    .dataframe tbody tr th {\n",
       "        vertical-align: top;\n",
       "    }\n",
       "\n",
       "    .dataframe thead th {\n",
       "        text-align: right;\n",
       "    }\n",
       "</style>\n",
       "<table border=\"1\" class=\"dataframe\">\n",
       "  <thead>\n",
       "    <tr style=\"text-align: right;\">\n",
       "      <th></th>\n",
       "      <th>Berri 1</th>\n",
       "      <th>weekday</th>\n",
       "    </tr>\n",
       "  </thead>\n",
       "  <tbody>\n",
       "    <tr>\n",
       "      <th>2005-06-01</th>\n",
       "      <td>50</td>\n",
       "      <td>2</td>\n",
       "    </tr>\n",
       "    <tr>\n",
       "      <th>2005-06-02</th>\n",
       "      <td>65</td>\n",
       "      <td>3</td>\n",
       "    </tr>\n",
       "    <tr>\n",
       "      <th>2005-06-03</th>\n",
       "      <td>81</td>\n",
       "      <td>4</td>\n",
       "    </tr>\n",
       "    <tr>\n",
       "      <th>2005-06-04</th>\n",
       "      <td>70</td>\n",
       "      <td>5</td>\n",
       "    </tr>\n",
       "    <tr>\n",
       "      <th>2005-06-05</th>\n",
       "      <td>69</td>\n",
       "      <td>6</td>\n",
       "    </tr>\n",
       "  </tbody>\n",
       "</table>\n",
       "</div>"
      ],
      "text/markdown": [
       "```python\n",
       "TwinPointer(Mock)\n",
       "```\n",
       "            Berri 1  weekday\n",
       "2005-06-01       50        2\n",
       "2005-06-02       65        3\n",
       "2005-06-03       81        4\n",
       "2005-06-04       70        5\n",
       "2005-06-05       69        6"
      ],
      "text/plain": [
       "TwinPointer(Mock):\n",
       "            Berri 1  weekday\n",
       "2005-06-01       50        2\n",
       "2005-06-02       65        3\n",
       "2005-06-03       81        4\n",
       "2005-06-04       70        5\n",
       "2005-06-05       69        6"
      ]
     },
     "execution_count": 31,
     "metadata": {},
     "output_type": "execute_result"
    }
   ],
   "source": [
    "# berri_bikes_pointer.loc[:,'weekday'] = berri_bikes_pointer.index.weekday\n",
    "berri_bikes_pointer[:5]"
   ]
  },
  {
   "cell_type": "markdown",
   "id": "96cea4f6",
   "metadata": {},
   "source": [
    "### Adding up the cyclists by weekday"
   ]
  },
  {
   "cell_type": "markdown",
   "id": "c0863c13",
   "metadata": {},
   "source": [
    "This turns out to be really easy!\n",
    "\n",
    "Dataframes have a `.groupby()` method that is similar to SQL groupby, if you're familiar with that. I'm not going to explain more about it right now -- if you want to to know more, the [documentation](https://pandas.pydata.org/pandas-docs/stable/user_guide/groupby.html) is really good.\n",
    "\n",
    "In this case, `berri_bikes.groupby('weekday').aggregate(sum)` means \"Group the rows by weekday and then add up all the values with the same weekday\"."
   ]
  },
  {
   "cell_type": "code",
   "execution_count": 32,
   "id": "948bd8d4",
   "metadata": {},
   "outputs": [],
   "source": [
    "# res = berri_bikes_pointer.groupby('weekday')"
   ]
  },
  {
   "cell_type": "code",
   "execution_count": 33,
   "id": "506c37c9",
   "metadata": {},
   "outputs": [],
   "source": [
    "# res.syft_node_uid"
   ]
  },
  {
   "cell_type": "code",
   "execution_count": 34,
   "id": "e56f1712",
   "metadata": {},
   "outputs": [],
   "source": [
    "from syft.util.util import get_fully_qualified_name"
   ]
  },
  {
   "cell_type": "code",
   "execution_count": 35,
   "id": "02971135",
   "metadata": {},
   "outputs": [
    {
     "data": {
      "text/plain": [
       "'builtins.sum'"
      ]
     },
     "execution_count": 35,
     "metadata": {},
     "output_type": "execute_result"
    }
   ],
   "source": [
    "get_fully_qualified_name(sum)"
   ]
  },
  {
   "cell_type": "code",
   "execution_count": 36,
   "id": "ef526e7d",
   "metadata": {},
   "outputs": [],
   "source": [
    "import inspect"
   ]
  },
  {
   "cell_type": "code",
   "execution_count": null,
   "id": "ab49d469",
   "metadata": {},
   "outputs": [],
   "source": []
  },
  {
   "cell_type": "code",
   "execution_count": 37,
   "id": "7fbc74c1",
   "metadata": {},
   "outputs": [
    {
     "data": {
      "text/plain": [
       "<function sum(iterable, /, start=0)>"
      ]
     },
     "execution_count": 37,
     "metadata": {},
     "output_type": "execute_result"
    }
   ],
   "source": [
    "sum"
   ]
  },
  {
   "cell_type": "code",
   "execution_count": 38,
   "id": "94a54ad4",
   "metadata": {},
   "outputs": [],
   "source": [
    "# frmo builtins im"
   ]
  },
  {
   "cell_type": "code",
   "execution_count": 39,
   "id": "104734ef",
   "metadata": {},
   "outputs": [],
   "source": [
    "import builtins"
   ]
  },
  {
   "cell_type": "code",
   "execution_count": 40,
   "id": "fff4a684",
   "metadata": {},
   "outputs": [],
   "source": [
    "import types"
   ]
  },
  {
   "cell_type": "code",
   "execution_count": 41,
   "id": "9ca016cf",
   "metadata": {},
   "outputs": [],
   "source": [
    "# inspect.isfunction(np.sum) isinstance(sum, types.BuiltinFunctionType)"
   ]
  },
  {
   "cell_type": "code",
   "execution_count": 42,
   "id": "97c916da",
   "metadata": {},
   "outputs": [],
   "source": [
    "def get_function_name(x):\n",
    "    return f\"{x.__module__}.{x.__name__}\""
   ]
  },
  {
   "cell_type": "code",
   "execution_count": 43,
   "id": "7b8be449",
   "metadata": {},
   "outputs": [
    {
     "data": {
      "text/plain": [
       "'numpy.sum'"
      ]
     },
     "execution_count": 43,
     "metadata": {},
     "output_type": "execute_result"
    }
   ],
   "source": [
    "get_function_name(np.sum)"
   ]
  },
  {
   "cell_type": "code",
   "execution_count": 44,
   "id": "d00c5ae1",
   "metadata": {},
   "outputs": [
    {
     "data": {
      "text/plain": [
       "'builtins'"
      ]
     },
     "execution_count": 44,
     "metadata": {},
     "output_type": "execute_result"
    }
   ],
   "source": [
    "sum.__module__"
   ]
  },
  {
   "cell_type": "code",
   "execution_count": 45,
   "id": "e85b3ae6",
   "metadata": {},
   "outputs": [
    {
     "data": {
      "text/plain": [
       "'numpy'"
      ]
     },
     "execution_count": 45,
     "metadata": {},
     "output_type": "execute_result"
    }
   ],
   "source": [
    "np.sum.__module__"
   ]
  },
  {
   "cell_type": "code",
   "execution_count": 46,
   "id": "1d1f133f",
   "metadata": {},
   "outputs": [
    {
     "data": {
      "text/plain": [
       "'builtins'"
      ]
     },
     "execution_count": 46,
     "metadata": {},
     "output_type": "execute_result"
    }
   ],
   "source": [
    "sum.__module__"
   ]
  },
  {
   "cell_type": "code",
   "execution_count": 47,
   "id": "4ade27da",
   "metadata": {},
   "outputs": [
    {
     "data": {
      "text/plain": [
       "'sum'"
      ]
     },
     "execution_count": 47,
     "metadata": {},
     "output_type": "execute_result"
    }
   ],
   "source": [
    "sum.__name__"
   ]
  },
  {
   "cell_type": "code",
   "execution_count": 48,
   "id": "97ffea48",
   "metadata": {},
   "outputs": [],
   "source": [
    "from syft.serde.recursive import TYPE_BANK"
   ]
  },
  {
   "cell_type": "code",
   "execution_count": 50,
   "id": "9e531867",
   "metadata": {},
   "outputs": [],
   "source": [
    "# TYPE_BANK[\"builtins.builtin_function_or_method\"]"
   ]
  },
  {
   "cell_type": "code",
   "execution_count": 63,
   "id": "ec832cb4",
   "metadata": {},
   "outputs": [],
   "source": [
    "x = type(np.sum)"
   ]
  },
  {
   "cell_type": "code",
   "execution_count": 64,
   "id": "1468e0e1",
   "metadata": {},
   "outputs": [
    {
     "data": {
      "text/plain": [
       "'builtins'"
      ]
     },
     "execution_count": 64,
     "metadata": {},
     "output_type": "execute_result"
    }
   ],
   "source": [
    "x.__module__"
   ]
  },
  {
   "cell_type": "code",
   "execution_count": 65,
   "id": "8c5afda2",
   "metadata": {},
   "outputs": [
    {
     "data": {
      "text/plain": [
       "'function'"
      ]
     },
     "execution_count": 65,
     "metadata": {},
     "output_type": "execute_result"
    }
   ],
   "source": [
    "x.__name__"
   ]
  },
  {
   "cell_type": "code",
   "execution_count": null,
   "id": "a3f57fdb",
   "metadata": {},
   "outputs": [],
   "source": [
    "builtins.__dict__.keys()"
   ]
  },
  {
   "cell_type": "code",
   "execution_count": null,
   "id": "ef139e5d",
   "metadata": {},
   "outputs": [],
   "source": [
    "type(sum)"
   ]
  },
  {
   "cell_type": "code",
   "execution_count": 54,
   "id": "4ff5e781",
   "metadata": {},
   "outputs": [
    {
     "data": {
      "text/plain": [
       "<function numpy.median(a, axis=None, out=None, overwrite_input=False, keepdims=False)>"
      ]
     },
     "execution_count": 54,
     "metadata": {},
     "output_type": "execute_result"
    }
   ],
   "source": [
    "sy.deserialize(sy.serialize(np.median))"
   ]
  },
  {
   "cell_type": "code",
   "execution_count": 55,
   "id": "abd1ad8d",
   "metadata": {},
   "outputs": [],
   "source": [
    "# %debug"
   ]
  },
  {
   "cell_type": "code",
   "execution_count": 56,
   "id": "632fbfc9",
   "metadata": {},
   "outputs": [
    {
     "data": {
      "text/plain": [
       "<function sum(iterable, /, start=0)>"
      ]
     },
     "execution_count": 56,
     "metadata": {},
     "output_type": "execute_result"
    }
   ],
   "source": [
    "sum"
   ]
  },
  {
   "cell_type": "code",
   "execution_count": 57,
   "id": "ec48bb81",
   "metadata": {},
   "outputs": [
    {
     "data": {
      "text/html": [
       "<div>\n",
       "<style scoped>\n",
       "    .dataframe tbody tr th:only-of-type {\n",
       "        vertical-align: middle;\n",
       "    }\n",
       "\n",
       "    .dataframe tbody tr th {\n",
       "        vertical-align: top;\n",
       "    }\n",
       "\n",
       "    .dataframe thead th {\n",
       "        text-align: right;\n",
       "    }\n",
       "</style>\n",
       "<table border=\"1\" class=\"dataframe\">\n",
       "  <thead>\n",
       "    <tr style=\"text-align: right;\">\n",
       "      <th></th>\n",
       "      <th>Berri 1</th>\n",
       "    </tr>\n",
       "    <tr>\n",
       "      <th>weekday</th>\n",
       "      <th></th>\n",
       "    </tr>\n",
       "  </thead>\n",
       "  <tbody>\n",
       "    <tr>\n",
       "      <th>0</th>\n",
       "      <td>4451</td>\n",
       "    </tr>\n",
       "    <tr>\n",
       "      <th>1</th>\n",
       "      <td>4645</td>\n",
       "    </tr>\n",
       "    <tr>\n",
       "      <th>2</th>\n",
       "      <td>4541</td>\n",
       "    </tr>\n",
       "    <tr>\n",
       "      <th>3</th>\n",
       "      <td>4530</td>\n",
       "    </tr>\n",
       "    <tr>\n",
       "      <th>4</th>\n",
       "      <td>4358</td>\n",
       "    </tr>\n",
       "    <tr>\n",
       "      <th>5</th>\n",
       "      <td>4419</td>\n",
       "    </tr>\n",
       "    <tr>\n",
       "      <th>6</th>\n",
       "      <td>4403</td>\n",
       "    </tr>\n",
       "  </tbody>\n",
       "</table>\n",
       "</div>"
      ],
      "text/markdown": [
       "```python\n",
       "TwinPointer(Mock)\n",
       "```\n",
       "         Berri 1\n",
       "weekday         \n",
       "0           4451\n",
       "1           4645\n",
       "2           4541\n",
       "3           4530\n",
       "4           4358\n",
       "5           4419\n",
       "6           4403"
      ],
      "text/plain": [
       "TwinPointer(Mock):\n",
       "         Berri 1\n",
       "weekday         \n",
       "0           4451\n",
       "1           4645\n",
       "2           4541\n",
       "3           4530\n",
       "4           4358\n",
       "5           4419\n",
       "6           4403"
      ]
     },
     "execution_count": 57,
     "metadata": {},
     "output_type": "execute_result"
    }
   ],
   "source": [
    "weekday_counts_pointer = berri_bikes_pointer.groupby('weekday').aggregate(sum)\n",
    "weekday_counts_pointer"
   ]
  },
  {
   "cell_type": "markdown",
   "id": "ed8218fd",
   "metadata": {},
   "source": [
    "It's hard to remember what 0, 1, 2, 3, 4, 5, 6 mean, so we can fix it up and graph it:"
   ]
  },
  {
   "cell_type": "code",
   "execution_count": 58,
   "id": "9a1e5e78",
   "metadata": {},
   "outputs": [],
   "source": [
    "# weekday_counts.index = ['Monday', 'Tuesday', 'Wednesday', 'Thursday', 'Friday', 'Saturday', 'Sunday']\n",
    "# weekday_counts"
   ]
  },
  {
   "cell_type": "code",
   "execution_count": 59,
   "id": "3b9b2bdf",
   "metadata": {},
   "outputs": [
    {
     "data": {
      "text/plain": [
       "<AxesSubplot: xlabel='weekday'>"
      ]
     },
     "execution_count": 59,
     "metadata": {},
     "output_type": "execute_result"
    },
    {
     "data": {
      "image/png": "[encoded data removed]",
      "text/plain": [
       "<Figure size 640x480 with 1 Axes>"
      ]
     },
     "metadata": {},
     "output_type": "display_data"
    }
   ],
   "source": [
    "weekday_counts_pointer.plot(kind='bar')"
   ]
  },
  {
   "cell_type": "markdown",
   "id": "15c4becc",
   "metadata": {},
   "source": [
    "So it looks like Montrealers are commuter cyclists -- they bike much more during the week. Neat!"
   ]
  },
  {
   "cell_type": "markdown",
   "id": "3ad300a3",
   "metadata": {},
   "source": [
    "### Putting it together"
   ]
  },
  {
   "cell_type": "markdown",
   "id": "bdc4b7c7",
   "metadata": {},
   "source": [
    "Now we want to request the real result."
   ]
  },
  {
   "cell_type": "code",
   "execution_count": 60,
   "id": "24b2b66a",
   "metadata": {},
   "outputs": [
    {
     "data": {
      "text/markdown": [
       "```python\n",
       "class Request:\n",
       "  id: str = a423bd71a4034f8a9c0ea60313d67c7c\n",
       "  requesting_user_verify_key: str = bfa3d9c8a1264734a10c051b8801b92b3e2aaea02795ec8621cb251f84acbfaf\n",
       "  approving_user_verify_key: str = None\n",
       "  request_time: str = 2023-05-24 09:02:28\n",
       "  approval_time: str = None\n",
       "  status: str = RequestStatus.PENDING\n",
       "  node_uid: str = 281e55cb3425360e464682cfb4672fcb\n",
       "  request_hash: str = \"f74539385f02be95c2a6b7ff6a6fa5fbbdbe92c41a22b11fcc2316a62f396b65\"\n",
       "  changes: str = [syft.service.request.request.ActionStoreChange]\n",
       "\n",
       "```"
      ],
      "text/plain": [
       "syft.service.request.request.Request"
      ]
     },
     "execution_count": 60,
     "metadata": {},
     "output_type": "execute_result"
    }
   ],
   "source": [
    "weekday_counts_pointer.request(guest_client)"
   ]
  },
  {
   "cell_type": "markdown",
   "id": "fa72779d",
   "metadata": {},
   "source": [
    "# Data owner: approve result"
   ]
  },
  {
   "cell_type": "code",
   "execution_count": 62,
   "id": "d6ace28f",
   "metadata": {},
   "outputs": [],
   "source": [
    "root_domain_client = node.login(email=\"info@openmined.org\", password=\"changethis\")"
   ]
  },
  {
   "cell_type": "code",
   "execution_count": 63,
   "id": "a2fab783",
   "metadata": {},
   "outputs": [
    {
     "data": {
      "text/html": [
       "<div class=\"alert-success\" style=\"padding:5px;\"><strong>SyftSuccess</strong>: Request a423bd71a4034f8a9c0ea60313d67c7c changes applied</div><br />"
      ],
      "text/plain": [
       "<class 'syft.service.response.SyftSuccess'>: Request a423bd71a4034f8a9c0ea60313d67c7c changes applied"
      ]
     },
     "execution_count": 63,
     "metadata": {},
     "output_type": "execute_result"
    }
   ],
   "source": [
    "root_domain_client.api.services.request[0].approve()"
   ]
  },
  {
   "cell_type": "markdown",
   "id": "33153a46",
   "metadata": {},
   "source": [
    "# Data scientist: fetch result"
   ]
  },
  {
   "cell_type": "code",
   "execution_count": 66,
   "id": "ed6436bd",
   "metadata": {},
   "outputs": [
    {
     "data": {
      "text/html": [
       "<div>\n",
       "<style scoped>\n",
       "    .dataframe tbody tr th:only-of-type {\n",
       "        vertical-align: middle;\n",
       "    }\n",
       "\n",
       "    .dataframe tbody tr th {\n",
       "        vertical-align: top;\n",
       "    }\n",
       "\n",
       "    .dataframe thead th {\n",
       "        text-align: right;\n",
       "    }\n",
       "</style>\n",
       "<table border=\"1\" class=\"dataframe\">\n",
       "  <thead>\n",
       "    <tr style=\"text-align: right;\">\n",
       "      <th></th>\n",
       "      <th>Berri 1</th>\n",
       "    </tr>\n",
       "    <tr>\n",
       "      <th>weekday</th>\n",
       "      <th></th>\n",
       "    </tr>\n",
       "  </thead>\n",
       "  <tbody>\n",
       "    <tr>\n",
       "      <th>0</th>\n",
       "      <td>134298</td>\n",
       "    </tr>\n",
       "    <tr>\n",
       "      <th>1</th>\n",
       "      <td>135305</td>\n",
       "    </tr>\n",
       "    <tr>\n",
       "      <th>2</th>\n",
       "      <td>152972</td>\n",
       "    </tr>\n",
       "    <tr>\n",
       "      <th>3</th>\n",
       "      <td>160131</td>\n",
       "    </tr>\n",
       "    <tr>\n",
       "      <th>4</th>\n",
       "      <td>141771</td>\n",
       "    </tr>\n",
       "    <tr>\n",
       "      <th>5</th>\n",
       "      <td>101578</td>\n",
       "    </tr>\n",
       "    <tr>\n",
       "      <th>6</th>\n",
       "      <td>99310</td>\n",
       "    </tr>\n",
       "  </tbody>\n",
       "</table>\n",
       "</div>"
      ],
      "text/plain": [
       "         Berri 1\n",
       "weekday         \n",
       "0         134298\n",
       "1         135305\n",
       "2         152972\n",
       "3         160131\n",
       "4         141771\n",
       "5         101578\n",
       "6          99310"
      ]
     },
     "execution_count": 66,
     "metadata": {},
     "output_type": "execute_result"
    }
   ],
   "source": [
    "guest_client = guest_domain_client.login(email=\"jane@caltech.edu\", password=\"abc123\")\n",
    "\n",
    "real_result = weekday_counts_pointer.get_from(guest_client)\n",
    "\n",
    "real_result"
   ]
  },
  {
   "cell_type": "code",
   "execution_count": 67,
   "id": "66cb7c51",
   "metadata": {},
   "outputs": [
    {
     "data": {
      "text/plain": [
       "<AxesSubplot: xlabel='weekday'>"
      ]
     },
     "execution_count": 67,
     "metadata": {},
     "output_type": "execute_result"
    },
    {
     "data": {
      "image/png": "[encoded data removed]",
      "text/plain": [
       "<Figure size 640x480 with 1 Axes>"
      ]
     },
     "metadata": {},
     "output_type": "display_data"
    }
   ],
   "source": [
    "real_result.plot(kind='bar')"
   ]
  }
 ],
 "metadata": {
  "kernelspec": {
   "display_name": "Python 3 (ipykernel)",
   "language": "python",
   "name": "python3"
  },
  "language_info": {
   "codemirror_mode": {
    "name": "ipython",
    "version": 3
   },
   "file_extension": ".py",
   "mimetype": "text/x-python",
   "name": "python",
   "nbconvert_exporter": "python",
   "pygments_lexer": "ipython3",
   "version": "3.9.16"
  },
  "toc": {
   "base_numbering": 1,
   "nav_menu": {},
   "number_sections": true,
   "sideBar": true,
   "skip_h1_title": false,
   "title_cell": "Table of Contents",
   "title_sidebar": "Contents",
   "toc_cell": false,
   "toc_position": {
    "height": "calc(100% - 180px)",
    "left": "10px",
    "top": "150px",
    "width": "358.398px"
   },
   "toc_section_display": true,
   "toc_window_display": true
  }
 },
 "nbformat": 4,
 "nbformat_minor": 5
}
