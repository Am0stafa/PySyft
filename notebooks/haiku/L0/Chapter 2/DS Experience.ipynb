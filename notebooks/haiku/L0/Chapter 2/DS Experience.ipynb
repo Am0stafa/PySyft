{
 "cells": [
  {
   "attachments": {},
   "cell_type": "markdown",
   "metadata": {},
   "source": [
    "# Haiku Level 0 Data Scientist Experience - Chapter 2\n",
    "## Part 2 - New account registration and code execution requests\n",
    "\n",
    "Link to the original Haiku tutorial: https://dm-haiku.readthedocs.io/en/latest/notebooks/transforms.html"
   ]
  },
  {
   "cell_type": "code",
   "execution_count": null,
   "metadata": {},
   "outputs": [],
   "source": [
    "# Import the necessary libraries\n",
    "import syft as sy\n",
    "sy.requires(\">=0.8-beta\")\n",
    "import jax\n",
    "import jax.numpy as jnp\n",
    "import haiku as hk"
   ]
  },
  {
   "cell_type": "code",
   "execution_count": null,
   "metadata": {},
   "outputs": [],
   "source": [
    "# Register a client to the domain\n",
    "node = sy.orchestra.launch(name=\"test-domain-1\")\n",
    "guest_domain_client = node.client\n",
    "guest_domain_client.register(name=\"Jane Doe\", email=\"jane@caltech.edu\", password=\"abc123\", institution=\"Caltech\", website=\"https://www.caltech.edu/\")\n",
    "guest_domain_client.login(email=\"jane@caltech.edu\", password=\"abc123\")"
   ]
  },
  {
   "cell_type": "code",
   "execution_count": null,
   "metadata": {},
   "outputs": [],
   "source": [
    "# Create a function for code execution\n",
    "# ATTENTION: ALL LIBRARIES USED SHOULD BE DEFINED INSIDE THE FUNCTION CONTEXT!!!\n",
    "\n",
    "@sy.syft_function(input_policy=sy.ExactMatch(),\n",
    "                  output_policy=sy.SingleExecutionExactOutput())\n",
    "def limitations_example():\n",
    "    import jax\n",
    "    import jax.numpy as jnp\n",
    "    import haiku as hk\n",
    "    import numpy as np\n",
    "    \n",
    "    def net(x): # inside of a hk.transform, this is still side-effecting\n",
    "        w = hk.get_parameter(\"w\", (2, 2), init=jnp.ones)\n",
    "        return w @ x\n",
    "\n",
    "    def eval_shape_net(x):\n",
    "        output_shape = jax.eval_shape(net, x) # eval_shape on side-effecting function\n",
    "        return net(x)                         # UnexpectedTracerError!\n",
    "\n",
    "    init, _ = hk.transform(eval_shape_net)\n",
    "    try:\n",
    "        init(jax.random.PRNGKey(666), jnp.ones((2, 2)))\n",
    "    except jax.errors.UnexpectedTracerError:\n",
    "        print(\"UnexpectedTracerError: applied JAX transform to side effecting function\")\n",
    "        \n",
    "    def net(w, x): # no side effects!\n",
    "        return w @ x\n",
    "\n",
    "    def eval_shape_net(x):\n",
    "        w = hk.get_parameter(\"w\", (3, 2), init=jnp.ones)\n",
    "        output_shape = jax.eval_shape(net, w, x) # net is now side-effect free\n",
    "        return output_shape, net(w, x)\n",
    "\n",
    "    key = jax.random.PRNGKey(777)\n",
    "    x = jnp.ones((2, 3))\n",
    "    init, apply = hk.transform(eval_shape_net)\n",
    "    params = init(key, x)\n",
    "    apply(params, key, x)\n",
    "    \n",
    "    def eval_shape_net(x):\n",
    "        net = hk.nets.MLP([300, 100])\n",
    "        output_shape = jax.eval_shape(net, x)\n",
    "        return output_shape, net(x)\n",
    "\n",
    "    init, _ = hk.transform(eval_shape_net)\n",
    "    try:\n",
    "        init(jax.random.PRNGKey(666), jnp.ones((2, 2)))\n",
    "    except jax.errors.UnexpectedTracerError:\n",
    "        print(\"UnexpectedTracerError: applied JAX transform to side effecting function\")\n",
    "        \n",
    "   \n",
    "@sy.syft_function(input_policy=sy.ExactMatch(),\n",
    "                  output_policy=sy.SingleExecutionExactOutput())\n",
    "def haiku_lift_example():\n",
    "    import jax\n",
    "    import jax.numpy as jnp\n",
    "    import haiku as hk\n",
    "    import numpy as np\n",
    "    \n",
    "    def eval_shape_net(x):\n",
    "        net = hk.nets.MLP([300, 100])    # still side-effecting\n",
    "        init, apply = hk.transform(net)  # nested transform\n",
    "        params = hk.lift(init, name=\"inner\")(hk.next_rng_key(), x) # register parameters in outer module scope with name \"inner\"\n",
    "        output_shape = jax.eval_shape(apply, params, hk.next_rng_key(), x) # apply is a functionaly pure function and can be transformed!\n",
    "        out = net(x)\n",
    "        return out, output_shape\n",
    "\n",
    "\n",
    "    init, apply = hk.transform(eval_shape_net)\n",
    "    params = init(jax.random.PRNGKey(777), jnp.ones((100, 100)))\n",
    "    apply(params, jax.random.PRNGKey(777), jnp.ones((100, 100)))\n",
    "    jax.tree_util.tree_map(lambda x: x.shape, params)\n",
    "    \n",
    "   \n",
    "@sy.syft_function(input_policy=sy.ExactMatch(),\n",
    "                  output_policy=sy.SingleExecutionExactOutput())\n",
    "def jax_transform_example():\n",
    "    import jax\n",
    "    import jax.numpy as jnp\n",
    "    import haiku as hk\n",
    "    import numpy as np\n",
    "\n",
    "    def eval_shape_net(x):\n",
    "        net = hk.nets.MLP([300, 100])         # still side-effecting\n",
    "        output_shape = hk.eval_shape(net, x)  # hk.eval_shape threads through the Haiku state for you\n",
    "        out = net(x)\n",
    "        return out, output_shape\n",
    "\n",
    "\n",
    "    init, apply = hk.transform(eval_shape_net)\n",
    "    params = init(jax.random.PRNGKey(777), jnp.ones((100, 100)))\n",
    "    out = apply(params, jax.random.PRNGKey(777), jnp.ones((100, 100)))\n"
   ]
  },
  {
   "cell_type": "code",
   "execution_count": null,
   "metadata": {},
   "outputs": [],
   "source": [
    "# Test our function locally \n",
    "limitations_example()\n",
    "haiku_lift_example()\n",
    "jax_transform_example()"
   ]
  },
  {
   "cell_type": "code",
   "execution_count": null,
   "metadata": {},
   "outputs": [],
   "source": [
    "# Submit the function for code execution\n",
    "guest_domain_client.api.services.code.request_code_execution(limitations_example)\n",
    "guest_domain_client.api.services.code.request_code_execution(haiku_lift_example)\n",
    "guest_domain_client.api.services.code.request_code_execution(jax_transform_example)"
   ]
  },
  {
   "cell_type": "code",
   "execution_count": null,
   "metadata": {},
   "outputs": [],
   "source": [
    "guest_domain_client.api.services.code.limitations_example()"
   ]
  },
  {
   "cell_type": "markdown",
   "metadata": {},
   "source": [
    "### Go to the Data Owner Notebook for Part 2!"
   ]
  },
  {
   "cell_type": "markdown",
   "metadata": {},
   "source": []
  },
  {
   "cell_type": "markdown",
   "metadata": {},
   "source": [
    "## Part 3 - Downloading the Results"
   ]
  },
  {
   "cell_type": "code",
   "execution_count": null,
   "metadata": {},
   "outputs": [],
   "source": [
    "guest_domain_client._api = None\n",
    "_ = guest_domain_client.api"
   ]
  },
  {
   "cell_type": "code",
   "execution_count": null,
   "metadata": {},
   "outputs": [],
   "source": [
    "result = guest_domain_client.api.services.code.limitations_example()"
   ]
  },
  {
   "cell_type": "code",
   "execution_count": null,
   "metadata": {},
   "outputs": [],
   "source": [
    "result.get_result()"
   ]
  },
  {
   "cell_type": "code",
   "execution_count": null,
   "metadata": {},
   "outputs": [],
   "source": [
    "print(result.get_stderr())"
   ]
  }
 ],
 "metadata": {
  "kernelspec": {
   "display_name": "PySyft",
   "language": "python",
   "name": "python3"
  },
  "language_info": {
   "codemirror_mode": {
    "name": "ipython",
    "version": 3
   },
   "file_extension": ".py",
   "mimetype": "text/x-python",
   "name": "python",
   "nbconvert_exporter": "python",
   "pygments_lexer": "ipython3",
   "version": "3.10.4"
  },
  "orig_nbformat": 4
 },
 "nbformat": 4,
 "nbformat_minor": 2
}
