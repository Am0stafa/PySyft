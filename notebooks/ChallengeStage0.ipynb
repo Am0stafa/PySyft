{
 "cells": [
  {
   "cell_type": "markdown",
   "id": "ee0c6a73-1a1f-486e-8d6d-aff1502f7166",
   "metadata": {},
   "source": [
    "## Part 0 - Challenge Organizer\n",
    "\n",
    "Challenge organizer (data owner) launches a domain node, creates accounts, and loads in datasets.\n",
    "\n",
    "Sections:\n",
    "1. Hagrid: installs syft and launches a domain node server\n",
    "2. Syft: Loads various NumPy snippets into a challenge dataset\n",
    "    - 1 dataset per group for 10 groups\n",
    "        - 10 assets per dataset\n",
    "            - 1 challenge per asset\n",
    "3. Syft: Creates a test data scientist user account\n"
   ]
  },
  {
   "cell_type": "markdown",
   "id": "7710be09-6d71-48fd-a469-20d32fc614aa",
   "metadata": {},
   "source": [
    "## Hagrid"
   ]
  },
  {
   "cell_type": "code",
   "execution_count": 1,
   "id": "0338ff75-d5d7-4a23-9551-f856c2d046ee",
   "metadata": {},
   "outputs": [],
   "source": [
    "import syft as sy"
   ]
  },
  {
   "cell_type": "code",
   "execution_count": 2,
   "id": "57c12c8e-4de9-4653-b6c2-35e47c67028e",
   "metadata": {},
   "outputs": [
    {
     "name": "stdout",
     "output_type": "stream",
     "text": [
      "> Starting Worker: Command-Center - 52848d47df447273ba13b03a066ef422 - NodeType.DOMAIN - [<class 'syft.core.node.new.user_service.UserService'>, <class 'syft.core.node.new.metadata_service.MetadataService'>, <class 'syft.core.node.new.action_service.ActionService'>, <class 'syft.core.node.new.test_service.TestService'>, <class 'syft.core.node.new.dataset_service.DatasetService'>, <class 'syft.core.node.new.user_code_service.UserCodeService'>, <class 'syft.core.node.new.request_service.RequestService'>, <class 'syft.core.node.new.data_subject_service.DataSubjectService'>, <class 'syft.core.node.new.network_service.NetworkService'>, <class 'syft.core.node.new.policy_service.PolicyService'>, <class 'syft.core.node.new.message_service.MessageService'>, <class 'syft.core.node.new.project_service.ProjectService'>, <class 'syft.core.node.new.data_subject_member_service.DataSubjectMemberService'>]\n"
     ]
    }
   ],
   "source": [
    "worker = sy.Worker.named(\"Command-Center\")\n",
    "admin_client = worker.root_client"
   ]
  },
  {
   "cell_type": "code",
   "execution_count": 3,
   "id": "6dadb763-4152-467c-baf6-2af6b8322e0f",
   "metadata": {},
   "outputs": [
    {
     "name": "stdout",
     "output_type": "stream",
     "text": [
      "Using numpy version: 1.24.2\n"
     ]
    }
   ],
   "source": [
    "np = admin_client.numpy"
   ]
  },
  {
   "cell_type": "code",
   "execution_count": 6,
   "id": "8b75db8b-cdaa-450a-a2c3-058e21daaa09",
   "metadata": {},
   "outputs": [],
   "source": [
    "Z = np.zeros(10)"
   ]
  },
  {
   "cell_type": "code",
   "execution_count": 45,
   "id": "b522ad1a-55a9-4bab-975d-d7d9d307176c",
   "metadata": {},
   "outputs": [
    {
     "name": "stderr",
     "output_type": "stream",
     "text": [
      "100%|███████████████████████████████████████████████████████████████████████████████████████████████████████████████████████████████████████████████████████████| 1/1 [00:00<00:00, 84.42it/s]"
     ]
    },
    {
     "name": "stdout",
     "output_type": "stream",
     "text": [
      "Uploading: bikes\n"
     ]
    },
    {
     "name": "stderr",
     "output_type": "stream",
     "text": [
      "\n"
     ]
    },
    {
     "data": {
      "text/html": [
       "<div class=\"alert-success\" style=\"padding:5px;\"><strong>SyftSuccess</strong>: Dataset Added</div><br />"
      ],
      "text/plain": [
       "<class 'syft.core.node.new.response.SyftSuccess'>: Dataset Added"
      ]
     },
     "execution_count": 45,
     "metadata": {},
     "output_type": "execute_result"
    }
   ],
   "source": [
    "dataset = sy.Dataset(name=\"Challenge 3\",\n",
    "                     asset_list=[sy.Asset(name=\"null_vector\", data=Z, mock=Z, mock_is_real=True)],\n",
    "                     description=\"Create a null vector of size 10 (★☆☆)\"\n",
    "                    )\n",
    "admin_client.upload_dataset(dataset)"
   ]
  },
  {
   "cell_type": "code",
   "execution_count": 46,
   "id": "f504c992-e734-4471-a5dd-860681f42e98",
   "metadata": {},
   "outputs": [
    {
     "data": {
      "text/html": [
       "List - Size: 1\n",
       "<div>\n",
       "<style scoped>\n",
       "    .dataframe tbody tr th:only-of-type {\n",
       "        vertical-align: middle;\n",
       "    }\n",
       "\n",
       "    .dataframe tbody tr th {\n",
       "        vertical-align: top;\n",
       "    }\n",
       "\n",
       "    .dataframe thead th {\n",
       "        text-align: right;\n",
       "    }\n",
       "</style>\n",
       "<table border=\"1\" class=\"dataframe\">\n",
       "  <thead>\n",
       "    <tr style=\"text-align: right;\">\n",
       "      <th></th>\n",
       "      <th>type</th>\n",
       "      <th>id</th>\n",
       "      <th>name</th>\n",
       "      <th>url</th>\n",
       "    </tr>\n",
       "  </thead>\n",
       "  <tbody>\n",
       "    <tr>\n",
       "      <th>0</th>\n",
       "      <td>syft.core.node.new.dataset.Dataset</td>\n",
       "      <td>dd7b7411fc674e52bd25d61f68175e4a</td>\n",
       "      <td>Challenge 3</td>\n",
       "      <td>None</td>\n",
       "    </tr>\n",
       "  </tbody>\n",
       "</table>\n",
       "</div>"
      ],
      "text/plain": [
       "<syft.core.node.new.api.APIModule at 0x7f36d2cc50a0>"
      ]
     },
     "execution_count": 46,
     "metadata": {},
     "output_type": "execute_result"
    }
   ],
   "source": [
    "admin_client.datasets"
   ]
  },
  {
   "cell_type": "code",
   "execution_count": 47,
   "id": "4d39882e-8182-45d5-be68-24cd676acdd5",
   "metadata": {},
   "outputs": [],
   "source": [
    "ds = admin_client.datasets[0]"
   ]
  },
  {
   "cell_type": "code",
   "execution_count": 48,
   "id": "bc9d095c-953d-4244-a364-24fc62901597",
   "metadata": {},
   "outputs": [
    {
     "data": {
      "text/plain": [
       "'Create a null vector of size 10 (★☆☆)'"
      ]
     },
     "execution_count": 48,
     "metadata": {},
     "output_type": "execute_result"
    }
   ],
   "source": [
    "ds.description"
   ]
  },
  {
   "cell_type": "code",
   "execution_count": 64,
   "id": "8565b881-50ee-459a-817a-864b40749f95",
   "metadata": {},
   "outputs": [],
   "source": [
    "challenge_mapper = {}\n",
    "with open(\"challenges.txt\", \"r\") as f:\n",
    "    for index, description in enumerate(f):\n",
    "        challenge_mapper[index + 1] = description.strip()"
   ]
  },
  {
   "cell_type": "markdown",
   "id": "22754df5-cbc6-4b3c-94fe-94bf7985e1b8",
   "metadata": {},
   "source": [
    "Challenges.txt was obtained by grepping challenges from the markup in the heartbeat notebook and stripping whitespaces and such:\n",
    "\n",
    "`cat Mission\\ 1\\ -\\ L2\\ -\\ NumPy\\ 100\\ challenge\\ design.ipynb | grep \"####\" | cut -d \" \" -f 7- | cut -d \"\\\\\" -f 1`\n"
   ]
  },
  {
   "cell_type": "code",
   "execution_count": 60,
   "id": "c629719b-1245-40db-b0ee-f1561c41d51e",
   "metadata": {},
   "outputs": [
    {
     "data": {
      "text/plain": [
       "'Create a null vector of size 10 (★☆☆)'"
      ]
     },
     "execution_count": 60,
     "metadata": {},
     "output_type": "execute_result"
    }
   ],
   "source": [
    "challenge_mapper[3]"
   ]
  },
  {
   "cell_type": "code",
   "execution_count": 65,
   "id": "8aaa4a43-75e2-4edc-b9bb-fcd5952f68fa",
   "metadata": {},
   "outputs": [],
   "source": [
    "user = admin_client.register(name=\"Jane Doe\", email=\"jane@caltech.edu\",\n",
    "                            password=\"abc123\", institution=\"Caltech\", website=\"https://www.caltech.edu/\")"
   ]
  },
  {
   "cell_type": "code",
   "execution_count": 67,
   "id": "e292d028-c049-48cd-8fe9-241fb940b0cb",
   "metadata": {},
   "outputs": [],
   "source": [
    "guest_domain_client = worker.guest_client"
   ]
  },
  {
   "cell_type": "code",
   "execution_count": 68,
   "id": "5d5e9cdb-9988-4fa7-ab01-03b0fd2d71ce",
   "metadata": {},
   "outputs": [],
   "source": [
    "guest_client = guest_domain_client.login(email=\"jane@caltech.edu\", password=\"abc123\")"
   ]
  },
  {
   "cell_type": "code",
   "execution_count": 69,
   "id": "7a021286-04a4-40e9-91f5-68b452c7d1cc",
   "metadata": {},
   "outputs": [
    {
     "ename": "NameError",
     "evalue": "name 'asset' is not defined",
     "output_type": "error",
     "traceback": [
      "\u001b[0;31m---------------------------------------------------------------------------\u001b[0m",
      "\u001b[0;31mNameError\u001b[0m                                 Traceback (most recent call last)",
      "\u001b[0;32m/tmp/ipykernel_13353/2270098308.py\u001b[0m in \u001b[0;36m<module>\u001b[0;34m\u001b[0m\n\u001b[0;32m----> 1\u001b[0;31m \u001b[0mdf\u001b[0m \u001b[0;34m=\u001b[0m \u001b[0masset\u001b[0m\u001b[0;34m.\u001b[0m\u001b[0mmock\u001b[0m\u001b[0;34m\u001b[0m\u001b[0;34m\u001b[0m\u001b[0m\n\u001b[0m",
      "\u001b[0;31mNameError\u001b[0m: name 'asset' is not defined"
     ]
    }
   ],
   "source": [
    "df = asset.mock"
   ]
  },
  {
   "cell_type": "code",
   "execution_count": null,
   "id": "e06ad793-35fd-40b1-ae9d-8773c8a2e505",
   "metadata": {},
   "outputs": [],
   "source": [
    "sy.syft_function(input_policy=sy.ExactMatch(df=asset.mock),\n",
    "                  output_policy=sy.SingleExecutionExactOutput())\n",
    "def get_column(df):\n",
    "    return df['Berri 1']"
   ]
  },
  {
   "cell_type": "code",
   "execution_count": null,
   "id": "7f3de14f-b19e-49cb-b99c-96cb072df30a",
   "metadata": {},
   "outputs": [],
   "source": [
    "req = guest_domain_client.api.services.code.request_code_execution(get_column)"
   ]
  },
  {
   "cell_type": "code",
   "execution_count": null,
   "id": "58e95807-6dcb-42ef-8ed4-88aadba0cb11",
   "metadata": {},
   "outputs": [],
   "source": [
    "submitted_code = guest_domain_client.code[0]"
   ]
  },
  {
   "cell_type": "code",
   "execution_count": null,
   "id": "1e6910a2-016e-41c9-a142-55b4395ff01f",
   "metadata": {},
   "outputs": [],
   "source": [
    "assert guest_domain_client.api.services.code.get_all()"
   ]
  },
  {
   "cell_type": "code",
   "execution_count": null,
   "id": "b0917b93-3d2b-4922-9624-6a4df6e037ec",
   "metadata": {},
   "outputs": [],
   "source": [
    "new_project = sy.Project(name=\"My pandas project 2\",\n",
    "                         description=\"Hi, I would like to plot the Berri 1 column.\")"
   ]
  },
  {
   "cell_type": "code",
   "execution_count": null,
   "id": "24e4df7d-4fba-4699-80f6-4e4b439a8112",
   "metadata": {},
   "outputs": [],
   "source": [
    "new_project.add_request(obj=submitted_code, permission=sy.UserCodeStatus.EXECUTE)"
   ]
  },
  {
   "cell_type": "code",
   "execution_count": null,
   "id": "bb6b267d-0a86-47b2-81b4-0215df0839b7",
   "metadata": {},
   "outputs": [],
   "source": [
    "guest_domain_client.submit_project(new_project)"
   ]
  },
  {
   "cell_type": "code",
   "execution_count": null,
   "id": "6aa41039-8645-4c92-b8bc-8220c566854c",
   "metadata": {},
   "outputs": [],
   "source": [
    "messages = domain_client.api.services.messages.get_all_for_status(MessageStatus.UNDELIVERED)"
   ]
  },
  {
   "cell_type": "code",
   "execution_count": null,
   "id": "a3700b44-1c56-4283-9f31-35386ceadbc0",
   "metadata": {},
   "outputs": [],
   "source": [
    "messages"
   ]
  },
  {
   "cell_type": "code",
   "execution_count": null,
   "id": "a041e0b5-d39b-474c-b391-31338a2c6d80",
   "metadata": {},
   "outputs": [],
   "source": [
    "project_message = [x for x in messages if issubclass(x.linked_obj.object_type, Project)][0]"
   ]
  },
  {
   "cell_type": "code",
   "execution_count": null,
   "id": "274e2a6f-c7fa-44cd-a2d8-a63251f566f1",
   "metadata": {},
   "outputs": [],
   "source": [
    "request = project_message.link.requests[0]\n",
    "func = request.changes[0].link\n",
    "op = func.output_policy_type"
   ]
  },
  {
   "cell_type": "code",
   "execution_count": null,
   "id": "362c1048-d22e-45c0-a124-b7ef103d3c8c",
   "metadata": {},
   "outputs": [],
   "source": [
    "func"
   ]
  },
  {
   "cell_type": "code",
   "execution_count": null,
   "id": "ff999b3e-4bdd-4119-b8ea-b3a55d647a63",
   "metadata": {},
   "outputs": [],
   "source": [
    "get_col_user_function = func.unsafe_function"
   ]
  },
  {
   "cell_type": "code",
   "execution_count": null,
   "id": "8152abe8-ac4b-4ba2-a106-b94b00363800",
   "metadata": {},
   "outputs": [],
   "source": [
    "real_data = domain_client.datasets[0].assets[0].data"
   ]
  },
  {
   "cell_type": "code",
   "execution_count": null,
   "id": "14dafe3a-6f85-47cd-87bc-187f1604e217",
   "metadata": {},
   "outputs": [],
   "source": [
    "real_result = get_col_user_function(df=real_data)"
   ]
  },
  {
   "cell_type": "code",
   "execution_count": null,
   "id": "b5103103-4c81-458c-9c36-909a4b21dabd",
   "metadata": {},
   "outputs": [],
   "source": [
    "real_result[:3]"
   ]
  },
  {
   "cell_type": "code",
   "execution_count": null,
   "id": "248bb7ce-0f3b-44d3-ace6-8c7da10ca069",
   "metadata": {},
   "outputs": [],
   "source": [
    "result = request.accept_by_depositing_result(real_result)\n",
    "result\n",
    "assert isinstance(result, sy.SyftSuccess)"
   ]
  },
  {
   "cell_type": "markdown",
   "id": "39075b51-6153-4fcd-bf9f-506e2ea6000d",
   "metadata": {},
   "source": [
    "ds receives results:"
   ]
  },
  {
   "cell_type": "code",
   "execution_count": null,
   "id": "849f98ad-1ac1-4975-be5c-ce5083788a49",
   "metadata": {},
   "outputs": [],
   "source": [
    "guest_client.api.services.code[0].status"
   ]
  },
  {
   "cell_type": "code",
   "execution_count": null,
   "id": "c98d03ea-58c4-4de4-8575-f763561d3070",
   "metadata": {},
   "outputs": [],
   "source": [
    "real_result = guest_client.api.services.code.get_column(df=asset)\n",
    "real_result.plot()"
   ]
  }
 ],
 "metadata": {
  "kernelspec": {
   "display_name": "Python 3 (ipykernel)",
   "language": "python",
   "name": "python3"
  },
  "language_info": {
   "codemirror_mode": {
    "name": "ipython",
    "version": 3
   },
   "file_extension": ".py",
   "mimetype": "text/x-python",
   "name": "python",
   "nbconvert_exporter": "python",
   "pygments_lexer": "ipython3",
   "version": "3.9.7"
  }
 },
 "nbformat": 4,
 "nbformat_minor": 5
}
