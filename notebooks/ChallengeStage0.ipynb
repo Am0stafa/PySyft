{
 "cells": [
  {
   "cell_type": "markdown",
   "id": "ee0c6a73-1a1f-486e-8d6d-aff1502f7166",
   "metadata": {},
   "source": [
    "## Part 0 - Challenge Organizer\n",
    "\n",
    "Challenge organizer (data owner) launches a domain node, creates accounts, and loads in datasets.\n",
    "\n",
    "Sections:\n",
    "1. Hagrid: installs syft and launches a domain node server\n",
    "2. Syft: Loads various NumPy snippets into a challenge dataset\n",
    "    - 1 dataset per group for 10 groups\n",
    "        - 10 assets per dataset\n",
    "            - 1 challenge per asset\n",
    "3. Syft: Creates a test data scientist user account\n"
   ]
  },
  {
   "cell_type": "markdown",
   "id": "7710be09-6d71-48fd-a469-20d32fc614aa",
   "metadata": {},
   "source": [
    "## Hagrid"
   ]
  },
  {
   "cell_type": "code",
   "execution_count": 1,
   "id": "0338ff75-d5d7-4a23-9551-f856c2d046ee",
   "metadata": {},
   "outputs": [],
   "source": [
    "import syft as sy"
   ]
  },
  {
   "cell_type": "code",
   "execution_count": 2,
   "id": "57c12c8e-4de9-4653-b6c2-35e47c67028e",
   "metadata": {},
   "outputs": [
    {
     "name": "stdout",
     "output_type": "stream",
     "text": [
      "> Starting Worker: Command-Center - 52848d47df447273ba13b03a066ef422 - NodeType.DOMAIN - [<class 'syft.core.node.new.user_service.UserService'>, <class 'syft.core.node.new.metadata_service.MetadataService'>, <class 'syft.core.node.new.action_service.ActionService'>, <class 'syft.core.node.new.test_service.TestService'>, <class 'syft.core.node.new.dataset_service.DatasetService'>, <class 'syft.core.node.new.user_code_service.UserCodeService'>, <class 'syft.core.node.new.request_service.RequestService'>, <class 'syft.core.node.new.data_subject_service.DataSubjectService'>, <class 'syft.core.node.new.network_service.NetworkService'>, <class 'syft.core.node.new.policy_service.PolicyService'>, <class 'syft.core.node.new.message_service.MessageService'>, <class 'syft.core.node.new.project_service.ProjectService'>, <class 'syft.core.node.new.data_subject_member_service.DataSubjectMemberService'>]\n"
     ]
    }
   ],
   "source": [
    "worker = sy.Worker.named(\"Command-Center\")\n",
    "admin_client = worker.root_client"
   ]
  },
  {
   "cell_type": "code",
   "execution_count": 3,
   "id": "6dadb763-4152-467c-baf6-2af6b8322e0f",
   "metadata": {},
   "outputs": [
    {
     "name": "stdout",
     "output_type": "stream",
     "text": [
      "Using numpy version: 1.24.2\n"
     ]
    }
   ],
   "source": [
    "np = admin_client.numpy"
   ]
  },
  {
   "cell_type": "code",
   "execution_count": 4,
   "id": "8b75db8b-cdaa-450a-a2c3-058e21daaa09",
   "metadata": {},
   "outputs": [],
   "source": [
    "Z = np.zeros(10)"
   ]
  },
  {
   "cell_type": "code",
   "execution_count": 46,
   "id": "f504c992-e734-4471-a5dd-860681f42e98",
   "metadata": {},
   "outputs": [
    {
     "data": {
      "text/html": [
       "List - Size: 1\n",
       "<div>\n",
       "<style scoped>\n",
       "    .dataframe tbody tr th:only-of-type {\n",
       "        vertical-align: middle;\n",
       "    }\n",
       "\n",
       "    .dataframe tbody tr th {\n",
       "        vertical-align: top;\n",
       "    }\n",
       "\n",
       "    .dataframe thead th {\n",
       "        text-align: right;\n",
       "    }\n",
       "</style>\n",
       "<table border=\"1\" class=\"dataframe\">\n",
       "  <thead>\n",
       "    <tr style=\"text-align: right;\">\n",
       "      <th></th>\n",
       "      <th>type</th>\n",
       "      <th>id</th>\n",
       "      <th>name</th>\n",
       "      <th>url</th>\n",
       "    </tr>\n",
       "  </thead>\n",
       "  <tbody>\n",
       "    <tr>\n",
       "      <th>0</th>\n",
       "      <td>syft.core.node.new.dataset.Dataset</td>\n",
       "      <td>dd7b7411fc674e52bd25d61f68175e4a</td>\n",
       "      <td>Challenge 3</td>\n",
       "      <td>None</td>\n",
       "    </tr>\n",
       "  </tbody>\n",
       "</table>\n",
       "</div>"
      ],
      "text/plain": [
       "<syft.core.node.new.api.APIModule at 0x7f36d2cc50a0>"
      ]
     },
     "execution_count": 46,
     "metadata": {},
     "output_type": "execute_result"
    }
   ],
   "source": [
    "admin_client.datasets"
   ]
  },
  {
   "cell_type": "code",
   "execution_count": 47,
   "id": "4d39882e-8182-45d5-be68-24cd676acdd5",
   "metadata": {},
   "outputs": [],
   "source": [
    "ds = admin_client.datasets[0]"
   ]
  },
  {
   "cell_type": "code",
   "execution_count": 48,
   "id": "bc9d095c-953d-4244-a364-24fc62901597",
   "metadata": {},
   "outputs": [
    {
     "data": {
      "text/plain": [
       "'Create a null vector of size 10 (★☆☆)'"
      ]
     },
     "execution_count": 48,
     "metadata": {},
     "output_type": "execute_result"
    }
   ],
   "source": [
    "ds.description"
   ]
  },
  {
   "cell_type": "code",
   "execution_count": 5,
   "id": "8565b881-50ee-459a-817a-864b40749f95",
   "metadata": {},
   "outputs": [],
   "source": [
    "challenge_mapper = {}\n",
    "with open(\"challenges.txt\", \"r\") as f:\n",
    "    for index, description in enumerate(f):\n",
    "        challenge_mapper[index + 1] = description.strip()"
   ]
  },
  {
   "cell_type": "markdown",
   "id": "22754df5-cbc6-4b3c-94fe-94bf7985e1b8",
   "metadata": {},
   "source": [
    "Challenges.txt was obtained by grepping challenges from the markup in the heartbeat notebook and stripping whitespaces and such:\n",
    "\n",
    "`cat Mission\\ 1\\ -\\ L2\\ -\\ NumPy\\ 100\\ challenge\\ design.ipynb | grep \"####\" | cut -d \" \" -f 7- | cut -d \"\\\\\" -f 1`\n"
   ]
  },
  {
   "cell_type": "code",
   "execution_count": 6,
   "id": "c629719b-1245-40db-b0ee-f1561c41d51e",
   "metadata": {},
   "outputs": [
    {
     "data": {
      "text/plain": [
       "'Create a null vector of size 10 (★☆☆)'"
      ]
     },
     "execution_count": 6,
     "metadata": {},
     "output_type": "execute_result"
    }
   ],
   "source": [
    "challenge_mapper[3]"
   ]
  },
  {
   "cell_type": "code",
   "execution_count": 36,
   "id": "13f9dc81-2c78-400a-8083-76675870e798",
   "metadata": {},
   "outputs": [
    {
     "name": "stderr",
     "output_type": "stream",
     "text": [
      "  0%|                                                                                                                                                                                           | 0/1 [00:00<?, ?it/s]"
     ]
    },
    {
     "name": "stdout",
     "output_type": "stream",
     "text": [
      "Uploading: dataset\n"
     ]
    },
    {
     "name": "stderr",
     "output_type": "stream",
     "text": [
      "\n"
     ]
    },
    {
     "data": {
      "text/html": [
       "<div class=\"alert-danger\" style=\"padding:5px;\"><strong>SyftError</strong>: Failed to create twin. <class 'NoneType'> not in action_types</div><br />"
      ],
      "text/plain": [
       "<class 'syft.core.node.new.response.SyftError'>: Failed to create twin. <class 'NoneType'> not in action_types"
      ]
     },
     "execution_count": 36,
     "metadata": {},
     "output_type": "execute_result"
    }
   ],
   "source": [
    "dataset = sy.Dataset(\n",
    "        name=f\"Challenge {index}\",\n",
    "        asset_list=[sy.Asset(name=\"dataset\", data=None, mock=None, mock_is_real=False)],\n",
    "        description=challenge_mapper[index]\n",
    "    )\n",
    "admin_client.upload_dataset(dataset)"
   ]
  },
  {
   "cell_type": "code",
   "execution_count": 219,
   "id": "0bb9f14f-fe84-462c-a92a-a1680e02c1d1",
   "metadata": {},
   "outputs": [
    {
     "data": {
      "text/plain": [
       "tuple"
      ]
     },
     "execution_count": 219,
     "metadata": {},
     "output_type": "execute_result"
    }
   ],
   "source": [
    "type(np.nonzero([1,2,0,0,4,0]))"
   ]
  },
  {
   "cell_type": "code",
   "execution_count": 225,
   "id": "8cfea82b-aa8b-4e83-8252-0fb23fa43f63",
   "metadata": {},
   "outputs": [],
   "source": [
    "asset5 = np.zeros(10); asset5[4] = 1\n",
    "asset18 = np.ones(64,dtype=int); asset18[::2]=0; asset18 = asset18.reshape((8,8))\n",
    "asset45 = np.zeros((5,5), [('x',float),('y',float)])\n",
    "asset45['x'], asset45['y'] = np.meshgrid(np.linspace(0,1,5), np.linspace(0,1,5))\n",
    "\n",
    "# asset 55\n",
    "X, Y = np.meshgrid(np.linspace(-1,1,10), np.linspace(-1,1,10))\n",
    "D = np.sqrt(X*X+Y*Y)\n",
    "sigma, mu = 1.0, 0.0\n",
    "asset55 = np.exp(-( (D-mu)**2 / ( 2.0 * sigma**2 ) ) )\n",
    "\n",
    "# asset 56\n",
    "n = 10\n",
    "p = 3\n",
    "asset56 = np.zeros((n,n))\n",
    "np.put(asset56, np.random.choice(range(n*n), p, replace=False),1)\n",
    "\n",
    "\n",
    "asset_mapper = {\n",
    "    1: np.zeros(1),\n",
    "    2: np.zeros(1),\n",
    "    3: np.zeros(10),\n",
    "    4: np.zeros((10, 10)),\n",
    "    5: asset5,\n",
    "    6: np.arange(10, 50),\n",
    "    7: np.arange(50),\n",
    "    8: np.arange(9).reshape(3,3),\n",
    "    9: np.array([1,2,0,0,4,0]),\n",
    "    10: np.eye(3),\n",
    "    11: np.random.random((3,3,3)),\n",
    "    12: np.random.random((10,10)),\n",
    "    13: np.random.random(30),\n",
    "    14: np.ones((10,10)),\n",
    "    15: np.ones((5,5)),\n",
    "    16: np.zeros(1),  # This is hard to setup in an asset\n",
    "    17: np.diag(1+np.arange(4),k=-1),\n",
    "    18: asset18,\n",
    "    19: np.zeros((6,7,8)),\n",
    "    20: np.tile( np.array([[0,1],[1,0]]), (4,4)),\n",
    "    21: np.random.random((5,5)),\n",
    "    22: np.dtype([(\"r\", np.ubyte),\n",
    "                  (\"g\", np.ubyte),\n",
    "                  (\"b\", np.ubyte),\n",
    "                  (\"a\", np.ubyte)]),\n",
    "    23: np.dot(np.ones((5,3)), np.ones((3,2))),\n",
    "    24: np.arange(11),\n",
    "    25: np.arange(5),\n",
    "    26: np.arange(10),  # has to do with catching errors\n",
    "    27: np.array([0]),\n",
    "    28: np.random.uniform(-10,+10,10),\n",
    "    29: np.random.randint(0,10,10),  # needs two arrays\n",
    "    30: np.ones(1),  # setting errors off- this is probably a major red flag\n",
    "    31: np.ones(1),  # has to do with finding equivalent errors (emath)\n",
    "    # 32: np.datetime64('today'),  # check if this is compatible\n",
    "    # 33: np.arange('2016-07', '2016-08', dtype='datetime64[D]'),\n",
    "    34: np.ones(10),\n",
    "    35: np.random.uniform(0,10,10),\n",
    "    36: np.tile(np.arange(0, 5), (5,1)),\n",
    "    37: np.arange(10),  # modify the prompt to specify you need to make this array using a generator\n",
    "    38: np.linspace(0,1,11,endpoint=False)[1:],\n",
    "    39: sorted(np.random.random(10)),\n",
    "    40: np.arange(10),\n",
    "    41: np.random.randint(0,2,5),\n",
    "    42: np.zeros(10),  # make array read-only\n",
    "    43: np.random.random((10,2)),\n",
    "    44: np.random.random(10),\n",
    "    # 45: asset45,\n",
    "    46: np.arange(8),  # modify the prompt to specify the two matrices\n",
    "    47: np.zeros(1),  # has to do with maximum representable type\n",
    "    48: np.zeros((40, 40)),  # has to do with set_printoptions\n",
    "    49: np.arange(100),\n",
    "    # 50: np.zeros(10, [ ('position', [ ('x', float, 1), ('y', float, 1)]),\n",
    "    #                   ('color',    [ ('r', float, 1),('g', float, 1),('b', float, 1)])\n",
    "    #                  ]\n",
    "    #             ),\n",
    "    51: np.random.random((10,2)),\n",
    "    52: (np.random.rand(10)*100).astype(np.float32),  # possible problems when converting dtypes\n",
    "    53: np.zeros(10),  # reading from file\n",
    "    54: np.random.random((3,3)),  #ndenumerate\n",
    "    55: asset55,\n",
    "    56: asset56,\n",
    "    57: np.random.rand(5, 10),\n",
    "    58: np.random.randint(0,10,(3,3)),\n",
    "    59: np.random.randint(0,3,(3,10)),\n",
    "    60: np.random.uniform(0,1,10),\n",
    "    61: np.arange(3).reshape(3,1),  # two assets\n",
    "    62: np.zeros(1),  # custom np subclass\n",
    "    63: np.ones(10),  # two assets\n",
    "    64: np.arange(9),  # two assets\n",
    "    65: np.unique(np.random.randint(0, 4, (256, 256, 3)).astype(np.ubyte).reshape(-1, 3), axis=0),\n",
    "    66: np.random.randint(0,10,(3,4,3,4)),\n",
    "    67: np.random.uniform(0,1,100),  # two assets\n",
    "    68: np.random.uniform(0,1,(5,5)),  # two assets or modify prompt to make second asset self\n",
    "    69: np.array([1,2,3,4,5]),\n",
    "    70: np.ones((5,5,3)),\n",
    "    71: np.arange(25).reshape(5,5),\n",
    "    72: np.random.randint(0,100,(10,3)),\n",
    "    73: np.bincount([1,1,2,3,4,4,6]),\n",
    "    74: np.arange(20),\n",
    "    75: np.arange(10),\n",
    "    76: np.random.uniform(-1.0,1.0,100),\n",
    "    77: np.random.uniform(-10,10,(10,2)),  # three assets\n",
    "    78: np.random.uniform(-10, 10, (10,2)),  # three assets\n",
    "    79: np.random.randint(0,10,(10,10)),\n",
    "    80: np.arange(1,15,dtype=np.uint32),\n",
    "    81: np.random.uniform(0,1,(10,10)),\n",
    "    82: np.random.randint(0,10,50),\n",
    "    83: np.random.randint(0,5,(10,10)),\n",
    "    84: np.random.randint(0,10,(5,5)),  # custom np subclass\n",
    "    85: np.ones((10,20,20)),  # two assets\n",
    "    86: np.ones((16,16)),\n",
    "    87: np.random.randint(0,2,(50,50)),\n",
    "    88: np.arange(10000),\n",
    "    89: [np.asarray(a) for a in ([1, 2, 3], [4, 5], [6, 7])],  # two assets?\n",
    "    90: np.array([(\"Hello\", 2.5, 3),\n",
    "              (\"World\", 3.6, 2)]),  # recordarray\n",
    "    # 91: np.random.rand(int(5e7)),\n",
    "    92: np.random.randint(0,5,(8,3)),  # two assets\n",
    "    93: np.random.randint(0,5,(10,3)),\n",
    "    94: np.array([0, 1, 2, 3, 15, 16, 32, 64, 128]),\n",
    "    95: np.random.randint(0,2,(6,3)),\n",
    "    96: np.random.uniform(0,1,10),  # two assets or modify prompt to make second asset self\n",
    "    97: np.arange(0, 10*np.pi, 0.1),  # two assets\n",
    "    98: np.asarray([[1.0, 0.0, 3.0, 8.0],\n",
    "                [2.0, 0.0, 1.0, 1.0],\n",
    "                [1.5, 2.5, 1.0, 0.0]]),\n",
    "    99:np.random.randn(100)\n",
    "}"
   ]
  },
  {
   "cell_type": "code",
   "execution_count": 137,
   "id": "096e88a3-2a35-4795-980b-eb1c32c8313a",
   "metadata": {},
   "outputs": [],
   "source": [
    "from time import sleep"
   ]
  },
  {
   "cell_type": "code",
   "execution_count": 138,
   "id": "8ff741de-14bf-4771-a8fc-6db4bd28b9a1",
   "metadata": {},
   "outputs": [],
   "source": [
    "from syft import SyftError"
   ]
  },
  {
   "cell_type": "code",
   "execution_count": 221,
   "id": "a27ff5ab-2f1b-4baa-82de-036173db8243",
   "metadata": {
    "collapsed": true,
    "jupyter": {
     "outputs_hidden": true
    },
    "tags": []
   },
   "outputs": [
    {
     "name": "stderr",
     "output_type": "stream",
     "text": [
      "100%|██████████████████████████████████████████████████████████████████████████████████████████████████████████████████████████████████████████████████████████████████████████████████| 1/1 [00:00<00:00, 113.38it/s]\n"
     ]
    },
    {
     "name": "stdout",
     "output_type": "stream",
     "text": [
      "Uploading: 1\n"
     ]
    },
    {
     "name": "stderr",
     "output_type": "stream",
     "text": [
      "100%|██████████████████████████████████████████████████████████████████████████████████████████████████████████████████████████████████████████████████████████████████████████████████| 1/1 [00:00<00:00, 323.93it/s]\n"
     ]
    },
    {
     "name": "stdout",
     "output_type": "stream",
     "text": [
      "Uploading: 2\n"
     ]
    },
    {
     "name": "stderr",
     "output_type": "stream",
     "text": [
      "100%|██████████████████████████████████████████████████████████████████████████████████████████████████████████████████████████████████████████████████████████████████████████████████| 1/1 [00:00<00:00, 306.92it/s]\n"
     ]
    },
    {
     "name": "stdout",
     "output_type": "stream",
     "text": [
      "Uploading: 3\n"
     ]
    },
    {
     "name": "stderr",
     "output_type": "stream",
     "text": [
      "100%|██████████████████████████████████████████████████████████████████████████████████████████████████████████████████████████████████████████████████████████████████████████████████| 1/1 [00:00<00:00, 336.24it/s]\n"
     ]
    },
    {
     "name": "stdout",
     "output_type": "stream",
     "text": [
      "Uploading: 4\n"
     ]
    },
    {
     "name": "stderr",
     "output_type": "stream",
     "text": [
      "100%|██████████████████████████████████████████████████████████████████████████████████████████████████████████████████████████████████████████████████████████████████████████████████| 1/1 [00:00<00:00, 331.46it/s]\n"
     ]
    },
    {
     "name": "stdout",
     "output_type": "stream",
     "text": [
      "Uploading: 5\n"
     ]
    },
    {
     "name": "stderr",
     "output_type": "stream",
     "text": [
      "100%|██████████████████████████████████████████████████████████████████████████████████████████████████████████████████████████████████████████████████████████████████████████████████| 1/1 [00:00<00:00, 321.95it/s]\n"
     ]
    },
    {
     "name": "stdout",
     "output_type": "stream",
     "text": [
      "Uploading: 6\n"
     ]
    },
    {
     "name": "stderr",
     "output_type": "stream",
     "text": [
      "100%|██████████████████████████████████████████████████████████████████████████████████████████████████████████████████████████████████████████████████████████████████████████████████| 1/1 [00:00<00:00, 301.21it/s]\n"
     ]
    },
    {
     "name": "stdout",
     "output_type": "stream",
     "text": [
      "Uploading: 7\n"
     ]
    },
    {
     "name": "stderr",
     "output_type": "stream",
     "text": [
      "100%|██████████████████████████████████████████████████████████████████████████████████████████████████████████████████████████████████████████████████████████████████████████████████| 1/1 [00:00<00:00, 302.47it/s]\n"
     ]
    },
    {
     "name": "stdout",
     "output_type": "stream",
     "text": [
      "Uploading: 8\n"
     ]
    },
    {
     "name": "stderr",
     "output_type": "stream",
     "text": [
      "100%|██████████████████████████████████████████████████████████████████████████████████████████████████████████████████████████████████████████████████████████████████████████████████| 1/1 [00:00<00:00, 288.61it/s]\n"
     ]
    },
    {
     "name": "stdout",
     "output_type": "stream",
     "text": [
      "Uploading: 9\n"
     ]
    },
    {
     "name": "stderr",
     "output_type": "stream",
     "text": [
      "100%|██████████████████████████████████████████████████████████████████████████████████████████████████████████████████████████████████████████████████████████████████████████████████| 1/1 [00:00<00:00, 295.67it/s]\n"
     ]
    },
    {
     "name": "stdout",
     "output_type": "stream",
     "text": [
      "Uploading: 10\n"
     ]
    },
    {
     "name": "stderr",
     "output_type": "stream",
     "text": [
      "100%|██████████████████████████████████████████████████████████████████████████████████████████████████████████████████████████████████████████████████████████████████████████████████| 1/1 [00:00<00:00, 293.84it/s]\n"
     ]
    },
    {
     "name": "stdout",
     "output_type": "stream",
     "text": [
      "Uploading: 11\n"
     ]
    },
    {
     "name": "stderr",
     "output_type": "stream",
     "text": [
      "100%|██████████████████████████████████████████████████████████████████████████████████████████████████████████████████████████████████████████████████████████████████████████████████| 1/1 [00:00<00:00, 276.47it/s]\n"
     ]
    },
    {
     "name": "stdout",
     "output_type": "stream",
     "text": [
      "Uploading: 12\n"
     ]
    },
    {
     "name": "stderr",
     "output_type": "stream",
     "text": [
      "100%|██████████████████████████████████████████████████████████████████████████████████████████████████████████████████████████████████████████████████████████████████████████████████| 1/1 [00:00<00:00, 294.90it/s]\n"
     ]
    },
    {
     "name": "stdout",
     "output_type": "stream",
     "text": [
      "Uploading: 13\n"
     ]
    },
    {
     "name": "stderr",
     "output_type": "stream",
     "text": [
      "100%|██████████████████████████████████████████████████████████████████████████████████████████████████████████████████████████████████████████████████████████████████████████████████| 1/1 [00:00<00:00, 258.19it/s]\n"
     ]
    },
    {
     "name": "stdout",
     "output_type": "stream",
     "text": [
      "Uploading: 14\n"
     ]
    },
    {
     "name": "stderr",
     "output_type": "stream",
     "text": [
      "100%|██████████████████████████████████████████████████████████████████████████████████████████████████████████████████████████████████████████████████████████████████████████████████| 1/1 [00:00<00:00, 246.42it/s]\n"
     ]
    },
    {
     "name": "stdout",
     "output_type": "stream",
     "text": [
      "Uploading: 15\n"
     ]
    },
    {
     "name": "stderr",
     "output_type": "stream",
     "text": [
      "100%|██████████████████████████████████████████████████████████████████████████████████████████████████████████████████████████████████████████████████████████████████████████████████| 1/1 [00:00<00:00, 332.46it/s]\n"
     ]
    },
    {
     "name": "stdout",
     "output_type": "stream",
     "text": [
      "Uploading: 16\n"
     ]
    },
    {
     "name": "stderr",
     "output_type": "stream",
     "text": [
      "100%|██████████████████████████████████████████████████████████████████████████████████████████████████████████████████████████████████████████████████████████████████████████████████| 1/1 [00:00<00:00, 314.77it/s]\n"
     ]
    },
    {
     "name": "stdout",
     "output_type": "stream",
     "text": [
      "Uploading: 17\n"
     ]
    },
    {
     "name": "stderr",
     "output_type": "stream",
     "text": [
      "100%|██████████████████████████████████████████████████████████████████████████████████████████████████████████████████████████████████████████████████████████████████████████████████| 1/1 [00:00<00:00, 290.87it/s]\n"
     ]
    },
    {
     "name": "stdout",
     "output_type": "stream",
     "text": [
      "Uploading: 18\n"
     ]
    },
    {
     "name": "stderr",
     "output_type": "stream",
     "text": [
      "100%|██████████████████████████████████████████████████████████████████████████████████████████████████████████████████████████████████████████████████████████████████████████████████| 1/1 [00:00<00:00, 260.89it/s]\n"
     ]
    },
    {
     "name": "stdout",
     "output_type": "stream",
     "text": [
      "Uploading: 19\n"
     ]
    },
    {
     "name": "stderr",
     "output_type": "stream",
     "text": [
      "100%|██████████████████████████████████████████████████████████████████████████████████████████████████████████████████████████████████████████████████████████████████████████████████| 1/1 [00:00<00:00, 194.32it/s]\n"
     ]
    },
    {
     "name": "stdout",
     "output_type": "stream",
     "text": [
      "Uploading: 20\n"
     ]
    },
    {
     "name": "stderr",
     "output_type": "stream",
     "text": [
      "100%|██████████████████████████████████████████████████████████████████████████████████████████████████████████████████████████████████████████████████████████████████████████████████| 1/1 [00:00<00:00, 300.58it/s]\n"
     ]
    },
    {
     "name": "stdout",
     "output_type": "stream",
     "text": [
      "Uploading: 23\n"
     ]
    },
    {
     "name": "stderr",
     "output_type": "stream",
     "text": [
      "100%|██████████████████████████████████████████████████████████████████████████████████████████████████████████████████████████████████████████████████████████████████████████████████| 1/1 [00:00<00:00, 336.22it/s]\n"
     ]
    },
    {
     "name": "stdout",
     "output_type": "stream",
     "text": [
      "Uploading: 24\n"
     ]
    },
    {
     "name": "stderr",
     "output_type": "stream",
     "text": [
      "100%|██████████████████████████████████████████████████████████████████████████████████████████████████████████████████████████████████████████████████████████████████████████████████| 1/1 [00:00<00:00, 306.65it/s]\n"
     ]
    },
    {
     "name": "stdout",
     "output_type": "stream",
     "text": [
      "Uploading: 25\n"
     ]
    },
    {
     "name": "stderr",
     "output_type": "stream",
     "text": [
      "100%|██████████████████████████████████████████████████████████████████████████████████████████████████████████████████████████████████████████████████████████████████████████████████| 1/1 [00:00<00:00, 306.47it/s]\n"
     ]
    },
    {
     "name": "stdout",
     "output_type": "stream",
     "text": [
      "Uploading: 26\n"
     ]
    },
    {
     "name": "stderr",
     "output_type": "stream",
     "text": [
      "100%|██████████████████████████████████████████████████████████████████████████████████████████████████████████████████████████████████████████████████████████████████████████████████| 1/1 [00:00<00:00, 294.81it/s]\n"
     ]
    },
    {
     "name": "stdout",
     "output_type": "stream",
     "text": [
      "Uploading: 27\n"
     ]
    },
    {
     "name": "stderr",
     "output_type": "stream",
     "text": [
      "100%|██████████████████████████████████████████████████████████████████████████████████████████████████████████████████████████████████████████████████████████████████████████████████| 1/1 [00:00<00:00, 282.33it/s]\n"
     ]
    },
    {
     "name": "stdout",
     "output_type": "stream",
     "text": [
      "Uploading: 28\n"
     ]
    },
    {
     "name": "stderr",
     "output_type": "stream",
     "text": [
      "100%|██████████████████████████████████████████████████████████████████████████████████████████████████████████████████████████████████████████████████████████████████████████████████| 1/1 [00:00<00:00, 250.18it/s]\n"
     ]
    },
    {
     "name": "stdout",
     "output_type": "stream",
     "text": [
      "Uploading: 29\n"
     ]
    },
    {
     "name": "stderr",
     "output_type": "stream",
     "text": [
      "100%|██████████████████████████████████████████████████████████████████████████████████████████████████████████████████████████████████████████████████████████████████████████████████| 1/1 [00:00<00:00, 322.91it/s]"
     ]
    },
    {
     "name": "stdout",
     "output_type": "stream",
     "text": [
      "Uploading: 30\n"
     ]
    },
    {
     "name": "stderr",
     "output_type": "stream",
     "text": [
      "\n",
      "100%|██████████████████████████████████████████████████████████████████████████████████████████████████████████████████████████████████████████████████████████████████████████████████| 1/1 [00:00<00:00, 312.33it/s]\n"
     ]
    },
    {
     "name": "stdout",
     "output_type": "stream",
     "text": [
      "Uploading: 31\n"
     ]
    },
    {
     "name": "stderr",
     "output_type": "stream",
     "text": [
      "  0%|                                                                                                                                                                                           | 0/1 [00:00<?, ?it/s]"
     ]
    },
    {
     "name": "stdout",
     "output_type": "stream",
     "text": [
      "Uploading: 34\n"
     ]
    },
    {
     "name": "stderr",
     "output_type": "stream",
     "text": [
      "100%|██████████████████████████████████████████████████████████████████████████████████████████████████████████████████████████████████████████████████████████████████████████████████| 1/1 [00:00<00:00, 303.76it/s]\n",
      "  0%|                                                                                                                                                                                           | 0/1 [00:00<?, ?it/s]"
     ]
    },
    {
     "name": "stdout",
     "output_type": "stream",
     "text": [
      "Uploading: 35\n"
     ]
    },
    {
     "name": "stderr",
     "output_type": "stream",
     "text": [
      "100%|██████████████████████████████████████████████████████████████████████████████████████████████████████████████████████████████████████████████████████████████████████████████████| 1/1 [00:00<00:00, 305.69it/s]\n",
      "100%|██████████████████████████████████████████████████████████████████████████████████████████████████████████████████████████████████████████████████████████████████████████████████| 1/1 [00:00<00:00, 310.55it/s]\n"
     ]
    },
    {
     "name": "stdout",
     "output_type": "stream",
     "text": [
      "Uploading: 36\n"
     ]
    },
    {
     "name": "stderr",
     "output_type": "stream",
     "text": [
      "100%|██████████████████████████████████████████████████████████████████████████████████████████████████████████████████████████████████████████████████████████████████████████████████| 1/1 [00:00<00:00, 282.58it/s]\n"
     ]
    },
    {
     "name": "stdout",
     "output_type": "stream",
     "text": [
      "Uploading: 37\n"
     ]
    },
    {
     "name": "stderr",
     "output_type": "stream",
     "text": [
      "100%|██████████████████████████████████████████████████████████████████████████████████████████████████████████████████████████████████████████████████████████████████████████████████| 1/1 [00:00<00:00, 299.32it/s]\n"
     ]
    },
    {
     "name": "stdout",
     "output_type": "stream",
     "text": [
      "Uploading: 38\n"
     ]
    },
    {
     "name": "stderr",
     "output_type": "stream",
     "text": [
      "100%|██████████████████████████████████████████████████████████████████████████████████████████████████████████████████████████████████████████████████████████████████████████████████| 1/1 [00:00<00:00, 303.32it/s]\n"
     ]
    },
    {
     "name": "stdout",
     "output_type": "stream",
     "text": [
      "Uploading: 40\n"
     ]
    },
    {
     "name": "stderr",
     "output_type": "stream",
     "text": [
      "100%|██████████████████████████████████████████████████████████████████████████████████████████████████████████████████████████████████████████████████████████████████████████████████| 1/1 [00:00<00:00, 318.14it/s]\n"
     ]
    },
    {
     "name": "stdout",
     "output_type": "stream",
     "text": [
      "Uploading: 41\n"
     ]
    },
    {
     "name": "stderr",
     "output_type": "stream",
     "text": [
      "100%|██████████████████████████████████████████████████████████████████████████████████████████████████████████████████████████████████████████████████████████████████████████████████| 1/1 [00:00<00:00, 321.03it/s]\n"
     ]
    },
    {
     "name": "stdout",
     "output_type": "stream",
     "text": [
      "Uploading: 42\n"
     ]
    },
    {
     "name": "stderr",
     "output_type": "stream",
     "text": [
      "100%|██████████████████████████████████████████████████████████████████████████████████████████████████████████████████████████████████████████████████████████████████████████████████| 1/1 [00:00<00:00, 296.92it/s]\n"
     ]
    },
    {
     "name": "stdout",
     "output_type": "stream",
     "text": [
      "Uploading: 43\n"
     ]
    },
    {
     "name": "stderr",
     "output_type": "stream",
     "text": [
      "100%|██████████████████████████████████████████████████████████████████████████████████████████████████████████████████████████████████████████████████████████████████████████████████| 1/1 [00:00<00:00, 300.11it/s]\n"
     ]
    },
    {
     "name": "stdout",
     "output_type": "stream",
     "text": [
      "Uploading: 44\n"
     ]
    },
    {
     "name": "stderr",
     "output_type": "stream",
     "text": [
      "100%|██████████████████████████████████████████████████████████████████████████████████████████████████████████████████████████████████████████████████████████████████████████████████| 1/1 [00:00<00:00, 316.17it/s]\n"
     ]
    },
    {
     "name": "stdout",
     "output_type": "stream",
     "text": [
      "Uploading: 46\n"
     ]
    },
    {
     "name": "stderr",
     "output_type": "stream",
     "text": [
      "100%|██████████████████████████████████████████████████████████████████████████████████████████████████████████████████████████████████████████████████████████████████████████████████| 1/1 [00:00<00:00, 311.15it/s]\n"
     ]
    },
    {
     "name": "stdout",
     "output_type": "stream",
     "text": [
      "Uploading: 47\n"
     ]
    },
    {
     "name": "stderr",
     "output_type": "stream",
     "text": [
      "100%|██████████████████████████████████████████████████████████████████████████████████████████████████████████████████████████████████████████████████████████████████████████████████| 1/1 [00:00<00:00, 355.00it/s]\n"
     ]
    },
    {
     "name": "stdout",
     "output_type": "stream",
     "text": [
      "Uploading: 48\n"
     ]
    },
    {
     "name": "stderr",
     "output_type": "stream",
     "text": [
      "  0%|                                                                                                                                                                                           | 0/1 [00:00<?, ?it/s]"
     ]
    },
    {
     "name": "stdout",
     "output_type": "stream",
     "text": [
      "Uploading: 49\n"
     ]
    },
    {
     "name": "stderr",
     "output_type": "stream",
     "text": [
      "100%|██████████████████████████████████████████████████████████████████████████████████████████████████████████████████████████████████████████████████████████████████████████████████| 1/1 [00:00<00:00, 312.19it/s]\n",
      "  0%|                                                                                                                                                                                           | 0/1 [00:00<?, ?it/s]"
     ]
    },
    {
     "name": "stdout",
     "output_type": "stream",
     "text": [
      "Uploading: 51\n"
     ]
    },
    {
     "name": "stderr",
     "output_type": "stream",
     "text": [
      "100%|██████████████████████████████████████████████████████████████████████████████████████████████████████████████████████████████████████████████████████████████████████████████████| 1/1 [00:00<00:00, 300.41it/s]\n",
      "  0%|                                                                                                                                                                                           | 0/1 [00:00<?, ?it/s]"
     ]
    },
    {
     "name": "stdout",
     "output_type": "stream",
     "text": [
      "Uploading: 52\n"
     ]
    },
    {
     "name": "stderr",
     "output_type": "stream",
     "text": [
      "100%|██████████████████████████████████████████████████████████████████████████████████████████████████████████████████████████████████████████████████████████████████████████████████| 1/1 [00:00<00:00, 271.95it/s]\n",
      "100%|██████████████████████████████████████████████████████████████████████████████████████████████████████████████████████████████████████████████████████████████████████████████████| 1/1 [00:00<00:00, 337.81it/s]\n"
     ]
    },
    {
     "name": "stdout",
     "output_type": "stream",
     "text": [
      "Uploading: 53\n"
     ]
    },
    {
     "name": "stderr",
     "output_type": "stream",
     "text": [
      "  0%|                                                                                                                                                                                           | 0/1 [00:00<?, ?it/s]"
     ]
    },
    {
     "name": "stdout",
     "output_type": "stream",
     "text": [
      "Uploading: 54\n"
     ]
    },
    {
     "name": "stderr",
     "output_type": "stream",
     "text": [
      "100%|██████████████████████████████████████████████████████████████████████████████████████████████████████████████████████████████████████████████████████████████████████████████████| 1/1 [00:00<00:00, 299.85it/s]\n",
      "  0%|                                                                                                                                                                                           | 0/1 [00:00<?, ?it/s]"
     ]
    },
    {
     "name": "stdout",
     "output_type": "stream",
     "text": [
      "Uploading: 55\n"
     ]
    },
    {
     "name": "stderr",
     "output_type": "stream",
     "text": [
      "100%|██████████████████████████████████████████████████████████████████████████████████████████████████████████████████████████████████████████████████████████████████████████████████| 1/1 [00:00<00:00, 275.34it/s]\n",
      "100%|██████████████████████████████████████████████████████████████████████████████████████████████████████████████████████████████████████████████████████████████████████████████████| 1/1 [00:00<00:00, 335.92it/s]"
     ]
    },
    {
     "name": "stdout",
     "output_type": "stream",
     "text": [
      "Uploading: 56\n"
     ]
    },
    {
     "name": "stderr",
     "output_type": "stream",
     "text": [
      "\n",
      "  0%|                                                                                                                                                                                           | 0/1 [00:00<?, ?it/s]"
     ]
    },
    {
     "name": "stdout",
     "output_type": "stream",
     "text": [
      "Uploading: 57\n"
     ]
    },
    {
     "name": "stderr",
     "output_type": "stream",
     "text": [
      "100%|██████████████████████████████████████████████████████████████████████████████████████████████████████████████████████████████████████████████████████████████████████████████████| 1/1 [00:00<00:00, 265.18it/s]\n",
      "  0%|                                                                                                                                                                                           | 0/1 [00:00<?, ?it/s]"
     ]
    },
    {
     "name": "stdout",
     "output_type": "stream",
     "text": [
      "Uploading: 58\n"
     ]
    },
    {
     "name": "stderr",
     "output_type": "stream",
     "text": [
      "100%|██████████████████████████████████████████████████████████████████████████████████████████████████████████████████████████████████████████████████████████████████████████████████| 1/1 [00:00<00:00, 322.79it/s]\n",
      "  0%|                                                                                                                                                                                           | 0/1 [00:00<?, ?it/s]"
     ]
    },
    {
     "name": "stdout",
     "output_type": "stream",
     "text": [
      "Uploading: 59\n"
     ]
    },
    {
     "name": "stderr",
     "output_type": "stream",
     "text": [
      "100%|██████████████████████████████████████████████████████████████████████████████████████████████████████████████████████████████████████████████████████████████████████████████████| 1/1 [00:00<00:00, 308.75it/s]\n",
      "  0%|                                                                                                                                                                                           | 0/1 [00:00<?, ?it/s]"
     ]
    },
    {
     "name": "stdout",
     "output_type": "stream",
     "text": [
      "Uploading: 60\n"
     ]
    },
    {
     "name": "stderr",
     "output_type": "stream",
     "text": [
      "100%|██████████████████████████████████████████████████████████████████████████████████████████████████████████████████████████████████████████████████████████████████████████████████| 1/1 [00:00<00:00, 300.13it/s]\n",
      "  0%|                                                                                                                                                                                           | 0/1 [00:00<?, ?it/s]"
     ]
    },
    {
     "name": "stdout",
     "output_type": "stream",
     "text": [
      "Uploading: 61\n"
     ]
    },
    {
     "name": "stderr",
     "output_type": "stream",
     "text": [
      "100%|██████████████████████████████████████████████████████████████████████████████████████████████████████████████████████████████████████████████████████████████████████████████████| 1/1 [00:00<00:00, 255.49it/s]\n",
      "  0%|                                                                                                                                                                                           | 0/1 [00:00<?, ?it/s]"
     ]
    },
    {
     "name": "stdout",
     "output_type": "stream",
     "text": [
      "Uploading: 62\n"
     ]
    },
    {
     "name": "stderr",
     "output_type": "stream",
     "text": [
      "100%|██████████████████████████████████████████████████████████████████████████████████████████████████████████████████████████████████████████████████████████████████████████████████| 1/1 [00:00<00:00, 258.62it/s]\n",
      "  0%|                                                                                                                                                                                           | 0/1 [00:00<?, ?it/s]"
     ]
    },
    {
     "name": "stdout",
     "output_type": "stream",
     "text": [
      "Uploading: 63\n"
     ]
    },
    {
     "name": "stderr",
     "output_type": "stream",
     "text": [
      "100%|██████████████████████████████████████████████████████████████████████████████████████████████████████████████████████████████████████████████████████████████████████████████████| 1/1 [00:00<00:00, 250.26it/s]\n",
      "100%|██████████████████████████████████████████████████████████████████████████████████████████████████████████████████████████████████████████████████████████████████████████████████| 1/1 [00:00<00:00, 290.61it/s]\n"
     ]
    },
    {
     "name": "stdout",
     "output_type": "stream",
     "text": [
      "Uploading: 64\n"
     ]
    },
    {
     "name": "stderr",
     "output_type": "stream",
     "text": [
      "100%|██████████████████████████████████████████████████████████████████████████████████████████████████████████████████████████████████████████████████████████████████████████████████| 1/1 [00:00<00:00, 319.59it/s]\n"
     ]
    },
    {
     "name": "stdout",
     "output_type": "stream",
     "text": [
      "Uploading: 65\n"
     ]
    },
    {
     "name": "stderr",
     "output_type": "stream",
     "text": [
      "100%|██████████████████████████████████████████████████████████████████████████████████████████████████████████████████████████████████████████████████████████████████████████████████| 1/1 [00:00<00:00, 306.18it/s]\n"
     ]
    },
    {
     "name": "stdout",
     "output_type": "stream",
     "text": [
      "Uploading: 66\n"
     ]
    },
    {
     "name": "stderr",
     "output_type": "stream",
     "text": [
      "  0%|                                                                                                                                                                                           | 0/1 [00:00<?, ?it/s]"
     ]
    },
    {
     "name": "stdout",
     "output_type": "stream",
     "text": [
      "Uploading: 67\n"
     ]
    },
    {
     "name": "stderr",
     "output_type": "stream",
     "text": [
      "100%|██████████████████████████████████████████████████████████████████████████████████████████████████████████████████████████████████████████████████████████████████████████████████| 1/1 [00:00<00:00, 325.92it/s]\n",
      "  0%|                                                                                                                                                                                           | 0/1 [00:00<?, ?it/s]"
     ]
    },
    {
     "name": "stdout",
     "output_type": "stream",
     "text": [
      "Uploading: 68\n"
     ]
    },
    {
     "name": "stderr",
     "output_type": "stream",
     "text": [
      "100%|██████████████████████████████████████████████████████████████████████████████████████████████████████████████████████████████████████████████████████████████████████████████████| 1/1 [00:00<00:00, 314.18it/s]\n",
      "  0%|                                                                                                                                                                                           | 0/1 [00:00<?, ?it/s]"
     ]
    },
    {
     "name": "stdout",
     "output_type": "stream",
     "text": [
      "Uploading: 69\n"
     ]
    },
    {
     "name": "stderr",
     "output_type": "stream",
     "text": [
      "100%|██████████████████████████████████████████████████████████████████████████████████████████████████████████████████████████████████████████████████████████████████████████████████| 1/1 [00:00<00:00, 284.15it/s]\n",
      "  0%|                                                                                                                                                                                           | 0/1 [00:00<?, ?it/s]"
     ]
    },
    {
     "name": "stdout",
     "output_type": "stream",
     "text": [
      "Uploading: 70\n"
     ]
    },
    {
     "name": "stderr",
     "output_type": "stream",
     "text": [
      "100%|██████████████████████████████████████████████████████████████████████████████████████████████████████████████████████████████████████████████████████████████████████████████████| 1/1 [00:00<00:00, 289.34it/s]\n",
      "  0%|                                                                                                                                                                                           | 0/1 [00:00<?, ?it/s]"
     ]
    },
    {
     "name": "stdout",
     "output_type": "stream",
     "text": [
      "Uploading: 71\n"
     ]
    },
    {
     "name": "stderr",
     "output_type": "stream",
     "text": [
      "100%|██████████████████████████████████████████████████████████████████████████████████████████████████████████████████████████████████████████████████████████████████████████████████| 1/1 [00:00<00:00, 302.29it/s]\n",
      "  0%|                                                                                                                                                                                           | 0/1 [00:00<?, ?it/s]"
     ]
    },
    {
     "name": "stdout",
     "output_type": "stream",
     "text": [
      "Uploading: 72\n"
     ]
    },
    {
     "name": "stderr",
     "output_type": "stream",
     "text": [
      "100%|██████████████████████████████████████████████████████████████████████████████████████████████████████████████████████████████████████████████████████████████████████████████████| 1/1 [00:00<00:00, 273.30it/s]\n",
      "  0%|                                                                                                                                                                                           | 0/1 [00:00<?, ?it/s]"
     ]
    },
    {
     "name": "stdout",
     "output_type": "stream",
     "text": [
      "Uploading: 73\n"
     ]
    },
    {
     "name": "stderr",
     "output_type": "stream",
     "text": [
      "100%|██████████████████████████████████████████████████████████████████████████████████████████████████████████████████████████████████████████████████████████████████████████████████| 1/1 [00:00<00:00, 318.28it/s]\n",
      "  0%|                                                                                                                                                                                           | 0/1 [00:00<?, ?it/s]"
     ]
    },
    {
     "name": "stdout",
     "output_type": "stream",
     "text": [
      "Uploading: 74\n"
     ]
    },
    {
     "name": "stderr",
     "output_type": "stream",
     "text": [
      "100%|██████████████████████████████████████████████████████████████████████████████████████████████████████████████████████████████████████████████████████████████████████████████████| 1/1 [00:00<00:00, 294.28it/s]\n",
      "  0%|                                                                                                                                                                                           | 0/1 [00:00<?, ?it/s]"
     ]
    },
    {
     "name": "stdout",
     "output_type": "stream",
     "text": [
      "Uploading: 75\n"
     ]
    },
    {
     "name": "stderr",
     "output_type": "stream",
     "text": [
      "100%|██████████████████████████████████████████████████████████████████████████████████████████████████████████████████████████████████████████████████████████████████████████████████| 1/1 [00:00<00:00, 316.05it/s]\n",
      "  0%|                                                                                                                                                                                           | 0/1 [00:00<?, ?it/s]"
     ]
    },
    {
     "name": "stdout",
     "output_type": "stream",
     "text": [
      "Uploading: 76\n"
     ]
    },
    {
     "name": "stderr",
     "output_type": "stream",
     "text": [
      "100%|██████████████████████████████████████████████████████████████████████████████████████████████████████████████████████████████████████████████████████████████████████████████████| 1/1 [00:00<00:00, 277.14it/s]\n",
      "  0%|                                                                                                                                                                                           | 0/1 [00:00<?, ?it/s]"
     ]
    },
    {
     "name": "stdout",
     "output_type": "stream",
     "text": [
      "Uploading: 77\n"
     ]
    },
    {
     "name": "stderr",
     "output_type": "stream",
     "text": [
      "100%|██████████████████████████████████████████████████████████████████████████████████████████████████████████████████████████████████████████████████████████████████████████████████| 1/1 [00:00<00:00, 311.91it/s]\n",
      "  0%|                                                                                                                                                                                           | 0/1 [00:00<?, ?it/s]"
     ]
    },
    {
     "name": "stdout",
     "output_type": "stream",
     "text": [
      "Uploading: 78\n"
     ]
    },
    {
     "name": "stderr",
     "output_type": "stream",
     "text": [
      "100%|██████████████████████████████████████████████████████████████████████████████████████████████████████████████████████████████████████████████████████████████████████████████████| 1/1 [00:00<00:00, 282.41it/s]\n",
      "  0%|                                                                                                                                                                                           | 0/1 [00:00<?, ?it/s]"
     ]
    },
    {
     "name": "stdout",
     "output_type": "stream",
     "text": [
      "Uploading: 79\n"
     ]
    },
    {
     "name": "stderr",
     "output_type": "stream",
     "text": [
      "100%|██████████████████████████████████████████████████████████████████████████████████████████████████████████████████████████████████████████████████████████████████████████████████| 1/1 [00:00<00:00, 305.44it/s]\n",
      "  0%|                                                                                                                                                                                           | 0/1 [00:00<?, ?it/s]"
     ]
    },
    {
     "name": "stdout",
     "output_type": "stream",
     "text": [
      "Uploading: 80\n"
     ]
    },
    {
     "name": "stderr",
     "output_type": "stream",
     "text": [
      "100%|██████████████████████████████████████████████████████████████████████████████████████████████████████████████████████████████████████████████████████████████████████████████████| 1/1 [00:00<00:00, 252.33it/s]\n",
      "100%|██████████████████████████████████████████████████████████████████████████████████████████████████████████████████████████████████████████████████████████████████████████████████| 1/1 [00:00<00:00, 259.05it/s]\n"
     ]
    },
    {
     "name": "stdout",
     "output_type": "stream",
     "text": [
      "Uploading: 81\n"
     ]
    },
    {
     "name": "stderr",
     "output_type": "stream",
     "text": [
      "100%|██████████████████████████████████████████████████████████████████████████████████████████████████████████████████████████████████████████████████████████████████████████████████| 1/1 [00:00<00:00, 335.71it/s]\n"
     ]
    },
    {
     "name": "stdout",
     "output_type": "stream",
     "text": [
      "Uploading: 82\n"
     ]
    },
    {
     "name": "stderr",
     "output_type": "stream",
     "text": [
      "100%|██████████████████████████████████████████████████████████████████████████████████████████████████████████████████████████████████████████████████████████████████████████████████| 1/1 [00:00<00:00, 314.77it/s]\n"
     ]
    },
    {
     "name": "stdout",
     "output_type": "stream",
     "text": [
      "Uploading: 83\n"
     ]
    },
    {
     "name": "stderr",
     "output_type": "stream",
     "text": [
      "100%|██████████████████████████████████████████████████████████████████████████████████████████████████████████████████████████████████████████████████████████████████████████████████| 1/1 [00:00<00:00, 318.47it/s]"
     ]
    },
    {
     "name": "stdout",
     "output_type": "stream",
     "text": [
      "Uploading: 84\n"
     ]
    },
    {
     "name": "stderr",
     "output_type": "stream",
     "text": [
      "\n",
      "100%|██████████████████████████████████████████████████████████████████████████████████████████████████████████████████████████████████████████████████████████████████████████████████| 1/1 [00:00<00:00, 259.87it/s]"
     ]
    },
    {
     "name": "stdout",
     "output_type": "stream",
     "text": [
      "Uploading: 85\n"
     ]
    },
    {
     "name": "stderr",
     "output_type": "stream",
     "text": [
      "\n",
      "100%|██████████████████████████████████████████████████████████████████████████████████████████████████████████████████████████████████████████████████████████████████████████████████| 1/1 [00:00<00:00, 287.52it/s]"
     ]
    },
    {
     "name": "stdout",
     "output_type": "stream",
     "text": [
      "Uploading: 86\n"
     ]
    },
    {
     "name": "stderr",
     "output_type": "stream",
     "text": [
      "\n",
      "100%|██████████████████████████████████████████████████████████████████████████████████████████████████████████████████████████████████████████████████████████████████████████████████| 1/1 [00:00<00:00, 269.47it/s]"
     ]
    },
    {
     "name": "stdout",
     "output_type": "stream",
     "text": [
      "Uploading: 87\n"
     ]
    },
    {
     "name": "stderr",
     "output_type": "stream",
     "text": [
      "\n",
      "  0%|                                                                                                                                                                                           | 0/1 [00:00<?, ?it/s]"
     ]
    },
    {
     "name": "stdout",
     "output_type": "stream",
     "text": [
      "Uploading: 88\n"
     ]
    },
    {
     "name": "stderr",
     "output_type": "stream",
     "text": [
      "100%|██████████████████████████████████████████████████████████████████████████████████████████████████████████████████████████████████████████████████████████████████████████████████| 1/1 [00:00<00:00, 184.61it/s]\n",
      "  0%|                                                                                                                                                                                           | 0/1 [00:00<?, ?it/s]\n"
     ]
    },
    {
     "name": "stdout",
     "output_type": "stream",
     "text": [
      "Uploading: 89\n"
     ]
    },
    {
     "name": "stderr",
     "output_type": "stream",
     "text": [
      "  0%|                                                                                                                                                                                           | 0/1 [00:00<?, ?it/s]"
     ]
    },
    {
     "name": "stdout",
     "output_type": "stream",
     "text": [
      "Uploading: 90\n"
     ]
    },
    {
     "name": "stderr",
     "output_type": "stream",
     "text": [
      "100%|██████████████████████████████████████████████████████████████████████████████████████████████████████████████████████████████████████████████████████████████████████████████████| 1/1 [00:00<00:00, 215.06it/s]\n",
      "100%|██████████████████████████████████████████████████████████████████████████████████████████████████████████████████████████████████████████████████████████████████████████████████| 1/1 [00:00<00:00, 284.34it/s]\n"
     ]
    },
    {
     "name": "stdout",
     "output_type": "stream",
     "text": [
      "Uploading: 92\n"
     ]
    },
    {
     "name": "stderr",
     "output_type": "stream",
     "text": [
      "100%|██████████████████████████████████████████████████████████████████████████████████████████████████████████████████████████████████████████████████████████████████████████████████| 1/1 [00:00<00:00, 312.31it/s]\n"
     ]
    },
    {
     "name": "stdout",
     "output_type": "stream",
     "text": [
      "Uploading: 93\n"
     ]
    },
    {
     "name": "stderr",
     "output_type": "stream",
     "text": [
      "100%|██████████████████████████████████████████████████████████████████████████████████████████████████████████████████████████████████████████████████████████████████████████████████| 1/1 [00:00<00:00, 326.81it/s]\n"
     ]
    },
    {
     "name": "stdout",
     "output_type": "stream",
     "text": [
      "Uploading: 94\n"
     ]
    },
    {
     "name": "stderr",
     "output_type": "stream",
     "text": [
      "100%|██████████████████████████████████████████████████████████████████████████████████████████████████████████████████████████████████████████████████████████████████████████████████| 1/1 [00:00<00:00, 283.84it/s]\n"
     ]
    },
    {
     "name": "stdout",
     "output_type": "stream",
     "text": [
      "Uploading: 95\n"
     ]
    },
    {
     "name": "stderr",
     "output_type": "stream",
     "text": [
      "100%|██████████████████████████████████████████████████████████████████████████████████████████████████████████████████████████████████████████████████████████████████████████████████| 1/1 [00:00<00:00, 306.85it/s]"
     ]
    },
    {
     "name": "stdout",
     "output_type": "stream",
     "text": [
      "Uploading: 96\n"
     ]
    },
    {
     "name": "stderr",
     "output_type": "stream",
     "text": [
      "\n",
      "100%|██████████████████████████████████████████████████████████████████████████████████████████████████████████████████████████████████████████████████████████████████████████████████| 1/1 [00:00<00:00, 317.15it/s]"
     ]
    },
    {
     "name": "stdout",
     "output_type": "stream",
     "text": [
      "Uploading: 97\n"
     ]
    },
    {
     "name": "stderr",
     "output_type": "stream",
     "text": [
      "\n",
      "  0%|                                                                                                                                                                                           | 0/1 [00:00<?, ?it/s]"
     ]
    },
    {
     "name": "stdout",
     "output_type": "stream",
     "text": [
      "Uploading: 98\n"
     ]
    },
    {
     "name": "stderr",
     "output_type": "stream",
     "text": [
      "100%|██████████████████████████████████████████████████████████████████████████████████████████████████████████████████████████████████████████████████████████████████████████████████| 1/1 [00:00<00:00, 271.53it/s]\n",
      "  0%|                                                                                                                                                                                           | 0/1 [00:00<?, ?it/s]"
     ]
    },
    {
     "name": "stdout",
     "output_type": "stream",
     "text": [
      "Uploading: 99\n"
     ]
    },
    {
     "name": "stderr",
     "output_type": "stream",
     "text": [
      "100%|██████████████████████████████████████████████████████████████████████████████████████████████████████████████████████████████████████████████████████████████████████████████████| 1/1 [00:00<00:00, 283.36it/s]\n"
     ]
    }
   ],
   "source": [
    "for index in range(1, 100):\n",
    "    if index in [21, 22, 32, 33, 39, 45, 50, 91]:\n",
    "        continue\n",
    "    else:\n",
    "        dataset = sy.Dataset(\n",
    "            name=f\"Challenge {index}\",\n",
    "            asset_list=[sy.Asset(\n",
    "                name=f\"{index}\", \n",
    "                data=asset_mapper[index], \n",
    "                mock=asset_mapper[index], \n",
    "                mock_is_real=True\n",
    "            )],\n",
    "            description=challenge_mapper[index]\n",
    "        )\n",
    "        admin_client.upload_dataset(dataset)"
   ]
  },
  {
   "cell_type": "code",
   "execution_count": 222,
   "id": "96179c2e-cb20-459d-8102-72efb5afc981",
   "metadata": {},
   "outputs": [
    {
     "data": {
      "text/html": [
       "List - Size: 90\n",
       "<div>\n",
       "<style scoped>\n",
       "    .dataframe tbody tr th:only-of-type {\n",
       "        vertical-align: middle;\n",
       "    }\n",
       "\n",
       "    .dataframe tbody tr th {\n",
       "        vertical-align: top;\n",
       "    }\n",
       "\n",
       "    .dataframe thead th {\n",
       "        text-align: right;\n",
       "    }\n",
       "</style>\n",
       "<table border=\"1\" class=\"dataframe\">\n",
       "  <thead>\n",
       "    <tr style=\"text-align: right;\">\n",
       "      <th></th>\n",
       "      <th>type</th>\n",
       "      <th>id</th>\n",
       "      <th>name</th>\n",
       "      <th>url</th>\n",
       "    </tr>\n",
       "  </thead>\n",
       "  <tbody>\n",
       "    <tr>\n",
       "      <th>0</th>\n",
       "      <td>syft.core.node.new.dataset.Dataset</td>\n",
       "      <td>67c850690e91484aae7f8a36127a89ff</td>\n",
       "      <td>Challenge 1</td>\n",
       "      <td>None</td>\n",
       "    </tr>\n",
       "    <tr>\n",
       "      <th>1</th>\n",
       "      <td>syft.core.node.new.dataset.Dataset</td>\n",
       "      <td>74e8eb622c7140a3abdd9db0cf383296</td>\n",
       "      <td>Challenge 2</td>\n",
       "      <td>None</td>\n",
       "    </tr>\n",
       "    <tr>\n",
       "      <th>2</th>\n",
       "      <td>syft.core.node.new.dataset.Dataset</td>\n",
       "      <td>5555eb7586e447efb5ae06a0fff0eef6</td>\n",
       "      <td>Challenge 3</td>\n",
       "      <td>None</td>\n",
       "    </tr>\n",
       "    <tr>\n",
       "      <th>3</th>\n",
       "      <td>syft.core.node.new.dataset.Dataset</td>\n",
       "      <td>9eafb573d35a4c5f92e5175bea000edb</td>\n",
       "      <td>Challenge 4</td>\n",
       "      <td>None</td>\n",
       "    </tr>\n",
       "    <tr>\n",
       "      <th>4</th>\n",
       "      <td>syft.core.node.new.dataset.Dataset</td>\n",
       "      <td>bb248096b4104a158639146ca38d480e</td>\n",
       "      <td>Challenge 5</td>\n",
       "      <td>None</td>\n",
       "    </tr>\n",
       "  </tbody>\n",
       "</table>\n",
       "</div>"
      ],
      "text/plain": [
       "<syft.core.node.new.api.APIModule at 0x173f36d30>"
      ]
     },
     "execution_count": 222,
     "metadata": {},
     "output_type": "execute_result"
    }
   ],
   "source": [
    "admin_client.datasets"
   ]
  },
  {
   "cell_type": "code",
   "execution_count": 203,
   "id": "d16920b3-4ba5-4692-9e9b-1fe47274fe3a",
   "metadata": {},
   "outputs": [
    {
     "data": {
      "text/plain": [
       "'Create a custom dtype that describes a color as four unsigned bytes (RGBA) (★☆☆)'"
      ]
     },
     "execution_count": 203,
     "metadata": {},
     "output_type": "execute_result"
    }
   ],
   "source": [
    "challenge_mapper[22]"
   ]
  },
  {
   "cell_type": "code",
   "execution_count": 223,
   "id": "c6a646f0-0165-4993-b47b-7d0d7f6a08c2",
   "metadata": {},
   "outputs": [
    {
     "name": "stdout",
     "output_type": "stream",
     "text": [
      "New discrepancy detected at dataset index 8         having challenge number: 10         previous challenge number: 8\n",
      "New discrepancy detected at dataset index 19         having challenge number: 23         previous challenge number: 20\n",
      "New discrepancy detected at dataset index 20         having challenge number: 24         previous challenge number: 23\n",
      "New discrepancy detected at dataset index 28         having challenge number: 34         previous challenge number: 31\n",
      "New discrepancy detected at dataset index 29         having challenge number: 35         previous challenge number: 34\n",
      "New discrepancy detected at dataset index 33         having challenge number: 40         previous challenge number: 38\n",
      "New discrepancy detected at dataset index 38         having challenge number: 46         previous challenge number: 44\n",
      "New discrepancy detected at dataset index 42         having challenge number: 51         previous challenge number: 49\n",
      "New discrepancy detected at dataset index 80         having challenge number: 90         previous challenge number: 88\n",
      "New discrepancy detected at dataset index 81         having challenge number: 92         previous challenge number: 90\n",
      "New discrepancy detected at dataset index 89         having challenge number: 9         previous challenge number: 99\n"
     ]
    }
   ],
   "source": [
    "offset = 0\n",
    "prev_challenge_number = None\n",
    "for i in range(90):\n",
    "    challenge_number = admin_client.datasets[i].name.split()[-1]\n",
    "    if int(challenge_number) != i + 1 + offset:\n",
    "        print(f\"New discrepancy detected at dataset index {i} \\\n",
    "        having challenge number: {challenge_number} \\\n",
    "        previous challenge number: {prev_challenge_number}\")\n",
    "        offset += 1\n",
    "    prev_challenge_number = challenge_number"
   ]
  },
  {
   "cell_type": "code",
   "execution_count": 224,
   "id": "c86452cd-4457-4247-8c4a-9cee969f89fe",
   "metadata": {
    "tags": []
   },
   "outputs": [
    {
     "name": "stderr",
     "output_type": "stream",
     "text": [
      "100%|███████████████████████████████████████████████████████████████████████████████████████████████████████████████████████████████████████████████████████████████████████████████████| 1/1 [00:00<00:00, 89.01it/s]"
     ]
    },
    {
     "name": "stdout",
     "output_type": "stream",
     "text": [
      "Uploading: 9\n"
     ]
    },
    {
     "name": "stderr",
     "output_type": "stream",
     "text": [
      "\n"
     ]
    },
    {
     "data": {
      "text/html": [
       "<div class=\"alert-danger\" style=\"padding:5px;\"><strong>SyftError</strong>: Duplication Key Error: syft.core.node.new.dataset.Dataset</div><br />"
      ],
      "text/plain": [
       "<class 'syft.core.node.new.response.SyftError'>: Duplication Key Error: syft.core.node.new.dataset.Dataset"
      ]
     },
     "execution_count": 224,
     "metadata": {},
     "output_type": "execute_result"
    }
   ],
   "source": [
    "index = 9\n",
    "\n",
    "dataset = sy.Dataset(\n",
    "        name=f\"Challenge {index}\",\n",
    "        asset_list=[sy.Asset(\n",
    "            name=f\"{index}\", \n",
    "            data=asset_mapper[index], \n",
    "            mock=asset_mapper[index], \n",
    "            mock_is_real=True\n",
    "        )],\n",
    "        description=challenge_mapper[index]\n",
    ")\n",
    "\n",
    "admin_client.upload_dataset(dataset)"
   ]
  },
  {
   "cell_type": "code",
   "execution_count": 216,
   "id": "9d800652-8fc1-4ea8-ac11-a9b7c050b0c9",
   "metadata": {},
   "outputs": [],
   "source": [
    "from syft.core.node.new.action_service import TwinObject"
   ]
  },
  {
   "cell_type": "code",
   "execution_count": 217,
   "id": "9d086e79-b403-43de-855c-25f60a2a9d10",
   "metadata": {},
   "outputs": [
    {
     "ename": "Exception",
     "evalue": "<class 'tuple'> not in action_types",
     "output_type": "error",
     "traceback": [
      "\u001b[0;31m---------------------------------------------------------------------------\u001b[0m",
      "\u001b[0;31mException\u001b[0m                                 Traceback (most recent call last)",
      "Input \u001b[0;32mIn [217]\u001b[0m, in \u001b[0;36m<cell line: 1>\u001b[0;34m()\u001b[0m\n\u001b[0;32m----> 1\u001b[0m \u001b[43mTwinObject\u001b[49m\u001b[43m(\u001b[49m\u001b[43mprivate_obj\u001b[49m\u001b[38;5;241;43m=\u001b[39;49m\u001b[43mdataset\u001b[49m\u001b[38;5;241;43m.\u001b[39;49m\u001b[43massets\u001b[49m\u001b[43m[\u001b[49m\u001b[38;5;241;43m0\u001b[39;49m\u001b[43m]\u001b[49m\u001b[38;5;241;43m.\u001b[39;49m\u001b[43mdata\u001b[49m\u001b[43m,\u001b[49m\u001b[43m \u001b[49m\u001b[43mmock_obj\u001b[49m\u001b[38;5;241;43m=\u001b[39;49m\u001b[43mdataset\u001b[49m\u001b[38;5;241;43m.\u001b[39;49m\u001b[43massets\u001b[49m\u001b[43m[\u001b[49m\u001b[38;5;241;43m0\u001b[39;49m\u001b[43m]\u001b[49m\u001b[38;5;241;43m.\u001b[39;49m\u001b[43mmock\u001b[49m\u001b[43m)\u001b[49m\n",
      "File \u001b[0;32m~/PySyft/packages/syft/src/syft/core/node/new/twin_object.py:45\u001b[0m, in \u001b[0;36mTwinObject.__init__\u001b[0;34m(self, private_obj, mock_obj, private_obj_id, mock_obj_id, id)\u001b[0m\n\u001b[1;32m     37\u001b[0m \u001b[38;5;28;01mdef\u001b[39;00m \u001b[38;5;21m__init__\u001b[39m(\n\u001b[1;32m     38\u001b[0m     \u001b[38;5;28mself\u001b[39m,\n\u001b[1;32m     39\u001b[0m     private_obj: ActionObject,\n\u001b[0;32m   (...)\u001b[0m\n\u001b[1;32m     43\u001b[0m     \u001b[38;5;28mid\u001b[39m: Optional[UID] \u001b[38;5;241m=\u001b[39m \u001b[38;5;28;01mNone\u001b[39;00m,\n\u001b[1;32m     44\u001b[0m ) \u001b[38;5;241m-\u001b[39m\u001b[38;5;241m>\u001b[39m \u001b[38;5;28;01mNone\u001b[39;00m:\n\u001b[0;32m---> 45\u001b[0m     private_obj \u001b[38;5;241m=\u001b[39m \u001b[43mto_action_object\u001b[49m\u001b[43m(\u001b[49m\u001b[43mprivate_obj\u001b[49m\u001b[43m)\u001b[49m\n\u001b[1;32m     46\u001b[0m     mock_obj \u001b[38;5;241m=\u001b[39m to_action_object(mock_obj)\n\u001b[1;32m     48\u001b[0m     \u001b[38;5;28;01mif\u001b[39;00m private_obj_id \u001b[38;5;129;01mis\u001b[39;00m \u001b[38;5;28;01mNone\u001b[39;00m:\n",
      "File \u001b[0;32m~/PySyft/packages/syft/src/syft/core/node/new/twin_object.py:22\u001b[0m, in \u001b[0;36mto_action_object\u001b[0;34m(obj)\u001b[0m\n\u001b[1;32m     20\u001b[0m \u001b[38;5;28;01mif\u001b[39;00m \u001b[38;5;28mtype\u001b[39m(obj) \u001b[38;5;129;01min\u001b[39;00m action_types:\n\u001b[1;32m     21\u001b[0m     \u001b[38;5;28;01mreturn\u001b[39;00m action_types[\u001b[38;5;28mtype\u001b[39m(obj)](syft_action_data\u001b[38;5;241m=\u001b[39mobj)\n\u001b[0;32m---> 22\u001b[0m \u001b[38;5;28;01mraise\u001b[39;00m \u001b[38;5;167;01mException\u001b[39;00m(\u001b[38;5;124mf\u001b[39m\u001b[38;5;124m\"\u001b[39m\u001b[38;5;132;01m{\u001b[39;00m\u001b[38;5;28mtype\u001b[39m(obj)\u001b[38;5;132;01m}\u001b[39;00m\u001b[38;5;124m not in action_types\u001b[39m\u001b[38;5;124m\"\u001b[39m)\n",
      "\u001b[0;31mException\u001b[0m: <class 'tuple'> not in action_types"
     ]
    }
   ],
   "source": [
    "TwinObject(private_obj=dataset.assets[0].data, mock_obj=dataset.assets[0].mock)"
   ]
  },
  {
   "cell_type": "code",
   "execution_count": 215,
   "id": "a79a9b8d-9191-4571-ad52-05b47f85cc8f",
   "metadata": {},
   "outputs": [
    {
     "data": {
      "text/plain": [
       "(array([0, 1, 4]),)"
      ]
     },
     "execution_count": 215,
     "metadata": {},
     "output_type": "execute_result"
    }
   ],
   "source": [
    "dataset.assets[0].data"
   ]
  },
  {
   "cell_type": "code",
   "execution_count": 178,
   "id": "15f71450-cfa2-49cd-b6a1-d6e85d1c33b9",
   "metadata": {
    "jupyter": {
     "source_hidden": true
    },
    "tags": []
   },
   "outputs": [
    {
     "name": "stderr",
     "output_type": "stream",
     "text": [
      "  0%|                                                                                                                                                                                           | 0/1 [00:00<?, ?it/s]"
     ]
    },
    {
     "name": "stdout",
     "output_type": "stream",
     "text": [
      "Uploading: 22\n"
     ]
    },
    {
     "name": "stderr",
     "output_type": "stream",
     "text": [
      "\n"
     ]
    },
    {
     "data": {
      "text/html": [
       "<div class=\"alert-danger\" style=\"padding:5px;\"><strong>SyftError</strong>: Failed to create twin. <class 'numpy.dtype[void]'> not in action_types</div><br />"
      ],
      "text/plain": [
       "<class 'syft.core.node.new.response.SyftError'>: Failed to create twin. <class 'numpy.dtype[void]'> not in action_types"
      ]
     },
     "execution_count": 178,
     "metadata": {},
     "output_type": "execute_result"
    }
   ],
   "source": [
    "index = 22\n",
    "\n",
    "dataset = sy.Dataset(\n",
    "        name=f\"Challenge {index}\",\n",
    "        asset_list=[sy.Asset(\n",
    "            name=f\"{index}\", \n",
    "            data=asset_mapper[index], \n",
    "            mock=asset_mapper[index], \n",
    "            mock_is_real=True\n",
    "        )],\n",
    "        description=challenge_mapper[index]\n",
    ")\n",
    "\n",
    "admin_client.upload_dataset(dataset)"
   ]
  },
  {
   "cell_type": "code",
   "execution_count": 179,
   "id": "58534b5e-d4ae-49dd-a492-116fca1e0b2c",
   "metadata": {
    "collapsed": true,
    "jupyter": {
     "outputs_hidden": true,
     "source_hidden": true
    },
    "tags": []
   },
   "outputs": [
    {
     "ename": "KeyError",
     "evalue": "32",
     "output_type": "error",
     "traceback": [
      "\u001b[0;31m---------------------------------------------------------------------------\u001b[0m",
      "\u001b[0;31mKeyError\u001b[0m                                  Traceback (most recent call last)",
      "Input \u001b[0;32mIn [179]\u001b[0m, in \u001b[0;36m<cell line: 3>\u001b[0;34m()\u001b[0m\n\u001b[1;32m      1\u001b[0m index \u001b[38;5;241m=\u001b[39m \u001b[38;5;241m32\u001b[39m\n\u001b[1;32m      3\u001b[0m dataset \u001b[38;5;241m=\u001b[39m sy\u001b[38;5;241m.\u001b[39mDataset(\n\u001b[1;32m      4\u001b[0m         name\u001b[38;5;241m=\u001b[39m\u001b[38;5;124mf\u001b[39m\u001b[38;5;124m\"\u001b[39m\u001b[38;5;124mChallenge \u001b[39m\u001b[38;5;132;01m{\u001b[39;00mindex\u001b[38;5;132;01m}\u001b[39;00m\u001b[38;5;124m\"\u001b[39m,\n\u001b[1;32m      5\u001b[0m         asset_list\u001b[38;5;241m=\u001b[39m[sy\u001b[38;5;241m.\u001b[39mAsset(\n\u001b[1;32m      6\u001b[0m             name\u001b[38;5;241m=\u001b[39m\u001b[38;5;124mf\u001b[39m\u001b[38;5;124m\"\u001b[39m\u001b[38;5;132;01m{\u001b[39;00mindex\u001b[38;5;132;01m}\u001b[39;00m\u001b[38;5;124m\"\u001b[39m, \n\u001b[0;32m----> 7\u001b[0m             data\u001b[38;5;241m=\u001b[39m\u001b[43masset_mapper\u001b[49m\u001b[43m[\u001b[49m\u001b[43mindex\u001b[49m\u001b[43m]\u001b[49m, \n\u001b[1;32m      8\u001b[0m             mock\u001b[38;5;241m=\u001b[39masset_mapper[index], \n\u001b[1;32m      9\u001b[0m             mock_is_real\u001b[38;5;241m=\u001b[39m\u001b[38;5;28;01mTrue\u001b[39;00m\n\u001b[1;32m     10\u001b[0m         )],\n\u001b[1;32m     11\u001b[0m         description\u001b[38;5;241m=\u001b[39mchallenge_mapper[index]\n\u001b[1;32m     12\u001b[0m )\n\u001b[1;32m     14\u001b[0m admin_client\u001b[38;5;241m.\u001b[39mupload_dataset(dataset)\n",
      "\u001b[0;31mKeyError\u001b[0m: 32"
     ]
    }
   ],
   "source": [
    "index = 32\n",
    "\n",
    "dataset = sy.Dataset(\n",
    "        name=f\"Challenge {index}\",\n",
    "        asset_list=[sy.Asset(\n",
    "            name=f\"{index}\", \n",
    "            data=asset_mapper[index], \n",
    "            mock=asset_mapper[index], \n",
    "            mock_is_real=True\n",
    "        )],\n",
    "        description=challenge_mapper[index]\n",
    ")\n",
    "\n",
    "admin_client.upload_dataset(dataset)"
   ]
  },
  {
   "cell_type": "code",
   "execution_count": 188,
   "id": "8d39f257-ced3-4d94-bbb2-47bd35dfe912",
   "metadata": {
    "jupyter": {
     "source_hidden": true
    },
    "tags": []
   },
   "outputs": [
    {
     "name": "stderr",
     "output_type": "stream",
     "text": [
      "  0%|                                                                                                                                                                                           | 0/1 [00:00<?, ?it/s]"
     ]
    },
    {
     "name": "stdout",
     "output_type": "stream",
     "text": [
      "Uploading: 39\n"
     ]
    },
    {
     "name": "stderr",
     "output_type": "stream",
     "text": [
      "\n"
     ]
    },
    {
     "data": {
      "text/html": [
       "<div class=\"alert-danger\" style=\"padding:5px;\"><strong>SyftError</strong>: Failed to create twin. <class 'list'> not in action_types</div><br />"
      ],
      "text/plain": [
       "<class 'syft.core.node.new.response.SyftError'>: Failed to create twin. <class 'list'> not in action_types"
      ]
     },
     "execution_count": 188,
     "metadata": {},
     "output_type": "execute_result"
    }
   ],
   "source": [
    "index = 39\n",
    "\n",
    "dataset = sy.Dataset(\n",
    "        name=f\"Challenge {index}\",\n",
    "        asset_list=[sy.Asset(\n",
    "            name=f\"{index}\", \n",
    "            data=asset_mapper[index], \n",
    "            mock=asset_mapper[index], \n",
    "            mock_is_real=True\n",
    "        )],\n",
    "        description=challenge_mapper[index]\n",
    ")\n",
    "\n",
    "admin_client.upload_dataset(dataset)"
   ]
  },
  {
   "cell_type": "code",
   "execution_count": 189,
   "id": "2342fc87-1c8f-4d12-8179-7daea422dca6",
   "metadata": {
    "collapsed": true,
    "jupyter": {
     "outputs_hidden": true,
     "source_hidden": true
    },
    "tags": []
   },
   "outputs": [
    {
     "ename": "KeyError",
     "evalue": "45",
     "output_type": "error",
     "traceback": [
      "\u001b[0;31m---------------------------------------------------------------------------\u001b[0m",
      "\u001b[0;31mKeyError\u001b[0m                                  Traceback (most recent call last)",
      "Input \u001b[0;32mIn [189]\u001b[0m, in \u001b[0;36m<cell line: 3>\u001b[0;34m()\u001b[0m\n\u001b[1;32m      1\u001b[0m index \u001b[38;5;241m=\u001b[39m \u001b[38;5;241m45\u001b[39m\n\u001b[1;32m      3\u001b[0m dataset \u001b[38;5;241m=\u001b[39m sy\u001b[38;5;241m.\u001b[39mDataset(\n\u001b[1;32m      4\u001b[0m         name\u001b[38;5;241m=\u001b[39m\u001b[38;5;124mf\u001b[39m\u001b[38;5;124m\"\u001b[39m\u001b[38;5;124mChallenge \u001b[39m\u001b[38;5;132;01m{\u001b[39;00mindex\u001b[38;5;132;01m}\u001b[39;00m\u001b[38;5;124m\"\u001b[39m,\n\u001b[1;32m      5\u001b[0m         asset_list\u001b[38;5;241m=\u001b[39m[sy\u001b[38;5;241m.\u001b[39mAsset(\n\u001b[1;32m      6\u001b[0m             name\u001b[38;5;241m=\u001b[39m\u001b[38;5;124mf\u001b[39m\u001b[38;5;124m\"\u001b[39m\u001b[38;5;132;01m{\u001b[39;00mindex\u001b[38;5;132;01m}\u001b[39;00m\u001b[38;5;124m\"\u001b[39m, \n\u001b[0;32m----> 7\u001b[0m             data\u001b[38;5;241m=\u001b[39m\u001b[43masset_mapper\u001b[49m\u001b[43m[\u001b[49m\u001b[43mindex\u001b[49m\u001b[43m]\u001b[49m, \n\u001b[1;32m      8\u001b[0m             mock\u001b[38;5;241m=\u001b[39masset_mapper[index], \n\u001b[1;32m      9\u001b[0m             mock_is_real\u001b[38;5;241m=\u001b[39m\u001b[38;5;28;01mTrue\u001b[39;00m\n\u001b[1;32m     10\u001b[0m         )],\n\u001b[1;32m     11\u001b[0m         description\u001b[38;5;241m=\u001b[39mchallenge_mapper[index]\n\u001b[1;32m     12\u001b[0m )\n\u001b[1;32m     14\u001b[0m admin_client\u001b[38;5;241m.\u001b[39mupload_dataset(dataset)\n",
      "\u001b[0;31mKeyError\u001b[0m: 45"
     ]
    }
   ],
   "source": [
    "index = 45\n",
    "\n",
    "dataset = sy.Dataset(\n",
    "        name=f\"Challenge {index}\",\n",
    "        asset_list=[sy.Asset(\n",
    "            name=f\"{index}\", \n",
    "            data=asset_mapper[index], \n",
    "            mock=asset_mapper[index], \n",
    "            mock_is_real=True\n",
    "        )],\n",
    "        description=challenge_mapper[index]\n",
    ")\n",
    "\n",
    "admin_client.upload_dataset(dataset)"
   ]
  },
  {
   "cell_type": "code",
   "execution_count": 190,
   "id": "b28134f9-10d7-4d67-b779-ef633b3ae591",
   "metadata": {
    "collapsed": true,
    "jupyter": {
     "outputs_hidden": true,
     "source_hidden": true
    },
    "tags": []
   },
   "outputs": [
    {
     "ename": "KeyError",
     "evalue": "50",
     "output_type": "error",
     "traceback": [
      "\u001b[0;31m---------------------------------------------------------------------------\u001b[0m",
      "\u001b[0;31mKeyError\u001b[0m                                  Traceback (most recent call last)",
      "Input \u001b[0;32mIn [190]\u001b[0m, in \u001b[0;36m<cell line: 3>\u001b[0;34m()\u001b[0m\n\u001b[1;32m      1\u001b[0m index \u001b[38;5;241m=\u001b[39m \u001b[38;5;241m50\u001b[39m\n\u001b[1;32m      3\u001b[0m dataset \u001b[38;5;241m=\u001b[39m sy\u001b[38;5;241m.\u001b[39mDataset(\n\u001b[1;32m      4\u001b[0m         name\u001b[38;5;241m=\u001b[39m\u001b[38;5;124mf\u001b[39m\u001b[38;5;124m\"\u001b[39m\u001b[38;5;124mChallenge \u001b[39m\u001b[38;5;132;01m{\u001b[39;00mindex\u001b[38;5;132;01m}\u001b[39;00m\u001b[38;5;124m\"\u001b[39m,\n\u001b[1;32m      5\u001b[0m         asset_list\u001b[38;5;241m=\u001b[39m[sy\u001b[38;5;241m.\u001b[39mAsset(\n\u001b[1;32m      6\u001b[0m             name\u001b[38;5;241m=\u001b[39m\u001b[38;5;124mf\u001b[39m\u001b[38;5;124m\"\u001b[39m\u001b[38;5;132;01m{\u001b[39;00mindex\u001b[38;5;132;01m}\u001b[39;00m\u001b[38;5;124m\"\u001b[39m, \n\u001b[0;32m----> 7\u001b[0m             data\u001b[38;5;241m=\u001b[39m\u001b[43masset_mapper\u001b[49m\u001b[43m[\u001b[49m\u001b[43mindex\u001b[49m\u001b[43m]\u001b[49m, \n\u001b[1;32m      8\u001b[0m             mock\u001b[38;5;241m=\u001b[39masset_mapper[index], \n\u001b[1;32m      9\u001b[0m             mock_is_real\u001b[38;5;241m=\u001b[39m\u001b[38;5;28;01mTrue\u001b[39;00m\n\u001b[1;32m     10\u001b[0m         )],\n\u001b[1;32m     11\u001b[0m         description\u001b[38;5;241m=\u001b[39mchallenge_mapper[index]\n\u001b[1;32m     12\u001b[0m )\n\u001b[1;32m     14\u001b[0m admin_client\u001b[38;5;241m.\u001b[39mupload_dataset(dataset)\n",
      "\u001b[0;31mKeyError\u001b[0m: 50"
     ]
    }
   ],
   "source": [
    "index = 50\n",
    "\n",
    "dataset = sy.Dataset(\n",
    "        name=f\"Challenge {index}\",\n",
    "        asset_list=[sy.Asset(\n",
    "            name=f\"{index}\", \n",
    "            data=asset_mapper[index], \n",
    "            mock=asset_mapper[index], \n",
    "            mock_is_real=True\n",
    "        )],\n",
    "        description=challenge_mapper[index]\n",
    ")\n",
    "\n",
    "admin_client.upload_dataset(dataset)"
   ]
  },
  {
   "cell_type": "code",
   "execution_count": 191,
   "id": "33de65a4-88e5-471d-81a8-d54a6f42cd8d",
   "metadata": {
    "jupyter": {
     "source_hidden": true
    },
    "tags": []
   },
   "outputs": [
    {
     "name": "stderr",
     "output_type": "stream",
     "text": [
      "  0%|                                                                                                                                                                                           | 0/1 [00:00<?, ?it/s]"
     ]
    },
    {
     "name": "stdout",
     "output_type": "stream",
     "text": [
      "Uploading: 89\n"
     ]
    },
    {
     "name": "stderr",
     "output_type": "stream",
     "text": [
      "\n"
     ]
    },
    {
     "data": {
      "text/html": [
       "<div class=\"alert-danger\" style=\"padding:5px;\"><strong>SyftError</strong>: Failed to create twin. <class 'list'> not in action_types</div><br />"
      ],
      "text/plain": [
       "<class 'syft.core.node.new.response.SyftError'>: Failed to create twin. <class 'list'> not in action_types"
      ]
     },
     "execution_count": 191,
     "metadata": {},
     "output_type": "execute_result"
    }
   ],
   "source": [
    "index = 89\n",
    "\n",
    "dataset = sy.Dataset(\n",
    "        name=f\"Challenge {index}\",\n",
    "        asset_list=[sy.Asset(\n",
    "            name=f\"{index}\", \n",
    "            data=asset_mapper[index], \n",
    "            mock=asset_mapper[index], \n",
    "            mock_is_real=True\n",
    "        )],\n",
    "        description=challenge_mapper[index]\n",
    ")\n",
    "\n",
    "admin_client.upload_dataset(dataset)"
   ]
  },
  {
   "cell_type": "code",
   "execution_count": 192,
   "id": "286e5126-f14c-43e8-a2b8-ad68181f7ac4",
   "metadata": {
    "jupyter": {
     "source_hidden": true
    },
    "tags": []
   },
   "outputs": [
    {
     "ename": "KeyError",
     "evalue": "91",
     "output_type": "error",
     "traceback": [
      "\u001b[0;31m---------------------------------------------------------------------------\u001b[0m",
      "\u001b[0;31mKeyError\u001b[0m                                  Traceback (most recent call last)",
      "Input \u001b[0;32mIn [192]\u001b[0m, in \u001b[0;36m<cell line: 3>\u001b[0;34m()\u001b[0m\n\u001b[1;32m      1\u001b[0m index \u001b[38;5;241m=\u001b[39m \u001b[38;5;241m91\u001b[39m\n\u001b[1;32m      3\u001b[0m dataset \u001b[38;5;241m=\u001b[39m sy\u001b[38;5;241m.\u001b[39mDataset(\n\u001b[1;32m      4\u001b[0m         name\u001b[38;5;241m=\u001b[39m\u001b[38;5;124mf\u001b[39m\u001b[38;5;124m\"\u001b[39m\u001b[38;5;124mChallenge \u001b[39m\u001b[38;5;132;01m{\u001b[39;00mindex\u001b[38;5;132;01m}\u001b[39;00m\u001b[38;5;124m\"\u001b[39m,\n\u001b[1;32m      5\u001b[0m         asset_list\u001b[38;5;241m=\u001b[39m[sy\u001b[38;5;241m.\u001b[39mAsset(\n\u001b[1;32m      6\u001b[0m             name\u001b[38;5;241m=\u001b[39m\u001b[38;5;124mf\u001b[39m\u001b[38;5;124m\"\u001b[39m\u001b[38;5;132;01m{\u001b[39;00mindex\u001b[38;5;132;01m}\u001b[39;00m\u001b[38;5;124m\"\u001b[39m, \n\u001b[0;32m----> 7\u001b[0m             data\u001b[38;5;241m=\u001b[39m\u001b[43masset_mapper\u001b[49m\u001b[43m[\u001b[49m\u001b[43mindex\u001b[49m\u001b[43m]\u001b[49m, \n\u001b[1;32m      8\u001b[0m             mock\u001b[38;5;241m=\u001b[39masset_mapper[index], \n\u001b[1;32m      9\u001b[0m             mock_is_real\u001b[38;5;241m=\u001b[39m\u001b[38;5;28;01mTrue\u001b[39;00m\n\u001b[1;32m     10\u001b[0m         )],\n\u001b[1;32m     11\u001b[0m         description\u001b[38;5;241m=\u001b[39mchallenge_mapper[index]\n\u001b[1;32m     12\u001b[0m )\n\u001b[1;32m     14\u001b[0m admin_client\u001b[38;5;241m.\u001b[39mupload_dataset(dataset)\n",
      "\u001b[0;31mKeyError\u001b[0m: 91"
     ]
    }
   ],
   "source": [
    "index = 91\n",
    "\n",
    "dataset = sy.Dataset(\n",
    "        name=f\"Challenge {index}\",\n",
    "        asset_list=[sy.Asset(\n",
    "            name=f\"{index}\", \n",
    "            data=asset_mapper[index], \n",
    "            mock=asset_mapper[index], \n",
    "            mock_is_real=True\n",
    "        )],\n",
    "        description=challenge_mapper[index]\n",
    ")\n",
    "\n",
    "admin_client.upload_dataset(dataset)"
   ]
  },
  {
   "cell_type": "code",
   "execution_count": 194,
   "id": "65b23e6f-78d8-4341-b702-06c427b6d82d",
   "metadata": {},
   "outputs": [
    {
     "data": {
      "text/plain": [
       "dict_keys([1, 2, 3, 4, 5, 6, 7, 8, 9, 10, 11, 12, 13, 14, 15, 16, 17, 18, 19, 20, 21, 22, 23, 24, 25, 26, 27, 28, 29, 30, 31, 34, 35, 36, 37, 38, 39, 40, 41, 42, 43, 44, 46, 47, 48, 49, 51, 52, 53, 54, 55, 56, 57, 58, 59, 60, 61, 62, 63, 64, 65, 66, 67, 68, 69, 70, 71, 72, 73, 74, 75, 76, 77, 78, 79, 80, 81, 82, 83, 84, 85, 86, 87, 88, 89, 90, 92, 93, 94, 95, 96, 97, 98, 99])"
      ]
     },
     "execution_count": 194,
     "metadata": {},
     "output_type": "execute_result"
    }
   ],
   "source": [
    "asset_mapper.keys()"
   ]
  },
  {
   "cell_type": "code",
   "execution_count": 121,
   "id": "a4d69f75-9b58-4eb6-906d-7f1b3bc3aeff",
   "metadata": {
    "collapsed": true,
    "jupyter": {
     "outputs_hidden": true
    },
    "tags": []
   },
   "outputs": [
    {
     "data": {
      "text/html": [
       "{1: &#x27;Import the numpy package under the name `np` (★☆☆)&quot;&#x27;, 2: &#x27;Print the numpy version and the configuration (★☆☆)&#x27;, 3: &#x27;Create a null vector of size 10 (★☆☆)&#x27;, 4: &#x27;How to find the memory size of any array (★☆☆)&#x27;, 5: &#x27;Create a null vector of size 10 but the fifth value which is 1 (★☆☆)&#x27;, 6: &#x27;Create a vector with values ranging from 10 to 49 (★☆☆)&#x27;, 7: &#x27;Reverse a vector (first element becomes last) (★☆☆)&#x27;, 8: &#x27;Create a 3x3 matrix with values ranging from 0 to 8 (★☆☆)&#x27;, 9: &#x27;Find indices of non-zero elements from [1,2,0,0,4,0] (★☆☆)&#x27;, 10: &#x27;Create a 3x3 identity matrix (★☆☆)&#x27;, 11: &#x27;Create a 3x3x3 array with random values (★☆☆)&#x27;, 12: &#x27;Create a 10x10 array with random values and find the minimum and maximum values (★☆☆)&#x27;, 13: &#x27;Create a random vector of size 30 and find the mean value (★☆☆)&#x27;, 14: &#x27;Create a 2d array with 1 on the border and 0 inside (★☆☆)&#x27;, 15: &quot;How to add a border (filled with 0&#x27;s) around an existing array? (★☆☆)&quot;, 16: &#x27;What is the result of the following expression? (★☆☆)&#x27;, 17: &#x27;Create a 5x5 matrix with values 1,2,3,4 just below the diagonal (★☆☆)&#x27;, 18: &#x27;Create a 8x8 matrix and fill it with a checkerboard pattern (★☆☆)&#x27;, 19: &#x27;Consider a (6,7,8) shape array, what is the index (x,y,z) of the 100th element? (★☆☆)&#x27;, 20: &#x27;Create a checkerboard 8x8 matrix using the tile function (★☆☆)&#x27;, 21: &#x27;Normalize a 5x5 random matrix (★☆☆)&#x27;, 22: &#x27;Create a custom dtype that describes a color as four unsigned bytes (RGBA) (★☆☆)&#x27;, 23: &#x27;Multiply a 5x3 matrix by a 3x2 matrix (real matrix product) (★☆☆)&#x27;, 24: &#x27;Given a 1D array, negate all elements which are between 3 and 8, in place. (★☆☆)&#x27;, 25: &#x27;What is the output of the following script? (★☆☆)&#x27;, 26: &#x27;Consider an integer vector Z, which of these expressions are legal? (★☆☆)&#x27;, 27: &#x27;What are the result of the following expressions? (★☆☆)&#x27;, 28: &#x27;How to round away from zero a float array ? (★☆☆)&#x27;, 29: &#x27;How to find common values between two arrays? (★☆☆)&#x27;, 30: &#x27;How to ignore all numpy warnings (not recommended)? (★☆☆)&#x27;, 31: &#x27;Is the following expressions true? (★☆☆)&#x27;, 32: &#x27;How to get the dates of yesterday, today and tomorrow? (★☆☆)&#x27;, 33: &#x27;How to get all the dates corresponding to the month of July 2016? (★★☆)&#x27;, 34: &#x27;How to compute ((A+B)*(-A/2)) in place (without copy)? (★★☆)&#x27;, 35: &#x27;Extract the integer part of a random array of positive numbers using 4 different methods (★★☆)&#x27;, 36: &#x27;Create a 5x5 matrix with row values ranging from 0 to 4 (★★☆)&#x27;, 37: &#x27;Consider a generator function that generates 10 integers and use it to build an array (★☆☆)&#x27;, 38: &#x27;Create a vector of size 10 with values ranging from 0 to 1, both excluded (★★☆)&#x27;, 39: &#x27;Create a random vector of size 10 and sort it (★★☆)&#x27;, 40: &#x27;How to sum a small array faster than np.sum? (★★☆)&#x27;, 41: &#x27;Consider two random array A and B, check if they are equal (★★☆)&#x27;, 42: &#x27;Make an array immutable (read-only) (★★☆)&#x27;, 43: &#x27;Consider a random 10x2 matrix representing cartesian coordinates, convert them to polar coordinates (★★☆)&#x27;, 44: &#x27;Create random vector of size 10 and replace the maximum value by 0 (★★☆)&#x27;, 45: &#x27;Create a structured array with `x` and `y` coordinates covering the [0,1]x[0,1] area (★★☆)&#x27;, 46: &#x27;Given two arrays, X and Y, construct the Cauchy matrix C (Cij =1/(xi - yj)) (★★☆)&#x27;, 47: &#x27;Print the minimum and maximum representable value for each numpy scalar type (★★☆)&#x27;, 48: &#x27;How to print all the values of an array? (★★☆)&#x27;, 49: &#x27;How to find the closest value (to a given scalar) in a vector? (★★☆)&#x27;, 50: &#x27;Create a structured array representing a position (x,y) and a color (r,g,b) (★★☆)&#x27;, 51: &#x27;Consider a random vector with shape (100,2) representing coordinates, find point by point distances (★★☆)&#x27;, 52: &#x27;How to convert a float (32 bits) array into an integer (32 bits) in place?&#x27;, 53: &#x27;How to read the following file? (★★☆)&#x27;, 54: &#x27;What is the equivalent of enumerate for numpy arrays? (★★☆)&#x27;, 55: &#x27;Generate a generic 2D Gaussian-like array (★★☆)&#x27;, 56: &#x27;How to randomly place p elements in a 2D array? (★★☆)&#x27;, 57: &#x27;Subtract the mean of each row of a matrix (★★☆)&#x27;, 58: &#x27;How to sort an array by the nth column? (★★☆)&#x27;, 59: &#x27;How to tell if a given 2D array has null columns? (★★☆)&#x27;, 60: &#x27;Find the nearest value from a given value in an array (★★☆)&#x27;, 61: &#x27;Considering two arrays with shape (1,3) and (3,1), how to compute their sum using an iterator? (★★☆)&#x27;, 62: &#x27;Create an array class that has a name attribute (★★☆)&#x27;, 63: &#x27;Consider a given vector, how to add 1 to each element indexed by a second vector (be careful with repeated indices)? (★★★)&#x27;, 64: &#x27;How to accumulate elements of a vector (X) to an array (F) based on an index list (I)? (★★★)&#x27;, 65: &#x27;Considering a (w,h,3) image of (dtype=ubyte), compute the number of unique colors (★★☆)&#x27;, 66: &#x27;Considering a four dimensions array, how to get sum over the last two axis at once? (★★★)&#x27;, 67: &#x27;Considering a one-dimensional vector D, how to compute means of subsets of D using a vector S of same size describing subset  indices? (★★★)&#x27;, 68: &#x27;How to get the diagonal of a dot product? (★★★)&#x27;, 69: &#x27;Consider the vector [1, 2, 3, 4, 5], how to build a new vector with 3 consecutive zeros interleaved between each value? (★★★)&#x27;, 70: &#x27;Consider an array of dimension (5,5,3), how to mulitply it by an array with dimensions (5,5)? (★★★)&#x27;, 71: &#x27;How to swap two rows of an array? (★★★)&#x27;, 72: &#x27;Consider a set of 10 triplets describing 10 triangles (with shared vertices), find the set of unique line segments composing all the  triangles (★★★)&#x27;, 73: &#x27;Given a sorted array C that corresponds to a bincount, how to produce an array A such that np.bincount(A) == C? (★★★)&#x27;, 74: &#x27;How to compute averages using a sliding window over an array? (★★★)&#x27;, 75: &#x27;Consider a one-dimensional array Z, build a two-dimensional array whose first row is (Z[0],Z[1],Z[2]) and each subsequent row is  shifted by 1 (last row should be (Z[-3],Z[-2],Z[-1]) (★★★)&#x27;, 76: &#x27;How to negate a boolean, or to change the sign of a float inplace? (★★★)&#x27;, 77: &#x27;Consider 2 sets of points P0,P1 describing lines (2d) and a point p, how to compute distance from p to each line i (P0[i],P1[i])? (★★★)&#x27;, 78: &#x27;Consider 2 sets of points P0,P1 describing lines (2d) and a set of points P, how to compute distance from each point j (P[j]) to each line i (P0[i],P1[i])? (★★★)&#x27;, 79: &#x27;Consider an arbitrary array, write a function that extract a subpart with a fixed shape and centered on a given element (pad with a `fill` value when necessary) (★★★)&#x27;, 80: &#x27;Consider an array Z = [1,2,3,4,5,6,7,8,9,10,11,12,13,14], how to generate an array R = [[1,2,3,4], [2,3,4,5], [3,4,5,6], ..., [11,12,13,14]]? (★★★)&#x27;, 81: &#x27;Compute a matrix rank (★★★)&#x27;, 82: &#x27;How to find the most frequent value in an array?&#x27;, 83: &#x27;Extract all the contiguous 3x3 blocks from a random 10x10 matrix (★★★)&#x27;, 84: &#x27;Create a 2D array subclass such that Z[i,j] == Z[j,i] (★★★)&#x27;, 85: &#x27;Consider a set of p matrices wich shape (n,n) and a set of p vectors with shape (n,1). How to compute the sum of of the p matrix products at once? (result has shape (n,1)) (★★★)&#x27;, 86: &#x27;Consider a 16x16 array, how to get the block-sum (block size is 4x4)? (★★★)&#x27;, 87: &#x27;How to implement the Game of Life using numpy arrays? (★★★)&#x27;, 88: &#x27;How to get the n largest values of an array (★★★)&#x27;, 89: &#x27;Given an arbitrary number of vectors, build the cartesian product (every combinations of every item) (★★★)&#x27;, 90: &#x27;How to create a record array from a regular array? (★★★)&#x27;, 91: &#x27;Consider a large vector Z, compute Z to the power of 3 using 3 different methods (★★★)&#x27;, 92: &#x27;Consider two arrays A and B of shape (8,3) and (2,2). How to find rows of A that contain elements of each row of B regardless of the order of the elements in B? (★★★)&#x27;, 93: &#x27;Considering a 10x3 matrix, extract rows with unequal values (e.g. [2,2,3]) (★★★)&#x27;, 94: &#x27;Convert a vector of ints into a matrix binary representation (★★★)&#x27;, 95: &#x27;Given a two dimensional array, how to extract unique rows? (★★★)&#x27;, 96: &#x27;Considering 2 vectors A &amp; B, write the einsum equivalent of inner, outer, sum, and mul function (★★★)&#x27;, 97: &#x27;Considering a path described by two vectors (X,Y), how to sample it using equidistant samples (★★★)?&#x27;, 98: &#x27;Given an integer n and a 2D array X, select from X the rows which can be interpreted as draws from a multinomial distribution with n degrees, i.e., the rows which only contain integers and which sum to n. (★★★)&#x27;, 99: &#x27;Compute bootstrapped 95% confidence intervals for the mean of a 1D array X (i.e., resample the elements of an array with replacement N times, compute the mean of each sample, and then compute percentiles over the means). (★★★)&#x27;}"
      ],
      "text/plain": [
       "{1: 'Import the numpy package under the name `np` (★☆☆)\"',\n",
       " 2: 'Print the numpy version and the configuration (★☆☆)',\n",
       " 3: 'Create a null vector of size 10 (★☆☆)',\n",
       " 4: 'How to find the memory size of any array (★☆☆)',\n",
       " 5: 'Create a null vector of size 10 but the fifth value which is 1 (★☆☆)',\n",
       " 6: 'Create a vector with values ranging from 10 to 49 (★☆☆)',\n",
       " 7: 'Reverse a vector (first element becomes last) (★☆☆)',\n",
       " 8: 'Create a 3x3 matrix with values ranging from 0 to 8 (★☆☆)',\n",
       " 9: 'Find indices of non-zero elements from [1,2,0,0,4,0] (★☆☆)',\n",
       " 10: 'Create a 3x3 identity matrix (★☆☆)',\n",
       " 11: 'Create a 3x3x3 array with random values (★☆☆)',\n",
       " 12: 'Create a 10x10 array with random values and find the minimum and maximum values (★☆☆)',\n",
       " 13: 'Create a random vector of size 30 and find the mean value (★☆☆)',\n",
       " 14: 'Create a 2d array with 1 on the border and 0 inside (★☆☆)',\n",
       " 15: \"How to add a border (filled with 0's) around an existing array? (★☆☆)\",\n",
       " 16: 'What is the result of the following expression? (★☆☆)',\n",
       " 17: 'Create a 5x5 matrix with values 1,2,3,4 just below the diagonal (★☆☆)',\n",
       " 18: 'Create a 8x8 matrix and fill it with a checkerboard pattern (★☆☆)',\n",
       " 19: 'Consider a (6,7,8) shape array, what is the index (x,y,z) of the 100th element? (★☆☆)',\n",
       " 20: 'Create a checkerboard 8x8 matrix using the tile function (★☆☆)',\n",
       " 21: 'Normalize a 5x5 random matrix (★☆☆)',\n",
       " 22: 'Create a custom dtype that describes a color as four unsigned bytes (RGBA) (★☆☆)',\n",
       " 23: 'Multiply a 5x3 matrix by a 3x2 matrix (real matrix product) (★☆☆)',\n",
       " 24: 'Given a 1D array, negate all elements which are between 3 and 8, in place. (★☆☆)',\n",
       " 25: 'What is the output of the following script? (★☆☆)',\n",
       " 26: 'Consider an integer vector Z, which of these expressions are legal? (★☆☆)',\n",
       " 27: 'What are the result of the following expressions? (★☆☆)',\n",
       " 28: 'How to round away from zero a float array ? (★☆☆)',\n",
       " 29: 'How to find common values between two arrays? (★☆☆)',\n",
       " 30: 'How to ignore all numpy warnings (not recommended)? (★☆☆)',\n",
       " 31: 'Is the following expressions true? (★☆☆)',\n",
       " 32: 'How to get the dates of yesterday, today and tomorrow? (★☆☆)',\n",
       " 33: 'How to get all the dates corresponding to the month of July 2016? (★★☆)',\n",
       " 34: 'How to compute ((A+B)*(-A/2)) in place (without copy)? (★★☆)',\n",
       " 35: 'Extract the integer part of a random array of positive numbers using 4 different methods (★★☆)',\n",
       " 36: 'Create a 5x5 matrix with row values ranging from 0 to 4 (★★☆)',\n",
       " 37: 'Consider a generator function that generates 10 integers and use it to build an array (★☆☆)',\n",
       " 38: 'Create a vector of size 10 with values ranging from 0 to 1, both excluded (★★☆)',\n",
       " 39: 'Create a random vector of size 10 and sort it (★★☆)',\n",
       " 40: 'How to sum a small array faster than np.sum? (★★☆)',\n",
       " 41: 'Consider two random array A and B, check if they are equal (★★☆)',\n",
       " 42: 'Make an array immutable (read-only) (★★☆)',\n",
       " 43: 'Consider a random 10x2 matrix representing cartesian coordinates, convert them to polar coordinates (★★☆)',\n",
       " 44: 'Create random vector of size 10 and replace the maximum value by 0 (★★☆)',\n",
       " 45: 'Create a structured array with `x` and `y` coordinates covering the [0,1]x[0,1] area (★★☆)',\n",
       " 46: 'Given two arrays, X and Y, construct the Cauchy matrix C (Cij =1/(xi - yj)) (★★☆)',\n",
       " 47: 'Print the minimum and maximum representable value for each numpy scalar type (★★☆)',\n",
       " 48: 'How to print all the values of an array? (★★☆)',\n",
       " 49: 'How to find the closest value (to a given scalar) in a vector? (★★☆)',\n",
       " 50: 'Create a structured array representing a position (x,y) and a color (r,g,b) (★★☆)',\n",
       " 51: 'Consider a random vector with shape (100,2) representing coordinates, find point by point distances (★★☆)',\n",
       " 52: 'How to convert a float (32 bits) array into an integer (32 bits) in place?',\n",
       " 53: 'How to read the following file? (★★☆)',\n",
       " 54: 'What is the equivalent of enumerate for numpy arrays? (★★☆)',\n",
       " 55: 'Generate a generic 2D Gaussian-like array (★★☆)',\n",
       " 56: 'How to randomly place p elements in a 2D array? (★★☆)',\n",
       " 57: 'Subtract the mean of each row of a matrix (★★☆)',\n",
       " 58: 'How to sort an array by the nth column? (★★☆)',\n",
       " 59: 'How to tell if a given 2D array has null columns? (★★☆)',\n",
       " 60: 'Find the nearest value from a given value in an array (★★☆)',\n",
       " 61: 'Considering two arrays with shape (1,3) and (3,1), how to compute their sum using an iterator? (★★☆)',\n",
       " 62: 'Create an array class that has a name attribute (★★☆)',\n",
       " 63: 'Consider a given vector, how to add 1 to each element indexed by a second vector (be careful with repeated indices)? (★★★)',\n",
       " 64: 'How to accumulate elements of a vector (X) to an array (F) based on an index list (I)? (★★★)',\n",
       " 65: 'Considering a (w,h,3) image of (dtype=ubyte), compute the number of unique colors (★★☆)',\n",
       " 66: 'Considering a four dimensions array, how to get sum over the last two axis at once? (★★★)',\n",
       " 67: 'Considering a one-dimensional vector D, how to compute means of subsets of D using a vector S of same size describing subset  indices? (★★★)',\n",
       " 68: 'How to get the diagonal of a dot product? (★★★)',\n",
       " 69: 'Consider the vector [1, 2, 3, 4, 5], how to build a new vector with 3 consecutive zeros interleaved between each value? (★★★)',\n",
       " 70: 'Consider an array of dimension (5,5,3), how to mulitply it by an array with dimensions (5,5)? (★★★)',\n",
       " 71: 'How to swap two rows of an array? (★★★)',\n",
       " 72: 'Consider a set of 10 triplets describing 10 triangles (with shared vertices), find the set of unique line segments composing all the  triangles (★★★)',\n",
       " 73: 'Given a sorted array C that corresponds to a bincount, how to produce an array A such that np.bincount(A) == C? (★★★)',\n",
       " 74: 'How to compute averages using a sliding window over an array? (★★★)',\n",
       " 75: 'Consider a one-dimensional array Z, build a two-dimensional array whose first row is (Z[0],Z[1],Z[2]) and each subsequent row is  shifted by 1 (last row should be (Z[-3],Z[-2],Z[-1]) (★★★)',\n",
       " 76: 'How to negate a boolean, or to change the sign of a float inplace? (★★★)',\n",
       " 77: 'Consider 2 sets of points P0,P1 describing lines (2d) and a point p, how to compute distance from p to each line i (P0[i],P1[i])? (★★★)',\n",
       " 78: 'Consider 2 sets of points P0,P1 describing lines (2d) and a set of points P, how to compute distance from each point j (P[j]) to each line i (P0[i],P1[i])? (★★★)',\n",
       " 79: 'Consider an arbitrary array, write a function that extract a subpart with a fixed shape and centered on a given element (pad with a `fill` value when necessary) (★★★)',\n",
       " 80: 'Consider an array Z = [1,2,3,4,5,6,7,8,9,10,11,12,13,14], how to generate an array R = [[1,2,3,4], [2,3,4,5], [3,4,5,6], ..., [11,12,13,14]]? (★★★)',\n",
       " 81: 'Compute a matrix rank (★★★)',\n",
       " 82: 'How to find the most frequent value in an array?',\n",
       " 83: 'Extract all the contiguous 3x3 blocks from a random 10x10 matrix (★★★)',\n",
       " 84: 'Create a 2D array subclass such that Z[i,j] == Z[j,i] (★★★)',\n",
       " 85: 'Consider a set of p matrices wich shape (n,n) and a set of p vectors with shape (n,1). How to compute the sum of of the p matrix products at once? (result has shape (n,1)) (★★★)',\n",
       " 86: 'Consider a 16x16 array, how to get the block-sum (block size is 4x4)? (★★★)',\n",
       " 87: 'How to implement the Game of Life using numpy arrays? (★★★)',\n",
       " 88: 'How to get the n largest values of an array (★★★)',\n",
       " 89: 'Given an arbitrary number of vectors, build the cartesian product (every combinations of every item) (★★★)',\n",
       " 90: 'How to create a record array from a regular array? (★★★)',\n",
       " 91: 'Consider a large vector Z, compute Z to the power of 3 using 3 different methods (★★★)',\n",
       " 92: 'Consider two arrays A and B of shape (8,3) and (2,2). How to find rows of A that contain elements of each row of B regardless of the order of the elements in B? (★★★)',\n",
       " 93: 'Considering a 10x3 matrix, extract rows with unequal values (e.g. [2,2,3]) (★★★)',\n",
       " 94: 'Convert a vector of ints into a matrix binary representation (★★★)',\n",
       " 95: 'Given a two dimensional array, how to extract unique rows? (★★★)',\n",
       " 96: 'Considering 2 vectors A & B, write the einsum equivalent of inner, outer, sum, and mul function (★★★)',\n",
       " 97: 'Considering a path described by two vectors (X,Y), how to sample it using equidistant samples (★★★)?',\n",
       " 98: 'Given an integer n and a 2D array X, select from X the rows which can be interpreted as draws from a multinomial distribution with n degrees, i.e., the rows which only contain integers and which sum to n. (★★★)',\n",
       " 99: 'Compute bootstrapped 95% confidence intervals for the mean of a 1D array X (i.e., resample the elements of an array with replacement N times, compute the mean of each sample, and then compute percentiles over the means). (★★★)'}"
      ]
     },
     "execution_count": 121,
     "metadata": {},
     "output_type": "execute_result"
    }
   ],
   "source": [
    "challenge_mapper"
   ]
  },
  {
   "cell_type": "code",
   "execution_count": 166,
   "id": "b394a704-7f44-4f94-b67b-2c8d6c792964",
   "metadata": {},
   "outputs": [
    {
     "data": {
      "text/plain": [
       "'99'"
      ]
     },
     "execution_count": 166,
     "metadata": {},
     "output_type": "execute_result"
    }
   ],
   "source": [
    "admin_client.datasets[89].name.split()[-1]"
   ]
  },
  {
   "cell_type": "code",
   "execution_count": 141,
   "id": "5d7c83ce-db5f-4101-a1b0-588c0eecc1fc",
   "metadata": {},
   "outputs": [
    {
     "data": {
      "text/markdown": [
       "```python\n",
       "Syft Dataset: Challenge 8\n",
       "Assets:\n",
       "\t8: None\n",
       "Description: Create a 3x3 matrix with values ranging from 0 to 8 (★☆☆)\n",
       "\n",
       "```"
      ],
      "text/plain": [
       "syft.core.node.new.dataset.Dataset"
      ]
     },
     "execution_count": 141,
     "metadata": {},
     "output_type": "execute_result"
    }
   ],
   "source": [
    "admin_client.datasets[7]"
   ]
  },
  {
   "cell_type": "code",
   "execution_count": 142,
   "id": "ba2e3734-9454-4136-bdbc-8f6fd100f1f2",
   "metadata": {},
   "outputs": [
    {
     "data": {
      "text/markdown": [
       "```python\n",
       "Syft Dataset: Challenge 10\n",
       "Assets:\n",
       "\t10: None\n",
       "Description: Create a 3x3 identity matrix (★☆☆)\n",
       "\n",
       "```"
      ],
      "text/plain": [
       "syft.core.node.new.dataset.Dataset"
      ]
     },
     "execution_count": 142,
     "metadata": {},
     "output_type": "execute_result"
    }
   ],
   "source": [
    "admin_client.datasets[8]"
   ]
  },
  {
   "cell_type": "code",
   "execution_count": 149,
   "id": "38871a3d-181c-432f-b557-6da1b91ba465",
   "metadata": {},
   "outputs": [
    {
     "data": {
      "text/markdown": [
       "```python\n",
       "Syft Dataset: Challenge 21\n",
       "Assets:\n",
       "\t21: None\n",
       "Description: Normalize a 5x5 random matrix (★☆☆)\n",
       "\n",
       "```"
      ],
      "text/plain": [
       "syft.core.node.new.dataset.Dataset"
      ]
     },
     "execution_count": 149,
     "metadata": {},
     "output_type": "execute_result"
    }
   ],
   "source": [
    "admin_client.datasets[19]"
   ]
  },
  {
   "cell_type": "code",
   "execution_count": 150,
   "id": "27a70be9-cece-4f8d-b849-1c95bcff6027",
   "metadata": {},
   "outputs": [
    {
     "data": {
      "text/markdown": [
       "```python\n",
       "Syft Dataset: Challenge 23\n",
       "Assets:\n",
       "\t23: None\n",
       "Description: Multiply a 5x3 matrix by a 3x2 matrix (real matrix product) (★☆☆)\n",
       "\n",
       "```"
      ],
      "text/plain": [
       "syft.core.node.new.dataset.Dataset"
      ]
     },
     "execution_count": 150,
     "metadata": {},
     "output_type": "execute_result"
    }
   ],
   "source": [
    "admin_client.datasets[20]"
   ]
  },
  {
   "cell_type": "code",
   "execution_count": 153,
   "id": "35c4d225-0fd8-4aee-98e8-223776923e11",
   "metadata": {},
   "outputs": [
    {
     "data": {
      "text/markdown": [
       "```python\n",
       "Syft Dataset: Challenge 38\n",
       "Assets:\n",
       "\t38: None\n",
       "Description: Create a vector of size 10 with values ranging from 0 to 1, both excluded (★★☆)\n",
       "\n",
       "```"
      ],
      "text/plain": [
       "syft.core.node.new.dataset.Dataset"
      ]
     },
     "execution_count": 153,
     "metadata": {},
     "output_type": "execute_result"
    }
   ],
   "source": [
    "admin_client.datasets[33]"
   ]
  },
  {
   "cell_type": "code",
   "execution_count": 154,
   "id": "37343f6b-64fb-4647-9dcc-fe127614e0fb",
   "metadata": {},
   "outputs": [
    {
     "data": {
      "text/markdown": [
       "```python\n",
       "Syft Dataset: Challenge 40\n",
       "Assets:\n",
       "\t40: None\n",
       "Description: How to sum a small array faster than np.sum? (★★☆)\n",
       "\n",
       "```"
      ],
      "text/plain": [
       "syft.core.node.new.dataset.Dataset"
      ]
     },
     "execution_count": 154,
     "metadata": {},
     "output_type": "execute_result"
    }
   ],
   "source": [
    "admin_client.datasets[34]"
   ]
  },
  {
   "cell_type": "code",
   "execution_count": 156,
   "id": "e2874d40-3d0f-4cf6-8824-987583dad940",
   "metadata": {},
   "outputs": [
    {
     "data": {
      "text/markdown": [
       "```python\n",
       "Syft Dataset: Challenge 88\n",
       "Assets:\n",
       "\t88: None\n",
       "Description: How to get the n largest values of an array (★★★)\n",
       "\n",
       "```"
      ],
      "text/plain": [
       "syft.core.node.new.dataset.Dataset"
      ]
     },
     "execution_count": 156,
     "metadata": {},
     "output_type": "execute_result"
    }
   ],
   "source": [
    "admin_client.datasets[80]"
   ]
  },
  {
   "cell_type": "code",
   "execution_count": 157,
   "id": "9017f14c-b7f2-499c-925e-f8308551d6c5",
   "metadata": {},
   "outputs": [
    {
     "data": {
      "text/markdown": [
       "```python\n",
       "Syft Dataset: Challenge 90\n",
       "Assets:\n",
       "\t90: None\n",
       "Description: How to create a record array from a regular array? (★★★)\n",
       "\n",
       "```"
      ],
      "text/plain": [
       "syft.core.node.new.dataset.Dataset"
      ]
     },
     "execution_count": 157,
     "metadata": {},
     "output_type": "execute_result"
    }
   ],
   "source": [
    "admin_client.datasets[81]"
   ]
  },
  {
   "cell_type": "code",
   "execution_count": 159,
   "id": "38c39d14-539a-42e0-b4c4-16b8d32d06f0",
   "metadata": {},
   "outputs": [
    {
     "data": {
      "text/plain": [
       "'Challenge 90'"
      ]
     },
     "execution_count": 159,
     "metadata": {},
     "output_type": "execute_result"
    }
   ],
   "source": [
    "admin_client.datasets[81].name"
   ]
  },
  {
   "cell_type": "code",
   "execution_count": 204,
   "id": "b563a8ac-3777-4eec-a4c6-ad91bec31134",
   "metadata": {},
   "outputs": [
    {
     "data": {
      "text/html": [
       "[]"
      ],
      "text/plain": [
       "<syft.core.node.new.api.APIModule at 0x173f36d30>"
      ]
     },
     "execution_count": 204,
     "metadata": {},
     "output_type": "execute_result"
    }
   ],
   "source": [
    "for i in range(20):\n",
    "    _ = [admin_client.datasets.dataset_delete_by_id(ds.id) for ds in admin_client.datasets]\n",
    "\n",
    "admin_client.datasets"
   ]
  },
  {
   "cell_type": "markdown",
   "id": "f91c5b0b-59e1-4788-b02e-199bd682ead3",
   "metadata": {},
   "source": [
    "<hr>\n",
    "<hr>\n",
    "<hr>\n",
    "<hr>"
   ]
  },
  {
   "cell_type": "code",
   "execution_count": 65,
   "id": "8aaa4a43-75e2-4edc-b9bb-fcd5952f68fa",
   "metadata": {},
   "outputs": [],
   "source": [
    "user = admin_client.register(name=\"Jane Doe\", email=\"jane@caltech.edu\",\n",
    "                            password=\"abc123\", institution=\"Caltech\", website=\"https://www.caltech.edu/\")"
   ]
  },
  {
   "cell_type": "code",
   "execution_count": 67,
   "id": "e292d028-c049-48cd-8fe9-241fb940b0cb",
   "metadata": {},
   "outputs": [],
   "source": [
    "guest_domain_client = worker.guest_client"
   ]
  },
  {
   "cell_type": "code",
   "execution_count": 68,
   "id": "5d5e9cdb-9988-4fa7-ab01-03b0fd2d71ce",
   "metadata": {},
   "outputs": [],
   "source": [
    "guest_client = guest_domain_client.login(email=\"jane@caltech.edu\", password=\"abc123\")"
   ]
  },
  {
   "cell_type": "code",
   "execution_count": 69,
   "id": "7a021286-04a4-40e9-91f5-68b452c7d1cc",
   "metadata": {},
   "outputs": [
    {
     "ename": "NameError",
     "evalue": "name 'asset' is not defined",
     "output_type": "error",
     "traceback": [
      "\u001b[0;31m---------------------------------------------------------------------------\u001b[0m",
      "\u001b[0;31mNameError\u001b[0m                                 Traceback (most recent call last)",
      "\u001b[0;32m/tmp/ipykernel_13353/2270098308.py\u001b[0m in \u001b[0;36m<module>\u001b[0;34m\u001b[0m\n\u001b[0;32m----> 1\u001b[0;31m \u001b[0mdf\u001b[0m \u001b[0;34m=\u001b[0m \u001b[0masset\u001b[0m\u001b[0;34m.\u001b[0m\u001b[0mmock\u001b[0m\u001b[0;34m\u001b[0m\u001b[0;34m\u001b[0m\u001b[0m\n\u001b[0m",
      "\u001b[0;31mNameError\u001b[0m: name 'asset' is not defined"
     ]
    }
   ],
   "source": [
    "df = asset.mock"
   ]
  },
  {
   "cell_type": "code",
   "execution_count": null,
   "id": "e06ad793-35fd-40b1-ae9d-8773c8a2e505",
   "metadata": {},
   "outputs": [],
   "source": [
    "sy.syft_function(input_policy=sy.ExactMatch(df=asset.mock),\n",
    "                  output_policy=sy.SingleExecutionExactOutput())\n",
    "def get_column(df):\n",
    "    return df['Berri 1']"
   ]
  },
  {
   "cell_type": "code",
   "execution_count": null,
   "id": "7f3de14f-b19e-49cb-b99c-96cb072df30a",
   "metadata": {},
   "outputs": [],
   "source": [
    "req = guest_domain_client.api.services.code.request_code_execution(get_column)"
   ]
  },
  {
   "cell_type": "code",
   "execution_count": null,
   "id": "58e95807-6dcb-42ef-8ed4-88aadba0cb11",
   "metadata": {},
   "outputs": [],
   "source": [
    "submitted_code = guest_domain_client.code[0]"
   ]
  },
  {
   "cell_type": "code",
   "execution_count": null,
   "id": "1e6910a2-016e-41c9-a142-55b4395ff01f",
   "metadata": {},
   "outputs": [],
   "source": [
    "assert guest_domain_client.api.services.code.get_all()"
   ]
  },
  {
   "cell_type": "code",
   "execution_count": null,
   "id": "b0917b93-3d2b-4922-9624-6a4df6e037ec",
   "metadata": {},
   "outputs": [],
   "source": [
    "new_project = sy.Project(name=\"My pandas project 2\",\n",
    "                         description=\"Hi, I would like to plot the Berri 1 column.\")"
   ]
  },
  {
   "cell_type": "code",
   "execution_count": null,
   "id": "24e4df7d-4fba-4699-80f6-4e4b439a8112",
   "metadata": {},
   "outputs": [],
   "source": [
    "new_project.add_request(obj=submitted_code, permission=sy.UserCodeStatus.EXECUTE)"
   ]
  },
  {
   "cell_type": "code",
   "execution_count": null,
   "id": "bb6b267d-0a86-47b2-81b4-0215df0839b7",
   "metadata": {},
   "outputs": [],
   "source": [
    "guest_domain_client.submit_project(new_project)"
   ]
  },
  {
   "cell_type": "code",
   "execution_count": null,
   "id": "6aa41039-8645-4c92-b8bc-8220c566854c",
   "metadata": {},
   "outputs": [],
   "source": [
    "messages = domain_client.api.services.messages.get_all_for_status(MessageStatus.UNDELIVERED)"
   ]
  },
  {
   "cell_type": "code",
   "execution_count": null,
   "id": "a3700b44-1c56-4283-9f31-35386ceadbc0",
   "metadata": {},
   "outputs": [],
   "source": [
    "messages"
   ]
  },
  {
   "cell_type": "code",
   "execution_count": null,
   "id": "a041e0b5-d39b-474c-b391-31338a2c6d80",
   "metadata": {},
   "outputs": [],
   "source": [
    "project_message = [x for x in messages if issubclass(x.linked_obj.object_type, Project)][0]"
   ]
  },
  {
   "cell_type": "code",
   "execution_count": null,
   "id": "274e2a6f-c7fa-44cd-a2d8-a63251f566f1",
   "metadata": {},
   "outputs": [],
   "source": [
    "request = project_message.link.requests[0]\n",
    "func = request.changes[0].link\n",
    "op = func.output_policy_type"
   ]
  },
  {
   "cell_type": "code",
   "execution_count": null,
   "id": "362c1048-d22e-45c0-a124-b7ef103d3c8c",
   "metadata": {},
   "outputs": [],
   "source": [
    "func"
   ]
  },
  {
   "cell_type": "code",
   "execution_count": null,
   "id": "ff999b3e-4bdd-4119-b8ea-b3a55d647a63",
   "metadata": {},
   "outputs": [],
   "source": [
    "get_col_user_function = func.unsafe_function"
   ]
  },
  {
   "cell_type": "code",
   "execution_count": null,
   "id": "8152abe8-ac4b-4ba2-a106-b94b00363800",
   "metadata": {},
   "outputs": [],
   "source": [
    "real_data = domain_client.datasets[0].assets[0].data"
   ]
  },
  {
   "cell_type": "code",
   "execution_count": null,
   "id": "14dafe3a-6f85-47cd-87bc-187f1604e217",
   "metadata": {},
   "outputs": [],
   "source": [
    "real_result = get_col_user_function(df=real_data)"
   ]
  },
  {
   "cell_type": "code",
   "execution_count": null,
   "id": "b5103103-4c81-458c-9c36-909a4b21dabd",
   "metadata": {},
   "outputs": [],
   "source": [
    "real_result[:3]"
   ]
  },
  {
   "cell_type": "code",
   "execution_count": null,
   "id": "248bb7ce-0f3b-44d3-ace6-8c7da10ca069",
   "metadata": {},
   "outputs": [],
   "source": [
    "result = request.accept_by_depositing_result(real_result)\n",
    "result\n",
    "assert isinstance(result, sy.SyftSuccess)"
   ]
  },
  {
   "cell_type": "markdown",
   "id": "39075b51-6153-4fcd-bf9f-506e2ea6000d",
   "metadata": {},
   "source": [
    "ds receives results:"
   ]
  },
  {
   "cell_type": "code",
   "execution_count": null,
   "id": "849f98ad-1ac1-4975-be5c-ce5083788a49",
   "metadata": {},
   "outputs": [],
   "source": [
    "guest_client.api.services.code[0].status"
   ]
  },
  {
   "cell_type": "code",
   "execution_count": null,
   "id": "c98d03ea-58c4-4de4-8575-f763561d3070",
   "metadata": {},
   "outputs": [],
   "source": [
    "real_result = guest_client.api.services.code.get_column(df=asset)\n",
    "real_result.plot()"
   ]
  }
 ],
 "metadata": {
  "kernelspec": {
   "display_name": "Python 3 (ipykernel)",
   "language": "python",
   "name": "python3"
  },
  "language_info": {
   "codemirror_mode": {
    "name": "ipython",
    "version": 3
   },
   "file_extension": ".py",
   "mimetype": "text/x-python",
   "name": "python",
   "nbconvert_exporter": "python",
   "pygments_lexer": "ipython3",
   "version": "3.9.13"
  }
 },
 "nbformat": 4,
 "nbformat_minor": 5
}
