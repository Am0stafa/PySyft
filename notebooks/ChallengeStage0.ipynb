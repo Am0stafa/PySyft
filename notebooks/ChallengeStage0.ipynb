{
 "cells": [
  {
   "cell_type": "markdown",
   "id": "ee0c6a73-1a1f-486e-8d6d-aff1502f7166",
   "metadata": {},
   "source": [
    "## Part 0 - Challenge Organizer\n",
    "\n",
    "Challenge organizer (data owner) launches a domain node, creates accounts, and loads in datasets.\n",
    "\n",
    "Sections:\n",
    "1. Hagrid: installs syft and launches a domain node server\n",
    "2. Syft: Loads various NumPy snippets into a challenge dataset\n",
    "    - 1 dataset per group for 10 groups\n",
    "        - 10 assets per dataset\n",
    "            - 1 challenge per asset\n",
    "3. Syft: Creates a test data scientist user account\n"
   ]
  },
  {
   "cell_type": "markdown",
   "id": "7710be09-6d71-48fd-a469-20d32fc614aa",
   "metadata": {},
   "source": [
    "## Hagrid"
   ]
  },
  {
   "cell_type": "code",
   "execution_count": 1,
   "id": "0338ff75-d5d7-4a23-9551-f856c2d046ee",
   "metadata": {},
   "outputs": [],
   "source": [
    "import syft as sy"
   ]
  },
  {
   "cell_type": "code",
   "execution_count": 2,
   "id": "57c12c8e-4de9-4653-b6c2-35e47c67028e",
   "metadata": {},
   "outputs": [
    {
     "name": "stdout",
     "output_type": "stream",
     "text": [
      "> Starting Worker: Command-Center - 52848d47df447273ba13b03a066ef422 - NodeType.DOMAIN - [<class 'syft.core.node.new.user_service.UserService'>, <class 'syft.core.node.new.metadata_service.MetadataService'>, <class 'syft.core.node.new.action_service.ActionService'>, <class 'syft.core.node.new.test_service.TestService'>, <class 'syft.core.node.new.dataset_service.DatasetService'>, <class 'syft.core.node.new.user_code_service.UserCodeService'>, <class 'syft.core.node.new.request_service.RequestService'>, <class 'syft.core.node.new.data_subject_service.DataSubjectService'>, <class 'syft.core.node.new.network_service.NetworkService'>, <class 'syft.core.node.new.policy_service.PolicyService'>, <class 'syft.core.node.new.message_service.MessageService'>, <class 'syft.core.node.new.project_service.ProjectService'>, <class 'syft.core.node.new.data_subject_member_service.DataSubjectMemberService'>]\n"
     ]
    }
   ],
   "source": [
    "worker = sy.Worker.named(\"Command-Center\")\n",
    "admin_client = worker.root_client"
   ]
  },
  {
   "cell_type": "code",
   "execution_count": 3,
   "id": "6dadb763-4152-467c-baf6-2af6b8322e0f",
   "metadata": {},
   "outputs": [
    {
     "name": "stdout",
     "output_type": "stream",
     "text": [
      "Using numpy version: 1.24.2\n"
     ]
    }
   ],
   "source": [
    "np = admin_client.numpy"
   ]
  },
  {
   "cell_type": "code",
   "execution_count": 6,
   "id": "8b75db8b-cdaa-450a-a2c3-058e21daaa09",
   "metadata": {},
   "outputs": [],
   "source": [
    "Z = np.zeros(10)"
   ]
  },
  {
   "cell_type": "code",
   "execution_count": 45,
   "id": "b522ad1a-55a9-4bab-975d-d7d9d307176c",
   "metadata": {},
   "outputs": [
    {
     "name": "stderr",
     "output_type": "stream",
     "text": [
      "100%|███████████████████████████████████████████████████████████████████████████████████████████████████████████████████████████████████████████████████████████| 1/1 [00:00<00:00, 84.42it/s]"
     ]
    },
    {
     "name": "stdout",
     "output_type": "stream",
     "text": [
      "Uploading: bikes\n"
     ]
    },
    {
     "name": "stderr",
     "output_type": "stream",
     "text": [
      "\n"
     ]
    },
    {
     "data": {
      "text/html": [
       "<div class=\"alert-success\" style=\"padding:5px;\"><strong>SyftSuccess</strong>: Dataset Added</div><br />"
      ],
      "text/plain": [
       "<class 'syft.core.node.new.response.SyftSuccess'>: Dataset Added"
      ]
     },
     "execution_count": 45,
     "metadata": {},
     "output_type": "execute_result"
    }
   ],
   "source": [
    "dataset = sy.Dataset(name=\"Challenge 3\",\n",
    "                     asset_list=[sy.Asset(name=\"null_vector\", data=Z, mock=Z, mock_is_real=True)],\n",
    "                     description=\"Create a null vector of size 10 (★☆☆)\"\n",
    "                    )\n",
    "admin_client.upload_dataset(dataset)"
   ]
  },
  {
   "cell_type": "code",
   "execution_count": 46,
   "id": "f504c992-e734-4471-a5dd-860681f42e98",
   "metadata": {},
   "outputs": [
    {
     "data": {
      "text/html": [
       "List - Size: 1\n",
       "<div>\n",
       "<style scoped>\n",
       "    .dataframe tbody tr th:only-of-type {\n",
       "        vertical-align: middle;\n",
       "    }\n",
       "\n",
       "    .dataframe tbody tr th {\n",
       "        vertical-align: top;\n",
       "    }\n",
       "\n",
       "    .dataframe thead th {\n",
       "        text-align: right;\n",
       "    }\n",
       "</style>\n",
       "<table border=\"1\" class=\"dataframe\">\n",
       "  <thead>\n",
       "    <tr style=\"text-align: right;\">\n",
       "      <th></th>\n",
       "      <th>type</th>\n",
       "      <th>id</th>\n",
       "      <th>name</th>\n",
       "      <th>url</th>\n",
       "    </tr>\n",
       "  </thead>\n",
       "  <tbody>\n",
       "    <tr>\n",
       "      <th>0</th>\n",
       "      <td>syft.core.node.new.dataset.Dataset</td>\n",
       "      <td>dd7b7411fc674e52bd25d61f68175e4a</td>\n",
       "      <td>Challenge 3</td>\n",
       "      <td>None</td>\n",
       "    </tr>\n",
       "  </tbody>\n",
       "</table>\n",
       "</div>"
      ],
      "text/plain": [
       "<syft.core.node.new.api.APIModule at 0x7f36d2cc50a0>"
      ]
     },
     "execution_count": 46,
     "metadata": {},
     "output_type": "execute_result"
    }
   ],
   "source": [
    "admin_client.datasets"
   ]
  },
  {
   "cell_type": "code",
   "execution_count": 47,
   "id": "4d39882e-8182-45d5-be68-24cd676acdd5",
   "metadata": {},
   "outputs": [],
   "source": [
    "ds = admin_client.datasets[0]"
   ]
  },
  {
   "cell_type": "code",
   "execution_count": 48,
   "id": "bc9d095c-953d-4244-a364-24fc62901597",
   "metadata": {},
   "outputs": [
    {
     "data": {
      "text/plain": [
       "'Create a null vector of size 10 (★☆☆)'"
      ]
     },
     "execution_count": 48,
     "metadata": {},
     "output_type": "execute_result"
    }
   ],
   "source": [
    "ds.description"
   ]
  },
  {
   "cell_type": "code",
   "execution_count": 64,
   "id": "8565b881-50ee-459a-817a-864b40749f95",
   "metadata": {},
   "outputs": [],
   "source": [
    "challenge_mapper = {}\n",
    "with open(\"challenges.txt\", \"r\") as f:\n",
    "    for index, description in enumerate(f):\n",
    "        challenge_mapper[index + 1] = description.strip()"
   ]
  },
  {
   "cell_type": "markdown",
   "id": "22754df5-cbc6-4b3c-94fe-94bf7985e1b8",
   "metadata": {},
   "source": [
    "Challenges.txt was obtained by grepping challenges from the markup in the heartbeat notebook and stripping whitespaces and such:\n",
    "\n",
    "`cat Mission\\ 1\\ -\\ L2\\ -\\ NumPy\\ 100\\ challenge\\ design.ipynb | grep \"####\" | cut -d \" \" -f 7- | cut -d \"\\\\\" -f 1`\n"
   ]
  },
  {
   "cell_type": "code",
   "execution_count": 60,
   "id": "c629719b-1245-40db-b0ee-f1561c41d51e",
   "metadata": {},
   "outputs": [
    {
     "data": {
      "text/plain": [
       "'Create a null vector of size 10 (★☆☆)'"
      ]
     },
     "execution_count": 60,
     "metadata": {},
     "output_type": "execute_result"
    }
   ],
   "source": [
    "challenge_mapper[3]"
   ]
  },
  {
   "cell_type": "code",
   "execution_count": null,
   "id": "8aaa4a43-75e2-4edc-b9bb-fcd5952f68fa",
   "metadata": {},
   "outputs": [],
   "source": []
  }
 ],
 "metadata": {
  "kernelspec": {
   "display_name": "Python 3 (ipykernel)",
   "language": "python",
   "name": "python3"
  },
  "language_info": {
   "codemirror_mode": {
    "name": "ipython",
    "version": 3
   },
   "file_extension": ".py",
   "mimetype": "text/x-python",
   "name": "python",
   "nbconvert_exporter": "python",
   "pygments_lexer": "ipython3",
   "version": "3.9.7"
  }
 },
 "nbformat": 4,
 "nbformat_minor": 5
}
