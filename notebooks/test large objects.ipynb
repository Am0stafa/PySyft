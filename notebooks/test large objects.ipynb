{
 "cells": [
  {
   "cell_type": "code",
   "execution_count": 1,
   "id": "4d98a615",
   "metadata": {},
   "outputs": [],
   "source": [
    "import numpy as np\n",
    "\n",
    "import numpy as np\n",
    "from sys import getsizeof\n",
    "# private_high = np.random.rand(125_000_000 * 4)\n",
    "\n",
    "from time import time\n",
    "import pandas as pd\n",
    "import syft as sy\n",
    "import os\n",
    "import resource\n",
    "from syft.serde.recursive import recursive_scheme"
   ]
  },
  {
   "cell_type": "code",
   "execution_count": 2,
   "id": "3d744236",
   "metadata": {},
   "outputs": [],
   "source": [
    "profile_file = open(\"/tmp/.profile\", \"w\")"
   ]
  },
  {
   "cell_type": "code",
   "execution_count": 3,
   "id": "94070be7",
   "metadata": {},
   "outputs": [],
   "source": [
    "import psutil"
   ]
  },
  {
   "cell_type": "code",
   "execution_count": 4,
   "id": "47242708",
   "metadata": {},
   "outputs": [],
   "source": [
    "from pathlib import Path\n",
    "path = Path(\"/tmp/ram\")\n",
    "\n",
    "def write_swap(swap):\n",
    "    with open(path, \"w\") as f:\n",
    "        f.write(str(swap))\n",
    "        \n",
    "def read_swap():\n",
    "    with open(path, \"r\") as f:\n",
    "        return float(f.read().strip())"
   ]
  },
  {
   "cell_type": "code",
   "execution_count": 5,
   "id": "1e414e65",
   "metadata": {},
   "outputs": [],
   "source": [
    "start_swap = psutil.swap_memory().used / (1024 **3)"
   ]
  },
  {
   "cell_type": "code",
   "execution_count": 6,
   "id": "71f15d7a",
   "metadata": {},
   "outputs": [
    {
     "data": {
      "text/plain": [
       "54207"
      ]
     },
     "execution_count": 6,
     "metadata": {},
     "output_type": "execute_result"
    }
   ],
   "source": [
    "current_pid = os.getpid()\n",
    "current_pid"
   ]
  },
  {
   "cell_type": "code",
   "execution_count": 7,
   "id": "25700e1d",
   "metadata": {},
   "outputs": [],
   "source": [
    "write_swap(start_swap)"
   ]
  },
  {
   "cell_type": "code",
   "execution_count": 8,
   "id": "c1461689",
   "metadata": {},
   "outputs": [
    {
     "data": {
      "text/plain": [
       "3.18017578125"
      ]
     },
     "execution_count": 8,
     "metadata": {},
     "output_type": "execute_result"
    }
   ],
   "source": [
    "read_swap()"
   ]
  },
  {
   "cell_type": "code",
   "execution_count": 9,
   "id": "e5e32654",
   "metadata": {},
   "outputs": [],
   "source": [
    "import psutil\n",
    "def read_swap():\n",
    "    with open(path, \"r\") as f:\n",
    "        return float(f.read().strip())\n",
    "    \n",
    "def log_ram():\n",
    "    process = psutil.Process()\n",
    "    non_swapped = round(process.memory_info().rss / (1024**3),3)\n",
    "    swapped = psutil.swap_memory().used / (1024 **3)\n",
    "    start_swap = read_swap()\n",
    "    swapped_process = swapped - start_swap\n",
    "    total_memory = non_swapped + swapped_process\n",
    "    print(f\"RAM {total_memory} GB used ({swapped_process} swapped)\")"
   ]
  },
  {
   "cell_type": "code",
   "execution_count": 10,
   "id": "1c46b210",
   "metadata": {},
   "outputs": [
    {
     "name": "stdout",
     "output_type": "stream",
     "text": [
      "RAM 0.298 GB used (0.0 swapped)\n"
     ]
    }
   ],
   "source": [
    "log_ram()"
   ]
  },
  {
   "cell_type": "code",
   "execution_count": 11,
   "id": "6e479090",
   "metadata": {},
   "outputs": [],
   "source": [
    "num_gb = 4\n",
    "# df = pd.DataFrame(np.random.random(int(125_000* 1000* num_gb)))\n",
    "arr = np.random.random(int(125_000* 1000* num_gb))"
   ]
  },
  {
   "cell_type": "code",
   "execution_count": 13,
   "id": "a59e4a1a",
   "metadata": {},
   "outputs": [
    {
     "name": "stdout",
     "output_type": "stream",
     "text": [
      "RAM 4.023 GB used (0.0 swapped)\n"
     ]
    }
   ],
   "source": [
    "log_ram()"
   ]
  },
  {
   "cell_type": "code",
   "execution_count": 14,
   "id": "d9e84b12",
   "metadata": {},
   "outputs": [],
   "source": [
    "proto = sy.serialize(arr)"
   ]
  },
  {
   "cell_type": "code",
   "execution_count": 15,
   "id": "1681411d",
   "metadata": {},
   "outputs": [
    {
     "name": "stdout",
     "output_type": "stream",
     "text": [
      "RAM 9.0783671875 GB used (5.5263671875 swapped)\n"
     ]
    }
   ],
   "source": [
    "log_ram()"
   ]
  },
  {
   "cell_type": "markdown",
   "id": "fc795bed",
   "metadata": {},
   "source": [
    "## Appendix\n"
   ]
  },
  {
   "cell_type": "markdown",
   "id": "b0db22bc",
   "metadata": {},
   "source": [
    "to bytes: 8 to 14\n",
    "to segments: 7 to 13"
   ]
  },
  {
   "cell_type": "code",
   "execution_count": 15,
   "id": "e91c23e4",
   "metadata": {},
   "outputs": [
    {
     "name": "stderr",
     "output_type": "stream",
     "text": [
      "/var/folders/q1/ryq93kwj055dlbpngxv1c7z40000gn/T/ipykernel_7554/3139257944.py:1: UserWarning: This message has already been written once. Be very careful that you're not setting Text/Struct/List fields more than once, since that will cause memory leaks (both in memory and in the serialized data). You can disable this warning by calling the `clear_write_flag` method of this object after every write.\n",
      "  bts = proto.to_segments()\n"
     ]
    }
   ],
   "source": [
    "bts = proto.to_segments()"
   ]
  },
  {
   "cell_type": "code",
   "execution_count": 14,
   "id": "ec7bdbdb",
   "metadata": {},
   "outputs": [
    {
     "name": "stdout",
     "output_type": "stream",
     "text": [
      "RAM 7.18425 GB used (7.03125 swapped)\n"
     ]
    }
   ],
   "source": [
    "log_ram()"
   ]
  },
  {
   "cell_type": "markdown",
   "id": "73ece891",
   "metadata": {},
   "source": [
    "- before fix chunks bytes\n",
    " - after first chunk bytes: 9.4. After second 14.9\n",
    " - peek 16.48 ( chunk bytes after done voorlaatste)\n",
    "\n",
    "\n",
    "- after fix chunk bytes to use file, max 15GB\n",
    " - iterable serialize after: RAM               14.077 GB used      7.037 swapped\n"
   ]
  },
  {
   "cell_type": "code",
   "execution_count": 14,
   "id": "aaeb519b",
   "metadata": {},
   "outputs": [],
   "source": [
    "# bts = sy.serialize(df, to_bytes=True) #arr\n",
    "# # bts = sy.serialize(arr, to_bytes=True) "
   ]
  },
  {
   "cell_type": "code",
   "execution_count": 15,
   "id": "e1f1b7d7",
   "metadata": {},
   "outputs": [],
   "source": [
    "# # write to file\n",
    "# with open('/tmp/output', 'wb') as f:\n",
    "#     f.write(bts)\n"
   ]
  },
  {
   "cell_type": "code",
   "execution_count": 16,
   "id": "6f04a8b0",
   "metadata": {},
   "outputs": [],
   "source": [
    "with open('/tmp/output', 'rb') as f:\n",
    "    bts = f.read()\n"
   ]
  },
  {
   "cell_type": "code",
   "execution_count": 19,
   "id": "a2626e5b",
   "metadata": {},
   "outputs": [
    {
     "data": {
      "text/html": [
       "<div>\n",
       "<style scoped>\n",
       "    .dataframe tbody tr th:only-of-type {\n",
       "        vertical-align: middle;\n",
       "    }\n",
       "\n",
       "    .dataframe tbody tr th {\n",
       "        vertical-align: top;\n",
       "    }\n",
       "\n",
       "    .dataframe thead th {\n",
       "        text-align: right;\n",
       "    }\n",
       "</style>\n",
       "<table border=\"1\" class=\"dataframe\">\n",
       "  <thead>\n",
       "    <tr style=\"text-align: right;\">\n",
       "      <th></th>\n",
       "      <th>0</th>\n",
       "    </tr>\n",
       "  </thead>\n",
       "  <tbody>\n",
       "    <tr>\n",
       "      <th>0</th>\n",
       "      <td>0.979765</td>\n",
       "    </tr>\n",
       "    <tr>\n",
       "      <th>1</th>\n",
       "      <td>0.426968</td>\n",
       "    </tr>\n",
       "    <tr>\n",
       "      <th>2</th>\n",
       "      <td>0.172911</td>\n",
       "    </tr>\n",
       "    <tr>\n",
       "      <th>3</th>\n",
       "      <td>0.147803</td>\n",
       "    </tr>\n",
       "    <tr>\n",
       "      <th>4</th>\n",
       "      <td>0.778416</td>\n",
       "    </tr>\n",
       "    <tr>\n",
       "      <th>...</th>\n",
       "      <td>...</td>\n",
       "    </tr>\n",
       "    <tr>\n",
       "      <th>499999995</th>\n",
       "      <td>0.659948</td>\n",
       "    </tr>\n",
       "    <tr>\n",
       "      <th>499999996</th>\n",
       "      <td>0.044934</td>\n",
       "    </tr>\n",
       "    <tr>\n",
       "      <th>499999997</th>\n",
       "      <td>0.301478</td>\n",
       "    </tr>\n",
       "    <tr>\n",
       "      <th>499999998</th>\n",
       "      <td>0.601706</td>\n",
       "    </tr>\n",
       "    <tr>\n",
       "      <th>499999999</th>\n",
       "      <td>0.993921</td>\n",
       "    </tr>\n",
       "  </tbody>\n",
       "</table>\n",
       "<p>500000000 rows × 1 columns</p>\n",
       "</div>"
      ],
      "text/plain": [
       "                  0\n",
       "0          0.979765\n",
       "1          0.426968\n",
       "2          0.172911\n",
       "3          0.147803\n",
       "4          0.778416\n",
       "...             ...\n",
       "499999995  0.659948\n",
       "499999996  0.044934\n",
       "499999997  0.301478\n",
       "499999998  0.601706\n",
       "499999999  0.993921\n",
       "\n",
       "[500000000 rows x 1 columns]"
      ]
     },
     "execution_count": 19,
     "metadata": {},
     "output_type": "execute_result"
    }
   ],
   "source": [
    "sy.deserialize(bts, from_bytes=True)"
   ]
  },
  {
   "cell_type": "markdown",
   "id": "cff1b036",
   "metadata": {},
   "source": [
    "- numpy\n",
    " - iterable\n",
    "   - array"
   ]
  },
  {
   "cell_type": "code",
   "execution_count": 18,
   "id": "aaf583be",
   "metadata": {},
   "outputs": [
    {
     "name": "stdout",
     "output_type": "stream",
     "text": [
      "RAM 4.05325 GB used (-0.09375 swapped)\n"
     ]
    }
   ],
   "source": [
    "log_ram()"
   ]
  },
  {
   "cell_type": "code",
   "execution_count": 19,
   "id": "6d18cce3",
   "metadata": {},
   "outputs": [
    {
     "data": {
      "text/plain": [
       "6.13671875"
      ]
     },
     "execution_count": 19,
     "metadata": {},
     "output_type": "execute_result"
    }
   ],
   "source": [
    "psutil.swap_memory().used / (1024 **3)"
   ]
  },
  {
   "cell_type": "code",
   "execution_count": null,
   "id": "935be523",
   "metadata": {},
   "outputs": [],
   "source": [
    "    msg = recursive_scheme.new_message()"
   ]
  },
  {
   "cell_type": "code",
   "execution_count": 18,
   "id": "61aa3f17",
   "metadata": {},
   "outputs": [
    {
     "data": {
      "text/plain": [
       "<capnp.lib.capnp._MallocMessageBuilder at 0x14568c950>"
      ]
     },
     "execution_count": 18,
     "metadata": {},
     "output_type": "execute_result"
    }
   ],
   "source": [
    "proto._parent"
   ]
  },
  {
   "cell_type": "code",
   "execution_count": 19,
   "id": "8760c24a",
   "metadata": {},
   "outputs": [],
   "source": [
    "from capnp import _write_message_to_fd"
   ]
  },
  {
   "cell_type": "code",
   "execution_count": 15,
   "id": "eb0bb301",
   "metadata": {},
   "outputs": [],
   "source": [
    "with open(\"test\", \"wb\") as f:\n",
    "    _write_message_to_fd(f.fileno(), proto._parent)"
   ]
  },
  {
   "cell_type": "code",
   "execution_count": 7,
   "id": "0e82faca",
   "metadata": {},
   "outputs": [
    {
     "name": "stdout",
     "output_type": "stream",
     "text": [
      "RAM 2.103 GB used\n"
     ]
    }
   ],
   "source": [
    "log_ram()"
   ]
  },
  {
   "cell_type": "code",
   "execution_count": 8,
   "id": "f1ab233c",
   "metadata": {},
   "outputs": [],
   "source": [
    "s = proto.to_segments()"
   ]
  },
  {
   "cell_type": "code",
   "execution_count": 12,
   "id": "cd3d55d9",
   "metadata": {},
   "outputs": [],
   "source": [
    "with open(\"test\", \"wb\") as f:\n",
    "    proto.write(f)"
   ]
  },
  {
   "cell_type": "code",
   "execution_count": null,
   "id": "8f712459",
   "metadata": {},
   "outputs": [],
   "source": []
  },
  {
   "cell_type": "code",
   "execution_count": 9,
   "id": "a8acbf6a",
   "metadata": {},
   "outputs": [
    {
     "name": "stdout",
     "output_type": "stream",
     "text": [
      "RAM 2.977 GB used\n"
     ]
    }
   ],
   "source": [
    "log_ram()"
   ]
  },
  {
   "cell_type": "code",
   "execution_count": 8,
   "id": "491d0809",
   "metadata": {},
   "outputs": [],
   "source": [
    "b = proto.to_bytes()"
   ]
  },
  {
   "cell_type": "code",
   "execution_count": 9,
   "id": "7e8c5e49",
   "metadata": {},
   "outputs": [
    {
     "name": "stdout",
     "output_type": "stream",
     "text": [
      "RAM 2.975 GB used\n"
     ]
    }
   ],
   "source": [
    "log_ram()"
   ]
  },
  {
   "cell_type": "code",
   "execution_count": 10,
   "id": "12fcd217",
   "metadata": {},
   "outputs": [],
   "source": [
    "del proto"
   ]
  },
  {
   "cell_type": "code",
   "execution_count": 11,
   "id": "2356d2a7",
   "metadata": {},
   "outputs": [
    {
     "name": "stdout",
     "output_type": "stream",
     "text": [
      "RAM 2.1 GB used\n"
     ]
    }
   ],
   "source": [
    "log_ram()"
   ]
  },
  {
   "cell_type": "code",
   "execution_count": null,
   "id": "10767c43",
   "metadata": {},
   "outputs": [],
   "source": []
  },
  {
   "cell_type": "code",
   "execution_count": 9,
   "id": "e054324c",
   "metadata": {},
   "outputs": [
    {
     "name": "stdout",
     "output_type": "stream",
     "text": [
      "fqn='numpy.ndarray'\n",
      "<function numpy_serialize at 0x10ba84900> 192\n",
      "fqn='builtins.tuple'\n",
      "<function serialize_iterable at 0x10cb0dda0> 64\n",
      "fqn='builtins.bytes'\n",
      "<function <lambda> at 0x12effc540> 246\n",
      "fqn='builtins.int'\n",
      "<function <lambda> at 0x12effeca0> 28\n",
      "fqn='builtins.str'\n",
      "<function <lambda> at 0x12effe700> 48\n"
     ]
    }
   ],
   "source": [
    "proto = sy.serialize(df, to_bytes=False)"
   ]
  },
  {
   "cell_type": "code",
   "execution_count": 29,
   "id": "a7353956",
   "metadata": {},
   "outputs": [
    {
     "data": {
      "text/plain": [
       "b'\\x00\\x00\\x00\\x00R\\x00\\x00\\x00\\x00\\x00\\x00\\x00\\x00\\x00\\x04\\x00\\x00\\x00\\x00\\x00\\x00\\x00\\x00\\x00\\x00\\x00\\x00\\x00\\x00\\x00\\x00\\x00\\x05\\x00\\x00\\x00r\\x00\\x00\\x00\\t\\x00\\x00\\x00\\x0e\\x00\\x00\\x00numpy.ndarray\\x00\\x00\\x00\\x01\\x00\\x00\\x00\\x82\\x12\\x00\\x00\\x00\\x00\\x00\\x00I\\x00\\x00\\x00\\x00\\x00\\x00\\x00\\x00\\x00\\x04\\x00\\x00\\x00\\x00\\x00\\x00\\x00\\x00\\x00\\x00\\x00\\x00\\x00\\x00\\x00\\x00\\x00\\x05\\x00\\x00\\x00z\\x00\\x00\\x00\\t\\x00\\x00\\x00\\x0e\\x00\\x00\\x00builtins.tuple\\x00\\x00\\x01\\x00\\x00\\x00B\\x10\\x00\\x00\\x00\\x00\\x00\\x00@\\x00\\x00\\x00\\x00\\x00\\x00\\x00\\x00\\x00\\x01\\x00\\x01\\x00\\x00\\x00\\x1e\\x00\\x00\\x00\\t\\x00\\x00\\x00\\x0e\\x00\\x00\\x00\\x99\\x00\\x00\\x00\\x0e\\x00\\x00\\x00\\xc1\\x00\\x00\\x00\\x0e\\x00\\x00\\x00\\x01\\x00\\x00\\x00\\x02\\t\\x00\\x00\\x00\\x00\\x00\\x00#\\x00\\x00\\x00\\x00\\x00\\x00\\x00\\x00\\x00\\x04\\x00\\x00\\x00\\x00\\x00\\x00\\x00\\x00\\x00\\x00\\x00\\x00\\x00\\x00\\x00\\x00\\x00\\x05\\x00\\x00\\x00z\\x00\\x00\\x00\\t\\x00\\x00\\x00\\x0e\\x00\\x00\\x00builtins.bytes\\x00\\x00\\x01\\x00\\x00\\x00\\xaa\\x06\\x00\\x00(\\xb5/\\xfd`\\x10\\x00]\\x06\\x00T\\n\\xff\\xff\\xff\\xff\\xb8\\x00\\x00\\x00\\x14\\x00\\x0c\\x00\\x1a\\x00\\x06\\x00\\x05\\x00\\x08\\x00\\x0c\\x00\\x0c\\x00\\x00\\x00\\x00\\x04\\x04\\x00 \\x00\\x00\\x00P\\x00\\x0e\\x00(\\x00\\x07\\x10\\x00\\x14\\x00\\x0e\\x03\\\\\\x00\\x00\\x00(\\x00\\x00\\x00\\x18\\x01\\x00\\x00\\x00\\x08\\x01\\x00\\x00\\x08\\x00\\x14\\x00\\x08\\x00\\x04\\x10\\x00\\x00\\x00\\n\\x06\\x00\\x08\\x00\\x06\\x00\\x06\\x02\\x00\\x14\\x07[\\xe6\\x97`\\xdb?(\\x80\\x01@Vi\\xd9?\\xc09\\xb4%\\x1aa\\xee?\"\\x01\\xd3]\\x84\\xf2\\xe2?\\x0ec\\x04=\\x01h\\xe0?\\x84\\xc1/\\x8a\\xa8\\xa5\\xce?\\xa8*\\x19\\xffa\\x1c\\xb7?u\\xa29\\xc0\\xc4\\x17\\xe1?\\x8e;\\xb5g\\x1f\\xa8\\xe4?FS?\\xf6\\xd1\\x90\\xec?\\x0f\\x00\\xc0$\\xe5.\\xcd\\xd6r\\x0c\\x82jzG\\xcc\\x88\\xef\\x90\\x99\\xe9V<r\\x03d^\\xe4s\\xf4Q\\x97\\x16\\xf01\\x80.\\x00\\x00\\x00\\x01\\x00\\x00\\x00\\x82\\x02\\x00\\x00\\x00\\x00\\x00\\x00\\t\\x00\\x00\\x00\\x00\\x00\\x00\\x00\\x00\\x00\\x04\\x00\\x00\\x00\\x00\\x00\\x00\\x00\\x00\\x00\\x00\\x00\\x00\\x00\\x00\\x00\\x00\\x00\\x05\\x00\\x00\\x00j\\x00\\x00\\x00\\t\\x00\\x00\\x00\\x0e\\x00\\x00\\x00builtins.int\\x00\\x00\\x00\\x00\\x01\\x00\\x00\\x00\\x1a\\x00\\x00\\x00\\x00\\x01\\x10\\x00\\x00\\x00\\x00\\x00\\x01\\x00\\x00\\x00\\x82\\x02\\x00\\x00\\x00\\x00\\x00\\x00\\t\\x00\\x00\\x00\\x00\\x00\\x00\\x00\\x00\\x00\\x04\\x00\\x00\\x00\\x00\\x00\\x00\\x00\\x00\\x00\\x00\\x00\\x00\\x00\\x00\\x00\\x00\\x00\\x05\\x00\\x00\\x00j\\x00\\x00\\x00\\t\\x00\\x00\\x00\\x0e\\x00\\x00\\x00builtins.str\\x00\\x00\\x00\\x00\\x01\\x00\\x00\\x00:\\x00\\x00\\x00float64\\x00'"
      ]
     },
     "execution_count": 29,
     "metadata": {},
     "output_type": "execute_result"
    }
   ],
   "source": [
    "proto.to_bytes()"
   ]
  },
  {
   "cell_type": "code",
   "execution_count": 16,
   "id": "ab735cd3",
   "metadata": {},
   "outputs": [
    {
     "data": {
      "text/plain": [
       "capnp.lib.capnp._DynamicStructBuilder"
      ]
     },
     "execution_count": 16,
     "metadata": {},
     "output_type": "execute_result"
    }
   ],
   "source": [
    "type(proto)"
   ]
  },
  {
   "cell_type": "code",
   "execution_count": 12,
   "id": "794402d6",
   "metadata": {},
   "outputs": [],
   "source": [
    "reader = proto.as_reader()"
   ]
  },
  {
   "cell_type": "code",
   "execution_count": 15,
   "id": "b8743f19",
   "metadata": {},
   "outputs": [
    {
     "data": {
      "text/plain": [
       "capnp.lib.capnp._DynamicStructReader"
      ]
     },
     "execution_count": 15,
     "metadata": {},
     "output_type": "execute_result"
    }
   ],
   "source": [
    "type(reader)"
   ]
  },
  {
   "cell_type": "code",
   "execution_count": 14,
   "id": "1cf2dab5",
   "metadata": {},
   "outputs": [
    {
     "ename": "AttributeError",
     "evalue": "capnp/schema.c++:511: failed: struct has no such member; name = read\nstack: 11fc7b877 11fca160c 11fb0b22c 11fb34c3e 104a7101b 104b60f6b 104b3558c 104b2fe44 104b71e72 104a17afe 104a16bd9 104b72842 1049ff1c0 104b7374b 104a17afe 1057145aa 1057153d0 10571526a 104a6660c 104b9bb18 104b9ba05 104a66871 104b731b6 104b3558c 104b2fe44 104a66871 104b6df8c 104c24b7d 104c24638 10497b987 7ff81827830f",
     "output_type": "error",
     "traceback": [
      "\u001b[0;31m---------------------------------------------------------------------------\u001b[0m",
      "\u001b[0;31mAttributeError\u001b[0m                            Traceback (most recent call last)",
      "Cell \u001b[0;32mIn[14], line 1\u001b[0m\n\u001b[0;32m----> 1\u001b[0m \u001b[43mreader\u001b[49m\u001b[38;5;241;43m.\u001b[39;49m\u001b[43mread\u001b[49m(\u001b[38;5;241m100\u001b[39m)\n",
      "File \u001b[0;32m/opt/anaconda3/envs/syft/lib/python3.12/site-packages/capnp/lib/capnp.pyx:1159\u001b[0m, in \u001b[0;36mcapnp.lib.capnp._DynamicStructReader.__getattr__\u001b[0;34m()\u001b[0m\n",
      "File \u001b[0;32m/opt/anaconda3/envs/syft/lib/python3.12/site-packages/capnp/lib/capnp.pyx:1157\u001b[0m, in \u001b[0;36mcapnp.lib.capnp._DynamicStructReader.__getattr__\u001b[0;34m()\u001b[0m\n",
      "File \u001b[0;32m/opt/anaconda3/envs/syft/lib/python3.12/site-packages/capnp/lib/capnp.pyx:1153\u001b[0m, in \u001b[0;36mcapnp.lib.capnp._DynamicStructReader._get\u001b[0;34m()\u001b[0m\n",
      "\u001b[0;31mAttributeError\u001b[0m: capnp/schema.c++:511: failed: struct has no such member; name = read\nstack: 11fc7b877 11fca160c 11fb0b22c 11fb34c3e 104a7101b 104b60f6b 104b3558c 104b2fe44 104b71e72 104a17afe 104a16bd9 104b72842 1049ff1c0 104b7374b 104a17afe 1057145aa 1057153d0 10571526a 104a6660c 104b9bb18 104b9ba05 104a66871 104b731b6 104b3558c 104b2fe44 104a66871 104b6df8c 104c24b7d 104c24638 10497b987 7ff81827830f"
     ]
    }
   ],
   "source": [
    "reader."
   ]
  },
  {
   "cell_type": "code",
   "execution_count": 2,
   "id": "4423b1a0",
   "metadata": {},
   "outputs": [
    {
     "name": "stdout",
     "output_type": "stream",
     "text": [
      "fqn='pandas.core.frame.DataFrame'\n",
      "<function serialize_dataframe at 0x137ff96c0> 2000000164\n"
     ]
    }
   ],
   "source": [
    "from syft.serde.recursive import recursive_scheme\n",
    "import gc\n",
    "\n",
    "num_mb = 2000\n",
    "\n",
    "df = pd.DataFrame({\"x\": np.random.random(125_000*num_mb)})\n",
    "proto = sy.serialize(df)"
   ]
  },
  {
   "cell_type": "code",
   "execution_count": 2,
   "id": "d864dcc3",
   "metadata": {},
   "outputs": [
    {
     "name": "stdout",
     "output_type": "stream",
     "text": [
      "Object `proto.to_bytes` not found.\n"
     ]
    }
   ],
   "source": [
    "x = proto.to_bytes??"
   ]
  },
  {
   "cell_type": "code",
   "execution_count": 4,
   "id": "8b2f4334",
   "metadata": {},
   "outputs": [
    {
     "name": "stderr",
     "output_type": "stream",
     "text": [
      "/var/folders/q1/ryq93kwj055dlbpngxv1c7z40000gn/T/ipykernel_22372/614175194.py:3: UserWarning: This message has already been written once. Be very careful that you're not setting Text/Struct/List fields more than once, since that will cause memory leaks (both in memory and in the serialized data). You can disable this warning by calling the `clear_write_flag` method of this object after every write.\n",
      "  y.append(proto.to_bytes())\n"
     ]
    },
    {
     "ename": "KeyboardInterrupt",
     "evalue": "",
     "output_type": "error",
     "traceback": [
      "\u001b[0;31m---------------------------------------------------------------------------\u001b[0m",
      "\u001b[0;31mKeyboardInterrupt\u001b[0m                         Traceback (most recent call last)",
      "Cell \u001b[0;32mIn[4], line 3\u001b[0m\n\u001b[1;32m      1\u001b[0m y\u001b[38;5;241m=\u001b[39m [] \n\u001b[1;32m      2\u001b[0m \u001b[38;5;28;01mfor\u001b[39;00m i \u001b[38;5;129;01min\u001b[39;00m \u001b[38;5;28mrange\u001b[39m(\u001b[38;5;241m50\u001b[39m):\n\u001b[0;32m----> 3\u001b[0m     y\u001b[38;5;241m.\u001b[39mappend(\u001b[43mproto\u001b[49m\u001b[38;5;241;43m.\u001b[39;49m\u001b[43mto_bytes\u001b[49m\u001b[43m(\u001b[49m\u001b[43m)\u001b[49m)\n",
      "\u001b[0;31mKeyboardInterrupt\u001b[0m: "
     ]
    }
   ],
   "source": [
    "y= [] \n",
    "for i in range(50):\n",
    "    y.append(proto.to_bytes())"
   ]
  },
  {
   "cell_type": "code",
   "execution_count": 4,
   "id": "7148fe7d",
   "metadata": {},
   "outputs": [
    {
     "ename": "NameError",
     "evalue": "name 'np' is not defined",
     "output_type": "error",
     "traceback": [
      "\u001b[0;31m---------------------------------------------------------------------------\u001b[0m",
      "\u001b[0;31mNameError\u001b[0m                                 Traceback (most recent call last)",
      "Cell \u001b[0;32mIn[4], line 6\u001b[0m\n\u001b[1;32m      2\u001b[0m \u001b[38;5;28;01mimport\u001b[39;00m \u001b[38;5;21;01mgc\u001b[39;00m\n\u001b[1;32m      4\u001b[0m num_mb \u001b[38;5;241m=\u001b[39m \u001b[38;5;241m5000\u001b[39m\n\u001b[0;32m----> 6\u001b[0m df \u001b[38;5;241m=\u001b[39m pd\u001b[38;5;241m.\u001b[39mDataFrame({\u001b[38;5;124m\"\u001b[39m\u001b[38;5;124mx\u001b[39m\u001b[38;5;124m\"\u001b[39m: \u001b[43mnp\u001b[49m\u001b[38;5;241m.\u001b[39mrandom\u001b[38;5;241m.\u001b[39mrandom(\u001b[38;5;241m125_000\u001b[39m\u001b[38;5;241m*\u001b[39mnum_mb)})\n\u001b[1;32m      7\u001b[0m proto \u001b[38;5;241m=\u001b[39m sy\u001b[38;5;241m.\u001b[39mserialize(df)\n\u001b[1;32m      9\u001b[0m segments: \u001b[38;5;28mlist\u001b[39m[\u001b[38;5;28mbytes\u001b[39m] \u001b[38;5;241m=\u001b[39m proto\u001b[38;5;241m.\u001b[39mto_segments()\n",
      "\u001b[0;31mNameError\u001b[0m: name 'np' is not defined"
     ]
    }
   ],
   "source": [
    "\n",
    "\n",
    "segments: list[bytes] = proto.to_segments()\n",
    "\n",
    "MAX_TRAVERSAL_LIMIT = 2**64 - 1\n",
    "\n",
    "msg = recursive_scheme.from_segments(segments, traversal_limit_in_words=MAX_TRAVERSAL_LIMIT)"
   ]
  },
  {
   "cell_type": "code",
   "execution_count": null,
   "id": "95d6c2ca",
   "metadata": {},
   "outputs": [],
   "source": []
  },
  {
   "cell_type": "code",
   "execution_count": 18,
   "id": "1275d1e6",
   "metadata": {},
   "outputs": [
    {
     "ename": "KeyboardInterrupt",
     "evalue": "",
     "output_type": "error",
     "traceback": [
      "\u001b[0;31m---------------------------------------------------------------------------\u001b[0m",
      "\u001b[0;31mKeyboardInterrupt\u001b[0m                         Traceback (most recent call last)",
      "Cell \u001b[0;32mIn[18], line 2\u001b[0m\n\u001b[1;32m      1\u001b[0m s \u001b[38;5;241m=\u001b[39m time()\n\u001b[0;32m----> 2\u001b[0m \u001b[43msy\u001b[49m\u001b[38;5;241;43m.\u001b[39;49m\u001b[43mserialize\u001b[49m\u001b[43m(\u001b[49m\u001b[43mprivate_high\u001b[49m\u001b[43m,\u001b[49m\u001b[43m \u001b[49m\u001b[43mto_bytes\u001b[49m\u001b[38;5;241;43m=\u001b[39;49m\u001b[38;5;28;43;01mTrue\u001b[39;49;00m\u001b[43m)\u001b[49m\n\u001b[1;32m      3\u001b[0m e \u001b[38;5;241m=\u001b[39m time()\n\u001b[1;32m      4\u001b[0m \u001b[38;5;28mprint\u001b[39m(e\u001b[38;5;241m-\u001b[39ms)\n",
      "File \u001b[0;32m~/workspace/PySyft/packages/syft/src/syft/serde/serialize.py:14\u001b[0m, in \u001b[0;36m_serialize\u001b[0;34m(obj, to_proto, to_bytes, for_hashing)\u001b[0m\n\u001b[1;32m      5\u001b[0m \u001b[38;5;28;01mdef\u001b[39;00m \u001b[38;5;21m_serialize\u001b[39m(\n\u001b[1;32m      6\u001b[0m     obj: \u001b[38;5;28mobject\u001b[39m,\n\u001b[1;32m      7\u001b[0m     to_proto: \u001b[38;5;28mbool\u001b[39m \u001b[38;5;241m=\u001b[39m \u001b[38;5;28;01mTrue\u001b[39;00m,\n\u001b[0;32m   (...)\u001b[0m\n\u001b[1;32m     10\u001b[0m ) \u001b[38;5;241m-\u001b[39m\u001b[38;5;241m>\u001b[39m Any:\n\u001b[1;32m     11\u001b[0m     \u001b[38;5;66;03m# relative\u001b[39;00m\n\u001b[1;32m     12\u001b[0m     \u001b[38;5;28;01mfrom\u001b[39;00m \u001b[38;5;21;01m.\u001b[39;00m\u001b[38;5;21;01mrecursive\u001b[39;00m \u001b[38;5;28;01mimport\u001b[39;00m rs_object2proto\n\u001b[0;32m---> 14\u001b[0m     proto \u001b[38;5;241m=\u001b[39m \u001b[43mrs_object2proto\u001b[49m\u001b[43m(\u001b[49m\u001b[43mobj\u001b[49m\u001b[43m,\u001b[49m\u001b[43m \u001b[49m\u001b[43mfor_hashing\u001b[49m\u001b[38;5;241;43m=\u001b[39;49m\u001b[43mfor_hashing\u001b[49m\u001b[43m)\u001b[49m\n\u001b[1;32m     16\u001b[0m     \u001b[38;5;28;01mif\u001b[39;00m to_bytes:\n\u001b[1;32m     17\u001b[0m         \u001b[38;5;28;01mreturn\u001b[39;00m proto\u001b[38;5;241m.\u001b[39mto_bytes()\n",
      "File \u001b[0;32m~/workspace/PySyft/packages/syft/src/syft/serde/recursive.py:218\u001b[0m, in \u001b[0;36mrs_object2proto\u001b[0;34m(self, for_hashing)\u001b[0m\n\u001b[1;32m    214\u001b[0m     \u001b[38;5;28;01mif\u001b[39;00m serialize \u001b[38;5;129;01mis\u001b[39;00m \u001b[38;5;28;01mNone\u001b[39;00m:\n\u001b[1;32m    215\u001b[0m         \u001b[38;5;28;01mraise\u001b[39;00m \u001b[38;5;167;01mException\u001b[39;00m(\n\u001b[1;32m    216\u001b[0m             \u001b[38;5;124mf\u001b[39m\u001b[38;5;124m\"\u001b[39m\u001b[38;5;124mCant serialize \u001b[39m\u001b[38;5;132;01m{\u001b[39;00m\u001b[38;5;28mtype\u001b[39m(\u001b[38;5;28mself\u001b[39m)\u001b[38;5;132;01m}\u001b[39;00m\u001b[38;5;124m nonrecursive without serialize.\u001b[39m\u001b[38;5;124m\"\u001b[39m\n\u001b[1;32m    217\u001b[0m         )\n\u001b[0;32m--> 218\u001b[0m     chunk_bytes(\u001b[43mserialize\u001b[49m\u001b[43m(\u001b[49m\u001b[38;5;28;43mself\u001b[39;49m\u001b[43m)\u001b[49m, \u001b[38;5;124m\"\u001b[39m\u001b[38;5;124mnonrecursiveBlob\u001b[39m\u001b[38;5;124m\"\u001b[39m, msg)\n\u001b[1;32m    219\u001b[0m     \u001b[38;5;28;01mreturn\u001b[39;00m msg\n\u001b[1;32m    221\u001b[0m \u001b[38;5;28;01mif\u001b[39;00m attribute_list \u001b[38;5;129;01mis\u001b[39;00m \u001b[38;5;28;01mNone\u001b[39;00m:\n",
      "File \u001b[0;32m~/workspace/PySyft/packages/syft/src/syft/serde/arrow.py:114\u001b[0m, in \u001b[0;36mnumpy_serialize\u001b[0;34m(obj)\u001b[0m\n\u001b[1;32m    112\u001b[0m \u001b[38;5;28;01mdef\u001b[39;00m \u001b[38;5;21mnumpy_serialize\u001b[39m(obj: np\u001b[38;5;241m.\u001b[39mndarray) \u001b[38;5;241m-\u001b[39m\u001b[38;5;241m>\u001b[39m \u001b[38;5;28mbytes\u001b[39m:\n\u001b[1;32m    113\u001b[0m     \u001b[38;5;28;01mif\u001b[39;00m obj\u001b[38;5;241m.\u001b[39mdtype\u001b[38;5;241m.\u001b[39mtype \u001b[38;5;241m!=\u001b[39m np\u001b[38;5;241m.\u001b[39mstr_:\n\u001b[0;32m--> 114\u001b[0m         \u001b[38;5;28;01mreturn\u001b[39;00m \u001b[43marrow_serialize\u001b[49m\u001b[43m(\u001b[49m\u001b[43mobj\u001b[49m\u001b[43m)\u001b[49m\n\u001b[1;32m    115\u001b[0m     \u001b[38;5;28;01melse\u001b[39;00m:\n\u001b[1;32m    116\u001b[0m         \u001b[38;5;28;01mreturn\u001b[39;00m arraytonumpyutf8(obj)\n",
      "File \u001b[0;32m~/workspace/PySyft/packages/syft/src/syft/serde/arrow.py:29\u001b[0m, in \u001b[0;36marrow_serialize\u001b[0;34m(obj)\u001b[0m\n\u001b[1;32m     24\u001b[0m     numpy_bytes \u001b[38;5;241m=\u001b[39m pa\u001b[38;5;241m.\u001b[39mcompress(\n\u001b[1;32m     25\u001b[0m         buffer, asbytes\u001b[38;5;241m=\u001b[39m\u001b[38;5;28;01mTrue\u001b[39;00m, codec\u001b[38;5;241m=\u001b[39mflags\u001b[38;5;241m.\u001b[39mAPACHE_ARROW_COMPRESSION\u001b[38;5;241m.\u001b[39mvalue\n\u001b[1;32m     26\u001b[0m     )\n\u001b[1;32m     27\u001b[0m dtype \u001b[38;5;241m=\u001b[39m original_dtype\u001b[38;5;241m.\u001b[39mname\n\u001b[0;32m---> 29\u001b[0m \u001b[38;5;28;01mreturn\u001b[39;00m cast(\u001b[38;5;28mbytes\u001b[39m, \u001b[43m_serialize\u001b[49m\u001b[43m(\u001b[49m\u001b[43m(\u001b[49m\u001b[43mnumpy_bytes\u001b[49m\u001b[43m,\u001b[49m\u001b[43m \u001b[49m\u001b[43mbuffer\u001b[49m\u001b[38;5;241;43m.\u001b[39;49m\u001b[43msize\u001b[49m\u001b[43m,\u001b[49m\u001b[43m \u001b[49m\u001b[43mdtype\u001b[49m\u001b[43m)\u001b[49m\u001b[43m,\u001b[49m\u001b[43m \u001b[49m\u001b[43mto_bytes\u001b[49m\u001b[38;5;241;43m=\u001b[39;49m\u001b[38;5;28;43;01mTrue\u001b[39;49;00m\u001b[43m)\u001b[49m)\n",
      "File \u001b[0;32m~/workspace/PySyft/packages/syft/src/syft/serde/serialize.py:14\u001b[0m, in \u001b[0;36m_serialize\u001b[0;34m(obj, to_proto, to_bytes, for_hashing)\u001b[0m\n\u001b[1;32m      5\u001b[0m \u001b[38;5;28;01mdef\u001b[39;00m \u001b[38;5;21m_serialize\u001b[39m(\n\u001b[1;32m      6\u001b[0m     obj: \u001b[38;5;28mobject\u001b[39m,\n\u001b[1;32m      7\u001b[0m     to_proto: \u001b[38;5;28mbool\u001b[39m \u001b[38;5;241m=\u001b[39m \u001b[38;5;28;01mTrue\u001b[39;00m,\n\u001b[0;32m   (...)\u001b[0m\n\u001b[1;32m     10\u001b[0m ) \u001b[38;5;241m-\u001b[39m\u001b[38;5;241m>\u001b[39m Any:\n\u001b[1;32m     11\u001b[0m     \u001b[38;5;66;03m# relative\u001b[39;00m\n\u001b[1;32m     12\u001b[0m     \u001b[38;5;28;01mfrom\u001b[39;00m \u001b[38;5;21;01m.\u001b[39;00m\u001b[38;5;21;01mrecursive\u001b[39;00m \u001b[38;5;28;01mimport\u001b[39;00m rs_object2proto\n\u001b[0;32m---> 14\u001b[0m     proto \u001b[38;5;241m=\u001b[39m \u001b[43mrs_object2proto\u001b[49m\u001b[43m(\u001b[49m\u001b[43mobj\u001b[49m\u001b[43m,\u001b[49m\u001b[43m \u001b[49m\u001b[43mfor_hashing\u001b[49m\u001b[38;5;241;43m=\u001b[39;49m\u001b[43mfor_hashing\u001b[49m\u001b[43m)\u001b[49m\n\u001b[1;32m     16\u001b[0m     \u001b[38;5;28;01mif\u001b[39;00m to_bytes:\n\u001b[1;32m     17\u001b[0m         \u001b[38;5;28;01mreturn\u001b[39;00m proto\u001b[38;5;241m.\u001b[39mto_bytes()\n",
      "File \u001b[0;32m~/workspace/PySyft/packages/syft/src/syft/serde/recursive.py:218\u001b[0m, in \u001b[0;36mrs_object2proto\u001b[0;34m(self, for_hashing)\u001b[0m\n\u001b[1;32m    214\u001b[0m     \u001b[38;5;28;01mif\u001b[39;00m serialize \u001b[38;5;129;01mis\u001b[39;00m \u001b[38;5;28;01mNone\u001b[39;00m:\n\u001b[1;32m    215\u001b[0m         \u001b[38;5;28;01mraise\u001b[39;00m \u001b[38;5;167;01mException\u001b[39;00m(\n\u001b[1;32m    216\u001b[0m             \u001b[38;5;124mf\u001b[39m\u001b[38;5;124m\"\u001b[39m\u001b[38;5;124mCant serialize \u001b[39m\u001b[38;5;132;01m{\u001b[39;00m\u001b[38;5;28mtype\u001b[39m(\u001b[38;5;28mself\u001b[39m)\u001b[38;5;132;01m}\u001b[39;00m\u001b[38;5;124m nonrecursive without serialize.\u001b[39m\u001b[38;5;124m\"\u001b[39m\n\u001b[1;32m    217\u001b[0m         )\n\u001b[0;32m--> 218\u001b[0m     chunk_bytes(\u001b[43mserialize\u001b[49m\u001b[43m(\u001b[49m\u001b[38;5;28;43mself\u001b[39;49m\u001b[43m)\u001b[49m, \u001b[38;5;124m\"\u001b[39m\u001b[38;5;124mnonrecursiveBlob\u001b[39m\u001b[38;5;124m\"\u001b[39m, msg)\n\u001b[1;32m    219\u001b[0m     \u001b[38;5;28;01mreturn\u001b[39;00m msg\n\u001b[1;32m    221\u001b[0m \u001b[38;5;28;01mif\u001b[39;00m attribute_list \u001b[38;5;129;01mis\u001b[39;00m \u001b[38;5;28;01mNone\u001b[39;00m:\n",
      "File \u001b[0;32m~/workspace/PySyft/packages/syft/src/syft/serde/recursive_primitives.py:47\u001b[0m, in \u001b[0;36mserialize_iterable\u001b[0;34m(iterable)\u001b[0m\n\u001b[1;32m     44\u001b[0m message\u001b[38;5;241m.\u001b[39minit(\u001b[38;5;124m\"\u001b[39m\u001b[38;5;124mvalues\u001b[39m\u001b[38;5;124m\"\u001b[39m, \u001b[38;5;28mlen\u001b[39m(iterable))\n\u001b[1;32m     46\u001b[0m \u001b[38;5;28;01mfor\u001b[39;00m idx, it \u001b[38;5;129;01min\u001b[39;00m \u001b[38;5;28menumerate\u001b[39m(iterable):\n\u001b[0;32m---> 47\u001b[0m     serialized \u001b[38;5;241m=\u001b[39m \u001b[43m_serialize\u001b[49m\u001b[43m(\u001b[49m\u001b[43mit\u001b[49m\u001b[43m,\u001b[49m\u001b[43m \u001b[49m\u001b[43mto_bytes\u001b[49m\u001b[38;5;241;43m=\u001b[39;49m\u001b[38;5;28;43;01mTrue\u001b[39;49;00m\u001b[43m)\u001b[49m\n\u001b[1;32m     48\u001b[0m     chunk_bytes(serialized, idx, message\u001b[38;5;241m.\u001b[39mvalues)\n\u001b[1;32m     50\u001b[0m \u001b[38;5;28;01mreturn\u001b[39;00m message\u001b[38;5;241m.\u001b[39mto_bytes()\n",
      "File \u001b[0;32m~/workspace/PySyft/packages/syft/src/syft/serde/serialize.py:17\u001b[0m, in \u001b[0;36m_serialize\u001b[0;34m(obj, to_proto, to_bytes, for_hashing)\u001b[0m\n\u001b[1;32m     14\u001b[0m proto \u001b[38;5;241m=\u001b[39m rs_object2proto(obj, for_hashing\u001b[38;5;241m=\u001b[39mfor_hashing)\n\u001b[1;32m     16\u001b[0m \u001b[38;5;28;01mif\u001b[39;00m to_bytes:\n\u001b[0;32m---> 17\u001b[0m     \u001b[38;5;28;01mreturn\u001b[39;00m \u001b[43mproto\u001b[49m\u001b[38;5;241;43m.\u001b[39;49m\u001b[43mto_bytes\u001b[49m\u001b[43m(\u001b[49m\u001b[43m)\u001b[49m\n\u001b[1;32m     19\u001b[0m \u001b[38;5;28;01mif\u001b[39;00m to_proto:\n\u001b[1;32m     20\u001b[0m     \u001b[38;5;28;01mreturn\u001b[39;00m proto\n",
      "\u001b[0;31mKeyboardInterrupt\u001b[0m: "
     ]
    }
   ],
   "source": [
    "s = time()\n",
    "sy.serialize(private_high, to_bytes=True)\n",
    "e = time()\n",
    "print(e-s)"
   ]
  },
  {
   "cell_type": "code",
   "execution_count": 4,
   "id": "4dbc5853",
   "metadata": {},
   "outputs": [
    {
     "ename": "NameError",
     "evalue": "name 'sy' is not defined",
     "output_type": "error",
     "traceback": [
      "\u001b[0;31m---------------------------------------------------------------------------\u001b[0m",
      "\u001b[0;31mNameError\u001b[0m                                 Traceback (most recent call last)",
      "Cell \u001b[0;32mIn[4], line 1\u001b[0m\n\u001b[0;32m----> 1\u001b[0m \u001b[43msy\u001b[49m\u001b[38;5;241m.\u001b[39mserialize\n",
      "\u001b[0;31mNameError\u001b[0m: name 'sy' is not defined"
     ]
    }
   ],
   "source": [
    "sy.serialize"
   ]
  },
  {
   "cell_type": "code",
   "execution_count": null,
   "id": "affab531",
   "metadata": {},
   "outputs": [],
   "source": []
  }
 ],
 "metadata": {
  "kernelspec": {
   "display_name": "Python 3 (ipykernel)",
   "language": "python",
   "name": "python3"
  },
  "language_info": {
   "codemirror_mode": {
    "name": "ipython",
    "version": 3
   },
   "file_extension": ".py",
   "mimetype": "text/x-python",
   "name": "python",
   "nbconvert_exporter": "python",
   "pygments_lexer": "ipython3",
   "version": "3.12.2"
  },
  "toc": {
   "base_numbering": 1,
   "nav_menu": {},
   "number_sections": true,
   "sideBar": true,
   "skip_h1_title": false,
   "title_cell": "Table of Contents",
   "title_sidebar": "Contents",
   "toc_cell": false,
   "toc_position": {},
   "toc_section_display": true,
   "toc_window_display": true
  }
 },
 "nbformat": 4,
 "nbformat_minor": 5
}
